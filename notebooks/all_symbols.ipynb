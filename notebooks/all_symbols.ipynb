{
 "cells": [
  {
   "cell_type": "code",
   "execution_count": 1,
   "metadata": {},
   "outputs": [],
   "source": [
    "%load_ext autoreload\n",
    "%autoreload 2\n",
    "\n",
    "from humbldata.core.utils.openbb_helpers import obb_login\n",
    "from openbb import obb\n",
    "from humbldata.core.utils.env import Env\n",
    "import polars as pl\n",
    "\n",
    "# obb_login()\n",
    "obb.account.login(pat=Env().OBB_PAT, remember_me=True)"
   ]
  },
  {
   "cell_type": "markdown",
   "metadata": {},
   "source": [
    "## Collect NASDAQ and SEC Symbols"
   ]
  },
  {
   "cell_type": "code",
   "execution_count": null,
   "metadata": {},
   "outputs": [],
   "source": [
    "all_companies = obb.equity.search(\"\", provider=\"sec\")\n",
    "all_companies2 = obb.equity.search(\"\", provider=\"nasdaq\")\n",
    "sec_symbols = all_companies.to_polars().select([\"symbol\", \"name\"])\n",
    "nasdaq_symbols = all_companies2.to_polars().select([\"symbol\", \"name\"])"
   ]
  },
  {
   "cell_type": "markdown",
   "metadata": {},
   "source": [
    "#### Combine SEC Symbols and NASDAQ Symbols"
   ]
  },
  {
   "cell_type": "code",
   "execution_count": null,
   "metadata": {},
   "outputs": [],
   "source": [
    "# Assuming sec_symbols and nasdaq_symbols are Polars DataFrames with 'symbol' and 'name' columns\n",
    "all_symbols = sec_symbols.join(\n",
    "    nasdaq_symbols, on=\"symbol\", how=\"full\", coalesce=True\n",
    ").with_columns([\n",
    "    pl.coalesce(\"name\", \"name_right\").alias(\"name\"),\n",
    "]).drop([\"name_right\"]).filter(pl.col(\"symbol\").is_not_null())\n",
    "\n",
    "# Display the first few rows of the combined DataFrame\n",
    "all_symbols"
   ]
  },
  {
   "cell_type": "markdown",
   "metadata": {},
   "source": [
    "#### Find Symbols in SEC that are NOT in NASDAQ"
   ]
  },
  {
   "cell_type": "code",
   "execution_count": null,
   "metadata": {},
   "outputs": [],
   "source": [
    "# Assuming sec_symbols and nasdaq_symbols are Polars DataFrames with 'symbol' and 'name' columns\n",
    "# Find the symbols in sec_symbols that are not in nasdaq_symbols\n",
    "diff_symbols = (\n",
    "    sec_symbols\n",
    "    .join(nasdaq_symbols, on=\"symbol\", how=\"anti\")\n",
    "    .select([\"symbol\", \"name\"])\n",
    "    .unique(subset=\"symbol\")\n",
    ")\n",
    "\n",
    "# Print the number of non-overlapping symbols\n",
    "print(f\"Number of non-overlapping symbols: {diff_symbols.height}\")\n",
    "\n",
    "# Display the resulting DataFrame\n",
    "diff_symbols"
   ]
  },
  {
   "cell_type": "markdown",
   "metadata": {},
   "source": [
    "## Collect `yfinance` & CBOE Indicies"
   ]
  },
  {
   "cell_type": "code",
   "execution_count": null,
   "metadata": {},
   "outputs": [],
   "source": [
    "cboe_indices = obb.index.available(provider=\"cboe\").to_polars()\n",
    "yfinance_indices = obb.index.available(provider=\"yfinance\").to_polars()\n",
    "\n",
    "all_indices = cboe_indices.join(yfinance_indices, on=\"symbol\", how=\"anti\").select([\"symbol\", \"name\"])\n",
    "all_indices\n",
    "\n"
   ]
  }
 ],
 "metadata": {
  "kernelspec": {
   "display_name": "Python 3",
   "language": "python",
   "name": "python3"
  },
  "language_info": {
   "codemirror_mode": {
    "name": "ipython",
    "version": 3
   },
   "file_extension": ".py",
   "mimetype": "text/x-python",
   "name": "python",
   "nbconvert_exporter": "python",
   "pygments_lexer": "ipython3",
   "version": "3.12.7"
  }
 },
 "nbformat": 4,
 "nbformat_minor": 2
}
