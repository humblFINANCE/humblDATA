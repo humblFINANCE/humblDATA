{
 "cells": [
  {
   "cell_type": "markdown",
   "metadata": {},
   "source": [
    "# How to Use: `calc_humbl_channel`\n"
   ]
  },
  {
   "cell_type": "markdown",
   "metadata": {},
   "source": [
    "## Log into OpenBB"
   ]
  },
  {
   "cell_type": "code",
   "execution_count": 1,
   "metadata": {},
   "outputs": [],
   "source": [
    "%load_ext autoreload\n",
    "%autoreload 2\n",
    "\n",
    "from openbb import obb\n",
    "\n",
    "from humbldata.core.utils.env import Env\n",
    "from humbldata.core.utils.openbb_helpers import obb_login\n",
    "\n",
    "# obb_login()\n",
    "obb.account.login(pat=Env().OBB_PAT, remember_me=True)\n"
   ]
  },
  {
   "cell_type": "markdown",
   "metadata": {},
   "source": [
    "## Collect Data"
   ]
  },
  {
   "cell_type": "code",
   "execution_count": 23,
   "metadata": {},
   "outputs": [],
   "source": [
    "from humbldata.toolbox.technical.humbl_channel.helpers import add_window_index\n",
    "from humbldata.toolbox.toolbox_helpers import log_returns\n",
    "\n",
    "symbols = [\"AAPL\", \"PCT\", \"NVDA\", \"SMCI\", \"TSLA\", \"AMD\", \"SPY\", \"GLD\", \"BTC-USD\", \"ETH-USD\"]\n",
    "rr_list = [\"MSFT\", \"AAPL\", \"AMZN\", \"META\", \"GOOGL\", \"NFLX\", \"TSLA\", \"NVDA\"]\n",
    "sector_symbols = [\n",
    "    \"XLF\",\n",
    "    \"XLU\",\n",
    "    \"XLK\",\n",
    "    \"XLE\",\n",
    "    \"XLI\",\n",
    "    \"XLV\",\n",
    "    \"XLY\",\n",
    "    \"XLP\",\n",
    "    \"XLB\",\n",
    "    \"XLRE\",\n",
    "    \"XTL\"\n",
    "]\n",
    "simple= [\"AAPL\", \"AMZN\", \"AMD\"]\n",
    "\n",
    "\n",
    "data = (\n",
    "    obb.equity.price.historical(\n",
    "        \"MP\",\n",
    "        provider=\"yfinance\",\n",
    "        start_date=\"2000-01-01\",\n",
    "        end_date=\"2025-04-16\",\n",
    "        adjustment=\"splits_and_dividends\",\n",
    "    ).to_polars()\n",
    ")\n",
    "\n",
    "data = log_returns(data, _column_name=\"close\")\n"
   ]
  },
  {
   "cell_type": "code",
   "execution_count": 24,
   "metadata": {},
   "outputs": [
    {
     "data": {
      "text/html": [
       "<div><style>\n",
       ".dataframe > thead > tr,\n",
       ".dataframe > tbody > tr {\n",
       "  text-align: right;\n",
       "  white-space: pre-wrap;\n",
       "}\n",
       "</style>\n",
       "<small>shape: (1_211, 7)</small><table border=\"1\" class=\"dataframe\"><thead><tr><th>date</th><th>open</th><th>high</th><th>low</th><th>close</th><th>volume</th><th>log_returns</th></tr><tr><td>date</td><td>f64</td><td>f64</td><td>f64</td><td>f64</td><td>i64</td><td>f64</td></tr></thead><tbody><tr><td>2020-06-23</td><td>10.0</td><td>10.075</td><td>9.91</td><td>9.91</td><td>1100</td><td>-0.009041</td></tr><tr><td>2020-06-24</td><td>9.8</td><td>9.8</td><td>9.78</td><td>9.78</td><td>400100</td><td>-0.013205</td></tr><tr><td>2020-06-25</td><td>9.8</td><td>9.9</td><td>9.8</td><td>9.9</td><td>143900</td><td>0.012195</td></tr><tr><td>2020-06-26</td><td>10.0</td><td>10.055</td><td>9.94</td><td>9.94</td><td>400</td><td>0.004032</td></tr><tr><td>2020-06-29</td><td>9.99</td><td>10.03</td><td>9.95</td><td>9.969</td><td>11400</td><td>0.002913</td></tr><tr><td>&hellip;</td><td>&hellip;</td><td>&hellip;</td><td>&hellip;</td><td>&hellip;</td><td>&hellip;</td><td>&hellip;</td></tr><tr><td>2025-04-10</td><td>23.290001</td><td>23.92</td><td>22.639999</td><td>23.540001</td><td>3836400</td><td>-0.011404</td></tr><tr><td>2025-04-11</td><td>23.040001</td><td>23.49</td><td>21.559999</td><td>22.68</td><td>9026500</td><td>-0.037218</td></tr><tr><td>2025-04-14</td><td>25.190001</td><td>28.403</td><td>24.58</td><td>27.59</td><td>23657200</td><td>0.19597</td></tr><tr><td>2025-04-15</td><td>29.280001</td><td>29.719999</td><td>24.85</td><td>25.07</td><td>15803200</td><td>-0.095781</td></tr><tr><td>2025-04-16</td><td>26.07</td><td>29.129999</td><td>25.825001</td><td>27.23</td><td>16603595</td><td>0.082647</td></tr></tbody></table></div>"
      ],
      "text/plain": [
       "shape: (1_211, 7)\n",
       "┌────────────┬───────────┬───────────┬───────────┬───────────┬──────────┬─────────────┐\n",
       "│ date       ┆ open      ┆ high      ┆ low       ┆ close     ┆ volume   ┆ log_returns │\n",
       "│ ---        ┆ ---       ┆ ---       ┆ ---       ┆ ---       ┆ ---      ┆ ---         │\n",
       "│ date       ┆ f64       ┆ f64       ┆ f64       ┆ f64       ┆ i64      ┆ f64         │\n",
       "╞════════════╪═══════════╪═══════════╪═══════════╪═══════════╪══════════╪═════════════╡\n",
       "│ 2020-06-23 ┆ 10.0      ┆ 10.075    ┆ 9.91      ┆ 9.91      ┆ 1100     ┆ -0.009041   │\n",
       "│ 2020-06-24 ┆ 9.8       ┆ 9.8       ┆ 9.78      ┆ 9.78      ┆ 400100   ┆ -0.013205   │\n",
       "│ 2020-06-25 ┆ 9.8       ┆ 9.9       ┆ 9.8       ┆ 9.9       ┆ 143900   ┆ 0.012195    │\n",
       "│ 2020-06-26 ┆ 10.0      ┆ 10.055    ┆ 9.94      ┆ 9.94      ┆ 400      ┆ 0.004032    │\n",
       "│ 2020-06-29 ┆ 9.99      ┆ 10.03     ┆ 9.95      ┆ 9.969     ┆ 11400    ┆ 0.002913    │\n",
       "│ …          ┆ …         ┆ …         ┆ …         ┆ …         ┆ …        ┆ …           │\n",
       "│ 2025-04-10 ┆ 23.290001 ┆ 23.92     ┆ 22.639999 ┆ 23.540001 ┆ 3836400  ┆ -0.011404   │\n",
       "│ 2025-04-11 ┆ 23.040001 ┆ 23.49     ┆ 21.559999 ┆ 22.68     ┆ 9026500  ┆ -0.037218   │\n",
       "│ 2025-04-14 ┆ 25.190001 ┆ 28.403    ┆ 24.58     ┆ 27.59     ┆ 23657200 ┆ 0.19597     │\n",
       "│ 2025-04-15 ┆ 29.280001 ┆ 29.719999 ┆ 24.85     ┆ 25.07     ┆ 15803200 ┆ -0.095781   │\n",
       "│ 2025-04-16 ┆ 26.07     ┆ 29.129999 ┆ 25.825001 ┆ 27.23     ┆ 16603595 ┆ 0.082647    │\n",
       "└────────────┴───────────┴───────────┴───────────┴───────────┴──────────┴─────────────┘"
      ]
     },
     "execution_count": 24,
     "metadata": {},
     "output_type": "execute_result"
    }
   ],
   "source": [
    "data"
   ]
  },
  {
   "cell_type": "markdown",
   "metadata": {},
   "source": [
    "## Calculate Mandelbrot Channel\n"
   ]
  },
  {
   "cell_type": "code",
   "execution_count": 14,
   "metadata": {},
   "outputs": [],
   "source": [
    "from humbldata.toolbox.technical.humbl_channel.model import calc_humbl_channel\n",
    "\n",
    "\n",
    "mandelbrot = calc_humbl_channel(\n",
    "    data,\n",
    "    window=\"1m\",\n",
    "    rv_adjustment=True,\n",
    "    rv_method=\"yz\",\n",
    "    rv_grouped_mean=False,\n",
    "    rs_method=\"RS\",\n",
    "    live_price=True\n",
    ").collect()\n"
   ]
  },
  {
   "cell_type": "code",
   "execution_count": 13,
   "metadata": {},
   "outputs": [
    {
     "data": {
      "text/html": [
       "<div><style>\n",
       ".dataframe > thead > tr,\n",
       ".dataframe > tbody > tr {\n",
       "  text-align: right;\n",
       "  white-space: pre-wrap;\n",
       "}\n",
       "</style>\n",
       "<small>shape: (5, 5)</small><table border=\"1\" class=\"dataframe\"><thead><tr><th>date</th><th>symbol</th><th>bottom_price</th><th>recent_price</th><th>top_price</th></tr><tr><td>date</td><td>str</td><td>f64</td><td>f64</td><td>f64</td></tr></thead><tbody><tr><td>2023-12-29</td><td>&quot;AAPL&quot;</td><td>216.1965</td><td>216.67</td><td>225.1068</td></tr><tr><td>2023-12-29</td><td>&quot;AMD&quot;</td><td>147.4549</td><td>158.4</td><td>161.7655</td></tr><tr><td>2023-12-29</td><td>&quot;AMZN&quot;</td><td>180.0482</td><td>184.06</td><td>189.3734</td></tr><tr><td>2023-12-29</td><td>&quot;GOOGL&quot;</td><td>171.1965</td><td>177.24</td><td>179.6634</td></tr><tr><td>2023-12-29</td><td>&quot;PCT&quot;</td><td>3.5021</td><td>5.98</td><td>7.6052</td></tr></tbody></table></div>"
      ],
      "text/plain": [
       "shape: (5, 5)\n",
       "┌────────────┬────────┬──────────────┬──────────────┬───────────┐\n",
       "│ date       ┆ symbol ┆ bottom_price ┆ recent_price ┆ top_price │\n",
       "│ ---        ┆ ---    ┆ ---          ┆ ---          ┆ ---       │\n",
       "│ date       ┆ str    ┆ f64          ┆ f64          ┆ f64       │\n",
       "╞════════════╪════════╪══════════════╪══════════════╪═══════════╡\n",
       "│ 2023-12-29 ┆ AAPL   ┆ 216.1965     ┆ 216.67       ┆ 225.1068  │\n",
       "│ 2023-12-29 ┆ AMD    ┆ 147.4549     ┆ 158.4        ┆ 161.7655  │\n",
       "│ 2023-12-29 ┆ AMZN   ┆ 180.0482     ┆ 184.06       ┆ 189.3734  │\n",
       "│ 2023-12-29 ┆ GOOGL  ┆ 171.1965     ┆ 177.24       ┆ 179.6634  │\n",
       "│ 2023-12-29 ┆ PCT    ┆ 3.5021       ┆ 5.98         ┆ 7.6052    │\n",
       "└────────────┴────────┴──────────────┴──────────────┴───────────┘"
      ]
     },
     "execution_count": 13,
     "metadata": {},
     "output_type": "execute_result"
    }
   ],
   "source": [
    "mandelbrot"
   ]
  },
  {
   "cell_type": "markdown",
   "metadata": {},
   "source": [
    "## Find Prices Near the Top/Bottom of the Channel"
   ]
  },
  {
   "cell_type": "code",
   "execution_count": null,
   "metadata": {},
   "outputs": [],
   "source": [
    "mandelbrot_historical.filter(\n",
    "    (pl.col(\"close\") >= pl.col(\"top_price\") * 0.975)\n",
    "    & (pl.col(\"close\") <= pl.col(\"bottom_price\") * 1.025)\n",
    ")\n"
   ]
  }
 ],
 "metadata": {
  "kernelspec": {
   "display_name": "Python 3",
   "language": "python",
   "name": "python3"
  },
  "language_info": {
   "codemirror_mode": {
    "name": "ipython",
    "version": 3
   },
   "file_extension": ".py",
   "mimetype": "text/x-python",
   "name": "python",
   "nbconvert_exporter": "python",
   "pygments_lexer": "ipython3",
   "version": "3.12.9"
  }
 },
 "nbformat": 4,
 "nbformat_minor": 2
}
