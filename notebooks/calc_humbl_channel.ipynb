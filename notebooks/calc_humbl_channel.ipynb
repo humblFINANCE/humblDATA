{
 "cells": [
  {
   "cell_type": "markdown",
   "metadata": {},
   "source": [
    "# How to Use: `calc_humbl_channel`\n"
   ]
  },
  {
   "cell_type": "markdown",
   "metadata": {},
   "source": [
    "## Log into OpenBB"
   ]
  },
  {
   "cell_type": "code",
   "execution_count": 1,
   "metadata": {},
   "outputs": [],
   "source": [
    "%load_ext autoreload\n",
    "%autoreload 2\n",
    "\n",
    "from openbb import obb\n",
    "\n",
    "from humbldata.core.utils.env import Env\n",
    "from humbldata.core.utils.openbb_helpers import obb_login\n",
    "\n",
    "# obb_login()\n",
    "obb.account.login(pat=Env().OBB_PAT, remember_me=True)\n"
   ]
  },
  {
   "cell_type": "code",
   "execution_count": 3,
   "metadata": {},
   "outputs": [],
   "source": [
    "import openbb\n",
    "openbb.build()"
   ]
  },
  {
   "cell_type": "code",
   "execution_count": 2,
   "metadata": {},
   "outputs": [],
   "source": [
    "from openbb import obb"
   ]
  },
  {
   "cell_type": "code",
   "execution_count": 3,
   "metadata": {},
   "outputs": [
    {
     "ename": "ImportError",
     "evalue": "cannot import name 'EquityInfo' from 'typing' (/Users/jjfantini/.local/share/uv/python/cpython-3.12.10-macos-aarch64-none/lib/python3.12/typing.py)",
     "output_type": "error",
     "traceback": [
      "\u001b[31m---------------------------------------------------------------------------\u001b[39m",
      "\u001b[31mImportError\u001b[39m                               Traceback (most recent call last)",
      "\u001b[36mCell\u001b[39m\u001b[36m \u001b[39m\u001b[32mIn[3]\u001b[39m\u001b[32m, line 1\u001b[39m\n\u001b[32m----> \u001b[39m\u001b[32m1\u001b[39m \u001b[43mobb\u001b[49m\u001b[43m.\u001b[49m\u001b[43mequity\u001b[49m.price.historical(\u001b[33m\"\u001b[39m\u001b[33mAAPL\u001b[39m\u001b[33m\"\u001b[39m, start_date=\u001b[33m\"\u001b[39m\u001b[33m2022-01-01\u001b[39m\u001b[33m\"\u001b[39m, end_date=\u001b[33m\"\u001b[39m\u001b[33m2022-01-31\u001b[39m\u001b[33m\"\u001b[39m)\n",
      "\u001b[36mFile \u001b[39m\u001b[32m~/github/humblFINANCE-org/humblDATA/.venv/lib/python3.12/site-packages/openbb/package/__extensions__.py:127\u001b[39m, in \u001b[36mExtensions.equity\u001b[39m\u001b[34m(self)\u001b[39m\n\u001b[32m    124\u001b[39m \u001b[38;5;129m@property\u001b[39m\n\u001b[32m    125\u001b[39m \u001b[38;5;28;01mdef\u001b[39;00m\u001b[38;5;250m \u001b[39m\u001b[34mequity\u001b[39m(\u001b[38;5;28mself\u001b[39m):\n\u001b[32m    126\u001b[39m     \u001b[38;5;66;03m# pylint: disable=import-outside-toplevel\u001b[39;00m\n\u001b[32m--> \u001b[39m\u001b[32m127\u001b[39m     \u001b[38;5;28;01mfrom\u001b[39;00m\u001b[38;5;250m \u001b[39m\u001b[34;01m.\u001b[39;00m\u001b[38;5;250m \u001b[39m\u001b[38;5;28;01mimport\u001b[39;00m equity\n\u001b[32m    129\u001b[39m     \u001b[38;5;28;01mreturn\u001b[39;00m equity.ROUTER_equity(command_runner=\u001b[38;5;28mself\u001b[39m._command_runner)\n",
      "\u001b[36mFile \u001b[39m\u001b[32m~/github/humblFINANCE-org/humblDATA/.venv/lib/python3.12/site-packages/openbb/package/equity.py:7\u001b[39m\n\u001b[32m      5\u001b[39m \u001b[38;5;28;01mfrom\u001b[39;00m\u001b[38;5;250m \u001b[39m\u001b[34;01mdatetime\u001b[39;00m\u001b[38;5;250m \u001b[39m\u001b[38;5;28;01mimport\u001b[39;00m date\n\u001b[32m      6\u001b[39m \u001b[38;5;28;01mfrom\u001b[39;00m\u001b[38;5;250m \u001b[39m\u001b[34;01minspect\u001b[39;00m\u001b[38;5;250m \u001b[39m\u001b[38;5;28;01mimport\u001b[39;00m Parameter\n\u001b[32m----> \u001b[39m\u001b[32m7\u001b[39m \u001b[38;5;28;01mfrom\u001b[39;00m\u001b[38;5;250m \u001b[39m\u001b[34;01mtyping\u001b[39;00m\u001b[38;5;250m \u001b[39m\u001b[38;5;28;01mimport\u001b[39;00m (\n\u001b[32m      8\u001b[39m     TYPE_CHECKING,\n\u001b[32m      9\u001b[39m     Annotated,\n\u001b[32m     10\u001b[39m     Any,\n\u001b[32m     11\u001b[39m     EquityInfo,\n\u001b[32m     12\u001b[39m     EquityScreener,\n\u001b[32m     13\u001b[39m     EquitySearch,\n\u001b[32m     14\u001b[39m     ForwardRef,\n\u001b[32m     15\u001b[39m     HistoricalMarketCap,\n\u001b[32m     16\u001b[39m     Literal,\n\u001b[32m     17\u001b[39m     MarketSnapshots,\n\u001b[32m     18\u001b[39m     Optional,\n\u001b[32m     19\u001b[39m     Union,\n\u001b[32m     20\u001b[39m )\n\u001b[32m     21\u001b[39m \u001b[38;5;28;01mfrom\u001b[39;00m\u001b[38;5;250m \u001b[39m\u001b[34;01mwarnings\u001b[39;00m\u001b[38;5;250m \u001b[39m\u001b[38;5;28;01mimport\u001b[39;00m simplefilter, warn\n\u001b[32m     23\u001b[39m \u001b[38;5;28;01mimport\u001b[39;00m\u001b[38;5;250m \u001b[39m\u001b[34;01mnumpy\u001b[39;00m\n",
      "\u001b[31mImportError\u001b[39m: cannot import name 'EquityInfo' from 'typing' (/Users/jjfantini/.local/share/uv/python/cpython-3.12.10-macos-aarch64-none/lib/python3.12/typing.py)"
     ]
    }
   ],
   "source": [
    "obb.equity.price.historical(\"AAPL\", start_date=\"2022-01-01\", end_date=\"2022-01-31\")"
   ]
  },
  {
   "cell_type": "markdown",
   "metadata": {},
   "source": [
    "## Collect Data"
   ]
  },
  {
   "cell_type": "code",
   "execution_count": null,
   "metadata": {},
   "outputs": [],
   "source": [
    "from humbldata.toolbox.technical.humbl_channel.helpers import add_window_index\n",
    "from humbldata.toolbox.toolbox_helpers import log_returns\n",
    "\n",
    "symbols = [\"AAPL\", \"PCT\", \"NVDA\", \"SMCI\", \"TSLA\", \"AMD\", \"SPY\", \"GLD\", \"BTC-USD\", \"ETH-USD\"]\n",
    "rr_list = [\"MSFT\", \"AAPL\", \"AMZN\", \"META\", \"GOOGL\", \"NFLX\", \"TSLA\", \"NVDA\"]\n",
    "sector_symbols = [\n",
    "    \"XLF\",\n",
    "    \"XLU\",\n",
    "    \"XLK\",\n",
    "    \"XLE\",\n",
    "    \"XLI\",\n",
    "    \"XLV\",\n",
    "    \"XLY\",\n",
    "    \"XLP\",\n",
    "    \"XLB\",\n",
    "    \"XLRE\",\n",
    "    \"XTL\"\n",
    "]\n",
    "simple= [\"AAPL\", \"AMZN\", \"AMD\"]\n",
    "\n",
    "\n",
    "data = (\n",
    "    obb.equity.price.historical(\n",
    "        \"MP\",\n",
    "        provider=\"yfinance\",\n",
    "        start_date=\"2024-01-01\",\n",
    "        end_date=\"2025-04-16\",\n",
    "        adjustment=\"splits_and_dividends\",\n",
    "    ).to_polars()\n",
    ")\n",
    "\n",
    "data = log_returns(data, _column_name=\"close\")\n"
   ]
  },
  {
   "cell_type": "code",
   "execution_count": null,
   "metadata": {},
   "outputs": [],
   "source": [
    "data"
   ]
  },
  {
   "cell_type": "code",
   "execution_count": null,
   "metadata": {},
   "outputs": [],
   "source": [
    "from openbb_core.provider.utils.helpers import get_requests_session\n",
    "import yfinance as yf\n",
    "\n",
    "session = get_requests_session()\n",
    "print(session.headers)\n",
    "print(session.cookies)\n",
    "print(session.proxies)"
   ]
  },
  {
   "cell_type": "markdown",
   "metadata": {},
   "source": [
    "## Calculate Mandelbrot Channel\n"
   ]
  },
  {
   "cell_type": "code",
   "execution_count": 14,
   "metadata": {},
   "outputs": [],
   "source": [
    "from humbldata.toolbox.technical.humbl_channel.model import calc_humbl_channel\n",
    "\n",
    "\n",
    "mandelbrot = calc_humbl_channel(\n",
    "    data,\n",
    "    window=\"1m\",\n",
    "    rv_adjustment=True,\n",
    "    rv_method=\"yz\",\n",
    "    rv_grouped_mean=False,\n",
    "    rs_method=\"RS\",\n",
    "    live_price=True\n",
    ").collect()\n"
   ]
  },
  {
   "cell_type": "code",
   "execution_count": null,
   "metadata": {},
   "outputs": [],
   "source": [
    "mandelbrot"
   ]
  },
  {
   "cell_type": "markdown",
   "metadata": {},
   "source": [
    "## Find Prices Near the Top/Bottom of the Channel"
   ]
  },
  {
   "cell_type": "code",
   "execution_count": null,
   "metadata": {},
   "outputs": [],
   "source": [
    "mandelbrot_historical.filter(\n",
    "    (pl.col(\"close\") >= pl.col(\"top_price\") * 0.975)\n",
    "    & (pl.col(\"close\") <= pl.col(\"bottom_price\") * 1.025)\n",
    ")\n"
   ]
  }
 ],
 "metadata": {
  "kernelspec": {
   "display_name": ".venv",
   "language": "python",
   "name": "python3"
  },
  "language_info": {
   "codemirror_mode": {
    "name": "ipython",
    "version": 3
   },
   "file_extension": ".py",
   "mimetype": "text/x-python",
   "name": "python",
   "nbconvert_exporter": "python",
   "pygments_lexer": "ipython3",
   "version": "3.12.10"
  }
 },
 "nbformat": 4,
 "nbformat_minor": 2
}
