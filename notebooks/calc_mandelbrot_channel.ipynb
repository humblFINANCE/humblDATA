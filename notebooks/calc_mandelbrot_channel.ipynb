{
 "cells": [
  {
   "cell_type": "markdown",
   "metadata": {},
   "source": [
    "# How to Use: `calc_mandelbrot_channel`\n"
   ]
  },
  {
   "cell_type": "markdown",
   "metadata": {},
   "source": [
    "## Log into OpenBB"
   ]
  },
  {
   "cell_type": "code",
   "execution_count": 1,
   "metadata": {},
   "outputs": [],
   "source": [
    "%load_ext autoreload\n",
    "%autoreload 2\n",
    "\n",
    "from humbldata.core.utils.openbb_helpers import obb_login\n",
    "from openbb import obb\n",
    "from humbldata.core.utils.env import Env\n",
    "\n",
    "# obb_login()\n",
    "obb.account.login(pat=Env().OBB_PAT, remember_me=True)\n"
   ]
  },
  {
   "cell_type": "markdown",
   "metadata": {},
   "source": [
    "## Collect Data"
   ]
  },
  {
   "cell_type": "code",
   "execution_count": 16,
   "metadata": {},
   "outputs": [],
   "source": [
    "from humbldata.toolbox.technical.mandelbrot_channel.helpers import add_window_index\n",
    "from humbldata.toolbox.toolbox_helpers import log_returns\n",
    "\n",
    "symbols = [\"AAPL\", \"PCT\", \"NVDA\", \"SMCI\", \"TSLA\", \"AMD\", \"SPY\", \"GLD\", \"BTC-USD\", \"ETH-USD\"]\n",
    "rr_list = [\"MSFT\", \"AAPL\", \"AMZN\", \"META\", \"GOOGL\", \"NFLX\", \"TSLA\", \"NVDA\"]\n",
    "sector_symbols = [\n",
    "    \"XLF\",\n",
    "    \"XLU\",\n",
    "    \"XLK\",\n",
    "    \"XLE\",\n",
    "    \"XLI\",\n",
    "    \"XLV\",\n",
    "    \"XLY\",\n",
    "    \"XLP\",\n",
    "    \"XLB\",\n",
    "    \"XLRE\",\n",
    "    \"XTL\"\n",
    "]\n",
    "\n",
    "\n",
    "data = (\n",
    "    obb.equity.price.historical(\n",
    "        [\"AAPL\",\"GOOGL\"],\n",
    "        provider=\"yfinance\",\n",
    "        start_date=\"1950-01-01\",\n",
    "        end_date=\"2024-03-08\",\n",
    "        adjusted=True,\n",
    "    ).to_polars()\n",
    ").drop([\"dividends\", \"stock_splits\"])\n",
    "\n",
    "data = log_returns(data, _column_name=\"close\")\n"
   ]
  },
  {
   "cell_type": "code",
   "execution_count": 17,
   "metadata": {},
   "outputs": [],
   "source": [
    "from humbldata.toolbox.technical.volatility.realized_volatility_model import calc_realized_volatility\n",
    "\n",
    "data_rv = calc_realized_volatility(\n",
    "    data=data,\n",
    "    window=\"1m\",\n",
    "    method=\"std\",\n",
    "    grouped_mean=None,\n",
    ")\n"
   ]
  },
  {
   "cell_type": "markdown",
   "metadata": {},
   "source": [
    "## Calculate Mandelbrot Channel\n"
   ]
  },
  {
   "cell_type": "code",
   "execution_count": 29,
   "metadata": {},
   "outputs": [
    {
     "name": "stdout",
     "output_type": "stream",
     "text": [
      "CPU times: user 7 µs, sys: 1 µs, total: 8 µs\n",
      "Wall time: 13.8 µs\n"
     ]
    }
   ],
   "source": [
    "from humbldata.toolbox.technical.mandelbrot_channel.model import calc_mandelbrot_channel\n",
    "\n",
    "%time\n",
    "mandelbrot = calc_mandelbrot_channel(\n",
    "    data,\n",
    "    window=\"3m\",\n",
    "    rv_adjustment=False,\n",
    "    _rv_method=\"yz\",\n",
    "    _rv_grouped_mean=False,\n",
    "    _rs_method=\"RS_min\",\n",
    "    _live_price=False\n",
    ").collect()\n"
   ]
  },
  {
   "cell_type": "code",
   "execution_count": 30,
   "metadata": {},
   "outputs": [
    {
     "data": {
      "text/html": [
       "<div><style>\n",
       ".dataframe > thead > tr,\n",
       ".dataframe > tbody > tr {\n",
       "  text-align: right;\n",
       "  white-space: pre-wrap;\n",
       "}\n",
       "</style>\n",
       "<small>shape: (2, 4)</small><table border=\"1\" class=\"dataframe\"><thead><tr><th>symbol</th><th>bottom_price</th><th>recent_price</th><th>top_price</th></tr><tr><td>str</td><td>f64</td><td>f64</td><td>f64</td></tr></thead><tbody><tr><td>&quot;AAPL&quot;</td><td>161.8013</td><td>170.73</td><td>185.5065</td></tr><tr><td>&quot;GOOGL&quot;</td><td>45.5527</td><td>135.41</td><td>515.9767</td></tr></tbody></table></div>"
      ],
      "text/plain": [
       "shape: (2, 4)\n",
       "┌────────┬──────────────┬──────────────┬───────────┐\n",
       "│ symbol ┆ bottom_price ┆ recent_price ┆ top_price │\n",
       "│ ---    ┆ ---          ┆ ---          ┆ ---       │\n",
       "│ str    ┆ f64          ┆ f64          ┆ f64       │\n",
       "╞════════╪══════════════╪══════════════╪═══════════╡\n",
       "│ AAPL   ┆ 161.8013     ┆ 170.73       ┆ 185.5065  │\n",
       "│ GOOGL  ┆ 45.5527      ┆ 135.41       ┆ 515.9767  │\n",
       "└────────┴──────────────┴──────────────┴───────────┘"
      ]
     },
     "execution_count": 30,
     "metadata": {},
     "output_type": "execute_result"
    }
   ],
   "source": [
    "mandelbrot"
   ]
  },
  {
   "cell_type": "code",
   "execution_count": 6,
   "metadata": {},
   "outputs": [],
   "source": [
    "mandelbrot_og = mandelbrot"
   ]
  },
  {
   "cell_type": "code",
   "execution_count": null,
   "metadata": {},
   "outputs": [],
   "source": []
  }
 ],
 "metadata": {
  "kernelspec": {
   "display_name": "Python 3",
   "language": "python",
   "name": "python3"
  },
  "language_info": {
   "codemirror_mode": {
    "name": "ipython",
    "version": 3
   },
   "file_extension": ".py",
   "mimetype": "text/x-python",
   "name": "python",
   "nbconvert_exporter": "python",
   "pygments_lexer": "ipython3",
   "version": "3.11.7"
  }
 },
 "nbformat": 4,
 "nbformat_minor": 2
}
