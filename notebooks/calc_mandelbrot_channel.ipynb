{
 "cells": [
  {
   "cell_type": "markdown",
   "metadata": {},
   "source": [
    "# How to Use: `calc_mandelbrot_channel`\n"
   ]
  },
  {
   "cell_type": "markdown",
   "metadata": {},
   "source": [
    "## Log into OpenBB"
   ]
  },
  {
   "cell_type": "code",
   "execution_count": null,
   "metadata": {},
   "outputs": [],
   "source": [
    "%load_ext autoreload\n",
    "%autoreload 2\n",
    "\n",
    "from humbldata.core.utils.openbb_helpers import obb_login\n",
    "from openbb import obb\n",
    "from humbldata.core.utils.env import Env\n",
    "\n",
    "# obb_login()\n",
    "obb.account.login(pat=Env().OBB_PAT, remember_me=True)\n"
   ]
  },
  {
   "cell_type": "markdown",
   "metadata": {},
   "source": [
    "## Collect Data"
   ]
  },
  {
   "cell_type": "code",
   "execution_count": 11,
   "metadata": {},
   "outputs": [],
   "source": [
    "from humbldata.toolbox.technical.mandelbrot_channel.helpers import add_window_index\n",
    "from humbldata.toolbox.toolbox_helpers import log_returns\n",
    "\n",
    "symbols = [\"AAPL\", \"PCT\", \"NVDA\", \"SMCI\", \"TSLA\", \"AMD\", \"SPY\", \"GLD\", \"BTC-USD\", \"ETH-USD\"]\n",
    "rr_list = [\"MSFT\", \"AAPL\", \"AMZN\", \"META\", \"GOOGL\", \"NFLX\", \"TSLA\", \"NVDA\"]\n",
    "sector_symbols = [\n",
    "    \"XLF\",\n",
    "    \"XLU\",\n",
    "    \"XLK\",\n",
    "    \"XLE\",\n",
    "    \"XLI\",\n",
    "    \"XLV\",\n",
    "    \"XLY\",\n",
    "    \"XLP\",\n",
    "    \"XLB\",\n",
    "    \"XLRE\",\n",
    "    \"XTL\"\n",
    "]\n",
    "\n",
    "\n",
    "data = (\n",
    "    obb.equity.price.historical(\n",
    "        [\"AAPL\",\"AMZN\", \"AMD\", \"GOOGL\", \"PCT\"],\n",
    "        provider=\"yfinance\",\n",
    "        start_date=\"2000-01-01\",\n",
    "        end_date=\"2024-01-01\",\n",
    "        adjustment=\"splits_and_dividends\",\n",
    "    ).to_polars()\n",
    ").drop([\"dividends\", \"stock_splits\"])\n",
    "\n",
    "data = log_returns(data, _column_name=\"close\")\n"
   ]
  },
  {
   "cell_type": "markdown",
   "metadata": {},
   "source": [
    "## Calculate Mandelbrot Channel\n"
   ]
  },
  {
   "cell_type": "code",
   "execution_count": 14,
   "metadata": {},
   "outputs": [],
   "source": [
    "from humbldata.toolbox.technical.mandelbrot_channel.model import calc_mandelbrot_channel\n",
    "\n",
    "\n",
    "mandelbrot = calc_mandelbrot_channel(\n",
    "    data,\n",
    "    window=\"1m\",\n",
    "    rv_adjustment=True,\n",
    "    rv_method=\"yz\",\n",
    "    rv_grouped_mean=False,\n",
    "    rs_method=\"RS\",\n",
    "    live_price=True\n",
    ").collect()\n"
   ]
  },
  {
   "cell_type": "code",
   "execution_count": 13,
   "metadata": {},
   "outputs": [
    {
     "data": {
      "text/html": [
       "<div><style>\n",
       ".dataframe > thead > tr,\n",
       ".dataframe > tbody > tr {\n",
       "  text-align: right;\n",
       "  white-space: pre-wrap;\n",
       "}\n",
       "</style>\n",
       "<small>shape: (5, 5)</small><table border=\"1\" class=\"dataframe\"><thead><tr><th>date</th><th>symbol</th><th>bottom_price</th><th>recent_price</th><th>top_price</th></tr><tr><td>date</td><td>str</td><td>f64</td><td>f64</td><td>f64</td></tr></thead><tbody><tr><td>2023-12-29</td><td>&quot;AAPL&quot;</td><td>216.1965</td><td>216.67</td><td>225.1068</td></tr><tr><td>2023-12-29</td><td>&quot;AMD&quot;</td><td>147.4549</td><td>158.4</td><td>161.7655</td></tr><tr><td>2023-12-29</td><td>&quot;AMZN&quot;</td><td>180.0482</td><td>184.06</td><td>189.3734</td></tr><tr><td>2023-12-29</td><td>&quot;GOOGL&quot;</td><td>171.1965</td><td>177.24</td><td>179.6634</td></tr><tr><td>2023-12-29</td><td>&quot;PCT&quot;</td><td>3.5021</td><td>5.98</td><td>7.6052</td></tr></tbody></table></div>"
      ],
      "text/plain": [
       "shape: (5, 5)\n",
       "┌────────────┬────────┬──────────────┬──────────────┬───────────┐\n",
       "│ date       ┆ symbol ┆ bottom_price ┆ recent_price ┆ top_price │\n",
       "│ ---        ┆ ---    ┆ ---          ┆ ---          ┆ ---       │\n",
       "│ date       ┆ str    ┆ f64          ┆ f64          ┆ f64       │\n",
       "╞════════════╪════════╪══════════════╪══════════════╪═══════════╡\n",
       "│ 2023-12-29 ┆ AAPL   ┆ 216.1965     ┆ 216.67       ┆ 225.1068  │\n",
       "│ 2023-12-29 ┆ AMD    ┆ 147.4549     ┆ 158.4        ┆ 161.7655  │\n",
       "│ 2023-12-29 ┆ AMZN   ┆ 180.0482     ┆ 184.06       ┆ 189.3734  │\n",
       "│ 2023-12-29 ┆ GOOGL  ┆ 171.1965     ┆ 177.24       ┆ 179.6634  │\n",
       "│ 2023-12-29 ┆ PCT    ┆ 3.5021       ┆ 5.98         ┆ 7.6052    │\n",
       "└────────────┴────────┴──────────────┴──────────────┴───────────┘"
      ]
     },
     "execution_count": 13,
     "metadata": {},
     "output_type": "execute_result"
    }
   ],
   "source": [
    "mandelbrot"
   ]
  },
  {
   "cell_type": "markdown",
   "metadata": {},
   "source": [
    "## Find Prices Near the Top/Bottom of the Channel"
   ]
  },
  {
   "cell_type": "code",
   "execution_count": null,
   "metadata": {},
   "outputs": [],
   "source": [
    "mandelbrot_historical.filter(\n",
    "    (pl.col(\"close\") >= pl.col(\"top_price\") * 0.975)\n",
    "    & (pl.col(\"close\") <= pl.col(\"bottom_price\") * 1.025)\n",
    ")\n"
   ]
  }
 ],
 "metadata": {
  "kernelspec": {
   "display_name": "Python 3",
   "language": "python",
   "name": "python3"
  },
  "language_info": {
   "codemirror_mode": {
    "name": "ipython",
    "version": 3
   },
   "file_extension": ".py",
   "mimetype": "text/x-python",
   "name": "python",
   "nbconvert_exporter": "python",
   "pygments_lexer": "ipython3",
   "version": "3.11.9"
  }
 },
 "nbformat": 4,
 "nbformat_minor": 2
}
