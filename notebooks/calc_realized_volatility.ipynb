{
 "cells": [
  {
   "cell_type": "markdown",
   "metadata": {},
   "source": [
    "# How to Use: `calc_realized_volatility`\n"
   ]
  },
  {
   "cell_type": "markdown",
   "metadata": {},
   "source": [
    "### Log into OpenBB"
   ]
  },
  {
   "cell_type": "code",
   "execution_count": null,
   "metadata": {},
   "outputs": [],
   "source": [
    "%load_ext autoreload\n",
    "%autoreload 2\n",
    "\n",
    "from humbldata.core.utils.openbb_helpers import obb_login\n",
    "from openbb import obb\n",
    "from humbldata.core.utils.env import Env\n",
    "\n",
    "# obb_login()\n",
    "obb.account.login(pat=Env().OBB_PAT, remember_me=True)\n"
   ]
  },
  {
   "cell_type": "markdown",
   "metadata": {},
   "source": [
    "#### Collect Data"
   ]
  },
  {
   "cell_type": "code",
   "execution_count": null,
   "metadata": {},
   "outputs": [],
   "source": [
    "data = obb.equity.price.historical(\n",
    "    \"AAPL\", start_date=\"2021-01-01\", end_date=\"2021-03-01\", provider=\"yfinance\"\n",
    ")\n",
    "data = data.to_polars().drop([\"dividends\", \"stock_splits\"])\n"
   ]
  },
  {
   "cell_type": "markdown",
   "metadata": {},
   "source": [
    "#### Calculate Log Returns\n"
   ]
  },
  {
   "cell_type": "code",
   "execution_count": null,
   "metadata": {},
   "outputs": [],
   "source": [
    "from humbldata.toolbox.toolbox_helpers import log_returns\n",
    "\n",
    "data = log_returns(data, _column_name=\"close\")\n"
   ]
  },
  {
   "cell_type": "markdown",
   "metadata": {},
   "source": [
    "### Calculate Realized Volatility\n",
    "\n"
   ]
  },
  {
   "cell_type": "code",
   "execution_count": 13,
   "metadata": {},
   "outputs": [
    {
     "name": "stdout",
     "output_type": "stream",
     "text": [
      "The autoreload extension is already loaded. To reload it, use:\n",
      "  %reload_ext autoreload\n"
     ]
    }
   ],
   "source": [
    "%load_ext autoreload\n",
    "%autoreload 2\n",
    "\n",
    "from humbldata.toolbox.technical.volatility.realized_volatility_model import (\n",
    "    calc_realized_volatility,\n",
    ")\n",
    "\n",
    "data = log_returns(data, _column_name=\"close\")\n",
    "data_vol = calc_realized_volatility(data=data, window=\"1m\", method=\"std\")"
   ]
  },
  {
   "cell_type": "code",
   "execution_count": 14,
   "metadata": {},
   "outputs": [
    {
     "data": {
      "text/html": [
       "<div><style>\n",
       ".dataframe > thead > tr,\n",
       ".dataframe > tbody > tr {\n",
       "  text-align: right;\n",
       "  white-space: pre-wrap;\n",
       "}\n",
       "</style>\n",
       "<small>shape: (37, 10)</small><table border=\"1\" class=\"dataframe\"><thead><tr><th>date</th><th>open</th><th>high</th><th>low</th><th>close</th><th>volume</th><th>split_ratio</th><th>dividend</th><th>log_returns</th><th>std_volatility_pct_31D</th></tr><tr><td>date</td><td>f64</td><td>f64</td><td>f64</td><td>f64</td><td>i64</td><td>f64</td><td>f64</td><td>f64</td><td>f64</td></tr></thead><tbody><tr><td>2021-01-06</td><td>127.720001</td><td>131.050003</td><td>126.379997</td><td>126.599998</td><td>155088000</td><td>0.0</td><td>0.0</td><td>-0.034241</td><td>52.228722</td></tr><tr><td>2021-01-07</td><td>128.360001</td><td>131.630005</td><td>127.860001</td><td>130.919998</td><td>109578200</td><td>0.0</td><td>0.0</td><td>0.033554</td><td>55.041921</td></tr><tr><td>2021-01-08</td><td>132.429993</td><td>132.630005</td><td>130.229996</td><td>132.050003</td><td>105158200</td><td>0.0</td><td>0.0</td><td>0.008594</td><td>45.097904</td></tr><tr><td>2021-01-11</td><td>129.190002</td><td>130.169998</td><td>128.5</td><td>128.979996</td><td>100384500</td><td>0.0</td><td>0.0</td><td>-0.023523</td><td>44.00924</td></tr><tr><td>2021-01-12</td><td>128.5</td><td>129.690002</td><td>126.860001</td><td>128.800003</td><td>91951100</td><td>0.0</td><td>0.0</td><td>-0.001396</td><td>39.36591</td></tr><tr><td>&hellip;</td><td>&hellip;</td><td>&hellip;</td><td>&hellip;</td><td>&hellip;</td><td>&hellip;</td><td>&hellip;</td><td>&hellip;</td><td>&hellip;</td><td>&hellip;</td></tr><tr><td>2021-02-23</td><td>123.760002</td><td>126.709999</td><td>118.389999</td><td>125.860001</td><td>158273000</td><td>0.0</td><td>0.0</td><td>-0.001112</td><td>26.8925</td></tr><tr><td>2021-02-24</td><td>124.940002</td><td>125.559998</td><td>122.230003</td><td>125.349998</td><td>111039900</td><td>0.0</td><td>0.0</td><td>-0.00406</td><td>26.245439</td></tr><tr><td>2021-02-25</td><td>124.68</td><td>126.459999</td><td>120.540001</td><td>120.989998</td><td>148199500</td><td>0.0</td><td>0.0</td><td>-0.035402</td><td>25.636462</td></tr><tr><td>2021-02-26</td><td>122.589996</td><td>124.849998</td><td>121.199997</td><td>121.260002</td><td>164560400</td><td>0.0</td><td>0.0</td><td>0.002229</td><td>25.660996</td></tr><tr><td>2021-03-01</td><td>123.75</td><td>127.93</td><td>122.790001</td><td>127.790001</td><td>116307900</td><td>0.0</td><td>0.0</td><td>0.052451</td><td>29.715548</td></tr></tbody></table></div>"
      ],
      "text/plain": [
       "shape: (37, 10)\n",
       "┌───────────┬───────────┬───────────┬───────────┬───┬───────────┬──────────┬───────────┬───────────┐\n",
       "│ date      ┆ open      ┆ high      ┆ low       ┆ … ┆ split_rat ┆ dividend ┆ log_retur ┆ std_volat │\n",
       "│ ---       ┆ ---       ┆ ---       ┆ ---       ┆   ┆ io        ┆ ---      ┆ ns        ┆ ility_pct │\n",
       "│ date      ┆ f64       ┆ f64       ┆ f64       ┆   ┆ ---       ┆ f64      ┆ ---       ┆ _31D      │\n",
       "│           ┆           ┆           ┆           ┆   ┆ f64       ┆          ┆ f64       ┆ ---       │\n",
       "│           ┆           ┆           ┆           ┆   ┆           ┆          ┆           ┆ f64       │\n",
       "╞═══════════╪═══════════╪═══════════╪═══════════╪═══╪═══════════╪══════════╪═══════════╪═══════════╡\n",
       "│ 2021-01-0 ┆ 127.72000 ┆ 131.05000 ┆ 126.37999 ┆ … ┆ 0.0       ┆ 0.0      ┆ -0.034241 ┆ 52.228722 │\n",
       "│ 6         ┆ 1         ┆ 3         ┆ 7         ┆   ┆           ┆          ┆           ┆           │\n",
       "│ 2021-01-0 ┆ 128.36000 ┆ 131.63000 ┆ 127.86000 ┆ … ┆ 0.0       ┆ 0.0      ┆ 0.033554  ┆ 55.041921 │\n",
       "│ 7         ┆ 1         ┆ 5         ┆ 1         ┆   ┆           ┆          ┆           ┆           │\n",
       "│ 2021-01-0 ┆ 132.42999 ┆ 132.63000 ┆ 130.22999 ┆ … ┆ 0.0       ┆ 0.0      ┆ 0.008594  ┆ 45.097904 │\n",
       "│ 8         ┆ 3         ┆ 5         ┆ 6         ┆   ┆           ┆          ┆           ┆           │\n",
       "│ 2021-01-1 ┆ 129.19000 ┆ 130.16999 ┆ 128.5     ┆ … ┆ 0.0       ┆ 0.0      ┆ -0.023523 ┆ 44.00924  │\n",
       "│ 1         ┆ 2         ┆ 8         ┆           ┆   ┆           ┆          ┆           ┆           │\n",
       "│ 2021-01-1 ┆ 128.5     ┆ 129.69000 ┆ 126.86000 ┆ … ┆ 0.0       ┆ 0.0      ┆ -0.001396 ┆ 39.36591  │\n",
       "│ 2         ┆           ┆ 2         ┆ 1         ┆   ┆           ┆          ┆           ┆           │\n",
       "│ …         ┆ …         ┆ …         ┆ …         ┆ … ┆ …         ┆ …        ┆ …         ┆ …         │\n",
       "│ 2021-02-2 ┆ 123.76000 ┆ 126.70999 ┆ 118.38999 ┆ … ┆ 0.0       ┆ 0.0      ┆ -0.001112 ┆ 26.8925   │\n",
       "│ 3         ┆ 2         ┆ 9         ┆ 9         ┆   ┆           ┆          ┆           ┆           │\n",
       "│ 2021-02-2 ┆ 124.94000 ┆ 125.55999 ┆ 122.23000 ┆ … ┆ 0.0       ┆ 0.0      ┆ -0.00406  ┆ 26.245439 │\n",
       "│ 4         ┆ 2         ┆ 8         ┆ 3         ┆   ┆           ┆          ┆           ┆           │\n",
       "│ 2021-02-2 ┆ 124.68    ┆ 126.45999 ┆ 120.54000 ┆ … ┆ 0.0       ┆ 0.0      ┆ -0.035402 ┆ 25.636462 │\n",
       "│ 5         ┆           ┆ 9         ┆ 1         ┆   ┆           ┆          ┆           ┆           │\n",
       "│ 2021-02-2 ┆ 122.58999 ┆ 124.84999 ┆ 121.19999 ┆ … ┆ 0.0       ┆ 0.0      ┆ 0.002229  ┆ 25.660996 │\n",
       "│ 6         ┆ 6         ┆ 8         ┆ 7         ┆   ┆           ┆          ┆           ┆           │\n",
       "│ 2021-03-0 ┆ 123.75    ┆ 127.93    ┆ 122.79000 ┆ … ┆ 0.0       ┆ 0.0      ┆ 0.052451  ┆ 29.715548 │\n",
       "│ 1         ┆           ┆           ┆ 1         ┆   ┆           ┆          ┆           ┆           │\n",
       "└───────────┴───────────┴───────────┴───────────┴───┴───────────┴──────────┴───────────┴───────────┘"
      ]
     },
     "execution_count": 14,
     "metadata": {},
     "output_type": "execute_result"
    }
   ],
   "source": [
    "data_vol.collect()\n",
    "\n",
    "\n",
    "\n",
    "\n",
    "\n",
    "\n",
    "\n",
    "\n",
    "\n",
    "\n",
    "\n",
    "\n",
    "\n",
    "\n",
    "\n",
    "\n",
    "\n",
    "\n",
    "\n",
    "\n",
    "\n",
    "\n",
    "\n",
    "\n",
    "\n",
    "\n",
    "\n",
    "\n",
    "\n",
    "\n",
    "mandmandma"
   ]
  }
 ],
 "metadata": {
  "kernelspec": {
   "display_name": "Python 3",
   "language": "python",
   "name": "python3"
  },
  "language_info": {
   "codemirror_mode": {
    "name": "ipython",
    "version": 3
   },
   "file_extension": ".py",
   "mimetype": "text/x-python",
   "name": "python",
   "nbconvert_exporter": "python",
   "pygments_lexer": "ipython3",
   "version": "3.12.7"
  }
 },
 "nbformat": 4,
 "nbformat_minor": 2
}
