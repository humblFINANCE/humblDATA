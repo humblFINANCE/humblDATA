{
 "cells": [
  {
   "cell_type": "code",
   "execution_count": 2,
   "metadata": {},
   "outputs": [
    {
     "name": "stdout",
     "output_type": "stream",
     "text": [
      "The autoreload extension is already loaded. To reload it, use:\n",
      "  %reload_ext autoreload\n"
     ]
    }
   ],
   "source": [
    "%load_ext autoreload\n",
    "%autoreload 2\n",
    "\n",
    "import polars as pl\n",
    "from openbb import obb\n",
    "\n",
    "from humbldata.core.utils.env import Env\n",
    "from humbldata.core.utils.openbb_helpers import obb_login\n",
    "\n",
    "# obb_login()\n",
    "obb.account.login(pat=Env().OBB_PAT, remember_me=True)"
   ]
  },
  {
   "cell_type": "code",
   "execution_count": 16,
   "metadata": {},
   "outputs": [
    {
     "name": "stderr",
     "output_type": "stream",
     "text": [
      "\u001b[1;35mINFO:\u001b[0m \u001b[36mHumblCompassFetcher\u001b[0m || \u001b[32mSTART: fetch_data (sync)\u001b[0m\n",
      "\u001b[1;35mDEBUG:\u001b[0m \u001b[36mHumblCompassFetcher\u001b[0m || \u001b[34mRunning .transform_query()\u001b[0m\n",
      "\u001b[1;35mINFO:\u001b[0m \u001b[36mHumblCompassFetcher\u001b[0m || \u001b[32mCLI start date: 1959-09-01 and CPI start date: 1959-09-01. Dates are adjusted to account for CLI data release lag and z-score calculation window.\u001b[0m\n",
      "\u001b[1;35mDEBUG:\u001b[0m \u001b[36mHumblCompassFetcher\u001b[0m || \u001b[34mRunning .extract_data()\u001b[0m\n"
     ]
    },
    {
     "name": "stdout",
     "output_type": "stream",
     "text": [
      "The autoreload extension is already loaded. To reload it, use:\n",
      "  %reload_ext autoreload\n"
     ]
    },
    {
     "name": "stderr",
     "output_type": "stream",
     "text": [
      "\u001b[1;35mDEBUG:\u001b[0m \u001b[36mHumblCompassFetcher\u001b[0m || \u001b[34mRunning .transform_data()\u001b[0m\n",
      "\u001b[1;35mINFO:\u001b[0m \u001b[36mHumblCompassFetcher\u001b[0m || \u001b[32mEND: fetch_data (sync) - Total time: 4.1068s\u001b[0m\n",
      "\u001b[1;35mINFO:\u001b[0m \u001b[36mHumblCompassBacktestFetcher\u001b[0m || \u001b[32mSTART: fetch_data (sync)\u001b[0m\n",
      "\u001b[1;35mDEBUG:\u001b[0m \u001b[36mHumblCompassBacktestFetcher\u001b[0m || \u001b[34mRunning .transform_query()\u001b[0m\n",
      "\u001b[1;35mDEBUG:\u001b[0m \u001b[36mHumblCompassBacktestFetcher\u001b[0m || \u001b[34mRunning .extract_data()\u001b[0m\n",
      "\u001b[1;35mDEBUG:\u001b[0m \u001b[36mHumblCompassBacktestFetcher\u001b[0m || \u001b[34mRunning .transform_data()\u001b[0m\n",
      "\u001b[1;35mINFO:\u001b[0m \u001b[36mHumblCompassBacktestFetcher\u001b[0m || \u001b[32mEND: fetch_data (sync) - Total time: 0.5966s\u001b[0m\n"
     ]
    },
    {
     "data": {
      "text/html": [
       "<div><style>\n",
       ".dataframe > thead > tr,\n",
       ".dataframe > tbody > tr {\n",
       "  text-align: right;\n",
       "  white-space: pre-wrap;\n",
       "}\n",
       "</style>\n",
       "<small>shape: (4, 8)</small><table border=\"1\" class=\"dataframe\"><thead><tr><th>humbl_regime</th><th>avg_total_return_pct</th><th>avg_ann_return_pct</th><th>avg_win_rate_pct</th><th>avg_volatility</th><th>avg_sharpe_ratio</th><th>avg_days_in_regime</th><th>instance_count</th></tr><tr><td>str</td><td>f64</td><td>f64</td><td>f64</td><td>f64</td><td>f64</td><td>f64</td><td>u32</td></tr></thead><tbody><tr><td>&quot;humblBOOM&quot;</td><td>7.366644</td><td>24.750994</td><td>55.761523</td><td>13.45846</td><td>1.712567</td><td>89.825651</td><td>33</td></tr><tr><td>&quot;humblBOUNCE&quot;</td><td>6.350905</td><td>14.108709</td><td>54.99316</td><td>12.821641</td><td>1.010886</td><td>97.420429</td><td>31</td></tr><tr><td>&quot;humblBLOAT&quot;</td><td>-1.174869</td><td>-1.356868</td><td>51.034483</td><td>16.94694</td><td>-0.053166</td><td>98.129885</td><td>29</td></tr><tr><td>&quot;humblBUST&quot;</td><td>-0.977314</td><td>2.706403</td><td>51.442786</td><td>20.851269</td><td>0.246358</td><td>100.305473</td><td>30</td></tr></tbody></table></div>"
      ],
      "text/plain": [
       "shape: (4, 8)\n",
       "┌────────────┬────────────┬────────────┬───────────┬───────────┬───────────┬───────────┬───────────┐\n",
       "│ humbl_regi ┆ avg_total_ ┆ avg_ann_re ┆ avg_win_r ┆ avg_volat ┆ avg_sharp ┆ avg_days_ ┆ instance_ │\n",
       "│ me         ┆ return_pct ┆ turn_pct   ┆ ate_pct   ┆ ility     ┆ e_ratio   ┆ in_regime ┆ count     │\n",
       "│ ---        ┆ ---        ┆ ---        ┆ ---       ┆ ---       ┆ ---       ┆ ---       ┆ ---       │\n",
       "│ str        ┆ f64        ┆ f64        ┆ f64       ┆ f64       ┆ f64       ┆ f64       ┆ u32       │\n",
       "╞════════════╪════════════╪════════════╪═══════════╪═══════════╪═══════════╪═══════════╪═══════════╡\n",
       "│ humblBOOM  ┆ 7.366644   ┆ 24.750994  ┆ 55.761523 ┆ 13.45846  ┆ 1.712567  ┆ 89.825651 ┆ 33        │\n",
       "│ humblBOUNC ┆ 6.350905   ┆ 14.108709  ┆ 54.99316  ┆ 12.821641 ┆ 1.010886  ┆ 97.420429 ┆ 31        │\n",
       "│ E          ┆            ┆            ┆           ┆           ┆           ┆           ┆           │\n",
       "│ humblBLOAT ┆ -1.174869  ┆ -1.356868  ┆ 51.034483 ┆ 16.94694  ┆ -0.053166 ┆ 98.129885 ┆ 29        │\n",
       "│ humblBUST  ┆ -0.977314  ┆ 2.706403   ┆ 51.442786 ┆ 20.851269 ┆ 0.246358  ┆ 100.30547 ┆ 30        │\n",
       "│            ┆            ┆            ┆           ┆           ┆           ┆ 3         ┆           │\n",
       "└────────────┴────────────┴────────────┴───────────┴───────────┴───────────┴───────────┴───────────┘"
      ]
     },
     "execution_count": 16,
     "metadata": {},
     "output_type": "execute_result"
    }
   ],
   "source": [
    "%load_ext autoreload\n",
    "%autoreload 2\n",
    "from humbldata.toolbox.toolbox_controller import Toolbox\n",
    "\n",
    "toolbox = Toolbox(\n",
    "    start_date=\"1960-01-01\",\n",
    "    end_date=\"2024-12-31\",\n",
    "    membership=\"admin\",\n",
    ")\n",
    "\n",
    "# # Direct compass results\n",
    "# results = toolbox.fundamental.humbl_compass(country=\"united_states\")\n",
    "# results\n",
    "\n",
    "# Chained backtest\n",
    "results = toolbox.fundamental.humbl_compass(country=\"united_states\").backtest(symbols=[\"SPY\"])\n",
    "results.to_polars(equity_data=False)"
   ]
  },
  {
   "cell_type": "code",
   "execution_count": null,
   "metadata": {},
   "outputs": [],
   "source": []
  }
 ],
 "metadata": {
  "kernelspec": {
   "display_name": "Python 3",
   "language": "python",
   "name": "python3"
  },
  "language_info": {
   "codemirror_mode": {
    "name": "ipython",
    "version": 3
   },
   "file_extension": ".py",
   "mimetype": "text/x-python",
   "name": "python",
   "nbconvert_exporter": "python",
   "pygments_lexer": "ipython3",
   "version": "3.12.7"
  }
 },
 "nbformat": 4,
 "nbformat_minor": 2
}
