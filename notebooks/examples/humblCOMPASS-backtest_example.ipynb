{
 "cells": [
  {
   "cell_type": "code",
   "execution_count": 1,
   "metadata": {},
   "outputs": [
    {
     "name": "stderr",
     "output_type": "stream",
     "text": [
      "\u001b[1;35mINFO:\u001b[0m \u001b[36mHumblCompassFetcher\u001b[0m || \u001b[32mSTART: fetch_data (async)\u001b[0m\n",
      "\u001b[1;35mDEBUG:\u001b[0m \u001b[36mHumblCompassFetcher\u001b[0m || \u001b[34mRunning .transform_query()\u001b[0m\n",
      "\u001b[1;35mINFO:\u001b[0m \u001b[36mHumblCompassFetcher\u001b[0m || \u001b[32mCLI start date: 2019-09-02 and CPI start date: 2019-09-02. Dates are adjusted to account for CLI data release lag and z-score calculation window.\u001b[0m\n",
      "\u001b[1;35mDEBUG:\u001b[0m \u001b[36mHumblCompassFetcher\u001b[0m || \u001b[34mRunning .extract_data()\u001b[0m\n",
      "\u001b[1;35mINFO:\u001b[0m \u001b[36mOpenBBAPIClient\u001b[0m || \u001b[32mSTART: fetch_data (async)\u001b[0m\n",
      "\u001b[1;35mINFO:\u001b[0m \u001b[36mOpenBBAPIClient\u001b[0m || \u001b[32mPrepared request for: http://127.0.0.1:6900/api/v1/economy/composite_leading_indicator?provider=oecd&start_date=2019-09-02&end_date=2023-01-14&country=united_states&adjustment=amplitude&growth_rate=false\u001b[0m\n",
      "\u001b[1;35mINFO:\u001b[0m \u001b[36mOpenBBAPIClient\u001b[0m || \u001b[32mFetching data from: http://127.0.0.1:6900/api/v1/economy/composite_leading_indicator?provider=oecd&start_date=2019-09-02&end_date=2023-01-14&country=united_states&adjustment=amplitude&growth_rate=false\u001b[0m\n",
      "\u001b[1;35mINFO:\u001b[0m \u001b[36mOpenBBAPIClient\u001b[0m || \u001b[32mEND: fetch_data (async) - Total time: 0.2401s\u001b[0m\n",
      "\u001b[1;35mINFO:\u001b[0m \u001b[36mOpenBBAPIClient\u001b[0m || \u001b[32mSTART: fetch_data (async)\u001b[0m\n",
      "\u001b[1;35mINFO:\u001b[0m \u001b[36mOpenBBAPIClient\u001b[0m || \u001b[32mPrepared request for: http://127.0.0.1:6900/api/v1/economy/cpi?provider=oecd&country=united_states&transform=yoy&frequency=monthly&harmonized=false&start_date=2019-09-02&end_date=2023-01-14&expenditure=total\u001b[0m\n",
      "\u001b[1;35mINFO:\u001b[0m \u001b[36mOpenBBAPIClient\u001b[0m || \u001b[32mFetching data from: http://127.0.0.1:6900/api/v1/economy/cpi?provider=oecd&country=united_states&transform=yoy&frequency=monthly&harmonized=false&start_date=2019-09-02&end_date=2023-01-14&expenditure=total\u001b[0m\n",
      "\u001b[1;35mINFO:\u001b[0m \u001b[36mOpenBBAPIClient\u001b[0m || \u001b[32mEND: fetch_data (async) - Total time: 0.1624s\u001b[0m\n",
      "\u001b[1;35mDEBUG:\u001b[0m \u001b[36mHumblCompassFetcher\u001b[0m || \u001b[34mRunning .transform_data()\u001b[0m\n",
      "\u001b[1;35mINFO:\u001b[0m \u001b[36mHumblCompassFetcher\u001b[0m || \u001b[32mEND: fetch_data (async) - Total time: 0.6553s\u001b[0m\n",
      "\u001b[1;35mINFO:\u001b[0m \u001b[36mHumblCompassBacktestFetcher\u001b[0m || \u001b[32mSTART: fetch_data (async)\u001b[0m\n",
      "\u001b[1;35mINFO:\u001b[0m \u001b[36mLogCacheHitPlugin\u001b[0m || \u001b[32mhumbl_compass_backtest cache HIT & RETURNED\u001b[0m\n",
      "\u001b[1;35mDEBUG:\u001b[0m \u001b[36mLogCacheHitPlugin\u001b[0m || \u001b[34mhumbl_compass_backtest cache key: {\"chart\": true, \"country\": \"united_states\", \"end_date\": \"2023-01-14\", \"initial_investment\": 100000.0, \"min_regime_days\": 21, \"risk_free_rate\": 0.03, \"start_date\": \"2020-01-02\", \"symbols\": [\"JNJ\", \"AMD\"], \"vol_window\": \"1m\"}\u001b[0m\n",
      "\u001b[1;35mINFO:\u001b[0m \u001b[36mHumblCompassBacktestFetcher\u001b[0m || \u001b[32mEND: fetch_data (async) - Total time: 0.0459s\u001b[0m\n"
     ]
    }
   ],
   "source": [
    "%load_ext autoreload\n",
    "%autoreload 2\n",
    "from humbldata.toolbox.toolbox_controller import Toolbox\n",
    "\n",
    "toolbox = Toolbox(\n",
    "    start_date=\"2020-01-02\",\n",
    "    end_date=\"2023-01-14\",\n",
    "    membership=\"admin\",\n",
    "    provider=\"fmp\",\n",
    ")\n",
    "\n",
    "# # Direct compass results\n",
    "# results = toolbox.fundamental.humbl_compass(country=\"united_states\")\n",
    "# results\n",
    "\n",
    "# Chained backtest\n",
    "results = await (await toolbox.fundamental.humbl_compass(country=\"united_states\")).backtest(symbols=[\"JNJ\", \"AMD\"], chart=True, vol_window=\"1m\", min_regime_days=21)\n",
    "# results.to_polars(equity_data=False)"
   ]
  },
  {
   "cell_type": "code",
   "execution_count": 5,
   "metadata": {},
   "outputs": [
    {
     "data": {
      "text/html": [
       "<div><style>\n",
       ".dataframe > thead > tr,\n",
       ".dataframe > tbody > tr {\n",
       "  text-align: right;\n",
       "  white-space: pre-wrap;\n",
       "}\n",
       "</style>\n",
       "<small>shape: (8, 26)</small><table border=\"1\" class=\"dataframe\"><thead><tr><th>symbol</th><th>humbl_regime</th><th>avg_total_return_pct</th><th>min_return_pct</th><th>max_return_pct</th><th>avg_ann_return_pct</th><th>avg_win_rate_pct</th><th>avg_volatility</th><th>avg_sharpe_ratio</th><th>avg_days_in_regime</th><th>instance_count</th><th>total_win_count</th><th>total_loss_count</th><th>avg_win_count_per_instance</th><th>avg_loss_count_per_instance</th><th>max_win_days</th><th>min_win_days</th><th>max_loss_days</th><th>min_loss_days</th><th>max_drawdown_pct</th><th>avg_drawdown_pct</th><th>avg_recovery_days</th><th>max_recovery_days</th><th>cumulative_investment_growth</th><th>investment_growth_pct</th><th>total_ending_investment_value</th></tr><tr><td>str</td><td>str</td><td>f64</td><td>f64</td><td>f64</td><td>f64</td><td>f64</td><td>f64</td><td>f64</td><td>f64</td><td>u32</td><td>u32</td><td>u32</td><td>f64</td><td>f64</td><td>u32</td><td>u32</td><td>u32</td><td>u32</td><td>f64</td><td>f64</td><td>f64</td><td>i64</td><td>f64</td><td>f64</td><td>f64</td></tr></thead><tbody><tr><td>&quot;AMD&quot;</td><td>&quot;humblBOOM&quot;</td><td>19.757117</td><td>19.757117</td><td>19.757117</td><td>202.877296</td><td>48.780488</td><td>32.047119</td><td>6.613129</td><td>41.0</td><td>1</td><td>20</td><td>21</td><td>20.0</td><td>21.0</td><td>20</td><td>20</td><td>21</td><td>21</td><td>-9.187238</td><td>-2.328536</td><td>4.5</td><td>12</td><td>19757.116741</td><td>19.757117</td><td>119757.116741</td></tr><tr><td>&quot;AMD&quot;</td><td>&quot;humblBOUNCE&quot;</td><td>20.905026</td><td>-6.013639</td><td>43.847917</td><td>71.301202</td><td>51.685393</td><td>33.384396</td><td>2.049091</td><td>110.131086</td><td>3</td><td>138</td><td>129</td><td>46.0</td><td>43.0</td><td>74</td><td>22</td><td>70</td><td>16</td><td>-25.280136</td><td>-4.603062</td><td>14.153846</td><td>136</td><td>54754.924225</td><td>54.754924</td><td>154754.924225</td></tr><tr><td>&quot;AMD&quot;</td><td>&quot;humblBLOAT&quot;</td><td>-5.461847</td><td>-5.85011</td><td>-1.634684</td><td>-8.076999</td><td>48.684211</td><td>43.666762</td><td>-0.276925</td><td>189.868421</td><td>2</td><td>111</td><td>115</td><td>55.5</td><td>57.5</td><td>101</td><td>10</td><td>104</td><td>11</td><td>-54.499413</td><td>-5.369275</td><td>2.25</td><td>5</td><td>-7389.162562</td><td>-7.389163</td><td>92610.837438</td></tr><tr><td>&quot;AMD&quot;</td><td>&quot;humblBUST&quot;</td><td>13.637768</td><td>-5.769231</td><td>14.321684</td><td>7.400645</td><td>49.194548</td><td>38.571732</td><td>0.068128</td><td>621.641884</td><td>3</td><td>397</td><td>409</td><td>132.333333</td><td>136.333333</td><td>347</td><td>8</td><td>355</td><td>12</td><td>-63.000284</td><td>-6.467538</td><td>25.529412</td><td>197</td><td>21229.4224</td><td>21.229422</td><td>121229.4224</td></tr><tr><td>&quot;JNJ&quot;</td><td>&quot;humblBOOM&quot;</td><td>13.631769</td><td>13.631769</td><td>13.631769</td><td>119.341355</td><td>60.97561</td><td>30.924158</td><td>4.003108</td><td>41.0</td><td>1</td><td>25</td><td>15</td><td>25.0</td><td>15.0</td><td>25</td><td>25</td><td>15</td><td>15</td><td>-4.753066</td><td>-1.381813</td><td>6.5</td><td>14</td><td>13631.768953</td><td>13.631769</td><td>113631.768953</td></tr><tr><td>&quot;JNJ&quot;</td><td>&quot;humblBOUNCE&quot;</td><td>2.899056</td><td>-6.67592</td><td>8.753316</td><td>0.784013</td><td>52.059925</td><td>32.156898</td><td>0.024477</td><td>110.131086</td><td>3</td><td>139</td><td>127</td><td>46.333333</td><td>42.333333</td><td>76</td><td>18</td><td>67</td><td>20</td><td>-12.669654</td><td>-1.293175</td><td>11.714286</td><td>79</td><td>-1286.021168</td><td>-1.286021</td><td>98713.978832</td></tr><tr><td>&quot;JNJ&quot;</td><td>&quot;humblBLOAT&quot;</td><td>8.657727</td><td>-0.722518</td><td>9.609346</td><td>9.961531</td><td>50.0</td><td>41.91746</td><td>0.169216</td><td>189.868421</td><td>2</td><td>114</td><td>114</td><td>57.0</td><td>57.0</td><td>102</td><td>12</td><td>105</td><td>9</td><td>-9.58013</td><td>-1.416872</td><td>9.615385</td><td>44</td><td>8817.397768</td><td>8.817398</td><td>108817.397768</td></tr><tr><td>&quot;JNJ&quot;</td><td>&quot;humblBUST&quot;</td><td>-9.506066</td><td>-11.138099</td><td>3.717088</td><td>-3.978602</td><td>49.938042</td><td>37.122697</td><td>-0.259138</td><td>621.641884</td><td>3</td><td>403</td><td>402</td><td>134.333333</td><td>134.0</td><td>359</td><td>6</td><td>342</td><td>14</td><td>-22.539727</td><td>-3.624475</td><td>13.777778</td><td>60</td><td>-14910.857198</td><td>-14.910857</td><td>85089.142802</td></tr></tbody></table></div>"
      ],
      "text/plain": [
       "shape: (8, 26)\n",
       "┌────────┬────────────┬────────────┬───────────┬───┬───────────┬───────────┬───────────┬───────────┐\n",
       "│ symbol ┆ humbl_regi ┆ avg_total_ ┆ min_retur ┆ … ┆ max_recov ┆ cumulativ ┆ investmen ┆ total_end │\n",
       "│ ---    ┆ me         ┆ return_pct ┆ n_pct     ┆   ┆ ery_days  ┆ e_investm ┆ t_growth_ ┆ ing_inves │\n",
       "│ str    ┆ ---        ┆ ---        ┆ ---       ┆   ┆ ---       ┆ ent_growt ┆ pct       ┆ tment_val │\n",
       "│        ┆ str        ┆ f64        ┆ f64       ┆   ┆ i64       ┆ h         ┆ ---       ┆ ue        │\n",
       "│        ┆            ┆            ┆           ┆   ┆           ┆ ---       ┆ f64       ┆ ---       │\n",
       "│        ┆            ┆            ┆           ┆   ┆           ┆ f64       ┆           ┆ f64       │\n",
       "╞════════╪════════════╪════════════╪═══════════╪═══╪═══════════╪═══════════╪═══════════╪═══════════╡\n",
       "│ AMD    ┆ humblBOOM  ┆ 19.757117  ┆ 19.757117 ┆ … ┆ 12        ┆ 19757.116 ┆ 19.757117 ┆ 119757.11 │\n",
       "│        ┆            ┆            ┆           ┆   ┆           ┆ 741       ┆           ┆ 6741      │\n",
       "│ AMD    ┆ humblBOUNC ┆ 20.905026  ┆ -6.013639 ┆ … ┆ 136       ┆ 54754.924 ┆ 54.754924 ┆ 154754.92 │\n",
       "│        ┆ E          ┆            ┆           ┆   ┆           ┆ 225       ┆           ┆ 4225      │\n",
       "│ AMD    ┆ humblBLOAT ┆ -5.461847  ┆ -5.85011  ┆ … ┆ 5         ┆ -7389.162 ┆ -7.389163 ┆ 92610.837 │\n",
       "│        ┆            ┆            ┆           ┆   ┆           ┆ 562       ┆           ┆ 438       │\n",
       "│ AMD    ┆ humblBUST  ┆ 13.637768  ┆ -5.769231 ┆ … ┆ 197       ┆ 21229.422 ┆ 21.229422 ┆ 121229.42 │\n",
       "│        ┆            ┆            ┆           ┆   ┆           ┆ 4         ┆           ┆ 24        │\n",
       "│ JNJ    ┆ humblBOOM  ┆ 13.631769  ┆ 13.631769 ┆ … ┆ 14        ┆ 13631.768 ┆ 13.631769 ┆ 113631.76 │\n",
       "│        ┆            ┆            ┆           ┆   ┆           ┆ 953       ┆           ┆ 8953      │\n",
       "│ JNJ    ┆ humblBOUNC ┆ 2.899056   ┆ -6.67592  ┆ … ┆ 79        ┆ -1286.021 ┆ -1.286021 ┆ 98713.978 │\n",
       "│        ┆ E          ┆            ┆           ┆   ┆           ┆ 168       ┆           ┆ 832       │\n",
       "│ JNJ    ┆ humblBLOAT ┆ 8.657727   ┆ -0.722518 ┆ … ┆ 44        ┆ 8817.3977 ┆ 8.817398  ┆ 108817.39 │\n",
       "│        ┆            ┆            ┆           ┆   ┆           ┆ 68        ┆           ┆ 7768      │\n",
       "│ JNJ    ┆ humblBUST  ┆ -9.506066  ┆ -11.13809 ┆ … ┆ 60        ┆ -14910.85 ┆ -14.91085 ┆ 85089.142 │\n",
       "│        ┆            ┆            ┆ 9         ┆   ┆           ┆ 7198      ┆ 7         ┆ 802       │\n",
       "└────────┴────────────┴────────────┴───────────┴───┴───────────┴───────────┴───────────┴───────────┘"
      ]
     },
     "execution_count": 5,
     "metadata": {},
     "output_type": "execute_result"
    }
   ],
   "source": [
    "\n",
    "results.to_polars()"
   ]
  },
  {
   "cell_type": "code",
   "execution_count": null,
   "metadata": {},
   "outputs": [],
   "source": [
    "results.extra[\"daily_regime_data\"].collect()"
   ]
  },
  {
   "cell_type": "code",
   "execution_count": null,
   "metadata": {},
   "outputs": [],
   "source": [
    "results.show()\n"
   ]
  },
  {
   "cell_type": "code",
   "execution_count": null,
   "metadata": {},
   "outputs": [],
   "source": [
    "results\n"
   ]
  },
  {
   "cell_type": "code",
   "execution_count": null,
   "metadata": {},
   "outputs": [],
   "source": [
    "from humbldata.core.utils.env import Env\n",
    "\n",
    "\n",
    "env = Env()\n",
    "\n",
    "if env.REDIS_URL:\n",
    "  print(\"test\")\n",
    "else:\n",
    "  print(\"nope\")"
   ]
  },
  {
   "cell_type": "code",
   "execution_count": null,
   "metadata": {},
   "outputs": [],
   "source": []
  }
 ],
 "metadata": {
  "kernelspec": {
   "display_name": ".venv",
   "language": "python",
   "name": "python3"
  },
  "language_info": {
   "codemirror_mode": {
    "name": "ipython",
    "version": 3
   },
   "file_extension": ".py",
   "mimetype": "text/x-python",
   "name": "python",
   "nbconvert_exporter": "python",
   "pygments_lexer": "ipython3",
   "version": "3.12.10"
  }
 },
 "nbformat": 4,
 "nbformat_minor": 2
}
