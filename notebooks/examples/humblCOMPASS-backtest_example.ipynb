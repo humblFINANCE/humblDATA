{
 "cells": [
  {
   "cell_type": "code",
   "execution_count": 9,
   "metadata": {},
   "outputs": [
    {
     "name": "stderr",
     "output_type": "stream",
     "text": [
      "\u001b[1;35mINFO:\u001b[0m \u001b[36mHumblCompassFetcher\u001b[0m || \u001b[32mSTART: fetch_data (async)\u001b[0m\n",
      "\u001b[1;35mINFO:\u001b[0m \u001b[36mLogCacheHitPlugin\u001b[0m || \u001b[32mhumbl_compass cache HIT & RETURNED [remote redis]\u001b[0m\n",
      "\u001b[1;35mDEBUG:\u001b[0m \u001b[36mLogCacheHitPlugin\u001b[0m || \u001b[34mhumbl_compass cache key: {\"country\": \"united_states\", \"end_date\": \"2024-01-14\", \"start_date\": \"2020-01-02\", \"z_score\": null} [remote redis]\u001b[0m\n",
      "\u001b[1;35mINFO:\u001b[0m \u001b[36mHumblCompassFetcher\u001b[0m || \u001b[32mEND: fetch_data (async) - Total time: 0.0172s\u001b[0m\n",
      "\u001b[1;35mINFO:\u001b[0m \u001b[36mHumblCompassBacktestFetcher\u001b[0m || \u001b[32mSTART: fetch_data (async)\u001b[0m\n",
      "\u001b[1;35mINFO:\u001b[0m \u001b[36mLogCacheHitPlugin\u001b[0m || \u001b[32mhumbl_compass_backtest cache HIT & RETURNED [remote redis]\u001b[0m\n",
      "\u001b[1;35mDEBUG:\u001b[0m \u001b[36mLogCacheHitPlugin\u001b[0m || \u001b[34mhumbl_compass_backtest cache key: {\"chart\": true, \"country\": \"united_states\", \"end_date\": \"2024-01-14\", \"initial_investment\": 100000.0, \"min_regime_days\": 21, \"risk_free_rate\": 0.03, \"start_date\": \"2020-01-02\", \"symbols\": [\"JNJ\", \"AMD\"], \"vol_window\": \"1m\"} [remote redis]\u001b[0m\n",
      "\u001b[1;35mINFO:\u001b[0m \u001b[36mHumblCompassBacktestFetcher\u001b[0m || \u001b[32mEND: fetch_data (async) - Total time: 0.0267s\u001b[0m\n"
     ]
    },
    {
     "name": "stdout",
     "output_type": "stream",
     "text": [
      "The autoreload extension is already loaded. To reload it, use:\n",
      "  %reload_ext autoreload\n"
     ]
    }
   ],
   "source": [
    "%load_ext autoreload\n",
    "%autoreload 2\n",
    "from humbldata.toolbox.toolbox_controller import Toolbox\n",
    "\n",
    "toolbox = Toolbox(\n",
    "    start_date=\"2020-01-02\",\n",
    "    end_date=\"2024-01-14\",\n",
    "    membership=\"admin\",\n",
    "    provider=\"fmp\",\n",
    ")\n",
    "\n",
    "# # Direct compass results\n",
    "# results = toolbox.fundamental.humbl_compass(country=\"united_states\")\n",
    "# results\n",
    "\n",
    "# Chained backtest\n",
    "results = await (await toolbox.fundamental.humbl_compass(country=\"united_states\")).backtest(symbols=[\"JNJ\", \"AMD\"], chart=True, vol_window=\"1m\", min_regime_days=21)\n",
    "# results.to_polars(equity_data=False)"
   ]
  },
  {
   "cell_type": "code",
   "execution_count": 7,
   "metadata": {},
   "outputs": [
    {
     "data": {
      "text/html": [
       "<div><style>\n",
       ".dataframe > thead > tr,\n",
       ".dataframe > tbody > tr {\n",
       "  text-align: right;\n",
       "  white-space: pre-wrap;\n",
       "}\n",
       "</style>\n",
       "<small>shape: (8, 26)</small><table border=\"1\" class=\"dataframe\"><thead><tr><th>symbol</th><th>humbl_regime</th><th>avg_total_return_pct</th><th>min_return_pct</th><th>max_return_pct</th><th>avg_ann_return_pct</th><th>avg_win_rate_pct</th><th>avg_volatility</th><th>avg_sharpe_ratio</th><th>avg_days_in_regime</th><th>instance_count</th><th>total_win_count</th><th>total_loss_count</th><th>avg_win_count_per_instance</th><th>avg_loss_count_per_instance</th><th>max_win_days</th><th>min_win_days</th><th>max_loss_days</th><th>min_loss_days</th><th>max_drawdown_pct</th><th>avg_drawdown_pct</th><th>avg_recovery_days</th><th>max_recovery_days</th><th>cumulative_investment_growth</th><th>investment_growth_pct</th><th>total_ending_investment_value</th></tr><tr><td>str</td><td>str</td><td>f64</td><td>f64</td><td>f64</td><td>f64</td><td>f64</td><td>f64</td><td>f64</td><td>f64</td><td>u32</td><td>u32</td><td>u32</td><td>f64</td><td>f64</td><td>u32</td><td>u32</td><td>u32</td><td>u32</td><td>f64</td><td>f64</td><td>f64</td><td>i64</td><td>f64</td><td>f64</td><td>f64</td></tr></thead><tbody><tr><td>&quot;AMD&quot;</td><td>&quot;humblBOOM&quot;</td><td>8.466365</td><td>5.267551</td><td>19.757117</td><td>28.992931</td><td>50.877193</td><td>36.310824</td><td>0.814891</td><td>309.307992</td><td>3</td><td>261</td><td>251</td><td>87.0</td><td>83.666667</td><td>192</td><td>20</td><td>194</td><td>21</td><td>-63.000284</td><td>-3.582285</td><td>3.36</td><td>18</td><td>48233.037056</td><td>48.233037</td><td>148233.037056</td></tr><tr><td>&quot;AMD&quot;</td><td>&quot;humblBOUNCE&quot;</td><td>16.646609</td><td>-11.085033</td><td>43.847917</td><td>54.963816</td><td>50.649351</td><td>32.667501</td><td>1.495886</td><td>100.928571</td><td>4</td><td>156</td><td>152</td><td>39.0</td><td>38.0</td><td>74</td><td>18</td><td>70</td><td>16</td><td>-25.280136</td><td>-4.784946</td><td>14.153846</td><td>136</td><td>37600.289187</td><td>37.600289</td><td>137600.289187</td></tr><tr><td>&quot;AMD&quot;</td><td>&quot;humblBLOAT&quot;</td><td>-5.461847</td><td>-5.85011</td><td>-1.634684</td><td>-8.076999</td><td>48.684211</td><td>43.666762</td><td>-0.276925</td><td>189.868421</td><td>2</td><td>111</td><td>115</td><td>55.5</td><td>57.5</td><td>101</td><td>10</td><td>104</td><td>11</td><td>-54.499413</td><td>-5.369275</td><td>2.25</td><td>5</td><td>-7389.162562</td><td>-7.389163</td><td>92610.837438</td></tr><tr><td>&quot;AMD&quot;</td><td>&quot;humblBUST&quot;</td><td>-3.198522</td><td>-9.990936</td><td>12.534759</td><td>0.151778</td><td>46.391753</td><td>42.70855</td><td>-0.236394</td><td>145.790378</td><td>3</td><td>135</td><td>156</td><td>45.0</td><td>52.0</td><td>85</td><td>8</td><td>102</td><td>12</td><td>-46.16495</td><td>-7.969473</td><td>15.75</td><td>35</td><td>-4552.255485</td><td>-4.552255</td><td>95447.744515</td></tr><tr><td>&quot;JNJ&quot;</td><td>&quot;humblBOOM&quot;</td><td>2.470387</td><td>-2.029934</td><td>13.631769</td><td>9.674413</td><td>53.216374</td><td>34.926936</td><td>0.239999</td><td>309.307992</td><td>3</td><td>273</td><td>239</td><td>91.0</td><td>79.666667</td><td>211</td><td>25</td><td>176</td><td>15</td><td>-15.127255</td><td>-2.373576</td><td>21.777778</td><td>122</td><td>13859.277158</td><td>13.859277</td><td>113859.277158</td></tr><tr><td>&quot;JNJ&quot;</td><td>&quot;humblBOUNCE&quot;</td><td>1.490824</td><td>-7.679861</td><td>8.753316</td><td>-4.48625</td><td>51.623377</td><td>31.44409</td><td>-0.197548</td><td>100.928571</td><td>4</td><td>159</td><td>148</td><td>39.75</td><td>37.0</td><td>76</td><td>18</td><td>67</td><td>20</td><td>-12.669654</td><td>-1.448373</td><td>11.133333</td><td>79</td><td>-8867.117127</td><td>-8.867117</td><td>91132.882873</td></tr><tr><td>&quot;JNJ&quot;</td><td>&quot;humblBLOAT&quot;</td><td>8.657727</td><td>-0.722518</td><td>9.609346</td><td>9.961531</td><td>50.0</td><td>41.91746</td><td>0.169216</td><td>189.868421</td><td>2</td><td>114</td><td>114</td><td>57.0</td><td>57.0</td><td>102</td><td>12</td><td>105</td><td>9</td><td>-9.58013</td><td>-1.416872</td><td>9.615385</td><td>44</td><td>8817.397768</td><td>8.817398</td><td>108817.397768</td></tr><tr><td>&quot;JNJ&quot;</td><td>&quot;humblBUST&quot;</td><td>-2.88105</td><td>-7.677357</td><td>3.717088</td><td>-5.594851</td><td>46.04811</td><td>41.180885</td><td>-0.375085</td><td>145.790378</td><td>3</td><td>134</td><td>155</td><td>44.666667</td><td>51.666667</td><td>90</td><td>6</td><td>95</td><td>14</td><td>-22.539727</td><td>-3.456006</td><td>13.777778</td><td>60</td><td>-9351.212569</td><td>-9.351213</td><td>90648.787431</td></tr></tbody></table></div>"
      ],
      "text/plain": [
       "shape: (8, 26)\n",
       "┌────────┬────────────┬────────────┬───────────┬───┬───────────┬───────────┬───────────┬───────────┐\n",
       "│ symbol ┆ humbl_regi ┆ avg_total_ ┆ min_retur ┆ … ┆ max_recov ┆ cumulativ ┆ investmen ┆ total_end │\n",
       "│ ---    ┆ me         ┆ return_pct ┆ n_pct     ┆   ┆ ery_days  ┆ e_investm ┆ t_growth_ ┆ ing_inves │\n",
       "│ str    ┆ ---        ┆ ---        ┆ ---       ┆   ┆ ---       ┆ ent_growt ┆ pct       ┆ tment_val │\n",
       "│        ┆ str        ┆ f64        ┆ f64       ┆   ┆ i64       ┆ h         ┆ ---       ┆ ue        │\n",
       "│        ┆            ┆            ┆           ┆   ┆           ┆ ---       ┆ f64       ┆ ---       │\n",
       "│        ┆            ┆            ┆           ┆   ┆           ┆ f64       ┆           ┆ f64       │\n",
       "╞════════╪════════════╪════════════╪═══════════╪═══╪═══════════╪═══════════╪═══════════╪═══════════╡\n",
       "│ AMD    ┆ humblBOOM  ┆ 8.466365   ┆ 5.267551  ┆ … ┆ 18        ┆ 48233.037 ┆ 48.233037 ┆ 148233.03 │\n",
       "│        ┆            ┆            ┆           ┆   ┆           ┆ 056       ┆           ┆ 7056      │\n",
       "│ AMD    ┆ humblBOUNC ┆ 16.646609  ┆ -11.08503 ┆ … ┆ 136       ┆ 37600.289 ┆ 37.600289 ┆ 137600.28 │\n",
       "│        ┆ E          ┆            ┆ 3         ┆   ┆           ┆ 187       ┆           ┆ 9187      │\n",
       "│ AMD    ┆ humblBLOAT ┆ -5.461847  ┆ -5.85011  ┆ … ┆ 5         ┆ -7389.162 ┆ -7.389163 ┆ 92610.837 │\n",
       "│        ┆            ┆            ┆           ┆   ┆           ┆ 562       ┆           ┆ 438       │\n",
       "│ AMD    ┆ humblBUST  ┆ -3.198522  ┆ -9.990936 ┆ … ┆ 35        ┆ -4552.255 ┆ -4.552255 ┆ 95447.744 │\n",
       "│        ┆            ┆            ┆           ┆   ┆           ┆ 485       ┆           ┆ 515       │\n",
       "│ JNJ    ┆ humblBOOM  ┆ 2.470387   ┆ -2.029934 ┆ … ┆ 122       ┆ 13859.277 ┆ 13.859277 ┆ 113859.27 │\n",
       "│        ┆            ┆            ┆           ┆   ┆           ┆ 158       ┆           ┆ 7158      │\n",
       "│ JNJ    ┆ humblBOUNC ┆ 1.490824   ┆ -7.679861 ┆ … ┆ 79        ┆ -8867.117 ┆ -8.867117 ┆ 91132.882 │\n",
       "│        ┆ E          ┆            ┆           ┆   ┆           ┆ 127       ┆           ┆ 873       │\n",
       "│ JNJ    ┆ humblBLOAT ┆ 8.657727   ┆ -0.722518 ┆ … ┆ 44        ┆ 8817.3977 ┆ 8.817398  ┆ 108817.39 │\n",
       "│        ┆            ┆            ┆           ┆   ┆           ┆ 68        ┆           ┆ 7768      │\n",
       "│ JNJ    ┆ humblBUST  ┆ -2.88105   ┆ -7.677357 ┆ … ┆ 60        ┆ -9351.212 ┆ -9.351213 ┆ 90648.787 │\n",
       "│        ┆            ┆            ┆           ┆   ┆           ┆ 569       ┆           ┆ 431       │\n",
       "└────────┴────────────┴────────────┴───────────┴───┴───────────┴───────────┴───────────┴───────────┘"
      ]
     },
     "execution_count": 7,
     "metadata": {},
     "output_type": "execute_result"
    }
   ],
   "source": [
    "\n",
    "results.to_polars()"
   ]
  },
  {
   "cell_type": "code",
   "execution_count": 8,
   "metadata": {},
   "outputs": [
    {
     "data": {
      "text/html": [
       "<div><style>\n",
       ".dataframe > thead > tr,\n",
       ".dataframe > tbody > tr {\n",
       "  text-align: right;\n",
       "  white-space: pre-wrap;\n",
       "}\n",
       "</style>\n",
       "<small>shape: (1_353, 2)</small><table border=\"1\" class=\"dataframe\"><thead><tr><th>date</th><th>humbl_regime</th></tr><tr><td>date</td><td>str</td></tr></thead><tbody><tr><td>2020-01-02</td><td>&quot;humblBOUNCE&quot;</td></tr><tr><td>2020-01-03</td><td>&quot;humblBOUNCE&quot;</td></tr><tr><td>2020-01-06</td><td>&quot;humblBOUNCE&quot;</td></tr><tr><td>2020-01-07</td><td>&quot;humblBOUNCE&quot;</td></tr><tr><td>2020-01-08</td><td>&quot;humblBOUNCE&quot;</td></tr><tr><td>&hellip;</td><td>&hellip;</td></tr><tr><td>2025-05-14</td><td>&quot;humblBOOM&quot;</td></tr><tr><td>2025-05-15</td><td>&quot;humblBOOM&quot;</td></tr><tr><td>2025-05-16</td><td>&quot;humblBOOM&quot;</td></tr><tr><td>2025-05-19</td><td>&quot;humblBOOM&quot;</td></tr><tr><td>2025-05-20</td><td>&quot;humblBOOM&quot;</td></tr></tbody></table></div>"
      ],
      "text/plain": [
       "shape: (1_353, 2)\n",
       "┌────────────┬──────────────┐\n",
       "│ date       ┆ humbl_regime │\n",
       "│ ---        ┆ ---          │\n",
       "│ date       ┆ str          │\n",
       "╞════════════╪══════════════╡\n",
       "│ 2020-01-02 ┆ humblBOUNCE  │\n",
       "│ 2020-01-03 ┆ humblBOUNCE  │\n",
       "│ 2020-01-06 ┆ humblBOUNCE  │\n",
       "│ 2020-01-07 ┆ humblBOUNCE  │\n",
       "│ 2020-01-08 ┆ humblBOUNCE  │\n",
       "│ …          ┆ …            │\n",
       "│ 2025-05-14 ┆ humblBOOM    │\n",
       "│ 2025-05-15 ┆ humblBOOM    │\n",
       "│ 2025-05-16 ┆ humblBOOM    │\n",
       "│ 2025-05-19 ┆ humblBOOM    │\n",
       "│ 2025-05-20 ┆ humblBOOM    │\n",
       "└────────────┴──────────────┘"
      ]
     },
     "execution_count": 8,
     "metadata": {},
     "output_type": "execute_result"
    }
   ],
   "source": [
    "results.extra[\"daily_regime_data\"].collect()"
   ]
  },
  {
   "cell_type": "code",
   "execution_count": null,
   "metadata": {},
   "outputs": [],
   "source": [
    "results.show()\n"
   ]
  },
  {
   "cell_type": "code",
   "execution_count": null,
   "metadata": {},
   "outputs": [],
   "source": [
    "results\n"
   ]
  },
  {
   "cell_type": "code",
   "execution_count": null,
   "metadata": {},
   "outputs": [],
   "source": [
    "from humbldata.core.utils.env import Env\n",
    "\n",
    "\n",
    "env = Env()\n",
    "\n",
    "if env.REDIS_URL:\n",
    "  print(\"test\")\n",
    "else:\n",
    "  print(\"nope\")"
   ]
  },
  {
   "cell_type": "code",
   "execution_count": null,
   "metadata": {},
   "outputs": [],
   "source": []
  }
 ],
 "metadata": {
  "kernelspec": {
   "display_name": ".venv",
   "language": "python",
   "name": "python3"
  },
  "language_info": {
   "codemirror_mode": {
    "name": "ipython",
    "version": 3
   },
   "file_extension": ".py",
   "mimetype": "text/x-python",
   "name": "python",
   "nbconvert_exporter": "python",
   "pygments_lexer": "ipython3",
   "version": "3.12.10"
  }
 },
 "nbformat": 4,
 "nbformat_minor": 2
}
