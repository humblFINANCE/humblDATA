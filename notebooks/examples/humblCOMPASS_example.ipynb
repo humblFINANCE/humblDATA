{
 "cells": [
  {
   "cell_type": "markdown",
   "metadata": {},
   "source": [
    "# CPI + CLI DATA COLLECTION\n"
   ]
  },
  {
   "cell_type": "markdown",
   "metadata": {},
   "source": [
    "## OECD Composite Leading Indicator"
   ]
  },
  {
   "cell_type": "code",
   "execution_count": null,
   "metadata": {},
   "outputs": [],
   "source": [
    "cli = obb.economy.composite_leading_indicator(start_date='2024-01-01', provider='oecd', country=['united_states'])\n",
    "cli.to_polars()"
   ]
  },
  {
   "cell_type": "markdown",
   "metadata": {},
   "source": [
    "## Consumer Price Index"
   ]
  },
  {
   "cell_type": "markdown",
   "metadata": {},
   "source": [
    "### OECD Consumer Price Index"
   ]
  },
  {
   "cell_type": "code",
   "execution_count": null,
   "metadata": {},
   "outputs": [],
   "source": [
    "oecd_cpi = obb.economy.cpi(start_date='2010-01-01', country='united_states', transform='yoy', provider='oecd',harmonized=False, expenditure='total')\n",
    "oecd_cpi.results\n"
   ]
  },
  {
   "cell_type": "markdown",
   "metadata": {},
   "source": [
    "### FRED Consumer Price Index"
   ]
  },
  {
   "cell_type": "code",
   "execution_count": null,
   "metadata": {},
   "outputs": [],
   "source": [
    "fred_cpi = obb.economy.cpi(start_date='2024-07-01', country='united_states', transform='yoy', provider='fred')\n",
    "fred_cpi.results"
   ]
  },
  {
   "cell_type": "markdown",
   "metadata": {},
   "source": [
    "# humblCOMPASS "
   ]
  },
  {
   "cell_type": "code",
   "execution_count": 30,
   "metadata": {},
   "outputs": [
    {
     "name": "stderr",
     "output_type": "stream",
     "text": [
      "\u001b[1;35mWARNING:\u001b[0m \u001b[36mToolboxQueryParams\u001b[0m || \u001b[1;33mStart date adjusted to 2023-05-17 based on humblPEON membership (2Y of data).\u001b[0m\n"
     ]
    },
    {
     "name": "stdout",
     "output_type": "stream",
     "text": [
      "The autoreload extension is already loaded. To reload it, use:\n",
      "  %reload_ext autoreload\n"
     ]
    }
   ],
   "source": [
    "%load_ext autoreload\n",
    "%autoreload 2\n",
    "\n",
    "from humbldata.toolbox.toolbox_controller import Toolbox\n",
    "\n",
    "toolbox = Toolbox(\n",
    "    # symbols=[\"AAPL\"],\n",
    "    # interval=\"1d\",\n",
    "    start_date=\"2023-01-01\",\n",
    "    end_date=\"2025-05-16\",\n",
    "    membership=\"humblPEON\"\n",
    ")"
   ]
  },
  {
   "cell_type": "code",
   "execution_count": 35,
   "metadata": {},
   "outputs": [
    {
     "name": "stderr",
     "output_type": "stream",
     "text": [
      "\u001b[1;35mINFO:\u001b[0m \u001b[36mHumblCompassFetcher\u001b[0m || \u001b[32mSTART: fetch_data (async)\u001b[0m\n"
     ]
    },
    {
     "name": "stderr",
     "output_type": "stream",
     "text": [
      "\u001b[1;35mINFO:\u001b[0m \u001b[36mLogCacheHitPlugin\u001b[0m || \u001b[32mhumbl_compass cache HIT & RETURNED\u001b[0m\n",
      "\u001b[1;35mDEBUG:\u001b[0m \u001b[36mLogCacheHitPlugin\u001b[0m || \u001b[34mhumbl_compass cache key: {\"country\": \"united_states\", \"end_date\": \"2025-05-16\", \"start_date\": \"2023-05-17\", \"z_score\": null}\u001b[0m\n",
      "\u001b[1;35mINFO:\u001b[0m \u001b[36mHumblCompassFetcher\u001b[0m || \u001b[32mEND: fetch_data (async) - Total time: 0.0183s\u001b[0m\n"
     ]
    }
   ],
   "source": [
    "compass = await toolbox.fundamental.humbl_compass(\n",
    "    country=\"united_states\",\n",
    "    chart=True,\n",
    "    recommendations=True\n",
    ")\n",
    "\n"
   ]
  },
  {
   "cell_type": "code",
   "execution_count": 32,
   "metadata": {},
   "outputs": [
    {
     "data": {
      "text/html": [
       "<div><style>\n",
       ".dataframe > thead > tr,\n",
       ".dataframe > tbody > tr {\n",
       "  text-align: right;\n",
       "  white-space: pre-wrap;\n",
       "}\n",
       "</style>\n",
       "<small>shape: (24, 7)</small><table border=\"1\" class=\"dataframe\"><thead><tr><th>date_month_start</th><th>country</th><th>cpi</th><th>cpi_3m_delta</th><th>cli</th><th>cli_3m_delta</th><th>humbl_regime</th></tr><tr><td>date</td><td>str</td><td>f64</td><td>f64</td><td>f64</td><td>f64</td><td>str</td></tr></thead><tbody><tr><td>2023-05-01</td><td>&quot;United States&quot;</td><td>4.05</td><td>-1.99</td><td>98.71</td><td>0.05</td><td>&quot;humblBOOM&quot;</td></tr><tr><td>2023-06-01</td><td>&quot;United States&quot;</td><td>2.97</td><td>-2.02</td><td>98.8</td><td>0.16</td><td>&quot;humblBOOM&quot;</td></tr><tr><td>2023-07-01</td><td>&quot;United States&quot;</td><td>3.18</td><td>-1.75</td><td>98.89</td><td>0.24</td><td>&quot;humblBOOM&quot;</td></tr><tr><td>2023-08-01</td><td>&quot;United States&quot;</td><td>3.67</td><td>-0.38</td><td>98.97</td><td>0.26</td><td>&quot;humblBOOM&quot;</td></tr><tr><td>2023-09-01</td><td>&quot;United States&quot;</td><td>3.7</td><td>0.73</td><td>99.03</td><td>0.23</td><td>&quot;humblBOUNCE&quot;</td></tr><tr><td>&hellip;</td><td>&hellip;</td><td>&hellip;</td><td>&hellip;</td><td>&hellip;</td><td>&hellip;</td><td>&hellip;</td></tr><tr><td>2024-12-01</td><td>&quot;United States&quot;</td><td>2.89</td><td>0.45</td><td>100.42</td><td>0.46</td><td>&quot;humblBOUNCE&quot;</td></tr><tr><td>2025-01-01</td><td>&quot;United States&quot;</td><td>3.0</td><td>0.4</td><td>100.5</td><td>0.38</td><td>&quot;humblBOUNCE&quot;</td></tr><tr><td>2025-02-01</td><td>&quot;United States&quot;</td><td>2.82</td><td>0.07</td><td>100.52</td><td>0.23</td><td>&quot;humblBOUNCE&quot;</td></tr><tr><td>2025-03-01</td><td>&quot;United States&quot;</td><td>2.39</td><td>-0.5</td><td>100.49</td><td>0.07</td><td>&quot;humblBOOM&quot;</td></tr><tr><td>2025-04-01</td><td>&quot;United States&quot;</td><td>2.31</td><td>-0.69</td><td>100.44</td><td>-0.06</td><td>&quot;humblBUST&quot;</td></tr></tbody></table></div>"
      ],
      "text/plain": [
       "shape: (24, 7)\n",
       "┌──────────────────┬───────────────┬──────┬──────────────┬────────┬──────────────┬──────────────┐\n",
       "│ date_month_start ┆ country       ┆ cpi  ┆ cpi_3m_delta ┆ cli    ┆ cli_3m_delta ┆ humbl_regime │\n",
       "│ ---              ┆ ---           ┆ ---  ┆ ---          ┆ ---    ┆ ---          ┆ ---          │\n",
       "│ date             ┆ str           ┆ f64  ┆ f64          ┆ f64    ┆ f64          ┆ str          │\n",
       "╞══════════════════╪═══════════════╪══════╪══════════════╪════════╪══════════════╪══════════════╡\n",
       "│ 2023-05-01       ┆ United States ┆ 4.05 ┆ -1.99        ┆ 98.71  ┆ 0.05         ┆ humblBOOM    │\n",
       "│ 2023-06-01       ┆ United States ┆ 2.97 ┆ -2.02        ┆ 98.8   ┆ 0.16         ┆ humblBOOM    │\n",
       "│ 2023-07-01       ┆ United States ┆ 3.18 ┆ -1.75        ┆ 98.89  ┆ 0.24         ┆ humblBOOM    │\n",
       "│ 2023-08-01       ┆ United States ┆ 3.67 ┆ -0.38        ┆ 98.97  ┆ 0.26         ┆ humblBOOM    │\n",
       "│ 2023-09-01       ┆ United States ┆ 3.7  ┆ 0.73         ┆ 99.03  ┆ 0.23         ┆ humblBOUNCE  │\n",
       "│ …                ┆ …             ┆ …    ┆ …            ┆ …      ┆ …            ┆ …            │\n",
       "│ 2024-12-01       ┆ United States ┆ 2.89 ┆ 0.45         ┆ 100.42 ┆ 0.46         ┆ humblBOUNCE  │\n",
       "│ 2025-01-01       ┆ United States ┆ 3.0  ┆ 0.4          ┆ 100.5  ┆ 0.38         ┆ humblBOUNCE  │\n",
       "│ 2025-02-01       ┆ United States ┆ 2.82 ┆ 0.07         ┆ 100.52 ┆ 0.23         ┆ humblBOUNCE  │\n",
       "│ 2025-03-01       ┆ United States ┆ 2.39 ┆ -0.5         ┆ 100.49 ┆ 0.07         ┆ humblBOOM    │\n",
       "│ 2025-04-01       ┆ United States ┆ 2.31 ┆ -0.69        ┆ 100.44 ┆ -0.06        ┆ humblBUST    │\n",
       "└──────────────────┴───────────────┴──────┴──────────────┴────────┴──────────────┴──────────────┘"
      ]
     },
     "execution_count": 32,
     "metadata": {},
     "output_type": "execute_result"
    }
   ],
   "source": [
    "compass.to_polars()"
   ]
  },
  {
   "cell_type": "code",
   "execution_count": 33,
   "metadata": {},
   "outputs": [
    {
     "data": {
      "text/plain": [
       "HumblObject\n",
       "\n",
       "id: 06827bb3-958b-7c05-8000-0d950e895bfb\n",
       "results: b\"DSL_VERSION\\x01\\x00\\x00\\x00\\x81\\xadDataFrameScan\\x82\\xa2df\\xc5\\x0cX\\xff\\...\n",
       "equity_data: None\n",
       "provider: yfinance\n",
       "warnings: [{'category': 'HumblDataWarning', 'message': 'Start date adjusted to 2022...\n",
       "chart: [{'content': '{\"data\":[{\"hovertemplate\":\"\\\\u003cb\\\\u003e%{text}\\\\u003c\\\\u002...\n",
       "extra: {'humbl_regime_recommendations': {'asset_classes': {'best': [<AssetRecommend...\n",
       "context_params: {'symbols': 'AAPL', 'interval': '1d', 'start_date': datetime.date(2...\n",
       "command_params: {'country': 'united_states', 'cli_start_date': '2023-01-17', 'cpi_s...\n",
       "backtest: <function __autoreload_class__.humbl_compass.<locals>.backtest at 0x12d55..."
      ]
     },
     "execution_count": 33,
     "metadata": {},
     "output_type": "execute_result"
    }
   ],
   "source": [
    "compass\n"
   ]
  },
  {
   "cell_type": "code",
   "execution_count": 34,
   "metadata": {},
   "outputs": [
    {
     "data": {
      "application/vnd.plotly.v1+json": {
       "config": {
        "plotlyServerURL": "https://plot.ly"
       },
       "data": [
        {
         "hovertemplate": "<b>%{text}</b><br>CPI 3m Δ: %{x:.2f}<br>CLI 3m Δ: %{y:.2f}<extra></extra>",
         "line": {
          "color": "white",
          "shape": "spline",
          "smoothing": 1.3
         },
         "marker": {
          "color": [
           0,
           1,
           2,
           3,
           4,
           5,
           6,
           7,
           8,
           9,
           10,
           11,
           12,
           13,
           14,
           15,
           16,
           17,
           18,
           19,
           20,
           21,
           22,
           23
          ],
          "colorscale": [
           [
            0,
            "rgb(253, 202, 181)"
           ],
           [
            1,
            "rgb(188, 20, 26)"
           ]
          ],
          "showscale": false,
          "size": 10
         },
         "mode": "lines+markers+text",
         "name": "HumblCompass Data",
         "text": [
          "May 2023",
          "Jun 2023",
          "Jul 2023",
          "Aug 2023",
          "Sep 2023",
          "Oct 2023",
          "Nov 2023",
          "Dec 2023",
          "Jan 2024",
          "Feb 2024",
          "Mar 2024",
          "Apr 2024",
          "May 2024",
          "Jun 2024",
          "Jul 2024",
          "Aug 2024",
          "Sep 2024",
          "Oct 2024",
          "Nov 2024",
          "Dec 2024",
          "Jan 2025",
          "Feb 2025",
          "Mar 2025",
          "Apr 2025"
         ],
         "textfont": {
          "color": "white",
          "size": 10
         },
         "textposition": "top center",
         "type": "scatter",
         "x": {
          "bdata": "16NwPQrX/78pXI/C9SgAwAAAAAAAAPy/UrgehetR2L9cj8L1KFznP7gehetRuK4/9ihcj8L14L9mZmZmZmbWvzMzMzMzM8O/exSuR+F6lD+kcD0K16PAP0jhehSuR9E/uB6F61G4vj9SuB6F61Hgv3E9CtejcN2/rkfhehSu57/2KFyPwvXgvzMzMzMzM9O/KVyPwvUozD/NzMzMzMzcP5qZmZmZmdk/7FG4HoXrsT8AAAAAAADgvxSuR+F6FOa/",
          "dtype": "f8"
         },
         "y": {
          "bdata": "mpmZmZmZqT97FK5H4XrEP7gehetRuM4/pHA9Ctej0D9xPQrXo3DNPwrXo3A9Csc/w/UoXI/CxT8pXI/C9SjMPzMzMzMzM9M/rkfhehSu1z9SuB6F61HYP9ejcD0K19M/UrgehetRyD97FK5H4Xq0P7gehetRuK4/pHA9CtejwD+kcD0K16PQP1K4HoXrUdg/cT0K16Nw3T9xPQrXo3DdP1K4HoXrUdg/cT0K16NwzT/sUbgeheuxP7gehetRuK6/",
          "dtype": "f8"
         }
        }
       ],
       "layout": {
        "annotations": [
         {
          "font": {
           "color": "white",
           "size": 8
          },
          "showarrow": false,
          "text": "-2.1",
          "x": -2.1,
          "y": 0,
          "yshift": -15
         },
         {
          "font": {
           "color": "white",
           "size": 8
          },
          "showarrow": false,
          "text": "-2.0",
          "x": -2,
          "y": 0,
          "yshift": -15
         },
         {
          "font": {
           "color": "white",
           "size": 8
          },
          "showarrow": false,
          "text": "-1.9",
          "x": -1.9,
          "y": 0,
          "yshift": -15
         },
         {
          "font": {
           "color": "white",
           "size": 8
          },
          "showarrow": false,
          "text": "-1.8",
          "x": -1.8,
          "y": 0,
          "yshift": -15
         },
         {
          "font": {
           "color": "white",
           "size": 8
          },
          "showarrow": false,
          "text": "-1.7",
          "x": -1.7,
          "y": 0,
          "yshift": -15
         },
         {
          "font": {
           "color": "white",
           "size": 8
          },
          "showarrow": false,
          "text": "-1.6",
          "x": -1.6,
          "y": 0,
          "yshift": -15
         },
         {
          "font": {
           "color": "white",
           "size": 8
          },
          "showarrow": false,
          "text": "-1.5",
          "x": -1.5,
          "y": 0,
          "yshift": -15
         },
         {
          "font": {
           "color": "white",
           "size": 8
          },
          "showarrow": false,
          "text": "-1.4",
          "x": -1.4,
          "y": 0,
          "yshift": -15
         },
         {
          "font": {
           "color": "white",
           "size": 8
          },
          "showarrow": false,
          "text": "-1.3",
          "x": -1.3,
          "y": 0,
          "yshift": -15
         },
         {
          "font": {
           "color": "white",
           "size": 8
          },
          "showarrow": false,
          "text": "-1.2",
          "x": -1.2,
          "y": 0,
          "yshift": -15
         },
         {
          "font": {
           "color": "white",
           "size": 8
          },
          "showarrow": false,
          "text": "-1.1",
          "x": -1.1,
          "y": 0,
          "yshift": -15
         },
         {
          "font": {
           "color": "white",
           "size": 8
          },
          "showarrow": false,
          "text": "-1.0",
          "x": -1,
          "y": 0,
          "yshift": -15
         },
         {
          "font": {
           "color": "white",
           "size": 8
          },
          "showarrow": false,
          "text": "-0.9",
          "x": -0.9,
          "y": 0,
          "yshift": -15
         },
         {
          "font": {
           "color": "white",
           "size": 8
          },
          "showarrow": false,
          "text": "-0.8",
          "x": -0.8,
          "y": 0,
          "yshift": -15
         },
         {
          "font": {
           "color": "white",
           "size": 8
          },
          "showarrow": false,
          "text": "-0.7",
          "x": -0.7,
          "y": 0,
          "yshift": -15
         },
         {
          "font": {
           "color": "white",
           "size": 8
          },
          "showarrow": false,
          "text": "-0.6",
          "x": -0.6,
          "y": 0,
          "yshift": -15
         },
         {
          "font": {
           "color": "white",
           "size": 8
          },
          "showarrow": false,
          "text": "-0.5",
          "x": -0.5,
          "y": 0,
          "yshift": -15
         },
         {
          "font": {
           "color": "white",
           "size": 8
          },
          "showarrow": false,
          "text": "-0.4",
          "x": -0.4,
          "y": 0,
          "yshift": -15
         },
         {
          "font": {
           "color": "white",
           "size": 8
          },
          "showarrow": false,
          "text": "-0.3",
          "x": -0.3,
          "y": 0,
          "yshift": -15
         },
         {
          "font": {
           "color": "white",
           "size": 8
          },
          "showarrow": false,
          "text": "-0.2",
          "x": -0.2,
          "y": 0,
          "yshift": -15
         },
         {
          "font": {
           "color": "white",
           "size": 8
          },
          "showarrow": false,
          "text": "-0.1",
          "x": -0.1,
          "y": 0,
          "yshift": -15
         },
         {
          "font": {
           "color": "white",
           "size": 8
          },
          "showarrow": false,
          "text": "0.1",
          "x": 0.1,
          "y": 0,
          "yshift": -15
         },
         {
          "font": {
           "color": "white",
           "size": 8
          },
          "showarrow": false,
          "text": "0.2",
          "x": 0.2,
          "y": 0,
          "yshift": -15
         },
         {
          "font": {
           "color": "white",
           "size": 8
          },
          "showarrow": false,
          "text": "0.3",
          "x": 0.3,
          "y": 0,
          "yshift": -15
         },
         {
          "font": {
           "color": "white",
           "size": 8
          },
          "showarrow": false,
          "text": "0.4",
          "x": 0.4,
          "y": 0,
          "yshift": -15
         },
         {
          "font": {
           "color": "white",
           "size": 8
          },
          "showarrow": false,
          "text": "0.5",
          "x": 0.5,
          "y": 0,
          "yshift": -15
         },
         {
          "font": {
           "color": "white",
           "size": 8
          },
          "showarrow": false,
          "text": "0.6",
          "x": 0.6,
          "y": 0,
          "yshift": -15
         },
         {
          "font": {
           "color": "white",
           "size": 8
          },
          "showarrow": false,
          "text": "0.7",
          "x": 0.7,
          "y": 0,
          "yshift": -15
         },
         {
          "font": {
           "color": "white",
           "size": 8
          },
          "showarrow": false,
          "text": "0.8",
          "x": 0.8,
          "y": 0,
          "yshift": -15
         },
         {
          "font": {
           "color": "white",
           "size": 8
          },
          "showarrow": false,
          "text": "-0.4",
          "x": 0,
          "xshift": -15,
          "y": -0.4
         },
         {
          "font": {
           "color": "white",
           "size": 8
          },
          "showarrow": false,
          "text": "-0.3",
          "x": 0,
          "xshift": -15,
          "y": -0.3
         },
         {
          "font": {
           "color": "white",
           "size": 8
          },
          "showarrow": false,
          "text": "-0.2",
          "x": 0,
          "xshift": -15,
          "y": -0.2
         },
         {
          "font": {
           "color": "white",
           "size": 8
          },
          "showarrow": false,
          "text": "-0.1",
          "x": 0,
          "xshift": -15,
          "y": -0.1
         },
         {
          "font": {
           "color": "white",
           "size": 8
          },
          "showarrow": false,
          "text": "0.1",
          "x": 0,
          "xshift": -15,
          "y": 0.1
         },
         {
          "font": {
           "color": "white",
           "size": 8
          },
          "showarrow": false,
          "text": "0.2",
          "x": 0,
          "xshift": -15,
          "y": 0.2
         },
         {
          "font": {
           "color": "white",
           "size": 8
          },
          "showarrow": false,
          "text": "0.3",
          "x": 0,
          "xshift": -15,
          "y": 0.3
         },
         {
          "font": {
           "color": "white",
           "size": 8
          },
          "showarrow": false,
          "text": "0.4",
          "x": 0,
          "xshift": -15,
          "y": 0.4
         },
         {
          "font": {
           "color": "white",
           "size": 8
          },
          "showarrow": false,
          "text": "0.5",
          "x": 0,
          "xshift": -15,
          "y": 0.5
         },
         {
          "font": {
           "color": "rgba(144, 238, 144, 0.5)",
           "size": 20
          },
          "opacity": 0.5,
          "showarrow": false,
          "text": "humblBOOM",
          "x": -1.1475,
          "y": 0.268
         },
         {
          "font": {
           "color": "rgba(173, 216, 230, 0.5)",
           "size": 20
          },
          "opacity": 0.5,
          "showarrow": false,
          "text": "humblBOUNCE",
          "x": 0.5025,
          "y": 0.268
         },
         {
          "font": {
           "color": "rgba(255, 165, 0, 0.5)",
           "size": 20
          },
          "opacity": 0.5,
          "showarrow": false,
          "text": "humblBLOAT",
          "x": 0.5025,
          "y": -0.188
         },
         {
          "font": {
           "color": "rgba(255, 99, 71, 0.5)",
           "size": 20
          },
          "opacity": 0.5,
          "showarrow": false,
          "text": "humblBUST",
          "x": -1.1475,
          "y": -0.188
         },
         {
          "font": {
           "color": "rgba(255, 255, 255, 0.1)",
           "size": 40
          },
          "showarrow": false,
          "text": "humblDATA",
          "textangle": -25,
          "x": 0,
          "xanchor": "center",
          "xref": "x",
          "y": 0,
          "yanchor": "middle",
          "yref": "y"
         }
        ],
        "font": {
         "color": "white"
        },
        "hovermode": "closest",
        "margin": {
         "b": 50,
         "l": 50,
         "r": 50,
         "t": 50
        },
        "paper_bgcolor": "rgba(0,0,0,0)",
        "plot_bgcolor": "rgba(0,0,0,0)",
        "shapes": [
         {
          "fillcolor": "rgba(173, 216, 230, 0.3)",
          "layer": "below",
          "line": {
           "color": "rgba(0,0,0,0)"
          },
          "type": "rect",
          "x0": 0,
          "x1": 25,
          "y0": 0,
          "y1": 25
         },
         {
          "fillcolor": "rgba(144, 238, 144, 0.3)",
          "layer": "below",
          "line": {
           "color": "rgba(0,0,0,0)"
          },
          "type": "rect",
          "x0": -25,
          "x1": 0,
          "y0": 0,
          "y1": 25
         },
         {
          "fillcolor": "rgba(255, 165, 0, 0.3)",
          "layer": "below",
          "line": {
           "color": "rgba(0,0,0,0)"
          },
          "type": "rect",
          "x0": 0,
          "x1": 25,
          "y0": -25,
          "y1": 0
         },
         {
          "fillcolor": "rgba(255, 99, 71, 0.3)",
          "layer": "below",
          "line": {
           "color": "rgba(0,0,0,0)"
          },
          "type": "rect",
          "x0": -25,
          "x1": 0,
          "y0": -25,
          "y1": 0
         },
         {
          "line": {
           "color": "white",
           "width": 1
          },
          "type": "line",
          "x0": -2.295,
          "x1": 1.005,
          "y0": 0,
          "y1": 0
         },
         {
          "line": {
           "color": "white",
           "width": 1
          },
          "type": "line",
          "x0": 0,
          "x1": 0,
          "y0": -0.376,
          "y1": 0.536
         },
         {
          "line": {
           "color": "white",
           "width": 1
          },
          "type": "line",
          "x0": -2.1,
          "x1": -2.1,
          "y0": -0.005,
          "y1": 0.005
         },
         {
          "line": {
           "color": "white",
           "width": 1
          },
          "type": "line",
          "x0": -2,
          "x1": -2,
          "y0": -0.005,
          "y1": 0.005
         },
         {
          "line": {
           "color": "white",
           "width": 1
          },
          "type": "line",
          "x0": -1.9,
          "x1": -1.9,
          "y0": -0.005,
          "y1": 0.005
         },
         {
          "line": {
           "color": "white",
           "width": 1
          },
          "type": "line",
          "x0": -1.8,
          "x1": -1.8,
          "y0": -0.005,
          "y1": 0.005
         },
         {
          "line": {
           "color": "white",
           "width": 1
          },
          "type": "line",
          "x0": -1.7,
          "x1": -1.7,
          "y0": -0.005,
          "y1": 0.005
         },
         {
          "line": {
           "color": "white",
           "width": 1
          },
          "type": "line",
          "x0": -1.6,
          "x1": -1.6,
          "y0": -0.005,
          "y1": 0.005
         },
         {
          "line": {
           "color": "white",
           "width": 1
          },
          "type": "line",
          "x0": -1.5,
          "x1": -1.5,
          "y0": -0.005,
          "y1": 0.005
         },
         {
          "line": {
           "color": "white",
           "width": 1
          },
          "type": "line",
          "x0": -1.4,
          "x1": -1.4,
          "y0": -0.005,
          "y1": 0.005
         },
         {
          "line": {
           "color": "white",
           "width": 1
          },
          "type": "line",
          "x0": -1.3,
          "x1": -1.3,
          "y0": -0.005,
          "y1": 0.005
         },
         {
          "line": {
           "color": "white",
           "width": 1
          },
          "type": "line",
          "x0": -1.2,
          "x1": -1.2,
          "y0": -0.005,
          "y1": 0.005
         },
         {
          "line": {
           "color": "white",
           "width": 1
          },
          "type": "line",
          "x0": -1.1,
          "x1": -1.1,
          "y0": -0.005,
          "y1": 0.005
         },
         {
          "line": {
           "color": "white",
           "width": 1
          },
          "type": "line",
          "x0": -1,
          "x1": -1,
          "y0": -0.005,
          "y1": 0.005
         },
         {
          "line": {
           "color": "white",
           "width": 1
          },
          "type": "line",
          "x0": -0.9,
          "x1": -0.9,
          "y0": -0.005,
          "y1": 0.005
         },
         {
          "line": {
           "color": "white",
           "width": 1
          },
          "type": "line",
          "x0": -0.8,
          "x1": -0.8,
          "y0": -0.005,
          "y1": 0.005
         },
         {
          "line": {
           "color": "white",
           "width": 1
          },
          "type": "line",
          "x0": -0.7,
          "x1": -0.7,
          "y0": -0.005,
          "y1": 0.005
         },
         {
          "line": {
           "color": "white",
           "width": 1
          },
          "type": "line",
          "x0": -0.6,
          "x1": -0.6,
          "y0": -0.005,
          "y1": 0.005
         },
         {
          "line": {
           "color": "white",
           "width": 1
          },
          "type": "line",
          "x0": -0.5,
          "x1": -0.5,
          "y0": -0.005,
          "y1": 0.005
         },
         {
          "line": {
           "color": "white",
           "width": 1
          },
          "type": "line",
          "x0": -0.4,
          "x1": -0.4,
          "y0": -0.005,
          "y1": 0.005
         },
         {
          "line": {
           "color": "white",
           "width": 1
          },
          "type": "line",
          "x0": -0.3,
          "x1": -0.3,
          "y0": -0.005,
          "y1": 0.005
         },
         {
          "line": {
           "color": "white",
           "width": 1
          },
          "type": "line",
          "x0": -0.2,
          "x1": -0.2,
          "y0": -0.005,
          "y1": 0.005
         },
         {
          "line": {
           "color": "white",
           "width": 1
          },
          "type": "line",
          "x0": -0.1,
          "x1": -0.1,
          "y0": -0.005,
          "y1": 0.005
         },
         {
          "line": {
           "color": "white",
           "width": 1
          },
          "type": "line",
          "x0": 0.1,
          "x1": 0.1,
          "y0": -0.005,
          "y1": 0.005
         },
         {
          "line": {
           "color": "white",
           "width": 1
          },
          "type": "line",
          "x0": 0.2,
          "x1": 0.2,
          "y0": -0.005,
          "y1": 0.005
         },
         {
          "line": {
           "color": "white",
           "width": 1
          },
          "type": "line",
          "x0": 0.3,
          "x1": 0.3,
          "y0": -0.005,
          "y1": 0.005
         },
         {
          "line": {
           "color": "white",
           "width": 1
          },
          "type": "line",
          "x0": 0.4,
          "x1": 0.4,
          "y0": -0.005,
          "y1": 0.005
         },
         {
          "line": {
           "color": "white",
           "width": 1
          },
          "type": "line",
          "x0": 0.5,
          "x1": 0.5,
          "y0": -0.005,
          "y1": 0.005
         },
         {
          "line": {
           "color": "white",
           "width": 1
          },
          "type": "line",
          "x0": 0.6,
          "x1": 0.6,
          "y0": -0.005,
          "y1": 0.005
         },
         {
          "line": {
           "color": "white",
           "width": 1
          },
          "type": "line",
          "x0": 0.7,
          "x1": 0.7,
          "y0": -0.005,
          "y1": 0.005
         },
         {
          "line": {
           "color": "white",
           "width": 1
          },
          "type": "line",
          "x0": 0.8,
          "x1": 0.8,
          "y0": -0.005,
          "y1": 0.005
         },
         {
          "line": {
           "color": "white",
           "width": 1
          },
          "type": "line",
          "x0": -0.005,
          "x1": 0.005,
          "y0": -0.4,
          "y1": -0.4
         },
         {
          "line": {
           "color": "white",
           "width": 1
          },
          "type": "line",
          "x0": -0.005,
          "x1": 0.005,
          "y0": -0.3,
          "y1": -0.3
         },
         {
          "line": {
           "color": "white",
           "width": 1
          },
          "type": "line",
          "x0": -0.005,
          "x1": 0.005,
          "y0": -0.2,
          "y1": -0.2
         },
         {
          "line": {
           "color": "white",
           "width": 1
          },
          "type": "line",
          "x0": -0.005,
          "x1": 0.005,
          "y0": -0.1,
          "y1": -0.1
         },
         {
          "line": {
           "color": "white",
           "width": 1
          },
          "type": "line",
          "x0": -0.005,
          "x1": 0.005,
          "y0": 0.1,
          "y1": 0.1
         },
         {
          "line": {
           "color": "white",
           "width": 1
          },
          "type": "line",
          "x0": -0.005,
          "x1": 0.005,
          "y0": 0.2,
          "y1": 0.2
         },
         {
          "line": {
           "color": "white",
           "width": 1
          },
          "type": "line",
          "x0": -0.005,
          "x1": 0.005,
          "y0": 0.3,
          "y1": 0.3
         },
         {
          "line": {
           "color": "white",
           "width": 1
          },
          "type": "line",
          "x0": -0.005,
          "x1": 0.005,
          "y0": 0.4,
          "y1": 0.4
         },
         {
          "line": {
           "color": "white",
           "width": 1
          },
          "type": "line",
          "x0": -0.005,
          "x1": 0.005,
          "y0": 0.5,
          "y1": 0.5
         }
        ],
        "template": {
         "data": {
          "bar": [
           {
            "error_x": {
             "color": "#f2f5fa"
            },
            "error_y": {
             "color": "#f2f5fa"
            },
            "marker": {
             "line": {
              "color": "rgb(17,17,17)",
              "width": 0.5
             },
             "pattern": {
              "fillmode": "overlay",
              "size": 10,
              "solidity": 0.2
             }
            },
            "type": "bar"
           }
          ],
          "barpolar": [
           {
            "marker": {
             "line": {
              "color": "rgb(17,17,17)",
              "width": 0.5
             },
             "pattern": {
              "fillmode": "overlay",
              "size": 10,
              "solidity": 0.2
             }
            },
            "type": "barpolar"
           }
          ],
          "carpet": [
           {
            "aaxis": {
             "endlinecolor": "#A2B1C6",
             "gridcolor": "#506784",
             "linecolor": "#506784",
             "minorgridcolor": "#506784",
             "startlinecolor": "#A2B1C6"
            },
            "baxis": {
             "endlinecolor": "#A2B1C6",
             "gridcolor": "#506784",
             "linecolor": "#506784",
             "minorgridcolor": "#506784",
             "startlinecolor": "#A2B1C6"
            },
            "type": "carpet"
           }
          ],
          "choropleth": [
           {
            "colorbar": {
             "outlinewidth": 0,
             "ticks": ""
            },
            "type": "choropleth"
           }
          ],
          "contour": [
           {
            "colorbar": {
             "outlinewidth": 0,
             "ticks": ""
            },
            "colorscale": [
             [
              0,
              "#0d0887"
             ],
             [
              0.1111111111111111,
              "#46039f"
             ],
             [
              0.2222222222222222,
              "#7201a8"
             ],
             [
              0.3333333333333333,
              "#9c179e"
             ],
             [
              0.4444444444444444,
              "#bd3786"
             ],
             [
              0.5555555555555556,
              "#d8576b"
             ],
             [
              0.6666666666666666,
              "#ed7953"
             ],
             [
              0.7777777777777778,
              "#fb9f3a"
             ],
             [
              0.8888888888888888,
              "#fdca26"
             ],
             [
              1,
              "#f0f921"
             ]
            ],
            "type": "contour"
           }
          ],
          "contourcarpet": [
           {
            "colorbar": {
             "outlinewidth": 0,
             "ticks": ""
            },
            "type": "contourcarpet"
           }
          ],
          "heatmap": [
           {
            "colorbar": {
             "outlinewidth": 0,
             "ticks": ""
            },
            "colorscale": [
             [
              0,
              "#0d0887"
             ],
             [
              0.1111111111111111,
              "#46039f"
             ],
             [
              0.2222222222222222,
              "#7201a8"
             ],
             [
              0.3333333333333333,
              "#9c179e"
             ],
             [
              0.4444444444444444,
              "#bd3786"
             ],
             [
              0.5555555555555556,
              "#d8576b"
             ],
             [
              0.6666666666666666,
              "#ed7953"
             ],
             [
              0.7777777777777778,
              "#fb9f3a"
             ],
             [
              0.8888888888888888,
              "#fdca26"
             ],
             [
              1,
              "#f0f921"
             ]
            ],
            "type": "heatmap"
           }
          ],
          "histogram": [
           {
            "marker": {
             "pattern": {
              "fillmode": "overlay",
              "size": 10,
              "solidity": 0.2
             }
            },
            "type": "histogram"
           }
          ],
          "histogram2d": [
           {
            "colorbar": {
             "outlinewidth": 0,
             "ticks": ""
            },
            "colorscale": [
             [
              0,
              "#0d0887"
             ],
             [
              0.1111111111111111,
              "#46039f"
             ],
             [
              0.2222222222222222,
              "#7201a8"
             ],
             [
              0.3333333333333333,
              "#9c179e"
             ],
             [
              0.4444444444444444,
              "#bd3786"
             ],
             [
              0.5555555555555556,
              "#d8576b"
             ],
             [
              0.6666666666666666,
              "#ed7953"
             ],
             [
              0.7777777777777778,
              "#fb9f3a"
             ],
             [
              0.8888888888888888,
              "#fdca26"
             ],
             [
              1,
              "#f0f921"
             ]
            ],
            "type": "histogram2d"
           }
          ],
          "histogram2dcontour": [
           {
            "colorbar": {
             "outlinewidth": 0,
             "ticks": ""
            },
            "colorscale": [
             [
              0,
              "#0d0887"
             ],
             [
              0.1111111111111111,
              "#46039f"
             ],
             [
              0.2222222222222222,
              "#7201a8"
             ],
             [
              0.3333333333333333,
              "#9c179e"
             ],
             [
              0.4444444444444444,
              "#bd3786"
             ],
             [
              0.5555555555555556,
              "#d8576b"
             ],
             [
              0.6666666666666666,
              "#ed7953"
             ],
             [
              0.7777777777777778,
              "#fb9f3a"
             ],
             [
              0.8888888888888888,
              "#fdca26"
             ],
             [
              1,
              "#f0f921"
             ]
            ],
            "type": "histogram2dcontour"
           }
          ],
          "mesh3d": [
           {
            "colorbar": {
             "outlinewidth": 0,
             "ticks": ""
            },
            "type": "mesh3d"
           }
          ],
          "parcoords": [
           {
            "line": {
             "colorbar": {
              "outlinewidth": 0,
              "ticks": ""
             }
            },
            "type": "parcoords"
           }
          ],
          "pie": [
           {
            "automargin": true,
            "type": "pie"
           }
          ],
          "scatter": [
           {
            "fillpattern": {
             "fillmode": "overlay",
             "size": 10,
             "solidity": 0.2
            },
            "marker": {
             "line": {
              "color": "#283442"
             }
            },
            "type": "scatter"
           }
          ],
          "scatter3d": [
           {
            "line": {
             "colorbar": {
              "outlinewidth": 0,
              "ticks": ""
             }
            },
            "marker": {
             "colorbar": {
              "outlinewidth": 0,
              "ticks": ""
             }
            },
            "type": "scatter3d"
           }
          ],
          "scattercarpet": [
           {
            "marker": {
             "colorbar": {
              "outlinewidth": 0,
              "ticks": ""
             }
            },
            "type": "scattercarpet"
           }
          ],
          "scattergeo": [
           {
            "marker": {
             "colorbar": {
              "outlinewidth": 0,
              "ticks": ""
             }
            },
            "type": "scattergeo"
           }
          ],
          "scattergl": [
           {
            "marker": {
             "colorbar": {
              "outlinewidth": 0,
              "ticks": ""
             },
             "line": {
              "color": "#283442"
             }
            },
            "type": "scattergl"
           }
          ],
          "scattermap": [
           {
            "marker": {
             "colorbar": {
              "outlinewidth": 0,
              "ticks": ""
             }
            },
            "type": "scattermap"
           }
          ],
          "scattermapbox": [
           {
            "marker": {
             "colorbar": {
              "outlinewidth": 0,
              "ticks": ""
             }
            },
            "type": "scattermapbox"
           }
          ],
          "scatterpolar": [
           {
            "marker": {
             "colorbar": {
              "outlinewidth": 0,
              "ticks": ""
             }
            },
            "type": "scatterpolar"
           }
          ],
          "scatterpolargl": [
           {
            "marker": {
             "colorbar": {
              "outlinewidth": 0,
              "ticks": ""
             }
            },
            "type": "scatterpolargl"
           }
          ],
          "scatterternary": [
           {
            "marker": {
             "colorbar": {
              "outlinewidth": 0,
              "ticks": ""
             }
            },
            "type": "scatterternary"
           }
          ],
          "surface": [
           {
            "colorbar": {
             "outlinewidth": 0,
             "ticks": ""
            },
            "colorscale": [
             [
              0,
              "#0d0887"
             ],
             [
              0.1111111111111111,
              "#46039f"
             ],
             [
              0.2222222222222222,
              "#7201a8"
             ],
             [
              0.3333333333333333,
              "#9c179e"
             ],
             [
              0.4444444444444444,
              "#bd3786"
             ],
             [
              0.5555555555555556,
              "#d8576b"
             ],
             [
              0.6666666666666666,
              "#ed7953"
             ],
             [
              0.7777777777777778,
              "#fb9f3a"
             ],
             [
              0.8888888888888888,
              "#fdca26"
             ],
             [
              1,
              "#f0f921"
             ]
            ],
            "type": "surface"
           }
          ],
          "table": [
           {
            "cells": {
             "fill": {
              "color": "#506784"
             },
             "line": {
              "color": "rgb(17,17,17)"
             }
            },
            "header": {
             "fill": {
              "color": "#2a3f5f"
             },
             "line": {
              "color": "rgb(17,17,17)"
             }
            },
            "type": "table"
           }
          ]
         },
         "layout": {
          "annotationdefaults": {
           "arrowcolor": "#f2f5fa",
           "arrowhead": 0,
           "arrowwidth": 1
          },
          "autotypenumbers": "strict",
          "coloraxis": {
           "colorbar": {
            "outlinewidth": 0,
            "ticks": ""
           }
          },
          "colorscale": {
           "diverging": [
            [
             0,
             "#8e0152"
            ],
            [
             0.1,
             "#c51b7d"
            ],
            [
             0.2,
             "#de77ae"
            ],
            [
             0.3,
             "#f1b6da"
            ],
            [
             0.4,
             "#fde0ef"
            ],
            [
             0.5,
             "#f7f7f7"
            ],
            [
             0.6,
             "#e6f5d0"
            ],
            [
             0.7,
             "#b8e186"
            ],
            [
             0.8,
             "#7fbc41"
            ],
            [
             0.9,
             "#4d9221"
            ],
            [
             1,
             "#276419"
            ]
           ],
           "sequential": [
            [
             0,
             "#0d0887"
            ],
            [
             0.1111111111111111,
             "#46039f"
            ],
            [
             0.2222222222222222,
             "#7201a8"
            ],
            [
             0.3333333333333333,
             "#9c179e"
            ],
            [
             0.4444444444444444,
             "#bd3786"
            ],
            [
             0.5555555555555556,
             "#d8576b"
            ],
            [
             0.6666666666666666,
             "#ed7953"
            ],
            [
             0.7777777777777778,
             "#fb9f3a"
            ],
            [
             0.8888888888888888,
             "#fdca26"
            ],
            [
             1,
             "#f0f921"
            ]
           ],
           "sequentialminus": [
            [
             0,
             "#0d0887"
            ],
            [
             0.1111111111111111,
             "#46039f"
            ],
            [
             0.2222222222222222,
             "#7201a8"
            ],
            [
             0.3333333333333333,
             "#9c179e"
            ],
            [
             0.4444444444444444,
             "#bd3786"
            ],
            [
             0.5555555555555556,
             "#d8576b"
            ],
            [
             0.6666666666666666,
             "#ed7953"
            ],
            [
             0.7777777777777778,
             "#fb9f3a"
            ],
            [
             0.8888888888888888,
             "#fdca26"
            ],
            [
             1,
             "#f0f921"
            ]
           ]
          },
          "colorway": [
           "#636efa",
           "#EF553B",
           "#00cc96",
           "#ab63fa",
           "#FFA15A",
           "#19d3f3",
           "#FF6692",
           "#B6E880",
           "#FF97FF",
           "#FECB52"
          ],
          "font": {
           "color": "white"
          },
          "geo": {
           "bgcolor": "rgb(17,17,17)",
           "lakecolor": "rgb(17,17,17)",
           "landcolor": "rgb(17,17,17)",
           "showlakes": true,
           "showland": true,
           "subunitcolor": "#506784"
          },
          "hoverlabel": {
           "align": "left"
          },
          "hovermode": "closest",
          "legend": {
           "bgcolor": "rgb(0,0,0,0)",
           "bordercolor": "rgb(63,70,139)",
           "borderwidth": 0.5,
           "font": {
            "color": "white",
            "family": "open-sans",
            "size": 12
           },
           "orientation": "h",
           "traceorder": "normal",
           "x": 0.5,
           "xanchor": "center",
           "y": -0.15
          },
          "mapbox": {
           "style": "dark"
          },
          "paper_bgcolor": "rgb(0,0,0,0)",
          "plot_bgcolor": "rgb(0,0,0,0)",
          "polar": {
           "angularaxis": {
            "gridcolor": "#506784",
            "linecolor": "#506784",
            "ticks": ""
           },
           "bgcolor": "rgb(17,17,17)",
           "radialaxis": {
            "gridcolor": "#506784",
            "linecolor": "#506784",
            "ticks": ""
           }
          },
          "scene": {
           "xaxis": {
            "backgroundcolor": "rgb(17,17,17)",
            "gridcolor": "#506784",
            "gridwidth": 2,
            "linecolor": "#506784",
            "showbackground": true,
            "ticks": "",
            "zerolinecolor": "#C8D4E3"
           },
           "yaxis": {
            "backgroundcolor": "rgb(17,17,17)",
            "gridcolor": "#506784",
            "gridwidth": 2,
            "linecolor": "#506784",
            "showbackground": true,
            "ticks": "",
            "zerolinecolor": "#C8D4E3"
           },
           "zaxis": {
            "backgroundcolor": "rgb(17,17,17)",
            "gridcolor": "#506784",
            "gridwidth": 2,
            "linecolor": "#506784",
            "showbackground": true,
            "ticks": "",
            "zerolinecolor": "#C8D4E3"
           }
          },
          "shapedefaults": {
           "line": {
            "color": "#f2f5fa"
           }
          },
          "sliderdefaults": {
           "bgcolor": "#C8D4E3",
           "bordercolor": "rgb(17,17,17)",
           "borderwidth": 1,
           "tickwidth": 0
          },
          "ternary": {
           "aaxis": {
            "gridcolor": "#506784",
            "linecolor": "#506784",
            "ticks": ""
           },
           "baxis": {
            "gridcolor": "#506784",
            "linecolor": "#506784",
            "ticks": ""
           },
           "bgcolor": "rgb(17,17,17)",
           "caxis": {
            "gridcolor": "#506784",
            "linecolor": "#506784",
            "ticks": ""
           }
          },
          "title": {
           "x": 0.05
          },
          "updatemenudefaults": {
           "bgcolor": "#506784",
           "borderwidth": 0
          },
          "xaxis": {
           "automargin": true,
           "gridcolor": "#283442",
           "linecolor": "#506784",
           "ticks": "",
           "title": {
            "standoff": 15
           },
           "zerolinecolor": "#283442",
           "zerolinewidth": 2
          },
          "yaxis": {
           "automargin": true,
           "gridcolor": "#283442",
           "linecolor": "#506784",
           "side": "right",
           "ticks": "",
           "title": {
            "standoff": 15
           },
           "zerolinecolor": "#283442",
           "zerolinewidth": 2
          }
         }
        },
        "title": {
         "font": {
          "color": "white"
         },
         "text": "humblCOMPASS: CLI 3m Delta vs CPI 3m Delta"
        },
        "xaxis": {
         "color": "white",
         "range": [
          -2.295,
          1.005
         ],
         "showgrid": false,
         "showticklabels": false,
         "ticks": "",
         "title": {
          "text": "Inflation (CPI) 3-Month Delta"
         },
         "zeroline": false
        },
        "yaxis": {
         "color": "white",
         "range": [
          -0.376,
          0.536
         ],
         "showgrid": false,
         "showticklabels": false,
         "ticks": "",
         "title": {
          "text": "Growth (CLI) 3-Month Delta"
         },
         "zeroline": false
        }
       }
      }
     },
     "metadata": {},
     "output_type": "display_data"
    }
   ],
   "source": [
    "compass.show()"
   ]
  },
  {
   "cell_type": "code",
   "execution_count": 19,
   "metadata": {},
   "outputs": [
    {
     "data": {
      "text/plain": [
       "[Warning_(category='HumblDataWarning', message='Start date adjusted to 2022-12-02 based on humblPEON membership (2Y of data).'),\n",
       " Warning_(category='HumblDataWarning', message='Z-score defaulted to None. No z-score data will be calculated.')]"
      ]
     },
     "execution_count": 19,
     "metadata": {},
     "output_type": "execute_result"
    }
   ],
   "source": [
    "compass.warnings"
   ]
  },
  {
   "cell_type": "code",
   "execution_count": 37,
   "metadata": {},
   "outputs": [
    {
     "data": {
      "text/plain": [
       "True"
      ]
     },
     "execution_count": 37,
     "metadata": {},
     "output_type": "execute_result"
    }
   ],
   "source": [
    "from aiocache import RedisCache\n",
    "\n",
    "\n",
    "await RedisCache(namespace=\"humbl_compass\").clear()"
   ]
  },
  {
   "cell_type": "code",
   "execution_count": 14,
   "metadata": {},
   "outputs": [
    {
     "name": "stderr",
     "output_type": "stream",
     "text": [
      "\u001b[1;35mINFO:\u001b[0m \u001b[36mOpenBBAPIClient\u001b[0m || \u001b[32mSTART: fetch_data (async)\u001b[0m\n",
      "\u001b[1;35mINFO:\u001b[0m \u001b[36mOpenBBAPIClient\u001b[0m || \u001b[32mPrepared request for: http://127.0.0.1:6900/api/v1/economy/composite_leading_indicator?provider=oecd&start_date=2022-08-02&end_date=2024-11-01&country=united_states&adjustment=amplitude&growth_rate=false\u001b[0m\n",
      "\u001b[1;35mINFO:\u001b[0m \u001b[36mOpenBBAPIClient\u001b[0m || \u001b[32mFetching data from: http://127.0.0.1:6900/api/v1/economy/composite_leading_indicator?provider=oecd&start_date=2022-08-02&end_date=2024-11-01&country=united_states&adjustment=amplitude&growth_rate=false\u001b[0m\n",
      "\u001b[1;35mINFO:\u001b[0m \u001b[36mOpenBBAPIClient\u001b[0m || \u001b[32mEND: fetch_data (async) - Total time: 0.1986s\u001b[0m\n"
     ]
    },
    {
     "name": "stdout",
     "output_type": "stream",
     "text": [
      "The autoreload extension is already loaded. To reload it, use:\n",
      "  %reload_ext autoreload\n"
     ]
    }
   ],
   "source": [
    "%load_ext autoreload\n",
    "%autoreload 2\n",
    "\n",
    "import polars as pl\n",
    "from humbldata.core.standard_models.openbbapi.EconomyCompositeLeadingIndicatorQueryParams import EconomyCompositeLeadingIndicatorQueryParams\n",
    "from humbldata.core.utils.openbb_api_client import OpenBBAPIClient\n",
    "\n",
    "\n",
    "cli_query_params = EconomyCompositeLeadingIndicatorQueryParams(\n",
    "    start_date=\"2022-08-02\",\n",
    "    end_date=\"2024-11-01\",\n",
    "    provider=\"oecd\",\n",
    "    country=\"united_states\",\n",
    ")\n",
    "api_client = OpenBBAPIClient()\n",
    "cli_response = await api_client.fetch_data(\n",
    "    obb_path=\"economy.composite_leading_indicator\",\n",
    "    api_query_params=cli_query_params,\n",
    ")\n",
    "oecd_cli_data = cli_response.to_polars(collect=False)\n",
    "oecd_cli_data = oecd_cli_data.rename({\"value\": \"cli\"}).with_columns(\n",
    "    [pl.col(\"date\").dt.month_start().alias(\"date_month_start\")]\n",
    ")"
   ]
  },
  {
   "cell_type": "code",
   "execution_count": 25,
   "metadata": {},
   "outputs": [
    {
     "name": "stderr",
     "output_type": "stream",
     "text": [
      "\u001b[1;35mINFO:\u001b[0m \u001b[36mOpenBBAPIClient\u001b[0m || \u001b[32mSTART: fetch_data (async)\u001b[0m\n",
      "\u001b[1;35mINFO:\u001b[0m \u001b[36mOpenBBAPIClient\u001b[0m || \u001b[32mPrepared request for: http://127.0.0.1:6900/api/v1/equity/price/historical?provider=yfinance&symbol=AAPL&symbol=AMD&start_date=2022-12-02&end_date=2024-11-01\u001b[0m\n",
      "\u001b[1;35mINFO:\u001b[0m \u001b[36mOpenBBAPIClient\u001b[0m || \u001b[32mFetching data from: http://127.0.0.1:6900/api/v1/equity/price/historical?provider=yfinance&symbol=AAPL&symbol=AMD&start_date=2022-12-02&end_date=2024-11-01\u001b[0m\n"
     ]
    },
    {
     "name": "stderr",
     "output_type": "stream",
     "text": [
      "\u001b[1;35mINFO:\u001b[0m \u001b[36mOpenBBAPIClient\u001b[0m || \u001b[32mEND: fetch_data (async) - Total time: 0.2545s\u001b[0m\n"
     ]
    }
   ],
   "source": [
    "from humbldata.core.standard_models.openbbapi.EquityPriceHistoricalQueryParams import (\n",
    "    EquityPriceHistoricalQueryParams,\n",
    ")\n",
    "\n",
    "\n",
    "equity_query_params = EquityPriceHistoricalQueryParams(\n",
    "    symbol=[\"AAPL\", \"AMD\"],\n",
    "    start_date=\"2022-12-02\",\n",
    "    end_date=\"2024-11-01\",\n",
    "    provider=\"yfinance\"\n",
    ")\n",
    "\n",
    "api_client = OpenBBAPIClient()\n",
    "equity_response = await api_client.fetch_data(\n",
    "    obb_path=\"equity.price.historical\",\n",
    "    api_query_params=equity_query_params,\n",
    ")\n",
    "equity_data = equity_response.to_polars(collect=False)\n"
   ]
  },
  {
   "cell_type": "code",
   "execution_count": 27,
   "metadata": {},
   "outputs": [
    {
     "data": {
      "text/html": [
       "<div><style>\n",
       ".dataframe > thead > tr,\n",
       ".dataframe > tbody > tr {\n",
       "  text-align: right;\n",
       "  white-space: pre-wrap;\n",
       "}\n",
       "</style>\n",
       "<small>shape: (482, 6)</small><table border=\"1\" class=\"dataframe\"><thead><tr><th>date</th><th>open</th><th>high</th><th>low</th><th>close</th><th>volume</th></tr><tr><td>date</td><td>f64</td><td>f64</td><td>f64</td><td>f64</td><td>i64</td></tr></thead><tbody><tr><td>2022-12-02</td><td>75.050003</td><td>76.279999</td><td>73.650002</td><td>74.980003</td><td>64377200</td></tr><tr><td>2022-12-05</td><td>74.540001</td><td>75.169998</td><td>72.82</td><td>73.620003</td><td>47022200</td></tr><tr><td>2022-12-06</td><td>73.080002</td><td>73.389999</td><td>69.400002</td><td>70.269997</td><td>64965200</td></tr><tr><td>2022-12-07</td><td>69.529999</td><td>71.370003</td><td>69.279999</td><td>70.139999</td><td>59180100</td></tr><tr><td>2022-12-08</td><td>70.139999</td><td>71.220001</td><td>69.0</td><td>70.470001</td><td>56734100</td></tr><tr><td>&hellip;</td><td>&hellip;</td><td>&hellip;</td><td>&hellip;</td><td>&hellip;</td><td>&hellip;</td></tr><tr><td>2024-10-28</td><td>158.5</td><td>160.279999</td><td>157.039993</td><td>159.919998</td><td>36010100</td></tr><tr><td>2024-10-29</td><td>161.100006</td><td>167.509995</td><td>158.940002</td><td>166.25</td><td>71896000</td></tr><tr><td>2024-10-30</td><td>153.009995</td><td>153.119995</td><td>148.100006</td><td>148.600006</td><td>87701700</td></tr><tr><td>2024-10-31</td><td>147.800003</td><td>148.679993</td><td>143.330002</td><td>144.070007</td><td>44386600</td></tr><tr><td>2024-11-01</td><td>144.440002</td><td>144.539993</td><td>141.320007</td><td>141.860001</td><td>39027400</td></tr></tbody></table></div>"
      ],
      "text/plain": [
       "shape: (482, 6)\n",
       "┌────────────┬────────────┬────────────┬────────────┬────────────┬──────────┐\n",
       "│ date       ┆ open       ┆ high       ┆ low        ┆ close      ┆ volume   │\n",
       "│ ---        ┆ ---        ┆ ---        ┆ ---        ┆ ---        ┆ ---      │\n",
       "│ date       ┆ f64        ┆ f64        ┆ f64        ┆ f64        ┆ i64      │\n",
       "╞════════════╪════════════╪════════════╪════════════╪════════════╪══════════╡\n",
       "│ 2022-12-02 ┆ 75.050003  ┆ 76.279999  ┆ 73.650002  ┆ 74.980003  ┆ 64377200 │\n",
       "│ 2022-12-05 ┆ 74.540001  ┆ 75.169998  ┆ 72.82      ┆ 73.620003  ┆ 47022200 │\n",
       "│ 2022-12-06 ┆ 73.080002  ┆ 73.389999  ┆ 69.400002  ┆ 70.269997  ┆ 64965200 │\n",
       "│ 2022-12-07 ┆ 69.529999  ┆ 71.370003  ┆ 69.279999  ┆ 70.139999  ┆ 59180100 │\n",
       "│ 2022-12-08 ┆ 70.139999  ┆ 71.220001  ┆ 69.0       ┆ 70.470001  ┆ 56734100 │\n",
       "│ …          ┆ …          ┆ …          ┆ …          ┆ …          ┆ …        │\n",
       "│ 2024-10-28 ┆ 158.5      ┆ 160.279999 ┆ 157.039993 ┆ 159.919998 ┆ 36010100 │\n",
       "│ 2024-10-29 ┆ 161.100006 ┆ 167.509995 ┆ 158.940002 ┆ 166.25     ┆ 71896000 │\n",
       "│ 2024-10-30 ┆ 153.009995 ┆ 153.119995 ┆ 148.100006 ┆ 148.600006 ┆ 87701700 │\n",
       "│ 2024-10-31 ┆ 147.800003 ┆ 148.679993 ┆ 143.330002 ┆ 144.070007 ┆ 44386600 │\n",
       "│ 2024-11-01 ┆ 144.440002 ┆ 144.539993 ┆ 141.320007 ┆ 141.860001 ┆ 39027400 │\n",
       "└────────────┴────────────┴────────────┴────────────┴────────────┴──────────┘"
      ]
     },
     "execution_count": 27,
     "metadata": {},
     "output_type": "execute_result"
    }
   ],
   "source": [
    "equity_data.collect()"
   ]
  },
  {
   "cell_type": "code",
   "execution_count": null,
   "metadata": {},
   "outputs": [],
   "source": []
  }
 ],
 "metadata": {
  "kernelspec": {
   "display_name": ".venv",
   "language": "python",
   "name": "python3"
  },
  "language_info": {
   "codemirror_mode": {
    "name": "ipython",
    "version": 3
   },
   "file_extension": ".py",
   "mimetype": "text/x-python",
   "name": "python",
   "nbconvert_exporter": "python",
   "pygments_lexer": "ipython3",
   "version": "3.12.10"
  }
 },
 "nbformat": 4,
 "nbformat_minor": 2
}
