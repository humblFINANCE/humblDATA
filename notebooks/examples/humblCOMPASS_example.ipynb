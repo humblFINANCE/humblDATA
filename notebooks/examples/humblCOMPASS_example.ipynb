{
 "cells": [
  {
   "cell_type": "code",
   "execution_count": 18,
   "metadata": {},
   "outputs": [
    {
     "name": "stdout",
     "output_type": "stream",
     "text": [
      "The autoreload extension is already loaded. To reload it, use:\n",
      "  %reload_ext autoreload\n"
     ]
    }
   ],
   "source": [
    "%load_ext autoreload\n",
    "%autoreload 2\n",
    "\n",
    "import polars as pl"
   ]
  },
  {
   "cell_type": "markdown",
   "metadata": {},
   "source": [
    "# CPI + CLI DATA COLLECTION\n"
   ]
  },
  {
   "cell_type": "markdown",
   "metadata": {},
   "source": [
    "## OECD Composite Leading Indicator"
   ]
  },
  {
   "cell_type": "code",
   "execution_count": null,
   "metadata": {},
   "outputs": [],
   "source": [
    "cli = obb.economy.composite_leading_indicator(start_date='2024-01-01', provider='oecd', country=['united_states'])\n",
    "cli.to_polars()"
   ]
  },
  {
   "cell_type": "markdown",
   "metadata": {},
   "source": [
    "## Consumer Price Index"
   ]
  },
  {
   "cell_type": "markdown",
   "metadata": {},
   "source": [
    "### OECD Consumer Price Index"
   ]
  },
  {
   "cell_type": "code",
   "execution_count": null,
   "metadata": {},
   "outputs": [],
   "source": [
    "oecd_cpi = obb.economy.cpi(start_date='2010-01-01', country='united_states', transform='yoy', provider='oecd',harmonized=False, expenditure='total')\n",
    "oecd_cpi.results\n"
   ]
  },
  {
   "cell_type": "markdown",
   "metadata": {},
   "source": [
    "### FRED Consumer Price Index"
   ]
  },
  {
   "cell_type": "code",
   "execution_count": null,
   "metadata": {},
   "outputs": [],
   "source": [
    "fred_cpi = obb.economy.cpi(start_date='2024-07-01', country='united_states', transform='yoy', provider='fred')\n",
    "fred_cpi.results"
   ]
  },
  {
   "cell_type": "markdown",
   "metadata": {},
   "source": [
    "# humblCOMPASS "
   ]
  },
  {
   "cell_type": "code",
   "execution_count": 21,
   "metadata": {},
   "outputs": [
    {
     "name": "stderr",
     "output_type": "stream",
     "text": [
      "\u001b[1;35mWARNING:\u001b[0m \u001b[36mToolboxQueryParams\u001b[0m || \u001b[1;33mStart date adjusted to 2022-12-02 based on humblPEON membership (2Y of data).\u001b[0m\n"
     ]
    },
    {
     "name": "stdout",
     "output_type": "stream",
     "text": [
      "The autoreload extension is already loaded. To reload it, use:\n",
      "  %reload_ext autoreload\n"
     ]
    }
   ],
   "source": [
    "%load_ext autoreload\n",
    "%autoreload 2\n",
    "\n",
    "from humbldata.toolbox.toolbox_controller import Toolbox\n",
    "\n",
    "toolbox = Toolbox(\n",
    "    # symbols=[\"AAPL\"],\n",
    "    # interval=\"1d\",\n",
    "    start_date=\"2020-01-01\",\n",
    "    end_date=\"2024-12-01\",\n",
    "    membership=\"humblPEON\"\n",
    ")"
   ]
  },
  {
   "cell_type": "code",
   "execution_count": 26,
   "metadata": {},
   "outputs": [
    {
     "name": "stderr",
     "output_type": "stream",
     "text": [
      "\u001b[1;35mINFO:\u001b[0m \u001b[36mHumblCompassFetcher\u001b[0m || \u001b[32mSTART: fetch_data (async)\u001b[0m\n",
      "Couldn't retrieve {\"country\": \"united_states\", \"end_date\": \"2024-12-01\", \"start_date\": \"2022-12-02\", \"z_score\": null}, unexpected error\n",
      "Traceback (most recent call last):\n",
      "  File \"/Users/jjfantini/github/humblFINANCE-org/humblDATA/.venv/lib/python3.12/site-packages/aiocache/decorators.py\", line 157, in get_from_cache\n",
      "    return await self.cache.get(key)\n",
      "           ^^^^^^^^^^^^^^^^^^^^^^^^^\n",
      "  File \"/Users/jjfantini/github/humblFINANCE-org/humblDATA/.venv/lib/python3.12/site-packages/aiocache/base.py\", line 64, in _enabled\n",
      "    return await func(*args, **kwargs)\n",
      "           ^^^^^^^^^^^^^^^^^^^^^^^^^^^\n",
      "  File \"/Users/jjfantini/github/humblFINANCE-org/humblDATA/.venv/lib/python3.12/site-packages/aiocache/base.py\", line 48, in _timeout\n",
      "    return await asyncio.wait_for(func(self, *args, **kwargs), timeout)\n",
      "           ^^^^^^^^^^^^^^^^^^^^^^^^^^^^^^^^^^^^^^^^^^^^^^^^^^^^^^^^^^^^\n",
      "  File \"/Users/jjfantini/.local/share/uv/python/cpython-3.12.10-macos-aarch64-none/lib/python3.12/asyncio/tasks.py\", line 520, in wait_for\n",
      "    return await fut\n",
      "           ^^^^^^^^^\n",
      "  File \"/Users/jjfantini/github/humblFINANCE-org/humblDATA/.venv/lib/python3.12/site-packages/aiocache/base.py\", line 78, in _plugins\n",
      "    ret = await func(self, *args, **kwargs)\n",
      "          ^^^^^^^^^^^^^^^^^^^^^^^^^^^^^^^^^\n",
      "  File \"/Users/jjfantini/github/humblFINANCE-org/humblDATA/.venv/lib/python3.12/site-packages/aiocache/base.py\", line 199, in get\n",
      "    value = loads(await self._get(ns_key, encoding=self.serializer.encoding, _conn=_conn))\n",
      "                  ^^^^^^^^^^^^^^^^^^^^^^^^^^^^^^^^^^^^^^^^^^^^^^^^^^^^^^^^^^^^^^^^^^^^^^^\n",
      "  File \"/Users/jjfantini/github/humblFINANCE-org/humblDATA/.venv/lib/python3.12/site-packages/aiocache/backends/redis.py\", line 93, in _get\n",
      "    return value.decode(encoding)\n",
      "           ^^^^^^^^^^^^^^^^^^^^^^\n",
      "UnicodeDecodeError: 'utf-8' codec can't decode byte 0x80 in position 0: invalid start byte\n",
      "\u001b[1;35mDEBUG:\u001b[0m \u001b[36mHumblCompassFetcher\u001b[0m || \u001b[34mRunning .transform_query()\u001b[0m\n",
      "\u001b[1;35mWARNING:\u001b[0m \u001b[36mHumblCompassFetcher\u001b[0m || \u001b[1;33mZ-score is not calculated for humblPEON membership level.\u001b[0m\n",
      "\u001b[1;35mINFO:\u001b[0m \u001b[36mHumblCompassFetcher\u001b[0m || \u001b[32mCLI start date: 2022-08-02 and CPI start date: 2022-08-02. Dates are adjusted to account for CLI data release lag and z-score calculation window.\u001b[0m\n",
      "\u001b[1;35mDEBUG:\u001b[0m \u001b[36mHumblCompassFetcher\u001b[0m || \u001b[34mRunning .extract_data()\u001b[0m\n",
      "\u001b[1;35mINFO:\u001b[0m \u001b[36mOpenBBAPIClient\u001b[0m || \u001b[32mSTART: fetch_data (async)\u001b[0m\n",
      "\u001b[1;35mINFO:\u001b[0m \u001b[36mOpenBBAPIClient\u001b[0m || \u001b[32mPrepared request for: http://127.0.0.1:6900/api/v1/economy/composite_leading_indicator?provider=oecd&start_date=2022-08-02&end_date=2024-12-01&country=united_states&adjustment=amplitude&growth_rate=false\u001b[0m\n",
      "\u001b[1;35mINFO:\u001b[0m \u001b[36mOpenBBAPIClient\u001b[0m || \u001b[32mFetching data from: http://127.0.0.1:6900/api/v1/economy/composite_leading_indicator?provider=oecd&start_date=2022-08-02&end_date=2024-12-01&country=united_states&adjustment=amplitude&growth_rate=false\u001b[0m\n",
      "\u001b[1;35mINFO:\u001b[0m \u001b[36mOpenBBAPIClient\u001b[0m || \u001b[32mEND: fetch_data (async) - Total time: 0.1537s\u001b[0m\n",
      "\u001b[1;35mINFO:\u001b[0m \u001b[36mOpenBBAPIClient\u001b[0m || \u001b[32mSTART: fetch_data (async)\u001b[0m\n",
      "\u001b[1;35mINFO:\u001b[0m \u001b[36mOpenBBAPIClient\u001b[0m || \u001b[32mPrepared request for: http://127.0.0.1:6900/api/v1/economy/cpi?provider=oecd&country=united_states&transform=yoy&frequency=monthly&harmonized=false&start_date=2022-08-02&end_date=2024-12-01&expenditure=total\u001b[0m\n",
      "\u001b[1;35mINFO:\u001b[0m \u001b[36mOpenBBAPIClient\u001b[0m || \u001b[32mFetching data from: http://127.0.0.1:6900/api/v1/economy/cpi?provider=oecd&country=united_states&transform=yoy&frequency=monthly&harmonized=false&start_date=2022-08-02&end_date=2024-12-01&expenditure=total\u001b[0m\n",
      "\u001b[1;35mINFO:\u001b[0m \u001b[36mOpenBBAPIClient\u001b[0m || \u001b[32mEND: fetch_data (async) - Total time: 0.1095s\u001b[0m\n",
      "\u001b[1;35mDEBUG:\u001b[0m \u001b[36mHumblCompassFetcher\u001b[0m || \u001b[34mRunning .transform_data()\u001b[0m\n",
      "\u001b[1;35mINFO:\u001b[0m \u001b[36mHumblCompassFetcher\u001b[0m || \u001b[32mEND: fetch_data (async) - Total time: 0.4784s\u001b[0m\n"
     ]
    }
   ],
   "source": [
    "compass =await toolbox.fundamental.humbl_compass(\n",
    "    country=\"united_states\",\n",
    "    chart=True,\n",
    "    recommendations=True\n",
    ")\n",
    "\n"
   ]
  },
  {
   "cell_type": "code",
   "execution_count": 25,
   "metadata": {},
   "outputs": [
    {
     "data": {
      "text/html": [
       "<div><style>\n",
       ".dataframe > thead > tr,\n",
       ".dataframe > tbody > tr {\n",
       "  text-align: right;\n",
       "  white-space: pre-wrap;\n",
       "}\n",
       "</style>\n",
       "<small>shape: (24, 7)</small><table border=\"1\" class=\"dataframe\"><thead><tr><th>date_month_start</th><th>country</th><th>cpi</th><th>cpi_3m_delta</th><th>cli</th><th>cli_3m_delta</th><th>humbl_regime</th></tr><tr><td>date</td><td>str</td><td>f64</td><td>f64</td><td>f64</td><td>f64</td><td>str</td></tr></thead><tbody><tr><td>2022-12-01</td><td>&quot;United States&quot;</td><td>6.45</td><td>-1.75</td><td>98.73</td><td>-0.3</td><td>&quot;humblBUST&quot;</td></tr><tr><td>2023-01-01</td><td>&quot;United States&quot;</td><td>6.41</td><td>-1.34</td><td>98.69</td><td>-0.21</td><td>&quot;humblBUST&quot;</td></tr><tr><td>2023-02-01</td><td>&quot;United States&quot;</td><td>6.04</td><td>-1.07</td><td>98.66</td><td>-0.14</td><td>&quot;humblBUST&quot;</td></tr><tr><td>2023-03-01</td><td>&quot;United States&quot;</td><td>4.98</td><td>-1.47</td><td>98.64</td><td>-0.09</td><td>&quot;humblBUST&quot;</td></tr><tr><td>2023-04-01</td><td>&quot;United States&quot;</td><td>4.93</td><td>-1.48</td><td>98.66</td><td>-0.03</td><td>&quot;humblBUST&quot;</td></tr><tr><td>&hellip;</td><td>&hellip;</td><td>&hellip;</td><td>&hellip;</td><td>&hellip;</td><td>&hellip;</td><td>&hellip;</td></tr><tr><td>2024-07-01</td><td>&quot;United States&quot;</td><td>2.89</td><td>-0.46</td><td>99.74</td><td>0.06</td><td>&quot;humblBOOM&quot;</td></tr><tr><td>2024-08-01</td><td>&quot;United States&quot;</td><td>2.53</td><td>-0.74</td><td>99.83</td><td>0.13</td><td>&quot;humblBOOM&quot;</td></tr><tr><td>2024-09-01</td><td>&quot;United States&quot;</td><td>2.44</td><td>-0.53</td><td>99.96</td><td>0.26</td><td>&quot;humblBOOM&quot;</td></tr><tr><td>2024-10-01</td><td>&quot;United States&quot;</td><td>2.6</td><td>-0.3</td><td>100.12</td><td>0.38</td><td>&quot;humblBOOM&quot;</td></tr><tr><td>2024-11-01</td><td>&quot;United States&quot;</td><td>2.75</td><td>0.22</td><td>100.29</td><td>0.46</td><td>&quot;humblBOUNCE&quot;</td></tr></tbody></table></div>"
      ],
      "text/plain": [
       "shape: (24, 7)\n",
       "┌──────────────────┬───────────────┬──────┬──────────────┬────────┬──────────────┬──────────────┐\n",
       "│ date_month_start ┆ country       ┆ cpi  ┆ cpi_3m_delta ┆ cli    ┆ cli_3m_delta ┆ humbl_regime │\n",
       "│ ---              ┆ ---           ┆ ---  ┆ ---          ┆ ---    ┆ ---          ┆ ---          │\n",
       "│ date             ┆ str           ┆ f64  ┆ f64          ┆ f64    ┆ f64          ┆ str          │\n",
       "╞══════════════════╪═══════════════╪══════╪══════════════╪════════╪══════════════╪══════════════╡\n",
       "│ 2022-12-01       ┆ United States ┆ 6.45 ┆ -1.75        ┆ 98.73  ┆ -0.3         ┆ humblBUST    │\n",
       "│ 2023-01-01       ┆ United States ┆ 6.41 ┆ -1.34        ┆ 98.69  ┆ -0.21        ┆ humblBUST    │\n",
       "│ 2023-02-01       ┆ United States ┆ 6.04 ┆ -1.07        ┆ 98.66  ┆ -0.14        ┆ humblBUST    │\n",
       "│ 2023-03-01       ┆ United States ┆ 4.98 ┆ -1.47        ┆ 98.64  ┆ -0.09        ┆ humblBUST    │\n",
       "│ 2023-04-01       ┆ United States ┆ 4.93 ┆ -1.48        ┆ 98.66  ┆ -0.03        ┆ humblBUST    │\n",
       "│ …                ┆ …             ┆ …    ┆ …            ┆ …      ┆ …            ┆ …            │\n",
       "│ 2024-07-01       ┆ United States ┆ 2.89 ┆ -0.46        ┆ 99.74  ┆ 0.06         ┆ humblBOOM    │\n",
       "│ 2024-08-01       ┆ United States ┆ 2.53 ┆ -0.74        ┆ 99.83  ┆ 0.13         ┆ humblBOOM    │\n",
       "│ 2024-09-01       ┆ United States ┆ 2.44 ┆ -0.53        ┆ 99.96  ┆ 0.26         ┆ humblBOOM    │\n",
       "│ 2024-10-01       ┆ United States ┆ 2.6  ┆ -0.3         ┆ 100.12 ┆ 0.38         ┆ humblBOOM    │\n",
       "│ 2024-11-01       ┆ United States ┆ 2.75 ┆ 0.22         ┆ 100.29 ┆ 0.46         ┆ humblBOUNCE  │\n",
       "└──────────────────┴───────────────┴──────┴──────────────┴────────┴──────────────┴──────────────┘"
      ]
     },
     "execution_count": 25,
     "metadata": {},
     "output_type": "execute_result"
    }
   ],
   "source": [
    "compass.to_polars()"
   ]
  },
  {
   "cell_type": "code",
   "execution_count": null,
   "metadata": {},
   "outputs": [],
   "source": [
    "compass.extra\n"
   ]
  },
  {
   "cell_type": "code",
   "execution_count": null,
   "metadata": {},
   "outputs": [],
   "source": [
    "compass.show()"
   ]
  },
  {
   "cell_type": "code",
   "execution_count": 7,
   "metadata": {},
   "outputs": [
    {
     "data": {
      "text/plain": [
       "[Warning_(category='HumblDataWarning', message='Start date adjusted to 2022-12-02 based on humblPEON membership (2Y of data).'),\n",
       " Warning_(category='HumblDataWarning', message='Z-score defaulted to None. No z-score data will be calculated.')]"
      ]
     },
     "execution_count": 7,
     "metadata": {},
     "output_type": "execute_result"
    }
   ],
   "source": [
    "compass.warnings"
   ]
  },
  {
   "cell_type": "code",
   "execution_count": null,
   "metadata": {},
   "outputs": [],
   "source": []
  }
 ],
 "metadata": {
  "kernelspec": {
   "display_name": "Python 3",
   "language": "python",
   "name": "python3"
  },
  "language_info": {
   "codemirror_mode": {
    "name": "ipython",
    "version": 3
   },
   "file_extension": ".py",
   "mimetype": "text/x-python",
   "name": "python",
   "nbconvert_exporter": "python",
   "pygments_lexer": "ipython3",
   "version": "3.12.9"
  }
 },
 "nbformat": 4,
 "nbformat_minor": 2
}
