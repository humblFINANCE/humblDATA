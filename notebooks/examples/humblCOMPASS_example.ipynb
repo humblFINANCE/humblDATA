{
 "cells": [
  {
   "cell_type": "markdown",
   "metadata": {},
   "source": [
    "# CPI + CLI DATA COLLECTION\n"
   ]
  },
  {
   "cell_type": "markdown",
   "metadata": {},
   "source": [
    "## OECD Composite Leading Indicator"
   ]
  },
  {
   "cell_type": "code",
   "execution_count": null,
   "metadata": {},
   "outputs": [],
   "source": [
    "cli = obb.economy.composite_leading_indicator(start_date='2024-01-01', provider='oecd', country=['united_states'])\n",
    "cli.to_polars()"
   ]
  },
  {
   "cell_type": "markdown",
   "metadata": {},
   "source": [
    "## Consumer Price Index"
   ]
  },
  {
   "cell_type": "markdown",
   "metadata": {},
   "source": [
    "### OECD Consumer Price Index"
   ]
  },
  {
   "cell_type": "code",
   "execution_count": null,
   "metadata": {},
   "outputs": [],
   "source": [
    "oecd_cpi = obb.economy.cpi(start_date='2010-01-01', country='united_states', transform='yoy', provider='oecd',harmonized=False, expenditure='total')\n",
    "oecd_cpi.results\n"
   ]
  },
  {
   "cell_type": "markdown",
   "metadata": {},
   "source": [
    "### FRED Consumer Price Index"
   ]
  },
  {
   "cell_type": "code",
   "execution_count": null,
   "metadata": {},
   "outputs": [],
   "source": [
    "fred_cpi = obb.economy.cpi(start_date='2024-07-01', country='united_states', transform='yoy', provider='fred')\n",
    "fred_cpi.results"
   ]
  },
  {
   "cell_type": "markdown",
   "metadata": {},
   "source": [
    "# humblCOMPASS "
   ]
  },
  {
   "cell_type": "code",
   "execution_count": 10,
   "metadata": {},
   "outputs": [
    {
     "name": "stderr",
     "output_type": "stream",
     "text": [
      "\u001b[1;35mWARNING:\u001b[0m \u001b[36mToolboxQueryParams\u001b[0m || \u001b[1;33mStart date adjusted to 2022-12-02 based on humblPEON membership (2Y of data).\u001b[0m\n"
     ]
    },
    {
     "name": "stdout",
     "output_type": "stream",
     "text": [
      "The autoreload extension is already loaded. To reload it, use:\n",
      "  %reload_ext autoreload\n"
     ]
    }
   ],
   "source": [
    "%load_ext autoreload\n",
    "%autoreload 2\n",
    "\n",
    "from humbldata.toolbox.toolbox_controller import Toolbox\n",
    "\n",
    "toolbox = Toolbox(\n",
    "    # symbols=[\"AAPL\"],\n",
    "    # interval=\"1d\",\n",
    "    start_date=\"2020-01-01\",\n",
    "    end_date=\"2024-12-01\",\n",
    "    membership=\"humblPEON\"\n",
    ")"
   ]
  },
  {
   "cell_type": "code",
   "execution_count": 11,
   "metadata": {},
   "outputs": [
    {
     "name": "stderr",
     "output_type": "stream",
     "text": [
      "\u001b[1;35mINFO:\u001b[0m \u001b[36mHumblCompassFetcher\u001b[0m || \u001b[32mSTART: fetch_data (async)\u001b[0m\n",
      "\u001b[1;35mDEBUG:\u001b[0m \u001b[36mHumblCompassFetcher\u001b[0m || \u001b[34mRunning .transform_query()\u001b[0m\n",
      "\u001b[1;35mWARNING:\u001b[0m \u001b[36mHumblCompassFetcher\u001b[0m || \u001b[1;33mZ-score is not calculated for humblPEON membership level.\u001b[0m\n",
      "\u001b[1;35mINFO:\u001b[0m \u001b[36mHumblCompassFetcher\u001b[0m || \u001b[32mCLI start date: 2022-08-02 and CPI start date: 2022-08-02. Dates are adjusted to account for CLI data release lag and z-score calculation window.\u001b[0m\n",
      "\u001b[1;35mDEBUG:\u001b[0m \u001b[36mHumblCompassFetcher\u001b[0m || \u001b[34mRunning .extract_data()\u001b[0m\n",
      "\u001b[1;35mINFO:\u001b[0m \u001b[36mOpenBBAPIClient\u001b[0m || \u001b[32mSTART: fetch_data (async)\u001b[0m\n",
      "\u001b[1;35mINFO:\u001b[0m \u001b[36mOpenBBAPIClient\u001b[0m || \u001b[32mPrepared request for: http://127.0.0.1:6900/api/v1/economy/composite_leading_indicator?provider=oecd&start_date=2022-08-02&end_date=2024-12-01&country=united_states&adjustment=amplitude&growth_rate=false\u001b[0m\n",
      "\u001b[1;35mINFO:\u001b[0m \u001b[36mOpenBBAPIClient\u001b[0m || \u001b[32mFetching data from: http://127.0.0.1:6900/api/v1/economy/composite_leading_indicator?provider=oecd&start_date=2022-08-02&end_date=2024-12-01&country=united_states&adjustment=amplitude&growth_rate=false\u001b[0m\n",
      "\u001b[1;35mINFO:\u001b[0m \u001b[36mOpenBBAPIClient\u001b[0m || \u001b[32mEND: fetch_data (async) - Total time: 0.1038s\u001b[0m\n",
      "\u001b[1;35mINFO:\u001b[0m \u001b[36mOpenBBAPIClient\u001b[0m || \u001b[32mSTART: fetch_data (async)\u001b[0m\n",
      "\u001b[1;35mINFO:\u001b[0m \u001b[36mOpenBBAPIClient\u001b[0m || \u001b[32mPrepared request for: http://127.0.0.1:6900/api/v1/economy/cpi?provider=oecd&country=united_states&transform=yoy&frequency=monthly&harmonized=false&start_date=2022-08-02&end_date=2024-12-01&expenditure=total\u001b[0m\n",
      "\u001b[1;35mINFO:\u001b[0m \u001b[36mOpenBBAPIClient\u001b[0m || \u001b[32mFetching data from: http://127.0.0.1:6900/api/v1/economy/cpi?provider=oecd&country=united_states&transform=yoy&frequency=monthly&harmonized=false&start_date=2022-08-02&end_date=2024-12-01&expenditure=total\u001b[0m\n",
      "\u001b[1;35mINFO:\u001b[0m \u001b[36mOpenBBAPIClient\u001b[0m || \u001b[32mEND: fetch_data (async) - Total time: 0.1116s\u001b[0m\n",
      "\u001b[1;35mDEBUG:\u001b[0m \u001b[36mHumblCompassFetcher\u001b[0m || \u001b[34mRunning .transform_data()\u001b[0m\n",
      "\u001b[1;35mERROR:\u001b[0m \u001b[36mHumblCompassFetcher\u001b[0m || \u001b[1;31mEXCEPTION in fetch_data (async) - Total time: 53.9040s\u001b[0m\n",
      "Traceback (most recent call last):\n",
      "  File \"/Users/jjfantini/github/humblFINANCE-org/humblDATA/src/humbldata/core/utils/logger.py\", line 149, in async_wrapper\n",
      "    result = await func(*args, **kwargs)\n",
      "             ^^^^^^^^^^^^^^^^^^^^^^^^^^^\n",
      "  File \"/Users/jjfantini/github/humblFINANCE-org/humblDATA/.venv/lib/python3.12/site-packages/aiocache/decorators.py\", line 109, in wrapper\n",
      "    return await self.decorator(f, *args, **kwargs)\n",
      "           ^^^^^^^^^^^^^^^^^^^^^^^^^^^^^^^^^^^^^^^^\n",
      "  File \"/Users/jjfantini/github/humblFINANCE-org/humblDATA/.venv/lib/python3.12/site-packages/aiocache/decorators.py\", line 124, in decorator\n",
      "    result = await f(*args, **kwargs)\n",
      "             ^^^^^^^^^^^^^^^^^^^^^^^^\n",
      "  File \"/Users/jjfantini/github/humblFINANCE-org/humblDATA/src/humbldata/core/standard_models/toolbox/fundamental/humbl_compass.py\", line 1024, in fetch_data\n",
      "    self.transform_data()\n",
      "  File \"/Users/jjfantini/github/humblFINANCE-org/humblDATA/src/humbldata/core/standard_models/abstract/warnings.py\", line 100, in wrapper\n",
      "    result = func(*args, **kwargs)\n",
      "             ^^^^^^^^^^^^^^^^^^^^^\n",
      "  File \"/Users/jjfantini/github/humblFINANCE-org/humblDATA/src/humbldata/core/standard_models/toolbox/fundamental/humbl_compass.py\", line 947, in transform_data\n",
      "    transformed_data.collect().drop_nulls()\n",
      "    ^^^^^^^^^^^^^^^^^^^^^^^^^^\n",
      "  File \"/Users/jjfantini/github/humblFINANCE-org/humblDATA/.venv/lib/python3.12/site-packages/polars/_utils/deprecation.py\", line 93, in wrapper\n",
      "    return function(*args, **kwargs)\n",
      "           ^^^^^^^^^^^^^^^^^^^^^^^^^\n",
      "  File \"/Users/jjfantini/github/humblFINANCE-org/humblDATA/.venv/lib/python3.12/site-packages/polars/lazyframe/frame.py\", line 2224, in collect\n",
      "    return wrap_df(ldf.collect(engine, callback))\n",
      "                   ^^^^^^^^^^^^^^^^^^^^^^^^^^^^^\n",
      "polars.exceptions.ColumnNotFoundError: 'rename' on column: 'value' is invalid\n",
      "\n",
      "Schema at this point: Schema:\n",
      "\n",
      "\n",
      "Resolved plan until failure:\n",
      "\n",
      "\t---> FAILED HERE RESOLVING 'sink' <---\n",
      "DF []; PROJECT */0 COLUMNS\n"
     ]
    },
    {
     "ename": "ColumnNotFoundError",
     "evalue": "'rename' on column: 'value' is invalid\n\nSchema at this point: Schema:\n\n\nResolved plan until failure:\n\n\t---> FAILED HERE RESOLVING 'sink' <---\nDF []; PROJECT */0 COLUMNS",
     "output_type": "error",
     "traceback": [
      "\u001b[31m---------------------------------------------------------------------------\u001b[39m",
      "\u001b[31mColumnNotFoundError\u001b[39m                       Traceback (most recent call last)",
      "\u001b[36mCell\u001b[39m\u001b[36m \u001b[39m\u001b[32mIn[11]\u001b[39m\u001b[32m, line 1\u001b[39m\n\u001b[32m----> \u001b[39m\u001b[32m1\u001b[39m compass = \u001b[38;5;28;01mawait\u001b[39;00m toolbox.fundamental.humbl_compass(\n\u001b[32m      2\u001b[39m     country=\u001b[33m\"\u001b[39m\u001b[33munited_states\u001b[39m\u001b[33m\"\u001b[39m,\n\u001b[32m      3\u001b[39m     chart=\u001b[38;5;28;01mTrue\u001b[39;00m,\n\u001b[32m      4\u001b[39m     recommendations=\u001b[38;5;28;01mTrue\u001b[39;00m\n\u001b[32m      5\u001b[39m )\n",
      "\u001b[36mFile \u001b[39m\u001b[32m~/github/humblFINANCE-org/humblDATA/src/humbldata/toolbox/fundamental/fundamental_controller.py:111\u001b[39m, in \u001b[36mFundamental.humbl_compass\u001b[39m\u001b[34m(self, **kwargs)\u001b[39m\n\u001b[32m    106\u001b[39m fetcher = HumblCompassFetcher(\n\u001b[32m    107\u001b[39m     context_params=\u001b[38;5;28mself\u001b[39m.context_params, command_params=command_params\n\u001b[32m    108\u001b[39m )\n\u001b[32m    109\u001b[39m \u001b[38;5;66;03m# Get the result which is a HumblObject (with its serialized data),\u001b[39;00m\n\u001b[32m    110\u001b[39m \u001b[38;5;66;03m# and which also has stored raw transformed data in fetcher._raw_transformed_df.\u001b[39;00m\n\u001b[32m--> \u001b[39m\u001b[32m111\u001b[39m result = \u001b[38;5;28;01mawait\u001b[39;00m fetcher.fetch_data()\n\u001b[32m    113\u001b[39m \u001b[38;5;66;03m# Capture the raw transformed data needed for backtest.\u001b[39;00m\n\u001b[32m    114\u001b[39m \u001b[38;5;66;03m# Deserialize results from string to dataframe if needed\u001b[39;00m\n\u001b[32m    115\u001b[39m \u001b[38;5;28;01mif\u001b[39;00m \u001b[38;5;28misinstance\u001b[39m(result, \u001b[38;5;28mdict\u001b[39m):  \u001b[38;5;66;03m# will be a dict if the value is cached\u001b[39;00m\n",
      "\u001b[36mFile \u001b[39m\u001b[32m~/github/humblFINANCE-org/humblDATA/src/humbldata/core/utils/logger.py:149\u001b[39m, in \u001b[36mlog_start_end.<locals>.decorator.<locals>.async_wrapper\u001b[39m\u001b[34m(*args, **kwargs)\u001b[39m\n\u001b[32m    146\u001b[39m logger.info(\u001b[33mf\u001b[39m\u001b[33m\"\u001b[39m\u001b[33mSTART: \u001b[39m\u001b[38;5;132;01m{\u001b[39;00mfunc.\u001b[34m__name__\u001b[39m\u001b[38;5;132;01m}\u001b[39;00m\u001b[33m (async)\u001b[39m\u001b[33m\"\u001b[39m)\n\u001b[32m    148\u001b[39m \u001b[38;5;28;01mtry\u001b[39;00m:\n\u001b[32m--> \u001b[39m\u001b[32m149\u001b[39m     result = \u001b[38;5;28;01mawait\u001b[39;00m func(*args, **kwargs)\n\u001b[32m    150\u001b[39m \u001b[38;5;28;01mexcept\u001b[39;00m \u001b[38;5;167;01mKeyboardInterrupt\u001b[39;00m:\n\u001b[32m    151\u001b[39m     end_time = time.time()\n",
      "\u001b[36mFile \u001b[39m\u001b[32m~/github/humblFINANCE-org/humblDATA/.venv/lib/python3.12/site-packages/aiocache/decorators.py:109\u001b[39m, in \u001b[36mcached.__call__.<locals>.wrapper\u001b[39m\u001b[34m(*args, **kwargs)\u001b[39m\n\u001b[32m    107\u001b[39m \u001b[38;5;129m@functools\u001b[39m.wraps(f)\n\u001b[32m    108\u001b[39m \u001b[38;5;28;01masync\u001b[39;00m \u001b[38;5;28;01mdef\u001b[39;00m\u001b[38;5;250m \u001b[39m\u001b[34mwrapper\u001b[39m(*args, **kwargs):\n\u001b[32m--> \u001b[39m\u001b[32m109\u001b[39m     \u001b[38;5;28;01mreturn\u001b[39;00m \u001b[38;5;28;01mawait\u001b[39;00m \u001b[38;5;28mself\u001b[39m.decorator(f, *args, **kwargs)\n",
      "\u001b[36mFile \u001b[39m\u001b[32m~/github/humblFINANCE-org/humblDATA/.venv/lib/python3.12/site-packages/aiocache/decorators.py:124\u001b[39m, in \u001b[36mcached.decorator\u001b[39m\u001b[34m(self, f, cache_read, cache_write, aiocache_wait_for_write, *args, **kwargs)\u001b[39m\n\u001b[32m    121\u001b[39m     \u001b[38;5;28;01mif\u001b[39;00m value \u001b[38;5;129;01mis\u001b[39;00m \u001b[38;5;129;01mnot\u001b[39;00m \u001b[38;5;28;01mNone\u001b[39;00m:\n\u001b[32m    122\u001b[39m         \u001b[38;5;28;01mreturn\u001b[39;00m value\n\u001b[32m--> \u001b[39m\u001b[32m124\u001b[39m result = \u001b[38;5;28;01mawait\u001b[39;00m f(*args, **kwargs)\n\u001b[32m    126\u001b[39m \u001b[38;5;28;01mif\u001b[39;00m \u001b[38;5;28mself\u001b[39m.skip_cache_func(result):\n\u001b[32m    127\u001b[39m     \u001b[38;5;28;01mreturn\u001b[39;00m result\n",
      "\u001b[36mFile \u001b[39m\u001b[32m~/github/humblFINANCE-org/humblDATA/src/humbldata/core/standard_models/toolbox/fundamental/humbl_compass.py:1024\u001b[39m, in \u001b[36mHumblCompassFetcher.fetch_data\u001b[39m\u001b[34m(self)\u001b[39m\n\u001b[32m   1022\u001b[39m \u001b[38;5;28;01mawait\u001b[39;00m \u001b[38;5;28mself\u001b[39m.extract_data()\n\u001b[32m   1023\u001b[39m logger.debug(\u001b[33m\"\u001b[39m\u001b[33mRunning .transform_data()\u001b[39m\u001b[33m\"\u001b[39m)\n\u001b[32m-> \u001b[39m\u001b[32m1024\u001b[39m \u001b[38;5;28;43mself\u001b[39;49m\u001b[43m.\u001b[49m\u001b[43mtransform_data\u001b[49m\u001b[43m(\u001b[49m\u001b[43m)\u001b[49m\n\u001b[32m   1026\u001b[39m \u001b[38;5;66;03m# Initialize warnings list if it doesn't exist\u001b[39;00m\n\u001b[32m   1027\u001b[39m \u001b[38;5;28;01mif\u001b[39;00m \u001b[38;5;129;01mnot\u001b[39;00m \u001b[38;5;28mhasattr\u001b[39m(\u001b[38;5;28mself\u001b[39m.context_params, \u001b[33m\"\u001b[39m\u001b[33mwarnings\u001b[39m\u001b[33m\"\u001b[39m):\n",
      "\u001b[36mFile \u001b[39m\u001b[32m~/github/humblFINANCE-org/humblDATA/src/humbldata/core/standard_models/abstract/warnings.py:100\u001b[39m, in \u001b[36mcollect_warnings.<locals>.wrapper\u001b[39m\u001b[34m(*args, **kwargs)\u001b[39m\n\u001b[32m     97\u001b[39m \u001b[38;5;129m@functools\u001b[39m.wraps(func)\n\u001b[32m     98\u001b[39m \u001b[38;5;28;01mdef\u001b[39;00m\u001b[38;5;250m \u001b[39m\u001b[34mwrapper\u001b[39m(*args, **kwargs):\n\u001b[32m     99\u001b[39m     \u001b[38;5;28;01mwith\u001b[39;00m warning_collector:\n\u001b[32m--> \u001b[39m\u001b[32m100\u001b[39m         result = \u001b[43mfunc\u001b[49m\u001b[43m(\u001b[49m\u001b[43m*\u001b[49m\u001b[43margs\u001b[49m\u001b[43m,\u001b[49m\u001b[43m \u001b[49m\u001b[43m*\u001b[49m\u001b[43m*\u001b[49m\u001b[43mkwargs\u001b[49m\u001b[43m)\u001b[49m\n\u001b[32m    102\u001b[39m     \u001b[38;5;66;03m# If this is a method of a class that has a warnings attribute, add the warnings\u001b[39;00m\n\u001b[32m    103\u001b[39m     \u001b[38;5;28;01mif\u001b[39;00m args \u001b[38;5;129;01mand\u001b[39;00m \u001b[38;5;28mhasattr\u001b[39m(args[\u001b[32m0\u001b[39m], \u001b[33m\"\u001b[39m\u001b[33mwarnings\u001b[39m\u001b[33m\"\u001b[39m):\n",
      "\u001b[36mFile \u001b[39m\u001b[32m~/github/humblFINANCE-org/humblDATA/src/humbldata/core/standard_models/toolbox/fundamental/humbl_compass.py:947\u001b[39m, in \u001b[36mHumblCompassFetcher.transform_data\u001b[39m\u001b[34m(self)\u001b[39m\n\u001b[32m    943\u001b[39m transformed_data = transformed_data.select(columns_to_select)\n\u001b[32m    945\u001b[39m \u001b[38;5;66;03m# Validate the data using HumblCompassData and collect result BEFORE serialization.\u001b[39;00m\n\u001b[32m    946\u001b[39m raw_data = (\n\u001b[32m--> \u001b[39m\u001b[32m947\u001b[39m     \u001b[43mtransformed_data\u001b[49m\u001b[43m.\u001b[49m\u001b[43mcollect\u001b[49m\u001b[43m(\u001b[49m\u001b[43m)\u001b[49m.drop_nulls()\n\u001b[32m    948\u001b[39m )  \u001b[38;5;66;03m# <-- keep raw data for backtest\u001b[39;00m\n\u001b[32m    949\u001b[39m \u001b[38;5;28mself\u001b[39m._raw_transformed_df = raw_data  \u001b[38;5;66;03m# store raw transformed data\u001b[39;00m\n\u001b[32m    951\u001b[39m \u001b[38;5;28mself\u001b[39m.transformed_data = HumblCompassData(raw_data).lazy()\n",
      "\u001b[36mFile \u001b[39m\u001b[32m~/github/humblFINANCE-org/humblDATA/.venv/lib/python3.12/site-packages/polars/_utils/deprecation.py:93\u001b[39m, in \u001b[36mdeprecate_streaming_parameter.<locals>.decorate.<locals>.wrapper\u001b[39m\u001b[34m(*args, **kwargs)\u001b[39m\n\u001b[32m     89\u001b[39m         kwargs[\u001b[33m\"\u001b[39m\u001b[33mengine\u001b[39m\u001b[33m\"\u001b[39m] = \u001b[33m\"\u001b[39m\u001b[33min-memory\u001b[39m\u001b[33m\"\u001b[39m\n\u001b[32m     91\u001b[39m     \u001b[38;5;28;01mdel\u001b[39;00m kwargs[\u001b[33m\"\u001b[39m\u001b[33mstreaming\u001b[39m\u001b[33m\"\u001b[39m]\n\u001b[32m---> \u001b[39m\u001b[32m93\u001b[39m \u001b[38;5;28;01mreturn\u001b[39;00m \u001b[43mfunction\u001b[49m\u001b[43m(\u001b[49m\u001b[43m*\u001b[49m\u001b[43margs\u001b[49m\u001b[43m,\u001b[49m\u001b[43m \u001b[49m\u001b[43m*\u001b[49m\u001b[43m*\u001b[49m\u001b[43mkwargs\u001b[49m\u001b[43m)\u001b[49m\n",
      "\u001b[36mFile \u001b[39m\u001b[32m~/github/humblFINANCE-org/humblDATA/.venv/lib/python3.12/site-packages/polars/lazyframe/frame.py:2224\u001b[39m, in \u001b[36mLazyFrame.collect\u001b[39m\u001b[34m(self, type_coercion, _type_check, predicate_pushdown, projection_pushdown, simplify_expression, slice_pushdown, comm_subplan_elim, comm_subexpr_elim, cluster_with_columns, collapse_joins, no_optimization, engine, background, _check_order, _eager, **_kwargs)\u001b[39m\n\u001b[32m   2222\u001b[39m \u001b[38;5;66;03m# Only for testing purposes\u001b[39;00m\n\u001b[32m   2223\u001b[39m callback = _kwargs.get(\u001b[33m\"\u001b[39m\u001b[33mpost_opt_callback\u001b[39m\u001b[33m\"\u001b[39m, callback)\n\u001b[32m-> \u001b[39m\u001b[32m2224\u001b[39m \u001b[38;5;28;01mreturn\u001b[39;00m wrap_df(\u001b[43mldf\u001b[49m\u001b[43m.\u001b[49m\u001b[43mcollect\u001b[49m\u001b[43m(\u001b[49m\u001b[43mengine\u001b[49m\u001b[43m,\u001b[49m\u001b[43m \u001b[49m\u001b[43mcallback\u001b[49m\u001b[43m)\u001b[49m)\n",
      "\u001b[31mColumnNotFoundError\u001b[39m: 'rename' on column: 'value' is invalid\n\nSchema at this point: Schema:\n\n\nResolved plan until failure:\n\n\t---> FAILED HERE RESOLVING 'sink' <---\nDF []; PROJECT */0 COLUMNS"
     ]
    }
   ],
   "source": [
    "compass = await toolbox.fundamental.humbl_compass(\n",
    "    country=\"united_states\",\n",
    "    chart=True,\n",
    "    recommendations=True\n",
    ")\n",
    "\n"
   ]
  },
  {
   "cell_type": "code",
   "execution_count": 32,
   "metadata": {},
   "outputs": [
    {
     "data": {
      "text/html": [
       "<div><style>\n",
       ".dataframe > thead > tr,\n",
       ".dataframe > tbody > tr {\n",
       "  text-align: right;\n",
       "  white-space: pre-wrap;\n",
       "}\n",
       "</style>\n",
       "<small>shape: (24, 7)</small><table border=\"1\" class=\"dataframe\"><thead><tr><th>date_month_start</th><th>country</th><th>cpi</th><th>cpi_3m_delta</th><th>cli</th><th>cli_3m_delta</th><th>humbl_regime</th></tr><tr><td>date</td><td>str</td><td>f64</td><td>f64</td><td>f64</td><td>f64</td><td>str</td></tr></thead><tbody><tr><td>2022-12-01</td><td>&quot;United States&quot;</td><td>6.45</td><td>-1.75</td><td>98.73</td><td>-0.3</td><td>&quot;humblBUST&quot;</td></tr><tr><td>2023-01-01</td><td>&quot;United States&quot;</td><td>6.41</td><td>-1.34</td><td>98.69</td><td>-0.21</td><td>&quot;humblBUST&quot;</td></tr><tr><td>2023-02-01</td><td>&quot;United States&quot;</td><td>6.04</td><td>-1.07</td><td>98.66</td><td>-0.14</td><td>&quot;humblBUST&quot;</td></tr><tr><td>2023-03-01</td><td>&quot;United States&quot;</td><td>4.98</td><td>-1.47</td><td>98.64</td><td>-0.09</td><td>&quot;humblBUST&quot;</td></tr><tr><td>2023-04-01</td><td>&quot;United States&quot;</td><td>4.93</td><td>-1.48</td><td>98.66</td><td>-0.03</td><td>&quot;humblBUST&quot;</td></tr><tr><td>&hellip;</td><td>&hellip;</td><td>&hellip;</td><td>&hellip;</td><td>&hellip;</td><td>&hellip;</td><td>&hellip;</td></tr><tr><td>2024-07-01</td><td>&quot;United States&quot;</td><td>2.89</td><td>-0.46</td><td>99.74</td><td>0.06</td><td>&quot;humblBOOM&quot;</td></tr><tr><td>2024-08-01</td><td>&quot;United States&quot;</td><td>2.53</td><td>-0.74</td><td>99.83</td><td>0.13</td><td>&quot;humblBOOM&quot;</td></tr><tr><td>2024-09-01</td><td>&quot;United States&quot;</td><td>2.44</td><td>-0.53</td><td>99.96</td><td>0.26</td><td>&quot;humblBOOM&quot;</td></tr><tr><td>2024-10-01</td><td>&quot;United States&quot;</td><td>2.6</td><td>-0.3</td><td>100.12</td><td>0.38</td><td>&quot;humblBOOM&quot;</td></tr><tr><td>2024-11-01</td><td>&quot;United States&quot;</td><td>2.75</td><td>0.22</td><td>100.29</td><td>0.46</td><td>&quot;humblBOUNCE&quot;</td></tr></tbody></table></div>"
      ],
      "text/plain": [
       "shape: (24, 7)\n",
       "┌──────────────────┬───────────────┬──────┬──────────────┬────────┬──────────────┬──────────────┐\n",
       "│ date_month_start ┆ country       ┆ cpi  ┆ cpi_3m_delta ┆ cli    ┆ cli_3m_delta ┆ humbl_regime │\n",
       "│ ---              ┆ ---           ┆ ---  ┆ ---          ┆ ---    ┆ ---          ┆ ---          │\n",
       "│ date             ┆ str           ┆ f64  ┆ f64          ┆ f64    ┆ f64          ┆ str          │\n",
       "╞══════════════════╪═══════════════╪══════╪══════════════╪════════╪══════════════╪══════════════╡\n",
       "│ 2022-12-01       ┆ United States ┆ 6.45 ┆ -1.75        ┆ 98.73  ┆ -0.3         ┆ humblBUST    │\n",
       "│ 2023-01-01       ┆ United States ┆ 6.41 ┆ -1.34        ┆ 98.69  ┆ -0.21        ┆ humblBUST    │\n",
       "│ 2023-02-01       ┆ United States ┆ 6.04 ┆ -1.07        ┆ 98.66  ┆ -0.14        ┆ humblBUST    │\n",
       "│ 2023-03-01       ┆ United States ┆ 4.98 ┆ -1.47        ┆ 98.64  ┆ -0.09        ┆ humblBUST    │\n",
       "│ 2023-04-01       ┆ United States ┆ 4.93 ┆ -1.48        ┆ 98.66  ┆ -0.03        ┆ humblBUST    │\n",
       "│ …                ┆ …             ┆ …    ┆ …            ┆ …      ┆ …            ┆ …            │\n",
       "│ 2024-07-01       ┆ United States ┆ 2.89 ┆ -0.46        ┆ 99.74  ┆ 0.06         ┆ humblBOOM    │\n",
       "│ 2024-08-01       ┆ United States ┆ 2.53 ┆ -0.74        ┆ 99.83  ┆ 0.13         ┆ humblBOOM    │\n",
       "│ 2024-09-01       ┆ United States ┆ 2.44 ┆ -0.53        ┆ 99.96  ┆ 0.26         ┆ humblBOOM    │\n",
       "│ 2024-10-01       ┆ United States ┆ 2.6  ┆ -0.3         ┆ 100.12 ┆ 0.38         ┆ humblBOOM    │\n",
       "│ 2024-11-01       ┆ United States ┆ 2.75 ┆ 0.22         ┆ 100.29 ┆ 0.46         ┆ humblBOUNCE  │\n",
       "└──────────────────┴───────────────┴──────┴──────────────┴────────┴──────────────┴──────────────┘"
      ]
     },
     "execution_count": 32,
     "metadata": {},
     "output_type": "execute_result"
    }
   ],
   "source": [
    "compass.to_polars()"
   ]
  },
  {
   "cell_type": "code",
   "execution_count": null,
   "metadata": {},
   "outputs": [],
   "source": [
    "compass.extra\n"
   ]
  },
  {
   "cell_type": "code",
   "execution_count": null,
   "metadata": {},
   "outputs": [],
   "source": [
    "compass.show()"
   ]
  },
  {
   "cell_type": "code",
   "execution_count": 7,
   "metadata": {},
   "outputs": [
    {
     "data": {
      "text/plain": [
       "[Warning_(category='HumblDataWarning', message='Start date adjusted to 2022-12-02 based on humblPEON membership (2Y of data).'),\n",
       " Warning_(category='HumblDataWarning', message='Z-score defaulted to None. No z-score data will be calculated.')]"
      ]
     },
     "execution_count": 7,
     "metadata": {},
     "output_type": "execute_result"
    }
   ],
   "source": [
    "compass.warnings"
   ]
  },
  {
   "cell_type": "code",
   "execution_count": 9,
   "metadata": {},
   "outputs": [
    {
     "data": {
      "text/plain": [
       "True"
      ]
     },
     "execution_count": 9,
     "metadata": {},
     "output_type": "execute_result"
    }
   ],
   "source": [
    "from aiocache import RedisCache\n",
    "\n",
    "\n",
    "await RedisCache(namespace=\"humbl_compass\").clear()"
   ]
  },
  {
   "cell_type": "code",
   "execution_count": 3,
   "metadata": {},
   "outputs": [
    {
     "name": "stderr",
     "output_type": "stream",
     "text": [
      "\u001b[1;35mINFO:\u001b[0m \u001b[36mOpenBBAPIClient\u001b[0m || \u001b[32mSTART: fetch_data (async)\u001b[0m\n",
      "\u001b[1;35mINFO:\u001b[0m \u001b[36mOpenBBAPIClient\u001b[0m || \u001b[32mPrepared request for: http://127.0.0.1:6900/api/v1/economy/composite_leading_indicator?provider=oecd&start_date=2022-08-02&end_date=2024-11-01&country=united_states&adjustment=amplitude&growth_rate=false\u001b[0m\n",
      "\u001b[1;35mINFO:\u001b[0m \u001b[36mOpenBBAPIClient\u001b[0m || \u001b[32mFetching data from: http://127.0.0.1:6900/api/v1/economy/composite_leading_indicator?provider=oecd&start_date=2022-08-02&end_date=2024-11-01&country=united_states&adjustment=amplitude&growth_rate=false\u001b[0m\n"
     ]
    },
    {
     "name": "stderr",
     "output_type": "stream",
     "text": [
      "\u001b[1;35mERROR:\u001b[0m \u001b[36mOpenBBAPIClient\u001b[0m || \u001b[1;31mAPI error for economy.composite_leading_indicator from http://127.0.0.1:6900/api/v1/economy/composite_leading_indicator?provider=oecd&start_date=2022-08-02&end_date=2024-11-01&country=united_states&adjustment=amplitude&growth_rate=false: Error with the OECD request: 429\u001b[0m\n",
      "/Users/jjfantini/github/humblFINANCE-org/humblDATA/src/humbldata/core/utils/openbb_api_client.py:330: HumblDataWarning: API error for economy.composite_leading_indicator from http://127.0.0.1:6900/api/v1/economy/composite_leading_indicator?provider=oecd&start_date=2022-08-02&end_date=2024-11-01&country=united_states&adjustment=amplitude&growth_rate=false: Error with the OECD request: 429\n",
      "  api_response_error = await self._validate_api_response()\n",
      "\u001b[1;35mINFO:\u001b[0m \u001b[36mOpenBBAPIClient\u001b[0m || \u001b[32mEND: fetch_data (async) - Total time: 0.1237s\u001b[0m\n"
     ]
    },
    {
     "name": "stdout",
     "output_type": "stream",
     "text": [
      "The autoreload extension is already loaded. To reload it, use:\n",
      "  %reload_ext autoreload\n"
     ]
    }
   ],
   "source": [
    "%load_ext autoreload\n",
    "%autoreload 2\n",
    "\n",
    "import polars as pl\n",
    "from humbldata.core.standard_models.openbbapi.EconomyCompositeLeadingIndicatorQueryParams import EconomyCompositeLeadingIndicatorQueryParams\n",
    "from humbldata.core.utils.openbb_api_client import OpenBBAPIClient\n",
    "\n",
    "\n",
    "cli_query_params = EconomyCompositeLeadingIndicatorQueryParams(\n",
    "    start_date=\"2022-08-02\",\n",
    "    end_date=\"2024-11-01\",\n",
    "    provider=\"oecd\",\n",
    "    country=\"united_states\",\n",
    ")\n",
    "api_client = OpenBBAPIClient()\n",
    "cli_response = await api_client.fetch_data(\n",
    "    obb_path=\"economy.composite_leading_indicator\",\n",
    "    api_query_params=cli_query_params,\n",
    ")\n",
    "oecd_cli_data = cli_response.to_polars(collect=False)\n",
    "oecd_cli_data = oecd_cli_data.rename({\"value\": \"cli\"}).with_columns(\n",
    "    [pl.col(\"date\").dt.month_start().alias(\"date_month_start\")]\n",
    ")"
   ]
  },
  {
   "cell_type": "code",
   "execution_count": 4,
   "metadata": {},
   "outputs": [
    {
     "data": {
      "text/plain": [
       "HumblObject\n",
       "\n",
       "id: 0682797b-9c82-799d-8000-107637e98ea5\n",
       "results: b'DSL_VERSION\\x01\\x00\\x00\\x00\\x81\\xadDataFrameScan\\x82\\xa2df\\xc4\\x80\\xff\\x...\n",
       "equity_data: None\n",
       "provider: oecd\n",
       "warnings: [{'category': 'OpenBBAPIError', 'message': 'API error for economy.composi...\n",
       "chart: None\n",
       "extra: {'original_api_response': {'detail': 'Error with the OECD request: 429'}}\n",
       "context_params: None\n",
       "command_params: None"
      ]
     },
     "execution_count": 4,
     "metadata": {},
     "output_type": "execute_result"
    }
   ],
   "source": [
    "cli_response\n"
   ]
  },
  {
   "cell_type": "code",
   "execution_count": null,
   "metadata": {},
   "outputs": [],
   "source": []
  }
 ],
 "metadata": {
  "kernelspec": {
   "display_name": ".venv",
   "language": "python",
   "name": "python3"
  },
  "language_info": {
   "codemirror_mode": {
    "name": "ipython",
    "version": 3
   },
   "file_extension": ".py",
   "mimetype": "text/x-python",
   "name": "python",
   "nbconvert_exporter": "python",
   "pygments_lexer": "ipython3",
   "version": "3.12.10"
  }
 },
 "nbformat": 4,
 "nbformat_minor": 2
}
