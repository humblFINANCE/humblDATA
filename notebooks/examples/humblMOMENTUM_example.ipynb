{
 "cells": [
  {
   "cell_type": "code",
   "execution_count": 2,
   "metadata": {},
   "outputs": [
    {
     "name": "stdout",
     "output_type": "stream",
     "text": [
      "The autoreload extension is already loaded. To reload it, use:\n",
      "  %reload_ext autoreload\n"
     ]
    }
   ],
   "source": [
    "%load_ext autoreload\n",
    "%autoreload 2\n",
    "\n",
    "from datetime import datetime, timedelta\n",
    "\n",
    "from humbldata.core.standard_models.toolbox.technical.humbl_momentum import (\n",
    "    HumblMomentumQueryParams,\n",
    ")\n",
    "from humbldata.toolbox.toolbox_controller import Toolbox\n",
    "\n",
    "# Initialize toolbox\n",
    "toolbox = Toolbox(\n",
    "    symbols=[\"MP\"],  # List of symbols to analyze\n",
    "    start_date=\"2023-04-15\",  # 1 year ago\n",
    "    end_date=\"2025-04-15\",  # Today\n",
    "    membership=\"admin\"\n",
    ")"
   ]
  },
  {
   "cell_type": "code",
   "execution_count": 3,
   "metadata": {},
   "outputs": [
    {
     "name": "stderr",
     "output_type": "stream",
     "text": [
      "\u001b[1;35mINFO:\u001b[0m \u001b[36mHumblMomentumFetcher\u001b[0m || \u001b[32mSTART: fetch_data (sync)\u001b[0m\n",
      "\u001b[1;35mDEBUG:\u001b[0m \u001b[36mHumblMomentumFetcher\u001b[0m || \u001b[34mRunning .transform_query()\u001b[0m\n",
      "\u001b[1;35mDEBUG:\u001b[0m \u001b[36mHumblMomentumFetcher\u001b[0m || \u001b[34mRunning .extract_data()\u001b[0m\n",
      "\u001b[1;35mDEBUG:\u001b[0m \u001b[36mHumblMomentumFetcher\u001b[0m || \u001b[34mRunning .transform_data()\u001b[0m\n",
      "\u001b[1;35mDEBUG:\u001b[0m \u001b[36mHumblMomentumFetcher\u001b[0m || \u001b[34mTransforming data with momentum calculation\u001b[0m\n",
      "\u001b[1;35mDEBUG:\u001b[0m \u001b[36mMomentumModel\u001b[0m || \u001b[34mCalculating momentum using method: shift, window: 31\u001b[0m\n",
      "\u001b[1;35mDEBUG:\u001b[0m \u001b[36mMomentumModel\u001b[0m || \u001b[34mUsing simple shift calculation\u001b[0m\n",
      "\u001b[1;35mINFO:\u001b[0m \u001b[36mHumblMomentumFetcher\u001b[0m || \u001b[32mEND: fetch_data (sync) - Total time: 1.8434s\u001b[0m\n"
     ]
    }
   ],
   "source": [
    "\n",
    "\n",
    "# Calculate momentum\n",
    "result = toolbox.technical.humbl_momentum(\n",
    "    method=\"shift\",\n",
    "    window=\"1mo\",\n",
    "    chart=True,\n",
    "    template=\"humbl_dark\"\n",
    ")\n"
   ]
  },
  {
   "cell_type": "code",
   "execution_count": 4,
   "metadata": {},
   "outputs": [
    {
     "data": {
      "text/html": [
       "<div><style>\n",
       ".dataframe > thead > tr,\n",
       ".dataframe > tbody > tr {\n",
       "  text-align: right;\n",
       "  white-space: pre-wrap;\n",
       "}\n",
       "</style>\n",
       "<small>shape: (471, 5)</small><table border=\"1\" class=\"dataframe\"><thead><tr><th>date</th><th>close</th><th>symbol</th><th>shifted</th><th>momentum_signal</th></tr><tr><td>date</td><td>f64</td><td>str</td><td>f64</td><td>i8</td></tr></thead><tbody><tr><td>2023-05-31</td><td>20.719999</td><td>&quot;MP&quot;</td><td>27.959999</td><td>0</td></tr><tr><td>2023-06-01</td><td>20.93</td><td>&quot;MP&quot;</td><td>26.299999</td><td>0</td></tr><tr><td>2023-06-02</td><td>22.07</td><td>&quot;MP&quot;</td><td>25.190001</td><td>0</td></tr><tr><td>2023-06-05</td><td>21.85</td><td>&quot;MP&quot;</td><td>24.07</td><td>0</td></tr><tr><td>2023-06-06</td><td>22.889999</td><td>&quot;MP&quot;</td><td>22.74</td><td>1</td></tr><tr><td>&hellip;</td><td>&hellip;</td><td>&hellip;</td><td>&hellip;</td><td>&hellip;</td></tr><tr><td>2025-04-09</td><td>23.809999</td><td>&quot;MP&quot;</td><td>23.559999</td><td>1</td></tr><tr><td>2025-04-10</td><td>23.540001</td><td>&quot;MP&quot;</td><td>23.77</td><td>0</td></tr><tr><td>2025-04-11</td><td>22.68</td><td>&quot;MP&quot;</td><td>23.459999</td><td>0</td></tr><tr><td>2025-04-14</td><td>27.59</td><td>&quot;MP&quot;</td><td>24.01</td><td>1</td></tr><tr><td>2025-04-15</td><td>25.07</td><td>&quot;MP&quot;</td><td>22.530001</td><td>1</td></tr></tbody></table></div>"
      ],
      "text/plain": [
       "shape: (471, 5)\n",
       "┌────────────┬───────────┬────────┬───────────┬─────────────────┐\n",
       "│ date       ┆ close     ┆ symbol ┆ shifted   ┆ momentum_signal │\n",
       "│ ---        ┆ ---       ┆ ---    ┆ ---       ┆ ---             │\n",
       "│ date       ┆ f64       ┆ str    ┆ f64       ┆ i8              │\n",
       "╞════════════╪═══════════╪════════╪═══════════╪═════════════════╡\n",
       "│ 2023-05-31 ┆ 20.719999 ┆ MP     ┆ 27.959999 ┆ 0               │\n",
       "│ 2023-06-01 ┆ 20.93     ┆ MP     ┆ 26.299999 ┆ 0               │\n",
       "│ 2023-06-02 ┆ 22.07     ┆ MP     ┆ 25.190001 ┆ 0               │\n",
       "│ 2023-06-05 ┆ 21.85     ┆ MP     ┆ 24.07     ┆ 0               │\n",
       "│ 2023-06-06 ┆ 22.889999 ┆ MP     ┆ 22.74     ┆ 1               │\n",
       "│ …          ┆ …         ┆ …      ┆ …         ┆ …               │\n",
       "│ 2025-04-09 ┆ 23.809999 ┆ MP     ┆ 23.559999 ┆ 1               │\n",
       "│ 2025-04-10 ┆ 23.540001 ┆ MP     ┆ 23.77     ┆ 0               │\n",
       "│ 2025-04-11 ┆ 22.68     ┆ MP     ┆ 23.459999 ┆ 0               │\n",
       "│ 2025-04-14 ┆ 27.59     ┆ MP     ┆ 24.01     ┆ 1               │\n",
       "│ 2025-04-15 ┆ 25.07     ┆ MP     ┆ 22.530001 ┆ 1               │\n",
       "└────────────┴───────────┴────────┴───────────┴─────────────────┘"
      ]
     },
     "execution_count": 4,
     "metadata": {},
     "output_type": "execute_result"
    }
   ],
   "source": [
    "result.to_polars()"
   ]
  },
  {
   "cell_type": "code",
   "execution_count": 5,
   "metadata": {},
   "outputs": [
    {
     "data": {
      "text/html": [
       "<div><style>\n",
       ".dataframe > thead > tr,\n",
       ".dataframe > tbody > tr {\n",
       "  text-align: right;\n",
       "  white-space: pre-wrap;\n",
       "}\n",
       "</style>\n",
       "<small>shape: (0, 5)</small><table border=\"1\" class=\"dataframe\"><thead><tr><th>date</th><th>close</th><th>symbol</th><th>shifted</th><th>momentum_signal</th></tr><tr><td>date</td><td>f64</td><td>str</td><td>f64</td><td>i8</td></tr></thead><tbody></tbody></table></div>"
      ],
      "text/plain": [
       "shape: (0, 5)\n",
       "┌──────┬───────┬────────┬─────────┬─────────────────┐\n",
       "│ date ┆ close ┆ symbol ┆ shifted ┆ momentum_signal │\n",
       "│ ---  ┆ ---   ┆ ---    ┆ ---     ┆ ---             │\n",
       "│ date ┆ f64   ┆ str    ┆ f64     ┆ i8              │\n",
       "╞══════╪═══════╪════════╪═════════╪═════════════════╡\n",
       "└──────┴───────┴────────┴─────────┴─────────────────┘"
      ]
     },
     "execution_count": 5,
     "metadata": {},
     "output_type": "execute_result"
    }
   ],
   "source": [
    "import polars as pl\n",
    "result.to_polars().filter(pl.col(\"symbol\") == \"SPY\")\n"
   ]
  },
  {
   "cell_type": "code",
   "execution_count": 6,
   "metadata": {},
   "outputs": [
    {
     "data": {
      "application/vnd.plotly.v1+json": {
       "config": {
        "plotlyServerURL": "https://plot.ly"
       },
       "data": [
        {
         "line": {
          "color": "red",
          "width": 2
         },
         "mode": "lines",
         "name": "Current Price",
         "showlegend": true,
         "type": "scatter",
         "x": [
          "2023-05-31T00:00:00",
          "2023-06-01T00:00:00"
         ],
         "y": {
          "bdata": "AAAA4FG4NEAAAACAFO40QA==",
          "dtype": "f8"
         }
        },
        {
         "line": {
          "color": "red",
          "width": 2
         },
         "mode": "lines",
         "name": "Current Price",
         "showlegend": false,
         "type": "scatter",
         "x": [
          "2023-06-01T00:00:00",
          "2023-06-02T00:00:00"
         ],
         "y": {
          "bdata": "AAAAgBTuNEAAAACA6xE2QA==",
          "dtype": "f8"
         }
        },
        {
         "line": {
          "color": "red",
          "width": 2
         },
         "mode": "lines",
         "name": "Current Price",
         "showlegend": false,
         "type": "scatter",
         "x": [
          "2023-06-02T00:00:00",
          "2023-06-05T00:00:00"
         ],
         "y": {
          "bdata": "AAAAgOsRNkAAAACgmdk1QA==",
          "dtype": "f8"
         }
        },
        {
         "line": {
          "color": "red",
          "width": 2
         },
         "mode": "lines",
         "name": "Current Price",
         "showlegend": false,
         "type": "scatter",
         "x": [
          "2023-06-05T00:00:00",
          "2023-06-06T00:00:00"
         ],
         "y": {
          "bdata": "AAAAoJnZNUAAAAAA1+M2QA==",
          "dtype": "f8"
         }
        },
        {
         "line": {
          "color": "green",
          "width": 2
         },
         "mode": "lines",
         "name": "Current Price",
         "showlegend": false,
         "type": "scatter",
         "x": [
          "2023-06-06T00:00:00",
          "2023-06-07T00:00:00"
         ],
         "y": {
          "bdata": "AAAAANfjNkAAAADAHoU2QA==",
          "dtype": "f8"
         }
        },
        {
         "line": {
          "color": "red",
          "width": 2
         },
         "mode": "lines",
         "name": "Current Price",
         "showlegend": false,
         "type": "scatter",
         "x": [
          "2023-06-07T00:00:00",
          "2023-06-08T00:00:00"
         ],
         "y": {
          "bdata": "AAAAwB6FNkAAAACAFC42QA==",
          "dtype": "f8"
         }
        },
        {
         "line": {
          "color": "green",
          "width": 2
         },
         "mode": "lines",
         "name": "Current Price",
         "showlegend": false,
         "type": "scatter",
         "x": [
          "2023-06-08T00:00:00",
          "2023-06-09T00:00:00"
         ],
         "y": {
          "bdata": "AAAAgBQuNkAAAAAAKdw1QA==",
          "dtype": "f8"
         }
        },
        {
         "line": {
          "color": "green",
          "width": 2
         },
         "mode": "lines",
         "name": "Current Price",
         "showlegend": false,
         "type": "scatter",
         "x": [
          "2023-06-09T00:00:00",
          "2023-06-12T00:00:00"
         ],
         "y": {
          "bdata": "AAAAACncNUAAAABgj8I1QA==",
          "dtype": "f8"
         }
        },
        {
         "line": {
          "color": "green",
          "width": 2
         },
         "mode": "lines",
         "name": "Current Price",
         "showlegend": false,
         "type": "scatter",
         "x": [
          "2023-06-12T00:00:00",
          "2023-06-13T00:00:00"
         ],
         "y": {
          "bdata": "AAAAYI/CNUAAAAAAAMA2QA==",
          "dtype": "f8"
         }
        },
        {
         "line": {
          "color": "green",
          "width": 2
         },
         "mode": "lines",
         "name": "Current Price",
         "showlegend": false,
         "type": "scatter",
         "x": [
          "2023-06-13T00:00:00",
          "2023-06-14T00:00:00"
         ],
         "y": {
          "bdata": "AAAAAADANkAAAADAHoU2QA==",
          "dtype": "f8"
         }
        },
        {
         "line": {
          "color": "green",
          "width": 2
         },
         "mode": "lines",
         "name": "Current Price",
         "showlegend": false,
         "type": "scatter",
         "x": [
          "2023-06-14T00:00:00",
          "2023-06-15T00:00:00"
         ],
         "y": {
          "bdata": "AAAAwB6FNkAAAABAClc3QA==",
          "dtype": "f8"
         }
        },
        {
         "line": {
          "color": "green",
          "width": 2
         },
         "mode": "lines",
         "name": "Current Price",
         "showlegend": false,
         "type": "scatter",
         "x": [
          "2023-06-15T00:00:00",
          "2023-06-16T00:00:00"
         ],
         "y": {
          "bdata": "AAAAQApXN0AAAADAHsU2QA==",
          "dtype": "f8"
         }
        },
        {
         "line": {
          "color": "green",
          "width": 2
         },
         "mode": "lines",
         "name": "Current Price",
         "showlegend": false,
         "type": "scatter",
         "x": [
          "2023-06-16T00:00:00",
          "2023-06-20T00:00:00"
         ],
         "y": {
          "bdata": "AAAAwB7FNkAAAAAAAEA2QA==",
          "dtype": "f8"
         }
        },
        {
         "line": {
          "color": "green",
          "width": 2
         },
         "mode": "lines",
         "name": "Current Price",
         "showlegend": false,
         "type": "scatter",
         "x": [
          "2023-06-20T00:00:00",
          "2023-06-21T00:00:00"
         ],
         "y": {
          "bdata": "AAAAAABANkAAAACgR+E1QA==",
          "dtype": "f8"
         }
        },
        {
         "line": {
          "color": "green",
          "width": 2
         },
         "mode": "lines",
         "name": "Current Price",
         "showlegend": false,
         "type": "scatter",
         "x": [
          "2023-06-21T00:00:00",
          "2023-06-22T00:00:00"
         ],
         "y": {
          "bdata": "AAAAoEfhNUAAAADgo/A1QA==",
          "dtype": "f8"
         }
        },
        {
         "line": {
          "color": "green",
          "width": 2
         },
         "mode": "lines",
         "name": "Current Price",
         "showlegend": false,
         "type": "scatter",
         "x": [
          "2023-06-22T00:00:00",
          "2023-06-23T00:00:00"
         ],
         "y": {
          "bdata": "AAAA4KPwNUAAAABAM3M1QA==",
          "dtype": "f8"
         }
        },
        {
         "line": {
          "color": "red",
          "width": 2
         },
         "mode": "lines",
         "name": "Current Price",
         "showlegend": false,
         "type": "scatter",
         "x": [
          "2023-06-23T00:00:00",
          "2023-06-26T00:00:00"
         ],
         "y": {
          "bdata": "AAAAQDNzNUAAAACAFG41QA==",
          "dtype": "f8"
         }
        },
        {
         "line": {
          "color": "red",
          "width": 2
         },
         "mode": "lines",
         "name": "Current Price",
         "showlegend": false,
         "type": "scatter",
         "x": [
          "2023-06-26T00:00:00",
          "2023-06-27T00:00:00"
         ],
         "y": {
          "bdata": "AAAAgBRuNUAAAACAFO41QA==",
          "dtype": "f8"
         }
        },
        {
         "line": {
          "color": "green",
          "width": 2
         },
         "mode": "lines",
         "name": "Current Price",
         "showlegend": false,
         "type": "scatter",
         "x": [
          "2023-06-27T00:00:00",
          "2023-06-28T00:00:00"
         ],
         "y": {
          "bdata": "AAAAgBTuNUAAAADAHoU2QA==",
          "dtype": "f8"
         }
        },
        {
         "line": {
          "color": "green",
          "width": 2
         },
         "mode": "lines",
         "name": "Current Price",
         "showlegend": false,
         "type": "scatter",
         "x": [
          "2023-06-28T00:00:00",
          "2023-06-29T00:00:00"
         ],
         "y": {
          "bdata": "AAAAwB6FNkAAAACgmdk2QA==",
          "dtype": "f8"
         }
        },
        {
         "line": {
          "color": "green",
          "width": 2
         },
         "mode": "lines",
         "name": "Current Price",
         "showlegend": false,
         "type": "scatter",
         "x": [
          "2023-06-29T00:00:00",
          "2023-06-30T00:00:00"
         ],
         "y": {
          "bdata": "AAAAoJnZNkAAAACgR+E2QA==",
          "dtype": "f8"
         }
        },
        {
         "line": {
          "color": "green",
          "width": 2
         },
         "mode": "lines",
         "name": "Current Price",
         "showlegend": false,
         "type": "scatter",
         "x": [
          "2023-06-30T00:00:00",
          "2023-07-03T00:00:00"
         ],
         "y": {
          "bdata": "AAAAoEfhNkAAAADA9Sg3QA==",
          "dtype": "f8"
         }
        },
        {
         "line": {
          "color": "green",
          "width": 2
         },
         "mode": "lines",
         "name": "Current Price",
         "showlegend": false,
         "type": "scatter",
         "x": [
          "2023-07-03T00:00:00",
          "2023-07-05T00:00:00"
         ],
         "y": {
          "bdata": "AAAAwPUoN0AAAADAzIw4QA==",
          "dtype": "f8"
         }
        },
        {
         "line": {
          "color": "green",
          "width": 2
         },
         "mode": "lines",
         "name": "Current Price",
         "showlegend": false,
         "type": "scatter",
         "x": [
          "2023-07-05T00:00:00",
          "2023-07-06T00:00:00"
         ],
         "y": {
          "bdata": "AAAAwMyMOEAAAADAzEw4QA==",
          "dtype": "f8"
         }
        },
        {
         "line": {
          "color": "green",
          "width": 2
         },
         "mode": "lines",
         "name": "Current Price",
         "showlegend": false,
         "type": "scatter",
         "x": [
          "2023-07-06T00:00:00",
          "2023-07-07T00:00:00"
         ],
         "y": {
          "bdata": "AAAAwMxMOEAAAABgjwI5QA==",
          "dtype": "f8"
         }
        },
        {
         "line": {
          "color": "green",
          "width": 2
         },
         "mode": "lines",
         "name": "Current Price",
         "showlegend": false,
         "type": "scatter",
         "x": [
          "2023-07-07T00:00:00",
          "2023-07-10T00:00:00"
         ],
         "y": {
          "bdata": "AAAAYI8COUAAAAAAAEA5QA==",
          "dtype": "f8"
         }
        },
        {
         "line": {
          "color": "green",
          "width": 2
         },
         "mode": "lines",
         "name": "Current Price",
         "showlegend": false,
         "type": "scatter",
         "x": [
          "2023-07-10T00:00:00",
          "2023-07-11T00:00:00"
         ],
         "y": {
          "bdata": "AAAAAABAOUAAAAAgXE85QA==",
          "dtype": "f8"
         }
        },
        {
         "line": {
          "color": "green",
          "width": 2
         },
         "mode": "lines",
         "name": "Current Price",
         "showlegend": false,
         "type": "scatter",
         "x": [
          "2023-07-11T00:00:00",
          "2023-07-12T00:00:00"
         ],
         "y": {
          "bdata": "AAAAIFxPOUAAAABgj4I5QA==",
          "dtype": "f8"
         }
        },
        {
         "line": {
          "color": "green",
          "width": 2
         },
         "mode": "lines",
         "name": "Current Price",
         "showlegend": false,
         "type": "scatter",
         "x": [
          "2023-07-12T00:00:00",
          "2023-07-13T00:00:00"
         ],
         "y": {
          "bdata": "AAAAYI+COUAAAACgR+E5QA==",
          "dtype": "f8"
         }
        },
        {
         "line": {
          "color": "green",
          "width": 2
         },
         "mode": "lines",
         "name": "Current Price",
         "showlegend": false,
         "type": "scatter",
         "x": [
          "2023-07-13T00:00:00",
          "2023-07-14T00:00:00"
         ],
         "y": {
          "bdata": "AAAAoEfhOUAAAACgR6E4QA==",
          "dtype": "f8"
         }
        },
        {
         "line": {
          "color": "green",
          "width": 2
         },
         "mode": "lines",
         "name": "Current Price",
         "showlegend": false,
         "type": "scatter",
         "x": [
          "2023-07-14T00:00:00",
          "2023-07-17T00:00:00"
         ],
         "y": {
          "bdata": "AAAAoEehOEAAAAAAKdw4QA==",
          "dtype": "f8"
         }
        },
        {
         "line": {
          "color": "green",
          "width": 2
         },
         "mode": "lines",
         "name": "Current Price",
         "showlegend": false,
         "type": "scatter",
         "x": [
          "2023-07-17T00:00:00",
          "2023-07-18T00:00:00"
         ],
         "y": {
          "bdata": "AAAAACncOEAAAABAM7M4QA==",
          "dtype": "f8"
         }
        },
        {
         "line": {
          "color": "green",
          "width": 2
         },
         "mode": "lines",
         "name": "Current Price",
         "showlegend": false,
         "type": "scatter",
         "x": [
          "2023-07-18T00:00:00",
          "2023-07-19T00:00:00"
         ],
         "y": {
          "bdata": "AAAAQDOzOEAAAADgehQ4QA==",
          "dtype": "f8"
         }
        },
        {
         "line": {
          "color": "green",
          "width": 2
         },
         "mode": "lines",
         "name": "Current Price",
         "showlegend": false,
         "type": "scatter",
         "x": [
          "2023-07-19T00:00:00",
          "2023-07-20T00:00:00"
         ],
         "y": {
          "bdata": "AAAA4HoUOEAAAAAA1yM4QA==",
          "dtype": "f8"
         }
        },
        {
         "line": {
          "color": "green",
          "width": 2
         },
         "mode": "lines",
         "name": "Current Price",
         "showlegend": false,
         "type": "scatter",
         "x": [
          "2023-07-20T00:00:00",
          "2023-07-21T00:00:00"
         ],
         "y": {
          "bdata": "AAAAANcjOEAAAACAwrU3QA==",
          "dtype": "f8"
         }
        },
        {
         "line": {
          "color": "green",
          "width": 2
         },
         "mode": "lines",
         "name": "Current Price",
         "showlegend": false,
         "type": "scatter",
         "x": [
          "2023-07-21T00:00:00",
          "2023-07-24T00:00:00"
         ],
         "y": {
          "bdata": "AAAAgMK1N0AAAACA69E3QA==",
          "dtype": "f8"
         }
        },
        {
         "line": {
          "color": "green",
          "width": 2
         },
         "mode": "lines",
         "name": "Current Price",
         "showlegend": false,
         "type": "scatter",
         "x": [
          "2023-07-24T00:00:00",
          "2023-07-25T00:00:00"
         ],
         "y": {
          "bdata": "AAAAgOvRN0AAAAAAAMA3QA==",
          "dtype": "f8"
         }
        },
        {
         "line": {
          "color": "green",
          "width": 2
         },
         "mode": "lines",
         "name": "Current Price",
         "showlegend": false,
         "type": "scatter",
         "x": [
          "2023-07-25T00:00:00",
          "2023-07-26T00:00:00"
         ],
         "y": {
          "bdata": "AAAAAADAN0AAAABgZiY4QA==",
          "dtype": "f8"
         }
        },
        {
         "line": {
          "color": "green",
          "width": 2
         },
         "mode": "lines",
         "name": "Current Price",
         "showlegend": false,
         "type": "scatter",
         "x": [
          "2023-07-26T00:00:00",
          "2023-07-27T00:00:00"
         ],
         "y": {
          "bdata": "AAAAYGYmOEAAAADgelQ3QA==",
          "dtype": "f8"
         }
        },
        {
         "line": {
          "color": "green",
          "width": 2
         },
         "mode": "lines",
         "name": "Current Price",
         "showlegend": false,
         "type": "scatter",
         "x": [
          "2023-07-27T00:00:00",
          "2023-07-28T00:00:00"
         ],
         "y": {
          "bdata": "AAAA4HpUN0AAAACAPco3QA==",
          "dtype": "f8"
         }
        },
        {
         "line": {
          "color": "green",
          "width": 2
         },
         "mode": "lines",
         "name": "Current Price",
         "showlegend": false,
         "type": "scatter",
         "x": [
          "2023-07-28T00:00:00",
          "2023-07-31T00:00:00"
         ],
         "y": {
          "bdata": "AAAAgD3KN0AAAACgmdk3QA==",
          "dtype": "f8"
         }
        },
        {
         "line": {
          "color": "green",
          "width": 2
         },
         "mode": "lines",
         "name": "Current Price",
         "showlegend": false,
         "type": "scatter",
         "x": [
          "2023-07-31T00:00:00",
          "2023-08-01T00:00:00"
         ],
         "y": {
          "bdata": "AAAAoJnZN0AAAADgehQ3QA==",
          "dtype": "f8"
         }
        },
        {
         "line": {
          "color": "red",
          "width": 2
         },
         "mode": "lines",
         "name": "Current Price",
         "showlegend": false,
         "type": "scatter",
         "x": [
          "2023-08-01T00:00:00",
          "2023-08-02T00:00:00"
         ],
         "y": {
          "bdata": "AAAA4HoUN0AAAADA9Sg2QA==",
          "dtype": "f8"
         }
        },
        {
         "line": {
          "color": "red",
          "width": 2
         },
         "mode": "lines",
         "name": "Current Price",
         "showlegend": false,
         "type": "scatter",
         "x": [
          "2023-08-02T00:00:00",
          "2023-08-03T00:00:00"
         ],
         "y": {
          "bdata": "AAAAwPUoNkAAAABguB42QA==",
          "dtype": "f8"
         }
        },
        {
         "line": {
          "color": "red",
          "width": 2
         },
         "mode": "lines",
         "name": "Current Price",
         "showlegend": false,
         "type": "scatter",
         "x": [
          "2023-08-03T00:00:00",
          "2023-08-04T00:00:00"
         ],
         "y": {
          "bdata": "AAAAYLgeNkAAAAAAKVw3QA==",
          "dtype": "f8"
         }
        },
        {
         "line": {
          "color": "green",
          "width": 2
         },
         "mode": "lines",
         "name": "Current Price",
         "showlegend": false,
         "type": "scatter",
         "x": [
          "2023-08-04T00:00:00",
          "2023-08-07T00:00:00"
         ],
         "y": {
          "bdata": "AAAAAClcN0AAAABA4bo2QA==",
          "dtype": "f8"
         }
        },
        {
         "line": {
          "color": "green",
          "width": 2
         },
         "mode": "lines",
         "name": "Current Price",
         "showlegend": false,
         "type": "scatter",
         "x": [
          "2023-08-07T00:00:00",
          "2023-08-08T00:00:00"
         ],
         "y": {
          "bdata": "AAAAQOG6NkAAAADgUbg2QA==",
          "dtype": "f8"
         }
        },
        {
         "line": {
          "color": "green",
          "width": 2
         },
         "mode": "lines",
         "name": "Current Price",
         "showlegend": false,
         "type": "scatter",
         "x": [
          "2023-08-08T00:00:00",
          "2023-08-09T00:00:00"
         ],
         "y": {
          "bdata": "AAAA4FG4NkAAAACAwvU2QA==",
          "dtype": "f8"
         }
        },
        {
         "line": {
          "color": "green",
          "width": 2
         },
         "mode": "lines",
         "name": "Current Price",
         "showlegend": false,
         "type": "scatter",
         "x": [
          "2023-08-09T00:00:00",
          "2023-08-10T00:00:00"
         ],
         "y": {
          "bdata": "AAAAgML1NkAAAABgZuY2QA==",
          "dtype": "f8"
         }
        },
        {
         "line": {
          "color": "green",
          "width": 2
         },
         "mode": "lines",
         "name": "Current Price",
         "showlegend": false,
         "type": "scatter",
         "x": [
          "2023-08-10T00:00:00",
          "2023-08-11T00:00:00"
         ],
         "y": {
          "bdata": "AAAAYGbmNkAAAABAChc3QA==",
          "dtype": "f8"
         }
        },
        {
         "line": {
          "color": "green",
          "width": 2
         },
         "mode": "lines",
         "name": "Current Price",
         "showlegend": false,
         "type": "scatter",
         "x": [
          "2023-08-11T00:00:00",
          "2023-08-14T00:00:00"
         ],
         "y": {
          "bdata": "AAAAQAoXN0AAAACAwvU2QA==",
          "dtype": "f8"
         }
        },
        {
         "line": {
          "color": "green",
          "width": 2
         },
         "mode": "lines",
         "name": "Current Price",
         "showlegend": false,
         "type": "scatter",
         "x": [
          "2023-08-14T00:00:00",
          "2023-08-15T00:00:00"
         ],
         "y": {
          "bdata": "AAAAgML1NkAAAAAgXM81QA==",
          "dtype": "f8"
         }
        },
        {
         "line": {
          "color": "red",
          "width": 2
         },
         "mode": "lines",
         "name": "Current Price",
         "showlegend": false,
         "type": "scatter",
         "x": [
          "2023-08-15T00:00:00",
          "2023-08-16T00:00:00"
         ],
         "y": {
          "bdata": "AAAAIFzPNUAAAAAghWs1QA==",
          "dtype": "f8"
         }
        },
        {
         "line": {
          "color": "red",
          "width": 2
         },
         "mode": "lines",
         "name": "Current Price",
         "showlegend": false,
         "type": "scatter",
         "x": [
          "2023-08-16T00:00:00",
          "2023-08-17T00:00:00"
         ],
         "y": {
          "bdata": "AAAAIIVrNUAAAADAzEw1QA==",
          "dtype": "f8"
         }
        },
        {
         "line": {
          "color": "red",
          "width": 2
         },
         "mode": "lines",
         "name": "Current Price",
         "showlegend": false,
         "type": "scatter",
         "x": [
          "2023-08-17T00:00:00",
          "2023-08-18T00:00:00"
         ],
         "y": {
          "bdata": "AAAAwMxMNUAAAACA65E0QA==",
          "dtype": "f8"
         }
        },
        {
         "line": {
          "color": "red",
          "width": 2
         },
         "mode": "lines",
         "name": "Current Price",
         "showlegend": false,
         "type": "scatter",
         "x": [
          "2023-08-18T00:00:00",
          "2023-08-21T00:00:00"
         ],
         "y": {
          "bdata": "AAAAgOuRNEAAAACA65E0QA==",
          "dtype": "f8"
         }
        },
        {
         "line": {
          "color": "red",
          "width": 2
         },
         "mode": "lines",
         "name": "Current Price",
         "showlegend": false,
         "type": "scatter",
         "x": [
          "2023-08-21T00:00:00",
          "2023-08-22T00:00:00"
         ],
         "y": {
          "bdata": "AAAAgOuRNEAAAABguF40QA==",
          "dtype": "f8"
         }
        },
        {
         "line": {
          "color": "red",
          "width": 2
         },
         "mode": "lines",
         "name": "Current Price",
         "showlegend": false,
         "type": "scatter",
         "x": [
          "2023-08-22T00:00:00",
          "2023-08-23T00:00:00"
         ],
         "y": {
          "bdata": "AAAAYLheNEAAAADA9Wg0QA==",
          "dtype": "f8"
         }
        },
        {
         "line": {
          "color": "red",
          "width": 2
         },
         "mode": "lines",
         "name": "Current Price",
         "showlegend": false,
         "type": "scatter",
         "x": [
          "2023-08-23T00:00:00",
          "2023-08-24T00:00:00"
         ],
         "y": {
          "bdata": "AAAAwPVoNEAAAACAFK4zQA==",
          "dtype": "f8"
         }
        },
        {
         "line": {
          "color": "red",
          "width": 2
         },
         "mode": "lines",
         "name": "Current Price",
         "showlegend": false,
         "type": "scatter",
         "x": [
          "2023-08-24T00:00:00",
          "2023-08-25T00:00:00"
         ],
         "y": {
          "bdata": "AAAAgBSuM0AAAABguJ4zQA==",
          "dtype": "f8"
         }
        },
        {
         "line": {
          "color": "red",
          "width": 2
         },
         "mode": "lines",
         "name": "Current Price",
         "showlegend": false,
         "type": "scatter",
         "x": [
          "2023-08-25T00:00:00",
          "2023-08-28T00:00:00"
         ],
         "y": {
          "bdata": "AAAAYLieM0AAAADgetQzQA==",
          "dtype": "f8"
         }
        },
        {
         "line": {
          "color": "red",
          "width": 2
         },
         "mode": "lines",
         "name": "Current Price",
         "showlegend": false,
         "type": "scatter",
         "x": [
          "2023-08-28T00:00:00",
          "2023-08-29T00:00:00"
         ],
         "y": {
          "bdata": "AAAA4HrUM0AAAACAFK40QA==",
          "dtype": "f8"
         }
        },
        {
         "line": {
          "color": "red",
          "width": 2
         },
         "mode": "lines",
         "name": "Current Price",
         "showlegend": false,
         "type": "scatter",
         "x": [
          "2023-08-29T00:00:00",
          "2023-08-30T00:00:00"
         ],
         "y": {
          "bdata": "AAAAgBSuNEAAAADgelQ0QA==",
          "dtype": "f8"
         }
        },
        {
         "line": {
          "color": "red",
          "width": 2
         },
         "mode": "lines",
         "name": "Current Price",
         "showlegend": false,
         "type": "scatter",
         "x": [
          "2023-08-30T00:00:00",
          "2023-08-31T00:00:00"
         ],
         "y": {
          "bdata": "AAAA4HpUNEAAAADgo/A0QA==",
          "dtype": "f8"
         }
        },
        {
         "line": {
          "color": "red",
          "width": 2
         },
         "mode": "lines",
         "name": "Current Price",
         "showlegend": false,
         "type": "scatter",
         "x": [
          "2023-08-31T00:00:00",
          "2023-09-01T00:00:00"
         ],
         "y": {
          "bdata": "AAAA4KPwNEAAAABgj4I1QA==",
          "dtype": "f8"
         }
        },
        {
         "line": {
          "color": "red",
          "width": 2
         },
         "mode": "lines",
         "name": "Current Price",
         "showlegend": false,
         "type": "scatter",
         "x": [
          "2023-09-01T00:00:00",
          "2023-09-05T00:00:00"
         ],
         "y": {
          "bdata": "AAAAYI+CNUAAAAAgroc1QA==",
          "dtype": "f8"
         }
        },
        {
         "line": {
          "color": "red",
          "width": 2
         },
         "mode": "lines",
         "name": "Current Price",
         "showlegend": false,
         "type": "scatter",
         "x": [
          "2023-09-05T00:00:00",
          "2023-09-06T00:00:00"
         ],
         "y": {
          "bdata": "AAAAIK6HNUAAAADgetQ1QA==",
          "dtype": "f8"
         }
        },
        {
         "line": {
          "color": "red",
          "width": 2
         },
         "mode": "lines",
         "name": "Current Price",
         "showlegend": false,
         "type": "scatter",
         "x": [
          "2023-09-06T00:00:00",
          "2023-09-07T00:00:00"
         ],
         "y": {
          "bdata": "AAAA4HrUNUAAAADgo3A1QA==",
          "dtype": "f8"
         }
        },
        {
         "line": {
          "color": "red",
          "width": 2
         },
         "mode": "lines",
         "name": "Current Price",
         "showlegend": false,
         "type": "scatter",
         "x": [
          "2023-09-07T00:00:00",
          "2023-09-08T00:00:00"
         ],
         "y": {
          "bdata": "AAAA4KNwNUAAAAAghWs1QA==",
          "dtype": "f8"
         }
        },
        {
         "line": {
          "color": "red",
          "width": 2
         },
         "mode": "lines",
         "name": "Current Price",
         "showlegend": false,
         "type": "scatter",
         "x": [
          "2023-09-08T00:00:00",
          "2023-09-11T00:00:00"
         ],
         "y": {
          "bdata": "AAAAIIVrNUAAAAAA16M1QA==",
          "dtype": "f8"
         }
        },
        {
         "line": {
          "color": "red",
          "width": 2
         },
         "mode": "lines",
         "name": "Current Price",
         "showlegend": false,
         "type": "scatter",
         "x": [
          "2023-09-11T00:00:00",
          "2023-09-12T00:00:00"
         ],
         "y": {
          "bdata": "AAAAANejNUAAAACgR2E1QA==",
          "dtype": "f8"
         }
        },
        {
         "line": {
          "color": "red",
          "width": 2
         },
         "mode": "lines",
         "name": "Current Price",
         "showlegend": false,
         "type": "scatter",
         "x": [
          "2023-09-12T00:00:00",
          "2023-09-13T00:00:00"
         ],
         "y": {
          "bdata": "AAAAoEdhNUAAAACAwrU1QA==",
          "dtype": "f8"
         }
        },
        {
         "line": {
          "color": "red",
          "width": 2
         },
         "mode": "lines",
         "name": "Current Price",
         "showlegend": false,
         "type": "scatter",
         "x": [
          "2023-09-13T00:00:00",
          "2023-09-14T00:00:00"
         ],
         "y": {
          "bdata": "AAAAgMK1NUAAAACgmZk2QA==",
          "dtype": "f8"
         }
        },
        {
         "line": {
          "color": "red",
          "width": 2
         },
         "mode": "lines",
         "name": "Current Price",
         "showlegend": false,
         "type": "scatter",
         "x": [
          "2023-09-14T00:00:00",
          "2023-09-15T00:00:00"
         ],
         "y": {
          "bdata": "AAAAoJmZNkAAAACA65E2QA==",
          "dtype": "f8"
         }
        },
        {
         "line": {
          "color": "green",
          "width": 2
         },
         "mode": "lines",
         "name": "Current Price",
         "showlegend": false,
         "type": "scatter",
         "x": [
          "2023-09-15T00:00:00",
          "2023-09-18T00:00:00"
         ],
         "y": {
          "bdata": "AAAAgOuRNkAAAADgetQ0QA==",
          "dtype": "f8"
         }
        },
        {
         "line": {
          "color": "red",
          "width": 2
         },
         "mode": "lines",
         "name": "Current Price",
         "showlegend": false,
         "type": "scatter",
         "x": [
          "2023-09-18T00:00:00",
          "2023-09-19T00:00:00"
         ],
         "y": {
          "bdata": "AAAA4HrUNEAAAAAAAEA0QA==",
          "dtype": "f8"
         }
        },
        {
         "line": {
          "color": "red",
          "width": 2
         },
         "mode": "lines",
         "name": "Current Price",
         "showlegend": false,
         "type": "scatter",
         "x": [
          "2023-09-19T00:00:00",
          "2023-09-20T00:00:00"
         ],
         "y": {
          "bdata": "AAAAAABANEAAAABgjwI0QA==",
          "dtype": "f8"
         }
        },
        {
         "line": {
          "color": "red",
          "width": 2
         },
         "mode": "lines",
         "name": "Current Price",
         "showlegend": false,
         "type": "scatter",
         "x": [
          "2023-09-20T00:00:00",
          "2023-09-21T00:00:00"
         ],
         "y": {
          "bdata": "AAAAYI8CNEAAAADAzMwzQA==",
          "dtype": "f8"
         }
        },
        {
         "line": {
          "color": "red",
          "width": 2
         },
         "mode": "lines",
         "name": "Current Price",
         "showlegend": false,
         "type": "scatter",
         "x": [
          "2023-09-21T00:00:00",
          "2023-09-22T00:00:00"
         ],
         "y": {
          "bdata": "AAAAwMzMM0AAAABguN4zQA==",
          "dtype": "f8"
         }
        },
        {
         "line": {
          "color": "red",
          "width": 2
         },
         "mode": "lines",
         "name": "Current Price",
         "showlegend": false,
         "type": "scatter",
         "x": [
          "2023-09-22T00:00:00",
          "2023-09-25T00:00:00"
         ],
         "y": {
          "bdata": "AAAAYLjeM0AAAADAzMwzQA==",
          "dtype": "f8"
         }
        },
        {
         "line": {
          "color": "red",
          "width": 2
         },
         "mode": "lines",
         "name": "Current Price",
         "showlegend": false,
         "type": "scatter",
         "x": [
          "2023-09-25T00:00:00",
          "2023-09-26T00:00:00"
         ],
         "y": {
          "bdata": "AAAAwMzMM0AAAADgUTgzQA==",
          "dtype": "f8"
         }
        },
        {
         "line": {
          "color": "red",
          "width": 2
         },
         "mode": "lines",
         "name": "Current Price",
         "showlegend": false,
         "type": "scatter",
         "x": [
          "2023-09-26T00:00:00",
          "2023-09-27T00:00:00"
         ],
         "y": {
          "bdata": "AAAA4FE4M0AAAAAA16MyQA==",
          "dtype": "f8"
         }
        },
        {
         "line": {
          "color": "red",
          "width": 2
         },
         "mode": "lines",
         "name": "Current Price",
         "showlegend": false,
         "type": "scatter",
         "x": [
          "2023-09-27T00:00:00",
          "2023-09-28T00:00:00"
         ],
         "y": {
          "bdata": "AAAAANejMkAAAAAgrkczQA==",
          "dtype": "f8"
         }
        },
        {
         "line": {
          "color": "red",
          "width": 2
         },
         "mode": "lines",
         "name": "Current Price",
         "showlegend": false,
         "type": "scatter",
         "x": [
          "2023-09-28T00:00:00",
          "2023-09-29T00:00:00"
         ],
         "y": {
          "bdata": "AAAAIK5HM0AAAACgmRkzQA==",
          "dtype": "f8"
         }
        },
        {
         "line": {
          "color": "red",
          "width": 2
         },
         "mode": "lines",
         "name": "Current Price",
         "showlegend": false,
         "type": "scatter",
         "x": [
          "2023-09-29T00:00:00",
          "2023-10-02T00:00:00"
         ],
         "y": {
          "bdata": "AAAAoJkZM0AAAAAgrocyQA==",
          "dtype": "f8"
         }
        },
        {
         "line": {
          "color": "red",
          "width": 2
         },
         "mode": "lines",
         "name": "Current Price",
         "showlegend": false,
         "type": "scatter",
         "x": [
          "2023-10-02T00:00:00",
          "2023-10-03T00:00:00"
         ],
         "y": {
          "bdata": "AAAAIK6HMkAAAACgmZkxQA==",
          "dtype": "f8"
         }
        },
        {
         "line": {
          "color": "red",
          "width": 2
         },
         "mode": "lines",
         "name": "Current Price",
         "showlegend": false,
         "type": "scatter",
         "x": [
          "2023-10-03T00:00:00",
          "2023-10-04T00:00:00"
         ],
         "y": {
          "bdata": "AAAAoJmZMUAAAAAAKVwxQA==",
          "dtype": "f8"
         }
        },
        {
         "line": {
          "color": "red",
          "width": 2
         },
         "mode": "lines",
         "name": "Current Price",
         "showlegend": false,
         "type": "scatter",
         "x": [
          "2023-10-04T00:00:00",
          "2023-10-05T00:00:00"
         ],
         "y": {
          "bdata": "AAAAAClcMUAAAADgetQwQA==",
          "dtype": "f8"
         }
        },
        {
         "line": {
          "color": "red",
          "width": 2
         },
         "mode": "lines",
         "name": "Current Price",
         "showlegend": false,
         "type": "scatter",
         "x": [
          "2023-10-05T00:00:00",
          "2023-10-06T00:00:00"
         ],
         "y": {
          "bdata": "AAAA4HrUMEAAAAAgrscwQA==",
          "dtype": "f8"
         }
        },
        {
         "line": {
          "color": "red",
          "width": 2
         },
         "mode": "lines",
         "name": "Current Price",
         "showlegend": false,
         "type": "scatter",
         "x": [
          "2023-10-06T00:00:00",
          "2023-10-09T00:00:00"
         ],
         "y": {
          "bdata": "AAAAIK7HMEAAAABACtcwQA==",
          "dtype": "f8"
         }
        },
        {
         "line": {
          "color": "red",
          "width": 2
         },
         "mode": "lines",
         "name": "Current Price",
         "showlegend": false,
         "type": "scatter",
         "x": [
          "2023-10-09T00:00:00",
          "2023-10-10T00:00:00"
         ],
         "y": {
          "bdata": "AAAAQArXMEAAAABA4XoxQA==",
          "dtype": "f8"
         }
        },
        {
         "line": {
          "color": "red",
          "width": 2
         },
         "mode": "lines",
         "name": "Current Price",
         "showlegend": false,
         "type": "scatter",
         "x": [
          "2023-10-10T00:00:00",
          "2023-10-11T00:00:00"
         ],
         "y": {
          "bdata": "AAAAQOF6MUAAAAAA12MxQA==",
          "dtype": "f8"
         }
        },
        {
         "line": {
          "color": "red",
          "width": 2
         },
         "mode": "lines",
         "name": "Current Price",
         "showlegend": false,
         "type": "scatter",
         "x": [
          "2023-10-11T00:00:00",
          "2023-10-12T00:00:00"
         ],
         "y": {
          "bdata": "AAAAANdjMUAAAAAgXM8wQA==",
          "dtype": "f8"
         }
        },
        {
         "line": {
          "color": "red",
          "width": 2
         },
         "mode": "lines",
         "name": "Current Price",
         "showlegend": false,
         "type": "scatter",
         "x": [
          "2023-10-12T00:00:00",
          "2023-10-13T00:00:00"
         ],
         "y": {
          "bdata": "AAAAIFzPMEAAAACAFO4wQA==",
          "dtype": "f8"
         }
        },
        {
         "line": {
          "color": "red",
          "width": 2
         },
         "mode": "lines",
         "name": "Current Price",
         "showlegend": false,
         "type": "scatter",
         "x": [
          "2023-10-13T00:00:00",
          "2023-10-16T00:00:00"
         ],
         "y": {
          "bdata": "AAAAgBTuMEAAAADAzEwyQA==",
          "dtype": "f8"
         }
        },
        {
         "line": {
          "color": "red",
          "width": 2
         },
         "mode": "lines",
         "name": "Current Price",
         "showlegend": false,
         "type": "scatter",
         "x": [
          "2023-10-16T00:00:00",
          "2023-10-17T00:00:00"
         ],
         "y": {
          "bdata": "AAAAwMxMMkAAAACgmdkyQA==",
          "dtype": "f8"
         }
        },
        {
         "line": {
          "color": "red",
          "width": 2
         },
         "mode": "lines",
         "name": "Current Price",
         "showlegend": false,
         "type": "scatter",
         "x": [
          "2023-10-17T00:00:00",
          "2023-10-18T00:00:00"
         ],
         "y": {
          "bdata": "AAAAoJnZMkAAAACgcD0yQA==",
          "dtype": "f8"
         }
        },
        {
         "line": {
          "color": "red",
          "width": 2
         },
         "mode": "lines",
         "name": "Current Price",
         "showlegend": false,
         "type": "scatter",
         "x": [
          "2023-10-18T00:00:00",
          "2023-10-19T00:00:00"
         ],
         "y": {
          "bdata": "AAAAoHA9MkAAAACgR6ExQA==",
          "dtype": "f8"
         }
        },
        {
         "line": {
          "color": "red",
          "width": 2
         },
         "mode": "lines",
         "name": "Current Price",
         "showlegend": false,
         "type": "scatter",
         "x": [
          "2023-10-19T00:00:00",
          "2023-10-20T00:00:00"
         ],
         "y": {
          "bdata": "AAAAoEehMUAAAABA4ToxQA==",
          "dtype": "f8"
         }
        },
        {
         "line": {
          "color": "red",
          "width": 2
         },
         "mode": "lines",
         "name": "Current Price",
         "showlegend": false,
         "type": "scatter",
         "x": [
          "2023-10-20T00:00:00",
          "2023-10-23T00:00:00"
         ],
         "y": {
          "bdata": "AAAAQOE6MUAAAABgZqYwQA==",
          "dtype": "f8"
         }
        },
        {
         "line": {
          "color": "red",
          "width": 2
         },
         "mode": "lines",
         "name": "Current Price",
         "showlegend": false,
         "type": "scatter",
         "x": [
          "2023-10-23T00:00:00",
          "2023-10-24T00:00:00"
         ],
         "y": {
          "bdata": "AAAAYGamMEAAAACgmVkxQA==",
          "dtype": "f8"
         }
        },
        {
         "line": {
          "color": "red",
          "width": 2
         },
         "mode": "lines",
         "name": "Current Price",
         "showlegend": false,
         "type": "scatter",
         "x": [
          "2023-10-24T00:00:00",
          "2023-10-25T00:00:00"
         ],
         "y": {
          "bdata": "AAAAoJlZMUAAAADgUTgxQA==",
          "dtype": "f8"
         }
        },
        {
         "line": {
          "color": "red",
          "width": 2
         },
         "mode": "lines",
         "name": "Current Price",
         "showlegend": false,
         "type": "scatter",
         "x": [
          "2023-10-25T00:00:00",
          "2023-10-26T00:00:00"
         ],
         "y": {
          "bdata": "AAAA4FE4MUAAAABgZuYwQA==",
          "dtype": "f8"
         }
        },
        {
         "line": {
          "color": "red",
          "width": 2
         },
         "mode": "lines",
         "name": "Current Price",
         "showlegend": false,
         "type": "scatter",
         "x": [
          "2023-10-26T00:00:00",
          "2023-10-27T00:00:00"
         ],
         "y": {
          "bdata": "AAAAYGbmMEAAAAAAAIAwQA==",
          "dtype": "f8"
         }
        },
        {
         "line": {
          "color": "red",
          "width": 2
         },
         "mode": "lines",
         "name": "Current Price",
         "showlegend": false,
         "type": "scatter",
         "x": [
          "2023-10-27T00:00:00",
          "2023-10-30T00:00:00"
         ],
         "y": {
          "bdata": "AAAAAACAMEAAAADgepQwQA==",
          "dtype": "f8"
         }
        },
        {
         "line": {
          "color": "red",
          "width": 2
         },
         "mode": "lines",
         "name": "Current Price",
         "showlegend": false,
         "type": "scatter",
         "x": [
          "2023-10-30T00:00:00",
          "2023-10-31T00:00:00"
         ],
         "y": {
          "bdata": "AAAA4HqUMEAAAABgZmYwQA==",
          "dtype": "f8"
         }
        },
        {
         "line": {
          "color": "red",
          "width": 2
         },
         "mode": "lines",
         "name": "Current Price",
         "showlegend": false,
         "type": "scatter",
         "x": [
          "2023-10-31T00:00:00",
          "2023-11-01T00:00:00"
         ],
         "y": {
          "bdata": "AAAAYGZmMEAAAACAPYovQA==",
          "dtype": "f8"
         }
        },
        {
         "line": {
          "color": "red",
          "width": 2
         },
         "mode": "lines",
         "name": "Current Price",
         "showlegend": false,
         "type": "scatter",
         "x": [
          "2023-11-01T00:00:00",
          "2023-11-02T00:00:00"
         ],
         "y": {
          "bdata": "AAAAgD2KL0AAAADgUbgwQA==",
          "dtype": "f8"
         }
        },
        {
         "line": {
          "color": "red",
          "width": 2
         },
         "mode": "lines",
         "name": "Current Price",
         "showlegend": false,
         "type": "scatter",
         "x": [
          "2023-11-02T00:00:00",
          "2023-11-03T00:00:00"
         ],
         "y": {
          "bdata": "AAAA4FG4MEAAAAAghWswQA==",
          "dtype": "f8"
         }
        },
        {
         "line": {
          "color": "red",
          "width": 2
         },
         "mode": "lines",
         "name": "Current Price",
         "showlegend": false,
         "type": "scatter",
         "x": [
          "2023-11-03T00:00:00",
          "2023-11-06T00:00:00"
         ],
         "y": {
          "bdata": "AAAAIIVrMEAAAABAMzMvQA==",
          "dtype": "f8"
         }
        },
        {
         "line": {
          "color": "red",
          "width": 2
         },
         "mode": "lines",
         "name": "Current Price",
         "showlegend": false,
         "type": "scatter",
         "x": [
          "2023-11-06T00:00:00",
          "2023-11-07T00:00:00"
         ],
         "y": {
          "bdata": "AAAAQDMzL0AAAADgelQwQA==",
          "dtype": "f8"
         }
        },
        {
         "line": {
          "color": "red",
          "width": 2
         },
         "mode": "lines",
         "name": "Current Price",
         "showlegend": false,
         "type": "scatter",
         "x": [
          "2023-11-07T00:00:00",
          "2023-11-08T00:00:00"
         ],
         "y": {
          "bdata": "AAAA4HpUMEAAAABAClcvQA==",
          "dtype": "f8"
         }
        },
        {
         "line": {
          "color": "red",
          "width": 2
         },
         "mode": "lines",
         "name": "Current Price",
         "showlegend": false,
         "type": "scatter",
         "x": [
          "2023-11-08T00:00:00",
          "2023-11-09T00:00:00"
         ],
         "y": {
          "bdata": "AAAAQApXL0AAAAAgXI8uQA==",
          "dtype": "f8"
         }
        },
        {
         "line": {
          "color": "red",
          "width": 2
         },
         "mode": "lines",
         "name": "Current Price",
         "showlegend": false,
         "type": "scatter",
         "x": [
          "2023-11-09T00:00:00",
          "2023-11-10T00:00:00"
         ],
         "y": {
          "bdata": "AAAAIFyPLkAAAACgR+EtQA==",
          "dtype": "f8"
         }
        },
        {
         "line": {
          "color": "red",
          "width": 2
         },
         "mode": "lines",
         "name": "Current Price",
         "showlegend": false,
         "type": "scatter",
         "x": [
          "2023-11-10T00:00:00",
          "2023-11-13T00:00:00"
         ],
         "y": {
          "bdata": "AAAAoEfhLUAAAABgZuYtQA==",
          "dtype": "f8"
         }
        },
        {
         "line": {
          "color": "red",
          "width": 2
         },
         "mode": "lines",
         "name": "Current Price",
         "showlegend": false,
         "type": "scatter",
         "x": [
          "2023-11-13T00:00:00",
          "2023-11-14T00:00:00"
         ],
         "y": {
          "bdata": "AAAAYGbmLUAAAABgZiYwQA==",
          "dtype": "f8"
         }
        },
        {
         "line": {
          "color": "red",
          "width": 2
         },
         "mode": "lines",
         "name": "Current Price",
         "showlegend": false,
         "type": "scatter",
         "x": [
          "2023-11-14T00:00:00",
          "2023-11-15T00:00:00"
         ],
         "y": {
          "bdata": "AAAAYGYmMEAAAACAwnUwQA==",
          "dtype": "f8"
         }
        },
        {
         "line": {
          "color": "red",
          "width": 2
         },
         "mode": "lines",
         "name": "Current Price",
         "showlegend": false,
         "type": "scatter",
         "x": [
          "2023-11-15T00:00:00",
          "2023-11-16T00:00:00"
         ],
         "y": {
          "bdata": "AAAAgMJ1MEAAAABAClcvQA==",
          "dtype": "f8"
         }
        },
        {
         "line": {
          "color": "red",
          "width": 2
         },
         "mode": "lines",
         "name": "Current Price",
         "showlegend": false,
         "type": "scatter",
         "x": [
          "2023-11-16T00:00:00",
          "2023-11-17T00:00:00"
         ],
         "y": {
          "bdata": "AAAAQApXL0AAAACAFC4wQA==",
          "dtype": "f8"
         }
        },
        {
         "line": {
          "color": "red",
          "width": 2
         },
         "mode": "lines",
         "name": "Current Price",
         "showlegend": false,
         "type": "scatter",
         "x": [
          "2023-11-17T00:00:00",
          "2023-11-20T00:00:00"
         ],
         "y": {
          "bdata": "AAAAgBQuMEAAAADAHkUwQA==",
          "dtype": "f8"
         }
        },
        {
         "line": {
          "color": "red",
          "width": 2
         },
         "mode": "lines",
         "name": "Current Price",
         "showlegend": false,
         "type": "scatter",
         "x": [
          "2023-11-20T00:00:00",
          "2023-11-21T00:00:00"
         ],
         "y": {
          "bdata": "AAAAwB5FMEAAAAAghWsvQA==",
          "dtype": "f8"
         }
        },
        {
         "line": {
          "color": "red",
          "width": 2
         },
         "mode": "lines",
         "name": "Current Price",
         "showlegend": false,
         "type": "scatter",
         "x": [
          "2023-11-21T00:00:00",
          "2023-11-22T00:00:00"
         ],
         "y": {
          "bdata": "AAAAIIVrL0AAAACAPQowQA==",
          "dtype": "f8"
         }
        },
        {
         "line": {
          "color": "red",
          "width": 2
         },
         "mode": "lines",
         "name": "Current Price",
         "showlegend": false,
         "type": "scatter",
         "x": [
          "2023-11-22T00:00:00",
          "2023-11-24T00:00:00"
         ],
         "y": {
          "bdata": "AAAAgD0KMEAAAAAAKRwwQA==",
          "dtype": "f8"
         }
        },
        {
         "line": {
          "color": "red",
          "width": 2
         },
         "mode": "lines",
         "name": "Current Price",
         "showlegend": false,
         "type": "scatter",
         "x": [
          "2023-11-24T00:00:00",
          "2023-11-27T00:00:00"
         ],
         "y": {
          "bdata": "AAAAACkcMEAAAAAghWsvQA==",
          "dtype": "f8"
         }
        },
        {
         "line": {
          "color": "red",
          "width": 2
         },
         "mode": "lines",
         "name": "Current Price",
         "showlegend": false,
         "type": "scatter",
         "x": [
          "2023-11-27T00:00:00",
          "2023-11-28T00:00:00"
         ],
         "y": {
          "bdata": "AAAAIIVrL0AAAADAHgUwQA==",
          "dtype": "f8"
         }
        },
        {
         "line": {
          "color": "red",
          "width": 2
         },
         "mode": "lines",
         "name": "Current Price",
         "showlegend": false,
         "type": "scatter",
         "x": [
          "2023-11-28T00:00:00",
          "2023-11-29T00:00:00"
         ],
         "y": {
          "bdata": "AAAAwB4FMEAAAADgehQwQA==",
          "dtype": "f8"
         }
        },
        {
         "line": {
          "color": "red",
          "width": 2
         },
         "mode": "lines",
         "name": "Current Price",
         "showlegend": false,
         "type": "scatter",
         "x": [
          "2023-11-29T00:00:00",
          "2023-11-30T00:00:00"
         ],
         "y": {
          "bdata": "AAAA4HoUMEAAAACgcL0vQA==",
          "dtype": "f8"
         }
        },
        {
         "line": {
          "color": "red",
          "width": 2
         },
         "mode": "lines",
         "name": "Current Price",
         "showlegend": false,
         "type": "scatter",
         "x": [
          "2023-11-30T00:00:00",
          "2023-12-01T00:00:00"
         ],
         "y": {
          "bdata": "AAAAoHC9L0AAAABgZuYwQA==",
          "dtype": "f8"
         }
        },
        {
         "line": {
          "color": "red",
          "width": 2
         },
         "mode": "lines",
         "name": "Current Price",
         "showlegend": false,
         "type": "scatter",
         "x": [
          "2023-12-01T00:00:00",
          "2023-12-04T00:00:00"
         ],
         "y": {
          "bdata": "AAAAYGbmMEAAAAAgheswQA==",
          "dtype": "f8"
         }
        },
        {
         "line": {
          "color": "red",
          "width": 2
         },
         "mode": "lines",
         "name": "Current Price",
         "showlegend": false,
         "type": "scatter",
         "x": [
          "2023-12-04T00:00:00",
          "2023-12-05T00:00:00"
         ],
         "y": {
          "bdata": "AAAAIIXrMEAAAACAFK4vQA==",
          "dtype": "f8"
         }
        },
        {
         "line": {
          "color": "red",
          "width": 2
         },
         "mode": "lines",
         "name": "Current Price",
         "showlegend": false,
         "type": "scatter",
         "x": [
          "2023-12-05T00:00:00",
          "2023-12-06T00:00:00"
         ],
         "y": {
          "bdata": "AAAAgBSuL0AAAACgcD0wQA==",
          "dtype": "f8"
         }
        },
        {
         "line": {
          "color": "red",
          "width": 2
         },
         "mode": "lines",
         "name": "Current Price",
         "showlegend": false,
         "type": "scatter",
         "x": [
          "2023-12-06T00:00:00",
          "2023-12-07T00:00:00"
         ],
         "y": {
          "bdata": "AAAAoHA9MEAAAABAClcwQA==",
          "dtype": "f8"
         }
        },
        {
         "line": {
          "color": "red",
          "width": 2
         },
         "mode": "lines",
         "name": "Current Price",
         "showlegend": false,
         "type": "scatter",
         "x": [
          "2023-12-07T00:00:00",
          "2023-12-08T00:00:00"
         ],
         "y": {
          "bdata": "AAAAQApXMEAAAACgcL0wQA==",
          "dtype": "f8"
         }
        },
        {
         "line": {
          "color": "red",
          "width": 2
         },
         "mode": "lines",
         "name": "Current Price",
         "showlegend": false,
         "type": "scatter",
         "x": [
          "2023-12-08T00:00:00",
          "2023-12-11T00:00:00"
         ],
         "y": {
          "bdata": "AAAAoHC9MEAAAACgmVkwQA==",
          "dtype": "f8"
         }
        },
        {
         "line": {
          "color": "red",
          "width": 2
         },
         "mode": "lines",
         "name": "Current Price",
         "showlegend": false,
         "type": "scatter",
         "x": [
          "2023-12-11T00:00:00",
          "2023-12-12T00:00:00"
         ],
         "y": {
          "bdata": "AAAAoJlZMEAAAABAMzMvQA==",
          "dtype": "f8"
         }
        },
        {
         "line": {
          "color": "red",
          "width": 2
         },
         "mode": "lines",
         "name": "Current Price",
         "showlegend": false,
         "type": "scatter",
         "x": [
          "2023-12-12T00:00:00",
          "2023-12-13T00:00:00"
         ],
         "y": {
          "bdata": "AAAAQDMzL0AAAADAzMwwQA==",
          "dtype": "f8"
         }
        },
        {
         "line": {
          "color": "green",
          "width": 2
         },
         "mode": "lines",
         "name": "Current Price",
         "showlegend": false,
         "type": "scatter",
         "x": [
          "2023-12-13T00:00:00",
          "2023-12-14T00:00:00"
         ],
         "y": {
          "bdata": "AAAAwMzMMEAAAAAAAIAyQA==",
          "dtype": "f8"
         }
        },
        {
         "line": {
          "color": "green",
          "width": 2
         },
         "mode": "lines",
         "name": "Current Price",
         "showlegend": false,
         "type": "scatter",
         "x": [
          "2023-12-14T00:00:00",
          "2023-12-15T00:00:00"
         ],
         "y": {
          "bdata": "AAAAAACAMkAAAACgRyEyQA==",
          "dtype": "f8"
         }
        },
        {
         "line": {
          "color": "green",
          "width": 2
         },
         "mode": "lines",
         "name": "Current Price",
         "showlegend": false,
         "type": "scatter",
         "x": [
          "2023-12-15T00:00:00",
          "2023-12-18T00:00:00"
         ],
         "y": {
          "bdata": "AAAAoEchMkAAAACAFO4xQA==",
          "dtype": "f8"
         }
        },
        {
         "line": {
          "color": "green",
          "width": 2
         },
         "mode": "lines",
         "name": "Current Price",
         "showlegend": false,
         "type": "scatter",
         "x": [
          "2023-12-18T00:00:00",
          "2023-12-19T00:00:00"
         ],
         "y": {
          "bdata": "AAAAgBTuMUAAAABguF4yQA==",
          "dtype": "f8"
         }
        },
        {
         "line": {
          "color": "green",
          "width": 2
         },
         "mode": "lines",
         "name": "Current Price",
         "showlegend": false,
         "type": "scatter",
         "x": [
          "2023-12-19T00:00:00",
          "2023-12-20T00:00:00"
         ],
         "y": {
          "bdata": "AAAAYLheMkAAAADA9SgyQA==",
          "dtype": "f8"
         }
        },
        {
         "line": {
          "color": "green",
          "width": 2
         },
         "mode": "lines",
         "name": "Current Price",
         "showlegend": false,
         "type": "scatter",
         "x": [
          "2023-12-20T00:00:00",
          "2023-12-21T00:00:00"
         ],
         "y": {
          "bdata": "AAAAwPUoMkAAAADgo/AzQA==",
          "dtype": "f8"
         }
        },
        {
         "line": {
          "color": "green",
          "width": 2
         },
         "mode": "lines",
         "name": "Current Price",
         "showlegend": false,
         "type": "scatter",
         "x": [
          "2023-12-21T00:00:00",
          "2023-12-22T00:00:00"
         ],
         "y": {
          "bdata": "AAAA4KPwM0AAAABAChc0QA==",
          "dtype": "f8"
         }
        },
        {
         "line": {
          "color": "green",
          "width": 2
         },
         "mode": "lines",
         "name": "Current Price",
         "showlegend": false,
         "type": "scatter",
         "x": [
          "2023-12-22T00:00:00",
          "2023-12-26T00:00:00"
         ],
         "y": {
          "bdata": "AAAAQAoXNEAAAAAA16M0QA==",
          "dtype": "f8"
         }
        },
        {
         "line": {
          "color": "green",
          "width": 2
         },
         "mode": "lines",
         "name": "Current Price",
         "showlegend": false,
         "type": "scatter",
         "x": [
          "2023-12-26T00:00:00",
          "2023-12-27T00:00:00"
         ],
         "y": {
          "bdata": "AAAAANejNEAAAABACpc0QA==",
          "dtype": "f8"
         }
        },
        {
         "line": {
          "color": "green",
          "width": 2
         },
         "mode": "lines",
         "name": "Current Price",
         "showlegend": false,
         "type": "scatter",
         "x": [
          "2023-12-27T00:00:00",
          "2023-12-28T00:00:00"
         ],
         "y": {
          "bdata": "AAAAQAqXNEAAAADgUXg0QA==",
          "dtype": "f8"
         }
        },
        {
         "line": {
          "color": "green",
          "width": 2
         },
         "mode": "lines",
         "name": "Current Price",
         "showlegend": false,
         "type": "scatter",
         "x": [
          "2023-12-28T00:00:00",
          "2023-12-29T00:00:00"
         ],
         "y": {
          "bdata": "AAAA4FF4NEAAAACgmdkzQA==",
          "dtype": "f8"
         }
        },
        {
         "line": {
          "color": "green",
          "width": 2
         },
         "mode": "lines",
         "name": "Current Price",
         "showlegend": false,
         "type": "scatter",
         "x": [
          "2023-12-29T00:00:00",
          "2024-01-02T00:00:00"
         ],
         "y": {
          "bdata": "AAAAoJnZM0AAAADA9agzQA==",
          "dtype": "f8"
         }
        },
        {
         "line": {
          "color": "green",
          "width": 2
         },
         "mode": "lines",
         "name": "Current Price",
         "showlegend": false,
         "type": "scatter",
         "x": [
          "2024-01-02T00:00:00",
          "2024-01-03T00:00:00"
         ],
         "y": {
          "bdata": "AAAAwPWoM0AAAABgj8IyQA==",
          "dtype": "f8"
         }
        },
        {
         "line": {
          "color": "green",
          "width": 2
         },
         "mode": "lines",
         "name": "Current Price",
         "showlegend": false,
         "type": "scatter",
         "x": [
          "2024-01-03T00:00:00",
          "2024-01-04T00:00:00"
         ],
         "y": {
          "bdata": "AAAAYI/CMkAAAADgUbgyQA==",
          "dtype": "f8"
         }
        },
        {
         "line": {
          "color": "green",
          "width": 2
         },
         "mode": "lines",
         "name": "Current Price",
         "showlegend": false,
         "type": "scatter",
         "x": [
          "2024-01-04T00:00:00",
          "2024-01-05T00:00:00"
         ],
         "y": {
          "bdata": "AAAA4FG4MkAAAABAClcyQA==",
          "dtype": "f8"
         }
        },
        {
         "line": {
          "color": "green",
          "width": 2
         },
         "mode": "lines",
         "name": "Current Price",
         "showlegend": false,
         "type": "scatter",
         "x": [
          "2024-01-05T00:00:00",
          "2024-01-08T00:00:00"
         ],
         "y": {
          "bdata": "AAAAQApXMkAAAABACpcyQA==",
          "dtype": "f8"
         }
        },
        {
         "line": {
          "color": "green",
          "width": 2
         },
         "mode": "lines",
         "name": "Current Price",
         "showlegend": false,
         "type": "scatter",
         "x": [
          "2024-01-08T00:00:00",
          "2024-01-09T00:00:00"
         ],
         "y": {
          "bdata": "AAAAQAqXMkAAAAAgrgcyQA==",
          "dtype": "f8"
         }
        },
        {
         "line": {
          "color": "green",
          "width": 2
         },
         "mode": "lines",
         "name": "Current Price",
         "showlegend": false,
         "type": "scatter",
         "x": [
          "2024-01-09T00:00:00",
          "2024-01-10T00:00:00"
         ],
         "y": {
          "bdata": "AAAAIK4HMkAAAAAgXE8xQA==",
          "dtype": "f8"
         }
        },
        {
         "line": {
          "color": "green",
          "width": 2
         },
         "mode": "lines",
         "name": "Current Price",
         "showlegend": false,
         "type": "scatter",
         "x": [
          "2024-01-10T00:00:00",
          "2024-01-11T00:00:00"
         ],
         "y": {
          "bdata": "AAAAIFxPMUAAAACgcH0xQA==",
          "dtype": "f8"
         }
        },
        {
         "line": {
          "color": "green",
          "width": 2
         },
         "mode": "lines",
         "name": "Current Price",
         "showlegend": false,
         "type": "scatter",
         "x": [
          "2024-01-11T00:00:00",
          "2024-01-12T00:00:00"
         ],
         "y": {
          "bdata": "AAAAoHB9MUAAAACAPcoxQA==",
          "dtype": "f8"
         }
        },
        {
         "line": {
          "color": "green",
          "width": 2
         },
         "mode": "lines",
         "name": "Current Price",
         "showlegend": false,
         "type": "scatter",
         "x": [
          "2024-01-12T00:00:00",
          "2024-01-16T00:00:00"
         ],
         "y": {
          "bdata": "AAAAgD3KMUAAAACAwrUwQA==",
          "dtype": "f8"
         }
        },
        {
         "line": {
          "color": "green",
          "width": 2
         },
         "mode": "lines",
         "name": "Current Price",
         "showlegend": false,
         "type": "scatter",
         "x": [
          "2024-01-16T00:00:00",
          "2024-01-17T00:00:00"
         ],
         "y": {
          "bdata": "AAAAgMK1MEAAAACAPQowQA==",
          "dtype": "f8"
         }
        },
        {
         "line": {
          "color": "green",
          "width": 2
         },
         "mode": "lines",
         "name": "Current Price",
         "showlegend": false,
         "type": "scatter",
         "x": [
          "2024-01-17T00:00:00",
          "2024-01-18T00:00:00"
         ],
         "y": {
          "bdata": "AAAAgD0KMEAAAADgUbgvQA==",
          "dtype": "f8"
         }
        },
        {
         "line": {
          "color": "red",
          "width": 2
         },
         "mode": "lines",
         "name": "Current Price",
         "showlegend": false,
         "type": "scatter",
         "x": [
          "2024-01-18T00:00:00",
          "2024-01-19T00:00:00"
         ],
         "y": {
          "bdata": "AAAA4FG4L0AAAACgmZkvQA==",
          "dtype": "f8"
         }
        },
        {
         "line": {
          "color": "red",
          "width": 2
         },
         "mode": "lines",
         "name": "Current Price",
         "showlegend": false,
         "type": "scatter",
         "x": [
          "2024-01-19T00:00:00",
          "2024-01-22T00:00:00"
         ],
         "y": {
          "bdata": "AAAAoJmZL0AAAACAPQowQA==",
          "dtype": "f8"
         }
        },
        {
         "line": {
          "color": "green",
          "width": 2
         },
         "mode": "lines",
         "name": "Current Price",
         "showlegend": false,
         "type": "scatter",
         "x": [
          "2024-01-22T00:00:00",
          "2024-01-23T00:00:00"
         ],
         "y": {
          "bdata": "AAAAgD0KMEAAAADA9SgwQA==",
          "dtype": "f8"
         }
        },
        {
         "line": {
          "color": "red",
          "width": 2
         },
         "mode": "lines",
         "name": "Current Price",
         "showlegend": false,
         "type": "scatter",
         "x": [
          "2024-01-23T00:00:00",
          "2024-01-24T00:00:00"
         ],
         "y": {
          "bdata": "AAAAwPUoMEAAAACAPQowQA==",
          "dtype": "f8"
         }
        },
        {
         "line": {
          "color": "red",
          "width": 2
         },
         "mode": "lines",
         "name": "Current Price",
         "showlegend": false,
         "type": "scatter",
         "x": [
          "2024-01-24T00:00:00",
          "2024-01-25T00:00:00"
         ],
         "y": {
          "bdata": "AAAAgD0KMEAAAACgmZkvQA==",
          "dtype": "f8"
         }
        },
        {
         "line": {
          "color": "red",
          "width": 2
         },
         "mode": "lines",
         "name": "Current Price",
         "showlegend": false,
         "type": "scatter",
         "x": [
          "2024-01-25T00:00:00",
          "2024-01-26T00:00:00"
         ],
         "y": {
          "bdata": "AAAAoJmZL0AAAAAA16MvQA==",
          "dtype": "f8"
         }
        },
        {
         "line": {
          "color": "red",
          "width": 2
         },
         "mode": "lines",
         "name": "Current Price",
         "showlegend": false,
         "type": "scatter",
         "x": [
          "2024-01-26T00:00:00",
          "2024-01-29T00:00:00"
         ],
         "y": {
          "bdata": "AAAAANejL0AAAADAzEwwQA==",
          "dtype": "f8"
         }
        },
        {
         "line": {
          "color": "green",
          "width": 2
         },
         "mode": "lines",
         "name": "Current Price",
         "showlegend": false,
         "type": "scatter",
         "x": [
          "2024-01-29T00:00:00",
          "2024-01-30T00:00:00"
         ],
         "y": {
          "bdata": "AAAAwMxMMEAAAADAzAwwQA==",
          "dtype": "f8"
         }
        },
        {
         "line": {
          "color": "red",
          "width": 2
         },
         "mode": "lines",
         "name": "Current Price",
         "showlegend": false,
         "type": "scatter",
         "x": [
          "2024-01-30T00:00:00",
          "2024-01-31T00:00:00"
         ],
         "y": {
          "bdata": "AAAAwMwMMEAAAABguJ4vQA==",
          "dtype": "f8"
         }
        },
        {
         "line": {
          "color": "red",
          "width": 2
         },
         "mode": "lines",
         "name": "Current Price",
         "showlegend": false,
         "type": "scatter",
         "x": [
          "2024-01-31T00:00:00",
          "2024-02-01T00:00:00"
         ],
         "y": {
          "bdata": "AAAAYLieL0AAAADA9SgwQA==",
          "dtype": "f8"
         }
        },
        {
         "line": {
          "color": "red",
          "width": 2
         },
         "mode": "lines",
         "name": "Current Price",
         "showlegend": false,
         "type": "scatter",
         "x": [
          "2024-02-01T00:00:00",
          "2024-02-02T00:00:00"
         ],
         "y": {
          "bdata": "AAAAwPUoMEAAAADgozAxQA==",
          "dtype": "f8"
         }
        },
        {
         "line": {
          "color": "red",
          "width": 2
         },
         "mode": "lines",
         "name": "Current Price",
         "showlegend": false,
         "type": "scatter",
         "x": [
          "2024-02-02T00:00:00",
          "2024-02-05T00:00:00"
         ],
         "y": {
          "bdata": "AAAA4KMwMUAAAAAAAEAwQA==",
          "dtype": "f8"
         }
        },
        {
         "line": {
          "color": "red",
          "width": 2
         },
         "mode": "lines",
         "name": "Current Price",
         "showlegend": false,
         "type": "scatter",
         "x": [
          "2024-02-05T00:00:00",
          "2024-02-06T00:00:00"
         ],
         "y": {
          "bdata": "AAAAAABAMEAAAABAM7MwQA==",
          "dtype": "f8"
         }
        },
        {
         "line": {
          "color": "red",
          "width": 2
         },
         "mode": "lines",
         "name": "Current Price",
         "showlegend": false,
         "type": "scatter",
         "x": [
          "2024-02-06T00:00:00",
          "2024-02-07T00:00:00"
         ],
         "y": {
          "bdata": "AAAAQDOzMEAAAADAzIwwQA==",
          "dtype": "f8"
         }
        },
        {
         "line": {
          "color": "red",
          "width": 2
         },
         "mode": "lines",
         "name": "Current Price",
         "showlegend": false,
         "type": "scatter",
         "x": [
          "2024-02-07T00:00:00",
          "2024-02-08T00:00:00"
         ],
         "y": {
          "bdata": "AAAAwMyMMEAAAACAFG4wQA==",
          "dtype": "f8"
         }
        },
        {
         "line": {
          "color": "red",
          "width": 2
         },
         "mode": "lines",
         "name": "Current Price",
         "showlegend": false,
         "type": "scatter",
         "x": [
          "2024-02-08T00:00:00",
          "2024-02-09T00:00:00"
         ],
         "y": {
          "bdata": "AAAAgBRuMEAAAACgR6EwQA==",
          "dtype": "f8"
         }
        },
        {
         "line": {
          "color": "red",
          "width": 2
         },
         "mode": "lines",
         "name": "Current Price",
         "showlegend": false,
         "type": "scatter",
         "x": [
          "2024-02-09T00:00:00",
          "2024-02-12T00:00:00"
         ],
         "y": {
          "bdata": "AAAAoEehMEAAAACgmRkxQA==",
          "dtype": "f8"
         }
        },
        {
         "line": {
          "color": "red",
          "width": 2
         },
         "mode": "lines",
         "name": "Current Price",
         "showlegend": false,
         "type": "scatter",
         "x": [
          "2024-02-12T00:00:00",
          "2024-02-13T00:00:00"
         ],
         "y": {
          "bdata": "AAAAoJkZMUAAAABgZuYuQA==",
          "dtype": "f8"
         }
        },
        {
         "line": {
          "color": "red",
          "width": 2
         },
         "mode": "lines",
         "name": "Current Price",
         "showlegend": false,
         "type": "scatter",
         "x": [
          "2024-02-13T00:00:00",
          "2024-02-14T00:00:00"
         ],
         "y": {
          "bdata": "AAAAYGbmLkAAAABgj8IvQA==",
          "dtype": "f8"
         }
        },
        {
         "line": {
          "color": "red",
          "width": 2
         },
         "mode": "lines",
         "name": "Current Price",
         "showlegend": false,
         "type": "scatter",
         "x": [
          "2024-02-14T00:00:00",
          "2024-02-15T00:00:00"
         ],
         "y": {
          "bdata": "AAAAYI/CL0AAAADAHoUwQA==",
          "dtype": "f8"
         }
        },
        {
         "line": {
          "color": "red",
          "width": 2
         },
         "mode": "lines",
         "name": "Current Price",
         "showlegend": false,
         "type": "scatter",
         "x": [
          "2024-02-15T00:00:00",
          "2024-02-16T00:00:00"
         ],
         "y": {
          "bdata": "AAAAwB6FMEAAAADAzIwwQA==",
          "dtype": "f8"
         }
        },
        {
         "line": {
          "color": "red",
          "width": 2
         },
         "mode": "lines",
         "name": "Current Price",
         "showlegend": false,
         "type": "scatter",
         "x": [
          "2024-02-16T00:00:00",
          "2024-02-20T00:00:00"
         ],
         "y": {
          "bdata": "AAAAwMyMMEAAAACAwjUwQA==",
          "dtype": "f8"
         }
        },
        {
         "line": {
          "color": "red",
          "width": 2
         },
         "mode": "lines",
         "name": "Current Price",
         "showlegend": false,
         "type": "scatter",
         "x": [
          "2024-02-20T00:00:00",
          "2024-02-21T00:00:00"
         ],
         "y": {
          "bdata": "AAAAgMI1MEAAAABAChcwQA==",
          "dtype": "f8"
         }
        },
        {
         "line": {
          "color": "red",
          "width": 2
         },
         "mode": "lines",
         "name": "Current Price",
         "showlegend": false,
         "type": "scatter",
         "x": [
          "2024-02-21T00:00:00",
          "2024-02-22T00:00:00"
         ],
         "y": {
          "bdata": "AAAAQAoXMEAAAACA61EvQA==",
          "dtype": "f8"
         }
        },
        {
         "line": {
          "color": "red",
          "width": 2
         },
         "mode": "lines",
         "name": "Current Price",
         "showlegend": false,
         "type": "scatter",
         "x": [
          "2024-02-22T00:00:00",
          "2024-02-23T00:00:00"
         ],
         "y": {
          "bdata": "AAAAgOtRL0AAAAAAAAAuQA==",
          "dtype": "f8"
         }
        },
        {
         "line": {
          "color": "red",
          "width": 2
         },
         "mode": "lines",
         "name": "Current Price",
         "showlegend": false,
         "type": "scatter",
         "x": [
          "2024-02-23T00:00:00",
          "2024-02-26T00:00:00"
         ],
         "y": {
          "bdata": "AAAAAAAALkAAAAAghWstQA==",
          "dtype": "f8"
         }
        },
        {
         "line": {
          "color": "red",
          "width": 2
         },
         "mode": "lines",
         "name": "Current Price",
         "showlegend": false,
         "type": "scatter",
         "x": [
          "2024-02-26T00:00:00",
          "2024-02-27T00:00:00"
         ],
         "y": {
          "bdata": "AAAAIIVrLUAAAACgcD0vQA==",
          "dtype": "f8"
         }
        },
        {
         "line": {
          "color": "red",
          "width": 2
         },
         "mode": "lines",
         "name": "Current Price",
         "showlegend": false,
         "type": "scatter",
         "x": [
          "2024-02-27T00:00:00",
          "2024-02-28T00:00:00"
         ],
         "y": {
          "bdata": "AAAAoHA9L0AAAACAwnUuQA==",
          "dtype": "f8"
         }
        },
        {
         "line": {
          "color": "red",
          "width": 2
         },
         "mode": "lines",
         "name": "Current Price",
         "showlegend": false,
         "type": "scatter",
         "x": [
          "2024-02-28T00:00:00",
          "2024-02-29T00:00:00"
         ],
         "y": {
          "bdata": "AAAAgMJ1LkAAAAAghWsuQA==",
          "dtype": "f8"
         }
        },
        {
         "line": {
          "color": "red",
          "width": 2
         },
         "mode": "lines",
         "name": "Current Price",
         "showlegend": false,
         "type": "scatter",
         "x": [
          "2024-02-29T00:00:00",
          "2024-03-01T00:00:00"
         ],
         "y": {
          "bdata": "AAAAIIVrLkAAAADgo/AuQA==",
          "dtype": "f8"
         }
        },
        {
         "line": {
          "color": "red",
          "width": 2
         },
         "mode": "lines",
         "name": "Current Price",
         "showlegend": false,
         "type": "scatter",
         "x": [
          "2024-03-01T00:00:00",
          "2024-03-04T00:00:00"
         ],
         "y": {
          "bdata": "AAAA4KPwLkAAAAAgXA8vQA==",
          "dtype": "f8"
         }
        },
        {
         "line": {
          "color": "red",
          "width": 2
         },
         "mode": "lines",
         "name": "Current Price",
         "showlegend": false,
         "type": "scatter",
         "x": [
          "2024-03-04T00:00:00",
          "2024-03-05T00:00:00"
         ],
         "y": {
          "bdata": "AAAAIFwPL0AAAACAPYosQA==",
          "dtype": "f8"
         }
        },
        {
         "line": {
          "color": "red",
          "width": 2
         },
         "mode": "lines",
         "name": "Current Price",
         "showlegend": false,
         "type": "scatter",
         "x": [
          "2024-03-05T00:00:00",
          "2024-03-06T00:00:00"
         ],
         "y": {
          "bdata": "AAAAgD2KLEAAAABA4XotQA==",
          "dtype": "f8"
         }
        },
        {
         "line": {
          "color": "red",
          "width": 2
         },
         "mode": "lines",
         "name": "Current Price",
         "showlegend": false,
         "type": "scatter",
         "x": [
          "2024-03-06T00:00:00",
          "2024-03-07T00:00:00"
         ],
         "y": {
          "bdata": "AAAAQOF6LUAAAACAPYouQA==",
          "dtype": "f8"
         }
        },
        {
         "line": {
          "color": "red",
          "width": 2
         },
         "mode": "lines",
         "name": "Current Price",
         "showlegend": false,
         "type": "scatter",
         "x": [
          "2024-03-07T00:00:00",
          "2024-03-08T00:00:00"
         ],
         "y": {
          "bdata": "AAAAgD2KLkAAAABA4XouQA==",
          "dtype": "f8"
         }
        },
        {
         "line": {
          "color": "red",
          "width": 2
         },
         "mode": "lines",
         "name": "Current Price",
         "showlegend": false,
         "type": "scatter",
         "x": [
          "2024-03-08T00:00:00",
          "2024-03-11T00:00:00"
         ],
         "y": {
          "bdata": "AAAAQOF6LkAAAACAFK4uQA==",
          "dtype": "f8"
         }
        },
        {
         "line": {
          "color": "red",
          "width": 2
         },
         "mode": "lines",
         "name": "Current Price",
         "showlegend": false,
         "type": "scatter",
         "x": [
          "2024-03-11T00:00:00",
          "2024-03-12T00:00:00"
         ],
         "y": {
          "bdata": "AAAAgBSuLkAAAABguJ4tQA==",
          "dtype": "f8"
         }
        },
        {
         "line": {
          "color": "red",
          "width": 2
         },
         "mode": "lines",
         "name": "Current Price",
         "showlegend": false,
         "type": "scatter",
         "x": [
          "2024-03-12T00:00:00",
          "2024-03-13T00:00:00"
         ],
         "y": {
          "bdata": "AAAAYLieLUAAAACgmRksQA==",
          "dtype": "f8"
         }
        },
        {
         "line": {
          "color": "red",
          "width": 2
         },
         "mode": "lines",
         "name": "Current Price",
         "showlegend": false,
         "type": "scatter",
         "x": [
          "2024-03-13T00:00:00",
          "2024-03-14T00:00:00"
         ],
         "y": {
          "bdata": "AAAAoJkZLEAAAABguJ4rQA==",
          "dtype": "f8"
         }
        },
        {
         "line": {
          "color": "red",
          "width": 2
         },
         "mode": "lines",
         "name": "Current Price",
         "showlegend": false,
         "type": "scatter",
         "x": [
          "2024-03-14T00:00:00",
          "2024-03-15T00:00:00"
         ],
         "y": {
          "bdata": "AAAAYLieK0AAAADAzMwrQA==",
          "dtype": "f8"
         }
        },
        {
         "line": {
          "color": "red",
          "width": 2
         },
         "mode": "lines",
         "name": "Current Price",
         "showlegend": false,
         "type": "scatter",
         "x": [
          "2024-03-15T00:00:00",
          "2024-03-18T00:00:00"
         ],
         "y": {
          "bdata": "AAAAwMzMK0AAAACgmRkqQA==",
          "dtype": "f8"
         }
        },
        {
         "line": {
          "color": "red",
          "width": 2
         },
         "mode": "lines",
         "name": "Current Price",
         "showlegend": false,
         "type": "scatter",
         "x": [
          "2024-03-18T00:00:00",
          "2024-03-19T00:00:00"
         ],
         "y": {
          "bdata": "AAAAoJkZKkAAAADA9SgqQA==",
          "dtype": "f8"
         }
        },
        {
         "line": {
          "color": "red",
          "width": 2
         },
         "mode": "lines",
         "name": "Current Price",
         "showlegend": false,
         "type": "scatter",
         "x": [
          "2024-03-19T00:00:00",
          "2024-03-20T00:00:00"
         ],
         "y": {
          "bdata": "AAAAwPUoKkAAAAAA16MrQA==",
          "dtype": "f8"
         }
        },
        {
         "line": {
          "color": "red",
          "width": 2
         },
         "mode": "lines",
         "name": "Current Price",
         "showlegend": false,
         "type": "scatter",
         "x": [
          "2024-03-20T00:00:00",
          "2024-03-21T00:00:00"
         ],
         "y": {
          "bdata": "AAAAANejK0AAAADgo3AsQA==",
          "dtype": "f8"
         }
        },
        {
         "line": {
          "color": "red",
          "width": 2
         },
         "mode": "lines",
         "name": "Current Price",
         "showlegend": false,
         "type": "scatter",
         "x": [
          "2024-03-21T00:00:00",
          "2024-03-22T00:00:00"
         ],
         "y": {
          "bdata": "AAAA4KNwLEAAAACA61ErQA==",
          "dtype": "f8"
         }
        },
        {
         "line": {
          "color": "red",
          "width": 2
         },
         "mode": "lines",
         "name": "Current Price",
         "showlegend": false,
         "type": "scatter",
         "x": [
          "2024-03-22T00:00:00",
          "2024-03-25T00:00:00"
         ],
         "y": {
          "bdata": "AAAAgOtRK0AAAAAA16MrQA==",
          "dtype": "f8"
         }
        },
        {
         "line": {
          "color": "red",
          "width": 2
         },
         "mode": "lines",
         "name": "Current Price",
         "showlegend": false,
         "type": "scatter",
         "x": [
          "2024-03-25T00:00:00",
          "2024-03-26T00:00:00"
         ],
         "y": {
          "bdata": "AAAAANejK0AAAACA61ErQA==",
          "dtype": "f8"
         }
        },
        {
         "line": {
          "color": "red",
          "width": 2
         },
         "mode": "lines",
         "name": "Current Price",
         "showlegend": false,
         "type": "scatter",
         "x": [
          "2024-03-26T00:00:00",
          "2024-03-27T00:00:00"
         ],
         "y": {
          "bdata": "AAAAgOtRK0AAAAAgXA8tQA==",
          "dtype": "f8"
         }
        },
        {
         "line": {
          "color": "red",
          "width": 2
         },
         "mode": "lines",
         "name": "Current Price",
         "showlegend": false,
         "type": "scatter",
         "x": [
          "2024-03-27T00:00:00",
          "2024-03-28T00:00:00"
         ],
         "y": {
          "bdata": "AAAAIFwPLUAAAACgmZksQA==",
          "dtype": "f8"
         }
        },
        {
         "line": {
          "color": "red",
          "width": 2
         },
         "mode": "lines",
         "name": "Current Price",
         "showlegend": false,
         "type": "scatter",
         "x": [
          "2024-03-28T00:00:00",
          "2024-04-01T00:00:00"
         ],
         "y": {
          "bdata": "AAAAoJmZLEAAAADA9SguQA==",
          "dtype": "f8"
         }
        },
        {
         "line": {
          "color": "red",
          "width": 2
         },
         "mode": "lines",
         "name": "Current Price",
         "showlegend": false,
         "type": "scatter",
         "x": [
          "2024-04-01T00:00:00",
          "2024-04-02T00:00:00"
         ],
         "y": {
          "bdata": "AAAAwPUoLkAAAABAClctQA==",
          "dtype": "f8"
         }
        },
        {
         "line": {
          "color": "red",
          "width": 2
         },
         "mode": "lines",
         "name": "Current Price",
         "showlegend": false,
         "type": "scatter",
         "x": [
          "2024-04-02T00:00:00",
          "2024-04-03T00:00:00"
         ],
         "y": {
          "bdata": "AAAAQApXLUAAAAAgXA8uQA==",
          "dtype": "f8"
         }
        },
        {
         "line": {
          "color": "red",
          "width": 2
         },
         "mode": "lines",
         "name": "Current Price",
         "showlegend": false,
         "type": "scatter",
         "x": [
          "2024-04-03T00:00:00",
          "2024-04-04T00:00:00"
         ],
         "y": {
          "bdata": "AAAAIFwPLkAAAABA4XotQA==",
          "dtype": "f8"
         }
        },
        {
         "line": {
          "color": "red",
          "width": 2
         },
         "mode": "lines",
         "name": "Current Price",
         "showlegend": false,
         "type": "scatter",
         "x": [
          "2024-04-04T00:00:00",
          "2024-04-05T00:00:00"
         ],
         "y": {
          "bdata": "AAAAQOF6LUAAAADgUTgtQA==",
          "dtype": "f8"
         }
        },
        {
         "line": {
          "color": "red",
          "width": 2
         },
         "mode": "lines",
         "name": "Current Price",
         "showlegend": false,
         "type": "scatter",
         "x": [
          "2024-04-05T00:00:00",
          "2024-04-08T00:00:00"
         ],
         "y": {
          "bdata": "AAAA4FE4LUAAAADAHgUwQA==",
          "dtype": "f8"
         }
        },
        {
         "line": {
          "color": "green",
          "width": 2
         },
         "mode": "lines",
         "name": "Current Price",
         "showlegend": false,
         "type": "scatter",
         "x": [
          "2024-04-08T00:00:00",
          "2024-04-09T00:00:00"
         ],
         "y": {
          "bdata": "AAAAwB4FMEAAAADgo3AxQA==",
          "dtype": "f8"
         }
        },
        {
         "line": {
          "color": "green",
          "width": 2
         },
         "mode": "lines",
         "name": "Current Price",
         "showlegend": false,
         "type": "scatter",
         "x": [
          "2024-04-09T00:00:00",
          "2024-04-10T00:00:00"
         ],
         "y": {
          "bdata": "AAAA4KNwMUAAAADA9WgxQA==",
          "dtype": "f8"
         }
        },
        {
         "line": {
          "color": "green",
          "width": 2
         },
         "mode": "lines",
         "name": "Current Price",
         "showlegend": false,
         "type": "scatter",
         "x": [
          "2024-04-10T00:00:00",
          "2024-04-11T00:00:00"
         ],
         "y": {
          "bdata": "AAAAwPVoMUAAAADAzEwxQA==",
          "dtype": "f8"
         }
        },
        {
         "line": {
          "color": "green",
          "width": 2
         },
         "mode": "lines",
         "name": "Current Price",
         "showlegend": false,
         "type": "scatter",
         "x": [
          "2024-04-11T00:00:00",
          "2024-04-12T00:00:00"
         ],
         "y": {
          "bdata": "AAAAwMxMMUAAAABACtcwQA==",
          "dtype": "f8"
         }
        },
        {
         "line": {
          "color": "green",
          "width": 2
         },
         "mode": "lines",
         "name": "Current Price",
         "showlegend": false,
         "type": "scatter",
         "x": [
          "2024-04-12T00:00:00",
          "2024-04-15T00:00:00"
         ],
         "y": {
          "bdata": "AAAAQArXMEAAAAAAAIAwQA==",
          "dtype": "f8"
         }
        },
        {
         "line": {
          "color": "green",
          "width": 2
         },
         "mode": "lines",
         "name": "Current Price",
         "showlegend": false,
         "type": "scatter",
         "x": [
          "2024-04-15T00:00:00",
          "2024-04-16T00:00:00"
         ],
         "y": {
          "bdata": "AAAAAACAMEAAAACgmVkwQA==",
          "dtype": "f8"
         }
        },
        {
         "line": {
          "color": "green",
          "width": 2
         },
         "mode": "lines",
         "name": "Current Price",
         "showlegend": false,
         "type": "scatter",
         "x": [
          "2024-04-16T00:00:00",
          "2024-04-17T00:00:00"
         ],
         "y": {
          "bdata": "AAAAoJlZMEAAAAAgrscwQA==",
          "dtype": "f8"
         }
        },
        {
         "line": {
          "color": "green",
          "width": 2
         },
         "mode": "lines",
         "name": "Current Price",
         "showlegend": false,
         "type": "scatter",
         "x": [
          "2024-04-17T00:00:00",
          "2024-04-18T00:00:00"
         ],
         "y": {
          "bdata": "AAAAIK7HMEAAAACAwnUwQA==",
          "dtype": "f8"
         }
        },
        {
         "line": {
          "color": "green",
          "width": 2
         },
         "mode": "lines",
         "name": "Current Price",
         "showlegend": false,
         "type": "scatter",
         "x": [
          "2024-04-18T00:00:00",
          "2024-04-19T00:00:00"
         ],
         "y": {
          "bdata": "AAAAgMJ1MEAAAABAM3MwQA==",
          "dtype": "f8"
         }
        },
        {
         "line": {
          "color": "green",
          "width": 2
         },
         "mode": "lines",
         "name": "Current Price",
         "showlegend": false,
         "type": "scatter",
         "x": [
          "2024-04-19T00:00:00",
          "2024-04-22T00:00:00"
         ],
         "y": {
          "bdata": "AAAAQDNzMEAAAABACtcvQA==",
          "dtype": "f8"
         }
        },
        {
         "line": {
          "color": "green",
          "width": 2
         },
         "mode": "lines",
         "name": "Current Price",
         "showlegend": false,
         "type": "scatter",
         "x": [
          "2024-04-22T00:00:00",
          "2024-04-23T00:00:00"
         ],
         "y": {
          "bdata": "AAAAQArXL0AAAADgUbgvQA==",
          "dtype": "f8"
         }
        },
        {
         "line": {
          "color": "green",
          "width": 2
         },
         "mode": "lines",
         "name": "Current Price",
         "showlegend": false,
         "type": "scatter",
         "x": [
          "2024-04-23T00:00:00",
          "2024-04-24T00:00:00"
         ],
         "y": {
          "bdata": "AAAA4FG4L0AAAABA4XovQA==",
          "dtype": "f8"
         }
        },
        {
         "line": {
          "color": "green",
          "width": 2
         },
         "mode": "lines",
         "name": "Current Price",
         "showlegend": false,
         "type": "scatter",
         "x": [
          "2024-04-24T00:00:00",
          "2024-04-25T00:00:00"
         ],
         "y": {
          "bdata": "AAAAQOF6L0AAAAAgrgcwQA==",
          "dtype": "f8"
         }
        },
        {
         "line": {
          "color": "green",
          "width": 2
         },
         "mode": "lines",
         "name": "Current Price",
         "showlegend": false,
         "type": "scatter",
         "x": [
          "2024-04-25T00:00:00",
          "2024-04-26T00:00:00"
         ],
         "y": {
          "bdata": "AAAAIK4HMEAAAAAAAAAwQA==",
          "dtype": "f8"
         }
        },
        {
         "line": {
          "color": "green",
          "width": 2
         },
         "mode": "lines",
         "name": "Current Price",
         "showlegend": false,
         "type": "scatter",
         "x": [
          "2024-04-26T00:00:00",
          "2024-04-29T00:00:00"
         ],
         "y": {
          "bdata": "AAAAAAAAMEAAAAAghWswQA==",
          "dtype": "f8"
         }
        },
        {
         "line": {
          "color": "green",
          "width": 2
         },
         "mode": "lines",
         "name": "Current Price",
         "showlegend": false,
         "type": "scatter",
         "x": [
          "2024-04-29T00:00:00",
          "2024-04-30T00:00:00"
         ],
         "y": {
          "bdata": "AAAAIIVrMEAAAAAAAAAwQA==",
          "dtype": "f8"
         }
        },
        {
         "line": {
          "color": "green",
          "width": 2
         },
         "mode": "lines",
         "name": "Current Price",
         "showlegend": false,
         "type": "scatter",
         "x": [
          "2024-04-30T00:00:00",
          "2024-05-01T00:00:00"
         ],
         "y": {
          "bdata": "AAAAAAAAMEAAAACA69EvQA==",
          "dtype": "f8"
         }
        },
        {
         "line": {
          "color": "green",
          "width": 2
         },
         "mode": "lines",
         "name": "Current Price",
         "showlegend": false,
         "type": "scatter",
         "x": [
          "2024-05-01T00:00:00",
          "2024-05-02T00:00:00"
         ],
         "y": {
          "bdata": "AAAAgOvRL0AAAAAghesvQA==",
          "dtype": "f8"
         }
        },
        {
         "line": {
          "color": "green",
          "width": 2
         },
         "mode": "lines",
         "name": "Current Price",
         "showlegend": false,
         "type": "scatter",
         "x": [
          "2024-05-02T00:00:00",
          "2024-05-03T00:00:00"
         ],
         "y": {
          "bdata": "AAAAIIXrL0AAAACA69EuQA==",
          "dtype": "f8"
         }
        },
        {
         "line": {
          "color": "green",
          "width": 2
         },
         "mode": "lines",
         "name": "Current Price",
         "showlegend": false,
         "type": "scatter",
         "x": [
          "2024-05-03T00:00:00",
          "2024-05-06T00:00:00"
         ],
         "y": {
          "bdata": "AAAAgOvRLkAAAACgmRkwQA==",
          "dtype": "f8"
         }
        },
        {
         "line": {
          "color": "green",
          "width": 2
         },
         "mode": "lines",
         "name": "Current Price",
         "showlegend": false,
         "type": "scatter",
         "x": [
          "2024-05-06T00:00:00",
          "2024-05-07T00:00:00"
         ],
         "y": {
          "bdata": "AAAAoJkZMEAAAABAMzMwQA==",
          "dtype": "f8"
         }
        },
        {
         "line": {
          "color": "green",
          "width": 2
         },
         "mode": "lines",
         "name": "Current Price",
         "showlegend": false,
         "type": "scatter",
         "x": [
          "2024-05-07T00:00:00",
          "2024-05-08T00:00:00"
         ],
         "y": {
          "bdata": "AAAAQDMzMEAAAAAgrkcvQA==",
          "dtype": "f8"
         }
        },
        {
         "line": {
          "color": "green",
          "width": 2
         },
         "mode": "lines",
         "name": "Current Price",
         "showlegend": false,
         "type": "scatter",
         "x": [
          "2024-05-08T00:00:00",
          "2024-05-09T00:00:00"
         ],
         "y": {
          "bdata": "AAAAIK5HL0AAAACA61EwQA==",
          "dtype": "f8"
         }
        },
        {
         "line": {
          "color": "green",
          "width": 2
         },
         "mode": "lines",
         "name": "Current Price",
         "showlegend": false,
         "type": "scatter",
         "x": [
          "2024-05-09T00:00:00",
          "2024-05-10T00:00:00"
         ],
         "y": {
          "bdata": "AAAAgOtRMEAAAACgRyEwQA==",
          "dtype": "f8"
         }
        },
        {
         "line": {
          "color": "green",
          "width": 2
         },
         "mode": "lines",
         "name": "Current Price",
         "showlegend": false,
         "type": "scatter",
         "x": [
          "2024-05-10T00:00:00",
          "2024-05-13T00:00:00"
         ],
         "y": {
          "bdata": "AAAAoEchMEAAAACgmVkwQA==",
          "dtype": "f8"
         }
        },
        {
         "line": {
          "color": "green",
          "width": 2
         },
         "mode": "lines",
         "name": "Current Price",
         "showlegend": false,
         "type": "scatter",
         "x": [
          "2024-05-13T00:00:00",
          "2024-05-14T00:00:00"
         ],
         "y": {
          "bdata": "AAAAoJlZMEAAAAAghWsyQA==",
          "dtype": "f8"
         }
        },
        {
         "line": {
          "color": "green",
          "width": 2
         },
         "mode": "lines",
         "name": "Current Price",
         "showlegend": false,
         "type": "scatter",
         "x": [
          "2024-05-14T00:00:00",
          "2024-05-15T00:00:00"
         ],
         "y": {
          "bdata": "AAAAIIVrMkAAAACAFO4xQA==",
          "dtype": "f8"
         }
        },
        {
         "line": {
          "color": "green",
          "width": 2
         },
         "mode": "lines",
         "name": "Current Price",
         "showlegend": false,
         "type": "scatter",
         "x": [
          "2024-05-15T00:00:00",
          "2024-05-16T00:00:00"
         ],
         "y": {
          "bdata": "AAAAgBTuMUAAAADgehQyQA==",
          "dtype": "f8"
         }
        },
        {
         "line": {
          "color": "green",
          "width": 2
         },
         "mode": "lines",
         "name": "Current Price",
         "showlegend": false,
         "type": "scatter",
         "x": [
          "2024-05-16T00:00:00",
          "2024-05-17T00:00:00"
         ],
         "y": {
          "bdata": "AAAA4HoUMkAAAAAAAEAyQA==",
          "dtype": "f8"
         }
        },
        {
         "line": {
          "color": "green",
          "width": 2
         },
         "mode": "lines",
         "name": "Current Price",
         "showlegend": false,
         "type": "scatter",
         "x": [
          "2024-05-17T00:00:00",
          "2024-05-20T00:00:00"
         ],
         "y": {
          "bdata": "AAAAAABAMkAAAADAHgUyQA==",
          "dtype": "f8"
         }
        },
        {
         "line": {
          "color": "green",
          "width": 2
         },
         "mode": "lines",
         "name": "Current Price",
         "showlegend": false,
         "type": "scatter",
         "x": [
          "2024-05-20T00:00:00",
          "2024-05-21T00:00:00"
         ],
         "y": {
          "bdata": "AAAAwB4FMkAAAAAghasxQA==",
          "dtype": "f8"
         }
        },
        {
         "line": {
          "color": "green",
          "width": 2
         },
         "mode": "lines",
         "name": "Current Price",
         "showlegend": false,
         "type": "scatter",
         "x": [
          "2024-05-21T00:00:00",
          "2024-05-22T00:00:00"
         ],
         "y": {
          "bdata": "AAAAIIWrMUAAAACAPYoxQA==",
          "dtype": "f8"
         }
        },
        {
         "line": {
          "color": "green",
          "width": 2
         },
         "mode": "lines",
         "name": "Current Price",
         "showlegend": false,
         "type": "scatter",
         "x": [
          "2024-05-22T00:00:00",
          "2024-05-23T00:00:00"
         ],
         "y": {
          "bdata": "AAAAgD2KMUAAAACgR+EwQA==",
          "dtype": "f8"
         }
        },
        {
         "line": {
          "color": "red",
          "width": 2
         },
         "mode": "lines",
         "name": "Current Price",
         "showlegend": false,
         "type": "scatter",
         "x": [
          "2024-05-23T00:00:00",
          "2024-05-24T00:00:00"
         ],
         "y": {
          "bdata": "AAAAoEfhMEAAAAAA1yMxQA==",
          "dtype": "f8"
         }
        },
        {
         "line": {
          "color": "red",
          "width": 2
         },
         "mode": "lines",
         "name": "Current Price",
         "showlegend": false,
         "type": "scatter",
         "x": [
          "2024-05-24T00:00:00",
          "2024-05-28T00:00:00"
         ],
         "y": {
          "bdata": "AAAAANcjMUAAAABAM7MwQA==",
          "dtype": "f8"
         }
        },
        {
         "line": {
          "color": "red",
          "width": 2
         },
         "mode": "lines",
         "name": "Current Price",
         "showlegend": false,
         "type": "scatter",
         "x": [
          "2024-05-28T00:00:00",
          "2024-05-29T00:00:00"
         ],
         "y": {
          "bdata": "AAAAQDOzMEAAAACAPYovQA==",
          "dtype": "f8"
         }
        },
        {
         "line": {
          "color": "red",
          "width": 2
         },
         "mode": "lines",
         "name": "Current Price",
         "showlegend": false,
         "type": "scatter",
         "x": [
          "2024-05-29T00:00:00",
          "2024-05-30T00:00:00"
         ],
         "y": {
          "bdata": "AAAAgD2KL0AAAADgo/AvQA==",
          "dtype": "f8"
         }
        },
        {
         "line": {
          "color": "red",
          "width": 2
         },
         "mode": "lines",
         "name": "Current Price",
         "showlegend": false,
         "type": "scatter",
         "x": [
          "2024-05-30T00:00:00",
          "2024-05-31T00:00:00"
         ],
         "y": {
          "bdata": "AAAA4KPwL0AAAADgUTgwQA==",
          "dtype": "f8"
         }
        },
        {
         "line": {
          "color": "red",
          "width": 2
         },
         "mode": "lines",
         "name": "Current Price",
         "showlegend": false,
         "type": "scatter",
         "x": [
          "2024-05-31T00:00:00",
          "2024-06-03T00:00:00"
         ],
         "y": {
          "bdata": "AAAA4FE4MEAAAACgRyEwQA==",
          "dtype": "f8"
         }
        },
        {
         "line": {
          "color": "red",
          "width": 2
         },
         "mode": "lines",
         "name": "Current Price",
         "showlegend": false,
         "type": "scatter",
         "x": [
          "2024-06-03T00:00:00",
          "2024-06-04T00:00:00"
         ],
         "y": {
          "bdata": "AAAAoEchMEAAAACA69EuQA==",
          "dtype": "f8"
         }
        },
        {
         "line": {
          "color": "red",
          "width": 2
         },
         "mode": "lines",
         "name": "Current Price",
         "showlegend": false,
         "type": "scatter",
         "x": [
          "2024-06-04T00:00:00",
          "2024-06-05T00:00:00"
         ],
         "y": {
          "bdata": "AAAAgOvRLkAAAAAAKdwuQA==",
          "dtype": "f8"
         }
        },
        {
         "line": {
          "color": "red",
          "width": 2
         },
         "mode": "lines",
         "name": "Current Price",
         "showlegend": false,
         "type": "scatter",
         "x": [
          "2024-06-05T00:00:00",
          "2024-06-06T00:00:00"
         ],
         "y": {
          "bdata": "AAAAACncLkAAAAAAAIAuQA==",
          "dtype": "f8"
         }
        },
        {
         "line": {
          "color": "red",
          "width": 2
         },
         "mode": "lines",
         "name": "Current Price",
         "showlegend": false,
         "type": "scatter",
         "x": [
          "2024-06-06T00:00:00",
          "2024-06-07T00:00:00"
         ],
         "y": {
          "bdata": "AAAAAACALkAAAACAFK4tQA==",
          "dtype": "f8"
         }
        },
        {
         "line": {
          "color": "red",
          "width": 2
         },
         "mode": "lines",
         "name": "Current Price",
         "showlegend": false,
         "type": "scatter",
         "x": [
          "2024-06-07T00:00:00",
          "2024-06-10T00:00:00"
         ],
         "y": {
          "bdata": "AAAAgBSuLUAAAABA4fotQA==",
          "dtype": "f8"
         }
        },
        {
         "line": {
          "color": "red",
          "width": 2
         },
         "mode": "lines",
         "name": "Current Price",
         "showlegend": false,
         "type": "scatter",
         "x": [
          "2024-06-10T00:00:00",
          "2024-06-11T00:00:00"
         ],
         "y": {
          "bdata": "AAAAQOH6LUAAAABA4fosQA==",
          "dtype": "f8"
         }
        },
        {
         "line": {
          "color": "red",
          "width": 2
         },
         "mode": "lines",
         "name": "Current Price",
         "showlegend": false,
         "type": "scatter",
         "x": [
          "2024-06-11T00:00:00",
          "2024-06-12T00:00:00"
         ],
         "y": {
          "bdata": "AAAAQOH6LEAAAAAgrkctQA==",
          "dtype": "f8"
         }
        },
        {
         "line": {
          "color": "red",
          "width": 2
         },
         "mode": "lines",
         "name": "Current Price",
         "showlegend": false,
         "type": "scatter",
         "x": [
          "2024-06-12T00:00:00",
          "2024-06-13T00:00:00"
         ],
         "y": {
          "bdata": "AAAAIK5HLUAAAAAA1yMsQA==",
          "dtype": "f8"
         }
        },
        {
         "line": {
          "color": "red",
          "width": 2
         },
         "mode": "lines",
         "name": "Current Price",
         "showlegend": false,
         "type": "scatter",
         "x": [
          "2024-06-13T00:00:00",
          "2024-06-14T00:00:00"
         ],
         "y": {
          "bdata": "AAAAANcjLEAAAAAgrkcrQA==",
          "dtype": "f8"
         }
        },
        {
         "line": {
          "color": "red",
          "width": 2
         },
         "mode": "lines",
         "name": "Current Price",
         "showlegend": false,
         "type": "scatter",
         "x": [
          "2024-06-14T00:00:00",
          "2024-06-17T00:00:00"
         ],
         "y": {
          "bdata": "AAAAIK5HK0AAAADA9agqQA==",
          "dtype": "f8"
         }
        },
        {
         "line": {
          "color": "red",
          "width": 2
         },
         "mode": "lines",
         "name": "Current Price",
         "showlegend": false,
         "type": "scatter",
         "x": [
          "2024-06-17T00:00:00",
          "2024-06-18T00:00:00"
         ],
         "y": {
          "bdata": "AAAAwPWoKkAAAADAzMwqQA==",
          "dtype": "f8"
         }
        },
        {
         "line": {
          "color": "red",
          "width": 2
         },
         "mode": "lines",
         "name": "Current Price",
         "showlegend": false,
         "type": "scatter",
         "x": [
          "2024-06-18T00:00:00",
          "2024-06-20T00:00:00"
         ],
         "y": {
          "bdata": "AAAAwMzMKkAAAABAClcrQA==",
          "dtype": "f8"
         }
        },
        {
         "line": {
          "color": "red",
          "width": 2
         },
         "mode": "lines",
         "name": "Current Price",
         "showlegend": false,
         "type": "scatter",
         "x": [
          "2024-06-20T00:00:00",
          "2024-06-21T00:00:00"
         ],
         "y": {
          "bdata": "AAAAQApXK0AAAAAAKVwrQA==",
          "dtype": "f8"
         }
        },
        {
         "line": {
          "color": "red",
          "width": 2
         },
         "mode": "lines",
         "name": "Current Price",
         "showlegend": false,
         "type": "scatter",
         "x": [
          "2024-06-21T00:00:00",
          "2024-06-24T00:00:00"
         ],
         "y": {
          "bdata": "AAAAAClcK0AAAAAgrscqQA==",
          "dtype": "f8"
         }
        },
        {
         "line": {
          "color": "red",
          "width": 2
         },
         "mode": "lines",
         "name": "Current Price",
         "showlegend": false,
         "type": "scatter",
         "x": [
          "2024-06-24T00:00:00",
          "2024-06-25T00:00:00"
         ],
         "y": {
          "bdata": "AAAAIK7HKkAAAAAgXI8oQA==",
          "dtype": "f8"
         }
        },
        {
         "line": {
          "color": "red",
          "width": 2
         },
         "mode": "lines",
         "name": "Current Price",
         "showlegend": false,
         "type": "scatter",
         "x": [
          "2024-06-25T00:00:00",
          "2024-06-26T00:00:00"
         ],
         "y": {
          "bdata": "AAAAIFyPKEAAAACAFC4pQA==",
          "dtype": "f8"
         }
        },
        {
         "line": {
          "color": "red",
          "width": 2
         },
         "mode": "lines",
         "name": "Current Price",
         "showlegend": false,
         "type": "scatter",
         "x": [
          "2024-06-26T00:00:00",
          "2024-06-27T00:00:00"
         ],
         "y": {
          "bdata": "AAAAgBQuKUAAAABAM7MpQA==",
          "dtype": "f8"
         }
        },
        {
         "line": {
          "color": "red",
          "width": 2
         },
         "mode": "lines",
         "name": "Current Price",
         "showlegend": false,
         "type": "scatter",
         "x": [
          "2024-06-27T00:00:00",
          "2024-06-28T00:00:00"
         ],
         "y": {
          "bdata": "AAAAQDOzKUAAAACAwnUpQA==",
          "dtype": "f8"
         }
        },
        {
         "line": {
          "color": "red",
          "width": 2
         },
         "mode": "lines",
         "name": "Current Price",
         "showlegend": false,
         "type": "scatter",
         "x": [
          "2024-06-28T00:00:00",
          "2024-07-01T00:00:00"
         ],
         "y": {
          "bdata": "AAAAgMJ1KUAAAACgmZkpQA==",
          "dtype": "f8"
         }
        },
        {
         "line": {
          "color": "red",
          "width": 2
         },
         "mode": "lines",
         "name": "Current Price",
         "showlegend": false,
         "type": "scatter",
         "x": [
          "2024-07-01T00:00:00",
          "2024-07-02T00:00:00"
         ],
         "y": {
          "bdata": "AAAAoJmZKUAAAABA4XorQA==",
          "dtype": "f8"
         }
        },
        {
         "line": {
          "color": "red",
          "width": 2
         },
         "mode": "lines",
         "name": "Current Price",
         "showlegend": false,
         "type": "scatter",
         "x": [
          "2024-07-02T00:00:00",
          "2024-07-03T00:00:00"
         ],
         "y": {
          "bdata": "AAAAQOF6K0AAAACA61EsQA==",
          "dtype": "f8"
         }
        },
        {
         "line": {
          "color": "red",
          "width": 2
         },
         "mode": "lines",
         "name": "Current Price",
         "showlegend": false,
         "type": "scatter",
         "x": [
          "2024-07-03T00:00:00",
          "2024-07-05T00:00:00"
         ],
         "y": {
          "bdata": "AAAAgOtRLEAAAAAA1yMsQA==",
          "dtype": "f8"
         }
        },
        {
         "line": {
          "color": "red",
          "width": 2
         },
         "mode": "lines",
         "name": "Current Price",
         "showlegend": false,
         "type": "scatter",
         "x": [
          "2024-07-05T00:00:00",
          "2024-07-08T00:00:00"
         ],
         "y": {
          "bdata": "AAAAANcjLEAAAADgo3AsQA==",
          "dtype": "f8"
         }
        },
        {
         "line": {
          "color": "red",
          "width": 2
         },
         "mode": "lines",
         "name": "Current Price",
         "showlegend": false,
         "type": "scatter",
         "x": [
          "2024-07-08T00:00:00",
          "2024-07-09T00:00:00"
         ],
         "y": {
          "bdata": "AAAA4KNwLEAAAABA4XosQA==",
          "dtype": "f8"
         }
        },
        {
         "line": {
          "color": "red",
          "width": 2
         },
         "mode": "lines",
         "name": "Current Price",
         "showlegend": false,
         "type": "scatter",
         "x": [
          "2024-07-09T00:00:00",
          "2024-07-10T00:00:00"
         ],
         "y": {
          "bdata": "AAAAQOF6LEAAAADA9agsQA==",
          "dtype": "f8"
         }
        },
        {
         "line": {
          "color": "red",
          "width": 2
         },
         "mode": "lines",
         "name": "Current Price",
         "showlegend": false,
         "type": "scatter",
         "x": [
          "2024-07-10T00:00:00",
          "2024-07-11T00:00:00"
         ],
         "y": {
          "bdata": "AAAAwPWoLEAAAABgj8ItQA==",
          "dtype": "f8"
         }
        },
        {
         "line": {
          "color": "red",
          "width": 2
         },
         "mode": "lines",
         "name": "Current Price",
         "showlegend": false,
         "type": "scatter",
         "x": [
          "2024-07-11T00:00:00",
          "2024-07-12T00:00:00"
         ],
         "y": {
          "bdata": "AAAAYI/CLUAAAACgcD0vQA==",
          "dtype": "f8"
         }
        },
        {
         "line": {
          "color": "red",
          "width": 2
         },
         "mode": "lines",
         "name": "Current Price",
         "showlegend": false,
         "type": "scatter",
         "x": [
          "2024-07-12T00:00:00",
          "2024-07-15T00:00:00"
         ],
         "y": {
          "bdata": "AAAAoHA9L0AAAACgmZkuQA==",
          "dtype": "f8"
         }
        },
        {
         "line": {
          "color": "red",
          "width": 2
         },
         "mode": "lines",
         "name": "Current Price",
         "showlegend": false,
         "type": "scatter",
         "x": [
          "2024-07-15T00:00:00",
          "2024-07-16T00:00:00"
         ],
         "y": {
          "bdata": "AAAAoJmZLkAAAAAgXI8uQA==",
          "dtype": "f8"
         }
        },
        {
         "line": {
          "color": "red",
          "width": 2
         },
         "mode": "lines",
         "name": "Current Price",
         "showlegend": false,
         "type": "scatter",
         "x": [
          "2024-07-16T00:00:00",
          "2024-07-17T00:00:00"
         ],
         "y": {
          "bdata": "AAAAIFyPLkAAAADgUTguQA==",
          "dtype": "f8"
         }
        },
        {
         "line": {
          "color": "red",
          "width": 2
         },
         "mode": "lines",
         "name": "Current Price",
         "showlegend": false,
         "type": "scatter",
         "x": [
          "2024-07-17T00:00:00",
          "2024-07-18T00:00:00"
         ],
         "y": {
          "bdata": "AAAA4FE4LkAAAADgo/AsQA==",
          "dtype": "f8"
         }
        },
        {
         "line": {
          "color": "red",
          "width": 2
         },
         "mode": "lines",
         "name": "Current Price",
         "showlegend": false,
         "type": "scatter",
         "x": [
          "2024-07-18T00:00:00",
          "2024-07-19T00:00:00"
         ],
         "y": {
          "bdata": "AAAA4KPwLEAAAADgepQsQA==",
          "dtype": "f8"
         }
        },
        {
         "line": {
          "color": "red",
          "width": 2
         },
         "mode": "lines",
         "name": "Current Price",
         "showlegend": false,
         "type": "scatter",
         "x": [
          "2024-07-19T00:00:00",
          "2024-07-22T00:00:00"
         ],
         "y": {
          "bdata": "AAAA4HqULEAAAABA4XosQA==",
          "dtype": "f8"
         }
        },
        {
         "line": {
          "color": "red",
          "width": 2
         },
         "mode": "lines",
         "name": "Current Price",
         "showlegend": false,
         "type": "scatter",
         "x": [
          "2024-07-22T00:00:00",
          "2024-07-23T00:00:00"
         ],
         "y": {
          "bdata": "AAAAQOF6LEAAAABAMzMsQA==",
          "dtype": "f8"
         }
        },
        {
         "line": {
          "color": "red",
          "width": 2
         },
         "mode": "lines",
         "name": "Current Price",
         "showlegend": false,
         "type": "scatter",
         "x": [
          "2024-07-23T00:00:00",
          "2024-07-24T00:00:00"
         ],
         "y": {
          "bdata": "AAAAQDMzLEAAAACAwnUrQA==",
          "dtype": "f8"
         }
        },
        {
         "line": {
          "color": "red",
          "width": 2
         },
         "mode": "lines",
         "name": "Current Price",
         "showlegend": false,
         "type": "scatter",
         "x": [
          "2024-07-24T00:00:00",
          "2024-07-25T00:00:00"
         ],
         "y": {
          "bdata": "AAAAgMJ1K0AAAACgmZkrQA==",
          "dtype": "f8"
         }
        },
        {
         "line": {
          "color": "red",
          "width": 2
         },
         "mode": "lines",
         "name": "Current Price",
         "showlegend": false,
         "type": "scatter",
         "x": [
          "2024-07-25T00:00:00",
          "2024-07-26T00:00:00"
         ],
         "y": {
          "bdata": "AAAAoJmZK0AAAADAzMwrQA==",
          "dtype": "f8"
         }
        },
        {
         "line": {
          "color": "red",
          "width": 2
         },
         "mode": "lines",
         "name": "Current Price",
         "showlegend": false,
         "type": "scatter",
         "x": [
          "2024-07-26T00:00:00",
          "2024-07-29T00:00:00"
         ],
         "y": {
          "bdata": "AAAAwMzMK0AAAAAAKdwqQA==",
          "dtype": "f8"
         }
        },
        {
         "line": {
          "color": "red",
          "width": 2
         },
         "mode": "lines",
         "name": "Current Price",
         "showlegend": false,
         "type": "scatter",
         "x": [
          "2024-07-29T00:00:00",
          "2024-07-30T00:00:00"
         ],
         "y": {
          "bdata": "AAAAACncKkAAAAAAKVwqQA==",
          "dtype": "f8"
         }
        },
        {
         "line": {
          "color": "red",
          "width": 2
         },
         "mode": "lines",
         "name": "Current Price",
         "showlegend": false,
         "type": "scatter",
         "x": [
          "2024-07-30T00:00:00",
          "2024-07-31T00:00:00"
         ],
         "y": {
          "bdata": "AAAAAClcKkAAAACAPQorQA==",
          "dtype": "f8"
         }
        },
        {
         "line": {
          "color": "red",
          "width": 2
         },
         "mode": "lines",
         "name": "Current Price",
         "showlegend": false,
         "type": "scatter",
         "x": [
          "2024-07-31T00:00:00",
          "2024-08-01T00:00:00"
         ],
         "y": {
          "bdata": "AAAAgD0KK0AAAAAAKVwpQA==",
          "dtype": "f8"
         }
        },
        {
         "line": {
          "color": "red",
          "width": 2
         },
         "mode": "lines",
         "name": "Current Price",
         "showlegend": false,
         "type": "scatter",
         "x": [
          "2024-08-01T00:00:00",
          "2024-08-02T00:00:00"
         ],
         "y": {
          "bdata": "AAAAAClcKUAAAABAClcmQA==",
          "dtype": "f8"
         }
        },
        {
         "line": {
          "color": "red",
          "width": 2
         },
         "mode": "lines",
         "name": "Current Price",
         "showlegend": false,
         "type": "scatter",
         "x": [
          "2024-08-02T00:00:00",
          "2024-08-05T00:00:00"
         ],
         "y": {
          "bdata": "AAAAQApXJkAAAACAPQolQA==",
          "dtype": "f8"
         }
        },
        {
         "line": {
          "color": "red",
          "width": 2
         },
         "mode": "lines",
         "name": "Current Price",
         "showlegend": false,
         "type": "scatter",
         "x": [
          "2024-08-05T00:00:00",
          "2024-08-06T00:00:00"
         ],
         "y": {
          "bdata": "AAAAgD0KJUAAAACAwvUlQA==",
          "dtype": "f8"
         }
        },
        {
         "line": {
          "color": "red",
          "width": 2
         },
         "mode": "lines",
         "name": "Current Price",
         "showlegend": false,
         "type": "scatter",
         "x": [
          "2024-08-06T00:00:00",
          "2024-08-07T00:00:00"
         ],
         "y": {
          "bdata": "AAAAgML1JUAAAABA4fokQA==",
          "dtype": "f8"
         }
        },
        {
         "line": {
          "color": "red",
          "width": 2
         },
         "mode": "lines",
         "name": "Current Price",
         "showlegend": false,
         "type": "scatter",
         "x": [
          "2024-08-07T00:00:00",
          "2024-08-08T00:00:00"
         ],
         "y": {
          "bdata": "AAAAQOH6JEAAAADgo/AlQA==",
          "dtype": "f8"
         }
        },
        {
         "line": {
          "color": "red",
          "width": 2
         },
         "mode": "lines",
         "name": "Current Price",
         "showlegend": false,
         "type": "scatter",
         "x": [
          "2024-08-08T00:00:00",
          "2024-08-09T00:00:00"
         ],
         "y": {
          "bdata": "AAAA4KPwJUAAAAAgrkcmQA==",
          "dtype": "f8"
         }
        },
        {
         "line": {
          "color": "red",
          "width": 2
         },
         "mode": "lines",
         "name": "Current Price",
         "showlegend": false,
         "type": "scatter",
         "x": [
          "2024-08-09T00:00:00",
          "2024-08-12T00:00:00"
         ],
         "y": {
          "bdata": "AAAAIK5HJkAAAAAgrkcmQA==",
          "dtype": "f8"
         }
        },
        {
         "line": {
          "color": "red",
          "width": 2
         },
         "mode": "lines",
         "name": "Current Price",
         "showlegend": false,
         "type": "scatter",
         "x": [
          "2024-08-12T00:00:00",
          "2024-08-13T00:00:00"
         ],
         "y": {
          "bdata": "AAAAIK5HJkAAAACgR+EmQA==",
          "dtype": "f8"
         }
        },
        {
         "line": {
          "color": "red",
          "width": 2
         },
         "mode": "lines",
         "name": "Current Price",
         "showlegend": false,
         "type": "scatter",
         "x": [
          "2024-08-13T00:00:00",
          "2024-08-14T00:00:00"
         ],
         "y": {
          "bdata": "AAAAoEfhJkAAAABAMzMnQA==",
          "dtype": "f8"
         }
        },
        {
         "line": {
          "color": "red",
          "width": 2
         },
         "mode": "lines",
         "name": "Current Price",
         "showlegend": false,
         "type": "scatter",
         "x": [
          "2024-08-14T00:00:00",
          "2024-08-15T00:00:00"
         ],
         "y": {
          "bdata": "AAAAQDMzJ0AAAABAM7MoQA==",
          "dtype": "f8"
         }
        },
        {
         "line": {
          "color": "red",
          "width": 2
         },
         "mode": "lines",
         "name": "Current Price",
         "showlegend": false,
         "type": "scatter",
         "x": [
          "2024-08-15T00:00:00",
          "2024-08-16T00:00:00"
         ],
         "y": {
          "bdata": "AAAAQDOzKEAAAAAgrscnQA==",
          "dtype": "f8"
         }
        },
        {
         "line": {
          "color": "red",
          "width": 2
         },
         "mode": "lines",
         "name": "Current Price",
         "showlegend": false,
         "type": "scatter",
         "x": [
          "2024-08-16T00:00:00",
          "2024-08-19T00:00:00"
         ],
         "y": {
          "bdata": "AAAAIK7HJ0AAAADgo/AoQA==",
          "dtype": "f8"
         }
        },
        {
         "line": {
          "color": "red",
          "width": 2
         },
         "mode": "lines",
         "name": "Current Price",
         "showlegend": false,
         "type": "scatter",
         "x": [
          "2024-08-19T00:00:00",
          "2024-08-20T00:00:00"
         ],
         "y": {
          "bdata": "AAAA4KPwKEAAAABguJ4oQA==",
          "dtype": "f8"
         }
        },
        {
         "line": {
          "color": "red",
          "width": 2
         },
         "mode": "lines",
         "name": "Current Price",
         "showlegend": false,
         "type": "scatter",
         "x": [
          "2024-08-20T00:00:00",
          "2024-08-21T00:00:00"
         ],
         "y": {
          "bdata": "AAAAYLieKEAAAAAAKVwqQA==",
          "dtype": "f8"
         }
        },
        {
         "line": {
          "color": "red",
          "width": 2
         },
         "mode": "lines",
         "name": "Current Price",
         "showlegend": false,
         "type": "scatter",
         "x": [
          "2024-08-21T00:00:00",
          "2024-08-22T00:00:00"
         ],
         "y": {
          "bdata": "AAAAAClcKkAAAACAwvUoQA==",
          "dtype": "f8"
         }
        },
        {
         "line": {
          "color": "red",
          "width": 2
         },
         "mode": "lines",
         "name": "Current Price",
         "showlegend": false,
         "type": "scatter",
         "x": [
          "2024-08-22T00:00:00",
          "2024-08-23T00:00:00"
         ],
         "y": {
          "bdata": "AAAAgML1KEAAAABgZuYpQA==",
          "dtype": "f8"
         }
        },
        {
         "line": {
          "color": "red",
          "width": 2
         },
         "mode": "lines",
         "name": "Current Price",
         "showlegend": false,
         "type": "scatter",
         "x": [
          "2024-08-23T00:00:00",
          "2024-08-26T00:00:00"
         ],
         "y": {
          "bdata": "AAAAYGbmKUAAAADAzMwpQA==",
          "dtype": "f8"
         }
        },
        {
         "line": {
          "color": "red",
          "width": 2
         },
         "mode": "lines",
         "name": "Current Price",
         "showlegend": false,
         "type": "scatter",
         "x": [
          "2024-08-26T00:00:00",
          "2024-08-27T00:00:00"
         ],
         "y": {
          "bdata": "AAAAwMzMKUAAAACgmZkpQA==",
          "dtype": "f8"
         }
        },
        {
         "line": {
          "color": "red",
          "width": 2
         },
         "mode": "lines",
         "name": "Current Price",
         "showlegend": false,
         "type": "scatter",
         "x": [
          "2024-08-27T00:00:00",
          "2024-08-28T00:00:00"
         ],
         "y": {
          "bdata": "AAAAoJmZKUAAAAAAAAApQA==",
          "dtype": "f8"
         }
        },
        {
         "line": {
          "color": "red",
          "width": 2
         },
         "mode": "lines",
         "name": "Current Price",
         "showlegend": false,
         "type": "scatter",
         "x": [
          "2024-08-28T00:00:00",
          "2024-08-29T00:00:00"
         ],
         "y": {
          "bdata": "AAAAAAAAKUAAAADAzMwpQA==",
          "dtype": "f8"
         }
        },
        {
         "line": {
          "color": "red",
          "width": 2
         },
         "mode": "lines",
         "name": "Current Price",
         "showlegend": false,
         "type": "scatter",
         "x": [
          "2024-08-29T00:00:00",
          "2024-08-30T00:00:00"
         ],
         "y": {
          "bdata": "AAAAwMzMKUAAAADAzMwpQA==",
          "dtype": "f8"
         }
        },
        {
         "line": {
          "color": "red",
          "width": 2
         },
         "mode": "lines",
         "name": "Current Price",
         "showlegend": false,
         "type": "scatter",
         "x": [
          "2024-08-30T00:00:00",
          "2024-09-03T00:00:00"
         ],
         "y": {
          "bdata": "AAAAwMzMKUAAAAAghespQA==",
          "dtype": "f8"
         }
        },
        {
         "line": {
          "color": "red",
          "width": 2
         },
         "mode": "lines",
         "name": "Current Price",
         "showlegend": false,
         "type": "scatter",
         "x": [
          "2024-09-03T00:00:00",
          "2024-09-04T00:00:00"
         ],
         "y": {
          "bdata": "AAAAIIXrKUAAAADgo/ArQA==",
          "dtype": "f8"
         }
        },
        {
         "line": {
          "color": "red",
          "width": 2
         },
         "mode": "lines",
         "name": "Current Price",
         "showlegend": false,
         "type": "scatter",
         "x": [
          "2024-09-04T00:00:00",
          "2024-09-05T00:00:00"
         ],
         "y": {
          "bdata": "AAAA4KPwK0AAAACgR2ErQA==",
          "dtype": "f8"
         }
        },
        {
         "line": {
          "color": "red",
          "width": 2
         },
         "mode": "lines",
         "name": "Current Price",
         "showlegend": false,
         "type": "scatter",
         "x": [
          "2024-09-05T00:00:00",
          "2024-09-06T00:00:00"
         ],
         "y": {
          "bdata": "AAAAoEdhK0AAAACA69ErQA==",
          "dtype": "f8"
         }
        },
        {
         "line": {
          "color": "green",
          "width": 2
         },
         "mode": "lines",
         "name": "Current Price",
         "showlegend": false,
         "type": "scatter",
         "x": [
          "2024-09-06T00:00:00",
          "2024-09-09T00:00:00"
         ],
         "y": {
          "bdata": "AAAAgOvRK0AAAACAFC4rQA==",
          "dtype": "f8"
         }
        },
        {
         "line": {
          "color": "red",
          "width": 2
         },
         "mode": "lines",
         "name": "Current Price",
         "showlegend": false,
         "type": "scatter",
         "x": [
          "2024-09-09T00:00:00",
          "2024-09-10T00:00:00"
         ],
         "y": {
          "bdata": "AAAAgBQuK0AAAADgUbgrQA==",
          "dtype": "f8"
         }
        },
        {
         "line": {
          "color": "red",
          "width": 2
         },
         "mode": "lines",
         "name": "Current Price",
         "showlegend": false,
         "type": "scatter",
         "x": [
          "2024-09-10T00:00:00",
          "2024-09-11T00:00:00"
         ],
         "y": {
          "bdata": "AAAA4FG4K0AAAACAFK4rQA==",
          "dtype": "f8"
         }
        },
        {
         "line": {
          "color": "green",
          "width": 2
         },
         "mode": "lines",
         "name": "Current Price",
         "showlegend": false,
         "type": "scatter",
         "x": [
          "2024-09-11T00:00:00",
          "2024-09-12T00:00:00"
         ],
         "y": {
          "bdata": "AAAAgBSuK0AAAADgepQrQA==",
          "dtype": "f8"
         }
        },
        {
         "line": {
          "color": "green",
          "width": 2
         },
         "mode": "lines",
         "name": "Current Price",
         "showlegend": false,
         "type": "scatter",
         "x": [
          "2024-09-12T00:00:00",
          "2024-09-13T00:00:00"
         ],
         "y": {
          "bdata": "AAAA4HqUK0AAAACgmZkrQA==",
          "dtype": "f8"
         }
        },
        {
         "line": {
          "color": "green",
          "width": 2
         },
         "mode": "lines",
         "name": "Current Price",
         "showlegend": false,
         "type": "scatter",
         "x": [
          "2024-09-13T00:00:00",
          "2024-09-16T00:00:00"
         ],
         "y": {
          "bdata": "AAAAoJmZK0AAAADAHgUsQA==",
          "dtype": "f8"
         }
        },
        {
         "line": {
          "color": "green",
          "width": 2
         },
         "mode": "lines",
         "name": "Current Price",
         "showlegend": false,
         "type": "scatter",
         "x": [
          "2024-09-16T00:00:00",
          "2024-09-17T00:00:00"
         ],
         "y": {
          "bdata": "AAAAwB4FLEAAAAAghWssQA==",
          "dtype": "f8"
         }
        },
        {
         "line": {
          "color": "green",
          "width": 2
         },
         "mode": "lines",
         "name": "Current Price",
         "showlegend": false,
         "type": "scatter",
         "x": [
          "2024-09-17T00:00:00",
          "2024-09-18T00:00:00"
         ],
         "y": {
          "bdata": "AAAAIIVrLEAAAACgcD0sQA==",
          "dtype": "f8"
         }
        },
        {
         "line": {
          "color": "green",
          "width": 2
         },
         "mode": "lines",
         "name": "Current Price",
         "showlegend": false,
         "type": "scatter",
         "x": [
          "2024-09-18T00:00:00",
          "2024-09-19T00:00:00"
         ],
         "y": {
          "bdata": "AAAAoHA9LEAAAABgZmYsQA==",
          "dtype": "f8"
         }
        },
        {
         "line": {
          "color": "green",
          "width": 2
         },
         "mode": "lines",
         "name": "Current Price",
         "showlegend": false,
         "type": "scatter",
         "x": [
          "2024-09-19T00:00:00",
          "2024-09-20T00:00:00"
         ],
         "y": {
          "bdata": "AAAAYGZmLEAAAAAgrscrQA==",
          "dtype": "f8"
         }
        },
        {
         "line": {
          "color": "green",
          "width": 2
         },
         "mode": "lines",
         "name": "Current Price",
         "showlegend": false,
         "type": "scatter",
         "x": [
          "2024-09-20T00:00:00",
          "2024-09-23T00:00:00"
         ],
         "y": {
          "bdata": "AAAAIK7HK0AAAACAwnUsQA==",
          "dtype": "f8"
         }
        },
        {
         "line": {
          "color": "green",
          "width": 2
         },
         "mode": "lines",
         "name": "Current Price",
         "showlegend": false,
         "type": "scatter",
         "x": [
          "2024-09-23T00:00:00",
          "2024-09-24T00:00:00"
         ],
         "y": {
          "bdata": "AAAAgMJ1LEAAAAAAAAAwQA==",
          "dtype": "f8"
         }
        },
        {
         "line": {
          "color": "green",
          "width": 2
         },
         "mode": "lines",
         "name": "Current Price",
         "showlegend": false,
         "type": "scatter",
         "x": [
          "2024-09-24T00:00:00",
          "2024-09-25T00:00:00"
         ],
         "y": {
          "bdata": "AAAAAAAAMEAAAADA9SgwQA==",
          "dtype": "f8"
         }
        },
        {
         "line": {
          "color": "green",
          "width": 2
         },
         "mode": "lines",
         "name": "Current Price",
         "showlegend": false,
         "type": "scatter",
         "x": [
          "2024-09-25T00:00:00",
          "2024-09-26T00:00:00"
         ],
         "y": {
          "bdata": "AAAAwPUoMEAAAABgZuYwQA==",
          "dtype": "f8"
         }
        },
        {
         "line": {
          "color": "green",
          "width": 2
         },
         "mode": "lines",
         "name": "Current Price",
         "showlegend": false,
         "type": "scatter",
         "x": [
          "2024-09-26T00:00:00",
          "2024-09-27T00:00:00"
         ],
         "y": {
          "bdata": "AAAAYGbmMEAAAAAA12MyQA==",
          "dtype": "f8"
         }
        },
        {
         "line": {
          "color": "green",
          "width": 2
         },
         "mode": "lines",
         "name": "Current Price",
         "showlegend": false,
         "type": "scatter",
         "x": [
          "2024-09-27T00:00:00",
          "2024-09-30T00:00:00"
         ],
         "y": {
          "bdata": "AAAAANdjMkAAAABgZqYxQA==",
          "dtype": "f8"
         }
        },
        {
         "line": {
          "color": "green",
          "width": 2
         },
         "mode": "lines",
         "name": "Current Price",
         "showlegend": false,
         "type": "scatter",
         "x": [
          "2024-09-30T00:00:00",
          "2024-10-01T00:00:00"
         ],
         "y": {
          "bdata": "AAAAYGamMUAAAACAPYoxQA==",
          "dtype": "f8"
         }
        },
        {
         "line": {
          "color": "green",
          "width": 2
         },
         "mode": "lines",
         "name": "Current Price",
         "showlegend": false,
         "type": "scatter",
         "x": [
          "2024-10-01T00:00:00",
          "2024-10-02T00:00:00"
         ],
         "y": {
          "bdata": "AAAAgD2KMUAAAACAwvUwQA==",
          "dtype": "f8"
         }
        },
        {
         "line": {
          "color": "green",
          "width": 2
         },
         "mode": "lines",
         "name": "Current Price",
         "showlegend": false,
         "type": "scatter",
         "x": [
          "2024-10-02T00:00:00",
          "2024-10-03T00:00:00"
         ],
         "y": {
          "bdata": "AAAAgML1MEAAAACAwvUwQA==",
          "dtype": "f8"
         }
        },
        {
         "line": {
          "color": "green",
          "width": 2
         },
         "mode": "lines",
         "name": "Current Price",
         "showlegend": false,
         "type": "scatter",
         "x": [
          "2024-10-03T00:00:00",
          "2024-10-04T00:00:00"
         ],
         "y": {
          "bdata": "AAAAgML1MEAAAACgR2ExQA==",
          "dtype": "f8"
         }
        },
        {
         "line": {
          "color": "green",
          "width": 2
         },
         "mode": "lines",
         "name": "Current Price",
         "showlegend": false,
         "type": "scatter",
         "x": [
          "2024-10-04T00:00:00",
          "2024-10-07T00:00:00"
         ],
         "y": {
          "bdata": "AAAAoEdhMUAAAABACtcxQA==",
          "dtype": "f8"
         }
        },
        {
         "line": {
          "color": "green",
          "width": 2
         },
         "mode": "lines",
         "name": "Current Price",
         "showlegend": false,
         "type": "scatter",
         "x": [
          "2024-10-07T00:00:00",
          "2024-10-08T00:00:00"
         ],
         "y": {
          "bdata": "AAAAQArXMUAAAAAAAAAxQA==",
          "dtype": "f8"
         }
        },
        {
         "line": {
          "color": "green",
          "width": 2
         },
         "mode": "lines",
         "name": "Current Price",
         "showlegend": false,
         "type": "scatter",
         "x": [
          "2024-10-08T00:00:00",
          "2024-10-09T00:00:00"
         ],
         "y": {
          "bdata": "AAAAAAAAMUAAAABgZiYxQA==",
          "dtype": "f8"
         }
        },
        {
         "line": {
          "color": "green",
          "width": 2
         },
         "mode": "lines",
         "name": "Current Price",
         "showlegend": false,
         "type": "scatter",
         "x": [
          "2024-10-09T00:00:00",
          "2024-10-10T00:00:00"
         ],
         "y": {
          "bdata": "AAAAYGYmMUAAAABguF4xQA==",
          "dtype": "f8"
         }
        },
        {
         "line": {
          "color": "green",
          "width": 2
         },
         "mode": "lines",
         "name": "Current Price",
         "showlegend": false,
         "type": "scatter",
         "x": [
          "2024-10-10T00:00:00",
          "2024-10-11T00:00:00"
         ],
         "y": {
          "bdata": "AAAAYLheMUAAAAAgXM8xQA==",
          "dtype": "f8"
         }
        },
        {
         "line": {
          "color": "green",
          "width": 2
         },
         "mode": "lines",
         "name": "Current Price",
         "showlegend": false,
         "type": "scatter",
         "x": [
          "2024-10-11T00:00:00",
          "2024-10-14T00:00:00"
         ],
         "y": {
          "bdata": "AAAAIFzPMUAAAABgj8IxQA==",
          "dtype": "f8"
         }
        },
        {
         "line": {
          "color": "green",
          "width": 2
         },
         "mode": "lines",
         "name": "Current Price",
         "showlegend": false,
         "type": "scatter",
         "x": [
          "2024-10-14T00:00:00",
          "2024-10-15T00:00:00"
         ],
         "y": {
          "bdata": "AAAAYI/CMUAAAABAM7MxQA==",
          "dtype": "f8"
         }
        },
        {
         "line": {
          "color": "green",
          "width": 2
         },
         "mode": "lines",
         "name": "Current Price",
         "showlegend": false,
         "type": "scatter",
         "x": [
          "2024-10-15T00:00:00",
          "2024-10-16T00:00:00"
         ],
         "y": {
          "bdata": "AAAAQDOzMUAAAAAAAAAzQA==",
          "dtype": "f8"
         }
        },
        {
         "line": {
          "color": "green",
          "width": 2
         },
         "mode": "lines",
         "name": "Current Price",
         "showlegend": false,
         "type": "scatter",
         "x": [
          "2024-10-16T00:00:00",
          "2024-10-17T00:00:00"
         ],
         "y": {
          "bdata": "AAAAAAAAM0AAAACAPUoyQA==",
          "dtype": "f8"
         }
        },
        {
         "line": {
          "color": "green",
          "width": 2
         },
         "mode": "lines",
         "name": "Current Price",
         "showlegend": false,
         "type": "scatter",
         "x": [
          "2024-10-17T00:00:00",
          "2024-10-18T00:00:00"
         ],
         "y": {
          "bdata": "AAAAgD1KMkAAAADgepQyQA==",
          "dtype": "f8"
         }
        },
        {
         "line": {
          "color": "green",
          "width": 2
         },
         "mode": "lines",
         "name": "Current Price",
         "showlegend": false,
         "type": "scatter",
         "x": [
          "2024-10-18T00:00:00",
          "2024-10-21T00:00:00"
         ],
         "y": {
          "bdata": "AAAA4HqUMkAAAADgehQyQA==",
          "dtype": "f8"
         }
        },
        {
         "line": {
          "color": "green",
          "width": 2
         },
         "mode": "lines",
         "name": "Current Price",
         "showlegend": false,
         "type": "scatter",
         "x": [
          "2024-10-21T00:00:00",
          "2024-10-22T00:00:00"
         ],
         "y": {
          "bdata": "AAAA4HoUMkAAAADAzEwyQA==",
          "dtype": "f8"
         }
        },
        {
         "line": {
          "color": "green",
          "width": 2
         },
         "mode": "lines",
         "name": "Current Price",
         "showlegend": false,
         "type": "scatter",
         "x": [
          "2024-10-22T00:00:00",
          "2024-10-23T00:00:00"
         ],
         "y": {
          "bdata": "AAAAwMxMMkAAAABguN4xQA==",
          "dtype": "f8"
         }
        },
        {
         "line": {
          "color": "green",
          "width": 2
         },
         "mode": "lines",
         "name": "Current Price",
         "showlegend": false,
         "type": "scatter",
         "x": [
          "2024-10-23T00:00:00",
          "2024-10-24T00:00:00"
         ],
         "y": {
          "bdata": "AAAAYLjeMUAAAADAzIwyQA==",
          "dtype": "f8"
         }
        },
        {
         "line": {
          "color": "green",
          "width": 2
         },
         "mode": "lines",
         "name": "Current Price",
         "showlegend": false,
         "type": "scatter",
         "x": [
          "2024-10-24T00:00:00",
          "2024-10-25T00:00:00"
         ],
         "y": {
          "bdata": "AAAAwMyMMkAAAAAA16MyQA==",
          "dtype": "f8"
         }
        },
        {
         "line": {
          "color": "green",
          "width": 2
         },
         "mode": "lines",
         "name": "Current Price",
         "showlegend": false,
         "type": "scatter",
         "x": [
          "2024-10-25T00:00:00",
          "2024-10-28T00:00:00"
         ],
         "y": {
          "bdata": "AAAAANejMkAAAACgR+EyQA==",
          "dtype": "f8"
         }
        },
        {
         "line": {
          "color": "green",
          "width": 2
         },
         "mode": "lines",
         "name": "Current Price",
         "showlegend": false,
         "type": "scatter",
         "x": [
          "2024-10-28T00:00:00",
          "2024-10-29T00:00:00"
         ],
         "y": {
          "bdata": "AAAAoEfhMkAAAACgcP0yQA==",
          "dtype": "f8"
         }
        },
        {
         "line": {
          "color": "green",
          "width": 2
         },
         "mode": "lines",
         "name": "Current Price",
         "showlegend": false,
         "type": "scatter",
         "x": [
          "2024-10-29T00:00:00",
          "2024-10-30T00:00:00"
         ],
         "y": {
          "bdata": "AAAAoHD9MkAAAACgcL0yQA==",
          "dtype": "f8"
         }
        },
        {
         "line": {
          "color": "green",
          "width": 2
         },
         "mode": "lines",
         "name": "Current Price",
         "showlegend": false,
         "type": "scatter",
         "x": [
          "2024-10-30T00:00:00",
          "2024-10-31T00:00:00"
         ],
         "y": {
          "bdata": "AAAAoHC9MkAAAACgcP0xQA==",
          "dtype": "f8"
         }
        },
        {
         "line": {
          "color": "green",
          "width": 2
         },
         "mode": "lines",
         "name": "Current Price",
         "showlegend": false,
         "type": "scatter",
         "x": [
          "2024-10-31T00:00:00",
          "2024-11-01T00:00:00"
         ],
         "y": {
          "bdata": "AAAAoHD9MUAAAABA4ToyQA==",
          "dtype": "f8"
         }
        },
        {
         "line": {
          "color": "green",
          "width": 2
         },
         "mode": "lines",
         "name": "Current Price",
         "showlegend": false,
         "type": "scatter",
         "x": [
          "2024-11-01T00:00:00",
          "2024-11-04T00:00:00"
         ],
         "y": {
          "bdata": "AAAAQOE6MkAAAAAAAEAyQA==",
          "dtype": "f8"
         }
        },
        {
         "line": {
          "color": "green",
          "width": 2
         },
         "mode": "lines",
         "name": "Current Price",
         "showlegend": false,
         "type": "scatter",
         "x": [
          "2024-11-04T00:00:00",
          "2024-11-05T00:00:00"
         ],
         "y": {
          "bdata": "AAAAAABAMkAAAAAAKZwyQA==",
          "dtype": "f8"
         }
        },
        {
         "line": {
          "color": "green",
          "width": 2
         },
         "mode": "lines",
         "name": "Current Price",
         "showlegend": false,
         "type": "scatter",
         "x": [
          "2024-11-05T00:00:00",
          "2024-11-06T00:00:00"
         ],
         "y": {
          "bdata": "AAAAACmcMkAAAACAFK4zQA==",
          "dtype": "f8"
         }
        },
        {
         "line": {
          "color": "green",
          "width": 2
         },
         "mode": "lines",
         "name": "Current Price",
         "showlegend": false,
         "type": "scatter",
         "x": [
          "2024-11-06T00:00:00",
          "2024-11-07T00:00:00"
         ],
         "y": {
          "bdata": "AAAAgBSuM0AAAABA4fozQA==",
          "dtype": "f8"
         }
        },
        {
         "line": {
          "color": "green",
          "width": 2
         },
         "mode": "lines",
         "name": "Current Price",
         "showlegend": false,
         "type": "scatter",
         "x": [
          "2024-11-07T00:00:00",
          "2024-11-08T00:00:00"
         ],
         "y": {
          "bdata": "AAAAQOH6M0AAAAAAAIAzQA==",
          "dtype": "f8"
         }
        },
        {
         "line": {
          "color": "green",
          "width": 2
         },
         "mode": "lines",
         "name": "Current Price",
         "showlegend": false,
         "type": "scatter",
         "x": [
          "2024-11-08T00:00:00",
          "2024-11-11T00:00:00"
         ],
         "y": {
          "bdata": "AAAAAACAM0AAAADA9Wg0QA==",
          "dtype": "f8"
         }
        },
        {
         "line": {
          "color": "green",
          "width": 2
         },
         "mode": "lines",
         "name": "Current Price",
         "showlegend": false,
         "type": "scatter",
         "x": [
          "2024-11-11T00:00:00",
          "2024-11-12T00:00:00"
         ],
         "y": {
          "bdata": "AAAAwPVoNEAAAACgmdkzQA==",
          "dtype": "f8"
         }
        },
        {
         "line": {
          "color": "green",
          "width": 2
         },
         "mode": "lines",
         "name": "Current Price",
         "showlegend": false,
         "type": "scatter",
         "x": [
          "2024-11-12T00:00:00",
          "2024-11-13T00:00:00"
         ],
         "y": {
          "bdata": "AAAAoJnZM0AAAABguB4zQA==",
          "dtype": "f8"
         }
        },
        {
         "line": {
          "color": "green",
          "width": 2
         },
         "mode": "lines",
         "name": "Current Price",
         "showlegend": false,
         "type": "scatter",
         "x": [
          "2024-11-13T00:00:00",
          "2024-11-14T00:00:00"
         ],
         "y": {
          "bdata": "AAAAYLgeM0AAAACA65EyQA==",
          "dtype": "f8"
         }
        },
        {
         "line": {
          "color": "green",
          "width": 2
         },
         "mode": "lines",
         "name": "Current Price",
         "showlegend": false,
         "type": "scatter",
         "x": [
          "2024-11-14T00:00:00",
          "2024-11-15T00:00:00"
         ],
         "y": {
          "bdata": "AAAAgOuRMkAAAAAgrkcyQA==",
          "dtype": "f8"
         }
        },
        {
         "line": {
          "color": "green",
          "width": 2
         },
         "mode": "lines",
         "name": "Current Price",
         "showlegend": false,
         "type": "scatter",
         "x": [
          "2024-11-15T00:00:00",
          "2024-11-18T00:00:00"
         ],
         "y": {
          "bdata": "AAAAIK5HMkAAAACgmVkyQA==",
          "dtype": "f8"
         }
        },
        {
         "line": {
          "color": "green",
          "width": 2
         },
         "mode": "lines",
         "name": "Current Price",
         "showlegend": false,
         "type": "scatter",
         "x": [
          "2024-11-18T00:00:00",
          "2024-11-19T00:00:00"
         ],
         "y": {
          "bdata": "AAAAoJlZMkAAAADAHgUyQA==",
          "dtype": "f8"
         }
        },
        {
         "line": {
          "color": "green",
          "width": 2
         },
         "mode": "lines",
         "name": "Current Price",
         "showlegend": false,
         "type": "scatter",
         "x": [
          "2024-11-19T00:00:00",
          "2024-11-20T00:00:00"
         ],
         "y": {
          "bdata": "AAAAwB4FMkAAAABA4ToyQA==",
          "dtype": "f8"
         }
        },
        {
         "line": {
          "color": "green",
          "width": 2
         },
         "mode": "lines",
         "name": "Current Price",
         "showlegend": false,
         "type": "scatter",
         "x": [
          "2024-11-20T00:00:00",
          "2024-11-21T00:00:00"
         ],
         "y": {
          "bdata": "AAAAQOE6MkAAAABA4boyQA==",
          "dtype": "f8"
         }
        },
        {
         "line": {
          "color": "green",
          "width": 2
         },
         "mode": "lines",
         "name": "Current Price",
         "showlegend": false,
         "type": "scatter",
         "x": [
          "2024-11-21T00:00:00",
          "2024-11-22T00:00:00"
         ],
         "y": {
          "bdata": "AAAAQOG6MkAAAAAA16MzQA==",
          "dtype": "f8"
         }
        },
        {
         "line": {
          "color": "green",
          "width": 2
         },
         "mode": "lines",
         "name": "Current Price",
         "showlegend": false,
         "type": "scatter",
         "x": [
          "2024-11-22T00:00:00",
          "2024-11-25T00:00:00"
         ],
         "y": {
          "bdata": "AAAAANejM0AAAABACtc0QA==",
          "dtype": "f8"
         }
        },
        {
         "line": {
          "color": "green",
          "width": 2
         },
         "mode": "lines",
         "name": "Current Price",
         "showlegend": false,
         "type": "scatter",
         "x": [
          "2024-11-25T00:00:00",
          "2024-11-26T00:00:00"
         ],
         "y": {
          "bdata": "AAAAQArXNEAAAAAAAEA0QA==",
          "dtype": "f8"
         }
        },
        {
         "line": {
          "color": "green",
          "width": 2
         },
         "mode": "lines",
         "name": "Current Price",
         "showlegend": false,
         "type": "scatter",
         "x": [
          "2024-11-26T00:00:00",
          "2024-11-27T00:00:00"
         ],
         "y": {
          "bdata": "AAAAAABANEAAAABACtc0QA==",
          "dtype": "f8"
         }
        },
        {
         "line": {
          "color": "green",
          "width": 2
         },
         "mode": "lines",
         "name": "Current Price",
         "showlegend": false,
         "type": "scatter",
         "x": [
          "2024-11-27T00:00:00",
          "2024-11-29T00:00:00"
         ],
         "y": {
          "bdata": "AAAAQArXNEAAAACA6xE1QA==",
          "dtype": "f8"
         }
        },
        {
         "line": {
          "color": "green",
          "width": 2
         },
         "mode": "lines",
         "name": "Current Price",
         "showlegend": false,
         "type": "scatter",
         "x": [
          "2024-11-29T00:00:00",
          "2024-12-02T00:00:00"
         ],
         "y": {
          "bdata": "AAAAgOsRNUAAAAAgXM80QA==",
          "dtype": "f8"
         }
        },
        {
         "line": {
          "color": "green",
          "width": 2
         },
         "mode": "lines",
         "name": "Current Price",
         "showlegend": false,
         "type": "scatter",
         "x": [
          "2024-12-02T00:00:00",
          "2024-12-03T00:00:00"
         ],
         "y": {
          "bdata": "AAAAIFzPNEAAAAAAKRw3QA==",
          "dtype": "f8"
         }
        },
        {
         "line": {
          "color": "green",
          "width": 2
         },
         "mode": "lines",
         "name": "Current Price",
         "showlegend": false,
         "type": "scatter",
         "x": [
          "2024-12-03T00:00:00",
          "2024-12-04T00:00:00"
         ],
         "y": {
          "bdata": "AAAAACkcN0AAAACgRyE1QA==",
          "dtype": "f8"
         }
        },
        {
         "line": {
          "color": "green",
          "width": 2
         },
         "mode": "lines",
         "name": "Current Price",
         "showlegend": false,
         "type": "scatter",
         "x": [
          "2024-12-04T00:00:00",
          "2024-12-05T00:00:00"
         ],
         "y": {
          "bdata": "AAAAoEchNUAAAABgjwI0QA==",
          "dtype": "f8"
         }
        },
        {
         "line": {
          "color": "green",
          "width": 2
         },
         "mode": "lines",
         "name": "Current Price",
         "showlegend": false,
         "type": "scatter",
         "x": [
          "2024-12-05T00:00:00",
          "2024-12-06T00:00:00"
         ],
         "y": {
          "bdata": "AAAAYI8CNEAAAADgUbgzQA==",
          "dtype": "f8"
         }
        },
        {
         "line": {
          "color": "green",
          "width": 2
         },
         "mode": "lines",
         "name": "Current Price",
         "showlegend": false,
         "type": "scatter",
         "x": [
          "2024-12-06T00:00:00",
          "2024-12-09T00:00:00"
         ],
         "y": {
          "bdata": "AAAA4FG4M0AAAADAHoU0QA==",
          "dtype": "f8"
         }
        },
        {
         "line": {
          "color": "green",
          "width": 2
         },
         "mode": "lines",
         "name": "Current Price",
         "showlegend": false,
         "type": "scatter",
         "x": [
          "2024-12-09T00:00:00",
          "2024-12-10T00:00:00"
         ],
         "y": {
          "bdata": "AAAAwB6FNEAAAACAPYozQA==",
          "dtype": "f8"
         }
        },
        {
         "line": {
          "color": "green",
          "width": 2
         },
         "mode": "lines",
         "name": "Current Price",
         "showlegend": false,
         "type": "scatter",
         "x": [
          "2024-12-10T00:00:00",
          "2024-12-11T00:00:00"
         ],
         "y": {
          "bdata": "AAAAgD2KM0AAAABAM3MzQA==",
          "dtype": "f8"
         }
        },
        {
         "line": {
          "color": "green",
          "width": 2
         },
         "mode": "lines",
         "name": "Current Price",
         "showlegend": false,
         "type": "scatter",
         "x": [
          "2024-12-11T00:00:00",
          "2024-12-12T00:00:00"
         ],
         "y": {
          "bdata": "AAAAQDNzM0AAAACgmZkzQA==",
          "dtype": "f8"
         }
        },
        {
         "line": {
          "color": "green",
          "width": 2
         },
         "mode": "lines",
         "name": "Current Price",
         "showlegend": false,
         "type": "scatter",
         "x": [
          "2024-12-12T00:00:00",
          "2024-12-13T00:00:00"
         ],
         "y": {
          "bdata": "AAAAoJmZM0AAAABguF4zQA==",
          "dtype": "f8"
         }
        },
        {
         "line": {
          "color": "green",
          "width": 2
         },
         "mode": "lines",
         "name": "Current Price",
         "showlegend": false,
         "type": "scatter",
         "x": [
          "2024-12-13T00:00:00",
          "2024-12-16T00:00:00"
         ],
         "y": {
          "bdata": "AAAAYLheM0AAAACAPcoyQA==",
          "dtype": "f8"
         }
        },
        {
         "line": {
          "color": "green",
          "width": 2
         },
         "mode": "lines",
         "name": "Current Price",
         "showlegend": false,
         "type": "scatter",
         "x": [
          "2024-12-16T00:00:00",
          "2024-12-17T00:00:00"
         ],
         "y": {
          "bdata": "AAAAgD3KMkAAAABguF4yQA==",
          "dtype": "f8"
         }
        },
        {
         "line": {
          "color": "green",
          "width": 2
         },
         "mode": "lines",
         "name": "Current Price",
         "showlegend": false,
         "type": "scatter",
         "x": [
          "2024-12-17T00:00:00",
          "2024-12-18T00:00:00"
         ],
         "y": {
          "bdata": "AAAAYLheMkAAAABA4bowQA==",
          "dtype": "f8"
         }
        },
        {
         "line": {
          "color": "red",
          "width": 2
         },
         "mode": "lines",
         "name": "Current Price",
         "showlegend": false,
         "type": "scatter",
         "x": [
          "2024-12-18T00:00:00",
          "2024-12-19T00:00:00"
         ],
         "y": {
          "bdata": "AAAAQOG6MEAAAACAFC4wQA==",
          "dtype": "f8"
         }
        },
        {
         "line": {
          "color": "red",
          "width": 2
         },
         "mode": "lines",
         "name": "Current Price",
         "showlegend": false,
         "type": "scatter",
         "x": [
          "2024-12-19T00:00:00",
          "2024-12-20T00:00:00"
         ],
         "y": {
          "bdata": "AAAAgBQuMEAAAACAFK4vQA==",
          "dtype": "f8"
         }
        },
        {
         "line": {
          "color": "red",
          "width": 2
         },
         "mode": "lines",
         "name": "Current Price",
         "showlegend": false,
         "type": "scatter",
         "x": [
          "2024-12-20T00:00:00",
          "2024-12-23T00:00:00"
         ],
         "y": {
          "bdata": "AAAAgBSuL0AAAACAPUowQA==",
          "dtype": "f8"
         }
        },
        {
         "line": {
          "color": "red",
          "width": 2
         },
         "mode": "lines",
         "name": "Current Price",
         "showlegend": false,
         "type": "scatter",
         "x": [
          "2024-12-23T00:00:00",
          "2024-12-24T00:00:00"
         ],
         "y": {
          "bdata": "AAAAgD1KMEAAAACAPYowQA==",
          "dtype": "f8"
         }
        },
        {
         "line": {
          "color": "red",
          "width": 2
         },
         "mode": "lines",
         "name": "Current Price",
         "showlegend": false,
         "type": "scatter",
         "x": [
          "2024-12-24T00:00:00",
          "2024-12-26T00:00:00"
         ],
         "y": {
          "bdata": "AAAAgD2KMEAAAABACtcwQA==",
          "dtype": "f8"
         }
        },
        {
         "line": {
          "color": "red",
          "width": 2
         },
         "mode": "lines",
         "name": "Current Price",
         "showlegend": false,
         "type": "scatter",
         "x": [
          "2024-12-26T00:00:00",
          "2024-12-27T00:00:00"
         ],
         "y": {
          "bdata": "AAAAQArXMEAAAACAwnUwQA==",
          "dtype": "f8"
         }
        },
        {
         "line": {
          "color": "red",
          "width": 2
         },
         "mode": "lines",
         "name": "Current Price",
         "showlegend": false,
         "type": "scatter",
         "x": [
          "2024-12-27T00:00:00",
          "2024-12-30T00:00:00"
         ],
         "y": {
          "bdata": "AAAAgMJ1MEAAAACAwvUvQA==",
          "dtype": "f8"
         }
        },
        {
         "line": {
          "color": "red",
          "width": 2
         },
         "mode": "lines",
         "name": "Current Price",
         "showlegend": false,
         "type": "scatter",
         "x": [
          "2024-12-30T00:00:00",
          "2024-12-31T00:00:00"
         ],
         "y": {
          "bdata": "AAAAgML1L0AAAABAMzMvQA==",
          "dtype": "f8"
         }
        },
        {
         "line": {
          "color": "red",
          "width": 2
         },
         "mode": "lines",
         "name": "Current Price",
         "showlegend": false,
         "type": "scatter",
         "x": [
          "2024-12-31T00:00:00",
          "2025-01-02T00:00:00"
         ],
         "y": {
          "bdata": "AAAAQDMzL0AAAAAA12MwQA==",
          "dtype": "f8"
         }
        },
        {
         "line": {
          "color": "red",
          "width": 2
         },
         "mode": "lines",
         "name": "Current Price",
         "showlegend": false,
         "type": "scatter",
         "x": [
          "2025-01-02T00:00:00",
          "2025-01-03T00:00:00"
         ],
         "y": {
          "bdata": "AAAAANdjMEAAAABAMzMyQA==",
          "dtype": "f8"
         }
        },
        {
         "line": {
          "color": "red",
          "width": 2
         },
         "mode": "lines",
         "name": "Current Price",
         "showlegend": false,
         "type": "scatter",
         "x": [
          "2025-01-03T00:00:00",
          "2025-01-06T00:00:00"
         ],
         "y": {
          "bdata": "AAAAQDMzMkAAAACAwnU0QA==",
          "dtype": "f8"
         }
        },
        {
         "line": {
          "color": "green",
          "width": 2
         },
         "mode": "lines",
         "name": "Current Price",
         "showlegend": false,
         "type": "scatter",
         "x": [
          "2025-01-06T00:00:00",
          "2025-01-07T00:00:00"
         ],
         "y": {
          "bdata": "AAAAgMJ1NEAAAADgepQ0QA==",
          "dtype": "f8"
         }
        },
        {
         "line": {
          "color": "green",
          "width": 2
         },
         "mode": "lines",
         "name": "Current Price",
         "showlegend": false,
         "type": "scatter",
         "x": [
          "2025-01-07T00:00:00",
          "2025-01-08T00:00:00"
         ],
         "y": {
          "bdata": "AAAA4HqUNEAAAACgR2EzQA==",
          "dtype": "f8"
         }
        },
        {
         "line": {
          "color": "green",
          "width": 2
         },
         "mode": "lines",
         "name": "Current Price",
         "showlegend": false,
         "type": "scatter",
         "x": [
          "2025-01-08T00:00:00",
          "2025-01-10T00:00:00"
         ],
         "y": {
          "bdata": "AAAAoEdhM0AAAAAAAMAzQA==",
          "dtype": "f8"
         }
        },
        {
         "line": {
          "color": "green",
          "width": 2
         },
         "mode": "lines",
         "name": "Current Price",
         "showlegend": false,
         "type": "scatter",
         "x": [
          "2025-01-10T00:00:00",
          "2025-01-13T00:00:00"
         ],
         "y": {
          "bdata": "AAAAAADAM0AAAAAgroczQA==",
          "dtype": "f8"
         }
        },
        {
         "line": {
          "color": "red",
          "width": 2
         },
         "mode": "lines",
         "name": "Current Price",
         "showlegend": false,
         "type": "scatter",
         "x": [
          "2025-01-13T00:00:00",
          "2025-01-14T00:00:00"
         ],
         "y": {
          "bdata": "AAAAIK6HM0AAAAAA12MzQA==",
          "dtype": "f8"
         }
        },
        {
         "line": {
          "color": "red",
          "width": 2
         },
         "mode": "lines",
         "name": "Current Price",
         "showlegend": false,
         "type": "scatter",
         "x": [
          "2025-01-14T00:00:00",
          "2025-01-15T00:00:00"
         ],
         "y": {
          "bdata": "AAAAANdjM0AAAAAAKZw0QA==",
          "dtype": "f8"
         }
        },
        {
         "line": {
          "color": "red",
          "width": 2
         },
         "mode": "lines",
         "name": "Current Price",
         "showlegend": false,
         "type": "scatter",
         "x": [
          "2025-01-15T00:00:00",
          "2025-01-16T00:00:00"
         ],
         "y": {
          "bdata": "AAAAACmcNEAAAAAghSs1QA==",
          "dtype": "f8"
         }
        },
        {
         "line": {
          "color": "green",
          "width": 2
         },
         "mode": "lines",
         "name": "Current Price",
         "showlegend": false,
         "type": "scatter",
         "x": [
          "2025-01-16T00:00:00",
          "2025-01-17T00:00:00"
         ],
         "y": {
          "bdata": "AAAAIIUrNUAAAADgo/A0QA==",
          "dtype": "f8"
         }
        },
        {
         "line": {
          "color": "green",
          "width": 2
         },
         "mode": "lines",
         "name": "Current Price",
         "showlegend": false,
         "type": "scatter",
         "x": [
          "2025-01-17T00:00:00",
          "2025-01-21T00:00:00"
         ],
         "y": {
          "bdata": "AAAA4KPwNEAAAABguN40QA==",
          "dtype": "f8"
         }
        },
        {
         "line": {
          "color": "red",
          "width": 2
         },
         "mode": "lines",
         "name": "Current Price",
         "showlegend": false,
         "type": "scatter",
         "x": [
          "2025-01-21T00:00:00",
          "2025-01-22T00:00:00"
         ],
         "y": {
          "bdata": "AAAAYLjeNEAAAADgehQ1QA==",
          "dtype": "f8"
         }
        },
        {
         "line": {
          "color": "red",
          "width": 2
         },
         "mode": "lines",
         "name": "Current Price",
         "showlegend": false,
         "type": "scatter",
         "x": [
          "2025-01-22T00:00:00",
          "2025-01-23T00:00:00"
         ],
         "y": {
          "bdata": "AAAA4HoUNUAAAADA9Wg1QA==",
          "dtype": "f8"
         }
        },
        {
         "line": {
          "color": "green",
          "width": 2
         },
         "mode": "lines",
         "name": "Current Price",
         "showlegend": false,
         "type": "scatter",
         "x": [
          "2025-01-23T00:00:00",
          "2025-01-24T00:00:00"
         ],
         "y": {
          "bdata": "AAAAwPVoNUAAAACA65E1QA==",
          "dtype": "f8"
         }
        },
        {
         "line": {
          "color": "green",
          "width": 2
         },
         "mode": "lines",
         "name": "Current Price",
         "showlegend": false,
         "type": "scatter",
         "x": [
          "2025-01-24T00:00:00",
          "2025-01-27T00:00:00"
         ],
         "y": {
          "bdata": "AAAAgOuRNUAAAADAHoU1QA==",
          "dtype": "f8"
         }
        },
        {
         "line": {
          "color": "green",
          "width": 2
         },
         "mode": "lines",
         "name": "Current Price",
         "showlegend": false,
         "type": "scatter",
         "x": [
          "2025-01-27T00:00:00",
          "2025-01-28T00:00:00"
         ],
         "y": {
          "bdata": "AAAAwB6FNUAAAACA69E0QA==",
          "dtype": "f8"
         }
        },
        {
         "line": {
          "color": "green",
          "width": 2
         },
         "mode": "lines",
         "name": "Current Price",
         "showlegend": false,
         "type": "scatter",
         "x": [
          "2025-01-28T00:00:00",
          "2025-01-29T00:00:00"
         ],
         "y": {
          "bdata": "AAAAgOvRNEAAAACAFK40QA==",
          "dtype": "f8"
         }
        },
        {
         "line": {
          "color": "green",
          "width": 2
         },
         "mode": "lines",
         "name": "Current Price",
         "showlegend": false,
         "type": "scatter",
         "x": [
          "2025-01-29T00:00:00",
          "2025-01-30T00:00:00"
         ],
         "y": {
          "bdata": "AAAAgBSuNEAAAACgcL01QA==",
          "dtype": "f8"
         }
        },
        {
         "line": {
          "color": "green",
          "width": 2
         },
         "mode": "lines",
         "name": "Current Price",
         "showlegend": false,
         "type": "scatter",
         "x": [
          "2025-01-30T00:00:00",
          "2025-01-31T00:00:00"
         ],
         "y": {
          "bdata": "AAAAoHC9NUAAAACAwvU1QA==",
          "dtype": "f8"
         }
        },
        {
         "line": {
          "color": "green",
          "width": 2
         },
         "mode": "lines",
         "name": "Current Price",
         "showlegend": false,
         "type": "scatter",
         "x": [
          "2025-01-31T00:00:00",
          "2025-02-03T00:00:00"
         ],
         "y": {
          "bdata": "AAAAgML1NUAAAABA4To2QA==",
          "dtype": "f8"
         }
        },
        {
         "line": {
          "color": "green",
          "width": 2
         },
         "mode": "lines",
         "name": "Current Price",
         "showlegend": false,
         "type": "scatter",
         "x": [
          "2025-02-03T00:00:00",
          "2025-02-04T00:00:00"
         ],
         "y": {
          "bdata": "AAAAQOE6NkAAAADgUXg4QA==",
          "dtype": "f8"
         }
        },
        {
         "line": {
          "color": "green",
          "width": 2
         },
         "mode": "lines",
         "name": "Current Price",
         "showlegend": false,
         "type": "scatter",
         "x": [
          "2025-02-04T00:00:00",
          "2025-02-05T00:00:00"
         ],
         "y": {
          "bdata": "AAAA4FF4OEAAAAAgXI83QA==",
          "dtype": "f8"
         }
        },
        {
         "line": {
          "color": "green",
          "width": 2
         },
         "mode": "lines",
         "name": "Current Price",
         "showlegend": false,
         "type": "scatter",
         "x": [
          "2025-02-05T00:00:00",
          "2025-02-06T00:00:00"
         ],
         "y": {
          "bdata": "AAAAIFyPN0AAAAAAKRw4QA==",
          "dtype": "f8"
         }
        },
        {
         "line": {
          "color": "green",
          "width": 2
         },
         "mode": "lines",
         "name": "Current Price",
         "showlegend": false,
         "type": "scatter",
         "x": [
          "2025-02-06T00:00:00",
          "2025-02-07T00:00:00"
         ],
         "y": {
          "bdata": "AAAAACkcOEAAAADgo/A3QA==",
          "dtype": "f8"
         }
        },
        {
         "line": {
          "color": "green",
          "width": 2
         },
         "mode": "lines",
         "name": "Current Price",
         "showlegend": false,
         "type": "scatter",
         "x": [
          "2025-02-07T00:00:00",
          "2025-02-10T00:00:00"
         ],
         "y": {
          "bdata": "AAAA4KPwN0AAAADAHoU5QA==",
          "dtype": "f8"
         }
        },
        {
         "line": {
          "color": "green",
          "width": 2
         },
         "mode": "lines",
         "name": "Current Price",
         "showlegend": false,
         "type": "scatter",
         "x": [
          "2025-02-10T00:00:00",
          "2025-02-11T00:00:00"
         ],
         "y": {
          "bdata": "AAAAwB6FOUAAAADgo7A4QA==",
          "dtype": "f8"
         }
        },
        {
         "line": {
          "color": "green",
          "width": 2
         },
         "mode": "lines",
         "name": "Current Price",
         "showlegend": false,
         "type": "scatter",
         "x": [
          "2025-02-11T00:00:00",
          "2025-02-12T00:00:00"
         ],
         "y": {
          "bdata": "AAAA4KOwOEAAAABgZiY4QA==",
          "dtype": "f8"
         }
        },
        {
         "line": {
          "color": "green",
          "width": 2
         },
         "mode": "lines",
         "name": "Current Price",
         "showlegend": false,
         "type": "scatter",
         "x": [
          "2025-02-12T00:00:00",
          "2025-02-13T00:00:00"
         ],
         "y": {
          "bdata": "AAAAYGYmOEAAAACgR2E4QA==",
          "dtype": "f8"
         }
        },
        {
         "line": {
          "color": "green",
          "width": 2
         },
         "mode": "lines",
         "name": "Current Price",
         "showlegend": false,
         "type": "scatter",
         "x": [
          "2025-02-13T00:00:00",
          "2025-02-14T00:00:00"
         ],
         "y": {
          "bdata": "AAAAoEdhOEAAAADgUbg3QA==",
          "dtype": "f8"
         }
        },
        {
         "line": {
          "color": "green",
          "width": 2
         },
         "mode": "lines",
         "name": "Current Price",
         "showlegend": false,
         "type": "scatter",
         "x": [
          "2025-02-14T00:00:00",
          "2025-02-18T00:00:00"
         ],
         "y": {
          "bdata": "AAAA4FG4N0AAAABAM3M3QA==",
          "dtype": "f8"
         }
        },
        {
         "line": {
          "color": "green",
          "width": 2
         },
         "mode": "lines",
         "name": "Current Price",
         "showlegend": false,
         "type": "scatter",
         "x": [
          "2025-02-18T00:00:00",
          "2025-02-19T00:00:00"
         ],
         "y": {
          "bdata": "AAAAQDNzN0AAAACgcP02QA==",
          "dtype": "f8"
         }
        },
        {
         "line": {
          "color": "green",
          "width": 2
         },
         "mode": "lines",
         "name": "Current Price",
         "showlegend": false,
         "type": "scatter",
         "x": [
          "2025-02-19T00:00:00",
          "2025-02-20T00:00:00"
         ],
         "y": {
          "bdata": "AAAAoHD9NkAAAACAFC43QA==",
          "dtype": "f8"
         }
        },
        {
         "line": {
          "color": "green",
          "width": 2
         },
         "mode": "lines",
         "name": "Current Price",
         "showlegend": false,
         "type": "scatter",
         "x": [
          "2025-02-20T00:00:00",
          "2025-02-21T00:00:00"
         ],
         "y": {
          "bdata": "AAAAgBQuN0AAAADAzEw4QA==",
          "dtype": "f8"
         }
        },
        {
         "line": {
          "color": "green",
          "width": 2
         },
         "mode": "lines",
         "name": "Current Price",
         "showlegend": false,
         "type": "scatter",
         "x": [
          "2025-02-21T00:00:00",
          "2025-02-24T00:00:00"
         ],
         "y": {
          "bdata": "AAAAwMxMOEAAAADAHkU4QA==",
          "dtype": "f8"
         }
        },
        {
         "line": {
          "color": "green",
          "width": 2
         },
         "mode": "lines",
         "name": "Current Price",
         "showlegend": false,
         "type": "scatter",
         "x": [
          "2025-02-24T00:00:00",
          "2025-02-25T00:00:00"
         ],
         "y": {
          "bdata": "AAAAwB5FOEAAAAAgXI83QA==",
          "dtype": "f8"
         }
        },
        {
         "line": {
          "color": "green",
          "width": 2
         },
         "mode": "lines",
         "name": "Current Price",
         "showlegend": false,
         "type": "scatter",
         "x": [
          "2025-02-25T00:00:00",
          "2025-02-26T00:00:00"
         ],
         "y": {
          "bdata": "AAAAIFyPN0AAAADAHsU3QA==",
          "dtype": "f8"
         }
        },
        {
         "line": {
          "color": "green",
          "width": 2
         },
         "mode": "lines",
         "name": "Current Price",
         "showlegend": false,
         "type": "scatter",
         "x": [
          "2025-02-26T00:00:00",
          "2025-02-27T00:00:00"
         ],
         "y": {
          "bdata": "AAAAwB7FN0AAAACAwnU3QA==",
          "dtype": "f8"
         }
        },
        {
         "line": {
          "color": "green",
          "width": 2
         },
         "mode": "lines",
         "name": "Current Price",
         "showlegend": false,
         "type": "scatter",
         "x": [
          "2025-02-27T00:00:00",
          "2025-02-28T00:00:00"
         ],
         "y": {
          "bdata": "AAAAgMJ1N0AAAABgjwI4QA==",
          "dtype": "f8"
         }
        },
        {
         "line": {
          "color": "green",
          "width": 2
         },
         "mode": "lines",
         "name": "Current Price",
         "showlegend": false,
         "type": "scatter",
         "x": [
          "2025-02-28T00:00:00",
          "2025-03-03T00:00:00"
         ],
         "y": {
          "bdata": "AAAAYI8COEAAAAAgroc2QA==",
          "dtype": "f8"
         }
        },
        {
         "line": {
          "color": "green",
          "width": 2
         },
         "mode": "lines",
         "name": "Current Price",
         "showlegend": false,
         "type": "scatter",
         "x": [
          "2025-03-03T00:00:00",
          "2025-03-04T00:00:00"
         ],
         "y": {
          "bdata": "AAAAIK6HNkAAAABAM3M2QA==",
          "dtype": "f8"
         }
        },
        {
         "line": {
          "color": "green",
          "width": 2
         },
         "mode": "lines",
         "name": "Current Price",
         "showlegend": false,
         "type": "scatter",
         "x": [
          "2025-03-04T00:00:00",
          "2025-03-05T00:00:00"
         ],
         "y": {
          "bdata": "AAAAQDNzNkAAAADA9ag5QA==",
          "dtype": "f8"
         }
        },
        {
         "line": {
          "color": "green",
          "width": 2
         },
         "mode": "lines",
         "name": "Current Price",
         "showlegend": false,
         "type": "scatter",
         "x": [
          "2025-03-05T00:00:00",
          "2025-03-06T00:00:00"
         ],
         "y": {
          "bdata": "AAAAwPWoOUAAAABgZmY4QA==",
          "dtype": "f8"
         }
        },
        {
         "line": {
          "color": "green",
          "width": 2
         },
         "mode": "lines",
         "name": "Current Price",
         "showlegend": false,
         "type": "scatter",
         "x": [
          "2025-03-06T00:00:00",
          "2025-03-07T00:00:00"
         ],
         "y": {
          "bdata": "AAAAYGZmOEAAAABA4fo4QA==",
          "dtype": "f8"
         }
        },
        {
         "line": {
          "color": "green",
          "width": 2
         },
         "mode": "lines",
         "name": "Current Price",
         "showlegend": false,
         "type": "scatter",
         "x": [
          "2025-03-07T00:00:00",
          "2025-03-10T00:00:00"
         ],
         "y": {
          "bdata": "AAAAQOH6OEAAAAAghWs4QA==",
          "dtype": "f8"
         }
        },
        {
         "line": {
          "color": "green",
          "width": 2
         },
         "mode": "lines",
         "name": "Current Price",
         "showlegend": false,
         "type": "scatter",
         "x": [
          "2025-03-10T00:00:00",
          "2025-03-11T00:00:00"
         ],
         "y": {
          "bdata": "AAAAIIVrOEAAAABgjwI4QA==",
          "dtype": "f8"
         }
        },
        {
         "line": {
          "color": "green",
          "width": 2
         },
         "mode": "lines",
         "name": "Current Price",
         "showlegend": false,
         "type": "scatter",
         "x": [
          "2025-03-11T00:00:00",
          "2025-03-12T00:00:00"
         ],
         "y": {
          "bdata": "AAAAYI8COEAAAABAClc4QA==",
          "dtype": "f8"
         }
        },
        {
         "line": {
          "color": "green",
          "width": 2
         },
         "mode": "lines",
         "name": "Current Price",
         "showlegend": false,
         "type": "scatter",
         "x": [
          "2025-03-12T00:00:00",
          "2025-03-13T00:00:00"
         ],
         "y": {
          "bdata": "AAAAQApXOEAAAACgR2E4QA==",
          "dtype": "f8"
         }
        },
        {
         "line": {
          "color": "green",
          "width": 2
         },
         "mode": "lines",
         "name": "Current Price",
         "showlegend": false,
         "type": "scatter",
         "x": [
          "2025-03-13T00:00:00",
          "2025-03-14T00:00:00"
         ],
         "y": {
          "bdata": "AAAAoEdhOEAAAADgetQ6QA==",
          "dtype": "f8"
         }
        },
        {
         "line": {
          "color": "green",
          "width": 2
         },
         "mode": "lines",
         "name": "Current Price",
         "showlegend": false,
         "type": "scatter",
         "x": [
          "2025-03-14T00:00:00",
          "2025-03-17T00:00:00"
         ],
         "y": {
          "bdata": "AAAA4HrUOkAAAADgo7A6QA==",
          "dtype": "f8"
         }
        },
        {
         "line": {
          "color": "green",
          "width": 2
         },
         "mode": "lines",
         "name": "Current Price",
         "showlegend": false,
         "type": "scatter",
         "x": [
          "2025-03-17T00:00:00",
          "2025-03-18T00:00:00"
         ],
         "y": {
          "bdata": "AAAA4KOwOkAAAADgetQ6QA==",
          "dtype": "f8"
         }
        },
        {
         "line": {
          "color": "green",
          "width": 2
         },
         "mode": "lines",
         "name": "Current Price",
         "showlegend": false,
         "type": "scatter",
         "x": [
          "2025-03-18T00:00:00",
          "2025-03-19T00:00:00"
         ],
         "y": {
          "bdata": "AAAA4HrUOkAAAAAgXM86QA==",
          "dtype": "f8"
         }
        },
        {
         "line": {
          "color": "green",
          "width": 2
         },
         "mode": "lines",
         "name": "Current Price",
         "showlegend": false,
         "type": "scatter",
         "x": [
          "2025-03-19T00:00:00",
          "2025-03-20T00:00:00"
         ],
         "y": {
          "bdata": "AAAAIFzPOkAAAAAAAEA6QA==",
          "dtype": "f8"
         }
        },
        {
         "line": {
          "color": "green",
          "width": 2
         },
         "mode": "lines",
         "name": "Current Price",
         "showlegend": false,
         "type": "scatter",
         "x": [
          "2025-03-20T00:00:00",
          "2025-03-21T00:00:00"
         ],
         "y": {
          "bdata": "AAAAAABAOkAAAABgZuY5QA==",
          "dtype": "f8"
         }
        },
        {
         "line": {
          "color": "green",
          "width": 2
         },
         "mode": "lines",
         "name": "Current Price",
         "showlegend": false,
         "type": "scatter",
         "x": [
          "2025-03-21T00:00:00",
          "2025-03-24T00:00:00"
         ],
         "y": {
          "bdata": "AAAAYGbmOUAAAACAwnU6QA==",
          "dtype": "f8"
         }
        },
        {
         "line": {
          "color": "green",
          "width": 2
         },
         "mode": "lines",
         "name": "Current Price",
         "showlegend": false,
         "type": "scatter",
         "x": [
          "2025-03-24T00:00:00",
          "2025-03-25T00:00:00"
         ],
         "y": {
          "bdata": "AAAAgMJ1OkAAAACAFO46QA==",
          "dtype": "f8"
         }
        },
        {
         "line": {
          "color": "green",
          "width": 2
         },
         "mode": "lines",
         "name": "Current Price",
         "showlegend": false,
         "type": "scatter",
         "x": [
          "2025-03-25T00:00:00",
          "2025-03-26T00:00:00"
         ],
         "y": {
          "bdata": "AAAAgBTuOkAAAAAgXA86QA==",
          "dtype": "f8"
         }
        },
        {
         "line": {
          "color": "green",
          "width": 2
         },
         "mode": "lines",
         "name": "Current Price",
         "showlegend": false,
         "type": "scatter",
         "x": [
          "2025-03-26T00:00:00",
          "2025-03-27T00:00:00"
         ],
         "y": {
          "bdata": "AAAAIFwPOkAAAAAghSs6QA==",
          "dtype": "f8"
         }
        },
        {
         "line": {
          "color": "green",
          "width": 2
         },
         "mode": "lines",
         "name": "Current Price",
         "showlegend": false,
         "type": "scatter",
         "x": [
          "2025-03-27T00:00:00",
          "2025-03-28T00:00:00"
         ],
         "y": {
          "bdata": "AAAAIIUrOkAAAADgUfg5QA==",
          "dtype": "f8"
         }
        },
        {
         "line": {
          "color": "green",
          "width": 2
         },
         "mode": "lines",
         "name": "Current Price",
         "showlegend": false,
         "type": "scatter",
         "x": [
          "2025-03-28T00:00:00",
          "2025-03-31T00:00:00"
         ],
         "y": {
          "bdata": "AAAA4FH4OUAAAADA9Wg4QA==",
          "dtype": "f8"
         }
        },
        {
         "line": {
          "color": "green",
          "width": 2
         },
         "mode": "lines",
         "name": "Current Price",
         "showlegend": false,
         "type": "scatter",
         "x": [
          "2025-03-31T00:00:00",
          "2025-04-01T00:00:00"
         ],
         "y": {
          "bdata": "AAAAwPVoOEAAAAAghSs5QA==",
          "dtype": "f8"
         }
        },
        {
         "line": {
          "color": "green",
          "width": 2
         },
         "mode": "lines",
         "name": "Current Price",
         "showlegend": false,
         "type": "scatter",
         "x": [
          "2025-04-01T00:00:00",
          "2025-04-02T00:00:00"
         ],
         "y": {
          "bdata": "AAAAIIUrOUAAAADA9Sg5QA==",
          "dtype": "f8"
         }
        },
        {
         "line": {
          "color": "green",
          "width": 2
         },
         "mode": "lines",
         "name": "Current Price",
         "showlegend": false,
         "type": "scatter",
         "x": [
          "2025-04-02T00:00:00",
          "2025-04-03T00:00:00"
         ],
         "y": {
          "bdata": "AAAAwPUoOUAAAACA69E4QA==",
          "dtype": "f8"
         }
        },
        {
         "line": {
          "color": "green",
          "width": 2
         },
         "mode": "lines",
         "name": "Current Price",
         "showlegend": false,
         "type": "scatter",
         "x": [
          "2025-04-03T00:00:00",
          "2025-04-04T00:00:00"
         ],
         "y": {
          "bdata": "AAAAgOvROEAAAAAgXA83QA==",
          "dtype": "f8"
         }
        },
        {
         "line": {
          "color": "red",
          "width": 2
         },
         "mode": "lines",
         "name": "Current Price",
         "showlegend": false,
         "type": "scatter",
         "x": [
          "2025-04-04T00:00:00",
          "2025-04-07T00:00:00"
         ],
         "y": {
          "bdata": "AAAAIFwPN0AAAACgcP03QA==",
          "dtype": "f8"
         }
        },
        {
         "line": {
          "color": "red",
          "width": 2
         },
         "mode": "lines",
         "name": "Current Price",
         "showlegend": false,
         "type": "scatter",
         "x": [
          "2025-04-07T00:00:00",
          "2025-04-08T00:00:00"
         ],
         "y": {
          "bdata": "AAAAoHD9N0AAAADgo/A1QA==",
          "dtype": "f8"
         }
        },
        {
         "line": {
          "color": "red",
          "width": 2
         },
         "mode": "lines",
         "name": "Current Price",
         "showlegend": false,
         "type": "scatter",
         "x": [
          "2025-04-08T00:00:00",
          "2025-04-09T00:00:00"
         ],
         "y": {
          "bdata": "AAAA4KPwNUAAAAAgXM83QA==",
          "dtype": "f8"
         }
        },
        {
         "line": {
          "color": "green",
          "width": 2
         },
         "mode": "lines",
         "name": "Current Price",
         "showlegend": false,
         "type": "scatter",
         "x": [
          "2025-04-09T00:00:00",
          "2025-04-10T00:00:00"
         ],
         "y": {
          "bdata": "AAAAIFzPN0AAAACAPYo3QA==",
          "dtype": "f8"
         }
        },
        {
         "line": {
          "color": "red",
          "width": 2
         },
         "mode": "lines",
         "name": "Current Price",
         "showlegend": false,
         "type": "scatter",
         "x": [
          "2025-04-10T00:00:00",
          "2025-04-11T00:00:00"
         ],
         "y": {
          "bdata": "AAAAgD2KN0AAAACAFK42QA==",
          "dtype": "f8"
         }
        },
        {
         "line": {
          "color": "red",
          "width": 2
         },
         "mode": "lines",
         "name": "Current Price",
         "showlegend": false,
         "type": "scatter",
         "x": [
          "2025-04-11T00:00:00",
          "2025-04-14T00:00:00"
         ],
         "y": {
          "bdata": "AAAAgBSuNkAAAABACpc7QA==",
          "dtype": "f8"
         }
        },
        {
         "line": {
          "color": "green",
          "width": 2
         },
         "mode": "lines",
         "name": "Current Price",
         "showlegend": false,
         "type": "scatter",
         "x": [
          "2025-04-14T00:00:00",
          "2025-04-15T00:00:00"
         ],
         "y": {
          "bdata": "AAAAQAqXO0AAAACA6xE5QA==",
          "dtype": "f8"
         }
        },
        {
         "line": {
          "color": "purple",
          "width": 2
         },
         "name": "Shifted Price",
         "type": "scatter",
         "x": [
          "2023-05-31T00:00:00",
          "2023-06-01T00:00:00",
          "2023-06-02T00:00:00",
          "2023-06-05T00:00:00",
          "2023-06-06T00:00:00",
          "2023-06-07T00:00:00",
          "2023-06-08T00:00:00",
          "2023-06-09T00:00:00",
          "2023-06-12T00:00:00",
          "2023-06-13T00:00:00",
          "2023-06-14T00:00:00",
          "2023-06-15T00:00:00",
          "2023-06-16T00:00:00",
          "2023-06-20T00:00:00",
          "2023-06-21T00:00:00",
          "2023-06-22T00:00:00",
          "2023-06-23T00:00:00",
          "2023-06-26T00:00:00",
          "2023-06-27T00:00:00",
          "2023-06-28T00:00:00",
          "2023-06-29T00:00:00",
          "2023-06-30T00:00:00",
          "2023-07-03T00:00:00",
          "2023-07-05T00:00:00",
          "2023-07-06T00:00:00",
          "2023-07-07T00:00:00",
          "2023-07-10T00:00:00",
          "2023-07-11T00:00:00",
          "2023-07-12T00:00:00",
          "2023-07-13T00:00:00",
          "2023-07-14T00:00:00",
          "2023-07-17T00:00:00",
          "2023-07-18T00:00:00",
          "2023-07-19T00:00:00",
          "2023-07-20T00:00:00",
          "2023-07-21T00:00:00",
          "2023-07-24T00:00:00",
          "2023-07-25T00:00:00",
          "2023-07-26T00:00:00",
          "2023-07-27T00:00:00",
          "2023-07-28T00:00:00",
          "2023-07-31T00:00:00",
          "2023-08-01T00:00:00",
          "2023-08-02T00:00:00",
          "2023-08-03T00:00:00",
          "2023-08-04T00:00:00",
          "2023-08-07T00:00:00",
          "2023-08-08T00:00:00",
          "2023-08-09T00:00:00",
          "2023-08-10T00:00:00",
          "2023-08-11T00:00:00",
          "2023-08-14T00:00:00",
          "2023-08-15T00:00:00",
          "2023-08-16T00:00:00",
          "2023-08-17T00:00:00",
          "2023-08-18T00:00:00",
          "2023-08-21T00:00:00",
          "2023-08-22T00:00:00",
          "2023-08-23T00:00:00",
          "2023-08-24T00:00:00",
          "2023-08-25T00:00:00",
          "2023-08-28T00:00:00",
          "2023-08-29T00:00:00",
          "2023-08-30T00:00:00",
          "2023-08-31T00:00:00",
          "2023-09-01T00:00:00",
          "2023-09-05T00:00:00",
          "2023-09-06T00:00:00",
          "2023-09-07T00:00:00",
          "2023-09-08T00:00:00",
          "2023-09-11T00:00:00",
          "2023-09-12T00:00:00",
          "2023-09-13T00:00:00",
          "2023-09-14T00:00:00",
          "2023-09-15T00:00:00",
          "2023-09-18T00:00:00",
          "2023-09-19T00:00:00",
          "2023-09-20T00:00:00",
          "2023-09-21T00:00:00",
          "2023-09-22T00:00:00",
          "2023-09-25T00:00:00",
          "2023-09-26T00:00:00",
          "2023-09-27T00:00:00",
          "2023-09-28T00:00:00",
          "2023-09-29T00:00:00",
          "2023-10-02T00:00:00",
          "2023-10-03T00:00:00",
          "2023-10-04T00:00:00",
          "2023-10-05T00:00:00",
          "2023-10-06T00:00:00",
          "2023-10-09T00:00:00",
          "2023-10-10T00:00:00",
          "2023-10-11T00:00:00",
          "2023-10-12T00:00:00",
          "2023-10-13T00:00:00",
          "2023-10-16T00:00:00",
          "2023-10-17T00:00:00",
          "2023-10-18T00:00:00",
          "2023-10-19T00:00:00",
          "2023-10-20T00:00:00",
          "2023-10-23T00:00:00",
          "2023-10-24T00:00:00",
          "2023-10-25T00:00:00",
          "2023-10-26T00:00:00",
          "2023-10-27T00:00:00",
          "2023-10-30T00:00:00",
          "2023-10-31T00:00:00",
          "2023-11-01T00:00:00",
          "2023-11-02T00:00:00",
          "2023-11-03T00:00:00",
          "2023-11-06T00:00:00",
          "2023-11-07T00:00:00",
          "2023-11-08T00:00:00",
          "2023-11-09T00:00:00",
          "2023-11-10T00:00:00",
          "2023-11-13T00:00:00",
          "2023-11-14T00:00:00",
          "2023-11-15T00:00:00",
          "2023-11-16T00:00:00",
          "2023-11-17T00:00:00",
          "2023-11-20T00:00:00",
          "2023-11-21T00:00:00",
          "2023-11-22T00:00:00",
          "2023-11-24T00:00:00",
          "2023-11-27T00:00:00",
          "2023-11-28T00:00:00",
          "2023-11-29T00:00:00",
          "2023-11-30T00:00:00",
          "2023-12-01T00:00:00",
          "2023-12-04T00:00:00",
          "2023-12-05T00:00:00",
          "2023-12-06T00:00:00",
          "2023-12-07T00:00:00",
          "2023-12-08T00:00:00",
          "2023-12-11T00:00:00",
          "2023-12-12T00:00:00",
          "2023-12-13T00:00:00",
          "2023-12-14T00:00:00",
          "2023-12-15T00:00:00",
          "2023-12-18T00:00:00",
          "2023-12-19T00:00:00",
          "2023-12-20T00:00:00",
          "2023-12-21T00:00:00",
          "2023-12-22T00:00:00",
          "2023-12-26T00:00:00",
          "2023-12-27T00:00:00",
          "2023-12-28T00:00:00",
          "2023-12-29T00:00:00",
          "2024-01-02T00:00:00",
          "2024-01-03T00:00:00",
          "2024-01-04T00:00:00",
          "2024-01-05T00:00:00",
          "2024-01-08T00:00:00",
          "2024-01-09T00:00:00",
          "2024-01-10T00:00:00",
          "2024-01-11T00:00:00",
          "2024-01-12T00:00:00",
          "2024-01-16T00:00:00",
          "2024-01-17T00:00:00",
          "2024-01-18T00:00:00",
          "2024-01-19T00:00:00",
          "2024-01-22T00:00:00",
          "2024-01-23T00:00:00",
          "2024-01-24T00:00:00",
          "2024-01-25T00:00:00",
          "2024-01-26T00:00:00",
          "2024-01-29T00:00:00",
          "2024-01-30T00:00:00",
          "2024-01-31T00:00:00",
          "2024-02-01T00:00:00",
          "2024-02-02T00:00:00",
          "2024-02-05T00:00:00",
          "2024-02-06T00:00:00",
          "2024-02-07T00:00:00",
          "2024-02-08T00:00:00",
          "2024-02-09T00:00:00",
          "2024-02-12T00:00:00",
          "2024-02-13T00:00:00",
          "2024-02-14T00:00:00",
          "2024-02-15T00:00:00",
          "2024-02-16T00:00:00",
          "2024-02-20T00:00:00",
          "2024-02-21T00:00:00",
          "2024-02-22T00:00:00",
          "2024-02-23T00:00:00",
          "2024-02-26T00:00:00",
          "2024-02-27T00:00:00",
          "2024-02-28T00:00:00",
          "2024-02-29T00:00:00",
          "2024-03-01T00:00:00",
          "2024-03-04T00:00:00",
          "2024-03-05T00:00:00",
          "2024-03-06T00:00:00",
          "2024-03-07T00:00:00",
          "2024-03-08T00:00:00",
          "2024-03-11T00:00:00",
          "2024-03-12T00:00:00",
          "2024-03-13T00:00:00",
          "2024-03-14T00:00:00",
          "2024-03-15T00:00:00",
          "2024-03-18T00:00:00",
          "2024-03-19T00:00:00",
          "2024-03-20T00:00:00",
          "2024-03-21T00:00:00",
          "2024-03-22T00:00:00",
          "2024-03-25T00:00:00",
          "2024-03-26T00:00:00",
          "2024-03-27T00:00:00",
          "2024-03-28T00:00:00",
          "2024-04-01T00:00:00",
          "2024-04-02T00:00:00",
          "2024-04-03T00:00:00",
          "2024-04-04T00:00:00",
          "2024-04-05T00:00:00",
          "2024-04-08T00:00:00",
          "2024-04-09T00:00:00",
          "2024-04-10T00:00:00",
          "2024-04-11T00:00:00",
          "2024-04-12T00:00:00",
          "2024-04-15T00:00:00",
          "2024-04-16T00:00:00",
          "2024-04-17T00:00:00",
          "2024-04-18T00:00:00",
          "2024-04-19T00:00:00",
          "2024-04-22T00:00:00",
          "2024-04-23T00:00:00",
          "2024-04-24T00:00:00",
          "2024-04-25T00:00:00",
          "2024-04-26T00:00:00",
          "2024-04-29T00:00:00",
          "2024-04-30T00:00:00",
          "2024-05-01T00:00:00",
          "2024-05-02T00:00:00",
          "2024-05-03T00:00:00",
          "2024-05-06T00:00:00",
          "2024-05-07T00:00:00",
          "2024-05-08T00:00:00",
          "2024-05-09T00:00:00",
          "2024-05-10T00:00:00",
          "2024-05-13T00:00:00",
          "2024-05-14T00:00:00",
          "2024-05-15T00:00:00",
          "2024-05-16T00:00:00",
          "2024-05-17T00:00:00",
          "2024-05-20T00:00:00",
          "2024-05-21T00:00:00",
          "2024-05-22T00:00:00",
          "2024-05-23T00:00:00",
          "2024-05-24T00:00:00",
          "2024-05-28T00:00:00",
          "2024-05-29T00:00:00",
          "2024-05-30T00:00:00",
          "2024-05-31T00:00:00",
          "2024-06-03T00:00:00",
          "2024-06-04T00:00:00",
          "2024-06-05T00:00:00",
          "2024-06-06T00:00:00",
          "2024-06-07T00:00:00",
          "2024-06-10T00:00:00",
          "2024-06-11T00:00:00",
          "2024-06-12T00:00:00",
          "2024-06-13T00:00:00",
          "2024-06-14T00:00:00",
          "2024-06-17T00:00:00",
          "2024-06-18T00:00:00",
          "2024-06-20T00:00:00",
          "2024-06-21T00:00:00",
          "2024-06-24T00:00:00",
          "2024-06-25T00:00:00",
          "2024-06-26T00:00:00",
          "2024-06-27T00:00:00",
          "2024-06-28T00:00:00",
          "2024-07-01T00:00:00",
          "2024-07-02T00:00:00",
          "2024-07-03T00:00:00",
          "2024-07-05T00:00:00",
          "2024-07-08T00:00:00",
          "2024-07-09T00:00:00",
          "2024-07-10T00:00:00",
          "2024-07-11T00:00:00",
          "2024-07-12T00:00:00",
          "2024-07-15T00:00:00",
          "2024-07-16T00:00:00",
          "2024-07-17T00:00:00",
          "2024-07-18T00:00:00",
          "2024-07-19T00:00:00",
          "2024-07-22T00:00:00",
          "2024-07-23T00:00:00",
          "2024-07-24T00:00:00",
          "2024-07-25T00:00:00",
          "2024-07-26T00:00:00",
          "2024-07-29T00:00:00",
          "2024-07-30T00:00:00",
          "2024-07-31T00:00:00",
          "2024-08-01T00:00:00",
          "2024-08-02T00:00:00",
          "2024-08-05T00:00:00",
          "2024-08-06T00:00:00",
          "2024-08-07T00:00:00",
          "2024-08-08T00:00:00",
          "2024-08-09T00:00:00",
          "2024-08-12T00:00:00",
          "2024-08-13T00:00:00",
          "2024-08-14T00:00:00",
          "2024-08-15T00:00:00",
          "2024-08-16T00:00:00",
          "2024-08-19T00:00:00",
          "2024-08-20T00:00:00",
          "2024-08-21T00:00:00",
          "2024-08-22T00:00:00",
          "2024-08-23T00:00:00",
          "2024-08-26T00:00:00",
          "2024-08-27T00:00:00",
          "2024-08-28T00:00:00",
          "2024-08-29T00:00:00",
          "2024-08-30T00:00:00",
          "2024-09-03T00:00:00",
          "2024-09-04T00:00:00",
          "2024-09-05T00:00:00",
          "2024-09-06T00:00:00",
          "2024-09-09T00:00:00",
          "2024-09-10T00:00:00",
          "2024-09-11T00:00:00",
          "2024-09-12T00:00:00",
          "2024-09-13T00:00:00",
          "2024-09-16T00:00:00",
          "2024-09-17T00:00:00",
          "2024-09-18T00:00:00",
          "2024-09-19T00:00:00",
          "2024-09-20T00:00:00",
          "2024-09-23T00:00:00",
          "2024-09-24T00:00:00",
          "2024-09-25T00:00:00",
          "2024-09-26T00:00:00",
          "2024-09-27T00:00:00",
          "2024-09-30T00:00:00",
          "2024-10-01T00:00:00",
          "2024-10-02T00:00:00",
          "2024-10-03T00:00:00",
          "2024-10-04T00:00:00",
          "2024-10-07T00:00:00",
          "2024-10-08T00:00:00",
          "2024-10-09T00:00:00",
          "2024-10-10T00:00:00",
          "2024-10-11T00:00:00",
          "2024-10-14T00:00:00",
          "2024-10-15T00:00:00",
          "2024-10-16T00:00:00",
          "2024-10-17T00:00:00",
          "2024-10-18T00:00:00",
          "2024-10-21T00:00:00",
          "2024-10-22T00:00:00",
          "2024-10-23T00:00:00",
          "2024-10-24T00:00:00",
          "2024-10-25T00:00:00",
          "2024-10-28T00:00:00",
          "2024-10-29T00:00:00",
          "2024-10-30T00:00:00",
          "2024-10-31T00:00:00",
          "2024-11-01T00:00:00",
          "2024-11-04T00:00:00",
          "2024-11-05T00:00:00",
          "2024-11-06T00:00:00",
          "2024-11-07T00:00:00",
          "2024-11-08T00:00:00",
          "2024-11-11T00:00:00",
          "2024-11-12T00:00:00",
          "2024-11-13T00:00:00",
          "2024-11-14T00:00:00",
          "2024-11-15T00:00:00",
          "2024-11-18T00:00:00",
          "2024-11-19T00:00:00",
          "2024-11-20T00:00:00",
          "2024-11-21T00:00:00",
          "2024-11-22T00:00:00",
          "2024-11-25T00:00:00",
          "2024-11-26T00:00:00",
          "2024-11-27T00:00:00",
          "2024-11-29T00:00:00",
          "2024-12-02T00:00:00",
          "2024-12-03T00:00:00",
          "2024-12-04T00:00:00",
          "2024-12-05T00:00:00",
          "2024-12-06T00:00:00",
          "2024-12-09T00:00:00",
          "2024-12-10T00:00:00",
          "2024-12-11T00:00:00",
          "2024-12-12T00:00:00",
          "2024-12-13T00:00:00",
          "2024-12-16T00:00:00",
          "2024-12-17T00:00:00",
          "2024-12-18T00:00:00",
          "2024-12-19T00:00:00",
          "2024-12-20T00:00:00",
          "2024-12-23T00:00:00",
          "2024-12-24T00:00:00",
          "2024-12-26T00:00:00",
          "2024-12-27T00:00:00",
          "2024-12-30T00:00:00",
          "2024-12-31T00:00:00",
          "2025-01-02T00:00:00",
          "2025-01-03T00:00:00",
          "2025-01-06T00:00:00",
          "2025-01-07T00:00:00",
          "2025-01-08T00:00:00",
          "2025-01-10T00:00:00",
          "2025-01-13T00:00:00",
          "2025-01-14T00:00:00",
          "2025-01-15T00:00:00",
          "2025-01-16T00:00:00",
          "2025-01-17T00:00:00",
          "2025-01-21T00:00:00",
          "2025-01-22T00:00:00",
          "2025-01-23T00:00:00",
          "2025-01-24T00:00:00",
          "2025-01-27T00:00:00",
          "2025-01-28T00:00:00",
          "2025-01-29T00:00:00",
          "2025-01-30T00:00:00",
          "2025-01-31T00:00:00",
          "2025-02-03T00:00:00",
          "2025-02-04T00:00:00",
          "2025-02-05T00:00:00",
          "2025-02-06T00:00:00",
          "2025-02-07T00:00:00",
          "2025-02-10T00:00:00",
          "2025-02-11T00:00:00",
          "2025-02-12T00:00:00",
          "2025-02-13T00:00:00",
          "2025-02-14T00:00:00",
          "2025-02-18T00:00:00",
          "2025-02-19T00:00:00",
          "2025-02-20T00:00:00",
          "2025-02-21T00:00:00",
          "2025-02-24T00:00:00",
          "2025-02-25T00:00:00",
          "2025-02-26T00:00:00",
          "2025-02-27T00:00:00",
          "2025-02-28T00:00:00",
          "2025-03-03T00:00:00",
          "2025-03-04T00:00:00",
          "2025-03-05T00:00:00",
          "2025-03-06T00:00:00",
          "2025-03-07T00:00:00",
          "2025-03-10T00:00:00",
          "2025-03-11T00:00:00",
          "2025-03-12T00:00:00",
          "2025-03-13T00:00:00",
          "2025-03-14T00:00:00",
          "2025-03-17T00:00:00",
          "2025-03-18T00:00:00",
          "2025-03-19T00:00:00",
          "2025-03-20T00:00:00",
          "2025-03-21T00:00:00",
          "2025-03-24T00:00:00",
          "2025-03-25T00:00:00",
          "2025-03-26T00:00:00",
          "2025-03-27T00:00:00",
          "2025-03-28T00:00:00",
          "2025-03-31T00:00:00",
          "2025-04-01T00:00:00",
          "2025-04-02T00:00:00",
          "2025-04-03T00:00:00",
          "2025-04-04T00:00:00",
          "2025-04-07T00:00:00",
          "2025-04-08T00:00:00",
          "2025-04-09T00:00:00",
          "2025-04-10T00:00:00",
          "2025-04-11T00:00:00",
          "2025-04-14T00:00:00",
          "2025-04-15T00:00:00"
         ],
         "y": {
          "bdata": "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",
          "dtype": "f8"
         }
        }
       ],
       "layout": {
        "template": {
         "data": {
          "bar": [
           {
            "error_x": {
             "color": "#f2f5fa"
            },
            "error_y": {
             "color": "#f2f5fa"
            },
            "marker": {
             "line": {
              "color": "rgb(17,17,17)",
              "width": 0.5
             },
             "pattern": {
              "fillmode": "overlay",
              "size": 10,
              "solidity": 0.2
             }
            },
            "type": "bar"
           }
          ],
          "barpolar": [
           {
            "marker": {
             "line": {
              "color": "rgb(17,17,17)",
              "width": 0.5
             },
             "pattern": {
              "fillmode": "overlay",
              "size": 10,
              "solidity": 0.2
             }
            },
            "type": "barpolar"
           }
          ],
          "carpet": [
           {
            "aaxis": {
             "endlinecolor": "#A2B1C6",
             "gridcolor": "#506784",
             "linecolor": "#506784",
             "minorgridcolor": "#506784",
             "startlinecolor": "#A2B1C6"
            },
            "baxis": {
             "endlinecolor": "#A2B1C6",
             "gridcolor": "#506784",
             "linecolor": "#506784",
             "minorgridcolor": "#506784",
             "startlinecolor": "#A2B1C6"
            },
            "type": "carpet"
           }
          ],
          "choropleth": [
           {
            "colorbar": {
             "outlinewidth": 0,
             "ticks": ""
            },
            "type": "choropleth"
           }
          ],
          "contour": [
           {
            "colorbar": {
             "outlinewidth": 0,
             "ticks": ""
            },
            "colorscale": [
             [
              0,
              "#0d0887"
             ],
             [
              0.1111111111111111,
              "#46039f"
             ],
             [
              0.2222222222222222,
              "#7201a8"
             ],
             [
              0.3333333333333333,
              "#9c179e"
             ],
             [
              0.4444444444444444,
              "#bd3786"
             ],
             [
              0.5555555555555556,
              "#d8576b"
             ],
             [
              0.6666666666666666,
              "#ed7953"
             ],
             [
              0.7777777777777778,
              "#fb9f3a"
             ],
             [
              0.8888888888888888,
              "#fdca26"
             ],
             [
              1,
              "#f0f921"
             ]
            ],
            "type": "contour"
           }
          ],
          "contourcarpet": [
           {
            "colorbar": {
             "outlinewidth": 0,
             "ticks": ""
            },
            "type": "contourcarpet"
           }
          ],
          "heatmap": [
           {
            "colorbar": {
             "outlinewidth": 0,
             "ticks": ""
            },
            "colorscale": [
             [
              0,
              "#0d0887"
             ],
             [
              0.1111111111111111,
              "#46039f"
             ],
             [
              0.2222222222222222,
              "#7201a8"
             ],
             [
              0.3333333333333333,
              "#9c179e"
             ],
             [
              0.4444444444444444,
              "#bd3786"
             ],
             [
              0.5555555555555556,
              "#d8576b"
             ],
             [
              0.6666666666666666,
              "#ed7953"
             ],
             [
              0.7777777777777778,
              "#fb9f3a"
             ],
             [
              0.8888888888888888,
              "#fdca26"
             ],
             [
              1,
              "#f0f921"
             ]
            ],
            "type": "heatmap"
           }
          ],
          "histogram": [
           {
            "marker": {
             "pattern": {
              "fillmode": "overlay",
              "size": 10,
              "solidity": 0.2
             }
            },
            "type": "histogram"
           }
          ],
          "histogram2d": [
           {
            "colorbar": {
             "outlinewidth": 0,
             "ticks": ""
            },
            "colorscale": [
             [
              0,
              "#0d0887"
             ],
             [
              0.1111111111111111,
              "#46039f"
             ],
             [
              0.2222222222222222,
              "#7201a8"
             ],
             [
              0.3333333333333333,
              "#9c179e"
             ],
             [
              0.4444444444444444,
              "#bd3786"
             ],
             [
              0.5555555555555556,
              "#d8576b"
             ],
             [
              0.6666666666666666,
              "#ed7953"
             ],
             [
              0.7777777777777778,
              "#fb9f3a"
             ],
             [
              0.8888888888888888,
              "#fdca26"
             ],
             [
              1,
              "#f0f921"
             ]
            ],
            "type": "histogram2d"
           }
          ],
          "histogram2dcontour": [
           {
            "colorbar": {
             "outlinewidth": 0,
             "ticks": ""
            },
            "colorscale": [
             [
              0,
              "#0d0887"
             ],
             [
              0.1111111111111111,
              "#46039f"
             ],
             [
              0.2222222222222222,
              "#7201a8"
             ],
             [
              0.3333333333333333,
              "#9c179e"
             ],
             [
              0.4444444444444444,
              "#bd3786"
             ],
             [
              0.5555555555555556,
              "#d8576b"
             ],
             [
              0.6666666666666666,
              "#ed7953"
             ],
             [
              0.7777777777777778,
              "#fb9f3a"
             ],
             [
              0.8888888888888888,
              "#fdca26"
             ],
             [
              1,
              "#f0f921"
             ]
            ],
            "type": "histogram2dcontour"
           }
          ],
          "mesh3d": [
           {
            "colorbar": {
             "outlinewidth": 0,
             "ticks": ""
            },
            "type": "mesh3d"
           }
          ],
          "parcoords": [
           {
            "line": {
             "colorbar": {
              "outlinewidth": 0,
              "ticks": ""
             }
            },
            "type": "parcoords"
           }
          ],
          "pie": [
           {
            "automargin": true,
            "type": "pie"
           }
          ],
          "scatter": [
           {
            "marker": {
             "line": {
              "color": "#283442"
             }
            },
            "type": "scatter"
           }
          ],
          "scatter3d": [
           {
            "line": {
             "colorbar": {
              "outlinewidth": 0,
              "ticks": ""
             }
            },
            "marker": {
             "colorbar": {
              "outlinewidth": 0,
              "ticks": ""
             }
            },
            "type": "scatter3d"
           }
          ],
          "scattercarpet": [
           {
            "marker": {
             "colorbar": {
              "outlinewidth": 0,
              "ticks": ""
             }
            },
            "type": "scattercarpet"
           }
          ],
          "scattergeo": [
           {
            "marker": {
             "colorbar": {
              "outlinewidth": 0,
              "ticks": ""
             }
            },
            "type": "scattergeo"
           }
          ],
          "scattergl": [
           {
            "marker": {
             "line": {
              "color": "#283442"
             }
            },
            "type": "scattergl"
           }
          ],
          "scattermapbox": [
           {
            "marker": {
             "colorbar": {
              "outlinewidth": 0,
              "ticks": ""
             }
            },
            "type": "scattermapbox"
           }
          ],
          "scatterpolar": [
           {
            "marker": {
             "colorbar": {
              "outlinewidth": 0,
              "ticks": ""
             }
            },
            "type": "scatterpolar"
           }
          ],
          "scatterpolargl": [
           {
            "marker": {
             "colorbar": {
              "outlinewidth": 0,
              "ticks": ""
             }
            },
            "type": "scatterpolargl"
           }
          ],
          "scatterternary": [
           {
            "marker": {
             "colorbar": {
              "outlinewidth": 0,
              "ticks": ""
             }
            },
            "type": "scatterternary"
           }
          ],
          "surface": [
           {
            "colorbar": {
             "outlinewidth": 0,
             "ticks": ""
            },
            "colorscale": [
             [
              0,
              "#0d0887"
             ],
             [
              0.1111111111111111,
              "#46039f"
             ],
             [
              0.2222222222222222,
              "#7201a8"
             ],
             [
              0.3333333333333333,
              "#9c179e"
             ],
             [
              0.4444444444444444,
              "#bd3786"
             ],
             [
              0.5555555555555556,
              "#d8576b"
             ],
             [
              0.6666666666666666,
              "#ed7953"
             ],
             [
              0.7777777777777778,
              "#fb9f3a"
             ],
             [
              0.8888888888888888,
              "#fdca26"
             ],
             [
              1,
              "#f0f921"
             ]
            ],
            "type": "surface"
           }
          ],
          "table": [
           {
            "cells": {
             "fill": {
              "color": "#506784"
             },
             "line": {
              "color": "rgb(17,17,17)"
             }
            },
            "header": {
             "fill": {
              "color": "#2a3f5f"
             },
             "line": {
              "color": "rgb(17,17,17)"
             }
            },
            "type": "table"
           }
          ]
         },
         "layout": {
          "annotationdefaults": {
           "arrowcolor": "#f2f5fa",
           "arrowhead": 0,
           "arrowwidth": 1
          },
          "annotations": [
           {
            "font": {
             "color": "black",
             "size": 90
            },
            "name": "draft watermark",
            "opacity": 0.1,
            "showarrow": false,
            "text": "humblDATA",
            "textangle": -25,
            "x": 0.5,
            "xref": "paper",
            "y": 0.5,
            "yref": "paper"
           }
          ],
          "autotypenumbers": "strict",
          "coloraxis": {
           "colorbar": {
            "outlinewidth": 0,
            "ticks": ""
           }
          },
          "colorscale": {
           "diverging": [
            [
             0,
             "#8e0152"
            ],
            [
             0.1,
             "#c51b7d"
            ],
            [
             0.2,
             "#de77ae"
            ],
            [
             0.3,
             "#f1b6da"
            ],
            [
             0.4,
             "#fde0ef"
            ],
            [
             0.5,
             "#f7f7f7"
            ],
            [
             0.6,
             "#e6f5d0"
            ],
            [
             0.7,
             "#b8e186"
            ],
            [
             0.8,
             "#7fbc41"
            ],
            [
             0.9,
             "#4d9221"
            ],
            [
             1,
             "#276419"
            ]
           ],
           "sequential": [
            [
             0,
             "#0d0887"
            ],
            [
             0.1111111111111111,
             "#46039f"
            ],
            [
             0.2222222222222222,
             "#7201a8"
            ],
            [
             0.3333333333333333,
             "#9c179e"
            ],
            [
             0.4444444444444444,
             "#bd3786"
            ],
            [
             0.5555555555555556,
             "#d8576b"
            ],
            [
             0.6666666666666666,
             "#ed7953"
            ],
            [
             0.7777777777777778,
             "#fb9f3a"
            ],
            [
             0.8888888888888888,
             "#fdca26"
            ],
            [
             1,
             "#f0f921"
            ]
           ],
           "sequentialminus": [
            [
             0,
             "#0d0887"
            ],
            [
             0.1111111111111111,
             "#46039f"
            ],
            [
             0.2222222222222222,
             "#7201a8"
            ],
            [
             0.3333333333333333,
             "#9c179e"
            ],
            [
             0.4444444444444444,
             "#bd3786"
            ],
            [
             0.5555555555555556,
             "#d8576b"
            ],
            [
             0.6666666666666666,
             "#ed7953"
            ],
            [
             0.7777777777777778,
             "#fb9f3a"
            ],
            [
             0.8888888888888888,
             "#fdca26"
            ],
            [
             1,
             "#f0f921"
            ]
           ]
          },
          "colorway": [
           "#636efa",
           "#EF553B",
           "#00cc96",
           "#ab63fa",
           "#FFA15A",
           "#19d3f3",
           "#FF6692",
           "#B6E880",
           "#FF97FF",
           "#FECB52"
          ],
          "font": {
           "color": "white"
          },
          "geo": {
           "bgcolor": "rgb(17,17,17)",
           "lakecolor": "rgb(17,17,17)",
           "landcolor": "rgb(17,17,17)",
           "showlakes": true,
           "showland": true,
           "subunitcolor": "#506784"
          },
          "hoverlabel": {
           "align": "left"
          },
          "hovermode": "closest",
          "legend": {
           "bgcolor": "rgb(0,0,0,0)",
           "bordercolor": "rgb(63,70,139)",
           "borderwidth": 0.5,
           "font": {
            "color": "white",
            "family": "open-sans",
            "size": 12
           },
           "orientation": "h",
           "traceorder": "normal",
           "x": 0.5,
           "xanchor": "center",
           "y": -0.15
          },
          "mapbox": {
           "style": "dark"
          },
          "paper_bgcolor": "rgb(0,0,0,0)",
          "plot_bgcolor": "rgb(0,0,0,0)",
          "polar": {
           "angularaxis": {
            "gridcolor": "#506784",
            "linecolor": "#506784",
            "ticks": ""
           },
           "bgcolor": "rgb(17,17,17)",
           "radialaxis": {
            "gridcolor": "#506784",
            "linecolor": "#506784",
            "ticks": ""
           }
          },
          "scene": {
           "xaxis": {
            "backgroundcolor": "rgb(17,17,17)",
            "gridcolor": "#506784",
            "gridwidth": 2,
            "linecolor": "#506784",
            "showbackground": true,
            "ticks": "",
            "zerolinecolor": "#C8D4E3"
           },
           "yaxis": {
            "backgroundcolor": "rgb(17,17,17)",
            "gridcolor": "#506784",
            "gridwidth": 2,
            "linecolor": "#506784",
            "showbackground": true,
            "ticks": "",
            "zerolinecolor": "#C8D4E3"
           },
           "zaxis": {
            "backgroundcolor": "rgb(17,17,17)",
            "gridcolor": "#506784",
            "gridwidth": 2,
            "linecolor": "#506784",
            "showbackground": true,
            "ticks": "",
            "zerolinecolor": "#C8D4E3"
           }
          },
          "shapedefaults": {
           "line": {
            "color": "#f2f5fa"
           }
          },
          "sliderdefaults": {
           "bgcolor": "#C8D4E3",
           "bordercolor": "rgb(17,17,17)",
           "borderwidth": 1,
           "tickwidth": 0
          },
          "ternary": {
           "aaxis": {
            "gridcolor": "#506784",
            "linecolor": "#506784",
            "ticks": ""
           },
           "baxis": {
            "gridcolor": "#506784",
            "linecolor": "#506784",
            "ticks": ""
           },
           "bgcolor": "rgb(17,17,17)",
           "caxis": {
            "gridcolor": "#506784",
            "linecolor": "#506784",
            "ticks": ""
           }
          },
          "title": {
           "x": 0.05
          },
          "updatemenudefaults": {
           "bgcolor": "#506784",
           "borderwidth": 0
          },
          "xaxis": {
           "automargin": true,
           "gridcolor": "#283442",
           "linecolor": "#506784",
           "ticks": "",
           "title": {
            "standoff": 15
           },
           "zerolinecolor": "#283442",
           "zerolinewidth": 2
          },
          "yaxis": {
           "automargin": true,
           "gridcolor": "#283442",
           "linecolor": "#506784",
           "side": "right",
           "ticks": "",
           "title": {
            "standoff": 15
           },
           "zerolinecolor": "#283442",
           "zerolinewidth": 2
          }
         }
        },
        "title": {
         "text": "Momentum Shift Analysis for MP"
        },
        "xaxis": {
         "title": {
          "text": "Date"
         }
        },
        "yaxis": {
         "title": {
          "text": "Price"
         }
        }
       }
      }
     },
     "metadata": {},
     "output_type": "display_data"
    }
   ],
   "source": [
    "result.show()"
   ]
  },
  {
   "cell_type": "code",
   "execution_count": 114,
   "metadata": {},
   "outputs": [
    {
     "name": "stderr",
     "output_type": "stream",
     "text": [
      "\u001b[1;35mINFO:\u001b[0m \u001b[36mMomentumFetcher\u001b[0m || \u001b[32mSTART: fetch_data (sync)\u001b[0m\n",
      "\u001b[1;35mDEBUG:\u001b[0m \u001b[36mMomentumFetcher\u001b[0m || \u001b[34mRunning .transform_query()\u001b[0m\n",
      "\u001b[1;35mDEBUG:\u001b[0m \u001b[36mMomentumFetcher\u001b[0m || \u001b[34mRunning .extract_data()\u001b[0m\n"
     ]
    },
    {
     "name": "stderr",
     "output_type": "stream",
     "text": [
      "\u001b[1;35mDEBUG:\u001b[0m \u001b[36mMomentumFetcher\u001b[0m || \u001b[34mRunning .transform_data()\u001b[0m\n",
      "\u001b[1;35mDEBUG:\u001b[0m \u001b[36mMomentumFetcher\u001b[0m || \u001b[34mTransforming data with momentum calculation\u001b[0m\n",
      "\u001b[1;35mDEBUG:\u001b[0m \u001b[36mMomentumModel\u001b[0m || \u001b[34mCalculating momentum using method: simple, window: 31\u001b[0m\n",
      "\u001b[1;35mDEBUG:\u001b[0m \u001b[36mMomentumModel\u001b[0m || \u001b[34mUsing simple ROC calculation\u001b[0m\n",
      "\u001b[1;35mINFO:\u001b[0m \u001b[36mMomentumFetcher\u001b[0m || \u001b[32mEND: fetch_data (sync) - Total time: 0.2889s\u001b[0m\n",
      "\u001b[1;35mINFO:\u001b[0m \u001b[36mMomentumFetcher\u001b[0m || \u001b[32mSTART: fetch_data (sync)\u001b[0m\n",
      "\u001b[1;35mDEBUG:\u001b[0m \u001b[36mMomentumFetcher\u001b[0m || \u001b[34mRunning .transform_query()\u001b[0m\n",
      "\u001b[1;35mDEBUG:\u001b[0m \u001b[36mMomentumFetcher\u001b[0m || \u001b[34mRunning .extract_data()\u001b[0m\n",
      "\u001b[1;35mDEBUG:\u001b[0m \u001b[36mMomentumFetcher\u001b[0m || \u001b[34mRunning .transform_data()\u001b[0m\n",
      "\u001b[1;35mDEBUG:\u001b[0m \u001b[36mMomentumFetcher\u001b[0m || \u001b[34mTransforming data with momentum calculation\u001b[0m\n",
      "\u001b[1;35mDEBUG:\u001b[0m \u001b[36mMomentumModel\u001b[0m || \u001b[34mCalculating momentum using method: log, window: 31\u001b[0m\n",
      "\u001b[1;35mDEBUG:\u001b[0m \u001b[36mMomentumModel\u001b[0m || \u001b[34mUsing logarithmic ROC calculation\u001b[0m\n",
      "\u001b[1;35mINFO:\u001b[0m \u001b[36mMomentumFetcher\u001b[0m || \u001b[32mEND: fetch_data (sync) - Total time: 0.2881s\u001b[0m\n"
     ]
    }
   ],
   "source": [
    "# If you want to try different methods:\n",
    "# Simple ROC\n",
    "simple_momentum = toolbox.technical.momentum(\n",
    "    method=\"simple\",\n",
    "    window=\"1mo\",\n",
    "    chart=True,\n",
    "    template=\"humbl_dark\"\n",
    ")\n",
    "\n",
    "# Shift with log\n",
    "log_momentum = toolbox.technical.momentum(\n",
    "    method=\"log\",\n",
    "    window=\"1mo\",\n",
    "    chart=True,\n",
    "    template=\"humbl_dark\"\n",
    ")"
   ]
  },
  {
   "cell_type": "code",
   "execution_count": 115,
   "metadata": {},
   "outputs": [
    {
     "data": {
      "text/html": [
       "<div><style>\n",
       ".dataframe > thead > tr,\n",
       ".dataframe > tbody > tr {\n",
       "  text-align: right;\n",
       "  white-space: pre-wrap;\n",
       "}\n",
       "</style>\n",
       "<small>shape: (220, 5)</small><table border=\"1\" class=\"dataframe\"><thead><tr><th>date</th><th>close</th><th>symbol</th><th>momentum</th><th>momentum_signal</th></tr><tr><td>date</td><td>f64</td><td>str</td><td>f64</td><td>i8</td></tr></thead><tbody><tr><td>2024-05-29</td><td>526.099976</td><td>&quot;SPY&quot;</td><td>0.042918</td><td>1</td></tr><tr><td>2024-05-30</td><td>522.609985</td><td>&quot;SPY&quot;</td><td>0.037892</td><td>1</td></tr><tr><td>2024-05-31</td><td>527.369995</td><td>&quot;SPY&quot;</td><td>0.053581</td><td>1</td></tr><tr><td>2024-06-03</td><td>527.799988</td><td>&quot;SPY&quot;</td><td>0.056614</td><td>1</td></tr><tr><td>2024-06-04</td><td>528.390015</td><td>&quot;SPY&quot;</td><td>0.06711</td><td>1</td></tr><tr><td>&hellip;</td><td>&hellip;</td><td>&hellip;</td><td>&hellip;</td><td>&hellip;</td></tr><tr><td>2025-04-08</td><td>496.480011</td><td>&quot;SPY&quot;</td><td>-0.168668</td><td>0</td></tr><tr><td>2025-04-09</td><td>548.619995</td><td>&quot;SPY&quot;</td><td>-0.07677</td><td>0</td></tr><tr><td>2025-04-10</td><td>524.580017</td><td>&quot;SPY&quot;</td><td>-0.117671</td><td>0</td></tr><tr><td>2025-04-11</td><td>533.940002</td><td>&quot;SPY&quot;</td><td>-0.08736</td><td>0</td></tr><tr><td>2025-04-14</td><td>539.119995</td><td>&quot;SPY&quot;</td><td>-0.092666</td><td>0</td></tr></tbody></table></div>"
      ],
      "text/plain": [
       "shape: (220, 5)\n",
       "┌────────────┬────────────┬────────┬───────────┬─────────────────┐\n",
       "│ date       ┆ close      ┆ symbol ┆ momentum  ┆ momentum_signal │\n",
       "│ ---        ┆ ---        ┆ ---    ┆ ---       ┆ ---             │\n",
       "│ date       ┆ f64        ┆ str    ┆ f64       ┆ i8              │\n",
       "╞════════════╪════════════╪════════╪═══════════╪═════════════════╡\n",
       "│ 2024-05-29 ┆ 526.099976 ┆ SPY    ┆ 0.042918  ┆ 1               │\n",
       "│ 2024-05-30 ┆ 522.609985 ┆ SPY    ┆ 0.037892  ┆ 1               │\n",
       "│ 2024-05-31 ┆ 527.369995 ┆ SPY    ┆ 0.053581  ┆ 1               │\n",
       "│ 2024-06-03 ┆ 527.799988 ┆ SPY    ┆ 0.056614  ┆ 1               │\n",
       "│ 2024-06-04 ┆ 528.390015 ┆ SPY    ┆ 0.06711   ┆ 1               │\n",
       "│ …          ┆ …          ┆ …      ┆ …         ┆ …               │\n",
       "│ 2025-04-08 ┆ 496.480011 ┆ SPY    ┆ -0.168668 ┆ 0               │\n",
       "│ 2025-04-09 ┆ 548.619995 ┆ SPY    ┆ -0.07677  ┆ 0               │\n",
       "│ 2025-04-10 ┆ 524.580017 ┆ SPY    ┆ -0.117671 ┆ 0               │\n",
       "│ 2025-04-11 ┆ 533.940002 ┆ SPY    ┆ -0.08736  ┆ 0               │\n",
       "│ 2025-04-14 ┆ 539.119995 ┆ SPY    ┆ -0.092666 ┆ 0               │\n",
       "└────────────┴────────────┴────────┴───────────┴─────────────────┘"
      ]
     },
     "execution_count": 115,
     "metadata": {},
     "output_type": "execute_result"
    }
   ],
   "source": [
    "simple_momentum.to_polars()"
   ]
  },
  {
   "cell_type": "code",
   "execution_count": 116,
   "metadata": {},
   "outputs": [
    {
     "data": {
      "application/vnd.plotly.v1+json": {
       "config": {
        "plotlyServerURL": "https://plot.ly"
       },
       "data": [
        {
         "line": {
          "color": "green",
          "width": 2
         },
         "mode": "lines",
         "name": "Price",
         "showlegend": true,
         "type": "scatter",
         "x": [
          "2024-05-29T00:00:00",
          "2024-05-30T00:00:00"
         ],
         "y": {
          "bdata": "AAAAwMxwgEAAAABA4VSAQA==",
          "dtype": "f8"
         }
        },
        {
         "line": {
          "color": "green",
          "width": 2
         },
         "mode": "lines",
         "name": "Price",
         "showlegend": false,
         "type": "scatter",
         "x": [
          "2024-05-30T00:00:00",
          "2024-05-31T00:00:00"
         ],
         "y": {
          "bdata": "AAAAQOFUgEAAAADA9XqAQA==",
          "dtype": "f8"
         }
        },
        {
         "line": {
          "color": "green",
          "width": 2
         },
         "mode": "lines",
         "name": "Price",
         "showlegend": false,
         "type": "scatter",
         "x": [
          "2024-05-31T00:00:00",
          "2024-06-03T00:00:00"
         ],
         "y": {
          "bdata": "AAAAwPV6gEAAAABgZn6AQA==",
          "dtype": "f8"
         }
        },
        {
         "line": {
          "color": "green",
          "width": 2
         },
         "mode": "lines",
         "name": "Price",
         "showlegend": false,
         "type": "scatter",
         "x": [
          "2024-06-03T00:00:00",
          "2024-06-04T00:00:00"
         ],
         "y": {
          "bdata": "AAAAYGZ+gEAAAADAHoOAQA==",
          "dtype": "f8"
         }
        },
        {
         "line": {
          "color": "green",
          "width": 2
         },
         "mode": "lines",
         "name": "Price",
         "showlegend": false,
         "type": "scatter",
         "x": [
          "2024-06-04T00:00:00",
          "2024-06-05T00:00:00"
         ],
         "y": {
          "bdata": "AAAAwB6DgEAAAAAgXLWAQA==",
          "dtype": "f8"
         }
        },
        {
         "line": {
          "color": "green",
          "width": 2
         },
         "mode": "lines",
         "name": "Price",
         "showlegend": false,
         "type": "scatter",
         "x": [
          "2024-06-05T00:00:00",
          "2024-06-06T00:00:00"
         ],
         "y": {
          "bdata": "AAAAIFy1gEAAAACgR7WAQA==",
          "dtype": "f8"
         }
        },
        {
         "line": {
          "color": "green",
          "width": 2
         },
         "mode": "lines",
         "name": "Price",
         "showlegend": false,
         "type": "scatter",
         "x": [
          "2024-06-06T00:00:00",
          "2024-06-07T00:00:00"
         ],
         "y": {
          "bdata": "AAAAoEe1gEAAAACAFLCAQA==",
          "dtype": "f8"
         }
        },
        {
         "line": {
          "color": "green",
          "width": 2
         },
         "mode": "lines",
         "name": "Price",
         "showlegend": false,
         "type": "scatter",
         "x": [
          "2024-06-07T00:00:00",
          "2024-06-10T00:00:00"
         ],
         "y": {
          "bdata": "AAAAgBSwgEAAAACgR72AQA==",
          "dtype": "f8"
         }
        },
        {
         "line": {
          "color": "green",
          "width": 2
         },
         "mode": "lines",
         "name": "Price",
         "showlegend": false,
         "type": "scatter",
         "x": [
          "2024-06-10T00:00:00",
          "2024-06-11T00:00:00"
         ],
         "y": {
          "bdata": "AAAAoEe9gEAAAACgmceAQA==",
          "dtype": "f8"
         }
        },
        {
         "line": {
          "color": "green",
          "width": 2
         },
         "mode": "lines",
         "name": "Price",
         "showlegend": false,
         "type": "scatter",
         "x": [
          "2024-06-11T00:00:00",
          "2024-06-12T00:00:00"
         ],
         "y": {
          "bdata": "AAAAoJnHgEAAAABA4eqAQA==",
          "dtype": "f8"
         }
        },
        {
         "line": {
          "color": "green",
          "width": 2
         },
         "mode": "lines",
         "name": "Price",
         "showlegend": false,
         "type": "scatter",
         "x": [
          "2024-06-12T00:00:00",
          "2024-06-13T00:00:00"
         ],
         "y": {
          "bdata": "AAAAQOHqgEAAAACgmfOAQA==",
          "dtype": "f8"
         }
        },
        {
         "line": {
          "color": "green",
          "width": 2
         },
         "mode": "lines",
         "name": "Price",
         "showlegend": false,
         "type": "scatter",
         "x": [
          "2024-06-13T00:00:00",
          "2024-06-14T00:00:00"
         ],
         "y": {
          "bdata": "AAAAoJnzgEAAAACAPfaAQA==",
          "dtype": "f8"
         }
        },
        {
         "line": {
          "color": "green",
          "width": 2
         },
         "mode": "lines",
         "name": "Price",
         "showlegend": false,
         "type": "scatter",
         "x": [
          "2024-06-14T00:00:00",
          "2024-06-17T00:00:00"
         ],
         "y": {
          "bdata": "AAAAgD32gEAAAADAzBiBQA==",
          "dtype": "f8"
         }
        },
        {
         "line": {
          "color": "green",
          "width": 2
         },
         "mode": "lines",
         "name": "Price",
         "showlegend": false,
         "type": "scatter",
         "x": [
          "2024-06-17T00:00:00",
          "2024-06-18T00:00:00"
         ],
         "y": {
          "bdata": "AAAAwMwYgUAAAACA6yOBQA==",
          "dtype": "f8"
         }
        },
        {
         "line": {
          "color": "green",
          "width": 2
         },
         "mode": "lines",
         "name": "Price",
         "showlegend": false,
         "type": "scatter",
         "x": [
          "2024-06-18T00:00:00",
          "2024-06-20T00:00:00"
         ],
         "y": {
          "bdata": "AAAAgOsjgUAAAAAAABiBQA==",
          "dtype": "f8"
         }
        },
        {
         "line": {
          "color": "green",
          "width": 2
         },
         "mode": "lines",
         "name": "Price",
         "showlegend": false,
         "type": "scatter",
         "x": [
          "2024-06-20T00:00:00",
          "2024-06-21T00:00:00"
         ],
         "y": {
          "bdata": "AAAAAAAYgUAAAACAFASBQA==",
          "dtype": "f8"
         }
        },
        {
         "line": {
          "color": "green",
          "width": 2
         },
         "mode": "lines",
         "name": "Price",
         "showlegend": false,
         "type": "scatter",
         "x": [
          "2024-06-21T00:00:00",
          "2024-06-24T00:00:00"
         ],
         "y": {
          "bdata": "AAAAgBQEgUAAAACA6/WAQA==",
          "dtype": "f8"
         }
        },
        {
         "line": {
          "color": "green",
          "width": 2
         },
         "mode": "lines",
         "name": "Price",
         "showlegend": false,
         "type": "scatter",
         "x": [
          "2024-06-24T00:00:00",
          "2024-06-25T00:00:00"
         ],
         "y": {
          "bdata": "AAAAgOv1gEAAAADgowaBQA==",
          "dtype": "f8"
         }
        },
        {
         "line": {
          "color": "green",
          "width": 2
         },
         "mode": "lines",
         "name": "Price",
         "showlegend": false,
         "type": "scatter",
         "x": [
          "2024-06-25T00:00:00",
          "2024-06-26T00:00:00"
         ],
         "y": {
          "bdata": "AAAA4KMGgUAAAACAFAyBQA==",
          "dtype": "f8"
         }
        },
        {
         "line": {
          "color": "green",
          "width": 2
         },
         "mode": "lines",
         "name": "Price",
         "showlegend": false,
         "type": "scatter",
         "x": [
          "2024-06-26T00:00:00",
          "2024-06-27T00:00:00"
         ],
         "y": {
          "bdata": "AAAAgBQMgUAAAADA9RKBQA==",
          "dtype": "f8"
         }
        },
        {
         "line": {
          "color": "green",
          "width": 2
         },
         "mode": "lines",
         "name": "Price",
         "showlegend": false,
         "type": "scatter",
         "x": [
          "2024-06-27T00:00:00",
          "2024-06-28T00:00:00"
         ],
         "y": {
          "bdata": "AAAAwPUSgUAAAACAwgGBQA==",
          "dtype": "f8"
         }
        },
        {
         "line": {
          "color": "green",
          "width": 2
         },
         "mode": "lines",
         "name": "Price",
         "showlegend": false,
         "type": "scatter",
         "x": [
          "2024-06-28T00:00:00",
          "2024-07-01T00:00:00"
         ],
         "y": {
          "bdata": "AAAAgMIBgUAAAABguAqBQA==",
          "dtype": "f8"
         }
        },
        {
         "line": {
          "color": "green",
          "width": 2
         },
         "mode": "lines",
         "name": "Price",
         "showlegend": false,
         "type": "scatter",
         "x": [
          "2024-07-01T00:00:00",
          "2024-07-02T00:00:00"
         ],
         "y": {
          "bdata": "AAAAYLgKgUAAAACAFCiBQA==",
          "dtype": "f8"
         }
        },
        {
         "line": {
          "color": "green",
          "width": 2
         },
         "mode": "lines",
         "name": "Price",
         "showlegend": false,
         "type": "scatter",
         "x": [
          "2024-07-02T00:00:00",
          "2024-07-03T00:00:00"
         ],
         "y": {
          "bdata": "AAAAgBQogUAAAAAgrjuBQA==",
          "dtype": "f8"
         }
        },
        {
         "line": {
          "color": "green",
          "width": 2
         },
         "mode": "lines",
         "name": "Price",
         "showlegend": false,
         "type": "scatter",
         "x": [
          "2024-07-03T00:00:00",
          "2024-07-05T00:00:00"
         ],
         "y": {
          "bdata": "AAAAIK47gUAAAADAHlWBQA==",
          "dtype": "f8"
         }
        },
        {
         "line": {
          "color": "green",
          "width": 2
         },
         "mode": "lines",
         "name": "Price",
         "showlegend": false,
         "type": "scatter",
         "x": [
          "2024-07-05T00:00:00",
          "2024-07-08T00:00:00"
         ],
         "y": {
          "bdata": "AAAAwB5VgUAAAACAPVqBQA==",
          "dtype": "f8"
         }
        },
        {
         "line": {
          "color": "green",
          "width": 2
         },
         "mode": "lines",
         "name": "Price",
         "showlegend": false,
         "type": "scatter",
         "x": [
          "2024-07-08T00:00:00",
          "2024-07-09T00:00:00"
         ],
         "y": {
          "bdata": "AAAAgD1agUAAAABgj16BQA==",
          "dtype": "f8"
         }
        },
        {
         "line": {
          "color": "green",
          "width": 2
         },
         "mode": "lines",
         "name": "Price",
         "showlegend": false,
         "type": "scatter",
         "x": [
          "2024-07-09T00:00:00",
          "2024-07-10T00:00:00"
         ],
         "y": {
          "bdata": "AAAAYI9egUAAAABgj4qBQA==",
          "dtype": "f8"
         }
        },
        {
         "line": {
          "color": "green",
          "width": 2
         },
         "mode": "lines",
         "name": "Price",
         "showlegend": false,
         "type": "scatter",
         "x": [
          "2024-07-10T00:00:00",
          "2024-07-11T00:00:00"
         ],
         "y": {
          "bdata": "AAAAYI+KgUAAAAAA12OBQA==",
          "dtype": "f8"
         }
        },
        {
         "line": {
          "color": "green",
          "width": 2
         },
         "mode": "lines",
         "name": "Price",
         "showlegend": false,
         "type": "scatter",
         "x": [
          "2024-07-11T00:00:00",
          "2024-07-12T00:00:00"
         ],
         "y": {
          "bdata": "AAAAANdjgUAAAACA63+BQA==",
          "dtype": "f8"
         }
        },
        {
         "line": {
          "color": "green",
          "width": 2
         },
         "mode": "lines",
         "name": "Price",
         "showlegend": false,
         "type": "scatter",
         "x": [
          "2024-07-12T00:00:00",
          "2024-07-15T00:00:00"
         ],
         "y": {
          "bdata": "AAAAgOt/gUAAAACAPYyBQA==",
          "dtype": "f8"
         }
        },
        {
         "line": {
          "color": "green",
          "width": 2
         },
         "mode": "lines",
         "name": "Price",
         "showlegend": false,
         "type": "scatter",
         "x": [
          "2024-07-15T00:00:00",
          "2024-07-16T00:00:00"
         ],
         "y": {
          "bdata": "AAAAgD2MgUAAAABA4aaBQA==",
          "dtype": "f8"
         }
        },
        {
         "line": {
          "color": "green",
          "width": 2
         },
         "mode": "lines",
         "name": "Price",
         "showlegend": false,
         "type": "scatter",
         "x": [
          "2024-07-16T00:00:00",
          "2024-07-17T00:00:00"
         ],
         "y": {
          "bdata": "AAAAQOGmgUAAAAAghWeBQA==",
          "dtype": "f8"
         }
        },
        {
         "line": {
          "color": "green",
          "width": 2
         },
         "mode": "lines",
         "name": "Price",
         "showlegend": false,
         "type": "scatter",
         "x": [
          "2024-07-17T00:00:00",
          "2024-07-18T00:00:00"
         ],
         "y": {
          "bdata": "AAAAIIVngUAAAACgR0WBQA==",
          "dtype": "f8"
         }
        },
        {
         "line": {
          "color": "green",
          "width": 2
         },
         "mode": "lines",
         "name": "Price",
         "showlegend": false,
         "type": "scatter",
         "x": [
          "2024-07-18T00:00:00",
          "2024-07-19T00:00:00"
         ],
         "y": {
          "bdata": "AAAAoEdFgUAAAACA6yeBQA==",
          "dtype": "f8"
         }
        },
        {
         "line": {
          "color": "green",
          "width": 2
         },
         "mode": "lines",
         "name": "Price",
         "showlegend": false,
         "type": "scatter",
         "x": [
          "2024-07-19T00:00:00",
          "2024-07-22T00:00:00"
         ],
         "y": {
          "bdata": "AAAAgOsngUAAAABAM1WBQA==",
          "dtype": "f8"
         }
        },
        {
         "line": {
          "color": "green",
          "width": 2
         },
         "mode": "lines",
         "name": "Price",
         "showlegend": false,
         "type": "scatter",
         "x": [
          "2024-07-22T00:00:00",
          "2024-07-23T00:00:00"
         ],
         "y": {
          "bdata": "AAAAQDNVgUAAAACAPU6BQA==",
          "dtype": "f8"
         }
        },
        {
         "line": {
          "color": "green",
          "width": 2
         },
         "mode": "lines",
         "name": "Price",
         "showlegend": false,
         "type": "scatter",
         "x": [
          "2024-07-23T00:00:00",
          "2024-07-24T00:00:00"
         ],
         "y": {
          "bdata": "AAAAgD1OgUAAAAAA1+mAQA==",
          "dtype": "f8"
         }
        },
        {
         "line": {
          "color": "green",
          "width": 2
         },
         "mode": "lines",
         "name": "Price",
         "showlegend": false,
         "type": "scatter",
         "x": [
          "2024-07-24T00:00:00",
          "2024-07-25T00:00:00"
         ],
         "y": {
          "bdata": "AAAAANfpgEAAAACgR9OAQA==",
          "dtype": "f8"
         }
        },
        {
         "line": {
          "color": "green",
          "width": 2
         },
         "mode": "lines",
         "name": "Price",
         "showlegend": false,
         "type": "scatter",
         "x": [
          "2024-07-25T00:00:00",
          "2024-07-26T00:00:00"
         ],
         "y": {
          "bdata": "AAAAoEfTgEAAAAAghQOBQA==",
          "dtype": "f8"
         }
        },
        {
         "line": {
          "color": "green",
          "width": 2
         },
         "mode": "lines",
         "name": "Price",
         "showlegend": false,
         "type": "scatter",
         "x": [
          "2024-07-26T00:00:00",
          "2024-07-29T00:00:00"
         ],
         "y": {
          "bdata": "AAAAIIUDgUAAAACAFAaBQA==",
          "dtype": "f8"
         }
        },
        {
         "line": {
          "color": "green",
          "width": 2
         },
         "mode": "lines",
         "name": "Price",
         "showlegend": false,
         "type": "scatter",
         "x": [
          "2024-07-29T00:00:00",
          "2024-07-30T00:00:00"
         ],
         "y": {
          "bdata": "AAAAgBQGgUAAAAAAAPCAQA==",
          "dtype": "f8"
         }
        },
        {
         "line": {
          "color": "red",
          "width": 2
         },
         "mode": "lines",
         "name": "Price",
         "showlegend": false,
         "type": "scatter",
         "x": [
          "2024-07-30T00:00:00",
          "2024-07-31T00:00:00"
         ],
         "y": {
          "bdata": "AAAAAADwgEAAAADgejaBQA==",
          "dtype": "f8"
         }
        },
        {
         "line": {
          "color": "green",
          "width": 2
         },
         "mode": "lines",
         "name": "Price",
         "showlegend": false,
         "type": "scatter",
         "x": [
          "2024-07-31T00:00:00",
          "2024-08-01T00:00:00"
         ],
         "y": {
          "bdata": "AAAA4Ho2gUAAAACAFPiAQA==",
          "dtype": "f8"
         }
        },
        {
         "line": {
          "color": "red",
          "width": 2
         },
         "mode": "lines",
         "name": "Price",
         "showlegend": false,
         "type": "scatter",
         "x": [
          "2024-08-01T00:00:00",
          "2024-08-02T00:00:00"
         ],
         "y": {
          "bdata": "AAAAgBT4gEAAAABAM6eAQA==",
          "dtype": "f8"
         }
        },
        {
         "line": {
          "color": "red",
          "width": 2
         },
         "mode": "lines",
         "name": "Price",
         "showlegend": false,
         "type": "scatter",
         "x": [
          "2024-08-02T00:00:00",
          "2024-08-05T00:00:00"
         ],
         "y": {
          "bdata": "AAAAQDOngEAAAABACiuAQA==",
          "dtype": "f8"
         }
        },
        {
         "line": {
          "color": "red",
          "width": 2
         },
         "mode": "lines",
         "name": "Price",
         "showlegend": false,
         "type": "scatter",
         "x": [
          "2024-08-05T00:00:00",
          "2024-08-06T00:00:00"
         ],
         "y": {
          "bdata": "AAAAQAorgEAAAABAM1GAQA==",
          "dtype": "f8"
         }
        },
        {
         "line": {
          "color": "red",
          "width": 2
         },
         "mode": "lines",
         "name": "Price",
         "showlegend": false,
         "type": "scatter",
         "x": [
          "2024-08-06T00:00:00",
          "2024-08-07T00:00:00"
         ],
         "y": {
          "bdata": "AAAAQDNRgEAAAACgRzWAQA==",
          "dtype": "f8"
         }
        },
        {
         "line": {
          "color": "red",
          "width": 2
         },
         "mode": "lines",
         "name": "Price",
         "showlegend": false,
         "type": "scatter",
         "x": [
          "2024-08-07T00:00:00",
          "2024-08-08T00:00:00"
         ],
         "y": {
          "bdata": "AAAAoEc1gEAAAABAM5WAQA==",
          "dtype": "f8"
         }
        },
        {
         "line": {
          "color": "red",
          "width": 2
         },
         "mode": "lines",
         "name": "Price",
         "showlegend": false,
         "type": "scatter",
         "x": [
          "2024-08-08T00:00:00",
          "2024-08-09T00:00:00"
         ],
         "y": {
          "bdata": "AAAAQDOVgEAAAACA66eAQA==",
          "dtype": "f8"
         }
        },
        {
         "line": {
          "color": "red",
          "width": 2
         },
         "mode": "lines",
         "name": "Price",
         "showlegend": false,
         "type": "scatter",
         "x": [
          "2024-08-09T00:00:00",
          "2024-08-12T00:00:00"
         ],
         "y": {
          "bdata": "AAAAgOungEAAAAAAKaqAQA==",
          "dtype": "f8"
         }
        },
        {
         "line": {
          "color": "red",
          "width": 2
         },
         "mode": "lines",
         "name": "Price",
         "showlegend": false,
         "type": "scatter",
         "x": [
          "2024-08-12T00:00:00",
          "2024-08-13T00:00:00"
         ],
         "y": {
          "bdata": "AAAAACmqgEAAAADgUfCAQA==",
          "dtype": "f8"
         }
        },
        {
         "line": {
          "color": "red",
          "width": 2
         },
         "mode": "lines",
         "name": "Price",
         "showlegend": false,
         "type": "scatter",
         "x": [
          "2024-08-13T00:00:00",
          "2024-08-14T00:00:00"
         ],
         "y": {
          "bdata": "AAAA4FHwgEAAAAAAAP6AQA==",
          "dtype": "f8"
         }
        },
        {
         "line": {
          "color": "red",
          "width": 2
         },
         "mode": "lines",
         "name": "Price",
         "showlegend": false,
         "type": "scatter",
         "x": [
          "2024-08-14T00:00:00",
          "2024-08-15T00:00:00"
         ],
         "y": {
          "bdata": "AAAAAAD+gEAAAABgj0iBQA==",
          "dtype": "f8"
         }
        },
        {
         "line": {
          "color": "green",
          "width": 2
         },
         "mode": "lines",
         "name": "Price",
         "showlegend": false,
         "type": "scatter",
         "x": [
          "2024-08-15T00:00:00",
          "2024-08-16T00:00:00"
         ],
         "y": {
          "bdata": "AAAAYI9IgUAAAADgelKBQA==",
          "dtype": "f8"
         }
        },
        {
         "line": {
          "color": "green",
          "width": 2
         },
         "mode": "lines",
         "name": "Price",
         "showlegend": false,
         "type": "scatter",
         "x": [
          "2024-08-16T00:00:00",
          "2024-08-19T00:00:00"
         ],
         "y": {
          "bdata": "AAAA4HpSgUAAAABA4XyBQA==",
          "dtype": "f8"
         }
        },
        {
         "line": {
          "color": "green",
          "width": 2
         },
         "mode": "lines",
         "name": "Price",
         "showlegend": false,
         "type": "scatter",
         "x": [
          "2024-08-19T00:00:00",
          "2024-08-20T00:00:00"
         ],
         "y": {
          "bdata": "AAAAQOF8gUAAAACgmXWBQA==",
          "dtype": "f8"
         }
        },
        {
         "line": {
          "color": "green",
          "width": 2
         },
         "mode": "lines",
         "name": "Price",
         "showlegend": false,
         "type": "scatter",
         "x": [
          "2024-08-20T00:00:00",
          "2024-08-21T00:00:00"
         ],
         "y": {
          "bdata": "AAAAoJl1gUAAAADA9YSBQA==",
          "dtype": "f8"
         }
        },
        {
         "line": {
          "color": "green",
          "width": 2
         },
         "mode": "lines",
         "name": "Price",
         "showlegend": false,
         "type": "scatter",
         "x": [
          "2024-08-21T00:00:00",
          "2024-08-22T00:00:00"
         ],
         "y": {
          "bdata": "AAAAwPWEgUAAAACAwmGBQA==",
          "dtype": "f8"
         }
        },
        {
         "line": {
          "color": "red",
          "width": 2
         },
         "mode": "lines",
         "name": "Price",
         "showlegend": false,
         "type": "scatter",
         "x": [
          "2024-08-22T00:00:00",
          "2024-08-23T00:00:00"
         ],
         "y": {
          "bdata": "AAAAgMJhgUAAAABACpGBQA==",
          "dtype": "f8"
         }
        },
        {
         "line": {
          "color": "green",
          "width": 2
         },
         "mode": "lines",
         "name": "Price",
         "showlegend": false,
         "type": "scatter",
         "x": [
          "2024-08-23T00:00:00",
          "2024-08-26T00:00:00"
         ],
         "y": {
          "bdata": "AAAAQAqRgUAAAADgUYaBQA==",
          "dtype": "f8"
         }
        },
        {
         "line": {
          "color": "green",
          "width": 2
         },
         "mode": "lines",
         "name": "Price",
         "showlegend": false,
         "type": "scatter",
         "x": [
          "2024-08-26T00:00:00",
          "2024-08-27T00:00:00"
         ],
         "y": {
          "bdata": "AAAA4FGGgUAAAADgeoyBQA==",
          "dtype": "f8"
         }
        },
        {
         "line": {
          "color": "green",
          "width": 2
         },
         "mode": "lines",
         "name": "Price",
         "showlegend": false,
         "type": "scatter",
         "x": [
          "2024-08-27T00:00:00",
          "2024-08-28T00:00:00"
         ],
         "y": {
          "bdata": "AAAA4HqMgUAAAABgZnKBQA==",
          "dtype": "f8"
         }
        },
        {
         "line": {
          "color": "red",
          "width": 2
         },
         "mode": "lines",
         "name": "Price",
         "showlegend": false,
         "type": "scatter",
         "x": [
          "2024-08-28T00:00:00",
          "2024-08-29T00:00:00"
         ],
         "y": {
          "bdata": "AAAAYGZygUAAAADAzHKBQA==",
          "dtype": "f8"
         }
        },
        {
         "line": {
          "color": "green",
          "width": 2
         },
         "mode": "lines",
         "name": "Price",
         "showlegend": false,
         "type": "scatter",
         "x": [
          "2024-08-29T00:00:00",
          "2024-08-30T00:00:00"
         ],
         "y": {
          "bdata": "AAAAwMxygUAAAACgcJ2BQA==",
          "dtype": "f8"
         }
        },
        {
         "line": {
          "color": "green",
          "width": 2
         },
         "mode": "lines",
         "name": "Price",
         "showlegend": false,
         "type": "scatter",
         "x": [
          "2024-08-30T00:00:00",
          "2024-09-03T00:00:00"
         ],
         "y": {
          "bdata": "AAAAoHCdgUAAAADgo0CBQA==",
          "dtype": "f8"
         }
        },
        {
         "line": {
          "color": "green",
          "width": 2
         },
         "mode": "lines",
         "name": "Price",
         "showlegend": false,
         "type": "scatter",
         "x": [
          "2024-09-03T00:00:00",
          "2024-09-04T00:00:00"
         ],
         "y": {
          "bdata": "AAAA4KNAgUAAAACgmTeBQA==",
          "dtype": "f8"
         }
        },
        {
         "line": {
          "color": "red",
          "width": 2
         },
         "mode": "lines",
         "name": "Price",
         "showlegend": false,
         "type": "scatter",
         "x": [
          "2024-09-04T00:00:00",
          "2024-09-05T00:00:00"
         ],
         "y": {
          "bdata": "AAAAoJk3gUAAAABA4SyBQA==",
          "dtype": "f8"
         }
        },
        {
         "line": {
          "color": "red",
          "width": 2
         },
         "mode": "lines",
         "name": "Price",
         "showlegend": false,
         "type": "scatter",
         "x": [
          "2024-09-05T00:00:00",
          "2024-09-06T00:00:00"
         ],
         "y": {
          "bdata": "AAAAQOEsgUAAAABA4eKAQA==",
          "dtype": "f8"
         }
        },
        {
         "line": {
          "color": "red",
          "width": 2
         },
         "mode": "lines",
         "name": "Price",
         "showlegend": false,
         "type": "scatter",
         "x": [
          "2024-09-06T00:00:00",
          "2024-09-09T00:00:00"
         ],
         "y": {
          "bdata": "AAAAQOHigEAAAACgRxOBQA==",
          "dtype": "f8"
         }
        },
        {
         "line": {
          "color": "green",
          "width": 2
         },
         "mode": "lines",
         "name": "Price",
         "showlegend": false,
         "type": "scatter",
         "x": [
          "2024-09-09T00:00:00",
          "2024-09-10T00:00:00"
         ],
         "y": {
          "bdata": "AAAAoEcTgUAAAADgUSaBQA==",
          "dtype": "f8"
         }
        },
        {
         "line": {
          "color": "green",
          "width": 2
         },
         "mode": "lines",
         "name": "Price",
         "showlegend": false,
         "type": "scatter",
         "x": [
          "2024-09-10T00:00:00",
          "2024-09-11T00:00:00"
         ],
         "y": {
          "bdata": "AAAA4FEmgUAAAAAgXFOBQA==",
          "dtype": "f8"
         }
        },
        {
         "line": {
          "color": "green",
          "width": 2
         },
         "mode": "lines",
         "name": "Price",
         "showlegend": false,
         "type": "scatter",
         "x": [
          "2024-09-11T00:00:00",
          "2024-09-12T00:00:00"
         ],
         "y": {
          "bdata": "AAAAIFxTgUAAAABguHiBQA==",
          "dtype": "f8"
         }
        },
        {
         "line": {
          "color": "green",
          "width": 2
         },
         "mode": "lines",
         "name": "Price",
         "showlegend": false,
         "type": "scatter",
         "x": [
          "2024-09-12T00:00:00",
          "2024-09-13T00:00:00"
         ],
         "y": {
          "bdata": "AAAAYLh4gUAAAACAFJCBQA==",
          "dtype": "f8"
         }
        },
        {
         "line": {
          "color": "green",
          "width": 2
         },
         "mode": "lines",
         "name": "Price",
         "showlegend": false,
         "type": "scatter",
         "x": [
          "2024-09-13T00:00:00",
          "2024-09-16T00:00:00"
         ],
         "y": {
          "bdata": "AAAAgBSQgUAAAABguJaBQA==",
          "dtype": "f8"
         }
        },
        {
         "line": {
          "color": "green",
          "width": 2
         },
         "mode": "lines",
         "name": "Price",
         "showlegend": false,
         "type": "scatter",
         "x": [
          "2024-09-16T00:00:00",
          "2024-09-17T00:00:00"
         ],
         "y": {
          "bdata": "AAAAYLiWgUAAAABgj5iBQA==",
          "dtype": "f8"
         }
        },
        {
         "line": {
          "color": "green",
          "width": 2
         },
         "mode": "lines",
         "name": "Price",
         "showlegend": false,
         "type": "scatter",
         "x": [
          "2024-09-17T00:00:00",
          "2024-09-18T00:00:00"
         ],
         "y": {
          "bdata": "AAAAYI+YgUAAAABAM4uBQA==",
          "dtype": "f8"
         }
        },
        {
         "line": {
          "color": "green",
          "width": 2
         },
         "mode": "lines",
         "name": "Price",
         "showlegend": false,
         "type": "scatter",
         "x": [
          "2024-09-18T00:00:00",
          "2024-09-19T00:00:00"
         ],
         "y": {
          "bdata": "AAAAQDOLgUAAAAAA19eBQA==",
          "dtype": "f8"
         }
        },
        {
         "line": {
          "color": "green",
          "width": 2
         },
         "mode": "lines",
         "name": "Price",
         "showlegend": false,
         "type": "scatter",
         "x": [
          "2024-09-19T00:00:00",
          "2024-09-20T00:00:00"
         ],
         "y": {
          "bdata": "AAAAANfXgUAAAAAAAMKBQA==",
          "dtype": "f8"
         }
        },
        {
         "line": {
          "color": "green",
          "width": 2
         },
         "mode": "lines",
         "name": "Price",
         "showlegend": false,
         "type": "scatter",
         "x": [
          "2024-09-20T00:00:00",
          "2024-09-23T00:00:00"
         ],
         "y": {
          "bdata": "AAAAAADCgUAAAAAgXM2BQA==",
          "dtype": "f8"
         }
        },
        {
         "line": {
          "color": "green",
          "width": 2
         },
         "mode": "lines",
         "name": "Price",
         "showlegend": false,
         "type": "scatter",
         "x": [
          "2024-09-23T00:00:00",
          "2024-09-24T00:00:00"
         ],
         "y": {
          "bdata": "AAAAIFzNgUAAAABgZtqBQA==",
          "dtype": "f8"
         }
        },
        {
         "line": {
          "color": "green",
          "width": 2
         },
         "mode": "lines",
         "name": "Price",
         "showlegend": false,
         "type": "scatter",
         "x": [
          "2024-09-24T00:00:00",
          "2024-09-25T00:00:00"
         ],
         "y": {
          "bdata": "AAAAYGbagUAAAADgUdCBQA==",
          "dtype": "f8"
         }
        },
        {
         "line": {
          "color": "green",
          "width": 2
         },
         "mode": "lines",
         "name": "Price",
         "showlegend": false,
         "type": "scatter",
         "x": [
          "2024-09-25T00:00:00",
          "2024-09-26T00:00:00"
         ],
         "y": {
          "bdata": "AAAA4FHQgUAAAABgZuKBQA==",
          "dtype": "f8"
         }
        },
        {
         "line": {
          "color": "green",
          "width": 2
         },
         "mode": "lines",
         "name": "Price",
         "showlegend": false,
         "type": "scatter",
         "x": [
          "2024-09-26T00:00:00",
          "2024-09-27T00:00:00"
         ],
         "y": {
          "bdata": "AAAAYGbigUAAAACAwtuBQA==",
          "dtype": "f8"
         }
        },
        {
         "line": {
          "color": "green",
          "width": 2
         },
         "mode": "lines",
         "name": "Price",
         "showlegend": false,
         "type": "scatter",
         "x": [
          "2024-09-27T00:00:00",
          "2024-09-30T00:00:00"
         ],
         "y": {
          "bdata": "AAAAgMLbgUAAAACAFO6BQA==",
          "dtype": "f8"
         }
        },
        {
         "line": {
          "color": "green",
          "width": 2
         },
         "mode": "lines",
         "name": "Price",
         "showlegend": false,
         "type": "scatter",
         "x": [
          "2024-09-30T00:00:00",
          "2024-10-01T00:00:00"
         ],
         "y": {
          "bdata": "AAAAgBTugUAAAADA9cSBQA==",
          "dtype": "f8"
         }
        },
        {
         "line": {
          "color": "green",
          "width": 2
         },
         "mode": "lines",
         "name": "Price",
         "showlegend": false,
         "type": "scatter",
         "x": [
          "2024-10-01T00:00:00",
          "2024-10-02T00:00:00"
         ],
         "y": {
          "bdata": "AAAAwPXEgUAAAABA4caBQA==",
          "dtype": "f8"
         }
        },
        {
         "line": {
          "color": "green",
          "width": 2
         },
         "mode": "lines",
         "name": "Price",
         "showlegend": false,
         "type": "scatter",
         "x": [
          "2024-10-02T00:00:00",
          "2024-10-03T00:00:00"
         ],
         "y": {
          "bdata": "AAAAQOHGgUAAAABgj76BQA==",
          "dtype": "f8"
         }
        },
        {
         "line": {
          "color": "green",
          "width": 2
         },
         "mode": "lines",
         "name": "Price",
         "showlegend": false,
         "type": "scatter",
         "x": [
          "2024-10-03T00:00:00",
          "2024-10-04T00:00:00"
         ],
         "y": {
          "bdata": "AAAAYI++gUAAAAAA1+eBQA==",
          "dtype": "f8"
         }
        },
        {
         "line": {
          "color": "green",
          "width": 2
         },
         "mode": "lines",
         "name": "Price",
         "showlegend": false,
         "type": "scatter",
         "x": [
          "2024-10-04T00:00:00",
          "2024-10-07T00:00:00"
         ],
         "y": {
          "bdata": "AAAAANfngUAAAABgZr6BQA==",
          "dtype": "f8"
         }
        },
        {
         "line": {
          "color": "green",
          "width": 2
         },
         "mode": "lines",
         "name": "Price",
         "showlegend": false,
         "type": "scatter",
         "x": [
          "2024-10-07T00:00:00",
          "2024-10-08T00:00:00"
         ],
         "y": {
          "bdata": "AAAAYGa+gUAAAAAgXOmBQA==",
          "dtype": "f8"
         }
        },
        {
         "line": {
          "color": "green",
          "width": 2
         },
         "mode": "lines",
         "name": "Price",
         "showlegend": false,
         "type": "scatter",
         "x": [
          "2024-10-08T00:00:00",
          "2024-10-09T00:00:00"
         ],
         "y": {
          "bdata": "AAAAIFzpgUAAAADAHgmCQA==",
          "dtype": "f8"
         }
        },
        {
         "line": {
          "color": "green",
          "width": 2
         },
         "mode": "lines",
         "name": "Price",
         "showlegend": false,
         "type": "scatter",
         "x": [
          "2024-10-09T00:00:00",
          "2024-10-10T00:00:00"
         ],
         "y": {
          "bdata": "AAAAwB4JgkAAAABACgGCQA==",
          "dtype": "f8"
         }
        },
        {
         "line": {
          "color": "green",
          "width": 2
         },
         "mode": "lines",
         "name": "Price",
         "showlegend": false,
         "type": "scatter",
         "x": [
          "2024-10-10T00:00:00",
          "2024-10-11T00:00:00"
         ],
         "y": {
          "bdata": "AAAAQAoBgkAAAADgoxyCQA==",
          "dtype": "f8"
         }
        },
        {
         "line": {
          "color": "green",
          "width": 2
         },
         "mode": "lines",
         "name": "Price",
         "showlegend": false,
         "type": "scatter",
         "x": [
          "2024-10-11T00:00:00",
          "2024-10-14T00:00:00"
         ],
         "y": {
          "bdata": "AAAA4KMcgkAAAABgj0KCQA==",
          "dtype": "f8"
         }
        },
        {
         "line": {
          "color": "green",
          "width": 2
         },
         "mode": "lines",
         "name": "Price",
         "showlegend": false,
         "type": "scatter",
         "x": [
          "2024-10-14T00:00:00",
          "2024-10-15T00:00:00"
         ],
         "y": {
          "bdata": "AAAAYI9CgkAAAACAPR6CQA==",
          "dtype": "f8"
         }
        },
        {
         "line": {
          "color": "green",
          "width": 2
         },
         "mode": "lines",
         "name": "Price",
         "showlegend": false,
         "type": "scatter",
         "x": [
          "2024-10-15T00:00:00",
          "2024-10-16T00:00:00"
         ],
         "y": {
          "bdata": "AAAAgD0egkAAAABgZjKCQA==",
          "dtype": "f8"
         }
        },
        {
         "line": {
          "color": "green",
          "width": 2
         },
         "mode": "lines",
         "name": "Price",
         "showlegend": false,
         "type": "scatter",
         "x": [
          "2024-10-16T00:00:00",
          "2024-10-17T00:00:00"
         ],
         "y": {
          "bdata": "AAAAYGYygkAAAADAzDKCQA==",
          "dtype": "f8"
         }
        },
        {
         "line": {
          "color": "green",
          "width": 2
         },
         "mode": "lines",
         "name": "Price",
         "showlegend": false,
         "type": "scatter",
         "x": [
          "2024-10-17T00:00:00",
          "2024-10-18T00:00:00"
         ],
         "y": {
          "bdata": "AAAAwMwygkAAAABguESCQA==",
          "dtype": "f8"
         }
        },
        {
         "line": {
          "color": "green",
          "width": 2
         },
         "mode": "lines",
         "name": "Price",
         "showlegend": false,
         "type": "scatter",
         "x": [
          "2024-10-18T00:00:00",
          "2024-10-21T00:00:00"
         ],
         "y": {
          "bdata": "AAAAYLhEgkAAAABACj2CQA==",
          "dtype": "f8"
         }
        },
        {
         "line": {
          "color": "green",
          "width": 2
         },
         "mode": "lines",
         "name": "Price",
         "showlegend": false,
         "type": "scatter",
         "x": [
          "2024-10-21T00:00:00",
          "2024-10-22T00:00:00"
         ],
         "y": {
          "bdata": "AAAAQAo9gkAAAABgjzqCQA==",
          "dtype": "f8"
         }
        },
        {
         "line": {
          "color": "green",
          "width": 2
         },
         "mode": "lines",
         "name": "Price",
         "showlegend": false,
         "type": "scatter",
         "x": [
          "2024-10-22T00:00:00",
          "2024-10-23T00:00:00"
         ],
         "y": {
          "bdata": "AAAAYI86gkAAAACA6w+CQA==",
          "dtype": "f8"
         }
        },
        {
         "line": {
          "color": "green",
          "width": 2
         },
         "mode": "lines",
         "name": "Price",
         "showlegend": false,
         "type": "scatter",
         "x": [
          "2024-10-23T00:00:00",
          "2024-10-24T00:00:00"
         ],
         "y": {
          "bdata": "AAAAgOsPgkAAAACA6xmCQA==",
          "dtype": "f8"
         }
        },
        {
         "line": {
          "color": "green",
          "width": 2
         },
         "mode": "lines",
         "name": "Price",
         "showlegend": false,
         "type": "scatter",
         "x": [
          "2024-10-24T00:00:00",
          "2024-10-25T00:00:00"
         ],
         "y": {
          "bdata": "AAAAgOsZgkAAAADgURiCQA==",
          "dtype": "f8"
         }
        },
        {
         "line": {
          "color": "green",
          "width": 2
         },
         "mode": "lines",
         "name": "Price",
         "showlegend": false,
         "type": "scatter",
         "x": [
          "2024-10-25T00:00:00",
          "2024-10-28T00:00:00"
         ],
         "y": {
          "bdata": "AAAA4FEYgkAAAADgoyaCQA==",
          "dtype": "f8"
         }
        },
        {
         "line": {
          "color": "green",
          "width": 2
         },
         "mode": "lines",
         "name": "Price",
         "showlegend": false,
         "type": "scatter",
         "x": [
          "2024-10-28T00:00:00",
          "2024-10-29T00:00:00"
         ],
         "y": {
          "bdata": "AAAA4KMmgkAAAAAAKS6CQA==",
          "dtype": "f8"
         }
        },
        {
         "line": {
          "color": "green",
          "width": 2
         },
         "mode": "lines",
         "name": "Price",
         "showlegend": false,
         "type": "scatter",
         "x": [
          "2024-10-29T00:00:00",
          "2024-10-30T00:00:00"
         ],
         "y": {
          "bdata": "AAAAACkugkAAAACAFCCCQA==",
          "dtype": "f8"
         }
        },
        {
         "line": {
          "color": "green",
          "width": 2
         },
         "mode": "lines",
         "name": "Price",
         "showlegend": false,
         "type": "scatter",
         "x": [
          "2024-10-30T00:00:00",
          "2024-10-31T00:00:00"
         ],
         "y": {
          "bdata": "AAAAgBQggkAAAADAHsWBQA==",
          "dtype": "f8"
         }
        },
        {
         "line": {
          "color": "green",
          "width": 2
         },
         "mode": "lines",
         "name": "Price",
         "showlegend": false,
         "type": "scatter",
         "x": [
          "2024-10-31T00:00:00",
          "2024-11-01T00:00:00"
         ],
         "y": {
          "bdata": "AAAAwB7FgUAAAADgUdiBQA==",
          "dtype": "f8"
         }
        },
        {
         "line": {
          "color": "green",
          "width": 2
         },
         "mode": "lines",
         "name": "Price",
         "showlegend": false,
         "type": "scatter",
         "x": [
          "2024-11-01T00:00:00",
          "2024-11-04T00:00:00"
         ],
         "y": {
          "bdata": "AAAA4FHYgUAAAADges6BQA==",
          "dtype": "f8"
         }
        },
        {
         "line": {
          "color": "green",
          "width": 2
         },
         "mode": "lines",
         "name": "Price",
         "showlegend": false,
         "type": "scatter",
         "x": [
          "2024-11-04T00:00:00",
          "2024-11-05T00:00:00"
         ],
         "y": {
          "bdata": "AAAA4HrOgUAAAACgmQWCQA==",
          "dtype": "f8"
         }
        },
        {
         "line": {
          "color": "green",
          "width": 2
         },
         "mode": "lines",
         "name": "Price",
         "showlegend": false,
         "type": "scatter",
         "x": [
          "2024-11-05T00:00:00",
          "2024-11-06T00:00:00"
         ],
         "y": {
          "bdata": "AAAAoJkFgkAAAADgUXiCQA==",
          "dtype": "f8"
         }
        },
        {
         "line": {
          "color": "green",
          "width": 2
         },
         "mode": "lines",
         "name": "Price",
         "showlegend": false,
         "type": "scatter",
         "x": [
          "2024-11-06T00:00:00",
          "2024-11-07T00:00:00"
         ],
         "y": {
          "bdata": "AAAA4FF4gkAAAABA4ZyCQA==",
          "dtype": "f8"
         }
        },
        {
         "line": {
          "color": "green",
          "width": 2
         },
         "mode": "lines",
         "name": "Price",
         "showlegend": false,
         "type": "scatter",
         "x": [
          "2024-11-07T00:00:00",
          "2024-11-08T00:00:00"
         ],
         "y": {
          "bdata": "AAAAQOGcgkAAAAAghbGCQA==",
          "dtype": "f8"
         }
        },
        {
         "line": {
          "color": "green",
          "width": 2
         },
         "mode": "lines",
         "name": "Price",
         "showlegend": false,
         "type": "scatter",
         "x": [
          "2024-11-08T00:00:00",
          "2024-11-11T00:00:00"
         ],
         "y": {
          "bdata": "AAAAIIWxgkAAAACAFLaCQA==",
          "dtype": "f8"
         }
        },
        {
         "line": {
          "color": "green",
          "width": 2
         },
         "mode": "lines",
         "name": "Price",
         "showlegend": false,
         "type": "scatter",
         "x": [
          "2024-11-11T00:00:00",
          "2024-11-12T00:00:00"
         ],
         "y": {
          "bdata": "AAAAgBS2gkAAAABAM6eCQA==",
          "dtype": "f8"
         }
        },
        {
         "line": {
          "color": "green",
          "width": 2
         },
         "mode": "lines",
         "name": "Price",
         "showlegend": false,
         "type": "scatter",
         "x": [
          "2024-11-12T00:00:00",
          "2024-11-13T00:00:00"
         ],
         "y": {
          "bdata": "AAAAQDOngkAAAAAghamCQA==",
          "dtype": "f8"
         }
        },
        {
         "line": {
          "color": "green",
          "width": 2
         },
         "mode": "lines",
         "name": "Price",
         "showlegend": false,
         "type": "scatter",
         "x": [
          "2024-11-13T00:00:00",
          "2024-11-14T00:00:00"
         ],
         "y": {
          "bdata": "AAAAIIWpgkAAAADAzIqCQA==",
          "dtype": "f8"
         }
        },
        {
         "line": {
          "color": "green",
          "width": 2
         },
         "mode": "lines",
         "name": "Price",
         "showlegend": false,
         "type": "scatter",
         "x": [
          "2024-11-14T00:00:00",
          "2024-11-15T00:00:00"
         ],
         "y": {
          "bdata": "AAAAwMyKgkAAAAAAAE6CQA==",
          "dtype": "f8"
         }
        },
        {
         "line": {
          "color": "green",
          "width": 2
         },
         "mode": "lines",
         "name": "Price",
         "showlegend": false,
         "type": "scatter",
         "x": [
          "2024-11-15T00:00:00",
          "2024-11-18T00:00:00"
         ],
         "y": {
          "bdata": "AAAAAABOgkAAAABAM2GCQA==",
          "dtype": "f8"
         }
        },
        {
         "line": {
          "color": "green",
          "width": 2
         },
         "mode": "lines",
         "name": "Price",
         "showlegend": false,
         "type": "scatter",
         "x": [
          "2024-11-18T00:00:00",
          "2024-11-19T00:00:00"
         ],
         "y": {
          "bdata": "AAAAQDNhgkAAAABgZnKCQA==",
          "dtype": "f8"
         }
        },
        {
         "line": {
          "color": "green",
          "width": 2
         },
         "mode": "lines",
         "name": "Price",
         "showlegend": false,
         "type": "scatter",
         "x": [
          "2024-11-19T00:00:00",
          "2024-11-20T00:00:00"
         ],
         "y": {
          "bdata": "AAAAYGZygkAAAAAAAHSCQA==",
          "dtype": "f8"
         }
        },
        {
         "line": {
          "color": "green",
          "width": 2
         },
         "mode": "lines",
         "name": "Price",
         "showlegend": false,
         "type": "scatter",
         "x": [
          "2024-11-20T00:00:00",
          "2024-11-21T00:00:00"
         ],
         "y": {
          "bdata": "AAAAAAB0gkAAAAAgXI2CQA==",
          "dtype": "f8"
         }
        },
        {
         "line": {
          "color": "green",
          "width": 2
         },
         "mode": "lines",
         "name": "Price",
         "showlegend": false,
         "type": "scatter",
         "x": [
          "2024-11-21T00:00:00",
          "2024-11-22T00:00:00"
         ],
         "y": {
          "bdata": "AAAAIFyNgkAAAACAFJyCQA==",
          "dtype": "f8"
         }
        },
        {
         "line": {
          "color": "green",
          "width": 2
         },
         "mode": "lines",
         "name": "Price",
         "showlegend": false,
         "type": "scatter",
         "x": [
          "2024-11-22T00:00:00",
          "2024-11-25T00:00:00"
         ],
         "y": {
          "bdata": "AAAAgBScgkAAAACAPayCQA==",
          "dtype": "f8"
         }
        },
        {
         "line": {
          "color": "green",
          "width": 2
         },
         "mode": "lines",
         "name": "Price",
         "showlegend": false,
         "type": "scatter",
         "x": [
          "2024-11-25T00:00:00",
          "2024-11-26T00:00:00"
         ],
         "y": {
          "bdata": "AAAAgD2sgkAAAABAM8WCQA==",
          "dtype": "f8"
         }
        },
        {
         "line": {
          "color": "green",
          "width": 2
         },
         "mode": "lines",
         "name": "Price",
         "showlegend": false,
         "type": "scatter",
         "x": [
          "2024-11-26T00:00:00",
          "2024-11-27T00:00:00"
         ],
         "y": {
          "bdata": "AAAAQDPFgkAAAADgo7aCQA==",
          "dtype": "f8"
         }
        },
        {
         "line": {
          "color": "green",
          "width": 2
         },
         "mode": "lines",
         "name": "Price",
         "showlegend": false,
         "type": "scatter",
         "x": [
          "2024-11-27T00:00:00",
          "2024-11-29T00:00:00"
         ],
         "y": {
          "bdata": "AAAA4KO2gkAAAABgZtSCQA==",
          "dtype": "f8"
         }
        },
        {
         "line": {
          "color": "green",
          "width": 2
         },
         "mode": "lines",
         "name": "Price",
         "showlegend": false,
         "type": "scatter",
         "x": [
          "2024-11-29T00:00:00",
          "2024-12-02T00:00:00"
         ],
         "y": {
          "bdata": "AAAAYGbUgkAAAABACt2CQA==",
          "dtype": "f8"
         }
        },
        {
         "line": {
          "color": "green",
          "width": 2
         },
         "mode": "lines",
         "name": "Price",
         "showlegend": false,
         "type": "scatter",
         "x": [
          "2024-12-02T00:00:00",
          "2024-12-03T00:00:00"
         ],
         "y": {
          "bdata": "AAAAQArdgkAAAACgR9+CQA==",
          "dtype": "f8"
         }
        },
        {
         "line": {
          "color": "green",
          "width": 2
         },
         "mode": "lines",
         "name": "Price",
         "showlegend": false,
         "type": "scatter",
         "x": [
          "2024-12-03T00:00:00",
          "2024-12-04T00:00:00"
         ],
         "y": {
          "bdata": "AAAAoEffgkAAAACgR/2CQA==",
          "dtype": "f8"
         }
        },
        {
         "line": {
          "color": "green",
          "width": 2
         },
         "mode": "lines",
         "name": "Price",
         "showlegend": false,
         "type": "scatter",
         "x": [
          "2024-12-04T00:00:00",
          "2024-12-05T00:00:00"
         ],
         "y": {
          "bdata": "AAAAoEf9gkAAAACgR/WCQA==",
          "dtype": "f8"
         }
        },
        {
         "line": {
          "color": "green",
          "width": 2
         },
         "mode": "lines",
         "name": "Price",
         "showlegend": false,
         "type": "scatter",
         "x": [
          "2024-12-05T00:00:00",
          "2024-12-06T00:00:00"
         ],
         "y": {
          "bdata": "AAAAoEf1gkAAAADgev6CQA==",
          "dtype": "f8"
         }
        },
        {
         "line": {
          "color": "green",
          "width": 2
         },
         "mode": "lines",
         "name": "Price",
         "showlegend": false,
         "type": "scatter",
         "x": [
          "2024-12-06T00:00:00",
          "2024-12-09T00:00:00"
         ],
         "y": {
          "bdata": "AAAA4Hr+gkAAAACgcOWCQA==",
          "dtype": "f8"
         }
        },
        {
         "line": {
          "color": "green",
          "width": 2
         },
         "mode": "lines",
         "name": "Price",
         "showlegend": false,
         "type": "scatter",
         "x": [
          "2024-12-09T00:00:00",
          "2024-12-10T00:00:00"
         ],
         "y": {
          "bdata": "AAAAoHDlgkAAAABgZtaCQA==",
          "dtype": "f8"
         }
        },
        {
         "line": {
          "color": "green",
          "width": 2
         },
         "mode": "lines",
         "name": "Price",
         "showlegend": false,
         "type": "scatter",
         "x": [
          "2024-12-10T00:00:00",
          "2024-12-11T00:00:00"
         ],
         "y": {
          "bdata": "AAAAYGbWgkAAAAAgrvuCQA==",
          "dtype": "f8"
         }
        },
        {
         "line": {
          "color": "green",
          "width": 2
         },
         "mode": "lines",
         "name": "Price",
         "showlegend": false,
         "type": "scatter",
         "x": [
          "2024-12-11T00:00:00",
          "2024-12-12T00:00:00"
         ],
         "y": {
          "bdata": "AAAAIK77gkAAAADgo+KCQA==",
          "dtype": "f8"
         }
        },
        {
         "line": {
          "color": "green",
          "width": 2
         },
         "mode": "lines",
         "name": "Price",
         "showlegend": false,
         "type": "scatter",
         "x": [
          "2024-12-12T00:00:00",
          "2024-12-13T00:00:00"
         ],
         "y": {
          "bdata": "AAAA4KPigkAAAAAgruGCQA==",
          "dtype": "f8"
         }
        },
        {
         "line": {
          "color": "green",
          "width": 2
         },
         "mode": "lines",
         "name": "Price",
         "showlegend": false,
         "type": "scatter",
         "x": [
          "2024-12-13T00:00:00",
          "2024-12-16T00:00:00"
         ],
         "y": {
          "bdata": "AAAAIK7hgkAAAADgUfaCQA==",
          "dtype": "f8"
         }
        },
        {
         "line": {
          "color": "green",
          "width": 2
         },
         "mode": "lines",
         "name": "Price",
         "showlegend": false,
         "type": "scatter",
         "x": [
          "2024-12-16T00:00:00",
          "2024-12-17T00:00:00"
         ],
         "y": {
          "bdata": "AAAA4FH2gkAAAADgUeKCQA==",
          "dtype": "f8"
         }
        },
        {
         "line": {
          "color": "green",
          "width": 2
         },
         "mode": "lines",
         "name": "Price",
         "showlegend": false,
         "type": "scatter",
         "x": [
          "2024-12-17T00:00:00",
          "2024-12-18T00:00:00"
         ],
         "y": {
          "bdata": "AAAA4FHigkAAAACAPVKCQA==",
          "dtype": "f8"
         }
        },
        {
         "line": {
          "color": "green",
          "width": 2
         },
         "mode": "lines",
         "name": "Price",
         "showlegend": false,
         "type": "scatter",
         "x": [
          "2024-12-18T00:00:00",
          "2024-12-19T00:00:00"
         ],
         "y": {
          "bdata": "AAAAgD1SgkAAAADAzFCCQA==",
          "dtype": "f8"
         }
        },
        {
         "line": {
          "color": "green",
          "width": 2
         },
         "mode": "lines",
         "name": "Price",
         "showlegend": false,
         "type": "scatter",
         "x": [
          "2024-12-19T00:00:00",
          "2024-12-20T00:00:00"
         ],
         "y": {
          "bdata": "AAAAwMxQgkAAAABAM3mCQA==",
          "dtype": "f8"
         }
        },
        {
         "line": {
          "color": "green",
          "width": 2
         },
         "mode": "lines",
         "name": "Price",
         "showlegend": false,
         "type": "scatter",
         "x": [
          "2024-12-20T00:00:00",
          "2024-12-23T00:00:00"
         ],
         "y": {
          "bdata": "AAAAQDN5gkAAAAAghZWCQA==",
          "dtype": "f8"
         }
        },
        {
         "line": {
          "color": "red",
          "width": 2
         },
         "mode": "lines",
         "name": "Price",
         "showlegend": false,
         "type": "scatter",
         "x": [
          "2024-12-23T00:00:00",
          "2024-12-24T00:00:00"
         ],
         "y": {
          "bdata": "AAAAIIWVgkAAAABgZsqCQA==",
          "dtype": "f8"
         }
        },
        {
         "line": {
          "color": "green",
          "width": 2
         },
         "mode": "lines",
         "name": "Price",
         "showlegend": false,
         "type": "scatter",
         "x": [
          "2024-12-24T00:00:00",
          "2024-12-26T00:00:00"
         ],
         "y": {
          "bdata": "AAAAYGbKgkAAAABguMqCQA==",
          "dtype": "f8"
         }
        },
        {
         "line": {
          "color": "green",
          "width": 2
         },
         "mode": "lines",
         "name": "Price",
         "showlegend": false,
         "type": "scatter",
         "x": [
          "2024-12-26T00:00:00",
          "2024-12-27T00:00:00"
         ],
         "y": {
          "bdata": "AAAAYLjKgkAAAACAFJiCQA==",
          "dtype": "f8"
         }
        },
        {
         "line": {
          "color": "red",
          "width": 2
         },
         "mode": "lines",
         "name": "Price",
         "showlegend": false,
         "type": "scatter",
         "x": [
          "2024-12-27T00:00:00",
          "2024-12-30T00:00:00"
         ],
         "y": {
          "bdata": "AAAAgBSYgkAAAACAwmGCQA==",
          "dtype": "f8"
         }
        },
        {
         "line": {
          "color": "red",
          "width": 2
         },
         "mode": "lines",
         "name": "Price",
         "showlegend": false,
         "type": "scatter",
         "x": [
          "2024-12-30T00:00:00",
          "2024-12-31T00:00:00"
         ],
         "y": {
          "bdata": "AAAAgMJhgkAAAADgo1CCQA==",
          "dtype": "f8"
         }
        },
        {
         "line": {
          "color": "red",
          "width": 2
         },
         "mode": "lines",
         "name": "Price",
         "showlegend": false,
         "type": "scatter",
         "x": [
          "2024-12-31T00:00:00",
          "2025-01-02T00:00:00"
         ],
         "y": {
          "bdata": "AAAA4KNQgkAAAADAHkWCQA==",
          "dtype": "f8"
         }
        },
        {
         "line": {
          "color": "red",
          "width": 2
         },
         "mode": "lines",
         "name": "Price",
         "showlegend": false,
         "type": "scatter",
         "x": [
          "2025-01-02T00:00:00",
          "2025-01-03T00:00:00"
         ],
         "y": {
          "bdata": "AAAAwB5FgkAAAACgmX+CQA==",
          "dtype": "f8"
         }
        },
        {
         "line": {
          "color": "green",
          "width": 2
         },
         "mode": "lines",
         "name": "Price",
         "showlegend": false,
         "type": "scatter",
         "x": [
          "2025-01-03T00:00:00",
          "2025-01-06T00:00:00"
         ],
         "y": {
          "bdata": "AAAAoJl/gkAAAABA4ZqCQA==",
          "dtype": "f8"
         }
        },
        {
         "line": {
          "color": "green",
          "width": 2
         },
         "mode": "lines",
         "name": "Price",
         "showlegend": false,
         "type": "scatter",
         "x": [
          "2025-01-06T00:00:00",
          "2025-01-07T00:00:00"
         ],
         "y": {
          "bdata": "AAAAQOGagkAAAABACmWCQA==",
          "dtype": "f8"
         }
        },
        {
         "line": {
          "color": "red",
          "width": 2
         },
         "mode": "lines",
         "name": "Price",
         "showlegend": false,
         "type": "scatter",
         "x": [
          "2025-01-07T00:00:00",
          "2025-01-08T00:00:00"
         ],
         "y": {
          "bdata": "AAAAQAplgkAAAACA62uCQA==",
          "dtype": "f8"
         }
        },
        {
         "line": {
          "color": "red",
          "width": 2
         },
         "mode": "lines",
         "name": "Price",
         "showlegend": false,
         "type": "scatter",
         "x": [
          "2025-01-08T00:00:00",
          "2025-01-10T00:00:00"
         ],
         "y": {
          "bdata": "AAAAgOtrgkAAAACA6yOCQA==",
          "dtype": "f8"
         }
        },
        {
         "line": {
          "color": "red",
          "width": 2
         },
         "mode": "lines",
         "name": "Price",
         "showlegend": false,
         "type": "scatter",
         "x": [
          "2025-01-10T00:00:00",
          "2025-01-13T00:00:00"
         ],
         "y": {
          "bdata": "AAAAgOsjgkAAAADAHiuCQA==",
          "dtype": "f8"
         }
        },
        {
         "line": {
          "color": "red",
          "width": 2
         },
         "mode": "lines",
         "name": "Price",
         "showlegend": false,
         "type": "scatter",
         "x": [
          "2025-01-13T00:00:00",
          "2025-01-14T00:00:00"
         ],
         "y": {
          "bdata": "AAAAwB4rgkAAAAAghTGCQA==",
          "dtype": "f8"
         }
        },
        {
         "line": {
          "color": "red",
          "width": 2
         },
         "mode": "lines",
         "name": "Price",
         "showlegend": false,
         "type": "scatter",
         "x": [
          "2025-01-14T00:00:00",
          "2025-01-15T00:00:00"
         ],
         "y": {
          "bdata": "AAAAIIUxgkAAAACAPYaCQA==",
          "dtype": "f8"
         }
        },
        {
         "line": {
          "color": "red",
          "width": 2
         },
         "mode": "lines",
         "name": "Price",
         "showlegend": false,
         "type": "scatter",
         "x": [
          "2025-01-15T00:00:00",
          "2025-01-16T00:00:00"
         ],
         "y": {
          "bdata": "AAAAgD2GgkAAAADAHn2CQA==",
          "dtype": "f8"
         }
        },
        {
         "line": {
          "color": "red",
          "width": 2
         },
         "mode": "lines",
         "name": "Price",
         "showlegend": false,
         "type": "scatter",
         "x": [
          "2025-01-16T00:00:00",
          "2025-01-17T00:00:00"
         ],
         "y": {
          "bdata": "AAAAwB59gkAAAADgo6yCQA==",
          "dtype": "f8"
         }
        },
        {
         "line": {
          "color": "red",
          "width": 2
         },
         "mode": "lines",
         "name": "Price",
         "showlegend": false,
         "type": "scatter",
         "x": [
          "2025-01-17T00:00:00",
          "2025-01-21T00:00:00"
         ],
         "y": {
          "bdata": "AAAA4KOsgkAAAABgZtiCQA==",
          "dtype": "f8"
         }
        },
        {
         "line": {
          "color": "red",
          "width": 2
         },
         "mode": "lines",
         "name": "Price",
         "showlegend": false,
         "type": "scatter",
         "x": [
          "2025-01-21T00:00:00",
          "2025-01-22T00:00:00"
         ],
         "y": {
          "bdata": "AAAAYGbYgkAAAAAghfOCQA==",
          "dtype": "f8"
         }
        },
        {
         "line": {
          "color": "red",
          "width": 2
         },
         "mode": "lines",
         "name": "Price",
         "showlegend": false,
         "type": "scatter",
         "x": [
          "2025-01-22T00:00:00",
          "2025-01-23T00:00:00"
         ],
         "y": {
          "bdata": "AAAAIIXzgkAAAAAAAA6DQA==",
          "dtype": "f8"
         }
        },
        {
         "line": {
          "color": "green",
          "width": 2
         },
         "mode": "lines",
         "name": "Price",
         "showlegend": false,
         "type": "scatter",
         "x": [
          "2025-01-23T00:00:00",
          "2025-01-24T00:00:00"
         ],
         "y": {
          "bdata": "AAAAAAAOg0AAAACAwv+CQA==",
          "dtype": "f8"
         }
        },
        {
         "line": {
          "color": "green",
          "width": 2
         },
         "mode": "lines",
         "name": "Price",
         "showlegend": false,
         "type": "scatter",
         "x": [
          "2025-01-24T00:00:00",
          "2025-01-27T00:00:00"
         ],
         "y": {
          "bdata": "AAAAgML/gkAAAADA9bqCQA==",
          "dtype": "f8"
         }
        },
        {
         "line": {
          "color": "red",
          "width": 2
         },
         "mode": "lines",
         "name": "Price",
         "showlegend": false,
         "type": "scatter",
         "x": [
          "2025-01-27T00:00:00",
          "2025-01-28T00:00:00"
         ],
         "y": {
          "bdata": "AAAAwPW6gkAAAAAAKeSCQA==",
          "dtype": "f8"
         }
        },
        {
         "line": {
          "color": "green",
          "width": 2
         },
         "mode": "lines",
         "name": "Price",
         "showlegend": false,
         "type": "scatter",
         "x": [
          "2025-01-28T00:00:00",
          "2025-01-29T00:00:00"
         ],
         "y": {
          "bdata": "AAAAACnkgkAAAADges6CQA==",
          "dtype": "f8"
         }
        },
        {
         "line": {
          "color": "red",
          "width": 2
         },
         "mode": "lines",
         "name": "Price",
         "showlegend": false,
         "type": "scatter",
         "x": [
          "2025-01-29T00:00:00",
          "2025-01-30T00:00:00"
         ],
         "y": {
          "bdata": "AAAA4HrOgkAAAADgUeiCQA==",
          "dtype": "f8"
         }
        },
        {
         "line": {
          "color": "green",
          "width": 2
         },
         "mode": "lines",
         "name": "Price",
         "showlegend": false,
         "type": "scatter",
         "x": [
          "2025-01-30T00:00:00",
          "2025-01-31T00:00:00"
         ],
         "y": {
          "bdata": "AAAA4FHogkAAAABgj86CQA==",
          "dtype": "f8"
         }
        },
        {
         "line": {
          "color": "red",
          "width": 2
         },
         "mode": "lines",
         "name": "Price",
         "showlegend": false,
         "type": "scatter",
         "x": [
          "2025-01-31T00:00:00",
          "2025-02-03T00:00:00"
         ],
         "y": {
          "bdata": "AAAAYI/OgkAAAAAAKa6CQA==",
          "dtype": "f8"
         }
        },
        {
         "line": {
          "color": "red",
          "width": 2
         },
         "mode": "lines",
         "name": "Price",
         "showlegend": false,
         "type": "scatter",
         "x": [
          "2025-02-03T00:00:00",
          "2025-02-04T00:00:00"
         ],
         "y": {
          "bdata": "AAAAACmugkAAAACAPc6CQA==",
          "dtype": "f8"
         }
        },
        {
         "line": {
          "color": "red",
          "width": 2
         },
         "mode": "lines",
         "name": "Price",
         "showlegend": false,
         "type": "scatter",
         "x": [
          "2025-02-04T00:00:00",
          "2025-02-05T00:00:00"
         ],
         "y": {
          "bdata": "AAAAgD3OgkAAAACAwuGCQA==",
          "dtype": "f8"
         }
        },
        {
         "line": {
          "color": "green",
          "width": 2
         },
         "mode": "lines",
         "name": "Price",
         "showlegend": false,
         "type": "scatter",
         "x": [
          "2025-02-05T00:00:00",
          "2025-02-06T00:00:00"
         ],
         "y": {
          "bdata": "AAAAgMLhgkAAAABgj/KCQA==",
          "dtype": "f8"
         }
        },
        {
         "line": {
          "color": "green",
          "width": 2
         },
         "mode": "lines",
         "name": "Price",
         "showlegend": false,
         "type": "scatter",
         "x": [
          "2025-02-06T00:00:00",
          "2025-02-07T00:00:00"
         ],
         "y": {
          "bdata": "AAAAYI/ygkAAAAAAKcaCQA==",
          "dtype": "f8"
         }
        },
        {
         "line": {
          "color": "green",
          "width": 2
         },
         "mode": "lines",
         "name": "Price",
         "showlegend": false,
         "type": "scatter",
         "x": [
          "2025-02-07T00:00:00",
          "2025-02-10T00:00:00"
         ],
         "y": {
          "bdata": "AAAAACnGgkAAAADAzOaCQA==",
          "dtype": "f8"
         }
        },
        {
         "line": {
          "color": "green",
          "width": 2
         },
         "mode": "lines",
         "name": "Price",
         "showlegend": false,
         "type": "scatter",
         "x": [
          "2025-02-10T00:00:00",
          "2025-02-11T00:00:00"
         ],
         "y": {
          "bdata": "AAAAwMzmgkAAAADgeuqCQA==",
          "dtype": "f8"
         }
        },
        {
         "line": {
          "color": "green",
          "width": 2
         },
         "mode": "lines",
         "name": "Price",
         "showlegend": false,
         "type": "scatter",
         "x": [
          "2025-02-11T00:00:00",
          "2025-02-12T00:00:00"
         ],
         "y": {
          "bdata": "AAAA4HrqgkAAAABA4dqCQA==",
          "dtype": "f8"
         }
        },
        {
         "line": {
          "color": "green",
          "width": 2
         },
         "mode": "lines",
         "name": "Price",
         "showlegend": false,
         "type": "scatter",
         "x": [
          "2025-02-12T00:00:00",
          "2025-02-13T00:00:00"
         ],
         "y": {
          "bdata": "AAAAQOHagkAAAAAA1w2DQA==",
          "dtype": "f8"
         }
        },
        {
         "line": {
          "color": "green",
          "width": 2
         },
         "mode": "lines",
         "name": "Price",
         "showlegend": false,
         "type": "scatter",
         "x": [
          "2025-02-13T00:00:00",
          "2025-02-14T00:00:00"
         ],
         "y": {
          "bdata": "AAAAANcNg0AAAACgmQ2DQA==",
          "dtype": "f8"
         }
        },
        {
         "line": {
          "color": "green",
          "width": 2
         },
         "mode": "lines",
         "name": "Price",
         "showlegend": false,
         "type": "scatter",
         "x": [
          "2025-02-14T00:00:00",
          "2025-02-18T00:00:00"
         ],
         "y": {
          "bdata": "AAAAoJkNg0AAAACA6xuDQA==",
          "dtype": "f8"
         }
        },
        {
         "line": {
          "color": "green",
          "width": 2
         },
         "mode": "lines",
         "name": "Price",
         "showlegend": false,
         "type": "scatter",
         "x": [
          "2025-02-18T00:00:00",
          "2025-02-19T00:00:00"
         ],
         "y": {
          "bdata": "AAAAgOsbg0AAAACgcCeDQA==",
          "dtype": "f8"
         }
        },
        {
         "line": {
          "color": "green",
          "width": 2
         },
         "mode": "lines",
         "name": "Price",
         "showlegend": false,
         "type": "scatter",
         "x": [
          "2025-02-19T00:00:00",
          "2025-02-20T00:00:00"
         ],
         "y": {
          "bdata": "AAAAoHAng0AAAABAChODQA==",
          "dtype": "f8"
         }
        },
        {
         "line": {
          "color": "green",
          "width": 2
         },
         "mode": "lines",
         "name": "Price",
         "showlegend": false,
         "type": "scatter",
         "x": [
          "2025-02-20T00:00:00",
          "2025-02-21T00:00:00"
         ],
         "y": {
          "bdata": "AAAAQAoTg0AAAAAghb+CQA==",
          "dtype": "f8"
         }
        },
        {
         "line": {
          "color": "green",
          "width": 2
         },
         "mode": "lines",
         "name": "Price",
         "showlegend": false,
         "type": "scatter",
         "x": [
          "2025-02-21T00:00:00",
          "2025-02-24T00:00:00"
         ],
         "y": {
          "bdata": "AAAAIIW/gkAAAAAgrqmCQA==",
          "dtype": "f8"
         }
        },
        {
         "line": {
          "color": "green",
          "width": 2
         },
         "mode": "lines",
         "name": "Price",
         "showlegend": false,
         "type": "scatter",
         "x": [
          "2025-02-24T00:00:00",
          "2025-02-25T00:00:00"
         ],
         "y": {
          "bdata": "AAAAIK6pgkAAAACA65GCQA==",
          "dtype": "f8"
         }
        },
        {
         "line": {
          "color": "green",
          "width": 2
         },
         "mode": "lines",
         "name": "Price",
         "showlegend": false,
         "type": "scatter",
         "x": [
          "2025-02-25T00:00:00",
          "2025-02-26T00:00:00"
         ],
         "y": {
          "bdata": "AAAAgOuRgkAAAADgUZSCQA==",
          "dtype": "f8"
         }
        },
        {
         "line": {
          "color": "green",
          "width": 2
         },
         "mode": "lines",
         "name": "Price",
         "showlegend": false,
         "type": "scatter",
         "x": [
          "2025-02-26T00:00:00",
          "2025-02-27T00:00:00"
         ],
         "y": {
          "bdata": "AAAA4FGUgkAAAABgZkiCQA==",
          "dtype": "f8"
         }
        },
        {
         "line": {
          "color": "green",
          "width": 2
         },
         "mode": "lines",
         "name": "Price",
         "showlegend": false,
         "type": "scatter",
         "x": [
          "2025-02-27T00:00:00",
          "2025-02-28T00:00:00"
         ],
         "y": {
          "bdata": "AAAAYGZIgkAAAACgcJGCQA==",
          "dtype": "f8"
         }
        },
        {
         "line": {
          "color": "green",
          "width": 2
         },
         "mode": "lines",
         "name": "Price",
         "showlegend": false,
         "type": "scatter",
         "x": [
          "2025-02-28T00:00:00",
          "2025-03-03T00:00:00"
         ],
         "y": {
          "bdata": "AAAAoHCRgkAAAAAAKT6CQA==",
          "dtype": "f8"
         }
        },
        {
         "line": {
          "color": "red",
          "width": 2
         },
         "mode": "lines",
         "name": "Price",
         "showlegend": false,
         "type": "scatter",
         "x": [
          "2025-03-03T00:00:00",
          "2025-03-04T00:00:00"
         ],
         "y": {
          "bdata": "AAAAACk+gkAAAABA4QaCQA==",
          "dtype": "f8"
         }
        },
        {
         "line": {
          "color": "red",
          "width": 2
         },
         "mode": "lines",
         "name": "Price",
         "showlegend": false,
         "type": "scatter",
         "x": [
          "2025-03-04T00:00:00",
          "2025-03-05T00:00:00"
         ],
         "y": {
          "bdata": "AAAAQOEGgkAAAADgejiCQA==",
          "dtype": "f8"
         }
        },
        {
         "line": {
          "color": "red",
          "width": 2
         },
         "mode": "lines",
         "name": "Price",
         "showlegend": false,
         "type": "scatter",
         "x": [
          "2025-03-05T00:00:00",
          "2025-03-06T00:00:00"
         ],
         "y": {
          "bdata": "AAAA4Ho4gkAAAAAgruWBQA==",
          "dtype": "f8"
         }
        },
        {
         "line": {
          "color": "red",
          "width": 2
         },
         "mode": "lines",
         "name": "Price",
         "showlegend": false,
         "type": "scatter",
         "x": [
          "2025-03-06T00:00:00",
          "2025-03-07T00:00:00"
         ],
         "y": {
          "bdata": "AAAAIK7lgUAAAAAgXP+BQA==",
          "dtype": "f8"
         }
        },
        {
         "line": {
          "color": "red",
          "width": 2
         },
         "mode": "lines",
         "name": "Price",
         "showlegend": false,
         "type": "scatter",
         "x": [
          "2025-03-07T00:00:00",
          "2025-03-10T00:00:00"
         ],
         "y": {
          "bdata": "AAAAIFz/gUAAAADgo4SBQA==",
          "dtype": "f8"
         }
        },
        {
         "line": {
          "color": "red",
          "width": 2
         },
         "mode": "lines",
         "name": "Price",
         "showlegend": false,
         "type": "scatter",
         "x": [
          "2025-03-10T00:00:00",
          "2025-03-11T00:00:00"
         ],
         "y": {
          "bdata": "AAAA4KOEgUAAAAAgXF+BQA==",
          "dtype": "f8"
         }
        },
        {
         "line": {
          "color": "red",
          "width": 2
         },
         "mode": "lines",
         "name": "Price",
         "showlegend": false,
         "type": "scatter",
         "x": [
          "2025-03-11T00:00:00",
          "2025-03-12T00:00:00"
         ],
         "y": {
          "bdata": "AAAAIFxfgUAAAADA9XaBQA==",
          "dtype": "f8"
         }
        },
        {
         "line": {
          "color": "red",
          "width": 2
         },
         "mode": "lines",
         "name": "Price",
         "showlegend": false,
         "type": "scatter",
         "x": [
          "2025-03-12T00:00:00",
          "2025-03-13T00:00:00"
         ],
         "y": {
          "bdata": "AAAAwPV2gUAAAAAgXDuBQA==",
          "dtype": "f8"
         }
        },
        {
         "line": {
          "color": "red",
          "width": 2
         },
         "mode": "lines",
         "name": "Price",
         "showlegend": false,
         "type": "scatter",
         "x": [
          "2025-03-13T00:00:00",
          "2025-03-14T00:00:00"
         ],
         "y": {
          "bdata": "AAAAIFw7gUAAAADgepaBQA==",
          "dtype": "f8"
         }
        },
        {
         "line": {
          "color": "red",
          "width": 2
         },
         "mode": "lines",
         "name": "Price",
         "showlegend": false,
         "type": "scatter",
         "x": [
          "2025-03-14T00:00:00",
          "2025-03-17T00:00:00"
         ],
         "y": {
          "bdata": "AAAA4HqWgUAAAABAM7mBQA==",
          "dtype": "f8"
         }
        },
        {
         "line": {
          "color": "red",
          "width": 2
         },
         "mode": "lines",
         "name": "Price",
         "showlegend": false,
         "type": "scatter",
         "x": [
          "2025-03-17T00:00:00",
          "2025-03-18T00:00:00"
         ],
         "y": {
          "bdata": "AAAAQDO5gUAAAAAAKYiBQA==",
          "dtype": "f8"
         }
        },
        {
         "line": {
          "color": "red",
          "width": 2
         },
         "mode": "lines",
         "name": "Price",
         "showlegend": false,
         "type": "scatter",
         "x": [
          "2025-03-18T00:00:00",
          "2025-03-19T00:00:00"
         ],
         "y": {
          "bdata": "AAAAACmIgUAAAABACrmBQA==",
          "dtype": "f8"
         }
        },
        {
         "line": {
          "color": "red",
          "width": 2
         },
         "mode": "lines",
         "name": "Price",
         "showlegend": false,
         "type": "scatter",
         "x": [
          "2025-03-19T00:00:00",
          "2025-03-20T00:00:00"
         ],
         "y": {
          "bdata": "AAAAQAq5gUAAAACA66uBQA==",
          "dtype": "f8"
         }
        },
        {
         "line": {
          "color": "red",
          "width": 2
         },
         "mode": "lines",
         "name": "Price",
         "showlegend": false,
         "type": "scatter",
         "x": [
          "2025-03-20T00:00:00",
          "2025-03-21T00:00:00"
         ],
         "y": {
          "bdata": "AAAAgOurgUAAAAAA15+BQA==",
          "dtype": "f8"
         }
        },
        {
         "line": {
          "color": "red",
          "width": 2
         },
         "mode": "lines",
         "name": "Price",
         "showlegend": false,
         "type": "scatter",
         "x": [
          "2025-03-21T00:00:00",
          "2025-03-24T00:00:00"
         ],
         "y": {
          "bdata": "AAAAANefgUAAAADgo/CBQA==",
          "dtype": "f8"
         }
        },
        {
         "line": {
          "color": "red",
          "width": 2
         },
         "mode": "lines",
         "name": "Price",
         "showlegend": false,
         "type": "scatter",
         "x": [
          "2025-03-24T00:00:00",
          "2025-03-25T00:00:00"
         ],
         "y": {
          "bdata": "AAAA4KPwgUAAAAAgrvuBQA==",
          "dtype": "f8"
         }
        },
        {
         "line": {
          "color": "red",
          "width": 2
         },
         "mode": "lines",
         "name": "Price",
         "showlegend": false,
         "type": "scatter",
         "x": [
          "2025-03-25T00:00:00",
          "2025-03-26T00:00:00"
         ],
         "y": {
          "bdata": "AAAAIK77gUAAAABguMSBQA==",
          "dtype": "f8"
         }
        },
        {
         "line": {
          "color": "red",
          "width": 2
         },
         "mode": "lines",
         "name": "Price",
         "showlegend": false,
         "type": "scatter",
         "x": [
          "2025-03-26T00:00:00",
          "2025-03-27T00:00:00"
         ],
         "y": {
          "bdata": "AAAAYLjEgUAAAADgo7iBQA==",
          "dtype": "f8"
         }
        },
        {
         "line": {
          "color": "red",
          "width": 2
         },
         "mode": "lines",
         "name": "Price",
         "showlegend": false,
         "type": "scatter",
         "x": [
          "2025-03-27T00:00:00",
          "2025-03-28T00:00:00"
         ],
         "y": {
          "bdata": "AAAA4KO4gUAAAACgR12BQA==",
          "dtype": "f8"
         }
        },
        {
         "line": {
          "color": "red",
          "width": 2
         },
         "mode": "lines",
         "name": "Price",
         "showlegend": false,
         "type": "scatter",
         "x": [
          "2025-03-28T00:00:00",
          "2025-03-31T00:00:00"
         ],
         "y": {
          "bdata": "AAAAoEddgUAAAADAHnuBQA==",
          "dtype": "f8"
         }
        },
        {
         "line": {
          "color": "red",
          "width": 2
         },
         "mode": "lines",
         "name": "Price",
         "showlegend": false,
         "type": "scatter",
         "x": [
          "2025-03-31T00:00:00",
          "2025-04-01T00:00:00"
         ],
         "y": {
          "bdata": "AAAAwB57gUAAAACAwoeBQA==",
          "dtype": "f8"
         }
        },
        {
         "line": {
          "color": "red",
          "width": 2
         },
         "mode": "lines",
         "name": "Price",
         "showlegend": false,
         "type": "scatter",
         "x": [
          "2025-04-01T00:00:00",
          "2025-04-02T00:00:00"
         ],
         "y": {
          "bdata": "AAAAgMKHgUAAAAAAKaSBQA==",
          "dtype": "f8"
         }
        },
        {
         "line": {
          "color": "red",
          "width": 2
         },
         "mode": "lines",
         "name": "Price",
         "showlegend": false,
         "type": "scatter",
         "x": [
          "2025-04-02T00:00:00",
          "2025-04-03T00:00:00"
         ],
         "y": {
          "bdata": "AAAAACmkgUAAAACgmcWAQA==",
          "dtype": "f8"
         }
        },
        {
         "line": {
          "color": "red",
          "width": 2
         },
         "mode": "lines",
         "name": "Price",
         "showlegend": false,
         "type": "scatter",
         "x": [
          "2025-04-03T00:00:00",
          "2025-04-04T00:00:00"
         ],
         "y": {
          "bdata": "AAAAoJnFgEAAAADgepR/QA==",
          "dtype": "f8"
         }
        },
        {
         "line": {
          "color": "red",
          "width": 2
         },
         "mode": "lines",
         "name": "Price",
         "showlegend": false,
         "type": "scatter",
         "x": [
          "2025-04-04T00:00:00",
          "2025-04-07T00:00:00"
         ],
         "y": {
          "bdata": "AAAA4HqUf0AAAACAFIZ/QA==",
          "dtype": "f8"
         }
        },
        {
         "line": {
          "color": "red",
          "width": 2
         },
         "mode": "lines",
         "name": "Price",
         "showlegend": false,
         "type": "scatter",
         "x": [
          "2025-04-07T00:00:00",
          "2025-04-08T00:00:00"
         ],
         "y": {
          "bdata": "AAAAgBSGf0AAAAAgrgd/QA==",
          "dtype": "f8"
         }
        },
        {
         "line": {
          "color": "red",
          "width": 2
         },
         "mode": "lines",
         "name": "Price",
         "showlegend": false,
         "type": "scatter",
         "x": [
          "2025-04-08T00:00:00",
          "2025-04-09T00:00:00"
         ],
         "y": {
          "bdata": "AAAAIK4Hf0AAAADA9SSBQA==",
          "dtype": "f8"
         }
        },
        {
         "line": {
          "color": "red",
          "width": 2
         },
         "mode": "lines",
         "name": "Price",
         "showlegend": false,
         "type": "scatter",
         "x": [
          "2025-04-09T00:00:00",
          "2025-04-10T00:00:00"
         ],
         "y": {
          "bdata": "AAAAwPUkgUAAAADgo2SAQA==",
          "dtype": "f8"
         }
        },
        {
         "line": {
          "color": "red",
          "width": 2
         },
         "mode": "lines",
         "name": "Price",
         "showlegend": false,
         "type": "scatter",
         "x": [
          "2025-04-10T00:00:00",
          "2025-04-11T00:00:00"
         ],
         "y": {
          "bdata": "AAAA4KNkgEAAAAAgha+AQA==",
          "dtype": "f8"
         }
        },
        {
         "line": {
          "color": "red",
          "width": 2
         },
         "mode": "lines",
         "name": "Price",
         "showlegend": false,
         "type": "scatter",
         "x": [
          "2025-04-11T00:00:00",
          "2025-04-14T00:00:00"
         ],
         "y": {
          "bdata": "AAAAIIWvgEAAAADA9diAQA==",
          "dtype": "f8"
         }
        }
       ],
       "layout": {
        "legend": {
         "orientation": "h",
         "x": 0.45,
         "xanchor": "center",
         "y": 1.15
        },
        "showlegend": true,
        "template": {
         "data": {
          "bar": [
           {
            "error_x": {
             "color": "#f2f5fa"
            },
            "error_y": {
             "color": "#f2f5fa"
            },
            "marker": {
             "line": {
              "color": "rgb(17,17,17)",
              "width": 0.5
             },
             "pattern": {
              "fillmode": "overlay",
              "size": 10,
              "solidity": 0.2
             }
            },
            "type": "bar"
           }
          ],
          "barpolar": [
           {
            "marker": {
             "line": {
              "color": "rgb(17,17,17)",
              "width": 0.5
             },
             "pattern": {
              "fillmode": "overlay",
              "size": 10,
              "solidity": 0.2
             }
            },
            "type": "barpolar"
           }
          ],
          "carpet": [
           {
            "aaxis": {
             "endlinecolor": "#A2B1C6",
             "gridcolor": "#506784",
             "linecolor": "#506784",
             "minorgridcolor": "#506784",
             "startlinecolor": "#A2B1C6"
            },
            "baxis": {
             "endlinecolor": "#A2B1C6",
             "gridcolor": "#506784",
             "linecolor": "#506784",
             "minorgridcolor": "#506784",
             "startlinecolor": "#A2B1C6"
            },
            "type": "carpet"
           }
          ],
          "choropleth": [
           {
            "colorbar": {
             "outlinewidth": 0,
             "ticks": ""
            },
            "type": "choropleth"
           }
          ],
          "contour": [
           {
            "colorbar": {
             "outlinewidth": 0,
             "ticks": ""
            },
            "colorscale": [
             [
              0,
              "#0d0887"
             ],
             [
              0.1111111111111111,
              "#46039f"
             ],
             [
              0.2222222222222222,
              "#7201a8"
             ],
             [
              0.3333333333333333,
              "#9c179e"
             ],
             [
              0.4444444444444444,
              "#bd3786"
             ],
             [
              0.5555555555555556,
              "#d8576b"
             ],
             [
              0.6666666666666666,
              "#ed7953"
             ],
             [
              0.7777777777777778,
              "#fb9f3a"
             ],
             [
              0.8888888888888888,
              "#fdca26"
             ],
             [
              1,
              "#f0f921"
             ]
            ],
            "type": "contour"
           }
          ],
          "contourcarpet": [
           {
            "colorbar": {
             "outlinewidth": 0,
             "ticks": ""
            },
            "type": "contourcarpet"
           }
          ],
          "heatmap": [
           {
            "colorbar": {
             "outlinewidth": 0,
             "ticks": ""
            },
            "colorscale": [
             [
              0,
              "#0d0887"
             ],
             [
              0.1111111111111111,
              "#46039f"
             ],
             [
              0.2222222222222222,
              "#7201a8"
             ],
             [
              0.3333333333333333,
              "#9c179e"
             ],
             [
              0.4444444444444444,
              "#bd3786"
             ],
             [
              0.5555555555555556,
              "#d8576b"
             ],
             [
              0.6666666666666666,
              "#ed7953"
             ],
             [
              0.7777777777777778,
              "#fb9f3a"
             ],
             [
              0.8888888888888888,
              "#fdca26"
             ],
             [
              1,
              "#f0f921"
             ]
            ],
            "type": "heatmap"
           }
          ],
          "histogram": [
           {
            "marker": {
             "pattern": {
              "fillmode": "overlay",
              "size": 10,
              "solidity": 0.2
             }
            },
            "type": "histogram"
           }
          ],
          "histogram2d": [
           {
            "colorbar": {
             "outlinewidth": 0,
             "ticks": ""
            },
            "colorscale": [
             [
              0,
              "#0d0887"
             ],
             [
              0.1111111111111111,
              "#46039f"
             ],
             [
              0.2222222222222222,
              "#7201a8"
             ],
             [
              0.3333333333333333,
              "#9c179e"
             ],
             [
              0.4444444444444444,
              "#bd3786"
             ],
             [
              0.5555555555555556,
              "#d8576b"
             ],
             [
              0.6666666666666666,
              "#ed7953"
             ],
             [
              0.7777777777777778,
              "#fb9f3a"
             ],
             [
              0.8888888888888888,
              "#fdca26"
             ],
             [
              1,
              "#f0f921"
             ]
            ],
            "type": "histogram2d"
           }
          ],
          "histogram2dcontour": [
           {
            "colorbar": {
             "outlinewidth": 0,
             "ticks": ""
            },
            "colorscale": [
             [
              0,
              "#0d0887"
             ],
             [
              0.1111111111111111,
              "#46039f"
             ],
             [
              0.2222222222222222,
              "#7201a8"
             ],
             [
              0.3333333333333333,
              "#9c179e"
             ],
             [
              0.4444444444444444,
              "#bd3786"
             ],
             [
              0.5555555555555556,
              "#d8576b"
             ],
             [
              0.6666666666666666,
              "#ed7953"
             ],
             [
              0.7777777777777778,
              "#fb9f3a"
             ],
             [
              0.8888888888888888,
              "#fdca26"
             ],
             [
              1,
              "#f0f921"
             ]
            ],
            "type": "histogram2dcontour"
           }
          ],
          "mesh3d": [
           {
            "colorbar": {
             "outlinewidth": 0,
             "ticks": ""
            },
            "type": "mesh3d"
           }
          ],
          "parcoords": [
           {
            "line": {
             "colorbar": {
              "outlinewidth": 0,
              "ticks": ""
             }
            },
            "type": "parcoords"
           }
          ],
          "pie": [
           {
            "automargin": true,
            "type": "pie"
           }
          ],
          "scatter": [
           {
            "marker": {
             "line": {
              "color": "#283442"
             }
            },
            "type": "scatter"
           }
          ],
          "scatter3d": [
           {
            "line": {
             "colorbar": {
              "outlinewidth": 0,
              "ticks": ""
             }
            },
            "marker": {
             "colorbar": {
              "outlinewidth": 0,
              "ticks": ""
             }
            },
            "type": "scatter3d"
           }
          ],
          "scattercarpet": [
           {
            "marker": {
             "colorbar": {
              "outlinewidth": 0,
              "ticks": ""
             }
            },
            "type": "scattercarpet"
           }
          ],
          "scattergeo": [
           {
            "marker": {
             "colorbar": {
              "outlinewidth": 0,
              "ticks": ""
             }
            },
            "type": "scattergeo"
           }
          ],
          "scattergl": [
           {
            "marker": {
             "line": {
              "color": "#283442"
             }
            },
            "type": "scattergl"
           }
          ],
          "scattermapbox": [
           {
            "marker": {
             "colorbar": {
              "outlinewidth": 0,
              "ticks": ""
             }
            },
            "type": "scattermapbox"
           }
          ],
          "scatterpolar": [
           {
            "marker": {
             "colorbar": {
              "outlinewidth": 0,
              "ticks": ""
             }
            },
            "type": "scatterpolar"
           }
          ],
          "scatterpolargl": [
           {
            "marker": {
             "colorbar": {
              "outlinewidth": 0,
              "ticks": ""
             }
            },
            "type": "scatterpolargl"
           }
          ],
          "scatterternary": [
           {
            "marker": {
             "colorbar": {
              "outlinewidth": 0,
              "ticks": ""
             }
            },
            "type": "scatterternary"
           }
          ],
          "surface": [
           {
            "colorbar": {
             "outlinewidth": 0,
             "ticks": ""
            },
            "colorscale": [
             [
              0,
              "#0d0887"
             ],
             [
              0.1111111111111111,
              "#46039f"
             ],
             [
              0.2222222222222222,
              "#7201a8"
             ],
             [
              0.3333333333333333,
              "#9c179e"
             ],
             [
              0.4444444444444444,
              "#bd3786"
             ],
             [
              0.5555555555555556,
              "#d8576b"
             ],
             [
              0.6666666666666666,
              "#ed7953"
             ],
             [
              0.7777777777777778,
              "#fb9f3a"
             ],
             [
              0.8888888888888888,
              "#fdca26"
             ],
             [
              1,
              "#f0f921"
             ]
            ],
            "type": "surface"
           }
          ],
          "table": [
           {
            "cells": {
             "fill": {
              "color": "#506784"
             },
             "line": {
              "color": "rgb(17,17,17)"
             }
            },
            "header": {
             "fill": {
              "color": "#2a3f5f"
             },
             "line": {
              "color": "rgb(17,17,17)"
             }
            },
            "type": "table"
           }
          ]
         },
         "layout": {
          "annotationdefaults": {
           "arrowcolor": "#f2f5fa",
           "arrowhead": 0,
           "arrowwidth": 1
          },
          "annotations": [
           {
            "font": {
             "color": "black",
             "size": 90
            },
            "name": "draft watermark",
            "opacity": 0.1,
            "showarrow": false,
            "text": "humblDATA",
            "textangle": -25,
            "x": 0.5,
            "xref": "paper",
            "y": 0.5,
            "yref": "paper"
           }
          ],
          "autotypenumbers": "strict",
          "coloraxis": {
           "colorbar": {
            "outlinewidth": 0,
            "ticks": ""
           }
          },
          "colorscale": {
           "diverging": [
            [
             0,
             "#8e0152"
            ],
            [
             0.1,
             "#c51b7d"
            ],
            [
             0.2,
             "#de77ae"
            ],
            [
             0.3,
             "#f1b6da"
            ],
            [
             0.4,
             "#fde0ef"
            ],
            [
             0.5,
             "#f7f7f7"
            ],
            [
             0.6,
             "#e6f5d0"
            ],
            [
             0.7,
             "#b8e186"
            ],
            [
             0.8,
             "#7fbc41"
            ],
            [
             0.9,
             "#4d9221"
            ],
            [
             1,
             "#276419"
            ]
           ],
           "sequential": [
            [
             0,
             "#0d0887"
            ],
            [
             0.1111111111111111,
             "#46039f"
            ],
            [
             0.2222222222222222,
             "#7201a8"
            ],
            [
             0.3333333333333333,
             "#9c179e"
            ],
            [
             0.4444444444444444,
             "#bd3786"
            ],
            [
             0.5555555555555556,
             "#d8576b"
            ],
            [
             0.6666666666666666,
             "#ed7953"
            ],
            [
             0.7777777777777778,
             "#fb9f3a"
            ],
            [
             0.8888888888888888,
             "#fdca26"
            ],
            [
             1,
             "#f0f921"
            ]
           ],
           "sequentialminus": [
            [
             0,
             "#0d0887"
            ],
            [
             0.1111111111111111,
             "#46039f"
            ],
            [
             0.2222222222222222,
             "#7201a8"
            ],
            [
             0.3333333333333333,
             "#9c179e"
            ],
            [
             0.4444444444444444,
             "#bd3786"
            ],
            [
             0.5555555555555556,
             "#d8576b"
            ],
            [
             0.6666666666666666,
             "#ed7953"
            ],
            [
             0.7777777777777778,
             "#fb9f3a"
            ],
            [
             0.8888888888888888,
             "#fdca26"
            ],
            [
             1,
             "#f0f921"
            ]
           ]
          },
          "colorway": [
           "#636efa",
           "#EF553B",
           "#00cc96",
           "#ab63fa",
           "#FFA15A",
           "#19d3f3",
           "#FF6692",
           "#B6E880",
           "#FF97FF",
           "#FECB52"
          ],
          "font": {
           "color": "white"
          },
          "geo": {
           "bgcolor": "rgb(17,17,17)",
           "lakecolor": "rgb(17,17,17)",
           "landcolor": "rgb(17,17,17)",
           "showlakes": true,
           "showland": true,
           "subunitcolor": "#506784"
          },
          "hoverlabel": {
           "align": "left"
          },
          "hovermode": "closest",
          "legend": {
           "bgcolor": "rgb(0,0,0,0)",
           "bordercolor": "rgb(63,70,139)",
           "borderwidth": 0.5,
           "font": {
            "color": "white",
            "family": "open-sans",
            "size": 12
           },
           "orientation": "h",
           "traceorder": "normal",
           "x": 0.5,
           "xanchor": "center",
           "y": -0.15
          },
          "mapbox": {
           "style": "dark"
          },
          "paper_bgcolor": "rgb(0,0,0,0)",
          "plot_bgcolor": "rgb(0,0,0,0)",
          "polar": {
           "angularaxis": {
            "gridcolor": "#506784",
            "linecolor": "#506784",
            "ticks": ""
           },
           "bgcolor": "rgb(17,17,17)",
           "radialaxis": {
            "gridcolor": "#506784",
            "linecolor": "#506784",
            "ticks": ""
           }
          },
          "scene": {
           "xaxis": {
            "backgroundcolor": "rgb(17,17,17)",
            "gridcolor": "#506784",
            "gridwidth": 2,
            "linecolor": "#506784",
            "showbackground": true,
            "ticks": "",
            "zerolinecolor": "#C8D4E3"
           },
           "yaxis": {
            "backgroundcolor": "rgb(17,17,17)",
            "gridcolor": "#506784",
            "gridwidth": 2,
            "linecolor": "#506784",
            "showbackground": true,
            "ticks": "",
            "zerolinecolor": "#C8D4E3"
           },
           "zaxis": {
            "backgroundcolor": "rgb(17,17,17)",
            "gridcolor": "#506784",
            "gridwidth": 2,
            "linecolor": "#506784",
            "showbackground": true,
            "ticks": "",
            "zerolinecolor": "#C8D4E3"
           }
          },
          "shapedefaults": {
           "line": {
            "color": "#f2f5fa"
           }
          },
          "sliderdefaults": {
           "bgcolor": "#C8D4E3",
           "bordercolor": "rgb(17,17,17)",
           "borderwidth": 1,
           "tickwidth": 0
          },
          "ternary": {
           "aaxis": {
            "gridcolor": "#506784",
            "linecolor": "#506784",
            "ticks": ""
           },
           "baxis": {
            "gridcolor": "#506784",
            "linecolor": "#506784",
            "ticks": ""
           },
           "bgcolor": "rgb(17,17,17)",
           "caxis": {
            "gridcolor": "#506784",
            "linecolor": "#506784",
            "ticks": ""
           }
          },
          "title": {
           "x": 0.05
          },
          "updatemenudefaults": {
           "bgcolor": "#506784",
           "borderwidth": 0
          },
          "xaxis": {
           "automargin": true,
           "gridcolor": "#283442",
           "linecolor": "#506784",
           "ticks": "",
           "title": {
            "standoff": 15
           },
           "zerolinecolor": "#283442",
           "zerolinewidth": 2
          },
          "yaxis": {
           "automargin": true,
           "gridcolor": "#283442",
           "linecolor": "#506784",
           "side": "right",
           "ticks": "",
           "title": {
            "standoff": 15
           },
           "zerolinecolor": "#283442",
           "zerolinewidth": 2
          }
         }
        },
        "title": {
         "text": "Price Colored by Momentum for SPY"
        },
        "xaxis": {
         "title": {
          "text": "Date"
         }
        },
        "yaxis": {
         "title": {
          "text": "Price"
         }
        }
       }
      }
     },
     "metadata": {},
     "output_type": "display_data"
    }
   ],
   "source": [
    "simple_momentum.show()"
   ]
  },
  {
   "cell_type": "code",
   "execution_count": 117,
   "metadata": {},
   "outputs": [
    {
     "data": {
      "text/html": [
       "<div><style>\n",
       ".dataframe > thead > tr,\n",
       ".dataframe > tbody > tr {\n",
       "  text-align: right;\n",
       "  white-space: pre-wrap;\n",
       "}\n",
       "</style>\n",
       "<small>shape: (220, 5)</small><table border=\"1\" class=\"dataframe\"><thead><tr><th>date</th><th>close</th><th>symbol</th><th>momentum</th><th>momentum_signal</th></tr><tr><td>date</td><td>f64</td><td>str</td><td>f64</td><td>i8</td></tr></thead><tbody><tr><td>2024-05-29</td><td>526.099976</td><td>&quot;SPY&quot;</td><td>0.042023</td><td>1</td></tr><tr><td>2024-05-30</td><td>522.609985</td><td>&quot;SPY&quot;</td><td>0.037192</td><td>1</td></tr><tr><td>2024-05-31</td><td>527.369995</td><td>&quot;SPY&quot;</td><td>0.052195</td><td>1</td></tr><tr><td>2024-06-03</td><td>527.799988</td><td>&quot;SPY&quot;</td><td>0.05507</td><td>1</td></tr><tr><td>2024-06-04</td><td>528.390015</td><td>&quot;SPY&quot;</td><td>0.064954</td><td>1</td></tr><tr><td>&hellip;</td><td>&hellip;</td><td>&hellip;</td><td>&hellip;</td><td>&hellip;</td></tr><tr><td>2025-04-08</td><td>496.480011</td><td>&quot;SPY&quot;</td><td>-0.184726</td><td>0</td></tr><tr><td>2025-04-09</td><td>548.619995</td><td>&quot;SPY&quot;</td><td>-0.079877</td><td>0</td></tr><tr><td>2025-04-10</td><td>524.580017</td><td>&quot;SPY&quot;</td><td>-0.12519</td><td>0</td></tr><tr><td>2025-04-11</td><td>533.940002</td><td>&quot;SPY&quot;</td><td>-0.091414</td><td>0</td></tr><tr><td>2025-04-14</td><td>539.119995</td><td>&quot;SPY&quot;</td><td>-0.097244</td><td>0</td></tr></tbody></table></div>"
      ],
      "text/plain": [
       "shape: (220, 5)\n",
       "┌────────────┬────────────┬────────┬───────────┬─────────────────┐\n",
       "│ date       ┆ close      ┆ symbol ┆ momentum  ┆ momentum_signal │\n",
       "│ ---        ┆ ---        ┆ ---    ┆ ---       ┆ ---             │\n",
       "│ date       ┆ f64        ┆ str    ┆ f64       ┆ i8              │\n",
       "╞════════════╪════════════╪════════╪═══════════╪═════════════════╡\n",
       "│ 2024-05-29 ┆ 526.099976 ┆ SPY    ┆ 0.042023  ┆ 1               │\n",
       "│ 2024-05-30 ┆ 522.609985 ┆ SPY    ┆ 0.037192  ┆ 1               │\n",
       "│ 2024-05-31 ┆ 527.369995 ┆ SPY    ┆ 0.052195  ┆ 1               │\n",
       "│ 2024-06-03 ┆ 527.799988 ┆ SPY    ┆ 0.05507   ┆ 1               │\n",
       "│ 2024-06-04 ┆ 528.390015 ┆ SPY    ┆ 0.064954  ┆ 1               │\n",
       "│ …          ┆ …          ┆ …      ┆ …         ┆ …               │\n",
       "│ 2025-04-08 ┆ 496.480011 ┆ SPY    ┆ -0.184726 ┆ 0               │\n",
       "│ 2025-04-09 ┆ 548.619995 ┆ SPY    ┆ -0.079877 ┆ 0               │\n",
       "│ 2025-04-10 ┆ 524.580017 ┆ SPY    ┆ -0.12519  ┆ 0               │\n",
       "│ 2025-04-11 ┆ 533.940002 ┆ SPY    ┆ -0.091414 ┆ 0               │\n",
       "│ 2025-04-14 ┆ 539.119995 ┆ SPY    ┆ -0.097244 ┆ 0               │\n",
       "└────────────┴────────────┴────────┴───────────┴─────────────────┘"
      ]
     },
     "execution_count": 117,
     "metadata": {},
     "output_type": "execute_result"
    }
   ],
   "source": [
    "log_momentum.to_polars()"
   ]
  },
  {
   "cell_type": "code",
   "execution_count": 118,
   "metadata": {},
   "outputs": [
    {
     "data": {
      "application/vnd.plotly.v1+json": {
       "config": {
        "plotlyServerURL": "https://plot.ly"
       },
       "data": [
        {
         "line": {
          "color": "green",
          "width": 2
         },
         "mode": "lines",
         "name": "Price",
         "showlegend": true,
         "type": "scatter",
         "x": [
          "2024-05-29T00:00:00",
          "2024-05-30T00:00:00"
         ],
         "y": {
          "bdata": "AAAAwMxwgEAAAABA4VSAQA==",
          "dtype": "f8"
         }
        },
        {
         "line": {
          "color": "green",
          "width": 2
         },
         "mode": "lines",
         "name": "Price",
         "showlegend": false,
         "type": "scatter",
         "x": [
          "2024-05-30T00:00:00",
          "2024-05-31T00:00:00"
         ],
         "y": {
          "bdata": "AAAAQOFUgEAAAADA9XqAQA==",
          "dtype": "f8"
         }
        },
        {
         "line": {
          "color": "green",
          "width": 2
         },
         "mode": "lines",
         "name": "Price",
         "showlegend": false,
         "type": "scatter",
         "x": [
          "2024-05-31T00:00:00",
          "2024-06-03T00:00:00"
         ],
         "y": {
          "bdata": "AAAAwPV6gEAAAABgZn6AQA==",
          "dtype": "f8"
         }
        },
        {
         "line": {
          "color": "green",
          "width": 2
         },
         "mode": "lines",
         "name": "Price",
         "showlegend": false,
         "type": "scatter",
         "x": [
          "2024-06-03T00:00:00",
          "2024-06-04T00:00:00"
         ],
         "y": {
          "bdata": "AAAAYGZ+gEAAAADAHoOAQA==",
          "dtype": "f8"
         }
        },
        {
         "line": {
          "color": "green",
          "width": 2
         },
         "mode": "lines",
         "name": "Price",
         "showlegend": false,
         "type": "scatter",
         "x": [
          "2024-06-04T00:00:00",
          "2024-06-05T00:00:00"
         ],
         "y": {
          "bdata": "AAAAwB6DgEAAAAAgXLWAQA==",
          "dtype": "f8"
         }
        },
        {
         "line": {
          "color": "green",
          "width": 2
         },
         "mode": "lines",
         "name": "Price",
         "showlegend": false,
         "type": "scatter",
         "x": [
          "2024-06-05T00:00:00",
          "2024-06-06T00:00:00"
         ],
         "y": {
          "bdata": "AAAAIFy1gEAAAACgR7WAQA==",
          "dtype": "f8"
         }
        },
        {
         "line": {
          "color": "green",
          "width": 2
         },
         "mode": "lines",
         "name": "Price",
         "showlegend": false,
         "type": "scatter",
         "x": [
          "2024-06-06T00:00:00",
          "2024-06-07T00:00:00"
         ],
         "y": {
          "bdata": "AAAAoEe1gEAAAACAFLCAQA==",
          "dtype": "f8"
         }
        },
        {
         "line": {
          "color": "green",
          "width": 2
         },
         "mode": "lines",
         "name": "Price",
         "showlegend": false,
         "type": "scatter",
         "x": [
          "2024-06-07T00:00:00",
          "2024-06-10T00:00:00"
         ],
         "y": {
          "bdata": "AAAAgBSwgEAAAACgR72AQA==",
          "dtype": "f8"
         }
        },
        {
         "line": {
          "color": "green",
          "width": 2
         },
         "mode": "lines",
         "name": "Price",
         "showlegend": false,
         "type": "scatter",
         "x": [
          "2024-06-10T00:00:00",
          "2024-06-11T00:00:00"
         ],
         "y": {
          "bdata": "AAAAoEe9gEAAAACgmceAQA==",
          "dtype": "f8"
         }
        },
        {
         "line": {
          "color": "green",
          "width": 2
         },
         "mode": "lines",
         "name": "Price",
         "showlegend": false,
         "type": "scatter",
         "x": [
          "2024-06-11T00:00:00",
          "2024-06-12T00:00:00"
         ],
         "y": {
          "bdata": "AAAAoJnHgEAAAABA4eqAQA==",
          "dtype": "f8"
         }
        },
        {
         "line": {
          "color": "green",
          "width": 2
         },
         "mode": "lines",
         "name": "Price",
         "showlegend": false,
         "type": "scatter",
         "x": [
          "2024-06-12T00:00:00",
          "2024-06-13T00:00:00"
         ],
         "y": {
          "bdata": "AAAAQOHqgEAAAACgmfOAQA==",
          "dtype": "f8"
         }
        },
        {
         "line": {
          "color": "green",
          "width": 2
         },
         "mode": "lines",
         "name": "Price",
         "showlegend": false,
         "type": "scatter",
         "x": [
          "2024-06-13T00:00:00",
          "2024-06-14T00:00:00"
         ],
         "y": {
          "bdata": "AAAAoJnzgEAAAACAPfaAQA==",
          "dtype": "f8"
         }
        },
        {
         "line": {
          "color": "green",
          "width": 2
         },
         "mode": "lines",
         "name": "Price",
         "showlegend": false,
         "type": "scatter",
         "x": [
          "2024-06-14T00:00:00",
          "2024-06-17T00:00:00"
         ],
         "y": {
          "bdata": "AAAAgD32gEAAAADAzBiBQA==",
          "dtype": "f8"
         }
        },
        {
         "line": {
          "color": "green",
          "width": 2
         },
         "mode": "lines",
         "name": "Price",
         "showlegend": false,
         "type": "scatter",
         "x": [
          "2024-06-17T00:00:00",
          "2024-06-18T00:00:00"
         ],
         "y": {
          "bdata": "AAAAwMwYgUAAAACA6yOBQA==",
          "dtype": "f8"
         }
        },
        {
         "line": {
          "color": "green",
          "width": 2
         },
         "mode": "lines",
         "name": "Price",
         "showlegend": false,
         "type": "scatter",
         "x": [
          "2024-06-18T00:00:00",
          "2024-06-20T00:00:00"
         ],
         "y": {
          "bdata": "AAAAgOsjgUAAAAAAABiBQA==",
          "dtype": "f8"
         }
        },
        {
         "line": {
          "color": "green",
          "width": 2
         },
         "mode": "lines",
         "name": "Price",
         "showlegend": false,
         "type": "scatter",
         "x": [
          "2024-06-20T00:00:00",
          "2024-06-21T00:00:00"
         ],
         "y": {
          "bdata": "AAAAAAAYgUAAAACAFASBQA==",
          "dtype": "f8"
         }
        },
        {
         "line": {
          "color": "green",
          "width": 2
         },
         "mode": "lines",
         "name": "Price",
         "showlegend": false,
         "type": "scatter",
         "x": [
          "2024-06-21T00:00:00",
          "2024-06-24T00:00:00"
         ],
         "y": {
          "bdata": "AAAAgBQEgUAAAACA6/WAQA==",
          "dtype": "f8"
         }
        },
        {
         "line": {
          "color": "green",
          "width": 2
         },
         "mode": "lines",
         "name": "Price",
         "showlegend": false,
         "type": "scatter",
         "x": [
          "2024-06-24T00:00:00",
          "2024-06-25T00:00:00"
         ],
         "y": {
          "bdata": "AAAAgOv1gEAAAADgowaBQA==",
          "dtype": "f8"
         }
        },
        {
         "line": {
          "color": "green",
          "width": 2
         },
         "mode": "lines",
         "name": "Price",
         "showlegend": false,
         "type": "scatter",
         "x": [
          "2024-06-25T00:00:00",
          "2024-06-26T00:00:00"
         ],
         "y": {
          "bdata": "AAAA4KMGgUAAAACAFAyBQA==",
          "dtype": "f8"
         }
        },
        {
         "line": {
          "color": "green",
          "width": 2
         },
         "mode": "lines",
         "name": "Price",
         "showlegend": false,
         "type": "scatter",
         "x": [
          "2024-06-26T00:00:00",
          "2024-06-27T00:00:00"
         ],
         "y": {
          "bdata": "AAAAgBQMgUAAAADA9RKBQA==",
          "dtype": "f8"
         }
        },
        {
         "line": {
          "color": "green",
          "width": 2
         },
         "mode": "lines",
         "name": "Price",
         "showlegend": false,
         "type": "scatter",
         "x": [
          "2024-06-27T00:00:00",
          "2024-06-28T00:00:00"
         ],
         "y": {
          "bdata": "AAAAwPUSgUAAAACAwgGBQA==",
          "dtype": "f8"
         }
        },
        {
         "line": {
          "color": "green",
          "width": 2
         },
         "mode": "lines",
         "name": "Price",
         "showlegend": false,
         "type": "scatter",
         "x": [
          "2024-06-28T00:00:00",
          "2024-07-01T00:00:00"
         ],
         "y": {
          "bdata": "AAAAgMIBgUAAAABguAqBQA==",
          "dtype": "f8"
         }
        },
        {
         "line": {
          "color": "green",
          "width": 2
         },
         "mode": "lines",
         "name": "Price",
         "showlegend": false,
         "type": "scatter",
         "x": [
          "2024-07-01T00:00:00",
          "2024-07-02T00:00:00"
         ],
         "y": {
          "bdata": "AAAAYLgKgUAAAACAFCiBQA==",
          "dtype": "f8"
         }
        },
        {
         "line": {
          "color": "green",
          "width": 2
         },
         "mode": "lines",
         "name": "Price",
         "showlegend": false,
         "type": "scatter",
         "x": [
          "2024-07-02T00:00:00",
          "2024-07-03T00:00:00"
         ],
         "y": {
          "bdata": "AAAAgBQogUAAAAAgrjuBQA==",
          "dtype": "f8"
         }
        },
        {
         "line": {
          "color": "green",
          "width": 2
         },
         "mode": "lines",
         "name": "Price",
         "showlegend": false,
         "type": "scatter",
         "x": [
          "2024-07-03T00:00:00",
          "2024-07-05T00:00:00"
         ],
         "y": {
          "bdata": "AAAAIK47gUAAAADAHlWBQA==",
          "dtype": "f8"
         }
        },
        {
         "line": {
          "color": "green",
          "width": 2
         },
         "mode": "lines",
         "name": "Price",
         "showlegend": false,
         "type": "scatter",
         "x": [
          "2024-07-05T00:00:00",
          "2024-07-08T00:00:00"
         ],
         "y": {
          "bdata": "AAAAwB5VgUAAAACAPVqBQA==",
          "dtype": "f8"
         }
        },
        {
         "line": {
          "color": "green",
          "width": 2
         },
         "mode": "lines",
         "name": "Price",
         "showlegend": false,
         "type": "scatter",
         "x": [
          "2024-07-08T00:00:00",
          "2024-07-09T00:00:00"
         ],
         "y": {
          "bdata": "AAAAgD1agUAAAABgj16BQA==",
          "dtype": "f8"
         }
        },
        {
         "line": {
          "color": "green",
          "width": 2
         },
         "mode": "lines",
         "name": "Price",
         "showlegend": false,
         "type": "scatter",
         "x": [
          "2024-07-09T00:00:00",
          "2024-07-10T00:00:00"
         ],
         "y": {
          "bdata": "AAAAYI9egUAAAABgj4qBQA==",
          "dtype": "f8"
         }
        },
        {
         "line": {
          "color": "green",
          "width": 2
         },
         "mode": "lines",
         "name": "Price",
         "showlegend": false,
         "type": "scatter",
         "x": [
          "2024-07-10T00:00:00",
          "2024-07-11T00:00:00"
         ],
         "y": {
          "bdata": "AAAAYI+KgUAAAAAA12OBQA==",
          "dtype": "f8"
         }
        },
        {
         "line": {
          "color": "green",
          "width": 2
         },
         "mode": "lines",
         "name": "Price",
         "showlegend": false,
         "type": "scatter",
         "x": [
          "2024-07-11T00:00:00",
          "2024-07-12T00:00:00"
         ],
         "y": {
          "bdata": "AAAAANdjgUAAAACA63+BQA==",
          "dtype": "f8"
         }
        },
        {
         "line": {
          "color": "green",
          "width": 2
         },
         "mode": "lines",
         "name": "Price",
         "showlegend": false,
         "type": "scatter",
         "x": [
          "2024-07-12T00:00:00",
          "2024-07-15T00:00:00"
         ],
         "y": {
          "bdata": "AAAAgOt/gUAAAACAPYyBQA==",
          "dtype": "f8"
         }
        },
        {
         "line": {
          "color": "green",
          "width": 2
         },
         "mode": "lines",
         "name": "Price",
         "showlegend": false,
         "type": "scatter",
         "x": [
          "2024-07-15T00:00:00",
          "2024-07-16T00:00:00"
         ],
         "y": {
          "bdata": "AAAAgD2MgUAAAABA4aaBQA==",
          "dtype": "f8"
         }
        },
        {
         "line": {
          "color": "green",
          "width": 2
         },
         "mode": "lines",
         "name": "Price",
         "showlegend": false,
         "type": "scatter",
         "x": [
          "2024-07-16T00:00:00",
          "2024-07-17T00:00:00"
         ],
         "y": {
          "bdata": "AAAAQOGmgUAAAAAghWeBQA==",
          "dtype": "f8"
         }
        },
        {
         "line": {
          "color": "green",
          "width": 2
         },
         "mode": "lines",
         "name": "Price",
         "showlegend": false,
         "type": "scatter",
         "x": [
          "2024-07-17T00:00:00",
          "2024-07-18T00:00:00"
         ],
         "y": {
          "bdata": "AAAAIIVngUAAAACgR0WBQA==",
          "dtype": "f8"
         }
        },
        {
         "line": {
          "color": "green",
          "width": 2
         },
         "mode": "lines",
         "name": "Price",
         "showlegend": false,
         "type": "scatter",
         "x": [
          "2024-07-18T00:00:00",
          "2024-07-19T00:00:00"
         ],
         "y": {
          "bdata": "AAAAoEdFgUAAAACA6yeBQA==",
          "dtype": "f8"
         }
        },
        {
         "line": {
          "color": "green",
          "width": 2
         },
         "mode": "lines",
         "name": "Price",
         "showlegend": false,
         "type": "scatter",
         "x": [
          "2024-07-19T00:00:00",
          "2024-07-22T00:00:00"
         ],
         "y": {
          "bdata": "AAAAgOsngUAAAABAM1WBQA==",
          "dtype": "f8"
         }
        },
        {
         "line": {
          "color": "green",
          "width": 2
         },
         "mode": "lines",
         "name": "Price",
         "showlegend": false,
         "type": "scatter",
         "x": [
          "2024-07-22T00:00:00",
          "2024-07-23T00:00:00"
         ],
         "y": {
          "bdata": "AAAAQDNVgUAAAACAPU6BQA==",
          "dtype": "f8"
         }
        },
        {
         "line": {
          "color": "green",
          "width": 2
         },
         "mode": "lines",
         "name": "Price",
         "showlegend": false,
         "type": "scatter",
         "x": [
          "2024-07-23T00:00:00",
          "2024-07-24T00:00:00"
         ],
         "y": {
          "bdata": "AAAAgD1OgUAAAAAA1+mAQA==",
          "dtype": "f8"
         }
        },
        {
         "line": {
          "color": "green",
          "width": 2
         },
         "mode": "lines",
         "name": "Price",
         "showlegend": false,
         "type": "scatter",
         "x": [
          "2024-07-24T00:00:00",
          "2024-07-25T00:00:00"
         ],
         "y": {
          "bdata": "AAAAANfpgEAAAACgR9OAQA==",
          "dtype": "f8"
         }
        },
        {
         "line": {
          "color": "green",
          "width": 2
         },
         "mode": "lines",
         "name": "Price",
         "showlegend": false,
         "type": "scatter",
         "x": [
          "2024-07-25T00:00:00",
          "2024-07-26T00:00:00"
         ],
         "y": {
          "bdata": "AAAAoEfTgEAAAAAghQOBQA==",
          "dtype": "f8"
         }
        },
        {
         "line": {
          "color": "green",
          "width": 2
         },
         "mode": "lines",
         "name": "Price",
         "showlegend": false,
         "type": "scatter",
         "x": [
          "2024-07-26T00:00:00",
          "2024-07-29T00:00:00"
         ],
         "y": {
          "bdata": "AAAAIIUDgUAAAACAFAaBQA==",
          "dtype": "f8"
         }
        },
        {
         "line": {
          "color": "green",
          "width": 2
         },
         "mode": "lines",
         "name": "Price",
         "showlegend": false,
         "type": "scatter",
         "x": [
          "2024-07-29T00:00:00",
          "2024-07-30T00:00:00"
         ],
         "y": {
          "bdata": "AAAAgBQGgUAAAAAAAPCAQA==",
          "dtype": "f8"
         }
        },
        {
         "line": {
          "color": "red",
          "width": 2
         },
         "mode": "lines",
         "name": "Price",
         "showlegend": false,
         "type": "scatter",
         "x": [
          "2024-07-30T00:00:00",
          "2024-07-31T00:00:00"
         ],
         "y": {
          "bdata": "AAAAAADwgEAAAADgejaBQA==",
          "dtype": "f8"
         }
        },
        {
         "line": {
          "color": "green",
          "width": 2
         },
         "mode": "lines",
         "name": "Price",
         "showlegend": false,
         "type": "scatter",
         "x": [
          "2024-07-31T00:00:00",
          "2024-08-01T00:00:00"
         ],
         "y": {
          "bdata": "AAAA4Ho2gUAAAACAFPiAQA==",
          "dtype": "f8"
         }
        },
        {
         "line": {
          "color": "red",
          "width": 2
         },
         "mode": "lines",
         "name": "Price",
         "showlegend": false,
         "type": "scatter",
         "x": [
          "2024-08-01T00:00:00",
          "2024-08-02T00:00:00"
         ],
         "y": {
          "bdata": "AAAAgBT4gEAAAABAM6eAQA==",
          "dtype": "f8"
         }
        },
        {
         "line": {
          "color": "red",
          "width": 2
         },
         "mode": "lines",
         "name": "Price",
         "showlegend": false,
         "type": "scatter",
         "x": [
          "2024-08-02T00:00:00",
          "2024-08-05T00:00:00"
         ],
         "y": {
          "bdata": "AAAAQDOngEAAAABACiuAQA==",
          "dtype": "f8"
         }
        },
        {
         "line": {
          "color": "red",
          "width": 2
         },
         "mode": "lines",
         "name": "Price",
         "showlegend": false,
         "type": "scatter",
         "x": [
          "2024-08-05T00:00:00",
          "2024-08-06T00:00:00"
         ],
         "y": {
          "bdata": "AAAAQAorgEAAAABAM1GAQA==",
          "dtype": "f8"
         }
        },
        {
         "line": {
          "color": "red",
          "width": 2
         },
         "mode": "lines",
         "name": "Price",
         "showlegend": false,
         "type": "scatter",
         "x": [
          "2024-08-06T00:00:00",
          "2024-08-07T00:00:00"
         ],
         "y": {
          "bdata": "AAAAQDNRgEAAAACgRzWAQA==",
          "dtype": "f8"
         }
        },
        {
         "line": {
          "color": "red",
          "width": 2
         },
         "mode": "lines",
         "name": "Price",
         "showlegend": false,
         "type": "scatter",
         "x": [
          "2024-08-07T00:00:00",
          "2024-08-08T00:00:00"
         ],
         "y": {
          "bdata": "AAAAoEc1gEAAAABAM5WAQA==",
          "dtype": "f8"
         }
        },
        {
         "line": {
          "color": "red",
          "width": 2
         },
         "mode": "lines",
         "name": "Price",
         "showlegend": false,
         "type": "scatter",
         "x": [
          "2024-08-08T00:00:00",
          "2024-08-09T00:00:00"
         ],
         "y": {
          "bdata": "AAAAQDOVgEAAAACA66eAQA==",
          "dtype": "f8"
         }
        },
        {
         "line": {
          "color": "red",
          "width": 2
         },
         "mode": "lines",
         "name": "Price",
         "showlegend": false,
         "type": "scatter",
         "x": [
          "2024-08-09T00:00:00",
          "2024-08-12T00:00:00"
         ],
         "y": {
          "bdata": "AAAAgOungEAAAAAAKaqAQA==",
          "dtype": "f8"
         }
        },
        {
         "line": {
          "color": "red",
          "width": 2
         },
         "mode": "lines",
         "name": "Price",
         "showlegend": false,
         "type": "scatter",
         "x": [
          "2024-08-12T00:00:00",
          "2024-08-13T00:00:00"
         ],
         "y": {
          "bdata": "AAAAACmqgEAAAADgUfCAQA==",
          "dtype": "f8"
         }
        },
        {
         "line": {
          "color": "red",
          "width": 2
         },
         "mode": "lines",
         "name": "Price",
         "showlegend": false,
         "type": "scatter",
         "x": [
          "2024-08-13T00:00:00",
          "2024-08-14T00:00:00"
         ],
         "y": {
          "bdata": "AAAA4FHwgEAAAAAAAP6AQA==",
          "dtype": "f8"
         }
        },
        {
         "line": {
          "color": "red",
          "width": 2
         },
         "mode": "lines",
         "name": "Price",
         "showlegend": false,
         "type": "scatter",
         "x": [
          "2024-08-14T00:00:00",
          "2024-08-15T00:00:00"
         ],
         "y": {
          "bdata": "AAAAAAD+gEAAAABgj0iBQA==",
          "dtype": "f8"
         }
        },
        {
         "line": {
          "color": "green",
          "width": 2
         },
         "mode": "lines",
         "name": "Price",
         "showlegend": false,
         "type": "scatter",
         "x": [
          "2024-08-15T00:00:00",
          "2024-08-16T00:00:00"
         ],
         "y": {
          "bdata": "AAAAYI9IgUAAAADgelKBQA==",
          "dtype": "f8"
         }
        },
        {
         "line": {
          "color": "green",
          "width": 2
         },
         "mode": "lines",
         "name": "Price",
         "showlegend": false,
         "type": "scatter",
         "x": [
          "2024-08-16T00:00:00",
          "2024-08-19T00:00:00"
         ],
         "y": {
          "bdata": "AAAA4HpSgUAAAABA4XyBQA==",
          "dtype": "f8"
         }
        },
        {
         "line": {
          "color": "green",
          "width": 2
         },
         "mode": "lines",
         "name": "Price",
         "showlegend": false,
         "type": "scatter",
         "x": [
          "2024-08-19T00:00:00",
          "2024-08-20T00:00:00"
         ],
         "y": {
          "bdata": "AAAAQOF8gUAAAACgmXWBQA==",
          "dtype": "f8"
         }
        },
        {
         "line": {
          "color": "green",
          "width": 2
         },
         "mode": "lines",
         "name": "Price",
         "showlegend": false,
         "type": "scatter",
         "x": [
          "2024-08-20T00:00:00",
          "2024-08-21T00:00:00"
         ],
         "y": {
          "bdata": "AAAAoJl1gUAAAADA9YSBQA==",
          "dtype": "f8"
         }
        },
        {
         "line": {
          "color": "green",
          "width": 2
         },
         "mode": "lines",
         "name": "Price",
         "showlegend": false,
         "type": "scatter",
         "x": [
          "2024-08-21T00:00:00",
          "2024-08-22T00:00:00"
         ],
         "y": {
          "bdata": "AAAAwPWEgUAAAACAwmGBQA==",
          "dtype": "f8"
         }
        },
        {
         "line": {
          "color": "red",
          "width": 2
         },
         "mode": "lines",
         "name": "Price",
         "showlegend": false,
         "type": "scatter",
         "x": [
          "2024-08-22T00:00:00",
          "2024-08-23T00:00:00"
         ],
         "y": {
          "bdata": "AAAAgMJhgUAAAABACpGBQA==",
          "dtype": "f8"
         }
        },
        {
         "line": {
          "color": "green",
          "width": 2
         },
         "mode": "lines",
         "name": "Price",
         "showlegend": false,
         "type": "scatter",
         "x": [
          "2024-08-23T00:00:00",
          "2024-08-26T00:00:00"
         ],
         "y": {
          "bdata": "AAAAQAqRgUAAAADgUYaBQA==",
          "dtype": "f8"
         }
        },
        {
         "line": {
          "color": "green",
          "width": 2
         },
         "mode": "lines",
         "name": "Price",
         "showlegend": false,
         "type": "scatter",
         "x": [
          "2024-08-26T00:00:00",
          "2024-08-27T00:00:00"
         ],
         "y": {
          "bdata": "AAAA4FGGgUAAAADgeoyBQA==",
          "dtype": "f8"
         }
        },
        {
         "line": {
          "color": "green",
          "width": 2
         },
         "mode": "lines",
         "name": "Price",
         "showlegend": false,
         "type": "scatter",
         "x": [
          "2024-08-27T00:00:00",
          "2024-08-28T00:00:00"
         ],
         "y": {
          "bdata": "AAAA4HqMgUAAAABgZnKBQA==",
          "dtype": "f8"
         }
        },
        {
         "line": {
          "color": "red",
          "width": 2
         },
         "mode": "lines",
         "name": "Price",
         "showlegend": false,
         "type": "scatter",
         "x": [
          "2024-08-28T00:00:00",
          "2024-08-29T00:00:00"
         ],
         "y": {
          "bdata": "AAAAYGZygUAAAADAzHKBQA==",
          "dtype": "f8"
         }
        },
        {
         "line": {
          "color": "green",
          "width": 2
         },
         "mode": "lines",
         "name": "Price",
         "showlegend": false,
         "type": "scatter",
         "x": [
          "2024-08-29T00:00:00",
          "2024-08-30T00:00:00"
         ],
         "y": {
          "bdata": "AAAAwMxygUAAAACgcJ2BQA==",
          "dtype": "f8"
         }
        },
        {
         "line": {
          "color": "green",
          "width": 2
         },
         "mode": "lines",
         "name": "Price",
         "showlegend": false,
         "type": "scatter",
         "x": [
          "2024-08-30T00:00:00",
          "2024-09-03T00:00:00"
         ],
         "y": {
          "bdata": "AAAAoHCdgUAAAADgo0CBQA==",
          "dtype": "f8"
         }
        },
        {
         "line": {
          "color": "green",
          "width": 2
         },
         "mode": "lines",
         "name": "Price",
         "showlegend": false,
         "type": "scatter",
         "x": [
          "2024-09-03T00:00:00",
          "2024-09-04T00:00:00"
         ],
         "y": {
          "bdata": "AAAA4KNAgUAAAACgmTeBQA==",
          "dtype": "f8"
         }
        },
        {
         "line": {
          "color": "red",
          "width": 2
         },
         "mode": "lines",
         "name": "Price",
         "showlegend": false,
         "type": "scatter",
         "x": [
          "2024-09-04T00:00:00",
          "2024-09-05T00:00:00"
         ],
         "y": {
          "bdata": "AAAAoJk3gUAAAABA4SyBQA==",
          "dtype": "f8"
         }
        },
        {
         "line": {
          "color": "red",
          "width": 2
         },
         "mode": "lines",
         "name": "Price",
         "showlegend": false,
         "type": "scatter",
         "x": [
          "2024-09-05T00:00:00",
          "2024-09-06T00:00:00"
         ],
         "y": {
          "bdata": "AAAAQOEsgUAAAABA4eKAQA==",
          "dtype": "f8"
         }
        },
        {
         "line": {
          "color": "red",
          "width": 2
         },
         "mode": "lines",
         "name": "Price",
         "showlegend": false,
         "type": "scatter",
         "x": [
          "2024-09-06T00:00:00",
          "2024-09-09T00:00:00"
         ],
         "y": {
          "bdata": "AAAAQOHigEAAAACgRxOBQA==",
          "dtype": "f8"
         }
        },
        {
         "line": {
          "color": "green",
          "width": 2
         },
         "mode": "lines",
         "name": "Price",
         "showlegend": false,
         "type": "scatter",
         "x": [
          "2024-09-09T00:00:00",
          "2024-09-10T00:00:00"
         ],
         "y": {
          "bdata": "AAAAoEcTgUAAAADgUSaBQA==",
          "dtype": "f8"
         }
        },
        {
         "line": {
          "color": "green",
          "width": 2
         },
         "mode": "lines",
         "name": "Price",
         "showlegend": false,
         "type": "scatter",
         "x": [
          "2024-09-10T00:00:00",
          "2024-09-11T00:00:00"
         ],
         "y": {
          "bdata": "AAAA4FEmgUAAAAAgXFOBQA==",
          "dtype": "f8"
         }
        },
        {
         "line": {
          "color": "green",
          "width": 2
         },
         "mode": "lines",
         "name": "Price",
         "showlegend": false,
         "type": "scatter",
         "x": [
          "2024-09-11T00:00:00",
          "2024-09-12T00:00:00"
         ],
         "y": {
          "bdata": "AAAAIFxTgUAAAABguHiBQA==",
          "dtype": "f8"
         }
        },
        {
         "line": {
          "color": "green",
          "width": 2
         },
         "mode": "lines",
         "name": "Price",
         "showlegend": false,
         "type": "scatter",
         "x": [
          "2024-09-12T00:00:00",
          "2024-09-13T00:00:00"
         ],
         "y": {
          "bdata": "AAAAYLh4gUAAAACAFJCBQA==",
          "dtype": "f8"
         }
        },
        {
         "line": {
          "color": "green",
          "width": 2
         },
         "mode": "lines",
         "name": "Price",
         "showlegend": false,
         "type": "scatter",
         "x": [
          "2024-09-13T00:00:00",
          "2024-09-16T00:00:00"
         ],
         "y": {
          "bdata": "AAAAgBSQgUAAAABguJaBQA==",
          "dtype": "f8"
         }
        },
        {
         "line": {
          "color": "green",
          "width": 2
         },
         "mode": "lines",
         "name": "Price",
         "showlegend": false,
         "type": "scatter",
         "x": [
          "2024-09-16T00:00:00",
          "2024-09-17T00:00:00"
         ],
         "y": {
          "bdata": "AAAAYLiWgUAAAABgj5iBQA==",
          "dtype": "f8"
         }
        },
        {
         "line": {
          "color": "green",
          "width": 2
         },
         "mode": "lines",
         "name": "Price",
         "showlegend": false,
         "type": "scatter",
         "x": [
          "2024-09-17T00:00:00",
          "2024-09-18T00:00:00"
         ],
         "y": {
          "bdata": "AAAAYI+YgUAAAABAM4uBQA==",
          "dtype": "f8"
         }
        },
        {
         "line": {
          "color": "green",
          "width": 2
         },
         "mode": "lines",
         "name": "Price",
         "showlegend": false,
         "type": "scatter",
         "x": [
          "2024-09-18T00:00:00",
          "2024-09-19T00:00:00"
         ],
         "y": {
          "bdata": "AAAAQDOLgUAAAAAA19eBQA==",
          "dtype": "f8"
         }
        },
        {
         "line": {
          "color": "green",
          "width": 2
         },
         "mode": "lines",
         "name": "Price",
         "showlegend": false,
         "type": "scatter",
         "x": [
          "2024-09-19T00:00:00",
          "2024-09-20T00:00:00"
         ],
         "y": {
          "bdata": "AAAAANfXgUAAAAAAAMKBQA==",
          "dtype": "f8"
         }
        },
        {
         "line": {
          "color": "green",
          "width": 2
         },
         "mode": "lines",
         "name": "Price",
         "showlegend": false,
         "type": "scatter",
         "x": [
          "2024-09-20T00:00:00",
          "2024-09-23T00:00:00"
         ],
         "y": {
          "bdata": "AAAAAADCgUAAAAAgXM2BQA==",
          "dtype": "f8"
         }
        },
        {
         "line": {
          "color": "green",
          "width": 2
         },
         "mode": "lines",
         "name": "Price",
         "showlegend": false,
         "type": "scatter",
         "x": [
          "2024-09-23T00:00:00",
          "2024-09-24T00:00:00"
         ],
         "y": {
          "bdata": "AAAAIFzNgUAAAABgZtqBQA==",
          "dtype": "f8"
         }
        },
        {
         "line": {
          "color": "green",
          "width": 2
         },
         "mode": "lines",
         "name": "Price",
         "showlegend": false,
         "type": "scatter",
         "x": [
          "2024-09-24T00:00:00",
          "2024-09-25T00:00:00"
         ],
         "y": {
          "bdata": "AAAAYGbagUAAAADgUdCBQA==",
          "dtype": "f8"
         }
        },
        {
         "line": {
          "color": "green",
          "width": 2
         },
         "mode": "lines",
         "name": "Price",
         "showlegend": false,
         "type": "scatter",
         "x": [
          "2024-09-25T00:00:00",
          "2024-09-26T00:00:00"
         ],
         "y": {
          "bdata": "AAAA4FHQgUAAAABgZuKBQA==",
          "dtype": "f8"
         }
        },
        {
         "line": {
          "color": "green",
          "width": 2
         },
         "mode": "lines",
         "name": "Price",
         "showlegend": false,
         "type": "scatter",
         "x": [
          "2024-09-26T00:00:00",
          "2024-09-27T00:00:00"
         ],
         "y": {
          "bdata": "AAAAYGbigUAAAACAwtuBQA==",
          "dtype": "f8"
         }
        },
        {
         "line": {
          "color": "green",
          "width": 2
         },
         "mode": "lines",
         "name": "Price",
         "showlegend": false,
         "type": "scatter",
         "x": [
          "2024-09-27T00:00:00",
          "2024-09-30T00:00:00"
         ],
         "y": {
          "bdata": "AAAAgMLbgUAAAACAFO6BQA==",
          "dtype": "f8"
         }
        },
        {
         "line": {
          "color": "green",
          "width": 2
         },
         "mode": "lines",
         "name": "Price",
         "showlegend": false,
         "type": "scatter",
         "x": [
          "2024-09-30T00:00:00",
          "2024-10-01T00:00:00"
         ],
         "y": {
          "bdata": "AAAAgBTugUAAAADA9cSBQA==",
          "dtype": "f8"
         }
        },
        {
         "line": {
          "color": "green",
          "width": 2
         },
         "mode": "lines",
         "name": "Price",
         "showlegend": false,
         "type": "scatter",
         "x": [
          "2024-10-01T00:00:00",
          "2024-10-02T00:00:00"
         ],
         "y": {
          "bdata": "AAAAwPXEgUAAAABA4caBQA==",
          "dtype": "f8"
         }
        },
        {
         "line": {
          "color": "green",
          "width": 2
         },
         "mode": "lines",
         "name": "Price",
         "showlegend": false,
         "type": "scatter",
         "x": [
          "2024-10-02T00:00:00",
          "2024-10-03T00:00:00"
         ],
         "y": {
          "bdata": "AAAAQOHGgUAAAABgj76BQA==",
          "dtype": "f8"
         }
        },
        {
         "line": {
          "color": "green",
          "width": 2
         },
         "mode": "lines",
         "name": "Price",
         "showlegend": false,
         "type": "scatter",
         "x": [
          "2024-10-03T00:00:00",
          "2024-10-04T00:00:00"
         ],
         "y": {
          "bdata": "AAAAYI++gUAAAAAA1+eBQA==",
          "dtype": "f8"
         }
        },
        {
         "line": {
          "color": "green",
          "width": 2
         },
         "mode": "lines",
         "name": "Price",
         "showlegend": false,
         "type": "scatter",
         "x": [
          "2024-10-04T00:00:00",
          "2024-10-07T00:00:00"
         ],
         "y": {
          "bdata": "AAAAANfngUAAAABgZr6BQA==",
          "dtype": "f8"
         }
        },
        {
         "line": {
          "color": "green",
          "width": 2
         },
         "mode": "lines",
         "name": "Price",
         "showlegend": false,
         "type": "scatter",
         "x": [
          "2024-10-07T00:00:00",
          "2024-10-08T00:00:00"
         ],
         "y": {
          "bdata": "AAAAYGa+gUAAAAAgXOmBQA==",
          "dtype": "f8"
         }
        },
        {
         "line": {
          "color": "green",
          "width": 2
         },
         "mode": "lines",
         "name": "Price",
         "showlegend": false,
         "type": "scatter",
         "x": [
          "2024-10-08T00:00:00",
          "2024-10-09T00:00:00"
         ],
         "y": {
          "bdata": "AAAAIFzpgUAAAADAHgmCQA==",
          "dtype": "f8"
         }
        },
        {
         "line": {
          "color": "green",
          "width": 2
         },
         "mode": "lines",
         "name": "Price",
         "showlegend": false,
         "type": "scatter",
         "x": [
          "2024-10-09T00:00:00",
          "2024-10-10T00:00:00"
         ],
         "y": {
          "bdata": "AAAAwB4JgkAAAABACgGCQA==",
          "dtype": "f8"
         }
        },
        {
         "line": {
          "color": "green",
          "width": 2
         },
         "mode": "lines",
         "name": "Price",
         "showlegend": false,
         "type": "scatter",
         "x": [
          "2024-10-10T00:00:00",
          "2024-10-11T00:00:00"
         ],
         "y": {
          "bdata": "AAAAQAoBgkAAAADgoxyCQA==",
          "dtype": "f8"
         }
        },
        {
         "line": {
          "color": "green",
          "width": 2
         },
         "mode": "lines",
         "name": "Price",
         "showlegend": false,
         "type": "scatter",
         "x": [
          "2024-10-11T00:00:00",
          "2024-10-14T00:00:00"
         ],
         "y": {
          "bdata": "AAAA4KMcgkAAAABgj0KCQA==",
          "dtype": "f8"
         }
        },
        {
         "line": {
          "color": "green",
          "width": 2
         },
         "mode": "lines",
         "name": "Price",
         "showlegend": false,
         "type": "scatter",
         "x": [
          "2024-10-14T00:00:00",
          "2024-10-15T00:00:00"
         ],
         "y": {
          "bdata": "AAAAYI9CgkAAAACAPR6CQA==",
          "dtype": "f8"
         }
        },
        {
         "line": {
          "color": "green",
          "width": 2
         },
         "mode": "lines",
         "name": "Price",
         "showlegend": false,
         "type": "scatter",
         "x": [
          "2024-10-15T00:00:00",
          "2024-10-16T00:00:00"
         ],
         "y": {
          "bdata": "AAAAgD0egkAAAABgZjKCQA==",
          "dtype": "f8"
         }
        },
        {
         "line": {
          "color": "green",
          "width": 2
         },
         "mode": "lines",
         "name": "Price",
         "showlegend": false,
         "type": "scatter",
         "x": [
          "2024-10-16T00:00:00",
          "2024-10-17T00:00:00"
         ],
         "y": {
          "bdata": "AAAAYGYygkAAAADAzDKCQA==",
          "dtype": "f8"
         }
        },
        {
         "line": {
          "color": "green",
          "width": 2
         },
         "mode": "lines",
         "name": "Price",
         "showlegend": false,
         "type": "scatter",
         "x": [
          "2024-10-17T00:00:00",
          "2024-10-18T00:00:00"
         ],
         "y": {
          "bdata": "AAAAwMwygkAAAABguESCQA==",
          "dtype": "f8"
         }
        },
        {
         "line": {
          "color": "green",
          "width": 2
         },
         "mode": "lines",
         "name": "Price",
         "showlegend": false,
         "type": "scatter",
         "x": [
          "2024-10-18T00:00:00",
          "2024-10-21T00:00:00"
         ],
         "y": {
          "bdata": "AAAAYLhEgkAAAABACj2CQA==",
          "dtype": "f8"
         }
        },
        {
         "line": {
          "color": "green",
          "width": 2
         },
         "mode": "lines",
         "name": "Price",
         "showlegend": false,
         "type": "scatter",
         "x": [
          "2024-10-21T00:00:00",
          "2024-10-22T00:00:00"
         ],
         "y": {
          "bdata": "AAAAQAo9gkAAAABgjzqCQA==",
          "dtype": "f8"
         }
        },
        {
         "line": {
          "color": "green",
          "width": 2
         },
         "mode": "lines",
         "name": "Price",
         "showlegend": false,
         "type": "scatter",
         "x": [
          "2024-10-22T00:00:00",
          "2024-10-23T00:00:00"
         ],
         "y": {
          "bdata": "AAAAYI86gkAAAACA6w+CQA==",
          "dtype": "f8"
         }
        },
        {
         "line": {
          "color": "green",
          "width": 2
         },
         "mode": "lines",
         "name": "Price",
         "showlegend": false,
         "type": "scatter",
         "x": [
          "2024-10-23T00:00:00",
          "2024-10-24T00:00:00"
         ],
         "y": {
          "bdata": "AAAAgOsPgkAAAACA6xmCQA==",
          "dtype": "f8"
         }
        },
        {
         "line": {
          "color": "green",
          "width": 2
         },
         "mode": "lines",
         "name": "Price",
         "showlegend": false,
         "type": "scatter",
         "x": [
          "2024-10-24T00:00:00",
          "2024-10-25T00:00:00"
         ],
         "y": {
          "bdata": "AAAAgOsZgkAAAADgURiCQA==",
          "dtype": "f8"
         }
        },
        {
         "line": {
          "color": "green",
          "width": 2
         },
         "mode": "lines",
         "name": "Price",
         "showlegend": false,
         "type": "scatter",
         "x": [
          "2024-10-25T00:00:00",
          "2024-10-28T00:00:00"
         ],
         "y": {
          "bdata": "AAAA4FEYgkAAAADgoyaCQA==",
          "dtype": "f8"
         }
        },
        {
         "line": {
          "color": "green",
          "width": 2
         },
         "mode": "lines",
         "name": "Price",
         "showlegend": false,
         "type": "scatter",
         "x": [
          "2024-10-28T00:00:00",
          "2024-10-29T00:00:00"
         ],
         "y": {
          "bdata": "AAAA4KMmgkAAAAAAKS6CQA==",
          "dtype": "f8"
         }
        },
        {
         "line": {
          "color": "green",
          "width": 2
         },
         "mode": "lines",
         "name": "Price",
         "showlegend": false,
         "type": "scatter",
         "x": [
          "2024-10-29T00:00:00",
          "2024-10-30T00:00:00"
         ],
         "y": {
          "bdata": "AAAAACkugkAAAACAFCCCQA==",
          "dtype": "f8"
         }
        },
        {
         "line": {
          "color": "green",
          "width": 2
         },
         "mode": "lines",
         "name": "Price",
         "showlegend": false,
         "type": "scatter",
         "x": [
          "2024-10-30T00:00:00",
          "2024-10-31T00:00:00"
         ],
         "y": {
          "bdata": "AAAAgBQggkAAAADAHsWBQA==",
          "dtype": "f8"
         }
        },
        {
         "line": {
          "color": "green",
          "width": 2
         },
         "mode": "lines",
         "name": "Price",
         "showlegend": false,
         "type": "scatter",
         "x": [
          "2024-10-31T00:00:00",
          "2024-11-01T00:00:00"
         ],
         "y": {
          "bdata": "AAAAwB7FgUAAAADgUdiBQA==",
          "dtype": "f8"
         }
        },
        {
         "line": {
          "color": "green",
          "width": 2
         },
         "mode": "lines",
         "name": "Price",
         "showlegend": false,
         "type": "scatter",
         "x": [
          "2024-11-01T00:00:00",
          "2024-11-04T00:00:00"
         ],
         "y": {
          "bdata": "AAAA4FHYgUAAAADges6BQA==",
          "dtype": "f8"
         }
        },
        {
         "line": {
          "color": "green",
          "width": 2
         },
         "mode": "lines",
         "name": "Price",
         "showlegend": false,
         "type": "scatter",
         "x": [
          "2024-11-04T00:00:00",
          "2024-11-05T00:00:00"
         ],
         "y": {
          "bdata": "AAAA4HrOgUAAAACgmQWCQA==",
          "dtype": "f8"
         }
        },
        {
         "line": {
          "color": "green",
          "width": 2
         },
         "mode": "lines",
         "name": "Price",
         "showlegend": false,
         "type": "scatter",
         "x": [
          "2024-11-05T00:00:00",
          "2024-11-06T00:00:00"
         ],
         "y": {
          "bdata": "AAAAoJkFgkAAAADgUXiCQA==",
          "dtype": "f8"
         }
        },
        {
         "line": {
          "color": "green",
          "width": 2
         },
         "mode": "lines",
         "name": "Price",
         "showlegend": false,
         "type": "scatter",
         "x": [
          "2024-11-06T00:00:00",
          "2024-11-07T00:00:00"
         ],
         "y": {
          "bdata": "AAAA4FF4gkAAAABA4ZyCQA==",
          "dtype": "f8"
         }
        },
        {
         "line": {
          "color": "green",
          "width": 2
         },
         "mode": "lines",
         "name": "Price",
         "showlegend": false,
         "type": "scatter",
         "x": [
          "2024-11-07T00:00:00",
          "2024-11-08T00:00:00"
         ],
         "y": {
          "bdata": "AAAAQOGcgkAAAAAghbGCQA==",
          "dtype": "f8"
         }
        },
        {
         "line": {
          "color": "green",
          "width": 2
         },
         "mode": "lines",
         "name": "Price",
         "showlegend": false,
         "type": "scatter",
         "x": [
          "2024-11-08T00:00:00",
          "2024-11-11T00:00:00"
         ],
         "y": {
          "bdata": "AAAAIIWxgkAAAACAFLaCQA==",
          "dtype": "f8"
         }
        },
        {
         "line": {
          "color": "green",
          "width": 2
         },
         "mode": "lines",
         "name": "Price",
         "showlegend": false,
         "type": "scatter",
         "x": [
          "2024-11-11T00:00:00",
          "2024-11-12T00:00:00"
         ],
         "y": {
          "bdata": "AAAAgBS2gkAAAABAM6eCQA==",
          "dtype": "f8"
         }
        },
        {
         "line": {
          "color": "green",
          "width": 2
         },
         "mode": "lines",
         "name": "Price",
         "showlegend": false,
         "type": "scatter",
         "x": [
          "2024-11-12T00:00:00",
          "2024-11-13T00:00:00"
         ],
         "y": {
          "bdata": "AAAAQDOngkAAAAAghamCQA==",
          "dtype": "f8"
         }
        },
        {
         "line": {
          "color": "green",
          "width": 2
         },
         "mode": "lines",
         "name": "Price",
         "showlegend": false,
         "type": "scatter",
         "x": [
          "2024-11-13T00:00:00",
          "2024-11-14T00:00:00"
         ],
         "y": {
          "bdata": "AAAAIIWpgkAAAADAzIqCQA==",
          "dtype": "f8"
         }
        },
        {
         "line": {
          "color": "green",
          "width": 2
         },
         "mode": "lines",
         "name": "Price",
         "showlegend": false,
         "type": "scatter",
         "x": [
          "2024-11-14T00:00:00",
          "2024-11-15T00:00:00"
         ],
         "y": {
          "bdata": "AAAAwMyKgkAAAAAAAE6CQA==",
          "dtype": "f8"
         }
        },
        {
         "line": {
          "color": "green",
          "width": 2
         },
         "mode": "lines",
         "name": "Price",
         "showlegend": false,
         "type": "scatter",
         "x": [
          "2024-11-15T00:00:00",
          "2024-11-18T00:00:00"
         ],
         "y": {
          "bdata": "AAAAAABOgkAAAABAM2GCQA==",
          "dtype": "f8"
         }
        },
        {
         "line": {
          "color": "green",
          "width": 2
         },
         "mode": "lines",
         "name": "Price",
         "showlegend": false,
         "type": "scatter",
         "x": [
          "2024-11-18T00:00:00",
          "2024-11-19T00:00:00"
         ],
         "y": {
          "bdata": "AAAAQDNhgkAAAABgZnKCQA==",
          "dtype": "f8"
         }
        },
        {
         "line": {
          "color": "green",
          "width": 2
         },
         "mode": "lines",
         "name": "Price",
         "showlegend": false,
         "type": "scatter",
         "x": [
          "2024-11-19T00:00:00",
          "2024-11-20T00:00:00"
         ],
         "y": {
          "bdata": "AAAAYGZygkAAAAAAAHSCQA==",
          "dtype": "f8"
         }
        },
        {
         "line": {
          "color": "green",
          "width": 2
         },
         "mode": "lines",
         "name": "Price",
         "showlegend": false,
         "type": "scatter",
         "x": [
          "2024-11-20T00:00:00",
          "2024-11-21T00:00:00"
         ],
         "y": {
          "bdata": "AAAAAAB0gkAAAAAgXI2CQA==",
          "dtype": "f8"
         }
        },
        {
         "line": {
          "color": "green",
          "width": 2
         },
         "mode": "lines",
         "name": "Price",
         "showlegend": false,
         "type": "scatter",
         "x": [
          "2024-11-21T00:00:00",
          "2024-11-22T00:00:00"
         ],
         "y": {
          "bdata": "AAAAIFyNgkAAAACAFJyCQA==",
          "dtype": "f8"
         }
        },
        {
         "line": {
          "color": "green",
          "width": 2
         },
         "mode": "lines",
         "name": "Price",
         "showlegend": false,
         "type": "scatter",
         "x": [
          "2024-11-22T00:00:00",
          "2024-11-25T00:00:00"
         ],
         "y": {
          "bdata": "AAAAgBScgkAAAACAPayCQA==",
          "dtype": "f8"
         }
        },
        {
         "line": {
          "color": "green",
          "width": 2
         },
         "mode": "lines",
         "name": "Price",
         "showlegend": false,
         "type": "scatter",
         "x": [
          "2024-11-25T00:00:00",
          "2024-11-26T00:00:00"
         ],
         "y": {
          "bdata": "AAAAgD2sgkAAAABAM8WCQA==",
          "dtype": "f8"
         }
        },
        {
         "line": {
          "color": "green",
          "width": 2
         },
         "mode": "lines",
         "name": "Price",
         "showlegend": false,
         "type": "scatter",
         "x": [
          "2024-11-26T00:00:00",
          "2024-11-27T00:00:00"
         ],
         "y": {
          "bdata": "AAAAQDPFgkAAAADgo7aCQA==",
          "dtype": "f8"
         }
        },
        {
         "line": {
          "color": "green",
          "width": 2
         },
         "mode": "lines",
         "name": "Price",
         "showlegend": false,
         "type": "scatter",
         "x": [
          "2024-11-27T00:00:00",
          "2024-11-29T00:00:00"
         ],
         "y": {
          "bdata": "AAAA4KO2gkAAAABgZtSCQA==",
          "dtype": "f8"
         }
        },
        {
         "line": {
          "color": "green",
          "width": 2
         },
         "mode": "lines",
         "name": "Price",
         "showlegend": false,
         "type": "scatter",
         "x": [
          "2024-11-29T00:00:00",
          "2024-12-02T00:00:00"
         ],
         "y": {
          "bdata": "AAAAYGbUgkAAAABACt2CQA==",
          "dtype": "f8"
         }
        },
        {
         "line": {
          "color": "green",
          "width": 2
         },
         "mode": "lines",
         "name": "Price",
         "showlegend": false,
         "type": "scatter",
         "x": [
          "2024-12-02T00:00:00",
          "2024-12-03T00:00:00"
         ],
         "y": {
          "bdata": "AAAAQArdgkAAAACgR9+CQA==",
          "dtype": "f8"
         }
        },
        {
         "line": {
          "color": "green",
          "width": 2
         },
         "mode": "lines",
         "name": "Price",
         "showlegend": false,
         "type": "scatter",
         "x": [
          "2024-12-03T00:00:00",
          "2024-12-04T00:00:00"
         ],
         "y": {
          "bdata": "AAAAoEffgkAAAACgR/2CQA==",
          "dtype": "f8"
         }
        },
        {
         "line": {
          "color": "green",
          "width": 2
         },
         "mode": "lines",
         "name": "Price",
         "showlegend": false,
         "type": "scatter",
         "x": [
          "2024-12-04T00:00:00",
          "2024-12-05T00:00:00"
         ],
         "y": {
          "bdata": "AAAAoEf9gkAAAACgR/WCQA==",
          "dtype": "f8"
         }
        },
        {
         "line": {
          "color": "green",
          "width": 2
         },
         "mode": "lines",
         "name": "Price",
         "showlegend": false,
         "type": "scatter",
         "x": [
          "2024-12-05T00:00:00",
          "2024-12-06T00:00:00"
         ],
         "y": {
          "bdata": "AAAAoEf1gkAAAADgev6CQA==",
          "dtype": "f8"
         }
        },
        {
         "line": {
          "color": "green",
          "width": 2
         },
         "mode": "lines",
         "name": "Price",
         "showlegend": false,
         "type": "scatter",
         "x": [
          "2024-12-06T00:00:00",
          "2024-12-09T00:00:00"
         ],
         "y": {
          "bdata": "AAAA4Hr+gkAAAACgcOWCQA==",
          "dtype": "f8"
         }
        },
        {
         "line": {
          "color": "green",
          "width": 2
         },
         "mode": "lines",
         "name": "Price",
         "showlegend": false,
         "type": "scatter",
         "x": [
          "2024-12-09T00:00:00",
          "2024-12-10T00:00:00"
         ],
         "y": {
          "bdata": "AAAAoHDlgkAAAABgZtaCQA==",
          "dtype": "f8"
         }
        },
        {
         "line": {
          "color": "green",
          "width": 2
         },
         "mode": "lines",
         "name": "Price",
         "showlegend": false,
         "type": "scatter",
         "x": [
          "2024-12-10T00:00:00",
          "2024-12-11T00:00:00"
         ],
         "y": {
          "bdata": "AAAAYGbWgkAAAAAgrvuCQA==",
          "dtype": "f8"
         }
        },
        {
         "line": {
          "color": "green",
          "width": 2
         },
         "mode": "lines",
         "name": "Price",
         "showlegend": false,
         "type": "scatter",
         "x": [
          "2024-12-11T00:00:00",
          "2024-12-12T00:00:00"
         ],
         "y": {
          "bdata": "AAAAIK77gkAAAADgo+KCQA==",
          "dtype": "f8"
         }
        },
        {
         "line": {
          "color": "green",
          "width": 2
         },
         "mode": "lines",
         "name": "Price",
         "showlegend": false,
         "type": "scatter",
         "x": [
          "2024-12-12T00:00:00",
          "2024-12-13T00:00:00"
         ],
         "y": {
          "bdata": "AAAA4KPigkAAAAAgruGCQA==",
          "dtype": "f8"
         }
        },
        {
         "line": {
          "color": "green",
          "width": 2
         },
         "mode": "lines",
         "name": "Price",
         "showlegend": false,
         "type": "scatter",
         "x": [
          "2024-12-13T00:00:00",
          "2024-12-16T00:00:00"
         ],
         "y": {
          "bdata": "AAAAIK7hgkAAAADgUfaCQA==",
          "dtype": "f8"
         }
        },
        {
         "line": {
          "color": "green",
          "width": 2
         },
         "mode": "lines",
         "name": "Price",
         "showlegend": false,
         "type": "scatter",
         "x": [
          "2024-12-16T00:00:00",
          "2024-12-17T00:00:00"
         ],
         "y": {
          "bdata": "AAAA4FH2gkAAAADgUeKCQA==",
          "dtype": "f8"
         }
        },
        {
         "line": {
          "color": "green",
          "width": 2
         },
         "mode": "lines",
         "name": "Price",
         "showlegend": false,
         "type": "scatter",
         "x": [
          "2024-12-17T00:00:00",
          "2024-12-18T00:00:00"
         ],
         "y": {
          "bdata": "AAAA4FHigkAAAACAPVKCQA==",
          "dtype": "f8"
         }
        },
        {
         "line": {
          "color": "green",
          "width": 2
         },
         "mode": "lines",
         "name": "Price",
         "showlegend": false,
         "type": "scatter",
         "x": [
          "2024-12-18T00:00:00",
          "2024-12-19T00:00:00"
         ],
         "y": {
          "bdata": "AAAAgD1SgkAAAADAzFCCQA==",
          "dtype": "f8"
         }
        },
        {
         "line": {
          "color": "green",
          "width": 2
         },
         "mode": "lines",
         "name": "Price",
         "showlegend": false,
         "type": "scatter",
         "x": [
          "2024-12-19T00:00:00",
          "2024-12-20T00:00:00"
         ],
         "y": {
          "bdata": "AAAAwMxQgkAAAABAM3mCQA==",
          "dtype": "f8"
         }
        },
        {
         "line": {
          "color": "green",
          "width": 2
         },
         "mode": "lines",
         "name": "Price",
         "showlegend": false,
         "type": "scatter",
         "x": [
          "2024-12-20T00:00:00",
          "2024-12-23T00:00:00"
         ],
         "y": {
          "bdata": "AAAAQDN5gkAAAAAghZWCQA==",
          "dtype": "f8"
         }
        },
        {
         "line": {
          "color": "red",
          "width": 2
         },
         "mode": "lines",
         "name": "Price",
         "showlegend": false,
         "type": "scatter",
         "x": [
          "2024-12-23T00:00:00",
          "2024-12-24T00:00:00"
         ],
         "y": {
          "bdata": "AAAAIIWVgkAAAABgZsqCQA==",
          "dtype": "f8"
         }
        },
        {
         "line": {
          "color": "green",
          "width": 2
         },
         "mode": "lines",
         "name": "Price",
         "showlegend": false,
         "type": "scatter",
         "x": [
          "2024-12-24T00:00:00",
          "2024-12-26T00:00:00"
         ],
         "y": {
          "bdata": "AAAAYGbKgkAAAABguMqCQA==",
          "dtype": "f8"
         }
        },
        {
         "line": {
          "color": "green",
          "width": 2
         },
         "mode": "lines",
         "name": "Price",
         "showlegend": false,
         "type": "scatter",
         "x": [
          "2024-12-26T00:00:00",
          "2024-12-27T00:00:00"
         ],
         "y": {
          "bdata": "AAAAYLjKgkAAAACAFJiCQA==",
          "dtype": "f8"
         }
        },
        {
         "line": {
          "color": "red",
          "width": 2
         },
         "mode": "lines",
         "name": "Price",
         "showlegend": false,
         "type": "scatter",
         "x": [
          "2024-12-27T00:00:00",
          "2024-12-30T00:00:00"
         ],
         "y": {
          "bdata": "AAAAgBSYgkAAAACAwmGCQA==",
          "dtype": "f8"
         }
        },
        {
         "line": {
          "color": "red",
          "width": 2
         },
         "mode": "lines",
         "name": "Price",
         "showlegend": false,
         "type": "scatter",
         "x": [
          "2024-12-30T00:00:00",
          "2024-12-31T00:00:00"
         ],
         "y": {
          "bdata": "AAAAgMJhgkAAAADgo1CCQA==",
          "dtype": "f8"
         }
        },
        {
         "line": {
          "color": "red",
          "width": 2
         },
         "mode": "lines",
         "name": "Price",
         "showlegend": false,
         "type": "scatter",
         "x": [
          "2024-12-31T00:00:00",
          "2025-01-02T00:00:00"
         ],
         "y": {
          "bdata": "AAAA4KNQgkAAAADAHkWCQA==",
          "dtype": "f8"
         }
        },
        {
         "line": {
          "color": "red",
          "width": 2
         },
         "mode": "lines",
         "name": "Price",
         "showlegend": false,
         "type": "scatter",
         "x": [
          "2025-01-02T00:00:00",
          "2025-01-03T00:00:00"
         ],
         "y": {
          "bdata": "AAAAwB5FgkAAAACgmX+CQA==",
          "dtype": "f8"
         }
        },
        {
         "line": {
          "color": "green",
          "width": 2
         },
         "mode": "lines",
         "name": "Price",
         "showlegend": false,
         "type": "scatter",
         "x": [
          "2025-01-03T00:00:00",
          "2025-01-06T00:00:00"
         ],
         "y": {
          "bdata": "AAAAoJl/gkAAAABA4ZqCQA==",
          "dtype": "f8"
         }
        },
        {
         "line": {
          "color": "green",
          "width": 2
         },
         "mode": "lines",
         "name": "Price",
         "showlegend": false,
         "type": "scatter",
         "x": [
          "2025-01-06T00:00:00",
          "2025-01-07T00:00:00"
         ],
         "y": {
          "bdata": "AAAAQOGagkAAAABACmWCQA==",
          "dtype": "f8"
         }
        },
        {
         "line": {
          "color": "red",
          "width": 2
         },
         "mode": "lines",
         "name": "Price",
         "showlegend": false,
         "type": "scatter",
         "x": [
          "2025-01-07T00:00:00",
          "2025-01-08T00:00:00"
         ],
         "y": {
          "bdata": "AAAAQAplgkAAAACA62uCQA==",
          "dtype": "f8"
         }
        },
        {
         "line": {
          "color": "red",
          "width": 2
         },
         "mode": "lines",
         "name": "Price",
         "showlegend": false,
         "type": "scatter",
         "x": [
          "2025-01-08T00:00:00",
          "2025-01-10T00:00:00"
         ],
         "y": {
          "bdata": "AAAAgOtrgkAAAACA6yOCQA==",
          "dtype": "f8"
         }
        },
        {
         "line": {
          "color": "red",
          "width": 2
         },
         "mode": "lines",
         "name": "Price",
         "showlegend": false,
         "type": "scatter",
         "x": [
          "2025-01-10T00:00:00",
          "2025-01-13T00:00:00"
         ],
         "y": {
          "bdata": "AAAAgOsjgkAAAADAHiuCQA==",
          "dtype": "f8"
         }
        },
        {
         "line": {
          "color": "red",
          "width": 2
         },
         "mode": "lines",
         "name": "Price",
         "showlegend": false,
         "type": "scatter",
         "x": [
          "2025-01-13T00:00:00",
          "2025-01-14T00:00:00"
         ],
         "y": {
          "bdata": "AAAAwB4rgkAAAAAghTGCQA==",
          "dtype": "f8"
         }
        },
        {
         "line": {
          "color": "red",
          "width": 2
         },
         "mode": "lines",
         "name": "Price",
         "showlegend": false,
         "type": "scatter",
         "x": [
          "2025-01-14T00:00:00",
          "2025-01-15T00:00:00"
         ],
         "y": {
          "bdata": "AAAAIIUxgkAAAACAPYaCQA==",
          "dtype": "f8"
         }
        },
        {
         "line": {
          "color": "red",
          "width": 2
         },
         "mode": "lines",
         "name": "Price",
         "showlegend": false,
         "type": "scatter",
         "x": [
          "2025-01-15T00:00:00",
          "2025-01-16T00:00:00"
         ],
         "y": {
          "bdata": "AAAAgD2GgkAAAADAHn2CQA==",
          "dtype": "f8"
         }
        },
        {
         "line": {
          "color": "red",
          "width": 2
         },
         "mode": "lines",
         "name": "Price",
         "showlegend": false,
         "type": "scatter",
         "x": [
          "2025-01-16T00:00:00",
          "2025-01-17T00:00:00"
         ],
         "y": {
          "bdata": "AAAAwB59gkAAAADgo6yCQA==",
          "dtype": "f8"
         }
        },
        {
         "line": {
          "color": "red",
          "width": 2
         },
         "mode": "lines",
         "name": "Price",
         "showlegend": false,
         "type": "scatter",
         "x": [
          "2025-01-17T00:00:00",
          "2025-01-21T00:00:00"
         ],
         "y": {
          "bdata": "AAAA4KOsgkAAAABgZtiCQA==",
          "dtype": "f8"
         }
        },
        {
         "line": {
          "color": "red",
          "width": 2
         },
         "mode": "lines",
         "name": "Price",
         "showlegend": false,
         "type": "scatter",
         "x": [
          "2025-01-21T00:00:00",
          "2025-01-22T00:00:00"
         ],
         "y": {
          "bdata": "AAAAYGbYgkAAAAAghfOCQA==",
          "dtype": "f8"
         }
        },
        {
         "line": {
          "color": "red",
          "width": 2
         },
         "mode": "lines",
         "name": "Price",
         "showlegend": false,
         "type": "scatter",
         "x": [
          "2025-01-22T00:00:00",
          "2025-01-23T00:00:00"
         ],
         "y": {
          "bdata": "AAAAIIXzgkAAAAAAAA6DQA==",
          "dtype": "f8"
         }
        },
        {
         "line": {
          "color": "green",
          "width": 2
         },
         "mode": "lines",
         "name": "Price",
         "showlegend": false,
         "type": "scatter",
         "x": [
          "2025-01-23T00:00:00",
          "2025-01-24T00:00:00"
         ],
         "y": {
          "bdata": "AAAAAAAOg0AAAACAwv+CQA==",
          "dtype": "f8"
         }
        },
        {
         "line": {
          "color": "green",
          "width": 2
         },
         "mode": "lines",
         "name": "Price",
         "showlegend": false,
         "type": "scatter",
         "x": [
          "2025-01-24T00:00:00",
          "2025-01-27T00:00:00"
         ],
         "y": {
          "bdata": "AAAAgML/gkAAAADA9bqCQA==",
          "dtype": "f8"
         }
        },
        {
         "line": {
          "color": "red",
          "width": 2
         },
         "mode": "lines",
         "name": "Price",
         "showlegend": false,
         "type": "scatter",
         "x": [
          "2025-01-27T00:00:00",
          "2025-01-28T00:00:00"
         ],
         "y": {
          "bdata": "AAAAwPW6gkAAAAAAKeSCQA==",
          "dtype": "f8"
         }
        },
        {
         "line": {
          "color": "green",
          "width": 2
         },
         "mode": "lines",
         "name": "Price",
         "showlegend": false,
         "type": "scatter",
         "x": [
          "2025-01-28T00:00:00",
          "2025-01-29T00:00:00"
         ],
         "y": {
          "bdata": "AAAAACnkgkAAAADges6CQA==",
          "dtype": "f8"
         }
        },
        {
         "line": {
          "color": "red",
          "width": 2
         },
         "mode": "lines",
         "name": "Price",
         "showlegend": false,
         "type": "scatter",
         "x": [
          "2025-01-29T00:00:00",
          "2025-01-30T00:00:00"
         ],
         "y": {
          "bdata": "AAAA4HrOgkAAAADgUeiCQA==",
          "dtype": "f8"
         }
        },
        {
         "line": {
          "color": "green",
          "width": 2
         },
         "mode": "lines",
         "name": "Price",
         "showlegend": false,
         "type": "scatter",
         "x": [
          "2025-01-30T00:00:00",
          "2025-01-31T00:00:00"
         ],
         "y": {
          "bdata": "AAAA4FHogkAAAABgj86CQA==",
          "dtype": "f8"
         }
        },
        {
         "line": {
          "color": "red",
          "width": 2
         },
         "mode": "lines",
         "name": "Price",
         "showlegend": false,
         "type": "scatter",
         "x": [
          "2025-01-31T00:00:00",
          "2025-02-03T00:00:00"
         ],
         "y": {
          "bdata": "AAAAYI/OgkAAAAAAKa6CQA==",
          "dtype": "f8"
         }
        },
        {
         "line": {
          "color": "red",
          "width": 2
         },
         "mode": "lines",
         "name": "Price",
         "showlegend": false,
         "type": "scatter",
         "x": [
          "2025-02-03T00:00:00",
          "2025-02-04T00:00:00"
         ],
         "y": {
          "bdata": "AAAAACmugkAAAACAPc6CQA==",
          "dtype": "f8"
         }
        },
        {
         "line": {
          "color": "red",
          "width": 2
         },
         "mode": "lines",
         "name": "Price",
         "showlegend": false,
         "type": "scatter",
         "x": [
          "2025-02-04T00:00:00",
          "2025-02-05T00:00:00"
         ],
         "y": {
          "bdata": "AAAAgD3OgkAAAACAwuGCQA==",
          "dtype": "f8"
         }
        },
        {
         "line": {
          "color": "green",
          "width": 2
         },
         "mode": "lines",
         "name": "Price",
         "showlegend": false,
         "type": "scatter",
         "x": [
          "2025-02-05T00:00:00",
          "2025-02-06T00:00:00"
         ],
         "y": {
          "bdata": "AAAAgMLhgkAAAABgj/KCQA==",
          "dtype": "f8"
         }
        },
        {
         "line": {
          "color": "green",
          "width": 2
         },
         "mode": "lines",
         "name": "Price",
         "showlegend": false,
         "type": "scatter",
         "x": [
          "2025-02-06T00:00:00",
          "2025-02-07T00:00:00"
         ],
         "y": {
          "bdata": "AAAAYI/ygkAAAAAAKcaCQA==",
          "dtype": "f8"
         }
        },
        {
         "line": {
          "color": "green",
          "width": 2
         },
         "mode": "lines",
         "name": "Price",
         "showlegend": false,
         "type": "scatter",
         "x": [
          "2025-02-07T00:00:00",
          "2025-02-10T00:00:00"
         ],
         "y": {
          "bdata": "AAAAACnGgkAAAADAzOaCQA==",
          "dtype": "f8"
         }
        },
        {
         "line": {
          "color": "green",
          "width": 2
         },
         "mode": "lines",
         "name": "Price",
         "showlegend": false,
         "type": "scatter",
         "x": [
          "2025-02-10T00:00:00",
          "2025-02-11T00:00:00"
         ],
         "y": {
          "bdata": "AAAAwMzmgkAAAADgeuqCQA==",
          "dtype": "f8"
         }
        },
        {
         "line": {
          "color": "green",
          "width": 2
         },
         "mode": "lines",
         "name": "Price",
         "showlegend": false,
         "type": "scatter",
         "x": [
          "2025-02-11T00:00:00",
          "2025-02-12T00:00:00"
         ],
         "y": {
          "bdata": "AAAA4HrqgkAAAABA4dqCQA==",
          "dtype": "f8"
         }
        },
        {
         "line": {
          "color": "green",
          "width": 2
         },
         "mode": "lines",
         "name": "Price",
         "showlegend": false,
         "type": "scatter",
         "x": [
          "2025-02-12T00:00:00",
          "2025-02-13T00:00:00"
         ],
         "y": {
          "bdata": "AAAAQOHagkAAAAAA1w2DQA==",
          "dtype": "f8"
         }
        },
        {
         "line": {
          "color": "green",
          "width": 2
         },
         "mode": "lines",
         "name": "Price",
         "showlegend": false,
         "type": "scatter",
         "x": [
          "2025-02-13T00:00:00",
          "2025-02-14T00:00:00"
         ],
         "y": {
          "bdata": "AAAAANcNg0AAAACgmQ2DQA==",
          "dtype": "f8"
         }
        },
        {
         "line": {
          "color": "green",
          "width": 2
         },
         "mode": "lines",
         "name": "Price",
         "showlegend": false,
         "type": "scatter",
         "x": [
          "2025-02-14T00:00:00",
          "2025-02-18T00:00:00"
         ],
         "y": {
          "bdata": "AAAAoJkNg0AAAACA6xuDQA==",
          "dtype": "f8"
         }
        },
        {
         "line": {
          "color": "green",
          "width": 2
         },
         "mode": "lines",
         "name": "Price",
         "showlegend": false,
         "type": "scatter",
         "x": [
          "2025-02-18T00:00:00",
          "2025-02-19T00:00:00"
         ],
         "y": {
          "bdata": "AAAAgOsbg0AAAACgcCeDQA==",
          "dtype": "f8"
         }
        },
        {
         "line": {
          "color": "green",
          "width": 2
         },
         "mode": "lines",
         "name": "Price",
         "showlegend": false,
         "type": "scatter",
         "x": [
          "2025-02-19T00:00:00",
          "2025-02-20T00:00:00"
         ],
         "y": {
          "bdata": "AAAAoHAng0AAAABAChODQA==",
          "dtype": "f8"
         }
        },
        {
         "line": {
          "color": "green",
          "width": 2
         },
         "mode": "lines",
         "name": "Price",
         "showlegend": false,
         "type": "scatter",
         "x": [
          "2025-02-20T00:00:00",
          "2025-02-21T00:00:00"
         ],
         "y": {
          "bdata": "AAAAQAoTg0AAAAAghb+CQA==",
          "dtype": "f8"
         }
        },
        {
         "line": {
          "color": "green",
          "width": 2
         },
         "mode": "lines",
         "name": "Price",
         "showlegend": false,
         "type": "scatter",
         "x": [
          "2025-02-21T00:00:00",
          "2025-02-24T00:00:00"
         ],
         "y": {
          "bdata": "AAAAIIW/gkAAAAAgrqmCQA==",
          "dtype": "f8"
         }
        },
        {
         "line": {
          "color": "green",
          "width": 2
         },
         "mode": "lines",
         "name": "Price",
         "showlegend": false,
         "type": "scatter",
         "x": [
          "2025-02-24T00:00:00",
          "2025-02-25T00:00:00"
         ],
         "y": {
          "bdata": "AAAAIK6pgkAAAACA65GCQA==",
          "dtype": "f8"
         }
        },
        {
         "line": {
          "color": "green",
          "width": 2
         },
         "mode": "lines",
         "name": "Price",
         "showlegend": false,
         "type": "scatter",
         "x": [
          "2025-02-25T00:00:00",
          "2025-02-26T00:00:00"
         ],
         "y": {
          "bdata": "AAAAgOuRgkAAAADgUZSCQA==",
          "dtype": "f8"
         }
        },
        {
         "line": {
          "color": "green",
          "width": 2
         },
         "mode": "lines",
         "name": "Price",
         "showlegend": false,
         "type": "scatter",
         "x": [
          "2025-02-26T00:00:00",
          "2025-02-27T00:00:00"
         ],
         "y": {
          "bdata": "AAAA4FGUgkAAAABgZkiCQA==",
          "dtype": "f8"
         }
        },
        {
         "line": {
          "color": "green",
          "width": 2
         },
         "mode": "lines",
         "name": "Price",
         "showlegend": false,
         "type": "scatter",
         "x": [
          "2025-02-27T00:00:00",
          "2025-02-28T00:00:00"
         ],
         "y": {
          "bdata": "AAAAYGZIgkAAAACgcJGCQA==",
          "dtype": "f8"
         }
        },
        {
         "line": {
          "color": "green",
          "width": 2
         },
         "mode": "lines",
         "name": "Price",
         "showlegend": false,
         "type": "scatter",
         "x": [
          "2025-02-28T00:00:00",
          "2025-03-03T00:00:00"
         ],
         "y": {
          "bdata": "AAAAoHCRgkAAAAAAKT6CQA==",
          "dtype": "f8"
         }
        },
        {
         "line": {
          "color": "red",
          "width": 2
         },
         "mode": "lines",
         "name": "Price",
         "showlegend": false,
         "type": "scatter",
         "x": [
          "2025-03-03T00:00:00",
          "2025-03-04T00:00:00"
         ],
         "y": {
          "bdata": "AAAAACk+gkAAAABA4QaCQA==",
          "dtype": "f8"
         }
        },
        {
         "line": {
          "color": "red",
          "width": 2
         },
         "mode": "lines",
         "name": "Price",
         "showlegend": false,
         "type": "scatter",
         "x": [
          "2025-03-04T00:00:00",
          "2025-03-05T00:00:00"
         ],
         "y": {
          "bdata": "AAAAQOEGgkAAAADgejiCQA==",
          "dtype": "f8"
         }
        },
        {
         "line": {
          "color": "red",
          "width": 2
         },
         "mode": "lines",
         "name": "Price",
         "showlegend": false,
         "type": "scatter",
         "x": [
          "2025-03-05T00:00:00",
          "2025-03-06T00:00:00"
         ],
         "y": {
          "bdata": "AAAA4Ho4gkAAAAAgruWBQA==",
          "dtype": "f8"
         }
        },
        {
         "line": {
          "color": "red",
          "width": 2
         },
         "mode": "lines",
         "name": "Price",
         "showlegend": false,
         "type": "scatter",
         "x": [
          "2025-03-06T00:00:00",
          "2025-03-07T00:00:00"
         ],
         "y": {
          "bdata": "AAAAIK7lgUAAAAAgXP+BQA==",
          "dtype": "f8"
         }
        },
        {
         "line": {
          "color": "red",
          "width": 2
         },
         "mode": "lines",
         "name": "Price",
         "showlegend": false,
         "type": "scatter",
         "x": [
          "2025-03-07T00:00:00",
          "2025-03-10T00:00:00"
         ],
         "y": {
          "bdata": "AAAAIFz/gUAAAADgo4SBQA==",
          "dtype": "f8"
         }
        },
        {
         "line": {
          "color": "red",
          "width": 2
         },
         "mode": "lines",
         "name": "Price",
         "showlegend": false,
         "type": "scatter",
         "x": [
          "2025-03-10T00:00:00",
          "2025-03-11T00:00:00"
         ],
         "y": {
          "bdata": "AAAA4KOEgUAAAAAgXF+BQA==",
          "dtype": "f8"
         }
        },
        {
         "line": {
          "color": "red",
          "width": 2
         },
         "mode": "lines",
         "name": "Price",
         "showlegend": false,
         "type": "scatter",
         "x": [
          "2025-03-11T00:00:00",
          "2025-03-12T00:00:00"
         ],
         "y": {
          "bdata": "AAAAIFxfgUAAAADA9XaBQA==",
          "dtype": "f8"
         }
        },
        {
         "line": {
          "color": "red",
          "width": 2
         },
         "mode": "lines",
         "name": "Price",
         "showlegend": false,
         "type": "scatter",
         "x": [
          "2025-03-12T00:00:00",
          "2025-03-13T00:00:00"
         ],
         "y": {
          "bdata": "AAAAwPV2gUAAAAAgXDuBQA==",
          "dtype": "f8"
         }
        },
        {
         "line": {
          "color": "red",
          "width": 2
         },
         "mode": "lines",
         "name": "Price",
         "showlegend": false,
         "type": "scatter",
         "x": [
          "2025-03-13T00:00:00",
          "2025-03-14T00:00:00"
         ],
         "y": {
          "bdata": "AAAAIFw7gUAAAADgepaBQA==",
          "dtype": "f8"
         }
        },
        {
         "line": {
          "color": "red",
          "width": 2
         },
         "mode": "lines",
         "name": "Price",
         "showlegend": false,
         "type": "scatter",
         "x": [
          "2025-03-14T00:00:00",
          "2025-03-17T00:00:00"
         ],
         "y": {
          "bdata": "AAAA4HqWgUAAAABAM7mBQA==",
          "dtype": "f8"
         }
        },
        {
         "line": {
          "color": "red",
          "width": 2
         },
         "mode": "lines",
         "name": "Price",
         "showlegend": false,
         "type": "scatter",
         "x": [
          "2025-03-17T00:00:00",
          "2025-03-18T00:00:00"
         ],
         "y": {
          "bdata": "AAAAQDO5gUAAAAAAKYiBQA==",
          "dtype": "f8"
         }
        },
        {
         "line": {
          "color": "red",
          "width": 2
         },
         "mode": "lines",
         "name": "Price",
         "showlegend": false,
         "type": "scatter",
         "x": [
          "2025-03-18T00:00:00",
          "2025-03-19T00:00:00"
         ],
         "y": {
          "bdata": "AAAAACmIgUAAAABACrmBQA==",
          "dtype": "f8"
         }
        },
        {
         "line": {
          "color": "red",
          "width": 2
         },
         "mode": "lines",
         "name": "Price",
         "showlegend": false,
         "type": "scatter",
         "x": [
          "2025-03-19T00:00:00",
          "2025-03-20T00:00:00"
         ],
         "y": {
          "bdata": "AAAAQAq5gUAAAACA66uBQA==",
          "dtype": "f8"
         }
        },
        {
         "line": {
          "color": "red",
          "width": 2
         },
         "mode": "lines",
         "name": "Price",
         "showlegend": false,
         "type": "scatter",
         "x": [
          "2025-03-20T00:00:00",
          "2025-03-21T00:00:00"
         ],
         "y": {
          "bdata": "AAAAgOurgUAAAAAA15+BQA==",
          "dtype": "f8"
         }
        },
        {
         "line": {
          "color": "red",
          "width": 2
         },
         "mode": "lines",
         "name": "Price",
         "showlegend": false,
         "type": "scatter",
         "x": [
          "2025-03-21T00:00:00",
          "2025-03-24T00:00:00"
         ],
         "y": {
          "bdata": "AAAAANefgUAAAADgo/CBQA==",
          "dtype": "f8"
         }
        },
        {
         "line": {
          "color": "red",
          "width": 2
         },
         "mode": "lines",
         "name": "Price",
         "showlegend": false,
         "type": "scatter",
         "x": [
          "2025-03-24T00:00:00",
          "2025-03-25T00:00:00"
         ],
         "y": {
          "bdata": "AAAA4KPwgUAAAAAgrvuBQA==",
          "dtype": "f8"
         }
        },
        {
         "line": {
          "color": "red",
          "width": 2
         },
         "mode": "lines",
         "name": "Price",
         "showlegend": false,
         "type": "scatter",
         "x": [
          "2025-03-25T00:00:00",
          "2025-03-26T00:00:00"
         ],
         "y": {
          "bdata": "AAAAIK77gUAAAABguMSBQA==",
          "dtype": "f8"
         }
        },
        {
         "line": {
          "color": "red",
          "width": 2
         },
         "mode": "lines",
         "name": "Price",
         "showlegend": false,
         "type": "scatter",
         "x": [
          "2025-03-26T00:00:00",
          "2025-03-27T00:00:00"
         ],
         "y": {
          "bdata": "AAAAYLjEgUAAAADgo7iBQA==",
          "dtype": "f8"
         }
        },
        {
         "line": {
          "color": "red",
          "width": 2
         },
         "mode": "lines",
         "name": "Price",
         "showlegend": false,
         "type": "scatter",
         "x": [
          "2025-03-27T00:00:00",
          "2025-03-28T00:00:00"
         ],
         "y": {
          "bdata": "AAAA4KO4gUAAAACgR12BQA==",
          "dtype": "f8"
         }
        },
        {
         "line": {
          "color": "red",
          "width": 2
         },
         "mode": "lines",
         "name": "Price",
         "showlegend": false,
         "type": "scatter",
         "x": [
          "2025-03-28T00:00:00",
          "2025-03-31T00:00:00"
         ],
         "y": {
          "bdata": "AAAAoEddgUAAAADAHnuBQA==",
          "dtype": "f8"
         }
        },
        {
         "line": {
          "color": "red",
          "width": 2
         },
         "mode": "lines",
         "name": "Price",
         "showlegend": false,
         "type": "scatter",
         "x": [
          "2025-03-31T00:00:00",
          "2025-04-01T00:00:00"
         ],
         "y": {
          "bdata": "AAAAwB57gUAAAACAwoeBQA==",
          "dtype": "f8"
         }
        },
        {
         "line": {
          "color": "red",
          "width": 2
         },
         "mode": "lines",
         "name": "Price",
         "showlegend": false,
         "type": "scatter",
         "x": [
          "2025-04-01T00:00:00",
          "2025-04-02T00:00:00"
         ],
         "y": {
          "bdata": "AAAAgMKHgUAAAAAAKaSBQA==",
          "dtype": "f8"
         }
        },
        {
         "line": {
          "color": "red",
          "width": 2
         },
         "mode": "lines",
         "name": "Price",
         "showlegend": false,
         "type": "scatter",
         "x": [
          "2025-04-02T00:00:00",
          "2025-04-03T00:00:00"
         ],
         "y": {
          "bdata": "AAAAACmkgUAAAACgmcWAQA==",
          "dtype": "f8"
         }
        },
        {
         "line": {
          "color": "red",
          "width": 2
         },
         "mode": "lines",
         "name": "Price",
         "showlegend": false,
         "type": "scatter",
         "x": [
          "2025-04-03T00:00:00",
          "2025-04-04T00:00:00"
         ],
         "y": {
          "bdata": "AAAAoJnFgEAAAADgepR/QA==",
          "dtype": "f8"
         }
        },
        {
         "line": {
          "color": "red",
          "width": 2
         },
         "mode": "lines",
         "name": "Price",
         "showlegend": false,
         "type": "scatter",
         "x": [
          "2025-04-04T00:00:00",
          "2025-04-07T00:00:00"
         ],
         "y": {
          "bdata": "AAAA4HqUf0AAAACAFIZ/QA==",
          "dtype": "f8"
         }
        },
        {
         "line": {
          "color": "red",
          "width": 2
         },
         "mode": "lines",
         "name": "Price",
         "showlegend": false,
         "type": "scatter",
         "x": [
          "2025-04-07T00:00:00",
          "2025-04-08T00:00:00"
         ],
         "y": {
          "bdata": "AAAAgBSGf0AAAAAgrgd/QA==",
          "dtype": "f8"
         }
        },
        {
         "line": {
          "color": "red",
          "width": 2
         },
         "mode": "lines",
         "name": "Price",
         "showlegend": false,
         "type": "scatter",
         "x": [
          "2025-04-08T00:00:00",
          "2025-04-09T00:00:00"
         ],
         "y": {
          "bdata": "AAAAIK4Hf0AAAADA9SSBQA==",
          "dtype": "f8"
         }
        },
        {
         "line": {
          "color": "red",
          "width": 2
         },
         "mode": "lines",
         "name": "Price",
         "showlegend": false,
         "type": "scatter",
         "x": [
          "2025-04-09T00:00:00",
          "2025-04-10T00:00:00"
         ],
         "y": {
          "bdata": "AAAAwPUkgUAAAADgo2SAQA==",
          "dtype": "f8"
         }
        },
        {
         "line": {
          "color": "red",
          "width": 2
         },
         "mode": "lines",
         "name": "Price",
         "showlegend": false,
         "type": "scatter",
         "x": [
          "2025-04-10T00:00:00",
          "2025-04-11T00:00:00"
         ],
         "y": {
          "bdata": "AAAA4KNkgEAAAAAgha+AQA==",
          "dtype": "f8"
         }
        },
        {
         "line": {
          "color": "red",
          "width": 2
         },
         "mode": "lines",
         "name": "Price",
         "showlegend": false,
         "type": "scatter",
         "x": [
          "2025-04-11T00:00:00",
          "2025-04-14T00:00:00"
         ],
         "y": {
          "bdata": "AAAAIIWvgEAAAADA9diAQA==",
          "dtype": "f8"
         }
        }
       ],
       "layout": {
        "legend": {
         "orientation": "h",
         "x": 0.45,
         "xanchor": "center",
         "y": 1.15
        },
        "showlegend": true,
        "template": {
         "data": {
          "bar": [
           {
            "error_x": {
             "color": "#f2f5fa"
            },
            "error_y": {
             "color": "#f2f5fa"
            },
            "marker": {
             "line": {
              "color": "rgb(17,17,17)",
              "width": 0.5
             },
             "pattern": {
              "fillmode": "overlay",
              "size": 10,
              "solidity": 0.2
             }
            },
            "type": "bar"
           }
          ],
          "barpolar": [
           {
            "marker": {
             "line": {
              "color": "rgb(17,17,17)",
              "width": 0.5
             },
             "pattern": {
              "fillmode": "overlay",
              "size": 10,
              "solidity": 0.2
             }
            },
            "type": "barpolar"
           }
          ],
          "carpet": [
           {
            "aaxis": {
             "endlinecolor": "#A2B1C6",
             "gridcolor": "#506784",
             "linecolor": "#506784",
             "minorgridcolor": "#506784",
             "startlinecolor": "#A2B1C6"
            },
            "baxis": {
             "endlinecolor": "#A2B1C6",
             "gridcolor": "#506784",
             "linecolor": "#506784",
             "minorgridcolor": "#506784",
             "startlinecolor": "#A2B1C6"
            },
            "type": "carpet"
           }
          ],
          "choropleth": [
           {
            "colorbar": {
             "outlinewidth": 0,
             "ticks": ""
            },
            "type": "choropleth"
           }
          ],
          "contour": [
           {
            "colorbar": {
             "outlinewidth": 0,
             "ticks": ""
            },
            "colorscale": [
             [
              0,
              "#0d0887"
             ],
             [
              0.1111111111111111,
              "#46039f"
             ],
             [
              0.2222222222222222,
              "#7201a8"
             ],
             [
              0.3333333333333333,
              "#9c179e"
             ],
             [
              0.4444444444444444,
              "#bd3786"
             ],
             [
              0.5555555555555556,
              "#d8576b"
             ],
             [
              0.6666666666666666,
              "#ed7953"
             ],
             [
              0.7777777777777778,
              "#fb9f3a"
             ],
             [
              0.8888888888888888,
              "#fdca26"
             ],
             [
              1,
              "#f0f921"
             ]
            ],
            "type": "contour"
           }
          ],
          "contourcarpet": [
           {
            "colorbar": {
             "outlinewidth": 0,
             "ticks": ""
            },
            "type": "contourcarpet"
           }
          ],
          "heatmap": [
           {
            "colorbar": {
             "outlinewidth": 0,
             "ticks": ""
            },
            "colorscale": [
             [
              0,
              "#0d0887"
             ],
             [
              0.1111111111111111,
              "#46039f"
             ],
             [
              0.2222222222222222,
              "#7201a8"
             ],
             [
              0.3333333333333333,
              "#9c179e"
             ],
             [
              0.4444444444444444,
              "#bd3786"
             ],
             [
              0.5555555555555556,
              "#d8576b"
             ],
             [
              0.6666666666666666,
              "#ed7953"
             ],
             [
              0.7777777777777778,
              "#fb9f3a"
             ],
             [
              0.8888888888888888,
              "#fdca26"
             ],
             [
              1,
              "#f0f921"
             ]
            ],
            "type": "heatmap"
           }
          ],
          "histogram": [
           {
            "marker": {
             "pattern": {
              "fillmode": "overlay",
              "size": 10,
              "solidity": 0.2
             }
            },
            "type": "histogram"
           }
          ],
          "histogram2d": [
           {
            "colorbar": {
             "outlinewidth": 0,
             "ticks": ""
            },
            "colorscale": [
             [
              0,
              "#0d0887"
             ],
             [
              0.1111111111111111,
              "#46039f"
             ],
             [
              0.2222222222222222,
              "#7201a8"
             ],
             [
              0.3333333333333333,
              "#9c179e"
             ],
             [
              0.4444444444444444,
              "#bd3786"
             ],
             [
              0.5555555555555556,
              "#d8576b"
             ],
             [
              0.6666666666666666,
              "#ed7953"
             ],
             [
              0.7777777777777778,
              "#fb9f3a"
             ],
             [
              0.8888888888888888,
              "#fdca26"
             ],
             [
              1,
              "#f0f921"
             ]
            ],
            "type": "histogram2d"
           }
          ],
          "histogram2dcontour": [
           {
            "colorbar": {
             "outlinewidth": 0,
             "ticks": ""
            },
            "colorscale": [
             [
              0,
              "#0d0887"
             ],
             [
              0.1111111111111111,
              "#46039f"
             ],
             [
              0.2222222222222222,
              "#7201a8"
             ],
             [
              0.3333333333333333,
              "#9c179e"
             ],
             [
              0.4444444444444444,
              "#bd3786"
             ],
             [
              0.5555555555555556,
              "#d8576b"
             ],
             [
              0.6666666666666666,
              "#ed7953"
             ],
             [
              0.7777777777777778,
              "#fb9f3a"
             ],
             [
              0.8888888888888888,
              "#fdca26"
             ],
             [
              1,
              "#f0f921"
             ]
            ],
            "type": "histogram2dcontour"
           }
          ],
          "mesh3d": [
           {
            "colorbar": {
             "outlinewidth": 0,
             "ticks": ""
            },
            "type": "mesh3d"
           }
          ],
          "parcoords": [
           {
            "line": {
             "colorbar": {
              "outlinewidth": 0,
              "ticks": ""
             }
            },
            "type": "parcoords"
           }
          ],
          "pie": [
           {
            "automargin": true,
            "type": "pie"
           }
          ],
          "scatter": [
           {
            "marker": {
             "line": {
              "color": "#283442"
             }
            },
            "type": "scatter"
           }
          ],
          "scatter3d": [
           {
            "line": {
             "colorbar": {
              "outlinewidth": 0,
              "ticks": ""
             }
            },
            "marker": {
             "colorbar": {
              "outlinewidth": 0,
              "ticks": ""
             }
            },
            "type": "scatter3d"
           }
          ],
          "scattercarpet": [
           {
            "marker": {
             "colorbar": {
              "outlinewidth": 0,
              "ticks": ""
             }
            },
            "type": "scattercarpet"
           }
          ],
          "scattergeo": [
           {
            "marker": {
             "colorbar": {
              "outlinewidth": 0,
              "ticks": ""
             }
            },
            "type": "scattergeo"
           }
          ],
          "scattergl": [
           {
            "marker": {
             "line": {
              "color": "#283442"
             }
            },
            "type": "scattergl"
           }
          ],
          "scattermapbox": [
           {
            "marker": {
             "colorbar": {
              "outlinewidth": 0,
              "ticks": ""
             }
            },
            "type": "scattermapbox"
           }
          ],
          "scatterpolar": [
           {
            "marker": {
             "colorbar": {
              "outlinewidth": 0,
              "ticks": ""
             }
            },
            "type": "scatterpolar"
           }
          ],
          "scatterpolargl": [
           {
            "marker": {
             "colorbar": {
              "outlinewidth": 0,
              "ticks": ""
             }
            },
            "type": "scatterpolargl"
           }
          ],
          "scatterternary": [
           {
            "marker": {
             "colorbar": {
              "outlinewidth": 0,
              "ticks": ""
             }
            },
            "type": "scatterternary"
           }
          ],
          "surface": [
           {
            "colorbar": {
             "outlinewidth": 0,
             "ticks": ""
            },
            "colorscale": [
             [
              0,
              "#0d0887"
             ],
             [
              0.1111111111111111,
              "#46039f"
             ],
             [
              0.2222222222222222,
              "#7201a8"
             ],
             [
              0.3333333333333333,
              "#9c179e"
             ],
             [
              0.4444444444444444,
              "#bd3786"
             ],
             [
              0.5555555555555556,
              "#d8576b"
             ],
             [
              0.6666666666666666,
              "#ed7953"
             ],
             [
              0.7777777777777778,
              "#fb9f3a"
             ],
             [
              0.8888888888888888,
              "#fdca26"
             ],
             [
              1,
              "#f0f921"
             ]
            ],
            "type": "surface"
           }
          ],
          "table": [
           {
            "cells": {
             "fill": {
              "color": "#506784"
             },
             "line": {
              "color": "rgb(17,17,17)"
             }
            },
            "header": {
             "fill": {
              "color": "#2a3f5f"
             },
             "line": {
              "color": "rgb(17,17,17)"
             }
            },
            "type": "table"
           }
          ]
         },
         "layout": {
          "annotationdefaults": {
           "arrowcolor": "#f2f5fa",
           "arrowhead": 0,
           "arrowwidth": 1
          },
          "annotations": [
           {
            "font": {
             "color": "black",
             "size": 90
            },
            "name": "draft watermark",
            "opacity": 0.1,
            "showarrow": false,
            "text": "humblDATA",
            "textangle": -25,
            "x": 0.5,
            "xref": "paper",
            "y": 0.5,
            "yref": "paper"
           }
          ],
          "autotypenumbers": "strict",
          "coloraxis": {
           "colorbar": {
            "outlinewidth": 0,
            "ticks": ""
           }
          },
          "colorscale": {
           "diverging": [
            [
             0,
             "#8e0152"
            ],
            [
             0.1,
             "#c51b7d"
            ],
            [
             0.2,
             "#de77ae"
            ],
            [
             0.3,
             "#f1b6da"
            ],
            [
             0.4,
             "#fde0ef"
            ],
            [
             0.5,
             "#f7f7f7"
            ],
            [
             0.6,
             "#e6f5d0"
            ],
            [
             0.7,
             "#b8e186"
            ],
            [
             0.8,
             "#7fbc41"
            ],
            [
             0.9,
             "#4d9221"
            ],
            [
             1,
             "#276419"
            ]
           ],
           "sequential": [
            [
             0,
             "#0d0887"
            ],
            [
             0.1111111111111111,
             "#46039f"
            ],
            [
             0.2222222222222222,
             "#7201a8"
            ],
            [
             0.3333333333333333,
             "#9c179e"
            ],
            [
             0.4444444444444444,
             "#bd3786"
            ],
            [
             0.5555555555555556,
             "#d8576b"
            ],
            [
             0.6666666666666666,
             "#ed7953"
            ],
            [
             0.7777777777777778,
             "#fb9f3a"
            ],
            [
             0.8888888888888888,
             "#fdca26"
            ],
            [
             1,
             "#f0f921"
            ]
           ],
           "sequentialminus": [
            [
             0,
             "#0d0887"
            ],
            [
             0.1111111111111111,
             "#46039f"
            ],
            [
             0.2222222222222222,
             "#7201a8"
            ],
            [
             0.3333333333333333,
             "#9c179e"
            ],
            [
             0.4444444444444444,
             "#bd3786"
            ],
            [
             0.5555555555555556,
             "#d8576b"
            ],
            [
             0.6666666666666666,
             "#ed7953"
            ],
            [
             0.7777777777777778,
             "#fb9f3a"
            ],
            [
             0.8888888888888888,
             "#fdca26"
            ],
            [
             1,
             "#f0f921"
            ]
           ]
          },
          "colorway": [
           "#636efa",
           "#EF553B",
           "#00cc96",
           "#ab63fa",
           "#FFA15A",
           "#19d3f3",
           "#FF6692",
           "#B6E880",
           "#FF97FF",
           "#FECB52"
          ],
          "font": {
           "color": "white"
          },
          "geo": {
           "bgcolor": "rgb(17,17,17)",
           "lakecolor": "rgb(17,17,17)",
           "landcolor": "rgb(17,17,17)",
           "showlakes": true,
           "showland": true,
           "subunitcolor": "#506784"
          },
          "hoverlabel": {
           "align": "left"
          },
          "hovermode": "closest",
          "legend": {
           "bgcolor": "rgb(0,0,0,0)",
           "bordercolor": "rgb(63,70,139)",
           "borderwidth": 0.5,
           "font": {
            "color": "white",
            "family": "open-sans",
            "size": 12
           },
           "orientation": "h",
           "traceorder": "normal",
           "x": 0.5,
           "xanchor": "center",
           "y": -0.15
          },
          "mapbox": {
           "style": "dark"
          },
          "paper_bgcolor": "rgb(0,0,0,0)",
          "plot_bgcolor": "rgb(0,0,0,0)",
          "polar": {
           "angularaxis": {
            "gridcolor": "#506784",
            "linecolor": "#506784",
            "ticks": ""
           },
           "bgcolor": "rgb(17,17,17)",
           "radialaxis": {
            "gridcolor": "#506784",
            "linecolor": "#506784",
            "ticks": ""
           }
          },
          "scene": {
           "xaxis": {
            "backgroundcolor": "rgb(17,17,17)",
            "gridcolor": "#506784",
            "gridwidth": 2,
            "linecolor": "#506784",
            "showbackground": true,
            "ticks": "",
            "zerolinecolor": "#C8D4E3"
           },
           "yaxis": {
            "backgroundcolor": "rgb(17,17,17)",
            "gridcolor": "#506784",
            "gridwidth": 2,
            "linecolor": "#506784",
            "showbackground": true,
            "ticks": "",
            "zerolinecolor": "#C8D4E3"
           },
           "zaxis": {
            "backgroundcolor": "rgb(17,17,17)",
            "gridcolor": "#506784",
            "gridwidth": 2,
            "linecolor": "#506784",
            "showbackground": true,
            "ticks": "",
            "zerolinecolor": "#C8D4E3"
           }
          },
          "shapedefaults": {
           "line": {
            "color": "#f2f5fa"
           }
          },
          "sliderdefaults": {
           "bgcolor": "#C8D4E3",
           "bordercolor": "rgb(17,17,17)",
           "borderwidth": 1,
           "tickwidth": 0
          },
          "ternary": {
           "aaxis": {
            "gridcolor": "#506784",
            "linecolor": "#506784",
            "ticks": ""
           },
           "baxis": {
            "gridcolor": "#506784",
            "linecolor": "#506784",
            "ticks": ""
           },
           "bgcolor": "rgb(17,17,17)",
           "caxis": {
            "gridcolor": "#506784",
            "linecolor": "#506784",
            "ticks": ""
           }
          },
          "title": {
           "x": 0.05
          },
          "updatemenudefaults": {
           "bgcolor": "#506784",
           "borderwidth": 0
          },
          "xaxis": {
           "automargin": true,
           "gridcolor": "#283442",
           "linecolor": "#506784",
           "ticks": "",
           "title": {
            "standoff": 15
           },
           "zerolinecolor": "#283442",
           "zerolinewidth": 2
          },
          "yaxis": {
           "automargin": true,
           "gridcolor": "#283442",
           "linecolor": "#506784",
           "side": "right",
           "ticks": "",
           "title": {
            "standoff": 15
           },
           "zerolinecolor": "#283442",
           "zerolinewidth": 2
          }
         }
        },
        "title": {
         "text": "Price Colored by Momentum for SPY"
        },
        "xaxis": {
         "title": {
          "text": "Date"
         }
        },
        "yaxis": {
         "title": {
          "text": "Price"
         }
        }
       }
      }
     },
     "metadata": {},
     "output_type": "display_data"
    }
   ],
   "source": [
    "log_momentum.show()"
   ]
  },
  {
   "cell_type": "code",
   "execution_count": null,
   "metadata": {},
   "outputs": [],
   "source": []
  }
 ],
 "metadata": {
  "kernelspec": {
   "display_name": "Python 3",
   "language": "python",
   "name": "python3"
  },
  "language_info": {
   "codemirror_mode": {
    "name": "ipython",
    "version": 3
   },
   "file_extension": ".py",
   "mimetype": "text/x-python",
   "name": "python",
   "nbconvert_exporter": "python",
   "pygments_lexer": "ipython3",
   "version": "3.12.9"
  }
 },
 "nbformat": 4,
 "nbformat_minor": 2
}
