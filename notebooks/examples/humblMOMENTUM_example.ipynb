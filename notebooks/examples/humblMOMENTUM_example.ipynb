{
 "cells": [
  {
   "cell_type": "code",
   "execution_count": 2,
   "metadata": {},
   "outputs": [],
   "source": [
    "%load_ext autoreload\n",
    "%autoreload 2\n",
    "\n",
    "from datetime import datetime, timedelta\n",
    "\n",
    "from humbldata.core.standard_models.toolbox.technical.humbl_momentum import (\n",
    "    MomentumQueryParams,\n",
    ")\n",
    "from humbldata.toolbox.toolbox_controller import Toolbox\n",
    "\n",
    "# Initialize toolbox\n",
    "toolbox = Toolbox(\n",
    "    symbols=[\"SPY\"],  # List of symbols to analyze\n",
    "    start_date=\"2024-04-15\",  # 1 year ago\n",
    "    end_date=\"2025-04-15\",  # Today\n",
    "    membership=\"admin\"\n",
    ")"
   ]
  },
  {
   "cell_type": "code",
   "execution_count": 3,
   "metadata": {},
   "outputs": [
    {
     "name": "stderr",
     "output_type": "stream",
     "text": [
      "\u001b[1;35mINFO:\u001b[0m \u001b[36mMomentumFetcher\u001b[0m || \u001b[32mSTART: fetch_data (sync)\u001b[0m\n",
      "\u001b[1;35mDEBUG:\u001b[0m \u001b[36mMomentumFetcher\u001b[0m || \u001b[34mRunning .transform_query()\u001b[0m\n",
      "\u001b[1;35mDEBUG:\u001b[0m \u001b[36mMomentumFetcher\u001b[0m || \u001b[34mRunning .extract_data()\u001b[0m\n",
      "\u001b[1;35mDEBUG:\u001b[0m \u001b[36mMomentumFetcher\u001b[0m || \u001b[34mRunning .transform_data()\u001b[0m\n",
      "\u001b[1;35mDEBUG:\u001b[0m \u001b[36mMomentumFetcher\u001b[0m || \u001b[34mTransforming data with momentum calculation\u001b[0m\n",
      "\u001b[1;35mDEBUG:\u001b[0m \u001b[36mMomentumModel\u001b[0m || \u001b[34mCalculating momentum using method: shift, window: 31\u001b[0m\n",
      "\u001b[1;35mDEBUG:\u001b[0m \u001b[36mMomentumModel\u001b[0m || \u001b[34mUsing simple shift calculation\u001b[0m\n",
      "\u001b[1;35mINFO:\u001b[0m \u001b[36mMomentumFetcher\u001b[0m || \u001b[32mEND: fetch_data (sync) - Total time: 0.5978s\u001b[0m\n"
     ]
    }
   ],
   "source": [
    "\n",
    "\n",
    "# Calculate momentum\n",
    "result = toolbox.technical.momentum(\n",
    "    method=\"shift\",\n",
    "    window=\"1mo\",\n",
    "    chart=True,\n",
    "    template=\"humbl_dark\"\n",
    ")\n"
   ]
  },
  {
   "cell_type": "code",
   "execution_count": 111,
   "metadata": {},
   "outputs": [
    {
     "data": {
      "text/html": [
       "<div><style>\n",
       ".dataframe > thead > tr,\n",
       ".dataframe > tbody > tr {\n",
       "  text-align: right;\n",
       "  white-space: pre-wrap;\n",
       "}\n",
       "</style>\n",
       "<small>shape: (220, 5)</small><table border=\"1\" class=\"dataframe\"><thead><tr><th>date</th><th>close</th><th>symbol</th><th>shifted</th><th>momentum_signal</th></tr><tr><td>date</td><td>f64</td><td>str</td><td>f64</td><td>i8</td></tr></thead><tbody><tr><td>2024-05-29</td><td>526.099976</td><td>&quot;SPY&quot;</td><td>504.450012</td><td>1</td></tr><tr><td>2024-05-30</td><td>522.609985</td><td>&quot;SPY&quot;</td><td>503.529999</td><td>1</td></tr><tr><td>2024-05-31</td><td>527.369995</td><td>&quot;SPY&quot;</td><td>500.549988</td><td>1</td></tr><tr><td>2024-06-03</td><td>527.799988</td><td>&quot;SPY&quot;</td><td>499.519989</td><td>1</td></tr><tr><td>2024-06-04</td><td>528.390015</td><td>&quot;SPY&quot;</td><td>495.160004</td><td>1</td></tr><tr><td>&hellip;</td><td>&hellip;</td><td>&hellip;</td><td>&hellip;</td><td>&hellip;</td></tr><tr><td>2025-04-08</td><td>496.480011</td><td>&quot;SPY&quot;</td><td>597.210022</td><td>0</td></tr><tr><td>2025-04-09</td><td>548.619995</td><td>&quot;SPY&quot;</td><td>594.23999</td><td>0</td></tr><tr><td>2025-04-10</td><td>524.580017</td><td>&quot;SPY&quot;</td><td>594.539978</td><td>0</td></tr><tr><td>2025-04-11</td><td>533.940002</td><td>&quot;SPY&quot;</td><td>585.049988</td><td>0</td></tr><tr><td>2025-04-14</td><td>539.119995</td><td>&quot;SPY&quot;</td><td>594.179993</td><td>0</td></tr></tbody></table></div>"
      ],
      "text/plain": [
       "shape: (220, 5)\n",
       "┌────────────┬────────────┬────────┬────────────┬─────────────────┐\n",
       "│ date       ┆ close      ┆ symbol ┆ shifted    ┆ momentum_signal │\n",
       "│ ---        ┆ ---        ┆ ---    ┆ ---        ┆ ---             │\n",
       "│ date       ┆ f64        ┆ str    ┆ f64        ┆ i8              │\n",
       "╞════════════╪════════════╪════════╪════════════╪═════════════════╡\n",
       "│ 2024-05-29 ┆ 526.099976 ┆ SPY    ┆ 504.450012 ┆ 1               │\n",
       "│ 2024-05-30 ┆ 522.609985 ┆ SPY    ┆ 503.529999 ┆ 1               │\n",
       "│ 2024-05-31 ┆ 527.369995 ┆ SPY    ┆ 500.549988 ┆ 1               │\n",
       "│ 2024-06-03 ┆ 527.799988 ┆ SPY    ┆ 499.519989 ┆ 1               │\n",
       "│ 2024-06-04 ┆ 528.390015 ┆ SPY    ┆ 495.160004 ┆ 1               │\n",
       "│ …          ┆ …          ┆ …      ┆ …          ┆ …               │\n",
       "│ 2025-04-08 ┆ 496.480011 ┆ SPY    ┆ 597.210022 ┆ 0               │\n",
       "│ 2025-04-09 ┆ 548.619995 ┆ SPY    ┆ 594.23999  ┆ 0               │\n",
       "│ 2025-04-10 ┆ 524.580017 ┆ SPY    ┆ 594.539978 ┆ 0               │\n",
       "│ 2025-04-11 ┆ 533.940002 ┆ SPY    ┆ 585.049988 ┆ 0               │\n",
       "│ 2025-04-14 ┆ 539.119995 ┆ SPY    ┆ 594.179993 ┆ 0               │\n",
       "└────────────┴────────────┴────────┴────────────┴─────────────────┘"
      ]
     },
     "execution_count": 111,
     "metadata": {},
     "output_type": "execute_result"
    }
   ],
   "source": [
    "result.to_polars()"
   ]
  },
  {
   "cell_type": "code",
   "execution_count": 112,
   "metadata": {},
   "outputs": [
    {
     "data": {
      "text/html": [
       "<div><style>\n",
       ".dataframe > thead > tr,\n",
       ".dataframe > tbody > tr {\n",
       "  text-align: right;\n",
       "  white-space: pre-wrap;\n",
       "}\n",
       "</style>\n",
       "<small>shape: (220, 5)</small><table border=\"1\" class=\"dataframe\"><thead><tr><th>date</th><th>close</th><th>symbol</th><th>shifted</th><th>momentum_signal</th></tr><tr><td>date</td><td>f64</td><td>str</td><td>f64</td><td>i8</td></tr></thead><tbody><tr><td>2024-05-29</td><td>526.099976</td><td>&quot;SPY&quot;</td><td>504.450012</td><td>1</td></tr><tr><td>2024-05-30</td><td>522.609985</td><td>&quot;SPY&quot;</td><td>503.529999</td><td>1</td></tr><tr><td>2024-05-31</td><td>527.369995</td><td>&quot;SPY&quot;</td><td>500.549988</td><td>1</td></tr><tr><td>2024-06-03</td><td>527.799988</td><td>&quot;SPY&quot;</td><td>499.519989</td><td>1</td></tr><tr><td>2024-06-04</td><td>528.390015</td><td>&quot;SPY&quot;</td><td>495.160004</td><td>1</td></tr><tr><td>&hellip;</td><td>&hellip;</td><td>&hellip;</td><td>&hellip;</td><td>&hellip;</td></tr><tr><td>2025-04-08</td><td>496.480011</td><td>&quot;SPY&quot;</td><td>597.210022</td><td>0</td></tr><tr><td>2025-04-09</td><td>548.619995</td><td>&quot;SPY&quot;</td><td>594.23999</td><td>0</td></tr><tr><td>2025-04-10</td><td>524.580017</td><td>&quot;SPY&quot;</td><td>594.539978</td><td>0</td></tr><tr><td>2025-04-11</td><td>533.940002</td><td>&quot;SPY&quot;</td><td>585.049988</td><td>0</td></tr><tr><td>2025-04-14</td><td>539.119995</td><td>&quot;SPY&quot;</td><td>594.179993</td><td>0</td></tr></tbody></table></div>"
      ],
      "text/plain": [
       "shape: (220, 5)\n",
       "┌────────────┬────────────┬────────┬────────────┬─────────────────┐\n",
       "│ date       ┆ close      ┆ symbol ┆ shifted    ┆ momentum_signal │\n",
       "│ ---        ┆ ---        ┆ ---    ┆ ---        ┆ ---             │\n",
       "│ date       ┆ f64        ┆ str    ┆ f64        ┆ i8              │\n",
       "╞════════════╪════════════╪════════╪════════════╪═════════════════╡\n",
       "│ 2024-05-29 ┆ 526.099976 ┆ SPY    ┆ 504.450012 ┆ 1               │\n",
       "│ 2024-05-30 ┆ 522.609985 ┆ SPY    ┆ 503.529999 ┆ 1               │\n",
       "│ 2024-05-31 ┆ 527.369995 ┆ SPY    ┆ 500.549988 ┆ 1               │\n",
       "│ 2024-06-03 ┆ 527.799988 ┆ SPY    ┆ 499.519989 ┆ 1               │\n",
       "│ 2024-06-04 ┆ 528.390015 ┆ SPY    ┆ 495.160004 ┆ 1               │\n",
       "│ …          ┆ …          ┆ …      ┆ …          ┆ …               │\n",
       "│ 2025-04-08 ┆ 496.480011 ┆ SPY    ┆ 597.210022 ┆ 0               │\n",
       "│ 2025-04-09 ┆ 548.619995 ┆ SPY    ┆ 594.23999  ┆ 0               │\n",
       "│ 2025-04-10 ┆ 524.580017 ┆ SPY    ┆ 594.539978 ┆ 0               │\n",
       "│ 2025-04-11 ┆ 533.940002 ┆ SPY    ┆ 585.049988 ┆ 0               │\n",
       "│ 2025-04-14 ┆ 539.119995 ┆ SPY    ┆ 594.179993 ┆ 0               │\n",
       "└────────────┴────────────┴────────┴────────────┴─────────────────┘"
      ]
     },
     "execution_count": 112,
     "metadata": {},
     "output_type": "execute_result"
    }
   ],
   "source": [
    "import polars as pl\n",
    "result.to_polars().filter(pl.col(\"symbol\") == \"SPY\")\n"
   ]
  },
  {
   "cell_type": "code",
   "execution_count": 113,
   "metadata": {},
   "outputs": [
    {
     "data": {
      "application/vnd.plotly.v1+json": {
       "config": {
        "plotlyServerURL": "https://plot.ly"
       },
       "data": [
        {
         "line": {
          "color": "green",
          "width": 2
         },
         "mode": "lines",
         "name": "Current Price",
         "showlegend": true,
         "type": "scatter",
         "x": [
          "2024-05-29T00:00:00",
          "2024-05-30T00:00:00"
         ],
         "y": {
          "bdata": "AAAAwMxwgEAAAABA4VSAQA==",
          "dtype": "f8"
         }
        },
        {
         "line": {
          "color": "green",
          "width": 2
         },
         "mode": "lines",
         "name": "Current Price",
         "showlegend": false,
         "type": "scatter",
         "x": [
          "2024-05-30T00:00:00",
          "2024-05-31T00:00:00"
         ],
         "y": {
          "bdata": "AAAAQOFUgEAAAADA9XqAQA==",
          "dtype": "f8"
         }
        },
        {
         "line": {
          "color": "green",
          "width": 2
         },
         "mode": "lines",
         "name": "Current Price",
         "showlegend": false,
         "type": "scatter",
         "x": [
          "2024-05-31T00:00:00",
          "2024-06-03T00:00:00"
         ],
         "y": {
          "bdata": "AAAAwPV6gEAAAABgZn6AQA==",
          "dtype": "f8"
         }
        },
        {
         "line": {
          "color": "green",
          "width": 2
         },
         "mode": "lines",
         "name": "Current Price",
         "showlegend": false,
         "type": "scatter",
         "x": [
          "2024-06-03T00:00:00",
          "2024-06-04T00:00:00"
         ],
         "y": {
          "bdata": "AAAAYGZ+gEAAAADAHoOAQA==",
          "dtype": "f8"
         }
        },
        {
         "line": {
          "color": "green",
          "width": 2
         },
         "mode": "lines",
         "name": "Current Price",
         "showlegend": false,
         "type": "scatter",
         "x": [
          "2024-06-04T00:00:00",
          "2024-06-05T00:00:00"
         ],
         "y": {
          "bdata": "AAAAwB6DgEAAAAAgXLWAQA==",
          "dtype": "f8"
         }
        },
        {
         "line": {
          "color": "green",
          "width": 2
         },
         "mode": "lines",
         "name": "Current Price",
         "showlegend": false,
         "type": "scatter",
         "x": [
          "2024-06-05T00:00:00",
          "2024-06-06T00:00:00"
         ],
         "y": {
          "bdata": "AAAAIFy1gEAAAACgR7WAQA==",
          "dtype": "f8"
         }
        },
        {
         "line": {
          "color": "green",
          "width": 2
         },
         "mode": "lines",
         "name": "Current Price",
         "showlegend": false,
         "type": "scatter",
         "x": [
          "2024-06-06T00:00:00",
          "2024-06-07T00:00:00"
         ],
         "y": {
          "bdata": "AAAAoEe1gEAAAACAFLCAQA==",
          "dtype": "f8"
         }
        },
        {
         "line": {
          "color": "green",
          "width": 2
         },
         "mode": "lines",
         "name": "Current Price",
         "showlegend": false,
         "type": "scatter",
         "x": [
          "2024-06-07T00:00:00",
          "2024-06-10T00:00:00"
         ],
         "y": {
          "bdata": "AAAAgBSwgEAAAACgR72AQA==",
          "dtype": "f8"
         }
        },
        {
         "line": {
          "color": "green",
          "width": 2
         },
         "mode": "lines",
         "name": "Current Price",
         "showlegend": false,
         "type": "scatter",
         "x": [
          "2024-06-10T00:00:00",
          "2024-06-11T00:00:00"
         ],
         "y": {
          "bdata": "AAAAoEe9gEAAAACgmceAQA==",
          "dtype": "f8"
         }
        },
        {
         "line": {
          "color": "green",
          "width": 2
         },
         "mode": "lines",
         "name": "Current Price",
         "showlegend": false,
         "type": "scatter",
         "x": [
          "2024-06-11T00:00:00",
          "2024-06-12T00:00:00"
         ],
         "y": {
          "bdata": "AAAAoJnHgEAAAABA4eqAQA==",
          "dtype": "f8"
         }
        },
        {
         "line": {
          "color": "green",
          "width": 2
         },
         "mode": "lines",
         "name": "Current Price",
         "showlegend": false,
         "type": "scatter",
         "x": [
          "2024-06-12T00:00:00",
          "2024-06-13T00:00:00"
         ],
         "y": {
          "bdata": "AAAAQOHqgEAAAACgmfOAQA==",
          "dtype": "f8"
         }
        },
        {
         "line": {
          "color": "green",
          "width": 2
         },
         "mode": "lines",
         "name": "Current Price",
         "showlegend": false,
         "type": "scatter",
         "x": [
          "2024-06-13T00:00:00",
          "2024-06-14T00:00:00"
         ],
         "y": {
          "bdata": "AAAAoJnzgEAAAACAPfaAQA==",
          "dtype": "f8"
         }
        },
        {
         "line": {
          "color": "green",
          "width": 2
         },
         "mode": "lines",
         "name": "Current Price",
         "showlegend": false,
         "type": "scatter",
         "x": [
          "2024-06-14T00:00:00",
          "2024-06-17T00:00:00"
         ],
         "y": {
          "bdata": "AAAAgD32gEAAAADAzBiBQA==",
          "dtype": "f8"
         }
        },
        {
         "line": {
          "color": "green",
          "width": 2
         },
         "mode": "lines",
         "name": "Current Price",
         "showlegend": false,
         "type": "scatter",
         "x": [
          "2024-06-17T00:00:00",
          "2024-06-18T00:00:00"
         ],
         "y": {
          "bdata": "AAAAwMwYgUAAAACA6yOBQA==",
          "dtype": "f8"
         }
        },
        {
         "line": {
          "color": "green",
          "width": 2
         },
         "mode": "lines",
         "name": "Current Price",
         "showlegend": false,
         "type": "scatter",
         "x": [
          "2024-06-18T00:00:00",
          "2024-06-20T00:00:00"
         ],
         "y": {
          "bdata": "AAAAgOsjgUAAAAAAABiBQA==",
          "dtype": "f8"
         }
        },
        {
         "line": {
          "color": "green",
          "width": 2
         },
         "mode": "lines",
         "name": "Current Price",
         "showlegend": false,
         "type": "scatter",
         "x": [
          "2024-06-20T00:00:00",
          "2024-06-21T00:00:00"
         ],
         "y": {
          "bdata": "AAAAAAAYgUAAAACAFASBQA==",
          "dtype": "f8"
         }
        },
        {
         "line": {
          "color": "green",
          "width": 2
         },
         "mode": "lines",
         "name": "Current Price",
         "showlegend": false,
         "type": "scatter",
         "x": [
          "2024-06-21T00:00:00",
          "2024-06-24T00:00:00"
         ],
         "y": {
          "bdata": "AAAAgBQEgUAAAACA6/WAQA==",
          "dtype": "f8"
         }
        },
        {
         "line": {
          "color": "green",
          "width": 2
         },
         "mode": "lines",
         "name": "Current Price",
         "showlegend": false,
         "type": "scatter",
         "x": [
          "2024-06-24T00:00:00",
          "2024-06-25T00:00:00"
         ],
         "y": {
          "bdata": "AAAAgOv1gEAAAADgowaBQA==",
          "dtype": "f8"
         }
        },
        {
         "line": {
          "color": "green",
          "width": 2
         },
         "mode": "lines",
         "name": "Current Price",
         "showlegend": false,
         "type": "scatter",
         "x": [
          "2024-06-25T00:00:00",
          "2024-06-26T00:00:00"
         ],
         "y": {
          "bdata": "AAAA4KMGgUAAAACAFAyBQA==",
          "dtype": "f8"
         }
        },
        {
         "line": {
          "color": "green",
          "width": 2
         },
         "mode": "lines",
         "name": "Current Price",
         "showlegend": false,
         "type": "scatter",
         "x": [
          "2024-06-26T00:00:00",
          "2024-06-27T00:00:00"
         ],
         "y": {
          "bdata": "AAAAgBQMgUAAAADA9RKBQA==",
          "dtype": "f8"
         }
        },
        {
         "line": {
          "color": "green",
          "width": 2
         },
         "mode": "lines",
         "name": "Current Price",
         "showlegend": false,
         "type": "scatter",
         "x": [
          "2024-06-27T00:00:00",
          "2024-06-28T00:00:00"
         ],
         "y": {
          "bdata": "AAAAwPUSgUAAAACAwgGBQA==",
          "dtype": "f8"
         }
        },
        {
         "line": {
          "color": "green",
          "width": 2
         },
         "mode": "lines",
         "name": "Current Price",
         "showlegend": false,
         "type": "scatter",
         "x": [
          "2024-06-28T00:00:00",
          "2024-07-01T00:00:00"
         ],
         "y": {
          "bdata": "AAAAgMIBgUAAAABguAqBQA==",
          "dtype": "f8"
         }
        },
        {
         "line": {
          "color": "green",
          "width": 2
         },
         "mode": "lines",
         "name": "Current Price",
         "showlegend": false,
         "type": "scatter",
         "x": [
          "2024-07-01T00:00:00",
          "2024-07-02T00:00:00"
         ],
         "y": {
          "bdata": "AAAAYLgKgUAAAACAFCiBQA==",
          "dtype": "f8"
         }
        },
        {
         "line": {
          "color": "green",
          "width": 2
         },
         "mode": "lines",
         "name": "Current Price",
         "showlegend": false,
         "type": "scatter",
         "x": [
          "2024-07-02T00:00:00",
          "2024-07-03T00:00:00"
         ],
         "y": {
          "bdata": "AAAAgBQogUAAAAAgrjuBQA==",
          "dtype": "f8"
         }
        },
        {
         "line": {
          "color": "green",
          "width": 2
         },
         "mode": "lines",
         "name": "Current Price",
         "showlegend": false,
         "type": "scatter",
         "x": [
          "2024-07-03T00:00:00",
          "2024-07-05T00:00:00"
         ],
         "y": {
          "bdata": "AAAAIK47gUAAAADAHlWBQA==",
          "dtype": "f8"
         }
        },
        {
         "line": {
          "color": "green",
          "width": 2
         },
         "mode": "lines",
         "name": "Current Price",
         "showlegend": false,
         "type": "scatter",
         "x": [
          "2024-07-05T00:00:00",
          "2024-07-08T00:00:00"
         ],
         "y": {
          "bdata": "AAAAwB5VgUAAAACAPVqBQA==",
          "dtype": "f8"
         }
        },
        {
         "line": {
          "color": "green",
          "width": 2
         },
         "mode": "lines",
         "name": "Current Price",
         "showlegend": false,
         "type": "scatter",
         "x": [
          "2024-07-08T00:00:00",
          "2024-07-09T00:00:00"
         ],
         "y": {
          "bdata": "AAAAgD1agUAAAABgj16BQA==",
          "dtype": "f8"
         }
        },
        {
         "line": {
          "color": "green",
          "width": 2
         },
         "mode": "lines",
         "name": "Current Price",
         "showlegend": false,
         "type": "scatter",
         "x": [
          "2024-07-09T00:00:00",
          "2024-07-10T00:00:00"
         ],
         "y": {
          "bdata": "AAAAYI9egUAAAABgj4qBQA==",
          "dtype": "f8"
         }
        },
        {
         "line": {
          "color": "green",
          "width": 2
         },
         "mode": "lines",
         "name": "Current Price",
         "showlegend": false,
         "type": "scatter",
         "x": [
          "2024-07-10T00:00:00",
          "2024-07-11T00:00:00"
         ],
         "y": {
          "bdata": "AAAAYI+KgUAAAAAA12OBQA==",
          "dtype": "f8"
         }
        },
        {
         "line": {
          "color": "green",
          "width": 2
         },
         "mode": "lines",
         "name": "Current Price",
         "showlegend": false,
         "type": "scatter",
         "x": [
          "2024-07-11T00:00:00",
          "2024-07-12T00:00:00"
         ],
         "y": {
          "bdata": "AAAAANdjgUAAAACA63+BQA==",
          "dtype": "f8"
         }
        },
        {
         "line": {
          "color": "green",
          "width": 2
         },
         "mode": "lines",
         "name": "Current Price",
         "showlegend": false,
         "type": "scatter",
         "x": [
          "2024-07-12T00:00:00",
          "2024-07-15T00:00:00"
         ],
         "y": {
          "bdata": "AAAAgOt/gUAAAACAPYyBQA==",
          "dtype": "f8"
         }
        },
        {
         "line": {
          "color": "green",
          "width": 2
         },
         "mode": "lines",
         "name": "Current Price",
         "showlegend": false,
         "type": "scatter",
         "x": [
          "2024-07-15T00:00:00",
          "2024-07-16T00:00:00"
         ],
         "y": {
          "bdata": "AAAAgD2MgUAAAABA4aaBQA==",
          "dtype": "f8"
         }
        },
        {
         "line": {
          "color": "green",
          "width": 2
         },
         "mode": "lines",
         "name": "Current Price",
         "showlegend": false,
         "type": "scatter",
         "x": [
          "2024-07-16T00:00:00",
          "2024-07-17T00:00:00"
         ],
         "y": {
          "bdata": "AAAAQOGmgUAAAAAghWeBQA==",
          "dtype": "f8"
         }
        },
        {
         "line": {
          "color": "green",
          "width": 2
         },
         "mode": "lines",
         "name": "Current Price",
         "showlegend": false,
         "type": "scatter",
         "x": [
          "2024-07-17T00:00:00",
          "2024-07-18T00:00:00"
         ],
         "y": {
          "bdata": "AAAAIIVngUAAAACgR0WBQA==",
          "dtype": "f8"
         }
        },
        {
         "line": {
          "color": "green",
          "width": 2
         },
         "mode": "lines",
         "name": "Current Price",
         "showlegend": false,
         "type": "scatter",
         "x": [
          "2024-07-18T00:00:00",
          "2024-07-19T00:00:00"
         ],
         "y": {
          "bdata": "AAAAoEdFgUAAAACA6yeBQA==",
          "dtype": "f8"
         }
        },
        {
         "line": {
          "color": "green",
          "width": 2
         },
         "mode": "lines",
         "name": "Current Price",
         "showlegend": false,
         "type": "scatter",
         "x": [
          "2024-07-19T00:00:00",
          "2024-07-22T00:00:00"
         ],
         "y": {
          "bdata": "AAAAgOsngUAAAABAM1WBQA==",
          "dtype": "f8"
         }
        },
        {
         "line": {
          "color": "green",
          "width": 2
         },
         "mode": "lines",
         "name": "Current Price",
         "showlegend": false,
         "type": "scatter",
         "x": [
          "2024-07-22T00:00:00",
          "2024-07-23T00:00:00"
         ],
         "y": {
          "bdata": "AAAAQDNVgUAAAACAPU6BQA==",
          "dtype": "f8"
         }
        },
        {
         "line": {
          "color": "green",
          "width": 2
         },
         "mode": "lines",
         "name": "Current Price",
         "showlegend": false,
         "type": "scatter",
         "x": [
          "2024-07-23T00:00:00",
          "2024-07-24T00:00:00"
         ],
         "y": {
          "bdata": "AAAAgD1OgUAAAAAA1+mAQA==",
          "dtype": "f8"
         }
        },
        {
         "line": {
          "color": "green",
          "width": 2
         },
         "mode": "lines",
         "name": "Current Price",
         "showlegend": false,
         "type": "scatter",
         "x": [
          "2024-07-24T00:00:00",
          "2024-07-25T00:00:00"
         ],
         "y": {
          "bdata": "AAAAANfpgEAAAACgR9OAQA==",
          "dtype": "f8"
         }
        },
        {
         "line": {
          "color": "green",
          "width": 2
         },
         "mode": "lines",
         "name": "Current Price",
         "showlegend": false,
         "type": "scatter",
         "x": [
          "2024-07-25T00:00:00",
          "2024-07-26T00:00:00"
         ],
         "y": {
          "bdata": "AAAAoEfTgEAAAAAghQOBQA==",
          "dtype": "f8"
         }
        },
        {
         "line": {
          "color": "green",
          "width": 2
         },
         "mode": "lines",
         "name": "Current Price",
         "showlegend": false,
         "type": "scatter",
         "x": [
          "2024-07-26T00:00:00",
          "2024-07-29T00:00:00"
         ],
         "y": {
          "bdata": "AAAAIIUDgUAAAACAFAaBQA==",
          "dtype": "f8"
         }
        },
        {
         "line": {
          "color": "green",
          "width": 2
         },
         "mode": "lines",
         "name": "Current Price",
         "showlegend": false,
         "type": "scatter",
         "x": [
          "2024-07-29T00:00:00",
          "2024-07-30T00:00:00"
         ],
         "y": {
          "bdata": "AAAAgBQGgUAAAAAAAPCAQA==",
          "dtype": "f8"
         }
        },
        {
         "line": {
          "color": "red",
          "width": 2
         },
         "mode": "lines",
         "name": "Current Price",
         "showlegend": false,
         "type": "scatter",
         "x": [
          "2024-07-30T00:00:00",
          "2024-07-31T00:00:00"
         ],
         "y": {
          "bdata": "AAAAAADwgEAAAADgejaBQA==",
          "dtype": "f8"
         }
        },
        {
         "line": {
          "color": "green",
          "width": 2
         },
         "mode": "lines",
         "name": "Current Price",
         "showlegend": false,
         "type": "scatter",
         "x": [
          "2024-07-31T00:00:00",
          "2024-08-01T00:00:00"
         ],
         "y": {
          "bdata": "AAAA4Ho2gUAAAACAFPiAQA==",
          "dtype": "f8"
         }
        },
        {
         "line": {
          "color": "red",
          "width": 2
         },
         "mode": "lines",
         "name": "Current Price",
         "showlegend": false,
         "type": "scatter",
         "x": [
          "2024-08-01T00:00:00",
          "2024-08-02T00:00:00"
         ],
         "y": {
          "bdata": "AAAAgBT4gEAAAABAM6eAQA==",
          "dtype": "f8"
         }
        },
        {
         "line": {
          "color": "red",
          "width": 2
         },
         "mode": "lines",
         "name": "Current Price",
         "showlegend": false,
         "type": "scatter",
         "x": [
          "2024-08-02T00:00:00",
          "2024-08-05T00:00:00"
         ],
         "y": {
          "bdata": "AAAAQDOngEAAAABACiuAQA==",
          "dtype": "f8"
         }
        },
        {
         "line": {
          "color": "red",
          "width": 2
         },
         "mode": "lines",
         "name": "Current Price",
         "showlegend": false,
         "type": "scatter",
         "x": [
          "2024-08-05T00:00:00",
          "2024-08-06T00:00:00"
         ],
         "y": {
          "bdata": "AAAAQAorgEAAAABAM1GAQA==",
          "dtype": "f8"
         }
        },
        {
         "line": {
          "color": "red",
          "width": 2
         },
         "mode": "lines",
         "name": "Current Price",
         "showlegend": false,
         "type": "scatter",
         "x": [
          "2024-08-06T00:00:00",
          "2024-08-07T00:00:00"
         ],
         "y": {
          "bdata": "AAAAQDNRgEAAAACgRzWAQA==",
          "dtype": "f8"
         }
        },
        {
         "line": {
          "color": "red",
          "width": 2
         },
         "mode": "lines",
         "name": "Current Price",
         "showlegend": false,
         "type": "scatter",
         "x": [
          "2024-08-07T00:00:00",
          "2024-08-08T00:00:00"
         ],
         "y": {
          "bdata": "AAAAoEc1gEAAAABAM5WAQA==",
          "dtype": "f8"
         }
        },
        {
         "line": {
          "color": "red",
          "width": 2
         },
         "mode": "lines",
         "name": "Current Price",
         "showlegend": false,
         "type": "scatter",
         "x": [
          "2024-08-08T00:00:00",
          "2024-08-09T00:00:00"
         ],
         "y": {
          "bdata": "AAAAQDOVgEAAAACA66eAQA==",
          "dtype": "f8"
         }
        },
        {
         "line": {
          "color": "red",
          "width": 2
         },
         "mode": "lines",
         "name": "Current Price",
         "showlegend": false,
         "type": "scatter",
         "x": [
          "2024-08-09T00:00:00",
          "2024-08-12T00:00:00"
         ],
         "y": {
          "bdata": "AAAAgOungEAAAAAAKaqAQA==",
          "dtype": "f8"
         }
        },
        {
         "line": {
          "color": "red",
          "width": 2
         },
         "mode": "lines",
         "name": "Current Price",
         "showlegend": false,
         "type": "scatter",
         "x": [
          "2024-08-12T00:00:00",
          "2024-08-13T00:00:00"
         ],
         "y": {
          "bdata": "AAAAACmqgEAAAADgUfCAQA==",
          "dtype": "f8"
         }
        },
        {
         "line": {
          "color": "red",
          "width": 2
         },
         "mode": "lines",
         "name": "Current Price",
         "showlegend": false,
         "type": "scatter",
         "x": [
          "2024-08-13T00:00:00",
          "2024-08-14T00:00:00"
         ],
         "y": {
          "bdata": "AAAA4FHwgEAAAAAAAP6AQA==",
          "dtype": "f8"
         }
        },
        {
         "line": {
          "color": "red",
          "width": 2
         },
         "mode": "lines",
         "name": "Current Price",
         "showlegend": false,
         "type": "scatter",
         "x": [
          "2024-08-14T00:00:00",
          "2024-08-15T00:00:00"
         ],
         "y": {
          "bdata": "AAAAAAD+gEAAAABgj0iBQA==",
          "dtype": "f8"
         }
        },
        {
         "line": {
          "color": "green",
          "width": 2
         },
         "mode": "lines",
         "name": "Current Price",
         "showlegend": false,
         "type": "scatter",
         "x": [
          "2024-08-15T00:00:00",
          "2024-08-16T00:00:00"
         ],
         "y": {
          "bdata": "AAAAYI9IgUAAAADgelKBQA==",
          "dtype": "f8"
         }
        },
        {
         "line": {
          "color": "green",
          "width": 2
         },
         "mode": "lines",
         "name": "Current Price",
         "showlegend": false,
         "type": "scatter",
         "x": [
          "2024-08-16T00:00:00",
          "2024-08-19T00:00:00"
         ],
         "y": {
          "bdata": "AAAA4HpSgUAAAABA4XyBQA==",
          "dtype": "f8"
         }
        },
        {
         "line": {
          "color": "green",
          "width": 2
         },
         "mode": "lines",
         "name": "Current Price",
         "showlegend": false,
         "type": "scatter",
         "x": [
          "2024-08-19T00:00:00",
          "2024-08-20T00:00:00"
         ],
         "y": {
          "bdata": "AAAAQOF8gUAAAACgmXWBQA==",
          "dtype": "f8"
         }
        },
        {
         "line": {
          "color": "green",
          "width": 2
         },
         "mode": "lines",
         "name": "Current Price",
         "showlegend": false,
         "type": "scatter",
         "x": [
          "2024-08-20T00:00:00",
          "2024-08-21T00:00:00"
         ],
         "y": {
          "bdata": "AAAAoJl1gUAAAADA9YSBQA==",
          "dtype": "f8"
         }
        },
        {
         "line": {
          "color": "green",
          "width": 2
         },
         "mode": "lines",
         "name": "Current Price",
         "showlegend": false,
         "type": "scatter",
         "x": [
          "2024-08-21T00:00:00",
          "2024-08-22T00:00:00"
         ],
         "y": {
          "bdata": "AAAAwPWEgUAAAACAwmGBQA==",
          "dtype": "f8"
         }
        },
        {
         "line": {
          "color": "red",
          "width": 2
         },
         "mode": "lines",
         "name": "Current Price",
         "showlegend": false,
         "type": "scatter",
         "x": [
          "2024-08-22T00:00:00",
          "2024-08-23T00:00:00"
         ],
         "y": {
          "bdata": "AAAAgMJhgUAAAABACpGBQA==",
          "dtype": "f8"
         }
        },
        {
         "line": {
          "color": "green",
          "width": 2
         },
         "mode": "lines",
         "name": "Current Price",
         "showlegend": false,
         "type": "scatter",
         "x": [
          "2024-08-23T00:00:00",
          "2024-08-26T00:00:00"
         ],
         "y": {
          "bdata": "AAAAQAqRgUAAAADgUYaBQA==",
          "dtype": "f8"
         }
        },
        {
         "line": {
          "color": "green",
          "width": 2
         },
         "mode": "lines",
         "name": "Current Price",
         "showlegend": false,
         "type": "scatter",
         "x": [
          "2024-08-26T00:00:00",
          "2024-08-27T00:00:00"
         ],
         "y": {
          "bdata": "AAAA4FGGgUAAAADgeoyBQA==",
          "dtype": "f8"
         }
        },
        {
         "line": {
          "color": "green",
          "width": 2
         },
         "mode": "lines",
         "name": "Current Price",
         "showlegend": false,
         "type": "scatter",
         "x": [
          "2024-08-27T00:00:00",
          "2024-08-28T00:00:00"
         ],
         "y": {
          "bdata": "AAAA4HqMgUAAAABgZnKBQA==",
          "dtype": "f8"
         }
        },
        {
         "line": {
          "color": "red",
          "width": 2
         },
         "mode": "lines",
         "name": "Current Price",
         "showlegend": false,
         "type": "scatter",
         "x": [
          "2024-08-28T00:00:00",
          "2024-08-29T00:00:00"
         ],
         "y": {
          "bdata": "AAAAYGZygUAAAADAzHKBQA==",
          "dtype": "f8"
         }
        },
        {
         "line": {
          "color": "green",
          "width": 2
         },
         "mode": "lines",
         "name": "Current Price",
         "showlegend": false,
         "type": "scatter",
         "x": [
          "2024-08-29T00:00:00",
          "2024-08-30T00:00:00"
         ],
         "y": {
          "bdata": "AAAAwMxygUAAAACgcJ2BQA==",
          "dtype": "f8"
         }
        },
        {
         "line": {
          "color": "green",
          "width": 2
         },
         "mode": "lines",
         "name": "Current Price",
         "showlegend": false,
         "type": "scatter",
         "x": [
          "2024-08-30T00:00:00",
          "2024-09-03T00:00:00"
         ],
         "y": {
          "bdata": "AAAAoHCdgUAAAADgo0CBQA==",
          "dtype": "f8"
         }
        },
        {
         "line": {
          "color": "green",
          "width": 2
         },
         "mode": "lines",
         "name": "Current Price",
         "showlegend": false,
         "type": "scatter",
         "x": [
          "2024-09-03T00:00:00",
          "2024-09-04T00:00:00"
         ],
         "y": {
          "bdata": "AAAA4KNAgUAAAACgmTeBQA==",
          "dtype": "f8"
         }
        },
        {
         "line": {
          "color": "red",
          "width": 2
         },
         "mode": "lines",
         "name": "Current Price",
         "showlegend": false,
         "type": "scatter",
         "x": [
          "2024-09-04T00:00:00",
          "2024-09-05T00:00:00"
         ],
         "y": {
          "bdata": "AAAAoJk3gUAAAABA4SyBQA==",
          "dtype": "f8"
         }
        },
        {
         "line": {
          "color": "red",
          "width": 2
         },
         "mode": "lines",
         "name": "Current Price",
         "showlegend": false,
         "type": "scatter",
         "x": [
          "2024-09-05T00:00:00",
          "2024-09-06T00:00:00"
         ],
         "y": {
          "bdata": "AAAAQOEsgUAAAABA4eKAQA==",
          "dtype": "f8"
         }
        },
        {
         "line": {
          "color": "red",
          "width": 2
         },
         "mode": "lines",
         "name": "Current Price",
         "showlegend": false,
         "type": "scatter",
         "x": [
          "2024-09-06T00:00:00",
          "2024-09-09T00:00:00"
         ],
         "y": {
          "bdata": "AAAAQOHigEAAAACgRxOBQA==",
          "dtype": "f8"
         }
        },
        {
         "line": {
          "color": "green",
          "width": 2
         },
         "mode": "lines",
         "name": "Current Price",
         "showlegend": false,
         "type": "scatter",
         "x": [
          "2024-09-09T00:00:00",
          "2024-09-10T00:00:00"
         ],
         "y": {
          "bdata": "AAAAoEcTgUAAAADgUSaBQA==",
          "dtype": "f8"
         }
        },
        {
         "line": {
          "color": "green",
          "width": 2
         },
         "mode": "lines",
         "name": "Current Price",
         "showlegend": false,
         "type": "scatter",
         "x": [
          "2024-09-10T00:00:00",
          "2024-09-11T00:00:00"
         ],
         "y": {
          "bdata": "AAAA4FEmgUAAAAAgXFOBQA==",
          "dtype": "f8"
         }
        },
        {
         "line": {
          "color": "green",
          "width": 2
         },
         "mode": "lines",
         "name": "Current Price",
         "showlegend": false,
         "type": "scatter",
         "x": [
          "2024-09-11T00:00:00",
          "2024-09-12T00:00:00"
         ],
         "y": {
          "bdata": "AAAAIFxTgUAAAABguHiBQA==",
          "dtype": "f8"
         }
        },
        {
         "line": {
          "color": "green",
          "width": 2
         },
         "mode": "lines",
         "name": "Current Price",
         "showlegend": false,
         "type": "scatter",
         "x": [
          "2024-09-12T00:00:00",
          "2024-09-13T00:00:00"
         ],
         "y": {
          "bdata": "AAAAYLh4gUAAAACAFJCBQA==",
          "dtype": "f8"
         }
        },
        {
         "line": {
          "color": "green",
          "width": 2
         },
         "mode": "lines",
         "name": "Current Price",
         "showlegend": false,
         "type": "scatter",
         "x": [
          "2024-09-13T00:00:00",
          "2024-09-16T00:00:00"
         ],
         "y": {
          "bdata": "AAAAgBSQgUAAAABguJaBQA==",
          "dtype": "f8"
         }
        },
        {
         "line": {
          "color": "green",
          "width": 2
         },
         "mode": "lines",
         "name": "Current Price",
         "showlegend": false,
         "type": "scatter",
         "x": [
          "2024-09-16T00:00:00",
          "2024-09-17T00:00:00"
         ],
         "y": {
          "bdata": "AAAAYLiWgUAAAABgj5iBQA==",
          "dtype": "f8"
         }
        },
        {
         "line": {
          "color": "green",
          "width": 2
         },
         "mode": "lines",
         "name": "Current Price",
         "showlegend": false,
         "type": "scatter",
         "x": [
          "2024-09-17T00:00:00",
          "2024-09-18T00:00:00"
         ],
         "y": {
          "bdata": "AAAAYI+YgUAAAABAM4uBQA==",
          "dtype": "f8"
         }
        },
        {
         "line": {
          "color": "green",
          "width": 2
         },
         "mode": "lines",
         "name": "Current Price",
         "showlegend": false,
         "type": "scatter",
         "x": [
          "2024-09-18T00:00:00",
          "2024-09-19T00:00:00"
         ],
         "y": {
          "bdata": "AAAAQDOLgUAAAAAA19eBQA==",
          "dtype": "f8"
         }
        },
        {
         "line": {
          "color": "green",
          "width": 2
         },
         "mode": "lines",
         "name": "Current Price",
         "showlegend": false,
         "type": "scatter",
         "x": [
          "2024-09-19T00:00:00",
          "2024-09-20T00:00:00"
         ],
         "y": {
          "bdata": "AAAAANfXgUAAAAAAAMKBQA==",
          "dtype": "f8"
         }
        },
        {
         "line": {
          "color": "green",
          "width": 2
         },
         "mode": "lines",
         "name": "Current Price",
         "showlegend": false,
         "type": "scatter",
         "x": [
          "2024-09-20T00:00:00",
          "2024-09-23T00:00:00"
         ],
         "y": {
          "bdata": "AAAAAADCgUAAAAAgXM2BQA==",
          "dtype": "f8"
         }
        },
        {
         "line": {
          "color": "green",
          "width": 2
         },
         "mode": "lines",
         "name": "Current Price",
         "showlegend": false,
         "type": "scatter",
         "x": [
          "2024-09-23T00:00:00",
          "2024-09-24T00:00:00"
         ],
         "y": {
          "bdata": "AAAAIFzNgUAAAABgZtqBQA==",
          "dtype": "f8"
         }
        },
        {
         "line": {
          "color": "green",
          "width": 2
         },
         "mode": "lines",
         "name": "Current Price",
         "showlegend": false,
         "type": "scatter",
         "x": [
          "2024-09-24T00:00:00",
          "2024-09-25T00:00:00"
         ],
         "y": {
          "bdata": "AAAAYGbagUAAAADgUdCBQA==",
          "dtype": "f8"
         }
        },
        {
         "line": {
          "color": "green",
          "width": 2
         },
         "mode": "lines",
         "name": "Current Price",
         "showlegend": false,
         "type": "scatter",
         "x": [
          "2024-09-25T00:00:00",
          "2024-09-26T00:00:00"
         ],
         "y": {
          "bdata": "AAAA4FHQgUAAAABgZuKBQA==",
          "dtype": "f8"
         }
        },
        {
         "line": {
          "color": "green",
          "width": 2
         },
         "mode": "lines",
         "name": "Current Price",
         "showlegend": false,
         "type": "scatter",
         "x": [
          "2024-09-26T00:00:00",
          "2024-09-27T00:00:00"
         ],
         "y": {
          "bdata": "AAAAYGbigUAAAACAwtuBQA==",
          "dtype": "f8"
         }
        },
        {
         "line": {
          "color": "green",
          "width": 2
         },
         "mode": "lines",
         "name": "Current Price",
         "showlegend": false,
         "type": "scatter",
         "x": [
          "2024-09-27T00:00:00",
          "2024-09-30T00:00:00"
         ],
         "y": {
          "bdata": "AAAAgMLbgUAAAACAFO6BQA==",
          "dtype": "f8"
         }
        },
        {
         "line": {
          "color": "green",
          "width": 2
         },
         "mode": "lines",
         "name": "Current Price",
         "showlegend": false,
         "type": "scatter",
         "x": [
          "2024-09-30T00:00:00",
          "2024-10-01T00:00:00"
         ],
         "y": {
          "bdata": "AAAAgBTugUAAAADA9cSBQA==",
          "dtype": "f8"
         }
        },
        {
         "line": {
          "color": "green",
          "width": 2
         },
         "mode": "lines",
         "name": "Current Price",
         "showlegend": false,
         "type": "scatter",
         "x": [
          "2024-10-01T00:00:00",
          "2024-10-02T00:00:00"
         ],
         "y": {
          "bdata": "AAAAwPXEgUAAAABA4caBQA==",
          "dtype": "f8"
         }
        },
        {
         "line": {
          "color": "green",
          "width": 2
         },
         "mode": "lines",
         "name": "Current Price",
         "showlegend": false,
         "type": "scatter",
         "x": [
          "2024-10-02T00:00:00",
          "2024-10-03T00:00:00"
         ],
         "y": {
          "bdata": "AAAAQOHGgUAAAABgj76BQA==",
          "dtype": "f8"
         }
        },
        {
         "line": {
          "color": "green",
          "width": 2
         },
         "mode": "lines",
         "name": "Current Price",
         "showlegend": false,
         "type": "scatter",
         "x": [
          "2024-10-03T00:00:00",
          "2024-10-04T00:00:00"
         ],
         "y": {
          "bdata": "AAAAYI++gUAAAAAA1+eBQA==",
          "dtype": "f8"
         }
        },
        {
         "line": {
          "color": "green",
          "width": 2
         },
         "mode": "lines",
         "name": "Current Price",
         "showlegend": false,
         "type": "scatter",
         "x": [
          "2024-10-04T00:00:00",
          "2024-10-07T00:00:00"
         ],
         "y": {
          "bdata": "AAAAANfngUAAAABgZr6BQA==",
          "dtype": "f8"
         }
        },
        {
         "line": {
          "color": "green",
          "width": 2
         },
         "mode": "lines",
         "name": "Current Price",
         "showlegend": false,
         "type": "scatter",
         "x": [
          "2024-10-07T00:00:00",
          "2024-10-08T00:00:00"
         ],
         "y": {
          "bdata": "AAAAYGa+gUAAAAAgXOmBQA==",
          "dtype": "f8"
         }
        },
        {
         "line": {
          "color": "green",
          "width": 2
         },
         "mode": "lines",
         "name": "Current Price",
         "showlegend": false,
         "type": "scatter",
         "x": [
          "2024-10-08T00:00:00",
          "2024-10-09T00:00:00"
         ],
         "y": {
          "bdata": "AAAAIFzpgUAAAADAHgmCQA==",
          "dtype": "f8"
         }
        },
        {
         "line": {
          "color": "green",
          "width": 2
         },
         "mode": "lines",
         "name": "Current Price",
         "showlegend": false,
         "type": "scatter",
         "x": [
          "2024-10-09T00:00:00",
          "2024-10-10T00:00:00"
         ],
         "y": {
          "bdata": "AAAAwB4JgkAAAABACgGCQA==",
          "dtype": "f8"
         }
        },
        {
         "line": {
          "color": "green",
          "width": 2
         },
         "mode": "lines",
         "name": "Current Price",
         "showlegend": false,
         "type": "scatter",
         "x": [
          "2024-10-10T00:00:00",
          "2024-10-11T00:00:00"
         ],
         "y": {
          "bdata": "AAAAQAoBgkAAAADgoxyCQA==",
          "dtype": "f8"
         }
        },
        {
         "line": {
          "color": "green",
          "width": 2
         },
         "mode": "lines",
         "name": "Current Price",
         "showlegend": false,
         "type": "scatter",
         "x": [
          "2024-10-11T00:00:00",
          "2024-10-14T00:00:00"
         ],
         "y": {
          "bdata": "AAAA4KMcgkAAAABgj0KCQA==",
          "dtype": "f8"
         }
        },
        {
         "line": {
          "color": "green",
          "width": 2
         },
         "mode": "lines",
         "name": "Current Price",
         "showlegend": false,
         "type": "scatter",
         "x": [
          "2024-10-14T00:00:00",
          "2024-10-15T00:00:00"
         ],
         "y": {
          "bdata": "AAAAYI9CgkAAAACAPR6CQA==",
          "dtype": "f8"
         }
        },
        {
         "line": {
          "color": "green",
          "width": 2
         },
         "mode": "lines",
         "name": "Current Price",
         "showlegend": false,
         "type": "scatter",
         "x": [
          "2024-10-15T00:00:00",
          "2024-10-16T00:00:00"
         ],
         "y": {
          "bdata": "AAAAgD0egkAAAABgZjKCQA==",
          "dtype": "f8"
         }
        },
        {
         "line": {
          "color": "green",
          "width": 2
         },
         "mode": "lines",
         "name": "Current Price",
         "showlegend": false,
         "type": "scatter",
         "x": [
          "2024-10-16T00:00:00",
          "2024-10-17T00:00:00"
         ],
         "y": {
          "bdata": "AAAAYGYygkAAAADAzDKCQA==",
          "dtype": "f8"
         }
        },
        {
         "line": {
          "color": "green",
          "width": 2
         },
         "mode": "lines",
         "name": "Current Price",
         "showlegend": false,
         "type": "scatter",
         "x": [
          "2024-10-17T00:00:00",
          "2024-10-18T00:00:00"
         ],
         "y": {
          "bdata": "AAAAwMwygkAAAABguESCQA==",
          "dtype": "f8"
         }
        },
        {
         "line": {
          "color": "green",
          "width": 2
         },
         "mode": "lines",
         "name": "Current Price",
         "showlegend": false,
         "type": "scatter",
         "x": [
          "2024-10-18T00:00:00",
          "2024-10-21T00:00:00"
         ],
         "y": {
          "bdata": "AAAAYLhEgkAAAABACj2CQA==",
          "dtype": "f8"
         }
        },
        {
         "line": {
          "color": "green",
          "width": 2
         },
         "mode": "lines",
         "name": "Current Price",
         "showlegend": false,
         "type": "scatter",
         "x": [
          "2024-10-21T00:00:00",
          "2024-10-22T00:00:00"
         ],
         "y": {
          "bdata": "AAAAQAo9gkAAAABgjzqCQA==",
          "dtype": "f8"
         }
        },
        {
         "line": {
          "color": "green",
          "width": 2
         },
         "mode": "lines",
         "name": "Current Price",
         "showlegend": false,
         "type": "scatter",
         "x": [
          "2024-10-22T00:00:00",
          "2024-10-23T00:00:00"
         ],
         "y": {
          "bdata": "AAAAYI86gkAAAACA6w+CQA==",
          "dtype": "f8"
         }
        },
        {
         "line": {
          "color": "green",
          "width": 2
         },
         "mode": "lines",
         "name": "Current Price",
         "showlegend": false,
         "type": "scatter",
         "x": [
          "2024-10-23T00:00:00",
          "2024-10-24T00:00:00"
         ],
         "y": {
          "bdata": "AAAAgOsPgkAAAACA6xmCQA==",
          "dtype": "f8"
         }
        },
        {
         "line": {
          "color": "green",
          "width": 2
         },
         "mode": "lines",
         "name": "Current Price",
         "showlegend": false,
         "type": "scatter",
         "x": [
          "2024-10-24T00:00:00",
          "2024-10-25T00:00:00"
         ],
         "y": {
          "bdata": "AAAAgOsZgkAAAADgURiCQA==",
          "dtype": "f8"
         }
        },
        {
         "line": {
          "color": "green",
          "width": 2
         },
         "mode": "lines",
         "name": "Current Price",
         "showlegend": false,
         "type": "scatter",
         "x": [
          "2024-10-25T00:00:00",
          "2024-10-28T00:00:00"
         ],
         "y": {
          "bdata": "AAAA4FEYgkAAAADgoyaCQA==",
          "dtype": "f8"
         }
        },
        {
         "line": {
          "color": "green",
          "width": 2
         },
         "mode": "lines",
         "name": "Current Price",
         "showlegend": false,
         "type": "scatter",
         "x": [
          "2024-10-28T00:00:00",
          "2024-10-29T00:00:00"
         ],
         "y": {
          "bdata": "AAAA4KMmgkAAAAAAKS6CQA==",
          "dtype": "f8"
         }
        },
        {
         "line": {
          "color": "green",
          "width": 2
         },
         "mode": "lines",
         "name": "Current Price",
         "showlegend": false,
         "type": "scatter",
         "x": [
          "2024-10-29T00:00:00",
          "2024-10-30T00:00:00"
         ],
         "y": {
          "bdata": "AAAAACkugkAAAACAFCCCQA==",
          "dtype": "f8"
         }
        },
        {
         "line": {
          "color": "green",
          "width": 2
         },
         "mode": "lines",
         "name": "Current Price",
         "showlegend": false,
         "type": "scatter",
         "x": [
          "2024-10-30T00:00:00",
          "2024-10-31T00:00:00"
         ],
         "y": {
          "bdata": "AAAAgBQggkAAAADAHsWBQA==",
          "dtype": "f8"
         }
        },
        {
         "line": {
          "color": "green",
          "width": 2
         },
         "mode": "lines",
         "name": "Current Price",
         "showlegend": false,
         "type": "scatter",
         "x": [
          "2024-10-31T00:00:00",
          "2024-11-01T00:00:00"
         ],
         "y": {
          "bdata": "AAAAwB7FgUAAAADgUdiBQA==",
          "dtype": "f8"
         }
        },
        {
         "line": {
          "color": "green",
          "width": 2
         },
         "mode": "lines",
         "name": "Current Price",
         "showlegend": false,
         "type": "scatter",
         "x": [
          "2024-11-01T00:00:00",
          "2024-11-04T00:00:00"
         ],
         "y": {
          "bdata": "AAAA4FHYgUAAAADges6BQA==",
          "dtype": "f8"
         }
        },
        {
         "line": {
          "color": "green",
          "width": 2
         },
         "mode": "lines",
         "name": "Current Price",
         "showlegend": false,
         "type": "scatter",
         "x": [
          "2024-11-04T00:00:00",
          "2024-11-05T00:00:00"
         ],
         "y": {
          "bdata": "AAAA4HrOgUAAAACgmQWCQA==",
          "dtype": "f8"
         }
        },
        {
         "line": {
          "color": "green",
          "width": 2
         },
         "mode": "lines",
         "name": "Current Price",
         "showlegend": false,
         "type": "scatter",
         "x": [
          "2024-11-05T00:00:00",
          "2024-11-06T00:00:00"
         ],
         "y": {
          "bdata": "AAAAoJkFgkAAAADgUXiCQA==",
          "dtype": "f8"
         }
        },
        {
         "line": {
          "color": "green",
          "width": 2
         },
         "mode": "lines",
         "name": "Current Price",
         "showlegend": false,
         "type": "scatter",
         "x": [
          "2024-11-06T00:00:00",
          "2024-11-07T00:00:00"
         ],
         "y": {
          "bdata": "AAAA4FF4gkAAAABA4ZyCQA==",
          "dtype": "f8"
         }
        },
        {
         "line": {
          "color": "green",
          "width": 2
         },
         "mode": "lines",
         "name": "Current Price",
         "showlegend": false,
         "type": "scatter",
         "x": [
          "2024-11-07T00:00:00",
          "2024-11-08T00:00:00"
         ],
         "y": {
          "bdata": "AAAAQOGcgkAAAAAghbGCQA==",
          "dtype": "f8"
         }
        },
        {
         "line": {
          "color": "green",
          "width": 2
         },
         "mode": "lines",
         "name": "Current Price",
         "showlegend": false,
         "type": "scatter",
         "x": [
          "2024-11-08T00:00:00",
          "2024-11-11T00:00:00"
         ],
         "y": {
          "bdata": "AAAAIIWxgkAAAACAFLaCQA==",
          "dtype": "f8"
         }
        },
        {
         "line": {
          "color": "green",
          "width": 2
         },
         "mode": "lines",
         "name": "Current Price",
         "showlegend": false,
         "type": "scatter",
         "x": [
          "2024-11-11T00:00:00",
          "2024-11-12T00:00:00"
         ],
         "y": {
          "bdata": "AAAAgBS2gkAAAABAM6eCQA==",
          "dtype": "f8"
         }
        },
        {
         "line": {
          "color": "green",
          "width": 2
         },
         "mode": "lines",
         "name": "Current Price",
         "showlegend": false,
         "type": "scatter",
         "x": [
          "2024-11-12T00:00:00",
          "2024-11-13T00:00:00"
         ],
         "y": {
          "bdata": "AAAAQDOngkAAAAAghamCQA==",
          "dtype": "f8"
         }
        },
        {
         "line": {
          "color": "green",
          "width": 2
         },
         "mode": "lines",
         "name": "Current Price",
         "showlegend": false,
         "type": "scatter",
         "x": [
          "2024-11-13T00:00:00",
          "2024-11-14T00:00:00"
         ],
         "y": {
          "bdata": "AAAAIIWpgkAAAADAzIqCQA==",
          "dtype": "f8"
         }
        },
        {
         "line": {
          "color": "green",
          "width": 2
         },
         "mode": "lines",
         "name": "Current Price",
         "showlegend": false,
         "type": "scatter",
         "x": [
          "2024-11-14T00:00:00",
          "2024-11-15T00:00:00"
         ],
         "y": {
          "bdata": "AAAAwMyKgkAAAAAAAE6CQA==",
          "dtype": "f8"
         }
        },
        {
         "line": {
          "color": "green",
          "width": 2
         },
         "mode": "lines",
         "name": "Current Price",
         "showlegend": false,
         "type": "scatter",
         "x": [
          "2024-11-15T00:00:00",
          "2024-11-18T00:00:00"
         ],
         "y": {
          "bdata": "AAAAAABOgkAAAABAM2GCQA==",
          "dtype": "f8"
         }
        },
        {
         "line": {
          "color": "green",
          "width": 2
         },
         "mode": "lines",
         "name": "Current Price",
         "showlegend": false,
         "type": "scatter",
         "x": [
          "2024-11-18T00:00:00",
          "2024-11-19T00:00:00"
         ],
         "y": {
          "bdata": "AAAAQDNhgkAAAABgZnKCQA==",
          "dtype": "f8"
         }
        },
        {
         "line": {
          "color": "green",
          "width": 2
         },
         "mode": "lines",
         "name": "Current Price",
         "showlegend": false,
         "type": "scatter",
         "x": [
          "2024-11-19T00:00:00",
          "2024-11-20T00:00:00"
         ],
         "y": {
          "bdata": "AAAAYGZygkAAAAAAAHSCQA==",
          "dtype": "f8"
         }
        },
        {
         "line": {
          "color": "green",
          "width": 2
         },
         "mode": "lines",
         "name": "Current Price",
         "showlegend": false,
         "type": "scatter",
         "x": [
          "2024-11-20T00:00:00",
          "2024-11-21T00:00:00"
         ],
         "y": {
          "bdata": "AAAAAAB0gkAAAAAgXI2CQA==",
          "dtype": "f8"
         }
        },
        {
         "line": {
          "color": "green",
          "width": 2
         },
         "mode": "lines",
         "name": "Current Price",
         "showlegend": false,
         "type": "scatter",
         "x": [
          "2024-11-21T00:00:00",
          "2024-11-22T00:00:00"
         ],
         "y": {
          "bdata": "AAAAIFyNgkAAAACAFJyCQA==",
          "dtype": "f8"
         }
        },
        {
         "line": {
          "color": "green",
          "width": 2
         },
         "mode": "lines",
         "name": "Current Price",
         "showlegend": false,
         "type": "scatter",
         "x": [
          "2024-11-22T00:00:00",
          "2024-11-25T00:00:00"
         ],
         "y": {
          "bdata": "AAAAgBScgkAAAACAPayCQA==",
          "dtype": "f8"
         }
        },
        {
         "line": {
          "color": "green",
          "width": 2
         },
         "mode": "lines",
         "name": "Current Price",
         "showlegend": false,
         "type": "scatter",
         "x": [
          "2024-11-25T00:00:00",
          "2024-11-26T00:00:00"
         ],
         "y": {
          "bdata": "AAAAgD2sgkAAAABAM8WCQA==",
          "dtype": "f8"
         }
        },
        {
         "line": {
          "color": "green",
          "width": 2
         },
         "mode": "lines",
         "name": "Current Price",
         "showlegend": false,
         "type": "scatter",
         "x": [
          "2024-11-26T00:00:00",
          "2024-11-27T00:00:00"
         ],
         "y": {
          "bdata": "AAAAQDPFgkAAAADgo7aCQA==",
          "dtype": "f8"
         }
        },
        {
         "line": {
          "color": "green",
          "width": 2
         },
         "mode": "lines",
         "name": "Current Price",
         "showlegend": false,
         "type": "scatter",
         "x": [
          "2024-11-27T00:00:00",
          "2024-11-29T00:00:00"
         ],
         "y": {
          "bdata": "AAAA4KO2gkAAAABgZtSCQA==",
          "dtype": "f8"
         }
        },
        {
         "line": {
          "color": "green",
          "width": 2
         },
         "mode": "lines",
         "name": "Current Price",
         "showlegend": false,
         "type": "scatter",
         "x": [
          "2024-11-29T00:00:00",
          "2024-12-02T00:00:00"
         ],
         "y": {
          "bdata": "AAAAYGbUgkAAAABACt2CQA==",
          "dtype": "f8"
         }
        },
        {
         "line": {
          "color": "green",
          "width": 2
         },
         "mode": "lines",
         "name": "Current Price",
         "showlegend": false,
         "type": "scatter",
         "x": [
          "2024-12-02T00:00:00",
          "2024-12-03T00:00:00"
         ],
         "y": {
          "bdata": "AAAAQArdgkAAAACgR9+CQA==",
          "dtype": "f8"
         }
        },
        {
         "line": {
          "color": "green",
          "width": 2
         },
         "mode": "lines",
         "name": "Current Price",
         "showlegend": false,
         "type": "scatter",
         "x": [
          "2024-12-03T00:00:00",
          "2024-12-04T00:00:00"
         ],
         "y": {
          "bdata": "AAAAoEffgkAAAACgR/2CQA==",
          "dtype": "f8"
         }
        },
        {
         "line": {
          "color": "green",
          "width": 2
         },
         "mode": "lines",
         "name": "Current Price",
         "showlegend": false,
         "type": "scatter",
         "x": [
          "2024-12-04T00:00:00",
          "2024-12-05T00:00:00"
         ],
         "y": {
          "bdata": "AAAAoEf9gkAAAACgR/WCQA==",
          "dtype": "f8"
         }
        },
        {
         "line": {
          "color": "green",
          "width": 2
         },
         "mode": "lines",
         "name": "Current Price",
         "showlegend": false,
         "type": "scatter",
         "x": [
          "2024-12-05T00:00:00",
          "2024-12-06T00:00:00"
         ],
         "y": {
          "bdata": "AAAAoEf1gkAAAADgev6CQA==",
          "dtype": "f8"
         }
        },
        {
         "line": {
          "color": "green",
          "width": 2
         },
         "mode": "lines",
         "name": "Current Price",
         "showlegend": false,
         "type": "scatter",
         "x": [
          "2024-12-06T00:00:00",
          "2024-12-09T00:00:00"
         ],
         "y": {
          "bdata": "AAAA4Hr+gkAAAACgcOWCQA==",
          "dtype": "f8"
         }
        },
        {
         "line": {
          "color": "green",
          "width": 2
         },
         "mode": "lines",
         "name": "Current Price",
         "showlegend": false,
         "type": "scatter",
         "x": [
          "2024-12-09T00:00:00",
          "2024-12-10T00:00:00"
         ],
         "y": {
          "bdata": "AAAAoHDlgkAAAABgZtaCQA==",
          "dtype": "f8"
         }
        },
        {
         "line": {
          "color": "green",
          "width": 2
         },
         "mode": "lines",
         "name": "Current Price",
         "showlegend": false,
         "type": "scatter",
         "x": [
          "2024-12-10T00:00:00",
          "2024-12-11T00:00:00"
         ],
         "y": {
          "bdata": "AAAAYGbWgkAAAAAgrvuCQA==",
          "dtype": "f8"
         }
        },
        {
         "line": {
          "color": "green",
          "width": 2
         },
         "mode": "lines",
         "name": "Current Price",
         "showlegend": false,
         "type": "scatter",
         "x": [
          "2024-12-11T00:00:00",
          "2024-12-12T00:00:00"
         ],
         "y": {
          "bdata": "AAAAIK77gkAAAADgo+KCQA==",
          "dtype": "f8"
         }
        },
        {
         "line": {
          "color": "green",
          "width": 2
         },
         "mode": "lines",
         "name": "Current Price",
         "showlegend": false,
         "type": "scatter",
         "x": [
          "2024-12-12T00:00:00",
          "2024-12-13T00:00:00"
         ],
         "y": {
          "bdata": "AAAA4KPigkAAAAAgruGCQA==",
          "dtype": "f8"
         }
        },
        {
         "line": {
          "color": "green",
          "width": 2
         },
         "mode": "lines",
         "name": "Current Price",
         "showlegend": false,
         "type": "scatter",
         "x": [
          "2024-12-13T00:00:00",
          "2024-12-16T00:00:00"
         ],
         "y": {
          "bdata": "AAAAIK7hgkAAAADgUfaCQA==",
          "dtype": "f8"
         }
        },
        {
         "line": {
          "color": "green",
          "width": 2
         },
         "mode": "lines",
         "name": "Current Price",
         "showlegend": false,
         "type": "scatter",
         "x": [
          "2024-12-16T00:00:00",
          "2024-12-17T00:00:00"
         ],
         "y": {
          "bdata": "AAAA4FH2gkAAAADgUeKCQA==",
          "dtype": "f8"
         }
        },
        {
         "line": {
          "color": "green",
          "width": 2
         },
         "mode": "lines",
         "name": "Current Price",
         "showlegend": false,
         "type": "scatter",
         "x": [
          "2024-12-17T00:00:00",
          "2024-12-18T00:00:00"
         ],
         "y": {
          "bdata": "AAAA4FHigkAAAACAPVKCQA==",
          "dtype": "f8"
         }
        },
        {
         "line": {
          "color": "green",
          "width": 2
         },
         "mode": "lines",
         "name": "Current Price",
         "showlegend": false,
         "type": "scatter",
         "x": [
          "2024-12-18T00:00:00",
          "2024-12-19T00:00:00"
         ],
         "y": {
          "bdata": "AAAAgD1SgkAAAADAzFCCQA==",
          "dtype": "f8"
         }
        },
        {
         "line": {
          "color": "green",
          "width": 2
         },
         "mode": "lines",
         "name": "Current Price",
         "showlegend": false,
         "type": "scatter",
         "x": [
          "2024-12-19T00:00:00",
          "2024-12-20T00:00:00"
         ],
         "y": {
          "bdata": "AAAAwMxQgkAAAABAM3mCQA==",
          "dtype": "f8"
         }
        },
        {
         "line": {
          "color": "green",
          "width": 2
         },
         "mode": "lines",
         "name": "Current Price",
         "showlegend": false,
         "type": "scatter",
         "x": [
          "2024-12-20T00:00:00",
          "2024-12-23T00:00:00"
         ],
         "y": {
          "bdata": "AAAAQDN5gkAAAAAghZWCQA==",
          "dtype": "f8"
         }
        },
        {
         "line": {
          "color": "red",
          "width": 2
         },
         "mode": "lines",
         "name": "Current Price",
         "showlegend": false,
         "type": "scatter",
         "x": [
          "2024-12-23T00:00:00",
          "2024-12-24T00:00:00"
         ],
         "y": {
          "bdata": "AAAAIIWVgkAAAABgZsqCQA==",
          "dtype": "f8"
         }
        },
        {
         "line": {
          "color": "green",
          "width": 2
         },
         "mode": "lines",
         "name": "Current Price",
         "showlegend": false,
         "type": "scatter",
         "x": [
          "2024-12-24T00:00:00",
          "2024-12-26T00:00:00"
         ],
         "y": {
          "bdata": "AAAAYGbKgkAAAABguMqCQA==",
          "dtype": "f8"
         }
        },
        {
         "line": {
          "color": "green",
          "width": 2
         },
         "mode": "lines",
         "name": "Current Price",
         "showlegend": false,
         "type": "scatter",
         "x": [
          "2024-12-26T00:00:00",
          "2024-12-27T00:00:00"
         ],
         "y": {
          "bdata": "AAAAYLjKgkAAAACAFJiCQA==",
          "dtype": "f8"
         }
        },
        {
         "line": {
          "color": "red",
          "width": 2
         },
         "mode": "lines",
         "name": "Current Price",
         "showlegend": false,
         "type": "scatter",
         "x": [
          "2024-12-27T00:00:00",
          "2024-12-30T00:00:00"
         ],
         "y": {
          "bdata": "AAAAgBSYgkAAAACAwmGCQA==",
          "dtype": "f8"
         }
        },
        {
         "line": {
          "color": "red",
          "width": 2
         },
         "mode": "lines",
         "name": "Current Price",
         "showlegend": false,
         "type": "scatter",
         "x": [
          "2024-12-30T00:00:00",
          "2024-12-31T00:00:00"
         ],
         "y": {
          "bdata": "AAAAgMJhgkAAAADgo1CCQA==",
          "dtype": "f8"
         }
        },
        {
         "line": {
          "color": "red",
          "width": 2
         },
         "mode": "lines",
         "name": "Current Price",
         "showlegend": false,
         "type": "scatter",
         "x": [
          "2024-12-31T00:00:00",
          "2025-01-02T00:00:00"
         ],
         "y": {
          "bdata": "AAAA4KNQgkAAAADAHkWCQA==",
          "dtype": "f8"
         }
        },
        {
         "line": {
          "color": "red",
          "width": 2
         },
         "mode": "lines",
         "name": "Current Price",
         "showlegend": false,
         "type": "scatter",
         "x": [
          "2025-01-02T00:00:00",
          "2025-01-03T00:00:00"
         ],
         "y": {
          "bdata": "AAAAwB5FgkAAAACgmX+CQA==",
          "dtype": "f8"
         }
        },
        {
         "line": {
          "color": "green",
          "width": 2
         },
         "mode": "lines",
         "name": "Current Price",
         "showlegend": false,
         "type": "scatter",
         "x": [
          "2025-01-03T00:00:00",
          "2025-01-06T00:00:00"
         ],
         "y": {
          "bdata": "AAAAoJl/gkAAAABA4ZqCQA==",
          "dtype": "f8"
         }
        },
        {
         "line": {
          "color": "green",
          "width": 2
         },
         "mode": "lines",
         "name": "Current Price",
         "showlegend": false,
         "type": "scatter",
         "x": [
          "2025-01-06T00:00:00",
          "2025-01-07T00:00:00"
         ],
         "y": {
          "bdata": "AAAAQOGagkAAAABACmWCQA==",
          "dtype": "f8"
         }
        },
        {
         "line": {
          "color": "red",
          "width": 2
         },
         "mode": "lines",
         "name": "Current Price",
         "showlegend": false,
         "type": "scatter",
         "x": [
          "2025-01-07T00:00:00",
          "2025-01-08T00:00:00"
         ],
         "y": {
          "bdata": "AAAAQAplgkAAAACA62uCQA==",
          "dtype": "f8"
         }
        },
        {
         "line": {
          "color": "red",
          "width": 2
         },
         "mode": "lines",
         "name": "Current Price",
         "showlegend": false,
         "type": "scatter",
         "x": [
          "2025-01-08T00:00:00",
          "2025-01-10T00:00:00"
         ],
         "y": {
          "bdata": "AAAAgOtrgkAAAACA6yOCQA==",
          "dtype": "f8"
         }
        },
        {
         "line": {
          "color": "red",
          "width": 2
         },
         "mode": "lines",
         "name": "Current Price",
         "showlegend": false,
         "type": "scatter",
         "x": [
          "2025-01-10T00:00:00",
          "2025-01-13T00:00:00"
         ],
         "y": {
          "bdata": "AAAAgOsjgkAAAADAHiuCQA==",
          "dtype": "f8"
         }
        },
        {
         "line": {
          "color": "red",
          "width": 2
         },
         "mode": "lines",
         "name": "Current Price",
         "showlegend": false,
         "type": "scatter",
         "x": [
          "2025-01-13T00:00:00",
          "2025-01-14T00:00:00"
         ],
         "y": {
          "bdata": "AAAAwB4rgkAAAAAghTGCQA==",
          "dtype": "f8"
         }
        },
        {
         "line": {
          "color": "red",
          "width": 2
         },
         "mode": "lines",
         "name": "Current Price",
         "showlegend": false,
         "type": "scatter",
         "x": [
          "2025-01-14T00:00:00",
          "2025-01-15T00:00:00"
         ],
         "y": {
          "bdata": "AAAAIIUxgkAAAACAPYaCQA==",
          "dtype": "f8"
         }
        },
        {
         "line": {
          "color": "red",
          "width": 2
         },
         "mode": "lines",
         "name": "Current Price",
         "showlegend": false,
         "type": "scatter",
         "x": [
          "2025-01-15T00:00:00",
          "2025-01-16T00:00:00"
         ],
         "y": {
          "bdata": "AAAAgD2GgkAAAADAHn2CQA==",
          "dtype": "f8"
         }
        },
        {
         "line": {
          "color": "red",
          "width": 2
         },
         "mode": "lines",
         "name": "Current Price",
         "showlegend": false,
         "type": "scatter",
         "x": [
          "2025-01-16T00:00:00",
          "2025-01-17T00:00:00"
         ],
         "y": {
          "bdata": "AAAAwB59gkAAAADgo6yCQA==",
          "dtype": "f8"
         }
        },
        {
         "line": {
          "color": "red",
          "width": 2
         },
         "mode": "lines",
         "name": "Current Price",
         "showlegend": false,
         "type": "scatter",
         "x": [
          "2025-01-17T00:00:00",
          "2025-01-21T00:00:00"
         ],
         "y": {
          "bdata": "AAAA4KOsgkAAAABgZtiCQA==",
          "dtype": "f8"
         }
        },
        {
         "line": {
          "color": "red",
          "width": 2
         },
         "mode": "lines",
         "name": "Current Price",
         "showlegend": false,
         "type": "scatter",
         "x": [
          "2025-01-21T00:00:00",
          "2025-01-22T00:00:00"
         ],
         "y": {
          "bdata": "AAAAYGbYgkAAAAAghfOCQA==",
          "dtype": "f8"
         }
        },
        {
         "line": {
          "color": "red",
          "width": 2
         },
         "mode": "lines",
         "name": "Current Price",
         "showlegend": false,
         "type": "scatter",
         "x": [
          "2025-01-22T00:00:00",
          "2025-01-23T00:00:00"
         ],
         "y": {
          "bdata": "AAAAIIXzgkAAAAAAAA6DQA==",
          "dtype": "f8"
         }
        },
        {
         "line": {
          "color": "green",
          "width": 2
         },
         "mode": "lines",
         "name": "Current Price",
         "showlegend": false,
         "type": "scatter",
         "x": [
          "2025-01-23T00:00:00",
          "2025-01-24T00:00:00"
         ],
         "y": {
          "bdata": "AAAAAAAOg0AAAACAwv+CQA==",
          "dtype": "f8"
         }
        },
        {
         "line": {
          "color": "green",
          "width": 2
         },
         "mode": "lines",
         "name": "Current Price",
         "showlegend": false,
         "type": "scatter",
         "x": [
          "2025-01-24T00:00:00",
          "2025-01-27T00:00:00"
         ],
         "y": {
          "bdata": "AAAAgML/gkAAAADA9bqCQA==",
          "dtype": "f8"
         }
        },
        {
         "line": {
          "color": "red",
          "width": 2
         },
         "mode": "lines",
         "name": "Current Price",
         "showlegend": false,
         "type": "scatter",
         "x": [
          "2025-01-27T00:00:00",
          "2025-01-28T00:00:00"
         ],
         "y": {
          "bdata": "AAAAwPW6gkAAAAAAKeSCQA==",
          "dtype": "f8"
         }
        },
        {
         "line": {
          "color": "green",
          "width": 2
         },
         "mode": "lines",
         "name": "Current Price",
         "showlegend": false,
         "type": "scatter",
         "x": [
          "2025-01-28T00:00:00",
          "2025-01-29T00:00:00"
         ],
         "y": {
          "bdata": "AAAAACnkgkAAAADges6CQA==",
          "dtype": "f8"
         }
        },
        {
         "line": {
          "color": "red",
          "width": 2
         },
         "mode": "lines",
         "name": "Current Price",
         "showlegend": false,
         "type": "scatter",
         "x": [
          "2025-01-29T00:00:00",
          "2025-01-30T00:00:00"
         ],
         "y": {
          "bdata": "AAAA4HrOgkAAAADgUeiCQA==",
          "dtype": "f8"
         }
        },
        {
         "line": {
          "color": "green",
          "width": 2
         },
         "mode": "lines",
         "name": "Current Price",
         "showlegend": false,
         "type": "scatter",
         "x": [
          "2025-01-30T00:00:00",
          "2025-01-31T00:00:00"
         ],
         "y": {
          "bdata": "AAAA4FHogkAAAABgj86CQA==",
          "dtype": "f8"
         }
        },
        {
         "line": {
          "color": "red",
          "width": 2
         },
         "mode": "lines",
         "name": "Current Price",
         "showlegend": false,
         "type": "scatter",
         "x": [
          "2025-01-31T00:00:00",
          "2025-02-03T00:00:00"
         ],
         "y": {
          "bdata": "AAAAYI/OgkAAAAAAKa6CQA==",
          "dtype": "f8"
         }
        },
        {
         "line": {
          "color": "red",
          "width": 2
         },
         "mode": "lines",
         "name": "Current Price",
         "showlegend": false,
         "type": "scatter",
         "x": [
          "2025-02-03T00:00:00",
          "2025-02-04T00:00:00"
         ],
         "y": {
          "bdata": "AAAAACmugkAAAACAPc6CQA==",
          "dtype": "f8"
         }
        },
        {
         "line": {
          "color": "red",
          "width": 2
         },
         "mode": "lines",
         "name": "Current Price",
         "showlegend": false,
         "type": "scatter",
         "x": [
          "2025-02-04T00:00:00",
          "2025-02-05T00:00:00"
         ],
         "y": {
          "bdata": "AAAAgD3OgkAAAACAwuGCQA==",
          "dtype": "f8"
         }
        },
        {
         "line": {
          "color": "green",
          "width": 2
         },
         "mode": "lines",
         "name": "Current Price",
         "showlegend": false,
         "type": "scatter",
         "x": [
          "2025-02-05T00:00:00",
          "2025-02-06T00:00:00"
         ],
         "y": {
          "bdata": "AAAAgMLhgkAAAABgj/KCQA==",
          "dtype": "f8"
         }
        },
        {
         "line": {
          "color": "green",
          "width": 2
         },
         "mode": "lines",
         "name": "Current Price",
         "showlegend": false,
         "type": "scatter",
         "x": [
          "2025-02-06T00:00:00",
          "2025-02-07T00:00:00"
         ],
         "y": {
          "bdata": "AAAAYI/ygkAAAAAAKcaCQA==",
          "dtype": "f8"
         }
        },
        {
         "line": {
          "color": "green",
          "width": 2
         },
         "mode": "lines",
         "name": "Current Price",
         "showlegend": false,
         "type": "scatter",
         "x": [
          "2025-02-07T00:00:00",
          "2025-02-10T00:00:00"
         ],
         "y": {
          "bdata": "AAAAACnGgkAAAADAzOaCQA==",
          "dtype": "f8"
         }
        },
        {
         "line": {
          "color": "green",
          "width": 2
         },
         "mode": "lines",
         "name": "Current Price",
         "showlegend": false,
         "type": "scatter",
         "x": [
          "2025-02-10T00:00:00",
          "2025-02-11T00:00:00"
         ],
         "y": {
          "bdata": "AAAAwMzmgkAAAADgeuqCQA==",
          "dtype": "f8"
         }
        },
        {
         "line": {
          "color": "green",
          "width": 2
         },
         "mode": "lines",
         "name": "Current Price",
         "showlegend": false,
         "type": "scatter",
         "x": [
          "2025-02-11T00:00:00",
          "2025-02-12T00:00:00"
         ],
         "y": {
          "bdata": "AAAA4HrqgkAAAABA4dqCQA==",
          "dtype": "f8"
         }
        },
        {
         "line": {
          "color": "green",
          "width": 2
         },
         "mode": "lines",
         "name": "Current Price",
         "showlegend": false,
         "type": "scatter",
         "x": [
          "2025-02-12T00:00:00",
          "2025-02-13T00:00:00"
         ],
         "y": {
          "bdata": "AAAAQOHagkAAAAAA1w2DQA==",
          "dtype": "f8"
         }
        },
        {
         "line": {
          "color": "green",
          "width": 2
         },
         "mode": "lines",
         "name": "Current Price",
         "showlegend": false,
         "type": "scatter",
         "x": [
          "2025-02-13T00:00:00",
          "2025-02-14T00:00:00"
         ],
         "y": {
          "bdata": "AAAAANcNg0AAAACgmQ2DQA==",
          "dtype": "f8"
         }
        },
        {
         "line": {
          "color": "green",
          "width": 2
         },
         "mode": "lines",
         "name": "Current Price",
         "showlegend": false,
         "type": "scatter",
         "x": [
          "2025-02-14T00:00:00",
          "2025-02-18T00:00:00"
         ],
         "y": {
          "bdata": "AAAAoJkNg0AAAACA6xuDQA==",
          "dtype": "f8"
         }
        },
        {
         "line": {
          "color": "green",
          "width": 2
         },
         "mode": "lines",
         "name": "Current Price",
         "showlegend": false,
         "type": "scatter",
         "x": [
          "2025-02-18T00:00:00",
          "2025-02-19T00:00:00"
         ],
         "y": {
          "bdata": "AAAAgOsbg0AAAACgcCeDQA==",
          "dtype": "f8"
         }
        },
        {
         "line": {
          "color": "green",
          "width": 2
         },
         "mode": "lines",
         "name": "Current Price",
         "showlegend": false,
         "type": "scatter",
         "x": [
          "2025-02-19T00:00:00",
          "2025-02-20T00:00:00"
         ],
         "y": {
          "bdata": "AAAAoHAng0AAAABAChODQA==",
          "dtype": "f8"
         }
        },
        {
         "line": {
          "color": "green",
          "width": 2
         },
         "mode": "lines",
         "name": "Current Price",
         "showlegend": false,
         "type": "scatter",
         "x": [
          "2025-02-20T00:00:00",
          "2025-02-21T00:00:00"
         ],
         "y": {
          "bdata": "AAAAQAoTg0AAAAAghb+CQA==",
          "dtype": "f8"
         }
        },
        {
         "line": {
          "color": "green",
          "width": 2
         },
         "mode": "lines",
         "name": "Current Price",
         "showlegend": false,
         "type": "scatter",
         "x": [
          "2025-02-21T00:00:00",
          "2025-02-24T00:00:00"
         ],
         "y": {
          "bdata": "AAAAIIW/gkAAAAAgrqmCQA==",
          "dtype": "f8"
         }
        },
        {
         "line": {
          "color": "green",
          "width": 2
         },
         "mode": "lines",
         "name": "Current Price",
         "showlegend": false,
         "type": "scatter",
         "x": [
          "2025-02-24T00:00:00",
          "2025-02-25T00:00:00"
         ],
         "y": {
          "bdata": "AAAAIK6pgkAAAACA65GCQA==",
          "dtype": "f8"
         }
        },
        {
         "line": {
          "color": "green",
          "width": 2
         },
         "mode": "lines",
         "name": "Current Price",
         "showlegend": false,
         "type": "scatter",
         "x": [
          "2025-02-25T00:00:00",
          "2025-02-26T00:00:00"
         ],
         "y": {
          "bdata": "AAAAgOuRgkAAAADgUZSCQA==",
          "dtype": "f8"
         }
        },
        {
         "line": {
          "color": "green",
          "width": 2
         },
         "mode": "lines",
         "name": "Current Price",
         "showlegend": false,
         "type": "scatter",
         "x": [
          "2025-02-26T00:00:00",
          "2025-02-27T00:00:00"
         ],
         "y": {
          "bdata": "AAAA4FGUgkAAAABgZkiCQA==",
          "dtype": "f8"
         }
        },
        {
         "line": {
          "color": "green",
          "width": 2
         },
         "mode": "lines",
         "name": "Current Price",
         "showlegend": false,
         "type": "scatter",
         "x": [
          "2025-02-27T00:00:00",
          "2025-02-28T00:00:00"
         ],
         "y": {
          "bdata": "AAAAYGZIgkAAAACgcJGCQA==",
          "dtype": "f8"
         }
        },
        {
         "line": {
          "color": "green",
          "width": 2
         },
         "mode": "lines",
         "name": "Current Price",
         "showlegend": false,
         "type": "scatter",
         "x": [
          "2025-02-28T00:00:00",
          "2025-03-03T00:00:00"
         ],
         "y": {
          "bdata": "AAAAoHCRgkAAAAAAKT6CQA==",
          "dtype": "f8"
         }
        },
        {
         "line": {
          "color": "red",
          "width": 2
         },
         "mode": "lines",
         "name": "Current Price",
         "showlegend": false,
         "type": "scatter",
         "x": [
          "2025-03-03T00:00:00",
          "2025-03-04T00:00:00"
         ],
         "y": {
          "bdata": "AAAAACk+gkAAAABA4QaCQA==",
          "dtype": "f8"
         }
        },
        {
         "line": {
          "color": "red",
          "width": 2
         },
         "mode": "lines",
         "name": "Current Price",
         "showlegend": false,
         "type": "scatter",
         "x": [
          "2025-03-04T00:00:00",
          "2025-03-05T00:00:00"
         ],
         "y": {
          "bdata": "AAAAQOEGgkAAAADgejiCQA==",
          "dtype": "f8"
         }
        },
        {
         "line": {
          "color": "red",
          "width": 2
         },
         "mode": "lines",
         "name": "Current Price",
         "showlegend": false,
         "type": "scatter",
         "x": [
          "2025-03-05T00:00:00",
          "2025-03-06T00:00:00"
         ],
         "y": {
          "bdata": "AAAA4Ho4gkAAAAAgruWBQA==",
          "dtype": "f8"
         }
        },
        {
         "line": {
          "color": "red",
          "width": 2
         },
         "mode": "lines",
         "name": "Current Price",
         "showlegend": false,
         "type": "scatter",
         "x": [
          "2025-03-06T00:00:00",
          "2025-03-07T00:00:00"
         ],
         "y": {
          "bdata": "AAAAIK7lgUAAAAAgXP+BQA==",
          "dtype": "f8"
         }
        },
        {
         "line": {
          "color": "red",
          "width": 2
         },
         "mode": "lines",
         "name": "Current Price",
         "showlegend": false,
         "type": "scatter",
         "x": [
          "2025-03-07T00:00:00",
          "2025-03-10T00:00:00"
         ],
         "y": {
          "bdata": "AAAAIFz/gUAAAADgo4SBQA==",
          "dtype": "f8"
         }
        },
        {
         "line": {
          "color": "red",
          "width": 2
         },
         "mode": "lines",
         "name": "Current Price",
         "showlegend": false,
         "type": "scatter",
         "x": [
          "2025-03-10T00:00:00",
          "2025-03-11T00:00:00"
         ],
         "y": {
          "bdata": "AAAA4KOEgUAAAAAgXF+BQA==",
          "dtype": "f8"
         }
        },
        {
         "line": {
          "color": "red",
          "width": 2
         },
         "mode": "lines",
         "name": "Current Price",
         "showlegend": false,
         "type": "scatter",
         "x": [
          "2025-03-11T00:00:00",
          "2025-03-12T00:00:00"
         ],
         "y": {
          "bdata": "AAAAIFxfgUAAAADA9XaBQA==",
          "dtype": "f8"
         }
        },
        {
         "line": {
          "color": "red",
          "width": 2
         },
         "mode": "lines",
         "name": "Current Price",
         "showlegend": false,
         "type": "scatter",
         "x": [
          "2025-03-12T00:00:00",
          "2025-03-13T00:00:00"
         ],
         "y": {
          "bdata": "AAAAwPV2gUAAAAAgXDuBQA==",
          "dtype": "f8"
         }
        },
        {
         "line": {
          "color": "red",
          "width": 2
         },
         "mode": "lines",
         "name": "Current Price",
         "showlegend": false,
         "type": "scatter",
         "x": [
          "2025-03-13T00:00:00",
          "2025-03-14T00:00:00"
         ],
         "y": {
          "bdata": "AAAAIFw7gUAAAADgepaBQA==",
          "dtype": "f8"
         }
        },
        {
         "line": {
          "color": "red",
          "width": 2
         },
         "mode": "lines",
         "name": "Current Price",
         "showlegend": false,
         "type": "scatter",
         "x": [
          "2025-03-14T00:00:00",
          "2025-03-17T00:00:00"
         ],
         "y": {
          "bdata": "AAAA4HqWgUAAAABAM7mBQA==",
          "dtype": "f8"
         }
        },
        {
         "line": {
          "color": "red",
          "width": 2
         },
         "mode": "lines",
         "name": "Current Price",
         "showlegend": false,
         "type": "scatter",
         "x": [
          "2025-03-17T00:00:00",
          "2025-03-18T00:00:00"
         ],
         "y": {
          "bdata": "AAAAQDO5gUAAAAAAKYiBQA==",
          "dtype": "f8"
         }
        },
        {
         "line": {
          "color": "red",
          "width": 2
         },
         "mode": "lines",
         "name": "Current Price",
         "showlegend": false,
         "type": "scatter",
         "x": [
          "2025-03-18T00:00:00",
          "2025-03-19T00:00:00"
         ],
         "y": {
          "bdata": "AAAAACmIgUAAAABACrmBQA==",
          "dtype": "f8"
         }
        },
        {
         "line": {
          "color": "red",
          "width": 2
         },
         "mode": "lines",
         "name": "Current Price",
         "showlegend": false,
         "type": "scatter",
         "x": [
          "2025-03-19T00:00:00",
          "2025-03-20T00:00:00"
         ],
         "y": {
          "bdata": "AAAAQAq5gUAAAACA66uBQA==",
          "dtype": "f8"
         }
        },
        {
         "line": {
          "color": "red",
          "width": 2
         },
         "mode": "lines",
         "name": "Current Price",
         "showlegend": false,
         "type": "scatter",
         "x": [
          "2025-03-20T00:00:00",
          "2025-03-21T00:00:00"
         ],
         "y": {
          "bdata": "AAAAgOurgUAAAAAA15+BQA==",
          "dtype": "f8"
         }
        },
        {
         "line": {
          "color": "red",
          "width": 2
         },
         "mode": "lines",
         "name": "Current Price",
         "showlegend": false,
         "type": "scatter",
         "x": [
          "2025-03-21T00:00:00",
          "2025-03-24T00:00:00"
         ],
         "y": {
          "bdata": "AAAAANefgUAAAADgo/CBQA==",
          "dtype": "f8"
         }
        },
        {
         "line": {
          "color": "red",
          "width": 2
         },
         "mode": "lines",
         "name": "Current Price",
         "showlegend": false,
         "type": "scatter",
         "x": [
          "2025-03-24T00:00:00",
          "2025-03-25T00:00:00"
         ],
         "y": {
          "bdata": "AAAA4KPwgUAAAAAgrvuBQA==",
          "dtype": "f8"
         }
        },
        {
         "line": {
          "color": "red",
          "width": 2
         },
         "mode": "lines",
         "name": "Current Price",
         "showlegend": false,
         "type": "scatter",
         "x": [
          "2025-03-25T00:00:00",
          "2025-03-26T00:00:00"
         ],
         "y": {
          "bdata": "AAAAIK77gUAAAABguMSBQA==",
          "dtype": "f8"
         }
        },
        {
         "line": {
          "color": "red",
          "width": 2
         },
         "mode": "lines",
         "name": "Current Price",
         "showlegend": false,
         "type": "scatter",
         "x": [
          "2025-03-26T00:00:00",
          "2025-03-27T00:00:00"
         ],
         "y": {
          "bdata": "AAAAYLjEgUAAAADgo7iBQA==",
          "dtype": "f8"
         }
        },
        {
         "line": {
          "color": "red",
          "width": 2
         },
         "mode": "lines",
         "name": "Current Price",
         "showlegend": false,
         "type": "scatter",
         "x": [
          "2025-03-27T00:00:00",
          "2025-03-28T00:00:00"
         ],
         "y": {
          "bdata": "AAAA4KO4gUAAAACgR12BQA==",
          "dtype": "f8"
         }
        },
        {
         "line": {
          "color": "red",
          "width": 2
         },
         "mode": "lines",
         "name": "Current Price",
         "showlegend": false,
         "type": "scatter",
         "x": [
          "2025-03-28T00:00:00",
          "2025-03-31T00:00:00"
         ],
         "y": {
          "bdata": "AAAAoEddgUAAAADAHnuBQA==",
          "dtype": "f8"
         }
        },
        {
         "line": {
          "color": "red",
          "width": 2
         },
         "mode": "lines",
         "name": "Current Price",
         "showlegend": false,
         "type": "scatter",
         "x": [
          "2025-03-31T00:00:00",
          "2025-04-01T00:00:00"
         ],
         "y": {
          "bdata": "AAAAwB57gUAAAACAwoeBQA==",
          "dtype": "f8"
         }
        },
        {
         "line": {
          "color": "red",
          "width": 2
         },
         "mode": "lines",
         "name": "Current Price",
         "showlegend": false,
         "type": "scatter",
         "x": [
          "2025-04-01T00:00:00",
          "2025-04-02T00:00:00"
         ],
         "y": {
          "bdata": "AAAAgMKHgUAAAAAAKaSBQA==",
          "dtype": "f8"
         }
        },
        {
         "line": {
          "color": "red",
          "width": 2
         },
         "mode": "lines",
         "name": "Current Price",
         "showlegend": false,
         "type": "scatter",
         "x": [
          "2025-04-02T00:00:00",
          "2025-04-03T00:00:00"
         ],
         "y": {
          "bdata": "AAAAACmkgUAAAACgmcWAQA==",
          "dtype": "f8"
         }
        },
        {
         "line": {
          "color": "red",
          "width": 2
         },
         "mode": "lines",
         "name": "Current Price",
         "showlegend": false,
         "type": "scatter",
         "x": [
          "2025-04-03T00:00:00",
          "2025-04-04T00:00:00"
         ],
         "y": {
          "bdata": "AAAAoJnFgEAAAADgepR/QA==",
          "dtype": "f8"
         }
        },
        {
         "line": {
          "color": "red",
          "width": 2
         },
         "mode": "lines",
         "name": "Current Price",
         "showlegend": false,
         "type": "scatter",
         "x": [
          "2025-04-04T00:00:00",
          "2025-04-07T00:00:00"
         ],
         "y": {
          "bdata": "AAAA4HqUf0AAAACAFIZ/QA==",
          "dtype": "f8"
         }
        },
        {
         "line": {
          "color": "red",
          "width": 2
         },
         "mode": "lines",
         "name": "Current Price",
         "showlegend": false,
         "type": "scatter",
         "x": [
          "2025-04-07T00:00:00",
          "2025-04-08T00:00:00"
         ],
         "y": {
          "bdata": "AAAAgBSGf0AAAAAgrgd/QA==",
          "dtype": "f8"
         }
        },
        {
         "line": {
          "color": "red",
          "width": 2
         },
         "mode": "lines",
         "name": "Current Price",
         "showlegend": false,
         "type": "scatter",
         "x": [
          "2025-04-08T00:00:00",
          "2025-04-09T00:00:00"
         ],
         "y": {
          "bdata": "AAAAIK4Hf0AAAADA9SSBQA==",
          "dtype": "f8"
         }
        },
        {
         "line": {
          "color": "red",
          "width": 2
         },
         "mode": "lines",
         "name": "Current Price",
         "showlegend": false,
         "type": "scatter",
         "x": [
          "2025-04-09T00:00:00",
          "2025-04-10T00:00:00"
         ],
         "y": {
          "bdata": "AAAAwPUkgUAAAADgo2SAQA==",
          "dtype": "f8"
         }
        },
        {
         "line": {
          "color": "red",
          "width": 2
         },
         "mode": "lines",
         "name": "Current Price",
         "showlegend": false,
         "type": "scatter",
         "x": [
          "2025-04-10T00:00:00",
          "2025-04-11T00:00:00"
         ],
         "y": {
          "bdata": "AAAA4KNkgEAAAAAgha+AQA==",
          "dtype": "f8"
         }
        },
        {
         "line": {
          "color": "red",
          "width": 2
         },
         "mode": "lines",
         "name": "Current Price",
         "showlegend": false,
         "type": "scatter",
         "x": [
          "2025-04-11T00:00:00",
          "2025-04-14T00:00:00"
         ],
         "y": {
          "bdata": "AAAAIIWvgEAAAADA9diAQA==",
          "dtype": "f8"
         }
        },
        {
         "line": {
          "color": "purple",
          "width": 2
         },
         "name": "Shifted Price",
         "type": "scatter",
         "x": [
          "2024-05-29T00:00:00",
          "2024-05-30T00:00:00",
          "2024-05-31T00:00:00",
          "2024-06-03T00:00:00",
          "2024-06-04T00:00:00",
          "2024-06-05T00:00:00",
          "2024-06-06T00:00:00",
          "2024-06-07T00:00:00",
          "2024-06-10T00:00:00",
          "2024-06-11T00:00:00",
          "2024-06-12T00:00:00",
          "2024-06-13T00:00:00",
          "2024-06-14T00:00:00",
          "2024-06-17T00:00:00",
          "2024-06-18T00:00:00",
          "2024-06-20T00:00:00",
          "2024-06-21T00:00:00",
          "2024-06-24T00:00:00",
          "2024-06-25T00:00:00",
          "2024-06-26T00:00:00",
          "2024-06-27T00:00:00",
          "2024-06-28T00:00:00",
          "2024-07-01T00:00:00",
          "2024-07-02T00:00:00",
          "2024-07-03T00:00:00",
          "2024-07-05T00:00:00",
          "2024-07-08T00:00:00",
          "2024-07-09T00:00:00",
          "2024-07-10T00:00:00",
          "2024-07-11T00:00:00",
          "2024-07-12T00:00:00",
          "2024-07-15T00:00:00",
          "2024-07-16T00:00:00",
          "2024-07-17T00:00:00",
          "2024-07-18T00:00:00",
          "2024-07-19T00:00:00",
          "2024-07-22T00:00:00",
          "2024-07-23T00:00:00",
          "2024-07-24T00:00:00",
          "2024-07-25T00:00:00",
          "2024-07-26T00:00:00",
          "2024-07-29T00:00:00",
          "2024-07-30T00:00:00",
          "2024-07-31T00:00:00",
          "2024-08-01T00:00:00",
          "2024-08-02T00:00:00",
          "2024-08-05T00:00:00",
          "2024-08-06T00:00:00",
          "2024-08-07T00:00:00",
          "2024-08-08T00:00:00",
          "2024-08-09T00:00:00",
          "2024-08-12T00:00:00",
          "2024-08-13T00:00:00",
          "2024-08-14T00:00:00",
          "2024-08-15T00:00:00",
          "2024-08-16T00:00:00",
          "2024-08-19T00:00:00",
          "2024-08-20T00:00:00",
          "2024-08-21T00:00:00",
          "2024-08-22T00:00:00",
          "2024-08-23T00:00:00",
          "2024-08-26T00:00:00",
          "2024-08-27T00:00:00",
          "2024-08-28T00:00:00",
          "2024-08-29T00:00:00",
          "2024-08-30T00:00:00",
          "2024-09-03T00:00:00",
          "2024-09-04T00:00:00",
          "2024-09-05T00:00:00",
          "2024-09-06T00:00:00",
          "2024-09-09T00:00:00",
          "2024-09-10T00:00:00",
          "2024-09-11T00:00:00",
          "2024-09-12T00:00:00",
          "2024-09-13T00:00:00",
          "2024-09-16T00:00:00",
          "2024-09-17T00:00:00",
          "2024-09-18T00:00:00",
          "2024-09-19T00:00:00",
          "2024-09-20T00:00:00",
          "2024-09-23T00:00:00",
          "2024-09-24T00:00:00",
          "2024-09-25T00:00:00",
          "2024-09-26T00:00:00",
          "2024-09-27T00:00:00",
          "2024-09-30T00:00:00",
          "2024-10-01T00:00:00",
          "2024-10-02T00:00:00",
          "2024-10-03T00:00:00",
          "2024-10-04T00:00:00",
          "2024-10-07T00:00:00",
          "2024-10-08T00:00:00",
          "2024-10-09T00:00:00",
          "2024-10-10T00:00:00",
          "2024-10-11T00:00:00",
          "2024-10-14T00:00:00",
          "2024-10-15T00:00:00",
          "2024-10-16T00:00:00",
          "2024-10-17T00:00:00",
          "2024-10-18T00:00:00",
          "2024-10-21T00:00:00",
          "2024-10-22T00:00:00",
          "2024-10-23T00:00:00",
          "2024-10-24T00:00:00",
          "2024-10-25T00:00:00",
          "2024-10-28T00:00:00",
          "2024-10-29T00:00:00",
          "2024-10-30T00:00:00",
          "2024-10-31T00:00:00",
          "2024-11-01T00:00:00",
          "2024-11-04T00:00:00",
          "2024-11-05T00:00:00",
          "2024-11-06T00:00:00",
          "2024-11-07T00:00:00",
          "2024-11-08T00:00:00",
          "2024-11-11T00:00:00",
          "2024-11-12T00:00:00",
          "2024-11-13T00:00:00",
          "2024-11-14T00:00:00",
          "2024-11-15T00:00:00",
          "2024-11-18T00:00:00",
          "2024-11-19T00:00:00",
          "2024-11-20T00:00:00",
          "2024-11-21T00:00:00",
          "2024-11-22T00:00:00",
          "2024-11-25T00:00:00",
          "2024-11-26T00:00:00",
          "2024-11-27T00:00:00",
          "2024-11-29T00:00:00",
          "2024-12-02T00:00:00",
          "2024-12-03T00:00:00",
          "2024-12-04T00:00:00",
          "2024-12-05T00:00:00",
          "2024-12-06T00:00:00",
          "2024-12-09T00:00:00",
          "2024-12-10T00:00:00",
          "2024-12-11T00:00:00",
          "2024-12-12T00:00:00",
          "2024-12-13T00:00:00",
          "2024-12-16T00:00:00",
          "2024-12-17T00:00:00",
          "2024-12-18T00:00:00",
          "2024-12-19T00:00:00",
          "2024-12-20T00:00:00",
          "2024-12-23T00:00:00",
          "2024-12-24T00:00:00",
          "2024-12-26T00:00:00",
          "2024-12-27T00:00:00",
          "2024-12-30T00:00:00",
          "2024-12-31T00:00:00",
          "2025-01-02T00:00:00",
          "2025-01-03T00:00:00",
          "2025-01-06T00:00:00",
          "2025-01-07T00:00:00",
          "2025-01-08T00:00:00",
          "2025-01-10T00:00:00",
          "2025-01-13T00:00:00",
          "2025-01-14T00:00:00",
          "2025-01-15T00:00:00",
          "2025-01-16T00:00:00",
          "2025-01-17T00:00:00",
          "2025-01-21T00:00:00",
          "2025-01-22T00:00:00",
          "2025-01-23T00:00:00",
          "2025-01-24T00:00:00",
          "2025-01-27T00:00:00",
          "2025-01-28T00:00:00",
          "2025-01-29T00:00:00",
          "2025-01-30T00:00:00",
          "2025-01-31T00:00:00",
          "2025-02-03T00:00:00",
          "2025-02-04T00:00:00",
          "2025-02-05T00:00:00",
          "2025-02-06T00:00:00",
          "2025-02-07T00:00:00",
          "2025-02-10T00:00:00",
          "2025-02-11T00:00:00",
          "2025-02-12T00:00:00",
          "2025-02-13T00:00:00",
          "2025-02-14T00:00:00",
          "2025-02-18T00:00:00",
          "2025-02-19T00:00:00",
          "2025-02-20T00:00:00",
          "2025-02-21T00:00:00",
          "2025-02-24T00:00:00",
          "2025-02-25T00:00:00",
          "2025-02-26T00:00:00",
          "2025-02-27T00:00:00",
          "2025-02-28T00:00:00",
          "2025-03-03T00:00:00",
          "2025-03-04T00:00:00",
          "2025-03-05T00:00:00",
          "2025-03-06T00:00:00",
          "2025-03-07T00:00:00",
          "2025-03-10T00:00:00",
          "2025-03-11T00:00:00",
          "2025-03-12T00:00:00",
          "2025-03-13T00:00:00",
          "2025-03-14T00:00:00",
          "2025-03-17T00:00:00",
          "2025-03-18T00:00:00",
          "2025-03-19T00:00:00",
          "2025-03-20T00:00:00",
          "2025-03-21T00:00:00",
          "2025-03-24T00:00:00",
          "2025-03-25T00:00:00",
          "2025-03-26T00:00:00",
          "2025-03-27T00:00:00",
          "2025-03-28T00:00:00",
          "2025-03-31T00:00:00",
          "2025-04-01T00:00:00",
          "2025-04-02T00:00:00",
          "2025-04-03T00:00:00",
          "2025-04-04T00:00:00",
          "2025-04-07T00:00:00",
          "2025-04-08T00:00:00",
          "2025-04-09T00:00:00",
          "2025-04-10T00:00:00",
          "2025-04-11T00:00:00",
          "2025-04-14T00:00:00"
         ],
         "y": {
          "bdata": "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",
          "dtype": "f8"
         }
        }
       ],
       "layout": {
        "template": {
         "data": {
          "bar": [
           {
            "error_x": {
             "color": "#f2f5fa"
            },
            "error_y": {
             "color": "#f2f5fa"
            },
            "marker": {
             "line": {
              "color": "rgb(17,17,17)",
              "width": 0.5
             },
             "pattern": {
              "fillmode": "overlay",
              "size": 10,
              "solidity": 0.2
             }
            },
            "type": "bar"
           }
          ],
          "barpolar": [
           {
            "marker": {
             "line": {
              "color": "rgb(17,17,17)",
              "width": 0.5
             },
             "pattern": {
              "fillmode": "overlay",
              "size": 10,
              "solidity": 0.2
             }
            },
            "type": "barpolar"
           }
          ],
          "carpet": [
           {
            "aaxis": {
             "endlinecolor": "#A2B1C6",
             "gridcolor": "#506784",
             "linecolor": "#506784",
             "minorgridcolor": "#506784",
             "startlinecolor": "#A2B1C6"
            },
            "baxis": {
             "endlinecolor": "#A2B1C6",
             "gridcolor": "#506784",
             "linecolor": "#506784",
             "minorgridcolor": "#506784",
             "startlinecolor": "#A2B1C6"
            },
            "type": "carpet"
           }
          ],
          "choropleth": [
           {
            "colorbar": {
             "outlinewidth": 0,
             "ticks": ""
            },
            "type": "choropleth"
           }
          ],
          "contour": [
           {
            "colorbar": {
             "outlinewidth": 0,
             "ticks": ""
            },
            "colorscale": [
             [
              0,
              "#0d0887"
             ],
             [
              0.1111111111111111,
              "#46039f"
             ],
             [
              0.2222222222222222,
              "#7201a8"
             ],
             [
              0.3333333333333333,
              "#9c179e"
             ],
             [
              0.4444444444444444,
              "#bd3786"
             ],
             [
              0.5555555555555556,
              "#d8576b"
             ],
             [
              0.6666666666666666,
              "#ed7953"
             ],
             [
              0.7777777777777778,
              "#fb9f3a"
             ],
             [
              0.8888888888888888,
              "#fdca26"
             ],
             [
              1,
              "#f0f921"
             ]
            ],
            "type": "contour"
           }
          ],
          "contourcarpet": [
           {
            "colorbar": {
             "outlinewidth": 0,
             "ticks": ""
            },
            "type": "contourcarpet"
           }
          ],
          "heatmap": [
           {
            "colorbar": {
             "outlinewidth": 0,
             "ticks": ""
            },
            "colorscale": [
             [
              0,
              "#0d0887"
             ],
             [
              0.1111111111111111,
              "#46039f"
             ],
             [
              0.2222222222222222,
              "#7201a8"
             ],
             [
              0.3333333333333333,
              "#9c179e"
             ],
             [
              0.4444444444444444,
              "#bd3786"
             ],
             [
              0.5555555555555556,
              "#d8576b"
             ],
             [
              0.6666666666666666,
              "#ed7953"
             ],
             [
              0.7777777777777778,
              "#fb9f3a"
             ],
             [
              0.8888888888888888,
              "#fdca26"
             ],
             [
              1,
              "#f0f921"
             ]
            ],
            "type": "heatmap"
           }
          ],
          "histogram": [
           {
            "marker": {
             "pattern": {
              "fillmode": "overlay",
              "size": 10,
              "solidity": 0.2
             }
            },
            "type": "histogram"
           }
          ],
          "histogram2d": [
           {
            "colorbar": {
             "outlinewidth": 0,
             "ticks": ""
            },
            "colorscale": [
             [
              0,
              "#0d0887"
             ],
             [
              0.1111111111111111,
              "#46039f"
             ],
             [
              0.2222222222222222,
              "#7201a8"
             ],
             [
              0.3333333333333333,
              "#9c179e"
             ],
             [
              0.4444444444444444,
              "#bd3786"
             ],
             [
              0.5555555555555556,
              "#d8576b"
             ],
             [
              0.6666666666666666,
              "#ed7953"
             ],
             [
              0.7777777777777778,
              "#fb9f3a"
             ],
             [
              0.8888888888888888,
              "#fdca26"
             ],
             [
              1,
              "#f0f921"
             ]
            ],
            "type": "histogram2d"
           }
          ],
          "histogram2dcontour": [
           {
            "colorbar": {
             "outlinewidth": 0,
             "ticks": ""
            },
            "colorscale": [
             [
              0,
              "#0d0887"
             ],
             [
              0.1111111111111111,
              "#46039f"
             ],
             [
              0.2222222222222222,
              "#7201a8"
             ],
             [
              0.3333333333333333,
              "#9c179e"
             ],
             [
              0.4444444444444444,
              "#bd3786"
             ],
             [
              0.5555555555555556,
              "#d8576b"
             ],
             [
              0.6666666666666666,
              "#ed7953"
             ],
             [
              0.7777777777777778,
              "#fb9f3a"
             ],
             [
              0.8888888888888888,
              "#fdca26"
             ],
             [
              1,
              "#f0f921"
             ]
            ],
            "type": "histogram2dcontour"
           }
          ],
          "mesh3d": [
           {
            "colorbar": {
             "outlinewidth": 0,
             "ticks": ""
            },
            "type": "mesh3d"
           }
          ],
          "parcoords": [
           {
            "line": {
             "colorbar": {
              "outlinewidth": 0,
              "ticks": ""
             }
            },
            "type": "parcoords"
           }
          ],
          "pie": [
           {
            "automargin": true,
            "type": "pie"
           }
          ],
          "scatter": [
           {
            "marker": {
             "line": {
              "color": "#283442"
             }
            },
            "type": "scatter"
           }
          ],
          "scatter3d": [
           {
            "line": {
             "colorbar": {
              "outlinewidth": 0,
              "ticks": ""
             }
            },
            "marker": {
             "colorbar": {
              "outlinewidth": 0,
              "ticks": ""
             }
            },
            "type": "scatter3d"
           }
          ],
          "scattercarpet": [
           {
            "marker": {
             "colorbar": {
              "outlinewidth": 0,
              "ticks": ""
             }
            },
            "type": "scattercarpet"
           }
          ],
          "scattergeo": [
           {
            "marker": {
             "colorbar": {
              "outlinewidth": 0,
              "ticks": ""
             }
            },
            "type": "scattergeo"
           }
          ],
          "scattergl": [
           {
            "marker": {
             "line": {
              "color": "#283442"
             }
            },
            "type": "scattergl"
           }
          ],
          "scattermapbox": [
           {
            "marker": {
             "colorbar": {
              "outlinewidth": 0,
              "ticks": ""
             }
            },
            "type": "scattermapbox"
           }
          ],
          "scatterpolar": [
           {
            "marker": {
             "colorbar": {
              "outlinewidth": 0,
              "ticks": ""
             }
            },
            "type": "scatterpolar"
           }
          ],
          "scatterpolargl": [
           {
            "marker": {
             "colorbar": {
              "outlinewidth": 0,
              "ticks": ""
             }
            },
            "type": "scatterpolargl"
           }
          ],
          "scatterternary": [
           {
            "marker": {
             "colorbar": {
              "outlinewidth": 0,
              "ticks": ""
             }
            },
            "type": "scatterternary"
           }
          ],
          "surface": [
           {
            "colorbar": {
             "outlinewidth": 0,
             "ticks": ""
            },
            "colorscale": [
             [
              0,
              "#0d0887"
             ],
             [
              0.1111111111111111,
              "#46039f"
             ],
             [
              0.2222222222222222,
              "#7201a8"
             ],
             [
              0.3333333333333333,
              "#9c179e"
             ],
             [
              0.4444444444444444,
              "#bd3786"
             ],
             [
              0.5555555555555556,
              "#d8576b"
             ],
             [
              0.6666666666666666,
              "#ed7953"
             ],
             [
              0.7777777777777778,
              "#fb9f3a"
             ],
             [
              0.8888888888888888,
              "#fdca26"
             ],
             [
              1,
              "#f0f921"
             ]
            ],
            "type": "surface"
           }
          ],
          "table": [
           {
            "cells": {
             "fill": {
              "color": "#506784"
             },
             "line": {
              "color": "rgb(17,17,17)"
             }
            },
            "header": {
             "fill": {
              "color": "#2a3f5f"
             },
             "line": {
              "color": "rgb(17,17,17)"
             }
            },
            "type": "table"
           }
          ]
         },
         "layout": {
          "annotationdefaults": {
           "arrowcolor": "#f2f5fa",
           "arrowhead": 0,
           "arrowwidth": 1
          },
          "annotations": [
           {
            "font": {
             "color": "black",
             "size": 90
            },
            "name": "draft watermark",
            "opacity": 0.1,
            "showarrow": false,
            "text": "humblDATA",
            "textangle": -25,
            "x": 0.5,
            "xref": "paper",
            "y": 0.5,
            "yref": "paper"
           }
          ],
          "autotypenumbers": "strict",
          "coloraxis": {
           "colorbar": {
            "outlinewidth": 0,
            "ticks": ""
           }
          },
          "colorscale": {
           "diverging": [
            [
             0,
             "#8e0152"
            ],
            [
             0.1,
             "#c51b7d"
            ],
            [
             0.2,
             "#de77ae"
            ],
            [
             0.3,
             "#f1b6da"
            ],
            [
             0.4,
             "#fde0ef"
            ],
            [
             0.5,
             "#f7f7f7"
            ],
            [
             0.6,
             "#e6f5d0"
            ],
            [
             0.7,
             "#b8e186"
            ],
            [
             0.8,
             "#7fbc41"
            ],
            [
             0.9,
             "#4d9221"
            ],
            [
             1,
             "#276419"
            ]
           ],
           "sequential": [
            [
             0,
             "#0d0887"
            ],
            [
             0.1111111111111111,
             "#46039f"
            ],
            [
             0.2222222222222222,
             "#7201a8"
            ],
            [
             0.3333333333333333,
             "#9c179e"
            ],
            [
             0.4444444444444444,
             "#bd3786"
            ],
            [
             0.5555555555555556,
             "#d8576b"
            ],
            [
             0.6666666666666666,
             "#ed7953"
            ],
            [
             0.7777777777777778,
             "#fb9f3a"
            ],
            [
             0.8888888888888888,
             "#fdca26"
            ],
            [
             1,
             "#f0f921"
            ]
           ],
           "sequentialminus": [
            [
             0,
             "#0d0887"
            ],
            [
             0.1111111111111111,
             "#46039f"
            ],
            [
             0.2222222222222222,
             "#7201a8"
            ],
            [
             0.3333333333333333,
             "#9c179e"
            ],
            [
             0.4444444444444444,
             "#bd3786"
            ],
            [
             0.5555555555555556,
             "#d8576b"
            ],
            [
             0.6666666666666666,
             "#ed7953"
            ],
            [
             0.7777777777777778,
             "#fb9f3a"
            ],
            [
             0.8888888888888888,
             "#fdca26"
            ],
            [
             1,
             "#f0f921"
            ]
           ]
          },
          "colorway": [
           "#636efa",
           "#EF553B",
           "#00cc96",
           "#ab63fa",
           "#FFA15A",
           "#19d3f3",
           "#FF6692",
           "#B6E880",
           "#FF97FF",
           "#FECB52"
          ],
          "font": {
           "color": "white"
          },
          "geo": {
           "bgcolor": "rgb(17,17,17)",
           "lakecolor": "rgb(17,17,17)",
           "landcolor": "rgb(17,17,17)",
           "showlakes": true,
           "showland": true,
           "subunitcolor": "#506784"
          },
          "hoverlabel": {
           "align": "left"
          },
          "hovermode": "closest",
          "legend": {
           "bgcolor": "rgb(0,0,0,0)",
           "bordercolor": "rgb(63,70,139)",
           "borderwidth": 0.5,
           "font": {
            "color": "white",
            "family": "open-sans",
            "size": 12
           },
           "orientation": "h",
           "traceorder": "normal",
           "x": 0.5,
           "xanchor": "center",
           "y": -0.15
          },
          "mapbox": {
           "style": "dark"
          },
          "paper_bgcolor": "rgb(0,0,0,0)",
          "plot_bgcolor": "rgb(0,0,0,0)",
          "polar": {
           "angularaxis": {
            "gridcolor": "#506784",
            "linecolor": "#506784",
            "ticks": ""
           },
           "bgcolor": "rgb(17,17,17)",
           "radialaxis": {
            "gridcolor": "#506784",
            "linecolor": "#506784",
            "ticks": ""
           }
          },
          "scene": {
           "xaxis": {
            "backgroundcolor": "rgb(17,17,17)",
            "gridcolor": "#506784",
            "gridwidth": 2,
            "linecolor": "#506784",
            "showbackground": true,
            "ticks": "",
            "zerolinecolor": "#C8D4E3"
           },
           "yaxis": {
            "backgroundcolor": "rgb(17,17,17)",
            "gridcolor": "#506784",
            "gridwidth": 2,
            "linecolor": "#506784",
            "showbackground": true,
            "ticks": "",
            "zerolinecolor": "#C8D4E3"
           },
           "zaxis": {
            "backgroundcolor": "rgb(17,17,17)",
            "gridcolor": "#506784",
            "gridwidth": 2,
            "linecolor": "#506784",
            "showbackground": true,
            "ticks": "",
            "zerolinecolor": "#C8D4E3"
           }
          },
          "shapedefaults": {
           "line": {
            "color": "#f2f5fa"
           }
          },
          "sliderdefaults": {
           "bgcolor": "#C8D4E3",
           "bordercolor": "rgb(17,17,17)",
           "borderwidth": 1,
           "tickwidth": 0
          },
          "ternary": {
           "aaxis": {
            "gridcolor": "#506784",
            "linecolor": "#506784",
            "ticks": ""
           },
           "baxis": {
            "gridcolor": "#506784",
            "linecolor": "#506784",
            "ticks": ""
           },
           "bgcolor": "rgb(17,17,17)",
           "caxis": {
            "gridcolor": "#506784",
            "linecolor": "#506784",
            "ticks": ""
           }
          },
          "title": {
           "x": 0.05
          },
          "updatemenudefaults": {
           "bgcolor": "#506784",
           "borderwidth": 0
          },
          "xaxis": {
           "automargin": true,
           "gridcolor": "#283442",
           "linecolor": "#506784",
           "ticks": "",
           "title": {
            "standoff": 15
           },
           "zerolinecolor": "#283442",
           "zerolinewidth": 2
          },
          "yaxis": {
           "automargin": true,
           "gridcolor": "#283442",
           "linecolor": "#506784",
           "side": "right",
           "ticks": "",
           "title": {
            "standoff": 15
           },
           "zerolinecolor": "#283442",
           "zerolinewidth": 2
          }
         }
        },
        "title": {
         "text": "Momentum Shift Analysis for SPY"
        },
        "xaxis": {
         "title": {
          "text": "Date"
         }
        },
        "yaxis": {
         "title": {
          "text": "Price"
         }
        }
       }
      }
     },
     "metadata": {},
     "output_type": "display_data"
    }
   ],
   "source": [
    "result.show()"
   ]
  },
  {
   "cell_type": "code",
   "execution_count": 114,
   "metadata": {},
   "outputs": [
    {
     "name": "stderr",
     "output_type": "stream",
     "text": [
      "\u001b[1;35mINFO:\u001b[0m \u001b[36mMomentumFetcher\u001b[0m || \u001b[32mSTART: fetch_data (sync)\u001b[0m\n",
      "\u001b[1;35mDEBUG:\u001b[0m \u001b[36mMomentumFetcher\u001b[0m || \u001b[34mRunning .transform_query()\u001b[0m\n",
      "\u001b[1;35mDEBUG:\u001b[0m \u001b[36mMomentumFetcher\u001b[0m || \u001b[34mRunning .extract_data()\u001b[0m\n"
     ]
    },
    {
     "name": "stderr",
     "output_type": "stream",
     "text": [
      "\u001b[1;35mDEBUG:\u001b[0m \u001b[36mMomentumFetcher\u001b[0m || \u001b[34mRunning .transform_data()\u001b[0m\n",
      "\u001b[1;35mDEBUG:\u001b[0m \u001b[36mMomentumFetcher\u001b[0m || \u001b[34mTransforming data with momentum calculation\u001b[0m\n",
      "\u001b[1;35mDEBUG:\u001b[0m \u001b[36mMomentumModel\u001b[0m || \u001b[34mCalculating momentum using method: simple, window: 31\u001b[0m\n",
      "\u001b[1;35mDEBUG:\u001b[0m \u001b[36mMomentumModel\u001b[0m || \u001b[34mUsing simple ROC calculation\u001b[0m\n",
      "\u001b[1;35mINFO:\u001b[0m \u001b[36mMomentumFetcher\u001b[0m || \u001b[32mEND: fetch_data (sync) - Total time: 0.2889s\u001b[0m\n",
      "\u001b[1;35mINFO:\u001b[0m \u001b[36mMomentumFetcher\u001b[0m || \u001b[32mSTART: fetch_data (sync)\u001b[0m\n",
      "\u001b[1;35mDEBUG:\u001b[0m \u001b[36mMomentumFetcher\u001b[0m || \u001b[34mRunning .transform_query()\u001b[0m\n",
      "\u001b[1;35mDEBUG:\u001b[0m \u001b[36mMomentumFetcher\u001b[0m || \u001b[34mRunning .extract_data()\u001b[0m\n",
      "\u001b[1;35mDEBUG:\u001b[0m \u001b[36mMomentumFetcher\u001b[0m || \u001b[34mRunning .transform_data()\u001b[0m\n",
      "\u001b[1;35mDEBUG:\u001b[0m \u001b[36mMomentumFetcher\u001b[0m || \u001b[34mTransforming data with momentum calculation\u001b[0m\n",
      "\u001b[1;35mDEBUG:\u001b[0m \u001b[36mMomentumModel\u001b[0m || \u001b[34mCalculating momentum using method: log, window: 31\u001b[0m\n",
      "\u001b[1;35mDEBUG:\u001b[0m \u001b[36mMomentumModel\u001b[0m || \u001b[34mUsing logarithmic ROC calculation\u001b[0m\n",
      "\u001b[1;35mINFO:\u001b[0m \u001b[36mMomentumFetcher\u001b[0m || \u001b[32mEND: fetch_data (sync) - Total time: 0.2881s\u001b[0m\n"
     ]
    }
   ],
   "source": [
    "# If you want to try different methods:\n",
    "# Simple ROC\n",
    "simple_momentum = toolbox.technical.momentum(\n",
    "    method=\"simple\",\n",
    "    window=\"1mo\",\n",
    "    chart=True,\n",
    "    template=\"humbl_dark\"\n",
    ")\n",
    "\n",
    "# Shift with log\n",
    "log_momentum = toolbox.technical.momentum(\n",
    "    method=\"log\",\n",
    "    window=\"1mo\",\n",
    "    chart=True,\n",
    "    template=\"humbl_dark\"\n",
    ")"
   ]
  },
  {
   "cell_type": "code",
   "execution_count": 115,
   "metadata": {},
   "outputs": [
    {
     "data": {
      "text/html": [
       "<div><style>\n",
       ".dataframe > thead > tr,\n",
       ".dataframe > tbody > tr {\n",
       "  text-align: right;\n",
       "  white-space: pre-wrap;\n",
       "}\n",
       "</style>\n",
       "<small>shape: (220, 5)</small><table border=\"1\" class=\"dataframe\"><thead><tr><th>date</th><th>close</th><th>symbol</th><th>momentum</th><th>momentum_signal</th></tr><tr><td>date</td><td>f64</td><td>str</td><td>f64</td><td>i8</td></tr></thead><tbody><tr><td>2024-05-29</td><td>526.099976</td><td>&quot;SPY&quot;</td><td>0.042918</td><td>1</td></tr><tr><td>2024-05-30</td><td>522.609985</td><td>&quot;SPY&quot;</td><td>0.037892</td><td>1</td></tr><tr><td>2024-05-31</td><td>527.369995</td><td>&quot;SPY&quot;</td><td>0.053581</td><td>1</td></tr><tr><td>2024-06-03</td><td>527.799988</td><td>&quot;SPY&quot;</td><td>0.056614</td><td>1</td></tr><tr><td>2024-06-04</td><td>528.390015</td><td>&quot;SPY&quot;</td><td>0.06711</td><td>1</td></tr><tr><td>&hellip;</td><td>&hellip;</td><td>&hellip;</td><td>&hellip;</td><td>&hellip;</td></tr><tr><td>2025-04-08</td><td>496.480011</td><td>&quot;SPY&quot;</td><td>-0.168668</td><td>0</td></tr><tr><td>2025-04-09</td><td>548.619995</td><td>&quot;SPY&quot;</td><td>-0.07677</td><td>0</td></tr><tr><td>2025-04-10</td><td>524.580017</td><td>&quot;SPY&quot;</td><td>-0.117671</td><td>0</td></tr><tr><td>2025-04-11</td><td>533.940002</td><td>&quot;SPY&quot;</td><td>-0.08736</td><td>0</td></tr><tr><td>2025-04-14</td><td>539.119995</td><td>&quot;SPY&quot;</td><td>-0.092666</td><td>0</td></tr></tbody></table></div>"
      ],
      "text/plain": [
       "shape: (220, 5)\n",
       "┌────────────┬────────────┬────────┬───────────┬─────────────────┐\n",
       "│ date       ┆ close      ┆ symbol ┆ momentum  ┆ momentum_signal │\n",
       "│ ---        ┆ ---        ┆ ---    ┆ ---       ┆ ---             │\n",
       "│ date       ┆ f64        ┆ str    ┆ f64       ┆ i8              │\n",
       "╞════════════╪════════════╪════════╪═══════════╪═════════════════╡\n",
       "│ 2024-05-29 ┆ 526.099976 ┆ SPY    ┆ 0.042918  ┆ 1               │\n",
       "│ 2024-05-30 ┆ 522.609985 ┆ SPY    ┆ 0.037892  ┆ 1               │\n",
       "│ 2024-05-31 ┆ 527.369995 ┆ SPY    ┆ 0.053581  ┆ 1               │\n",
       "│ 2024-06-03 ┆ 527.799988 ┆ SPY    ┆ 0.056614  ┆ 1               │\n",
       "│ 2024-06-04 ┆ 528.390015 ┆ SPY    ┆ 0.06711   ┆ 1               │\n",
       "│ …          ┆ …          ┆ …      ┆ …         ┆ …               │\n",
       "│ 2025-04-08 ┆ 496.480011 ┆ SPY    ┆ -0.168668 ┆ 0               │\n",
       "│ 2025-04-09 ┆ 548.619995 ┆ SPY    ┆ -0.07677  ┆ 0               │\n",
       "│ 2025-04-10 ┆ 524.580017 ┆ SPY    ┆ -0.117671 ┆ 0               │\n",
       "│ 2025-04-11 ┆ 533.940002 ┆ SPY    ┆ -0.08736  ┆ 0               │\n",
       "│ 2025-04-14 ┆ 539.119995 ┆ SPY    ┆ -0.092666 ┆ 0               │\n",
       "└────────────┴────────────┴────────┴───────────┴─────────────────┘"
      ]
     },
     "execution_count": 115,
     "metadata": {},
     "output_type": "execute_result"
    }
   ],
   "source": [
    "simple_momentum.to_polars()"
   ]
  },
  {
   "cell_type": "code",
   "execution_count": 116,
   "metadata": {},
   "outputs": [
    {
     "data": {
      "application/vnd.plotly.v1+json": {
       "config": {
        "plotlyServerURL": "https://plot.ly"
       },
       "data": [
        {
         "line": {
          "color": "green",
          "width": 2
         },
         "mode": "lines",
         "name": "Price",
         "showlegend": true,
         "type": "scatter",
         "x": [
          "2024-05-29T00:00:00",
          "2024-05-30T00:00:00"
         ],
         "y": {
          "bdata": "AAAAwMxwgEAAAABA4VSAQA==",
          "dtype": "f8"
         }
        },
        {
         "line": {
          "color": "green",
          "width": 2
         },
         "mode": "lines",
         "name": "Price",
         "showlegend": false,
         "type": "scatter",
         "x": [
          "2024-05-30T00:00:00",
          "2024-05-31T00:00:00"
         ],
         "y": {
          "bdata": "AAAAQOFUgEAAAADA9XqAQA==",
          "dtype": "f8"
         }
        },
        {
         "line": {
          "color": "green",
          "width": 2
         },
         "mode": "lines",
         "name": "Price",
         "showlegend": false,
         "type": "scatter",
         "x": [
          "2024-05-31T00:00:00",
          "2024-06-03T00:00:00"
         ],
         "y": {
          "bdata": "AAAAwPV6gEAAAABgZn6AQA==",
          "dtype": "f8"
         }
        },
        {
         "line": {
          "color": "green",
          "width": 2
         },
         "mode": "lines",
         "name": "Price",
         "showlegend": false,
         "type": "scatter",
         "x": [
          "2024-06-03T00:00:00",
          "2024-06-04T00:00:00"
         ],
         "y": {
          "bdata": "AAAAYGZ+gEAAAADAHoOAQA==",
          "dtype": "f8"
         }
        },
        {
         "line": {
          "color": "green",
          "width": 2
         },
         "mode": "lines",
         "name": "Price",
         "showlegend": false,
         "type": "scatter",
         "x": [
          "2024-06-04T00:00:00",
          "2024-06-05T00:00:00"
         ],
         "y": {
          "bdata": "AAAAwB6DgEAAAAAgXLWAQA==",
          "dtype": "f8"
         }
        },
        {
         "line": {
          "color": "green",
          "width": 2
         },
         "mode": "lines",
         "name": "Price",
         "showlegend": false,
         "type": "scatter",
         "x": [
          "2024-06-05T00:00:00",
          "2024-06-06T00:00:00"
         ],
         "y": {
          "bdata": "AAAAIFy1gEAAAACgR7WAQA==",
          "dtype": "f8"
         }
        },
        {
         "line": {
          "color": "green",
          "width": 2
         },
         "mode": "lines",
         "name": "Price",
         "showlegend": false,
         "type": "scatter",
         "x": [
          "2024-06-06T00:00:00",
          "2024-06-07T00:00:00"
         ],
         "y": {
          "bdata": "AAAAoEe1gEAAAACAFLCAQA==",
          "dtype": "f8"
         }
        },
        {
         "line": {
          "color": "green",
          "width": 2
         },
         "mode": "lines",
         "name": "Price",
         "showlegend": false,
         "type": "scatter",
         "x": [
          "2024-06-07T00:00:00",
          "2024-06-10T00:00:00"
         ],
         "y": {
          "bdata": "AAAAgBSwgEAAAACgR72AQA==",
          "dtype": "f8"
         }
        },
        {
         "line": {
          "color": "green",
          "width": 2
         },
         "mode": "lines",
         "name": "Price",
         "showlegend": false,
         "type": "scatter",
         "x": [
          "2024-06-10T00:00:00",
          "2024-06-11T00:00:00"
         ],
         "y": {
          "bdata": "AAAAoEe9gEAAAACgmceAQA==",
          "dtype": "f8"
         }
        },
        {
         "line": {
          "color": "green",
          "width": 2
         },
         "mode": "lines",
         "name": "Price",
         "showlegend": false,
         "type": "scatter",
         "x": [
          "2024-06-11T00:00:00",
          "2024-06-12T00:00:00"
         ],
         "y": {
          "bdata": "AAAAoJnHgEAAAABA4eqAQA==",
          "dtype": "f8"
         }
        },
        {
         "line": {
          "color": "green",
          "width": 2
         },
         "mode": "lines",
         "name": "Price",
         "showlegend": false,
         "type": "scatter",
         "x": [
          "2024-06-12T00:00:00",
          "2024-06-13T00:00:00"
         ],
         "y": {
          "bdata": "AAAAQOHqgEAAAACgmfOAQA==",
          "dtype": "f8"
         }
        },
        {
         "line": {
          "color": "green",
          "width": 2
         },
         "mode": "lines",
         "name": "Price",
         "showlegend": false,
         "type": "scatter",
         "x": [
          "2024-06-13T00:00:00",
          "2024-06-14T00:00:00"
         ],
         "y": {
          "bdata": "AAAAoJnzgEAAAACAPfaAQA==",
          "dtype": "f8"
         }
        },
        {
         "line": {
          "color": "green",
          "width": 2
         },
         "mode": "lines",
         "name": "Price",
         "showlegend": false,
         "type": "scatter",
         "x": [
          "2024-06-14T00:00:00",
          "2024-06-17T00:00:00"
         ],
         "y": {
          "bdata": "AAAAgD32gEAAAADAzBiBQA==",
          "dtype": "f8"
         }
        },
        {
         "line": {
          "color": "green",
          "width": 2
         },
         "mode": "lines",
         "name": "Price",
         "showlegend": false,
         "type": "scatter",
         "x": [
          "2024-06-17T00:00:00",
          "2024-06-18T00:00:00"
         ],
         "y": {
          "bdata": "AAAAwMwYgUAAAACA6yOBQA==",
          "dtype": "f8"
         }
        },
        {
         "line": {
          "color": "green",
          "width": 2
         },
         "mode": "lines",
         "name": "Price",
         "showlegend": false,
         "type": "scatter",
         "x": [
          "2024-06-18T00:00:00",
          "2024-06-20T00:00:00"
         ],
         "y": {
          "bdata": "AAAAgOsjgUAAAAAAABiBQA==",
          "dtype": "f8"
         }
        },
        {
         "line": {
          "color": "green",
          "width": 2
         },
         "mode": "lines",
         "name": "Price",
         "showlegend": false,
         "type": "scatter",
         "x": [
          "2024-06-20T00:00:00",
          "2024-06-21T00:00:00"
         ],
         "y": {
          "bdata": "AAAAAAAYgUAAAACAFASBQA==",
          "dtype": "f8"
         }
        },
        {
         "line": {
          "color": "green",
          "width": 2
         },
         "mode": "lines",
         "name": "Price",
         "showlegend": false,
         "type": "scatter",
         "x": [
          "2024-06-21T00:00:00",
          "2024-06-24T00:00:00"
         ],
         "y": {
          "bdata": "AAAAgBQEgUAAAACA6/WAQA==",
          "dtype": "f8"
         }
        },
        {
         "line": {
          "color": "green",
          "width": 2
         },
         "mode": "lines",
         "name": "Price",
         "showlegend": false,
         "type": "scatter",
         "x": [
          "2024-06-24T00:00:00",
          "2024-06-25T00:00:00"
         ],
         "y": {
          "bdata": "AAAAgOv1gEAAAADgowaBQA==",
          "dtype": "f8"
         }
        },
        {
         "line": {
          "color": "green",
          "width": 2
         },
         "mode": "lines",
         "name": "Price",
         "showlegend": false,
         "type": "scatter",
         "x": [
          "2024-06-25T00:00:00",
          "2024-06-26T00:00:00"
         ],
         "y": {
          "bdata": "AAAA4KMGgUAAAACAFAyBQA==",
          "dtype": "f8"
         }
        },
        {
         "line": {
          "color": "green",
          "width": 2
         },
         "mode": "lines",
         "name": "Price",
         "showlegend": false,
         "type": "scatter",
         "x": [
          "2024-06-26T00:00:00",
          "2024-06-27T00:00:00"
         ],
         "y": {
          "bdata": "AAAAgBQMgUAAAADA9RKBQA==",
          "dtype": "f8"
         }
        },
        {
         "line": {
          "color": "green",
          "width": 2
         },
         "mode": "lines",
         "name": "Price",
         "showlegend": false,
         "type": "scatter",
         "x": [
          "2024-06-27T00:00:00",
          "2024-06-28T00:00:00"
         ],
         "y": {
          "bdata": "AAAAwPUSgUAAAACAwgGBQA==",
          "dtype": "f8"
         }
        },
        {
         "line": {
          "color": "green",
          "width": 2
         },
         "mode": "lines",
         "name": "Price",
         "showlegend": false,
         "type": "scatter",
         "x": [
          "2024-06-28T00:00:00",
          "2024-07-01T00:00:00"
         ],
         "y": {
          "bdata": "AAAAgMIBgUAAAABguAqBQA==",
          "dtype": "f8"
         }
        },
        {
         "line": {
          "color": "green",
          "width": 2
         },
         "mode": "lines",
         "name": "Price",
         "showlegend": false,
         "type": "scatter",
         "x": [
          "2024-07-01T00:00:00",
          "2024-07-02T00:00:00"
         ],
         "y": {
          "bdata": "AAAAYLgKgUAAAACAFCiBQA==",
          "dtype": "f8"
         }
        },
        {
         "line": {
          "color": "green",
          "width": 2
         },
         "mode": "lines",
         "name": "Price",
         "showlegend": false,
         "type": "scatter",
         "x": [
          "2024-07-02T00:00:00",
          "2024-07-03T00:00:00"
         ],
         "y": {
          "bdata": "AAAAgBQogUAAAAAgrjuBQA==",
          "dtype": "f8"
         }
        },
        {
         "line": {
          "color": "green",
          "width": 2
         },
         "mode": "lines",
         "name": "Price",
         "showlegend": false,
         "type": "scatter",
         "x": [
          "2024-07-03T00:00:00",
          "2024-07-05T00:00:00"
         ],
         "y": {
          "bdata": "AAAAIK47gUAAAADAHlWBQA==",
          "dtype": "f8"
         }
        },
        {
         "line": {
          "color": "green",
          "width": 2
         },
         "mode": "lines",
         "name": "Price",
         "showlegend": false,
         "type": "scatter",
         "x": [
          "2024-07-05T00:00:00",
          "2024-07-08T00:00:00"
         ],
         "y": {
          "bdata": "AAAAwB5VgUAAAACAPVqBQA==",
          "dtype": "f8"
         }
        },
        {
         "line": {
          "color": "green",
          "width": 2
         },
         "mode": "lines",
         "name": "Price",
         "showlegend": false,
         "type": "scatter",
         "x": [
          "2024-07-08T00:00:00",
          "2024-07-09T00:00:00"
         ],
         "y": {
          "bdata": "AAAAgD1agUAAAABgj16BQA==",
          "dtype": "f8"
         }
        },
        {
         "line": {
          "color": "green",
          "width": 2
         },
         "mode": "lines",
         "name": "Price",
         "showlegend": false,
         "type": "scatter",
         "x": [
          "2024-07-09T00:00:00",
          "2024-07-10T00:00:00"
         ],
         "y": {
          "bdata": "AAAAYI9egUAAAABgj4qBQA==",
          "dtype": "f8"
         }
        },
        {
         "line": {
          "color": "green",
          "width": 2
         },
         "mode": "lines",
         "name": "Price",
         "showlegend": false,
         "type": "scatter",
         "x": [
          "2024-07-10T00:00:00",
          "2024-07-11T00:00:00"
         ],
         "y": {
          "bdata": "AAAAYI+KgUAAAAAA12OBQA==",
          "dtype": "f8"
         }
        },
        {
         "line": {
          "color": "green",
          "width": 2
         },
         "mode": "lines",
         "name": "Price",
         "showlegend": false,
         "type": "scatter",
         "x": [
          "2024-07-11T00:00:00",
          "2024-07-12T00:00:00"
         ],
         "y": {
          "bdata": "AAAAANdjgUAAAACA63+BQA==",
          "dtype": "f8"
         }
        },
        {
         "line": {
          "color": "green",
          "width": 2
         },
         "mode": "lines",
         "name": "Price",
         "showlegend": false,
         "type": "scatter",
         "x": [
          "2024-07-12T00:00:00",
          "2024-07-15T00:00:00"
         ],
         "y": {
          "bdata": "AAAAgOt/gUAAAACAPYyBQA==",
          "dtype": "f8"
         }
        },
        {
         "line": {
          "color": "green",
          "width": 2
         },
         "mode": "lines",
         "name": "Price",
         "showlegend": false,
         "type": "scatter",
         "x": [
          "2024-07-15T00:00:00",
          "2024-07-16T00:00:00"
         ],
         "y": {
          "bdata": "AAAAgD2MgUAAAABA4aaBQA==",
          "dtype": "f8"
         }
        },
        {
         "line": {
          "color": "green",
          "width": 2
         },
         "mode": "lines",
         "name": "Price",
         "showlegend": false,
         "type": "scatter",
         "x": [
          "2024-07-16T00:00:00",
          "2024-07-17T00:00:00"
         ],
         "y": {
          "bdata": "AAAAQOGmgUAAAAAghWeBQA==",
          "dtype": "f8"
         }
        },
        {
         "line": {
          "color": "green",
          "width": 2
         },
         "mode": "lines",
         "name": "Price",
         "showlegend": false,
         "type": "scatter",
         "x": [
          "2024-07-17T00:00:00",
          "2024-07-18T00:00:00"
         ],
         "y": {
          "bdata": "AAAAIIVngUAAAACgR0WBQA==",
          "dtype": "f8"
         }
        },
        {
         "line": {
          "color": "green",
          "width": 2
         },
         "mode": "lines",
         "name": "Price",
         "showlegend": false,
         "type": "scatter",
         "x": [
          "2024-07-18T00:00:00",
          "2024-07-19T00:00:00"
         ],
         "y": {
          "bdata": "AAAAoEdFgUAAAACA6yeBQA==",
          "dtype": "f8"
         }
        },
        {
         "line": {
          "color": "green",
          "width": 2
         },
         "mode": "lines",
         "name": "Price",
         "showlegend": false,
         "type": "scatter",
         "x": [
          "2024-07-19T00:00:00",
          "2024-07-22T00:00:00"
         ],
         "y": {
          "bdata": "AAAAgOsngUAAAABAM1WBQA==",
          "dtype": "f8"
         }
        },
        {
         "line": {
          "color": "green",
          "width": 2
         },
         "mode": "lines",
         "name": "Price",
         "showlegend": false,
         "type": "scatter",
         "x": [
          "2024-07-22T00:00:00",
          "2024-07-23T00:00:00"
         ],
         "y": {
          "bdata": "AAAAQDNVgUAAAACAPU6BQA==",
          "dtype": "f8"
         }
        },
        {
         "line": {
          "color": "green",
          "width": 2
         },
         "mode": "lines",
         "name": "Price",
         "showlegend": false,
         "type": "scatter",
         "x": [
          "2024-07-23T00:00:00",
          "2024-07-24T00:00:00"
         ],
         "y": {
          "bdata": "AAAAgD1OgUAAAAAA1+mAQA==",
          "dtype": "f8"
         }
        },
        {
         "line": {
          "color": "green",
          "width": 2
         },
         "mode": "lines",
         "name": "Price",
         "showlegend": false,
         "type": "scatter",
         "x": [
          "2024-07-24T00:00:00",
          "2024-07-25T00:00:00"
         ],
         "y": {
          "bdata": "AAAAANfpgEAAAACgR9OAQA==",
          "dtype": "f8"
         }
        },
        {
         "line": {
          "color": "green",
          "width": 2
         },
         "mode": "lines",
         "name": "Price",
         "showlegend": false,
         "type": "scatter",
         "x": [
          "2024-07-25T00:00:00",
          "2024-07-26T00:00:00"
         ],
         "y": {
          "bdata": "AAAAoEfTgEAAAAAghQOBQA==",
          "dtype": "f8"
         }
        },
        {
         "line": {
          "color": "green",
          "width": 2
         },
         "mode": "lines",
         "name": "Price",
         "showlegend": false,
         "type": "scatter",
         "x": [
          "2024-07-26T00:00:00",
          "2024-07-29T00:00:00"
         ],
         "y": {
          "bdata": "AAAAIIUDgUAAAACAFAaBQA==",
          "dtype": "f8"
         }
        },
        {
         "line": {
          "color": "green",
          "width": 2
         },
         "mode": "lines",
         "name": "Price",
         "showlegend": false,
         "type": "scatter",
         "x": [
          "2024-07-29T00:00:00",
          "2024-07-30T00:00:00"
         ],
         "y": {
          "bdata": "AAAAgBQGgUAAAAAAAPCAQA==",
          "dtype": "f8"
         }
        },
        {
         "line": {
          "color": "red",
          "width": 2
         },
         "mode": "lines",
         "name": "Price",
         "showlegend": false,
         "type": "scatter",
         "x": [
          "2024-07-30T00:00:00",
          "2024-07-31T00:00:00"
         ],
         "y": {
          "bdata": "AAAAAADwgEAAAADgejaBQA==",
          "dtype": "f8"
         }
        },
        {
         "line": {
          "color": "green",
          "width": 2
         },
         "mode": "lines",
         "name": "Price",
         "showlegend": false,
         "type": "scatter",
         "x": [
          "2024-07-31T00:00:00",
          "2024-08-01T00:00:00"
         ],
         "y": {
          "bdata": "AAAA4Ho2gUAAAACAFPiAQA==",
          "dtype": "f8"
         }
        },
        {
         "line": {
          "color": "red",
          "width": 2
         },
         "mode": "lines",
         "name": "Price",
         "showlegend": false,
         "type": "scatter",
         "x": [
          "2024-08-01T00:00:00",
          "2024-08-02T00:00:00"
         ],
         "y": {
          "bdata": "AAAAgBT4gEAAAABAM6eAQA==",
          "dtype": "f8"
         }
        },
        {
         "line": {
          "color": "red",
          "width": 2
         },
         "mode": "lines",
         "name": "Price",
         "showlegend": false,
         "type": "scatter",
         "x": [
          "2024-08-02T00:00:00",
          "2024-08-05T00:00:00"
         ],
         "y": {
          "bdata": "AAAAQDOngEAAAABACiuAQA==",
          "dtype": "f8"
         }
        },
        {
         "line": {
          "color": "red",
          "width": 2
         },
         "mode": "lines",
         "name": "Price",
         "showlegend": false,
         "type": "scatter",
         "x": [
          "2024-08-05T00:00:00",
          "2024-08-06T00:00:00"
         ],
         "y": {
          "bdata": "AAAAQAorgEAAAABAM1GAQA==",
          "dtype": "f8"
         }
        },
        {
         "line": {
          "color": "red",
          "width": 2
         },
         "mode": "lines",
         "name": "Price",
         "showlegend": false,
         "type": "scatter",
         "x": [
          "2024-08-06T00:00:00",
          "2024-08-07T00:00:00"
         ],
         "y": {
          "bdata": "AAAAQDNRgEAAAACgRzWAQA==",
          "dtype": "f8"
         }
        },
        {
         "line": {
          "color": "red",
          "width": 2
         },
         "mode": "lines",
         "name": "Price",
         "showlegend": false,
         "type": "scatter",
         "x": [
          "2024-08-07T00:00:00",
          "2024-08-08T00:00:00"
         ],
         "y": {
          "bdata": "AAAAoEc1gEAAAABAM5WAQA==",
          "dtype": "f8"
         }
        },
        {
         "line": {
          "color": "red",
          "width": 2
         },
         "mode": "lines",
         "name": "Price",
         "showlegend": false,
         "type": "scatter",
         "x": [
          "2024-08-08T00:00:00",
          "2024-08-09T00:00:00"
         ],
         "y": {
          "bdata": "AAAAQDOVgEAAAACA66eAQA==",
          "dtype": "f8"
         }
        },
        {
         "line": {
          "color": "red",
          "width": 2
         },
         "mode": "lines",
         "name": "Price",
         "showlegend": false,
         "type": "scatter",
         "x": [
          "2024-08-09T00:00:00",
          "2024-08-12T00:00:00"
         ],
         "y": {
          "bdata": "AAAAgOungEAAAAAAKaqAQA==",
          "dtype": "f8"
         }
        },
        {
         "line": {
          "color": "red",
          "width": 2
         },
         "mode": "lines",
         "name": "Price",
         "showlegend": false,
         "type": "scatter",
         "x": [
          "2024-08-12T00:00:00",
          "2024-08-13T00:00:00"
         ],
         "y": {
          "bdata": "AAAAACmqgEAAAADgUfCAQA==",
          "dtype": "f8"
         }
        },
        {
         "line": {
          "color": "red",
          "width": 2
         },
         "mode": "lines",
         "name": "Price",
         "showlegend": false,
         "type": "scatter",
         "x": [
          "2024-08-13T00:00:00",
          "2024-08-14T00:00:00"
         ],
         "y": {
          "bdata": "AAAA4FHwgEAAAAAAAP6AQA==",
          "dtype": "f8"
         }
        },
        {
         "line": {
          "color": "red",
          "width": 2
         },
         "mode": "lines",
         "name": "Price",
         "showlegend": false,
         "type": "scatter",
         "x": [
          "2024-08-14T00:00:00",
          "2024-08-15T00:00:00"
         ],
         "y": {
          "bdata": "AAAAAAD+gEAAAABgj0iBQA==",
          "dtype": "f8"
         }
        },
        {
         "line": {
          "color": "green",
          "width": 2
         },
         "mode": "lines",
         "name": "Price",
         "showlegend": false,
         "type": "scatter",
         "x": [
          "2024-08-15T00:00:00",
          "2024-08-16T00:00:00"
         ],
         "y": {
          "bdata": "AAAAYI9IgUAAAADgelKBQA==",
          "dtype": "f8"
         }
        },
        {
         "line": {
          "color": "green",
          "width": 2
         },
         "mode": "lines",
         "name": "Price",
         "showlegend": false,
         "type": "scatter",
         "x": [
          "2024-08-16T00:00:00",
          "2024-08-19T00:00:00"
         ],
         "y": {
          "bdata": "AAAA4HpSgUAAAABA4XyBQA==",
          "dtype": "f8"
         }
        },
        {
         "line": {
          "color": "green",
          "width": 2
         },
         "mode": "lines",
         "name": "Price",
         "showlegend": false,
         "type": "scatter",
         "x": [
          "2024-08-19T00:00:00",
          "2024-08-20T00:00:00"
         ],
         "y": {
          "bdata": "AAAAQOF8gUAAAACgmXWBQA==",
          "dtype": "f8"
         }
        },
        {
         "line": {
          "color": "green",
          "width": 2
         },
         "mode": "lines",
         "name": "Price",
         "showlegend": false,
         "type": "scatter",
         "x": [
          "2024-08-20T00:00:00",
          "2024-08-21T00:00:00"
         ],
         "y": {
          "bdata": "AAAAoJl1gUAAAADA9YSBQA==",
          "dtype": "f8"
         }
        },
        {
         "line": {
          "color": "green",
          "width": 2
         },
         "mode": "lines",
         "name": "Price",
         "showlegend": false,
         "type": "scatter",
         "x": [
          "2024-08-21T00:00:00",
          "2024-08-22T00:00:00"
         ],
         "y": {
          "bdata": "AAAAwPWEgUAAAACAwmGBQA==",
          "dtype": "f8"
         }
        },
        {
         "line": {
          "color": "red",
          "width": 2
         },
         "mode": "lines",
         "name": "Price",
         "showlegend": false,
         "type": "scatter",
         "x": [
          "2024-08-22T00:00:00",
          "2024-08-23T00:00:00"
         ],
         "y": {
          "bdata": "AAAAgMJhgUAAAABACpGBQA==",
          "dtype": "f8"
         }
        },
        {
         "line": {
          "color": "green",
          "width": 2
         },
         "mode": "lines",
         "name": "Price",
         "showlegend": false,
         "type": "scatter",
         "x": [
          "2024-08-23T00:00:00",
          "2024-08-26T00:00:00"
         ],
         "y": {
          "bdata": "AAAAQAqRgUAAAADgUYaBQA==",
          "dtype": "f8"
         }
        },
        {
         "line": {
          "color": "green",
          "width": 2
         },
         "mode": "lines",
         "name": "Price",
         "showlegend": false,
         "type": "scatter",
         "x": [
          "2024-08-26T00:00:00",
          "2024-08-27T00:00:00"
         ],
         "y": {
          "bdata": "AAAA4FGGgUAAAADgeoyBQA==",
          "dtype": "f8"
         }
        },
        {
         "line": {
          "color": "green",
          "width": 2
         },
         "mode": "lines",
         "name": "Price",
         "showlegend": false,
         "type": "scatter",
         "x": [
          "2024-08-27T00:00:00",
          "2024-08-28T00:00:00"
         ],
         "y": {
          "bdata": "AAAA4HqMgUAAAABgZnKBQA==",
          "dtype": "f8"
         }
        },
        {
         "line": {
          "color": "red",
          "width": 2
         },
         "mode": "lines",
         "name": "Price",
         "showlegend": false,
         "type": "scatter",
         "x": [
          "2024-08-28T00:00:00",
          "2024-08-29T00:00:00"
         ],
         "y": {
          "bdata": "AAAAYGZygUAAAADAzHKBQA==",
          "dtype": "f8"
         }
        },
        {
         "line": {
          "color": "green",
          "width": 2
         },
         "mode": "lines",
         "name": "Price",
         "showlegend": false,
         "type": "scatter",
         "x": [
          "2024-08-29T00:00:00",
          "2024-08-30T00:00:00"
         ],
         "y": {
          "bdata": "AAAAwMxygUAAAACgcJ2BQA==",
          "dtype": "f8"
         }
        },
        {
         "line": {
          "color": "green",
          "width": 2
         },
         "mode": "lines",
         "name": "Price",
         "showlegend": false,
         "type": "scatter",
         "x": [
          "2024-08-30T00:00:00",
          "2024-09-03T00:00:00"
         ],
         "y": {
          "bdata": "AAAAoHCdgUAAAADgo0CBQA==",
          "dtype": "f8"
         }
        },
        {
         "line": {
          "color": "green",
          "width": 2
         },
         "mode": "lines",
         "name": "Price",
         "showlegend": false,
         "type": "scatter",
         "x": [
          "2024-09-03T00:00:00",
          "2024-09-04T00:00:00"
         ],
         "y": {
          "bdata": "AAAA4KNAgUAAAACgmTeBQA==",
          "dtype": "f8"
         }
        },
        {
         "line": {
          "color": "red",
          "width": 2
         },
         "mode": "lines",
         "name": "Price",
         "showlegend": false,
         "type": "scatter",
         "x": [
          "2024-09-04T00:00:00",
          "2024-09-05T00:00:00"
         ],
         "y": {
          "bdata": "AAAAoJk3gUAAAABA4SyBQA==",
          "dtype": "f8"
         }
        },
        {
         "line": {
          "color": "red",
          "width": 2
         },
         "mode": "lines",
         "name": "Price",
         "showlegend": false,
         "type": "scatter",
         "x": [
          "2024-09-05T00:00:00",
          "2024-09-06T00:00:00"
         ],
         "y": {
          "bdata": "AAAAQOEsgUAAAABA4eKAQA==",
          "dtype": "f8"
         }
        },
        {
         "line": {
          "color": "red",
          "width": 2
         },
         "mode": "lines",
         "name": "Price",
         "showlegend": false,
         "type": "scatter",
         "x": [
          "2024-09-06T00:00:00",
          "2024-09-09T00:00:00"
         ],
         "y": {
          "bdata": "AAAAQOHigEAAAACgRxOBQA==",
          "dtype": "f8"
         }
        },
        {
         "line": {
          "color": "green",
          "width": 2
         },
         "mode": "lines",
         "name": "Price",
         "showlegend": false,
         "type": "scatter",
         "x": [
          "2024-09-09T00:00:00",
          "2024-09-10T00:00:00"
         ],
         "y": {
          "bdata": "AAAAoEcTgUAAAADgUSaBQA==",
          "dtype": "f8"
         }
        },
        {
         "line": {
          "color": "green",
          "width": 2
         },
         "mode": "lines",
         "name": "Price",
         "showlegend": false,
         "type": "scatter",
         "x": [
          "2024-09-10T00:00:00",
          "2024-09-11T00:00:00"
         ],
         "y": {
          "bdata": "AAAA4FEmgUAAAAAgXFOBQA==",
          "dtype": "f8"
         }
        },
        {
         "line": {
          "color": "green",
          "width": 2
         },
         "mode": "lines",
         "name": "Price",
         "showlegend": false,
         "type": "scatter",
         "x": [
          "2024-09-11T00:00:00",
          "2024-09-12T00:00:00"
         ],
         "y": {
          "bdata": "AAAAIFxTgUAAAABguHiBQA==",
          "dtype": "f8"
         }
        },
        {
         "line": {
          "color": "green",
          "width": 2
         },
         "mode": "lines",
         "name": "Price",
         "showlegend": false,
         "type": "scatter",
         "x": [
          "2024-09-12T00:00:00",
          "2024-09-13T00:00:00"
         ],
         "y": {
          "bdata": "AAAAYLh4gUAAAACAFJCBQA==",
          "dtype": "f8"
         }
        },
        {
         "line": {
          "color": "green",
          "width": 2
         },
         "mode": "lines",
         "name": "Price",
         "showlegend": false,
         "type": "scatter",
         "x": [
          "2024-09-13T00:00:00",
          "2024-09-16T00:00:00"
         ],
         "y": {
          "bdata": "AAAAgBSQgUAAAABguJaBQA==",
          "dtype": "f8"
         }
        },
        {
         "line": {
          "color": "green",
          "width": 2
         },
         "mode": "lines",
         "name": "Price",
         "showlegend": false,
         "type": "scatter",
         "x": [
          "2024-09-16T00:00:00",
          "2024-09-17T00:00:00"
         ],
         "y": {
          "bdata": "AAAAYLiWgUAAAABgj5iBQA==",
          "dtype": "f8"
         }
        },
        {
         "line": {
          "color": "green",
          "width": 2
         },
         "mode": "lines",
         "name": "Price",
         "showlegend": false,
         "type": "scatter",
         "x": [
          "2024-09-17T00:00:00",
          "2024-09-18T00:00:00"
         ],
         "y": {
          "bdata": "AAAAYI+YgUAAAABAM4uBQA==",
          "dtype": "f8"
         }
        },
        {
         "line": {
          "color": "green",
          "width": 2
         },
         "mode": "lines",
         "name": "Price",
         "showlegend": false,
         "type": "scatter",
         "x": [
          "2024-09-18T00:00:00",
          "2024-09-19T00:00:00"
         ],
         "y": {
          "bdata": "AAAAQDOLgUAAAAAA19eBQA==",
          "dtype": "f8"
         }
        },
        {
         "line": {
          "color": "green",
          "width": 2
         },
         "mode": "lines",
         "name": "Price",
         "showlegend": false,
         "type": "scatter",
         "x": [
          "2024-09-19T00:00:00",
          "2024-09-20T00:00:00"
         ],
         "y": {
          "bdata": "AAAAANfXgUAAAAAAAMKBQA==",
          "dtype": "f8"
         }
        },
        {
         "line": {
          "color": "green",
          "width": 2
         },
         "mode": "lines",
         "name": "Price",
         "showlegend": false,
         "type": "scatter",
         "x": [
          "2024-09-20T00:00:00",
          "2024-09-23T00:00:00"
         ],
         "y": {
          "bdata": "AAAAAADCgUAAAAAgXM2BQA==",
          "dtype": "f8"
         }
        },
        {
         "line": {
          "color": "green",
          "width": 2
         },
         "mode": "lines",
         "name": "Price",
         "showlegend": false,
         "type": "scatter",
         "x": [
          "2024-09-23T00:00:00",
          "2024-09-24T00:00:00"
         ],
         "y": {
          "bdata": "AAAAIFzNgUAAAABgZtqBQA==",
          "dtype": "f8"
         }
        },
        {
         "line": {
          "color": "green",
          "width": 2
         },
         "mode": "lines",
         "name": "Price",
         "showlegend": false,
         "type": "scatter",
         "x": [
          "2024-09-24T00:00:00",
          "2024-09-25T00:00:00"
         ],
         "y": {
          "bdata": "AAAAYGbagUAAAADgUdCBQA==",
          "dtype": "f8"
         }
        },
        {
         "line": {
          "color": "green",
          "width": 2
         },
         "mode": "lines",
         "name": "Price",
         "showlegend": false,
         "type": "scatter",
         "x": [
          "2024-09-25T00:00:00",
          "2024-09-26T00:00:00"
         ],
         "y": {
          "bdata": "AAAA4FHQgUAAAABgZuKBQA==",
          "dtype": "f8"
         }
        },
        {
         "line": {
          "color": "green",
          "width": 2
         },
         "mode": "lines",
         "name": "Price",
         "showlegend": false,
         "type": "scatter",
         "x": [
          "2024-09-26T00:00:00",
          "2024-09-27T00:00:00"
         ],
         "y": {
          "bdata": "AAAAYGbigUAAAACAwtuBQA==",
          "dtype": "f8"
         }
        },
        {
         "line": {
          "color": "green",
          "width": 2
         },
         "mode": "lines",
         "name": "Price",
         "showlegend": false,
         "type": "scatter",
         "x": [
          "2024-09-27T00:00:00",
          "2024-09-30T00:00:00"
         ],
         "y": {
          "bdata": "AAAAgMLbgUAAAACAFO6BQA==",
          "dtype": "f8"
         }
        },
        {
         "line": {
          "color": "green",
          "width": 2
         },
         "mode": "lines",
         "name": "Price",
         "showlegend": false,
         "type": "scatter",
         "x": [
          "2024-09-30T00:00:00",
          "2024-10-01T00:00:00"
         ],
         "y": {
          "bdata": "AAAAgBTugUAAAADA9cSBQA==",
          "dtype": "f8"
         }
        },
        {
         "line": {
          "color": "green",
          "width": 2
         },
         "mode": "lines",
         "name": "Price",
         "showlegend": false,
         "type": "scatter",
         "x": [
          "2024-10-01T00:00:00",
          "2024-10-02T00:00:00"
         ],
         "y": {
          "bdata": "AAAAwPXEgUAAAABA4caBQA==",
          "dtype": "f8"
         }
        },
        {
         "line": {
          "color": "green",
          "width": 2
         },
         "mode": "lines",
         "name": "Price",
         "showlegend": false,
         "type": "scatter",
         "x": [
          "2024-10-02T00:00:00",
          "2024-10-03T00:00:00"
         ],
         "y": {
          "bdata": "AAAAQOHGgUAAAABgj76BQA==",
          "dtype": "f8"
         }
        },
        {
         "line": {
          "color": "green",
          "width": 2
         },
         "mode": "lines",
         "name": "Price",
         "showlegend": false,
         "type": "scatter",
         "x": [
          "2024-10-03T00:00:00",
          "2024-10-04T00:00:00"
         ],
         "y": {
          "bdata": "AAAAYI++gUAAAAAA1+eBQA==",
          "dtype": "f8"
         }
        },
        {
         "line": {
          "color": "green",
          "width": 2
         },
         "mode": "lines",
         "name": "Price",
         "showlegend": false,
         "type": "scatter",
         "x": [
          "2024-10-04T00:00:00",
          "2024-10-07T00:00:00"
         ],
         "y": {
          "bdata": "AAAAANfngUAAAABgZr6BQA==",
          "dtype": "f8"
         }
        },
        {
         "line": {
          "color": "green",
          "width": 2
         },
         "mode": "lines",
         "name": "Price",
         "showlegend": false,
         "type": "scatter",
         "x": [
          "2024-10-07T00:00:00",
          "2024-10-08T00:00:00"
         ],
         "y": {
          "bdata": "AAAAYGa+gUAAAAAgXOmBQA==",
          "dtype": "f8"
         }
        },
        {
         "line": {
          "color": "green",
          "width": 2
         },
         "mode": "lines",
         "name": "Price",
         "showlegend": false,
         "type": "scatter",
         "x": [
          "2024-10-08T00:00:00",
          "2024-10-09T00:00:00"
         ],
         "y": {
          "bdata": "AAAAIFzpgUAAAADAHgmCQA==",
          "dtype": "f8"
         }
        },
        {
         "line": {
          "color": "green",
          "width": 2
         },
         "mode": "lines",
         "name": "Price",
         "showlegend": false,
         "type": "scatter",
         "x": [
          "2024-10-09T00:00:00",
          "2024-10-10T00:00:00"
         ],
         "y": {
          "bdata": "AAAAwB4JgkAAAABACgGCQA==",
          "dtype": "f8"
         }
        },
        {
         "line": {
          "color": "green",
          "width": 2
         },
         "mode": "lines",
         "name": "Price",
         "showlegend": false,
         "type": "scatter",
         "x": [
          "2024-10-10T00:00:00",
          "2024-10-11T00:00:00"
         ],
         "y": {
          "bdata": "AAAAQAoBgkAAAADgoxyCQA==",
          "dtype": "f8"
         }
        },
        {
         "line": {
          "color": "green",
          "width": 2
         },
         "mode": "lines",
         "name": "Price",
         "showlegend": false,
         "type": "scatter",
         "x": [
          "2024-10-11T00:00:00",
          "2024-10-14T00:00:00"
         ],
         "y": {
          "bdata": "AAAA4KMcgkAAAABgj0KCQA==",
          "dtype": "f8"
         }
        },
        {
         "line": {
          "color": "green",
          "width": 2
         },
         "mode": "lines",
         "name": "Price",
         "showlegend": false,
         "type": "scatter",
         "x": [
          "2024-10-14T00:00:00",
          "2024-10-15T00:00:00"
         ],
         "y": {
          "bdata": "AAAAYI9CgkAAAACAPR6CQA==",
          "dtype": "f8"
         }
        },
        {
         "line": {
          "color": "green",
          "width": 2
         },
         "mode": "lines",
         "name": "Price",
         "showlegend": false,
         "type": "scatter",
         "x": [
          "2024-10-15T00:00:00",
          "2024-10-16T00:00:00"
         ],
         "y": {
          "bdata": "AAAAgD0egkAAAABgZjKCQA==",
          "dtype": "f8"
         }
        },
        {
         "line": {
          "color": "green",
          "width": 2
         },
         "mode": "lines",
         "name": "Price",
         "showlegend": false,
         "type": "scatter",
         "x": [
          "2024-10-16T00:00:00",
          "2024-10-17T00:00:00"
         ],
         "y": {
          "bdata": "AAAAYGYygkAAAADAzDKCQA==",
          "dtype": "f8"
         }
        },
        {
         "line": {
          "color": "green",
          "width": 2
         },
         "mode": "lines",
         "name": "Price",
         "showlegend": false,
         "type": "scatter",
         "x": [
          "2024-10-17T00:00:00",
          "2024-10-18T00:00:00"
         ],
         "y": {
          "bdata": "AAAAwMwygkAAAABguESCQA==",
          "dtype": "f8"
         }
        },
        {
         "line": {
          "color": "green",
          "width": 2
         },
         "mode": "lines",
         "name": "Price",
         "showlegend": false,
         "type": "scatter",
         "x": [
          "2024-10-18T00:00:00",
          "2024-10-21T00:00:00"
         ],
         "y": {
          "bdata": "AAAAYLhEgkAAAABACj2CQA==",
          "dtype": "f8"
         }
        },
        {
         "line": {
          "color": "green",
          "width": 2
         },
         "mode": "lines",
         "name": "Price",
         "showlegend": false,
         "type": "scatter",
         "x": [
          "2024-10-21T00:00:00",
          "2024-10-22T00:00:00"
         ],
         "y": {
          "bdata": "AAAAQAo9gkAAAABgjzqCQA==",
          "dtype": "f8"
         }
        },
        {
         "line": {
          "color": "green",
          "width": 2
         },
         "mode": "lines",
         "name": "Price",
         "showlegend": false,
         "type": "scatter",
         "x": [
          "2024-10-22T00:00:00",
          "2024-10-23T00:00:00"
         ],
         "y": {
          "bdata": "AAAAYI86gkAAAACA6w+CQA==",
          "dtype": "f8"
         }
        },
        {
         "line": {
          "color": "green",
          "width": 2
         },
         "mode": "lines",
         "name": "Price",
         "showlegend": false,
         "type": "scatter",
         "x": [
          "2024-10-23T00:00:00",
          "2024-10-24T00:00:00"
         ],
         "y": {
          "bdata": "AAAAgOsPgkAAAACA6xmCQA==",
          "dtype": "f8"
         }
        },
        {
         "line": {
          "color": "green",
          "width": 2
         },
         "mode": "lines",
         "name": "Price",
         "showlegend": false,
         "type": "scatter",
         "x": [
          "2024-10-24T00:00:00",
          "2024-10-25T00:00:00"
         ],
         "y": {
          "bdata": "AAAAgOsZgkAAAADgURiCQA==",
          "dtype": "f8"
         }
        },
        {
         "line": {
          "color": "green",
          "width": 2
         },
         "mode": "lines",
         "name": "Price",
         "showlegend": false,
         "type": "scatter",
         "x": [
          "2024-10-25T00:00:00",
          "2024-10-28T00:00:00"
         ],
         "y": {
          "bdata": "AAAA4FEYgkAAAADgoyaCQA==",
          "dtype": "f8"
         }
        },
        {
         "line": {
          "color": "green",
          "width": 2
         },
         "mode": "lines",
         "name": "Price",
         "showlegend": false,
         "type": "scatter",
         "x": [
          "2024-10-28T00:00:00",
          "2024-10-29T00:00:00"
         ],
         "y": {
          "bdata": "AAAA4KMmgkAAAAAAKS6CQA==",
          "dtype": "f8"
         }
        },
        {
         "line": {
          "color": "green",
          "width": 2
         },
         "mode": "lines",
         "name": "Price",
         "showlegend": false,
         "type": "scatter",
         "x": [
          "2024-10-29T00:00:00",
          "2024-10-30T00:00:00"
         ],
         "y": {
          "bdata": "AAAAACkugkAAAACAFCCCQA==",
          "dtype": "f8"
         }
        },
        {
         "line": {
          "color": "green",
          "width": 2
         },
         "mode": "lines",
         "name": "Price",
         "showlegend": false,
         "type": "scatter",
         "x": [
          "2024-10-30T00:00:00",
          "2024-10-31T00:00:00"
         ],
         "y": {
          "bdata": "AAAAgBQggkAAAADAHsWBQA==",
          "dtype": "f8"
         }
        },
        {
         "line": {
          "color": "green",
          "width": 2
         },
         "mode": "lines",
         "name": "Price",
         "showlegend": false,
         "type": "scatter",
         "x": [
          "2024-10-31T00:00:00",
          "2024-11-01T00:00:00"
         ],
         "y": {
          "bdata": "AAAAwB7FgUAAAADgUdiBQA==",
          "dtype": "f8"
         }
        },
        {
         "line": {
          "color": "green",
          "width": 2
         },
         "mode": "lines",
         "name": "Price",
         "showlegend": false,
         "type": "scatter",
         "x": [
          "2024-11-01T00:00:00",
          "2024-11-04T00:00:00"
         ],
         "y": {
          "bdata": "AAAA4FHYgUAAAADges6BQA==",
          "dtype": "f8"
         }
        },
        {
         "line": {
          "color": "green",
          "width": 2
         },
         "mode": "lines",
         "name": "Price",
         "showlegend": false,
         "type": "scatter",
         "x": [
          "2024-11-04T00:00:00",
          "2024-11-05T00:00:00"
         ],
         "y": {
          "bdata": "AAAA4HrOgUAAAACgmQWCQA==",
          "dtype": "f8"
         }
        },
        {
         "line": {
          "color": "green",
          "width": 2
         },
         "mode": "lines",
         "name": "Price",
         "showlegend": false,
         "type": "scatter",
         "x": [
          "2024-11-05T00:00:00",
          "2024-11-06T00:00:00"
         ],
         "y": {
          "bdata": "AAAAoJkFgkAAAADgUXiCQA==",
          "dtype": "f8"
         }
        },
        {
         "line": {
          "color": "green",
          "width": 2
         },
         "mode": "lines",
         "name": "Price",
         "showlegend": false,
         "type": "scatter",
         "x": [
          "2024-11-06T00:00:00",
          "2024-11-07T00:00:00"
         ],
         "y": {
          "bdata": "AAAA4FF4gkAAAABA4ZyCQA==",
          "dtype": "f8"
         }
        },
        {
         "line": {
          "color": "green",
          "width": 2
         },
         "mode": "lines",
         "name": "Price",
         "showlegend": false,
         "type": "scatter",
         "x": [
          "2024-11-07T00:00:00",
          "2024-11-08T00:00:00"
         ],
         "y": {
          "bdata": "AAAAQOGcgkAAAAAghbGCQA==",
          "dtype": "f8"
         }
        },
        {
         "line": {
          "color": "green",
          "width": 2
         },
         "mode": "lines",
         "name": "Price",
         "showlegend": false,
         "type": "scatter",
         "x": [
          "2024-11-08T00:00:00",
          "2024-11-11T00:00:00"
         ],
         "y": {
          "bdata": "AAAAIIWxgkAAAACAFLaCQA==",
          "dtype": "f8"
         }
        },
        {
         "line": {
          "color": "green",
          "width": 2
         },
         "mode": "lines",
         "name": "Price",
         "showlegend": false,
         "type": "scatter",
         "x": [
          "2024-11-11T00:00:00",
          "2024-11-12T00:00:00"
         ],
         "y": {
          "bdata": "AAAAgBS2gkAAAABAM6eCQA==",
          "dtype": "f8"
         }
        },
        {
         "line": {
          "color": "green",
          "width": 2
         },
         "mode": "lines",
         "name": "Price",
         "showlegend": false,
         "type": "scatter",
         "x": [
          "2024-11-12T00:00:00",
          "2024-11-13T00:00:00"
         ],
         "y": {
          "bdata": "AAAAQDOngkAAAAAghamCQA==",
          "dtype": "f8"
         }
        },
        {
         "line": {
          "color": "green",
          "width": 2
         },
         "mode": "lines",
         "name": "Price",
         "showlegend": false,
         "type": "scatter",
         "x": [
          "2024-11-13T00:00:00",
          "2024-11-14T00:00:00"
         ],
         "y": {
          "bdata": "AAAAIIWpgkAAAADAzIqCQA==",
          "dtype": "f8"
         }
        },
        {
         "line": {
          "color": "green",
          "width": 2
         },
         "mode": "lines",
         "name": "Price",
         "showlegend": false,
         "type": "scatter",
         "x": [
          "2024-11-14T00:00:00",
          "2024-11-15T00:00:00"
         ],
         "y": {
          "bdata": "AAAAwMyKgkAAAAAAAE6CQA==",
          "dtype": "f8"
         }
        },
        {
         "line": {
          "color": "green",
          "width": 2
         },
         "mode": "lines",
         "name": "Price",
         "showlegend": false,
         "type": "scatter",
         "x": [
          "2024-11-15T00:00:00",
          "2024-11-18T00:00:00"
         ],
         "y": {
          "bdata": "AAAAAABOgkAAAABAM2GCQA==",
          "dtype": "f8"
         }
        },
        {
         "line": {
          "color": "green",
          "width": 2
         },
         "mode": "lines",
         "name": "Price",
         "showlegend": false,
         "type": "scatter",
         "x": [
          "2024-11-18T00:00:00",
          "2024-11-19T00:00:00"
         ],
         "y": {
          "bdata": "AAAAQDNhgkAAAABgZnKCQA==",
          "dtype": "f8"
         }
        },
        {
         "line": {
          "color": "green",
          "width": 2
         },
         "mode": "lines",
         "name": "Price",
         "showlegend": false,
         "type": "scatter",
         "x": [
          "2024-11-19T00:00:00",
          "2024-11-20T00:00:00"
         ],
         "y": {
          "bdata": "AAAAYGZygkAAAAAAAHSCQA==",
          "dtype": "f8"
         }
        },
        {
         "line": {
          "color": "green",
          "width": 2
         },
         "mode": "lines",
         "name": "Price",
         "showlegend": false,
         "type": "scatter",
         "x": [
          "2024-11-20T00:00:00",
          "2024-11-21T00:00:00"
         ],
         "y": {
          "bdata": "AAAAAAB0gkAAAAAgXI2CQA==",
          "dtype": "f8"
         }
        },
        {
         "line": {
          "color": "green",
          "width": 2
         },
         "mode": "lines",
         "name": "Price",
         "showlegend": false,
         "type": "scatter",
         "x": [
          "2024-11-21T00:00:00",
          "2024-11-22T00:00:00"
         ],
         "y": {
          "bdata": "AAAAIFyNgkAAAACAFJyCQA==",
          "dtype": "f8"
         }
        },
        {
         "line": {
          "color": "green",
          "width": 2
         },
         "mode": "lines",
         "name": "Price",
         "showlegend": false,
         "type": "scatter",
         "x": [
          "2024-11-22T00:00:00",
          "2024-11-25T00:00:00"
         ],
         "y": {
          "bdata": "AAAAgBScgkAAAACAPayCQA==",
          "dtype": "f8"
         }
        },
        {
         "line": {
          "color": "green",
          "width": 2
         },
         "mode": "lines",
         "name": "Price",
         "showlegend": false,
         "type": "scatter",
         "x": [
          "2024-11-25T00:00:00",
          "2024-11-26T00:00:00"
         ],
         "y": {
          "bdata": "AAAAgD2sgkAAAABAM8WCQA==",
          "dtype": "f8"
         }
        },
        {
         "line": {
          "color": "green",
          "width": 2
         },
         "mode": "lines",
         "name": "Price",
         "showlegend": false,
         "type": "scatter",
         "x": [
          "2024-11-26T00:00:00",
          "2024-11-27T00:00:00"
         ],
         "y": {
          "bdata": "AAAAQDPFgkAAAADgo7aCQA==",
          "dtype": "f8"
         }
        },
        {
         "line": {
          "color": "green",
          "width": 2
         },
         "mode": "lines",
         "name": "Price",
         "showlegend": false,
         "type": "scatter",
         "x": [
          "2024-11-27T00:00:00",
          "2024-11-29T00:00:00"
         ],
         "y": {
          "bdata": "AAAA4KO2gkAAAABgZtSCQA==",
          "dtype": "f8"
         }
        },
        {
         "line": {
          "color": "green",
          "width": 2
         },
         "mode": "lines",
         "name": "Price",
         "showlegend": false,
         "type": "scatter",
         "x": [
          "2024-11-29T00:00:00",
          "2024-12-02T00:00:00"
         ],
         "y": {
          "bdata": "AAAAYGbUgkAAAABACt2CQA==",
          "dtype": "f8"
         }
        },
        {
         "line": {
          "color": "green",
          "width": 2
         },
         "mode": "lines",
         "name": "Price",
         "showlegend": false,
         "type": "scatter",
         "x": [
          "2024-12-02T00:00:00",
          "2024-12-03T00:00:00"
         ],
         "y": {
          "bdata": "AAAAQArdgkAAAACgR9+CQA==",
          "dtype": "f8"
         }
        },
        {
         "line": {
          "color": "green",
          "width": 2
         },
         "mode": "lines",
         "name": "Price",
         "showlegend": false,
         "type": "scatter",
         "x": [
          "2024-12-03T00:00:00",
          "2024-12-04T00:00:00"
         ],
         "y": {
          "bdata": "AAAAoEffgkAAAACgR/2CQA==",
          "dtype": "f8"
         }
        },
        {
         "line": {
          "color": "green",
          "width": 2
         },
         "mode": "lines",
         "name": "Price",
         "showlegend": false,
         "type": "scatter",
         "x": [
          "2024-12-04T00:00:00",
          "2024-12-05T00:00:00"
         ],
         "y": {
          "bdata": "AAAAoEf9gkAAAACgR/WCQA==",
          "dtype": "f8"
         }
        },
        {
         "line": {
          "color": "green",
          "width": 2
         },
         "mode": "lines",
         "name": "Price",
         "showlegend": false,
         "type": "scatter",
         "x": [
          "2024-12-05T00:00:00",
          "2024-12-06T00:00:00"
         ],
         "y": {
          "bdata": "AAAAoEf1gkAAAADgev6CQA==",
          "dtype": "f8"
         }
        },
        {
         "line": {
          "color": "green",
          "width": 2
         },
         "mode": "lines",
         "name": "Price",
         "showlegend": false,
         "type": "scatter",
         "x": [
          "2024-12-06T00:00:00",
          "2024-12-09T00:00:00"
         ],
         "y": {
          "bdata": "AAAA4Hr+gkAAAACgcOWCQA==",
          "dtype": "f8"
         }
        },
        {
         "line": {
          "color": "green",
          "width": 2
         },
         "mode": "lines",
         "name": "Price",
         "showlegend": false,
         "type": "scatter",
         "x": [
          "2024-12-09T00:00:00",
          "2024-12-10T00:00:00"
         ],
         "y": {
          "bdata": "AAAAoHDlgkAAAABgZtaCQA==",
          "dtype": "f8"
         }
        },
        {
         "line": {
          "color": "green",
          "width": 2
         },
         "mode": "lines",
         "name": "Price",
         "showlegend": false,
         "type": "scatter",
         "x": [
          "2024-12-10T00:00:00",
          "2024-12-11T00:00:00"
         ],
         "y": {
          "bdata": "AAAAYGbWgkAAAAAgrvuCQA==",
          "dtype": "f8"
         }
        },
        {
         "line": {
          "color": "green",
          "width": 2
         },
         "mode": "lines",
         "name": "Price",
         "showlegend": false,
         "type": "scatter",
         "x": [
          "2024-12-11T00:00:00",
          "2024-12-12T00:00:00"
         ],
         "y": {
          "bdata": "AAAAIK77gkAAAADgo+KCQA==",
          "dtype": "f8"
         }
        },
        {
         "line": {
          "color": "green",
          "width": 2
         },
         "mode": "lines",
         "name": "Price",
         "showlegend": false,
         "type": "scatter",
         "x": [
          "2024-12-12T00:00:00",
          "2024-12-13T00:00:00"
         ],
         "y": {
          "bdata": "AAAA4KPigkAAAAAgruGCQA==",
          "dtype": "f8"
         }
        },
        {
         "line": {
          "color": "green",
          "width": 2
         },
         "mode": "lines",
         "name": "Price",
         "showlegend": false,
         "type": "scatter",
         "x": [
          "2024-12-13T00:00:00",
          "2024-12-16T00:00:00"
         ],
         "y": {
          "bdata": "AAAAIK7hgkAAAADgUfaCQA==",
          "dtype": "f8"
         }
        },
        {
         "line": {
          "color": "green",
          "width": 2
         },
         "mode": "lines",
         "name": "Price",
         "showlegend": false,
         "type": "scatter",
         "x": [
          "2024-12-16T00:00:00",
          "2024-12-17T00:00:00"
         ],
         "y": {
          "bdata": "AAAA4FH2gkAAAADgUeKCQA==",
          "dtype": "f8"
         }
        },
        {
         "line": {
          "color": "green",
          "width": 2
         },
         "mode": "lines",
         "name": "Price",
         "showlegend": false,
         "type": "scatter",
         "x": [
          "2024-12-17T00:00:00",
          "2024-12-18T00:00:00"
         ],
         "y": {
          "bdata": "AAAA4FHigkAAAACAPVKCQA==",
          "dtype": "f8"
         }
        },
        {
         "line": {
          "color": "green",
          "width": 2
         },
         "mode": "lines",
         "name": "Price",
         "showlegend": false,
         "type": "scatter",
         "x": [
          "2024-12-18T00:00:00",
          "2024-12-19T00:00:00"
         ],
         "y": {
          "bdata": "AAAAgD1SgkAAAADAzFCCQA==",
          "dtype": "f8"
         }
        },
        {
         "line": {
          "color": "green",
          "width": 2
         },
         "mode": "lines",
         "name": "Price",
         "showlegend": false,
         "type": "scatter",
         "x": [
          "2024-12-19T00:00:00",
          "2024-12-20T00:00:00"
         ],
         "y": {
          "bdata": "AAAAwMxQgkAAAABAM3mCQA==",
          "dtype": "f8"
         }
        },
        {
         "line": {
          "color": "green",
          "width": 2
         },
         "mode": "lines",
         "name": "Price",
         "showlegend": false,
         "type": "scatter",
         "x": [
          "2024-12-20T00:00:00",
          "2024-12-23T00:00:00"
         ],
         "y": {
          "bdata": "AAAAQDN5gkAAAAAghZWCQA==",
          "dtype": "f8"
         }
        },
        {
         "line": {
          "color": "red",
          "width": 2
         },
         "mode": "lines",
         "name": "Price",
         "showlegend": false,
         "type": "scatter",
         "x": [
          "2024-12-23T00:00:00",
          "2024-12-24T00:00:00"
         ],
         "y": {
          "bdata": "AAAAIIWVgkAAAABgZsqCQA==",
          "dtype": "f8"
         }
        },
        {
         "line": {
          "color": "green",
          "width": 2
         },
         "mode": "lines",
         "name": "Price",
         "showlegend": false,
         "type": "scatter",
         "x": [
          "2024-12-24T00:00:00",
          "2024-12-26T00:00:00"
         ],
         "y": {
          "bdata": "AAAAYGbKgkAAAABguMqCQA==",
          "dtype": "f8"
         }
        },
        {
         "line": {
          "color": "green",
          "width": 2
         },
         "mode": "lines",
         "name": "Price",
         "showlegend": false,
         "type": "scatter",
         "x": [
          "2024-12-26T00:00:00",
          "2024-12-27T00:00:00"
         ],
         "y": {
          "bdata": "AAAAYLjKgkAAAACAFJiCQA==",
          "dtype": "f8"
         }
        },
        {
         "line": {
          "color": "red",
          "width": 2
         },
         "mode": "lines",
         "name": "Price",
         "showlegend": false,
         "type": "scatter",
         "x": [
          "2024-12-27T00:00:00",
          "2024-12-30T00:00:00"
         ],
         "y": {
          "bdata": "AAAAgBSYgkAAAACAwmGCQA==",
          "dtype": "f8"
         }
        },
        {
         "line": {
          "color": "red",
          "width": 2
         },
         "mode": "lines",
         "name": "Price",
         "showlegend": false,
         "type": "scatter",
         "x": [
          "2024-12-30T00:00:00",
          "2024-12-31T00:00:00"
         ],
         "y": {
          "bdata": "AAAAgMJhgkAAAADgo1CCQA==",
          "dtype": "f8"
         }
        },
        {
         "line": {
          "color": "red",
          "width": 2
         },
         "mode": "lines",
         "name": "Price",
         "showlegend": false,
         "type": "scatter",
         "x": [
          "2024-12-31T00:00:00",
          "2025-01-02T00:00:00"
         ],
         "y": {
          "bdata": "AAAA4KNQgkAAAADAHkWCQA==",
          "dtype": "f8"
         }
        },
        {
         "line": {
          "color": "red",
          "width": 2
         },
         "mode": "lines",
         "name": "Price",
         "showlegend": false,
         "type": "scatter",
         "x": [
          "2025-01-02T00:00:00",
          "2025-01-03T00:00:00"
         ],
         "y": {
          "bdata": "AAAAwB5FgkAAAACgmX+CQA==",
          "dtype": "f8"
         }
        },
        {
         "line": {
          "color": "green",
          "width": 2
         },
         "mode": "lines",
         "name": "Price",
         "showlegend": false,
         "type": "scatter",
         "x": [
          "2025-01-03T00:00:00",
          "2025-01-06T00:00:00"
         ],
         "y": {
          "bdata": "AAAAoJl/gkAAAABA4ZqCQA==",
          "dtype": "f8"
         }
        },
        {
         "line": {
          "color": "green",
          "width": 2
         },
         "mode": "lines",
         "name": "Price",
         "showlegend": false,
         "type": "scatter",
         "x": [
          "2025-01-06T00:00:00",
          "2025-01-07T00:00:00"
         ],
         "y": {
          "bdata": "AAAAQOGagkAAAABACmWCQA==",
          "dtype": "f8"
         }
        },
        {
         "line": {
          "color": "red",
          "width": 2
         },
         "mode": "lines",
         "name": "Price",
         "showlegend": false,
         "type": "scatter",
         "x": [
          "2025-01-07T00:00:00",
          "2025-01-08T00:00:00"
         ],
         "y": {
          "bdata": "AAAAQAplgkAAAACA62uCQA==",
          "dtype": "f8"
         }
        },
        {
         "line": {
          "color": "red",
          "width": 2
         },
         "mode": "lines",
         "name": "Price",
         "showlegend": false,
         "type": "scatter",
         "x": [
          "2025-01-08T00:00:00",
          "2025-01-10T00:00:00"
         ],
         "y": {
          "bdata": "AAAAgOtrgkAAAACA6yOCQA==",
          "dtype": "f8"
         }
        },
        {
         "line": {
          "color": "red",
          "width": 2
         },
         "mode": "lines",
         "name": "Price",
         "showlegend": false,
         "type": "scatter",
         "x": [
          "2025-01-10T00:00:00",
          "2025-01-13T00:00:00"
         ],
         "y": {
          "bdata": "AAAAgOsjgkAAAADAHiuCQA==",
          "dtype": "f8"
         }
        },
        {
         "line": {
          "color": "red",
          "width": 2
         },
         "mode": "lines",
         "name": "Price",
         "showlegend": false,
         "type": "scatter",
         "x": [
          "2025-01-13T00:00:00",
          "2025-01-14T00:00:00"
         ],
         "y": {
          "bdata": "AAAAwB4rgkAAAAAghTGCQA==",
          "dtype": "f8"
         }
        },
        {
         "line": {
          "color": "red",
          "width": 2
         },
         "mode": "lines",
         "name": "Price",
         "showlegend": false,
         "type": "scatter",
         "x": [
          "2025-01-14T00:00:00",
          "2025-01-15T00:00:00"
         ],
         "y": {
          "bdata": "AAAAIIUxgkAAAACAPYaCQA==",
          "dtype": "f8"
         }
        },
        {
         "line": {
          "color": "red",
          "width": 2
         },
         "mode": "lines",
         "name": "Price",
         "showlegend": false,
         "type": "scatter",
         "x": [
          "2025-01-15T00:00:00",
          "2025-01-16T00:00:00"
         ],
         "y": {
          "bdata": "AAAAgD2GgkAAAADAHn2CQA==",
          "dtype": "f8"
         }
        },
        {
         "line": {
          "color": "red",
          "width": 2
         },
         "mode": "lines",
         "name": "Price",
         "showlegend": false,
         "type": "scatter",
         "x": [
          "2025-01-16T00:00:00",
          "2025-01-17T00:00:00"
         ],
         "y": {
          "bdata": "AAAAwB59gkAAAADgo6yCQA==",
          "dtype": "f8"
         }
        },
        {
         "line": {
          "color": "red",
          "width": 2
         },
         "mode": "lines",
         "name": "Price",
         "showlegend": false,
         "type": "scatter",
         "x": [
          "2025-01-17T00:00:00",
          "2025-01-21T00:00:00"
         ],
         "y": {
          "bdata": "AAAA4KOsgkAAAABgZtiCQA==",
          "dtype": "f8"
         }
        },
        {
         "line": {
          "color": "red",
          "width": 2
         },
         "mode": "lines",
         "name": "Price",
         "showlegend": false,
         "type": "scatter",
         "x": [
          "2025-01-21T00:00:00",
          "2025-01-22T00:00:00"
         ],
         "y": {
          "bdata": "AAAAYGbYgkAAAAAghfOCQA==",
          "dtype": "f8"
         }
        },
        {
         "line": {
          "color": "red",
          "width": 2
         },
         "mode": "lines",
         "name": "Price",
         "showlegend": false,
         "type": "scatter",
         "x": [
          "2025-01-22T00:00:00",
          "2025-01-23T00:00:00"
         ],
         "y": {
          "bdata": "AAAAIIXzgkAAAAAAAA6DQA==",
          "dtype": "f8"
         }
        },
        {
         "line": {
          "color": "green",
          "width": 2
         },
         "mode": "lines",
         "name": "Price",
         "showlegend": false,
         "type": "scatter",
         "x": [
          "2025-01-23T00:00:00",
          "2025-01-24T00:00:00"
         ],
         "y": {
          "bdata": "AAAAAAAOg0AAAACAwv+CQA==",
          "dtype": "f8"
         }
        },
        {
         "line": {
          "color": "green",
          "width": 2
         },
         "mode": "lines",
         "name": "Price",
         "showlegend": false,
         "type": "scatter",
         "x": [
          "2025-01-24T00:00:00",
          "2025-01-27T00:00:00"
         ],
         "y": {
          "bdata": "AAAAgML/gkAAAADA9bqCQA==",
          "dtype": "f8"
         }
        },
        {
         "line": {
          "color": "red",
          "width": 2
         },
         "mode": "lines",
         "name": "Price",
         "showlegend": false,
         "type": "scatter",
         "x": [
          "2025-01-27T00:00:00",
          "2025-01-28T00:00:00"
         ],
         "y": {
          "bdata": "AAAAwPW6gkAAAAAAKeSCQA==",
          "dtype": "f8"
         }
        },
        {
         "line": {
          "color": "green",
          "width": 2
         },
         "mode": "lines",
         "name": "Price",
         "showlegend": false,
         "type": "scatter",
         "x": [
          "2025-01-28T00:00:00",
          "2025-01-29T00:00:00"
         ],
         "y": {
          "bdata": "AAAAACnkgkAAAADges6CQA==",
          "dtype": "f8"
         }
        },
        {
         "line": {
          "color": "red",
          "width": 2
         },
         "mode": "lines",
         "name": "Price",
         "showlegend": false,
         "type": "scatter",
         "x": [
          "2025-01-29T00:00:00",
          "2025-01-30T00:00:00"
         ],
         "y": {
          "bdata": "AAAA4HrOgkAAAADgUeiCQA==",
          "dtype": "f8"
         }
        },
        {
         "line": {
          "color": "green",
          "width": 2
         },
         "mode": "lines",
         "name": "Price",
         "showlegend": false,
         "type": "scatter",
         "x": [
          "2025-01-30T00:00:00",
          "2025-01-31T00:00:00"
         ],
         "y": {
          "bdata": "AAAA4FHogkAAAABgj86CQA==",
          "dtype": "f8"
         }
        },
        {
         "line": {
          "color": "red",
          "width": 2
         },
         "mode": "lines",
         "name": "Price",
         "showlegend": false,
         "type": "scatter",
         "x": [
          "2025-01-31T00:00:00",
          "2025-02-03T00:00:00"
         ],
         "y": {
          "bdata": "AAAAYI/OgkAAAAAAKa6CQA==",
          "dtype": "f8"
         }
        },
        {
         "line": {
          "color": "red",
          "width": 2
         },
         "mode": "lines",
         "name": "Price",
         "showlegend": false,
         "type": "scatter",
         "x": [
          "2025-02-03T00:00:00",
          "2025-02-04T00:00:00"
         ],
         "y": {
          "bdata": "AAAAACmugkAAAACAPc6CQA==",
          "dtype": "f8"
         }
        },
        {
         "line": {
          "color": "red",
          "width": 2
         },
         "mode": "lines",
         "name": "Price",
         "showlegend": false,
         "type": "scatter",
         "x": [
          "2025-02-04T00:00:00",
          "2025-02-05T00:00:00"
         ],
         "y": {
          "bdata": "AAAAgD3OgkAAAACAwuGCQA==",
          "dtype": "f8"
         }
        },
        {
         "line": {
          "color": "green",
          "width": 2
         },
         "mode": "lines",
         "name": "Price",
         "showlegend": false,
         "type": "scatter",
         "x": [
          "2025-02-05T00:00:00",
          "2025-02-06T00:00:00"
         ],
         "y": {
          "bdata": "AAAAgMLhgkAAAABgj/KCQA==",
          "dtype": "f8"
         }
        },
        {
         "line": {
          "color": "green",
          "width": 2
         },
         "mode": "lines",
         "name": "Price",
         "showlegend": false,
         "type": "scatter",
         "x": [
          "2025-02-06T00:00:00",
          "2025-02-07T00:00:00"
         ],
         "y": {
          "bdata": "AAAAYI/ygkAAAAAAKcaCQA==",
          "dtype": "f8"
         }
        },
        {
         "line": {
          "color": "green",
          "width": 2
         },
         "mode": "lines",
         "name": "Price",
         "showlegend": false,
         "type": "scatter",
         "x": [
          "2025-02-07T00:00:00",
          "2025-02-10T00:00:00"
         ],
         "y": {
          "bdata": "AAAAACnGgkAAAADAzOaCQA==",
          "dtype": "f8"
         }
        },
        {
         "line": {
          "color": "green",
          "width": 2
         },
         "mode": "lines",
         "name": "Price",
         "showlegend": false,
         "type": "scatter",
         "x": [
          "2025-02-10T00:00:00",
          "2025-02-11T00:00:00"
         ],
         "y": {
          "bdata": "AAAAwMzmgkAAAADgeuqCQA==",
          "dtype": "f8"
         }
        },
        {
         "line": {
          "color": "green",
          "width": 2
         },
         "mode": "lines",
         "name": "Price",
         "showlegend": false,
         "type": "scatter",
         "x": [
          "2025-02-11T00:00:00",
          "2025-02-12T00:00:00"
         ],
         "y": {
          "bdata": "AAAA4HrqgkAAAABA4dqCQA==",
          "dtype": "f8"
         }
        },
        {
         "line": {
          "color": "green",
          "width": 2
         },
         "mode": "lines",
         "name": "Price",
         "showlegend": false,
         "type": "scatter",
         "x": [
          "2025-02-12T00:00:00",
          "2025-02-13T00:00:00"
         ],
         "y": {
          "bdata": "AAAAQOHagkAAAAAA1w2DQA==",
          "dtype": "f8"
         }
        },
        {
         "line": {
          "color": "green",
          "width": 2
         },
         "mode": "lines",
         "name": "Price",
         "showlegend": false,
         "type": "scatter",
         "x": [
          "2025-02-13T00:00:00",
          "2025-02-14T00:00:00"
         ],
         "y": {
          "bdata": "AAAAANcNg0AAAACgmQ2DQA==",
          "dtype": "f8"
         }
        },
        {
         "line": {
          "color": "green",
          "width": 2
         },
         "mode": "lines",
         "name": "Price",
         "showlegend": false,
         "type": "scatter",
         "x": [
          "2025-02-14T00:00:00",
          "2025-02-18T00:00:00"
         ],
         "y": {
          "bdata": "AAAAoJkNg0AAAACA6xuDQA==",
          "dtype": "f8"
         }
        },
        {
         "line": {
          "color": "green",
          "width": 2
         },
         "mode": "lines",
         "name": "Price",
         "showlegend": false,
         "type": "scatter",
         "x": [
          "2025-02-18T00:00:00",
          "2025-02-19T00:00:00"
         ],
         "y": {
          "bdata": "AAAAgOsbg0AAAACgcCeDQA==",
          "dtype": "f8"
         }
        },
        {
         "line": {
          "color": "green",
          "width": 2
         },
         "mode": "lines",
         "name": "Price",
         "showlegend": false,
         "type": "scatter",
         "x": [
          "2025-02-19T00:00:00",
          "2025-02-20T00:00:00"
         ],
         "y": {
          "bdata": "AAAAoHAng0AAAABAChODQA==",
          "dtype": "f8"
         }
        },
        {
         "line": {
          "color": "green",
          "width": 2
         },
         "mode": "lines",
         "name": "Price",
         "showlegend": false,
         "type": "scatter",
         "x": [
          "2025-02-20T00:00:00",
          "2025-02-21T00:00:00"
         ],
         "y": {
          "bdata": "AAAAQAoTg0AAAAAghb+CQA==",
          "dtype": "f8"
         }
        },
        {
         "line": {
          "color": "green",
          "width": 2
         },
         "mode": "lines",
         "name": "Price",
         "showlegend": false,
         "type": "scatter",
         "x": [
          "2025-02-21T00:00:00",
          "2025-02-24T00:00:00"
         ],
         "y": {
          "bdata": "AAAAIIW/gkAAAAAgrqmCQA==",
          "dtype": "f8"
         }
        },
        {
         "line": {
          "color": "green",
          "width": 2
         },
         "mode": "lines",
         "name": "Price",
         "showlegend": false,
         "type": "scatter",
         "x": [
          "2025-02-24T00:00:00",
          "2025-02-25T00:00:00"
         ],
         "y": {
          "bdata": "AAAAIK6pgkAAAACA65GCQA==",
          "dtype": "f8"
         }
        },
        {
         "line": {
          "color": "green",
          "width": 2
         },
         "mode": "lines",
         "name": "Price",
         "showlegend": false,
         "type": "scatter",
         "x": [
          "2025-02-25T00:00:00",
          "2025-02-26T00:00:00"
         ],
         "y": {
          "bdata": "AAAAgOuRgkAAAADgUZSCQA==",
          "dtype": "f8"
         }
        },
        {
         "line": {
          "color": "green",
          "width": 2
         },
         "mode": "lines",
         "name": "Price",
         "showlegend": false,
         "type": "scatter",
         "x": [
          "2025-02-26T00:00:00",
          "2025-02-27T00:00:00"
         ],
         "y": {
          "bdata": "AAAA4FGUgkAAAABgZkiCQA==",
          "dtype": "f8"
         }
        },
        {
         "line": {
          "color": "green",
          "width": 2
         },
         "mode": "lines",
         "name": "Price",
         "showlegend": false,
         "type": "scatter",
         "x": [
          "2025-02-27T00:00:00",
          "2025-02-28T00:00:00"
         ],
         "y": {
          "bdata": "AAAAYGZIgkAAAACgcJGCQA==",
          "dtype": "f8"
         }
        },
        {
         "line": {
          "color": "green",
          "width": 2
         },
         "mode": "lines",
         "name": "Price",
         "showlegend": false,
         "type": "scatter",
         "x": [
          "2025-02-28T00:00:00",
          "2025-03-03T00:00:00"
         ],
         "y": {
          "bdata": "AAAAoHCRgkAAAAAAKT6CQA==",
          "dtype": "f8"
         }
        },
        {
         "line": {
          "color": "red",
          "width": 2
         },
         "mode": "lines",
         "name": "Price",
         "showlegend": false,
         "type": "scatter",
         "x": [
          "2025-03-03T00:00:00",
          "2025-03-04T00:00:00"
         ],
         "y": {
          "bdata": "AAAAACk+gkAAAABA4QaCQA==",
          "dtype": "f8"
         }
        },
        {
         "line": {
          "color": "red",
          "width": 2
         },
         "mode": "lines",
         "name": "Price",
         "showlegend": false,
         "type": "scatter",
         "x": [
          "2025-03-04T00:00:00",
          "2025-03-05T00:00:00"
         ],
         "y": {
          "bdata": "AAAAQOEGgkAAAADgejiCQA==",
          "dtype": "f8"
         }
        },
        {
         "line": {
          "color": "red",
          "width": 2
         },
         "mode": "lines",
         "name": "Price",
         "showlegend": false,
         "type": "scatter",
         "x": [
          "2025-03-05T00:00:00",
          "2025-03-06T00:00:00"
         ],
         "y": {
          "bdata": "AAAA4Ho4gkAAAAAgruWBQA==",
          "dtype": "f8"
         }
        },
        {
         "line": {
          "color": "red",
          "width": 2
         },
         "mode": "lines",
         "name": "Price",
         "showlegend": false,
         "type": "scatter",
         "x": [
          "2025-03-06T00:00:00",
          "2025-03-07T00:00:00"
         ],
         "y": {
          "bdata": "AAAAIK7lgUAAAAAgXP+BQA==",
          "dtype": "f8"
         }
        },
        {
         "line": {
          "color": "red",
          "width": 2
         },
         "mode": "lines",
         "name": "Price",
         "showlegend": false,
         "type": "scatter",
         "x": [
          "2025-03-07T00:00:00",
          "2025-03-10T00:00:00"
         ],
         "y": {
          "bdata": "AAAAIFz/gUAAAADgo4SBQA==",
          "dtype": "f8"
         }
        },
        {
         "line": {
          "color": "red",
          "width": 2
         },
         "mode": "lines",
         "name": "Price",
         "showlegend": false,
         "type": "scatter",
         "x": [
          "2025-03-10T00:00:00",
          "2025-03-11T00:00:00"
         ],
         "y": {
          "bdata": "AAAA4KOEgUAAAAAgXF+BQA==",
          "dtype": "f8"
         }
        },
        {
         "line": {
          "color": "red",
          "width": 2
         },
         "mode": "lines",
         "name": "Price",
         "showlegend": false,
         "type": "scatter",
         "x": [
          "2025-03-11T00:00:00",
          "2025-03-12T00:00:00"
         ],
         "y": {
          "bdata": "AAAAIFxfgUAAAADA9XaBQA==",
          "dtype": "f8"
         }
        },
        {
         "line": {
          "color": "red",
          "width": 2
         },
         "mode": "lines",
         "name": "Price",
         "showlegend": false,
         "type": "scatter",
         "x": [
          "2025-03-12T00:00:00",
          "2025-03-13T00:00:00"
         ],
         "y": {
          "bdata": "AAAAwPV2gUAAAAAgXDuBQA==",
          "dtype": "f8"
         }
        },
        {
         "line": {
          "color": "red",
          "width": 2
         },
         "mode": "lines",
         "name": "Price",
         "showlegend": false,
         "type": "scatter",
         "x": [
          "2025-03-13T00:00:00",
          "2025-03-14T00:00:00"
         ],
         "y": {
          "bdata": "AAAAIFw7gUAAAADgepaBQA==",
          "dtype": "f8"
         }
        },
        {
         "line": {
          "color": "red",
          "width": 2
         },
         "mode": "lines",
         "name": "Price",
         "showlegend": false,
         "type": "scatter",
         "x": [
          "2025-03-14T00:00:00",
          "2025-03-17T00:00:00"
         ],
         "y": {
          "bdata": "AAAA4HqWgUAAAABAM7mBQA==",
          "dtype": "f8"
         }
        },
        {
         "line": {
          "color": "red",
          "width": 2
         },
         "mode": "lines",
         "name": "Price",
         "showlegend": false,
         "type": "scatter",
         "x": [
          "2025-03-17T00:00:00",
          "2025-03-18T00:00:00"
         ],
         "y": {
          "bdata": "AAAAQDO5gUAAAAAAKYiBQA==",
          "dtype": "f8"
         }
        },
        {
         "line": {
          "color": "red",
          "width": 2
         },
         "mode": "lines",
         "name": "Price",
         "showlegend": false,
         "type": "scatter",
         "x": [
          "2025-03-18T00:00:00",
          "2025-03-19T00:00:00"
         ],
         "y": {
          "bdata": "AAAAACmIgUAAAABACrmBQA==",
          "dtype": "f8"
         }
        },
        {
         "line": {
          "color": "red",
          "width": 2
         },
         "mode": "lines",
         "name": "Price",
         "showlegend": false,
         "type": "scatter",
         "x": [
          "2025-03-19T00:00:00",
          "2025-03-20T00:00:00"
         ],
         "y": {
          "bdata": "AAAAQAq5gUAAAACA66uBQA==",
          "dtype": "f8"
         }
        },
        {
         "line": {
          "color": "red",
          "width": 2
         },
         "mode": "lines",
         "name": "Price",
         "showlegend": false,
         "type": "scatter",
         "x": [
          "2025-03-20T00:00:00",
          "2025-03-21T00:00:00"
         ],
         "y": {
          "bdata": "AAAAgOurgUAAAAAA15+BQA==",
          "dtype": "f8"
         }
        },
        {
         "line": {
          "color": "red",
          "width": 2
         },
         "mode": "lines",
         "name": "Price",
         "showlegend": false,
         "type": "scatter",
         "x": [
          "2025-03-21T00:00:00",
          "2025-03-24T00:00:00"
         ],
         "y": {
          "bdata": "AAAAANefgUAAAADgo/CBQA==",
          "dtype": "f8"
         }
        },
        {
         "line": {
          "color": "red",
          "width": 2
         },
         "mode": "lines",
         "name": "Price",
         "showlegend": false,
         "type": "scatter",
         "x": [
          "2025-03-24T00:00:00",
          "2025-03-25T00:00:00"
         ],
         "y": {
          "bdata": "AAAA4KPwgUAAAAAgrvuBQA==",
          "dtype": "f8"
         }
        },
        {
         "line": {
          "color": "red",
          "width": 2
         },
         "mode": "lines",
         "name": "Price",
         "showlegend": false,
         "type": "scatter",
         "x": [
          "2025-03-25T00:00:00",
          "2025-03-26T00:00:00"
         ],
         "y": {
          "bdata": "AAAAIK77gUAAAABguMSBQA==",
          "dtype": "f8"
         }
        },
        {
         "line": {
          "color": "red",
          "width": 2
         },
         "mode": "lines",
         "name": "Price",
         "showlegend": false,
         "type": "scatter",
         "x": [
          "2025-03-26T00:00:00",
          "2025-03-27T00:00:00"
         ],
         "y": {
          "bdata": "AAAAYLjEgUAAAADgo7iBQA==",
          "dtype": "f8"
         }
        },
        {
         "line": {
          "color": "red",
          "width": 2
         },
         "mode": "lines",
         "name": "Price",
         "showlegend": false,
         "type": "scatter",
         "x": [
          "2025-03-27T00:00:00",
          "2025-03-28T00:00:00"
         ],
         "y": {
          "bdata": "AAAA4KO4gUAAAACgR12BQA==",
          "dtype": "f8"
         }
        },
        {
         "line": {
          "color": "red",
          "width": 2
         },
         "mode": "lines",
         "name": "Price",
         "showlegend": false,
         "type": "scatter",
         "x": [
          "2025-03-28T00:00:00",
          "2025-03-31T00:00:00"
         ],
         "y": {
          "bdata": "AAAAoEddgUAAAADAHnuBQA==",
          "dtype": "f8"
         }
        },
        {
         "line": {
          "color": "red",
          "width": 2
         },
         "mode": "lines",
         "name": "Price",
         "showlegend": false,
         "type": "scatter",
         "x": [
          "2025-03-31T00:00:00",
          "2025-04-01T00:00:00"
         ],
         "y": {
          "bdata": "AAAAwB57gUAAAACAwoeBQA==",
          "dtype": "f8"
         }
        },
        {
         "line": {
          "color": "red",
          "width": 2
         },
         "mode": "lines",
         "name": "Price",
         "showlegend": false,
         "type": "scatter",
         "x": [
          "2025-04-01T00:00:00",
          "2025-04-02T00:00:00"
         ],
         "y": {
          "bdata": "AAAAgMKHgUAAAAAAKaSBQA==",
          "dtype": "f8"
         }
        },
        {
         "line": {
          "color": "red",
          "width": 2
         },
         "mode": "lines",
         "name": "Price",
         "showlegend": false,
         "type": "scatter",
         "x": [
          "2025-04-02T00:00:00",
          "2025-04-03T00:00:00"
         ],
         "y": {
          "bdata": "AAAAACmkgUAAAACgmcWAQA==",
          "dtype": "f8"
         }
        },
        {
         "line": {
          "color": "red",
          "width": 2
         },
         "mode": "lines",
         "name": "Price",
         "showlegend": false,
         "type": "scatter",
         "x": [
          "2025-04-03T00:00:00",
          "2025-04-04T00:00:00"
         ],
         "y": {
          "bdata": "AAAAoJnFgEAAAADgepR/QA==",
          "dtype": "f8"
         }
        },
        {
         "line": {
          "color": "red",
          "width": 2
         },
         "mode": "lines",
         "name": "Price",
         "showlegend": false,
         "type": "scatter",
         "x": [
          "2025-04-04T00:00:00",
          "2025-04-07T00:00:00"
         ],
         "y": {
          "bdata": "AAAA4HqUf0AAAACAFIZ/QA==",
          "dtype": "f8"
         }
        },
        {
         "line": {
          "color": "red",
          "width": 2
         },
         "mode": "lines",
         "name": "Price",
         "showlegend": false,
         "type": "scatter",
         "x": [
          "2025-04-07T00:00:00",
          "2025-04-08T00:00:00"
         ],
         "y": {
          "bdata": "AAAAgBSGf0AAAAAgrgd/QA==",
          "dtype": "f8"
         }
        },
        {
         "line": {
          "color": "red",
          "width": 2
         },
         "mode": "lines",
         "name": "Price",
         "showlegend": false,
         "type": "scatter",
         "x": [
          "2025-04-08T00:00:00",
          "2025-04-09T00:00:00"
         ],
         "y": {
          "bdata": "AAAAIK4Hf0AAAADA9SSBQA==",
          "dtype": "f8"
         }
        },
        {
         "line": {
          "color": "red",
          "width": 2
         },
         "mode": "lines",
         "name": "Price",
         "showlegend": false,
         "type": "scatter",
         "x": [
          "2025-04-09T00:00:00",
          "2025-04-10T00:00:00"
         ],
         "y": {
          "bdata": "AAAAwPUkgUAAAADgo2SAQA==",
          "dtype": "f8"
         }
        },
        {
         "line": {
          "color": "red",
          "width": 2
         },
         "mode": "lines",
         "name": "Price",
         "showlegend": false,
         "type": "scatter",
         "x": [
          "2025-04-10T00:00:00",
          "2025-04-11T00:00:00"
         ],
         "y": {
          "bdata": "AAAA4KNkgEAAAAAgha+AQA==",
          "dtype": "f8"
         }
        },
        {
         "line": {
          "color": "red",
          "width": 2
         },
         "mode": "lines",
         "name": "Price",
         "showlegend": false,
         "type": "scatter",
         "x": [
          "2025-04-11T00:00:00",
          "2025-04-14T00:00:00"
         ],
         "y": {
          "bdata": "AAAAIIWvgEAAAADA9diAQA==",
          "dtype": "f8"
         }
        }
       ],
       "layout": {
        "legend": {
         "orientation": "h",
         "x": 0.45,
         "xanchor": "center",
         "y": 1.15
        },
        "showlegend": true,
        "template": {
         "data": {
          "bar": [
           {
            "error_x": {
             "color": "#f2f5fa"
            },
            "error_y": {
             "color": "#f2f5fa"
            },
            "marker": {
             "line": {
              "color": "rgb(17,17,17)",
              "width": 0.5
             },
             "pattern": {
              "fillmode": "overlay",
              "size": 10,
              "solidity": 0.2
             }
            },
            "type": "bar"
           }
          ],
          "barpolar": [
           {
            "marker": {
             "line": {
              "color": "rgb(17,17,17)",
              "width": 0.5
             },
             "pattern": {
              "fillmode": "overlay",
              "size": 10,
              "solidity": 0.2
             }
            },
            "type": "barpolar"
           }
          ],
          "carpet": [
           {
            "aaxis": {
             "endlinecolor": "#A2B1C6",
             "gridcolor": "#506784",
             "linecolor": "#506784",
             "minorgridcolor": "#506784",
             "startlinecolor": "#A2B1C6"
            },
            "baxis": {
             "endlinecolor": "#A2B1C6",
             "gridcolor": "#506784",
             "linecolor": "#506784",
             "minorgridcolor": "#506784",
             "startlinecolor": "#A2B1C6"
            },
            "type": "carpet"
           }
          ],
          "choropleth": [
           {
            "colorbar": {
             "outlinewidth": 0,
             "ticks": ""
            },
            "type": "choropleth"
           }
          ],
          "contour": [
           {
            "colorbar": {
             "outlinewidth": 0,
             "ticks": ""
            },
            "colorscale": [
             [
              0,
              "#0d0887"
             ],
             [
              0.1111111111111111,
              "#46039f"
             ],
             [
              0.2222222222222222,
              "#7201a8"
             ],
             [
              0.3333333333333333,
              "#9c179e"
             ],
             [
              0.4444444444444444,
              "#bd3786"
             ],
             [
              0.5555555555555556,
              "#d8576b"
             ],
             [
              0.6666666666666666,
              "#ed7953"
             ],
             [
              0.7777777777777778,
              "#fb9f3a"
             ],
             [
              0.8888888888888888,
              "#fdca26"
             ],
             [
              1,
              "#f0f921"
             ]
            ],
            "type": "contour"
           }
          ],
          "contourcarpet": [
           {
            "colorbar": {
             "outlinewidth": 0,
             "ticks": ""
            },
            "type": "contourcarpet"
           }
          ],
          "heatmap": [
           {
            "colorbar": {
             "outlinewidth": 0,
             "ticks": ""
            },
            "colorscale": [
             [
              0,
              "#0d0887"
             ],
             [
              0.1111111111111111,
              "#46039f"
             ],
             [
              0.2222222222222222,
              "#7201a8"
             ],
             [
              0.3333333333333333,
              "#9c179e"
             ],
             [
              0.4444444444444444,
              "#bd3786"
             ],
             [
              0.5555555555555556,
              "#d8576b"
             ],
             [
              0.6666666666666666,
              "#ed7953"
             ],
             [
              0.7777777777777778,
              "#fb9f3a"
             ],
             [
              0.8888888888888888,
              "#fdca26"
             ],
             [
              1,
              "#f0f921"
             ]
            ],
            "type": "heatmap"
           }
          ],
          "histogram": [
           {
            "marker": {
             "pattern": {
              "fillmode": "overlay",
              "size": 10,
              "solidity": 0.2
             }
            },
            "type": "histogram"
           }
          ],
          "histogram2d": [
           {
            "colorbar": {
             "outlinewidth": 0,
             "ticks": ""
            },
            "colorscale": [
             [
              0,
              "#0d0887"
             ],
             [
              0.1111111111111111,
              "#46039f"
             ],
             [
              0.2222222222222222,
              "#7201a8"
             ],
             [
              0.3333333333333333,
              "#9c179e"
             ],
             [
              0.4444444444444444,
              "#bd3786"
             ],
             [
              0.5555555555555556,
              "#d8576b"
             ],
             [
              0.6666666666666666,
              "#ed7953"
             ],
             [
              0.7777777777777778,
              "#fb9f3a"
             ],
             [
              0.8888888888888888,
              "#fdca26"
             ],
             [
              1,
              "#f0f921"
             ]
            ],
            "type": "histogram2d"
           }
          ],
          "histogram2dcontour": [
           {
            "colorbar": {
             "outlinewidth": 0,
             "ticks": ""
            },
            "colorscale": [
             [
              0,
              "#0d0887"
             ],
             [
              0.1111111111111111,
              "#46039f"
             ],
             [
              0.2222222222222222,
              "#7201a8"
             ],
             [
              0.3333333333333333,
              "#9c179e"
             ],
             [
              0.4444444444444444,
              "#bd3786"
             ],
             [
              0.5555555555555556,
              "#d8576b"
             ],
             [
              0.6666666666666666,
              "#ed7953"
             ],
             [
              0.7777777777777778,
              "#fb9f3a"
             ],
             [
              0.8888888888888888,
              "#fdca26"
             ],
             [
              1,
              "#f0f921"
             ]
            ],
            "type": "histogram2dcontour"
           }
          ],
          "mesh3d": [
           {
            "colorbar": {
             "outlinewidth": 0,
             "ticks": ""
            },
            "type": "mesh3d"
           }
          ],
          "parcoords": [
           {
            "line": {
             "colorbar": {
              "outlinewidth": 0,
              "ticks": ""
             }
            },
            "type": "parcoords"
           }
          ],
          "pie": [
           {
            "automargin": true,
            "type": "pie"
           }
          ],
          "scatter": [
           {
            "marker": {
             "line": {
              "color": "#283442"
             }
            },
            "type": "scatter"
           }
          ],
          "scatter3d": [
           {
            "line": {
             "colorbar": {
              "outlinewidth": 0,
              "ticks": ""
             }
            },
            "marker": {
             "colorbar": {
              "outlinewidth": 0,
              "ticks": ""
             }
            },
            "type": "scatter3d"
           }
          ],
          "scattercarpet": [
           {
            "marker": {
             "colorbar": {
              "outlinewidth": 0,
              "ticks": ""
             }
            },
            "type": "scattercarpet"
           }
          ],
          "scattergeo": [
           {
            "marker": {
             "colorbar": {
              "outlinewidth": 0,
              "ticks": ""
             }
            },
            "type": "scattergeo"
           }
          ],
          "scattergl": [
           {
            "marker": {
             "line": {
              "color": "#283442"
             }
            },
            "type": "scattergl"
           }
          ],
          "scattermapbox": [
           {
            "marker": {
             "colorbar": {
              "outlinewidth": 0,
              "ticks": ""
             }
            },
            "type": "scattermapbox"
           }
          ],
          "scatterpolar": [
           {
            "marker": {
             "colorbar": {
              "outlinewidth": 0,
              "ticks": ""
             }
            },
            "type": "scatterpolar"
           }
          ],
          "scatterpolargl": [
           {
            "marker": {
             "colorbar": {
              "outlinewidth": 0,
              "ticks": ""
             }
            },
            "type": "scatterpolargl"
           }
          ],
          "scatterternary": [
           {
            "marker": {
             "colorbar": {
              "outlinewidth": 0,
              "ticks": ""
             }
            },
            "type": "scatterternary"
           }
          ],
          "surface": [
           {
            "colorbar": {
             "outlinewidth": 0,
             "ticks": ""
            },
            "colorscale": [
             [
              0,
              "#0d0887"
             ],
             [
              0.1111111111111111,
              "#46039f"
             ],
             [
              0.2222222222222222,
              "#7201a8"
             ],
             [
              0.3333333333333333,
              "#9c179e"
             ],
             [
              0.4444444444444444,
              "#bd3786"
             ],
             [
              0.5555555555555556,
              "#d8576b"
             ],
             [
              0.6666666666666666,
              "#ed7953"
             ],
             [
              0.7777777777777778,
              "#fb9f3a"
             ],
             [
              0.8888888888888888,
              "#fdca26"
             ],
             [
              1,
              "#f0f921"
             ]
            ],
            "type": "surface"
           }
          ],
          "table": [
           {
            "cells": {
             "fill": {
              "color": "#506784"
             },
             "line": {
              "color": "rgb(17,17,17)"
             }
            },
            "header": {
             "fill": {
              "color": "#2a3f5f"
             },
             "line": {
              "color": "rgb(17,17,17)"
             }
            },
            "type": "table"
           }
          ]
         },
         "layout": {
          "annotationdefaults": {
           "arrowcolor": "#f2f5fa",
           "arrowhead": 0,
           "arrowwidth": 1
          },
          "annotations": [
           {
            "font": {
             "color": "black",
             "size": 90
            },
            "name": "draft watermark",
            "opacity": 0.1,
            "showarrow": false,
            "text": "humblDATA",
            "textangle": -25,
            "x": 0.5,
            "xref": "paper",
            "y": 0.5,
            "yref": "paper"
           }
          ],
          "autotypenumbers": "strict",
          "coloraxis": {
           "colorbar": {
            "outlinewidth": 0,
            "ticks": ""
           }
          },
          "colorscale": {
           "diverging": [
            [
             0,
             "#8e0152"
            ],
            [
             0.1,
             "#c51b7d"
            ],
            [
             0.2,
             "#de77ae"
            ],
            [
             0.3,
             "#f1b6da"
            ],
            [
             0.4,
             "#fde0ef"
            ],
            [
             0.5,
             "#f7f7f7"
            ],
            [
             0.6,
             "#e6f5d0"
            ],
            [
             0.7,
             "#b8e186"
            ],
            [
             0.8,
             "#7fbc41"
            ],
            [
             0.9,
             "#4d9221"
            ],
            [
             1,
             "#276419"
            ]
           ],
           "sequential": [
            [
             0,
             "#0d0887"
            ],
            [
             0.1111111111111111,
             "#46039f"
            ],
            [
             0.2222222222222222,
             "#7201a8"
            ],
            [
             0.3333333333333333,
             "#9c179e"
            ],
            [
             0.4444444444444444,
             "#bd3786"
            ],
            [
             0.5555555555555556,
             "#d8576b"
            ],
            [
             0.6666666666666666,
             "#ed7953"
            ],
            [
             0.7777777777777778,
             "#fb9f3a"
            ],
            [
             0.8888888888888888,
             "#fdca26"
            ],
            [
             1,
             "#f0f921"
            ]
           ],
           "sequentialminus": [
            [
             0,
             "#0d0887"
            ],
            [
             0.1111111111111111,
             "#46039f"
            ],
            [
             0.2222222222222222,
             "#7201a8"
            ],
            [
             0.3333333333333333,
             "#9c179e"
            ],
            [
             0.4444444444444444,
             "#bd3786"
            ],
            [
             0.5555555555555556,
             "#d8576b"
            ],
            [
             0.6666666666666666,
             "#ed7953"
            ],
            [
             0.7777777777777778,
             "#fb9f3a"
            ],
            [
             0.8888888888888888,
             "#fdca26"
            ],
            [
             1,
             "#f0f921"
            ]
           ]
          },
          "colorway": [
           "#636efa",
           "#EF553B",
           "#00cc96",
           "#ab63fa",
           "#FFA15A",
           "#19d3f3",
           "#FF6692",
           "#B6E880",
           "#FF97FF",
           "#FECB52"
          ],
          "font": {
           "color": "white"
          },
          "geo": {
           "bgcolor": "rgb(17,17,17)",
           "lakecolor": "rgb(17,17,17)",
           "landcolor": "rgb(17,17,17)",
           "showlakes": true,
           "showland": true,
           "subunitcolor": "#506784"
          },
          "hoverlabel": {
           "align": "left"
          },
          "hovermode": "closest",
          "legend": {
           "bgcolor": "rgb(0,0,0,0)",
           "bordercolor": "rgb(63,70,139)",
           "borderwidth": 0.5,
           "font": {
            "color": "white",
            "family": "open-sans",
            "size": 12
           },
           "orientation": "h",
           "traceorder": "normal",
           "x": 0.5,
           "xanchor": "center",
           "y": -0.15
          },
          "mapbox": {
           "style": "dark"
          },
          "paper_bgcolor": "rgb(0,0,0,0)",
          "plot_bgcolor": "rgb(0,0,0,0)",
          "polar": {
           "angularaxis": {
            "gridcolor": "#506784",
            "linecolor": "#506784",
            "ticks": ""
           },
           "bgcolor": "rgb(17,17,17)",
           "radialaxis": {
            "gridcolor": "#506784",
            "linecolor": "#506784",
            "ticks": ""
           }
          },
          "scene": {
           "xaxis": {
            "backgroundcolor": "rgb(17,17,17)",
            "gridcolor": "#506784",
            "gridwidth": 2,
            "linecolor": "#506784",
            "showbackground": true,
            "ticks": "",
            "zerolinecolor": "#C8D4E3"
           },
           "yaxis": {
            "backgroundcolor": "rgb(17,17,17)",
            "gridcolor": "#506784",
            "gridwidth": 2,
            "linecolor": "#506784",
            "showbackground": true,
            "ticks": "",
            "zerolinecolor": "#C8D4E3"
           },
           "zaxis": {
            "backgroundcolor": "rgb(17,17,17)",
            "gridcolor": "#506784",
            "gridwidth": 2,
            "linecolor": "#506784",
            "showbackground": true,
            "ticks": "",
            "zerolinecolor": "#C8D4E3"
           }
          },
          "shapedefaults": {
           "line": {
            "color": "#f2f5fa"
           }
          },
          "sliderdefaults": {
           "bgcolor": "#C8D4E3",
           "bordercolor": "rgb(17,17,17)",
           "borderwidth": 1,
           "tickwidth": 0
          },
          "ternary": {
           "aaxis": {
            "gridcolor": "#506784",
            "linecolor": "#506784",
            "ticks": ""
           },
           "baxis": {
            "gridcolor": "#506784",
            "linecolor": "#506784",
            "ticks": ""
           },
           "bgcolor": "rgb(17,17,17)",
           "caxis": {
            "gridcolor": "#506784",
            "linecolor": "#506784",
            "ticks": ""
           }
          },
          "title": {
           "x": 0.05
          },
          "updatemenudefaults": {
           "bgcolor": "#506784",
           "borderwidth": 0
          },
          "xaxis": {
           "automargin": true,
           "gridcolor": "#283442",
           "linecolor": "#506784",
           "ticks": "",
           "title": {
            "standoff": 15
           },
           "zerolinecolor": "#283442",
           "zerolinewidth": 2
          },
          "yaxis": {
           "automargin": true,
           "gridcolor": "#283442",
           "linecolor": "#506784",
           "side": "right",
           "ticks": "",
           "title": {
            "standoff": 15
           },
           "zerolinecolor": "#283442",
           "zerolinewidth": 2
          }
         }
        },
        "title": {
         "text": "Price Colored by Momentum for SPY"
        },
        "xaxis": {
         "title": {
          "text": "Date"
         }
        },
        "yaxis": {
         "title": {
          "text": "Price"
         }
        }
       }
      }
     },
     "metadata": {},
     "output_type": "display_data"
    }
   ],
   "source": [
    "simple_momentum.show()"
   ]
  },
  {
   "cell_type": "code",
   "execution_count": 117,
   "metadata": {},
   "outputs": [
    {
     "data": {
      "text/html": [
       "<div><style>\n",
       ".dataframe > thead > tr,\n",
       ".dataframe > tbody > tr {\n",
       "  text-align: right;\n",
       "  white-space: pre-wrap;\n",
       "}\n",
       "</style>\n",
       "<small>shape: (220, 5)</small><table border=\"1\" class=\"dataframe\"><thead><tr><th>date</th><th>close</th><th>symbol</th><th>momentum</th><th>momentum_signal</th></tr><tr><td>date</td><td>f64</td><td>str</td><td>f64</td><td>i8</td></tr></thead><tbody><tr><td>2024-05-29</td><td>526.099976</td><td>&quot;SPY&quot;</td><td>0.042023</td><td>1</td></tr><tr><td>2024-05-30</td><td>522.609985</td><td>&quot;SPY&quot;</td><td>0.037192</td><td>1</td></tr><tr><td>2024-05-31</td><td>527.369995</td><td>&quot;SPY&quot;</td><td>0.052195</td><td>1</td></tr><tr><td>2024-06-03</td><td>527.799988</td><td>&quot;SPY&quot;</td><td>0.05507</td><td>1</td></tr><tr><td>2024-06-04</td><td>528.390015</td><td>&quot;SPY&quot;</td><td>0.064954</td><td>1</td></tr><tr><td>&hellip;</td><td>&hellip;</td><td>&hellip;</td><td>&hellip;</td><td>&hellip;</td></tr><tr><td>2025-04-08</td><td>496.480011</td><td>&quot;SPY&quot;</td><td>-0.184726</td><td>0</td></tr><tr><td>2025-04-09</td><td>548.619995</td><td>&quot;SPY&quot;</td><td>-0.079877</td><td>0</td></tr><tr><td>2025-04-10</td><td>524.580017</td><td>&quot;SPY&quot;</td><td>-0.12519</td><td>0</td></tr><tr><td>2025-04-11</td><td>533.940002</td><td>&quot;SPY&quot;</td><td>-0.091414</td><td>0</td></tr><tr><td>2025-04-14</td><td>539.119995</td><td>&quot;SPY&quot;</td><td>-0.097244</td><td>0</td></tr></tbody></table></div>"
      ],
      "text/plain": [
       "shape: (220, 5)\n",
       "┌────────────┬────────────┬────────┬───────────┬─────────────────┐\n",
       "│ date       ┆ close      ┆ symbol ┆ momentum  ┆ momentum_signal │\n",
       "│ ---        ┆ ---        ┆ ---    ┆ ---       ┆ ---             │\n",
       "│ date       ┆ f64        ┆ str    ┆ f64       ┆ i8              │\n",
       "╞════════════╪════════════╪════════╪═══════════╪═════════════════╡\n",
       "│ 2024-05-29 ┆ 526.099976 ┆ SPY    ┆ 0.042023  ┆ 1               │\n",
       "│ 2024-05-30 ┆ 522.609985 ┆ SPY    ┆ 0.037192  ┆ 1               │\n",
       "│ 2024-05-31 ┆ 527.369995 ┆ SPY    ┆ 0.052195  ┆ 1               │\n",
       "│ 2024-06-03 ┆ 527.799988 ┆ SPY    ┆ 0.05507   ┆ 1               │\n",
       "│ 2024-06-04 ┆ 528.390015 ┆ SPY    ┆ 0.064954  ┆ 1               │\n",
       "│ …          ┆ …          ┆ …      ┆ …         ┆ …               │\n",
       "│ 2025-04-08 ┆ 496.480011 ┆ SPY    ┆ -0.184726 ┆ 0               │\n",
       "│ 2025-04-09 ┆ 548.619995 ┆ SPY    ┆ -0.079877 ┆ 0               │\n",
       "│ 2025-04-10 ┆ 524.580017 ┆ SPY    ┆ -0.12519  ┆ 0               │\n",
       "│ 2025-04-11 ┆ 533.940002 ┆ SPY    ┆ -0.091414 ┆ 0               │\n",
       "│ 2025-04-14 ┆ 539.119995 ┆ SPY    ┆ -0.097244 ┆ 0               │\n",
       "└────────────┴────────────┴────────┴───────────┴─────────────────┘"
      ]
     },
     "execution_count": 117,
     "metadata": {},
     "output_type": "execute_result"
    }
   ],
   "source": [
    "log_momentum.to_polars()"
   ]
  },
  {
   "cell_type": "code",
   "execution_count": 118,
   "metadata": {},
   "outputs": [
    {
     "data": {
      "application/vnd.plotly.v1+json": {
       "config": {
        "plotlyServerURL": "https://plot.ly"
       },
       "data": [
        {
         "line": {
          "color": "green",
          "width": 2
         },
         "mode": "lines",
         "name": "Price",
         "showlegend": true,
         "type": "scatter",
         "x": [
          "2024-05-29T00:00:00",
          "2024-05-30T00:00:00"
         ],
         "y": {
          "bdata": "AAAAwMxwgEAAAABA4VSAQA==",
          "dtype": "f8"
         }
        },
        {
         "line": {
          "color": "green",
          "width": 2
         },
         "mode": "lines",
         "name": "Price",
         "showlegend": false,
         "type": "scatter",
         "x": [
          "2024-05-30T00:00:00",
          "2024-05-31T00:00:00"
         ],
         "y": {
          "bdata": "AAAAQOFUgEAAAADA9XqAQA==",
          "dtype": "f8"
         }
        },
        {
         "line": {
          "color": "green",
          "width": 2
         },
         "mode": "lines",
         "name": "Price",
         "showlegend": false,
         "type": "scatter",
         "x": [
          "2024-05-31T00:00:00",
          "2024-06-03T00:00:00"
         ],
         "y": {
          "bdata": "AAAAwPV6gEAAAABgZn6AQA==",
          "dtype": "f8"
         }
        },
        {
         "line": {
          "color": "green",
          "width": 2
         },
         "mode": "lines",
         "name": "Price",
         "showlegend": false,
         "type": "scatter",
         "x": [
          "2024-06-03T00:00:00",
          "2024-06-04T00:00:00"
         ],
         "y": {
          "bdata": "AAAAYGZ+gEAAAADAHoOAQA==",
          "dtype": "f8"
         }
        },
        {
         "line": {
          "color": "green",
          "width": 2
         },
         "mode": "lines",
         "name": "Price",
         "showlegend": false,
         "type": "scatter",
         "x": [
          "2024-06-04T00:00:00",
          "2024-06-05T00:00:00"
         ],
         "y": {
          "bdata": "AAAAwB6DgEAAAAAgXLWAQA==",
          "dtype": "f8"
         }
        },
        {
         "line": {
          "color": "green",
          "width": 2
         },
         "mode": "lines",
         "name": "Price",
         "showlegend": false,
         "type": "scatter",
         "x": [
          "2024-06-05T00:00:00",
          "2024-06-06T00:00:00"
         ],
         "y": {
          "bdata": "AAAAIFy1gEAAAACgR7WAQA==",
          "dtype": "f8"
         }
        },
        {
         "line": {
          "color": "green",
          "width": 2
         },
         "mode": "lines",
         "name": "Price",
         "showlegend": false,
         "type": "scatter",
         "x": [
          "2024-06-06T00:00:00",
          "2024-06-07T00:00:00"
         ],
         "y": {
          "bdata": "AAAAoEe1gEAAAACAFLCAQA==",
          "dtype": "f8"
         }
        },
        {
         "line": {
          "color": "green",
          "width": 2
         },
         "mode": "lines",
         "name": "Price",
         "showlegend": false,
         "type": "scatter",
         "x": [
          "2024-06-07T00:00:00",
          "2024-06-10T00:00:00"
         ],
         "y": {
          "bdata": "AAAAgBSwgEAAAACgR72AQA==",
          "dtype": "f8"
         }
        },
        {
         "line": {
          "color": "green",
          "width": 2
         },
         "mode": "lines",
         "name": "Price",
         "showlegend": false,
         "type": "scatter",
         "x": [
          "2024-06-10T00:00:00",
          "2024-06-11T00:00:00"
         ],
         "y": {
          "bdata": "AAAAoEe9gEAAAACgmceAQA==",
          "dtype": "f8"
         }
        },
        {
         "line": {
          "color": "green",
          "width": 2
         },
         "mode": "lines",
         "name": "Price",
         "showlegend": false,
         "type": "scatter",
         "x": [
          "2024-06-11T00:00:00",
          "2024-06-12T00:00:00"
         ],
         "y": {
          "bdata": "AAAAoJnHgEAAAABA4eqAQA==",
          "dtype": "f8"
         }
        },
        {
         "line": {
          "color": "green",
          "width": 2
         },
         "mode": "lines",
         "name": "Price",
         "showlegend": false,
         "type": "scatter",
         "x": [
          "2024-06-12T00:00:00",
          "2024-06-13T00:00:00"
         ],
         "y": {
          "bdata": "AAAAQOHqgEAAAACgmfOAQA==",
          "dtype": "f8"
         }
        },
        {
         "line": {
          "color": "green",
          "width": 2
         },
         "mode": "lines",
         "name": "Price",
         "showlegend": false,
         "type": "scatter",
         "x": [
          "2024-06-13T00:00:00",
          "2024-06-14T00:00:00"
         ],
         "y": {
          "bdata": "AAAAoJnzgEAAAACAPfaAQA==",
          "dtype": "f8"
         }
        },
        {
         "line": {
          "color": "green",
          "width": 2
         },
         "mode": "lines",
         "name": "Price",
         "showlegend": false,
         "type": "scatter",
         "x": [
          "2024-06-14T00:00:00",
          "2024-06-17T00:00:00"
         ],
         "y": {
          "bdata": "AAAAgD32gEAAAADAzBiBQA==",
          "dtype": "f8"
         }
        },
        {
         "line": {
          "color": "green",
          "width": 2
         },
         "mode": "lines",
         "name": "Price",
         "showlegend": false,
         "type": "scatter",
         "x": [
          "2024-06-17T00:00:00",
          "2024-06-18T00:00:00"
         ],
         "y": {
          "bdata": "AAAAwMwYgUAAAACA6yOBQA==",
          "dtype": "f8"
         }
        },
        {
         "line": {
          "color": "green",
          "width": 2
         },
         "mode": "lines",
         "name": "Price",
         "showlegend": false,
         "type": "scatter",
         "x": [
          "2024-06-18T00:00:00",
          "2024-06-20T00:00:00"
         ],
         "y": {
          "bdata": "AAAAgOsjgUAAAAAAABiBQA==",
          "dtype": "f8"
         }
        },
        {
         "line": {
          "color": "green",
          "width": 2
         },
         "mode": "lines",
         "name": "Price",
         "showlegend": false,
         "type": "scatter",
         "x": [
          "2024-06-20T00:00:00",
          "2024-06-21T00:00:00"
         ],
         "y": {
          "bdata": "AAAAAAAYgUAAAACAFASBQA==",
          "dtype": "f8"
         }
        },
        {
         "line": {
          "color": "green",
          "width": 2
         },
         "mode": "lines",
         "name": "Price",
         "showlegend": false,
         "type": "scatter",
         "x": [
          "2024-06-21T00:00:00",
          "2024-06-24T00:00:00"
         ],
         "y": {
          "bdata": "AAAAgBQEgUAAAACA6/WAQA==",
          "dtype": "f8"
         }
        },
        {
         "line": {
          "color": "green",
          "width": 2
         },
         "mode": "lines",
         "name": "Price",
         "showlegend": false,
         "type": "scatter",
         "x": [
          "2024-06-24T00:00:00",
          "2024-06-25T00:00:00"
         ],
         "y": {
          "bdata": "AAAAgOv1gEAAAADgowaBQA==",
          "dtype": "f8"
         }
        },
        {
         "line": {
          "color": "green",
          "width": 2
         },
         "mode": "lines",
         "name": "Price",
         "showlegend": false,
         "type": "scatter",
         "x": [
          "2024-06-25T00:00:00",
          "2024-06-26T00:00:00"
         ],
         "y": {
          "bdata": "AAAA4KMGgUAAAACAFAyBQA==",
          "dtype": "f8"
         }
        },
        {
         "line": {
          "color": "green",
          "width": 2
         },
         "mode": "lines",
         "name": "Price",
         "showlegend": false,
         "type": "scatter",
         "x": [
          "2024-06-26T00:00:00",
          "2024-06-27T00:00:00"
         ],
         "y": {
          "bdata": "AAAAgBQMgUAAAADA9RKBQA==",
          "dtype": "f8"
         }
        },
        {
         "line": {
          "color": "green",
          "width": 2
         },
         "mode": "lines",
         "name": "Price",
         "showlegend": false,
         "type": "scatter",
         "x": [
          "2024-06-27T00:00:00",
          "2024-06-28T00:00:00"
         ],
         "y": {
          "bdata": "AAAAwPUSgUAAAACAwgGBQA==",
          "dtype": "f8"
         }
        },
        {
         "line": {
          "color": "green",
          "width": 2
         },
         "mode": "lines",
         "name": "Price",
         "showlegend": false,
         "type": "scatter",
         "x": [
          "2024-06-28T00:00:00",
          "2024-07-01T00:00:00"
         ],
         "y": {
          "bdata": "AAAAgMIBgUAAAABguAqBQA==",
          "dtype": "f8"
         }
        },
        {
         "line": {
          "color": "green",
          "width": 2
         },
         "mode": "lines",
         "name": "Price",
         "showlegend": false,
         "type": "scatter",
         "x": [
          "2024-07-01T00:00:00",
          "2024-07-02T00:00:00"
         ],
         "y": {
          "bdata": "AAAAYLgKgUAAAACAFCiBQA==",
          "dtype": "f8"
         }
        },
        {
         "line": {
          "color": "green",
          "width": 2
         },
         "mode": "lines",
         "name": "Price",
         "showlegend": false,
         "type": "scatter",
         "x": [
          "2024-07-02T00:00:00",
          "2024-07-03T00:00:00"
         ],
         "y": {
          "bdata": "AAAAgBQogUAAAAAgrjuBQA==",
          "dtype": "f8"
         }
        },
        {
         "line": {
          "color": "green",
          "width": 2
         },
         "mode": "lines",
         "name": "Price",
         "showlegend": false,
         "type": "scatter",
         "x": [
          "2024-07-03T00:00:00",
          "2024-07-05T00:00:00"
         ],
         "y": {
          "bdata": "AAAAIK47gUAAAADAHlWBQA==",
          "dtype": "f8"
         }
        },
        {
         "line": {
          "color": "green",
          "width": 2
         },
         "mode": "lines",
         "name": "Price",
         "showlegend": false,
         "type": "scatter",
         "x": [
          "2024-07-05T00:00:00",
          "2024-07-08T00:00:00"
         ],
         "y": {
          "bdata": "AAAAwB5VgUAAAACAPVqBQA==",
          "dtype": "f8"
         }
        },
        {
         "line": {
          "color": "green",
          "width": 2
         },
         "mode": "lines",
         "name": "Price",
         "showlegend": false,
         "type": "scatter",
         "x": [
          "2024-07-08T00:00:00",
          "2024-07-09T00:00:00"
         ],
         "y": {
          "bdata": "AAAAgD1agUAAAABgj16BQA==",
          "dtype": "f8"
         }
        },
        {
         "line": {
          "color": "green",
          "width": 2
         },
         "mode": "lines",
         "name": "Price",
         "showlegend": false,
         "type": "scatter",
         "x": [
          "2024-07-09T00:00:00",
          "2024-07-10T00:00:00"
         ],
         "y": {
          "bdata": "AAAAYI9egUAAAABgj4qBQA==",
          "dtype": "f8"
         }
        },
        {
         "line": {
          "color": "green",
          "width": 2
         },
         "mode": "lines",
         "name": "Price",
         "showlegend": false,
         "type": "scatter",
         "x": [
          "2024-07-10T00:00:00",
          "2024-07-11T00:00:00"
         ],
         "y": {
          "bdata": "AAAAYI+KgUAAAAAA12OBQA==",
          "dtype": "f8"
         }
        },
        {
         "line": {
          "color": "green",
          "width": 2
         },
         "mode": "lines",
         "name": "Price",
         "showlegend": false,
         "type": "scatter",
         "x": [
          "2024-07-11T00:00:00",
          "2024-07-12T00:00:00"
         ],
         "y": {
          "bdata": "AAAAANdjgUAAAACA63+BQA==",
          "dtype": "f8"
         }
        },
        {
         "line": {
          "color": "green",
          "width": 2
         },
         "mode": "lines",
         "name": "Price",
         "showlegend": false,
         "type": "scatter",
         "x": [
          "2024-07-12T00:00:00",
          "2024-07-15T00:00:00"
         ],
         "y": {
          "bdata": "AAAAgOt/gUAAAACAPYyBQA==",
          "dtype": "f8"
         }
        },
        {
         "line": {
          "color": "green",
          "width": 2
         },
         "mode": "lines",
         "name": "Price",
         "showlegend": false,
         "type": "scatter",
         "x": [
          "2024-07-15T00:00:00",
          "2024-07-16T00:00:00"
         ],
         "y": {
          "bdata": "AAAAgD2MgUAAAABA4aaBQA==",
          "dtype": "f8"
         }
        },
        {
         "line": {
          "color": "green",
          "width": 2
         },
         "mode": "lines",
         "name": "Price",
         "showlegend": false,
         "type": "scatter",
         "x": [
          "2024-07-16T00:00:00",
          "2024-07-17T00:00:00"
         ],
         "y": {
          "bdata": "AAAAQOGmgUAAAAAghWeBQA==",
          "dtype": "f8"
         }
        },
        {
         "line": {
          "color": "green",
          "width": 2
         },
         "mode": "lines",
         "name": "Price",
         "showlegend": false,
         "type": "scatter",
         "x": [
          "2024-07-17T00:00:00",
          "2024-07-18T00:00:00"
         ],
         "y": {
          "bdata": "AAAAIIVngUAAAACgR0WBQA==",
          "dtype": "f8"
         }
        },
        {
         "line": {
          "color": "green",
          "width": 2
         },
         "mode": "lines",
         "name": "Price",
         "showlegend": false,
         "type": "scatter",
         "x": [
          "2024-07-18T00:00:00",
          "2024-07-19T00:00:00"
         ],
         "y": {
          "bdata": "AAAAoEdFgUAAAACA6yeBQA==",
          "dtype": "f8"
         }
        },
        {
         "line": {
          "color": "green",
          "width": 2
         },
         "mode": "lines",
         "name": "Price",
         "showlegend": false,
         "type": "scatter",
         "x": [
          "2024-07-19T00:00:00",
          "2024-07-22T00:00:00"
         ],
         "y": {
          "bdata": "AAAAgOsngUAAAABAM1WBQA==",
          "dtype": "f8"
         }
        },
        {
         "line": {
          "color": "green",
          "width": 2
         },
         "mode": "lines",
         "name": "Price",
         "showlegend": false,
         "type": "scatter",
         "x": [
          "2024-07-22T00:00:00",
          "2024-07-23T00:00:00"
         ],
         "y": {
          "bdata": "AAAAQDNVgUAAAACAPU6BQA==",
          "dtype": "f8"
         }
        },
        {
         "line": {
          "color": "green",
          "width": 2
         },
         "mode": "lines",
         "name": "Price",
         "showlegend": false,
         "type": "scatter",
         "x": [
          "2024-07-23T00:00:00",
          "2024-07-24T00:00:00"
         ],
         "y": {
          "bdata": "AAAAgD1OgUAAAAAA1+mAQA==",
          "dtype": "f8"
         }
        },
        {
         "line": {
          "color": "green",
          "width": 2
         },
         "mode": "lines",
         "name": "Price",
         "showlegend": false,
         "type": "scatter",
         "x": [
          "2024-07-24T00:00:00",
          "2024-07-25T00:00:00"
         ],
         "y": {
          "bdata": "AAAAANfpgEAAAACgR9OAQA==",
          "dtype": "f8"
         }
        },
        {
         "line": {
          "color": "green",
          "width": 2
         },
         "mode": "lines",
         "name": "Price",
         "showlegend": false,
         "type": "scatter",
         "x": [
          "2024-07-25T00:00:00",
          "2024-07-26T00:00:00"
         ],
         "y": {
          "bdata": "AAAAoEfTgEAAAAAghQOBQA==",
          "dtype": "f8"
         }
        },
        {
         "line": {
          "color": "green",
          "width": 2
         },
         "mode": "lines",
         "name": "Price",
         "showlegend": false,
         "type": "scatter",
         "x": [
          "2024-07-26T00:00:00",
          "2024-07-29T00:00:00"
         ],
         "y": {
          "bdata": "AAAAIIUDgUAAAACAFAaBQA==",
          "dtype": "f8"
         }
        },
        {
         "line": {
          "color": "green",
          "width": 2
         },
         "mode": "lines",
         "name": "Price",
         "showlegend": false,
         "type": "scatter",
         "x": [
          "2024-07-29T00:00:00",
          "2024-07-30T00:00:00"
         ],
         "y": {
          "bdata": "AAAAgBQGgUAAAAAAAPCAQA==",
          "dtype": "f8"
         }
        },
        {
         "line": {
          "color": "red",
          "width": 2
         },
         "mode": "lines",
         "name": "Price",
         "showlegend": false,
         "type": "scatter",
         "x": [
          "2024-07-30T00:00:00",
          "2024-07-31T00:00:00"
         ],
         "y": {
          "bdata": "AAAAAADwgEAAAADgejaBQA==",
          "dtype": "f8"
         }
        },
        {
         "line": {
          "color": "green",
          "width": 2
         },
         "mode": "lines",
         "name": "Price",
         "showlegend": false,
         "type": "scatter",
         "x": [
          "2024-07-31T00:00:00",
          "2024-08-01T00:00:00"
         ],
         "y": {
          "bdata": "AAAA4Ho2gUAAAACAFPiAQA==",
          "dtype": "f8"
         }
        },
        {
         "line": {
          "color": "red",
          "width": 2
         },
         "mode": "lines",
         "name": "Price",
         "showlegend": false,
         "type": "scatter",
         "x": [
          "2024-08-01T00:00:00",
          "2024-08-02T00:00:00"
         ],
         "y": {
          "bdata": "AAAAgBT4gEAAAABAM6eAQA==",
          "dtype": "f8"
         }
        },
        {
         "line": {
          "color": "red",
          "width": 2
         },
         "mode": "lines",
         "name": "Price",
         "showlegend": false,
         "type": "scatter",
         "x": [
          "2024-08-02T00:00:00",
          "2024-08-05T00:00:00"
         ],
         "y": {
          "bdata": "AAAAQDOngEAAAABACiuAQA==",
          "dtype": "f8"
         }
        },
        {
         "line": {
          "color": "red",
          "width": 2
         },
         "mode": "lines",
         "name": "Price",
         "showlegend": false,
         "type": "scatter",
         "x": [
          "2024-08-05T00:00:00",
          "2024-08-06T00:00:00"
         ],
         "y": {
          "bdata": "AAAAQAorgEAAAABAM1GAQA==",
          "dtype": "f8"
         }
        },
        {
         "line": {
          "color": "red",
          "width": 2
         },
         "mode": "lines",
         "name": "Price",
         "showlegend": false,
         "type": "scatter",
         "x": [
          "2024-08-06T00:00:00",
          "2024-08-07T00:00:00"
         ],
         "y": {
          "bdata": "AAAAQDNRgEAAAACgRzWAQA==",
          "dtype": "f8"
         }
        },
        {
         "line": {
          "color": "red",
          "width": 2
         },
         "mode": "lines",
         "name": "Price",
         "showlegend": false,
         "type": "scatter",
         "x": [
          "2024-08-07T00:00:00",
          "2024-08-08T00:00:00"
         ],
         "y": {
          "bdata": "AAAAoEc1gEAAAABAM5WAQA==",
          "dtype": "f8"
         }
        },
        {
         "line": {
          "color": "red",
          "width": 2
         },
         "mode": "lines",
         "name": "Price",
         "showlegend": false,
         "type": "scatter",
         "x": [
          "2024-08-08T00:00:00",
          "2024-08-09T00:00:00"
         ],
         "y": {
          "bdata": "AAAAQDOVgEAAAACA66eAQA==",
          "dtype": "f8"
         }
        },
        {
         "line": {
          "color": "red",
          "width": 2
         },
         "mode": "lines",
         "name": "Price",
         "showlegend": false,
         "type": "scatter",
         "x": [
          "2024-08-09T00:00:00",
          "2024-08-12T00:00:00"
         ],
         "y": {
          "bdata": "AAAAgOungEAAAAAAKaqAQA==",
          "dtype": "f8"
         }
        },
        {
         "line": {
          "color": "red",
          "width": 2
         },
         "mode": "lines",
         "name": "Price",
         "showlegend": false,
         "type": "scatter",
         "x": [
          "2024-08-12T00:00:00",
          "2024-08-13T00:00:00"
         ],
         "y": {
          "bdata": "AAAAACmqgEAAAADgUfCAQA==",
          "dtype": "f8"
         }
        },
        {
         "line": {
          "color": "red",
          "width": 2
         },
         "mode": "lines",
         "name": "Price",
         "showlegend": false,
         "type": "scatter",
         "x": [
          "2024-08-13T00:00:00",
          "2024-08-14T00:00:00"
         ],
         "y": {
          "bdata": "AAAA4FHwgEAAAAAAAP6AQA==",
          "dtype": "f8"
         }
        },
        {
         "line": {
          "color": "red",
          "width": 2
         },
         "mode": "lines",
         "name": "Price",
         "showlegend": false,
         "type": "scatter",
         "x": [
          "2024-08-14T00:00:00",
          "2024-08-15T00:00:00"
         ],
         "y": {
          "bdata": "AAAAAAD+gEAAAABgj0iBQA==",
          "dtype": "f8"
         }
        },
        {
         "line": {
          "color": "green",
          "width": 2
         },
         "mode": "lines",
         "name": "Price",
         "showlegend": false,
         "type": "scatter",
         "x": [
          "2024-08-15T00:00:00",
          "2024-08-16T00:00:00"
         ],
         "y": {
          "bdata": "AAAAYI9IgUAAAADgelKBQA==",
          "dtype": "f8"
         }
        },
        {
         "line": {
          "color": "green",
          "width": 2
         },
         "mode": "lines",
         "name": "Price",
         "showlegend": false,
         "type": "scatter",
         "x": [
          "2024-08-16T00:00:00",
          "2024-08-19T00:00:00"
         ],
         "y": {
          "bdata": "AAAA4HpSgUAAAABA4XyBQA==",
          "dtype": "f8"
         }
        },
        {
         "line": {
          "color": "green",
          "width": 2
         },
         "mode": "lines",
         "name": "Price",
         "showlegend": false,
         "type": "scatter",
         "x": [
          "2024-08-19T00:00:00",
          "2024-08-20T00:00:00"
         ],
         "y": {
          "bdata": "AAAAQOF8gUAAAACgmXWBQA==",
          "dtype": "f8"
         }
        },
        {
         "line": {
          "color": "green",
          "width": 2
         },
         "mode": "lines",
         "name": "Price",
         "showlegend": false,
         "type": "scatter",
         "x": [
          "2024-08-20T00:00:00",
          "2024-08-21T00:00:00"
         ],
         "y": {
          "bdata": "AAAAoJl1gUAAAADA9YSBQA==",
          "dtype": "f8"
         }
        },
        {
         "line": {
          "color": "green",
          "width": 2
         },
         "mode": "lines",
         "name": "Price",
         "showlegend": false,
         "type": "scatter",
         "x": [
          "2024-08-21T00:00:00",
          "2024-08-22T00:00:00"
         ],
         "y": {
          "bdata": "AAAAwPWEgUAAAACAwmGBQA==",
          "dtype": "f8"
         }
        },
        {
         "line": {
          "color": "red",
          "width": 2
         },
         "mode": "lines",
         "name": "Price",
         "showlegend": false,
         "type": "scatter",
         "x": [
          "2024-08-22T00:00:00",
          "2024-08-23T00:00:00"
         ],
         "y": {
          "bdata": "AAAAgMJhgUAAAABACpGBQA==",
          "dtype": "f8"
         }
        },
        {
         "line": {
          "color": "green",
          "width": 2
         },
         "mode": "lines",
         "name": "Price",
         "showlegend": false,
         "type": "scatter",
         "x": [
          "2024-08-23T00:00:00",
          "2024-08-26T00:00:00"
         ],
         "y": {
          "bdata": "AAAAQAqRgUAAAADgUYaBQA==",
          "dtype": "f8"
         }
        },
        {
         "line": {
          "color": "green",
          "width": 2
         },
         "mode": "lines",
         "name": "Price",
         "showlegend": false,
         "type": "scatter",
         "x": [
          "2024-08-26T00:00:00",
          "2024-08-27T00:00:00"
         ],
         "y": {
          "bdata": "AAAA4FGGgUAAAADgeoyBQA==",
          "dtype": "f8"
         }
        },
        {
         "line": {
          "color": "green",
          "width": 2
         },
         "mode": "lines",
         "name": "Price",
         "showlegend": false,
         "type": "scatter",
         "x": [
          "2024-08-27T00:00:00",
          "2024-08-28T00:00:00"
         ],
         "y": {
          "bdata": "AAAA4HqMgUAAAABgZnKBQA==",
          "dtype": "f8"
         }
        },
        {
         "line": {
          "color": "red",
          "width": 2
         },
         "mode": "lines",
         "name": "Price",
         "showlegend": false,
         "type": "scatter",
         "x": [
          "2024-08-28T00:00:00",
          "2024-08-29T00:00:00"
         ],
         "y": {
          "bdata": "AAAAYGZygUAAAADAzHKBQA==",
          "dtype": "f8"
         }
        },
        {
         "line": {
          "color": "green",
          "width": 2
         },
         "mode": "lines",
         "name": "Price",
         "showlegend": false,
         "type": "scatter",
         "x": [
          "2024-08-29T00:00:00",
          "2024-08-30T00:00:00"
         ],
         "y": {
          "bdata": "AAAAwMxygUAAAACgcJ2BQA==",
          "dtype": "f8"
         }
        },
        {
         "line": {
          "color": "green",
          "width": 2
         },
         "mode": "lines",
         "name": "Price",
         "showlegend": false,
         "type": "scatter",
         "x": [
          "2024-08-30T00:00:00",
          "2024-09-03T00:00:00"
         ],
         "y": {
          "bdata": "AAAAoHCdgUAAAADgo0CBQA==",
          "dtype": "f8"
         }
        },
        {
         "line": {
          "color": "green",
          "width": 2
         },
         "mode": "lines",
         "name": "Price",
         "showlegend": false,
         "type": "scatter",
         "x": [
          "2024-09-03T00:00:00",
          "2024-09-04T00:00:00"
         ],
         "y": {
          "bdata": "AAAA4KNAgUAAAACgmTeBQA==",
          "dtype": "f8"
         }
        },
        {
         "line": {
          "color": "red",
          "width": 2
         },
         "mode": "lines",
         "name": "Price",
         "showlegend": false,
         "type": "scatter",
         "x": [
          "2024-09-04T00:00:00",
          "2024-09-05T00:00:00"
         ],
         "y": {
          "bdata": "AAAAoJk3gUAAAABA4SyBQA==",
          "dtype": "f8"
         }
        },
        {
         "line": {
          "color": "red",
          "width": 2
         },
         "mode": "lines",
         "name": "Price",
         "showlegend": false,
         "type": "scatter",
         "x": [
          "2024-09-05T00:00:00",
          "2024-09-06T00:00:00"
         ],
         "y": {
          "bdata": "AAAAQOEsgUAAAABA4eKAQA==",
          "dtype": "f8"
         }
        },
        {
         "line": {
          "color": "red",
          "width": 2
         },
         "mode": "lines",
         "name": "Price",
         "showlegend": false,
         "type": "scatter",
         "x": [
          "2024-09-06T00:00:00",
          "2024-09-09T00:00:00"
         ],
         "y": {
          "bdata": "AAAAQOHigEAAAACgRxOBQA==",
          "dtype": "f8"
         }
        },
        {
         "line": {
          "color": "green",
          "width": 2
         },
         "mode": "lines",
         "name": "Price",
         "showlegend": false,
         "type": "scatter",
         "x": [
          "2024-09-09T00:00:00",
          "2024-09-10T00:00:00"
         ],
         "y": {
          "bdata": "AAAAoEcTgUAAAADgUSaBQA==",
          "dtype": "f8"
         }
        },
        {
         "line": {
          "color": "green",
          "width": 2
         },
         "mode": "lines",
         "name": "Price",
         "showlegend": false,
         "type": "scatter",
         "x": [
          "2024-09-10T00:00:00",
          "2024-09-11T00:00:00"
         ],
         "y": {
          "bdata": "AAAA4FEmgUAAAAAgXFOBQA==",
          "dtype": "f8"
         }
        },
        {
         "line": {
          "color": "green",
          "width": 2
         },
         "mode": "lines",
         "name": "Price",
         "showlegend": false,
         "type": "scatter",
         "x": [
          "2024-09-11T00:00:00",
          "2024-09-12T00:00:00"
         ],
         "y": {
          "bdata": "AAAAIFxTgUAAAABguHiBQA==",
          "dtype": "f8"
         }
        },
        {
         "line": {
          "color": "green",
          "width": 2
         },
         "mode": "lines",
         "name": "Price",
         "showlegend": false,
         "type": "scatter",
         "x": [
          "2024-09-12T00:00:00",
          "2024-09-13T00:00:00"
         ],
         "y": {
          "bdata": "AAAAYLh4gUAAAACAFJCBQA==",
          "dtype": "f8"
         }
        },
        {
         "line": {
          "color": "green",
          "width": 2
         },
         "mode": "lines",
         "name": "Price",
         "showlegend": false,
         "type": "scatter",
         "x": [
          "2024-09-13T00:00:00",
          "2024-09-16T00:00:00"
         ],
         "y": {
          "bdata": "AAAAgBSQgUAAAABguJaBQA==",
          "dtype": "f8"
         }
        },
        {
         "line": {
          "color": "green",
          "width": 2
         },
         "mode": "lines",
         "name": "Price",
         "showlegend": false,
         "type": "scatter",
         "x": [
          "2024-09-16T00:00:00",
          "2024-09-17T00:00:00"
         ],
         "y": {
          "bdata": "AAAAYLiWgUAAAABgj5iBQA==",
          "dtype": "f8"
         }
        },
        {
         "line": {
          "color": "green",
          "width": 2
         },
         "mode": "lines",
         "name": "Price",
         "showlegend": false,
         "type": "scatter",
         "x": [
          "2024-09-17T00:00:00",
          "2024-09-18T00:00:00"
         ],
         "y": {
          "bdata": "AAAAYI+YgUAAAABAM4uBQA==",
          "dtype": "f8"
         }
        },
        {
         "line": {
          "color": "green",
          "width": 2
         },
         "mode": "lines",
         "name": "Price",
         "showlegend": false,
         "type": "scatter",
         "x": [
          "2024-09-18T00:00:00",
          "2024-09-19T00:00:00"
         ],
         "y": {
          "bdata": "AAAAQDOLgUAAAAAA19eBQA==",
          "dtype": "f8"
         }
        },
        {
         "line": {
          "color": "green",
          "width": 2
         },
         "mode": "lines",
         "name": "Price",
         "showlegend": false,
         "type": "scatter",
         "x": [
          "2024-09-19T00:00:00",
          "2024-09-20T00:00:00"
         ],
         "y": {
          "bdata": "AAAAANfXgUAAAAAAAMKBQA==",
          "dtype": "f8"
         }
        },
        {
         "line": {
          "color": "green",
          "width": 2
         },
         "mode": "lines",
         "name": "Price",
         "showlegend": false,
         "type": "scatter",
         "x": [
          "2024-09-20T00:00:00",
          "2024-09-23T00:00:00"
         ],
         "y": {
          "bdata": "AAAAAADCgUAAAAAgXM2BQA==",
          "dtype": "f8"
         }
        },
        {
         "line": {
          "color": "green",
          "width": 2
         },
         "mode": "lines",
         "name": "Price",
         "showlegend": false,
         "type": "scatter",
         "x": [
          "2024-09-23T00:00:00",
          "2024-09-24T00:00:00"
         ],
         "y": {
          "bdata": "AAAAIFzNgUAAAABgZtqBQA==",
          "dtype": "f8"
         }
        },
        {
         "line": {
          "color": "green",
          "width": 2
         },
         "mode": "lines",
         "name": "Price",
         "showlegend": false,
         "type": "scatter",
         "x": [
          "2024-09-24T00:00:00",
          "2024-09-25T00:00:00"
         ],
         "y": {
          "bdata": "AAAAYGbagUAAAADgUdCBQA==",
          "dtype": "f8"
         }
        },
        {
         "line": {
          "color": "green",
          "width": 2
         },
         "mode": "lines",
         "name": "Price",
         "showlegend": false,
         "type": "scatter",
         "x": [
          "2024-09-25T00:00:00",
          "2024-09-26T00:00:00"
         ],
         "y": {
          "bdata": "AAAA4FHQgUAAAABgZuKBQA==",
          "dtype": "f8"
         }
        },
        {
         "line": {
          "color": "green",
          "width": 2
         },
         "mode": "lines",
         "name": "Price",
         "showlegend": false,
         "type": "scatter",
         "x": [
          "2024-09-26T00:00:00",
          "2024-09-27T00:00:00"
         ],
         "y": {
          "bdata": "AAAAYGbigUAAAACAwtuBQA==",
          "dtype": "f8"
         }
        },
        {
         "line": {
          "color": "green",
          "width": 2
         },
         "mode": "lines",
         "name": "Price",
         "showlegend": false,
         "type": "scatter",
         "x": [
          "2024-09-27T00:00:00",
          "2024-09-30T00:00:00"
         ],
         "y": {
          "bdata": "AAAAgMLbgUAAAACAFO6BQA==",
          "dtype": "f8"
         }
        },
        {
         "line": {
          "color": "green",
          "width": 2
         },
         "mode": "lines",
         "name": "Price",
         "showlegend": false,
         "type": "scatter",
         "x": [
          "2024-09-30T00:00:00",
          "2024-10-01T00:00:00"
         ],
         "y": {
          "bdata": "AAAAgBTugUAAAADA9cSBQA==",
          "dtype": "f8"
         }
        },
        {
         "line": {
          "color": "green",
          "width": 2
         },
         "mode": "lines",
         "name": "Price",
         "showlegend": false,
         "type": "scatter",
         "x": [
          "2024-10-01T00:00:00",
          "2024-10-02T00:00:00"
         ],
         "y": {
          "bdata": "AAAAwPXEgUAAAABA4caBQA==",
          "dtype": "f8"
         }
        },
        {
         "line": {
          "color": "green",
          "width": 2
         },
         "mode": "lines",
         "name": "Price",
         "showlegend": false,
         "type": "scatter",
         "x": [
          "2024-10-02T00:00:00",
          "2024-10-03T00:00:00"
         ],
         "y": {
          "bdata": "AAAAQOHGgUAAAABgj76BQA==",
          "dtype": "f8"
         }
        },
        {
         "line": {
          "color": "green",
          "width": 2
         },
         "mode": "lines",
         "name": "Price",
         "showlegend": false,
         "type": "scatter",
         "x": [
          "2024-10-03T00:00:00",
          "2024-10-04T00:00:00"
         ],
         "y": {
          "bdata": "AAAAYI++gUAAAAAA1+eBQA==",
          "dtype": "f8"
         }
        },
        {
         "line": {
          "color": "green",
          "width": 2
         },
         "mode": "lines",
         "name": "Price",
         "showlegend": false,
         "type": "scatter",
         "x": [
          "2024-10-04T00:00:00",
          "2024-10-07T00:00:00"
         ],
         "y": {
          "bdata": "AAAAANfngUAAAABgZr6BQA==",
          "dtype": "f8"
         }
        },
        {
         "line": {
          "color": "green",
          "width": 2
         },
         "mode": "lines",
         "name": "Price",
         "showlegend": false,
         "type": "scatter",
         "x": [
          "2024-10-07T00:00:00",
          "2024-10-08T00:00:00"
         ],
         "y": {
          "bdata": "AAAAYGa+gUAAAAAgXOmBQA==",
          "dtype": "f8"
         }
        },
        {
         "line": {
          "color": "green",
          "width": 2
         },
         "mode": "lines",
         "name": "Price",
         "showlegend": false,
         "type": "scatter",
         "x": [
          "2024-10-08T00:00:00",
          "2024-10-09T00:00:00"
         ],
         "y": {
          "bdata": "AAAAIFzpgUAAAADAHgmCQA==",
          "dtype": "f8"
         }
        },
        {
         "line": {
          "color": "green",
          "width": 2
         },
         "mode": "lines",
         "name": "Price",
         "showlegend": false,
         "type": "scatter",
         "x": [
          "2024-10-09T00:00:00",
          "2024-10-10T00:00:00"
         ],
         "y": {
          "bdata": "AAAAwB4JgkAAAABACgGCQA==",
          "dtype": "f8"
         }
        },
        {
         "line": {
          "color": "green",
          "width": 2
         },
         "mode": "lines",
         "name": "Price",
         "showlegend": false,
         "type": "scatter",
         "x": [
          "2024-10-10T00:00:00",
          "2024-10-11T00:00:00"
         ],
         "y": {
          "bdata": "AAAAQAoBgkAAAADgoxyCQA==",
          "dtype": "f8"
         }
        },
        {
         "line": {
          "color": "green",
          "width": 2
         },
         "mode": "lines",
         "name": "Price",
         "showlegend": false,
         "type": "scatter",
         "x": [
          "2024-10-11T00:00:00",
          "2024-10-14T00:00:00"
         ],
         "y": {
          "bdata": "AAAA4KMcgkAAAABgj0KCQA==",
          "dtype": "f8"
         }
        },
        {
         "line": {
          "color": "green",
          "width": 2
         },
         "mode": "lines",
         "name": "Price",
         "showlegend": false,
         "type": "scatter",
         "x": [
          "2024-10-14T00:00:00",
          "2024-10-15T00:00:00"
         ],
         "y": {
          "bdata": "AAAAYI9CgkAAAACAPR6CQA==",
          "dtype": "f8"
         }
        },
        {
         "line": {
          "color": "green",
          "width": 2
         },
         "mode": "lines",
         "name": "Price",
         "showlegend": false,
         "type": "scatter",
         "x": [
          "2024-10-15T00:00:00",
          "2024-10-16T00:00:00"
         ],
         "y": {
          "bdata": "AAAAgD0egkAAAABgZjKCQA==",
          "dtype": "f8"
         }
        },
        {
         "line": {
          "color": "green",
          "width": 2
         },
         "mode": "lines",
         "name": "Price",
         "showlegend": false,
         "type": "scatter",
         "x": [
          "2024-10-16T00:00:00",
          "2024-10-17T00:00:00"
         ],
         "y": {
          "bdata": "AAAAYGYygkAAAADAzDKCQA==",
          "dtype": "f8"
         }
        },
        {
         "line": {
          "color": "green",
          "width": 2
         },
         "mode": "lines",
         "name": "Price",
         "showlegend": false,
         "type": "scatter",
         "x": [
          "2024-10-17T00:00:00",
          "2024-10-18T00:00:00"
         ],
         "y": {
          "bdata": "AAAAwMwygkAAAABguESCQA==",
          "dtype": "f8"
         }
        },
        {
         "line": {
          "color": "green",
          "width": 2
         },
         "mode": "lines",
         "name": "Price",
         "showlegend": false,
         "type": "scatter",
         "x": [
          "2024-10-18T00:00:00",
          "2024-10-21T00:00:00"
         ],
         "y": {
          "bdata": "AAAAYLhEgkAAAABACj2CQA==",
          "dtype": "f8"
         }
        },
        {
         "line": {
          "color": "green",
          "width": 2
         },
         "mode": "lines",
         "name": "Price",
         "showlegend": false,
         "type": "scatter",
         "x": [
          "2024-10-21T00:00:00",
          "2024-10-22T00:00:00"
         ],
         "y": {
          "bdata": "AAAAQAo9gkAAAABgjzqCQA==",
          "dtype": "f8"
         }
        },
        {
         "line": {
          "color": "green",
          "width": 2
         },
         "mode": "lines",
         "name": "Price",
         "showlegend": false,
         "type": "scatter",
         "x": [
          "2024-10-22T00:00:00",
          "2024-10-23T00:00:00"
         ],
         "y": {
          "bdata": "AAAAYI86gkAAAACA6w+CQA==",
          "dtype": "f8"
         }
        },
        {
         "line": {
          "color": "green",
          "width": 2
         },
         "mode": "lines",
         "name": "Price",
         "showlegend": false,
         "type": "scatter",
         "x": [
          "2024-10-23T00:00:00",
          "2024-10-24T00:00:00"
         ],
         "y": {
          "bdata": "AAAAgOsPgkAAAACA6xmCQA==",
          "dtype": "f8"
         }
        },
        {
         "line": {
          "color": "green",
          "width": 2
         },
         "mode": "lines",
         "name": "Price",
         "showlegend": false,
         "type": "scatter",
         "x": [
          "2024-10-24T00:00:00",
          "2024-10-25T00:00:00"
         ],
         "y": {
          "bdata": "AAAAgOsZgkAAAADgURiCQA==",
          "dtype": "f8"
         }
        },
        {
         "line": {
          "color": "green",
          "width": 2
         },
         "mode": "lines",
         "name": "Price",
         "showlegend": false,
         "type": "scatter",
         "x": [
          "2024-10-25T00:00:00",
          "2024-10-28T00:00:00"
         ],
         "y": {
          "bdata": "AAAA4FEYgkAAAADgoyaCQA==",
          "dtype": "f8"
         }
        },
        {
         "line": {
          "color": "green",
          "width": 2
         },
         "mode": "lines",
         "name": "Price",
         "showlegend": false,
         "type": "scatter",
         "x": [
          "2024-10-28T00:00:00",
          "2024-10-29T00:00:00"
         ],
         "y": {
          "bdata": "AAAA4KMmgkAAAAAAKS6CQA==",
          "dtype": "f8"
         }
        },
        {
         "line": {
          "color": "green",
          "width": 2
         },
         "mode": "lines",
         "name": "Price",
         "showlegend": false,
         "type": "scatter",
         "x": [
          "2024-10-29T00:00:00",
          "2024-10-30T00:00:00"
         ],
         "y": {
          "bdata": "AAAAACkugkAAAACAFCCCQA==",
          "dtype": "f8"
         }
        },
        {
         "line": {
          "color": "green",
          "width": 2
         },
         "mode": "lines",
         "name": "Price",
         "showlegend": false,
         "type": "scatter",
         "x": [
          "2024-10-30T00:00:00",
          "2024-10-31T00:00:00"
         ],
         "y": {
          "bdata": "AAAAgBQggkAAAADAHsWBQA==",
          "dtype": "f8"
         }
        },
        {
         "line": {
          "color": "green",
          "width": 2
         },
         "mode": "lines",
         "name": "Price",
         "showlegend": false,
         "type": "scatter",
         "x": [
          "2024-10-31T00:00:00",
          "2024-11-01T00:00:00"
         ],
         "y": {
          "bdata": "AAAAwB7FgUAAAADgUdiBQA==",
          "dtype": "f8"
         }
        },
        {
         "line": {
          "color": "green",
          "width": 2
         },
         "mode": "lines",
         "name": "Price",
         "showlegend": false,
         "type": "scatter",
         "x": [
          "2024-11-01T00:00:00",
          "2024-11-04T00:00:00"
         ],
         "y": {
          "bdata": "AAAA4FHYgUAAAADges6BQA==",
          "dtype": "f8"
         }
        },
        {
         "line": {
          "color": "green",
          "width": 2
         },
         "mode": "lines",
         "name": "Price",
         "showlegend": false,
         "type": "scatter",
         "x": [
          "2024-11-04T00:00:00",
          "2024-11-05T00:00:00"
         ],
         "y": {
          "bdata": "AAAA4HrOgUAAAACgmQWCQA==",
          "dtype": "f8"
         }
        },
        {
         "line": {
          "color": "green",
          "width": 2
         },
         "mode": "lines",
         "name": "Price",
         "showlegend": false,
         "type": "scatter",
         "x": [
          "2024-11-05T00:00:00",
          "2024-11-06T00:00:00"
         ],
         "y": {
          "bdata": "AAAAoJkFgkAAAADgUXiCQA==",
          "dtype": "f8"
         }
        },
        {
         "line": {
          "color": "green",
          "width": 2
         },
         "mode": "lines",
         "name": "Price",
         "showlegend": false,
         "type": "scatter",
         "x": [
          "2024-11-06T00:00:00",
          "2024-11-07T00:00:00"
         ],
         "y": {
          "bdata": "AAAA4FF4gkAAAABA4ZyCQA==",
          "dtype": "f8"
         }
        },
        {
         "line": {
          "color": "green",
          "width": 2
         },
         "mode": "lines",
         "name": "Price",
         "showlegend": false,
         "type": "scatter",
         "x": [
          "2024-11-07T00:00:00",
          "2024-11-08T00:00:00"
         ],
         "y": {
          "bdata": "AAAAQOGcgkAAAAAghbGCQA==",
          "dtype": "f8"
         }
        },
        {
         "line": {
          "color": "green",
          "width": 2
         },
         "mode": "lines",
         "name": "Price",
         "showlegend": false,
         "type": "scatter",
         "x": [
          "2024-11-08T00:00:00",
          "2024-11-11T00:00:00"
         ],
         "y": {
          "bdata": "AAAAIIWxgkAAAACAFLaCQA==",
          "dtype": "f8"
         }
        },
        {
         "line": {
          "color": "green",
          "width": 2
         },
         "mode": "lines",
         "name": "Price",
         "showlegend": false,
         "type": "scatter",
         "x": [
          "2024-11-11T00:00:00",
          "2024-11-12T00:00:00"
         ],
         "y": {
          "bdata": "AAAAgBS2gkAAAABAM6eCQA==",
          "dtype": "f8"
         }
        },
        {
         "line": {
          "color": "green",
          "width": 2
         },
         "mode": "lines",
         "name": "Price",
         "showlegend": false,
         "type": "scatter",
         "x": [
          "2024-11-12T00:00:00",
          "2024-11-13T00:00:00"
         ],
         "y": {
          "bdata": "AAAAQDOngkAAAAAghamCQA==",
          "dtype": "f8"
         }
        },
        {
         "line": {
          "color": "green",
          "width": 2
         },
         "mode": "lines",
         "name": "Price",
         "showlegend": false,
         "type": "scatter",
         "x": [
          "2024-11-13T00:00:00",
          "2024-11-14T00:00:00"
         ],
         "y": {
          "bdata": "AAAAIIWpgkAAAADAzIqCQA==",
          "dtype": "f8"
         }
        },
        {
         "line": {
          "color": "green",
          "width": 2
         },
         "mode": "lines",
         "name": "Price",
         "showlegend": false,
         "type": "scatter",
         "x": [
          "2024-11-14T00:00:00",
          "2024-11-15T00:00:00"
         ],
         "y": {
          "bdata": "AAAAwMyKgkAAAAAAAE6CQA==",
          "dtype": "f8"
         }
        },
        {
         "line": {
          "color": "green",
          "width": 2
         },
         "mode": "lines",
         "name": "Price",
         "showlegend": false,
         "type": "scatter",
         "x": [
          "2024-11-15T00:00:00",
          "2024-11-18T00:00:00"
         ],
         "y": {
          "bdata": "AAAAAABOgkAAAABAM2GCQA==",
          "dtype": "f8"
         }
        },
        {
         "line": {
          "color": "green",
          "width": 2
         },
         "mode": "lines",
         "name": "Price",
         "showlegend": false,
         "type": "scatter",
         "x": [
          "2024-11-18T00:00:00",
          "2024-11-19T00:00:00"
         ],
         "y": {
          "bdata": "AAAAQDNhgkAAAABgZnKCQA==",
          "dtype": "f8"
         }
        },
        {
         "line": {
          "color": "green",
          "width": 2
         },
         "mode": "lines",
         "name": "Price",
         "showlegend": false,
         "type": "scatter",
         "x": [
          "2024-11-19T00:00:00",
          "2024-11-20T00:00:00"
         ],
         "y": {
          "bdata": "AAAAYGZygkAAAAAAAHSCQA==",
          "dtype": "f8"
         }
        },
        {
         "line": {
          "color": "green",
          "width": 2
         },
         "mode": "lines",
         "name": "Price",
         "showlegend": false,
         "type": "scatter",
         "x": [
          "2024-11-20T00:00:00",
          "2024-11-21T00:00:00"
         ],
         "y": {
          "bdata": "AAAAAAB0gkAAAAAgXI2CQA==",
          "dtype": "f8"
         }
        },
        {
         "line": {
          "color": "green",
          "width": 2
         },
         "mode": "lines",
         "name": "Price",
         "showlegend": false,
         "type": "scatter",
         "x": [
          "2024-11-21T00:00:00",
          "2024-11-22T00:00:00"
         ],
         "y": {
          "bdata": "AAAAIFyNgkAAAACAFJyCQA==",
          "dtype": "f8"
         }
        },
        {
         "line": {
          "color": "green",
          "width": 2
         },
         "mode": "lines",
         "name": "Price",
         "showlegend": false,
         "type": "scatter",
         "x": [
          "2024-11-22T00:00:00",
          "2024-11-25T00:00:00"
         ],
         "y": {
          "bdata": "AAAAgBScgkAAAACAPayCQA==",
          "dtype": "f8"
         }
        },
        {
         "line": {
          "color": "green",
          "width": 2
         },
         "mode": "lines",
         "name": "Price",
         "showlegend": false,
         "type": "scatter",
         "x": [
          "2024-11-25T00:00:00",
          "2024-11-26T00:00:00"
         ],
         "y": {
          "bdata": "AAAAgD2sgkAAAABAM8WCQA==",
          "dtype": "f8"
         }
        },
        {
         "line": {
          "color": "green",
          "width": 2
         },
         "mode": "lines",
         "name": "Price",
         "showlegend": false,
         "type": "scatter",
         "x": [
          "2024-11-26T00:00:00",
          "2024-11-27T00:00:00"
         ],
         "y": {
          "bdata": "AAAAQDPFgkAAAADgo7aCQA==",
          "dtype": "f8"
         }
        },
        {
         "line": {
          "color": "green",
          "width": 2
         },
         "mode": "lines",
         "name": "Price",
         "showlegend": false,
         "type": "scatter",
         "x": [
          "2024-11-27T00:00:00",
          "2024-11-29T00:00:00"
         ],
         "y": {
          "bdata": "AAAA4KO2gkAAAABgZtSCQA==",
          "dtype": "f8"
         }
        },
        {
         "line": {
          "color": "green",
          "width": 2
         },
         "mode": "lines",
         "name": "Price",
         "showlegend": false,
         "type": "scatter",
         "x": [
          "2024-11-29T00:00:00",
          "2024-12-02T00:00:00"
         ],
         "y": {
          "bdata": "AAAAYGbUgkAAAABACt2CQA==",
          "dtype": "f8"
         }
        },
        {
         "line": {
          "color": "green",
          "width": 2
         },
         "mode": "lines",
         "name": "Price",
         "showlegend": false,
         "type": "scatter",
         "x": [
          "2024-12-02T00:00:00",
          "2024-12-03T00:00:00"
         ],
         "y": {
          "bdata": "AAAAQArdgkAAAACgR9+CQA==",
          "dtype": "f8"
         }
        },
        {
         "line": {
          "color": "green",
          "width": 2
         },
         "mode": "lines",
         "name": "Price",
         "showlegend": false,
         "type": "scatter",
         "x": [
          "2024-12-03T00:00:00",
          "2024-12-04T00:00:00"
         ],
         "y": {
          "bdata": "AAAAoEffgkAAAACgR/2CQA==",
          "dtype": "f8"
         }
        },
        {
         "line": {
          "color": "green",
          "width": 2
         },
         "mode": "lines",
         "name": "Price",
         "showlegend": false,
         "type": "scatter",
         "x": [
          "2024-12-04T00:00:00",
          "2024-12-05T00:00:00"
         ],
         "y": {
          "bdata": "AAAAoEf9gkAAAACgR/WCQA==",
          "dtype": "f8"
         }
        },
        {
         "line": {
          "color": "green",
          "width": 2
         },
         "mode": "lines",
         "name": "Price",
         "showlegend": false,
         "type": "scatter",
         "x": [
          "2024-12-05T00:00:00",
          "2024-12-06T00:00:00"
         ],
         "y": {
          "bdata": "AAAAoEf1gkAAAADgev6CQA==",
          "dtype": "f8"
         }
        },
        {
         "line": {
          "color": "green",
          "width": 2
         },
         "mode": "lines",
         "name": "Price",
         "showlegend": false,
         "type": "scatter",
         "x": [
          "2024-12-06T00:00:00",
          "2024-12-09T00:00:00"
         ],
         "y": {
          "bdata": "AAAA4Hr+gkAAAACgcOWCQA==",
          "dtype": "f8"
         }
        },
        {
         "line": {
          "color": "green",
          "width": 2
         },
         "mode": "lines",
         "name": "Price",
         "showlegend": false,
         "type": "scatter",
         "x": [
          "2024-12-09T00:00:00",
          "2024-12-10T00:00:00"
         ],
         "y": {
          "bdata": "AAAAoHDlgkAAAABgZtaCQA==",
          "dtype": "f8"
         }
        },
        {
         "line": {
          "color": "green",
          "width": 2
         },
         "mode": "lines",
         "name": "Price",
         "showlegend": false,
         "type": "scatter",
         "x": [
          "2024-12-10T00:00:00",
          "2024-12-11T00:00:00"
         ],
         "y": {
          "bdata": "AAAAYGbWgkAAAAAgrvuCQA==",
          "dtype": "f8"
         }
        },
        {
         "line": {
          "color": "green",
          "width": 2
         },
         "mode": "lines",
         "name": "Price",
         "showlegend": false,
         "type": "scatter",
         "x": [
          "2024-12-11T00:00:00",
          "2024-12-12T00:00:00"
         ],
         "y": {
          "bdata": "AAAAIK77gkAAAADgo+KCQA==",
          "dtype": "f8"
         }
        },
        {
         "line": {
          "color": "green",
          "width": 2
         },
         "mode": "lines",
         "name": "Price",
         "showlegend": false,
         "type": "scatter",
         "x": [
          "2024-12-12T00:00:00",
          "2024-12-13T00:00:00"
         ],
         "y": {
          "bdata": "AAAA4KPigkAAAAAgruGCQA==",
          "dtype": "f8"
         }
        },
        {
         "line": {
          "color": "green",
          "width": 2
         },
         "mode": "lines",
         "name": "Price",
         "showlegend": false,
         "type": "scatter",
         "x": [
          "2024-12-13T00:00:00",
          "2024-12-16T00:00:00"
         ],
         "y": {
          "bdata": "AAAAIK7hgkAAAADgUfaCQA==",
          "dtype": "f8"
         }
        },
        {
         "line": {
          "color": "green",
          "width": 2
         },
         "mode": "lines",
         "name": "Price",
         "showlegend": false,
         "type": "scatter",
         "x": [
          "2024-12-16T00:00:00",
          "2024-12-17T00:00:00"
         ],
         "y": {
          "bdata": "AAAA4FH2gkAAAADgUeKCQA==",
          "dtype": "f8"
         }
        },
        {
         "line": {
          "color": "green",
          "width": 2
         },
         "mode": "lines",
         "name": "Price",
         "showlegend": false,
         "type": "scatter",
         "x": [
          "2024-12-17T00:00:00",
          "2024-12-18T00:00:00"
         ],
         "y": {
          "bdata": "AAAA4FHigkAAAACAPVKCQA==",
          "dtype": "f8"
         }
        },
        {
         "line": {
          "color": "green",
          "width": 2
         },
         "mode": "lines",
         "name": "Price",
         "showlegend": false,
         "type": "scatter",
         "x": [
          "2024-12-18T00:00:00",
          "2024-12-19T00:00:00"
         ],
         "y": {
          "bdata": "AAAAgD1SgkAAAADAzFCCQA==",
          "dtype": "f8"
         }
        },
        {
         "line": {
          "color": "green",
          "width": 2
         },
         "mode": "lines",
         "name": "Price",
         "showlegend": false,
         "type": "scatter",
         "x": [
          "2024-12-19T00:00:00",
          "2024-12-20T00:00:00"
         ],
         "y": {
          "bdata": "AAAAwMxQgkAAAABAM3mCQA==",
          "dtype": "f8"
         }
        },
        {
         "line": {
          "color": "green",
          "width": 2
         },
         "mode": "lines",
         "name": "Price",
         "showlegend": false,
         "type": "scatter",
         "x": [
          "2024-12-20T00:00:00",
          "2024-12-23T00:00:00"
         ],
         "y": {
          "bdata": "AAAAQDN5gkAAAAAghZWCQA==",
          "dtype": "f8"
         }
        },
        {
         "line": {
          "color": "red",
          "width": 2
         },
         "mode": "lines",
         "name": "Price",
         "showlegend": false,
         "type": "scatter",
         "x": [
          "2024-12-23T00:00:00",
          "2024-12-24T00:00:00"
         ],
         "y": {
          "bdata": "AAAAIIWVgkAAAABgZsqCQA==",
          "dtype": "f8"
         }
        },
        {
         "line": {
          "color": "green",
          "width": 2
         },
         "mode": "lines",
         "name": "Price",
         "showlegend": false,
         "type": "scatter",
         "x": [
          "2024-12-24T00:00:00",
          "2024-12-26T00:00:00"
         ],
         "y": {
          "bdata": "AAAAYGbKgkAAAABguMqCQA==",
          "dtype": "f8"
         }
        },
        {
         "line": {
          "color": "green",
          "width": 2
         },
         "mode": "lines",
         "name": "Price",
         "showlegend": false,
         "type": "scatter",
         "x": [
          "2024-12-26T00:00:00",
          "2024-12-27T00:00:00"
         ],
         "y": {
          "bdata": "AAAAYLjKgkAAAACAFJiCQA==",
          "dtype": "f8"
         }
        },
        {
         "line": {
          "color": "red",
          "width": 2
         },
         "mode": "lines",
         "name": "Price",
         "showlegend": false,
         "type": "scatter",
         "x": [
          "2024-12-27T00:00:00",
          "2024-12-30T00:00:00"
         ],
         "y": {
          "bdata": "AAAAgBSYgkAAAACAwmGCQA==",
          "dtype": "f8"
         }
        },
        {
         "line": {
          "color": "red",
          "width": 2
         },
         "mode": "lines",
         "name": "Price",
         "showlegend": false,
         "type": "scatter",
         "x": [
          "2024-12-30T00:00:00",
          "2024-12-31T00:00:00"
         ],
         "y": {
          "bdata": "AAAAgMJhgkAAAADgo1CCQA==",
          "dtype": "f8"
         }
        },
        {
         "line": {
          "color": "red",
          "width": 2
         },
         "mode": "lines",
         "name": "Price",
         "showlegend": false,
         "type": "scatter",
         "x": [
          "2024-12-31T00:00:00",
          "2025-01-02T00:00:00"
         ],
         "y": {
          "bdata": "AAAA4KNQgkAAAADAHkWCQA==",
          "dtype": "f8"
         }
        },
        {
         "line": {
          "color": "red",
          "width": 2
         },
         "mode": "lines",
         "name": "Price",
         "showlegend": false,
         "type": "scatter",
         "x": [
          "2025-01-02T00:00:00",
          "2025-01-03T00:00:00"
         ],
         "y": {
          "bdata": "AAAAwB5FgkAAAACgmX+CQA==",
          "dtype": "f8"
         }
        },
        {
         "line": {
          "color": "green",
          "width": 2
         },
         "mode": "lines",
         "name": "Price",
         "showlegend": false,
         "type": "scatter",
         "x": [
          "2025-01-03T00:00:00",
          "2025-01-06T00:00:00"
         ],
         "y": {
          "bdata": "AAAAoJl/gkAAAABA4ZqCQA==",
          "dtype": "f8"
         }
        },
        {
         "line": {
          "color": "green",
          "width": 2
         },
         "mode": "lines",
         "name": "Price",
         "showlegend": false,
         "type": "scatter",
         "x": [
          "2025-01-06T00:00:00",
          "2025-01-07T00:00:00"
         ],
         "y": {
          "bdata": "AAAAQOGagkAAAABACmWCQA==",
          "dtype": "f8"
         }
        },
        {
         "line": {
          "color": "red",
          "width": 2
         },
         "mode": "lines",
         "name": "Price",
         "showlegend": false,
         "type": "scatter",
         "x": [
          "2025-01-07T00:00:00",
          "2025-01-08T00:00:00"
         ],
         "y": {
          "bdata": "AAAAQAplgkAAAACA62uCQA==",
          "dtype": "f8"
         }
        },
        {
         "line": {
          "color": "red",
          "width": 2
         },
         "mode": "lines",
         "name": "Price",
         "showlegend": false,
         "type": "scatter",
         "x": [
          "2025-01-08T00:00:00",
          "2025-01-10T00:00:00"
         ],
         "y": {
          "bdata": "AAAAgOtrgkAAAACA6yOCQA==",
          "dtype": "f8"
         }
        },
        {
         "line": {
          "color": "red",
          "width": 2
         },
         "mode": "lines",
         "name": "Price",
         "showlegend": false,
         "type": "scatter",
         "x": [
          "2025-01-10T00:00:00",
          "2025-01-13T00:00:00"
         ],
         "y": {
          "bdata": "AAAAgOsjgkAAAADAHiuCQA==",
          "dtype": "f8"
         }
        },
        {
         "line": {
          "color": "red",
          "width": 2
         },
         "mode": "lines",
         "name": "Price",
         "showlegend": false,
         "type": "scatter",
         "x": [
          "2025-01-13T00:00:00",
          "2025-01-14T00:00:00"
         ],
         "y": {
          "bdata": "AAAAwB4rgkAAAAAghTGCQA==",
          "dtype": "f8"
         }
        },
        {
         "line": {
          "color": "red",
          "width": 2
         },
         "mode": "lines",
         "name": "Price",
         "showlegend": false,
         "type": "scatter",
         "x": [
          "2025-01-14T00:00:00",
          "2025-01-15T00:00:00"
         ],
         "y": {
          "bdata": "AAAAIIUxgkAAAACAPYaCQA==",
          "dtype": "f8"
         }
        },
        {
         "line": {
          "color": "red",
          "width": 2
         },
         "mode": "lines",
         "name": "Price",
         "showlegend": false,
         "type": "scatter",
         "x": [
          "2025-01-15T00:00:00",
          "2025-01-16T00:00:00"
         ],
         "y": {
          "bdata": "AAAAgD2GgkAAAADAHn2CQA==",
          "dtype": "f8"
         }
        },
        {
         "line": {
          "color": "red",
          "width": 2
         },
         "mode": "lines",
         "name": "Price",
         "showlegend": false,
         "type": "scatter",
         "x": [
          "2025-01-16T00:00:00",
          "2025-01-17T00:00:00"
         ],
         "y": {
          "bdata": "AAAAwB59gkAAAADgo6yCQA==",
          "dtype": "f8"
         }
        },
        {
         "line": {
          "color": "red",
          "width": 2
         },
         "mode": "lines",
         "name": "Price",
         "showlegend": false,
         "type": "scatter",
         "x": [
          "2025-01-17T00:00:00",
          "2025-01-21T00:00:00"
         ],
         "y": {
          "bdata": "AAAA4KOsgkAAAABgZtiCQA==",
          "dtype": "f8"
         }
        },
        {
         "line": {
          "color": "red",
          "width": 2
         },
         "mode": "lines",
         "name": "Price",
         "showlegend": false,
         "type": "scatter",
         "x": [
          "2025-01-21T00:00:00",
          "2025-01-22T00:00:00"
         ],
         "y": {
          "bdata": "AAAAYGbYgkAAAAAghfOCQA==",
          "dtype": "f8"
         }
        },
        {
         "line": {
          "color": "red",
          "width": 2
         },
         "mode": "lines",
         "name": "Price",
         "showlegend": false,
         "type": "scatter",
         "x": [
          "2025-01-22T00:00:00",
          "2025-01-23T00:00:00"
         ],
         "y": {
          "bdata": "AAAAIIXzgkAAAAAAAA6DQA==",
          "dtype": "f8"
         }
        },
        {
         "line": {
          "color": "green",
          "width": 2
         },
         "mode": "lines",
         "name": "Price",
         "showlegend": false,
         "type": "scatter",
         "x": [
          "2025-01-23T00:00:00",
          "2025-01-24T00:00:00"
         ],
         "y": {
          "bdata": "AAAAAAAOg0AAAACAwv+CQA==",
          "dtype": "f8"
         }
        },
        {
         "line": {
          "color": "green",
          "width": 2
         },
         "mode": "lines",
         "name": "Price",
         "showlegend": false,
         "type": "scatter",
         "x": [
          "2025-01-24T00:00:00",
          "2025-01-27T00:00:00"
         ],
         "y": {
          "bdata": "AAAAgML/gkAAAADA9bqCQA==",
          "dtype": "f8"
         }
        },
        {
         "line": {
          "color": "red",
          "width": 2
         },
         "mode": "lines",
         "name": "Price",
         "showlegend": false,
         "type": "scatter",
         "x": [
          "2025-01-27T00:00:00",
          "2025-01-28T00:00:00"
         ],
         "y": {
          "bdata": "AAAAwPW6gkAAAAAAKeSCQA==",
          "dtype": "f8"
         }
        },
        {
         "line": {
          "color": "green",
          "width": 2
         },
         "mode": "lines",
         "name": "Price",
         "showlegend": false,
         "type": "scatter",
         "x": [
          "2025-01-28T00:00:00",
          "2025-01-29T00:00:00"
         ],
         "y": {
          "bdata": "AAAAACnkgkAAAADges6CQA==",
          "dtype": "f8"
         }
        },
        {
         "line": {
          "color": "red",
          "width": 2
         },
         "mode": "lines",
         "name": "Price",
         "showlegend": false,
         "type": "scatter",
         "x": [
          "2025-01-29T00:00:00",
          "2025-01-30T00:00:00"
         ],
         "y": {
          "bdata": "AAAA4HrOgkAAAADgUeiCQA==",
          "dtype": "f8"
         }
        },
        {
         "line": {
          "color": "green",
          "width": 2
         },
         "mode": "lines",
         "name": "Price",
         "showlegend": false,
         "type": "scatter",
         "x": [
          "2025-01-30T00:00:00",
          "2025-01-31T00:00:00"
         ],
         "y": {
          "bdata": "AAAA4FHogkAAAABgj86CQA==",
          "dtype": "f8"
         }
        },
        {
         "line": {
          "color": "red",
          "width": 2
         },
         "mode": "lines",
         "name": "Price",
         "showlegend": false,
         "type": "scatter",
         "x": [
          "2025-01-31T00:00:00",
          "2025-02-03T00:00:00"
         ],
         "y": {
          "bdata": "AAAAYI/OgkAAAAAAKa6CQA==",
          "dtype": "f8"
         }
        },
        {
         "line": {
          "color": "red",
          "width": 2
         },
         "mode": "lines",
         "name": "Price",
         "showlegend": false,
         "type": "scatter",
         "x": [
          "2025-02-03T00:00:00",
          "2025-02-04T00:00:00"
         ],
         "y": {
          "bdata": "AAAAACmugkAAAACAPc6CQA==",
          "dtype": "f8"
         }
        },
        {
         "line": {
          "color": "red",
          "width": 2
         },
         "mode": "lines",
         "name": "Price",
         "showlegend": false,
         "type": "scatter",
         "x": [
          "2025-02-04T00:00:00",
          "2025-02-05T00:00:00"
         ],
         "y": {
          "bdata": "AAAAgD3OgkAAAACAwuGCQA==",
          "dtype": "f8"
         }
        },
        {
         "line": {
          "color": "green",
          "width": 2
         },
         "mode": "lines",
         "name": "Price",
         "showlegend": false,
         "type": "scatter",
         "x": [
          "2025-02-05T00:00:00",
          "2025-02-06T00:00:00"
         ],
         "y": {
          "bdata": "AAAAgMLhgkAAAABgj/KCQA==",
          "dtype": "f8"
         }
        },
        {
         "line": {
          "color": "green",
          "width": 2
         },
         "mode": "lines",
         "name": "Price",
         "showlegend": false,
         "type": "scatter",
         "x": [
          "2025-02-06T00:00:00",
          "2025-02-07T00:00:00"
         ],
         "y": {
          "bdata": "AAAAYI/ygkAAAAAAKcaCQA==",
          "dtype": "f8"
         }
        },
        {
         "line": {
          "color": "green",
          "width": 2
         },
         "mode": "lines",
         "name": "Price",
         "showlegend": false,
         "type": "scatter",
         "x": [
          "2025-02-07T00:00:00",
          "2025-02-10T00:00:00"
         ],
         "y": {
          "bdata": "AAAAACnGgkAAAADAzOaCQA==",
          "dtype": "f8"
         }
        },
        {
         "line": {
          "color": "green",
          "width": 2
         },
         "mode": "lines",
         "name": "Price",
         "showlegend": false,
         "type": "scatter",
         "x": [
          "2025-02-10T00:00:00",
          "2025-02-11T00:00:00"
         ],
         "y": {
          "bdata": "AAAAwMzmgkAAAADgeuqCQA==",
          "dtype": "f8"
         }
        },
        {
         "line": {
          "color": "green",
          "width": 2
         },
         "mode": "lines",
         "name": "Price",
         "showlegend": false,
         "type": "scatter",
         "x": [
          "2025-02-11T00:00:00",
          "2025-02-12T00:00:00"
         ],
         "y": {
          "bdata": "AAAA4HrqgkAAAABA4dqCQA==",
          "dtype": "f8"
         }
        },
        {
         "line": {
          "color": "green",
          "width": 2
         },
         "mode": "lines",
         "name": "Price",
         "showlegend": false,
         "type": "scatter",
         "x": [
          "2025-02-12T00:00:00",
          "2025-02-13T00:00:00"
         ],
         "y": {
          "bdata": "AAAAQOHagkAAAAAA1w2DQA==",
          "dtype": "f8"
         }
        },
        {
         "line": {
          "color": "green",
          "width": 2
         },
         "mode": "lines",
         "name": "Price",
         "showlegend": false,
         "type": "scatter",
         "x": [
          "2025-02-13T00:00:00",
          "2025-02-14T00:00:00"
         ],
         "y": {
          "bdata": "AAAAANcNg0AAAACgmQ2DQA==",
          "dtype": "f8"
         }
        },
        {
         "line": {
          "color": "green",
          "width": 2
         },
         "mode": "lines",
         "name": "Price",
         "showlegend": false,
         "type": "scatter",
         "x": [
          "2025-02-14T00:00:00",
          "2025-02-18T00:00:00"
         ],
         "y": {
          "bdata": "AAAAoJkNg0AAAACA6xuDQA==",
          "dtype": "f8"
         }
        },
        {
         "line": {
          "color": "green",
          "width": 2
         },
         "mode": "lines",
         "name": "Price",
         "showlegend": false,
         "type": "scatter",
         "x": [
          "2025-02-18T00:00:00",
          "2025-02-19T00:00:00"
         ],
         "y": {
          "bdata": "AAAAgOsbg0AAAACgcCeDQA==",
          "dtype": "f8"
         }
        },
        {
         "line": {
          "color": "green",
          "width": 2
         },
         "mode": "lines",
         "name": "Price",
         "showlegend": false,
         "type": "scatter",
         "x": [
          "2025-02-19T00:00:00",
          "2025-02-20T00:00:00"
         ],
         "y": {
          "bdata": "AAAAoHAng0AAAABAChODQA==",
          "dtype": "f8"
         }
        },
        {
         "line": {
          "color": "green",
          "width": 2
         },
         "mode": "lines",
         "name": "Price",
         "showlegend": false,
         "type": "scatter",
         "x": [
          "2025-02-20T00:00:00",
          "2025-02-21T00:00:00"
         ],
         "y": {
          "bdata": "AAAAQAoTg0AAAAAghb+CQA==",
          "dtype": "f8"
         }
        },
        {
         "line": {
          "color": "green",
          "width": 2
         },
         "mode": "lines",
         "name": "Price",
         "showlegend": false,
         "type": "scatter",
         "x": [
          "2025-02-21T00:00:00",
          "2025-02-24T00:00:00"
         ],
         "y": {
          "bdata": "AAAAIIW/gkAAAAAgrqmCQA==",
          "dtype": "f8"
         }
        },
        {
         "line": {
          "color": "green",
          "width": 2
         },
         "mode": "lines",
         "name": "Price",
         "showlegend": false,
         "type": "scatter",
         "x": [
          "2025-02-24T00:00:00",
          "2025-02-25T00:00:00"
         ],
         "y": {
          "bdata": "AAAAIK6pgkAAAACA65GCQA==",
          "dtype": "f8"
         }
        },
        {
         "line": {
          "color": "green",
          "width": 2
         },
         "mode": "lines",
         "name": "Price",
         "showlegend": false,
         "type": "scatter",
         "x": [
          "2025-02-25T00:00:00",
          "2025-02-26T00:00:00"
         ],
         "y": {
          "bdata": "AAAAgOuRgkAAAADgUZSCQA==",
          "dtype": "f8"
         }
        },
        {
         "line": {
          "color": "green",
          "width": 2
         },
         "mode": "lines",
         "name": "Price",
         "showlegend": false,
         "type": "scatter",
         "x": [
          "2025-02-26T00:00:00",
          "2025-02-27T00:00:00"
         ],
         "y": {
          "bdata": "AAAA4FGUgkAAAABgZkiCQA==",
          "dtype": "f8"
         }
        },
        {
         "line": {
          "color": "green",
          "width": 2
         },
         "mode": "lines",
         "name": "Price",
         "showlegend": false,
         "type": "scatter",
         "x": [
          "2025-02-27T00:00:00",
          "2025-02-28T00:00:00"
         ],
         "y": {
          "bdata": "AAAAYGZIgkAAAACgcJGCQA==",
          "dtype": "f8"
         }
        },
        {
         "line": {
          "color": "green",
          "width": 2
         },
         "mode": "lines",
         "name": "Price",
         "showlegend": false,
         "type": "scatter",
         "x": [
          "2025-02-28T00:00:00",
          "2025-03-03T00:00:00"
         ],
         "y": {
          "bdata": "AAAAoHCRgkAAAAAAKT6CQA==",
          "dtype": "f8"
         }
        },
        {
         "line": {
          "color": "red",
          "width": 2
         },
         "mode": "lines",
         "name": "Price",
         "showlegend": false,
         "type": "scatter",
         "x": [
          "2025-03-03T00:00:00",
          "2025-03-04T00:00:00"
         ],
         "y": {
          "bdata": "AAAAACk+gkAAAABA4QaCQA==",
          "dtype": "f8"
         }
        },
        {
         "line": {
          "color": "red",
          "width": 2
         },
         "mode": "lines",
         "name": "Price",
         "showlegend": false,
         "type": "scatter",
         "x": [
          "2025-03-04T00:00:00",
          "2025-03-05T00:00:00"
         ],
         "y": {
          "bdata": "AAAAQOEGgkAAAADgejiCQA==",
          "dtype": "f8"
         }
        },
        {
         "line": {
          "color": "red",
          "width": 2
         },
         "mode": "lines",
         "name": "Price",
         "showlegend": false,
         "type": "scatter",
         "x": [
          "2025-03-05T00:00:00",
          "2025-03-06T00:00:00"
         ],
         "y": {
          "bdata": "AAAA4Ho4gkAAAAAgruWBQA==",
          "dtype": "f8"
         }
        },
        {
         "line": {
          "color": "red",
          "width": 2
         },
         "mode": "lines",
         "name": "Price",
         "showlegend": false,
         "type": "scatter",
         "x": [
          "2025-03-06T00:00:00",
          "2025-03-07T00:00:00"
         ],
         "y": {
          "bdata": "AAAAIK7lgUAAAAAgXP+BQA==",
          "dtype": "f8"
         }
        },
        {
         "line": {
          "color": "red",
          "width": 2
         },
         "mode": "lines",
         "name": "Price",
         "showlegend": false,
         "type": "scatter",
         "x": [
          "2025-03-07T00:00:00",
          "2025-03-10T00:00:00"
         ],
         "y": {
          "bdata": "AAAAIFz/gUAAAADgo4SBQA==",
          "dtype": "f8"
         }
        },
        {
         "line": {
          "color": "red",
          "width": 2
         },
         "mode": "lines",
         "name": "Price",
         "showlegend": false,
         "type": "scatter",
         "x": [
          "2025-03-10T00:00:00",
          "2025-03-11T00:00:00"
         ],
         "y": {
          "bdata": "AAAA4KOEgUAAAAAgXF+BQA==",
          "dtype": "f8"
         }
        },
        {
         "line": {
          "color": "red",
          "width": 2
         },
         "mode": "lines",
         "name": "Price",
         "showlegend": false,
         "type": "scatter",
         "x": [
          "2025-03-11T00:00:00",
          "2025-03-12T00:00:00"
         ],
         "y": {
          "bdata": "AAAAIFxfgUAAAADA9XaBQA==",
          "dtype": "f8"
         }
        },
        {
         "line": {
          "color": "red",
          "width": 2
         },
         "mode": "lines",
         "name": "Price",
         "showlegend": false,
         "type": "scatter",
         "x": [
          "2025-03-12T00:00:00",
          "2025-03-13T00:00:00"
         ],
         "y": {
          "bdata": "AAAAwPV2gUAAAAAgXDuBQA==",
          "dtype": "f8"
         }
        },
        {
         "line": {
          "color": "red",
          "width": 2
         },
         "mode": "lines",
         "name": "Price",
         "showlegend": false,
         "type": "scatter",
         "x": [
          "2025-03-13T00:00:00",
          "2025-03-14T00:00:00"
         ],
         "y": {
          "bdata": "AAAAIFw7gUAAAADgepaBQA==",
          "dtype": "f8"
         }
        },
        {
         "line": {
          "color": "red",
          "width": 2
         },
         "mode": "lines",
         "name": "Price",
         "showlegend": false,
         "type": "scatter",
         "x": [
          "2025-03-14T00:00:00",
          "2025-03-17T00:00:00"
         ],
         "y": {
          "bdata": "AAAA4HqWgUAAAABAM7mBQA==",
          "dtype": "f8"
         }
        },
        {
         "line": {
          "color": "red",
          "width": 2
         },
         "mode": "lines",
         "name": "Price",
         "showlegend": false,
         "type": "scatter",
         "x": [
          "2025-03-17T00:00:00",
          "2025-03-18T00:00:00"
         ],
         "y": {
          "bdata": "AAAAQDO5gUAAAAAAKYiBQA==",
          "dtype": "f8"
         }
        },
        {
         "line": {
          "color": "red",
          "width": 2
         },
         "mode": "lines",
         "name": "Price",
         "showlegend": false,
         "type": "scatter",
         "x": [
          "2025-03-18T00:00:00",
          "2025-03-19T00:00:00"
         ],
         "y": {
          "bdata": "AAAAACmIgUAAAABACrmBQA==",
          "dtype": "f8"
         }
        },
        {
         "line": {
          "color": "red",
          "width": 2
         },
         "mode": "lines",
         "name": "Price",
         "showlegend": false,
         "type": "scatter",
         "x": [
          "2025-03-19T00:00:00",
          "2025-03-20T00:00:00"
         ],
         "y": {
          "bdata": "AAAAQAq5gUAAAACA66uBQA==",
          "dtype": "f8"
         }
        },
        {
         "line": {
          "color": "red",
          "width": 2
         },
         "mode": "lines",
         "name": "Price",
         "showlegend": false,
         "type": "scatter",
         "x": [
          "2025-03-20T00:00:00",
          "2025-03-21T00:00:00"
         ],
         "y": {
          "bdata": "AAAAgOurgUAAAAAA15+BQA==",
          "dtype": "f8"
         }
        },
        {
         "line": {
          "color": "red",
          "width": 2
         },
         "mode": "lines",
         "name": "Price",
         "showlegend": false,
         "type": "scatter",
         "x": [
          "2025-03-21T00:00:00",
          "2025-03-24T00:00:00"
         ],
         "y": {
          "bdata": "AAAAANefgUAAAADgo/CBQA==",
          "dtype": "f8"
         }
        },
        {
         "line": {
          "color": "red",
          "width": 2
         },
         "mode": "lines",
         "name": "Price",
         "showlegend": false,
         "type": "scatter",
         "x": [
          "2025-03-24T00:00:00",
          "2025-03-25T00:00:00"
         ],
         "y": {
          "bdata": "AAAA4KPwgUAAAAAgrvuBQA==",
          "dtype": "f8"
         }
        },
        {
         "line": {
          "color": "red",
          "width": 2
         },
         "mode": "lines",
         "name": "Price",
         "showlegend": false,
         "type": "scatter",
         "x": [
          "2025-03-25T00:00:00",
          "2025-03-26T00:00:00"
         ],
         "y": {
          "bdata": "AAAAIK77gUAAAABguMSBQA==",
          "dtype": "f8"
         }
        },
        {
         "line": {
          "color": "red",
          "width": 2
         },
         "mode": "lines",
         "name": "Price",
         "showlegend": false,
         "type": "scatter",
         "x": [
          "2025-03-26T00:00:00",
          "2025-03-27T00:00:00"
         ],
         "y": {
          "bdata": "AAAAYLjEgUAAAADgo7iBQA==",
          "dtype": "f8"
         }
        },
        {
         "line": {
          "color": "red",
          "width": 2
         },
         "mode": "lines",
         "name": "Price",
         "showlegend": false,
         "type": "scatter",
         "x": [
          "2025-03-27T00:00:00",
          "2025-03-28T00:00:00"
         ],
         "y": {
          "bdata": "AAAA4KO4gUAAAACgR12BQA==",
          "dtype": "f8"
         }
        },
        {
         "line": {
          "color": "red",
          "width": 2
         },
         "mode": "lines",
         "name": "Price",
         "showlegend": false,
         "type": "scatter",
         "x": [
          "2025-03-28T00:00:00",
          "2025-03-31T00:00:00"
         ],
         "y": {
          "bdata": "AAAAoEddgUAAAADAHnuBQA==",
          "dtype": "f8"
         }
        },
        {
         "line": {
          "color": "red",
          "width": 2
         },
         "mode": "lines",
         "name": "Price",
         "showlegend": false,
         "type": "scatter",
         "x": [
          "2025-03-31T00:00:00",
          "2025-04-01T00:00:00"
         ],
         "y": {
          "bdata": "AAAAwB57gUAAAACAwoeBQA==",
          "dtype": "f8"
         }
        },
        {
         "line": {
          "color": "red",
          "width": 2
         },
         "mode": "lines",
         "name": "Price",
         "showlegend": false,
         "type": "scatter",
         "x": [
          "2025-04-01T00:00:00",
          "2025-04-02T00:00:00"
         ],
         "y": {
          "bdata": "AAAAgMKHgUAAAAAAKaSBQA==",
          "dtype": "f8"
         }
        },
        {
         "line": {
          "color": "red",
          "width": 2
         },
         "mode": "lines",
         "name": "Price",
         "showlegend": false,
         "type": "scatter",
         "x": [
          "2025-04-02T00:00:00",
          "2025-04-03T00:00:00"
         ],
         "y": {
          "bdata": "AAAAACmkgUAAAACgmcWAQA==",
          "dtype": "f8"
         }
        },
        {
         "line": {
          "color": "red",
          "width": 2
         },
         "mode": "lines",
         "name": "Price",
         "showlegend": false,
         "type": "scatter",
         "x": [
          "2025-04-03T00:00:00",
          "2025-04-04T00:00:00"
         ],
         "y": {
          "bdata": "AAAAoJnFgEAAAADgepR/QA==",
          "dtype": "f8"
         }
        },
        {
         "line": {
          "color": "red",
          "width": 2
         },
         "mode": "lines",
         "name": "Price",
         "showlegend": false,
         "type": "scatter",
         "x": [
          "2025-04-04T00:00:00",
          "2025-04-07T00:00:00"
         ],
         "y": {
          "bdata": "AAAA4HqUf0AAAACAFIZ/QA==",
          "dtype": "f8"
         }
        },
        {
         "line": {
          "color": "red",
          "width": 2
         },
         "mode": "lines",
         "name": "Price",
         "showlegend": false,
         "type": "scatter",
         "x": [
          "2025-04-07T00:00:00",
          "2025-04-08T00:00:00"
         ],
         "y": {
          "bdata": "AAAAgBSGf0AAAAAgrgd/QA==",
          "dtype": "f8"
         }
        },
        {
         "line": {
          "color": "red",
          "width": 2
         },
         "mode": "lines",
         "name": "Price",
         "showlegend": false,
         "type": "scatter",
         "x": [
          "2025-04-08T00:00:00",
          "2025-04-09T00:00:00"
         ],
         "y": {
          "bdata": "AAAAIK4Hf0AAAADA9SSBQA==",
          "dtype": "f8"
         }
        },
        {
         "line": {
          "color": "red",
          "width": 2
         },
         "mode": "lines",
         "name": "Price",
         "showlegend": false,
         "type": "scatter",
         "x": [
          "2025-04-09T00:00:00",
          "2025-04-10T00:00:00"
         ],
         "y": {
          "bdata": "AAAAwPUkgUAAAADgo2SAQA==",
          "dtype": "f8"
         }
        },
        {
         "line": {
          "color": "red",
          "width": 2
         },
         "mode": "lines",
         "name": "Price",
         "showlegend": false,
         "type": "scatter",
         "x": [
          "2025-04-10T00:00:00",
          "2025-04-11T00:00:00"
         ],
         "y": {
          "bdata": "AAAA4KNkgEAAAAAgha+AQA==",
          "dtype": "f8"
         }
        },
        {
         "line": {
          "color": "red",
          "width": 2
         },
         "mode": "lines",
         "name": "Price",
         "showlegend": false,
         "type": "scatter",
         "x": [
          "2025-04-11T00:00:00",
          "2025-04-14T00:00:00"
         ],
         "y": {
          "bdata": "AAAAIIWvgEAAAADA9diAQA==",
          "dtype": "f8"
         }
        }
       ],
       "layout": {
        "legend": {
         "orientation": "h",
         "x": 0.45,
         "xanchor": "center",
         "y": 1.15
        },
        "showlegend": true,
        "template": {
         "data": {
          "bar": [
           {
            "error_x": {
             "color": "#f2f5fa"
            },
            "error_y": {
             "color": "#f2f5fa"
            },
            "marker": {
             "line": {
              "color": "rgb(17,17,17)",
              "width": 0.5
             },
             "pattern": {
              "fillmode": "overlay",
              "size": 10,
              "solidity": 0.2
             }
            },
            "type": "bar"
           }
          ],
          "barpolar": [
           {
            "marker": {
             "line": {
              "color": "rgb(17,17,17)",
              "width": 0.5
             },
             "pattern": {
              "fillmode": "overlay",
              "size": 10,
              "solidity": 0.2
             }
            },
            "type": "barpolar"
           }
          ],
          "carpet": [
           {
            "aaxis": {
             "endlinecolor": "#A2B1C6",
             "gridcolor": "#506784",
             "linecolor": "#506784",
             "minorgridcolor": "#506784",
             "startlinecolor": "#A2B1C6"
            },
            "baxis": {
             "endlinecolor": "#A2B1C6",
             "gridcolor": "#506784",
             "linecolor": "#506784",
             "minorgridcolor": "#506784",
             "startlinecolor": "#A2B1C6"
            },
            "type": "carpet"
           }
          ],
          "choropleth": [
           {
            "colorbar": {
             "outlinewidth": 0,
             "ticks": ""
            },
            "type": "choropleth"
           }
          ],
          "contour": [
           {
            "colorbar": {
             "outlinewidth": 0,
             "ticks": ""
            },
            "colorscale": [
             [
              0,
              "#0d0887"
             ],
             [
              0.1111111111111111,
              "#46039f"
             ],
             [
              0.2222222222222222,
              "#7201a8"
             ],
             [
              0.3333333333333333,
              "#9c179e"
             ],
             [
              0.4444444444444444,
              "#bd3786"
             ],
             [
              0.5555555555555556,
              "#d8576b"
             ],
             [
              0.6666666666666666,
              "#ed7953"
             ],
             [
              0.7777777777777778,
              "#fb9f3a"
             ],
             [
              0.8888888888888888,
              "#fdca26"
             ],
             [
              1,
              "#f0f921"
             ]
            ],
            "type": "contour"
           }
          ],
          "contourcarpet": [
           {
            "colorbar": {
             "outlinewidth": 0,
             "ticks": ""
            },
            "type": "contourcarpet"
           }
          ],
          "heatmap": [
           {
            "colorbar": {
             "outlinewidth": 0,
             "ticks": ""
            },
            "colorscale": [
             [
              0,
              "#0d0887"
             ],
             [
              0.1111111111111111,
              "#46039f"
             ],
             [
              0.2222222222222222,
              "#7201a8"
             ],
             [
              0.3333333333333333,
              "#9c179e"
             ],
             [
              0.4444444444444444,
              "#bd3786"
             ],
             [
              0.5555555555555556,
              "#d8576b"
             ],
             [
              0.6666666666666666,
              "#ed7953"
             ],
             [
              0.7777777777777778,
              "#fb9f3a"
             ],
             [
              0.8888888888888888,
              "#fdca26"
             ],
             [
              1,
              "#f0f921"
             ]
            ],
            "type": "heatmap"
           }
          ],
          "histogram": [
           {
            "marker": {
             "pattern": {
              "fillmode": "overlay",
              "size": 10,
              "solidity": 0.2
             }
            },
            "type": "histogram"
           }
          ],
          "histogram2d": [
           {
            "colorbar": {
             "outlinewidth": 0,
             "ticks": ""
            },
            "colorscale": [
             [
              0,
              "#0d0887"
             ],
             [
              0.1111111111111111,
              "#46039f"
             ],
             [
              0.2222222222222222,
              "#7201a8"
             ],
             [
              0.3333333333333333,
              "#9c179e"
             ],
             [
              0.4444444444444444,
              "#bd3786"
             ],
             [
              0.5555555555555556,
              "#d8576b"
             ],
             [
              0.6666666666666666,
              "#ed7953"
             ],
             [
              0.7777777777777778,
              "#fb9f3a"
             ],
             [
              0.8888888888888888,
              "#fdca26"
             ],
             [
              1,
              "#f0f921"
             ]
            ],
            "type": "histogram2d"
           }
          ],
          "histogram2dcontour": [
           {
            "colorbar": {
             "outlinewidth": 0,
             "ticks": ""
            },
            "colorscale": [
             [
              0,
              "#0d0887"
             ],
             [
              0.1111111111111111,
              "#46039f"
             ],
             [
              0.2222222222222222,
              "#7201a8"
             ],
             [
              0.3333333333333333,
              "#9c179e"
             ],
             [
              0.4444444444444444,
              "#bd3786"
             ],
             [
              0.5555555555555556,
              "#d8576b"
             ],
             [
              0.6666666666666666,
              "#ed7953"
             ],
             [
              0.7777777777777778,
              "#fb9f3a"
             ],
             [
              0.8888888888888888,
              "#fdca26"
             ],
             [
              1,
              "#f0f921"
             ]
            ],
            "type": "histogram2dcontour"
           }
          ],
          "mesh3d": [
           {
            "colorbar": {
             "outlinewidth": 0,
             "ticks": ""
            },
            "type": "mesh3d"
           }
          ],
          "parcoords": [
           {
            "line": {
             "colorbar": {
              "outlinewidth": 0,
              "ticks": ""
             }
            },
            "type": "parcoords"
           }
          ],
          "pie": [
           {
            "automargin": true,
            "type": "pie"
           }
          ],
          "scatter": [
           {
            "marker": {
             "line": {
              "color": "#283442"
             }
            },
            "type": "scatter"
           }
          ],
          "scatter3d": [
           {
            "line": {
             "colorbar": {
              "outlinewidth": 0,
              "ticks": ""
             }
            },
            "marker": {
             "colorbar": {
              "outlinewidth": 0,
              "ticks": ""
             }
            },
            "type": "scatter3d"
           }
          ],
          "scattercarpet": [
           {
            "marker": {
             "colorbar": {
              "outlinewidth": 0,
              "ticks": ""
             }
            },
            "type": "scattercarpet"
           }
          ],
          "scattergeo": [
           {
            "marker": {
             "colorbar": {
              "outlinewidth": 0,
              "ticks": ""
             }
            },
            "type": "scattergeo"
           }
          ],
          "scattergl": [
           {
            "marker": {
             "line": {
              "color": "#283442"
             }
            },
            "type": "scattergl"
           }
          ],
          "scattermapbox": [
           {
            "marker": {
             "colorbar": {
              "outlinewidth": 0,
              "ticks": ""
             }
            },
            "type": "scattermapbox"
           }
          ],
          "scatterpolar": [
           {
            "marker": {
             "colorbar": {
              "outlinewidth": 0,
              "ticks": ""
             }
            },
            "type": "scatterpolar"
           }
          ],
          "scatterpolargl": [
           {
            "marker": {
             "colorbar": {
              "outlinewidth": 0,
              "ticks": ""
             }
            },
            "type": "scatterpolargl"
           }
          ],
          "scatterternary": [
           {
            "marker": {
             "colorbar": {
              "outlinewidth": 0,
              "ticks": ""
             }
            },
            "type": "scatterternary"
           }
          ],
          "surface": [
           {
            "colorbar": {
             "outlinewidth": 0,
             "ticks": ""
            },
            "colorscale": [
             [
              0,
              "#0d0887"
             ],
             [
              0.1111111111111111,
              "#46039f"
             ],
             [
              0.2222222222222222,
              "#7201a8"
             ],
             [
              0.3333333333333333,
              "#9c179e"
             ],
             [
              0.4444444444444444,
              "#bd3786"
             ],
             [
              0.5555555555555556,
              "#d8576b"
             ],
             [
              0.6666666666666666,
              "#ed7953"
             ],
             [
              0.7777777777777778,
              "#fb9f3a"
             ],
             [
              0.8888888888888888,
              "#fdca26"
             ],
             [
              1,
              "#f0f921"
             ]
            ],
            "type": "surface"
           }
          ],
          "table": [
           {
            "cells": {
             "fill": {
              "color": "#506784"
             },
             "line": {
              "color": "rgb(17,17,17)"
             }
            },
            "header": {
             "fill": {
              "color": "#2a3f5f"
             },
             "line": {
              "color": "rgb(17,17,17)"
             }
            },
            "type": "table"
           }
          ]
         },
         "layout": {
          "annotationdefaults": {
           "arrowcolor": "#f2f5fa",
           "arrowhead": 0,
           "arrowwidth": 1
          },
          "annotations": [
           {
            "font": {
             "color": "black",
             "size": 90
            },
            "name": "draft watermark",
            "opacity": 0.1,
            "showarrow": false,
            "text": "humblDATA",
            "textangle": -25,
            "x": 0.5,
            "xref": "paper",
            "y": 0.5,
            "yref": "paper"
           }
          ],
          "autotypenumbers": "strict",
          "coloraxis": {
           "colorbar": {
            "outlinewidth": 0,
            "ticks": ""
           }
          },
          "colorscale": {
           "diverging": [
            [
             0,
             "#8e0152"
            ],
            [
             0.1,
             "#c51b7d"
            ],
            [
             0.2,
             "#de77ae"
            ],
            [
             0.3,
             "#f1b6da"
            ],
            [
             0.4,
             "#fde0ef"
            ],
            [
             0.5,
             "#f7f7f7"
            ],
            [
             0.6,
             "#e6f5d0"
            ],
            [
             0.7,
             "#b8e186"
            ],
            [
             0.8,
             "#7fbc41"
            ],
            [
             0.9,
             "#4d9221"
            ],
            [
             1,
             "#276419"
            ]
           ],
           "sequential": [
            [
             0,
             "#0d0887"
            ],
            [
             0.1111111111111111,
             "#46039f"
            ],
            [
             0.2222222222222222,
             "#7201a8"
            ],
            [
             0.3333333333333333,
             "#9c179e"
            ],
            [
             0.4444444444444444,
             "#bd3786"
            ],
            [
             0.5555555555555556,
             "#d8576b"
            ],
            [
             0.6666666666666666,
             "#ed7953"
            ],
            [
             0.7777777777777778,
             "#fb9f3a"
            ],
            [
             0.8888888888888888,
             "#fdca26"
            ],
            [
             1,
             "#f0f921"
            ]
           ],
           "sequentialminus": [
            [
             0,
             "#0d0887"
            ],
            [
             0.1111111111111111,
             "#46039f"
            ],
            [
             0.2222222222222222,
             "#7201a8"
            ],
            [
             0.3333333333333333,
             "#9c179e"
            ],
            [
             0.4444444444444444,
             "#bd3786"
            ],
            [
             0.5555555555555556,
             "#d8576b"
            ],
            [
             0.6666666666666666,
             "#ed7953"
            ],
            [
             0.7777777777777778,
             "#fb9f3a"
            ],
            [
             0.8888888888888888,
             "#fdca26"
            ],
            [
             1,
             "#f0f921"
            ]
           ]
          },
          "colorway": [
           "#636efa",
           "#EF553B",
           "#00cc96",
           "#ab63fa",
           "#FFA15A",
           "#19d3f3",
           "#FF6692",
           "#B6E880",
           "#FF97FF",
           "#FECB52"
          ],
          "font": {
           "color": "white"
          },
          "geo": {
           "bgcolor": "rgb(17,17,17)",
           "lakecolor": "rgb(17,17,17)",
           "landcolor": "rgb(17,17,17)",
           "showlakes": true,
           "showland": true,
           "subunitcolor": "#506784"
          },
          "hoverlabel": {
           "align": "left"
          },
          "hovermode": "closest",
          "legend": {
           "bgcolor": "rgb(0,0,0,0)",
           "bordercolor": "rgb(63,70,139)",
           "borderwidth": 0.5,
           "font": {
            "color": "white",
            "family": "open-sans",
            "size": 12
           },
           "orientation": "h",
           "traceorder": "normal",
           "x": 0.5,
           "xanchor": "center",
           "y": -0.15
          },
          "mapbox": {
           "style": "dark"
          },
          "paper_bgcolor": "rgb(0,0,0,0)",
          "plot_bgcolor": "rgb(0,0,0,0)",
          "polar": {
           "angularaxis": {
            "gridcolor": "#506784",
            "linecolor": "#506784",
            "ticks": ""
           },
           "bgcolor": "rgb(17,17,17)",
           "radialaxis": {
            "gridcolor": "#506784",
            "linecolor": "#506784",
            "ticks": ""
           }
          },
          "scene": {
           "xaxis": {
            "backgroundcolor": "rgb(17,17,17)",
            "gridcolor": "#506784",
            "gridwidth": 2,
            "linecolor": "#506784",
            "showbackground": true,
            "ticks": "",
            "zerolinecolor": "#C8D4E3"
           },
           "yaxis": {
            "backgroundcolor": "rgb(17,17,17)",
            "gridcolor": "#506784",
            "gridwidth": 2,
            "linecolor": "#506784",
            "showbackground": true,
            "ticks": "",
            "zerolinecolor": "#C8D4E3"
           },
           "zaxis": {
            "backgroundcolor": "rgb(17,17,17)",
            "gridcolor": "#506784",
            "gridwidth": 2,
            "linecolor": "#506784",
            "showbackground": true,
            "ticks": "",
            "zerolinecolor": "#C8D4E3"
           }
          },
          "shapedefaults": {
           "line": {
            "color": "#f2f5fa"
           }
          },
          "sliderdefaults": {
           "bgcolor": "#C8D4E3",
           "bordercolor": "rgb(17,17,17)",
           "borderwidth": 1,
           "tickwidth": 0
          },
          "ternary": {
           "aaxis": {
            "gridcolor": "#506784",
            "linecolor": "#506784",
            "ticks": ""
           },
           "baxis": {
            "gridcolor": "#506784",
            "linecolor": "#506784",
            "ticks": ""
           },
           "bgcolor": "rgb(17,17,17)",
           "caxis": {
            "gridcolor": "#506784",
            "linecolor": "#506784",
            "ticks": ""
           }
          },
          "title": {
           "x": 0.05
          },
          "updatemenudefaults": {
           "bgcolor": "#506784",
           "borderwidth": 0
          },
          "xaxis": {
           "automargin": true,
           "gridcolor": "#283442",
           "linecolor": "#506784",
           "ticks": "",
           "title": {
            "standoff": 15
           },
           "zerolinecolor": "#283442",
           "zerolinewidth": 2
          },
          "yaxis": {
           "automargin": true,
           "gridcolor": "#283442",
           "linecolor": "#506784",
           "side": "right",
           "ticks": "",
           "title": {
            "standoff": 15
           },
           "zerolinecolor": "#283442",
           "zerolinewidth": 2
          }
         }
        },
        "title": {
         "text": "Price Colored by Momentum for SPY"
        },
        "xaxis": {
         "title": {
          "text": "Date"
         }
        },
        "yaxis": {
         "title": {
          "text": "Price"
         }
        }
       }
      }
     },
     "metadata": {},
     "output_type": "display_data"
    }
   ],
   "source": [
    "log_momentum.show()"
   ]
  },
  {
   "cell_type": "code",
   "execution_count": null,
   "metadata": {},
   "outputs": [],
   "source": []
  }
 ],
 "metadata": {
  "kernelspec": {
   "display_name": "Python 3",
   "language": "python",
   "name": "python3"
  },
  "language_info": {
   "codemirror_mode": {
    "name": "ipython",
    "version": 3
   },
   "file_extension": ".py",
   "mimetype": "text/x-python",
   "name": "python",
   "nbconvert_exporter": "python",
   "pygments_lexer": "ipython3",
   "version": "3.12.9"
  }
 },
 "nbformat": 4,
 "nbformat_minor": 2
}
