{
 "cells": [
  {
   "cell_type": "code",
   "execution_count": 5,
   "metadata": {},
   "outputs": [
    {
     "name": "stdout",
     "output_type": "stream",
     "text": [
      "The autoreload extension is already loaded. To reload it, use:\n",
      "  %reload_ext autoreload\n"
     ]
    }
   ],
   "source": [
    "%load_ext autoreload\n",
    "%autoreload\n",
    "\n",
    "from humbldata.portfolio.portfolio_controller import Portfolio\n",
    "\n",
    "portfolio = Portfolio(\n",
    "    symbols=\"AAPL,PCT,NVDA\",\n",
    "    membership=\"admin\"\n",
    ")"
   ]
  },
  {
   "cell_type": "markdown",
   "metadata": {},
   "source": [
    "## Analytics"
   ]
  },
  {
   "cell_type": "code",
   "execution_count": 6,
   "metadata": {},
   "outputs": [
    {
     "name": "stderr",
     "output_type": "stream",
     "text": [
      "\u001b[1;35mINFO:\u001b[0m \u001b[36mUserTableFetcher\u001b[0m || \u001b[32mSTART: fetch_data (async)\u001b[0m\n",
      "\u001b[1;35mDEBUG:\u001b[0m \u001b[36mUserTableFetcher\u001b[0m || \u001b[34mRunning .transform_query()\u001b[0m\n",
      "\u001b[1;35mDEBUG:\u001b[0m \u001b[36mUserTableFetcher\u001b[0m || \u001b[34mRunning .extract_data()\u001b[0m\n",
      "\u001b[1;35mINFO:\u001b[0m \u001b[36mMandelbrotChannelFetcher\u001b[0m || \u001b[32mSTART: fetch_data (sync)\u001b[0m\n",
      "\u001b[1;35mDEBUG:\u001b[0m \u001b[36mMandelbrotChannelFetcher\u001b[0m || \u001b[34mRunning .transform_query()\u001b[0m\n",
      "\u001b[1;35mDEBUG:\u001b[0m \u001b[36mMandelbrotChannelFetcher\u001b[0m || \u001b[34mRunning .extract_data()\u001b[0m\n",
      "\u001b[1;35mDEBUG:\u001b[0m \u001b[36mMandelbrotChannelFetcher\u001b[0m || \u001b[34mRunning .transform_data()\u001b[0m\n",
      "\u001b[1;35mINFO:\u001b[0m \u001b[36mMandelbrotChannelFetcher\u001b[0m || \u001b[32mEND: fetch_data (sync) - Total time: 1.4711s\u001b[0m\n",
      "\u001b[1;35mDEBUG:\u001b[0m \u001b[36mUserTableFetcher\u001b[0m || \u001b[34mRunning .transform_data()\u001b[0m\n",
      "\u001b[1;35mINFO:\u001b[0m \u001b[36mUserTableFetcher\u001b[0m || \u001b[32mEND: fetch_data (async) - Total time: 1.9255s\u001b[0m\n"
     ]
    },
    {
     "data": {
      "text/plain": [
       "HumblObject\n",
       "\n",
       "id: 067bdf3a-7e88-7e58-8000-5310ca690420\n",
       "results: naive plan: (run LazyFrame.explain(optimized=True) to see the optimized pl...\n",
       "equity_data: None\n",
       "provider: yfinance\n",
       "warnings: None\n",
       "chart: None\n",
       "extra: {}\n",
       "context_params: {'symbols': ['AAPL', 'PCT', 'NVDA'], 'provider': 'yfinance', 'membe...\n",
       "command_params: {'symbols': 'symbols'}"
      ]
     },
     "execution_count": 6,
     "metadata": {},
     "output_type": "execute_result"
    }
   ],
   "source": [
    "analytics = await portfolio.analytics.user_table()\n",
    "analytics"
   ]
  },
  {
   "cell_type": "code",
   "execution_count": 7,
   "metadata": {},
   "outputs": [
    {
     "data": {
      "text/html": [
       "<div><style>\n",
       ".dataframe > thead > tr,\n",
       ".dataframe > tbody > tr {\n",
       "  text-align: right;\n",
       "  white-space: pre-wrap;\n",
       "}\n",
       "</style>\n",
       "<small>shape: (3, 9)</small><table border=\"1\" class=\"dataframe\"><thead><tr><th>date</th><th>symbol</th><th>buy_price</th><th>last_price</th><th>sell_price</th><th>ud_pct</th><th>ud_ratio</th><th>sector</th><th>asset_class</th></tr><tr><td>date</td><td>str</td><td>f64</td><td>f64</td><td>f64</td><td>str</td><td>f64</td><td>str</td><td>str</td></tr></thead><tbody><tr><td>2025-02-25</td><td>&quot;AAPL&quot;</td><td>243.19</td><td>247.99</td><td>255.89</td><td>&quot;-1.93 / +3.19&quot;</td><td>0.62</td><td>&quot;Technology&quot;</td><td>&quot;Equity&quot;</td></tr><tr><td>2025-02-25</td><td>&quot;NVDA&quot;</td><td>112.36</td><td>126.72</td><td>133.37</td><td>&quot;-11.33 / +5.25&quot;</td><td>0.32</td><td>&quot;Technology&quot;</td><td>&quot;Equity&quot;</td></tr><tr><td>2025-02-25</td><td>&quot;PCT&quot;</td><td>8.56</td><td>9.3</td><td>10.17</td><td>&quot;-7.95 / +9.46&quot;</td><td>0.54</td><td>&quot;Industrials&quot;</td><td>&quot;Equity&quot;</td></tr></tbody></table></div>"
      ],
      "text/plain": [
       "shape: (3, 9)\n",
       "┌────────────┬────────┬───────────┬────────────┬───┬────────────┬──────────┬───────────┬───────────┐\n",
       "│ date       ┆ symbol ┆ buy_price ┆ last_price ┆ … ┆ ud_pct     ┆ ud_ratio ┆ sector    ┆ asset_cla │\n",
       "│ ---        ┆ ---    ┆ ---       ┆ ---        ┆   ┆ ---        ┆ ---      ┆ ---       ┆ ss        │\n",
       "│ date       ┆ str    ┆ f64       ┆ f64        ┆   ┆ str        ┆ f64      ┆ str       ┆ ---       │\n",
       "│            ┆        ┆           ┆            ┆   ┆            ┆          ┆           ┆ str       │\n",
       "╞════════════╪════════╪═══════════╪════════════╪═══╪════════════╪══════════╪═══════════╪═══════════╡\n",
       "│ 2025-02-25 ┆ AAPL   ┆ 243.19    ┆ 247.99     ┆ … ┆ -1.93 /    ┆ 0.62     ┆ Technolog ┆ Equity    │\n",
       "│            ┆        ┆           ┆            ┆   ┆ +3.19      ┆          ┆ y         ┆           │\n",
       "│ 2025-02-25 ┆ NVDA   ┆ 112.36    ┆ 126.72     ┆ … ┆ -11.33 /   ┆ 0.32     ┆ Technolog ┆ Equity    │\n",
       "│            ┆        ┆           ┆            ┆   ┆ +5.25      ┆          ┆ y         ┆           │\n",
       "│ 2025-02-25 ┆ PCT    ┆ 8.56      ┆ 9.3        ┆ … ┆ -7.95 /    ┆ 0.54     ┆ Industria ┆ Equity    │\n",
       "│            ┆        ┆           ┆            ┆   ┆ +9.46      ┆          ┆ ls        ┆           │\n",
       "└────────────┴────────┴───────────┴────────────┴───┴────────────┴──────────┴───────────┴───────────┘"
      ]
     },
     "execution_count": 7,
     "metadata": {},
     "output_type": "execute_result"
    }
   ],
   "source": [
    "analytics.to_polars()"
   ]
  },
  {
   "cell_type": "code",
   "execution_count": 8,
   "metadata": {},
   "outputs": [],
   "source": [
    "from openbb import obb\n",
    "\n",
    "from humbldata.core.utils.env import Env\n",
    "\n",
    "obb.account.login(pat=Env().OBB_PAT)"
   ]
  },
  {
   "cell_type": "code",
   "execution_count": 10,
   "metadata": {},
   "outputs": [
    {
     "ename": "",
     "evalue": "",
     "output_type": "error",
     "traceback": [
      "\u001b[1;31mCannot execute code, session has been disposed. Please try restarting the Kernel."
     ]
    },
    {
     "ename": "",
     "evalue": "",
     "output_type": "error",
     "traceback": [
      "\u001b[1;31mCannot execute code, session has been disposed. Please try restarting the Kernel. \n",
      "\u001b[1;31mView Jupyter <a href='command:jupyter.viewOutput'>log</a> for further details."
     ]
    }
   ],
   "source": [
    "obb.etf.info(symbol='AAPL,XLE,XLF,QQQ', provider='yfinance').to_polars()"
   ]
  },
  {
   "cell_type": "code",
   "execution_count": null,
   "metadata": {},
   "outputs": [],
   "source": []
  }
 ],
 "metadata": {
  "kernelspec": {
   "display_name": "Python 3",
   "language": "python",
   "name": "python3"
  },
  "language_info": {
   "codemirror_mode": {
    "name": "ipython",
    "version": 3
   },
   "file_extension": ".py",
   "mimetype": "text/x-python",
   "name": "python",
   "nbconvert_exporter": "python",
   "pygments_lexer": "ipython3",
   "version": "3.12.9"
  }
 },
 "nbformat": 4,
 "nbformat_minor": 2
}
