{
 "cells": [
  {
   "cell_type": "code",
   "execution_count": 8,
   "metadata": {},
   "outputs": [
    {
     "name": "stdout",
     "output_type": "stream",
     "text": [
      "The autoreload extension is already loaded. To reload it, use:\n",
      "  %reload_ext autoreload\n"
     ]
    }
   ],
   "source": [
    "%load_ext autoreload\n",
    "%autoreload\n",
    "\n",
    "from humbldata.portfolio.portfolio_controller import Portfolio\n",
    "\n",
    "portfolio = Portfolio(\n",
    "    symbols=\"AAPL,PCT,NVDA\",\n",
    "    membership=\"admin\"\n",
    ")"
   ]
  },
  {
   "cell_type": "markdown",
   "metadata": {},
   "source": [
    "## Analytics"
   ]
  },
  {
   "cell_type": "code",
   "execution_count": 9,
   "metadata": {},
   "outputs": [
    {
     "name": "stderr",
     "output_type": "stream",
     "text": [
      "\u001b[1;35mINFO:\u001b[0m \u001b[36mWatchlistTableFetcher\u001b[0m || \u001b[32mSTART: fetch_data (async)\u001b[0m\n",
      "\u001b[1;35mDEBUG:\u001b[0m \u001b[36mWatchlistTableFetcher\u001b[0m || \u001b[34mRunning .transform_query()\u001b[0m\n",
      "\u001b[1;35mDEBUG:\u001b[0m \u001b[36mWatchlistTableFetcher\u001b[0m || \u001b[34mRunning .extract_data()\u001b[0m\n",
      "\u001b[1;35mINFO:\u001b[0m \u001b[36mHumblChannelFetcher\u001b[0m || \u001b[32mSTART: fetch_data (async)\u001b[0m\n",
      "\u001b[1;35mDEBUG:\u001b[0m \u001b[36mHumblChannelFetcher\u001b[0m || \u001b[34mRunning .transform_query()\u001b[0m\n",
      "\u001b[1;35mDEBUG:\u001b[0m \u001b[36mHumblChannelFetcher\u001b[0m || \u001b[34mRunning .extract_data()\u001b[0m\n",
      "\u001b[1;35mINFO:\u001b[0m \u001b[36mOpenBBAPIClient\u001b[0m || \u001b[32mSTART: fetch_data (async)\u001b[0m\n",
      "\u001b[1;35mINFO:\u001b[0m \u001b[36mOpenBBAPIClient\u001b[0m || \u001b[32mPrepared request for: https://data.humblfinance.io/api/v1/equity/price/historical?provider=yfinance&symbol=AAPL,PCT,NVDA&start_date=1950-01-01&end_date=2025-05-22\u001b[0m\n",
      "\u001b[1;35mINFO:\u001b[0m \u001b[36mRateLimiter\u001b[0m || \u001b[32mChecking Rate Limits for Provider: yfinance Route: /equity/price/historical | 10/10 remaining (resets at 2025-05-21T21:33:33.405868)\u001b[0m\n",
      "\u001b[1;35mINFO:\u001b[0m \u001b[36mRateLimiter\u001b[0m || \u001b[32mUpdating Rate Limit - Provider: yfinance Route: /equity/price/historical | 9/10 remaining (resets at 2025-05-21T21:33:33.405868)\u001b[0m\n",
      "\u001b[1;35mINFO:\u001b[0m \u001b[36mOpenBBAPIClient\u001b[0m || \u001b[32mFetching data from: https://data.humblfinance.io/api/v1/equity/price/historical?provider=yfinance&symbol=AAPL,PCT,NVDA&start_date=1950-01-01&end_date=2025-05-22\u001b[0m\n",
      "\u001b[1;35mINFO:\u001b[0m \u001b[36mOpenBBAPIClient\u001b[0m || \u001b[32mEND: fetch_data (async) - Total time: 5.9391s\u001b[0m\n",
      "\u001b[1;35mDEBUG:\u001b[0m \u001b[36mHumblChannelFetcher\u001b[0m || \u001b[34mRunning .transform_data()\u001b[0m\n",
      "\u001b[1;35mDEBUG:\u001b[0m \u001b[36mhumbl_momentum.model\u001b[0m || \u001b[34mCalculating momentum using method: shift, window: 30\u001b[0m\n",
      "\u001b[1;35mDEBUG:\u001b[0m \u001b[36mhumbl_momentum.model\u001b[0m || \u001b[34mUsing simple shift calculation\u001b[0m\n",
      "\u001b[1;35mINFO:\u001b[0m \u001b[36mHumblChannelFetcher\u001b[0m || \u001b[32mEND: fetch_data (async) - Total time: 5.9694s\u001b[0m\n",
      "\u001b[1;35mDEBUG:\u001b[0m \u001b[36mWatchlistTableFetcher\u001b[0m || \u001b[34mRunning .transform_data()\u001b[0m\n",
      "\u001b[1;35mINFO:\u001b[0m \u001b[36mOpenBBAPIClient\u001b[0m || \u001b[32mSTART: fetch_data (async)\u001b[0m\n",
      "\u001b[1;35mINFO:\u001b[0m \u001b[36mOpenBBAPIClient\u001b[0m || \u001b[32mPrepared request for: https://data.humblfinance.io/api/v1/equity/price/quote?symbol=AAPL,PCT,NVDA&provider=yfinance\u001b[0m\n",
      "\u001b[1;35mINFO:\u001b[0m \u001b[36mRateLimiter\u001b[0m || \u001b[32mChecking Rate Limits for Provider: yfinance Route: /equity/price/quote | 10/10 remaining (resets at 2025-05-21T21:33:39.374508)\u001b[0m\n",
      "\u001b[1;35mINFO:\u001b[0m \u001b[36mRateLimiter\u001b[0m || \u001b[32mUpdating Rate Limit - Provider: yfinance Route: /equity/price/quote | 9/10 remaining (resets at 2025-05-21T21:33:39.374508)\u001b[0m\n",
      "\u001b[1;35mINFO:\u001b[0m \u001b[36mOpenBBAPIClient\u001b[0m || \u001b[32mFetching data from: https://data.humblfinance.io/api/v1/equity/price/quote?symbol=AAPL,PCT,NVDA&provider=yfinance\u001b[0m\n",
      "\u001b[1;35mINFO:\u001b[0m \u001b[36mOpenBBAPIClient\u001b[0m || \u001b[32mSTART: fetch_data (async)\u001b[0m\n",
      "\u001b[1;35mINFO:\u001b[0m \u001b[36mOpenBBAPIClient\u001b[0m || \u001b[32mPrepared request for: https://data.humblfinance.io/api/v1/equity/profile?symbol=AAPL,PCT,NVDA&provider=yfinance\u001b[0m\n",
      "\u001b[1;35mINFO:\u001b[0m \u001b[36mRateLimiter\u001b[0m || \u001b[32mChecking Rate Limits for Provider: yfinance Route: /equity/profile | 10/10 remaining (resets at 2025-05-21T21:33:39.375633)\u001b[0m\n",
      "\u001b[1;35mINFO:\u001b[0m \u001b[36mRateLimiter\u001b[0m || \u001b[32mUpdating Rate Limit - Provider: yfinance Route: /equity/profile | 9/10 remaining (resets at 2025-05-21T21:33:39.375633)\u001b[0m\n",
      "\u001b[1;35mINFO:\u001b[0m \u001b[36mOpenBBAPIClient\u001b[0m || \u001b[32mFetching data from: https://data.humblfinance.io/api/v1/equity/profile?symbol=AAPL,PCT,NVDA&provider=yfinance\u001b[0m\n",
      "\u001b[1;35mINFO:\u001b[0m \u001b[36mOpenBBAPIClient\u001b[0m || \u001b[32mEND: fetch_data (async) - Total time: 4.5160s\u001b[0m\n",
      "\u001b[1;35mERROR:\u001b[0m \u001b[36mOpenBBAPIClient\u001b[0m || \u001b[1;31mEXCEPTION in fetch_data (async) - Total time: 10.2185s\u001b[0m\n",
      "Traceback (most recent call last):\n",
      "  File \"/Users/jjfantini/github/humblFINANCE-org/humblDATA/.venv/lib/python3.12/site-packages/aiohttp/client_reqrep.py\", line 1059, in start\n",
      "    message, payload = await protocol.read()  # type: ignore[union-attr]\n",
      "                       ^^^^^^^^^^^^^^^^^^^^^\n",
      "  File \"/Users/jjfantini/github/humblFINANCE-org/humblDATA/.venv/lib/python3.12/site-packages/aiohttp/streams.py\", line 672, in read\n",
      "    await self._waiter\n",
      "asyncio.exceptions.CancelledError\n",
      "\n",
      "The above exception was the direct cause of the following exception:\n",
      "\n",
      "Traceback (most recent call last):\n",
      "  File \"/Users/jjfantini/github/humblFINANCE-org/humblDATA/src/humbldata/core/utils/logger.py\", line 149, in async_wrapper\n",
      "    result = await func(*args, **kwargs)\n",
      "             ^^^^^^^^^^^^^^^^^^^^^^^^^^^\n",
      "  File \"/Users/jjfantini/github/humblFINANCE-org/humblDATA/src/humbldata/core/utils/openbb_api_client.py\", line 438, in fetch_data\n",
      "    await self.extract_data()\n",
      "  File \"/Users/jjfantini/github/humblFINANCE-org/humblDATA/src/humbldata/core/utils/openbb_api_client.py\", line 204, in extract_data\n",
      "    self.raw_api_response = await amake_request(\n",
      "                            ^^^^^^^^^^^^^^^^^^^^\n",
      "  File \"/Users/jjfantini/github/humblFINANCE-org/humblDATA/src/humbldata/core/utils/network_helpers.py\", line 241, in amake_request\n",
      "    response = await session.request(method.upper(), url, **kwargs)\n",
      "               ^^^^^^^^^^^^^^^^^^^^^^^^^^^^^^^^^^^^^^^^^^^^^^^^^^^^\n",
      "  File \"/Users/jjfantini/github/humblFINANCE-org/humblDATA/src/humbldata/core/utils/network_helpers.py\", line 172, in request\n",
      "    response = await super().request(\n",
      "               ^^^^^^^^^^^^^^^^^^^^^^\n",
      "  File \"/Users/jjfantini/github/humblFINANCE-org/humblDATA/.venv/lib/python3.12/site-packages/aiohttp/client.py\", line 730, in _request\n",
      "    await resp.start(conn)\n",
      "  File \"/Users/jjfantini/github/humblFINANCE-org/humblDATA/.venv/lib/python3.12/site-packages/aiohttp/client_reqrep.py\", line 1054, in start\n",
      "    with self._timer:\n",
      "         ^^^^^^^^^^^\n",
      "  File \"/Users/jjfantini/github/humblFINANCE-org/humblDATA/.venv/lib/python3.12/site-packages/aiohttp/helpers.py\", line 685, in __exit__\n",
      "    raise asyncio.TimeoutError from exc_val\n",
      "TimeoutError\n",
      "\u001b[1;35mERROR:\u001b[0m \u001b[36mWatchlistTableFetcher\u001b[0m || \u001b[1;31mEXCEPTION in fetch_data (async) - Total time: 16.1934s\u001b[0m\n",
      "Traceback (most recent call last):\n",
      "  File \"/Users/jjfantini/github/humblFINANCE-org/humblDATA/.venv/lib/python3.12/site-packages/aiohttp/client_reqrep.py\", line 1059, in start\n",
      "    message, payload = await protocol.read()  # type: ignore[union-attr]\n",
      "                       ^^^^^^^^^^^^^^^^^^^^^\n",
      "  File \"/Users/jjfantini/github/humblFINANCE-org/humblDATA/.venv/lib/python3.12/site-packages/aiohttp/streams.py\", line 672, in read\n",
      "    await self._waiter\n",
      "asyncio.exceptions.CancelledError\n",
      "\n",
      "The above exception was the direct cause of the following exception:\n",
      "\n",
      "Traceback (most recent call last):\n",
      "  File \"/Users/jjfantini/github/humblFINANCE-org/humblDATA/src/humbldata/core/utils/logger.py\", line 149, in async_wrapper\n",
      "    result = await func(*args, **kwargs)\n",
      "             ^^^^^^^^^^^^^^^^^^^^^^^^^^^\n",
      "  File \"/Users/jjfantini/github/humblFINANCE-org/humblDATA/src/humbldata/core/standard_models/portfolio/analytics/watchlist_table.py\", line 330, in fetch_data\n",
      "    await self.transform_data()\n",
      "  File \"/Users/jjfantini/github/humblFINANCE-org/humblDATA/src/humbldata/core/standard_models/portfolio/analytics/watchlist_table.py\", line 292, in transform_data\n",
      "    transformed_data: pl.LazyFrame = await watchlist_table_engine(\n",
      "                                     ^^^^^^^^^^^^^^^^^^^^^^^^^^^^^\n",
      "  File \"/Users/jjfantini/github/humblFINANCE-org/humblDATA/src/humbldata/portfolio/analytics/watchlist/model.py\", line 91, in watchlist_table_engine\n",
      "    lazyframes = await asyncio.gather(*tasks)\n",
      "                 ^^^^^^^^^^^^^^^^^^^^^^^^^^^^\n",
      "  File \"/Users/jjfantini/github/humblFINANCE-org/humblDATA/src/humbldata/core/utils/openbb_helpers.py\", line 103, in aget_latest_price\n",
      "    api_response = await api_client.fetch_data(\n",
      "                   ^^^^^^^^^^^^^^^^^^^^^^^^^^^^\n",
      "  File \"/Users/jjfantini/github/humblFINANCE-org/humblDATA/src/humbldata/core/utils/logger.py\", line 149, in async_wrapper\n",
      "    result = await func(*args, **kwargs)\n",
      "             ^^^^^^^^^^^^^^^^^^^^^^^^^^^\n",
      "  File \"/Users/jjfantini/github/humblFINANCE-org/humblDATA/src/humbldata/core/utils/openbb_api_client.py\", line 438, in fetch_data\n",
      "    await self.extract_data()\n",
      "  File \"/Users/jjfantini/github/humblFINANCE-org/humblDATA/src/humbldata/core/utils/openbb_api_client.py\", line 204, in extract_data\n",
      "    self.raw_api_response = await amake_request(\n",
      "                            ^^^^^^^^^^^^^^^^^^^^\n",
      "  File \"/Users/jjfantini/github/humblFINANCE-org/humblDATA/src/humbldata/core/utils/network_helpers.py\", line 241, in amake_request\n",
      "    response = await session.request(method.upper(), url, **kwargs)\n",
      "               ^^^^^^^^^^^^^^^^^^^^^^^^^^^^^^^^^^^^^^^^^^^^^^^^^^^^\n",
      "  File \"/Users/jjfantini/github/humblFINANCE-org/humblDATA/src/humbldata/core/utils/network_helpers.py\", line 172, in request\n",
      "    response = await super().request(\n",
      "               ^^^^^^^^^^^^^^^^^^^^^^\n",
      "  File \"/Users/jjfantini/github/humblFINANCE-org/humblDATA/.venv/lib/python3.12/site-packages/aiohttp/client.py\", line 730, in _request\n",
      "    await resp.start(conn)\n",
      "  File \"/Users/jjfantini/github/humblFINANCE-org/humblDATA/.venv/lib/python3.12/site-packages/aiohttp/client_reqrep.py\", line 1054, in start\n",
      "    with self._timer:\n",
      "         ^^^^^^^^^^^\n",
      "  File \"/Users/jjfantini/github/humblFINANCE-org/humblDATA/.venv/lib/python3.12/site-packages/aiohttp/helpers.py\", line 685, in __exit__\n",
      "    raise asyncio.TimeoutError from exc_val\n",
      "TimeoutError\n"
     ]
    },
    {
     "ename": "TimeoutError",
     "evalue": "",
     "output_type": "error",
     "traceback": [
      "\u001b[31m---------------------------------------------------------------------------\u001b[39m",
      "\u001b[31mCancelledError\u001b[39m                            Traceback (most recent call last)",
      "\u001b[36mFile \u001b[39m\u001b[32m~/github/humblFINANCE-org/humblDATA/.venv/lib/python3.12/site-packages/aiohttp/client_reqrep.py:1059\u001b[39m, in \u001b[36mClientResponse.start\u001b[39m\u001b[34m(self, connection)\u001b[39m\n\u001b[32m   1058\u001b[39m     protocol = \u001b[38;5;28mself\u001b[39m._protocol\n\u001b[32m-> \u001b[39m\u001b[32m1059\u001b[39m     message, payload = \u001b[38;5;28;01mawait\u001b[39;00m protocol.read()  \u001b[38;5;66;03m# type: ignore[union-attr]\u001b[39;00m\n\u001b[32m   1060\u001b[39m \u001b[38;5;28;01mexcept\u001b[39;00m http.HttpProcessingError \u001b[38;5;28;01mas\u001b[39;00m exc:\n",
      "\u001b[36mFile \u001b[39m\u001b[32m~/github/humblFINANCE-org/humblDATA/.venv/lib/python3.12/site-packages/aiohttp/streams.py:672\u001b[39m, in \u001b[36mDataQueue.read\u001b[39m\u001b[34m(self)\u001b[39m\n\u001b[32m    671\u001b[39m \u001b[38;5;28;01mtry\u001b[39;00m:\n\u001b[32m--> \u001b[39m\u001b[32m672\u001b[39m     \u001b[38;5;28;01mawait\u001b[39;00m \u001b[38;5;28mself\u001b[39m._waiter\n\u001b[32m    673\u001b[39m \u001b[38;5;28;01mexcept\u001b[39;00m (asyncio.CancelledError, asyncio.TimeoutError):\n",
      "\u001b[31mCancelledError\u001b[39m: ",
      "\nThe above exception was the direct cause of the following exception:\n",
      "\u001b[31mTimeoutError\u001b[39m                              Traceback (most recent call last)",
      "\u001b[36mCell\u001b[39m\u001b[36m \u001b[39m\u001b[32mIn[9]\u001b[39m\u001b[32m, line 1\u001b[39m\n\u001b[32m----> \u001b[39m\u001b[32m1\u001b[39m analytics = \u001b[38;5;28;01mawait\u001b[39;00m portfolio.analytics.watchlist_table()\n\u001b[32m      2\u001b[39m analytics\n",
      "\u001b[36mFile \u001b[39m\u001b[32m~/github/humblFINANCE-org/humblDATA/src/humbldata/core/utils/logger.py:149\u001b[39m, in \u001b[36mlog_start_end.<locals>.decorator.<locals>.async_wrapper\u001b[39m\u001b[34m(*args, **kwargs)\u001b[39m\n\u001b[32m    146\u001b[39m logger.info(\u001b[33mf\u001b[39m\u001b[33m\"\u001b[39m\u001b[33mSTART: \u001b[39m\u001b[38;5;132;01m{\u001b[39;00mfunc.\u001b[34m__name__\u001b[39m\u001b[38;5;132;01m}\u001b[39;00m\u001b[33m (async)\u001b[39m\u001b[33m\"\u001b[39m)\n\u001b[32m    148\u001b[39m \u001b[38;5;28;01mtry\u001b[39;00m:\n\u001b[32m--> \u001b[39m\u001b[32m149\u001b[39m     result = \u001b[38;5;28;01mawait\u001b[39;00m func(*args, **kwargs)\n\u001b[32m    150\u001b[39m \u001b[38;5;28;01mexcept\u001b[39;00m \u001b[38;5;167;01mKeyboardInterrupt\u001b[39;00m:\n\u001b[32m    151\u001b[39m     end_time = time.time()\n",
      "\u001b[36mFile \u001b[39m\u001b[32m~/github/humblFINANCE-org/humblDATA/src/humbldata/core/standard_models/portfolio/analytics/watchlist_table.py:330\u001b[39m, in \u001b[36mWatchlistTableFetcher.fetch_data\u001b[39m\u001b[34m(self)\u001b[39m\n\u001b[32m    328\u001b[39m \u001b[38;5;28;01mawait\u001b[39;00m \u001b[38;5;28mself\u001b[39m.extract_data()\n\u001b[32m    329\u001b[39m logger.debug(\u001b[33m\"\u001b[39m\u001b[33mRunning .transform_data()\u001b[39m\u001b[33m\"\u001b[39m)\n\u001b[32m--> \u001b[39m\u001b[32m330\u001b[39m \u001b[38;5;28;01mawait\u001b[39;00m \u001b[38;5;28mself\u001b[39m.transform_data()\n\u001b[32m    332\u001b[39m \u001b[38;5;28;01mreturn\u001b[39;00m HumblObject(\n\u001b[32m    333\u001b[39m     results=\u001b[38;5;28mself\u001b[39m.transformed_data,\n\u001b[32m    334\u001b[39m     provider=\u001b[38;5;28mself\u001b[39m.context_params.provider,\n\u001b[32m   (...)\u001b[39m\u001b[32m    338\u001b[39m     command_params=\u001b[38;5;28mself\u001b[39m.command_params,\n\u001b[32m    339\u001b[39m )\n",
      "\u001b[36mFile \u001b[39m\u001b[32m~/github/humblFINANCE-org/humblDATA/src/humbldata/core/standard_models/portfolio/analytics/watchlist_table.py:292\u001b[39m, in \u001b[36mWatchlistTableFetcher.transform_data\u001b[39m\u001b[34m(self)\u001b[39m\n\u001b[32m    283\u001b[39m \u001b[38;5;250m\u001b[39m\u001b[33;03m\"\"\"\u001b[39;00m\n\u001b[32m    284\u001b[39m \u001b[33;03mTransform the command-specific data according to the watchlist_table logic.\u001b[39;00m\n\u001b[32m    285\u001b[39m \n\u001b[32m   (...)\u001b[39m\u001b[32m    289\u001b[39m \u001b[33;03m    The transformed data as a Polars DataFrame\u001b[39;00m\n\u001b[32m    290\u001b[39m \u001b[33;03m\"\"\"\u001b[39;00m\n\u001b[32m    291\u001b[39m \u001b[38;5;66;03m# Implement data transformation logic here\u001b[39;00m\n\u001b[32m--> \u001b[39m\u001b[32m292\u001b[39m transformed_data: pl.LazyFrame = \u001b[38;5;28;01mawait\u001b[39;00m watchlist_table_engine(\n\u001b[32m    293\u001b[39m     symbols=\u001b[38;5;28mself\u001b[39m.context_params.symbols,\n\u001b[32m    294\u001b[39m     etf_data=\u001b[38;5;28mself\u001b[39m.etf_data,\n\u001b[32m    295\u001b[39m     humbl_channel_data=\u001b[38;5;28mself\u001b[39m.humbl_channel,  \u001b[38;5;66;03m# type: ignore  # noqa: PGH003\u001b[39;00m\n\u001b[32m    296\u001b[39m     toolbox=\u001b[38;5;28mself\u001b[39m.toolbox,\n\u001b[32m    297\u001b[39m )\n\u001b[32m    298\u001b[39m \u001b[38;5;28mself\u001b[39m.transformed_data = WatchlistTableData(\n\u001b[32m    299\u001b[39m     transformed_data.collect()\n\u001b[32m    300\u001b[39m ).lazy()  \u001b[38;5;66;03m# type: ignore  # noqa: PGH003\u001b[39;00m\n\u001b[32m    301\u001b[39m \u001b[38;5;28mself\u001b[39m.transformed_data = \u001b[38;5;28mself\u001b[39m.transformed_data.with_columns(\n\u001b[32m    302\u001b[39m     pl.col(pl.Float64).round(\u001b[32m2\u001b[39m)\n\u001b[32m    303\u001b[39m )\n",
      "\u001b[36mFile \u001b[39m\u001b[32m~/github/humblFINANCE-org/humblDATA/src/humbldata/portfolio/analytics/watchlist/model.py:91\u001b[39m, in \u001b[36mwatchlist_table_engine\u001b[39m\u001b[34m(symbols, etf_data, toolbox, humbl_channel_data, membership)\u001b[39m\n\u001b[32m     85\u001b[39m \u001b[38;5;66;03m# Fetch data from all sources concurrently, passing etf_data where needed\u001b[39;00m\n\u001b[32m     86\u001b[39m tasks = [\n\u001b[32m     87\u001b[39m     aget_latest_price(symbols=symbols),\n\u001b[32m     88\u001b[39m     aget_sector_filter(symbols=symbols, etf_data=etf_data),\n\u001b[32m     89\u001b[39m     aget_asset_class_filter(symbols=symbols, etf_data=etf_data),\n\u001b[32m     90\u001b[39m ]\n\u001b[32m---> \u001b[39m\u001b[32m91\u001b[39m lazyframes = \u001b[38;5;28;01mawait\u001b[39;00m asyncio.gather(*tasks)\n\u001b[32m     93\u001b[39m \u001b[38;5;66;03m# Combine all DataFrames into a single LazyFrame\u001b[39;00m\n\u001b[32m     94\u001b[39m out = (\n\u001b[32m     95\u001b[39m     (\n\u001b[32m     96\u001b[39m         pl.concat(lazyframes, how=\u001b[33m\"\u001b[39m\u001b[33malign\u001b[39m\u001b[33m\"\u001b[39m)\n\u001b[32m   (...)\u001b[39m\u001b[32m    117\u001b[39m     .rename({\u001b[33m\"\u001b[39m\u001b[33mtop_price\u001b[39m\u001b[33m\"\u001b[39m: \u001b[33m\"\u001b[39m\u001b[33msell_price\u001b[39m\u001b[33m\"\u001b[39m})\n\u001b[32m    118\u001b[39m )\n",
      "\u001b[36mFile \u001b[39m\u001b[32m~/github/humblFINANCE-org/humblDATA/src/humbldata/core/utils/openbb_helpers.py:103\u001b[39m, in \u001b[36maget_latest_price\u001b[39m\u001b[34m(symbols, provider)\u001b[39m\n\u001b[32m     98\u001b[39m api_query_params = EquityPriceQuoteQueryParams(\n\u001b[32m     99\u001b[39m     symbol=symbols,\n\u001b[32m    100\u001b[39m     provider=provider_literal,\n\u001b[32m    101\u001b[39m )\n\u001b[32m    102\u001b[39m api_client = OpenBBAPIClient()\n\u001b[32m--> \u001b[39m\u001b[32m103\u001b[39m api_response = \u001b[38;5;28;01mawait\u001b[39;00m api_client.fetch_data(\n\u001b[32m    104\u001b[39m     obb_path=\u001b[33m\"\u001b[39m\u001b[33mequity.price.quote\u001b[39m\u001b[33m\"\u001b[39m,\n\u001b[32m    105\u001b[39m     api_query_params=api_query_params,\n\u001b[32m    106\u001b[39m )\n\u001b[32m    107\u001b[39m \u001b[38;5;66;03m# Convert HumblObject results to LazyFrame\u001b[39;00m\n\u001b[32m    108\u001b[39m \u001b[38;5;28;01mif\u001b[39;00m api_response.results \u001b[38;5;129;01mis\u001b[39;00m \u001b[38;5;129;01mnot\u001b[39;00m \u001b[38;5;28;01mNone\u001b[39;00m:\n",
      "\u001b[36mFile \u001b[39m\u001b[32m~/github/humblFINANCE-org/humblDATA/src/humbldata/core/utils/logger.py:149\u001b[39m, in \u001b[36mlog_start_end.<locals>.decorator.<locals>.async_wrapper\u001b[39m\u001b[34m(*args, **kwargs)\u001b[39m\n\u001b[32m    146\u001b[39m logger.info(\u001b[33mf\u001b[39m\u001b[33m\"\u001b[39m\u001b[33mSTART: \u001b[39m\u001b[38;5;132;01m{\u001b[39;00mfunc.\u001b[34m__name__\u001b[39m\u001b[38;5;132;01m}\u001b[39;00m\u001b[33m (async)\u001b[39m\u001b[33m\"\u001b[39m)\n\u001b[32m    148\u001b[39m \u001b[38;5;28;01mtry\u001b[39;00m:\n\u001b[32m--> \u001b[39m\u001b[32m149\u001b[39m     result = \u001b[38;5;28;01mawait\u001b[39;00m func(*args, **kwargs)\n\u001b[32m    150\u001b[39m \u001b[38;5;28;01mexcept\u001b[39;00m \u001b[38;5;167;01mKeyboardInterrupt\u001b[39;00m:\n\u001b[32m    151\u001b[39m     end_time = time.time()\n",
      "\u001b[36mFile \u001b[39m\u001b[32m~/github/humblFINANCE-org/humblDATA/src/humbldata/core/utils/openbb_api_client.py:438\u001b[39m, in \u001b[36mOpenBBAPIClient.fetch_data\u001b[39m\u001b[34m(self, obb_path, api_query_params)\u001b[39m\n\u001b[32m    422\u001b[39m \u001b[38;5;250m\u001b[39m\u001b[33;03m\"\"\"\u001b[39;00m\n\u001b[32m    423\u001b[39m \u001b[33;03mExecute the TET pattern: Transform Query, Extract Data, Transform Data.\u001b[39;00m\n\u001b[32m    424\u001b[39m \n\u001b[32m   (...)\u001b[39m\u001b[32m    435\u001b[39m \u001b[33;03m    A HumblObject containing the fetched and processed data.\u001b[39;00m\n\u001b[32m    436\u001b[39m \u001b[33;03m\"\"\"\u001b[39;00m\n\u001b[32m    437\u001b[39m \u001b[38;5;28;01mawait\u001b[39;00m \u001b[38;5;28mself\u001b[39m.transform_query(obb_path, api_query_params)\n\u001b[32m--> \u001b[39m\u001b[32m438\u001b[39m \u001b[38;5;28;01mawait\u001b[39;00m \u001b[38;5;28mself\u001b[39m.extract_data()\n\u001b[32m    439\u001b[39m \u001b[38;5;28;01mreturn\u001b[39;00m \u001b[38;5;28;01mawait\u001b[39;00m \u001b[38;5;28mself\u001b[39m.transform_data()\n",
      "\u001b[36mFile \u001b[39m\u001b[32m~/github/humblFINANCE-org/humblDATA/src/humbldata/core/utils/openbb_api_client.py:204\u001b[39m, in \u001b[36mOpenBBAPIClient.extract_data\u001b[39m\u001b[34m(self)\u001b[39m\n\u001b[32m    202\u001b[39m         msg = \u001b[33mf\u001b[39m\u001b[33m\"\u001b[39m\u001b[33mFetching data from: \u001b[39m\u001b[38;5;132;01m{\u001b[39;00m\u001b[38;5;28mself\u001b[39m.full_url\u001b[38;5;132;01m}\u001b[39;00m\u001b[33m\"\u001b[39m\n\u001b[32m    203\u001b[39m         logger.info(msg)\n\u001b[32m--> \u001b[39m\u001b[32m204\u001b[39m         \u001b[38;5;28mself\u001b[39m.raw_api_response = \u001b[38;5;28;01mawait\u001b[39;00m amake_request(\n\u001b[32m    205\u001b[39m             url=\u001b[38;5;28mself\u001b[39m.full_url, method=\u001b[33m\"\u001b[39m\u001b[33mGET\u001b[39m\u001b[33m\"\u001b[39m\n\u001b[32m    206\u001b[39m         )\n\u001b[32m    207\u001b[39m \u001b[38;5;28;01mexcept\u001b[39;00m RateLimitExceeded \u001b[38;5;28;01mas\u001b[39;00m e:\n\u001b[32m    208\u001b[39m     msg = \u001b[33mf\u001b[39m\u001b[33m\"\u001b[39m\u001b[33mRate limit exceeded for provider=\u001b[39m\u001b[38;5;132;01m{\u001b[39;00mprovider\u001b[38;5;132;01m}\u001b[39;00m\u001b[33m endpoint=\u001b[39m\u001b[38;5;132;01m{\u001b[39;00mendpoint\u001b[38;5;132;01m}\u001b[39;00m\u001b[33m: \u001b[39m\u001b[38;5;132;01m{\u001b[39;00me\u001b[38;5;132;01m}\u001b[39;00m\u001b[33m\"\u001b[39m\n",
      "\u001b[36mFile \u001b[39m\u001b[32m~/github/humblFINANCE-org/humblDATA/src/humbldata/core/utils/network_helpers.py:241\u001b[39m, in \u001b[36mamake_request\u001b[39m\u001b[34m(url, method, timeout, response_callback, **kwargs)\u001b[39m\n\u001b[32m    238\u001b[39m     session = \u001b[38;5;28;01mawait\u001b[39;00m get_async_requests_session()\n\u001b[32m    240\u001b[39m \u001b[38;5;28;01mtry\u001b[39;00m:\n\u001b[32m--> \u001b[39m\u001b[32m241\u001b[39m     response = \u001b[38;5;28;01mawait\u001b[39;00m session.request(method.upper(), url, **kwargs)\n\u001b[32m    242\u001b[39m     \u001b[38;5;66;03m# Ensure response is processed by the callback\u001b[39;00m\n\u001b[32m    243\u001b[39m     \u001b[38;5;66;03m# The callback should handle potential errors or non-JSON responses if necessary\u001b[39;00m\n\u001b[32m    244\u001b[39m     \u001b[38;5;28;01mreturn\u001b[39;00m \u001b[38;5;28;01mawait\u001b[39;00m effective_response_callback(response, session)\n",
      "\u001b[36mFile \u001b[39m\u001b[32m~/github/humblFINANCE-org/humblDATA/src/humbldata/core/utils/network_helpers.py:172\u001b[39m, in \u001b[36mClientSession.request\u001b[39m\u001b[34m(self, method, url, raise_for_status, *args, **kwargs)\u001b[39m\n\u001b[32m    169\u001b[39m headers.setdefault(\u001b[33m\"\u001b[39m\u001b[33mUser-Agent\u001b[39m\u001b[33m\"\u001b[39m, get_user_agent())\n\u001b[32m    170\u001b[39m kwargs[\u001b[33m\"\u001b[39m\u001b[33mheaders\u001b[39m\u001b[33m\"\u001b[39m] = headers\n\u001b[32m--> \u001b[39m\u001b[32m172\u001b[39m response = \u001b[38;5;28;01mawait\u001b[39;00m \u001b[38;5;28msuper\u001b[39m().request(\n\u001b[32m    173\u001b[39m     method, \u001b[38;5;28mstr\u001b[39m(url), *args, **kwargs\n\u001b[32m    174\u001b[39m )  \u001b[38;5;66;03m# Ensure URL is string\u001b[39;00m\n\u001b[32m    176\u001b[39m \u001b[38;5;28;01mif\u001b[39;00m raise_for_status:\n\u001b[32m    177\u001b[39m     response.raise_for_status()\n",
      "\u001b[36mFile \u001b[39m\u001b[32m~/github/humblFINANCE-org/humblDATA/.venv/lib/python3.12/site-packages/aiohttp/client.py:730\u001b[39m, in \u001b[36mClientSession._request\u001b[39m\u001b[34m(self, method, str_or_url, params, data, json, cookies, headers, skip_auto_headers, auth, allow_redirects, max_redirects, compress, chunked, expect100, raise_for_status, read_until_eof, proxy, proxy_auth, timeout, verify_ssl, fingerprint, ssl_context, ssl, server_hostname, proxy_headers, trace_request_ctx, read_bufsize, auto_decompress, max_line_size, max_field_size)\u001b[39m\n\u001b[32m    728\u001b[39m resp = \u001b[38;5;28;01mawait\u001b[39;00m req.send(conn)\n\u001b[32m    729\u001b[39m \u001b[38;5;28;01mtry\u001b[39;00m:\n\u001b[32m--> \u001b[39m\u001b[32m730\u001b[39m     \u001b[38;5;28;01mawait\u001b[39;00m resp.start(conn)\n\u001b[32m    731\u001b[39m \u001b[38;5;28;01mexcept\u001b[39;00m \u001b[38;5;167;01mBaseException\u001b[39;00m:\n\u001b[32m    732\u001b[39m     resp.close()\n",
      "\u001b[36mFile \u001b[39m\u001b[32m~/github/humblFINANCE-org/humblDATA/.venv/lib/python3.12/site-packages/aiohttp/client_reqrep.py:1054\u001b[39m, in \u001b[36mClientResponse.start\u001b[39m\u001b[34m(self, connection)\u001b[39m\n\u001b[32m   1051\u001b[39m \u001b[38;5;28mself\u001b[39m._protocol = connection.protocol\n\u001b[32m   1052\u001b[39m \u001b[38;5;28mself\u001b[39m._connection = connection\n\u001b[32m-> \u001b[39m\u001b[32m1054\u001b[39m \u001b[38;5;28;01mwith\u001b[39;00m \u001b[38;5;28mself\u001b[39m._timer:\n\u001b[32m   1055\u001b[39m     \u001b[38;5;28;01mwhile\u001b[39;00m \u001b[38;5;28;01mTrue\u001b[39;00m:\n\u001b[32m   1056\u001b[39m         \u001b[38;5;66;03m# read response\u001b[39;00m\n\u001b[32m   1057\u001b[39m         \u001b[38;5;28;01mtry\u001b[39;00m:\n",
      "\u001b[36mFile \u001b[39m\u001b[32m~/github/humblFINANCE-org/humblDATA/.venv/lib/python3.12/site-packages/aiohttp/helpers.py:685\u001b[39m, in \u001b[36mTimerContext.__exit__\u001b[39m\u001b[34m(self, exc_type, exc_val, exc_tb)\u001b[39m\n\u001b[32m    683\u001b[39m         \u001b[38;5;28;01mif\u001b[39;00m enter_task.uncancel() > \u001b[38;5;28mself\u001b[39m._cancelling:\n\u001b[32m    684\u001b[39m             \u001b[38;5;28;01mreturn\u001b[39;00m \u001b[38;5;28;01mNone\u001b[39;00m\n\u001b[32m--> \u001b[39m\u001b[32m685\u001b[39m     \u001b[38;5;28;01mraise\u001b[39;00m asyncio.TimeoutError \u001b[38;5;28;01mfrom\u001b[39;00m\u001b[38;5;250m \u001b[39m\u001b[34;01mexc_val\u001b[39;00m\n\u001b[32m    686\u001b[39m \u001b[38;5;28;01mreturn\u001b[39;00m \u001b[38;5;28;01mNone\u001b[39;00m\n",
      "\u001b[31mTimeoutError\u001b[39m: "
     ]
    }
   ],
   "source": [
    "analytics = await portfolio.analytics.watchlist_table()\n",
    "analytics"
   ]
  },
  {
   "cell_type": "code",
   "execution_count": 20,
   "metadata": {},
   "outputs": [
    {
     "data": {
      "text/html": [
       "<div><style>\n",
       ".dataframe > thead > tr,\n",
       ".dataframe > tbody > tr {\n",
       "  text-align: right;\n",
       "  white-space: pre-wrap;\n",
       "}\n",
       "</style>\n",
       "<small>shape: (3, 10)</small><table border=\"1\" class=\"dataframe\"><thead><tr><th>date</th><th>symbol</th><th>buy_price</th><th>last_price</th><th>sell_price</th><th>ud_pct</th><th>ud_ratio</th><th>sector</th><th>asset_class</th><th>momentum_signal</th></tr><tr><td>date</td><td>str</td><td>f64</td><td>f64</td><td>f64</td><td>str</td><td>f64</td><td>str</td><td>str</td><td>i8</td></tr></thead><tbody><tr><td>2025-05-21</td><td>&quot;AAPL&quot;</td><td>200.81</td><td>202.09</td><td>214.12</td><td>&quot;-0.63 / +5.95&quot;</td><td>0.9</td><td>&quot;Technology&quot;</td><td>&quot;Equity&quot;</td><td>1</td></tr><tr><td>2025-05-21</td><td>&quot;NVDA&quot;</td><td>130.48</td><td>131.8</td><td>144.18</td><td>&quot;-1.0 / +9.39&quot;</td><td>0.9</td><td>&quot;Technology&quot;</td><td>&quot;Equity&quot;</td><td>1</td></tr><tr><td>2025-05-21</td><td>&quot;PCT&quot;</td><td>7.68</td><td>8.14</td><td>10.11</td><td>&quot;-5.65 / +24.21&quot;</td><td>0.81</td><td>&quot;Industrials&quot;</td><td>&quot;Equity&quot;</td><td>1</td></tr></tbody></table></div>"
      ],
      "text/plain": [
       "shape: (3, 10)\n",
       "┌────────────┬────────┬───────────┬────────────┬───┬──────────┬────────────┬───────────┬───────────┐\n",
       "│ date       ┆ symbol ┆ buy_price ┆ last_price ┆ … ┆ ud_ratio ┆ sector     ┆ asset_cla ┆ momentum_ │\n",
       "│ ---        ┆ ---    ┆ ---       ┆ ---        ┆   ┆ ---      ┆ ---        ┆ ss        ┆ signal    │\n",
       "│ date       ┆ str    ┆ f64       ┆ f64        ┆   ┆ f64      ┆ str        ┆ ---       ┆ ---       │\n",
       "│            ┆        ┆           ┆            ┆   ┆          ┆            ┆ str       ┆ i8        │\n",
       "╞════════════╪════════╪═══════════╪════════════╪═══╪══════════╪════════════╪═══════════╪═══════════╡\n",
       "│ 2025-05-21 ┆ AAPL   ┆ 200.81    ┆ 202.09     ┆ … ┆ 0.9      ┆ Technology ┆ Equity    ┆ 1         │\n",
       "│ 2025-05-21 ┆ NVDA   ┆ 130.48    ┆ 131.8      ┆ … ┆ 0.9      ┆ Technology ┆ Equity    ┆ 1         │\n",
       "│ 2025-05-21 ┆ PCT    ┆ 7.68      ┆ 8.14       ┆ … ┆ 0.81     ┆ Industrial ┆ Equity    ┆ 1         │\n",
       "│            ┆        ┆           ┆            ┆   ┆          ┆ s          ┆           ┆           │\n",
       "└────────────┴────────┴───────────┴────────────┴───┴──────────┴────────────┴───────────┴───────────┘"
      ]
     },
     "execution_count": 20,
     "metadata": {},
     "output_type": "execute_result"
    }
   ],
   "source": [
    "analytics.to_polars()"
   ]
  },
  {
   "cell_type": "code",
   "execution_count": 10,
   "metadata": {},
   "outputs": [],
   "source": [
    "from openbb import obb\n",
    "\n",
    "from humbldata.core.utils.env import Env\n",
    "\n",
    "obb.account.login(pat=Env().OBB_PAT)"
   ]
  },
  {
   "cell_type": "code",
   "execution_count": 11,
   "metadata": {},
   "outputs": [
    {
     "ename": "",
     "evalue": "",
     "output_type": "error",
     "traceback": [
      "\u001b[1;31mCannot execute code, session has been disposed. Please try restarting the Kernel."
     ]
    },
    {
     "ename": "",
     "evalue": "",
     "output_type": "error",
     "traceback": [
      "\u001b[1;31mCannot execute code, session has been disposed. Please try restarting the Kernel. \n",
      "\u001b[1;31mView Jupyter <a href='command:jupyter.viewOutput'>log</a> for further details."
     ]
    }
   ],
   "source": [
    "obb.etf.info(symbol='AAPL,XLE,XLF,QQQ', provider='yfinance')"
   ]
  },
  {
   "cell_type": "code",
   "execution_count": null,
   "metadata": {},
   "outputs": [],
   "source": []
  },
  {
   "cell_type": "code",
   "execution_count": null,
   "metadata": {},
   "outputs": [],
   "source": []
  },
  {
   "cell_type": "code",
   "execution_count": null,
   "metadata": {},
   "outputs": [],
   "source": []
  }
 ],
 "metadata": {
  "kernelspec": {
   "display_name": ".venv",
   "language": "python",
   "name": "python3"
  },
  "language_info": {
   "codemirror_mode": {
    "name": "ipython",
    "version": 3
   },
   "file_extension": ".py",
   "mimetype": "text/x-python",
   "name": "python",
   "nbconvert_exporter": "python",
   "pygments_lexer": "ipython3",
   "version": "3.12.10"
  }
 },
 "nbformat": 4,
 "nbformat_minor": 2
}
