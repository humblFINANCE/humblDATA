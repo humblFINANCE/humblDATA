{
 "cells": [
  {
   "cell_type": "code",
   "execution_count": 5,
   "metadata": {},
   "outputs": [
    {
     "name": "stdout",
     "output_type": "stream",
     "text": [
      "The autoreload extension is already loaded. To reload it, use:\n",
      "  %reload_ext autoreload\n"
     ]
    }
   ],
   "source": [
    "%load_ext autoreload\n",
    "%autoreload\n",
    "\n",
    "from humbldata.portfolio.portfolio_controller import Portfolio\n",
    "\n",
    "portfolio = Portfolio(\n",
    "    symbols=\"AAPL,PCT,NVDA\",\n",
    "    membership=\"admin\"\n",
    ")"
   ]
  },
  {
   "cell_type": "markdown",
   "metadata": {},
   "source": [
    "## Analytics"
   ]
  },
  {
   "cell_type": "code",
   "execution_count": 6,
   "metadata": {},
   "outputs": [
    {
     "name": "stderr",
     "output_type": "stream",
     "text": [
      "\u001b[1;35mINFO:\u001b[0m \u001b[36mUserTableFetcher\u001b[0m || \u001b[32mSTART: fetch_data (async)\u001b[0m\n",
      "\u001b[1;35mDEBUG:\u001b[0m \u001b[36mUserTableFetcher\u001b[0m || \u001b[34mRunning .transform_query()\u001b[0m\n",
      "\u001b[1;35mDEBUG:\u001b[0m \u001b[36mUserTableFetcher\u001b[0m || \u001b[34mRunning .extract_data()\u001b[0m\n",
      "\u001b[1;35mINFO:\u001b[0m \u001b[36mMandelbrotChannelFetcher\u001b[0m || \u001b[32mSTART: fetch_data (sync)\u001b[0m\n",
      "\u001b[1;35mDEBUG:\u001b[0m \u001b[36mMandelbrotChannelFetcher\u001b[0m || \u001b[34mRunning .transform_query()\u001b[0m\n",
      "\u001b[1;35mDEBUG:\u001b[0m \u001b[36mMandelbrotChannelFetcher\u001b[0m || \u001b[34mRunning .extract_data()\u001b[0m\n",
      "\u001b[1;35mDEBUG:\u001b[0m \u001b[36mMandelbrotChannelFetcher\u001b[0m || \u001b[34mRunning .transform_data()\u001b[0m\n",
      "\u001b[1;35mINFO:\u001b[0m \u001b[36mMandelbrotChannelFetcher\u001b[0m || \u001b[32mEND: fetch_data (sync) - Total time: 1.4711s\u001b[0m\n",
      "\u001b[1;35mDEBUG:\u001b[0m \u001b[36mUserTableFetcher\u001b[0m || \u001b[34mRunning .transform_data()\u001b[0m\n",
      "\u001b[1;35mINFO:\u001b[0m \u001b[36mUserTableFetcher\u001b[0m || \u001b[32mEND: fetch_data (async) - Total time: 1.9255s\u001b[0m\n"
     ]
    },
    {
     "data": {
      "text/plain": [
       "HumblObject\n",
       "\n",
       "id: 067bdf3a-7e88-7e58-8000-5310ca690420\n",
       "results: naive plan: (run LazyFrame.explain(optimized=True) to see the optimized pl...\n",
       "equity_data: None\n",
       "provider: yfinance\n",
       "warnings: None\n",
       "chart: None\n",
       "extra: {}\n",
       "context_params: {'symbols': ['AAPL', 'PCT', 'NVDA'], 'provider': 'yfinance', 'membe...\n",
       "command_params: {'symbols': 'symbols'}"
      ]
     },
     "execution_count": 6,
     "metadata": {},
     "output_type": "execute_result"
    }
   ],
   "source": [
    "analytics = await portfolio.analytics.user_table()\n",
    "analytics"
   ]
  },
  {
   "cell_type": "code",
   "execution_count": 7,
   "metadata": {},
   "outputs": [
    {
     "data": {
      "text/html": [
       "<div><style>\n",
       ".dataframe > thead > tr,\n",
       ".dataframe > tbody > tr {\n",
       "  text-align: right;\n",
       "  white-space: pre-wrap;\n",
       "}\n",
       "</style>\n",
       "<small>shape: (3, 9)</small><table border=\"1\" class=\"dataframe\"><thead><tr><th>date</th><th>symbol</th><th>buy_price</th><th>last_price</th><th>sell_price</th><th>ud_pct</th><th>ud_ratio</th><th>sector</th><th>asset_class</th></tr><tr><td>date</td><td>str</td><td>f64</td><td>f64</td><td>f64</td><td>str</td><td>f64</td><td>str</td><td>str</td></tr></thead><tbody><tr><td>2025-02-25</td><td>&quot;AAPL&quot;</td><td>243.19</td><td>247.99</td><td>255.89</td><td>&quot;-1.93 / +3.19&quot;</td><td>0.62</td><td>&quot;Technology&quot;</td><td>&quot;Equity&quot;</td></tr><tr><td>2025-02-25</td><td>&quot;NVDA&quot;</td><td>112.36</td><td>126.72</td><td>133.37</td><td>&quot;-11.33 / +5.25&quot;</td><td>0.32</td><td>&quot;Technology&quot;</td><td>&quot;Equity&quot;</td></tr><tr><td>2025-02-25</td><td>&quot;PCT&quot;</td><td>8.56</td><td>9.3</td><td>10.17</td><td>&quot;-7.95 / +9.46&quot;</td><td>0.54</td><td>&quot;Industrials&quot;</td><td>&quot;Equity&quot;</td></tr></tbody></table></div>"
      ],
      "text/plain": [
       "shape: (3, 9)\n",
       "┌────────────┬────────┬───────────┬────────────┬───┬────────────┬──────────┬───────────┬───────────┐\n",
       "│ date       ┆ symbol ┆ buy_price ┆ last_price ┆ … ┆ ud_pct     ┆ ud_ratio ┆ sector    ┆ asset_cla │\n",
       "│ ---        ┆ ---    ┆ ---       ┆ ---        ┆   ┆ ---        ┆ ---      ┆ ---       ┆ ss        │\n",
       "│ date       ┆ str    ┆ f64       ┆ f64        ┆   ┆ str        ┆ f64      ┆ str       ┆ ---       │\n",
       "│            ┆        ┆           ┆            ┆   ┆            ┆          ┆           ┆ str       │\n",
       "╞════════════╪════════╪═══════════╪════════════╪═══╪════════════╪══════════╪═══════════╪═══════════╡\n",
       "│ 2025-02-25 ┆ AAPL   ┆ 243.19    ┆ 247.99     ┆ … ┆ -1.93 /    ┆ 0.62     ┆ Technolog ┆ Equity    │\n",
       "│            ┆        ┆           ┆            ┆   ┆ +3.19      ┆          ┆ y         ┆           │\n",
       "│ 2025-02-25 ┆ NVDA   ┆ 112.36    ┆ 126.72     ┆ … ┆ -11.33 /   ┆ 0.32     ┆ Technolog ┆ Equity    │\n",
       "│            ┆        ┆           ┆            ┆   ┆ +5.25      ┆          ┆ y         ┆           │\n",
       "│ 2025-02-25 ┆ PCT    ┆ 8.56      ┆ 9.3        ┆ … ┆ -7.95 /    ┆ 0.54     ┆ Industria ┆ Equity    │\n",
       "│            ┆        ┆           ┆            ┆   ┆ +9.46      ┆          ┆ ls        ┆           │\n",
       "└────────────┴────────┴───────────┴────────────┴───┴────────────┴──────────┴───────────┴───────────┘"
      ]
     },
     "execution_count": 7,
     "metadata": {},
     "output_type": "execute_result"
    }
   ],
   "source": [
    "analytics.to_polars()"
   ]
  },
  {
   "cell_type": "code",
   "execution_count": 8,
   "metadata": {},
   "outputs": [],
   "source": [
    "from openbb import obb\n",
    "\n",
    "from humbldata.core.utils.env import Env\n",
    "\n",
    "obb.account.login(pat=Env().OBB_PAT)"
   ]
  },
  {
   "cell_type": "code",
   "execution_count": 23,
   "metadata": {},
   "outputs": [
    {
     "data": {
      "text/html": [
       "<div><style>\n",
       ".dataframe > thead > tr,\n",
       ".dataframe > tbody > tr {\n",
       "  text-align: right;\n",
       "  white-space: pre-wrap;\n",
       "}\n",
       "</style>\n",
       "<small>shape: (3, 34)</small><table border=\"1\" class=\"dataframe\"><thead><tr><th>symbol</th><th>name</th><th>description</th><th>inception_date</th><th>fund_type</th><th>fund_family</th><th>category</th><th>exchange</th><th>currency</th><th>nav_price</th><th>total_assets</th><th>trailing_pe</th><th>dividend_yield</th><th>dividend_rate_ttm</th><th>dividend_yield_ttm</th><th>year_high</th><th>year_low</th><th>ma_50d</th><th>ma_200d</th><th>return_ytd</th><th>return_3y_avg</th><th>return_5y_avg</th><th>beta_3y_avg</th><th>volume_avg</th><th>volume_avg_10d</th><th>bid</th><th>bid_size</th><th>ask</th><th>ask_size</th><th>open</th><th>high</th><th>low</th><th>volume</th><th>prev_close</th></tr><tr><td>str</td><td>str</td><td>str</td><td>str</td><td>str</td><td>str</td><td>str</td><td>str</td><td>str</td><td>f64</td><td>i64</td><td>f64</td><td>f64</td><td>f64</td><td>f64</td><td>f64</td><td>f64</td><td>f64</td><td>f64</td><td>f64</td><td>f64</td><td>f64</td><td>f64</td><td>f64</td><td>f64</td><td>f64</td><td>f64</td><td>f64</td><td>f64</td><td>f64</td><td>f64</td><td>f64</td><td>i64</td><td>f64</td></tr></thead><tbody><tr><td>&quot;XLE&quot;</td><td>&quot;The Energy Select Sector SPDR …</td><td>&quot;In seeking to track the perfor…</td><td>&quot;1998-12-15&quot;</td><td>&quot;Exchange Traded Fund&quot;</td><td>&quot;SPDR State Street Global Advis…</td><td>&quot;Equity Energy&quot;</td><td>&quot;PCX&quot;</td><td>&quot;USD&quot;</td><td>90.98317</td><td>32535945216</td><td>14.65754</td><td>0.0328</td><td>2.16</td><td>0.023749</td><td>98.97</td><td>82.75</td><td>88.9996</td><td>90.3888</td><td>2.39178</td><td>0.1475922</td><td>0.1706368</td><td>0.87</td><td>1.4444898e7</td><td>1.441706e7</td><td>89.58</td><td>9.0</td><td>89.61</td><td>8.0</td><td>90.93</td><td>91.3499</td><td>89.46</td><td>3277441</td><td>90.95</td></tr><tr><td>&quot;XLF&quot;</td><td>&quot;The Financial Select Sector SP…</td><td>&quot;The fund generally invests sub…</td><td>&quot;1998-12-15&quot;</td><td>&quot;Exchange Traded Fund&quot;</td><td>&quot;SPDR State Street Global Advis…</td><td>&quot;Financial&quot;</td><td>&quot;PCX&quot;</td><td>&quot;USD&quot;</td><td>50.99121</td><td>53769895936</td><td>16.788115</td><td>0.0133</td><td>0.58</td><td>0.011379</td><td>52.26</td><td>39.53</td><td>50.019</td><td>45.95765</td><td>6.54426</td><td>0.1243582</td><td>0.1357566</td><td>1.07</td><td>4.0946547e7</td><td>4.152852e7</td><td>50.71</td><td>280.0</td><td>50.72</td><td>215.0</td><td>51.27</td><td>51.4</td><td>50.54</td><td>12759367</td><td>50.97</td></tr><tr><td>&quot;QQQ&quot;</td><td>&quot;Invesco QQQ Trust&quot;</td><td>&quot;To maintain the correspondence…</td><td>&quot;1999-03-09&quot;</td><td>&quot;Exchange Traded Fund&quot;</td><td>&quot;Invesco&quot;</td><td>&quot;Large Growth&quot;</td><td>&quot;NGM&quot;</td><td>&quot;USD&quot;</td><td>519.72</td><td>328302690304</td><td>33.45686</td><td>0.0054</td><td>1.77</td><td>0.003405</td><td>540.81</td><td>413.07</td><td>523.6036</td><td>490.48965</td><td>2.23435</td><td>0.1592537</td><td>0.1938</td><td>1.16</td><td>3.0046371e7</td><td>2.645721e7</td><td>512.98</td><td>62.0</td><td>513.47</td><td>3.0</td><td>519.21</td><td>519.3175</td><td>510.39</td><td>17542671</td><td>519.87</td></tr></tbody></table></div>"
      ],
      "text/plain": [
       "shape: (3, 34)\n",
       "┌────────┬─────────────┬─────────────┬─────────────┬───┬──────────┬────────┬──────────┬────────────┐\n",
       "│ symbol ┆ name        ┆ description ┆ inception_d ┆ … ┆ high     ┆ low    ┆ volume   ┆ prev_close │\n",
       "│ ---    ┆ ---         ┆ ---         ┆ ate         ┆   ┆ ---      ┆ ---    ┆ ---      ┆ ---        │\n",
       "│ str    ┆ str         ┆ str         ┆ ---         ┆   ┆ f64      ┆ f64    ┆ i64      ┆ f64        │\n",
       "│        ┆             ┆             ┆ str         ┆   ┆          ┆        ┆          ┆            │\n",
       "╞════════╪═════════════╪═════════════╪═════════════╪═══╪══════════╪════════╪══════════╪════════════╡\n",
       "│ XLE    ┆ The Energy  ┆ In seeking  ┆ 1998-12-15  ┆ … ┆ 91.3499  ┆ 89.46  ┆ 3277441  ┆ 90.95      │\n",
       "│        ┆ Select      ┆ to track    ┆             ┆   ┆          ┆        ┆          ┆            │\n",
       "│        ┆ Sector SPDR ┆ the perfor… ┆             ┆   ┆          ┆        ┆          ┆            │\n",
       "│        ┆ …           ┆             ┆             ┆   ┆          ┆        ┆          ┆            │\n",
       "│ XLF    ┆ The         ┆ The fund    ┆ 1998-12-15  ┆ … ┆ 51.4     ┆ 50.54  ┆ 12759367 ┆ 50.97      │\n",
       "│        ┆ Financial   ┆ generally   ┆             ┆   ┆          ┆        ┆          ┆            │\n",
       "│        ┆ Select      ┆ invests     ┆             ┆   ┆          ┆        ┆          ┆            │\n",
       "│        ┆ Sector SP…  ┆ sub…        ┆             ┆   ┆          ┆        ┆          ┆            │\n",
       "│ QQQ    ┆ Invesco QQQ ┆ To maintain ┆ 1999-03-09  ┆ … ┆ 519.3175 ┆ 510.39 ┆ 17542671 ┆ 519.87     │\n",
       "│        ┆ Trust       ┆ the corresp ┆             ┆   ┆          ┆        ┆          ┆            │\n",
       "│        ┆             ┆ ondence…    ┆             ┆   ┆          ┆        ┆          ┆            │\n",
       "└────────┴─────────────┴─────────────┴─────────────┴───┴──────────┴────────┴──────────┴────────────┘"
      ]
     },
     "execution_count": 23,
     "metadata": {},
     "output_type": "execute_result"
    }
   ],
   "source": [
    "obb.etf.info(symbol='XLE,XLF,QQQ', provider='yfinance').to_polars()"
   ]
  },
  {
   "cell_type": "code",
   "execution_count": null,
   "metadata": {},
   "outputs": [],
   "source": []
  }
 ],
 "metadata": {
  "kernelspec": {
   "display_name": "Python 3",
   "language": "python",
   "name": "python3"
  },
  "language_info": {
   "codemirror_mode": {
    "name": "ipython",
    "version": 3
   },
   "file_extension": ".py",
   "mimetype": "text/x-python",
   "name": "python",
   "nbconvert_exporter": "python",
   "pygments_lexer": "ipython3",
   "version": "3.12.9"
  }
 },
 "nbformat": 4,
 "nbformat_minor": 2
}
