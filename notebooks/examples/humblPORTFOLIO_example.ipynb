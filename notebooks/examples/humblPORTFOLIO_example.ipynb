{
 "cells": [
  {
   "cell_type": "code",
   "execution_count": 1,
   "metadata": {},
   "outputs": [],
   "source": [
    "%load_ext autoreload\n",
    "%autoreload\n",
    "\n",
    "from humbldata.portfolio.portfolio_controller import Portfolio\n",
    "\n",
    "portfolio = Portfolio(\n",
    "    symbols=\"AAPL,PCT,NVDA\",\n",
    "    membership=\"admin\"\n",
    ")"
   ]
  },
  {
   "cell_type": "markdown",
   "metadata": {},
   "source": [
    "## Analytics"
   ]
  },
  {
   "cell_type": "code",
   "execution_count": 2,
   "metadata": {},
   "outputs": [
    {
     "name": "stderr",
     "output_type": "stream",
     "text": [
      "\u001b[1;35mINFO:\u001b[0m \u001b[36mWatchlistTableFetcher\u001b[0m || \u001b[32mSTART: fetch_data (async)\u001b[0m\n",
      "\u001b[1;35mDEBUG:\u001b[0m \u001b[36mWatchlistTableFetcher\u001b[0m || \u001b[34mRunning .transform_query()\u001b[0m\n",
      "\u001b[1;35mDEBUG:\u001b[0m \u001b[36mWatchlistTableFetcher\u001b[0m || \u001b[34mRunning .extract_data()\u001b[0m\n",
      "\u001b[1;35mINFO:\u001b[0m \u001b[36mHumblChannelFetcher\u001b[0m || \u001b[32mSTART: fetch_data (sync)\u001b[0m\n",
      "\u001b[1;35mDEBUG:\u001b[0m \u001b[36mHumblChannelFetcher\u001b[0m || \u001b[34mRunning .transform_query()\u001b[0m\n",
      "\u001b[1;35mDEBUG:\u001b[0m \u001b[36mHumblChannelFetcher\u001b[0m || \u001b[34mRunning .extract_data()\u001b[0m\n",
      "\u001b[1;35mDEBUG:\u001b[0m \u001b[36mHumblChannelFetcher\u001b[0m || \u001b[34mRunning .transform_data()\u001b[0m\n",
      "\u001b[1;35mDEBUG:\u001b[0m \u001b[36mhumbl_momentum.model\u001b[0m || \u001b[34mCalculating momentum using method: shift, window: 31\u001b[0m\n",
      "\u001b[1;35mDEBUG:\u001b[0m \u001b[36mhumbl_momentum.model\u001b[0m || \u001b[34mUsing simple shift calculation\u001b[0m\n",
      "\u001b[1;35mINFO:\u001b[0m \u001b[36mHumblChannelFetcher\u001b[0m || \u001b[32mEND: fetch_data (sync) - Total time: 1.6935s\u001b[0m\n",
      "\u001b[1;35mDEBUG:\u001b[0m \u001b[36mWatchlistTableFetcher\u001b[0m || \u001b[34mRunning .transform_data()\u001b[0m\n",
      "\u001b[1;35mINFO:\u001b[0m \u001b[36mWatchlistTableFetcher\u001b[0m || \u001b[32mEND: fetch_data (async) - Total time: 2.3786s\u001b[0m\n"
     ]
    },
    {
     "data": {
      "text/plain": [
       "HumblObject\n",
       "\n",
       "id: 06811393-7b30-71fb-8000-f2cfdfc03b46\n",
       "results: naive plan: (run LazyFrame.explain(optimized=True) to see the optimized pl...\n",
       "equity_data: None\n",
       "provider: yfinance\n",
       "warnings: None\n",
       "chart: None\n",
       "extra: {}\n",
       "context_params: {'symbols': ['AAPL', 'PCT', 'NVDA'], 'provider': 'yfinance', 'membe...\n",
       "command_params: {'symbols': 'symbols'}"
      ]
     },
     "execution_count": 2,
     "metadata": {},
     "output_type": "execute_result"
    }
   ],
   "source": [
    "analytics = await portfolio.analytics.watchlist_table()\n",
    "analytics"
   ]
  },
  {
   "cell_type": "code",
   "execution_count": 3,
   "metadata": {},
   "outputs": [
    {
     "data": {
      "text/html": [
       "<div><style>\n",
       ".dataframe > thead > tr,\n",
       ".dataframe > tbody > tr {\n",
       "  text-align: right;\n",
       "  white-space: pre-wrap;\n",
       "}\n",
       "</style>\n",
       "<small>shape: (3, 10)</small><table border=\"1\" class=\"dataframe\"><thead><tr><th>date</th><th>symbol</th><th>buy_price</th><th>last_price</th><th>sell_price</th><th>ud_pct</th><th>ud_ratio</th><th>sector</th><th>asset_class</th><th>momentum_signal</th></tr><tr><td>date</td><td>str</td><td>f64</td><td>f64</td><td>f64</td><td>str</td><td>f64</td><td>str</td><td>str</td><td>i8</td></tr></thead><tbody><tr><td>2025-04-29</td><td>&quot;AAPL&quot;</td><td>183.33</td><td>211.21</td><td>215.14</td><td>&quot;-13.2 / +1.86&quot;</td><td>0.12</td><td>&quot;Technology&quot;</td><td>&quot;Equity&quot;</td><td>0</td></tr><tr><td>2025-04-29</td><td>&quot;NVDA&quot;</td><td>93.95</td><td>109.02</td><td>113.44</td><td>&quot;-13.82 / +4.06&quot;</td><td>0.23</td><td>&quot;Technology&quot;</td><td>&quot;Equity&quot;</td><td>0</td></tr><tr><td>2025-04-29</td><td>&quot;PCT&quot;</td><td>5.26</td><td>6.96</td><td>7.35</td><td>&quot;-24.47 / +5.54&quot;</td><td>0.18</td><td>&quot;Industrials&quot;</td><td>&quot;Equity&quot;</td><td>0</td></tr></tbody></table></div>"
      ],
      "text/plain": [
       "shape: (3, 10)\n",
       "┌────────────┬────────┬───────────┬────────────┬───┬──────────┬────────────┬───────────┬───────────┐\n",
       "│ date       ┆ symbol ┆ buy_price ┆ last_price ┆ … ┆ ud_ratio ┆ sector     ┆ asset_cla ┆ momentum_ │\n",
       "│ ---        ┆ ---    ┆ ---       ┆ ---        ┆   ┆ ---      ┆ ---        ┆ ss        ┆ signal    │\n",
       "│ date       ┆ str    ┆ f64       ┆ f64        ┆   ┆ f64      ┆ str        ┆ ---       ┆ ---       │\n",
       "│            ┆        ┆           ┆            ┆   ┆          ┆            ┆ str       ┆ i8        │\n",
       "╞════════════╪════════╪═══════════╪════════════╪═══╪══════════╪════════════╪═══════════╪═══════════╡\n",
       "│ 2025-04-29 ┆ AAPL   ┆ 183.33    ┆ 211.21     ┆ … ┆ 0.12     ┆ Technology ┆ Equity    ┆ 0         │\n",
       "│ 2025-04-29 ┆ NVDA   ┆ 93.95     ┆ 109.02     ┆ … ┆ 0.23     ┆ Technology ┆ Equity    ┆ 0         │\n",
       "│ 2025-04-29 ┆ PCT    ┆ 5.26      ┆ 6.96       ┆ … ┆ 0.18     ┆ Industrial ┆ Equity    ┆ 0         │\n",
       "│            ┆        ┆           ┆            ┆   ┆          ┆ s          ┆           ┆           │\n",
       "└────────────┴────────┴───────────┴────────────┴───┴──────────┴────────────┴───────────┴───────────┘"
      ]
     },
     "execution_count": 3,
     "metadata": {},
     "output_type": "execute_result"
    }
   ],
   "source": [
    "analytics.to_polars()"
   ]
  },
  {
   "cell_type": "code",
   "execution_count": 10,
   "metadata": {},
   "outputs": [],
   "source": [
    "from openbb import obb\n",
    "\n",
    "from humbldata.core.utils.env import Env\n",
    "\n",
    "obb.account.login(pat=Env().OBB_PAT)"
   ]
  },
  {
   "cell_type": "code",
   "execution_count": 11,
   "metadata": {},
   "outputs": [
    {
     "ename": "",
     "evalue": "",
     "output_type": "error",
     "traceback": [
      "\u001b[1;31mCannot execute code, session has been disposed. Please try restarting the Kernel."
     ]
    },
    {
     "ename": "",
     "evalue": "",
     "output_type": "error",
     "traceback": [
      "\u001b[1;31mCannot execute code, session has been disposed. Please try restarting the Kernel. \n",
      "\u001b[1;31mView Jupyter <a href='command:jupyter.viewOutput'>log</a> for further details."
     ]
    }
   ],
   "source": [
    "obb.etf.info(symbol='AAPL,XLE,XLF,QQQ', provider='yfinance')"
   ]
  },
  {
   "cell_type": "code",
   "execution_count": null,
   "metadata": {},
   "outputs": [],
   "source": []
  },
  {
   "cell_type": "code",
   "execution_count": null,
   "metadata": {},
   "outputs": [],
   "source": []
  },
  {
   "cell_type": "code",
   "execution_count": null,
   "metadata": {},
   "outputs": [],
   "source": []
  }
 ],
 "metadata": {
  "kernelspec": {
   "display_name": "Python 3",
   "language": "python",
   "name": "python3"
  },
  "language_info": {
   "codemirror_mode": {
    "name": "ipython",
    "version": 3
   },
   "file_extension": ".py",
   "mimetype": "text/x-python",
   "name": "python",
   "nbconvert_exporter": "python",
   "pygments_lexer": "ipython3",
   "version": "3.12.9"
  }
 },
 "nbformat": 4,
 "nbformat_minor": 2
}
