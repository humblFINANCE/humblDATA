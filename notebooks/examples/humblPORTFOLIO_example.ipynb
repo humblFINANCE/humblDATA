{
 "cells": [
  {
   "cell_type": "code",
   "execution_count": 4,
   "metadata": {},
   "outputs": [
    {
     "name": "stdout",
     "output_type": "stream",
     "text": [
      "The autoreload extension is already loaded. To reload it, use:\n",
      "  %reload_ext autoreload\n"
     ]
    }
   ],
   "source": [
    "%load_ext autoreload\n",
    "%autoreload\n",
    "\n",
    "from humbldata.portfolio.portfolio_controller import Portfolio\n",
    "\n",
    "portfolio = Portfolio(\n",
    "    symbols=\"AAPL,PCT,NVDA\",\n",
    "    membership=\"admin\"\n",
    ")"
   ]
  },
  {
   "cell_type": "markdown",
   "metadata": {},
   "source": [
    "## Analytics"
   ]
  },
  {
   "cell_type": "code",
   "execution_count": 5,
   "metadata": {},
   "outputs": [
    {
     "name": "stderr",
     "output_type": "stream",
     "text": [
      "\u001b[1;35mINFO:\u001b[0m \u001b[36mWatchlistTableFetcher\u001b[0m || \u001b[32mSTART: fetch_data (async)\u001b[0m\n",
      "\u001b[1;35mDEBUG:\u001b[0m \u001b[36mWatchlistTableFetcher\u001b[0m || \u001b[34mRunning .transform_query()\u001b[0m\n",
      "\u001b[1;35mDEBUG:\u001b[0m \u001b[36mWatchlistTableFetcher\u001b[0m || \u001b[34mRunning .extract_data()\u001b[0m\n",
      "\u001b[1;35mINFO:\u001b[0m \u001b[36mHumblChannelFetcher\u001b[0m || \u001b[32mSTART: fetch_data (async)\u001b[0m\n",
      "\u001b[1;35mDEBUG:\u001b[0m \u001b[36mHumblChannelFetcher\u001b[0m || \u001b[34mRunning .transform_query()\u001b[0m\n",
      "\u001b[1;35mDEBUG:\u001b[0m \u001b[36mHumblChannelFetcher\u001b[0m || \u001b[34mRunning .extract_data()\u001b[0m\n",
      "\u001b[1;35mINFO:\u001b[0m \u001b[36mOpenBBAPIClient\u001b[0m || \u001b[32mSTART: fetch_data (async)\u001b[0m\n",
      "\u001b[1;35mINFO:\u001b[0m \u001b[36mOpenBBAPIClient\u001b[0m || \u001b[32mPrepared request for: https://data.humblfinance.io/api/v1/equity/price/historical?provider=yfinance&symbol=AAPL,PCT,NVDA&start_date=1950-01-01&end_date=2025-05-22\u001b[0m\n",
      "\u001b[1;35mINFO:\u001b[0m \u001b[36mRateLimiter\u001b[0m || \u001b[32mChecking Rate Limits for Provider: yfinance Route: /equity/price/historical | 9/10 remaining (resets at 2025-05-21T22:09:51.904434)\u001b[0m\n",
      "\u001b[1;35mINFO:\u001b[0m \u001b[36mRateLimiter\u001b[0m || \u001b[32mUpdating Rate Limit - Provider: yfinance Route: /equity/price/historical | 8/10 remaining (resets at 2025-05-21T22:09:51.904434)\u001b[0m\n",
      "\u001b[1;35mINFO:\u001b[0m \u001b[36mOpenBBAPIClient\u001b[0m || \u001b[32mFetching data from: https://data.humblfinance.io/api/v1/equity/price/historical?provider=yfinance&symbol=AAPL,PCT,NVDA&start_date=1950-01-01&end_date=2025-05-22\u001b[0m\n",
      "\u001b[1;35mINFO:\u001b[0m \u001b[36mOpenBBAPIClient\u001b[0m || \u001b[32mEND: fetch_data (async) - Total time: 2.6256s\u001b[0m\n",
      "\u001b[1;35mDEBUG:\u001b[0m \u001b[36mHumblChannelFetcher\u001b[0m || \u001b[34mRunning .transform_data()\u001b[0m\n",
      "\u001b[1;35mDEBUG:\u001b[0m \u001b[36mhumbl_momentum.model\u001b[0m || \u001b[34mCalculating momentum using method: shift, window: 30\u001b[0m\n",
      "\u001b[1;35mDEBUG:\u001b[0m \u001b[36mhumbl_momentum.model\u001b[0m || \u001b[34mUsing simple shift calculation\u001b[0m\n",
      "\u001b[1;35mINFO:\u001b[0m \u001b[36mHumblChannelFetcher\u001b[0m || \u001b[32mEND: fetch_data (async) - Total time: 2.6534s\u001b[0m\n",
      "\u001b[1;35mDEBUG:\u001b[0m \u001b[36mWatchlistTableFetcher\u001b[0m || \u001b[34mRunning .transform_data()\u001b[0m\n",
      "\u001b[1;35mINFO:\u001b[0m \u001b[36mOpenBBAPIClient\u001b[0m || \u001b[32mSTART: fetch_data (async)\u001b[0m\n",
      "\u001b[1;35mINFO:\u001b[0m \u001b[36mOpenBBAPIClient\u001b[0m || \u001b[32mPrepared request for: https://data.humblfinance.io/api/v1/equity/price/quote?symbol=AAPL,PCT,NVDA&provider=yfinance\u001b[0m\n",
      "\u001b[1;35mINFO:\u001b[0m \u001b[36mRateLimiter\u001b[0m || \u001b[32mChecking Rate Limits for Provider: yfinance Route: /equity/price/quote | 9/10 remaining (resets at 2025-05-21T22:09:54.615149)\u001b[0m\n",
      "\u001b[1;35mINFO:\u001b[0m \u001b[36mRateLimiter\u001b[0m || \u001b[32mUpdating Rate Limit - Provider: yfinance Route: /equity/price/quote | 8/10 remaining (resets at 2025-05-21T22:09:54.615149)\u001b[0m\n",
      "\u001b[1;35mINFO:\u001b[0m \u001b[36mOpenBBAPIClient\u001b[0m || \u001b[32mFetching data from: https://data.humblfinance.io/api/v1/equity/price/quote?symbol=AAPL,PCT,NVDA&provider=yfinance\u001b[0m\n",
      "\u001b[1;35mINFO:\u001b[0m \u001b[36mOpenBBAPIClient\u001b[0m || \u001b[32mSTART: fetch_data (async)\u001b[0m\n",
      "\u001b[1;35mINFO:\u001b[0m \u001b[36mOpenBBAPIClient\u001b[0m || \u001b[32mPrepared request for: https://data.humblfinance.io/api/v1/equity/profile?symbol=AAPL,PCT,NVDA&provider=yfinance\u001b[0m\n",
      "\u001b[1;35mINFO:\u001b[0m \u001b[36mRateLimiter\u001b[0m || \u001b[32mChecking Rate Limits for Provider: yfinance Route: /equity/profile | 9/10 remaining (resets at 2025-05-21T22:09:54.616925)\u001b[0m\n",
      "\u001b[1;35mINFO:\u001b[0m \u001b[36mRateLimiter\u001b[0m || \u001b[32mUpdating Rate Limit - Provider: yfinance Route: /equity/profile | 8/10 remaining (resets at 2025-05-21T22:09:54.616925)\u001b[0m\n",
      "\u001b[1;35mINFO:\u001b[0m \u001b[36mOpenBBAPIClient\u001b[0m || \u001b[32mFetching data from: https://data.humblfinance.io/api/v1/equity/profile?symbol=AAPL,PCT,NVDA&provider=yfinance\u001b[0m\n",
      "\u001b[1;35mINFO:\u001b[0m \u001b[36mOpenBBAPIClient\u001b[0m || \u001b[32mEND: fetch_data (async) - Total time: 10.7152s\u001b[0m\n",
      "\u001b[1;35mINFO:\u001b[0m \u001b[36mOpenBBAPIClient\u001b[0m || \u001b[32mEND: fetch_data (async) - Total time: 16.1363s\u001b[0m\n",
      "\u001b[1;35mINFO:\u001b[0m \u001b[36mWatchlistTableFetcher\u001b[0m || \u001b[32mEND: fetch_data (async) - Total time: 18.8063s\u001b[0m\n"
     ]
    },
    {
     "data": {
      "text/plain": [
       "HumblObject\n",
       "\n",
       "id: 0682eb19-2f24-71b3-8000-9ec3f4d8bfde\n",
       "results: b'ARROW1\\x00\\x00\\xff\\xff\\xff\\xff\\xf0\\x02\\x00\\x00\\x04\\x00\\x00\\x00\\xf2\\xff\\x...\n",
       "equity_data: None\n",
       "provider: yfinance\n",
       "warnings: None\n",
       "chart: None\n",
       "extra: {}\n",
       "context_params: {'symbols': ['AAPL', 'PCT', 'NVDA'], 'provider': 'yfinance', 'membe...\n",
       "command_params: {'symbols': 'symbols'}"
      ]
     },
     "execution_count": 5,
     "metadata": {},
     "output_type": "execute_result"
    }
   ],
   "source": [
    "analytics = await portfolio.analytics.watchlist_table()\n",
    "analytics"
   ]
  },
  {
   "cell_type": "code",
   "execution_count": 3,
   "metadata": {},
   "outputs": [
    {
     "data": {
      "text/html": [
       "<div><style>\n",
       ".dataframe > thead > tr,\n",
       ".dataframe > tbody > tr {\n",
       "  text-align: right;\n",
       "  white-space: pre-wrap;\n",
       "}\n",
       "</style>\n",
       "<small>shape: (3, 10)</small><table border=\"1\" class=\"dataframe\"><thead><tr><th>date</th><th>symbol</th><th>buy_price</th><th>last_price</th><th>sell_price</th><th>ud_pct</th><th>ud_ratio</th><th>sector</th><th>asset_class</th><th>momentum_signal</th></tr><tr><td>date</td><td>str</td><td>f64</td><td>f64</td><td>f64</td><td>str</td><td>f64</td><td>str</td><td>str</td><td>i8</td></tr></thead><tbody><tr><td>2025-05-21</td><td>&quot;AAPL&quot;</td><td>200.81</td><td>202.09</td><td>214.12</td><td>&quot;-0.63 / +5.95&quot;</td><td>0.9</td><td>&quot;Technology&quot;</td><td>&quot;Equity&quot;</td><td>1</td></tr><tr><td>2025-05-21</td><td>&quot;NVDA&quot;</td><td>130.48</td><td>131.8</td><td>144.18</td><td>&quot;-1.0 / +9.39&quot;</td><td>0.9</td><td>&quot;Technology&quot;</td><td>&quot;Equity&quot;</td><td>1</td></tr><tr><td>2025-05-21</td><td>&quot;PCT&quot;</td><td>7.68</td><td>8.14</td><td>10.11</td><td>&quot;-5.65 / +24.21&quot;</td><td>0.81</td><td>&quot;Industrials&quot;</td><td>&quot;Equity&quot;</td><td>1</td></tr></tbody></table></div>"
      ],
      "text/plain": [
       "shape: (3, 10)\n",
       "┌────────────┬────────┬───────────┬────────────┬───┬──────────┬────────────┬───────────┬───────────┐\n",
       "│ date       ┆ symbol ┆ buy_price ┆ last_price ┆ … ┆ ud_ratio ┆ sector     ┆ asset_cla ┆ momentum_ │\n",
       "│ ---        ┆ ---    ┆ ---       ┆ ---        ┆   ┆ ---      ┆ ---        ┆ ss        ┆ signal    │\n",
       "│ date       ┆ str    ┆ f64       ┆ f64        ┆   ┆ f64      ┆ str        ┆ ---       ┆ ---       │\n",
       "│            ┆        ┆           ┆            ┆   ┆          ┆            ┆ str       ┆ i8        │\n",
       "╞════════════╪════════╪═══════════╪════════════╪═══╪══════════╪════════════╪═══════════╪═══════════╡\n",
       "│ 2025-05-21 ┆ AAPL   ┆ 200.81    ┆ 202.09     ┆ … ┆ 0.9      ┆ Technology ┆ Equity    ┆ 1         │\n",
       "│ 2025-05-21 ┆ NVDA   ┆ 130.48    ┆ 131.8      ┆ … ┆ 0.9      ┆ Technology ┆ Equity    ┆ 1         │\n",
       "│ 2025-05-21 ┆ PCT    ┆ 7.68      ┆ 8.14       ┆ … ┆ 0.81     ┆ Industrial ┆ Equity    ┆ 1         │\n",
       "│            ┆        ┆           ┆            ┆   ┆          ┆ s          ┆           ┆           │\n",
       "└────────────┴────────┴───────────┴────────────┴───┴──────────┴────────────┴───────────┴───────────┘"
      ]
     },
     "execution_count": 3,
     "metadata": {},
     "output_type": "execute_result"
    }
   ],
   "source": [
    "analytics.to_polars()"
   ]
  },
  {
   "cell_type": "code",
   "execution_count": null,
   "metadata": {},
   "outputs": [],
   "source": []
  },
  {
   "cell_type": "code",
   "execution_count": null,
   "metadata": {},
   "outputs": [],
   "source": []
  },
  {
   "cell_type": "code",
   "execution_count": null,
   "metadata": {},
   "outputs": [],
   "source": []
  }
 ],
 "metadata": {
  "kernelspec": {
   "display_name": ".venv",
   "language": "python",
   "name": "python3"
  },
  "language_info": {
   "codemirror_mode": {
    "name": "ipython",
    "version": 3
   },
   "file_extension": ".py",
   "mimetype": "text/x-python",
   "name": "python",
   "nbconvert_exporter": "python",
   "pygments_lexer": "ipython3",
   "version": "3.12.10"
  }
 },
 "nbformat": 4,
 "nbformat_minor": 2
}
