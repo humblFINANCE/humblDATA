{
 "cells": [
  {
   "cell_type": "code",
   "execution_count": 8,
   "metadata": {},
   "outputs": [
    {
     "name": "stdout",
     "output_type": "stream",
     "text": [
      "The autoreload extension is already loaded. To reload it, use:\n",
      "  %reload_ext autoreload\n"
     ]
    }
   ],
   "source": [
    "%load_ext autoreload\n",
    "%autoreload\n",
    "\n",
    "from humbldata.portfolio.portfolio_controller import Portfolio\n",
    "\n",
    "portfolio = Portfolio(\n",
    "    symbols=\"AAPL,PCT,NVDA,SPY,XLE,XLF\",\n",
    "    membership=\"admin\"\n",
    ")"
   ]
  },
  {
   "cell_type": "markdown",
   "metadata": {},
   "source": [
    "## Analytics"
   ]
  },
  {
   "cell_type": "code",
   "execution_count": 9,
   "metadata": {},
   "outputs": [
    {
     "name": "stderr",
     "output_type": "stream",
     "text": [
      "INFO: UserTableFetcher || START: fetch_data (async)\n",
      "INFO: MandelbrotChannelFetcher || START: fetch_data (sync)\n",
      "INFO: MandelbrotChannelFetcher || END: fetch_data (sync) - Total time: 2.9429s\n",
      "INFO: UserTableFetcher || END: fetch_data (async) - Total time: 3.6833s\n"
     ]
    },
    {
     "data": {
      "text/plain": [
       "HumblObject\n",
       "\n",
       "id: 0674af07-ef0d-7f69-8000-71d4753ac7de\n",
       "results: naive plan: (run LazyFrame.explain(optimized=True) to see the optimized pl...\n",
       "equity_data: None\n",
       "provider: yfinance\n",
       "warnings: None\n",
       "chart: None\n",
       "extra: {}\n",
       "context_params: {'symbols': ['AAPL', 'PCT', 'NVDA', 'SPY', 'XLE', 'XLF'], 'provider...\n",
       "command_params: {'symbols': 'symbols'}"
      ]
     },
     "execution_count": 9,
     "metadata": {},
     "output_type": "execute_result"
    }
   ],
   "source": [
    "analytics = await portfolio.analytics.user_table()\n",
    "analytics"
   ]
  },
  {
   "cell_type": "code",
   "execution_count": 10,
   "metadata": {},
   "outputs": [
    {
     "data": {
      "text/html": [
       "<div><style>\n",
       ".dataframe > thead > tr,\n",
       ".dataframe > tbody > tr {\n",
       "  text-align: right;\n",
       "  white-space: pre-wrap;\n",
       "}\n",
       "</style>\n",
       "<small>shape: (6, 9)</small><table border=\"1\" class=\"dataframe\"><thead><tr><th>date</th><th>symbol</th><th>buy_price</th><th>last_price</th><th>sell_price</th><th>ud_pct</th><th>ud_ratio</th><th>sector</th><th>asset_class</th></tr><tr><td>date</td><td>str</td><td>f64</td><td>f64</td><td>f64</td><td>str</td><td>f64</td><td>str</td><td>str</td></tr></thead><tbody><tr><td>2024-11-29</td><td>&quot;AAPL&quot;</td><td>204.6</td><td>237.33</td><td>237.33</td><td>&quot;-13.79 / +-0.0&quot;</td><td>0.0</td><td>&quot;Technology&quot;</td><td>&quot;Equity&quot;</td></tr><tr><td>2024-11-29</td><td>&quot;NVDA&quot;</td><td>131.23</td><td>138.25</td><td>145.2</td><td>&quot;-5.08 / +5.03&quot;</td><td>0.5</td><td>&quot;Technology&quot;</td><td>&quot;Equity&quot;</td></tr><tr><td>2024-11-29</td><td>&quot;PCT&quot;</td><td>10.13</td><td>13.3</td><td>13.3</td><td>&quot;-23.79 / +-0.0&quot;</td><td>0.0</td><td>&quot;Industrials&quot;</td><td>&quot;Equity&quot;</td></tr><tr><td>2024-11-29</td><td>&quot;SPY&quot;</td><td>588.09</td><td>602.55</td><td>610.58</td><td>&quot;-2.4 / +1.33&quot;</td><td>0.36</td><td>&quot;Large Blend&quot;</td><td>&quot;Large Blend&quot;</td></tr><tr><td>2024-11-29</td><td>&quot;XLE&quot;</td><td>94.47</td><td>95.53</td><td>100.12</td><td>&quot;-1.11 / +4.8&quot;</td><td>0.81</td><td>&quot;Energy&quot;</td><td>&quot;Equity&quot;</td></tr><tr><td>2024-11-29</td><td>&quot;XLF&quot;</td><td>49.87</td><td>51.34</td><td>52.81</td><td>&quot;-2.87 / +2.86&quot;</td><td>0.5</td><td>&quot;Financials&quot;</td><td>&quot;Equity&quot;</td></tr></tbody></table></div>"
      ],
      "text/plain": [
       "shape: (6, 9)\n",
       "┌────────────┬────────┬───────────┬────────────┬───┬────────────┬──────────┬───────────┬───────────┐\n",
       "│ date       ┆ symbol ┆ buy_price ┆ last_price ┆ … ┆ ud_pct     ┆ ud_ratio ┆ sector    ┆ asset_cla │\n",
       "│ ---        ┆ ---    ┆ ---       ┆ ---        ┆   ┆ ---        ┆ ---      ┆ ---       ┆ ss        │\n",
       "│ date       ┆ str    ┆ f64       ┆ f64        ┆   ┆ str        ┆ f64      ┆ str       ┆ ---       │\n",
       "│            ┆        ┆           ┆            ┆   ┆            ┆          ┆           ┆ str       │\n",
       "╞════════════╪════════╪═══════════╪════════════╪═══╪════════════╪══════════╪═══════════╪═══════════╡\n",
       "│ 2024-11-29 ┆ AAPL   ┆ 204.6     ┆ 237.33     ┆ … ┆ -13.79 /   ┆ 0.0      ┆ Technolog ┆ Equity    │\n",
       "│            ┆        ┆           ┆            ┆   ┆ +-0.0      ┆          ┆ y         ┆           │\n",
       "│ 2024-11-29 ┆ NVDA   ┆ 131.23    ┆ 138.25     ┆ … ┆ -5.08 /    ┆ 0.5      ┆ Technolog ┆ Equity    │\n",
       "│            ┆        ┆           ┆            ┆   ┆ +5.03      ┆          ┆ y         ┆           │\n",
       "│ 2024-11-29 ┆ PCT    ┆ 10.13     ┆ 13.3       ┆ … ┆ -23.79 /   ┆ 0.0      ┆ Industria ┆ Equity    │\n",
       "│            ┆        ┆           ┆            ┆   ┆ +-0.0      ┆          ┆ ls        ┆           │\n",
       "│ 2024-11-29 ┆ SPY    ┆ 588.09    ┆ 602.55     ┆ … ┆ -2.4 /     ┆ 0.36     ┆ Large     ┆ Large     │\n",
       "│            ┆        ┆           ┆            ┆   ┆ +1.33      ┆          ┆ Blend     ┆ Blend     │\n",
       "│ 2024-11-29 ┆ XLE    ┆ 94.47     ┆ 95.53      ┆ … ┆ -1.11 /    ┆ 0.81     ┆ Energy    ┆ Equity    │\n",
       "│            ┆        ┆           ┆            ┆   ┆ +4.8       ┆          ┆           ┆           │\n",
       "│ 2024-11-29 ┆ XLF    ┆ 49.87     ┆ 51.34      ┆ … ┆ -2.87 /    ┆ 0.5      ┆ Financial ┆ Equity    │\n",
       "│            ┆        ┆           ┆            ┆   ┆ +2.86      ┆          ┆ s         ┆           │\n",
       "└────────────┴────────┴───────────┴────────────┴───┴────────────┴──────────┴───────────┴───────────┘"
      ]
     },
     "execution_count": 10,
     "metadata": {},
     "output_type": "execute_result"
    }
   ],
   "source": [
    "analytics.to_polars()"
   ]
  },
  {
   "cell_type": "code",
   "execution_count": null,
   "metadata": {},
   "outputs": [],
   "source": []
  }
 ],
 "metadata": {
  "kernelspec": {
   "display_name": "Python 3",
   "language": "python",
   "name": "python3"
  },
  "language_info": {
   "codemirror_mode": {
    "name": "ipython",
    "version": 3
   },
   "file_extension": ".py",
   "mimetype": "text/x-python",
   "name": "python",
   "nbconvert_exporter": "python",
   "pygments_lexer": "ipython3",
   "version": "3.12.7"
  }
 },
 "nbformat": 4,
 "nbformat_minor": 2
}
