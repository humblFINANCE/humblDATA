{
 "cells": [
  {
   "cell_type": "code",
   "execution_count": 80,
   "metadata": {},
   "outputs": [
    {
     "name": "stdout",
     "output_type": "stream",
     "text": [
      "The autoreload extension is already loaded. To reload it, use:\n",
      "  %reload_ext autoreload\n"
     ]
    }
   ],
   "source": [
    "%load_ext autoreload\n",
    "%autoreload 2\n",
    "\n",
    "from datetime import datetime, timedelta\n",
    "from humbldata.toolbox.toolbox_controller import Toolbox\n",
    "from humbldata.core.standard_models.toolbox.technical.momentum import MomentumQueryParams\n",
    "\n",
    "# Initialize toolbox\n",
    "toolbox = Toolbox(\n",
    "    symbols=[\"AAPL\", \"SPY\"],  # List of symbols to analyze\n",
    "    start_date=\"2020-12-09\",  # 1 year ago\n",
    "    end_date=\"2024-12-09\",  # Today\n",
    "    membership=\"admin\"\n",
    ")"
   ]
  },
  {
   "cell_type": "code",
   "execution_count": 90,
   "metadata": {},
   "outputs": [
    {
     "name": "stderr",
     "output_type": "stream",
     "text": [
      "INFO: MomentumFetcher || START: fetch_data (sync)\n",
      "DEBUG: MomentumFetcher || Running .transform_query()\n",
      "DEBUG: MomentumFetcher || Running .extract_data()\n"
     ]
    },
    {
     "name": "stderr",
     "output_type": "stream",
     "text": [
      "DEBUG: MomentumFetcher || Running .transform_data()\n",
      "DEBUG: MomentumFetcher || Transforming data with momentum calculation\n",
      "DEBUG: MomentumModel || Calculating momentum using method: log, window: 30\n",
      "DEBUG: MomentumModel || Using logarithmic ROC calculation\n",
      "INFO: MomentumFetcher || END: fetch_data (sync) - Total time: 0.7259s\n"
     ]
    }
   ],
   "source": [
    "\n",
    "\n",
    "# Calculate momentum\n",
    "result = toolbox.technical.momentum(\n",
    "    method=\"log\",\n",
    "    window=\"1mo\",\n",
    "    chart=True,\n",
    "    template=\"humbl_dark\"\n",
    ")\n"
   ]
  },
  {
   "cell_type": "code",
   "execution_count": 91,
   "metadata": {},
   "outputs": [
    {
     "data": {
      "text/html": [
       "<div><style>\n",
       ".dataframe > thead > tr,\n",
       ".dataframe > tbody > tr {\n",
       "  text-align: right;\n",
       "  white-space: pre-wrap;\n",
       "}\n",
       "</style>\n",
       "<small>shape: (1_952, 9)</small><table border=\"1\" class=\"dataframe\"><thead><tr><th>date</th><th>open</th><th>high</th><th>low</th><th>close</th><th>volume</th><th>dividend</th><th>symbol</th><th>momentum</th></tr><tr><td>date</td><td>f64</td><td>f64</td><td>f64</td><td>f64</td><td>i64</td><td>f64</td><td>str</td><td>f64</td></tr></thead><tbody><tr><td>2021-01-25</td><td>143.070007</td><td>145.089996</td><td>136.539993</td><td>142.919998</td><td>157611700</td><td>0.0</td><td>&quot;AAPL&quot;</td><td>0.160069</td></tr><tr><td>2021-01-26</td><td>143.600006</td><td>144.300003</td><td>141.369995</td><td>143.160004</td><td>98390600</td><td>0.0</td><td>&quot;AAPL&quot;</td><td>0.149829</td></tr><tr><td>2021-01-27</td><td>143.429993</td><td>144.300003</td><td>140.410004</td><td>142.059998</td><td>140843800</td><td>0.0</td><td>&quot;AAPL&quot;</td><td>0.148873</td></tr><tr><td>2021-01-28</td><td>139.520004</td><td>141.990005</td><td>136.699997</td><td>137.089996</td><td>142621100</td><td>0.0</td><td>&quot;AAPL&quot;</td><td>0.118421</td></tr><tr><td>2021-01-29</td><td>135.830002</td><td>136.740005</td><td>130.210007</td><td>131.960007</td><td>177523800</td><td>0.0</td><td>&quot;AAPL&quot;</td><td>0.031407</td></tr><tr><td>&hellip;</td><td>&hellip;</td><td>&hellip;</td><td>&hellip;</td><td>&hellip;</td><td>&hellip;</td><td>&hellip;</td><td>&hellip;</td><td>&hellip;</td></tr><tr><td>2024-12-03</td><td>603.390015</td><td>604.159973</td><td>602.340027</td><td>603.909973</td><td>26906600</td><td>0.0</td><td>&quot;SPY&quot;</td><td>0.034158</td></tr><tr><td>2024-12-04</td><td>605.630005</td><td>607.909973</td><td>604.950012</td><td>607.659973</td><td>42787600</td><td>0.0</td><td>&quot;SPY&quot;</td><td>0.04088</td></tr><tr><td>2024-12-05</td><td>607.659973</td><td>608.47998</td><td>606.299988</td><td>606.659973</td><td>28762200</td><td>0.0</td><td>&quot;SPY&quot;</td><td>0.048412</td></tr><tr><td>2024-12-06</td><td>607.440002</td><td>609.070007</td><td>607.02002</td><td>607.809998</td><td>31190100</td><td>0.0</td><td>&quot;SPY&quot;</td><td>0.048145</td></tr><tr><td>2024-12-09</td><td>607.690002</td><td>607.859985</td><td>604.609985</td><td>606.015015</td><td>10860393</td><td>0.0</td><td>&quot;SPY&quot;</td><td>0.045533</td></tr></tbody></table></div>"
      ],
      "text/plain": [
       "shape: (1_952, 9)\n",
       "┌────────────┬────────────┬────────────┬────────────┬───┬───────────┬──────────┬────────┬──────────┐\n",
       "│ date       ┆ open       ┆ high       ┆ low        ┆ … ┆ volume    ┆ dividend ┆ symbol ┆ momentum │\n",
       "│ ---        ┆ ---        ┆ ---        ┆ ---        ┆   ┆ ---       ┆ ---      ┆ ---    ┆ ---      │\n",
       "│ date       ┆ f64        ┆ f64        ┆ f64        ┆   ┆ i64       ┆ f64      ┆ str    ┆ f64      │\n",
       "╞════════════╪════════════╪════════════╪════════════╪═══╪═══════════╪══════════╪════════╪══════════╡\n",
       "│ 2021-01-25 ┆ 143.070007 ┆ 145.089996 ┆ 136.539993 ┆ … ┆ 157611700 ┆ 0.0      ┆ AAPL   ┆ 0.160069 │\n",
       "│ 2021-01-26 ┆ 143.600006 ┆ 144.300003 ┆ 141.369995 ┆ … ┆ 98390600  ┆ 0.0      ┆ AAPL   ┆ 0.149829 │\n",
       "│ 2021-01-27 ┆ 143.429993 ┆ 144.300003 ┆ 140.410004 ┆ … ┆ 140843800 ┆ 0.0      ┆ AAPL   ┆ 0.148873 │\n",
       "│ 2021-01-28 ┆ 139.520004 ┆ 141.990005 ┆ 136.699997 ┆ … ┆ 142621100 ┆ 0.0      ┆ AAPL   ┆ 0.118421 │\n",
       "│ 2021-01-29 ┆ 135.830002 ┆ 136.740005 ┆ 130.210007 ┆ … ┆ 177523800 ┆ 0.0      ┆ AAPL   ┆ 0.031407 │\n",
       "│ …          ┆ …          ┆ …          ┆ …          ┆ … ┆ …         ┆ …        ┆ …      ┆ …        │\n",
       "│ 2024-12-03 ┆ 603.390015 ┆ 604.159973 ┆ 602.340027 ┆ … ┆ 26906600  ┆ 0.0      ┆ SPY    ┆ 0.034158 │\n",
       "│ 2024-12-04 ┆ 605.630005 ┆ 607.909973 ┆ 604.950012 ┆ … ┆ 42787600  ┆ 0.0      ┆ SPY    ┆ 0.04088  │\n",
       "│ 2024-12-05 ┆ 607.659973 ┆ 608.47998  ┆ 606.299988 ┆ … ┆ 28762200  ┆ 0.0      ┆ SPY    ┆ 0.048412 │\n",
       "│ 2024-12-06 ┆ 607.440002 ┆ 609.070007 ┆ 607.02002  ┆ … ┆ 31190100  ┆ 0.0      ┆ SPY    ┆ 0.048145 │\n",
       "│ 2024-12-09 ┆ 607.690002 ┆ 607.859985 ┆ 604.609985 ┆ … ┆ 10860393  ┆ 0.0      ┆ SPY    ┆ 0.045533 │\n",
       "└────────────┴────────────┴────────────┴────────────┴───┴───────────┴──────────┴────────┴──────────┘"
      ]
     },
     "execution_count": 91,
     "metadata": {},
     "output_type": "execute_result"
    }
   ],
   "source": [
    "result.to_polars()\n"
   ]
  },
  {
   "cell_type": "code",
   "execution_count": 92,
   "metadata": {},
   "outputs": [
    {
     "data": {
      "application/vnd.plotly.v1+json": {
       "config": {
        "plotlyServerURL": "https://plot.ly"
       },
       "data": [
        {
         "line": {
          "color": "green",
          "width": 2
         },
         "mode": "lines",
         "name": "Price",
         "showlegend": true,
         "type": "scatter",
         "x": [
          "2021-01-25T00:00:00",
          "2021-01-26T00:00:00"
         ],
         "y": [
          142.9199981689453,
          143.16000366210938
         ]
        },
        {
         "line": {
          "color": "green",
          "width": 2
         },
         "mode": "lines",
         "name": "Price",
         "showlegend": false,
         "type": "scatter",
         "x": [
          "2021-01-26T00:00:00",
          "2021-01-27T00:00:00"
         ],
         "y": [
          143.16000366210938,
          142.05999755859375
         ]
        },
        {
         "line": {
          "color": "green",
          "width": 2
         },
         "mode": "lines",
         "name": "Price",
         "showlegend": false,
         "type": "scatter",
         "x": [
          "2021-01-27T00:00:00",
          "2021-01-28T00:00:00"
         ],
         "y": [
          142.05999755859375,
          137.08999633789062
         ]
        },
        {
         "line": {
          "color": "green",
          "width": 2
         },
         "mode": "lines",
         "name": "Price",
         "showlegend": false,
         "type": "scatter",
         "x": [
          "2021-01-28T00:00:00",
          "2021-01-29T00:00:00"
         ],
         "y": [
          137.08999633789062,
          131.9600067138672
         ]
        },
        {
         "line": {
          "color": "green",
          "width": 2
         },
         "mode": "lines",
         "name": "Price",
         "showlegend": false,
         "type": "scatter",
         "x": [
          "2021-01-29T00:00:00",
          "2021-02-01T00:00:00"
         ],
         "y": [
          131.9600067138672,
          134.13999938964844
         ]
        },
        {
         "line": {
          "color": "green",
          "width": 2
         },
         "mode": "lines",
         "name": "Price",
         "showlegend": false,
         "type": "scatter",
         "x": [
          "2021-02-01T00:00:00",
          "2021-02-02T00:00:00"
         ],
         "y": [
          134.13999938964844,
          134.99000549316406
         ]
        },
        {
         "line": {
          "color": "green",
          "width": 2
         },
         "mode": "lines",
         "name": "Price",
         "showlegend": false,
         "type": "scatter",
         "x": [
          "2021-02-02T00:00:00",
          "2021-02-03T00:00:00"
         ],
         "y": [
          134.99000549316406,
          133.94000244140625
         ]
        },
        {
         "line": {
          "color": "green",
          "width": 2
         },
         "mode": "lines",
         "name": "Price",
         "showlegend": false,
         "type": "scatter",
         "x": [
          "2021-02-03T00:00:00",
          "2021-02-04T00:00:00"
         ],
         "y": [
          133.94000244140625,
          137.38999938964844
         ]
        },
        {
         "line": {
          "color": "green",
          "width": 2
         },
         "mode": "lines",
         "name": "Price",
         "showlegend": false,
         "type": "scatter",
         "x": [
          "2021-02-04T00:00:00",
          "2021-02-05T00:00:00"
         ],
         "y": [
          137.38999938964844,
          136.75999450683594
         ]
        },
        {
         "line": {
          "color": "green",
          "width": 2
         },
         "mode": "lines",
         "name": "Price",
         "showlegend": false,
         "type": "scatter",
         "x": [
          "2021-02-05T00:00:00",
          "2021-02-08T00:00:00"
         ],
         "y": [
          136.75999450683594,
          136.91000366210938
         ]
        },
        {
         "line": {
          "color": "green",
          "width": 2
         },
         "mode": "lines",
         "name": "Price",
         "showlegend": false,
         "type": "scatter",
         "x": [
          "2021-02-08T00:00:00",
          "2021-02-09T00:00:00"
         ],
         "y": [
          136.91000366210938,
          136.00999450683594
         ]
        },
        {
         "line": {
          "color": "green",
          "width": 2
         },
         "mode": "lines",
         "name": "Price",
         "showlegend": false,
         "type": "scatter",
         "x": [
          "2021-02-09T00:00:00",
          "2021-02-10T00:00:00"
         ],
         "y": [
          136.00999450683594,
          135.38999938964844
         ]
        },
        {
         "line": {
          "color": "red",
          "width": 2
         },
         "mode": "lines",
         "name": "Price",
         "showlegend": false,
         "type": "scatter",
         "x": [
          "2021-02-10T00:00:00",
          "2021-02-11T00:00:00"
         ],
         "y": [
          135.38999938964844,
          135.1300048828125
         ]
        },
        {
         "line": {
          "color": "green",
          "width": 2
         },
         "mode": "lines",
         "name": "Price",
         "showlegend": false,
         "type": "scatter",
         "x": [
          "2021-02-11T00:00:00",
          "2021-02-12T00:00:00"
         ],
         "y": [
          135.1300048828125,
          135.3699951171875
         ]
        },
        {
         "line": {
          "color": "green",
          "width": 2
         },
         "mode": "lines",
         "name": "Price",
         "showlegend": false,
         "type": "scatter",
         "x": [
          "2021-02-12T00:00:00",
          "2021-02-16T00:00:00"
         ],
         "y": [
          135.3699951171875,
          133.19000244140625
         ]
        },
        {
         "line": {
          "color": "green",
          "width": 2
         },
         "mode": "lines",
         "name": "Price",
         "showlegend": false,
         "type": "scatter",
         "x": [
          "2021-02-16T00:00:00",
          "2021-02-17T00:00:00"
         ],
         "y": [
          133.19000244140625,
          130.83999633789062
         ]
        },
        {
         "line": {
          "color": "green",
          "width": 2
         },
         "mode": "lines",
         "name": "Price",
         "showlegend": false,
         "type": "scatter",
         "x": [
          "2021-02-17T00:00:00",
          "2021-02-18T00:00:00"
         ],
         "y": [
          130.83999633789062,
          129.7100067138672
         ]
        },
        {
         "line": {
          "color": "red",
          "width": 2
         },
         "mode": "lines",
         "name": "Price",
         "showlegend": false,
         "type": "scatter",
         "x": [
          "2021-02-18T00:00:00",
          "2021-02-19T00:00:00"
         ],
         "y": [
          129.7100067138672,
          129.8699951171875
         ]
        },
        {
         "line": {
          "color": "green",
          "width": 2
         },
         "mode": "lines",
         "name": "Price",
         "showlegend": false,
         "type": "scatter",
         "x": [
          "2021-02-19T00:00:00",
          "2021-02-22T00:00:00"
         ],
         "y": [
          129.8699951171875,
          126
         ]
        },
        {
         "line": {
          "color": "red",
          "width": 2
         },
         "mode": "lines",
         "name": "Price",
         "showlegend": false,
         "type": "scatter",
         "x": [
          "2021-02-22T00:00:00",
          "2021-02-23T00:00:00"
         ],
         "y": [
          126,
          125.86000061035156
         ]
        },
        {
         "line": {
          "color": "red",
          "width": 2
         },
         "mode": "lines",
         "name": "Price",
         "showlegend": false,
         "type": "scatter",
         "x": [
          "2021-02-23T00:00:00",
          "2021-02-24T00:00:00"
         ],
         "y": [
          125.86000061035156,
          125.3499984741211
         ]
        },
        {
         "line": {
          "color": "red",
          "width": 2
         },
         "mode": "lines",
         "name": "Price",
         "showlegend": false,
         "type": "scatter",
         "x": [
          "2021-02-24T00:00:00",
          "2021-02-25T00:00:00"
         ],
         "y": [
          125.3499984741211,
          120.98999786376953
         ]
        },
        {
         "line": {
          "color": "red",
          "width": 2
         },
         "mode": "lines",
         "name": "Price",
         "showlegend": false,
         "type": "scatter",
         "x": [
          "2021-02-25T00:00:00",
          "2021-02-26T00:00:00"
         ],
         "y": [
          120.98999786376953,
          121.26000213623047
         ]
        },
        {
         "line": {
          "color": "red",
          "width": 2
         },
         "mode": "lines",
         "name": "Price",
         "showlegend": false,
         "type": "scatter",
         "x": [
          "2021-02-26T00:00:00",
          "2021-03-01T00:00:00"
         ],
         "y": [
          121.26000213623047,
          127.79000091552734
         ]
        },
        {
         "line": {
          "color": "red",
          "width": 2
         },
         "mode": "lines",
         "name": "Price",
         "showlegend": false,
         "type": "scatter",
         "x": [
          "2021-03-01T00:00:00",
          "2021-03-02T00:00:00"
         ],
         "y": [
          127.79000091552734,
          125.12000274658203
         ]
        },
        {
         "line": {
          "color": "red",
          "width": 2
         },
         "mode": "lines",
         "name": "Price",
         "showlegend": false,
         "type": "scatter",
         "x": [
          "2021-03-02T00:00:00",
          "2021-03-03T00:00:00"
         ],
         "y": [
          125.12000274658203,
          122.05999755859375
         ]
        },
        {
         "line": {
          "color": "red",
          "width": 2
         },
         "mode": "lines",
         "name": "Price",
         "showlegend": false,
         "type": "scatter",
         "x": [
          "2021-03-03T00:00:00",
          "2021-03-04T00:00:00"
         ],
         "y": [
          122.05999755859375,
          120.12999725341797
         ]
        },
        {
         "line": {
          "color": "red",
          "width": 2
         },
         "mode": "lines",
         "name": "Price",
         "showlegend": false,
         "type": "scatter",
         "x": [
          "2021-03-04T00:00:00",
          "2021-03-05T00:00:00"
         ],
         "y": [
          120.12999725341797,
          121.41999816894531
         ]
        },
        {
         "line": {
          "color": "red",
          "width": 2
         },
         "mode": "lines",
         "name": "Price",
         "showlegend": false,
         "type": "scatter",
         "x": [
          "2021-03-05T00:00:00",
          "2021-03-08T00:00:00"
         ],
         "y": [
          121.41999816894531,
          116.36000061035156
         ]
        },
        {
         "line": {
          "color": "red",
          "width": 2
         },
         "mode": "lines",
         "name": "Price",
         "showlegend": false,
         "type": "scatter",
         "x": [
          "2021-03-08T00:00:00",
          "2021-03-09T00:00:00"
         ],
         "y": [
          116.36000061035156,
          121.08999633789062
         ]
        },
        {
         "line": {
          "color": "red",
          "width": 2
         },
         "mode": "lines",
         "name": "Price",
         "showlegend": false,
         "type": "scatter",
         "x": [
          "2021-03-09T00:00:00",
          "2021-03-10T00:00:00"
         ],
         "y": [
          121.08999633789062,
          119.9800033569336
         ]
        },
        {
         "line": {
          "color": "red",
          "width": 2
         },
         "mode": "lines",
         "name": "Price",
         "showlegend": false,
         "type": "scatter",
         "x": [
          "2021-03-10T00:00:00",
          "2021-03-11T00:00:00"
         ],
         "y": [
          119.9800033569336,
          121.95999908447266
         ]
        },
        {
         "line": {
          "color": "red",
          "width": 2
         },
         "mode": "lines",
         "name": "Price",
         "showlegend": false,
         "type": "scatter",
         "x": [
          "2021-03-11T00:00:00",
          "2021-03-12T00:00:00"
         ],
         "y": [
          121.95999908447266,
          121.02999877929688
         ]
        },
        {
         "line": {
          "color": "red",
          "width": 2
         },
         "mode": "lines",
         "name": "Price",
         "showlegend": false,
         "type": "scatter",
         "x": [
          "2021-03-12T00:00:00",
          "2021-03-15T00:00:00"
         ],
         "y": [
          121.02999877929688,
          123.98999786376953
         ]
        },
        {
         "line": {
          "color": "red",
          "width": 2
         },
         "mode": "lines",
         "name": "Price",
         "showlegend": false,
         "type": "scatter",
         "x": [
          "2021-03-15T00:00:00",
          "2021-03-16T00:00:00"
         ],
         "y": [
          123.98999786376953,
          125.56999969482422
         ]
        },
        {
         "line": {
          "color": "red",
          "width": 2
         },
         "mode": "lines",
         "name": "Price",
         "showlegend": false,
         "type": "scatter",
         "x": [
          "2021-03-16T00:00:00",
          "2021-03-17T00:00:00"
         ],
         "y": [
          125.56999969482422,
          124.76000213623047
         ]
        },
        {
         "line": {
          "color": "red",
          "width": 2
         },
         "mode": "lines",
         "name": "Price",
         "showlegend": false,
         "type": "scatter",
         "x": [
          "2021-03-17T00:00:00",
          "2021-03-18T00:00:00"
         ],
         "y": [
          124.76000213623047,
          120.52999877929688
         ]
        },
        {
         "line": {
          "color": "red",
          "width": 2
         },
         "mode": "lines",
         "name": "Price",
         "showlegend": false,
         "type": "scatter",
         "x": [
          "2021-03-18T00:00:00",
          "2021-03-19T00:00:00"
         ],
         "y": [
          120.52999877929688,
          119.98999786376953
         ]
        },
        {
         "line": {
          "color": "red",
          "width": 2
         },
         "mode": "lines",
         "name": "Price",
         "showlegend": false,
         "type": "scatter",
         "x": [
          "2021-03-19T00:00:00",
          "2021-03-22T00:00:00"
         ],
         "y": [
          119.98999786376953,
          123.38999938964844
         ]
        },
        {
         "line": {
          "color": "red",
          "width": 2
         },
         "mode": "lines",
         "name": "Price",
         "showlegend": false,
         "type": "scatter",
         "x": [
          "2021-03-22T00:00:00",
          "2021-03-23T00:00:00"
         ],
         "y": [
          123.38999938964844,
          122.54000091552734
         ]
        },
        {
         "line": {
          "color": "red",
          "width": 2
         },
         "mode": "lines",
         "name": "Price",
         "showlegend": false,
         "type": "scatter",
         "x": [
          "2021-03-23T00:00:00",
          "2021-03-24T00:00:00"
         ],
         "y": [
          122.54000091552734,
          120.08999633789062
         ]
        },
        {
         "line": {
          "color": "red",
          "width": 2
         },
         "mode": "lines",
         "name": "Price",
         "showlegend": false,
         "type": "scatter",
         "x": [
          "2021-03-24T00:00:00",
          "2021-03-25T00:00:00"
         ],
         "y": [
          120.08999633789062,
          120.58999633789062
         ]
        },
        {
         "line": {
          "color": "red",
          "width": 2
         },
         "mode": "lines",
         "name": "Price",
         "showlegend": false,
         "type": "scatter",
         "x": [
          "2021-03-25T00:00:00",
          "2021-03-26T00:00:00"
         ],
         "y": [
          120.58999633789062,
          121.20999908447266
         ]
        },
        {
         "line": {
          "color": "red",
          "width": 2
         },
         "mode": "lines",
         "name": "Price",
         "showlegend": false,
         "type": "scatter",
         "x": [
          "2021-03-26T00:00:00",
          "2021-03-29T00:00:00"
         ],
         "y": [
          121.20999908447266,
          121.38999938964844
         ]
        },
        {
         "line": {
          "color": "red",
          "width": 2
         },
         "mode": "lines",
         "name": "Price",
         "showlegend": false,
         "type": "scatter",
         "x": [
          "2021-03-29T00:00:00",
          "2021-03-30T00:00:00"
         ],
         "y": [
          121.38999938964844,
          119.9000015258789
         ]
        },
        {
         "line": {
          "color": "red",
          "width": 2
         },
         "mode": "lines",
         "name": "Price",
         "showlegend": false,
         "type": "scatter",
         "x": [
          "2021-03-30T00:00:00",
          "2021-03-31T00:00:00"
         ],
         "y": [
          119.9000015258789,
          122.1500015258789
         ]
        },
        {
         "line": {
          "color": "red",
          "width": 2
         },
         "mode": "lines",
         "name": "Price",
         "showlegend": false,
         "type": "scatter",
         "x": [
          "2021-03-31T00:00:00",
          "2021-04-01T00:00:00"
         ],
         "y": [
          122.1500015258789,
          123
         ]
        },
        {
         "line": {
          "color": "red",
          "width": 2
         },
         "mode": "lines",
         "name": "Price",
         "showlegend": false,
         "type": "scatter",
         "x": [
          "2021-04-01T00:00:00",
          "2021-04-05T00:00:00"
         ],
         "y": [
          123,
          125.9000015258789
         ]
        },
        {
         "line": {
          "color": "red",
          "width": 2
         },
         "mode": "lines",
         "name": "Price",
         "showlegend": false,
         "type": "scatter",
         "x": [
          "2021-04-05T00:00:00",
          "2021-04-06T00:00:00"
         ],
         "y": [
          125.9000015258789,
          126.20999908447266
         ]
        },
        {
         "line": {
          "color": "green",
          "width": 2
         },
         "mode": "lines",
         "name": "Price",
         "showlegend": false,
         "type": "scatter",
         "x": [
          "2021-04-06T00:00:00",
          "2021-04-07T00:00:00"
         ],
         "y": [
          126.20999908447266,
          127.9000015258789
         ]
        },
        {
         "line": {
          "color": "green",
          "width": 2
         },
         "mode": "lines",
         "name": "Price",
         "showlegend": false,
         "type": "scatter",
         "x": [
          "2021-04-07T00:00:00",
          "2021-04-08T00:00:00"
         ],
         "y": [
          127.9000015258789,
          130.36000061035156
         ]
        },
        {
         "line": {
          "color": "green",
          "width": 2
         },
         "mode": "lines",
         "name": "Price",
         "showlegend": false,
         "type": "scatter",
         "x": [
          "2021-04-08T00:00:00",
          "2021-04-09T00:00:00"
         ],
         "y": [
          130.36000061035156,
          133
         ]
        },
        {
         "line": {
          "color": "green",
          "width": 2
         },
         "mode": "lines",
         "name": "Price",
         "showlegend": false,
         "type": "scatter",
         "x": [
          "2021-04-09T00:00:00",
          "2021-04-12T00:00:00"
         ],
         "y": [
          133,
          131.24000549316406
         ]
        },
        {
         "line": {
          "color": "green",
          "width": 2
         },
         "mode": "lines",
         "name": "Price",
         "showlegend": false,
         "type": "scatter",
         "x": [
          "2021-04-12T00:00:00",
          "2021-04-13T00:00:00"
         ],
         "y": [
          131.24000549316406,
          134.42999267578125
         ]
        },
        {
         "line": {
          "color": "green",
          "width": 2
         },
         "mode": "lines",
         "name": "Price",
         "showlegend": false,
         "type": "scatter",
         "x": [
          "2021-04-13T00:00:00",
          "2021-04-14T00:00:00"
         ],
         "y": [
          134.42999267578125,
          132.02999877929688
         ]
        },
        {
         "line": {
          "color": "green",
          "width": 2
         },
         "mode": "lines",
         "name": "Price",
         "showlegend": false,
         "type": "scatter",
         "x": [
          "2021-04-14T00:00:00",
          "2021-04-15T00:00:00"
         ],
         "y": [
          132.02999877929688,
          134.5
         ]
        },
        {
         "line": {
          "color": "green",
          "width": 2
         },
         "mode": "lines",
         "name": "Price",
         "showlegend": false,
         "type": "scatter",
         "x": [
          "2021-04-15T00:00:00",
          "2021-04-16T00:00:00"
         ],
         "y": [
          134.5,
          134.16000366210938
         ]
        },
        {
         "line": {
          "color": "green",
          "width": 2
         },
         "mode": "lines",
         "name": "Price",
         "showlegend": false,
         "type": "scatter",
         "x": [
          "2021-04-16T00:00:00",
          "2021-04-19T00:00:00"
         ],
         "y": [
          134.16000366210938,
          134.83999633789062
         ]
        },
        {
         "line": {
          "color": "green",
          "width": 2
         },
         "mode": "lines",
         "name": "Price",
         "showlegend": false,
         "type": "scatter",
         "x": [
          "2021-04-19T00:00:00",
          "2021-04-20T00:00:00"
         ],
         "y": [
          134.83999633789062,
          133.11000061035156
         ]
        },
        {
         "line": {
          "color": "green",
          "width": 2
         },
         "mode": "lines",
         "name": "Price",
         "showlegend": false,
         "type": "scatter",
         "x": [
          "2021-04-20T00:00:00",
          "2021-04-21T00:00:00"
         ],
         "y": [
          133.11000061035156,
          133.5
         ]
        },
        {
         "line": {
          "color": "green",
          "width": 2
         },
         "mode": "lines",
         "name": "Price",
         "showlegend": false,
         "type": "scatter",
         "x": [
          "2021-04-21T00:00:00",
          "2021-04-22T00:00:00"
         ],
         "y": [
          133.5,
          131.94000244140625
         ]
        },
        {
         "line": {
          "color": "green",
          "width": 2
         },
         "mode": "lines",
         "name": "Price",
         "showlegend": false,
         "type": "scatter",
         "x": [
          "2021-04-22T00:00:00",
          "2021-04-23T00:00:00"
         ],
         "y": [
          131.94000244140625,
          134.32000732421875
         ]
        },
        {
         "line": {
          "color": "green",
          "width": 2
         },
         "mode": "lines",
         "name": "Price",
         "showlegend": false,
         "type": "scatter",
         "x": [
          "2021-04-23T00:00:00",
          "2021-04-26T00:00:00"
         ],
         "y": [
          134.32000732421875,
          134.72000122070312
         ]
        },
        {
         "line": {
          "color": "green",
          "width": 2
         },
         "mode": "lines",
         "name": "Price",
         "showlegend": false,
         "type": "scatter",
         "x": [
          "2021-04-26T00:00:00",
          "2021-04-27T00:00:00"
         ],
         "y": [
          134.72000122070312,
          134.38999938964844
         ]
        },
        {
         "line": {
          "color": "green",
          "width": 2
         },
         "mode": "lines",
         "name": "Price",
         "showlegend": false,
         "type": "scatter",
         "x": [
          "2021-04-27T00:00:00",
          "2021-04-28T00:00:00"
         ],
         "y": [
          134.38999938964844,
          133.5800018310547
         ]
        },
        {
         "line": {
          "color": "green",
          "width": 2
         },
         "mode": "lines",
         "name": "Price",
         "showlegend": false,
         "type": "scatter",
         "x": [
          "2021-04-28T00:00:00",
          "2021-04-29T00:00:00"
         ],
         "y": [
          133.5800018310547,
          133.47999572753906
         ]
        },
        {
         "line": {
          "color": "green",
          "width": 2
         },
         "mode": "lines",
         "name": "Price",
         "showlegend": false,
         "type": "scatter",
         "x": [
          "2021-04-29T00:00:00",
          "2021-04-30T00:00:00"
         ],
         "y": [
          133.47999572753906,
          131.4600067138672
         ]
        },
        {
         "line": {
          "color": "green",
          "width": 2
         },
         "mode": "lines",
         "name": "Price",
         "showlegend": false,
         "type": "scatter",
         "x": [
          "2021-04-30T00:00:00",
          "2021-05-03T00:00:00"
         ],
         "y": [
          131.4600067138672,
          132.5399932861328
         ]
        },
        {
         "line": {
          "color": "green",
          "width": 2
         },
         "mode": "lines",
         "name": "Price",
         "showlegend": false,
         "type": "scatter",
         "x": [
          "2021-05-03T00:00:00",
          "2021-05-04T00:00:00"
         ],
         "y": [
          132.5399932861328,
          127.8499984741211
         ]
        },
        {
         "line": {
          "color": "green",
          "width": 2
         },
         "mode": "lines",
         "name": "Price",
         "showlegend": false,
         "type": "scatter",
         "x": [
          "2021-05-04T00:00:00",
          "2021-05-05T00:00:00"
         ],
         "y": [
          127.8499984741211,
          128.10000610351562
         ]
        },
        {
         "line": {
          "color": "green",
          "width": 2
         },
         "mode": "lines",
         "name": "Price",
         "showlegend": false,
         "type": "scatter",
         "x": [
          "2021-05-05T00:00:00",
          "2021-05-06T00:00:00"
         ],
         "y": [
          128.10000610351562,
          129.74000549316406
         ]
        },
        {
         "line": {
          "color": "green",
          "width": 2
         },
         "mode": "lines",
         "name": "Price",
         "showlegend": false,
         "type": "scatter",
         "x": [
          "2021-05-06T00:00:00",
          "2021-05-07T00:00:00"
         ],
         "y": [
          129.74000549316406,
          130.2100067138672
         ]
        },
        {
         "line": {
          "color": "green",
          "width": 2
         },
         "mode": "lines",
         "name": "Price",
         "showlegend": false,
         "type": "scatter",
         "x": [
          "2021-05-07T00:00:00",
          "2021-05-10T00:00:00"
         ],
         "y": [
          130.2100067138672,
          126.8499984741211
         ]
        },
        {
         "line": {
          "color": "green",
          "width": 2
         },
         "mode": "lines",
         "name": "Price",
         "showlegend": false,
         "type": "scatter",
         "x": [
          "2021-05-10T00:00:00",
          "2021-05-11T00:00:00"
         ],
         "y": [
          126.8499984741211,
          125.91000366210938
         ]
        },
        {
         "line": {
          "color": "green",
          "width": 2
         },
         "mode": "lines",
         "name": "Price",
         "showlegend": false,
         "type": "scatter",
         "x": [
          "2021-05-11T00:00:00",
          "2021-05-12T00:00:00"
         ],
         "y": [
          125.91000366210938,
          122.7699966430664
         ]
        },
        {
         "line": {
          "color": "green",
          "width": 2
         },
         "mode": "lines",
         "name": "Price",
         "showlegend": false,
         "type": "scatter",
         "x": [
          "2021-05-12T00:00:00",
          "2021-05-13T00:00:00"
         ],
         "y": [
          122.7699966430664,
          124.97000122070312
         ]
        },
        {
         "line": {
          "color": "green",
          "width": 2
         },
         "mode": "lines",
         "name": "Price",
         "showlegend": false,
         "type": "scatter",
         "x": [
          "2021-05-13T00:00:00",
          "2021-05-14T00:00:00"
         ],
         "y": [
          124.97000122070312,
          127.44999694824219
         ]
        },
        {
         "line": {
          "color": "green",
          "width": 2
         },
         "mode": "lines",
         "name": "Price",
         "showlegend": false,
         "type": "scatter",
         "x": [
          "2021-05-14T00:00:00",
          "2021-05-17T00:00:00"
         ],
         "y": [
          127.44999694824219,
          126.2699966430664
         ]
        },
        {
         "line": {
          "color": "green",
          "width": 2
         },
         "mode": "lines",
         "name": "Price",
         "showlegend": false,
         "type": "scatter",
         "x": [
          "2021-05-17T00:00:00",
          "2021-05-18T00:00:00"
         ],
         "y": [
          126.2699966430664,
          124.8499984741211
         ]
        },
        {
         "line": {
          "color": "red",
          "width": 2
         },
         "mode": "lines",
         "name": "Price",
         "showlegend": false,
         "type": "scatter",
         "x": [
          "2021-05-18T00:00:00",
          "2021-05-19T00:00:00"
         ],
         "y": [
          124.8499984741211,
          124.69000244140625
         ]
        },
        {
         "line": {
          "color": "red",
          "width": 2
         },
         "mode": "lines",
         "name": "Price",
         "showlegend": false,
         "type": "scatter",
         "x": [
          "2021-05-19T00:00:00",
          "2021-05-20T00:00:00"
         ],
         "y": [
          124.69000244140625,
          127.30999755859375
         ]
        },
        {
         "line": {
          "color": "red",
          "width": 2
         },
         "mode": "lines",
         "name": "Price",
         "showlegend": false,
         "type": "scatter",
         "x": [
          "2021-05-20T00:00:00",
          "2021-05-21T00:00:00"
         ],
         "y": [
          127.30999755859375,
          125.43000030517578
         ]
        },
        {
         "line": {
          "color": "red",
          "width": 2
         },
         "mode": "lines",
         "name": "Price",
         "showlegend": false,
         "type": "scatter",
         "x": [
          "2021-05-21T00:00:00",
          "2021-05-24T00:00:00"
         ],
         "y": [
          125.43000030517578,
          127.0999984741211
         ]
        },
        {
         "line": {
          "color": "red",
          "width": 2
         },
         "mode": "lines",
         "name": "Price",
         "showlegend": false,
         "type": "scatter",
         "x": [
          "2021-05-24T00:00:00",
          "2021-05-25T00:00:00"
         ],
         "y": [
          127.0999984741211,
          126.9000015258789
         ]
        },
        {
         "line": {
          "color": "red",
          "width": 2
         },
         "mode": "lines",
         "name": "Price",
         "showlegend": false,
         "type": "scatter",
         "x": [
          "2021-05-25T00:00:00",
          "2021-05-26T00:00:00"
         ],
         "y": [
          126.9000015258789,
          126.8499984741211
         ]
        },
        {
         "line": {
          "color": "red",
          "width": 2
         },
         "mode": "lines",
         "name": "Price",
         "showlegend": false,
         "type": "scatter",
         "x": [
          "2021-05-26T00:00:00",
          "2021-05-27T00:00:00"
         ],
         "y": [
          126.8499984741211,
          125.27999877929688
         ]
        },
        {
         "line": {
          "color": "red",
          "width": 2
         },
         "mode": "lines",
         "name": "Price",
         "showlegend": false,
         "type": "scatter",
         "x": [
          "2021-05-27T00:00:00",
          "2021-05-28T00:00:00"
         ],
         "y": [
          125.27999877929688,
          124.61000061035156
         ]
        },
        {
         "line": {
          "color": "red",
          "width": 2
         },
         "mode": "lines",
         "name": "Price",
         "showlegend": false,
         "type": "scatter",
         "x": [
          "2021-05-28T00:00:00",
          "2021-06-01T00:00:00"
         ],
         "y": [
          124.61000061035156,
          124.27999877929688
         ]
        },
        {
         "line": {
          "color": "red",
          "width": 2
         },
         "mode": "lines",
         "name": "Price",
         "showlegend": false,
         "type": "scatter",
         "x": [
          "2021-06-01T00:00:00",
          "2021-06-02T00:00:00"
         ],
         "y": [
          124.27999877929688,
          125.05999755859375
         ]
        },
        {
         "line": {
          "color": "red",
          "width": 2
         },
         "mode": "lines",
         "name": "Price",
         "showlegend": false,
         "type": "scatter",
         "x": [
          "2021-06-02T00:00:00",
          "2021-06-03T00:00:00"
         ],
         "y": [
          125.05999755859375,
          123.54000091552734
         ]
        },
        {
         "line": {
          "color": "red",
          "width": 2
         },
         "mode": "lines",
         "name": "Price",
         "showlegend": false,
         "type": "scatter",
         "x": [
          "2021-06-03T00:00:00",
          "2021-06-04T00:00:00"
         ],
         "y": [
          123.54000091552734,
          125.88999938964844
         ]
        },
        {
         "line": {
          "color": "red",
          "width": 2
         },
         "mode": "lines",
         "name": "Price",
         "showlegend": false,
         "type": "scatter",
         "x": [
          "2021-06-04T00:00:00",
          "2021-06-07T00:00:00"
         ],
         "y": [
          125.88999938964844,
          125.9000015258789
         ]
        },
        {
         "line": {
          "color": "red",
          "width": 2
         },
         "mode": "lines",
         "name": "Price",
         "showlegend": false,
         "type": "scatter",
         "x": [
          "2021-06-07T00:00:00",
          "2021-06-08T00:00:00"
         ],
         "y": [
          125.9000015258789,
          126.73999786376953
         ]
        },
        {
         "line": {
          "color": "red",
          "width": 2
         },
         "mode": "lines",
         "name": "Price",
         "showlegend": false,
         "type": "scatter",
         "x": [
          "2021-06-08T00:00:00",
          "2021-06-09T00:00:00"
         ],
         "y": [
          126.73999786376953,
          127.12999725341797
         ]
        },
        {
         "line": {
          "color": "red",
          "width": 2
         },
         "mode": "lines",
         "name": "Price",
         "showlegend": false,
         "type": "scatter",
         "x": [
          "2021-06-09T00:00:00",
          "2021-06-10T00:00:00"
         ],
         "y": [
          127.12999725341797,
          126.11000061035156
         ]
        },
        {
         "line": {
          "color": "red",
          "width": 2
         },
         "mode": "lines",
         "name": "Price",
         "showlegend": false,
         "type": "scatter",
         "x": [
          "2021-06-10T00:00:00",
          "2021-06-11T00:00:00"
         ],
         "y": [
          126.11000061035156,
          127.3499984741211
         ]
        },
        {
         "line": {
          "color": "red",
          "width": 2
         },
         "mode": "lines",
         "name": "Price",
         "showlegend": false,
         "type": "scatter",
         "x": [
          "2021-06-11T00:00:00",
          "2021-06-14T00:00:00"
         ],
         "y": [
          127.3499984741211,
          130.47999572753906
         ]
        },
        {
         "line": {
          "color": "red",
          "width": 2
         },
         "mode": "lines",
         "name": "Price",
         "showlegend": false,
         "type": "scatter",
         "x": [
          "2021-06-14T00:00:00",
          "2021-06-15T00:00:00"
         ],
         "y": [
          130.47999572753906,
          129.63999938964844
         ]
        },
        {
         "line": {
          "color": "red",
          "width": 2
         },
         "mode": "lines",
         "name": "Price",
         "showlegend": false,
         "type": "scatter",
         "x": [
          "2021-06-15T00:00:00",
          "2021-06-16T00:00:00"
         ],
         "y": [
          129.63999938964844,
          130.14999389648438
         ]
        },
        {
         "line": {
          "color": "green",
          "width": 2
         },
         "mode": "lines",
         "name": "Price",
         "showlegend": false,
         "type": "scatter",
         "x": [
          "2021-06-16T00:00:00",
          "2021-06-17T00:00:00"
         ],
         "y": [
          130.14999389648438,
          131.7899932861328
         ]
        },
        {
         "line": {
          "color": "green",
          "width": 2
         },
         "mode": "lines",
         "name": "Price",
         "showlegend": false,
         "type": "scatter",
         "x": [
          "2021-06-17T00:00:00",
          "2021-06-18T00:00:00"
         ],
         "y": [
          131.7899932861328,
          130.4600067138672
         ]
        },
        {
         "line": {
          "color": "green",
          "width": 2
         },
         "mode": "lines",
         "name": "Price",
         "showlegend": false,
         "type": "scatter",
         "x": [
          "2021-06-18T00:00:00",
          "2021-06-21T00:00:00"
         ],
         "y": [
          130.4600067138672,
          132.3000030517578
         ]
        },
        {
         "line": {
          "color": "green",
          "width": 2
         },
         "mode": "lines",
         "name": "Price",
         "showlegend": false,
         "type": "scatter",
         "x": [
          "2021-06-21T00:00:00",
          "2021-06-22T00:00:00"
         ],
         "y": [
          132.3000030517578,
          133.97999572753906
         ]
        },
        {
         "line": {
          "color": "green",
          "width": 2
         },
         "mode": "lines",
         "name": "Price",
         "showlegend": false,
         "type": "scatter",
         "x": [
          "2021-06-22T00:00:00",
          "2021-06-23T00:00:00"
         ],
         "y": [
          133.97999572753906,
          133.6999969482422
         ]
        },
        {
         "line": {
          "color": "green",
          "width": 2
         },
         "mode": "lines",
         "name": "Price",
         "showlegend": false,
         "type": "scatter",
         "x": [
          "2021-06-23T00:00:00",
          "2021-06-24T00:00:00"
         ],
         "y": [
          133.6999969482422,
          133.41000366210938
         ]
        },
        {
         "line": {
          "color": "green",
          "width": 2
         },
         "mode": "lines",
         "name": "Price",
         "showlegend": false,
         "type": "scatter",
         "x": [
          "2021-06-24T00:00:00",
          "2021-06-25T00:00:00"
         ],
         "y": [
          133.41000366210938,
          133.11000061035156
         ]
        },
        {
         "line": {
          "color": "green",
          "width": 2
         },
         "mode": "lines",
         "name": "Price",
         "showlegend": false,
         "type": "scatter",
         "x": [
          "2021-06-25T00:00:00",
          "2021-06-28T00:00:00"
         ],
         "y": [
          133.11000061035156,
          134.77999877929688
         ]
        },
        {
         "line": {
          "color": "green",
          "width": 2
         },
         "mode": "lines",
         "name": "Price",
         "showlegend": false,
         "type": "scatter",
         "x": [
          "2021-06-28T00:00:00",
          "2021-06-29T00:00:00"
         ],
         "y": [
          134.77999877929688,
          136.3300018310547
         ]
        },
        {
         "line": {
          "color": "green",
          "width": 2
         },
         "mode": "lines",
         "name": "Price",
         "showlegend": false,
         "type": "scatter",
         "x": [
          "2021-06-29T00:00:00",
          "2021-06-30T00:00:00"
         ],
         "y": [
          136.3300018310547,
          136.9600067138672
         ]
        },
        {
         "line": {
          "color": "green",
          "width": 2
         },
         "mode": "lines",
         "name": "Price",
         "showlegend": false,
         "type": "scatter",
         "x": [
          "2021-06-30T00:00:00",
          "2021-07-01T00:00:00"
         ],
         "y": [
          136.9600067138672,
          137.27000427246094
         ]
        },
        {
         "line": {
          "color": "green",
          "width": 2
         },
         "mode": "lines",
         "name": "Price",
         "showlegend": false,
         "type": "scatter",
         "x": [
          "2021-07-01T00:00:00",
          "2021-07-02T00:00:00"
         ],
         "y": [
          137.27000427246094,
          139.9600067138672
         ]
        },
        {
         "line": {
          "color": "green",
          "width": 2
         },
         "mode": "lines",
         "name": "Price",
         "showlegend": false,
         "type": "scatter",
         "x": [
          "2021-07-02T00:00:00",
          "2021-07-06T00:00:00"
         ],
         "y": [
          139.9600067138672,
          142.02000427246094
         ]
        },
        {
         "line": {
          "color": "green",
          "width": 2
         },
         "mode": "lines",
         "name": "Price",
         "showlegend": false,
         "type": "scatter",
         "x": [
          "2021-07-06T00:00:00",
          "2021-07-07T00:00:00"
         ],
         "y": [
          142.02000427246094,
          144.57000732421875
         ]
        },
        {
         "line": {
          "color": "green",
          "width": 2
         },
         "mode": "lines",
         "name": "Price",
         "showlegend": false,
         "type": "scatter",
         "x": [
          "2021-07-07T00:00:00",
          "2021-07-08T00:00:00"
         ],
         "y": [
          144.57000732421875,
          143.24000549316406
         ]
        },
        {
         "line": {
          "color": "green",
          "width": 2
         },
         "mode": "lines",
         "name": "Price",
         "showlegend": false,
         "type": "scatter",
         "x": [
          "2021-07-08T00:00:00",
          "2021-07-09T00:00:00"
         ],
         "y": [
          143.24000549316406,
          145.11000061035156
         ]
        },
        {
         "line": {
          "color": "green",
          "width": 2
         },
         "mode": "lines",
         "name": "Price",
         "showlegend": false,
         "type": "scatter",
         "x": [
          "2021-07-09T00:00:00",
          "2021-07-12T00:00:00"
         ],
         "y": [
          145.11000061035156,
          144.5
         ]
        },
        {
         "line": {
          "color": "green",
          "width": 2
         },
         "mode": "lines",
         "name": "Price",
         "showlegend": false,
         "type": "scatter",
         "x": [
          "2021-07-12T00:00:00",
          "2021-07-13T00:00:00"
         ],
         "y": [
          144.5,
          145.63999938964844
         ]
        },
        {
         "line": {
          "color": "green",
          "width": 2
         },
         "mode": "lines",
         "name": "Price",
         "showlegend": false,
         "type": "scatter",
         "x": [
          "2021-07-13T00:00:00",
          "2021-07-14T00:00:00"
         ],
         "y": [
          145.63999938964844,
          149.14999389648438
         ]
        },
        {
         "line": {
          "color": "green",
          "width": 2
         },
         "mode": "lines",
         "name": "Price",
         "showlegend": false,
         "type": "scatter",
         "x": [
          "2021-07-14T00:00:00",
          "2021-07-15T00:00:00"
         ],
         "y": [
          149.14999389648438,
          148.47999572753906
         ]
        },
        {
         "line": {
          "color": "green",
          "width": 2
         },
         "mode": "lines",
         "name": "Price",
         "showlegend": false,
         "type": "scatter",
         "x": [
          "2021-07-15T00:00:00",
          "2021-07-16T00:00:00"
         ],
         "y": [
          148.47999572753906,
          146.38999938964844
         ]
        },
        {
         "line": {
          "color": "green",
          "width": 2
         },
         "mode": "lines",
         "name": "Price",
         "showlegend": false,
         "type": "scatter",
         "x": [
          "2021-07-16T00:00:00",
          "2021-07-19T00:00:00"
         ],
         "y": [
          146.38999938964844,
          142.4499969482422
         ]
        },
        {
         "line": {
          "color": "green",
          "width": 2
         },
         "mode": "lines",
         "name": "Price",
         "showlegend": false,
         "type": "scatter",
         "x": [
          "2021-07-19T00:00:00",
          "2021-07-20T00:00:00"
         ],
         "y": [
          142.4499969482422,
          146.14999389648438
         ]
        },
        {
         "line": {
          "color": "green",
          "width": 2
         },
         "mode": "lines",
         "name": "Price",
         "showlegend": false,
         "type": "scatter",
         "x": [
          "2021-07-20T00:00:00",
          "2021-07-21T00:00:00"
         ],
         "y": [
          146.14999389648438,
          145.39999389648438
         ]
        },
        {
         "line": {
          "color": "green",
          "width": 2
         },
         "mode": "lines",
         "name": "Price",
         "showlegend": false,
         "type": "scatter",
         "x": [
          "2021-07-21T00:00:00",
          "2021-07-22T00:00:00"
         ],
         "y": [
          145.39999389648438,
          146.8000030517578
         ]
        },
        {
         "line": {
          "color": "green",
          "width": 2
         },
         "mode": "lines",
         "name": "Price",
         "showlegend": false,
         "type": "scatter",
         "x": [
          "2021-07-22T00:00:00",
          "2021-07-23T00:00:00"
         ],
         "y": [
          146.8000030517578,
          148.55999755859375
         ]
        },
        {
         "line": {
          "color": "green",
          "width": 2
         },
         "mode": "lines",
         "name": "Price",
         "showlegend": false,
         "type": "scatter",
         "x": [
          "2021-07-23T00:00:00",
          "2021-07-26T00:00:00"
         ],
         "y": [
          148.55999755859375,
          148.99000549316406
         ]
        },
        {
         "line": {
          "color": "green",
          "width": 2
         },
         "mode": "lines",
         "name": "Price",
         "showlegend": false,
         "type": "scatter",
         "x": [
          "2021-07-26T00:00:00",
          "2021-07-27T00:00:00"
         ],
         "y": [
          148.99000549316406,
          146.77000427246094
         ]
        },
        {
         "line": {
          "color": "green",
          "width": 2
         },
         "mode": "lines",
         "name": "Price",
         "showlegend": false,
         "type": "scatter",
         "x": [
          "2021-07-27T00:00:00",
          "2021-07-28T00:00:00"
         ],
         "y": [
          146.77000427246094,
          144.97999572753906
         ]
        },
        {
         "line": {
          "color": "green",
          "width": 2
         },
         "mode": "lines",
         "name": "Price",
         "showlegend": false,
         "type": "scatter",
         "x": [
          "2021-07-28T00:00:00",
          "2021-07-29T00:00:00"
         ],
         "y": [
          144.97999572753906,
          145.63999938964844
         ]
        },
        {
         "line": {
          "color": "green",
          "width": 2
         },
         "mode": "lines",
         "name": "Price",
         "showlegend": false,
         "type": "scatter",
         "x": [
          "2021-07-29T00:00:00",
          "2021-07-30T00:00:00"
         ],
         "y": [
          145.63999938964844,
          145.86000061035156
         ]
        },
        {
         "line": {
          "color": "green",
          "width": 2
         },
         "mode": "lines",
         "name": "Price",
         "showlegend": false,
         "type": "scatter",
         "x": [
          "2021-07-30T00:00:00",
          "2021-08-02T00:00:00"
         ],
         "y": [
          145.86000061035156,
          145.52000427246094
         ]
        },
        {
         "line": {
          "color": "green",
          "width": 2
         },
         "mode": "lines",
         "name": "Price",
         "showlegend": false,
         "type": "scatter",
         "x": [
          "2021-08-02T00:00:00",
          "2021-08-03T00:00:00"
         ],
         "y": [
          145.52000427246094,
          147.36000061035156
         ]
        },
        {
         "line": {
          "color": "green",
          "width": 2
         },
         "mode": "lines",
         "name": "Price",
         "showlegend": false,
         "type": "scatter",
         "x": [
          "2021-08-03T00:00:00",
          "2021-08-04T00:00:00"
         ],
         "y": [
          147.36000061035156,
          146.9499969482422
         ]
        },
        {
         "line": {
          "color": "green",
          "width": 2
         },
         "mode": "lines",
         "name": "Price",
         "showlegend": false,
         "type": "scatter",
         "x": [
          "2021-08-04T00:00:00",
          "2021-08-05T00:00:00"
         ],
         "y": [
          146.9499969482422,
          147.05999755859375
         ]
        },
        {
         "line": {
          "color": "green",
          "width": 2
         },
         "mode": "lines",
         "name": "Price",
         "showlegend": false,
         "type": "scatter",
         "x": [
          "2021-08-05T00:00:00",
          "2021-08-06T00:00:00"
         ],
         "y": [
          147.05999755859375,
          146.13999938964844
         ]
        },
        {
         "line": {
          "color": "green",
          "width": 2
         },
         "mode": "lines",
         "name": "Price",
         "showlegend": false,
         "type": "scatter",
         "x": [
          "2021-08-06T00:00:00",
          "2021-08-09T00:00:00"
         ],
         "y": [
          146.13999938964844,
          146.08999633789062
         ]
        },
        {
         "line": {
          "color": "green",
          "width": 2
         },
         "mode": "lines",
         "name": "Price",
         "showlegend": false,
         "type": "scatter",
         "x": [
          "2021-08-09T00:00:00",
          "2021-08-10T00:00:00"
         ],
         "y": [
          146.08999633789062,
          145.60000610351562
         ]
        },
        {
         "line": {
          "color": "green",
          "width": 2
         },
         "mode": "lines",
         "name": "Price",
         "showlegend": false,
         "type": "scatter",
         "x": [
          "2021-08-10T00:00:00",
          "2021-08-11T00:00:00"
         ],
         "y": [
          145.60000610351562,
          145.86000061035156
         ]
        },
        {
         "line": {
          "color": "green",
          "width": 2
         },
         "mode": "lines",
         "name": "Price",
         "showlegend": false,
         "type": "scatter",
         "x": [
          "2021-08-11T00:00:00",
          "2021-08-12T00:00:00"
         ],
         "y": [
          145.86000061035156,
          148.88999938964844
         ]
        },
        {
         "line": {
          "color": "green",
          "width": 2
         },
         "mode": "lines",
         "name": "Price",
         "showlegend": false,
         "type": "scatter",
         "x": [
          "2021-08-12T00:00:00",
          "2021-08-13T00:00:00"
         ],
         "y": [
          148.88999938964844,
          149.10000610351562
         ]
        },
        {
         "line": {
          "color": "green",
          "width": 2
         },
         "mode": "lines",
         "name": "Price",
         "showlegend": false,
         "type": "scatter",
         "x": [
          "2021-08-13T00:00:00",
          "2021-08-16T00:00:00"
         ],
         "y": [
          149.10000610351562,
          151.1199951171875
         ]
        },
        {
         "line": {
          "color": "green",
          "width": 2
         },
         "mode": "lines",
         "name": "Price",
         "showlegend": false,
         "type": "scatter",
         "x": [
          "2021-08-16T00:00:00",
          "2021-08-17T00:00:00"
         ],
         "y": [
          151.1199951171875,
          150.19000244140625
         ]
        },
        {
         "line": {
          "color": "green",
          "width": 2
         },
         "mode": "lines",
         "name": "Price",
         "showlegend": false,
         "type": "scatter",
         "x": [
          "2021-08-17T00:00:00",
          "2021-08-18T00:00:00"
         ],
         "y": [
          150.19000244140625,
          146.36000061035156
         ]
        },
        {
         "line": {
          "color": "green",
          "width": 2
         },
         "mode": "lines",
         "name": "Price",
         "showlegend": false,
         "type": "scatter",
         "x": [
          "2021-08-18T00:00:00",
          "2021-08-19T00:00:00"
         ],
         "y": [
          146.36000061035156,
          146.6999969482422
         ]
        },
        {
         "line": {
          "color": "green",
          "width": 2
         },
         "mode": "lines",
         "name": "Price",
         "showlegend": false,
         "type": "scatter",
         "x": [
          "2021-08-19T00:00:00",
          "2021-08-20T00:00:00"
         ],
         "y": [
          146.6999969482422,
          148.19000244140625
         ]
        },
        {
         "line": {
          "color": "green",
          "width": 2
         },
         "mode": "lines",
         "name": "Price",
         "showlegend": false,
         "type": "scatter",
         "x": [
          "2021-08-20T00:00:00",
          "2021-08-23T00:00:00"
         ],
         "y": [
          148.19000244140625,
          149.7100067138672
         ]
        },
        {
         "line": {
          "color": "green",
          "width": 2
         },
         "mode": "lines",
         "name": "Price",
         "showlegend": false,
         "type": "scatter",
         "x": [
          "2021-08-23T00:00:00",
          "2021-08-24T00:00:00"
         ],
         "y": [
          149.7100067138672,
          149.6199951171875
         ]
        },
        {
         "line": {
          "color": "green",
          "width": 2
         },
         "mode": "lines",
         "name": "Price",
         "showlegend": false,
         "type": "scatter",
         "x": [
          "2021-08-24T00:00:00",
          "2021-08-25T00:00:00"
         ],
         "y": [
          149.6199951171875,
          148.36000061035156
         ]
        },
        {
         "line": {
          "color": "red",
          "width": 2
         },
         "mode": "lines",
         "name": "Price",
         "showlegend": false,
         "type": "scatter",
         "x": [
          "2021-08-25T00:00:00",
          "2021-08-26T00:00:00"
         ],
         "y": [
          148.36000061035156,
          147.5399932861328
         ]
        },
        {
         "line": {
          "color": "red",
          "width": 2
         },
         "mode": "lines",
         "name": "Price",
         "showlegend": false,
         "type": "scatter",
         "x": [
          "2021-08-26T00:00:00",
          "2021-08-27T00:00:00"
         ],
         "y": [
          147.5399932861328,
          148.60000610351562
         ]
        },
        {
         "line": {
          "color": "green",
          "width": 2
         },
         "mode": "lines",
         "name": "Price",
         "showlegend": false,
         "type": "scatter",
         "x": [
          "2021-08-27T00:00:00",
          "2021-08-30T00:00:00"
         ],
         "y": [
          148.60000610351562,
          153.1199951171875
         ]
        },
        {
         "line": {
          "color": "green",
          "width": 2
         },
         "mode": "lines",
         "name": "Price",
         "showlegend": false,
         "type": "scatter",
         "x": [
          "2021-08-30T00:00:00",
          "2021-08-31T00:00:00"
         ],
         "y": [
          153.1199951171875,
          151.8300018310547
         ]
        },
        {
         "line": {
          "color": "green",
          "width": 2
         },
         "mode": "lines",
         "name": "Price",
         "showlegend": false,
         "type": "scatter",
         "x": [
          "2021-08-31T00:00:00",
          "2021-09-01T00:00:00"
         ],
         "y": [
          151.8300018310547,
          152.50999450683594
         ]
        },
        {
         "line": {
          "color": "green",
          "width": 2
         },
         "mode": "lines",
         "name": "Price",
         "showlegend": false,
         "type": "scatter",
         "x": [
          "2021-09-01T00:00:00",
          "2021-09-02T00:00:00"
         ],
         "y": [
          152.50999450683594,
          153.64999389648438
         ]
        },
        {
         "line": {
          "color": "green",
          "width": 2
         },
         "mode": "lines",
         "name": "Price",
         "showlegend": false,
         "type": "scatter",
         "x": [
          "2021-09-02T00:00:00",
          "2021-09-03T00:00:00"
         ],
         "y": [
          153.64999389648438,
          154.3000030517578
         ]
        },
        {
         "line": {
          "color": "green",
          "width": 2
         },
         "mode": "lines",
         "name": "Price",
         "showlegend": false,
         "type": "scatter",
         "x": [
          "2021-09-03T00:00:00",
          "2021-09-07T00:00:00"
         ],
         "y": [
          154.3000030517578,
          156.69000244140625
         ]
        },
        {
         "line": {
          "color": "green",
          "width": 2
         },
         "mode": "lines",
         "name": "Price",
         "showlegend": false,
         "type": "scatter",
         "x": [
          "2021-09-07T00:00:00",
          "2021-09-08T00:00:00"
         ],
         "y": [
          156.69000244140625,
          155.11000061035156
         ]
        },
        {
         "line": {
          "color": "green",
          "width": 2
         },
         "mode": "lines",
         "name": "Price",
         "showlegend": false,
         "type": "scatter",
         "x": [
          "2021-09-08T00:00:00",
          "2021-09-09T00:00:00"
         ],
         "y": [
          155.11000061035156,
          154.07000732421875
         ]
        },
        {
         "line": {
          "color": "green",
          "width": 2
         },
         "mode": "lines",
         "name": "Price",
         "showlegend": false,
         "type": "scatter",
         "x": [
          "2021-09-09T00:00:00",
          "2021-09-10T00:00:00"
         ],
         "y": [
          154.07000732421875,
          148.97000122070312
         ]
        },
        {
         "line": {
          "color": "green",
          "width": 2
         },
         "mode": "lines",
         "name": "Price",
         "showlegend": false,
         "type": "scatter",
         "x": [
          "2021-09-10T00:00:00",
          "2021-09-13T00:00:00"
         ],
         "y": [
          148.97000122070312,
          149.5500030517578
         ]
        },
        {
         "line": {
          "color": "green",
          "width": 2
         },
         "mode": "lines",
         "name": "Price",
         "showlegend": false,
         "type": "scatter",
         "x": [
          "2021-09-13T00:00:00",
          "2021-09-14T00:00:00"
         ],
         "y": [
          149.5500030517578,
          148.1199951171875
         ]
        },
        {
         "line": {
          "color": "green",
          "width": 2
         },
         "mode": "lines",
         "name": "Price",
         "showlegend": false,
         "type": "scatter",
         "x": [
          "2021-09-14T00:00:00",
          "2021-09-15T00:00:00"
         ],
         "y": [
          148.1199951171875,
          149.02999877929688
         ]
        },
        {
         "line": {
          "color": "green",
          "width": 2
         },
         "mode": "lines",
         "name": "Price",
         "showlegend": false,
         "type": "scatter",
         "x": [
          "2021-09-15T00:00:00",
          "2021-09-16T00:00:00"
         ],
         "y": [
          149.02999877929688,
          148.7899932861328
         ]
        },
        {
         "line": {
          "color": "green",
          "width": 2
         },
         "mode": "lines",
         "name": "Price",
         "showlegend": false,
         "type": "scatter",
         "x": [
          "2021-09-16T00:00:00",
          "2021-09-17T00:00:00"
         ],
         "y": [
          148.7899932861328,
          146.05999755859375
         ]
        },
        {
         "line": {
          "color": "red",
          "width": 2
         },
         "mode": "lines",
         "name": "Price",
         "showlegend": false,
         "type": "scatter",
         "x": [
          "2021-09-17T00:00:00",
          "2021-09-20T00:00:00"
         ],
         "y": [
          146.05999755859375,
          142.94000244140625
         ]
        },
        {
         "line": {
          "color": "red",
          "width": 2
         },
         "mode": "lines",
         "name": "Price",
         "showlegend": false,
         "type": "scatter",
         "x": [
          "2021-09-20T00:00:00",
          "2021-09-21T00:00:00"
         ],
         "y": [
          142.94000244140625,
          143.42999267578125
         ]
        },
        {
         "line": {
          "color": "red",
          "width": 2
         },
         "mode": "lines",
         "name": "Price",
         "showlegend": false,
         "type": "scatter",
         "x": [
          "2021-09-21T00:00:00",
          "2021-09-22T00:00:00"
         ],
         "y": [
          143.42999267578125,
          145.85000610351562
         ]
        },
        {
         "line": {
          "color": "green",
          "width": 2
         },
         "mode": "lines",
         "name": "Price",
         "showlegend": false,
         "type": "scatter",
         "x": [
          "2021-09-22T00:00:00",
          "2021-09-23T00:00:00"
         ],
         "y": [
          145.85000610351562,
          146.8300018310547
         ]
        },
        {
         "line": {
          "color": "green",
          "width": 2
         },
         "mode": "lines",
         "name": "Price",
         "showlegend": false,
         "type": "scatter",
         "x": [
          "2021-09-23T00:00:00",
          "2021-09-24T00:00:00"
         ],
         "y": [
          146.8300018310547,
          146.9199981689453
         ]
        },
        {
         "line": {
          "color": "red",
          "width": 2
         },
         "mode": "lines",
         "name": "Price",
         "showlegend": false,
         "type": "scatter",
         "x": [
          "2021-09-24T00:00:00",
          "2021-09-27T00:00:00"
         ],
         "y": [
          146.9199981689453,
          145.3699951171875
         ]
        },
        {
         "line": {
          "color": "red",
          "width": 2
         },
         "mode": "lines",
         "name": "Price",
         "showlegend": false,
         "type": "scatter",
         "x": [
          "2021-09-27T00:00:00",
          "2021-09-28T00:00:00"
         ],
         "y": [
          145.3699951171875,
          141.91000366210938
         ]
        },
        {
         "line": {
          "color": "red",
          "width": 2
         },
         "mode": "lines",
         "name": "Price",
         "showlegend": false,
         "type": "scatter",
         "x": [
          "2021-09-28T00:00:00",
          "2021-09-29T00:00:00"
         ],
         "y": [
          141.91000366210938,
          142.8300018310547
         ]
        },
        {
         "line": {
          "color": "red",
          "width": 2
         },
         "mode": "lines",
         "name": "Price",
         "showlegend": false,
         "type": "scatter",
         "x": [
          "2021-09-29T00:00:00",
          "2021-09-30T00:00:00"
         ],
         "y": [
          142.8300018310547,
          141.5
         ]
        },
        {
         "line": {
          "color": "red",
          "width": 2
         },
         "mode": "lines",
         "name": "Price",
         "showlegend": false,
         "type": "scatter",
         "x": [
          "2021-09-30T00:00:00",
          "2021-10-01T00:00:00"
         ],
         "y": [
          141.5,
          142.64999389648438
         ]
        },
        {
         "line": {
          "color": "red",
          "width": 2
         },
         "mode": "lines",
         "name": "Price",
         "showlegend": false,
         "type": "scatter",
         "x": [
          "2021-10-01T00:00:00",
          "2021-10-04T00:00:00"
         ],
         "y": [
          142.64999389648438,
          139.13999938964844
         ]
        },
        {
         "line": {
          "color": "red",
          "width": 2
         },
         "mode": "lines",
         "name": "Price",
         "showlegend": false,
         "type": "scatter",
         "x": [
          "2021-10-04T00:00:00",
          "2021-10-05T00:00:00"
         ],
         "y": [
          139.13999938964844,
          141.11000061035156
         ]
        },
        {
         "line": {
          "color": "red",
          "width": 2
         },
         "mode": "lines",
         "name": "Price",
         "showlegend": false,
         "type": "scatter",
         "x": [
          "2021-10-05T00:00:00",
          "2021-10-06T00:00:00"
         ],
         "y": [
          141.11000061035156,
          142
         ]
        },
        {
         "line": {
          "color": "red",
          "width": 2
         },
         "mode": "lines",
         "name": "Price",
         "showlegend": false,
         "type": "scatter",
         "x": [
          "2021-10-06T00:00:00",
          "2021-10-07T00:00:00"
         ],
         "y": [
          142,
          143.2899932861328
         ]
        },
        {
         "line": {
          "color": "red",
          "width": 2
         },
         "mode": "lines",
         "name": "Price",
         "showlegend": false,
         "type": "scatter",
         "x": [
          "2021-10-07T00:00:00",
          "2021-10-08T00:00:00"
         ],
         "y": [
          143.2899932861328,
          142.89999389648438
         ]
        },
        {
         "line": {
          "color": "red",
          "width": 2
         },
         "mode": "lines",
         "name": "Price",
         "showlegend": false,
         "type": "scatter",
         "x": [
          "2021-10-08T00:00:00",
          "2021-10-11T00:00:00"
         ],
         "y": [
          142.89999389648438,
          142.80999755859375
         ]
        },
        {
         "line": {
          "color": "red",
          "width": 2
         },
         "mode": "lines",
         "name": "Price",
         "showlegend": false,
         "type": "scatter",
         "x": [
          "2021-10-11T00:00:00",
          "2021-10-12T00:00:00"
         ],
         "y": [
          142.80999755859375,
          141.50999450683594
         ]
        },
        {
         "line": {
          "color": "red",
          "width": 2
         },
         "mode": "lines",
         "name": "Price",
         "showlegend": false,
         "type": "scatter",
         "x": [
          "2021-10-12T00:00:00",
          "2021-10-13T00:00:00"
         ],
         "y": [
          141.50999450683594,
          140.91000366210938
         ]
        },
        {
         "line": {
          "color": "red",
          "width": 2
         },
         "mode": "lines",
         "name": "Price",
         "showlegend": false,
         "type": "scatter",
         "x": [
          "2021-10-13T00:00:00",
          "2021-10-14T00:00:00"
         ],
         "y": [
          140.91000366210938,
          143.75999450683594
         ]
        },
        {
         "line": {
          "color": "red",
          "width": 2
         },
         "mode": "lines",
         "name": "Price",
         "showlegend": false,
         "type": "scatter",
         "x": [
          "2021-10-14T00:00:00",
          "2021-10-15T00:00:00"
         ],
         "y": [
          143.75999450683594,
          144.83999633789062
         ]
        },
        {
         "line": {
          "color": "red",
          "width": 2
         },
         "mode": "lines",
         "name": "Price",
         "showlegend": false,
         "type": "scatter",
         "x": [
          "2021-10-15T00:00:00",
          "2021-10-18T00:00:00"
         ],
         "y": [
          144.83999633789062,
          146.5500030517578
         ]
        },
        {
         "line": {
          "color": "red",
          "width": 2
         },
         "mode": "lines",
         "name": "Price",
         "showlegend": false,
         "type": "scatter",
         "x": [
          "2021-10-18T00:00:00",
          "2021-10-19T00:00:00"
         ],
         "y": [
          146.5500030517578,
          148.75999450683594
         ]
        },
        {
         "line": {
          "color": "red",
          "width": 2
         },
         "mode": "lines",
         "name": "Price",
         "showlegend": false,
         "type": "scatter",
         "x": [
          "2021-10-19T00:00:00",
          "2021-10-20T00:00:00"
         ],
         "y": [
          148.75999450683594,
          149.25999450683594
         ]
        },
        {
         "line": {
          "color": "red",
          "width": 2
         },
         "mode": "lines",
         "name": "Price",
         "showlegend": false,
         "type": "scatter",
         "x": [
          "2021-10-20T00:00:00",
          "2021-10-21T00:00:00"
         ],
         "y": [
          149.25999450683594,
          149.47999572753906
         ]
        },
        {
         "line": {
          "color": "red",
          "width": 2
         },
         "mode": "lines",
         "name": "Price",
         "showlegend": false,
         "type": "scatter",
         "x": [
          "2021-10-21T00:00:00",
          "2021-10-22T00:00:00"
         ],
         "y": [
          149.47999572753906,
          148.69000244140625
         ]
        },
        {
         "line": {
          "color": "red",
          "width": 2
         },
         "mode": "lines",
         "name": "Price",
         "showlegend": false,
         "type": "scatter",
         "x": [
          "2021-10-22T00:00:00",
          "2021-10-25T00:00:00"
         ],
         "y": [
          148.69000244140625,
          148.63999938964844
         ]
        },
        {
         "line": {
          "color": "red",
          "width": 2
         },
         "mode": "lines",
         "name": "Price",
         "showlegend": false,
         "type": "scatter",
         "x": [
          "2021-10-25T00:00:00",
          "2021-10-26T00:00:00"
         ],
         "y": [
          148.63999938964844,
          149.32000732421875
         ]
        },
        {
         "line": {
          "color": "green",
          "width": 2
         },
         "mode": "lines",
         "name": "Price",
         "showlegend": false,
         "type": "scatter",
         "x": [
          "2021-10-26T00:00:00",
          "2021-10-27T00:00:00"
         ],
         "y": [
          149.32000732421875,
          148.85000610351562
         ]
        },
        {
         "line": {
          "color": "red",
          "width": 2
         },
         "mode": "lines",
         "name": "Price",
         "showlegend": false,
         "type": "scatter",
         "x": [
          "2021-10-27T00:00:00",
          "2021-10-28T00:00:00"
         ],
         "y": [
          148.85000610351562,
          152.57000732421875
         ]
        },
        {
         "line": {
          "color": "green",
          "width": 2
         },
         "mode": "lines",
         "name": "Price",
         "showlegend": false,
         "type": "scatter",
         "x": [
          "2021-10-28T00:00:00",
          "2021-10-29T00:00:00"
         ],
         "y": [
          152.57000732421875,
          149.8000030517578
         ]
        },
        {
         "line": {
          "color": "green",
          "width": 2
         },
         "mode": "lines",
         "name": "Price",
         "showlegend": false,
         "type": "scatter",
         "x": [
          "2021-10-29T00:00:00",
          "2021-11-01T00:00:00"
         ],
         "y": [
          149.8000030517578,
          148.9600067138672
         ]
        },
        {
         "line": {
          "color": "green",
          "width": 2
         },
         "mode": "lines",
         "name": "Price",
         "showlegend": false,
         "type": "scatter",
         "x": [
          "2021-11-01T00:00:00",
          "2021-11-02T00:00:00"
         ],
         "y": [
          148.9600067138672,
          150.02000427246094
         ]
        },
        {
         "line": {
          "color": "green",
          "width": 2
         },
         "mode": "lines",
         "name": "Price",
         "showlegend": false,
         "type": "scatter",
         "x": [
          "2021-11-02T00:00:00",
          "2021-11-03T00:00:00"
         ],
         "y": [
          150.02000427246094,
          151.49000549316406
         ]
        },
        {
         "line": {
          "color": "green",
          "width": 2
         },
         "mode": "lines",
         "name": "Price",
         "showlegend": false,
         "type": "scatter",
         "x": [
          "2021-11-03T00:00:00",
          "2021-11-04T00:00:00"
         ],
         "y": [
          151.49000549316406,
          150.9600067138672
         ]
        },
        {
         "line": {
          "color": "green",
          "width": 2
         },
         "mode": "lines",
         "name": "Price",
         "showlegend": false,
         "type": "scatter",
         "x": [
          "2021-11-04T00:00:00",
          "2021-11-05T00:00:00"
         ],
         "y": [
          150.9600067138672,
          151.27999877929688
         ]
        },
        {
         "line": {
          "color": "green",
          "width": 2
         },
         "mode": "lines",
         "name": "Price",
         "showlegend": false,
         "type": "scatter",
         "x": [
          "2021-11-05T00:00:00",
          "2021-11-08T00:00:00"
         ],
         "y": [
          151.27999877929688,
          150.44000244140625
         ]
        },
        {
         "line": {
          "color": "green",
          "width": 2
         },
         "mode": "lines",
         "name": "Price",
         "showlegend": false,
         "type": "scatter",
         "x": [
          "2021-11-08T00:00:00",
          "2021-11-09T00:00:00"
         ],
         "y": [
          150.44000244140625,
          150.80999755859375
         ]
        },
        {
         "line": {
          "color": "green",
          "width": 2
         },
         "mode": "lines",
         "name": "Price",
         "showlegend": false,
         "type": "scatter",
         "x": [
          "2021-11-09T00:00:00",
          "2021-11-10T00:00:00"
         ],
         "y": [
          150.80999755859375,
          147.9199981689453
         ]
        },
        {
         "line": {
          "color": "green",
          "width": 2
         },
         "mode": "lines",
         "name": "Price",
         "showlegend": false,
         "type": "scatter",
         "x": [
          "2021-11-10T00:00:00",
          "2021-11-11T00:00:00"
         ],
         "y": [
          147.9199981689453,
          147.8699951171875
         ]
        },
        {
         "line": {
          "color": "green",
          "width": 2
         },
         "mode": "lines",
         "name": "Price",
         "showlegend": false,
         "type": "scatter",
         "x": [
          "2021-11-11T00:00:00",
          "2021-11-12T00:00:00"
         ],
         "y": [
          147.8699951171875,
          149.99000549316406
         ]
        },
        {
         "line": {
          "color": "green",
          "width": 2
         },
         "mode": "lines",
         "name": "Price",
         "showlegend": false,
         "type": "scatter",
         "x": [
          "2021-11-12T00:00:00",
          "2021-11-15T00:00:00"
         ],
         "y": [
          149.99000549316406,
          150
         ]
        },
        {
         "line": {
          "color": "green",
          "width": 2
         },
         "mode": "lines",
         "name": "Price",
         "showlegend": false,
         "type": "scatter",
         "x": [
          "2021-11-15T00:00:00",
          "2021-11-16T00:00:00"
         ],
         "y": [
          150,
          151
         ]
        },
        {
         "line": {
          "color": "green",
          "width": 2
         },
         "mode": "lines",
         "name": "Price",
         "showlegend": false,
         "type": "scatter",
         "x": [
          "2021-11-16T00:00:00",
          "2021-11-17T00:00:00"
         ],
         "y": [
          151,
          153.49000549316406
         ]
        },
        {
         "line": {
          "color": "green",
          "width": 2
         },
         "mode": "lines",
         "name": "Price",
         "showlegend": false,
         "type": "scatter",
         "x": [
          "2021-11-17T00:00:00",
          "2021-11-18T00:00:00"
         ],
         "y": [
          153.49000549316406,
          157.8699951171875
         ]
        },
        {
         "line": {
          "color": "green",
          "width": 2
         },
         "mode": "lines",
         "name": "Price",
         "showlegend": false,
         "type": "scatter",
         "x": [
          "2021-11-18T00:00:00",
          "2021-11-19T00:00:00"
         ],
         "y": [
          157.8699951171875,
          160.5500030517578
         ]
        },
        {
         "line": {
          "color": "green",
          "width": 2
         },
         "mode": "lines",
         "name": "Price",
         "showlegend": false,
         "type": "scatter",
         "x": [
          "2021-11-19T00:00:00",
          "2021-11-22T00:00:00"
         ],
         "y": [
          160.5500030517578,
          161.02000427246094
         ]
        },
        {
         "line": {
          "color": "green",
          "width": 2
         },
         "mode": "lines",
         "name": "Price",
         "showlegend": false,
         "type": "scatter",
         "x": [
          "2021-11-22T00:00:00",
          "2021-11-23T00:00:00"
         ],
         "y": [
          161.02000427246094,
          161.41000366210938
         ]
        },
        {
         "line": {
          "color": "green",
          "width": 2
         },
         "mode": "lines",
         "name": "Price",
         "showlegend": false,
         "type": "scatter",
         "x": [
          "2021-11-23T00:00:00",
          "2021-11-24T00:00:00"
         ],
         "y": [
          161.41000366210938,
          161.94000244140625
         ]
        },
        {
         "line": {
          "color": "green",
          "width": 2
         },
         "mode": "lines",
         "name": "Price",
         "showlegend": false,
         "type": "scatter",
         "x": [
          "2021-11-24T00:00:00",
          "2021-11-26T00:00:00"
         ],
         "y": [
          161.94000244140625,
          156.80999755859375
         ]
        },
        {
         "line": {
          "color": "green",
          "width": 2
         },
         "mode": "lines",
         "name": "Price",
         "showlegend": false,
         "type": "scatter",
         "x": [
          "2021-11-26T00:00:00",
          "2021-11-29T00:00:00"
         ],
         "y": [
          156.80999755859375,
          160.24000549316406
         ]
        },
        {
         "line": {
          "color": "green",
          "width": 2
         },
         "mode": "lines",
         "name": "Price",
         "showlegend": false,
         "type": "scatter",
         "x": [
          "2021-11-29T00:00:00",
          "2021-11-30T00:00:00"
         ],
         "y": [
          160.24000549316406,
          165.3000030517578
         ]
        },
        {
         "line": {
          "color": "green",
          "width": 2
         },
         "mode": "lines",
         "name": "Price",
         "showlegend": false,
         "type": "scatter",
         "x": [
          "2021-11-30T00:00:00",
          "2021-12-01T00:00:00"
         ],
         "y": [
          165.3000030517578,
          164.77000427246094
         ]
        },
        {
         "line": {
          "color": "green",
          "width": 2
         },
         "mode": "lines",
         "name": "Price",
         "showlegend": false,
         "type": "scatter",
         "x": [
          "2021-12-01T00:00:00",
          "2021-12-02T00:00:00"
         ],
         "y": [
          164.77000427246094,
          163.75999450683594
         ]
        },
        {
         "line": {
          "color": "green",
          "width": 2
         },
         "mode": "lines",
         "name": "Price",
         "showlegend": false,
         "type": "scatter",
         "x": [
          "2021-12-02T00:00:00",
          "2021-12-03T00:00:00"
         ],
         "y": [
          163.75999450683594,
          161.83999633789062
         ]
        },
        {
         "line": {
          "color": "green",
          "width": 2
         },
         "mode": "lines",
         "name": "Price",
         "showlegend": false,
         "type": "scatter",
         "x": [
          "2021-12-03T00:00:00",
          "2021-12-06T00:00:00"
         ],
         "y": [
          161.83999633789062,
          165.32000732421875
         ]
        },
        {
         "line": {
          "color": "green",
          "width": 2
         },
         "mode": "lines",
         "name": "Price",
         "showlegend": false,
         "type": "scatter",
         "x": [
          "2021-12-06T00:00:00",
          "2021-12-07T00:00:00"
         ],
         "y": [
          165.32000732421875,
          171.17999267578125
         ]
        },
        {
         "line": {
          "color": "green",
          "width": 2
         },
         "mode": "lines",
         "name": "Price",
         "showlegend": false,
         "type": "scatter",
         "x": [
          "2021-12-07T00:00:00",
          "2021-12-08T00:00:00"
         ],
         "y": [
          171.17999267578125,
          175.0800018310547
         ]
        },
        {
         "line": {
          "color": "green",
          "width": 2
         },
         "mode": "lines",
         "name": "Price",
         "showlegend": false,
         "type": "scatter",
         "x": [
          "2021-12-08T00:00:00",
          "2021-12-09T00:00:00"
         ],
         "y": [
          175.0800018310547,
          174.55999755859375
         ]
        },
        {
         "line": {
          "color": "green",
          "width": 2
         },
         "mode": "lines",
         "name": "Price",
         "showlegend": false,
         "type": "scatter",
         "x": [
          "2021-12-09T00:00:00",
          "2021-12-10T00:00:00"
         ],
         "y": [
          174.55999755859375,
          179.4499969482422
         ]
        },
        {
         "line": {
          "color": "green",
          "width": 2
         },
         "mode": "lines",
         "name": "Price",
         "showlegend": false,
         "type": "scatter",
         "x": [
          "2021-12-10T00:00:00",
          "2021-12-13T00:00:00"
         ],
         "y": [
          179.4499969482422,
          175.74000549316406
         ]
        },
        {
         "line": {
          "color": "green",
          "width": 2
         },
         "mode": "lines",
         "name": "Price",
         "showlegend": false,
         "type": "scatter",
         "x": [
          "2021-12-13T00:00:00",
          "2021-12-14T00:00:00"
         ],
         "y": [
          175.74000549316406,
          174.3300018310547
         ]
        },
        {
         "line": {
          "color": "green",
          "width": 2
         },
         "mode": "lines",
         "name": "Price",
         "showlegend": false,
         "type": "scatter",
         "x": [
          "2021-12-14T00:00:00",
          "2021-12-15T00:00:00"
         ],
         "y": [
          174.3300018310547,
          179.3000030517578
         ]
        },
        {
         "line": {
          "color": "green",
          "width": 2
         },
         "mode": "lines",
         "name": "Price",
         "showlegend": false,
         "type": "scatter",
         "x": [
          "2021-12-15T00:00:00",
          "2021-12-16T00:00:00"
         ],
         "y": [
          179.3000030517578,
          172.25999450683594
         ]
        },
        {
         "line": {
          "color": "green",
          "width": 2
         },
         "mode": "lines",
         "name": "Price",
         "showlegend": false,
         "type": "scatter",
         "x": [
          "2021-12-16T00:00:00",
          "2021-12-17T00:00:00"
         ],
         "y": [
          172.25999450683594,
          171.13999938964844
         ]
        },
        {
         "line": {
          "color": "green",
          "width": 2
         },
         "mode": "lines",
         "name": "Price",
         "showlegend": false,
         "type": "scatter",
         "x": [
          "2021-12-17T00:00:00",
          "2021-12-20T00:00:00"
         ],
         "y": [
          171.13999938964844,
          169.75
         ]
        },
        {
         "line": {
          "color": "green",
          "width": 2
         },
         "mode": "lines",
         "name": "Price",
         "showlegend": false,
         "type": "scatter",
         "x": [
          "2021-12-20T00:00:00",
          "2021-12-21T00:00:00"
         ],
         "y": [
          169.75,
          172.99000549316406
         ]
        },
        {
         "line": {
          "color": "green",
          "width": 2
         },
         "mode": "lines",
         "name": "Price",
         "showlegend": false,
         "type": "scatter",
         "x": [
          "2021-12-21T00:00:00",
          "2021-12-22T00:00:00"
         ],
         "y": [
          172.99000549316406,
          175.63999938964844
         ]
        },
        {
         "line": {
          "color": "green",
          "width": 2
         },
         "mode": "lines",
         "name": "Price",
         "showlegend": false,
         "type": "scatter",
         "x": [
          "2021-12-22T00:00:00",
          "2021-12-23T00:00:00"
         ],
         "y": [
          175.63999938964844,
          176.27999877929688
         ]
        },
        {
         "line": {
          "color": "green",
          "width": 2
         },
         "mode": "lines",
         "name": "Price",
         "showlegend": false,
         "type": "scatter",
         "x": [
          "2021-12-23T00:00:00",
          "2021-12-27T00:00:00"
         ],
         "y": [
          176.27999877929688,
          180.3300018310547
         ]
        },
        {
         "line": {
          "color": "green",
          "width": 2
         },
         "mode": "lines",
         "name": "Price",
         "showlegend": false,
         "type": "scatter",
         "x": [
          "2021-12-27T00:00:00",
          "2021-12-28T00:00:00"
         ],
         "y": [
          180.3300018310547,
          179.2899932861328
         ]
        },
        {
         "line": {
          "color": "green",
          "width": 2
         },
         "mode": "lines",
         "name": "Price",
         "showlegend": false,
         "type": "scatter",
         "x": [
          "2021-12-28T00:00:00",
          "2021-12-29T00:00:00"
         ],
         "y": [
          179.2899932861328,
          179.3800048828125
         ]
        },
        {
         "line": {
          "color": "green",
          "width": 2
         },
         "mode": "lines",
         "name": "Price",
         "showlegend": false,
         "type": "scatter",
         "x": [
          "2021-12-29T00:00:00",
          "2021-12-30T00:00:00"
         ],
         "y": [
          179.3800048828125,
          178.1999969482422
         ]
        },
        {
         "line": {
          "color": "green",
          "width": 2
         },
         "mode": "lines",
         "name": "Price",
         "showlegend": false,
         "type": "scatter",
         "x": [
          "2021-12-30T00:00:00",
          "2021-12-31T00:00:00"
         ],
         "y": [
          178.1999969482422,
          177.57000732421875
         ]
        },
        {
         "line": {
          "color": "green",
          "width": 2
         },
         "mode": "lines",
         "name": "Price",
         "showlegend": false,
         "type": "scatter",
         "x": [
          "2021-12-31T00:00:00",
          "2022-01-03T00:00:00"
         ],
         "y": [
          177.57000732421875,
          182.00999450683594
         ]
        },
        {
         "line": {
          "color": "green",
          "width": 2
         },
         "mode": "lines",
         "name": "Price",
         "showlegend": false,
         "type": "scatter",
         "x": [
          "2022-01-03T00:00:00",
          "2022-01-04T00:00:00"
         ],
         "y": [
          182.00999450683594,
          179.6999969482422
         ]
        },
        {
         "line": {
          "color": "green",
          "width": 2
         },
         "mode": "lines",
         "name": "Price",
         "showlegend": false,
         "type": "scatter",
         "x": [
          "2022-01-04T00:00:00",
          "2022-01-05T00:00:00"
         ],
         "y": [
          179.6999969482422,
          174.9199981689453
         ]
        },
        {
         "line": {
          "color": "green",
          "width": 2
         },
         "mode": "lines",
         "name": "Price",
         "showlegend": false,
         "type": "scatter",
         "x": [
          "2022-01-05T00:00:00",
          "2022-01-06T00:00:00"
         ],
         "y": [
          174.9199981689453,
          172
         ]
        },
        {
         "line": {
          "color": "green",
          "width": 2
         },
         "mode": "lines",
         "name": "Price",
         "showlegend": false,
         "type": "scatter",
         "x": [
          "2022-01-06T00:00:00",
          "2022-01-07T00:00:00"
         ],
         "y": [
          172,
          172.1699981689453
         ]
        },
        {
         "line": {
          "color": "green",
          "width": 2
         },
         "mode": "lines",
         "name": "Price",
         "showlegend": false,
         "type": "scatter",
         "x": [
          "2022-01-07T00:00:00",
          "2022-01-10T00:00:00"
         ],
         "y": [
          172.1699981689453,
          172.19000244140625
         ]
        },
        {
         "line": {
          "color": "green",
          "width": 2
         },
         "mode": "lines",
         "name": "Price",
         "showlegend": false,
         "type": "scatter",
         "x": [
          "2022-01-10T00:00:00",
          "2022-01-11T00:00:00"
         ],
         "y": [
          172.19000244140625,
          175.0800018310547
         ]
        },
        {
         "line": {
          "color": "green",
          "width": 2
         },
         "mode": "lines",
         "name": "Price",
         "showlegend": false,
         "type": "scatter",
         "x": [
          "2022-01-11T00:00:00",
          "2022-01-12T00:00:00"
         ],
         "y": [
          175.0800018310547,
          175.52999877929688
         ]
        },
        {
         "line": {
          "color": "green",
          "width": 2
         },
         "mode": "lines",
         "name": "Price",
         "showlegend": false,
         "type": "scatter",
         "x": [
          "2022-01-12T00:00:00",
          "2022-01-13T00:00:00"
         ],
         "y": [
          175.52999877929688,
          172.19000244140625
         ]
        },
        {
         "line": {
          "color": "green",
          "width": 2
         },
         "mode": "lines",
         "name": "Price",
         "showlegend": false,
         "type": "scatter",
         "x": [
          "2022-01-13T00:00:00",
          "2022-01-14T00:00:00"
         ],
         "y": [
          172.19000244140625,
          173.07000732421875
         ]
        },
        {
         "line": {
          "color": "green",
          "width": 2
         },
         "mode": "lines",
         "name": "Price",
         "showlegend": false,
         "type": "scatter",
         "x": [
          "2022-01-14T00:00:00",
          "2022-01-18T00:00:00"
         ],
         "y": [
          173.07000732421875,
          169.8000030517578
         ]
        },
        {
         "line": {
          "color": "green",
          "width": 2
         },
         "mode": "lines",
         "name": "Price",
         "showlegend": false,
         "type": "scatter",
         "x": [
          "2022-01-18T00:00:00",
          "2022-01-19T00:00:00"
         ],
         "y": [
          169.8000030517578,
          166.22999572753906
         ]
        },
        {
         "line": {
          "color": "green",
          "width": 2
         },
         "mode": "lines",
         "name": "Price",
         "showlegend": false,
         "type": "scatter",
         "x": [
          "2022-01-19T00:00:00",
          "2022-01-20T00:00:00"
         ],
         "y": [
          166.22999572753906,
          164.50999450683594
         ]
        },
        {
         "line": {
          "color": "red",
          "width": 2
         },
         "mode": "lines",
         "name": "Price",
         "showlegend": false,
         "type": "scatter",
         "x": [
          "2022-01-20T00:00:00",
          "2022-01-21T00:00:00"
         ],
         "y": [
          164.50999450683594,
          162.41000366210938
         ]
        },
        {
         "line": {
          "color": "red",
          "width": 2
         },
         "mode": "lines",
         "name": "Price",
         "showlegend": false,
         "type": "scatter",
         "x": [
          "2022-01-21T00:00:00",
          "2022-01-24T00:00:00"
         ],
         "y": [
          162.41000366210938,
          161.6199951171875
         ]
        },
        {
         "line": {
          "color": "red",
          "width": 2
         },
         "mode": "lines",
         "name": "Price",
         "showlegend": false,
         "type": "scatter",
         "x": [
          "2022-01-24T00:00:00",
          "2022-01-25T00:00:00"
         ],
         "y": [
          161.6199951171875,
          159.77999877929688
         ]
        },
        {
         "line": {
          "color": "red",
          "width": 2
         },
         "mode": "lines",
         "name": "Price",
         "showlegend": false,
         "type": "scatter",
         "x": [
          "2022-01-25T00:00:00",
          "2022-01-26T00:00:00"
         ],
         "y": [
          159.77999877929688,
          159.69000244140625
         ]
        },
        {
         "line": {
          "color": "red",
          "width": 2
         },
         "mode": "lines",
         "name": "Price",
         "showlegend": false,
         "type": "scatter",
         "x": [
          "2022-01-26T00:00:00",
          "2022-01-27T00:00:00"
         ],
         "y": [
          159.69000244140625,
          159.22000122070312
         ]
        },
        {
         "line": {
          "color": "red",
          "width": 2
         },
         "mode": "lines",
         "name": "Price",
         "showlegend": false,
         "type": "scatter",
         "x": [
          "2022-01-27T00:00:00",
          "2022-01-28T00:00:00"
         ],
         "y": [
          159.22000122070312,
          170.3300018310547
         ]
        },
        {
         "line": {
          "color": "red",
          "width": 2
         },
         "mode": "lines",
         "name": "Price",
         "showlegend": false,
         "type": "scatter",
         "x": [
          "2022-01-28T00:00:00",
          "2022-01-31T00:00:00"
         ],
         "y": [
          170.3300018310547,
          174.77999877929688
         ]
        },
        {
         "line": {
          "color": "green",
          "width": 2
         },
         "mode": "lines",
         "name": "Price",
         "showlegend": false,
         "type": "scatter",
         "x": [
          "2022-01-31T00:00:00",
          "2022-02-01T00:00:00"
         ],
         "y": [
          174.77999877929688,
          174.61000061035156
         ]
        },
        {
         "line": {
          "color": "green",
          "width": 2
         },
         "mode": "lines",
         "name": "Price",
         "showlegend": false,
         "type": "scatter",
         "x": [
          "2022-02-01T00:00:00",
          "2022-02-02T00:00:00"
         ],
         "y": [
          174.61000061035156,
          175.83999633789062
         ]
        },
        {
         "line": {
          "color": "green",
          "width": 2
         },
         "mode": "lines",
         "name": "Price",
         "showlegend": false,
         "type": "scatter",
         "x": [
          "2022-02-02T00:00:00",
          "2022-02-03T00:00:00"
         ],
         "y": [
          175.83999633789062,
          172.89999389648438
         ]
        },
        {
         "line": {
          "color": "red",
          "width": 2
         },
         "mode": "lines",
         "name": "Price",
         "showlegend": false,
         "type": "scatter",
         "x": [
          "2022-02-03T00:00:00",
          "2022-02-04T00:00:00"
         ],
         "y": [
          172.89999389648438,
          172.38999938964844
         ]
        },
        {
         "line": {
          "color": "red",
          "width": 2
         },
         "mode": "lines",
         "name": "Price",
         "showlegend": false,
         "type": "scatter",
         "x": [
          "2022-02-04T00:00:00",
          "2022-02-07T00:00:00"
         ],
         "y": [
          172.38999938964844,
          171.66000366210938
         ]
        },
        {
         "line": {
          "color": "red",
          "width": 2
         },
         "mode": "lines",
         "name": "Price",
         "showlegend": false,
         "type": "scatter",
         "x": [
          "2022-02-07T00:00:00",
          "2022-02-08T00:00:00"
         ],
         "y": [
          171.66000366210938,
          174.8300018310547
         ]
        },
        {
         "line": {
          "color": "red",
          "width": 2
         },
         "mode": "lines",
         "name": "Price",
         "showlegend": false,
         "type": "scatter",
         "x": [
          "2022-02-08T00:00:00",
          "2022-02-09T00:00:00"
         ],
         "y": [
          174.8300018310547,
          176.27999877929688
         ]
        },
        {
         "line": {
          "color": "red",
          "width": 2
         },
         "mode": "lines",
         "name": "Price",
         "showlegend": false,
         "type": "scatter",
         "x": [
          "2022-02-09T00:00:00",
          "2022-02-10T00:00:00"
         ],
         "y": [
          176.27999877929688,
          172.1199951171875
         ]
        },
        {
         "line": {
          "color": "red",
          "width": 2
         },
         "mode": "lines",
         "name": "Price",
         "showlegend": false,
         "type": "scatter",
         "x": [
          "2022-02-10T00:00:00",
          "2022-02-11T00:00:00"
         ],
         "y": [
          172.1199951171875,
          168.63999938964844
         ]
        },
        {
         "line": {
          "color": "red",
          "width": 2
         },
         "mode": "lines",
         "name": "Price",
         "showlegend": false,
         "type": "scatter",
         "x": [
          "2022-02-11T00:00:00",
          "2022-02-14T00:00:00"
         ],
         "y": [
          168.63999938964844,
          168.8800048828125
         ]
        },
        {
         "line": {
          "color": "red",
          "width": 2
         },
         "mode": "lines",
         "name": "Price",
         "showlegend": false,
         "type": "scatter",
         "x": [
          "2022-02-14T00:00:00",
          "2022-02-15T00:00:00"
         ],
         "y": [
          168.8800048828125,
          172.7899932861328
         ]
        },
        {
         "line": {
          "color": "red",
          "width": 2
         },
         "mode": "lines",
         "name": "Price",
         "showlegend": false,
         "type": "scatter",
         "x": [
          "2022-02-15T00:00:00",
          "2022-02-16T00:00:00"
         ],
         "y": [
          172.7899932861328,
          172.5500030517578
         ]
        },
        {
         "line": {
          "color": "red",
          "width": 2
         },
         "mode": "lines",
         "name": "Price",
         "showlegend": false,
         "type": "scatter",
         "x": [
          "2022-02-16T00:00:00",
          "2022-02-17T00:00:00"
         ],
         "y": [
          172.5500030517578,
          168.8800048828125
         ]
        },
        {
         "line": {
          "color": "red",
          "width": 2
         },
         "mode": "lines",
         "name": "Price",
         "showlegend": false,
         "type": "scatter",
         "x": [
          "2022-02-17T00:00:00",
          "2022-02-18T00:00:00"
         ],
         "y": [
          168.8800048828125,
          167.3000030517578
         ]
        },
        {
         "line": {
          "color": "red",
          "width": 2
         },
         "mode": "lines",
         "name": "Price",
         "showlegend": false,
         "type": "scatter",
         "x": [
          "2022-02-18T00:00:00",
          "2022-02-22T00:00:00"
         ],
         "y": [
          167.3000030517578,
          164.32000732421875
         ]
        },
        {
         "line": {
          "color": "red",
          "width": 2
         },
         "mode": "lines",
         "name": "Price",
         "showlegend": false,
         "type": "scatter",
         "x": [
          "2022-02-22T00:00:00",
          "2022-02-23T00:00:00"
         ],
         "y": [
          164.32000732421875,
          160.07000732421875
         ]
        },
        {
         "line": {
          "color": "red",
          "width": 2
         },
         "mode": "lines",
         "name": "Price",
         "showlegend": false,
         "type": "scatter",
         "x": [
          "2022-02-23T00:00:00",
          "2022-02-24T00:00:00"
         ],
         "y": [
          160.07000732421875,
          162.74000549316406
         ]
        },
        {
         "line": {
          "color": "red",
          "width": 2
         },
         "mode": "lines",
         "name": "Price",
         "showlegend": false,
         "type": "scatter",
         "x": [
          "2022-02-24T00:00:00",
          "2022-02-25T00:00:00"
         ],
         "y": [
          162.74000549316406,
          164.85000610351562
         ]
        },
        {
         "line": {
          "color": "red",
          "width": 2
         },
         "mode": "lines",
         "name": "Price",
         "showlegend": false,
         "type": "scatter",
         "x": [
          "2022-02-25T00:00:00",
          "2022-02-28T00:00:00"
         ],
         "y": [
          164.85000610351562,
          165.1199951171875
         ]
        },
        {
         "line": {
          "color": "red",
          "width": 2
         },
         "mode": "lines",
         "name": "Price",
         "showlegend": false,
         "type": "scatter",
         "x": [
          "2022-02-28T00:00:00",
          "2022-03-01T00:00:00"
         ],
         "y": [
          165.1199951171875,
          163.1999969482422
         ]
        },
        {
         "line": {
          "color": "red",
          "width": 2
         },
         "mode": "lines",
         "name": "Price",
         "showlegend": false,
         "type": "scatter",
         "x": [
          "2022-03-01T00:00:00",
          "2022-03-02T00:00:00"
         ],
         "y": [
          163.1999969482422,
          166.55999755859375
         ]
        },
        {
         "line": {
          "color": "red",
          "width": 2
         },
         "mode": "lines",
         "name": "Price",
         "showlegend": false,
         "type": "scatter",
         "x": [
          "2022-03-02T00:00:00",
          "2022-03-03T00:00:00"
         ],
         "y": [
          166.55999755859375,
          166.22999572753906
         ]
        },
        {
         "line": {
          "color": "red",
          "width": 2
         },
         "mode": "lines",
         "name": "Price",
         "showlegend": false,
         "type": "scatter",
         "x": [
          "2022-03-03T00:00:00",
          "2022-03-04T00:00:00"
         ],
         "y": [
          166.22999572753906,
          163.1699981689453
         ]
        },
        {
         "line": {
          "color": "red",
          "width": 2
         },
         "mode": "lines",
         "name": "Price",
         "showlegend": false,
         "type": "scatter",
         "x": [
          "2022-03-04T00:00:00",
          "2022-03-07T00:00:00"
         ],
         "y": [
          163.1699981689453,
          159.3000030517578
         ]
        },
        {
         "line": {
          "color": "red",
          "width": 2
         },
         "mode": "lines",
         "name": "Price",
         "showlegend": false,
         "type": "scatter",
         "x": [
          "2022-03-07T00:00:00",
          "2022-03-08T00:00:00"
         ],
         "y": [
          159.3000030517578,
          157.44000244140625
         ]
        },
        {
         "line": {
          "color": "red",
          "width": 2
         },
         "mode": "lines",
         "name": "Price",
         "showlegend": false,
         "type": "scatter",
         "x": [
          "2022-03-08T00:00:00",
          "2022-03-09T00:00:00"
         ],
         "y": [
          157.44000244140625,
          162.9499969482422
         ]
        },
        {
         "line": {
          "color": "green",
          "width": 2
         },
         "mode": "lines",
         "name": "Price",
         "showlegend": false,
         "type": "scatter",
         "x": [
          "2022-03-09T00:00:00",
          "2022-03-10T00:00:00"
         ],
         "y": [
          162.9499969482422,
          158.52000427246094
         ]
        },
        {
         "line": {
          "color": "red",
          "width": 2
         },
         "mode": "lines",
         "name": "Price",
         "showlegend": false,
         "type": "scatter",
         "x": [
          "2022-03-10T00:00:00",
          "2022-03-11T00:00:00"
         ],
         "y": [
          158.52000427246094,
          154.72999572753906
         ]
        },
        {
         "line": {
          "color": "red",
          "width": 2
         },
         "mode": "lines",
         "name": "Price",
         "showlegend": false,
         "type": "scatter",
         "x": [
          "2022-03-11T00:00:00",
          "2022-03-14T00:00:00"
         ],
         "y": [
          154.72999572753906,
          150.6199951171875
         ]
        },
        {
         "line": {
          "color": "red",
          "width": 2
         },
         "mode": "lines",
         "name": "Price",
         "showlegend": false,
         "type": "scatter",
         "x": [
          "2022-03-14T00:00:00",
          "2022-03-15T00:00:00"
         ],
         "y": [
          150.6199951171875,
          155.08999633789062
         ]
        },
        {
         "line": {
          "color": "red",
          "width": 2
         },
         "mode": "lines",
         "name": "Price",
         "showlegend": false,
         "type": "scatter",
         "x": [
          "2022-03-15T00:00:00",
          "2022-03-16T00:00:00"
         ],
         "y": [
          155.08999633789062,
          159.58999633789062
         ]
        },
        {
         "line": {
          "color": "red",
          "width": 2
         },
         "mode": "lines",
         "name": "Price",
         "showlegend": false,
         "type": "scatter",
         "x": [
          "2022-03-16T00:00:00",
          "2022-03-17T00:00:00"
         ],
         "y": [
          159.58999633789062,
          160.6199951171875
         ]
        },
        {
         "line": {
          "color": "red",
          "width": 2
         },
         "mode": "lines",
         "name": "Price",
         "showlegend": false,
         "type": "scatter",
         "x": [
          "2022-03-17T00:00:00",
          "2022-03-18T00:00:00"
         ],
         "y": [
          160.6199951171875,
          163.97999572753906
         ]
        },
        {
         "line": {
          "color": "red",
          "width": 2
         },
         "mode": "lines",
         "name": "Price",
         "showlegend": false,
         "type": "scatter",
         "x": [
          "2022-03-18T00:00:00",
          "2022-03-21T00:00:00"
         ],
         "y": [
          163.97999572753906,
          165.3800048828125
         ]
        },
        {
         "line": {
          "color": "red",
          "width": 2
         },
         "mode": "lines",
         "name": "Price",
         "showlegend": false,
         "type": "scatter",
         "x": [
          "2022-03-21T00:00:00",
          "2022-03-22T00:00:00"
         ],
         "y": [
          165.3800048828125,
          168.82000732421875
         ]
        },
        {
         "line": {
          "color": "red",
          "width": 2
         },
         "mode": "lines",
         "name": "Price",
         "showlegend": false,
         "type": "scatter",
         "x": [
          "2022-03-22T00:00:00",
          "2022-03-23T00:00:00"
         ],
         "y": [
          168.82000732421875,
          170.2100067138672
         ]
        },
        {
         "line": {
          "color": "red",
          "width": 2
         },
         "mode": "lines",
         "name": "Price",
         "showlegend": false,
         "type": "scatter",
         "x": [
          "2022-03-23T00:00:00",
          "2022-03-24T00:00:00"
         ],
         "y": [
          170.2100067138672,
          174.07000732421875
         ]
        },
        {
         "line": {
          "color": "red",
          "width": 2
         },
         "mode": "lines",
         "name": "Price",
         "showlegend": false,
         "type": "scatter",
         "x": [
          "2022-03-24T00:00:00",
          "2022-03-25T00:00:00"
         ],
         "y": [
          174.07000732421875,
          174.72000122070312
         ]
        },
        {
         "line": {
          "color": "green",
          "width": 2
         },
         "mode": "lines",
         "name": "Price",
         "showlegend": false,
         "type": "scatter",
         "x": [
          "2022-03-25T00:00:00",
          "2022-03-28T00:00:00"
         ],
         "y": [
          174.72000122070312,
          175.60000610351562
         ]
        },
        {
         "line": {
          "color": "green",
          "width": 2
         },
         "mode": "lines",
         "name": "Price",
         "showlegend": false,
         "type": "scatter",
         "x": [
          "2022-03-28T00:00:00",
          "2022-03-29T00:00:00"
         ],
         "y": [
          175.60000610351562,
          178.9600067138672
         ]
        },
        {
         "line": {
          "color": "green",
          "width": 2
         },
         "mode": "lines",
         "name": "Price",
         "showlegend": false,
         "type": "scatter",
         "x": [
          "2022-03-29T00:00:00",
          "2022-03-30T00:00:00"
         ],
         "y": [
          178.9600067138672,
          177.77000427246094
         ]
        },
        {
         "line": {
          "color": "green",
          "width": 2
         },
         "mode": "lines",
         "name": "Price",
         "showlegend": false,
         "type": "scatter",
         "x": [
          "2022-03-30T00:00:00",
          "2022-03-31T00:00:00"
         ],
         "y": [
          177.77000427246094,
          174.61000061035156
         ]
        },
        {
         "line": {
          "color": "green",
          "width": 2
         },
         "mode": "lines",
         "name": "Price",
         "showlegend": false,
         "type": "scatter",
         "x": [
          "2022-03-31T00:00:00",
          "2022-04-01T00:00:00"
         ],
         "y": [
          174.61000061035156,
          174.30999755859375
         ]
        },
        {
         "line": {
          "color": "green",
          "width": 2
         },
         "mode": "lines",
         "name": "Price",
         "showlegend": false,
         "type": "scatter",
         "x": [
          "2022-04-01T00:00:00",
          "2022-04-04T00:00:00"
         ],
         "y": [
          174.30999755859375,
          178.44000244140625
         ]
        },
        {
         "line": {
          "color": "green",
          "width": 2
         },
         "mode": "lines",
         "name": "Price",
         "showlegend": false,
         "type": "scatter",
         "x": [
          "2022-04-04T00:00:00",
          "2022-04-05T00:00:00"
         ],
         "y": [
          178.44000244140625,
          175.05999755859375
         ]
        },
        {
         "line": {
          "color": "green",
          "width": 2
         },
         "mode": "lines",
         "name": "Price",
         "showlegend": false,
         "type": "scatter",
         "x": [
          "2022-04-05T00:00:00",
          "2022-04-06T00:00:00"
         ],
         "y": [
          175.05999755859375,
          171.8300018310547
         ]
        },
        {
         "line": {
          "color": "green",
          "width": 2
         },
         "mode": "lines",
         "name": "Price",
         "showlegend": false,
         "type": "scatter",
         "x": [
          "2022-04-06T00:00:00",
          "2022-04-07T00:00:00"
         ],
         "y": [
          171.8300018310547,
          172.13999938964844
         ]
        },
        {
         "line": {
          "color": "green",
          "width": 2
         },
         "mode": "lines",
         "name": "Price",
         "showlegend": false,
         "type": "scatter",
         "x": [
          "2022-04-07T00:00:00",
          "2022-04-08T00:00:00"
         ],
         "y": [
          172.13999938964844,
          170.08999633789062
         ]
        },
        {
         "line": {
          "color": "green",
          "width": 2
         },
         "mode": "lines",
         "name": "Price",
         "showlegend": false,
         "type": "scatter",
         "x": [
          "2022-04-08T00:00:00",
          "2022-04-11T00:00:00"
         ],
         "y": [
          170.08999633789062,
          165.75
         ]
        },
        {
         "line": {
          "color": "green",
          "width": 2
         },
         "mode": "lines",
         "name": "Price",
         "showlegend": false,
         "type": "scatter",
         "x": [
          "2022-04-11T00:00:00",
          "2022-04-12T00:00:00"
         ],
         "y": [
          165.75,
          167.66000366210938
         ]
        },
        {
         "line": {
          "color": "green",
          "width": 2
         },
         "mode": "lines",
         "name": "Price",
         "showlegend": false,
         "type": "scatter",
         "x": [
          "2022-04-12T00:00:00",
          "2022-04-13T00:00:00"
         ],
         "y": [
          167.66000366210938,
          170.39999389648438
         ]
        },
        {
         "line": {
          "color": "green",
          "width": 2
         },
         "mode": "lines",
         "name": "Price",
         "showlegend": false,
         "type": "scatter",
         "x": [
          "2022-04-13T00:00:00",
          "2022-04-14T00:00:00"
         ],
         "y": [
          170.39999389648438,
          165.2899932861328
         ]
        },
        {
         "line": {
          "color": "red",
          "width": 2
         },
         "mode": "lines",
         "name": "Price",
         "showlegend": false,
         "type": "scatter",
         "x": [
          "2022-04-14T00:00:00",
          "2022-04-18T00:00:00"
         ],
         "y": [
          165.2899932861328,
          165.07000732421875
         ]
        },
        {
         "line": {
          "color": "green",
          "width": 2
         },
         "mode": "lines",
         "name": "Price",
         "showlegend": false,
         "type": "scatter",
         "x": [
          "2022-04-18T00:00:00",
          "2022-04-19T00:00:00"
         ],
         "y": [
          165.07000732421875,
          167.39999389648438
         ]
        },
        {
         "line": {
          "color": "green",
          "width": 2
         },
         "mode": "lines",
         "name": "Price",
         "showlegend": false,
         "type": "scatter",
         "x": [
          "2022-04-19T00:00:00",
          "2022-04-20T00:00:00"
         ],
         "y": [
          167.39999389648438,
          167.22999572753906
         ]
        },
        {
         "line": {
          "color": "green",
          "width": 2
         },
         "mode": "lines",
         "name": "Price",
         "showlegend": false,
         "type": "scatter",
         "x": [
          "2022-04-20T00:00:00",
          "2022-04-21T00:00:00"
         ],
         "y": [
          167.22999572753906,
          166.4199981689453
         ]
        },
        {
         "line": {
          "color": "green",
          "width": 2
         },
         "mode": "lines",
         "name": "Price",
         "showlegend": false,
         "type": "scatter",
         "x": [
          "2022-04-21T00:00:00",
          "2022-04-22T00:00:00"
         ],
         "y": [
          166.4199981689453,
          161.7899932861328
         ]
        },
        {
         "line": {
          "color": "green",
          "width": 2
         },
         "mode": "lines",
         "name": "Price",
         "showlegend": false,
         "type": "scatter",
         "x": [
          "2022-04-22T00:00:00",
          "2022-04-25T00:00:00"
         ],
         "y": [
          161.7899932861328,
          162.8800048828125
         ]
        },
        {
         "line": {
          "color": "green",
          "width": 2
         },
         "mode": "lines",
         "name": "Price",
         "showlegend": false,
         "type": "scatter",
         "x": [
          "2022-04-25T00:00:00",
          "2022-04-26T00:00:00"
         ],
         "y": [
          162.8800048828125,
          156.8000030517578
         ]
        },
        {
         "line": {
          "color": "green",
          "width": 2
         },
         "mode": "lines",
         "name": "Price",
         "showlegend": false,
         "type": "scatter",
         "x": [
          "2022-04-26T00:00:00",
          "2022-04-27T00:00:00"
         ],
         "y": [
          156.8000030517578,
          156.57000732421875
         ]
        },
        {
         "line": {
          "color": "green",
          "width": 2
         },
         "mode": "lines",
         "name": "Price",
         "showlegend": false,
         "type": "scatter",
         "x": [
          "2022-04-27T00:00:00",
          "2022-04-28T00:00:00"
         ],
         "y": [
          156.57000732421875,
          163.63999938964844
         ]
        },
        {
         "line": {
          "color": "green",
          "width": 2
         },
         "mode": "lines",
         "name": "Price",
         "showlegend": false,
         "type": "scatter",
         "x": [
          "2022-04-28T00:00:00",
          "2022-04-29T00:00:00"
         ],
         "y": [
          163.63999938964844,
          157.64999389648438
         ]
        },
        {
         "line": {
          "color": "red",
          "width": 2
         },
         "mode": "lines",
         "name": "Price",
         "showlegend": false,
         "type": "scatter",
         "x": [
          "2022-04-29T00:00:00",
          "2022-05-02T00:00:00"
         ],
         "y": [
          157.64999389648438,
          157.9600067138672
         ]
        },
        {
         "line": {
          "color": "red",
          "width": 2
         },
         "mode": "lines",
         "name": "Price",
         "showlegend": false,
         "type": "scatter",
         "x": [
          "2022-05-02T00:00:00",
          "2022-05-03T00:00:00"
         ],
         "y": [
          157.9600067138672,
          159.47999572753906
         ]
        },
        {
         "line": {
          "color": "red",
          "width": 2
         },
         "mode": "lines",
         "name": "Price",
         "showlegend": false,
         "type": "scatter",
         "x": [
          "2022-05-03T00:00:00",
          "2022-05-04T00:00:00"
         ],
         "y": [
          159.47999572753906,
          166.02000427246094
         ]
        },
        {
         "line": {
          "color": "red",
          "width": 2
         },
         "mode": "lines",
         "name": "Price",
         "showlegend": false,
         "type": "scatter",
         "x": [
          "2022-05-04T00:00:00",
          "2022-05-05T00:00:00"
         ],
         "y": [
          166.02000427246094,
          156.77000427246094
         ]
        },
        {
         "line": {
          "color": "red",
          "width": 2
         },
         "mode": "lines",
         "name": "Price",
         "showlegend": false,
         "type": "scatter",
         "x": [
          "2022-05-05T00:00:00",
          "2022-05-06T00:00:00"
         ],
         "y": [
          156.77000427246094,
          157.27999877929688
         ]
        },
        {
         "line": {
          "color": "red",
          "width": 2
         },
         "mode": "lines",
         "name": "Price",
         "showlegend": false,
         "type": "scatter",
         "x": [
          "2022-05-06T00:00:00",
          "2022-05-09T00:00:00"
         ],
         "y": [
          157.27999877929688,
          152.05999755859375
         ]
        },
        {
         "line": {
          "color": "red",
          "width": 2
         },
         "mode": "lines",
         "name": "Price",
         "showlegend": false,
         "type": "scatter",
         "x": [
          "2022-05-09T00:00:00",
          "2022-05-10T00:00:00"
         ],
         "y": [
          152.05999755859375,
          154.50999450683594
         ]
        },
        {
         "line": {
          "color": "red",
          "width": 2
         },
         "mode": "lines",
         "name": "Price",
         "showlegend": false,
         "type": "scatter",
         "x": [
          "2022-05-10T00:00:00",
          "2022-05-11T00:00:00"
         ],
         "y": [
          154.50999450683594,
          146.5
         ]
        },
        {
         "line": {
          "color": "red",
          "width": 2
         },
         "mode": "lines",
         "name": "Price",
         "showlegend": false,
         "type": "scatter",
         "x": [
          "2022-05-11T00:00:00",
          "2022-05-12T00:00:00"
         ],
         "y": [
          146.5,
          142.55999755859375
         ]
        },
        {
         "line": {
          "color": "red",
          "width": 2
         },
         "mode": "lines",
         "name": "Price",
         "showlegend": false,
         "type": "scatter",
         "x": [
          "2022-05-12T00:00:00",
          "2022-05-13T00:00:00"
         ],
         "y": [
          142.55999755859375,
          147.11000061035156
         ]
        },
        {
         "line": {
          "color": "red",
          "width": 2
         },
         "mode": "lines",
         "name": "Price",
         "showlegend": false,
         "type": "scatter",
         "x": [
          "2022-05-13T00:00:00",
          "2022-05-16T00:00:00"
         ],
         "y": [
          147.11000061035156,
          145.5399932861328
         ]
        },
        {
         "line": {
          "color": "red",
          "width": 2
         },
         "mode": "lines",
         "name": "Price",
         "showlegend": false,
         "type": "scatter",
         "x": [
          "2022-05-16T00:00:00",
          "2022-05-17T00:00:00"
         ],
         "y": [
          145.5399932861328,
          149.24000549316406
         ]
        },
        {
         "line": {
          "color": "red",
          "width": 2
         },
         "mode": "lines",
         "name": "Price",
         "showlegend": false,
         "type": "scatter",
         "x": [
          "2022-05-17T00:00:00",
          "2022-05-18T00:00:00"
         ],
         "y": [
          149.24000549316406,
          140.82000732421875
         ]
        },
        {
         "line": {
          "color": "red",
          "width": 2
         },
         "mode": "lines",
         "name": "Price",
         "showlegend": false,
         "type": "scatter",
         "x": [
          "2022-05-18T00:00:00",
          "2022-05-19T00:00:00"
         ],
         "y": [
          140.82000732421875,
          137.35000610351562
         ]
        },
        {
         "line": {
          "color": "red",
          "width": 2
         },
         "mode": "lines",
         "name": "Price",
         "showlegend": false,
         "type": "scatter",
         "x": [
          "2022-05-19T00:00:00",
          "2022-05-20T00:00:00"
         ],
         "y": [
          137.35000610351562,
          137.58999633789062
         ]
        },
        {
         "line": {
          "color": "red",
          "width": 2
         },
         "mode": "lines",
         "name": "Price",
         "showlegend": false,
         "type": "scatter",
         "x": [
          "2022-05-20T00:00:00",
          "2022-05-23T00:00:00"
         ],
         "y": [
          137.58999633789062,
          143.11000061035156
         ]
        },
        {
         "line": {
          "color": "red",
          "width": 2
         },
         "mode": "lines",
         "name": "Price",
         "showlegend": false,
         "type": "scatter",
         "x": [
          "2022-05-23T00:00:00",
          "2022-05-24T00:00:00"
         ],
         "y": [
          143.11000061035156,
          140.36000061035156
         ]
        },
        {
         "line": {
          "color": "red",
          "width": 2
         },
         "mode": "lines",
         "name": "Price",
         "showlegend": false,
         "type": "scatter",
         "x": [
          "2022-05-24T00:00:00",
          "2022-05-25T00:00:00"
         ],
         "y": [
          140.36000061035156,
          140.52000427246094
         ]
        },
        {
         "line": {
          "color": "red",
          "width": 2
         },
         "mode": "lines",
         "name": "Price",
         "showlegend": false,
         "type": "scatter",
         "x": [
          "2022-05-25T00:00:00",
          "2022-05-26T00:00:00"
         ],
         "y": [
          140.52000427246094,
          143.77999877929688
         ]
        },
        {
         "line": {
          "color": "red",
          "width": 2
         },
         "mode": "lines",
         "name": "Price",
         "showlegend": false,
         "type": "scatter",
         "x": [
          "2022-05-26T00:00:00",
          "2022-05-27T00:00:00"
         ],
         "y": [
          143.77999877929688,
          149.63999938964844
         ]
        },
        {
         "line": {
          "color": "red",
          "width": 2
         },
         "mode": "lines",
         "name": "Price",
         "showlegend": false,
         "type": "scatter",
         "x": [
          "2022-05-27T00:00:00",
          "2022-05-31T00:00:00"
         ],
         "y": [
          149.63999938964844,
          148.83999633789062
         ]
        },
        {
         "line": {
          "color": "red",
          "width": 2
         },
         "mode": "lines",
         "name": "Price",
         "showlegend": false,
         "type": "scatter",
         "x": [
          "2022-05-31T00:00:00",
          "2022-06-01T00:00:00"
         ],
         "y": [
          148.83999633789062,
          148.7100067138672
         ]
        },
        {
         "line": {
          "color": "red",
          "width": 2
         },
         "mode": "lines",
         "name": "Price",
         "showlegend": false,
         "type": "scatter",
         "x": [
          "2022-06-01T00:00:00",
          "2022-06-02T00:00:00"
         ],
         "y": [
          148.7100067138672,
          151.2100067138672
         ]
        },
        {
         "line": {
          "color": "red",
          "width": 2
         },
         "mode": "lines",
         "name": "Price",
         "showlegend": false,
         "type": "scatter",
         "x": [
          "2022-06-02T00:00:00",
          "2022-06-03T00:00:00"
         ],
         "y": [
          151.2100067138672,
          145.3800048828125
         ]
        },
        {
         "line": {
          "color": "red",
          "width": 2
         },
         "mode": "lines",
         "name": "Price",
         "showlegend": false,
         "type": "scatter",
         "x": [
          "2022-06-03T00:00:00",
          "2022-06-06T00:00:00"
         ],
         "y": [
          145.3800048828125,
          146.13999938964844
         ]
        },
        {
         "line": {
          "color": "red",
          "width": 2
         },
         "mode": "lines",
         "name": "Price",
         "showlegend": false,
         "type": "scatter",
         "x": [
          "2022-06-06T00:00:00",
          "2022-06-07T00:00:00"
         ],
         "y": [
          146.13999938964844,
          148.7100067138672
         ]
        },
        {
         "line": {
          "color": "red",
          "width": 2
         },
         "mode": "lines",
         "name": "Price",
         "showlegend": false,
         "type": "scatter",
         "x": [
          "2022-06-07T00:00:00",
          "2022-06-08T00:00:00"
         ],
         "y": [
          148.7100067138672,
          147.9600067138672
         ]
        },
        {
         "line": {
          "color": "red",
          "width": 2
         },
         "mode": "lines",
         "name": "Price",
         "showlegend": false,
         "type": "scatter",
         "x": [
          "2022-06-08T00:00:00",
          "2022-06-09T00:00:00"
         ],
         "y": [
          147.9600067138672,
          142.63999938964844
         ]
        },
        {
         "line": {
          "color": "red",
          "width": 2
         },
         "mode": "lines",
         "name": "Price",
         "showlegend": false,
         "type": "scatter",
         "x": [
          "2022-06-09T00:00:00",
          "2022-06-10T00:00:00"
         ],
         "y": [
          142.63999938964844,
          137.1300048828125
         ]
        },
        {
         "line": {
          "color": "red",
          "width": 2
         },
         "mode": "lines",
         "name": "Price",
         "showlegend": false,
         "type": "scatter",
         "x": [
          "2022-06-10T00:00:00",
          "2022-06-13T00:00:00"
         ],
         "y": [
          137.1300048828125,
          131.8800048828125
         ]
        },
        {
         "line": {
          "color": "red",
          "width": 2
         },
         "mode": "lines",
         "name": "Price",
         "showlegend": false,
         "type": "scatter",
         "x": [
          "2022-06-13T00:00:00",
          "2022-06-14T00:00:00"
         ],
         "y": [
          131.8800048828125,
          132.75999450683594
         ]
        },
        {
         "line": {
          "color": "red",
          "width": 2
         },
         "mode": "lines",
         "name": "Price",
         "showlegend": false,
         "type": "scatter",
         "x": [
          "2022-06-14T00:00:00",
          "2022-06-15T00:00:00"
         ],
         "y": [
          132.75999450683594,
          135.42999267578125
         ]
        },
        {
         "line": {
          "color": "red",
          "width": 2
         },
         "mode": "lines",
         "name": "Price",
         "showlegend": false,
         "type": "scatter",
         "x": [
          "2022-06-15T00:00:00",
          "2022-06-16T00:00:00"
         ],
         "y": [
          135.42999267578125,
          130.05999755859375
         ]
        },
        {
         "line": {
          "color": "red",
          "width": 2
         },
         "mode": "lines",
         "name": "Price",
         "showlegend": false,
         "type": "scatter",
         "x": [
          "2022-06-16T00:00:00",
          "2022-06-17T00:00:00"
         ],
         "y": [
          130.05999755859375,
          131.55999755859375
         ]
        },
        {
         "line": {
          "color": "red",
          "width": 2
         },
         "mode": "lines",
         "name": "Price",
         "showlegend": false,
         "type": "scatter",
         "x": [
          "2022-06-17T00:00:00",
          "2022-06-21T00:00:00"
         ],
         "y": [
          131.55999755859375,
          135.8699951171875
         ]
        },
        {
         "line": {
          "color": "red",
          "width": 2
         },
         "mode": "lines",
         "name": "Price",
         "showlegend": false,
         "type": "scatter",
         "x": [
          "2022-06-21T00:00:00",
          "2022-06-22T00:00:00"
         ],
         "y": [
          135.8699951171875,
          135.35000610351562
         ]
        },
        {
         "line": {
          "color": "red",
          "width": 2
         },
         "mode": "lines",
         "name": "Price",
         "showlegend": false,
         "type": "scatter",
         "x": [
          "2022-06-22T00:00:00",
          "2022-06-23T00:00:00"
         ],
         "y": [
          135.35000610351562,
          138.27000427246094
         ]
        },
        {
         "line": {
          "color": "red",
          "width": 2
         },
         "mode": "lines",
         "name": "Price",
         "showlegend": false,
         "type": "scatter",
         "x": [
          "2022-06-23T00:00:00",
          "2022-06-24T00:00:00"
         ],
         "y": [
          138.27000427246094,
          141.66000366210938
         ]
        },
        {
         "line": {
          "color": "red",
          "width": 2
         },
         "mode": "lines",
         "name": "Price",
         "showlegend": false,
         "type": "scatter",
         "x": [
          "2022-06-24T00:00:00",
          "2022-06-27T00:00:00"
         ],
         "y": [
          141.66000366210938,
          141.66000366210938
         ]
        },
        {
         "line": {
          "color": "red",
          "width": 2
         },
         "mode": "lines",
         "name": "Price",
         "showlegend": false,
         "type": "scatter",
         "x": [
          "2022-06-27T00:00:00",
          "2022-06-28T00:00:00"
         ],
         "y": [
          141.66000366210938,
          137.44000244140625
         ]
        },
        {
         "line": {
          "color": "red",
          "width": 2
         },
         "mode": "lines",
         "name": "Price",
         "showlegend": false,
         "type": "scatter",
         "x": [
          "2022-06-28T00:00:00",
          "2022-06-29T00:00:00"
         ],
         "y": [
          137.44000244140625,
          139.22999572753906
         ]
        },
        {
         "line": {
          "color": "red",
          "width": 2
         },
         "mode": "lines",
         "name": "Price",
         "showlegend": false,
         "type": "scatter",
         "x": [
          "2022-06-29T00:00:00",
          "2022-06-30T00:00:00"
         ],
         "y": [
          139.22999572753906,
          136.72000122070312
         ]
        },
        {
         "line": {
          "color": "red",
          "width": 2
         },
         "mode": "lines",
         "name": "Price",
         "showlegend": false,
         "type": "scatter",
         "x": [
          "2022-06-30T00:00:00",
          "2022-07-01T00:00:00"
         ],
         "y": [
          136.72000122070312,
          138.92999267578125
         ]
        },
        {
         "line": {
          "color": "red",
          "width": 2
         },
         "mode": "lines",
         "name": "Price",
         "showlegend": false,
         "type": "scatter",
         "x": [
          "2022-07-01T00:00:00",
          "2022-07-05T00:00:00"
         ],
         "y": [
          138.92999267578125,
          141.55999755859375
         ]
        },
        {
         "line": {
          "color": "green",
          "width": 2
         },
         "mode": "lines",
         "name": "Price",
         "showlegend": false,
         "type": "scatter",
         "x": [
          "2022-07-05T00:00:00",
          "2022-07-06T00:00:00"
         ],
         "y": [
          141.55999755859375,
          142.9199981689453
         ]
        },
        {
         "line": {
          "color": "green",
          "width": 2
         },
         "mode": "lines",
         "name": "Price",
         "showlegend": false,
         "type": "scatter",
         "x": [
          "2022-07-06T00:00:00",
          "2022-07-07T00:00:00"
         ],
         "y": [
          142.9199981689453,
          146.35000610351562
         ]
        },
        {
         "line": {
          "color": "green",
          "width": 2
         },
         "mode": "lines",
         "name": "Price",
         "showlegend": false,
         "type": "scatter",
         "x": [
          "2022-07-07T00:00:00",
          "2022-07-08T00:00:00"
         ],
         "y": [
          146.35000610351562,
          147.0399932861328
         ]
        },
        {
         "line": {
          "color": "green",
          "width": 2
         },
         "mode": "lines",
         "name": "Price",
         "showlegend": false,
         "type": "scatter",
         "x": [
          "2022-07-08T00:00:00",
          "2022-07-11T00:00:00"
         ],
         "y": [
          147.0399932861328,
          144.8699951171875
         ]
        },
        {
         "line": {
          "color": "green",
          "width": 2
         },
         "mode": "lines",
         "name": "Price",
         "showlegend": false,
         "type": "scatter",
         "x": [
          "2022-07-11T00:00:00",
          "2022-07-12T00:00:00"
         ],
         "y": [
          144.8699951171875,
          145.86000061035156
         ]
        },
        {
         "line": {
          "color": "green",
          "width": 2
         },
         "mode": "lines",
         "name": "Price",
         "showlegend": false,
         "type": "scatter",
         "x": [
          "2022-07-12T00:00:00",
          "2022-07-13T00:00:00"
         ],
         "y": [
          145.86000061035156,
          145.49000549316406
         ]
        },
        {
         "line": {
          "color": "red",
          "width": 2
         },
         "mode": "lines",
         "name": "Price",
         "showlegend": false,
         "type": "scatter",
         "x": [
          "2022-07-13T00:00:00",
          "2022-07-14T00:00:00"
         ],
         "y": [
          145.49000549316406,
          148.47000122070312
         ]
        },
        {
         "line": {
          "color": "red",
          "width": 2
         },
         "mode": "lines",
         "name": "Price",
         "showlegend": false,
         "type": "scatter",
         "x": [
          "2022-07-14T00:00:00",
          "2022-07-15T00:00:00"
         ],
         "y": [
          148.47000122070312,
          150.1699981689453
         ]
        },
        {
         "line": {
          "color": "green",
          "width": 2
         },
         "mode": "lines",
         "name": "Price",
         "showlegend": false,
         "type": "scatter",
         "x": [
          "2022-07-15T00:00:00",
          "2022-07-18T00:00:00"
         ],
         "y": [
          150.1699981689453,
          147.07000732421875
         ]
        },
        {
         "line": {
          "color": "red",
          "width": 2
         },
         "mode": "lines",
         "name": "Price",
         "showlegend": false,
         "type": "scatter",
         "x": [
          "2022-07-18T00:00:00",
          "2022-07-19T00:00:00"
         ],
         "y": [
          147.07000732421875,
          151
         ]
        },
        {
         "line": {
          "color": "green",
          "width": 2
         },
         "mode": "lines",
         "name": "Price",
         "showlegend": false,
         "type": "scatter",
         "x": [
          "2022-07-19T00:00:00",
          "2022-07-20T00:00:00"
         ],
         "y": [
          151,
          153.0399932861328
         ]
        },
        {
         "line": {
          "color": "green",
          "width": 2
         },
         "mode": "lines",
         "name": "Price",
         "showlegend": false,
         "type": "scatter",
         "x": [
          "2022-07-20T00:00:00",
          "2022-07-21T00:00:00"
         ],
         "y": [
          153.0399932861328,
          155.35000610351562
         ]
        },
        {
         "line": {
          "color": "green",
          "width": 2
         },
         "mode": "lines",
         "name": "Price",
         "showlegend": false,
         "type": "scatter",
         "x": [
          "2022-07-21T00:00:00",
          "2022-07-22T00:00:00"
         ],
         "y": [
          155.35000610351562,
          154.08999633789062
         ]
        },
        {
         "line": {
          "color": "green",
          "width": 2
         },
         "mode": "lines",
         "name": "Price",
         "showlegend": false,
         "type": "scatter",
         "x": [
          "2022-07-22T00:00:00",
          "2022-07-25T00:00:00"
         ],
         "y": [
          154.08999633789062,
          152.9499969482422
         ]
        },
        {
         "line": {
          "color": "green",
          "width": 2
         },
         "mode": "lines",
         "name": "Price",
         "showlegend": false,
         "type": "scatter",
         "x": [
          "2022-07-25T00:00:00",
          "2022-07-26T00:00:00"
         ],
         "y": [
          152.9499969482422,
          151.60000610351562
         ]
        },
        {
         "line": {
          "color": "green",
          "width": 2
         },
         "mode": "lines",
         "name": "Price",
         "showlegend": false,
         "type": "scatter",
         "x": [
          "2022-07-26T00:00:00",
          "2022-07-27T00:00:00"
         ],
         "y": [
          151.60000610351562,
          156.7899932861328
         ]
        },
        {
         "line": {
          "color": "green",
          "width": 2
         },
         "mode": "lines",
         "name": "Price",
         "showlegend": false,
         "type": "scatter",
         "x": [
          "2022-07-27T00:00:00",
          "2022-07-28T00:00:00"
         ],
         "y": [
          156.7899932861328,
          157.35000610351562
         ]
        },
        {
         "line": {
          "color": "green",
          "width": 2
         },
         "mode": "lines",
         "name": "Price",
         "showlegend": false,
         "type": "scatter",
         "x": [
          "2022-07-28T00:00:00",
          "2022-07-29T00:00:00"
         ],
         "y": [
          157.35000610351562,
          162.50999450683594
         ]
        },
        {
         "line": {
          "color": "green",
          "width": 2
         },
         "mode": "lines",
         "name": "Price",
         "showlegend": false,
         "type": "scatter",
         "x": [
          "2022-07-29T00:00:00",
          "2022-08-01T00:00:00"
         ],
         "y": [
          162.50999450683594,
          161.50999450683594
         ]
        },
        {
         "line": {
          "color": "green",
          "width": 2
         },
         "mode": "lines",
         "name": "Price",
         "showlegend": false,
         "type": "scatter",
         "x": [
          "2022-08-01T00:00:00",
          "2022-08-02T00:00:00"
         ],
         "y": [
          161.50999450683594,
          160.00999450683594
         ]
        },
        {
         "line": {
          "color": "green",
          "width": 2
         },
         "mode": "lines",
         "name": "Price",
         "showlegend": false,
         "type": "scatter",
         "x": [
          "2022-08-02T00:00:00",
          "2022-08-03T00:00:00"
         ],
         "y": [
          160.00999450683594,
          166.1300048828125
         ]
        },
        {
         "line": {
          "color": "green",
          "width": 2
         },
         "mode": "lines",
         "name": "Price",
         "showlegend": false,
         "type": "scatter",
         "x": [
          "2022-08-03T00:00:00",
          "2022-08-04T00:00:00"
         ],
         "y": [
          166.1300048828125,
          165.80999755859375
         ]
        },
        {
         "line": {
          "color": "green",
          "width": 2
         },
         "mode": "lines",
         "name": "Price",
         "showlegend": false,
         "type": "scatter",
         "x": [
          "2022-08-04T00:00:00",
          "2022-08-05T00:00:00"
         ],
         "y": [
          165.80999755859375,
          165.35000610351562
         ]
        },
        {
         "line": {
          "color": "green",
          "width": 2
         },
         "mode": "lines",
         "name": "Price",
         "showlegend": false,
         "type": "scatter",
         "x": [
          "2022-08-05T00:00:00",
          "2022-08-08T00:00:00"
         ],
         "y": [
          165.35000610351562,
          164.8699951171875
         ]
        },
        {
         "line": {
          "color": "green",
          "width": 2
         },
         "mode": "lines",
         "name": "Price",
         "showlegend": false,
         "type": "scatter",
         "x": [
          "2022-08-08T00:00:00",
          "2022-08-09T00:00:00"
         ],
         "y": [
          164.8699951171875,
          164.9199981689453
         ]
        },
        {
         "line": {
          "color": "green",
          "width": 2
         },
         "mode": "lines",
         "name": "Price",
         "showlegend": false,
         "type": "scatter",
         "x": [
          "2022-08-09T00:00:00",
          "2022-08-10T00:00:00"
         ],
         "y": [
          164.9199981689453,
          169.24000549316406
         ]
        },
        {
         "line": {
          "color": "green",
          "width": 2
         },
         "mode": "lines",
         "name": "Price",
         "showlegend": false,
         "type": "scatter",
         "x": [
          "2022-08-10T00:00:00",
          "2022-08-11T00:00:00"
         ],
         "y": [
          169.24000549316406,
          168.49000549316406
         ]
        },
        {
         "line": {
          "color": "green",
          "width": 2
         },
         "mode": "lines",
         "name": "Price",
         "showlegend": false,
         "type": "scatter",
         "x": [
          "2022-08-11T00:00:00",
          "2022-08-12T00:00:00"
         ],
         "y": [
          168.49000549316406,
          172.10000610351562
         ]
        },
        {
         "line": {
          "color": "green",
          "width": 2
         },
         "mode": "lines",
         "name": "Price",
         "showlegend": false,
         "type": "scatter",
         "x": [
          "2022-08-12T00:00:00",
          "2022-08-15T00:00:00"
         ],
         "y": [
          172.10000610351562,
          173.19000244140625
         ]
        },
        {
         "line": {
          "color": "green",
          "width": 2
         },
         "mode": "lines",
         "name": "Price",
         "showlegend": false,
         "type": "scatter",
         "x": [
          "2022-08-15T00:00:00",
          "2022-08-16T00:00:00"
         ],
         "y": [
          173.19000244140625,
          173.02999877929688
         ]
        },
        {
         "line": {
          "color": "green",
          "width": 2
         },
         "mode": "lines",
         "name": "Price",
         "showlegend": false,
         "type": "scatter",
         "x": [
          "2022-08-16T00:00:00",
          "2022-08-17T00:00:00"
         ],
         "y": [
          173.02999877929688,
          174.5500030517578
         ]
        },
        {
         "line": {
          "color": "green",
          "width": 2
         },
         "mode": "lines",
         "name": "Price",
         "showlegend": false,
         "type": "scatter",
         "x": [
          "2022-08-17T00:00:00",
          "2022-08-18T00:00:00"
         ],
         "y": [
          174.5500030517578,
          174.14999389648438
         ]
        },
        {
         "line": {
          "color": "green",
          "width": 2
         },
         "mode": "lines",
         "name": "Price",
         "showlegend": false,
         "type": "scatter",
         "x": [
          "2022-08-18T00:00:00",
          "2022-08-19T00:00:00"
         ],
         "y": [
          174.14999389648438,
          171.52000427246094
         ]
        },
        {
         "line": {
          "color": "green",
          "width": 2
         },
         "mode": "lines",
         "name": "Price",
         "showlegend": false,
         "type": "scatter",
         "x": [
          "2022-08-19T00:00:00",
          "2022-08-22T00:00:00"
         ],
         "y": [
          171.52000427246094,
          167.57000732421875
         ]
        },
        {
         "line": {
          "color": "green",
          "width": 2
         },
         "mode": "lines",
         "name": "Price",
         "showlegend": false,
         "type": "scatter",
         "x": [
          "2022-08-22T00:00:00",
          "2022-08-23T00:00:00"
         ],
         "y": [
          167.57000732421875,
          167.22999572753906
         ]
        },
        {
         "line": {
          "color": "green",
          "width": 2
         },
         "mode": "lines",
         "name": "Price",
         "showlegend": false,
         "type": "scatter",
         "x": [
          "2022-08-23T00:00:00",
          "2022-08-24T00:00:00"
         ],
         "y": [
          167.22999572753906,
          167.52999877929688
         ]
        },
        {
         "line": {
          "color": "green",
          "width": 2
         },
         "mode": "lines",
         "name": "Price",
         "showlegend": false,
         "type": "scatter",
         "x": [
          "2022-08-24T00:00:00",
          "2022-08-25T00:00:00"
         ],
         "y": [
          167.52999877929688,
          170.02999877929688
         ]
        },
        {
         "line": {
          "color": "green",
          "width": 2
         },
         "mode": "lines",
         "name": "Price",
         "showlegend": false,
         "type": "scatter",
         "x": [
          "2022-08-25T00:00:00",
          "2022-08-26T00:00:00"
         ],
         "y": [
          170.02999877929688,
          163.6199951171875
         ]
        },
        {
         "line": {
          "color": "green",
          "width": 2
         },
         "mode": "lines",
         "name": "Price",
         "showlegend": false,
         "type": "scatter",
         "x": [
          "2022-08-26T00:00:00",
          "2022-08-29T00:00:00"
         ],
         "y": [
          163.6199951171875,
          161.3800048828125
         ]
        },
        {
         "line": {
          "color": "green",
          "width": 2
         },
         "mode": "lines",
         "name": "Price",
         "showlegend": false,
         "type": "scatter",
         "x": [
          "2022-08-29T00:00:00",
          "2022-08-30T00:00:00"
         ],
         "y": [
          161.3800048828125,
          158.91000366210938
         ]
        },
        {
         "line": {
          "color": "green",
          "width": 2
         },
         "mode": "lines",
         "name": "Price",
         "showlegend": false,
         "type": "scatter",
         "x": [
          "2022-08-30T00:00:00",
          "2022-08-31T00:00:00"
         ],
         "y": [
          158.91000366210938,
          157.22000122070312
         ]
        },
        {
         "line": {
          "color": "green",
          "width": 2
         },
         "mode": "lines",
         "name": "Price",
         "showlegend": false,
         "type": "scatter",
         "x": [
          "2022-08-31T00:00:00",
          "2022-09-01T00:00:00"
         ],
         "y": [
          157.22000122070312,
          157.9600067138672
         ]
        },
        {
         "line": {
          "color": "green",
          "width": 2
         },
         "mode": "lines",
         "name": "Price",
         "showlegend": false,
         "type": "scatter",
         "x": [
          "2022-09-01T00:00:00",
          "2022-09-02T00:00:00"
         ],
         "y": [
          157.9600067138672,
          155.80999755859375
         ]
        },
        {
         "line": {
          "color": "green",
          "width": 2
         },
         "mode": "lines",
         "name": "Price",
         "showlegend": false,
         "type": "scatter",
         "x": [
          "2022-09-02T00:00:00",
          "2022-09-06T00:00:00"
         ],
         "y": [
          155.80999755859375,
          154.52999877929688
         ]
        },
        {
         "line": {
          "color": "green",
          "width": 2
         },
         "mode": "lines",
         "name": "Price",
         "showlegend": false,
         "type": "scatter",
         "x": [
          "2022-09-06T00:00:00",
          "2022-09-07T00:00:00"
         ],
         "y": [
          154.52999877929688,
          155.9600067138672
         ]
        },
        {
         "line": {
          "color": "green",
          "width": 2
         },
         "mode": "lines",
         "name": "Price",
         "showlegend": false,
         "type": "scatter",
         "x": [
          "2022-09-07T00:00:00",
          "2022-09-08T00:00:00"
         ],
         "y": [
          155.9600067138672,
          154.4600067138672
         ]
        },
        {
         "line": {
          "color": "red",
          "width": 2
         },
         "mode": "lines",
         "name": "Price",
         "showlegend": false,
         "type": "scatter",
         "x": [
          "2022-09-08T00:00:00",
          "2022-09-09T00:00:00"
         ],
         "y": [
          154.4600067138672,
          157.3699951171875
         ]
        },
        {
         "line": {
          "color": "green",
          "width": 2
         },
         "mode": "lines",
         "name": "Price",
         "showlegend": false,
         "type": "scatter",
         "x": [
          "2022-09-09T00:00:00",
          "2022-09-12T00:00:00"
         ],
         "y": [
          157.3699951171875,
          163.42999267578125
         ]
        },
        {
         "line": {
          "color": "green",
          "width": 2
         },
         "mode": "lines",
         "name": "Price",
         "showlegend": false,
         "type": "scatter",
         "x": [
          "2022-09-12T00:00:00",
          "2022-09-13T00:00:00"
         ],
         "y": [
          163.42999267578125,
          153.83999633789062
         ]
        },
        {
         "line": {
          "color": "red",
          "width": 2
         },
         "mode": "lines",
         "name": "Price",
         "showlegend": false,
         "type": "scatter",
         "x": [
          "2022-09-13T00:00:00",
          "2022-09-14T00:00:00"
         ],
         "y": [
          153.83999633789062,
          155.30999755859375
         ]
        },
        {
         "line": {
          "color": "red",
          "width": 2
         },
         "mode": "lines",
         "name": "Price",
         "showlegend": false,
         "type": "scatter",
         "x": [
          "2022-09-14T00:00:00",
          "2022-09-15T00:00:00"
         ],
         "y": [
          155.30999755859375,
          152.3699951171875
         ]
        },
        {
         "line": {
          "color": "red",
          "width": 2
         },
         "mode": "lines",
         "name": "Price",
         "showlegend": false,
         "type": "scatter",
         "x": [
          "2022-09-15T00:00:00",
          "2022-09-16T00:00:00"
         ],
         "y": [
          152.3699951171875,
          150.6999969482422
         ]
        },
        {
         "line": {
          "color": "red",
          "width": 2
         },
         "mode": "lines",
         "name": "Price",
         "showlegend": false,
         "type": "scatter",
         "x": [
          "2022-09-16T00:00:00",
          "2022-09-19T00:00:00"
         ],
         "y": [
          150.6999969482422,
          154.47999572753906
         ]
        },
        {
         "line": {
          "color": "red",
          "width": 2
         },
         "mode": "lines",
         "name": "Price",
         "showlegend": false,
         "type": "scatter",
         "x": [
          "2022-09-19T00:00:00",
          "2022-09-20T00:00:00"
         ],
         "y": [
          154.47999572753906,
          156.89999389648438
         ]
        },
        {
         "line": {
          "color": "red",
          "width": 2
         },
         "mode": "lines",
         "name": "Price",
         "showlegend": false,
         "type": "scatter",
         "x": [
          "2022-09-20T00:00:00",
          "2022-09-21T00:00:00"
         ],
         "y": [
          156.89999389648438,
          153.72000122070312
         ]
        },
        {
         "line": {
          "color": "red",
          "width": 2
         },
         "mode": "lines",
         "name": "Price",
         "showlegend": false,
         "type": "scatter",
         "x": [
          "2022-09-21T00:00:00",
          "2022-09-22T00:00:00"
         ],
         "y": [
          153.72000122070312,
          152.74000549316406
         ]
        },
        {
         "line": {
          "color": "red",
          "width": 2
         },
         "mode": "lines",
         "name": "Price",
         "showlegend": false,
         "type": "scatter",
         "x": [
          "2022-09-22T00:00:00",
          "2022-09-23T00:00:00"
         ],
         "y": [
          152.74000549316406,
          150.42999267578125
         ]
        },
        {
         "line": {
          "color": "red",
          "width": 2
         },
         "mode": "lines",
         "name": "Price",
         "showlegend": false,
         "type": "scatter",
         "x": [
          "2022-09-23T00:00:00",
          "2022-09-26T00:00:00"
         ],
         "y": [
          150.42999267578125,
          150.77000427246094
         ]
        },
        {
         "line": {
          "color": "red",
          "width": 2
         },
         "mode": "lines",
         "name": "Price",
         "showlegend": false,
         "type": "scatter",
         "x": [
          "2022-09-26T00:00:00",
          "2022-09-27T00:00:00"
         ],
         "y": [
          150.77000427246094,
          151.75999450683594
         ]
        },
        {
         "line": {
          "color": "red",
          "width": 2
         },
         "mode": "lines",
         "name": "Price",
         "showlegend": false,
         "type": "scatter",
         "x": [
          "2022-09-27T00:00:00",
          "2022-09-28T00:00:00"
         ],
         "y": [
          151.75999450683594,
          149.83999633789062
         ]
        },
        {
         "line": {
          "color": "red",
          "width": 2
         },
         "mode": "lines",
         "name": "Price",
         "showlegend": false,
         "type": "scatter",
         "x": [
          "2022-09-28T00:00:00",
          "2022-09-29T00:00:00"
         ],
         "y": [
          149.83999633789062,
          142.47999572753906
         ]
        },
        {
         "line": {
          "color": "red",
          "width": 2
         },
         "mode": "lines",
         "name": "Price",
         "showlegend": false,
         "type": "scatter",
         "x": [
          "2022-09-29T00:00:00",
          "2022-09-30T00:00:00"
         ],
         "y": [
          142.47999572753906,
          138.1999969482422
         ]
        },
        {
         "line": {
          "color": "red",
          "width": 2
         },
         "mode": "lines",
         "name": "Price",
         "showlegend": false,
         "type": "scatter",
         "x": [
          "2022-09-30T00:00:00",
          "2022-10-03T00:00:00"
         ],
         "y": [
          138.1999969482422,
          142.4499969482422
         ]
        },
        {
         "line": {
          "color": "red",
          "width": 2
         },
         "mode": "lines",
         "name": "Price",
         "showlegend": false,
         "type": "scatter",
         "x": [
          "2022-10-03T00:00:00",
          "2022-10-04T00:00:00"
         ],
         "y": [
          142.4499969482422,
          146.10000610351562
         ]
        },
        {
         "line": {
          "color": "red",
          "width": 2
         },
         "mode": "lines",
         "name": "Price",
         "showlegend": false,
         "type": "scatter",
         "x": [
          "2022-10-04T00:00:00",
          "2022-10-05T00:00:00"
         ],
         "y": [
          146.10000610351562,
          146.39999389648438
         ]
        },
        {
         "line": {
          "color": "red",
          "width": 2
         },
         "mode": "lines",
         "name": "Price",
         "showlegend": false,
         "type": "scatter",
         "x": [
          "2022-10-05T00:00:00",
          "2022-10-06T00:00:00"
         ],
         "y": [
          146.39999389648438,
          145.42999267578125
         ]
        },
        {
         "line": {
          "color": "red",
          "width": 2
         },
         "mode": "lines",
         "name": "Price",
         "showlegend": false,
         "type": "scatter",
         "x": [
          "2022-10-06T00:00:00",
          "2022-10-07T00:00:00"
         ],
         "y": [
          145.42999267578125,
          140.08999633789062
         ]
        },
        {
         "line": {
          "color": "red",
          "width": 2
         },
         "mode": "lines",
         "name": "Price",
         "showlegend": false,
         "type": "scatter",
         "x": [
          "2022-10-07T00:00:00",
          "2022-10-10T00:00:00"
         ],
         "y": [
          140.08999633789062,
          140.4199981689453
         ]
        },
        {
         "line": {
          "color": "red",
          "width": 2
         },
         "mode": "lines",
         "name": "Price",
         "showlegend": false,
         "type": "scatter",
         "x": [
          "2022-10-10T00:00:00",
          "2022-10-11T00:00:00"
         ],
         "y": [
          140.4199981689453,
          138.97999572753906
         ]
        },
        {
         "line": {
          "color": "red",
          "width": 2
         },
         "mode": "lines",
         "name": "Price",
         "showlegend": false,
         "type": "scatter",
         "x": [
          "2022-10-11T00:00:00",
          "2022-10-12T00:00:00"
         ],
         "y": [
          138.97999572753906,
          138.33999633789062
         ]
        },
        {
         "line": {
          "color": "red",
          "width": 2
         },
         "mode": "lines",
         "name": "Price",
         "showlegend": false,
         "type": "scatter",
         "x": [
          "2022-10-12T00:00:00",
          "2022-10-13T00:00:00"
         ],
         "y": [
          138.33999633789062,
          142.99000549316406
         ]
        },
        {
         "line": {
          "color": "red",
          "width": 2
         },
         "mode": "lines",
         "name": "Price",
         "showlegend": false,
         "type": "scatter",
         "x": [
          "2022-10-13T00:00:00",
          "2022-10-14T00:00:00"
         ],
         "y": [
          142.99000549316406,
          138.3800048828125
         ]
        },
        {
         "line": {
          "color": "red",
          "width": 2
         },
         "mode": "lines",
         "name": "Price",
         "showlegend": false,
         "type": "scatter",
         "x": [
          "2022-10-14T00:00:00",
          "2022-10-17T00:00:00"
         ],
         "y": [
          138.3800048828125,
          142.41000366210938
         ]
        },
        {
         "line": {
          "color": "red",
          "width": 2
         },
         "mode": "lines",
         "name": "Price",
         "showlegend": false,
         "type": "scatter",
         "x": [
          "2022-10-17T00:00:00",
          "2022-10-18T00:00:00"
         ],
         "y": [
          142.41000366210938,
          143.75
         ]
        },
        {
         "line": {
          "color": "red",
          "width": 2
         },
         "mode": "lines",
         "name": "Price",
         "showlegend": false,
         "type": "scatter",
         "x": [
          "2022-10-18T00:00:00",
          "2022-10-19T00:00:00"
         ],
         "y": [
          143.75,
          143.86000061035156
         ]
        },
        {
         "line": {
          "color": "red",
          "width": 2
         },
         "mode": "lines",
         "name": "Price",
         "showlegend": false,
         "type": "scatter",
         "x": [
          "2022-10-19T00:00:00",
          "2022-10-20T00:00:00"
         ],
         "y": [
          143.86000061035156,
          143.38999938964844
         ]
        },
        {
         "line": {
          "color": "red",
          "width": 2
         },
         "mode": "lines",
         "name": "Price",
         "showlegend": false,
         "type": "scatter",
         "x": [
          "2022-10-20T00:00:00",
          "2022-10-21T00:00:00"
         ],
         "y": [
          143.38999938964844,
          147.27000427246094
         ]
        },
        {
         "line": {
          "color": "red",
          "width": 2
         },
         "mode": "lines",
         "name": "Price",
         "showlegend": false,
         "type": "scatter",
         "x": [
          "2022-10-21T00:00:00",
          "2022-10-24T00:00:00"
         ],
         "y": [
          147.27000427246094,
          149.4499969482422
         ]
        },
        {
         "line": {
          "color": "red",
          "width": 2
         },
         "mode": "lines",
         "name": "Price",
         "showlegend": false,
         "type": "scatter",
         "x": [
          "2022-10-24T00:00:00",
          "2022-10-25T00:00:00"
         ],
         "y": [
          149.4499969482422,
          152.33999633789062
         ]
        },
        {
         "line": {
          "color": "red",
          "width": 2
         },
         "mode": "lines",
         "name": "Price",
         "showlegend": false,
         "type": "scatter",
         "x": [
          "2022-10-25T00:00:00",
          "2022-10-26T00:00:00"
         ],
         "y": [
          152.33999633789062,
          149.35000610351562
         ]
        },
        {
         "line": {
          "color": "red",
          "width": 2
         },
         "mode": "lines",
         "name": "Price",
         "showlegend": false,
         "type": "scatter",
         "x": [
          "2022-10-26T00:00:00",
          "2022-10-27T00:00:00"
         ],
         "y": [
          149.35000610351562,
          144.8000030517578
         ]
        },
        {
         "line": {
          "color": "red",
          "width": 2
         },
         "mode": "lines",
         "name": "Price",
         "showlegend": false,
         "type": "scatter",
         "x": [
          "2022-10-27T00:00:00",
          "2022-10-28T00:00:00"
         ],
         "y": [
          144.8000030517578,
          155.74000549316406
         ]
        },
        {
         "line": {
          "color": "green",
          "width": 2
         },
         "mode": "lines",
         "name": "Price",
         "showlegend": false,
         "type": "scatter",
         "x": [
          "2022-10-28T00:00:00",
          "2022-10-31T00:00:00"
         ],
         "y": [
          155.74000549316406,
          153.33999633789062
         ]
        },
        {
         "line": {
          "color": "red",
          "width": 2
         },
         "mode": "lines",
         "name": "Price",
         "showlegend": false,
         "type": "scatter",
         "x": [
          "2022-10-31T00:00:00",
          "2022-11-01T00:00:00"
         ],
         "y": [
          153.33999633789062,
          150.64999389648438
         ]
        },
        {
         "line": {
          "color": "red",
          "width": 2
         },
         "mode": "lines",
         "name": "Price",
         "showlegend": false,
         "type": "scatter",
         "x": [
          "2022-11-01T00:00:00",
          "2022-11-02T00:00:00"
         ],
         "y": [
          150.64999389648438,
          145.02999877929688
         ]
        },
        {
         "line": {
          "color": "red",
          "width": 2
         },
         "mode": "lines",
         "name": "Price",
         "showlegend": false,
         "type": "scatter",
         "x": [
          "2022-11-02T00:00:00",
          "2022-11-03T00:00:00"
         ],
         "y": [
          145.02999877929688,
          138.8800048828125
         ]
        },
        {
         "line": {
          "color": "red",
          "width": 2
         },
         "mode": "lines",
         "name": "Price",
         "showlegend": false,
         "type": "scatter",
         "x": [
          "2022-11-03T00:00:00",
          "2022-11-04T00:00:00"
         ],
         "y": [
          138.8800048828125,
          138.3800048828125
         ]
        },
        {
         "line": {
          "color": "red",
          "width": 2
         },
         "mode": "lines",
         "name": "Price",
         "showlegend": false,
         "type": "scatter",
         "x": [
          "2022-11-04T00:00:00",
          "2022-11-07T00:00:00"
         ],
         "y": [
          138.3800048828125,
          138.9199981689453
         ]
        },
        {
         "line": {
          "color": "red",
          "width": 2
         },
         "mode": "lines",
         "name": "Price",
         "showlegend": false,
         "type": "scatter",
         "x": [
          "2022-11-07T00:00:00",
          "2022-11-08T00:00:00"
         ],
         "y": [
          138.9199981689453,
          139.5
         ]
        },
        {
         "line": {
          "color": "red",
          "width": 2
         },
         "mode": "lines",
         "name": "Price",
         "showlegend": false,
         "type": "scatter",
         "x": [
          "2022-11-08T00:00:00",
          "2022-11-09T00:00:00"
         ],
         "y": [
          139.5,
          134.8699951171875
         ]
        },
        {
         "line": {
          "color": "red",
          "width": 2
         },
         "mode": "lines",
         "name": "Price",
         "showlegend": false,
         "type": "scatter",
         "x": [
          "2022-11-09T00:00:00",
          "2022-11-10T00:00:00"
         ],
         "y": [
          134.8699951171875,
          146.8699951171875
         ]
        },
        {
         "line": {
          "color": "green",
          "width": 2
         },
         "mode": "lines",
         "name": "Price",
         "showlegend": false,
         "type": "scatter",
         "x": [
          "2022-11-10T00:00:00",
          "2022-11-11T00:00:00"
         ],
         "y": [
          146.8699951171875,
          149.6999969482422
         ]
        },
        {
         "line": {
          "color": "green",
          "width": 2
         },
         "mode": "lines",
         "name": "Price",
         "showlegend": false,
         "type": "scatter",
         "x": [
          "2022-11-11T00:00:00",
          "2022-11-14T00:00:00"
         ],
         "y": [
          149.6999969482422,
          148.27999877929688
         ]
        },
        {
         "line": {
          "color": "green",
          "width": 2
         },
         "mode": "lines",
         "name": "Price",
         "showlegend": false,
         "type": "scatter",
         "x": [
          "2022-11-14T00:00:00",
          "2022-11-15T00:00:00"
         ],
         "y": [
          148.27999877929688,
          150.0399932861328
         ]
        },
        {
         "line": {
          "color": "green",
          "width": 2
         },
         "mode": "lines",
         "name": "Price",
         "showlegend": false,
         "type": "scatter",
         "x": [
          "2022-11-15T00:00:00",
          "2022-11-16T00:00:00"
         ],
         "y": [
          150.0399932861328,
          148.7899932861328
         ]
        },
        {
         "line": {
          "color": "green",
          "width": 2
         },
         "mode": "lines",
         "name": "Price",
         "showlegend": false,
         "type": "scatter",
         "x": [
          "2022-11-16T00:00:00",
          "2022-11-17T00:00:00"
         ],
         "y": [
          148.7899932861328,
          150.72000122070312
         ]
        },
        {
         "line": {
          "color": "green",
          "width": 2
         },
         "mode": "lines",
         "name": "Price",
         "showlegend": false,
         "type": "scatter",
         "x": [
          "2022-11-17T00:00:00",
          "2022-11-18T00:00:00"
         ],
         "y": [
          150.72000122070312,
          151.2899932861328
         ]
        },
        {
         "line": {
          "color": "green",
          "width": 2
         },
         "mode": "lines",
         "name": "Price",
         "showlegend": false,
         "type": "scatter",
         "x": [
          "2022-11-18T00:00:00",
          "2022-11-21T00:00:00"
         ],
         "y": [
          151.2899932861328,
          148.00999450683594
         ]
        },
        {
         "line": {
          "color": "green",
          "width": 2
         },
         "mode": "lines",
         "name": "Price",
         "showlegend": false,
         "type": "scatter",
         "x": [
          "2022-11-21T00:00:00",
          "2022-11-22T00:00:00"
         ],
         "y": [
          148.00999450683594,
          150.17999267578125
         ]
        },
        {
         "line": {
          "color": "green",
          "width": 2
         },
         "mode": "lines",
         "name": "Price",
         "showlegend": false,
         "type": "scatter",
         "x": [
          "2022-11-22T00:00:00",
          "2022-11-23T00:00:00"
         ],
         "y": [
          150.17999267578125,
          151.07000732421875
         ]
        },
        {
         "line": {
          "color": "green",
          "width": 2
         },
         "mode": "lines",
         "name": "Price",
         "showlegend": false,
         "type": "scatter",
         "x": [
          "2022-11-23T00:00:00",
          "2022-11-25T00:00:00"
         ],
         "y": [
          151.07000732421875,
          148.11000061035156
         ]
        },
        {
         "line": {
          "color": "green",
          "width": 2
         },
         "mode": "lines",
         "name": "Price",
         "showlegend": false,
         "type": "scatter",
         "x": [
          "2022-11-25T00:00:00",
          "2022-11-28T00:00:00"
         ],
         "y": [
          148.11000061035156,
          144.22000122070312
         ]
        },
        {
         "line": {
          "color": "green",
          "width": 2
         },
         "mode": "lines",
         "name": "Price",
         "showlegend": false,
         "type": "scatter",
         "x": [
          "2022-11-28T00:00:00",
          "2022-11-29T00:00:00"
         ],
         "y": [
          144.22000122070312,
          141.1699981689453
         ]
        },
        {
         "line": {
          "color": "red",
          "width": 2
         },
         "mode": "lines",
         "name": "Price",
         "showlegend": false,
         "type": "scatter",
         "x": [
          "2022-11-29T00:00:00",
          "2022-11-30T00:00:00"
         ],
         "y": [
          141.1699981689453,
          148.02999877929688
         ]
        },
        {
         "line": {
          "color": "green",
          "width": 2
         },
         "mode": "lines",
         "name": "Price",
         "showlegend": false,
         "type": "scatter",
         "x": [
          "2022-11-30T00:00:00",
          "2022-12-01T00:00:00"
         ],
         "y": [
          148.02999877929688,
          148.30999755859375
         ]
        },
        {
         "line": {
          "color": "green",
          "width": 2
         },
         "mode": "lines",
         "name": "Price",
         "showlegend": false,
         "type": "scatter",
         "x": [
          "2022-12-01T00:00:00",
          "2022-12-02T00:00:00"
         ],
         "y": [
          148.30999755859375,
          147.80999755859375
         ]
        },
        {
         "line": {
          "color": "green",
          "width": 2
         },
         "mode": "lines",
         "name": "Price",
         "showlegend": false,
         "type": "scatter",
         "x": [
          "2022-12-02T00:00:00",
          "2022-12-05T00:00:00"
         ],
         "y": [
          147.80999755859375,
          146.6300048828125
         ]
        },
        {
         "line": {
          "color": "red",
          "width": 2
         },
         "mode": "lines",
         "name": "Price",
         "showlegend": false,
         "type": "scatter",
         "x": [
          "2022-12-05T00:00:00",
          "2022-12-06T00:00:00"
         ],
         "y": [
          146.6300048828125,
          142.91000366210938
         ]
        },
        {
         "line": {
          "color": "red",
          "width": 2
         },
         "mode": "lines",
         "name": "Price",
         "showlegend": false,
         "type": "scatter",
         "x": [
          "2022-12-06T00:00:00",
          "2022-12-07T00:00:00"
         ],
         "y": [
          142.91000366210938,
          140.94000244140625
         ]
        },
        {
         "line": {
          "color": "red",
          "width": 2
         },
         "mode": "lines",
         "name": "Price",
         "showlegend": false,
         "type": "scatter",
         "x": [
          "2022-12-07T00:00:00",
          "2022-12-08T00:00:00"
         ],
         "y": [
          140.94000244140625,
          142.64999389648438
         ]
        },
        {
         "line": {
          "color": "red",
          "width": 2
         },
         "mode": "lines",
         "name": "Price",
         "showlegend": false,
         "type": "scatter",
         "x": [
          "2022-12-08T00:00:00",
          "2022-12-09T00:00:00"
         ],
         "y": [
          142.64999389648438,
          142.16000366210938
         ]
        },
        {
         "line": {
          "color": "red",
          "width": 2
         },
         "mode": "lines",
         "name": "Price",
         "showlegend": false,
         "type": "scatter",
         "x": [
          "2022-12-09T00:00:00",
          "2022-12-12T00:00:00"
         ],
         "y": [
          142.16000366210938,
          144.49000549316406
         ]
        },
        {
         "line": {
          "color": "red",
          "width": 2
         },
         "mode": "lines",
         "name": "Price",
         "showlegend": false,
         "type": "scatter",
         "x": [
          "2022-12-12T00:00:00",
          "2022-12-13T00:00:00"
         ],
         "y": [
          144.49000549316406,
          145.47000122070312
         ]
        },
        {
         "line": {
          "color": "red",
          "width": 2
         },
         "mode": "lines",
         "name": "Price",
         "showlegend": false,
         "type": "scatter",
         "x": [
          "2022-12-13T00:00:00",
          "2022-12-14T00:00:00"
         ],
         "y": [
          145.47000122070312,
          143.2100067138672
         ]
        },
        {
         "line": {
          "color": "red",
          "width": 2
         },
         "mode": "lines",
         "name": "Price",
         "showlegend": false,
         "type": "scatter",
         "x": [
          "2022-12-14T00:00:00",
          "2022-12-15T00:00:00"
         ],
         "y": [
          143.2100067138672,
          136.5
         ]
        },
        {
         "line": {
          "color": "red",
          "width": 2
         },
         "mode": "lines",
         "name": "Price",
         "showlegend": false,
         "type": "scatter",
         "x": [
          "2022-12-15T00:00:00",
          "2022-12-16T00:00:00"
         ],
         "y": [
          136.5,
          134.50999450683594
         ]
        },
        {
         "line": {
          "color": "red",
          "width": 2
         },
         "mode": "lines",
         "name": "Price",
         "showlegend": false,
         "type": "scatter",
         "x": [
          "2022-12-16T00:00:00",
          "2022-12-19T00:00:00"
         ],
         "y": [
          134.50999450683594,
          132.3699951171875
         ]
        },
        {
         "line": {
          "color": "red",
          "width": 2
         },
         "mode": "lines",
         "name": "Price",
         "showlegend": false,
         "type": "scatter",
         "x": [
          "2022-12-19T00:00:00",
          "2022-12-20T00:00:00"
         ],
         "y": [
          132.3699951171875,
          132.3000030517578
         ]
        },
        {
         "line": {
          "color": "red",
          "width": 2
         },
         "mode": "lines",
         "name": "Price",
         "showlegend": false,
         "type": "scatter",
         "x": [
          "2022-12-20T00:00:00",
          "2022-12-21T00:00:00"
         ],
         "y": [
          132.3000030517578,
          135.4499969482422
         ]
        },
        {
         "line": {
          "color": "red",
          "width": 2
         },
         "mode": "lines",
         "name": "Price",
         "showlegend": false,
         "type": "scatter",
         "x": [
          "2022-12-21T00:00:00",
          "2022-12-22T00:00:00"
         ],
         "y": [
          135.4499969482422,
          132.22999572753906
         ]
        },
        {
         "line": {
          "color": "red",
          "width": 2
         },
         "mode": "lines",
         "name": "Price",
         "showlegend": false,
         "type": "scatter",
         "x": [
          "2022-12-22T00:00:00",
          "2022-12-23T00:00:00"
         ],
         "y": [
          132.22999572753906,
          131.86000061035156
         ]
        },
        {
         "line": {
          "color": "red",
          "width": 2
         },
         "mode": "lines",
         "name": "Price",
         "showlegend": false,
         "type": "scatter",
         "x": [
          "2022-12-23T00:00:00",
          "2022-12-27T00:00:00"
         ],
         "y": [
          131.86000061035156,
          130.02999877929688
         ]
        },
        {
         "line": {
          "color": "red",
          "width": 2
         },
         "mode": "lines",
         "name": "Price",
         "showlegend": false,
         "type": "scatter",
         "x": [
          "2022-12-27T00:00:00",
          "2022-12-28T00:00:00"
         ],
         "y": [
          130.02999877929688,
          126.04000091552734
         ]
        },
        {
         "line": {
          "color": "red",
          "width": 2
         },
         "mode": "lines",
         "name": "Price",
         "showlegend": false,
         "type": "scatter",
         "x": [
          "2022-12-28T00:00:00",
          "2022-12-29T00:00:00"
         ],
         "y": [
          126.04000091552734,
          129.61000061035156
         ]
        },
        {
         "line": {
          "color": "red",
          "width": 2
         },
         "mode": "lines",
         "name": "Price",
         "showlegend": false,
         "type": "scatter",
         "x": [
          "2022-12-29T00:00:00",
          "2022-12-30T00:00:00"
         ],
         "y": [
          129.61000061035156,
          129.92999267578125
         ]
        },
        {
         "line": {
          "color": "red",
          "width": 2
         },
         "mode": "lines",
         "name": "Price",
         "showlegend": false,
         "type": "scatter",
         "x": [
          "2022-12-30T00:00:00",
          "2023-01-03T00:00:00"
         ],
         "y": [
          129.92999267578125,
          125.06999969482422
         ]
        },
        {
         "line": {
          "color": "red",
          "width": 2
         },
         "mode": "lines",
         "name": "Price",
         "showlegend": false,
         "type": "scatter",
         "x": [
          "2023-01-03T00:00:00",
          "2023-01-04T00:00:00"
         ],
         "y": [
          125.06999969482422,
          126.36000061035156
         ]
        },
        {
         "line": {
          "color": "red",
          "width": 2
         },
         "mode": "lines",
         "name": "Price",
         "showlegend": false,
         "type": "scatter",
         "x": [
          "2023-01-04T00:00:00",
          "2023-01-05T00:00:00"
         ],
         "y": [
          126.36000061035156,
          125.0199966430664
         ]
        },
        {
         "line": {
          "color": "red",
          "width": 2
         },
         "mode": "lines",
         "name": "Price",
         "showlegend": false,
         "type": "scatter",
         "x": [
          "2023-01-05T00:00:00",
          "2023-01-06T00:00:00"
         ],
         "y": [
          125.0199966430664,
          129.6199951171875
         ]
        },
        {
         "line": {
          "color": "red",
          "width": 2
         },
         "mode": "lines",
         "name": "Price",
         "showlegend": false,
         "type": "scatter",
         "x": [
          "2023-01-06T00:00:00",
          "2023-01-09T00:00:00"
         ],
         "y": [
          129.6199951171875,
          130.14999389648438
         ]
        },
        {
         "line": {
          "color": "red",
          "width": 2
         },
         "mode": "lines",
         "name": "Price",
         "showlegend": false,
         "type": "scatter",
         "x": [
          "2023-01-09T00:00:00",
          "2023-01-10T00:00:00"
         ],
         "y": [
          130.14999389648438,
          130.72999572753906
         ]
        },
        {
         "line": {
          "color": "red",
          "width": 2
         },
         "mode": "lines",
         "name": "Price",
         "showlegend": false,
         "type": "scatter",
         "x": [
          "2023-01-10T00:00:00",
          "2023-01-11T00:00:00"
         ],
         "y": [
          130.72999572753906,
          133.49000549316406
         ]
        },
        {
         "line": {
          "color": "red",
          "width": 2
         },
         "mode": "lines",
         "name": "Price",
         "showlegend": false,
         "type": "scatter",
         "x": [
          "2023-01-11T00:00:00",
          "2023-01-12T00:00:00"
         ],
         "y": [
          133.49000549316406,
          133.41000366210938
         ]
        },
        {
         "line": {
          "color": "red",
          "width": 2
         },
         "mode": "lines",
         "name": "Price",
         "showlegend": false,
         "type": "scatter",
         "x": [
          "2023-01-12T00:00:00",
          "2023-01-13T00:00:00"
         ],
         "y": [
          133.41000366210938,
          134.75999450683594
         ]
        },
        {
         "line": {
          "color": "red",
          "width": 2
         },
         "mode": "lines",
         "name": "Price",
         "showlegend": false,
         "type": "scatter",
         "x": [
          "2023-01-13T00:00:00",
          "2023-01-17T00:00:00"
         ],
         "y": [
          134.75999450683594,
          135.94000244140625
         ]
        },
        {
         "line": {
          "color": "red",
          "width": 2
         },
         "mode": "lines",
         "name": "Price",
         "showlegend": false,
         "type": "scatter",
         "x": [
          "2023-01-17T00:00:00",
          "2023-01-18T00:00:00"
         ],
         "y": [
          135.94000244140625,
          135.2100067138672
         ]
        },
        {
         "line": {
          "color": "red",
          "width": 2
         },
         "mode": "lines",
         "name": "Price",
         "showlegend": false,
         "type": "scatter",
         "x": [
          "2023-01-18T00:00:00",
          "2023-01-19T00:00:00"
         ],
         "y": [
          135.2100067138672,
          135.27000427246094
         ]
        },
        {
         "line": {
          "color": "red",
          "width": 2
         },
         "mode": "lines",
         "name": "Price",
         "showlegend": false,
         "type": "scatter",
         "x": [
          "2023-01-19T00:00:00",
          "2023-01-20T00:00:00"
         ],
         "y": [
          135.27000427246094,
          137.8699951171875
         ]
        },
        {
         "line": {
          "color": "red",
          "width": 2
         },
         "mode": "lines",
         "name": "Price",
         "showlegend": false,
         "type": "scatter",
         "x": [
          "2023-01-20T00:00:00",
          "2023-01-23T00:00:00"
         ],
         "y": [
          137.8699951171875,
          141.11000061035156
         ]
        },
        {
         "line": {
          "color": "green",
          "width": 2
         },
         "mode": "lines",
         "name": "Price",
         "showlegend": false,
         "type": "scatter",
         "x": [
          "2023-01-23T00:00:00",
          "2023-01-24T00:00:00"
         ],
         "y": [
          141.11000061035156,
          142.52999877929688
         ]
        },
        {
         "line": {
          "color": "red",
          "width": 2
         },
         "mode": "lines",
         "name": "Price",
         "showlegend": false,
         "type": "scatter",
         "x": [
          "2023-01-24T00:00:00",
          "2023-01-25T00:00:00"
         ],
         "y": [
          142.52999877929688,
          141.86000061035156
         ]
        },
        {
         "line": {
          "color": "red",
          "width": 2
         },
         "mode": "lines",
         "name": "Price",
         "showlegend": false,
         "type": "scatter",
         "x": [
          "2023-01-25T00:00:00",
          "2023-01-26T00:00:00"
         ],
         "y": [
          141.86000061035156,
          143.9600067138672
         ]
        },
        {
         "line": {
          "color": "red",
          "width": 2
         },
         "mode": "lines",
         "name": "Price",
         "showlegend": false,
         "type": "scatter",
         "x": [
          "2023-01-26T00:00:00",
          "2023-01-27T00:00:00"
         ],
         "y": [
          143.9600067138672,
          145.92999267578125
         ]
        },
        {
         "line": {
          "color": "green",
          "width": 2
         },
         "mode": "lines",
         "name": "Price",
         "showlegend": false,
         "type": "scatter",
         "x": [
          "2023-01-27T00:00:00",
          "2023-01-30T00:00:00"
         ],
         "y": [
          145.92999267578125,
          143
         ]
        },
        {
         "line": {
          "color": "red",
          "width": 2
         },
         "mode": "lines",
         "name": "Price",
         "showlegend": false,
         "type": "scatter",
         "x": [
          "2023-01-30T00:00:00",
          "2023-01-31T00:00:00"
         ],
         "y": [
          143,
          144.2899932861328
         ]
        },
        {
         "line": {
          "color": "green",
          "width": 2
         },
         "mode": "lines",
         "name": "Price",
         "showlegend": false,
         "type": "scatter",
         "x": [
          "2023-01-31T00:00:00",
          "2023-02-01T00:00:00"
         ],
         "y": [
          144.2899932861328,
          145.42999267578125
         ]
        },
        {
         "line": {
          "color": "green",
          "width": 2
         },
         "mode": "lines",
         "name": "Price",
         "showlegend": false,
         "type": "scatter",
         "x": [
          "2023-02-01T00:00:00",
          "2023-02-02T00:00:00"
         ],
         "y": [
          145.42999267578125,
          150.82000732421875
         ]
        },
        {
         "line": {
          "color": "green",
          "width": 2
         },
         "mode": "lines",
         "name": "Price",
         "showlegend": false,
         "type": "scatter",
         "x": [
          "2023-02-02T00:00:00",
          "2023-02-03T00:00:00"
         ],
         "y": [
          150.82000732421875,
          154.5
         ]
        },
        {
         "line": {
          "color": "green",
          "width": 2
         },
         "mode": "lines",
         "name": "Price",
         "showlegend": false,
         "type": "scatter",
         "x": [
          "2023-02-03T00:00:00",
          "2023-02-06T00:00:00"
         ],
         "y": [
          154.5,
          151.72999572753906
         ]
        },
        {
         "line": {
          "color": "green",
          "width": 2
         },
         "mode": "lines",
         "name": "Price",
         "showlegend": false,
         "type": "scatter",
         "x": [
          "2023-02-06T00:00:00",
          "2023-02-07T00:00:00"
         ],
         "y": [
          151.72999572753906,
          154.64999389648438
         ]
        },
        {
         "line": {
          "color": "green",
          "width": 2
         },
         "mode": "lines",
         "name": "Price",
         "showlegend": false,
         "type": "scatter",
         "x": [
          "2023-02-07T00:00:00",
          "2023-02-08T00:00:00"
         ],
         "y": [
          154.64999389648438,
          151.9199981689453
         ]
        },
        {
         "line": {
          "color": "green",
          "width": 2
         },
         "mode": "lines",
         "name": "Price",
         "showlegend": false,
         "type": "scatter",
         "x": [
          "2023-02-08T00:00:00",
          "2023-02-09T00:00:00"
         ],
         "y": [
          151.9199981689453,
          150.8699951171875
         ]
        },
        {
         "line": {
          "color": "green",
          "width": 2
         },
         "mode": "lines",
         "name": "Price",
         "showlegend": false,
         "type": "scatter",
         "x": [
          "2023-02-09T00:00:00",
          "2023-02-10T00:00:00"
         ],
         "y": [
          150.8699951171875,
          151.00999450683594
         ]
        },
        {
         "line": {
          "color": "green",
          "width": 2
         },
         "mode": "lines",
         "name": "Price",
         "showlegend": false,
         "type": "scatter",
         "x": [
          "2023-02-10T00:00:00",
          "2023-02-13T00:00:00"
         ],
         "y": [
          151.00999450683594,
          153.85000610351562
         ]
        },
        {
         "line": {
          "color": "green",
          "width": 2
         },
         "mode": "lines",
         "name": "Price",
         "showlegend": false,
         "type": "scatter",
         "x": [
          "2023-02-13T00:00:00",
          "2023-02-14T00:00:00"
         ],
         "y": [
          153.85000610351562,
          153.1999969482422
         ]
        },
        {
         "line": {
          "color": "green",
          "width": 2
         },
         "mode": "lines",
         "name": "Price",
         "showlegend": false,
         "type": "scatter",
         "x": [
          "2023-02-14T00:00:00",
          "2023-02-15T00:00:00"
         ],
         "y": [
          153.1999969482422,
          155.3300018310547
         ]
        },
        {
         "line": {
          "color": "green",
          "width": 2
         },
         "mode": "lines",
         "name": "Price",
         "showlegend": false,
         "type": "scatter",
         "x": [
          "2023-02-15T00:00:00",
          "2023-02-16T00:00:00"
         ],
         "y": [
          155.3300018310547,
          153.7100067138672
         ]
        },
        {
         "line": {
          "color": "green",
          "width": 2
         },
         "mode": "lines",
         "name": "Price",
         "showlegend": false,
         "type": "scatter",
         "x": [
          "2023-02-16T00:00:00",
          "2023-02-17T00:00:00"
         ],
         "y": [
          153.7100067138672,
          152.5500030517578
         ]
        },
        {
         "line": {
          "color": "green",
          "width": 2
         },
         "mode": "lines",
         "name": "Price",
         "showlegend": false,
         "type": "scatter",
         "x": [
          "2023-02-17T00:00:00",
          "2023-02-21T00:00:00"
         ],
         "y": [
          152.5500030517578,
          148.47999572753906
         ]
        },
        {
         "line": {
          "color": "green",
          "width": 2
         },
         "mode": "lines",
         "name": "Price",
         "showlegend": false,
         "type": "scatter",
         "x": [
          "2023-02-21T00:00:00",
          "2023-02-22T00:00:00"
         ],
         "y": [
          148.47999572753906,
          148.91000366210938
         ]
        },
        {
         "line": {
          "color": "green",
          "width": 2
         },
         "mode": "lines",
         "name": "Price",
         "showlegend": false,
         "type": "scatter",
         "x": [
          "2023-02-22T00:00:00",
          "2023-02-23T00:00:00"
         ],
         "y": [
          148.91000366210938,
          149.39999389648438
         ]
        },
        {
         "line": {
          "color": "green",
          "width": 2
         },
         "mode": "lines",
         "name": "Price",
         "showlegend": false,
         "type": "scatter",
         "x": [
          "2023-02-23T00:00:00",
          "2023-02-24T00:00:00"
         ],
         "y": [
          149.39999389648438,
          146.7100067138672
         ]
        },
        {
         "line": {
          "color": "green",
          "width": 2
         },
         "mode": "lines",
         "name": "Price",
         "showlegend": false,
         "type": "scatter",
         "x": [
          "2023-02-24T00:00:00",
          "2023-02-27T00:00:00"
         ],
         "y": [
          146.7100067138672,
          147.9199981689453
         ]
        },
        {
         "line": {
          "color": "green",
          "width": 2
         },
         "mode": "lines",
         "name": "Price",
         "showlegend": false,
         "type": "scatter",
         "x": [
          "2023-02-27T00:00:00",
          "2023-02-28T00:00:00"
         ],
         "y": [
          147.9199981689453,
          147.41000366210938
         ]
        },
        {
         "line": {
          "color": "green",
          "width": 2
         },
         "mode": "lines",
         "name": "Price",
         "showlegend": false,
         "type": "scatter",
         "x": [
          "2023-02-28T00:00:00",
          "2023-03-01T00:00:00"
         ],
         "y": [
          147.41000366210938,
          145.30999755859375
         ]
        },
        {
         "line": {
          "color": "green",
          "width": 2
         },
         "mode": "lines",
         "name": "Price",
         "showlegend": false,
         "type": "scatter",
         "x": [
          "2023-03-01T00:00:00",
          "2023-03-02T00:00:00"
         ],
         "y": [
          145.30999755859375,
          145.91000366210938
         ]
        },
        {
         "line": {
          "color": "green",
          "width": 2
         },
         "mode": "lines",
         "name": "Price",
         "showlegend": false,
         "type": "scatter",
         "x": [
          "2023-03-02T00:00:00",
          "2023-03-03T00:00:00"
         ],
         "y": [
          145.91000366210938,
          151.02999877929688
         ]
        },
        {
         "line": {
          "color": "green",
          "width": 2
         },
         "mode": "lines",
         "name": "Price",
         "showlegend": false,
         "type": "scatter",
         "x": [
          "2023-03-03T00:00:00",
          "2023-03-06T00:00:00"
         ],
         "y": [
          151.02999877929688,
          153.8300018310547
         ]
        },
        {
         "line": {
          "color": "green",
          "width": 2
         },
         "mode": "lines",
         "name": "Price",
         "showlegend": false,
         "type": "scatter",
         "x": [
          "2023-03-06T00:00:00",
          "2023-03-07T00:00:00"
         ],
         "y": [
          153.8300018310547,
          151.60000610351562
         ]
        },
        {
         "line": {
          "color": "green",
          "width": 2
         },
         "mode": "lines",
         "name": "Price",
         "showlegend": false,
         "type": "scatter",
         "x": [
          "2023-03-07T00:00:00",
          "2023-03-08T00:00:00"
         ],
         "y": [
          151.60000610351562,
          152.8699951171875
         ]
        },
        {
         "line": {
          "color": "green",
          "width": 2
         },
         "mode": "lines",
         "name": "Price",
         "showlegend": false,
         "type": "scatter",
         "x": [
          "2023-03-08T00:00:00",
          "2023-03-09T00:00:00"
         ],
         "y": [
          152.8699951171875,
          150.58999633789062
         ]
        },
        {
         "line": {
          "color": "green",
          "width": 2
         },
         "mode": "lines",
         "name": "Price",
         "showlegend": false,
         "type": "scatter",
         "x": [
          "2023-03-09T00:00:00",
          "2023-03-10T00:00:00"
         ],
         "y": [
          150.58999633789062,
          148.5
         ]
        },
        {
         "line": {
          "color": "green",
          "width": 2
         },
         "mode": "lines",
         "name": "Price",
         "showlegend": false,
         "type": "scatter",
         "x": [
          "2023-03-10T00:00:00",
          "2023-03-13T00:00:00"
         ],
         "y": [
          148.5,
          150.47000122070312
         ]
        },
        {
         "line": {
          "color": "green",
          "width": 2
         },
         "mode": "lines",
         "name": "Price",
         "showlegend": false,
         "type": "scatter",
         "x": [
          "2023-03-13T00:00:00",
          "2023-03-14T00:00:00"
         ],
         "y": [
          150.47000122070312,
          152.58999633789062
         ]
        },
        {
         "line": {
          "color": "green",
          "width": 2
         },
         "mode": "lines",
         "name": "Price",
         "showlegend": false,
         "type": "scatter",
         "x": [
          "2023-03-14T00:00:00",
          "2023-03-15T00:00:00"
         ],
         "y": [
          152.58999633789062,
          152.99000549316406
         ]
        },
        {
         "line": {
          "color": "green",
          "width": 2
         },
         "mode": "lines",
         "name": "Price",
         "showlegend": false,
         "type": "scatter",
         "x": [
          "2023-03-15T00:00:00",
          "2023-03-16T00:00:00"
         ],
         "y": [
          152.99000549316406,
          155.85000610351562
         ]
        },
        {
         "line": {
          "color": "green",
          "width": 2
         },
         "mode": "lines",
         "name": "Price",
         "showlegend": false,
         "type": "scatter",
         "x": [
          "2023-03-16T00:00:00",
          "2023-03-17T00:00:00"
         ],
         "y": [
          155.85000610351562,
          155
         ]
        },
        {
         "line": {
          "color": "green",
          "width": 2
         },
         "mode": "lines",
         "name": "Price",
         "showlegend": false,
         "type": "scatter",
         "x": [
          "2023-03-17T00:00:00",
          "2023-03-20T00:00:00"
         ],
         "y": [
          155,
          157.39999389648438
         ]
        },
        {
         "line": {
          "color": "green",
          "width": 2
         },
         "mode": "lines",
         "name": "Price",
         "showlegend": false,
         "type": "scatter",
         "x": [
          "2023-03-20T00:00:00",
          "2023-03-21T00:00:00"
         ],
         "y": [
          157.39999389648438,
          159.27999877929688
         ]
        },
        {
         "line": {
          "color": "green",
          "width": 2
         },
         "mode": "lines",
         "name": "Price",
         "showlegend": false,
         "type": "scatter",
         "x": [
          "2023-03-21T00:00:00",
          "2023-03-22T00:00:00"
         ],
         "y": [
          159.27999877929688,
          157.8300018310547
         ]
        },
        {
         "line": {
          "color": "green",
          "width": 2
         },
         "mode": "lines",
         "name": "Price",
         "showlegend": false,
         "type": "scatter",
         "x": [
          "2023-03-22T00:00:00",
          "2023-03-23T00:00:00"
         ],
         "y": [
          157.8300018310547,
          158.92999267578125
         ]
        },
        {
         "line": {
          "color": "green",
          "width": 2
         },
         "mode": "lines",
         "name": "Price",
         "showlegend": false,
         "type": "scatter",
         "x": [
          "2023-03-23T00:00:00",
          "2023-03-24T00:00:00"
         ],
         "y": [
          158.92999267578125,
          160.25
         ]
        },
        {
         "line": {
          "color": "green",
          "width": 2
         },
         "mode": "lines",
         "name": "Price",
         "showlegend": false,
         "type": "scatter",
         "x": [
          "2023-03-24T00:00:00",
          "2023-03-27T00:00:00"
         ],
         "y": [
          160.25,
          158.27999877929688
         ]
        },
        {
         "line": {
          "color": "green",
          "width": 2
         },
         "mode": "lines",
         "name": "Price",
         "showlegend": false,
         "type": "scatter",
         "x": [
          "2023-03-27T00:00:00",
          "2023-03-28T00:00:00"
         ],
         "y": [
          158.27999877929688,
          157.64999389648438
         ]
        },
        {
         "line": {
          "color": "green",
          "width": 2
         },
         "mode": "lines",
         "name": "Price",
         "showlegend": false,
         "type": "scatter",
         "x": [
          "2023-03-28T00:00:00",
          "2023-03-29T00:00:00"
         ],
         "y": [
          157.64999389648438,
          160.77000427246094
         ]
        },
        {
         "line": {
          "color": "green",
          "width": 2
         },
         "mode": "lines",
         "name": "Price",
         "showlegend": false,
         "type": "scatter",
         "x": [
          "2023-03-29T00:00:00",
          "2023-03-30T00:00:00"
         ],
         "y": [
          160.77000427246094,
          162.36000061035156
         ]
        },
        {
         "line": {
          "color": "green",
          "width": 2
         },
         "mode": "lines",
         "name": "Price",
         "showlegend": false,
         "type": "scatter",
         "x": [
          "2023-03-30T00:00:00",
          "2023-03-31T00:00:00"
         ],
         "y": [
          162.36000061035156,
          164.89999389648438
         ]
        },
        {
         "line": {
          "color": "green",
          "width": 2
         },
         "mode": "lines",
         "name": "Price",
         "showlegend": false,
         "type": "scatter",
         "x": [
          "2023-03-31T00:00:00",
          "2023-04-03T00:00:00"
         ],
         "y": [
          164.89999389648438,
          166.1699981689453
         ]
        },
        {
         "line": {
          "color": "green",
          "width": 2
         },
         "mode": "lines",
         "name": "Price",
         "showlegend": false,
         "type": "scatter",
         "x": [
          "2023-04-03T00:00:00",
          "2023-04-04T00:00:00"
         ],
         "y": [
          166.1699981689453,
          165.6300048828125
         ]
        },
        {
         "line": {
          "color": "green",
          "width": 2
         },
         "mode": "lines",
         "name": "Price",
         "showlegend": false,
         "type": "scatter",
         "x": [
          "2023-04-04T00:00:00",
          "2023-04-05T00:00:00"
         ],
         "y": [
          165.6300048828125,
          163.75999450683594
         ]
        },
        {
         "line": {
          "color": "green",
          "width": 2
         },
         "mode": "lines",
         "name": "Price",
         "showlegend": false,
         "type": "scatter",
         "x": [
          "2023-04-05T00:00:00",
          "2023-04-06T00:00:00"
         ],
         "y": [
          163.75999450683594,
          164.66000366210938
         ]
        },
        {
         "line": {
          "color": "green",
          "width": 2
         },
         "mode": "lines",
         "name": "Price",
         "showlegend": false,
         "type": "scatter",
         "x": [
          "2023-04-06T00:00:00",
          "2023-04-10T00:00:00"
         ],
         "y": [
          164.66000366210938,
          162.02999877929688
         ]
        },
        {
         "line": {
          "color": "green",
          "width": 2
         },
         "mode": "lines",
         "name": "Price",
         "showlegend": false,
         "type": "scatter",
         "x": [
          "2023-04-10T00:00:00",
          "2023-04-11T00:00:00"
         ],
         "y": [
          162.02999877929688,
          160.8000030517578
         ]
        },
        {
         "line": {
          "color": "green",
          "width": 2
         },
         "mode": "lines",
         "name": "Price",
         "showlegend": false,
         "type": "scatter",
         "x": [
          "2023-04-11T00:00:00",
          "2023-04-12T00:00:00"
         ],
         "y": [
          160.8000030517578,
          160.10000610351562
         ]
        },
        {
         "line": {
          "color": "green",
          "width": 2
         },
         "mode": "lines",
         "name": "Price",
         "showlegend": false,
         "type": "scatter",
         "x": [
          "2023-04-12T00:00:00",
          "2023-04-13T00:00:00"
         ],
         "y": [
          160.10000610351562,
          165.55999755859375
         ]
        },
        {
         "line": {
          "color": "green",
          "width": 2
         },
         "mode": "lines",
         "name": "Price",
         "showlegend": false,
         "type": "scatter",
         "x": [
          "2023-04-13T00:00:00",
          "2023-04-14T00:00:00"
         ],
         "y": [
          165.55999755859375,
          165.2100067138672
         ]
        },
        {
         "line": {
          "color": "green",
          "width": 2
         },
         "mode": "lines",
         "name": "Price",
         "showlegend": false,
         "type": "scatter",
         "x": [
          "2023-04-14T00:00:00",
          "2023-04-17T00:00:00"
         ],
         "y": [
          165.2100067138672,
          165.22999572753906
         ]
        },
        {
         "line": {
          "color": "green",
          "width": 2
         },
         "mode": "lines",
         "name": "Price",
         "showlegend": false,
         "type": "scatter",
         "x": [
          "2023-04-17T00:00:00",
          "2023-04-18T00:00:00"
         ],
         "y": [
          165.22999572753906,
          166.47000122070312
         ]
        },
        {
         "line": {
          "color": "green",
          "width": 2
         },
         "mode": "lines",
         "name": "Price",
         "showlegend": false,
         "type": "scatter",
         "x": [
          "2023-04-18T00:00:00",
          "2023-04-19T00:00:00"
         ],
         "y": [
          166.47000122070312,
          167.6300048828125
         ]
        },
        {
         "line": {
          "color": "green",
          "width": 2
         },
         "mode": "lines",
         "name": "Price",
         "showlegend": false,
         "type": "scatter",
         "x": [
          "2023-04-19T00:00:00",
          "2023-04-20T00:00:00"
         ],
         "y": [
          167.6300048828125,
          166.64999389648438
         ]
        },
        {
         "line": {
          "color": "green",
          "width": 2
         },
         "mode": "lines",
         "name": "Price",
         "showlegend": false,
         "type": "scatter",
         "x": [
          "2023-04-20T00:00:00",
          "2023-04-21T00:00:00"
         ],
         "y": [
          166.64999389648438,
          165.02000427246094
         ]
        },
        {
         "line": {
          "color": "green",
          "width": 2
         },
         "mode": "lines",
         "name": "Price",
         "showlegend": false,
         "type": "scatter",
         "x": [
          "2023-04-21T00:00:00",
          "2023-04-24T00:00:00"
         ],
         "y": [
          165.02000427246094,
          165.3300018310547
         ]
        },
        {
         "line": {
          "color": "green",
          "width": 2
         },
         "mode": "lines",
         "name": "Price",
         "showlegend": false,
         "type": "scatter",
         "x": [
          "2023-04-24T00:00:00",
          "2023-04-25T00:00:00"
         ],
         "y": [
          165.3300018310547,
          163.77000427246094
         ]
        },
        {
         "line": {
          "color": "green",
          "width": 2
         },
         "mode": "lines",
         "name": "Price",
         "showlegend": false,
         "type": "scatter",
         "x": [
          "2023-04-25T00:00:00",
          "2023-04-26T00:00:00"
         ],
         "y": [
          163.77000427246094,
          163.75999450683594
         ]
        },
        {
         "line": {
          "color": "green",
          "width": 2
         },
         "mode": "lines",
         "name": "Price",
         "showlegend": false,
         "type": "scatter",
         "x": [
          "2023-04-26T00:00:00",
          "2023-04-27T00:00:00"
         ],
         "y": [
          163.75999450683594,
          168.41000366210938
         ]
        },
        {
         "line": {
          "color": "green",
          "width": 2
         },
         "mode": "lines",
         "name": "Price",
         "showlegend": false,
         "type": "scatter",
         "x": [
          "2023-04-27T00:00:00",
          "2023-04-28T00:00:00"
         ],
         "y": [
          168.41000366210938,
          169.67999267578125
         ]
        },
        {
         "line": {
          "color": "green",
          "width": 2
         },
         "mode": "lines",
         "name": "Price",
         "showlegend": false,
         "type": "scatter",
         "x": [
          "2023-04-28T00:00:00",
          "2023-05-01T00:00:00"
         ],
         "y": [
          169.67999267578125,
          169.58999633789062
         ]
        },
        {
         "line": {
          "color": "green",
          "width": 2
         },
         "mode": "lines",
         "name": "Price",
         "showlegend": false,
         "type": "scatter",
         "x": [
          "2023-05-01T00:00:00",
          "2023-05-02T00:00:00"
         ],
         "y": [
          169.58999633789062,
          168.5399932861328
         ]
        },
        {
         "line": {
          "color": "green",
          "width": 2
         },
         "mode": "lines",
         "name": "Price",
         "showlegend": false,
         "type": "scatter",
         "x": [
          "2023-05-02T00:00:00",
          "2023-05-03T00:00:00"
         ],
         "y": [
          168.5399932861328,
          167.4499969482422
         ]
        },
        {
         "line": {
          "color": "green",
          "width": 2
         },
         "mode": "lines",
         "name": "Price",
         "showlegend": false,
         "type": "scatter",
         "x": [
          "2023-05-03T00:00:00",
          "2023-05-04T00:00:00"
         ],
         "y": [
          167.4499969482422,
          165.7899932861328
         ]
        },
        {
         "line": {
          "color": "green",
          "width": 2
         },
         "mode": "lines",
         "name": "Price",
         "showlegend": false,
         "type": "scatter",
         "x": [
          "2023-05-04T00:00:00",
          "2023-05-05T00:00:00"
         ],
         "y": [
          165.7899932861328,
          173.57000732421875
         ]
        },
        {
         "line": {
          "color": "green",
          "width": 2
         },
         "mode": "lines",
         "name": "Price",
         "showlegend": false,
         "type": "scatter",
         "x": [
          "2023-05-05T00:00:00",
          "2023-05-08T00:00:00"
         ],
         "y": [
          173.57000732421875,
          173.5
         ]
        },
        {
         "line": {
          "color": "green",
          "width": 2
         },
         "mode": "lines",
         "name": "Price",
         "showlegend": false,
         "type": "scatter",
         "x": [
          "2023-05-08T00:00:00",
          "2023-05-09T00:00:00"
         ],
         "y": [
          173.5,
          171.77000427246094
         ]
        },
        {
         "line": {
          "color": "green",
          "width": 2
         },
         "mode": "lines",
         "name": "Price",
         "showlegend": false,
         "type": "scatter",
         "x": [
          "2023-05-09T00:00:00",
          "2023-05-10T00:00:00"
         ],
         "y": [
          171.77000427246094,
          173.55999755859375
         ]
        },
        {
         "line": {
          "color": "green",
          "width": 2
         },
         "mode": "lines",
         "name": "Price",
         "showlegend": false,
         "type": "scatter",
         "x": [
          "2023-05-10T00:00:00",
          "2023-05-11T00:00:00"
         ],
         "y": [
          173.55999755859375,
          173.75
         ]
        },
        {
         "line": {
          "color": "green",
          "width": 2
         },
         "mode": "lines",
         "name": "Price",
         "showlegend": false,
         "type": "scatter",
         "x": [
          "2023-05-11T00:00:00",
          "2023-05-12T00:00:00"
         ],
         "y": [
          173.75,
          172.57000732421875
         ]
        },
        {
         "line": {
          "color": "green",
          "width": 2
         },
         "mode": "lines",
         "name": "Price",
         "showlegend": false,
         "type": "scatter",
         "x": [
          "2023-05-12T00:00:00",
          "2023-05-15T00:00:00"
         ],
         "y": [
          172.57000732421875,
          172.07000732421875
         ]
        },
        {
         "line": {
          "color": "green",
          "width": 2
         },
         "mode": "lines",
         "name": "Price",
         "showlegend": false,
         "type": "scatter",
         "x": [
          "2023-05-15T00:00:00",
          "2023-05-16T00:00:00"
         ],
         "y": [
          172.07000732421875,
          172.07000732421875
         ]
        },
        {
         "line": {
          "color": "green",
          "width": 2
         },
         "mode": "lines",
         "name": "Price",
         "showlegend": false,
         "type": "scatter",
         "x": [
          "2023-05-16T00:00:00",
          "2023-05-17T00:00:00"
         ],
         "y": [
          172.07000732421875,
          172.69000244140625
         ]
        },
        {
         "line": {
          "color": "green",
          "width": 2
         },
         "mode": "lines",
         "name": "Price",
         "showlegend": false,
         "type": "scatter",
         "x": [
          "2023-05-17T00:00:00",
          "2023-05-18T00:00:00"
         ],
         "y": [
          172.69000244140625,
          175.0500030517578
         ]
        },
        {
         "line": {
          "color": "green",
          "width": 2
         },
         "mode": "lines",
         "name": "Price",
         "showlegend": false,
         "type": "scatter",
         "x": [
          "2023-05-18T00:00:00",
          "2023-05-19T00:00:00"
         ],
         "y": [
          175.0500030517578,
          175.16000366210938
         ]
        },
        {
         "line": {
          "color": "green",
          "width": 2
         },
         "mode": "lines",
         "name": "Price",
         "showlegend": false,
         "type": "scatter",
         "x": [
          "2023-05-19T00:00:00",
          "2023-05-22T00:00:00"
         ],
         "y": [
          175.16000366210938,
          174.1999969482422
         ]
        },
        {
         "line": {
          "color": "green",
          "width": 2
         },
         "mode": "lines",
         "name": "Price",
         "showlegend": false,
         "type": "scatter",
         "x": [
          "2023-05-22T00:00:00",
          "2023-05-23T00:00:00"
         ],
         "y": [
          174.1999969482422,
          171.55999755859375
         ]
        },
        {
         "line": {
          "color": "green",
          "width": 2
         },
         "mode": "lines",
         "name": "Price",
         "showlegend": false,
         "type": "scatter",
         "x": [
          "2023-05-23T00:00:00",
          "2023-05-24T00:00:00"
         ],
         "y": [
          171.55999755859375,
          171.83999633789062
         ]
        },
        {
         "line": {
          "color": "green",
          "width": 2
         },
         "mode": "lines",
         "name": "Price",
         "showlegend": false,
         "type": "scatter",
         "x": [
          "2023-05-24T00:00:00",
          "2023-05-25T00:00:00"
         ],
         "y": [
          171.83999633789062,
          172.99000549316406
         ]
        },
        {
         "line": {
          "color": "green",
          "width": 2
         },
         "mode": "lines",
         "name": "Price",
         "showlegend": false,
         "type": "scatter",
         "x": [
          "2023-05-25T00:00:00",
          "2023-05-26T00:00:00"
         ],
         "y": [
          172.99000549316406,
          175.42999267578125
         ]
        },
        {
         "line": {
          "color": "green",
          "width": 2
         },
         "mode": "lines",
         "name": "Price",
         "showlegend": false,
         "type": "scatter",
         "x": [
          "2023-05-26T00:00:00",
          "2023-05-30T00:00:00"
         ],
         "y": [
          175.42999267578125,
          177.3000030517578
         ]
        },
        {
         "line": {
          "color": "green",
          "width": 2
         },
         "mode": "lines",
         "name": "Price",
         "showlegend": false,
         "type": "scatter",
         "x": [
          "2023-05-30T00:00:00",
          "2023-05-31T00:00:00"
         ],
         "y": [
          177.3000030517578,
          177.25
         ]
        },
        {
         "line": {
          "color": "green",
          "width": 2
         },
         "mode": "lines",
         "name": "Price",
         "showlegend": false,
         "type": "scatter",
         "x": [
          "2023-05-31T00:00:00",
          "2023-06-01T00:00:00"
         ],
         "y": [
          177.25,
          180.08999633789062
         ]
        },
        {
         "line": {
          "color": "green",
          "width": 2
         },
         "mode": "lines",
         "name": "Price",
         "showlegend": false,
         "type": "scatter",
         "x": [
          "2023-06-01T00:00:00",
          "2023-06-02T00:00:00"
         ],
         "y": [
          180.08999633789062,
          180.9499969482422
         ]
        },
        {
         "line": {
          "color": "green",
          "width": 2
         },
         "mode": "lines",
         "name": "Price",
         "showlegend": false,
         "type": "scatter",
         "x": [
          "2023-06-02T00:00:00",
          "2023-06-05T00:00:00"
         ],
         "y": [
          180.9499969482422,
          179.5800018310547
         ]
        },
        {
         "line": {
          "color": "green",
          "width": 2
         },
         "mode": "lines",
         "name": "Price",
         "showlegend": false,
         "type": "scatter",
         "x": [
          "2023-06-05T00:00:00",
          "2023-06-06T00:00:00"
         ],
         "y": [
          179.5800018310547,
          179.2100067138672
         ]
        },
        {
         "line": {
          "color": "green",
          "width": 2
         },
         "mode": "lines",
         "name": "Price",
         "showlegend": false,
         "type": "scatter",
         "x": [
          "2023-06-06T00:00:00",
          "2023-06-07T00:00:00"
         ],
         "y": [
          179.2100067138672,
          177.82000732421875
         ]
        },
        {
         "line": {
          "color": "green",
          "width": 2
         },
         "mode": "lines",
         "name": "Price",
         "showlegend": false,
         "type": "scatter",
         "x": [
          "2023-06-07T00:00:00",
          "2023-06-08T00:00:00"
         ],
         "y": [
          177.82000732421875,
          180.57000732421875
         ]
        },
        {
         "line": {
          "color": "green",
          "width": 2
         },
         "mode": "lines",
         "name": "Price",
         "showlegend": false,
         "type": "scatter",
         "x": [
          "2023-06-08T00:00:00",
          "2023-06-09T00:00:00"
         ],
         "y": [
          180.57000732421875,
          180.9600067138672
         ]
        },
        {
         "line": {
          "color": "green",
          "width": 2
         },
         "mode": "lines",
         "name": "Price",
         "showlegend": false,
         "type": "scatter",
         "x": [
          "2023-06-09T00:00:00",
          "2023-06-12T00:00:00"
         ],
         "y": [
          180.9600067138672,
          183.7899932861328
         ]
        },
        {
         "line": {
          "color": "green",
          "width": 2
         },
         "mode": "lines",
         "name": "Price",
         "showlegend": false,
         "type": "scatter",
         "x": [
          "2023-06-12T00:00:00",
          "2023-06-13T00:00:00"
         ],
         "y": [
          183.7899932861328,
          183.30999755859375
         ]
        },
        {
         "line": {
          "color": "green",
          "width": 2
         },
         "mode": "lines",
         "name": "Price",
         "showlegend": false,
         "type": "scatter",
         "x": [
          "2023-06-13T00:00:00",
          "2023-06-14T00:00:00"
         ],
         "y": [
          183.30999755859375,
          183.9499969482422
         ]
        },
        {
         "line": {
          "color": "green",
          "width": 2
         },
         "mode": "lines",
         "name": "Price",
         "showlegend": false,
         "type": "scatter",
         "x": [
          "2023-06-14T00:00:00",
          "2023-06-15T00:00:00"
         ],
         "y": [
          183.9499969482422,
          186.00999450683594
         ]
        },
        {
         "line": {
          "color": "green",
          "width": 2
         },
         "mode": "lines",
         "name": "Price",
         "showlegend": false,
         "type": "scatter",
         "x": [
          "2023-06-15T00:00:00",
          "2023-06-16T00:00:00"
         ],
         "y": [
          186.00999450683594,
          184.9199981689453
         ]
        },
        {
         "line": {
          "color": "green",
          "width": 2
         },
         "mode": "lines",
         "name": "Price",
         "showlegend": false,
         "type": "scatter",
         "x": [
          "2023-06-16T00:00:00",
          "2023-06-20T00:00:00"
         ],
         "y": [
          184.9199981689453,
          185.00999450683594
         ]
        },
        {
         "line": {
          "color": "green",
          "width": 2
         },
         "mode": "lines",
         "name": "Price",
         "showlegend": false,
         "type": "scatter",
         "x": [
          "2023-06-20T00:00:00",
          "2023-06-21T00:00:00"
         ],
         "y": [
          185.00999450683594,
          183.9600067138672
         ]
        },
        {
         "line": {
          "color": "green",
          "width": 2
         },
         "mode": "lines",
         "name": "Price",
         "showlegend": false,
         "type": "scatter",
         "x": [
          "2023-06-21T00:00:00",
          "2023-06-22T00:00:00"
         ],
         "y": [
          183.9600067138672,
          187
         ]
        },
        {
         "line": {
          "color": "green",
          "width": 2
         },
         "mode": "lines",
         "name": "Price",
         "showlegend": false,
         "type": "scatter",
         "x": [
          "2023-06-22T00:00:00",
          "2023-06-23T00:00:00"
         ],
         "y": [
          187,
          186.67999267578125
         ]
        },
        {
         "line": {
          "color": "green",
          "width": 2
         },
         "mode": "lines",
         "name": "Price",
         "showlegend": false,
         "type": "scatter",
         "x": [
          "2023-06-23T00:00:00",
          "2023-06-26T00:00:00"
         ],
         "y": [
          186.67999267578125,
          185.27000427246094
         ]
        },
        {
         "line": {
          "color": "green",
          "width": 2
         },
         "mode": "lines",
         "name": "Price",
         "showlegend": false,
         "type": "scatter",
         "x": [
          "2023-06-26T00:00:00",
          "2023-06-27T00:00:00"
         ],
         "y": [
          185.27000427246094,
          188.05999755859375
         ]
        },
        {
         "line": {
          "color": "green",
          "width": 2
         },
         "mode": "lines",
         "name": "Price",
         "showlegend": false,
         "type": "scatter",
         "x": [
          "2023-06-27T00:00:00",
          "2023-06-28T00:00:00"
         ],
         "y": [
          188.05999755859375,
          189.25
         ]
        },
        {
         "line": {
          "color": "green",
          "width": 2
         },
         "mode": "lines",
         "name": "Price",
         "showlegend": false,
         "type": "scatter",
         "x": [
          "2023-06-28T00:00:00",
          "2023-06-29T00:00:00"
         ],
         "y": [
          189.25,
          189.58999633789062
         ]
        },
        {
         "line": {
          "color": "green",
          "width": 2
         },
         "mode": "lines",
         "name": "Price",
         "showlegend": false,
         "type": "scatter",
         "x": [
          "2023-06-29T00:00:00",
          "2023-06-30T00:00:00"
         ],
         "y": [
          189.58999633789062,
          193.97000122070312
         ]
        },
        {
         "line": {
          "color": "green",
          "width": 2
         },
         "mode": "lines",
         "name": "Price",
         "showlegend": false,
         "type": "scatter",
         "x": [
          "2023-06-30T00:00:00",
          "2023-07-03T00:00:00"
         ],
         "y": [
          193.97000122070312,
          192.4600067138672
         ]
        },
        {
         "line": {
          "color": "green",
          "width": 2
         },
         "mode": "lines",
         "name": "Price",
         "showlegend": false,
         "type": "scatter",
         "x": [
          "2023-07-03T00:00:00",
          "2023-07-05T00:00:00"
         ],
         "y": [
          192.4600067138672,
          191.3300018310547
         ]
        },
        {
         "line": {
          "color": "green",
          "width": 2
         },
         "mode": "lines",
         "name": "Price",
         "showlegend": false,
         "type": "scatter",
         "x": [
          "2023-07-05T00:00:00",
          "2023-07-06T00:00:00"
         ],
         "y": [
          191.3300018310547,
          191.80999755859375
         ]
        },
        {
         "line": {
          "color": "green",
          "width": 2
         },
         "mode": "lines",
         "name": "Price",
         "showlegend": false,
         "type": "scatter",
         "x": [
          "2023-07-06T00:00:00",
          "2023-07-07T00:00:00"
         ],
         "y": [
          191.80999755859375,
          190.67999267578125
         ]
        },
        {
         "line": {
          "color": "green",
          "width": 2
         },
         "mode": "lines",
         "name": "Price",
         "showlegend": false,
         "type": "scatter",
         "x": [
          "2023-07-07T00:00:00",
          "2023-07-10T00:00:00"
         ],
         "y": [
          190.67999267578125,
          188.61000061035156
         ]
        },
        {
         "line": {
          "color": "green",
          "width": 2
         },
         "mode": "lines",
         "name": "Price",
         "showlegend": false,
         "type": "scatter",
         "x": [
          "2023-07-10T00:00:00",
          "2023-07-11T00:00:00"
         ],
         "y": [
          188.61000061035156,
          188.0800018310547
         ]
        },
        {
         "line": {
          "color": "green",
          "width": 2
         },
         "mode": "lines",
         "name": "Price",
         "showlegend": false,
         "type": "scatter",
         "x": [
          "2023-07-11T00:00:00",
          "2023-07-12T00:00:00"
         ],
         "y": [
          188.0800018310547,
          189.77000427246094
         ]
        },
        {
         "line": {
          "color": "green",
          "width": 2
         },
         "mode": "lines",
         "name": "Price",
         "showlegend": false,
         "type": "scatter",
         "x": [
          "2023-07-12T00:00:00",
          "2023-07-13T00:00:00"
         ],
         "y": [
          189.77000427246094,
          190.5399932861328
         ]
        },
        {
         "line": {
          "color": "green",
          "width": 2
         },
         "mode": "lines",
         "name": "Price",
         "showlegend": false,
         "type": "scatter",
         "x": [
          "2023-07-13T00:00:00",
          "2023-07-14T00:00:00"
         ],
         "y": [
          190.5399932861328,
          190.69000244140625
         ]
        },
        {
         "line": {
          "color": "green",
          "width": 2
         },
         "mode": "lines",
         "name": "Price",
         "showlegend": false,
         "type": "scatter",
         "x": [
          "2023-07-14T00:00:00",
          "2023-07-17T00:00:00"
         ],
         "y": [
          190.69000244140625,
          193.99000549316406
         ]
        },
        {
         "line": {
          "color": "green",
          "width": 2
         },
         "mode": "lines",
         "name": "Price",
         "showlegend": false,
         "type": "scatter",
         "x": [
          "2023-07-17T00:00:00",
          "2023-07-18T00:00:00"
         ],
         "y": [
          193.99000549316406,
          193.72999572753906
         ]
        },
        {
         "line": {
          "color": "green",
          "width": 2
         },
         "mode": "lines",
         "name": "Price",
         "showlegend": false,
         "type": "scatter",
         "x": [
          "2023-07-18T00:00:00",
          "2023-07-19T00:00:00"
         ],
         "y": [
          193.72999572753906,
          195.10000610351562
         ]
        },
        {
         "line": {
          "color": "green",
          "width": 2
         },
         "mode": "lines",
         "name": "Price",
         "showlegend": false,
         "type": "scatter",
         "x": [
          "2023-07-19T00:00:00",
          "2023-07-20T00:00:00"
         ],
         "y": [
          195.10000610351562,
          193.1300048828125
         ]
        },
        {
         "line": {
          "color": "green",
          "width": 2
         },
         "mode": "lines",
         "name": "Price",
         "showlegend": false,
         "type": "scatter",
         "x": [
          "2023-07-20T00:00:00",
          "2023-07-21T00:00:00"
         ],
         "y": [
          193.1300048828125,
          191.94000244140625
         ]
        },
        {
         "line": {
          "color": "green",
          "width": 2
         },
         "mode": "lines",
         "name": "Price",
         "showlegend": false,
         "type": "scatter",
         "x": [
          "2023-07-21T00:00:00",
          "2023-07-24T00:00:00"
         ],
         "y": [
          191.94000244140625,
          192.75
         ]
        },
        {
         "line": {
          "color": "green",
          "width": 2
         },
         "mode": "lines",
         "name": "Price",
         "showlegend": false,
         "type": "scatter",
         "x": [
          "2023-07-24T00:00:00",
          "2023-07-25T00:00:00"
         ],
         "y": [
          192.75,
          193.6199951171875
         ]
        },
        {
         "line": {
          "color": "green",
          "width": 2
         },
         "mode": "lines",
         "name": "Price",
         "showlegend": false,
         "type": "scatter",
         "x": [
          "2023-07-25T00:00:00",
          "2023-07-26T00:00:00"
         ],
         "y": [
          193.6199951171875,
          194.5
         ]
        },
        {
         "line": {
          "color": "green",
          "width": 2
         },
         "mode": "lines",
         "name": "Price",
         "showlegend": false,
         "type": "scatter",
         "x": [
          "2023-07-26T00:00:00",
          "2023-07-27T00:00:00"
         ],
         "y": [
          194.5,
          193.22000122070312
         ]
        },
        {
         "line": {
          "color": "green",
          "width": 2
         },
         "mode": "lines",
         "name": "Price",
         "showlegend": false,
         "type": "scatter",
         "x": [
          "2023-07-27T00:00:00",
          "2023-07-28T00:00:00"
         ],
         "y": [
          193.22000122070312,
          195.8300018310547
         ]
        },
        {
         "line": {
          "color": "green",
          "width": 2
         },
         "mode": "lines",
         "name": "Price",
         "showlegend": false,
         "type": "scatter",
         "x": [
          "2023-07-28T00:00:00",
          "2023-07-31T00:00:00"
         ],
         "y": [
          195.8300018310547,
          196.4499969482422
         ]
        },
        {
         "line": {
          "color": "green",
          "width": 2
         },
         "mode": "lines",
         "name": "Price",
         "showlegend": false,
         "type": "scatter",
         "x": [
          "2023-07-31T00:00:00",
          "2023-08-01T00:00:00"
         ],
         "y": [
          196.4499969482422,
          195.61000061035156
         ]
        },
        {
         "line": {
          "color": "green",
          "width": 2
         },
         "mode": "lines",
         "name": "Price",
         "showlegend": false,
         "type": "scatter",
         "x": [
          "2023-08-01T00:00:00",
          "2023-08-02T00:00:00"
         ],
         "y": [
          195.61000061035156,
          192.5800018310547
         ]
        },
        {
         "line": {
          "color": "green",
          "width": 2
         },
         "mode": "lines",
         "name": "Price",
         "showlegend": false,
         "type": "scatter",
         "x": [
          "2023-08-02T00:00:00",
          "2023-08-03T00:00:00"
         ],
         "y": [
          192.5800018310547,
          191.1699981689453
         ]
        },
        {
         "line": {
          "color": "green",
          "width": 2
         },
         "mode": "lines",
         "name": "Price",
         "showlegend": false,
         "type": "scatter",
         "x": [
          "2023-08-03T00:00:00",
          "2023-08-04T00:00:00"
         ],
         "y": [
          191.1699981689453,
          181.99000549316406
         ]
        },
        {
         "line": {
          "color": "red",
          "width": 2
         },
         "mode": "lines",
         "name": "Price",
         "showlegend": false,
         "type": "scatter",
         "x": [
          "2023-08-04T00:00:00",
          "2023-08-07T00:00:00"
         ],
         "y": [
          181.99000549316406,
          178.85000610351562
         ]
        },
        {
         "line": {
          "color": "red",
          "width": 2
         },
         "mode": "lines",
         "name": "Price",
         "showlegend": false,
         "type": "scatter",
         "x": [
          "2023-08-07T00:00:00",
          "2023-08-08T00:00:00"
         ],
         "y": [
          178.85000610351562,
          179.8000030517578
         ]
        },
        {
         "line": {
          "color": "red",
          "width": 2
         },
         "mode": "lines",
         "name": "Price",
         "showlegend": false,
         "type": "scatter",
         "x": [
          "2023-08-08T00:00:00",
          "2023-08-09T00:00:00"
         ],
         "y": [
          179.8000030517578,
          178.19000244140625
         ]
        },
        {
         "line": {
          "color": "red",
          "width": 2
         },
         "mode": "lines",
         "name": "Price",
         "showlegend": false,
         "type": "scatter",
         "x": [
          "2023-08-09T00:00:00",
          "2023-08-10T00:00:00"
         ],
         "y": [
          178.19000244140625,
          177.97000122070312
         ]
        },
        {
         "line": {
          "color": "red",
          "width": 2
         },
         "mode": "lines",
         "name": "Price",
         "showlegend": false,
         "type": "scatter",
         "x": [
          "2023-08-10T00:00:00",
          "2023-08-11T00:00:00"
         ],
         "y": [
          177.97000122070312,
          177.7899932861328
         ]
        },
        {
         "line": {
          "color": "red",
          "width": 2
         },
         "mode": "lines",
         "name": "Price",
         "showlegend": false,
         "type": "scatter",
         "x": [
          "2023-08-11T00:00:00",
          "2023-08-14T00:00:00"
         ],
         "y": [
          177.7899932861328,
          179.4600067138672
         ]
        },
        {
         "line": {
          "color": "red",
          "width": 2
         },
         "mode": "lines",
         "name": "Price",
         "showlegend": false,
         "type": "scatter",
         "x": [
          "2023-08-14T00:00:00",
          "2023-08-15T00:00:00"
         ],
         "y": [
          179.4600067138672,
          177.4499969482422
         ]
        },
        {
         "line": {
          "color": "red",
          "width": 2
         },
         "mode": "lines",
         "name": "Price",
         "showlegend": false,
         "type": "scatter",
         "x": [
          "2023-08-15T00:00:00",
          "2023-08-16T00:00:00"
         ],
         "y": [
          177.4499969482422,
          176.57000732421875
         ]
        },
        {
         "line": {
          "color": "red",
          "width": 2
         },
         "mode": "lines",
         "name": "Price",
         "showlegend": false,
         "type": "scatter",
         "x": [
          "2023-08-16T00:00:00",
          "2023-08-17T00:00:00"
         ],
         "y": [
          176.57000732421875,
          174
         ]
        },
        {
         "line": {
          "color": "red",
          "width": 2
         },
         "mode": "lines",
         "name": "Price",
         "showlegend": false,
         "type": "scatter",
         "x": [
          "2023-08-17T00:00:00",
          "2023-08-18T00:00:00"
         ],
         "y": [
          174,
          174.49000549316406
         ]
        },
        {
         "line": {
          "color": "red",
          "width": 2
         },
         "mode": "lines",
         "name": "Price",
         "showlegend": false,
         "type": "scatter",
         "x": [
          "2023-08-18T00:00:00",
          "2023-08-21T00:00:00"
         ],
         "y": [
          174.49000549316406,
          175.83999633789062
         ]
        },
        {
         "line": {
          "color": "red",
          "width": 2
         },
         "mode": "lines",
         "name": "Price",
         "showlegend": false,
         "type": "scatter",
         "x": [
          "2023-08-21T00:00:00",
          "2023-08-22T00:00:00"
         ],
         "y": [
          175.83999633789062,
          177.22999572753906
         ]
        },
        {
         "line": {
          "color": "red",
          "width": 2
         },
         "mode": "lines",
         "name": "Price",
         "showlegend": false,
         "type": "scatter",
         "x": [
          "2023-08-22T00:00:00",
          "2023-08-23T00:00:00"
         ],
         "y": [
          177.22999572753906,
          181.1199951171875
         ]
        },
        {
         "line": {
          "color": "red",
          "width": 2
         },
         "mode": "lines",
         "name": "Price",
         "showlegend": false,
         "type": "scatter",
         "x": [
          "2023-08-23T00:00:00",
          "2023-08-24T00:00:00"
         ],
         "y": [
          181.1199951171875,
          176.3800048828125
         ]
        },
        {
         "line": {
          "color": "red",
          "width": 2
         },
         "mode": "lines",
         "name": "Price",
         "showlegend": false,
         "type": "scatter",
         "x": [
          "2023-08-24T00:00:00",
          "2023-08-25T00:00:00"
         ],
         "y": [
          176.3800048828125,
          178.61000061035156
         ]
        },
        {
         "line": {
          "color": "red",
          "width": 2
         },
         "mode": "lines",
         "name": "Price",
         "showlegend": false,
         "type": "scatter",
         "x": [
          "2023-08-25T00:00:00",
          "2023-08-28T00:00:00"
         ],
         "y": [
          178.61000061035156,
          180.19000244140625
         ]
        },
        {
         "line": {
          "color": "red",
          "width": 2
         },
         "mode": "lines",
         "name": "Price",
         "showlegend": false,
         "type": "scatter",
         "x": [
          "2023-08-28T00:00:00",
          "2023-08-29T00:00:00"
         ],
         "y": [
          180.19000244140625,
          184.1199951171875
         ]
        },
        {
         "line": {
          "color": "red",
          "width": 2
         },
         "mode": "lines",
         "name": "Price",
         "showlegend": false,
         "type": "scatter",
         "x": [
          "2023-08-29T00:00:00",
          "2023-08-30T00:00:00"
         ],
         "y": [
          184.1199951171875,
          187.64999389648438
         ]
        },
        {
         "line": {
          "color": "red",
          "width": 2
         },
         "mode": "lines",
         "name": "Price",
         "showlegend": false,
         "type": "scatter",
         "x": [
          "2023-08-30T00:00:00",
          "2023-08-31T00:00:00"
         ],
         "y": [
          187.64999389648438,
          187.8699951171875
         ]
        },
        {
         "line": {
          "color": "red",
          "width": 2
         },
         "mode": "lines",
         "name": "Price",
         "showlegend": false,
         "type": "scatter",
         "x": [
          "2023-08-31T00:00:00",
          "2023-09-01T00:00:00"
         ],
         "y": [
          187.8699951171875,
          189.4600067138672
         ]
        },
        {
         "line": {
          "color": "red",
          "width": 2
         },
         "mode": "lines",
         "name": "Price",
         "showlegend": false,
         "type": "scatter",
         "x": [
          "2023-09-01T00:00:00",
          "2023-09-05T00:00:00"
         ],
         "y": [
          189.4600067138672,
          189.6999969482422
         ]
        },
        {
         "line": {
          "color": "red",
          "width": 2
         },
         "mode": "lines",
         "name": "Price",
         "showlegend": false,
         "type": "scatter",
         "x": [
          "2023-09-05T00:00:00",
          "2023-09-06T00:00:00"
         ],
         "y": [
          189.6999969482422,
          182.91000366210938
         ]
        },
        {
         "line": {
          "color": "red",
          "width": 2
         },
         "mode": "lines",
         "name": "Price",
         "showlegend": false,
         "type": "scatter",
         "x": [
          "2023-09-06T00:00:00",
          "2023-09-07T00:00:00"
         ],
         "y": [
          182.91000366210938,
          177.55999755859375
         ]
        },
        {
         "line": {
          "color": "red",
          "width": 2
         },
         "mode": "lines",
         "name": "Price",
         "showlegend": false,
         "type": "scatter",
         "x": [
          "2023-09-07T00:00:00",
          "2023-09-08T00:00:00"
         ],
         "y": [
          177.55999755859375,
          178.17999267578125
         ]
        },
        {
         "line": {
          "color": "red",
          "width": 2
         },
         "mode": "lines",
         "name": "Price",
         "showlegend": false,
         "type": "scatter",
         "x": [
          "2023-09-08T00:00:00",
          "2023-09-11T00:00:00"
         ],
         "y": [
          178.17999267578125,
          179.36000061035156
         ]
        },
        {
         "line": {
          "color": "red",
          "width": 2
         },
         "mode": "lines",
         "name": "Price",
         "showlegend": false,
         "type": "scatter",
         "x": [
          "2023-09-11T00:00:00",
          "2023-09-12T00:00:00"
         ],
         "y": [
          179.36000061035156,
          176.3000030517578
         ]
        },
        {
         "line": {
          "color": "red",
          "width": 2
         },
         "mode": "lines",
         "name": "Price",
         "showlegend": false,
         "type": "scatter",
         "x": [
          "2023-09-12T00:00:00",
          "2023-09-13T00:00:00"
         ],
         "y": [
          176.3000030517578,
          174.2100067138672
         ]
        },
        {
         "line": {
          "color": "red",
          "width": 2
         },
         "mode": "lines",
         "name": "Price",
         "showlegend": false,
         "type": "scatter",
         "x": [
          "2023-09-13T00:00:00",
          "2023-09-14T00:00:00"
         ],
         "y": [
          174.2100067138672,
          175.74000549316406
         ]
        },
        {
         "line": {
          "color": "red",
          "width": 2
         },
         "mode": "lines",
         "name": "Price",
         "showlegend": false,
         "type": "scatter",
         "x": [
          "2023-09-14T00:00:00",
          "2023-09-15T00:00:00"
         ],
         "y": [
          175.74000549316406,
          175.00999450683594
         ]
        },
        {
         "line": {
          "color": "red",
          "width": 2
         },
         "mode": "lines",
         "name": "Price",
         "showlegend": false,
         "type": "scatter",
         "x": [
          "2023-09-15T00:00:00",
          "2023-09-18T00:00:00"
         ],
         "y": [
          175.00999450683594,
          177.97000122070312
         ]
        },
        {
         "line": {
          "color": "red",
          "width": 2
         },
         "mode": "lines",
         "name": "Price",
         "showlegend": false,
         "type": "scatter",
         "x": [
          "2023-09-18T00:00:00",
          "2023-09-19T00:00:00"
         ],
         "y": [
          177.97000122070312,
          179.07000732421875
         ]
        },
        {
         "line": {
          "color": "green",
          "width": 2
         },
         "mode": "lines",
         "name": "Price",
         "showlegend": false,
         "type": "scatter",
         "x": [
          "2023-09-19T00:00:00",
          "2023-09-20T00:00:00"
         ],
         "y": [
          179.07000732421875,
          175.49000549316406
         ]
        },
        {
         "line": {
          "color": "red",
          "width": 2
         },
         "mode": "lines",
         "name": "Price",
         "showlegend": false,
         "type": "scatter",
         "x": [
          "2023-09-20T00:00:00",
          "2023-09-21T00:00:00"
         ],
         "y": [
          175.49000549316406,
          173.92999267578125
         ]
        },
        {
         "line": {
          "color": "red",
          "width": 2
         },
         "mode": "lines",
         "name": "Price",
         "showlegend": false,
         "type": "scatter",
         "x": [
          "2023-09-21T00:00:00",
          "2023-09-22T00:00:00"
         ],
         "y": [
          173.92999267578125,
          174.7899932861328
         ]
        },
        {
         "line": {
          "color": "red",
          "width": 2
         },
         "mode": "lines",
         "name": "Price",
         "showlegend": false,
         "type": "scatter",
         "x": [
          "2023-09-22T00:00:00",
          "2023-09-25T00:00:00"
         ],
         "y": [
          174.7899932861328,
          176.0800018310547
         ]
        },
        {
         "line": {
          "color": "red",
          "width": 2
         },
         "mode": "lines",
         "name": "Price",
         "showlegend": false,
         "type": "scatter",
         "x": [
          "2023-09-25T00:00:00",
          "2023-09-26T00:00:00"
         ],
         "y": [
          176.0800018310547,
          171.9600067138672
         ]
        },
        {
         "line": {
          "color": "red",
          "width": 2
         },
         "mode": "lines",
         "name": "Price",
         "showlegend": false,
         "type": "scatter",
         "x": [
          "2023-09-26T00:00:00",
          "2023-09-27T00:00:00"
         ],
         "y": [
          171.9600067138672,
          170.42999267578125
         ]
        },
        {
         "line": {
          "color": "red",
          "width": 2
         },
         "mode": "lines",
         "name": "Price",
         "showlegend": false,
         "type": "scatter",
         "x": [
          "2023-09-27T00:00:00",
          "2023-09-28T00:00:00"
         ],
         "y": [
          170.42999267578125,
          170.69000244140625
         ]
        },
        {
         "line": {
          "color": "red",
          "width": 2
         },
         "mode": "lines",
         "name": "Price",
         "showlegend": false,
         "type": "scatter",
         "x": [
          "2023-09-28T00:00:00",
          "2023-09-29T00:00:00"
         ],
         "y": [
          170.69000244140625,
          171.2100067138672
         ]
        },
        {
         "line": {
          "color": "red",
          "width": 2
         },
         "mode": "lines",
         "name": "Price",
         "showlegend": false,
         "type": "scatter",
         "x": [
          "2023-09-29T00:00:00",
          "2023-10-02T00:00:00"
         ],
         "y": [
          171.2100067138672,
          173.75
         ]
        },
        {
         "line": {
          "color": "red",
          "width": 2
         },
         "mode": "lines",
         "name": "Price",
         "showlegend": false,
         "type": "scatter",
         "x": [
          "2023-10-02T00:00:00",
          "2023-10-03T00:00:00"
         ],
         "y": [
          173.75,
          172.39999389648438
         ]
        },
        {
         "line": {
          "color": "red",
          "width": 2
         },
         "mode": "lines",
         "name": "Price",
         "showlegend": false,
         "type": "scatter",
         "x": [
          "2023-10-03T00:00:00",
          "2023-10-04T00:00:00"
         ],
         "y": [
          172.39999389648438,
          173.66000366210938
         ]
        },
        {
         "line": {
          "color": "red",
          "width": 2
         },
         "mode": "lines",
         "name": "Price",
         "showlegend": false,
         "type": "scatter",
         "x": [
          "2023-10-04T00:00:00",
          "2023-10-05T00:00:00"
         ],
         "y": [
          173.66000366210938,
          174.91000366210938
         ]
        },
        {
         "line": {
          "color": "red",
          "width": 2
         },
         "mode": "lines",
         "name": "Price",
         "showlegend": false,
         "type": "scatter",
         "x": [
          "2023-10-05T00:00:00",
          "2023-10-06T00:00:00"
         ],
         "y": [
          174.91000366210938,
          177.49000549316406
         ]
        },
        {
         "line": {
          "color": "green",
          "width": 2
         },
         "mode": "lines",
         "name": "Price",
         "showlegend": false,
         "type": "scatter",
         "x": [
          "2023-10-06T00:00:00",
          "2023-10-09T00:00:00"
         ],
         "y": [
          177.49000549316406,
          178.99000549316406
         ]
        },
        {
         "line": {
          "color": "green",
          "width": 2
         },
         "mode": "lines",
         "name": "Price",
         "showlegend": false,
         "type": "scatter",
         "x": [
          "2023-10-09T00:00:00",
          "2023-10-10T00:00:00"
         ],
         "y": [
          178.99000549316406,
          178.38999938964844
         ]
        },
        {
         "line": {
          "color": "red",
          "width": 2
         },
         "mode": "lines",
         "name": "Price",
         "showlegend": false,
         "type": "scatter",
         "x": [
          "2023-10-10T00:00:00",
          "2023-10-11T00:00:00"
         ],
         "y": [
          178.38999938964844,
          179.8000030517578
         ]
        },
        {
         "line": {
          "color": "red",
          "width": 2
         },
         "mode": "lines",
         "name": "Price",
         "showlegend": false,
         "type": "scatter",
         "x": [
          "2023-10-11T00:00:00",
          "2023-10-12T00:00:00"
         ],
         "y": [
          179.8000030517578,
          180.7100067138672
         ]
        },
        {
         "line": {
          "color": "red",
          "width": 2
         },
         "mode": "lines",
         "name": "Price",
         "showlegend": false,
         "type": "scatter",
         "x": [
          "2023-10-12T00:00:00",
          "2023-10-13T00:00:00"
         ],
         "y": [
          180.7100067138672,
          178.85000610351562
         ]
        },
        {
         "line": {
          "color": "red",
          "width": 2
         },
         "mode": "lines",
         "name": "Price",
         "showlegend": false,
         "type": "scatter",
         "x": [
          "2023-10-13T00:00:00",
          "2023-10-16T00:00:00"
         ],
         "y": [
          178.85000610351562,
          178.72000122070312
         ]
        },
        {
         "line": {
          "color": "red",
          "width": 2
         },
         "mode": "lines",
         "name": "Price",
         "showlegend": false,
         "type": "scatter",
         "x": [
          "2023-10-16T00:00:00",
          "2023-10-17T00:00:00"
         ],
         "y": [
          178.72000122070312,
          177.14999389648438
         ]
        },
        {
         "line": {
          "color": "red",
          "width": 2
         },
         "mode": "lines",
         "name": "Price",
         "showlegend": false,
         "type": "scatter",
         "x": [
          "2023-10-17T00:00:00",
          "2023-10-18T00:00:00"
         ],
         "y": [
          177.14999389648438,
          175.83999633789062
         ]
        },
        {
         "line": {
          "color": "red",
          "width": 2
         },
         "mode": "lines",
         "name": "Price",
         "showlegend": false,
         "type": "scatter",
         "x": [
          "2023-10-18T00:00:00",
          "2023-10-19T00:00:00"
         ],
         "y": [
          175.83999633789062,
          175.4600067138672
         ]
        },
        {
         "line": {
          "color": "red",
          "width": 2
         },
         "mode": "lines",
         "name": "Price",
         "showlegend": false,
         "type": "scatter",
         "x": [
          "2023-10-19T00:00:00",
          "2023-10-20T00:00:00"
         ],
         "y": [
          175.4600067138672,
          172.8800048828125
         ]
        },
        {
         "line": {
          "color": "red",
          "width": 2
         },
         "mode": "lines",
         "name": "Price",
         "showlegend": false,
         "type": "scatter",
         "x": [
          "2023-10-20T00:00:00",
          "2023-10-23T00:00:00"
         ],
         "y": [
          172.8800048828125,
          173
         ]
        },
        {
         "line": {
          "color": "red",
          "width": 2
         },
         "mode": "lines",
         "name": "Price",
         "showlegend": false,
         "type": "scatter",
         "x": [
          "2023-10-23T00:00:00",
          "2023-10-24T00:00:00"
         ],
         "y": [
          173,
          173.44000244140625
         ]
        },
        {
         "line": {
          "color": "red",
          "width": 2
         },
         "mode": "lines",
         "name": "Price",
         "showlegend": false,
         "type": "scatter",
         "x": [
          "2023-10-24T00:00:00",
          "2023-10-25T00:00:00"
         ],
         "y": [
          173.44000244140625,
          171.10000610351562
         ]
        },
        {
         "line": {
          "color": "red",
          "width": 2
         },
         "mode": "lines",
         "name": "Price",
         "showlegend": false,
         "type": "scatter",
         "x": [
          "2023-10-25T00:00:00",
          "2023-10-26T00:00:00"
         ],
         "y": [
          171.10000610351562,
          166.88999938964844
         ]
        },
        {
         "line": {
          "color": "red",
          "width": 2
         },
         "mode": "lines",
         "name": "Price",
         "showlegend": false,
         "type": "scatter",
         "x": [
          "2023-10-26T00:00:00",
          "2023-10-27T00:00:00"
         ],
         "y": [
          166.88999938964844,
          168.22000122070312
         ]
        },
        {
         "line": {
          "color": "red",
          "width": 2
         },
         "mode": "lines",
         "name": "Price",
         "showlegend": false,
         "type": "scatter",
         "x": [
          "2023-10-27T00:00:00",
          "2023-10-30T00:00:00"
         ],
         "y": [
          168.22000122070312,
          170.2899932861328
         ]
        },
        {
         "line": {
          "color": "red",
          "width": 2
         },
         "mode": "lines",
         "name": "Price",
         "showlegend": false,
         "type": "scatter",
         "x": [
          "2023-10-30T00:00:00",
          "2023-10-31T00:00:00"
         ],
         "y": [
          170.2899932861328,
          170.77000427246094
         ]
        },
        {
         "line": {
          "color": "red",
          "width": 2
         },
         "mode": "lines",
         "name": "Price",
         "showlegend": false,
         "type": "scatter",
         "x": [
          "2023-10-31T00:00:00",
          "2023-11-01T00:00:00"
         ],
         "y": [
          170.77000427246094,
          173.97000122070312
         ]
        },
        {
         "line": {
          "color": "red",
          "width": 2
         },
         "mode": "lines",
         "name": "Price",
         "showlegend": false,
         "type": "scatter",
         "x": [
          "2023-11-01T00:00:00",
          "2023-11-02T00:00:00"
         ],
         "y": [
          173.97000122070312,
          177.57000732421875
         ]
        },
        {
         "line": {
          "color": "green",
          "width": 2
         },
         "mode": "lines",
         "name": "Price",
         "showlegend": false,
         "type": "scatter",
         "x": [
          "2023-11-02T00:00:00",
          "2023-11-03T00:00:00"
         ],
         "y": [
          177.57000732421875,
          176.64999389648438
         ]
        },
        {
         "line": {
          "color": "green",
          "width": 2
         },
         "mode": "lines",
         "name": "Price",
         "showlegend": false,
         "type": "scatter",
         "x": [
          "2023-11-03T00:00:00",
          "2023-11-06T00:00:00"
         ],
         "y": [
          176.64999389648438,
          179.22999572753906
         ]
        },
        {
         "line": {
          "color": "green",
          "width": 2
         },
         "mode": "lines",
         "name": "Price",
         "showlegend": false,
         "type": "scatter",
         "x": [
          "2023-11-06T00:00:00",
          "2023-11-07T00:00:00"
         ],
         "y": [
          179.22999572753906,
          181.82000732421875
         ]
        },
        {
         "line": {
          "color": "green",
          "width": 2
         },
         "mode": "lines",
         "name": "Price",
         "showlegend": false,
         "type": "scatter",
         "x": [
          "2023-11-07T00:00:00",
          "2023-11-08T00:00:00"
         ],
         "y": [
          181.82000732421875,
          182.88999938964844
         ]
        },
        {
         "line": {
          "color": "green",
          "width": 2
         },
         "mode": "lines",
         "name": "Price",
         "showlegend": false,
         "type": "scatter",
         "x": [
          "2023-11-08T00:00:00",
          "2023-11-09T00:00:00"
         ],
         "y": [
          182.88999938964844,
          182.41000366210938
         ]
        },
        {
         "line": {
          "color": "green",
          "width": 2
         },
         "mode": "lines",
         "name": "Price",
         "showlegend": false,
         "type": "scatter",
         "x": [
          "2023-11-09T00:00:00",
          "2023-11-10T00:00:00"
         ],
         "y": [
          182.41000366210938,
          186.39999389648438
         ]
        },
        {
         "line": {
          "color": "green",
          "width": 2
         },
         "mode": "lines",
         "name": "Price",
         "showlegend": false,
         "type": "scatter",
         "x": [
          "2023-11-10T00:00:00",
          "2023-11-13T00:00:00"
         ],
         "y": [
          186.39999389648438,
          184.8000030517578
         ]
        },
        {
         "line": {
          "color": "green",
          "width": 2
         },
         "mode": "lines",
         "name": "Price",
         "showlegend": false,
         "type": "scatter",
         "x": [
          "2023-11-13T00:00:00",
          "2023-11-14T00:00:00"
         ],
         "y": [
          184.8000030517578,
          187.44000244140625
         ]
        },
        {
         "line": {
          "color": "green",
          "width": 2
         },
         "mode": "lines",
         "name": "Price",
         "showlegend": false,
         "type": "scatter",
         "x": [
          "2023-11-14T00:00:00",
          "2023-11-15T00:00:00"
         ],
         "y": [
          187.44000244140625,
          188.00999450683594
         ]
        },
        {
         "line": {
          "color": "green",
          "width": 2
         },
         "mode": "lines",
         "name": "Price",
         "showlegend": false,
         "type": "scatter",
         "x": [
          "2023-11-15T00:00:00",
          "2023-11-16T00:00:00"
         ],
         "y": [
          188.00999450683594,
          189.7100067138672
         ]
        },
        {
         "line": {
          "color": "green",
          "width": 2
         },
         "mode": "lines",
         "name": "Price",
         "showlegend": false,
         "type": "scatter",
         "x": [
          "2023-11-16T00:00:00",
          "2023-11-17T00:00:00"
         ],
         "y": [
          189.7100067138672,
          189.69000244140625
         ]
        },
        {
         "line": {
          "color": "green",
          "width": 2
         },
         "mode": "lines",
         "name": "Price",
         "showlegend": false,
         "type": "scatter",
         "x": [
          "2023-11-17T00:00:00",
          "2023-11-20T00:00:00"
         ],
         "y": [
          189.69000244140625,
          191.4499969482422
         ]
        },
        {
         "line": {
          "color": "green",
          "width": 2
         },
         "mode": "lines",
         "name": "Price",
         "showlegend": false,
         "type": "scatter",
         "x": [
          "2023-11-20T00:00:00",
          "2023-11-21T00:00:00"
         ],
         "y": [
          191.4499969482422,
          190.63999938964844
         ]
        },
        {
         "line": {
          "color": "green",
          "width": 2
         },
         "mode": "lines",
         "name": "Price",
         "showlegend": false,
         "type": "scatter",
         "x": [
          "2023-11-21T00:00:00",
          "2023-11-22T00:00:00"
         ],
         "y": [
          190.63999938964844,
          191.30999755859375
         ]
        },
        {
         "line": {
          "color": "green",
          "width": 2
         },
         "mode": "lines",
         "name": "Price",
         "showlegend": false,
         "type": "scatter",
         "x": [
          "2023-11-22T00:00:00",
          "2023-11-24T00:00:00"
         ],
         "y": [
          191.30999755859375,
          189.97000122070312
         ]
        },
        {
         "line": {
          "color": "green",
          "width": 2
         },
         "mode": "lines",
         "name": "Price",
         "showlegend": false,
         "type": "scatter",
         "x": [
          "2023-11-24T00:00:00",
          "2023-11-27T00:00:00"
         ],
         "y": [
          189.97000122070312,
          189.7899932861328
         ]
        },
        {
         "line": {
          "color": "green",
          "width": 2
         },
         "mode": "lines",
         "name": "Price",
         "showlegend": false,
         "type": "scatter",
         "x": [
          "2023-11-27T00:00:00",
          "2023-11-28T00:00:00"
         ],
         "y": [
          189.7899932861328,
          190.39999389648438
         ]
        },
        {
         "line": {
          "color": "green",
          "width": 2
         },
         "mode": "lines",
         "name": "Price",
         "showlegend": false,
         "type": "scatter",
         "x": [
          "2023-11-28T00:00:00",
          "2023-11-29T00:00:00"
         ],
         "y": [
          190.39999389648438,
          189.3699951171875
         ]
        },
        {
         "line": {
          "color": "green",
          "width": 2
         },
         "mode": "lines",
         "name": "Price",
         "showlegend": false,
         "type": "scatter",
         "x": [
          "2023-11-29T00:00:00",
          "2023-11-30T00:00:00"
         ],
         "y": [
          189.3699951171875,
          189.9499969482422
         ]
        },
        {
         "line": {
          "color": "green",
          "width": 2
         },
         "mode": "lines",
         "name": "Price",
         "showlegend": false,
         "type": "scatter",
         "x": [
          "2023-11-30T00:00:00",
          "2023-12-01T00:00:00"
         ],
         "y": [
          189.9499969482422,
          191.24000549316406
         ]
        },
        {
         "line": {
          "color": "green",
          "width": 2
         },
         "mode": "lines",
         "name": "Price",
         "showlegend": false,
         "type": "scatter",
         "x": [
          "2023-12-01T00:00:00",
          "2023-12-04T00:00:00"
         ],
         "y": [
          191.24000549316406,
          189.42999267578125
         ]
        },
        {
         "line": {
          "color": "green",
          "width": 2
         },
         "mode": "lines",
         "name": "Price",
         "showlegend": false,
         "type": "scatter",
         "x": [
          "2023-12-04T00:00:00",
          "2023-12-05T00:00:00"
         ],
         "y": [
          189.42999267578125,
          193.4199981689453
         ]
        },
        {
         "line": {
          "color": "green",
          "width": 2
         },
         "mode": "lines",
         "name": "Price",
         "showlegend": false,
         "type": "scatter",
         "x": [
          "2023-12-05T00:00:00",
          "2023-12-06T00:00:00"
         ],
         "y": [
          193.4199981689453,
          192.32000732421875
         ]
        },
        {
         "line": {
          "color": "green",
          "width": 2
         },
         "mode": "lines",
         "name": "Price",
         "showlegend": false,
         "type": "scatter",
         "x": [
          "2023-12-06T00:00:00",
          "2023-12-07T00:00:00"
         ],
         "y": [
          192.32000732421875,
          194.27000427246094
         ]
        },
        {
         "line": {
          "color": "green",
          "width": 2
         },
         "mode": "lines",
         "name": "Price",
         "showlegend": false,
         "type": "scatter",
         "x": [
          "2023-12-07T00:00:00",
          "2023-12-08T00:00:00"
         ],
         "y": [
          194.27000427246094,
          195.7100067138672
         ]
        },
        {
         "line": {
          "color": "green",
          "width": 2
         },
         "mode": "lines",
         "name": "Price",
         "showlegend": false,
         "type": "scatter",
         "x": [
          "2023-12-08T00:00:00",
          "2023-12-11T00:00:00"
         ],
         "y": [
          195.7100067138672,
          193.17999267578125
         ]
        },
        {
         "line": {
          "color": "green",
          "width": 2
         },
         "mode": "lines",
         "name": "Price",
         "showlegend": false,
         "type": "scatter",
         "x": [
          "2023-12-11T00:00:00",
          "2023-12-12T00:00:00"
         ],
         "y": [
          193.17999267578125,
          194.7100067138672
         ]
        },
        {
         "line": {
          "color": "green",
          "width": 2
         },
         "mode": "lines",
         "name": "Price",
         "showlegend": false,
         "type": "scatter",
         "x": [
          "2023-12-12T00:00:00",
          "2023-12-13T00:00:00"
         ],
         "y": [
          194.7100067138672,
          197.9600067138672
         ]
        },
        {
         "line": {
          "color": "green",
          "width": 2
         },
         "mode": "lines",
         "name": "Price",
         "showlegend": false,
         "type": "scatter",
         "x": [
          "2023-12-13T00:00:00",
          "2023-12-14T00:00:00"
         ],
         "y": [
          197.9600067138672,
          198.11000061035156
         ]
        },
        {
         "line": {
          "color": "green",
          "width": 2
         },
         "mode": "lines",
         "name": "Price",
         "showlegend": false,
         "type": "scatter",
         "x": [
          "2023-12-14T00:00:00",
          "2023-12-15T00:00:00"
         ],
         "y": [
          198.11000061035156,
          197.57000732421875
         ]
        },
        {
         "line": {
          "color": "green",
          "width": 2
         },
         "mode": "lines",
         "name": "Price",
         "showlegend": false,
         "type": "scatter",
         "x": [
          "2023-12-15T00:00:00",
          "2023-12-18T00:00:00"
         ],
         "y": [
          197.57000732421875,
          195.88999938964844
         ]
        },
        {
         "line": {
          "color": "green",
          "width": 2
         },
         "mode": "lines",
         "name": "Price",
         "showlegend": false,
         "type": "scatter",
         "x": [
          "2023-12-18T00:00:00",
          "2023-12-19T00:00:00"
         ],
         "y": [
          195.88999938964844,
          196.94000244140625
         ]
        },
        {
         "line": {
          "color": "green",
          "width": 2
         },
         "mode": "lines",
         "name": "Price",
         "showlegend": false,
         "type": "scatter",
         "x": [
          "2023-12-19T00:00:00",
          "2023-12-20T00:00:00"
         ],
         "y": [
          196.94000244140625,
          194.8300018310547
         ]
        },
        {
         "line": {
          "color": "green",
          "width": 2
         },
         "mode": "lines",
         "name": "Price",
         "showlegend": false,
         "type": "scatter",
         "x": [
          "2023-12-20T00:00:00",
          "2023-12-21T00:00:00"
         ],
         "y": [
          194.8300018310547,
          194.67999267578125
         ]
        },
        {
         "line": {
          "color": "green",
          "width": 2
         },
         "mode": "lines",
         "name": "Price",
         "showlegend": false,
         "type": "scatter",
         "x": [
          "2023-12-21T00:00:00",
          "2023-12-22T00:00:00"
         ],
         "y": [
          194.67999267578125,
          193.60000610351562
         ]
        },
        {
         "line": {
          "color": "green",
          "width": 2
         },
         "mode": "lines",
         "name": "Price",
         "showlegend": false,
         "type": "scatter",
         "x": [
          "2023-12-22T00:00:00",
          "2023-12-26T00:00:00"
         ],
         "y": [
          193.60000610351562,
          193.0500030517578
         ]
        },
        {
         "line": {
          "color": "green",
          "width": 2
         },
         "mode": "lines",
         "name": "Price",
         "showlegend": false,
         "type": "scatter",
         "x": [
          "2023-12-26T00:00:00",
          "2023-12-27T00:00:00"
         ],
         "y": [
          193.0500030517578,
          193.14999389648438
         ]
        },
        {
         "line": {
          "color": "green",
          "width": 2
         },
         "mode": "lines",
         "name": "Price",
         "showlegend": false,
         "type": "scatter",
         "x": [
          "2023-12-27T00:00:00",
          "2023-12-28T00:00:00"
         ],
         "y": [
          193.14999389648438,
          193.5800018310547
         ]
        },
        {
         "line": {
          "color": "green",
          "width": 2
         },
         "mode": "lines",
         "name": "Price",
         "showlegend": false,
         "type": "scatter",
         "x": [
          "2023-12-28T00:00:00",
          "2023-12-29T00:00:00"
         ],
         "y": [
          193.5800018310547,
          192.52999877929688
         ]
        },
        {
         "line": {
          "color": "green",
          "width": 2
         },
         "mode": "lines",
         "name": "Price",
         "showlegend": false,
         "type": "scatter",
         "x": [
          "2023-12-29T00:00:00",
          "2024-01-02T00:00:00"
         ],
         "y": [
          192.52999877929688,
          185.63999938964844
         ]
        },
        {
         "line": {
          "color": "red",
          "width": 2
         },
         "mode": "lines",
         "name": "Price",
         "showlegend": false,
         "type": "scatter",
         "x": [
          "2024-01-02T00:00:00",
          "2024-01-03T00:00:00"
         ],
         "y": [
          185.63999938964844,
          184.25
         ]
        },
        {
         "line": {
          "color": "red",
          "width": 2
         },
         "mode": "lines",
         "name": "Price",
         "showlegend": false,
         "type": "scatter",
         "x": [
          "2024-01-03T00:00:00",
          "2024-01-04T00:00:00"
         ],
         "y": [
          184.25,
          181.91000366210938
         ]
        },
        {
         "line": {
          "color": "red",
          "width": 2
         },
         "mode": "lines",
         "name": "Price",
         "showlegend": false,
         "type": "scatter",
         "x": [
          "2024-01-04T00:00:00",
          "2024-01-05T00:00:00"
         ],
         "y": [
          181.91000366210938,
          181.17999267578125
         ]
        },
        {
         "line": {
          "color": "red",
          "width": 2
         },
         "mode": "lines",
         "name": "Price",
         "showlegend": false,
         "type": "scatter",
         "x": [
          "2024-01-05T00:00:00",
          "2024-01-08T00:00:00"
         ],
         "y": [
          181.17999267578125,
          185.55999755859375
         ]
        },
        {
         "line": {
          "color": "red",
          "width": 2
         },
         "mode": "lines",
         "name": "Price",
         "showlegend": false,
         "type": "scatter",
         "x": [
          "2024-01-08T00:00:00",
          "2024-01-09T00:00:00"
         ],
         "y": [
          185.55999755859375,
          185.13999938964844
         ]
        },
        {
         "line": {
          "color": "red",
          "width": 2
         },
         "mode": "lines",
         "name": "Price",
         "showlegend": false,
         "type": "scatter",
         "x": [
          "2024-01-09T00:00:00",
          "2024-01-10T00:00:00"
         ],
         "y": [
          185.13999938964844,
          186.19000244140625
         ]
        },
        {
         "line": {
          "color": "red",
          "width": 2
         },
         "mode": "lines",
         "name": "Price",
         "showlegend": false,
         "type": "scatter",
         "x": [
          "2024-01-10T00:00:00",
          "2024-01-11T00:00:00"
         ],
         "y": [
          186.19000244140625,
          185.58999633789062
         ]
        },
        {
         "line": {
          "color": "red",
          "width": 2
         },
         "mode": "lines",
         "name": "Price",
         "showlegend": false,
         "type": "scatter",
         "x": [
          "2024-01-11T00:00:00",
          "2024-01-12T00:00:00"
         ],
         "y": [
          185.58999633789062,
          185.9199981689453
         ]
        },
        {
         "line": {
          "color": "red",
          "width": 2
         },
         "mode": "lines",
         "name": "Price",
         "showlegend": false,
         "type": "scatter",
         "x": [
          "2024-01-12T00:00:00",
          "2024-01-16T00:00:00"
         ],
         "y": [
          185.9199981689453,
          183.6300048828125
         ]
        },
        {
         "line": {
          "color": "red",
          "width": 2
         },
         "mode": "lines",
         "name": "Price",
         "showlegend": false,
         "type": "scatter",
         "x": [
          "2024-01-16T00:00:00",
          "2024-01-17T00:00:00"
         ],
         "y": [
          183.6300048828125,
          182.67999267578125
         ]
        },
        {
         "line": {
          "color": "red",
          "width": 2
         },
         "mode": "lines",
         "name": "Price",
         "showlegend": false,
         "type": "scatter",
         "x": [
          "2024-01-17T00:00:00",
          "2024-01-18T00:00:00"
         ],
         "y": [
          182.67999267578125,
          188.6300048828125
         ]
        },
        {
         "line": {
          "color": "red",
          "width": 2
         },
         "mode": "lines",
         "name": "Price",
         "showlegend": false,
         "type": "scatter",
         "x": [
          "2024-01-18T00:00:00",
          "2024-01-19T00:00:00"
         ],
         "y": [
          188.6300048828125,
          191.55999755859375
         ]
        },
        {
         "line": {
          "color": "red",
          "width": 2
         },
         "mode": "lines",
         "name": "Price",
         "showlegend": false,
         "type": "scatter",
         "x": [
          "2024-01-19T00:00:00",
          "2024-01-22T00:00:00"
         ],
         "y": [
          191.55999755859375,
          193.88999938964844
         ]
        },
        {
         "line": {
          "color": "green",
          "width": 2
         },
         "mode": "lines",
         "name": "Price",
         "showlegend": false,
         "type": "scatter",
         "x": [
          "2024-01-22T00:00:00",
          "2024-01-23T00:00:00"
         ],
         "y": [
          193.88999938964844,
          195.17999267578125
         ]
        },
        {
         "line": {
          "color": "green",
          "width": 2
         },
         "mode": "lines",
         "name": "Price",
         "showlegend": false,
         "type": "scatter",
         "x": [
          "2024-01-23T00:00:00",
          "2024-01-24T00:00:00"
         ],
         "y": [
          195.17999267578125,
          194.5
         ]
        },
        {
         "line": {
          "color": "red",
          "width": 2
         },
         "mode": "lines",
         "name": "Price",
         "showlegend": false,
         "type": "scatter",
         "x": [
          "2024-01-24T00:00:00",
          "2024-01-25T00:00:00"
         ],
         "y": [
          194.5,
          194.1699981689453
         ]
        },
        {
         "line": {
          "color": "green",
          "width": 2
         },
         "mode": "lines",
         "name": "Price",
         "showlegend": false,
         "type": "scatter",
         "x": [
          "2024-01-25T00:00:00",
          "2024-01-26T00:00:00"
         ],
         "y": [
          194.1699981689453,
          192.4199981689453
         ]
        },
        {
         "line": {
          "color": "red",
          "width": 2
         },
         "mode": "lines",
         "name": "Price",
         "showlegend": false,
         "type": "scatter",
         "x": [
          "2024-01-26T00:00:00",
          "2024-01-29T00:00:00"
         ],
         "y": [
          192.4199981689453,
          191.72999572753906
         ]
        },
        {
         "line": {
          "color": "red",
          "width": 2
         },
         "mode": "lines",
         "name": "Price",
         "showlegend": false,
         "type": "scatter",
         "x": [
          "2024-01-29T00:00:00",
          "2024-01-30T00:00:00"
         ],
         "y": [
          191.72999572753906,
          188.0399932861328
         ]
        },
        {
         "line": {
          "color": "red",
          "width": 2
         },
         "mode": "lines",
         "name": "Price",
         "showlegend": false,
         "type": "scatter",
         "x": [
          "2024-01-30T00:00:00",
          "2024-01-31T00:00:00"
         ],
         "y": [
          188.0399932861328,
          184.39999389648438
         ]
        },
        {
         "line": {
          "color": "red",
          "width": 2
         },
         "mode": "lines",
         "name": "Price",
         "showlegend": false,
         "type": "scatter",
         "x": [
          "2024-01-31T00:00:00",
          "2024-02-01T00:00:00"
         ],
         "y": [
          184.39999389648438,
          186.86000061035156
         ]
        },
        {
         "line": {
          "color": "red",
          "width": 2
         },
         "mode": "lines",
         "name": "Price",
         "showlegend": false,
         "type": "scatter",
         "x": [
          "2024-02-01T00:00:00",
          "2024-02-02T00:00:00"
         ],
         "y": [
          186.86000061035156,
          185.85000610351562
         ]
        },
        {
         "line": {
          "color": "red",
          "width": 2
         },
         "mode": "lines",
         "name": "Price",
         "showlegend": false,
         "type": "scatter",
         "x": [
          "2024-02-02T00:00:00",
          "2024-02-05T00:00:00"
         ],
         "y": [
          185.85000610351562,
          187.67999267578125
         ]
        },
        {
         "line": {
          "color": "red",
          "width": 2
         },
         "mode": "lines",
         "name": "Price",
         "showlegend": false,
         "type": "scatter",
         "x": [
          "2024-02-05T00:00:00",
          "2024-02-06T00:00:00"
         ],
         "y": [
          187.67999267578125,
          189.3000030517578
         ]
        },
        {
         "line": {
          "color": "red",
          "width": 2
         },
         "mode": "lines",
         "name": "Price",
         "showlegend": false,
         "type": "scatter",
         "x": [
          "2024-02-06T00:00:00",
          "2024-02-07T00:00:00"
         ],
         "y": [
          189.3000030517578,
          189.41000366210938
         ]
        },
        {
         "line": {
          "color": "red",
          "width": 2
         },
         "mode": "lines",
         "name": "Price",
         "showlegend": false,
         "type": "scatter",
         "x": [
          "2024-02-07T00:00:00",
          "2024-02-08T00:00:00"
         ],
         "y": [
          189.41000366210938,
          188.32000732421875
         ]
        },
        {
         "line": {
          "color": "red",
          "width": 2
         },
         "mode": "lines",
         "name": "Price",
         "showlegend": false,
         "type": "scatter",
         "x": [
          "2024-02-08T00:00:00",
          "2024-02-09T00:00:00"
         ],
         "y": [
          188.32000732421875,
          188.85000610351562
         ]
        },
        {
         "line": {
          "color": "red",
          "width": 2
         },
         "mode": "lines",
         "name": "Price",
         "showlegend": false,
         "type": "scatter",
         "x": [
          "2024-02-09T00:00:00",
          "2024-02-12T00:00:00"
         ],
         "y": [
          188.85000610351562,
          187.14999389648438
         ]
        },
        {
         "line": {
          "color": "red",
          "width": 2
         },
         "mode": "lines",
         "name": "Price",
         "showlegend": false,
         "type": "scatter",
         "x": [
          "2024-02-12T00:00:00",
          "2024-02-13T00:00:00"
         ],
         "y": [
          187.14999389648438,
          185.0399932861328
         ]
        },
        {
         "line": {
          "color": "red",
          "width": 2
         },
         "mode": "lines",
         "name": "Price",
         "showlegend": false,
         "type": "scatter",
         "x": [
          "2024-02-13T00:00:00",
          "2024-02-14T00:00:00"
         ],
         "y": [
          185.0399932861328,
          184.14999389648438
         ]
        },
        {
         "line": {
          "color": "red",
          "width": 2
         },
         "mode": "lines",
         "name": "Price",
         "showlegend": false,
         "type": "scatter",
         "x": [
          "2024-02-14T00:00:00",
          "2024-02-15T00:00:00"
         ],
         "y": [
          184.14999389648438,
          183.86000061035156
         ]
        },
        {
         "line": {
          "color": "red",
          "width": 2
         },
         "mode": "lines",
         "name": "Price",
         "showlegend": false,
         "type": "scatter",
         "x": [
          "2024-02-15T00:00:00",
          "2024-02-16T00:00:00"
         ],
         "y": [
          183.86000061035156,
          182.30999755859375
         ]
        },
        {
         "line": {
          "color": "green",
          "width": 2
         },
         "mode": "lines",
         "name": "Price",
         "showlegend": false,
         "type": "scatter",
         "x": [
          "2024-02-16T00:00:00",
          "2024-02-20T00:00:00"
         ],
         "y": [
          182.30999755859375,
          181.55999755859375
         ]
        },
        {
         "line": {
          "color": "green",
          "width": 2
         },
         "mode": "lines",
         "name": "Price",
         "showlegend": false,
         "type": "scatter",
         "x": [
          "2024-02-20T00:00:00",
          "2024-02-21T00:00:00"
         ],
         "y": [
          181.55999755859375,
          182.32000732421875
         ]
        },
        {
         "line": {
          "color": "red",
          "width": 2
         },
         "mode": "lines",
         "name": "Price",
         "showlegend": false,
         "type": "scatter",
         "x": [
          "2024-02-21T00:00:00",
          "2024-02-22T00:00:00"
         ],
         "y": [
          182.32000732421875,
          184.3699951171875
         ]
        },
        {
         "line": {
          "color": "red",
          "width": 2
         },
         "mode": "lines",
         "name": "Price",
         "showlegend": false,
         "type": "scatter",
         "x": [
          "2024-02-22T00:00:00",
          "2024-02-23T00:00:00"
         ],
         "y": [
          184.3699951171875,
          182.52000427246094
         ]
        },
        {
         "line": {
          "color": "red",
          "width": 2
         },
         "mode": "lines",
         "name": "Price",
         "showlegend": false,
         "type": "scatter",
         "x": [
          "2024-02-23T00:00:00",
          "2024-02-26T00:00:00"
         ],
         "y": [
          182.52000427246094,
          181.16000366210938
         ]
        },
        {
         "line": {
          "color": "red",
          "width": 2
         },
         "mode": "lines",
         "name": "Price",
         "showlegend": false,
         "type": "scatter",
         "x": [
          "2024-02-26T00:00:00",
          "2024-02-27T00:00:00"
         ],
         "y": [
          181.16000366210938,
          182.6300048828125
         ]
        },
        {
         "line": {
          "color": "red",
          "width": 2
         },
         "mode": "lines",
         "name": "Price",
         "showlegend": false,
         "type": "scatter",
         "x": [
          "2024-02-27T00:00:00",
          "2024-02-28T00:00:00"
         ],
         "y": [
          182.6300048828125,
          181.4199981689453
         ]
        },
        {
         "line": {
          "color": "red",
          "width": 2
         },
         "mode": "lines",
         "name": "Price",
         "showlegend": false,
         "type": "scatter",
         "x": [
          "2024-02-28T00:00:00",
          "2024-02-29T00:00:00"
         ],
         "y": [
          181.4199981689453,
          180.75
         ]
        },
        {
         "line": {
          "color": "red",
          "width": 2
         },
         "mode": "lines",
         "name": "Price",
         "showlegend": false,
         "type": "scatter",
         "x": [
          "2024-02-29T00:00:00",
          "2024-03-01T00:00:00"
         ],
         "y": [
          180.75,
          179.66000366210938
         ]
        },
        {
         "line": {
          "color": "red",
          "width": 2
         },
         "mode": "lines",
         "name": "Price",
         "showlegend": false,
         "type": "scatter",
         "x": [
          "2024-03-01T00:00:00",
          "2024-03-04T00:00:00"
         ],
         "y": [
          179.66000366210938,
          175.10000610351562
         ]
        },
        {
         "line": {
          "color": "red",
          "width": 2
         },
         "mode": "lines",
         "name": "Price",
         "showlegend": false,
         "type": "scatter",
         "x": [
          "2024-03-04T00:00:00",
          "2024-03-05T00:00:00"
         ],
         "y": [
          175.10000610351562,
          170.1199951171875
         ]
        },
        {
         "line": {
          "color": "red",
          "width": 2
         },
         "mode": "lines",
         "name": "Price",
         "showlegend": false,
         "type": "scatter",
         "x": [
          "2024-03-05T00:00:00",
          "2024-03-06T00:00:00"
         ],
         "y": [
          170.1199951171875,
          169.1199951171875
         ]
        },
        {
         "line": {
          "color": "red",
          "width": 2
         },
         "mode": "lines",
         "name": "Price",
         "showlegend": false,
         "type": "scatter",
         "x": [
          "2024-03-06T00:00:00",
          "2024-03-07T00:00:00"
         ],
         "y": [
          169.1199951171875,
          169
         ]
        },
        {
         "line": {
          "color": "red",
          "width": 2
         },
         "mode": "lines",
         "name": "Price",
         "showlegend": false,
         "type": "scatter",
         "x": [
          "2024-03-07T00:00:00",
          "2024-03-08T00:00:00"
         ],
         "y": [
          169,
          170.72999572753906
         ]
        },
        {
         "line": {
          "color": "red",
          "width": 2
         },
         "mode": "lines",
         "name": "Price",
         "showlegend": false,
         "type": "scatter",
         "x": [
          "2024-03-08T00:00:00",
          "2024-03-11T00:00:00"
         ],
         "y": [
          170.72999572753906,
          172.75
         ]
        },
        {
         "line": {
          "color": "red",
          "width": 2
         },
         "mode": "lines",
         "name": "Price",
         "showlegend": false,
         "type": "scatter",
         "x": [
          "2024-03-11T00:00:00",
          "2024-03-12T00:00:00"
         ],
         "y": [
          172.75,
          173.22999572753906
         ]
        },
        {
         "line": {
          "color": "red",
          "width": 2
         },
         "mode": "lines",
         "name": "Price",
         "showlegend": false,
         "type": "scatter",
         "x": [
          "2024-03-12T00:00:00",
          "2024-03-13T00:00:00"
         ],
         "y": [
          173.22999572753906,
          171.1300048828125
         ]
        },
        {
         "line": {
          "color": "red",
          "width": 2
         },
         "mode": "lines",
         "name": "Price",
         "showlegend": false,
         "type": "scatter",
         "x": [
          "2024-03-13T00:00:00",
          "2024-03-14T00:00:00"
         ],
         "y": [
          171.1300048828125,
          173
         ]
        },
        {
         "line": {
          "color": "red",
          "width": 2
         },
         "mode": "lines",
         "name": "Price",
         "showlegend": false,
         "type": "scatter",
         "x": [
          "2024-03-14T00:00:00",
          "2024-03-15T00:00:00"
         ],
         "y": [
          173,
          172.6199951171875
         ]
        },
        {
         "line": {
          "color": "red",
          "width": 2
         },
         "mode": "lines",
         "name": "Price",
         "showlegend": false,
         "type": "scatter",
         "x": [
          "2024-03-15T00:00:00",
          "2024-03-18T00:00:00"
         ],
         "y": [
          172.6199951171875,
          173.72000122070312
         ]
        },
        {
         "line": {
          "color": "red",
          "width": 2
         },
         "mode": "lines",
         "name": "Price",
         "showlegend": false,
         "type": "scatter",
         "x": [
          "2024-03-18T00:00:00",
          "2024-03-19T00:00:00"
         ],
         "y": [
          173.72000122070312,
          176.0800018310547
         ]
        },
        {
         "line": {
          "color": "red",
          "width": 2
         },
         "mode": "lines",
         "name": "Price",
         "showlegend": false,
         "type": "scatter",
         "x": [
          "2024-03-19T00:00:00",
          "2024-03-20T00:00:00"
         ],
         "y": [
          176.0800018310547,
          178.6699981689453
         ]
        },
        {
         "line": {
          "color": "red",
          "width": 2
         },
         "mode": "lines",
         "name": "Price",
         "showlegend": false,
         "type": "scatter",
         "x": [
          "2024-03-20T00:00:00",
          "2024-03-21T00:00:00"
         ],
         "y": [
          178.6699981689453,
          171.3699951171875
         ]
        },
        {
         "line": {
          "color": "red",
          "width": 2
         },
         "mode": "lines",
         "name": "Price",
         "showlegend": false,
         "type": "scatter",
         "x": [
          "2024-03-21T00:00:00",
          "2024-03-22T00:00:00"
         ],
         "y": [
          171.3699951171875,
          172.27999877929688
         ]
        },
        {
         "line": {
          "color": "red",
          "width": 2
         },
         "mode": "lines",
         "name": "Price",
         "showlegend": false,
         "type": "scatter",
         "x": [
          "2024-03-22T00:00:00",
          "2024-03-25T00:00:00"
         ],
         "y": [
          172.27999877929688,
          170.85000610351562
         ]
        },
        {
         "line": {
          "color": "red",
          "width": 2
         },
         "mode": "lines",
         "name": "Price",
         "showlegend": false,
         "type": "scatter",
         "x": [
          "2024-03-25T00:00:00",
          "2024-03-26T00:00:00"
         ],
         "y": [
          170.85000610351562,
          169.7100067138672
         ]
        },
        {
         "line": {
          "color": "red",
          "width": 2
         },
         "mode": "lines",
         "name": "Price",
         "showlegend": false,
         "type": "scatter",
         "x": [
          "2024-03-26T00:00:00",
          "2024-03-27T00:00:00"
         ],
         "y": [
          169.7100067138672,
          173.30999755859375
         ]
        },
        {
         "line": {
          "color": "red",
          "width": 2
         },
         "mode": "lines",
         "name": "Price",
         "showlegend": false,
         "type": "scatter",
         "x": [
          "2024-03-27T00:00:00",
          "2024-03-28T00:00:00"
         ],
         "y": [
          173.30999755859375,
          171.47999572753906
         ]
        },
        {
         "line": {
          "color": "red",
          "width": 2
         },
         "mode": "lines",
         "name": "Price",
         "showlegend": false,
         "type": "scatter",
         "x": [
          "2024-03-28T00:00:00",
          "2024-04-01T00:00:00"
         ],
         "y": [
          171.47999572753906,
          170.02999877929688
         ]
        },
        {
         "line": {
          "color": "red",
          "width": 2
         },
         "mode": "lines",
         "name": "Price",
         "showlegend": false,
         "type": "scatter",
         "x": [
          "2024-04-01T00:00:00",
          "2024-04-02T00:00:00"
         ],
         "y": [
          170.02999877929688,
          168.83999633789062
         ]
        },
        {
         "line": {
          "color": "red",
          "width": 2
         },
         "mode": "lines",
         "name": "Price",
         "showlegend": false,
         "type": "scatter",
         "x": [
          "2024-04-02T00:00:00",
          "2024-04-03T00:00:00"
         ],
         "y": [
          168.83999633789062,
          169.64999389648438
         ]
        },
        {
         "line": {
          "color": "red",
          "width": 2
         },
         "mode": "lines",
         "name": "Price",
         "showlegend": false,
         "type": "scatter",
         "x": [
          "2024-04-03T00:00:00",
          "2024-04-04T00:00:00"
         ],
         "y": [
          169.64999389648438,
          168.82000732421875
         ]
        },
        {
         "line": {
          "color": "red",
          "width": 2
         },
         "mode": "lines",
         "name": "Price",
         "showlegend": false,
         "type": "scatter",
         "x": [
          "2024-04-04T00:00:00",
          "2024-04-05T00:00:00"
         ],
         "y": [
          168.82000732421875,
          169.5800018310547
         ]
        },
        {
         "line": {
          "color": "red",
          "width": 2
         },
         "mode": "lines",
         "name": "Price",
         "showlegend": false,
         "type": "scatter",
         "x": [
          "2024-04-05T00:00:00",
          "2024-04-08T00:00:00"
         ],
         "y": [
          169.5800018310547,
          168.4499969482422
         ]
        },
        {
         "line": {
          "color": "red",
          "width": 2
         },
         "mode": "lines",
         "name": "Price",
         "showlegend": false,
         "type": "scatter",
         "x": [
          "2024-04-08T00:00:00",
          "2024-04-09T00:00:00"
         ],
         "y": [
          168.4499969482422,
          169.6699981689453
         ]
        },
        {
         "line": {
          "color": "red",
          "width": 2
         },
         "mode": "lines",
         "name": "Price",
         "showlegend": false,
         "type": "scatter",
         "x": [
          "2024-04-09T00:00:00",
          "2024-04-10T00:00:00"
         ],
         "y": [
          169.6699981689453,
          167.77999877929688
         ]
        },
        {
         "line": {
          "color": "red",
          "width": 2
         },
         "mode": "lines",
         "name": "Price",
         "showlegend": false,
         "type": "scatter",
         "x": [
          "2024-04-10T00:00:00",
          "2024-04-11T00:00:00"
         ],
         "y": [
          167.77999877929688,
          175.0399932861328
         ]
        },
        {
         "line": {
          "color": "red",
          "width": 2
         },
         "mode": "lines",
         "name": "Price",
         "showlegend": false,
         "type": "scatter",
         "x": [
          "2024-04-11T00:00:00",
          "2024-04-12T00:00:00"
         ],
         "y": [
          175.0399932861328,
          176.5500030517578
         ]
        },
        {
         "line": {
          "color": "red",
          "width": 2
         },
         "mode": "lines",
         "name": "Price",
         "showlegend": false,
         "type": "scatter",
         "x": [
          "2024-04-12T00:00:00",
          "2024-04-15T00:00:00"
         ],
         "y": [
          176.5500030517578,
          172.69000244140625
         ]
        },
        {
         "line": {
          "color": "red",
          "width": 2
         },
         "mode": "lines",
         "name": "Price",
         "showlegend": false,
         "type": "scatter",
         "x": [
          "2024-04-15T00:00:00",
          "2024-04-16T00:00:00"
         ],
         "y": [
          172.69000244140625,
          169.3800048828125
         ]
        },
        {
         "line": {
          "color": "red",
          "width": 2
         },
         "mode": "lines",
         "name": "Price",
         "showlegend": false,
         "type": "scatter",
         "x": [
          "2024-04-16T00:00:00",
          "2024-04-17T00:00:00"
         ],
         "y": [
          169.3800048828125,
          168
         ]
        },
        {
         "line": {
          "color": "red",
          "width": 2
         },
         "mode": "lines",
         "name": "Price",
         "showlegend": false,
         "type": "scatter",
         "x": [
          "2024-04-17T00:00:00",
          "2024-04-18T00:00:00"
         ],
         "y": [
          168,
          167.0399932861328
         ]
        },
        {
         "line": {
          "color": "red",
          "width": 2
         },
         "mode": "lines",
         "name": "Price",
         "showlegend": false,
         "type": "scatter",
         "x": [
          "2024-04-18T00:00:00",
          "2024-04-19T00:00:00"
         ],
         "y": [
          167.0399932861328,
          165
         ]
        },
        {
         "line": {
          "color": "red",
          "width": 2
         },
         "mode": "lines",
         "name": "Price",
         "showlegend": false,
         "type": "scatter",
         "x": [
          "2024-04-19T00:00:00",
          "2024-04-22T00:00:00"
         ],
         "y": [
          165,
          165.83999633789062
         ]
        },
        {
         "line": {
          "color": "red",
          "width": 2
         },
         "mode": "lines",
         "name": "Price",
         "showlegend": false,
         "type": "scatter",
         "x": [
          "2024-04-22T00:00:00",
          "2024-04-23T00:00:00"
         ],
         "y": [
          165.83999633789062,
          166.89999389648438
         ]
        },
        {
         "line": {
          "color": "red",
          "width": 2
         },
         "mode": "lines",
         "name": "Price",
         "showlegend": false,
         "type": "scatter",
         "x": [
          "2024-04-23T00:00:00",
          "2024-04-24T00:00:00"
         ],
         "y": [
          166.89999389648438,
          169.02000427246094
         ]
        },
        {
         "line": {
          "color": "red",
          "width": 2
         },
         "mode": "lines",
         "name": "Price",
         "showlegend": false,
         "type": "scatter",
         "x": [
          "2024-04-24T00:00:00",
          "2024-04-25T00:00:00"
         ],
         "y": [
          169.02000427246094,
          169.88999938964844
         ]
        },
        {
         "line": {
          "color": "red",
          "width": 2
         },
         "mode": "lines",
         "name": "Price",
         "showlegend": false,
         "type": "scatter",
         "x": [
          "2024-04-25T00:00:00",
          "2024-04-26T00:00:00"
         ],
         "y": [
          169.88999938964844,
          169.3000030517578
         ]
        },
        {
         "line": {
          "color": "red",
          "width": 2
         },
         "mode": "lines",
         "name": "Price",
         "showlegend": false,
         "type": "scatter",
         "x": [
          "2024-04-26T00:00:00",
          "2024-04-29T00:00:00"
         ],
         "y": [
          169.3000030517578,
          173.5
         ]
        },
        {
         "line": {
          "color": "green",
          "width": 2
         },
         "mode": "lines",
         "name": "Price",
         "showlegend": false,
         "type": "scatter",
         "x": [
          "2024-04-29T00:00:00",
          "2024-04-30T00:00:00"
         ],
         "y": [
          173.5,
          170.3300018310547
         ]
        },
        {
         "line": {
          "color": "red",
          "width": 2
         },
         "mode": "lines",
         "name": "Price",
         "showlegend": false,
         "type": "scatter",
         "x": [
          "2024-04-30T00:00:00",
          "2024-05-01T00:00:00"
         ],
         "y": [
          170.3300018310547,
          169.3000030517578
         ]
        },
        {
         "line": {
          "color": "red",
          "width": 2
         },
         "mode": "lines",
         "name": "Price",
         "showlegend": false,
         "type": "scatter",
         "x": [
          "2024-05-01T00:00:00",
          "2024-05-02T00:00:00"
         ],
         "y": [
          169.3000030517578,
          173.02999877929688
         ]
        },
        {
         "line": {
          "color": "red",
          "width": 2
         },
         "mode": "lines",
         "name": "Price",
         "showlegend": false,
         "type": "scatter",
         "x": [
          "2024-05-02T00:00:00",
          "2024-05-03T00:00:00"
         ],
         "y": [
          173.02999877929688,
          183.3800048828125
         ]
        },
        {
         "line": {
          "color": "green",
          "width": 2
         },
         "mode": "lines",
         "name": "Price",
         "showlegend": false,
         "type": "scatter",
         "x": [
          "2024-05-03T00:00:00",
          "2024-05-06T00:00:00"
         ],
         "y": [
          183.3800048828125,
          181.7100067138672
         ]
        },
        {
         "line": {
          "color": "green",
          "width": 2
         },
         "mode": "lines",
         "name": "Price",
         "showlegend": false,
         "type": "scatter",
         "x": [
          "2024-05-06T00:00:00",
          "2024-05-07T00:00:00"
         ],
         "y": [
          181.7100067138672,
          182.39999389648438
         ]
        },
        {
         "line": {
          "color": "green",
          "width": 2
         },
         "mode": "lines",
         "name": "Price",
         "showlegend": false,
         "type": "scatter",
         "x": [
          "2024-05-07T00:00:00",
          "2024-05-08T00:00:00"
         ],
         "y": [
          182.39999389648438,
          182.74000549316406
         ]
        },
        {
         "line": {
          "color": "green",
          "width": 2
         },
         "mode": "lines",
         "name": "Price",
         "showlegend": false,
         "type": "scatter",
         "x": [
          "2024-05-08T00:00:00",
          "2024-05-09T00:00:00"
         ],
         "y": [
          182.74000549316406,
          184.57000732421875
         ]
        },
        {
         "line": {
          "color": "green",
          "width": 2
         },
         "mode": "lines",
         "name": "Price",
         "showlegend": false,
         "type": "scatter",
         "x": [
          "2024-05-09T00:00:00",
          "2024-05-10T00:00:00"
         ],
         "y": [
          184.57000732421875,
          183.0500030517578
         ]
        },
        {
         "line": {
          "color": "green",
          "width": 2
         },
         "mode": "lines",
         "name": "Price",
         "showlegend": false,
         "type": "scatter",
         "x": [
          "2024-05-10T00:00:00",
          "2024-05-13T00:00:00"
         ],
         "y": [
          183.0500030517578,
          186.27999877929688
         ]
        },
        {
         "line": {
          "color": "green",
          "width": 2
         },
         "mode": "lines",
         "name": "Price",
         "showlegend": false,
         "type": "scatter",
         "x": [
          "2024-05-13T00:00:00",
          "2024-05-14T00:00:00"
         ],
         "y": [
          186.27999877929688,
          187.42999267578125
         ]
        },
        {
         "line": {
          "color": "green",
          "width": 2
         },
         "mode": "lines",
         "name": "Price",
         "showlegend": false,
         "type": "scatter",
         "x": [
          "2024-05-14T00:00:00",
          "2024-05-15T00:00:00"
         ],
         "y": [
          187.42999267578125,
          189.72000122070312
         ]
        },
        {
         "line": {
          "color": "green",
          "width": 2
         },
         "mode": "lines",
         "name": "Price",
         "showlegend": false,
         "type": "scatter",
         "x": [
          "2024-05-15T00:00:00",
          "2024-05-16T00:00:00"
         ],
         "y": [
          189.72000122070312,
          189.83999633789062
         ]
        },
        {
         "line": {
          "color": "green",
          "width": 2
         },
         "mode": "lines",
         "name": "Price",
         "showlegend": false,
         "type": "scatter",
         "x": [
          "2024-05-16T00:00:00",
          "2024-05-17T00:00:00"
         ],
         "y": [
          189.83999633789062,
          189.8699951171875
         ]
        },
        {
         "line": {
          "color": "green",
          "width": 2
         },
         "mode": "lines",
         "name": "Price",
         "showlegend": false,
         "type": "scatter",
         "x": [
          "2024-05-17T00:00:00",
          "2024-05-20T00:00:00"
         ],
         "y": [
          189.8699951171875,
          191.0399932861328
         ]
        },
        {
         "line": {
          "color": "green",
          "width": 2
         },
         "mode": "lines",
         "name": "Price",
         "showlegend": false,
         "type": "scatter",
         "x": [
          "2024-05-20T00:00:00",
          "2024-05-21T00:00:00"
         ],
         "y": [
          191.0399932861328,
          192.35000610351562
         ]
        },
        {
         "line": {
          "color": "green",
          "width": 2
         },
         "mode": "lines",
         "name": "Price",
         "showlegend": false,
         "type": "scatter",
         "x": [
          "2024-05-21T00:00:00",
          "2024-05-22T00:00:00"
         ],
         "y": [
          192.35000610351562,
          190.89999389648438
         ]
        },
        {
         "line": {
          "color": "green",
          "width": 2
         },
         "mode": "lines",
         "name": "Price",
         "showlegend": false,
         "type": "scatter",
         "x": [
          "2024-05-22T00:00:00",
          "2024-05-23T00:00:00"
         ],
         "y": [
          190.89999389648438,
          186.8800048828125
         ]
        },
        {
         "line": {
          "color": "green",
          "width": 2
         },
         "mode": "lines",
         "name": "Price",
         "showlegend": false,
         "type": "scatter",
         "x": [
          "2024-05-23T00:00:00",
          "2024-05-24T00:00:00"
         ],
         "y": [
          186.8800048828125,
          189.97999572753906
         ]
        },
        {
         "line": {
          "color": "green",
          "width": 2
         },
         "mode": "lines",
         "name": "Price",
         "showlegend": false,
         "type": "scatter",
         "x": [
          "2024-05-24T00:00:00",
          "2024-05-28T00:00:00"
         ],
         "y": [
          189.97999572753906,
          189.99000549316406
         ]
        },
        {
         "line": {
          "color": "green",
          "width": 2
         },
         "mode": "lines",
         "name": "Price",
         "showlegend": false,
         "type": "scatter",
         "x": [
          "2024-05-28T00:00:00",
          "2024-05-29T00:00:00"
         ],
         "y": [
          189.99000549316406,
          190.2899932861328
         ]
        },
        {
         "line": {
          "color": "green",
          "width": 2
         },
         "mode": "lines",
         "name": "Price",
         "showlegend": false,
         "type": "scatter",
         "x": [
          "2024-05-29T00:00:00",
          "2024-05-30T00:00:00"
         ],
         "y": [
          190.2899932861328,
          191.2899932861328
         ]
        },
        {
         "line": {
          "color": "green",
          "width": 2
         },
         "mode": "lines",
         "name": "Price",
         "showlegend": false,
         "type": "scatter",
         "x": [
          "2024-05-30T00:00:00",
          "2024-05-31T00:00:00"
         ],
         "y": [
          191.2899932861328,
          192.25
         ]
        },
        {
         "line": {
          "color": "green",
          "width": 2
         },
         "mode": "lines",
         "name": "Price",
         "showlegend": false,
         "type": "scatter",
         "x": [
          "2024-05-31T00:00:00",
          "2024-06-03T00:00:00"
         ],
         "y": [
          192.25,
          194.02999877929688
         ]
        },
        {
         "line": {
          "color": "green",
          "width": 2
         },
         "mode": "lines",
         "name": "Price",
         "showlegend": false,
         "type": "scatter",
         "x": [
          "2024-06-03T00:00:00",
          "2024-06-04T00:00:00"
         ],
         "y": [
          194.02999877929688,
          194.35000610351562
         ]
        },
        {
         "line": {
          "color": "green",
          "width": 2
         },
         "mode": "lines",
         "name": "Price",
         "showlegend": false,
         "type": "scatter",
         "x": [
          "2024-06-04T00:00:00",
          "2024-06-05T00:00:00"
         ],
         "y": [
          194.35000610351562,
          195.8699951171875
         ]
        },
        {
         "line": {
          "color": "green",
          "width": 2
         },
         "mode": "lines",
         "name": "Price",
         "showlegend": false,
         "type": "scatter",
         "x": [
          "2024-06-05T00:00:00",
          "2024-06-06T00:00:00"
         ],
         "y": [
          195.8699951171875,
          194.47999572753906
         ]
        },
        {
         "line": {
          "color": "green",
          "width": 2
         },
         "mode": "lines",
         "name": "Price",
         "showlegend": false,
         "type": "scatter",
         "x": [
          "2024-06-06T00:00:00",
          "2024-06-07T00:00:00"
         ],
         "y": [
          194.47999572753906,
          196.88999938964844
         ]
        },
        {
         "line": {
          "color": "green",
          "width": 2
         },
         "mode": "lines",
         "name": "Price",
         "showlegend": false,
         "type": "scatter",
         "x": [
          "2024-06-07T00:00:00",
          "2024-06-10T00:00:00"
         ],
         "y": [
          196.88999938964844,
          193.1199951171875
         ]
        },
        {
         "line": {
          "color": "green",
          "width": 2
         },
         "mode": "lines",
         "name": "Price",
         "showlegend": false,
         "type": "scatter",
         "x": [
          "2024-06-10T00:00:00",
          "2024-06-11T00:00:00"
         ],
         "y": [
          193.1199951171875,
          207.14999389648438
         ]
        },
        {
         "line": {
          "color": "green",
          "width": 2
         },
         "mode": "lines",
         "name": "Price",
         "showlegend": false,
         "type": "scatter",
         "x": [
          "2024-06-11T00:00:00",
          "2024-06-12T00:00:00"
         ],
         "y": [
          207.14999389648438,
          213.07000732421875
         ]
        },
        {
         "line": {
          "color": "green",
          "width": 2
         },
         "mode": "lines",
         "name": "Price",
         "showlegend": false,
         "type": "scatter",
         "x": [
          "2024-06-12T00:00:00",
          "2024-06-13T00:00:00"
         ],
         "y": [
          213.07000732421875,
          214.24000549316406
         ]
        },
        {
         "line": {
          "color": "green",
          "width": 2
         },
         "mode": "lines",
         "name": "Price",
         "showlegend": false,
         "type": "scatter",
         "x": [
          "2024-06-13T00:00:00",
          "2024-06-14T00:00:00"
         ],
         "y": [
          214.24000549316406,
          212.49000549316406
         ]
        },
        {
         "line": {
          "color": "green",
          "width": 2
         },
         "mode": "lines",
         "name": "Price",
         "showlegend": false,
         "type": "scatter",
         "x": [
          "2024-06-14T00:00:00",
          "2024-06-17T00:00:00"
         ],
         "y": [
          212.49000549316406,
          216.6699981689453
         ]
        },
        {
         "line": {
          "color": "green",
          "width": 2
         },
         "mode": "lines",
         "name": "Price",
         "showlegend": false,
         "type": "scatter",
         "x": [
          "2024-06-17T00:00:00",
          "2024-06-18T00:00:00"
         ],
         "y": [
          216.6699981689453,
          214.2899932861328
         ]
        },
        {
         "line": {
          "color": "green",
          "width": 2
         },
         "mode": "lines",
         "name": "Price",
         "showlegend": false,
         "type": "scatter",
         "x": [
          "2024-06-18T00:00:00",
          "2024-06-20T00:00:00"
         ],
         "y": [
          214.2899932861328,
          209.67999267578125
         ]
        },
        {
         "line": {
          "color": "green",
          "width": 2
         },
         "mode": "lines",
         "name": "Price",
         "showlegend": false,
         "type": "scatter",
         "x": [
          "2024-06-20T00:00:00",
          "2024-06-21T00:00:00"
         ],
         "y": [
          209.67999267578125,
          207.49000549316406
         ]
        },
        {
         "line": {
          "color": "green",
          "width": 2
         },
         "mode": "lines",
         "name": "Price",
         "showlegend": false,
         "type": "scatter",
         "x": [
          "2024-06-21T00:00:00",
          "2024-06-24T00:00:00"
         ],
         "y": [
          207.49000549316406,
          208.13999938964844
         ]
        },
        {
         "line": {
          "color": "green",
          "width": 2
         },
         "mode": "lines",
         "name": "Price",
         "showlegend": false,
         "type": "scatter",
         "x": [
          "2024-06-24T00:00:00",
          "2024-06-25T00:00:00"
         ],
         "y": [
          208.13999938964844,
          209.07000732421875
         ]
        },
        {
         "line": {
          "color": "green",
          "width": 2
         },
         "mode": "lines",
         "name": "Price",
         "showlegend": false,
         "type": "scatter",
         "x": [
          "2024-06-25T00:00:00",
          "2024-06-26T00:00:00"
         ],
         "y": [
          209.07000732421875,
          213.25
         ]
        },
        {
         "line": {
          "color": "green",
          "width": 2
         },
         "mode": "lines",
         "name": "Price",
         "showlegend": false,
         "type": "scatter",
         "x": [
          "2024-06-26T00:00:00",
          "2024-06-27T00:00:00"
         ],
         "y": [
          213.25,
          214.10000610351562
         ]
        },
        {
         "line": {
          "color": "green",
          "width": 2
         },
         "mode": "lines",
         "name": "Price",
         "showlegend": false,
         "type": "scatter",
         "x": [
          "2024-06-27T00:00:00",
          "2024-06-28T00:00:00"
         ],
         "y": [
          214.10000610351562,
          210.6199951171875
         ]
        },
        {
         "line": {
          "color": "green",
          "width": 2
         },
         "mode": "lines",
         "name": "Price",
         "showlegend": false,
         "type": "scatter",
         "x": [
          "2024-06-28T00:00:00",
          "2024-07-01T00:00:00"
         ],
         "y": [
          210.6199951171875,
          216.75
         ]
        },
        {
         "line": {
          "color": "green",
          "width": 2
         },
         "mode": "lines",
         "name": "Price",
         "showlegend": false,
         "type": "scatter",
         "x": [
          "2024-07-01T00:00:00",
          "2024-07-02T00:00:00"
         ],
         "y": [
          216.75,
          220.27000427246094
         ]
        },
        {
         "line": {
          "color": "green",
          "width": 2
         },
         "mode": "lines",
         "name": "Price",
         "showlegend": false,
         "type": "scatter",
         "x": [
          "2024-07-02T00:00:00",
          "2024-07-03T00:00:00"
         ],
         "y": [
          220.27000427246094,
          221.5500030517578
         ]
        },
        {
         "line": {
          "color": "green",
          "width": 2
         },
         "mode": "lines",
         "name": "Price",
         "showlegend": false,
         "type": "scatter",
         "x": [
          "2024-07-03T00:00:00",
          "2024-07-05T00:00:00"
         ],
         "y": [
          221.5500030517578,
          226.33999633789062
         ]
        },
        {
         "line": {
          "color": "green",
          "width": 2
         },
         "mode": "lines",
         "name": "Price",
         "showlegend": false,
         "type": "scatter",
         "x": [
          "2024-07-05T00:00:00",
          "2024-07-08T00:00:00"
         ],
         "y": [
          226.33999633789062,
          227.82000732421875
         ]
        },
        {
         "line": {
          "color": "green",
          "width": 2
         },
         "mode": "lines",
         "name": "Price",
         "showlegend": false,
         "type": "scatter",
         "x": [
          "2024-07-08T00:00:00",
          "2024-07-09T00:00:00"
         ],
         "y": [
          227.82000732421875,
          228.67999267578125
         ]
        },
        {
         "line": {
          "color": "green",
          "width": 2
         },
         "mode": "lines",
         "name": "Price",
         "showlegend": false,
         "type": "scatter",
         "x": [
          "2024-07-09T00:00:00",
          "2024-07-10T00:00:00"
         ],
         "y": [
          228.67999267578125,
          232.97999572753906
         ]
        },
        {
         "line": {
          "color": "green",
          "width": 2
         },
         "mode": "lines",
         "name": "Price",
         "showlegend": false,
         "type": "scatter",
         "x": [
          "2024-07-10T00:00:00",
          "2024-07-11T00:00:00"
         ],
         "y": [
          232.97999572753906,
          227.57000732421875
         ]
        },
        {
         "line": {
          "color": "green",
          "width": 2
         },
         "mode": "lines",
         "name": "Price",
         "showlegend": false,
         "type": "scatter",
         "x": [
          "2024-07-11T00:00:00",
          "2024-07-12T00:00:00"
         ],
         "y": [
          227.57000732421875,
          230.5399932861328
         ]
        },
        {
         "line": {
          "color": "green",
          "width": 2
         },
         "mode": "lines",
         "name": "Price",
         "showlegend": false,
         "type": "scatter",
         "x": [
          "2024-07-12T00:00:00",
          "2024-07-15T00:00:00"
         ],
         "y": [
          230.5399932861328,
          234.39999389648438
         ]
        },
        {
         "line": {
          "color": "green",
          "width": 2
         },
         "mode": "lines",
         "name": "Price",
         "showlegend": false,
         "type": "scatter",
         "x": [
          "2024-07-15T00:00:00",
          "2024-07-16T00:00:00"
         ],
         "y": [
          234.39999389648438,
          234.82000732421875
         ]
        },
        {
         "line": {
          "color": "green",
          "width": 2
         },
         "mode": "lines",
         "name": "Price",
         "showlegend": false,
         "type": "scatter",
         "x": [
          "2024-07-16T00:00:00",
          "2024-07-17T00:00:00"
         ],
         "y": [
          234.82000732421875,
          228.8800048828125
         ]
        },
        {
         "line": {
          "color": "green",
          "width": 2
         },
         "mode": "lines",
         "name": "Price",
         "showlegend": false,
         "type": "scatter",
         "x": [
          "2024-07-17T00:00:00",
          "2024-07-18T00:00:00"
         ],
         "y": [
          228.8800048828125,
          224.17999267578125
         ]
        },
        {
         "line": {
          "color": "green",
          "width": 2
         },
         "mode": "lines",
         "name": "Price",
         "showlegend": false,
         "type": "scatter",
         "x": [
          "2024-07-18T00:00:00",
          "2024-07-19T00:00:00"
         ],
         "y": [
          224.17999267578125,
          224.30999755859375
         ]
        },
        {
         "line": {
          "color": "green",
          "width": 2
         },
         "mode": "lines",
         "name": "Price",
         "showlegend": false,
         "type": "scatter",
         "x": [
          "2024-07-19T00:00:00",
          "2024-07-22T00:00:00"
         ],
         "y": [
          224.30999755859375,
          223.9600067138672
         ]
        },
        {
         "line": {
          "color": "green",
          "width": 2
         },
         "mode": "lines",
         "name": "Price",
         "showlegend": false,
         "type": "scatter",
         "x": [
          "2024-07-22T00:00:00",
          "2024-07-23T00:00:00"
         ],
         "y": [
          223.9600067138672,
          225.00999450683594
         ]
        },
        {
         "line": {
          "color": "green",
          "width": 2
         },
         "mode": "lines",
         "name": "Price",
         "showlegend": false,
         "type": "scatter",
         "x": [
          "2024-07-23T00:00:00",
          "2024-07-24T00:00:00"
         ],
         "y": [
          225.00999450683594,
          218.5399932861328
         ]
        },
        {
         "line": {
          "color": "green",
          "width": 2
         },
         "mode": "lines",
         "name": "Price",
         "showlegend": false,
         "type": "scatter",
         "x": [
          "2024-07-24T00:00:00",
          "2024-07-25T00:00:00"
         ],
         "y": [
          218.5399932861328,
          217.49000549316406
         ]
        },
        {
         "line": {
          "color": "green",
          "width": 2
         },
         "mode": "lines",
         "name": "Price",
         "showlegend": false,
         "type": "scatter",
         "x": [
          "2024-07-25T00:00:00",
          "2024-07-26T00:00:00"
         ],
         "y": [
          217.49000549316406,
          217.9600067138672
         ]
        },
        {
         "line": {
          "color": "green",
          "width": 2
         },
         "mode": "lines",
         "name": "Price",
         "showlegend": false,
         "type": "scatter",
         "x": [
          "2024-07-26T00:00:00",
          "2024-07-29T00:00:00"
         ],
         "y": [
          217.9600067138672,
          218.24000549316406
         ]
        },
        {
         "line": {
          "color": "green",
          "width": 2
         },
         "mode": "lines",
         "name": "Price",
         "showlegend": false,
         "type": "scatter",
         "x": [
          "2024-07-29T00:00:00",
          "2024-07-30T00:00:00"
         ],
         "y": [
          218.24000549316406,
          218.8000030517578
         ]
        },
        {
         "line": {
          "color": "green",
          "width": 2
         },
         "mode": "lines",
         "name": "Price",
         "showlegend": false,
         "type": "scatter",
         "x": [
          "2024-07-30T00:00:00",
          "2024-07-31T00:00:00"
         ],
         "y": [
          218.8000030517578,
          222.0800018310547
         ]
        },
        {
         "line": {
          "color": "green",
          "width": 2
         },
         "mode": "lines",
         "name": "Price",
         "showlegend": false,
         "type": "scatter",
         "x": [
          "2024-07-31T00:00:00",
          "2024-08-01T00:00:00"
         ],
         "y": [
          222.0800018310547,
          218.36000061035156
         ]
        },
        {
         "line": {
          "color": "green",
          "width": 2
         },
         "mode": "lines",
         "name": "Price",
         "showlegend": false,
         "type": "scatter",
         "x": [
          "2024-08-01T00:00:00",
          "2024-08-02T00:00:00"
         ],
         "y": [
          218.36000061035156,
          219.86000061035156
         ]
        },
        {
         "line": {
          "color": "green",
          "width": 2
         },
         "mode": "lines",
         "name": "Price",
         "showlegend": false,
         "type": "scatter",
         "x": [
          "2024-08-02T00:00:00",
          "2024-08-05T00:00:00"
         ],
         "y": [
          219.86000061035156,
          209.27000427246094
         ]
        },
        {
         "line": {
          "color": "green",
          "width": 2
         },
         "mode": "lines",
         "name": "Price",
         "showlegend": false,
         "type": "scatter",
         "x": [
          "2024-08-05T00:00:00",
          "2024-08-06T00:00:00"
         ],
         "y": [
          209.27000427246094,
          207.22999572753906
         ]
        },
        {
         "line": {
          "color": "red",
          "width": 2
         },
         "mode": "lines",
         "name": "Price",
         "showlegend": false,
         "type": "scatter",
         "x": [
          "2024-08-06T00:00:00",
          "2024-08-07T00:00:00"
         ],
         "y": [
          207.22999572753906,
          209.82000732421875
         ]
        },
        {
         "line": {
          "color": "green",
          "width": 2
         },
         "mode": "lines",
         "name": "Price",
         "showlegend": false,
         "type": "scatter",
         "x": [
          "2024-08-07T00:00:00",
          "2024-08-08T00:00:00"
         ],
         "y": [
          209.82000732421875,
          213.30999755859375
         ]
        },
        {
         "line": {
          "color": "green",
          "width": 2
         },
         "mode": "lines",
         "name": "Price",
         "showlegend": false,
         "type": "scatter",
         "x": [
          "2024-08-08T00:00:00",
          "2024-08-09T00:00:00"
         ],
         "y": [
          213.30999755859375,
          216.24000549316406
         ]
        },
        {
         "line": {
          "color": "green",
          "width": 2
         },
         "mode": "lines",
         "name": "Price",
         "showlegend": false,
         "type": "scatter",
         "x": [
          "2024-08-09T00:00:00",
          "2024-08-12T00:00:00"
         ],
         "y": [
          216.24000549316406,
          217.52999877929688
         ]
        },
        {
         "line": {
          "color": "green",
          "width": 2
         },
         "mode": "lines",
         "name": "Price",
         "showlegend": false,
         "type": "scatter",
         "x": [
          "2024-08-12T00:00:00",
          "2024-08-13T00:00:00"
         ],
         "y": [
          217.52999877929688,
          221.27000427246094
         ]
        },
        {
         "line": {
          "color": "green",
          "width": 2
         },
         "mode": "lines",
         "name": "Price",
         "showlegend": false,
         "type": "scatter",
         "x": [
          "2024-08-13T00:00:00",
          "2024-08-14T00:00:00"
         ],
         "y": [
          221.27000427246094,
          221.72000122070312
         ]
        },
        {
         "line": {
          "color": "green",
          "width": 2
         },
         "mode": "lines",
         "name": "Price",
         "showlegend": false,
         "type": "scatter",
         "x": [
          "2024-08-14T00:00:00",
          "2024-08-15T00:00:00"
         ],
         "y": [
          221.72000122070312,
          224.72000122070312
         ]
        },
        {
         "line": {
          "color": "green",
          "width": 2
         },
         "mode": "lines",
         "name": "Price",
         "showlegend": false,
         "type": "scatter",
         "x": [
          "2024-08-15T00:00:00",
          "2024-08-16T00:00:00"
         ],
         "y": [
          224.72000122070312,
          226.0500030517578
         ]
        },
        {
         "line": {
          "color": "red",
          "width": 2
         },
         "mode": "lines",
         "name": "Price",
         "showlegend": false,
         "type": "scatter",
         "x": [
          "2024-08-16T00:00:00",
          "2024-08-19T00:00:00"
         ],
         "y": [
          226.0500030517578,
          225.88999938964844
         ]
        },
        {
         "line": {
          "color": "red",
          "width": 2
         },
         "mode": "lines",
         "name": "Price",
         "showlegend": false,
         "type": "scatter",
         "x": [
          "2024-08-19T00:00:00",
          "2024-08-20T00:00:00"
         ],
         "y": [
          225.88999938964844,
          226.50999450683594
         ]
        },
        {
         "line": {
          "color": "red",
          "width": 2
         },
         "mode": "lines",
         "name": "Price",
         "showlegend": false,
         "type": "scatter",
         "x": [
          "2024-08-20T00:00:00",
          "2024-08-21T00:00:00"
         ],
         "y": [
          226.50999450683594,
          226.39999389648438
         ]
        },
        {
         "line": {
          "color": "red",
          "width": 2
         },
         "mode": "lines",
         "name": "Price",
         "showlegend": false,
         "type": "scatter",
         "x": [
          "2024-08-21T00:00:00",
          "2024-08-22T00:00:00"
         ],
         "y": [
          226.39999389648438,
          224.52999877929688
         ]
        },
        {
         "line": {
          "color": "red",
          "width": 2
         },
         "mode": "lines",
         "name": "Price",
         "showlegend": false,
         "type": "scatter",
         "x": [
          "2024-08-22T00:00:00",
          "2024-08-23T00:00:00"
         ],
         "y": [
          224.52999877929688,
          226.83999633789062
         ]
        },
        {
         "line": {
          "color": "red",
          "width": 2
         },
         "mode": "lines",
         "name": "Price",
         "showlegend": false,
         "type": "scatter",
         "x": [
          "2024-08-23T00:00:00",
          "2024-08-26T00:00:00"
         ],
         "y": [
          226.83999633789062,
          227.17999267578125
         ]
        },
        {
         "line": {
          "color": "red",
          "width": 2
         },
         "mode": "lines",
         "name": "Price",
         "showlegend": false,
         "type": "scatter",
         "x": [
          "2024-08-26T00:00:00",
          "2024-08-27T00:00:00"
         ],
         "y": [
          227.17999267578125,
          228.02999877929688
         ]
        },
        {
         "line": {
          "color": "red",
          "width": 2
         },
         "mode": "lines",
         "name": "Price",
         "showlegend": false,
         "type": "scatter",
         "x": [
          "2024-08-27T00:00:00",
          "2024-08-28T00:00:00"
         ],
         "y": [
          228.02999877929688,
          226.49000549316406
         ]
        },
        {
         "line": {
          "color": "red",
          "width": 2
         },
         "mode": "lines",
         "name": "Price",
         "showlegend": false,
         "type": "scatter",
         "x": [
          "2024-08-28T00:00:00",
          "2024-08-29T00:00:00"
         ],
         "y": [
          226.49000549316406,
          229.7899932861328
         ]
        },
        {
         "line": {
          "color": "green",
          "width": 2
         },
         "mode": "lines",
         "name": "Price",
         "showlegend": false,
         "type": "scatter",
         "x": [
          "2024-08-29T00:00:00",
          "2024-08-30T00:00:00"
         ],
         "y": [
          229.7899932861328,
          229
         ]
        },
        {
         "line": {
          "color": "green",
          "width": 2
         },
         "mode": "lines",
         "name": "Price",
         "showlegend": false,
         "type": "scatter",
         "x": [
          "2024-08-30T00:00:00",
          "2024-09-03T00:00:00"
         ],
         "y": [
          229,
          222.77000427246094
         ]
        },
        {
         "line": {
          "color": "red",
          "width": 2
         },
         "mode": "lines",
         "name": "Price",
         "showlegend": false,
         "type": "scatter",
         "x": [
          "2024-09-03T00:00:00",
          "2024-09-04T00:00:00"
         ],
         "y": [
          222.77000427246094,
          220.85000610351562
         ]
        },
        {
         "line": {
          "color": "red",
          "width": 2
         },
         "mode": "lines",
         "name": "Price",
         "showlegend": false,
         "type": "scatter",
         "x": [
          "2024-09-04T00:00:00",
          "2024-09-05T00:00:00"
         ],
         "y": [
          220.85000610351562,
          222.3800048828125
         ]
        },
        {
         "line": {
          "color": "green",
          "width": 2
         },
         "mode": "lines",
         "name": "Price",
         "showlegend": false,
         "type": "scatter",
         "x": [
          "2024-09-05T00:00:00",
          "2024-09-06T00:00:00"
         ],
         "y": [
          222.3800048828125,
          220.82000732421875
         ]
        },
        {
         "line": {
          "color": "green",
          "width": 2
         },
         "mode": "lines",
         "name": "Price",
         "showlegend": false,
         "type": "scatter",
         "x": [
          "2024-09-06T00:00:00",
          "2024-09-09T00:00:00"
         ],
         "y": [
          220.82000732421875,
          220.91000366210938
         ]
        },
        {
         "line": {
          "color": "green",
          "width": 2
         },
         "mode": "lines",
         "name": "Price",
         "showlegend": false,
         "type": "scatter",
         "x": [
          "2024-09-09T00:00:00",
          "2024-09-10T00:00:00"
         ],
         "y": [
          220.91000366210938,
          220.11000061035156
         ]
        },
        {
         "line": {
          "color": "green",
          "width": 2
         },
         "mode": "lines",
         "name": "Price",
         "showlegend": false,
         "type": "scatter",
         "x": [
          "2024-09-10T00:00:00",
          "2024-09-11T00:00:00"
         ],
         "y": [
          220.11000061035156,
          222.66000366210938
         ]
        },
        {
         "line": {
          "color": "green",
          "width": 2
         },
         "mode": "lines",
         "name": "Price",
         "showlegend": false,
         "type": "scatter",
         "x": [
          "2024-09-11T00:00:00",
          "2024-09-12T00:00:00"
         ],
         "y": [
          222.66000366210938,
          222.77000427246094
         ]
        },
        {
         "line": {
          "color": "green",
          "width": 2
         },
         "mode": "lines",
         "name": "Price",
         "showlegend": false,
         "type": "scatter",
         "x": [
          "2024-09-12T00:00:00",
          "2024-09-13T00:00:00"
         ],
         "y": [
          222.77000427246094,
          222.5
         ]
        },
        {
         "line": {
          "color": "green",
          "width": 2
         },
         "mode": "lines",
         "name": "Price",
         "showlegend": false,
         "type": "scatter",
         "x": [
          "2024-09-13T00:00:00",
          "2024-09-16T00:00:00"
         ],
         "y": [
          222.5,
          216.32000732421875
         ]
        },
        {
         "line": {
          "color": "red",
          "width": 2
         },
         "mode": "lines",
         "name": "Price",
         "showlegend": false,
         "type": "scatter",
         "x": [
          "2024-09-16T00:00:00",
          "2024-09-17T00:00:00"
         ],
         "y": [
          216.32000732421875,
          216.7899932861328
         ]
        },
        {
         "line": {
          "color": "green",
          "width": 2
         },
         "mode": "lines",
         "name": "Price",
         "showlegend": false,
         "type": "scatter",
         "x": [
          "2024-09-17T00:00:00",
          "2024-09-18T00:00:00"
         ],
         "y": [
          216.7899932861328,
          220.69000244140625
         ]
        },
        {
         "line": {
          "color": "green",
          "width": 2
         },
         "mode": "lines",
         "name": "Price",
         "showlegend": false,
         "type": "scatter",
         "x": [
          "2024-09-18T00:00:00",
          "2024-09-19T00:00:00"
         ],
         "y": [
          220.69000244140625,
          228.8699951171875
         ]
        },
        {
         "line": {
          "color": "green",
          "width": 2
         },
         "mode": "lines",
         "name": "Price",
         "showlegend": false,
         "type": "scatter",
         "x": [
          "2024-09-19T00:00:00",
          "2024-09-20T00:00:00"
         ],
         "y": [
          228.8699951171875,
          228.1999969482422
         ]
        },
        {
         "line": {
          "color": "green",
          "width": 2
         },
         "mode": "lines",
         "name": "Price",
         "showlegend": false,
         "type": "scatter",
         "x": [
          "2024-09-20T00:00:00",
          "2024-09-23T00:00:00"
         ],
         "y": [
          228.1999969482422,
          226.47000122070312
         ]
        },
        {
         "line": {
          "color": "green",
          "width": 2
         },
         "mode": "lines",
         "name": "Price",
         "showlegend": false,
         "type": "scatter",
         "x": [
          "2024-09-23T00:00:00",
          "2024-09-24T00:00:00"
         ],
         "y": [
          226.47000122070312,
          227.3699951171875
         ]
        },
        {
         "line": {
          "color": "green",
          "width": 2
         },
         "mode": "lines",
         "name": "Price",
         "showlegend": false,
         "type": "scatter",
         "x": [
          "2024-09-24T00:00:00",
          "2024-09-25T00:00:00"
         ],
         "y": [
          227.3699951171875,
          226.3699951171875
         ]
        },
        {
         "line": {
          "color": "green",
          "width": 2
         },
         "mode": "lines",
         "name": "Price",
         "showlegend": false,
         "type": "scatter",
         "x": [
          "2024-09-25T00:00:00",
          "2024-09-26T00:00:00"
         ],
         "y": [
          226.3699951171875,
          227.52000427246094
         ]
        },
        {
         "line": {
          "color": "green",
          "width": 2
         },
         "mode": "lines",
         "name": "Price",
         "showlegend": false,
         "type": "scatter",
         "x": [
          "2024-09-26T00:00:00",
          "2024-09-27T00:00:00"
         ],
         "y": [
          227.52000427246094,
          227.7899932861328
         ]
        },
        {
         "line": {
          "color": "green",
          "width": 2
         },
         "mode": "lines",
         "name": "Price",
         "showlegend": false,
         "type": "scatter",
         "x": [
          "2024-09-27T00:00:00",
          "2024-09-30T00:00:00"
         ],
         "y": [
          227.7899932861328,
          233
         ]
        },
        {
         "line": {
          "color": "green",
          "width": 2
         },
         "mode": "lines",
         "name": "Price",
         "showlegend": false,
         "type": "scatter",
         "x": [
          "2024-09-30T00:00:00",
          "2024-10-01T00:00:00"
         ],
         "y": [
          233,
          226.2100067138672
         ]
        },
        {
         "line": {
          "color": "green",
          "width": 2
         },
         "mode": "lines",
         "name": "Price",
         "showlegend": false,
         "type": "scatter",
         "x": [
          "2024-10-01T00:00:00",
          "2024-10-02T00:00:00"
         ],
         "y": [
          226.2100067138672,
          226.77999877929688
         ]
        },
        {
         "line": {
          "color": "green",
          "width": 2
         },
         "mode": "lines",
         "name": "Price",
         "showlegend": false,
         "type": "scatter",
         "x": [
          "2024-10-02T00:00:00",
          "2024-10-03T00:00:00"
         ],
         "y": [
          226.77999877929688,
          225.6699981689453
         ]
        },
        {
         "line": {
          "color": "red",
          "width": 2
         },
         "mode": "lines",
         "name": "Price",
         "showlegend": false,
         "type": "scatter",
         "x": [
          "2024-10-03T00:00:00",
          "2024-10-04T00:00:00"
         ],
         "y": [
          225.6699981689453,
          226.8000030517578
         ]
        },
        {
         "line": {
          "color": "green",
          "width": 2
         },
         "mode": "lines",
         "name": "Price",
         "showlegend": false,
         "type": "scatter",
         "x": [
          "2024-10-04T00:00:00",
          "2024-10-07T00:00:00"
         ],
         "y": [
          226.8000030517578,
          221.69000244140625
         ]
        },
        {
         "line": {
          "color": "red",
          "width": 2
         },
         "mode": "lines",
         "name": "Price",
         "showlegend": false,
         "type": "scatter",
         "x": [
          "2024-10-07T00:00:00",
          "2024-10-08T00:00:00"
         ],
         "y": [
          221.69000244140625,
          225.77000427246094
         ]
        },
        {
         "line": {
          "color": "red",
          "width": 2
         },
         "mode": "lines",
         "name": "Price",
         "showlegend": false,
         "type": "scatter",
         "x": [
          "2024-10-08T00:00:00",
          "2024-10-09T00:00:00"
         ],
         "y": [
          225.77000427246094,
          229.5399932861328
         ]
        },
        {
         "line": {
          "color": "green",
          "width": 2
         },
         "mode": "lines",
         "name": "Price",
         "showlegend": false,
         "type": "scatter",
         "x": [
          "2024-10-09T00:00:00",
          "2024-10-10T00:00:00"
         ],
         "y": [
          229.5399932861328,
          229.0399932861328
         ]
        },
        {
         "line": {
          "color": "green",
          "width": 2
         },
         "mode": "lines",
         "name": "Price",
         "showlegend": false,
         "type": "scatter",
         "x": [
          "2024-10-10T00:00:00",
          "2024-10-11T00:00:00"
         ],
         "y": [
          229.0399932861328,
          227.5500030517578
         ]
        },
        {
         "line": {
          "color": "red",
          "width": 2
         },
         "mode": "lines",
         "name": "Price",
         "showlegend": false,
         "type": "scatter",
         "x": [
          "2024-10-11T00:00:00",
          "2024-10-14T00:00:00"
         ],
         "y": [
          227.5500030517578,
          231.3000030517578
         ]
        },
        {
         "line": {
          "color": "green",
          "width": 2
         },
         "mode": "lines",
         "name": "Price",
         "showlegend": false,
         "type": "scatter",
         "x": [
          "2024-10-14T00:00:00",
          "2024-10-15T00:00:00"
         ],
         "y": [
          231.3000030517578,
          233.85000610351562
         ]
        },
        {
         "line": {
          "color": "green",
          "width": 2
         },
         "mode": "lines",
         "name": "Price",
         "showlegend": false,
         "type": "scatter",
         "x": [
          "2024-10-15T00:00:00",
          "2024-10-16T00:00:00"
         ],
         "y": [
          233.85000610351562,
          231.77999877929688
         ]
        },
        {
         "line": {
          "color": "green",
          "width": 2
         },
         "mode": "lines",
         "name": "Price",
         "showlegend": false,
         "type": "scatter",
         "x": [
          "2024-10-16T00:00:00",
          "2024-10-17T00:00:00"
         ],
         "y": [
          231.77999877929688,
          232.14999389648438
         ]
        },
        {
         "line": {
          "color": "green",
          "width": 2
         },
         "mode": "lines",
         "name": "Price",
         "showlegend": false,
         "type": "scatter",
         "x": [
          "2024-10-17T00:00:00",
          "2024-10-18T00:00:00"
         ],
         "y": [
          232.14999389648438,
          235
         ]
        },
        {
         "line": {
          "color": "green",
          "width": 2
         },
         "mode": "lines",
         "name": "Price",
         "showlegend": false,
         "type": "scatter",
         "x": [
          "2024-10-18T00:00:00",
          "2024-10-21T00:00:00"
         ],
         "y": [
          235,
          236.47999572753906
         ]
        },
        {
         "line": {
          "color": "green",
          "width": 2
         },
         "mode": "lines",
         "name": "Price",
         "showlegend": false,
         "type": "scatter",
         "x": [
          "2024-10-21T00:00:00",
          "2024-10-22T00:00:00"
         ],
         "y": [
          236.47999572753906,
          235.86000061035156
         ]
        },
        {
         "line": {
          "color": "green",
          "width": 2
         },
         "mode": "lines",
         "name": "Price",
         "showlegend": false,
         "type": "scatter",
         "x": [
          "2024-10-22T00:00:00",
          "2024-10-23T00:00:00"
         ],
         "y": [
          235.86000061035156,
          230.75999450683594
         ]
        },
        {
         "line": {
          "color": "green",
          "width": 2
         },
         "mode": "lines",
         "name": "Price",
         "showlegend": false,
         "type": "scatter",
         "x": [
          "2024-10-23T00:00:00",
          "2024-10-24T00:00:00"
         ],
         "y": [
          230.75999450683594,
          230.57000732421875
         ]
        },
        {
         "line": {
          "color": "green",
          "width": 2
         },
         "mode": "lines",
         "name": "Price",
         "showlegend": false,
         "type": "scatter",
         "x": [
          "2024-10-24T00:00:00",
          "2024-10-25T00:00:00"
         ],
         "y": [
          230.57000732421875,
          231.41000366210938
         ]
        },
        {
         "line": {
          "color": "green",
          "width": 2
         },
         "mode": "lines",
         "name": "Price",
         "showlegend": false,
         "type": "scatter",
         "x": [
          "2024-10-25T00:00:00",
          "2024-10-28T00:00:00"
         ],
         "y": [
          231.41000366210938,
          233.39999389648438
         ]
        },
        {
         "line": {
          "color": "green",
          "width": 2
         },
         "mode": "lines",
         "name": "Price",
         "showlegend": false,
         "type": "scatter",
         "x": [
          "2024-10-28T00:00:00",
          "2024-10-29T00:00:00"
         ],
         "y": [
          233.39999389648438,
          233.6699981689453
         ]
        },
        {
         "line": {
          "color": "green",
          "width": 2
         },
         "mode": "lines",
         "name": "Price",
         "showlegend": false,
         "type": "scatter",
         "x": [
          "2024-10-29T00:00:00",
          "2024-10-30T00:00:00"
         ],
         "y": [
          233.6699981689453,
          230.10000610351562
         ]
        },
        {
         "line": {
          "color": "green",
          "width": 2
         },
         "mode": "lines",
         "name": "Price",
         "showlegend": false,
         "type": "scatter",
         "x": [
          "2024-10-30T00:00:00",
          "2024-10-31T00:00:00"
         ],
         "y": [
          230.10000610351562,
          225.91000366210938
         ]
        },
        {
         "line": {
          "color": "red",
          "width": 2
         },
         "mode": "lines",
         "name": "Price",
         "showlegend": false,
         "type": "scatter",
         "x": [
          "2024-10-31T00:00:00",
          "2024-11-01T00:00:00"
         ],
         "y": [
          225.91000366210938,
          222.91000366210938
         ]
        },
        {
         "line": {
          "color": "red",
          "width": 2
         },
         "mode": "lines",
         "name": "Price",
         "showlegend": false,
         "type": "scatter",
         "x": [
          "2024-11-01T00:00:00",
          "2024-11-04T00:00:00"
         ],
         "y": [
          222.91000366210938,
          222.00999450683594
         ]
        },
        {
         "line": {
          "color": "red",
          "width": 2
         },
         "mode": "lines",
         "name": "Price",
         "showlegend": false,
         "type": "scatter",
         "x": [
          "2024-11-04T00:00:00",
          "2024-11-05T00:00:00"
         ],
         "y": [
          222.00999450683594,
          223.4499969482422
         ]
        },
        {
         "line": {
          "color": "red",
          "width": 2
         },
         "mode": "lines",
         "name": "Price",
         "showlegend": false,
         "type": "scatter",
         "x": [
          "2024-11-05T00:00:00",
          "2024-11-06T00:00:00"
         ],
         "y": [
          223.4499969482422,
          222.72000122070312
         ]
        },
        {
         "line": {
          "color": "red",
          "width": 2
         },
         "mode": "lines",
         "name": "Price",
         "showlegend": false,
         "type": "scatter",
         "x": [
          "2024-11-06T00:00:00",
          "2024-11-07T00:00:00"
         ],
         "y": [
          222.72000122070312,
          227.47999572753906
         ]
        },
        {
         "line": {
          "color": "red",
          "width": 2
         },
         "mode": "lines",
         "name": "Price",
         "showlegend": false,
         "type": "scatter",
         "x": [
          "2024-11-07T00:00:00",
          "2024-11-08T00:00:00"
         ],
         "y": [
          227.47999572753906,
          226.9600067138672
         ]
        },
        {
         "line": {
          "color": "red",
          "width": 2
         },
         "mode": "lines",
         "name": "Price",
         "showlegend": false,
         "type": "scatter",
         "x": [
          "2024-11-08T00:00:00",
          "2024-11-11T00:00:00"
         ],
         "y": [
          226.9600067138672,
          224.22999572753906
         ]
        },
        {
         "line": {
          "color": "red",
          "width": 2
         },
         "mode": "lines",
         "name": "Price",
         "showlegend": false,
         "type": "scatter",
         "x": [
          "2024-11-11T00:00:00",
          "2024-11-12T00:00:00"
         ],
         "y": [
          224.22999572753906,
          224.22999572753906
         ]
        },
        {
         "line": {
          "color": "red",
          "width": 2
         },
         "mode": "lines",
         "name": "Price",
         "showlegend": false,
         "type": "scatter",
         "x": [
          "2024-11-12T00:00:00",
          "2024-11-13T00:00:00"
         ],
         "y": [
          224.22999572753906,
          225.1199951171875
         ]
        },
        {
         "line": {
          "color": "red",
          "width": 2
         },
         "mode": "lines",
         "name": "Price",
         "showlegend": false,
         "type": "scatter",
         "x": [
          "2024-11-13T00:00:00",
          "2024-11-14T00:00:00"
         ],
         "y": [
          225.1199951171875,
          228.22000122070312
         ]
        },
        {
         "line": {
          "color": "green",
          "width": 2
         },
         "mode": "lines",
         "name": "Price",
         "showlegend": false,
         "type": "scatter",
         "x": [
          "2024-11-14T00:00:00",
          "2024-11-15T00:00:00"
         ],
         "y": [
          228.22000122070312,
          225
         ]
        },
        {
         "line": {
          "color": "red",
          "width": 2
         },
         "mode": "lines",
         "name": "Price",
         "showlegend": false,
         "type": "scatter",
         "x": [
          "2024-11-15T00:00:00",
          "2024-11-18T00:00:00"
         ],
         "y": [
          225,
          228.02000427246094
         ]
        },
        {
         "line": {
          "color": "green",
          "width": 2
         },
         "mode": "lines",
         "name": "Price",
         "showlegend": false,
         "type": "scatter",
         "x": [
          "2024-11-18T00:00:00",
          "2024-11-19T00:00:00"
         ],
         "y": [
          228.02000427246094,
          228.27999877929688
         ]
        },
        {
         "line": {
          "color": "green",
          "width": 2
         },
         "mode": "lines",
         "name": "Price",
         "showlegend": false,
         "type": "scatter",
         "x": [
          "2024-11-19T00:00:00",
          "2024-11-20T00:00:00"
         ],
         "y": [
          228.27999877929688,
          229
         ]
        },
        {
         "line": {
          "color": "red",
          "width": 2
         },
         "mode": "lines",
         "name": "Price",
         "showlegend": false,
         "type": "scatter",
         "x": [
          "2024-11-20T00:00:00",
          "2024-11-21T00:00:00"
         ],
         "y": [
          229,
          228.52000427246094
         ]
        },
        {
         "line": {
          "color": "red",
          "width": 2
         },
         "mode": "lines",
         "name": "Price",
         "showlegend": false,
         "type": "scatter",
         "x": [
          "2024-11-21T00:00:00",
          "2024-11-22T00:00:00"
         ],
         "y": [
          228.52000427246094,
          229.8699951171875
         ]
        },
        {
         "line": {
          "color": "green",
          "width": 2
         },
         "mode": "lines",
         "name": "Price",
         "showlegend": false,
         "type": "scatter",
         "x": [
          "2024-11-22T00:00:00",
          "2024-11-25T00:00:00"
         ],
         "y": [
          229.8699951171875,
          232.8699951171875
         ]
        },
        {
         "line": {
          "color": "green",
          "width": 2
         },
         "mode": "lines",
         "name": "Price",
         "showlegend": false,
         "type": "scatter",
         "x": [
          "2024-11-25T00:00:00",
          "2024-11-26T00:00:00"
         ],
         "y": [
          232.8699951171875,
          235.05999755859375
         ]
        },
        {
         "line": {
          "color": "green",
          "width": 2
         },
         "mode": "lines",
         "name": "Price",
         "showlegend": false,
         "type": "scatter",
         "x": [
          "2024-11-26T00:00:00",
          "2024-11-27T00:00:00"
         ],
         "y": [
          235.05999755859375,
          234.92999267578125
         ]
        },
        {
         "line": {
          "color": "green",
          "width": 2
         },
         "mode": "lines",
         "name": "Price",
         "showlegend": false,
         "type": "scatter",
         "x": [
          "2024-11-27T00:00:00",
          "2024-11-29T00:00:00"
         ],
         "y": [
          234.92999267578125,
          237.3300018310547
         ]
        },
        {
         "line": {
          "color": "green",
          "width": 2
         },
         "mode": "lines",
         "name": "Price",
         "showlegend": false,
         "type": "scatter",
         "x": [
          "2024-11-29T00:00:00",
          "2024-12-02T00:00:00"
         ],
         "y": [
          237.3300018310547,
          239.58999633789062
         ]
        },
        {
         "line": {
          "color": "green",
          "width": 2
         },
         "mode": "lines",
         "name": "Price",
         "showlegend": false,
         "type": "scatter",
         "x": [
          "2024-12-02T00:00:00",
          "2024-12-03T00:00:00"
         ],
         "y": [
          239.58999633789062,
          242.64999389648438
         ]
        },
        {
         "line": {
          "color": "green",
          "width": 2
         },
         "mode": "lines",
         "name": "Price",
         "showlegend": false,
         "type": "scatter",
         "x": [
          "2024-12-03T00:00:00",
          "2024-12-04T00:00:00"
         ],
         "y": [
          242.64999389648438,
          243.00999450683594
         ]
        },
        {
         "line": {
          "color": "green",
          "width": 2
         },
         "mode": "lines",
         "name": "Price",
         "showlegend": false,
         "type": "scatter",
         "x": [
          "2024-12-04T00:00:00",
          "2024-12-05T00:00:00"
         ],
         "y": [
          243.00999450683594,
          243.0399932861328
         ]
        },
        {
         "line": {
          "color": "green",
          "width": 2
         },
         "mode": "lines",
         "name": "Price",
         "showlegend": false,
         "type": "scatter",
         "x": [
          "2024-12-05T00:00:00",
          "2024-12-06T00:00:00"
         ],
         "y": [
          243.0399932861328,
          242.83999633789062
         ]
        },
        {
         "line": {
          "color": "green",
          "width": 2
         },
         "mode": "lines",
         "name": "Price",
         "showlegend": false,
         "type": "scatter",
         "x": [
          "2024-12-06T00:00:00",
          "2024-12-09T00:00:00"
         ],
         "y": [
          242.83999633789062,
          247.07000732421875
         ]
        }
       ],
       "layout": {
        "legend": {
         "orientation": "h",
         "x": 0.45,
         "xanchor": "center",
         "y": 1.15
        },
        "showlegend": true,
        "template": {
         "data": {
          "bar": [
           {
            "error_x": {
             "color": "#f2f5fa"
            },
            "error_y": {
             "color": "#f2f5fa"
            },
            "marker": {
             "line": {
              "color": "rgb(17,17,17)",
              "width": 0.5
             },
             "pattern": {
              "fillmode": "overlay",
              "size": 10,
              "solidity": 0.2
             }
            },
            "type": "bar"
           }
          ],
          "barpolar": [
           {
            "marker": {
             "line": {
              "color": "rgb(17,17,17)",
              "width": 0.5
             },
             "pattern": {
              "fillmode": "overlay",
              "size": 10,
              "solidity": 0.2
             }
            },
            "type": "barpolar"
           }
          ],
          "carpet": [
           {
            "aaxis": {
             "endlinecolor": "#A2B1C6",
             "gridcolor": "#506784",
             "linecolor": "#506784",
             "minorgridcolor": "#506784",
             "startlinecolor": "#A2B1C6"
            },
            "baxis": {
             "endlinecolor": "#A2B1C6",
             "gridcolor": "#506784",
             "linecolor": "#506784",
             "minorgridcolor": "#506784",
             "startlinecolor": "#A2B1C6"
            },
            "type": "carpet"
           }
          ],
          "choropleth": [
           {
            "colorbar": {
             "outlinewidth": 0,
             "ticks": ""
            },
            "type": "choropleth"
           }
          ],
          "contour": [
           {
            "colorbar": {
             "outlinewidth": 0,
             "ticks": ""
            },
            "colorscale": [
             [
              0,
              "#0d0887"
             ],
             [
              0.1111111111111111,
              "#46039f"
             ],
             [
              0.2222222222222222,
              "#7201a8"
             ],
             [
              0.3333333333333333,
              "#9c179e"
             ],
             [
              0.4444444444444444,
              "#bd3786"
             ],
             [
              0.5555555555555556,
              "#d8576b"
             ],
             [
              0.6666666666666666,
              "#ed7953"
             ],
             [
              0.7777777777777778,
              "#fb9f3a"
             ],
             [
              0.8888888888888888,
              "#fdca26"
             ],
             [
              1,
              "#f0f921"
             ]
            ],
            "type": "contour"
           }
          ],
          "contourcarpet": [
           {
            "colorbar": {
             "outlinewidth": 0,
             "ticks": ""
            },
            "type": "contourcarpet"
           }
          ],
          "heatmap": [
           {
            "colorbar": {
             "outlinewidth": 0,
             "ticks": ""
            },
            "colorscale": [
             [
              0,
              "#0d0887"
             ],
             [
              0.1111111111111111,
              "#46039f"
             ],
             [
              0.2222222222222222,
              "#7201a8"
             ],
             [
              0.3333333333333333,
              "#9c179e"
             ],
             [
              0.4444444444444444,
              "#bd3786"
             ],
             [
              0.5555555555555556,
              "#d8576b"
             ],
             [
              0.6666666666666666,
              "#ed7953"
             ],
             [
              0.7777777777777778,
              "#fb9f3a"
             ],
             [
              0.8888888888888888,
              "#fdca26"
             ],
             [
              1,
              "#f0f921"
             ]
            ],
            "type": "heatmap"
           }
          ],
          "heatmapgl": [
           {
            "colorbar": {
             "outlinewidth": 0,
             "ticks": ""
            },
            "colorscale": [
             [
              0,
              "#0d0887"
             ],
             [
              0.1111111111111111,
              "#46039f"
             ],
             [
              0.2222222222222222,
              "#7201a8"
             ],
             [
              0.3333333333333333,
              "#9c179e"
             ],
             [
              0.4444444444444444,
              "#bd3786"
             ],
             [
              0.5555555555555556,
              "#d8576b"
             ],
             [
              0.6666666666666666,
              "#ed7953"
             ],
             [
              0.7777777777777778,
              "#fb9f3a"
             ],
             [
              0.8888888888888888,
              "#fdca26"
             ],
             [
              1,
              "#f0f921"
             ]
            ],
            "type": "heatmapgl"
           }
          ],
          "histogram": [
           {
            "marker": {
             "pattern": {
              "fillmode": "overlay",
              "size": 10,
              "solidity": 0.2
             }
            },
            "type": "histogram"
           }
          ],
          "histogram2d": [
           {
            "colorbar": {
             "outlinewidth": 0,
             "ticks": ""
            },
            "colorscale": [
             [
              0,
              "#0d0887"
             ],
             [
              0.1111111111111111,
              "#46039f"
             ],
             [
              0.2222222222222222,
              "#7201a8"
             ],
             [
              0.3333333333333333,
              "#9c179e"
             ],
             [
              0.4444444444444444,
              "#bd3786"
             ],
             [
              0.5555555555555556,
              "#d8576b"
             ],
             [
              0.6666666666666666,
              "#ed7953"
             ],
             [
              0.7777777777777778,
              "#fb9f3a"
             ],
             [
              0.8888888888888888,
              "#fdca26"
             ],
             [
              1,
              "#f0f921"
             ]
            ],
            "type": "histogram2d"
           }
          ],
          "histogram2dcontour": [
           {
            "colorbar": {
             "outlinewidth": 0,
             "ticks": ""
            },
            "colorscale": [
             [
              0,
              "#0d0887"
             ],
             [
              0.1111111111111111,
              "#46039f"
             ],
             [
              0.2222222222222222,
              "#7201a8"
             ],
             [
              0.3333333333333333,
              "#9c179e"
             ],
             [
              0.4444444444444444,
              "#bd3786"
             ],
             [
              0.5555555555555556,
              "#d8576b"
             ],
             [
              0.6666666666666666,
              "#ed7953"
             ],
             [
              0.7777777777777778,
              "#fb9f3a"
             ],
             [
              0.8888888888888888,
              "#fdca26"
             ],
             [
              1,
              "#f0f921"
             ]
            ],
            "type": "histogram2dcontour"
           }
          ],
          "mesh3d": [
           {
            "colorbar": {
             "outlinewidth": 0,
             "ticks": ""
            },
            "type": "mesh3d"
           }
          ],
          "parcoords": [
           {
            "line": {
             "colorbar": {
              "outlinewidth": 0,
              "ticks": ""
             }
            },
            "type": "parcoords"
           }
          ],
          "pie": [
           {
            "automargin": true,
            "type": "pie"
           }
          ],
          "scatter": [
           {
            "marker": {
             "line": {
              "color": "#283442"
             }
            },
            "type": "scatter"
           }
          ],
          "scatter3d": [
           {
            "line": {
             "colorbar": {
              "outlinewidth": 0,
              "ticks": ""
             }
            },
            "marker": {
             "colorbar": {
              "outlinewidth": 0,
              "ticks": ""
             }
            },
            "type": "scatter3d"
           }
          ],
          "scattercarpet": [
           {
            "marker": {
             "colorbar": {
              "outlinewidth": 0,
              "ticks": ""
             }
            },
            "type": "scattercarpet"
           }
          ],
          "scattergeo": [
           {
            "marker": {
             "colorbar": {
              "outlinewidth": 0,
              "ticks": ""
             }
            },
            "type": "scattergeo"
           }
          ],
          "scattergl": [
           {
            "marker": {
             "line": {
              "color": "#283442"
             }
            },
            "type": "scattergl"
           }
          ],
          "scattermapbox": [
           {
            "marker": {
             "colorbar": {
              "outlinewidth": 0,
              "ticks": ""
             }
            },
            "type": "scattermapbox"
           }
          ],
          "scatterpolar": [
           {
            "marker": {
             "colorbar": {
              "outlinewidth": 0,
              "ticks": ""
             }
            },
            "type": "scatterpolar"
           }
          ],
          "scatterpolargl": [
           {
            "marker": {
             "colorbar": {
              "outlinewidth": 0,
              "ticks": ""
             }
            },
            "type": "scatterpolargl"
           }
          ],
          "scatterternary": [
           {
            "marker": {
             "colorbar": {
              "outlinewidth": 0,
              "ticks": ""
             }
            },
            "type": "scatterternary"
           }
          ],
          "surface": [
           {
            "colorbar": {
             "outlinewidth": 0,
             "ticks": ""
            },
            "colorscale": [
             [
              0,
              "#0d0887"
             ],
             [
              0.1111111111111111,
              "#46039f"
             ],
             [
              0.2222222222222222,
              "#7201a8"
             ],
             [
              0.3333333333333333,
              "#9c179e"
             ],
             [
              0.4444444444444444,
              "#bd3786"
             ],
             [
              0.5555555555555556,
              "#d8576b"
             ],
             [
              0.6666666666666666,
              "#ed7953"
             ],
             [
              0.7777777777777778,
              "#fb9f3a"
             ],
             [
              0.8888888888888888,
              "#fdca26"
             ],
             [
              1,
              "#f0f921"
             ]
            ],
            "type": "surface"
           }
          ],
          "table": [
           {
            "cells": {
             "fill": {
              "color": "#506784"
             },
             "line": {
              "color": "rgb(17,17,17)"
             }
            },
            "header": {
             "fill": {
              "color": "#2a3f5f"
             },
             "line": {
              "color": "rgb(17,17,17)"
             }
            },
            "type": "table"
           }
          ]
         },
         "layout": {
          "annotationdefaults": {
           "arrowcolor": "#f2f5fa",
           "arrowhead": 0,
           "arrowwidth": 1
          },
          "annotations": [
           {
            "font": {
             "color": "black",
             "size": 90
            },
            "name": "draft watermark",
            "opacity": 0.1,
            "showarrow": false,
            "text": "humblDATA",
            "textangle": -25,
            "x": 0.5,
            "xref": "paper",
            "y": 0.5,
            "yref": "paper"
           }
          ],
          "autotypenumbers": "strict",
          "coloraxis": {
           "colorbar": {
            "outlinewidth": 0,
            "ticks": ""
           }
          },
          "colorscale": {
           "diverging": [
            [
             0,
             "#8e0152"
            ],
            [
             0.1,
             "#c51b7d"
            ],
            [
             0.2,
             "#de77ae"
            ],
            [
             0.3,
             "#f1b6da"
            ],
            [
             0.4,
             "#fde0ef"
            ],
            [
             0.5,
             "#f7f7f7"
            ],
            [
             0.6,
             "#e6f5d0"
            ],
            [
             0.7,
             "#b8e186"
            ],
            [
             0.8,
             "#7fbc41"
            ],
            [
             0.9,
             "#4d9221"
            ],
            [
             1,
             "#276419"
            ]
           ],
           "sequential": [
            [
             0,
             "#0d0887"
            ],
            [
             0.1111111111111111,
             "#46039f"
            ],
            [
             0.2222222222222222,
             "#7201a8"
            ],
            [
             0.3333333333333333,
             "#9c179e"
            ],
            [
             0.4444444444444444,
             "#bd3786"
            ],
            [
             0.5555555555555556,
             "#d8576b"
            ],
            [
             0.6666666666666666,
             "#ed7953"
            ],
            [
             0.7777777777777778,
             "#fb9f3a"
            ],
            [
             0.8888888888888888,
             "#fdca26"
            ],
            [
             1,
             "#f0f921"
            ]
           ],
           "sequentialminus": [
            [
             0,
             "#0d0887"
            ],
            [
             0.1111111111111111,
             "#46039f"
            ],
            [
             0.2222222222222222,
             "#7201a8"
            ],
            [
             0.3333333333333333,
             "#9c179e"
            ],
            [
             0.4444444444444444,
             "#bd3786"
            ],
            [
             0.5555555555555556,
             "#d8576b"
            ],
            [
             0.6666666666666666,
             "#ed7953"
            ],
            [
             0.7777777777777778,
             "#fb9f3a"
            ],
            [
             0.8888888888888888,
             "#fdca26"
            ],
            [
             1,
             "#f0f921"
            ]
           ]
          },
          "colorway": [
           "#636efa",
           "#EF553B",
           "#00cc96",
           "#ab63fa",
           "#FFA15A",
           "#19d3f3",
           "#FF6692",
           "#B6E880",
           "#FF97FF",
           "#FECB52"
          ],
          "font": {
           "color": "white"
          },
          "geo": {
           "bgcolor": "rgb(17,17,17)",
           "lakecolor": "rgb(17,17,17)",
           "landcolor": "rgb(17,17,17)",
           "showlakes": true,
           "showland": true,
           "subunitcolor": "#506784"
          },
          "hoverlabel": {
           "align": "left"
          },
          "hovermode": "closest",
          "legend": {
           "bgcolor": "rgb(0,0,0,0)",
           "bordercolor": "rgb(63,70,139)",
           "borderwidth": 0.5,
           "font": {
            "color": "white",
            "family": "open-sans",
            "size": 12
           },
           "orientation": "h",
           "traceorder": "normal",
           "x": 0.5,
           "xanchor": "center",
           "y": -0.15
          },
          "mapbox": {
           "style": "dark"
          },
          "paper_bgcolor": "rgb(0,0,0,0)",
          "plot_bgcolor": "rgb(0,0,0,0)",
          "polar": {
           "angularaxis": {
            "gridcolor": "#506784",
            "linecolor": "#506784",
            "ticks": ""
           },
           "bgcolor": "rgb(17,17,17)",
           "radialaxis": {
            "gridcolor": "#506784",
            "linecolor": "#506784",
            "ticks": ""
           }
          },
          "scene": {
           "xaxis": {
            "backgroundcolor": "rgb(17,17,17)",
            "gridcolor": "#506784",
            "gridwidth": 2,
            "linecolor": "#506784",
            "showbackground": true,
            "ticks": "",
            "zerolinecolor": "#C8D4E3"
           },
           "yaxis": {
            "backgroundcolor": "rgb(17,17,17)",
            "gridcolor": "#506784",
            "gridwidth": 2,
            "linecolor": "#506784",
            "showbackground": true,
            "ticks": "",
            "zerolinecolor": "#C8D4E3"
           },
           "zaxis": {
            "backgroundcolor": "rgb(17,17,17)",
            "gridcolor": "#506784",
            "gridwidth": 2,
            "linecolor": "#506784",
            "showbackground": true,
            "ticks": "",
            "zerolinecolor": "#C8D4E3"
           }
          },
          "shapedefaults": {
           "line": {
            "color": "#f2f5fa"
           }
          },
          "sliderdefaults": {
           "bgcolor": "#C8D4E3",
           "bordercolor": "rgb(17,17,17)",
           "borderwidth": 1,
           "tickwidth": 0
          },
          "ternary": {
           "aaxis": {
            "gridcolor": "#506784",
            "linecolor": "#506784",
            "ticks": ""
           },
           "baxis": {
            "gridcolor": "#506784",
            "linecolor": "#506784",
            "ticks": ""
           },
           "bgcolor": "rgb(17,17,17)",
           "caxis": {
            "gridcolor": "#506784",
            "linecolor": "#506784",
            "ticks": ""
           }
          },
          "title": {
           "x": 0.05
          },
          "updatemenudefaults": {
           "bgcolor": "#506784",
           "borderwidth": 0
          },
          "xaxis": {
           "automargin": true,
           "gridcolor": "#283442",
           "linecolor": "#506784",
           "ticks": "",
           "title": {
            "standoff": 15
           },
           "zerolinecolor": "#283442",
           "zerolinewidth": 2
          },
          "yaxis": {
           "automargin": true,
           "gridcolor": "#283442",
           "linecolor": "#506784",
           "side": "right",
           "ticks": "",
           "title": {
            "standoff": 15
           },
           "zerolinecolor": "#283442",
           "zerolinewidth": 2
          }
         }
        },
        "title": {
         "text": "Price Colored by Momentum for AAPL"
        },
        "xaxis": {
         "title": {
          "text": "Date"
         }
        },
        "yaxis": {
         "title": {
          "text": "Price"
         }
        }
       }
      }
     },
     "metadata": {},
     "output_type": "display_data"
    },
    {
     "data": {
      "application/vnd.plotly.v1+json": {
       "config": {
        "plotlyServerURL": "https://plot.ly"
       },
       "data": [
        {
         "line": {
          "color": "green",
          "width": 2
         },
         "mode": "lines",
         "name": "Price",
         "showlegend": true,
         "type": "scatter",
         "x": [
          "2021-01-25T00:00:00",
          "2021-01-26T00:00:00"
         ],
         "y": [
          384.3900146484375,
          383.7900085449219
         ]
        },
        {
         "line": {
          "color": "green",
          "width": 2
         },
         "mode": "lines",
         "name": "Price",
         "showlegend": false,
         "type": "scatter",
         "x": [
          "2021-01-26T00:00:00",
          "2021-01-27T00:00:00"
         ],
         "y": [
          383.7900085449219,
          374.4100036621094
         ]
        },
        {
         "line": {
          "color": "green",
          "width": 2
         },
         "mode": "lines",
         "name": "Price",
         "showlegend": false,
         "type": "scatter",
         "x": [
          "2021-01-27T00:00:00",
          "2021-01-28T00:00:00"
         ],
         "y": [
          374.4100036621094,
          377.6300048828125
         ]
        },
        {
         "line": {
          "color": "green",
          "width": 2
         },
         "mode": "lines",
         "name": "Price",
         "showlegend": false,
         "type": "scatter",
         "x": [
          "2021-01-28T00:00:00",
          "2021-01-29T00:00:00"
         ],
         "y": [
          377.6300048828125,
          370.07000732421875
         ]
        },
        {
         "line": {
          "color": "green",
          "width": 2
         },
         "mode": "lines",
         "name": "Price",
         "showlegend": false,
         "type": "scatter",
         "x": [
          "2021-01-29T00:00:00",
          "2021-02-01T00:00:00"
         ],
         "y": [
          370.07000732421875,
          376.2300109863281
         ]
        },
        {
         "line": {
          "color": "green",
          "width": 2
         },
         "mode": "lines",
         "name": "Price",
         "showlegend": false,
         "type": "scatter",
         "x": [
          "2021-02-01T00:00:00",
          "2021-02-02T00:00:00"
         ],
         "y": [
          376.2300109863281,
          381.54998779296875
         ]
        },
        {
         "line": {
          "color": "green",
          "width": 2
         },
         "mode": "lines",
         "name": "Price",
         "showlegend": false,
         "type": "scatter",
         "x": [
          "2021-02-02T00:00:00",
          "2021-02-03T00:00:00"
         ],
         "y": [
          381.54998779296875,
          381.8500061035156
         ]
        },
        {
         "line": {
          "color": "green",
          "width": 2
         },
         "mode": "lines",
         "name": "Price",
         "showlegend": false,
         "type": "scatter",
         "x": [
          "2021-02-03T00:00:00",
          "2021-02-04T00:00:00"
         ],
         "y": [
          381.8500061035156,
          386.19000244140625
         ]
        },
        {
         "line": {
          "color": "green",
          "width": 2
         },
         "mode": "lines",
         "name": "Price",
         "showlegend": false,
         "type": "scatter",
         "x": [
          "2021-02-04T00:00:00",
          "2021-02-05T00:00:00"
         ],
         "y": [
          386.19000244140625,
          387.7099914550781
         ]
        },
        {
         "line": {
          "color": "green",
          "width": 2
         },
         "mode": "lines",
         "name": "Price",
         "showlegend": false,
         "type": "scatter",
         "x": [
          "2021-02-05T00:00:00",
          "2021-02-08T00:00:00"
         ],
         "y": [
          387.7099914550781,
          390.510009765625
         ]
        },
        {
         "line": {
          "color": "green",
          "width": 2
         },
         "mode": "lines",
         "name": "Price",
         "showlegend": false,
         "type": "scatter",
         "x": [
          "2021-02-08T00:00:00",
          "2021-02-09T00:00:00"
         ],
         "y": [
          390.510009765625,
          390.25
         ]
        },
        {
         "line": {
          "color": "green",
          "width": 2
         },
         "mode": "lines",
         "name": "Price",
         "showlegend": false,
         "type": "scatter",
         "x": [
          "2021-02-09T00:00:00",
          "2021-02-10T00:00:00"
         ],
         "y": [
          390.25,
          390.0799865722656
         ]
        },
        {
         "line": {
          "color": "green",
          "width": 2
         },
         "mode": "lines",
         "name": "Price",
         "showlegend": false,
         "type": "scatter",
         "x": [
          "2021-02-10T00:00:00",
          "2021-02-11T00:00:00"
         ],
         "y": [
          390.0799865722656,
          390.7099914550781
         ]
        },
        {
         "line": {
          "color": "green",
          "width": 2
         },
         "mode": "lines",
         "name": "Price",
         "showlegend": false,
         "type": "scatter",
         "x": [
          "2021-02-11T00:00:00",
          "2021-02-12T00:00:00"
         ],
         "y": [
          390.7099914550781,
          392.6400146484375
         ]
        },
        {
         "line": {
          "color": "green",
          "width": 2
         },
         "mode": "lines",
         "name": "Price",
         "showlegend": false,
         "type": "scatter",
         "x": [
          "2021-02-12T00:00:00",
          "2021-02-16T00:00:00"
         ],
         "y": [
          392.6400146484375,
          392.29998779296875
         ]
        },
        {
         "line": {
          "color": "green",
          "width": 2
         },
         "mode": "lines",
         "name": "Price",
         "showlegend": false,
         "type": "scatter",
         "x": [
          "2021-02-16T00:00:00",
          "2021-02-17T00:00:00"
         ],
         "y": [
          392.29998779296875,
          392.3900146484375
         ]
        },
        {
         "line": {
          "color": "green",
          "width": 2
         },
         "mode": "lines",
         "name": "Price",
         "showlegend": false,
         "type": "scatter",
         "x": [
          "2021-02-17T00:00:00",
          "2021-02-18T00:00:00"
         ],
         "y": [
          392.3900146484375,
          390.7200012207031
         ]
        },
        {
         "line": {
          "color": "green",
          "width": 2
         },
         "mode": "lines",
         "name": "Price",
         "showlegend": false,
         "type": "scatter",
         "x": [
          "2021-02-18T00:00:00",
          "2021-02-19T00:00:00"
         ],
         "y": [
          390.7200012207031,
          390.0299987792969
         ]
        },
        {
         "line": {
          "color": "green",
          "width": 2
         },
         "mode": "lines",
         "name": "Price",
         "showlegend": false,
         "type": "scatter",
         "x": [
          "2021-02-19T00:00:00",
          "2021-02-22T00:00:00"
         ],
         "y": [
          390.0299987792969,
          387.0299987792969
         ]
        },
        {
         "line": {
          "color": "green",
          "width": 2
         },
         "mode": "lines",
         "name": "Price",
         "showlegend": false,
         "type": "scatter",
         "x": [
          "2021-02-22T00:00:00",
          "2021-02-23T00:00:00"
         ],
         "y": [
          387.0299987792969,
          387.5
         ]
        },
        {
         "line": {
          "color": "green",
          "width": 2
         },
         "mode": "lines",
         "name": "Price",
         "showlegend": false,
         "type": "scatter",
         "x": [
          "2021-02-23T00:00:00",
          "2021-02-24T00:00:00"
         ],
         "y": [
          387.5,
          391.7699890136719
         ]
        },
        {
         "line": {
          "color": "green",
          "width": 2
         },
         "mode": "lines",
         "name": "Price",
         "showlegend": false,
         "type": "scatter",
         "x": [
          "2021-02-24T00:00:00",
          "2021-02-25T00:00:00"
         ],
         "y": [
          391.7699890136719,
          382.3299865722656
         ]
        },
        {
         "line": {
          "color": "green",
          "width": 2
         },
         "mode": "lines",
         "name": "Price",
         "showlegend": false,
         "type": "scatter",
         "x": [
          "2021-02-25T00:00:00",
          "2021-02-26T00:00:00"
         ],
         "y": [
          382.3299865722656,
          380.3599853515625
         ]
        },
        {
         "line": {
          "color": "green",
          "width": 2
         },
         "mode": "lines",
         "name": "Price",
         "showlegend": false,
         "type": "scatter",
         "x": [
          "2021-02-26T00:00:00",
          "2021-03-01T00:00:00"
         ],
         "y": [
          380.3599853515625,
          389.5799865722656
         ]
        },
        {
         "line": {
          "color": "green",
          "width": 2
         },
         "mode": "lines",
         "name": "Price",
         "showlegend": false,
         "type": "scatter",
         "x": [
          "2021-03-01T00:00:00",
          "2021-03-02T00:00:00"
         ],
         "y": [
          389.5799865722656,
          386.5400085449219
         ]
        },
        {
         "line": {
          "color": "green",
          "width": 2
         },
         "mode": "lines",
         "name": "Price",
         "showlegend": false,
         "type": "scatter",
         "x": [
          "2021-03-02T00:00:00",
          "2021-03-03T00:00:00"
         ],
         "y": [
          386.5400085449219,
          381.4200134277344
         ]
        },
        {
         "line": {
          "color": "green",
          "width": 2
         },
         "mode": "lines",
         "name": "Price",
         "showlegend": false,
         "type": "scatter",
         "x": [
          "2021-03-03T00:00:00",
          "2021-03-04T00:00:00"
         ],
         "y": [
          381.4200134277344,
          376.70001220703125
         ]
        },
        {
         "line": {
          "color": "red",
          "width": 2
         },
         "mode": "lines",
         "name": "Price",
         "showlegend": false,
         "type": "scatter",
         "x": [
          "2021-03-04T00:00:00",
          "2021-03-05T00:00:00"
         ],
         "y": [
          376.70001220703125,
          383.6300048828125
         ]
        },
        {
         "line": {
          "color": "red",
          "width": 2
         },
         "mode": "lines",
         "name": "Price",
         "showlegend": false,
         "type": "scatter",
         "x": [
          "2021-03-05T00:00:00",
          "2021-03-08T00:00:00"
         ],
         "y": [
          383.6300048828125,
          381.7200012207031
         ]
        },
        {
         "line": {
          "color": "red",
          "width": 2
         },
         "mode": "lines",
         "name": "Price",
         "showlegend": false,
         "type": "scatter",
         "x": [
          "2021-03-08T00:00:00",
          "2021-03-09T00:00:00"
         ],
         "y": [
          381.7200012207031,
          387.1700134277344
         ]
        },
        {
         "line": {
          "color": "green",
          "width": 2
         },
         "mode": "lines",
         "name": "Price",
         "showlegend": false,
         "type": "scatter",
         "x": [
          "2021-03-09T00:00:00",
          "2021-03-10T00:00:00"
         ],
         "y": [
          387.1700134277344,
          389.5799865722656
         ]
        },
        {
         "line": {
          "color": "green",
          "width": 2
         },
         "mode": "lines",
         "name": "Price",
         "showlegend": false,
         "type": "scatter",
         "x": [
          "2021-03-10T00:00:00",
          "2021-03-11T00:00:00"
         ],
         "y": [
          389.5799865722656,
          393.5299987792969
         ]
        },
        {
         "line": {
          "color": "green",
          "width": 2
         },
         "mode": "lines",
         "name": "Price",
         "showlegend": false,
         "type": "scatter",
         "x": [
          "2021-03-11T00:00:00",
          "2021-03-12T00:00:00"
         ],
         "y": [
          393.5299987792969,
          394.05999755859375
         ]
        },
        {
         "line": {
          "color": "green",
          "width": 2
         },
         "mode": "lines",
         "name": "Price",
         "showlegend": false,
         "type": "scatter",
         "x": [
          "2021-03-12T00:00:00",
          "2021-03-15T00:00:00"
         ],
         "y": [
          394.05999755859375,
          396.4100036621094
         ]
        },
        {
         "line": {
          "color": "green",
          "width": 2
         },
         "mode": "lines",
         "name": "Price",
         "showlegend": false,
         "type": "scatter",
         "x": [
          "2021-03-15T00:00:00",
          "2021-03-16T00:00:00"
         ],
         "y": [
          396.4100036621094,
          395.9100036621094
         ]
        },
        {
         "line": {
          "color": "green",
          "width": 2
         },
         "mode": "lines",
         "name": "Price",
         "showlegend": false,
         "type": "scatter",
         "x": [
          "2021-03-16T00:00:00",
          "2021-03-17T00:00:00"
         ],
         "y": [
          395.9100036621094,
          397.260009765625
         ]
        },
        {
         "line": {
          "color": "green",
          "width": 2
         },
         "mode": "lines",
         "name": "Price",
         "showlegend": false,
         "type": "scatter",
         "x": [
          "2021-03-17T00:00:00",
          "2021-03-18T00:00:00"
         ],
         "y": [
          397.260009765625,
          391.4800109863281
         ]
        },
        {
         "line": {
          "color": "green",
          "width": 2
         },
         "mode": "lines",
         "name": "Price",
         "showlegend": false,
         "type": "scatter",
         "x": [
          "2021-03-18T00:00:00",
          "2021-03-19T00:00:00"
         ],
         "y": [
          391.4800109863281,
          389.4800109863281
         ]
        },
        {
         "line": {
          "color": "green",
          "width": 2
         },
         "mode": "lines",
         "name": "Price",
         "showlegend": false,
         "type": "scatter",
         "x": [
          "2021-03-19T00:00:00",
          "2021-03-22T00:00:00"
         ],
         "y": [
          389.4800109863281,
          392.5899963378906
         ]
        },
        {
         "line": {
          "color": "green",
          "width": 2
         },
         "mode": "lines",
         "name": "Price",
         "showlegend": false,
         "type": "scatter",
         "x": [
          "2021-03-22T00:00:00",
          "2021-03-23T00:00:00"
         ],
         "y": [
          392.5899963378906,
          389.5
         ]
        },
        {
         "line": {
          "color": "red",
          "width": 2
         },
         "mode": "lines",
         "name": "Price",
         "showlegend": false,
         "type": "scatter",
         "x": [
          "2021-03-23T00:00:00",
          "2021-03-24T00:00:00"
         ],
         "y": [
          389.5,
          387.5199890136719
         ]
        },
        {
         "line": {
          "color": "red",
          "width": 2
         },
         "mode": "lines",
         "name": "Price",
         "showlegend": false,
         "type": "scatter",
         "x": [
          "2021-03-24T00:00:00",
          "2021-03-25T00:00:00"
         ],
         "y": [
          387.5199890136719,
          389.70001220703125
         ]
        },
        {
         "line": {
          "color": "red",
          "width": 2
         },
         "mode": "lines",
         "name": "Price",
         "showlegend": false,
         "type": "scatter",
         "x": [
          "2021-03-25T00:00:00",
          "2021-03-26T00:00:00"
         ],
         "y": [
          389.70001220703125,
          395.9800109863281
         ]
        },
        {
         "line": {
          "color": "green",
          "width": 2
         },
         "mode": "lines",
         "name": "Price",
         "showlegend": false,
         "type": "scatter",
         "x": [
          "2021-03-26T00:00:00",
          "2021-03-29T00:00:00"
         ],
         "y": [
          395.9800109863281,
          395.7799987792969
         ]
        },
        {
         "line": {
          "color": "green",
          "width": 2
         },
         "mode": "lines",
         "name": "Price",
         "showlegend": false,
         "type": "scatter",
         "x": [
          "2021-03-29T00:00:00",
          "2021-03-30T00:00:00"
         ],
         "y": [
          395.7799987792969,
          394.7300109863281
         ]
        },
        {
         "line": {
          "color": "green",
          "width": 2
         },
         "mode": "lines",
         "name": "Price",
         "showlegend": false,
         "type": "scatter",
         "x": [
          "2021-03-30T00:00:00",
          "2021-03-31T00:00:00"
         ],
         "y": [
          394.7300109863281,
          396.3299865722656
         ]
        },
        {
         "line": {
          "color": "green",
          "width": 2
         },
         "mode": "lines",
         "name": "Price",
         "showlegend": false,
         "type": "scatter",
         "x": [
          "2021-03-31T00:00:00",
          "2021-04-01T00:00:00"
         ],
         "y": [
          396.3299865722656,
          400.6099853515625
         ]
        },
        {
         "line": {
          "color": "green",
          "width": 2
         },
         "mode": "lines",
         "name": "Price",
         "showlegend": false,
         "type": "scatter",
         "x": [
          "2021-04-01T00:00:00",
          "2021-04-05T00:00:00"
         ],
         "y": [
          400.6099853515625,
          406.3599853515625
         ]
        },
        {
         "line": {
          "color": "green",
          "width": 2
         },
         "mode": "lines",
         "name": "Price",
         "showlegend": false,
         "type": "scatter",
         "x": [
          "2021-04-05T00:00:00",
          "2021-04-06T00:00:00"
         ],
         "y": [
          406.3599853515625,
          406.1199951171875
         ]
        },
        {
         "line": {
          "color": "green",
          "width": 2
         },
         "mode": "lines",
         "name": "Price",
         "showlegend": false,
         "type": "scatter",
         "x": [
          "2021-04-06T00:00:00",
          "2021-04-07T00:00:00"
         ],
         "y": [
          406.1199951171875,
          406.5899963378906
         ]
        },
        {
         "line": {
          "color": "green",
          "width": 2
         },
         "mode": "lines",
         "name": "Price",
         "showlegend": false,
         "type": "scatter",
         "x": [
          "2021-04-07T00:00:00",
          "2021-04-08T00:00:00"
         ],
         "y": [
          406.5899963378906,
          408.5199890136719
         ]
        },
        {
         "line": {
          "color": "green",
          "width": 2
         },
         "mode": "lines",
         "name": "Price",
         "showlegend": false,
         "type": "scatter",
         "x": [
          "2021-04-08T00:00:00",
          "2021-04-09T00:00:00"
         ],
         "y": [
          408.5199890136719,
          411.489990234375
         ]
        },
        {
         "line": {
          "color": "green",
          "width": 2
         },
         "mode": "lines",
         "name": "Price",
         "showlegend": false,
         "type": "scatter",
         "x": [
          "2021-04-09T00:00:00",
          "2021-04-12T00:00:00"
         ],
         "y": [
          411.489990234375,
          411.6400146484375
         ]
        },
        {
         "line": {
          "color": "green",
          "width": 2
         },
         "mode": "lines",
         "name": "Price",
         "showlegend": false,
         "type": "scatter",
         "x": [
          "2021-04-12T00:00:00",
          "2021-04-13T00:00:00"
         ],
         "y": [
          411.6400146484375,
          412.8599853515625
         ]
        },
        {
         "line": {
          "color": "green",
          "width": 2
         },
         "mode": "lines",
         "name": "Price",
         "showlegend": false,
         "type": "scatter",
         "x": [
          "2021-04-13T00:00:00",
          "2021-04-14T00:00:00"
         ],
         "y": [
          412.8599853515625,
          411.45001220703125
         ]
        },
        {
         "line": {
          "color": "green",
          "width": 2
         },
         "mode": "lines",
         "name": "Price",
         "showlegend": false,
         "type": "scatter",
         "x": [
          "2021-04-14T00:00:00",
          "2021-04-15T00:00:00"
         ],
         "y": [
          411.45001220703125,
          415.8699951171875
         ]
        },
        {
         "line": {
          "color": "green",
          "width": 2
         },
         "mode": "lines",
         "name": "Price",
         "showlegend": false,
         "type": "scatter",
         "x": [
          "2021-04-15T00:00:00",
          "2021-04-16T00:00:00"
         ],
         "y": [
          415.8699951171875,
          417.260009765625
         ]
        },
        {
         "line": {
          "color": "green",
          "width": 2
         },
         "mode": "lines",
         "name": "Price",
         "showlegend": false,
         "type": "scatter",
         "x": [
          "2021-04-16T00:00:00",
          "2021-04-19T00:00:00"
         ],
         "y": [
          417.260009765625,
          415.2099914550781
         ]
        },
        {
         "line": {
          "color": "green",
          "width": 2
         },
         "mode": "lines",
         "name": "Price",
         "showlegend": false,
         "type": "scatter",
         "x": [
          "2021-04-19T00:00:00",
          "2021-04-20T00:00:00"
         ],
         "y": [
          415.2099914550781,
          412.1700134277344
         ]
        },
        {
         "line": {
          "color": "green",
          "width": 2
         },
         "mode": "lines",
         "name": "Price",
         "showlegend": false,
         "type": "scatter",
         "x": [
          "2021-04-20T00:00:00",
          "2021-04-21T00:00:00"
         ],
         "y": [
          412.1700134277344,
          416.07000732421875
         ]
        },
        {
         "line": {
          "color": "green",
          "width": 2
         },
         "mode": "lines",
         "name": "Price",
         "showlegend": false,
         "type": "scatter",
         "x": [
          "2021-04-21T00:00:00",
          "2021-04-22T00:00:00"
         ],
         "y": [
          416.07000732421875,
          412.2699890136719
         ]
        },
        {
         "line": {
          "color": "green",
          "width": 2
         },
         "mode": "lines",
         "name": "Price",
         "showlegend": false,
         "type": "scatter",
         "x": [
          "2021-04-22T00:00:00",
          "2021-04-23T00:00:00"
         ],
         "y": [
          412.2699890136719,
          416.739990234375
         ]
        },
        {
         "line": {
          "color": "green",
          "width": 2
         },
         "mode": "lines",
         "name": "Price",
         "showlegend": false,
         "type": "scatter",
         "x": [
          "2021-04-23T00:00:00",
          "2021-04-26T00:00:00"
         ],
         "y": [
          416.739990234375,
          417.6099853515625
         ]
        },
        {
         "line": {
          "color": "green",
          "width": 2
         },
         "mode": "lines",
         "name": "Price",
         "showlegend": false,
         "type": "scatter",
         "x": [
          "2021-04-26T00:00:00",
          "2021-04-27T00:00:00"
         ],
         "y": [
          417.6099853515625,
          417.5199890136719
         ]
        },
        {
         "line": {
          "color": "green",
          "width": 2
         },
         "mode": "lines",
         "name": "Price",
         "showlegend": false,
         "type": "scatter",
         "x": [
          "2021-04-27T00:00:00",
          "2021-04-28T00:00:00"
         ],
         "y": [
          417.5199890136719,
          417.3999938964844
         ]
        },
        {
         "line": {
          "color": "green",
          "width": 2
         },
         "mode": "lines",
         "name": "Price",
         "showlegend": false,
         "type": "scatter",
         "x": [
          "2021-04-28T00:00:00",
          "2021-04-29T00:00:00"
         ],
         "y": [
          417.3999938964844,
          420.05999755859375
         ]
        },
        {
         "line": {
          "color": "green",
          "width": 2
         },
         "mode": "lines",
         "name": "Price",
         "showlegend": false,
         "type": "scatter",
         "x": [
          "2021-04-29T00:00:00",
          "2021-04-30T00:00:00"
         ],
         "y": [
          420.05999755859375,
          417.29998779296875
         ]
        },
        {
         "line": {
          "color": "green",
          "width": 2
         },
         "mode": "lines",
         "name": "Price",
         "showlegend": false,
         "type": "scatter",
         "x": [
          "2021-04-30T00:00:00",
          "2021-05-03T00:00:00"
         ],
         "y": [
          417.29998779296875,
          418.20001220703125
         ]
        },
        {
         "line": {
          "color": "green",
          "width": 2
         },
         "mode": "lines",
         "name": "Price",
         "showlegend": false,
         "type": "scatter",
         "x": [
          "2021-05-03T00:00:00",
          "2021-05-04T00:00:00"
         ],
         "y": [
          418.20001220703125,
          415.6199951171875
         ]
        },
        {
         "line": {
          "color": "green",
          "width": 2
         },
         "mode": "lines",
         "name": "Price",
         "showlegend": false,
         "type": "scatter",
         "x": [
          "2021-05-04T00:00:00",
          "2021-05-05T00:00:00"
         ],
         "y": [
          415.6199951171875,
          415.75
         ]
        },
        {
         "line": {
          "color": "green",
          "width": 2
         },
         "mode": "lines",
         "name": "Price",
         "showlegend": false,
         "type": "scatter",
         "x": [
          "2021-05-05T00:00:00",
          "2021-05-06T00:00:00"
         ],
         "y": [
          415.75,
          419.07000732421875
         ]
        },
        {
         "line": {
          "color": "green",
          "width": 2
         },
         "mode": "lines",
         "name": "Price",
         "showlegend": false,
         "type": "scatter",
         "x": [
          "2021-05-06T00:00:00",
          "2021-05-07T00:00:00"
         ],
         "y": [
          419.07000732421875,
          422.1199951171875
         ]
        },
        {
         "line": {
          "color": "green",
          "width": 2
         },
         "mode": "lines",
         "name": "Price",
         "showlegend": false,
         "type": "scatter",
         "x": [
          "2021-05-07T00:00:00",
          "2021-05-10T00:00:00"
         ],
         "y": [
          422.1199951171875,
          417.94000244140625
         ]
        },
        {
         "line": {
          "color": "green",
          "width": 2
         },
         "mode": "lines",
         "name": "Price",
         "showlegend": false,
         "type": "scatter",
         "x": [
          "2021-05-10T00:00:00",
          "2021-05-11T00:00:00"
         ],
         "y": [
          417.94000244140625,
          414.2099914550781
         ]
        },
        {
         "line": {
          "color": "green",
          "width": 2
         },
         "mode": "lines",
         "name": "Price",
         "showlegend": false,
         "type": "scatter",
         "x": [
          "2021-05-11T00:00:00",
          "2021-05-12T00:00:00"
         ],
         "y": [
          414.2099914550781,
          405.4100036621094
         ]
        },
        {
         "line": {
          "color": "green",
          "width": 2
         },
         "mode": "lines",
         "name": "Price",
         "showlegend": false,
         "type": "scatter",
         "x": [
          "2021-05-12T00:00:00",
          "2021-05-13T00:00:00"
         ],
         "y": [
          405.4100036621094,
          410.2799987792969
         ]
        },
        {
         "line": {
          "color": "green",
          "width": 2
         },
         "mode": "lines",
         "name": "Price",
         "showlegend": false,
         "type": "scatter",
         "x": [
          "2021-05-13T00:00:00",
          "2021-05-14T00:00:00"
         ],
         "y": [
          410.2799987792969,
          416.5799865722656
         ]
        },
        {
         "line": {
          "color": "green",
          "width": 2
         },
         "mode": "lines",
         "name": "Price",
         "showlegend": false,
         "type": "scatter",
         "x": [
          "2021-05-14T00:00:00",
          "2021-05-17T00:00:00"
         ],
         "y": [
          416.5799865722656,
          415.5199890136719
         ]
        },
        {
         "line": {
          "color": "green",
          "width": 2
         },
         "mode": "lines",
         "name": "Price",
         "showlegend": false,
         "type": "scatter",
         "x": [
          "2021-05-17T00:00:00",
          "2021-05-18T00:00:00"
         ],
         "y": [
          415.5199890136719,
          411.94000244140625
         ]
        },
        {
         "line": {
          "color": "green",
          "width": 2
         },
         "mode": "lines",
         "name": "Price",
         "showlegend": false,
         "type": "scatter",
         "x": [
          "2021-05-18T00:00:00",
          "2021-05-19T00:00:00"
         ],
         "y": [
          411.94000244140625,
          410.8599853515625
         ]
        },
        {
         "line": {
          "color": "green",
          "width": 2
         },
         "mode": "lines",
         "name": "Price",
         "showlegend": false,
         "type": "scatter",
         "x": [
          "2021-05-19T00:00:00",
          "2021-05-20T00:00:00"
         ],
         "y": [
          410.8599853515625,
          415.2799987792969
         ]
        },
        {
         "line": {
          "color": "green",
          "width": 2
         },
         "mode": "lines",
         "name": "Price",
         "showlegend": false,
         "type": "scatter",
         "x": [
          "2021-05-20T00:00:00",
          "2021-05-21T00:00:00"
         ],
         "y": [
          415.2799987792969,
          414.94000244140625
         ]
        },
        {
         "line": {
          "color": "green",
          "width": 2
         },
         "mode": "lines",
         "name": "Price",
         "showlegend": false,
         "type": "scatter",
         "x": [
          "2021-05-21T00:00:00",
          "2021-05-24T00:00:00"
         ],
         "y": [
          414.94000244140625,
          419.1700134277344
         ]
        },
        {
         "line": {
          "color": "green",
          "width": 2
         },
         "mode": "lines",
         "name": "Price",
         "showlegend": false,
         "type": "scatter",
         "x": [
          "2021-05-24T00:00:00",
          "2021-05-25T00:00:00"
         ],
         "y": [
          419.1700134277344,
          418.239990234375
         ]
        },
        {
         "line": {
          "color": "green",
          "width": 2
         },
         "mode": "lines",
         "name": "Price",
         "showlegend": false,
         "type": "scatter",
         "x": [
          "2021-05-25T00:00:00",
          "2021-05-26T00:00:00"
         ],
         "y": [
          418.239990234375,
          419.07000732421875
         ]
        },
        {
         "line": {
          "color": "green",
          "width": 2
         },
         "mode": "lines",
         "name": "Price",
         "showlegend": false,
         "type": "scatter",
         "x": [
          "2021-05-26T00:00:00",
          "2021-05-27T00:00:00"
         ],
         "y": [
          419.07000732421875,
          419.2900085449219
         ]
        },
        {
         "line": {
          "color": "green",
          "width": 2
         },
         "mode": "lines",
         "name": "Price",
         "showlegend": false,
         "type": "scatter",
         "x": [
          "2021-05-27T00:00:00",
          "2021-05-28T00:00:00"
         ],
         "y": [
          419.2900085449219,
          420.0400085449219
         ]
        },
        {
         "line": {
          "color": "green",
          "width": 2
         },
         "mode": "lines",
         "name": "Price",
         "showlegend": false,
         "type": "scatter",
         "x": [
          "2021-05-28T00:00:00",
          "2021-06-01T00:00:00"
         ],
         "y": [
          420.0400085449219,
          419.6700134277344
         ]
        },
        {
         "line": {
          "color": "green",
          "width": 2
         },
         "mode": "lines",
         "name": "Price",
         "showlegend": false,
         "type": "scatter",
         "x": [
          "2021-06-01T00:00:00",
          "2021-06-02T00:00:00"
         ],
         "y": [
          419.6700134277344,
          420.3299865722656
         ]
        },
        {
         "line": {
          "color": "green",
          "width": 2
         },
         "mode": "lines",
         "name": "Price",
         "showlegend": false,
         "type": "scatter",
         "x": [
          "2021-06-02T00:00:00",
          "2021-06-03T00:00:00"
         ],
         "y": [
          420.3299865722656,
          418.7699890136719
         ]
        },
        {
         "line": {
          "color": "green",
          "width": 2
         },
         "mode": "lines",
         "name": "Price",
         "showlegend": false,
         "type": "scatter",
         "x": [
          "2021-06-03T00:00:00",
          "2021-06-04T00:00:00"
         ],
         "y": [
          418.7699890136719,
          422.6000061035156
         ]
        },
        {
         "line": {
          "color": "green",
          "width": 2
         },
         "mode": "lines",
         "name": "Price",
         "showlegend": false,
         "type": "scatter",
         "x": [
          "2021-06-04T00:00:00",
          "2021-06-07T00:00:00"
         ],
         "y": [
          422.6000061035156,
          422.19000244140625
         ]
        },
        {
         "line": {
          "color": "green",
          "width": 2
         },
         "mode": "lines",
         "name": "Price",
         "showlegend": false,
         "type": "scatter",
         "x": [
          "2021-06-07T00:00:00",
          "2021-06-08T00:00:00"
         ],
         "y": [
          422.19000244140625,
          422.2799987792969
         ]
        },
        {
         "line": {
          "color": "green",
          "width": 2
         },
         "mode": "lines",
         "name": "Price",
         "showlegend": false,
         "type": "scatter",
         "x": [
          "2021-06-08T00:00:00",
          "2021-06-09T00:00:00"
         ],
         "y": [
          422.2799987792969,
          421.6499938964844
         ]
        },
        {
         "line": {
          "color": "green",
          "width": 2
         },
         "mode": "lines",
         "name": "Price",
         "showlegend": false,
         "type": "scatter",
         "x": [
          "2021-06-09T00:00:00",
          "2021-06-10T00:00:00"
         ],
         "y": [
          421.6499938964844,
          423.6099853515625
         ]
        },
        {
         "line": {
          "color": "green",
          "width": 2
         },
         "mode": "lines",
         "name": "Price",
         "showlegend": false,
         "type": "scatter",
         "x": [
          "2021-06-10T00:00:00",
          "2021-06-11T00:00:00"
         ],
         "y": [
          423.6099853515625,
          424.30999755859375
         ]
        },
        {
         "line": {
          "color": "green",
          "width": 2
         },
         "mode": "lines",
         "name": "Price",
         "showlegend": false,
         "type": "scatter",
         "x": [
          "2021-06-11T00:00:00",
          "2021-06-14T00:00:00"
         ],
         "y": [
          424.30999755859375,
          425.260009765625
         ]
        },
        {
         "line": {
          "color": "green",
          "width": 2
         },
         "mode": "lines",
         "name": "Price",
         "showlegend": false,
         "type": "scatter",
         "x": [
          "2021-06-14T00:00:00",
          "2021-06-15T00:00:00"
         ],
         "y": [
          425.260009765625,
          424.4800109863281
         ]
        },
        {
         "line": {
          "color": "green",
          "width": 2
         },
         "mode": "lines",
         "name": "Price",
         "showlegend": false,
         "type": "scatter",
         "x": [
          "2021-06-15T00:00:00",
          "2021-06-16T00:00:00"
         ],
         "y": [
          424.4800109863281,
          422.1099853515625
         ]
        },
        {
         "line": {
          "color": "green",
          "width": 2
         },
         "mode": "lines",
         "name": "Price",
         "showlegend": false,
         "type": "scatter",
         "x": [
          "2021-06-16T00:00:00",
          "2021-06-17T00:00:00"
         ],
         "y": [
          422.1099853515625,
          421.9700012207031
         ]
        },
        {
         "line": {
          "color": "green",
          "width": 2
         },
         "mode": "lines",
         "name": "Price",
         "showlegend": false,
         "type": "scatter",
         "x": [
          "2021-06-17T00:00:00",
          "2021-06-18T00:00:00"
         ],
         "y": [
          421.9700012207031,
          414.9200134277344
         ]
        },
        {
         "line": {
          "color": "red",
          "width": 2
         },
         "mode": "lines",
         "name": "Price",
         "showlegend": false,
         "type": "scatter",
         "x": [
          "2021-06-18T00:00:00",
          "2021-06-21T00:00:00"
         ],
         "y": [
          414.9200134277344,
          420.8599853515625
         ]
        },
        {
         "line": {
          "color": "red",
          "width": 2
         },
         "mode": "lines",
         "name": "Price",
         "showlegend": false,
         "type": "scatter",
         "x": [
          "2021-06-21T00:00:00",
          "2021-06-22T00:00:00"
         ],
         "y": [
          420.8599853515625,
          423.1099853515625
         ]
        },
        {
         "line": {
          "color": "green",
          "width": 2
         },
         "mode": "lines",
         "name": "Price",
         "showlegend": false,
         "type": "scatter",
         "x": [
          "2021-06-22T00:00:00",
          "2021-06-23T00:00:00"
         ],
         "y": [
          423.1099853515625,
          422.6000061035156
         ]
        },
        {
         "line": {
          "color": "green",
          "width": 2
         },
         "mode": "lines",
         "name": "Price",
         "showlegend": false,
         "type": "scatter",
         "x": [
          "2021-06-23T00:00:00",
          "2021-06-24T00:00:00"
         ],
         "y": [
          422.6000061035156,
          425.1000061035156
         ]
        },
        {
         "line": {
          "color": "green",
          "width": 2
         },
         "mode": "lines",
         "name": "Price",
         "showlegend": false,
         "type": "scatter",
         "x": [
          "2021-06-24T00:00:00",
          "2021-06-25T00:00:00"
         ],
         "y": [
          425.1000061035156,
          426.6099853515625
         ]
        },
        {
         "line": {
          "color": "green",
          "width": 2
         },
         "mode": "lines",
         "name": "Price",
         "showlegend": false,
         "type": "scatter",
         "x": [
          "2021-06-25T00:00:00",
          "2021-06-28T00:00:00"
         ],
         "y": [
          426.6099853515625,
          427.4700012207031
         ]
        },
        {
         "line": {
          "color": "green",
          "width": 2
         },
         "mode": "lines",
         "name": "Price",
         "showlegend": false,
         "type": "scatter",
         "x": [
          "2021-06-28T00:00:00",
          "2021-06-29T00:00:00"
         ],
         "y": [
          427.4700012207031,
          427.70001220703125
         ]
        },
        {
         "line": {
          "color": "green",
          "width": 2
         },
         "mode": "lines",
         "name": "Price",
         "showlegend": false,
         "type": "scatter",
         "x": [
          "2021-06-29T00:00:00",
          "2021-06-30T00:00:00"
         ],
         "y": [
          427.70001220703125,
          428.05999755859375
         ]
        },
        {
         "line": {
          "color": "green",
          "width": 2
         },
         "mode": "lines",
         "name": "Price",
         "showlegend": false,
         "type": "scatter",
         "x": [
          "2021-06-30T00:00:00",
          "2021-07-01T00:00:00"
         ],
         "y": [
          428.05999755859375,
          430.42999267578125
         ]
        },
        {
         "line": {
          "color": "green",
          "width": 2
         },
         "mode": "lines",
         "name": "Price",
         "showlegend": false,
         "type": "scatter",
         "x": [
          "2021-07-01T00:00:00",
          "2021-07-02T00:00:00"
         ],
         "y": [
          430.42999267578125,
          433.7200012207031
         ]
        },
        {
         "line": {
          "color": "green",
          "width": 2
         },
         "mode": "lines",
         "name": "Price",
         "showlegend": false,
         "type": "scatter",
         "x": [
          "2021-07-02T00:00:00",
          "2021-07-06T00:00:00"
         ],
         "y": [
          433.7200012207031,
          432.92999267578125
         ]
        },
        {
         "line": {
          "color": "green",
          "width": 2
         },
         "mode": "lines",
         "name": "Price",
         "showlegend": false,
         "type": "scatter",
         "x": [
          "2021-07-06T00:00:00",
          "2021-07-07T00:00:00"
         ],
         "y": [
          432.92999267578125,
          434.4599914550781
         ]
        },
        {
         "line": {
          "color": "green",
          "width": 2
         },
         "mode": "lines",
         "name": "Price",
         "showlegend": false,
         "type": "scatter",
         "x": [
          "2021-07-07T00:00:00",
          "2021-07-08T00:00:00"
         ],
         "y": [
          434.4599914550781,
          430.9200134277344
         ]
        },
        {
         "line": {
          "color": "green",
          "width": 2
         },
         "mode": "lines",
         "name": "Price",
         "showlegend": false,
         "type": "scatter",
         "x": [
          "2021-07-08T00:00:00",
          "2021-07-09T00:00:00"
         ],
         "y": [
          430.9200134277344,
          435.5199890136719
         ]
        },
        {
         "line": {
          "color": "green",
          "width": 2
         },
         "mode": "lines",
         "name": "Price",
         "showlegend": false,
         "type": "scatter",
         "x": [
          "2021-07-09T00:00:00",
          "2021-07-12T00:00:00"
         ],
         "y": [
          435.5199890136719,
          437.0799865722656
         ]
        },
        {
         "line": {
          "color": "green",
          "width": 2
         },
         "mode": "lines",
         "name": "Price",
         "showlegend": false,
         "type": "scatter",
         "x": [
          "2021-07-12T00:00:00",
          "2021-07-13T00:00:00"
         ],
         "y": [
          437.0799865722656,
          435.5899963378906
         ]
        },
        {
         "line": {
          "color": "green",
          "width": 2
         },
         "mode": "lines",
         "name": "Price",
         "showlegend": false,
         "type": "scatter",
         "x": [
          "2021-07-13T00:00:00",
          "2021-07-14T00:00:00"
         ],
         "y": [
          435.5899963378906,
          436.239990234375
         ]
        },
        {
         "line": {
          "color": "green",
          "width": 2
         },
         "mode": "lines",
         "name": "Price",
         "showlegend": false,
         "type": "scatter",
         "x": [
          "2021-07-14T00:00:00",
          "2021-07-15T00:00:00"
         ],
         "y": [
          436.239990234375,
          434.75
         ]
        },
        {
         "line": {
          "color": "green",
          "width": 2
         },
         "mode": "lines",
         "name": "Price",
         "showlegend": false,
         "type": "scatter",
         "x": [
          "2021-07-15T00:00:00",
          "2021-07-16T00:00:00"
         ],
         "y": [
          434.75,
          431.3399963378906
         ]
        },
        {
         "line": {
          "color": "green",
          "width": 2
         },
         "mode": "lines",
         "name": "Price",
         "showlegend": false,
         "type": "scatter",
         "x": [
          "2021-07-16T00:00:00",
          "2021-07-19T00:00:00"
         ],
         "y": [
          431.3399963378906,
          424.9700012207031
         ]
        },
        {
         "line": {
          "color": "green",
          "width": 2
         },
         "mode": "lines",
         "name": "Price",
         "showlegend": false,
         "type": "scatter",
         "x": [
          "2021-07-19T00:00:00",
          "2021-07-20T00:00:00"
         ],
         "y": [
          424.9700012207031,
          431.05999755859375
         ]
        },
        {
         "line": {
          "color": "green",
          "width": 2
         },
         "mode": "lines",
         "name": "Price",
         "showlegend": false,
         "type": "scatter",
         "x": [
          "2021-07-20T00:00:00",
          "2021-07-21T00:00:00"
         ],
         "y": [
          431.05999755859375,
          434.54998779296875
         ]
        },
        {
         "line": {
          "color": "green",
          "width": 2
         },
         "mode": "lines",
         "name": "Price",
         "showlegend": false,
         "type": "scatter",
         "x": [
          "2021-07-21T00:00:00",
          "2021-07-22T00:00:00"
         ],
         "y": [
          434.54998779296875,
          435.4599914550781
         ]
        },
        {
         "line": {
          "color": "green",
          "width": 2
         },
         "mode": "lines",
         "name": "Price",
         "showlegend": false,
         "type": "scatter",
         "x": [
          "2021-07-22T00:00:00",
          "2021-07-23T00:00:00"
         ],
         "y": [
          435.4599914550781,
          439.94000244140625
         ]
        },
        {
         "line": {
          "color": "green",
          "width": 2
         },
         "mode": "lines",
         "name": "Price",
         "showlegend": false,
         "type": "scatter",
         "x": [
          "2021-07-23T00:00:00",
          "2021-07-26T00:00:00"
         ],
         "y": [
          439.94000244140625,
          441.0199890136719
         ]
        },
        {
         "line": {
          "color": "green",
          "width": 2
         },
         "mode": "lines",
         "name": "Price",
         "showlegend": false,
         "type": "scatter",
         "x": [
          "2021-07-26T00:00:00",
          "2021-07-27T00:00:00"
         ],
         "y": [
          441.0199890136719,
          439.010009765625
         ]
        },
        {
         "line": {
          "color": "green",
          "width": 2
         },
         "mode": "lines",
         "name": "Price",
         "showlegend": false,
         "type": "scatter",
         "x": [
          "2021-07-27T00:00:00",
          "2021-07-28T00:00:00"
         ],
         "y": [
          439.010009765625,
          438.8299865722656
         ]
        },
        {
         "line": {
          "color": "green",
          "width": 2
         },
         "mode": "lines",
         "name": "Price",
         "showlegend": false,
         "type": "scatter",
         "x": [
          "2021-07-28T00:00:00",
          "2021-07-29T00:00:00"
         ],
         "y": [
          438.8299865722656,
          440.6499938964844
         ]
        },
        {
         "line": {
          "color": "green",
          "width": 2
         },
         "mode": "lines",
         "name": "Price",
         "showlegend": false,
         "type": "scatter",
         "x": [
          "2021-07-29T00:00:00",
          "2021-07-30T00:00:00"
         ],
         "y": [
          440.6499938964844,
          438.510009765625
         ]
        },
        {
         "line": {
          "color": "green",
          "width": 2
         },
         "mode": "lines",
         "name": "Price",
         "showlegend": false,
         "type": "scatter",
         "x": [
          "2021-07-30T00:00:00",
          "2021-08-02T00:00:00"
         ],
         "y": [
          438.510009765625,
          437.5899963378906
         ]
        },
        {
         "line": {
          "color": "green",
          "width": 2
         },
         "mode": "lines",
         "name": "Price",
         "showlegend": false,
         "type": "scatter",
         "x": [
          "2021-08-02T00:00:00",
          "2021-08-03T00:00:00"
         ],
         "y": [
          437.5899963378906,
          441.1499938964844
         ]
        },
        {
         "line": {
          "color": "green",
          "width": 2
         },
         "mode": "lines",
         "name": "Price",
         "showlegend": false,
         "type": "scatter",
         "x": [
          "2021-08-03T00:00:00",
          "2021-08-04T00:00:00"
         ],
         "y": [
          441.1499938964844,
          438.9800109863281
         ]
        },
        {
         "line": {
          "color": "green",
          "width": 2
         },
         "mode": "lines",
         "name": "Price",
         "showlegend": false,
         "type": "scatter",
         "x": [
          "2021-08-04T00:00:00",
          "2021-08-05T00:00:00"
         ],
         "y": [
          438.9800109863281,
          441.760009765625
         ]
        },
        {
         "line": {
          "color": "green",
          "width": 2
         },
         "mode": "lines",
         "name": "Price",
         "showlegend": false,
         "type": "scatter",
         "x": [
          "2021-08-05T00:00:00",
          "2021-08-06T00:00:00"
         ],
         "y": [
          441.760009765625,
          442.489990234375
         ]
        },
        {
         "line": {
          "color": "green",
          "width": 2
         },
         "mode": "lines",
         "name": "Price",
         "showlegend": false,
         "type": "scatter",
         "x": [
          "2021-08-06T00:00:00",
          "2021-08-09T00:00:00"
         ],
         "y": [
          442.489990234375,
          442.1300048828125
         ]
        },
        {
         "line": {
          "color": "green",
          "width": 2
         },
         "mode": "lines",
         "name": "Price",
         "showlegend": false,
         "type": "scatter",
         "x": [
          "2021-08-09T00:00:00",
          "2021-08-10T00:00:00"
         ],
         "y": [
          442.1300048828125,
          442.67999267578125
         ]
        },
        {
         "line": {
          "color": "green",
          "width": 2
         },
         "mode": "lines",
         "name": "Price",
         "showlegend": false,
         "type": "scatter",
         "x": [
          "2021-08-10T00:00:00",
          "2021-08-11T00:00:00"
         ],
         "y": [
          442.67999267578125,
          443.7799987792969
         ]
        },
        {
         "line": {
          "color": "green",
          "width": 2
         },
         "mode": "lines",
         "name": "Price",
         "showlegend": false,
         "type": "scatter",
         "x": [
          "2021-08-11T00:00:00",
          "2021-08-12T00:00:00"
         ],
         "y": [
          443.7799987792969,
          445.1099853515625
         ]
        },
        {
         "line": {
          "color": "green",
          "width": 2
         },
         "mode": "lines",
         "name": "Price",
         "showlegend": false,
         "type": "scatter",
         "x": [
          "2021-08-12T00:00:00",
          "2021-08-13T00:00:00"
         ],
         "y": [
          445.1099853515625,
          445.9200134277344
         ]
        },
        {
         "line": {
          "color": "green",
          "width": 2
         },
         "mode": "lines",
         "name": "Price",
         "showlegend": false,
         "type": "scatter",
         "x": [
          "2021-08-13T00:00:00",
          "2021-08-16T00:00:00"
         ],
         "y": [
          445.9200134277344,
          446.9700012207031
         ]
        },
        {
         "line": {
          "color": "green",
          "width": 2
         },
         "mode": "lines",
         "name": "Price",
         "showlegend": false,
         "type": "scatter",
         "x": [
          "2021-08-16T00:00:00",
          "2021-08-17T00:00:00"
         ],
         "y": [
          446.9700012207031,
          444.0400085449219
         ]
        },
        {
         "line": {
          "color": "green",
          "width": 2
         },
         "mode": "lines",
         "name": "Price",
         "showlegend": false,
         "type": "scatter",
         "x": [
          "2021-08-17T00:00:00",
          "2021-08-18T00:00:00"
         ],
         "y": [
          444.0400085449219,
          439.17999267578125
         ]
        },
        {
         "line": {
          "color": "green",
          "width": 2
         },
         "mode": "lines",
         "name": "Price",
         "showlegend": false,
         "type": "scatter",
         "x": [
          "2021-08-18T00:00:00",
          "2021-08-19T00:00:00"
         ],
         "y": [
          439.17999267578125,
          439.8599853515625
         ]
        },
        {
         "line": {
          "color": "green",
          "width": 2
         },
         "mode": "lines",
         "name": "Price",
         "showlegend": false,
         "type": "scatter",
         "x": [
          "2021-08-19T00:00:00",
          "2021-08-20T00:00:00"
         ],
         "y": [
          439.8599853515625,
          443.3599853515625
         ]
        },
        {
         "line": {
          "color": "green",
          "width": 2
         },
         "mode": "lines",
         "name": "Price",
         "showlegend": false,
         "type": "scatter",
         "x": [
          "2021-08-20T00:00:00",
          "2021-08-23T00:00:00"
         ],
         "y": [
          443.3599853515625,
          447.260009765625
         ]
        },
        {
         "line": {
          "color": "green",
          "width": 2
         },
         "mode": "lines",
         "name": "Price",
         "showlegend": false,
         "type": "scatter",
         "x": [
          "2021-08-23T00:00:00",
          "2021-08-24T00:00:00"
         ],
         "y": [
          447.260009765625,
          447.9700012207031
         ]
        },
        {
         "line": {
          "color": "green",
          "width": 2
         },
         "mode": "lines",
         "name": "Price",
         "showlegend": false,
         "type": "scatter",
         "x": [
          "2021-08-24T00:00:00",
          "2021-08-25T00:00:00"
         ],
         "y": [
          447.9700012207031,
          448.9100036621094
         ]
        },
        {
         "line": {
          "color": "green",
          "width": 2
         },
         "mode": "lines",
         "name": "Price",
         "showlegend": false,
         "type": "scatter",
         "x": [
          "2021-08-25T00:00:00",
          "2021-08-26T00:00:00"
         ],
         "y": [
          448.9100036621094,
          446.260009765625
         ]
        },
        {
         "line": {
          "color": "green",
          "width": 2
         },
         "mode": "lines",
         "name": "Price",
         "showlegend": false,
         "type": "scatter",
         "x": [
          "2021-08-26T00:00:00",
          "2021-08-27T00:00:00"
         ],
         "y": [
          446.260009765625,
          450.25
         ]
        },
        {
         "line": {
          "color": "green",
          "width": 2
         },
         "mode": "lines",
         "name": "Price",
         "showlegend": false,
         "type": "scatter",
         "x": [
          "2021-08-27T00:00:00",
          "2021-08-30T00:00:00"
         ],
         "y": [
          450.25,
          452.2300109863281
         ]
        },
        {
         "line": {
          "color": "green",
          "width": 2
         },
         "mode": "lines",
         "name": "Price",
         "showlegend": false,
         "type": "scatter",
         "x": [
          "2021-08-30T00:00:00",
          "2021-08-31T00:00:00"
         ],
         "y": [
          452.2300109863281,
          451.55999755859375
         ]
        },
        {
         "line": {
          "color": "green",
          "width": 2
         },
         "mode": "lines",
         "name": "Price",
         "showlegend": false,
         "type": "scatter",
         "x": [
          "2021-08-31T00:00:00",
          "2021-09-01T00:00:00"
         ],
         "y": [
          451.55999755859375,
          451.79998779296875
         ]
        },
        {
         "line": {
          "color": "green",
          "width": 2
         },
         "mode": "lines",
         "name": "Price",
         "showlegend": false,
         "type": "scatter",
         "x": [
          "2021-09-01T00:00:00",
          "2021-09-02T00:00:00"
         ],
         "y": [
          451.79998779296875,
          453.19000244140625
         ]
        },
        {
         "line": {
          "color": "green",
          "width": 2
         },
         "mode": "lines",
         "name": "Price",
         "showlegend": false,
         "type": "scatter",
         "x": [
          "2021-09-02T00:00:00",
          "2021-09-03T00:00:00"
         ],
         "y": [
          453.19000244140625,
          453.0799865722656
         ]
        },
        {
         "line": {
          "color": "green",
          "width": 2
         },
         "mode": "lines",
         "name": "Price",
         "showlegend": false,
         "type": "scatter",
         "x": [
          "2021-09-03T00:00:00",
          "2021-09-07T00:00:00"
         ],
         "y": [
          453.0799865722656,
          451.4599914550781
         ]
        },
        {
         "line": {
          "color": "green",
          "width": 2
         },
         "mode": "lines",
         "name": "Price",
         "showlegend": false,
         "type": "scatter",
         "x": [
          "2021-09-07T00:00:00",
          "2021-09-08T00:00:00"
         ],
         "y": [
          451.4599914550781,
          450.9100036621094
         ]
        },
        {
         "line": {
          "color": "green",
          "width": 2
         },
         "mode": "lines",
         "name": "Price",
         "showlegend": false,
         "type": "scatter",
         "x": [
          "2021-09-08T00:00:00",
          "2021-09-09T00:00:00"
         ],
         "y": [
          450.9100036621094,
          448.9800109863281
         ]
        },
        {
         "line": {
          "color": "green",
          "width": 2
         },
         "mode": "lines",
         "name": "Price",
         "showlegend": false,
         "type": "scatter",
         "x": [
          "2021-09-09T00:00:00",
          "2021-09-10T00:00:00"
         ],
         "y": [
          448.9800109863281,
          445.44000244140625
         ]
        },
        {
         "line": {
          "color": "green",
          "width": 2
         },
         "mode": "lines",
         "name": "Price",
         "showlegend": false,
         "type": "scatter",
         "x": [
          "2021-09-10T00:00:00",
          "2021-09-13T00:00:00"
         ],
         "y": [
          445.44000244140625,
          446.5799865722656
         ]
        },
        {
         "line": {
          "color": "green",
          "width": 2
         },
         "mode": "lines",
         "name": "Price",
         "showlegend": false,
         "type": "scatter",
         "x": [
          "2021-09-13T00:00:00",
          "2021-09-14T00:00:00"
         ],
         "y": [
          446.5799865722656,
          444.1700134277344
         ]
        },
        {
         "line": {
          "color": "green",
          "width": 2
         },
         "mode": "lines",
         "name": "Price",
         "showlegend": false,
         "type": "scatter",
         "x": [
          "2021-09-14T00:00:00",
          "2021-09-15T00:00:00"
         ],
         "y": [
          444.1700134277344,
          447.8800048828125
         ]
        },
        {
         "line": {
          "color": "green",
          "width": 2
         },
         "mode": "lines",
         "name": "Price",
         "showlegend": false,
         "type": "scatter",
         "x": [
          "2021-09-15T00:00:00",
          "2021-09-16T00:00:00"
         ],
         "y": [
          447.8800048828125,
          447.1700134277344
         ]
        },
        {
         "line": {
          "color": "green",
          "width": 2
         },
         "mode": "lines",
         "name": "Price",
         "showlegend": false,
         "type": "scatter",
         "x": [
          "2021-09-16T00:00:00",
          "2021-09-17T00:00:00"
         ],
         "y": [
          447.1700134277344,
          441.3999938964844
         ]
        },
        {
         "line": {
          "color": "red",
          "width": 2
         },
         "mode": "lines",
         "name": "Price",
         "showlegend": false,
         "type": "scatter",
         "x": [
          "2021-09-17T00:00:00",
          "2021-09-20T00:00:00"
         ],
         "y": [
          441.3999938964844,
          434.0400085449219
         ]
        },
        {
         "line": {
          "color": "red",
          "width": 2
         },
         "mode": "lines",
         "name": "Price",
         "showlegend": false,
         "type": "scatter",
         "x": [
          "2021-09-20T00:00:00",
          "2021-09-21T00:00:00"
         ],
         "y": [
          434.0400085449219,
          433.6300048828125
         ]
        },
        {
         "line": {
          "color": "red",
          "width": 2
         },
         "mode": "lines",
         "name": "Price",
         "showlegend": false,
         "type": "scatter",
         "x": [
          "2021-09-21T00:00:00",
          "2021-09-22T00:00:00"
         ],
         "y": [
          433.6300048828125,
          437.8599853515625
         ]
        },
        {
         "line": {
          "color": "red",
          "width": 2
         },
         "mode": "lines",
         "name": "Price",
         "showlegend": false,
         "type": "scatter",
         "x": [
          "2021-09-22T00:00:00",
          "2021-09-23T00:00:00"
         ],
         "y": [
          437.8599853515625,
          443.17999267578125
         ]
        },
        {
         "line": {
          "color": "red",
          "width": 2
         },
         "mode": "lines",
         "name": "Price",
         "showlegend": false,
         "type": "scatter",
         "x": [
          "2021-09-23T00:00:00",
          "2021-09-24T00:00:00"
         ],
         "y": [
          443.17999267578125,
          443.9100036621094
         ]
        },
        {
         "line": {
          "color": "red",
          "width": 2
         },
         "mode": "lines",
         "name": "Price",
         "showlegend": false,
         "type": "scatter",
         "x": [
          "2021-09-24T00:00:00",
          "2021-09-27T00:00:00"
         ],
         "y": [
          443.9100036621094,
          442.6400146484375
         ]
        },
        {
         "line": {
          "color": "red",
          "width": 2
         },
         "mode": "lines",
         "name": "Price",
         "showlegend": false,
         "type": "scatter",
         "x": [
          "2021-09-27T00:00:00",
          "2021-09-28T00:00:00"
         ],
         "y": [
          442.6400146484375,
          433.7200012207031
         ]
        },
        {
         "line": {
          "color": "red",
          "width": 2
         },
         "mode": "lines",
         "name": "Price",
         "showlegend": false,
         "type": "scatter",
         "x": [
          "2021-09-28T00:00:00",
          "2021-09-29T00:00:00"
         ],
         "y": [
          433.7200012207031,
          434.45001220703125
         ]
        },
        {
         "line": {
          "color": "red",
          "width": 2
         },
         "mode": "lines",
         "name": "Price",
         "showlegend": false,
         "type": "scatter",
         "x": [
          "2021-09-29T00:00:00",
          "2021-09-30T00:00:00"
         ],
         "y": [
          434.45001220703125,
          429.1400146484375
         ]
        },
        {
         "line": {
          "color": "red",
          "width": 2
         },
         "mode": "lines",
         "name": "Price",
         "showlegend": false,
         "type": "scatter",
         "x": [
          "2021-09-30T00:00:00",
          "2021-10-01T00:00:00"
         ],
         "y": [
          429.1400146484375,
          434.239990234375
         ]
        },
        {
         "line": {
          "color": "red",
          "width": 2
         },
         "mode": "lines",
         "name": "Price",
         "showlegend": false,
         "type": "scatter",
         "x": [
          "2021-10-01T00:00:00",
          "2021-10-04T00:00:00"
         ],
         "y": [
          434.239990234375,
          428.6400146484375
         ]
        },
        {
         "line": {
          "color": "red",
          "width": 2
         },
         "mode": "lines",
         "name": "Price",
         "showlegend": false,
         "type": "scatter",
         "x": [
          "2021-10-04T00:00:00",
          "2021-10-05T00:00:00"
         ],
         "y": [
          428.6400146484375,
          433.1000061035156
         ]
        },
        {
         "line": {
          "color": "red",
          "width": 2
         },
         "mode": "lines",
         "name": "Price",
         "showlegend": false,
         "type": "scatter",
         "x": [
          "2021-10-05T00:00:00",
          "2021-10-06T00:00:00"
         ],
         "y": [
          433.1000061035156,
          434.8999938964844
         ]
        },
        {
         "line": {
          "color": "red",
          "width": 2
         },
         "mode": "lines",
         "name": "Price",
         "showlegend": false,
         "type": "scatter",
         "x": [
          "2021-10-06T00:00:00",
          "2021-10-07T00:00:00"
         ],
         "y": [
          434.8999938964844,
          438.6600036621094
         ]
        },
        {
         "line": {
          "color": "red",
          "width": 2
         },
         "mode": "lines",
         "name": "Price",
         "showlegend": false,
         "type": "scatter",
         "x": [
          "2021-10-07T00:00:00",
          "2021-10-08T00:00:00"
         ],
         "y": [
          438.6600036621094,
          437.8599853515625
         ]
        },
        {
         "line": {
          "color": "red",
          "width": 2
         },
         "mode": "lines",
         "name": "Price",
         "showlegend": false,
         "type": "scatter",
         "x": [
          "2021-10-08T00:00:00",
          "2021-10-11T00:00:00"
         ],
         "y": [
          437.8599853515625,
          434.69000244140625
         ]
        },
        {
         "line": {
          "color": "red",
          "width": 2
         },
         "mode": "lines",
         "name": "Price",
         "showlegend": false,
         "type": "scatter",
         "x": [
          "2021-10-11T00:00:00",
          "2021-10-12T00:00:00"
         ],
         "y": [
          434.69000244140625,
          433.6199951171875
         ]
        },
        {
         "line": {
          "color": "red",
          "width": 2
         },
         "mode": "lines",
         "name": "Price",
         "showlegend": false,
         "type": "scatter",
         "x": [
          "2021-10-12T00:00:00",
          "2021-10-13T00:00:00"
         ],
         "y": [
          433.6199951171875,
          435.17999267578125
         ]
        },
        {
         "line": {
          "color": "red",
          "width": 2
         },
         "mode": "lines",
         "name": "Price",
         "showlegend": false,
         "type": "scatter",
         "x": [
          "2021-10-13T00:00:00",
          "2021-10-14T00:00:00"
         ],
         "y": [
          435.17999267578125,
          442.5
         ]
        },
        {
         "line": {
          "color": "red",
          "width": 2
         },
         "mode": "lines",
         "name": "Price",
         "showlegend": false,
         "type": "scatter",
         "x": [
          "2021-10-14T00:00:00",
          "2021-10-15T00:00:00"
         ],
         "y": [
          442.5,
          445.8699951171875
         ]
        },
        {
         "line": {
          "color": "red",
          "width": 2
         },
         "mode": "lines",
         "name": "Price",
         "showlegend": false,
         "type": "scatter",
         "x": [
          "2021-10-15T00:00:00",
          "2021-10-18T00:00:00"
         ],
         "y": [
          445.8699951171875,
          447.19000244140625
         ]
        },
        {
         "line": {
          "color": "red",
          "width": 2
         },
         "mode": "lines",
         "name": "Price",
         "showlegend": false,
         "type": "scatter",
         "x": [
          "2021-10-18T00:00:00",
          "2021-10-19T00:00:00"
         ],
         "y": [
          447.19000244140625,
          450.6400146484375
         ]
        },
        {
         "line": {
          "color": "red",
          "width": 2
         },
         "mode": "lines",
         "name": "Price",
         "showlegend": false,
         "type": "scatter",
         "x": [
          "2021-10-19T00:00:00",
          "2021-10-20T00:00:00"
         ],
         "y": [
          450.6400146484375,
          452.4100036621094
         ]
        },
        {
         "line": {
          "color": "green",
          "width": 2
         },
         "mode": "lines",
         "name": "Price",
         "showlegend": false,
         "type": "scatter",
         "x": [
          "2021-10-20T00:00:00",
          "2021-10-21T00:00:00"
         ],
         "y": [
          452.4100036621094,
          453.5899963378906
         ]
        },
        {
         "line": {
          "color": "green",
          "width": 2
         },
         "mode": "lines",
         "name": "Price",
         "showlegend": false,
         "type": "scatter",
         "x": [
          "2021-10-21T00:00:00",
          "2021-10-22T00:00:00"
         ],
         "y": [
          453.5899963378906,
          453.1199951171875
         ]
        },
        {
         "line": {
          "color": "green",
          "width": 2
         },
         "mode": "lines",
         "name": "Price",
         "showlegend": false,
         "type": "scatter",
         "x": [
          "2021-10-22T00:00:00",
          "2021-10-25T00:00:00"
         ],
         "y": [
          453.1199951171875,
          455.54998779296875
         ]
        },
        {
         "line": {
          "color": "green",
          "width": 2
         },
         "mode": "lines",
         "name": "Price",
         "showlegend": false,
         "type": "scatter",
         "x": [
          "2021-10-25T00:00:00",
          "2021-10-26T00:00:00"
         ],
         "y": [
          455.54998779296875,
          455.9599914550781
         ]
        },
        {
         "line": {
          "color": "green",
          "width": 2
         },
         "mode": "lines",
         "name": "Price",
         "showlegend": false,
         "type": "scatter",
         "x": [
          "2021-10-26T00:00:00",
          "2021-10-27T00:00:00"
         ],
         "y": [
          455.9599914550781,
          453.94000244140625
         ]
        },
        {
         "line": {
          "color": "green",
          "width": 2
         },
         "mode": "lines",
         "name": "Price",
         "showlegend": false,
         "type": "scatter",
         "x": [
          "2021-10-27T00:00:00",
          "2021-10-28T00:00:00"
         ],
         "y": [
          453.94000244140625,
          458.32000732421875
         ]
        },
        {
         "line": {
          "color": "green",
          "width": 2
         },
         "mode": "lines",
         "name": "Price",
         "showlegend": false,
         "type": "scatter",
         "x": [
          "2021-10-28T00:00:00",
          "2021-10-29T00:00:00"
         ],
         "y": [
          458.32000732421875,
          459.25
         ]
        },
        {
         "line": {
          "color": "green",
          "width": 2
         },
         "mode": "lines",
         "name": "Price",
         "showlegend": false,
         "type": "scatter",
         "x": [
          "2021-10-29T00:00:00",
          "2021-11-01T00:00:00"
         ],
         "y": [
          459.25,
          460.0400085449219
         ]
        },
        {
         "line": {
          "color": "green",
          "width": 2
         },
         "mode": "lines",
         "name": "Price",
         "showlegend": false,
         "type": "scatter",
         "x": [
          "2021-11-01T00:00:00",
          "2021-11-02T00:00:00"
         ],
         "y": [
          460.0400085449219,
          461.8999938964844
         ]
        },
        {
         "line": {
          "color": "green",
          "width": 2
         },
         "mode": "lines",
         "name": "Price",
         "showlegend": false,
         "type": "scatter",
         "x": [
          "2021-11-02T00:00:00",
          "2021-11-03T00:00:00"
         ],
         "y": [
          461.8999938964844,
          464.7200012207031
         ]
        },
        {
         "line": {
          "color": "green",
          "width": 2
         },
         "mode": "lines",
         "name": "Price",
         "showlegend": false,
         "type": "scatter",
         "x": [
          "2021-11-03T00:00:00",
          "2021-11-04T00:00:00"
         ],
         "y": [
          464.7200012207031,
          466.9100036621094
         ]
        },
        {
         "line": {
          "color": "green",
          "width": 2
         },
         "mode": "lines",
         "name": "Price",
         "showlegend": false,
         "type": "scatter",
         "x": [
          "2021-11-04T00:00:00",
          "2021-11-05T00:00:00"
         ],
         "y": [
          466.9100036621094,
          468.5299987792969
         ]
        },
        {
         "line": {
          "color": "green",
          "width": 2
         },
         "mode": "lines",
         "name": "Price",
         "showlegend": false,
         "type": "scatter",
         "x": [
          "2021-11-05T00:00:00",
          "2021-11-08T00:00:00"
         ],
         "y": [
          468.5299987792969,
          468.92999267578125
         ]
        },
        {
         "line": {
          "color": "green",
          "width": 2
         },
         "mode": "lines",
         "name": "Price",
         "showlegend": false,
         "type": "scatter",
         "x": [
          "2021-11-08T00:00:00",
          "2021-11-09T00:00:00"
         ],
         "y": [
          468.92999267578125,
          467.3800048828125
         ]
        },
        {
         "line": {
          "color": "green",
          "width": 2
         },
         "mode": "lines",
         "name": "Price",
         "showlegend": false,
         "type": "scatter",
         "x": [
          "2021-11-09T00:00:00",
          "2021-11-10T00:00:00"
         ],
         "y": [
          467.3800048828125,
          463.6199951171875
         ]
        },
        {
         "line": {
          "color": "green",
          "width": 2
         },
         "mode": "lines",
         "name": "Price",
         "showlegend": false,
         "type": "scatter",
         "x": [
          "2021-11-10T00:00:00",
          "2021-11-11T00:00:00"
         ],
         "y": [
          463.6199951171875,
          463.7699890136719
         ]
        },
        {
         "line": {
          "color": "green",
          "width": 2
         },
         "mode": "lines",
         "name": "Price",
         "showlegend": false,
         "type": "scatter",
         "x": [
          "2021-11-11T00:00:00",
          "2021-11-12T00:00:00"
         ],
         "y": [
          463.7699890136719,
          467.2699890136719
         ]
        },
        {
         "line": {
          "color": "green",
          "width": 2
         },
         "mode": "lines",
         "name": "Price",
         "showlegend": false,
         "type": "scatter",
         "x": [
          "2021-11-12T00:00:00",
          "2021-11-15T00:00:00"
         ],
         "y": [
          467.2699890136719,
          467.42999267578125
         ]
        },
        {
         "line": {
          "color": "green",
          "width": 2
         },
         "mode": "lines",
         "name": "Price",
         "showlegend": false,
         "type": "scatter",
         "x": [
          "2021-11-15T00:00:00",
          "2021-11-16T00:00:00"
         ],
         "y": [
          467.42999267578125,
          469.2799987792969
         ]
        },
        {
         "line": {
          "color": "green",
          "width": 2
         },
         "mode": "lines",
         "name": "Price",
         "showlegend": false,
         "type": "scatter",
         "x": [
          "2021-11-16T00:00:00",
          "2021-11-17T00:00:00"
         ],
         "y": [
          469.2799987792969,
          468.1400146484375
         ]
        },
        {
         "line": {
          "color": "green",
          "width": 2
         },
         "mode": "lines",
         "name": "Price",
         "showlegend": false,
         "type": "scatter",
         "x": [
          "2021-11-17T00:00:00",
          "2021-11-18T00:00:00"
         ],
         "y": [
          468.1400146484375,
          469.7300109863281
         ]
        },
        {
         "line": {
          "color": "green",
          "width": 2
         },
         "mode": "lines",
         "name": "Price",
         "showlegend": false,
         "type": "scatter",
         "x": [
          "2021-11-18T00:00:00",
          "2021-11-19T00:00:00"
         ],
         "y": [
          469.7300109863281,
          468.8900146484375
         ]
        },
        {
         "line": {
          "color": "green",
          "width": 2
         },
         "mode": "lines",
         "name": "Price",
         "showlegend": false,
         "type": "scatter",
         "x": [
          "2021-11-19T00:00:00",
          "2021-11-22T00:00:00"
         ],
         "y": [
          468.8900146484375,
          467.57000732421875
         ]
        },
        {
         "line": {
          "color": "green",
          "width": 2
         },
         "mode": "lines",
         "name": "Price",
         "showlegend": false,
         "type": "scatter",
         "x": [
          "2021-11-22T00:00:00",
          "2021-11-23T00:00:00"
         ],
         "y": [
          467.57000732421875,
          468.19000244140625
         ]
        },
        {
         "line": {
          "color": "green",
          "width": 2
         },
         "mode": "lines",
         "name": "Price",
         "showlegend": false,
         "type": "scatter",
         "x": [
          "2021-11-23T00:00:00",
          "2021-11-24T00:00:00"
         ],
         "y": [
          468.19000244140625,
          469.44000244140625
         ]
        },
        {
         "line": {
          "color": "green",
          "width": 2
         },
         "mode": "lines",
         "name": "Price",
         "showlegend": false,
         "type": "scatter",
         "x": [
          "2021-11-24T00:00:00",
          "2021-11-26T00:00:00"
         ],
         "y": [
          469.44000244140625,
          458.9700012207031
         ]
        },
        {
         "line": {
          "color": "green",
          "width": 2
         },
         "mode": "lines",
         "name": "Price",
         "showlegend": false,
         "type": "scatter",
         "x": [
          "2021-11-26T00:00:00",
          "2021-11-29T00:00:00"
         ],
         "y": [
          458.9700012207031,
          464.6000061035156
         ]
        },
        {
         "line": {
          "color": "green",
          "width": 2
         },
         "mode": "lines",
         "name": "Price",
         "showlegend": false,
         "type": "scatter",
         "x": [
          "2021-11-29T00:00:00",
          "2021-11-30T00:00:00"
         ],
         "y": [
          464.6000061035156,
          455.55999755859375
         ]
        },
        {
         "line": {
          "color": "green",
          "width": 2
         },
         "mode": "lines",
         "name": "Price",
         "showlegend": false,
         "type": "scatter",
         "x": [
          "2021-11-30T00:00:00",
          "2021-12-01T00:00:00"
         ],
         "y": [
          455.55999755859375,
          450.5
         ]
        },
        {
         "line": {
          "color": "red",
          "width": 2
         },
         "mode": "lines",
         "name": "Price",
         "showlegend": false,
         "type": "scatter",
         "x": [
          "2021-12-01T00:00:00",
          "2021-12-02T00:00:00"
         ],
         "y": [
          450.5,
          457.3999938964844
         ]
        },
        {
         "line": {
          "color": "green",
          "width": 2
         },
         "mode": "lines",
         "name": "Price",
         "showlegend": false,
         "type": "scatter",
         "x": [
          "2021-12-02T00:00:00",
          "2021-12-03T00:00:00"
         ],
         "y": [
          457.3999938964844,
          453.4200134277344
         ]
        },
        {
         "line": {
          "color": "red",
          "width": 2
         },
         "mode": "lines",
         "name": "Price",
         "showlegend": false,
         "type": "scatter",
         "x": [
          "2021-12-03T00:00:00",
          "2021-12-06T00:00:00"
         ],
         "y": [
          453.4200134277344,
          458.7900085449219
         ]
        },
        {
         "line": {
          "color": "green",
          "width": 2
         },
         "mode": "lines",
         "name": "Price",
         "showlegend": false,
         "type": "scatter",
         "x": [
          "2021-12-06T00:00:00",
          "2021-12-07T00:00:00"
         ],
         "y": [
          458.7900085449219,
          468.2799987792969
         ]
        },
        {
         "line": {
          "color": "green",
          "width": 2
         },
         "mode": "lines",
         "name": "Price",
         "showlegend": false,
         "type": "scatter",
         "x": [
          "2021-12-07T00:00:00",
          "2021-12-08T00:00:00"
         ],
         "y": [
          468.2799987792969,
          469.5199890136719
         ]
        },
        {
         "line": {
          "color": "green",
          "width": 2
         },
         "mode": "lines",
         "name": "Price",
         "showlegend": false,
         "type": "scatter",
         "x": [
          "2021-12-08T00:00:00",
          "2021-12-09T00:00:00"
         ],
         "y": [
          469.5199890136719,
          466.3500061035156
         ]
        },
        {
         "line": {
          "color": "green",
          "width": 2
         },
         "mode": "lines",
         "name": "Price",
         "showlegend": false,
         "type": "scatter",
         "x": [
          "2021-12-09T00:00:00",
          "2021-12-10T00:00:00"
         ],
         "y": [
          466.3500061035156,
          470.739990234375
         ]
        },
        {
         "line": {
          "color": "green",
          "width": 2
         },
         "mode": "lines",
         "name": "Price",
         "showlegend": false,
         "type": "scatter",
         "x": [
          "2021-12-10T00:00:00",
          "2021-12-13T00:00:00"
         ],
         "y": [
          470.739990234375,
          466.57000732421875
         ]
        },
        {
         "line": {
          "color": "green",
          "width": 2
         },
         "mode": "lines",
         "name": "Price",
         "showlegend": false,
         "type": "scatter",
         "x": [
          "2021-12-13T00:00:00",
          "2021-12-14T00:00:00"
         ],
         "y": [
          466.57000732421875,
          463.3599853515625
         ]
        },
        {
         "line": {
          "color": "green",
          "width": 2
         },
         "mode": "lines",
         "name": "Price",
         "showlegend": false,
         "type": "scatter",
         "x": [
          "2021-12-14T00:00:00",
          "2021-12-15T00:00:00"
         ],
         "y": [
          463.3599853515625,
          470.6000061035156
         ]
        },
        {
         "line": {
          "color": "green",
          "width": 2
         },
         "mode": "lines",
         "name": "Price",
         "showlegend": false,
         "type": "scatter",
         "x": [
          "2021-12-15T00:00:00",
          "2021-12-16T00:00:00"
         ],
         "y": [
          470.6000061035156,
          466.45001220703125
         ]
        },
        {
         "line": {
          "color": "green",
          "width": 2
         },
         "mode": "lines",
         "name": "Price",
         "showlegend": false,
         "type": "scatter",
         "x": [
          "2021-12-16T00:00:00",
          "2021-12-17T00:00:00"
         ],
         "y": [
          466.45001220703125,
          459.8699951171875
         ]
        },
        {
         "line": {
          "color": "red",
          "width": 2
         },
         "mode": "lines",
         "name": "Price",
         "showlegend": false,
         "type": "scatter",
         "x": [
          "2021-12-17T00:00:00",
          "2021-12-20T00:00:00"
         ],
         "y": [
          459.8699951171875,
          454.9800109863281
         ]
        },
        {
         "line": {
          "color": "red",
          "width": 2
         },
         "mode": "lines",
         "name": "Price",
         "showlegend": false,
         "type": "scatter",
         "x": [
          "2021-12-20T00:00:00",
          "2021-12-21T00:00:00"
         ],
         "y": [
          454.9800109863281,
          463.05999755859375
         ]
        },
        {
         "line": {
          "color": "red",
          "width": 2
         },
         "mode": "lines",
         "name": "Price",
         "showlegend": false,
         "type": "scatter",
         "x": [
          "2021-12-21T00:00:00",
          "2021-12-22T00:00:00"
         ],
         "y": [
          463.05999755859375,
          467.69000244140625
         ]
        },
        {
         "line": {
          "color": "green",
          "width": 2
         },
         "mode": "lines",
         "name": "Price",
         "showlegend": false,
         "type": "scatter",
         "x": [
          "2021-12-22T00:00:00",
          "2021-12-23T00:00:00"
         ],
         "y": [
          467.69000244140625,
          470.6000061035156
         ]
        },
        {
         "line": {
          "color": "green",
          "width": 2
         },
         "mode": "lines",
         "name": "Price",
         "showlegend": false,
         "type": "scatter",
         "x": [
          "2021-12-23T00:00:00",
          "2021-12-27T00:00:00"
         ],
         "y": [
          470.6000061035156,
          477.260009765625
         ]
        },
        {
         "line": {
          "color": "green",
          "width": 2
         },
         "mode": "lines",
         "name": "Price",
         "showlegend": false,
         "type": "scatter",
         "x": [
          "2021-12-27T00:00:00",
          "2021-12-28T00:00:00"
         ],
         "y": [
          477.260009765625,
          476.8699951171875
         ]
        },
        {
         "line": {
          "color": "green",
          "width": 2
         },
         "mode": "lines",
         "name": "Price",
         "showlegend": false,
         "type": "scatter",
         "x": [
          "2021-12-28T00:00:00",
          "2021-12-29T00:00:00"
         ],
         "y": [
          476.8699951171875,
          477.4800109863281
         ]
        },
        {
         "line": {
          "color": "green",
          "width": 2
         },
         "mode": "lines",
         "name": "Price",
         "showlegend": false,
         "type": "scatter",
         "x": [
          "2021-12-29T00:00:00",
          "2021-12-30T00:00:00"
         ],
         "y": [
          477.4800109863281,
          476.1600036621094
         ]
        },
        {
         "line": {
          "color": "green",
          "width": 2
         },
         "mode": "lines",
         "name": "Price",
         "showlegend": false,
         "type": "scatter",
         "x": [
          "2021-12-30T00:00:00",
          "2021-12-31T00:00:00"
         ],
         "y": [
          476.1600036621094,
          474.9599914550781
         ]
        },
        {
         "line": {
          "color": "green",
          "width": 2
         },
         "mode": "lines",
         "name": "Price",
         "showlegend": false,
         "type": "scatter",
         "x": [
          "2021-12-31T00:00:00",
          "2022-01-03T00:00:00"
         ],
         "y": [
          474.9599914550781,
          477.7099914550781
         ]
        },
        {
         "line": {
          "color": "green",
          "width": 2
         },
         "mode": "lines",
         "name": "Price",
         "showlegend": false,
         "type": "scatter",
         "x": [
          "2022-01-03T00:00:00",
          "2022-01-04T00:00:00"
         ],
         "y": [
          477.7099914550781,
          477.54998779296875
         ]
        },
        {
         "line": {
          "color": "green",
          "width": 2
         },
         "mode": "lines",
         "name": "Price",
         "showlegend": false,
         "type": "scatter",
         "x": [
          "2022-01-04T00:00:00",
          "2022-01-05T00:00:00"
         ],
         "y": [
          477.54998779296875,
          468.3800048828125
         ]
        },
        {
         "line": {
          "color": "green",
          "width": 2
         },
         "mode": "lines",
         "name": "Price",
         "showlegend": false,
         "type": "scatter",
         "x": [
          "2022-01-05T00:00:00",
          "2022-01-06T00:00:00"
         ],
         "y": [
          468.3800048828125,
          467.94000244140625
         ]
        },
        {
         "line": {
          "color": "red",
          "width": 2
         },
         "mode": "lines",
         "name": "Price",
         "showlegend": false,
         "type": "scatter",
         "x": [
          "2022-01-06T00:00:00",
          "2022-01-07T00:00:00"
         ],
         "y": [
          467.94000244140625,
          466.0899963378906
         ]
        },
        {
         "line": {
          "color": "red",
          "width": 2
         },
         "mode": "lines",
         "name": "Price",
         "showlegend": false,
         "type": "scatter",
         "x": [
          "2022-01-07T00:00:00",
          "2022-01-10T00:00:00"
         ],
         "y": [
          466.0899963378906,
          465.510009765625
         ]
        },
        {
         "line": {
          "color": "green",
          "width": 2
         },
         "mode": "lines",
         "name": "Price",
         "showlegend": false,
         "type": "scatter",
         "x": [
          "2022-01-10T00:00:00",
          "2022-01-11T00:00:00"
         ],
         "y": [
          465.510009765625,
          469.75
         ]
        },
        {
         "line": {
          "color": "green",
          "width": 2
         },
         "mode": "lines",
         "name": "Price",
         "showlegend": false,
         "type": "scatter",
         "x": [
          "2022-01-11T00:00:00",
          "2022-01-12T00:00:00"
         ],
         "y": [
          469.75,
          471.0199890136719
         ]
        },
        {
         "line": {
          "color": "green",
          "width": 2
         },
         "mode": "lines",
         "name": "Price",
         "showlegend": false,
         "type": "scatter",
         "x": [
          "2022-01-12T00:00:00",
          "2022-01-13T00:00:00"
         ],
         "y": [
          471.0199890136719,
          464.5299987792969
         ]
        },
        {
         "line": {
          "color": "green",
          "width": 2
         },
         "mode": "lines",
         "name": "Price",
         "showlegend": false,
         "type": "scatter",
         "x": [
          "2022-01-13T00:00:00",
          "2022-01-14T00:00:00"
         ],
         "y": [
          464.5299987792969,
          464.7200012207031
         ]
        },
        {
         "line": {
          "color": "green",
          "width": 2
         },
         "mode": "lines",
         "name": "Price",
         "showlegend": false,
         "type": "scatter",
         "x": [
          "2022-01-14T00:00:00",
          "2022-01-18T00:00:00"
         ],
         "y": [
          464.7200012207031,
          456.489990234375
         ]
        },
        {
         "line": {
          "color": "green",
          "width": 2
         },
         "mode": "lines",
         "name": "Price",
         "showlegend": false,
         "type": "scatter",
         "x": [
          "2022-01-18T00:00:00",
          "2022-01-19T00:00:00"
         ],
         "y": [
          456.489990234375,
          451.75
         ]
        },
        {
         "line": {
          "color": "red",
          "width": 2
         },
         "mode": "lines",
         "name": "Price",
         "showlegend": false,
         "type": "scatter",
         "x": [
          "2022-01-19T00:00:00",
          "2022-01-20T00:00:00"
         ],
         "y": [
          451.75,
          446.75
         ]
        },
        {
         "line": {
          "color": "red",
          "width": 2
         },
         "mode": "lines",
         "name": "Price",
         "showlegend": false,
         "type": "scatter",
         "x": [
          "2022-01-20T00:00:00",
          "2022-01-21T00:00:00"
         ],
         "y": [
          446.75,
          437.9800109863281
         ]
        },
        {
         "line": {
          "color": "red",
          "width": 2
         },
         "mode": "lines",
         "name": "Price",
         "showlegend": false,
         "type": "scatter",
         "x": [
          "2022-01-21T00:00:00",
          "2022-01-24T00:00:00"
         ],
         "y": [
          437.9800109863281,
          439.8399963378906
         ]
        },
        {
         "line": {
          "color": "red",
          "width": 2
         },
         "mode": "lines",
         "name": "Price",
         "showlegend": false,
         "type": "scatter",
         "x": [
          "2022-01-24T00:00:00",
          "2022-01-25T00:00:00"
         ],
         "y": [
          439.8399963378906,
          434.4700012207031
         ]
        },
        {
         "line": {
          "color": "red",
          "width": 2
         },
         "mode": "lines",
         "name": "Price",
         "showlegend": false,
         "type": "scatter",
         "x": [
          "2022-01-25T00:00:00",
          "2022-01-26T00:00:00"
         ],
         "y": [
          434.4700012207031,
          433.3800048828125
         ]
        },
        {
         "line": {
          "color": "red",
          "width": 2
         },
         "mode": "lines",
         "name": "Price",
         "showlegend": false,
         "type": "scatter",
         "x": [
          "2022-01-26T00:00:00",
          "2022-01-27T00:00:00"
         ],
         "y": [
          433.3800048828125,
          431.239990234375
         ]
        },
        {
         "line": {
          "color": "red",
          "width": 2
         },
         "mode": "lines",
         "name": "Price",
         "showlegend": false,
         "type": "scatter",
         "x": [
          "2022-01-27T00:00:00",
          "2022-01-28T00:00:00"
         ],
         "y": [
          431.239990234375,
          441.95001220703125
         ]
        },
        {
         "line": {
          "color": "red",
          "width": 2
         },
         "mode": "lines",
         "name": "Price",
         "showlegend": false,
         "type": "scatter",
         "x": [
          "2022-01-28T00:00:00",
          "2022-01-31T00:00:00"
         ],
         "y": [
          441.95001220703125,
          449.9100036621094
         ]
        },
        {
         "line": {
          "color": "red",
          "width": 2
         },
         "mode": "lines",
         "name": "Price",
         "showlegend": false,
         "type": "scatter",
         "x": [
          "2022-01-31T00:00:00",
          "2022-02-01T00:00:00"
         ],
         "y": [
          449.9100036621094,
          452.95001220703125
         ]
        },
        {
         "line": {
          "color": "red",
          "width": 2
         },
         "mode": "lines",
         "name": "Price",
         "showlegend": false,
         "type": "scatter",
         "x": [
          "2022-02-01T00:00:00",
          "2022-02-02T00:00:00"
         ],
         "y": [
          452.95001220703125,
          457.3500061035156
         ]
        },
        {
         "line": {
          "color": "green",
          "width": 2
         },
         "mode": "lines",
         "name": "Price",
         "showlegend": false,
         "type": "scatter",
         "x": [
          "2022-02-02T00:00:00",
          "2022-02-03T00:00:00"
         ],
         "y": [
          457.3500061035156,
          446.6000061035156
         ]
        },
        {
         "line": {
          "color": "red",
          "width": 2
         },
         "mode": "lines",
         "name": "Price",
         "showlegend": false,
         "type": "scatter",
         "x": [
          "2022-02-03T00:00:00",
          "2022-02-04T00:00:00"
         ],
         "y": [
          446.6000061035156,
          448.70001220703125
         ]
        },
        {
         "line": {
          "color": "red",
          "width": 2
         },
         "mode": "lines",
         "name": "Price",
         "showlegend": false,
         "type": "scatter",
         "x": [
          "2022-02-04T00:00:00",
          "2022-02-07T00:00:00"
         ],
         "y": [
          448.70001220703125,
          447.260009765625
         ]
        },
        {
         "line": {
          "color": "red",
          "width": 2
         },
         "mode": "lines",
         "name": "Price",
         "showlegend": false,
         "type": "scatter",
         "x": [
          "2022-02-07T00:00:00",
          "2022-02-08T00:00:00"
         ],
         "y": [
          447.260009765625,
          450.94000244140625
         ]
        },
        {
         "line": {
          "color": "red",
          "width": 2
         },
         "mode": "lines",
         "name": "Price",
         "showlegend": false,
         "type": "scatter",
         "x": [
          "2022-02-08T00:00:00",
          "2022-02-09T00:00:00"
         ],
         "y": [
          450.94000244140625,
          457.5400085449219
         ]
        },
        {
         "line": {
          "color": "red",
          "width": 2
         },
         "mode": "lines",
         "name": "Price",
         "showlegend": false,
         "type": "scatter",
         "x": [
          "2022-02-09T00:00:00",
          "2022-02-10T00:00:00"
         ],
         "y": [
          457.5400085449219,
          449.32000732421875
         ]
        },
        {
         "line": {
          "color": "red",
          "width": 2
         },
         "mode": "lines",
         "name": "Price",
         "showlegend": false,
         "type": "scatter",
         "x": [
          "2022-02-10T00:00:00",
          "2022-02-11T00:00:00"
         ],
         "y": [
          449.32000732421875,
          440.4599914550781
         ]
        },
        {
         "line": {
          "color": "red",
          "width": 2
         },
         "mode": "lines",
         "name": "Price",
         "showlegend": false,
         "type": "scatter",
         "x": [
          "2022-02-11T00:00:00",
          "2022-02-14T00:00:00"
         ],
         "y": [
          440.4599914550781,
          439.0199890136719
         ]
        },
        {
         "line": {
          "color": "red",
          "width": 2
         },
         "mode": "lines",
         "name": "Price",
         "showlegend": false,
         "type": "scatter",
         "x": [
          "2022-02-14T00:00:00",
          "2022-02-15T00:00:00"
         ],
         "y": [
          439.0199890136719,
          446.1000061035156
         ]
        },
        {
         "line": {
          "color": "red",
          "width": 2
         },
         "mode": "lines",
         "name": "Price",
         "showlegend": false,
         "type": "scatter",
         "x": [
          "2022-02-15T00:00:00",
          "2022-02-16T00:00:00"
         ],
         "y": [
          446.1000061035156,
          446.6000061035156
         ]
        },
        {
         "line": {
          "color": "red",
          "width": 2
         },
         "mode": "lines",
         "name": "Price",
         "showlegend": false,
         "type": "scatter",
         "x": [
          "2022-02-16T00:00:00",
          "2022-02-17T00:00:00"
         ],
         "y": [
          446.6000061035156,
          437.05999755859375
         ]
        },
        {
         "line": {
          "color": "red",
          "width": 2
         },
         "mode": "lines",
         "name": "Price",
         "showlegend": false,
         "type": "scatter",
         "x": [
          "2022-02-17T00:00:00",
          "2022-02-18T00:00:00"
         ],
         "y": [
          437.05999755859375,
          434.2300109863281
         ]
        },
        {
         "line": {
          "color": "red",
          "width": 2
         },
         "mode": "lines",
         "name": "Price",
         "showlegend": false,
         "type": "scatter",
         "x": [
          "2022-02-18T00:00:00",
          "2022-02-22T00:00:00"
         ],
         "y": [
          434.2300109863281,
          429.57000732421875
         ]
        },
        {
         "line": {
          "color": "red",
          "width": 2
         },
         "mode": "lines",
         "name": "Price",
         "showlegend": false,
         "type": "scatter",
         "x": [
          "2022-02-22T00:00:00",
          "2022-02-23T00:00:00"
         ],
         "y": [
          429.57000732421875,
          421.95001220703125
         ]
        },
        {
         "line": {
          "color": "red",
          "width": 2
         },
         "mode": "lines",
         "name": "Price",
         "showlegend": false,
         "type": "scatter",
         "x": [
          "2022-02-23T00:00:00",
          "2022-02-24T00:00:00"
         ],
         "y": [
          421.95001220703125,
          428.29998779296875
         ]
        },
        {
         "line": {
          "color": "red",
          "width": 2
         },
         "mode": "lines",
         "name": "Price",
         "showlegend": false,
         "type": "scatter",
         "x": [
          "2022-02-24T00:00:00",
          "2022-02-25T00:00:00"
         ],
         "y": [
          428.29998779296875,
          437.75
         ]
        },
        {
         "line": {
          "color": "red",
          "width": 2
         },
         "mode": "lines",
         "name": "Price",
         "showlegend": false,
         "type": "scatter",
         "x": [
          "2022-02-25T00:00:00",
          "2022-02-28T00:00:00"
         ],
         "y": [
          437.75,
          436.6300048828125
         ]
        },
        {
         "line": {
          "color": "red",
          "width": 2
         },
         "mode": "lines",
         "name": "Price",
         "showlegend": false,
         "type": "scatter",
         "x": [
          "2022-02-28T00:00:00",
          "2022-03-01T00:00:00"
         ],
         "y": [
          436.6300048828125,
          429.9800109863281
         ]
        },
        {
         "line": {
          "color": "red",
          "width": 2
         },
         "mode": "lines",
         "name": "Price",
         "showlegend": false,
         "type": "scatter",
         "x": [
          "2022-03-01T00:00:00",
          "2022-03-02T00:00:00"
         ],
         "y": [
          429.9800109863281,
          437.8900146484375
         ]
        },
        {
         "line": {
          "color": "red",
          "width": 2
         },
         "mode": "lines",
         "name": "Price",
         "showlegend": false,
         "type": "scatter",
         "x": [
          "2022-03-02T00:00:00",
          "2022-03-03T00:00:00"
         ],
         "y": [
          437.8900146484375,
          435.7099914550781
         ]
        },
        {
         "line": {
          "color": "red",
          "width": 2
         },
         "mode": "lines",
         "name": "Price",
         "showlegend": false,
         "type": "scatter",
         "x": [
          "2022-03-03T00:00:00",
          "2022-03-04T00:00:00"
         ],
         "y": [
          435.7099914550781,
          432.1700134277344
         ]
        },
        {
         "line": {
          "color": "red",
          "width": 2
         },
         "mode": "lines",
         "name": "Price",
         "showlegend": false,
         "type": "scatter",
         "x": [
          "2022-03-04T00:00:00",
          "2022-03-07T00:00:00"
         ],
         "y": [
          432.1700134277344,
          419.42999267578125
         ]
        },
        {
         "line": {
          "color": "red",
          "width": 2
         },
         "mode": "lines",
         "name": "Price",
         "showlegend": false,
         "type": "scatter",
         "x": [
          "2022-03-07T00:00:00",
          "2022-03-08T00:00:00"
         ],
         "y": [
          419.42999267578125,
          416.25
         ]
        },
        {
         "line": {
          "color": "red",
          "width": 2
         },
         "mode": "lines",
         "name": "Price",
         "showlegend": false,
         "type": "scatter",
         "x": [
          "2022-03-08T00:00:00",
          "2022-03-09T00:00:00"
         ],
         "y": [
          416.25,
          427.4100036621094
         ]
        },
        {
         "line": {
          "color": "red",
          "width": 2
         },
         "mode": "lines",
         "name": "Price",
         "showlegend": false,
         "type": "scatter",
         "x": [
          "2022-03-09T00:00:00",
          "2022-03-10T00:00:00"
         ],
         "y": [
          427.4100036621094,
          425.4800109863281
         ]
        },
        {
         "line": {
          "color": "red",
          "width": 2
         },
         "mode": "lines",
         "name": "Price",
         "showlegend": false,
         "type": "scatter",
         "x": [
          "2022-03-10T00:00:00",
          "2022-03-11T00:00:00"
         ],
         "y": [
          425.4800109863281,
          420.07000732421875
         ]
        },
        {
         "line": {
          "color": "red",
          "width": 2
         },
         "mode": "lines",
         "name": "Price",
         "showlegend": false,
         "type": "scatter",
         "x": [
          "2022-03-11T00:00:00",
          "2022-03-14T00:00:00"
         ],
         "y": [
          420.07000732421875,
          417
         ]
        },
        {
         "line": {
          "color": "red",
          "width": 2
         },
         "mode": "lines",
         "name": "Price",
         "showlegend": false,
         "type": "scatter",
         "x": [
          "2022-03-14T00:00:00",
          "2022-03-15T00:00:00"
         ],
         "y": [
          417,
          426.1700134277344
         ]
        },
        {
         "line": {
          "color": "red",
          "width": 2
         },
         "mode": "lines",
         "name": "Price",
         "showlegend": false,
         "type": "scatter",
         "x": [
          "2022-03-15T00:00:00",
          "2022-03-16T00:00:00"
         ],
         "y": [
          426.1700134277344,
          435.6199951171875
         ]
        },
        {
         "line": {
          "color": "red",
          "width": 2
         },
         "mode": "lines",
         "name": "Price",
         "showlegend": false,
         "type": "scatter",
         "x": [
          "2022-03-16T00:00:00",
          "2022-03-17T00:00:00"
         ],
         "y": [
          435.6199951171875,
          441.07000732421875
         ]
        },
        {
         "line": {
          "color": "red",
          "width": 2
         },
         "mode": "lines",
         "name": "Price",
         "showlegend": false,
         "type": "scatter",
         "x": [
          "2022-03-17T00:00:00",
          "2022-03-18T00:00:00"
         ],
         "y": [
          441.07000732421875,
          444.5199890136719
         ]
        },
        {
         "line": {
          "color": "red",
          "width": 2
         },
         "mode": "lines",
         "name": "Price",
         "showlegend": false,
         "type": "scatter",
         "x": [
          "2022-03-18T00:00:00",
          "2022-03-21T00:00:00"
         ],
         "y": [
          444.5199890136719,
          444.3900146484375
         ]
        },
        {
         "line": {
          "color": "red",
          "width": 2
         },
         "mode": "lines",
         "name": "Price",
         "showlegend": false,
         "type": "scatter",
         "x": [
          "2022-03-21T00:00:00",
          "2022-03-22T00:00:00"
         ],
         "y": [
          444.3900146484375,
          449.5899963378906
         ]
        },
        {
         "line": {
          "color": "green",
          "width": 2
         },
         "mode": "lines",
         "name": "Price",
         "showlegend": false,
         "type": "scatter",
         "x": [
          "2022-03-22T00:00:00",
          "2022-03-23T00:00:00"
         ],
         "y": [
          449.5899963378906,
          443.79998779296875
         ]
        },
        {
         "line": {
          "color": "red",
          "width": 2
         },
         "mode": "lines",
         "name": "Price",
         "showlegend": false,
         "type": "scatter",
         "x": [
          "2022-03-23T00:00:00",
          "2022-03-24T00:00:00"
         ],
         "y": [
          443.79998779296875,
          450.489990234375
         ]
        },
        {
         "line": {
          "color": "red",
          "width": 2
         },
         "mode": "lines",
         "name": "Price",
         "showlegend": false,
         "type": "scatter",
         "x": [
          "2022-03-24T00:00:00",
          "2022-03-25T00:00:00"
         ],
         "y": [
          450.489990234375,
          452.69000244140625
         ]
        },
        {
         "line": {
          "color": "green",
          "width": 2
         },
         "mode": "lines",
         "name": "Price",
         "showlegend": false,
         "type": "scatter",
         "x": [
          "2022-03-25T00:00:00",
          "2022-03-28T00:00:00"
         ],
         "y": [
          452.69000244140625,
          455.9100036621094
         ]
        },
        {
         "line": {
          "color": "green",
          "width": 2
         },
         "mode": "lines",
         "name": "Price",
         "showlegend": false,
         "type": "scatter",
         "x": [
          "2022-03-28T00:00:00",
          "2022-03-29T00:00:00"
         ],
         "y": [
          455.9100036621094,
          461.54998779296875
         ]
        },
        {
         "line": {
          "color": "green",
          "width": 2
         },
         "mode": "lines",
         "name": "Price",
         "showlegend": false,
         "type": "scatter",
         "x": [
          "2022-03-29T00:00:00",
          "2022-03-30T00:00:00"
         ],
         "y": [
          461.54998779296875,
          458.70001220703125
         ]
        },
        {
         "line": {
          "color": "green",
          "width": 2
         },
         "mode": "lines",
         "name": "Price",
         "showlegend": false,
         "type": "scatter",
         "x": [
          "2022-03-30T00:00:00",
          "2022-03-31T00:00:00"
         ],
         "y": [
          458.70001220703125,
          451.6400146484375
         ]
        },
        {
         "line": {
          "color": "green",
          "width": 2
         },
         "mode": "lines",
         "name": "Price",
         "showlegend": false,
         "type": "scatter",
         "x": [
          "2022-03-31T00:00:00",
          "2022-04-01T00:00:00"
         ],
         "y": [
          451.6400146484375,
          452.9200134277344
         ]
        },
        {
         "line": {
          "color": "green",
          "width": 2
         },
         "mode": "lines",
         "name": "Price",
         "showlegend": false,
         "type": "scatter",
         "x": [
          "2022-04-01T00:00:00",
          "2022-04-04T00:00:00"
         ],
         "y": [
          452.9200134277344,
          456.79998779296875
         ]
        },
        {
         "line": {
          "color": "green",
          "width": 2
         },
         "mode": "lines",
         "name": "Price",
         "showlegend": false,
         "type": "scatter",
         "x": [
          "2022-04-04T00:00:00",
          "2022-04-05T00:00:00"
         ],
         "y": [
          456.79998779296875,
          451.0299987792969
         ]
        },
        {
         "line": {
          "color": "green",
          "width": 2
         },
         "mode": "lines",
         "name": "Price",
         "showlegend": false,
         "type": "scatter",
         "x": [
          "2022-04-05T00:00:00",
          "2022-04-06T00:00:00"
         ],
         "y": [
          451.0299987792969,
          446.5199890136719
         ]
        },
        {
         "line": {
          "color": "green",
          "width": 2
         },
         "mode": "lines",
         "name": "Price",
         "showlegend": false,
         "type": "scatter",
         "x": [
          "2022-04-06T00:00:00",
          "2022-04-07T00:00:00"
         ],
         "y": [
          446.5199890136719,
          448.7699890136719
         ]
        },
        {
         "line": {
          "color": "green",
          "width": 2
         },
         "mode": "lines",
         "name": "Price",
         "showlegend": false,
         "type": "scatter",
         "x": [
          "2022-04-07T00:00:00",
          "2022-04-08T00:00:00"
         ],
         "y": [
          448.7699890136719,
          447.57000732421875
         ]
        },
        {
         "line": {
          "color": "green",
          "width": 2
         },
         "mode": "lines",
         "name": "Price",
         "showlegend": false,
         "type": "scatter",
         "x": [
          "2022-04-08T00:00:00",
          "2022-04-11T00:00:00"
         ],
         "y": [
          447.57000732421875,
          439.9200134277344
         ]
        },
        {
         "line": {
          "color": "green",
          "width": 2
         },
         "mode": "lines",
         "name": "Price",
         "showlegend": false,
         "type": "scatter",
         "x": [
          "2022-04-11T00:00:00",
          "2022-04-12T00:00:00"
         ],
         "y": [
          439.9200134277344,
          438.2900085449219
         ]
        },
        {
         "line": {
          "color": "green",
          "width": 2
         },
         "mode": "lines",
         "name": "Price",
         "showlegend": false,
         "type": "scatter",
         "x": [
          "2022-04-12T00:00:00",
          "2022-04-13T00:00:00"
         ],
         "y": [
          438.2900085449219,
          443.30999755859375
         ]
        },
        {
         "line": {
          "color": "green",
          "width": 2
         },
         "mode": "lines",
         "name": "Price",
         "showlegend": false,
         "type": "scatter",
         "x": [
          "2022-04-13T00:00:00",
          "2022-04-14T00:00:00"
         ],
         "y": [
          443.30999755859375,
          437.7900085449219
         ]
        },
        {
         "line": {
          "color": "green",
          "width": 2
         },
         "mode": "lines",
         "name": "Price",
         "showlegend": false,
         "type": "scatter",
         "x": [
          "2022-04-14T00:00:00",
          "2022-04-18T00:00:00"
         ],
         "y": [
          437.7900085449219,
          437.9700012207031
         ]
        },
        {
         "line": {
          "color": "green",
          "width": 2
         },
         "mode": "lines",
         "name": "Price",
         "showlegend": false,
         "type": "scatter",
         "x": [
          "2022-04-18T00:00:00",
          "2022-04-19T00:00:00"
         ],
         "y": [
          437.9700012207031,
          445.0400085449219
         ]
        },
        {
         "line": {
          "color": "green",
          "width": 2
         },
         "mode": "lines",
         "name": "Price",
         "showlegend": false,
         "type": "scatter",
         "x": [
          "2022-04-19T00:00:00",
          "2022-04-20T00:00:00"
         ],
         "y": [
          445.0400085449219,
          444.7099914550781
         ]
        },
        {
         "line": {
          "color": "green",
          "width": 2
         },
         "mode": "lines",
         "name": "Price",
         "showlegend": false,
         "type": "scatter",
         "x": [
          "2022-04-20T00:00:00",
          "2022-04-21T00:00:00"
         ],
         "y": [
          444.7099914550781,
          438.05999755859375
         ]
        },
        {
         "line": {
          "color": "green",
          "width": 2
         },
         "mode": "lines",
         "name": "Price",
         "showlegend": false,
         "type": "scatter",
         "x": [
          "2022-04-21T00:00:00",
          "2022-04-22T00:00:00"
         ],
         "y": [
          438.05999755859375,
          426.0400085449219
         ]
        },
        {
         "line": {
          "color": "green",
          "width": 2
         },
         "mode": "lines",
         "name": "Price",
         "showlegend": false,
         "type": "scatter",
         "x": [
          "2022-04-22T00:00:00",
          "2022-04-25T00:00:00"
         ],
         "y": [
          426.0400085449219,
          428.510009765625
         ]
        },
        {
         "line": {
          "color": "green",
          "width": 2
         },
         "mode": "lines",
         "name": "Price",
         "showlegend": false,
         "type": "scatter",
         "x": [
          "2022-04-25T00:00:00",
          "2022-04-26T00:00:00"
         ],
         "y": [
          428.510009765625,
          416.1000061035156
         ]
        },
        {
         "line": {
          "color": "red",
          "width": 2
         },
         "mode": "lines",
         "name": "Price",
         "showlegend": false,
         "type": "scatter",
         "x": [
          "2022-04-26T00:00:00",
          "2022-04-27T00:00:00"
         ],
         "y": [
          416.1000061035156,
          417.2699890136719
         ]
        },
        {
         "line": {
          "color": "red",
          "width": 2
         },
         "mode": "lines",
         "name": "Price",
         "showlegend": false,
         "type": "scatter",
         "x": [
          "2022-04-27T00:00:00",
          "2022-04-28T00:00:00"
         ],
         "y": [
          417.2699890136719,
          427.80999755859375
         ]
        },
        {
         "line": {
          "color": "red",
          "width": 2
         },
         "mode": "lines",
         "name": "Price",
         "showlegend": false,
         "type": "scatter",
         "x": [
          "2022-04-28T00:00:00",
          "2022-04-29T00:00:00"
         ],
         "y": [
          427.80999755859375,
          412
         ]
        },
        {
         "line": {
          "color": "red",
          "width": 2
         },
         "mode": "lines",
         "name": "Price",
         "showlegend": false,
         "type": "scatter",
         "x": [
          "2022-04-29T00:00:00",
          "2022-05-02T00:00:00"
         ],
         "y": [
          412,
          414.4800109863281
         ]
        },
        {
         "line": {
          "color": "red",
          "width": 2
         },
         "mode": "lines",
         "name": "Price",
         "showlegend": false,
         "type": "scatter",
         "x": [
          "2022-05-02T00:00:00",
          "2022-05-03T00:00:00"
         ],
         "y": [
          414.4800109863281,
          416.3800048828125
         ]
        },
        {
         "line": {
          "color": "red",
          "width": 2
         },
         "mode": "lines",
         "name": "Price",
         "showlegend": false,
         "type": "scatter",
         "x": [
          "2022-05-03T00:00:00",
          "2022-05-04T00:00:00"
         ],
         "y": [
          416.3800048828125,
          429.05999755859375
         ]
        },
        {
         "line": {
          "color": "red",
          "width": 2
         },
         "mode": "lines",
         "name": "Price",
         "showlegend": false,
         "type": "scatter",
         "x": [
          "2022-05-04T00:00:00",
          "2022-05-05T00:00:00"
         ],
         "y": [
          429.05999755859375,
          413.80999755859375
         ]
        },
        {
         "line": {
          "color": "red",
          "width": 2
         },
         "mode": "lines",
         "name": "Price",
         "showlegend": false,
         "type": "scatter",
         "x": [
          "2022-05-05T00:00:00",
          "2022-05-06T00:00:00"
         ],
         "y": [
          413.80999755859375,
          411.3399963378906
         ]
        },
        {
         "line": {
          "color": "red",
          "width": 2
         },
         "mode": "lines",
         "name": "Price",
         "showlegend": false,
         "type": "scatter",
         "x": [
          "2022-05-06T00:00:00",
          "2022-05-09T00:00:00"
         ],
         "y": [
          411.3399963378906,
          398.1700134277344
         ]
        },
        {
         "line": {
          "color": "red",
          "width": 2
         },
         "mode": "lines",
         "name": "Price",
         "showlegend": false,
         "type": "scatter",
         "x": [
          "2022-05-09T00:00:00",
          "2022-05-10T00:00:00"
         ],
         "y": [
          398.1700134277344,
          399.0899963378906
         ]
        },
        {
         "line": {
          "color": "red",
          "width": 2
         },
         "mode": "lines",
         "name": "Price",
         "showlegend": false,
         "type": "scatter",
         "x": [
          "2022-05-10T00:00:00",
          "2022-05-11T00:00:00"
         ],
         "y": [
          399.0899963378906,
          392.75
         ]
        },
        {
         "line": {
          "color": "red",
          "width": 2
         },
         "mode": "lines",
         "name": "Price",
         "showlegend": false,
         "type": "scatter",
         "x": [
          "2022-05-11T00:00:00",
          "2022-05-12T00:00:00"
         ],
         "y": [
          392.75,
          392.3399963378906
         ]
        },
        {
         "line": {
          "color": "red",
          "width": 2
         },
         "mode": "lines",
         "name": "Price",
         "showlegend": false,
         "type": "scatter",
         "x": [
          "2022-05-12T00:00:00",
          "2022-05-13T00:00:00"
         ],
         "y": [
          392.3399963378906,
          401.7200012207031
         ]
        },
        {
         "line": {
          "color": "red",
          "width": 2
         },
         "mode": "lines",
         "name": "Price",
         "showlegend": false,
         "type": "scatter",
         "x": [
          "2022-05-13T00:00:00",
          "2022-05-16T00:00:00"
         ],
         "y": [
          401.7200012207031,
          400.0899963378906
         ]
        },
        {
         "line": {
          "color": "red",
          "width": 2
         },
         "mode": "lines",
         "name": "Price",
         "showlegend": false,
         "type": "scatter",
         "x": [
          "2022-05-16T00:00:00",
          "2022-05-17T00:00:00"
         ],
         "y": [
          400.0899963378906,
          408.32000732421875
         ]
        },
        {
         "line": {
          "color": "red",
          "width": 2
         },
         "mode": "lines",
         "name": "Price",
         "showlegend": false,
         "type": "scatter",
         "x": [
          "2022-05-17T00:00:00",
          "2022-05-18T00:00:00"
         ],
         "y": [
          408.32000732421875,
          391.8599853515625
         ]
        },
        {
         "line": {
          "color": "red",
          "width": 2
         },
         "mode": "lines",
         "name": "Price",
         "showlegend": false,
         "type": "scatter",
         "x": [
          "2022-05-18T00:00:00",
          "2022-05-19T00:00:00"
         ],
         "y": [
          391.8599853515625,
          389.4599914550781
         ]
        },
        {
         "line": {
          "color": "red",
          "width": 2
         },
         "mode": "lines",
         "name": "Price",
         "showlegend": false,
         "type": "scatter",
         "x": [
          "2022-05-19T00:00:00",
          "2022-05-20T00:00:00"
         ],
         "y": [
          389.4599914550781,
          389.6300048828125
         ]
        },
        {
         "line": {
          "color": "red",
          "width": 2
         },
         "mode": "lines",
         "name": "Price",
         "showlegend": false,
         "type": "scatter",
         "x": [
          "2022-05-20T00:00:00",
          "2022-05-23T00:00:00"
         ],
         "y": [
          389.6300048828125,
          396.9200134277344
         ]
        },
        {
         "line": {
          "color": "red",
          "width": 2
         },
         "mode": "lines",
         "name": "Price",
         "showlegend": false,
         "type": "scatter",
         "x": [
          "2022-05-23T00:00:00",
          "2022-05-24T00:00:00"
         ],
         "y": [
          396.9200134277344,
          393.8900146484375
         ]
        },
        {
         "line": {
          "color": "red",
          "width": 2
         },
         "mode": "lines",
         "name": "Price",
         "showlegend": false,
         "type": "scatter",
         "x": [
          "2022-05-24T00:00:00",
          "2022-05-25T00:00:00"
         ],
         "y": [
          393.8900146484375,
          397.3699951171875
         ]
        },
        {
         "line": {
          "color": "red",
          "width": 2
         },
         "mode": "lines",
         "name": "Price",
         "showlegend": false,
         "type": "scatter",
         "x": [
          "2022-05-25T00:00:00",
          "2022-05-26T00:00:00"
         ],
         "y": [
          397.3699951171875,
          405.30999755859375
         ]
        },
        {
         "line": {
          "color": "red",
          "width": 2
         },
         "mode": "lines",
         "name": "Price",
         "showlegend": false,
         "type": "scatter",
         "x": [
          "2022-05-26T00:00:00",
          "2022-05-27T00:00:00"
         ],
         "y": [
          405.30999755859375,
          415.260009765625
         ]
        },
        {
         "line": {
          "color": "red",
          "width": 2
         },
         "mode": "lines",
         "name": "Price",
         "showlegend": false,
         "type": "scatter",
         "x": [
          "2022-05-27T00:00:00",
          "2022-05-31T00:00:00"
         ],
         "y": [
          415.260009765625,
          412.92999267578125
         ]
        },
        {
         "line": {
          "color": "red",
          "width": 2
         },
         "mode": "lines",
         "name": "Price",
         "showlegend": false,
         "type": "scatter",
         "x": [
          "2022-05-31T00:00:00",
          "2022-06-01T00:00:00"
         ],
         "y": [
          412.92999267578125,
          409.5899963378906
         ]
        },
        {
         "line": {
          "color": "red",
          "width": 2
         },
         "mode": "lines",
         "name": "Price",
         "showlegend": false,
         "type": "scatter",
         "x": [
          "2022-06-01T00:00:00",
          "2022-06-02T00:00:00"
         ],
         "y": [
          409.5899963378906,
          417.3900146484375
         ]
        },
        {
         "line": {
          "color": "red",
          "width": 2
         },
         "mode": "lines",
         "name": "Price",
         "showlegend": false,
         "type": "scatter",
         "x": [
          "2022-06-02T00:00:00",
          "2022-06-03T00:00:00"
         ],
         "y": [
          417.3900146484375,
          410.5400085449219
         ]
        },
        {
         "line": {
          "color": "red",
          "width": 2
         },
         "mode": "lines",
         "name": "Price",
         "showlegend": false,
         "type": "scatter",
         "x": [
          "2022-06-03T00:00:00",
          "2022-06-06T00:00:00"
         ],
         "y": [
          410.5400085449219,
          411.7900085449219
         ]
        },
        {
         "line": {
          "color": "red",
          "width": 2
         },
         "mode": "lines",
         "name": "Price",
         "showlegend": false,
         "type": "scatter",
         "x": [
          "2022-06-06T00:00:00",
          "2022-06-07T00:00:00"
         ],
         "y": [
          411.7900085449219,
          415.739990234375
         ]
        },
        {
         "line": {
          "color": "red",
          "width": 2
         },
         "mode": "lines",
         "name": "Price",
         "showlegend": false,
         "type": "scatter",
         "x": [
          "2022-06-07T00:00:00",
          "2022-06-08T00:00:00"
         ],
         "y": [
          415.739990234375,
          411.2200012207031
         ]
        },
        {
         "line": {
          "color": "red",
          "width": 2
         },
         "mode": "lines",
         "name": "Price",
         "showlegend": false,
         "type": "scatter",
         "x": [
          "2022-06-08T00:00:00",
          "2022-06-09T00:00:00"
         ],
         "y": [
          411.2200012207031,
          401.44000244140625
         ]
        },
        {
         "line": {
          "color": "red",
          "width": 2
         },
         "mode": "lines",
         "name": "Price",
         "showlegend": false,
         "type": "scatter",
         "x": [
          "2022-06-09T00:00:00",
          "2022-06-10T00:00:00"
         ],
         "y": [
          401.44000244140625,
          389.79998779296875
         ]
        },
        {
         "line": {
          "color": "red",
          "width": 2
         },
         "mode": "lines",
         "name": "Price",
         "showlegend": false,
         "type": "scatter",
         "x": [
          "2022-06-10T00:00:00",
          "2022-06-13T00:00:00"
         ],
         "y": [
          389.79998779296875,
          375
         ]
        },
        {
         "line": {
          "color": "red",
          "width": 2
         },
         "mode": "lines",
         "name": "Price",
         "showlegend": false,
         "type": "scatter",
         "x": [
          "2022-06-13T00:00:00",
          "2022-06-14T00:00:00"
         ],
         "y": [
          375,
          373.8699951171875
         ]
        },
        {
         "line": {
          "color": "red",
          "width": 2
         },
         "mode": "lines",
         "name": "Price",
         "showlegend": false,
         "type": "scatter",
         "x": [
          "2022-06-14T00:00:00",
          "2022-06-15T00:00:00"
         ],
         "y": [
          373.8699951171875,
          379.20001220703125
         ]
        },
        {
         "line": {
          "color": "red",
          "width": 2
         },
         "mode": "lines",
         "name": "Price",
         "showlegend": false,
         "type": "scatter",
         "x": [
          "2022-06-15T00:00:00",
          "2022-06-16T00:00:00"
         ],
         "y": [
          379.20001220703125,
          366.6499938964844
         ]
        },
        {
         "line": {
          "color": "red",
          "width": 2
         },
         "mode": "lines",
         "name": "Price",
         "showlegend": false,
         "type": "scatter",
         "x": [
          "2022-06-16T00:00:00",
          "2022-06-17T00:00:00"
         ],
         "y": [
          366.6499938964844,
          365.8599853515625
         ]
        },
        {
         "line": {
          "color": "red",
          "width": 2
         },
         "mode": "lines",
         "name": "Price",
         "showlegend": false,
         "type": "scatter",
         "x": [
          "2022-06-17T00:00:00",
          "2022-06-21T00:00:00"
         ],
         "y": [
          365.8599853515625,
          375.07000732421875
         ]
        },
        {
         "line": {
          "color": "red",
          "width": 2
         },
         "mode": "lines",
         "name": "Price",
         "showlegend": false,
         "type": "scatter",
         "x": [
          "2022-06-21T00:00:00",
          "2022-06-22T00:00:00"
         ],
         "y": [
          375.07000732421875,
          374.3900146484375
         ]
        },
        {
         "line": {
          "color": "red",
          "width": 2
         },
         "mode": "lines",
         "name": "Price",
         "showlegend": false,
         "type": "scatter",
         "x": [
          "2022-06-22T00:00:00",
          "2022-06-23T00:00:00"
         ],
         "y": [
          374.3900146484375,
          378.05999755859375
         ]
        },
        {
         "line": {
          "color": "red",
          "width": 2
         },
         "mode": "lines",
         "name": "Price",
         "showlegend": false,
         "type": "scatter",
         "x": [
          "2022-06-23T00:00:00",
          "2022-06-24T00:00:00"
         ],
         "y": [
          378.05999755859375,
          390.0799865722656
         ]
        },
        {
         "line": {
          "color": "red",
          "width": 2
         },
         "mode": "lines",
         "name": "Price",
         "showlegend": false,
         "type": "scatter",
         "x": [
          "2022-06-24T00:00:00",
          "2022-06-27T00:00:00"
         ],
         "y": [
          390.0799865722656,
          388.5899963378906
         ]
        },
        {
         "line": {
          "color": "red",
          "width": 2
         },
         "mode": "lines",
         "name": "Price",
         "showlegend": false,
         "type": "scatter",
         "x": [
          "2022-06-27T00:00:00",
          "2022-06-28T00:00:00"
         ],
         "y": [
          388.5899963378906,
          380.6499938964844
         ]
        },
        {
         "line": {
          "color": "red",
          "width": 2
         },
         "mode": "lines",
         "name": "Price",
         "showlegend": false,
         "type": "scatter",
         "x": [
          "2022-06-28T00:00:00",
          "2022-06-29T00:00:00"
         ],
         "y": [
          380.6499938964844,
          380.3399963378906
         ]
        },
        {
         "line": {
          "color": "red",
          "width": 2
         },
         "mode": "lines",
         "name": "Price",
         "showlegend": false,
         "type": "scatter",
         "x": [
          "2022-06-29T00:00:00",
          "2022-06-30T00:00:00"
         ],
         "y": [
          380.3399963378906,
          377.25
         ]
        },
        {
         "line": {
          "color": "red",
          "width": 2
         },
         "mode": "lines",
         "name": "Price",
         "showlegend": false,
         "type": "scatter",
         "x": [
          "2022-06-30T00:00:00",
          "2022-07-01T00:00:00"
         ],
         "y": [
          377.25,
          381.239990234375
         ]
        },
        {
         "line": {
          "color": "red",
          "width": 2
         },
         "mode": "lines",
         "name": "Price",
         "showlegend": false,
         "type": "scatter",
         "x": [
          "2022-07-01T00:00:00",
          "2022-07-05T00:00:00"
         ],
         "y": [
          381.239990234375,
          381.9599914550781
         ]
        },
        {
         "line": {
          "color": "red",
          "width": 2
         },
         "mode": "lines",
         "name": "Price",
         "showlegend": false,
         "type": "scatter",
         "x": [
          "2022-07-05T00:00:00",
          "2022-07-06T00:00:00"
         ],
         "y": [
          381.9599914550781,
          383.25
         ]
        },
        {
         "line": {
          "color": "red",
          "width": 2
         },
         "mode": "lines",
         "name": "Price",
         "showlegend": false,
         "type": "scatter",
         "x": [
          "2022-07-06T00:00:00",
          "2022-07-07T00:00:00"
         ],
         "y": [
          383.25,
          388.989990234375
         ]
        },
        {
         "line": {
          "color": "red",
          "width": 2
         },
         "mode": "lines",
         "name": "Price",
         "showlegend": false,
         "type": "scatter",
         "x": [
          "2022-07-07T00:00:00",
          "2022-07-08T00:00:00"
         ],
         "y": [
          388.989990234375,
          388.6700134277344
         ]
        },
        {
         "line": {
          "color": "red",
          "width": 2
         },
         "mode": "lines",
         "name": "Price",
         "showlegend": false,
         "type": "scatter",
         "x": [
          "2022-07-08T00:00:00",
          "2022-07-11T00:00:00"
         ],
         "y": [
          388.6700134277344,
          384.2300109863281
         ]
        },
        {
         "line": {
          "color": "red",
          "width": 2
         },
         "mode": "lines",
         "name": "Price",
         "showlegend": false,
         "type": "scatter",
         "x": [
          "2022-07-11T00:00:00",
          "2022-07-12T00:00:00"
         ],
         "y": [
          384.2300109863281,
          380.8299865722656
         ]
        },
        {
         "line": {
          "color": "red",
          "width": 2
         },
         "mode": "lines",
         "name": "Price",
         "showlegend": false,
         "type": "scatter",
         "x": [
          "2022-07-12T00:00:00",
          "2022-07-13T00:00:00"
         ],
         "y": [
          380.8299865722656,
          378.8299865722656
         ]
        },
        {
         "line": {
          "color": "red",
          "width": 2
         },
         "mode": "lines",
         "name": "Price",
         "showlegend": false,
         "type": "scatter",
         "x": [
          "2022-07-13T00:00:00",
          "2022-07-14T00:00:00"
         ],
         "y": [
          378.8299865722656,
          377.9100036621094
         ]
        },
        {
         "line": {
          "color": "red",
          "width": 2
         },
         "mode": "lines",
         "name": "Price",
         "showlegend": false,
         "type": "scatter",
         "x": [
          "2022-07-14T00:00:00",
          "2022-07-15T00:00:00"
         ],
         "y": [
          377.9100036621094,
          385.1300048828125
         ]
        },
        {
         "line": {
          "color": "red",
          "width": 2
         },
         "mode": "lines",
         "name": "Price",
         "showlegend": false,
         "type": "scatter",
         "x": [
          "2022-07-15T00:00:00",
          "2022-07-18T00:00:00"
         ],
         "y": [
          385.1300048828125,
          381.95001220703125
         ]
        },
        {
         "line": {
          "color": "red",
          "width": 2
         },
         "mode": "lines",
         "name": "Price",
         "showlegend": false,
         "type": "scatter",
         "x": [
          "2022-07-18T00:00:00",
          "2022-07-19T00:00:00"
         ],
         "y": [
          381.95001220703125,
          392.2699890136719
         ]
        },
        {
         "line": {
          "color": "red",
          "width": 2
         },
         "mode": "lines",
         "name": "Price",
         "showlegend": false,
         "type": "scatter",
         "x": [
          "2022-07-19T00:00:00",
          "2022-07-20T00:00:00"
         ],
         "y": [
          392.2699890136719,
          394.7699890136719
         ]
        },
        {
         "line": {
          "color": "red",
          "width": 2
         },
         "mode": "lines",
         "name": "Price",
         "showlegend": false,
         "type": "scatter",
         "x": [
          "2022-07-20T00:00:00",
          "2022-07-21T00:00:00"
         ],
         "y": [
          394.7699890136719,
          398.7900085449219
         ]
        },
        {
         "line": {
          "color": "red",
          "width": 2
         },
         "mode": "lines",
         "name": "Price",
         "showlegend": false,
         "type": "scatter",
         "x": [
          "2022-07-21T00:00:00",
          "2022-07-22T00:00:00"
         ],
         "y": [
          398.7900085449219,
          395.0899963378906
         ]
        },
        {
         "line": {
          "color": "red",
          "width": 2
         },
         "mode": "lines",
         "name": "Price",
         "showlegend": false,
         "type": "scatter",
         "x": [
          "2022-07-22T00:00:00",
          "2022-07-25T00:00:00"
         ],
         "y": [
          395.0899963378906,
          395.57000732421875
         ]
        },
        {
         "line": {
          "color": "red",
          "width": 2
         },
         "mode": "lines",
         "name": "Price",
         "showlegend": false,
         "type": "scatter",
         "x": [
          "2022-07-25T00:00:00",
          "2022-07-26T00:00:00"
         ],
         "y": [
          395.57000732421875,
          390.8900146484375
         ]
        },
        {
         "line": {
          "color": "green",
          "width": 2
         },
         "mode": "lines",
         "name": "Price",
         "showlegend": false,
         "type": "scatter",
         "x": [
          "2022-07-26T00:00:00",
          "2022-07-27T00:00:00"
         ],
         "y": [
          390.8900146484375,
          401.0400085449219
         ]
        },
        {
         "line": {
          "color": "green",
          "width": 2
         },
         "mode": "lines",
         "name": "Price",
         "showlegend": false,
         "type": "scatter",
         "x": [
          "2022-07-27T00:00:00",
          "2022-07-28T00:00:00"
         ],
         "y": [
          401.0400085449219,
          406.07000732421875
         ]
        },
        {
         "line": {
          "color": "green",
          "width": 2
         },
         "mode": "lines",
         "name": "Price",
         "showlegend": false,
         "type": "scatter",
         "x": [
          "2022-07-28T00:00:00",
          "2022-07-29T00:00:00"
         ],
         "y": [
          406.07000732421875,
          411.989990234375
         ]
        },
        {
         "line": {
          "color": "green",
          "width": 2
         },
         "mode": "lines",
         "name": "Price",
         "showlegend": false,
         "type": "scatter",
         "x": [
          "2022-07-29T00:00:00",
          "2022-08-01T00:00:00"
         ],
         "y": [
          411.989990234375,
          410.7699890136719
         ]
        },
        {
         "line": {
          "color": "green",
          "width": 2
         },
         "mode": "lines",
         "name": "Price",
         "showlegend": false,
         "type": "scatter",
         "x": [
          "2022-08-01T00:00:00",
          "2022-08-02T00:00:00"
         ],
         "y": [
          410.7699890136719,
          408.05999755859375
         ]
        },
        {
         "line": {
          "color": "green",
          "width": 2
         },
         "mode": "lines",
         "name": "Price",
         "showlegend": false,
         "type": "scatter",
         "x": [
          "2022-08-02T00:00:00",
          "2022-08-03T00:00:00"
         ],
         "y": [
          408.05999755859375,
          414.45001220703125
         ]
        },
        {
         "line": {
          "color": "green",
          "width": 2
         },
         "mode": "lines",
         "name": "Price",
         "showlegend": false,
         "type": "scatter",
         "x": [
          "2022-08-03T00:00:00",
          "2022-08-04T00:00:00"
         ],
         "y": [
          414.45001220703125,
          414.1700134277344
         ]
        },
        {
         "line": {
          "color": "green",
          "width": 2
         },
         "mode": "lines",
         "name": "Price",
         "showlegend": false,
         "type": "scatter",
         "x": [
          "2022-08-04T00:00:00",
          "2022-08-05T00:00:00"
         ],
         "y": [
          414.1700134277344,
          413.4700012207031
         ]
        },
        {
         "line": {
          "color": "green",
          "width": 2
         },
         "mode": "lines",
         "name": "Price",
         "showlegend": false,
         "type": "scatter",
         "x": [
          "2022-08-05T00:00:00",
          "2022-08-08T00:00:00"
         ],
         "y": [
          413.4700012207031,
          412.989990234375
         ]
        },
        {
         "line": {
          "color": "green",
          "width": 2
         },
         "mode": "lines",
         "name": "Price",
         "showlegend": false,
         "type": "scatter",
         "x": [
          "2022-08-08T00:00:00",
          "2022-08-09T00:00:00"
         ],
         "y": [
          412.989990234375,
          411.3500061035156
         ]
        },
        {
         "line": {
          "color": "green",
          "width": 2
         },
         "mode": "lines",
         "name": "Price",
         "showlegend": false,
         "type": "scatter",
         "x": [
          "2022-08-09T00:00:00",
          "2022-08-10T00:00:00"
         ],
         "y": [
          411.3500061035156,
          419.989990234375
         ]
        },
        {
         "line": {
          "color": "green",
          "width": 2
         },
         "mode": "lines",
         "name": "Price",
         "showlegend": false,
         "type": "scatter",
         "x": [
          "2022-08-10T00:00:00",
          "2022-08-11T00:00:00"
         ],
         "y": [
          419.989990234375,
          419.989990234375
         ]
        },
        {
         "line": {
          "color": "green",
          "width": 2
         },
         "mode": "lines",
         "name": "Price",
         "showlegend": false,
         "type": "scatter",
         "x": [
          "2022-08-11T00:00:00",
          "2022-08-12T00:00:00"
         ],
         "y": [
          419.989990234375,
          427.1000061035156
         ]
        },
        {
         "line": {
          "color": "green",
          "width": 2
         },
         "mode": "lines",
         "name": "Price",
         "showlegend": false,
         "type": "scatter",
         "x": [
          "2022-08-12T00:00:00",
          "2022-08-15T00:00:00"
         ],
         "y": [
          427.1000061035156,
          428.8599853515625
         ]
        },
        {
         "line": {
          "color": "green",
          "width": 2
         },
         "mode": "lines",
         "name": "Price",
         "showlegend": false,
         "type": "scatter",
         "x": [
          "2022-08-15T00:00:00",
          "2022-08-16T00:00:00"
         ],
         "y": [
          428.8599853515625,
          429.70001220703125
         ]
        },
        {
         "line": {
          "color": "green",
          "width": 2
         },
         "mode": "lines",
         "name": "Price",
         "showlegend": false,
         "type": "scatter",
         "x": [
          "2022-08-16T00:00:00",
          "2022-08-17T00:00:00"
         ],
         "y": [
          429.70001220703125,
          426.6499938964844
         ]
        },
        {
         "line": {
          "color": "green",
          "width": 2
         },
         "mode": "lines",
         "name": "Price",
         "showlegend": false,
         "type": "scatter",
         "x": [
          "2022-08-17T00:00:00",
          "2022-08-18T00:00:00"
         ],
         "y": [
          426.6499938964844,
          427.8900146484375
         ]
        },
        {
         "line": {
          "color": "green",
          "width": 2
         },
         "mode": "lines",
         "name": "Price",
         "showlegend": false,
         "type": "scatter",
         "x": [
          "2022-08-18T00:00:00",
          "2022-08-19T00:00:00"
         ],
         "y": [
          427.8900146484375,
          422.1400146484375
         ]
        },
        {
         "line": {
          "color": "green",
          "width": 2
         },
         "mode": "lines",
         "name": "Price",
         "showlegend": false,
         "type": "scatter",
         "x": [
          "2022-08-19T00:00:00",
          "2022-08-22T00:00:00"
         ],
         "y": [
          422.1400146484375,
          413.3500061035156
         ]
        },
        {
         "line": {
          "color": "green",
          "width": 2
         },
         "mode": "lines",
         "name": "Price",
         "showlegend": false,
         "type": "scatter",
         "x": [
          "2022-08-22T00:00:00",
          "2022-08-23T00:00:00"
         ],
         "y": [
          413.3500061035156,
          412.3500061035156
         ]
        },
        {
         "line": {
          "color": "green",
          "width": 2
         },
         "mode": "lines",
         "name": "Price",
         "showlegend": false,
         "type": "scatter",
         "x": [
          "2022-08-23T00:00:00",
          "2022-08-24T00:00:00"
         ],
         "y": [
          412.3500061035156,
          413.6700134277344
         ]
        },
        {
         "line": {
          "color": "green",
          "width": 2
         },
         "mode": "lines",
         "name": "Price",
         "showlegend": false,
         "type": "scatter",
         "x": [
          "2022-08-24T00:00:00",
          "2022-08-25T00:00:00"
         ],
         "y": [
          413.6700134277344,
          419.510009765625
         ]
        },
        {
         "line": {
          "color": "green",
          "width": 2
         },
         "mode": "lines",
         "name": "Price",
         "showlegend": false,
         "type": "scatter",
         "x": [
          "2022-08-25T00:00:00",
          "2022-08-26T00:00:00"
         ],
         "y": [
          419.510009765625,
          405.30999755859375
         ]
        },
        {
         "line": {
          "color": "green",
          "width": 2
         },
         "mode": "lines",
         "name": "Price",
         "showlegend": false,
         "type": "scatter",
         "x": [
          "2022-08-26T00:00:00",
          "2022-08-29T00:00:00"
         ],
         "y": [
          405.30999755859375,
          402.6300048828125
         ]
        },
        {
         "line": {
          "color": "green",
          "width": 2
         },
         "mode": "lines",
         "name": "Price",
         "showlegend": false,
         "type": "scatter",
         "x": [
          "2022-08-29T00:00:00",
          "2022-08-30T00:00:00"
         ],
         "y": [
          402.6300048828125,
          398.2099914550781
         ]
        },
        {
         "line": {
          "color": "green",
          "width": 2
         },
         "mode": "lines",
         "name": "Price",
         "showlegend": false,
         "type": "scatter",
         "x": [
          "2022-08-30T00:00:00",
          "2022-08-31T00:00:00"
         ],
         "y": [
          398.2099914550781,
          395.17999267578125
         ]
        },
        {
         "line": {
          "color": "green",
          "width": 2
         },
         "mode": "lines",
         "name": "Price",
         "showlegend": false,
         "type": "scatter",
         "x": [
          "2022-08-31T00:00:00",
          "2022-09-01T00:00:00"
         ],
         "y": [
          395.17999267578125,
          396.4200134277344
         ]
        },
        {
         "line": {
          "color": "red",
          "width": 2
         },
         "mode": "lines",
         "name": "Price",
         "showlegend": false,
         "type": "scatter",
         "x": [
          "2022-09-01T00:00:00",
          "2022-09-02T00:00:00"
         ],
         "y": [
          396.4200134277344,
          392.239990234375
         ]
        },
        {
         "line": {
          "color": "red",
          "width": 2
         },
         "mode": "lines",
         "name": "Price",
         "showlegend": false,
         "type": "scatter",
         "x": [
          "2022-09-02T00:00:00",
          "2022-09-06T00:00:00"
         ],
         "y": [
          392.239990234375,
          390.760009765625
         ]
        },
        {
         "line": {
          "color": "red",
          "width": 2
         },
         "mode": "lines",
         "name": "Price",
         "showlegend": false,
         "type": "scatter",
         "x": [
          "2022-09-06T00:00:00",
          "2022-09-07T00:00:00"
         ],
         "y": [
          390.760009765625,
          397.7799987792969
         ]
        },
        {
         "line": {
          "color": "green",
          "width": 2
         },
         "mode": "lines",
         "name": "Price",
         "showlegend": false,
         "type": "scatter",
         "x": [
          "2022-09-07T00:00:00",
          "2022-09-08T00:00:00"
         ],
         "y": [
          397.7799987792969,
          400.3800048828125
         ]
        },
        {
         "line": {
          "color": "red",
          "width": 2
         },
         "mode": "lines",
         "name": "Price",
         "showlegend": false,
         "type": "scatter",
         "x": [
          "2022-09-08T00:00:00",
          "2022-09-09T00:00:00"
         ],
         "y": [
          400.3800048828125,
          406.6000061035156
         ]
        },
        {
         "line": {
          "color": "green",
          "width": 2
         },
         "mode": "lines",
         "name": "Price",
         "showlegend": false,
         "type": "scatter",
         "x": [
          "2022-09-09T00:00:00",
          "2022-09-12T00:00:00"
         ],
         "y": [
          406.6000061035156,
          410.9700012207031
         ]
        },
        {
         "line": {
          "color": "red",
          "width": 2
         },
         "mode": "lines",
         "name": "Price",
         "showlegend": false,
         "type": "scatter",
         "x": [
          "2022-09-12T00:00:00",
          "2022-09-13T00:00:00"
         ],
         "y": [
          410.9700012207031,
          393.1000061035156
         ]
        },
        {
         "line": {
          "color": "red",
          "width": 2
         },
         "mode": "lines",
         "name": "Price",
         "showlegend": false,
         "type": "scatter",
         "x": [
          "2022-09-13T00:00:00",
          "2022-09-14T00:00:00"
         ],
         "y": [
          393.1000061035156,
          394.6000061035156
         ]
        },
        {
         "line": {
          "color": "red",
          "width": 2
         },
         "mode": "lines",
         "name": "Price",
         "showlegend": false,
         "type": "scatter",
         "x": [
          "2022-09-14T00:00:00",
          "2022-09-15T00:00:00"
         ],
         "y": [
          394.6000061035156,
          390.1199951171875
         ]
        },
        {
         "line": {
          "color": "red",
          "width": 2
         },
         "mode": "lines",
         "name": "Price",
         "showlegend": false,
         "type": "scatter",
         "x": [
          "2022-09-15T00:00:00",
          "2022-09-16T00:00:00"
         ],
         "y": [
          390.1199951171875,
          385.55999755859375
         ]
        },
        {
         "line": {
          "color": "red",
          "width": 2
         },
         "mode": "lines",
         "name": "Price",
         "showlegend": false,
         "type": "scatter",
         "x": [
          "2022-09-16T00:00:00",
          "2022-09-19T00:00:00"
         ],
         "y": [
          385.55999755859375,
          388.54998779296875
         ]
        },
        {
         "line": {
          "color": "red",
          "width": 2
         },
         "mode": "lines",
         "name": "Price",
         "showlegend": false,
         "type": "scatter",
         "x": [
          "2022-09-19T00:00:00",
          "2022-09-20T00:00:00"
         ],
         "y": [
          388.54998779296875,
          384.0899963378906
         ]
        },
        {
         "line": {
          "color": "red",
          "width": 2
         },
         "mode": "lines",
         "name": "Price",
         "showlegend": false,
         "type": "scatter",
         "x": [
          "2022-09-20T00:00:00",
          "2022-09-21T00:00:00"
         ],
         "y": [
          384.0899963378906,
          377.3900146484375
         ]
        },
        {
         "line": {
          "color": "red",
          "width": 2
         },
         "mode": "lines",
         "name": "Price",
         "showlegend": false,
         "type": "scatter",
         "x": [
          "2022-09-21T00:00:00",
          "2022-09-22T00:00:00"
         ],
         "y": [
          377.3900146484375,
          374.2200012207031
         ]
        },
        {
         "line": {
          "color": "red",
          "width": 2
         },
         "mode": "lines",
         "name": "Price",
         "showlegend": false,
         "type": "scatter",
         "x": [
          "2022-09-22T00:00:00",
          "2022-09-23T00:00:00"
         ],
         "y": [
          374.2200012207031,
          367.95001220703125
         ]
        },
        {
         "line": {
          "color": "red",
          "width": 2
         },
         "mode": "lines",
         "name": "Price",
         "showlegend": false,
         "type": "scatter",
         "x": [
          "2022-09-23T00:00:00",
          "2022-09-26T00:00:00"
         ],
         "y": [
          367.95001220703125,
          364.30999755859375
         ]
        },
        {
         "line": {
          "color": "red",
          "width": 2
         },
         "mode": "lines",
         "name": "Price",
         "showlegend": false,
         "type": "scatter",
         "x": [
          "2022-09-26T00:00:00",
          "2022-09-27T00:00:00"
         ],
         "y": [
          364.30999755859375,
          363.3800048828125
         ]
        },
        {
         "line": {
          "color": "red",
          "width": 2
         },
         "mode": "lines",
         "name": "Price",
         "showlegend": false,
         "type": "scatter",
         "x": [
          "2022-09-27T00:00:00",
          "2022-09-28T00:00:00"
         ],
         "y": [
          363.3800048828125,
          370.5299987792969
         ]
        },
        {
         "line": {
          "color": "red",
          "width": 2
         },
         "mode": "lines",
         "name": "Price",
         "showlegend": false,
         "type": "scatter",
         "x": [
          "2022-09-28T00:00:00",
          "2022-09-29T00:00:00"
         ],
         "y": [
          370.5299987792969,
          362.7900085449219
         ]
        },
        {
         "line": {
          "color": "red",
          "width": 2
         },
         "mode": "lines",
         "name": "Price",
         "showlegend": false,
         "type": "scatter",
         "x": [
          "2022-09-29T00:00:00",
          "2022-09-30T00:00:00"
         ],
         "y": [
          362.7900085449219,
          357.17999267578125
         ]
        },
        {
         "line": {
          "color": "red",
          "width": 2
         },
         "mode": "lines",
         "name": "Price",
         "showlegend": false,
         "type": "scatter",
         "x": [
          "2022-09-30T00:00:00",
          "2022-10-03T00:00:00"
         ],
         "y": [
          357.17999267578125,
          366.6099853515625
         ]
        },
        {
         "line": {
          "color": "red",
          "width": 2
         },
         "mode": "lines",
         "name": "Price",
         "showlegend": false,
         "type": "scatter",
         "x": [
          "2022-10-03T00:00:00",
          "2022-10-04T00:00:00"
         ],
         "y": [
          366.6099853515625,
          377.9700012207031
         ]
        },
        {
         "line": {
          "color": "red",
          "width": 2
         },
         "mode": "lines",
         "name": "Price",
         "showlegend": false,
         "type": "scatter",
         "x": [
          "2022-10-04T00:00:00",
          "2022-10-05T00:00:00"
         ],
         "y": [
          377.9700012207031,
          377.0899963378906
         ]
        },
        {
         "line": {
          "color": "red",
          "width": 2
         },
         "mode": "lines",
         "name": "Price",
         "showlegend": false,
         "type": "scatter",
         "x": [
          "2022-10-05T00:00:00",
          "2022-10-06T00:00:00"
         ],
         "y": [
          377.0899963378906,
          373.20001220703125
         ]
        },
        {
         "line": {
          "color": "red",
          "width": 2
         },
         "mode": "lines",
         "name": "Price",
         "showlegend": false,
         "type": "scatter",
         "x": [
          "2022-10-06T00:00:00",
          "2022-10-07T00:00:00"
         ],
         "y": [
          373.20001220703125,
          362.7900085449219
         ]
        },
        {
         "line": {
          "color": "red",
          "width": 2
         },
         "mode": "lines",
         "name": "Price",
         "showlegend": false,
         "type": "scatter",
         "x": [
          "2022-10-07T00:00:00",
          "2022-10-10T00:00:00"
         ],
         "y": [
          362.7900085449219,
          360.0199890136719
         ]
        },
        {
         "line": {
          "color": "red",
          "width": 2
         },
         "mode": "lines",
         "name": "Price",
         "showlegend": false,
         "type": "scatter",
         "x": [
          "2022-10-10T00:00:00",
          "2022-10-11T00:00:00"
         ],
         "y": [
          360.0199890136719,
          357.739990234375
         ]
        },
        {
         "line": {
          "color": "red",
          "width": 2
         },
         "mode": "lines",
         "name": "Price",
         "showlegend": false,
         "type": "scatter",
         "x": [
          "2022-10-11T00:00:00",
          "2022-10-12T00:00:00"
         ],
         "y": [
          357.739990234375,
          356.55999755859375
         ]
        },
        {
         "line": {
          "color": "red",
          "width": 2
         },
         "mode": "lines",
         "name": "Price",
         "showlegend": false,
         "type": "scatter",
         "x": [
          "2022-10-12T00:00:00",
          "2022-10-13T00:00:00"
         ],
         "y": [
          356.55999755859375,
          365.9700012207031
         ]
        },
        {
         "line": {
          "color": "red",
          "width": 2
         },
         "mode": "lines",
         "name": "Price",
         "showlegend": false,
         "type": "scatter",
         "x": [
          "2022-10-13T00:00:00",
          "2022-10-14T00:00:00"
         ],
         "y": [
          365.9700012207031,
          357.6300048828125
         ]
        },
        {
         "line": {
          "color": "red",
          "width": 2
         },
         "mode": "lines",
         "name": "Price",
         "showlegend": false,
         "type": "scatter",
         "x": [
          "2022-10-14T00:00:00",
          "2022-10-17T00:00:00"
         ],
         "y": [
          357.6300048828125,
          366.82000732421875
         ]
        },
        {
         "line": {
          "color": "red",
          "width": 2
         },
         "mode": "lines",
         "name": "Price",
         "showlegend": false,
         "type": "scatter",
         "x": [
          "2022-10-17T00:00:00",
          "2022-10-18T00:00:00"
         ],
         "y": [
          366.82000732421875,
          371.1300048828125
         ]
        },
        {
         "line": {
          "color": "red",
          "width": 2
         },
         "mode": "lines",
         "name": "Price",
         "showlegend": false,
         "type": "scatter",
         "x": [
          "2022-10-18T00:00:00",
          "2022-10-19T00:00:00"
         ],
         "y": [
          371.1300048828125,
          368.5
         ]
        },
        {
         "line": {
          "color": "red",
          "width": 2
         },
         "mode": "lines",
         "name": "Price",
         "showlegend": false,
         "type": "scatter",
         "x": [
          "2022-10-19T00:00:00",
          "2022-10-20T00:00:00"
         ],
         "y": [
          368.5,
          365.4100036621094
         ]
        },
        {
         "line": {
          "color": "red",
          "width": 2
         },
         "mode": "lines",
         "name": "Price",
         "showlegend": false,
         "type": "scatter",
         "x": [
          "2022-10-20T00:00:00",
          "2022-10-21T00:00:00"
         ],
         "y": [
          365.4100036621094,
          374.2900085449219
         ]
        },
        {
         "line": {
          "color": "red",
          "width": 2
         },
         "mode": "lines",
         "name": "Price",
         "showlegend": false,
         "type": "scatter",
         "x": [
          "2022-10-21T00:00:00",
          "2022-10-24T00:00:00"
         ],
         "y": [
          374.2900085449219,
          378.8699951171875
         ]
        },
        {
         "line": {
          "color": "red",
          "width": 2
         },
         "mode": "lines",
         "name": "Price",
         "showlegend": false,
         "type": "scatter",
         "x": [
          "2022-10-24T00:00:00",
          "2022-10-25T00:00:00"
         ],
         "y": [
          378.8699951171875,
          384.9200134277344
         ]
        },
        {
         "line": {
          "color": "red",
          "width": 2
         },
         "mode": "lines",
         "name": "Price",
         "showlegend": false,
         "type": "scatter",
         "x": [
          "2022-10-25T00:00:00",
          "2022-10-26T00:00:00"
         ],
         "y": [
          384.9200134277344,
          382.0199890136719
         ]
        },
        {
         "line": {
          "color": "red",
          "width": 2
         },
         "mode": "lines",
         "name": "Price",
         "showlegend": false,
         "type": "scatter",
         "x": [
          "2022-10-26T00:00:00",
          "2022-10-27T00:00:00"
         ],
         "y": [
          382.0199890136719,
          379.9800109863281
         ]
        },
        {
         "line": {
          "color": "red",
          "width": 2
         },
         "mode": "lines",
         "name": "Price",
         "showlegend": false,
         "type": "scatter",
         "x": [
          "2022-10-27T00:00:00",
          "2022-10-28T00:00:00"
         ],
         "y": [
          379.9800109863281,
          389.0199890136719
         ]
        },
        {
         "line": {
          "color": "green",
          "width": 2
         },
         "mode": "lines",
         "name": "Price",
         "showlegend": false,
         "type": "scatter",
         "x": [
          "2022-10-28T00:00:00",
          "2022-10-31T00:00:00"
         ],
         "y": [
          389.0199890136719,
          386.2099914550781
         ]
        },
        {
         "line": {
          "color": "red",
          "width": 2
         },
         "mode": "lines",
         "name": "Price",
         "showlegend": false,
         "type": "scatter",
         "x": [
          "2022-10-31T00:00:00",
          "2022-11-01T00:00:00"
         ],
         "y": [
          386.2099914550781,
          384.5199890136719
         ]
        },
        {
         "line": {
          "color": "green",
          "width": 2
         },
         "mode": "lines",
         "name": "Price",
         "showlegend": false,
         "type": "scatter",
         "x": [
          "2022-11-01T00:00:00",
          "2022-11-02T00:00:00"
         ],
         "y": [
          384.5199890136719,
          374.8699951171875
         ]
        },
        {
         "line": {
          "color": "red",
          "width": 2
         },
         "mode": "lines",
         "name": "Price",
         "showlegend": false,
         "type": "scatter",
         "x": [
          "2022-11-02T00:00:00",
          "2022-11-03T00:00:00"
         ],
         "y": [
          374.8699951171875,
          371.010009765625
         ]
        },
        {
         "line": {
          "color": "red",
          "width": 2
         },
         "mode": "lines",
         "name": "Price",
         "showlegend": false,
         "type": "scatter",
         "x": [
          "2022-11-03T00:00:00",
          "2022-11-04T00:00:00"
         ],
         "y": [
          371.010009765625,
          376.3500061035156
         ]
        },
        {
         "line": {
          "color": "green",
          "width": 2
         },
         "mode": "lines",
         "name": "Price",
         "showlegend": false,
         "type": "scatter",
         "x": [
          "2022-11-04T00:00:00",
          "2022-11-07T00:00:00"
         ],
         "y": [
          376.3500061035156,
          379.95001220703125
         ]
        },
        {
         "line": {
          "color": "green",
          "width": 2
         },
         "mode": "lines",
         "name": "Price",
         "showlegend": false,
         "type": "scatter",
         "x": [
          "2022-11-07T00:00:00",
          "2022-11-08T00:00:00"
         ],
         "y": [
          379.95001220703125,
          382
         ]
        },
        {
         "line": {
          "color": "green",
          "width": 2
         },
         "mode": "lines",
         "name": "Price",
         "showlegend": false,
         "type": "scatter",
         "x": [
          "2022-11-08T00:00:00",
          "2022-11-09T00:00:00"
         ],
         "y": [
          382,
          374.1300048828125
         ]
        },
        {
         "line": {
          "color": "green",
          "width": 2
         },
         "mode": "lines",
         "name": "Price",
         "showlegend": false,
         "type": "scatter",
         "x": [
          "2022-11-09T00:00:00",
          "2022-11-10T00:00:00"
         ],
         "y": [
          374.1300048828125,
          394.69000244140625
         ]
        },
        {
         "line": {
          "color": "green",
          "width": 2
         },
         "mode": "lines",
         "name": "Price",
         "showlegend": false,
         "type": "scatter",
         "x": [
          "2022-11-10T00:00:00",
          "2022-11-11T00:00:00"
         ],
         "y": [
          394.69000244140625,
          398.510009765625
         ]
        },
        {
         "line": {
          "color": "green",
          "width": 2
         },
         "mode": "lines",
         "name": "Price",
         "showlegend": false,
         "type": "scatter",
         "x": [
          "2022-11-11T00:00:00",
          "2022-11-14T00:00:00"
         ],
         "y": [
          398.510009765625,
          395.1199951171875
         ]
        },
        {
         "line": {
          "color": "green",
          "width": 2
         },
         "mode": "lines",
         "name": "Price",
         "showlegend": false,
         "type": "scatter",
         "x": [
          "2022-11-14T00:00:00",
          "2022-11-15T00:00:00"
         ],
         "y": [
          395.1199951171875,
          398.489990234375
         ]
        },
        {
         "line": {
          "color": "green",
          "width": 2
         },
         "mode": "lines",
         "name": "Price",
         "showlegend": false,
         "type": "scatter",
         "x": [
          "2022-11-15T00:00:00",
          "2022-11-16T00:00:00"
         ],
         "y": [
          398.489990234375,
          395.45001220703125
         ]
        },
        {
         "line": {
          "color": "green",
          "width": 2
         },
         "mode": "lines",
         "name": "Price",
         "showlegend": false,
         "type": "scatter",
         "x": [
          "2022-11-16T00:00:00",
          "2022-11-17T00:00:00"
         ],
         "y": [
          395.45001220703125,
          394.239990234375
         ]
        },
        {
         "line": {
          "color": "green",
          "width": 2
         },
         "mode": "lines",
         "name": "Price",
         "showlegend": false,
         "type": "scatter",
         "x": [
          "2022-11-17T00:00:00",
          "2022-11-18T00:00:00"
         ],
         "y": [
          394.239990234375,
          396.0299987792969
         ]
        },
        {
         "line": {
          "color": "green",
          "width": 2
         },
         "mode": "lines",
         "name": "Price",
         "showlegend": false,
         "type": "scatter",
         "x": [
          "2022-11-18T00:00:00",
          "2022-11-21T00:00:00"
         ],
         "y": [
          396.0299987792969,
          394.5899963378906
         ]
        },
        {
         "line": {
          "color": "green",
          "width": 2
         },
         "mode": "lines",
         "name": "Price",
         "showlegend": false,
         "type": "scatter",
         "x": [
          "2022-11-21T00:00:00",
          "2022-11-22T00:00:00"
         ],
         "y": [
          394.5899963378906,
          399.8999938964844
         ]
        },
        {
         "line": {
          "color": "green",
          "width": 2
         },
         "mode": "lines",
         "name": "Price",
         "showlegend": false,
         "type": "scatter",
         "x": [
          "2022-11-22T00:00:00",
          "2022-11-23T00:00:00"
         ],
         "y": [
          399.8999938964844,
          402.4200134277344
         ]
        },
        {
         "line": {
          "color": "green",
          "width": 2
         },
         "mode": "lines",
         "name": "Price",
         "showlegend": false,
         "type": "scatter",
         "x": [
          "2022-11-23T00:00:00",
          "2022-11-25T00:00:00"
         ],
         "y": [
          402.4200134277344,
          402.3299865722656
         ]
        },
        {
         "line": {
          "color": "green",
          "width": 2
         },
         "mode": "lines",
         "name": "Price",
         "showlegend": false,
         "type": "scatter",
         "x": [
          "2022-11-25T00:00:00",
          "2022-11-28T00:00:00"
         ],
         "y": [
          402.3299865722656,
          395.9100036621094
         ]
        },
        {
         "line": {
          "color": "green",
          "width": 2
         },
         "mode": "lines",
         "name": "Price",
         "showlegend": false,
         "type": "scatter",
         "x": [
          "2022-11-28T00:00:00",
          "2022-11-29T00:00:00"
         ],
         "y": [
          395.9100036621094,
          395.2300109863281
         ]
        },
        {
         "line": {
          "color": "green",
          "width": 2
         },
         "mode": "lines",
         "name": "Price",
         "showlegend": false,
         "type": "scatter",
         "x": [
          "2022-11-29T00:00:00",
          "2022-11-30T00:00:00"
         ],
         "y": [
          395.2300109863281,
          407.67999267578125
         ]
        },
        {
         "line": {
          "color": "green",
          "width": 2
         },
         "mode": "lines",
         "name": "Price",
         "showlegend": false,
         "type": "scatter",
         "x": [
          "2022-11-30T00:00:00",
          "2022-12-01T00:00:00"
         ],
         "y": [
          407.67999267578125,
          407.3800048828125
         ]
        },
        {
         "line": {
          "color": "green",
          "width": 2
         },
         "mode": "lines",
         "name": "Price",
         "showlegend": false,
         "type": "scatter",
         "x": [
          "2022-12-01T00:00:00",
          "2022-12-02T00:00:00"
         ],
         "y": [
          407.3800048828125,
          406.9100036621094
         ]
        },
        {
         "line": {
          "color": "green",
          "width": 2
         },
         "mode": "lines",
         "name": "Price",
         "showlegend": false,
         "type": "scatter",
         "x": [
          "2022-12-02T00:00:00",
          "2022-12-05T00:00:00"
         ],
         "y": [
          406.9100036621094,
          399.5899963378906
         ]
        },
        {
         "line": {
          "color": "green",
          "width": 2
         },
         "mode": "lines",
         "name": "Price",
         "showlegend": false,
         "type": "scatter",
         "x": [
          "2022-12-05T00:00:00",
          "2022-12-06T00:00:00"
         ],
         "y": [
          399.5899963378906,
          393.8299865722656
         ]
        },
        {
         "line": {
          "color": "green",
          "width": 2
         },
         "mode": "lines",
         "name": "Price",
         "showlegend": false,
         "type": "scatter",
         "x": [
          "2022-12-06T00:00:00",
          "2022-12-07T00:00:00"
         ],
         "y": [
          393.8299865722656,
          393.1600036621094
         ]
        },
        {
         "line": {
          "color": "green",
          "width": 2
         },
         "mode": "lines",
         "name": "Price",
         "showlegend": false,
         "type": "scatter",
         "x": [
          "2022-12-07T00:00:00",
          "2022-12-08T00:00:00"
         ],
         "y": [
          393.1600036621094,
          396.239990234375
         ]
        },
        {
         "line": {
          "color": "green",
          "width": 2
         },
         "mode": "lines",
         "name": "Price",
         "showlegend": false,
         "type": "scatter",
         "x": [
          "2022-12-08T00:00:00",
          "2022-12-09T00:00:00"
         ],
         "y": [
          396.239990234375,
          393.2799987792969
         ]
        },
        {
         "line": {
          "color": "green",
          "width": 2
         },
         "mode": "lines",
         "name": "Price",
         "showlegend": false,
         "type": "scatter",
         "x": [
          "2022-12-09T00:00:00",
          "2022-12-12T00:00:00"
         ],
         "y": [
          393.2799987792969,
          398.95001220703125
         ]
        },
        {
         "line": {
          "color": "green",
          "width": 2
         },
         "mode": "lines",
         "name": "Price",
         "showlegend": false,
         "type": "scatter",
         "x": [
          "2022-12-12T00:00:00",
          "2022-12-13T00:00:00"
         ],
         "y": [
          398.95001220703125,
          401.9700012207031
         ]
        },
        {
         "line": {
          "color": "green",
          "width": 2
         },
         "mode": "lines",
         "name": "Price",
         "showlegend": false,
         "type": "scatter",
         "x": [
          "2022-12-13T00:00:00",
          "2022-12-14T00:00:00"
         ],
         "y": [
          401.9700012207031,
          399.3999938964844
         ]
        },
        {
         "line": {
          "color": "green",
          "width": 2
         },
         "mode": "lines",
         "name": "Price",
         "showlegend": false,
         "type": "scatter",
         "x": [
          "2022-12-14T00:00:00",
          "2022-12-15T00:00:00"
         ],
         "y": [
          399.3999938964844,
          389.6300048828125
         ]
        },
        {
         "line": {
          "color": "green",
          "width": 2
         },
         "mode": "lines",
         "name": "Price",
         "showlegend": false,
         "type": "scatter",
         "x": [
          "2022-12-15T00:00:00",
          "2022-12-16T00:00:00"
         ],
         "y": [
          389.6300048828125,
          383.2699890136719
         ]
        },
        {
         "line": {
          "color": "green",
          "width": 2
         },
         "mode": "lines",
         "name": "Price",
         "showlegend": false,
         "type": "scatter",
         "x": [
          "2022-12-16T00:00:00",
          "2022-12-19T00:00:00"
         ],
         "y": [
          383.2699890136719,
          380.0199890136719
         ]
        },
        {
         "line": {
          "color": "green",
          "width": 2
         },
         "mode": "lines",
         "name": "Price",
         "showlegend": false,
         "type": "scatter",
         "x": [
          "2022-12-19T00:00:00",
          "2022-12-20T00:00:00"
         ],
         "y": [
          380.0199890136719,
          380.5400085449219
         ]
        },
        {
         "line": {
          "color": "green",
          "width": 2
         },
         "mode": "lines",
         "name": "Price",
         "showlegend": false,
         "type": "scatter",
         "x": [
          "2022-12-20T00:00:00",
          "2022-12-21T00:00:00"
         ],
         "y": [
          380.5400085449219,
          386.2300109863281
         ]
        },
        {
         "line": {
          "color": "green",
          "width": 2
         },
         "mode": "lines",
         "name": "Price",
         "showlegend": false,
         "type": "scatter",
         "x": [
          "2022-12-21T00:00:00",
          "2022-12-22T00:00:00"
         ],
         "y": [
          386.2300109863281,
          380.7200012207031
         ]
        },
        {
         "line": {
          "color": "green",
          "width": 2
         },
         "mode": "lines",
         "name": "Price",
         "showlegend": false,
         "type": "scatter",
         "x": [
          "2022-12-22T00:00:00",
          "2022-12-23T00:00:00"
         ],
         "y": [
          380.7200012207031,
          382.9100036621094
         ]
        },
        {
         "line": {
          "color": "red",
          "width": 2
         },
         "mode": "lines",
         "name": "Price",
         "showlegend": false,
         "type": "scatter",
         "x": [
          "2022-12-23T00:00:00",
          "2022-12-27T00:00:00"
         ],
         "y": [
          382.9100036621094,
          381.3999938964844
         ]
        },
        {
         "line": {
          "color": "red",
          "width": 2
         },
         "mode": "lines",
         "name": "Price",
         "showlegend": false,
         "type": "scatter",
         "x": [
          "2022-12-27T00:00:00",
          "2022-12-28T00:00:00"
         ],
         "y": [
          381.3999938964844,
          376.6600036621094
         ]
        },
        {
         "line": {
          "color": "red",
          "width": 2
         },
         "mode": "lines",
         "name": "Price",
         "showlegend": false,
         "type": "scatter",
         "x": [
          "2022-12-28T00:00:00",
          "2022-12-29T00:00:00"
         ],
         "y": [
          376.6600036621094,
          383.44000244140625
         ]
        },
        {
         "line": {
          "color": "red",
          "width": 2
         },
         "mode": "lines",
         "name": "Price",
         "showlegend": false,
         "type": "scatter",
         "x": [
          "2022-12-29T00:00:00",
          "2022-12-30T00:00:00"
         ],
         "y": [
          383.44000244140625,
          382.42999267578125
         ]
        },
        {
         "line": {
          "color": "red",
          "width": 2
         },
         "mode": "lines",
         "name": "Price",
         "showlegend": false,
         "type": "scatter",
         "x": [
          "2022-12-30T00:00:00",
          "2023-01-03T00:00:00"
         ],
         "y": [
          382.42999267578125,
          380.82000732421875
         ]
        },
        {
         "line": {
          "color": "red",
          "width": 2
         },
         "mode": "lines",
         "name": "Price",
         "showlegend": false,
         "type": "scatter",
         "x": [
          "2023-01-03T00:00:00",
          "2023-01-04T00:00:00"
         ],
         "y": [
          380.82000732421875,
          383.760009765625
         ]
        },
        {
         "line": {
          "color": "red",
          "width": 2
         },
         "mode": "lines",
         "name": "Price",
         "showlegend": false,
         "type": "scatter",
         "x": [
          "2023-01-04T00:00:00",
          "2023-01-05T00:00:00"
         ],
         "y": [
          383.760009765625,
          379.3800048828125
         ]
        },
        {
         "line": {
          "color": "red",
          "width": 2
         },
         "mode": "lines",
         "name": "Price",
         "showlegend": false,
         "type": "scatter",
         "x": [
          "2023-01-05T00:00:00",
          "2023-01-06T00:00:00"
         ],
         "y": [
          379.3800048828125,
          388.0799865722656
         ]
        },
        {
         "line": {
          "color": "red",
          "width": 2
         },
         "mode": "lines",
         "name": "Price",
         "showlegend": false,
         "type": "scatter",
         "x": [
          "2023-01-06T00:00:00",
          "2023-01-09T00:00:00"
         ],
         "y": [
          388.0799865722656,
          387.8599853515625
         ]
        },
        {
         "line": {
          "color": "red",
          "width": 2
         },
         "mode": "lines",
         "name": "Price",
         "showlegend": false,
         "type": "scatter",
         "x": [
          "2023-01-09T00:00:00",
          "2023-01-10T00:00:00"
         ],
         "y": [
          387.8599853515625,
          390.5799865722656
         ]
        },
        {
         "line": {
          "color": "red",
          "width": 2
         },
         "mode": "lines",
         "name": "Price",
         "showlegend": false,
         "type": "scatter",
         "x": [
          "2023-01-10T00:00:00",
          "2023-01-11T00:00:00"
         ],
         "y": [
          390.5799865722656,
          395.5199890136719
         ]
        },
        {
         "line": {
          "color": "red",
          "width": 2
         },
         "mode": "lines",
         "name": "Price",
         "showlegend": false,
         "type": "scatter",
         "x": [
          "2023-01-11T00:00:00",
          "2023-01-12T00:00:00"
         ],
         "y": [
          395.5199890136719,
          396.9599914550781
         ]
        },
        {
         "line": {
          "color": "green",
          "width": 2
         },
         "mode": "lines",
         "name": "Price",
         "showlegend": false,
         "type": "scatter",
         "x": [
          "2023-01-12T00:00:00",
          "2023-01-13T00:00:00"
         ],
         "y": [
          396.9599914550781,
          398.5
         ]
        },
        {
         "line": {
          "color": "red",
          "width": 2
         },
         "mode": "lines",
         "name": "Price",
         "showlegend": false,
         "type": "scatter",
         "x": [
          "2023-01-13T00:00:00",
          "2023-01-17T00:00:00"
         ],
         "y": [
          398.5,
          397.7699890136719
         ]
        },
        {
         "line": {
          "color": "red",
          "width": 2
         },
         "mode": "lines",
         "name": "Price",
         "showlegend": false,
         "type": "scatter",
         "x": [
          "2023-01-17T00:00:00",
          "2023-01-18T00:00:00"
         ],
         "y": [
          397.7699890136719,
          391.489990234375
         ]
        },
        {
         "line": {
          "color": "red",
          "width": 2
         },
         "mode": "lines",
         "name": "Price",
         "showlegend": false,
         "type": "scatter",
         "x": [
          "2023-01-18T00:00:00",
          "2023-01-19T00:00:00"
         ],
         "y": [
          391.489990234375,
          388.6400146484375
         ]
        },
        {
         "line": {
          "color": "red",
          "width": 2
         },
         "mode": "lines",
         "name": "Price",
         "showlegend": false,
         "type": "scatter",
         "x": [
          "2023-01-19T00:00:00",
          "2023-01-20T00:00:00"
         ],
         "y": [
          388.6400146484375,
          395.8800048828125
         ]
        },
        {
         "line": {
          "color": "green",
          "width": 2
         },
         "mode": "lines",
         "name": "Price",
         "showlegend": false,
         "type": "scatter",
         "x": [
          "2023-01-20T00:00:00",
          "2023-01-23T00:00:00"
         ],
         "y": [
          395.8800048828125,
          400.6300048828125
         ]
        },
        {
         "line": {
          "color": "green",
          "width": 2
         },
         "mode": "lines",
         "name": "Price",
         "showlegend": false,
         "type": "scatter",
         "x": [
          "2023-01-23T00:00:00",
          "2023-01-24T00:00:00"
         ],
         "y": [
          400.6300048828125,
          400.20001220703125
         ]
        },
        {
         "line": {
          "color": "green",
          "width": 2
         },
         "mode": "lines",
         "name": "Price",
         "showlegend": false,
         "type": "scatter",
         "x": [
          "2023-01-24T00:00:00",
          "2023-01-25T00:00:00"
         ],
         "y": [
          400.20001220703125,
          400.3500061035156
         ]
        },
        {
         "line": {
          "color": "green",
          "width": 2
         },
         "mode": "lines",
         "name": "Price",
         "showlegend": false,
         "type": "scatter",
         "x": [
          "2023-01-25T00:00:00",
          "2023-01-26T00:00:00"
         ],
         "y": [
          400.3500061035156,
          404.75
         ]
        },
        {
         "line": {
          "color": "green",
          "width": 2
         },
         "mode": "lines",
         "name": "Price",
         "showlegend": false,
         "type": "scatter",
         "x": [
          "2023-01-26T00:00:00",
          "2023-01-27T00:00:00"
         ],
         "y": [
          404.75,
          405.67999267578125
         ]
        },
        {
         "line": {
          "color": "green",
          "width": 2
         },
         "mode": "lines",
         "name": "Price",
         "showlegend": false,
         "type": "scatter",
         "x": [
          "2023-01-27T00:00:00",
          "2023-01-30T00:00:00"
         ],
         "y": [
          405.67999267578125,
          400.5899963378906
         ]
        },
        {
         "line": {
          "color": "green",
          "width": 2
         },
         "mode": "lines",
         "name": "Price",
         "showlegend": false,
         "type": "scatter",
         "x": [
          "2023-01-30T00:00:00",
          "2023-01-31T00:00:00"
         ],
         "y": [
          400.5899963378906,
          406.4800109863281
         ]
        },
        {
         "line": {
          "color": "green",
          "width": 2
         },
         "mode": "lines",
         "name": "Price",
         "showlegend": false,
         "type": "scatter",
         "x": [
          "2023-01-31T00:00:00",
          "2023-02-01T00:00:00"
         ],
         "y": [
          406.4800109863281,
          410.79998779296875
         ]
        },
        {
         "line": {
          "color": "green",
          "width": 2
         },
         "mode": "lines",
         "name": "Price",
         "showlegend": false,
         "type": "scatter",
         "x": [
          "2023-02-01T00:00:00",
          "2023-02-02T00:00:00"
         ],
         "y": [
          410.79998779296875,
          416.7799987792969
         ]
        },
        {
         "line": {
          "color": "green",
          "width": 2
         },
         "mode": "lines",
         "name": "Price",
         "showlegend": false,
         "type": "scatter",
         "x": [
          "2023-02-02T00:00:00",
          "2023-02-03T00:00:00"
         ],
         "y": [
          416.7799987792969,
          412.3500061035156
         ]
        },
        {
         "line": {
          "color": "green",
          "width": 2
         },
         "mode": "lines",
         "name": "Price",
         "showlegend": false,
         "type": "scatter",
         "x": [
          "2023-02-03T00:00:00",
          "2023-02-06T00:00:00"
         ],
         "y": [
          412.3500061035156,
          409.8299865722656
         ]
        },
        {
         "line": {
          "color": "green",
          "width": 2
         },
         "mode": "lines",
         "name": "Price",
         "showlegend": false,
         "type": "scatter",
         "x": [
          "2023-02-06T00:00:00",
          "2023-02-07T00:00:00"
         ],
         "y": [
          409.8299865722656,
          415.19000244140625
         ]
        },
        {
         "line": {
          "color": "green",
          "width": 2
         },
         "mode": "lines",
         "name": "Price",
         "showlegend": false,
         "type": "scatter",
         "x": [
          "2023-02-07T00:00:00",
          "2023-02-08T00:00:00"
         ],
         "y": [
          415.19000244140625,
          410.6499938964844
         ]
        },
        {
         "line": {
          "color": "green",
          "width": 2
         },
         "mode": "lines",
         "name": "Price",
         "showlegend": false,
         "type": "scatter",
         "x": [
          "2023-02-08T00:00:00",
          "2023-02-09T00:00:00"
         ],
         "y": [
          410.6499938964844,
          407.0899963378906
         ]
        },
        {
         "line": {
          "color": "green",
          "width": 2
         },
         "mode": "lines",
         "name": "Price",
         "showlegend": false,
         "type": "scatter",
         "x": [
          "2023-02-09T00:00:00",
          "2023-02-10T00:00:00"
         ],
         "y": [
          407.0899963378906,
          408.0400085449219
         ]
        },
        {
         "line": {
          "color": "green",
          "width": 2
         },
         "mode": "lines",
         "name": "Price",
         "showlegend": false,
         "type": "scatter",
         "x": [
          "2023-02-10T00:00:00",
          "2023-02-13T00:00:00"
         ],
         "y": [
          408.0400085449219,
          412.8299865722656
         ]
        },
        {
         "line": {
          "color": "green",
          "width": 2
         },
         "mode": "lines",
         "name": "Price",
         "showlegend": false,
         "type": "scatter",
         "x": [
          "2023-02-13T00:00:00",
          "2023-02-14T00:00:00"
         ],
         "y": [
          412.8299865722656,
          412.6400146484375
         ]
        },
        {
         "line": {
          "color": "green",
          "width": 2
         },
         "mode": "lines",
         "name": "Price",
         "showlegend": false,
         "type": "scatter",
         "x": [
          "2023-02-14T00:00:00",
          "2023-02-15T00:00:00"
         ],
         "y": [
          412.6400146484375,
          413.9800109863281
         ]
        },
        {
         "line": {
          "color": "green",
          "width": 2
         },
         "mode": "lines",
         "name": "Price",
         "showlegend": false,
         "type": "scatter",
         "x": [
          "2023-02-15T00:00:00",
          "2023-02-16T00:00:00"
         ],
         "y": [
          413.9800109863281,
          408.2799987792969
         ]
        },
        {
         "line": {
          "color": "green",
          "width": 2
         },
         "mode": "lines",
         "name": "Price",
         "showlegend": false,
         "type": "scatter",
         "x": [
          "2023-02-16T00:00:00",
          "2023-02-17T00:00:00"
         ],
         "y": [
          408.2799987792969,
          407.260009765625
         ]
        },
        {
         "line": {
          "color": "green",
          "width": 2
         },
         "mode": "lines",
         "name": "Price",
         "showlegend": false,
         "type": "scatter",
         "x": [
          "2023-02-17T00:00:00",
          "2023-02-21T00:00:00"
         ],
         "y": [
          407.260009765625,
          399.0899963378906
         ]
        },
        {
         "line": {
          "color": "green",
          "width": 2
         },
         "mode": "lines",
         "name": "Price",
         "showlegend": false,
         "type": "scatter",
         "x": [
          "2023-02-21T00:00:00",
          "2023-02-22T00:00:00"
         ],
         "y": [
          399.0899963378906,
          398.5400085449219
         ]
        },
        {
         "line": {
          "color": "green",
          "width": 2
         },
         "mode": "lines",
         "name": "Price",
         "showlegend": false,
         "type": "scatter",
         "x": [
          "2023-02-22T00:00:00",
          "2023-02-23T00:00:00"
         ],
         "y": [
          398.5400085449219,
          400.6600036621094
         ]
        },
        {
         "line": {
          "color": "green",
          "width": 2
         },
         "mode": "lines",
         "name": "Price",
         "showlegend": false,
         "type": "scatter",
         "x": [
          "2023-02-23T00:00:00",
          "2023-02-24T00:00:00"
         ],
         "y": [
          400.6600036621094,
          396.3800048828125
         ]
        },
        {
         "line": {
          "color": "green",
          "width": 2
         },
         "mode": "lines",
         "name": "Price",
         "showlegend": false,
         "type": "scatter",
         "x": [
          "2023-02-24T00:00:00",
          "2023-02-27T00:00:00"
         ],
         "y": [
          396.3800048828125,
          397.7300109863281
         ]
        },
        {
         "line": {
          "color": "green",
          "width": 2
         },
         "mode": "lines",
         "name": "Price",
         "showlegend": false,
         "type": "scatter",
         "x": [
          "2023-02-27T00:00:00",
          "2023-02-28T00:00:00"
         ],
         "y": [
          397.7300109863281,
          396.260009765625
         ]
        },
        {
         "line": {
          "color": "red",
          "width": 2
         },
         "mode": "lines",
         "name": "Price",
         "showlegend": false,
         "type": "scatter",
         "x": [
          "2023-02-28T00:00:00",
          "2023-03-01T00:00:00"
         ],
         "y": [
          396.260009765625,
          394.739990234375
         ]
        },
        {
         "line": {
          "color": "red",
          "width": 2
         },
         "mode": "lines",
         "name": "Price",
         "showlegend": false,
         "type": "scatter",
         "x": [
          "2023-03-01T00:00:00",
          "2023-03-02T00:00:00"
         ],
         "y": [
          394.739990234375,
          397.80999755859375
         ]
        },
        {
         "line": {
          "color": "green",
          "width": 2
         },
         "mode": "lines",
         "name": "Price",
         "showlegend": false,
         "type": "scatter",
         "x": [
          "2023-03-02T00:00:00",
          "2023-03-03T00:00:00"
         ],
         "y": [
          397.80999755859375,
          404.19000244140625
         ]
        },
        {
         "line": {
          "color": "green",
          "width": 2
         },
         "mode": "lines",
         "name": "Price",
         "showlegend": false,
         "type": "scatter",
         "x": [
          "2023-03-03T00:00:00",
          "2023-03-06T00:00:00"
         ],
         "y": [
          404.19000244140625,
          404.4700012207031
         ]
        },
        {
         "line": {
          "color": "green",
          "width": 2
         },
         "mode": "lines",
         "name": "Price",
         "showlegend": false,
         "type": "scatter",
         "x": [
          "2023-03-06T00:00:00",
          "2023-03-07T00:00:00"
         ],
         "y": [
          404.4700012207031,
          398.2699890136719
         ]
        },
        {
         "line": {
          "color": "red",
          "width": 2
         },
         "mode": "lines",
         "name": "Price",
         "showlegend": false,
         "type": "scatter",
         "x": [
          "2023-03-07T00:00:00",
          "2023-03-08T00:00:00"
         ],
         "y": [
          398.2699890136719,
          398.9200134277344
         ]
        },
        {
         "line": {
          "color": "red",
          "width": 2
         },
         "mode": "lines",
         "name": "Price",
         "showlegend": false,
         "type": "scatter",
         "x": [
          "2023-03-08T00:00:00",
          "2023-03-09T00:00:00"
         ],
         "y": [
          398.9200134277344,
          391.55999755859375
         ]
        },
        {
         "line": {
          "color": "red",
          "width": 2
         },
         "mode": "lines",
         "name": "Price",
         "showlegend": false,
         "type": "scatter",
         "x": [
          "2023-03-09T00:00:00",
          "2023-03-10T00:00:00"
         ],
         "y": [
          391.55999755859375,
          385.9100036621094
         ]
        },
        {
         "line": {
          "color": "red",
          "width": 2
         },
         "mode": "lines",
         "name": "Price",
         "showlegend": false,
         "type": "scatter",
         "x": [
          "2023-03-10T00:00:00",
          "2023-03-13T00:00:00"
         ],
         "y": [
          385.9100036621094,
          385.3599853515625
         ]
        },
        {
         "line": {
          "color": "red",
          "width": 2
         },
         "mode": "lines",
         "name": "Price",
         "showlegend": false,
         "type": "scatter",
         "x": [
          "2023-03-13T00:00:00",
          "2023-03-14T00:00:00"
         ],
         "y": [
          385.3599853515625,
          391.7300109863281
         ]
        },
        {
         "line": {
          "color": "red",
          "width": 2
         },
         "mode": "lines",
         "name": "Price",
         "showlegend": false,
         "type": "scatter",
         "x": [
          "2023-03-14T00:00:00",
          "2023-03-15T00:00:00"
         ],
         "y": [
          391.7300109863281,
          389.2799987792969
         ]
        },
        {
         "line": {
          "color": "red",
          "width": 2
         },
         "mode": "lines",
         "name": "Price",
         "showlegend": false,
         "type": "scatter",
         "x": [
          "2023-03-15T00:00:00",
          "2023-03-16T00:00:00"
         ],
         "y": [
          389.2799987792969,
          396.1099853515625
         ]
        },
        {
         "line": {
          "color": "red",
          "width": 2
         },
         "mode": "lines",
         "name": "Price",
         "showlegend": false,
         "type": "scatter",
         "x": [
          "2023-03-16T00:00:00",
          "2023-03-17T00:00:00"
         ],
         "y": [
          396.1099853515625,
          389.989990234375
         ]
        },
        {
         "line": {
          "color": "red",
          "width": 2
         },
         "mode": "lines",
         "name": "Price",
         "showlegend": false,
         "type": "scatter",
         "x": [
          "2023-03-17T00:00:00",
          "2023-03-20T00:00:00"
         ],
         "y": [
          389.989990234375,
          393.739990234375
         ]
        },
        {
         "line": {
          "color": "red",
          "width": 2
         },
         "mode": "lines",
         "name": "Price",
         "showlegend": false,
         "type": "scatter",
         "x": [
          "2023-03-20T00:00:00",
          "2023-03-21T00:00:00"
         ],
         "y": [
          393.739990234375,
          398.9100036621094
         ]
        },
        {
         "line": {
          "color": "red",
          "width": 2
         },
         "mode": "lines",
         "name": "Price",
         "showlegend": false,
         "type": "scatter",
         "x": [
          "2023-03-21T00:00:00",
          "2023-03-22T00:00:00"
         ],
         "y": [
          398.9100036621094,
          392.1099853515625
         ]
        },
        {
         "line": {
          "color": "red",
          "width": 2
         },
         "mode": "lines",
         "name": "Price",
         "showlegend": false,
         "type": "scatter",
         "x": [
          "2023-03-22T00:00:00",
          "2023-03-23T00:00:00"
         ],
         "y": [
          392.1099853515625,
          393.1700134277344
         ]
        },
        {
         "line": {
          "color": "red",
          "width": 2
         },
         "mode": "lines",
         "name": "Price",
         "showlegend": false,
         "type": "scatter",
         "x": [
          "2023-03-23T00:00:00",
          "2023-03-24T00:00:00"
         ],
         "y": [
          393.1700134277344,
          395.75
         ]
        },
        {
         "line": {
          "color": "red",
          "width": 2
         },
         "mode": "lines",
         "name": "Price",
         "showlegend": false,
         "type": "scatter",
         "x": [
          "2023-03-24T00:00:00",
          "2023-03-27T00:00:00"
         ],
         "y": [
          395.75,
          396.489990234375
         ]
        },
        {
         "line": {
          "color": "red",
          "width": 2
         },
         "mode": "lines",
         "name": "Price",
         "showlegend": false,
         "type": "scatter",
         "x": [
          "2023-03-27T00:00:00",
          "2023-03-28T00:00:00"
         ],
         "y": [
          396.489990234375,
          395.6000061035156
         ]
        },
        {
         "line": {
          "color": "red",
          "width": 2
         },
         "mode": "lines",
         "name": "Price",
         "showlegend": false,
         "type": "scatter",
         "x": [
          "2023-03-28T00:00:00",
          "2023-03-29T00:00:00"
         ],
         "y": [
          395.6000061035156,
          401.3500061035156
         ]
        },
        {
         "line": {
          "color": "red",
          "width": 2
         },
         "mode": "lines",
         "name": "Price",
         "showlegend": false,
         "type": "scatter",
         "x": [
          "2023-03-29T00:00:00",
          "2023-03-30T00:00:00"
         ],
         "y": [
          401.3500061035156,
          403.70001220703125
         ]
        },
        {
         "line": {
          "color": "red",
          "width": 2
         },
         "mode": "lines",
         "name": "Price",
         "showlegend": false,
         "type": "scatter",
         "x": [
          "2023-03-30T00:00:00",
          "2023-03-31T00:00:00"
         ],
         "y": [
          403.70001220703125,
          409.3900146484375
         ]
        },
        {
         "line": {
          "color": "green",
          "width": 2
         },
         "mode": "lines",
         "name": "Price",
         "showlegend": false,
         "type": "scatter",
         "x": [
          "2023-03-31T00:00:00",
          "2023-04-03T00:00:00"
         ],
         "y": [
          409.3900146484375,
          410.95001220703125
         ]
        },
        {
         "line": {
          "color": "green",
          "width": 2
         },
         "mode": "lines",
         "name": "Price",
         "showlegend": false,
         "type": "scatter",
         "x": [
          "2023-04-03T00:00:00",
          "2023-04-04T00:00:00"
         ],
         "y": [
          410.95001220703125,
          408.6700134277344
         ]
        },
        {
         "line": {
          "color": "green",
          "width": 2
         },
         "mode": "lines",
         "name": "Price",
         "showlegend": false,
         "type": "scatter",
         "x": [
          "2023-04-04T00:00:00",
          "2023-04-05T00:00:00"
         ],
         "y": [
          408.6700134277344,
          407.6000061035156
         ]
        },
        {
         "line": {
          "color": "green",
          "width": 2
         },
         "mode": "lines",
         "name": "Price",
         "showlegend": false,
         "type": "scatter",
         "x": [
          "2023-04-05T00:00:00",
          "2023-04-06T00:00:00"
         ],
         "y": [
          407.6000061035156,
          409.19000244140625
         ]
        },
        {
         "line": {
          "color": "green",
          "width": 2
         },
         "mode": "lines",
         "name": "Price",
         "showlegend": false,
         "type": "scatter",
         "x": [
          "2023-04-06T00:00:00",
          "2023-04-10T00:00:00"
         ],
         "y": [
          409.19000244140625,
          409.6099853515625
         ]
        },
        {
         "line": {
          "color": "green",
          "width": 2
         },
         "mode": "lines",
         "name": "Price",
         "showlegend": false,
         "type": "scatter",
         "x": [
          "2023-04-10T00:00:00",
          "2023-04-11T00:00:00"
         ],
         "y": [
          409.6099853515625,
          409.7200012207031
         ]
        },
        {
         "line": {
          "color": "green",
          "width": 2
         },
         "mode": "lines",
         "name": "Price",
         "showlegend": false,
         "type": "scatter",
         "x": [
          "2023-04-11T00:00:00",
          "2023-04-12T00:00:00"
         ],
         "y": [
          409.7200012207031,
          408.04998779296875
         ]
        },
        {
         "line": {
          "color": "green",
          "width": 2
         },
         "mode": "lines",
         "name": "Price",
         "showlegend": false,
         "type": "scatter",
         "x": [
          "2023-04-12T00:00:00",
          "2023-04-13T00:00:00"
         ],
         "y": [
          408.04998779296875,
          413.4700012207031
         ]
        },
        {
         "line": {
          "color": "green",
          "width": 2
         },
         "mode": "lines",
         "name": "Price",
         "showlegend": false,
         "type": "scatter",
         "x": [
          "2023-04-13T00:00:00",
          "2023-04-14T00:00:00"
         ],
         "y": [
          413.4700012207031,
          412.4599914550781
         ]
        },
        {
         "line": {
          "color": "green",
          "width": 2
         },
         "mode": "lines",
         "name": "Price",
         "showlegend": false,
         "type": "scatter",
         "x": [
          "2023-04-14T00:00:00",
          "2023-04-17T00:00:00"
         ],
         "y": [
          412.4599914550781,
          413.94000244140625
         ]
        },
        {
         "line": {
          "color": "green",
          "width": 2
         },
         "mode": "lines",
         "name": "Price",
         "showlegend": false,
         "type": "scatter",
         "x": [
          "2023-04-17T00:00:00",
          "2023-04-18T00:00:00"
         ],
         "y": [
          413.94000244140625,
          414.2099914550781
         ]
        },
        {
         "line": {
          "color": "green",
          "width": 2
         },
         "mode": "lines",
         "name": "Price",
         "showlegend": false,
         "type": "scatter",
         "x": [
          "2023-04-18T00:00:00",
          "2023-04-19T00:00:00"
         ],
         "y": [
          414.2099914550781,
          414.1400146484375
         ]
        },
        {
         "line": {
          "color": "green",
          "width": 2
         },
         "mode": "lines",
         "name": "Price",
         "showlegend": false,
         "type": "scatter",
         "x": [
          "2023-04-19T00:00:00",
          "2023-04-20T00:00:00"
         ],
         "y": [
          414.1400146484375,
          411.8800048828125
         ]
        },
        {
         "line": {
          "color": "green",
          "width": 2
         },
         "mode": "lines",
         "name": "Price",
         "showlegend": false,
         "type": "scatter",
         "x": [
          "2023-04-20T00:00:00",
          "2023-04-21T00:00:00"
         ],
         "y": [
          411.8800048828125,
          412.20001220703125
         ]
        },
        {
         "line": {
          "color": "green",
          "width": 2
         },
         "mode": "lines",
         "name": "Price",
         "showlegend": false,
         "type": "scatter",
         "x": [
          "2023-04-21T00:00:00",
          "2023-04-24T00:00:00"
         ],
         "y": [
          412.20001220703125,
          412.6300048828125
         ]
        },
        {
         "line": {
          "color": "green",
          "width": 2
         },
         "mode": "lines",
         "name": "Price",
         "showlegend": false,
         "type": "scatter",
         "x": [
          "2023-04-24T00:00:00",
          "2023-04-25T00:00:00"
         ],
         "y": [
          412.6300048828125,
          406.0799865722656
         ]
        },
        {
         "line": {
          "color": "green",
          "width": 2
         },
         "mode": "lines",
         "name": "Price",
         "showlegend": false,
         "type": "scatter",
         "x": [
          "2023-04-25T00:00:00",
          "2023-04-26T00:00:00"
         ],
         "y": [
          406.0799865722656,
          404.3599853515625
         ]
        },
        {
         "line": {
          "color": "green",
          "width": 2
         },
         "mode": "lines",
         "name": "Price",
         "showlegend": false,
         "type": "scatter",
         "x": [
          "2023-04-26T00:00:00",
          "2023-04-27T00:00:00"
         ],
         "y": [
          404.3599853515625,
          412.4100036621094
         ]
        },
        {
         "line": {
          "color": "green",
          "width": 2
         },
         "mode": "lines",
         "name": "Price",
         "showlegend": false,
         "type": "scatter",
         "x": [
          "2023-04-27T00:00:00",
          "2023-04-28T00:00:00"
         ],
         "y": [
          412.4100036621094,
          415.92999267578125
         ]
        },
        {
         "line": {
          "color": "green",
          "width": 2
         },
         "mode": "lines",
         "name": "Price",
         "showlegend": false,
         "type": "scatter",
         "x": [
          "2023-04-28T00:00:00",
          "2023-05-01T00:00:00"
         ],
         "y": [
          415.92999267578125,
          415.510009765625
         ]
        },
        {
         "line": {
          "color": "green",
          "width": 2
         },
         "mode": "lines",
         "name": "Price",
         "showlegend": false,
         "type": "scatter",
         "x": [
          "2023-05-01T00:00:00",
          "2023-05-02T00:00:00"
         ],
         "y": [
          415.510009765625,
          410.8399963378906
         ]
        },
        {
         "line": {
          "color": "green",
          "width": 2
         },
         "mode": "lines",
         "name": "Price",
         "showlegend": false,
         "type": "scatter",
         "x": [
          "2023-05-02T00:00:00",
          "2023-05-03T00:00:00"
         ],
         "y": [
          410.8399963378906,
          408.0199890136719
         ]
        },
        {
         "line": {
          "color": "green",
          "width": 2
         },
         "mode": "lines",
         "name": "Price",
         "showlegend": false,
         "type": "scatter",
         "x": [
          "2023-05-03T00:00:00",
          "2023-05-04T00:00:00"
         ],
         "y": [
          408.0199890136719,
          405.1300048828125
         ]
        },
        {
         "line": {
          "color": "green",
          "width": 2
         },
         "mode": "lines",
         "name": "Price",
         "showlegend": false,
         "type": "scatter",
         "x": [
          "2023-05-04T00:00:00",
          "2023-05-05T00:00:00"
         ],
         "y": [
          405.1300048828125,
          412.6300048828125
         ]
        },
        {
         "line": {
          "color": "green",
          "width": 2
         },
         "mode": "lines",
         "name": "Price",
         "showlegend": false,
         "type": "scatter",
         "x": [
          "2023-05-05T00:00:00",
          "2023-05-08T00:00:00"
         ],
         "y": [
          412.6300048828125,
          412.739990234375
         ]
        },
        {
         "line": {
          "color": "green",
          "width": 2
         },
         "mode": "lines",
         "name": "Price",
         "showlegend": false,
         "type": "scatter",
         "x": [
          "2023-05-08T00:00:00",
          "2023-05-09T00:00:00"
         ],
         "y": [
          412.739990234375,
          410.92999267578125
         ]
        },
        {
         "line": {
          "color": "green",
          "width": 2
         },
         "mode": "lines",
         "name": "Price",
         "showlegend": false,
         "type": "scatter",
         "x": [
          "2023-05-09T00:00:00",
          "2023-05-10T00:00:00"
         ],
         "y": [
          410.92999267578125,
          412.8500061035156
         ]
        },
        {
         "line": {
          "color": "green",
          "width": 2
         },
         "mode": "lines",
         "name": "Price",
         "showlegend": false,
         "type": "scatter",
         "x": [
          "2023-05-10T00:00:00",
          "2023-05-11T00:00:00"
         ],
         "y": [
          412.8500061035156,
          412.1300048828125
         ]
        },
        {
         "line": {
          "color": "green",
          "width": 2
         },
         "mode": "lines",
         "name": "Price",
         "showlegend": false,
         "type": "scatter",
         "x": [
          "2023-05-11T00:00:00",
          "2023-05-12T00:00:00"
         ],
         "y": [
          412.1300048828125,
          411.5899963378906
         ]
        },
        {
         "line": {
          "color": "green",
          "width": 2
         },
         "mode": "lines",
         "name": "Price",
         "showlegend": false,
         "type": "scatter",
         "x": [
          "2023-05-12T00:00:00",
          "2023-05-15T00:00:00"
         ],
         "y": [
          411.5899963378906,
          413.010009765625
         ]
        },
        {
         "line": {
          "color": "green",
          "width": 2
         },
         "mode": "lines",
         "name": "Price",
         "showlegend": false,
         "type": "scatter",
         "x": [
          "2023-05-15T00:00:00",
          "2023-05-16T00:00:00"
         ],
         "y": [
          413.010009765625,
          410.25
         ]
        },
        {
         "line": {
          "color": "red",
          "width": 2
         },
         "mode": "lines",
         "name": "Price",
         "showlegend": false,
         "type": "scatter",
         "x": [
          "2023-05-16T00:00:00",
          "2023-05-17T00:00:00"
         ],
         "y": [
          410.25,
          415.2300109863281
         ]
        },
        {
         "line": {
          "color": "green",
          "width": 2
         },
         "mode": "lines",
         "name": "Price",
         "showlegend": false,
         "type": "scatter",
         "x": [
          "2023-05-17T00:00:00",
          "2023-05-18T00:00:00"
         ],
         "y": [
          415.2300109863281,
          419.2300109863281
         ]
        },
        {
         "line": {
          "color": "green",
          "width": 2
         },
         "mode": "lines",
         "name": "Price",
         "showlegend": false,
         "type": "scatter",
         "x": [
          "2023-05-18T00:00:00",
          "2023-05-19T00:00:00"
         ],
         "y": [
          419.2300109863281,
          418.6199951171875
         ]
        },
        {
         "line": {
          "color": "green",
          "width": 2
         },
         "mode": "lines",
         "name": "Price",
         "showlegend": false,
         "type": "scatter",
         "x": [
          "2023-05-19T00:00:00",
          "2023-05-22T00:00:00"
         ],
         "y": [
          418.6199951171875,
          418.7900085449219
         ]
        },
        {
         "line": {
          "color": "green",
          "width": 2
         },
         "mode": "lines",
         "name": "Price",
         "showlegend": false,
         "type": "scatter",
         "x": [
          "2023-05-22T00:00:00",
          "2023-05-23T00:00:00"
         ],
         "y": [
          418.7900085449219,
          414.0899963378906
         ]
        },
        {
         "line": {
          "color": "green",
          "width": 2
         },
         "mode": "lines",
         "name": "Price",
         "showlegend": false,
         "type": "scatter",
         "x": [
          "2023-05-23T00:00:00",
          "2023-05-24T00:00:00"
         ],
         "y": [
          414.0899963378906,
          411.0899963378906
         ]
        },
        {
         "line": {
          "color": "green",
          "width": 2
         },
         "mode": "lines",
         "name": "Price",
         "showlegend": false,
         "type": "scatter",
         "x": [
          "2023-05-24T00:00:00",
          "2023-05-25T00:00:00"
         ],
         "y": [
          411.0899963378906,
          414.6499938964844
         ]
        },
        {
         "line": {
          "color": "green",
          "width": 2
         },
         "mode": "lines",
         "name": "Price",
         "showlegend": false,
         "type": "scatter",
         "x": [
          "2023-05-25T00:00:00",
          "2023-05-26T00:00:00"
         ],
         "y": [
          414.6499938964844,
          420.0199890136719
         ]
        },
        {
         "line": {
          "color": "green",
          "width": 2
         },
         "mode": "lines",
         "name": "Price",
         "showlegend": false,
         "type": "scatter",
         "x": [
          "2023-05-26T00:00:00",
          "2023-05-30T00:00:00"
         ],
         "y": [
          420.0199890136719,
          420.17999267578125
         ]
        },
        {
         "line": {
          "color": "green",
          "width": 2
         },
         "mode": "lines",
         "name": "Price",
         "showlegend": false,
         "type": "scatter",
         "x": [
          "2023-05-30T00:00:00",
          "2023-05-31T00:00:00"
         ],
         "y": [
          420.17999267578125,
          417.8500061035156
         ]
        },
        {
         "line": {
          "color": "green",
          "width": 2
         },
         "mode": "lines",
         "name": "Price",
         "showlegend": false,
         "type": "scatter",
         "x": [
          "2023-05-31T00:00:00",
          "2023-06-01T00:00:00"
         ],
         "y": [
          417.8500061035156,
          421.82000732421875
         ]
        },
        {
         "line": {
          "color": "green",
          "width": 2
         },
         "mode": "lines",
         "name": "Price",
         "showlegend": false,
         "type": "scatter",
         "x": [
          "2023-06-01T00:00:00",
          "2023-06-02T00:00:00"
         ],
         "y": [
          421.82000732421875,
          427.9200134277344
         ]
        },
        {
         "line": {
          "color": "green",
          "width": 2
         },
         "mode": "lines",
         "name": "Price",
         "showlegend": false,
         "type": "scatter",
         "x": [
          "2023-06-02T00:00:00",
          "2023-06-05T00:00:00"
         ],
         "y": [
          427.9200134277344,
          427.1000061035156
         ]
        },
        {
         "line": {
          "color": "green",
          "width": 2
         },
         "mode": "lines",
         "name": "Price",
         "showlegend": false,
         "type": "scatter",
         "x": [
          "2023-06-05T00:00:00",
          "2023-06-06T00:00:00"
         ],
         "y": [
          427.1000061035156,
          428.0299987792969
         ]
        },
        {
         "line": {
          "color": "green",
          "width": 2
         },
         "mode": "lines",
         "name": "Price",
         "showlegend": false,
         "type": "scatter",
         "x": [
          "2023-06-06T00:00:00",
          "2023-06-07T00:00:00"
         ],
         "y": [
          428.0299987792969,
          426.54998779296875
         ]
        },
        {
         "line": {
          "color": "green",
          "width": 2
         },
         "mode": "lines",
         "name": "Price",
         "showlegend": false,
         "type": "scatter",
         "x": [
          "2023-06-07T00:00:00",
          "2023-06-08T00:00:00"
         ],
         "y": [
          426.54998779296875,
          429.1300048828125
         ]
        },
        {
         "line": {
          "color": "green",
          "width": 2
         },
         "mode": "lines",
         "name": "Price",
         "showlegend": false,
         "type": "scatter",
         "x": [
          "2023-06-08T00:00:00",
          "2023-06-09T00:00:00"
         ],
         "y": [
          429.1300048828125,
          429.8999938964844
         ]
        },
        {
         "line": {
          "color": "green",
          "width": 2
         },
         "mode": "lines",
         "name": "Price",
         "showlegend": false,
         "type": "scatter",
         "x": [
          "2023-06-09T00:00:00",
          "2023-06-12T00:00:00"
         ],
         "y": [
          429.8999938964844,
          433.79998779296875
         ]
        },
        {
         "line": {
          "color": "green",
          "width": 2
         },
         "mode": "lines",
         "name": "Price",
         "showlegend": false,
         "type": "scatter",
         "x": [
          "2023-06-12T00:00:00",
          "2023-06-13T00:00:00"
         ],
         "y": [
          433.79998779296875,
          436.6600036621094
         ]
        },
        {
         "line": {
          "color": "green",
          "width": 2
         },
         "mode": "lines",
         "name": "Price",
         "showlegend": false,
         "type": "scatter",
         "x": [
          "2023-06-13T00:00:00",
          "2023-06-14T00:00:00"
         ],
         "y": [
          436.6600036621094,
          437.17999267578125
         ]
        },
        {
         "line": {
          "color": "green",
          "width": 2
         },
         "mode": "lines",
         "name": "Price",
         "showlegend": false,
         "type": "scatter",
         "x": [
          "2023-06-14T00:00:00",
          "2023-06-15T00:00:00"
         ],
         "y": [
          437.17999267578125,
          442.6000061035156
         ]
        },
        {
         "line": {
          "color": "green",
          "width": 2
         },
         "mode": "lines",
         "name": "Price",
         "showlegend": false,
         "type": "scatter",
         "x": [
          "2023-06-15T00:00:00",
          "2023-06-16T00:00:00"
         ],
         "y": [
          442.6000061035156,
          439.4599914550781
         ]
        },
        {
         "line": {
          "color": "green",
          "width": 2
         },
         "mode": "lines",
         "name": "Price",
         "showlegend": false,
         "type": "scatter",
         "x": [
          "2023-06-16T00:00:00",
          "2023-06-20T00:00:00"
         ],
         "y": [
          439.4599914550781,
          437.17999267578125
         ]
        },
        {
         "line": {
          "color": "green",
          "width": 2
         },
         "mode": "lines",
         "name": "Price",
         "showlegend": false,
         "type": "scatter",
         "x": [
          "2023-06-20T00:00:00",
          "2023-06-21T00:00:00"
         ],
         "y": [
          437.17999267578125,
          434.94000244140625
         ]
        },
        {
         "line": {
          "color": "green",
          "width": 2
         },
         "mode": "lines",
         "name": "Price",
         "showlegend": false,
         "type": "scatter",
         "x": [
          "2023-06-21T00:00:00",
          "2023-06-22T00:00:00"
         ],
         "y": [
          434.94000244140625,
          436.510009765625
         ]
        },
        {
         "line": {
          "color": "green",
          "width": 2
         },
         "mode": "lines",
         "name": "Price",
         "showlegend": false,
         "type": "scatter",
         "x": [
          "2023-06-22T00:00:00",
          "2023-06-23T00:00:00"
         ],
         "y": [
          436.510009765625,
          433.2099914550781
         ]
        },
        {
         "line": {
          "color": "green",
          "width": 2
         },
         "mode": "lines",
         "name": "Price",
         "showlegend": false,
         "type": "scatter",
         "x": [
          "2023-06-23T00:00:00",
          "2023-06-26T00:00:00"
         ],
         "y": [
          433.2099914550781,
          431.44000244140625
         ]
        },
        {
         "line": {
          "color": "green",
          "width": 2
         },
         "mode": "lines",
         "name": "Price",
         "showlegend": false,
         "type": "scatter",
         "x": [
          "2023-06-26T00:00:00",
          "2023-06-27T00:00:00"
         ],
         "y": [
          431.44000244140625,
          436.1700134277344
         ]
        },
        {
         "line": {
          "color": "green",
          "width": 2
         },
         "mode": "lines",
         "name": "Price",
         "showlegend": false,
         "type": "scatter",
         "x": [
          "2023-06-27T00:00:00",
          "2023-06-28T00:00:00"
         ],
         "y": [
          436.1700134277344,
          436.3900146484375
         ]
        },
        {
         "line": {
          "color": "green",
          "width": 2
         },
         "mode": "lines",
         "name": "Price",
         "showlegend": false,
         "type": "scatter",
         "x": [
          "2023-06-28T00:00:00",
          "2023-06-29T00:00:00"
         ],
         "y": [
          436.3900146484375,
          438.1099853515625
         ]
        },
        {
         "line": {
          "color": "green",
          "width": 2
         },
         "mode": "lines",
         "name": "Price",
         "showlegend": false,
         "type": "scatter",
         "x": [
          "2023-06-29T00:00:00",
          "2023-06-30T00:00:00"
         ],
         "y": [
          438.1099853515625,
          443.2799987792969
         ]
        },
        {
         "line": {
          "color": "green",
          "width": 2
         },
         "mode": "lines",
         "name": "Price",
         "showlegend": false,
         "type": "scatter",
         "x": [
          "2023-06-30T00:00:00",
          "2023-07-03T00:00:00"
         ],
         "y": [
          443.2799987792969,
          443.7900085449219
         ]
        },
        {
         "line": {
          "color": "green",
          "width": 2
         },
         "mode": "lines",
         "name": "Price",
         "showlegend": false,
         "type": "scatter",
         "x": [
          "2023-07-03T00:00:00",
          "2023-07-05T00:00:00"
         ],
         "y": [
          443.7900085449219,
          443.1300048828125
         ]
        },
        {
         "line": {
          "color": "green",
          "width": 2
         },
         "mode": "lines",
         "name": "Price",
         "showlegend": false,
         "type": "scatter",
         "x": [
          "2023-07-05T00:00:00",
          "2023-07-06T00:00:00"
         ],
         "y": [
          443.1300048828125,
          439.6600036621094
         ]
        },
        {
         "line": {
          "color": "green",
          "width": 2
         },
         "mode": "lines",
         "name": "Price",
         "showlegend": false,
         "type": "scatter",
         "x": [
          "2023-07-06T00:00:00",
          "2023-07-07T00:00:00"
         ],
         "y": [
          439.6600036621094,
          438.54998779296875
         ]
        },
        {
         "line": {
          "color": "green",
          "width": 2
         },
         "mode": "lines",
         "name": "Price",
         "showlegend": false,
         "type": "scatter",
         "x": [
          "2023-07-07T00:00:00",
          "2023-07-10T00:00:00"
         ],
         "y": [
          438.54998779296875,
          439.6600036621094
         ]
        },
        {
         "line": {
          "color": "green",
          "width": 2
         },
         "mode": "lines",
         "name": "Price",
         "showlegend": false,
         "type": "scatter",
         "x": [
          "2023-07-10T00:00:00",
          "2023-07-11T00:00:00"
         ],
         "y": [
          439.6600036621094,
          442.4599914550781
         ]
        },
        {
         "line": {
          "color": "green",
          "width": 2
         },
         "mode": "lines",
         "name": "Price",
         "showlegend": false,
         "type": "scatter",
         "x": [
          "2023-07-11T00:00:00",
          "2023-07-12T00:00:00"
         ],
         "y": [
          442.4599914550781,
          446.0199890136719
         ]
        },
        {
         "line": {
          "color": "green",
          "width": 2
         },
         "mode": "lines",
         "name": "Price",
         "showlegend": false,
         "type": "scatter",
         "x": [
          "2023-07-12T00:00:00",
          "2023-07-13T00:00:00"
         ],
         "y": [
          446.0199890136719,
          449.55999755859375
         ]
        },
        {
         "line": {
          "color": "green",
          "width": 2
         },
         "mode": "lines",
         "name": "Price",
         "showlegend": false,
         "type": "scatter",
         "x": [
          "2023-07-13T00:00:00",
          "2023-07-14T00:00:00"
         ],
         "y": [
          449.55999755859375,
          449.2799987792969
         ]
        },
        {
         "line": {
          "color": "green",
          "width": 2
         },
         "mode": "lines",
         "name": "Price",
         "showlegend": false,
         "type": "scatter",
         "x": [
          "2023-07-14T00:00:00",
          "2023-07-17T00:00:00"
         ],
         "y": [
          449.2799987792969,
          450.8399963378906
         ]
        },
        {
         "line": {
          "color": "green",
          "width": 2
         },
         "mode": "lines",
         "name": "Price",
         "showlegend": false,
         "type": "scatter",
         "x": [
          "2023-07-17T00:00:00",
          "2023-07-18T00:00:00"
         ],
         "y": [
          450.8399963378906,
          454.19000244140625
         ]
        },
        {
         "line": {
          "color": "green",
          "width": 2
         },
         "mode": "lines",
         "name": "Price",
         "showlegend": false,
         "type": "scatter",
         "x": [
          "2023-07-18T00:00:00",
          "2023-07-19T00:00:00"
         ],
         "y": [
          454.19000244140625,
          455.20001220703125
         ]
        },
        {
         "line": {
          "color": "green",
          "width": 2
         },
         "mode": "lines",
         "name": "Price",
         "showlegend": false,
         "type": "scatter",
         "x": [
          "2023-07-19T00:00:00",
          "2023-07-20T00:00:00"
         ],
         "y": [
          455.20001220703125,
          452.17999267578125
         ]
        },
        {
         "line": {
          "color": "green",
          "width": 2
         },
         "mode": "lines",
         "name": "Price",
         "showlegend": false,
         "type": "scatter",
         "x": [
          "2023-07-20T00:00:00",
          "2023-07-21T00:00:00"
         ],
         "y": [
          452.17999267578125,
          452.17999267578125
         ]
        },
        {
         "line": {
          "color": "green",
          "width": 2
         },
         "mode": "lines",
         "name": "Price",
         "showlegend": false,
         "type": "scatter",
         "x": [
          "2023-07-21T00:00:00",
          "2023-07-24T00:00:00"
         ],
         "y": [
          452.17999267578125,
          454.20001220703125
         ]
        },
        {
         "line": {
          "color": "green",
          "width": 2
         },
         "mode": "lines",
         "name": "Price",
         "showlegend": false,
         "type": "scatter",
         "x": [
          "2023-07-24T00:00:00",
          "2023-07-25T00:00:00"
         ],
         "y": [
          454.20001220703125,
          455.44000244140625
         ]
        },
        {
         "line": {
          "color": "green",
          "width": 2
         },
         "mode": "lines",
         "name": "Price",
         "showlegend": false,
         "type": "scatter",
         "x": [
          "2023-07-25T00:00:00",
          "2023-07-26T00:00:00"
         ],
         "y": [
          455.44000244140625,
          455.510009765625
         ]
        },
        {
         "line": {
          "color": "green",
          "width": 2
         },
         "mode": "lines",
         "name": "Price",
         "showlegend": false,
         "type": "scatter",
         "x": [
          "2023-07-26T00:00:00",
          "2023-07-27T00:00:00"
         ],
         "y": [
          455.510009765625,
          452.489990234375
         ]
        },
        {
         "line": {
          "color": "green",
          "width": 2
         },
         "mode": "lines",
         "name": "Price",
         "showlegend": false,
         "type": "scatter",
         "x": [
          "2023-07-27T00:00:00",
          "2023-07-28T00:00:00"
         ],
         "y": [
          452.489990234375,
          456.9200134277344
         ]
        },
        {
         "line": {
          "color": "green",
          "width": 2
         },
         "mode": "lines",
         "name": "Price",
         "showlegend": false,
         "type": "scatter",
         "x": [
          "2023-07-28T00:00:00",
          "2023-07-31T00:00:00"
         ],
         "y": [
          456.9200134277344,
          457.7900085449219
         ]
        },
        {
         "line": {
          "color": "green",
          "width": 2
         },
         "mode": "lines",
         "name": "Price",
         "showlegend": false,
         "type": "scatter",
         "x": [
          "2023-07-31T00:00:00",
          "2023-08-01T00:00:00"
         ],
         "y": [
          457.7900085449219,
          456.4800109863281
         ]
        },
        {
         "line": {
          "color": "green",
          "width": 2
         },
         "mode": "lines",
         "name": "Price",
         "showlegend": false,
         "type": "scatter",
         "x": [
          "2023-08-01T00:00:00",
          "2023-08-02T00:00:00"
         ],
         "y": [
          456.4800109863281,
          450.1300048828125
         ]
        },
        {
         "line": {
          "color": "green",
          "width": 2
         },
         "mode": "lines",
         "name": "Price",
         "showlegend": false,
         "type": "scatter",
         "x": [
          "2023-08-02T00:00:00",
          "2023-08-03T00:00:00"
         ],
         "y": [
          450.1300048828125,
          448.8399963378906
         ]
        },
        {
         "line": {
          "color": "green",
          "width": 2
         },
         "mode": "lines",
         "name": "Price",
         "showlegend": false,
         "type": "scatter",
         "x": [
          "2023-08-03T00:00:00",
          "2023-08-04T00:00:00"
         ],
         "y": [
          448.8399963378906,
          446.80999755859375
         ]
        },
        {
         "line": {
          "color": "green",
          "width": 2
         },
         "mode": "lines",
         "name": "Price",
         "showlegend": false,
         "type": "scatter",
         "x": [
          "2023-08-04T00:00:00",
          "2023-08-07T00:00:00"
         ],
         "y": [
          446.80999755859375,
          450.7099914550781
         ]
        },
        {
         "line": {
          "color": "green",
          "width": 2
         },
         "mode": "lines",
         "name": "Price",
         "showlegend": false,
         "type": "scatter",
         "x": [
          "2023-08-07T00:00:00",
          "2023-08-08T00:00:00"
         ],
         "y": [
          450.7099914550781,
          448.75
         ]
        },
        {
         "line": {
          "color": "green",
          "width": 2
         },
         "mode": "lines",
         "name": "Price",
         "showlegend": false,
         "type": "scatter",
         "x": [
          "2023-08-08T00:00:00",
          "2023-08-09T00:00:00"
         ],
         "y": [
          448.75,
          445.75
         ]
        },
        {
         "line": {
          "color": "green",
          "width": 2
         },
         "mode": "lines",
         "name": "Price",
         "showlegend": false,
         "type": "scatter",
         "x": [
          "2023-08-09T00:00:00",
          "2023-08-10T00:00:00"
         ],
         "y": [
          445.75,
          445.9100036621094
         ]
        },
        {
         "line": {
          "color": "green",
          "width": 2
         },
         "mode": "lines",
         "name": "Price",
         "showlegend": false,
         "type": "scatter",
         "x": [
          "2023-08-10T00:00:00",
          "2023-08-11T00:00:00"
         ],
         "y": [
          445.9100036621094,
          445.6499938964844
         ]
        },
        {
         "line": {
          "color": "green",
          "width": 2
         },
         "mode": "lines",
         "name": "Price",
         "showlegend": false,
         "type": "scatter",
         "x": [
          "2023-08-11T00:00:00",
          "2023-08-14T00:00:00"
         ],
         "y": [
          445.6499938964844,
          448.1099853515625
         ]
        },
        {
         "line": {
          "color": "green",
          "width": 2
         },
         "mode": "lines",
         "name": "Price",
         "showlegend": false,
         "type": "scatter",
         "x": [
          "2023-08-14T00:00:00",
          "2023-08-15T00:00:00"
         ],
         "y": [
          448.1099853515625,
          442.8900146484375
         ]
        },
        {
         "line": {
          "color": "red",
          "width": 2
         },
         "mode": "lines",
         "name": "Price",
         "showlegend": false,
         "type": "scatter",
         "x": [
          "2023-08-15T00:00:00",
          "2023-08-16T00:00:00"
         ],
         "y": [
          442.8900146484375,
          439.6400146484375
         ]
        },
        {
         "line": {
          "color": "red",
          "width": 2
         },
         "mode": "lines",
         "name": "Price",
         "showlegend": false,
         "type": "scatter",
         "x": [
          "2023-08-16T00:00:00",
          "2023-08-17T00:00:00"
         ],
         "y": [
          439.6400146484375,
          436.2900085449219
         ]
        },
        {
         "line": {
          "color": "red",
          "width": 2
         },
         "mode": "lines",
         "name": "Price",
         "showlegend": false,
         "type": "scatter",
         "x": [
          "2023-08-17T00:00:00",
          "2023-08-18T00:00:00"
         ],
         "y": [
          436.2900085449219,
          436.5
         ]
        },
        {
         "line": {
          "color": "red",
          "width": 2
         },
         "mode": "lines",
         "name": "Price",
         "showlegend": false,
         "type": "scatter",
         "x": [
          "2023-08-18T00:00:00",
          "2023-08-21T00:00:00"
         ],
         "y": [
          436.5,
          439.3399963378906
         ]
        },
        {
         "line": {
          "color": "red",
          "width": 2
         },
         "mode": "lines",
         "name": "Price",
         "showlegend": false,
         "type": "scatter",
         "x": [
          "2023-08-21T00:00:00",
          "2023-08-22T00:00:00"
         ],
         "y": [
          439.3399963378906,
          438.1499938964844
         ]
        },
        {
         "line": {
          "color": "red",
          "width": 2
         },
         "mode": "lines",
         "name": "Price",
         "showlegend": false,
         "type": "scatter",
         "x": [
          "2023-08-22T00:00:00",
          "2023-08-23T00:00:00"
         ],
         "y": [
          438.1499938964844,
          443.0299987792969
         ]
        },
        {
         "line": {
          "color": "red",
          "width": 2
         },
         "mode": "lines",
         "name": "Price",
         "showlegend": false,
         "type": "scatter",
         "x": [
          "2023-08-23T00:00:00",
          "2023-08-24T00:00:00"
         ],
         "y": [
          443.0299987792969,
          436.8900146484375
         ]
        },
        {
         "line": {
          "color": "red",
          "width": 2
         },
         "mode": "lines",
         "name": "Price",
         "showlegend": false,
         "type": "scatter",
         "x": [
          "2023-08-24T00:00:00",
          "2023-08-25T00:00:00"
         ],
         "y": [
          436.8900146484375,
          439.9700012207031
         ]
        },
        {
         "line": {
          "color": "red",
          "width": 2
         },
         "mode": "lines",
         "name": "Price",
         "showlegend": false,
         "type": "scatter",
         "x": [
          "2023-08-25T00:00:00",
          "2023-08-28T00:00:00"
         ],
         "y": [
          439.9700012207031,
          442.760009765625
         ]
        },
        {
         "line": {
          "color": "red",
          "width": 2
         },
         "mode": "lines",
         "name": "Price",
         "showlegend": false,
         "type": "scatter",
         "x": [
          "2023-08-28T00:00:00",
          "2023-08-29T00:00:00"
         ],
         "y": [
          442.760009765625,
          449.1600036621094
         ]
        },
        {
         "line": {
          "color": "red",
          "width": 2
         },
         "mode": "lines",
         "name": "Price",
         "showlegend": false,
         "type": "scatter",
         "x": [
          "2023-08-29T00:00:00",
          "2023-08-30T00:00:00"
         ],
         "y": [
          449.1600036621094,
          451.010009765625
         ]
        },
        {
         "line": {
          "color": "red",
          "width": 2
         },
         "mode": "lines",
         "name": "Price",
         "showlegend": false,
         "type": "scatter",
         "x": [
          "2023-08-30T00:00:00",
          "2023-08-31T00:00:00"
         ],
         "y": [
          451.010009765625,
          450.3500061035156
         ]
        },
        {
         "line": {
          "color": "red",
          "width": 2
         },
         "mode": "lines",
         "name": "Price",
         "showlegend": false,
         "type": "scatter",
         "x": [
          "2023-08-31T00:00:00",
          "2023-09-01T00:00:00"
         ],
         "y": [
          450.3500061035156,
          451.19000244140625
         ]
        },
        {
         "line": {
          "color": "red",
          "width": 2
         },
         "mode": "lines",
         "name": "Price",
         "showlegend": false,
         "type": "scatter",
         "x": [
          "2023-09-01T00:00:00",
          "2023-09-05T00:00:00"
         ],
         "y": [
          451.19000244140625,
          449.239990234375
         ]
        },
        {
         "line": {
          "color": "red",
          "width": 2
         },
         "mode": "lines",
         "name": "Price",
         "showlegend": false,
         "type": "scatter",
         "x": [
          "2023-09-05T00:00:00",
          "2023-09-06T00:00:00"
         ],
         "y": [
          449.239990234375,
          446.2200012207031
         ]
        },
        {
         "line": {
          "color": "red",
          "width": 2
         },
         "mode": "lines",
         "name": "Price",
         "showlegend": false,
         "type": "scatter",
         "x": [
          "2023-09-06T00:00:00",
          "2023-09-07T00:00:00"
         ],
         "y": [
          446.2200012207031,
          444.8500061035156
         ]
        },
        {
         "line": {
          "color": "red",
          "width": 2
         },
         "mode": "lines",
         "name": "Price",
         "showlegend": false,
         "type": "scatter",
         "x": [
          "2023-09-07T00:00:00",
          "2023-09-08T00:00:00"
         ],
         "y": [
          444.8500061035156,
          445.5199890136719
         ]
        },
        {
         "line": {
          "color": "red",
          "width": 2
         },
         "mode": "lines",
         "name": "Price",
         "showlegend": false,
         "type": "scatter",
         "x": [
          "2023-09-08T00:00:00",
          "2023-09-11T00:00:00"
         ],
         "y": [
          445.5199890136719,
          448.45001220703125
         ]
        },
        {
         "line": {
          "color": "red",
          "width": 2
         },
         "mode": "lines",
         "name": "Price",
         "showlegend": false,
         "type": "scatter",
         "x": [
          "2023-09-11T00:00:00",
          "2023-09-12T00:00:00"
         ],
         "y": [
          448.45001220703125,
          445.989990234375
         ]
        },
        {
         "line": {
          "color": "red",
          "width": 2
         },
         "mode": "lines",
         "name": "Price",
         "showlegend": false,
         "type": "scatter",
         "x": [
          "2023-09-12T00:00:00",
          "2023-09-13T00:00:00"
         ],
         "y": [
          445.989990234375,
          446.510009765625
         ]
        },
        {
         "line": {
          "color": "red",
          "width": 2
         },
         "mode": "lines",
         "name": "Price",
         "showlegend": false,
         "type": "scatter",
         "x": [
          "2023-09-13T00:00:00",
          "2023-09-14T00:00:00"
         ],
         "y": [
          446.510009765625,
          450.3599853515625
         ]
        },
        {
         "line": {
          "color": "green",
          "width": 2
         },
         "mode": "lines",
         "name": "Price",
         "showlegend": false,
         "type": "scatter",
         "x": [
          "2023-09-14T00:00:00",
          "2023-09-15T00:00:00"
         ],
         "y": [
          450.3599853515625,
          443.3699951171875
         ]
        },
        {
         "line": {
          "color": "red",
          "width": 2
         },
         "mode": "lines",
         "name": "Price",
         "showlegend": false,
         "type": "scatter",
         "x": [
          "2023-09-15T00:00:00",
          "2023-09-18T00:00:00"
         ],
         "y": [
          443.3699951171875,
          443.6300048828125
         ]
        },
        {
         "line": {
          "color": "red",
          "width": 2
         },
         "mode": "lines",
         "name": "Price",
         "showlegend": false,
         "type": "scatter",
         "x": [
          "2023-09-18T00:00:00",
          "2023-09-19T00:00:00"
         ],
         "y": [
          443.6300048828125,
          442.7099914550781
         ]
        },
        {
         "line": {
          "color": "red",
          "width": 2
         },
         "mode": "lines",
         "name": "Price",
         "showlegend": false,
         "type": "scatter",
         "x": [
          "2023-09-19T00:00:00",
          "2023-09-20T00:00:00"
         ],
         "y": [
          442.7099914550781,
          438.6400146484375
         ]
        },
        {
         "line": {
          "color": "red",
          "width": 2
         },
         "mode": "lines",
         "name": "Price",
         "showlegend": false,
         "type": "scatter",
         "x": [
          "2023-09-20T00:00:00",
          "2023-09-21T00:00:00"
         ],
         "y": [
          438.6400146484375,
          431.3900146484375
         ]
        },
        {
         "line": {
          "color": "red",
          "width": 2
         },
         "mode": "lines",
         "name": "Price",
         "showlegend": false,
         "type": "scatter",
         "x": [
          "2023-09-21T00:00:00",
          "2023-09-22T00:00:00"
         ],
         "y": [
          431.3900146484375,
          430.4200134277344
         ]
        },
        {
         "line": {
          "color": "red",
          "width": 2
         },
         "mode": "lines",
         "name": "Price",
         "showlegend": false,
         "type": "scatter",
         "x": [
          "2023-09-22T00:00:00",
          "2023-09-25T00:00:00"
         ],
         "y": [
          430.4200134277344,
          432.2300109863281
         ]
        },
        {
         "line": {
          "color": "red",
          "width": 2
         },
         "mode": "lines",
         "name": "Price",
         "showlegend": false,
         "type": "scatter",
         "x": [
          "2023-09-25T00:00:00",
          "2023-09-26T00:00:00"
         ],
         "y": [
          432.2300109863281,
          425.8800048828125
         ]
        },
        {
         "line": {
          "color": "red",
          "width": 2
         },
         "mode": "lines",
         "name": "Price",
         "showlegend": false,
         "type": "scatter",
         "x": [
          "2023-09-26T00:00:00",
          "2023-09-27T00:00:00"
         ],
         "y": [
          425.8800048828125,
          426.04998779296875
         ]
        },
        {
         "line": {
          "color": "red",
          "width": 2
         },
         "mode": "lines",
         "name": "Price",
         "showlegend": false,
         "type": "scatter",
         "x": [
          "2023-09-27T00:00:00",
          "2023-09-28T00:00:00"
         ],
         "y": [
          426.04998779296875,
          428.5199890136719
         ]
        },
        {
         "line": {
          "color": "red",
          "width": 2
         },
         "mode": "lines",
         "name": "Price",
         "showlegend": false,
         "type": "scatter",
         "x": [
          "2023-09-28T00:00:00",
          "2023-09-29T00:00:00"
         ],
         "y": [
          428.5199890136719,
          427.4800109863281
         ]
        },
        {
         "line": {
          "color": "red",
          "width": 2
         },
         "mode": "lines",
         "name": "Price",
         "showlegend": false,
         "type": "scatter",
         "x": [
          "2023-09-29T00:00:00",
          "2023-10-02T00:00:00"
         ],
         "y": [
          427.4800109863281,
          427.30999755859375
         ]
        },
        {
         "line": {
          "color": "red",
          "width": 2
         },
         "mode": "lines",
         "name": "Price",
         "showlegend": false,
         "type": "scatter",
         "x": [
          "2023-10-02T00:00:00",
          "2023-10-03T00:00:00"
         ],
         "y": [
          427.30999755859375,
          421.5899963378906
         ]
        },
        {
         "line": {
          "color": "red",
          "width": 2
         },
         "mode": "lines",
         "name": "Price",
         "showlegend": false,
         "type": "scatter",
         "x": [
          "2023-10-03T00:00:00",
          "2023-10-04T00:00:00"
         ],
         "y": [
          421.5899963378906,
          424.6600036621094
         ]
        },
        {
         "line": {
          "color": "red",
          "width": 2
         },
         "mode": "lines",
         "name": "Price",
         "showlegend": false,
         "type": "scatter",
         "x": [
          "2023-10-04T00:00:00",
          "2023-10-05T00:00:00"
         ],
         "y": [
          424.6600036621094,
          424.5
         ]
        },
        {
         "line": {
          "color": "red",
          "width": 2
         },
         "mode": "lines",
         "name": "Price",
         "showlegend": false,
         "type": "scatter",
         "x": [
          "2023-10-05T00:00:00",
          "2023-10-06T00:00:00"
         ],
         "y": [
          424.5,
          429.5400085449219
         ]
        },
        {
         "line": {
          "color": "red",
          "width": 2
         },
         "mode": "lines",
         "name": "Price",
         "showlegend": false,
         "type": "scatter",
         "x": [
          "2023-10-06T00:00:00",
          "2023-10-09T00:00:00"
         ],
         "y": [
          429.5400085449219,
          432.2900085449219
         ]
        },
        {
         "line": {
          "color": "red",
          "width": 2
         },
         "mode": "lines",
         "name": "Price",
         "showlegend": false,
         "type": "scatter",
         "x": [
          "2023-10-09T00:00:00",
          "2023-10-10T00:00:00"
         ],
         "y": [
          432.2900085449219,
          434.5400085449219
         ]
        },
        {
         "line": {
          "color": "red",
          "width": 2
         },
         "mode": "lines",
         "name": "Price",
         "showlegend": false,
         "type": "scatter",
         "x": [
          "2023-10-10T00:00:00",
          "2023-10-11T00:00:00"
         ],
         "y": [
          434.5400085449219,
          436.32000732421875
         ]
        },
        {
         "line": {
          "color": "red",
          "width": 2
         },
         "mode": "lines",
         "name": "Price",
         "showlegend": false,
         "type": "scatter",
         "x": [
          "2023-10-11T00:00:00",
          "2023-10-12T00:00:00"
         ],
         "y": [
          436.32000732421875,
          433.6600036621094
         ]
        },
        {
         "line": {
          "color": "red",
          "width": 2
         },
         "mode": "lines",
         "name": "Price",
         "showlegend": false,
         "type": "scatter",
         "x": [
          "2023-10-12T00:00:00",
          "2023-10-13T00:00:00"
         ],
         "y": [
          433.6600036621094,
          431.5
         ]
        },
        {
         "line": {
          "color": "red",
          "width": 2
         },
         "mode": "lines",
         "name": "Price",
         "showlegend": false,
         "type": "scatter",
         "x": [
          "2023-10-13T00:00:00",
          "2023-10-16T00:00:00"
         ],
         "y": [
          431.5,
          436.0400085449219
         ]
        },
        {
         "line": {
          "color": "red",
          "width": 2
         },
         "mode": "lines",
         "name": "Price",
         "showlegend": false,
         "type": "scatter",
         "x": [
          "2023-10-16T00:00:00",
          "2023-10-17T00:00:00"
         ],
         "y": [
          436.0400085449219,
          436.0199890136719
         ]
        },
        {
         "line": {
          "color": "red",
          "width": 2
         },
         "mode": "lines",
         "name": "Price",
         "showlegend": false,
         "type": "scatter",
         "x": [
          "2023-10-17T00:00:00",
          "2023-10-18T00:00:00"
         ],
         "y": [
          436.0199890136719,
          430.2099914550781
         ]
        },
        {
         "line": {
          "color": "red",
          "width": 2
         },
         "mode": "lines",
         "name": "Price",
         "showlegend": false,
         "type": "scatter",
         "x": [
          "2023-10-18T00:00:00",
          "2023-10-19T00:00:00"
         ],
         "y": [
          430.2099914550781,
          426.42999267578125
         ]
        },
        {
         "line": {
          "color": "red",
          "width": 2
         },
         "mode": "lines",
         "name": "Price",
         "showlegend": false,
         "type": "scatter",
         "x": [
          "2023-10-19T00:00:00",
          "2023-10-20T00:00:00"
         ],
         "y": [
          426.42999267578125,
          421.19000244140625
         ]
        },
        {
         "line": {
          "color": "red",
          "width": 2
         },
         "mode": "lines",
         "name": "Price",
         "showlegend": false,
         "type": "scatter",
         "x": [
          "2023-10-20T00:00:00",
          "2023-10-23T00:00:00"
         ],
         "y": [
          421.19000244140625,
          420.4599914550781
         ]
        },
        {
         "line": {
          "color": "red",
          "width": 2
         },
         "mode": "lines",
         "name": "Price",
         "showlegend": false,
         "type": "scatter",
         "x": [
          "2023-10-23T00:00:00",
          "2023-10-24T00:00:00"
         ],
         "y": [
          420.4599914550781,
          423.6300048828125
         ]
        },
        {
         "line": {
          "color": "red",
          "width": 2
         },
         "mode": "lines",
         "name": "Price",
         "showlegend": false,
         "type": "scatter",
         "x": [
          "2023-10-24T00:00:00",
          "2023-10-25T00:00:00"
         ],
         "y": [
          423.6300048828125,
          417.54998779296875
         ]
        },
        {
         "line": {
          "color": "red",
          "width": 2
         },
         "mode": "lines",
         "name": "Price",
         "showlegend": false,
         "type": "scatter",
         "x": [
          "2023-10-25T00:00:00",
          "2023-10-26T00:00:00"
         ],
         "y": [
          417.54998779296875,
          412.54998779296875
         ]
        },
        {
         "line": {
          "color": "red",
          "width": 2
         },
         "mode": "lines",
         "name": "Price",
         "showlegend": false,
         "type": "scatter",
         "x": [
          "2023-10-26T00:00:00",
          "2023-10-27T00:00:00"
         ],
         "y": [
          412.54998779296875,
          410.67999267578125
         ]
        },
        {
         "line": {
          "color": "red",
          "width": 2
         },
         "mode": "lines",
         "name": "Price",
         "showlegend": false,
         "type": "scatter",
         "x": [
          "2023-10-27T00:00:00",
          "2023-10-30T00:00:00"
         ],
         "y": [
          410.67999267578125,
          415.5899963378906
         ]
        },
        {
         "line": {
          "color": "red",
          "width": 2
         },
         "mode": "lines",
         "name": "Price",
         "showlegend": false,
         "type": "scatter",
         "x": [
          "2023-10-30T00:00:00",
          "2023-10-31T00:00:00"
         ],
         "y": [
          415.5899963378906,
          418.20001220703125
         ]
        },
        {
         "line": {
          "color": "red",
          "width": 2
         },
         "mode": "lines",
         "name": "Price",
         "showlegend": false,
         "type": "scatter",
         "x": [
          "2023-10-31T00:00:00",
          "2023-11-01T00:00:00"
         ],
         "y": [
          418.20001220703125,
          422.6600036621094
         ]
        },
        {
         "line": {
          "color": "red",
          "width": 2
         },
         "mode": "lines",
         "name": "Price",
         "showlegend": false,
         "type": "scatter",
         "x": [
          "2023-11-01T00:00:00",
          "2023-11-02T00:00:00"
         ],
         "y": [
          422.6600036621094,
          430.760009765625
         ]
        },
        {
         "line": {
          "color": "red",
          "width": 2
         },
         "mode": "lines",
         "name": "Price",
         "showlegend": false,
         "type": "scatter",
         "x": [
          "2023-11-02T00:00:00",
          "2023-11-03T00:00:00"
         ],
         "y": [
          430.760009765625,
          434.69000244140625
         ]
        },
        {
         "line": {
          "color": "green",
          "width": 2
         },
         "mode": "lines",
         "name": "Price",
         "showlegend": false,
         "type": "scatter",
         "x": [
          "2023-11-03T00:00:00",
          "2023-11-06T00:00:00"
         ],
         "y": [
          434.69000244140625,
          435.69000244140625
         ]
        },
        {
         "line": {
          "color": "green",
          "width": 2
         },
         "mode": "lines",
         "name": "Price",
         "showlegend": false,
         "type": "scatter",
         "x": [
          "2023-11-06T00:00:00",
          "2023-11-07T00:00:00"
         ],
         "y": [
          435.69000244140625,
          436.92999267578125
         ]
        },
        {
         "line": {
          "color": "green",
          "width": 2
         },
         "mode": "lines",
         "name": "Price",
         "showlegend": false,
         "type": "scatter",
         "x": [
          "2023-11-07T00:00:00",
          "2023-11-08T00:00:00"
         ],
         "y": [
          436.92999267578125,
          437.25
         ]
        },
        {
         "line": {
          "color": "green",
          "width": 2
         },
         "mode": "lines",
         "name": "Price",
         "showlegend": false,
         "type": "scatter",
         "x": [
          "2023-11-08T00:00:00",
          "2023-11-09T00:00:00"
         ],
         "y": [
          437.25,
          433.8399963378906
         ]
        },
        {
         "line": {
          "color": "green",
          "width": 2
         },
         "mode": "lines",
         "name": "Price",
         "showlegend": false,
         "type": "scatter",
         "x": [
          "2023-11-09T00:00:00",
          "2023-11-10T00:00:00"
         ],
         "y": [
          433.8399963378906,
          440.6099853515625
         ]
        },
        {
         "line": {
          "color": "green",
          "width": 2
         },
         "mode": "lines",
         "name": "Price",
         "showlegend": false,
         "type": "scatter",
         "x": [
          "2023-11-10T00:00:00",
          "2023-11-13T00:00:00"
         ],
         "y": [
          440.6099853515625,
          440.19000244140625
         ]
        },
        {
         "line": {
          "color": "green",
          "width": 2
         },
         "mode": "lines",
         "name": "Price",
         "showlegend": false,
         "type": "scatter",
         "x": [
          "2023-11-13T00:00:00",
          "2023-11-14T00:00:00"
         ],
         "y": [
          440.19000244140625,
          448.7300109863281
         ]
        },
        {
         "line": {
          "color": "green",
          "width": 2
         },
         "mode": "lines",
         "name": "Price",
         "showlegend": false,
         "type": "scatter",
         "x": [
          "2023-11-14T00:00:00",
          "2023-11-15T00:00:00"
         ],
         "y": [
          448.7300109863281,
          449.67999267578125
         ]
        },
        {
         "line": {
          "color": "green",
          "width": 2
         },
         "mode": "lines",
         "name": "Price",
         "showlegend": false,
         "type": "scatter",
         "x": [
          "2023-11-15T00:00:00",
          "2023-11-16T00:00:00"
         ],
         "y": [
          449.67999267578125,
          450.2300109863281
         ]
        },
        {
         "line": {
          "color": "green",
          "width": 2
         },
         "mode": "lines",
         "name": "Price",
         "showlegend": false,
         "type": "scatter",
         "x": [
          "2023-11-16T00:00:00",
          "2023-11-17T00:00:00"
         ],
         "y": [
          450.2300109863281,
          450.7900085449219
         ]
        },
        {
         "line": {
          "color": "green",
          "width": 2
         },
         "mode": "lines",
         "name": "Price",
         "showlegend": false,
         "type": "scatter",
         "x": [
          "2023-11-17T00:00:00",
          "2023-11-20T00:00:00"
         ],
         "y": [
          450.7900085449219,
          454.260009765625
         ]
        },
        {
         "line": {
          "color": "green",
          "width": 2
         },
         "mode": "lines",
         "name": "Price",
         "showlegend": false,
         "type": "scatter",
         "x": [
          "2023-11-20T00:00:00",
          "2023-11-21T00:00:00"
         ],
         "y": [
          454.260009765625,
          453.2699890136719
         ]
        },
        {
         "line": {
          "color": "green",
          "width": 2
         },
         "mode": "lines",
         "name": "Price",
         "showlegend": false,
         "type": "scatter",
         "x": [
          "2023-11-21T00:00:00",
          "2023-11-22T00:00:00"
         ],
         "y": [
          453.2699890136719,
          455.0199890136719
         ]
        },
        {
         "line": {
          "color": "green",
          "width": 2
         },
         "mode": "lines",
         "name": "Price",
         "showlegend": false,
         "type": "scatter",
         "x": [
          "2023-11-22T00:00:00",
          "2023-11-24T00:00:00"
         ],
         "y": [
          455.0199890136719,
          455.29998779296875
         ]
        },
        {
         "line": {
          "color": "green",
          "width": 2
         },
         "mode": "lines",
         "name": "Price",
         "showlegend": false,
         "type": "scatter",
         "x": [
          "2023-11-24T00:00:00",
          "2023-11-27T00:00:00"
         ],
         "y": [
          455.29998779296875,
          454.4800109863281
         ]
        },
        {
         "line": {
          "color": "green",
          "width": 2
         },
         "mode": "lines",
         "name": "Price",
         "showlegend": false,
         "type": "scatter",
         "x": [
          "2023-11-27T00:00:00",
          "2023-11-28T00:00:00"
         ],
         "y": [
          454.4800109863281,
          454.92999267578125
         ]
        },
        {
         "line": {
          "color": "green",
          "width": 2
         },
         "mode": "lines",
         "name": "Price",
         "showlegend": false,
         "type": "scatter",
         "x": [
          "2023-11-28T00:00:00",
          "2023-11-29T00:00:00"
         ],
         "y": [
          454.92999267578125,
          454.6099853515625
         ]
        },
        {
         "line": {
          "color": "green",
          "width": 2
         },
         "mode": "lines",
         "name": "Price",
         "showlegend": false,
         "type": "scatter",
         "x": [
          "2023-11-29T00:00:00",
          "2023-11-30T00:00:00"
         ],
         "y": [
          454.6099853515625,
          456.3999938964844
         ]
        },
        {
         "line": {
          "color": "green",
          "width": 2
         },
         "mode": "lines",
         "name": "Price",
         "showlegend": false,
         "type": "scatter",
         "x": [
          "2023-11-30T00:00:00",
          "2023-12-01T00:00:00"
         ],
         "y": [
          456.3999938964844,
          459.1000061035156
         ]
        },
        {
         "line": {
          "color": "green",
          "width": 2
         },
         "mode": "lines",
         "name": "Price",
         "showlegend": false,
         "type": "scatter",
         "x": [
          "2023-12-01T00:00:00",
          "2023-12-04T00:00:00"
         ],
         "y": [
          459.1000061035156,
          456.69000244140625
         ]
        },
        {
         "line": {
          "color": "green",
          "width": 2
         },
         "mode": "lines",
         "name": "Price",
         "showlegend": false,
         "type": "scatter",
         "x": [
          "2023-12-04T00:00:00",
          "2023-12-05T00:00:00"
         ],
         "y": [
          456.69000244140625,
          456.6000061035156
         ]
        },
        {
         "line": {
          "color": "green",
          "width": 2
         },
         "mode": "lines",
         "name": "Price",
         "showlegend": false,
         "type": "scatter",
         "x": [
          "2023-12-05T00:00:00",
          "2023-12-06T00:00:00"
         ],
         "y": [
          456.6000061035156,
          454.760009765625
         ]
        },
        {
         "line": {
          "color": "green",
          "width": 2
         },
         "mode": "lines",
         "name": "Price",
         "showlegend": false,
         "type": "scatter",
         "x": [
          "2023-12-06T00:00:00",
          "2023-12-07T00:00:00"
         ],
         "y": [
          454.760009765625,
          458.2300109863281
         ]
        },
        {
         "line": {
          "color": "green",
          "width": 2
         },
         "mode": "lines",
         "name": "Price",
         "showlegend": false,
         "type": "scatter",
         "x": [
          "2023-12-07T00:00:00",
          "2023-12-08T00:00:00"
         ],
         "y": [
          458.2300109863281,
          460.20001220703125
         ]
        },
        {
         "line": {
          "color": "green",
          "width": 2
         },
         "mode": "lines",
         "name": "Price",
         "showlegend": false,
         "type": "scatter",
         "x": [
          "2023-12-08T00:00:00",
          "2023-12-11T00:00:00"
         ],
         "y": [
          460.20001220703125,
          461.989990234375
         ]
        },
        {
         "line": {
          "color": "green",
          "width": 2
         },
         "mode": "lines",
         "name": "Price",
         "showlegend": false,
         "type": "scatter",
         "x": [
          "2023-12-11T00:00:00",
          "2023-12-12T00:00:00"
         ],
         "y": [
          461.989990234375,
          464.1000061035156
         ]
        },
        {
         "line": {
          "color": "green",
          "width": 2
         },
         "mode": "lines",
         "name": "Price",
         "showlegend": false,
         "type": "scatter",
         "x": [
          "2023-12-12T00:00:00",
          "2023-12-13T00:00:00"
         ],
         "y": [
          464.1000061035156,
          470.5
         ]
        },
        {
         "line": {
          "color": "green",
          "width": 2
         },
         "mode": "lines",
         "name": "Price",
         "showlegend": false,
         "type": "scatter",
         "x": [
          "2023-12-13T00:00:00",
          "2023-12-14T00:00:00"
         ],
         "y": [
          470.5,
          472.010009765625
         ]
        },
        {
         "line": {
          "color": "green",
          "width": 2
         },
         "mode": "lines",
         "name": "Price",
         "showlegend": false,
         "type": "scatter",
         "x": [
          "2023-12-14T00:00:00",
          "2023-12-15T00:00:00"
         ],
         "y": [
          472.010009765625,
          469.3299865722656
         ]
        },
        {
         "line": {
          "color": "green",
          "width": 2
         },
         "mode": "lines",
         "name": "Price",
         "showlegend": false,
         "type": "scatter",
         "x": [
          "2023-12-15T00:00:00",
          "2023-12-18T00:00:00"
         ],
         "y": [
          469.3299865722656,
          471.9700012207031
         ]
        },
        {
         "line": {
          "color": "green",
          "width": 2
         },
         "mode": "lines",
         "name": "Price",
         "showlegend": false,
         "type": "scatter",
         "x": [
          "2023-12-18T00:00:00",
          "2023-12-19T00:00:00"
         ],
         "y": [
          471.9700012207031,
          474.8399963378906
         ]
        },
        {
         "line": {
          "color": "green",
          "width": 2
         },
         "mode": "lines",
         "name": "Price",
         "showlegend": false,
         "type": "scatter",
         "x": [
          "2023-12-19T00:00:00",
          "2023-12-20T00:00:00"
         ],
         "y": [
          474.8399963378906,
          468.260009765625
         ]
        },
        {
         "line": {
          "color": "green",
          "width": 2
         },
         "mode": "lines",
         "name": "Price",
         "showlegend": false,
         "type": "scatter",
         "x": [
          "2023-12-20T00:00:00",
          "2023-12-21T00:00:00"
         ],
         "y": [
          468.260009765625,
          472.70001220703125
         ]
        },
        {
         "line": {
          "color": "green",
          "width": 2
         },
         "mode": "lines",
         "name": "Price",
         "showlegend": false,
         "type": "scatter",
         "x": [
          "2023-12-21T00:00:00",
          "2023-12-22T00:00:00"
         ],
         "y": [
          472.70001220703125,
          473.6499938964844
         ]
        },
        {
         "line": {
          "color": "green",
          "width": 2
         },
         "mode": "lines",
         "name": "Price",
         "showlegend": false,
         "type": "scatter",
         "x": [
          "2023-12-22T00:00:00",
          "2023-12-26T00:00:00"
         ],
         "y": [
          473.6499938964844,
          475.6499938964844
         ]
        },
        {
         "line": {
          "color": "green",
          "width": 2
         },
         "mode": "lines",
         "name": "Price",
         "showlegend": false,
         "type": "scatter",
         "x": [
          "2023-12-26T00:00:00",
          "2023-12-27T00:00:00"
         ],
         "y": [
          475.6499938964844,
          476.510009765625
         ]
        },
        {
         "line": {
          "color": "green",
          "width": 2
         },
         "mode": "lines",
         "name": "Price",
         "showlegend": false,
         "type": "scatter",
         "x": [
          "2023-12-27T00:00:00",
          "2023-12-28T00:00:00"
         ],
         "y": [
          476.510009765625,
          476.69000244140625
         ]
        },
        {
         "line": {
          "color": "green",
          "width": 2
         },
         "mode": "lines",
         "name": "Price",
         "showlegend": false,
         "type": "scatter",
         "x": [
          "2023-12-28T00:00:00",
          "2023-12-29T00:00:00"
         ],
         "y": [
          476.69000244140625,
          475.30999755859375
         ]
        },
        {
         "line": {
          "color": "green",
          "width": 2
         },
         "mode": "lines",
         "name": "Price",
         "showlegend": false,
         "type": "scatter",
         "x": [
          "2023-12-29T00:00:00",
          "2024-01-02T00:00:00"
         ],
         "y": [
          475.30999755859375,
          472.6499938964844
         ]
        },
        {
         "line": {
          "color": "green",
          "width": 2
         },
         "mode": "lines",
         "name": "Price",
         "showlegend": false,
         "type": "scatter",
         "x": [
          "2024-01-02T00:00:00",
          "2024-01-03T00:00:00"
         ],
         "y": [
          472.6499938964844,
          468.7900085449219
         ]
        },
        {
         "line": {
          "color": "green",
          "width": 2
         },
         "mode": "lines",
         "name": "Price",
         "showlegend": false,
         "type": "scatter",
         "x": [
          "2024-01-03T00:00:00",
          "2024-01-04T00:00:00"
         ],
         "y": [
          468.7900085449219,
          467.2799987792969
         ]
        },
        {
         "line": {
          "color": "green",
          "width": 2
         },
         "mode": "lines",
         "name": "Price",
         "showlegend": false,
         "type": "scatter",
         "x": [
          "2024-01-04T00:00:00",
          "2024-01-05T00:00:00"
         ],
         "y": [
          467.2799987792969,
          467.9200134277344
         ]
        },
        {
         "line": {
          "color": "green",
          "width": 2
         },
         "mode": "lines",
         "name": "Price",
         "showlegend": false,
         "type": "scatter",
         "x": [
          "2024-01-05T00:00:00",
          "2024-01-08T00:00:00"
         ],
         "y": [
          467.9200134277344,
          474.6000061035156
         ]
        },
        {
         "line": {
          "color": "green",
          "width": 2
         },
         "mode": "lines",
         "name": "Price",
         "showlegend": false,
         "type": "scatter",
         "x": [
          "2024-01-08T00:00:00",
          "2024-01-09T00:00:00"
         ],
         "y": [
          474.6000061035156,
          473.8800048828125
         ]
        },
        {
         "line": {
          "color": "green",
          "width": 2
         },
         "mode": "lines",
         "name": "Price",
         "showlegend": false,
         "type": "scatter",
         "x": [
          "2024-01-09T00:00:00",
          "2024-01-10T00:00:00"
         ],
         "y": [
          473.8800048828125,
          476.55999755859375
         ]
        },
        {
         "line": {
          "color": "green",
          "width": 2
         },
         "mode": "lines",
         "name": "Price",
         "showlegend": false,
         "type": "scatter",
         "x": [
          "2024-01-10T00:00:00",
          "2024-01-11T00:00:00"
         ],
         "y": [
          476.55999755859375,
          476.3500061035156
         ]
        },
        {
         "line": {
          "color": "green",
          "width": 2
         },
         "mode": "lines",
         "name": "Price",
         "showlegend": false,
         "type": "scatter",
         "x": [
          "2024-01-11T00:00:00",
          "2024-01-12T00:00:00"
         ],
         "y": [
          476.3500061035156,
          476.67999267578125
         ]
        },
        {
         "line": {
          "color": "green",
          "width": 2
         },
         "mode": "lines",
         "name": "Price",
         "showlegend": false,
         "type": "scatter",
         "x": [
          "2024-01-12T00:00:00",
          "2024-01-16T00:00:00"
         ],
         "y": [
          476.67999267578125,
          474.92999267578125
         ]
        },
        {
         "line": {
          "color": "green",
          "width": 2
         },
         "mode": "lines",
         "name": "Price",
         "showlegend": false,
         "type": "scatter",
         "x": [
          "2024-01-16T00:00:00",
          "2024-01-17T00:00:00"
         ],
         "y": [
          474.92999267578125,
          472.2900085449219
         ]
        },
        {
         "line": {
          "color": "green",
          "width": 2
         },
         "mode": "lines",
         "name": "Price",
         "showlegend": false,
         "type": "scatter",
         "x": [
          "2024-01-17T00:00:00",
          "2024-01-18T00:00:00"
         ],
         "y": [
          472.2900085449219,
          476.489990234375
         ]
        },
        {
         "line": {
          "color": "green",
          "width": 2
         },
         "mode": "lines",
         "name": "Price",
         "showlegend": false,
         "type": "scatter",
         "x": [
          "2024-01-18T00:00:00",
          "2024-01-19T00:00:00"
         ],
         "y": [
          476.489990234375,
          482.42999267578125
         ]
        },
        {
         "line": {
          "color": "green",
          "width": 2
         },
         "mode": "lines",
         "name": "Price",
         "showlegend": false,
         "type": "scatter",
         "x": [
          "2024-01-19T00:00:00",
          "2024-01-22T00:00:00"
         ],
         "y": [
          482.42999267578125,
          483.45001220703125
         ]
        },
        {
         "line": {
          "color": "green",
          "width": 2
         },
         "mode": "lines",
         "name": "Price",
         "showlegend": false,
         "type": "scatter",
         "x": [
          "2024-01-22T00:00:00",
          "2024-01-23T00:00:00"
         ],
         "y": [
          483.45001220703125,
          484.8599853515625
         ]
        },
        {
         "line": {
          "color": "green",
          "width": 2
         },
         "mode": "lines",
         "name": "Price",
         "showlegend": false,
         "type": "scatter",
         "x": [
          "2024-01-23T00:00:00",
          "2024-01-24T00:00:00"
         ],
         "y": [
          484.8599853515625,
          485.3900146484375
         ]
        },
        {
         "line": {
          "color": "green",
          "width": 2
         },
         "mode": "lines",
         "name": "Price",
         "showlegend": false,
         "type": "scatter",
         "x": [
          "2024-01-24T00:00:00",
          "2024-01-25T00:00:00"
         ],
         "y": [
          485.3900146484375,
          488.0299987792969
         ]
        },
        {
         "line": {
          "color": "green",
          "width": 2
         },
         "mode": "lines",
         "name": "Price",
         "showlegend": false,
         "type": "scatter",
         "x": [
          "2024-01-25T00:00:00",
          "2024-01-26T00:00:00"
         ],
         "y": [
          488.0299987792969,
          487.4100036621094
         ]
        },
        {
         "line": {
          "color": "green",
          "width": 2
         },
         "mode": "lines",
         "name": "Price",
         "showlegend": false,
         "type": "scatter",
         "x": [
          "2024-01-26T00:00:00",
          "2024-01-29T00:00:00"
         ],
         "y": [
          487.4100036621094,
          491.2699890136719
         ]
        },
        {
         "line": {
          "color": "green",
          "width": 2
         },
         "mode": "lines",
         "name": "Price",
         "showlegend": false,
         "type": "scatter",
         "x": [
          "2024-01-29T00:00:00",
          "2024-01-30T00:00:00"
         ],
         "y": [
          491.2699890136719,
          490.8900146484375
         ]
        },
        {
         "line": {
          "color": "green",
          "width": 2
         },
         "mode": "lines",
         "name": "Price",
         "showlegend": false,
         "type": "scatter",
         "x": [
          "2024-01-30T00:00:00",
          "2024-01-31T00:00:00"
         ],
         "y": [
          490.8900146484375,
          482.8800048828125
         ]
        },
        {
         "line": {
          "color": "green",
          "width": 2
         },
         "mode": "lines",
         "name": "Price",
         "showlegend": false,
         "type": "scatter",
         "x": [
          "2024-01-31T00:00:00",
          "2024-02-01T00:00:00"
         ],
         "y": [
          482.8800048828125,
          489.20001220703125
         ]
        },
        {
         "line": {
          "color": "green",
          "width": 2
         },
         "mode": "lines",
         "name": "Price",
         "showlegend": false,
         "type": "scatter",
         "x": [
          "2024-02-01T00:00:00",
          "2024-02-02T00:00:00"
         ],
         "y": [
          489.20001220703125,
          494.3500061035156
         ]
        },
        {
         "line": {
          "color": "green",
          "width": 2
         },
         "mode": "lines",
         "name": "Price",
         "showlegend": false,
         "type": "scatter",
         "x": [
          "2024-02-02T00:00:00",
          "2024-02-05T00:00:00"
         ],
         "y": [
          494.3500061035156,
          492.54998779296875
         ]
        },
        {
         "line": {
          "color": "green",
          "width": 2
         },
         "mode": "lines",
         "name": "Price",
         "showlegend": false,
         "type": "scatter",
         "x": [
          "2024-02-05T00:00:00",
          "2024-02-06T00:00:00"
         ],
         "y": [
          492.54998779296875,
          493.9800109863281
         ]
        },
        {
         "line": {
          "color": "green",
          "width": 2
         },
         "mode": "lines",
         "name": "Price",
         "showlegend": false,
         "type": "scatter",
         "x": [
          "2024-02-06T00:00:00",
          "2024-02-07T00:00:00"
         ],
         "y": [
          493.9800109863281,
          498.1000061035156
         ]
        },
        {
         "line": {
          "color": "green",
          "width": 2
         },
         "mode": "lines",
         "name": "Price",
         "showlegend": false,
         "type": "scatter",
         "x": [
          "2024-02-07T00:00:00",
          "2024-02-08T00:00:00"
         ],
         "y": [
          498.1000061035156,
          498.32000732421875
         ]
        },
        {
         "line": {
          "color": "green",
          "width": 2
         },
         "mode": "lines",
         "name": "Price",
         "showlegend": false,
         "type": "scatter",
         "x": [
          "2024-02-08T00:00:00",
          "2024-02-09T00:00:00"
         ],
         "y": [
          498.32000732421875,
          501.20001220703125
         ]
        },
        {
         "line": {
          "color": "green",
          "width": 2
         },
         "mode": "lines",
         "name": "Price",
         "showlegend": false,
         "type": "scatter",
         "x": [
          "2024-02-09T00:00:00",
          "2024-02-12T00:00:00"
         ],
         "y": [
          501.20001220703125,
          500.9800109863281
         ]
        },
        {
         "line": {
          "color": "green",
          "width": 2
         },
         "mode": "lines",
         "name": "Price",
         "showlegend": false,
         "type": "scatter",
         "x": [
          "2024-02-12T00:00:00",
          "2024-02-13T00:00:00"
         ],
         "y": [
          500.9800109863281,
          494.0799865722656
         ]
        },
        {
         "line": {
          "color": "green",
          "width": 2
         },
         "mode": "lines",
         "name": "Price",
         "showlegend": false,
         "type": "scatter",
         "x": [
          "2024-02-13T00:00:00",
          "2024-02-14T00:00:00"
         ],
         "y": [
          494.0799865722656,
          498.57000732421875
         ]
        },
        {
         "line": {
          "color": "green",
          "width": 2
         },
         "mode": "lines",
         "name": "Price",
         "showlegend": false,
         "type": "scatter",
         "x": [
          "2024-02-14T00:00:00",
          "2024-02-15T00:00:00"
         ],
         "y": [
          498.57000732421875,
          502.010009765625
         ]
        },
        {
         "line": {
          "color": "green",
          "width": 2
         },
         "mode": "lines",
         "name": "Price",
         "showlegend": false,
         "type": "scatter",
         "x": [
          "2024-02-15T00:00:00",
          "2024-02-16T00:00:00"
         ],
         "y": [
          502.010009765625,
          499.510009765625
         ]
        },
        {
         "line": {
          "color": "green",
          "width": 2
         },
         "mode": "lines",
         "name": "Price",
         "showlegend": false,
         "type": "scatter",
         "x": [
          "2024-02-16T00:00:00",
          "2024-02-20T00:00:00"
         ],
         "y": [
          499.510009765625,
          496.760009765625
         ]
        },
        {
         "line": {
          "color": "green",
          "width": 2
         },
         "mode": "lines",
         "name": "Price",
         "showlegend": false,
         "type": "scatter",
         "x": [
          "2024-02-20T00:00:00",
          "2024-02-21T00:00:00"
         ],
         "y": [
          496.760009765625,
          497.2099914550781
         ]
        },
        {
         "line": {
          "color": "green",
          "width": 2
         },
         "mode": "lines",
         "name": "Price",
         "showlegend": false,
         "type": "scatter",
         "x": [
          "2024-02-21T00:00:00",
          "2024-02-22T00:00:00"
         ],
         "y": [
          497.2099914550781,
          507.5
         ]
        },
        {
         "line": {
          "color": "green",
          "width": 2
         },
         "mode": "lines",
         "name": "Price",
         "showlegend": false,
         "type": "scatter",
         "x": [
          "2024-02-22T00:00:00",
          "2024-02-23T00:00:00"
         ],
         "y": [
          507.5,
          507.8500061035156
         ]
        },
        {
         "line": {
          "color": "green",
          "width": 2
         },
         "mode": "lines",
         "name": "Price",
         "showlegend": false,
         "type": "scatter",
         "x": [
          "2024-02-23T00:00:00",
          "2024-02-26T00:00:00"
         ],
         "y": [
          507.8500061035156,
          505.989990234375
         ]
        },
        {
         "line": {
          "color": "green",
          "width": 2
         },
         "mode": "lines",
         "name": "Price",
         "showlegend": false,
         "type": "scatter",
         "x": [
          "2024-02-26T00:00:00",
          "2024-02-27T00:00:00"
         ],
         "y": [
          505.989990234375,
          506.92999267578125
         ]
        },
        {
         "line": {
          "color": "green",
          "width": 2
         },
         "mode": "lines",
         "name": "Price",
         "showlegend": false,
         "type": "scatter",
         "x": [
          "2024-02-27T00:00:00",
          "2024-02-28T00:00:00"
         ],
         "y": [
          506.92999267578125,
          506.260009765625
         ]
        },
        {
         "line": {
          "color": "green",
          "width": 2
         },
         "mode": "lines",
         "name": "Price",
         "showlegend": false,
         "type": "scatter",
         "x": [
          "2024-02-28T00:00:00",
          "2024-02-29T00:00:00"
         ],
         "y": [
          506.260009765625,
          508.0799865722656
         ]
        },
        {
         "line": {
          "color": "green",
          "width": 2
         },
         "mode": "lines",
         "name": "Price",
         "showlegend": false,
         "type": "scatter",
         "x": [
          "2024-02-29T00:00:00",
          "2024-03-01T00:00:00"
         ],
         "y": [
          508.0799865722656,
          512.8499755859375
         ]
        },
        {
         "line": {
          "color": "green",
          "width": 2
         },
         "mode": "lines",
         "name": "Price",
         "showlegend": false,
         "type": "scatter",
         "x": [
          "2024-03-01T00:00:00",
          "2024-03-04T00:00:00"
         ],
         "y": [
          512.8499755859375,
          512.2999877929688
         ]
        },
        {
         "line": {
          "color": "green",
          "width": 2
         },
         "mode": "lines",
         "name": "Price",
         "showlegend": false,
         "type": "scatter",
         "x": [
          "2024-03-04T00:00:00",
          "2024-03-05T00:00:00"
         ],
         "y": [
          512.2999877929688,
          507.17999267578125
         ]
        },
        {
         "line": {
          "color": "green",
          "width": 2
         },
         "mode": "lines",
         "name": "Price",
         "showlegend": false,
         "type": "scatter",
         "x": [
          "2024-03-05T00:00:00",
          "2024-03-06T00:00:00"
         ],
         "y": [
          507.17999267578125,
          509.75
         ]
        },
        {
         "line": {
          "color": "green",
          "width": 2
         },
         "mode": "lines",
         "name": "Price",
         "showlegend": false,
         "type": "scatter",
         "x": [
          "2024-03-06T00:00:00",
          "2024-03-07T00:00:00"
         ],
         "y": [
          509.75,
          514.8099975585938
         ]
        },
        {
         "line": {
          "color": "green",
          "width": 2
         },
         "mode": "lines",
         "name": "Price",
         "showlegend": false,
         "type": "scatter",
         "x": [
          "2024-03-07T00:00:00",
          "2024-03-08T00:00:00"
         ],
         "y": [
          514.8099975585938,
          511.7200012207031
         ]
        },
        {
         "line": {
          "color": "green",
          "width": 2
         },
         "mode": "lines",
         "name": "Price",
         "showlegend": false,
         "type": "scatter",
         "x": [
          "2024-03-08T00:00:00",
          "2024-03-11T00:00:00"
         ],
         "y": [
          511.7200012207031,
          511.2799987792969
         ]
        },
        {
         "line": {
          "color": "green",
          "width": 2
         },
         "mode": "lines",
         "name": "Price",
         "showlegend": false,
         "type": "scatter",
         "x": [
          "2024-03-11T00:00:00",
          "2024-03-12T00:00:00"
         ],
         "y": [
          511.2799987792969,
          516.780029296875
         ]
        },
        {
         "line": {
          "color": "green",
          "width": 2
         },
         "mode": "lines",
         "name": "Price",
         "showlegend": false,
         "type": "scatter",
         "x": [
          "2024-03-12T00:00:00",
          "2024-03-13T00:00:00"
         ],
         "y": [
          516.780029296875,
          515.969970703125
         ]
        },
        {
         "line": {
          "color": "green",
          "width": 2
         },
         "mode": "lines",
         "name": "Price",
         "showlegend": false,
         "type": "scatter",
         "x": [
          "2024-03-13T00:00:00",
          "2024-03-14T00:00:00"
         ],
         "y": [
          515.969970703125,
          514.9500122070312
         ]
        },
        {
         "line": {
          "color": "green",
          "width": 2
         },
         "mode": "lines",
         "name": "Price",
         "showlegend": false,
         "type": "scatter",
         "x": [
          "2024-03-14T00:00:00",
          "2024-03-15T00:00:00"
         ],
         "y": [
          514.9500122070312,
          509.8299865722656
         ]
        },
        {
         "line": {
          "color": "green",
          "width": 2
         },
         "mode": "lines",
         "name": "Price",
         "showlegend": false,
         "type": "scatter",
         "x": [
          "2024-03-15T00:00:00",
          "2024-03-18T00:00:00"
         ],
         "y": [
          509.8299865722656,
          512.8599853515625
         ]
        },
        {
         "line": {
          "color": "green",
          "width": 2
         },
         "mode": "lines",
         "name": "Price",
         "showlegend": false,
         "type": "scatter",
         "x": [
          "2024-03-18T00:00:00",
          "2024-03-19T00:00:00"
         ],
         "y": [
          512.8599853515625,
          515.7100219726562
         ]
        },
        {
         "line": {
          "color": "green",
          "width": 2
         },
         "mode": "lines",
         "name": "Price",
         "showlegend": false,
         "type": "scatter",
         "x": [
          "2024-03-19T00:00:00",
          "2024-03-20T00:00:00"
         ],
         "y": [
          515.7100219726562,
          520.47998046875
         ]
        },
        {
         "line": {
          "color": "green",
          "width": 2
         },
         "mode": "lines",
         "name": "Price",
         "showlegend": false,
         "type": "scatter",
         "x": [
          "2024-03-20T00:00:00",
          "2024-03-21T00:00:00"
         ],
         "y": [
          520.47998046875,
          522.2000122070312
         ]
        },
        {
         "line": {
          "color": "green",
          "width": 2
         },
         "mode": "lines",
         "name": "Price",
         "showlegend": false,
         "type": "scatter",
         "x": [
          "2024-03-21T00:00:00",
          "2024-03-22T00:00:00"
         ],
         "y": [
          522.2000122070312,
          521.2100219726562
         ]
        },
        {
         "line": {
          "color": "green",
          "width": 2
         },
         "mode": "lines",
         "name": "Price",
         "showlegend": false,
         "type": "scatter",
         "x": [
          "2024-03-22T00:00:00",
          "2024-03-25T00:00:00"
         ],
         "y": [
          521.2100219726562,
          519.77001953125
         ]
        },
        {
         "line": {
          "color": "green",
          "width": 2
         },
         "mode": "lines",
         "name": "Price",
         "showlegend": false,
         "type": "scatter",
         "x": [
          "2024-03-25T00:00:00",
          "2024-03-26T00:00:00"
         ],
         "y": [
          519.77001953125,
          518.8099975585938
         ]
        },
        {
         "line": {
          "color": "green",
          "width": 2
         },
         "mode": "lines",
         "name": "Price",
         "showlegend": false,
         "type": "scatter",
         "x": [
          "2024-03-26T00:00:00",
          "2024-03-27T00:00:00"
         ],
         "y": [
          518.8099975585938,
          523.1699829101562
         ]
        },
        {
         "line": {
          "color": "green",
          "width": 2
         },
         "mode": "lines",
         "name": "Price",
         "showlegend": false,
         "type": "scatter",
         "x": [
          "2024-03-27T00:00:00",
          "2024-03-28T00:00:00"
         ],
         "y": [
          523.1699829101562,
          523.0700073242188
         ]
        },
        {
         "line": {
          "color": "green",
          "width": 2
         },
         "mode": "lines",
         "name": "Price",
         "showlegend": false,
         "type": "scatter",
         "x": [
          "2024-03-28T00:00:00",
          "2024-04-01T00:00:00"
         ],
         "y": [
          523.0700073242188,
          522.1599731445312
         ]
        },
        {
         "line": {
          "color": "green",
          "width": 2
         },
         "mode": "lines",
         "name": "Price",
         "showlegend": false,
         "type": "scatter",
         "x": [
          "2024-04-01T00:00:00",
          "2024-04-02T00:00:00"
         ],
         "y": [
          522.1599731445312,
          518.8400268554688
         ]
        },
        {
         "line": {
          "color": "green",
          "width": 2
         },
         "mode": "lines",
         "name": "Price",
         "showlegend": false,
         "type": "scatter",
         "x": [
          "2024-04-02T00:00:00",
          "2024-04-03T00:00:00"
         ],
         "y": [
          518.8400268554688,
          519.4099731445312
         ]
        },
        {
         "line": {
          "color": "green",
          "width": 2
         },
         "mode": "lines",
         "name": "Price",
         "showlegend": false,
         "type": "scatter",
         "x": [
          "2024-04-03T00:00:00",
          "2024-04-04T00:00:00"
         ],
         "y": [
          519.4099731445312,
          513.0700073242188
         ]
        },
        {
         "line": {
          "color": "green",
          "width": 2
         },
         "mode": "lines",
         "name": "Price",
         "showlegend": false,
         "type": "scatter",
         "x": [
          "2024-04-04T00:00:00",
          "2024-04-05T00:00:00"
         ],
         "y": [
          513.0700073242188,
          518.4299926757812
         ]
        },
        {
         "line": {
          "color": "green",
          "width": 2
         },
         "mode": "lines",
         "name": "Price",
         "showlegend": false,
         "type": "scatter",
         "x": [
          "2024-04-05T00:00:00",
          "2024-04-08T00:00:00"
         ],
         "y": [
          518.4299926757812,
          518.719970703125
         ]
        },
        {
         "line": {
          "color": "green",
          "width": 2
         },
         "mode": "lines",
         "name": "Price",
         "showlegend": false,
         "type": "scatter",
         "x": [
          "2024-04-08T00:00:00",
          "2024-04-09T00:00:00"
         ],
         "y": [
          518.719970703125,
          519.3200073242188
         ]
        },
        {
         "line": {
          "color": "green",
          "width": 2
         },
         "mode": "lines",
         "name": "Price",
         "showlegend": false,
         "type": "scatter",
         "x": [
          "2024-04-09T00:00:00",
          "2024-04-10T00:00:00"
         ],
         "y": [
          519.3200073242188,
          514.1199951171875
         ]
        },
        {
         "line": {
          "color": "green",
          "width": 2
         },
         "mode": "lines",
         "name": "Price",
         "showlegend": false,
         "type": "scatter",
         "x": [
          "2024-04-10T00:00:00",
          "2024-04-11T00:00:00"
         ],
         "y": [
          514.1199951171875,
          518
         ]
        },
        {
         "line": {
          "color": "green",
          "width": 2
         },
         "mode": "lines",
         "name": "Price",
         "showlegend": false,
         "type": "scatter",
         "x": [
          "2024-04-11T00:00:00",
          "2024-04-12T00:00:00"
         ],
         "y": [
          518,
          510.8500061035156
         ]
        },
        {
         "line": {
          "color": "green",
          "width": 2
         },
         "mode": "lines",
         "name": "Price",
         "showlegend": false,
         "type": "scatter",
         "x": [
          "2024-04-12T00:00:00",
          "2024-04-15T00:00:00"
         ],
         "y": [
          510.8500061035156,
          504.45001220703125
         ]
        },
        {
         "line": {
          "color": "red",
          "width": 2
         },
         "mode": "lines",
         "name": "Price",
         "showlegend": false,
         "type": "scatter",
         "x": [
          "2024-04-15T00:00:00",
          "2024-04-16T00:00:00"
         ],
         "y": [
          504.45001220703125,
          503.5299987792969
         ]
        },
        {
         "line": {
          "color": "red",
          "width": 2
         },
         "mode": "lines",
         "name": "Price",
         "showlegend": false,
         "type": "scatter",
         "x": [
          "2024-04-16T00:00:00",
          "2024-04-17T00:00:00"
         ],
         "y": [
          503.5299987792969,
          500.54998779296875
         ]
        },
        {
         "line": {
          "color": "red",
          "width": 2
         },
         "mode": "lines",
         "name": "Price",
         "showlegend": false,
         "type": "scatter",
         "x": [
          "2024-04-17T00:00:00",
          "2024-04-18T00:00:00"
         ],
         "y": [
          500.54998779296875,
          499.5199890136719
         ]
        },
        {
         "line": {
          "color": "red",
          "width": 2
         },
         "mode": "lines",
         "name": "Price",
         "showlegend": false,
         "type": "scatter",
         "x": [
          "2024-04-18T00:00:00",
          "2024-04-19T00:00:00"
         ],
         "y": [
          499.5199890136719,
          495.1600036621094
         ]
        },
        {
         "line": {
          "color": "red",
          "width": 2
         },
         "mode": "lines",
         "name": "Price",
         "showlegend": false,
         "type": "scatter",
         "x": [
          "2024-04-19T00:00:00",
          "2024-04-22T00:00:00"
         ],
         "y": [
          495.1600036621094,
          499.7200012207031
         ]
        },
        {
         "line": {
          "color": "red",
          "width": 2
         },
         "mode": "lines",
         "name": "Price",
         "showlegend": false,
         "type": "scatter",
         "x": [
          "2024-04-22T00:00:00",
          "2024-04-23T00:00:00"
         ],
         "y": [
          499.7200012207031,
          505.6499938964844
         ]
        },
        {
         "line": {
          "color": "red",
          "width": 2
         },
         "mode": "lines",
         "name": "Price",
         "showlegend": false,
         "type": "scatter",
         "x": [
          "2024-04-23T00:00:00",
          "2024-04-24T00:00:00"
         ],
         "y": [
          505.6499938964844,
          505.4100036621094
         ]
        },
        {
         "line": {
          "color": "red",
          "width": 2
         },
         "mode": "lines",
         "name": "Price",
         "showlegend": false,
         "type": "scatter",
         "x": [
          "2024-04-24T00:00:00",
          "2024-04-25T00:00:00"
         ],
         "y": [
          505.4100036621094,
          503.489990234375
         ]
        },
        {
         "line": {
          "color": "red",
          "width": 2
         },
         "mode": "lines",
         "name": "Price",
         "showlegend": false,
         "type": "scatter",
         "x": [
          "2024-04-25T00:00:00",
          "2024-04-26T00:00:00"
         ],
         "y": [
          503.489990234375,
          508.260009765625
         ]
        },
        {
         "line": {
          "color": "red",
          "width": 2
         },
         "mode": "lines",
         "name": "Price",
         "showlegend": false,
         "type": "scatter",
         "x": [
          "2024-04-26T00:00:00",
          "2024-04-29T00:00:00"
         ],
         "y": [
          508.260009765625,
          510.05999755859375
         ]
        },
        {
         "line": {
          "color": "green",
          "width": 2
         },
         "mode": "lines",
         "name": "Price",
         "showlegend": false,
         "type": "scatter",
         "x": [
          "2024-04-29T00:00:00",
          "2024-04-30T00:00:00"
         ],
         "y": [
          510.05999755859375,
          501.9800109863281
         ]
        },
        {
         "line": {
          "color": "red",
          "width": 2
         },
         "mode": "lines",
         "name": "Price",
         "showlegend": false,
         "type": "scatter",
         "x": [
          "2024-04-30T00:00:00",
          "2024-05-01T00:00:00"
         ],
         "y": [
          501.9800109863281,
          500.3500061035156
         ]
        },
        {
         "line": {
          "color": "red",
          "width": 2
         },
         "mode": "lines",
         "name": "Price",
         "showlegend": false,
         "type": "scatter",
         "x": [
          "2024-05-01T00:00:00",
          "2024-05-02T00:00:00"
         ],
         "y": [
          500.3500061035156,
          505.0299987792969
         ]
        },
        {
         "line": {
          "color": "red",
          "width": 2
         },
         "mode": "lines",
         "name": "Price",
         "showlegend": false,
         "type": "scatter",
         "x": [
          "2024-05-02T00:00:00",
          "2024-05-03T00:00:00"
         ],
         "y": [
          505.0299987792969,
          511.2900085449219
         ]
        },
        {
         "line": {
          "color": "red",
          "width": 2
         },
         "mode": "lines",
         "name": "Price",
         "showlegend": false,
         "type": "scatter",
         "x": [
          "2024-05-03T00:00:00",
          "2024-05-06T00:00:00"
         ],
         "y": [
          511.2900085449219,
          516.5700073242188
         ]
        },
        {
         "line": {
          "color": "red",
          "width": 2
         },
         "mode": "lines",
         "name": "Price",
         "showlegend": false,
         "type": "scatter",
         "x": [
          "2024-05-06T00:00:00",
          "2024-05-07T00:00:00"
         ],
         "y": [
          516.5700073242188,
          517.1400146484375
         ]
        },
        {
         "line": {
          "color": "red",
          "width": 2
         },
         "mode": "lines",
         "name": "Price",
         "showlegend": false,
         "type": "scatter",
         "x": [
          "2024-05-07T00:00:00",
          "2024-05-08T00:00:00"
         ],
         "y": [
          517.1400146484375,
          517.1900024414062
         ]
        },
        {
         "line": {
          "color": "red",
          "width": 2
         },
         "mode": "lines",
         "name": "Price",
         "showlegend": false,
         "type": "scatter",
         "x": [
          "2024-05-08T00:00:00",
          "2024-05-09T00:00:00"
         ],
         "y": [
          517.1900024414062,
          520.1699829101562
         ]
        },
        {
         "line": {
          "color": "red",
          "width": 2
         },
         "mode": "lines",
         "name": "Price",
         "showlegend": false,
         "type": "scatter",
         "x": [
          "2024-05-09T00:00:00",
          "2024-05-10T00:00:00"
         ],
         "y": [
          520.1699829101562,
          520.8400268554688
         ]
        },
        {
         "line": {
          "color": "red",
          "width": 2
         },
         "mode": "lines",
         "name": "Price",
         "showlegend": false,
         "type": "scatter",
         "x": [
          "2024-05-10T00:00:00",
          "2024-05-13T00:00:00"
         ],
         "y": [
          520.8400268554688,
          520.9099731445312
         ]
        },
        {
         "line": {
          "color": "red",
          "width": 2
         },
         "mode": "lines",
         "name": "Price",
         "showlegend": false,
         "type": "scatter",
         "x": [
          "2024-05-13T00:00:00",
          "2024-05-14T00:00:00"
         ],
         "y": [
          520.9099731445312,
          523.2999877929688
         ]
        },
        {
         "line": {
          "color": "green",
          "width": 2
         },
         "mode": "lines",
         "name": "Price",
         "showlegend": false,
         "type": "scatter",
         "x": [
          "2024-05-14T00:00:00",
          "2024-05-15T00:00:00"
         ],
         "y": [
          523.2999877929688,
          529.780029296875
         ]
        },
        {
         "line": {
          "color": "green",
          "width": 2
         },
         "mode": "lines",
         "name": "Price",
         "showlegend": false,
         "type": "scatter",
         "x": [
          "2024-05-15T00:00:00",
          "2024-05-16T00:00:00"
         ],
         "y": [
          529.780029296875,
          528.6900024414062
         ]
        },
        {
         "line": {
          "color": "green",
          "width": 2
         },
         "mode": "lines",
         "name": "Price",
         "showlegend": false,
         "type": "scatter",
         "x": [
          "2024-05-16T00:00:00",
          "2024-05-17T00:00:00"
         ],
         "y": [
          528.6900024414062,
          529.4500122070312
         ]
        },
        {
         "line": {
          "color": "green",
          "width": 2
         },
         "mode": "lines",
         "name": "Price",
         "showlegend": false,
         "type": "scatter",
         "x": [
          "2024-05-17T00:00:00",
          "2024-05-20T00:00:00"
         ],
         "y": [
          529.4500122070312,
          530.0599975585938
         ]
        },
        {
         "line": {
          "color": "green",
          "width": 2
         },
         "mode": "lines",
         "name": "Price",
         "showlegend": false,
         "type": "scatter",
         "x": [
          "2024-05-20T00:00:00",
          "2024-05-21T00:00:00"
         ],
         "y": [
          530.0599975585938,
          531.3599853515625
         ]
        },
        {
         "line": {
          "color": "green",
          "width": 2
         },
         "mode": "lines",
         "name": "Price",
         "showlegend": false,
         "type": "scatter",
         "x": [
          "2024-05-21T00:00:00",
          "2024-05-22T00:00:00"
         ],
         "y": [
          531.3599853515625,
          529.8300170898438
         ]
        },
        {
         "line": {
          "color": "green",
          "width": 2
         },
         "mode": "lines",
         "name": "Price",
         "showlegend": false,
         "type": "scatter",
         "x": [
          "2024-05-22T00:00:00",
          "2024-05-23T00:00:00"
         ],
         "y": [
          529.8300170898438,
          525.9600219726562
         ]
        },
        {
         "line": {
          "color": "green",
          "width": 2
         },
         "mode": "lines",
         "name": "Price",
         "showlegend": false,
         "type": "scatter",
         "x": [
          "2024-05-23T00:00:00",
          "2024-05-24T00:00:00"
         ],
         "y": [
          525.9600219726562,
          529.4400024414062
         ]
        },
        {
         "line": {
          "color": "green",
          "width": 2
         },
         "mode": "lines",
         "name": "Price",
         "showlegend": false,
         "type": "scatter",
         "x": [
          "2024-05-24T00:00:00",
          "2024-05-28T00:00:00"
         ],
         "y": [
          529.4400024414062,
          529.8099975585938
         ]
        },
        {
         "line": {
          "color": "green",
          "width": 2
         },
         "mode": "lines",
         "name": "Price",
         "showlegend": false,
         "type": "scatter",
         "x": [
          "2024-05-28T00:00:00",
          "2024-05-29T00:00:00"
         ],
         "y": [
          529.8099975585938,
          526.0999755859375
         ]
        },
        {
         "line": {
          "color": "green",
          "width": 2
         },
         "mode": "lines",
         "name": "Price",
         "showlegend": false,
         "type": "scatter",
         "x": [
          "2024-05-29T00:00:00",
          "2024-05-30T00:00:00"
         ],
         "y": [
          526.0999755859375,
          522.6099853515625
         ]
        },
        {
         "line": {
          "color": "green",
          "width": 2
         },
         "mode": "lines",
         "name": "Price",
         "showlegend": false,
         "type": "scatter",
         "x": [
          "2024-05-30T00:00:00",
          "2024-05-31T00:00:00"
         ],
         "y": [
          522.6099853515625,
          527.3699951171875
         ]
        },
        {
         "line": {
          "color": "green",
          "width": 2
         },
         "mode": "lines",
         "name": "Price",
         "showlegend": false,
         "type": "scatter",
         "x": [
          "2024-05-31T00:00:00",
          "2024-06-03T00:00:00"
         ],
         "y": [
          527.3699951171875,
          527.7999877929688
         ]
        },
        {
         "line": {
          "color": "green",
          "width": 2
         },
         "mode": "lines",
         "name": "Price",
         "showlegend": false,
         "type": "scatter",
         "x": [
          "2024-06-03T00:00:00",
          "2024-06-04T00:00:00"
         ],
         "y": [
          527.7999877929688,
          528.3900146484375
         ]
        },
        {
         "line": {
          "color": "green",
          "width": 2
         },
         "mode": "lines",
         "name": "Price",
         "showlegend": false,
         "type": "scatter",
         "x": [
          "2024-06-04T00:00:00",
          "2024-06-05T00:00:00"
         ],
         "y": [
          528.3900146484375,
          534.6699829101562
         ]
        },
        {
         "line": {
          "color": "green",
          "width": 2
         },
         "mode": "lines",
         "name": "Price",
         "showlegend": false,
         "type": "scatter",
         "x": [
          "2024-06-05T00:00:00",
          "2024-06-06T00:00:00"
         ],
         "y": [
          534.6699829101562,
          534.6599731445312
         ]
        },
        {
         "line": {
          "color": "green",
          "width": 2
         },
         "mode": "lines",
         "name": "Price",
         "showlegend": false,
         "type": "scatter",
         "x": [
          "2024-06-06T00:00:00",
          "2024-06-07T00:00:00"
         ],
         "y": [
          534.6599731445312,
          534.010009765625
         ]
        },
        {
         "line": {
          "color": "green",
          "width": 2
         },
         "mode": "lines",
         "name": "Price",
         "showlegend": false,
         "type": "scatter",
         "x": [
          "2024-06-07T00:00:00",
          "2024-06-10T00:00:00"
         ],
         "y": [
          534.010009765625,
          535.6599731445312
         ]
        },
        {
         "line": {
          "color": "green",
          "width": 2
         },
         "mode": "lines",
         "name": "Price",
         "showlegend": false,
         "type": "scatter",
         "x": [
          "2024-06-10T00:00:00",
          "2024-06-11T00:00:00"
         ],
         "y": [
          535.6599731445312,
          536.9500122070312
         ]
        },
        {
         "line": {
          "color": "green",
          "width": 2
         },
         "mode": "lines",
         "name": "Price",
         "showlegend": false,
         "type": "scatter",
         "x": [
          "2024-06-11T00:00:00",
          "2024-06-12T00:00:00"
         ],
         "y": [
          536.9500122070312,
          541.3599853515625
         ]
        },
        {
         "line": {
          "color": "green",
          "width": 2
         },
         "mode": "lines",
         "name": "Price",
         "showlegend": false,
         "type": "scatter",
         "x": [
          "2024-06-12T00:00:00",
          "2024-06-13T00:00:00"
         ],
         "y": [
          541.3599853515625,
          542.4500122070312
         ]
        },
        {
         "line": {
          "color": "green",
          "width": 2
         },
         "mode": "lines",
         "name": "Price",
         "showlegend": false,
         "type": "scatter",
         "x": [
          "2024-06-13T00:00:00",
          "2024-06-14T00:00:00"
         ],
         "y": [
          542.4500122070312,
          542.780029296875
         ]
        },
        {
         "line": {
          "color": "green",
          "width": 2
         },
         "mode": "lines",
         "name": "Price",
         "showlegend": false,
         "type": "scatter",
         "x": [
          "2024-06-14T00:00:00",
          "2024-06-17T00:00:00"
         ],
         "y": [
          542.780029296875,
          547.0999755859375
         ]
        },
        {
         "line": {
          "color": "green",
          "width": 2
         },
         "mode": "lines",
         "name": "Price",
         "showlegend": false,
         "type": "scatter",
         "x": [
          "2024-06-17T00:00:00",
          "2024-06-18T00:00:00"
         ],
         "y": [
          547.0999755859375,
          548.489990234375
         ]
        },
        {
         "line": {
          "color": "green",
          "width": 2
         },
         "mode": "lines",
         "name": "Price",
         "showlegend": false,
         "type": "scatter",
         "x": [
          "2024-06-18T00:00:00",
          "2024-06-20T00:00:00"
         ],
         "y": [
          548.489990234375,
          547
         ]
        },
        {
         "line": {
          "color": "green",
          "width": 2
         },
         "mode": "lines",
         "name": "Price",
         "showlegend": false,
         "type": "scatter",
         "x": [
          "2024-06-20T00:00:00",
          "2024-06-21T00:00:00"
         ],
         "y": [
          547,
          544.510009765625
         ]
        },
        {
         "line": {
          "color": "green",
          "width": 2
         },
         "mode": "lines",
         "name": "Price",
         "showlegend": false,
         "type": "scatter",
         "x": [
          "2024-06-21T00:00:00",
          "2024-06-24T00:00:00"
         ],
         "y": [
          544.510009765625,
          542.739990234375
         ]
        },
        {
         "line": {
          "color": "green",
          "width": 2
         },
         "mode": "lines",
         "name": "Price",
         "showlegend": false,
         "type": "scatter",
         "x": [
          "2024-06-24T00:00:00",
          "2024-06-25T00:00:00"
         ],
         "y": [
          542.739990234375,
          544.8300170898438
         ]
        },
        {
         "line": {
          "color": "green",
          "width": 2
         },
         "mode": "lines",
         "name": "Price",
         "showlegend": false,
         "type": "scatter",
         "x": [
          "2024-06-25T00:00:00",
          "2024-06-26T00:00:00"
         ],
         "y": [
          544.8300170898438,
          545.510009765625
         ]
        },
        {
         "line": {
          "color": "green",
          "width": 2
         },
         "mode": "lines",
         "name": "Price",
         "showlegend": false,
         "type": "scatter",
         "x": [
          "2024-06-26T00:00:00",
          "2024-06-27T00:00:00"
         ],
         "y": [
          545.510009765625,
          546.3699951171875
         ]
        },
        {
         "line": {
          "color": "green",
          "width": 2
         },
         "mode": "lines",
         "name": "Price",
         "showlegend": false,
         "type": "scatter",
         "x": [
          "2024-06-27T00:00:00",
          "2024-06-28T00:00:00"
         ],
         "y": [
          546.3699951171875,
          544.219970703125
         ]
        },
        {
         "line": {
          "color": "green",
          "width": 2
         },
         "mode": "lines",
         "name": "Price",
         "showlegend": false,
         "type": "scatter",
         "x": [
          "2024-06-28T00:00:00",
          "2024-07-01T00:00:00"
         ],
         "y": [
          544.219970703125,
          545.3400268554688
         ]
        },
        {
         "line": {
          "color": "green",
          "width": 2
         },
         "mode": "lines",
         "name": "Price",
         "showlegend": false,
         "type": "scatter",
         "x": [
          "2024-07-01T00:00:00",
          "2024-07-02T00:00:00"
         ],
         "y": [
          545.3400268554688,
          549.010009765625
         ]
        },
        {
         "line": {
          "color": "green",
          "width": 2
         },
         "mode": "lines",
         "name": "Price",
         "showlegend": false,
         "type": "scatter",
         "x": [
          "2024-07-02T00:00:00",
          "2024-07-03T00:00:00"
         ],
         "y": [
          549.010009765625,
          551.4600219726562
         ]
        },
        {
         "line": {
          "color": "green",
          "width": 2
         },
         "mode": "lines",
         "name": "Price",
         "showlegend": false,
         "type": "scatter",
         "x": [
          "2024-07-03T00:00:00",
          "2024-07-05T00:00:00"
         ],
         "y": [
          551.4600219726562,
          554.6400146484375
         ]
        },
        {
         "line": {
          "color": "green",
          "width": 2
         },
         "mode": "lines",
         "name": "Price",
         "showlegend": false,
         "type": "scatter",
         "x": [
          "2024-07-05T00:00:00",
          "2024-07-08T00:00:00"
         ],
         "y": [
          554.6400146484375,
          555.280029296875
         ]
        },
        {
         "line": {
          "color": "green",
          "width": 2
         },
         "mode": "lines",
         "name": "Price",
         "showlegend": false,
         "type": "scatter",
         "x": [
          "2024-07-08T00:00:00",
          "2024-07-09T00:00:00"
         ],
         "y": [
          555.280029296875,
          555.8200073242188
         ]
        },
        {
         "line": {
          "color": "green",
          "width": 2
         },
         "mode": "lines",
         "name": "Price",
         "showlegend": false,
         "type": "scatter",
         "x": [
          "2024-07-09T00:00:00",
          "2024-07-10T00:00:00"
         ],
         "y": [
          555.8200073242188,
          561.3200073242188
         ]
        },
        {
         "line": {
          "color": "green",
          "width": 2
         },
         "mode": "lines",
         "name": "Price",
         "showlegend": false,
         "type": "scatter",
         "x": [
          "2024-07-10T00:00:00",
          "2024-07-11T00:00:00"
         ],
         "y": [
          561.3200073242188,
          556.47998046875
         ]
        },
        {
         "line": {
          "color": "green",
          "width": 2
         },
         "mode": "lines",
         "name": "Price",
         "showlegend": false,
         "type": "scatter",
         "x": [
          "2024-07-11T00:00:00",
          "2024-07-12T00:00:00"
         ],
         "y": [
          556.47998046875,
          559.989990234375
         ]
        },
        {
         "line": {
          "color": "green",
          "width": 2
         },
         "mode": "lines",
         "name": "Price",
         "showlegend": false,
         "type": "scatter",
         "x": [
          "2024-07-12T00:00:00",
          "2024-07-15T00:00:00"
         ],
         "y": [
          559.989990234375,
          561.530029296875
         ]
        },
        {
         "line": {
          "color": "green",
          "width": 2
         },
         "mode": "lines",
         "name": "Price",
         "showlegend": false,
         "type": "scatter",
         "x": [
          "2024-07-15T00:00:00",
          "2024-07-16T00:00:00"
         ],
         "y": [
          561.530029296875,
          564.8599853515625
         ]
        },
        {
         "line": {
          "color": "green",
          "width": 2
         },
         "mode": "lines",
         "name": "Price",
         "showlegend": false,
         "type": "scatter",
         "x": [
          "2024-07-16T00:00:00",
          "2024-07-17T00:00:00"
         ],
         "y": [
          564.8599853515625,
          556.9400024414062
         ]
        },
        {
         "line": {
          "color": "green",
          "width": 2
         },
         "mode": "lines",
         "name": "Price",
         "showlegend": false,
         "type": "scatter",
         "x": [
          "2024-07-17T00:00:00",
          "2024-07-18T00:00:00"
         ],
         "y": [
          556.9400024414062,
          552.6599731445312
         ]
        },
        {
         "line": {
          "color": "green",
          "width": 2
         },
         "mode": "lines",
         "name": "Price",
         "showlegend": false,
         "type": "scatter",
         "x": [
          "2024-07-18T00:00:00",
          "2024-07-19T00:00:00"
         ],
         "y": [
          552.6599731445312,
          548.989990234375
         ]
        },
        {
         "line": {
          "color": "green",
          "width": 2
         },
         "mode": "lines",
         "name": "Price",
         "showlegend": false,
         "type": "scatter",
         "x": [
          "2024-07-19T00:00:00",
          "2024-07-22T00:00:00"
         ],
         "y": [
          548.989990234375,
          554.6500244140625
         ]
        },
        {
         "line": {
          "color": "green",
          "width": 2
         },
         "mode": "lines",
         "name": "Price",
         "showlegend": false,
         "type": "scatter",
         "x": [
          "2024-07-22T00:00:00",
          "2024-07-23T00:00:00"
         ],
         "y": [
          554.6500244140625,
          553.780029296875
         ]
        },
        {
         "line": {
          "color": "green",
          "width": 2
         },
         "mode": "lines",
         "name": "Price",
         "showlegend": false,
         "type": "scatter",
         "x": [
          "2024-07-23T00:00:00",
          "2024-07-24T00:00:00"
         ],
         "y": [
          553.780029296875,
          541.22998046875
         ]
        },
        {
         "line": {
          "color": "green",
          "width": 2
         },
         "mode": "lines",
         "name": "Price",
         "showlegend": false,
         "type": "scatter",
         "x": [
          "2024-07-24T00:00:00",
          "2024-07-25T00:00:00"
         ],
         "y": [
          541.22998046875,
          538.4099731445312
         ]
        },
        {
         "line": {
          "color": "green",
          "width": 2
         },
         "mode": "lines",
         "name": "Price",
         "showlegend": false,
         "type": "scatter",
         "x": [
          "2024-07-25T00:00:00",
          "2024-07-26T00:00:00"
         ],
         "y": [
          538.4099731445312,
          544.4400024414062
         ]
        },
        {
         "line": {
          "color": "green",
          "width": 2
         },
         "mode": "lines",
         "name": "Price",
         "showlegend": false,
         "type": "scatter",
         "x": [
          "2024-07-26T00:00:00",
          "2024-07-29T00:00:00"
         ],
         "y": [
          544.4400024414062,
          544.760009765625
         ]
        },
        {
         "line": {
          "color": "green",
          "width": 2
         },
         "mode": "lines",
         "name": "Price",
         "showlegend": false,
         "type": "scatter",
         "x": [
          "2024-07-29T00:00:00",
          "2024-07-30T00:00:00"
         ],
         "y": [
          544.760009765625,
          542
         ]
        },
        {
         "line": {
          "color": "red",
          "width": 2
         },
         "mode": "lines",
         "name": "Price",
         "showlegend": false,
         "type": "scatter",
         "x": [
          "2024-07-30T00:00:00",
          "2024-07-31T00:00:00"
         ],
         "y": [
          542,
          550.8099975585938
         ]
        },
        {
         "line": {
          "color": "green",
          "width": 2
         },
         "mode": "lines",
         "name": "Price",
         "showlegend": false,
         "type": "scatter",
         "x": [
          "2024-07-31T00:00:00",
          "2024-08-01T00:00:00"
         ],
         "y": [
          550.8099975585938,
          543.010009765625
         ]
        },
        {
         "line": {
          "color": "red",
          "width": 2
         },
         "mode": "lines",
         "name": "Price",
         "showlegend": false,
         "type": "scatter",
         "x": [
          "2024-08-01T00:00:00",
          "2024-08-02T00:00:00"
         ],
         "y": [
          543.010009765625,
          532.9000244140625
         ]
        },
        {
         "line": {
          "color": "red",
          "width": 2
         },
         "mode": "lines",
         "name": "Price",
         "showlegend": false,
         "type": "scatter",
         "x": [
          "2024-08-02T00:00:00",
          "2024-08-05T00:00:00"
         ],
         "y": [
          532.9000244140625,
          517.3800048828125
         ]
        },
        {
         "line": {
          "color": "red",
          "width": 2
         },
         "mode": "lines",
         "name": "Price",
         "showlegend": false,
         "type": "scatter",
         "x": [
          "2024-08-05T00:00:00",
          "2024-08-06T00:00:00"
         ],
         "y": [
          517.3800048828125,
          522.1500244140625
         ]
        },
        {
         "line": {
          "color": "red",
          "width": 2
         },
         "mode": "lines",
         "name": "Price",
         "showlegend": false,
         "type": "scatter",
         "x": [
          "2024-08-06T00:00:00",
          "2024-08-07T00:00:00"
         ],
         "y": [
          522.1500244140625,
          518.6599731445312
         ]
        },
        {
         "line": {
          "color": "red",
          "width": 2
         },
         "mode": "lines",
         "name": "Price",
         "showlegend": false,
         "type": "scatter",
         "x": [
          "2024-08-07T00:00:00",
          "2024-08-08T00:00:00"
         ],
         "y": [
          518.6599731445312,
          530.6500244140625
         ]
        },
        {
         "line": {
          "color": "red",
          "width": 2
         },
         "mode": "lines",
         "name": "Price",
         "showlegend": false,
         "type": "scatter",
         "x": [
          "2024-08-08T00:00:00",
          "2024-08-09T00:00:00"
         ],
         "y": [
          530.6500244140625,
          532.989990234375
         ]
        },
        {
         "line": {
          "color": "red",
          "width": 2
         },
         "mode": "lines",
         "name": "Price",
         "showlegend": false,
         "type": "scatter",
         "x": [
          "2024-08-09T00:00:00",
          "2024-08-12T00:00:00"
         ],
         "y": [
          532.989990234375,
          533.27001953125
         ]
        },
        {
         "line": {
          "color": "red",
          "width": 2
         },
         "mode": "lines",
         "name": "Price",
         "showlegend": false,
         "type": "scatter",
         "x": [
          "2024-08-12T00:00:00",
          "2024-08-13T00:00:00"
         ],
         "y": [
          533.27001953125,
          542.0399780273438
         ]
        },
        {
         "line": {
          "color": "red",
          "width": 2
         },
         "mode": "lines",
         "name": "Price",
         "showlegend": false,
         "type": "scatter",
         "x": [
          "2024-08-13T00:00:00",
          "2024-08-14T00:00:00"
         ],
         "y": [
          542.0399780273438,
          543.75
         ]
        },
        {
         "line": {
          "color": "red",
          "width": 2
         },
         "mode": "lines",
         "name": "Price",
         "showlegend": false,
         "type": "scatter",
         "x": [
          "2024-08-14T00:00:00",
          "2024-08-15T00:00:00"
         ],
         "y": [
          543.75,
          553.0700073242188
         ]
        },
        {
         "line": {
          "color": "green",
          "width": 2
         },
         "mode": "lines",
         "name": "Price",
         "showlegend": false,
         "type": "scatter",
         "x": [
          "2024-08-15T00:00:00",
          "2024-08-16T00:00:00"
         ],
         "y": [
          553.0700073242188,
          554.3099975585938
         ]
        },
        {
         "line": {
          "color": "red",
          "width": 2
         },
         "mode": "lines",
         "name": "Price",
         "showlegend": false,
         "type": "scatter",
         "x": [
          "2024-08-16T00:00:00",
          "2024-08-19T00:00:00"
         ],
         "y": [
          554.3099975585938,
          559.6099853515625
         ]
        },
        {
         "line": {
          "color": "green",
          "width": 2
         },
         "mode": "lines",
         "name": "Price",
         "showlegend": false,
         "type": "scatter",
         "x": [
          "2024-08-19T00:00:00",
          "2024-08-20T00:00:00"
         ],
         "y": [
          559.6099853515625,
          558.7000122070312
         ]
        },
        {
         "line": {
          "color": "green",
          "width": 2
         },
         "mode": "lines",
         "name": "Price",
         "showlegend": false,
         "type": "scatter",
         "x": [
          "2024-08-20T00:00:00",
          "2024-08-21T00:00:00"
         ],
         "y": [
          558.7000122070312,
          560.6199951171875
         ]
        },
        {
         "line": {
          "color": "red",
          "width": 2
         },
         "mode": "lines",
         "name": "Price",
         "showlegend": false,
         "type": "scatter",
         "x": [
          "2024-08-21T00:00:00",
          "2024-08-22T00:00:00"
         ],
         "y": [
          560.6199951171875,
          556.219970703125
         ]
        },
        {
         "line": {
          "color": "red",
          "width": 2
         },
         "mode": "lines",
         "name": "Price",
         "showlegend": false,
         "type": "scatter",
         "x": [
          "2024-08-22T00:00:00",
          "2024-08-23T00:00:00"
         ],
         "y": [
          556.219970703125,
          562.1300048828125
         ]
        },
        {
         "line": {
          "color": "green",
          "width": 2
         },
         "mode": "lines",
         "name": "Price",
         "showlegend": false,
         "type": "scatter",
         "x": [
          "2024-08-23T00:00:00",
          "2024-08-26T00:00:00"
         ],
         "y": [
          562.1300048828125,
          560.7899780273438
         ]
        },
        {
         "line": {
          "color": "red",
          "width": 2
         },
         "mode": "lines",
         "name": "Price",
         "showlegend": false,
         "type": "scatter",
         "x": [
          "2024-08-26T00:00:00",
          "2024-08-27T00:00:00"
         ],
         "y": [
          560.7899780273438,
          561.5599975585938
         ]
        },
        {
         "line": {
          "color": "red",
          "width": 2
         },
         "mode": "lines",
         "name": "Price",
         "showlegend": false,
         "type": "scatter",
         "x": [
          "2024-08-27T00:00:00",
          "2024-08-28T00:00:00"
         ],
         "y": [
          561.5599975585938,
          558.2999877929688
         ]
        },
        {
         "line": {
          "color": "green",
          "width": 2
         },
         "mode": "lines",
         "name": "Price",
         "showlegend": false,
         "type": "scatter",
         "x": [
          "2024-08-28T00:00:00",
          "2024-08-29T00:00:00"
         ],
         "y": [
          558.2999877929688,
          558.3499755859375
         ]
        },
        {
         "line": {
          "color": "green",
          "width": 2
         },
         "mode": "lines",
         "name": "Price",
         "showlegend": false,
         "type": "scatter",
         "x": [
          "2024-08-29T00:00:00",
          "2024-08-30T00:00:00"
         ],
         "y": [
          558.3499755859375,
          563.6799926757812
         ]
        },
        {
         "line": {
          "color": "green",
          "width": 2
         },
         "mode": "lines",
         "name": "Price",
         "showlegend": false,
         "type": "scatter",
         "x": [
          "2024-08-30T00:00:00",
          "2024-09-03T00:00:00"
         ],
         "y": [
          563.6799926757812,
          552.0800170898438
         ]
        },
        {
         "line": {
          "color": "red",
          "width": 2
         },
         "mode": "lines",
         "name": "Price",
         "showlegend": false,
         "type": "scatter",
         "x": [
          "2024-09-03T00:00:00",
          "2024-09-04T00:00:00"
         ],
         "y": [
          552.0800170898438,
          550.9500122070312
         ]
        },
        {
         "line": {
          "color": "red",
          "width": 2
         },
         "mode": "lines",
         "name": "Price",
         "showlegend": false,
         "type": "scatter",
         "x": [
          "2024-09-04T00:00:00",
          "2024-09-05T00:00:00"
         ],
         "y": [
          550.9500122070312,
          549.6099853515625
         ]
        },
        {
         "line": {
          "color": "green",
          "width": 2
         },
         "mode": "lines",
         "name": "Price",
         "showlegend": false,
         "type": "scatter",
         "x": [
          "2024-09-05T00:00:00",
          "2024-09-06T00:00:00"
         ],
         "y": [
          549.6099853515625,
          540.3599853515625
         ]
        },
        {
         "line": {
          "color": "green",
          "width": 2
         },
         "mode": "lines",
         "name": "Price",
         "showlegend": false,
         "type": "scatter",
         "x": [
          "2024-09-06T00:00:00",
          "2024-09-09T00:00:00"
         ],
         "y": [
          540.3599853515625,
          546.4099731445312
         ]
        },
        {
         "line": {
          "color": "green",
          "width": 2
         },
         "mode": "lines",
         "name": "Price",
         "showlegend": false,
         "type": "scatter",
         "x": [
          "2024-09-09T00:00:00",
          "2024-09-10T00:00:00"
         ],
         "y": [
          546.4099731445312,
          548.7899780273438
         ]
        },
        {
         "line": {
          "color": "green",
          "width": 2
         },
         "mode": "lines",
         "name": "Price",
         "showlegend": false,
         "type": "scatter",
         "x": [
          "2024-09-10T00:00:00",
          "2024-09-11T00:00:00"
         ],
         "y": [
          548.7899780273438,
          554.4199829101562
         ]
        },
        {
         "line": {
          "color": "green",
          "width": 2
         },
         "mode": "lines",
         "name": "Price",
         "showlegend": false,
         "type": "scatter",
         "x": [
          "2024-09-11T00:00:00",
          "2024-09-12T00:00:00"
         ],
         "y": [
          554.4199829101562,
          559.0900268554688
         ]
        },
        {
         "line": {
          "color": "green",
          "width": 2
         },
         "mode": "lines",
         "name": "Price",
         "showlegend": false,
         "type": "scatter",
         "x": [
          "2024-09-12T00:00:00",
          "2024-09-13T00:00:00"
         ],
         "y": [
          559.0900268554688,
          562.010009765625
         ]
        },
        {
         "line": {
          "color": "green",
          "width": 2
         },
         "mode": "lines",
         "name": "Price",
         "showlegend": false,
         "type": "scatter",
         "x": [
          "2024-09-13T00:00:00",
          "2024-09-16T00:00:00"
         ],
         "y": [
          562.010009765625,
          562.8400268554688
         ]
        },
        {
         "line": {
          "color": "green",
          "width": 2
         },
         "mode": "lines",
         "name": "Price",
         "showlegend": false,
         "type": "scatter",
         "x": [
          "2024-09-16T00:00:00",
          "2024-09-17T00:00:00"
         ],
         "y": [
          562.8400268554688,
          563.0700073242188
         ]
        },
        {
         "line": {
          "color": "green",
          "width": 2
         },
         "mode": "lines",
         "name": "Price",
         "showlegend": false,
         "type": "scatter",
         "x": [
          "2024-09-17T00:00:00",
          "2024-09-18T00:00:00"
         ],
         "y": [
          563.0700073242188,
          561.4000244140625
         ]
        },
        {
         "line": {
          "color": "green",
          "width": 2
         },
         "mode": "lines",
         "name": "Price",
         "showlegend": false,
         "type": "scatter",
         "x": [
          "2024-09-18T00:00:00",
          "2024-09-19T00:00:00"
         ],
         "y": [
          561.4000244140625,
          570.97998046875
         ]
        },
        {
         "line": {
          "color": "green",
          "width": 2
         },
         "mode": "lines",
         "name": "Price",
         "showlegend": false,
         "type": "scatter",
         "x": [
          "2024-09-19T00:00:00",
          "2024-09-20T00:00:00"
         ],
         "y": [
          570.97998046875,
          568.25
         ]
        },
        {
         "line": {
          "color": "green",
          "width": 2
         },
         "mode": "lines",
         "name": "Price",
         "showlegend": false,
         "type": "scatter",
         "x": [
          "2024-09-20T00:00:00",
          "2024-09-23T00:00:00"
         ],
         "y": [
          568.25,
          569.6699829101562
         ]
        },
        {
         "line": {
          "color": "green",
          "width": 2
         },
         "mode": "lines",
         "name": "Price",
         "showlegend": false,
         "type": "scatter",
         "x": [
          "2024-09-23T00:00:00",
          "2024-09-24T00:00:00"
         ],
         "y": [
          569.6699829101562,
          571.2999877929688
         ]
        },
        {
         "line": {
          "color": "green",
          "width": 2
         },
         "mode": "lines",
         "name": "Price",
         "showlegend": false,
         "type": "scatter",
         "x": [
          "2024-09-24T00:00:00",
          "2024-09-25T00:00:00"
         ],
         "y": [
          571.2999877929688,
          570.0399780273438
         ]
        },
        {
         "line": {
          "color": "green",
          "width": 2
         },
         "mode": "lines",
         "name": "Price",
         "showlegend": false,
         "type": "scatter",
         "x": [
          "2024-09-25T00:00:00",
          "2024-09-26T00:00:00"
         ],
         "y": [
          570.0399780273438,
          572.2999877929688
         ]
        },
        {
         "line": {
          "color": "green",
          "width": 2
         },
         "mode": "lines",
         "name": "Price",
         "showlegend": false,
         "type": "scatter",
         "x": [
          "2024-09-26T00:00:00",
          "2024-09-27T00:00:00"
         ],
         "y": [
          572.2999877929688,
          571.469970703125
         ]
        },
        {
         "line": {
          "color": "green",
          "width": 2
         },
         "mode": "lines",
         "name": "Price",
         "showlegend": false,
         "type": "scatter",
         "x": [
          "2024-09-27T00:00:00",
          "2024-09-30T00:00:00"
         ],
         "y": [
          571.469970703125,
          573.760009765625
         ]
        },
        {
         "line": {
          "color": "green",
          "width": 2
         },
         "mode": "lines",
         "name": "Price",
         "showlegend": false,
         "type": "scatter",
         "x": [
          "2024-09-30T00:00:00",
          "2024-10-01T00:00:00"
         ],
         "y": [
          573.760009765625,
          568.6199951171875
         ]
        },
        {
         "line": {
          "color": "green",
          "width": 2
         },
         "mode": "lines",
         "name": "Price",
         "showlegend": false,
         "type": "scatter",
         "x": [
          "2024-10-01T00:00:00",
          "2024-10-02T00:00:00"
         ],
         "y": [
          568.6199951171875,
          568.8599853515625
         ]
        },
        {
         "line": {
          "color": "green",
          "width": 2
         },
         "mode": "lines",
         "name": "Price",
         "showlegend": false,
         "type": "scatter",
         "x": [
          "2024-10-02T00:00:00",
          "2024-10-03T00:00:00"
         ],
         "y": [
          568.8599853515625,
          567.8200073242188
         ]
        },
        {
         "line": {
          "color": "green",
          "width": 2
         },
         "mode": "lines",
         "name": "Price",
         "showlegend": false,
         "type": "scatter",
         "x": [
          "2024-10-03T00:00:00",
          "2024-10-04T00:00:00"
         ],
         "y": [
          567.8200073242188,
          572.97998046875
         ]
        },
        {
         "line": {
          "color": "green",
          "width": 2
         },
         "mode": "lines",
         "name": "Price",
         "showlegend": false,
         "type": "scatter",
         "x": [
          "2024-10-04T00:00:00",
          "2024-10-07T00:00:00"
         ],
         "y": [
          572.97998046875,
          567.7999877929688
         ]
        },
        {
         "line": {
          "color": "green",
          "width": 2
         },
         "mode": "lines",
         "name": "Price",
         "showlegend": false,
         "type": "scatter",
         "x": [
          "2024-10-07T00:00:00",
          "2024-10-08T00:00:00"
         ],
         "y": [
          567.7999877929688,
          573.1699829101562
         ]
        },
        {
         "line": {
          "color": "green",
          "width": 2
         },
         "mode": "lines",
         "name": "Price",
         "showlegend": false,
         "type": "scatter",
         "x": [
          "2024-10-08T00:00:00",
          "2024-10-09T00:00:00"
         ],
         "y": [
          573.1699829101562,
          577.1400146484375
         ]
        },
        {
         "line": {
          "color": "green",
          "width": 2
         },
         "mode": "lines",
         "name": "Price",
         "showlegend": false,
         "type": "scatter",
         "x": [
          "2024-10-09T00:00:00",
          "2024-10-10T00:00:00"
         ],
         "y": [
          577.1400146484375,
          576.1300048828125
         ]
        },
        {
         "line": {
          "color": "green",
          "width": 2
         },
         "mode": "lines",
         "name": "Price",
         "showlegend": false,
         "type": "scatter",
         "x": [
          "2024-10-10T00:00:00",
          "2024-10-11T00:00:00"
         ],
         "y": [
          576.1300048828125,
          579.5800170898438
         ]
        },
        {
         "line": {
          "color": "green",
          "width": 2
         },
         "mode": "lines",
         "name": "Price",
         "showlegend": false,
         "type": "scatter",
         "x": [
          "2024-10-11T00:00:00",
          "2024-10-14T00:00:00"
         ],
         "y": [
          579.5800170898438,
          584.3200073242188
         ]
        },
        {
         "line": {
          "color": "green",
          "width": 2
         },
         "mode": "lines",
         "name": "Price",
         "showlegend": false,
         "type": "scatter",
         "x": [
          "2024-10-14T00:00:00",
          "2024-10-15T00:00:00"
         ],
         "y": [
          584.3200073242188,
          579.780029296875
         ]
        },
        {
         "line": {
          "color": "green",
          "width": 2
         },
         "mode": "lines",
         "name": "Price",
         "showlegend": false,
         "type": "scatter",
         "x": [
          "2024-10-15T00:00:00",
          "2024-10-16T00:00:00"
         ],
         "y": [
          579.780029296875,
          582.2999877929688
         ]
        },
        {
         "line": {
          "color": "green",
          "width": 2
         },
         "mode": "lines",
         "name": "Price",
         "showlegend": false,
         "type": "scatter",
         "x": [
          "2024-10-16T00:00:00",
          "2024-10-17T00:00:00"
         ],
         "y": [
          582.2999877929688,
          582.3499755859375
         ]
        },
        {
         "line": {
          "color": "green",
          "width": 2
         },
         "mode": "lines",
         "name": "Price",
         "showlegend": false,
         "type": "scatter",
         "x": [
          "2024-10-17T00:00:00",
          "2024-10-18T00:00:00"
         ],
         "y": [
          582.3499755859375,
          584.5900268554688
         ]
        },
        {
         "line": {
          "color": "green",
          "width": 2
         },
         "mode": "lines",
         "name": "Price",
         "showlegend": false,
         "type": "scatter",
         "x": [
          "2024-10-18T00:00:00",
          "2024-10-21T00:00:00"
         ],
         "y": [
          584.5900268554688,
          583.6300048828125
         ]
        },
        {
         "line": {
          "color": "green",
          "width": 2
         },
         "mode": "lines",
         "name": "Price",
         "showlegend": false,
         "type": "scatter",
         "x": [
          "2024-10-21T00:00:00",
          "2024-10-22T00:00:00"
         ],
         "y": [
          583.6300048828125,
          583.3200073242188
         ]
        },
        {
         "line": {
          "color": "green",
          "width": 2
         },
         "mode": "lines",
         "name": "Price",
         "showlegend": false,
         "type": "scatter",
         "x": [
          "2024-10-22T00:00:00",
          "2024-10-23T00:00:00"
         ],
         "y": [
          583.3200073242188,
          577.989990234375
         ]
        },
        {
         "line": {
          "color": "green",
          "width": 2
         },
         "mode": "lines",
         "name": "Price",
         "showlegend": false,
         "type": "scatter",
         "x": [
          "2024-10-23T00:00:00",
          "2024-10-24T00:00:00"
         ],
         "y": [
          577.989990234375,
          579.239990234375
         ]
        },
        {
         "line": {
          "color": "green",
          "width": 2
         },
         "mode": "lines",
         "name": "Price",
         "showlegend": false,
         "type": "scatter",
         "x": [
          "2024-10-24T00:00:00",
          "2024-10-25T00:00:00"
         ],
         "y": [
          579.239990234375,
          579.0399780273438
         ]
        },
        {
         "line": {
          "color": "green",
          "width": 2
         },
         "mode": "lines",
         "name": "Price",
         "showlegend": false,
         "type": "scatter",
         "x": [
          "2024-10-25T00:00:00",
          "2024-10-28T00:00:00"
         ],
         "y": [
          579.0399780273438,
          580.8300170898438
         ]
        },
        {
         "line": {
          "color": "green",
          "width": 2
         },
         "mode": "lines",
         "name": "Price",
         "showlegend": false,
         "type": "scatter",
         "x": [
          "2024-10-28T00:00:00",
          "2024-10-29T00:00:00"
         ],
         "y": [
          580.8300170898438,
          581.77001953125
         ]
        },
        {
         "line": {
          "color": "green",
          "width": 2
         },
         "mode": "lines",
         "name": "Price",
         "showlegend": false,
         "type": "scatter",
         "x": [
          "2024-10-29T00:00:00",
          "2024-10-30T00:00:00"
         ],
         "y": [
          581.77001953125,
          580.010009765625
         ]
        },
        {
         "line": {
          "color": "green",
          "width": 2
         },
         "mode": "lines",
         "name": "Price",
         "showlegend": false,
         "type": "scatter",
         "x": [
          "2024-10-30T00:00:00",
          "2024-10-31T00:00:00"
         ],
         "y": [
          580.010009765625,
          568.6400146484375
         ]
        },
        {
         "line": {
          "color": "red",
          "width": 2
         },
         "mode": "lines",
         "name": "Price",
         "showlegend": false,
         "type": "scatter",
         "x": [
          "2024-10-31T00:00:00",
          "2024-11-01T00:00:00"
         ],
         "y": [
          568.6400146484375,
          571.0399780273438
         ]
        },
        {
         "line": {
          "color": "green",
          "width": 2
         },
         "mode": "lines",
         "name": "Price",
         "showlegend": false,
         "type": "scatter",
         "x": [
          "2024-11-01T00:00:00",
          "2024-11-04T00:00:00"
         ],
         "y": [
          571.0399780273438,
          569.8099975585938
         ]
        },
        {
         "line": {
          "color": "green",
          "width": 2
         },
         "mode": "lines",
         "name": "Price",
         "showlegend": false,
         "type": "scatter",
         "x": [
          "2024-11-04T00:00:00",
          "2024-11-05T00:00:00"
         ],
         "y": [
          569.8099975585938,
          576.7000122070312
         ]
        },
        {
         "line": {
          "color": "green",
          "width": 2
         },
         "mode": "lines",
         "name": "Price",
         "showlegend": false,
         "type": "scatter",
         "x": [
          "2024-11-05T00:00:00",
          "2024-11-06T00:00:00"
         ],
         "y": [
          576.7000122070312,
          591.0399780273438
         ]
        },
        {
         "line": {
          "color": "green",
          "width": 2
         },
         "mode": "lines",
         "name": "Price",
         "showlegend": false,
         "type": "scatter",
         "x": [
          "2024-11-06T00:00:00",
          "2024-11-07T00:00:00"
         ],
         "y": [
          591.0399780273438,
          595.6099853515625
         ]
        },
        {
         "line": {
          "color": "green",
          "width": 2
         },
         "mode": "lines",
         "name": "Price",
         "showlegend": false,
         "type": "scatter",
         "x": [
          "2024-11-07T00:00:00",
          "2024-11-08T00:00:00"
         ],
         "y": [
          595.6099853515625,
          598.1900024414062
         ]
        },
        {
         "line": {
          "color": "green",
          "width": 2
         },
         "mode": "lines",
         "name": "Price",
         "showlegend": false,
         "type": "scatter",
         "x": [
          "2024-11-08T00:00:00",
          "2024-11-11T00:00:00"
         ],
         "y": [
          598.1900024414062,
          598.760009765625
         ]
        },
        {
         "line": {
          "color": "green",
          "width": 2
         },
         "mode": "lines",
         "name": "Price",
         "showlegend": false,
         "type": "scatter",
         "x": [
          "2024-11-11T00:00:00",
          "2024-11-12T00:00:00"
         ],
         "y": [
          598.760009765625,
          596.9000244140625
         ]
        },
        {
         "line": {
          "color": "green",
          "width": 2
         },
         "mode": "lines",
         "name": "Price",
         "showlegend": false,
         "type": "scatter",
         "x": [
          "2024-11-12T00:00:00",
          "2024-11-13T00:00:00"
         ],
         "y": [
          596.9000244140625,
          597.1900024414062
         ]
        },
        {
         "line": {
          "color": "green",
          "width": 2
         },
         "mode": "lines",
         "name": "Price",
         "showlegend": false,
         "type": "scatter",
         "x": [
          "2024-11-13T00:00:00",
          "2024-11-14T00:00:00"
         ],
         "y": [
          597.1900024414062,
          593.3499755859375
         ]
        },
        {
         "line": {
          "color": "green",
          "width": 2
         },
         "mode": "lines",
         "name": "Price",
         "showlegend": false,
         "type": "scatter",
         "x": [
          "2024-11-14T00:00:00",
          "2024-11-15T00:00:00"
         ],
         "y": [
          593.3499755859375,
          585.75
         ]
        },
        {
         "line": {
          "color": "green",
          "width": 2
         },
         "mode": "lines",
         "name": "Price",
         "showlegend": false,
         "type": "scatter",
         "x": [
          "2024-11-15T00:00:00",
          "2024-11-18T00:00:00"
         ],
         "y": [
          585.75,
          588.1500244140625
         ]
        },
        {
         "line": {
          "color": "green",
          "width": 2
         },
         "mode": "lines",
         "name": "Price",
         "showlegend": false,
         "type": "scatter",
         "x": [
          "2024-11-18T00:00:00",
          "2024-11-19T00:00:00"
         ],
         "y": [
          588.1500244140625,
          590.2999877929688
         ]
        },
        {
         "line": {
          "color": "green",
          "width": 2
         },
         "mode": "lines",
         "name": "Price",
         "showlegend": false,
         "type": "scatter",
         "x": [
          "2024-11-19T00:00:00",
          "2024-11-20T00:00:00"
         ],
         "y": [
          590.2999877929688,
          590.5
         ]
        },
        {
         "line": {
          "color": "green",
          "width": 2
         },
         "mode": "lines",
         "name": "Price",
         "showlegend": false,
         "type": "scatter",
         "x": [
          "2024-11-20T00:00:00",
          "2024-11-21T00:00:00"
         ],
         "y": [
          590.5,
          593.6699829101562
         ]
        },
        {
         "line": {
          "color": "green",
          "width": 2
         },
         "mode": "lines",
         "name": "Price",
         "showlegend": false,
         "type": "scatter",
         "x": [
          "2024-11-21T00:00:00",
          "2024-11-22T00:00:00"
         ],
         "y": [
          593.6699829101562,
          595.510009765625
         ]
        },
        {
         "line": {
          "color": "green",
          "width": 2
         },
         "mode": "lines",
         "name": "Price",
         "showlegend": false,
         "type": "scatter",
         "x": [
          "2024-11-22T00:00:00",
          "2024-11-25T00:00:00"
         ],
         "y": [
          595.510009765625,
          597.530029296875
         ]
        },
        {
         "line": {
          "color": "green",
          "width": 2
         },
         "mode": "lines",
         "name": "Price",
         "showlegend": false,
         "type": "scatter",
         "x": [
          "2024-11-25T00:00:00",
          "2024-11-26T00:00:00"
         ],
         "y": [
          597.530029296875,
          600.6500244140625
         ]
        },
        {
         "line": {
          "color": "green",
          "width": 2
         },
         "mode": "lines",
         "name": "Price",
         "showlegend": false,
         "type": "scatter",
         "x": [
          "2024-11-26T00:00:00",
          "2024-11-27T00:00:00"
         ],
         "y": [
          600.6500244140625,
          598.8300170898438
         ]
        },
        {
         "line": {
          "color": "green",
          "width": 2
         },
         "mode": "lines",
         "name": "Price",
         "showlegend": false,
         "type": "scatter",
         "x": [
          "2024-11-27T00:00:00",
          "2024-11-29T00:00:00"
         ],
         "y": [
          598.8300170898438,
          602.5499877929688
         ]
        },
        {
         "line": {
          "color": "green",
          "width": 2
         },
         "mode": "lines",
         "name": "Price",
         "showlegend": false,
         "type": "scatter",
         "x": [
          "2024-11-29T00:00:00",
          "2024-12-02T00:00:00"
         ],
         "y": [
          602.5499877929688,
          603.6300048828125
         ]
        },
        {
         "line": {
          "color": "green",
          "width": 2
         },
         "mode": "lines",
         "name": "Price",
         "showlegend": false,
         "type": "scatter",
         "x": [
          "2024-12-02T00:00:00",
          "2024-12-03T00:00:00"
         ],
         "y": [
          603.6300048828125,
          603.9099731445312
         ]
        },
        {
         "line": {
          "color": "green",
          "width": 2
         },
         "mode": "lines",
         "name": "Price",
         "showlegend": false,
         "type": "scatter",
         "x": [
          "2024-12-03T00:00:00",
          "2024-12-04T00:00:00"
         ],
         "y": [
          603.9099731445312,
          607.6599731445312
         ]
        },
        {
         "line": {
          "color": "green",
          "width": 2
         },
         "mode": "lines",
         "name": "Price",
         "showlegend": false,
         "type": "scatter",
         "x": [
          "2024-12-04T00:00:00",
          "2024-12-05T00:00:00"
         ],
         "y": [
          607.6599731445312,
          606.6599731445312
         ]
        },
        {
         "line": {
          "color": "green",
          "width": 2
         },
         "mode": "lines",
         "name": "Price",
         "showlegend": false,
         "type": "scatter",
         "x": [
          "2024-12-05T00:00:00",
          "2024-12-06T00:00:00"
         ],
         "y": [
          606.6599731445312,
          607.8099975585938
         ]
        },
        {
         "line": {
          "color": "green",
          "width": 2
         },
         "mode": "lines",
         "name": "Price",
         "showlegend": false,
         "type": "scatter",
         "x": [
          "2024-12-06T00:00:00",
          "2024-12-09T00:00:00"
         ],
         "y": [
          607.8099975585938,
          606.0150146484375
         ]
        }
       ],
       "layout": {
        "legend": {
         "orientation": "h",
         "x": 0.45,
         "xanchor": "center",
         "y": 1.15
        },
        "showlegend": true,
        "template": {
         "data": {
          "bar": [
           {
            "error_x": {
             "color": "#f2f5fa"
            },
            "error_y": {
             "color": "#f2f5fa"
            },
            "marker": {
             "line": {
              "color": "rgb(17,17,17)",
              "width": 0.5
             },
             "pattern": {
              "fillmode": "overlay",
              "size": 10,
              "solidity": 0.2
             }
            },
            "type": "bar"
           }
          ],
          "barpolar": [
           {
            "marker": {
             "line": {
              "color": "rgb(17,17,17)",
              "width": 0.5
             },
             "pattern": {
              "fillmode": "overlay",
              "size": 10,
              "solidity": 0.2
             }
            },
            "type": "barpolar"
           }
          ],
          "carpet": [
           {
            "aaxis": {
             "endlinecolor": "#A2B1C6",
             "gridcolor": "#506784",
             "linecolor": "#506784",
             "minorgridcolor": "#506784",
             "startlinecolor": "#A2B1C6"
            },
            "baxis": {
             "endlinecolor": "#A2B1C6",
             "gridcolor": "#506784",
             "linecolor": "#506784",
             "minorgridcolor": "#506784",
             "startlinecolor": "#A2B1C6"
            },
            "type": "carpet"
           }
          ],
          "choropleth": [
           {
            "colorbar": {
             "outlinewidth": 0,
             "ticks": ""
            },
            "type": "choropleth"
           }
          ],
          "contour": [
           {
            "colorbar": {
             "outlinewidth": 0,
             "ticks": ""
            },
            "colorscale": [
             [
              0,
              "#0d0887"
             ],
             [
              0.1111111111111111,
              "#46039f"
             ],
             [
              0.2222222222222222,
              "#7201a8"
             ],
             [
              0.3333333333333333,
              "#9c179e"
             ],
             [
              0.4444444444444444,
              "#bd3786"
             ],
             [
              0.5555555555555556,
              "#d8576b"
             ],
             [
              0.6666666666666666,
              "#ed7953"
             ],
             [
              0.7777777777777778,
              "#fb9f3a"
             ],
             [
              0.8888888888888888,
              "#fdca26"
             ],
             [
              1,
              "#f0f921"
             ]
            ],
            "type": "contour"
           }
          ],
          "contourcarpet": [
           {
            "colorbar": {
             "outlinewidth": 0,
             "ticks": ""
            },
            "type": "contourcarpet"
           }
          ],
          "heatmap": [
           {
            "colorbar": {
             "outlinewidth": 0,
             "ticks": ""
            },
            "colorscale": [
             [
              0,
              "#0d0887"
             ],
             [
              0.1111111111111111,
              "#46039f"
             ],
             [
              0.2222222222222222,
              "#7201a8"
             ],
             [
              0.3333333333333333,
              "#9c179e"
             ],
             [
              0.4444444444444444,
              "#bd3786"
             ],
             [
              0.5555555555555556,
              "#d8576b"
             ],
             [
              0.6666666666666666,
              "#ed7953"
             ],
             [
              0.7777777777777778,
              "#fb9f3a"
             ],
             [
              0.8888888888888888,
              "#fdca26"
             ],
             [
              1,
              "#f0f921"
             ]
            ],
            "type": "heatmap"
           }
          ],
          "heatmapgl": [
           {
            "colorbar": {
             "outlinewidth": 0,
             "ticks": ""
            },
            "colorscale": [
             [
              0,
              "#0d0887"
             ],
             [
              0.1111111111111111,
              "#46039f"
             ],
             [
              0.2222222222222222,
              "#7201a8"
             ],
             [
              0.3333333333333333,
              "#9c179e"
             ],
             [
              0.4444444444444444,
              "#bd3786"
             ],
             [
              0.5555555555555556,
              "#d8576b"
             ],
             [
              0.6666666666666666,
              "#ed7953"
             ],
             [
              0.7777777777777778,
              "#fb9f3a"
             ],
             [
              0.8888888888888888,
              "#fdca26"
             ],
             [
              1,
              "#f0f921"
             ]
            ],
            "type": "heatmapgl"
           }
          ],
          "histogram": [
           {
            "marker": {
             "pattern": {
              "fillmode": "overlay",
              "size": 10,
              "solidity": 0.2
             }
            },
            "type": "histogram"
           }
          ],
          "histogram2d": [
           {
            "colorbar": {
             "outlinewidth": 0,
             "ticks": ""
            },
            "colorscale": [
             [
              0,
              "#0d0887"
             ],
             [
              0.1111111111111111,
              "#46039f"
             ],
             [
              0.2222222222222222,
              "#7201a8"
             ],
             [
              0.3333333333333333,
              "#9c179e"
             ],
             [
              0.4444444444444444,
              "#bd3786"
             ],
             [
              0.5555555555555556,
              "#d8576b"
             ],
             [
              0.6666666666666666,
              "#ed7953"
             ],
             [
              0.7777777777777778,
              "#fb9f3a"
             ],
             [
              0.8888888888888888,
              "#fdca26"
             ],
             [
              1,
              "#f0f921"
             ]
            ],
            "type": "histogram2d"
           }
          ],
          "histogram2dcontour": [
           {
            "colorbar": {
             "outlinewidth": 0,
             "ticks": ""
            },
            "colorscale": [
             [
              0,
              "#0d0887"
             ],
             [
              0.1111111111111111,
              "#46039f"
             ],
             [
              0.2222222222222222,
              "#7201a8"
             ],
             [
              0.3333333333333333,
              "#9c179e"
             ],
             [
              0.4444444444444444,
              "#bd3786"
             ],
             [
              0.5555555555555556,
              "#d8576b"
             ],
             [
              0.6666666666666666,
              "#ed7953"
             ],
             [
              0.7777777777777778,
              "#fb9f3a"
             ],
             [
              0.8888888888888888,
              "#fdca26"
             ],
             [
              1,
              "#f0f921"
             ]
            ],
            "type": "histogram2dcontour"
           }
          ],
          "mesh3d": [
           {
            "colorbar": {
             "outlinewidth": 0,
             "ticks": ""
            },
            "type": "mesh3d"
           }
          ],
          "parcoords": [
           {
            "line": {
             "colorbar": {
              "outlinewidth": 0,
              "ticks": ""
             }
            },
            "type": "parcoords"
           }
          ],
          "pie": [
           {
            "automargin": true,
            "type": "pie"
           }
          ],
          "scatter": [
           {
            "marker": {
             "line": {
              "color": "#283442"
             }
            },
            "type": "scatter"
           }
          ],
          "scatter3d": [
           {
            "line": {
             "colorbar": {
              "outlinewidth": 0,
              "ticks": ""
             }
            },
            "marker": {
             "colorbar": {
              "outlinewidth": 0,
              "ticks": ""
             }
            },
            "type": "scatter3d"
           }
          ],
          "scattercarpet": [
           {
            "marker": {
             "colorbar": {
              "outlinewidth": 0,
              "ticks": ""
             }
            },
            "type": "scattercarpet"
           }
          ],
          "scattergeo": [
           {
            "marker": {
             "colorbar": {
              "outlinewidth": 0,
              "ticks": ""
             }
            },
            "type": "scattergeo"
           }
          ],
          "scattergl": [
           {
            "marker": {
             "line": {
              "color": "#283442"
             }
            },
            "type": "scattergl"
           }
          ],
          "scattermapbox": [
           {
            "marker": {
             "colorbar": {
              "outlinewidth": 0,
              "ticks": ""
             }
            },
            "type": "scattermapbox"
           }
          ],
          "scatterpolar": [
           {
            "marker": {
             "colorbar": {
              "outlinewidth": 0,
              "ticks": ""
             }
            },
            "type": "scatterpolar"
           }
          ],
          "scatterpolargl": [
           {
            "marker": {
             "colorbar": {
              "outlinewidth": 0,
              "ticks": ""
             }
            },
            "type": "scatterpolargl"
           }
          ],
          "scatterternary": [
           {
            "marker": {
             "colorbar": {
              "outlinewidth": 0,
              "ticks": ""
             }
            },
            "type": "scatterternary"
           }
          ],
          "surface": [
           {
            "colorbar": {
             "outlinewidth": 0,
             "ticks": ""
            },
            "colorscale": [
             [
              0,
              "#0d0887"
             ],
             [
              0.1111111111111111,
              "#46039f"
             ],
             [
              0.2222222222222222,
              "#7201a8"
             ],
             [
              0.3333333333333333,
              "#9c179e"
             ],
             [
              0.4444444444444444,
              "#bd3786"
             ],
             [
              0.5555555555555556,
              "#d8576b"
             ],
             [
              0.6666666666666666,
              "#ed7953"
             ],
             [
              0.7777777777777778,
              "#fb9f3a"
             ],
             [
              0.8888888888888888,
              "#fdca26"
             ],
             [
              1,
              "#f0f921"
             ]
            ],
            "type": "surface"
           }
          ],
          "table": [
           {
            "cells": {
             "fill": {
              "color": "#506784"
             },
             "line": {
              "color": "rgb(17,17,17)"
             }
            },
            "header": {
             "fill": {
              "color": "#2a3f5f"
             },
             "line": {
              "color": "rgb(17,17,17)"
             }
            },
            "type": "table"
           }
          ]
         },
         "layout": {
          "annotationdefaults": {
           "arrowcolor": "#f2f5fa",
           "arrowhead": 0,
           "arrowwidth": 1
          },
          "annotations": [
           {
            "font": {
             "color": "black",
             "size": 90
            },
            "name": "draft watermark",
            "opacity": 0.1,
            "showarrow": false,
            "text": "humblDATA",
            "textangle": -25,
            "x": 0.5,
            "xref": "paper",
            "y": 0.5,
            "yref": "paper"
           }
          ],
          "autotypenumbers": "strict",
          "coloraxis": {
           "colorbar": {
            "outlinewidth": 0,
            "ticks": ""
           }
          },
          "colorscale": {
           "diverging": [
            [
             0,
             "#8e0152"
            ],
            [
             0.1,
             "#c51b7d"
            ],
            [
             0.2,
             "#de77ae"
            ],
            [
             0.3,
             "#f1b6da"
            ],
            [
             0.4,
             "#fde0ef"
            ],
            [
             0.5,
             "#f7f7f7"
            ],
            [
             0.6,
             "#e6f5d0"
            ],
            [
             0.7,
             "#b8e186"
            ],
            [
             0.8,
             "#7fbc41"
            ],
            [
             0.9,
             "#4d9221"
            ],
            [
             1,
             "#276419"
            ]
           ],
           "sequential": [
            [
             0,
             "#0d0887"
            ],
            [
             0.1111111111111111,
             "#46039f"
            ],
            [
             0.2222222222222222,
             "#7201a8"
            ],
            [
             0.3333333333333333,
             "#9c179e"
            ],
            [
             0.4444444444444444,
             "#bd3786"
            ],
            [
             0.5555555555555556,
             "#d8576b"
            ],
            [
             0.6666666666666666,
             "#ed7953"
            ],
            [
             0.7777777777777778,
             "#fb9f3a"
            ],
            [
             0.8888888888888888,
             "#fdca26"
            ],
            [
             1,
             "#f0f921"
            ]
           ],
           "sequentialminus": [
            [
             0,
             "#0d0887"
            ],
            [
             0.1111111111111111,
             "#46039f"
            ],
            [
             0.2222222222222222,
             "#7201a8"
            ],
            [
             0.3333333333333333,
             "#9c179e"
            ],
            [
             0.4444444444444444,
             "#bd3786"
            ],
            [
             0.5555555555555556,
             "#d8576b"
            ],
            [
             0.6666666666666666,
             "#ed7953"
            ],
            [
             0.7777777777777778,
             "#fb9f3a"
            ],
            [
             0.8888888888888888,
             "#fdca26"
            ],
            [
             1,
             "#f0f921"
            ]
           ]
          },
          "colorway": [
           "#636efa",
           "#EF553B",
           "#00cc96",
           "#ab63fa",
           "#FFA15A",
           "#19d3f3",
           "#FF6692",
           "#B6E880",
           "#FF97FF",
           "#FECB52"
          ],
          "font": {
           "color": "white"
          },
          "geo": {
           "bgcolor": "rgb(17,17,17)",
           "lakecolor": "rgb(17,17,17)",
           "landcolor": "rgb(17,17,17)",
           "showlakes": true,
           "showland": true,
           "subunitcolor": "#506784"
          },
          "hoverlabel": {
           "align": "left"
          },
          "hovermode": "closest",
          "legend": {
           "bgcolor": "rgb(0,0,0,0)",
           "bordercolor": "rgb(63,70,139)",
           "borderwidth": 0.5,
           "font": {
            "color": "white",
            "family": "open-sans",
            "size": 12
           },
           "orientation": "h",
           "traceorder": "normal",
           "x": 0.5,
           "xanchor": "center",
           "y": -0.15
          },
          "mapbox": {
           "style": "dark"
          },
          "paper_bgcolor": "rgb(0,0,0,0)",
          "plot_bgcolor": "rgb(0,0,0,0)",
          "polar": {
           "angularaxis": {
            "gridcolor": "#506784",
            "linecolor": "#506784",
            "ticks": ""
           },
           "bgcolor": "rgb(17,17,17)",
           "radialaxis": {
            "gridcolor": "#506784",
            "linecolor": "#506784",
            "ticks": ""
           }
          },
          "scene": {
           "xaxis": {
            "backgroundcolor": "rgb(17,17,17)",
            "gridcolor": "#506784",
            "gridwidth": 2,
            "linecolor": "#506784",
            "showbackground": true,
            "ticks": "",
            "zerolinecolor": "#C8D4E3"
           },
           "yaxis": {
            "backgroundcolor": "rgb(17,17,17)",
            "gridcolor": "#506784",
            "gridwidth": 2,
            "linecolor": "#506784",
            "showbackground": true,
            "ticks": "",
            "zerolinecolor": "#C8D4E3"
           },
           "zaxis": {
            "backgroundcolor": "rgb(17,17,17)",
            "gridcolor": "#506784",
            "gridwidth": 2,
            "linecolor": "#506784",
            "showbackground": true,
            "ticks": "",
            "zerolinecolor": "#C8D4E3"
           }
          },
          "shapedefaults": {
           "line": {
            "color": "#f2f5fa"
           }
          },
          "sliderdefaults": {
           "bgcolor": "#C8D4E3",
           "bordercolor": "rgb(17,17,17)",
           "borderwidth": 1,
           "tickwidth": 0
          },
          "ternary": {
           "aaxis": {
            "gridcolor": "#506784",
            "linecolor": "#506784",
            "ticks": ""
           },
           "baxis": {
            "gridcolor": "#506784",
            "linecolor": "#506784",
            "ticks": ""
           },
           "bgcolor": "rgb(17,17,17)",
           "caxis": {
            "gridcolor": "#506784",
            "linecolor": "#506784",
            "ticks": ""
           }
          },
          "title": {
           "x": 0.05
          },
          "updatemenudefaults": {
           "bgcolor": "#506784",
           "borderwidth": 0
          },
          "xaxis": {
           "automargin": true,
           "gridcolor": "#283442",
           "linecolor": "#506784",
           "ticks": "",
           "title": {
            "standoff": 15
           },
           "zerolinecolor": "#283442",
           "zerolinewidth": 2
          },
          "yaxis": {
           "automargin": true,
           "gridcolor": "#283442",
           "linecolor": "#506784",
           "side": "right",
           "ticks": "",
           "title": {
            "standoff": 15
           },
           "zerolinecolor": "#283442",
           "zerolinewidth": 2
          }
         }
        },
        "title": {
         "text": "Price Colored by Momentum for SPY"
        },
        "xaxis": {
         "title": {
          "text": "Date"
         }
        },
        "yaxis": {
         "title": {
          "text": "Price"
         }
        }
       }
      }
     },
     "metadata": {},
     "output_type": "display_data"
    }
   ],
   "source": [
    "result.show()"
   ]
  },
  {
   "cell_type": "code",
   "execution_count": null,
   "metadata": {},
   "outputs": [],
   "source": [
    "# If you want to try different methods:\n",
    "# Simple ROC\n",
    "simple_momentum = toolbox.technical.momentum(\n",
    "    method=\"simple\",\n",
    "    period=1\n",
    ")\n",
    "\n",
    "# Shift with signal\n",
    "shift_momentum = toolbox.technical.momentum(\n",
    "    method=\"shift\",\n",
    "    period=1\n",
    ")"
   ]
  }
 ],
 "metadata": {
  "kernelspec": {
   "display_name": "Python 3",
   "language": "python",
   "name": "python3"
  },
  "language_info": {
   "codemirror_mode": {
    "name": "ipython",
    "version": 3
   },
   "file_extension": ".py",
   "mimetype": "text/x-python",
   "name": "python",
   "nbconvert_exporter": "python",
   "pygments_lexer": "ipython3",
   "version": "3.12.7"
  }
 },
 "nbformat": 4,
 "nbformat_minor": 2
}
