{
 "cells": [
  {
   "cell_type": "code",
   "execution_count": 3,
   "metadata": {},
   "outputs": [
    {
     "name": "stdout",
     "output_type": "stream",
     "text": [
      "The autoreload extension is already loaded. To reload it, use:\n",
      "  %reload_ext autoreload\n"
     ]
    }
   ],
   "source": [
    "%load_ext autoreload\n",
    "%autoreload 2\n",
    "\n",
    "from datetime import datetime, timedelta\n",
    "from humbldata.toolbox.toolbox_controller import Toolbox\n",
    "from humbldata.core.standard_models.toolbox.technical.momentum import MomentumQueryParams\n",
    "\n",
    "# Initialize toolbox\n",
    "toolbox = Toolbox(\n",
    "    symbols=[\"AAPL\", \"MSFT\"],  # List of symbols to analyze\n",
    "    start_date=\"2021-05-01\",  # 1 year ago\n",
    "    end_date=\"2022-05-01\",  # Today\n",
    ")"
   ]
  },
  {
   "cell_type": "code",
   "execution_count": 10,
   "metadata": {},
   "outputs": [
    {
     "name": "stderr",
     "output_type": "stream",
     "text": [
      "INFO: MomentumFetcher || START: fetch_data (sync)\n",
      "DEBUG: MomentumFetcher || Running .transform_query()\n"
     ]
    },
    {
     "name": "stderr",
     "output_type": "stream",
     "text": [
      "DEBUG: MomentumFetcher || Running .extract_data()\n",
      "DEBUG: MomentumFetcher || Running .transform_data()\n",
      "DEBUG: MomentumFetcher || Transforming data with momentum calculation\n",
      "DEBUG: MomentumModel || Calculating momentum using method: shift, window: 30\n",
      "DEBUG: MomentumModel || Using simple shift calculation\n",
      "INFO: MomentumFetcher || END: fetch_data (sync) - Total time: 0.2572s\n"
     ]
    }
   ],
   "source": [
    "\n",
    "\n",
    "# Calculate momentum\n",
    "result = toolbox.technical.momentum(\n",
    "    method=\"shift\",\n",
    "    window=\"1m\"\n",
    ")\n"
   ]
  },
  {
   "cell_type": "code",
   "execution_count": 11,
   "metadata": {},
   "outputs": [
    {
     "data": {
      "text/html": [
       "<div><style>\n",
       ".dataframe > thead > tr,\n",
       ".dataframe > tbody > tr {\n",
       "  text-align: right;\n",
       "  white-space: pre-wrap;\n",
       "}\n",
       "</style>\n",
       "<small>shape: (444, 10)</small><table border=\"1\" class=\"dataframe\"><thead><tr><th>date</th><th>open</th><th>high</th><th>low</th><th>close</th><th>volume</th><th>dividend</th><th>symbol</th><th>shifted</th><th>momentum_signal</th></tr><tr><td>date</td><td>f64</td><td>f64</td><td>f64</td><td>f64</td><td>i64</td><td>f64</td><td>str</td><td>f64</td><td>i8</td></tr></thead><tbody><tr><td>2021-06-15</td><td>129.940002</td><td>130.600006</td><td>129.389999</td><td>129.639999</td><td>62746300</td><td>0.0</td><td>&quot;AAPL&quot;</td><td>132.539993</td><td>0</td></tr><tr><td>2021-06-16</td><td>130.369995</td><td>130.889999</td><td>128.460007</td><td>130.149994</td><td>91815000</td><td>0.0</td><td>&quot;AAPL&quot;</td><td>127.849998</td><td>1</td></tr><tr><td>2021-06-17</td><td>129.800003</td><td>132.550003</td><td>129.649994</td><td>131.789993</td><td>96721700</td><td>0.0</td><td>&quot;AAPL&quot;</td><td>128.100006</td><td>1</td></tr><tr><td>2021-06-18</td><td>130.710007</td><td>131.509995</td><td>130.240005</td><td>130.460007</td><td>108953300</td><td>0.0</td><td>&quot;AAPL&quot;</td><td>129.740005</td><td>1</td></tr><tr><td>2021-06-21</td><td>130.300003</td><td>132.410004</td><td>129.210007</td><td>132.300003</td><td>79663300</td><td>0.0</td><td>&quot;AAPL&quot;</td><td>130.210007</td><td>1</td></tr><tr><td>&hellip;</td><td>&hellip;</td><td>&hellip;</td><td>&hellip;</td><td>&hellip;</td><td>&hellip;</td><td>&hellip;</td><td>&hellip;</td><td>&hellip;</td><td>&hellip;</td></tr><tr><td>2022-04-25</td><td>273.290009</td><td>281.109985</td><td>270.769989</td><td>280.720001</td><td>35678900</td><td>0.0</td><td>&quot;MSFT&quot;</td><td>280.070007</td><td>1</td></tr><tr><td>2022-04-26</td><td>277.5</td><td>278.359985</td><td>270.0</td><td>270.220001</td><td>46518400</td><td>0.0</td><td>&quot;MSFT&quot;</td><td>276.440002</td><td>0</td></tr><tr><td>2022-04-27</td><td>282.100006</td><td>290.970001</td><td>279.160004</td><td>283.220001</td><td>63477700</td><td>0.0</td><td>&quot;MSFT&quot;</td><td>287.149994</td><td>0</td></tr><tr><td>2022-04-28</td><td>285.190002</td><td>290.980011</td><td>281.459991</td><td>289.630005</td><td>33646600</td><td>0.0</td><td>&quot;MSFT&quot;</td><td>294.390015</td><td>0</td></tr><tr><td>2022-04-29</td><td>288.609985</td><td>289.880005</td><td>276.5</td><td>277.519989</td><td>37073900</td><td>0.0</td><td>&quot;MSFT&quot;</td><td>295.220001</td><td>0</td></tr></tbody></table></div>"
      ],
      "text/plain": [
       "shape: (444, 10)\n",
       "┌────────────┬────────────┬────────────┬───────────┬───┬──────────┬────────┬───────────┬───────────┐\n",
       "│ date       ┆ open       ┆ high       ┆ low       ┆ … ┆ dividend ┆ symbol ┆ shifted   ┆ momentum_ │\n",
       "│ ---        ┆ ---        ┆ ---        ┆ ---       ┆   ┆ ---      ┆ ---    ┆ ---       ┆ signal    │\n",
       "│ date       ┆ f64        ┆ f64        ┆ f64       ┆   ┆ f64      ┆ str    ┆ f64       ┆ ---       │\n",
       "│            ┆            ┆            ┆           ┆   ┆          ┆        ┆           ┆ i8        │\n",
       "╞════════════╪════════════╪════════════╪═══════════╪═══╪══════════╪════════╪═══════════╪═══════════╡\n",
       "│ 2021-06-15 ┆ 129.940002 ┆ 130.600006 ┆ 129.38999 ┆ … ┆ 0.0      ┆ AAPL   ┆ 132.53999 ┆ 0         │\n",
       "│            ┆            ┆            ┆ 9         ┆   ┆          ┆        ┆ 3         ┆           │\n",
       "│ 2021-06-16 ┆ 130.369995 ┆ 130.889999 ┆ 128.46000 ┆ … ┆ 0.0      ┆ AAPL   ┆ 127.84999 ┆ 1         │\n",
       "│            ┆            ┆            ┆ 7         ┆   ┆          ┆        ┆ 8         ┆           │\n",
       "│ 2021-06-17 ┆ 129.800003 ┆ 132.550003 ┆ 129.64999 ┆ … ┆ 0.0      ┆ AAPL   ┆ 128.10000 ┆ 1         │\n",
       "│            ┆            ┆            ┆ 4         ┆   ┆          ┆        ┆ 6         ┆           │\n",
       "│ 2021-06-18 ┆ 130.710007 ┆ 131.509995 ┆ 130.24000 ┆ … ┆ 0.0      ┆ AAPL   ┆ 129.74000 ┆ 1         │\n",
       "│            ┆            ┆            ┆ 5         ┆   ┆          ┆        ┆ 5         ┆           │\n",
       "│ 2021-06-21 ┆ 130.300003 ┆ 132.410004 ┆ 129.21000 ┆ … ┆ 0.0      ┆ AAPL   ┆ 130.21000 ┆ 1         │\n",
       "│            ┆            ┆            ┆ 7         ┆   ┆          ┆        ┆ 7         ┆           │\n",
       "│ …          ┆ …          ┆ …          ┆ …         ┆ … ┆ …        ┆ …      ┆ …         ┆ …         │\n",
       "│ 2022-04-25 ┆ 273.290009 ┆ 281.109985 ┆ 270.76998 ┆ … ┆ 0.0      ┆ MSFT   ┆ 280.07000 ┆ 1         │\n",
       "│            ┆            ┆            ┆ 9         ┆   ┆          ┆        ┆ 7         ┆           │\n",
       "│ 2022-04-26 ┆ 277.5      ┆ 278.359985 ┆ 270.0     ┆ … ┆ 0.0      ┆ MSFT   ┆ 276.44000 ┆ 0         │\n",
       "│            ┆            ┆            ┆           ┆   ┆          ┆        ┆ 2         ┆           │\n",
       "│ 2022-04-27 ┆ 282.100006 ┆ 290.970001 ┆ 279.16000 ┆ … ┆ 0.0      ┆ MSFT   ┆ 287.14999 ┆ 0         │\n",
       "│            ┆            ┆            ┆ 4         ┆   ┆          ┆        ┆ 4         ┆           │\n",
       "│ 2022-04-28 ┆ 285.190002 ┆ 290.980011 ┆ 281.45999 ┆ … ┆ 0.0      ┆ MSFT   ┆ 294.39001 ┆ 0         │\n",
       "│            ┆            ┆            ┆ 1         ┆   ┆          ┆        ┆ 5         ┆           │\n",
       "│ 2022-04-29 ┆ 288.609985 ┆ 289.880005 ┆ 276.5     ┆ … ┆ 0.0      ┆ MSFT   ┆ 295.22000 ┆ 0         │\n",
       "│            ┆            ┆            ┆           ┆   ┆          ┆        ┆ 1         ┆           │\n",
       "└────────────┴────────────┴────────────┴───────────┴───┴──────────┴────────┴───────────┴───────────┘"
      ]
     },
     "execution_count": 11,
     "metadata": {},
     "output_type": "execute_result"
    }
   ],
   "source": [
    "result.to_polars()"
   ]
  },
  {
   "cell_type": "code",
   "execution_count": null,
   "metadata": {},
   "outputs": [],
   "source": [
    "# If you want to try different methods:\n",
    "# Simple ROC\n",
    "simple_momentum = toolbox.technical.momentum(\n",
    "    method=\"simple\",\n",
    "    period=1\n",
    ")\n",
    "\n",
    "# Shift with signal\n",
    "shift_momentum = toolbox.technical.momentum(\n",
    "    method=\"shift\",\n",
    "    period=1\n",
    ")"
   ]
  }
 ],
 "metadata": {
  "kernelspec": {
   "display_name": "Python 3",
   "language": "python",
   "name": "python3"
  },
  "language_info": {
   "codemirror_mode": {
    "name": "ipython",
    "version": 3
   },
   "file_extension": ".py",
   "mimetype": "text/x-python",
   "name": "python",
   "nbconvert_exporter": "python",
   "pygments_lexer": "ipython3",
   "version": "3.12.7"
  }
 },
 "nbformat": 4,
 "nbformat_minor": 2
}
