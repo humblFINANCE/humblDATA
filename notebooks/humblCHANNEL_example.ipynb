{
 "cells": [
  {
   "cell_type": "code",
   "execution_count": 62,
   "metadata": {},
   "outputs": [
    {
     "name": "stdout",
     "output_type": "stream",
     "text": [
      "The autoreload extension is already loaded. To reload it, use:\n",
      "  %reload_ext autoreload\n"
     ]
    },
    {
     "name": "stderr",
     "output_type": "stream",
     "text": [
      "WARNING: ToolboxQueryParams || Start date adjusted to 2023-12-04 based on anonymous membership (1Y of data).\n"
     ]
    },
    {
     "data": {
      "text/plain": [
       "Toolbox(symbols=['QQQ'], interval=1d, start_date=2023-12-04, end_date=2024-12-03, provider=yfinance, membership=anonymous, warnings=[{'category': 'ToolboxQueryParams', 'message': 'Start date adjusted to 2023-12-04 based on anonymous membership (1Y of data).'}])"
      ]
     },
     "execution_count": 62,
     "metadata": {},
     "output_type": "execute_result"
    }
   ],
   "source": [
    "%load_ext autoreload\n",
    "%autoreload\n",
    "\n",
    "from humbldata.toolbox.toolbox_controller import Toolbox\n",
    "\n",
    "toolbox = Toolbox(\n",
    "    symbols=\"QQQ\",\n",
    "    interval=\"1d\",\n",
    "    start_date=\"2000-01-01\",\n",
    "    end_date=\"2024-12-03\",\n",
    "    # membership=\"anonymous\"\n",
    ")\n",
    "toolbox"
   ]
  },
  {
   "cell_type": "code",
   "execution_count": 63,
   "metadata": {},
   "outputs": [
    {
     "name": "stderr",
     "output_type": "stream",
     "text": [
      "INFO: MandelbrotChannelFetcher || START: fetch_data (sync)\n",
      "DEBUG: MandelbrotChannelFetcher || Running .transform_query()\n",
      "DEBUG: MandelbrotChannelFetcher || Running .extract_data()\n",
      "DEBUG: MandelbrotChannelFetcher || Running .transform_data()\n",
      "ERROR: MandelbrotChannelFetcher || EXCEPTION in fetch_data (sync) - Total time: 0.2459s\n",
      "Traceback (most recent call last):\n",
      "  File \"/Users/jjfantini/github/humblFINANCE-org/humblDATA/src/humbldata/core/utils/logger.py\", line 181, in sync_wrapper\n",
      "    result = func(*args, **kwargs)\n",
      "             ^^^^^^^^^^^^^^^^^^^^^\n",
      "  File \"/Users/jjfantini/github/humblFINANCE-org/humblDATA/src/humbldata/core/standard_models/toolbox/technical/mandelbrot_channel.py\", line 417, in fetch_data\n",
      "    self.transform_data()\n",
      "  File \"/Users/jjfantini/github/humblFINANCE-org/humblDATA/src/humbldata/core/standard_models/toolbox/technical/mandelbrot_channel.py\", line 381, in transform_data\n",
      "    transformed_data.collect().drop_nulls()  ## HOTFIX - need to trace where coming from w/ unequal data\n",
      "    ^^^^^^^^^^^^^^^^^^^^^^^^^^\n",
      "  File \"/Users/jjfantini/github/humblFINANCE-org/humblDATA/menv/lib/python3.12/site-packages/polars/lazyframe/frame.py\", line 2029, in collect\n",
      "    return wrap_df(ldf.collect(callback))\n",
      "                   ^^^^^^^^^^^^^^^^^^^^^\n",
      "polars.exceptions.ColumnNotFoundError: last_price\n",
      "\n",
      "Resolved plan until failure:\n",
      "\n",
      "\t---> FAILED HERE RESOLVING 'select' <---\n",
      "DF [\"symbol\", \"asset_type\", \"name\", \"exchange\"]; PROJECT */20 COLUMNS; SELECTION: None\n",
      "ERROR: humbldata.toolbox.technical.technical_controller || Error calculating Mandelbrot Channel\n",
      "Traceback (most recent call last):\n",
      "  File \"/Users/jjfantini/github/humblFINANCE-org/humblDATA/src/humbldata/toolbox/technical/technical_controller.py\", line 96, in mandelbrot_channel\n",
      "    return fetcher.fetch_data()\n",
      "           ^^^^^^^^^^^^^^^^^^^^\n",
      "  File \"/Users/jjfantini/github/humblFINANCE-org/humblDATA/src/humbldata/core/utils/logger.py\", line 181, in sync_wrapper\n",
      "    result = func(*args, **kwargs)\n",
      "             ^^^^^^^^^^^^^^^^^^^^^\n",
      "  File \"/Users/jjfantini/github/humblFINANCE-org/humblDATA/src/humbldata/core/standard_models/toolbox/technical/mandelbrot_channel.py\", line 417, in fetch_data\n",
      "    self.transform_data()\n",
      "  File \"/Users/jjfantini/github/humblFINANCE-org/humblDATA/src/humbldata/core/standard_models/toolbox/technical/mandelbrot_channel.py\", line 381, in transform_data\n",
      "    transformed_data.collect().drop_nulls()  ## HOTFIX - need to trace where coming from w/ unequal data\n",
      "    ^^^^^^^^^^^^^^^^^^^^^^^^^^\n",
      "  File \"/Users/jjfantini/github/humblFINANCE-org/humblDATA/menv/lib/python3.12/site-packages/polars/lazyframe/frame.py\", line 2029, in collect\n",
      "    return wrap_df(ldf.collect(callback))\n",
      "                   ^^^^^^^^^^^^^^^^^^^^^\n",
      "polars.exceptions.ColumnNotFoundError: last_price\n",
      "\n",
      "Resolved plan until failure:\n",
      "\n",
      "\t---> FAILED HERE RESOLVING 'select' <---\n",
      "DF [\"symbol\", \"asset_type\", \"name\", \"exchange\"]; PROJECT */20 COLUMNS; SELECTION: None\n"
     ]
    },
    {
     "ename": "HumblDataError",
     "evalue": "Failed to calculate Mandelbrot Channel: last_price\n\nResolved plan until failure:\n\n\t---> FAILED HERE RESOLVING 'select' <---\nDF [\"symbol\", \"asset_type\", \"name\", \"exchange\"]; PROJECT */20 COLUMNS; SELECTION: None",
     "output_type": "error",
     "traceback": [
      "\u001b[0;31m---------------------------------------------------------------------------\u001b[0m",
      "\u001b[0;31mColumnNotFoundError\u001b[0m                       Traceback (most recent call last)",
      "File \u001b[0;32m~/github/humblFINANCE-org/humblDATA/src/humbldata/toolbox/technical/technical_controller.py:96\u001b[0m, in \u001b[0;36mTechnical.mandelbrot_channel\u001b[0;34m(self, **kwargs)\u001b[0m\n\u001b[1;32m     95\u001b[0m     logger\u001b[38;5;241m.\u001b[39mdebug(\u001b[38;5;124m\"\u001b[39m\u001b[38;5;124mFetching Mandelbrot Channel data\u001b[39m\u001b[38;5;124m\"\u001b[39m)\n\u001b[0;32m---> 96\u001b[0m     \u001b[38;5;28;01mreturn\u001b[39;00m \u001b[43mfetcher\u001b[49m\u001b[38;5;241;43m.\u001b[39;49m\u001b[43mfetch_data\u001b[49m\u001b[43m(\u001b[49m\u001b[43m)\u001b[49m\n\u001b[1;32m     98\u001b[0m \u001b[38;5;28;01mexcept\u001b[39;00m \u001b[38;5;167;01mException\u001b[39;00m \u001b[38;5;28;01mas\u001b[39;00m e:\n",
      "File \u001b[0;32m~/github/humblFINANCE-org/humblDATA/src/humbldata/core/utils/logger.py:181\u001b[0m, in \u001b[0;36mlog_start_end.<locals>.decorator.<locals>.sync_wrapper\u001b[0;34m(*args, **kwargs)\u001b[0m\n\u001b[1;32m    180\u001b[0m \u001b[38;5;28;01mtry\u001b[39;00m:\n\u001b[0;32m--> 181\u001b[0m     result \u001b[38;5;241m=\u001b[39m \u001b[43mfunc\u001b[49m\u001b[43m(\u001b[49m\u001b[38;5;241;43m*\u001b[39;49m\u001b[43margs\u001b[49m\u001b[43m,\u001b[49m\u001b[43m \u001b[49m\u001b[38;5;241;43m*\u001b[39;49m\u001b[38;5;241;43m*\u001b[39;49m\u001b[43mkwargs\u001b[49m\u001b[43m)\u001b[49m\n\u001b[1;32m    182\u001b[0m \u001b[38;5;28;01mexcept\u001b[39;00m \u001b[38;5;167;01mKeyboardInterrupt\u001b[39;00m:\n",
      "File \u001b[0;32m~/github/humblFINANCE-org/humblDATA/src/humbldata/core/standard_models/toolbox/technical/mandelbrot_channel.py:417\u001b[0m, in \u001b[0;36mMandelbrotChannelFetcher.fetch_data\u001b[0;34m(self)\u001b[0m\n\u001b[1;32m    416\u001b[0m logger\u001b[38;5;241m.\u001b[39mdebug(\u001b[38;5;124m\"\u001b[39m\u001b[38;5;124mRunning .transform_data()\u001b[39m\u001b[38;5;124m\"\u001b[39m)\n\u001b[0;32m--> 417\u001b[0m \u001b[38;5;28;43mself\u001b[39;49m\u001b[38;5;241;43m.\u001b[39;49m\u001b[43mtransform_data\u001b[49m\u001b[43m(\u001b[49m\u001b[43m)\u001b[49m\n\u001b[1;32m    419\u001b[0m \u001b[38;5;28;01mif\u001b[39;00m \u001b[38;5;129;01mnot\u001b[39;00m \u001b[38;5;28mhasattr\u001b[39m(\u001b[38;5;28mself\u001b[39m\u001b[38;5;241m.\u001b[39mcontext_params, \u001b[38;5;124m\"\u001b[39m\u001b[38;5;124mwarnings\u001b[39m\u001b[38;5;124m\"\u001b[39m):\n",
      "File \u001b[0;32m~/github/humblFINANCE-org/humblDATA/src/humbldata/core/standard_models/toolbox/technical/mandelbrot_channel.py:381\u001b[0m, in \u001b[0;36mMandelbrotChannelFetcher.transform_data\u001b[0;34m(self)\u001b[0m\n\u001b[1;32m    369\u001b[0m     transformed_data \u001b[38;5;241m=\u001b[39m calc_mandelbrot_channel_historical_concurrent(\n\u001b[1;32m    370\u001b[0m         data\u001b[38;5;241m=\u001b[39m\u001b[38;5;28mself\u001b[39m\u001b[38;5;241m.\u001b[39mequity_historical_data,\n\u001b[1;32m    371\u001b[0m         window\u001b[38;5;241m=\u001b[39m\u001b[38;5;28mself\u001b[39m\u001b[38;5;241m.\u001b[39mcommand_params\u001b[38;5;241m.\u001b[39mwindow,\n\u001b[0;32m   (...)\u001b[0m\n\u001b[1;32m    377\u001b[0m         use_processes\u001b[38;5;241m=\u001b[39m\u001b[38;5;28;01mFalse\u001b[39;00m,\n\u001b[1;32m    378\u001b[0m     )\n\u001b[1;32m    380\u001b[0m \u001b[38;5;28mself\u001b[39m\u001b[38;5;241m.\u001b[39mtransformed_data \u001b[38;5;241m=\u001b[39m MandelbrotChannelData(\n\u001b[0;32m--> 381\u001b[0m     \u001b[43mtransformed_data\u001b[49m\u001b[38;5;241;43m.\u001b[39;49m\u001b[43mcollect\u001b[49m\u001b[43m(\u001b[49m\u001b[43m)\u001b[49m\u001b[38;5;241m.\u001b[39mdrop_nulls()  \u001b[38;5;66;03m## HOTFIX - need to trace where coming from w/ unequal data\u001b[39;00m\n\u001b[1;32m    382\u001b[0m )\u001b[38;5;241m.\u001b[39mlazy()\n\u001b[1;32m    384\u001b[0m \u001b[38;5;28;01mif\u001b[39;00m \u001b[38;5;28mself\u001b[39m\u001b[38;5;241m.\u001b[39mcommand_params\u001b[38;5;241m.\u001b[39mchart:\n",
      "File \u001b[0;32m~/github/humblFINANCE-org/humblDATA/menv/lib/python3.12/site-packages/polars/lazyframe/frame.py:2029\u001b[0m, in \u001b[0;36mLazyFrame.collect\u001b[0;34m(self, type_coercion, predicate_pushdown, projection_pushdown, simplify_expression, slice_pushdown, comm_subplan_elim, comm_subexpr_elim, cluster_with_columns, collapse_joins, no_optimization, streaming, engine, background, _eager, **_kwargs)\u001b[0m\n\u001b[1;32m   2028\u001b[0m callback \u001b[38;5;241m=\u001b[39m _kwargs\u001b[38;5;241m.\u001b[39mget(\u001b[38;5;124m\"\u001b[39m\u001b[38;5;124mpost_opt_callback\u001b[39m\u001b[38;5;124m\"\u001b[39m, callback)\n\u001b[0;32m-> 2029\u001b[0m \u001b[38;5;28;01mreturn\u001b[39;00m wrap_df(\u001b[43mldf\u001b[49m\u001b[38;5;241;43m.\u001b[39;49m\u001b[43mcollect\u001b[49m\u001b[43m(\u001b[49m\u001b[43mcallback\u001b[49m\u001b[43m)\u001b[49m)\n",
      "\u001b[0;31mColumnNotFoundError\u001b[0m: last_price\n\nResolved plan until failure:\n\n\t---> FAILED HERE RESOLVING 'select' <---\nDF [\"symbol\", \"asset_type\", \"name\", \"exchange\"]; PROJECT */20 COLUMNS; SELECTION: None",
      "\nThe above exception was the direct cause of the following exception:\n",
      "\u001b[0;31mHumblDataError\u001b[0m                            Traceback (most recent call last)",
      "Cell \u001b[0;32mIn[63], line 4\u001b[0m\n\u001b[1;32m      1\u001b[0m \u001b[38;5;66;03m# import nest_asyncio\u001b[39;00m\n\u001b[1;32m      2\u001b[0m \u001b[38;5;66;03m# nest_asyncio.apply()\u001b[39;00m\n\u001b[0;32m----> 4\u001b[0m result \u001b[38;5;241m=\u001b[39m \u001b[43mtoolbox\u001b[49m\u001b[38;5;241;43m.\u001b[39;49m\u001b[43mtechnical\u001b[49m\u001b[38;5;241;43m.\u001b[39;49m\u001b[43mmandelbrot_channel\u001b[49m\u001b[43m(\u001b[49m\u001b[43mhistorical\u001b[49m\u001b[38;5;241;43m=\u001b[39;49m\u001b[38;5;28;43;01mFalse\u001b[39;49;00m\u001b[43m,\u001b[49m\u001b[43m \u001b[49m\u001b[43mwindow\u001b[49m\u001b[38;5;241;43m=\u001b[39;49m\u001b[38;5;124;43m\"\u001b[39;49m\u001b[38;5;124;43m1mo\u001b[39;49m\u001b[38;5;124;43m\"\u001b[39;49m\u001b[43m,\u001b[49m\u001b[43m \u001b[49m\u001b[43m_boundary_group_down\u001b[49m\u001b[38;5;241;43m=\u001b[39;49m\u001b[38;5;28;43;01mFalse\u001b[39;49;00m\u001b[43m,\u001b[49m\u001b[43m \u001b[49m\u001b[43mchart\u001b[49m\u001b[38;5;241;43m=\u001b[39;49m\u001b[38;5;28;43;01mTrue\u001b[39;49;00m\u001b[43m,\u001b[49m\u001b[43m \u001b[49m\u001b[43mlive_price\u001b[49m\u001b[38;5;241;43m=\u001b[39;49m\u001b[38;5;28;43;01mTrue\u001b[39;49;00m\u001b[43m)\u001b[49m\n\u001b[1;32m      5\u001b[0m result\n",
      "File \u001b[0;32m~/github/humblFINANCE-org/humblDATA/src/humbldata/toolbox/technical/technical_controller.py:101\u001b[0m, in \u001b[0;36mTechnical.mandelbrot_channel\u001b[0;34m(self, **kwargs)\u001b[0m\n\u001b[1;32m     99\u001b[0m logger\u001b[38;5;241m.\u001b[39mexception(\u001b[38;5;124m\"\u001b[39m\u001b[38;5;124mError calculating Mandelbrot Channel\u001b[39m\u001b[38;5;124m\"\u001b[39m)\n\u001b[1;32m    100\u001b[0m msg \u001b[38;5;241m=\u001b[39m \u001b[38;5;124mf\u001b[39m\u001b[38;5;124m\"\u001b[39m\u001b[38;5;124mFailed to calculate Mandelbrot Channel: \u001b[39m\u001b[38;5;132;01m{\u001b[39;00me\u001b[38;5;132;01m!s}\u001b[39;00m\u001b[38;5;124m\"\u001b[39m\n\u001b[0;32m--> 101\u001b[0m \u001b[38;5;28;01mraise\u001b[39;00m HumblDataError(msg) \u001b[38;5;28;01mfrom\u001b[39;00m \u001b[38;5;21;01me\u001b[39;00m\n",
      "\u001b[0;31mHumblDataError\u001b[0m: Failed to calculate Mandelbrot Channel: last_price\n\nResolved plan until failure:\n\n\t---> FAILED HERE RESOLVING 'select' <---\nDF [\"symbol\", \"asset_type\", \"name\", \"exchange\"]; PROJECT */20 COLUMNS; SELECTION: None"
     ]
    }
   ],
   "source": [
    "# import nest_asyncio\n",
    "# nest_asyncio.apply()\n",
    "\n",
    "result = toolbox.technical.mandelbrot_channel(historical=False, window=\"1mo\", _boundary_group_down=False, chart=True, live_price=True)\n",
    "result"
   ]
  },
  {
   "cell_type": "code",
   "execution_count": 60,
   "metadata": {},
   "outputs": [
    {
     "data": {
      "text/html": [
       "<div><style>\n",
       ".dataframe > thead > tr,\n",
       ".dataframe > tbody > tr {\n",
       "  text-align: right;\n",
       "  white-space: pre-wrap;\n",
       "}\n",
       "</style>\n",
       "<small>shape: (1, 5)</small><table border=\"1\" class=\"dataframe\"><thead><tr><th>date</th><th>symbol</th><th>bottom_price</th><th>recent_price</th><th>top_price</th></tr><tr><td>date</td><td>str</td><td>f64</td><td>f64</td><td>f64</td></tr></thead><tbody><tr><td>2024-12-02</td><td>&quot;QQQ&quot;</td><td>511.2826</td><td>515.289978</td><td>527.0281</td></tr></tbody></table></div>"
      ],
      "text/plain": [
       "shape: (1, 5)\n",
       "┌────────────┬────────┬──────────────┬──────────────┬───────────┐\n",
       "│ date       ┆ symbol ┆ bottom_price ┆ recent_price ┆ top_price │\n",
       "│ ---        ┆ ---    ┆ ---          ┆ ---          ┆ ---       │\n",
       "│ date       ┆ str    ┆ f64          ┆ f64          ┆ f64       │\n",
       "╞════════════╪════════╪══════════════╪══════════════╪═══════════╡\n",
       "│ 2024-12-02 ┆ QQQ    ┆ 511.2826     ┆ 515.289978   ┆ 527.0281  │\n",
       "└────────────┴────────┴──────────────┴──────────────┴───────────┘"
      ]
     },
     "execution_count": 60,
     "metadata": {},
     "output_type": "execute_result"
    }
   ],
   "source": [
    "result.to_polars()"
   ]
  },
  {
   "cell_type": "code",
   "execution_count": 61,
   "metadata": {},
   "outputs": [
    {
     "data": {
      "text/plain": [
       "[HumblDataWarning(category='ToolboxQueryParams', message='Start date adjusted to 2023-12-04 based on anonymous membership (1Y of data).')]"
      ]
     },
     "execution_count": 61,
     "metadata": {},
     "output_type": "execute_result"
    }
   ],
   "source": [
    "result.warnings"
   ]
  },
  {
   "cell_type": "code",
   "execution_count": 37,
   "metadata": {},
   "outputs": [
    {
     "data": {
      "text/plain": [
       "Toolbox(symbols=['QQQ'], interval=1d, start_date=2023-12-04, end_date=2024-12-03, provider=yfinance, membership=anonymous, warnings=[{'category': 'ToolboxQueryParams', 'message': 'Start date adjusted to 2023-12-04 based on anonymous membership (1Y of data).'}])"
      ]
     },
     "execution_count": 37,
     "metadata": {},
     "output_type": "execute_result"
    }
   ],
   "source": [
    "result.context_params"
   ]
  },
  {
   "cell_type": "code",
   "execution_count": 38,
   "metadata": {},
   "outputs": [
    {
     "data": {
      "application/vnd.plotly.v1+json": {
       "config": {
        "plotlyServerURL": "https://plot.ly"
       },
       "data": [
        {
         "line": {
          "color": "blue"
         },
         "name": "Recent Price",
         "type": "scatter",
         "x": [
          "2023-12-04T00:00:00",
          "2023-12-05T00:00:00",
          "2023-12-06T00:00:00",
          "2023-12-07T00:00:00",
          "2023-12-08T00:00:00",
          "2023-12-11T00:00:00",
          "2023-12-12T00:00:00",
          "2023-12-13T00:00:00",
          "2023-12-14T00:00:00",
          "2023-12-15T00:00:00",
          "2023-12-18T00:00:00",
          "2023-12-19T00:00:00",
          "2023-12-20T00:00:00",
          "2023-12-21T00:00:00",
          "2023-12-22T00:00:00",
          "2023-12-26T00:00:00",
          "2023-12-27T00:00:00",
          "2023-12-28T00:00:00",
          "2023-12-29T00:00:00",
          "2024-01-02T00:00:00",
          "2024-01-03T00:00:00",
          "2024-01-04T00:00:00",
          "2024-01-05T00:00:00",
          "2024-01-08T00:00:00",
          "2024-01-09T00:00:00",
          "2024-01-10T00:00:00",
          "2024-01-11T00:00:00",
          "2024-01-12T00:00:00",
          "2024-01-16T00:00:00",
          "2024-01-17T00:00:00",
          "2024-01-18T00:00:00",
          "2024-01-19T00:00:00",
          "2024-01-22T00:00:00",
          "2024-01-23T00:00:00",
          "2024-01-24T00:00:00",
          "2024-01-25T00:00:00",
          "2024-01-26T00:00:00",
          "2024-01-29T00:00:00",
          "2024-01-30T00:00:00",
          "2024-01-31T00:00:00",
          "2024-02-01T00:00:00",
          "2024-02-02T00:00:00",
          "2024-02-05T00:00:00",
          "2024-02-06T00:00:00",
          "2024-02-07T00:00:00",
          "2024-02-08T00:00:00",
          "2024-02-09T00:00:00",
          "2024-02-12T00:00:00",
          "2024-02-13T00:00:00",
          "2024-02-14T00:00:00",
          "2024-02-15T00:00:00",
          "2024-02-16T00:00:00",
          "2024-02-20T00:00:00",
          "2024-02-21T00:00:00",
          "2024-02-22T00:00:00",
          "2024-02-23T00:00:00",
          "2024-02-26T00:00:00",
          "2024-02-27T00:00:00",
          "2024-02-28T00:00:00",
          "2024-02-29T00:00:00",
          "2024-03-01T00:00:00",
          "2024-03-04T00:00:00",
          "2024-03-05T00:00:00",
          "2024-03-06T00:00:00",
          "2024-03-07T00:00:00",
          "2024-03-08T00:00:00",
          "2024-03-11T00:00:00",
          "2024-03-12T00:00:00",
          "2024-03-13T00:00:00",
          "2024-03-14T00:00:00",
          "2024-03-15T00:00:00",
          "2024-03-18T00:00:00",
          "2024-03-19T00:00:00",
          "2024-03-20T00:00:00",
          "2024-03-21T00:00:00",
          "2024-03-22T00:00:00",
          "2024-03-25T00:00:00",
          "2024-03-26T00:00:00",
          "2024-03-27T00:00:00",
          "2024-03-28T00:00:00",
          "2024-04-01T00:00:00",
          "2024-04-02T00:00:00",
          "2024-04-03T00:00:00",
          "2024-04-04T00:00:00",
          "2024-04-05T00:00:00",
          "2024-04-08T00:00:00",
          "2024-04-09T00:00:00",
          "2024-04-10T00:00:00",
          "2024-04-11T00:00:00",
          "2024-04-12T00:00:00",
          "2024-04-15T00:00:00",
          "2024-04-16T00:00:00",
          "2024-04-17T00:00:00",
          "2024-04-18T00:00:00",
          "2024-04-19T00:00:00",
          "2024-04-22T00:00:00",
          "2024-04-23T00:00:00",
          "2024-04-24T00:00:00",
          "2024-04-25T00:00:00",
          "2024-04-26T00:00:00",
          "2024-04-29T00:00:00",
          "2024-04-30T00:00:00",
          "2024-05-01T00:00:00",
          "2024-05-02T00:00:00",
          "2024-05-03T00:00:00",
          "2024-05-06T00:00:00",
          "2024-05-07T00:00:00",
          "2024-05-08T00:00:00",
          "2024-05-09T00:00:00",
          "2024-05-10T00:00:00",
          "2024-05-13T00:00:00",
          "2024-05-14T00:00:00",
          "2024-05-15T00:00:00",
          "2024-05-16T00:00:00",
          "2024-05-17T00:00:00",
          "2024-05-20T00:00:00",
          "2024-05-21T00:00:00",
          "2024-05-22T00:00:00",
          "2024-05-23T00:00:00",
          "2024-05-24T00:00:00",
          "2024-05-28T00:00:00",
          "2024-05-29T00:00:00",
          "2024-05-30T00:00:00",
          "2024-05-31T00:00:00",
          "2024-06-03T00:00:00",
          "2024-06-04T00:00:00",
          "2024-06-05T00:00:00",
          "2024-06-06T00:00:00",
          "2024-06-07T00:00:00",
          "2024-06-10T00:00:00",
          "2024-06-11T00:00:00",
          "2024-06-12T00:00:00",
          "2024-06-13T00:00:00",
          "2024-06-14T00:00:00",
          "2024-06-17T00:00:00",
          "2024-06-18T00:00:00",
          "2024-06-20T00:00:00",
          "2024-06-21T00:00:00",
          "2024-06-24T00:00:00",
          "2024-06-25T00:00:00",
          "2024-06-26T00:00:00",
          "2024-06-27T00:00:00",
          "2024-06-28T00:00:00",
          "2024-07-01T00:00:00",
          "2024-07-02T00:00:00",
          "2024-07-03T00:00:00",
          "2024-07-05T00:00:00",
          "2024-07-08T00:00:00",
          "2024-07-09T00:00:00",
          "2024-07-10T00:00:00",
          "2024-07-11T00:00:00",
          "2024-07-12T00:00:00",
          "2024-07-15T00:00:00",
          "2024-07-16T00:00:00",
          "2024-07-17T00:00:00",
          "2024-07-18T00:00:00",
          "2024-07-19T00:00:00",
          "2024-07-22T00:00:00",
          "2024-07-23T00:00:00",
          "2024-07-24T00:00:00",
          "2024-07-25T00:00:00",
          "2024-07-26T00:00:00",
          "2024-07-29T00:00:00",
          "2024-07-30T00:00:00",
          "2024-07-31T00:00:00",
          "2024-08-01T00:00:00",
          "2024-08-02T00:00:00",
          "2024-08-05T00:00:00",
          "2024-08-06T00:00:00",
          "2024-08-07T00:00:00",
          "2024-08-08T00:00:00",
          "2024-08-09T00:00:00",
          "2024-08-12T00:00:00",
          "2024-08-13T00:00:00",
          "2024-08-14T00:00:00",
          "2024-08-15T00:00:00",
          "2024-08-16T00:00:00",
          "2024-08-19T00:00:00",
          "2024-08-20T00:00:00",
          "2024-08-21T00:00:00",
          "2024-08-22T00:00:00",
          "2024-08-23T00:00:00",
          "2024-08-26T00:00:00",
          "2024-08-27T00:00:00",
          "2024-08-28T00:00:00",
          "2024-08-29T00:00:00",
          "2024-08-30T00:00:00",
          "2024-09-03T00:00:00",
          "2024-09-04T00:00:00",
          "2024-09-05T00:00:00",
          "2024-09-06T00:00:00",
          "2024-09-09T00:00:00",
          "2024-09-10T00:00:00",
          "2024-09-11T00:00:00",
          "2024-09-12T00:00:00",
          "2024-09-13T00:00:00",
          "2024-09-16T00:00:00",
          "2024-09-17T00:00:00",
          "2024-09-18T00:00:00",
          "2024-09-19T00:00:00",
          "2024-09-20T00:00:00",
          "2024-09-23T00:00:00",
          "2024-09-24T00:00:00",
          "2024-09-25T00:00:00",
          "2024-09-26T00:00:00",
          "2024-09-27T00:00:00",
          "2024-09-30T00:00:00",
          "2024-10-01T00:00:00",
          "2024-10-02T00:00:00",
          "2024-10-03T00:00:00",
          "2024-10-04T00:00:00",
          "2024-10-07T00:00:00",
          "2024-10-08T00:00:00",
          "2024-10-09T00:00:00",
          "2024-10-10T00:00:00",
          "2024-10-11T00:00:00",
          "2024-10-14T00:00:00",
          "2024-10-15T00:00:00",
          "2024-10-16T00:00:00",
          "2024-10-17T00:00:00",
          "2024-10-18T00:00:00",
          "2024-10-21T00:00:00",
          "2024-10-22T00:00:00",
          "2024-10-23T00:00:00",
          "2024-10-24T00:00:00",
          "2024-10-25T00:00:00",
          "2024-10-28T00:00:00",
          "2024-10-29T00:00:00",
          "2024-10-30T00:00:00",
          "2024-10-31T00:00:00",
          "2024-11-01T00:00:00",
          "2024-11-04T00:00:00",
          "2024-11-05T00:00:00",
          "2024-11-06T00:00:00",
          "2024-11-07T00:00:00",
          "2024-11-08T00:00:00",
          "2024-11-11T00:00:00",
          "2024-11-12T00:00:00",
          "2024-11-13T00:00:00",
          "2024-11-14T00:00:00",
          "2024-11-15T00:00:00",
          "2024-11-18T00:00:00",
          "2024-11-19T00:00:00",
          "2024-11-20T00:00:00",
          "2024-11-21T00:00:00",
          "2024-11-22T00:00:00",
          "2024-11-25T00:00:00",
          "2024-11-26T00:00:00",
          "2024-11-27T00:00:00",
          "2024-11-29T00:00:00",
          "2024-12-02T00:00:00"
         ],
         "y": [
          386.32000732421875,
          387.2900085449219,
          385.04998779296875,
          390.42999267578125,
          392.1700134277344,
          395.5199890136719,
          398.6700134277344,
          403.739990234375,
          403.3900146484375,
          405.3399963378906,
          407.0799865722656,
          409.1600036621094,
          403.0799865722656,
          407.7699890136719,
          408.3800048828125,
          410.8800048828125,
          411.5,
          411.29998779296875,
          409.5199890136719,
          402.5899963378906,
          398.3299865722656,
          396.2799987792969,
          396.75,
          404.95001220703125,
          405.75,
          408.5,
          409.3500061035156,
          409.55999755859375,
          409.5199890136719,
          407.2099914550781,
          412.989990234375,
          421.17999267578125,
          421.7300109863281,
          423.4800109863281,
          425.8299865722656,
          426.3500061035156,
          423.80999755859375,
          428.1499938964844,
          425.29998779296875,
          416.9700012207031,
          421.8800048828125,
          429.010009765625,
          428.45001220703125,
          427.5899963378906,
          431.989990234375,
          432.7900085449219,
          437.04998779296875,
          435.3399963378906,
          428.54998779296875,
          433.2200012207031,
          434.510009765625,
          430.57000732421875,
          427.32000732421875,
          425.6099853515625,
          438.07000732421875,
          436.7799987792969,
          436.54998779296875,
          437.6000061035156,
          435.2699890136719,
          439,
          445.6099853515625,
          444.0199890136719,
          436.04998779296875,
          438.7900085449219,
          445.45001220703125,
          439.0199890136719,
          437.3900146484375,
          443.6600036621094,
          440.25,
          439.1400146484375,
          433.9200134277344,
          437.4800109863281,
          438.57000732421875,
          443.7699890136719,
          445.8699951171875,
          446.3800048828125,
          444.760009765625,
          443.32000732421875,
          444.8299865722656,
          444.010009765625,
          444.95001220703125,
          441.1099853515625,
          442.1000061035156,
          435.3399963378906,
          440.4700012207031,
          440.6000061035156,
          442.2300109863281,
          438.3699951171875,
          445.3699951171875,
          438.2699890136719,
          431.05999755859375,
          431.1000061035156,
          425.8399963378906,
          423.4100036621094,
          414.6499938964844,
          418.82000732421875,
          425.07000732421875,
          426.510009765625,
          424.45001220703125,
          431,
          432.75,
          424.5899963378906,
          421.5199890136719,
          426.8999938964844,
          435.4800109863281,
          440.25,
          440.32000732421875,
          440.05999755859375,
          441.0199890136719,
          442.05999755859375,
          443.0799865722656,
          445.92999267578125,
          452.8999938964844,
          451.9800109863281,
          451.760009765625,
          454.9100036621094,
          455.79998779296875,
          455.7099914550781,
          453.6600036621094,
          457.95001220703125,
          459.67999267578125,
          456.44000244140625,
          451.54998779296875,
          450.7099914550781,
          453.1300048828125,
          454.3699951171875,
          463.5299987792969,
          463.3699951171875,
          462.9599914550781,
          464.8299865722656,
          468.0199890136719,
          474.1499938964844,
          476.7200012207031,
          479.19000244140625,
          485.05999755859375,
          485.2099914550781,
          481.4700012207031,
          480.17999267578125,
          473.9599914550781,
          479.3800048828125,
          480.3699951171875,
          481.6099853515625,
          479.1099853515625,
          481.9200134277344,
          486.9800109863281,
          491.0400085449219,
          496.1600036621094,
          497.3399963378906,
          497.7699890136719,
          502.9599914550781,
          491.92999267578125,
          494.82000732421875,
          496.1499938964844,
          496.3399963378906,
          481.7699890136719,
          479.489990234375,
          475.239990234375,
          482.32000732421875,
          480.6199951171875,
          463.3800048828125,
          458.2699890136719,
          462.9700012207031,
          463.8999938964844,
          457.5299987792969,
          471.07000732421875,
          459.6600036621094,
          448.75,
          435.3699951171875,
          439.5299987792969,
          434.7699890136719,
          448.07000732421875,
          450.4100036621094,
          451.3800048828125,
          462.5799865722656,
          462.7300109863281,
          474.4200134277344,
          475.0299987792969,
          481.2699890136719,
          480.260009765625,
          482.5,
          474.8500061035156,
          480,
          475.3399963378906,
          476.760009765625,
          471.3500061035156,
          470.6600036621094,
          476.2699890136719,
          461.80999755859375,
          460.6099853515625,
          461.0400085449219,
          448.69000244140625,
          454.4599914550781,
          458.6600036621094,
          468.6199951171875,
          473.2200012207031,
          475.3399963378906,
          473.239990234375,
          473.489990234375,
          471.44000244140625,
          483.3599853515625,
          482.44000244140625,
          483.0400085449219,
          485.3699951171875,
          485.82000732421875,
          489.4700012207031,
          486.75,
          488.07000732421875,
          481.2699890136719,
          481.95001220703125,
          481.5899963378906,
          487.32000732421875,
          482.1000061035156,
          489.29998779296875,
          493.1499938964844,
          492.5899963378906,
          493.3599853515625,
          497.5,
          490.8500061035156,
          490.9100036621094,
          491.25,
          494.4700012207031,
          495.4200134277344,
          495.9599914550781,
          488.3599853515625,
          492.32000732421875,
          495.32000732421875,
          495.3999938964844,
          500.1600036621094,
          496.3800048828125,
          483.8500061035156,
          487.42999267578125,
          486.010009765625,
          492.2099914550781,
          505.5799865722656,
          513.5399780273438,
          514.1400146484375,
          513.8400268554688,
          512.9099731445312,
          512.25,
          508.69000244140625,
          496.57000732421875,
          500.0199890136719,
          503.4599914550781,
          503.1700134277344,
          504.9800109863281,
          505.7900085449219,
          506.5899963378906,
          509.30999755859375,
          505.29998779296875,
          509.739990234375,
          515.2899780273438
         ]
        }
       ],
       "layout": {
        "shapes": [
         {
          "line": {
           "color": "red",
           "width": 2
          },
          "name": "Top Price",
          "type": "line",
          "x0": 0,
          "x1": 1,
          "xref": "x domain",
          "y0": 527.0281,
          "y1": 527.0281,
          "yref": "y"
         },
         {
          "line": {
           "color": "green",
           "width": 2
          },
          "name": "Bottom Price",
          "type": "line",
          "x0": 0,
          "x1": 1,
          "xref": "x domain",
          "y0": 511.2826,
          "y1": 511.2826,
          "yref": "y"
         }
        ],
        "template": {
         "data": {
          "bar": [
           {
            "error_x": {
             "color": "#f2f5fa"
            },
            "error_y": {
             "color": "#f2f5fa"
            },
            "marker": {
             "line": {
              "color": "rgb(17,17,17)",
              "width": 0.5
             },
             "pattern": {
              "fillmode": "overlay",
              "size": 10,
              "solidity": 0.2
             }
            },
            "type": "bar"
           }
          ],
          "barpolar": [
           {
            "marker": {
             "line": {
              "color": "rgb(17,17,17)",
              "width": 0.5
             },
             "pattern": {
              "fillmode": "overlay",
              "size": 10,
              "solidity": 0.2
             }
            },
            "type": "barpolar"
           }
          ],
          "carpet": [
           {
            "aaxis": {
             "endlinecolor": "#A2B1C6",
             "gridcolor": "#506784",
             "linecolor": "#506784",
             "minorgridcolor": "#506784",
             "startlinecolor": "#A2B1C6"
            },
            "baxis": {
             "endlinecolor": "#A2B1C6",
             "gridcolor": "#506784",
             "linecolor": "#506784",
             "minorgridcolor": "#506784",
             "startlinecolor": "#A2B1C6"
            },
            "type": "carpet"
           }
          ],
          "choropleth": [
           {
            "colorbar": {
             "outlinewidth": 0,
             "ticks": ""
            },
            "type": "choropleth"
           }
          ],
          "contour": [
           {
            "colorbar": {
             "outlinewidth": 0,
             "ticks": ""
            },
            "colorscale": [
             [
              0,
              "#0d0887"
             ],
             [
              0.1111111111111111,
              "#46039f"
             ],
             [
              0.2222222222222222,
              "#7201a8"
             ],
             [
              0.3333333333333333,
              "#9c179e"
             ],
             [
              0.4444444444444444,
              "#bd3786"
             ],
             [
              0.5555555555555556,
              "#d8576b"
             ],
             [
              0.6666666666666666,
              "#ed7953"
             ],
             [
              0.7777777777777778,
              "#fb9f3a"
             ],
             [
              0.8888888888888888,
              "#fdca26"
             ],
             [
              1,
              "#f0f921"
             ]
            ],
            "type": "contour"
           }
          ],
          "contourcarpet": [
           {
            "colorbar": {
             "outlinewidth": 0,
             "ticks": ""
            },
            "type": "contourcarpet"
           }
          ],
          "heatmap": [
           {
            "colorbar": {
             "outlinewidth": 0,
             "ticks": ""
            },
            "colorscale": [
             [
              0,
              "#0d0887"
             ],
             [
              0.1111111111111111,
              "#46039f"
             ],
             [
              0.2222222222222222,
              "#7201a8"
             ],
             [
              0.3333333333333333,
              "#9c179e"
             ],
             [
              0.4444444444444444,
              "#bd3786"
             ],
             [
              0.5555555555555556,
              "#d8576b"
             ],
             [
              0.6666666666666666,
              "#ed7953"
             ],
             [
              0.7777777777777778,
              "#fb9f3a"
             ],
             [
              0.8888888888888888,
              "#fdca26"
             ],
             [
              1,
              "#f0f921"
             ]
            ],
            "type": "heatmap"
           }
          ],
          "heatmapgl": [
           {
            "colorbar": {
             "outlinewidth": 0,
             "ticks": ""
            },
            "colorscale": [
             [
              0,
              "#0d0887"
             ],
             [
              0.1111111111111111,
              "#46039f"
             ],
             [
              0.2222222222222222,
              "#7201a8"
             ],
             [
              0.3333333333333333,
              "#9c179e"
             ],
             [
              0.4444444444444444,
              "#bd3786"
             ],
             [
              0.5555555555555556,
              "#d8576b"
             ],
             [
              0.6666666666666666,
              "#ed7953"
             ],
             [
              0.7777777777777778,
              "#fb9f3a"
             ],
             [
              0.8888888888888888,
              "#fdca26"
             ],
             [
              1,
              "#f0f921"
             ]
            ],
            "type": "heatmapgl"
           }
          ],
          "histogram": [
           {
            "marker": {
             "pattern": {
              "fillmode": "overlay",
              "size": 10,
              "solidity": 0.2
             }
            },
            "type": "histogram"
           }
          ],
          "histogram2d": [
           {
            "colorbar": {
             "outlinewidth": 0,
             "ticks": ""
            },
            "colorscale": [
             [
              0,
              "#0d0887"
             ],
             [
              0.1111111111111111,
              "#46039f"
             ],
             [
              0.2222222222222222,
              "#7201a8"
             ],
             [
              0.3333333333333333,
              "#9c179e"
             ],
             [
              0.4444444444444444,
              "#bd3786"
             ],
             [
              0.5555555555555556,
              "#d8576b"
             ],
             [
              0.6666666666666666,
              "#ed7953"
             ],
             [
              0.7777777777777778,
              "#fb9f3a"
             ],
             [
              0.8888888888888888,
              "#fdca26"
             ],
             [
              1,
              "#f0f921"
             ]
            ],
            "type": "histogram2d"
           }
          ],
          "histogram2dcontour": [
           {
            "colorbar": {
             "outlinewidth": 0,
             "ticks": ""
            },
            "colorscale": [
             [
              0,
              "#0d0887"
             ],
             [
              0.1111111111111111,
              "#46039f"
             ],
             [
              0.2222222222222222,
              "#7201a8"
             ],
             [
              0.3333333333333333,
              "#9c179e"
             ],
             [
              0.4444444444444444,
              "#bd3786"
             ],
             [
              0.5555555555555556,
              "#d8576b"
             ],
             [
              0.6666666666666666,
              "#ed7953"
             ],
             [
              0.7777777777777778,
              "#fb9f3a"
             ],
             [
              0.8888888888888888,
              "#fdca26"
             ],
             [
              1,
              "#f0f921"
             ]
            ],
            "type": "histogram2dcontour"
           }
          ],
          "mesh3d": [
           {
            "colorbar": {
             "outlinewidth": 0,
             "ticks": ""
            },
            "type": "mesh3d"
           }
          ],
          "parcoords": [
           {
            "line": {
             "colorbar": {
              "outlinewidth": 0,
              "ticks": ""
             }
            },
            "type": "parcoords"
           }
          ],
          "pie": [
           {
            "automargin": true,
            "type": "pie"
           }
          ],
          "scatter": [
           {
            "marker": {
             "line": {
              "color": "#283442"
             }
            },
            "type": "scatter"
           }
          ],
          "scatter3d": [
           {
            "line": {
             "colorbar": {
              "outlinewidth": 0,
              "ticks": ""
             }
            },
            "marker": {
             "colorbar": {
              "outlinewidth": 0,
              "ticks": ""
             }
            },
            "type": "scatter3d"
           }
          ],
          "scattercarpet": [
           {
            "marker": {
             "colorbar": {
              "outlinewidth": 0,
              "ticks": ""
             }
            },
            "type": "scattercarpet"
           }
          ],
          "scattergeo": [
           {
            "marker": {
             "colorbar": {
              "outlinewidth": 0,
              "ticks": ""
             }
            },
            "type": "scattergeo"
           }
          ],
          "scattergl": [
           {
            "marker": {
             "line": {
              "color": "#283442"
             }
            },
            "type": "scattergl"
           }
          ],
          "scattermapbox": [
           {
            "marker": {
             "colorbar": {
              "outlinewidth": 0,
              "ticks": ""
             }
            },
            "type": "scattermapbox"
           }
          ],
          "scatterpolar": [
           {
            "marker": {
             "colorbar": {
              "outlinewidth": 0,
              "ticks": ""
             }
            },
            "type": "scatterpolar"
           }
          ],
          "scatterpolargl": [
           {
            "marker": {
             "colorbar": {
              "outlinewidth": 0,
              "ticks": ""
             }
            },
            "type": "scatterpolargl"
           }
          ],
          "scatterternary": [
           {
            "marker": {
             "colorbar": {
              "outlinewidth": 0,
              "ticks": ""
             }
            },
            "type": "scatterternary"
           }
          ],
          "surface": [
           {
            "colorbar": {
             "outlinewidth": 0,
             "ticks": ""
            },
            "colorscale": [
             [
              0,
              "#0d0887"
             ],
             [
              0.1111111111111111,
              "#46039f"
             ],
             [
              0.2222222222222222,
              "#7201a8"
             ],
             [
              0.3333333333333333,
              "#9c179e"
             ],
             [
              0.4444444444444444,
              "#bd3786"
             ],
             [
              0.5555555555555556,
              "#d8576b"
             ],
             [
              0.6666666666666666,
              "#ed7953"
             ],
             [
              0.7777777777777778,
              "#fb9f3a"
             ],
             [
              0.8888888888888888,
              "#fdca26"
             ],
             [
              1,
              "#f0f921"
             ]
            ],
            "type": "surface"
           }
          ],
          "table": [
           {
            "cells": {
             "fill": {
              "color": "#506784"
             },
             "line": {
              "color": "rgb(17,17,17)"
             }
            },
            "header": {
             "fill": {
              "color": "#2a3f5f"
             },
             "line": {
              "color": "rgb(17,17,17)"
             }
            },
            "type": "table"
           }
          ]
         },
         "layout": {
          "annotationdefaults": {
           "arrowcolor": "#f2f5fa",
           "arrowhead": 0,
           "arrowwidth": 1
          },
          "annotations": [
           {
            "font": {
             "color": "black",
             "size": 90
            },
            "name": "draft watermark",
            "opacity": 0.1,
            "showarrow": false,
            "text": "humblDATA",
            "textangle": -25,
            "x": 0.5,
            "xref": "paper",
            "y": 0.5,
            "yref": "paper"
           }
          ],
          "autotypenumbers": "strict",
          "coloraxis": {
           "colorbar": {
            "outlinewidth": 0,
            "ticks": ""
           }
          },
          "colorscale": {
           "diverging": [
            [
             0,
             "#8e0152"
            ],
            [
             0.1,
             "#c51b7d"
            ],
            [
             0.2,
             "#de77ae"
            ],
            [
             0.3,
             "#f1b6da"
            ],
            [
             0.4,
             "#fde0ef"
            ],
            [
             0.5,
             "#f7f7f7"
            ],
            [
             0.6,
             "#e6f5d0"
            ],
            [
             0.7,
             "#b8e186"
            ],
            [
             0.8,
             "#7fbc41"
            ],
            [
             0.9,
             "#4d9221"
            ],
            [
             1,
             "#276419"
            ]
           ],
           "sequential": [
            [
             0,
             "#0d0887"
            ],
            [
             0.1111111111111111,
             "#46039f"
            ],
            [
             0.2222222222222222,
             "#7201a8"
            ],
            [
             0.3333333333333333,
             "#9c179e"
            ],
            [
             0.4444444444444444,
             "#bd3786"
            ],
            [
             0.5555555555555556,
             "#d8576b"
            ],
            [
             0.6666666666666666,
             "#ed7953"
            ],
            [
             0.7777777777777778,
             "#fb9f3a"
            ],
            [
             0.8888888888888888,
             "#fdca26"
            ],
            [
             1,
             "#f0f921"
            ]
           ],
           "sequentialminus": [
            [
             0,
             "#0d0887"
            ],
            [
             0.1111111111111111,
             "#46039f"
            ],
            [
             0.2222222222222222,
             "#7201a8"
            ],
            [
             0.3333333333333333,
             "#9c179e"
            ],
            [
             0.4444444444444444,
             "#bd3786"
            ],
            [
             0.5555555555555556,
             "#d8576b"
            ],
            [
             0.6666666666666666,
             "#ed7953"
            ],
            [
             0.7777777777777778,
             "#fb9f3a"
            ],
            [
             0.8888888888888888,
             "#fdca26"
            ],
            [
             1,
             "#f0f921"
            ]
           ]
          },
          "colorway": [
           "#636efa",
           "#EF553B",
           "#00cc96",
           "#ab63fa",
           "#FFA15A",
           "#19d3f3",
           "#FF6692",
           "#B6E880",
           "#FF97FF",
           "#FECB52"
          ],
          "font": {
           "color": "white"
          },
          "geo": {
           "bgcolor": "rgb(17,17,17)",
           "lakecolor": "rgb(17,17,17)",
           "landcolor": "rgb(17,17,17)",
           "showlakes": true,
           "showland": true,
           "subunitcolor": "#506784"
          },
          "hoverlabel": {
           "align": "left"
          },
          "hovermode": "closest",
          "legend": {
           "bgcolor": "rgb(0,0,0,0)",
           "bordercolor": "rgb(63,70,139)",
           "borderwidth": 0.5,
           "font": {
            "color": "white",
            "family": "open-sans",
            "size": 12
           },
           "orientation": "h",
           "traceorder": "normal",
           "x": 0.5,
           "xanchor": "center",
           "y": -0.15
          },
          "mapbox": {
           "style": "dark"
          },
          "paper_bgcolor": "rgb(0,0,0,0)",
          "plot_bgcolor": "rgb(0,0,0,0)",
          "polar": {
           "angularaxis": {
            "gridcolor": "#506784",
            "linecolor": "#506784",
            "ticks": ""
           },
           "bgcolor": "rgb(17,17,17)",
           "radialaxis": {
            "gridcolor": "#506784",
            "linecolor": "#506784",
            "ticks": ""
           }
          },
          "scene": {
           "xaxis": {
            "backgroundcolor": "rgb(17,17,17)",
            "gridcolor": "#506784",
            "gridwidth": 2,
            "linecolor": "#506784",
            "showbackground": true,
            "ticks": "",
            "zerolinecolor": "#C8D4E3"
           },
           "yaxis": {
            "backgroundcolor": "rgb(17,17,17)",
            "gridcolor": "#506784",
            "gridwidth": 2,
            "linecolor": "#506784",
            "showbackground": true,
            "ticks": "",
            "zerolinecolor": "#C8D4E3"
           },
           "zaxis": {
            "backgroundcolor": "rgb(17,17,17)",
            "gridcolor": "#506784",
            "gridwidth": 2,
            "linecolor": "#506784",
            "showbackground": true,
            "ticks": "",
            "zerolinecolor": "#C8D4E3"
           }
          },
          "shapedefaults": {
           "line": {
            "color": "#f2f5fa"
           }
          },
          "sliderdefaults": {
           "bgcolor": "#C8D4E3",
           "bordercolor": "rgb(17,17,17)",
           "borderwidth": 1,
           "tickwidth": 0
          },
          "ternary": {
           "aaxis": {
            "gridcolor": "#506784",
            "linecolor": "#506784",
            "ticks": ""
           },
           "baxis": {
            "gridcolor": "#506784",
            "linecolor": "#506784",
            "ticks": ""
           },
           "bgcolor": "rgb(17,17,17)",
           "caxis": {
            "gridcolor": "#506784",
            "linecolor": "#506784",
            "ticks": ""
           }
          },
          "title": {
           "x": 0.05
          },
          "updatemenudefaults": {
           "bgcolor": "#506784",
           "borderwidth": 0
          },
          "xaxis": {
           "automargin": true,
           "gridcolor": "#283442",
           "linecolor": "#506784",
           "ticks": "",
           "title": {
            "standoff": 15
           },
           "zerolinecolor": "#283442",
           "zerolinewidth": 2
          },
          "yaxis": {
           "automargin": true,
           "gridcolor": "#283442",
           "linecolor": "#506784",
           "side": "right",
           "ticks": "",
           "title": {
            "standoff": 15
           },
           "zerolinecolor": "#283442",
           "zerolinewidth": 2
          }
         }
        },
        "title": {
         "text": "Current Mandelbrot Channel for QQQ"
        },
        "xaxis": {
         "title": {
          "text": "Date"
         }
        },
        "yaxis": {
         "title": {
          "text": "Price"
         }
        }
       }
      }
     },
     "metadata": {},
     "output_type": "display_data"
    }
   ],
   "source": [
    "result.show()"
   ]
  },
  {
   "cell_type": "code",
   "execution_count": null,
   "metadata": {},
   "outputs": [],
   "source": []
  }
 ],
 "metadata": {
  "kernelspec": {
   "display_name": "Python 3",
   "language": "python",
   "name": "python3"
  },
  "language_info": {
   "codemirror_mode": {
    "name": "ipython",
    "version": 3
   },
   "file_extension": ".py",
   "mimetype": "text/x-python",
   "name": "python",
   "nbconvert_exporter": "python",
   "pygments_lexer": "ipython3",
   "version": "3.12.7"
  }
 },
 "nbformat": 4,
 "nbformat_minor": 2
}
