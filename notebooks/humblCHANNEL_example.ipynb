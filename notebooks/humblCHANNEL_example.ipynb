{
 "cells": [
  {
   "cell_type": "code",
   "execution_count": 1,
   "metadata": {},
   "outputs": [
    {
     "name": "stderr",
     "output_type": "stream",
     "text": [
      "WARNING: ToolboxQueryParams || Start date adjusted to 2023-12-10 based on anonymous membership (1Y of data).\n"
     ]
    },
    {
     "data": {
      "text/plain": [
       "Toolbox(symbols=['SPY'], interval=1d, start_date=2023-12-10, end_date=2024-12-09, provider=yfinance, membership=anonymous, warnings=[{'category': 'ToolboxQueryParams', 'message': 'Start date adjusted to 2023-12-10 based on anonymous membership (1Y of data).'}])"
      ]
     },
     "execution_count": 1,
     "metadata": {},
     "output_type": "execute_result"
    }
   ],
   "source": [
    "%load_ext autoreload\n",
    "%autoreload\n",
    "\n",
    "from humbldata.toolbox.toolbox_controller import Toolbox\n",
    "\n",
    "toolbox = Toolbox(\n",
    "    symbols=\"SPY\",\n",
    "    interval=\"1d\",\n",
    "    start_date=\"2000-01-01\",\n",
    "    end_date=\"2024-12-09\",\n",
    "    # membership=\"anonymous\"\n",
    ")\n",
    "toolbox"
   ]
  },
  {
   "cell_type": "code",
   "execution_count": 2,
   "metadata": {},
   "outputs": [
    {
     "name": "stderr",
     "output_type": "stream",
     "text": [
      "INFO: MandelbrotChannelFetcher || START: fetch_data (sync)\n",
      "DEBUG: MandelbrotChannelFetcher || Running .transform_query()\n",
      "DEBUG: MandelbrotChannelFetcher || Running .extract_data()\n",
      "DEBUG: MandelbrotChannelFetcher || Running .transform_data()\n",
      "INFO: humbldata.core.utils.openbb_helpers || Fetching latest price for ['SPY'] using yfinance\n",
      "WARNING: humbldata.core.utils.openbb_helpers || Failed to get latest price for ['SPY']. Using latest close instead.\n",
      "INFO: MandelbrotChannelFetcher || END: fetch_data (sync) - Total time: 0.6659s\n"
     ]
    },
    {
     "data": {
      "text/plain": [
       "HumblObject\n",
       "\n",
       "id: 06756e59-fe7a-7a36-8000-8a47f343b25f\n",
       "results: b'\\xa1mDataFrameScan\\xa2bdf\\xa1gcolumns\\x85\\xa4dnameddatehdatatypedDatelbi...\n",
       "equity_data: b'\\xa1bIR\\xa2gversion\\x00cdsl\\xa1fHStack\\xa3einput\\xa1mDataFrameScan\\x...\n",
       "provider: yfinance\n",
       "warnings: [{'category': 'ToolboxQueryParams', 'message': 'Start date adjusted to 20...\n",
       "chart: [{'content': '{\"data\":[{\"line\":{\"color\":\"blue\"},\"name\":\"Recent Price\",\"x\":[\"...\n",
       "extra: {}\n",
       "context_params: {'symbols': ['SPY'], 'interval': '1d', 'start_date': datetime.date(...\n",
       "command_params: {'window': '1mo', 'rv_adjustment': True, 'rv_method': 'std', 'rs_me..."
      ]
     },
     "execution_count": 2,
     "metadata": {},
     "output_type": "execute_result"
    }
   ],
   "source": [
    "# import nest_asyncio\n",
    "# nest_asyncio.apply()\n",
    "\n",
    "result = toolbox.technical.mandelbrot_channel(\n",
    "    historical=False,\n",
    "    window=\"1mo\",\n",
    "    _boundary_group_down=False,\n",
    "    chart=True,\n",
    "    live_price=True,\n",
    ")\n",
    "result"
   ]
  },
  {
   "cell_type": "code",
   "execution_count": 3,
   "metadata": {},
   "outputs": [
    {
     "data": {
      "text/plain": [
       "b'\\xa1bIR\\xa2gversion\\x00cdsl\\xa1fHStack\\xa3einput\\xa1mDataFrameScan\\xa2bdf\\xa1gcolumns\\x87\\xa4dnameddatehdatatypedDatelbit_settings\\x00fvalues\\x98\\xfa\\x19L\\xf6\\x19L\\xf7\\x19L\\xf8\\x19L\\xf9\\x19L\\xfa\\x19L\\xfd\\x19L\\xfe\\x19L\\xff\\x19M\\x00\\x19M\\x01\\x19M\\x05\\x19M\\x06\\x19M\\x07\\x19M\\x08\\x19M\\x0c\\x19M\\r\\x19M\\x0e\\x19M\\x0f\\x19M\\x12\\x19M\\x13\\x19M\\x14\\x19M\\x15\\x19M\\x16\\x19M\\x1a\\x19M\\x1b\\x19M\\x1c\\x19M\\x1d\\x19M \\x19M!\\x19M\"\\x19M#\\x19M$\\x19M\\'\\x19M(\\x19M)\\x19M*\\x19M+\\x19M.\\x19M/\\x19M0\\x19M1\\x19M2\\x19M5\\x19M6\\x19M7\\x19M8\\x19M9\\x19M=\\x19M>\\x19M?\\x19M@\\x19MC\\x19MD\\x19ME\\x19MF\\x19MG\\x19MJ\\x19MK\\x19ML\\x19MM\\x19MN\\x19MQ\\x19MR\\x19MS\\x19MT\\x19MU\\x19MX\\x19MY\\x19MZ\\x19M[\\x19M\\\\\\x19M_\\x19M`\\x19Ma\\x19Mb\\x19Mf\\x19Mg\\x19Mh\\x19Mi\\x19Mj\\x19Mm\\x19Mn\\x19Mo\\x19Mp\\x19Mq\\x19Mt\\x19Mu\\x19Mv\\x19Mw\\x19Mx\\x19M{\\x19M|\\x19M}\\x19M~\\x19M\\x7f\\x19M\\x82\\x19M\\x83\\x19M\\x84\\x19M\\x85\\x19M\\x86\\x19M\\x89\\x19M\\x8a\\x19M\\x8b\\x19M\\x8c\\x19M\\x8d\\x19M\\x90\\x19M\\x91\\x19M\\x92\\x19M\\x93\\x19M\\x94\\x19M\\x97\\x19M\\x98\\x19M\\x99\\x19M\\x9a\\x19M\\x9b\\x19M\\x9f\\x19M\\xa0\\x19M\\xa1\\x19M\\xa2\\x19M\\xa5\\x19M\\xa6\\x19M\\xa7\\x19M\\xa8\\x19M\\xa9\\x19M\\xac\\x19M\\xad\\x19M\\xae\\x19M\\xaf\\x19M\\xb0\\x19M\\xb3\\x19M\\xb4\\x19M\\xb6\\x19M\\xb7\\x19M\\xba\\x19M\\xbb\\x19M\\xbc\\x19M\\xbd\\x19M\\xbe\\x19M\\xc1\\x19M\\xc2\\x19M\\xc3\\x19M\\xc5\\x19M\\xc8\\x19M\\xc9\\x19M\\xca\\x19M\\xcb\\x19M\\xcc\\x19M\\xcf\\x19M\\xd0\\x19M\\xd1\\x19M\\xd2\\x19M\\xd3\\x19M\\xd6\\x19M\\xd7\\x19M\\xd8\\x19M\\xd9\\x19M\\xda\\x19M\\xdd\\x19M\\xde\\x19M\\xdf\\x19M\\xe0\\x19M\\xe1\\x19M\\xe4\\x19M\\xe5\\x19M\\xe6\\x19M\\xe7\\x19M\\xe8\\x19M\\xeb\\x19M\\xec\\x19M\\xed\\x19M\\xee\\x19M\\xef\\x19M\\xf2\\x19M\\xf3\\x19M\\xf4\\x19M\\xf5\\x19M\\xf6\\x19M\\xf9\\x19M\\xfa\\x19M\\xfb\\x19M\\xfc\\x19M\\xfd\\x19N\\x01\\x19N\\x02\\x19N\\x03\\x19N\\x04\\x19N\\x07\\x19N\\x08\\x19N\\t\\x19N\\n\\x19N\\x0b\\x19N\\x0e\\x19N\\x0f\\x19N\\x10\\x19N\\x11\\x19N\\x12\\x19N\\x15\\x19N\\x16\\x19N\\x17\\x19N\\x18\\x19N\\x19\\x19N\\x1c\\x19N\\x1d\\x19N\\x1e\\x19N\\x1f\\x19N \\x19N#\\x19N$\\x19N%\\x19N&\\x19N\\'\\x19N*\\x19N+\\x19N,\\x19N-\\x19N.\\x19N1\\x19N2\\x19N3\\x19N4\\x19N5\\x19N8\\x19N9\\x19N:\\x19N;\\x19N<\\x19N?\\x19N@\\x19NA\\x19NB\\x19NC\\x19NF\\x19NG\\x19NH\\x19NI\\x19NJ\\x19NM\\x19NN\\x19NO\\x19NP\\x19NQ\\x19NT\\x19NU\\x19NV\\x19NX\\x19N[\\x19N\\\\\\x19N]\\x19N^\\x19N_\\xa4dnamedopenhdatatypegFloat64lbit_settings\\x00fvalues\\x98\\xfa\\xfaC\\xe5\\xd8R\\xfaC\\xe6\\xd0\\xa4\\xfaC\\xe8>\\xb8\\xf9_b\\xfaC\\xea\\xbe\\xb8\\xfaC\\xeb}q\\xfaC\\xecC\\xd7\\xfaC\\xec\\xfa\\xe1\\xfaC\\xeb\\xaa=\\xfaC\\xec\\xee\\x14\\xfaC\\xed\\x08\\xf6\\xfaC\\xed\\xb8R\\xfaC\\xeep\\xa4\\xfaC\\xee>\\xb8\\xfaC\\xec\\x14{\\xfaC\\xeb7\\n\\xfaC\\xea&f\\xfaC\\xe9\\xbe\\xb8\\xfaC\\xea7\\n\\xfaC\\xeb\\xef\\\\\\xfaC\\xed\\x14{\\xfaC\\xee\\xcb\\x85\\xfaC\\xee\\xeb\\x85\\xfaC\\xed\\xa1H\\xfaC\\xeb\\xe8\\xf6\\xfaC\\xed\\x01H\\xfaC\\xee\\xd33\\xfaC\\xf2\\x01H\\xfaC\\xf2\\x01H\\xfaC\\xf3\\xe7\\xae\\xfaC\\xf3\\xca=\\xfaC\\xf3\\xcb\\x85\\xfaC\\xf3\\xddq\\xfaC\\xf5G\\xae\\xfaC\\xf4O\\\\\\xfaC\\xf2P\\xa4\\xfaC\\xf4\\xd33\\xfaC\\xf6\\xd9\\x9a\\xfaC\\xf6\\xc2\\x8f\\xfaC\\xf8%\\x1f\\xfaC\\xf9\\x0c\\xcd\\xfaC\\xf9k\\x85\\xfaC\\xfa\\x95\\xc3\\xfaC\\xf7C\\xd7\\xfaC\\xf8e\\x1f\\xfaC\\xf9\\xa5\\x1f\\xfaC\\xfa\\xd9\\x9a\\xfaC\\xf8\\xdc)\\xfaC\\xf7\\xb5\\xc3\\xfaC\\xfc\\x01H\\xfaC\\xfe\\xa2\\x8f\\xfaC\\xfe&f\\xfaC\\xfdY\\x9a\\xfaC\\xfc\\xaa=\\xfaC\\xfe\\x08\\xf6\\xfaC\\xfe}q\\xfaD\\x00\\x01\\xec\\xfaC\\xff\\x1e\\xb8\\xfaC\\xffFf\\xfaD\\x00H\\xf6\\xfaD\\x00\\xddq\\xfaC\\xff=q\\xfaD\\x00\\\\\\xcd\\xfaD\\x01G\\n\\xfaD\\x01>\\x14\\xfaC\\xff\\x1a\\xe1\\xf9`\\x04\\xfaD\\x00\\t\\x9a\\xfaD\\x00\\xf1H\\xfaD\\x02\\xd8\\xf6\\xfaD\\x02\\x87\\n\\xfaD\\x01\\xf33\\xfaD\\x02N\\xb8\\xfaD\\x02mq\\xfaD\\x02\\xcdq\\xfaD\\x02\\xf5\\x1f\\xfaD\\x01\\x8f\\\\\\xfaD\\x01n\\x14\\xfaD\\x02\\xe1H\\xfaD\\x00\\x9dq\\xfaD\\x01\\xc9\\x9a\\xf9`\\x11\\xfaD\\x00^\\xb8\\xfaD\\x00\\xeb\\x85\\xfaD\\x00\\x97\\xae\\xfaD\\x00\\xc8R\\xfaC\\xfcxR\\xfaC\\xfd\\x06f\\xfaC\\xfa\\xfdq\\xfaC\\xf9\\xb8R\\xfaC\\xf8\\xea=\\xfaC\\xfa\\xe3\\xd7\\xfaC\\xfdG\\xae\\xfaC\\xf9\\x97\\n\\xfaC\\xfd,\\xcd\\xfaC\\xff\\x0b\\x85\\xfaC\\xfeG\\xae\\xfaC\\xfa\\xb0\\xa4\\xfaC\\xfc\\x133\\xfaC\\xff\\x94{\\xfaD\\x00p\\x00\\xfaD\\x01c\\xd7\\xfaD\\x00\\xd0\\xa4\\xfaD\\x01XR\\xfaD\\x02s\\xd7\\xfaD\\x02\\xa3\\xd7\\xfaD\\x02G\\n\\xfaD\\x03u\\x1f\\xfaD\\x04xR\\xfaD\\x043\\xd7\\xfaD\\x04d{\\xfaD\\x04Q\\xec\\xfaD\\x04\\xa9\\x9a\\xfaD\\x05=q\\xfaD\\x03\\xf6f\\xfaD\\x04\\x91H\\xfaD\\x03k\\x85\\xfaD\\x03!H\\xfaD\\x02\\xe5\\xc3\\xfaD\\x04AH\\xfaD\\x03\\x9dq\\xfaD\\x04\\xb1H\\xfaD\\x05\\xbe\\xb8\\xfaD\\x05j=\\xfaD\\x05K\\x85\\xfaD\\x05\\x84{\\xfaD\\x07hR\\xfaD\\x07\\xc9\\x9a\\xfaD\\x078R\\xfaD\\x07\\x85\\x1f\\xfaD\\x08\\xca=\\xfaD\\t\\\\)\\xfaD\\x08\\x19\\x9a\\xfaD\\x08\\x15\\x1f\\xfaD\\x07\\xff\\\\\\xfaD\\x07\\xec)\\xfaD\\x08W\\xae\\xfaD\\x08\\xca=\\xfaD\\x08hR\\xfaD\\x07\\xec\\xcd\\xfaD\\t,)\\xfaD\\t\\xf1H\\xfaD\\n\\xdc)\\xfaD\\x0b\\x10\\xa4\\xfaD\\x0bD{\\xfaD\\x0c\\\\)\\xfaD\\x0bhR\\xfaD\\x0c\\x81\\xec\\xfaD\\x0c\\xb7\\xae\\xfaD\\x0b\\xb33\\xfaD\\x0b\\xa0\\xa4\\xfaD\\n\\x1a\\xe1\\xf9`R\\xfaD\\n\\xa2\\x8f\\xfaD\\t7\\n\\xfaD\\x07Vf\\xfaD\\x07\\x91\\xec\\xfaD\\x08\\x81H\\xfaD\\x08\\x90\\xa4\\xfaD\\t>\\xb8\\xfaD\\n${\\xfaD\\x05\\xf0\\x00\\xfaC\\xff\\xd1\\xec\\xfaD\\x01\\xce\\x14\\xfaD\\x04\\x1e\\x14\\xfaD\\x02\\xfa=\\xfaD\\x04s\\xd7\\xfaD\\x05\\x8dq\\xfaD\\x06!\\xec\\xfaD\\x07\\xb6f\\xf9`K\\xfaD\\t\\xda\\xe1\\xfaD\\n\\xae\\xb8\\xfaD\\x0b\\xc9\\x9a\\xfaD\\x0b\\xf1H\\xfaD\\x0c\\xa3\\xd7\\xfaD\\x0b\\xe1\\xec\\xfaD\\x0c\\xcb\\x85\\xfaD\\x0b\\xdf\\\\\\xfaD\\x0cMq\\xfaD\\x0c\\x13\\xd7\\xfaD\\x0c1H\\xfaD\\x0c\\x1e\\x14\\xfaD\\t\\x8c\\xcd\\xfaD\\t\\xb8\\xf6\\xfaD\\t|)\\xfaD\\x08)\\x9a\\xfaD\\t\\x17\\n\\xfaD\\t,\\xcd\\xfaD\\n\\xc0\\xa4\\xfaD\\x0b\\xedq\\xfaD\\x0co\\\\\\xfaD\\rFf\\xfaD\\x0c\\xef\\\\\\xfaD\\x0e\\xc0\\xa4\\xfaD\\r\\xf5\\xc3\\xfaD\\x0eU\\xc3\\xfaD\\x0e\\x9e\\xb8\\xfaD\\x0e\\xc8\\xf6\\xfaD\\x0f\\x98R\\xfaD\\x0fX\\xf6\\xfaD\\x0e\\x9a\\xe1\\xfaD\\x0fY\\x9a\\xfaD\\r\\xedq\\xfaD\\r\\xd7\\n\\xfaD\\x0f\\x16f\\xfaD\\x0e\\xd33\\xfaD\\x0e\\x9a\\xe1\\xfaD\\x0fJ=\\xfaD\\x0f\\xf1H\\xfaD\\x10\\x033\\xfaD\\x11N\\x14\\xfaD\\x12%\\xc3\\xfaD\\x10\\xf1\\xec\\xfaD\\x12z=\\xfaD\\x12\\x04{\\xfaD\\x11\\xf6f\\xfaD\\x11C3\\xfaD\\x11P\\xa4\\xfaD\\x10\\xfe\\xb8\\xfaD\\x11`\\xa4\\xfaD\\x11\\xa5\\x1f\\xfaD\\x10\\xf6f\\xfaD\\x11R\\x8f\\xfaD\\x0f\\xe3\\xd7\\xfaD\\x0e\\xd4{\\xfaD\\x0e\\xcb\\x85\\xfaD\\x0e\\xaf\\\\\\xfaD\\x13L\\xcd\\xfaD\\x14E\\x1f\\xfaD\\x15\\n\\xe1\\xfaD\\x15\\xf3\\xd7\\xfaD\\x15\\xab\\x85\\xfaD\\x15W\\xae\\xfaD\\x15T{\\xfaD\\x13n\\x14\\xfaD\\x12\\x8e\\x14\\xfaD\\x12-q\\xfaD\\x13\\x98R\\xfaD\\x14Y\\x9a\\xfaD\\x14j=\\xfaD\\x15\\xe1H\\xfaD\\x15\\xb33\\xfaD\\x16\\x1dq\\xfaD\\x15\\xea=\\xfaD\\x16\\xbe\\x14\\xfaD\\x16\\xd8\\xf6\\xfaD\\x17hR\\xfaD\\x17\\xea=\\xfaD\\x17\\xdc)\\xa4dnamedhighhdatatypegFloat64lbit_settings\\x00fvalues\\x98\\xfa\\xfaC\\xe7\\x15\\xc3\\xfaC\\xe8\\x19\\x9a\\xfaC\\xebaH\\xfaC\\xec\\xddq\\xfaC\\xebY\\x9a\\xfaC\\xec}q\\xfaC\\xedu\\xc3\\xfaC\\xed\\xf33\\xfaC\\xec}q\\xfaC\\xed\\xb0\\xa4\\xfaC\\xeeJ=\\xfaC\\xeeT{\\xfaC\\xee\\xc6f\\xfaC\\xee\\x83\\xd7\\xfaC\\xec\\xd5\\xc3\\xfaC\\xeb\\x98R\\xfaC\\xebz\\xe1\\xfaC\\xeb8R\\xf9_k\\xfaC\\xedw\\n\\xfaC\\xee\\xb9\\x9a\\xfaC\\xef\\x0f\\\\\\xfaC\\xefL\\xcd\\xfaC\\xeeN\\x14\\xfaC\\xece\\x1f\\xfaC\\xee\\x87\\xae\\xfaC\\xf1\\\\)\\xfaC\\xf2\\x9c)\\xfaC\\xf2\\x8e\\x14\\xfaC\\xf4b\\x8f\\xfaC\\xf4\\'\\xae\\xfaC\\xf4\\x8f\\\\\\xfaC\\xf5\\xb5\\xc3\\xfaC\\xf5\\xcf\\\\\\xfaC\\xf4\\x8a=\\xfaC\\xf4\\x9dq\\xfaC\\xf8\\x06f\\xfaC\\xf70\\xa4\\xfaC\\xf7(\\xf6\\xfaC\\xf9C\\xd7\\xfaC\\xf9Z\\xe1\\xfaC\\xfa\\xd33\\xf9_\\xde\\xfaC\\xf8\\x8b\\x85\\xfaC\\xf9\\x88\\xf6\\xfaC\\xfb\\x19\\x9a\\xfaC\\xfbo\\\\\\xfaC\\xf94{\\xfaC\\xf8\\xaf\\\\\\xfaC\\xfe>\\xb8\\xfaC\\xff\\x10\\xa4\\xf9_\\xf3\\xfaC\\xfd\\x94{\\xfaC\\xfdn\\x14\\xfaC\\xfe\\xde\\xb8\\xfaD\\x00R\\x8f\\xfaD\\x00\\x8c\\xcd\\xfaC\\xffY\\x9a\\xfaD\\x00\\x04{\\xfaD\\x00\\xf8\\xf6\\xfaD\\x01\\x8e\\x14\\xfaC\\xff\\xf0\\xa4\\xfaD\\x01XR\\xfaD\\x01R\\x8f\\xfaD\\x01HR\\xfaC\\xff\\xd9\\x9a\\xfaD\\x00\\xde\\xb8\\xf9`\\x08\\xfaD\\x02\\'\\xae\\xfaD\\x03\\x07\\n\\xfaD\\x02\\xa7\\n\\xfaD\\x02<\\xcd\\xfaD\\x02e\\x1f\\xfaD\\x02\\xcdq\\xfaD\\x03\\'\\n\\xfaD\\x03\\x18R\\xfaD\\x01\\xbe\\xb8\\xfaD\\x02<\\xcd\\xfaD\\x02\\xf7\\xae\\xfaD\\x02\\x1c)\\xfaD\\x02\\x0b\\x85\\xfaD\\x020\\x00\\xfaD\\x01\\n=\\xfaD\\x01\\xde\\xb8\\xfaD\\x00\\xf4{\\xfaD\\x00\\xd33\\xf9_\\xea\\xfaC\\xfd\\x1c)\\xfaC\\xfc\\x10\\xa4\\xfaC\\xfa:\\xe1\\xfaC\\xfb0\\xa4\\xfaC\\xfd\\x0b\\x85\\xfaC\\xfd\\xaf\\\\\\xfaC\\xfc\"\\x8f\\xfaC\\xfe\\xf0\\xa4\\xf9_\\xfb\\xfaC\\xfe\\xc7\\xae\\xfaC\\xfe\\x18R\\xfaC\\xfc\\xf1\\xec\\xfaD\\x00#3\\xfaD\\x01\\'\\n\\xfaD\\x01\\xa4{\\xfaD\\x01o\\\\\\xfaD\\x02\\rq\\xfaD\\x02\\xa8\\xf6\\xfaD\\x02\\xaa\\xe1\\xfaD\\x02\\xf5\\x1f\\xfaD\\x04\\x85\\x1f\\xfaD\\x04\\xe1H\\xfaD\\x04aH\\xfaD\\x04\\xe3\\xd7\\xfaD\\x04\\xe1H\\xfaD\\x04\\xd8R\\xfaD\\x05D{\\xfaD\\x04\\x91H\\xfaD\\x04\\xa0\\xa4\\xfaD\\x03\\xd3\\xd7\\xfaD\\x03L\\xcd\\xf9`\\x1f\\xfaD\\x04S\\xd7\\xfaD\\x04I\\x9a\\xfaD\\x05\\xac)\\xfaD\\x05\\xda\\xe1\\xfaD\\x068\\xf6\\xfaD\\x05\\xff\\\\\\xfaD\\x06@\\xa4\\xfaD\\x08\\x07\\xae\\xfaD\\x07\\xd5\\x1f\\xfaD\\x07\\xb3\\xd7\\xfaD\\t!\\xec\\xfaD\\t\\'\\xae\\xfaD\\t\\x87\\xae\\xfaD\\x08i\\x9a\\xfaD\\x08\\xbc\\xcd\\xfaD\\x08L\\xcd\\xfaD\\x08\\x8f\\\\\\xfaD\\x08\\xbdq\\xfaD\\t\\x91\\xec\\xfaD\\x08xR\\xfaD\\t@\\xa4\\xfaD\\t\\xf5\\x1f\\xfaD\\n\\xc33\\xfaD\\x0b\\x10\\x00\\xfaD\\x0bK\\x85\\xfaD\\x0cj\\xe1\\xfaD\\x0c\\x95\\x1f\\xfaD\\x0c\\xea\\xe1\\xfaD\\r5\\xc3\\xfaD\\rJ=\\xfaD\\x0c \\xa4\\xfaD\\x0b\\xe1H\\xfaD\\n\\x85\\x1f\\xfaD\\n\\xd1H\\xfaD\\x0b/\\\\\\xfaD\\tJ\\xe1\\xfaD\\x08\\xddq\\xfaD\\x08\\xcc)\\xfaD\\x08\\xc33\\xfaD\\x08\\xd5\\xc3\\xf9`S\\xfaD\\n\\xb7\\xae\\xfaD\\x06?\\\\\\xfaD\\x02\\xe5\\x1f\\xfaD\\x04p\\x00\\xfaD\\x04\\xe5\\xc3\\xfaD\\x04\\xd2\\x8f\\xfaD\\x05\\xa0\\xa4\\xfaD\\x05\\xee\\xb8\\xfaD\\x07\\x91\\xec\\xfaD\\x08=q\\xfaD\\nW\\n\\xfaD\\n\\xc1H\\xfaD\\x0b\\xe7\\n\\xfaD\\x0c5\\xc3\\xfaD\\x0c\\x87\\n\\xfaD\\x0c\\xcb\\x85\\xfaD\\x0c\\xc5\\xc3\\xfaD\\x0c\\xfa=\\xfaD\\x0c\\x83\\xd7\\xfaD\\x0ci\\x9a\\xfaD\\x0c\\xeb\\x85\\xfaD\\r\\x0c\\xcd\\xfaD\\x0c3\\xd7\\xfaD\\n\\x9b\\x85\\xfaD\\ns3\\xfaD\\t\\xe6f\\xfaD\\x08\\xedq\\xfaD\\tI\\x9a\\xfaD\\n\\xd7\\n\\xfaD\\x0b\\xd9\\x9a\\xfaD\\x0c\\xc1\\xec\\xfaD\\x0c\\xc7\\n\\xfaD\\r\\xa5\\x1f\\xfaD\\x0e,)\\xfaD\\x0f8R\\xfaD\\x0eS\\xd7\\xfaD\\x0e\\x95\\x1f\\xfaD\\x0e\\xd7\\n\\xfaD\\x0e\\xf8\\xf6\\xfaD\\x0f\\xadq\\xfaD\\x0f\\x8e\\x14\\xfaD\\x0f\\x98R\\xfaD\\x0f\\x83\\xd7\\xfaD\\x0ey\\x9a\\xfaD\\x0es3\\xfaD\\x0fW\\n\\xfaD\\x0e\\xfdq\\xfaD\\x0fq\\xec\\xfaD\\x10mq\\xfaD\\x10e\\x1f\\xfaD\\x11\\x15\\x1f\\xfaD\\x12QH\\xfaD\\x129\\x9a\\xfaD\\x11\\xb5\\x1f\\xfaD\\x12\\x87\\xae\\xfaD\\x12X\\xf6\\xfaD\\x126f\\xf9`\\x91\\xfaD\\x11mq\\xfaD\\x11\\x03\\xd7\\xfaD\\x12\\x1dq\\xfaD\\x11\\xadq\\xfaD\\x11\\xba=\\xfaD\\x11\\xd4{\\xfaD\\x0f\\xe8R\\xfaD\\x0f\\xe33\\xf9`y\\xfaD\\x10/\\\\\\xfaD\\x13\\xfb\\x85\\xfaD\\x15)\\x9a\\xfaD\\x15\\xe8\\xf6\\xfaD\\x16\\n\\xe1\\xfaD\\x15\\xd2\\x8f\\xfaD\\x15\\xce\\xb8\\xfaD\\x15s\\xd7\\xfaD\\x13\\x8c\\xcd\\xfaD\\x13_\\\\\\xfaD\\x13\\xc2\\x8f\\xfaD\\x13\\xb2\\x8f\\xfaD\\x14\\xc7\\xae\\xfaD\\x15\\t\\x9a\\xfaD\\x167\\n\\xfaD\\x16U\\x1f\\xfaD\\x166f\\xfaD\\x16\\xd6f\\xfaD\\x17\\x14{\\xfaD\\x17\\n=\\xfaD\\x17\\xfa=\\xfaD\\x18\\x1e\\xb8\\xfaD\\x18D{\\xa4dnameclowhdatatypegFloat64lbit_settings\\x00fvalues\\x98\\xfa\\xfaC\\xe5\\xbc)\\xfaC\\xe6L\\xcd\\xfaC\\xe8\\x0f\\\\\\xf9_U\\xfaC\\xe9\\xb7\\n\\xfaC\\xea\\xf1\\xec\\xfaC\\xec9\\x9a\\xfaC\\xe9\\xe8\\xf6\\xfaC\\xeak\\x85\\xfaC\\xeb\\xd9\\x9a\\xfaC\\xec\\xfe\\xb8\\xfaC\\xedq\\xec\\xfaC\\xee!H\\xfaC\\xec\\xa6f\\xfaC\\xeb>\\xb8\\xfaC\\xea\\x15\\xc3\\xfaC\\xe9\\x86f\\xfaC\\xe97\\n\\xfaC\\xea&f\\xfaC\\xeb\\xac\\xcd\\xfaC\\xec\\xef\\\\\\xfaC\\xec!H\\xfaC\\xed\\x9dq\\xfaC\\xec\\x87\\xae\\xfaC\\xea\\xef\\\\\\xfaC\\xec5\\xc3\\xfaC\\xeeE\\x1f\\xfaC\\xf1c\\xd7\\xfaC\\xf1q\\xec\\xfaC\\xf2p\\xa4\\xfaC\\xf2\\xb1\\xec\\xfaC\\xf3E\\x1f\\xfaC\\xf3\\x95\\xc3\\xfaC\\xf5\\x0e\\x14\\xfaC\\xf1n\\x14\\xfaC\\xf1\\xe6f\\xfaC\\xf4\\xa6f\\xfaC\\xf5\\x1dq\\xfaC\\xf6\\x06f\\xfaC\\xf7\\xae\\x14\\xfaC\\xf8\\xa1H\\xfaC\\xf9>\\xb8\\xfaC\\xfa\\x1e\\xb8\\xfaC\\xf5\\\\)\\xfaC\\xf733\\xfaC\\xf9ff\\xf9_\\xcb\\xfaC\\xf79\\x9a\\xfaC\\xf6\\xc7\\xae\\xfaC\\xfb\\x82\\x8f\\xfaC\\xfd\\x8c\\xcd\\xfaC\\xfc\\xee\\x14\\xf9_\\xe3\\xfaC\\xfcz\\xe1\\xfaC\\xfc\\xac\\xcd\\xfaC\\xfeG\\xae\\xf9`\\x00\\xfaC\\xfct{\\xfaC\\xfe5\\xc3\\xfaC\\xfe\\xe7\\xae\\xfaC\\xff\\x90\\xa4\\xf9_\\xf2\\xfaC\\xffn\\x14\\xfaD\\x00\\x9f\\\\\\xfaC\\xff\\xe8\\xf6\\xfaC\\xfe\\x0f\\\\\\xfaD\\x00\\x1c)\\xfaC\\xff\\x8f\\\\\\xfaD\\x00\\xc5\\x1f\\xfaD\\x02z=\\xfaD\\x02>\\x14\\xfaD\\x01\\xe7\\n\\xfaD\\x01\\x99\\x9a\\xfaD\\x01\\xdf\\\\\\xfaD\\x02\\xb1\\xec\\xfaD\\x02>\\x14\\xfaD\\x01\\x1e\\xb8\\xfaD\\x01j\\xe1\\xfaD\\x000\\xa4\\xfaD\\x00\\x80\\xa4\\xfaD\\x01x\\xf6\\xfaD\\x00\\x96f\\xfaD\\x00\\x05\\xc3\\xfaD\\x00\\x05\\x1f\\xfaC\\xfe\\x8a=\\xfaC\\xfb\\xca=\\xfaC\\xfb\\x1a\\xe1\\xfaC\\xf9\\x8f\\\\\\xfaC\\xf9G\\xae\\xfaC\\xf6\\xee\\x14\\xfaC\\xf7\\xb7\\n\\xfaC\\xf9\\xc3\\xd7\\xfaC\\xfb\\x90\\xa4\\xfaC\\xf8\\xbe\\xb8\\xfaC\\xfc\\xd9\\x9a\\xf9_\\xed\\xfaC\\xfa\\xfdq\\xfaC\\xf9\\xef\\\\\\xfaC\\xf9\\xc6f\\xfaC\\xfeG\\xae\\xfaD\\x00S3\\xfaD\\x01\\x1c\\xcd\\xfaD\\x00\\xc8\\xf6\\xfaD\\x01-q\\xfaD\\x01\\xe5\\xc3\\xfaD\\x01\\xef\\\\\\xfaD\\x02#\\xd7\\xfaD\\x03K\\x85\\xfaD\\x04\"\\x8f\\xfaD\\x03\\xd4{\\xfaD\\x04J\\xe1\\xfaD\\x04D{\\xfaD\\x03\\xe6f\\xfaD\\x03.\\x14\\xfaD\\x03\\xb8R\\xfaD\\x03\\xc7\\n\\xfaD\\x03W\\xae\\xfaD\\x02U\\x1f\\xfaD\\x01\\x97\\n\\xfaD\\x02\\xa6f\\xfaD\\x03=q\\xfaD\\x04.\\xb8\\xfaD\\x05+\\x85\\xfaD\\x05\"\\x8f\\xfaD\\x05${\\xfaD\\x05\\x033\\xfaD\\x07\\x133\\xfaD\\x06\\xe5\\xc3\\xfaD\\x06\\xf6f\\xfaD\\x07g\\n\\xfaD\\x08\\xae\\xb8\\xfaD\\x08K\\x85\\xfaD\\x07\\xc1H\\xfaD\\x07\\xa7\\xae\\xfaD\\x07\\x9c)\\xfaD\\x07\\xc1\\xec\\xfaD\\x08\\'\\n\\xfaD\\x07\\xbc\\xcd\\xfaD\\x07\\xa1H\\xfaD\\x07\\xe9\\x9a\\xfaD\\t)\\x9a\\xfaD\\t\\xc7\\xae\\xfaD\\n\\x8c)\\xfaD\\n\\xe1H\\xfaD\\x0b1H\\xfaD\\n\\xf5\\x1f\\xfaD\\x0bI\\x9a\\xfaD\\x0b\\xe8R\\xfaD\\x0c\\x86f\\xfaD\\x0b\\'\\n\\xfaD\\t\\x9b\\x85\\xfaD\\x08\\xfa=\\xfaD\\t\\xc1H\\xfaD\\nQ\\xec\\xfaD\\x07\\x12\\x8f\\xfaD\\x06\\\\\\xcd\\xfaD\\x07_\\\\\\xfaD\\x07\\xae\\x14\\xfaD\\x06\\xa1H\\xfaD\\x08\\xe5\\x1f\\xfaD\\x06\\xdb\\x85\\xfaD\\x04&f\\xfaC\\xff\"\\x8f\\xfaD\\x01w\\xae\\xfaD\\x01\\x833\\xfaD\\x02u\\xc3\\xfaD\\x04#\\xd7\\xfaD\\x04\\xbc\\xcd\\xfaD\\x06\\x11\\xec\\xfaD\\x07\\x07\\xae\\xfaD\\t8R\\xfaD\\t\\xd0\\xa4\\xfaD\\nw\\n\\xfaD\\x0bU\\x1f\\xfaD\\n\\xae\\xb8\\xfaD\\n\\xbe\\xb8\\xfaD\\x0bR\\x8f\\xfaD\\x0b\\xc33\\xfaD\\x0b\\x94{\\xfaD\\n\\xc2\\x8f\\xfaD\\x0bK\\x85\\xfaD\\x0bH\\xf6\\xfaD\\t`\\xa4\\xfaD\\t]q\\xfaD\\x08\\xc6f\\xfaD\\x06\\xdc)\\xfaD\\x07\\xab\\x85\\xfaD\\x07\\xd8R\\xfaD\\x06\\xfdq\\xfaD\\n/\\\\\\xfaD\\x0b\\xdc\\xcd\\xfaD\\x0b\\xf9\\x9a\\xfaD\\x0c2\\x8f\\xfaD\\x0c5\\x1f\\xfaD\\x0e\\x05\\x1f\\xfaD\\rJ\\xe1\\xfaD\\x0e\\x06f\\xfaD\\r\\xe6f\\xfaD\\x0e:=\\xfaD\\x0ey\\x9a\\xfaD\\x0e\\x9a\\xe1\\xfaD\\x0e\\x05\\x1f\\xf9`l\\xfaD\\rQH\\xfaD\\r_\\\\\\xfaD\\x0e\\x06f\\xfaD\\r\\xa8R\\xfaD\\x0ea\\xec\\xfaD\\x0f#3\\xfaD\\x0f\\x9f\\\\\\xfaD\\x0f\\xfa=\\xfaD\\x11.\\xb8\\xfaD\\x10\\xa2\\x8f\\xfaD\\x10\\xbdq\\xfaD\\x11\\x8a=\\xfaD\\x11\\xa5\\x1f\\xfaD\\x11&f\\xfaD\\x11\\x18R\\xfaD\\x0f\\x9a\\xe1\\xfaD\\x10${\\xfaD\\x10\\x85\\x1f\\xfaD\\x11!H\\xfaD\\x10\\x9b\\x85\\xfaD\\x10\\xd2\\x8f\\xfaD\\x0e\\x1c)\\xfaD\\x0e\\xa7\\xae\\xfaD\\r\\xf8\\xf6\\xfaD\\x0e\\xa1H\\xfaD\\x12X\\xf6\\xf9`\\xa2\\xfaD\\x15\\n\\xe1\\xf9`\\xaa\\xfaD\\x14\\x97\\xae\\xfaD\\x14\\xbdq\\xfaD\\x14)\\x9a\\xfaD\\x11\\xf7\\n\\xfaD\\x12U\\xc3\\xfaD\\x12\\x01\\xec\\xfaD\\x12(R\\xfaD\\x12\\xdc\\xcd\\xfaD\\x14I\\x9a\\xfaD\\x14\\xcc\\xcd\\xfaD\\x15\\x84{\\xfaD\\x15Q\\xec\\xfaD\\x15\\xd8R\\xfaD\\x16\\x9e\\x14\\xfaD\\x16\\x95\\xc3\\xfaD\\x17<\\xcd\\xfaD\\x17\\x933\\xfaD\\x17\\xc1H\\xa4dnameeclosehdatatypegFloat64lbit_settings\\x00fvalues\\x98\\xfa\\xfaC\\xe6\\xfe\\xb8\\xfaC\\xe8\\x0c\\xcd\\xf9_Z\\xfaC\\xec\\x01H\\xfaC\\xea\\xaa=\\xfaC\\xeb\\xfc)\\xfaC\\xedk\\x85\\xfaC\\xea!H\\xfaC\\xecY\\x9a\\xfaC\\xec\\xd33\\xfaC\\xed\\xd33\\xfaC\\xeeAH\\xfaC\\xeeXR\\xfaC\\xed\\xa7\\xae\\xfaC\\xecS3\\xfaC\\xeae\\x1f\\xfaC\\xe9\\xa3\\xd7\\xfaC\\xe9\\xf5\\xc3\\xfaC\\xedL\\xcd\\xfaC\\xec\\xf0\\xa4\\xfaC\\xeeG\\xae\\xfaC\\xee,\\xcd\\xfaC\\xeeW\\n\\xfaC\\xedw\\n\\xfaC\\xec%\\x1f\\xfaC\\xee>\\xb8\\xfaC\\xf17\\n\\xfaC\\xf1\\xb9\\x9a\\xfaC\\xf2n\\x14\\xfaC\\xf2\\xb1\\xec\\xfaC\\xf4\\x03\\xd7\\xfaC\\xf3\\xb4{\\xfaC\\xf5\\xa2\\x8f\\xfaC\\xf5q\\xec\\xfaC\\xf1p\\xa4\\xfaC\\xf4\\x99\\x9a\\xfaC\\xf7,\\xcd\\xfaC\\xf6Ff\\xfaC\\xf6\\xfdq\\xfaC\\xf9\\x0c\\xcd\\xfaC\\xf9(\\xf6\\xfaC\\xfa\\x99\\x9a\\xfaC\\xfa}q\\xfaC\\xf7\\n=\\xfaC\\xf9H\\xf6\\xfaC\\xfb\\x01H\\xfaC\\xf9\\xc1H\\xfaC\\xf8aH\\xfaC\\xf8\\x9a\\xe1\\xf9_\\xee\\xfaC\\xfd\\xec\\xcd\\xfaC\\xfc\\xfe\\xb8\\xfaC\\xfdw\\n\\xfaC\\xfd!H\\xfaC\\xfe\\n=\\xfaD\\x006f\\xfaD\\x00\\x133\\xfaC\\xfd\\x97\\n\\xf9_\\xf7\\xfaD\\x00\\xb3\\xd7\\xfaC\\xff\\xdc)\\xfaC\\xff\\xa3\\xd7\\xfaD\\x011\\xec\\xfaD\\x00\\xfe\\x14\\xfaD\\x00\\xbc\\xcd\\xfaC\\xfe\\xea=\\xfaD\\x007\\n\\xfaD\\x00\\xedq\\xfaD\\x02\\x1e\\xb8\\xfaD\\x02\\x8c\\xcd\\xfaD\\x02Mq\\xfaD\\x01\\xf1H\\xfaD\\x01\\xb3\\xd7\\xfaD\\x02\\xca\\xe1\\xfaD\\x02\\xc4{\\xfaD\\x02\\x8a=\\xfaD\\x01\\xb5\\xc3\\xfaD\\x01\\xda=\\xfaD\\x00D{\\xfaD\\x01\\x9b\\x85\\xfaD\\x01\\xae\\x14\\xfaD\\x01\\xd4{\\xfaD\\x00\\x87\\xae\\xf9`\\x0c\\xfaC\\xffl\\xcd\\xfaC\\xfc9\\x9a\\xfaC\\xfb\\xc3\\xd7\\xfaC\\xfaFf\\xfaC\\xf9\\xc2\\x8f\\xfaC\\xf7\\x94{\\xfaC\\xf9\\xdc)\\xfaC\\xfc\\xd33\\xfaC\\xfc\\xb4{\\xfaC\\xfb\\xbe\\xb8\\xfaC\\xfe!H\\xfaC\\xff\\x07\\xae\\xfaC\\xfa\\xfdq\\xfaC\\xfa,\\xcd\\xfaC\\xfc\\x83\\xd7\\xfaC\\xff\\xa5\\x1f\\xfaD\\x01${\\xfaD\\x01H\\xf6\\xfaD\\x01L)\\xfaD\\x02\\n\\xe1\\xfaD\\x025\\xc3\\xfaD\\x02:=\\xfaD\\x02\\xd33\\xfaD\\x04q\\xec\\xfaD\\x04,)\\xfaD\\x04\\\\\\xcd\\xfaD\\x04\\x83\\xd7\\xfaD\\x04\\xd7\\n\\xfaD\\x04u\\x1f\\xfaD\\x03}q\\xfaD\\x04\\\\)\\xfaD\\x04s\\xd7\\xfaD\\x03\\x86f\\xfaD\\x02\\xa7\\n\\xfaD\\x03\\xd7\\xae\\xfaD\\x03\\xf33\\xfaD\\x04\\x18\\xf6\\xfaD\\x05\\xaa\\xe1\\xfaD\\x05\\xaa=\\xfaD\\x05\\x80\\xa4\\xfaD\\x05\\xea=\\xfaD\\x06<\\xcd\\xfaD\\x07W\\n\\xfaD\\x07\\x9c\\xcd\\xfaD\\x07\\xb1\\xec\\xfaD\\x08\\xc6f\\xfaD\\t\\x1f\\\\\\xf9`F\\xfaD\\x08 \\xa4\\xfaD\\x07\\xaf\\\\\\xfaD\\x085\\x1f\\xfaD\\x08`\\xa4\\xfaD\\x08\\x97\\xae\\xfaD\\x08\\x0e\\x14\\xfaD\\x08U\\xc3\\xfaD\\t@\\xa4\\xfaD\\t\\xddq\\xfaD\\n\\xa8\\xf6\\xfaD\\n\\xd1\\xec\\xfaD\\n\\xf4{\\xfaD\\x0cT{\\xfaD\\x0b\\x1e\\xb8\\xfaD\\x0b\\xff\\\\\\xfaD\\x0ca\\xec\\xfaD\\r7\\n\\xfaD\\x0b<)\\xfaD\\n*=\\xfaD\\t?\\\\\\xfaD\\n\\xa9\\x9a\\xfaD\\nq\\xec\\xfaD\\x07N\\xb8\\xfaD\\x06\\x9a=\\xfaD\\x08\\x1c)\\xfaD\\x080\\xa4\\xf9`<\\xfaD\\t\\xb3\\xd7\\xfaD\\x07\\xc0\\xa4\\xfaD\\x059\\x9a\\xfaD\\x01XR\\xfaD\\x02\\x89\\x9a\\xfaD\\x01\\xaa=\\xfaD\\x04\\xa9\\x9a\\xfaD\\x05?\\\\\\xfaD\\x05QH\\xfaD\\x07\\x82\\x8f\\xfaD\\x07\\xf0\\x00\\xfaD\\nD{\\xfaD\\n\\x93\\xd7\\xfaD\\x0b\\xe7\\n\\xfaD\\x0b\\xac\\xcd\\xfaD\\x0c\\'\\xae\\xfaD\\x0b\\x0e\\x14\\xfaD\\x0c\\x88R\\xfaD\\x0c2\\x8f\\xfaD\\x0cc\\xd7\\xfaD\\x0b\\x933\\xfaD\\x0b\\x96f\\xfaD\\x0c\\xeb\\x85\\xfaD\\n\\x05\\x1f\\xfaD\\t\\xbc\\xcd\\xfaD\\tg\\n\\xfaD\\x07\\x17\\n\\xfaD\\x08\\x9a=\\xfaD\\t2\\x8f\\xfaD\\n\\x9a\\xe1\\xfaD\\x0b\\xc5\\xc3\\xfaD\\x0c\\x80\\xa4\\xfaD\\x0c\\xb5\\xc3\\xfaD\\x0c\\xc4{\\xfaD\\x0cY\\x9a\\xfaD\\x0e\\xbe\\xb8\\xfaD\\x0e\\x10\\x00\\xfaD\\x0ej\\xe1\\xfaD\\x0e\\xd33\\xfaD\\x0e\\x82\\x8f\\xfaD\\x0f\\x133\\xfaD\\x0e\\xde\\x14\\xfaD\\x0fp\\xa4\\xfaD\\x0e\\'\\xae\\xfaD\\x0e7\\n\\xfaD\\r\\xf4{\\xfaD\\x0f>\\xb8\\xfaD\\r\\xf33\\xfaD\\x0fJ\\xe1\\xfaD\\x10H\\xf6\\xfaD\\x10\\x08R\\xfaD\\x10\\xe5\\x1f\\xfaD\\x12\\x14{\\xfaD\\x10\\xf1\\xec\\xfaD\\x11\\x933\\xfaD\\x11\\x96f\\xfaD\\x12%\\xc3\\xfaD\\x11\\xe8R\\xfaD\\x11\\xd4{\\xfaD\\x10\\x7f\\\\\\xfaD\\x10\\xcf\\\\\\xfaD\\x10\\xc2\\x8f\\xfaD\\x115\\x1f\\xfaD\\x11qH\\xfaD\\x11\\x00\\xa4\\xfaD\\x0e(\\xf6\\xfaD\\x0e\\xc2\\x8f\\xfaD\\x0es\\xd7\\xfaD\\x10,\\xcd\\xfaD\\x13\\xc2\\x8f\\xfaD\\x14\\xe7\\n\\xfaD\\x15\\x8c)\\xfaD\\x15\\xb0\\xa4\\xfaD\\x159\\x9a\\xfaD\\x15L)\\xfaD\\x14Vf\\xfaD\\x12p\\x00\\xfaD\\x13\\t\\x9a\\xfaD\\x13\\x933\\xf9`\\x9d\\xfaD\\x14j\\xe1\\xfaD\\x14\\xe0\\xa4\\xfaD\\x15a\\xec\\xfaD\\x16)\\x9a\\xfaD\\x15\\xb5\\x1f\\xfaD\\x16\\xa33\\xfaD\\x16\\xe8R\\xfaD\\x16\\xfa=\\xfaD\\x17\\xea=\\xfaD\\x17\\xaa=\\xfaD\\x17\\xf3\\xd7\\xa4dnamefvolumehdatatypeeInt64lbit_settings\\x00fvalues\\x98\\xfa\\x1a\\x03\\xdf\\xda\\xd8\\x1a\\x04\\x12\\x98\\xb0\\x1a\\x05\\x8fO0\\x1a\\x07\\x181P\\x1a\\x08l\\\\\\x84\\x1a\\x041\\xd7\\x84\\x1a\\x03R\\xdb\\x88\\x1a\\x06\"s(\\x1a\\x05*p\\xec\\x1a\\x04\\x00EH\\x1a\\x03M#x\\x1a\\x04\\r\\x9a,\\x1a\\x04\\x99V\\xd4\\x1a\\x07I$\\xf4\\x1a\\x07^Y\\x14\\x1a\\x06,\\x98l\\x1a\\x05\\x05H\\x08\\x1a\\x05!/\\x00\\x1a\\x04v\\x90|\\x1a\\x03\\xee\\x08\\x88\\x1a\\x04\\x03\\x14\\x08\\x1a\\x04\\xa5G\\xdc\\x1a\\x03t\\'\\xc0\\x1a\\x05\\x119t\\x1a\\x04\\x1ay|\\x1a\\x05y\\x9dH\\x1a\\x06\\x99\\xa7\\xf4\\x1a\\x04\\x85M$\\x1a\\x02\\xfa\\x1a\\xd4\\x1a\\x04\\xdf\\xa2\\x88\\x1a\\x04R\\xa4\\xc8\\x1a\\x04\\x91u@\\x1a\\x03\\xa7\\xb60\\x1a\\x03~r \\x1a\\x07\\x82\\xc6\\xdc\\x1a\\x05z\\'\\x90\\x1a\\x05\\xe8\\xdf\\xb4\\x1a\\x04\\x83\\xf6,\\x1a\\x03U@\\x08\\x1a\\x044\\x9bT\\x1a\\x03\\x1e\\xb30\\x1a\\x03\\xd0?\\x88\\x1a\\x03^(\\x1c\\x1a\\x06\\xbd\\xc1\\xc0\\x1a\\x04\\x13\\x83\\xd8\\x1a\\x03\\xad58\\x1a\\x04\\x7frP\\x1a\\x04F\\x9d|\\x1a\\x03\\x8d{X\\x1a\\x04\\x8d\\xcfD\\x1a\\x03\\xa7\\xb2H\\x1a\\x03\\x00\\xd7\\x0c\\x1a\\x02\\xe9u\\xe4\\x1a\\x03^8\\xe8\\x1a\\x05\\x00\\x97@\\x1a\\x04\\x93\\xf7\\x0c\\x1a\\x02\\xf7\\xe0\\x84\\x1a\\x04W\\xb00\\x1a\\x04\\x13n\\xc0\\x1a\\x03~\\xf5\\xc4\\x1a\\x05&\\xbf\\x9c\\x1a\\x03\\xba\\x8c\\x10\\x1a\\x04[\\xa3 \\x1a\\x03H\\xd2d\\x1a\\x06\\x91\\x16\\x98\\x1a\\x06i\\xa1\\x08\\x1a\\x05Lgt\\x1a\\x03\\x9f\\rd\\x1a\\x04%\\xed\\xe8\\x1a\\x03\\x97od\\x1a\\x04\\xb5\\xcb\\x98\\x1a\\x02\\xe4<d\\x1a\\x03\\xe6\\xe5\\x94\\x1a\\x04\\xf2y\\xf8\\x1a\\x05\\xbdW\\xf4\\x1a\\x03\\xb9T\\xbc\\x1a\\x04l\\xaa\\x1c\\x1a\\x03\\x86\\xa5X\\x1a\\x05\\xc5\\xef\\xf4\\x1a\\x04p\\x81\\xb4\\x1a\\x02\\xe2\\x8d\\x88\\x1a\\x04\\x0f~\\xf0\\x1a\\x04\\xed.\\x80\\x1a\\x04-\\xa08\\x1a\\x05\\x82\\xf7l\\x1a\\x05}[\\x18\\x1a\\x04aF\\xe0\\x1a\\x04\\x86L\\x9c\\x1a\\x04q\\x83\\x84\\x1a\\x06\\x16]\\xcc\\x1a\\x04\\r\\x00\\xa8\\x1a\\x03\\xda;\\x00\\x1a\\x03Ue$\\x1a\\x04\\x1e\\xb9`\\x1a\\x03\\xd5;\\xb4\\x1a\\x02\\xc4>(\\x1a\\x04\\x9eNP\\x1a\\x04\\xc8hp\\x1a\\x03\\xbap\\xb8\\x1a\\x04V-\\xdc\\x1a\\x02\\xd13\\xbc\\x1a\\x03\"\\x05\\x94\\x1a\\x02\\x81\\x96\\xe0\\x1a\\x02\\x99\\xf34\\x1a\\x03\\x1d\\x03\\xf0\\x1a\\x020?p\\x1a\\x03m\\xed\\x9c\\x1a\\x03\\x8b\\xf9\\x04\\x1a\\x02\\xfe\\xac\\xc0\\x1a\\x03\\x87!\\x90\\x1a\\x02@<h\\x1a\\x01\\xfe5H\\x1a\\x02\\xe2_p\\x1a\\x03h\\xf9@\\x1a\\x02u\\x8d\\xa0\\x1a\\x02)n \\x1a\\x02\\xb1\\x8c\\x9c\\x1a\\x02\\xc5\\r\\x94\\x1a\\x05iH\\x08\\x1a\\x02\\xca\\xa7\\xf4\\x1a\\x02\\x10s\\xfc\\x1a\\x02\\xd6z \\x1a\\x01\\xd6\\x19\\xb4\\x1a\\x02\\x93\\x8d\\xb4\\x1a\\x02!/\\x94\\x1a\\x02+*\\xa8\\x1a\\x03\\xc5#d\\x1a\\x02\\xaa\\xffD\\x1a\\x02c\\xb9,\\x1a\\x03T\\x0b\\x0c\\x1a\\x02wZ\\x90\\x1a\\x041\\x1f\\x88\\x1a\\x03\\xd8gl\\x1a\\x02\\xb6\\xb6|\\x1a\\x02H\\x01\\x14\\x1a\\x02L<H\\x1a\\x02\\x16\\xb0\\xdc\\x1a\\x04\\x89\\xdft\\x1a\\x02f\\xe5H\\x1a\\x02h\\xfcp\\x1a\\x01\\xf4U\\x8c\\x1a\\x02y\\x10\\x10\\x1a\\x02\\'\\x00\\xa4\\x1a\\x01\\xa0hd\\x1a\\x02N\\x88\\x90\\x1a\\x03)\\x8a\\xf8\\x1a\\x03*\\x00\\xf0\\x1a\\x02kDl\\x1a\\x02,\\x91\\xa4\\x1a\\x03g\\x91\\x18\\x1a\\x03Z\\x9e@\\x1a\\x03\\xe7\\x96\\xec\\x1a\\x02\\x95k\\x0c\\x1a\\x02\\r\\x81\\xb0\\x1a\\x04q\\x03d\\x1a\\x03\\xa53\\x9c\\x1a\\x034^\\xd8\\x1a\\x02Z\\xf6\\x98\\x1a\\x02\\xca\\xed\\xe0\\x1a\\x03\\xe9\\xf1\\xa8\\x1a\\x04\\x8e5\\x9c\\x1a\\x04\\xefB\\xec\\x1a\\x08\\xb7\\xdd\\x08\\x1a\\x05\\x0eX\\xbc\\x1a\\x046\\xc5<\\x1a\\x03\\xc5\\x868\\x1a\\x02\\xb8\\x19\\x90\\x1a\\x02\\x89$\\x14\\x1a\\x03\\x1e\\x8a,\\x1a\\x02\\x87\\xb04\\x1a\\x03\\xa0r\\xd0\\x1a\\x02\\xa5\\xf5l\\x1a\\x02T\\xf3\\x88\\x1a\\x02\\x02\\xb6\\xcc\\x1a\\x02yvh\\x1a\\x03XX\\x9c\\x1a\\x03\\x04\\xb2(\\x1a\\x02\"\\x178\\x1a\\x01\\xf2\\xde\\x8c\\x1a\\x02r\\x9e\\x10\\x1a\\x02N\\xbf@\\x1a\\x03\\xbc\\xbaD\\x1a\\x03\\x9c\\xaf$\\x1a\\x02\\xd0\\x98D\\x1a\\x02\\xa3kl\\x1a\\x04\\x15!\\xe8\\x1a\\x02i\\'h\\x1a\\x02+Vh\\x1a\\x04|3\\xd8\\x1a\\x03\\x17\\xd1\\xdc\\x1a\\x02W\\xd4\\xa4\\x1a\\x02/S\\xe4\\x1a\\x02\\xf0\\x94(\\x1a\\x03\\x84\\xf4$\\x1a\\x04}9,\\x1a\\x04\\x9e\\x9a|\\x1a\\x02\\xa1+\\xa4\\x1a\\x02\\xca2\\xc4\\x1a\\x02J_\\xb8\\x1a\\x02\\xe1\\x8c\\x80\\x1a\\x02\\x82h\\xa4\\x1a\\x03\\xc9\\xcf\\x18\\x1a\\x04T\\xd6\\x80\\x1a\\x02ES\\x88\\x1a\\x02oD\\xa4\\x1a\\x02\\x8f2\\xdc\\x1a\\x02\\xfaf\\x9c\\x1a\\x02:\\xa8\\xac\\x1a\\x02B~\\x88\\x1a\\x02\\xa1~t\\x1a\\x02\\x84\\xf5`\\x1a\\x02(\\xa1p\\x1a\\x03;\\x14\\xd0\\x1a\\x01\\xd4\\xd5\\x18\\x1a\\x02\\x0c\\xced\\x1a\\x02:\\xef`\\x1a\\x02,\\x03\\xd8\\x1a\\x02\\t\\x9ax\\x1a\\x02\\xf0{(\\x1a\\x02\\x15\\xc0<\\x1a\\x02\\xd1Ah\\x1a\\x01\\xccm\\xec\\x1a\\x02\\x8e\\x98\\xf4\\x1a\\x02xB\\x98\\x1a\\x03\\x96O\\xe4\\x1a\\x02\\xb8\\xd4\\xac\\x1a\\x02G%(\\x1a\\x02Zd\\x1c\\x1a\\x04\\x10_\\xf0\\x1a\\x02\\xd0\\xb8\\xb0\\x1a\\x02\\xc4\\xb1d\\x1a\\x02=\\x87p\\x1a\\x02\\x908\\x94\\x1a\\x02\\xd3\\x17\\xb8\\x1a\\x02Q\\xa1$\\x1a\\x04\\x87\\x7f@\\x1a\\x025\\xdb\\xc4\\x1a\\x02\\xf1\\xf7\\xa0\\x1a\\x02\\xfbo\\xd8\\x1a\\x02\\xc9Z\\\\\\x1a\\x02GI\\xe0\\x1a\\x02\\x87\\x9a\\xb8\\x1a\\x02\\xb8 4\\x1a\\x02\\x06\\xcdH\\x1a\\x01\\xccxx\\x1a\\x01\\xe4g\\xd0\\x1a\\x01\\x9a\\x8f\\xe8\\x1a\\x02\\x8c\\xe3\\x10\\x1a\\x01\\xb6\\xe0X\\x1a\\x01\\xdb\\xecT\\xa4dnamehdividendhdatatypegFloat64lbit_settings\\x00fvalues\\x98\\xfa\\xf9\\x00\\x00\\xf9\\x00\\x00\\xf9\\x00\\x00\\xf9\\x00\\x00\\xfb?\\xfe~\\xf9\\xdb\"\\xd0\\xe5\\xf9\\x00\\x00\\xf9\\x00\\x00\\xf9\\x00\\x00\\xf9\\x00\\x00\\xf9\\x00\\x00\\xf9\\x00\\x00\\xf9\\x00\\x00\\xf9\\x00\\x00\\xf9\\x00\\x00\\xf9\\x00\\x00\\xf9\\x00\\x00\\xf9\\x00\\x00\\xf9\\x00\\x00\\xf9\\x00\\x00\\xf9\\x00\\x00\\xf9\\x00\\x00\\xf9\\x00\\x00\\xf9\\x00\\x00\\xf9\\x00\\x00\\xf9\\x00\\x00\\xf9\\x00\\x00\\xf9\\x00\\x00\\xf9\\x00\\x00\\xf9\\x00\\x00\\xf9\\x00\\x00\\xf9\\x00\\x00\\xf9\\x00\\x00\\xf9\\x00\\x00\\xf9\\x00\\x00\\xf9\\x00\\x00\\xf9\\x00\\x00\\xf9\\x00\\x00\\xf9\\x00\\x00\\xf9\\x00\\x00\\xf9\\x00\\x00\\xf9\\x00\\x00\\xf9\\x00\\x00\\xf9\\x00\\x00\\xf9\\x00\\x00\\xf9\\x00\\x00\\xf9\\x00\\x00\\xf9\\x00\\x00\\xf9\\x00\\x00\\xf9\\x00\\x00\\xf9\\x00\\x00\\xf9\\x00\\x00\\xf9\\x00\\x00\\xf9\\x00\\x00\\xf9\\x00\\x00\\xf9\\x00\\x00\\xf9\\x00\\x00\\xf9\\x00\\x00\\xf9\\x00\\x00\\xf9\\x00\\x00\\xf9\\x00\\x00\\xf9\\x00\\x00\\xf9\\x00\\x00\\xf9\\x00\\x00\\xf9\\x00\\x00\\xf9\\x00\\x00\\xfb?\\xf9\\x85\\x1e\\xb8Q\\xeb\\x85\\xf9\\x00\\x00\\xf9\\x00\\x00\\xf9\\x00\\x00\\xf9\\x00\\x00\\xf9\\x00\\x00\\xf9\\x00\\x00\\xf9\\x00\\x00\\xf9\\x00\\x00\\xf9\\x00\\x00\\xf9\\x00\\x00\\xf9\\x00\\x00\\xf9\\x00\\x00\\xf9\\x00\\x00\\xf9\\x00\\x00\\xf9\\x00\\x00\\xf9\\x00\\x00\\xf9\\x00\\x00\\xf9\\x00\\x00\\xf9\\x00\\x00\\xf9\\x00\\x00\\xf9\\x00\\x00\\xf9\\x00\\x00\\xf9\\x00\\x00\\xf9\\x00\\x00\\xf9\\x00\\x00\\xf9\\x00\\x00\\xf9\\x00\\x00\\xf9\\x00\\x00\\xf9\\x00\\x00\\xf9\\x00\\x00\\xf9\\x00\\x00\\xf9\\x00\\x00\\xf9\\x00\\x00\\xf9\\x00\\x00\\xf9\\x00\\x00\\xf9\\x00\\x00\\xf9\\x00\\x00\\xf9\\x00\\x00\\xf9\\x00\\x00\\xf9\\x00\\x00\\xf9\\x00\\x00\\xf9\\x00\\x00\\xf9\\x00\\x00\\xf9\\x00\\x00\\xf9\\x00\\x00\\xf9\\x00\\x00\\xf9\\x00\\x00\\xf9\\x00\\x00\\xf9\\x00\\x00\\xf9\\x00\\x00\\xf9\\x00\\x00\\xf9\\x00\\x00\\xf9\\x00\\x00\\xf9\\x00\\x00\\xf9\\x00\\x00\\xf9\\x00\\x00\\xf9\\x00\\x00\\xf9\\x00\\x00\\xf9\\x00\\x00\\xf9\\x00\\x00\\xf9\\x00\\x00\\xf9\\x00\\x00\\xf9\\x00\\x00\\xf9\\x00\\x00\\xf9\\x00\\x00\\xf9\\x00\\x00\\xfb?\\xfc$\\xdd/\\x1a\\x9f\\xbe\\xf9\\x00\\x00\\xf9\\x00\\x00\\xf9\\x00\\x00\\xf9\\x00\\x00\\xf9\\x00\\x00\\xf9\\x00\\x00\\xf9\\x00\\x00\\xf9\\x00\\x00\\xf9\\x00\\x00\\xf9\\x00\\x00\\xf9\\x00\\x00\\xf9\\x00\\x00\\xf9\\x00\\x00\\xf9\\x00\\x00\\xf9\\x00\\x00\\xf9\\x00\\x00\\xf9\\x00\\x00\\xf9\\x00\\x00\\xf9\\x00\\x00\\xf9\\x00\\x00\\xf9\\x00\\x00\\xf9\\x00\\x00\\xf9\\x00\\x00\\xf9\\x00\\x00\\xf9\\x00\\x00\\xf9\\x00\\x00\\xf9\\x00\\x00\\xf9\\x00\\x00\\xf9\\x00\\x00\\xf9\\x00\\x00\\xf9\\x00\\x00\\xf9\\x00\\x00\\xf9\\x00\\x00\\xf9\\x00\\x00\\xf9\\x00\\x00\\xf9\\x00\\x00\\xf9\\x00\\x00\\xf9\\x00\\x00\\xf9\\x00\\x00\\xf9\\x00\\x00\\xf9\\x00\\x00\\xf9\\x00\\x00\\xf9\\x00\\x00\\xf9\\x00\\x00\\xf9\\x00\\x00\\xf9\\x00\\x00\\xf9\\x00\\x00\\xf9\\x00\\x00\\xf9\\x00\\x00\\xf9\\x00\\x00\\xf9\\x00\\x00\\xf9\\x00\\x00\\xf9\\x00\\x00\\xf9\\x00\\x00\\xf9\\x00\\x00\\xf9\\x00\\x00\\xf9\\x00\\x00\\xf9\\x00\\x00\\xf9\\x00\\x00\\xf9\\x00\\x00\\xf9\\x00\\x00\\xf9\\x00\\x00\\xfb?\\xfb\\xef\\x9d\\xb2-\\x0eV\\xf9\\x00\\x00\\xf9\\x00\\x00\\xf9\\x00\\x00\\xf9\\x00\\x00\\xf9\\x00\\x00\\xf9\\x00\\x00\\xf9\\x00\\x00\\xf9\\x00\\x00\\xf9\\x00\\x00\\xf9\\x00\\x00\\xf9\\x00\\x00\\xf9\\x00\\x00\\xf9\\x00\\x00\\xf9\\x00\\x00\\xf9\\x00\\x00\\xf9\\x00\\x00\\xf9\\x00\\x00\\xf9\\x00\\x00\\xf9\\x00\\x00\\xf9\\x00\\x00\\xf9\\x00\\x00\\xf9\\x00\\x00\\xf9\\x00\\x00\\xf9\\x00\\x00\\xf9\\x00\\x00\\xf9\\x00\\x00\\xf9\\x00\\x00\\xf9\\x00\\x00\\xf9\\x00\\x00\\xf9\\x00\\x00\\xf9\\x00\\x00\\xf9\\x00\\x00\\xf9\\x00\\x00\\xf9\\x00\\x00\\xf9\\x00\\x00\\xf9\\x00\\x00\\xf9\\x00\\x00\\xf9\\x00\\x00\\xf9\\x00\\x00\\xf9\\x00\\x00\\xf9\\x00\\x00\\xf9\\x00\\x00\\xf9\\x00\\x00\\xf9\\x00\\x00\\xf9\\x00\\x00\\xf9\\x00\\x00\\xf9\\x00\\x00\\xf9\\x00\\x00\\xf9\\x00\\x00\\xf9\\x00\\x00\\xf9\\x00\\x00\\xf9\\x00\\x00\\xf9\\x00\\x00\\xf9\\x00\\x00fschema\\xa1ffields\\xa7ddatedDatedopengFloat64dhighgFloat64clowgFloat64eclosegFloat64fvolumeeInt64hdividendgFloat64eexprs\\x81\\xa1eAlias\\x82\\xa1gLiteral\\xa1fStringcSPYfsymbolgoptions\\xa3lrun_parallel\\xf5oduplicate_check\\xf5pshould_broadcast\\xf5'"
      ]
     },
     "execution_count": 3,
     "metadata": {},
     "output_type": "execute_result"
    }
   ],
   "source": [
    "result.equity_data"
   ]
  },
  {
   "cell_type": "code",
   "execution_count": 4,
   "metadata": {},
   "outputs": [
    {
     "data": {
      "text/html": [
       "<div><style>\n",
       ".dataframe > thead > tr,\n",
       ".dataframe > tbody > tr {\n",
       "  text-align: right;\n",
       "  white-space: pre-wrap;\n",
       "}\n",
       "</style>\n",
       "<small>shape: (250, 8)</small><table border=\"1\" class=\"dataframe\"><thead><tr><th>date</th><th>open</th><th>high</th><th>low</th><th>close</th><th>volume</th><th>dividend</th><th>symbol</th></tr><tr><td>date</td><td>f64</td><td>f64</td><td>f64</td><td>f64</td><td>i64</td><td>f64</td><td>str</td></tr></thead><tbody><tr><td>2023-12-11</td><td>459.690002</td><td>462.170013</td><td>459.470001</td><td>461.98999</td><td>65002200</td><td>0.0</td><td>&quot;SPY&quot;</td></tr><tr><td>2023-12-12</td><td>461.630005</td><td>464.200012</td><td>460.600006</td><td>464.100006</td><td>68327600</td><td>0.0</td><td>&quot;SPY&quot;</td></tr><tr><td>2023-12-13</td><td>464.48999</td><td>470.76001</td><td>464.119995</td><td>470.5</td><td>93278000</td><td>0.0</td><td>&quot;SPY&quot;</td></tr><tr><td>2023-12-14</td><td>472.5</td><td>473.730011</td><td>469.25</td><td>472.01001</td><td>119026000</td><td>0.0</td><td>&quot;SPY&quot;</td></tr><tr><td>2023-12-15</td><td>469.48999</td><td>470.700012</td><td>467.429993</td><td>469.329987</td><td>141319300</td><td>1.906</td><td>&quot;SPY&quot;</td></tr><tr><td>&hellip;</td><td>&hellip;</td><td>&hellip;</td><td>&hellip;</td><td>&hellip;</td><td>&hellip;</td><td>&hellip;</td><td>&hellip;</td></tr><tr><td>2024-12-02</td><td>602.969971</td><td>604.320007</td><td>602.469971</td><td>603.630005</td><td>31746000</td><td>0.0</td><td>&quot;SPY&quot;</td></tr><tr><td>2024-12-03</td><td>603.390015</td><td>604.159973</td><td>602.340027</td><td>603.909973</td><td>26906600</td><td>0.0</td><td>&quot;SPY&quot;</td></tr><tr><td>2024-12-04</td><td>605.630005</td><td>607.909973</td><td>604.950012</td><td>607.659973</td><td>42787600</td><td>0.0</td><td>&quot;SPY&quot;</td></tr><tr><td>2024-12-05</td><td>607.659973</td><td>608.47998</td><td>606.299988</td><td>606.659973</td><td>28762200</td><td>0.0</td><td>&quot;SPY&quot;</td></tr><tr><td>2024-12-06</td><td>607.440002</td><td>609.070007</td><td>607.02002</td><td>607.809998</td><td>31190100</td><td>0.0</td><td>&quot;SPY&quot;</td></tr></tbody></table></div>"
      ],
      "text/plain": [
       "shape: (250, 8)\n",
       "┌────────────┬────────────┬────────────┬────────────┬────────────┬───────────┬──────────┬────────┐\n",
       "│ date       ┆ open       ┆ high       ┆ low        ┆ close      ┆ volume    ┆ dividend ┆ symbol │\n",
       "│ ---        ┆ ---        ┆ ---        ┆ ---        ┆ ---        ┆ ---       ┆ ---      ┆ ---    │\n",
       "│ date       ┆ f64        ┆ f64        ┆ f64        ┆ f64        ┆ i64       ┆ f64      ┆ str    │\n",
       "╞════════════╪════════════╪════════════╪════════════╪════════════╪═══════════╪══════════╪════════╡\n",
       "│ 2023-12-11 ┆ 459.690002 ┆ 462.170013 ┆ 459.470001 ┆ 461.98999  ┆ 65002200  ┆ 0.0      ┆ SPY    │\n",
       "│ 2023-12-12 ┆ 461.630005 ┆ 464.200012 ┆ 460.600006 ┆ 464.100006 ┆ 68327600  ┆ 0.0      ┆ SPY    │\n",
       "│ 2023-12-13 ┆ 464.48999  ┆ 470.76001  ┆ 464.119995 ┆ 470.5      ┆ 93278000  ┆ 0.0      ┆ SPY    │\n",
       "│ 2023-12-14 ┆ 472.5      ┆ 473.730011 ┆ 469.25     ┆ 472.01001  ┆ 119026000 ┆ 0.0      ┆ SPY    │\n",
       "│ 2023-12-15 ┆ 469.48999  ┆ 470.700012 ┆ 467.429993 ┆ 469.329987 ┆ 141319300 ┆ 1.906    ┆ SPY    │\n",
       "│ …          ┆ …          ┆ …          ┆ …          ┆ …          ┆ …         ┆ …        ┆ …      │\n",
       "│ 2024-12-02 ┆ 602.969971 ┆ 604.320007 ┆ 602.469971 ┆ 603.630005 ┆ 31746000  ┆ 0.0      ┆ SPY    │\n",
       "│ 2024-12-03 ┆ 603.390015 ┆ 604.159973 ┆ 602.340027 ┆ 603.909973 ┆ 26906600  ┆ 0.0      ┆ SPY    │\n",
       "│ 2024-12-04 ┆ 605.630005 ┆ 607.909973 ┆ 604.950012 ┆ 607.659973 ┆ 42787600  ┆ 0.0      ┆ SPY    │\n",
       "│ 2024-12-05 ┆ 607.659973 ┆ 608.47998  ┆ 606.299988 ┆ 606.659973 ┆ 28762200  ┆ 0.0      ┆ SPY    │\n",
       "│ 2024-12-06 ┆ 607.440002 ┆ 609.070007 ┆ 607.02002  ┆ 607.809998 ┆ 31190100  ┆ 0.0      ┆ SPY    │\n",
       "└────────────┴────────────┴────────────┴────────────┴────────────┴───────────┴──────────┴────────┘"
      ]
     },
     "execution_count": 4,
     "metadata": {},
     "output_type": "execute_result"
    }
   ],
   "source": [
    "result.to_polars(equity_data=True)"
   ]
  },
  {
   "cell_type": "code",
   "execution_count": 8,
   "metadata": {},
   "outputs": [
    {
     "data": {
      "text/plain": [
       "[HumblDataWarning(category='ToolboxQueryParams', message='Start date adjusted to 2023-12-10 based on anonymous membership (1Y of data).')]"
      ]
     },
     "execution_count": 8,
     "metadata": {},
     "output_type": "execute_result"
    }
   ],
   "source": [
    "result.warnings"
   ]
  },
  {
   "cell_type": "code",
   "execution_count": 9,
   "metadata": {},
   "outputs": [
    {
     "data": {
      "text/plain": [
       "MandelbrotChannelQueryParams(window=1mo, rv_adjustment=True, rv_method=std, rs_method=RS, rv_grouped_mean=False, live_price=True, historical=False, chart=True, template=humbl_dark, _boundary_group_down=False)"
      ]
     },
     "execution_count": 9,
     "metadata": {},
     "output_type": "execute_result"
    }
   ],
   "source": [
    "result.command_params"
   ]
  },
  {
   "cell_type": "code",
   "execution_count": 10,
   "metadata": {},
   "outputs": [
    {
     "data": {
      "application/vnd.plotly.v1+json": {
       "config": {
        "plotlyServerURL": "https://plot.ly"
       },
       "data": [
        {
         "line": {
          "color": "blue"
         },
         "name": "Recent Price",
         "type": "scatter",
         "x": [
          "2023-12-11T00:00:00",
          "2023-12-12T00:00:00",
          "2023-12-13T00:00:00",
          "2023-12-14T00:00:00",
          "2023-12-15T00:00:00",
          "2023-12-18T00:00:00",
          "2023-12-19T00:00:00",
          "2023-12-20T00:00:00",
          "2023-12-21T00:00:00",
          "2023-12-22T00:00:00",
          "2023-12-26T00:00:00",
          "2023-12-27T00:00:00",
          "2023-12-28T00:00:00",
          "2023-12-29T00:00:00",
          "2024-01-02T00:00:00",
          "2024-01-03T00:00:00",
          "2024-01-04T00:00:00",
          "2024-01-05T00:00:00",
          "2024-01-08T00:00:00",
          "2024-01-09T00:00:00",
          "2024-01-10T00:00:00",
          "2024-01-11T00:00:00",
          "2024-01-12T00:00:00",
          "2024-01-16T00:00:00",
          "2024-01-17T00:00:00",
          "2024-01-18T00:00:00",
          "2024-01-19T00:00:00",
          "2024-01-22T00:00:00",
          "2024-01-23T00:00:00",
          "2024-01-24T00:00:00",
          "2024-01-25T00:00:00",
          "2024-01-26T00:00:00",
          "2024-01-29T00:00:00",
          "2024-01-30T00:00:00",
          "2024-01-31T00:00:00",
          "2024-02-01T00:00:00",
          "2024-02-02T00:00:00",
          "2024-02-05T00:00:00",
          "2024-02-06T00:00:00",
          "2024-02-07T00:00:00",
          "2024-02-08T00:00:00",
          "2024-02-09T00:00:00",
          "2024-02-12T00:00:00",
          "2024-02-13T00:00:00",
          "2024-02-14T00:00:00",
          "2024-02-15T00:00:00",
          "2024-02-16T00:00:00",
          "2024-02-20T00:00:00",
          "2024-02-21T00:00:00",
          "2024-02-22T00:00:00",
          "2024-02-23T00:00:00",
          "2024-02-26T00:00:00",
          "2024-02-27T00:00:00",
          "2024-02-28T00:00:00",
          "2024-02-29T00:00:00",
          "2024-03-01T00:00:00",
          "2024-03-04T00:00:00",
          "2024-03-05T00:00:00",
          "2024-03-06T00:00:00",
          "2024-03-07T00:00:00",
          "2024-03-08T00:00:00",
          "2024-03-11T00:00:00",
          "2024-03-12T00:00:00",
          "2024-03-13T00:00:00",
          "2024-03-14T00:00:00",
          "2024-03-15T00:00:00",
          "2024-03-18T00:00:00",
          "2024-03-19T00:00:00",
          "2024-03-20T00:00:00",
          "2024-03-21T00:00:00",
          "2024-03-22T00:00:00",
          "2024-03-25T00:00:00",
          "2024-03-26T00:00:00",
          "2024-03-27T00:00:00",
          "2024-03-28T00:00:00",
          "2024-04-01T00:00:00",
          "2024-04-02T00:00:00",
          "2024-04-03T00:00:00",
          "2024-04-04T00:00:00",
          "2024-04-05T00:00:00",
          "2024-04-08T00:00:00",
          "2024-04-09T00:00:00",
          "2024-04-10T00:00:00",
          "2024-04-11T00:00:00",
          "2024-04-12T00:00:00",
          "2024-04-15T00:00:00",
          "2024-04-16T00:00:00",
          "2024-04-17T00:00:00",
          "2024-04-18T00:00:00",
          "2024-04-19T00:00:00",
          "2024-04-22T00:00:00",
          "2024-04-23T00:00:00",
          "2024-04-24T00:00:00",
          "2024-04-25T00:00:00",
          "2024-04-26T00:00:00",
          "2024-04-29T00:00:00",
          "2024-04-30T00:00:00",
          "2024-05-01T00:00:00",
          "2024-05-02T00:00:00",
          "2024-05-03T00:00:00",
          "2024-05-06T00:00:00",
          "2024-05-07T00:00:00",
          "2024-05-08T00:00:00",
          "2024-05-09T00:00:00",
          "2024-05-10T00:00:00",
          "2024-05-13T00:00:00",
          "2024-05-14T00:00:00",
          "2024-05-15T00:00:00",
          "2024-05-16T00:00:00",
          "2024-05-17T00:00:00",
          "2024-05-20T00:00:00",
          "2024-05-21T00:00:00",
          "2024-05-22T00:00:00",
          "2024-05-23T00:00:00",
          "2024-05-24T00:00:00",
          "2024-05-28T00:00:00",
          "2024-05-29T00:00:00",
          "2024-05-30T00:00:00",
          "2024-05-31T00:00:00",
          "2024-06-03T00:00:00",
          "2024-06-04T00:00:00",
          "2024-06-05T00:00:00",
          "2024-06-06T00:00:00",
          "2024-06-07T00:00:00",
          "2024-06-10T00:00:00",
          "2024-06-11T00:00:00",
          "2024-06-12T00:00:00",
          "2024-06-13T00:00:00",
          "2024-06-14T00:00:00",
          "2024-06-17T00:00:00",
          "2024-06-18T00:00:00",
          "2024-06-20T00:00:00",
          "2024-06-21T00:00:00",
          "2024-06-24T00:00:00",
          "2024-06-25T00:00:00",
          "2024-06-26T00:00:00",
          "2024-06-27T00:00:00",
          "2024-06-28T00:00:00",
          "2024-07-01T00:00:00",
          "2024-07-02T00:00:00",
          "2024-07-03T00:00:00",
          "2024-07-05T00:00:00",
          "2024-07-08T00:00:00",
          "2024-07-09T00:00:00",
          "2024-07-10T00:00:00",
          "2024-07-11T00:00:00",
          "2024-07-12T00:00:00",
          "2024-07-15T00:00:00",
          "2024-07-16T00:00:00",
          "2024-07-17T00:00:00",
          "2024-07-18T00:00:00",
          "2024-07-19T00:00:00",
          "2024-07-22T00:00:00",
          "2024-07-23T00:00:00",
          "2024-07-24T00:00:00",
          "2024-07-25T00:00:00",
          "2024-07-26T00:00:00",
          "2024-07-29T00:00:00",
          "2024-07-30T00:00:00",
          "2024-07-31T00:00:00",
          "2024-08-01T00:00:00",
          "2024-08-02T00:00:00",
          "2024-08-05T00:00:00",
          "2024-08-06T00:00:00",
          "2024-08-07T00:00:00",
          "2024-08-08T00:00:00",
          "2024-08-09T00:00:00",
          "2024-08-12T00:00:00",
          "2024-08-13T00:00:00",
          "2024-08-14T00:00:00",
          "2024-08-15T00:00:00",
          "2024-08-16T00:00:00",
          "2024-08-19T00:00:00",
          "2024-08-20T00:00:00",
          "2024-08-21T00:00:00",
          "2024-08-22T00:00:00",
          "2024-08-23T00:00:00",
          "2024-08-26T00:00:00",
          "2024-08-27T00:00:00",
          "2024-08-28T00:00:00",
          "2024-08-29T00:00:00",
          "2024-08-30T00:00:00",
          "2024-09-03T00:00:00",
          "2024-09-04T00:00:00",
          "2024-09-05T00:00:00",
          "2024-09-06T00:00:00",
          "2024-09-09T00:00:00",
          "2024-09-10T00:00:00",
          "2024-09-11T00:00:00",
          "2024-09-12T00:00:00",
          "2024-09-13T00:00:00",
          "2024-09-16T00:00:00",
          "2024-09-17T00:00:00",
          "2024-09-18T00:00:00",
          "2024-09-19T00:00:00",
          "2024-09-20T00:00:00",
          "2024-09-23T00:00:00",
          "2024-09-24T00:00:00",
          "2024-09-25T00:00:00",
          "2024-09-26T00:00:00",
          "2024-09-27T00:00:00",
          "2024-09-30T00:00:00",
          "2024-10-01T00:00:00",
          "2024-10-02T00:00:00",
          "2024-10-03T00:00:00",
          "2024-10-04T00:00:00",
          "2024-10-07T00:00:00",
          "2024-10-08T00:00:00",
          "2024-10-09T00:00:00",
          "2024-10-10T00:00:00",
          "2024-10-11T00:00:00",
          "2024-10-14T00:00:00",
          "2024-10-15T00:00:00",
          "2024-10-16T00:00:00",
          "2024-10-17T00:00:00",
          "2024-10-18T00:00:00",
          "2024-10-21T00:00:00",
          "2024-10-22T00:00:00",
          "2024-10-23T00:00:00",
          "2024-10-24T00:00:00",
          "2024-10-25T00:00:00",
          "2024-10-28T00:00:00",
          "2024-10-29T00:00:00",
          "2024-10-30T00:00:00",
          "2024-10-31T00:00:00",
          "2024-11-01T00:00:00",
          "2024-11-04T00:00:00",
          "2024-11-05T00:00:00",
          "2024-11-06T00:00:00",
          "2024-11-07T00:00:00",
          "2024-11-08T00:00:00",
          "2024-11-11T00:00:00",
          "2024-11-12T00:00:00",
          "2024-11-13T00:00:00",
          "2024-11-14T00:00:00",
          "2024-11-15T00:00:00",
          "2024-11-18T00:00:00",
          "2024-11-19T00:00:00",
          "2024-11-20T00:00:00",
          "2024-11-21T00:00:00",
          "2024-11-22T00:00:00",
          "2024-11-25T00:00:00",
          "2024-11-26T00:00:00",
          "2024-11-27T00:00:00",
          "2024-11-29T00:00:00",
          "2024-12-02T00:00:00",
          "2024-12-03T00:00:00",
          "2024-12-04T00:00:00",
          "2024-12-05T00:00:00",
          "2024-12-06T00:00:00"
         ],
         "y": [
          461.989990234375,
          464.1000061035156,
          470.5,
          472.010009765625,
          469.3299865722656,
          471.9700012207031,
          474.8399963378906,
          468.260009765625,
          472.70001220703125,
          473.6499938964844,
          475.6499938964844,
          476.510009765625,
          476.69000244140625,
          475.30999755859375,
          472.6499938964844,
          468.7900085449219,
          467.2799987792969,
          467.9200134277344,
          474.6000061035156,
          473.8800048828125,
          476.55999755859375,
          476.3500061035156,
          476.67999267578125,
          474.92999267578125,
          472.2900085449219,
          476.489990234375,
          482.42999267578125,
          483.45001220703125,
          484.8599853515625,
          485.3900146484375,
          488.0299987792969,
          487.4100036621094,
          491.2699890136719,
          490.8900146484375,
          482.8800048828125,
          489.20001220703125,
          494.3500061035156,
          492.54998779296875,
          493.9800109863281,
          498.1000061035156,
          498.32000732421875,
          501.20001220703125,
          500.9800109863281,
          494.0799865722656,
          498.57000732421875,
          502.010009765625,
          499.510009765625,
          496.760009765625,
          497.2099914550781,
          507.5,
          507.8500061035156,
          505.989990234375,
          506.92999267578125,
          506.260009765625,
          508.0799865722656,
          512.8499755859375,
          512.2999877929688,
          507.17999267578125,
          509.75,
          514.8099975585938,
          511.7200012207031,
          511.2799987792969,
          516.780029296875,
          515.969970703125,
          514.9500122070312,
          509.8299865722656,
          512.8599853515625,
          515.7100219726562,
          520.47998046875,
          522.2000122070312,
          521.2100219726562,
          519.77001953125,
          518.8099975585938,
          523.1699829101562,
          523.0700073242188,
          522.1599731445312,
          518.8400268554688,
          519.4099731445312,
          513.0700073242188,
          518.4299926757812,
          518.719970703125,
          519.3200073242188,
          514.1199951171875,
          518,
          510.8500061035156,
          504.45001220703125,
          503.5299987792969,
          500.54998779296875,
          499.5199890136719,
          495.1600036621094,
          499.7200012207031,
          505.6499938964844,
          505.4100036621094,
          503.489990234375,
          508.260009765625,
          510.05999755859375,
          501.9800109863281,
          500.3500061035156,
          505.0299987792969,
          511.2900085449219,
          516.5700073242188,
          517.1400146484375,
          517.1900024414062,
          520.1699829101562,
          520.8400268554688,
          520.9099731445312,
          523.2999877929688,
          529.780029296875,
          528.6900024414062,
          529.4500122070312,
          530.0599975585938,
          531.3599853515625,
          529.8300170898438,
          525.9600219726562,
          529.4400024414062,
          529.8099975585938,
          526.0999755859375,
          522.6099853515625,
          527.3699951171875,
          527.7999877929688,
          528.3900146484375,
          534.6699829101562,
          534.6599731445312,
          534.010009765625,
          535.6599731445312,
          536.9500122070312,
          541.3599853515625,
          542.4500122070312,
          542.780029296875,
          547.0999755859375,
          548.489990234375,
          547,
          544.510009765625,
          542.739990234375,
          544.8300170898438,
          545.510009765625,
          546.3699951171875,
          544.219970703125,
          545.3400268554688,
          549.010009765625,
          551.4600219726562,
          554.6400146484375,
          555.280029296875,
          555.8200073242188,
          561.3200073242188,
          556.47998046875,
          559.989990234375,
          561.530029296875,
          564.8599853515625,
          556.9400024414062,
          552.6599731445312,
          548.989990234375,
          554.6500244140625,
          553.780029296875,
          541.22998046875,
          538.4099731445312,
          544.4400024414062,
          544.760009765625,
          542,
          550.8099975585938,
          543.010009765625,
          532.9000244140625,
          517.3800048828125,
          522.1500244140625,
          518.6599731445312,
          530.6500244140625,
          532.989990234375,
          533.27001953125,
          542.0399780273438,
          543.75,
          553.0700073242188,
          554.3099975585938,
          559.6099853515625,
          558.7000122070312,
          560.6199951171875,
          556.219970703125,
          562.1300048828125,
          560.7899780273438,
          561.5599975585938,
          558.2999877929688,
          558.3499755859375,
          563.6799926757812,
          552.0800170898438,
          550.9500122070312,
          549.6099853515625,
          540.3599853515625,
          546.4099731445312,
          548.7899780273438,
          554.4199829101562,
          559.0900268554688,
          562.010009765625,
          562.8400268554688,
          563.0700073242188,
          561.4000244140625,
          570.97998046875,
          568.25,
          569.6699829101562,
          571.2999877929688,
          570.0399780273438,
          572.2999877929688,
          571.469970703125,
          573.760009765625,
          568.6199951171875,
          568.8599853515625,
          567.8200073242188,
          572.97998046875,
          567.7999877929688,
          573.1699829101562,
          577.1400146484375,
          576.1300048828125,
          579.5800170898438,
          584.3200073242188,
          579.780029296875,
          582.2999877929688,
          582.3499755859375,
          584.5900268554688,
          583.6300048828125,
          583.3200073242188,
          577.989990234375,
          579.239990234375,
          579.0399780273438,
          580.8300170898438,
          581.77001953125,
          580.010009765625,
          568.6400146484375,
          571.0399780273438,
          569.8099975585938,
          576.7000122070312,
          591.0399780273438,
          595.6099853515625,
          598.1900024414062,
          598.760009765625,
          596.9000244140625,
          597.1900024414062,
          593.3499755859375,
          585.75,
          588.1500244140625,
          590.2999877929688,
          590.5,
          593.6699829101562,
          595.510009765625,
          597.530029296875,
          600.6500244140625,
          598.8300170898438,
          602.5499877929688,
          603.6300048828125,
          603.9099731445312,
          607.6599731445312,
          606.6599731445312,
          607.8099975585938
         ]
        }
       ],
       "layout": {
        "shapes": [
         {
          "line": {
           "color": "red",
           "width": 2
          },
          "name": "Top Price",
          "type": "line",
          "x0": 0,
          "x1": 1,
          "xref": "x domain",
          "y0": 611.6866,
          "y1": 611.6866,
          "yref": "y"
         },
         {
          "line": {
           "color": "green",
           "width": 2
          },
          "name": "Bottom Price",
          "type": "line",
          "x0": 0,
          "x1": 1,
          "xref": "x domain",
          "y0": 600.2239,
          "y1": 600.2239,
          "yref": "y"
         }
        ],
        "template": {
         "data": {
          "bar": [
           {
            "error_x": {
             "color": "#f2f5fa"
            },
            "error_y": {
             "color": "#f2f5fa"
            },
            "marker": {
             "line": {
              "color": "rgb(17,17,17)",
              "width": 0.5
             },
             "pattern": {
              "fillmode": "overlay",
              "size": 10,
              "solidity": 0.2
             }
            },
            "type": "bar"
           }
          ],
          "barpolar": [
           {
            "marker": {
             "line": {
              "color": "rgb(17,17,17)",
              "width": 0.5
             },
             "pattern": {
              "fillmode": "overlay",
              "size": 10,
              "solidity": 0.2
             }
            },
            "type": "barpolar"
           }
          ],
          "carpet": [
           {
            "aaxis": {
             "endlinecolor": "#A2B1C6",
             "gridcolor": "#506784",
             "linecolor": "#506784",
             "minorgridcolor": "#506784",
             "startlinecolor": "#A2B1C6"
            },
            "baxis": {
             "endlinecolor": "#A2B1C6",
             "gridcolor": "#506784",
             "linecolor": "#506784",
             "minorgridcolor": "#506784",
             "startlinecolor": "#A2B1C6"
            },
            "type": "carpet"
           }
          ],
          "choropleth": [
           {
            "colorbar": {
             "outlinewidth": 0,
             "ticks": ""
            },
            "type": "choropleth"
           }
          ],
          "contour": [
           {
            "colorbar": {
             "outlinewidth": 0,
             "ticks": ""
            },
            "colorscale": [
             [
              0,
              "#0d0887"
             ],
             [
              0.1111111111111111,
              "#46039f"
             ],
             [
              0.2222222222222222,
              "#7201a8"
             ],
             [
              0.3333333333333333,
              "#9c179e"
             ],
             [
              0.4444444444444444,
              "#bd3786"
             ],
             [
              0.5555555555555556,
              "#d8576b"
             ],
             [
              0.6666666666666666,
              "#ed7953"
             ],
             [
              0.7777777777777778,
              "#fb9f3a"
             ],
             [
              0.8888888888888888,
              "#fdca26"
             ],
             [
              1,
              "#f0f921"
             ]
            ],
            "type": "contour"
           }
          ],
          "contourcarpet": [
           {
            "colorbar": {
             "outlinewidth": 0,
             "ticks": ""
            },
            "type": "contourcarpet"
           }
          ],
          "heatmap": [
           {
            "colorbar": {
             "outlinewidth": 0,
             "ticks": ""
            },
            "colorscale": [
             [
              0,
              "#0d0887"
             ],
             [
              0.1111111111111111,
              "#46039f"
             ],
             [
              0.2222222222222222,
              "#7201a8"
             ],
             [
              0.3333333333333333,
              "#9c179e"
             ],
             [
              0.4444444444444444,
              "#bd3786"
             ],
             [
              0.5555555555555556,
              "#d8576b"
             ],
             [
              0.6666666666666666,
              "#ed7953"
             ],
             [
              0.7777777777777778,
              "#fb9f3a"
             ],
             [
              0.8888888888888888,
              "#fdca26"
             ],
             [
              1,
              "#f0f921"
             ]
            ],
            "type": "heatmap"
           }
          ],
          "heatmapgl": [
           {
            "colorbar": {
             "outlinewidth": 0,
             "ticks": ""
            },
            "colorscale": [
             [
              0,
              "#0d0887"
             ],
             [
              0.1111111111111111,
              "#46039f"
             ],
             [
              0.2222222222222222,
              "#7201a8"
             ],
             [
              0.3333333333333333,
              "#9c179e"
             ],
             [
              0.4444444444444444,
              "#bd3786"
             ],
             [
              0.5555555555555556,
              "#d8576b"
             ],
             [
              0.6666666666666666,
              "#ed7953"
             ],
             [
              0.7777777777777778,
              "#fb9f3a"
             ],
             [
              0.8888888888888888,
              "#fdca26"
             ],
             [
              1,
              "#f0f921"
             ]
            ],
            "type": "heatmapgl"
           }
          ],
          "histogram": [
           {
            "marker": {
             "pattern": {
              "fillmode": "overlay",
              "size": 10,
              "solidity": 0.2
             }
            },
            "type": "histogram"
           }
          ],
          "histogram2d": [
           {
            "colorbar": {
             "outlinewidth": 0,
             "ticks": ""
            },
            "colorscale": [
             [
              0,
              "#0d0887"
             ],
             [
              0.1111111111111111,
              "#46039f"
             ],
             [
              0.2222222222222222,
              "#7201a8"
             ],
             [
              0.3333333333333333,
              "#9c179e"
             ],
             [
              0.4444444444444444,
              "#bd3786"
             ],
             [
              0.5555555555555556,
              "#d8576b"
             ],
             [
              0.6666666666666666,
              "#ed7953"
             ],
             [
              0.7777777777777778,
              "#fb9f3a"
             ],
             [
              0.8888888888888888,
              "#fdca26"
             ],
             [
              1,
              "#f0f921"
             ]
            ],
            "type": "histogram2d"
           }
          ],
          "histogram2dcontour": [
           {
            "colorbar": {
             "outlinewidth": 0,
             "ticks": ""
            },
            "colorscale": [
             [
              0,
              "#0d0887"
             ],
             [
              0.1111111111111111,
              "#46039f"
             ],
             [
              0.2222222222222222,
              "#7201a8"
             ],
             [
              0.3333333333333333,
              "#9c179e"
             ],
             [
              0.4444444444444444,
              "#bd3786"
             ],
             [
              0.5555555555555556,
              "#d8576b"
             ],
             [
              0.6666666666666666,
              "#ed7953"
             ],
             [
              0.7777777777777778,
              "#fb9f3a"
             ],
             [
              0.8888888888888888,
              "#fdca26"
             ],
             [
              1,
              "#f0f921"
             ]
            ],
            "type": "histogram2dcontour"
           }
          ],
          "mesh3d": [
           {
            "colorbar": {
             "outlinewidth": 0,
             "ticks": ""
            },
            "type": "mesh3d"
           }
          ],
          "parcoords": [
           {
            "line": {
             "colorbar": {
              "outlinewidth": 0,
              "ticks": ""
             }
            },
            "type": "parcoords"
           }
          ],
          "pie": [
           {
            "automargin": true,
            "type": "pie"
           }
          ],
          "scatter": [
           {
            "marker": {
             "line": {
              "color": "#283442"
             }
            },
            "type": "scatter"
           }
          ],
          "scatter3d": [
           {
            "line": {
             "colorbar": {
              "outlinewidth": 0,
              "ticks": ""
             }
            },
            "marker": {
             "colorbar": {
              "outlinewidth": 0,
              "ticks": ""
             }
            },
            "type": "scatter3d"
           }
          ],
          "scattercarpet": [
           {
            "marker": {
             "colorbar": {
              "outlinewidth": 0,
              "ticks": ""
             }
            },
            "type": "scattercarpet"
           }
          ],
          "scattergeo": [
           {
            "marker": {
             "colorbar": {
              "outlinewidth": 0,
              "ticks": ""
             }
            },
            "type": "scattergeo"
           }
          ],
          "scattergl": [
           {
            "marker": {
             "line": {
              "color": "#283442"
             }
            },
            "type": "scattergl"
           }
          ],
          "scattermapbox": [
           {
            "marker": {
             "colorbar": {
              "outlinewidth": 0,
              "ticks": ""
             }
            },
            "type": "scattermapbox"
           }
          ],
          "scatterpolar": [
           {
            "marker": {
             "colorbar": {
              "outlinewidth": 0,
              "ticks": ""
             }
            },
            "type": "scatterpolar"
           }
          ],
          "scatterpolargl": [
           {
            "marker": {
             "colorbar": {
              "outlinewidth": 0,
              "ticks": ""
             }
            },
            "type": "scatterpolargl"
           }
          ],
          "scatterternary": [
           {
            "marker": {
             "colorbar": {
              "outlinewidth": 0,
              "ticks": ""
             }
            },
            "type": "scatterternary"
           }
          ],
          "surface": [
           {
            "colorbar": {
             "outlinewidth": 0,
             "ticks": ""
            },
            "colorscale": [
             [
              0,
              "#0d0887"
             ],
             [
              0.1111111111111111,
              "#46039f"
             ],
             [
              0.2222222222222222,
              "#7201a8"
             ],
             [
              0.3333333333333333,
              "#9c179e"
             ],
             [
              0.4444444444444444,
              "#bd3786"
             ],
             [
              0.5555555555555556,
              "#d8576b"
             ],
             [
              0.6666666666666666,
              "#ed7953"
             ],
             [
              0.7777777777777778,
              "#fb9f3a"
             ],
             [
              0.8888888888888888,
              "#fdca26"
             ],
             [
              1,
              "#f0f921"
             ]
            ],
            "type": "surface"
           }
          ],
          "table": [
           {
            "cells": {
             "fill": {
              "color": "#506784"
             },
             "line": {
              "color": "rgb(17,17,17)"
             }
            },
            "header": {
             "fill": {
              "color": "#2a3f5f"
             },
             "line": {
              "color": "rgb(17,17,17)"
             }
            },
            "type": "table"
           }
          ]
         },
         "layout": {
          "annotationdefaults": {
           "arrowcolor": "#f2f5fa",
           "arrowhead": 0,
           "arrowwidth": 1
          },
          "annotations": [
           {
            "font": {
             "color": "black",
             "size": 90
            },
            "name": "draft watermark",
            "opacity": 0.1,
            "showarrow": false,
            "text": "humblDATA",
            "textangle": -25,
            "x": 0.5,
            "xref": "paper",
            "y": 0.5,
            "yref": "paper"
           }
          ],
          "autotypenumbers": "strict",
          "coloraxis": {
           "colorbar": {
            "outlinewidth": 0,
            "ticks": ""
           }
          },
          "colorscale": {
           "diverging": [
            [
             0,
             "#8e0152"
            ],
            [
             0.1,
             "#c51b7d"
            ],
            [
             0.2,
             "#de77ae"
            ],
            [
             0.3,
             "#f1b6da"
            ],
            [
             0.4,
             "#fde0ef"
            ],
            [
             0.5,
             "#f7f7f7"
            ],
            [
             0.6,
             "#e6f5d0"
            ],
            [
             0.7,
             "#b8e186"
            ],
            [
             0.8,
             "#7fbc41"
            ],
            [
             0.9,
             "#4d9221"
            ],
            [
             1,
             "#276419"
            ]
           ],
           "sequential": [
            [
             0,
             "#0d0887"
            ],
            [
             0.1111111111111111,
             "#46039f"
            ],
            [
             0.2222222222222222,
             "#7201a8"
            ],
            [
             0.3333333333333333,
             "#9c179e"
            ],
            [
             0.4444444444444444,
             "#bd3786"
            ],
            [
             0.5555555555555556,
             "#d8576b"
            ],
            [
             0.6666666666666666,
             "#ed7953"
            ],
            [
             0.7777777777777778,
             "#fb9f3a"
            ],
            [
             0.8888888888888888,
             "#fdca26"
            ],
            [
             1,
             "#f0f921"
            ]
           ],
           "sequentialminus": [
            [
             0,
             "#0d0887"
            ],
            [
             0.1111111111111111,
             "#46039f"
            ],
            [
             0.2222222222222222,
             "#7201a8"
            ],
            [
             0.3333333333333333,
             "#9c179e"
            ],
            [
             0.4444444444444444,
             "#bd3786"
            ],
            [
             0.5555555555555556,
             "#d8576b"
            ],
            [
             0.6666666666666666,
             "#ed7953"
            ],
            [
             0.7777777777777778,
             "#fb9f3a"
            ],
            [
             0.8888888888888888,
             "#fdca26"
            ],
            [
             1,
             "#f0f921"
            ]
           ]
          },
          "colorway": [
           "#636efa",
           "#EF553B",
           "#00cc96",
           "#ab63fa",
           "#FFA15A",
           "#19d3f3",
           "#FF6692",
           "#B6E880",
           "#FF97FF",
           "#FECB52"
          ],
          "font": {
           "color": "white"
          },
          "geo": {
           "bgcolor": "rgb(17,17,17)",
           "lakecolor": "rgb(17,17,17)",
           "landcolor": "rgb(17,17,17)",
           "showlakes": true,
           "showland": true,
           "subunitcolor": "#506784"
          },
          "hoverlabel": {
           "align": "left"
          },
          "hovermode": "closest",
          "legend": {
           "bgcolor": "rgb(0,0,0,0)",
           "bordercolor": "rgb(63,70,139)",
           "borderwidth": 0.5,
           "font": {
            "color": "white",
            "family": "open-sans",
            "size": 12
           },
           "orientation": "h",
           "traceorder": "normal",
           "x": 0.5,
           "xanchor": "center",
           "y": -0.15
          },
          "mapbox": {
           "style": "dark"
          },
          "paper_bgcolor": "rgb(0,0,0,0)",
          "plot_bgcolor": "rgb(0,0,0,0)",
          "polar": {
           "angularaxis": {
            "gridcolor": "#506784",
            "linecolor": "#506784",
            "ticks": ""
           },
           "bgcolor": "rgb(17,17,17)",
           "radialaxis": {
            "gridcolor": "#506784",
            "linecolor": "#506784",
            "ticks": ""
           }
          },
          "scene": {
           "xaxis": {
            "backgroundcolor": "rgb(17,17,17)",
            "gridcolor": "#506784",
            "gridwidth": 2,
            "linecolor": "#506784",
            "showbackground": true,
            "ticks": "",
            "zerolinecolor": "#C8D4E3"
           },
           "yaxis": {
            "backgroundcolor": "rgb(17,17,17)",
            "gridcolor": "#506784",
            "gridwidth": 2,
            "linecolor": "#506784",
            "showbackground": true,
            "ticks": "",
            "zerolinecolor": "#C8D4E3"
           },
           "zaxis": {
            "backgroundcolor": "rgb(17,17,17)",
            "gridcolor": "#506784",
            "gridwidth": 2,
            "linecolor": "#506784",
            "showbackground": true,
            "ticks": "",
            "zerolinecolor": "#C8D4E3"
           }
          },
          "shapedefaults": {
           "line": {
            "color": "#f2f5fa"
           }
          },
          "sliderdefaults": {
           "bgcolor": "#C8D4E3",
           "bordercolor": "rgb(17,17,17)",
           "borderwidth": 1,
           "tickwidth": 0
          },
          "ternary": {
           "aaxis": {
            "gridcolor": "#506784",
            "linecolor": "#506784",
            "ticks": ""
           },
           "baxis": {
            "gridcolor": "#506784",
            "linecolor": "#506784",
            "ticks": ""
           },
           "bgcolor": "rgb(17,17,17)",
           "caxis": {
            "gridcolor": "#506784",
            "linecolor": "#506784",
            "ticks": ""
           }
          },
          "title": {
           "x": 0.05
          },
          "updatemenudefaults": {
           "bgcolor": "#506784",
           "borderwidth": 0
          },
          "xaxis": {
           "automargin": true,
           "gridcolor": "#283442",
           "linecolor": "#506784",
           "ticks": "",
           "title": {
            "standoff": 15
           },
           "zerolinecolor": "#283442",
           "zerolinewidth": 2
          },
          "yaxis": {
           "automargin": true,
           "gridcolor": "#283442",
           "linecolor": "#506784",
           "side": "right",
           "ticks": "",
           "title": {
            "standoff": 15
           },
           "zerolinecolor": "#283442",
           "zerolinewidth": 2
          }
         }
        },
        "title": {
         "text": "Current Mandelbrot Channel for SPY"
        },
        "xaxis": {
         "title": {
          "text": "Date"
         }
        },
        "yaxis": {
         "title": {
          "text": "Price"
         }
        }
       }
      }
     },
     "metadata": {},
     "output_type": "display_data"
    }
   ],
   "source": [
    "result.show()"
   ]
  },
  {
   "cell_type": "code",
   "execution_count": null,
   "metadata": {},
   "outputs": [],
   "source": []
  }
 ],
 "metadata": {
  "kernelspec": {
   "display_name": "Python 3",
   "language": "python",
   "name": "python3"
  },
  "language_info": {
   "codemirror_mode": {
    "name": "ipython",
    "version": 3
   },
   "file_extension": ".py",
   "mimetype": "text/x-python",
   "name": "python",
   "nbconvert_exporter": "python",
   "pygments_lexer": "ipython3",
   "version": "3.12.7"
  }
 },
 "nbformat": 4,
 "nbformat_minor": 2
}
