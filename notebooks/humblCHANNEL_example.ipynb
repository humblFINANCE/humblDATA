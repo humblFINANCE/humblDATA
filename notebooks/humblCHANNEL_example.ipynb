{
 "cells": [
  {
   "cell_type": "code",
   "execution_count": 7,
   "metadata": {},
   "outputs": [
    {
     "name": "stderr",
     "output_type": "stream",
     "text": [
      "WARNING: ToolboxQueryParams || Start date adjusted to 2023-12-01 based on anonymous membership (1Y of data).\n"
     ]
    },
    {
     "name": "stdout",
     "output_type": "stream",
     "text": [
      "The autoreload extension is already loaded. To reload it, use:\n",
      "  %reload_ext autoreload\n"
     ]
    },
    {
     "data": {
      "text/plain": [
       "Toolbox(symbols=['AAPL', 'JNJ', '^VIX'], interval=1d, start_date=2023-12-01, end_date=2024-11-30, provider=yfinance, membership=anonymous, warnings=[{'category': 'ToolboxQueryParams', 'message': 'Start date adjusted to 2023-12-01 based on anonymous membership (1Y of data).'}])"
      ]
     },
     "execution_count": 7,
     "metadata": {},
     "output_type": "execute_result"
    }
   ],
   "source": [
    "%load_ext autoreload\n",
    "%autoreload\n",
    "\n",
    "from humbldata.toolbox.toolbox_controller import Toolbox\n",
    "\n",
    "toolbox = Toolbox(\n",
    "    symbols=\"AAPL,JNJ,^VIX\",\n",
    "    interval=\"1d\",\n",
    "    start_date=\"2000-01-01\",\n",
    "    # end_date=\"2024-02-26\",\n",
    "    membership=\"anonymous\"\n",
    ")\n",
    "toolbox"
   ]
  },
  {
   "cell_type": "code",
   "execution_count": 9,
   "metadata": {},
   "outputs": [
    {
     "name": "stderr",
     "output_type": "stream",
     "text": [
      "INFO: MandelbrotChannelFetcher || START: fetch_data (sync)\n",
      "DEBUG: MandelbrotChannelFetcher || Running .transform_query()\n",
      "DEBUG: MandelbrotChannelFetcher || Running .extract_data()\n",
      "DEBUG: MandelbrotChannelFetcher || Running .transform_data()\n",
      "INFO: MandelbrotChannelFetcher || END: fetch_data (sync) - Total time: 0.4709s\n"
     ]
    },
    {
     "data": {
      "text/plain": [
       "HumblObject\n",
       "\n",
       "id: 0674b5c3-7dcf-77ca-8000-5abb02760028\n",
       "results: b'\\xa1mDataFrameScan\\xa2bdf\\xa1gcolumns\\x85\\xa4dnameddatehdatatypedDatelbi...\n",
       "equity_data: b'\\xa1bIR\\xa2gversion\\x19\\x06\\xa8cdsl\\xa1mDataFrameScan\\xa2bdf\\xa1gcol...\n",
       "provider: yfinance\n",
       "warnings: [{'category': 'ToolboxQueryParams', 'message': 'Start date adjusted to 20...\n",
       "chart: [{'content': '{\"data\":[{\"line\":{\"color\":\"blue\"},\"name\":\"Recent Price\",\"x\":[\"...\n",
       "extra: {}\n",
       "context_params: {'symbols': ['AAPL', 'JNJ', '^VIX'], 'interval': '1d', 'start_date'...\n",
       "command_params: {'window': '3mo', 'rv_adjustment': True, 'rv_method': 'std', 'rs_me..."
      ]
     },
     "execution_count": 9,
     "metadata": {},
     "output_type": "execute_result"
    }
   ],
   "source": [
    "# import nest_asyncio\n",
    "# nest_asyncio.apply()\n",
    "\n",
    "result = toolbox.technical.mandelbrot_channel(historical=False, window=\"3m\", _boundary_group_down=False, chart=True)\n",
    "result"
   ]
  },
  {
   "cell_type": "code",
   "execution_count": 4,
   "metadata": {},
   "outputs": [
    {
     "data": {
      "text/html": [
       "<div><style>\n",
       ".dataframe > thead > tr,\n",
       ".dataframe > tbody > tr {\n",
       "  text-align: right;\n",
       "  white-space: pre-wrap;\n",
       "}\n",
       "</style>\n",
       "<small>shape: (3, 5)</small><table border=\"1\" class=\"dataframe\"><thead><tr><th>date</th><th>symbol</th><th>bottom_price</th><th>recent_price</th><th>top_price</th></tr><tr><td>date</td><td>str</td><td>f64</td><td>f64</td><td>f64</td></tr></thead><tbody><tr><td>2024-11-29</td><td>&quot;AAPL&quot;</td><td>223.1026</td><td>237.330002</td><td>239.603</td></tr><tr><td>2024-11-29</td><td>&quot;JNJ&quot;</td><td>142.1158</td><td>155.009995</td><td>174.3264</td></tr><tr><td>2024-11-29</td><td>&quot;^VIX&quot;</td><td>13.2146</td><td>13.51</td><td>17.1394</td></tr></tbody></table></div>"
      ],
      "text/plain": [
       "shape: (3, 5)\n",
       "┌────────────┬────────┬──────────────┬──────────────┬───────────┐\n",
       "│ date       ┆ symbol ┆ bottom_price ┆ recent_price ┆ top_price │\n",
       "│ ---        ┆ ---    ┆ ---          ┆ ---          ┆ ---       │\n",
       "│ date       ┆ str    ┆ f64          ┆ f64          ┆ f64       │\n",
       "╞════════════╪════════╪══════════════╪══════════════╪═══════════╡\n",
       "│ 2024-11-29 ┆ AAPL   ┆ 223.1026     ┆ 237.330002   ┆ 239.603   │\n",
       "│ 2024-11-29 ┆ JNJ    ┆ 142.1158     ┆ 155.009995   ┆ 174.3264  │\n",
       "│ 2024-11-29 ┆ ^VIX   ┆ 13.2146      ┆ 13.51        ┆ 17.1394   │\n",
       "└────────────┴────────┴──────────────┴──────────────┴───────────┘"
      ]
     },
     "execution_count": 4,
     "metadata": {},
     "output_type": "execute_result"
    }
   ],
   "source": [
    "result.to_polars()"
   ]
  },
  {
   "cell_type": "code",
   "execution_count": 4,
   "metadata": {},
   "outputs": [],
   "source": [
    "\n",
    "import polars as pl\n",
    "data_historical = pl.read_parquet(\n",
    "        \"../tests/test_data/mandelbrot_channel_historical.parquet\"\n",
    "    )"
   ]
  },
  {
   "cell_type": "code",
   "execution_count": 6,
   "metadata": {},
   "outputs": [
    {
     "data": {
      "text/html": [
       "<div><style>\n",
       ".dataframe > thead > tr,\n",
       ".dataframe > tbody > tr {\n",
       "  text-align: right;\n",
       "  white-space: pre-wrap;\n",
       "}\n",
       "</style>\n",
       "<small>shape: (4_925, 5)</small><table border=\"1\" class=\"dataframe\"><thead><tr><th>date</th><th>symbol</th><th>bottom_price</th><th>close_price</th><th>top_price</th></tr><tr><td>date</td><td>str</td><td>f64</td><td>f64</td><td>f64</td></tr></thead><tbody><tr><td>2020-02-03</td><td>&quot;AAPL&quot;</td><td>75.0304</td><td>75.080811</td><td>80.8237</td></tr><tr><td>2020-02-04</td><td>&quot;AAPL&quot;</td><td>74.3672</td><td>77.559502</td><td>82.3451</td></tr><tr><td>2020-02-05</td><td>&quot;AAPL&quot;</td><td>74.7959</td><td>78.19194</td><td>82.4865</td></tr><tr><td>2020-02-06</td><td>&quot;AAPL&quot;</td><td>75.1319</td><td>79.10656</td><td>82.6979</td></tr><tr><td>2020-02-07</td><td>&quot;AAPL&quot;</td><td>75.5179</td><td>78.031296</td><td>82.7061</td></tr><tr><td>&hellip;</td><td>&hellip;</td><td>&hellip;</td><td>&hellip;</td><td>&hellip;</td></tr><tr><td>2023-12-22</td><td>&quot;SMCI&quot;</td><td>264.7847</td><td>289.720001</td><td>310.8408</td></tr><tr><td>2023-12-26</td><td>&quot;SMCI&quot;</td><td>268.0487</td><td>294.329987</td><td>313.8758</td></tr><tr><td>2023-12-27</td><td>&quot;SMCI&quot;</td><td>267.4134</td><td>295.0</td><td>313.0851</td></tr><tr><td>2023-12-28</td><td>&quot;SMCI&quot;</td><td>266.9149</td><td>291.450012</td><td>312.3953</td></tr><tr><td>2023-12-29</td><td>&quot;SMCI&quot;</td><td>262.6153</td><td>284.26001</td><td>305.3701</td></tr></tbody></table></div>"
      ],
      "text/plain": [
       "shape: (4_925, 5)\n",
       "┌────────────┬────────┬──────────────┬─────────────┬───────────┐\n",
       "│ date       ┆ symbol ┆ bottom_price ┆ close_price ┆ top_price │\n",
       "│ ---        ┆ ---    ┆ ---          ┆ ---         ┆ ---       │\n",
       "│ date       ┆ str    ┆ f64          ┆ f64         ┆ f64       │\n",
       "╞════════════╪════════╪══════════════╪═════════════╪═══════════╡\n",
       "│ 2020-02-03 ┆ AAPL   ┆ 75.0304      ┆ 75.080811   ┆ 80.8237   │\n",
       "│ 2020-02-04 ┆ AAPL   ┆ 74.3672      ┆ 77.559502   ┆ 82.3451   │\n",
       "│ 2020-02-05 ┆ AAPL   ┆ 74.7959      ┆ 78.19194    ┆ 82.4865   │\n",
       "│ 2020-02-06 ┆ AAPL   ┆ 75.1319      ┆ 79.10656    ┆ 82.6979   │\n",
       "│ 2020-02-07 ┆ AAPL   ┆ 75.5179      ┆ 78.031296   ┆ 82.7061   │\n",
       "│ …          ┆ …      ┆ …            ┆ …           ┆ …         │\n",
       "│ 2023-12-22 ┆ SMCI   ┆ 264.7847     ┆ 289.720001  ┆ 310.8408  │\n",
       "│ 2023-12-26 ┆ SMCI   ┆ 268.0487     ┆ 294.329987  ┆ 313.8758  │\n",
       "│ 2023-12-27 ┆ SMCI   ┆ 267.4134     ┆ 295.0       ┆ 313.0851  │\n",
       "│ 2023-12-28 ┆ SMCI   ┆ 266.9149     ┆ 291.450012  ┆ 312.3953  │\n",
       "│ 2023-12-29 ┆ SMCI   ┆ 262.6153     ┆ 284.26001   ┆ 305.3701  │\n",
       "└────────────┴────────┴──────────────┴─────────────┴───────────┘"
      ]
     },
     "execution_count": 6,
     "metadata": {},
     "output_type": "execute_result"
    }
   ],
   "source": [
    "data_historical"
   ]
  },
  {
   "cell_type": "code",
   "execution_count": null,
   "metadata": {},
   "outputs": [],
   "source": []
  }
 ],
 "metadata": {
  "kernelspec": {
   "display_name": "Python 3",
   "language": "python",
   "name": "python3"
  },
  "language_info": {
   "codemirror_mode": {
    "name": "ipython",
    "version": 3
   },
   "file_extension": ".py",
   "mimetype": "text/x-python",
   "name": "python",
   "nbconvert_exporter": "python",
   "pygments_lexer": "ipython3",
   "version": "3.12.7"
  }
 },
 "nbformat": 4,
 "nbformat_minor": 2
}
