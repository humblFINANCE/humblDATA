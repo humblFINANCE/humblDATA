{
 "cells": [
  {
   "cell_type": "code",
   "execution_count": 5,
   "metadata": {},
   "outputs": [
    {
     "name": "stdout",
     "output_type": "stream",
     "text": [
      "The autoreload extension is already loaded. To reload it, use:\n",
      "  %reload_ext autoreload\n"
     ]
    }
   ],
   "source": [
    "%load_ext autoreload\n",
    "%autoreload 2\n",
    "\n",
    "import polars as pl\n",
    "from openbb import obb\n",
    "\n",
    "from humbldata.core.utils.env import Env\n",
    "from humbldata.core.utils.openbb_helpers import obb_login\n",
    "\n",
    "# obb_login()\n",
    "obb.account.login(pat=Env().OBB_PAT, remember_me=True)"
   ]
  },
  {
   "cell_type": "code",
   "execution_count": 6,
   "metadata": {},
   "outputs": [
    {
     "name": "stderr",
     "output_type": "stream",
     "text": [
      "\u001b[1;35mDEBUG:\u001b[0m \u001b[36mFundamentalController\u001b[0m || \u001b[34mInitializing HumblCompassBacktest calculation with params: {'symbols': ['XLY'], 'country': 'united_states'}\u001b[0m\n",
      "\u001b[1;35mDEBUG:\u001b[0m \u001b[36mFundamentalController\u001b[0m || \u001b[34mFetching HumblCompassBacktest data\u001b[0m\n",
      "\u001b[1;35mINFO:\u001b[0m \u001b[36mHumblCompassBacktestFetcher\u001b[0m || \u001b[32mSTART: fetch_data (sync)\u001b[0m\n",
      "\u001b[1;35mDEBUG:\u001b[0m \u001b[36mHumblCompassBacktestFetcher\u001b[0m || \u001b[34mRunning .transform_query()\u001b[0m\n",
      "\u001b[1;35mDEBUG:\u001b[0m \u001b[36mHumblCompassBacktestFetcher\u001b[0m || \u001b[34mRunning .extract_data()\u001b[0m\n",
      "\u001b[1;35mINFO:\u001b[0m \u001b[36mHumblCompassFetcher\u001b[0m || \u001b[32mSTART: fetch_data (sync)\u001b[0m\n",
      "\u001b[1;35mDEBUG:\u001b[0m \u001b[36mHumblCompassFetcher\u001b[0m || \u001b[34mRunning .transform_query()\u001b[0m\n",
      "\u001b[1;35mINFO:\u001b[0m \u001b[36mHumblCompassFetcher\u001b[0m || \u001b[32mCLI start date: 1959-09-01 and CPI start date: 1959-09-01. Dates are adjusted to account for CLI data release lag and z-score calculation window.\u001b[0m\n",
      "\u001b[1;35mDEBUG:\u001b[0m \u001b[36mHumblCompassFetcher\u001b[0m || \u001b[34mRunning .extract_data()\u001b[0m\n"
     ]
    },
    {
     "name": "stdout",
     "output_type": "stream",
     "text": [
      "The autoreload extension is already loaded. To reload it, use:\n",
      "  %reload_ext autoreload\n"
     ]
    },
    {
     "name": "stderr",
     "output_type": "stream",
     "text": [
      "\u001b[1;35mDEBUG:\u001b[0m \u001b[36mHumblCompassFetcher\u001b[0m || \u001b[34mRunning .transform_data()\u001b[0m\n",
      "\u001b[1;35mINFO:\u001b[0m \u001b[36mHumblCompassFetcher\u001b[0m || \u001b[32mEND: fetch_data (sync) - Total time: 0.4970s\u001b[0m\n",
      "\u001b[1;35mDEBUG:\u001b[0m \u001b[36mHumblCompassBacktestFetcher\u001b[0m || \u001b[34mRunning .transform_data()\u001b[0m\n",
      "\u001b[1;35mINFO:\u001b[0m \u001b[36mHumblCompassBacktestFetcher\u001b[0m || \u001b[32mEND: fetch_data (sync) - Total time: 1.1162s\u001b[0m\n"
     ]
    },
    {
     "data": {
      "text/html": [
       "<div><style>\n",
       ".dataframe > thead > tr,\n",
       ".dataframe > tbody > tr {\n",
       "  text-align: right;\n",
       "  white-space: pre-wrap;\n",
       "}\n",
       "</style>\n",
       "<small>shape: (4, 8)</small><table border=\"1\" class=\"dataframe\"><thead><tr><th>humbl_regime</th><th>avg_total_return_pct</th><th>avg_ann_return_pct</th><th>avg_win_rate_pct</th><th>avg_volatility</th><th>avg_sharpe_ratio</th><th>avg_days_in_regime</th><th>instance_count</th></tr><tr><td>str</td><td>f64</td><td>f64</td><td>f64</td><td>f64</td><td>f64</td><td>f64</td><td>u32</td></tr></thead><tbody><tr><td>&quot;humblBOOM&quot;</td><td>9.810753</td><td>38.032048</td><td>55.978975</td><td>15.898932</td><td>2.327901</td><td>75.69251</td><td>26</td></tr><tr><td>&quot;humblBOUNCE&quot;</td><td>5.318375</td><td>12.756193</td><td>53.689168</td><td>15.259494</td><td>0.652232</td><td>99.376766</td><td>25</td></tr><tr><td>&quot;humblBLOAT&quot;</td><td>-3.248901</td><td>-6.169892</td><td>50.204638</td><td>22.879033</td><td>-0.395027</td><td>101.212824</td><td>24</td></tr><tr><td>&quot;humblBUST&quot;</td><td>-2.886613</td><td>-1.227362</td><td>50.15873</td><td>26.251861</td><td>-0.007181</td><td>105.855873</td><td>24</td></tr></tbody></table></div>"
      ],
      "text/plain": [
       "shape: (4, 8)\n",
       "┌────────────┬────────────┬────────────┬───────────┬───────────┬───────────┬───────────┬───────────┐\n",
       "│ humbl_regi ┆ avg_total_ ┆ avg_ann_re ┆ avg_win_r ┆ avg_volat ┆ avg_sharp ┆ avg_days_ ┆ instance_ │\n",
       "│ me         ┆ return_pct ┆ turn_pct   ┆ ate_pct   ┆ ility     ┆ e_ratio   ┆ in_regime ┆ count     │\n",
       "│ ---        ┆ ---        ┆ ---        ┆ ---       ┆ ---       ┆ ---       ┆ ---       ┆ ---       │\n",
       "│ str        ┆ f64        ┆ f64        ┆ f64       ┆ f64       ┆ f64       ┆ f64       ┆ u32       │\n",
       "╞════════════╪════════════╪════════════╪═══════════╪═══════════╪═══════════╪═══════════╪═══════════╡\n",
       "│ humblBOOM  ┆ 9.810753   ┆ 38.032048  ┆ 55.978975 ┆ 15.898932 ┆ 2.327901  ┆ 75.69251  ┆ 26        │\n",
       "│ humblBOUNC ┆ 5.318375   ┆ 12.756193  ┆ 53.689168 ┆ 15.259494 ┆ 0.652232  ┆ 99.376766 ┆ 25        │\n",
       "│ E          ┆            ┆            ┆           ┆           ┆           ┆           ┆           │\n",
       "│ humblBLOAT ┆ -3.248901  ┆ -6.169892  ┆ 50.204638 ┆ 22.879033 ┆ -0.395027 ┆ 101.21282 ┆ 24        │\n",
       "│            ┆            ┆            ┆           ┆           ┆           ┆ 4         ┆           │\n",
       "│ humblBUST  ┆ -2.886613  ┆ -1.227362  ┆ 50.15873  ┆ 26.251861 ┆ -0.007181 ┆ 105.85587 ┆ 24        │\n",
       "│            ┆            ┆            ┆           ┆           ┆           ┆ 3         ┆           │\n",
       "└────────────┴────────────┴────────────┴───────────┴───────────┴───────────┴───────────┴───────────┘"
      ]
     },
     "execution_count": 6,
     "metadata": {},
     "output_type": "execute_result"
    }
   ],
   "source": [
    "%load_ext autoreload\n",
    "%autoreload 2\n",
    "from humbldata.toolbox.toolbox_controller import Toolbox\n",
    "\n",
    "toolbox = Toolbox(\n",
    "    start_date=\"1960-01-01\",\n",
    "    end_date=\"2024-12-31\",\n",
    "    membership=\"admin\",\n",
    ")\n",
    "\n",
    "compass = toolbox.fundamental.humbl_compass_backtest(\n",
    "    symbols=[\"XLY\"],\n",
    "    country=\"united_states\",\n",
    ")\n",
    "\n",
    "compass.to_polars()\n"
   ]
  },
  {
   "cell_type": "code",
   "execution_count": 19,
   "metadata": {},
   "outputs": [
    {
     "name": "stderr",
     "output_type": "stream",
     "text": [
      "\u001b[1;35mINFO:\u001b[0m \u001b[36mHumblCompassFetcher\u001b[0m || \u001b[32mSTART: fetch_data (sync)\u001b[0m\n",
      "\u001b[1;35mDEBUG:\u001b[0m \u001b[36mHumblCompassFetcher\u001b[0m || \u001b[34mRunning .transform_query()\u001b[0m\n",
      "\u001b[1;35mINFO:\u001b[0m \u001b[36mHumblCompassFetcher\u001b[0m || \u001b[32mCLI start date: 1959-09-01 and CPI start date: 1959-09-01. Dates are adjusted to account for CLI data release lag and z-score calculation window.\u001b[0m\n",
      "\u001b[1;35mDEBUG:\u001b[0m \u001b[36mHumblCompassFetcher\u001b[0m || \u001b[34mRunning .extract_data()\u001b[0m\n"
     ]
    },
    {
     "name": "stdout",
     "output_type": "stream",
     "text": [
      "The autoreload extension is already loaded. To reload it, use:\n",
      "  %reload_ext autoreload\n"
     ]
    },
    {
     "name": "stderr",
     "output_type": "stream",
     "text": [
      "\u001b[1;35mDEBUG:\u001b[0m \u001b[36mHumblCompassFetcher\u001b[0m || \u001b[34mRunning .transform_data()\u001b[0m\n",
      "\u001b[1;35mINFO:\u001b[0m \u001b[36mHumblCompassFetcher\u001b[0m || \u001b[32mEND: fetch_data (sync) - Total time: 0.4881s\u001b[0m\n"
     ]
    },
    {
     "data": {
      "text/html": [
       "<div><style>\n",
       ".dataframe > thead > tr,\n",
       ".dataframe > tbody > tr {\n",
       "  text-align: right;\n",
       "  white-space: pre-wrap;\n",
       "}\n",
       "</style>\n",
       "<small>shape: (775, 7)</small><table border=\"1\" class=\"dataframe\"><thead><tr><th>date_month_start</th><th>country</th><th>cpi</th><th>cpi_3m_delta</th><th>cli</th><th>cli_3m_delta</th><th>humbl_regime</th></tr><tr><td>date</td><td>str</td><td>f64</td><td>f64</td><td>f64</td><td>f64</td><td>str</td></tr></thead><tbody><tr><td>1959-12-01</td><td>&quot;United States&quot;</td><td>1.73</td><td>0.35</td><td>100.99</td><td>-0.71</td><td>&quot;humblBLOAT&quot;</td></tr><tr><td>1960-01-01</td><td>&quot;United States&quot;</td><td>1.03</td><td>-0.7</td><td>100.77</td><td>-0.63</td><td>&quot;humblBUST&quot;</td></tr><tr><td>1960-02-01</td><td>&quot;United States&quot;</td><td>1.73</td><td>0.35</td><td>100.46</td><td>-0.71</td><td>&quot;humblBLOAT&quot;</td></tr><tr><td>1960-04-01</td><td>&quot;United States&quot;</td><td>1.72</td><td>0.69</td><td>99.79</td><td>-0.97</td><td>&quot;humblBLOAT&quot;</td></tr><tr><td>1960-05-01</td><td>&quot;United States&quot;</td><td>1.72</td><td>-0.01</td><td>99.51</td><td>-0.95</td><td>&quot;humblBUST&quot;</td></tr><tr><td>&hellip;</td><td>&hellip;</td><td>&hellip;</td><td>&hellip;</td><td>&hellip;</td><td>&hellip;</td><td>&hellip;</td></tr><tr><td>2024-08-01</td><td>&quot;United States&quot;</td><td>2.53</td><td>-0.74</td><td>99.89</td><td>0.15</td><td>&quot;humblBOOM&quot;</td></tr><tr><td>2024-09-01</td><td>&quot;United States&quot;</td><td>2.44</td><td>-0.53</td><td>100.02</td><td>0.28</td><td>&quot;humblBOOM&quot;</td></tr><tr><td>2024-10-01</td><td>&quot;United States&quot;</td><td>2.6</td><td>-0.3</td><td>100.2</td><td>0.4</td><td>&quot;humblBOOM&quot;</td></tr><tr><td>2024-11-01</td><td>&quot;United States&quot;</td><td>2.75</td><td>0.22</td><td>100.39</td><td>0.5</td><td>&quot;humblBOUNCE&quot;</td></tr><tr><td>2024-12-01</td><td>&quot;United States&quot;</td><td>2.89</td><td>0.45</td><td>100.57</td><td>0.55</td><td>&quot;humblBOUNCE&quot;</td></tr></tbody></table></div>"
      ],
      "text/plain": [
       "shape: (775, 7)\n",
       "┌──────────────────┬───────────────┬──────┬──────────────┬────────┬──────────────┬──────────────┐\n",
       "│ date_month_start ┆ country       ┆ cpi  ┆ cpi_3m_delta ┆ cli    ┆ cli_3m_delta ┆ humbl_regime │\n",
       "│ ---              ┆ ---           ┆ ---  ┆ ---          ┆ ---    ┆ ---          ┆ ---          │\n",
       "│ date             ┆ str           ┆ f64  ┆ f64          ┆ f64    ┆ f64          ┆ str          │\n",
       "╞══════════════════╪═══════════════╪══════╪══════════════╪════════╪══════════════╪══════════════╡\n",
       "│ 1959-12-01       ┆ United States ┆ 1.73 ┆ 0.35         ┆ 100.99 ┆ -0.71        ┆ humblBLOAT   │\n",
       "│ 1960-01-01       ┆ United States ┆ 1.03 ┆ -0.7         ┆ 100.77 ┆ -0.63        ┆ humblBUST    │\n",
       "│ 1960-02-01       ┆ United States ┆ 1.73 ┆ 0.35         ┆ 100.46 ┆ -0.71        ┆ humblBLOAT   │\n",
       "│ 1960-04-01       ┆ United States ┆ 1.72 ┆ 0.69         ┆ 99.79  ┆ -0.97        ┆ humblBLOAT   │\n",
       "│ 1960-05-01       ┆ United States ┆ 1.72 ┆ -0.01        ┆ 99.51  ┆ -0.95        ┆ humblBUST    │\n",
       "│ …                ┆ …             ┆ …    ┆ …            ┆ …      ┆ …            ┆ …            │\n",
       "│ 2024-08-01       ┆ United States ┆ 2.53 ┆ -0.74        ┆ 99.89  ┆ 0.15         ┆ humblBOOM    │\n",
       "│ 2024-09-01       ┆ United States ┆ 2.44 ┆ -0.53        ┆ 100.02 ┆ 0.28         ┆ humblBOOM    │\n",
       "│ 2024-10-01       ┆ United States ┆ 2.6  ┆ -0.3         ┆ 100.2  ┆ 0.4          ┆ humblBOOM    │\n",
       "│ 2024-11-01       ┆ United States ┆ 2.75 ┆ 0.22         ┆ 100.39 ┆ 0.5          ┆ humblBOUNCE  │\n",
       "│ 2024-12-01       ┆ United States ┆ 2.89 ┆ 0.45         ┆ 100.57 ┆ 0.55         ┆ humblBOUNCE  │\n",
       "└──────────────────┴───────────────┴──────┴──────────────┴────────┴──────────────┴──────────────┘"
      ]
     },
     "execution_count": 19,
     "metadata": {},
     "output_type": "execute_result"
    }
   ],
   "source": [
    "%load_ext autoreload\n",
    "%autoreload 2\n",
    "from humbldata.toolbox.toolbox_controller import Toolbox\n",
    "\n",
    "toolbox = Toolbox(\n",
    "    start_date=\"1960-01-01\",\n",
    "    end_date=\"2024-12-31\",\n",
    "    membership=\"admin\",\n",
    ")\n",
    "\n",
    "# # Direct compass results\n",
    "# results = toolbox.fundamental.humbl_compass(country=\"united_states\")\n",
    "# results\n",
    "\n",
    "# Chained backtest\n",
    "results = toolbox.fundamental.humbl_compass(country=\"united_states\")#.backtest(symbols=[\"SPY\"])\n",
    "results.to_polars(equity_data=False)"
   ]
  },
  {
   "cell_type": "code",
   "execution_count": 9,
   "metadata": {},
   "outputs": [
    {
     "ename": "AttributeError",
     "evalue": "'HumblObject' object has no attribute 'backtest'",
     "output_type": "error",
     "traceback": [
      "\u001b[0;31m---------------------------------------------------------------------------\u001b[0m",
      "\u001b[0;31mAttributeError\u001b[0m                            Traceback (most recent call last)",
      "Cell \u001b[0;32mIn[9], line 1\u001b[0m\n\u001b[0;32m----> 1\u001b[0m results \u001b[38;5;241m=\u001b[39m \u001b[43mresults\u001b[49m\u001b[38;5;241;43m.\u001b[39;49m\u001b[43mbacktest\u001b[49m(symbols\u001b[38;5;241m=\u001b[39m[\u001b[38;5;124m\"\u001b[39m\u001b[38;5;124mSPY\u001b[39m\u001b[38;5;124m\"\u001b[39m])\n",
      "File \u001b[0;32m~/github/humblFINANCE-org/humblDATA/menv/lib/python3.12/site-packages/pydantic/main.py:892\u001b[0m, in \u001b[0;36mBaseModel.__getattr__\u001b[0;34m(self, item)\u001b[0m\n\u001b[1;32m    889\u001b[0m     \u001b[38;5;28;01mreturn\u001b[39;00m \u001b[38;5;28msuper\u001b[39m()\u001b[38;5;241m.\u001b[39m\u001b[38;5;21m__getattribute__\u001b[39m(item)  \u001b[38;5;66;03m# Raises AttributeError if appropriate\u001b[39;00m\n\u001b[1;32m    890\u001b[0m \u001b[38;5;28;01melse\u001b[39;00m:\n\u001b[1;32m    891\u001b[0m     \u001b[38;5;66;03m# this is the current error\u001b[39;00m\n\u001b[0;32m--> 892\u001b[0m     \u001b[38;5;28;01mraise\u001b[39;00m \u001b[38;5;167;01mAttributeError\u001b[39;00m(\u001b[38;5;124mf\u001b[39m\u001b[38;5;124m'\u001b[39m\u001b[38;5;132;01m{\u001b[39;00m\u001b[38;5;28mtype\u001b[39m(\u001b[38;5;28mself\u001b[39m)\u001b[38;5;241m.\u001b[39m\u001b[38;5;18m__name__\u001b[39m\u001b[38;5;132;01m!r}\u001b[39;00m\u001b[38;5;124m object has no attribute \u001b[39m\u001b[38;5;132;01m{\u001b[39;00mitem\u001b[38;5;132;01m!r}\u001b[39;00m\u001b[38;5;124m'\u001b[39m)\n",
      "\u001b[0;31mAttributeError\u001b[0m: 'HumblObject' object has no attribute 'backtest'"
     ]
    }
   ],
   "source": [
    "results = results.backtest(symbols=[\"SPY\"])"
   ]
  },
  {
   "cell_type": "code",
   "execution_count": 12,
   "metadata": {},
   "outputs": [
    {
     "data": {
      "text/html": [
       "<div><style>\n",
       ".dataframe > thead > tr,\n",
       ".dataframe > tbody > tr {\n",
       "  text-align: right;\n",
       "  white-space: pre-wrap;\n",
       "}\n",
       "</style>\n",
       "<small>shape: (4, 8)</small><table border=\"1\" class=\"dataframe\"><thead><tr><th>humbl_regime</th><th>avg_total_return_pct</th><th>avg_ann_return_pct</th><th>avg_win_rate_pct</th><th>avg_volatility</th><th>avg_sharpe_ratio</th><th>avg_days_in_regime</th><th>instance_count</th></tr><tr><td>str</td><td>f64</td><td>f64</td><td>f64</td><td>f64</td><td>f64</td><td>f64</td><td>u32</td></tr></thead><tbody><tr><td>&quot;humblBOOM&quot;</td><td>8.866914</td><td>13.015956</td><td>53.367633</td><td>14.737556</td><td>0.970425</td><td>139.419083</td><td>24</td></tr><tr><td>&quot;humblBOUNCE&quot;</td><td>7.026703</td><td>17.67854</td><td>54.827969</td><td>14.45156</td><td>1.17435</td><td>129.857936</td><td>23</td></tr><tr><td>&quot;humblBLOAT&quot;</td><td>0.068256</td><td>3.595861</td><td>52.032136</td><td>15.62396</td><td>0.300621</td><td>89.773157</td><td>33</td></tr><tr><td>&quot;humblBUST&quot;</td><td>13.365159</td><td>10.310533</td><td>53.736842</td><td>18.967874</td><td>0.974767</td><td>177.061053</td><td>27</td></tr></tbody></table></div>"
      ],
      "text/plain": [
       "shape: (4, 8)\n",
       "┌────────────┬────────────┬────────────┬───────────┬───────────┬───────────┬───────────┬───────────┐\n",
       "│ humbl_regi ┆ avg_total_ ┆ avg_ann_re ┆ avg_win_r ┆ avg_volat ┆ avg_sharp ┆ avg_days_ ┆ instance_ │\n",
       "│ me         ┆ return_pct ┆ turn_pct   ┆ ate_pct   ┆ ility     ┆ e_ratio   ┆ in_regime ┆ count     │\n",
       "│ ---        ┆ ---        ┆ ---        ┆ ---       ┆ ---       ┆ ---       ┆ ---       ┆ ---       │\n",
       "│ str        ┆ f64        ┆ f64        ┆ f64       ┆ f64       ┆ f64       ┆ f64       ┆ u32       │\n",
       "╞════════════╪════════════╪════════════╪═══════════╪═══════════╪═══════════╪═══════════╪═══════════╡\n",
       "│ humblBOOM  ┆ 8.866914   ┆ 13.015956  ┆ 53.367633 ┆ 14.737556 ┆ 0.970425  ┆ 139.41908 ┆ 24        │\n",
       "│            ┆            ┆            ┆           ┆           ┆           ┆ 3         ┆           │\n",
       "│ humblBOUNC ┆ 7.026703   ┆ 17.67854   ┆ 54.827969 ┆ 14.45156  ┆ 1.17435   ┆ 129.85793 ┆ 23        │\n",
       "│ E          ┆            ┆            ┆           ┆           ┆           ┆ 6         ┆           │\n",
       "│ humblBLOAT ┆ 0.068256   ┆ 3.595861   ┆ 52.032136 ┆ 15.62396  ┆ 0.300621  ┆ 89.773157 ┆ 33        │\n",
       "│ humblBUST  ┆ 13.365159  ┆ 10.310533  ┆ 53.736842 ┆ 18.967874 ┆ 0.974767  ┆ 177.06105 ┆ 27        │\n",
       "│            ┆            ┆            ┆           ┆           ┆           ┆ 3         ┆           │\n",
       "└────────────┴────────────┴────────────┴───────────┴───────────┴───────────┴───────────┴───────────┘"
      ]
     },
     "execution_count": 12,
     "metadata": {},
     "output_type": "execute_result"
    }
   ],
   "source": [
    "results.to_polars()"
   ]
  },
  {
   "cell_type": "code",
   "execution_count": null,
   "metadata": {},
   "outputs": [],
   "source": []
  }
 ],
 "metadata": {
  "kernelspec": {
   "display_name": "Python 3",
   "language": "python",
   "name": "python3"
  },
  "language_info": {
   "codemirror_mode": {
    "name": "ipython",
    "version": 3
   },
   "file_extension": ".py",
   "mimetype": "text/x-python",
   "name": "python",
   "nbconvert_exporter": "python",
   "pygments_lexer": "ipython3",
   "version": "3.12.7"
  }
 },
 "nbformat": 4,
 "nbformat_minor": 2
}
