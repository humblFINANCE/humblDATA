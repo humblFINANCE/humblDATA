{
 "cells": [
  {
   "cell_type": "code",
   "execution_count": 5,
   "metadata": {},
   "outputs": [
    {
     "name": "stdout",
     "output_type": "stream",
     "text": [
      "The autoreload extension is already loaded. To reload it, use:\n",
      "  %reload_ext autoreload\n"
     ]
    }
   ],
   "source": [
    "%load_ext autoreload\n",
    "%autoreload 2\n",
    "\n",
    "import polars as pl\n",
    "from openbb import obb\n",
    "\n",
    "from humbldata.core.utils.env import Env\n",
    "from humbldata.core.utils.openbb_helpers import obb_login\n",
    "\n",
    "# obb_login()\n",
    "obb.account.login(pat=Env().OBB_PAT, remember_me=True)"
   ]
  },
  {
   "cell_type": "code",
   "execution_count": 6,
   "metadata": {},
   "outputs": [
    {
     "name": "stderr",
     "output_type": "stream",
     "text": [
      "\u001b[1;35mDEBUG:\u001b[0m \u001b[36mFundamentalController\u001b[0m || \u001b[34mInitializing HumblCompassBacktest calculation with params: {'symbols': ['XLY'], 'country': 'united_states'}\u001b[0m\n",
      "\u001b[1;35mDEBUG:\u001b[0m \u001b[36mFundamentalController\u001b[0m || \u001b[34mFetching HumblCompassBacktest data\u001b[0m\n",
      "\u001b[1;35mINFO:\u001b[0m \u001b[36mHumblCompassBacktestFetcher\u001b[0m || \u001b[32mSTART: fetch_data (sync)\u001b[0m\n",
      "\u001b[1;35mDEBUG:\u001b[0m \u001b[36mHumblCompassBacktestFetcher\u001b[0m || \u001b[34mRunning .transform_query()\u001b[0m\n",
      "\u001b[1;35mDEBUG:\u001b[0m \u001b[36mHumblCompassBacktestFetcher\u001b[0m || \u001b[34mRunning .extract_data()\u001b[0m\n",
      "\u001b[1;35mINFO:\u001b[0m \u001b[36mHumblCompassFetcher\u001b[0m || \u001b[32mSTART: fetch_data (sync)\u001b[0m\n",
      "\u001b[1;35mDEBUG:\u001b[0m \u001b[36mHumblCompassFetcher\u001b[0m || \u001b[34mRunning .transform_query()\u001b[0m\n",
      "\u001b[1;35mINFO:\u001b[0m \u001b[36mHumblCompassFetcher\u001b[0m || \u001b[32mCLI start date: 1959-09-01 and CPI start date: 1959-09-01. Dates are adjusted to account for CLI data release lag and z-score calculation window.\u001b[0m\n",
      "\u001b[1;35mDEBUG:\u001b[0m \u001b[36mHumblCompassFetcher\u001b[0m || \u001b[34mRunning .extract_data()\u001b[0m\n"
     ]
    },
    {
     "name": "stdout",
     "output_type": "stream",
     "text": [
      "The autoreload extension is already loaded. To reload it, use:\n",
      "  %reload_ext autoreload\n"
     ]
    },
    {
     "name": "stderr",
     "output_type": "stream",
     "text": [
      "\u001b[1;35mDEBUG:\u001b[0m \u001b[36mHumblCompassFetcher\u001b[0m || \u001b[34mRunning .transform_data()\u001b[0m\n",
      "\u001b[1;35mINFO:\u001b[0m \u001b[36mHumblCompassFetcher\u001b[0m || \u001b[32mEND: fetch_data (sync) - Total time: 0.4970s\u001b[0m\n",
      "\u001b[1;35mDEBUG:\u001b[0m \u001b[36mHumblCompassBacktestFetcher\u001b[0m || \u001b[34mRunning .transform_data()\u001b[0m\n",
      "\u001b[1;35mINFO:\u001b[0m \u001b[36mHumblCompassBacktestFetcher\u001b[0m || \u001b[32mEND: fetch_data (sync) - Total time: 1.1162s\u001b[0m\n"
     ]
    },
    {
     "data": {
      "text/html": [
       "<div><style>\n",
       ".dataframe > thead > tr,\n",
       ".dataframe > tbody > tr {\n",
       "  text-align: right;\n",
       "  white-space: pre-wrap;\n",
       "}\n",
       "</style>\n",
       "<small>shape: (4, 8)</small><table border=\"1\" class=\"dataframe\"><thead><tr><th>humbl_regime</th><th>avg_total_return_pct</th><th>avg_ann_return_pct</th><th>avg_win_rate_pct</th><th>avg_volatility</th><th>avg_sharpe_ratio</th><th>avg_days_in_regime</th><th>instance_count</th></tr><tr><td>str</td><td>f64</td><td>f64</td><td>f64</td><td>f64</td><td>f64</td><td>f64</td><td>u32</td></tr></thead><tbody><tr><td>&quot;humblBOOM&quot;</td><td>9.810753</td><td>38.032048</td><td>55.978975</td><td>15.898932</td><td>2.327901</td><td>75.69251</td><td>26</td></tr><tr><td>&quot;humblBOUNCE&quot;</td><td>5.318375</td><td>12.756193</td><td>53.689168</td><td>15.259494</td><td>0.652232</td><td>99.376766</td><td>25</td></tr><tr><td>&quot;humblBLOAT&quot;</td><td>-3.248901</td><td>-6.169892</td><td>50.204638</td><td>22.879033</td><td>-0.395027</td><td>101.212824</td><td>24</td></tr><tr><td>&quot;humblBUST&quot;</td><td>-2.886613</td><td>-1.227362</td><td>50.15873</td><td>26.251861</td><td>-0.007181</td><td>105.855873</td><td>24</td></tr></tbody></table></div>"
      ],
      "text/plain": [
       "shape: (4, 8)\n",
       "┌────────────┬────────────┬────────────┬───────────┬───────────┬───────────┬───────────┬───────────┐\n",
       "│ humbl_regi ┆ avg_total_ ┆ avg_ann_re ┆ avg_win_r ┆ avg_volat ┆ avg_sharp ┆ avg_days_ ┆ instance_ │\n",
       "│ me         ┆ return_pct ┆ turn_pct   ┆ ate_pct   ┆ ility     ┆ e_ratio   ┆ in_regime ┆ count     │\n",
       "│ ---        ┆ ---        ┆ ---        ┆ ---       ┆ ---       ┆ ---       ┆ ---       ┆ ---       │\n",
       "│ str        ┆ f64        ┆ f64        ┆ f64       ┆ f64       ┆ f64       ┆ f64       ┆ u32       │\n",
       "╞════════════╪════════════╪════════════╪═══════════╪═══════════╪═══════════╪═══════════╪═══════════╡\n",
       "│ humblBOOM  ┆ 9.810753   ┆ 38.032048  ┆ 55.978975 ┆ 15.898932 ┆ 2.327901  ┆ 75.69251  ┆ 26        │\n",
       "│ humblBOUNC ┆ 5.318375   ┆ 12.756193  ┆ 53.689168 ┆ 15.259494 ┆ 0.652232  ┆ 99.376766 ┆ 25        │\n",
       "│ E          ┆            ┆            ┆           ┆           ┆           ┆           ┆           │\n",
       "│ humblBLOAT ┆ -3.248901  ┆ -6.169892  ┆ 50.204638 ┆ 22.879033 ┆ -0.395027 ┆ 101.21282 ┆ 24        │\n",
       "│            ┆            ┆            ┆           ┆           ┆           ┆ 4         ┆           │\n",
       "│ humblBUST  ┆ -2.886613  ┆ -1.227362  ┆ 50.15873  ┆ 26.251861 ┆ -0.007181 ┆ 105.85587 ┆ 24        │\n",
       "│            ┆            ┆            ┆           ┆           ┆           ┆ 3         ┆           │\n",
       "└────────────┴────────────┴────────────┴───────────┴───────────┴───────────┴───────────┴───────────┘"
      ]
     },
     "execution_count": 6,
     "metadata": {},
     "output_type": "execute_result"
    }
   ],
   "source": [
    "%load_ext autoreload\n",
    "%autoreload 2\n",
    "from humbldata.toolbox.toolbox_controller import Toolbox\n",
    "\n",
    "toolbox = Toolbox(\n",
    "    start_date=\"1960-01-01\",\n",
    "    end_date=\"2024-12-31\",\n",
    "    membership=\"admin\",\n",
    ")\n",
    "\n",
    "compass = toolbox.fundamental.humbl_compass_backtest(\n",
    "    symbols=[\"XLY\"],\n",
    "    country=\"united_states\",\n",
    ")\n",
    "\n",
    "compass.to_polars()\n"
   ]
  },
  {
   "cell_type": "code",
   "execution_count": 21,
   "metadata": {},
   "outputs": [
    {
     "name": "stderr",
     "output_type": "stream",
     "text": [
      "\u001b[1;35mINFO:\u001b[0m \u001b[36mHumblCompassFetcher\u001b[0m || \u001b[32mSTART: fetch_data (sync)\u001b[0m\n",
      "\u001b[1;35mDEBUG:\u001b[0m \u001b[36mHumblCompassFetcher\u001b[0m || \u001b[34mRunning .transform_query()\u001b[0m\n",
      "\u001b[1;35mINFO:\u001b[0m \u001b[36mHumblCompassFetcher\u001b[0m || \u001b[32mCLI start date: 1959-09-01 and CPI start date: 1959-09-01. Dates are adjusted to account for CLI data release lag and z-score calculation window.\u001b[0m\n",
      "\u001b[1;35mDEBUG:\u001b[0m \u001b[36mHumblCompassFetcher\u001b[0m || \u001b[34mRunning .extract_data()\u001b[0m\n"
     ]
    },
    {
     "name": "stdout",
     "output_type": "stream",
     "text": [
      "The autoreload extension is already loaded. To reload it, use:\n",
      "  %reload_ext autoreload\n"
     ]
    },
    {
     "name": "stderr",
     "output_type": "stream",
     "text": [
      "\u001b[1;35mDEBUG:\u001b[0m \u001b[36mHumblCompassFetcher\u001b[0m || \u001b[34mRunning .transform_data()\u001b[0m\n",
      "\u001b[1;35mINFO:\u001b[0m \u001b[36mHumblCompassFetcher\u001b[0m || \u001b[32mEND: fetch_data (sync) - Total time: 0.7494s\u001b[0m\n",
      "\u001b[1;35mINFO:\u001b[0m \u001b[36mHumblCompassBacktestFetcher\u001b[0m || \u001b[32mSTART: fetch_data (sync)\u001b[0m\n",
      "\u001b[1;35mDEBUG:\u001b[0m \u001b[36mHumblCompassBacktestFetcher\u001b[0m || \u001b[34mRunning .transform_query()\u001b[0m\n",
      "\u001b[1;35mDEBUG:\u001b[0m \u001b[36mHumblCompassBacktestFetcher\u001b[0m || \u001b[34mRunning .extract_data()\u001b[0m\n",
      "\u001b[1;35mDEBUG:\u001b[0m \u001b[36mHumblCompassBacktestFetcher\u001b[0m || \u001b[34mRunning .transform_data()\u001b[0m\n",
      "\u001b[1;35mINFO:\u001b[0m \u001b[36mHumblCompassBacktestFetcher\u001b[0m || \u001b[32mEND: fetch_data (sync) - Total time: 0.6995s\u001b[0m\n"
     ]
    },
    {
     "data": {
      "text/html": [
       "<div><style>\n",
       ".dataframe > thead > tr,\n",
       ".dataframe > tbody > tr {\n",
       "  text-align: right;\n",
       "  white-space: pre-wrap;\n",
       "}\n",
       "</style>\n",
       "<small>shape: (4, 8)</small><table border=\"1\" class=\"dataframe\"><thead><tr><th>humbl_regime</th><th>avg_total_return_pct</th><th>avg_ann_return_pct</th><th>avg_win_rate_pct</th><th>avg_volatility</th><th>avg_sharpe_ratio</th><th>avg_days_in_regime</th><th>instance_count</th></tr><tr><td>str</td><td>f64</td><td>f64</td><td>f64</td><td>f64</td><td>f64</td><td>f64</td><td>u32</td></tr></thead><tbody><tr><td>&quot;humblBOOM&quot;</td><td>7.366343</td><td>24.752705</td><td>55.811623</td><td>13.450948</td><td>1.713621</td><td>89.825651</td><td>33</td></tr><tr><td>&quot;humblBOUNCE&quot;</td><td>6.37549</td><td>14.206191</td><td>55.013674</td><td>12.820819</td><td>1.018245</td><td>97.435734</td><td>31</td></tr><tr><td>&quot;humblBLOAT&quot;</td><td>-1.174695</td><td>-1.358542</td><td>51.034483</td><td>16.949975</td><td>-0.052288</td><td>98.129885</td><td>29</td></tr><tr><td>&quot;humblBUST&quot;</td><td>-1.004682</td><td>2.517376</td><td>51.393035</td><td>20.798876</td><td>0.23574</td><td>100.305473</td><td>30</td></tr></tbody></table></div>"
      ],
      "text/plain": [
       "shape: (4, 8)\n",
       "┌────────────┬────────────┬────────────┬───────────┬───────────┬───────────┬───────────┬───────────┐\n",
       "│ humbl_regi ┆ avg_total_ ┆ avg_ann_re ┆ avg_win_r ┆ avg_volat ┆ avg_sharp ┆ avg_days_ ┆ instance_ │\n",
       "│ me         ┆ return_pct ┆ turn_pct   ┆ ate_pct   ┆ ility     ┆ e_ratio   ┆ in_regime ┆ count     │\n",
       "│ ---        ┆ ---        ┆ ---        ┆ ---       ┆ ---       ┆ ---       ┆ ---       ┆ ---       │\n",
       "│ str        ┆ f64        ┆ f64        ┆ f64       ┆ f64       ┆ f64       ┆ f64       ┆ u32       │\n",
       "╞════════════╪════════════╪════════════╪═══════════╪═══════════╪═══════════╪═══════════╪═══════════╡\n",
       "│ humblBOOM  ┆ 7.366343   ┆ 24.752705  ┆ 55.811623 ┆ 13.450948 ┆ 1.713621  ┆ 89.825651 ┆ 33        │\n",
       "│ humblBOUNC ┆ 6.37549    ┆ 14.206191  ┆ 55.013674 ┆ 12.820819 ┆ 1.018245  ┆ 97.435734 ┆ 31        │\n",
       "│ E          ┆            ┆            ┆           ┆           ┆           ┆           ┆           │\n",
       "│ humblBLOAT ┆ -1.174695  ┆ -1.358542  ┆ 51.034483 ┆ 16.949975 ┆ -0.052288 ┆ 98.129885 ┆ 29        │\n",
       "│ humblBUST  ┆ -1.004682  ┆ 2.517376   ┆ 51.393035 ┆ 20.798876 ┆ 0.23574   ┆ 100.30547 ┆ 30        │\n",
       "│            ┆            ┆            ┆           ┆           ┆           ┆ 3         ┆           │\n",
       "└────────────┴────────────┴────────────┴───────────┴───────────┴───────────┴───────────┴───────────┘"
      ]
     },
     "execution_count": 21,
     "metadata": {},
     "output_type": "execute_result"
    }
   ],
   "source": [
    "%load_ext autoreload\n",
    "%autoreload 2\n",
    "from humbldata.toolbox.toolbox_controller import Toolbox\n",
    "\n",
    "toolbox = Toolbox(\n",
    "    start_date=\"1960-01-01\",\n",
    "    end_date=\"2024-12-31\",\n",
    "    membership=\"admin\",\n",
    ")\n",
    "\n",
    "# # Direct compass results\n",
    "# results = toolbox.fundamental.humbl_compass(country=\"united_states\")\n",
    "# results\n",
    "\n",
    "# Chained backtest\n",
    "results = toolbox.fundamental.humbl_compass(country=\"united_states\").backtest(symbols=[\"SPY\"])\n",
    "results.to_polars(equity_data=False)"
   ]
  }
 ],
 "metadata": {
  "kernelspec": {
   "display_name": "Python 3",
   "language": "python",
   "name": "python3"
  },
  "language_info": {
   "codemirror_mode": {
    "name": "ipython",
    "version": 3
   },
   "file_extension": ".py",
   "mimetype": "text/x-python",
   "name": "python",
   "nbconvert_exporter": "python",
   "pygments_lexer": "ipython3",
   "version": "3.12.7"
  }
 },
 "nbformat": 4,
 "nbformat_minor": 2
}
