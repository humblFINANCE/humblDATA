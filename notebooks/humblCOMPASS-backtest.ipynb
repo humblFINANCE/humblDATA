{
 "cells": [
  {
   "cell_type": "code",
   "execution_count": 1,
   "metadata": {},
   "outputs": [],
   "source": [
    "%load_ext autoreload\n",
    "%autoreload 2\n",
    "\n",
    "import polars as pl\n",
    "from openbb import obb\n",
    "\n",
    "from humbldata.core.utils.env import Env\n",
    "from humbldata.core.utils.openbb_helpers import obb_login\n",
    "\n",
    "# obb_login()\n",
    "obb.account.login(pat=Env().OBB_PAT, remember_me=True)"
   ]
  },
  {
   "cell_type": "code",
   "execution_count": 3,
   "metadata": {},
   "outputs": [
    {
     "name": "stderr",
     "output_type": "stream",
     "text": [
      "\u001b[1;35mDEBUG:\u001b[0m \u001b[36mFundamentalController\u001b[0m || \u001b[34mInitializing HumblCompassBacktest calculation with params: {'symbols': ['XLY'], 'country': 'united_states'}\u001b[0m\n",
      "\u001b[1;35mDEBUG:\u001b[0m \u001b[36mFundamentalController\u001b[0m || \u001b[34mFetching HumblCompassBacktest data\u001b[0m\n",
      "\u001b[1;35mINFO:\u001b[0m \u001b[36mHumblCompassBacktestFetcher\u001b[0m || \u001b[32mSTART: fetch_data (sync)\u001b[0m\n",
      "\u001b[1;35mDEBUG:\u001b[0m \u001b[36mHumblCompassBacktestFetcher\u001b[0m || \u001b[34mRunning .transform_query()\u001b[0m\n",
      "\u001b[1;35mDEBUG:\u001b[0m \u001b[36mHumblCompassBacktestFetcher\u001b[0m || \u001b[34mRunning .extract_data()\u001b[0m\n",
      "\u001b[1;35mINFO:\u001b[0m \u001b[36mHumblCompassFetcher\u001b[0m || \u001b[32mSTART: fetch_data (sync)\u001b[0m\n",
      "\u001b[1;35mDEBUG:\u001b[0m \u001b[36mHumblCompassFetcher\u001b[0m || \u001b[34mRunning .transform_query()\u001b[0m\n",
      "\u001b[1;35mINFO:\u001b[0m \u001b[36mHumblCompassFetcher\u001b[0m || \u001b[32mCLI start date: 1959-09-01 and CPI start date: 1959-09-01. Dates are adjusted to account for CLI data release lag and z-score calculation window.\u001b[0m\n",
      "\u001b[1;35mDEBUG:\u001b[0m \u001b[36mHumblCompassFetcher\u001b[0m || \u001b[34mRunning .extract_data()\u001b[0m\n"
     ]
    },
    {
     "name": "stdout",
     "output_type": "stream",
     "text": [
      "The autoreload extension is already loaded. To reload it, use:\n",
      "  %reload_ext autoreload\n"
     ]
    },
    {
     "name": "stderr",
     "output_type": "stream",
     "text": [
      "\u001b[1;35mDEBUG:\u001b[0m \u001b[36mHumblCompassFetcher\u001b[0m || \u001b[34mRunning .transform_data()\u001b[0m\n",
      "\u001b[1;35mINFO:\u001b[0m \u001b[36mHumblCompassFetcher\u001b[0m || \u001b[32mEND: fetch_data (sync) - Total time: 0.4805s\u001b[0m\n",
      "\u001b[1;35mDEBUG:\u001b[0m \u001b[36mHumblCompassBacktestFetcher\u001b[0m || \u001b[34mRunning .transform_data()\u001b[0m\n",
      "\u001b[1;35mINFO:\u001b[0m \u001b[36mHumblCompassBacktestFetcher\u001b[0m || \u001b[32mEND: fetch_data (sync) - Total time: 1.5196s\u001b[0m\n"
     ]
    },
    {
     "data": {
      "text/html": [
       "<div><style>\n",
       ".dataframe > thead > tr,\n",
       ".dataframe > tbody > tr {\n",
       "  text-align: right;\n",
       "  white-space: pre-wrap;\n",
       "}\n",
       "</style>\n",
       "<small>shape: (4, 8)</small><table border=\"1\" class=\"dataframe\"><thead><tr><th>humbl_regime</th><th>avg_total_return_pct</th><th>avg_ann_return_pct</th><th>avg_win_rate_pct</th><th>avg_volatility</th><th>avg_sharpe_ratio</th><th>avg_days_in_regime</th><th>instance_count</th></tr><tr><td>str</td><td>f64</td><td>f64</td><td>f64</td><td>f64</td><td>f64</td><td>f64</td><td>u32</td></tr></thead><tbody><tr><td>&quot;humblBOOM&quot;</td><td>9.810753</td><td>38.032048</td><td>55.978975</td><td>15.898932</td><td>2.327901</td><td>75.69251</td><td>26</td></tr><tr><td>&quot;humblBOUNCE&quot;</td><td>5.315517</td><td>12.740491</td><td>53.689168</td><td>15.25948</td><td>0.651425</td><td>99.376766</td><td>25</td></tr><tr><td>&quot;humblBLOAT&quot;</td><td>-3.248901</td><td>-6.169892</td><td>50.204638</td><td>22.879033</td><td>-0.395027</td><td>101.212824</td><td>24</td></tr><tr><td>&quot;humblBUST&quot;</td><td>-2.886613</td><td>-1.227362</td><td>50.15873</td><td>26.251861</td><td>-0.007181</td><td>105.855873</td><td>24</td></tr></tbody></table></div>"
      ],
      "text/plain": [
       "shape: (4, 8)\n",
       "┌────────────┬────────────┬────────────┬───────────┬───────────┬───────────┬───────────┬───────────┐\n",
       "│ humbl_regi ┆ avg_total_ ┆ avg_ann_re ┆ avg_win_r ┆ avg_volat ┆ avg_sharp ┆ avg_days_ ┆ instance_ │\n",
       "│ me         ┆ return_pct ┆ turn_pct   ┆ ate_pct   ┆ ility     ┆ e_ratio   ┆ in_regime ┆ count     │\n",
       "│ ---        ┆ ---        ┆ ---        ┆ ---       ┆ ---       ┆ ---       ┆ ---       ┆ ---       │\n",
       "│ str        ┆ f64        ┆ f64        ┆ f64       ┆ f64       ┆ f64       ┆ f64       ┆ u32       │\n",
       "╞════════════╪════════════╪════════════╪═══════════╪═══════════╪═══════════╪═══════════╪═══════════╡\n",
       "│ humblBOOM  ┆ 9.810753   ┆ 38.032048  ┆ 55.978975 ┆ 15.898932 ┆ 2.327901  ┆ 75.69251  ┆ 26        │\n",
       "│ humblBOUNC ┆ 5.315517   ┆ 12.740491  ┆ 53.689168 ┆ 15.25948  ┆ 0.651425  ┆ 99.376766 ┆ 25        │\n",
       "│ E          ┆            ┆            ┆           ┆           ┆           ┆           ┆           │\n",
       "│ humblBLOAT ┆ -3.248901  ┆ -6.169892  ┆ 50.204638 ┆ 22.879033 ┆ -0.395027 ┆ 101.21282 ┆ 24        │\n",
       "│            ┆            ┆            ┆           ┆           ┆           ┆ 4         ┆           │\n",
       "│ humblBUST  ┆ -2.886613  ┆ -1.227362  ┆ 50.15873  ┆ 26.251861 ┆ -0.007181 ┆ 105.85587 ┆ 24        │\n",
       "│            ┆            ┆            ┆           ┆           ┆           ┆ 3         ┆           │\n",
       "└────────────┴────────────┴────────────┴───────────┴───────────┴───────────┴───────────┴───────────┘"
      ]
     },
     "execution_count": 3,
     "metadata": {},
     "output_type": "execute_result"
    }
   ],
   "source": [
    "%load_ext autoreload\n",
    "%autoreload 2\n",
    "from humbldata.toolbox.toolbox_controller import Toolbox\n",
    "\n",
    "toolbox = Toolbox(\n",
    "    start_date=\"1960-01-01\",\n",
    "    end_date=\"2024-12-31\",\n",
    "    membership=\"admin\",\n",
    ")\n",
    "\n",
    "compass = toolbox.fundamental.humbl_compass_backtest(\n",
    "    symbols=[\"XLY\"],\n",
    "    country=\"united_states\",\n",
    ")\n",
    "\n",
    "compass.to_polars()\n"
   ]
  },
  {
   "cell_type": "code",
   "execution_count": 3,
   "metadata": {},
   "outputs": [
    {
     "name": "stderr",
     "output_type": "stream",
     "text": [
      "\u001b[1;35mINFO:\u001b[0m \u001b[36mHumblCompassFetcher\u001b[0m || \u001b[32mSTART: fetch_data (sync)\u001b[0m\n",
      "\u001b[1;35mDEBUG:\u001b[0m \u001b[36mHumblCompassFetcher\u001b[0m || \u001b[34mRunning .transform_query()\u001b[0m\n",
      "\u001b[1;35mINFO:\u001b[0m \u001b[36mHumblCompassFetcher\u001b[0m || \u001b[32mCLI start date: 1959-09-01 and CPI start date: 1959-09-01. Dates are adjusted to account for CLI data release lag and z-score calculation window.\u001b[0m\n",
      "\u001b[1;35mDEBUG:\u001b[0m \u001b[36mHumblCompassFetcher\u001b[0m || \u001b[34mRunning .extract_data()\u001b[0m\n"
     ]
    },
    {
     "name": "stdout",
     "output_type": "stream",
     "text": [
      "The autoreload extension is already loaded. To reload it, use:\n",
      "  %reload_ext autoreload\n"
     ]
    },
    {
     "name": "stderr",
     "output_type": "stream",
     "text": [
      "\u001b[1;35mDEBUG:\u001b[0m \u001b[36mHumblCompassFetcher\u001b[0m || \u001b[34mRunning .transform_data()\u001b[0m\n",
      "\u001b[1;35mINFO:\u001b[0m \u001b[36mHumblCompassFetcher\u001b[0m || \u001b[32mEND: fetch_data (sync) - Total time: 3.9051s\u001b[0m\n"
     ]
    },
    {
     "ename": "AttributeError",
     "evalue": "'bytes' object has no attribute 'to_polars'",
     "output_type": "error",
     "traceback": [
      "\u001b[0;31m---------------------------------------------------------------------------\u001b[0m",
      "\u001b[0;31mAttributeError\u001b[0m                            Traceback (most recent call last)",
      "Cell \u001b[0;32mIn[3], line 16\u001b[0m\n\u001b[1;32m      5\u001b[0m toolbox \u001b[38;5;241m=\u001b[39m Toolbox(\n\u001b[1;32m      6\u001b[0m     start_date\u001b[38;5;241m=\u001b[39m\u001b[38;5;124m\"\u001b[39m\u001b[38;5;124m1960-01-01\u001b[39m\u001b[38;5;124m\"\u001b[39m,\n\u001b[1;32m      7\u001b[0m     end_date\u001b[38;5;241m=\u001b[39m\u001b[38;5;124m\"\u001b[39m\u001b[38;5;124m2024-12-31\u001b[39m\u001b[38;5;124m\"\u001b[39m,\n\u001b[1;32m      8\u001b[0m     membership\u001b[38;5;241m=\u001b[39m\u001b[38;5;124m\"\u001b[39m\u001b[38;5;124madmin\u001b[39m\u001b[38;5;124m\"\u001b[39m,\n\u001b[1;32m      9\u001b[0m )\n\u001b[1;32m     11\u001b[0m \u001b[38;5;66;03m# # Direct compass results\u001b[39;00m\n\u001b[1;32m     12\u001b[0m \u001b[38;5;66;03m# results = toolbox.fundamental.humbl_compass(country=\"united_states\")\u001b[39;00m\n\u001b[1;32m     13\u001b[0m \u001b[38;5;66;03m# results\u001b[39;00m\n\u001b[1;32m     14\u001b[0m \n\u001b[1;32m     15\u001b[0m \u001b[38;5;66;03m# Chained backtest\u001b[39;00m\n\u001b[0;32m---> 16\u001b[0m results \u001b[38;5;241m=\u001b[39m \u001b[43mtoolbox\u001b[49m\u001b[38;5;241;43m.\u001b[39;49m\u001b[43mfundamental\u001b[49m\u001b[38;5;241;43m.\u001b[39;49m\u001b[43mhumbl_compass\u001b[49m\u001b[43m(\u001b[49m\u001b[43mcountry\u001b[49m\u001b[38;5;241;43m=\u001b[39;49m\u001b[38;5;124;43m\"\u001b[39;49m\u001b[38;5;124;43mchina\u001b[39;49m\u001b[38;5;124;43m\"\u001b[39;49m\u001b[43m)\u001b[49m\u001b[38;5;241;43m.\u001b[39;49m\u001b[43mbacktest\u001b[49m\u001b[43m(\u001b[49m\n\u001b[1;32m     17\u001b[0m \u001b[43m    \u001b[49m\u001b[43msymbols\u001b[49m\u001b[38;5;241;43m=\u001b[39;49m\u001b[43m[\u001b[49m\u001b[38;5;124;43m\"\u001b[39;49m\u001b[38;5;124;43mSPY\u001b[39;49m\u001b[38;5;124;43m\"\u001b[39;49m\u001b[43m]\u001b[49m\n\u001b[1;32m     18\u001b[0m \u001b[43m)\u001b[49m\n\u001b[1;32m     19\u001b[0m results\u001b[38;5;241m.\u001b[39mto_polars()\n",
      "File \u001b[0;32m~/github/humblFINANCE-org/humblDATA/src/humbldata/core/standard_models/toolbox/fundamental/humbl_compass.py:1034\u001b[0m, in \u001b[0;36mHumblCompassFetcher.backtest\u001b[0;34m(self, symbols, vol_window, risk_free_rate, min_regime_days)\u001b[0m\n\u001b[1;32m   1020\u001b[0m backtest_params \u001b[38;5;241m=\u001b[39m HumblCompassBacktestQueryParams(\n\u001b[1;32m   1021\u001b[0m     symbols\u001b[38;5;241m=\u001b[39msymbols,\n\u001b[1;32m   1022\u001b[0m     start_date\u001b[38;5;241m=\u001b[39mstart_date,\n\u001b[0;32m   (...)\u001b[0m\n\u001b[1;32m   1027\u001b[0m     min_regime_days\u001b[38;5;241m=\u001b[39mmin_regime_days,\n\u001b[1;32m   1028\u001b[0m )\n\u001b[1;32m   1030\u001b[0m \u001b[38;5;66;03m# Initialize backtest fetcher with compass data\u001b[39;00m\n\u001b[1;32m   1031\u001b[0m fetcher \u001b[38;5;241m=\u001b[39m HumblCompassBacktestFetcher(\n\u001b[1;32m   1032\u001b[0m     context_params\u001b[38;5;241m=\u001b[39m\u001b[38;5;28mself\u001b[39m\u001b[38;5;241m.\u001b[39mcontext_params,\n\u001b[1;32m   1033\u001b[0m     command_params\u001b[38;5;241m=\u001b[39mbacktest_params,\n\u001b[0;32m-> 1034\u001b[0m     compass_data\u001b[38;5;241m=\u001b[39m\u001b[38;5;28;43mself\u001b[39;49m\u001b[38;5;241;43m.\u001b[39;49m\u001b[43mtransformed_data\u001b[49m\u001b[38;5;241;43m.\u001b[39;49m\u001b[43mto_polars\u001b[49m(\n\u001b[1;32m   1035\u001b[0m         collect\u001b[38;5;241m=\u001b[39m\u001b[38;5;28;01mFalse\u001b[39;00m\n\u001b[1;32m   1036\u001b[0m     ),  \u001b[38;5;66;03m# Pass the compass results\u001b[39;00m\n\u001b[1;32m   1037\u001b[0m )\n\u001b[1;32m   1039\u001b[0m \u001b[38;5;28;01mreturn\u001b[39;00m fetcher\u001b[38;5;241m.\u001b[39mfetch_data()\n",
      "\u001b[0;31mAttributeError\u001b[0m: 'bytes' object has no attribute 'to_polars'"
     ]
    }
   ],
   "source": [
    "%load_ext autoreload\n",
    "%autoreload 2\n",
    "from humbldata.toolbox.toolbox_controller import Toolbox\n",
    "\n",
    "toolbox = Toolbox(\n",
    "    start_date=\"1960-01-01\",\n",
    "    end_date=\"2024-12-31\",\n",
    "    membership=\"admin\",\n",
    ")\n",
    "\n",
    "# # Direct compass results\n",
    "# results = toolbox.fundamental.humbl_compass(country=\"united_states\")\n",
    "# results\n",
    "\n",
    "# Chained backtest\n",
    "results = toolbox.fundamental.humbl_compass(country=\"china\").backtest(\n",
    "    symbols=[\"SPY\"]\n",
    ")\n",
    "results.to_polars()"
   ]
  },
  {
   "cell_type": "code",
   "execution_count": null,
   "metadata": {},
   "outputs": [],
   "source": []
  },
  {
   "cell_type": "code",
   "execution_count": null,
   "metadata": {},
   "outputs": [],
   "source": []
  }
 ],
 "metadata": {
  "kernelspec": {
   "display_name": "Python 3",
   "language": "python",
   "name": "python3"
  },
  "language_info": {
   "codemirror_mode": {
    "name": "ipython",
    "version": 3
   },
   "file_extension": ".py",
   "mimetype": "text/x-python",
   "name": "python",
   "nbconvert_exporter": "python",
   "pygments_lexer": "ipython3",
   "version": "3.12.7"
  }
 },
 "nbformat": 4,
 "nbformat_minor": 2
}
