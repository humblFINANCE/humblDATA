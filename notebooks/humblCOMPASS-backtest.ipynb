{
 "cells": [
  {
   "cell_type": "code",
   "execution_count": 12,
   "metadata": {},
   "outputs": [
    {
     "name": "stdout",
     "output_type": "stream",
     "text": [
      "The autoreload extension is already loaded. To reload it, use:\n",
      "  %reload_ext autoreload\n"
     ]
    }
   ],
   "source": [
    "%load_ext autoreload\n",
    "%autoreload 2\n",
    "\n",
    "from humbldata.core.utils.openbb_helpers import obb_login\n",
    "from openbb import obb\n",
    "from humbldata.core.utils.env import Env\n",
    "import polars as pl\n",
    "\n",
    "# obb_login()\n",
    "obb.account.login(pat=Env().OBB_PAT, remember_me=True)"
   ]
  },
  {
   "cell_type": "code",
   "execution_count": 13,
   "metadata": {},
   "outputs": [
    {
     "name": "stderr",
     "output_type": "stream",
     "text": [
      "INFO: HumblCompassFetcher || START: fetch_data (sync)\n",
      "DEBUG: HumblCompassFetcher || Running .transform_query()\n",
      "INFO: HumblCompassFetcher || CLI start date: 1959-06-01 and CPI start date: 1959-06-01. Dates are adjusted to account for CLI data release lag and z-score calculation window.\n",
      "DEBUG: HumblCompassFetcher || Running .extract_data()\n"
     ]
    },
    {
     "name": "stdout",
     "output_type": "stream",
     "text": [
      "The autoreload extension is already loaded. To reload it, use:\n",
      "  %reload_ext autoreload\n"
     ]
    },
    {
     "name": "stderr",
     "output_type": "stream",
     "text": [
      "DEBUG: HumblCompassFetcher || Running .transform_data()\n",
      "INFO: HumblCompassFetcher || END: fetch_data (sync) - Total time: 0.5178s\n"
     ]
    },
    {
     "name": "stdout",
     "output_type": "stream",
     "text": [
      "shape: (4, 8)\n",
      "┌────────────┬────────────┬────────────┬───────────┬───────────┬───────────┬───────────┬───────────┐\n",
      "│ humbl_regi ┆ avg_total_ ┆ avg_ann_re ┆ avg_win_r ┆ avg_volat ┆ avg_sharp ┆ avg_days_ ┆ instance_ │\n",
      "│ me         ┆ return_pct ┆ turn_pct   ┆ ate       ┆ ility     ┆ e_ratio   ┆ in_regime ┆ count     │\n",
      "│ ---        ┆ ---        ┆ ---        ┆ ---       ┆ ---       ┆ ---       ┆ ---       ┆ ---       │\n",
      "│ str        ┆ f64        ┆ f64        ┆ f64       ┆ f64       ┆ f64       ┆ f64       ┆ u32       │\n",
      "╞════════════╪════════════╪════════════╪═══════════╪═══════════╪═══════════╪═══════════╪═══════════╡\n",
      "│ humblBOOM  ┆ 8.516366   ┆ 27.384214  ┆ 0.56241   ┆ 13.471286 ┆ 1.899086  ┆ 93.204337 ┆ 33        │\n",
      "│ humblBOUNC ┆ 6.52198    ┆ 14.077332  ┆ 0.550973  ┆ 12.816441 ┆ 1.01379   ┆ 98.983326 ┆ 31        │\n",
      "│ E          ┆            ┆            ┆           ┆           ┆           ┆           ┆           │\n",
      "│ humblBLOAT ┆ -1.254019  ┆ -0.555999  ┆ 0.511588  ┆ 16.969956 ┆ 0.004861  ┆ 98.504805 ┆ 29        │\n",
      "│ humblBUST  ┆ -1.543767  ┆ 2.260824   ┆ 0.513112  ┆ 20.856355 ┆ 0.198596  ┆ 98.407224 ┆ 30        │\n",
      "└────────────┴────────────┴────────────┴───────────┴───────────┴───────────┴───────────┴───────────┘\n"
     ]
    }
   ],
   "source": [
    "%load_ext autoreload\n",
    "%autoreload 2\n",
    "\n",
    "from humbldata.toolbox.technical.regime_backtest import RegimeBacktest\n",
    "\n",
    "backtest = RegimeBacktest(\n",
    "    symbols=[\"SPY\"],\n",
    "    start_date=\"1960-01-01\",\n",
    "    end_date=\"2024-12-31\",\n",
    "    country=\"united_states\",\n",
    "    vol_window=\"1m\"\n",
    ")\n",
    "\n",
    "results = backtest.run()\n",
    "print(results)"
   ]
  },
  {
   "cell_type": "code",
   "execution_count": 17,
   "metadata": {},
   "outputs": [
    {
     "name": "stderr",
     "output_type": "stream",
     "text": [
      "DEBUG: FundamentalController || Initializing HumblCompassBacktest calculation with params: {'symbols': ['SPY'], 'country': 'united_states', 'z_score': None}\n",
      "DEBUG: FundamentalController || Fetching HumblCompassBacktest data\n",
      "INFO: HumblCompassBacktestFetcher || START: fetch_data (sync)\n",
      "DEBUG: HumblCompassBacktestFetcher || Running .transform_query()\n",
      "DEBUG: HumblCompassBacktestFetcher || Running .extract_data()\n",
      "INFO: HumblCompassFetcher || START: fetch_data (sync)\n",
      "DEBUG: HumblCompassFetcher || Running .transform_query()\n",
      "INFO: HumblCompassFetcher || CLI start date: 1959-06-01 and CPI start date: 1959-06-01. Dates are adjusted to account for CLI data release lag and z-score calculation window.\n",
      "DEBUG: HumblCompassFetcher || Running .extract_data()\n"
     ]
    },
    {
     "name": "stdout",
     "output_type": "stream",
     "text": [
      "The autoreload extension is already loaded. To reload it, use:\n",
      "  %reload_ext autoreload\n"
     ]
    },
    {
     "name": "stderr",
     "output_type": "stream",
     "text": [
      "DEBUG: HumblCompassFetcher || Running .transform_data()\n",
      "INFO: HumblCompassFetcher || END: fetch_data (sync) - Total time: 0.5121s\n",
      "DEBUG: HumblCompassBacktestFetcher || Running .transform_data()\n",
      "INFO: HumblCompassBacktestFetcher || END: fetch_data (sync) - Total time: 1.1767s\n"
     ]
    },
    {
     "data": {
      "text/html": [
       "<div><style>\n",
       ".dataframe > thead > tr,\n",
       ".dataframe > tbody > tr {\n",
       "  text-align: right;\n",
       "  white-space: pre-wrap;\n",
       "}\n",
       "</style>\n",
       "<small>shape: (4, 8)</small><table border=\"1\" class=\"dataframe\"><thead><tr><th>humbl_regime</th><th>avg_total_return_pct</th><th>avg_ann_return_pct</th><th>avg_win_rate</th><th>avg_volatility</th><th>avg_sharpe_ratio</th><th>avg_days_in_regime</th><th>instance_count</th></tr><tr><td>str</td><td>f64</td><td>f64</td><td>f64</td><td>f64</td><td>f64</td><td>f64</td><td>u32</td></tr></thead><tbody><tr><td>&quot;humblBOOM&quot;</td><td>7.902922</td><td>32.119231</td><td>0.58472</td><td>12.521277</td><td>2.508619</td><td>74.327286</td><td>24</td></tr><tr><td>&quot;humblBOUNCE&quot;</td><td>5.819288</td><td>12.393776</td><td>0.563565</td><td>11.60763</td><td>0.944119</td><td>99.959371</td><td>20</td></tr><tr><td>&quot;humblBLOAT&quot;</td><td>-3.340917</td><td>-3.882964</td><td>0.516158</td><td>16.155465</td><td>-0.394143</td><td>102.210054</td><td>18</td></tr><tr><td>&quot;humblBUST&quot;</td><td>-2.532219</td><td>3.440074</td><td>0.514897</td><td>22.485268</td><td>0.137551</td><td>113.899924</td><td>18</td></tr></tbody></table></div>"
      ],
      "text/plain": [
       "shape: (4, 8)\n",
       "┌────────────┬────────────┬────────────┬───────────┬───────────┬───────────┬───────────┬───────────┐\n",
       "│ humbl_regi ┆ avg_total_ ┆ avg_ann_re ┆ avg_win_r ┆ avg_volat ┆ avg_sharp ┆ avg_days_ ┆ instance_ │\n",
       "│ me         ┆ return_pct ┆ turn_pct   ┆ ate       ┆ ility     ┆ e_ratio   ┆ in_regime ┆ count     │\n",
       "│ ---        ┆ ---        ┆ ---        ┆ ---       ┆ ---       ┆ ---       ┆ ---       ┆ ---       │\n",
       "│ str        ┆ f64        ┆ f64        ┆ f64       ┆ f64       ┆ f64       ┆ f64       ┆ u32       │\n",
       "╞════════════╪════════════╪════════════╪═══════════╪═══════════╪═══════════╪═══════════╪═══════════╡\n",
       "│ humblBOOM  ┆ 7.902922   ┆ 32.119231  ┆ 0.58472   ┆ 12.521277 ┆ 2.508619  ┆ 74.327286 ┆ 24        │\n",
       "│ humblBOUNC ┆ 5.819288   ┆ 12.393776  ┆ 0.563565  ┆ 11.60763  ┆ 0.944119  ┆ 99.959371 ┆ 20        │\n",
       "│ E          ┆            ┆            ┆           ┆           ┆           ┆           ┆           │\n",
       "│ humblBLOAT ┆ -3.340917  ┆ -3.882964  ┆ 0.516158  ┆ 16.155465 ┆ -0.394143 ┆ 102.21005 ┆ 18        │\n",
       "│            ┆            ┆            ┆           ┆           ┆           ┆ 4         ┆           │\n",
       "│ humblBUST  ┆ -2.532219  ┆ 3.440074   ┆ 0.514897  ┆ 22.485268 ┆ 0.137551  ┆ 113.89992 ┆ 18        │\n",
       "│            ┆            ┆            ┆           ┆           ┆           ┆ 4         ┆           │\n",
       "└────────────┴────────────┴────────────┴───────────┴───────────┴───────────┴───────────┴───────────┘"
      ]
     },
     "execution_count": 17,
     "metadata": {},
     "output_type": "execute_result"
    }
   ],
   "source": [
    "%load_ext autoreload\n",
    "%autoreload 2\n",
    "\n",
    "from humbldata.toolbox.fundamental.fundamental_controller import Fundamental\n",
    "from humbldata.toolbox.toolbox_controller import Toolbox\n",
    "\n",
    "toolbox = Toolbox(\n",
    "    start_date=\"1960-01-01\",\n",
    "    end_date=\"2024-12-31\",\n",
    "    membership=\"admin\",\n",
    ")\n",
    "\n",
    "compass = toolbox.fundamental.humbl_compass_backtest(\n",
    "    symbols=[\"SPY\"],\n",
    "    country=\"united_states\",\n",
    ")\n",
    "\n",
    "compass.to_polars()\n"
   ]
  },
  {
   "cell_type": "code",
   "execution_count": null,
   "metadata": {},
   "outputs": [],
   "source": []
  }
 ],
 "metadata": {
  "kernelspec": {
   "display_name": "Python 3",
   "language": "python",
   "name": "python3"
  },
  "language_info": {
   "codemirror_mode": {
    "name": "ipython",
    "version": 3
   },
   "file_extension": ".py",
   "mimetype": "text/x-python",
   "name": "python",
   "nbconvert_exporter": "python",
   "pygments_lexer": "ipython3",
   "version": "3.12.7"
  }
 },
 "nbformat": 4,
 "nbformat_minor": 2
}
