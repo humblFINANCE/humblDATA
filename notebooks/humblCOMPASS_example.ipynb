{
 "cells": [
  {
   "cell_type": "code",
   "execution_count": 1,
   "metadata": {},
   "outputs": [],
   "source": [
    "%load_ext autoreload\n",
    "%autoreload 2\n",
    "\n",
    "from humbldata.core.utils.openbb_helpers import obb_login\n",
    "from openbb import obb\n",
    "from humbldata.core.utils.env import Env\n",
    "import polars as pl\n",
    "\n",
    "# obb_login()\n",
    "obb.account.login(pat=Env().OBB_PAT, remember_me=True)"
   ]
  },
  {
   "cell_type": "markdown",
   "metadata": {},
   "source": [
    "# CPI + CLI DATA COLLECTION\n"
   ]
  },
  {
   "cell_type": "markdown",
   "metadata": {},
   "source": [
    "## OECD Composite Leading Indicator"
   ]
  },
  {
   "cell_type": "code",
   "execution_count": 22,
   "metadata": {},
   "outputs": [
    {
     "data": {
      "text/html": [
       "<div><style>\n",
       ".dataframe > thead > tr,\n",
       ".dataframe > tbody > tr {\n",
       "  text-align: right;\n",
       "  white-space: pre-wrap;\n",
       "}\n",
       "</style>\n",
       "<small>shape: (10, 3)</small><table border=\"1\" class=\"dataframe\"><thead><tr><th>date</th><th>value</th><th>country</th></tr><tr><td>date</td><td>f64</td><td>str</td></tr></thead><tbody><tr><td>2024-01-01</td><td>99.5686</td><td>&quot;United States&quot;</td></tr><tr><td>2024-02-01</td><td>99.72427</td><td>&quot;United States&quot;</td></tr><tr><td>2024-03-01</td><td>99.85373</td><td>&quot;United States&quot;</td></tr><tr><td>2024-04-01</td><td>99.92516</td><td>&quot;United States&quot;</td></tr><tr><td>2024-05-01</td><td>99.94516</td><td>&quot;United States&quot;</td></tr><tr><td>2024-06-01</td><td>99.94624</td><td>&quot;United States&quot;</td></tr><tr><td>2024-07-01</td><td>99.96982</td><td>&quot;United States&quot;</td></tr><tr><td>2024-08-01</td><td>100.0283</td><td>&quot;United States&quot;</td></tr><tr><td>2024-09-01</td><td>100.1253</td><td>&quot;United States&quot;</td></tr><tr><td>2024-10-01</td><td>100.2499</td><td>&quot;United States&quot;</td></tr></tbody></table></div>"
      ],
      "text/plain": [
       "shape: (10, 3)\n",
       "┌────────────┬──────────┬───────────────┐\n",
       "│ date       ┆ value    ┆ country       │\n",
       "│ ---        ┆ ---      ┆ ---           │\n",
       "│ date       ┆ f64      ┆ str           │\n",
       "╞════════════╪══════════╪═══════════════╡\n",
       "│ 2024-01-01 ┆ 99.5686  ┆ United States │\n",
       "│ 2024-02-01 ┆ 99.72427 ┆ United States │\n",
       "│ 2024-03-01 ┆ 99.85373 ┆ United States │\n",
       "│ 2024-04-01 ┆ 99.92516 ┆ United States │\n",
       "│ 2024-05-01 ┆ 99.94516 ┆ United States │\n",
       "│ 2024-06-01 ┆ 99.94624 ┆ United States │\n",
       "│ 2024-07-01 ┆ 99.96982 ┆ United States │\n",
       "│ 2024-08-01 ┆ 100.0283 ┆ United States │\n",
       "│ 2024-09-01 ┆ 100.1253 ┆ United States │\n",
       "│ 2024-10-01 ┆ 100.2499 ┆ United States │\n",
       "└────────────┴──────────┴───────────────┘"
      ]
     },
     "execution_count": 22,
     "metadata": {},
     "output_type": "execute_result"
    }
   ],
   "source": [
    "cli = obb.economy.composite_leading_indicator(start_date='2024-01-01', provider='oecd', country=['united_states'])\n",
    "cli.to_polars()"
   ]
  },
  {
   "cell_type": "markdown",
   "metadata": {},
   "source": [
    "## Consumer Price Index"
   ]
  },
  {
   "cell_type": "markdown",
   "metadata": {},
   "source": [
    "### OECD Consumer Price Index"
   ]
  },
  {
   "cell_type": "code",
   "execution_count": 23,
   "metadata": {},
   "outputs": [
    {
     "data": {
      "text/plain": [
       "[OECDCPIData(date=2010-01-01, country=united_states, value=0.02625709, expenditure=total),\n",
       " OECDCPIData(date=2010-02-01, country=united_states, value=0.02143332, expenditure=total),\n",
       " OECDCPIData(date=2010-03-01, country=united_states, value=0.02313959, expenditure=total),\n",
       " OECDCPIData(date=2010-04-01, country=united_states, value=0.02236447, expenditure=total),\n",
       " OECDCPIData(date=2010-05-01, country=united_states, value=0.020209860000000003, expenditure=total),\n",
       " OECDCPIData(date=2010-06-01, country=united_states, value=0.010533490000000001, expenditure=total),\n",
       " OECDCPIData(date=2010-07-01, country=united_states, value=0.01235193, expenditure=total),\n",
       " OECDCPIData(date=2010-08-01, country=united_states, value=0.01148105, expenditure=total),\n",
       " OECDCPIData(date=2010-09-01, country=united_states, value=0.01143683, expenditure=total),\n",
       " OECDCPIData(date=2010-10-01, country=united_states, value=0.01172188, expenditure=total),\n",
       " OECDCPIData(date=2010-11-01, country=united_states, value=0.011431610000000002, expenditure=total),\n",
       " OECDCPIData(date=2010-12-01, country=united_states, value=0.014957229999999998, expenditure=total),\n",
       " OECDCPIData(date=2011-01-01, country=united_states, value=0.01631847, expenditure=total),\n",
       " OECDCPIData(date=2011-02-01, country=united_states, value=0.021075849999999997, expenditure=total),\n",
       " OECDCPIData(date=2011-03-01, country=united_states, value=0.02681603, expenditure=total),\n",
       " OECDCPIData(date=2011-04-01, country=united_states, value=0.03163631, expenditure=total),\n",
       " OECDCPIData(date=2011-05-01, country=united_states, value=0.03568646, expenditure=total),\n",
       " OECDCPIData(date=2011-06-01, country=united_states, value=0.03558828, expenditure=total),\n",
       " OECDCPIData(date=2011-07-01, country=united_states, value=0.03628716, expenditure=total),\n",
       " OECDCPIData(date=2011-08-01, country=united_states, value=0.03771208, expenditure=total),\n",
       " OECDCPIData(date=2011-09-01, country=united_states, value=0.03868357, expenditure=total),\n",
       " OECDCPIData(date=2011-10-01, country=united_states, value=0.035252, expenditure=total),\n",
       " OECDCPIData(date=2011-11-01, country=united_states, value=0.03394378, expenditure=total),\n",
       " OECDCPIData(date=2011-12-01, country=united_states, value=0.02962419, expenditure=total),\n",
       " OECDCPIData(date=2012-01-01, country=united_states, value=0.02925217, expenditure=total),\n",
       " OECDCPIData(date=2012-02-01, country=united_states, value=0.028710990000000002, expenditure=total),\n",
       " OECDCPIData(date=2012-03-01, country=united_states, value=0.02651398, expenditure=total),\n",
       " OECDCPIData(date=2012-04-01, country=united_states, value=0.0230274, expenditure=total),\n",
       " OECDCPIData(date=2012-05-01, country=united_states, value=0.01704254, expenditure=total),\n",
       " OECDCPIData(date=2012-06-01, country=united_states, value=0.01663994, expenditure=total),\n",
       " OECDCPIData(date=2012-07-01, country=united_states, value=0.01408451, expenditure=total),\n",
       " OECDCPIData(date=2012-08-01, country=united_states, value=0.01692379, expenditure=total),\n",
       " OECDCPIData(date=2012-09-01, country=united_states, value=0.01991282, expenditure=total),\n",
       " OECDCPIData(date=2012-10-01, country=united_states, value=0.02162344, expenditure=total),\n",
       " OECDCPIData(date=2012-11-01, country=united_states, value=0.017641340000000002, expenditure=total),\n",
       " OECDCPIData(date=2012-12-01, country=united_states, value=0.01741022, expenditure=total),\n",
       " OECDCPIData(date=2013-01-01, country=united_states, value=0.015948649999999998, expenditure=total),\n",
       " OECDCPIData(date=2013-02-01, country=united_states, value=0.01977924, expenditure=total),\n",
       " OECDCPIData(date=2013-03-01, country=united_states, value=0.01473896, expenditure=total),\n",
       " OECDCPIData(date=2013-04-01, country=united_states, value=0.01063085, expenditure=total),\n",
       " OECDCPIData(date=2013-05-01, country=united_states, value=0.01361965, expenditure=total),\n",
       " OECDCPIData(date=2013-06-01, country=united_states, value=0.017544169999999998, expenditure=total),\n",
       " OECDCPIData(date=2013-07-01, country=united_states, value=0.01960682, expenditure=total),\n",
       " OECDCPIData(date=2013-08-01, country=united_states, value=0.01518368, expenditure=total),\n",
       " OECDCPIData(date=2013-09-01, country=united_states, value=0.01184925, expenditure=total),\n",
       " OECDCPIData(date=2013-10-01, country=united_states, value=0.009636127, expenditure=total),\n",
       " OECDCPIData(date=2013-11-01, country=united_states, value=0.01237072, expenditure=total),\n",
       " OECDCPIData(date=2013-12-01, country=united_states, value=0.01501736, expenditure=total),\n",
       " OECDCPIData(date=2014-01-01, country=united_states, value=0.01578947, expenditure=total),\n",
       " OECDCPIData(date=2014-02-01, country=united_states, value=0.011263490000000001, expenditure=total),\n",
       " OECDCPIData(date=2014-03-01, country=united_states, value=0.01512203, expenditure=total),\n",
       " OECDCPIData(date=2014-04-01, country=united_states, value=0.01952858, expenditure=total),\n",
       " OECDCPIData(date=2014-05-01, country=united_states, value=0.021271110000000003, expenditure=total),\n",
       " OECDCPIData(date=2014-06-01, country=united_states, value=0.02072341, expenditure=total),\n",
       " OECDCPIData(date=2014-07-01, country=united_states, value=0.01992329, expenditure=total),\n",
       " OECDCPIData(date=2014-08-01, country=united_states, value=0.01699611, expenditure=total),\n",
       " OECDCPIData(date=2014-09-01, country=united_states, value=0.01657919, expenditure=total),\n",
       " OECDCPIData(date=2014-10-01, country=united_states, value=0.0166434, expenditure=total),\n",
       " OECDCPIData(date=2014-11-01, country=united_states, value=0.013223549999999999, expenditure=total),\n",
       " OECDCPIData(date=2014-12-01, country=united_states, value=0.007564933, expenditure=total),\n",
       " OECDCPIData(date=2015-01-01, country=united_states, value=-0.0008934832, expenditure=total),\n",
       " OECDCPIData(date=2015-02-01, country=united_states, value=-0.000251298, expenditure=total),\n",
       " OECDCPIData(date=2015-03-01, country=united_states, value=-0.0007363739, expenditure=total),\n",
       " OECDCPIData(date=2015-04-01, country=united_states, value=-0.001995174, expenditure=total),\n",
       " OECDCPIData(date=2015-05-01, country=united_states, value=-0.00039932750000000006, expenditure=total),\n",
       " OECDCPIData(date=2015-06-01, country=united_states, value=0.001237712, expenditure=total),\n",
       " OECDCPIData(date=2015-07-01, country=united_states, value=0.0016956979999999998, expenditure=total),\n",
       " OECDCPIData(date=2015-08-01, country=united_states, value=0.0019507930000000001, expenditure=total),\n",
       " OECDCPIData(date=2015-09-01, country=united_states, value=-0.0003612975, expenditure=total),\n",
       " OECDCPIData(date=2015-10-01, country=united_states, value=0.001705744, expenditure=total),\n",
       " OECDCPIData(date=2015-11-01, country=united_states, value=0.0050179759999999995, expenditure=total),\n",
       " OECDCPIData(date=2015-12-01, country=united_states, value=0.007295198, expenditure=total),\n",
       " OECDCPIData(date=2016-01-01, country=united_states, value=0.01373087, expenditure=total),\n",
       " OECDCPIData(date=2016-02-01, country=united_states, value=0.010178, expenditure=total),\n",
       " OECDCPIData(date=2016-03-01, country=united_states, value=0.008525362, expenditure=total),\n",
       " OECDCPIData(date=2016-04-01, country=united_states, value=0.0112511, expenditure=total),\n",
       " OECDCPIData(date=2016-05-01, country=united_states, value=0.01019323, expenditure=total),\n",
       " OECDCPIData(date=2016-06-01, country=united_states, value=0.009973265, expenditure=total),\n",
       " OECDCPIData(date=2016-07-01, country=united_states, value=0.008271388, expenditure=total),\n",
       " OECDCPIData(date=2016-08-01, country=united_states, value=0.01062875, expenditure=total),\n",
       " OECDCPIData(date=2016-09-01, country=united_states, value=0.01463784, expenditure=total),\n",
       " OECDCPIData(date=2016-10-01, country=united_states, value=0.01635988, expenditure=total),\n",
       " OECDCPIData(date=2016-11-01, country=united_states, value=0.01692537, expenditure=total),\n",
       " OECDCPIData(date=2016-12-01, country=united_states, value=0.020746220000000003, expenditure=total),\n",
       " OECDCPIData(date=2017-01-01, country=united_states, value=0.025000420000000002, expenditure=total),\n",
       " OECDCPIData(date=2017-02-01, country=united_states, value=0.02737958, expenditure=total),\n",
       " OECDCPIData(date=2017-03-01, country=united_states, value=0.02380612, expenditure=total),\n",
       " OECDCPIData(date=2017-04-01, country=united_states, value=0.0219969, expenditure=total),\n",
       " OECDCPIData(date=2017-05-01, country=united_states, value=0.01874878, expenditure=total),\n",
       " OECDCPIData(date=2017-06-01, country=united_states, value=0.01633488, expenditure=total),\n",
       " OECDCPIData(date=2017-07-01, country=united_states, value=0.01727978, expenditure=total),\n",
       " OECDCPIData(date=2017-08-01, country=united_states, value=0.01938974, expenditure=total),\n",
       " OECDCPIData(date=2017-09-01, country=united_states, value=0.022329639999999998, expenditure=total),\n",
       " OECDCPIData(date=2017-10-01, country=united_states, value=0.020411290000000002, expenditure=total),\n",
       " OECDCPIData(date=2017-11-01, country=united_states, value=0.022025830000000003, expenditure=total),\n",
       " OECDCPIData(date=2017-12-01, country=united_states, value=0.02109082, expenditure=total),\n",
       " OECDCPIData(date=2018-01-01, country=united_states, value=0.020705079999999997, expenditure=total),\n",
       " OECDCPIData(date=2018-02-01, country=united_states, value=0.02211795, expenditure=total),\n",
       " OECDCPIData(date=2018-03-01, country=united_states, value=0.023597109999999998, expenditure=total),\n",
       " OECDCPIData(date=2018-04-01, country=united_states, value=0.024627439999999997, expenditure=total),\n",
       " OECDCPIData(date=2018-05-01, country=united_states, value=0.02801012, expenditure=total),\n",
       " OECDCPIData(date=2018-06-01, country=united_states, value=0.02871548, expenditure=total),\n",
       " OECDCPIData(date=2018-07-01, country=united_states, value=0.029495149999999998, expenditure=total),\n",
       " OECDCPIData(date=2018-08-01, country=united_states, value=0.0269918, expenditure=total),\n",
       " OECDCPIData(date=2018-09-01, country=united_states, value=0.022769720000000004, expenditure=total),\n",
       " OECDCPIData(date=2018-10-01, country=united_states, value=0.025224700000000003, expenditure=total),\n",
       " OECDCPIData(date=2018-11-01, country=united_states, value=0.02176601, expenditure=total),\n",
       " OECDCPIData(date=2018-12-01, country=united_states, value=0.019101589999999998, expenditure=total),\n",
       " OECDCPIData(date=2019-01-01, country=united_states, value=0.01551235, expenditure=total),\n",
       " OECDCPIData(date=2019-02-01, country=united_states, value=0.01520135, expenditure=total),\n",
       " OECDCPIData(date=2019-03-01, country=united_states, value=0.01862523, expenditure=total),\n",
       " OECDCPIData(date=2019-04-01, country=united_states, value=0.0199644, expenditure=total),\n",
       " OECDCPIData(date=2019-05-01, country=united_states, value=0.01790228, expenditure=total),\n",
       " OECDCPIData(date=2019-06-01, country=united_states, value=0.01648485, expenditure=total),\n",
       " OECDCPIData(date=2019-07-01, country=united_states, value=0.01811465, expenditure=total),\n",
       " OECDCPIData(date=2019-08-01, country=united_states, value=0.017497799999999997, expenditure=total),\n",
       " OECDCPIData(date=2019-09-01, country=united_states, value=0.01711305, expenditure=total),\n",
       " OECDCPIData(date=2019-10-01, country=united_states, value=0.01764043, expenditure=total),\n",
       " OECDCPIData(date=2019-11-01, country=united_states, value=0.020512779999999998, expenditure=total),\n",
       " OECDCPIData(date=2019-12-01, country=united_states, value=0.0228513, expenditure=total),\n",
       " OECDCPIData(date=2020-01-01, country=united_states, value=0.024865719999999997, expenditure=total),\n",
       " OECDCPIData(date=2020-02-01, country=united_states, value=0.02334874, expenditure=total),\n",
       " OECDCPIData(date=2020-03-01, country=united_states, value=0.015393269999999999, expenditure=total),\n",
       " OECDCPIData(date=2020-04-01, country=united_states, value=0.003290967, expenditure=total),\n",
       " OECDCPIData(date=2020-05-01, country=united_states, value=0.001179264, expenditure=total),\n",
       " OECDCPIData(date=2020-06-01, country=united_states, value=0.006457330999999999, expenditure=total),\n",
       " OECDCPIData(date=2020-07-01, country=united_states, value=0.009860818, expenditure=total),\n",
       " OECDCPIData(date=2020-08-01, country=united_states, value=0.013096449999999999, expenditure=total),\n",
       " OECDCPIData(date=2020-09-01, country=united_states, value=0.01371325, expenditure=total),\n",
       " OECDCPIData(date=2020-10-01, country=united_states, value=0.01182066, expenditure=total),\n",
       " OECDCPIData(date=2020-11-01, country=united_states, value=0.01174536, expenditure=total),\n",
       " OECDCPIData(date=2020-12-01, country=united_states, value=0.01362005, expenditure=total),\n",
       " OECDCPIData(date=2021-01-01, country=united_states, value=0.0139977, expenditure=total),\n",
       " OECDCPIData(date=2021-02-01, country=united_states, value=0.01676215, expenditure=total),\n",
       " OECDCPIData(date=2021-03-01, country=united_states, value=0.02619762, expenditure=total),\n",
       " OECDCPIData(date=2021-04-01, country=united_states, value=0.04159695, expenditure=total),\n",
       " OECDCPIData(date=2021-05-01, country=united_states, value=0.049927070000000004, expenditure=total),\n",
       " OECDCPIData(date=2021-06-01, country=united_states, value=0.05391451, expenditure=total),\n",
       " OECDCPIData(date=2021-07-01, country=united_states, value=0.05365475, expenditure=total),\n",
       " OECDCPIData(date=2021-08-01, country=united_states, value=0.05251272, expenditure=total),\n",
       " OECDCPIData(date=2021-09-01, country=united_states, value=0.05390349, expenditure=total),\n",
       " OECDCPIData(date=2021-10-01, country=united_states, value=0.06221869, expenditure=total),\n",
       " OECDCPIData(date=2021-11-01, country=united_states, value=0.06809003, expenditure=total),\n",
       " OECDCPIData(date=2021-12-01, country=united_states, value=0.07036403, expenditure=total),\n",
       " OECDCPIData(date=2022-01-01, country=united_states, value=0.07479873000000001, expenditure=total),\n",
       " OECDCPIData(date=2022-02-01, country=united_states, value=0.07871064, expenditure=total),\n",
       " OECDCPIData(date=2022-03-01, country=united_states, value=0.08542456, expenditure=total),\n",
       " OECDCPIData(date=2022-04-01, country=united_states, value=0.0825863, expenditure=total),\n",
       " OECDCPIData(date=2022-05-01, country=united_states, value=0.08581511000000001, expenditure=total),\n",
       " OECDCPIData(date=2022-06-01, country=united_states, value=0.09059758000000001, expenditure=total),\n",
       " OECDCPIData(date=2022-07-01, country=united_states, value=0.08524815000000001, expenditure=total),\n",
       " OECDCPIData(date=2022-08-01, country=united_states, value=0.08262691999999999, expenditure=total),\n",
       " OECDCPIData(date=2022-09-01, country=united_states, value=0.0820167, expenditure=total),\n",
       " OECDCPIData(date=2022-10-01, country=united_states, value=0.07745427, expenditure=total),\n",
       " OECDCPIData(date=2022-11-01, country=united_states, value=0.07110323, expenditure=total),\n",
       " OECDCPIData(date=2022-12-01, country=united_states, value=0.06454401, expenditure=total),\n",
       " OECDCPIData(date=2023-01-01, country=united_states, value=0.06410147000000001, expenditure=total),\n",
       " OECDCPIData(date=2023-02-01, country=united_states, value=0.060356129999999994, expenditure=total),\n",
       " OECDCPIData(date=2023-03-01, country=united_states, value=0.049849740000000003, expenditure=total),\n",
       " OECDCPIData(date=2023-04-01, country=united_states, value=0.0493032, expenditure=total),\n",
       " OECDCPIData(date=2023-05-01, country=united_states, value=0.04047608999999999, expenditure=total),\n",
       " OECDCPIData(date=2023-06-01, country=united_states, value=0.029691779999999997, expenditure=total),\n",
       " OECDCPIData(date=2023-07-01, country=united_states, value=0.031777799999999995, expenditure=total),\n",
       " OECDCPIData(date=2023-08-01, country=united_states, value=0.03665112, expenditure=total),\n",
       " OECDCPIData(date=2023-09-01, country=united_states, value=0.03699698, expenditure=total),\n",
       " OECDCPIData(date=2023-10-01, country=united_states, value=0.03241145, expenditure=total),\n",
       " OECDCPIData(date=2023-11-01, country=united_states, value=0.03137271, expenditure=total),\n",
       " OECDCPIData(date=2023-12-01, country=united_states, value=0.03352123, expenditure=total),\n",
       " OECDCPIData(date=2024-01-01, country=united_states, value=0.03090885, expenditure=total),\n",
       " OECDCPIData(date=2024-02-01, country=united_states, value=0.03153171, expenditure=total),\n",
       " OECDCPIData(date=2024-03-01, country=united_states, value=0.03477385, expenditure=total),\n",
       " OECDCPIData(date=2024-04-01, country=united_states, value=0.03357364, expenditure=total),\n",
       " OECDCPIData(date=2024-05-01, country=united_states, value=0.032690290000000004, expenditure=total),\n",
       " OECDCPIData(date=2024-06-01, country=united_states, value=0.02971397, expenditure=total),\n",
       " OECDCPIData(date=2024-07-01, country=united_states, value=0.028947530000000003, expenditure=total),\n",
       " OECDCPIData(date=2024-08-01, country=united_states, value=0.0253073, expenditure=total),\n",
       " OECDCPIData(date=2024-09-01, country=united_states, value=0.02440633, expenditure=total),\n",
       " OECDCPIData(date=2024-10-01, country=united_states, value=0.02597905, expenditure=total)]"
      ]
     },
     "execution_count": 23,
     "metadata": {},
     "output_type": "execute_result"
    }
   ],
   "source": [
    "oecd_cpi = obb.economy.cpi(start_date='2010-01-01', country='united_states', transform='yoy', provider='oecd',harmonized=False, expenditure='total')\n",
    "oecd_cpi.results\n"
   ]
  },
  {
   "cell_type": "markdown",
   "metadata": {},
   "source": [
    "### FRED Consumer Price Index"
   ]
  },
  {
   "cell_type": "code",
   "execution_count": 24,
   "metadata": {},
   "outputs": [
    {
     "data": {
      "text/plain": [
       "[FREDConsumerPriceIndexData(date=2024-07-01, country=united_states, value=0.028947529999999996),\n",
       " FREDConsumerPriceIndexData(date=2024-08-01, country=united_states, value=0.0253073),\n",
       " FREDConsumerPriceIndexData(date=2024-09-01, country=united_states, value=0.02440633),\n",
       " FREDConsumerPriceIndexData(date=2024-10-01, country=united_states, value=0.02597905)]"
      ]
     },
     "execution_count": 24,
     "metadata": {},
     "output_type": "execute_result"
    }
   ],
   "source": [
    "fred_cpi = obb.economy.cpi(start_date='2024-07-01', country='united_states', transform='yoy', provider='fred')\n",
    "fred_cpi.results"
   ]
  },
  {
   "cell_type": "markdown",
   "metadata": {},
   "source": [
    "# humblCOMPASS "
   ]
  },
  {
   "cell_type": "code",
   "execution_count": 97,
   "metadata": {},
   "outputs": [
    {
     "name": "stdout",
     "output_type": "stream",
     "text": [
      "The autoreload extension is already loaded. To reload it, use:\n",
      "  %reload_ext autoreload\n"
     ]
    }
   ],
   "source": [
    "%load_ext autoreload\n",
    "%autoreload 2\n",
    "\n",
    "from humbldata.toolbox.toolbox_controller import Toolbox\n",
    "\n",
    "toolbox = Toolbox(\n",
    "    # symbols=[\"AAPL\"],\n",
    "    # interval=\"1d\",\n",
    "    start_date=\"2024-05-31\",\n",
    "    end_date=\"2024-12-01\",\n",
    "    membership=\"humblPEON\"\n",
    ")"
   ]
  },
  {
   "cell_type": "code",
   "execution_count": 98,
   "metadata": {},
   "outputs": [
    {
     "name": "stderr",
     "output_type": "stream",
     "text": [
      "INFO: HumblCompassFetcher || START: fetch_data (sync)\n",
      "WARNING: HumblCompassFetcher || Z-score is not calculated for humblPEON membership level.\n",
      "INFO: HumblCompassFetcher || CLI start date: 2024-01-31 and CPI start date: 2024-01-31. Dates are adjusted to account for CLI data release lag and z-score calculation window.\n",
      "INFO: HumblCompassFetcher || END: fetch_data (sync) - Total time: 2.7016s\n"
     ]
    }
   ],
   "source": [
    "compass = toolbox.fundamental.humbl_compass(country=\"united_states\", z_score=\"2m\", chart=True, recommendations=True)\n",
    "\n"
   ]
  },
  {
   "cell_type": "code",
   "execution_count": 99,
   "metadata": {},
   "outputs": [
    {
     "data": {
      "text/html": [
       "<div><style>\n",
       ".dataframe > thead > tr,\n",
       ".dataframe > tbody > tr {\n",
       "  text-align: right;\n",
       "  white-space: pre-wrap;\n",
       "}\n",
       "</style>\n",
       "<small>shape: (6, 7)</small><table border=\"1\" class=\"dataframe\"><thead><tr><th>date_month_start</th><th>country</th><th>cpi</th><th>cpi_3m_delta</th><th>cli</th><th>cli_3m_delta</th><th>humbl_regime</th></tr><tr><td>date</td><td>str</td><td>f64</td><td>f64</td><td>f64</td><td>f64</td><td>str</td></tr></thead><tbody><tr><td>2024-05-01</td><td>&quot;United States&quot;</td><td>3.27</td><td>0.12</td><td>99.95</td><td>0.22</td><td>&quot;humblBOUNCE&quot;</td></tr><tr><td>2024-06-01</td><td>&quot;United States&quot;</td><td>2.97</td><td>-0.51</td><td>99.95</td><td>0.09</td><td>&quot;humblBOOM&quot;</td></tr><tr><td>2024-07-01</td><td>&quot;United States&quot;</td><td>2.89</td><td>-0.46</td><td>99.97</td><td>0.04</td><td>&quot;humblBOOM&quot;</td></tr><tr><td>2024-08-01</td><td>&quot;United States&quot;</td><td>2.53</td><td>-0.74</td><td>100.03</td><td>0.08</td><td>&quot;humblBOOM&quot;</td></tr><tr><td>2024-09-01</td><td>&quot;United States&quot;</td><td>2.44</td><td>-0.53</td><td>100.13</td><td>0.18</td><td>&quot;humblBOOM&quot;</td></tr><tr><td>2024-10-01</td><td>&quot;United States&quot;</td><td>2.6</td><td>-0.3</td><td>100.25</td><td>0.28</td><td>&quot;humblBOOM&quot;</td></tr></tbody></table></div>"
      ],
      "text/plain": [
       "shape: (6, 7)\n",
       "┌──────────────────┬───────────────┬──────┬──────────────┬────────┬──────────────┬──────────────┐\n",
       "│ date_month_start ┆ country       ┆ cpi  ┆ cpi_3m_delta ┆ cli    ┆ cli_3m_delta ┆ humbl_regime │\n",
       "│ ---              ┆ ---           ┆ ---  ┆ ---          ┆ ---    ┆ ---          ┆ ---          │\n",
       "│ date             ┆ str           ┆ f64  ┆ f64          ┆ f64    ┆ f64          ┆ str          │\n",
       "╞══════════════════╪═══════════════╪══════╪══════════════╪════════╪══════════════╪══════════════╡\n",
       "│ 2024-05-01       ┆ United States ┆ 3.27 ┆ 0.12         ┆ 99.95  ┆ 0.22         ┆ humblBOUNCE  │\n",
       "│ 2024-06-01       ┆ United States ┆ 2.97 ┆ -0.51        ┆ 99.95  ┆ 0.09         ┆ humblBOOM    │\n",
       "│ 2024-07-01       ┆ United States ┆ 2.89 ┆ -0.46        ┆ 99.97  ┆ 0.04         ┆ humblBOOM    │\n",
       "│ 2024-08-01       ┆ United States ┆ 2.53 ┆ -0.74        ┆ 100.03 ┆ 0.08         ┆ humblBOOM    │\n",
       "│ 2024-09-01       ┆ United States ┆ 2.44 ┆ -0.53        ┆ 100.13 ┆ 0.18         ┆ humblBOOM    │\n",
       "│ 2024-10-01       ┆ United States ┆ 2.6  ┆ -0.3         ┆ 100.25 ┆ 0.28         ┆ humblBOOM    │\n",
       "└──────────────────┴───────────────┴──────┴──────────────┴────────┴──────────────┴──────────────┘"
      ]
     },
     "execution_count": 99,
     "metadata": {},
     "output_type": "execute_result"
    }
   ],
   "source": [
    "compass.to_polars()"
   ]
  },
  {
   "cell_type": "code",
   "execution_count": 100,
   "metadata": {},
   "outputs": [
    {
     "data": {
      "text/plain": [
       "{'humbl_regime_recommendations': {'asset_classes': {'best': [<AssetRecommendation.EQUITIES: 'Equities'>,\n",
       "    <AssetRecommendation.CREDIT: 'Credit'>,\n",
       "    <AssetRecommendation.COMMODITIES: 'Commodities'>,\n",
       "    <AssetRecommendation.FX: 'FX'>],\n",
       "   'worst': [<AssetRecommendation.FIXED_INCOME: 'Fixed Income'>,\n",
       "    <AssetRecommendation.USD: 'USD'>],\n",
       "   'rationale': 'Strong growth and inflation expectations favor risk assets'},\n",
       "  'equity_sectors': {'best': [<AssetRecommendation.TECHNOLOGY: 'Technology'>,\n",
       "    <AssetRecommendation.CONSUMER_DISCRETIONARY: 'Consumer Discretionary'>,\n",
       "    <AssetRecommendation.MATERIALS: 'Materials'>,\n",
       "    <AssetRecommendation.INDUSTRIALS: 'Industrials'>],\n",
       "   'worst': [<AssetRecommendation.UTILITIES: 'Utilities'>,\n",
       "    <AssetRecommendation.REITS: 'REITs'>,\n",
       "    <AssetRecommendation.CONSUMER_STAPLES: 'Consumer Staples'>,\n",
       "    <AssetRecommendation.FINANCIALS: 'Financials'>],\n",
       "   'rationale': 'Growth sectors outperform in expansionary environments'},\n",
       "  'equity_factors': {'best': [<AssetRecommendation.HIGH_BETA: 'High Beta'>,\n",
       "    <AssetRecommendation.MOMENTUM: 'Momentum'>,\n",
       "    <AssetRecommendation.CYCLICALS: 'Cyclicals'>,\n",
       "    <AssetRecommendation.SECULAR_GROWTH: 'Secular Growth'>],\n",
       "   'worst': [<AssetRecommendation.LOW_BETA: 'Low Beta'>,\n",
       "    <AssetRecommendation.DEFENSIVES: 'Defensives'>,\n",
       "    <AssetRecommendation.VALUE: 'Value'>,\n",
       "    <AssetRecommendation.DIVIDEND_YIELD: 'Dividend Yield'>],\n",
       "   'rationale': 'Risk-on factors perform well in growth environments'},\n",
       "  'fixed_income': {'best': [<AssetRecommendation.BDCS: 'BDCs'>,\n",
       "    <AssetRecommendation.CONVERTIBLES: 'Convertibles'>,\n",
       "    <AssetRecommendation.HY_CREDIT: 'HY Credit'>,\n",
       "    <AssetRecommendation.EM_DEBT: 'EM Debt'>],\n",
       "   'worst': [<AssetRecommendation.TIPS: 'TIPS'>,\n",
       "    <AssetRecommendation.SHORT_DURATION_TREASURIES: 'Short Duration Treasuries'>,\n",
       "    <AssetRecommendation.MORTGAGE_BACKED_SECURITIES: 'Mortgage Backed Securities'>,\n",
       "    <AssetRecommendation.MEDIUM_DURATION_TREASURIES: 'Medium Duration Treasuries'>],\n",
       "   'rationale': 'Credit risk outperforms duration risk'},\n",
       "  'regime_description': 'Strong growth and rising inflation environment favors risk assets with big market multiples in equities, junk bonds, and real growth',\n",
       "  'key_risks': ['Inflation overshooting',\n",
       "   'Policy tightening',\n",
       "   'Valuation compression'],\n",
       "  'last_updated': datetime.datetime(2024, 12, 1, 14, 34, 41, 280830)}}"
      ]
     },
     "execution_count": 100,
     "metadata": {},
     "output_type": "execute_result"
    }
   ],
   "source": [
    "compass.extra\n"
   ]
  },
  {
   "cell_type": "code",
   "execution_count": 101,
   "metadata": {},
   "outputs": [
    {
     "data": {
      "application/vnd.plotly.v1+json": {
       "config": {
        "plotlyServerURL": "https://plot.ly"
       },
       "data": [
        {
         "hovertemplate": "<b>%{text}</b><br>CPI 3m Δ: %{x:.2f}<br>CLI 3m Δ: %{y:.2f}<extra></extra>",
         "line": {
          "color": "white",
          "shape": "spline",
          "smoothing": 1.3
         },
         "marker": {
          "color": [
           0,
           1,
           2,
           3,
           4,
           5
          ],
          "colorscale": [
           [
            0,
            "rgb(253, 202, 181)"
           ],
           [
            1,
            "rgb(188, 20, 26)"
           ]
          ],
          "showscale": false,
          "size": 10
         },
         "mode": "lines+markers+text",
         "name": "HumblCompass Data",
         "text": [
          "May 2024",
          "Jun 2024",
          "Jul 2024",
          "Aug 2024",
          "Sep 2024",
          "Oct 2024"
         ],
         "textfont": {
          "color": "white",
          "size": 10
         },
         "textposition": "top center",
         "type": "scatter",
         "x": [
          0.12,
          -0.51,
          -0.46,
          -0.74,
          -0.53,
          -0.3
         ],
         "y": [
          0.22,
          0.09,
          0.04,
          0.08,
          0.18,
          0.28
         ]
        }
       ],
       "layout": {
        "annotations": [
         {
          "font": {
           "color": "white",
           "size": 8
          },
          "showarrow": false,
          "text": "-0.8",
          "x": -0.8,
          "y": 0,
          "yshift": -15
         },
         {
          "font": {
           "color": "white",
           "size": 8
          },
          "showarrow": false,
          "text": "-0.7",
          "x": -0.7,
          "y": 0,
          "yshift": -15
         },
         {
          "font": {
           "color": "white",
           "size": 8
          },
          "showarrow": false,
          "text": "-0.6",
          "x": -0.6,
          "y": 0,
          "yshift": -15
         },
         {
          "font": {
           "color": "white",
           "size": 8
          },
          "showarrow": false,
          "text": "-0.5",
          "x": -0.5,
          "y": 0,
          "yshift": -15
         },
         {
          "font": {
           "color": "white",
           "size": 8
          },
          "showarrow": false,
          "text": "-0.4",
          "x": -0.4,
          "y": 0,
          "yshift": -15
         },
         {
          "font": {
           "color": "white",
           "size": 8
          },
          "showarrow": false,
          "text": "-0.3",
          "x": -0.3,
          "y": 0,
          "yshift": -15
         },
         {
          "font": {
           "color": "white",
           "size": 8
          },
          "showarrow": false,
          "text": "-0.2",
          "x": -0.2,
          "y": 0,
          "yshift": -15
         },
         {
          "font": {
           "color": "white",
           "size": 8
          },
          "showarrow": false,
          "text": "-0.1",
          "x": -0.1,
          "y": 0,
          "yshift": -15
         },
         {
          "font": {
           "color": "white",
           "size": 8
          },
          "showarrow": false,
          "text": "0.1",
          "x": 0.1,
          "y": 0,
          "yshift": -15
         },
         {
          "font": {
           "color": "white",
           "size": 8
          },
          "showarrow": false,
          "text": "0.2",
          "x": 0.2,
          "y": 0,
          "yshift": -15
         },
         {
          "font": {
           "color": "white",
           "size": 8
          },
          "showarrow": false,
          "text": "0.3",
          "x": 0.3,
          "y": 0,
          "yshift": -15
         },
         {
          "font": {
           "color": "white",
           "size": 8
          },
          "showarrow": false,
          "text": "0.4",
          "x": 0.4,
          "y": 0,
          "yshift": -15
         },
         {
          "font": {
           "color": "white",
           "size": 8
          },
          "showarrow": false,
          "text": "-0.4",
          "x": 0,
          "xshift": -15,
          "y": -0.4
         },
         {
          "font": {
           "color": "white",
           "size": 8
          },
          "showarrow": false,
          "text": "-0.3",
          "x": 0,
          "xshift": -15,
          "y": -0.3
         },
         {
          "font": {
           "color": "white",
           "size": 8
          },
          "showarrow": false,
          "text": "-0.2",
          "x": 0,
          "xshift": -15,
          "y": -0.2
         },
         {
          "font": {
           "color": "white",
           "size": 8
          },
          "showarrow": false,
          "text": "-0.1",
          "x": 0,
          "xshift": -15,
          "y": -0.1
         },
         {
          "font": {
           "color": "white",
           "size": 8
          },
          "showarrow": false,
          "text": "0.1",
          "x": 0,
          "xshift": -15,
          "y": 0.1
         },
         {
          "font": {
           "color": "white",
           "size": 8
          },
          "showarrow": false,
          "text": "0.2",
          "x": 0,
          "xshift": -15,
          "y": 0.2
         },
         {
          "font": {
           "color": "white",
           "size": 8
          },
          "showarrow": false,
          "text": "0.3",
          "x": 0,
          "xshift": -15,
          "y": 0.3
         },
         {
          "font": {
           "color": "white",
           "size": 8
          },
          "showarrow": false,
          "text": "0.4",
          "x": 0,
          "xshift": -15,
          "y": 0.4
         },
         {
          "font": {
           "color": "rgba(144, 238, 144, 0.5)",
           "size": 20
          },
          "opacity": 0.5,
          "showarrow": false,
          "text": "humblBOOM",
          "x": -0.422,
          "y": 0.18
         },
         {
          "font": {
           "color": "rgba(173, 216, 230, 0.5)",
           "size": 20
          },
          "opacity": 0.5,
          "showarrow": false,
          "text": "humblBOUNCE",
          "x": 0.202,
          "y": 0.18
         },
         {
          "font": {
           "color": "rgba(255, 165, 0, 0.5)",
           "size": 20
          },
          "opacity": 0.5,
          "showarrow": false,
          "text": "humblBLOAT",
          "x": 0.202,
          "y": -0.18
         },
         {
          "font": {
           "color": "rgba(255, 99, 71, 0.5)",
           "size": 20
          },
          "opacity": 0.5,
          "showarrow": false,
          "text": "humblBUST",
          "x": -0.422,
          "y": -0.18
         },
         {
          "font": {
           "color": "rgba(255, 255, 255, 0.1)",
           "size": 40
          },
          "showarrow": false,
          "text": "humblDATA",
          "textangle": -25,
          "x": 0,
          "xanchor": "center",
          "xref": "x",
          "y": 0,
          "yanchor": "middle",
          "yref": "y"
         }
        ],
        "font": {
         "color": "white"
        },
        "hovermode": "closest",
        "margin": {
         "b": 50,
         "l": 50,
         "r": 50,
         "t": 50
        },
        "paper_bgcolor": "rgba(0,0,0,0)",
        "plot_bgcolor": "rgba(0,0,0,0)",
        "shapes": [
         {
          "fillcolor": "rgba(173, 216, 230, 0.3)",
          "layer": "below",
          "line": {
           "color": "rgba(0,0,0,0)"
          },
          "type": "rect",
          "x0": 0,
          "x1": 10,
          "y0": 0,
          "y1": 10
         },
         {
          "fillcolor": "rgba(144, 238, 144, 0.3)",
          "layer": "below",
          "line": {
           "color": "rgba(0,0,0,0)"
          },
          "type": "rect",
          "x0": -10,
          "x1": 0,
          "y0": 0,
          "y1": 10
         },
         {
          "fillcolor": "rgba(255, 165, 0, 0.3)",
          "layer": "below",
          "line": {
           "color": "rgba(0,0,0,0)"
          },
          "type": "rect",
          "x0": 0,
          "x1": 10,
          "y0": -10,
          "y1": 0
         },
         {
          "fillcolor": "rgba(255, 99, 71, 0.3)",
          "layer": "below",
          "line": {
           "color": "rgba(0,0,0,0)"
          },
          "type": "rect",
          "x0": -10,
          "x1": 0,
          "y0": -10,
          "y1": 0
         },
         {
          "line": {
           "color": "white",
           "width": 1
          },
          "type": "line",
          "x0": -0.844,
          "x1": 0.404,
          "y0": 0,
          "y1": 0
         },
         {
          "line": {
           "color": "white",
           "width": 1
          },
          "type": "line",
          "x0": 0,
          "x1": 0,
          "y0": -0.36,
          "y1": 0.36
         },
         {
          "line": {
           "color": "white",
           "width": 1
          },
          "type": "line",
          "x0": -0.8,
          "x1": -0.8,
          "y0": -0.005,
          "y1": 0.005
         },
         {
          "line": {
           "color": "white",
           "width": 1
          },
          "type": "line",
          "x0": -0.7,
          "x1": -0.7,
          "y0": -0.005,
          "y1": 0.005
         },
         {
          "line": {
           "color": "white",
           "width": 1
          },
          "type": "line",
          "x0": -0.6,
          "x1": -0.6,
          "y0": -0.005,
          "y1": 0.005
         },
         {
          "line": {
           "color": "white",
           "width": 1
          },
          "type": "line",
          "x0": -0.5,
          "x1": -0.5,
          "y0": -0.005,
          "y1": 0.005
         },
         {
          "line": {
           "color": "white",
           "width": 1
          },
          "type": "line",
          "x0": -0.4,
          "x1": -0.4,
          "y0": -0.005,
          "y1": 0.005
         },
         {
          "line": {
           "color": "white",
           "width": 1
          },
          "type": "line",
          "x0": -0.3,
          "x1": -0.3,
          "y0": -0.005,
          "y1": 0.005
         },
         {
          "line": {
           "color": "white",
           "width": 1
          },
          "type": "line",
          "x0": -0.2,
          "x1": -0.2,
          "y0": -0.005,
          "y1": 0.005
         },
         {
          "line": {
           "color": "white",
           "width": 1
          },
          "type": "line",
          "x0": -0.1,
          "x1": -0.1,
          "y0": -0.005,
          "y1": 0.005
         },
         {
          "line": {
           "color": "white",
           "width": 1
          },
          "type": "line",
          "x0": 0.1,
          "x1": 0.1,
          "y0": -0.005,
          "y1": 0.005
         },
         {
          "line": {
           "color": "white",
           "width": 1
          },
          "type": "line",
          "x0": 0.2,
          "x1": 0.2,
          "y0": -0.005,
          "y1": 0.005
         },
         {
          "line": {
           "color": "white",
           "width": 1
          },
          "type": "line",
          "x0": 0.3,
          "x1": 0.3,
          "y0": -0.005,
          "y1": 0.005
         },
         {
          "line": {
           "color": "white",
           "width": 1
          },
          "type": "line",
          "x0": 0.4,
          "x1": 0.4,
          "y0": -0.005,
          "y1": 0.005
         },
         {
          "line": {
           "color": "white",
           "width": 1
          },
          "type": "line",
          "x0": -0.005,
          "x1": 0.005,
          "y0": -0.4,
          "y1": -0.4
         },
         {
          "line": {
           "color": "white",
           "width": 1
          },
          "type": "line",
          "x0": -0.005,
          "x1": 0.005,
          "y0": -0.3,
          "y1": -0.3
         },
         {
          "line": {
           "color": "white",
           "width": 1
          },
          "type": "line",
          "x0": -0.005,
          "x1": 0.005,
          "y0": -0.2,
          "y1": -0.2
         },
         {
          "line": {
           "color": "white",
           "width": 1
          },
          "type": "line",
          "x0": -0.005,
          "x1": 0.005,
          "y0": -0.1,
          "y1": -0.1
         },
         {
          "line": {
           "color": "white",
           "width": 1
          },
          "type": "line",
          "x0": -0.005,
          "x1": 0.005,
          "y0": 0.1,
          "y1": 0.1
         },
         {
          "line": {
           "color": "white",
           "width": 1
          },
          "type": "line",
          "x0": -0.005,
          "x1": 0.005,
          "y0": 0.2,
          "y1": 0.2
         },
         {
          "line": {
           "color": "white",
           "width": 1
          },
          "type": "line",
          "x0": -0.005,
          "x1": 0.005,
          "y0": 0.3,
          "y1": 0.3
         },
         {
          "line": {
           "color": "white",
           "width": 1
          },
          "type": "line",
          "x0": -0.005,
          "x1": 0.005,
          "y0": 0.4,
          "y1": 0.4
         }
        ],
        "template": {
         "data": {
          "bar": [
           {
            "error_x": {
             "color": "#f2f5fa"
            },
            "error_y": {
             "color": "#f2f5fa"
            },
            "marker": {
             "line": {
              "color": "rgb(17,17,17)",
              "width": 0.5
             },
             "pattern": {
              "fillmode": "overlay",
              "size": 10,
              "solidity": 0.2
             }
            },
            "type": "bar"
           }
          ],
          "barpolar": [
           {
            "marker": {
             "line": {
              "color": "rgb(17,17,17)",
              "width": 0.5
             },
             "pattern": {
              "fillmode": "overlay",
              "size": 10,
              "solidity": 0.2
             }
            },
            "type": "barpolar"
           }
          ],
          "carpet": [
           {
            "aaxis": {
             "endlinecolor": "#A2B1C6",
             "gridcolor": "#506784",
             "linecolor": "#506784",
             "minorgridcolor": "#506784",
             "startlinecolor": "#A2B1C6"
            },
            "baxis": {
             "endlinecolor": "#A2B1C6",
             "gridcolor": "#506784",
             "linecolor": "#506784",
             "minorgridcolor": "#506784",
             "startlinecolor": "#A2B1C6"
            },
            "type": "carpet"
           }
          ],
          "choropleth": [
           {
            "colorbar": {
             "outlinewidth": 0,
             "ticks": ""
            },
            "type": "choropleth"
           }
          ],
          "contour": [
           {
            "colorbar": {
             "outlinewidth": 0,
             "ticks": ""
            },
            "colorscale": [
             [
              0,
              "#0d0887"
             ],
             [
              0.1111111111111111,
              "#46039f"
             ],
             [
              0.2222222222222222,
              "#7201a8"
             ],
             [
              0.3333333333333333,
              "#9c179e"
             ],
             [
              0.4444444444444444,
              "#bd3786"
             ],
             [
              0.5555555555555556,
              "#d8576b"
             ],
             [
              0.6666666666666666,
              "#ed7953"
             ],
             [
              0.7777777777777778,
              "#fb9f3a"
             ],
             [
              0.8888888888888888,
              "#fdca26"
             ],
             [
              1,
              "#f0f921"
             ]
            ],
            "type": "contour"
           }
          ],
          "contourcarpet": [
           {
            "colorbar": {
             "outlinewidth": 0,
             "ticks": ""
            },
            "type": "contourcarpet"
           }
          ],
          "heatmap": [
           {
            "colorbar": {
             "outlinewidth": 0,
             "ticks": ""
            },
            "colorscale": [
             [
              0,
              "#0d0887"
             ],
             [
              0.1111111111111111,
              "#46039f"
             ],
             [
              0.2222222222222222,
              "#7201a8"
             ],
             [
              0.3333333333333333,
              "#9c179e"
             ],
             [
              0.4444444444444444,
              "#bd3786"
             ],
             [
              0.5555555555555556,
              "#d8576b"
             ],
             [
              0.6666666666666666,
              "#ed7953"
             ],
             [
              0.7777777777777778,
              "#fb9f3a"
             ],
             [
              0.8888888888888888,
              "#fdca26"
             ],
             [
              1,
              "#f0f921"
             ]
            ],
            "type": "heatmap"
           }
          ],
          "heatmapgl": [
           {
            "colorbar": {
             "outlinewidth": 0,
             "ticks": ""
            },
            "colorscale": [
             [
              0,
              "#0d0887"
             ],
             [
              0.1111111111111111,
              "#46039f"
             ],
             [
              0.2222222222222222,
              "#7201a8"
             ],
             [
              0.3333333333333333,
              "#9c179e"
             ],
             [
              0.4444444444444444,
              "#bd3786"
             ],
             [
              0.5555555555555556,
              "#d8576b"
             ],
             [
              0.6666666666666666,
              "#ed7953"
             ],
             [
              0.7777777777777778,
              "#fb9f3a"
             ],
             [
              0.8888888888888888,
              "#fdca26"
             ],
             [
              1,
              "#f0f921"
             ]
            ],
            "type": "heatmapgl"
           }
          ],
          "histogram": [
           {
            "marker": {
             "pattern": {
              "fillmode": "overlay",
              "size": 10,
              "solidity": 0.2
             }
            },
            "type": "histogram"
           }
          ],
          "histogram2d": [
           {
            "colorbar": {
             "outlinewidth": 0,
             "ticks": ""
            },
            "colorscale": [
             [
              0,
              "#0d0887"
             ],
             [
              0.1111111111111111,
              "#46039f"
             ],
             [
              0.2222222222222222,
              "#7201a8"
             ],
             [
              0.3333333333333333,
              "#9c179e"
             ],
             [
              0.4444444444444444,
              "#bd3786"
             ],
             [
              0.5555555555555556,
              "#d8576b"
             ],
             [
              0.6666666666666666,
              "#ed7953"
             ],
             [
              0.7777777777777778,
              "#fb9f3a"
             ],
             [
              0.8888888888888888,
              "#fdca26"
             ],
             [
              1,
              "#f0f921"
             ]
            ],
            "type": "histogram2d"
           }
          ],
          "histogram2dcontour": [
           {
            "colorbar": {
             "outlinewidth": 0,
             "ticks": ""
            },
            "colorscale": [
             [
              0,
              "#0d0887"
             ],
             [
              0.1111111111111111,
              "#46039f"
             ],
             [
              0.2222222222222222,
              "#7201a8"
             ],
             [
              0.3333333333333333,
              "#9c179e"
             ],
             [
              0.4444444444444444,
              "#bd3786"
             ],
             [
              0.5555555555555556,
              "#d8576b"
             ],
             [
              0.6666666666666666,
              "#ed7953"
             ],
             [
              0.7777777777777778,
              "#fb9f3a"
             ],
             [
              0.8888888888888888,
              "#fdca26"
             ],
             [
              1,
              "#f0f921"
             ]
            ],
            "type": "histogram2dcontour"
           }
          ],
          "mesh3d": [
           {
            "colorbar": {
             "outlinewidth": 0,
             "ticks": ""
            },
            "type": "mesh3d"
           }
          ],
          "parcoords": [
           {
            "line": {
             "colorbar": {
              "outlinewidth": 0,
              "ticks": ""
             }
            },
            "type": "parcoords"
           }
          ],
          "pie": [
           {
            "automargin": true,
            "type": "pie"
           }
          ],
          "scatter": [
           {
            "fillpattern": {
             "fillmode": "overlay",
             "size": 10,
             "solidity": 0.2
            },
            "marker": {
             "line": {
              "color": "#283442"
             }
            },
            "type": "scatter"
           }
          ],
          "scatter3d": [
           {
            "line": {
             "colorbar": {
              "outlinewidth": 0,
              "ticks": ""
             }
            },
            "marker": {
             "colorbar": {
              "outlinewidth": 0,
              "ticks": ""
             }
            },
            "type": "scatter3d"
           }
          ],
          "scattercarpet": [
           {
            "marker": {
             "colorbar": {
              "outlinewidth": 0,
              "ticks": ""
             }
            },
            "type": "scattercarpet"
           }
          ],
          "scattergeo": [
           {
            "marker": {
             "colorbar": {
              "outlinewidth": 0,
              "ticks": ""
             }
            },
            "type": "scattergeo"
           }
          ],
          "scattergl": [
           {
            "marker": {
             "colorbar": {
              "outlinewidth": 0,
              "ticks": ""
             },
             "line": {
              "color": "#283442"
             }
            },
            "type": "scattergl"
           }
          ],
          "scattermapbox": [
           {
            "marker": {
             "colorbar": {
              "outlinewidth": 0,
              "ticks": ""
             }
            },
            "type": "scattermapbox"
           }
          ],
          "scatterpolar": [
           {
            "marker": {
             "colorbar": {
              "outlinewidth": 0,
              "ticks": ""
             }
            },
            "type": "scatterpolar"
           }
          ],
          "scatterpolargl": [
           {
            "marker": {
             "colorbar": {
              "outlinewidth": 0,
              "ticks": ""
             }
            },
            "type": "scatterpolargl"
           }
          ],
          "scatterternary": [
           {
            "marker": {
             "colorbar": {
              "outlinewidth": 0,
              "ticks": ""
             }
            },
            "type": "scatterternary"
           }
          ],
          "surface": [
           {
            "colorbar": {
             "outlinewidth": 0,
             "ticks": ""
            },
            "colorscale": [
             [
              0,
              "#0d0887"
             ],
             [
              0.1111111111111111,
              "#46039f"
             ],
             [
              0.2222222222222222,
              "#7201a8"
             ],
             [
              0.3333333333333333,
              "#9c179e"
             ],
             [
              0.4444444444444444,
              "#bd3786"
             ],
             [
              0.5555555555555556,
              "#d8576b"
             ],
             [
              0.6666666666666666,
              "#ed7953"
             ],
             [
              0.7777777777777778,
              "#fb9f3a"
             ],
             [
              0.8888888888888888,
              "#fdca26"
             ],
             [
              1,
              "#f0f921"
             ]
            ],
            "type": "surface"
           }
          ],
          "table": [
           {
            "cells": {
             "fill": {
              "color": "#506784"
             },
             "line": {
              "color": "rgb(17,17,17)"
             }
            },
            "header": {
             "fill": {
              "color": "#2a3f5f"
             },
             "line": {
              "color": "rgb(17,17,17)"
             }
            },
            "type": "table"
           }
          ]
         },
         "layout": {
          "annotationdefaults": {
           "arrowcolor": "#f2f5fa",
           "arrowhead": 0,
           "arrowwidth": 1
          },
          "autotypenumbers": "strict",
          "coloraxis": {
           "colorbar": {
            "outlinewidth": 0,
            "ticks": ""
           }
          },
          "colorscale": {
           "diverging": [
            [
             0,
             "#8e0152"
            ],
            [
             0.1,
             "#c51b7d"
            ],
            [
             0.2,
             "#de77ae"
            ],
            [
             0.3,
             "#f1b6da"
            ],
            [
             0.4,
             "#fde0ef"
            ],
            [
             0.5,
             "#f7f7f7"
            ],
            [
             0.6,
             "#e6f5d0"
            ],
            [
             0.7,
             "#b8e186"
            ],
            [
             0.8,
             "#7fbc41"
            ],
            [
             0.9,
             "#4d9221"
            ],
            [
             1,
             "#276419"
            ]
           ],
           "sequential": [
            [
             0,
             "#0d0887"
            ],
            [
             0.1111111111111111,
             "#46039f"
            ],
            [
             0.2222222222222222,
             "#7201a8"
            ],
            [
             0.3333333333333333,
             "#9c179e"
            ],
            [
             0.4444444444444444,
             "#bd3786"
            ],
            [
             0.5555555555555556,
             "#d8576b"
            ],
            [
             0.6666666666666666,
             "#ed7953"
            ],
            [
             0.7777777777777778,
             "#fb9f3a"
            ],
            [
             0.8888888888888888,
             "#fdca26"
            ],
            [
             1,
             "#f0f921"
            ]
           ],
           "sequentialminus": [
            [
             0,
             "#0d0887"
            ],
            [
             0.1111111111111111,
             "#46039f"
            ],
            [
             0.2222222222222222,
             "#7201a8"
            ],
            [
             0.3333333333333333,
             "#9c179e"
            ],
            [
             0.4444444444444444,
             "#bd3786"
            ],
            [
             0.5555555555555556,
             "#d8576b"
            ],
            [
             0.6666666666666666,
             "#ed7953"
            ],
            [
             0.7777777777777778,
             "#fb9f3a"
            ],
            [
             0.8888888888888888,
             "#fdca26"
            ],
            [
             1,
             "#f0f921"
            ]
           ]
          },
          "colorway": [
           "#636efa",
           "#EF553B",
           "#00cc96",
           "#ab63fa",
           "#FFA15A",
           "#19d3f3",
           "#FF6692",
           "#B6E880",
           "#FF97FF",
           "#FECB52"
          ],
          "font": {
           "color": "white"
          },
          "geo": {
           "bgcolor": "rgb(17,17,17)",
           "lakecolor": "rgb(17,17,17)",
           "landcolor": "rgb(17,17,17)",
           "showlakes": true,
           "showland": true,
           "subunitcolor": "#506784"
          },
          "hoverlabel": {
           "align": "left"
          },
          "hovermode": "closest",
          "legend": {
           "bgcolor": "rgb(0,0,0,0)",
           "bordercolor": "rgb(63,70,139)",
           "borderwidth": 0.5,
           "font": {
            "color": "white",
            "family": "open-sans",
            "size": 12
           },
           "orientation": "h",
           "traceorder": "normal",
           "x": 0.5,
           "xanchor": "center",
           "y": -0.15
          },
          "mapbox": {
           "style": "dark"
          },
          "paper_bgcolor": "rgb(0,0,0,0)",
          "plot_bgcolor": "rgb(0,0,0,0)",
          "polar": {
           "angularaxis": {
            "gridcolor": "#506784",
            "linecolor": "#506784",
            "ticks": ""
           },
           "bgcolor": "rgb(17,17,17)",
           "radialaxis": {
            "gridcolor": "#506784",
            "linecolor": "#506784",
            "ticks": ""
           }
          },
          "scene": {
           "xaxis": {
            "backgroundcolor": "rgb(17,17,17)",
            "gridcolor": "#506784",
            "gridwidth": 2,
            "linecolor": "#506784",
            "showbackground": true,
            "ticks": "",
            "zerolinecolor": "#C8D4E3"
           },
           "yaxis": {
            "backgroundcolor": "rgb(17,17,17)",
            "gridcolor": "#506784",
            "gridwidth": 2,
            "linecolor": "#506784",
            "showbackground": true,
            "ticks": "",
            "zerolinecolor": "#C8D4E3"
           },
           "zaxis": {
            "backgroundcolor": "rgb(17,17,17)",
            "gridcolor": "#506784",
            "gridwidth": 2,
            "linecolor": "#506784",
            "showbackground": true,
            "ticks": "",
            "zerolinecolor": "#C8D4E3"
           }
          },
          "shapedefaults": {
           "line": {
            "color": "#f2f5fa"
           }
          },
          "sliderdefaults": {
           "bgcolor": "#C8D4E3",
           "bordercolor": "rgb(17,17,17)",
           "borderwidth": 1,
           "tickwidth": 0
          },
          "ternary": {
           "aaxis": {
            "gridcolor": "#506784",
            "linecolor": "#506784",
            "ticks": ""
           },
           "baxis": {
            "gridcolor": "#506784",
            "linecolor": "#506784",
            "ticks": ""
           },
           "bgcolor": "rgb(17,17,17)",
           "caxis": {
            "gridcolor": "#506784",
            "linecolor": "#506784",
            "ticks": ""
           }
          },
          "title": {
           "x": 0.05
          },
          "updatemenudefaults": {
           "bgcolor": "#506784",
           "borderwidth": 0
          },
          "xaxis": {
           "automargin": true,
           "gridcolor": "#283442",
           "linecolor": "#506784",
           "ticks": "",
           "title": {
            "standoff": 15
           },
           "zerolinecolor": "#283442",
           "zerolinewidth": 2
          },
          "yaxis": {
           "automargin": true,
           "gridcolor": "#283442",
           "linecolor": "#506784",
           "side": "right",
           "ticks": "",
           "title": {
            "standoff": 15
           },
           "zerolinecolor": "#283442",
           "zerolinewidth": 2
          }
         }
        },
        "title": {
         "font": {
          "color": "white"
         },
         "text": "humblCOMPASS: CLI 3m Delta vs CPI 3m Delta"
        },
        "xaxis": {
         "color": "white",
         "range": [
          -0.844,
          0.404
         ],
         "showgrid": false,
         "showticklabels": false,
         "ticks": "",
         "title": {
          "text": "Inflation (CPI) 3-Month Delta"
         },
         "zeroline": false
        },
        "yaxis": {
         "color": "white",
         "range": [
          -0.36,
          0.36
         ],
         "showgrid": false,
         "showticklabels": false,
         "ticks": "",
         "title": {
          "text": "Growth (CLI) 3-Month Delta"
         },
         "zeroline": false
        }
       }
      }
     },
     "metadata": {},
     "output_type": "display_data"
    }
   ],
   "source": [
    "compass.show()"
   ]
  },
  {
   "cell_type": "code",
   "execution_count": null,
   "metadata": {},
   "outputs": [],
   "source": []
  }
 ],
 "metadata": {
  "kernelspec": {
   "display_name": "Python 3",
   "language": "python",
   "name": "python3"
  },
  "language_info": {
   "codemirror_mode": {
    "name": "ipython",
    "version": 3
   },
   "file_extension": ".py",
   "mimetype": "text/x-python",
   "name": "python",
   "nbconvert_exporter": "python",
   "pygments_lexer": "ipython3",
   "version": "3.12.7"
  }
 },
 "nbformat": 4,
 "nbformat_minor": 2
}
