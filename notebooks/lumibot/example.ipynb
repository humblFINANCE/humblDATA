{
 "cells": [
  {
   "cell_type": "code",
   "execution_count": 3,
   "metadata": {},
   "outputs": [],
   "source": [
    "from lumibot.brokers import Alpaca\n",
    "from lumibot.traders import Trader\n"
   ]
  },
  {
   "cell_type": "code",
   "execution_count": 4,
   "metadata": {},
   "outputs": [],
   "source": [
    "ALPACA_CONFIG = {\n",
    "    # Put your own Alpaca key here:\n",
    "    \"API_KEY\": \"PKJ9BFP6PBGXQFKIZ61J\",\n",
    "    # Put your own Alpaca secret here:\n",
    "    \"API_SECRET\": \"XbtfmUXQ1laMmoFhAPJxPAcQUweQBZoAABJSDJhg\",\n",
    "    # Set this to False to use a live account\n",
    "    \"PAPER\": True\n",
    "}"
   ]
  },
  {
   "cell_type": "code",
   "execution_count": 8,
   "metadata": {},
   "outputs": [],
   "source": [
    "from lumibot.strategies.strategy import Strategy\n",
    "\n",
    "class MyStrategy(Strategy):  # noqa: D101\n",
    "    # Custom parameters\n",
    "    parameters = {  # noqa: RUF012\n",
    "        \"symbol\": \"SPY\",\n",
    "        \"quantity\": 1,\n",
    "        \"side\": \"buy\"\n",
    "    }\n",
    "\n",
    "    def initialize(self, symbol=\"\"):  # noqa: D102\n",
    "        # Will make on_trading_iteration() run every 180 minutes\n",
    "        self.sleeptime = \"180M\"\n",
    "\n",
    "    def on_trading_iteration(self):  # noqa: D102\n",
    "        symbol = self.parameters[\"symbol\"]\n",
    "        quantity = self.parameters[\"quantity\"]\n",
    "        side = self.parameters[\"side\"]\n",
    "\n",
    "        order = self.create_order(symbol, quantity, side)\n",
    "        self.submit_order(order)"
   ]
  },
  {
   "cell_type": "code",
   "execution_count": 9,
   "metadata": {},
   "outputs": [],
   "source": [
    "trader = Trader()\n",
    "broker = Alpaca(ALPACA_CONFIG)\n",
    "strategy = MyStrategy(name=\"My Strategy\", budget=10000, broker=broker, symbol=\"SPY\")"
   ]
  },
  {
   "cell_type": "code",
   "execution_count": 10,
   "metadata": {},
   "outputs": [
    {
     "name": "stdout",
     "output_type": "stream",
     "text": [
      "Progress |\u001b[32m\u001b[0m| 100.00%  [Elapsed: 0:00:36 ETA: 0:00:00] Portfolio Val: 815,091.34"
     ]
    },
    {
     "data": {
      "text/plain": [
       "({'cagr': 0.5332776315584928,\n",
       "  'volatility': 0.8577819390602982,\n",
       "  'sharpe': 0.5706317749593881,\n",
       "  'max_drawdown': {'drawdown': 0.8433431635080811,\n",
       "   'date': Timestamp('2022-10-12 08:30:00-0400', tz='America/New_York')},\n",
       "  'romad': 0.6323376469196728,\n",
       "  'total_return': 7.150913447473155},\n",
       " <__main__.MyStrategy at 0x33f8d28a0>)"
      ]
     },
     "execution_count": 10,
     "metadata": {},
     "output_type": "execute_result"
    }
   ],
   "source": [
    "from datetime import datetime\n",
    "from lumibot.backtesting import YahooDataBacktesting\n",
    "\n",
    "backtesting_start = datetime(2020, 1, 1)\n",
    "backtesting_end = datetime(2024, 12, 1)\n",
    "strategy.run_backtest(\n",
    "    YahooDataBacktesting,\n",
    "    backtesting_start,\n",
    "    backtesting_end,\n",
    "    parameters={\n",
    "        \"symbol\": \"SPY\"\n",
    "    },\n",
    ")"
   ]
  },
  {
   "cell_type": "code",
   "execution_count": null,
   "metadata": {},
   "outputs": [],
   "source": [
    "trader.add_strategy(strategy)\n",
    "trader.run_all()"
   ]
  }
 ],
 "metadata": {
  "kernelspec": {
   "display_name": "Python 3",
   "language": "python",
   "name": "python3"
  },
  "language_info": {
   "codemirror_mode": {
    "name": "ipython",
    "version": 3
   },
   "file_extension": ".py",
   "mimetype": "text/x-python",
   "name": "python",
   "nbconvert_exporter": "python",
   "pygments_lexer": "ipython3",
   "version": "3.12.7"
  }
 },
 "nbformat": 4,
 "nbformat_minor": 2
}
