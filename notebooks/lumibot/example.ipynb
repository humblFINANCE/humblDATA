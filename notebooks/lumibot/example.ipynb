{
 "cells": [
  {
   "cell_type": "code",
   "execution_count": 3,
   "metadata": {},
   "outputs": [],
   "source": [
    "from lumibot.brokers import Alpaca\n",
    "from lumibot.traders import Trader\n"
   ]
  },
  {
   "cell_type": "code",
   "execution_count": 4,
   "metadata": {},
   "outputs": [],
   "source": [
    "ALPACA_CONFIG = {\n",
    "    # Put your own Alpaca key here:\n",
    "    \"API_KEY\": \"PKJ9BFP6PBGXQFKIZ61J\",\n",
    "    # Put your own Alpaca secret here:\n",
    "    \"API_SECRET\": \"XbtfmUXQ1laMmoFhAPJxPAcQUweQBZoAABJSDJhg\",\n",
    "    # Set this to False to use a live account\n",
    "    \"PAPER\": True\n",
    "}"
   ]
  },
  {
   "cell_type": "code",
   "execution_count": 5,
   "metadata": {},
   "outputs": [],
   "source": [
    "from lumibot.strategies.strategy import Strategy\n",
    "\n",
    "class MyStrategy(Strategy):  # noqa: D101\n",
    "    # Custom parameters\n",
    "    parameters = {  # noqa: RUF012\n",
    "        \"symbol\": \"SPY\",\n",
    "        \"quantity\": 1,\n",
    "        \"side\": \"buy\"\n",
    "    }\n",
    "\n",
    "    def initialize(self, symbol=\"\"):  # noqa: D102\n",
    "        # Will make on_trading_iteration() run every 180 minutes\n",
    "        self.sleeptime = \"180M\"\n",
    "\n",
    "    def on_trading_iteration(self):  # noqa: D102\n",
    "        symbol = self.parameters[\"symbol\"]\n",
    "        quantity = self.parameters[\"quantity\"]\n",
    "        side = self.parameters[\"side\"]\n",
    "\n",
    "        order = self.create_order(symbol, quantity, side)\n",
    "        self.submit_order(order)"
   ]
  },
  {
   "cell_type": "code",
   "execution_count": 6,
   "metadata": {},
   "outputs": [
    {
     "name": "stderr",
     "output_type": "stream",
     "text": [
      "2024-12-04 16:48:00 | asyncio | INFO | [unknown] Waiting for the socket stream connection to be established, \n",
      "                method _stream_established must be called\n",
      "2024-12-04 16:48:00 | alpaca.trading.stream | INFO | started trading stream\n",
      "2024-12-04 16:48:00 | alpaca.trading.stream | INFO | starting trading websocket connection\n",
      "2024-12-04 16:48:01 | alpaca.trading.stream | INFO | connected to: BaseURL.TRADING_STREAM_PAPER\n"
     ]
    }
   ],
   "source": [
    "trader = Trader()\n",
    "broker = Alpaca(ALPACA_CONFIG)\n",
    "strategy = MyStrategy(name=\"My Strategy\", budget=10000, broker=broker, symbol=\"SPY\")"
   ]
  },
  {
   "cell_type": "code",
   "execution_count": 7,
   "metadata": {},
   "outputs": [
    {
     "name": "stderr",
     "output_type": "stream",
     "text": [
      "2024-12-04 16:48:04 | asyncio | INFO | Starting backtest...\n",
      "2024-12-04 16:48:04 | lumibot.traders.trader | INFO | Backtesting starting...\n"
     ]
    },
    {
     "name": "stdout",
     "output_type": "stream",
     "text": [
      "Progress |\u001b[32m\u001b[0m| 100.00%  [Elapsed: 0:05:28 ETA: 0:00:00] Portfolio Val: 8,467,335.28"
     ]
    },
    {
     "data": {
      "text/plain": [
       "({'cagr': 0.19508882985097986,\n",
       "  'volatility': 6.477905189953946,\n",
       "  'sharpe': 0.02335459137950833,\n",
       "  'max_drawdown': {'drawdown': 1.509549861285013,\n",
       "   'date': Timestamp('2009-03-06 08:30:00-0500', tz='America/New_York')},\n",
       "  'romad': 0.12923642660263596,\n",
       "  'total_return': 83.67335277981941},\n",
       " <__main__.MyStrategy at 0x321fe3cb0>)"
      ]
     },
     "execution_count": 7,
     "metadata": {},
     "output_type": "execute_result"
    }
   ],
   "source": [
    "from datetime import datetime\n",
    "from lumibot.backtesting import YahooDataBacktesting\n",
    "\n",
    "backtesting_start = datetime(2000, 1, 1)\n",
    "backtesting_end = datetime(2024, 12, 1)\n",
    "strategy.run_backtest(\n",
    "    YahooDataBacktesting,\n",
    "    backtesting_start,\n",
    "    backtesting_end,\n",
    "    parameters={\n",
    "        \"symbol\": \"SPY\"\n",
    "    },\n",
    ")"
   ]
  },
  {
   "cell_type": "code",
   "execution_count": null,
   "metadata": {},
   "outputs": [],
   "source": [
    "trader.add_strategy(strategy)\n",
    "trader.run_all()"
   ]
  }
 ],
 "metadata": {
  "kernelspec": {
   "display_name": "Python 3",
   "language": "python",
   "name": "python3"
  },
  "language_info": {
   "codemirror_mode": {
    "name": "ipython",
    "version": 3
   },
   "file_extension": ".py",
   "mimetype": "text/x-python",
   "name": "python",
   "nbconvert_exporter": "python",
   "pygments_lexer": "ipython3",
   "version": "3.12.7"
  }
 },
 "nbformat": 4,
 "nbformat_minor": 2
}
