{
 "cells": [
  {
   "cell_type": "code",
   "execution_count": 1,
   "metadata": {},
   "outputs": [
    {
     "name": "stderr",
     "output_type": "stream",
     "text": [
      "2024-12-10 15:52:23 | lumibot.credentials | WARNING | \u001b[33mNo .env file found. This is ok if you are using environment variables or secrets (like on Replit, AWS, etc), but if you are not, please create a .env file in the root directory of the project.\u001b[0m\n",
      "2024-12-10 15:52:23 | asyncio | INFO | [unknown] Waiting for the socket stream connection to be established, \n",
      "                method _stream_established must be called\n",
      "2024-12-10 15:52:23 | alpaca.trading.stream | INFO | started trading stream\n",
      "2024-12-10 15:52:23 | alpaca.trading.stream | INFO | starting trading websocket connection\n",
      "INFO: alpaca.trading.stream || connected to: BaseURL.TRADING_STREAM_PAPER\n"
     ]
    }
   ],
   "source": [
    "from datetime import datetime\n",
    "\n",
    "import polars as pl\n",
    "from lumibot.backtesting import YahooDataBacktesting\n",
    "from lumibot.brokers import Alpaca\n",
    "from lumibot.strategies.strategy import Strategy\n",
    "from lumibot.traders import Trader\n",
    "\n",
    "from humbldata.core.utils.env import Env\n",
    "from humbldata.toolbox.toolbox_controller import Toolbox\n"
   ]
  },
  {
   "cell_type": "code",
   "execution_count": 2,
   "metadata": {},
   "outputs": [],
   "source": [
    "class HumblChannelSingleLong(Strategy):\n",
    "    \"\"\"Strategy that trades based on HumblChannel indicators.\"\"\"\n",
    "\n",
    "    parameters: ClassVar[dict[str, Any]] = {\n",
    "        \"symbol\": \"SPY\",\n",
    "        \"quantity\": 1,\n",
    "        \"buy_threshold_pct\": 0.02,  # 2% threshold\n",
    "        \"sell_threshold_pct\": 0.02,  # 2% threshold\n",
    "    }\n",
    "\n",
    "    def initialize(self):\n",
    "        self.sleeptime = \"1D\"\n",
    "\n",
    "    def before_market_opens(self):\n",
    "        current_date = self.get_round_day()\n",
    "        # current_date = self.get_datetime().strftime(\"%Y-%m-%d\")\n",
    "        # self.log_message(f\"Current Trading Day: {current_date}\", color=\"blue\")\n",
    "\n",
    "        # Calculates the humblCHANNEL from 2000-01-01 to current date, returns only one observation\n",
    "        self.vars.daily_humbl_channel = (\n",
    "            Toolbox(\n",
    "                symbols=self.parameters[\"symbol\"],\n",
    "                interval=\"1d\",\n",
    "                start_date=\"2000-01-01\",\n",
    "                end_date=current_date,\n",
    "                membership=\"admin\",\n",
    "            )\n",
    "            .technical.mandelbrot_channel(\n",
    "                historical=False,\n",
    "                window=\"1mo\",\n",
    "                _boundary_group_down=False,\n",
    "                chart=False,\n",
    "                live_price=False,\n",
    "            )\n",
    "            .to_polars()\n",
    "        )\n",
    "\n",
    "        # self.log_message(\n",
    "        #     f\"HumblChannel Bottom Price: {self.vars.daily_humbl_channel.select('bottom_price')}\",\n",
    "        #     color=\"blue\",\n",
    "        # )\n",
    "        # self.log_message(\n",
    "        #     f\"HumblChannel Top Price: {self.vars.daily_humbl_channel.select('top_price')}\",\n",
    "        #     color=\"blue\",\n",
    "        # )\n",
    "\n",
    "    def on_trading_iteration(self):\n",
    "        symbol = self.parameters[\"symbol\"]\n",
    "        cash = self.get_cash()\n",
    "\n",
    "        # Get current price and position\n",
    "        current_price = self.get_last_price(symbol)\n",
    "        position = self.get_position(symbol)\n",
    "\n",
    "        # Get bottom and top prices from HumblChannel\n",
    "        bottom_price = self.vars.daily_humbl_channel.select(\"bottom_price\").row(\n",
    "            0\n",
    "        )[0]\n",
    "        top_price = self.vars.daily_humbl_channel.select(\"top_price\").row(0)[0]\n",
    "\n",
    "        # Calculate price differences as percentages\n",
    "        bottom_diff_pct = abs(current_price - bottom_price) / bottom_price\n",
    "        top_diff_pct = abs(current_price - top_price) / top_price\n",
    "\n",
    "        # First check sell condition - if we have a position and price is near top\n",
    "        if (\n",
    "            position is not None\n",
    "            and abs(top_diff_pct) <= self.parameters[\"sell_threshold_pct\"]\n",
    "        ):\n",
    "            # Sell all shares\n",
    "            order = self.create_order(symbol, position.quantity, \"sell\")\n",
    "            self.submit_order(order)\n",
    "            return  # Exit to prevent buy on same day\n",
    "\n",
    "        # Then check buy condition - if we have no position and price is near bottom\n",
    "        if (\n",
    "            position is None\n",
    "            and abs(bottom_diff_pct) <= self.parameters[\"buy_threshold_pct\"]\n",
    "        ):\n",
    "            # Calculate maximum shares we can buy with available cash\n",
    "            max_shares = int(cash / current_price)\n",
    "            if max_shares > 0:\n",
    "                order = self.create_order(symbol, max_shares, \"buy\")\n",
    "                self.submit_order(order)\n"
   ]
  },
  {
   "cell_type": "code",
   "execution_count": 3,
   "metadata": {},
   "outputs": [
    {
     "name": "stderr",
     "output_type": "stream",
     "text": [
      "INFO: asyncio || [unknown] Waiting for the socket stream connection to be established, \n",
      "                method _stream_established must be called\n",
      "INFO: alpaca.trading.stream || started trading stream\n",
      "INFO: alpaca.trading.stream || starting trading websocket connection\n"
     ]
    },
    {
     "name": "stderr",
     "output_type": "stream",
     "text": [
      "INFO: asyncio || Starting backtest...\n",
      "INFO: lumibot.traders.trader || Backtesting starting...\n",
      "2024-12-10 15:52:41,467: INFO: connected to: BaseURL.TRADING_STREAM_PAPER\n"
     ]
    },
    {
     "name": "stdout",
     "output_type": "stream",
     "text": [
      "Progress |\u001b[32m\u001b[0m|   0.07%  [Elapsed: 0:00:00 ETA: 0:13:56] "
     ]
    },
    {
     "name": "stderr",
     "output_type": "stream",
     "text": [
      "2024-12-10 15:52:41,983: INFO: Current backtesting datetime 2010-01-04 08:30:00-05:00\n"
     ]
    },
    {
     "name": "stdout",
     "output_type": "stream",
     "text": [
      "Progress |\u001b[32m\u001b[0m|   0.07%  [Elapsed: 0:00:02 ETA: 0:53:25] "
     ]
    },
    {
     "name": "stderr",
     "output_type": "stream",
     "text": [
      "2024-12-10 15:52:43,564: INFO: Current backtesting datetime 2010-01-04 09:30:00-05:00\n",
      "2024-12-10 16:04:43,130: INFO: [HumblChannelSingleLong] Processing trade event. Trade event received for HumblChannelSingleLong strategy: new SPY, processed by broker backtesting\n",
      "2024-12-10 16:04:43,132: INFO: [HumblChannelSingleLong] \u001b[32mNew order was created: market order of | 1 SPY buy | new\u001b[0m\n",
      "2024-12-10 16:04:43,165: INFO: [HumblChannelSingleLong] Processing a new order, payload: {'order': market order of | 1 SPY buy | new}\n",
      "2024-12-10 16:04:43,169: INFO: [HumblChannelSingleLong] Getting historical prices for SPY, 1 bars, \n",
      "2024-12-10 16:04:43,190: INFO: [HumblChannelSingleLong] Processing trade event. Trade event received for HumblChannelSingleLong strategy: fill SPY, processed by broker backtesting\n",
      "2024-12-10 16:04:43,198: INFO: [HumblChannelSingleLong] \u001b[32mOrder was filled: market order of | 1 SPY buy | @ $112.37 fill\u001b[0m\n",
      "2024-12-10 16:04:43,203: INFO: [HumblChannelSingleLong] Processing a filled order, payload: {'position': HumblChannelSingleLong Position: 1.0 shares of SPY (1 orders), 'order': market order of | 1 SPY buy | @ $112.37 fill, 'price': 112.37000274658203, 'quantity': 1.0, 'multiplier': 1}\n"
     ]
    },
    {
     "name": "stdout",
     "output_type": "stream",
     "text": [
      "Progress |\u001b[32m\u001b[0m|   0.07%  [Elapsed: 0:12:01 ETA: 12 days, 10:00:53] Portfolio Val: 100,000.00"
     ]
    },
    {
     "name": "stderr",
     "output_type": "stream",
     "text": [
      "2024-12-10 16:04:43,205: INFO: Current backtesting datetime 2010-01-04 10:30:00-05:00\n",
      "2024-12-10 16:04:43,212: INFO: [HumblChannelSingleLong] Processing trade event. Trade event received for HumblChannelSingleLong strategy: new SPY, processed by broker backtesting\n",
      "2024-12-10 16:04:43,214: INFO: [HumblChannelSingleLong] \u001b[32mNew order was created: market order of | 1 SPY buy | new\u001b[0m\n",
      "2024-12-10 16:04:43,222: INFO: [HumblChannelSingleLong] Processing a new order, payload: {'order': market order of | 1 SPY buy | new}\n",
      "2024-12-10 16:04:43,223: INFO: [HumblChannelSingleLong] Getting historical prices for SPY, 1 bars, \n",
      "2024-12-10 16:04:43,226: INFO: [HumblChannelSingleLong] Processing trade event. Trade event received for HumblChannelSingleLong strategy: fill SPY, processed by broker backtesting\n",
      "2024-12-10 16:04:43,227: INFO: [HumblChannelSingleLong] \u001b[32mOrder was filled: market order of | 1 SPY buy | @ $112.37 fill\u001b[0m\n",
      "2024-12-10 16:04:43,230: INFO: [HumblChannelSingleLong] Processing a filled order, payload: {'position': HumblChannelSingleLong Position: 2.0 shares of SPY (2 orders), 'order': market order of | 1 SPY buy | @ $112.37 fill, 'price': 112.37000274658203, 'quantity': 1.0, 'multiplier': 1}\n"
     ]
    },
    {
     "name": "stdout",
     "output_type": "stream",
     "text": [
      "Progress |\u001b[32m\u001b[0m|   0.07%  [Elapsed: 0:12:01 ETA: 12 days, 6:27:14] Portfolio Val: 100,000.00"
     ]
    },
    {
     "name": "stderr",
     "output_type": "stream",
     "text": [
      "2024-12-10 16:04:43,231: INFO: Current backtesting datetime 2010-01-04 11:30:00-05:00\n",
      "2024-12-10 16:04:43,236: INFO: [HumblChannelSingleLong] Processing trade event. Trade event received for HumblChannelSingleLong strategy: new SPY, processed by broker backtesting\n",
      "2024-12-10 16:04:43,237: INFO: [HumblChannelSingleLong] \u001b[32mNew order was created: market order of | 1 SPY buy | new\u001b[0m\n",
      "2024-12-10 16:04:43,240: INFO: [HumblChannelSingleLong] Processing a new order, payload: {'order': market order of | 1 SPY buy | new}\n",
      "2024-12-10 16:04:43,240: INFO: [HumblChannelSingleLong] Getting historical prices for SPY, 1 bars, \n",
      "2024-12-10 16:04:43,242: INFO: [HumblChannelSingleLong] Processing trade event. Trade event received for HumblChannelSingleLong strategy: fill SPY, processed by broker backtesting\n",
      "2024-12-10 16:04:43,243: INFO: [HumblChannelSingleLong] \u001b[32mOrder was filled: market order of | 1 SPY buy | @ $112.37 fill\u001b[0m\n",
      "2024-12-10 16:04:43,245: INFO: [HumblChannelSingleLong] Processing a filled order, payload: {'position': HumblChannelSingleLong Position: 3.0 shares of SPY (3 orders), 'order': market order of | 1 SPY buy | @ $112.37 fill, 'price': 112.37000274658203, 'quantity': 1.0, 'multiplier': 1}\n"
     ]
    },
    {
     "name": "stdout",
     "output_type": "stream",
     "text": [
      "Progress |\u001b[32m\u001b[0m|   0.07%  [Elapsed: 0:12:01 ETA: 12 days, 2:58:23] Portfolio Val: 100,000.00"
     ]
    },
    {
     "name": "stderr",
     "output_type": "stream",
     "text": [
      "2024-12-10 16:04:43,246: INFO: Current backtesting datetime 2010-01-04 12:30:00-05:00\n",
      "2024-12-10 16:04:43,251: INFO: [HumblChannelSingleLong] Processing trade event. Trade event received for HumblChannelSingleLong strategy: new SPY, processed by broker backtesting\n",
      "2024-12-10 16:04:43,251: INFO: [HumblChannelSingleLong] \u001b[32mNew order was created: market order of | 1 SPY buy | new\u001b[0m\n",
      "2024-12-10 16:04:43,254: INFO: [HumblChannelSingleLong] Processing a new order, payload: {'order': market order of | 1 SPY buy | new}\n",
      "2024-12-10 16:04:43,254: INFO: [HumblChannelSingleLong] Getting historical prices for SPY, 1 bars, \n",
      "2024-12-10 16:04:43,256: INFO: [HumblChannelSingleLong] Processing trade event. Trade event received for HumblChannelSingleLong strategy: fill SPY, processed by broker backtesting\n",
      "2024-12-10 16:04:43,257: INFO: [HumblChannelSingleLong] \u001b[32mOrder was filled: market order of | 1 SPY buy | @ $112.37 fill\u001b[0m\n",
      "2024-12-10 16:04:43,259: INFO: [HumblChannelSingleLong] Processing a filled order, payload: {'position': HumblChannelSingleLong Position: 4.0 shares of SPY (4 orders), 'order': market order of | 1 SPY buy | @ $112.37 fill, 'price': 112.37000274658203, 'quantity': 1.0, 'multiplier': 1}\n"
     ]
    },
    {
     "name": "stdout",
     "output_type": "stream",
     "text": [
      "Progress |\u001b[32m\u001b[0m|   0.07%  [Elapsed: 0:12:01 ETA: 11 days, 23:34:23] Portfolio Val: 100,000.00"
     ]
    },
    {
     "name": "stderr",
     "output_type": "stream",
     "text": [
      "2024-12-10 16:04:43,259: INFO: Current backtesting datetime 2010-01-04 13:30:00-05:00\n",
      "2024-12-10 16:04:43,264: INFO: [HumblChannelSingleLong] Processing trade event. Trade event received for HumblChannelSingleLong strategy: new SPY, processed by broker backtesting\n",
      "2024-12-10 16:04:43,265: INFO: [HumblChannelSingleLong] \u001b[32mNew order was created: market order of | 1 SPY buy | new\u001b[0m\n",
      "2024-12-10 16:04:43,267: INFO: [HumblChannelSingleLong] Processing a new order, payload: {'order': market order of | 1 SPY buy | new}\n",
      "2024-12-10 16:04:43,267: INFO: [HumblChannelSingleLong] Getting historical prices for SPY, 1 bars, \n",
      "2024-12-10 16:04:43,269: INFO: [HumblChannelSingleLong] Processing trade event. Trade event received for HumblChannelSingleLong strategy: fill SPY, processed by broker backtesting\n",
      "2024-12-10 16:04:43,270: INFO: [HumblChannelSingleLong] \u001b[32mOrder was filled: market order of | 1 SPY buy | @ $112.37 fill\u001b[0m\n",
      "2024-12-10 16:04:43,272: INFO: [HumblChannelSingleLong] Processing a filled order, payload: {'position': HumblChannelSingleLong Position: 5.0 shares of SPY (5 orders), 'order': market order of | 1 SPY buy | @ $112.37 fill, 'price': 112.37000274658203, 'quantity': 1.0, 'multiplier': 1}\n"
     ]
    },
    {
     "name": "stdout",
     "output_type": "stream",
     "text": [
      "Progress |\u001b[32m\u001b[0m|   0.07%  [Elapsed: 0:12:01 ETA: 11 days, 20:15:05] Portfolio Val: 100,000.00"
     ]
    },
    {
     "name": "stderr",
     "output_type": "stream",
     "text": [
      "2024-12-10 16:04:43,272: INFO: Current backtesting datetime 2010-01-04 14:30:00-05:00\n",
      "2024-12-10 16:04:43,277: INFO: [HumblChannelSingleLong] Processing trade event. Trade event received for HumblChannelSingleLong strategy: new SPY, processed by broker backtesting\n",
      "2024-12-10 16:04:43,278: INFO: [HumblChannelSingleLong] \u001b[32mNew order was created: market order of | 1 SPY buy | new\u001b[0m\n",
      "2024-12-10 16:04:43,280: INFO: [HumblChannelSingleLong] Processing a new order, payload: {'order': market order of | 1 SPY buy | new}\n",
      "2024-12-10 16:04:43,281: INFO: [HumblChannelSingleLong] Getting historical prices for SPY, 1 bars, \n",
      "2024-12-10 16:04:43,283: INFO: [HumblChannelSingleLong] Processing trade event. Trade event received for HumblChannelSingleLong strategy: fill SPY, processed by broker backtesting\n",
      "2024-12-10 16:04:43,283: INFO: [HumblChannelSingleLong] \u001b[32mOrder was filled: market order of | 1 SPY buy | @ $112.37 fill\u001b[0m\n",
      "2024-12-10 16:04:43,285: INFO: [HumblChannelSingleLong] Processing a filled order, payload: {'position': HumblChannelSingleLong Position: 6.0 shares of SPY (6 orders), 'order': market order of | 1 SPY buy | @ $112.37 fill, 'price': 112.37000274658203, 'quantity': 1.0, 'multiplier': 1}\n"
     ]
    },
    {
     "name": "stdout",
     "output_type": "stream",
     "text": [
      "Progress |\u001b[32m\u001b[0m|   0.07%  [Elapsed: 0:12:01 ETA: 11 days, 17:00:21] Portfolio Val: 100,000.00"
     ]
    },
    {
     "name": "stderr",
     "output_type": "stream",
     "text": [
      "2024-12-10 16:04:43,286: INFO: Current backtesting datetime 2010-01-04 15:30:00-05:00\n",
      "2024-12-10 16:04:43,290: INFO: [HumblChannelSingleLong] Processing trade event. Trade event received for HumblChannelSingleLong strategy: new SPY, processed by broker backtesting\n",
      "2024-12-10 16:04:43,291: INFO: [HumblChannelSingleLong] \u001b[32mNew order was created: market order of | 1 SPY buy | new\u001b[0m\n",
      "2024-12-10 16:04:43,293: INFO: [HumblChannelSingleLong] Processing a new order, payload: {'order': market order of | 1 SPY buy | new}\n",
      "2024-12-10 16:04:43,294: INFO: [HumblChannelSingleLong] Getting historical prices for SPY, 1 bars, \n",
      "2024-12-10 16:04:43,296: INFO: [HumblChannelSingleLong] Processing trade event. Trade event received for HumblChannelSingleLong strategy: fill SPY, processed by broker backtesting\n",
      "2024-12-10 16:04:43,296: INFO: [HumblChannelSingleLong] \u001b[32mOrder was filled: market order of | 1 SPY buy | @ $112.37 fill\u001b[0m\n",
      "2024-12-10 16:04:43,298: INFO: [HumblChannelSingleLong] Processing a filled order, payload: {'position': HumblChannelSingleLong Position: 7.0 shares of SPY (7 orders), 'order': market order of | 1 SPY buy | @ $112.37 fill, 'price': 112.37000274658203, 'quantity': 1.0, 'multiplier': 1}\n"
     ]
    },
    {
     "name": "stdout",
     "output_type": "stream",
     "text": [
      "Progress |\u001b[32m\u001b[0m|   0.07%  [Elapsed: 0:12:01 ETA: 11 days, 15:24:47] Portfolio Val: 100,000.00"
     ]
    },
    {
     "name": "stderr",
     "output_type": "stream",
     "text": [
      "2024-12-10 16:04:43,299: INFO: Current backtesting datetime 2010-01-04 16:00:00-05:00\n"
     ]
    },
    {
     "name": "stdout",
     "output_type": "stream",
     "text": [
      "Progress |\u001b[32m\u001b[0m|   0.07%  [Elapsed: 0:12:01 ETA: 11 days, 13:50:01] Portfolio Val: 100,000.00"
     ]
    },
    {
     "name": "stderr",
     "output_type": "stream",
     "text": [
      "2024-12-10 16:04:43,300: INFO: Current backtesting datetime 2010-01-04 16:30:00-05:00\n"
     ]
    },
    {
     "name": "stdout",
     "output_type": "stream",
     "text": [
      "Progress |\u001b[32m\u001b[0m|   0.07%  [Elapsed: 0:12:01 ETA: 11 days, 14:05:47] "
     ]
    },
    {
     "name": "stderr",
     "output_type": "stream",
     "text": [
      "2024-12-10 16:04:43,302: INFO: Current backtesting datetime 2010-01-04 16:25:00-05:00\n"
     ]
    },
    {
     "name": "stdout",
     "output_type": "stream",
     "text": [
      "Progress |\u001b[32m\u001b[0m|   0.07%  [Elapsed: 0:12:01 ETA: 11 days, 14:05:48] "
     ]
    },
    {
     "name": "stderr",
     "output_type": "stream",
     "text": [
      "2024-12-10 16:04:43,303: INFO: Current backtesting datetime 2010-01-04 16:25:00-05:00\n"
     ]
    },
    {
     "name": "stdout",
     "output_type": "stream",
     "text": [
      "Progress |\u001b[32m\u001b[0m|   0.09%  [Elapsed: 0:12:01 ETA: 9 days, 19:15:56] "
     ]
    },
    {
     "name": "stderr",
     "output_type": "stream",
     "text": [
      "2024-12-10 16:04:43,306: INFO: Current backtesting datetime 2010-01-05 08:30:00-05:00\n"
     ]
    },
    {
     "name": "stdout",
     "output_type": "stream",
     "text": [
      "Progress |\u001b[32m\u001b[0m|   0.09%  [Elapsed: 0:12:02 ETA: 9 days, 17:10:54] "
     ]
    },
    {
     "name": "stderr",
     "output_type": "stream",
     "text": [
      "2024-12-10 16:04:43,764: INFO: Current backtesting datetime 2010-01-05 09:30:00-05:00\n",
      "2024-12-10 16:04:43,768: INFO: [HumblChannelSingleLong] Processing trade event. Trade event received for HumblChannelSingleLong strategy: new SPY, processed by broker backtesting\n",
      "2024-12-10 16:04:43,769: INFO: [HumblChannelSingleLong] \u001b[32mNew order was created: market order of | 1 SPY buy | new\u001b[0m\n",
      "2024-12-10 16:04:43,771: INFO: [HumblChannelSingleLong] Processing a new order, payload: {'order': market order of | 1 SPY buy | new}\n",
      "2024-12-10 16:04:43,772: INFO: [HumblChannelSingleLong] Getting historical prices for SPY, 1 bars, \n",
      "2024-12-10 16:04:43,774: INFO: [HumblChannelSingleLong] Processing trade event. Trade event received for HumblChannelSingleLong strategy: fill SPY, processed by broker backtesting\n",
      "2024-12-10 16:04:43,774: INFO: [HumblChannelSingleLong] \u001b[32mOrder was filled: market order of | 1 SPY buy | @ $113.26 fill\u001b[0m\n",
      "2024-12-10 16:04:43,777: INFO: [HumblChannelSingleLong] Processing a filled order, payload: {'position': HumblChannelSingleLong Position: 8.0 shares of SPY (8 orders), 'order': market order of | 1 SPY buy | @ $113.26 fill, 'price': 113.26000213623047, 'quantity': 1.0, 'multiplier': 1}\n"
     ]
    },
    {
     "name": "stdout",
     "output_type": "stream",
     "text": [
      "Progress |\u001b[32m\u001b[0m|   0.09%  [Elapsed: 0:12:02 ETA: 9 days, 14:59:41] Portfolio Val: 100,006.23"
     ]
    },
    {
     "name": "stderr",
     "output_type": "stream",
     "text": [
      "2024-12-10 16:04:43,778: INFO: Current backtesting datetime 2010-01-05 10:30:00-05:00\n",
      "2024-12-10 16:04:43,782: INFO: [HumblChannelSingleLong] Processing trade event. Trade event received for HumblChannelSingleLong strategy: new SPY, processed by broker backtesting\n",
      "2024-12-10 16:04:43,783: INFO: [HumblChannelSingleLong] \u001b[32mNew order was created: market order of | 1 SPY buy | new\u001b[0m\n",
      "2024-12-10 16:04:43,785: INFO: [HumblChannelSingleLong] Processing a new order, payload: {'order': market order of | 1 SPY buy | new}\n",
      "2024-12-10 16:04:43,786: INFO: [HumblChannelSingleLong] Getting historical prices for SPY, 1 bars, \n",
      "2024-12-10 16:04:43,787: INFO: [HumblChannelSingleLong] Processing trade event. Trade event received for HumblChannelSingleLong strategy: fill SPY, processed by broker backtesting\n",
      "2024-12-10 16:04:43,788: INFO: [HumblChannelSingleLong] \u001b[32mOrder was filled: market order of | 1 SPY buy | @ $113.26 fill\u001b[0m\n",
      "2024-12-10 16:04:43,790: INFO: [HumblChannelSingleLong] Processing a filled order, payload: {'position': HumblChannelSingleLong Position: 9.0 shares of SPY (9 orders), 'order': market order of | 1 SPY buy | @ $113.26 fill, 'price': 113.26000213623047, 'quantity': 1.0, 'multiplier': 1}\n"
     ]
    },
    {
     "name": "stdout",
     "output_type": "stream",
     "text": [
      "Progress |\u001b[32m\u001b[0m|   0.09%  [Elapsed: 0:12:02 ETA: 9 days, 12:50:53] Portfolio Val: 100,006.23"
     ]
    },
    {
     "name": "stderr",
     "output_type": "stream",
     "text": [
      "2024-12-10 16:04:43,790: INFO: Current backtesting datetime 2010-01-05 11:30:00-05:00\n",
      "2024-12-10 16:04:43,795: INFO: [HumblChannelSingleLong] Processing trade event. Trade event received for HumblChannelSingleLong strategy: new SPY, processed by broker backtesting\n",
      "2024-12-10 16:04:43,795: INFO: [HumblChannelSingleLong] \u001b[32mNew order was created: market order of | 1 SPY buy | new\u001b[0m\n",
      "2024-12-10 16:04:43,798: INFO: [HumblChannelSingleLong] Processing a new order, payload: {'order': market order of | 1 SPY buy | new}\n",
      "2024-12-10 16:04:43,798: INFO: [HumblChannelSingleLong] Getting historical prices for SPY, 1 bars, \n",
      "2024-12-10 16:04:43,800: INFO: [HumblChannelSingleLong] Processing trade event. Trade event received for HumblChannelSingleLong strategy: fill SPY, processed by broker backtesting\n",
      "2024-12-10 16:04:43,800: INFO: [HumblChannelSingleLong] \u001b[32mOrder was filled: market order of | 1 SPY buy | @ $113.26 fill\u001b[0m\n",
      "2024-12-10 16:04:43,802: INFO: [HumblChannelSingleLong] Processing a filled order, payload: {'position': HumblChannelSingleLong Position: 10.0 shares of SPY (10 orders), 'order': market order of | 1 SPY buy | @ $113.26 fill, 'price': 113.26000213623047, 'quantity': 1.0, 'multiplier': 1}\n"
     ]
    },
    {
     "name": "stdout",
     "output_type": "stream",
     "text": [
      "Progress |\u001b[32m\u001b[0m|   0.09%  [Elapsed: 0:12:02 ETA: 9 days, 10:44:27] Portfolio Val: 100,006.23"
     ]
    },
    {
     "name": "stderr",
     "output_type": "stream",
     "text": [
      "2024-12-10 16:04:43,803: INFO: Current backtesting datetime 2010-01-05 12:30:00-05:00\n",
      "2024-12-10 16:04:43,807: INFO: [HumblChannelSingleLong] Processing trade event. Trade event received for HumblChannelSingleLong strategy: new SPY, processed by broker backtesting\n",
      "2024-12-10 16:04:43,807: INFO: [HumblChannelSingleLong] \u001b[32mNew order was created: market order of | 1 SPY buy | new\u001b[0m\n",
      "2024-12-10 16:04:43,810: INFO: [HumblChannelSingleLong] Processing a new order, payload: {'order': market order of | 1 SPY buy | new}\n",
      "2024-12-10 16:04:43,810: INFO: [HumblChannelSingleLong] Getting historical prices for SPY, 1 bars, \n",
      "2024-12-10 16:04:43,813: INFO: [HumblChannelSingleLong] Processing trade event. Trade event received for HumblChannelSingleLong strategy: fill SPY, processed by broker backtesting\n",
      "2024-12-10 16:04:43,813: INFO: [HumblChannelSingleLong] \u001b[32mOrder was filled: market order of | 1 SPY buy | @ $113.26 fill\u001b[0m\n",
      "2024-12-10 16:04:43,816: INFO: [HumblChannelSingleLong] Processing a filled order, payload: {'position': HumblChannelSingleLong Position: 11.0 shares of SPY (11 orders), 'order': market order of | 1 SPY buy | @ $113.26 fill, 'price': 113.26000213623047, 'quantity': 1.0, 'multiplier': 1}\n"
     ]
    },
    {
     "name": "stdout",
     "output_type": "stream",
     "text": [
      "Progress |\u001b[32m\u001b[0m|   0.09%  [Elapsed: 0:12:02 ETA: 9 days, 8:40:21] Portfolio Val: 100,006.23"
     ]
    },
    {
     "name": "stderr",
     "output_type": "stream",
     "text": [
      "2024-12-10 16:04:43,816: INFO: Current backtesting datetime 2010-01-05 13:30:00-05:00\n",
      "2024-12-10 16:04:43,821: INFO: [HumblChannelSingleLong] Processing trade event. Trade event received for HumblChannelSingleLong strategy: new SPY, processed by broker backtesting\n",
      "2024-12-10 16:04:43,821: INFO: [HumblChannelSingleLong] \u001b[32mNew order was created: market order of | 1 SPY buy | new\u001b[0m\n",
      "2024-12-10 16:04:43,824: INFO: [HumblChannelSingleLong] Processing a new order, payload: {'order': market order of | 1 SPY buy | new}\n",
      "2024-12-10 16:04:43,824: INFO: [HumblChannelSingleLong] Getting historical prices for SPY, 1 bars, \n",
      "2024-12-10 16:04:43,826: INFO: [HumblChannelSingleLong] Processing trade event. Trade event received for HumblChannelSingleLong strategy: fill SPY, processed by broker backtesting\n",
      "2024-12-10 16:04:43,826: INFO: [HumblChannelSingleLong] \u001b[32mOrder was filled: market order of | 1 SPY buy | @ $113.26 fill\u001b[0m\n",
      "2024-12-10 16:04:43,828: INFO: [HumblChannelSingleLong] Processing a filled order, payload: {'position': HumblChannelSingleLong Position: 12.0 shares of SPY (12 orders), 'order': market order of | 1 SPY buy | @ $113.26 fill, 'price': 113.26000213623047, 'quantity': 1.0, 'multiplier': 1}\n"
     ]
    },
    {
     "name": "stdout",
     "output_type": "stream",
     "text": [
      "Progress |\u001b[32m\u001b[0m|   0.09%  [Elapsed: 0:12:02 ETA: 9 days, 6:38:29] Portfolio Val: 100,006.23"
     ]
    },
    {
     "name": "stderr",
     "output_type": "stream",
     "text": [
      "2024-12-10 16:04:43,829: INFO: Current backtesting datetime 2010-01-05 14:30:00-05:00\n",
      "2024-12-10 16:04:43,833: INFO: [HumblChannelSingleLong] Processing trade event. Trade event received for HumblChannelSingleLong strategy: new SPY, processed by broker backtesting\n",
      "2024-12-10 16:04:43,833: INFO: [HumblChannelSingleLong] \u001b[32mNew order was created: market order of | 1 SPY buy | new\u001b[0m\n",
      "2024-12-10 16:04:43,835: INFO: [HumblChannelSingleLong] Processing a new order, payload: {'order': market order of | 1 SPY buy | new}\n",
      "2024-12-10 16:04:43,836: INFO: [HumblChannelSingleLong] Getting historical prices for SPY, 1 bars, \n",
      "2024-12-10 16:04:43,837: INFO: [HumblChannelSingleLong] Processing trade event. Trade event received for HumblChannelSingleLong strategy: fill SPY, processed by broker backtesting\n",
      "2024-12-10 16:04:43,838: INFO: [HumblChannelSingleLong] \u001b[32mOrder was filled: market order of | 1 SPY buy | @ $113.26 fill\u001b[0m\n",
      "2024-12-10 16:04:43,839: INFO: [HumblChannelSingleLong] Processing a filled order, payload: {'position': HumblChannelSingleLong Position: 13.0 shares of SPY (13 orders), 'order': market order of | 1 SPY buy | @ $113.26 fill, 'price': 113.26000213623047, 'quantity': 1.0, 'multiplier': 1}\n"
     ]
    },
    {
     "name": "stdout",
     "output_type": "stream",
     "text": [
      "Progress |\u001b[32m\u001b[0m|   0.09%  [Elapsed: 0:12:02 ETA: 9 days, 4:38:46] Portfolio Val: 100,006.23"
     ]
    },
    {
     "name": "stderr",
     "output_type": "stream",
     "text": [
      "2024-12-10 16:04:43,840: INFO: Current backtesting datetime 2010-01-05 15:30:00-05:00\n",
      "2024-12-10 16:04:43,844: INFO: [HumblChannelSingleLong] Processing trade event. Trade event received for HumblChannelSingleLong strategy: new SPY, processed by broker backtesting\n",
      "2024-12-10 16:04:43,844: INFO: [HumblChannelSingleLong] \u001b[32mNew order was created: market order of | 1 SPY buy | new\u001b[0m\n",
      "2024-12-10 16:04:43,847: INFO: [HumblChannelSingleLong] Processing a new order, payload: {'order': market order of | 1 SPY buy | new}\n",
      "2024-12-10 16:04:43,848: INFO: [HumblChannelSingleLong] Getting historical prices for SPY, 1 bars, \n",
      "2024-12-10 16:04:43,850: INFO: [HumblChannelSingleLong] Processing trade event. Trade event received for HumblChannelSingleLong strategy: fill SPY, processed by broker backtesting\n",
      "2024-12-10 16:04:43,850: INFO: [HumblChannelSingleLong] \u001b[32mOrder was filled: market order of | 1 SPY buy | @ $113.26 fill\u001b[0m\n",
      "2024-12-10 16:04:43,852: INFO: [HumblChannelSingleLong] Processing a filled order, payload: {'position': HumblChannelSingleLong Position: 14.0 shares of SPY (14 orders), 'order': market order of | 1 SPY buy | @ $113.26 fill, 'price': 113.26000213623047, 'quantity': 1.0, 'multiplier': 1}\n"
     ]
    },
    {
     "name": "stdout",
     "output_type": "stream",
     "text": [
      "Progress |\u001b[32m\u001b[0m|   0.09%  [Elapsed: 0:12:02 ETA: 9 days, 3:39:51] Portfolio Val: 100,006.23"
     ]
    },
    {
     "name": "stderr",
     "output_type": "stream",
     "text": [
      "2024-12-10 16:04:43,852: INFO: Current backtesting datetime 2010-01-05 16:00:00-05:00\n"
     ]
    },
    {
     "name": "stdout",
     "output_type": "stream",
     "text": [
      "Progress |\u001b[32m\u001b[0m|   0.09%  [Elapsed: 0:12:02 ETA: 9 days, 2:41:13] Portfolio Val: 100,006.23"
     ]
    },
    {
     "name": "stderr",
     "output_type": "stream",
     "text": [
      "2024-12-10 16:04:43,853: INFO: Current backtesting datetime 2010-01-05 16:30:00-05:00\n"
     ]
    },
    {
     "name": "stdout",
     "output_type": "stream",
     "text": [
      "Progress |\u001b[32m\u001b[0m|   0.09%  [Elapsed: 0:12:02 ETA: 9 days, 2:50:59] "
     ]
    },
    {
     "name": "stderr",
     "output_type": "stream",
     "text": [
      "2024-12-10 16:04:43,855: INFO: Current backtesting datetime 2010-01-05 16:25:00-05:00\n"
     ]
    },
    {
     "name": "stdout",
     "output_type": "stream",
     "text": [
      "Progress |\u001b[32m\u001b[0m|   0.09%  [Elapsed: 0:12:02 ETA: 9 days, 2:51:00] "
     ]
    },
    {
     "name": "stderr",
     "output_type": "stream",
     "text": [
      "2024-12-10 16:04:43,855: INFO: Current backtesting datetime 2010-01-05 16:25:00-05:00\n"
     ]
    },
    {
     "name": "stdout",
     "output_type": "stream",
     "text": [
      "Progress |\u001b[32m\u001b[0m|   0.10%  [Elapsed: 0:12:02 ETA: 7 days, 23:26:01] "
     ]
    },
    {
     "name": "stderr",
     "output_type": "stream",
     "text": [
      "2024-12-10 16:04:43,857: INFO: Current backtesting datetime 2010-01-06 08:30:00-05:00\n"
     ]
    },
    {
     "name": "stdout",
     "output_type": "stream",
     "text": [
      "Progress |\u001b[32m\u001b[0m|   0.11%  [Elapsed: 0:12:02 ETA: 7 days, 22:00:18] "
     ]
    },
    {
     "name": "stderr",
     "output_type": "stream",
     "text": [
      "2024-12-10 16:04:44,052: INFO: Current backtesting datetime 2010-01-06 09:30:00-05:00\n",
      "2024-12-10 16:04:44,056: INFO: [HumblChannelSingleLong] Processing trade event. Trade event received for HumblChannelSingleLong strategy: new SPY, processed by broker backtesting\n",
      "2024-12-10 16:04:44,057: INFO: [HumblChannelSingleLong] \u001b[32mNew order was created: market order of | 1 SPY buy | new\u001b[0m\n",
      "2024-12-10 16:04:44,059: INFO: [HumblChannelSingleLong] Processing a new order, payload: {'order': market order of | 1 SPY buy | new}\n",
      "2024-12-10 16:04:44,060: INFO: [HumblChannelSingleLong] Getting historical prices for SPY, 1 bars, \n",
      "2024-12-10 16:04:44,061: INFO: [HumblChannelSingleLong] Processing trade event. Trade event received for HumblChannelSingleLong strategy: fill SPY, processed by broker backtesting\n",
      "2024-12-10 16:04:44,062: INFO: [HumblChannelSingleLong] \u001b[32mOrder was filled: market order of | 1 SPY buy | @ $113.52 fill\u001b[0m\n",
      "2024-12-10 16:04:44,064: INFO: [HumblChannelSingleLong] Processing a filled order, payload: {'position': HumblChannelSingleLong Position: 15.0 shares of SPY (15 orders), 'order': market order of | 1 SPY buy | @ $113.52 fill, 'price': 113.5199966430664, 'quantity': 1.0, 'multiplier': 1}\n"
     ]
    },
    {
     "name": "stdout",
     "output_type": "stream",
     "text": [
      "Progress |\u001b[32m\u001b[0m|   0.11%  [Elapsed: 0:12:02 ETA: 7 days, 20:33:03] Portfolio Val: 100,009.87"
     ]
    },
    {
     "name": "stderr",
     "output_type": "stream",
     "text": [
      "2024-12-10 16:04:44,064: INFO: Current backtesting datetime 2010-01-06 10:30:00-05:00\n",
      "2024-12-10 16:04:44,069: INFO: [HumblChannelSingleLong] Processing trade event. Trade event received for HumblChannelSingleLong strategy: new SPY, processed by broker backtesting\n",
      "2024-12-10 16:04:44,069: INFO: [HumblChannelSingleLong] \u001b[32mNew order was created: market order of | 1 SPY buy | new\u001b[0m\n",
      "2024-12-10 16:04:44,071: INFO: [HumblChannelSingleLong] Processing a new order, payload: {'order': market order of | 1 SPY buy | new}\n",
      "2024-12-10 16:04:44,072: INFO: [HumblChannelSingleLong] Getting historical prices for SPY, 1 bars, \n",
      "2024-12-10 16:04:44,073: INFO: [HumblChannelSingleLong] Processing trade event. Trade event received for HumblChannelSingleLong strategy: fill SPY, processed by broker backtesting\n",
      "2024-12-10 16:04:44,074: INFO: [HumblChannelSingleLong] \u001b[32mOrder was filled: market order of | 1 SPY buy | @ $113.52 fill\u001b[0m\n",
      "2024-12-10 16:04:44,076: INFO: [HumblChannelSingleLong] Processing a filled order, payload: {'position': HumblChannelSingleLong Position: 16.0 shares of SPY (16 orders), 'order': market order of | 1 SPY buy | @ $113.52 fill, 'price': 113.5199966430664, 'quantity': 1.0, 'multiplier': 1}\n"
     ]
    },
    {
     "name": "stdout",
     "output_type": "stream",
     "text": [
      "Progress |\u001b[32m\u001b[0m|   0.11%  [Elapsed: 0:12:02 ETA: 7 days, 19:07:07] Portfolio Val: 100,009.87"
     ]
    },
    {
     "name": "stderr",
     "output_type": "stream",
     "text": [
      "2024-12-10 16:04:44,076: INFO: Current backtesting datetime 2010-01-06 11:30:00-05:00\n",
      "2024-12-10 16:04:44,081: INFO: [HumblChannelSingleLong] Processing trade event. Trade event received for HumblChannelSingleLong strategy: new SPY, processed by broker backtesting\n",
      "2024-12-10 16:04:44,081: INFO: [HumblChannelSingleLong] \u001b[32mNew order was created: market order of | 1 SPY buy | new\u001b[0m\n",
      "2024-12-10 16:04:44,083: INFO: [HumblChannelSingleLong] Processing a new order, payload: {'order': market order of | 1 SPY buy | new}\n",
      "2024-12-10 16:04:44,084: INFO: [HumblChannelSingleLong] Getting historical prices for SPY, 1 bars, \n",
      "2024-12-10 16:04:44,086: INFO: [HumblChannelSingleLong] Processing trade event. Trade event received for HumblChannelSingleLong strategy: fill SPY, processed by broker backtesting\n",
      "2024-12-10 16:04:44,086: INFO: [HumblChannelSingleLong] \u001b[32mOrder was filled: market order of | 1 SPY buy | @ $113.52 fill\u001b[0m\n",
      "2024-12-10 16:04:44,088: INFO: [HumblChannelSingleLong] Processing a filled order, payload: {'position': HumblChannelSingleLong Position: 17.0 shares of SPY (17 orders), 'order': market order of | 1 SPY buy | @ $113.52 fill, 'price': 113.5199966430664, 'quantity': 1.0, 'multiplier': 1}\n"
     ]
    },
    {
     "name": "stdout",
     "output_type": "stream",
     "text": [
      "Progress |\u001b[32m\u001b[0m|   0.11%  [Elapsed: 0:12:02 ETA: 7 days, 17:42:28] Portfolio Val: 100,009.87"
     ]
    },
    {
     "name": "stderr",
     "output_type": "stream",
     "text": [
      "2024-12-10 16:04:44,088: INFO: Current backtesting datetime 2010-01-06 12:30:00-05:00\n",
      "2024-12-10 16:04:44,092: INFO: [HumblChannelSingleLong] Processing trade event. Trade event received for HumblChannelSingleLong strategy: new SPY, processed by broker backtesting\n",
      "2024-12-10 16:04:44,093: INFO: [HumblChannelSingleLong] \u001b[32mNew order was created: market order of | 1 SPY buy | new\u001b[0m\n",
      "2024-12-10 16:04:44,095: INFO: [HumblChannelSingleLong] Processing a new order, payload: {'order': market order of | 1 SPY buy | new}\n",
      "2024-12-10 16:04:44,095: INFO: [HumblChannelSingleLong] Getting historical prices for SPY, 1 bars, \n",
      "2024-12-10 16:04:44,097: INFO: [HumblChannelSingleLong] Processing trade event. Trade event received for HumblChannelSingleLong strategy: fill SPY, processed by broker backtesting\n",
      "2024-12-10 16:04:44,098: INFO: [HumblChannelSingleLong] \u001b[32mOrder was filled: market order of | 1 SPY buy | @ $113.52 fill\u001b[0m\n",
      "2024-12-10 16:04:44,100: INFO: [HumblChannelSingleLong] Processing a filled order, payload: {'position': HumblChannelSingleLong Position: 18.0 shares of SPY (18 orders), 'order': market order of | 1 SPY buy | @ $113.52 fill, 'price': 113.5199966430664, 'quantity': 1.0, 'multiplier': 1}\n"
     ]
    },
    {
     "name": "stdout",
     "output_type": "stream",
     "text": [
      "Progress |\u001b[32m\u001b[0m|   0.11%  [Elapsed: 0:12:02 ETA: 7 days, 16:19:06] Portfolio Val: 100,009.87"
     ]
    },
    {
     "name": "stderr",
     "output_type": "stream",
     "text": [
      "2024-12-10 16:04:44,101: INFO: Current backtesting datetime 2010-01-06 13:30:00-05:00\n",
      "2024-12-10 16:04:44,105: INFO: [HumblChannelSingleLong] Processing trade event. Trade event received for HumblChannelSingleLong strategy: new SPY, processed by broker backtesting\n",
      "2024-12-10 16:04:44,105: INFO: [HumblChannelSingleLong] \u001b[32mNew order was created: market order of | 1 SPY buy | new\u001b[0m\n",
      "2024-12-10 16:04:44,107: INFO: [HumblChannelSingleLong] Processing a new order, payload: {'order': market order of | 1 SPY buy | new}\n",
      "2024-12-10 16:04:44,108: INFO: [HumblChannelSingleLong] Getting historical prices for SPY, 1 bars, \n",
      "2024-12-10 16:04:44,110: INFO: [HumblChannelSingleLong] Processing trade event. Trade event received for HumblChannelSingleLong strategy: fill SPY, processed by broker backtesting\n",
      "2024-12-10 16:04:44,110: INFO: [HumblChannelSingleLong] \u001b[32mOrder was filled: market order of | 1 SPY buy | @ $113.52 fill\u001b[0m\n",
      "2024-12-10 16:04:44,112: INFO: [HumblChannelSingleLong] Processing a filled order, payload: {'position': HumblChannelSingleLong Position: 19.0 shares of SPY (19 orders), 'order': market order of | 1 SPY buy | @ $113.52 fill, 'price': 113.5199966430664, 'quantity': 1.0, 'multiplier': 1}\n"
     ]
    },
    {
     "name": "stdout",
     "output_type": "stream",
     "text": [
      "Progress |\u001b[32m\u001b[0m|   0.11%  [Elapsed: 0:12:02 ETA: 7 days, 14:56:58] Portfolio Val: 100,009.87"
     ]
    },
    {
     "name": "stderr",
     "output_type": "stream",
     "text": [
      "2024-12-10 16:04:44,113: INFO: Current backtesting datetime 2010-01-06 14:30:00-05:00\n",
      "2024-12-10 16:04:44,116: INFO: [HumblChannelSingleLong] Processing trade event. Trade event received for HumblChannelSingleLong strategy: new SPY, processed by broker backtesting\n",
      "2024-12-10 16:04:44,117: INFO: [HumblChannelSingleLong] \u001b[32mNew order was created: market order of | 1 SPY buy | new\u001b[0m\n",
      "2024-12-10 16:04:44,119: INFO: [HumblChannelSingleLong] Processing a new order, payload: {'order': market order of | 1 SPY buy | new}\n",
      "2024-12-10 16:04:44,120: INFO: [HumblChannelSingleLong] Getting historical prices for SPY, 1 bars, \n",
      "2024-12-10 16:04:44,121: INFO: [HumblChannelSingleLong] Processing trade event. Trade event received for HumblChannelSingleLong strategy: fill SPY, processed by broker backtesting\n",
      "2024-12-10 16:04:44,122: INFO: [HumblChannelSingleLong] \u001b[32mOrder was filled: market order of | 1 SPY buy | @ $113.52 fill\u001b[0m\n",
      "2024-12-10 16:04:44,124: INFO: [HumblChannelSingleLong] Processing a filled order, payload: {'position': HumblChannelSingleLong Position: 20.0 shares of SPY (20 orders), 'order': market order of | 1 SPY buy | @ $113.52 fill, 'price': 113.5199966430664, 'quantity': 1.0, 'multiplier': 1}\n"
     ]
    },
    {
     "name": "stdout",
     "output_type": "stream",
     "text": [
      "Progress |\u001b[32m\u001b[0m|   0.11%  [Elapsed: 0:12:02 ETA: 7 days, 13:36:03] Portfolio Val: 100,009.87"
     ]
    },
    {
     "name": "stderr",
     "output_type": "stream",
     "text": [
      "2024-12-10 16:04:44,125: INFO: Current backtesting datetime 2010-01-06 15:30:00-05:00\n",
      "2024-12-10 16:04:44,130: INFO: [HumblChannelSingleLong] Processing trade event. Trade event received for HumblChannelSingleLong strategy: new SPY, processed by broker backtesting\n",
      "2024-12-10 16:04:44,130: INFO: [HumblChannelSingleLong] \u001b[32mNew order was created: market order of | 1 SPY buy | new\u001b[0m\n",
      "2024-12-10 16:04:44,133: INFO: [HumblChannelSingleLong] Processing a new order, payload: {'order': market order of | 1 SPY buy | new}\n",
      "2024-12-10 16:04:44,133: INFO: [HumblChannelSingleLong] Getting historical prices for SPY, 1 bars, \n",
      "2024-12-10 16:04:44,135: INFO: [HumblChannelSingleLong] Processing trade event. Trade event received for HumblChannelSingleLong strategy: fill SPY, processed by broker backtesting\n",
      "2024-12-10 16:04:44,135: INFO: [HumblChannelSingleLong] \u001b[32mOrder was filled: market order of | 1 SPY buy | @ $113.52 fill\u001b[0m\n",
      "2024-12-10 16:04:44,137: INFO: [HumblChannelSingleLong] Processing a filled order, payload: {'position': HumblChannelSingleLong Position: 21.0 shares of SPY (21 orders), 'order': market order of | 1 SPY buy | @ $113.52 fill, 'price': 113.5199966430664, 'quantity': 1.0, 'multiplier': 1}\n"
     ]
    },
    {
     "name": "stdout",
     "output_type": "stream",
     "text": [
      "Progress |\u001b[32m\u001b[0m|   0.11%  [Elapsed: 0:12:02 ETA: 7 days, 12:56:09] Portfolio Val: 100,009.87"
     ]
    },
    {
     "name": "stderr",
     "output_type": "stream",
     "text": [
      "2024-12-10 16:04:44,137: INFO: Current backtesting datetime 2010-01-06 16:00:00-05:00\n"
     ]
    },
    {
     "name": "stdout",
     "output_type": "stream",
     "text": [
      "Progress |\u001b[32m\u001b[0m|   0.11%  [Elapsed: 0:12:02 ETA: 7 days, 12:16:20] Portfolio Val: 100,009.87"
     ]
    },
    {
     "name": "stderr",
     "output_type": "stream",
     "text": [
      "2024-12-10 16:04:44,138: INFO: Current backtesting datetime 2010-01-06 16:30:00-05:00\n"
     ]
    },
    {
     "name": "stdout",
     "output_type": "stream",
     "text": [
      "Progress |\u001b[32m\u001b[0m|   0.11%  [Elapsed: 0:12:02 ETA: 7 days, 12:22:59] "
     ]
    },
    {
     "name": "stderr",
     "output_type": "stream",
     "text": [
      "2024-12-10 16:04:44,139: INFO: Current backtesting datetime 2010-01-06 16:25:00-05:00\n"
     ]
    },
    {
     "name": "stdout",
     "output_type": "stream",
     "text": [
      "Progress |\u001b[32m\u001b[0m|   0.11%  [Elapsed: 0:12:02 ETA: 7 days, 12:22:59] "
     ]
    },
    {
     "name": "stderr",
     "output_type": "stream",
     "text": [
      "2024-12-10 16:04:44,140: INFO: Current backtesting datetime 2010-01-06 16:25:00-05:00\n"
     ]
    },
    {
     "name": "stdout",
     "output_type": "stream",
     "text": [
      "Progress |\u001b[32m\u001b[0m|   0.12%  [Elapsed: 0:12:02 ETA: 6 days, 17:20:18] "
     ]
    },
    {
     "name": "stderr",
     "output_type": "stream",
     "text": [
      "2024-12-10 16:04:44,142: INFO: Current backtesting datetime 2010-01-07 08:30:00-05:00\n"
     ]
    },
    {
     "name": "stdout",
     "output_type": "stream",
     "text": [
      "Progress |\u001b[32m\u001b[0m|   0.13%  [Elapsed: 0:12:03 ETA: 6 days, 16:21:20] "
     ]
    },
    {
     "name": "stderr",
     "output_type": "stream",
     "text": [
      "2024-12-10 16:04:44,455: INFO: Current backtesting datetime 2010-01-07 09:30:00-05:00\n",
      "2024-12-10 16:04:44,459: INFO: [HumblChannelSingleLong] Processing trade event. Trade event received for HumblChannelSingleLong strategy: new SPY, processed by broker backtesting\n",
      "2024-12-10 16:04:44,460: INFO: [HumblChannelSingleLong] \u001b[32mNew order was created: market order of | 1 SPY buy | new\u001b[0m\n",
      "2024-12-10 16:04:44,462: INFO: [HumblChannelSingleLong] Processing a new order, payload: {'order': market order of | 1 SPY buy | new}\n",
      "2024-12-10 16:04:44,463: INFO: [HumblChannelSingleLong] Getting historical prices for SPY, 1 bars, \n",
      "2024-12-10 16:04:44,464: INFO: [HumblChannelSingleLong] Processing trade event. Trade event received for HumblChannelSingleLong strategy: fill SPY, processed by broker backtesting\n",
      "2024-12-10 16:04:44,464: INFO: [HumblChannelSingleLong] \u001b[32mOrder was filled: market order of | 1 SPY buy | @ $113.5 fill\u001b[0m\n",
      "2024-12-10 16:04:44,466: INFO: [HumblChannelSingleLong] Processing a filled order, payload: {'position': HumblChannelSingleLong Position: 22.0 shares of SPY (22 orders), 'order': market order of | 1 SPY buy | @ $113.5 fill, 'price': 113.5, 'quantity': 1.0, 'multiplier': 1}\n"
     ]
    },
    {
     "name": "stdout",
     "output_type": "stream",
     "text": [
      "Progress |\u001b[32m\u001b[0m|   0.13%  [Elapsed: 0:12:03 ETA: 6 days, 15:19:08] Portfolio Val: 100,009.45"
     ]
    },
    {
     "name": "stderr",
     "output_type": "stream",
     "text": [
      "2024-12-10 16:04:44,467: INFO: Current backtesting datetime 2010-01-07 10:30:00-05:00\n",
      "2024-12-10 16:04:44,471: INFO: [HumblChannelSingleLong] Processing trade event. Trade event received for HumblChannelSingleLong strategy: new SPY, processed by broker backtesting\n",
      "2024-12-10 16:04:44,471: INFO: [HumblChannelSingleLong] \u001b[32mNew order was created: market order of | 1 SPY buy | new\u001b[0m\n",
      "2024-12-10 16:04:44,474: INFO: [HumblChannelSingleLong] Processing a new order, payload: {'order': market order of | 1 SPY buy | new}\n",
      "2024-12-10 16:04:44,474: INFO: [HumblChannelSingleLong] Getting historical prices for SPY, 1 bars, \n",
      "2024-12-10 16:04:44,476: INFO: [HumblChannelSingleLong] Processing trade event. Trade event received for HumblChannelSingleLong strategy: fill SPY, processed by broker backtesting\n",
      "2024-12-10 16:04:44,476: INFO: [HumblChannelSingleLong] \u001b[32mOrder was filled: market order of | 1 SPY buy | @ $113.5 fill\u001b[0m\n",
      "2024-12-10 16:04:44,478: INFO: [HumblChannelSingleLong] Processing a filled order, payload: {'position': HumblChannelSingleLong Position: 23.0 shares of SPY (23 orders), 'order': market order of | 1 SPY buy | @ $113.5 fill, 'price': 113.5, 'quantity': 1.0, 'multiplier': 1}\n"
     ]
    },
    {
     "name": "stdout",
     "output_type": "stream",
     "text": [
      "Progress |\u001b[32m\u001b[0m|   0.13%  [Elapsed: 0:12:03 ETA: 6 days, 14:17:44] Portfolio Val: 100,009.45"
     ]
    },
    {
     "name": "stderr",
     "output_type": "stream",
     "text": [
      "2024-12-10 16:04:44,479: INFO: Current backtesting datetime 2010-01-07 11:30:00-05:00\n",
      "2024-12-10 16:04:44,483: INFO: [HumblChannelSingleLong] Processing trade event. Trade event received for HumblChannelSingleLong strategy: new SPY, processed by broker backtesting\n",
      "2024-12-10 16:04:44,483: INFO: [HumblChannelSingleLong] \u001b[32mNew order was created: market order of | 1 SPY buy | new\u001b[0m\n",
      "2024-12-10 16:04:44,485: INFO: [HumblChannelSingleLong] Processing a new order, payload: {'order': market order of | 1 SPY buy | new}\n",
      "2024-12-10 16:04:44,486: INFO: [HumblChannelSingleLong] Getting historical prices for SPY, 1 bars, \n",
      "2024-12-10 16:04:44,487: INFO: [HumblChannelSingleLong] Processing trade event. Trade event received for HumblChannelSingleLong strategy: fill SPY, processed by broker backtesting\n",
      "2024-12-10 16:04:44,488: INFO: [HumblChannelSingleLong] \u001b[32mOrder was filled: market order of | 1 SPY buy | @ $113.5 fill\u001b[0m\n",
      "2024-12-10 16:04:44,490: INFO: [HumblChannelSingleLong] Processing a filled order, payload: {'position': HumblChannelSingleLong Position: 24.0 shares of SPY (24 orders), 'order': market order of | 1 SPY buy | @ $113.5 fill, 'price': 113.5, 'quantity': 1.0, 'multiplier': 1}\n"
     ]
    },
    {
     "name": "stdout",
     "output_type": "stream",
     "text": [
      "Progress |\u001b[32m\u001b[0m|   0.13%  [Elapsed: 0:12:03 ETA: 6 days, 13:17:07] Portfolio Val: 100,009.45"
     ]
    },
    {
     "name": "stderr",
     "output_type": "stream",
     "text": [
      "2024-12-10 16:04:44,490: INFO: Current backtesting datetime 2010-01-07 12:30:00-05:00\n",
      "2024-12-10 16:04:44,494: INFO: [HumblChannelSingleLong] Processing trade event. Trade event received for HumblChannelSingleLong strategy: new SPY, processed by broker backtesting\n",
      "2024-12-10 16:04:44,494: INFO: [HumblChannelSingleLong] \u001b[32mNew order was created: market order of | 1 SPY buy | new\u001b[0m\n",
      "2024-12-10 16:04:44,497: INFO: [HumblChannelSingleLong] Processing a new order, payload: {'order': market order of | 1 SPY buy | new}\n",
      "2024-12-10 16:04:44,497: INFO: [HumblChannelSingleLong] Getting historical prices for SPY, 1 bars, \n",
      "2024-12-10 16:04:44,499: INFO: [HumblChannelSingleLong] Processing trade event. Trade event received for HumblChannelSingleLong strategy: fill SPY, processed by broker backtesting\n",
      "2024-12-10 16:04:44,500: INFO: [HumblChannelSingleLong] \u001b[32mOrder was filled: market order of | 1 SPY buy | @ $113.5 fill\u001b[0m\n",
      "2024-12-10 16:04:44,501: INFO: [HumblChannelSingleLong] Processing a filled order, payload: {'position': HumblChannelSingleLong Position: 25.0 shares of SPY (25 orders), 'order': market order of | 1 SPY buy | @ $113.5 fill, 'price': 113.5, 'quantity': 1.0, 'multiplier': 1}\n"
     ]
    },
    {
     "name": "stdout",
     "output_type": "stream",
     "text": [
      "Progress |\u001b[32m\u001b[0m|   0.13%  [Elapsed: 0:12:03 ETA: 6 days, 12:17:16] Portfolio Val: 100,009.45"
     ]
    },
    {
     "name": "stderr",
     "output_type": "stream",
     "text": [
      "2024-12-10 16:04:44,502: INFO: Current backtesting datetime 2010-01-07 13:30:00-05:00\n",
      "2024-12-10 16:04:44,505: INFO: [HumblChannelSingleLong] Processing trade event. Trade event received for HumblChannelSingleLong strategy: new SPY, processed by broker backtesting\n",
      "2024-12-10 16:04:44,506: INFO: [HumblChannelSingleLong] \u001b[32mNew order was created: market order of | 1 SPY buy | new\u001b[0m\n",
      "2024-12-10 16:04:44,508: INFO: [HumblChannelSingleLong] Processing a new order, payload: {'order': market order of | 1 SPY buy | new}\n",
      "2024-12-10 16:04:44,508: INFO: [HumblChannelSingleLong] Getting historical prices for SPY, 1 bars, \n",
      "2024-12-10 16:04:44,510: INFO: [HumblChannelSingleLong] Processing trade event. Trade event received for HumblChannelSingleLong strategy: fill SPY, processed by broker backtesting\n",
      "2024-12-10 16:04:44,510: INFO: [HumblChannelSingleLong] \u001b[32mOrder was filled: market order of | 1 SPY buy | @ $113.5 fill\u001b[0m\n",
      "2024-12-10 16:04:44,512: INFO: [HumblChannelSingleLong] Processing a filled order, payload: {'position': HumblChannelSingleLong Position: 26.0 shares of SPY (26 orders), 'order': market order of | 1 SPY buy | @ $113.5 fill, 'price': 113.5, 'quantity': 1.0, 'multiplier': 1}\n"
     ]
    },
    {
     "name": "stdout",
     "output_type": "stream",
     "text": [
      "Progress |\u001b[32m\u001b[0m|   0.13%  [Elapsed: 0:12:03 ETA: 6 days, 11:18:10] Portfolio Val: 100,009.45"
     ]
    },
    {
     "name": "stderr",
     "output_type": "stream",
     "text": [
      "2024-12-10 16:04:44,512: INFO: Current backtesting datetime 2010-01-07 14:30:00-05:00\n",
      "2024-12-10 16:04:44,517: INFO: [HumblChannelSingleLong] Processing trade event. Trade event received for HumblChannelSingleLong strategy: new SPY, processed by broker backtesting\n",
      "2024-12-10 16:04:44,517: INFO: [HumblChannelSingleLong] \u001b[32mNew order was created: market order of | 1 SPY buy | new\u001b[0m\n",
      "2024-12-10 16:04:44,520: INFO: [HumblChannelSingleLong] Processing a new order, payload: {'order': market order of | 1 SPY buy | new}\n",
      "2024-12-10 16:04:44,520: INFO: [HumblChannelSingleLong] Getting historical prices for SPY, 1 bars, \n",
      "2024-12-10 16:04:44,522: INFO: [HumblChannelSingleLong] Processing trade event. Trade event received for HumblChannelSingleLong strategy: fill SPY, processed by broker backtesting\n",
      "2024-12-10 16:04:44,522: INFO: [HumblChannelSingleLong] \u001b[32mOrder was filled: market order of | 1 SPY buy | @ $113.5 fill\u001b[0m\n",
      "2024-12-10 16:04:44,524: INFO: [HumblChannelSingleLong] Processing a filled order, payload: {'position': HumblChannelSingleLong Position: 27.0 shares of SPY (27 orders), 'order': market order of | 1 SPY buy | @ $113.5 fill, 'price': 113.5, 'quantity': 1.0, 'multiplier': 1}\n"
     ]
    },
    {
     "name": "stdout",
     "output_type": "stream",
     "text": [
      "Progress |\u001b[32m\u001b[0m|   0.13%  [Elapsed: 0:12:03 ETA: 6 days, 10:19:50] Portfolio Val: 100,009.45"
     ]
    },
    {
     "name": "stderr",
     "output_type": "stream",
     "text": [
      "2024-12-10 16:04:44,525: INFO: Current backtesting datetime 2010-01-07 15:30:00-05:00\n",
      "2024-12-10 16:04:44,528: INFO: [HumblChannelSingleLong] Processing trade event. Trade event received for HumblChannelSingleLong strategy: new SPY, processed by broker backtesting\n",
      "2024-12-10 16:04:44,529: INFO: [HumblChannelSingleLong] \u001b[32mNew order was created: market order of | 1 SPY buy | new\u001b[0m\n",
      "2024-12-10 16:04:44,531: INFO: [HumblChannelSingleLong] Processing a new order, payload: {'order': market order of | 1 SPY buy | new}\n",
      "2024-12-10 16:04:44,531: INFO: [HumblChannelSingleLong] Getting historical prices for SPY, 1 bars, \n",
      "2024-12-10 16:04:44,533: INFO: [HumblChannelSingleLong] Processing trade event. Trade event received for HumblChannelSingleLong strategy: fill SPY, processed by broker backtesting\n",
      "2024-12-10 16:04:44,533: INFO: [HumblChannelSingleLong] \u001b[32mOrder was filled: market order of | 1 SPY buy | @ $113.5 fill\u001b[0m\n",
      "2024-12-10 16:04:44,536: INFO: [HumblChannelSingleLong] Processing a filled order, payload: {'position': HumblChannelSingleLong Position: 28.0 shares of SPY (28 orders), 'order': market order of | 1 SPY buy | @ $113.5 fill, 'price': 113.5, 'quantity': 1.0, 'multiplier': 1}\n"
     ]
    },
    {
     "name": "stdout",
     "output_type": "stream",
     "text": [
      "Progress |\u001b[32m\u001b[0m|   0.13%  [Elapsed: 0:12:03 ETA: 6 days, 9:51:00] Portfolio Val: 100,009.45"
     ]
    },
    {
     "name": "stderr",
     "output_type": "stream",
     "text": [
      "2024-12-10 16:04:44,536: INFO: Current backtesting datetime 2010-01-07 16:00:00-05:00\n"
     ]
    },
    {
     "name": "stdout",
     "output_type": "stream",
     "text": [
      "Progress |\u001b[32m\u001b[0m|   0.13%  [Elapsed: 0:12:03 ETA: 6 days, 9:22:13] Portfolio Val: 100,009.45"
     ]
    },
    {
     "name": "stderr",
     "output_type": "stream",
     "text": [
      "2024-12-10 16:04:44,537: INFO: Current backtesting datetime 2010-01-07 16:30:00-05:00\n"
     ]
    },
    {
     "name": "stdout",
     "output_type": "stream",
     "text": [
      "Progress |\u001b[32m\u001b[0m|   0.13%  [Elapsed: 0:12:03 ETA: 6 days, 9:27:02] "
     ]
    },
    {
     "name": "stderr",
     "output_type": "stream",
     "text": [
      "2024-12-10 16:04:44,539: INFO: Current backtesting datetime 2010-01-07 16:25:00-05:00\n"
     ]
    },
    {
     "name": "stdout",
     "output_type": "stream",
     "text": [
      "Progress |\u001b[32m\u001b[0m|   0.13%  [Elapsed: 0:12:03 ETA: 6 days, 9:27:02] "
     ]
    },
    {
     "name": "stderr",
     "output_type": "stream",
     "text": [
      "2024-12-10 16:04:44,539: INFO: Current backtesting datetime 2010-01-07 16:25:00-05:00\n"
     ]
    },
    {
     "name": "stdout",
     "output_type": "stream",
     "text": [
      "Progress |\u001b[32m\u001b[0m|   0.14%  [Elapsed: 0:12:03 ETA: 5 days, 19:26:59] "
     ]
    },
    {
     "name": "stderr",
     "output_type": "stream",
     "text": [
      "2024-12-10 16:04:44,541: INFO: Current backtesting datetime 2010-01-08 08:30:00-05:00\n"
     ]
    },
    {
     "name": "stdout",
     "output_type": "stream",
     "text": [
      "Progress |\u001b[32m\u001b[0m|   0.14%  [Elapsed: 0:12:03 ETA: 5 days, 18:41:56] "
     ]
    },
    {
     "name": "stderr",
     "output_type": "stream",
     "text": [
      "2024-12-10 16:04:44,729: INFO: Current backtesting datetime 2010-01-08 09:30:00-05:00\n",
      "2024-12-10 16:04:44,733: INFO: [HumblChannelSingleLong] Processing trade event. Trade event received for HumblChannelSingleLong strategy: new SPY, processed by broker backtesting\n",
      "2024-12-10 16:04:44,733: INFO: [HumblChannelSingleLong] \u001b[32mNew order was created: market order of | 1 SPY buy | new\u001b[0m\n",
      "2024-12-10 16:04:44,736: INFO: [HumblChannelSingleLong] Processing a new order, payload: {'order': market order of | 1 SPY buy | new}\n",
      "2024-12-10 16:04:44,736: INFO: [HumblChannelSingleLong] Getting historical prices for SPY, 1 bars, \n",
      "2024-12-10 16:04:44,738: INFO: [HumblChannelSingleLong] Processing trade event. Trade event received for HumblChannelSingleLong strategy: fill SPY, processed by broker backtesting\n",
      "2024-12-10 16:04:44,738: INFO: [HumblChannelSingleLong] \u001b[32mOrder was filled: market order of | 1 SPY buy | @ $113.89 fill\u001b[0m\n",
      "2024-12-10 16:04:44,740: INFO: [HumblChannelSingleLong] Processing a filled order, payload: {'position': HumblChannelSingleLong Position: 29.0 shares of SPY (29 orders), 'order': market order of | 1 SPY buy | @ $113.89 fill, 'price': 113.88999938964844, 'quantity': 1.0, 'multiplier': 1}\n"
     ]
    },
    {
     "name": "stdout",
     "output_type": "stream",
     "text": [
      "Progress |\u001b[32m\u001b[0m|   0.15%  [Elapsed: 0:12:03 ETA: 5 days, 17:55:23] Portfolio Val: 100,020.37"
     ]
    },
    {
     "name": "stderr",
     "output_type": "stream",
     "text": [
      "2024-12-10 16:04:44,741: INFO: Current backtesting datetime 2010-01-08 10:30:00-05:00\n",
      "2024-12-10 16:04:44,745: INFO: [HumblChannelSingleLong] Processing trade event. Trade event received for HumblChannelSingleLong strategy: new SPY, processed by broker backtesting\n",
      "2024-12-10 16:04:44,745: INFO: [HumblChannelSingleLong] \u001b[32mNew order was created: market order of | 1 SPY buy | new\u001b[0m\n",
      "2024-12-10 16:04:44,747: INFO: [HumblChannelSingleLong] Processing a new order, payload: {'order': market order of | 1 SPY buy | new}\n",
      "2024-12-10 16:04:44,748: INFO: [HumblChannelSingleLong] Getting historical prices for SPY, 1 bars, \n",
      "2024-12-10 16:04:44,750: INFO: [HumblChannelSingleLong] Processing trade event. Trade event received for HumblChannelSingleLong strategy: fill SPY, processed by broker backtesting\n",
      "2024-12-10 16:04:44,750: INFO: [HumblChannelSingleLong] \u001b[32mOrder was filled: market order of | 1 SPY buy | @ $113.89 fill\u001b[0m\n",
      "2024-12-10 16:04:44,752: INFO: [HumblChannelSingleLong] Processing a filled order, payload: {'position': HumblChannelSingleLong Position: 30.0 shares of SPY (30 orders), 'order': market order of | 1 SPY buy | @ $113.89 fill, 'price': 113.88999938964844, 'quantity': 1.0, 'multiplier': 1}\n"
     ]
    },
    {
     "name": "stdout",
     "output_type": "stream",
     "text": [
      "Progress |\u001b[32m\u001b[0m|   0.15%  [Elapsed: 0:12:03 ETA: 5 days, 17:09:21] Portfolio Val: 100,020.37"
     ]
    },
    {
     "name": "stderr",
     "output_type": "stream",
     "text": [
      "2024-12-10 16:04:44,753: INFO: Current backtesting datetime 2010-01-08 11:30:00-05:00\n",
      "2024-12-10 16:04:44,756: INFO: [HumblChannelSingleLong] Processing trade event. Trade event received for HumblChannelSingleLong strategy: new SPY, processed by broker backtesting\n",
      "2024-12-10 16:04:44,757: INFO: [HumblChannelSingleLong] \u001b[32mNew order was created: market order of | 1 SPY buy | new\u001b[0m\n",
      "2024-12-10 16:04:44,759: INFO: [HumblChannelSingleLong] Processing a new order, payload: {'order': market order of | 1 SPY buy | new}\n",
      "2024-12-10 16:04:44,759: INFO: [HumblChannelSingleLong] Getting historical prices for SPY, 1 bars, \n",
      "2024-12-10 16:04:44,761: INFO: [HumblChannelSingleLong] Processing trade event. Trade event received for HumblChannelSingleLong strategy: fill SPY, processed by broker backtesting\n",
      "2024-12-10 16:04:44,761: INFO: [HumblChannelSingleLong] \u001b[32mOrder was filled: market order of | 1 SPY buy | @ $113.89 fill\u001b[0m\n",
      "2024-12-10 16:04:44,763: INFO: [HumblChannelSingleLong] Processing a filled order, payload: {'position': HumblChannelSingleLong Position: 31.0 shares of SPY (31 orders), 'order': market order of | 1 SPY buy | @ $113.89 fill, 'price': 113.88999938964844, 'quantity': 1.0, 'multiplier': 1}\n"
     ]
    },
    {
     "name": "stdout",
     "output_type": "stream",
     "text": [
      "Progress |\u001b[32m\u001b[0m|   0.15%  [Elapsed: 0:12:03 ETA: 5 days, 16:23:49] Portfolio Val: 100,020.37"
     ]
    },
    {
     "name": "stderr",
     "output_type": "stream",
     "text": [
      "2024-12-10 16:04:44,763: INFO: Current backtesting datetime 2010-01-08 12:30:00-05:00\n",
      "2024-12-10 16:04:44,767: INFO: [HumblChannelSingleLong] Processing trade event. Trade event received for HumblChannelSingleLong strategy: new SPY, processed by broker backtesting\n",
      "2024-12-10 16:04:44,768: INFO: [HumblChannelSingleLong] \u001b[32mNew order was created: market order of | 1 SPY buy | new\u001b[0m\n",
      "2024-12-10 16:04:44,770: INFO: [HumblChannelSingleLong] Processing a new order, payload: {'order': market order of | 1 SPY buy | new}\n",
      "2024-12-10 16:04:44,771: INFO: [HumblChannelSingleLong] Getting historical prices for SPY, 1 bars, \n",
      "2024-12-10 16:04:44,772: INFO: [HumblChannelSingleLong] Processing trade event. Trade event received for HumblChannelSingleLong strategy: fill SPY, processed by broker backtesting\n",
      "2024-12-10 16:04:44,772: INFO: [HumblChannelSingleLong] \u001b[32mOrder was filled: market order of | 1 SPY buy | @ $113.89 fill\u001b[0m\n",
      "2024-12-10 16:04:44,774: INFO: [HumblChannelSingleLong] Processing a filled order, payload: {'position': HumblChannelSingleLong Position: 32.0 shares of SPY (32 orders), 'order': market order of | 1 SPY buy | @ $113.89 fill, 'price': 113.88999938964844, 'quantity': 1.0, 'multiplier': 1}\n"
     ]
    },
    {
     "name": "stdout",
     "output_type": "stream",
     "text": [
      "Progress |\u001b[32m\u001b[0m|   0.15%  [Elapsed: 0:12:03 ETA: 5 days, 15:38:47] Portfolio Val: 100,020.37"
     ]
    },
    {
     "name": "stderr",
     "output_type": "stream",
     "text": [
      "2024-12-10 16:04:44,775: INFO: Current backtesting datetime 2010-01-08 13:30:00-05:00\n",
      "2024-12-10 16:04:44,779: INFO: [HumblChannelSingleLong] Processing trade event. Trade event received for HumblChannelSingleLong strategy: new SPY, processed by broker backtesting\n",
      "2024-12-10 16:04:44,779: INFO: [HumblChannelSingleLong] \u001b[32mNew order was created: market order of | 1 SPY buy | new\u001b[0m\n",
      "2024-12-10 16:04:44,781: INFO: [HumblChannelSingleLong] Processing a new order, payload: {'order': market order of | 1 SPY buy | new}\n",
      "2024-12-10 16:04:44,782: INFO: [HumblChannelSingleLong] Getting historical prices for SPY, 1 bars, \n",
      "2024-12-10 16:04:44,784: INFO: [HumblChannelSingleLong] Processing trade event. Trade event received for HumblChannelSingleLong strategy: fill SPY, processed by broker backtesting\n",
      "2024-12-10 16:04:44,784: INFO: [HumblChannelSingleLong] \u001b[32mOrder was filled: market order of | 1 SPY buy | @ $113.89 fill\u001b[0m\n",
      "2024-12-10 16:04:44,786: INFO: [HumblChannelSingleLong] Processing a filled order, payload: {'position': HumblChannelSingleLong Position: 33.0 shares of SPY (33 orders), 'order': market order of | 1 SPY buy | @ $113.89 fill, 'price': 113.88999938964844, 'quantity': 1.0, 'multiplier': 1}\n"
     ]
    },
    {
     "name": "stdout",
     "output_type": "stream",
     "text": [
      "Progress |\u001b[32m\u001b[0m|   0.15%  [Elapsed: 0:12:03 ETA: 5 days, 14:54:15] Portfolio Val: 100,020.37"
     ]
    },
    {
     "name": "stderr",
     "output_type": "stream",
     "text": [
      "2024-12-10 16:04:44,786: INFO: Current backtesting datetime 2010-01-08 14:30:00-05:00\n",
      "2024-12-10 16:04:44,790: INFO: [HumblChannelSingleLong] Processing trade event. Trade event received for HumblChannelSingleLong strategy: new SPY, processed by broker backtesting\n",
      "2024-12-10 16:04:44,791: INFO: [HumblChannelSingleLong] \u001b[32mNew order was created: market order of | 1 SPY buy | new\u001b[0m\n",
      "2024-12-10 16:04:44,793: INFO: [HumblChannelSingleLong] Processing a new order, payload: {'order': market order of | 1 SPY buy | new}\n",
      "2024-12-10 16:04:44,794: INFO: [HumblChannelSingleLong] Getting historical prices for SPY, 1 bars, \n",
      "2024-12-10 16:04:44,795: INFO: [HumblChannelSingleLong] Processing trade event. Trade event received for HumblChannelSingleLong strategy: fill SPY, processed by broker backtesting\n",
      "2024-12-10 16:04:44,795: INFO: [HumblChannelSingleLong] \u001b[32mOrder was filled: market order of | 1 SPY buy | @ $113.89 fill\u001b[0m\n",
      "2024-12-10 16:04:44,797: INFO: [HumblChannelSingleLong] Processing a filled order, payload: {'position': HumblChannelSingleLong Position: 34.0 shares of SPY (34 orders), 'order': market order of | 1 SPY buy | @ $113.89 fill, 'price': 113.88999938964844, 'quantity': 1.0, 'multiplier': 1}\n"
     ]
    },
    {
     "name": "stdout",
     "output_type": "stream",
     "text": [
      "Progress |\u001b[32m\u001b[0m|   0.15%  [Elapsed: 0:12:03 ETA: 5 days, 14:10:12] Portfolio Val: 100,020.37"
     ]
    },
    {
     "name": "stderr",
     "output_type": "stream",
     "text": [
      "2024-12-10 16:04:44,798: INFO: Current backtesting datetime 2010-01-08 15:30:00-05:00\n",
      "2024-12-10 16:04:44,802: INFO: [HumblChannelSingleLong] Processing trade event. Trade event received for HumblChannelSingleLong strategy: new SPY, processed by broker backtesting\n",
      "2024-12-10 16:04:44,802: INFO: [HumblChannelSingleLong] \u001b[32mNew order was created: market order of | 1 SPY buy | new\u001b[0m\n",
      "2024-12-10 16:04:44,804: INFO: [HumblChannelSingleLong] Processing a new order, payload: {'order': market order of | 1 SPY buy | new}\n",
      "2024-12-10 16:04:44,805: INFO: [HumblChannelSingleLong] Getting historical prices for SPY, 1 bars, \n",
      "2024-12-10 16:04:44,806: INFO: [HumblChannelSingleLong] Processing trade event. Trade event received for HumblChannelSingleLong strategy: fill SPY, processed by broker backtesting\n",
      "2024-12-10 16:04:44,807: INFO: [HumblChannelSingleLong] \u001b[32mOrder was filled: market order of | 1 SPY buy | @ $113.89 fill\u001b[0m\n",
      "2024-12-10 16:04:44,808: INFO: [HumblChannelSingleLong] Processing a filled order, payload: {'position': HumblChannelSingleLong Position: 35.0 shares of SPY (35 orders), 'order': market order of | 1 SPY buy | @ $113.89 fill, 'price': 113.88999938964844, 'quantity': 1.0, 'multiplier': 1}\n"
     ]
    },
    {
     "name": "stdout",
     "output_type": "stream",
     "text": [
      "Progress |\u001b[32m\u001b[0m|   0.15%  [Elapsed: 0:12:03 ETA: 5 days, 13:48:25] Portfolio Val: 100,020.37"
     ]
    },
    {
     "name": "stderr",
     "output_type": "stream",
     "text": [
      "2024-12-10 16:04:44,809: INFO: Current backtesting datetime 2010-01-08 16:00:00-05:00\n"
     ]
    },
    {
     "name": "stdout",
     "output_type": "stream",
     "text": [
      "Progress |\u001b[32m\u001b[0m|   0.15%  [Elapsed: 0:12:03 ETA: 5 days, 13:26:38] Portfolio Val: 100,020.37"
     ]
    },
    {
     "name": "stderr",
     "output_type": "stream",
     "text": [
      "2024-12-10 16:04:44,809: INFO: Current backtesting datetime 2010-01-08 16:30:00-05:00\n"
     ]
    },
    {
     "name": "stdout",
     "output_type": "stream",
     "text": [
      "Progress |\u001b[32m\u001b[0m|   0.15%  [Elapsed: 0:12:03 ETA: 5 days, 13:30:16] "
     ]
    },
    {
     "name": "stderr",
     "output_type": "stream",
     "text": [
      "2024-12-10 16:04:44,811: INFO: Current backtesting datetime 2010-01-08 16:25:00-05:00\n"
     ]
    },
    {
     "name": "stdout",
     "output_type": "stream",
     "text": [
      "Progress |\u001b[32m\u001b[0m|   0.15%  [Elapsed: 0:12:03 ETA: 5 days, 13:30:17] "
     ]
    },
    {
     "name": "stderr",
     "output_type": "stream",
     "text": [
      "2024-12-10 16:04:44,812: INFO: Current backtesting datetime 2010-01-08 16:25:00-05:00\n"
     ]
    },
    {
     "name": "stdout",
     "output_type": "stream",
     "text": [
      "Progress |\u001b[32m\u001b[0m|   0.20%  [Elapsed: 0:12:03 ETA: 4 days, 3:01:29] "
     ]
    },
    {
     "name": "stderr",
     "output_type": "stream",
     "text": [
      "2024-12-10 16:04:44,814: INFO: Current backtesting datetime 2010-01-11 08:30:00-05:00\n"
     ]
    },
    {
     "name": "stdout",
     "output_type": "stream",
     "text": [
      "Progress |\u001b[32m\u001b[0m|   0.20%  [Elapsed: 0:12:03 ETA: 4 days, 2:39:18] "
     ]
    },
    {
     "name": "stderr",
     "output_type": "stream",
     "text": [
      "2024-12-10 16:04:45,018: INFO: Current backtesting datetime 2010-01-11 09:30:00-05:00\n",
      "2024-12-10 16:04:45,024: INFO: [HumblChannelSingleLong] Processing trade event. Trade event received for HumblChannelSingleLong strategy: new SPY, processed by broker backtesting\n",
      "2024-12-10 16:04:45,024: INFO: [HumblChannelSingleLong] \u001b[32mNew order was created: market order of | 1 SPY sell | new\u001b[0m\n",
      "2024-12-10 16:04:45,027: INFO: [HumblChannelSingleLong] Processing a new order, payload: {'order': market order of | 1 SPY sell | new}\n",
      "2024-12-10 16:04:45,028: INFO: [HumblChannelSingleLong] Getting historical prices for SPY, 1 bars, \n",
      "2024-12-10 16:04:45,030: INFO: [HumblChannelSingleLong] Processing trade event. Trade event received for HumblChannelSingleLong strategy: fill SPY, processed by broker backtesting\n",
      "2024-12-10 16:04:45,031: INFO: [HumblChannelSingleLong] \u001b[32mOrder was filled: market order of | 1 SPY sell | @ $115.08 fill\u001b[0m\n",
      "2024-12-10 16:04:45,033: INFO: [HumblChannelSingleLong] Processing a filled order, payload: {'position': HumblChannelSingleLong Position: 34.0 shares of SPY (36 orders), 'order': market order of | 1 SPY sell | @ $115.08 fill, 'price': 115.08000183105469, 'quantity': 1.0, 'multiplier': 1}\n"
     ]
    },
    {
     "name": "stdout",
     "output_type": "stream",
     "text": [
      "Progress |\u001b[32m\u001b[0m|   0.20%  [Elapsed: 0:12:03 ETA: 4 days, 2:15:45] Portfolio Val: 100,062.02"
     ]
    },
    {
     "name": "stderr",
     "output_type": "stream",
     "text": [
      "2024-12-10 16:04:45,034: INFO: Current backtesting datetime 2010-01-11 10:30:00-05:00\n",
      "2024-12-10 16:04:45,038: INFO: [HumblChannelSingleLong] Processing trade event. Trade event received for HumblChannelSingleLong strategy: new SPY, processed by broker backtesting\n",
      "2024-12-10 16:04:45,039: INFO: [HumblChannelSingleLong] \u001b[32mNew order was created: market order of | 1 SPY sell | new\u001b[0m\n",
      "2024-12-10 16:04:45,042: INFO: [HumblChannelSingleLong] Processing a new order, payload: {'order': market order of | 1 SPY sell | new}\n",
      "2024-12-10 16:04:45,042: INFO: [HumblChannelSingleLong] Getting historical prices for SPY, 1 bars, \n",
      "2024-12-10 16:04:45,044: INFO: [HumblChannelSingleLong] Processing trade event. Trade event received for HumblChannelSingleLong strategy: fill SPY, processed by broker backtesting\n",
      "2024-12-10 16:04:45,045: INFO: [HumblChannelSingleLong] \u001b[32mOrder was filled: market order of | 1 SPY sell | @ $115.08 fill\u001b[0m\n",
      "2024-12-10 16:04:45,048: INFO: [HumblChannelSingleLong] Processing a filled order, payload: {'position': HumblChannelSingleLong Position: 33.0 shares of SPY (37 orders), 'order': market order of | 1 SPY sell | @ $115.08 fill, 'price': 115.08000183105469, 'quantity': 1.0, 'multiplier': 1}\n"
     ]
    },
    {
     "name": "stdout",
     "output_type": "stream",
     "text": [
      "Progress |\u001b[32m\u001b[0m|   0.20%  [Elapsed: 0:12:03 ETA: 4 days, 1:52:23] Portfolio Val: 100,062.02"
     ]
    },
    {
     "name": "stderr",
     "output_type": "stream",
     "text": [
      "2024-12-10 16:04:45,048: INFO: Current backtesting datetime 2010-01-11 11:30:00-05:00\n",
      "2024-12-10 16:04:45,053: INFO: [HumblChannelSingleLong] Processing trade event. Trade event received for HumblChannelSingleLong strategy: new SPY, processed by broker backtesting\n",
      "2024-12-10 16:04:45,054: INFO: [HumblChannelSingleLong] \u001b[32mNew order was created: market order of | 1 SPY sell | new\u001b[0m\n",
      "2024-12-10 16:04:45,057: INFO: [HumblChannelSingleLong] Processing a new order, payload: {'order': market order of | 1 SPY sell | new}\n",
      "2024-12-10 16:04:45,058: INFO: [HumblChannelSingleLong] Getting historical prices for SPY, 1 bars, \n",
      "2024-12-10 16:04:45,059: INFO: [HumblChannelSingleLong] Processing trade event. Trade event received for HumblChannelSingleLong strategy: fill SPY, processed by broker backtesting\n",
      "2024-12-10 16:04:45,060: INFO: [HumblChannelSingleLong] \u001b[32mOrder was filled: market order of | 1 SPY sell | @ $115.08 fill\u001b[0m\n",
      "2024-12-10 16:04:45,062: INFO: [HumblChannelSingleLong] Processing a filled order, payload: {'position': HumblChannelSingleLong Position: 32.0 shares of SPY (38 orders), 'order': market order of | 1 SPY sell | @ $115.08 fill, 'price': 115.08000183105469, 'quantity': 1.0, 'multiplier': 1}\n"
     ]
    },
    {
     "name": "stdout",
     "output_type": "stream",
     "text": [
      "Progress |\u001b[32m\u001b[0m|   0.21%  [Elapsed: 0:12:03 ETA: 4 days, 1:29:11] Portfolio Val: 100,062.02"
     ]
    },
    {
     "name": "stderr",
     "output_type": "stream",
     "text": [
      "2024-12-10 16:04:45,062: INFO: Current backtesting datetime 2010-01-11 12:30:00-05:00\n",
      "2024-12-10 16:04:45,067: INFO: [HumblChannelSingleLong] Processing trade event. Trade event received for HumblChannelSingleLong strategy: new SPY, processed by broker backtesting\n",
      "2024-12-10 16:04:45,068: INFO: [HumblChannelSingleLong] \u001b[32mNew order was created: market order of | 1 SPY sell | new\u001b[0m\n",
      "2024-12-10 16:04:45,070: INFO: [HumblChannelSingleLong] Processing a new order, payload: {'order': market order of | 1 SPY sell | new}\n",
      "2024-12-10 16:04:45,071: INFO: [HumblChannelSingleLong] Getting historical prices for SPY, 1 bars, \n",
      "2024-12-10 16:04:45,072: INFO: [HumblChannelSingleLong] Processing trade event. Trade event received for HumblChannelSingleLong strategy: fill SPY, processed by broker backtesting\n",
      "2024-12-10 16:04:45,073: INFO: [HumblChannelSingleLong] \u001b[32mOrder was filled: market order of | 1 SPY sell | @ $115.08 fill\u001b[0m\n",
      "2024-12-10 16:04:45,075: INFO: [HumblChannelSingleLong] Processing a filled order, payload: {'position': HumblChannelSingleLong Position: 31.0 shares of SPY (39 orders), 'order': market order of | 1 SPY sell | @ $115.08 fill, 'price': 115.08000183105469, 'quantity': 1.0, 'multiplier': 1}\n"
     ]
    },
    {
     "name": "stdout",
     "output_type": "stream",
     "text": [
      "Progress |\u001b[32m\u001b[0m|   0.21%  [Elapsed: 0:12:03 ETA: 4 days, 1:06:10] Portfolio Val: 100,062.02"
     ]
    },
    {
     "name": "stderr",
     "output_type": "stream",
     "text": [
      "2024-12-10 16:04:45,075: INFO: Current backtesting datetime 2010-01-11 13:30:00-05:00\n",
      "2024-12-10 16:04:45,079: INFO: [HumblChannelSingleLong] Processing trade event. Trade event received for HumblChannelSingleLong strategy: new SPY, processed by broker backtesting\n",
      "2024-12-10 16:04:45,080: INFO: [HumblChannelSingleLong] \u001b[32mNew order was created: market order of | 1 SPY sell | new\u001b[0m\n",
      "2024-12-10 16:04:45,082: INFO: [HumblChannelSingleLong] Processing a new order, payload: {'order': market order of | 1 SPY sell | new}\n",
      "2024-12-10 16:04:45,083: INFO: [HumblChannelSingleLong] Getting historical prices for SPY, 1 bars, \n",
      "2024-12-10 16:04:45,084: INFO: [HumblChannelSingleLong] Processing trade event. Trade event received for HumblChannelSingleLong strategy: fill SPY, processed by broker backtesting\n",
      "2024-12-10 16:04:45,085: INFO: [HumblChannelSingleLong] \u001b[32mOrder was filled: market order of | 1 SPY sell | @ $115.08 fill\u001b[0m\n",
      "2024-12-10 16:04:45,086: INFO: [HumblChannelSingleLong] Processing a filled order, payload: {'position': HumblChannelSingleLong Position: 30.0 shares of SPY (40 orders), 'order': market order of | 1 SPY sell | @ $115.08 fill, 'price': 115.08000183105469, 'quantity': 1.0, 'multiplier': 1}\n"
     ]
    },
    {
     "name": "stdout",
     "output_type": "stream",
     "text": [
      "Progress |\u001b[32m\u001b[0m|   0.21%  [Elapsed: 0:12:03 ETA: 4 days, 0:43:19] Portfolio Val: 100,062.02"
     ]
    },
    {
     "name": "stderr",
     "output_type": "stream",
     "text": [
      "2024-12-10 16:04:45,087: INFO: Current backtesting datetime 2010-01-11 14:30:00-05:00\n",
      "2024-12-10 16:04:45,091: INFO: [HumblChannelSingleLong] Processing trade event. Trade event received for HumblChannelSingleLong strategy: new SPY, processed by broker backtesting\n",
      "2024-12-10 16:04:45,091: INFO: [HumblChannelSingleLong] \u001b[32mNew order was created: market order of | 1 SPY sell | new\u001b[0m\n",
      "2024-12-10 16:04:45,094: INFO: [HumblChannelSingleLong] Processing a new order, payload: {'order': market order of | 1 SPY sell | new}\n",
      "2024-12-10 16:04:45,094: INFO: [HumblChannelSingleLong] Getting historical prices for SPY, 1 bars, \n",
      "2024-12-10 16:04:45,096: INFO: [HumblChannelSingleLong] Processing trade event. Trade event received for HumblChannelSingleLong strategy: fill SPY, processed by broker backtesting\n",
      "2024-12-10 16:04:45,096: INFO: [HumblChannelSingleLong] \u001b[32mOrder was filled: market order of | 1 SPY sell | @ $115.08 fill\u001b[0m\n",
      "2024-12-10 16:04:45,098: INFO: [HumblChannelSingleLong] Processing a filled order, payload: {'position': HumblChannelSingleLong Position: 29.0 shares of SPY (41 orders), 'order': market order of | 1 SPY sell | @ $115.08 fill, 'price': 115.08000183105469, 'quantity': 1.0, 'multiplier': 1}\n"
     ]
    },
    {
     "name": "stdout",
     "output_type": "stream",
     "text": [
      "Progress |\u001b[32m\u001b[0m|   0.21%  [Elapsed: 0:12:03 ETA: 4 days, 0:20:39] Portfolio Val: 100,062.02"
     ]
    },
    {
     "name": "stderr",
     "output_type": "stream",
     "text": [
      "2024-12-10 16:04:45,098: INFO: Current backtesting datetime 2010-01-11 15:30:00-05:00\n",
      "2024-12-10 16:04:45,102: INFO: [HumblChannelSingleLong] Processing trade event. Trade event received for HumblChannelSingleLong strategy: new SPY, processed by broker backtesting\n",
      "2024-12-10 16:04:45,103: INFO: [HumblChannelSingleLong] \u001b[32mNew order was created: market order of | 1 SPY sell | new\u001b[0m\n",
      "2024-12-10 16:04:45,105: INFO: [HumblChannelSingleLong] Processing a new order, payload: {'order': market order of | 1 SPY sell | new}\n",
      "2024-12-10 16:04:45,106: INFO: [HumblChannelSingleLong] Getting historical prices for SPY, 1 bars, \n",
      "2024-12-10 16:04:45,107: INFO: [HumblChannelSingleLong] Processing trade event. Trade event received for HumblChannelSingleLong strategy: fill SPY, processed by broker backtesting\n",
      "2024-12-10 16:04:45,108: INFO: [HumblChannelSingleLong] \u001b[32mOrder was filled: market order of | 1 SPY sell | @ $115.08 fill\u001b[0m\n",
      "2024-12-10 16:04:45,109: INFO: [HumblChannelSingleLong] Processing a filled order, payload: {'position': HumblChannelSingleLong Position: 28.0 shares of SPY (42 orders), 'order': market order of | 1 SPY sell | @ $115.08 fill, 'price': 115.08000183105469, 'quantity': 1.0, 'multiplier': 1}\n"
     ]
    },
    {
     "name": "stdout",
     "output_type": "stream",
     "text": [
      "Progress |\u001b[32m\u001b[0m|   0.21%  [Elapsed: 0:12:03 ETA: 4 days, 0:09:26] Portfolio Val: 100,062.02"
     ]
    },
    {
     "name": "stderr",
     "output_type": "stream",
     "text": [
      "2024-12-10 16:04:45,110: INFO: Current backtesting datetime 2010-01-11 16:00:00-05:00\n"
     ]
    },
    {
     "name": "stdout",
     "output_type": "stream",
     "text": [
      "Progress |\u001b[32m\u001b[0m|   0.21%  [Elapsed: 0:12:03 ETA: 3 days, 23:58:10] Portfolio Val: 100,062.02"
     ]
    },
    {
     "name": "stderr",
     "output_type": "stream",
     "text": [
      "2024-12-10 16:04:45,110: INFO: Current backtesting datetime 2010-01-11 16:30:00-05:00\n"
     ]
    },
    {
     "name": "stdout",
     "output_type": "stream",
     "text": [
      "Progress |\u001b[32m\u001b[0m|   0.21%  [Elapsed: 0:12:03 ETA: 4 days, 0:00:03] "
     ]
    },
    {
     "name": "stderr",
     "output_type": "stream",
     "text": [
      "2024-12-10 16:04:45,112: INFO: Current backtesting datetime 2010-01-11 16:25:00-05:00\n"
     ]
    },
    {
     "name": "stdout",
     "output_type": "stream",
     "text": [
      "Progress |\u001b[32m\u001b[0m|   0.21%  [Elapsed: 0:12:03 ETA: 4 days, 0:00:03] "
     ]
    },
    {
     "name": "stderr",
     "output_type": "stream",
     "text": [
      "2024-12-10 16:04:45,112: INFO: Current backtesting datetime 2010-01-11 16:25:00-05:00\n"
     ]
    },
    {
     "name": "stdout",
     "output_type": "stream",
     "text": [
      "Progress |\u001b[32m\u001b[0m|   0.22%  [Elapsed: 0:12:03 ETA: 3 days, 18:19:24] "
     ]
    },
    {
     "name": "stderr",
     "output_type": "stream",
     "text": [
      "2024-12-10 16:04:45,115: INFO: Current backtesting datetime 2010-01-12 08:30:00-05:00\n"
     ]
    },
    {
     "name": "stdout",
     "output_type": "stream",
     "text": [
      "Progress |\u001b[32m\u001b[0m|   0.22%  [Elapsed: 0:12:03 ETA: 3 days, 18:01:49] "
     ]
    },
    {
     "name": "stderr",
     "output_type": "stream",
     "text": [
      "2024-12-10 16:04:45,422: INFO: Current backtesting datetime 2010-01-12 09:30:00-05:00\n",
      "2024-12-10 16:04:45,427: INFO: [HumblChannelSingleLong] Processing trade event. Trade event received for HumblChannelSingleLong strategy: new SPY, processed by broker backtesting\n",
      "2024-12-10 16:04:45,427: INFO: [HumblChannelSingleLong] \u001b[32mNew order was created: market order of | 1 SPY buy | new\u001b[0m\n",
      "2024-12-10 16:04:45,430: INFO: [HumblChannelSingleLong] Processing a new order, payload: {'order': market order of | 1 SPY buy | new}\n",
      "2024-12-10 16:04:45,430: INFO: [HumblChannelSingleLong] Getting historical prices for SPY, 1 bars, \n",
      "2024-12-10 16:04:45,432: INFO: [HumblChannelSingleLong] Processing trade event. Trade event received for HumblChannelSingleLong strategy: fill SPY, processed by broker backtesting\n",
      "2024-12-10 16:04:45,433: INFO: [HumblChannelSingleLong] \u001b[32mOrder was filled: market order of | 1 SPY buy | @ $113.97 fill\u001b[0m\n",
      "2024-12-10 16:04:45,435: INFO: [HumblChannelSingleLong] Processing a filled order, payload: {'position': HumblChannelSingleLong Position: 29.0 shares of SPY (43 orders), 'order': market order of | 1 SPY buy | @ $113.97 fill, 'price': 113.97000122070312, 'quantity': 1.0, 'multiplier': 1}\n"
     ]
    },
    {
     "name": "stdout",
     "output_type": "stream",
     "text": [
      "Progress |\u001b[32m\u001b[0m|   0.22%  [Elapsed: 0:12:04 ETA: 3 days, 17:42:12] Portfolio Val: 100,030.94"
     ]
    },
    {
     "name": "stderr",
     "output_type": "stream",
     "text": [
      "2024-12-10 16:04:45,436: INFO: Current backtesting datetime 2010-01-12 10:30:00-05:00\n",
      "2024-12-10 16:04:45,441: INFO: [HumblChannelSingleLong] Processing trade event. Trade event received for HumblChannelSingleLong strategy: new SPY, processed by broker backtesting\n",
      "2024-12-10 16:04:45,441: INFO: [HumblChannelSingleLong] \u001b[32mNew order was created: market order of | 1 SPY buy | new\u001b[0m\n",
      "2024-12-10 16:04:45,444: INFO: [HumblChannelSingleLong] Processing a new order, payload: {'order': market order of | 1 SPY buy | new}\n",
      "2024-12-10 16:04:45,445: INFO: [HumblChannelSingleLong] Getting historical prices for SPY, 1 bars, \n",
      "2024-12-10 16:04:45,447: INFO: [HumblChannelSingleLong] Processing trade event. Trade event received for HumblChannelSingleLong strategy: fill SPY, processed by broker backtesting\n",
      "2024-12-10 16:04:45,447: INFO: [HumblChannelSingleLong] \u001b[32mOrder was filled: market order of | 1 SPY buy | @ $113.97 fill\u001b[0m\n",
      "2024-12-10 16:04:45,449: INFO: [HumblChannelSingleLong] Processing a filled order, payload: {'position': HumblChannelSingleLong Position: 30.0 shares of SPY (44 orders), 'order': market order of | 1 SPY buy | @ $113.97 fill, 'price': 113.97000122070312, 'quantity': 1.0, 'multiplier': 1}\n"
     ]
    },
    {
     "name": "stdout",
     "output_type": "stream",
     "text": [
      "Progress |\u001b[32m\u001b[0m|   0.22%  [Elapsed: 0:12:04 ETA: 3 days, 17:22:44] Portfolio Val: 100,030.94"
     ]
    },
    {
     "name": "stderr",
     "output_type": "stream",
     "text": [
      "2024-12-10 16:04:45,450: INFO: Current backtesting datetime 2010-01-12 11:30:00-05:00\n",
      "2024-12-10 16:04:45,455: INFO: [HumblChannelSingleLong] Processing trade event. Trade event received for HumblChannelSingleLong strategy: new SPY, processed by broker backtesting\n",
      "2024-12-10 16:04:45,455: INFO: [HumblChannelSingleLong] \u001b[32mNew order was created: market order of | 1 SPY buy | new\u001b[0m\n",
      "2024-12-10 16:04:45,457: INFO: [HumblChannelSingleLong] Processing a new order, payload: {'order': market order of | 1 SPY buy | new}\n",
      "2024-12-10 16:04:45,458: INFO: [HumblChannelSingleLong] Getting historical prices for SPY, 1 bars, \n",
      "2024-12-10 16:04:45,460: INFO: [HumblChannelSingleLong] Processing trade event. Trade event received for HumblChannelSingleLong strategy: fill SPY, processed by broker backtesting\n",
      "2024-12-10 16:04:45,461: INFO: [HumblChannelSingleLong] \u001b[32mOrder was filled: market order of | 1 SPY buy | @ $113.97 fill\u001b[0m\n",
      "2024-12-10 16:04:45,463: INFO: [HumblChannelSingleLong] Processing a filled order, payload: {'position': HumblChannelSingleLong Position: 31.0 shares of SPY (45 orders), 'order': market order of | 1 SPY buy | @ $113.97 fill, 'price': 113.97000122070312, 'quantity': 1.0, 'multiplier': 1}\n"
     ]
    },
    {
     "name": "stdout",
     "output_type": "stream",
     "text": [
      "Progress |\u001b[32m\u001b[0m|   0.23%  [Elapsed: 0:12:04 ETA: 3 days, 17:03:24] Portfolio Val: 100,030.94"
     ]
    },
    {
     "name": "stderr",
     "output_type": "stream",
     "text": [
      "2024-12-10 16:04:45,464: INFO: Current backtesting datetime 2010-01-12 12:30:00-05:00\n",
      "2024-12-10 16:04:45,468: INFO: [HumblChannelSingleLong] Processing trade event. Trade event received for HumblChannelSingleLong strategy: new SPY, processed by broker backtesting\n",
      "2024-12-10 16:04:45,469: INFO: [HumblChannelSingleLong] \u001b[32mNew order was created: market order of | 1 SPY buy | new\u001b[0m\n",
      "2024-12-10 16:04:45,472: INFO: [HumblChannelSingleLong] Processing a new order, payload: {'order': market order of | 1 SPY buy | new}\n",
      "2024-12-10 16:04:45,472: INFO: [HumblChannelSingleLong] Getting historical prices for SPY, 1 bars, \n",
      "2024-12-10 16:04:45,474: INFO: [HumblChannelSingleLong] Processing trade event. Trade event received for HumblChannelSingleLong strategy: fill SPY, processed by broker backtesting\n",
      "2024-12-10 16:04:45,475: INFO: [HumblChannelSingleLong] \u001b[32mOrder was filled: market order of | 1 SPY buy | @ $113.97 fill\u001b[0m\n",
      "2024-12-10 16:04:45,477: INFO: [HumblChannelSingleLong] Processing a filled order, payload: {'position': HumblChannelSingleLong Position: 32.0 shares of SPY (46 orders), 'order': market order of | 1 SPY buy | @ $113.97 fill, 'price': 113.97000122070312, 'quantity': 1.0, 'multiplier': 1}\n"
     ]
    },
    {
     "name": "stdout",
     "output_type": "stream",
     "text": [
      "Progress |\u001b[32m\u001b[0m|   0.23%  [Elapsed: 0:12:04 ETA: 3 days, 16:44:12] Portfolio Val: 100,030.94"
     ]
    },
    {
     "name": "stderr",
     "output_type": "stream",
     "text": [
      "2024-12-10 16:04:45,477: INFO: Current backtesting datetime 2010-01-12 13:30:00-05:00\n",
      "2024-12-10 16:04:45,483: INFO: [HumblChannelSingleLong] Processing trade event. Trade event received for HumblChannelSingleLong strategy: new SPY, processed by broker backtesting\n",
      "2024-12-10 16:04:45,483: INFO: [HumblChannelSingleLong] \u001b[32mNew order was created: market order of | 1 SPY buy | new\u001b[0m\n",
      "2024-12-10 16:04:45,486: INFO: [HumblChannelSingleLong] Processing a new order, payload: {'order': market order of | 1 SPY buy | new}\n",
      "2024-12-10 16:04:45,486: INFO: [HumblChannelSingleLong] Getting historical prices for SPY, 1 bars, \n",
      "2024-12-10 16:04:45,488: INFO: [HumblChannelSingleLong] Processing trade event. Trade event received for HumblChannelSingleLong strategy: fill SPY, processed by broker backtesting\n",
      "2024-12-10 16:04:45,489: INFO: [HumblChannelSingleLong] \u001b[32mOrder was filled: market order of | 1 SPY buy | @ $113.97 fill\u001b[0m\n",
      "2024-12-10 16:04:45,491: INFO: [HumblChannelSingleLong] Processing a filled order, payload: {'position': HumblChannelSingleLong Position: 33.0 shares of SPY (47 orders), 'order': market order of | 1 SPY buy | @ $113.97 fill, 'price': 113.97000122070312, 'quantity': 1.0, 'multiplier': 1}\n"
     ]
    },
    {
     "name": "stdout",
     "output_type": "stream",
     "text": [
      "Progress |\u001b[32m\u001b[0m|   0.23%  [Elapsed: 0:12:04 ETA: 3 days, 16:25:08] Portfolio Val: 100,030.94"
     ]
    },
    {
     "name": "stderr",
     "output_type": "stream",
     "text": [
      "2024-12-10 16:04:45,492: INFO: Current backtesting datetime 2010-01-12 14:30:00-05:00\n",
      "2024-12-10 16:04:45,496: INFO: [HumblChannelSingleLong] Processing trade event. Trade event received for HumblChannelSingleLong strategy: new SPY, processed by broker backtesting\n",
      "2024-12-10 16:04:45,497: INFO: [HumblChannelSingleLong] \u001b[32mNew order was created: market order of | 1 SPY buy | new\u001b[0m\n",
      "2024-12-10 16:04:45,500: INFO: [HumblChannelSingleLong] Processing a new order, payload: {'order': market order of | 1 SPY buy | new}\n",
      "2024-12-10 16:04:45,501: INFO: [HumblChannelSingleLong] Getting historical prices for SPY, 1 bars, \n",
      "2024-12-10 16:04:45,503: INFO: [HumblChannelSingleLong] Processing trade event. Trade event received for HumblChannelSingleLong strategy: fill SPY, processed by broker backtesting\n",
      "2024-12-10 16:04:45,503: INFO: [HumblChannelSingleLong] \u001b[32mOrder was filled: market order of | 1 SPY buy | @ $113.97 fill\u001b[0m\n",
      "2024-12-10 16:04:45,505: INFO: [HumblChannelSingleLong] Processing a filled order, payload: {'position': HumblChannelSingleLong Position: 34.0 shares of SPY (48 orders), 'order': market order of | 1 SPY buy | @ $113.97 fill, 'price': 113.97000122070312, 'quantity': 1.0, 'multiplier': 1}\n"
     ]
    },
    {
     "name": "stdout",
     "output_type": "stream",
     "text": [
      "Progress |\u001b[32m\u001b[0m|   0.23%  [Elapsed: 0:12:04 ETA: 3 days, 16:06:13] Portfolio Val: 100,030.94"
     ]
    },
    {
     "name": "stderr",
     "output_type": "stream",
     "text": [
      "2024-12-10 16:04:45,506: INFO: Current backtesting datetime 2010-01-12 15:30:00-05:00\n",
      "2024-12-10 16:04:45,510: INFO: [HumblChannelSingleLong] Processing trade event. Trade event received for HumblChannelSingleLong strategy: new SPY, processed by broker backtesting\n",
      "2024-12-10 16:04:45,511: INFO: [HumblChannelSingleLong] \u001b[32mNew order was created: market order of | 1 SPY buy | new\u001b[0m\n",
      "2024-12-10 16:04:45,514: INFO: [HumblChannelSingleLong] Processing a new order, payload: {'order': market order of | 1 SPY buy | new}\n",
      "2024-12-10 16:04:45,514: INFO: [HumblChannelSingleLong] Getting historical prices for SPY, 1 bars, \n",
      "2024-12-10 16:04:45,516: INFO: [HumblChannelSingleLong] Processing trade event. Trade event received for HumblChannelSingleLong strategy: fill SPY, processed by broker backtesting\n",
      "2024-12-10 16:04:45,517: INFO: [HumblChannelSingleLong] \u001b[32mOrder was filled: market order of | 1 SPY buy | @ $113.97 fill\u001b[0m\n",
      "2024-12-10 16:04:45,519: INFO: [HumblChannelSingleLong] Processing a filled order, payload: {'position': HumblChannelSingleLong Position: 35.0 shares of SPY (49 orders), 'order': market order of | 1 SPY buy | @ $113.97 fill, 'price': 113.97000122070312, 'quantity': 1.0, 'multiplier': 1}\n"
     ]
    },
    {
     "name": "stdout",
     "output_type": "stream",
     "text": [
      "Progress |\u001b[32m\u001b[0m|   0.23%  [Elapsed: 0:12:04 ETA: 3 days, 15:56:51] Portfolio Val: 100,030.94"
     ]
    },
    {
     "name": "stderr",
     "output_type": "stream",
     "text": [
      "2024-12-10 16:04:45,520: INFO: Current backtesting datetime 2010-01-12 16:00:00-05:00\n"
     ]
    },
    {
     "name": "stdout",
     "output_type": "stream",
     "text": [
      "Progress |\u001b[32m\u001b[0m|   0.23%  [Elapsed: 0:12:04 ETA: 3 days, 15:47:26] Portfolio Val: 100,030.94"
     ]
    },
    {
     "name": "stderr",
     "output_type": "stream",
     "text": [
      "2024-12-10 16:04:45,520: INFO: Current backtesting datetime 2010-01-12 16:30:00-05:00\n"
     ]
    },
    {
     "name": "stdout",
     "output_type": "stream",
     "text": [
      "Progress |\u001b[32m\u001b[0m|   0.23%  [Elapsed: 0:12:04 ETA: 3 days, 15:49:01] "
     ]
    },
    {
     "name": "stderr",
     "output_type": "stream",
     "text": [
      "2024-12-10 16:04:45,523: INFO: Current backtesting datetime 2010-01-12 16:25:00-05:00\n"
     ]
    },
    {
     "name": "stdout",
     "output_type": "stream",
     "text": [
      "Progress |\u001b[32m\u001b[0m|   0.23%  [Elapsed: 0:12:04 ETA: 3 days, 15:49:02] "
     ]
    },
    {
     "name": "stderr",
     "output_type": "stream",
     "text": [
      "2024-12-10 16:04:45,523: INFO: Current backtesting datetime 2010-01-12 16:25:00-05:00\n"
     ]
    },
    {
     "name": "stdout",
     "output_type": "stream",
     "text": [
      "Progress |\u001b[32m\u001b[0m|   0.24%  [Elapsed: 0:12:04 ETA: 3 days, 11:02:34] "
     ]
    },
    {
     "name": "stderr",
     "output_type": "stream",
     "text": [
      "2024-12-10 16:04:45,526: INFO: Current backtesting datetime 2010-01-13 08:30:00-05:00\n"
     ]
    },
    {
     "name": "stdout",
     "output_type": "stream",
     "text": [
      "Progress |\u001b[32m\u001b[0m|   0.24%  [Elapsed: 0:12:04 ETA: 3 days, 10:47:08] "
     ]
    },
    {
     "name": "stderr",
     "output_type": "stream",
     "text": [
      "2024-12-10 16:04:45,722: INFO: Current backtesting datetime 2010-01-13 09:30:00-05:00\n",
      "2024-12-10 16:04:45,727: INFO: [HumblChannelSingleLong] Processing trade event. Trade event received for HumblChannelSingleLong strategy: new SPY, processed by broker backtesting\n",
      "2024-12-10 16:04:45,727: INFO: [HumblChannelSingleLong] \u001b[32mNew order was created: market order of | 1 SPY buy | new\u001b[0m\n",
      "2024-12-10 16:04:45,730: INFO: [HumblChannelSingleLong] Processing a new order, payload: {'order': market order of | 1 SPY buy | new}\n",
      "2024-12-10 16:04:45,731: INFO: [HumblChannelSingleLong] Getting historical prices for SPY, 1 bars, \n",
      "2024-12-10 16:04:45,732: INFO: [HumblChannelSingleLong] Processing trade event. Trade event received for HumblChannelSingleLong strategy: fill SPY, processed by broker backtesting\n",
      "2024-12-10 16:04:45,733: INFO: [HumblChannelSingleLong] \u001b[32mOrder was filled: market order of | 1 SPY buy | @ $113.95 fill\u001b[0m\n",
      "2024-12-10 16:04:45,735: INFO: [HumblChannelSingleLong] Processing a filled order, payload: {'position': HumblChannelSingleLong Position: 36.0 shares of SPY (50 orders), 'order': market order of | 1 SPY buy | @ $113.95 fill, 'price': 113.94999694824219, 'quantity': 1.0, 'multiplier': 1}\n"
     ]
    },
    {
     "name": "stdout",
     "output_type": "stream",
     "text": [
      "Progress |\u001b[32m\u001b[0m|   0.24%  [Elapsed: 0:12:04 ETA: 3 days, 10:30:33] Portfolio Val: 100,030.24"
     ]
    },
    {
     "name": "stderr",
     "output_type": "stream",
     "text": [
      "2024-12-10 16:04:45,735: INFO: Current backtesting datetime 2010-01-13 10:30:00-05:00\n",
      "2024-12-10 16:04:45,740: INFO: [HumblChannelSingleLong] Processing trade event. Trade event received for HumblChannelSingleLong strategy: new SPY, processed by broker backtesting\n",
      "2024-12-10 16:04:45,740: INFO: [HumblChannelSingleLong] \u001b[32mNew order was created: market order of | 1 SPY buy | new\u001b[0m\n",
      "2024-12-10 16:04:45,743: INFO: [HumblChannelSingleLong] Processing a new order, payload: {'order': market order of | 1 SPY buy | new}\n",
      "2024-12-10 16:04:45,743: INFO: [HumblChannelSingleLong] Getting historical prices for SPY, 1 bars, \n",
      "2024-12-10 16:04:45,745: INFO: [HumblChannelSingleLong] Processing trade event. Trade event received for HumblChannelSingleLong strategy: fill SPY, processed by broker backtesting\n",
      "2024-12-10 16:04:45,745: INFO: [HumblChannelSingleLong] \u001b[32mOrder was filled: market order of | 1 SPY buy | @ $113.95 fill\u001b[0m\n",
      "2024-12-10 16:04:45,747: INFO: [HumblChannelSingleLong] Processing a filled order, payload: {'position': HumblChannelSingleLong Position: 37.0 shares of SPY (51 orders), 'order': market order of | 1 SPY buy | @ $113.95 fill, 'price': 113.94999694824219, 'quantity': 1.0, 'multiplier': 1}\n"
     ]
    },
    {
     "name": "stdout",
     "output_type": "stream",
     "text": [
      "Progress |\u001b[32m\u001b[0m|   0.24%  [Elapsed: 0:12:04 ETA: 3 days, 10:14:03] Portfolio Val: 100,030.24"
     ]
    },
    {
     "name": "stderr",
     "output_type": "stream",
     "text": [
      "2024-12-10 16:04:45,748: INFO: Current backtesting datetime 2010-01-13 11:30:00-05:00\n",
      "2024-12-10 16:04:45,752: INFO: [HumblChannelSingleLong] Processing trade event. Trade event received for HumblChannelSingleLong strategy: new SPY, processed by broker backtesting\n",
      "2024-12-10 16:04:45,752: INFO: [HumblChannelSingleLong] \u001b[32mNew order was created: market order of | 1 SPY buy | new\u001b[0m\n",
      "2024-12-10 16:04:45,755: INFO: [HumblChannelSingleLong] Processing a new order, payload: {'order': market order of | 1 SPY buy | new}\n",
      "2024-12-10 16:04:45,756: INFO: [HumblChannelSingleLong] Getting historical prices for SPY, 1 bars, \n",
      "2024-12-10 16:04:45,758: INFO: [HumblChannelSingleLong] Processing trade event. Trade event received for HumblChannelSingleLong strategy: fill SPY, processed by broker backtesting\n",
      "2024-12-10 16:04:45,758: INFO: [HumblChannelSingleLong] \u001b[32mOrder was filled: market order of | 1 SPY buy | @ $113.95 fill\u001b[0m\n",
      "2024-12-10 16:04:45,760: INFO: [HumblChannelSingleLong] Processing a filled order, payload: {'position': HumblChannelSingleLong Position: 38.0 shares of SPY (52 orders), 'order': market order of | 1 SPY buy | @ $113.95 fill, 'price': 113.94999694824219, 'quantity': 1.0, 'multiplier': 1}\n"
     ]
    },
    {
     "name": "stdout",
     "output_type": "stream",
     "text": [
      "Progress |\u001b[32m\u001b[0m|   0.24%  [Elapsed: 0:12:04 ETA: 3 days, 9:57:41] Portfolio Val: 100,030.24"
     ]
    },
    {
     "name": "stderr",
     "output_type": "stream",
     "text": [
      "2024-12-10 16:04:45,761: INFO: Current backtesting datetime 2010-01-13 12:30:00-05:00\n",
      "2024-12-10 16:04:45,765: INFO: [HumblChannelSingleLong] Processing trade event. Trade event received for HumblChannelSingleLong strategy: new SPY, processed by broker backtesting\n",
      "2024-12-10 16:04:45,765: INFO: [HumblChannelSingleLong] \u001b[32mNew order was created: market order of | 1 SPY buy | new\u001b[0m\n",
      "2024-12-10 16:04:45,768: INFO: [HumblChannelSingleLong] Processing a new order, payload: {'order': market order of | 1 SPY buy | new}\n",
      "2024-12-10 16:04:45,768: INFO: [HumblChannelSingleLong] Getting historical prices for SPY, 1 bars, \n",
      "2024-12-10 16:04:45,770: INFO: [HumblChannelSingleLong] Processing trade event. Trade event received for HumblChannelSingleLong strategy: fill SPY, processed by broker backtesting\n",
      "2024-12-10 16:04:45,770: INFO: [HumblChannelSingleLong] \u001b[32mOrder was filled: market order of | 1 SPY buy | @ $113.95 fill\u001b[0m\n",
      "2024-12-10 16:04:45,772: INFO: [HumblChannelSingleLong] Processing a filled order, payload: {'position': HumblChannelSingleLong Position: 39.0 shares of SPY (53 orders), 'order': market order of | 1 SPY buy | @ $113.95 fill, 'price': 113.94999694824219, 'quantity': 1.0, 'multiplier': 1}\n"
     ]
    },
    {
     "name": "stdout",
     "output_type": "stream",
     "text": [
      "Progress |\u001b[32m\u001b[0m|   0.25%  [Elapsed: 0:12:04 ETA: 3 days, 9:41:25] Portfolio Val: 100,030.24"
     ]
    },
    {
     "name": "stderr",
     "output_type": "stream",
     "text": [
      "2024-12-10 16:04:45,773: INFO: Current backtesting datetime 2010-01-13 13:30:00-05:00\n",
      "2024-12-10 16:04:45,777: INFO: [HumblChannelSingleLong] Processing trade event. Trade event received for HumblChannelSingleLong strategy: new SPY, processed by broker backtesting\n",
      "2024-12-10 16:04:45,778: INFO: [HumblChannelSingleLong] \u001b[32mNew order was created: market order of | 1 SPY buy | new\u001b[0m\n",
      "2024-12-10 16:04:45,780: INFO: [HumblChannelSingleLong] Processing a new order, payload: {'order': market order of | 1 SPY buy | new}\n",
      "2024-12-10 16:04:45,781: INFO: [HumblChannelSingleLong] Getting historical prices for SPY, 1 bars, \n",
      "2024-12-10 16:04:45,783: INFO: [HumblChannelSingleLong] Processing trade event. Trade event received for HumblChannelSingleLong strategy: fill SPY, processed by broker backtesting\n",
      "2024-12-10 16:04:45,783: INFO: [HumblChannelSingleLong] \u001b[32mOrder was filled: market order of | 1 SPY buy | @ $113.95 fill\u001b[0m\n",
      "2024-12-10 16:04:45,785: INFO: [HumblChannelSingleLong] Processing a filled order, payload: {'position': HumblChannelSingleLong Position: 40.0 shares of SPY (54 orders), 'order': market order of | 1 SPY buy | @ $113.95 fill, 'price': 113.94999694824219, 'quantity': 1.0, 'multiplier': 1}\n"
     ]
    },
    {
     "name": "stdout",
     "output_type": "stream",
     "text": [
      "Progress |\u001b[32m\u001b[0m|   0.25%  [Elapsed: 0:12:04 ETA: 3 days, 9:25:16] Portfolio Val: 100,030.24"
     ]
    },
    {
     "name": "stderr",
     "output_type": "stream",
     "text": [
      "2024-12-10 16:04:45,785: INFO: Current backtesting datetime 2010-01-13 14:30:00-05:00\n",
      "2024-12-10 16:04:45,789: INFO: [HumblChannelSingleLong] Processing trade event. Trade event received for HumblChannelSingleLong strategy: new SPY, processed by broker backtesting\n",
      "2024-12-10 16:04:45,790: INFO: [HumblChannelSingleLong] \u001b[32mNew order was created: market order of | 1 SPY buy | new\u001b[0m\n",
      "2024-12-10 16:04:45,792: INFO: [HumblChannelSingleLong] Processing a new order, payload: {'order': market order of | 1 SPY buy | new}\n",
      "2024-12-10 16:04:45,793: INFO: [HumblChannelSingleLong] Getting historical prices for SPY, 1 bars, \n",
      "2024-12-10 16:04:45,794: INFO: [HumblChannelSingleLong] Processing trade event. Trade event received for HumblChannelSingleLong strategy: fill SPY, processed by broker backtesting\n",
      "2024-12-10 16:04:45,795: INFO: [HumblChannelSingleLong] \u001b[32mOrder was filled: market order of | 1 SPY buy | @ $113.95 fill\u001b[0m\n",
      "2024-12-10 16:04:45,797: INFO: [HumblChannelSingleLong] Processing a filled order, payload: {'position': HumblChannelSingleLong Position: 41.0 shares of SPY (55 orders), 'order': market order of | 1 SPY buy | @ $113.95 fill, 'price': 113.94999694824219, 'quantity': 1.0, 'multiplier': 1}\n"
     ]
    },
    {
     "name": "stdout",
     "output_type": "stream",
     "text": [
      "Progress |\u001b[32m\u001b[0m|   0.25%  [Elapsed: 0:12:04 ETA: 3 days, 9:09:12] Portfolio Val: 100,030.24"
     ]
    },
    {
     "name": "stderr",
     "output_type": "stream",
     "text": [
      "2024-12-10 16:04:45,797: INFO: Current backtesting datetime 2010-01-13 15:30:00-05:00\n",
      "2024-12-10 16:04:45,801: INFO: [HumblChannelSingleLong] Processing trade event. Trade event received for HumblChannelSingleLong strategy: new SPY, processed by broker backtesting\n",
      "2024-12-10 16:04:45,801: INFO: [HumblChannelSingleLong] \u001b[32mNew order was created: market order of | 1 SPY buy | new\u001b[0m\n",
      "2024-12-10 16:04:45,804: INFO: [HumblChannelSingleLong] Processing a new order, payload: {'order': market order of | 1 SPY buy | new}\n",
      "2024-12-10 16:04:45,804: INFO: [HumblChannelSingleLong] Getting historical prices for SPY, 1 bars, \n",
      "2024-12-10 16:04:45,806: INFO: [HumblChannelSingleLong] Processing trade event. Trade event received for HumblChannelSingleLong strategy: fill SPY, processed by broker backtesting\n",
      "2024-12-10 16:04:45,806: INFO: [HumblChannelSingleLong] \u001b[32mOrder was filled: market order of | 1 SPY buy | @ $113.95 fill\u001b[0m\n",
      "2024-12-10 16:04:45,808: INFO: [HumblChannelSingleLong] Processing a filled order, payload: {'position': HumblChannelSingleLong Position: 42.0 shares of SPY (56 orders), 'order': market order of | 1 SPY buy | @ $113.95 fill, 'price': 113.94999694824219, 'quantity': 1.0, 'multiplier': 1}\n"
     ]
    },
    {
     "name": "stdout",
     "output_type": "stream",
     "text": [
      "Progress |\u001b[32m\u001b[0m|   0.25%  [Elapsed: 0:12:04 ETA: 3 days, 9:01:15] Portfolio Val: 100,030.24"
     ]
    },
    {
     "name": "stderr",
     "output_type": "stream",
     "text": [
      "2024-12-10 16:04:45,808: INFO: Current backtesting datetime 2010-01-13 16:00:00-05:00\n"
     ]
    },
    {
     "name": "stdout",
     "output_type": "stream",
     "text": [
      "Progress |\u001b[32m\u001b[0m|   0.25%  [Elapsed: 0:12:04 ETA: 3 days, 8:53:15] Portfolio Val: 100,030.24"
     ]
    },
    {
     "name": "stderr",
     "output_type": "stream",
     "text": [
      "2024-12-10 16:04:45,809: INFO: Current backtesting datetime 2010-01-13 16:30:00-05:00\n"
     ]
    },
    {
     "name": "stdout",
     "output_type": "stream",
     "text": [
      "Progress |\u001b[32m\u001b[0m|   0.25%  [Elapsed: 0:12:04 ETA: 3 days, 8:54:35] "
     ]
    },
    {
     "name": "stderr",
     "output_type": "stream",
     "text": [
      "2024-12-10 16:04:45,810: INFO: Current backtesting datetime 2010-01-13 16:25:00-05:00\n"
     ]
    },
    {
     "name": "stdout",
     "output_type": "stream",
     "text": [
      "Progress |\u001b[32m\u001b[0m|   0.25%  [Elapsed: 0:12:04 ETA: 3 days, 8:54:36] "
     ]
    },
    {
     "name": "stderr",
     "output_type": "stream",
     "text": [
      "2024-12-10 16:04:45,811: INFO: Current backtesting datetime 2010-01-13 16:25:00-05:00\n"
     ]
    },
    {
     "name": "stdout",
     "output_type": "stream",
     "text": [
      "Progress |\u001b[32m\u001b[0m|   0.26%  [Elapsed: 0:12:04 ETA: 3 days, 4:50:23] "
     ]
    },
    {
     "name": "stderr",
     "output_type": "stream",
     "text": [
      "2024-12-10 16:04:45,813: INFO: Current backtesting datetime 2010-01-14 08:30:00-05:00\n"
     ]
    },
    {
     "name": "stdout",
     "output_type": "stream",
     "text": [
      "Progress |\u001b[32m\u001b[0m|   0.26%  [Elapsed: 0:12:04 ETA: 3 days, 4:37:15] "
     ]
    },
    {
     "name": "stderr",
     "output_type": "stream",
     "text": [
      "2024-12-10 16:04:46,008: INFO: Current backtesting datetime 2010-01-14 09:30:00-05:00\n",
      "2024-12-10 16:04:46,012: INFO: [HumblChannelSingleLong] Processing trade event. Trade event received for HumblChannelSingleLong strategy: new SPY, processed by broker backtesting\n",
      "2024-12-10 16:04:46,013: INFO: [HumblChannelSingleLong] \u001b[32mNew order was created: market order of | 1 SPY buy | new\u001b[0m\n",
      "2024-12-10 16:04:46,015: INFO: [HumblChannelSingleLong] Processing a new order, payload: {'order': market order of | 1 SPY buy | new}\n",
      "2024-12-10 16:04:46,016: INFO: [HumblChannelSingleLong] Getting historical prices for SPY, 1 bars, \n",
      "2024-12-10 16:04:46,017: INFO: [HumblChannelSingleLong] Processing trade event. Trade event received for HumblChannelSingleLong strategy: fill SPY, processed by broker backtesting\n",
      "2024-12-10 16:04:46,018: INFO: [HumblChannelSingleLong] \u001b[32mOrder was filled: market order of | 1 SPY buy | @ $114.49 fill\u001b[0m\n",
      "2024-12-10 16:04:46,019: INFO: [HumblChannelSingleLong] Processing a filled order, payload: {'position': HumblChannelSingleLong Position: 43.0 shares of SPY (57 orders), 'order': market order of | 1 SPY buy | @ $114.49 fill, 'price': 114.48999786376953, 'quantity': 1.0, 'multiplier': 1}\n"
     ]
    },
    {
     "name": "stdout",
     "output_type": "stream",
     "text": [
      "Progress |\u001b[32m\u001b[0m|   0.26%  [Elapsed: 0:12:04 ETA: 3 days, 4:23:02] Portfolio Val: 100,052.92"
     ]
    },
    {
     "name": "stderr",
     "output_type": "stream",
     "text": [
      "2024-12-10 16:04:46,020: INFO: Current backtesting datetime 2010-01-14 10:30:00-05:00\n",
      "2024-12-10 16:04:46,024: INFO: [HumblChannelSingleLong] Processing trade event. Trade event received for HumblChannelSingleLong strategy: new SPY, processed by broker backtesting\n",
      "2024-12-10 16:04:46,024: INFO: [HumblChannelSingleLong] \u001b[32mNew order was created: market order of | 1 SPY buy | new\u001b[0m\n",
      "2024-12-10 16:04:46,027: INFO: [HumblChannelSingleLong] Processing a new order, payload: {'order': market order of | 1 SPY buy | new}\n",
      "2024-12-10 16:04:46,027: INFO: [HumblChannelSingleLong] Getting historical prices for SPY, 1 bars, \n",
      "2024-12-10 16:04:46,029: INFO: [HumblChannelSingleLong] Processing trade event. Trade event received for HumblChannelSingleLong strategy: fill SPY, processed by broker backtesting\n",
      "2024-12-10 16:04:46,029: INFO: [HumblChannelSingleLong] \u001b[32mOrder was filled: market order of | 1 SPY buy | @ $114.49 fill\u001b[0m\n",
      "2024-12-10 16:04:46,031: INFO: [HumblChannelSingleLong] Processing a filled order, payload: {'position': HumblChannelSingleLong Position: 44.0 shares of SPY (58 orders), 'order': market order of | 1 SPY buy | @ $114.49 fill, 'price': 114.48999786376953, 'quantity': 1.0, 'multiplier': 1}\n"
     ]
    },
    {
     "name": "stdout",
     "output_type": "stream",
     "text": [
      "Progress |\u001b[32m\u001b[0m|   0.26%  [Elapsed: 0:12:04 ETA: 3 days, 4:08:54] Portfolio Val: 100,052.92"
     ]
    },
    {
     "name": "stderr",
     "output_type": "stream",
     "text": [
      "2024-12-10 16:04:46,032: INFO: Current backtesting datetime 2010-01-14 11:30:00-05:00\n",
      "2024-12-10 16:04:46,036: INFO: [HumblChannelSingleLong] Processing trade event. Trade event received for HumblChannelSingleLong strategy: new SPY, processed by broker backtesting\n",
      "2024-12-10 16:04:46,036: INFO: [HumblChannelSingleLong] \u001b[32mNew order was created: market order of | 1 SPY buy | new\u001b[0m\n",
      "2024-12-10 16:04:46,039: INFO: [HumblChannelSingleLong] Processing a new order, payload: {'order': market order of | 1 SPY buy | new}\n",
      "2024-12-10 16:04:46,039: INFO: [HumblChannelSingleLong] Getting historical prices for SPY, 1 bars, \n",
      "2024-12-10 16:04:46,041: INFO: [HumblChannelSingleLong] Processing trade event. Trade event received for HumblChannelSingleLong strategy: fill SPY, processed by broker backtesting\n",
      "2024-12-10 16:04:46,041: INFO: [HumblChannelSingleLong] \u001b[32mOrder was filled: market order of | 1 SPY buy | @ $114.49 fill\u001b[0m\n",
      "2024-12-10 16:04:46,043: INFO: [HumblChannelSingleLong] Processing a filled order, payload: {'position': HumblChannelSingleLong Position: 45.0 shares of SPY (59 orders), 'order': market order of | 1 SPY buy | @ $114.49 fill, 'price': 114.48999786376953, 'quantity': 1.0, 'multiplier': 1}\n"
     ]
    },
    {
     "name": "stdout",
     "output_type": "stream",
     "text": [
      "Progress |\u001b[32m\u001b[0m|   0.26%  [Elapsed: 0:12:04 ETA: 3 days, 3:54:52] Portfolio Val: 100,052.92"
     ]
    },
    {
     "name": "stderr",
     "output_type": "stream",
     "text": [
      "2024-12-10 16:04:46,044: INFO: Current backtesting datetime 2010-01-14 12:30:00-05:00\n",
      "2024-12-10 16:04:46,047: INFO: [HumblChannelSingleLong] Processing trade event. Trade event received for HumblChannelSingleLong strategy: new SPY, processed by broker backtesting\n",
      "2024-12-10 16:04:46,048: INFO: [HumblChannelSingleLong] \u001b[32mNew order was created: market order of | 1 SPY buy | new\u001b[0m\n",
      "2024-12-10 16:04:46,050: INFO: [HumblChannelSingleLong] Processing a new order, payload: {'order': market order of | 1 SPY buy | new}\n",
      "2024-12-10 16:04:46,051: INFO: [HumblChannelSingleLong] Getting historical prices for SPY, 1 bars, \n",
      "2024-12-10 16:04:46,052: INFO: [HumblChannelSingleLong] Processing trade event. Trade event received for HumblChannelSingleLong strategy: fill SPY, processed by broker backtesting\n",
      "2024-12-10 16:04:46,053: INFO: [HumblChannelSingleLong] \u001b[32mOrder was filled: market order of | 1 SPY buy | @ $114.49 fill\u001b[0m\n",
      "2024-12-10 16:04:46,054: INFO: [HumblChannelSingleLong] Processing a filled order, payload: {'position': HumblChannelSingleLong Position: 46.0 shares of SPY (60 orders), 'order': market order of | 1 SPY buy | @ $114.49 fill, 'price': 114.48999786376953, 'quantity': 1.0, 'multiplier': 1}\n"
     ]
    },
    {
     "name": "stdout",
     "output_type": "stream",
     "text": [
      "Progress |\u001b[32m\u001b[0m|   0.27%  [Elapsed: 0:12:04 ETA: 3 days, 3:40:54] Portfolio Val: 100,052.92"
     ]
    },
    {
     "name": "stderr",
     "output_type": "stream",
     "text": [
      "2024-12-10 16:04:46,055: INFO: Current backtesting datetime 2010-01-14 13:30:00-05:00\n",
      "2024-12-10 16:04:46,059: INFO: [HumblChannelSingleLong] Processing trade event. Trade event received for HumblChannelSingleLong strategy: new SPY, processed by broker backtesting\n",
      "2024-12-10 16:04:46,059: INFO: [HumblChannelSingleLong] \u001b[32mNew order was created: market order of | 1 SPY buy | new\u001b[0m\n",
      "2024-12-10 16:04:46,062: INFO: [HumblChannelSingleLong] Processing a new order, payload: {'order': market order of | 1 SPY buy | new}\n",
      "2024-12-10 16:04:46,062: INFO: [HumblChannelSingleLong] Getting historical prices for SPY, 1 bars, \n",
      "2024-12-10 16:04:46,065: INFO: [HumblChannelSingleLong] Processing trade event. Trade event received for HumblChannelSingleLong strategy: fill SPY, processed by broker backtesting\n",
      "2024-12-10 16:04:46,065: INFO: [HumblChannelSingleLong] \u001b[32mOrder was filled: market order of | 1 SPY buy | @ $114.49 fill\u001b[0m\n",
      "2024-12-10 16:04:46,067: INFO: [HumblChannelSingleLong] Processing a filled order, payload: {'position': HumblChannelSingleLong Position: 47.0 shares of SPY (61 orders), 'order': market order of | 1 SPY buy | @ $114.49 fill, 'price': 114.48999786376953, 'quantity': 1.0, 'multiplier': 1}\n"
     ]
    },
    {
     "name": "stdout",
     "output_type": "stream",
     "text": [
      "Progress |\u001b[32m\u001b[0m|   0.27%  [Elapsed: 0:12:04 ETA: 3 days, 3:27:02] Portfolio Val: 100,052.92"
     ]
    },
    {
     "name": "stderr",
     "output_type": "stream",
     "text": [
      "2024-12-10 16:04:46,068: INFO: Current backtesting datetime 2010-01-14 14:30:00-05:00\n",
      "2024-12-10 16:04:46,072: INFO: [HumblChannelSingleLong] Processing trade event. Trade event received for HumblChannelSingleLong strategy: new SPY, processed by broker backtesting\n",
      "2024-12-10 16:04:46,073: INFO: [HumblChannelSingleLong] \u001b[32mNew order was created: market order of | 1 SPY buy | new\u001b[0m\n",
      "2024-12-10 16:04:46,075: INFO: [HumblChannelSingleLong] Processing a new order, payload: {'order': market order of | 1 SPY buy | new}\n",
      "2024-12-10 16:04:46,075: INFO: [HumblChannelSingleLong] Getting historical prices for SPY, 1 bars, \n",
      "2024-12-10 16:04:46,077: INFO: [HumblChannelSingleLong] Processing trade event. Trade event received for HumblChannelSingleLong strategy: fill SPY, processed by broker backtesting\n",
      "2024-12-10 16:04:46,077: INFO: [HumblChannelSingleLong] \u001b[32mOrder was filled: market order of | 1 SPY buy | @ $114.49 fill\u001b[0m\n",
      "2024-12-10 16:04:46,079: INFO: [HumblChannelSingleLong] Processing a filled order, payload: {'position': HumblChannelSingleLong Position: 48.0 shares of SPY (62 orders), 'order': market order of | 1 SPY buy | @ $114.49 fill, 'price': 114.48999786376953, 'quantity': 1.0, 'multiplier': 1}\n"
     ]
    },
    {
     "name": "stdout",
     "output_type": "stream",
     "text": [
      "Progress |\u001b[32m\u001b[0m|   0.27%  [Elapsed: 0:12:04 ETA: 3 days, 3:13:15] Portfolio Val: 100,052.92"
     ]
    },
    {
     "name": "stderr",
     "output_type": "stream",
     "text": [
      "2024-12-10 16:04:46,080: INFO: Current backtesting datetime 2010-01-14 15:30:00-05:00\n",
      "2024-12-10 16:04:46,084: INFO: [HumblChannelSingleLong] Processing trade event. Trade event received for HumblChannelSingleLong strategy: new SPY, processed by broker backtesting\n",
      "2024-12-10 16:04:46,084: INFO: [HumblChannelSingleLong] \u001b[32mNew order was created: market order of | 1 SPY buy | new\u001b[0m\n",
      "2024-12-10 16:04:46,086: INFO: [HumblChannelSingleLong] Processing a new order, payload: {'order': market order of | 1 SPY buy | new}\n",
      "2024-12-10 16:04:46,087: INFO: [HumblChannelSingleLong] Getting historical prices for SPY, 1 bars, \n",
      "2024-12-10 16:04:46,088: INFO: [HumblChannelSingleLong] Processing trade event. Trade event received for HumblChannelSingleLong strategy: fill SPY, processed by broker backtesting\n",
      "2024-12-10 16:04:46,089: INFO: [HumblChannelSingleLong] \u001b[32mOrder was filled: market order of | 1 SPY buy | @ $114.49 fill\u001b[0m\n",
      "2024-12-10 16:04:46,091: INFO: [HumblChannelSingleLong] Processing a filled order, payload: {'position': HumblChannelSingleLong Position: 49.0 shares of SPY (63 orders), 'order': market order of | 1 SPY buy | @ $114.49 fill, 'price': 114.48999786376953, 'quantity': 1.0, 'multiplier': 1}\n"
     ]
    },
    {
     "name": "stdout",
     "output_type": "stream",
     "text": [
      "Progress |\u001b[32m\u001b[0m|   0.27%  [Elapsed: 0:12:04 ETA: 3 days, 3:06:25] Portfolio Val: 100,052.92"
     ]
    },
    {
     "name": "stderr",
     "output_type": "stream",
     "text": [
      "2024-12-10 16:04:46,091: INFO: Current backtesting datetime 2010-01-14 16:00:00-05:00\n"
     ]
    },
    {
     "name": "stdout",
     "output_type": "stream",
     "text": [
      "Progress |\u001b[32m\u001b[0m|   0.27%  [Elapsed: 0:12:04 ETA: 3 days, 2:59:33] Portfolio Val: 100,052.92"
     ]
    },
    {
     "name": "stderr",
     "output_type": "stream",
     "text": [
      "2024-12-10 16:04:46,091: INFO: Current backtesting datetime 2010-01-14 16:30:00-05:00\n"
     ]
    },
    {
     "name": "stdout",
     "output_type": "stream",
     "text": [
      "Progress |\u001b[32m\u001b[0m|   0.27%  [Elapsed: 0:12:04 ETA: 3 days, 3:00:42] "
     ]
    },
    {
     "name": "stderr",
     "output_type": "stream",
     "text": [
      "2024-12-10 16:04:46,093: INFO: Current backtesting datetime 2010-01-14 16:25:00-05:00\n"
     ]
    },
    {
     "name": "stdout",
     "output_type": "stream",
     "text": [
      "Progress |\u001b[32m\u001b[0m|   0.27%  [Elapsed: 0:12:04 ETA: 3 days, 3:00:42] "
     ]
    },
    {
     "name": "stderr",
     "output_type": "stream",
     "text": [
      "2024-12-10 16:04:46,093: INFO: Current backtesting datetime 2010-01-14 16:25:00-05:00\n"
     ]
    },
    {
     "name": "stdout",
     "output_type": "stream",
     "text": [
      "Progress |\u001b[32m\u001b[0m|   0.28%  [Elapsed: 0:12:04 ETA: 2 days, 23:30:02] "
     ]
    },
    {
     "name": "stderr",
     "output_type": "stream",
     "text": [
      "2024-12-10 16:04:46,095: INFO: Current backtesting datetime 2010-01-15 08:30:00-05:00\n"
     ]
    },
    {
     "name": "stdout",
     "output_type": "stream",
     "text": [
      "Progress |\u001b[32m\u001b[0m|   0.28%  [Elapsed: 0:12:05 ETA: 2 days, 23:19:47] "
     ]
    },
    {
     "name": "stderr",
     "output_type": "stream",
     "text": [
      "2024-12-10 16:04:46,469: INFO: Current backtesting datetime 2010-01-15 09:30:00-05:00\n",
      "2024-12-10 16:04:46,474: INFO: [HumblChannelSingleLong] Processing trade event. Trade event received for HumblChannelSingleLong strategy: new SPY, processed by broker backtesting\n",
      "2024-12-10 16:04:46,474: INFO: [HumblChannelSingleLong] \u001b[32mNew order was created: market order of | 1 SPY buy | new\u001b[0m\n",
      "2024-12-10 16:04:46,476: INFO: [HumblChannelSingleLong] Processing a new order, payload: {'order': market order of | 1 SPY buy | new}\n",
      "2024-12-10 16:04:46,477: INFO: [HumblChannelSingleLong] Getting historical prices for SPY, 1 bars, \n",
      "2024-12-10 16:04:46,479: INFO: [HumblChannelSingleLong] Processing trade event. Trade event received for HumblChannelSingleLong strategy: fill SPY, processed by broker backtesting\n",
      "2024-12-10 16:04:46,479: INFO: [HumblChannelSingleLong] \u001b[32mOrder was filled: market order of | 1 SPY buy | @ $114.73 fill\u001b[0m\n",
      "2024-12-10 16:04:46,481: INFO: [HumblChannelSingleLong] Processing a filled order, payload: {'position': HumblChannelSingleLong Position: 50.0 shares of SPY (64 orders), 'order': market order of | 1 SPY buy | @ $114.73 fill, 'price': 114.7300033569336, 'quantity': 1.0, 'multiplier': 1}\n"
     ]
    },
    {
     "name": "stdout",
     "output_type": "stream",
     "text": [
      "Progress |\u001b[32m\u001b[0m|   0.28%  [Elapsed: 0:12:05 ETA: 2 days, 23:07:29] Portfolio Val: 100,064.68"
     ]
    },
    {
     "name": "stderr",
     "output_type": "stream",
     "text": [
      "2024-12-10 16:04:46,482: INFO: Current backtesting datetime 2010-01-15 10:30:00-05:00\n",
      "2024-12-10 16:04:46,487: INFO: [HumblChannelSingleLong] Processing trade event. Trade event received for HumblChannelSingleLong strategy: new SPY, processed by broker backtesting\n",
      "2024-12-10 16:04:46,487: INFO: [HumblChannelSingleLong] \u001b[32mNew order was created: market order of | 1 SPY buy | new\u001b[0m\n",
      "2024-12-10 16:04:46,490: INFO: [HumblChannelSingleLong] Processing a new order, payload: {'order': market order of | 1 SPY buy | new}\n",
      "2024-12-10 16:04:46,491: INFO: [HumblChannelSingleLong] Getting historical prices for SPY, 1 bars, \n",
      "2024-12-10 16:04:46,493: INFO: [HumblChannelSingleLong] Processing trade event. Trade event received for HumblChannelSingleLong strategy: fill SPY, processed by broker backtesting\n",
      "2024-12-10 16:04:46,493: INFO: [HumblChannelSingleLong] \u001b[32mOrder was filled: market order of | 1 SPY buy | @ $114.73 fill\u001b[0m\n",
      "2024-12-10 16:04:46,496: INFO: [HumblChannelSingleLong] Processing a filled order, payload: {'position': HumblChannelSingleLong Position: 51.0 shares of SPY (65 orders), 'order': market order of | 1 SPY buy | @ $114.73 fill, 'price': 114.7300033569336, 'quantity': 1.0, 'multiplier': 1}\n"
     ]
    },
    {
     "name": "stdout",
     "output_type": "stream",
     "text": [
      "Progress |\u001b[32m\u001b[0m|   0.28%  [Elapsed: 0:12:05 ETA: 2 days, 22:55:15] Portfolio Val: 100,064.68"
     ]
    },
    {
     "name": "stderr",
     "output_type": "stream",
     "text": [
      "2024-12-10 16:04:46,496: INFO: Current backtesting datetime 2010-01-15 11:30:00-05:00\n",
      "2024-12-10 16:04:46,500: INFO: [HumblChannelSingleLong] Processing trade event. Trade event received for HumblChannelSingleLong strategy: new SPY, processed by broker backtesting\n",
      "2024-12-10 16:04:46,501: INFO: [HumblChannelSingleLong] \u001b[32mNew order was created: market order of | 1 SPY buy | new\u001b[0m\n",
      "2024-12-10 16:04:46,503: INFO: [HumblChannelSingleLong] Processing a new order, payload: {'order': market order of | 1 SPY buy | new}\n",
      "2024-12-10 16:04:46,504: INFO: [HumblChannelSingleLong] Getting historical prices for SPY, 1 bars, \n",
      "2024-12-10 16:04:46,506: INFO: [HumblChannelSingleLong] Processing trade event. Trade event received for HumblChannelSingleLong strategy: fill SPY, processed by broker backtesting\n",
      "2024-12-10 16:04:46,506: INFO: [HumblChannelSingleLong] \u001b[32mOrder was filled: market order of | 1 SPY buy | @ $114.73 fill\u001b[0m\n",
      "2024-12-10 16:04:46,508: INFO: [HumblChannelSingleLong] Processing a filled order, payload: {'position': HumblChannelSingleLong Position: 52.0 shares of SPY (66 orders), 'order': market order of | 1 SPY buy | @ $114.73 fill, 'price': 114.7300033569336, 'quantity': 1.0, 'multiplier': 1}\n"
     ]
    },
    {
     "name": "stdout",
     "output_type": "stream",
     "text": [
      "Progress |\u001b[32m\u001b[0m|   0.28%  [Elapsed: 0:12:05 ETA: 2 days, 22:43:04] Portfolio Val: 100,064.68"
     ]
    },
    {
     "name": "stderr",
     "output_type": "stream",
     "text": [
      "2024-12-10 16:04:46,509: INFO: Current backtesting datetime 2010-01-15 12:30:00-05:00\n",
      "2024-12-10 16:04:46,513: INFO: [HumblChannelSingleLong] Processing trade event. Trade event received for HumblChannelSingleLong strategy: new SPY, processed by broker backtesting\n",
      "2024-12-10 16:04:46,513: INFO: [HumblChannelSingleLong] \u001b[32mNew order was created: market order of | 1 SPY buy | new\u001b[0m\n",
      "2024-12-10 16:04:46,516: INFO: [HumblChannelSingleLong] Processing a new order, payload: {'order': market order of | 1 SPY buy | new}\n",
      "2024-12-10 16:04:46,516: INFO: [HumblChannelSingleLong] Getting historical prices for SPY, 1 bars, \n",
      "2024-12-10 16:04:46,518: INFO: [HumblChannelSingleLong] Processing trade event. Trade event received for HumblChannelSingleLong strategy: fill SPY, processed by broker backtesting\n",
      "2024-12-10 16:04:46,518: INFO: [HumblChannelSingleLong] \u001b[32mOrder was filled: market order of | 1 SPY buy | @ $114.73 fill\u001b[0m\n",
      "2024-12-10 16:04:46,520: INFO: [HumblChannelSingleLong] Processing a filled order, payload: {'position': HumblChannelSingleLong Position: 53.0 shares of SPY (67 orders), 'order': market order of | 1 SPY buy | @ $114.73 fill, 'price': 114.7300033569336, 'quantity': 1.0, 'multiplier': 1}\n"
     ]
    },
    {
     "name": "stdout",
     "output_type": "stream",
     "text": [
      "Progress |\u001b[32m\u001b[0m|   0.28%  [Elapsed: 0:12:05 ETA: 2 days, 22:30:58] Portfolio Val: 100,064.68"
     ]
    },
    {
     "name": "stderr",
     "output_type": "stream",
     "text": [
      "2024-12-10 16:04:46,521: INFO: Current backtesting datetime 2010-01-15 13:30:00-05:00\n",
      "2024-12-10 16:04:46,525: INFO: [HumblChannelSingleLong] Processing trade event. Trade event received for HumblChannelSingleLong strategy: new SPY, processed by broker backtesting\n",
      "2024-12-10 16:04:46,525: INFO: [HumblChannelSingleLong] \u001b[32mNew order was created: market order of | 1 SPY buy | new\u001b[0m\n",
      "2024-12-10 16:04:46,528: INFO: [HumblChannelSingleLong] Processing a new order, payload: {'order': market order of | 1 SPY buy | new}\n",
      "2024-12-10 16:04:46,528: INFO: [HumblChannelSingleLong] Getting historical prices for SPY, 1 bars, \n",
      "2024-12-10 16:04:46,530: INFO: [HumblChannelSingleLong] Processing trade event. Trade event received for HumblChannelSingleLong strategy: fill SPY, processed by broker backtesting\n",
      "2024-12-10 16:04:46,530: INFO: [HumblChannelSingleLong] \u001b[32mOrder was filled: market order of | 1 SPY buy | @ $114.73 fill\u001b[0m\n",
      "2024-12-10 16:04:46,532: INFO: [HumblChannelSingleLong] Processing a filled order, payload: {'position': HumblChannelSingleLong Position: 54.0 shares of SPY (68 orders), 'order': market order of | 1 SPY buy | @ $114.73 fill, 'price': 114.7300033569336, 'quantity': 1.0, 'multiplier': 1}\n"
     ]
    },
    {
     "name": "stdout",
     "output_type": "stream",
     "text": [
      "Progress |\u001b[32m\u001b[0m|   0.29%  [Elapsed: 0:12:05 ETA: 2 days, 22:18:56] Portfolio Val: 100,064.68"
     ]
    },
    {
     "name": "stderr",
     "output_type": "stream",
     "text": [
      "2024-12-10 16:04:46,533: INFO: Current backtesting datetime 2010-01-15 14:30:00-05:00\n",
      "2024-12-10 16:04:46,537: INFO: [HumblChannelSingleLong] Processing trade event. Trade event received for HumblChannelSingleLong strategy: new SPY, processed by broker backtesting\n",
      "2024-12-10 16:04:46,537: INFO: [HumblChannelSingleLong] \u001b[32mNew order was created: market order of | 1 SPY buy | new\u001b[0m\n",
      "2024-12-10 16:04:46,540: INFO: [HumblChannelSingleLong] Processing a new order, payload: {'order': market order of | 1 SPY buy | new}\n",
      "2024-12-10 16:04:46,540: INFO: [HumblChannelSingleLong] Getting historical prices for SPY, 1 bars, \n",
      "2024-12-10 16:04:46,542: INFO: [HumblChannelSingleLong] Processing trade event. Trade event received for HumblChannelSingleLong strategy: fill SPY, processed by broker backtesting\n",
      "2024-12-10 16:04:46,542: INFO: [HumblChannelSingleLong] \u001b[32mOrder was filled: market order of | 1 SPY buy | @ $114.73 fill\u001b[0m\n",
      "2024-12-10 16:04:46,544: INFO: [HumblChannelSingleLong] Processing a filled order, payload: {'position': HumblChannelSingleLong Position: 55.0 shares of SPY (69 orders), 'order': market order of | 1 SPY buy | @ $114.73 fill, 'price': 114.7300033569336, 'quantity': 1.0, 'multiplier': 1}\n"
     ]
    },
    {
     "name": "stdout",
     "output_type": "stream",
     "text": [
      "Progress |\u001b[32m\u001b[0m|   0.29%  [Elapsed: 0:12:05 ETA: 2 days, 22:06:58] Portfolio Val: 100,064.68"
     ]
    },
    {
     "name": "stderr",
     "output_type": "stream",
     "text": [
      "2024-12-10 16:04:46,545: INFO: Current backtesting datetime 2010-01-15 15:30:00-05:00\n",
      "2024-12-10 16:04:46,549: INFO: [HumblChannelSingleLong] Processing trade event. Trade event received for HumblChannelSingleLong strategy: new SPY, processed by broker backtesting\n",
      "2024-12-10 16:04:46,549: INFO: [HumblChannelSingleLong] \u001b[32mNew order was created: market order of | 1 SPY buy | new\u001b[0m\n",
      "2024-12-10 16:04:46,552: INFO: [HumblChannelSingleLong] Processing a new order, payload: {'order': market order of | 1 SPY buy | new}\n",
      "2024-12-10 16:04:46,552: INFO: [HumblChannelSingleLong] Getting historical prices for SPY, 1 bars, \n",
      "2024-12-10 16:04:46,554: INFO: [HumblChannelSingleLong] Processing trade event. Trade event received for HumblChannelSingleLong strategy: fill SPY, processed by broker backtesting\n",
      "2024-12-10 16:04:46,554: INFO: [HumblChannelSingleLong] \u001b[32mOrder was filled: market order of | 1 SPY buy | @ $114.73 fill\u001b[0m\n",
      "2024-12-10 16:04:46,556: INFO: [HumblChannelSingleLong] Processing a filled order, payload: {'position': HumblChannelSingleLong Position: 56.0 shares of SPY (70 orders), 'order': market order of | 1 SPY buy | @ $114.73 fill, 'price': 114.7300033569336, 'quantity': 1.0, 'multiplier': 1}\n"
     ]
    },
    {
     "name": "stdout",
     "output_type": "stream",
     "text": [
      "Progress |\u001b[32m\u001b[0m|   0.29%  [Elapsed: 0:12:05 ETA: 2 days, 22:01:02] Portfolio Val: 100,064.68"
     ]
    },
    {
     "name": "stderr",
     "output_type": "stream",
     "text": [
      "2024-12-10 16:04:46,556: INFO: Current backtesting datetime 2010-01-15 16:00:00-05:00\n"
     ]
    },
    {
     "name": "stdout",
     "output_type": "stream",
     "text": [
      "Progress |\u001b[32m\u001b[0m|   0.29%  [Elapsed: 0:12:05 ETA: 2 days, 21:55:04] Portfolio Val: 100,064.68"
     ]
    },
    {
     "name": "stderr",
     "output_type": "stream",
     "text": [
      "2024-12-10 16:04:46,557: INFO: Current backtesting datetime 2010-01-15 16:30:00-05:00\n"
     ]
    },
    {
     "name": "stdout",
     "output_type": "stream",
     "text": [
      "Progress |\u001b[32m\u001b[0m|   0.29%  [Elapsed: 0:12:05 ETA: 2 days, 21:56:04] "
     ]
    },
    {
     "name": "stderr",
     "output_type": "stream",
     "text": [
      "2024-12-10 16:04:46,559: INFO: Current backtesting datetime 2010-01-15 16:25:00-05:00\n"
     ]
    },
    {
     "name": "stdout",
     "output_type": "stream",
     "text": [
      "Progress |\u001b[32m\u001b[0m|   0.29%  [Elapsed: 0:12:05 ETA: 2 days, 21:56:04] "
     ]
    },
    {
     "name": "stderr",
     "output_type": "stream",
     "text": [
      "2024-12-10 16:04:46,560: INFO: Current backtesting datetime 2010-01-15 16:25:00-05:00\n"
     ]
    },
    {
     "name": "stdout",
     "output_type": "stream",
     "text": [
      "Progress |\u001b[32m\u001b[0m|   0.36%  [Elapsed: 0:12:05 ETA: 2 days, 7:54:37] "
     ]
    },
    {
     "name": "stderr",
     "output_type": "stream",
     "text": [
      "2024-12-10 16:04:46,562: INFO: Current backtesting datetime 2010-01-19 08:30:00-05:00\n"
     ]
    },
    {
     "name": "stdout",
     "output_type": "stream",
     "text": [
      "Progress |\u001b[32m\u001b[0m|   0.36%  [Elapsed: 0:12:05 ETA: 2 days, 7:49:36] "
     ]
    },
    {
     "name": "stderr",
     "output_type": "stream",
     "text": [
      "2024-12-10 16:04:47,130: INFO: Current backtesting datetime 2010-01-19 09:30:00-05:00\n",
      "2024-12-10 16:04:47,135: INFO: [HumblChannelSingleLong] Processing trade event. Trade event received for HumblChannelSingleLong strategy: new SPY, processed by broker backtesting\n",
      "2024-12-10 16:04:47,135: INFO: [HumblChannelSingleLong] \u001b[32mNew order was created: market order of | 1 SPY buy | new\u001b[0m\n",
      "2024-12-10 16:04:47,138: INFO: [HumblChannelSingleLong] Processing a new order, payload: {'order': market order of | 1 SPY buy | new}\n",
      "2024-12-10 16:04:47,138: INFO: [HumblChannelSingleLong] Getting historical prices for SPY, 1 bars, \n",
      "2024-12-10 16:04:47,140: INFO: [HumblChannelSingleLong] Processing trade event. Trade event received for HumblChannelSingleLong strategy: fill SPY, processed by broker backtesting\n",
      "2024-12-10 16:04:47,140: INFO: [HumblChannelSingleLong] \u001b[32mOrder was filled: market order of | 1 SPY buy | @ $113.62 fill\u001b[0m\n",
      "2024-12-10 16:04:47,142: INFO: [HumblChannelSingleLong] Processing a filled order, payload: {'position': HumblChannelSingleLong Position: 57.0 shares of SPY (71 orders), 'order': market order of | 1 SPY buy | @ $113.62 fill, 'price': 113.62000274658203, 'quantity': 1.0, 'multiplier': 1}\n"
     ]
    },
    {
     "name": "stdout",
     "output_type": "stream",
     "text": [
      "Progress |\u001b[32m\u001b[0m|   0.36%  [Elapsed: 0:12:05 ETA: 2 days, 7:42:04] Portfolio Val: 100,002.52"
     ]
    },
    {
     "name": "stderr",
     "output_type": "stream",
     "text": [
      "2024-12-10 16:04:47,143: INFO: Current backtesting datetime 2010-01-19 10:30:00-05:00\n",
      "2024-12-10 16:04:47,148: INFO: [HumblChannelSingleLong] Processing trade event. Trade event received for HumblChannelSingleLong strategy: new SPY, processed by broker backtesting\n",
      "2024-12-10 16:04:47,148: INFO: [HumblChannelSingleLong] \u001b[32mNew order was created: market order of | 1 SPY buy | new\u001b[0m\n",
      "2024-12-10 16:04:47,151: INFO: [HumblChannelSingleLong] Processing a new order, payload: {'order': market order of | 1 SPY buy | new}\n",
      "2024-12-10 16:04:47,151: INFO: [HumblChannelSingleLong] Getting historical prices for SPY, 1 bars, \n",
      "2024-12-10 16:04:47,153: INFO: [HumblChannelSingleLong] Processing trade event. Trade event received for HumblChannelSingleLong strategy: fill SPY, processed by broker backtesting\n",
      "2024-12-10 16:04:47,154: INFO: [HumblChannelSingleLong] \u001b[32mOrder was filled: market order of | 1 SPY buy | @ $113.62 fill\u001b[0m\n",
      "2024-12-10 16:04:47,156: INFO: [HumblChannelSingleLong] Processing a filled order, payload: {'position': HumblChannelSingleLong Position: 58.0 shares of SPY (72 orders), 'order': market order of | 1 SPY buy | @ $113.62 fill, 'price': 113.62000274658203, 'quantity': 1.0, 'multiplier': 1}\n"
     ]
    },
    {
     "name": "stdout",
     "output_type": "stream",
     "text": [
      "Progress |\u001b[32m\u001b[0m|   0.36%  [Elapsed: 0:12:05 ETA: 2 days, 7:34:34] Portfolio Val: 100,002.52"
     ]
    },
    {
     "name": "stderr",
     "output_type": "stream",
     "text": [
      "2024-12-10 16:04:47,157: INFO: Current backtesting datetime 2010-01-19 11:30:00-05:00\n",
      "2024-12-10 16:04:47,162: INFO: [HumblChannelSingleLong] Processing trade event. Trade event received for HumblChannelSingleLong strategy: new SPY, processed by broker backtesting\n",
      "2024-12-10 16:04:47,162: INFO: [HumblChannelSingleLong] \u001b[32mNew order was created: market order of | 1 SPY buy | new\u001b[0m\n",
      "2024-12-10 16:04:47,165: INFO: [HumblChannelSingleLong] Processing a new order, payload: {'order': market order of | 1 SPY buy | new}\n",
      "2024-12-10 16:04:47,165: INFO: [HumblChannelSingleLong] Getting historical prices for SPY, 1 bars, \n",
      "2024-12-10 16:04:47,167: INFO: [HumblChannelSingleLong] Processing trade event. Trade event received for HumblChannelSingleLong strategy: fill SPY, processed by broker backtesting\n",
      "2024-12-10 16:04:47,167: INFO: [HumblChannelSingleLong] \u001b[32mOrder was filled: market order of | 1 SPY buy | @ $113.62 fill\u001b[0m\n",
      "2024-12-10 16:04:47,169: INFO: [HumblChannelSingleLong] Processing a filled order, payload: {'position': HumblChannelSingleLong Position: 59.0 shares of SPY (73 orders), 'order': market order of | 1 SPY buy | @ $113.62 fill, 'price': 113.62000274658203, 'quantity': 1.0, 'multiplier': 1}\n"
     ]
    },
    {
     "name": "stdout",
     "output_type": "stream",
     "text": [
      "Progress |\u001b[32m\u001b[0m|   0.36%  [Elapsed: 0:12:05 ETA: 2 days, 7:27:06] Portfolio Val: 100,002.52"
     ]
    },
    {
     "name": "stderr",
     "output_type": "stream",
     "text": [
      "2024-12-10 16:04:47,169: INFO: Current backtesting datetime 2010-01-19 12:30:00-05:00\n",
      "2024-12-10 16:04:47,173: INFO: [HumblChannelSingleLong] Processing trade event. Trade event received for HumblChannelSingleLong strategy: new SPY, processed by broker backtesting\n",
      "2024-12-10 16:04:47,174: INFO: [HumblChannelSingleLong] \u001b[32mNew order was created: market order of | 1 SPY buy | new\u001b[0m\n",
      "2024-12-10 16:04:47,176: INFO: [HumblChannelSingleLong] Processing a new order, payload: {'order': market order of | 1 SPY buy | new}\n",
      "2024-12-10 16:04:47,177: INFO: [HumblChannelSingleLong] Getting historical prices for SPY, 1 bars, \n",
      "2024-12-10 16:04:47,179: INFO: [HumblChannelSingleLong] Processing trade event. Trade event received for HumblChannelSingleLong strategy: fill SPY, processed by broker backtesting\n",
      "2024-12-10 16:04:47,179: INFO: [HumblChannelSingleLong] \u001b[32mOrder was filled: market order of | 1 SPY buy | @ $113.62 fill\u001b[0m\n",
      "2024-12-10 16:04:47,181: INFO: [HumblChannelSingleLong] Processing a filled order, payload: {'position': HumblChannelSingleLong Position: 60.0 shares of SPY (74 orders), 'order': market order of | 1 SPY buy | @ $113.62 fill, 'price': 113.62000274658203, 'quantity': 1.0, 'multiplier': 1}\n"
     ]
    },
    {
     "name": "stdout",
     "output_type": "stream",
     "text": [
      "Progress |\u001b[32m\u001b[0m|   0.36%  [Elapsed: 0:12:05 ETA: 2 days, 7:19:40] Portfolio Val: 100,002.52"
     ]
    },
    {
     "name": "stderr",
     "output_type": "stream",
     "text": [
      "2024-12-10 16:04:47,182: INFO: Current backtesting datetime 2010-01-19 13:30:00-05:00\n",
      "2024-12-10 16:04:47,186: INFO: [HumblChannelSingleLong] Processing trade event. Trade event received for HumblChannelSingleLong strategy: new SPY, processed by broker backtesting\n",
      "2024-12-10 16:04:47,187: INFO: [HumblChannelSingleLong] \u001b[32mNew order was created: market order of | 1 SPY buy | new\u001b[0m\n",
      "2024-12-10 16:04:47,191: INFO: [HumblChannelSingleLong] Processing a new order, payload: {'order': market order of | 1 SPY buy | new}\n",
      "2024-12-10 16:04:47,192: INFO: [HumblChannelSingleLong] Getting historical prices for SPY, 1 bars, \n",
      "2024-12-10 16:04:47,194: INFO: [HumblChannelSingleLong] Processing trade event. Trade event received for HumblChannelSingleLong strategy: fill SPY, processed by broker backtesting\n",
      "2024-12-10 16:04:47,195: INFO: [HumblChannelSingleLong] \u001b[32mOrder was filled: market order of | 1 SPY buy | @ $113.62 fill\u001b[0m\n",
      "2024-12-10 16:04:47,197: INFO: [HumblChannelSingleLong] Processing a filled order, payload: {'position': HumblChannelSingleLong Position: 61.0 shares of SPY (75 orders), 'order': market order of | 1 SPY buy | @ $113.62 fill, 'price': 113.62000274658203, 'quantity': 1.0, 'multiplier': 1}\n"
     ]
    },
    {
     "name": "stdout",
     "output_type": "stream",
     "text": [
      "Progress |\u001b[32m\u001b[0m|   0.36%  [Elapsed: 0:12:05 ETA: 2 days, 7:12:16] Portfolio Val: 100,002.52"
     ]
    },
    {
     "name": "stderr",
     "output_type": "stream",
     "text": [
      "2024-12-10 16:04:47,197: INFO: Current backtesting datetime 2010-01-19 14:30:00-05:00\n",
      "2024-12-10 16:04:47,201: INFO: [HumblChannelSingleLong] Processing trade event. Trade event received for HumblChannelSingleLong strategy: new SPY, processed by broker backtesting\n",
      "2024-12-10 16:04:47,202: INFO: [HumblChannelSingleLong] \u001b[32mNew order was created: market order of | 1 SPY buy | new\u001b[0m\n",
      "2024-12-10 16:04:47,204: INFO: [HumblChannelSingleLong] Processing a new order, payload: {'order': market order of | 1 SPY buy | new}\n",
      "2024-12-10 16:04:47,205: INFO: [HumblChannelSingleLong] Getting historical prices for SPY, 1 bars, \n",
      "2024-12-10 16:04:47,207: INFO: [HumblChannelSingleLong] Processing trade event. Trade event received for HumblChannelSingleLong strategy: fill SPY, processed by broker backtesting\n",
      "2024-12-10 16:04:47,207: INFO: [HumblChannelSingleLong] \u001b[32mOrder was filled: market order of | 1 SPY buy | @ $113.62 fill\u001b[0m\n",
      "2024-12-10 16:04:47,209: INFO: [HumblChannelSingleLong] Processing a filled order, payload: {'position': HumblChannelSingleLong Position: 62.0 shares of SPY (76 orders), 'order': market order of | 1 SPY buy | @ $113.62 fill, 'price': 113.62000274658203, 'quantity': 1.0, 'multiplier': 1}\n"
     ]
    },
    {
     "name": "stdout",
     "output_type": "stream",
     "text": [
      "Progress |\u001b[32m\u001b[0m|   0.36%  [Elapsed: 0:12:05 ETA: 2 days, 7:04:54] Portfolio Val: 100,002.52"
     ]
    },
    {
     "name": "stderr",
     "output_type": "stream",
     "text": [
      "2024-12-10 16:04:47,210: INFO: Current backtesting datetime 2010-01-19 15:30:00-05:00\n",
      "2024-12-10 16:04:47,214: INFO: [HumblChannelSingleLong] Processing trade event. Trade event received for HumblChannelSingleLong strategy: new SPY, processed by broker backtesting\n",
      "2024-12-10 16:04:47,215: INFO: [HumblChannelSingleLong] \u001b[32mNew order was created: market order of | 1 SPY buy | new\u001b[0m\n",
      "2024-12-10 16:04:47,217: INFO: [HumblChannelSingleLong] Processing a new order, payload: {'order': market order of | 1 SPY buy | new}\n",
      "2024-12-10 16:04:47,217: INFO: [HumblChannelSingleLong] Getting historical prices for SPY, 1 bars, \n",
      "2024-12-10 16:04:47,219: INFO: [HumblChannelSingleLong] Processing trade event. Trade event received for HumblChannelSingleLong strategy: fill SPY, processed by broker backtesting\n",
      "2024-12-10 16:04:47,219: INFO: [HumblChannelSingleLong] \u001b[32mOrder was filled: market order of | 1 SPY buy | @ $113.62 fill\u001b[0m\n",
      "2024-12-10 16:04:47,221: INFO: [HumblChannelSingleLong] Processing a filled order, payload: {'position': HumblChannelSingleLong Position: 63.0 shares of SPY (77 orders), 'order': market order of | 1 SPY buy | @ $113.62 fill, 'price': 113.62000274658203, 'quantity': 1.0, 'multiplier': 1}\n"
     ]
    },
    {
     "name": "stdout",
     "output_type": "stream",
     "text": [
      "Progress |\u001b[32m\u001b[0m|   0.37%  [Elapsed: 0:12:05 ETA: 2 days, 7:01:15] Portfolio Val: 100,002.52"
     ]
    },
    {
     "name": "stderr",
     "output_type": "stream",
     "text": [
      "2024-12-10 16:04:47,221: INFO: Current backtesting datetime 2010-01-19 16:00:00-05:00\n"
     ]
    },
    {
     "name": "stdout",
     "output_type": "stream",
     "text": [
      "Progress |\u001b[32m\u001b[0m|   0.37%  [Elapsed: 0:12:05 ETA: 2 days, 6:57:33] Portfolio Val: 100,002.52"
     ]
    },
    {
     "name": "stderr",
     "output_type": "stream",
     "text": [
      "2024-12-10 16:04:47,222: INFO: Current backtesting datetime 2010-01-19 16:30:00-05:00\n"
     ]
    },
    {
     "name": "stdout",
     "output_type": "stream",
     "text": [
      "Progress |\u001b[32m\u001b[0m|   0.37%  [Elapsed: 0:12:05 ETA: 2 days, 6:58:11] "
     ]
    },
    {
     "name": "stderr",
     "output_type": "stream",
     "text": [
      "2024-12-10 16:04:47,223: INFO: Current backtesting datetime 2010-01-19 16:25:00-05:00\n"
     ]
    },
    {
     "name": "stdout",
     "output_type": "stream",
     "text": [
      "Progress |\u001b[32m\u001b[0m|   0.37%  [Elapsed: 0:12:05 ETA: 2 days, 6:58:11] "
     ]
    },
    {
     "name": "stderr",
     "output_type": "stream",
     "text": [
      "2024-12-10 16:04:47,224: INFO: Current backtesting datetime 2010-01-19 16:25:00-05:00\n"
     ]
    },
    {
     "name": "stdout",
     "output_type": "stream",
     "text": [
      "Progress |\u001b[32m\u001b[0m|   0.38%  [Elapsed: 0:12:05 ETA: 2 days, 5:03:34] "
     ]
    },
    {
     "name": "stderr",
     "output_type": "stream",
     "text": [
      "2024-12-10 16:04:47,226: INFO: Current backtesting datetime 2010-01-20 08:30:00-05:00\n"
     ]
    },
    {
     "name": "stdout",
     "output_type": "stream",
     "text": [
      "Progress |\u001b[32m\u001b[0m|   0.38%  [Elapsed: 0:12:06 ETA: 2 days, 4:58:11] "
     ]
    },
    {
     "name": "stderr",
     "output_type": "stream",
     "text": [
      "2024-12-10 16:04:47,563: INFO: Current backtesting datetime 2010-01-20 09:30:00-05:00\n",
      "2024-12-10 16:04:47,568: INFO: [HumblChannelSingleLong] Processing trade event. Trade event received for HumblChannelSingleLong strategy: new SPY, processed by broker backtesting\n",
      "2024-12-10 16:04:47,568: INFO: [HumblChannelSingleLong] \u001b[32mNew order was created: market order of | 1 SPY buy | new\u001b[0m\n",
      "2024-12-10 16:04:47,571: INFO: [HumblChannelSingleLong] Processing a new order, payload: {'order': market order of | 1 SPY buy | new}\n",
      "2024-12-10 16:04:47,571: INFO: [HumblChannelSingleLong] Getting historical prices for SPY, 1 bars, \n",
      "2024-12-10 16:04:47,573: INFO: [HumblChannelSingleLong] Processing trade event. Trade event received for HumblChannelSingleLong strategy: fill SPY, processed by broker backtesting\n",
      "2024-12-10 16:04:47,573: INFO: [HumblChannelSingleLong] \u001b[32mOrder was filled: market order of | 1 SPY buy | @ $114.28 fill\u001b[0m\n",
      "2024-12-10 16:04:47,577: INFO: [HumblChannelSingleLong] Processing a filled order, payload: {'position': HumblChannelSingleLong Position: 64.0 shares of SPY (78 orders), 'order': market order of | 1 SPY buy | @ $114.28 fill, 'price': 114.27999877929688, 'quantity': 1.0, 'multiplier': 1}\n"
     ]
    },
    {
     "name": "stdout",
     "output_type": "stream",
     "text": [
      "Progress |\u001b[32m\u001b[0m|   0.38%  [Elapsed: 0:12:06 ETA: 2 days, 4:51:24] Portfolio Val: 100,044.10"
     ]
    },
    {
     "name": "stderr",
     "output_type": "stream",
     "text": [
      "2024-12-10 16:04:47,577: INFO: Current backtesting datetime 2010-01-20 10:30:00-05:00\n",
      "2024-12-10 16:04:47,582: INFO: [HumblChannelSingleLong] Processing trade event. Trade event received for HumblChannelSingleLong strategy: new SPY, processed by broker backtesting\n",
      "2024-12-10 16:04:47,583: INFO: [HumblChannelSingleLong] \u001b[32mNew order was created: market order of | 1 SPY buy | new\u001b[0m\n",
      "2024-12-10 16:04:47,585: INFO: [HumblChannelSingleLong] Processing a new order, payload: {'order': market order of | 1 SPY buy | new}\n",
      "2024-12-10 16:04:47,586: INFO: [HumblChannelSingleLong] Getting historical prices for SPY, 1 bars, \n",
      "2024-12-10 16:04:47,587: INFO: [HumblChannelSingleLong] Processing trade event. Trade event received for HumblChannelSingleLong strategy: fill SPY, processed by broker backtesting\n",
      "2024-12-10 16:04:47,588: INFO: [HumblChannelSingleLong] \u001b[32mOrder was filled: market order of | 1 SPY buy | @ $114.28 fill\u001b[0m\n",
      "2024-12-10 16:04:47,590: INFO: [HumblChannelSingleLong] Processing a filled order, payload: {'position': HumblChannelSingleLong Position: 65.0 shares of SPY (79 orders), 'order': market order of | 1 SPY buy | @ $114.28 fill, 'price': 114.27999877929688, 'quantity': 1.0, 'multiplier': 1}\n"
     ]
    },
    {
     "name": "stdout",
     "output_type": "stream",
     "text": [
      "Progress |\u001b[32m\u001b[0m|   0.38%  [Elapsed: 0:12:06 ETA: 2 days, 4:44:39] Portfolio Val: 100,044.10"
     ]
    },
    {
     "name": "stderr",
     "output_type": "stream",
     "text": [
      "2024-12-10 16:04:47,590: INFO: Current backtesting datetime 2010-01-20 11:30:00-05:00\n",
      "2024-12-10 16:04:47,595: INFO: [HumblChannelSingleLong] Processing trade event. Trade event received for HumblChannelSingleLong strategy: new SPY, processed by broker backtesting\n",
      "2024-12-10 16:04:47,595: INFO: [HumblChannelSingleLong] \u001b[32mNew order was created: market order of | 1 SPY buy | new\u001b[0m\n",
      "2024-12-10 16:04:47,598: INFO: [HumblChannelSingleLong] Processing a new order, payload: {'order': market order of | 1 SPY buy | new}\n",
      "2024-12-10 16:04:47,598: INFO: [HumblChannelSingleLong] Getting historical prices for SPY, 1 bars, \n",
      "2024-12-10 16:04:47,600: INFO: [HumblChannelSingleLong] Processing trade event. Trade event received for HumblChannelSingleLong strategy: fill SPY, processed by broker backtesting\n",
      "2024-12-10 16:04:47,601: INFO: [HumblChannelSingleLong] \u001b[32mOrder was filled: market order of | 1 SPY buy | @ $114.28 fill\u001b[0m\n",
      "2024-12-10 16:04:47,603: INFO: [HumblChannelSingleLong] Processing a filled order, payload: {'position': HumblChannelSingleLong Position: 66.0 shares of SPY (80 orders), 'order': market order of | 1 SPY buy | @ $114.28 fill, 'price': 114.27999877929688, 'quantity': 1.0, 'multiplier': 1}\n"
     ]
    },
    {
     "name": "stdout",
     "output_type": "stream",
     "text": [
      "Progress |\u001b[32m\u001b[0m|   0.38%  [Elapsed: 0:12:06 ETA: 2 days, 4:37:56] Portfolio Val: 100,044.10"
     ]
    },
    {
     "name": "stderr",
     "output_type": "stream",
     "text": [
      "2024-12-10 16:04:47,603: INFO: Current backtesting datetime 2010-01-20 12:30:00-05:00\n",
      "2024-12-10 16:04:47,607: INFO: [HumblChannelSingleLong] Processing trade event. Trade event received for HumblChannelSingleLong strategy: new SPY, processed by broker backtesting\n",
      "2024-12-10 16:04:47,608: INFO: [HumblChannelSingleLong] \u001b[32mNew order was created: market order of | 1 SPY buy | new\u001b[0m\n",
      "2024-12-10 16:04:47,612: INFO: [HumblChannelSingleLong] Processing a new order, payload: {'order': market order of | 1 SPY buy | new}\n",
      "2024-12-10 16:04:47,612: INFO: [HumblChannelSingleLong] Getting historical prices for SPY, 1 bars, \n",
      "2024-12-10 16:04:47,614: INFO: [HumblChannelSingleLong] Processing trade event. Trade event received for HumblChannelSingleLong strategy: fill SPY, processed by broker backtesting\n",
      "2024-12-10 16:04:47,615: INFO: [HumblChannelSingleLong] \u001b[32mOrder was filled: market order of | 1 SPY buy | @ $114.28 fill\u001b[0m\n",
      "2024-12-10 16:04:47,618: INFO: [HumblChannelSingleLong] Processing a filled order, payload: {'position': HumblChannelSingleLong Position: 67.0 shares of SPY (81 orders), 'order': market order of | 1 SPY buy | @ $114.28 fill, 'price': 114.27999877929688, 'quantity': 1.0, 'multiplier': 1}\n"
     ]
    },
    {
     "name": "stdout",
     "output_type": "stream",
     "text": [
      "Progress |\u001b[32m\u001b[0m|   0.38%  [Elapsed: 0:12:06 ETA: 2 days, 4:31:14] Portfolio Val: 100,044.10"
     ]
    },
    {
     "name": "stderr",
     "output_type": "stream",
     "text": [
      "2024-12-10 16:04:47,618: INFO: Current backtesting datetime 2010-01-20 13:30:00-05:00\n",
      "2024-12-10 16:04:47,623: INFO: [HumblChannelSingleLong] Processing trade event. Trade event received for HumblChannelSingleLong strategy: new SPY, processed by broker backtesting\n",
      "2024-12-10 16:04:47,623: INFO: [HumblChannelSingleLong] \u001b[32mNew order was created: market order of | 1 SPY buy | new\u001b[0m\n",
      "2024-12-10 16:04:47,627: INFO: [HumblChannelSingleLong] Processing a new order, payload: {'order': market order of | 1 SPY buy | new}\n",
      "2024-12-10 16:04:47,627: INFO: [HumblChannelSingleLong] Getting historical prices for SPY, 1 bars, \n",
      "2024-12-10 16:04:47,630: INFO: [HumblChannelSingleLong] Processing trade event. Trade event received for HumblChannelSingleLong strategy: fill SPY, processed by broker backtesting\n",
      "2024-12-10 16:04:47,630: INFO: [HumblChannelSingleLong] \u001b[32mOrder was filled: market order of | 1 SPY buy | @ $114.28 fill\u001b[0m\n",
      "2024-12-10 16:04:47,632: INFO: [HumblChannelSingleLong] Processing a filled order, payload: {'position': HumblChannelSingleLong Position: 68.0 shares of SPY (82 orders), 'order': market order of | 1 SPY buy | @ $114.28 fill, 'price': 114.27999877929688, 'quantity': 1.0, 'multiplier': 1}\n"
     ]
    },
    {
     "name": "stdout",
     "output_type": "stream",
     "text": [
      "Progress |\u001b[32m\u001b[0m|   0.38%  [Elapsed: 0:12:06 ETA: 2 days, 4:24:35] Portfolio Val: 100,044.10"
     ]
    },
    {
     "name": "stderr",
     "output_type": "stream",
     "text": [
      "2024-12-10 16:04:47,633: INFO: Current backtesting datetime 2010-01-20 14:30:00-05:00\n",
      "2024-12-10 16:04:47,637: INFO: [HumblChannelSingleLong] Processing trade event. Trade event received for HumblChannelSingleLong strategy: new SPY, processed by broker backtesting\n",
      "2024-12-10 16:04:47,638: INFO: [HumblChannelSingleLong] \u001b[32mNew order was created: market order of | 1 SPY buy | new\u001b[0m\n",
      "2024-12-10 16:04:47,641: INFO: [HumblChannelSingleLong] Processing a new order, payload: {'order': market order of | 1 SPY buy | new}\n",
      "2024-12-10 16:04:47,641: INFO: [HumblChannelSingleLong] Getting historical prices for SPY, 1 bars, \n",
      "2024-12-10 16:04:47,643: INFO: [HumblChannelSingleLong] Processing trade event. Trade event received for HumblChannelSingleLong strategy: fill SPY, processed by broker backtesting\n",
      "2024-12-10 16:04:47,644: INFO: [HumblChannelSingleLong] \u001b[32mOrder was filled: market order of | 1 SPY buy | @ $114.28 fill\u001b[0m\n",
      "2024-12-10 16:04:47,646: INFO: [HumblChannelSingleLong] Processing a filled order, payload: {'position': HumblChannelSingleLong Position: 69.0 shares of SPY (83 orders), 'order': market order of | 1 SPY buy | @ $114.28 fill, 'price': 114.27999877929688, 'quantity': 1.0, 'multiplier': 1}\n"
     ]
    },
    {
     "name": "stdout",
     "output_type": "stream",
     "text": [
      "Progress |\u001b[32m\u001b[0m|   0.38%  [Elapsed: 0:12:06 ETA: 2 days, 4:17:57] Portfolio Val: 100,044.10"
     ]
    },
    {
     "name": "stderr",
     "output_type": "stream",
     "text": [
      "2024-12-10 16:04:47,647: INFO: Current backtesting datetime 2010-01-20 15:30:00-05:00\n",
      "2024-12-10 16:04:47,653: INFO: [HumblChannelSingleLong] Processing trade event. Trade event received for HumblChannelSingleLong strategy: new SPY, processed by broker backtesting\n",
      "2024-12-10 16:04:47,653: INFO: [HumblChannelSingleLong] \u001b[32mNew order was created: market order of | 1 SPY buy | new\u001b[0m\n",
      "2024-12-10 16:04:47,656: INFO: [HumblChannelSingleLong] Processing a new order, payload: {'order': market order of | 1 SPY buy | new}\n",
      "2024-12-10 16:04:47,656: INFO: [HumblChannelSingleLong] Getting historical prices for SPY, 1 bars, \n",
      "2024-12-10 16:04:47,658: INFO: [HumblChannelSingleLong] Processing trade event. Trade event received for HumblChannelSingleLong strategy: fill SPY, processed by broker backtesting\n",
      "2024-12-10 16:04:47,658: INFO: [HumblChannelSingleLong] \u001b[32mOrder was filled: market order of | 1 SPY buy | @ $114.28 fill\u001b[0m\n",
      "2024-12-10 16:04:47,661: INFO: [HumblChannelSingleLong] Processing a filled order, payload: {'position': HumblChannelSingleLong Position: 70.0 shares of SPY (84 orders), 'order': market order of | 1 SPY buy | @ $114.28 fill, 'price': 114.27999877929688, 'quantity': 1.0, 'multiplier': 1}\n"
     ]
    },
    {
     "name": "stdout",
     "output_type": "stream",
     "text": [
      "Progress |\u001b[32m\u001b[0m|   0.38%  [Elapsed: 0:12:06 ETA: 2 days, 4:14:40] Portfolio Val: 100,044.10"
     ]
    },
    {
     "name": "stderr",
     "output_type": "stream",
     "text": [
      "2024-12-10 16:04:47,661: INFO: Current backtesting datetime 2010-01-20 16:00:00-05:00\n"
     ]
    },
    {
     "name": "stdout",
     "output_type": "stream",
     "text": [
      "Progress |\u001b[32m\u001b[0m|   0.39%  [Elapsed: 0:12:06 ETA: 2 days, 4:11:21] Portfolio Val: 100,044.10"
     ]
    },
    {
     "name": "stderr",
     "output_type": "stream",
     "text": [
      "2024-12-10 16:04:47,662: INFO: Current backtesting datetime 2010-01-20 16:30:00-05:00\n"
     ]
    },
    {
     "name": "stdout",
     "output_type": "stream",
     "text": [
      "Progress |\u001b[32m\u001b[0m|   0.38%  [Elapsed: 0:12:06 ETA: 2 days, 4:11:54] "
     ]
    },
    {
     "name": "stderr",
     "output_type": "stream",
     "text": [
      "2024-12-10 16:04:47,664: INFO: Current backtesting datetime 2010-01-20 16:25:00-05:00\n"
     ]
    },
    {
     "name": "stdout",
     "output_type": "stream",
     "text": [
      "Progress |\u001b[32m\u001b[0m|   0.38%  [Elapsed: 0:12:06 ETA: 2 days, 4:11:55] "
     ]
    },
    {
     "name": "stderr",
     "output_type": "stream",
     "text": [
      "2024-12-10 16:04:47,665: INFO: Current backtesting datetime 2010-01-20 16:25:00-05:00\n"
     ]
    },
    {
     "name": "stdout",
     "output_type": "stream",
     "text": [
      "Progress |\u001b[32m\u001b[0m|   0.40%  [Elapsed: 0:12:06 ETA: 2 days, 2:28:24] "
     ]
    },
    {
     "name": "stderr",
     "output_type": "stream",
     "text": [
      "2024-12-10 16:04:47,667: INFO: Current backtesting datetime 2010-01-21 08:30:00-05:00\n"
     ]
    },
    {
     "name": "stdout",
     "output_type": "stream",
     "text": [
      "Progress |\u001b[32m\u001b[0m|   0.40%  [Elapsed: 0:12:06 ETA: 2 days, 2:23:00] "
     ]
    },
    {
     "name": "stderr",
     "output_type": "stream",
     "text": [
      "2024-12-10 16:04:47,861: INFO: Current backtesting datetime 2010-01-21 09:30:00-05:00\n",
      "2024-12-10 16:04:47,865: INFO: [HumblChannelSingleLong] Processing trade event. Trade event received for HumblChannelSingleLong strategy: new SPY, processed by broker backtesting\n",
      "2024-12-10 16:04:47,866: INFO: [HumblChannelSingleLong] \u001b[32mNew order was created: market order of | 1 SPY sell | new\u001b[0m\n",
      "2024-12-10 16:04:47,868: INFO: [HumblChannelSingleLong] Processing a new order, payload: {'order': market order of | 1 SPY sell | new}\n",
      "2024-12-10 16:04:47,869: INFO: [HumblChannelSingleLong] Getting historical prices for SPY, 1 bars, \n",
      "2024-12-10 16:04:47,871: INFO: [HumblChannelSingleLong] Processing trade event. Trade event received for HumblChannelSingleLong strategy: fill SPY, processed by broker backtesting\n",
      "2024-12-10 16:04:47,871: INFO: [HumblChannelSingleLong] \u001b[32mOrder was filled: market order of | 1 SPY sell | @ $113.92 fill\u001b[0m\n",
      "2024-12-10 16:04:47,873: INFO: [HumblChannelSingleLong] Processing a filled order, payload: {'position': HumblChannelSingleLong Position: 69.0 shares of SPY (85 orders), 'order': market order of | 1 SPY sell | @ $113.92 fill, 'price': 113.91999816894531, 'quantity': 1.0, 'multiplier': 1}\n"
     ]
    },
    {
     "name": "stdout",
     "output_type": "stream",
     "text": [
      "Progress |\u001b[32m\u001b[0m|   0.40%  [Elapsed: 0:12:06 ETA: 2 days, 2:16:52] Portfolio Val: 100,018.90"
     ]
    },
    {
     "name": "stderr",
     "output_type": "stream",
     "text": [
      "2024-12-10 16:04:47,874: INFO: Current backtesting datetime 2010-01-21 10:30:00-05:00\n",
      "2024-12-10 16:04:47,879: INFO: [HumblChannelSingleLong] Processing trade event. Trade event received for HumblChannelSingleLong strategy: new SPY, processed by broker backtesting\n",
      "2024-12-10 16:04:47,880: INFO: [HumblChannelSingleLong] \u001b[32mNew order was created: market order of | 1 SPY sell | new\u001b[0m\n",
      "2024-12-10 16:04:47,883: INFO: [HumblChannelSingleLong] Processing a new order, payload: {'order': market order of | 1 SPY sell | new}\n",
      "2024-12-10 16:04:47,883: INFO: [HumblChannelSingleLong] Getting historical prices for SPY, 1 bars, \n",
      "2024-12-10 16:04:47,885: INFO: [HumblChannelSingleLong] Processing trade event. Trade event received for HumblChannelSingleLong strategy: fill SPY, processed by broker backtesting\n",
      "2024-12-10 16:04:47,885: INFO: [HumblChannelSingleLong] \u001b[32mOrder was filled: market order of | 1 SPY sell | @ $113.92 fill\u001b[0m\n",
      "2024-12-10 16:04:47,888: INFO: [HumblChannelSingleLong] Processing a filled order, payload: {'position': HumblChannelSingleLong Position: 68.0 shares of SPY (86 orders), 'order': market order of | 1 SPY sell | @ $113.92 fill, 'price': 113.91999816894531, 'quantity': 1.0, 'multiplier': 1}\n"
     ]
    },
    {
     "name": "stdout",
     "output_type": "stream",
     "text": [
      "Progress |\u001b[32m\u001b[0m|   0.40%  [Elapsed: 0:12:06 ETA: 2 days, 2:10:46] Portfolio Val: 100,018.90"
     ]
    },
    {
     "name": "stderr",
     "output_type": "stream",
     "text": [
      "2024-12-10 16:04:47,888: INFO: Current backtesting datetime 2010-01-21 11:30:00-05:00\n",
      "2024-12-10 16:04:47,892: INFO: [HumblChannelSingleLong] Processing trade event. Trade event received for HumblChannelSingleLong strategy: new SPY, processed by broker backtesting\n",
      "2024-12-10 16:04:47,893: INFO: [HumblChannelSingleLong] \u001b[32mNew order was created: market order of | 1 SPY sell | new\u001b[0m\n",
      "2024-12-10 16:04:47,895: INFO: [HumblChannelSingleLong] Processing a new order, payload: {'order': market order of | 1 SPY sell | new}\n",
      "2024-12-10 16:04:47,896: INFO: [HumblChannelSingleLong] Getting historical prices for SPY, 1 bars, \n",
      "2024-12-10 16:04:47,898: INFO: [HumblChannelSingleLong] Processing trade event. Trade event received for HumblChannelSingleLong strategy: fill SPY, processed by broker backtesting\n",
      "2024-12-10 16:04:47,899: INFO: [HumblChannelSingleLong] \u001b[32mOrder was filled: market order of | 1 SPY sell | @ $113.92 fill\u001b[0m\n",
      "2024-12-10 16:04:47,901: INFO: [HumblChannelSingleLong] Processing a filled order, payload: {'position': HumblChannelSingleLong Position: 67.0 shares of SPY (87 orders), 'order': market order of | 1 SPY sell | @ $113.92 fill, 'price': 113.91999816894531, 'quantity': 1.0, 'multiplier': 1}\n"
     ]
    },
    {
     "name": "stdout",
     "output_type": "stream",
     "text": [
      "Progress |\u001b[32m\u001b[0m|   0.40%  [Elapsed: 0:12:06 ETA: 2 days, 2:04:41] Portfolio Val: 100,018.90"
     ]
    },
    {
     "name": "stderr",
     "output_type": "stream",
     "text": [
      "2024-12-10 16:04:47,901: INFO: Current backtesting datetime 2010-01-21 12:30:00-05:00\n",
      "2024-12-10 16:04:47,906: INFO: [HumblChannelSingleLong] Processing trade event. Trade event received for HumblChannelSingleLong strategy: new SPY, processed by broker backtesting\n",
      "2024-12-10 16:04:47,906: INFO: [HumblChannelSingleLong] \u001b[32mNew order was created: market order of | 1 SPY sell | new\u001b[0m\n",
      "2024-12-10 16:04:47,909: INFO: [HumblChannelSingleLong] Processing a new order, payload: {'order': market order of | 1 SPY sell | new}\n",
      "2024-12-10 16:04:47,909: INFO: [HumblChannelSingleLong] Getting historical prices for SPY, 1 bars, \n",
      "2024-12-10 16:04:47,911: INFO: [HumblChannelSingleLong] Processing trade event. Trade event received for HumblChannelSingleLong strategy: fill SPY, processed by broker backtesting\n",
      "2024-12-10 16:04:47,912: INFO: [HumblChannelSingleLong] \u001b[32mOrder was filled: market order of | 1 SPY sell | @ $113.92 fill\u001b[0m\n",
      "2024-12-10 16:04:47,914: INFO: [HumblChannelSingleLong] Processing a filled order, payload: {'position': HumblChannelSingleLong Position: 66.0 shares of SPY (88 orders), 'order': market order of | 1 SPY sell | @ $113.92 fill, 'price': 113.91999816894531, 'quantity': 1.0, 'multiplier': 1}\n"
     ]
    },
    {
     "name": "stdout",
     "output_type": "stream",
     "text": [
      "Progress |\u001b[32m\u001b[0m|   0.40%  [Elapsed: 0:12:06 ETA: 2 days, 1:58:37] Portfolio Val: 100,018.90"
     ]
    },
    {
     "name": "stderr",
     "output_type": "stream",
     "text": [
      "2024-12-10 16:04:47,915: INFO: Current backtesting datetime 2010-01-21 13:30:00-05:00\n",
      "2024-12-10 16:04:47,919: INFO: [HumblChannelSingleLong] Processing trade event. Trade event received for HumblChannelSingleLong strategy: new SPY, processed by broker backtesting\n",
      "2024-12-10 16:04:47,919: INFO: [HumblChannelSingleLong] \u001b[32mNew order was created: market order of | 1 SPY sell | new\u001b[0m\n",
      "2024-12-10 16:04:47,922: INFO: [HumblChannelSingleLong] Processing a new order, payload: {'order': market order of | 1 SPY sell | new}\n",
      "2024-12-10 16:04:47,922: INFO: [HumblChannelSingleLong] Getting historical prices for SPY, 1 bars, \n",
      "2024-12-10 16:04:47,924: INFO: [HumblChannelSingleLong] Processing trade event. Trade event received for HumblChannelSingleLong strategy: fill SPY, processed by broker backtesting\n",
      "2024-12-10 16:04:47,925: INFO: [HumblChannelSingleLong] \u001b[32mOrder was filled: market order of | 1 SPY sell | @ $113.92 fill\u001b[0m\n",
      "2024-12-10 16:04:47,926: INFO: [HumblChannelSingleLong] Processing a filled order, payload: {'position': HumblChannelSingleLong Position: 65.0 shares of SPY (89 orders), 'order': market order of | 1 SPY sell | @ $113.92 fill, 'price': 113.91999816894531, 'quantity': 1.0, 'multiplier': 1}\n"
     ]
    },
    {
     "name": "stdout",
     "output_type": "stream",
     "text": [
      "Progress |\u001b[32m\u001b[0m|   0.40%  [Elapsed: 0:12:06 ETA: 2 days, 1:52:35] Portfolio Val: 100,018.90"
     ]
    },
    {
     "name": "stderr",
     "output_type": "stream",
     "text": [
      "2024-12-10 16:04:47,927: INFO: Current backtesting datetime 2010-01-21 14:30:00-05:00\n",
      "2024-12-10 16:04:47,932: INFO: [HumblChannelSingleLong] Processing trade event. Trade event received for HumblChannelSingleLong strategy: new SPY, processed by broker backtesting\n",
      "2024-12-10 16:04:47,932: INFO: [HumblChannelSingleLong] \u001b[32mNew order was created: market order of | 1 SPY sell | new\u001b[0m\n",
      "2024-12-10 16:04:47,935: INFO: [HumblChannelSingleLong] Processing a new order, payload: {'order': market order of | 1 SPY sell | new}\n",
      "2024-12-10 16:04:47,935: INFO: [HumblChannelSingleLong] Getting historical prices for SPY, 1 bars, \n",
      "2024-12-10 16:04:47,937: INFO: [HumblChannelSingleLong] Processing trade event. Trade event received for HumblChannelSingleLong strategy: fill SPY, processed by broker backtesting\n",
      "2024-12-10 16:04:47,937: INFO: [HumblChannelSingleLong] \u001b[32mOrder was filled: market order of | 1 SPY sell | @ $113.92 fill\u001b[0m\n",
      "2024-12-10 16:04:47,939: INFO: [HumblChannelSingleLong] Processing a filled order, payload: {'position': HumblChannelSingleLong Position: 64.0 shares of SPY (90 orders), 'order': market order of | 1 SPY sell | @ $113.92 fill, 'price': 113.91999816894531, 'quantity': 1.0, 'multiplier': 1}\n"
     ]
    },
    {
     "name": "stdout",
     "output_type": "stream",
     "text": [
      "Progress |\u001b[32m\u001b[0m|   0.40%  [Elapsed: 0:12:06 ETA: 2 days, 1:46:35] Portfolio Val: 100,018.90"
     ]
    },
    {
     "name": "stderr",
     "output_type": "stream",
     "text": [
      "2024-12-10 16:04:47,940: INFO: Current backtesting datetime 2010-01-21 15:30:00-05:00\n",
      "2024-12-10 16:04:47,946: INFO: [HumblChannelSingleLong] Processing trade event. Trade event received for HumblChannelSingleLong strategy: new SPY, processed by broker backtesting\n",
      "2024-12-10 16:04:47,946: INFO: [HumblChannelSingleLong] \u001b[32mNew order was created: market order of | 1 SPY sell | new\u001b[0m\n",
      "2024-12-10 16:04:47,949: INFO: [HumblChannelSingleLong] Processing a new order, payload: {'order': market order of | 1 SPY sell | new}\n",
      "2024-12-10 16:04:47,950: INFO: [HumblChannelSingleLong] Getting historical prices for SPY, 1 bars, \n",
      "2024-12-10 16:04:47,952: INFO: [HumblChannelSingleLong] Processing trade event. Trade event received for HumblChannelSingleLong strategy: fill SPY, processed by broker backtesting\n",
      "2024-12-10 16:04:47,952: INFO: [HumblChannelSingleLong] \u001b[32mOrder was filled: market order of | 1 SPY sell | @ $113.92 fill\u001b[0m\n",
      "2024-12-10 16:04:47,954: INFO: [HumblChannelSingleLong] Processing a filled order, payload: {'position': HumblChannelSingleLong Position: 63.0 shares of SPY (91 orders), 'order': market order of | 1 SPY sell | @ $113.92 fill, 'price': 113.91999816894531, 'quantity': 1.0, 'multiplier': 1}\n"
     ]
    },
    {
     "name": "stdout",
     "output_type": "stream",
     "text": [
      "Progress |\u001b[32m\u001b[0m|   0.40%  [Elapsed: 0:12:06 ETA: 2 days, 1:43:37] Portfolio Val: 100,018.90"
     ]
    },
    {
     "name": "stderr",
     "output_type": "stream",
     "text": [
      "2024-12-10 16:04:47,955: INFO: Current backtesting datetime 2010-01-21 16:00:00-05:00\n"
     ]
    },
    {
     "name": "stdout",
     "output_type": "stream",
     "text": [
      "Progress |\u001b[32m\u001b[0m|   0.40%  [Elapsed: 0:12:06 ETA: 2 days, 1:40:36] Portfolio Val: 100,018.90"
     ]
    },
    {
     "name": "stderr",
     "output_type": "stream",
     "text": [
      "2024-12-10 16:04:47,955: INFO: Current backtesting datetime 2010-01-21 16:30:00-05:00\n"
     ]
    },
    {
     "name": "stdout",
     "output_type": "stream",
     "text": [
      "Progress |\u001b[32m\u001b[0m|   0.40%  [Elapsed: 0:12:06 ETA: 2 days, 1:41:06] "
     ]
    },
    {
     "name": "stderr",
     "output_type": "stream",
     "text": [
      "2024-12-10 16:04:47,957: INFO: Current backtesting datetime 2010-01-21 16:25:00-05:00\n"
     ]
    },
    {
     "name": "stdout",
     "output_type": "stream",
     "text": [
      "Progress |\u001b[32m\u001b[0m|   0.40%  [Elapsed: 0:12:06 ETA: 2 days, 1:41:07] "
     ]
    },
    {
     "name": "stderr",
     "output_type": "stream",
     "text": [
      "2024-12-10 16:04:47,958: INFO: Current backtesting datetime 2010-01-21 16:25:00-05:00\n"
     ]
    },
    {
     "name": "stdout",
     "output_type": "stream",
     "text": [
      "Progress |\u001b[32m\u001b[0m|   0.42%  [Elapsed: 0:12:06 ETA: 2 days, 0:07:11] "
     ]
    },
    {
     "name": "stderr",
     "output_type": "stream",
     "text": [
      "2024-12-10 16:04:47,961: INFO: Current backtesting datetime 2010-01-22 08:30:00-05:00\n"
     ]
    },
    {
     "name": "stdout",
     "output_type": "stream",
     "text": [
      "Progress |\u001b[32m\u001b[0m|   0.42%  [Elapsed: 0:12:06 ETA: 2 days, 0:02:18] "
     ]
    },
    {
     "name": "stderr",
     "output_type": "stream",
     "text": [
      "2024-12-10 16:04:48,150: INFO: Current backtesting datetime 2010-01-22 09:30:00-05:00\n",
      "2024-12-10 16:04:48,155: INFO: [HumblChannelSingleLong] Processing trade event. Trade event received for HumblChannelSingleLong strategy: new SPY, processed by broker backtesting\n",
      "2024-12-10 16:04:48,155: INFO: [HumblChannelSingleLong] \u001b[32mNew order was created: market order of | 1 SPY buy | new\u001b[0m\n",
      "2024-12-10 16:04:48,158: INFO: [HumblChannelSingleLong] Processing a new order, payload: {'order': market order of | 1 SPY buy | new}\n",
      "2024-12-10 16:04:48,159: INFO: [HumblChannelSingleLong] Getting historical prices for SPY, 1 bars, \n",
      "2024-12-10 16:04:48,161: INFO: [HumblChannelSingleLong] Processing trade event. Trade event received for HumblChannelSingleLong strategy: fill SPY, processed by broker backtesting\n",
      "2024-12-10 16:04:48,161: INFO: [HumblChannelSingleLong] \u001b[32mOrder was filled: market order of | 1 SPY buy | @ $111.2 fill\u001b[0m\n",
      "2024-12-10 16:04:48,164: INFO: [HumblChannelSingleLong] Processing a filled order, payload: {'position': HumblChannelSingleLong Position: 64.0 shares of SPY (92 orders), 'order': market order of | 1 SPY buy | @ $111.2 fill, 'price': 111.19999694824219, 'quantity': 1.0, 'multiplier': 1}\n"
     ]
    },
    {
     "name": "stdout",
     "output_type": "stream",
     "text": [
      "Progress |\u001b[32m\u001b[0m|   0.42%  [Elapsed: 0:12:06 ETA: 1 day, 23:56:44] Portfolio Val: 99,847.54"
     ]
    },
    {
     "name": "stderr",
     "output_type": "stream",
     "text": [
      "2024-12-10 16:04:48,165: INFO: Current backtesting datetime 2010-01-22 10:30:00-05:00\n",
      "2024-12-10 16:04:48,170: INFO: [HumblChannelSingleLong] Processing trade event. Trade event received for HumblChannelSingleLong strategy: new SPY, processed by broker backtesting\n",
      "2024-12-10 16:04:48,170: INFO: [HumblChannelSingleLong] \u001b[32mNew order was created: market order of | 1 SPY buy | new\u001b[0m\n",
      "2024-12-10 16:04:48,173: INFO: [HumblChannelSingleLong] Processing a new order, payload: {'order': market order of | 1 SPY buy | new}\n",
      "2024-12-10 16:04:48,174: INFO: [HumblChannelSingleLong] Getting historical prices for SPY, 1 bars, \n",
      "2024-12-10 16:04:48,176: INFO: [HumblChannelSingleLong] Processing trade event. Trade event received for HumblChannelSingleLong strategy: fill SPY, processed by broker backtesting\n",
      "2024-12-10 16:04:48,176: INFO: [HumblChannelSingleLong] \u001b[32mOrder was filled: market order of | 1 SPY buy | @ $111.2 fill\u001b[0m\n",
      "2024-12-10 16:04:48,178: INFO: [HumblChannelSingleLong] Processing a filled order, payload: {'position': HumblChannelSingleLong Position: 65.0 shares of SPY (93 orders), 'order': market order of | 1 SPY buy | @ $111.2 fill, 'price': 111.19999694824219, 'quantity': 1.0, 'multiplier': 1}\n"
     ]
    },
    {
     "name": "stdout",
     "output_type": "stream",
     "text": [
      "Progress |\u001b[32m\u001b[0m|   0.42%  [Elapsed: 0:12:06 ETA: 1 day, 23:51:11] Portfolio Val: 99,847.54"
     ]
    },
    {
     "name": "stderr",
     "output_type": "stream",
     "text": [
      "2024-12-10 16:04:48,179: INFO: Current backtesting datetime 2010-01-22 11:30:00-05:00\n",
      "2024-12-10 16:04:48,184: INFO: [HumblChannelSingleLong] Processing trade event. Trade event received for HumblChannelSingleLong strategy: new SPY, processed by broker backtesting\n",
      "2024-12-10 16:04:48,184: INFO: [HumblChannelSingleLong] \u001b[32mNew order was created: market order of | 1 SPY buy | new\u001b[0m\n",
      "2024-12-10 16:04:48,187: INFO: [HumblChannelSingleLong] Processing a new order, payload: {'order': market order of | 1 SPY buy | new}\n",
      "2024-12-10 16:04:48,187: INFO: [HumblChannelSingleLong] Getting historical prices for SPY, 1 bars, \n",
      "2024-12-10 16:04:48,189: INFO: [HumblChannelSingleLong] Processing trade event. Trade event received for HumblChannelSingleLong strategy: fill SPY, processed by broker backtesting\n",
      "2024-12-10 16:04:48,190: INFO: [HumblChannelSingleLong] \u001b[32mOrder was filled: market order of | 1 SPY buy | @ $111.2 fill\u001b[0m\n",
      "2024-12-10 16:04:48,192: INFO: [HumblChannelSingleLong] Processing a filled order, payload: {'position': HumblChannelSingleLong Position: 66.0 shares of SPY (94 orders), 'order': market order of | 1 SPY buy | @ $111.2 fill, 'price': 111.19999694824219, 'quantity': 1.0, 'multiplier': 1}\n"
     ]
    },
    {
     "name": "stdout",
     "output_type": "stream",
     "text": [
      "Progress |\u001b[32m\u001b[0m|   0.42%  [Elapsed: 0:12:06 ETA: 1 day, 23:45:39] Portfolio Val: 99,847.54"
     ]
    },
    {
     "name": "stderr",
     "output_type": "stream",
     "text": [
      "2024-12-10 16:04:48,192: INFO: Current backtesting datetime 2010-01-22 12:30:00-05:00\n",
      "2024-12-10 16:04:48,198: INFO: [HumblChannelSingleLong] Processing trade event. Trade event received for HumblChannelSingleLong strategy: new SPY, processed by broker backtesting\n",
      "2024-12-10 16:04:48,199: INFO: [HumblChannelSingleLong] \u001b[32mNew order was created: market order of | 1 SPY buy | new\u001b[0m\n",
      "2024-12-10 16:04:48,201: INFO: [HumblChannelSingleLong] Processing a new order, payload: {'order': market order of | 1 SPY buy | new}\n",
      "2024-12-10 16:04:48,202: INFO: [HumblChannelSingleLong] Getting historical prices for SPY, 1 bars, \n",
      "2024-12-10 16:04:48,203: INFO: [HumblChannelSingleLong] Processing trade event. Trade event received for HumblChannelSingleLong strategy: fill SPY, processed by broker backtesting\n",
      "2024-12-10 16:04:48,204: INFO: [HumblChannelSingleLong] \u001b[32mOrder was filled: market order of | 1 SPY buy | @ $111.2 fill\u001b[0m\n",
      "2024-12-10 16:04:48,206: INFO: [HumblChannelSingleLong] Processing a filled order, payload: {'position': HumblChannelSingleLong Position: 67.0 shares of SPY (95 orders), 'order': market order of | 1 SPY buy | @ $111.2 fill, 'price': 111.19999694824219, 'quantity': 1.0, 'multiplier': 1}\n"
     ]
    },
    {
     "name": "stdout",
     "output_type": "stream",
     "text": [
      "Progress |\u001b[32m\u001b[0m|   0.42%  [Elapsed: 0:12:06 ETA: 1 day, 23:40:09] Portfolio Val: 99,847.54"
     ]
    },
    {
     "name": "stderr",
     "output_type": "stream",
     "text": [
      "2024-12-10 16:04:48,206: INFO: Current backtesting datetime 2010-01-22 13:30:00-05:00\n",
      "2024-12-10 16:04:48,211: INFO: [HumblChannelSingleLong] Processing trade event. Trade event received for HumblChannelSingleLong strategy: new SPY, processed by broker backtesting\n",
      "2024-12-10 16:04:48,212: INFO: [HumblChannelSingleLong] \u001b[32mNew order was created: market order of | 1 SPY buy | new\u001b[0m\n",
      "2024-12-10 16:04:48,215: INFO: [HumblChannelSingleLong] Processing a new order, payload: {'order': market order of | 1 SPY buy | new}\n",
      "2024-12-10 16:04:48,215: INFO: [HumblChannelSingleLong] Getting historical prices for SPY, 1 bars, \n",
      "2024-12-10 16:04:48,217: INFO: [HumblChannelSingleLong] Processing trade event. Trade event received for HumblChannelSingleLong strategy: fill SPY, processed by broker backtesting\n",
      "2024-12-10 16:04:48,217: INFO: [HumblChannelSingleLong] \u001b[32mOrder was filled: market order of | 1 SPY buy | @ $111.2 fill\u001b[0m\n",
      "2024-12-10 16:04:48,219: INFO: [HumblChannelSingleLong] Processing a filled order, payload: {'position': HumblChannelSingleLong Position: 68.0 shares of SPY (96 orders), 'order': market order of | 1 SPY buy | @ $111.2 fill, 'price': 111.19999694824219, 'quantity': 1.0, 'multiplier': 1}\n"
     ]
    },
    {
     "name": "stdout",
     "output_type": "stream",
     "text": [
      "Progress |\u001b[32m\u001b[0m|   0.42%  [Elapsed: 0:12:06 ETA: 1 day, 23:34:39] Portfolio Val: 99,847.54"
     ]
    },
    {
     "name": "stderr",
     "output_type": "stream",
     "text": [
      "2024-12-10 16:04:48,220: INFO: Current backtesting datetime 2010-01-22 14:30:00-05:00\n",
      "2024-12-10 16:04:48,224: INFO: [HumblChannelSingleLong] Processing trade event. Trade event received for HumblChannelSingleLong strategy: new SPY, processed by broker backtesting\n",
      "2024-12-10 16:04:48,225: INFO: [HumblChannelSingleLong] \u001b[32mNew order was created: market order of | 1 SPY buy | new\u001b[0m\n",
      "2024-12-10 16:04:48,230: INFO: [HumblChannelSingleLong] Processing a new order, payload: {'order': market order of | 1 SPY buy | new}\n",
      "2024-12-10 16:04:48,231: INFO: [HumblChannelSingleLong] Getting historical prices for SPY, 1 bars, \n",
      "2024-12-10 16:04:48,233: INFO: [HumblChannelSingleLong] Processing trade event. Trade event received for HumblChannelSingleLong strategy: fill SPY, processed by broker backtesting\n",
      "2024-12-10 16:04:48,233: INFO: [HumblChannelSingleLong] \u001b[32mOrder was filled: market order of | 1 SPY buy | @ $111.2 fill\u001b[0m\n",
      "2024-12-10 16:04:48,236: INFO: [HumblChannelSingleLong] Processing a filled order, payload: {'position': HumblChannelSingleLong Position: 69.0 shares of SPY (97 orders), 'order': market order of | 1 SPY buy | @ $111.2 fill, 'price': 111.19999694824219, 'quantity': 1.0, 'multiplier': 1}\n"
     ]
    },
    {
     "name": "stdout",
     "output_type": "stream",
     "text": [
      "Progress |\u001b[32m\u001b[0m|   0.42%  [Elapsed: 0:12:06 ETA: 1 day, 23:29:12] Portfolio Val: 99,847.54"
     ]
    },
    {
     "name": "stderr",
     "output_type": "stream",
     "text": [
      "2024-12-10 16:04:48,236: INFO: Current backtesting datetime 2010-01-22 15:30:00-05:00\n",
      "2024-12-10 16:04:48,241: INFO: [HumblChannelSingleLong] Processing trade event. Trade event received for HumblChannelSingleLong strategy: new SPY, processed by broker backtesting\n",
      "2024-12-10 16:04:48,241: INFO: [HumblChannelSingleLong] \u001b[32mNew order was created: market order of | 1 SPY buy | new\u001b[0m\n",
      "2024-12-10 16:04:48,245: INFO: [HumblChannelSingleLong] Processing a new order, payload: {'order': market order of | 1 SPY buy | new}\n",
      "2024-12-10 16:04:48,246: INFO: [HumblChannelSingleLong] Getting historical prices for SPY, 1 bars, \n",
      "2024-12-10 16:04:48,248: INFO: [HumblChannelSingleLong] Processing trade event. Trade event received for HumblChannelSingleLong strategy: fill SPY, processed by broker backtesting\n",
      "2024-12-10 16:04:48,248: INFO: [HumblChannelSingleLong] \u001b[32mOrder was filled: market order of | 1 SPY buy | @ $111.2 fill\u001b[0m\n",
      "2024-12-10 16:04:48,250: INFO: [HumblChannelSingleLong] Processing a filled order, payload: {'position': HumblChannelSingleLong Position: 70.0 shares of SPY (98 orders), 'order': market order of | 1 SPY buy | @ $111.2 fill, 'price': 111.19999694824219, 'quantity': 1.0, 'multiplier': 1}\n"
     ]
    },
    {
     "name": "stdout",
     "output_type": "stream",
     "text": [
      "Progress |\u001b[32m\u001b[0m|   0.42%  [Elapsed: 0:12:06 ETA: 1 day, 23:26:30] Portfolio Val: 99,847.54"
     ]
    },
    {
     "name": "stderr",
     "output_type": "stream",
     "text": [
      "2024-12-10 16:04:48,251: INFO: Current backtesting datetime 2010-01-22 16:00:00-05:00\n"
     ]
    },
    {
     "name": "stdout",
     "output_type": "stream",
     "text": [
      "Progress |\u001b[32m\u001b[0m|   0.42%  [Elapsed: 0:12:06 ETA: 1 day, 23:23:46] Portfolio Val: 99,847.54"
     ]
    },
    {
     "name": "stderr",
     "output_type": "stream",
     "text": [
      "2024-12-10 16:04:48,251: INFO: Current backtesting datetime 2010-01-22 16:30:00-05:00\n"
     ]
    },
    {
     "name": "stdout",
     "output_type": "stream",
     "text": [
      "Progress |\u001b[32m\u001b[0m|   0.42%  [Elapsed: 0:12:06 ETA: 1 day, 23:24:14] "
     ]
    },
    {
     "name": "stderr",
     "output_type": "stream",
     "text": [
      "2024-12-10 16:04:48,253: INFO: Current backtesting datetime 2010-01-22 16:25:00-05:00\n"
     ]
    },
    {
     "name": "stdout",
     "output_type": "stream",
     "text": [
      "Progress |\u001b[32m\u001b[0m|   0.42%  [Elapsed: 0:12:06 ETA: 1 day, 23:24:14] "
     ]
    },
    {
     "name": "stderr",
     "output_type": "stream",
     "text": [
      "2024-12-10 16:04:48,253: INFO: Current backtesting datetime 2010-01-22 16:25:00-05:00\n"
     ]
    },
    {
     "name": "stdout",
     "output_type": "stream",
     "text": [
      "Progress |\u001b[32m\u001b[0m|   0.48%  [Elapsed: 0:12:06 ETA: 1 day, 18:11:04] "
     ]
    },
    {
     "name": "stderr",
     "output_type": "stream",
     "text": [
      "2024-12-10 16:04:48,256: INFO: Current backtesting datetime 2010-01-25 08:30:00-05:00\n"
     ]
    },
    {
     "name": "stdout",
     "output_type": "stream",
     "text": [
      "Progress |\u001b[32m\u001b[0m|   0.48%  [Elapsed: 0:12:07 ETA: 1 day, 18:07:59] "
     ]
    },
    {
     "name": "stderr",
     "output_type": "stream",
     "text": [
      "2024-12-10 16:04:48,616: INFO: Current backtesting datetime 2010-01-25 09:30:00-05:00\n",
      "2024-12-10 16:04:48,620: INFO: [HumblChannelSingleLong] Processing trade event. Trade event received for HumblChannelSingleLong strategy: new SPY, processed by broker backtesting\n",
      "2024-12-10 16:04:48,621: INFO: [HumblChannelSingleLong] \u001b[32mNew order was created: market order of | 1 SPY buy | new\u001b[0m\n",
      "2024-12-10 16:04:48,623: INFO: [HumblChannelSingleLong] Processing a new order, payload: {'order': market order of | 1 SPY buy | new}\n",
      "2024-12-10 16:04:48,624: INFO: [HumblChannelSingleLong] Getting historical prices for SPY, 1 bars, \n",
      "2024-12-10 16:04:48,626: INFO: [HumblChannelSingleLong] Processing trade event. Trade event received for HumblChannelSingleLong strategy: fill SPY, processed by broker backtesting\n",
      "2024-12-10 16:04:48,626: INFO: [HumblChannelSingleLong] \u001b[32mOrder was filled: market order of | 1 SPY buy | @ $110.21 fill\u001b[0m\n",
      "2024-12-10 16:04:48,628: INFO: [HumblChannelSingleLong] Processing a filled order, payload: {'position': HumblChannelSingleLong Position: 71.0 shares of SPY (99 orders), 'order': market order of | 1 SPY buy | @ $110.21 fill, 'price': 110.20999908447266, 'quantity': 1.0, 'multiplier': 1}\n"
     ]
    },
    {
     "name": "stdout",
     "output_type": "stream",
     "text": [
      "Progress |\u001b[32m\u001b[0m|   0.48%  [Elapsed: 0:12:07 ETA: 1 day, 18:03:42] Portfolio Val: 99,778.24"
     ]
    },
    {
     "name": "stderr",
     "output_type": "stream",
     "text": [
      "2024-12-10 16:04:48,629: INFO: Current backtesting datetime 2010-01-25 10:30:00-05:00\n",
      "2024-12-10 16:04:48,633: INFO: [HumblChannelSingleLong] Processing trade event. Trade event received for HumblChannelSingleLong strategy: new SPY, processed by broker backtesting\n",
      "2024-12-10 16:04:48,634: INFO: [HumblChannelSingleLong] \u001b[32mNew order was created: market order of | 1 SPY buy | new\u001b[0m\n",
      "2024-12-10 16:04:48,636: INFO: [HumblChannelSingleLong] Processing a new order, payload: {'order': market order of | 1 SPY buy | new}\n",
      "2024-12-10 16:04:48,636: INFO: [HumblChannelSingleLong] Getting historical prices for SPY, 1 bars, \n",
      "2024-12-10 16:04:48,638: INFO: [HumblChannelSingleLong] Processing trade event. Trade event received for HumblChannelSingleLong strategy: fill SPY, processed by broker backtesting\n",
      "2024-12-10 16:04:48,638: INFO: [HumblChannelSingleLong] \u001b[32mOrder was filled: market order of | 1 SPY buy | @ $110.21 fill\u001b[0m\n",
      "2024-12-10 16:04:48,641: INFO: [HumblChannelSingleLong] Processing a filled order, payload: {'position': HumblChannelSingleLong Position: 72.0 shares of SPY (100 orders), 'order': market order of | 1 SPY buy | @ $110.21 fill, 'price': 110.20999908447266, 'quantity': 1.0, 'multiplier': 1}\n"
     ]
    },
    {
     "name": "stdout",
     "output_type": "stream",
     "text": [
      "Progress |\u001b[32m\u001b[0m|   0.48%  [Elapsed: 0:12:07 ETA: 1 day, 17:59:25] Portfolio Val: 99,778.24"
     ]
    },
    {
     "name": "stderr",
     "output_type": "stream",
     "text": [
      "2024-12-10 16:04:48,642: INFO: Current backtesting datetime 2010-01-25 11:30:00-05:00\n",
      "2024-12-10 16:04:48,646: INFO: [HumblChannelSingleLong] Processing trade event. Trade event received for HumblChannelSingleLong strategy: new SPY, processed by broker backtesting\n",
      "2024-12-10 16:04:48,647: INFO: [HumblChannelSingleLong] \u001b[32mNew order was created: market order of | 1 SPY buy | new\u001b[0m\n",
      "2024-12-10 16:04:48,649: INFO: [HumblChannelSingleLong] Processing a new order, payload: {'order': market order of | 1 SPY buy | new}\n",
      "2024-12-10 16:04:48,650: INFO: [HumblChannelSingleLong] Getting historical prices for SPY, 1 bars, \n",
      "2024-12-10 16:04:48,651: INFO: [HumblChannelSingleLong] Processing trade event. Trade event received for HumblChannelSingleLong strategy: fill SPY, processed by broker backtesting\n",
      "2024-12-10 16:04:48,652: INFO: [HumblChannelSingleLong] \u001b[32mOrder was filled: market order of | 1 SPY buy | @ $110.21 fill\u001b[0m\n",
      "2024-12-10 16:04:48,654: INFO: [HumblChannelSingleLong] Processing a filled order, payload: {'position': HumblChannelSingleLong Position: 73.0 shares of SPY (101 orders), 'order': market order of | 1 SPY buy | @ $110.21 fill, 'price': 110.20999908447266, 'quantity': 1.0, 'multiplier': 1}\n"
     ]
    },
    {
     "name": "stdout",
     "output_type": "stream",
     "text": [
      "Progress |\u001b[32m\u001b[0m|   0.48%  [Elapsed: 0:12:07 ETA: 1 day, 17:55:10] Portfolio Val: 99,778.24"
     ]
    },
    {
     "name": "stderr",
     "output_type": "stream",
     "text": [
      "2024-12-10 16:04:48,655: INFO: Current backtesting datetime 2010-01-25 12:30:00-05:00\n",
      "2024-12-10 16:04:48,659: INFO: [HumblChannelSingleLong] Processing trade event. Trade event received for HumblChannelSingleLong strategy: new SPY, processed by broker backtesting\n",
      "2024-12-10 16:04:48,660: INFO: [HumblChannelSingleLong] \u001b[32mNew order was created: market order of | 1 SPY buy | new\u001b[0m\n",
      "2024-12-10 16:04:48,662: INFO: [HumblChannelSingleLong] Processing a new order, payload: {'order': market order of | 1 SPY buy | new}\n",
      "2024-12-10 16:04:48,662: INFO: [HumblChannelSingleLong] Getting historical prices for SPY, 1 bars, \n",
      "2024-12-10 16:04:48,664: INFO: [HumblChannelSingleLong] Processing trade event. Trade event received for HumblChannelSingleLong strategy: fill SPY, processed by broker backtesting\n",
      "2024-12-10 16:04:48,665: INFO: [HumblChannelSingleLong] \u001b[32mOrder was filled: market order of | 1 SPY buy | @ $110.21 fill\u001b[0m\n",
      "2024-12-10 16:04:48,667: INFO: [HumblChannelSingleLong] Processing a filled order, payload: {'position': HumblChannelSingleLong Position: 74.0 shares of SPY (102 orders), 'order': market order of | 1 SPY buy | @ $110.21 fill, 'price': 110.20999908447266, 'quantity': 1.0, 'multiplier': 1}\n"
     ]
    },
    {
     "name": "stdout",
     "output_type": "stream",
     "text": [
      "Progress |\u001b[32m\u001b[0m|   0.48%  [Elapsed: 0:12:07 ETA: 1 day, 17:50:55] Portfolio Val: 99,778.24"
     ]
    },
    {
     "name": "stderr",
     "output_type": "stream",
     "text": [
      "2024-12-10 16:04:48,667: INFO: Current backtesting datetime 2010-01-25 13:30:00-05:00\n",
      "2024-12-10 16:04:48,671: INFO: [HumblChannelSingleLong] Processing trade event. Trade event received for HumblChannelSingleLong strategy: new SPY, processed by broker backtesting\n",
      "2024-12-10 16:04:48,672: INFO: [HumblChannelSingleLong] \u001b[32mNew order was created: market order of | 1 SPY buy | new\u001b[0m\n",
      "2024-12-10 16:04:48,674: INFO: [HumblChannelSingleLong] Processing a new order, payload: {'order': market order of | 1 SPY buy | new}\n",
      "2024-12-10 16:04:48,674: INFO: [HumblChannelSingleLong] Getting historical prices for SPY, 1 bars, \n",
      "2024-12-10 16:04:48,676: INFO: [HumblChannelSingleLong] Processing trade event. Trade event received for HumblChannelSingleLong strategy: fill SPY, processed by broker backtesting\n",
      "2024-12-10 16:04:48,677: INFO: [HumblChannelSingleLong] \u001b[32mOrder was filled: market order of | 1 SPY buy | @ $110.21 fill\u001b[0m\n",
      "2024-12-10 16:04:48,679: INFO: [HumblChannelSingleLong] Processing a filled order, payload: {'position': HumblChannelSingleLong Position: 75.0 shares of SPY (103 orders), 'order': market order of | 1 SPY buy | @ $110.21 fill, 'price': 110.20999908447266, 'quantity': 1.0, 'multiplier': 1}\n"
     ]
    },
    {
     "name": "stdout",
     "output_type": "stream",
     "text": [
      "Progress |\u001b[32m\u001b[0m|   0.48%  [Elapsed: 0:12:07 ETA: 1 day, 17:46:41] Portfolio Val: 99,778.24"
     ]
    },
    {
     "name": "stderr",
     "output_type": "stream",
     "text": [
      "2024-12-10 16:04:48,679: INFO: Current backtesting datetime 2010-01-25 14:30:00-05:00\n",
      "2024-12-10 16:04:48,683: INFO: [HumblChannelSingleLong] Processing trade event. Trade event received for HumblChannelSingleLong strategy: new SPY, processed by broker backtesting\n",
      "2024-12-10 16:04:48,683: INFO: [HumblChannelSingleLong] \u001b[32mNew order was created: market order of | 1 SPY buy | new\u001b[0m\n",
      "2024-12-10 16:04:48,685: INFO: [HumblChannelSingleLong] Processing a new order, payload: {'order': market order of | 1 SPY buy | new}\n",
      "2024-12-10 16:04:48,686: INFO: [HumblChannelSingleLong] Getting historical prices for SPY, 1 bars, \n",
      "2024-12-10 16:04:48,688: INFO: [HumblChannelSingleLong] Processing trade event. Trade event received for HumblChannelSingleLong strategy: fill SPY, processed by broker backtesting\n",
      "2024-12-10 16:04:48,688: INFO: [HumblChannelSingleLong] \u001b[32mOrder was filled: market order of | 1 SPY buy | @ $110.21 fill\u001b[0m\n",
      "2024-12-10 16:04:48,690: INFO: [HumblChannelSingleLong] Processing a filled order, payload: {'position': HumblChannelSingleLong Position: 76.0 shares of SPY (104 orders), 'order': market order of | 1 SPY buy | @ $110.21 fill, 'price': 110.20999908447266, 'quantity': 1.0, 'multiplier': 1}\n"
     ]
    },
    {
     "name": "stdout",
     "output_type": "stream",
     "text": [
      "Progress |\u001b[32m\u001b[0m|   0.48%  [Elapsed: 0:12:07 ETA: 1 day, 17:42:28] Portfolio Val: 99,778.24"
     ]
    },
    {
     "name": "stderr",
     "output_type": "stream",
     "text": [
      "2024-12-10 16:04:48,691: INFO: Current backtesting datetime 2010-01-25 15:30:00-05:00\n",
      "2024-12-10 16:04:48,695: INFO: [HumblChannelSingleLong] Processing trade event. Trade event received for HumblChannelSingleLong strategy: new SPY, processed by broker backtesting\n",
      "2024-12-10 16:04:48,696: INFO: [HumblChannelSingleLong] \u001b[32mNew order was created: market order of | 1 SPY buy | new\u001b[0m\n",
      "2024-12-10 16:04:48,698: INFO: [HumblChannelSingleLong] Processing a new order, payload: {'order': market order of | 1 SPY buy | new}\n",
      "2024-12-10 16:04:48,699: INFO: [HumblChannelSingleLong] Getting historical prices for SPY, 1 bars, \n",
      "2024-12-10 16:04:48,701: INFO: [HumblChannelSingleLong] Processing trade event. Trade event received for HumblChannelSingleLong strategy: fill SPY, processed by broker backtesting\n",
      "2024-12-10 16:04:48,701: INFO: [HumblChannelSingleLong] \u001b[32mOrder was filled: market order of | 1 SPY buy | @ $110.21 fill\u001b[0m\n",
      "2024-12-10 16:04:48,703: INFO: [HumblChannelSingleLong] Processing a filled order, payload: {'position': HumblChannelSingleLong Position: 77.0 shares of SPY (105 orders), 'order': market order of | 1 SPY buy | @ $110.21 fill, 'price': 110.20999908447266, 'quantity': 1.0, 'multiplier': 1}\n"
     ]
    },
    {
     "name": "stdout",
     "output_type": "stream",
     "text": [
      "Progress |\u001b[32m\u001b[0m|   0.48%  [Elapsed: 0:12:07 ETA: 1 day, 17:40:24] Portfolio Val: 99,778.24"
     ]
    },
    {
     "name": "stderr",
     "output_type": "stream",
     "text": [
      "2024-12-10 16:04:48,703: INFO: Current backtesting datetime 2010-01-25 16:00:00-05:00\n"
     ]
    },
    {
     "name": "stdout",
     "output_type": "stream",
     "text": [
      "Progress |\u001b[32m\u001b[0m|   0.48%  [Elapsed: 0:12:07 ETA: 1 day, 17:38:16] Portfolio Val: 99,778.24"
     ]
    },
    {
     "name": "stderr",
     "output_type": "stream",
     "text": [
      "2024-12-10 16:04:48,704: INFO: Current backtesting datetime 2010-01-25 16:30:00-05:00\n"
     ]
    },
    {
     "name": "stdout",
     "output_type": "stream",
     "text": [
      "Progress |\u001b[32m\u001b[0m|   0.48%  [Elapsed: 0:12:07 ETA: 1 day, 17:38:38] "
     ]
    },
    {
     "name": "stderr",
     "output_type": "stream",
     "text": [
      "2024-12-10 16:04:48,705: INFO: Current backtesting datetime 2010-01-25 16:25:00-05:00\n"
     ]
    },
    {
     "name": "stdout",
     "output_type": "stream",
     "text": [
      "Progress |\u001b[32m\u001b[0m|   0.48%  [Elapsed: 0:12:07 ETA: 1 day, 17:38:38] "
     ]
    },
    {
     "name": "stderr",
     "output_type": "stream",
     "text": [
      "2024-12-10 16:04:48,706: INFO: Current backtesting datetime 2010-01-25 16:25:00-05:00\n"
     ]
    },
    {
     "name": "stdout",
     "output_type": "stream",
     "text": [
      "Progress |\u001b[32m\u001b[0m|   0.50%  [Elapsed: 0:12:07 ETA: 1 day, 16:32:17] "
     ]
    },
    {
     "name": "stderr",
     "output_type": "stream",
     "text": [
      "2024-12-10 16:04:48,708: INFO: Current backtesting datetime 2010-01-26 08:30:00-05:00\n"
     ]
    },
    {
     "name": "stdout",
     "output_type": "stream",
     "text": [
      "Progress |\u001b[32m\u001b[0m|   0.50%  [Elapsed: 0:12:07 ETA: 1 day, 16:28:53] "
     ]
    },
    {
     "name": "stderr",
     "output_type": "stream",
     "text": [
      "2024-12-10 16:04:48,894: INFO: Current backtesting datetime 2010-01-26 09:30:00-05:00\n",
      "2024-12-10 16:04:48,898: INFO: [HumblChannelSingleLong] Processing trade event. Trade event received for HumblChannelSingleLong strategy: new SPY, processed by broker backtesting\n",
      "2024-12-10 16:04:48,898: INFO: [HumblChannelSingleLong] \u001b[32mNew order was created: market order of | 1 SPY buy | new\u001b[0m\n",
      "2024-12-10 16:04:48,901: INFO: [HumblChannelSingleLong] Processing a new order, payload: {'order': market order of | 1 SPY buy | new}\n",
      "2024-12-10 16:04:48,901: INFO: [HumblChannelSingleLong] Getting historical prices for SPY, 1 bars, \n",
      "2024-12-10 16:04:48,903: INFO: [HumblChannelSingleLong] Processing trade event. Trade event received for HumblChannelSingleLong strategy: fill SPY, processed by broker backtesting\n",
      "2024-12-10 16:04:48,903: INFO: [HumblChannelSingleLong] \u001b[32mOrder was filled: market order of | 1 SPY buy | @ $109.34 fill\u001b[0m\n",
      "2024-12-10 16:04:48,906: INFO: [HumblChannelSingleLong] Processing a filled order, payload: {'position': HumblChannelSingleLong Position: 78.0 shares of SPY (106 orders), 'order': market order of | 1 SPY buy | @ $109.34 fill, 'price': 109.33999633789062, 'quantity': 1.0, 'multiplier': 1}\n"
     ]
    },
    {
     "name": "stdout",
     "output_type": "stream",
     "text": [
      "Progress |\u001b[32m\u001b[0m|   0.50%  [Elapsed: 0:12:07 ETA: 1 day, 16:24:56] Portfolio Val: 99,711.25"
     ]
    },
    {
     "name": "stderr",
     "output_type": "stream",
     "text": [
      "2024-12-10 16:04:48,906: INFO: Current backtesting datetime 2010-01-26 10:30:00-05:00\n",
      "2024-12-10 16:04:48,910: INFO: [HumblChannelSingleLong] Processing trade event. Trade event received for HumblChannelSingleLong strategy: new SPY, processed by broker backtesting\n",
      "2024-12-10 16:04:48,911: INFO: [HumblChannelSingleLong] \u001b[32mNew order was created: market order of | 1 SPY buy | new\u001b[0m\n",
      "2024-12-10 16:04:48,913: INFO: [HumblChannelSingleLong] Processing a new order, payload: {'order': market order of | 1 SPY buy | new}\n",
      "2024-12-10 16:04:48,913: INFO: [HumblChannelSingleLong] Getting historical prices for SPY, 1 bars, \n",
      "2024-12-10 16:04:48,915: INFO: [HumblChannelSingleLong] Processing trade event. Trade event received for HumblChannelSingleLong strategy: fill SPY, processed by broker backtesting\n",
      "2024-12-10 16:04:48,916: INFO: [HumblChannelSingleLong] \u001b[32mOrder was filled: market order of | 1 SPY buy | @ $109.34 fill\u001b[0m\n",
      "2024-12-10 16:04:48,917: INFO: [HumblChannelSingleLong] Processing a filled order, payload: {'position': HumblChannelSingleLong Position: 79.0 shares of SPY (107 orders), 'order': market order of | 1 SPY buy | @ $109.34 fill, 'price': 109.33999633789062, 'quantity': 1.0, 'multiplier': 1}\n"
     ]
    },
    {
     "name": "stdout",
     "output_type": "stream",
     "text": [
      "Progress |\u001b[32m\u001b[0m|   0.50%  [Elapsed: 0:12:07 ETA: 1 day, 16:20:59] Portfolio Val: 99,711.25"
     ]
    },
    {
     "name": "stderr",
     "output_type": "stream",
     "text": [
      "2024-12-10 16:04:48,918: INFO: Current backtesting datetime 2010-01-26 11:30:00-05:00\n",
      "2024-12-10 16:04:48,922: INFO: [HumblChannelSingleLong] Processing trade event. Trade event received for HumblChannelSingleLong strategy: new SPY, processed by broker backtesting\n",
      "2024-12-10 16:04:48,922: INFO: [HumblChannelSingleLong] \u001b[32mNew order was created: market order of | 1 SPY buy | new\u001b[0m\n",
      "2024-12-10 16:04:48,925: INFO: [HumblChannelSingleLong] Processing a new order, payload: {'order': market order of | 1 SPY buy | new}\n",
      "2024-12-10 16:04:48,925: INFO: [HumblChannelSingleLong] Getting historical prices for SPY, 1 bars, \n",
      "2024-12-10 16:04:48,927: INFO: [HumblChannelSingleLong] Processing trade event. Trade event received for HumblChannelSingleLong strategy: fill SPY, processed by broker backtesting\n",
      "2024-12-10 16:04:48,927: INFO: [HumblChannelSingleLong] \u001b[32mOrder was filled: market order of | 1 SPY buy | @ $109.34 fill\u001b[0m\n",
      "2024-12-10 16:04:48,929: INFO: [HumblChannelSingleLong] Processing a filled order, payload: {'position': HumblChannelSingleLong Position: 80.0 shares of SPY (108 orders), 'order': market order of | 1 SPY buy | @ $109.34 fill, 'price': 109.33999633789062, 'quantity': 1.0, 'multiplier': 1}\n"
     ]
    },
    {
     "name": "stdout",
     "output_type": "stream",
     "text": [
      "Progress |\u001b[32m\u001b[0m|   0.50%  [Elapsed: 0:12:07 ETA: 1 day, 16:17:03] Portfolio Val: 99,711.25"
     ]
    },
    {
     "name": "stderr",
     "output_type": "stream",
     "text": [
      "2024-12-10 16:04:48,929: INFO: Current backtesting datetime 2010-01-26 12:30:00-05:00\n",
      "2024-12-10 16:04:48,934: INFO: [HumblChannelSingleLong] Processing trade event. Trade event received for HumblChannelSingleLong strategy: new SPY, processed by broker backtesting\n",
      "2024-12-10 16:04:48,934: INFO: [HumblChannelSingleLong] \u001b[32mNew order was created: market order of | 1 SPY buy | new\u001b[0m\n",
      "2024-12-10 16:04:48,936: INFO: [HumblChannelSingleLong] Processing a new order, payload: {'order': market order of | 1 SPY buy | new}\n",
      "2024-12-10 16:04:48,937: INFO: [HumblChannelSingleLong] Getting historical prices for SPY, 1 bars, \n",
      "2024-12-10 16:04:48,938: INFO: [HumblChannelSingleLong] Processing trade event. Trade event received for HumblChannelSingleLong strategy: fill SPY, processed by broker backtesting\n",
      "2024-12-10 16:04:48,939: INFO: [HumblChannelSingleLong] \u001b[32mOrder was filled: market order of | 1 SPY buy | @ $109.34 fill\u001b[0m\n",
      "2024-12-10 16:04:48,941: INFO: [HumblChannelSingleLong] Processing a filled order, payload: {'position': HumblChannelSingleLong Position: 81.0 shares of SPY (109 orders), 'order': market order of | 1 SPY buy | @ $109.34 fill, 'price': 109.33999633789062, 'quantity': 1.0, 'multiplier': 1}\n"
     ]
    },
    {
     "name": "stdout",
     "output_type": "stream",
     "text": [
      "Progress |\u001b[32m\u001b[0m|   0.50%  [Elapsed: 0:12:07 ETA: 1 day, 16:13:08] Portfolio Val: 99,711.25"
     ]
    },
    {
     "name": "stderr",
     "output_type": "stream",
     "text": [
      "2024-12-10 16:04:48,941: INFO: Current backtesting datetime 2010-01-26 13:30:00-05:00\n",
      "2024-12-10 16:04:48,945: INFO: [HumblChannelSingleLong] Processing trade event. Trade event received for HumblChannelSingleLong strategy: new SPY, processed by broker backtesting\n",
      "2024-12-10 16:04:48,945: INFO: [HumblChannelSingleLong] \u001b[32mNew order was created: market order of | 1 SPY buy | new\u001b[0m\n",
      "2024-12-10 16:04:48,948: INFO: [HumblChannelSingleLong] Processing a new order, payload: {'order': market order of | 1 SPY buy | new}\n",
      "2024-12-10 16:04:48,948: INFO: [HumblChannelSingleLong] Getting historical prices for SPY, 1 bars, \n",
      "2024-12-10 16:04:48,950: INFO: [HumblChannelSingleLong] Processing trade event. Trade event received for HumblChannelSingleLong strategy: fill SPY, processed by broker backtesting\n",
      "2024-12-10 16:04:48,951: INFO: [HumblChannelSingleLong] \u001b[32mOrder was filled: market order of | 1 SPY buy | @ $109.34 fill\u001b[0m\n",
      "2024-12-10 16:04:48,953: INFO: [HumblChannelSingleLong] Processing a filled order, payload: {'position': HumblChannelSingleLong Position: 82.0 shares of SPY (110 orders), 'order': market order of | 1 SPY buy | @ $109.34 fill, 'price': 109.33999633789062, 'quantity': 1.0, 'multiplier': 1}\n"
     ]
    },
    {
     "name": "stdout",
     "output_type": "stream",
     "text": [
      "Progress |\u001b[32m\u001b[0m|   0.50%  [Elapsed: 0:12:07 ETA: 1 day, 16:09:13] Portfolio Val: 99,711.25"
     ]
    },
    {
     "name": "stderr",
     "output_type": "stream",
     "text": [
      "2024-12-10 16:04:48,953: INFO: Current backtesting datetime 2010-01-26 14:30:00-05:00\n",
      "2024-12-10 16:04:48,957: INFO: [HumblChannelSingleLong] Processing trade event. Trade event received for HumblChannelSingleLong strategy: new SPY, processed by broker backtesting\n",
      "2024-12-10 16:04:48,957: INFO: [HumblChannelSingleLong] \u001b[32mNew order was created: market order of | 1 SPY buy | new\u001b[0m\n",
      "2024-12-10 16:04:48,960: INFO: [HumblChannelSingleLong] Processing a new order, payload: {'order': market order of | 1 SPY buy | new}\n",
      "2024-12-10 16:04:48,960: INFO: [HumblChannelSingleLong] Getting historical prices for SPY, 1 bars, \n",
      "2024-12-10 16:04:48,962: INFO: [HumblChannelSingleLong] Processing trade event. Trade event received for HumblChannelSingleLong strategy: fill SPY, processed by broker backtesting\n",
      "2024-12-10 16:04:48,962: INFO: [HumblChannelSingleLong] \u001b[32mOrder was filled: market order of | 1 SPY buy | @ $109.34 fill\u001b[0m\n",
      "2024-12-10 16:04:48,964: INFO: [HumblChannelSingleLong] Processing a filled order, payload: {'position': HumblChannelSingleLong Position: 83.0 shares of SPY (111 orders), 'order': market order of | 1 SPY buy | @ $109.34 fill, 'price': 109.33999633789062, 'quantity': 1.0, 'multiplier': 1}\n"
     ]
    },
    {
     "name": "stdout",
     "output_type": "stream",
     "text": [
      "Progress |\u001b[32m\u001b[0m|   0.50%  [Elapsed: 0:12:07 ETA: 1 day, 16:05:20] Portfolio Val: 99,711.25"
     ]
    },
    {
     "name": "stderr",
     "output_type": "stream",
     "text": [
      "2024-12-10 16:04:48,964: INFO: Current backtesting datetime 2010-01-26 15:30:00-05:00\n",
      "2024-12-10 16:04:48,968: INFO: [HumblChannelSingleLong] Processing trade event. Trade event received for HumblChannelSingleLong strategy: new SPY, processed by broker backtesting\n",
      "2024-12-10 16:04:48,968: INFO: [HumblChannelSingleLong] \u001b[32mNew order was created: market order of | 1 SPY buy | new\u001b[0m\n",
      "2024-12-10 16:04:48,971: INFO: [HumblChannelSingleLong] Processing a new order, payload: {'order': market order of | 1 SPY buy | new}\n",
      "2024-12-10 16:04:48,971: INFO: [HumblChannelSingleLong] Getting historical prices for SPY, 1 bars, \n",
      "2024-12-10 16:04:48,973: INFO: [HumblChannelSingleLong] Processing trade event. Trade event received for HumblChannelSingleLong strategy: fill SPY, processed by broker backtesting\n",
      "2024-12-10 16:04:48,973: INFO: [HumblChannelSingleLong] \u001b[32mOrder was filled: market order of | 1 SPY buy | @ $109.34 fill\u001b[0m\n",
      "2024-12-10 16:04:48,975: INFO: [HumblChannelSingleLong] Processing a filled order, payload: {'position': HumblChannelSingleLong Position: 84.0 shares of SPY (112 orders), 'order': market order of | 1 SPY buy | @ $109.34 fill, 'price': 109.33999633789062, 'quantity': 1.0, 'multiplier': 1}\n"
     ]
    },
    {
     "name": "stdout",
     "output_type": "stream",
     "text": [
      "Progress |\u001b[32m\u001b[0m|   0.50%  [Elapsed: 0:12:07 ETA: 1 day, 16:03:24] Portfolio Val: 99,711.25"
     ]
    },
    {
     "name": "stderr",
     "output_type": "stream",
     "text": [
      "2024-12-10 16:04:48,975: INFO: Current backtesting datetime 2010-01-26 16:00:00-05:00\n"
     ]
    },
    {
     "name": "stdout",
     "output_type": "stream",
     "text": [
      "Progress |\u001b[32m\u001b[0m|   0.50%  [Elapsed: 0:12:07 ETA: 1 day, 16:01:27] Portfolio Val: 99,711.25"
     ]
    },
    {
     "name": "stderr",
     "output_type": "stream",
     "text": [
      "2024-12-10 16:04:48,976: INFO: Current backtesting datetime 2010-01-26 16:30:00-05:00\n"
     ]
    },
    {
     "name": "stdout",
     "output_type": "stream",
     "text": [
      "Progress |\u001b[32m\u001b[0m|   0.50%  [Elapsed: 0:12:07 ETA: 1 day, 16:01:47] "
     ]
    },
    {
     "name": "stderr",
     "output_type": "stream",
     "text": [
      "2024-12-10 16:04:48,978: INFO: Current backtesting datetime 2010-01-26 16:25:00-05:00\n"
     ]
    },
    {
     "name": "stdout",
     "output_type": "stream",
     "text": [
      "Progress |\u001b[32m\u001b[0m|   0.50%  [Elapsed: 0:12:07 ETA: 1 day, 16:01:47] "
     ]
    },
    {
     "name": "stderr",
     "output_type": "stream",
     "text": [
      "2024-12-10 16:04:48,978: INFO: Current backtesting datetime 2010-01-26 16:25:00-05:00\n"
     ]
    },
    {
     "name": "stdout",
     "output_type": "stream",
     "text": [
      "Progress |\u001b[32m\u001b[0m|   0.52%  [Elapsed: 0:12:07 ETA: 1 day, 15:00:24] "
     ]
    },
    {
     "name": "stderr",
     "output_type": "stream",
     "text": [
      "2024-12-10 16:04:48,981: INFO: Current backtesting datetime 2010-01-27 08:30:00-05:00\n"
     ]
    },
    {
     "name": "stdout",
     "output_type": "stream",
     "text": [
      "Progress |\u001b[32m\u001b[0m|   0.52%  [Elapsed: 0:12:07 ETA: 1 day, 14:57:17] "
     ]
    },
    {
     "name": "stderr",
     "output_type": "stream",
     "text": [
      "2024-12-10 16:04:49,165: INFO: Current backtesting datetime 2010-01-27 09:30:00-05:00\n",
      "2024-12-10 16:04:49,169: INFO: [HumblChannelSingleLong] Processing trade event. Trade event received for HumblChannelSingleLong strategy: new SPY, processed by broker backtesting\n",
      "2024-12-10 16:04:49,170: INFO: [HumblChannelSingleLong] \u001b[32mNew order was created: market order of | 1 SPY buy | new\u001b[0m\n",
      "2024-12-10 16:04:49,172: INFO: [HumblChannelSingleLong] Processing a new order, payload: {'order': market order of | 1 SPY buy | new}\n",
      "2024-12-10 16:04:49,172: INFO: [HumblChannelSingleLong] Getting historical prices for SPY, 1 bars, \n",
      "2024-12-10 16:04:49,174: INFO: [HumblChannelSingleLong] Processing trade event. Trade event received for HumblChannelSingleLong strategy: fill SPY, processed by broker backtesting\n",
      "2024-12-10 16:04:49,174: INFO: [HumblChannelSingleLong] \u001b[32mOrder was filled: market order of | 1 SPY buy | @ $109.17 fill\u001b[0m\n",
      "2024-12-10 16:04:49,176: INFO: [HumblChannelSingleLong] Processing a filled order, payload: {'position': HumblChannelSingleLong Position: 85.0 shares of SPY (113 orders), 'order': market order of | 1 SPY buy | @ $109.17 fill, 'price': 109.16999816894531, 'quantity': 1.0, 'multiplier': 1}\n"
     ]
    },
    {
     "name": "stdout",
     "output_type": "stream",
     "text": [
      "Progress |\u001b[32m\u001b[0m|   0.52%  [Elapsed: 0:12:07 ETA: 1 day, 14:53:37] Portfolio Val: 99,696.97"
     ]
    },
    {
     "name": "stderr",
     "output_type": "stream",
     "text": [
      "2024-12-10 16:04:49,177: INFO: Current backtesting datetime 2010-01-27 10:30:00-05:00\n",
      "2024-12-10 16:04:49,182: INFO: [HumblChannelSingleLong] Processing trade event. Trade event received for HumblChannelSingleLong strategy: new SPY, processed by broker backtesting\n",
      "2024-12-10 16:04:49,183: INFO: [HumblChannelSingleLong] \u001b[32mNew order was created: market order of | 1 SPY buy | new\u001b[0m\n",
      "2024-12-10 16:04:49,185: INFO: [HumblChannelSingleLong] Processing a new order, payload: {'order': market order of | 1 SPY buy | new}\n",
      "2024-12-10 16:04:49,186: INFO: [HumblChannelSingleLong] Getting historical prices for SPY, 1 bars, \n",
      "2024-12-10 16:04:49,187: INFO: [HumblChannelSingleLong] Processing trade event. Trade event received for HumblChannelSingleLong strategy: fill SPY, processed by broker backtesting\n",
      "2024-12-10 16:04:49,188: INFO: [HumblChannelSingleLong] \u001b[32mOrder was filled: market order of | 1 SPY buy | @ $109.17 fill\u001b[0m\n",
      "2024-12-10 16:04:49,190: INFO: [HumblChannelSingleLong] Processing a filled order, payload: {'position': HumblChannelSingleLong Position: 86.0 shares of SPY (114 orders), 'order': market order of | 1 SPY buy | @ $109.17 fill, 'price': 109.16999816894531, 'quantity': 1.0, 'multiplier': 1}\n"
     ]
    },
    {
     "name": "stdout",
     "output_type": "stream",
     "text": [
      "Progress |\u001b[32m\u001b[0m|   0.52%  [Elapsed: 0:12:07 ETA: 1 day, 14:49:58] Portfolio Val: 99,696.97"
     ]
    },
    {
     "name": "stderr",
     "output_type": "stream",
     "text": [
      "2024-12-10 16:04:49,190: INFO: Current backtesting datetime 2010-01-27 11:30:00-05:00\n",
      "2024-12-10 16:04:49,194: INFO: [HumblChannelSingleLong] Processing trade event. Trade event received for HumblChannelSingleLong strategy: new SPY, processed by broker backtesting\n",
      "2024-12-10 16:04:49,194: INFO: [HumblChannelSingleLong] \u001b[32mNew order was created: market order of | 1 SPY buy | new\u001b[0m\n",
      "2024-12-10 16:04:49,197: INFO: [HumblChannelSingleLong] Processing a new order, payload: {'order': market order of | 1 SPY buy | new}\n",
      "2024-12-10 16:04:49,197: INFO: [HumblChannelSingleLong] Getting historical prices for SPY, 1 bars, \n",
      "2024-12-10 16:04:49,199: INFO: [HumblChannelSingleLong] Processing trade event. Trade event received for HumblChannelSingleLong strategy: fill SPY, processed by broker backtesting\n",
      "2024-12-10 16:04:49,200: INFO: [HumblChannelSingleLong] \u001b[32mOrder was filled: market order of | 1 SPY buy | @ $109.17 fill\u001b[0m\n",
      "2024-12-10 16:04:49,203: INFO: [HumblChannelSingleLong] Processing a filled order, payload: {'position': HumblChannelSingleLong Position: 87.0 shares of SPY (115 orders), 'order': market order of | 1 SPY buy | @ $109.17 fill, 'price': 109.16999816894531, 'quantity': 1.0, 'multiplier': 1}\n"
     ]
    },
    {
     "name": "stdout",
     "output_type": "stream",
     "text": [
      "Progress |\u001b[32m\u001b[0m|   0.52%  [Elapsed: 0:12:07 ETA: 1 day, 14:46:20] Portfolio Val: 99,696.97"
     ]
    },
    {
     "name": "stderr",
     "output_type": "stream",
     "text": [
      "2024-12-10 16:04:49,204: INFO: Current backtesting datetime 2010-01-27 12:30:00-05:00\n",
      "2024-12-10 16:04:49,209: INFO: [HumblChannelSingleLong] Processing trade event. Trade event received for HumblChannelSingleLong strategy: new SPY, processed by broker backtesting\n",
      "2024-12-10 16:04:49,210: INFO: [HumblChannelSingleLong] \u001b[32mNew order was created: market order of | 1 SPY buy | new\u001b[0m\n",
      "2024-12-10 16:04:49,212: INFO: [HumblChannelSingleLong] Processing a new order, payload: {'order': market order of | 1 SPY buy | new}\n",
      "2024-12-10 16:04:49,213: INFO: [HumblChannelSingleLong] Getting historical prices for SPY, 1 bars, \n",
      "2024-12-10 16:04:49,214: INFO: [HumblChannelSingleLong] Processing trade event. Trade event received for HumblChannelSingleLong strategy: fill SPY, processed by broker backtesting\n",
      "2024-12-10 16:04:49,215: INFO: [HumblChannelSingleLong] \u001b[32mOrder was filled: market order of | 1 SPY buy | @ $109.17 fill\u001b[0m\n",
      "2024-12-10 16:04:49,216: INFO: [HumblChannelSingleLong] Processing a filled order, payload: {'position': HumblChannelSingleLong Position: 88.0 shares of SPY (116 orders), 'order': market order of | 1 SPY buy | @ $109.17 fill, 'price': 109.16999816894531, 'quantity': 1.0, 'multiplier': 1}\n"
     ]
    },
    {
     "name": "stdout",
     "output_type": "stream",
     "text": [
      "Progress |\u001b[32m\u001b[0m|   0.52%  [Elapsed: 0:12:07 ETA: 1 day, 14:42:42] Portfolio Val: 99,696.97"
     ]
    },
    {
     "name": "stderr",
     "output_type": "stream",
     "text": [
      "2024-12-10 16:04:49,217: INFO: Current backtesting datetime 2010-01-27 13:30:00-05:00\n",
      "2024-12-10 16:04:49,221: INFO: [HumblChannelSingleLong] Processing trade event. Trade event received for HumblChannelSingleLong strategy: new SPY, processed by broker backtesting\n",
      "2024-12-10 16:04:49,221: INFO: [HumblChannelSingleLong] \u001b[32mNew order was created: market order of | 1 SPY buy | new\u001b[0m\n",
      "2024-12-10 16:04:49,224: INFO: [HumblChannelSingleLong] Processing a new order, payload: {'order': market order of | 1 SPY buy | new}\n",
      "2024-12-10 16:04:49,224: INFO: [HumblChannelSingleLong] Getting historical prices for SPY, 1 bars, \n",
      "2024-12-10 16:04:49,226: INFO: [HumblChannelSingleLong] Processing trade event. Trade event received for HumblChannelSingleLong strategy: fill SPY, processed by broker backtesting\n",
      "2024-12-10 16:04:49,226: INFO: [HumblChannelSingleLong] \u001b[32mOrder was filled: market order of | 1 SPY buy | @ $109.17 fill\u001b[0m\n",
      "2024-12-10 16:04:49,229: INFO: [HumblChannelSingleLong] Processing a filled order, payload: {'position': HumblChannelSingleLong Position: 89.0 shares of SPY (117 orders), 'order': market order of | 1 SPY buy | @ $109.17 fill, 'price': 109.16999816894531, 'quantity': 1.0, 'multiplier': 1}\n"
     ]
    },
    {
     "name": "stdout",
     "output_type": "stream",
     "text": [
      "Progress |\u001b[32m\u001b[0m|   0.52%  [Elapsed: 0:12:07 ETA: 1 day, 14:39:05] Portfolio Val: 99,696.97"
     ]
    },
    {
     "name": "stderr",
     "output_type": "stream",
     "text": [
      "2024-12-10 16:04:49,229: INFO: Current backtesting datetime 2010-01-27 14:30:00-05:00\n",
      "2024-12-10 16:04:49,233: INFO: [HumblChannelSingleLong] Processing trade event. Trade event received for HumblChannelSingleLong strategy: new SPY, processed by broker backtesting\n",
      "2024-12-10 16:04:49,234: INFO: [HumblChannelSingleLong] \u001b[32mNew order was created: market order of | 1 SPY buy | new\u001b[0m\n",
      "2024-12-10 16:04:49,236: INFO: [HumblChannelSingleLong] Processing a new order, payload: {'order': market order of | 1 SPY buy | new}\n",
      "2024-12-10 16:04:49,236: INFO: [HumblChannelSingleLong] Getting historical prices for SPY, 1 bars, \n",
      "2024-12-10 16:04:49,238: INFO: [HumblChannelSingleLong] Processing trade event. Trade event received for HumblChannelSingleLong strategy: fill SPY, processed by broker backtesting\n",
      "2024-12-10 16:04:49,239: INFO: [HumblChannelSingleLong] \u001b[32mOrder was filled: market order of | 1 SPY buy | @ $109.17 fill\u001b[0m\n",
      "2024-12-10 16:04:49,241: INFO: [HumblChannelSingleLong] Processing a filled order, payload: {'position': HumblChannelSingleLong Position: 90.0 shares of SPY (118 orders), 'order': market order of | 1 SPY buy | @ $109.17 fill, 'price': 109.16999816894531, 'quantity': 1.0, 'multiplier': 1}\n"
     ]
    },
    {
     "name": "stdout",
     "output_type": "stream",
     "text": [
      "Progress |\u001b[32m\u001b[0m|   0.52%  [Elapsed: 0:12:07 ETA: 1 day, 14:35:29] Portfolio Val: 99,696.97"
     ]
    },
    {
     "name": "stderr",
     "output_type": "stream",
     "text": [
      "2024-12-10 16:04:49,241: INFO: Current backtesting datetime 2010-01-27 15:30:00-05:00\n",
      "2024-12-10 16:04:49,245: INFO: [HumblChannelSingleLong] Processing trade event. Trade event received for HumblChannelSingleLong strategy: new SPY, processed by broker backtesting\n",
      "2024-12-10 16:04:49,246: INFO: [HumblChannelSingleLong] \u001b[32mNew order was created: market order of | 1 SPY buy | new\u001b[0m\n",
      "2024-12-10 16:04:49,248: INFO: [HumblChannelSingleLong] Processing a new order, payload: {'order': market order of | 1 SPY buy | new}\n",
      "2024-12-10 16:04:49,249: INFO: [HumblChannelSingleLong] Getting historical prices for SPY, 1 bars, \n",
      "2024-12-10 16:04:49,251: INFO: [HumblChannelSingleLong] Processing trade event. Trade event received for HumblChannelSingleLong strategy: fill SPY, processed by broker backtesting\n",
      "2024-12-10 16:04:49,251: INFO: [HumblChannelSingleLong] \u001b[32mOrder was filled: market order of | 1 SPY buy | @ $109.17 fill\u001b[0m\n",
      "2024-12-10 16:04:49,253: INFO: [HumblChannelSingleLong] Processing a filled order, payload: {'position': HumblChannelSingleLong Position: 91.0 shares of SPY (119 orders), 'order': market order of | 1 SPY buy | @ $109.17 fill, 'price': 109.16999816894531, 'quantity': 1.0, 'multiplier': 1}\n"
     ]
    },
    {
     "name": "stdout",
     "output_type": "stream",
     "text": [
      "Progress |\u001b[32m\u001b[0m|   0.52%  [Elapsed: 0:12:07 ETA: 1 day, 14:33:42] Portfolio Val: 99,696.97"
     ]
    },
    {
     "name": "stderr",
     "output_type": "stream",
     "text": [
      "2024-12-10 16:04:49,254: INFO: Current backtesting datetime 2010-01-27 16:00:00-05:00\n"
     ]
    },
    {
     "name": "stdout",
     "output_type": "stream",
     "text": [
      "Progress |\u001b[32m\u001b[0m|   0.52%  [Elapsed: 0:12:07 ETA: 1 day, 14:31:53] Portfolio Val: 99,696.97"
     ]
    },
    {
     "name": "stderr",
     "output_type": "stream",
     "text": [
      "2024-12-10 16:04:49,254: INFO: Current backtesting datetime 2010-01-27 16:30:00-05:00\n"
     ]
    },
    {
     "name": "stdout",
     "output_type": "stream",
     "text": [
      "Progress |\u001b[32m\u001b[0m|   0.52%  [Elapsed: 0:12:07 ETA: 1 day, 14:32:12] "
     ]
    },
    {
     "name": "stderr",
     "output_type": "stream",
     "text": [
      "2024-12-10 16:04:49,256: INFO: Current backtesting datetime 2010-01-27 16:25:00-05:00\n"
     ]
    },
    {
     "name": "stdout",
     "output_type": "stream",
     "text": [
      "Progress |\u001b[32m\u001b[0m|   0.52%  [Elapsed: 0:12:07 ETA: 1 day, 14:32:12] "
     ]
    },
    {
     "name": "stderr",
     "output_type": "stream",
     "text": [
      "2024-12-10 16:04:49,256: INFO: Current backtesting datetime 2010-01-27 16:25:00-05:00\n"
     ]
    },
    {
     "name": "stdout",
     "output_type": "stream",
     "text": [
      "Progress |\u001b[32m\u001b[0m|   0.53%  [Elapsed: 0:12:07 ETA: 1 day, 13:35:16] "
     ]
    },
    {
     "name": "stderr",
     "output_type": "stream",
     "text": [
      "2024-12-10 16:04:49,258: INFO: Current backtesting datetime 2010-01-28 08:30:00-05:00\n"
     ]
    },
    {
     "name": "stdout",
     "output_type": "stream",
     "text": [
      "Progress |\u001b[32m\u001b[0m|   0.54%  [Elapsed: 0:12:08 ETA: 1 day, 13:32:49] "
     ]
    },
    {
     "name": "stderr",
     "output_type": "stream",
     "text": [
      "2024-12-10 16:04:49,586: INFO: Current backtesting datetime 2010-01-28 09:30:00-05:00\n",
      "2024-12-10 16:04:49,589: INFO: [HumblChannelSingleLong] Processing trade event. Trade event received for HumblChannelSingleLong strategy: new SPY, processed by broker backtesting\n",
      "2024-12-10 16:04:49,590: INFO: [HumblChannelSingleLong] \u001b[32mNew order was created: market order of | 1 SPY buy | new\u001b[0m\n",
      "2024-12-10 16:04:49,592: INFO: [HumblChannelSingleLong] Processing a new order, payload: {'order': market order of | 1 SPY buy | new}\n",
      "2024-12-10 16:04:49,593: INFO: [HumblChannelSingleLong] Getting historical prices for SPY, 1 bars, \n",
      "2024-12-10 16:04:49,594: INFO: [HumblChannelSingleLong] Processing trade event. Trade event received for HumblChannelSingleLong strategy: fill SPY, processed by broker backtesting\n",
      "2024-12-10 16:04:49,595: INFO: [HumblChannelSingleLong] \u001b[32mOrder was filled: market order of | 1 SPY buy | @ $110.19 fill\u001b[0m\n",
      "2024-12-10 16:04:49,596: INFO: [HumblChannelSingleLong] Processing a filled order, payload: {'position': HumblChannelSingleLong Position: 92.0 shares of SPY (120 orders), 'order': market order of | 1 SPY buy | @ $110.19 fill, 'price': 110.19000244140625, 'quantity': 1.0, 'multiplier': 1}\n"
     ]
    },
    {
     "name": "stdout",
     "output_type": "stream",
     "text": [
      "Progress |\u001b[32m\u001b[0m|   0.54%  [Elapsed: 0:12:08 ETA: 1 day, 13:29:25] Portfolio Val: 99,789.79"
     ]
    },
    {
     "name": "stderr",
     "output_type": "stream",
     "text": [
      "2024-12-10 16:04:49,597: INFO: Current backtesting datetime 2010-01-28 10:30:00-05:00\n",
      "2024-12-10 16:04:49,601: INFO: [HumblChannelSingleLong] Processing trade event. Trade event received for HumblChannelSingleLong strategy: new SPY, processed by broker backtesting\n",
      "2024-12-10 16:04:49,601: INFO: [HumblChannelSingleLong] \u001b[32mNew order was created: market order of | 1 SPY buy | new\u001b[0m\n",
      "2024-12-10 16:04:49,604: INFO: [HumblChannelSingleLong] Processing a new order, payload: {'order': market order of | 1 SPY buy | new}\n",
      "2024-12-10 16:04:49,604: INFO: [HumblChannelSingleLong] Getting historical prices for SPY, 1 bars, \n",
      "2024-12-10 16:04:49,606: INFO: [HumblChannelSingleLong] Processing trade event. Trade event received for HumblChannelSingleLong strategy: fill SPY, processed by broker backtesting\n",
      "2024-12-10 16:04:49,606: INFO: [HumblChannelSingleLong] \u001b[32mOrder was filled: market order of | 1 SPY buy | @ $110.19 fill\u001b[0m\n",
      "2024-12-10 16:04:49,608: INFO: [HumblChannelSingleLong] Processing a filled order, payload: {'position': HumblChannelSingleLong Position: 93.0 shares of SPY (121 orders), 'order': market order of | 1 SPY buy | @ $110.19 fill, 'price': 110.19000244140625, 'quantity': 1.0, 'multiplier': 1}\n"
     ]
    },
    {
     "name": "stdout",
     "output_type": "stream",
     "text": [
      "Progress |\u001b[32m\u001b[0m|   0.54%  [Elapsed: 0:12:08 ETA: 1 day, 13:26:02] Portfolio Val: 99,789.79"
     ]
    },
    {
     "name": "stderr",
     "output_type": "stream",
     "text": [
      "2024-12-10 16:04:49,608: INFO: Current backtesting datetime 2010-01-28 11:30:00-05:00\n",
      "2024-12-10 16:04:49,612: INFO: [HumblChannelSingleLong] Processing trade event. Trade event received for HumblChannelSingleLong strategy: new SPY, processed by broker backtesting\n",
      "2024-12-10 16:04:49,613: INFO: [HumblChannelSingleLong] \u001b[32mNew order was created: market order of | 1 SPY buy | new\u001b[0m\n",
      "2024-12-10 16:04:49,615: INFO: [HumblChannelSingleLong] Processing a new order, payload: {'order': market order of | 1 SPY buy | new}\n",
      "2024-12-10 16:04:49,615: INFO: [HumblChannelSingleLong] Getting historical prices for SPY, 1 bars, \n",
      "2024-12-10 16:04:49,617: INFO: [HumblChannelSingleLong] Processing trade event. Trade event received for HumblChannelSingleLong strategy: fill SPY, processed by broker backtesting\n",
      "2024-12-10 16:04:49,617: INFO: [HumblChannelSingleLong] \u001b[32mOrder was filled: market order of | 1 SPY buy | @ $110.19 fill\u001b[0m\n",
      "2024-12-10 16:04:49,619: INFO: [HumblChannelSingleLong] Processing a filled order, payload: {'position': HumblChannelSingleLong Position: 94.0 shares of SPY (122 orders), 'order': market order of | 1 SPY buy | @ $110.19 fill, 'price': 110.19000244140625, 'quantity': 1.0, 'multiplier': 1}\n"
     ]
    },
    {
     "name": "stdout",
     "output_type": "stream",
     "text": [
      "Progress |\u001b[32m\u001b[0m|   0.54%  [Elapsed: 0:12:08 ETA: 1 day, 13:22:39] Portfolio Val: 99,789.79"
     ]
    },
    {
     "name": "stderr",
     "output_type": "stream",
     "text": [
      "2024-12-10 16:04:49,619: INFO: Current backtesting datetime 2010-01-28 12:30:00-05:00\n",
      "2024-12-10 16:04:49,624: INFO: [HumblChannelSingleLong] Processing trade event. Trade event received for HumblChannelSingleLong strategy: new SPY, processed by broker backtesting\n",
      "2024-12-10 16:04:49,624: INFO: [HumblChannelSingleLong] \u001b[32mNew order was created: market order of | 1 SPY buy | new\u001b[0m\n",
      "2024-12-10 16:04:49,627: INFO: [HumblChannelSingleLong] Processing a new order, payload: {'order': market order of | 1 SPY buy | new}\n",
      "2024-12-10 16:04:49,627: INFO: [HumblChannelSingleLong] Getting historical prices for SPY, 1 bars, \n",
      "2024-12-10 16:04:49,629: INFO: [HumblChannelSingleLong] Processing trade event. Trade event received for HumblChannelSingleLong strategy: fill SPY, processed by broker backtesting\n",
      "2024-12-10 16:04:49,630: INFO: [HumblChannelSingleLong] \u001b[32mOrder was filled: market order of | 1 SPY buy | @ $110.19 fill\u001b[0m\n",
      "2024-12-10 16:04:49,632: INFO: [HumblChannelSingleLong] Processing a filled order, payload: {'position': HumblChannelSingleLong Position: 95.0 shares of SPY (123 orders), 'order': market order of | 1 SPY buy | @ $110.19 fill, 'price': 110.19000244140625, 'quantity': 1.0, 'multiplier': 1}\n"
     ]
    },
    {
     "name": "stdout",
     "output_type": "stream",
     "text": [
      "Progress |\u001b[32m\u001b[0m|   0.54%  [Elapsed: 0:12:08 ETA: 1 day, 13:19:17] Portfolio Val: 99,789.79"
     ]
    },
    {
     "name": "stderr",
     "output_type": "stream",
     "text": [
      "2024-12-10 16:04:49,633: INFO: Current backtesting datetime 2010-01-28 13:30:00-05:00\n",
      "2024-12-10 16:04:49,639: INFO: [HumblChannelSingleLong] Processing trade event. Trade event received for HumblChannelSingleLong strategy: new SPY, processed by broker backtesting\n",
      "2024-12-10 16:04:49,639: INFO: [HumblChannelSingleLong] \u001b[32mNew order was created: market order of | 1 SPY buy | new\u001b[0m\n",
      "2024-12-10 16:04:49,643: INFO: [HumblChannelSingleLong] Processing a new order, payload: {'order': market order of | 1 SPY buy | new}\n",
      "2024-12-10 16:04:49,643: INFO: [HumblChannelSingleLong] Getting historical prices for SPY, 1 bars, \n",
      "2024-12-10 16:04:49,645: INFO: [HumblChannelSingleLong] Processing trade event. Trade event received for HumblChannelSingleLong strategy: fill SPY, processed by broker backtesting\n",
      "2024-12-10 16:04:49,645: INFO: [HumblChannelSingleLong] \u001b[32mOrder was filled: market order of | 1 SPY buy | @ $110.19 fill\u001b[0m\n",
      "2024-12-10 16:04:49,647: INFO: [HumblChannelSingleLong] Processing a filled order, payload: {'position': HumblChannelSingleLong Position: 96.0 shares of SPY (124 orders), 'order': market order of | 1 SPY buy | @ $110.19 fill, 'price': 110.19000244140625, 'quantity': 1.0, 'multiplier': 1}\n"
     ]
    },
    {
     "name": "stdout",
     "output_type": "stream",
     "text": [
      "Progress |\u001b[32m\u001b[0m|   0.54%  [Elapsed: 0:12:08 ETA: 1 day, 13:15:55] Portfolio Val: 99,789.79"
     ]
    },
    {
     "name": "stderr",
     "output_type": "stream",
     "text": [
      "2024-12-10 16:04:49,648: INFO: Current backtesting datetime 2010-01-28 14:30:00-05:00\n",
      "2024-12-10 16:04:49,652: INFO: [HumblChannelSingleLong] Processing trade event. Trade event received for HumblChannelSingleLong strategy: new SPY, processed by broker backtesting\n",
      "2024-12-10 16:04:49,653: INFO: [HumblChannelSingleLong] \u001b[32mNew order was created: market order of | 1 SPY buy | new\u001b[0m\n",
      "2024-12-10 16:04:49,656: INFO: [HumblChannelSingleLong] Processing a new order, payload: {'order': market order of | 1 SPY buy | new}\n",
      "2024-12-10 16:04:49,656: INFO: [HumblChannelSingleLong] Getting historical prices for SPY, 1 bars, \n",
      "2024-12-10 16:04:49,659: INFO: [HumblChannelSingleLong] Processing trade event. Trade event received for HumblChannelSingleLong strategy: fill SPY, processed by broker backtesting\n",
      "2024-12-10 16:04:49,659: INFO: [HumblChannelSingleLong] \u001b[32mOrder was filled: market order of | 1 SPY buy | @ $110.19 fill\u001b[0m\n",
      "2024-12-10 16:04:49,662: INFO: [HumblChannelSingleLong] Processing a filled order, payload: {'position': HumblChannelSingleLong Position: 97.0 shares of SPY (125 orders), 'order': market order of | 1 SPY buy | @ $110.19 fill, 'price': 110.19000244140625, 'quantity': 1.0, 'multiplier': 1}\n"
     ]
    },
    {
     "name": "stdout",
     "output_type": "stream",
     "text": [
      "Progress |\u001b[32m\u001b[0m|   0.54%  [Elapsed: 0:12:08 ETA: 1 day, 13:12:35] Portfolio Val: 99,789.79"
     ]
    },
    {
     "name": "stderr",
     "output_type": "stream",
     "text": [
      "2024-12-10 16:04:49,662: INFO: Current backtesting datetime 2010-01-28 15:30:00-05:00\n",
      "2024-12-10 16:04:49,667: INFO: [HumblChannelSingleLong] Processing trade event. Trade event received for HumblChannelSingleLong strategy: new SPY, processed by broker backtesting\n",
      "2024-12-10 16:04:49,668: INFO: [HumblChannelSingleLong] \u001b[32mNew order was created: market order of | 1 SPY buy | new\u001b[0m\n",
      "2024-12-10 16:04:49,670: INFO: [HumblChannelSingleLong] Processing a new order, payload: {'order': market order of | 1 SPY buy | new}\n",
      "2024-12-10 16:04:49,671: INFO: [HumblChannelSingleLong] Getting historical prices for SPY, 1 bars, \n",
      "2024-12-10 16:04:49,672: INFO: [HumblChannelSingleLong] Processing trade event. Trade event received for HumblChannelSingleLong strategy: fill SPY, processed by broker backtesting\n",
      "2024-12-10 16:04:49,673: INFO: [HumblChannelSingleLong] \u001b[32mOrder was filled: market order of | 1 SPY buy | @ $110.19 fill\u001b[0m\n",
      "2024-12-10 16:04:49,674: INFO: [HumblChannelSingleLong] Processing a filled order, payload: {'position': HumblChannelSingleLong Position: 98.0 shares of SPY (126 orders), 'order': market order of | 1 SPY buy | @ $110.19 fill, 'price': 110.19000244140625, 'quantity': 1.0, 'multiplier': 1}\n"
     ]
    },
    {
     "name": "stdout",
     "output_type": "stream",
     "text": [
      "Progress |\u001b[32m\u001b[0m|   0.54%  [Elapsed: 0:12:08 ETA: 1 day, 13:10:56] Portfolio Val: 99,789.79"
     ]
    },
    {
     "name": "stderr",
     "output_type": "stream",
     "text": [
      "2024-12-10 16:04:49,675: INFO: Current backtesting datetime 2010-01-28 16:00:00-05:00\n"
     ]
    },
    {
     "name": "stdout",
     "output_type": "stream",
     "text": [
      "Progress |\u001b[32m\u001b[0m|   0.54%  [Elapsed: 0:12:08 ETA: 1 day, 13:09:14] Portfolio Val: 99,789.79"
     ]
    },
    {
     "name": "stderr",
     "output_type": "stream",
     "text": [
      "2024-12-10 16:04:49,675: INFO: Current backtesting datetime 2010-01-28 16:30:00-05:00\n"
     ]
    },
    {
     "name": "stdout",
     "output_type": "stream",
     "text": [
      "Progress |\u001b[32m\u001b[0m|   0.54%  [Elapsed: 0:12:08 ETA: 1 day, 13:09:32] "
     ]
    },
    {
     "name": "stderr",
     "output_type": "stream",
     "text": [
      "2024-12-10 16:04:49,677: INFO: Current backtesting datetime 2010-01-28 16:25:00-05:00\n"
     ]
    },
    {
     "name": "stdout",
     "output_type": "stream",
     "text": [
      "Progress |\u001b[32m\u001b[0m|   0.54%  [Elapsed: 0:12:08 ETA: 1 day, 13:09:32] "
     ]
    },
    {
     "name": "stderr",
     "output_type": "stream",
     "text": [
      "2024-12-10 16:04:49,678: INFO: Current backtesting datetime 2010-01-28 16:25:00-05:00\n"
     ]
    },
    {
     "name": "stdout",
     "output_type": "stream",
     "text": [
      "Progress |\u001b[32m\u001b[0m|   0.55%  [Elapsed: 0:12:08 ETA: 1 day, 12:16:33] "
     ]
    },
    {
     "name": "stderr",
     "output_type": "stream",
     "text": [
      "2024-12-10 16:04:49,680: INFO: Current backtesting datetime 2010-01-29 08:30:00-05:00\n"
     ]
    },
    {
     "name": "stdout",
     "output_type": "stream",
     "text": [
      "Progress |\u001b[32m\u001b[0m|   0.56%  [Elapsed: 0:12:08 ETA: 1 day, 12:13:55] "
     ]
    },
    {
     "name": "stderr",
     "output_type": "stream",
     "text": [
      "2024-12-10 16:04:49,875: INFO: Current backtesting datetime 2010-01-29 09:30:00-05:00\n",
      "2024-12-10 16:04:49,879: INFO: [HumblChannelSingleLong] Processing trade event. Trade event received for HumblChannelSingleLong strategy: new SPY, processed by broker backtesting\n",
      "2024-12-10 16:04:49,880: INFO: [HumblChannelSingleLong] \u001b[32mNew order was created: market order of | 1 SPY buy | new\u001b[0m\n",
      "2024-12-10 16:04:49,883: INFO: [HumblChannelSingleLong] Processing a new order, payload: {'order': market order of | 1 SPY buy | new}\n",
      "2024-12-10 16:04:49,883: INFO: [HumblChannelSingleLong] Getting historical prices for SPY, 1 bars, \n",
      "2024-12-10 16:04:49,885: INFO: [HumblChannelSingleLong] Processing trade event. Trade event received for HumblChannelSingleLong strategy: fill SPY, processed by broker backtesting\n",
      "2024-12-10 16:04:49,886: INFO: [HumblChannelSingleLong] \u001b[32mOrder was filled: market order of | 1 SPY buy | @ $109.04 fill\u001b[0m\n",
      "2024-12-10 16:04:49,888: INFO: [HumblChannelSingleLong] Processing a filled order, payload: {'position': HumblChannelSingleLong Position: 99.0 shares of SPY (127 orders), 'order': market order of | 1 SPY buy | @ $109.04 fill, 'price': 109.04000091552734, 'quantity': 1.0, 'multiplier': 1}\n"
     ]
    },
    {
     "name": "stdout",
     "output_type": "stream",
     "text": [
      "Progress |\u001b[32m\u001b[0m|   0.56%  [Elapsed: 0:12:08 ETA: 1 day, 12:10:46] Portfolio Val: 99,677.09"
     ]
    },
    {
     "name": "stderr",
     "output_type": "stream",
     "text": [
      "2024-12-10 16:04:49,889: INFO: Current backtesting datetime 2010-01-29 10:30:00-05:00\n",
      "2024-12-10 16:04:49,893: INFO: [HumblChannelSingleLong] Processing trade event. Trade event received for HumblChannelSingleLong strategy: new SPY, processed by broker backtesting\n",
      "2024-12-10 16:04:49,893: INFO: [HumblChannelSingleLong] \u001b[32mNew order was created: market order of | 1 SPY buy | new\u001b[0m\n",
      "2024-12-10 16:04:49,896: INFO: [HumblChannelSingleLong] Processing a new order, payload: {'order': market order of | 1 SPY buy | new}\n",
      "2024-12-10 16:04:49,896: INFO: [HumblChannelSingleLong] Getting historical prices for SPY, 1 bars, \n",
      "2024-12-10 16:04:49,899: INFO: [HumblChannelSingleLong] Processing trade event. Trade event received for HumblChannelSingleLong strategy: fill SPY, processed by broker backtesting\n",
      "2024-12-10 16:04:49,899: INFO: [HumblChannelSingleLong] \u001b[32mOrder was filled: market order of | 1 SPY buy | @ $109.04 fill\u001b[0m\n",
      "2024-12-10 16:04:49,901: INFO: [HumblChannelSingleLong] Processing a filled order, payload: {'position': HumblChannelSingleLong Position: 100.0 shares of SPY (128 orders), 'order': market order of | 1 SPY buy | @ $109.04 fill, 'price': 109.04000091552734, 'quantity': 1.0, 'multiplier': 1}\n"
     ]
    },
    {
     "name": "stdout",
     "output_type": "stream",
     "text": [
      "Progress |\u001b[32m\u001b[0m|   0.56%  [Elapsed: 0:12:08 ETA: 1 day, 12:07:36] Portfolio Val: 99,677.09"
     ]
    },
    {
     "name": "stderr",
     "output_type": "stream",
     "text": [
      "2024-12-10 16:04:49,901: INFO: Current backtesting datetime 2010-01-29 11:30:00-05:00\n",
      "2024-12-10 16:04:49,905: INFO: [HumblChannelSingleLong] Processing trade event. Trade event received for HumblChannelSingleLong strategy: new SPY, processed by broker backtesting\n",
      "2024-12-10 16:04:49,906: INFO: [HumblChannelSingleLong] \u001b[32mNew order was created: market order of | 1 SPY buy | new\u001b[0m\n",
      "2024-12-10 16:04:49,909: INFO: [HumblChannelSingleLong] Processing a new order, payload: {'order': market order of | 1 SPY buy | new}\n",
      "2024-12-10 16:04:49,909: INFO: [HumblChannelSingleLong] Getting historical prices for SPY, 1 bars, \n",
      "2024-12-10 16:04:49,911: INFO: [HumblChannelSingleLong] Processing trade event. Trade event received for HumblChannelSingleLong strategy: fill SPY, processed by broker backtesting\n",
      "2024-12-10 16:04:49,911: INFO: [HumblChannelSingleLong] \u001b[32mOrder was filled: market order of | 1 SPY buy | @ $109.04 fill\u001b[0m\n",
      "2024-12-10 16:04:49,913: INFO: [HumblChannelSingleLong] Processing a filled order, payload: {'position': HumblChannelSingleLong Position: 101.0 shares of SPY (129 orders), 'order': market order of | 1 SPY buy | @ $109.04 fill, 'price': 109.04000091552734, 'quantity': 1.0, 'multiplier': 1}\n"
     ]
    },
    {
     "name": "stdout",
     "output_type": "stream",
     "text": [
      "Progress |\u001b[32m\u001b[0m|   0.56%  [Elapsed: 0:12:08 ETA: 1 day, 12:04:28] Portfolio Val: 99,677.09"
     ]
    },
    {
     "name": "stderr",
     "output_type": "stream",
     "text": [
      "2024-12-10 16:04:49,914: INFO: Current backtesting datetime 2010-01-29 12:30:00-05:00\n",
      "2024-12-10 16:04:49,918: INFO: [HumblChannelSingleLong] Processing trade event. Trade event received for HumblChannelSingleLong strategy: new SPY, processed by broker backtesting\n",
      "2024-12-10 16:04:49,918: INFO: [HumblChannelSingleLong] \u001b[32mNew order was created: market order of | 1 SPY buy | new\u001b[0m\n",
      "2024-12-10 16:04:49,921: INFO: [HumblChannelSingleLong] Processing a new order, payload: {'order': market order of | 1 SPY buy | new}\n",
      "2024-12-10 16:04:49,921: INFO: [HumblChannelSingleLong] Getting historical prices for SPY, 1 bars, \n",
      "2024-12-10 16:04:49,923: INFO: [HumblChannelSingleLong] Processing trade event. Trade event received for HumblChannelSingleLong strategy: fill SPY, processed by broker backtesting\n",
      "2024-12-10 16:04:49,923: INFO: [HumblChannelSingleLong] \u001b[32mOrder was filled: market order of | 1 SPY buy | @ $109.04 fill\u001b[0m\n",
      "2024-12-10 16:04:49,925: INFO: [HumblChannelSingleLong] Processing a filled order, payload: {'position': HumblChannelSingleLong Position: 102.0 shares of SPY (130 orders), 'order': market order of | 1 SPY buy | @ $109.04 fill, 'price': 109.04000091552734, 'quantity': 1.0, 'multiplier': 1}\n"
     ]
    },
    {
     "name": "stdout",
     "output_type": "stream",
     "text": [
      "Progress |\u001b[32m\u001b[0m|   0.56%  [Elapsed: 0:12:08 ETA: 1 day, 12:01:19] Portfolio Val: 99,677.09"
     ]
    },
    {
     "name": "stderr",
     "output_type": "stream",
     "text": [
      "2024-12-10 16:04:49,925: INFO: Current backtesting datetime 2010-01-29 13:30:00-05:00\n",
      "2024-12-10 16:04:49,930: INFO: [HumblChannelSingleLong] Processing trade event. Trade event received for HumblChannelSingleLong strategy: new SPY, processed by broker backtesting\n",
      "2024-12-10 16:04:49,930: INFO: [HumblChannelSingleLong] \u001b[32mNew order was created: market order of | 1 SPY buy | new\u001b[0m\n",
      "2024-12-10 16:04:49,933: INFO: [HumblChannelSingleLong] Processing a new order, payload: {'order': market order of | 1 SPY buy | new}\n",
      "2024-12-10 16:04:49,933: INFO: [HumblChannelSingleLong] Getting historical prices for SPY, 1 bars, \n",
      "2024-12-10 16:04:49,935: INFO: [HumblChannelSingleLong] Processing trade event. Trade event received for HumblChannelSingleLong strategy: fill SPY, processed by broker backtesting\n",
      "2024-12-10 16:04:49,935: INFO: [HumblChannelSingleLong] \u001b[32mOrder was filled: market order of | 1 SPY buy | @ $109.04 fill\u001b[0m\n",
      "2024-12-10 16:04:49,937: INFO: [HumblChannelSingleLong] Processing a filled order, payload: {'position': HumblChannelSingleLong Position: 103.0 shares of SPY (131 orders), 'order': market order of | 1 SPY buy | @ $109.04 fill, 'price': 109.04000091552734, 'quantity': 1.0, 'multiplier': 1}\n"
     ]
    },
    {
     "name": "stdout",
     "output_type": "stream",
     "text": [
      "Progress |\u001b[32m\u001b[0m|   0.56%  [Elapsed: 0:12:08 ETA: 1 day, 11:58:11] Portfolio Val: 99,677.09"
     ]
    },
    {
     "name": "stderr",
     "output_type": "stream",
     "text": [
      "2024-12-10 16:04:49,937: INFO: Current backtesting datetime 2010-01-29 14:30:00-05:00\n",
      "2024-12-10 16:04:49,941: INFO: [HumblChannelSingleLong] Processing trade event. Trade event received for HumblChannelSingleLong strategy: new SPY, processed by broker backtesting\n",
      "2024-12-10 16:04:49,942: INFO: [HumblChannelSingleLong] \u001b[32mNew order was created: market order of | 1 SPY buy | new\u001b[0m\n",
      "2024-12-10 16:04:49,944: INFO: [HumblChannelSingleLong] Processing a new order, payload: {'order': market order of | 1 SPY buy | new}\n",
      "2024-12-10 16:04:49,944: INFO: [HumblChannelSingleLong] Getting historical prices for SPY, 1 bars, \n",
      "2024-12-10 16:04:49,946: INFO: [HumblChannelSingleLong] Processing trade event. Trade event received for HumblChannelSingleLong strategy: fill SPY, processed by broker backtesting\n",
      "2024-12-10 16:04:49,947: INFO: [HumblChannelSingleLong] \u001b[32mOrder was filled: market order of | 1 SPY buy | @ $109.04 fill\u001b[0m\n",
      "2024-12-10 16:04:49,949: INFO: [HumblChannelSingleLong] Processing a filled order, payload: {'position': HumblChannelSingleLong Position: 104.0 shares of SPY (132 orders), 'order': market order of | 1 SPY buy | @ $109.04 fill, 'price': 109.04000091552734, 'quantity': 1.0, 'multiplier': 1}\n"
     ]
    },
    {
     "name": "stdout",
     "output_type": "stream",
     "text": [
      "Progress |\u001b[32m\u001b[0m|   0.56%  [Elapsed: 0:12:08 ETA: 1 day, 11:55:04] Portfolio Val: 99,677.09"
     ]
    },
    {
     "name": "stderr",
     "output_type": "stream",
     "text": [
      "2024-12-10 16:04:49,950: INFO: Current backtesting datetime 2010-01-29 15:30:00-05:00\n",
      "2024-12-10 16:04:49,954: INFO: [HumblChannelSingleLong] Processing trade event. Trade event received for HumblChannelSingleLong strategy: new SPY, processed by broker backtesting\n",
      "2024-12-10 16:04:49,954: INFO: [HumblChannelSingleLong] \u001b[32mNew order was created: market order of | 1 SPY buy | new\u001b[0m\n",
      "2024-12-10 16:04:49,957: INFO: [HumblChannelSingleLong] Processing a new order, payload: {'order': market order of | 1 SPY buy | new}\n",
      "2024-12-10 16:04:49,958: INFO: [HumblChannelSingleLong] Getting historical prices for SPY, 1 bars, \n",
      "2024-12-10 16:04:49,959: INFO: [HumblChannelSingleLong] Processing trade event. Trade event received for HumblChannelSingleLong strategy: fill SPY, processed by broker backtesting\n",
      "2024-12-10 16:04:49,960: INFO: [HumblChannelSingleLong] \u001b[32mOrder was filled: market order of | 1 SPY buy | @ $109.04 fill\u001b[0m\n",
      "2024-12-10 16:04:49,962: INFO: [HumblChannelSingleLong] Processing a filled order, payload: {'position': HumblChannelSingleLong Position: 105.0 shares of SPY (133 orders), 'order': market order of | 1 SPY buy | @ $109.04 fill, 'price': 109.04000091552734, 'quantity': 1.0, 'multiplier': 1}\n"
     ]
    },
    {
     "name": "stdout",
     "output_type": "stream",
     "text": [
      "Progress |\u001b[32m\u001b[0m|   0.56%  [Elapsed: 0:12:08 ETA: 1 day, 11:53:32] Portfolio Val: 99,677.09"
     ]
    },
    {
     "name": "stderr",
     "output_type": "stream",
     "text": [
      "2024-12-10 16:04:49,962: INFO: Current backtesting datetime 2010-01-29 16:00:00-05:00\n"
     ]
    },
    {
     "name": "stdout",
     "output_type": "stream",
     "text": [
      "Progress |\u001b[32m\u001b[0m|   0.56%  [Elapsed: 0:12:08 ETA: 1 day, 11:51:57] Portfolio Val: 99,677.09"
     ]
    },
    {
     "name": "stderr",
     "output_type": "stream",
     "text": [
      "2024-12-10 16:04:49,963: INFO: Current backtesting datetime 2010-01-29 16:30:00-05:00\n"
     ]
    },
    {
     "name": "stdout",
     "output_type": "stream",
     "text": [
      "Progress |\u001b[32m\u001b[0m|   0.56%  [Elapsed: 0:12:08 ETA: 1 day, 11:52:14] "
     ]
    },
    {
     "name": "stderr",
     "output_type": "stream",
     "text": [
      "2024-12-10 16:04:49,964: INFO: Current backtesting datetime 2010-01-29 16:25:00-05:00\n"
     ]
    },
    {
     "name": "stdout",
     "output_type": "stream",
     "text": [
      "Progress |\u001b[32m\u001b[0m|   0.56%  [Elapsed: 0:12:08 ETA: 1 day, 11:52:14] "
     ]
    },
    {
     "name": "stderr",
     "output_type": "stream",
     "text": [
      "2024-12-10 16:04:49,965: INFO: Current backtesting datetime 2010-01-29 16:25:00-05:00\n"
     ]
    },
    {
     "name": "stdout",
     "output_type": "stream",
     "text": [
      "Progress |\u001b[32m\u001b[0m|   0.61%  [Elapsed: 0:12:08 ETA: 1 day, 8:47:55] "
     ]
    },
    {
     "name": "stderr",
     "output_type": "stream",
     "text": [
      "2024-12-10 16:04:49,967: INFO: Current backtesting datetime 2010-02-01 08:30:00-05:00\n"
     ]
    },
    {
     "name": "stdout",
     "output_type": "stream",
     "text": [
      "Progress |\u001b[32m\u001b[0m|   0.61%  [Elapsed: 0:12:08 ETA: 1 day, 8:45:48] "
     ]
    },
    {
     "name": "stderr",
     "output_type": "stream",
     "text": [
      "2024-12-10 16:04:50,156: INFO: Current backtesting datetime 2010-02-01 09:30:00-05:00\n",
      "2024-12-10 16:04:50,160: INFO: [HumblChannelSingleLong] Processing trade event. Trade event received for HumblChannelSingleLong strategy: new SPY, processed by broker backtesting\n",
      "2024-12-10 16:04:50,160: INFO: [HumblChannelSingleLong] \u001b[32mNew order was created: market order of | 1 SPY buy | new\u001b[0m\n",
      "2024-12-10 16:04:50,163: INFO: [HumblChannelSingleLong] Processing a new order, payload: {'order': market order of | 1 SPY buy | new}\n",
      "2024-12-10 16:04:50,163: INFO: [HumblChannelSingleLong] Getting historical prices for SPY, 1 bars, \n",
      "2024-12-10 16:04:50,165: INFO: [HumblChannelSingleLong] Processing trade event. Trade event received for HumblChannelSingleLong strategy: fill SPY, processed by broker backtesting\n",
      "2024-12-10 16:04:50,165: INFO: [HumblChannelSingleLong] \u001b[32mOrder was filled: market order of | 1 SPY buy | @ $108.15 fill\u001b[0m\n",
      "2024-12-10 16:04:50,167: INFO: [HumblChannelSingleLong] Processing a filled order, payload: {'position': HumblChannelSingleLong Position: 106.0 shares of SPY (134 orders), 'order': market order of | 1 SPY buy | @ $108.15 fill, 'price': 108.1500015258789, 'quantity': 1.0, 'multiplier': 1}\n"
     ]
    },
    {
     "name": "stdout",
     "output_type": "stream",
     "text": [
      "Progress |\u001b[32m\u001b[0m|   0.61%  [Elapsed: 0:12:08 ETA: 1 day, 8:43:12] Portfolio Val: 99,583.64"
     ]
    },
    {
     "name": "stderr",
     "output_type": "stream",
     "text": [
      "2024-12-10 16:04:50,168: INFO: Current backtesting datetime 2010-02-01 10:30:00-05:00\n",
      "2024-12-10 16:04:50,171: INFO: [HumblChannelSingleLong] Processing trade event. Trade event received for HumblChannelSingleLong strategy: new SPY, processed by broker backtesting\n",
      "2024-12-10 16:04:50,172: INFO: [HumblChannelSingleLong] \u001b[32mNew order was created: market order of | 1 SPY buy | new\u001b[0m\n",
      "2024-12-10 16:04:50,174: INFO: [HumblChannelSingleLong] Processing a new order, payload: {'order': market order of | 1 SPY buy | new}\n",
      "2024-12-10 16:04:50,175: INFO: [HumblChannelSingleLong] Getting historical prices for SPY, 1 bars, \n",
      "2024-12-10 16:04:50,176: INFO: [HumblChannelSingleLong] Processing trade event. Trade event received for HumblChannelSingleLong strategy: fill SPY, processed by broker backtesting\n",
      "2024-12-10 16:04:50,177: INFO: [HumblChannelSingleLong] \u001b[32mOrder was filled: market order of | 1 SPY buy | @ $108.15 fill\u001b[0m\n",
      "2024-12-10 16:04:50,179: INFO: [HumblChannelSingleLong] Processing a filled order, payload: {'position': HumblChannelSingleLong Position: 107.0 shares of SPY (135 orders), 'order': market order of | 1 SPY buy | @ $108.15 fill, 'price': 108.1500015258789, 'quantity': 1.0, 'multiplier': 1}\n"
     ]
    },
    {
     "name": "stdout",
     "output_type": "stream",
     "text": [
      "Progress |\u001b[32m\u001b[0m|   0.62%  [Elapsed: 0:12:08 ETA: 1 day, 8:40:37] Portfolio Val: 99,583.64"
     ]
    },
    {
     "name": "stderr",
     "output_type": "stream",
     "text": [
      "2024-12-10 16:04:50,179: INFO: Current backtesting datetime 2010-02-01 11:30:00-05:00\n",
      "2024-12-10 16:04:50,183: INFO: [HumblChannelSingleLong] Processing trade event. Trade event received for HumblChannelSingleLong strategy: new SPY, processed by broker backtesting\n",
      "2024-12-10 16:04:50,184: INFO: [HumblChannelSingleLong] \u001b[32mNew order was created: market order of | 1 SPY buy | new\u001b[0m\n",
      "2024-12-10 16:04:50,186: INFO: [HumblChannelSingleLong] Processing a new order, payload: {'order': market order of | 1 SPY buy | new}\n",
      "2024-12-10 16:04:50,186: INFO: [HumblChannelSingleLong] Getting historical prices for SPY, 1 bars, \n",
      "2024-12-10 16:04:50,188: INFO: [HumblChannelSingleLong] Processing trade event. Trade event received for HumblChannelSingleLong strategy: fill SPY, processed by broker backtesting\n",
      "2024-12-10 16:04:50,189: INFO: [HumblChannelSingleLong] \u001b[32mOrder was filled: market order of | 1 SPY buy | @ $108.15 fill\u001b[0m\n",
      "2024-12-10 16:04:50,191: INFO: [HumblChannelSingleLong] Processing a filled order, payload: {'position': HumblChannelSingleLong Position: 108.0 shares of SPY (136 orders), 'order': market order of | 1 SPY buy | @ $108.15 fill, 'price': 108.1500015258789, 'quantity': 1.0, 'multiplier': 1}\n"
     ]
    },
    {
     "name": "stdout",
     "output_type": "stream",
     "text": [
      "Progress |\u001b[32m\u001b[0m|   0.62%  [Elapsed: 0:12:08 ETA: 1 day, 8:38:03] Portfolio Val: 99,583.64"
     ]
    },
    {
     "name": "stderr",
     "output_type": "stream",
     "text": [
      "2024-12-10 16:04:50,191: INFO: Current backtesting datetime 2010-02-01 12:30:00-05:00\n",
      "2024-12-10 16:04:50,196: INFO: [HumblChannelSingleLong] Processing trade event. Trade event received for HumblChannelSingleLong strategy: new SPY, processed by broker backtesting\n",
      "2024-12-10 16:04:50,196: INFO: [HumblChannelSingleLong] \u001b[32mNew order was created: market order of | 1 SPY buy | new\u001b[0m\n",
      "2024-12-10 16:04:50,199: INFO: [HumblChannelSingleLong] Processing a new order, payload: {'order': market order of | 1 SPY buy | new}\n",
      "2024-12-10 16:04:50,199: INFO: [HumblChannelSingleLong] Getting historical prices for SPY, 1 bars, \n",
      "2024-12-10 16:04:50,201: INFO: [HumblChannelSingleLong] Processing trade event. Trade event received for HumblChannelSingleLong strategy: fill SPY, processed by broker backtesting\n",
      "2024-12-10 16:04:50,201: INFO: [HumblChannelSingleLong] \u001b[32mOrder was filled: market order of | 1 SPY buy | @ $108.15 fill\u001b[0m\n",
      "2024-12-10 16:04:50,203: INFO: [HumblChannelSingleLong] Processing a filled order, payload: {'position': HumblChannelSingleLong Position: 109.0 shares of SPY (137 orders), 'order': market order of | 1 SPY buy | @ $108.15 fill, 'price': 108.1500015258789, 'quantity': 1.0, 'multiplier': 1}\n"
     ]
    },
    {
     "name": "stdout",
     "output_type": "stream",
     "text": [
      "Progress |\u001b[32m\u001b[0m|   0.62%  [Elapsed: 0:12:08 ETA: 1 day, 8:35:29] Portfolio Val: 99,583.64"
     ]
    },
    {
     "name": "stderr",
     "output_type": "stream",
     "text": [
      "2024-12-10 16:04:50,204: INFO: Current backtesting datetime 2010-02-01 13:30:00-05:00\n",
      "2024-12-10 16:04:50,208: INFO: [HumblChannelSingleLong] Processing trade event. Trade event received for HumblChannelSingleLong strategy: new SPY, processed by broker backtesting\n",
      "2024-12-10 16:04:50,208: INFO: [HumblChannelSingleLong] \u001b[32mNew order was created: market order of | 1 SPY buy | new\u001b[0m\n",
      "2024-12-10 16:04:50,211: INFO: [HumblChannelSingleLong] Processing a new order, payload: {'order': market order of | 1 SPY buy | new}\n",
      "2024-12-10 16:04:50,211: INFO: [HumblChannelSingleLong] Getting historical prices for SPY, 1 bars, \n",
      "2024-12-10 16:04:50,213: INFO: [HumblChannelSingleLong] Processing trade event. Trade event received for HumblChannelSingleLong strategy: fill SPY, processed by broker backtesting\n",
      "2024-12-10 16:04:50,213: INFO: [HumblChannelSingleLong] \u001b[32mOrder was filled: market order of | 1 SPY buy | @ $108.15 fill\u001b[0m\n",
      "2024-12-10 16:04:50,215: INFO: [HumblChannelSingleLong] Processing a filled order, payload: {'position': HumblChannelSingleLong Position: 110.0 shares of SPY (138 orders), 'order': market order of | 1 SPY buy | @ $108.15 fill, 'price': 108.1500015258789, 'quantity': 1.0, 'multiplier': 1}\n"
     ]
    },
    {
     "name": "stdout",
     "output_type": "stream",
     "text": [
      "Progress |\u001b[32m\u001b[0m|   0.62%  [Elapsed: 0:12:08 ETA: 1 day, 8:32:55] Portfolio Val: 99,583.64"
     ]
    },
    {
     "name": "stderr",
     "output_type": "stream",
     "text": [
      "2024-12-10 16:04:50,216: INFO: Current backtesting datetime 2010-02-01 14:30:00-05:00\n",
      "2024-12-10 16:04:50,220: INFO: [HumblChannelSingleLong] Processing trade event. Trade event received for HumblChannelSingleLong strategy: new SPY, processed by broker backtesting\n",
      "2024-12-10 16:04:50,220: INFO: [HumblChannelSingleLong] \u001b[32mNew order was created: market order of | 1 SPY buy | new\u001b[0m\n",
      "2024-12-10 16:04:50,222: INFO: [HumblChannelSingleLong] Processing a new order, payload: {'order': market order of | 1 SPY buy | new}\n",
      "2024-12-10 16:04:50,223: INFO: [HumblChannelSingleLong] Getting historical prices for SPY, 1 bars, \n",
      "2024-12-10 16:04:50,225: INFO: [HumblChannelSingleLong] Processing trade event. Trade event received for HumblChannelSingleLong strategy: fill SPY, processed by broker backtesting\n",
      "2024-12-10 16:04:50,225: INFO: [HumblChannelSingleLong] \u001b[32mOrder was filled: market order of | 1 SPY buy | @ $108.15 fill\u001b[0m\n",
      "2024-12-10 16:04:50,227: INFO: [HumblChannelSingleLong] Processing a filled order, payload: {'position': HumblChannelSingleLong Position: 111.0 shares of SPY (139 orders), 'order': market order of | 1 SPY buy | @ $108.15 fill, 'price': 108.1500015258789, 'quantity': 1.0, 'multiplier': 1}\n"
     ]
    },
    {
     "name": "stdout",
     "output_type": "stream",
     "text": [
      "Progress |\u001b[32m\u001b[0m|   0.62%  [Elapsed: 0:12:08 ETA: 1 day, 8:30:22] Portfolio Val: 99,583.64"
     ]
    },
    {
     "name": "stderr",
     "output_type": "stream",
     "text": [
      "2024-12-10 16:04:50,227: INFO: Current backtesting datetime 2010-02-01 15:30:00-05:00\n",
      "2024-12-10 16:04:50,232: INFO: [HumblChannelSingleLong] Processing trade event. Trade event received for HumblChannelSingleLong strategy: new SPY, processed by broker backtesting\n",
      "2024-12-10 16:04:50,232: INFO: [HumblChannelSingleLong] \u001b[32mNew order was created: market order of | 1 SPY buy | new\u001b[0m\n",
      "2024-12-10 16:04:50,235: INFO: [HumblChannelSingleLong] Processing a new order, payload: {'order': market order of | 1 SPY buy | new}\n",
      "2024-12-10 16:04:50,235: INFO: [HumblChannelSingleLong] Getting historical prices for SPY, 1 bars, \n",
      "2024-12-10 16:04:50,237: INFO: [HumblChannelSingleLong] Processing trade event. Trade event received for HumblChannelSingleLong strategy: fill SPY, processed by broker backtesting\n",
      "2024-12-10 16:04:50,237: INFO: [HumblChannelSingleLong] \u001b[32mOrder was filled: market order of | 1 SPY buy | @ $108.15 fill\u001b[0m\n",
      "2024-12-10 16:04:50,239: INFO: [HumblChannelSingleLong] Processing a filled order, payload: {'position': HumblChannelSingleLong Position: 112.0 shares of SPY (140 orders), 'order': market order of | 1 SPY buy | @ $108.15 fill, 'price': 108.1500015258789, 'quantity': 1.0, 'multiplier': 1}\n"
     ]
    },
    {
     "name": "stdout",
     "output_type": "stream",
     "text": [
      "Progress |\u001b[32m\u001b[0m|   0.62%  [Elapsed: 0:12:08 ETA: 1 day, 8:29:06] Portfolio Val: 99,583.64"
     ]
    },
    {
     "name": "stderr",
     "output_type": "stream",
     "text": [
      "2024-12-10 16:04:50,239: INFO: Current backtesting datetime 2010-02-01 16:00:00-05:00\n"
     ]
    },
    {
     "name": "stdout",
     "output_type": "stream",
     "text": [
      "Progress |\u001b[32m\u001b[0m|   0.62%  [Elapsed: 0:12:08 ETA: 1 day, 8:27:49] Portfolio Val: 99,583.64"
     ]
    },
    {
     "name": "stderr",
     "output_type": "stream",
     "text": [
      "2024-12-10 16:04:50,240: INFO: Current backtesting datetime 2010-02-01 16:30:00-05:00\n"
     ]
    },
    {
     "name": "stdout",
     "output_type": "stream",
     "text": [
      "Progress |\u001b[32m\u001b[0m|   0.62%  [Elapsed: 0:12:08 ETA: 1 day, 8:28:02] "
     ]
    },
    {
     "name": "stderr",
     "output_type": "stream",
     "text": [
      "2024-12-10 16:04:50,241: INFO: Current backtesting datetime 2010-02-01 16:25:00-05:00\n"
     ]
    },
    {
     "name": "stdout",
     "output_type": "stream",
     "text": [
      "Progress |\u001b[32m\u001b[0m|   0.62%  [Elapsed: 0:12:08 ETA: 1 day, 8:28:02] "
     ]
    },
    {
     "name": "stderr",
     "output_type": "stream",
     "text": [
      "2024-12-10 16:04:50,242: INFO: Current backtesting datetime 2010-02-01 16:25:00-05:00\n"
     ]
    },
    {
     "name": "stdout",
     "output_type": "stream",
     "text": [
      "Progress |\u001b[32m\u001b[0m|   0.63%  [Elapsed: 0:12:08 ETA: 1 day, 7:47:26] "
     ]
    },
    {
     "name": "stderr",
     "output_type": "stream",
     "text": [
      "2024-12-10 16:04:50,244: INFO: Current backtesting datetime 2010-02-02 08:30:00-05:00\n"
     ]
    },
    {
     "name": "stdout",
     "output_type": "stream",
     "text": [
      "Progress |\u001b[32m\u001b[0m|   0.63%  [Elapsed: 0:12:09 ETA: 1 day, 7:45:46] "
     ]
    },
    {
     "name": "stderr",
     "output_type": "stream",
     "text": [
      "2024-12-10 16:04:50,547: INFO: Current backtesting datetime 2010-02-02 09:30:00-05:00\n",
      "2024-12-10 16:04:50,551: INFO: [HumblChannelSingleLong] Processing trade event. Trade event received for HumblChannelSingleLong strategy: new SPY, processed by broker backtesting\n",
      "2024-12-10 16:04:50,551: INFO: [HumblChannelSingleLong] \u001b[32mNew order was created: market order of | 1 SPY buy | new\u001b[0m\n",
      "2024-12-10 16:04:50,554: INFO: [HumblChannelSingleLong] Processing a new order, payload: {'order': market order of | 1 SPY buy | new}\n",
      "2024-12-10 16:04:50,554: INFO: [HumblChannelSingleLong] Getting historical prices for SPY, 1 bars, \n",
      "2024-12-10 16:04:50,556: INFO: [HumblChannelSingleLong] Processing trade event. Trade event received for HumblChannelSingleLong strategy: fill SPY, processed by broker backtesting\n",
      "2024-12-10 16:04:50,556: INFO: [HumblChannelSingleLong] \u001b[32mOrder was filled: market order of | 1 SPY buy | @ $109.26 fill\u001b[0m\n",
      "2024-12-10 16:04:50,558: INFO: [HumblChannelSingleLong] Processing a filled order, payload: {'position': HumblChannelSingleLong Position: 113.0 shares of SPY (141 orders), 'order': market order of | 1 SPY buy | @ $109.26 fill, 'price': 109.26000213623047, 'quantity': 1.0, 'multiplier': 1}\n"
     ]
    },
    {
     "name": "stdout",
     "output_type": "stream",
     "text": [
      "Progress |\u001b[32m\u001b[0m|   0.63%  [Elapsed: 0:12:09 ETA: 1 day, 7:43:20] Portfolio Val: 99,707.96"
     ]
    },
    {
     "name": "stderr",
     "output_type": "stream",
     "text": [
      "2024-12-10 16:04:50,559: INFO: Current backtesting datetime 2010-02-02 10:30:00-05:00\n",
      "2024-12-10 16:04:50,565: INFO: [HumblChannelSingleLong] Processing trade event. Trade event received for HumblChannelSingleLong strategy: new SPY, processed by broker backtesting\n",
      "2024-12-10 16:04:50,565: INFO: [HumblChannelSingleLong] \u001b[32mNew order was created: market order of | 1 SPY buy | new\u001b[0m\n",
      "2024-12-10 16:04:50,567: INFO: [HumblChannelSingleLong] Processing a new order, payload: {'order': market order of | 1 SPY buy | new}\n",
      "2024-12-10 16:04:50,568: INFO: [HumblChannelSingleLong] Getting historical prices for SPY, 1 bars, \n",
      "2024-12-10 16:04:50,570: INFO: [HumblChannelSingleLong] Processing trade event. Trade event received for HumblChannelSingleLong strategy: fill SPY, processed by broker backtesting\n",
      "2024-12-10 16:04:50,570: INFO: [HumblChannelSingleLong] \u001b[32mOrder was filled: market order of | 1 SPY buy | @ $109.26 fill\u001b[0m\n",
      "2024-12-10 16:04:50,572: INFO: [HumblChannelSingleLong] Processing a filled order, payload: {'position': HumblChannelSingleLong Position: 114.0 shares of SPY (142 orders), 'order': market order of | 1 SPY buy | @ $109.26 fill, 'price': 109.26000213623047, 'quantity': 1.0, 'multiplier': 1}\n"
     ]
    },
    {
     "name": "stdout",
     "output_type": "stream",
     "text": [
      "Progress |\u001b[32m\u001b[0m|   0.64%  [Elapsed: 0:12:09 ETA: 1 day, 7:40:54] Portfolio Val: 99,707.96"
     ]
    },
    {
     "name": "stderr",
     "output_type": "stream",
     "text": [
      "2024-12-10 16:04:50,572: INFO: Current backtesting datetime 2010-02-02 11:30:00-05:00\n",
      "2024-12-10 16:04:50,577: INFO: [HumblChannelSingleLong] Processing trade event. Trade event received for HumblChannelSingleLong strategy: new SPY, processed by broker backtesting\n",
      "2024-12-10 16:04:50,577: INFO: [HumblChannelSingleLong] \u001b[32mNew order was created: market order of | 1 SPY buy | new\u001b[0m\n",
      "2024-12-10 16:04:50,580: INFO: [HumblChannelSingleLong] Processing a new order, payload: {'order': market order of | 1 SPY buy | new}\n",
      "2024-12-10 16:04:50,581: INFO: [HumblChannelSingleLong] Getting historical prices for SPY, 1 bars, \n",
      "2024-12-10 16:04:50,582: INFO: [HumblChannelSingleLong] Processing trade event. Trade event received for HumblChannelSingleLong strategy: fill SPY, processed by broker backtesting\n",
      "2024-12-10 16:04:50,583: INFO: [HumblChannelSingleLong] \u001b[32mOrder was filled: market order of | 1 SPY buy | @ $109.26 fill\u001b[0m\n",
      "2024-12-10 16:04:50,585: INFO: [HumblChannelSingleLong] Processing a filled order, payload: {'position': HumblChannelSingleLong Position: 115.0 shares of SPY (143 orders), 'order': market order of | 1 SPY buy | @ $109.26 fill, 'price': 109.26000213623047, 'quantity': 1.0, 'multiplier': 1}\n"
     ]
    },
    {
     "name": "stdout",
     "output_type": "stream",
     "text": [
      "Progress |\u001b[32m\u001b[0m|   0.64%  [Elapsed: 0:12:09 ETA: 1 day, 7:38:29] Portfolio Val: 99,707.96"
     ]
    },
    {
     "name": "stderr",
     "output_type": "stream",
     "text": [
      "2024-12-10 16:04:50,585: INFO: Current backtesting datetime 2010-02-02 12:30:00-05:00\n",
      "2024-12-10 16:04:50,589: INFO: [HumblChannelSingleLong] Processing trade event. Trade event received for HumblChannelSingleLong strategy: new SPY, processed by broker backtesting\n",
      "2024-12-10 16:04:50,589: INFO: [HumblChannelSingleLong] \u001b[32mNew order was created: market order of | 1 SPY buy | new\u001b[0m\n",
      "2024-12-10 16:04:50,591: INFO: [HumblChannelSingleLong] Processing a new order, payload: {'order': market order of | 1 SPY buy | new}\n",
      "2024-12-10 16:04:50,592: INFO: [HumblChannelSingleLong] Getting historical prices for SPY, 1 bars, \n",
      "2024-12-10 16:04:50,594: INFO: [HumblChannelSingleLong] Processing trade event. Trade event received for HumblChannelSingleLong strategy: fill SPY, processed by broker backtesting\n",
      "2024-12-10 16:04:50,594: INFO: [HumblChannelSingleLong] \u001b[32mOrder was filled: market order of | 1 SPY buy | @ $109.26 fill\u001b[0m\n",
      "2024-12-10 16:04:50,596: INFO: [HumblChannelSingleLong] Processing a filled order, payload: {'position': HumblChannelSingleLong Position: 116.0 shares of SPY (144 orders), 'order': market order of | 1 SPY buy | @ $109.26 fill, 'price': 109.26000213623047, 'quantity': 1.0, 'multiplier': 1}\n"
     ]
    },
    {
     "name": "stdout",
     "output_type": "stream",
     "text": [
      "Progress |\u001b[32m\u001b[0m|   0.64%  [Elapsed: 0:12:09 ETA: 1 day, 7:36:04] Portfolio Val: 99,707.96"
     ]
    },
    {
     "name": "stderr",
     "output_type": "stream",
     "text": [
      "2024-12-10 16:04:50,597: INFO: Current backtesting datetime 2010-02-02 13:30:00-05:00\n",
      "2024-12-10 16:04:50,601: INFO: [HumblChannelSingleLong] Processing trade event. Trade event received for HumblChannelSingleLong strategy: new SPY, processed by broker backtesting\n",
      "2024-12-10 16:04:50,601: INFO: [HumblChannelSingleLong] \u001b[32mNew order was created: market order of | 1 SPY buy | new\u001b[0m\n",
      "2024-12-10 16:04:50,603: INFO: [HumblChannelSingleLong] Processing a new order, payload: {'order': market order of | 1 SPY buy | new}\n",
      "2024-12-10 16:04:50,604: INFO: [HumblChannelSingleLong] Getting historical prices for SPY, 1 bars, \n",
      "2024-12-10 16:04:50,606: INFO: [HumblChannelSingleLong] Processing trade event. Trade event received for HumblChannelSingleLong strategy: fill SPY, processed by broker backtesting\n",
      "2024-12-10 16:04:50,606: INFO: [HumblChannelSingleLong] \u001b[32mOrder was filled: market order of | 1 SPY buy | @ $109.26 fill\u001b[0m\n",
      "2024-12-10 16:04:50,608: INFO: [HumblChannelSingleLong] Processing a filled order, payload: {'position': HumblChannelSingleLong Position: 117.0 shares of SPY (145 orders), 'order': market order of | 1 SPY buy | @ $109.26 fill, 'price': 109.26000213623047, 'quantity': 1.0, 'multiplier': 1}\n"
     ]
    },
    {
     "name": "stdout",
     "output_type": "stream",
     "text": [
      "Progress |\u001b[32m\u001b[0m|   0.64%  [Elapsed: 0:12:09 ETA: 1 day, 7:33:40] Portfolio Val: 99,707.96"
     ]
    },
    {
     "name": "stderr",
     "output_type": "stream",
     "text": [
      "2024-12-10 16:04:50,608: INFO: Current backtesting datetime 2010-02-02 14:30:00-05:00\n",
      "2024-12-10 16:04:50,612: INFO: [HumblChannelSingleLong] Processing trade event. Trade event received for HumblChannelSingleLong strategy: new SPY, processed by broker backtesting\n",
      "2024-12-10 16:04:50,613: INFO: [HumblChannelSingleLong] \u001b[32mNew order was created: market order of | 1 SPY buy | new\u001b[0m\n",
      "2024-12-10 16:04:50,615: INFO: [HumblChannelSingleLong] Processing a new order, payload: {'order': market order of | 1 SPY buy | new}\n",
      "2024-12-10 16:04:50,615: INFO: [HumblChannelSingleLong] Getting historical prices for SPY, 1 bars, \n",
      "2024-12-10 16:04:50,617: INFO: [HumblChannelSingleLong] Processing trade event. Trade event received for HumblChannelSingleLong strategy: fill SPY, processed by broker backtesting\n",
      "2024-12-10 16:04:50,618: INFO: [HumblChannelSingleLong] \u001b[32mOrder was filled: market order of | 1 SPY buy | @ $109.26 fill\u001b[0m\n",
      "2024-12-10 16:04:50,619: INFO: [HumblChannelSingleLong] Processing a filled order, payload: {'position': HumblChannelSingleLong Position: 118.0 shares of SPY (146 orders), 'order': market order of | 1 SPY buy | @ $109.26 fill, 'price': 109.26000213623047, 'quantity': 1.0, 'multiplier': 1}\n"
     ]
    },
    {
     "name": "stdout",
     "output_type": "stream",
     "text": [
      "Progress |\u001b[32m\u001b[0m|   0.64%  [Elapsed: 0:12:09 ETA: 1 day, 7:31:16] Portfolio Val: 99,707.96"
     ]
    },
    {
     "name": "stderr",
     "output_type": "stream",
     "text": [
      "2024-12-10 16:04:50,620: INFO: Current backtesting datetime 2010-02-02 15:30:00-05:00\n",
      "2024-12-10 16:04:50,624: INFO: [HumblChannelSingleLong] Processing trade event. Trade event received for HumblChannelSingleLong strategy: new SPY, processed by broker backtesting\n",
      "2024-12-10 16:04:50,624: INFO: [HumblChannelSingleLong] \u001b[32mNew order was created: market order of | 1 SPY buy | new\u001b[0m\n",
      "2024-12-10 16:04:50,626: INFO: [HumblChannelSingleLong] Processing a new order, payload: {'order': market order of | 1 SPY buy | new}\n",
      "2024-12-10 16:04:50,627: INFO: [HumblChannelSingleLong] Getting historical prices for SPY, 1 bars, \n",
      "2024-12-10 16:04:50,628: INFO: [HumblChannelSingleLong] Processing trade event. Trade event received for HumblChannelSingleLong strategy: fill SPY, processed by broker backtesting\n",
      "2024-12-10 16:04:50,629: INFO: [HumblChannelSingleLong] \u001b[32mOrder was filled: market order of | 1 SPY buy | @ $109.26 fill\u001b[0m\n",
      "2024-12-10 16:04:50,631: INFO: [HumblChannelSingleLong] Processing a filled order, payload: {'position': HumblChannelSingleLong Position: 119.0 shares of SPY (147 orders), 'order': market order of | 1 SPY buy | @ $109.26 fill, 'price': 109.26000213623047, 'quantity': 1.0, 'multiplier': 1}\n"
     ]
    },
    {
     "name": "stdout",
     "output_type": "stream",
     "text": [
      "Progress |\u001b[32m\u001b[0m|   0.64%  [Elapsed: 0:12:09 ETA: 1 day, 7:30:05] Portfolio Val: 99,707.96"
     ]
    },
    {
     "name": "stderr",
     "output_type": "stream",
     "text": [
      "2024-12-10 16:04:50,632: INFO: Current backtesting datetime 2010-02-02 16:00:00-05:00\n"
     ]
    },
    {
     "name": "stdout",
     "output_type": "stream",
     "text": [
      "Progress |\u001b[32m\u001b[0m|   0.64%  [Elapsed: 0:12:09 ETA: 1 day, 7:28:52] Portfolio Val: 99,707.96"
     ]
    },
    {
     "name": "stderr",
     "output_type": "stream",
     "text": [
      "2024-12-10 16:04:50,632: INFO: Current backtesting datetime 2010-02-02 16:30:00-05:00\n"
     ]
    },
    {
     "name": "stdout",
     "output_type": "stream",
     "text": [
      "Progress |\u001b[32m\u001b[0m|   0.64%  [Elapsed: 0:12:09 ETA: 1 day, 7:29:04] "
     ]
    },
    {
     "name": "stderr",
     "output_type": "stream",
     "text": [
      "2024-12-10 16:04:50,634: INFO: Current backtesting datetime 2010-02-02 16:25:00-05:00\n"
     ]
    },
    {
     "name": "stdout",
     "output_type": "stream",
     "text": [
      "Progress |\u001b[32m\u001b[0m|   0.64%  [Elapsed: 0:12:09 ETA: 1 day, 7:29:05] "
     ]
    },
    {
     "name": "stderr",
     "output_type": "stream",
     "text": [
      "2024-12-10 16:04:50,634: INFO: Current backtesting datetime 2010-02-02 16:25:00-05:00\n"
     ]
    },
    {
     "name": "stdout",
     "output_type": "stream",
     "text": [
      "Progress |\u001b[32m\u001b[0m|   0.65%  [Elapsed: 0:12:09 ETA: 1 day, 6:50:53] "
     ]
    },
    {
     "name": "stderr",
     "output_type": "stream",
     "text": [
      "2024-12-10 16:04:50,636: INFO: Current backtesting datetime 2010-02-03 08:30:00-05:00\n"
     ]
    },
    {
     "name": "stdout",
     "output_type": "stream",
     "text": [
      "Progress |\u001b[32m\u001b[0m|   0.65%  [Elapsed: 0:12:09 ETA: 1 day, 6:49:02] "
     ]
    },
    {
     "name": "stderr",
     "output_type": "stream",
     "text": [
      "2024-12-10 16:04:50,822: INFO: Current backtesting datetime 2010-02-03 09:30:00-05:00\n",
      "2024-12-10 16:04:50,826: INFO: [HumblChannelSingleLong] Processing trade event. Trade event received for HumblChannelSingleLong strategy: new SPY, processed by broker backtesting\n",
      "2024-12-10 16:04:50,827: INFO: [HumblChannelSingleLong] \u001b[32mNew order was created: market order of | 1 SPY buy | new\u001b[0m\n",
      "2024-12-10 16:04:50,829: INFO: [HumblChannelSingleLong] Processing a new order, payload: {'order': market order of | 1 SPY buy | new}\n",
      "2024-12-10 16:04:50,829: INFO: [HumblChannelSingleLong] Getting historical prices for SPY, 1 bars, \n",
      "2024-12-10 16:04:50,831: INFO: [HumblChannelSingleLong] Processing trade event. Trade event received for HumblChannelSingleLong strategy: fill SPY, processed by broker backtesting\n",
      "2024-12-10 16:04:50,831: INFO: [HumblChannelSingleLong] \u001b[32mOrder was filled: market order of | 1 SPY buy | @ $109.88 fill\u001b[0m\n",
      "2024-12-10 16:04:50,833: INFO: [HumblChannelSingleLong] Processing a filled order, payload: {'position': HumblChannelSingleLong Position: 120.0 shares of SPY (148 orders), 'order': market order of | 1 SPY buy | @ $109.88 fill, 'price': 109.87999725341797, 'quantity': 1.0, 'multiplier': 1}\n"
     ]
    },
    {
     "name": "stdout",
     "output_type": "stream",
     "text": [
      "Progress |\u001b[32m\u001b[0m|   0.65%  [Elapsed: 0:12:09 ETA: 1 day, 6:46:44] Portfolio Val: 99,781.74"
     ]
    },
    {
     "name": "stderr",
     "output_type": "stream",
     "text": [
      "2024-12-10 16:04:50,834: INFO: Current backtesting datetime 2010-02-03 10:30:00-05:00\n",
      "2024-12-10 16:04:50,838: INFO: [HumblChannelSingleLong] Processing trade event. Trade event received for HumblChannelSingleLong strategy: new SPY, processed by broker backtesting\n",
      "2024-12-10 16:04:50,838: INFO: [HumblChannelSingleLong] \u001b[32mNew order was created: market order of | 1 SPY buy | new\u001b[0m\n",
      "2024-12-10 16:04:50,841: INFO: [HumblChannelSingleLong] Processing a new order, payload: {'order': market order of | 1 SPY buy | new}\n",
      "2024-12-10 16:04:50,841: INFO: [HumblChannelSingleLong] Getting historical prices for SPY, 1 bars, \n",
      "2024-12-10 16:04:50,843: INFO: [HumblChannelSingleLong] Processing trade event. Trade event received for HumblChannelSingleLong strategy: fill SPY, processed by broker backtesting\n",
      "2024-12-10 16:04:50,843: INFO: [HumblChannelSingleLong] \u001b[32mOrder was filled: market order of | 1 SPY buy | @ $109.88 fill\u001b[0m\n",
      "2024-12-10 16:04:50,845: INFO: [HumblChannelSingleLong] Processing a filled order, payload: {'position': HumblChannelSingleLong Position: 121.0 shares of SPY (149 orders), 'order': market order of | 1 SPY buy | @ $109.88 fill, 'price': 109.87999725341797, 'quantity': 1.0, 'multiplier': 1}\n"
     ]
    },
    {
     "name": "stdout",
     "output_type": "stream",
     "text": [
      "Progress |\u001b[32m\u001b[0m|   0.65%  [Elapsed: 0:12:09 ETA: 1 day, 6:44:27] Portfolio Val: 99,781.74"
     ]
    },
    {
     "name": "stderr",
     "output_type": "stream",
     "text": [
      "2024-12-10 16:04:50,845: INFO: Current backtesting datetime 2010-02-03 11:30:00-05:00\n",
      "2024-12-10 16:04:50,849: INFO: [HumblChannelSingleLong] Processing trade event. Trade event received for HumblChannelSingleLong strategy: new SPY, processed by broker backtesting\n",
      "2024-12-10 16:04:50,850: INFO: [HumblChannelSingleLong] \u001b[32mNew order was created: market order of | 1 SPY buy | new\u001b[0m\n",
      "2024-12-10 16:04:50,852: INFO: [HumblChannelSingleLong] Processing a new order, payload: {'order': market order of | 1 SPY buy | new}\n",
      "2024-12-10 16:04:50,852: INFO: [HumblChannelSingleLong] Getting historical prices for SPY, 1 bars, \n",
      "2024-12-10 16:04:50,854: INFO: [HumblChannelSingleLong] Processing trade event. Trade event received for HumblChannelSingleLong strategy: fill SPY, processed by broker backtesting\n",
      "2024-12-10 16:04:50,854: INFO: [HumblChannelSingleLong] \u001b[32mOrder was filled: market order of | 1 SPY buy | @ $109.88 fill\u001b[0m\n",
      "2024-12-10 16:04:50,856: INFO: [HumblChannelSingleLong] Processing a filled order, payload: {'position': HumblChannelSingleLong Position: 122.0 shares of SPY (150 orders), 'order': market order of | 1 SPY buy | @ $109.88 fill, 'price': 109.87999725341797, 'quantity': 1.0, 'multiplier': 1}\n"
     ]
    },
    {
     "name": "stdout",
     "output_type": "stream",
     "text": [
      "Progress |\u001b[32m\u001b[0m|   0.66%  [Elapsed: 0:12:09 ETA: 1 day, 6:42:11] Portfolio Val: 99,781.74"
     ]
    },
    {
     "name": "stderr",
     "output_type": "stream",
     "text": [
      "2024-12-10 16:04:50,857: INFO: Current backtesting datetime 2010-02-03 12:30:00-05:00\n",
      "2024-12-10 16:04:50,861: INFO: [HumblChannelSingleLong] Processing trade event. Trade event received for HumblChannelSingleLong strategy: new SPY, processed by broker backtesting\n",
      "2024-12-10 16:04:50,862: INFO: [HumblChannelSingleLong] \u001b[32mNew order was created: market order of | 1 SPY buy | new\u001b[0m\n",
      "2024-12-10 16:04:50,864: INFO: [HumblChannelSingleLong] Processing a new order, payload: {'order': market order of | 1 SPY buy | new}\n",
      "2024-12-10 16:04:50,864: INFO: [HumblChannelSingleLong] Getting historical prices for SPY, 1 bars, \n",
      "2024-12-10 16:04:50,866: INFO: [HumblChannelSingleLong] Processing trade event. Trade event received for HumblChannelSingleLong strategy: fill SPY, processed by broker backtesting\n",
      "2024-12-10 16:04:50,866: INFO: [HumblChannelSingleLong] \u001b[32mOrder was filled: market order of | 1 SPY buy | @ $109.88 fill\u001b[0m\n",
      "2024-12-10 16:04:50,868: INFO: [HumblChannelSingleLong] Processing a filled order, payload: {'position': HumblChannelSingleLong Position: 123.0 shares of SPY (151 orders), 'order': market order of | 1 SPY buy | @ $109.88 fill, 'price': 109.87999725341797, 'quantity': 1.0, 'multiplier': 1}\n"
     ]
    },
    {
     "name": "stdout",
     "output_type": "stream",
     "text": [
      "Progress |\u001b[32m\u001b[0m|   0.66%  [Elapsed: 0:12:09 ETA: 1 day, 6:39:54] Portfolio Val: 99,781.74"
     ]
    },
    {
     "name": "stderr",
     "output_type": "stream",
     "text": [
      "2024-12-10 16:04:50,869: INFO: Current backtesting datetime 2010-02-03 13:30:00-05:00\n",
      "2024-12-10 16:04:50,873: INFO: [HumblChannelSingleLong] Processing trade event. Trade event received for HumblChannelSingleLong strategy: new SPY, processed by broker backtesting\n",
      "2024-12-10 16:04:50,873: INFO: [HumblChannelSingleLong] \u001b[32mNew order was created: market order of | 1 SPY buy | new\u001b[0m\n",
      "2024-12-10 16:04:50,875: INFO: [HumblChannelSingleLong] Processing a new order, payload: {'order': market order of | 1 SPY buy | new}\n",
      "2024-12-10 16:04:50,876: INFO: [HumblChannelSingleLong] Getting historical prices for SPY, 1 bars, \n",
      "2024-12-10 16:04:50,877: INFO: [HumblChannelSingleLong] Processing trade event. Trade event received for HumblChannelSingleLong strategy: fill SPY, processed by broker backtesting\n",
      "2024-12-10 16:04:50,877: INFO: [HumblChannelSingleLong] \u001b[32mOrder was filled: market order of | 1 SPY buy | @ $109.88 fill\u001b[0m\n",
      "2024-12-10 16:04:50,879: INFO: [HumblChannelSingleLong] Processing a filled order, payload: {'position': HumblChannelSingleLong Position: 124.0 shares of SPY (152 orders), 'order': market order of | 1 SPY buy | @ $109.88 fill, 'price': 109.87999725341797, 'quantity': 1.0, 'multiplier': 1}\n"
     ]
    },
    {
     "name": "stdout",
     "output_type": "stream",
     "text": [
      "Progress |\u001b[32m\u001b[0m|   0.66%  [Elapsed: 0:12:09 ETA: 1 day, 6:37:38] Portfolio Val: 99,781.74"
     ]
    },
    {
     "name": "stderr",
     "output_type": "stream",
     "text": [
      "2024-12-10 16:04:50,880: INFO: Current backtesting datetime 2010-02-03 14:30:00-05:00\n",
      "2024-12-10 16:04:50,884: INFO: [HumblChannelSingleLong] Processing trade event. Trade event received for HumblChannelSingleLong strategy: new SPY, processed by broker backtesting\n",
      "2024-12-10 16:04:50,885: INFO: [HumblChannelSingleLong] \u001b[32mNew order was created: market order of | 1 SPY buy | new\u001b[0m\n",
      "2024-12-10 16:04:50,887: INFO: [HumblChannelSingleLong] Processing a new order, payload: {'order': market order of | 1 SPY buy | new}\n",
      "2024-12-10 16:04:50,888: INFO: [HumblChannelSingleLong] Getting historical prices for SPY, 1 bars, \n",
      "2024-12-10 16:04:50,890: INFO: [HumblChannelSingleLong] Processing trade event. Trade event received for HumblChannelSingleLong strategy: fill SPY, processed by broker backtesting\n",
      "2024-12-10 16:04:50,890: INFO: [HumblChannelSingleLong] \u001b[32mOrder was filled: market order of | 1 SPY buy | @ $109.88 fill\u001b[0m\n",
      "2024-12-10 16:04:50,892: INFO: [HumblChannelSingleLong] Processing a filled order, payload: {'position': HumblChannelSingleLong Position: 125.0 shares of SPY (153 orders), 'order': market order of | 1 SPY buy | @ $109.88 fill, 'price': 109.87999725341797, 'quantity': 1.0, 'multiplier': 1}\n"
     ]
    },
    {
     "name": "stdout",
     "output_type": "stream",
     "text": [
      "Progress |\u001b[32m\u001b[0m|   0.66%  [Elapsed: 0:12:09 ETA: 1 day, 6:35:23] Portfolio Val: 99,781.74"
     ]
    },
    {
     "name": "stderr",
     "output_type": "stream",
     "text": [
      "2024-12-10 16:04:50,892: INFO: Current backtesting datetime 2010-02-03 15:30:00-05:00\n",
      "2024-12-10 16:04:50,896: INFO: [HumblChannelSingleLong] Processing trade event. Trade event received for HumblChannelSingleLong strategy: new SPY, processed by broker backtesting\n",
      "2024-12-10 16:04:50,897: INFO: [HumblChannelSingleLong] \u001b[32mNew order was created: market order of | 1 SPY buy | new\u001b[0m\n",
      "2024-12-10 16:04:50,899: INFO: [HumblChannelSingleLong] Processing a new order, payload: {'order': market order of | 1 SPY buy | new}\n",
      "2024-12-10 16:04:50,899: INFO: [HumblChannelSingleLong] Getting historical prices for SPY, 1 bars, \n",
      "2024-12-10 16:04:50,901: INFO: [HumblChannelSingleLong] Processing trade event. Trade event received for HumblChannelSingleLong strategy: fill SPY, processed by broker backtesting\n",
      "2024-12-10 16:04:50,901: INFO: [HumblChannelSingleLong] \u001b[32mOrder was filled: market order of | 1 SPY buy | @ $109.88 fill\u001b[0m\n",
      "2024-12-10 16:04:50,903: INFO: [HumblChannelSingleLong] Processing a filled order, payload: {'position': HumblChannelSingleLong Position: 126.0 shares of SPY (154 orders), 'order': market order of | 1 SPY buy | @ $109.88 fill, 'price': 109.87999725341797, 'quantity': 1.0, 'multiplier': 1}\n"
     ]
    },
    {
     "name": "stdout",
     "output_type": "stream",
     "text": [
      "Progress |\u001b[32m\u001b[0m|   0.66%  [Elapsed: 0:12:09 ETA: 1 day, 6:34:16] Portfolio Val: 99,781.74"
     ]
    },
    {
     "name": "stderr",
     "output_type": "stream",
     "text": [
      "2024-12-10 16:04:50,904: INFO: Current backtesting datetime 2010-02-03 16:00:00-05:00\n"
     ]
    },
    {
     "name": "stdout",
     "output_type": "stream",
     "text": [
      "Progress |\u001b[32m\u001b[0m|   0.66%  [Elapsed: 0:12:09 ETA: 1 day, 6:33:07] Portfolio Val: 99,781.74"
     ]
    },
    {
     "name": "stderr",
     "output_type": "stream",
     "text": [
      "2024-12-10 16:04:50,904: INFO: Current backtesting datetime 2010-02-03 16:30:00-05:00\n"
     ]
    },
    {
     "name": "stdout",
     "output_type": "stream",
     "text": [
      "Progress |\u001b[32m\u001b[0m|   0.66%  [Elapsed: 0:12:09 ETA: 1 day, 6:33:19] "
     ]
    },
    {
     "name": "stderr",
     "output_type": "stream",
     "text": [
      "2024-12-10 16:04:50,906: INFO: Current backtesting datetime 2010-02-03 16:25:00-05:00\n"
     ]
    },
    {
     "name": "stdout",
     "output_type": "stream",
     "text": [
      "Progress |\u001b[32m\u001b[0m|   0.66%  [Elapsed: 0:12:09 ETA: 1 day, 6:33:19] "
     ]
    },
    {
     "name": "stderr",
     "output_type": "stream",
     "text": [
      "2024-12-10 16:04:50,906: INFO: Current backtesting datetime 2010-02-03 16:25:00-05:00\n"
     ]
    },
    {
     "name": "stdout",
     "output_type": "stream",
     "text": [
      "Progress |\u001b[32m\u001b[0m|   0.67%  [Elapsed: 0:12:09 ETA: 1 day, 5:57:19] "
     ]
    },
    {
     "name": "stderr",
     "output_type": "stream",
     "text": [
      "2024-12-10 16:04:50,908: INFO: Current backtesting datetime 2010-02-04 08:30:00-05:00\n"
     ]
    },
    {
     "name": "stdout",
     "output_type": "stream",
     "text": [
      "Progress |\u001b[32m\u001b[0m|   0.67%  [Elapsed: 0:12:09 ETA: 1 day, 5:55:35] "
     ]
    },
    {
     "name": "stderr",
     "output_type": "stream",
     "text": [
      "2024-12-10 16:04:51,090: INFO: Current backtesting datetime 2010-02-04 09:30:00-05:00\n",
      "2024-12-10 16:04:51,094: INFO: [HumblChannelSingleLong] Processing trade event. Trade event received for HumblChannelSingleLong strategy: new SPY, processed by broker backtesting\n",
      "2024-12-10 16:04:51,094: INFO: [HumblChannelSingleLong] \u001b[32mNew order was created: market order of | 1 SPY sell | new\u001b[0m\n",
      "2024-12-10 16:04:51,097: INFO: [HumblChannelSingleLong] Processing a new order, payload: {'order': market order of | 1 SPY sell | new}\n",
      "2024-12-10 16:04:51,097: INFO: [HumblChannelSingleLong] Getting historical prices for SPY, 1 bars, \n",
      "2024-12-10 16:04:51,099: INFO: [HumblChannelSingleLong] Processing trade event. Trade event received for HumblChannelSingleLong strategy: fill SPY, processed by broker backtesting\n",
      "2024-12-10 16:04:51,099: INFO: [HumblChannelSingleLong] \u001b[32mOrder was filled: market order of | 1 SPY sell | @ $108.98 fill\u001b[0m\n",
      "2024-12-10 16:04:51,101: INFO: [HumblChannelSingleLong] Processing a filled order, payload: {'position': HumblChannelSingleLong Position: 125.0 shares of SPY (155 orders), 'order': market order of | 1 SPY sell | @ $108.98 fill, 'price': 108.9800033569336, 'quantity': 1.0, 'multiplier': 1}\n"
     ]
    },
    {
     "name": "stdout",
     "output_type": "stream",
     "text": [
      "Progress |\u001b[32m\u001b[0m|   0.67%  [Elapsed: 0:12:09 ETA: 1 day, 5:53:25] Portfolio Val: 99,668.34"
     ]
    },
    {
     "name": "stderr",
     "output_type": "stream",
     "text": [
      "2024-12-10 16:04:51,101: INFO: Current backtesting datetime 2010-02-04 10:30:00-05:00\n",
      "2024-12-10 16:04:51,105: INFO: [HumblChannelSingleLong] Processing trade event. Trade event received for HumblChannelSingleLong strategy: new SPY, processed by broker backtesting\n",
      "2024-12-10 16:04:51,106: INFO: [HumblChannelSingleLong] \u001b[32mNew order was created: market order of | 1 SPY sell | new\u001b[0m\n",
      "2024-12-10 16:04:51,108: INFO: [HumblChannelSingleLong] Processing a new order, payload: {'order': market order of | 1 SPY sell | new}\n",
      "2024-12-10 16:04:51,108: INFO: [HumblChannelSingleLong] Getting historical prices for SPY, 1 bars, \n",
      "2024-12-10 16:04:51,110: INFO: [HumblChannelSingleLong] Processing trade event. Trade event received for HumblChannelSingleLong strategy: fill SPY, processed by broker backtesting\n",
      "2024-12-10 16:04:51,110: INFO: [HumblChannelSingleLong] \u001b[32mOrder was filled: market order of | 1 SPY sell | @ $108.98 fill\u001b[0m\n",
      "2024-12-10 16:04:51,112: INFO: [HumblChannelSingleLong] Processing a filled order, payload: {'position': HumblChannelSingleLong Position: 124.0 shares of SPY (156 orders), 'order': market order of | 1 SPY sell | @ $108.98 fill, 'price': 108.9800033569336, 'quantity': 1.0, 'multiplier': 1}\n"
     ]
    },
    {
     "name": "stdout",
     "output_type": "stream",
     "text": [
      "Progress |\u001b[32m\u001b[0m|   0.67%  [Elapsed: 0:12:09 ETA: 1 day, 5:51:16] Portfolio Val: 99,668.34"
     ]
    },
    {
     "name": "stderr",
     "output_type": "stream",
     "text": [
      "2024-12-10 16:04:51,113: INFO: Current backtesting datetime 2010-02-04 11:30:00-05:00\n",
      "2024-12-10 16:04:51,118: INFO: [HumblChannelSingleLong] Processing trade event. Trade event received for HumblChannelSingleLong strategy: new SPY, processed by broker backtesting\n",
      "2024-12-10 16:04:51,118: INFO: [HumblChannelSingleLong] \u001b[32mNew order was created: market order of | 1 SPY sell | new\u001b[0m\n",
      "2024-12-10 16:04:51,120: INFO: [HumblChannelSingleLong] Processing a new order, payload: {'order': market order of | 1 SPY sell | new}\n",
      "2024-12-10 16:04:51,121: INFO: [HumblChannelSingleLong] Getting historical prices for SPY, 1 bars, \n",
      "2024-12-10 16:04:51,123: INFO: [HumblChannelSingleLong] Processing trade event. Trade event received for HumblChannelSingleLong strategy: fill SPY, processed by broker backtesting\n",
      "2024-12-10 16:04:51,123: INFO: [HumblChannelSingleLong] \u001b[32mOrder was filled: market order of | 1 SPY sell | @ $108.98 fill\u001b[0m\n",
      "2024-12-10 16:04:51,125: INFO: [HumblChannelSingleLong] Processing a filled order, payload: {'position': HumblChannelSingleLong Position: 123.0 shares of SPY (157 orders), 'order': market order of | 1 SPY sell | @ $108.98 fill, 'price': 108.9800033569336, 'quantity': 1.0, 'multiplier': 1}\n"
     ]
    },
    {
     "name": "stdout",
     "output_type": "stream",
     "text": [
      "Progress |\u001b[32m\u001b[0m|   0.68%  [Elapsed: 0:12:09 ETA: 1 day, 5:49:07] Portfolio Val: 99,668.34"
     ]
    },
    {
     "name": "stderr",
     "output_type": "stream",
     "text": [
      "2024-12-10 16:04:51,125: INFO: Current backtesting datetime 2010-02-04 12:30:00-05:00\n",
      "2024-12-10 16:04:51,129: INFO: [HumblChannelSingleLong] Processing trade event. Trade event received for HumblChannelSingleLong strategy: new SPY, processed by broker backtesting\n",
      "2024-12-10 16:04:51,130: INFO: [HumblChannelSingleLong] \u001b[32mNew order was created: market order of | 1 SPY sell | new\u001b[0m\n",
      "2024-12-10 16:04:51,133: INFO: [HumblChannelSingleLong] Processing a new order, payload: {'order': market order of | 1 SPY sell | new}\n",
      "2024-12-10 16:04:51,133: INFO: [HumblChannelSingleLong] Getting historical prices for SPY, 1 bars, \n",
      "2024-12-10 16:04:51,135: INFO: [HumblChannelSingleLong] Processing trade event. Trade event received for HumblChannelSingleLong strategy: fill SPY, processed by broker backtesting\n",
      "2024-12-10 16:04:51,135: INFO: [HumblChannelSingleLong] \u001b[32mOrder was filled: market order of | 1 SPY sell | @ $108.98 fill\u001b[0m\n",
      "2024-12-10 16:04:51,137: INFO: [HumblChannelSingleLong] Processing a filled order, payload: {'position': HumblChannelSingleLong Position: 122.0 shares of SPY (158 orders), 'order': market order of | 1 SPY sell | @ $108.98 fill, 'price': 108.9800033569336, 'quantity': 1.0, 'multiplier': 1}\n"
     ]
    },
    {
     "name": "stdout",
     "output_type": "stream",
     "text": [
      "Progress |\u001b[32m\u001b[0m|   0.68%  [Elapsed: 0:12:09 ETA: 1 day, 5:46:59] Portfolio Val: 99,668.34"
     ]
    },
    {
     "name": "stderr",
     "output_type": "stream",
     "text": [
      "2024-12-10 16:04:51,138: INFO: Current backtesting datetime 2010-02-04 13:30:00-05:00\n",
      "2024-12-10 16:04:51,144: INFO: [HumblChannelSingleLong] Processing trade event. Trade event received for HumblChannelSingleLong strategy: new SPY, processed by broker backtesting\n",
      "2024-12-10 16:04:51,144: INFO: [HumblChannelSingleLong] \u001b[32mNew order was created: market order of | 1 SPY sell | new\u001b[0m\n",
      "2024-12-10 16:04:51,147: INFO: [HumblChannelSingleLong] Processing a new order, payload: {'order': market order of | 1 SPY sell | new}\n",
      "2024-12-10 16:04:51,149: INFO: [HumblChannelSingleLong] Getting historical prices for SPY, 1 bars, \n",
      "2024-12-10 16:04:51,163: INFO: [HumblChannelSingleLong] Processing trade event. Trade event received for HumblChannelSingleLong strategy: fill SPY, processed by broker backtesting\n",
      "2024-12-10 16:04:51,201: INFO: [HumblChannelSingleLong] \u001b[32mOrder was filled: market order of | 1 SPY sell | @ $108.98 fill\u001b[0m\n",
      "2024-12-10 16:04:51,205: INFO: [HumblChannelSingleLong] Processing a filled order, payload: {'position': HumblChannelSingleLong Position: 121.0 shares of SPY (159 orders), 'order': market order of | 1 SPY sell | @ $108.98 fill, 'price': 108.9800033569336, 'quantity': 1.0, 'multiplier': 1}\n"
     ]
    },
    {
     "name": "stdout",
     "output_type": "stream",
     "text": [
      "Progress |\u001b[32m\u001b[0m|   0.68%  [Elapsed: 0:12:09 ETA: 1 day, 5:44:59] Portfolio Val: 99,668.34"
     ]
    },
    {
     "name": "stderr",
     "output_type": "stream",
     "text": [
      "2024-12-10 16:04:51,206: INFO: Current backtesting datetime 2010-02-04 14:30:00-05:00\n",
      "2024-12-10 16:04:51,226: INFO: [HumblChannelSingleLong] Processing trade event. Trade event received for HumblChannelSingleLong strategy: new SPY, processed by broker backtesting\n",
      "2024-12-10 16:04:51,227: INFO: [HumblChannelSingleLong] \u001b[32mNew order was created: market order of | 1 SPY sell | new\u001b[0m\n",
      "2024-12-10 16:04:51,230: INFO: [HumblChannelSingleLong] Processing a new order, payload: {'order': market order of | 1 SPY sell | new}\n",
      "2024-12-10 16:04:51,231: INFO: [HumblChannelSingleLong] Getting historical prices for SPY, 1 bars, \n",
      "2024-12-10 16:04:51,233: INFO: [HumblChannelSingleLong] Processing trade event. Trade event received for HumblChannelSingleLong strategy: fill SPY, processed by broker backtesting\n",
      "2024-12-10 16:04:51,233: INFO: [HumblChannelSingleLong] \u001b[32mOrder was filled: market order of | 1 SPY sell | @ $108.98 fill\u001b[0m\n",
      "2024-12-10 16:04:51,235: INFO: [HumblChannelSingleLong] Processing a filled order, payload: {'position': HumblChannelSingleLong Position: 120.0 shares of SPY (160 orders), 'order': market order of | 1 SPY sell | @ $108.98 fill, 'price': 108.9800033569336, 'quantity': 1.0, 'multiplier': 1}\n"
     ]
    },
    {
     "name": "stdout",
     "output_type": "stream",
     "text": [
      "Progress |\u001b[32m\u001b[0m|   0.68%  [Elapsed: 0:12:09 ETA: 1 day, 5:42:53] Portfolio Val: 99,668.34"
     ]
    },
    {
     "name": "stderr",
     "output_type": "stream",
     "text": [
      "2024-12-10 16:04:51,235: INFO: Current backtesting datetime 2010-02-04 15:30:00-05:00\n",
      "2024-12-10 16:04:51,240: INFO: [HumblChannelSingleLong] Processing trade event. Trade event received for HumblChannelSingleLong strategy: new SPY, processed by broker backtesting\n",
      "2024-12-10 16:04:51,241: INFO: [HumblChannelSingleLong] \u001b[32mNew order was created: market order of | 1 SPY sell | new\u001b[0m\n",
      "2024-12-10 16:04:51,243: INFO: [HumblChannelSingleLong] Processing a new order, payload: {'order': market order of | 1 SPY sell | new}\n",
      "2024-12-10 16:04:51,243: INFO: [HumblChannelSingleLong] Getting historical prices for SPY, 1 bars, \n",
      "2024-12-10 16:04:51,245: INFO: [HumblChannelSingleLong] Processing trade event. Trade event received for HumblChannelSingleLong strategy: fill SPY, processed by broker backtesting\n",
      "2024-12-10 16:04:51,245: INFO: [HumblChannelSingleLong] \u001b[32mOrder was filled: market order of | 1 SPY sell | @ $108.98 fill\u001b[0m\n",
      "2024-12-10 16:04:51,247: INFO: [HumblChannelSingleLong] Processing a filled order, payload: {'position': HumblChannelSingleLong Position: 119.0 shares of SPY (161 orders), 'order': market order of | 1 SPY sell | @ $108.98 fill, 'price': 108.9800033569336, 'quantity': 1.0, 'multiplier': 1}\n"
     ]
    },
    {
     "name": "stdout",
     "output_type": "stream",
     "text": [
      "Progress |\u001b[32m\u001b[0m|   0.68%  [Elapsed: 0:12:09 ETA: 1 day, 5:41:50] Portfolio Val: 99,668.34"
     ]
    },
    {
     "name": "stderr",
     "output_type": "stream",
     "text": [
      "2024-12-10 16:04:51,248: INFO: Current backtesting datetime 2010-02-04 16:00:00-05:00\n"
     ]
    },
    {
     "name": "stdout",
     "output_type": "stream",
     "text": [
      "Progress |\u001b[32m\u001b[0m|   0.68%  [Elapsed: 0:12:09 ETA: 1 day, 5:40:46] Portfolio Val: 99,668.34"
     ]
    },
    {
     "name": "stderr",
     "output_type": "stream",
     "text": [
      "2024-12-10 16:04:51,248: INFO: Current backtesting datetime 2010-02-04 16:30:00-05:00\n"
     ]
    },
    {
     "name": "stdout",
     "output_type": "stream",
     "text": [
      "Progress |\u001b[32m\u001b[0m|   0.68%  [Elapsed: 0:12:09 ETA: 1 day, 5:40:57] "
     ]
    },
    {
     "name": "stderr",
     "output_type": "stream",
     "text": [
      "2024-12-10 16:04:51,250: INFO: Current backtesting datetime 2010-02-04 16:25:00-05:00\n"
     ]
    },
    {
     "name": "stdout",
     "output_type": "stream",
     "text": [
      "Progress |\u001b[32m\u001b[0m|   0.68%  [Elapsed: 0:12:09 ETA: 1 day, 5:40:57] "
     ]
    },
    {
     "name": "stderr",
     "output_type": "stream",
     "text": [
      "2024-12-10 16:04:51,250: INFO: Current backtesting datetime 2010-02-04 16:25:00-05:00\n"
     ]
    },
    {
     "name": "stdout",
     "output_type": "stream",
     "text": [
      "Progress |\u001b[32m\u001b[0m|   0.69%  [Elapsed: 0:12:09 ETA: 1 day, 5:06:58] "
     ]
    },
    {
     "name": "stderr",
     "output_type": "stream",
     "text": [
      "2024-12-10 16:04:51,252: INFO: Current backtesting datetime 2010-02-05 08:30:00-05:00\n"
     ]
    },
    {
     "name": "stdout",
     "output_type": "stream",
     "text": [
      "Progress |\u001b[32m\u001b[0m|   0.69%  [Elapsed: 0:12:10 ETA: 1 day, 5:05:45] "
     ]
    },
    {
     "name": "stderr",
     "output_type": "stream",
     "text": [
      "2024-12-10 16:04:51,614: INFO: Current backtesting datetime 2010-02-05 09:30:00-05:00\n",
      "2024-12-10 16:04:51,620: INFO: [HumblChannelSingleLong] Processing trade event. Trade event received for HumblChannelSingleLong strategy: new SPY, processed by broker backtesting\n",
      "2024-12-10 16:04:51,621: INFO: [HumblChannelSingleLong] \u001b[32mNew order was created: market order of | 1 SPY buy | new\u001b[0m\n",
      "2024-12-10 16:04:51,625: INFO: [HumblChannelSingleLong] Processing a new order, payload: {'order': market order of | 1 SPY buy | new}\n",
      "2024-12-10 16:04:51,626: INFO: [HumblChannelSingleLong] Getting historical prices for SPY, 1 bars, \n",
      "2024-12-10 16:04:51,630: INFO: [HumblChannelSingleLong] Processing trade event. Trade event received for HumblChannelSingleLong strategy: fill SPY, processed by broker backtesting\n",
      "2024-12-10 16:04:51,631: INFO: [HumblChannelSingleLong] \u001b[32mOrder was filled: market order of | 1 SPY buy | @ $106.56 fill\u001b[0m\n",
      "2024-12-10 16:04:51,637: INFO: [HumblChannelSingleLong] Processing a filled order, payload: {'position': HumblChannelSingleLong Position: 120.0 shares of SPY (162 orders), 'order': market order of | 1 SPY buy | @ $106.56 fill, 'price': 106.55999755859375, 'quantity': 1.0, 'multiplier': 1}\n"
     ]
    },
    {
     "name": "stdout",
     "output_type": "stream",
     "text": [
      "Progress |\u001b[32m\u001b[0m|   0.69%  [Elapsed: 0:12:10 ETA: 1 day, 5:03:45] Portfolio Val: 99,380.36"
     ]
    },
    {
     "name": "stderr",
     "output_type": "stream",
     "text": [
      "2024-12-10 16:04:51,640: INFO: Current backtesting datetime 2010-02-05 10:30:00-05:00\n",
      "2024-12-10 16:04:51,653: INFO: [HumblChannelSingleLong] Processing trade event. Trade event received for HumblChannelSingleLong strategy: new SPY, processed by broker backtesting\n",
      "2024-12-10 16:04:51,654: INFO: [HumblChannelSingleLong] \u001b[32mNew order was created: market order of | 1 SPY buy | new\u001b[0m\n",
      "2024-12-10 16:04:51,658: INFO: [HumblChannelSingleLong] Processing a new order, payload: {'order': market order of | 1 SPY buy | new}\n",
      "2024-12-10 16:04:51,659: INFO: [HumblChannelSingleLong] Getting historical prices for SPY, 1 bars, \n",
      "2024-12-10 16:04:51,662: INFO: [HumblChannelSingleLong] Processing trade event. Trade event received for HumblChannelSingleLong strategy: fill SPY, processed by broker backtesting\n",
      "2024-12-10 16:04:51,663: INFO: [HumblChannelSingleLong] \u001b[32mOrder was filled: market order of | 1 SPY buy | @ $106.56 fill\u001b[0m\n",
      "2024-12-10 16:04:51,666: INFO: [HumblChannelSingleLong] Processing a filled order, payload: {'position': HumblChannelSingleLong Position: 121.0 shares of SPY (163 orders), 'order': market order of | 1 SPY buy | @ $106.56 fill, 'price': 106.55999755859375, 'quantity': 1.0, 'multiplier': 1}\n"
     ]
    },
    {
     "name": "stdout",
     "output_type": "stream",
     "text": [
      "Progress |\u001b[32m\u001b[0m|   0.69%  [Elapsed: 0:12:10 ETA: 1 day, 5:01:45] Portfolio Val: 99,380.36"
     ]
    },
    {
     "name": "stderr",
     "output_type": "stream",
     "text": [
      "2024-12-10 16:04:51,666: INFO: Current backtesting datetime 2010-02-05 11:30:00-05:00\n",
      "2024-12-10 16:04:51,672: INFO: [HumblChannelSingleLong] Processing trade event. Trade event received for HumblChannelSingleLong strategy: new SPY, processed by broker backtesting\n",
      "2024-12-10 16:04:51,673: INFO: [HumblChannelSingleLong] \u001b[32mNew order was created: market order of | 1 SPY buy | new\u001b[0m\n",
      "2024-12-10 16:04:51,677: INFO: [HumblChannelSingleLong] Processing a new order, payload: {'order': market order of | 1 SPY buy | new}\n",
      "2024-12-10 16:04:51,677: INFO: [HumblChannelSingleLong] Getting historical prices for SPY, 1 bars, \n",
      "2024-12-10 16:04:51,680: INFO: [HumblChannelSingleLong] Processing trade event. Trade event received for HumblChannelSingleLong strategy: fill SPY, processed by broker backtesting\n",
      "2024-12-10 16:04:51,680: INFO: [HumblChannelSingleLong] \u001b[32mOrder was filled: market order of | 1 SPY buy | @ $106.56 fill\u001b[0m\n",
      "2024-12-10 16:04:51,683: INFO: [HumblChannelSingleLong] Processing a filled order, payload: {'position': HumblChannelSingleLong Position: 122.0 shares of SPY (164 orders), 'order': market order of | 1 SPY buy | @ $106.56 fill, 'price': 106.55999755859375, 'quantity': 1.0, 'multiplier': 1}\n"
     ]
    },
    {
     "name": "stdout",
     "output_type": "stream",
     "text": [
      "Progress |\u001b[32m\u001b[0m|   0.69%  [Elapsed: 0:12:10 ETA: 1 day, 4:59:44] Portfolio Val: 99,380.36"
     ]
    },
    {
     "name": "stderr",
     "output_type": "stream",
     "text": [
      "2024-12-10 16:04:51,683: INFO: Current backtesting datetime 2010-02-05 12:30:00-05:00\n",
      "2024-12-10 16:04:51,688: INFO: [HumblChannelSingleLong] Processing trade event. Trade event received for HumblChannelSingleLong strategy: new SPY, processed by broker backtesting\n",
      "2024-12-10 16:04:51,689: INFO: [HumblChannelSingleLong] \u001b[32mNew order was created: market order of | 1 SPY buy | new\u001b[0m\n",
      "2024-12-10 16:04:51,692: INFO: [HumblChannelSingleLong] Processing a new order, payload: {'order': market order of | 1 SPY buy | new}\n",
      "2024-12-10 16:04:51,692: INFO: [HumblChannelSingleLong] Getting historical prices for SPY, 1 bars, \n",
      "2024-12-10 16:04:51,695: INFO: [HumblChannelSingleLong] Processing trade event. Trade event received for HumblChannelSingleLong strategy: fill SPY, processed by broker backtesting\n",
      "2024-12-10 16:04:51,695: INFO: [HumblChannelSingleLong] \u001b[32mOrder was filled: market order of | 1 SPY buy | @ $106.56 fill\u001b[0m\n",
      "2024-12-10 16:04:51,698: INFO: [HumblChannelSingleLong] Processing a filled order, payload: {'position': HumblChannelSingleLong Position: 123.0 shares of SPY (165 orders), 'order': market order of | 1 SPY buy | @ $106.56 fill, 'price': 106.55999755859375, 'quantity': 1.0, 'multiplier': 1}\n"
     ]
    },
    {
     "name": "stdout",
     "output_type": "stream",
     "text": [
      "Progress |\u001b[32m\u001b[0m|   0.70%  [Elapsed: 0:12:10 ETA: 1 day, 4:57:43] Portfolio Val: 99,380.36"
     ]
    },
    {
     "name": "stderr",
     "output_type": "stream",
     "text": [
      "2024-12-10 16:04:51,699: INFO: Current backtesting datetime 2010-02-05 13:30:00-05:00\n",
      "2024-12-10 16:04:51,704: INFO: [HumblChannelSingleLong] Processing trade event. Trade event received for HumblChannelSingleLong strategy: new SPY, processed by broker backtesting\n",
      "2024-12-10 16:04:51,705: INFO: [HumblChannelSingleLong] \u001b[32mNew order was created: market order of | 1 SPY buy | new\u001b[0m\n",
      "2024-12-10 16:04:51,707: INFO: [HumblChannelSingleLong] Processing a new order, payload: {'order': market order of | 1 SPY buy | new}\n",
      "2024-12-10 16:04:51,708: INFO: [HumblChannelSingleLong] Getting historical prices for SPY, 1 bars, \n",
      "2024-12-10 16:04:51,710: INFO: [HumblChannelSingleLong] Processing trade event. Trade event received for HumblChannelSingleLong strategy: fill SPY, processed by broker backtesting\n",
      "2024-12-10 16:04:51,711: INFO: [HumblChannelSingleLong] \u001b[32mOrder was filled: market order of | 1 SPY buy | @ $106.56 fill\u001b[0m\n",
      "2024-12-10 16:04:51,714: INFO: [HumblChannelSingleLong] Processing a filled order, payload: {'position': HumblChannelSingleLong Position: 124.0 shares of SPY (166 orders), 'order': market order of | 1 SPY buy | @ $106.56 fill, 'price': 106.55999755859375, 'quantity': 1.0, 'multiplier': 1}\n"
     ]
    },
    {
     "name": "stdout",
     "output_type": "stream",
     "text": [
      "Progress |\u001b[32m\u001b[0m|   0.70%  [Elapsed: 0:12:10 ETA: 1 day, 4:55:43] Portfolio Val: 99,380.36"
     ]
    },
    {
     "name": "stderr",
     "output_type": "stream",
     "text": [
      "2024-12-10 16:04:51,718: INFO: Current backtesting datetime 2010-02-05 14:30:00-05:00\n",
      "2024-12-10 16:04:51,722: INFO: [HumblChannelSingleLong] Processing trade event. Trade event received for HumblChannelSingleLong strategy: new SPY, processed by broker backtesting\n",
      "2024-12-10 16:04:51,723: INFO: [HumblChannelSingleLong] \u001b[32mNew order was created: market order of | 1 SPY buy | new\u001b[0m\n",
      "2024-12-10 16:04:51,725: INFO: [HumblChannelSingleLong] Processing a new order, payload: {'order': market order of | 1 SPY buy | new}\n",
      "2024-12-10 16:04:51,726: INFO: [HumblChannelSingleLong] Getting historical prices for SPY, 1 bars, \n",
      "2024-12-10 16:04:51,728: INFO: [HumblChannelSingleLong] Processing trade event. Trade event received for HumblChannelSingleLong strategy: fill SPY, processed by broker backtesting\n",
      "2024-12-10 16:04:51,729: INFO: [HumblChannelSingleLong] \u001b[32mOrder was filled: market order of | 1 SPY buy | @ $106.56 fill\u001b[0m\n",
      "2024-12-10 16:04:51,731: INFO: [HumblChannelSingleLong] Processing a filled order, payload: {'position': HumblChannelSingleLong Position: 125.0 shares of SPY (167 orders), 'order': market order of | 1 SPY buy | @ $106.56 fill, 'price': 106.55999755859375, 'quantity': 1.0, 'multiplier': 1}\n"
     ]
    },
    {
     "name": "stdout",
     "output_type": "stream",
     "text": [
      "Progress |\u001b[32m\u001b[0m|   0.70%  [Elapsed: 0:12:10 ETA: 1 day, 4:53:42] Portfolio Val: 99,380.36"
     ]
    },
    {
     "name": "stderr",
     "output_type": "stream",
     "text": [
      "2024-12-10 16:04:51,732: INFO: Current backtesting datetime 2010-02-05 15:30:00-05:00\n",
      "2024-12-10 16:04:51,737: INFO: [HumblChannelSingleLong] Processing trade event. Trade event received for HumblChannelSingleLong strategy: new SPY, processed by broker backtesting\n",
      "2024-12-10 16:04:51,737: INFO: [HumblChannelSingleLong] \u001b[32mNew order was created: market order of | 1 SPY buy | new\u001b[0m\n",
      "2024-12-10 16:04:51,740: INFO: [HumblChannelSingleLong] Processing a new order, payload: {'order': market order of | 1 SPY buy | new}\n",
      "2024-12-10 16:04:51,740: INFO: [HumblChannelSingleLong] Getting historical prices for SPY, 1 bars, \n",
      "2024-12-10 16:04:51,743: INFO: [HumblChannelSingleLong] Processing trade event. Trade event received for HumblChannelSingleLong strategy: fill SPY, processed by broker backtesting\n",
      "2024-12-10 16:04:51,743: INFO: [HumblChannelSingleLong] \u001b[32mOrder was filled: market order of | 1 SPY buy | @ $106.56 fill\u001b[0m\n",
      "2024-12-10 16:04:51,745: INFO: [HumblChannelSingleLong] Processing a filled order, payload: {'position': HumblChannelSingleLong Position: 126.0 shares of SPY (168 orders), 'order': market order of | 1 SPY buy | @ $106.56 fill, 'price': 106.55999755859375, 'quantity': 1.0, 'multiplier': 1}\n"
     ]
    },
    {
     "name": "stdout",
     "output_type": "stream",
     "text": [
      "Progress |\u001b[32m\u001b[0m|   0.70%  [Elapsed: 0:12:10 ETA: 1 day, 4:52:43] Portfolio Val: 99,380.36"
     ]
    },
    {
     "name": "stderr",
     "output_type": "stream",
     "text": [
      "2024-12-10 16:04:51,746: INFO: Current backtesting datetime 2010-02-05 16:00:00-05:00\n"
     ]
    },
    {
     "name": "stdout",
     "output_type": "stream",
     "text": [
      "Progress |\u001b[32m\u001b[0m|   0.70%  [Elapsed: 0:12:10 ETA: 1 day, 4:51:42] Portfolio Val: 99,380.36"
     ]
    },
    {
     "name": "stderr",
     "output_type": "stream",
     "text": [
      "2024-12-10 16:04:51,746: INFO: Current backtesting datetime 2010-02-05 16:30:00-05:00\n"
     ]
    },
    {
     "name": "stdout",
     "output_type": "stream",
     "text": [
      "Progress |\u001b[32m\u001b[0m|   0.70%  [Elapsed: 0:12:10 ETA: 1 day, 4:51:53] "
     ]
    },
    {
     "name": "stderr",
     "output_type": "stream",
     "text": [
      "2024-12-10 16:04:51,749: INFO: Current backtesting datetime 2010-02-05 16:25:00-05:00\n"
     ]
    },
    {
     "name": "stdout",
     "output_type": "stream",
     "text": [
      "Progress |\u001b[32m\u001b[0m|   0.70%  [Elapsed: 0:12:10 ETA: 1 day, 4:51:53] "
     ]
    },
    {
     "name": "stderr",
     "output_type": "stream",
     "text": [
      "2024-12-10 16:04:51,749: INFO: Current backtesting datetime 2010-02-05 16:25:00-05:00\n"
     ]
    },
    {
     "name": "stdout",
     "output_type": "stream",
     "text": [
      "Progress |\u001b[32m\u001b[0m|   0.75%  [Elapsed: 0:12:10 ETA: 1 day, 2:50:28] "
     ]
    },
    {
     "name": "stderr",
     "output_type": "stream",
     "text": [
      "2024-12-10 16:04:51,753: INFO: Current backtesting datetime 2010-02-08 08:30:00-05:00\n"
     ]
    },
    {
     "name": "stdout",
     "output_type": "stream",
     "text": [
      "Progress |\u001b[32m\u001b[0m|   0.75%  [Elapsed: 0:12:10 ETA: 1 day, 2:49:13] "
     ]
    },
    {
     "name": "stderr",
     "output_type": "stream",
     "text": [
      "2024-12-10 16:04:51,982: INFO: Current backtesting datetime 2010-02-08 09:30:00-05:00\n",
      "2024-12-10 16:04:51,988: INFO: [HumblChannelSingleLong] Processing trade event. Trade event received for HumblChannelSingleLong strategy: new SPY, processed by broker backtesting\n",
      "2024-12-10 16:04:51,989: INFO: [HumblChannelSingleLong] \u001b[32mNew order was created: market order of | 1 SPY buy | new\u001b[0m\n",
      "2024-12-10 16:04:51,993: INFO: [HumblChannelSingleLong] Processing a new order, payload: {'order': market order of | 1 SPY buy | new}\n",
      "2024-12-10 16:04:51,994: INFO: [HumblChannelSingleLong] Getting historical prices for SPY, 1 bars, \n",
      "2024-12-10 16:04:51,997: INFO: [HumblChannelSingleLong] Processing trade event. Trade event received for HumblChannelSingleLong strategy: fill SPY, processed by broker backtesting\n",
      "2024-12-10 16:04:51,997: INFO: [HumblChannelSingleLong] \u001b[32mOrder was filled: market order of | 1 SPY buy | @ $106.74 fill\u001b[0m\n",
      "2024-12-10 16:04:52,000: INFO: [HumblChannelSingleLong] Processing a filled order, payload: {'position': HumblChannelSingleLong Position: 127.0 shares of SPY (169 orders), 'order': market order of | 1 SPY buy | @ $106.74 fill, 'price': 106.73999786376953, 'quantity': 1.0, 'multiplier': 1}\n"
     ]
    },
    {
     "name": "stdout",
     "output_type": "stream",
     "text": [
      "Progress |\u001b[32m\u001b[0m|   0.75%  [Elapsed: 0:12:10 ETA: 1 day, 2:47:30] Portfolio Val: 99,403.04"
     ]
    },
    {
     "name": "stderr",
     "output_type": "stream",
     "text": [
      "2024-12-10 16:04:52,001: INFO: Current backtesting datetime 2010-02-08 10:30:00-05:00\n",
      "2024-12-10 16:04:52,006: INFO: [HumblChannelSingleLong] Processing trade event. Trade event received for HumblChannelSingleLong strategy: new SPY, processed by broker backtesting\n",
      "2024-12-10 16:04:52,006: INFO: [HumblChannelSingleLong] \u001b[32mNew order was created: market order of | 1 SPY buy | new\u001b[0m\n",
      "2024-12-10 16:04:52,009: INFO: [HumblChannelSingleLong] Processing a new order, payload: {'order': market order of | 1 SPY buy | new}\n",
      "2024-12-10 16:04:52,010: INFO: [HumblChannelSingleLong] Getting historical prices for SPY, 1 bars, \n",
      "2024-12-10 16:04:52,013: INFO: [HumblChannelSingleLong] Processing trade event. Trade event received for HumblChannelSingleLong strategy: fill SPY, processed by broker backtesting\n",
      "2024-12-10 16:04:52,014: INFO: [HumblChannelSingleLong] \u001b[32mOrder was filled: market order of | 1 SPY buy | @ $106.74 fill\u001b[0m\n",
      "2024-12-10 16:04:52,016: INFO: [HumblChannelSingleLong] Processing a filled order, payload: {'position': HumblChannelSingleLong Position: 128.0 shares of SPY (170 orders), 'order': market order of | 1 SPY buy | @ $106.74 fill, 'price': 106.73999786376953, 'quantity': 1.0, 'multiplier': 1}\n"
     ]
    },
    {
     "name": "stdout",
     "output_type": "stream",
     "text": [
      "Progress |\u001b[32m\u001b[0m|   0.75%  [Elapsed: 0:12:10 ETA: 1 day, 2:45:47] Portfolio Val: 99,403.04"
     ]
    },
    {
     "name": "stderr",
     "output_type": "stream",
     "text": [
      "2024-12-10 16:04:52,017: INFO: Current backtesting datetime 2010-02-08 11:30:00-05:00\n",
      "2024-12-10 16:04:52,037: INFO: [HumblChannelSingleLong] Processing trade event. Trade event received for HumblChannelSingleLong strategy: new SPY, processed by broker backtesting\n",
      "2024-12-10 16:04:52,038: INFO: [HumblChannelSingleLong] \u001b[32mNew order was created: market order of | 1 SPY buy | new\u001b[0m\n",
      "2024-12-10 16:04:52,046: INFO: [HumblChannelSingleLong] Processing a new order, payload: {'order': market order of | 1 SPY buy | new}\n",
      "2024-12-10 16:04:52,048: INFO: [HumblChannelSingleLong] Getting historical prices for SPY, 1 bars, \n",
      "2024-12-10 16:04:52,055: INFO: [HumblChannelSingleLong] Processing trade event. Trade event received for HumblChannelSingleLong strategy: fill SPY, processed by broker backtesting\n",
      "2024-12-10 16:04:52,056: INFO: [HumblChannelSingleLong] \u001b[32mOrder was filled: market order of | 1 SPY buy | @ $106.74 fill\u001b[0m\n",
      "2024-12-10 16:04:52,064: INFO: [HumblChannelSingleLong] Processing a filled order, payload: {'position': HumblChannelSingleLong Position: 129.0 shares of SPY (171 orders), 'order': market order of | 1 SPY buy | @ $106.74 fill, 'price': 106.73999786376953, 'quantity': 1.0, 'multiplier': 1}\n"
     ]
    },
    {
     "name": "stdout",
     "output_type": "stream",
     "text": [
      "Progress |\u001b[32m\u001b[0m|   0.75%  [Elapsed: 0:12:10 ETA: 1 day, 2:44:08] Portfolio Val: 99,403.04"
     ]
    },
    {
     "name": "stderr",
     "output_type": "stream",
     "text": [
      "2024-12-10 16:04:52,065: INFO: Current backtesting datetime 2010-02-08 12:30:00-05:00\n",
      "2024-12-10 16:04:52,075: INFO: [HumblChannelSingleLong] Processing trade event. Trade event received for HumblChannelSingleLong strategy: new SPY, processed by broker backtesting\n",
      "2024-12-10 16:04:52,077: INFO: [HumblChannelSingleLong] \u001b[32mNew order was created: market order of | 1 SPY buy | new\u001b[0m\n",
      "2024-12-10 16:04:52,083: INFO: [HumblChannelSingleLong] Processing a new order, payload: {'order': market order of | 1 SPY buy | new}\n",
      "2024-12-10 16:04:52,084: INFO: [HumblChannelSingleLong] Getting historical prices for SPY, 1 bars, \n",
      "2024-12-10 16:04:52,088: INFO: [HumblChannelSingleLong] Processing trade event. Trade event received for HumblChannelSingleLong strategy: fill SPY, processed by broker backtesting\n",
      "2024-12-10 16:04:52,090: INFO: [HumblChannelSingleLong] \u001b[32mOrder was filled: market order of | 1 SPY buy | @ $106.74 fill\u001b[0m\n",
      "2024-12-10 16:04:52,100: INFO: [HumblChannelSingleLong] Processing a filled order, payload: {'position': HumblChannelSingleLong Position: 130.0 shares of SPY (172 orders), 'order': market order of | 1 SPY buy | @ $106.74 fill, 'price': 106.73999786376953, 'quantity': 1.0, 'multiplier': 1}\n"
     ]
    },
    {
     "name": "stdout",
     "output_type": "stream",
     "text": [
      "Progress |\u001b[32m\u001b[0m|   0.75%  [Elapsed: 0:12:10 ETA: 1 day, 2:42:28] Portfolio Val: 99,403.04"
     ]
    },
    {
     "name": "stderr",
     "output_type": "stream",
     "text": [
      "2024-12-10 16:04:52,102: INFO: Current backtesting datetime 2010-02-08 13:30:00-05:00\n",
      "2024-12-10 16:04:52,116: INFO: [HumblChannelSingleLong] Processing trade event. Trade event received for HumblChannelSingleLong strategy: new SPY, processed by broker backtesting\n",
      "2024-12-10 16:04:52,118: INFO: [HumblChannelSingleLong] \u001b[32mNew order was created: market order of | 1 SPY buy | new\u001b[0m\n",
      "2024-12-10 16:04:52,126: INFO: [HumblChannelSingleLong] Processing a new order, payload: {'order': market order of | 1 SPY buy | new}\n",
      "2024-12-10 16:04:52,127: INFO: [HumblChannelSingleLong] Getting historical prices for SPY, 1 bars, \n",
      "2024-12-10 16:04:52,134: INFO: [HumblChannelSingleLong] Processing trade event. Trade event received for HumblChannelSingleLong strategy: fill SPY, processed by broker backtesting\n",
      "2024-12-10 16:04:52,136: INFO: [HumblChannelSingleLong] \u001b[32mOrder was filled: market order of | 1 SPY buy | @ $106.74 fill\u001b[0m\n",
      "2024-12-10 16:04:52,143: INFO: [HumblChannelSingleLong] Processing a filled order, payload: {'position': HumblChannelSingleLong Position: 131.0 shares of SPY (173 orders), 'order': market order of | 1 SPY buy | @ $106.74 fill, 'price': 106.73999786376953, 'quantity': 1.0, 'multiplier': 1}\n"
     ]
    },
    {
     "name": "stdout",
     "output_type": "stream",
     "text": [
      "Progress |\u001b[32m\u001b[0m|   0.76%  [Elapsed: 0:12:10 ETA: 1 day, 2:40:49] Portfolio Val: 99,403.04"
     ]
    },
    {
     "name": "stderr",
     "output_type": "stream",
     "text": [
      "2024-12-10 16:04:52,145: INFO: Current backtesting datetime 2010-02-08 14:30:00-05:00\n",
      "2024-12-10 16:04:52,154: INFO: [HumblChannelSingleLong] Processing trade event. Trade event received for HumblChannelSingleLong strategy: new SPY, processed by broker backtesting\n",
      "2024-12-10 16:04:52,156: INFO: [HumblChannelSingleLong] \u001b[32mNew order was created: market order of | 1 SPY buy | new\u001b[0m\n",
      "2024-12-10 16:04:52,195: INFO: [HumblChannelSingleLong] Processing a new order, payload: {'order': market order of | 1 SPY buy | new}\n",
      "2024-12-10 16:04:52,253: INFO: [HumblChannelSingleLong] Getting historical prices for SPY, 1 bars, \n",
      "2024-12-10 16:04:52,261: INFO: [HumblChannelSingleLong] Processing trade event. Trade event received for HumblChannelSingleLong strategy: fill SPY, processed by broker backtesting\n",
      "2024-12-10 16:04:52,262: INFO: [HumblChannelSingleLong] \u001b[32mOrder was filled: market order of | 1 SPY buy | @ $106.74 fill\u001b[0m\n",
      "2024-12-10 16:04:52,280: INFO: [HumblChannelSingleLong] Processing a filled order, payload: {'position': HumblChannelSingleLong Position: 132.0 shares of SPY (174 orders), 'order': market order of | 1 SPY buy | @ $106.74 fill, 'price': 106.73999786376953, 'quantity': 1.0, 'multiplier': 1}\n"
     ]
    },
    {
     "name": "stdout",
     "output_type": "stream",
     "text": [
      "Progress |\u001b[32m\u001b[0m|   0.76%  [Elapsed: 0:12:10 ETA: 1 day, 2:39:23] Portfolio Val: 99,403.04"
     ]
    },
    {
     "name": "stderr",
     "output_type": "stream",
     "text": [
      "2024-12-10 16:04:52,282: INFO: Current backtesting datetime 2010-02-08 15:30:00-05:00\n",
      "2024-12-10 16:04:52,297: INFO: [HumblChannelSingleLong] Processing trade event. Trade event received for HumblChannelSingleLong strategy: new SPY, processed by broker backtesting\n",
      "2024-12-10 16:04:52,298: INFO: [HumblChannelSingleLong] \u001b[32mNew order was created: market order of | 1 SPY buy | new\u001b[0m\n",
      "2024-12-10 16:04:52,305: INFO: [HumblChannelSingleLong] Processing a new order, payload: {'order': market order of | 1 SPY buy | new}\n",
      "2024-12-10 16:04:52,308: INFO: [HumblChannelSingleLong] Getting historical prices for SPY, 1 bars, \n",
      "2024-12-10 16:04:52,313: INFO: [HumblChannelSingleLong] Processing trade event. Trade event received for HumblChannelSingleLong strategy: fill SPY, processed by broker backtesting\n",
      "2024-12-10 16:04:52,315: INFO: [HumblChannelSingleLong] \u001b[32mOrder was filled: market order of | 1 SPY buy | @ $106.74 fill\u001b[0m\n",
      "2024-12-10 16:04:52,322: INFO: [HumblChannelSingleLong] Processing a filled order, payload: {'position': HumblChannelSingleLong Position: 133.0 shares of SPY (175 orders), 'order': market order of | 1 SPY buy | @ $106.74 fill, 'price': 106.73999786376953, 'quantity': 1.0, 'multiplier': 1}\n"
     ]
    },
    {
     "name": "stdout",
     "output_type": "stream",
     "text": [
      "Progress |\u001b[32m\u001b[0m|   0.76%  [Elapsed: 0:12:10 ETA: 1 day, 2:38:36] Portfolio Val: 99,403.04"
     ]
    },
    {
     "name": "stderr",
     "output_type": "stream",
     "text": [
      "2024-12-10 16:04:52,323: INFO: Current backtesting datetime 2010-02-08 16:00:00-05:00\n"
     ]
    },
    {
     "name": "stdout",
     "output_type": "stream",
     "text": [
      "Progress |\u001b[32m\u001b[0m|   0.76%  [Elapsed: 0:12:10 ETA: 1 day, 2:37:44] Portfolio Val: 99,403.04"
     ]
    },
    {
     "name": "stderr",
     "output_type": "stream",
     "text": [
      "2024-12-10 16:04:52,324: INFO: Current backtesting datetime 2010-02-08 16:30:00-05:00\n"
     ]
    },
    {
     "name": "stdout",
     "output_type": "stream",
     "text": [
      "Progress |\u001b[32m\u001b[0m|   0.76%  [Elapsed: 0:12:10 ETA: 1 day, 2:37:54] "
     ]
    },
    {
     "name": "stderr",
     "output_type": "stream",
     "text": [
      "2024-12-10 16:04:52,329: INFO: Current backtesting datetime 2010-02-08 16:25:00-05:00\n"
     ]
    },
    {
     "name": "stdout",
     "output_type": "stream",
     "text": [
      "Progress |\u001b[32m\u001b[0m|   0.76%  [Elapsed: 0:12:10 ETA: 1 day, 2:37:54] "
     ]
    },
    {
     "name": "stderr",
     "output_type": "stream",
     "text": [
      "2024-12-10 16:04:52,331: INFO: Current backtesting datetime 2010-02-08 16:25:00-05:00\n"
     ]
    },
    {
     "name": "stdout",
     "output_type": "stream",
     "text": [
      "Progress |\u001b[32m\u001b[0m|   0.77%  [Elapsed: 0:12:10 ETA: 1 day, 2:10:29] "
     ]
    },
    {
     "name": "stderr",
     "output_type": "stream",
     "text": [
      "2024-12-10 16:04:52,336: INFO: Current backtesting datetime 2010-02-09 08:30:00-05:00\n"
     ]
    },
    {
     "name": "stdout",
     "output_type": "stream",
     "text": [
      "Progress |\u001b[32m\u001b[0m|   0.77%  [Elapsed: 0:12:11 ETA: 1 day, 2:09:31] "
     ]
    },
    {
     "name": "stderr",
     "output_type": "stream",
     "text": [
      "2024-12-10 16:04:52,661: INFO: Current backtesting datetime 2010-02-09 09:30:00-05:00\n",
      "2024-12-10 16:04:52,665: INFO: [HumblChannelSingleLong] Processing trade event. Trade event received for HumblChannelSingleLong strategy: new SPY, processed by broker backtesting\n",
      "2024-12-10 16:04:52,665: INFO: [HumblChannelSingleLong] \u001b[32mNew order was created: market order of | 1 SPY buy | new\u001b[0m\n",
      "2024-12-10 16:04:52,667: INFO: [HumblChannelSingleLong] Processing a new order, payload: {'order': market order of | 1 SPY buy | new}\n",
      "2024-12-10 16:04:52,668: INFO: [HumblChannelSingleLong] Getting historical prices for SPY, 1 bars, \n",
      "2024-12-10 16:04:52,669: INFO: [HumblChannelSingleLong] Processing trade event. Trade event received for HumblChannelSingleLong strategy: fill SPY, processed by broker backtesting\n",
      "2024-12-10 16:04:52,670: INFO: [HumblChannelSingleLong] \u001b[32mOrder was filled: market order of | 1 SPY buy | @ $107.13 fill\u001b[0m\n",
      "2024-12-10 16:04:52,672: INFO: [HumblChannelSingleLong] Processing a filled order, payload: {'position': HumblChannelSingleLong Position: 134.0 shares of SPY (176 orders), 'order': market order of | 1 SPY buy | @ $107.13 fill, 'price': 107.12999725341797, 'quantity': 1.0, 'multiplier': 1}\n"
     ]
    },
    {
     "name": "stdout",
     "output_type": "stream",
     "text": [
      "Progress |\u001b[32m\u001b[0m|   0.77%  [Elapsed: 0:12:11 ETA: 1 day, 2:07:52] Portfolio Val: 99,454.91"
     ]
    },
    {
     "name": "stderr",
     "output_type": "stream",
     "text": [
      "2024-12-10 16:04:52,672: INFO: Current backtesting datetime 2010-02-09 10:30:00-05:00\n",
      "2024-12-10 16:04:52,676: INFO: [HumblChannelSingleLong] Processing trade event. Trade event received for HumblChannelSingleLong strategy: new SPY, processed by broker backtesting\n",
      "2024-12-10 16:04:52,677: INFO: [HumblChannelSingleLong] \u001b[32mNew order was created: market order of | 1 SPY buy | new\u001b[0m\n",
      "2024-12-10 16:04:52,679: INFO: [HumblChannelSingleLong] Processing a new order, payload: {'order': market order of | 1 SPY buy | new}\n",
      "2024-12-10 16:04:52,679: INFO: [HumblChannelSingleLong] Getting historical prices for SPY, 1 bars, \n",
      "2024-12-10 16:04:52,681: INFO: [HumblChannelSingleLong] Processing trade event. Trade event received for HumblChannelSingleLong strategy: fill SPY, processed by broker backtesting\n",
      "2024-12-10 16:04:52,681: INFO: [HumblChannelSingleLong] \u001b[32mOrder was filled: market order of | 1 SPY buy | @ $107.13 fill\u001b[0m\n",
      "2024-12-10 16:04:52,683: INFO: [HumblChannelSingleLong] Processing a filled order, payload: {'position': HumblChannelSingleLong Position: 135.0 shares of SPY (177 orders), 'order': market order of | 1 SPY buy | @ $107.13 fill, 'price': 107.12999725341797, 'quantity': 1.0, 'multiplier': 1}\n"
     ]
    },
    {
     "name": "stdout",
     "output_type": "stream",
     "text": [
      "Progress |\u001b[32m\u001b[0m|   0.77%  [Elapsed: 0:12:11 ETA: 1 day, 2:06:13] Portfolio Val: 99,454.91"
     ]
    },
    {
     "name": "stderr",
     "output_type": "stream",
     "text": [
      "2024-12-10 16:04:52,684: INFO: Current backtesting datetime 2010-02-09 11:30:00-05:00\n",
      "2024-12-10 16:04:52,688: INFO: [HumblChannelSingleLong] Processing trade event. Trade event received for HumblChannelSingleLong strategy: new SPY, processed by broker backtesting\n",
      "2024-12-10 16:04:52,688: INFO: [HumblChannelSingleLong] \u001b[32mNew order was created: market order of | 1 SPY buy | new\u001b[0m\n",
      "2024-12-10 16:04:52,691: INFO: [HumblChannelSingleLong] Processing a new order, payload: {'order': market order of | 1 SPY buy | new}\n",
      "2024-12-10 16:04:52,691: INFO: [HumblChannelSingleLong] Getting historical prices for SPY, 1 bars, \n",
      "2024-12-10 16:04:52,693: INFO: [HumblChannelSingleLong] Processing trade event. Trade event received for HumblChannelSingleLong strategy: fill SPY, processed by broker backtesting\n",
      "2024-12-10 16:04:52,694: INFO: [HumblChannelSingleLong] \u001b[32mOrder was filled: market order of | 1 SPY buy | @ $107.13 fill\u001b[0m\n",
      "2024-12-10 16:04:52,695: INFO: [HumblChannelSingleLong] Processing a filled order, payload: {'position': HumblChannelSingleLong Position: 136.0 shares of SPY (178 orders), 'order': market order of | 1 SPY buy | @ $107.13 fill, 'price': 107.12999725341797, 'quantity': 1.0, 'multiplier': 1}\n"
     ]
    },
    {
     "name": "stdout",
     "output_type": "stream",
     "text": [
      "Progress |\u001b[32m\u001b[0m|   0.77%  [Elapsed: 0:12:11 ETA: 1 day, 2:04:35] Portfolio Val: 99,454.91"
     ]
    },
    {
     "name": "stderr",
     "output_type": "stream",
     "text": [
      "2024-12-10 16:04:52,696: INFO: Current backtesting datetime 2010-02-09 12:30:00-05:00\n",
      "2024-12-10 16:04:52,701: INFO: [HumblChannelSingleLong] Processing trade event. Trade event received for HumblChannelSingleLong strategy: new SPY, processed by broker backtesting\n",
      "2024-12-10 16:04:52,702: INFO: [HumblChannelSingleLong] \u001b[32mNew order was created: market order of | 1 SPY buy | new\u001b[0m\n",
      "2024-12-10 16:04:52,704: INFO: [HumblChannelSingleLong] Processing a new order, payload: {'order': market order of | 1 SPY buy | new}\n",
      "2024-12-10 16:04:52,704: INFO: [HumblChannelSingleLong] Getting historical prices for SPY, 1 bars, \n",
      "2024-12-10 16:04:52,706: INFO: [HumblChannelSingleLong] Processing trade event. Trade event received for HumblChannelSingleLong strategy: fill SPY, processed by broker backtesting\n",
      "2024-12-10 16:04:52,706: INFO: [HumblChannelSingleLong] \u001b[32mOrder was filled: market order of | 1 SPY buy | @ $107.13 fill\u001b[0m\n",
      "2024-12-10 16:04:52,708: INFO: [HumblChannelSingleLong] Processing a filled order, payload: {'position': HumblChannelSingleLong Position: 137.0 shares of SPY (179 orders), 'order': market order of | 1 SPY buy | @ $107.13 fill, 'price': 107.12999725341797, 'quantity': 1.0, 'multiplier': 1}\n"
     ]
    },
    {
     "name": "stdout",
     "output_type": "stream",
     "text": [
      "Progress |\u001b[32m\u001b[0m|   0.77%  [Elapsed: 0:12:11 ETA: 1 day, 2:02:57] Portfolio Val: 99,454.91"
     ]
    },
    {
     "name": "stderr",
     "output_type": "stream",
     "text": [
      "2024-12-10 16:04:52,709: INFO: Current backtesting datetime 2010-02-09 13:30:00-05:00\n",
      "2024-12-10 16:04:52,713: INFO: [HumblChannelSingleLong] Processing trade event. Trade event received for HumblChannelSingleLong strategy: new SPY, processed by broker backtesting\n",
      "2024-12-10 16:04:52,714: INFO: [HumblChannelSingleLong] \u001b[32mNew order was created: market order of | 1 SPY buy | new\u001b[0m\n",
      "2024-12-10 16:04:52,716: INFO: [HumblChannelSingleLong] Processing a new order, payload: {'order': market order of | 1 SPY buy | new}\n",
      "2024-12-10 16:04:52,717: INFO: [HumblChannelSingleLong] Getting historical prices for SPY, 1 bars, \n",
      "2024-12-10 16:04:52,718: INFO: [HumblChannelSingleLong] Processing trade event. Trade event received for HumblChannelSingleLong strategy: fill SPY, processed by broker backtesting\n",
      "2024-12-10 16:04:52,719: INFO: [HumblChannelSingleLong] \u001b[32mOrder was filled: market order of | 1 SPY buy | @ $107.13 fill\u001b[0m\n",
      "2024-12-10 16:04:52,720: INFO: [HumblChannelSingleLong] Processing a filled order, payload: {'position': HumblChannelSingleLong Position: 138.0 shares of SPY (180 orders), 'order': market order of | 1 SPY buy | @ $107.13 fill, 'price': 107.12999725341797, 'quantity': 1.0, 'multiplier': 1}\n"
     ]
    },
    {
     "name": "stdout",
     "output_type": "stream",
     "text": [
      "Progress |\u001b[32m\u001b[0m|   0.77%  [Elapsed: 0:12:11 ETA: 1 day, 2:01:19] Portfolio Val: 99,454.91"
     ]
    },
    {
     "name": "stderr",
     "output_type": "stream",
     "text": [
      "2024-12-10 16:04:52,721: INFO: Current backtesting datetime 2010-02-09 14:30:00-05:00\n",
      "2024-12-10 16:04:52,725: INFO: [HumblChannelSingleLong] Processing trade event. Trade event received for HumblChannelSingleLong strategy: new SPY, processed by broker backtesting\n",
      "2024-12-10 16:04:52,726: INFO: [HumblChannelSingleLong] \u001b[32mNew order was created: market order of | 1 SPY buy | new\u001b[0m\n",
      "2024-12-10 16:04:52,729: INFO: [HumblChannelSingleLong] Processing a new order, payload: {'order': market order of | 1 SPY buy | new}\n",
      "2024-12-10 16:04:52,729: INFO: [HumblChannelSingleLong] Getting historical prices for SPY, 1 bars, \n",
      "2024-12-10 16:04:52,731: INFO: [HumblChannelSingleLong] Processing trade event. Trade event received for HumblChannelSingleLong strategy: fill SPY, processed by broker backtesting\n",
      "2024-12-10 16:04:52,731: INFO: [HumblChannelSingleLong] \u001b[32mOrder was filled: market order of | 1 SPY buy | @ $107.13 fill\u001b[0m\n",
      "2024-12-10 16:04:52,733: INFO: [HumblChannelSingleLong] Processing a filled order, payload: {'position': HumblChannelSingleLong Position: 139.0 shares of SPY (181 orders), 'order': market order of | 1 SPY buy | @ $107.13 fill, 'price': 107.12999725341797, 'quantity': 1.0, 'multiplier': 1}\n"
     ]
    },
    {
     "name": "stdout",
     "output_type": "stream",
     "text": [
      "Progress |\u001b[32m\u001b[0m|   0.78%  [Elapsed: 0:12:11 ETA: 1 day, 1:59:42] Portfolio Val: 99,454.91"
     ]
    },
    {
     "name": "stderr",
     "output_type": "stream",
     "text": [
      "2024-12-10 16:04:52,734: INFO: Current backtesting datetime 2010-02-09 15:30:00-05:00\n",
      "2024-12-10 16:04:52,738: INFO: [HumblChannelSingleLong] Processing trade event. Trade event received for HumblChannelSingleLong strategy: new SPY, processed by broker backtesting\n",
      "2024-12-10 16:04:52,739: INFO: [HumblChannelSingleLong] \u001b[32mNew order was created: market order of | 1 SPY buy | new\u001b[0m\n",
      "2024-12-10 16:04:52,741: INFO: [HumblChannelSingleLong] Processing a new order, payload: {'order': market order of | 1 SPY buy | new}\n",
      "2024-12-10 16:04:52,742: INFO: [HumblChannelSingleLong] Getting historical prices for SPY, 1 bars, \n",
      "2024-12-10 16:04:52,744: INFO: [HumblChannelSingleLong] Processing trade event. Trade event received for HumblChannelSingleLong strategy: fill SPY, processed by broker backtesting\n",
      "2024-12-10 16:04:52,745: INFO: [HumblChannelSingleLong] \u001b[32mOrder was filled: market order of | 1 SPY buy | @ $107.13 fill\u001b[0m\n",
      "2024-12-10 16:04:52,747: INFO: [HumblChannelSingleLong] Processing a filled order, payload: {'position': HumblChannelSingleLong Position: 140.0 shares of SPY (182 orders), 'order': market order of | 1 SPY buy | @ $107.13 fill, 'price': 107.12999725341797, 'quantity': 1.0, 'multiplier': 1}\n"
     ]
    },
    {
     "name": "stdout",
     "output_type": "stream",
     "text": [
      "Progress |\u001b[32m\u001b[0m|   0.78%  [Elapsed: 0:12:11 ETA: 1 day, 1:58:54] Portfolio Val: 99,454.91"
     ]
    },
    {
     "name": "stderr",
     "output_type": "stream",
     "text": [
      "2024-12-10 16:04:52,748: INFO: Current backtesting datetime 2010-02-09 16:00:00-05:00\n"
     ]
    },
    {
     "name": "stdout",
     "output_type": "stream",
     "text": [
      "Progress |\u001b[32m\u001b[0m|   0.78%  [Elapsed: 0:12:11 ETA: 1 day, 1:58:05] Portfolio Val: 99,454.91"
     ]
    },
    {
     "name": "stderr",
     "output_type": "stream",
     "text": [
      "2024-12-10 16:04:52,748: INFO: Current backtesting datetime 2010-02-09 16:30:00-05:00\n"
     ]
    },
    {
     "name": "stdout",
     "output_type": "stream",
     "text": [
      "Progress |\u001b[32m\u001b[0m|   0.78%  [Elapsed: 0:12:11 ETA: 1 day, 1:58:13] "
     ]
    },
    {
     "name": "stderr",
     "output_type": "stream",
     "text": [
      "2024-12-10 16:04:52,750: INFO: Current backtesting datetime 2010-02-09 16:25:00-05:00\n"
     ]
    },
    {
     "name": "stdout",
     "output_type": "stream",
     "text": [
      "Progress |\u001b[32m\u001b[0m|   0.78%  [Elapsed: 0:12:11 ETA: 1 day, 1:58:13] "
     ]
    },
    {
     "name": "stderr",
     "output_type": "stream",
     "text": [
      "2024-12-10 16:04:52,750: INFO: Current backtesting datetime 2010-02-09 16:25:00-05:00\n"
     ]
    },
    {
     "name": "stdout",
     "output_type": "stream",
     "text": [
      "Progress |\u001b[32m\u001b[0m|   0.79%  [Elapsed: 0:12:11 ETA: 1 day, 1:32:09] "
     ]
    },
    {
     "name": "stderr",
     "output_type": "stream",
     "text": [
      "2024-12-10 16:04:52,753: INFO: Current backtesting datetime 2010-02-10 08:30:00-05:00\n"
     ]
    },
    {
     "name": "stdout",
     "output_type": "stream",
     "text": [
      "Progress |\u001b[32m\u001b[0m|   0.79%  [Elapsed: 0:12:11 ETA: 1 day, 1:30:56] "
     ]
    },
    {
     "name": "stderr",
     "output_type": "stream",
     "text": [
      "2024-12-10 16:04:52,935: INFO: Current backtesting datetime 2010-02-10 09:30:00-05:00\n",
      "2024-12-10 16:04:52,940: INFO: [HumblChannelSingleLong] Processing trade event. Trade event received for HumblChannelSingleLong strategy: new SPY, processed by broker backtesting\n",
      "2024-12-10 16:04:52,940: INFO: [HumblChannelSingleLong] \u001b[32mNew order was created: market order of | 1 SPY buy | new\u001b[0m\n",
      "2024-12-10 16:04:52,942: INFO: [HumblChannelSingleLong] Processing a new order, payload: {'order': market order of | 1 SPY buy | new}\n",
      "2024-12-10 16:04:52,943: INFO: [HumblChannelSingleLong] Getting historical prices for SPY, 1 bars, \n",
      "2024-12-10 16:04:52,944: INFO: [HumblChannelSingleLong] Processing trade event. Trade event received for HumblChannelSingleLong strategy: fill SPY, processed by broker backtesting\n",
      "2024-12-10 16:04:52,945: INFO: [HumblChannelSingleLong] \u001b[32mOrder was filled: market order of | 1 SPY buy | @ $107.05 fill\u001b[0m\n",
      "2024-12-10 16:04:52,947: INFO: [HumblChannelSingleLong] Processing a filled order, payload: {'position': HumblChannelSingleLong Position: 141.0 shares of SPY (183 orders), 'order': market order of | 1 SPY buy | @ $107.05 fill, 'price': 107.05000305175781, 'quantity': 1.0, 'multiplier': 1}\n"
     ]
    },
    {
     "name": "stdout",
     "output_type": "stream",
     "text": [
      "Progress |\u001b[32m\u001b[0m|   0.79%  [Elapsed: 0:12:11 ETA: 1 day, 1:29:22] Portfolio Val: 99,443.71"
     ]
    },
    {
     "name": "stderr",
     "output_type": "stream",
     "text": [
      "2024-12-10 16:04:52,947: INFO: Current backtesting datetime 2010-02-10 10:30:00-05:00\n",
      "2024-12-10 16:04:52,951: INFO: [HumblChannelSingleLong] Processing trade event. Trade event received for HumblChannelSingleLong strategy: new SPY, processed by broker backtesting\n",
      "2024-12-10 16:04:52,952: INFO: [HumblChannelSingleLong] \u001b[32mNew order was created: market order of | 1 SPY buy | new\u001b[0m\n",
      "2024-12-10 16:04:52,954: INFO: [HumblChannelSingleLong] Processing a new order, payload: {'order': market order of | 1 SPY buy | new}\n",
      "2024-12-10 16:04:52,955: INFO: [HumblChannelSingleLong] Getting historical prices for SPY, 1 bars, \n",
      "2024-12-10 16:04:52,956: INFO: [HumblChannelSingleLong] Processing trade event. Trade event received for HumblChannelSingleLong strategy: fill SPY, processed by broker backtesting\n",
      "2024-12-10 16:04:52,956: INFO: [HumblChannelSingleLong] \u001b[32mOrder was filled: market order of | 1 SPY buy | @ $107.05 fill\u001b[0m\n",
      "2024-12-10 16:04:52,958: INFO: [HumblChannelSingleLong] Processing a filled order, payload: {'position': HumblChannelSingleLong Position: 142.0 shares of SPY (184 orders), 'order': market order of | 1 SPY buy | @ $107.05 fill, 'price': 107.05000305175781, 'quantity': 1.0, 'multiplier': 1}\n"
     ]
    },
    {
     "name": "stdout",
     "output_type": "stream",
     "text": [
      "Progress |\u001b[32m\u001b[0m|   0.79%  [Elapsed: 0:12:11 ETA: 1 day, 1:27:48] Portfolio Val: 99,443.71"
     ]
    },
    {
     "name": "stderr",
     "output_type": "stream",
     "text": [
      "2024-12-10 16:04:52,959: INFO: Current backtesting datetime 2010-02-10 11:30:00-05:00\n",
      "2024-12-10 16:04:52,965: INFO: [HumblChannelSingleLong] Processing trade event. Trade event received for HumblChannelSingleLong strategy: new SPY, processed by broker backtesting\n",
      "2024-12-10 16:04:52,965: INFO: [HumblChannelSingleLong] \u001b[32mNew order was created: market order of | 1 SPY buy | new\u001b[0m\n",
      "2024-12-10 16:04:52,967: INFO: [HumblChannelSingleLong] Processing a new order, payload: {'order': market order of | 1 SPY buy | new}\n",
      "2024-12-10 16:04:52,968: INFO: [HumblChannelSingleLong] Getting historical prices for SPY, 1 bars, \n",
      "2024-12-10 16:04:52,970: INFO: [HumblChannelSingleLong] Processing trade event. Trade event received for HumblChannelSingleLong strategy: fill SPY, processed by broker backtesting\n",
      "2024-12-10 16:04:52,970: INFO: [HumblChannelSingleLong] \u001b[32mOrder was filled: market order of | 1 SPY buy | @ $107.05 fill\u001b[0m\n",
      "2024-12-10 16:04:52,972: INFO: [HumblChannelSingleLong] Processing a filled order, payload: {'position': HumblChannelSingleLong Position: 143.0 shares of SPY (185 orders), 'order': market order of | 1 SPY buy | @ $107.05 fill, 'price': 107.05000305175781, 'quantity': 1.0, 'multiplier': 1}\n"
     ]
    },
    {
     "name": "stdout",
     "output_type": "stream",
     "text": [
      "Progress |\u001b[32m\u001b[0m|   0.79%  [Elapsed: 0:12:11 ETA: 1 day, 1:26:15] Portfolio Val: 99,443.71"
     ]
    },
    {
     "name": "stderr",
     "output_type": "stream",
     "text": [
      "2024-12-10 16:04:52,972: INFO: Current backtesting datetime 2010-02-10 12:30:00-05:00\n",
      "2024-12-10 16:04:52,976: INFO: [HumblChannelSingleLong] Processing trade event. Trade event received for HumblChannelSingleLong strategy: new SPY, processed by broker backtesting\n",
      "2024-12-10 16:04:52,977: INFO: [HumblChannelSingleLong] \u001b[32mNew order was created: market order of | 1 SPY buy | new\u001b[0m\n",
      "2024-12-10 16:04:52,979: INFO: [HumblChannelSingleLong] Processing a new order, payload: {'order': market order of | 1 SPY buy | new}\n",
      "2024-12-10 16:04:52,979: INFO: [HumblChannelSingleLong] Getting historical prices for SPY, 1 bars, \n",
      "2024-12-10 16:04:52,981: INFO: [HumblChannelSingleLong] Processing trade event. Trade event received for HumblChannelSingleLong strategy: fill SPY, processed by broker backtesting\n",
      "2024-12-10 16:04:52,981: INFO: [HumblChannelSingleLong] \u001b[32mOrder was filled: market order of | 1 SPY buy | @ $107.05 fill\u001b[0m\n",
      "2024-12-10 16:04:52,983: INFO: [HumblChannelSingleLong] Processing a filled order, payload: {'position': HumblChannelSingleLong Position: 144.0 shares of SPY (186 orders), 'order': market order of | 1 SPY buy | @ $107.05 fill, 'price': 107.05000305175781, 'quantity': 1.0, 'multiplier': 1}\n"
     ]
    },
    {
     "name": "stdout",
     "output_type": "stream",
     "text": [
      "Progress |\u001b[32m\u001b[0m|   0.79%  [Elapsed: 0:12:11 ETA: 1 day, 1:24:42] Portfolio Val: 99,443.71"
     ]
    },
    {
     "name": "stderr",
     "output_type": "stream",
     "text": [
      "2024-12-10 16:04:52,984: INFO: Current backtesting datetime 2010-02-10 13:30:00-05:00\n",
      "2024-12-10 16:04:52,988: INFO: [HumblChannelSingleLong] Processing trade event. Trade event received for HumblChannelSingleLong strategy: new SPY, processed by broker backtesting\n",
      "2024-12-10 16:04:52,988: INFO: [HumblChannelSingleLong] \u001b[32mNew order was created: market order of | 1 SPY buy | new\u001b[0m\n",
      "2024-12-10 16:04:52,990: INFO: [HumblChannelSingleLong] Processing a new order, payload: {'order': market order of | 1 SPY buy | new}\n",
      "2024-12-10 16:04:52,991: INFO: [HumblChannelSingleLong] Getting historical prices for SPY, 1 bars, \n",
      "2024-12-10 16:04:52,993: INFO: [HumblChannelSingleLong] Processing trade event. Trade event received for HumblChannelSingleLong strategy: fill SPY, processed by broker backtesting\n",
      "2024-12-10 16:04:52,993: INFO: [HumblChannelSingleLong] \u001b[32mOrder was filled: market order of | 1 SPY buy | @ $107.05 fill\u001b[0m\n",
      "2024-12-10 16:04:52,995: INFO: [HumblChannelSingleLong] Processing a filled order, payload: {'position': HumblChannelSingleLong Position: 145.0 shares of SPY (187 orders), 'order': market order of | 1 SPY buy | @ $107.05 fill, 'price': 107.05000305175781, 'quantity': 1.0, 'multiplier': 1}\n"
     ]
    },
    {
     "name": "stdout",
     "output_type": "stream",
     "text": [
      "Progress |\u001b[32m\u001b[0m|   0.79%  [Elapsed: 0:12:11 ETA: 1 day, 1:23:09] Portfolio Val: 99,443.71"
     ]
    },
    {
     "name": "stderr",
     "output_type": "stream",
     "text": [
      "2024-12-10 16:04:52,996: INFO: Current backtesting datetime 2010-02-10 14:30:00-05:00\n",
      "2024-12-10 16:04:53,000: INFO: [HumblChannelSingleLong] Processing trade event. Trade event received for HumblChannelSingleLong strategy: new SPY, processed by broker backtesting\n",
      "2024-12-10 16:04:53,000: INFO: [HumblChannelSingleLong] \u001b[32mNew order was created: market order of | 1 SPY buy | new\u001b[0m\n",
      "2024-12-10 16:04:53,002: INFO: [HumblChannelSingleLong] Processing a new order, payload: {'order': market order of | 1 SPY buy | new}\n",
      "2024-12-10 16:04:53,003: INFO: [HumblChannelSingleLong] Getting historical prices for SPY, 1 bars, \n",
      "2024-12-10 16:04:53,005: INFO: [HumblChannelSingleLong] Processing trade event. Trade event received for HumblChannelSingleLong strategy: fill SPY, processed by broker backtesting\n",
      "2024-12-10 16:04:53,005: INFO: [HumblChannelSingleLong] \u001b[32mOrder was filled: market order of | 1 SPY buy | @ $107.05 fill\u001b[0m\n",
      "2024-12-10 16:04:53,007: INFO: [HumblChannelSingleLong] Processing a filled order, payload: {'position': HumblChannelSingleLong Position: 146.0 shares of SPY (188 orders), 'order': market order of | 1 SPY buy | @ $107.05 fill, 'price': 107.05000305175781, 'quantity': 1.0, 'multiplier': 1}\n"
     ]
    },
    {
     "name": "stdout",
     "output_type": "stream",
     "text": [
      "Progress |\u001b[32m\u001b[0m|   0.79%  [Elapsed: 0:12:11 ETA: 1 day, 1:21:36] Portfolio Val: 99,443.71"
     ]
    },
    {
     "name": "stderr",
     "output_type": "stream",
     "text": [
      "2024-12-10 16:04:53,008: INFO: Current backtesting datetime 2010-02-10 15:30:00-05:00\n",
      "2024-12-10 16:04:53,012: INFO: [HumblChannelSingleLong] Processing trade event. Trade event received for HumblChannelSingleLong strategy: new SPY, processed by broker backtesting\n",
      "2024-12-10 16:04:53,012: INFO: [HumblChannelSingleLong] \u001b[32mNew order was created: market order of | 1 SPY buy | new\u001b[0m\n",
      "2024-12-10 16:04:53,015: INFO: [HumblChannelSingleLong] Processing a new order, payload: {'order': market order of | 1 SPY buy | new}\n",
      "2024-12-10 16:04:53,015: INFO: [HumblChannelSingleLong] Getting historical prices for SPY, 1 bars, \n",
      "2024-12-10 16:04:53,017: INFO: [HumblChannelSingleLong] Processing trade event. Trade event received for HumblChannelSingleLong strategy: fill SPY, processed by broker backtesting\n",
      "2024-12-10 16:04:53,017: INFO: [HumblChannelSingleLong] \u001b[32mOrder was filled: market order of | 1 SPY buy | @ $107.05 fill\u001b[0m\n",
      "2024-12-10 16:04:53,019: INFO: [HumblChannelSingleLong] Processing a filled order, payload: {'position': HumblChannelSingleLong Position: 147.0 shares of SPY (189 orders), 'order': market order of | 1 SPY buy | @ $107.05 fill, 'price': 107.05000305175781, 'quantity': 1.0, 'multiplier': 1}\n"
     ]
    },
    {
     "name": "stdout",
     "output_type": "stream",
     "text": [
      "Progress |\u001b[32m\u001b[0m|   0.80%  [Elapsed: 0:12:11 ETA: 1 day, 1:20:50] Portfolio Val: 99,443.71"
     ]
    },
    {
     "name": "stderr",
     "output_type": "stream",
     "text": [
      "2024-12-10 16:04:53,020: INFO: Current backtesting datetime 2010-02-10 16:00:00-05:00\n"
     ]
    },
    {
     "name": "stdout",
     "output_type": "stream",
     "text": [
      "Progress |\u001b[32m\u001b[0m|   0.80%  [Elapsed: 0:12:11 ETA: 1 day, 1:20:03] Portfolio Val: 99,443.71"
     ]
    },
    {
     "name": "stderr",
     "output_type": "stream",
     "text": [
      "2024-12-10 16:04:53,020: INFO: Current backtesting datetime 2010-02-10 16:30:00-05:00\n"
     ]
    },
    {
     "name": "stdout",
     "output_type": "stream",
     "text": [
      "Progress |\u001b[32m\u001b[0m|   0.80%  [Elapsed: 0:12:11 ETA: 1 day, 1:20:11] "
     ]
    },
    {
     "name": "stderr",
     "output_type": "stream",
     "text": [
      "2024-12-10 16:04:53,022: INFO: Current backtesting datetime 2010-02-10 16:25:00-05:00\n"
     ]
    },
    {
     "name": "stdout",
     "output_type": "stream",
     "text": [
      "Progress |\u001b[32m\u001b[0m|   0.80%  [Elapsed: 0:12:11 ETA: 1 day, 1:20:11] "
     ]
    },
    {
     "name": "stderr",
     "output_type": "stream",
     "text": [
      "2024-12-10 16:04:53,023: INFO: Current backtesting datetime 2010-02-10 16:25:00-05:00\n"
     ]
    },
    {
     "name": "stdout",
     "output_type": "stream",
     "text": [
      "Progress |\u001b[32m\u001b[0m|   0.81%  [Elapsed: 0:12:11 ETA: 1 day, 0:55:21] "
     ]
    },
    {
     "name": "stderr",
     "output_type": "stream",
     "text": [
      "2024-12-10 16:04:53,024: INFO: Current backtesting datetime 2010-02-11 08:30:00-05:00\n"
     ]
    },
    {
     "name": "stdout",
     "output_type": "stream",
     "text": [
      "Progress |\u001b[32m\u001b[0m|   0.81%  [Elapsed: 0:12:11 ETA: 1 day, 0:54:33] "
     ]
    },
    {
     "name": "stderr",
     "output_type": "stream",
     "text": [
      "2024-12-10 16:04:53,373: INFO: Current backtesting datetime 2010-02-11 09:30:00-05:00\n"
     ]
    },
    {
     "name": "stdout",
     "output_type": "stream",
     "text": [
      "Progress |\u001b[32m\u001b[0m|   0.81%  [Elapsed: 0:12:11 ETA: 1 day, 0:53:03] Portfolio Val: 99,417.25"
     ]
    },
    {
     "name": "stderr",
     "output_type": "stream",
     "text": [
      "2024-12-10 16:04:53,378: INFO: Current backtesting datetime 2010-02-11 10:30:00-05:00\n"
     ]
    },
    {
     "name": "stdout",
     "output_type": "stream",
     "text": [
      "Progress |\u001b[32m\u001b[0m|   0.81%  [Elapsed: 0:12:11 ETA: 1 day, 0:51:32] Portfolio Val: 99,417.25"
     ]
    },
    {
     "name": "stderr",
     "output_type": "stream",
     "text": [
      "2024-12-10 16:04:53,382: INFO: Current backtesting datetime 2010-02-11 11:30:00-05:00\n"
     ]
    },
    {
     "name": "stdout",
     "output_type": "stream",
     "text": [
      "Progress |\u001b[32m\u001b[0m|   0.81%  [Elapsed: 0:12:11 ETA: 1 day, 0:50:02] Portfolio Val: 99,417.25"
     ]
    },
    {
     "name": "stderr",
     "output_type": "stream",
     "text": [
      "2024-12-10 16:04:53,386: INFO: Current backtesting datetime 2010-02-11 12:30:00-05:00\n"
     ]
    },
    {
     "name": "stdout",
     "output_type": "stream",
     "text": [
      "Progress |\u001b[32m\u001b[0m|   0.81%  [Elapsed: 0:12:11 ETA: 1 day, 0:48:33] Portfolio Val: 99,417.25"
     ]
    },
    {
     "name": "stderr",
     "output_type": "stream",
     "text": [
      "2024-12-10 16:04:53,391: INFO: Current backtesting datetime 2010-02-11 13:30:00-05:00\n"
     ]
    },
    {
     "name": "stdout",
     "output_type": "stream",
     "text": [
      "Progress |\u001b[32m\u001b[0m|   0.81%  [Elapsed: 0:12:11 ETA: 1 day, 0:47:03] Portfolio Val: 99,417.25"
     ]
    },
    {
     "name": "stderr",
     "output_type": "stream",
     "text": [
      "2024-12-10 16:04:53,395: INFO: Current backtesting datetime 2010-02-11 14:30:00-05:00\n"
     ]
    },
    {
     "name": "stdout",
     "output_type": "stream",
     "text": [
      "Progress |\u001b[32m\u001b[0m|   0.81%  [Elapsed: 0:12:11 ETA: 1 day, 0:45:33] Portfolio Val: 99,417.25"
     ]
    },
    {
     "name": "stderr",
     "output_type": "stream",
     "text": [
      "2024-12-10 16:04:53,399: INFO: Current backtesting datetime 2010-02-11 15:30:00-05:00\n"
     ]
    },
    {
     "name": "stdout",
     "output_type": "stream",
     "text": [
      "Progress |\u001b[32m\u001b[0m|   0.81%  [Elapsed: 0:12:11 ETA: 1 day, 0:44:49] Portfolio Val: 99,417.25"
     ]
    },
    {
     "name": "stderr",
     "output_type": "stream",
     "text": [
      "2024-12-10 16:04:53,403: INFO: Current backtesting datetime 2010-02-11 16:00:00-05:00\n"
     ]
    },
    {
     "name": "stdout",
     "output_type": "stream",
     "text": [
      "Progress |\u001b[32m\u001b[0m|   0.82%  [Elapsed: 0:12:11 ETA: 1 day, 0:44:04] Portfolio Val: 99,417.25"
     ]
    },
    {
     "name": "stderr",
     "output_type": "stream",
     "text": [
      "2024-12-10 16:04:53,404: INFO: Current backtesting datetime 2010-02-11 16:30:00-05:00\n"
     ]
    },
    {
     "name": "stdout",
     "output_type": "stream",
     "text": [
      "Progress |\u001b[32m\u001b[0m|   0.82%  [Elapsed: 0:12:11 ETA: 1 day, 0:44:12] "
     ]
    },
    {
     "name": "stderr",
     "output_type": "stream",
     "text": [
      "2024-12-10 16:04:53,406: INFO: Current backtesting datetime 2010-02-11 16:25:00-05:00\n"
     ]
    },
    {
     "name": "stdout",
     "output_type": "stream",
     "text": [
      "Progress |\u001b[32m\u001b[0m|   0.82%  [Elapsed: 0:12:11 ETA: 1 day, 0:44:12] "
     ]
    },
    {
     "name": "stderr",
     "output_type": "stream",
     "text": [
      "2024-12-10 16:04:53,406: INFO: Current backtesting datetime 2010-02-11 16:25:00-05:00\n"
     ]
    },
    {
     "name": "stdout",
     "output_type": "stream",
     "text": [
      "Progress |\u001b[32m\u001b[0m|   0.83%  [Elapsed: 0:12:11 ETA: 1 day, 0:20:32] "
     ]
    },
    {
     "name": "stderr",
     "output_type": "stream",
     "text": [
      "2024-12-10 16:04:53,408: INFO: Current backtesting datetime 2010-02-12 08:30:00-05:00\n"
     ]
    },
    {
     "name": "stdout",
     "output_type": "stream",
     "text": [
      "Progress |\u001b[32m\u001b[0m|   0.83%  [Elapsed: 0:12:12 ETA: 1 day, 0:19:26] "
     ]
    },
    {
     "name": "stderr",
     "output_type": "stream",
     "text": [
      "2024-12-10 16:04:53,582: INFO: Current backtesting datetime 2010-02-12 09:30:00-05:00\n",
      "2024-12-10 16:04:53,587: INFO: [HumblChannelSingleLong] Processing trade event. Trade event received for HumblChannelSingleLong strategy: new SPY, processed by broker backtesting\n",
      "2024-12-10 16:04:53,587: INFO: [HumblChannelSingleLong] \u001b[32mNew order was created: market order of | 1 SPY buy | new\u001b[0m\n",
      "2024-12-10 16:04:53,590: INFO: [HumblChannelSingleLong] Processing a new order, payload: {'order': market order of | 1 SPY buy | new}\n",
      "2024-12-10 16:04:53,590: INFO: [HumblChannelSingleLong] Getting historical prices for SPY, 1 bars, \n",
      "2024-12-10 16:04:53,591: INFO: [HumblChannelSingleLong] Processing trade event. Trade event received for HumblChannelSingleLong strategy: fill SPY, processed by broker backtesting\n",
      "2024-12-10 16:04:53,592: INFO: [HumblChannelSingleLong] \u001b[32mOrder was filled: market order of | 1 SPY buy | @ $106.99 fill\u001b[0m\n",
      "2024-12-10 16:04:53,594: INFO: [HumblChannelSingleLong] Processing a filled order, payload: {'position': HumblChannelSingleLong Position: 148.0 shares of SPY (190 orders), 'order': market order of | 1 SPY buy | @ $106.99 fill, 'price': 106.98999786376953, 'quantity': 1.0, 'multiplier': 1}\n"
     ]
    },
    {
     "name": "stdout",
     "output_type": "stream",
     "text": [
      "Progress |\u001b[32m\u001b[0m|   0.83%  [Elapsed: 0:12:12 ETA: 1 day, 0:18:00] Portfolio Val: 99,434.89"
     ]
    },
    {
     "name": "stderr",
     "output_type": "stream",
     "text": [
      "2024-12-10 16:04:53,594: INFO: Current backtesting datetime 2010-02-12 10:30:00-05:00\n",
      "2024-12-10 16:04:53,600: INFO: [HumblChannelSingleLong] Processing trade event. Trade event received for HumblChannelSingleLong strategy: new SPY, processed by broker backtesting\n",
      "2024-12-10 16:04:53,600: INFO: [HumblChannelSingleLong] \u001b[32mNew order was created: market order of | 1 SPY buy | new\u001b[0m\n",
      "2024-12-10 16:04:53,603: INFO: [HumblChannelSingleLong] Processing a new order, payload: {'order': market order of | 1 SPY buy | new}\n",
      "2024-12-10 16:04:53,603: INFO: [HumblChannelSingleLong] Getting historical prices for SPY, 1 bars, \n",
      "2024-12-10 16:04:53,605: INFO: [HumblChannelSingleLong] Processing trade event. Trade event received for HumblChannelSingleLong strategy: fill SPY, processed by broker backtesting\n",
      "2024-12-10 16:04:53,606: INFO: [HumblChannelSingleLong] \u001b[32mOrder was filled: market order of | 1 SPY buy | @ $106.99 fill\u001b[0m\n",
      "2024-12-10 16:04:53,609: INFO: [HumblChannelSingleLong] Processing a filled order, payload: {'position': HumblChannelSingleLong Position: 149.0 shares of SPY (191 orders), 'order': market order of | 1 SPY buy | @ $106.99 fill, 'price': 106.98999786376953, 'quantity': 1.0, 'multiplier': 1}\n"
     ]
    },
    {
     "name": "stdout",
     "output_type": "stream",
     "text": [
      "Progress |\u001b[32m\u001b[0m|   0.83%  [Elapsed: 0:12:12 ETA: 1 day, 0:16:36] Portfolio Val: 99,434.89"
     ]
    },
    {
     "name": "stderr",
     "output_type": "stream",
     "text": [
      "2024-12-10 16:04:53,610: INFO: Current backtesting datetime 2010-02-12 11:30:00-05:00\n",
      "2024-12-10 16:04:53,614: INFO: [HumblChannelSingleLong] Processing trade event. Trade event received for HumblChannelSingleLong strategy: new SPY, processed by broker backtesting\n",
      "2024-12-10 16:04:53,614: INFO: [HumblChannelSingleLong] \u001b[32mNew order was created: market order of | 1 SPY buy | new\u001b[0m\n",
      "2024-12-10 16:04:53,617: INFO: [HumblChannelSingleLong] Processing a new order, payload: {'order': market order of | 1 SPY buy | new}\n",
      "2024-12-10 16:04:53,617: INFO: [HumblChannelSingleLong] Getting historical prices for SPY, 1 bars, \n",
      "2024-12-10 16:04:53,619: INFO: [HumblChannelSingleLong] Processing trade event. Trade event received for HumblChannelSingleLong strategy: fill SPY, processed by broker backtesting\n",
      "2024-12-10 16:04:53,620: INFO: [HumblChannelSingleLong] \u001b[32mOrder was filled: market order of | 1 SPY buy | @ $106.99 fill\u001b[0m\n",
      "2024-12-10 16:04:53,621: INFO: [HumblChannelSingleLong] Processing a filled order, payload: {'position': HumblChannelSingleLong Position: 150.0 shares of SPY (192 orders), 'order': market order of | 1 SPY buy | @ $106.99 fill, 'price': 106.98999786376953, 'quantity': 1.0, 'multiplier': 1}\n"
     ]
    },
    {
     "name": "stdout",
     "output_type": "stream",
     "text": [
      "Progress |\u001b[32m\u001b[0m|   0.83%  [Elapsed: 0:12:12 ETA: 1 day, 0:15:11] Portfolio Val: 99,434.89"
     ]
    },
    {
     "name": "stderr",
     "output_type": "stream",
     "text": [
      "2024-12-10 16:04:53,622: INFO: Current backtesting datetime 2010-02-12 12:30:00-05:00\n",
      "2024-12-10 16:04:53,626: INFO: [HumblChannelSingleLong] Processing trade event. Trade event received for HumblChannelSingleLong strategy: new SPY, processed by broker backtesting\n",
      "2024-12-10 16:04:53,627: INFO: [HumblChannelSingleLong] \u001b[32mNew order was created: market order of | 1 SPY buy | new\u001b[0m\n",
      "2024-12-10 16:04:53,630: INFO: [HumblChannelSingleLong] Processing a new order, payload: {'order': market order of | 1 SPY buy | new}\n",
      "2024-12-10 16:04:53,631: INFO: [HumblChannelSingleLong] Getting historical prices for SPY, 1 bars, \n",
      "2024-12-10 16:04:53,632: INFO: [HumblChannelSingleLong] Processing trade event. Trade event received for HumblChannelSingleLong strategy: fill SPY, processed by broker backtesting\n",
      "2024-12-10 16:04:53,633: INFO: [HumblChannelSingleLong] \u001b[32mOrder was filled: market order of | 1 SPY buy | @ $106.99 fill\u001b[0m\n",
      "2024-12-10 16:04:53,635: INFO: [HumblChannelSingleLong] Processing a filled order, payload: {'position': HumblChannelSingleLong Position: 151.0 shares of SPY (193 orders), 'order': market order of | 1 SPY buy | @ $106.99 fill, 'price': 106.98999786376953, 'quantity': 1.0, 'multiplier': 1}\n"
     ]
    },
    {
     "name": "stdout",
     "output_type": "stream",
     "text": [
      "Progress |\u001b[32m\u001b[0m|   0.83%  [Elapsed: 0:12:12 ETA: 1 day, 0:13:46] Portfolio Val: 99,434.89"
     ]
    },
    {
     "name": "stderr",
     "output_type": "stream",
     "text": [
      "2024-12-10 16:04:53,636: INFO: Current backtesting datetime 2010-02-12 13:30:00-05:00\n",
      "2024-12-10 16:04:53,641: INFO: [HumblChannelSingleLong] Processing trade event. Trade event received for HumblChannelSingleLong strategy: new SPY, processed by broker backtesting\n",
      "2024-12-10 16:04:53,642: INFO: [HumblChannelSingleLong] \u001b[32mNew order was created: market order of | 1 SPY buy | new\u001b[0m\n",
      "2024-12-10 16:04:53,645: INFO: [HumblChannelSingleLong] Processing a new order, payload: {'order': market order of | 1 SPY buy | new}\n",
      "2024-12-10 16:04:53,646: INFO: [HumblChannelSingleLong] Getting historical prices for SPY, 1 bars, \n",
      "2024-12-10 16:04:53,648: INFO: [HumblChannelSingleLong] Processing trade event. Trade event received for HumblChannelSingleLong strategy: fill SPY, processed by broker backtesting\n",
      "2024-12-10 16:04:53,648: INFO: [HumblChannelSingleLong] \u001b[32mOrder was filled: market order of | 1 SPY buy | @ $106.99 fill\u001b[0m\n",
      "2024-12-10 16:04:53,651: INFO: [HumblChannelSingleLong] Processing a filled order, payload: {'position': HumblChannelSingleLong Position: 152.0 shares of SPY (194 orders), 'order': market order of | 1 SPY buy | @ $106.99 fill, 'price': 106.98999786376953, 'quantity': 1.0, 'multiplier': 1}\n"
     ]
    },
    {
     "name": "stdout",
     "output_type": "stream",
     "text": [
      "Progress |\u001b[32m\u001b[0m|   0.83%  [Elapsed: 0:12:12 ETA: 1 day, 0:12:22] Portfolio Val: 99,434.89"
     ]
    },
    {
     "name": "stderr",
     "output_type": "stream",
     "text": [
      "2024-12-10 16:04:53,652: INFO: Current backtesting datetime 2010-02-12 14:30:00-05:00\n",
      "2024-12-10 16:04:53,658: INFO: [HumblChannelSingleLong] Processing trade event. Trade event received for HumblChannelSingleLong strategy: new SPY, processed by broker backtesting\n",
      "2024-12-10 16:04:53,659: INFO: [HumblChannelSingleLong] \u001b[32mNew order was created: market order of | 1 SPY buy | new\u001b[0m\n",
      "2024-12-10 16:04:53,662: INFO: [HumblChannelSingleLong] Processing a new order, payload: {'order': market order of | 1 SPY buy | new}\n",
      "2024-12-10 16:04:53,662: INFO: [HumblChannelSingleLong] Getting historical prices for SPY, 1 bars, \n",
      "2024-12-10 16:04:53,665: INFO: [HumblChannelSingleLong] Processing trade event. Trade event received for HumblChannelSingleLong strategy: fill SPY, processed by broker backtesting\n",
      "2024-12-10 16:04:53,665: INFO: [HumblChannelSingleLong] \u001b[32mOrder was filled: market order of | 1 SPY buy | @ $106.99 fill\u001b[0m\n",
      "2024-12-10 16:04:53,668: INFO: [HumblChannelSingleLong] Processing a filled order, payload: {'position': HumblChannelSingleLong Position: 153.0 shares of SPY (195 orders), 'order': market order of | 1 SPY buy | @ $106.99 fill, 'price': 106.98999786376953, 'quantity': 1.0, 'multiplier': 1}\n"
     ]
    },
    {
     "name": "stdout",
     "output_type": "stream",
     "text": [
      "Progress |\u001b[32m\u001b[0m|   0.83%  [Elapsed: 0:12:12 ETA: 1 day, 0:10:58] Portfolio Val: 99,434.89"
     ]
    },
    {
     "name": "stderr",
     "output_type": "stream",
     "text": [
      "2024-12-10 16:04:53,669: INFO: Current backtesting datetime 2010-02-12 15:30:00-05:00\n",
      "2024-12-10 16:04:53,673: INFO: [HumblChannelSingleLong] Processing trade event. Trade event received for HumblChannelSingleLong strategy: new SPY, processed by broker backtesting\n",
      "2024-12-10 16:04:53,673: INFO: [HumblChannelSingleLong] \u001b[32mNew order was created: market order of | 1 SPY buy | new\u001b[0m\n",
      "2024-12-10 16:04:53,675: INFO: [HumblChannelSingleLong] Processing a new order, payload: {'order': market order of | 1 SPY buy | new}\n",
      "2024-12-10 16:04:53,676: INFO: [HumblChannelSingleLong] Getting historical prices for SPY, 1 bars, \n",
      "2024-12-10 16:04:53,678: INFO: [HumblChannelSingleLong] Processing trade event. Trade event received for HumblChannelSingleLong strategy: fill SPY, processed by broker backtesting\n",
      "2024-12-10 16:04:53,678: INFO: [HumblChannelSingleLong] \u001b[32mOrder was filled: market order of | 1 SPY buy | @ $106.99 fill\u001b[0m\n",
      "2024-12-10 16:04:53,680: INFO: [HumblChannelSingleLong] Processing a filled order, payload: {'position': HumblChannelSingleLong Position: 154.0 shares of SPY (196 orders), 'order': market order of | 1 SPY buy | @ $106.99 fill, 'price': 106.98999786376953, 'quantity': 1.0, 'multiplier': 1}\n"
     ]
    },
    {
     "name": "stdout",
     "output_type": "stream",
     "text": [
      "Progress |\u001b[32m\u001b[0m|   0.83%  [Elapsed: 0:12:12 ETA: 1 day, 0:10:17] Portfolio Val: 99,434.89"
     ]
    },
    {
     "name": "stderr",
     "output_type": "stream",
     "text": [
      "2024-12-10 16:04:53,681: INFO: Current backtesting datetime 2010-02-12 16:00:00-05:00\n"
     ]
    },
    {
     "name": "stdout",
     "output_type": "stream",
     "text": [
      "Progress |\u001b[32m\u001b[0m|   0.83%  [Elapsed: 0:12:12 ETA: 1 day, 0:09:34] Portfolio Val: 99,434.89"
     ]
    },
    {
     "name": "stderr",
     "output_type": "stream",
     "text": [
      "2024-12-10 16:04:53,681: INFO: Current backtesting datetime 2010-02-12 16:30:00-05:00\n"
     ]
    },
    {
     "name": "stdout",
     "output_type": "stream",
     "text": [
      "Progress |\u001b[32m\u001b[0m|   0.83%  [Elapsed: 0:12:12 ETA: 1 day, 0:09:42] "
     ]
    },
    {
     "name": "stderr",
     "output_type": "stream",
     "text": [
      "2024-12-10 16:04:53,684: INFO: Current backtesting datetime 2010-02-12 16:25:00-05:00\n"
     ]
    },
    {
     "name": "stdout",
     "output_type": "stream",
     "text": [
      "Progress |\u001b[32m\u001b[0m|   0.83%  [Elapsed: 0:12:12 ETA: 1 day, 0:09:42] "
     ]
    },
    {
     "name": "stderr",
     "output_type": "stream",
     "text": [
      "2024-12-10 16:04:53,685: INFO: Current backtesting datetime 2010-02-12 16:25:00-05:00\n"
     ]
    },
    {
     "name": "stdout",
     "output_type": "stream",
     "text": [
      "Progress |\u001b[32m\u001b[0m|   0.91%  [Elapsed: 0:12:12 ETA: 22:13:57] "
     ]
    },
    {
     "name": "stderr",
     "output_type": "stream",
     "text": [
      "2024-12-10 16:04:53,687: INFO: Current backtesting datetime 2010-02-16 08:30:00-05:00\n"
     ]
    },
    {
     "name": "stdout",
     "output_type": "stream",
     "text": [
      "Progress |\u001b[32m\u001b[0m|   0.91%  [Elapsed: 0:12:12 ETA: 22:13:04] "
     ]
    },
    {
     "name": "stderr",
     "output_type": "stream",
     "text": [
      "2024-12-10 16:04:53,869: INFO: Current backtesting datetime 2010-02-16 09:30:00-05:00\n"
     ]
    },
    {
     "name": "stdout",
     "output_type": "stream",
     "text": [
      "Progress |\u001b[32m\u001b[0m|   0.91%  [Elapsed: 0:12:12 ETA: 22:11:52] Portfolio Val: 99,722.87"
     ]
    },
    {
     "name": "stderr",
     "output_type": "stream",
     "text": [
      "2024-12-10 16:04:53,874: INFO: Current backtesting datetime 2010-02-16 10:30:00-05:00\n"
     ]
    },
    {
     "name": "stdout",
     "output_type": "stream",
     "text": [
      "Progress |\u001b[32m\u001b[0m|   0.91%  [Elapsed: 0:12:12 ETA: 22:10:41] Portfolio Val: 99,722.87"
     ]
    },
    {
     "name": "stderr",
     "output_type": "stream",
     "text": [
      "2024-12-10 16:04:53,880: INFO: Current backtesting datetime 2010-02-16 11:30:00-05:00\n"
     ]
    },
    {
     "name": "stdout",
     "output_type": "stream",
     "text": [
      "Progress |\u001b[32m\u001b[0m|   0.91%  [Elapsed: 0:12:12 ETA: 22:09:29] Portfolio Val: 99,722.87"
     ]
    },
    {
     "name": "stderr",
     "output_type": "stream",
     "text": [
      "2024-12-10 16:04:53,887: INFO: Current backtesting datetime 2010-02-16 12:30:00-05:00\n"
     ]
    },
    {
     "name": "stdout",
     "output_type": "stream",
     "text": [
      "Progress |\u001b[32m\u001b[0m|   0.91%  [Elapsed: 0:12:12 ETA: 22:08:18] Portfolio Val: 99,722.87"
     ]
    },
    {
     "name": "stderr",
     "output_type": "stream",
     "text": [
      "2024-12-10 16:04:53,891: INFO: Current backtesting datetime 2010-02-16 13:30:00-05:00\n"
     ]
    },
    {
     "name": "stdout",
     "output_type": "stream",
     "text": [
      "Progress |\u001b[32m\u001b[0m|   0.91%  [Elapsed: 0:12:12 ETA: 22:07:07] Portfolio Val: 99,722.87"
     ]
    },
    {
     "name": "stderr",
     "output_type": "stream",
     "text": [
      "2024-12-10 16:04:53,897: INFO: Current backtesting datetime 2010-02-16 14:30:00-05:00\n"
     ]
    },
    {
     "name": "stdout",
     "output_type": "stream",
     "text": [
      "Progress |\u001b[32m\u001b[0m|   0.91%  [Elapsed: 0:12:12 ETA: 22:05:55] Portfolio Val: 99,722.87"
     ]
    },
    {
     "name": "stderr",
     "output_type": "stream",
     "text": [
      "2024-12-10 16:04:53,902: INFO: Current backtesting datetime 2010-02-16 15:30:00-05:00\n"
     ]
    },
    {
     "name": "stdout",
     "output_type": "stream",
     "text": [
      "Progress |\u001b[32m\u001b[0m|   0.91%  [Elapsed: 0:12:12 ETA: 22:05:20] Portfolio Val: 99,722.87"
     ]
    },
    {
     "name": "stderr",
     "output_type": "stream",
     "text": [
      "2024-12-10 16:04:53,906: INFO: Current backtesting datetime 2010-02-16 16:00:00-05:00\n"
     ]
    },
    {
     "name": "stdout",
     "output_type": "stream",
     "text": [
      "Progress |\u001b[32m\u001b[0m|   0.91%  [Elapsed: 0:12:12 ETA: 22:04:44] Portfolio Val: 99,722.87"
     ]
    },
    {
     "name": "stderr",
     "output_type": "stream",
     "text": [
      "2024-12-10 16:04:53,907: INFO: Current backtesting datetime 2010-02-16 16:30:00-05:00\n"
     ]
    },
    {
     "name": "stdout",
     "output_type": "stream",
     "text": [
      "Progress |\u001b[32m\u001b[0m|   0.91%  [Elapsed: 0:12:12 ETA: 22:04:50] "
     ]
    },
    {
     "name": "stderr",
     "output_type": "stream",
     "text": [
      "2024-12-10 16:04:53,910: INFO: Current backtesting datetime 2010-02-16 16:25:00-05:00\n"
     ]
    },
    {
     "name": "stdout",
     "output_type": "stream",
     "text": [
      "Progress |\u001b[32m\u001b[0m|   0.91%  [Elapsed: 0:12:12 ETA: 22:04:51] "
     ]
    },
    {
     "name": "stderr",
     "output_type": "stream",
     "text": [
      "2024-12-10 16:04:53,911: INFO: Current backtesting datetime 2010-02-16 16:25:00-05:00\n"
     ]
    },
    {
     "name": "stdout",
     "output_type": "stream",
     "text": [
      "Progress |\u001b[32m\u001b[0m|   0.93%  [Elapsed: 0:12:12 ETA: 21:45:56] "
     ]
    },
    {
     "name": "stderr",
     "output_type": "stream",
     "text": [
      "2024-12-10 16:04:53,914: INFO: Current backtesting datetime 2010-02-17 08:30:00-05:00\n"
     ]
    },
    {
     "name": "stdout",
     "output_type": "stream",
     "text": [
      "Progress |\u001b[32m\u001b[0m|   0.93%  [Elapsed: 0:12:12 ETA: 21:45:05] "
     ]
    },
    {
     "name": "stderr",
     "output_type": "stream",
     "text": [
      "2024-12-10 16:04:54,091: INFO: Current backtesting datetime 2010-02-17 09:30:00-05:00\n",
      "2024-12-10 16:04:54,096: INFO: [HumblChannelSingleLong] Processing trade event. Trade event received for HumblChannelSingleLong strategy: new SPY, processed by broker backtesting\n",
      "2024-12-10 16:04:54,096: INFO: [HumblChannelSingleLong] \u001b[32mNew order was created: market order of | 1 SPY sell | new\u001b[0m\n",
      "2024-12-10 16:04:54,099: INFO: [HumblChannelSingleLong] Processing a new order, payload: {'order': market order of | 1 SPY sell | new}\n",
      "2024-12-10 16:04:54,099: INFO: [HumblChannelSingleLong] Getting historical prices for SPY, 1 bars, \n",
      "2024-12-10 16:04:54,101: INFO: [HumblChannelSingleLong] Processing trade event. Trade event received for HumblChannelSingleLong strategy: fill SPY, processed by broker backtesting\n",
      "2024-12-10 16:04:54,102: INFO: [HumblChannelSingleLong] \u001b[32mOrder was filled: market order of | 1 SPY sell | @ $110.27 fill\u001b[0m\n",
      "2024-12-10 16:04:54,103: INFO: [HumblChannelSingleLong] Processing a filled order, payload: {'position': HumblChannelSingleLong Position: 153.0 shares of SPY (197 orders), 'order': market order of | 1 SPY sell | @ $110.27 fill, 'price': 110.2699966430664, 'quantity': 1.0, 'multiplier': 1}\n"
     ]
    },
    {
     "name": "stdout",
     "output_type": "stream",
     "text": [
      "Progress |\u001b[32m\u001b[0m|   0.93%  [Elapsed: 0:12:12 ETA: 21:43:57] Portfolio Val: 99,940.01"
     ]
    },
    {
     "name": "stderr",
     "output_type": "stream",
     "text": [
      "2024-12-10 16:04:54,104: INFO: Current backtesting datetime 2010-02-17 10:30:00-05:00\n",
      "2024-12-10 16:04:54,108: INFO: [HumblChannelSingleLong] Processing trade event. Trade event received for HumblChannelSingleLong strategy: new SPY, processed by broker backtesting\n",
      "2024-12-10 16:04:54,109: INFO: [HumblChannelSingleLong] \u001b[32mNew order was created: market order of | 1 SPY sell | new\u001b[0m\n",
      "2024-12-10 16:04:54,111: INFO: [HumblChannelSingleLong] Processing a new order, payload: {'order': market order of | 1 SPY sell | new}\n",
      "2024-12-10 16:04:54,112: INFO: [HumblChannelSingleLong] Getting historical prices for SPY, 1 bars, \n",
      "2024-12-10 16:04:54,113: INFO: [HumblChannelSingleLong] Processing trade event. Trade event received for HumblChannelSingleLong strategy: fill SPY, processed by broker backtesting\n",
      "2024-12-10 16:04:54,114: INFO: [HumblChannelSingleLong] \u001b[32mOrder was filled: market order of | 1 SPY sell | @ $110.27 fill\u001b[0m\n",
      "2024-12-10 16:04:54,117: INFO: [HumblChannelSingleLong] Processing a filled order, payload: {'position': HumblChannelSingleLong Position: 152.0 shares of SPY (198 orders), 'order': market order of | 1 SPY sell | @ $110.27 fill, 'price': 110.2699966430664, 'quantity': 1.0, 'multiplier': 1}\n"
     ]
    },
    {
     "name": "stdout",
     "output_type": "stream",
     "text": [
      "Progress |\u001b[32m\u001b[0m|   0.93%  [Elapsed: 0:12:12 ETA: 21:42:49] Portfolio Val: 99,940.01"
     ]
    },
    {
     "name": "stderr",
     "output_type": "stream",
     "text": [
      "2024-12-10 16:04:54,118: INFO: Current backtesting datetime 2010-02-17 11:30:00-05:00\n",
      "2024-12-10 16:04:54,122: INFO: [HumblChannelSingleLong] Processing trade event. Trade event received for HumblChannelSingleLong strategy: new SPY, processed by broker backtesting\n",
      "2024-12-10 16:04:54,122: INFO: [HumblChannelSingleLong] \u001b[32mNew order was created: market order of | 1 SPY sell | new\u001b[0m\n",
      "2024-12-10 16:04:54,125: INFO: [HumblChannelSingleLong] Processing a new order, payload: {'order': market order of | 1 SPY sell | new}\n",
      "2024-12-10 16:04:54,126: INFO: [HumblChannelSingleLong] Getting historical prices for SPY, 1 bars, \n",
      "2024-12-10 16:04:54,128: INFO: [HumblChannelSingleLong] Processing trade event. Trade event received for HumblChannelSingleLong strategy: fill SPY, processed by broker backtesting\n",
      "2024-12-10 16:04:54,129: INFO: [HumblChannelSingleLong] \u001b[32mOrder was filled: market order of | 1 SPY sell | @ $110.27 fill\u001b[0m\n",
      "2024-12-10 16:04:54,131: INFO: [HumblChannelSingleLong] Processing a filled order, payload: {'position': HumblChannelSingleLong Position: 151.0 shares of SPY (199 orders), 'order': market order of | 1 SPY sell | @ $110.27 fill, 'price': 110.2699966430664, 'quantity': 1.0, 'multiplier': 1}\n"
     ]
    },
    {
     "name": "stdout",
     "output_type": "stream",
     "text": [
      "Progress |\u001b[32m\u001b[0m|   0.93%  [Elapsed: 0:12:12 ETA: 21:41:41] Portfolio Val: 99,940.01"
     ]
    },
    {
     "name": "stderr",
     "output_type": "stream",
     "text": [
      "2024-12-10 16:04:54,132: INFO: Current backtesting datetime 2010-02-17 12:30:00-05:00\n",
      "2024-12-10 16:04:54,136: INFO: [HumblChannelSingleLong] Processing trade event. Trade event received for HumblChannelSingleLong strategy: new SPY, processed by broker backtesting\n",
      "2024-12-10 16:04:54,136: INFO: [HumblChannelSingleLong] \u001b[32mNew order was created: market order of | 1 SPY sell | new\u001b[0m\n",
      "2024-12-10 16:04:54,138: INFO: [HumblChannelSingleLong] Processing a new order, payload: {'order': market order of | 1 SPY sell | new}\n",
      "2024-12-10 16:04:54,139: INFO: [HumblChannelSingleLong] Getting historical prices for SPY, 1 bars, \n",
      "2024-12-10 16:04:54,141: INFO: [HumblChannelSingleLong] Processing trade event. Trade event received for HumblChannelSingleLong strategy: fill SPY, processed by broker backtesting\n",
      "2024-12-10 16:04:54,141: INFO: [HumblChannelSingleLong] \u001b[32mOrder was filled: market order of | 1 SPY sell | @ $110.27 fill\u001b[0m\n",
      "2024-12-10 16:04:54,143: INFO: [HumblChannelSingleLong] Processing a filled order, payload: {'position': HumblChannelSingleLong Position: 150.0 shares of SPY (200 orders), 'order': market order of | 1 SPY sell | @ $110.27 fill, 'price': 110.2699966430664, 'quantity': 1.0, 'multiplier': 1}\n"
     ]
    },
    {
     "name": "stdout",
     "output_type": "stream",
     "text": [
      "Progress |\u001b[32m\u001b[0m|   0.93%  [Elapsed: 0:12:12 ETA: 21:40:34] Portfolio Val: 99,940.01"
     ]
    },
    {
     "name": "stderr",
     "output_type": "stream",
     "text": [
      "2024-12-10 16:04:54,143: INFO: Current backtesting datetime 2010-02-17 13:30:00-05:00\n",
      "2024-12-10 16:04:54,147: INFO: [HumblChannelSingleLong] Processing trade event. Trade event received for HumblChannelSingleLong strategy: new SPY, processed by broker backtesting\n",
      "2024-12-10 16:04:54,148: INFO: [HumblChannelSingleLong] \u001b[32mNew order was created: market order of | 1 SPY sell | new\u001b[0m\n",
      "2024-12-10 16:04:54,150: INFO: [HumblChannelSingleLong] Processing a new order, payload: {'order': market order of | 1 SPY sell | new}\n",
      "2024-12-10 16:04:54,151: INFO: [HumblChannelSingleLong] Getting historical prices for SPY, 1 bars, \n",
      "2024-12-10 16:04:54,152: INFO: [HumblChannelSingleLong] Processing trade event. Trade event received for HumblChannelSingleLong strategy: fill SPY, processed by broker backtesting\n",
      "2024-12-10 16:04:54,153: INFO: [HumblChannelSingleLong] \u001b[32mOrder was filled: market order of | 1 SPY sell | @ $110.27 fill\u001b[0m\n",
      "2024-12-10 16:04:54,155: INFO: [HumblChannelSingleLong] Processing a filled order, payload: {'position': HumblChannelSingleLong Position: 149.0 shares of SPY (201 orders), 'order': market order of | 1 SPY sell | @ $110.27 fill, 'price': 110.2699966430664, 'quantity': 1.0, 'multiplier': 1}\n"
     ]
    },
    {
     "name": "stdout",
     "output_type": "stream",
     "text": [
      "Progress |\u001b[32m\u001b[0m|   0.93%  [Elapsed: 0:12:12 ETA: 21:39:26] Portfolio Val: 99,940.01"
     ]
    },
    {
     "name": "stderr",
     "output_type": "stream",
     "text": [
      "2024-12-10 16:04:54,155: INFO: Current backtesting datetime 2010-02-17 14:30:00-05:00\n",
      "2024-12-10 16:04:54,159: INFO: [HumblChannelSingleLong] Processing trade event. Trade event received for HumblChannelSingleLong strategy: new SPY, processed by broker backtesting\n",
      "2024-12-10 16:04:54,160: INFO: [HumblChannelSingleLong] \u001b[32mNew order was created: market order of | 1 SPY sell | new\u001b[0m\n",
      "2024-12-10 16:04:54,162: INFO: [HumblChannelSingleLong] Processing a new order, payload: {'order': market order of | 1 SPY sell | new}\n",
      "2024-12-10 16:04:54,163: INFO: [HumblChannelSingleLong] Getting historical prices for SPY, 1 bars, \n",
      "2024-12-10 16:04:54,165: INFO: [HumblChannelSingleLong] Processing trade event. Trade event received for HumblChannelSingleLong strategy: fill SPY, processed by broker backtesting\n",
      "2024-12-10 16:04:54,166: INFO: [HumblChannelSingleLong] \u001b[32mOrder was filled: market order of | 1 SPY sell | @ $110.27 fill\u001b[0m\n",
      "2024-12-10 16:04:54,168: INFO: [HumblChannelSingleLong] Processing a filled order, payload: {'position': HumblChannelSingleLong Position: 148.0 shares of SPY (202 orders), 'order': market order of | 1 SPY sell | @ $110.27 fill, 'price': 110.2699966430664, 'quantity': 1.0, 'multiplier': 1}\n"
     ]
    },
    {
     "name": "stdout",
     "output_type": "stream",
     "text": [
      "Progress |\u001b[32m\u001b[0m|   0.93%  [Elapsed: 0:12:12 ETA: 21:38:19] Portfolio Val: 99,940.01"
     ]
    },
    {
     "name": "stderr",
     "output_type": "stream",
     "text": [
      "2024-12-10 16:04:54,168: INFO: Current backtesting datetime 2010-02-17 15:30:00-05:00\n",
      "2024-12-10 16:04:54,172: INFO: [HumblChannelSingleLong] Processing trade event. Trade event received for HumblChannelSingleLong strategy: new SPY, processed by broker backtesting\n",
      "2024-12-10 16:04:54,173: INFO: [HumblChannelSingleLong] \u001b[32mNew order was created: market order of | 1 SPY sell | new\u001b[0m\n",
      "2024-12-10 16:04:54,176: INFO: [HumblChannelSingleLong] Processing a new order, payload: {'order': market order of | 1 SPY sell | new}\n",
      "2024-12-10 16:04:54,176: INFO: [HumblChannelSingleLong] Getting historical prices for SPY, 1 bars, \n",
      "2024-12-10 16:04:54,178: INFO: [HumblChannelSingleLong] Processing trade event. Trade event received for HumblChannelSingleLong strategy: fill SPY, processed by broker backtesting\n",
      "2024-12-10 16:04:54,179: INFO: [HumblChannelSingleLong] \u001b[32mOrder was filled: market order of | 1 SPY sell | @ $110.27 fill\u001b[0m\n",
      "2024-12-10 16:04:54,181: INFO: [HumblChannelSingleLong] Processing a filled order, payload: {'position': HumblChannelSingleLong Position: 147.0 shares of SPY (203 orders), 'order': market order of | 1 SPY sell | @ $110.27 fill, 'price': 110.2699966430664, 'quantity': 1.0, 'multiplier': 1}\n"
     ]
    },
    {
     "name": "stdout",
     "output_type": "stream",
     "text": [
      "Progress |\u001b[32m\u001b[0m|   0.93%  [Elapsed: 0:12:12 ETA: 21:37:46] Portfolio Val: 99,940.01"
     ]
    },
    {
     "name": "stderr",
     "output_type": "stream",
     "text": [
      "2024-12-10 16:04:54,182: INFO: Current backtesting datetime 2010-02-17 16:00:00-05:00\n"
     ]
    },
    {
     "name": "stdout",
     "output_type": "stream",
     "text": [
      "Progress |\u001b[32m\u001b[0m|   0.93%  [Elapsed: 0:12:12 ETA: 21:37:11] Portfolio Val: 99,940.01"
     ]
    },
    {
     "name": "stderr",
     "output_type": "stream",
     "text": [
      "2024-12-10 16:04:54,182: INFO: Current backtesting datetime 2010-02-17 16:30:00-05:00\n"
     ]
    },
    {
     "name": "stdout",
     "output_type": "stream",
     "text": [
      "Progress |\u001b[32m\u001b[0m|   0.93%  [Elapsed: 0:12:12 ETA: 21:37:17] "
     ]
    },
    {
     "name": "stderr",
     "output_type": "stream",
     "text": [
      "2024-12-10 16:04:54,184: INFO: Current backtesting datetime 2010-02-17 16:25:00-05:00\n"
     ]
    },
    {
     "name": "stdout",
     "output_type": "stream",
     "text": [
      "Progress |\u001b[32m\u001b[0m|   0.93%  [Elapsed: 0:12:12 ETA: 21:37:17] "
     ]
    },
    {
     "name": "stderr",
     "output_type": "stream",
     "text": [
      "2024-12-10 16:04:54,185: INFO: Current backtesting datetime 2010-02-17 16:25:00-05:00\n"
     ]
    },
    {
     "name": "stdout",
     "output_type": "stream",
     "text": [
      "Progress |\u001b[32m\u001b[0m|   0.95%  [Elapsed: 0:12:12 ETA: 21:19:09] "
     ]
    },
    {
     "name": "stderr",
     "output_type": "stream",
     "text": [
      "2024-12-10 16:04:54,187: INFO: Current backtesting datetime 2010-02-18 08:30:00-05:00\n"
     ]
    },
    {
     "name": "stdout",
     "output_type": "stream",
     "text": [
      "Progress |\u001b[32m\u001b[0m|   0.95%  [Elapsed: 0:12:13 ETA: 21:18:38] "
     ]
    },
    {
     "name": "stderr",
     "output_type": "stream",
     "text": [
      "2024-12-10 16:04:54,527: INFO: Current backtesting datetime 2010-02-18 09:30:00-05:00\n"
     ]
    },
    {
     "name": "stdout",
     "output_type": "stream",
     "text": [
      "Progress |\u001b[32m\u001b[0m|   0.95%  [Elapsed: 0:12:13 ETA: 21:17:32] Portfolio Val: 99,912.08"
     ]
    },
    {
     "name": "stderr",
     "output_type": "stream",
     "text": [
      "2024-12-10 16:04:54,533: INFO: Current backtesting datetime 2010-02-18 10:30:00-05:00\n"
     ]
    },
    {
     "name": "stdout",
     "output_type": "stream",
     "text": [
      "Progress |\u001b[32m\u001b[0m|   0.95%  [Elapsed: 0:12:13 ETA: 21:16:25] Portfolio Val: 99,912.08"
     ]
    },
    {
     "name": "stderr",
     "output_type": "stream",
     "text": [
      "2024-12-10 16:04:54,537: INFO: Current backtesting datetime 2010-02-18 11:30:00-05:00\n"
     ]
    },
    {
     "name": "stdout",
     "output_type": "stream",
     "text": [
      "Progress |\u001b[32m\u001b[0m|   0.95%  [Elapsed: 0:12:13 ETA: 21:15:19] Portfolio Val: 99,912.08"
     ]
    },
    {
     "name": "stderr",
     "output_type": "stream",
     "text": [
      "2024-12-10 16:04:54,541: INFO: Current backtesting datetime 2010-02-18 12:30:00-05:00\n"
     ]
    },
    {
     "name": "stdout",
     "output_type": "stream",
     "text": [
      "Progress |\u001b[32m\u001b[0m|   0.95%  [Elapsed: 0:12:13 ETA: 21:14:14] Portfolio Val: 99,912.08"
     ]
    },
    {
     "name": "stderr",
     "output_type": "stream",
     "text": [
      "2024-12-10 16:04:54,545: INFO: Current backtesting datetime 2010-02-18 13:30:00-05:00\n"
     ]
    },
    {
     "name": "stdout",
     "output_type": "stream",
     "text": [
      "Progress |\u001b[32m\u001b[0m|   0.95%  [Elapsed: 0:12:13 ETA: 21:13:08] Portfolio Val: 99,912.08"
     ]
    },
    {
     "name": "stderr",
     "output_type": "stream",
     "text": [
      "2024-12-10 16:04:54,549: INFO: Current backtesting datetime 2010-02-18 14:30:00-05:00\n"
     ]
    },
    {
     "name": "stdout",
     "output_type": "stream",
     "text": [
      "Progress |\u001b[32m\u001b[0m|   0.95%  [Elapsed: 0:12:13 ETA: 21:12:02] Portfolio Val: 99,912.08"
     ]
    },
    {
     "name": "stderr",
     "output_type": "stream",
     "text": [
      "2024-12-10 16:04:54,553: INFO: Current backtesting datetime 2010-02-18 15:30:00-05:00\n"
     ]
    },
    {
     "name": "stdout",
     "output_type": "stream",
     "text": [
      "Progress |\u001b[32m\u001b[0m|   0.95%  [Elapsed: 0:12:13 ETA: 21:11:30] Portfolio Val: 99,912.08"
     ]
    },
    {
     "name": "stderr",
     "output_type": "stream",
     "text": [
      "2024-12-10 16:04:54,557: INFO: Current backtesting datetime 2010-02-18 16:00:00-05:00\n"
     ]
    },
    {
     "name": "stdout",
     "output_type": "stream",
     "text": [
      "Progress |\u001b[32m\u001b[0m|   0.95%  [Elapsed: 0:12:13 ETA: 21:10:57] Portfolio Val: 99,912.08"
     ]
    },
    {
     "name": "stderr",
     "output_type": "stream",
     "text": [
      "2024-12-10 16:04:54,557: INFO: Current backtesting datetime 2010-02-18 16:30:00-05:00\n"
     ]
    },
    {
     "name": "stdout",
     "output_type": "stream",
     "text": [
      "Progress |\u001b[32m\u001b[0m|   0.95%  [Elapsed: 0:12:13 ETA: 21:11:02] "
     ]
    },
    {
     "name": "stderr",
     "output_type": "stream",
     "text": [
      "2024-12-10 16:04:54,560: INFO: Current backtesting datetime 2010-02-18 16:25:00-05:00\n"
     ]
    },
    {
     "name": "stdout",
     "output_type": "stream",
     "text": [
      "Progress |\u001b[32m\u001b[0m|   0.95%  [Elapsed: 0:12:13 ETA: 21:11:02] "
     ]
    },
    {
     "name": "stderr",
     "output_type": "stream",
     "text": [
      "2024-12-10 16:04:54,560: INFO: Current backtesting datetime 2010-02-18 16:25:00-05:00\n"
     ]
    },
    {
     "name": "stdout",
     "output_type": "stream",
     "text": [
      "Progress |\u001b[32m\u001b[0m|   0.97%  [Elapsed: 0:12:13 ETA: 20:53:37] "
     ]
    },
    {
     "name": "stderr",
     "output_type": "stream",
     "text": [
      "2024-12-10 16:04:54,562: INFO: Current backtesting datetime 2010-02-19 08:30:00-05:00\n"
     ]
    },
    {
     "name": "stdout",
     "output_type": "stream",
     "text": [
      "Progress |\u001b[32m\u001b[0m|   0.97%  [Elapsed: 0:12:13 ETA: 20:52:56] "
     ]
    },
    {
     "name": "stderr",
     "output_type": "stream",
     "text": [
      "2024-12-10 16:04:54,787: INFO: Current backtesting datetime 2010-02-19 09:30:00-05:00\n",
      "2024-12-10 16:04:54,792: INFO: [HumblChannelSingleLong] Processing trade event. Trade event received for HumblChannelSingleLong strategy: new SPY, processed by broker backtesting\n",
      "2024-12-10 16:04:54,792: INFO: [HumblChannelSingleLong] \u001b[32mNew order was created: market order of | 1 SPY sell | new\u001b[0m\n",
      "2024-12-10 16:04:54,795: INFO: [HumblChannelSingleLong] Processing a new order, payload: {'order': market order of | 1 SPY sell | new}\n",
      "2024-12-10 16:04:54,796: INFO: [HumblChannelSingleLong] Getting historical prices for SPY, 1 bars, \n",
      "2024-12-10 16:04:54,798: INFO: [HumblChannelSingleLong] Processing trade event. Trade event received for HumblChannelSingleLong strategy: fill SPY, processed by broker backtesting\n",
      "2024-12-10 16:04:54,798: INFO: [HumblChannelSingleLong] \u001b[32mOrder was filled: market order of | 1 SPY sell | @ $110.62 fill\u001b[0m\n",
      "2024-12-10 16:04:54,800: INFO: [HumblChannelSingleLong] Processing a filled order, payload: {'position': HumblChannelSingleLong Position: 146.0 shares of SPY (204 orders), 'order': market order of | 1 SPY sell | @ $110.62 fill, 'price': 110.62000274658203, 'quantity': 1.0, 'multiplier': 1}\n"
     ]
    },
    {
     "name": "stdout",
     "output_type": "stream",
     "text": [
      "Progress |\u001b[32m\u001b[0m|   0.97%  [Elapsed: 0:12:13 ETA: 20:51:54] Portfolio Val: 99,991.46"
     ]
    },
    {
     "name": "stderr",
     "output_type": "stream",
     "text": [
      "2024-12-10 16:04:54,801: INFO: Current backtesting datetime 2010-02-19 10:30:00-05:00\n",
      "2024-12-10 16:04:54,806: INFO: [HumblChannelSingleLong] Processing trade event. Trade event received for HumblChannelSingleLong strategy: new SPY, processed by broker backtesting\n",
      "2024-12-10 16:04:54,806: INFO: [HumblChannelSingleLong] \u001b[32mNew order was created: market order of | 1 SPY sell | new\u001b[0m\n",
      "2024-12-10 16:04:54,808: INFO: [HumblChannelSingleLong] Processing a new order, payload: {'order': market order of | 1 SPY sell | new}\n",
      "2024-12-10 16:04:54,809: INFO: [HumblChannelSingleLong] Getting historical prices for SPY, 1 bars, \n",
      "2024-12-10 16:04:54,811: INFO: [HumblChannelSingleLong] Processing trade event. Trade event received for HumblChannelSingleLong strategy: fill SPY, processed by broker backtesting\n",
      "2024-12-10 16:04:54,812: INFO: [HumblChannelSingleLong] \u001b[32mOrder was filled: market order of | 1 SPY sell | @ $110.62 fill\u001b[0m\n",
      "2024-12-10 16:04:54,814: INFO: [HumblChannelSingleLong] Processing a filled order, payload: {'position': HumblChannelSingleLong Position: 145.0 shares of SPY (205 orders), 'order': market order of | 1 SPY sell | @ $110.62 fill, 'price': 110.62000274658203, 'quantity': 1.0, 'multiplier': 1}\n"
     ]
    },
    {
     "name": "stdout",
     "output_type": "stream",
     "text": [
      "Progress |\u001b[32m\u001b[0m|   0.97%  [Elapsed: 0:12:13 ETA: 20:50:51] Portfolio Val: 99,991.46"
     ]
    },
    {
     "name": "stderr",
     "output_type": "stream",
     "text": [
      "2024-12-10 16:04:54,815: INFO: Current backtesting datetime 2010-02-19 11:30:00-05:00\n",
      "2024-12-10 16:04:54,819: INFO: [HumblChannelSingleLong] Processing trade event. Trade event received for HumblChannelSingleLong strategy: new SPY, processed by broker backtesting\n",
      "2024-12-10 16:04:54,819: INFO: [HumblChannelSingleLong] \u001b[32mNew order was created: market order of | 1 SPY sell | new\u001b[0m\n",
      "2024-12-10 16:04:54,822: INFO: [HumblChannelSingleLong] Processing a new order, payload: {'order': market order of | 1 SPY sell | new}\n",
      "2024-12-10 16:04:54,823: INFO: [HumblChannelSingleLong] Getting historical prices for SPY, 1 bars, \n",
      "2024-12-10 16:04:54,825: INFO: [HumblChannelSingleLong] Processing trade event. Trade event received for HumblChannelSingleLong strategy: fill SPY, processed by broker backtesting\n",
      "2024-12-10 16:04:54,825: INFO: [HumblChannelSingleLong] \u001b[32mOrder was filled: market order of | 1 SPY sell | @ $110.62 fill\u001b[0m\n",
      "2024-12-10 16:04:54,827: INFO: [HumblChannelSingleLong] Processing a filled order, payload: {'position': HumblChannelSingleLong Position: 144.0 shares of SPY (206 orders), 'order': market order of | 1 SPY sell | @ $110.62 fill, 'price': 110.62000274658203, 'quantity': 1.0, 'multiplier': 1}\n"
     ]
    },
    {
     "name": "stdout",
     "output_type": "stream",
     "text": [
      "Progress |\u001b[32m\u001b[0m|   0.97%  [Elapsed: 0:12:13 ETA: 20:49:49] Portfolio Val: 99,991.46"
     ]
    },
    {
     "name": "stderr",
     "output_type": "stream",
     "text": [
      "2024-12-10 16:04:54,828: INFO: Current backtesting datetime 2010-02-19 12:30:00-05:00\n",
      "2024-12-10 16:04:54,832: INFO: [HumblChannelSingleLong] Processing trade event. Trade event received for HumblChannelSingleLong strategy: new SPY, processed by broker backtesting\n",
      "2024-12-10 16:04:54,833: INFO: [HumblChannelSingleLong] \u001b[32mNew order was created: market order of | 1 SPY sell | new\u001b[0m\n",
      "2024-12-10 16:04:54,836: INFO: [HumblChannelSingleLong] Processing a new order, payload: {'order': market order of | 1 SPY sell | new}\n",
      "2024-12-10 16:04:54,836: INFO: [HumblChannelSingleLong] Getting historical prices for SPY, 1 bars, \n",
      "2024-12-10 16:04:54,838: INFO: [HumblChannelSingleLong] Processing trade event. Trade event received for HumblChannelSingleLong strategy: fill SPY, processed by broker backtesting\n",
      "2024-12-10 16:04:54,838: INFO: [HumblChannelSingleLong] \u001b[32mOrder was filled: market order of | 1 SPY sell | @ $110.62 fill\u001b[0m\n",
      "2024-12-10 16:04:54,840: INFO: [HumblChannelSingleLong] Processing a filled order, payload: {'position': HumblChannelSingleLong Position: 143.0 shares of SPY (207 orders), 'order': market order of | 1 SPY sell | @ $110.62 fill, 'price': 110.62000274658203, 'quantity': 1.0, 'multiplier': 1}\n"
     ]
    },
    {
     "name": "stdout",
     "output_type": "stream",
     "text": [
      "Progress |\u001b[32m\u001b[0m|   0.97%  [Elapsed: 0:12:13 ETA: 20:48:46] Portfolio Val: 99,991.46"
     ]
    },
    {
     "name": "stderr",
     "output_type": "stream",
     "text": [
      "2024-12-10 16:04:54,841: INFO: Current backtesting datetime 2010-02-19 13:30:00-05:00\n",
      "2024-12-10 16:04:54,845: INFO: [HumblChannelSingleLong] Processing trade event. Trade event received for HumblChannelSingleLong strategy: new SPY, processed by broker backtesting\n",
      "2024-12-10 16:04:54,845: INFO: [HumblChannelSingleLong] \u001b[32mNew order was created: market order of | 1 SPY sell | new\u001b[0m\n",
      "2024-12-10 16:04:54,847: INFO: [HumblChannelSingleLong] Processing a new order, payload: {'order': market order of | 1 SPY sell | new}\n",
      "2024-12-10 16:04:54,848: INFO: [HumblChannelSingleLong] Getting historical prices for SPY, 1 bars, \n",
      "2024-12-10 16:04:54,850: INFO: [HumblChannelSingleLong] Processing trade event. Trade event received for HumblChannelSingleLong strategy: fill SPY, processed by broker backtesting\n",
      "2024-12-10 16:04:54,850: INFO: [HumblChannelSingleLong] \u001b[32mOrder was filled: market order of | 1 SPY sell | @ $110.62 fill\u001b[0m\n",
      "2024-12-10 16:04:54,852: INFO: [HumblChannelSingleLong] Processing a filled order, payload: {'position': HumblChannelSingleLong Position: 142.0 shares of SPY (208 orders), 'order': market order of | 1 SPY sell | @ $110.62 fill, 'price': 110.62000274658203, 'quantity': 1.0, 'multiplier': 1}\n"
     ]
    },
    {
     "name": "stdout",
     "output_type": "stream",
     "text": [
      "Progress |\u001b[32m\u001b[0m|   0.97%  [Elapsed: 0:12:13 ETA: 20:47:44] Portfolio Val: 99,991.46"
     ]
    },
    {
     "name": "stderr",
     "output_type": "stream",
     "text": [
      "2024-12-10 16:04:54,853: INFO: Current backtesting datetime 2010-02-19 14:30:00-05:00\n",
      "2024-12-10 16:04:54,856: INFO: [HumblChannelSingleLong] Processing trade event. Trade event received for HumblChannelSingleLong strategy: new SPY, processed by broker backtesting\n",
      "2024-12-10 16:04:54,857: INFO: [HumblChannelSingleLong] \u001b[32mNew order was created: market order of | 1 SPY sell | new\u001b[0m\n",
      "2024-12-10 16:04:54,859: INFO: [HumblChannelSingleLong] Processing a new order, payload: {'order': market order of | 1 SPY sell | new}\n",
      "2024-12-10 16:04:54,860: INFO: [HumblChannelSingleLong] Getting historical prices for SPY, 1 bars, \n",
      "2024-12-10 16:04:54,862: INFO: [HumblChannelSingleLong] Processing trade event. Trade event received for HumblChannelSingleLong strategy: fill SPY, processed by broker backtesting\n",
      "2024-12-10 16:04:54,862: INFO: [HumblChannelSingleLong] \u001b[32mOrder was filled: market order of | 1 SPY sell | @ $110.62 fill\u001b[0m\n",
      "2024-12-10 16:04:54,864: INFO: [HumblChannelSingleLong] Processing a filled order, payload: {'position': HumblChannelSingleLong Position: 141.0 shares of SPY (209 orders), 'order': market order of | 1 SPY sell | @ $110.62 fill, 'price': 110.62000274658203, 'quantity': 1.0, 'multiplier': 1}\n"
     ]
    },
    {
     "name": "stdout",
     "output_type": "stream",
     "text": [
      "Progress |\u001b[32m\u001b[0m|   0.97%  [Elapsed: 0:12:13 ETA: 20:46:42] Portfolio Val: 99,991.46"
     ]
    },
    {
     "name": "stderr",
     "output_type": "stream",
     "text": [
      "2024-12-10 16:04:54,865: INFO: Current backtesting datetime 2010-02-19 15:30:00-05:00\n",
      "2024-12-10 16:04:54,869: INFO: [HumblChannelSingleLong] Processing trade event. Trade event received for HumblChannelSingleLong strategy: new SPY, processed by broker backtesting\n",
      "2024-12-10 16:04:54,869: INFO: [HumblChannelSingleLong] \u001b[32mNew order was created: market order of | 1 SPY sell | new\u001b[0m\n",
      "2024-12-10 16:04:54,872: INFO: [HumblChannelSingleLong] Processing a new order, payload: {'order': market order of | 1 SPY sell | new}\n",
      "2024-12-10 16:04:54,872: INFO: [HumblChannelSingleLong] Getting historical prices for SPY, 1 bars, \n",
      "2024-12-10 16:04:54,874: INFO: [HumblChannelSingleLong] Processing trade event. Trade event received for HumblChannelSingleLong strategy: fill SPY, processed by broker backtesting\n",
      "2024-12-10 16:04:54,874: INFO: [HumblChannelSingleLong] \u001b[32mOrder was filled: market order of | 1 SPY sell | @ $110.62 fill\u001b[0m\n",
      "2024-12-10 16:04:54,876: INFO: [HumblChannelSingleLong] Processing a filled order, payload: {'position': HumblChannelSingleLong Position: 140.0 shares of SPY (210 orders), 'order': market order of | 1 SPY sell | @ $110.62 fill, 'price': 110.62000274658203, 'quantity': 1.0, 'multiplier': 1}\n"
     ]
    },
    {
     "name": "stdout",
     "output_type": "stream",
     "text": [
      "Progress |\u001b[32m\u001b[0m|   0.97%  [Elapsed: 0:12:13 ETA: 20:46:11] Portfolio Val: 99,991.46"
     ]
    },
    {
     "name": "stderr",
     "output_type": "stream",
     "text": [
      "2024-12-10 16:04:54,877: INFO: Current backtesting datetime 2010-02-19 16:00:00-05:00\n"
     ]
    },
    {
     "name": "stdout",
     "output_type": "stream",
     "text": [
      "Progress |\u001b[32m\u001b[0m|   0.97%  [Elapsed: 0:12:13 ETA: 20:45:40] Portfolio Val: 99,991.46"
     ]
    },
    {
     "name": "stderr",
     "output_type": "stream",
     "text": [
      "2024-12-10 16:04:54,877: INFO: Current backtesting datetime 2010-02-19 16:30:00-05:00\n"
     ]
    },
    {
     "name": "stdout",
     "output_type": "stream",
     "text": [
      "Progress |\u001b[32m\u001b[0m|   0.97%  [Elapsed: 0:12:13 ETA: 20:45:45] "
     ]
    },
    {
     "name": "stderr",
     "output_type": "stream",
     "text": [
      "2024-12-10 16:04:54,879: INFO: Current backtesting datetime 2010-02-19 16:25:00-05:00\n"
     ]
    },
    {
     "name": "stdout",
     "output_type": "stream",
     "text": [
      "Progress |\u001b[32m\u001b[0m|   0.97%  [Elapsed: 0:12:13 ETA: 20:45:45] "
     ]
    },
    {
     "name": "stderr",
     "output_type": "stream",
     "text": [
      "2024-12-10 16:04:54,879: INFO: Current backtesting datetime 2010-02-19 16:25:00-05:00\n"
     ]
    },
    {
     "name": "stdout",
     "output_type": "stream",
     "text": [
      "Progress |\u001b[32m\u001b[0m|   1.02%  [Elapsed: 0:12:13 ETA: 19:41:36] "
     ]
    },
    {
     "name": "stderr",
     "output_type": "stream",
     "text": [
      "2024-12-10 16:04:54,881: INFO: Current backtesting datetime 2010-02-22 08:30:00-05:00\n"
     ]
    },
    {
     "name": "stdout",
     "output_type": "stream",
     "text": [
      "Progress |\u001b[32m\u001b[0m|   1.02%  [Elapsed: 0:12:13 ETA: 19:40:55] "
     ]
    },
    {
     "name": "stderr",
     "output_type": "stream",
     "text": [
      "2024-12-10 16:04:55,052: INFO: Current backtesting datetime 2010-02-22 09:30:00-05:00\n",
      "2024-12-10 16:04:55,056: INFO: [HumblChannelSingleLong] Processing trade event. Trade event received for HumblChannelSingleLong strategy: new SPY, processed by broker backtesting\n",
      "2024-12-10 16:04:55,057: INFO: [HumblChannelSingleLong] \u001b[32mNew order was created: market order of | 1 SPY sell | new\u001b[0m\n",
      "2024-12-10 16:04:55,059: INFO: [HumblChannelSingleLong] Processing a new order, payload: {'order': market order of | 1 SPY sell | new}\n",
      "2024-12-10 16:04:55,060: INFO: [HumblChannelSingleLong] Getting historical prices for SPY, 1 bars, \n",
      "2024-12-10 16:04:55,062: INFO: [HumblChannelSingleLong] Processing trade event. Trade event received for HumblChannelSingleLong strategy: fill SPY, processed by broker backtesting\n",
      "2024-12-10 16:04:55,062: INFO: [HumblChannelSingleLong] \u001b[32mOrder was filled: market order of | 1 SPY sell | @ $111.55 fill\u001b[0m\n",
      "2024-12-10 16:04:55,065: INFO: [HumblChannelSingleLong] Processing a filled order, payload: {'position': HumblChannelSingleLong Position: 139.0 shares of SPY (211 orders), 'order': market order of | 1 SPY sell | @ $111.55 fill, 'price': 111.55000305175781, 'quantity': 1.0, 'multiplier': 1}\n"
     ]
    },
    {
     "name": "stdout",
     "output_type": "stream",
     "text": [
      "Progress |\u001b[32m\u001b[0m|   1.03%  [Elapsed: 0:12:13 ETA: 19:40:00] Portfolio Val: 100,121.66"
     ]
    },
    {
     "name": "stderr",
     "output_type": "stream",
     "text": [
      "2024-12-10 16:04:55,065: INFO: Current backtesting datetime 2010-02-22 10:30:00-05:00\n",
      "2024-12-10 16:04:55,070: INFO: [HumblChannelSingleLong] Processing trade event. Trade event received for HumblChannelSingleLong strategy: new SPY, processed by broker backtesting\n",
      "2024-12-10 16:04:55,070: INFO: [HumblChannelSingleLong] \u001b[32mNew order was created: market order of | 1 SPY sell | new\u001b[0m\n",
      "2024-12-10 16:04:55,073: INFO: [HumblChannelSingleLong] Processing a new order, payload: {'order': market order of | 1 SPY sell | new}\n",
      "2024-12-10 16:04:55,074: INFO: [HumblChannelSingleLong] Getting historical prices for SPY, 1 bars, \n",
      "2024-12-10 16:04:55,076: INFO: [HumblChannelSingleLong] Processing trade event. Trade event received for HumblChannelSingleLong strategy: fill SPY, processed by broker backtesting\n",
      "2024-12-10 16:04:55,077: INFO: [HumblChannelSingleLong] \u001b[32mOrder was filled: market order of | 1 SPY sell | @ $111.55 fill\u001b[0m\n",
      "2024-12-10 16:04:55,079: INFO: [HumblChannelSingleLong] Processing a filled order, payload: {'position': HumblChannelSingleLong Position: 138.0 shares of SPY (212 orders), 'order': market order of | 1 SPY sell | @ $111.55 fill, 'price': 111.55000305175781, 'quantity': 1.0, 'multiplier': 1}\n"
     ]
    },
    {
     "name": "stdout",
     "output_type": "stream",
     "text": [
      "Progress |\u001b[32m\u001b[0m|   1.03%  [Elapsed: 0:12:13 ETA: 19:39:04] Portfolio Val: 100,121.66"
     ]
    },
    {
     "name": "stderr",
     "output_type": "stream",
     "text": [
      "2024-12-10 16:04:55,079: INFO: Current backtesting datetime 2010-02-22 11:30:00-05:00\n",
      "2024-12-10 16:04:55,083: INFO: [HumblChannelSingleLong] Processing trade event. Trade event received for HumblChannelSingleLong strategy: new SPY, processed by broker backtesting\n",
      "2024-12-10 16:04:55,084: INFO: [HumblChannelSingleLong] \u001b[32mNew order was created: market order of | 1 SPY sell | new\u001b[0m\n",
      "2024-12-10 16:04:55,087: INFO: [HumblChannelSingleLong] Processing a new order, payload: {'order': market order of | 1 SPY sell | new}\n",
      "2024-12-10 16:04:55,087: INFO: [HumblChannelSingleLong] Getting historical prices for SPY, 1 bars, \n",
      "2024-12-10 16:04:55,089: INFO: [HumblChannelSingleLong] Processing trade event. Trade event received for HumblChannelSingleLong strategy: fill SPY, processed by broker backtesting\n",
      "2024-12-10 16:04:55,089: INFO: [HumblChannelSingleLong] \u001b[32mOrder was filled: market order of | 1 SPY sell | @ $111.55 fill\u001b[0m\n",
      "2024-12-10 16:04:55,091: INFO: [HumblChannelSingleLong] Processing a filled order, payload: {'position': HumblChannelSingleLong Position: 137.0 shares of SPY (213 orders), 'order': market order of | 1 SPY sell | @ $111.55 fill, 'price': 111.55000305175781, 'quantity': 1.0, 'multiplier': 1}\n"
     ]
    },
    {
     "name": "stdout",
     "output_type": "stream",
     "text": [
      "Progress |\u001b[32m\u001b[0m|   1.03%  [Elapsed: 0:12:13 ETA: 19:38:09] Portfolio Val: 100,121.66"
     ]
    },
    {
     "name": "stderr",
     "output_type": "stream",
     "text": [
      "2024-12-10 16:04:55,092: INFO: Current backtesting datetime 2010-02-22 12:30:00-05:00\n",
      "2024-12-10 16:04:55,098: INFO: [HumblChannelSingleLong] Processing trade event. Trade event received for HumblChannelSingleLong strategy: new SPY, processed by broker backtesting\n",
      "2024-12-10 16:04:55,098: INFO: [HumblChannelSingleLong] \u001b[32mNew order was created: market order of | 1 SPY sell | new\u001b[0m\n",
      "2024-12-10 16:04:55,101: INFO: [HumblChannelSingleLong] Processing a new order, payload: {'order': market order of | 1 SPY sell | new}\n",
      "2024-12-10 16:04:55,102: INFO: [HumblChannelSingleLong] Getting historical prices for SPY, 1 bars, \n",
      "2024-12-10 16:04:55,103: INFO: [HumblChannelSingleLong] Processing trade event. Trade event received for HumblChannelSingleLong strategy: fill SPY, processed by broker backtesting\n",
      "2024-12-10 16:04:55,104: INFO: [HumblChannelSingleLong] \u001b[32mOrder was filled: market order of | 1 SPY sell | @ $111.55 fill\u001b[0m\n",
      "2024-12-10 16:04:55,106: INFO: [HumblChannelSingleLong] Processing a filled order, payload: {'position': HumblChannelSingleLong Position: 136.0 shares of SPY (214 orders), 'order': market order of | 1 SPY sell | @ $111.55 fill, 'price': 111.55000305175781, 'quantity': 1.0, 'multiplier': 1}\n"
     ]
    },
    {
     "name": "stdout",
     "output_type": "stream",
     "text": [
      "Progress |\u001b[32m\u001b[0m|   1.03%  [Elapsed: 0:12:13 ETA: 19:37:14] Portfolio Val: 100,121.66"
     ]
    },
    {
     "name": "stderr",
     "output_type": "stream",
     "text": [
      "2024-12-10 16:04:55,107: INFO: Current backtesting datetime 2010-02-22 13:30:00-05:00\n",
      "2024-12-10 16:04:55,111: INFO: [HumblChannelSingleLong] Processing trade event. Trade event received for HumblChannelSingleLong strategy: new SPY, processed by broker backtesting\n",
      "2024-12-10 16:04:55,112: INFO: [HumblChannelSingleLong] \u001b[32mNew order was created: market order of | 1 SPY sell | new\u001b[0m\n",
      "2024-12-10 16:04:55,114: INFO: [HumblChannelSingleLong] Processing a new order, payload: {'order': market order of | 1 SPY sell | new}\n",
      "2024-12-10 16:04:55,115: INFO: [HumblChannelSingleLong] Getting historical prices for SPY, 1 bars, \n",
      "2024-12-10 16:04:55,116: INFO: [HumblChannelSingleLong] Processing trade event. Trade event received for HumblChannelSingleLong strategy: fill SPY, processed by broker backtesting\n",
      "2024-12-10 16:04:55,116: INFO: [HumblChannelSingleLong] \u001b[32mOrder was filled: market order of | 1 SPY sell | @ $111.55 fill\u001b[0m\n",
      "2024-12-10 16:04:55,119: INFO: [HumblChannelSingleLong] Processing a filled order, payload: {'position': HumblChannelSingleLong Position: 135.0 shares of SPY (215 orders), 'order': market order of | 1 SPY sell | @ $111.55 fill, 'price': 111.55000305175781, 'quantity': 1.0, 'multiplier': 1}\n"
     ]
    },
    {
     "name": "stdout",
     "output_type": "stream",
     "text": [
      "Progress |\u001b[32m\u001b[0m|   1.03%  [Elapsed: 0:12:13 ETA: 19:36:18] Portfolio Val: 100,121.66"
     ]
    },
    {
     "name": "stderr",
     "output_type": "stream",
     "text": [
      "2024-12-10 16:04:55,120: INFO: Current backtesting datetime 2010-02-22 14:30:00-05:00\n",
      "2024-12-10 16:04:55,134: INFO: [HumblChannelSingleLong] Processing trade event. Trade event received for HumblChannelSingleLong strategy: new SPY, processed by broker backtesting\n",
      "2024-12-10 16:04:55,136: INFO: [HumblChannelSingleLong] \u001b[32mNew order was created: market order of | 1 SPY sell | new\u001b[0m\n",
      "2024-12-10 16:04:55,140: INFO: [HumblChannelSingleLong] Processing a new order, payload: {'order': market order of | 1 SPY sell | new}\n",
      "2024-12-10 16:04:55,140: INFO: [HumblChannelSingleLong] Getting historical prices for SPY, 1 bars, \n",
      "2024-12-10 16:04:55,143: INFO: [HumblChannelSingleLong] Processing trade event. Trade event received for HumblChannelSingleLong strategy: fill SPY, processed by broker backtesting\n",
      "2024-12-10 16:04:55,144: INFO: [HumblChannelSingleLong] \u001b[32mOrder was filled: market order of | 1 SPY sell | @ $111.55 fill\u001b[0m\n",
      "2024-12-10 16:04:55,148: INFO: [HumblChannelSingleLong] Processing a filled order, payload: {'position': HumblChannelSingleLong Position: 134.0 shares of SPY (216 orders), 'order': market order of | 1 SPY sell | @ $111.55 fill, 'price': 111.55000305175781, 'quantity': 1.0, 'multiplier': 1}\n"
     ]
    },
    {
     "name": "stdout",
     "output_type": "stream",
     "text": [
      "Progress |\u001b[32m\u001b[0m|   1.03%  [Elapsed: 0:12:13 ETA: 19:35:25] Portfolio Val: 100,121.66"
     ]
    },
    {
     "name": "stderr",
     "output_type": "stream",
     "text": [
      "2024-12-10 16:04:55,150: INFO: Current backtesting datetime 2010-02-22 15:30:00-05:00\n",
      "2024-12-10 16:04:55,156: INFO: [HumblChannelSingleLong] Processing trade event. Trade event received for HumblChannelSingleLong strategy: new SPY, processed by broker backtesting\n",
      "2024-12-10 16:04:55,156: INFO: [HumblChannelSingleLong] \u001b[32mNew order was created: market order of | 1 SPY sell | new\u001b[0m\n",
      "2024-12-10 16:04:55,162: INFO: [HumblChannelSingleLong] Processing a new order, payload: {'order': market order of | 1 SPY sell | new}\n",
      "2024-12-10 16:04:55,164: INFO: [HumblChannelSingleLong] Getting historical prices for SPY, 1 bars, \n",
      "2024-12-10 16:04:55,168: INFO: [HumblChannelSingleLong] Processing trade event. Trade event received for HumblChannelSingleLong strategy: fill SPY, processed by broker backtesting\n",
      "2024-12-10 16:04:55,169: INFO: [HumblChannelSingleLong] \u001b[32mOrder was filled: market order of | 1 SPY sell | @ $111.55 fill\u001b[0m\n",
      "2024-12-10 16:04:55,172: INFO: [HumblChannelSingleLong] Processing a filled order, payload: {'position': HumblChannelSingleLong Position: 133.0 shares of SPY (217 orders), 'order': market order of | 1 SPY sell | @ $111.55 fill, 'price': 111.55000305175781, 'quantity': 1.0, 'multiplier': 1}\n"
     ]
    },
    {
     "name": "stdout",
     "output_type": "stream",
     "text": [
      "Progress |\u001b[32m\u001b[0m|   1.03%  [Elapsed: 0:12:13 ETA: 19:34:59] Portfolio Val: 100,121.66"
     ]
    },
    {
     "name": "stderr",
     "output_type": "stream",
     "text": [
      "2024-12-10 16:04:55,173: INFO: Current backtesting datetime 2010-02-22 16:00:00-05:00\n"
     ]
    },
    {
     "name": "stdout",
     "output_type": "stream",
     "text": [
      "Progress |\u001b[32m\u001b[0m|   1.03%  [Elapsed: 0:12:13 ETA: 19:34:31] Portfolio Val: 100,121.66"
     ]
    },
    {
     "name": "stderr",
     "output_type": "stream",
     "text": [
      "2024-12-10 16:04:55,174: INFO: Current backtesting datetime 2010-02-22 16:30:00-05:00\n"
     ]
    },
    {
     "name": "stdout",
     "output_type": "stream",
     "text": [
      "Progress |\u001b[32m\u001b[0m|   1.03%  [Elapsed: 0:12:13 ETA: 19:34:36] "
     ]
    },
    {
     "name": "stderr",
     "output_type": "stream",
     "text": [
      "2024-12-10 16:04:55,177: INFO: Current backtesting datetime 2010-02-22 16:25:00-05:00\n"
     ]
    },
    {
     "name": "stdout",
     "output_type": "stream",
     "text": [
      "Progress |\u001b[32m\u001b[0m|   1.03%  [Elapsed: 0:12:13 ETA: 19:34:36] "
     ]
    },
    {
     "name": "stderr",
     "output_type": "stream",
     "text": [
      "2024-12-10 16:04:55,178: INFO: Current backtesting datetime 2010-02-22 16:25:00-05:00\n"
     ]
    },
    {
     "name": "stdout",
     "output_type": "stream",
     "text": [
      "Progress |\u001b[32m\u001b[0m|   1.04%  [Elapsed: 0:12:13 ETA: 19:19:42] "
     ]
    },
    {
     "name": "stderr",
     "output_type": "stream",
     "text": [
      "2024-12-10 16:04:55,182: INFO: Current backtesting datetime 2010-02-23 08:30:00-05:00\n"
     ]
    },
    {
     "name": "stdout",
     "output_type": "stream",
     "text": [
      "Progress |\u001b[32m\u001b[0m|   1.04%  [Elapsed: 0:12:14 ETA: 19:19:20] "
     ]
    },
    {
     "name": "stderr",
     "output_type": "stream",
     "text": [
      "2024-12-10 16:04:55,528: INFO: Current backtesting datetime 2010-02-23 09:30:00-05:00\n",
      "2024-12-10 16:04:55,533: INFO: [HumblChannelSingleLong] Processing trade event. Trade event received for HumblChannelSingleLong strategy: new SPY, processed by broker backtesting\n",
      "2024-12-10 16:04:55,534: INFO: [HumblChannelSingleLong] \u001b[32mNew order was created: market order of | 1 SPY sell | new\u001b[0m\n",
      "2024-12-10 16:04:55,537: INFO: [HumblChannelSingleLong] Processing a new order, payload: {'order': market order of | 1 SPY sell | new}\n",
      "2024-12-10 16:04:55,538: INFO: [HumblChannelSingleLong] Getting historical prices for SPY, 1 bars, \n",
      "2024-12-10 16:04:55,540: INFO: [HumblChannelSingleLong] Processing trade event. Trade event received for HumblChannelSingleLong strategy: fill SPY, processed by broker backtesting\n",
      "2024-12-10 16:04:55,541: INFO: [HumblChannelSingleLong] \u001b[32mOrder was filled: market order of | 1 SPY sell | @ $110.86 fill\u001b[0m\n",
      "2024-12-10 16:04:55,543: INFO: [HumblChannelSingleLong] Processing a filled order, payload: {'position': HumblChannelSingleLong Position: 132.0 shares of SPY (218 orders), 'order': market order of | 1 SPY sell | @ $110.86 fill, 'price': 110.86000061035156, 'quantity': 1.0, 'multiplier': 1}\n"
     ]
    },
    {
     "name": "stdout",
     "output_type": "stream",
     "text": [
      "Progress |\u001b[32m\u001b[0m|   1.05%  [Elapsed: 0:12:14 ETA: 19:18:26] Portfolio Val: 100,029.89"
     ]
    },
    {
     "name": "stderr",
     "output_type": "stream",
     "text": [
      "2024-12-10 16:04:55,544: INFO: Current backtesting datetime 2010-02-23 10:30:00-05:00\n",
      "2024-12-10 16:04:55,549: INFO: [HumblChannelSingleLong] Processing trade event. Trade event received for HumblChannelSingleLong strategy: new SPY, processed by broker backtesting\n",
      "2024-12-10 16:04:55,550: INFO: [HumblChannelSingleLong] \u001b[32mNew order was created: market order of | 1 SPY sell | new\u001b[0m\n",
      "2024-12-10 16:04:55,553: INFO: [HumblChannelSingleLong] Processing a new order, payload: {'order': market order of | 1 SPY sell | new}\n",
      "2024-12-10 16:04:55,553: INFO: [HumblChannelSingleLong] Getting historical prices for SPY, 1 bars, \n",
      "2024-12-10 16:04:55,555: INFO: [HumblChannelSingleLong] Processing trade event. Trade event received for HumblChannelSingleLong strategy: fill SPY, processed by broker backtesting\n",
      "2024-12-10 16:04:55,556: INFO: [HumblChannelSingleLong] \u001b[32mOrder was filled: market order of | 1 SPY sell | @ $110.86 fill\u001b[0m\n",
      "2024-12-10 16:04:55,558: INFO: [HumblChannelSingleLong] Processing a filled order, payload: {'position': HumblChannelSingleLong Position: 131.0 shares of SPY (219 orders), 'order': market order of | 1 SPY sell | @ $110.86 fill, 'price': 110.86000061035156, 'quantity': 1.0, 'multiplier': 1}\n"
     ]
    },
    {
     "name": "stdout",
     "output_type": "stream",
     "text": [
      "Progress |\u001b[32m\u001b[0m|   1.05%  [Elapsed: 0:12:14 ETA: 19:17:33] Portfolio Val: 100,029.89"
     ]
    },
    {
     "name": "stderr",
     "output_type": "stream",
     "text": [
      "2024-12-10 16:04:55,559: INFO: Current backtesting datetime 2010-02-23 11:30:00-05:00\n",
      "2024-12-10 16:04:55,564: INFO: [HumblChannelSingleLong] Processing trade event. Trade event received for HumblChannelSingleLong strategy: new SPY, processed by broker backtesting\n",
      "2024-12-10 16:04:55,565: INFO: [HumblChannelSingleLong] \u001b[32mNew order was created: market order of | 1 SPY sell | new\u001b[0m\n",
      "2024-12-10 16:04:55,568: INFO: [HumblChannelSingleLong] Processing a new order, payload: {'order': market order of | 1 SPY sell | new}\n",
      "2024-12-10 16:04:55,568: INFO: [HumblChannelSingleLong] Getting historical prices for SPY, 1 bars, \n",
      "2024-12-10 16:04:55,570: INFO: [HumblChannelSingleLong] Processing trade event. Trade event received for HumblChannelSingleLong strategy: fill SPY, processed by broker backtesting\n",
      "2024-12-10 16:04:55,570: INFO: [HumblChannelSingleLong] \u001b[32mOrder was filled: market order of | 1 SPY sell | @ $110.86 fill\u001b[0m\n",
      "2024-12-10 16:04:55,573: INFO: [HumblChannelSingleLong] Processing a filled order, payload: {'position': HumblChannelSingleLong Position: 130.0 shares of SPY (220 orders), 'order': market order of | 1 SPY sell | @ $110.86 fill, 'price': 110.86000061035156, 'quantity': 1.0, 'multiplier': 1}\n"
     ]
    },
    {
     "name": "stdout",
     "output_type": "stream",
     "text": [
      "Progress |\u001b[32m\u001b[0m|   1.05%  [Elapsed: 0:12:14 ETA: 19:16:40] Portfolio Val: 100,029.89"
     ]
    },
    {
     "name": "stderr",
     "output_type": "stream",
     "text": [
      "2024-12-10 16:04:55,573: INFO: Current backtesting datetime 2010-02-23 12:30:00-05:00\n",
      "2024-12-10 16:04:55,577: INFO: [HumblChannelSingleLong] Processing trade event. Trade event received for HumblChannelSingleLong strategy: new SPY, processed by broker backtesting\n",
      "2024-12-10 16:04:55,579: INFO: [HumblChannelSingleLong] \u001b[32mNew order was created: market order of | 1 SPY sell | new\u001b[0m\n",
      "2024-12-10 16:04:55,582: INFO: [HumblChannelSingleLong] Processing a new order, payload: {'order': market order of | 1 SPY sell | new}\n",
      "2024-12-10 16:04:55,583: INFO: [HumblChannelSingleLong] Getting historical prices for SPY, 1 bars, \n",
      "2024-12-10 16:04:55,586: INFO: [HumblChannelSingleLong] Processing trade event. Trade event received for HumblChannelSingleLong strategy: fill SPY, processed by broker backtesting\n",
      "2024-12-10 16:04:55,587: INFO: [HumblChannelSingleLong] \u001b[32mOrder was filled: market order of | 1 SPY sell | @ $110.86 fill\u001b[0m\n",
      "2024-12-10 16:04:55,590: INFO: [HumblChannelSingleLong] Processing a filled order, payload: {'position': HumblChannelSingleLong Position: 129.0 shares of SPY (221 orders), 'order': market order of | 1 SPY sell | @ $110.86 fill, 'price': 110.86000061035156, 'quantity': 1.0, 'multiplier': 1}\n"
     ]
    },
    {
     "name": "stdout",
     "output_type": "stream",
     "text": [
      "Progress |\u001b[32m\u001b[0m|   1.05%  [Elapsed: 0:12:14 ETA: 19:15:47] Portfolio Val: 100,029.89"
     ]
    },
    {
     "name": "stderr",
     "output_type": "stream",
     "text": [
      "2024-12-10 16:04:55,590: INFO: Current backtesting datetime 2010-02-23 13:30:00-05:00\n",
      "2024-12-10 16:04:55,595: INFO: [HumblChannelSingleLong] Processing trade event. Trade event received for HumblChannelSingleLong strategy: new SPY, processed by broker backtesting\n",
      "2024-12-10 16:04:55,596: INFO: [HumblChannelSingleLong] \u001b[32mNew order was created: market order of | 1 SPY sell | new\u001b[0m\n",
      "2024-12-10 16:04:55,598: INFO: [HumblChannelSingleLong] Processing a new order, payload: {'order': market order of | 1 SPY sell | new}\n",
      "2024-12-10 16:04:55,599: INFO: [HumblChannelSingleLong] Getting historical prices for SPY, 1 bars, \n",
      "2024-12-10 16:04:55,601: INFO: [HumblChannelSingleLong] Processing trade event. Trade event received for HumblChannelSingleLong strategy: fill SPY, processed by broker backtesting\n",
      "2024-12-10 16:04:55,601: INFO: [HumblChannelSingleLong] \u001b[32mOrder was filled: market order of | 1 SPY sell | @ $110.86 fill\u001b[0m\n",
      "2024-12-10 16:04:55,606: INFO: [HumblChannelSingleLong] Processing a filled order, payload: {'position': HumblChannelSingleLong Position: 128.0 shares of SPY (222 orders), 'order': market order of | 1 SPY sell | @ $110.86 fill, 'price': 110.86000061035156, 'quantity': 1.0, 'multiplier': 1}\n"
     ]
    },
    {
     "name": "stdout",
     "output_type": "stream",
     "text": [
      "Progress |\u001b[32m\u001b[0m|   1.05%  [Elapsed: 0:12:14 ETA: 19:14:54] Portfolio Val: 100,029.89"
     ]
    },
    {
     "name": "stderr",
     "output_type": "stream",
     "text": [
      "2024-12-10 16:04:55,606: INFO: Current backtesting datetime 2010-02-23 14:30:00-05:00\n",
      "2024-12-10 16:04:55,611: INFO: [HumblChannelSingleLong] Processing trade event. Trade event received for HumblChannelSingleLong strategy: new SPY, processed by broker backtesting\n",
      "2024-12-10 16:04:55,611: INFO: [HumblChannelSingleLong] \u001b[32mNew order was created: market order of | 1 SPY sell | new\u001b[0m\n",
      "2024-12-10 16:04:55,614: INFO: [HumblChannelSingleLong] Processing a new order, payload: {'order': market order of | 1 SPY sell | new}\n",
      "2024-12-10 16:04:55,615: INFO: [HumblChannelSingleLong] Getting historical prices for SPY, 1 bars, \n",
      "2024-12-10 16:04:55,617: INFO: [HumblChannelSingleLong] Processing trade event. Trade event received for HumblChannelSingleLong strategy: fill SPY, processed by broker backtesting\n",
      "2024-12-10 16:04:55,617: INFO: [HumblChannelSingleLong] \u001b[32mOrder was filled: market order of | 1 SPY sell | @ $110.86 fill\u001b[0m\n",
      "2024-12-10 16:04:55,619: INFO: [HumblChannelSingleLong] Processing a filled order, payload: {'position': HumblChannelSingleLong Position: 127.0 shares of SPY (223 orders), 'order': market order of | 1 SPY sell | @ $110.86 fill, 'price': 110.86000061035156, 'quantity': 1.0, 'multiplier': 1}\n"
     ]
    },
    {
     "name": "stdout",
     "output_type": "stream",
     "text": [
      "Progress |\u001b[32m\u001b[0m|   1.05%  [Elapsed: 0:12:14 ETA: 19:14:01] Portfolio Val: 100,029.89"
     ]
    },
    {
     "name": "stderr",
     "output_type": "stream",
     "text": [
      "2024-12-10 16:04:55,620: INFO: Current backtesting datetime 2010-02-23 15:30:00-05:00\n",
      "2024-12-10 16:04:55,624: INFO: [HumblChannelSingleLong] Processing trade event. Trade event received for HumblChannelSingleLong strategy: new SPY, processed by broker backtesting\n",
      "2024-12-10 16:04:55,625: INFO: [HumblChannelSingleLong] \u001b[32mNew order was created: market order of | 1 SPY sell | new\u001b[0m\n",
      "2024-12-10 16:04:55,628: INFO: [HumblChannelSingleLong] Processing a new order, payload: {'order': market order of | 1 SPY sell | new}\n",
      "2024-12-10 16:04:55,630: INFO: [HumblChannelSingleLong] Getting historical prices for SPY, 1 bars, \n",
      "2024-12-10 16:04:55,634: INFO: [HumblChannelSingleLong] Processing trade event. Trade event received for HumblChannelSingleLong strategy: fill SPY, processed by broker backtesting\n",
      "2024-12-10 16:04:55,634: INFO: [HumblChannelSingleLong] \u001b[32mOrder was filled: market order of | 1 SPY sell | @ $110.86 fill\u001b[0m\n",
      "2024-12-10 16:04:55,637: INFO: [HumblChannelSingleLong] Processing a filled order, payload: {'position': HumblChannelSingleLong Position: 126.0 shares of SPY (224 orders), 'order': market order of | 1 SPY sell | @ $110.86 fill, 'price': 110.86000061035156, 'quantity': 1.0, 'multiplier': 1}\n"
     ]
    },
    {
     "name": "stdout",
     "output_type": "stream",
     "text": [
      "Progress |\u001b[32m\u001b[0m|   1.05%  [Elapsed: 0:12:14 ETA: 19:13:35] Portfolio Val: 100,029.89"
     ]
    },
    {
     "name": "stderr",
     "output_type": "stream",
     "text": [
      "2024-12-10 16:04:55,638: INFO: Current backtesting datetime 2010-02-23 16:00:00-05:00\n"
     ]
    },
    {
     "name": "stdout",
     "output_type": "stream",
     "text": [
      "Progress |\u001b[32m\u001b[0m|   1.05%  [Elapsed: 0:12:14 ETA: 19:13:08] Portfolio Val: 100,029.89"
     ]
    },
    {
     "name": "stderr",
     "output_type": "stream",
     "text": [
      "2024-12-10 16:04:55,639: INFO: Current backtesting datetime 2010-02-23 16:30:00-05:00\n"
     ]
    },
    {
     "name": "stdout",
     "output_type": "stream",
     "text": [
      "Progress |\u001b[32m\u001b[0m|   1.05%  [Elapsed: 0:12:14 ETA: 19:13:13] "
     ]
    },
    {
     "name": "stderr",
     "output_type": "stream",
     "text": [
      "2024-12-10 16:04:55,642: INFO: Current backtesting datetime 2010-02-23 16:25:00-05:00\n"
     ]
    },
    {
     "name": "stdout",
     "output_type": "stream",
     "text": [
      "Progress |\u001b[32m\u001b[0m|   1.05%  [Elapsed: 0:12:14 ETA: 19:13:13] "
     ]
    },
    {
     "name": "stderr",
     "output_type": "stream",
     "text": [
      "2024-12-10 16:04:55,644: INFO: Current backtesting datetime 2010-02-23 16:25:00-05:00\n"
     ]
    },
    {
     "name": "stdout",
     "output_type": "stream",
     "text": [
      "Progress |\u001b[32m\u001b[0m|   1.06%  [Elapsed: 0:12:14 ETA: 18:58:52] "
     ]
    },
    {
     "name": "stderr",
     "output_type": "stream",
     "text": [
      "2024-12-10 16:04:55,648: INFO: Current backtesting datetime 2010-02-24 08:30:00-05:00\n"
     ]
    },
    {
     "name": "stdout",
     "output_type": "stream",
     "text": [
      "Progress |\u001b[32m\u001b[0m|   1.06%  [Elapsed: 0:12:14 ETA: 18:58:18] "
     ]
    },
    {
     "name": "stderr",
     "output_type": "stream",
     "text": [
      "2024-12-10 16:04:55,858: INFO: Current backtesting datetime 2010-02-24 09:30:00-05:00\n",
      "2024-12-10 16:04:55,862: INFO: [HumblChannelSingleLong] Processing trade event. Trade event received for HumblChannelSingleLong strategy: new SPY, processed by broker backtesting\n",
      "2024-12-10 16:04:55,862: INFO: [HumblChannelSingleLong] \u001b[32mNew order was created: market order of | 1 SPY sell | new\u001b[0m\n",
      "2024-12-10 16:04:55,865: INFO: [HumblChannelSingleLong] Processing a new order, payload: {'order': market order of | 1 SPY sell | new}\n",
      "2024-12-10 16:04:55,865: INFO: [HumblChannelSingleLong] Getting historical prices for SPY, 1 bars, \n",
      "2024-12-10 16:04:55,867: INFO: [HumblChannelSingleLong] Processing trade event. Trade event received for HumblChannelSingleLong strategy: fill SPY, processed by broker backtesting\n",
      "2024-12-10 16:04:55,867: INFO: [HumblChannelSingleLong] \u001b[32mOrder was filled: market order of | 1 SPY sell | @ $110.14 fill\u001b[0m\n",
      "2024-12-10 16:04:55,869: INFO: [HumblChannelSingleLong] Processing a filled order, payload: {'position': HumblChannelSingleLong Position: 125.0 shares of SPY (225 orders), 'order': market order of | 1 SPY sell | @ $110.14 fill, 'price': 110.13999938964844, 'quantity': 1.0, 'multiplier': 1}\n"
     ]
    },
    {
     "name": "stdout",
     "output_type": "stream",
     "text": [
      "Progress |\u001b[32m\u001b[0m|   1.06%  [Elapsed: 0:12:14 ETA: 18:57:26] Portfolio Val: 99,939.17"
     ]
    },
    {
     "name": "stderr",
     "output_type": "stream",
     "text": [
      "2024-12-10 16:04:55,870: INFO: Current backtesting datetime 2010-02-24 10:30:00-05:00\n",
      "2024-12-10 16:04:55,874: INFO: [HumblChannelSingleLong] Processing trade event. Trade event received for HumblChannelSingleLong strategy: new SPY, processed by broker backtesting\n",
      "2024-12-10 16:04:55,874: INFO: [HumblChannelSingleLong] \u001b[32mNew order was created: market order of | 1 SPY sell | new\u001b[0m\n",
      "2024-12-10 16:04:55,877: INFO: [HumblChannelSingleLong] Processing a new order, payload: {'order': market order of | 1 SPY sell | new}\n",
      "2024-12-10 16:04:55,877: INFO: [HumblChannelSingleLong] Getting historical prices for SPY, 1 bars, \n",
      "2024-12-10 16:04:55,879: INFO: [HumblChannelSingleLong] Processing trade event. Trade event received for HumblChannelSingleLong strategy: fill SPY, processed by broker backtesting\n",
      "2024-12-10 16:04:55,880: INFO: [HumblChannelSingleLong] \u001b[32mOrder was filled: market order of | 1 SPY sell | @ $110.14 fill\u001b[0m\n",
      "2024-12-10 16:04:55,882: INFO: [HumblChannelSingleLong] Processing a filled order, payload: {'position': HumblChannelSingleLong Position: 124.0 shares of SPY (226 orders), 'order': market order of | 1 SPY sell | @ $110.14 fill, 'price': 110.13999938964844, 'quantity': 1.0, 'multiplier': 1}\n"
     ]
    },
    {
     "name": "stdout",
     "output_type": "stream",
     "text": [
      "Progress |\u001b[32m\u001b[0m|   1.07%  [Elapsed: 0:12:14 ETA: 18:56:35] Portfolio Val: 99,939.17"
     ]
    },
    {
     "name": "stderr",
     "output_type": "stream",
     "text": [
      "2024-12-10 16:04:55,882: INFO: Current backtesting datetime 2010-02-24 11:30:00-05:00\n",
      "2024-12-10 16:04:55,886: INFO: [HumblChannelSingleLong] Processing trade event. Trade event received for HumblChannelSingleLong strategy: new SPY, processed by broker backtesting\n",
      "2024-12-10 16:04:55,887: INFO: [HumblChannelSingleLong] \u001b[32mNew order was created: market order of | 1 SPY sell | new\u001b[0m\n",
      "2024-12-10 16:04:55,889: INFO: [HumblChannelSingleLong] Processing a new order, payload: {'order': market order of | 1 SPY sell | new}\n",
      "2024-12-10 16:04:55,890: INFO: [HumblChannelSingleLong] Getting historical prices for SPY, 1 bars, \n",
      "2024-12-10 16:04:55,891: INFO: [HumblChannelSingleLong] Processing trade event. Trade event received for HumblChannelSingleLong strategy: fill SPY, processed by broker backtesting\n",
      "2024-12-10 16:04:55,891: INFO: [HumblChannelSingleLong] \u001b[32mOrder was filled: market order of | 1 SPY sell | @ $110.14 fill\u001b[0m\n",
      "2024-12-10 16:04:55,893: INFO: [HumblChannelSingleLong] Processing a filled order, payload: {'position': HumblChannelSingleLong Position: 123.0 shares of SPY (227 orders), 'order': market order of | 1 SPY sell | @ $110.14 fill, 'price': 110.13999938964844, 'quantity': 1.0, 'multiplier': 1}\n"
     ]
    },
    {
     "name": "stdout",
     "output_type": "stream",
     "text": [
      "Progress |\u001b[32m\u001b[0m|   1.07%  [Elapsed: 0:12:14 ETA: 18:55:43] Portfolio Val: 99,939.17"
     ]
    },
    {
     "name": "stderr",
     "output_type": "stream",
     "text": [
      "2024-12-10 16:04:55,894: INFO: Current backtesting datetime 2010-02-24 12:30:00-05:00\n",
      "2024-12-10 16:04:55,899: INFO: [HumblChannelSingleLong] Processing trade event. Trade event received for HumblChannelSingleLong strategy: new SPY, processed by broker backtesting\n",
      "2024-12-10 16:04:55,899: INFO: [HumblChannelSingleLong] \u001b[32mNew order was created: market order of | 1 SPY sell | new\u001b[0m\n",
      "2024-12-10 16:04:55,902: INFO: [HumblChannelSingleLong] Processing a new order, payload: {'order': market order of | 1 SPY sell | new}\n",
      "2024-12-10 16:04:55,902: INFO: [HumblChannelSingleLong] Getting historical prices for SPY, 1 bars, \n",
      "2024-12-10 16:04:55,904: INFO: [HumblChannelSingleLong] Processing trade event. Trade event received for HumblChannelSingleLong strategy: fill SPY, processed by broker backtesting\n",
      "2024-12-10 16:04:55,904: INFO: [HumblChannelSingleLong] \u001b[32mOrder was filled: market order of | 1 SPY sell | @ $110.14 fill\u001b[0m\n",
      "2024-12-10 16:04:55,906: INFO: [HumblChannelSingleLong] Processing a filled order, payload: {'position': HumblChannelSingleLong Position: 122.0 shares of SPY (228 orders), 'order': market order of | 1 SPY sell | @ $110.14 fill, 'price': 110.13999938964844, 'quantity': 1.0, 'multiplier': 1}\n"
     ]
    },
    {
     "name": "stdout",
     "output_type": "stream",
     "text": [
      "Progress |\u001b[32m\u001b[0m|   1.07%  [Elapsed: 0:12:14 ETA: 18:54:52] Portfolio Val: 99,939.17"
     ]
    },
    {
     "name": "stderr",
     "output_type": "stream",
     "text": [
      "2024-12-10 16:04:55,906: INFO: Current backtesting datetime 2010-02-24 13:30:00-05:00\n",
      "2024-12-10 16:04:55,911: INFO: [HumblChannelSingleLong] Processing trade event. Trade event received for HumblChannelSingleLong strategy: new SPY, processed by broker backtesting\n",
      "2024-12-10 16:04:55,911: INFO: [HumblChannelSingleLong] \u001b[32mNew order was created: market order of | 1 SPY sell | new\u001b[0m\n",
      "2024-12-10 16:04:55,913: INFO: [HumblChannelSingleLong] Processing a new order, payload: {'order': market order of | 1 SPY sell | new}\n",
      "2024-12-10 16:04:55,914: INFO: [HumblChannelSingleLong] Getting historical prices for SPY, 1 bars, \n",
      "2024-12-10 16:04:55,915: INFO: [HumblChannelSingleLong] Processing trade event. Trade event received for HumblChannelSingleLong strategy: fill SPY, processed by broker backtesting\n",
      "2024-12-10 16:04:55,916: INFO: [HumblChannelSingleLong] \u001b[32mOrder was filled: market order of | 1 SPY sell | @ $110.14 fill\u001b[0m\n",
      "2024-12-10 16:04:55,918: INFO: [HumblChannelSingleLong] Processing a filled order, payload: {'position': HumblChannelSingleLong Position: 121.0 shares of SPY (229 orders), 'order': market order of | 1 SPY sell | @ $110.14 fill, 'price': 110.13999938964844, 'quantity': 1.0, 'multiplier': 1}\n"
     ]
    },
    {
     "name": "stdout",
     "output_type": "stream",
     "text": [
      "Progress |\u001b[32m\u001b[0m|   1.07%  [Elapsed: 0:12:14 ETA: 18:54:00] Portfolio Val: 99,939.17"
     ]
    },
    {
     "name": "stderr",
     "output_type": "stream",
     "text": [
      "2024-12-10 16:04:55,918: INFO: Current backtesting datetime 2010-02-24 14:30:00-05:00\n",
      "2024-12-10 16:04:55,923: INFO: [HumblChannelSingleLong] Processing trade event. Trade event received for HumblChannelSingleLong strategy: new SPY, processed by broker backtesting\n",
      "2024-12-10 16:04:55,923: INFO: [HumblChannelSingleLong] \u001b[32mNew order was created: market order of | 1 SPY sell | new\u001b[0m\n",
      "2024-12-10 16:04:55,925: INFO: [HumblChannelSingleLong] Processing a new order, payload: {'order': market order of | 1 SPY sell | new}\n",
      "2024-12-10 16:04:55,926: INFO: [HumblChannelSingleLong] Getting historical prices for SPY, 1 bars, \n",
      "2024-12-10 16:04:55,927: INFO: [HumblChannelSingleLong] Processing trade event. Trade event received for HumblChannelSingleLong strategy: fill SPY, processed by broker backtesting\n",
      "2024-12-10 16:04:55,928: INFO: [HumblChannelSingleLong] \u001b[32mOrder was filled: market order of | 1 SPY sell | @ $110.14 fill\u001b[0m\n",
      "2024-12-10 16:04:55,930: INFO: [HumblChannelSingleLong] Processing a filled order, payload: {'position': HumblChannelSingleLong Position: 120.0 shares of SPY (230 orders), 'order': market order of | 1 SPY sell | @ $110.14 fill, 'price': 110.13999938964844, 'quantity': 1.0, 'multiplier': 1}\n"
     ]
    },
    {
     "name": "stdout",
     "output_type": "stream",
     "text": [
      "Progress |\u001b[32m\u001b[0m|   1.07%  [Elapsed: 0:12:14 ETA: 18:53:09] Portfolio Val: 99,939.17"
     ]
    },
    {
     "name": "stderr",
     "output_type": "stream",
     "text": [
      "2024-12-10 16:04:55,930: INFO: Current backtesting datetime 2010-02-24 15:30:00-05:00\n",
      "2024-12-10 16:04:55,934: INFO: [HumblChannelSingleLong] Processing trade event. Trade event received for HumblChannelSingleLong strategy: new SPY, processed by broker backtesting\n",
      "2024-12-10 16:04:55,935: INFO: [HumblChannelSingleLong] \u001b[32mNew order was created: market order of | 1 SPY sell | new\u001b[0m\n",
      "2024-12-10 16:04:55,937: INFO: [HumblChannelSingleLong] Processing a new order, payload: {'order': market order of | 1 SPY sell | new}\n",
      "2024-12-10 16:04:55,937: INFO: [HumblChannelSingleLong] Getting historical prices for SPY, 1 bars, \n",
      "2024-12-10 16:04:55,939: INFO: [HumblChannelSingleLong] Processing trade event. Trade event received for HumblChannelSingleLong strategy: fill SPY, processed by broker backtesting\n",
      "2024-12-10 16:04:55,939: INFO: [HumblChannelSingleLong] \u001b[32mOrder was filled: market order of | 1 SPY sell | @ $110.14 fill\u001b[0m\n",
      "2024-12-10 16:04:55,941: INFO: [HumblChannelSingleLong] Processing a filled order, payload: {'position': HumblChannelSingleLong Position: 119.0 shares of SPY (231 orders), 'order': market order of | 1 SPY sell | @ $110.14 fill, 'price': 110.13999938964844, 'quantity': 1.0, 'multiplier': 1}\n"
     ]
    },
    {
     "name": "stdout",
     "output_type": "stream",
     "text": [
      "Progress |\u001b[32m\u001b[0m|   1.07%  [Elapsed: 0:12:14 ETA: 18:52:44] Portfolio Val: 99,939.17"
     ]
    },
    {
     "name": "stderr",
     "output_type": "stream",
     "text": [
      "2024-12-10 16:04:55,942: INFO: Current backtesting datetime 2010-02-24 16:00:00-05:00\n"
     ]
    },
    {
     "name": "stdout",
     "output_type": "stream",
     "text": [
      "Progress |\u001b[32m\u001b[0m|   1.07%  [Elapsed: 0:12:14 ETA: 18:52:18] Portfolio Val: 99,939.17"
     ]
    },
    {
     "name": "stderr",
     "output_type": "stream",
     "text": [
      "2024-12-10 16:04:55,942: INFO: Current backtesting datetime 2010-02-24 16:30:00-05:00\n"
     ]
    },
    {
     "name": "stdout",
     "output_type": "stream",
     "text": [
      "Progress |\u001b[32m\u001b[0m|   1.07%  [Elapsed: 0:12:14 ETA: 18:52:22] "
     ]
    },
    {
     "name": "stderr",
     "output_type": "stream",
     "text": [
      "2024-12-10 16:04:55,944: INFO: Current backtesting datetime 2010-02-24 16:25:00-05:00\n"
     ]
    },
    {
     "name": "stdout",
     "output_type": "stream",
     "text": [
      "Progress |\u001b[32m\u001b[0m|   1.07%  [Elapsed: 0:12:14 ETA: 18:52:22] "
     ]
    },
    {
     "name": "stderr",
     "output_type": "stream",
     "text": [
      "2024-12-10 16:04:55,945: INFO: Current backtesting datetime 2010-02-24 16:25:00-05:00\n"
     ]
    },
    {
     "name": "stdout",
     "output_type": "stream",
     "text": [
      "Progress |\u001b[32m\u001b[0m|   1.08%  [Elapsed: 0:12:14 ETA: 18:38:31] "
     ]
    },
    {
     "name": "stderr",
     "output_type": "stream",
     "text": [
      "2024-12-10 16:04:55,947: INFO: Current backtesting datetime 2010-02-25 08:30:00-05:00\n"
     ]
    },
    {
     "name": "stdout",
     "output_type": "stream",
     "text": [
      "Progress |\u001b[32m\u001b[0m|   1.08%  [Elapsed: 0:12:14 ETA: 18:38:00] "
     ]
    },
    {
     "name": "stderr",
     "output_type": "stream",
     "text": [
      "2024-12-10 16:04:56,161: INFO: Current backtesting datetime 2010-02-25 09:30:00-05:00\n",
      "2024-12-10 16:04:56,165: INFO: [HumblChannelSingleLong] Processing trade event. Trade event received for HumblChannelSingleLong strategy: new SPY, processed by broker backtesting\n",
      "2024-12-10 16:04:56,166: INFO: [HumblChannelSingleLong] \u001b[32mNew order was created: market order of | 1 SPY buy | new\u001b[0m\n",
      "2024-12-10 16:04:56,168: INFO: [HumblChannelSingleLong] Processing a new order, payload: {'order': market order of | 1 SPY buy | new}\n",
      "2024-12-10 16:04:56,169: INFO: [HumblChannelSingleLong] Getting historical prices for SPY, 1 bars, \n",
      "2024-12-10 16:04:56,170: INFO: [HumblChannelSingleLong] Processing trade event. Trade event received for HumblChannelSingleLong strategy: fill SPY, processed by broker backtesting\n",
      "2024-12-10 16:04:56,171: INFO: [HumblChannelSingleLong] \u001b[32mOrder was filled: market order of | 1 SPY buy | @ $109.24 fill\u001b[0m\n",
      "2024-12-10 16:04:56,173: INFO: [HumblChannelSingleLong] Processing a filled order, payload: {'position': HumblChannelSingleLong Position: 120.0 shares of SPY (232 orders), 'order': market order of | 1 SPY buy | @ $109.24 fill, 'price': 109.23999786376953, 'quantity': 1.0, 'multiplier': 1}\n"
     ]
    },
    {
     "name": "stdout",
     "output_type": "stream",
     "text": [
      "Progress |\u001b[32m\u001b[0m|   1.08%  [Elapsed: 0:12:14 ETA: 18:37:10] Portfolio Val: 99,832.07"
     ]
    },
    {
     "name": "stderr",
     "output_type": "stream",
     "text": [
      "2024-12-10 16:04:56,173: INFO: Current backtesting datetime 2010-02-25 10:30:00-05:00\n",
      "2024-12-10 16:04:56,178: INFO: [HumblChannelSingleLong] Processing trade event. Trade event received for HumblChannelSingleLong strategy: new SPY, processed by broker backtesting\n",
      "2024-12-10 16:04:56,179: INFO: [HumblChannelSingleLong] \u001b[32mNew order was created: market order of | 1 SPY buy | new\u001b[0m\n",
      "2024-12-10 16:04:56,181: INFO: [HumblChannelSingleLong] Processing a new order, payload: {'order': market order of | 1 SPY buy | new}\n",
      "2024-12-10 16:04:56,182: INFO: [HumblChannelSingleLong] Getting historical prices for SPY, 1 bars, \n",
      "2024-12-10 16:04:56,184: INFO: [HumblChannelSingleLong] Processing trade event. Trade event received for HumblChannelSingleLong strategy: fill SPY, processed by broker backtesting\n",
      "2024-12-10 16:04:56,185: INFO: [HumblChannelSingleLong] \u001b[32mOrder was filled: market order of | 1 SPY buy | @ $109.24 fill\u001b[0m\n",
      "2024-12-10 16:04:56,187: INFO: [HumblChannelSingleLong] Processing a filled order, payload: {'position': HumblChannelSingleLong Position: 121.0 shares of SPY (233 orders), 'order': market order of | 1 SPY buy | @ $109.24 fill, 'price': 109.23999786376953, 'quantity': 1.0, 'multiplier': 1}\n"
     ]
    },
    {
     "name": "stdout",
     "output_type": "stream",
     "text": [
      "Progress |\u001b[32m\u001b[0m|   1.09%  [Elapsed: 0:12:14 ETA: 18:36:20] Portfolio Val: 99,832.07"
     ]
    },
    {
     "name": "stderr",
     "output_type": "stream",
     "text": [
      "2024-12-10 16:04:56,187: INFO: Current backtesting datetime 2010-02-25 11:30:00-05:00\n",
      "2024-12-10 16:04:56,191: INFO: [HumblChannelSingleLong] Processing trade event. Trade event received for HumblChannelSingleLong strategy: new SPY, processed by broker backtesting\n",
      "2024-12-10 16:04:56,192: INFO: [HumblChannelSingleLong] \u001b[32mNew order was created: market order of | 1 SPY buy | new\u001b[0m\n",
      "2024-12-10 16:04:56,195: INFO: [HumblChannelSingleLong] Processing a new order, payload: {'order': market order of | 1 SPY buy | new}\n",
      "2024-12-10 16:04:56,195: INFO: [HumblChannelSingleLong] Getting historical prices for SPY, 1 bars, \n",
      "2024-12-10 16:04:56,197: INFO: [HumblChannelSingleLong] Processing trade event. Trade event received for HumblChannelSingleLong strategy: fill SPY, processed by broker backtesting\n",
      "2024-12-10 16:04:56,198: INFO: [HumblChannelSingleLong] \u001b[32mOrder was filled: market order of | 1 SPY buy | @ $109.24 fill\u001b[0m\n",
      "2024-12-10 16:04:56,200: INFO: [HumblChannelSingleLong] Processing a filled order, payload: {'position': HumblChannelSingleLong Position: 122.0 shares of SPY (234 orders), 'order': market order of | 1 SPY buy | @ $109.24 fill, 'price': 109.23999786376953, 'quantity': 1.0, 'multiplier': 1}\n"
     ]
    },
    {
     "name": "stdout",
     "output_type": "stream",
     "text": [
      "Progress |\u001b[32m\u001b[0m|   1.09%  [Elapsed: 0:12:14 ETA: 18:35:31] Portfolio Val: 99,832.07"
     ]
    },
    {
     "name": "stderr",
     "output_type": "stream",
     "text": [
      "2024-12-10 16:04:56,201: INFO: Current backtesting datetime 2010-02-25 12:30:00-05:00\n",
      "2024-12-10 16:04:56,205: INFO: [HumblChannelSingleLong] Processing trade event. Trade event received for HumblChannelSingleLong strategy: new SPY, processed by broker backtesting\n",
      "2024-12-10 16:04:56,205: INFO: [HumblChannelSingleLong] \u001b[32mNew order was created: market order of | 1 SPY buy | new\u001b[0m\n",
      "2024-12-10 16:04:56,208: INFO: [HumblChannelSingleLong] Processing a new order, payload: {'order': market order of | 1 SPY buy | new}\n",
      "2024-12-10 16:04:56,208: INFO: [HumblChannelSingleLong] Getting historical prices for SPY, 1 bars, \n",
      "2024-12-10 16:04:56,210: INFO: [HumblChannelSingleLong] Processing trade event. Trade event received for HumblChannelSingleLong strategy: fill SPY, processed by broker backtesting\n",
      "2024-12-10 16:04:56,211: INFO: [HumblChannelSingleLong] \u001b[32mOrder was filled: market order of | 1 SPY buy | @ $109.24 fill\u001b[0m\n",
      "2024-12-10 16:04:56,213: INFO: [HumblChannelSingleLong] Processing a filled order, payload: {'position': HumblChannelSingleLong Position: 123.0 shares of SPY (235 orders), 'order': market order of | 1 SPY buy | @ $109.24 fill, 'price': 109.23999786376953, 'quantity': 1.0, 'multiplier': 1}\n"
     ]
    },
    {
     "name": "stdout",
     "output_type": "stream",
     "text": [
      "Progress |\u001b[32m\u001b[0m|   1.09%  [Elapsed: 0:12:14 ETA: 18:34:41] Portfolio Val: 99,832.07"
     ]
    },
    {
     "name": "stderr",
     "output_type": "stream",
     "text": [
      "2024-12-10 16:04:56,214: INFO: Current backtesting datetime 2010-02-25 13:30:00-05:00\n",
      "2024-12-10 16:04:56,218: INFO: [HumblChannelSingleLong] Processing trade event. Trade event received for HumblChannelSingleLong strategy: new SPY, processed by broker backtesting\n",
      "2024-12-10 16:04:56,219: INFO: [HumblChannelSingleLong] \u001b[32mNew order was created: market order of | 1 SPY buy | new\u001b[0m\n",
      "2024-12-10 16:04:56,221: INFO: [HumblChannelSingleLong] Processing a new order, payload: {'order': market order of | 1 SPY buy | new}\n",
      "2024-12-10 16:04:56,222: INFO: [HumblChannelSingleLong] Getting historical prices for SPY, 1 bars, \n",
      "2024-12-10 16:04:56,224: INFO: [HumblChannelSingleLong] Processing trade event. Trade event received for HumblChannelSingleLong strategy: fill SPY, processed by broker backtesting\n",
      "2024-12-10 16:04:56,224: INFO: [HumblChannelSingleLong] \u001b[32mOrder was filled: market order of | 1 SPY buy | @ $109.24 fill\u001b[0m\n",
      "2024-12-10 16:04:56,226: INFO: [HumblChannelSingleLong] Processing a filled order, payload: {'position': HumblChannelSingleLong Position: 124.0 shares of SPY (236 orders), 'order': market order of | 1 SPY buy | @ $109.24 fill, 'price': 109.23999786376953, 'quantity': 1.0, 'multiplier': 1}\n"
     ]
    },
    {
     "name": "stdout",
     "output_type": "stream",
     "text": [
      "Progress |\u001b[32m\u001b[0m|   1.09%  [Elapsed: 0:12:14 ETA: 18:33:52] Portfolio Val: 99,832.07"
     ]
    },
    {
     "name": "stderr",
     "output_type": "stream",
     "text": [
      "2024-12-10 16:04:56,227: INFO: Current backtesting datetime 2010-02-25 14:30:00-05:00\n",
      "2024-12-10 16:04:56,232: INFO: [HumblChannelSingleLong] Processing trade event. Trade event received for HumblChannelSingleLong strategy: new SPY, processed by broker backtesting\n",
      "2024-12-10 16:04:56,233: INFO: [HumblChannelSingleLong] \u001b[32mNew order was created: market order of | 1 SPY buy | new\u001b[0m\n",
      "2024-12-10 16:04:56,237: INFO: [HumblChannelSingleLong] Processing a new order, payload: {'order': market order of | 1 SPY buy | new}\n",
      "2024-12-10 16:04:56,237: INFO: [HumblChannelSingleLong] Getting historical prices for SPY, 1 bars, \n",
      "2024-12-10 16:04:56,240: INFO: [HumblChannelSingleLong] Processing trade event. Trade event received for HumblChannelSingleLong strategy: fill SPY, processed by broker backtesting\n",
      "2024-12-10 16:04:56,240: INFO: [HumblChannelSingleLong] \u001b[32mOrder was filled: market order of | 1 SPY buy | @ $109.24 fill\u001b[0m\n",
      "2024-12-10 16:04:56,242: INFO: [HumblChannelSingleLong] Processing a filled order, payload: {'position': HumblChannelSingleLong Position: 125.0 shares of SPY (237 orders), 'order': market order of | 1 SPY buy | @ $109.24 fill, 'price': 109.23999786376953, 'quantity': 1.0, 'multiplier': 1}\n"
     ]
    },
    {
     "name": "stdout",
     "output_type": "stream",
     "text": [
      "Progress |\u001b[32m\u001b[0m|   1.09%  [Elapsed: 0:12:14 ETA: 18:33:02] Portfolio Val: 99,832.07"
     ]
    },
    {
     "name": "stderr",
     "output_type": "stream",
     "text": [
      "2024-12-10 16:04:56,243: INFO: Current backtesting datetime 2010-02-25 15:30:00-05:00\n",
      "2024-12-10 16:04:56,247: INFO: [HumblChannelSingleLong] Processing trade event. Trade event received for HumblChannelSingleLong strategy: new SPY, processed by broker backtesting\n",
      "2024-12-10 16:04:56,248: INFO: [HumblChannelSingleLong] \u001b[32mNew order was created: market order of | 1 SPY buy | new\u001b[0m\n",
      "2024-12-10 16:04:56,250: INFO: [HumblChannelSingleLong] Processing a new order, payload: {'order': market order of | 1 SPY buy | new}\n",
      "2024-12-10 16:04:56,251: INFO: [HumblChannelSingleLong] Getting historical prices for SPY, 1 bars, \n",
      "2024-12-10 16:04:56,252: INFO: [HumblChannelSingleLong] Processing trade event. Trade event received for HumblChannelSingleLong strategy: fill SPY, processed by broker backtesting\n",
      "2024-12-10 16:04:56,253: INFO: [HumblChannelSingleLong] \u001b[32mOrder was filled: market order of | 1 SPY buy | @ $109.24 fill\u001b[0m\n",
      "2024-12-10 16:04:56,255: INFO: [HumblChannelSingleLong] Processing a filled order, payload: {'position': HumblChannelSingleLong Position: 126.0 shares of SPY (238 orders), 'order': market order of | 1 SPY buy | @ $109.24 fill, 'price': 109.23999786376953, 'quantity': 1.0, 'multiplier': 1}\n"
     ]
    },
    {
     "name": "stdout",
     "output_type": "stream",
     "text": [
      "Progress |\u001b[32m\u001b[0m|   1.09%  [Elapsed: 0:12:14 ETA: 18:32:38] Portfolio Val: 99,832.07"
     ]
    },
    {
     "name": "stderr",
     "output_type": "stream",
     "text": [
      "2024-12-10 16:04:56,255: INFO: Current backtesting datetime 2010-02-25 16:00:00-05:00\n"
     ]
    },
    {
     "name": "stdout",
     "output_type": "stream",
     "text": [
      "Progress |\u001b[32m\u001b[0m|   1.09%  [Elapsed: 0:12:14 ETA: 18:32:13] Portfolio Val: 99,832.07"
     ]
    },
    {
     "name": "stderr",
     "output_type": "stream",
     "text": [
      "2024-12-10 16:04:56,255: INFO: Current backtesting datetime 2010-02-25 16:30:00-05:00\n"
     ]
    },
    {
     "name": "stdout",
     "output_type": "stream",
     "text": [
      "Progress |\u001b[32m\u001b[0m|   1.09%  [Elapsed: 0:12:14 ETA: 18:32:17] "
     ]
    },
    {
     "name": "stderr",
     "output_type": "stream",
     "text": [
      "2024-12-10 16:04:56,257: INFO: Current backtesting datetime 2010-02-25 16:25:00-05:00\n"
     ]
    },
    {
     "name": "stdout",
     "output_type": "stream",
     "text": [
      "Progress |\u001b[32m\u001b[0m|   1.09%  [Elapsed: 0:12:14 ETA: 18:32:18] "
     ]
    },
    {
     "name": "stderr",
     "output_type": "stream",
     "text": [
      "2024-12-10 16:04:56,258: INFO: Current backtesting datetime 2010-02-25 16:25:00-05:00\n"
     ]
    },
    {
     "name": "stdout",
     "output_type": "stream",
     "text": [
      "Progress |\u001b[32m\u001b[0m|   1.10%  [Elapsed: 0:12:14 ETA: 18:18:55] "
     ]
    },
    {
     "name": "stderr",
     "output_type": "stream",
     "text": [
      "2024-12-10 16:04:56,261: INFO: Current backtesting datetime 2010-02-26 08:30:00-05:00\n"
     ]
    },
    {
     "name": "stdout",
     "output_type": "stream",
     "text": [
      "Progress |\u001b[32m\u001b[0m|   1.10%  [Elapsed: 0:12:15 ETA: 18:18:40] "
     ]
    },
    {
     "name": "stderr",
     "output_type": "stream",
     "text": [
      "2024-12-10 16:04:56,644: INFO: Current backtesting datetime 2010-02-26 09:30:00-05:00\n",
      "2024-12-10 16:04:56,648: INFO: [HumblChannelSingleLong] Processing trade event. Trade event received for HumblChannelSingleLong strategy: new SPY, processed by broker backtesting\n",
      "2024-12-10 16:04:56,648: INFO: [HumblChannelSingleLong] \u001b[32mNew order was created: market order of | 1 SPY sell | new\u001b[0m\n",
      "2024-12-10 16:04:56,650: INFO: [HumblChannelSingleLong] Processing a new order, payload: {'order': market order of | 1 SPY sell | new}\n",
      "2024-12-10 16:04:56,651: INFO: [HumblChannelSingleLong] Getting historical prices for SPY, 1 bars, \n",
      "2024-12-10 16:04:56,653: INFO: [HumblChannelSingleLong] Processing trade event. Trade event received for HumblChannelSingleLong strategy: fill SPY, processed by broker backtesting\n",
      "2024-12-10 16:04:56,653: INFO: [HumblChannelSingleLong] \u001b[32mOrder was filled: market order of | 1 SPY sell | @ $110.77 fill\u001b[0m\n",
      "2024-12-10 16:04:56,655: INFO: [HumblChannelSingleLong] Processing a filled order, payload: {'position': HumblChannelSingleLong Position: 125.0 shares of SPY (239 orders), 'order': market order of | 1 SPY sell | @ $110.77 fill, 'price': 110.7699966430664, 'quantity': 1.0, 'multiplier': 1}\n"
     ]
    },
    {
     "name": "stdout",
     "output_type": "stream",
     "text": [
      "Progress |\u001b[32m\u001b[0m|   1.10%  [Elapsed: 0:12:15 ETA: 18:17:52] Portfolio Val: 100,024.85"
     ]
    },
    {
     "name": "stderr",
     "output_type": "stream",
     "text": [
      "2024-12-10 16:04:56,655: INFO: Current backtesting datetime 2010-02-26 10:30:00-05:00\n",
      "2024-12-10 16:04:56,660: INFO: [HumblChannelSingleLong] Processing trade event. Trade event received for HumblChannelSingleLong strategy: new SPY, processed by broker backtesting\n",
      "2024-12-10 16:04:56,660: INFO: [HumblChannelSingleLong] \u001b[32mNew order was created: market order of | 1 SPY sell | new\u001b[0m\n",
      "2024-12-10 16:04:56,663: INFO: [HumblChannelSingleLong] Processing a new order, payload: {'order': market order of | 1 SPY sell | new}\n",
      "2024-12-10 16:04:56,663: INFO: [HumblChannelSingleLong] Getting historical prices for SPY, 1 bars, \n",
      "2024-12-10 16:04:56,665: INFO: [HumblChannelSingleLong] Processing trade event. Trade event received for HumblChannelSingleLong strategy: fill SPY, processed by broker backtesting\n",
      "2024-12-10 16:04:56,665: INFO: [HumblChannelSingleLong] \u001b[32mOrder was filled: market order of | 1 SPY sell | @ $110.77 fill\u001b[0m\n",
      "2024-12-10 16:04:56,667: INFO: [HumblChannelSingleLong] Processing a filled order, payload: {'position': HumblChannelSingleLong Position: 124.0 shares of SPY (240 orders), 'order': market order of | 1 SPY sell | @ $110.77 fill, 'price': 110.7699966430664, 'quantity': 1.0, 'multiplier': 1}\n"
     ]
    },
    {
     "name": "stdout",
     "output_type": "stream",
     "text": [
      "Progress |\u001b[32m\u001b[0m|   1.10%  [Elapsed: 0:12:15 ETA: 18:17:04] Portfolio Val: 100,024.85"
     ]
    },
    {
     "name": "stderr",
     "output_type": "stream",
     "text": [
      "2024-12-10 16:04:56,668: INFO: Current backtesting datetime 2010-02-26 11:30:00-05:00\n",
      "2024-12-10 16:04:56,674: INFO: [HumblChannelSingleLong] Processing trade event. Trade event received for HumblChannelSingleLong strategy: new SPY, processed by broker backtesting\n",
      "2024-12-10 16:04:56,674: INFO: [HumblChannelSingleLong] \u001b[32mNew order was created: market order of | 1 SPY sell | new\u001b[0m\n",
      "2024-12-10 16:04:56,677: INFO: [HumblChannelSingleLong] Processing a new order, payload: {'order': market order of | 1 SPY sell | new}\n",
      "2024-12-10 16:04:56,678: INFO: [HumblChannelSingleLong] Getting historical prices for SPY, 1 bars, \n",
      "2024-12-10 16:04:56,681: INFO: [HumblChannelSingleLong] Processing trade event. Trade event received for HumblChannelSingleLong strategy: fill SPY, processed by broker backtesting\n",
      "2024-12-10 16:04:56,681: INFO: [HumblChannelSingleLong] \u001b[32mOrder was filled: market order of | 1 SPY sell | @ $110.77 fill\u001b[0m\n",
      "2024-12-10 16:04:56,683: INFO: [HumblChannelSingleLong] Processing a filled order, payload: {'position': HumblChannelSingleLong Position: 123.0 shares of SPY (241 orders), 'order': market order of | 1 SPY sell | @ $110.77 fill, 'price': 110.7699966430664, 'quantity': 1.0, 'multiplier': 1}\n"
     ]
    },
    {
     "name": "stdout",
     "output_type": "stream",
     "text": [
      "Progress |\u001b[32m\u001b[0m|   1.11%  [Elapsed: 0:12:15 ETA: 18:16:17] Portfolio Val: 100,024.85"
     ]
    },
    {
     "name": "stderr",
     "output_type": "stream",
     "text": [
      "2024-12-10 16:04:56,684: INFO: Current backtesting datetime 2010-02-26 12:30:00-05:00\n",
      "2024-12-10 16:04:56,689: INFO: [HumblChannelSingleLong] Processing trade event. Trade event received for HumblChannelSingleLong strategy: new SPY, processed by broker backtesting\n",
      "2024-12-10 16:04:56,690: INFO: [HumblChannelSingleLong] \u001b[32mNew order was created: market order of | 1 SPY sell | new\u001b[0m\n",
      "2024-12-10 16:04:56,693: INFO: [HumblChannelSingleLong] Processing a new order, payload: {'order': market order of | 1 SPY sell | new}\n",
      "2024-12-10 16:04:56,694: INFO: [HumblChannelSingleLong] Getting historical prices for SPY, 1 bars, \n",
      "2024-12-10 16:04:56,697: INFO: [HumblChannelSingleLong] Processing trade event. Trade event received for HumblChannelSingleLong strategy: fill SPY, processed by broker backtesting\n",
      "2024-12-10 16:04:56,697: INFO: [HumblChannelSingleLong] \u001b[32mOrder was filled: market order of | 1 SPY sell | @ $110.77 fill\u001b[0m\n",
      "2024-12-10 16:04:56,700: INFO: [HumblChannelSingleLong] Processing a filled order, payload: {'position': HumblChannelSingleLong Position: 122.0 shares of SPY (242 orders), 'order': market order of | 1 SPY sell | @ $110.77 fill, 'price': 110.7699966430664, 'quantity': 1.0, 'multiplier': 1}\n"
     ]
    },
    {
     "name": "stdout",
     "output_type": "stream",
     "text": [
      "Progress |\u001b[32m\u001b[0m|   1.11%  [Elapsed: 0:12:15 ETA: 18:15:29] Portfolio Val: 100,024.85"
     ]
    },
    {
     "name": "stderr",
     "output_type": "stream",
     "text": [
      "2024-12-10 16:04:56,701: INFO: Current backtesting datetime 2010-02-26 13:30:00-05:00\n",
      "2024-12-10 16:04:56,708: INFO: [HumblChannelSingleLong] Processing trade event. Trade event received for HumblChannelSingleLong strategy: new SPY, processed by broker backtesting\n",
      "2024-12-10 16:04:56,709: INFO: [HumblChannelSingleLong] \u001b[32mNew order was created: market order of | 1 SPY sell | new\u001b[0m\n",
      "2024-12-10 16:04:56,712: INFO: [HumblChannelSingleLong] Processing a new order, payload: {'order': market order of | 1 SPY sell | new}\n",
      "2024-12-10 16:04:56,713: INFO: [HumblChannelSingleLong] Getting historical prices for SPY, 1 bars, \n",
      "2024-12-10 16:04:56,715: INFO: [HumblChannelSingleLong] Processing trade event. Trade event received for HumblChannelSingleLong strategy: fill SPY, processed by broker backtesting\n",
      "2024-12-10 16:04:56,716: INFO: [HumblChannelSingleLong] \u001b[32mOrder was filled: market order of | 1 SPY sell | @ $110.77 fill\u001b[0m\n",
      "2024-12-10 16:04:56,718: INFO: [HumblChannelSingleLong] Processing a filled order, payload: {'position': HumblChannelSingleLong Position: 121.0 shares of SPY (243 orders), 'order': market order of | 1 SPY sell | @ $110.77 fill, 'price': 110.7699966430664, 'quantity': 1.0, 'multiplier': 1}\n"
     ]
    },
    {
     "name": "stdout",
     "output_type": "stream",
     "text": [
      "Progress |\u001b[32m\u001b[0m|   1.11%  [Elapsed: 0:12:15 ETA: 18:14:42] Portfolio Val: 100,024.85"
     ]
    },
    {
     "name": "stderr",
     "output_type": "stream",
     "text": [
      "2024-12-10 16:04:56,719: INFO: Current backtesting datetime 2010-02-26 14:30:00-05:00\n",
      "2024-12-10 16:04:56,725: INFO: [HumblChannelSingleLong] Processing trade event. Trade event received for HumblChannelSingleLong strategy: new SPY, processed by broker backtesting\n",
      "2024-12-10 16:04:56,726: INFO: [HumblChannelSingleLong] \u001b[32mNew order was created: market order of | 1 SPY sell | new\u001b[0m\n",
      "2024-12-10 16:04:56,729: INFO: [HumblChannelSingleLong] Processing a new order, payload: {'order': market order of | 1 SPY sell | new}\n",
      "2024-12-10 16:04:56,730: INFO: [HumblChannelSingleLong] Getting historical prices for SPY, 1 bars, \n",
      "2024-12-10 16:04:56,732: INFO: [HumblChannelSingleLong] Processing trade event. Trade event received for HumblChannelSingleLong strategy: fill SPY, processed by broker backtesting\n",
      "2024-12-10 16:04:56,733: INFO: [HumblChannelSingleLong] \u001b[32mOrder was filled: market order of | 1 SPY sell | @ $110.77 fill\u001b[0m\n",
      "2024-12-10 16:04:56,736: INFO: [HumblChannelSingleLong] Processing a filled order, payload: {'position': HumblChannelSingleLong Position: 120.0 shares of SPY (244 orders), 'order': market order of | 1 SPY sell | @ $110.77 fill, 'price': 110.7699966430664, 'quantity': 1.0, 'multiplier': 1}\n"
     ]
    },
    {
     "name": "stdout",
     "output_type": "stream",
     "text": [
      "Progress |\u001b[32m\u001b[0m|   1.11%  [Elapsed: 0:12:15 ETA: 18:13:55] Portfolio Val: 100,024.85"
     ]
    },
    {
     "name": "stderr",
     "output_type": "stream",
     "text": [
      "2024-12-10 16:04:56,738: INFO: Current backtesting datetime 2010-02-26 15:30:00-05:00\n",
      "2024-12-10 16:04:56,744: INFO: [HumblChannelSingleLong] Processing trade event. Trade event received for HumblChannelSingleLong strategy: new SPY, processed by broker backtesting\n",
      "2024-12-10 16:04:56,745: INFO: [HumblChannelSingleLong] \u001b[32mNew order was created: market order of | 1 SPY sell | new\u001b[0m\n",
      "2024-12-10 16:04:56,750: INFO: [HumblChannelSingleLong] Processing a new order, payload: {'order': market order of | 1 SPY sell | new}\n",
      "2024-12-10 16:04:56,751: INFO: [HumblChannelSingleLong] Getting historical prices for SPY, 1 bars, \n",
      "2024-12-10 16:04:56,754: INFO: [HumblChannelSingleLong] Processing trade event. Trade event received for HumblChannelSingleLong strategy: fill SPY, processed by broker backtesting\n",
      "2024-12-10 16:04:56,755: INFO: [HumblChannelSingleLong] \u001b[32mOrder was filled: market order of | 1 SPY sell | @ $110.77 fill\u001b[0m\n",
      "2024-12-10 16:04:56,758: INFO: [HumblChannelSingleLong] Processing a filled order, payload: {'position': HumblChannelSingleLong Position: 119.0 shares of SPY (245 orders), 'order': market order of | 1 SPY sell | @ $110.77 fill, 'price': 110.7699966430664, 'quantity': 1.0, 'multiplier': 1}\n"
     ]
    },
    {
     "name": "stdout",
     "output_type": "stream",
     "text": [
      "Progress |\u001b[32m\u001b[0m|   1.11%  [Elapsed: 0:12:15 ETA: 18:13:32] Portfolio Val: 100,024.85"
     ]
    },
    {
     "name": "stderr",
     "output_type": "stream",
     "text": [
      "2024-12-10 16:04:56,761: INFO: Current backtesting datetime 2010-02-26 16:00:00-05:00\n"
     ]
    },
    {
     "name": "stdout",
     "output_type": "stream",
     "text": [
      "Progress |\u001b[32m\u001b[0m|   1.11%  [Elapsed: 0:12:15 ETA: 18:13:08] Portfolio Val: 100,024.85"
     ]
    },
    {
     "name": "stderr",
     "output_type": "stream",
     "text": [
      "2024-12-10 16:04:56,763: INFO: Current backtesting datetime 2010-02-26 16:30:00-05:00\n"
     ]
    },
    {
     "name": "stdout",
     "output_type": "stream",
     "text": [
      "Progress |\u001b[32m\u001b[0m|   1.11%  [Elapsed: 0:12:15 ETA: 18:13:12] "
     ]
    },
    {
     "name": "stderr",
     "output_type": "stream",
     "text": [
      "2024-12-10 16:04:56,766: INFO: Current backtesting datetime 2010-02-26 16:25:00-05:00\n"
     ]
    },
    {
     "name": "stdout",
     "output_type": "stream",
     "text": [
      "Progress |\u001b[32m\u001b[0m|   1.11%  [Elapsed: 0:12:15 ETA: 18:13:13] "
     ]
    },
    {
     "name": "stderr",
     "output_type": "stream",
     "text": [
      "2024-12-10 16:04:56,766: INFO: Current backtesting datetime 2010-02-26 16:25:00-05:00\n"
     ]
    },
    {
     "name": "stdout",
     "output_type": "stream",
     "text": [
      "Progress |\u001b[32m\u001b[0m|   1.16%  [Elapsed: 0:12:15 ETA: 17:23:29] "
     ]
    },
    {
     "name": "stderr",
     "output_type": "stream",
     "text": [
      "2024-12-10 16:04:56,772: INFO: Current backtesting datetime 2010-03-01 08:30:00-05:00\n"
     ]
    },
    {
     "name": "stdout",
     "output_type": "stream",
     "text": [
      "Progress |\u001b[32m\u001b[0m|   1.16%  [Elapsed: 0:12:15 ETA: 17:23:02] "
     ]
    },
    {
     "name": "stderr",
     "output_type": "stream",
     "text": [
      "2024-12-10 16:04:56,980: INFO: Current backtesting datetime 2010-03-01 09:30:00-05:00\n",
      "2024-12-10 16:04:56,984: INFO: [HumblChannelSingleLong] Processing trade event. Trade event received for HumblChannelSingleLong strategy: new SPY, processed by broker backtesting\n",
      "2024-12-10 16:04:56,985: INFO: [HumblChannelSingleLong] \u001b[32mNew order was created: market order of | 1 SPY sell | new\u001b[0m\n",
      "2024-12-10 16:04:56,987: INFO: [HumblChannelSingleLong] Processing a new order, payload: {'order': market order of | 1 SPY sell | new}\n",
      "2024-12-10 16:04:56,987: INFO: [HumblChannelSingleLong] Getting historical prices for SPY, 1 bars, \n",
      "2024-12-10 16:04:56,989: INFO: [HumblChannelSingleLong] Processing trade event. Trade event received for HumblChannelSingleLong strategy: fill SPY, processed by broker backtesting\n",
      "2024-12-10 16:04:56,989: INFO: [HumblChannelSingleLong] \u001b[32mOrder was filled: market order of | 1 SPY sell | @ $111.2 fill\u001b[0m\n",
      "2024-12-10 16:04:56,991: INFO: [HumblChannelSingleLong] Processing a filled order, payload: {'position': HumblChannelSingleLong Position: 118.0 shares of SPY (246 orders), 'order': market order of | 1 SPY sell | @ $111.2 fill, 'price': 111.19999694824219, 'quantity': 1.0, 'multiplier': 1}\n"
     ]
    },
    {
     "name": "stdout",
     "output_type": "stream",
     "text": [
      "Progress |\u001b[32m\u001b[0m|   1.16%  [Elapsed: 0:12:15 ETA: 17:22:19] Portfolio Val: 100,076.02"
     ]
    },
    {
     "name": "stderr",
     "output_type": "stream",
     "text": [
      "2024-12-10 16:04:56,992: INFO: Current backtesting datetime 2010-03-01 10:30:00-05:00\n",
      "2024-12-10 16:04:56,997: INFO: [HumblChannelSingleLong] Processing trade event. Trade event received for HumblChannelSingleLong strategy: new SPY, processed by broker backtesting\n",
      "2024-12-10 16:04:56,998: INFO: [HumblChannelSingleLong] \u001b[32mNew order was created: market order of | 1 SPY sell | new\u001b[0m\n",
      "2024-12-10 16:04:57,000: INFO: [HumblChannelSingleLong] Processing a new order, payload: {'order': market order of | 1 SPY sell | new}\n",
      "2024-12-10 16:04:57,001: INFO: [HumblChannelSingleLong] Getting historical prices for SPY, 1 bars, \n",
      "2024-12-10 16:04:57,003: INFO: [HumblChannelSingleLong] Processing trade event. Trade event received for HumblChannelSingleLong strategy: fill SPY, processed by broker backtesting\n",
      "2024-12-10 16:04:57,003: INFO: [HumblChannelSingleLong] \u001b[32mOrder was filled: market order of | 1 SPY sell | @ $111.2 fill\u001b[0m\n",
      "2024-12-10 16:04:57,005: INFO: [HumblChannelSingleLong] Processing a filled order, payload: {'position': HumblChannelSingleLong Position: 117.0 shares of SPY (247 orders), 'order': market order of | 1 SPY sell | @ $111.2 fill, 'price': 111.19999694824219, 'quantity': 1.0, 'multiplier': 1}\n"
     ]
    },
    {
     "name": "stdout",
     "output_type": "stream",
     "text": [
      "Progress |\u001b[32m\u001b[0m|   1.16%  [Elapsed: 0:12:15 ETA: 17:21:36] Portfolio Val: 100,076.02"
     ]
    },
    {
     "name": "stderr",
     "output_type": "stream",
     "text": [
      "2024-12-10 16:04:57,006: INFO: Current backtesting datetime 2010-03-01 11:30:00-05:00\n",
      "2024-12-10 16:04:57,011: INFO: [HumblChannelSingleLong] Processing trade event. Trade event received for HumblChannelSingleLong strategy: new SPY, processed by broker backtesting\n",
      "2024-12-10 16:04:57,011: INFO: [HumblChannelSingleLong] \u001b[32mNew order was created: market order of | 1 SPY sell | new\u001b[0m\n",
      "2024-12-10 16:04:57,014: INFO: [HumblChannelSingleLong] Processing a new order, payload: {'order': market order of | 1 SPY sell | new}\n",
      "2024-12-10 16:04:57,014: INFO: [HumblChannelSingleLong] Getting historical prices for SPY, 1 bars, \n",
      "2024-12-10 16:04:57,016: INFO: [HumblChannelSingleLong] Processing trade event. Trade event received for HumblChannelSingleLong strategy: fill SPY, processed by broker backtesting\n",
      "2024-12-10 16:04:57,016: INFO: [HumblChannelSingleLong] \u001b[32mOrder was filled: market order of | 1 SPY sell | @ $111.2 fill\u001b[0m\n",
      "2024-12-10 16:04:57,025: INFO: [HumblChannelSingleLong] Processing a filled order, payload: {'position': HumblChannelSingleLong Position: 116.0 shares of SPY (248 orders), 'order': market order of | 1 SPY sell | @ $111.2 fill, 'price': 111.19999694824219, 'quantity': 1.0, 'multiplier': 1}\n"
     ]
    },
    {
     "name": "stdout",
     "output_type": "stream",
     "text": [
      "Progress |\u001b[32m\u001b[0m|   1.16%  [Elapsed: 0:12:15 ETA: 17:20:54] Portfolio Val: 100,076.02"
     ]
    },
    {
     "name": "stderr",
     "output_type": "stream",
     "text": [
      "2024-12-10 16:04:57,053: INFO: Current backtesting datetime 2010-03-01 12:30:00-05:00\n",
      "2024-12-10 16:04:57,069: INFO: [HumblChannelSingleLong] Processing trade event. Trade event received for HumblChannelSingleLong strategy: new SPY, processed by broker backtesting\n",
      "2024-12-10 16:04:57,069: INFO: [HumblChannelSingleLong] \u001b[32mNew order was created: market order of | 1 SPY sell | new\u001b[0m\n",
      "2024-12-10 16:04:57,073: INFO: [HumblChannelSingleLong] Processing a new order, payload: {'order': market order of | 1 SPY sell | new}\n",
      "2024-12-10 16:04:57,073: INFO: [HumblChannelSingleLong] Getting historical prices for SPY, 1 bars, \n",
      "2024-12-10 16:04:57,077: INFO: [HumblChannelSingleLong] Processing trade event. Trade event received for HumblChannelSingleLong strategy: fill SPY, processed by broker backtesting\n",
      "2024-12-10 16:04:57,079: INFO: [HumblChannelSingleLong] \u001b[32mOrder was filled: market order of | 1 SPY sell | @ $111.2 fill\u001b[0m\n",
      "2024-12-10 16:04:57,085: INFO: [HumblChannelSingleLong] Processing a filled order, payload: {'position': HumblChannelSingleLong Position: 115.0 shares of SPY (249 orders), 'order': market order of | 1 SPY sell | @ $111.2 fill, 'price': 111.19999694824219, 'quantity': 1.0, 'multiplier': 1}\n"
     ]
    },
    {
     "name": "stdout",
     "output_type": "stream",
     "text": [
      "Progress |\u001b[32m\u001b[0m|   1.16%  [Elapsed: 0:12:15 ETA: 17:20:14] Portfolio Val: 100,076.02"
     ]
    },
    {
     "name": "stderr",
     "output_type": "stream",
     "text": [
      "2024-12-10 16:04:57,086: INFO: Current backtesting datetime 2010-03-01 13:30:00-05:00\n",
      "2024-12-10 16:04:57,092: INFO: [HumblChannelSingleLong] Processing trade event. Trade event received for HumblChannelSingleLong strategy: new SPY, processed by broker backtesting\n",
      "2024-12-10 16:04:57,093: INFO: [HumblChannelSingleLong] \u001b[32mNew order was created: market order of | 1 SPY sell | new\u001b[0m\n",
      "2024-12-10 16:04:57,096: INFO: [HumblChannelSingleLong] Processing a new order, payload: {'order': market order of | 1 SPY sell | new}\n",
      "2024-12-10 16:04:57,096: INFO: [HumblChannelSingleLong] Getting historical prices for SPY, 1 bars, \n",
      "2024-12-10 16:04:57,099: INFO: [HumblChannelSingleLong] Processing trade event. Trade event received for HumblChannelSingleLong strategy: fill SPY, processed by broker backtesting\n",
      "2024-12-10 16:04:57,099: INFO: [HumblChannelSingleLong] \u001b[32mOrder was filled: market order of | 1 SPY sell | @ $111.2 fill\u001b[0m\n",
      "2024-12-10 16:04:57,101: INFO: [HumblChannelSingleLong] Processing a filled order, payload: {'position': HumblChannelSingleLong Position: 114.0 shares of SPY (250 orders), 'order': market order of | 1 SPY sell | @ $111.2 fill, 'price': 111.19999694824219, 'quantity': 1.0, 'multiplier': 1}\n"
     ]
    },
    {
     "name": "stdout",
     "output_type": "stream",
     "text": [
      "Progress |\u001b[32m\u001b[0m|   1.17%  [Elapsed: 0:12:15 ETA: 17:19:31] Portfolio Val: 100,076.02"
     ]
    },
    {
     "name": "stderr",
     "output_type": "stream",
     "text": [
      "2024-12-10 16:04:57,102: INFO: Current backtesting datetime 2010-03-01 14:30:00-05:00\n",
      "2024-12-10 16:04:57,107: INFO: [HumblChannelSingleLong] Processing trade event. Trade event received for HumblChannelSingleLong strategy: new SPY, processed by broker backtesting\n",
      "2024-12-10 16:04:57,107: INFO: [HumblChannelSingleLong] \u001b[32mNew order was created: market order of | 1 SPY sell | new\u001b[0m\n",
      "2024-12-10 16:04:57,110: INFO: [HumblChannelSingleLong] Processing a new order, payload: {'order': market order of | 1 SPY sell | new}\n",
      "2024-12-10 16:04:57,111: INFO: [HumblChannelSingleLong] Getting historical prices for SPY, 1 bars, \n",
      "2024-12-10 16:04:57,113: INFO: [HumblChannelSingleLong] Processing trade event. Trade event received for HumblChannelSingleLong strategy: fill SPY, processed by broker backtesting\n",
      "2024-12-10 16:04:57,114: INFO: [HumblChannelSingleLong] \u001b[32mOrder was filled: market order of | 1 SPY sell | @ $111.2 fill\u001b[0m\n",
      "2024-12-10 16:04:57,116: INFO: [HumblChannelSingleLong] Processing a filled order, payload: {'position': HumblChannelSingleLong Position: 113.0 shares of SPY (251 orders), 'order': market order of | 1 SPY sell | @ $111.2 fill, 'price': 111.19999694824219, 'quantity': 1.0, 'multiplier': 1}\n"
     ]
    },
    {
     "name": "stdout",
     "output_type": "stream",
     "text": [
      "Progress |\u001b[32m\u001b[0m|   1.17%  [Elapsed: 0:12:15 ETA: 17:18:49] Portfolio Val: 100,076.02"
     ]
    },
    {
     "name": "stderr",
     "output_type": "stream",
     "text": [
      "2024-12-10 16:04:57,116: INFO: Current backtesting datetime 2010-03-01 15:30:00-05:00\n",
      "2024-12-10 16:04:57,121: INFO: [HumblChannelSingleLong] Processing trade event. Trade event received for HumblChannelSingleLong strategy: new SPY, processed by broker backtesting\n",
      "2024-12-10 16:04:57,122: INFO: [HumblChannelSingleLong] \u001b[32mNew order was created: market order of | 1 SPY sell | new\u001b[0m\n",
      "2024-12-10 16:04:57,125: INFO: [HumblChannelSingleLong] Processing a new order, payload: {'order': market order of | 1 SPY sell | new}\n",
      "2024-12-10 16:04:57,126: INFO: [HumblChannelSingleLong] Getting historical prices for SPY, 1 bars, \n",
      "2024-12-10 16:04:57,128: INFO: [HumblChannelSingleLong] Processing trade event. Trade event received for HumblChannelSingleLong strategy: fill SPY, processed by broker backtesting\n",
      "2024-12-10 16:04:57,128: INFO: [HumblChannelSingleLong] \u001b[32mOrder was filled: market order of | 1 SPY sell | @ $111.2 fill\u001b[0m\n",
      "2024-12-10 16:04:57,130: INFO: [HumblChannelSingleLong] Processing a filled order, payload: {'position': HumblChannelSingleLong Position: 112.0 shares of SPY (252 orders), 'order': market order of | 1 SPY sell | @ $111.2 fill, 'price': 111.19999694824219, 'quantity': 1.0, 'multiplier': 1}\n"
     ]
    },
    {
     "name": "stdout",
     "output_type": "stream",
     "text": [
      "Progress |\u001b[32m\u001b[0m|   1.17%  [Elapsed: 0:12:15 ETA: 17:18:28] Portfolio Val: 100,076.02"
     ]
    },
    {
     "name": "stderr",
     "output_type": "stream",
     "text": [
      "2024-12-10 16:04:57,130: INFO: Current backtesting datetime 2010-03-01 16:00:00-05:00\n"
     ]
    },
    {
     "name": "stdout",
     "output_type": "stream",
     "text": [
      "Progress |\u001b[32m\u001b[0m|   1.17%  [Elapsed: 0:12:15 ETA: 17:18:06] Portfolio Val: 100,076.02"
     ]
    },
    {
     "name": "stderr",
     "output_type": "stream",
     "text": [
      "2024-12-10 16:04:57,131: INFO: Current backtesting datetime 2010-03-01 16:30:00-05:00\n"
     ]
    },
    {
     "name": "stdout",
     "output_type": "stream",
     "text": [
      "Progress |\u001b[32m\u001b[0m|   1.17%  [Elapsed: 0:12:15 ETA: 17:18:10] "
     ]
    },
    {
     "name": "stderr",
     "output_type": "stream",
     "text": [
      "2024-12-10 16:04:57,132: INFO: Current backtesting datetime 2010-03-01 16:25:00-05:00\n"
     ]
    },
    {
     "name": "stdout",
     "output_type": "stream",
     "text": [
      "Progress |\u001b[32m\u001b[0m|   1.17%  [Elapsed: 0:12:15 ETA: 17:18:10] "
     ]
    },
    {
     "name": "stderr",
     "output_type": "stream",
     "text": [
      "2024-12-10 16:04:57,133: INFO: Current backtesting datetime 2010-03-01 16:25:00-05:00\n"
     ]
    },
    {
     "name": "stdout",
     "output_type": "stream",
     "text": [
      "Progress |\u001b[32m\u001b[0m|   1.18%  [Elapsed: 0:12:15 ETA: 17:06:30] "
     ]
    },
    {
     "name": "stderr",
     "output_type": "stream",
     "text": [
      "2024-12-10 16:04:57,135: INFO: Current backtesting datetime 2010-03-02 08:30:00-05:00\n"
     ]
    },
    {
     "name": "stdout",
     "output_type": "stream",
     "text": [
      "Progress |\u001b[32m\u001b[0m|   1.18%  [Elapsed: 0:12:16 ETA: 17:06:17] "
     ]
    },
    {
     "name": "stderr",
     "output_type": "stream",
     "text": [
      "2024-12-10 16:04:57,492: INFO: Current backtesting datetime 2010-03-02 09:30:00-05:00\n",
      "2024-12-10 16:04:57,499: INFO: [HumblChannelSingleLong] Processing trade event. Trade event received for HumblChannelSingleLong strategy: new SPY, processed by broker backtesting\n",
      "2024-12-10 16:04:57,499: INFO: [HumblChannelSingleLong] \u001b[32mNew order was created: market order of | 1 SPY sell | new\u001b[0m\n",
      "2024-12-10 16:04:57,502: INFO: [HumblChannelSingleLong] Processing a new order, payload: {'order': market order of | 1 SPY sell | new}\n",
      "2024-12-10 16:04:57,502: INFO: [HumblChannelSingleLong] Getting historical prices for SPY, 1 bars, \n",
      "2024-12-10 16:04:57,504: INFO: [HumblChannelSingleLong] Processing trade event. Trade event received for HumblChannelSingleLong strategy: fill SPY, processed by broker backtesting\n",
      "2024-12-10 16:04:57,505: INFO: [HumblChannelSingleLong] \u001b[32mOrder was filled: market order of | 1 SPY sell | @ $112.37 fill\u001b[0m\n",
      "2024-12-10 16:04:57,507: INFO: [HumblChannelSingleLong] Processing a filled order, payload: {'position': HumblChannelSingleLong Position: 111.0 shares of SPY (253 orders), 'order': market order of | 1 SPY sell | @ $112.37 fill, 'price': 112.37000274658203, 'quantity': 1.0, 'multiplier': 1}\n"
     ]
    },
    {
     "name": "stdout",
     "output_type": "stream",
     "text": [
      "Progress |\u001b[32m\u001b[0m|   1.18%  [Elapsed: 0:12:16 ETA: 17:05:35] Portfolio Val: 100,207.06"
     ]
    },
    {
     "name": "stderr",
     "output_type": "stream",
     "text": [
      "2024-12-10 16:04:57,509: INFO: Current backtesting datetime 2010-03-02 10:30:00-05:00\n",
      "2024-12-10 16:04:57,514: INFO: [HumblChannelSingleLong] Processing trade event. Trade event received for HumblChannelSingleLong strategy: new SPY, processed by broker backtesting\n",
      "2024-12-10 16:04:57,515: INFO: [HumblChannelSingleLong] \u001b[32mNew order was created: market order of | 1 SPY sell | new\u001b[0m\n",
      "2024-12-10 16:04:57,517: INFO: [HumblChannelSingleLong] Processing a new order, payload: {'order': market order of | 1 SPY sell | new}\n",
      "2024-12-10 16:04:57,518: INFO: [HumblChannelSingleLong] Getting historical prices for SPY, 1 bars, \n",
      "2024-12-10 16:04:57,520: INFO: [HumblChannelSingleLong] Processing trade event. Trade event received for HumblChannelSingleLong strategy: fill SPY, processed by broker backtesting\n",
      "2024-12-10 16:04:57,520: INFO: [HumblChannelSingleLong] \u001b[32mOrder was filled: market order of | 1 SPY sell | @ $112.37 fill\u001b[0m\n",
      "2024-12-10 16:04:57,522: INFO: [HumblChannelSingleLong] Processing a filled order, payload: {'position': HumblChannelSingleLong Position: 110.0 shares of SPY (254 orders), 'order': market order of | 1 SPY sell | @ $112.37 fill, 'price': 112.37000274658203, 'quantity': 1.0, 'multiplier': 1}\n"
     ]
    },
    {
     "name": "stdout",
     "output_type": "stream",
     "text": [
      "Progress |\u001b[32m\u001b[0m|   1.18%  [Elapsed: 0:12:16 ETA: 17:04:54] Portfolio Val: 100,207.06"
     ]
    },
    {
     "name": "stderr",
     "output_type": "stream",
     "text": [
      "2024-12-10 16:04:57,523: INFO: Current backtesting datetime 2010-03-02 11:30:00-05:00\n",
      "2024-12-10 16:04:57,527: INFO: [HumblChannelSingleLong] Processing trade event. Trade event received for HumblChannelSingleLong strategy: new SPY, processed by broker backtesting\n",
      "2024-12-10 16:04:57,528: INFO: [HumblChannelSingleLong] \u001b[32mNew order was created: market order of | 1 SPY sell | new\u001b[0m\n",
      "2024-12-10 16:04:57,531: INFO: [HumblChannelSingleLong] Processing a new order, payload: {'order': market order of | 1 SPY sell | new}\n",
      "2024-12-10 16:04:57,532: INFO: [HumblChannelSingleLong] Getting historical prices for SPY, 1 bars, \n",
      "2024-12-10 16:04:57,533: INFO: [HumblChannelSingleLong] Processing trade event. Trade event received for HumblChannelSingleLong strategy: fill SPY, processed by broker backtesting\n",
      "2024-12-10 16:04:57,534: INFO: [HumblChannelSingleLong] \u001b[32mOrder was filled: market order of | 1 SPY sell | @ $112.37 fill\u001b[0m\n",
      "2024-12-10 16:04:57,536: INFO: [HumblChannelSingleLong] Processing a filled order, payload: {'position': HumblChannelSingleLong Position: 109.0 shares of SPY (255 orders), 'order': market order of | 1 SPY sell | @ $112.37 fill, 'price': 112.37000274658203, 'quantity': 1.0, 'multiplier': 1}\n"
     ]
    },
    {
     "name": "stdout",
     "output_type": "stream",
     "text": [
      "Progress |\u001b[32m\u001b[0m|   1.18%  [Elapsed: 0:12:16 ETA: 17:04:12] Portfolio Val: 100,207.06"
     ]
    },
    {
     "name": "stderr",
     "output_type": "stream",
     "text": [
      "2024-12-10 16:04:57,536: INFO: Current backtesting datetime 2010-03-02 12:30:00-05:00\n",
      "2024-12-10 16:04:57,540: INFO: [HumblChannelSingleLong] Processing trade event. Trade event received for HumblChannelSingleLong strategy: new SPY, processed by broker backtesting\n",
      "2024-12-10 16:04:57,541: INFO: [HumblChannelSingleLong] \u001b[32mNew order was created: market order of | 1 SPY sell | new\u001b[0m\n",
      "2024-12-10 16:04:57,543: INFO: [HumblChannelSingleLong] Processing a new order, payload: {'order': market order of | 1 SPY sell | new}\n",
      "2024-12-10 16:04:57,544: INFO: [HumblChannelSingleLong] Getting historical prices for SPY, 1 bars, \n",
      "2024-12-10 16:04:57,546: INFO: [HumblChannelSingleLong] Processing trade event. Trade event received for HumblChannelSingleLong strategy: fill SPY, processed by broker backtesting\n",
      "2024-12-10 16:04:57,546: INFO: [HumblChannelSingleLong] \u001b[32mOrder was filled: market order of | 1 SPY sell | @ $112.37 fill\u001b[0m\n",
      "2024-12-10 16:04:57,550: INFO: [HumblChannelSingleLong] Processing a filled order, payload: {'position': HumblChannelSingleLong Position: 108.0 shares of SPY (256 orders), 'order': market order of | 1 SPY sell | @ $112.37 fill, 'price': 112.37000274658203, 'quantity': 1.0, 'multiplier': 1}\n"
     ]
    },
    {
     "name": "stdout",
     "output_type": "stream",
     "text": [
      "Progress |\u001b[32m\u001b[0m|   1.18%  [Elapsed: 0:12:16 ETA: 17:03:30] Portfolio Val: 100,207.06"
     ]
    },
    {
     "name": "stderr",
     "output_type": "stream",
     "text": [
      "2024-12-10 16:04:57,551: INFO: Current backtesting datetime 2010-03-02 13:30:00-05:00\n",
      "2024-12-10 16:04:57,555: INFO: [HumblChannelSingleLong] Processing trade event. Trade event received for HumblChannelSingleLong strategy: new SPY, processed by broker backtesting\n",
      "2024-12-10 16:04:57,555: INFO: [HumblChannelSingleLong] \u001b[32mNew order was created: market order of | 1 SPY sell | new\u001b[0m\n",
      "2024-12-10 16:04:57,558: INFO: [HumblChannelSingleLong] Processing a new order, payload: {'order': market order of | 1 SPY sell | new}\n",
      "2024-12-10 16:04:57,559: INFO: [HumblChannelSingleLong] Getting historical prices for SPY, 1 bars, \n",
      "2024-12-10 16:04:57,561: INFO: [HumblChannelSingleLong] Processing trade event. Trade event received for HumblChannelSingleLong strategy: fill SPY, processed by broker backtesting\n",
      "2024-12-10 16:04:57,562: INFO: [HumblChannelSingleLong] \u001b[32mOrder was filled: market order of | 1 SPY sell | @ $112.37 fill\u001b[0m\n",
      "2024-12-10 16:04:57,564: INFO: [HumblChannelSingleLong] Processing a filled order, payload: {'position': HumblChannelSingleLong Position: 107.0 shares of SPY (257 orders), 'order': market order of | 1 SPY sell | @ $112.37 fill, 'price': 112.37000274658203, 'quantity': 1.0, 'multiplier': 1}\n"
     ]
    },
    {
     "name": "stdout",
     "output_type": "stream",
     "text": [
      "Progress |\u001b[32m\u001b[0m|   1.19%  [Elapsed: 0:12:16 ETA: 17:02:49] Portfolio Val: 100,207.06"
     ]
    },
    {
     "name": "stderr",
     "output_type": "stream",
     "text": [
      "2024-12-10 16:04:57,564: INFO: Current backtesting datetime 2010-03-02 14:30:00-05:00\n",
      "2024-12-10 16:04:57,569: INFO: [HumblChannelSingleLong] Processing trade event. Trade event received for HumblChannelSingleLong strategy: new SPY, processed by broker backtesting\n",
      "2024-12-10 16:04:57,569: INFO: [HumblChannelSingleLong] \u001b[32mNew order was created: market order of | 1 SPY sell | new\u001b[0m\n",
      "2024-12-10 16:04:57,572: INFO: [HumblChannelSingleLong] Processing a new order, payload: {'order': market order of | 1 SPY sell | new}\n",
      "2024-12-10 16:04:57,572: INFO: [HumblChannelSingleLong] Getting historical prices for SPY, 1 bars, \n",
      "2024-12-10 16:04:57,574: INFO: [HumblChannelSingleLong] Processing trade event. Trade event received for HumblChannelSingleLong strategy: fill SPY, processed by broker backtesting\n",
      "2024-12-10 16:04:57,575: INFO: [HumblChannelSingleLong] \u001b[32mOrder was filled: market order of | 1 SPY sell | @ $112.37 fill\u001b[0m\n",
      "2024-12-10 16:04:57,577: INFO: [HumblChannelSingleLong] Processing a filled order, payload: {'position': HumblChannelSingleLong Position: 106.0 shares of SPY (258 orders), 'order': market order of | 1 SPY sell | @ $112.37 fill, 'price': 112.37000274658203, 'quantity': 1.0, 'multiplier': 1}\n"
     ]
    },
    {
     "name": "stdout",
     "output_type": "stream",
     "text": [
      "Progress |\u001b[32m\u001b[0m|   1.19%  [Elapsed: 0:12:16 ETA: 17:02:07] Portfolio Val: 100,207.06"
     ]
    },
    {
     "name": "stderr",
     "output_type": "stream",
     "text": [
      "2024-12-10 16:04:57,577: INFO: Current backtesting datetime 2010-03-02 15:30:00-05:00\n",
      "2024-12-10 16:04:57,582: INFO: [HumblChannelSingleLong] Processing trade event. Trade event received for HumblChannelSingleLong strategy: new SPY, processed by broker backtesting\n",
      "2024-12-10 16:04:57,583: INFO: [HumblChannelSingleLong] \u001b[32mNew order was created: market order of | 1 SPY sell | new\u001b[0m\n",
      "2024-12-10 16:04:57,585: INFO: [HumblChannelSingleLong] Processing a new order, payload: {'order': market order of | 1 SPY sell | new}\n",
      "2024-12-10 16:04:57,586: INFO: [HumblChannelSingleLong] Getting historical prices for SPY, 1 bars, \n",
      "2024-12-10 16:04:57,588: INFO: [HumblChannelSingleLong] Processing trade event. Trade event received for HumblChannelSingleLong strategy: fill SPY, processed by broker backtesting\n",
      "2024-12-10 16:04:57,588: INFO: [HumblChannelSingleLong] \u001b[32mOrder was filled: market order of | 1 SPY sell | @ $112.37 fill\u001b[0m\n",
      "2024-12-10 16:04:57,590: INFO: [HumblChannelSingleLong] Processing a filled order, payload: {'position': HumblChannelSingleLong Position: 105.0 shares of SPY (259 orders), 'order': market order of | 1 SPY sell | @ $112.37 fill, 'price': 112.37000274658203, 'quantity': 1.0, 'multiplier': 1}\n"
     ]
    },
    {
     "name": "stdout",
     "output_type": "stream",
     "text": [
      "Progress |\u001b[32m\u001b[0m|   1.19%  [Elapsed: 0:12:16 ETA: 17:01:47] Portfolio Val: 100,207.06"
     ]
    },
    {
     "name": "stderr",
     "output_type": "stream",
     "text": [
      "2024-12-10 16:04:57,590: INFO: Current backtesting datetime 2010-03-02 16:00:00-05:00\n"
     ]
    },
    {
     "name": "stdout",
     "output_type": "stream",
     "text": [
      "Progress |\u001b[32m\u001b[0m|   1.19%  [Elapsed: 0:12:16 ETA: 17:01:26] Portfolio Val: 100,207.06"
     ]
    },
    {
     "name": "stderr",
     "output_type": "stream",
     "text": [
      "2024-12-10 16:04:57,591: INFO: Current backtesting datetime 2010-03-02 16:30:00-05:00\n"
     ]
    },
    {
     "name": "stdout",
     "output_type": "stream",
     "text": [
      "Progress |\u001b[32m\u001b[0m|   1.19%  [Elapsed: 0:12:16 ETA: 17:01:29] "
     ]
    },
    {
     "name": "stderr",
     "output_type": "stream",
     "text": [
      "2024-12-10 16:04:57,593: INFO: Current backtesting datetime 2010-03-02 16:25:00-05:00\n"
     ]
    },
    {
     "name": "stdout",
     "output_type": "stream",
     "text": [
      "Progress |\u001b[32m\u001b[0m|   1.19%  [Elapsed: 0:12:16 ETA: 17:01:29] "
     ]
    },
    {
     "name": "stderr",
     "output_type": "stream",
     "text": [
      "2024-12-10 16:04:57,594: INFO: Current backtesting datetime 2010-03-02 16:25:00-05:00\n"
     ]
    },
    {
     "name": "stdout",
     "output_type": "stream",
     "text": [
      "Progress |\u001b[32m\u001b[0m|   1.20%  [Elapsed: 0:12:16 ETA: 16:50:12] "
     ]
    },
    {
     "name": "stderr",
     "output_type": "stream",
     "text": [
      "2024-12-10 16:04:57,596: INFO: Current backtesting datetime 2010-03-03 08:30:00-05:00\n"
     ]
    },
    {
     "name": "stdout",
     "output_type": "stream",
     "text": [
      "Progress |\u001b[32m\u001b[0m|   1.20%  [Elapsed: 0:12:16 ETA: 16:49:46] "
     ]
    },
    {
     "name": "stderr",
     "output_type": "stream",
     "text": [
      "2024-12-10 16:04:57,788: INFO: Current backtesting datetime 2010-03-03 09:30:00-05:00\n",
      "2024-12-10 16:04:57,793: INFO: [HumblChannelSingleLong] Processing trade event. Trade event received for HumblChannelSingleLong strategy: new SPY, processed by broker backtesting\n",
      "2024-12-10 16:04:57,793: INFO: [HumblChannelSingleLong] \u001b[32mNew order was created: market order of | 1 SPY sell | new\u001b[0m\n",
      "2024-12-10 16:04:57,796: INFO: [HumblChannelSingleLong] Processing a new order, payload: {'order': market order of | 1 SPY sell | new}\n",
      "2024-12-10 16:04:57,797: INFO: [HumblChannelSingleLong] Getting historical prices for SPY, 1 bars, \n",
      "2024-12-10 16:04:57,798: INFO: [HumblChannelSingleLong] Processing trade event. Trade event received for HumblChannelSingleLong strategy: fill SPY, processed by broker backtesting\n",
      "2024-12-10 16:04:57,799: INFO: [HumblChannelSingleLong] \u001b[32mOrder was filled: market order of | 1 SPY sell | @ $112.49 fill\u001b[0m\n",
      "2024-12-10 16:04:57,801: INFO: [HumblChannelSingleLong] Processing a filled order, payload: {'position': HumblChannelSingleLong Position: 104.0 shares of SPY (260 orders), 'order': market order of | 1 SPY sell | @ $112.49 fill, 'price': 112.48999786376953, 'quantity': 1.0, 'multiplier': 1}\n"
     ]
    },
    {
     "name": "stdout",
     "output_type": "stream",
     "text": [
      "Progress |\u001b[32m\u001b[0m|   1.20%  [Elapsed: 0:12:16 ETA: 16:49:06] Portfolio Val: 100,219.66"
     ]
    },
    {
     "name": "stderr",
     "output_type": "stream",
     "text": [
      "2024-12-10 16:04:57,801: INFO: Current backtesting datetime 2010-03-03 10:30:00-05:00\n",
      "2024-12-10 16:04:57,806: INFO: [HumblChannelSingleLong] Processing trade event. Trade event received for HumblChannelSingleLong strategy: new SPY, processed by broker backtesting\n",
      "2024-12-10 16:04:57,807: INFO: [HumblChannelSingleLong] \u001b[32mNew order was created: market order of | 1 SPY sell | new\u001b[0m\n",
      "2024-12-10 16:04:57,809: INFO: [HumblChannelSingleLong] Processing a new order, payload: {'order': market order of | 1 SPY sell | new}\n",
      "2024-12-10 16:04:57,810: INFO: [HumblChannelSingleLong] Getting historical prices for SPY, 1 bars, \n",
      "2024-12-10 16:04:57,813: INFO: [HumblChannelSingleLong] Processing trade event. Trade event received for HumblChannelSingleLong strategy: fill SPY, processed by broker backtesting\n",
      "2024-12-10 16:04:57,813: INFO: [HumblChannelSingleLong] \u001b[32mOrder was filled: market order of | 1 SPY sell | @ $112.49 fill\u001b[0m\n",
      "2024-12-10 16:04:57,815: INFO: [HumblChannelSingleLong] Processing a filled order, payload: {'position': HumblChannelSingleLong Position: 103.0 shares of SPY (261 orders), 'order': market order of | 1 SPY sell | @ $112.49 fill, 'price': 112.48999786376953, 'quantity': 1.0, 'multiplier': 1}\n"
     ]
    },
    {
     "name": "stdout",
     "output_type": "stream",
     "text": [
      "Progress |\u001b[32m\u001b[0m|   1.20%  [Elapsed: 0:12:16 ETA: 16:48:25] Portfolio Val: 100,219.66"
     ]
    },
    {
     "name": "stderr",
     "output_type": "stream",
     "text": [
      "2024-12-10 16:04:57,816: INFO: Current backtesting datetime 2010-03-03 11:30:00-05:00\n",
      "2024-12-10 16:04:57,820: INFO: [HumblChannelSingleLong] Processing trade event. Trade event received for HumblChannelSingleLong strategy: new SPY, processed by broker backtesting\n",
      "2024-12-10 16:04:57,820: INFO: [HumblChannelSingleLong] \u001b[32mNew order was created: market order of | 1 SPY sell | new\u001b[0m\n",
      "2024-12-10 16:04:57,823: INFO: [HumblChannelSingleLong] Processing a new order, payload: {'order': market order of | 1 SPY sell | new}\n",
      "2024-12-10 16:04:57,823: INFO: [HumblChannelSingleLong] Getting historical prices for SPY, 1 bars, \n",
      "2024-12-10 16:04:57,825: INFO: [HumblChannelSingleLong] Processing trade event. Trade event received for HumblChannelSingleLong strategy: fill SPY, processed by broker backtesting\n",
      "2024-12-10 16:04:57,825: INFO: [HumblChannelSingleLong] \u001b[32mOrder was filled: market order of | 1 SPY sell | @ $112.49 fill\u001b[0m\n",
      "2024-12-10 16:04:57,828: INFO: [HumblChannelSingleLong] Processing a filled order, payload: {'position': HumblChannelSingleLong Position: 102.0 shares of SPY (262 orders), 'order': market order of | 1 SPY sell | @ $112.49 fill, 'price': 112.48999786376953, 'quantity': 1.0, 'multiplier': 1}\n"
     ]
    },
    {
     "name": "stdout",
     "output_type": "stream",
     "text": [
      "Progress |\u001b[32m\u001b[0m|   1.20%  [Elapsed: 0:12:16 ETA: 16:47:45] Portfolio Val: 100,219.66"
     ]
    },
    {
     "name": "stderr",
     "output_type": "stream",
     "text": [
      "2024-12-10 16:04:57,829: INFO: Current backtesting datetime 2010-03-03 12:30:00-05:00\n",
      "2024-12-10 16:04:57,835: INFO: [HumblChannelSingleLong] Processing trade event. Trade event received for HumblChannelSingleLong strategy: new SPY, processed by broker backtesting\n",
      "2024-12-10 16:04:57,835: INFO: [HumblChannelSingleLong] \u001b[32mNew order was created: market order of | 1 SPY sell | new\u001b[0m\n",
      "2024-12-10 16:04:57,838: INFO: [HumblChannelSingleLong] Processing a new order, payload: {'order': market order of | 1 SPY sell | new}\n",
      "2024-12-10 16:04:57,838: INFO: [HumblChannelSingleLong] Getting historical prices for SPY, 1 bars, \n",
      "2024-12-10 16:04:57,840: INFO: [HumblChannelSingleLong] Processing trade event. Trade event received for HumblChannelSingleLong strategy: fill SPY, processed by broker backtesting\n",
      "2024-12-10 16:04:57,840: INFO: [HumblChannelSingleLong] \u001b[32mOrder was filled: market order of | 1 SPY sell | @ $112.49 fill\u001b[0m\n",
      "2024-12-10 16:04:57,842: INFO: [HumblChannelSingleLong] Processing a filled order, payload: {'position': HumblChannelSingleLong Position: 101.0 shares of SPY (263 orders), 'order': market order of | 1 SPY sell | @ $112.49 fill, 'price': 112.48999786376953, 'quantity': 1.0, 'multiplier': 1}\n"
     ]
    },
    {
     "name": "stdout",
     "output_type": "stream",
     "text": [
      "Progress |\u001b[32m\u001b[0m|   1.20%  [Elapsed: 0:12:16 ETA: 16:47:05] Portfolio Val: 100,219.66"
     ]
    },
    {
     "name": "stderr",
     "output_type": "stream",
     "text": [
      "2024-12-10 16:04:57,843: INFO: Current backtesting datetime 2010-03-03 13:30:00-05:00\n",
      "2024-12-10 16:04:57,847: INFO: [HumblChannelSingleLong] Processing trade event. Trade event received for HumblChannelSingleLong strategy: new SPY, processed by broker backtesting\n",
      "2024-12-10 16:04:57,847: INFO: [HumblChannelSingleLong] \u001b[32mNew order was created: market order of | 1 SPY sell | new\u001b[0m\n",
      "2024-12-10 16:04:57,850: INFO: [HumblChannelSingleLong] Processing a new order, payload: {'order': market order of | 1 SPY sell | new}\n",
      "2024-12-10 16:04:57,850: INFO: [HumblChannelSingleLong] Getting historical prices for SPY, 1 bars, \n",
      "2024-12-10 16:04:57,852: INFO: [HumblChannelSingleLong] Processing trade event. Trade event received for HumblChannelSingleLong strategy: fill SPY, processed by broker backtesting\n",
      "2024-12-10 16:04:57,853: INFO: [HumblChannelSingleLong] \u001b[32mOrder was filled: market order of | 1 SPY sell | @ $112.49 fill\u001b[0m\n",
      "2024-12-10 16:04:57,854: INFO: [HumblChannelSingleLong] Processing a filled order, payload: {'position': HumblChannelSingleLong Position: 100.0 shares of SPY (264 orders), 'order': market order of | 1 SPY sell | @ $112.49 fill, 'price': 112.48999786376953, 'quantity': 1.0, 'multiplier': 1}\n"
     ]
    },
    {
     "name": "stdout",
     "output_type": "stream",
     "text": [
      "Progress |\u001b[32m\u001b[0m|   1.20%  [Elapsed: 0:12:16 ETA: 16:46:24] Portfolio Val: 100,219.66"
     ]
    },
    {
     "name": "stderr",
     "output_type": "stream",
     "text": [
      "2024-12-10 16:04:57,855: INFO: Current backtesting datetime 2010-03-03 14:30:00-05:00\n",
      "2024-12-10 16:04:57,859: INFO: [HumblChannelSingleLong] Processing trade event. Trade event received for HumblChannelSingleLong strategy: new SPY, processed by broker backtesting\n",
      "2024-12-10 16:04:57,861: INFO: [HumblChannelSingleLong] \u001b[32mNew order was created: market order of | 1 SPY sell | new\u001b[0m\n",
      "2024-12-10 16:04:57,863: INFO: [HumblChannelSingleLong] Processing a new order, payload: {'order': market order of | 1 SPY sell | new}\n",
      "2024-12-10 16:04:57,864: INFO: [HumblChannelSingleLong] Getting historical prices for SPY, 1 bars, \n",
      "2024-12-10 16:04:57,866: INFO: [HumblChannelSingleLong] Processing trade event. Trade event received for HumblChannelSingleLong strategy: fill SPY, processed by broker backtesting\n",
      "2024-12-10 16:04:57,867: INFO: [HumblChannelSingleLong] \u001b[32mOrder was filled: market order of | 1 SPY sell | @ $112.49 fill\u001b[0m\n",
      "2024-12-10 16:04:57,868: INFO: [HumblChannelSingleLong] Processing a filled order, payload: {'position': HumblChannelSingleLong Position: 99.0 shares of SPY (265 orders), 'order': market order of | 1 SPY sell | @ $112.49 fill, 'price': 112.48999786376953, 'quantity': 1.0, 'multiplier': 1}\n"
     ]
    },
    {
     "name": "stdout",
     "output_type": "stream",
     "text": [
      "Progress |\u001b[32m\u001b[0m|   1.21%  [Elapsed: 0:12:16 ETA: 16:45:44] Portfolio Val: 100,219.66"
     ]
    },
    {
     "name": "stderr",
     "output_type": "stream",
     "text": [
      "2024-12-10 16:04:57,869: INFO: Current backtesting datetime 2010-03-03 15:30:00-05:00\n",
      "2024-12-10 16:04:57,873: INFO: [HumblChannelSingleLong] Processing trade event. Trade event received for HumblChannelSingleLong strategy: new SPY, processed by broker backtesting\n",
      "2024-12-10 16:04:57,873: INFO: [HumblChannelSingleLong] \u001b[32mNew order was created: market order of | 1 SPY sell | new\u001b[0m\n",
      "2024-12-10 16:04:57,876: INFO: [HumblChannelSingleLong] Processing a new order, payload: {'order': market order of | 1 SPY sell | new}\n",
      "2024-12-10 16:04:57,877: INFO: [HumblChannelSingleLong] Getting historical prices for SPY, 1 bars, \n",
      "2024-12-10 16:04:57,880: INFO: [HumblChannelSingleLong] Processing trade event. Trade event received for HumblChannelSingleLong strategy: fill SPY, processed by broker backtesting\n",
      "2024-12-10 16:04:57,880: INFO: [HumblChannelSingleLong] \u001b[32mOrder was filled: market order of | 1 SPY sell | @ $112.49 fill\u001b[0m\n",
      "2024-12-10 16:04:57,883: INFO: [HumblChannelSingleLong] Processing a filled order, payload: {'position': HumblChannelSingleLong Position: 98.0 shares of SPY (266 orders), 'order': market order of | 1 SPY sell | @ $112.49 fill, 'price': 112.48999786376953, 'quantity': 1.0, 'multiplier': 1}\n"
     ]
    },
    {
     "name": "stdout",
     "output_type": "stream",
     "text": [
      "Progress |\u001b[32m\u001b[0m|   1.21%  [Elapsed: 0:12:16 ETA: 16:45:25] Portfolio Val: 100,219.66"
     ]
    },
    {
     "name": "stderr",
     "output_type": "stream",
     "text": [
      "2024-12-10 16:04:57,883: INFO: Current backtesting datetime 2010-03-03 16:00:00-05:00\n"
     ]
    },
    {
     "name": "stdout",
     "output_type": "stream",
     "text": [
      "Progress |\u001b[32m\u001b[0m|   1.21%  [Elapsed: 0:12:16 ETA: 16:45:04] Portfolio Val: 100,219.66"
     ]
    },
    {
     "name": "stderr",
     "output_type": "stream",
     "text": [
      "2024-12-10 16:04:57,884: INFO: Current backtesting datetime 2010-03-03 16:30:00-05:00\n"
     ]
    },
    {
     "name": "stdout",
     "output_type": "stream",
     "text": [
      "Progress |\u001b[32m\u001b[0m|   1.21%  [Elapsed: 0:12:16 ETA: 16:45:08] "
     ]
    },
    {
     "name": "stderr",
     "output_type": "stream",
     "text": [
      "2024-12-10 16:04:57,885: INFO: Current backtesting datetime 2010-03-03 16:25:00-05:00\n"
     ]
    },
    {
     "name": "stdout",
     "output_type": "stream",
     "text": [
      "Progress |\u001b[32m\u001b[0m|   1.21%  [Elapsed: 0:12:16 ETA: 16:45:08] "
     ]
    },
    {
     "name": "stderr",
     "output_type": "stream",
     "text": [
      "2024-12-10 16:04:57,886: INFO: Current backtesting datetime 2010-03-03 16:25:00-05:00\n"
     ]
    },
    {
     "name": "stdout",
     "output_type": "stream",
     "text": [
      "Progress |\u001b[32m\u001b[0m|   1.22%  [Elapsed: 0:12:16 ETA: 16:34:12] "
     ]
    },
    {
     "name": "stderr",
     "output_type": "stream",
     "text": [
      "2024-12-10 16:04:57,888: INFO: Current backtesting datetime 2010-03-04 08:30:00-05:00\n"
     ]
    },
    {
     "name": "stdout",
     "output_type": "stream",
     "text": [
      "Progress |\u001b[32m\u001b[0m|   1.22%  [Elapsed: 0:12:16 ETA: 16:33:48] "
     ]
    },
    {
     "name": "stderr",
     "output_type": "stream",
     "text": [
      "2024-12-10 16:04:58,088: INFO: Current backtesting datetime 2010-03-04 09:30:00-05:00\n",
      "2024-12-10 16:04:58,092: INFO: [HumblChannelSingleLong] Processing trade event. Trade event received for HumblChannelSingleLong strategy: new SPY, processed by broker backtesting\n",
      "2024-12-10 16:04:58,092: INFO: [HumblChannelSingleLong] \u001b[32mNew order was created: market order of | 1 SPY buy | new\u001b[0m\n",
      "2024-12-10 16:04:58,095: INFO: [HumblChannelSingleLong] Processing a new order, payload: {'order': market order of | 1 SPY buy | new}\n",
      "2024-12-10 16:04:58,095: INFO: [HumblChannelSingleLong] Getting historical prices for SPY, 1 bars, \n",
      "2024-12-10 16:04:58,097: INFO: [HumblChannelSingleLong] Processing trade event. Trade event received for HumblChannelSingleLong strategy: fill SPY, processed by broker backtesting\n",
      "2024-12-10 16:04:58,097: INFO: [HumblChannelSingleLong] \u001b[32mOrder was filled: market order of | 1 SPY buy | @ $112.45 fill\u001b[0m\n",
      "2024-12-10 16:04:58,099: INFO: [HumblChannelSingleLong] Processing a filled order, payload: {'position': HumblChannelSingleLong Position: 99.0 shares of SPY (267 orders), 'order': market order of | 1 SPY buy | @ $112.45 fill, 'price': 112.44999694824219, 'quantity': 1.0, 'multiplier': 1}\n"
     ]
    },
    {
     "name": "stdout",
     "output_type": "stream",
     "text": [
      "Progress |\u001b[32m\u001b[0m|   1.22%  [Elapsed: 0:12:16 ETA: 16:33:08] Portfolio Val: 100,215.74"
     ]
    },
    {
     "name": "stderr",
     "output_type": "stream",
     "text": [
      "2024-12-10 16:04:58,100: INFO: Current backtesting datetime 2010-03-04 10:30:00-05:00\n",
      "2024-12-10 16:04:58,105: INFO: [HumblChannelSingleLong] Processing trade event. Trade event received for HumblChannelSingleLong strategy: new SPY, processed by broker backtesting\n",
      "2024-12-10 16:04:58,105: INFO: [HumblChannelSingleLong] \u001b[32mNew order was created: market order of | 1 SPY buy | new\u001b[0m\n",
      "2024-12-10 16:04:58,108: INFO: [HumblChannelSingleLong] Processing a new order, payload: {'order': market order of | 1 SPY buy | new}\n",
      "2024-12-10 16:04:58,108: INFO: [HumblChannelSingleLong] Getting historical prices for SPY, 1 bars, \n",
      "2024-12-10 16:04:58,110: INFO: [HumblChannelSingleLong] Processing trade event. Trade event received for HumblChannelSingleLong strategy: fill SPY, processed by broker backtesting\n",
      "2024-12-10 16:04:58,110: INFO: [HumblChannelSingleLong] \u001b[32mOrder was filled: market order of | 1 SPY buy | @ $112.45 fill\u001b[0m\n",
      "2024-12-10 16:04:58,112: INFO: [HumblChannelSingleLong] Processing a filled order, payload: {'position': HumblChannelSingleLong Position: 100.0 shares of SPY (268 orders), 'order': market order of | 1 SPY buy | @ $112.45 fill, 'price': 112.44999694824219, 'quantity': 1.0, 'multiplier': 1}\n"
     ]
    },
    {
     "name": "stdout",
     "output_type": "stream",
     "text": [
      "Progress |\u001b[32m\u001b[0m|   1.22%  [Elapsed: 0:12:16 ETA: 16:32:29] Portfolio Val: 100,215.74"
     ]
    },
    {
     "name": "stderr",
     "output_type": "stream",
     "text": [
      "2024-12-10 16:04:58,113: INFO: Current backtesting datetime 2010-03-04 11:30:00-05:00\n",
      "2024-12-10 16:04:58,117: INFO: [HumblChannelSingleLong] Processing trade event. Trade event received for HumblChannelSingleLong strategy: new SPY, processed by broker backtesting\n",
      "2024-12-10 16:04:58,118: INFO: [HumblChannelSingleLong] \u001b[32mNew order was created: market order of | 1 SPY buy | new\u001b[0m\n",
      "2024-12-10 16:04:58,120: INFO: [HumblChannelSingleLong] Processing a new order, payload: {'order': market order of | 1 SPY buy | new}\n",
      "2024-12-10 16:04:58,121: INFO: [HumblChannelSingleLong] Getting historical prices for SPY, 1 bars, \n",
      "2024-12-10 16:04:58,122: INFO: [HumblChannelSingleLong] Processing trade event. Trade event received for HumblChannelSingleLong strategy: fill SPY, processed by broker backtesting\n",
      "2024-12-10 16:04:58,123: INFO: [HumblChannelSingleLong] \u001b[32mOrder was filled: market order of | 1 SPY buy | @ $112.45 fill\u001b[0m\n",
      "2024-12-10 16:04:58,125: INFO: [HumblChannelSingleLong] Processing a filled order, payload: {'position': HumblChannelSingleLong Position: 101.0 shares of SPY (269 orders), 'order': market order of | 1 SPY buy | @ $112.45 fill, 'price': 112.44999694824219, 'quantity': 1.0, 'multiplier': 1}\n"
     ]
    },
    {
     "name": "stdout",
     "output_type": "stream",
     "text": [
      "Progress |\u001b[32m\u001b[0m|   1.22%  [Elapsed: 0:12:16 ETA: 16:31:50] Portfolio Val: 100,215.74"
     ]
    },
    {
     "name": "stderr",
     "output_type": "stream",
     "text": [
      "2024-12-10 16:04:58,125: INFO: Current backtesting datetime 2010-03-04 12:30:00-05:00\n",
      "2024-12-10 16:04:58,130: INFO: [HumblChannelSingleLong] Processing trade event. Trade event received for HumblChannelSingleLong strategy: new SPY, processed by broker backtesting\n",
      "2024-12-10 16:04:58,130: INFO: [HumblChannelSingleLong] \u001b[32mNew order was created: market order of | 1 SPY buy | new\u001b[0m\n",
      "2024-12-10 16:04:58,133: INFO: [HumblChannelSingleLong] Processing a new order, payload: {'order': market order of | 1 SPY buy | new}\n",
      "2024-12-10 16:04:58,133: INFO: [HumblChannelSingleLong] Getting historical prices for SPY, 1 bars, \n",
      "2024-12-10 16:04:58,135: INFO: [HumblChannelSingleLong] Processing trade event. Trade event received for HumblChannelSingleLong strategy: fill SPY, processed by broker backtesting\n",
      "2024-12-10 16:04:58,136: INFO: [HumblChannelSingleLong] \u001b[32mOrder was filled: market order of | 1 SPY buy | @ $112.45 fill\u001b[0m\n",
      "2024-12-10 16:04:58,138: INFO: [HumblChannelSingleLong] Processing a filled order, payload: {'position': HumblChannelSingleLong Position: 102.0 shares of SPY (270 orders), 'order': market order of | 1 SPY buy | @ $112.45 fill, 'price': 112.44999694824219, 'quantity': 1.0, 'multiplier': 1}\n"
     ]
    },
    {
     "name": "stdout",
     "output_type": "stream",
     "text": [
      "Progress |\u001b[32m\u001b[0m|   1.22%  [Elapsed: 0:12:16 ETA: 16:31:11] Portfolio Val: 100,215.74"
     ]
    },
    {
     "name": "stderr",
     "output_type": "stream",
     "text": [
      "2024-12-10 16:04:58,138: INFO: Current backtesting datetime 2010-03-04 13:30:00-05:00\n",
      "2024-12-10 16:04:58,142: INFO: [HumblChannelSingleLong] Processing trade event. Trade event received for HumblChannelSingleLong strategy: new SPY, processed by broker backtesting\n",
      "2024-12-10 16:04:58,143: INFO: [HumblChannelSingleLong] \u001b[32mNew order was created: market order of | 1 SPY buy | new\u001b[0m\n",
      "2024-12-10 16:04:58,145: INFO: [HumblChannelSingleLong] Processing a new order, payload: {'order': market order of | 1 SPY buy | new}\n",
      "2024-12-10 16:04:58,146: INFO: [HumblChannelSingleLong] Getting historical prices for SPY, 1 bars, \n",
      "2024-12-10 16:04:58,147: INFO: [HumblChannelSingleLong] Processing trade event. Trade event received for HumblChannelSingleLong strategy: fill SPY, processed by broker backtesting\n",
      "2024-12-10 16:04:58,148: INFO: [HumblChannelSingleLong] \u001b[32mOrder was filled: market order of | 1 SPY buy | @ $112.45 fill\u001b[0m\n",
      "2024-12-10 16:04:58,150: INFO: [HumblChannelSingleLong] Processing a filled order, payload: {'position': HumblChannelSingleLong Position: 103.0 shares of SPY (271 orders), 'order': market order of | 1 SPY buy | @ $112.45 fill, 'price': 112.44999694824219, 'quantity': 1.0, 'multiplier': 1}\n"
     ]
    },
    {
     "name": "stdout",
     "output_type": "stream",
     "text": [
      "Progress |\u001b[32m\u001b[0m|   1.22%  [Elapsed: 0:12:16 ETA: 16:30:32] Portfolio Val: 100,215.74"
     ]
    },
    {
     "name": "stderr",
     "output_type": "stream",
     "text": [
      "2024-12-10 16:04:58,151: INFO: Current backtesting datetime 2010-03-04 14:30:00-05:00\n",
      "2024-12-10 16:04:58,155: INFO: [HumblChannelSingleLong] Processing trade event. Trade event received for HumblChannelSingleLong strategy: new SPY, processed by broker backtesting\n",
      "2024-12-10 16:04:58,156: INFO: [HumblChannelSingleLong] \u001b[32mNew order was created: market order of | 1 SPY buy | new\u001b[0m\n",
      "2024-12-10 16:04:58,158: INFO: [HumblChannelSingleLong] Processing a new order, payload: {'order': market order of | 1 SPY buy | new}\n",
      "2024-12-10 16:04:58,158: INFO: [HumblChannelSingleLong] Getting historical prices for SPY, 1 bars, \n",
      "2024-12-10 16:04:58,161: INFO: [HumblChannelSingleLong] Processing trade event. Trade event received for HumblChannelSingleLong strategy: fill SPY, processed by broker backtesting\n",
      "2024-12-10 16:04:58,161: INFO: [HumblChannelSingleLong] \u001b[32mOrder was filled: market order of | 1 SPY buy | @ $112.45 fill\u001b[0m\n",
      "2024-12-10 16:04:58,164: INFO: [HumblChannelSingleLong] Processing a filled order, payload: {'position': HumblChannelSingleLong Position: 104.0 shares of SPY (272 orders), 'order': market order of | 1 SPY buy | @ $112.45 fill, 'price': 112.44999694824219, 'quantity': 1.0, 'multiplier': 1}\n"
     ]
    },
    {
     "name": "stdout",
     "output_type": "stream",
     "text": [
      "Progress |\u001b[32m\u001b[0m|   1.23%  [Elapsed: 0:12:16 ETA: 16:29:53] Portfolio Val: 100,215.74"
     ]
    },
    {
     "name": "stderr",
     "output_type": "stream",
     "text": [
      "2024-12-10 16:04:58,165: INFO: Current backtesting datetime 2010-03-04 15:30:00-05:00\n",
      "2024-12-10 16:04:58,169: INFO: [HumblChannelSingleLong] Processing trade event. Trade event received for HumblChannelSingleLong strategy: new SPY, processed by broker backtesting\n",
      "2024-12-10 16:04:58,169: INFO: [HumblChannelSingleLong] \u001b[32mNew order was created: market order of | 1 SPY buy | new\u001b[0m\n",
      "2024-12-10 16:04:58,172: INFO: [HumblChannelSingleLong] Processing a new order, payload: {'order': market order of | 1 SPY buy | new}\n",
      "2024-12-10 16:04:58,172: INFO: [HumblChannelSingleLong] Getting historical prices for SPY, 1 bars, \n",
      "2024-12-10 16:04:58,174: INFO: [HumblChannelSingleLong] Processing trade event. Trade event received for HumblChannelSingleLong strategy: fill SPY, processed by broker backtesting\n",
      "2024-12-10 16:04:58,174: INFO: [HumblChannelSingleLong] \u001b[32mOrder was filled: market order of | 1 SPY buy | @ $112.45 fill\u001b[0m\n",
      "2024-12-10 16:04:58,177: INFO: [HumblChannelSingleLong] Processing a filled order, payload: {'position': HumblChannelSingleLong Position: 105.0 shares of SPY (273 orders), 'order': market order of | 1 SPY buy | @ $112.45 fill, 'price': 112.44999694824219, 'quantity': 1.0, 'multiplier': 1}\n"
     ]
    },
    {
     "name": "stdout",
     "output_type": "stream",
     "text": [
      "Progress |\u001b[32m\u001b[0m|   1.23%  [Elapsed: 0:12:16 ETA: 16:29:34] Portfolio Val: 100,215.74"
     ]
    },
    {
     "name": "stderr",
     "output_type": "stream",
     "text": [
      "2024-12-10 16:04:58,177: INFO: Current backtesting datetime 2010-03-04 16:00:00-05:00\n"
     ]
    },
    {
     "name": "stdout",
     "output_type": "stream",
     "text": [
      "Progress |\u001b[32m\u001b[0m|   1.23%  [Elapsed: 0:12:16 ETA: 16:29:14] Portfolio Val: 100,215.74"
     ]
    },
    {
     "name": "stderr",
     "output_type": "stream",
     "text": [
      "2024-12-10 16:04:58,178: INFO: Current backtesting datetime 2010-03-04 16:30:00-05:00\n"
     ]
    },
    {
     "name": "stdout",
     "output_type": "stream",
     "text": [
      "Progress |\u001b[32m\u001b[0m|   1.23%  [Elapsed: 0:12:16 ETA: 16:29:18] "
     ]
    },
    {
     "name": "stderr",
     "output_type": "stream",
     "text": [
      "2024-12-10 16:04:58,180: INFO: Current backtesting datetime 2010-03-04 16:25:00-05:00\n"
     ]
    },
    {
     "name": "stdout",
     "output_type": "stream",
     "text": [
      "Progress |\u001b[32m\u001b[0m|   1.23%  [Elapsed: 0:12:16 ETA: 16:29:18] "
     ]
    },
    {
     "name": "stderr",
     "output_type": "stream",
     "text": [
      "2024-12-10 16:04:58,180: INFO: Current backtesting datetime 2010-03-04 16:25:00-05:00\n"
     ]
    },
    {
     "name": "stdout",
     "output_type": "stream",
     "text": [
      "Progress |\u001b[32m\u001b[0m|   1.24%  [Elapsed: 0:12:16 ETA: 16:18:42] "
     ]
    },
    {
     "name": "stderr",
     "output_type": "stream",
     "text": [
      "2024-12-10 16:04:58,183: INFO: Current backtesting datetime 2010-03-05 08:30:00-05:00\n"
     ]
    },
    {
     "name": "stdout",
     "output_type": "stream",
     "text": [
      "Progress |\u001b[32m\u001b[0m|   1.24%  [Elapsed: 0:12:17 ETA: 16:18:30] "
     ]
    },
    {
     "name": "stderr",
     "output_type": "stream",
     "text": [
      "2024-12-10 16:04:58,516: INFO: Current backtesting datetime 2010-03-05 09:30:00-05:00\n",
      "2024-12-10 16:04:58,521: INFO: [HumblChannelSingleLong] Processing trade event. Trade event received for HumblChannelSingleLong strategy: new SPY, processed by broker backtesting\n",
      "2024-12-10 16:04:58,521: INFO: [HumblChannelSingleLong] \u001b[32mNew order was created: market order of | 1 SPY buy | new\u001b[0m\n",
      "2024-12-10 16:04:58,523: INFO: [HumblChannelSingleLong] Processing a new order, payload: {'order': market order of | 1 SPY buy | new}\n",
      "2024-12-10 16:04:58,524: INFO: [HumblChannelSingleLong] Getting historical prices for SPY, 1 bars, \n",
      "2024-12-10 16:04:58,526: INFO: [HumblChannelSingleLong] Processing trade event. Trade event received for HumblChannelSingleLong strategy: fill SPY, processed by broker backtesting\n",
      "2024-12-10 16:04:58,526: INFO: [HumblChannelSingleLong] \u001b[32mOrder was filled: market order of | 1 SPY buy | @ $113.37 fill\u001b[0m\n",
      "2024-12-10 16:04:58,528: INFO: [HumblChannelSingleLong] Processing a filled order, payload: {'position': HumblChannelSingleLong Position: 106.0 shares of SPY (274 orders), 'order': market order of | 1 SPY buy | @ $113.37 fill, 'price': 113.37000274658203, 'quantity': 1.0, 'multiplier': 1}\n"
     ]
    },
    {
     "name": "stdout",
     "output_type": "stream",
     "text": [
      "Progress |\u001b[32m\u001b[0m|   1.24%  [Elapsed: 0:12:17 ETA: 16:17:52] Portfolio Val: 100,312.34"
     ]
    },
    {
     "name": "stderr",
     "output_type": "stream",
     "text": [
      "2024-12-10 16:04:58,529: INFO: Current backtesting datetime 2010-03-05 10:30:00-05:00\n",
      "2024-12-10 16:04:58,533: INFO: [HumblChannelSingleLong] Processing trade event. Trade event received for HumblChannelSingleLong strategy: new SPY, processed by broker backtesting\n",
      "2024-12-10 16:04:58,534: INFO: [HumblChannelSingleLong] \u001b[32mNew order was created: market order of | 1 SPY buy | new\u001b[0m\n",
      "2024-12-10 16:04:58,537: INFO: [HumblChannelSingleLong] Processing a new order, payload: {'order': market order of | 1 SPY buy | new}\n",
      "2024-12-10 16:04:58,544: INFO: [HumblChannelSingleLong] Getting historical prices for SPY, 1 bars, \n",
      "2024-12-10 16:04:58,552: INFO: [HumblChannelSingleLong] Processing trade event. Trade event received for HumblChannelSingleLong strategy: fill SPY, processed by broker backtesting\n",
      "2024-12-10 16:04:58,554: INFO: [HumblChannelSingleLong] \u001b[32mOrder was filled: market order of | 1 SPY buy | @ $113.37 fill\u001b[0m\n",
      "2024-12-10 16:04:58,563: INFO: [HumblChannelSingleLong] Processing a filled order, payload: {'position': HumblChannelSingleLong Position: 107.0 shares of SPY (275 orders), 'order': market order of | 1 SPY buy | @ $113.37 fill, 'price': 113.37000274658203, 'quantity': 1.0, 'multiplier': 1}\n"
     ]
    },
    {
     "name": "stdout",
     "output_type": "stream",
     "text": [
      "Progress |\u001b[32m\u001b[0m|   1.24%  [Elapsed: 0:12:17 ETA: 16:17:16] Portfolio Val: 100,312.34"
     ]
    },
    {
     "name": "stderr",
     "output_type": "stream",
     "text": [
      "2024-12-10 16:04:58,566: INFO: Current backtesting datetime 2010-03-05 11:30:00-05:00\n",
      "2024-12-10 16:04:58,581: INFO: [HumblChannelSingleLong] Processing trade event. Trade event received for HumblChannelSingleLong strategy: new SPY, processed by broker backtesting\n",
      "2024-12-10 16:04:58,583: INFO: [HumblChannelSingleLong] \u001b[32mNew order was created: market order of | 1 SPY buy | new\u001b[0m\n",
      "2024-12-10 16:04:58,588: INFO: [HumblChannelSingleLong] Processing a new order, payload: {'order': market order of | 1 SPY buy | new}\n",
      "2024-12-10 16:04:58,588: INFO: [HumblChannelSingleLong] Getting historical prices for SPY, 1 bars, \n",
      "2024-12-10 16:04:58,590: INFO: [HumblChannelSingleLong] Processing trade event. Trade event received for HumblChannelSingleLong strategy: fill SPY, processed by broker backtesting\n",
      "2024-12-10 16:04:58,591: INFO: [HumblChannelSingleLong] \u001b[32mOrder was filled: market order of | 1 SPY buy | @ $113.37 fill\u001b[0m\n",
      "2024-12-10 16:04:58,595: INFO: [HumblChannelSingleLong] Processing a filled order, payload: {'position': HumblChannelSingleLong Position: 108.0 shares of SPY (276 orders), 'order': market order of | 1 SPY buy | @ $113.37 fill, 'price': 113.37000274658203, 'quantity': 1.0, 'multiplier': 1}\n"
     ]
    },
    {
     "name": "stdout",
     "output_type": "stream",
     "text": [
      "Progress |\u001b[32m\u001b[0m|   1.24%  [Elapsed: 0:12:17 ETA: 16:16:39] Portfolio Val: 100,312.34"
     ]
    },
    {
     "name": "stderr",
     "output_type": "stream",
     "text": [
      "2024-12-10 16:04:58,596: INFO: Current backtesting datetime 2010-03-05 12:30:00-05:00\n",
      "2024-12-10 16:04:58,606: INFO: [HumblChannelSingleLong] Processing trade event. Trade event received for HumblChannelSingleLong strategy: new SPY, processed by broker backtesting\n",
      "2024-12-10 16:04:58,607: INFO: [HumblChannelSingleLong] \u001b[32mNew order was created: market order of | 1 SPY buy | new\u001b[0m\n",
      "2024-12-10 16:04:58,609: INFO: [HumblChannelSingleLong] Processing a new order, payload: {'order': market order of | 1 SPY buy | new}\n",
      "2024-12-10 16:04:58,610: INFO: [HumblChannelSingleLong] Getting historical prices for SPY, 1 bars, \n",
      "2024-12-10 16:04:58,612: INFO: [HumblChannelSingleLong] Processing trade event. Trade event received for HumblChannelSingleLong strategy: fill SPY, processed by broker backtesting\n",
      "2024-12-10 16:04:58,612: INFO: [HumblChannelSingleLong] \u001b[32mOrder was filled: market order of | 1 SPY buy | @ $113.37 fill\u001b[0m\n",
      "2024-12-10 16:04:58,614: INFO: [HumblChannelSingleLong] Processing a filled order, payload: {'position': HumblChannelSingleLong Position: 109.0 shares of SPY (277 orders), 'order': market order of | 1 SPY buy | @ $113.37 fill, 'price': 113.37000274658203, 'quantity': 1.0, 'multiplier': 1}\n"
     ]
    },
    {
     "name": "stdout",
     "output_type": "stream",
     "text": [
      "Progress |\u001b[32m\u001b[0m|   1.24%  [Elapsed: 0:12:17 ETA: 16:16:02] Portfolio Val: 100,312.34"
     ]
    },
    {
     "name": "stderr",
     "output_type": "stream",
     "text": [
      "2024-12-10 16:04:58,615: INFO: Current backtesting datetime 2010-03-05 13:30:00-05:00\n",
      "2024-12-10 16:04:58,619: INFO: [HumblChannelSingleLong] Processing trade event. Trade event received for HumblChannelSingleLong strategy: new SPY, processed by broker backtesting\n",
      "2024-12-10 16:04:58,619: INFO: [HumblChannelSingleLong] \u001b[32mNew order was created: market order of | 1 SPY buy | new\u001b[0m\n",
      "2024-12-10 16:04:58,622: INFO: [HumblChannelSingleLong] Processing a new order, payload: {'order': market order of | 1 SPY buy | new}\n",
      "2024-12-10 16:04:58,622: INFO: [HumblChannelSingleLong] Getting historical prices for SPY, 1 bars, \n",
      "2024-12-10 16:04:58,624: INFO: [HumblChannelSingleLong] Processing trade event. Trade event received for HumblChannelSingleLong strategy: fill SPY, processed by broker backtesting\n",
      "2024-12-10 16:04:58,624: INFO: [HumblChannelSingleLong] \u001b[32mOrder was filled: market order of | 1 SPY buy | @ $113.37 fill\u001b[0m\n",
      "2024-12-10 16:04:58,626: INFO: [HumblChannelSingleLong] Processing a filled order, payload: {'position': HumblChannelSingleLong Position: 110.0 shares of SPY (278 orders), 'order': market order of | 1 SPY buy | @ $113.37 fill, 'price': 113.37000274658203, 'quantity': 1.0, 'multiplier': 1}\n"
     ]
    },
    {
     "name": "stdout",
     "output_type": "stream",
     "text": [
      "Progress |\u001b[32m\u001b[0m|   1.24%  [Elapsed: 0:12:17 ETA: 16:15:24] Portfolio Val: 100,312.34"
     ]
    },
    {
     "name": "stderr",
     "output_type": "stream",
     "text": [
      "2024-12-10 16:04:58,627: INFO: Current backtesting datetime 2010-03-05 14:30:00-05:00\n",
      "2024-12-10 16:04:58,631: INFO: [HumblChannelSingleLong] Processing trade event. Trade event received for HumblChannelSingleLong strategy: new SPY, processed by broker backtesting\n",
      "2024-12-10 16:04:58,631: INFO: [HumblChannelSingleLong] \u001b[32mNew order was created: market order of | 1 SPY buy | new\u001b[0m\n",
      "2024-12-10 16:04:58,633: INFO: [HumblChannelSingleLong] Processing a new order, payload: {'order': market order of | 1 SPY buy | new}\n",
      "2024-12-10 16:04:58,634: INFO: [HumblChannelSingleLong] Getting historical prices for SPY, 1 bars, \n",
      "2024-12-10 16:04:58,636: INFO: [HumblChannelSingleLong] Processing trade event. Trade event received for HumblChannelSingleLong strategy: fill SPY, processed by broker backtesting\n",
      "2024-12-10 16:04:58,636: INFO: [HumblChannelSingleLong] \u001b[32mOrder was filled: market order of | 1 SPY buy | @ $113.37 fill\u001b[0m\n",
      "2024-12-10 16:04:58,639: INFO: [HumblChannelSingleLong] Processing a filled order, payload: {'position': HumblChannelSingleLong Position: 111.0 shares of SPY (279 orders), 'order': market order of | 1 SPY buy | @ $113.37 fill, 'price': 113.37000274658203, 'quantity': 1.0, 'multiplier': 1}\n"
     ]
    },
    {
     "name": "stdout",
     "output_type": "stream",
     "text": [
      "Progress |\u001b[32m\u001b[0m|   1.24%  [Elapsed: 0:12:17 ETA: 16:14:46] Portfolio Val: 100,312.34"
     ]
    },
    {
     "name": "stderr",
     "output_type": "stream",
     "text": [
      "2024-12-10 16:04:58,639: INFO: Current backtesting datetime 2010-03-05 15:30:00-05:00\n",
      "2024-12-10 16:04:58,644: INFO: [HumblChannelSingleLong] Processing trade event. Trade event received for HumblChannelSingleLong strategy: new SPY, processed by broker backtesting\n",
      "2024-12-10 16:04:58,644: INFO: [HumblChannelSingleLong] \u001b[32mNew order was created: market order of | 1 SPY buy | new\u001b[0m\n",
      "2024-12-10 16:04:58,646: INFO: [HumblChannelSingleLong] Processing a new order, payload: {'order': market order of | 1 SPY buy | new}\n",
      "2024-12-10 16:04:58,647: INFO: [HumblChannelSingleLong] Getting historical prices for SPY, 1 bars, \n",
      "2024-12-10 16:04:58,649: INFO: [HumblChannelSingleLong] Processing trade event. Trade event received for HumblChannelSingleLong strategy: fill SPY, processed by broker backtesting\n",
      "2024-12-10 16:04:58,649: INFO: [HumblChannelSingleLong] \u001b[32mOrder was filled: market order of | 1 SPY buy | @ $113.37 fill\u001b[0m\n",
      "2024-12-10 16:04:58,651: INFO: [HumblChannelSingleLong] Processing a filled order, payload: {'position': HumblChannelSingleLong Position: 112.0 shares of SPY (280 orders), 'order': market order of | 1 SPY buy | @ $113.37 fill, 'price': 113.37000274658203, 'quantity': 1.0, 'multiplier': 1}\n"
     ]
    },
    {
     "name": "stdout",
     "output_type": "stream",
     "text": [
      "Progress |\u001b[32m\u001b[0m|   1.25%  [Elapsed: 0:12:17 ETA: 16:14:27] Portfolio Val: 100,312.34"
     ]
    },
    {
     "name": "stderr",
     "output_type": "stream",
     "text": [
      "2024-12-10 16:04:58,651: INFO: Current backtesting datetime 2010-03-05 16:00:00-05:00\n"
     ]
    },
    {
     "name": "stdout",
     "output_type": "stream",
     "text": [
      "Progress |\u001b[32m\u001b[0m|   1.25%  [Elapsed: 0:12:17 ETA: 16:14:08] Portfolio Val: 100,312.34"
     ]
    },
    {
     "name": "stderr",
     "output_type": "stream",
     "text": [
      "2024-12-10 16:04:58,652: INFO: Current backtesting datetime 2010-03-05 16:30:00-05:00\n"
     ]
    },
    {
     "name": "stdout",
     "output_type": "stream",
     "text": [
      "Progress |\u001b[32m\u001b[0m|   1.25%  [Elapsed: 0:12:17 ETA: 16:14:11] "
     ]
    },
    {
     "name": "stderr",
     "output_type": "stream",
     "text": [
      "2024-12-10 16:04:58,653: INFO: Current backtesting datetime 2010-03-05 16:25:00-05:00\n"
     ]
    },
    {
     "name": "stdout",
     "output_type": "stream",
     "text": [
      "Progress |\u001b[32m\u001b[0m|   1.25%  [Elapsed: 0:12:17 ETA: 16:14:12] "
     ]
    },
    {
     "name": "stderr",
     "output_type": "stream",
     "text": [
      "2024-12-10 16:04:58,654: INFO: Current backtesting datetime 2010-03-05 16:25:00-05:00\n"
     ]
    },
    {
     "name": "stdout",
     "output_type": "stream",
     "text": [
      "Progress |\u001b[32m\u001b[0m|   1.30%  [Elapsed: 0:12:17 ETA: 15:34:30] "
     ]
    },
    {
     "name": "stderr",
     "output_type": "stream",
     "text": [
      "2024-12-10 16:04:58,656: INFO: Current backtesting datetime 2010-03-08 08:30:00-05:00\n"
     ]
    },
    {
     "name": "stdout",
     "output_type": "stream",
     "text": [
      "Progress |\u001b[32m\u001b[0m|   1.30%  [Elapsed: 0:12:17 ETA: 15:34:09] "
     ]
    },
    {
     "name": "stderr",
     "output_type": "stream",
     "text": [
      "2024-12-10 16:04:58,856: INFO: Current backtesting datetime 2010-03-08 09:30:00-05:00\n",
      "2024-12-10 16:04:58,860: INFO: [HumblChannelSingleLong] Processing trade event. Trade event received for HumblChannelSingleLong strategy: new SPY, processed by broker backtesting\n",
      "2024-12-10 16:04:58,860: INFO: [HumblChannelSingleLong] \u001b[32mNew order was created: market order of | 1 SPY buy | new\u001b[0m\n",
      "2024-12-10 16:04:58,863: INFO: [HumblChannelSingleLong] Processing a new order, payload: {'order': market order of | 1 SPY buy | new}\n",
      "2024-12-10 16:04:58,863: INFO: [HumblChannelSingleLong] Getting historical prices for SPY, 1 bars, \n",
      "2024-12-10 16:04:58,865: INFO: [HumblChannelSingleLong] Processing trade event. Trade event received for HumblChannelSingleLong strategy: fill SPY, processed by broker backtesting\n",
      "2024-12-10 16:04:58,865: INFO: [HumblChannelSingleLong] \u001b[32mOrder was filled: market order of | 1 SPY buy | @ $114.26 fill\u001b[0m\n",
      "2024-12-10 16:04:58,867: INFO: [HumblChannelSingleLong] Processing a filled order, payload: {'position': HumblChannelSingleLong Position: 113.0 shares of SPY (281 orders), 'order': market order of | 1 SPY buy | @ $114.26 fill, 'price': 114.26000213623047, 'quantity': 1.0, 'multiplier': 1}\n"
     ]
    },
    {
     "name": "stdout",
     "output_type": "stream",
     "text": [
      "Progress |\u001b[32m\u001b[0m|   1.30%  [Elapsed: 0:12:17 ETA: 15:33:35] Portfolio Val: 100,412.02"
     ]
    },
    {
     "name": "stderr",
     "output_type": "stream",
     "text": [
      "2024-12-10 16:04:58,868: INFO: Current backtesting datetime 2010-03-08 10:30:00-05:00\n",
      "2024-12-10 16:04:58,872: INFO: [HumblChannelSingleLong] Processing trade event. Trade event received for HumblChannelSingleLong strategy: new SPY, processed by broker backtesting\n",
      "2024-12-10 16:04:58,873: INFO: [HumblChannelSingleLong] \u001b[32mNew order was created: market order of | 1 SPY buy | new\u001b[0m\n",
      "2024-12-10 16:04:58,875: INFO: [HumblChannelSingleLong] Processing a new order, payload: {'order': market order of | 1 SPY buy | new}\n",
      "2024-12-10 16:04:58,876: INFO: [HumblChannelSingleLong] Getting historical prices for SPY, 1 bars, \n",
      "2024-12-10 16:04:58,877: INFO: [HumblChannelSingleLong] Processing trade event. Trade event received for HumblChannelSingleLong strategy: fill SPY, processed by broker backtesting\n",
      "2024-12-10 16:04:58,878: INFO: [HumblChannelSingleLong] \u001b[32mOrder was filled: market order of | 1 SPY buy | @ $114.26 fill\u001b[0m\n",
      "2024-12-10 16:04:58,880: INFO: [HumblChannelSingleLong] Processing a filled order, payload: {'position': HumblChannelSingleLong Position: 114.0 shares of SPY (282 orders), 'order': market order of | 1 SPY buy | @ $114.26 fill, 'price': 114.26000213623047, 'quantity': 1.0, 'multiplier': 1}\n"
     ]
    },
    {
     "name": "stdout",
     "output_type": "stream",
     "text": [
      "Progress |\u001b[32m\u001b[0m|   1.30%  [Elapsed: 0:12:17 ETA: 15:33:00] Portfolio Val: 100,412.02"
     ]
    },
    {
     "name": "stderr",
     "output_type": "stream",
     "text": [
      "2024-12-10 16:04:58,880: INFO: Current backtesting datetime 2010-03-08 11:30:00-05:00\n",
      "2024-12-10 16:04:58,884: INFO: [HumblChannelSingleLong] Processing trade event. Trade event received for HumblChannelSingleLong strategy: new SPY, processed by broker backtesting\n",
      "2024-12-10 16:04:58,885: INFO: [HumblChannelSingleLong] \u001b[32mNew order was created: market order of | 1 SPY buy | new\u001b[0m\n",
      "2024-12-10 16:04:58,887: INFO: [HumblChannelSingleLong] Processing a new order, payload: {'order': market order of | 1 SPY buy | new}\n",
      "2024-12-10 16:04:58,887: INFO: [HumblChannelSingleLong] Getting historical prices for SPY, 1 bars, \n",
      "2024-12-10 16:04:58,889: INFO: [HumblChannelSingleLong] Processing trade event. Trade event received for HumblChannelSingleLong strategy: fill SPY, processed by broker backtesting\n",
      "2024-12-10 16:04:58,889: INFO: [HumblChannelSingleLong] \u001b[32mOrder was filled: market order of | 1 SPY buy | @ $114.26 fill\u001b[0m\n",
      "2024-12-10 16:04:58,891: INFO: [HumblChannelSingleLong] Processing a filled order, payload: {'position': HumblChannelSingleLong Position: 115.0 shares of SPY (283 orders), 'order': market order of | 1 SPY buy | @ $114.26 fill, 'price': 114.26000213623047, 'quantity': 1.0, 'multiplier': 1}\n"
     ]
    },
    {
     "name": "stdout",
     "output_type": "stream",
     "text": [
      "Progress |\u001b[32m\u001b[0m|   1.30%  [Elapsed: 0:12:17 ETA: 15:32:25] Portfolio Val: 100,412.02"
     ]
    },
    {
     "name": "stderr",
     "output_type": "stream",
     "text": [
      "2024-12-10 16:04:58,892: INFO: Current backtesting datetime 2010-03-08 12:30:00-05:00\n",
      "2024-12-10 16:04:58,898: INFO: [HumblChannelSingleLong] Processing trade event. Trade event received for HumblChannelSingleLong strategy: new SPY, processed by broker backtesting\n",
      "2024-12-10 16:04:58,898: INFO: [HumblChannelSingleLong] \u001b[32mNew order was created: market order of | 1 SPY buy | new\u001b[0m\n",
      "2024-12-10 16:04:58,900: INFO: [HumblChannelSingleLong] Processing a new order, payload: {'order': market order of | 1 SPY buy | new}\n",
      "2024-12-10 16:04:58,901: INFO: [HumblChannelSingleLong] Getting historical prices for SPY, 1 bars, \n",
      "2024-12-10 16:04:58,903: INFO: [HumblChannelSingleLong] Processing trade event. Trade event received for HumblChannelSingleLong strategy: fill SPY, processed by broker backtesting\n",
      "2024-12-10 16:04:58,903: INFO: [HumblChannelSingleLong] \u001b[32mOrder was filled: market order of | 1 SPY buy | @ $114.26 fill\u001b[0m\n",
      "2024-12-10 16:04:58,905: INFO: [HumblChannelSingleLong] Processing a filled order, payload: {'position': HumblChannelSingleLong Position: 116.0 shares of SPY (284 orders), 'order': market order of | 1 SPY buy | @ $114.26 fill, 'price': 114.26000213623047, 'quantity': 1.0, 'multiplier': 1}\n"
     ]
    },
    {
     "name": "stdout",
     "output_type": "stream",
     "text": [
      "Progress |\u001b[32m\u001b[0m|   1.30%  [Elapsed: 0:12:17 ETA: 15:31:51] Portfolio Val: 100,412.02"
     ]
    },
    {
     "name": "stderr",
     "output_type": "stream",
     "text": [
      "2024-12-10 16:04:58,906: INFO: Current backtesting datetime 2010-03-08 13:30:00-05:00\n",
      "2024-12-10 16:04:58,910: INFO: [HumblChannelSingleLong] Processing trade event. Trade event received for HumblChannelSingleLong strategy: new SPY, processed by broker backtesting\n",
      "2024-12-10 16:04:58,910: INFO: [HumblChannelSingleLong] \u001b[32mNew order was created: market order of | 1 SPY buy | new\u001b[0m\n",
      "2024-12-10 16:04:58,912: INFO: [HumblChannelSingleLong] Processing a new order, payload: {'order': market order of | 1 SPY buy | new}\n",
      "2024-12-10 16:04:58,913: INFO: [HumblChannelSingleLong] Getting historical prices for SPY, 1 bars, \n",
      "2024-12-10 16:04:58,915: INFO: [HumblChannelSingleLong] Processing trade event. Trade event received for HumblChannelSingleLong strategy: fill SPY, processed by broker backtesting\n",
      "2024-12-10 16:04:58,915: INFO: [HumblChannelSingleLong] \u001b[32mOrder was filled: market order of | 1 SPY buy | @ $114.26 fill\u001b[0m\n",
      "2024-12-10 16:04:58,917: INFO: [HumblChannelSingleLong] Processing a filled order, payload: {'position': HumblChannelSingleLong Position: 117.0 shares of SPY (285 orders), 'order': market order of | 1 SPY buy | @ $114.26 fill, 'price': 114.26000213623047, 'quantity': 1.0, 'multiplier': 1}\n"
     ]
    },
    {
     "name": "stdout",
     "output_type": "stream",
     "text": [
      "Progress |\u001b[32m\u001b[0m|   1.30%  [Elapsed: 0:12:17 ETA: 15:31:16] Portfolio Val: 100,412.02"
     ]
    },
    {
     "name": "stderr",
     "output_type": "stream",
     "text": [
      "2024-12-10 16:04:58,917: INFO: Current backtesting datetime 2010-03-08 14:30:00-05:00\n",
      "2024-12-10 16:04:58,922: INFO: [HumblChannelSingleLong] Processing trade event. Trade event received for HumblChannelSingleLong strategy: new SPY, processed by broker backtesting\n",
      "2024-12-10 16:04:58,922: INFO: [HumblChannelSingleLong] \u001b[32mNew order was created: market order of | 1 SPY buy | new\u001b[0m\n",
      "2024-12-10 16:04:58,924: INFO: [HumblChannelSingleLong] Processing a new order, payload: {'order': market order of | 1 SPY buy | new}\n",
      "2024-12-10 16:04:58,925: INFO: [HumblChannelSingleLong] Getting historical prices for SPY, 1 bars, \n",
      "2024-12-10 16:04:58,926: INFO: [HumblChannelSingleLong] Processing trade event. Trade event received for HumblChannelSingleLong strategy: fill SPY, processed by broker backtesting\n",
      "2024-12-10 16:04:58,927: INFO: [HumblChannelSingleLong] \u001b[32mOrder was filled: market order of | 1 SPY buy | @ $114.26 fill\u001b[0m\n",
      "2024-12-10 16:04:58,928: INFO: [HumblChannelSingleLong] Processing a filled order, payload: {'position': HumblChannelSingleLong Position: 118.0 shares of SPY (286 orders), 'order': market order of | 1 SPY buy | @ $114.26 fill, 'price': 114.26000213623047, 'quantity': 1.0, 'multiplier': 1}\n"
     ]
    },
    {
     "name": "stdout",
     "output_type": "stream",
     "text": [
      "Progress |\u001b[32m\u001b[0m|   1.30%  [Elapsed: 0:12:17 ETA: 15:30:42] Portfolio Val: 100,412.02"
     ]
    },
    {
     "name": "stderr",
     "output_type": "stream",
     "text": [
      "2024-12-10 16:04:58,929: INFO: Current backtesting datetime 2010-03-08 15:30:00-05:00\n",
      "2024-12-10 16:04:58,933: INFO: [HumblChannelSingleLong] Processing trade event. Trade event received for HumblChannelSingleLong strategy: new SPY, processed by broker backtesting\n",
      "2024-12-10 16:04:58,933: INFO: [HumblChannelSingleLong] \u001b[32mNew order was created: market order of | 1 SPY buy | new\u001b[0m\n",
      "2024-12-10 16:04:58,935: INFO: [HumblChannelSingleLong] Processing a new order, payload: {'order': market order of | 1 SPY buy | new}\n",
      "2024-12-10 16:04:58,936: INFO: [HumblChannelSingleLong] Getting historical prices for SPY, 1 bars, \n",
      "2024-12-10 16:04:58,938: INFO: [HumblChannelSingleLong] Processing trade event. Trade event received for HumblChannelSingleLong strategy: fill SPY, processed by broker backtesting\n",
      "2024-12-10 16:04:58,938: INFO: [HumblChannelSingleLong] \u001b[32mOrder was filled: market order of | 1 SPY buy | @ $114.26 fill\u001b[0m\n",
      "2024-12-10 16:04:58,940: INFO: [HumblChannelSingleLong] Processing a filled order, payload: {'position': HumblChannelSingleLong Position: 119.0 shares of SPY (287 orders), 'order': market order of | 1 SPY buy | @ $114.26 fill, 'price': 114.26000213623047, 'quantity': 1.0, 'multiplier': 1}\n"
     ]
    },
    {
     "name": "stdout",
     "output_type": "stream",
     "text": [
      "Progress |\u001b[32m\u001b[0m|   1.30%  [Elapsed: 0:12:17 ETA: 15:30:25] Portfolio Val: 100,412.02"
     ]
    },
    {
     "name": "stderr",
     "output_type": "stream",
     "text": [
      "2024-12-10 16:04:58,940: INFO: Current backtesting datetime 2010-03-08 16:00:00-05:00\n"
     ]
    },
    {
     "name": "stdout",
     "output_type": "stream",
     "text": [
      "Progress |\u001b[32m\u001b[0m|   1.30%  [Elapsed: 0:12:17 ETA: 15:30:07] Portfolio Val: 100,412.02"
     ]
    },
    {
     "name": "stderr",
     "output_type": "stream",
     "text": [
      "2024-12-10 16:04:58,941: INFO: Current backtesting datetime 2010-03-08 16:30:00-05:00\n"
     ]
    },
    {
     "name": "stdout",
     "output_type": "stream",
     "text": [
      "Progress |\u001b[32m\u001b[0m|   1.30%  [Elapsed: 0:12:17 ETA: 15:30:11] "
     ]
    },
    {
     "name": "stderr",
     "output_type": "stream",
     "text": [
      "2024-12-10 16:04:58,942: INFO: Current backtesting datetime 2010-03-08 16:25:00-05:00\n"
     ]
    },
    {
     "name": "stdout",
     "output_type": "stream",
     "text": [
      "Progress |\u001b[32m\u001b[0m|   1.30%  [Elapsed: 0:12:17 ETA: 15:30:11] "
     ]
    },
    {
     "name": "stderr",
     "output_type": "stream",
     "text": [
      "2024-12-10 16:04:58,943: INFO: Current backtesting datetime 2010-03-08 16:25:00-05:00\n"
     ]
    },
    {
     "name": "stdout",
     "output_type": "stream",
     "text": [
      "Progress |\u001b[32m\u001b[0m|   1.32%  [Elapsed: 0:12:17 ETA: 15:20:48] "
     ]
    },
    {
     "name": "stderr",
     "output_type": "stream",
     "text": [
      "2024-12-10 16:04:58,945: INFO: Current backtesting datetime 2010-03-09 08:30:00-05:00\n"
     ]
    },
    {
     "name": "stdout",
     "output_type": "stream",
     "text": [
      "Progress |\u001b[32m\u001b[0m|   1.32%  [Elapsed: 0:12:17 ETA: 15:20:28] "
     ]
    },
    {
     "name": "stderr",
     "output_type": "stream",
     "text": [
      "2024-12-10 16:04:59,134: INFO: Current backtesting datetime 2010-03-09 09:30:00-05:00\n",
      "2024-12-10 16:04:59,139: INFO: [HumblChannelSingleLong] Processing trade event. Trade event received for HumblChannelSingleLong strategy: new SPY, processed by broker backtesting\n",
      "2024-12-10 16:04:59,139: INFO: [HumblChannelSingleLong] \u001b[32mNew order was created: market order of | 1 SPY buy | new\u001b[0m\n",
      "2024-12-10 16:04:59,142: INFO: [HumblChannelSingleLong] Processing a new order, payload: {'order': market order of | 1 SPY buy | new}\n",
      "2024-12-10 16:04:59,143: INFO: [HumblChannelSingleLong] Getting historical prices for SPY, 1 bars, \n",
      "2024-12-10 16:04:59,145: INFO: [HumblChannelSingleLong] Processing trade event. Trade event received for HumblChannelSingleLong strategy: fill SPY, processed by broker backtesting\n",
      "2024-12-10 16:04:59,145: INFO: [HumblChannelSingleLong] \u001b[32mOrder was filled: market order of | 1 SPY buy | @ $113.93 fill\u001b[0m\n",
      "2024-12-10 16:04:59,148: INFO: [HumblChannelSingleLong] Processing a filled order, payload: {'position': HumblChannelSingleLong Position: 120.0 shares of SPY (288 orders), 'order': market order of | 1 SPY buy | @ $113.93 fill, 'price': 113.93000030517578, 'quantity': 1.0, 'multiplier': 1}\n"
     ]
    },
    {
     "name": "stdout",
     "output_type": "stream",
     "text": [
      "Progress |\u001b[32m\u001b[0m|   1.32%  [Elapsed: 0:12:17 ETA: 15:19:54] Portfolio Val: 100,372.75"
     ]
    },
    {
     "name": "stderr",
     "output_type": "stream",
     "text": [
      "2024-12-10 16:04:59,148: INFO: Current backtesting datetime 2010-03-09 10:30:00-05:00\n",
      "2024-12-10 16:04:59,154: INFO: [HumblChannelSingleLong] Processing trade event. Trade event received for HumblChannelSingleLong strategy: new SPY, processed by broker backtesting\n",
      "2024-12-10 16:04:59,154: INFO: [HumblChannelSingleLong] \u001b[32mNew order was created: market order of | 1 SPY buy | new\u001b[0m\n",
      "2024-12-10 16:04:59,157: INFO: [HumblChannelSingleLong] Processing a new order, payload: {'order': market order of | 1 SPY buy | new}\n",
      "2024-12-10 16:04:59,158: INFO: [HumblChannelSingleLong] Getting historical prices for SPY, 1 bars, \n",
      "2024-12-10 16:04:59,160: INFO: [HumblChannelSingleLong] Processing trade event. Trade event received for HumblChannelSingleLong strategy: fill SPY, processed by broker backtesting\n",
      "2024-12-10 16:04:59,161: INFO: [HumblChannelSingleLong] \u001b[32mOrder was filled: market order of | 1 SPY buy | @ $113.93 fill\u001b[0m\n",
      "2024-12-10 16:04:59,162: INFO: [HumblChannelSingleLong] Processing a filled order, payload: {'position': HumblChannelSingleLong Position: 121.0 shares of SPY (289 orders), 'order': market order of | 1 SPY buy | @ $113.93 fill, 'price': 113.93000030517578, 'quantity': 1.0, 'multiplier': 1}\n"
     ]
    },
    {
     "name": "stdout",
     "output_type": "stream",
     "text": [
      "Progress |\u001b[32m\u001b[0m|   1.32%  [Elapsed: 0:12:17 ETA: 15:19:21] Portfolio Val: 100,372.75"
     ]
    },
    {
     "name": "stderr",
     "output_type": "stream",
     "text": [
      "2024-12-10 16:04:59,163: INFO: Current backtesting datetime 2010-03-09 11:30:00-05:00\n",
      "2024-12-10 16:04:59,168: INFO: [HumblChannelSingleLong] Processing trade event. Trade event received for HumblChannelSingleLong strategy: new SPY, processed by broker backtesting\n",
      "2024-12-10 16:04:59,168: INFO: [HumblChannelSingleLong] \u001b[32mNew order was created: market order of | 1 SPY buy | new\u001b[0m\n",
      "2024-12-10 16:04:59,171: INFO: [HumblChannelSingleLong] Processing a new order, payload: {'order': market order of | 1 SPY buy | new}\n",
      "2024-12-10 16:04:59,171: INFO: [HumblChannelSingleLong] Getting historical prices for SPY, 1 bars, \n",
      "2024-12-10 16:04:59,174: INFO: [HumblChannelSingleLong] Processing trade event. Trade event received for HumblChannelSingleLong strategy: fill SPY, processed by broker backtesting\n",
      "2024-12-10 16:04:59,175: INFO: [HumblChannelSingleLong] \u001b[32mOrder was filled: market order of | 1 SPY buy | @ $113.93 fill\u001b[0m\n",
      "2024-12-10 16:04:59,178: INFO: [HumblChannelSingleLong] Processing a filled order, payload: {'position': HumblChannelSingleLong Position: 122.0 shares of SPY (290 orders), 'order': market order of | 1 SPY buy | @ $113.93 fill, 'price': 113.93000030517578, 'quantity': 1.0, 'multiplier': 1}\n"
     ]
    },
    {
     "name": "stdout",
     "output_type": "stream",
     "text": [
      "Progress |\u001b[32m\u001b[0m|   1.32%  [Elapsed: 0:12:17 ETA: 15:18:47] Portfolio Val: 100,372.75"
     ]
    },
    {
     "name": "stderr",
     "output_type": "stream",
     "text": [
      "2024-12-10 16:04:59,179: INFO: Current backtesting datetime 2010-03-09 12:30:00-05:00\n",
      "2024-12-10 16:04:59,183: INFO: [HumblChannelSingleLong] Processing trade event. Trade event received for HumblChannelSingleLong strategy: new SPY, processed by broker backtesting\n",
      "2024-12-10 16:04:59,184: INFO: [HumblChannelSingleLong] \u001b[32mNew order was created: market order of | 1 SPY buy | new\u001b[0m\n",
      "2024-12-10 16:04:59,186: INFO: [HumblChannelSingleLong] Processing a new order, payload: {'order': market order of | 1 SPY buy | new}\n",
      "2024-12-10 16:04:59,187: INFO: [HumblChannelSingleLong] Getting historical prices for SPY, 1 bars, \n",
      "2024-12-10 16:04:59,189: INFO: [HumblChannelSingleLong] Processing trade event. Trade event received for HumblChannelSingleLong strategy: fill SPY, processed by broker backtesting\n",
      "2024-12-10 16:04:59,189: INFO: [HumblChannelSingleLong] \u001b[32mOrder was filled: market order of | 1 SPY buy | @ $113.93 fill\u001b[0m\n",
      "2024-12-10 16:04:59,191: INFO: [HumblChannelSingleLong] Processing a filled order, payload: {'position': HumblChannelSingleLong Position: 123.0 shares of SPY (291 orders), 'order': market order of | 1 SPY buy | @ $113.93 fill, 'price': 113.93000030517578, 'quantity': 1.0, 'multiplier': 1}\n"
     ]
    },
    {
     "name": "stdout",
     "output_type": "stream",
     "text": [
      "Progress |\u001b[32m\u001b[0m|   1.32%  [Elapsed: 0:12:17 ETA: 15:18:14] Portfolio Val: 100,372.75"
     ]
    },
    {
     "name": "stderr",
     "output_type": "stream",
     "text": [
      "2024-12-10 16:04:59,192: INFO: Current backtesting datetime 2010-03-09 13:30:00-05:00\n",
      "2024-12-10 16:04:59,197: INFO: [HumblChannelSingleLong] Processing trade event. Trade event received for HumblChannelSingleLong strategy: new SPY, processed by broker backtesting\n",
      "2024-12-10 16:04:59,198: INFO: [HumblChannelSingleLong] \u001b[32mNew order was created: market order of | 1 SPY buy | new\u001b[0m\n",
      "2024-12-10 16:04:59,200: INFO: [HumblChannelSingleLong] Processing a new order, payload: {'order': market order of | 1 SPY buy | new}\n",
      "2024-12-10 16:04:59,201: INFO: [HumblChannelSingleLong] Getting historical prices for SPY, 1 bars, \n",
      "2024-12-10 16:04:59,203: INFO: [HumblChannelSingleLong] Processing trade event. Trade event received for HumblChannelSingleLong strategy: fill SPY, processed by broker backtesting\n",
      "2024-12-10 16:04:59,203: INFO: [HumblChannelSingleLong] \u001b[32mOrder was filled: market order of | 1 SPY buy | @ $113.93 fill\u001b[0m\n",
      "2024-12-10 16:04:59,206: INFO: [HumblChannelSingleLong] Processing a filled order, payload: {'position': HumblChannelSingleLong Position: 124.0 shares of SPY (292 orders), 'order': market order of | 1 SPY buy | @ $113.93 fill, 'price': 113.93000030517578, 'quantity': 1.0, 'multiplier': 1}\n"
     ]
    },
    {
     "name": "stdout",
     "output_type": "stream",
     "text": [
      "Progress |\u001b[32m\u001b[0m|   1.32%  [Elapsed: 0:12:17 ETA: 15:17:41] Portfolio Val: 100,372.75"
     ]
    },
    {
     "name": "stderr",
     "output_type": "stream",
     "text": [
      "2024-12-10 16:04:59,206: INFO: Current backtesting datetime 2010-03-09 14:30:00-05:00\n",
      "2024-12-10 16:04:59,211: INFO: [HumblChannelSingleLong] Processing trade event. Trade event received for HumblChannelSingleLong strategy: new SPY, processed by broker backtesting\n",
      "2024-12-10 16:04:59,211: INFO: [HumblChannelSingleLong] \u001b[32mNew order was created: market order of | 1 SPY buy | new\u001b[0m\n",
      "2024-12-10 16:04:59,215: INFO: [HumblChannelSingleLong] Processing a new order, payload: {'order': market order of | 1 SPY buy | new}\n",
      "2024-12-10 16:04:59,215: INFO: [HumblChannelSingleLong] Getting historical prices for SPY, 1 bars, \n",
      "2024-12-10 16:04:59,219: INFO: [HumblChannelSingleLong] Processing trade event. Trade event received for HumblChannelSingleLong strategy: fill SPY, processed by broker backtesting\n",
      "2024-12-10 16:04:59,219: INFO: [HumblChannelSingleLong] \u001b[32mOrder was filled: market order of | 1 SPY buy | @ $113.93 fill\u001b[0m\n",
      "2024-12-10 16:04:59,224: INFO: [HumblChannelSingleLong] Processing a filled order, payload: {'position': HumblChannelSingleLong Position: 125.0 shares of SPY (293 orders), 'order': market order of | 1 SPY buy | @ $113.93 fill, 'price': 113.93000030517578, 'quantity': 1.0, 'multiplier': 1}\n"
     ]
    },
    {
     "name": "stdout",
     "output_type": "stream",
     "text": [
      "Progress |\u001b[32m\u001b[0m|   1.32%  [Elapsed: 0:12:17 ETA: 15:17:08] Portfolio Val: 100,372.75"
     ]
    },
    {
     "name": "stderr",
     "output_type": "stream",
     "text": [
      "2024-12-10 16:04:59,224: INFO: Current backtesting datetime 2010-03-09 15:30:00-05:00\n",
      "2024-12-10 16:04:59,229: INFO: [HumblChannelSingleLong] Processing trade event. Trade event received for HumblChannelSingleLong strategy: new SPY, processed by broker backtesting\n",
      "2024-12-10 16:04:59,229: INFO: [HumblChannelSingleLong] \u001b[32mNew order was created: market order of | 1 SPY buy | new\u001b[0m\n",
      "2024-12-10 16:04:59,232: INFO: [HumblChannelSingleLong] Processing a new order, payload: {'order': market order of | 1 SPY buy | new}\n",
      "2024-12-10 16:04:59,233: INFO: [HumblChannelSingleLong] Getting historical prices for SPY, 1 bars, \n",
      "2024-12-10 16:04:59,236: INFO: [HumblChannelSingleLong] Processing trade event. Trade event received for HumblChannelSingleLong strategy: fill SPY, processed by broker backtesting\n",
      "2024-12-10 16:04:59,237: INFO: [HumblChannelSingleLong] \u001b[32mOrder was filled: market order of | 1 SPY buy | @ $113.93 fill\u001b[0m\n",
      "2024-12-10 16:04:59,241: INFO: [HumblChannelSingleLong] Processing a filled order, payload: {'position': HumblChannelSingleLong Position: 126.0 shares of SPY (294 orders), 'order': market order of | 1 SPY buy | @ $113.93 fill, 'price': 113.93000030517578, 'quantity': 1.0, 'multiplier': 1}\n"
     ]
    },
    {
     "name": "stdout",
     "output_type": "stream",
     "text": [
      "Progress |\u001b[32m\u001b[0m|   1.32%  [Elapsed: 0:12:17 ETA: 15:16:52] Portfolio Val: 100,372.75"
     ]
    },
    {
     "name": "stderr",
     "output_type": "stream",
     "text": [
      "2024-12-10 16:04:59,244: INFO: Current backtesting datetime 2010-03-09 16:00:00-05:00\n"
     ]
    },
    {
     "name": "stdout",
     "output_type": "stream",
     "text": [
      "Progress |\u001b[32m\u001b[0m|   1.32%  [Elapsed: 0:12:17 ETA: 15:16:35] Portfolio Val: 100,372.75"
     ]
    },
    {
     "name": "stderr",
     "output_type": "stream",
     "text": [
      "2024-12-10 16:04:59,245: INFO: Current backtesting datetime 2010-03-09 16:30:00-05:00\n"
     ]
    },
    {
     "name": "stdout",
     "output_type": "stream",
     "text": [
      "Progress |\u001b[32m\u001b[0m|   1.32%  [Elapsed: 0:12:17 ETA: 15:16:38] "
     ]
    },
    {
     "name": "stderr",
     "output_type": "stream",
     "text": [
      "2024-12-10 16:04:59,247: INFO: Current backtesting datetime 2010-03-09 16:25:00-05:00\n"
     ]
    },
    {
     "name": "stdout",
     "output_type": "stream",
     "text": [
      "Progress |\u001b[32m\u001b[0m|   1.32%  [Elapsed: 0:12:17 ETA: 15:16:38] "
     ]
    },
    {
     "name": "stderr",
     "output_type": "stream",
     "text": [
      "2024-12-10 16:04:59,248: INFO: Current backtesting datetime 2010-03-09 16:25:00-05:00\n"
     ]
    },
    {
     "name": "stdout",
     "output_type": "stream",
     "text": [
      "Progress |\u001b[32m\u001b[0m|   1.34%  [Elapsed: 0:12:17 ETA: 15:07:32] "
     ]
    },
    {
     "name": "stderr",
     "output_type": "stream",
     "text": [
      "2024-12-10 16:04:59,250: INFO: Current backtesting datetime 2010-03-10 08:30:00-05:00\n"
     ]
    },
    {
     "name": "stdout",
     "output_type": "stream",
     "text": [
      "Progress |\u001b[32m\u001b[0m|   1.34%  [Elapsed: 0:12:18 ETA: 15:07:21] "
     ]
    },
    {
     "name": "stderr",
     "output_type": "stream",
     "text": [
      "2024-12-10 16:04:59,568: INFO: Current backtesting datetime 2010-03-10 09:30:00-05:00\n",
      "2024-12-10 16:04:59,573: INFO: [HumblChannelSingleLong] Processing trade event. Trade event received for HumblChannelSingleLong strategy: new SPY, processed by broker backtesting\n",
      "2024-12-10 16:04:59,573: INFO: [HumblChannelSingleLong] \u001b[32mNew order was created: market order of | 1 SPY buy | new\u001b[0m\n",
      "2024-12-10 16:04:59,576: INFO: [HumblChannelSingleLong] Processing a new order, payload: {'order': market order of | 1 SPY buy | new}\n",
      "2024-12-10 16:04:59,577: INFO: [HumblChannelSingleLong] Getting historical prices for SPY, 1 bars, \n",
      "2024-12-10 16:04:59,579: INFO: [HumblChannelSingleLong] Processing trade event. Trade event received for HumblChannelSingleLong strategy: fill SPY, processed by broker backtesting\n",
      "2024-12-10 16:04:59,580: INFO: [HumblChannelSingleLong] \u001b[32mOrder was filled: market order of | 1 SPY buy | @ $114.51 fill\u001b[0m\n",
      "2024-12-10 16:04:59,583: INFO: [HumblChannelSingleLong] Processing a filled order, payload: {'position': HumblChannelSingleLong Position: 127.0 shares of SPY (295 orders), 'order': market order of | 1 SPY buy | @ $114.51 fill, 'price': 114.51000213623047, 'quantity': 1.0, 'multiplier': 1}\n"
     ]
    },
    {
     "name": "stdout",
     "output_type": "stream",
     "text": [
      "Progress |\u001b[32m\u001b[0m|   1.34%  [Elapsed: 0:12:18 ETA: 15:06:49] Portfolio Val: 100,445.83"
     ]
    },
    {
     "name": "stderr",
     "output_type": "stream",
     "text": [
      "2024-12-10 16:04:59,584: INFO: Current backtesting datetime 2010-03-10 10:30:00-05:00\n",
      "2024-12-10 16:04:59,589: INFO: [HumblChannelSingleLong] Processing trade event. Trade event received for HumblChannelSingleLong strategy: new SPY, processed by broker backtesting\n",
      "2024-12-10 16:04:59,589: INFO: [HumblChannelSingleLong] \u001b[32mNew order was created: market order of | 1 SPY buy | new\u001b[0m\n",
      "2024-12-10 16:04:59,592: INFO: [HumblChannelSingleLong] Processing a new order, payload: {'order': market order of | 1 SPY buy | new}\n",
      "2024-12-10 16:04:59,593: INFO: [HumblChannelSingleLong] Getting historical prices for SPY, 1 bars, \n",
      "2024-12-10 16:04:59,595: INFO: [HumblChannelSingleLong] Processing trade event. Trade event received for HumblChannelSingleLong strategy: fill SPY, processed by broker backtesting\n",
      "2024-12-10 16:04:59,595: INFO: [HumblChannelSingleLong] \u001b[32mOrder was filled: market order of | 1 SPY buy | @ $114.51 fill\u001b[0m\n",
      "2024-12-10 16:04:59,598: INFO: [HumblChannelSingleLong] Processing a filled order, payload: {'position': HumblChannelSingleLong Position: 128.0 shares of SPY (296 orders), 'order': market order of | 1 SPY buy | @ $114.51 fill, 'price': 114.51000213623047, 'quantity': 1.0, 'multiplier': 1}\n"
     ]
    },
    {
     "name": "stdout",
     "output_type": "stream",
     "text": [
      "Progress |\u001b[32m\u001b[0m|   1.34%  [Elapsed: 0:12:18 ETA: 15:06:17] Portfolio Val: 100,445.83"
     ]
    },
    {
     "name": "stderr",
     "output_type": "stream",
     "text": [
      "2024-12-10 16:04:59,599: INFO: Current backtesting datetime 2010-03-10 11:30:00-05:00\n",
      "2024-12-10 16:04:59,604: INFO: [HumblChannelSingleLong] Processing trade event. Trade event received for HumblChannelSingleLong strategy: new SPY, processed by broker backtesting\n",
      "2024-12-10 16:04:59,604: INFO: [HumblChannelSingleLong] \u001b[32mNew order was created: market order of | 1 SPY buy | new\u001b[0m\n",
      "2024-12-10 16:04:59,608: INFO: [HumblChannelSingleLong] Processing a new order, payload: {'order': market order of | 1 SPY buy | new}\n",
      "2024-12-10 16:04:59,608: INFO: [HumblChannelSingleLong] Getting historical prices for SPY, 1 bars, \n",
      "2024-12-10 16:04:59,612: INFO: [HumblChannelSingleLong] Processing trade event. Trade event received for HumblChannelSingleLong strategy: fill SPY, processed by broker backtesting\n",
      "2024-12-10 16:04:59,612: INFO: [HumblChannelSingleLong] \u001b[32mOrder was filled: market order of | 1 SPY buy | @ $114.51 fill\u001b[0m\n",
      "2024-12-10 16:04:59,614: INFO: [HumblChannelSingleLong] Processing a filled order, payload: {'position': HumblChannelSingleLong Position: 129.0 shares of SPY (297 orders), 'order': market order of | 1 SPY buy | @ $114.51 fill, 'price': 114.51000213623047, 'quantity': 1.0, 'multiplier': 1}\n"
     ]
    },
    {
     "name": "stdout",
     "output_type": "stream",
     "text": [
      "Progress |\u001b[32m\u001b[0m|   1.34%  [Elapsed: 0:12:18 ETA: 15:05:44] Portfolio Val: 100,445.83"
     ]
    },
    {
     "name": "stderr",
     "output_type": "stream",
     "text": [
      "2024-12-10 16:04:59,615: INFO: Current backtesting datetime 2010-03-10 12:30:00-05:00\n",
      "2024-12-10 16:04:59,619: INFO: [HumblChannelSingleLong] Processing trade event. Trade event received for HumblChannelSingleLong strategy: new SPY, processed by broker backtesting\n",
      "2024-12-10 16:04:59,620: INFO: [HumblChannelSingleLong] \u001b[32mNew order was created: market order of | 1 SPY buy | new\u001b[0m\n",
      "2024-12-10 16:04:59,623: INFO: [HumblChannelSingleLong] Processing a new order, payload: {'order': market order of | 1 SPY buy | new}\n",
      "2024-12-10 16:04:59,623: INFO: [HumblChannelSingleLong] Getting historical prices for SPY, 1 bars, \n",
      "2024-12-10 16:04:59,625: INFO: [HumblChannelSingleLong] Processing trade event. Trade event received for HumblChannelSingleLong strategy: fill SPY, processed by broker backtesting\n",
      "2024-12-10 16:04:59,626: INFO: [HumblChannelSingleLong] \u001b[32mOrder was filled: market order of | 1 SPY buy | @ $114.51 fill\u001b[0m\n",
      "2024-12-10 16:04:59,628: INFO: [HumblChannelSingleLong] Processing a filled order, payload: {'position': HumblChannelSingleLong Position: 130.0 shares of SPY (298 orders), 'order': market order of | 1 SPY buy | @ $114.51 fill, 'price': 114.51000213623047, 'quantity': 1.0, 'multiplier': 1}\n"
     ]
    },
    {
     "name": "stdout",
     "output_type": "stream",
     "text": [
      "Progress |\u001b[32m\u001b[0m|   1.34%  [Elapsed: 0:12:18 ETA: 15:05:12] Portfolio Val: 100,445.83"
     ]
    },
    {
     "name": "stderr",
     "output_type": "stream",
     "text": [
      "2024-12-10 16:04:59,629: INFO: Current backtesting datetime 2010-03-10 13:30:00-05:00\n",
      "2024-12-10 16:04:59,636: INFO: [HumblChannelSingleLong] Processing trade event. Trade event received for HumblChannelSingleLong strategy: new SPY, processed by broker backtesting\n",
      "2024-12-10 16:04:59,637: INFO: [HumblChannelSingleLong] \u001b[32mNew order was created: market order of | 1 SPY buy | new\u001b[0m\n",
      "2024-12-10 16:04:59,640: INFO: [HumblChannelSingleLong] Processing a new order, payload: {'order': market order of | 1 SPY buy | new}\n",
      "2024-12-10 16:04:59,641: INFO: [HumblChannelSingleLong] Getting historical prices for SPY, 1 bars, \n",
      "2024-12-10 16:04:59,644: INFO: [HumblChannelSingleLong] Processing trade event. Trade event received for HumblChannelSingleLong strategy: fill SPY, processed by broker backtesting\n",
      "2024-12-10 16:04:59,645: INFO: [HumblChannelSingleLong] \u001b[32mOrder was filled: market order of | 1 SPY buy | @ $114.51 fill\u001b[0m\n",
      "2024-12-10 16:04:59,648: INFO: [HumblChannelSingleLong] Processing a filled order, payload: {'position': HumblChannelSingleLong Position: 131.0 shares of SPY (299 orders), 'order': market order of | 1 SPY buy | @ $114.51 fill, 'price': 114.51000213623047, 'quantity': 1.0, 'multiplier': 1}\n"
     ]
    },
    {
     "name": "stdout",
     "output_type": "stream",
     "text": [
      "Progress |\u001b[32m\u001b[0m|   1.34%  [Elapsed: 0:12:18 ETA: 15:04:40] Portfolio Val: 100,445.83"
     ]
    },
    {
     "name": "stderr",
     "output_type": "stream",
     "text": [
      "2024-12-10 16:04:59,649: INFO: Current backtesting datetime 2010-03-10 14:30:00-05:00\n",
      "2024-12-10 16:04:59,653: INFO: [HumblChannelSingleLong] Processing trade event. Trade event received for HumblChannelSingleLong strategy: new SPY, processed by broker backtesting\n",
      "2024-12-10 16:04:59,654: INFO: [HumblChannelSingleLong] \u001b[32mNew order was created: market order of | 1 SPY buy | new\u001b[0m\n",
      "2024-12-10 16:04:59,657: INFO: [HumblChannelSingleLong] Processing a new order, payload: {'order': market order of | 1 SPY buy | new}\n",
      "2024-12-10 16:04:59,657: INFO: [HumblChannelSingleLong] Getting historical prices for SPY, 1 bars, \n",
      "2024-12-10 16:04:59,660: INFO: [HumblChannelSingleLong] Processing trade event. Trade event received for HumblChannelSingleLong strategy: fill SPY, processed by broker backtesting\n",
      "2024-12-10 16:04:59,661: INFO: [HumblChannelSingleLong] \u001b[32mOrder was filled: market order of | 1 SPY buy | @ $114.51 fill\u001b[0m\n",
      "2024-12-10 16:04:59,665: INFO: [HumblChannelSingleLong] Processing a filled order, payload: {'position': HumblChannelSingleLong Position: 132.0 shares of SPY (300 orders), 'order': market order of | 1 SPY buy | @ $114.51 fill, 'price': 114.51000213623047, 'quantity': 1.0, 'multiplier': 1}\n"
     ]
    },
    {
     "name": "stdout",
     "output_type": "stream",
     "text": [
      "Progress |\u001b[32m\u001b[0m|   1.34%  [Elapsed: 0:12:18 ETA: 15:04:08] Portfolio Val: 100,445.83"
     ]
    },
    {
     "name": "stderr",
     "output_type": "stream",
     "text": [
      "2024-12-10 16:04:59,667: INFO: Current backtesting datetime 2010-03-10 15:30:00-05:00\n",
      "2024-12-10 16:04:59,673: INFO: [HumblChannelSingleLong] Processing trade event. Trade event received for HumblChannelSingleLong strategy: new SPY, processed by broker backtesting\n",
      "2024-12-10 16:04:59,674: INFO: [HumblChannelSingleLong] \u001b[32mNew order was created: market order of | 1 SPY buy | new\u001b[0m\n",
      "2024-12-10 16:04:59,678: INFO: [HumblChannelSingleLong] Processing a new order, payload: {'order': market order of | 1 SPY buy | new}\n",
      "2024-12-10 16:04:59,679: INFO: [HumblChannelSingleLong] Getting historical prices for SPY, 1 bars, \n",
      "2024-12-10 16:04:59,681: INFO: [HumblChannelSingleLong] Processing trade event. Trade event received for HumblChannelSingleLong strategy: fill SPY, processed by broker backtesting\n",
      "2024-12-10 16:04:59,682: INFO: [HumblChannelSingleLong] \u001b[32mOrder was filled: market order of | 1 SPY buy | @ $114.51 fill\u001b[0m\n",
      "2024-12-10 16:04:59,684: INFO: [HumblChannelSingleLong] Processing a filled order, payload: {'position': HumblChannelSingleLong Position: 133.0 shares of SPY (301 orders), 'order': market order of | 1 SPY buy | @ $114.51 fill, 'price': 114.51000213623047, 'quantity': 1.0, 'multiplier': 1}\n"
     ]
    },
    {
     "name": "stdout",
     "output_type": "stream",
     "text": [
      "Progress |\u001b[32m\u001b[0m|   1.34%  [Elapsed: 0:12:18 ETA: 15:03:52] Portfolio Val: 100,445.83"
     ]
    },
    {
     "name": "stderr",
     "output_type": "stream",
     "text": [
      "2024-12-10 16:04:59,685: INFO: Current backtesting datetime 2010-03-10 16:00:00-05:00\n"
     ]
    },
    {
     "name": "stdout",
     "output_type": "stream",
     "text": [
      "Progress |\u001b[32m\u001b[0m|   1.34%  [Elapsed: 0:12:18 ETA: 15:03:36] Portfolio Val: 100,445.83"
     ]
    },
    {
     "name": "stderr",
     "output_type": "stream",
     "text": [
      "2024-12-10 16:04:59,685: INFO: Current backtesting datetime 2010-03-10 16:30:00-05:00\n"
     ]
    },
    {
     "name": "stdout",
     "output_type": "stream",
     "text": [
      "Progress |\u001b[32m\u001b[0m|   1.34%  [Elapsed: 0:12:18 ETA: 15:03:39] "
     ]
    },
    {
     "name": "stderr",
     "output_type": "stream",
     "text": [
      "2024-12-10 16:04:59,687: INFO: Current backtesting datetime 2010-03-10 16:25:00-05:00\n"
     ]
    },
    {
     "name": "stdout",
     "output_type": "stream",
     "text": [
      "Progress |\u001b[32m\u001b[0m|   1.34%  [Elapsed: 0:12:18 ETA: 15:03:39] "
     ]
    },
    {
     "name": "stderr",
     "output_type": "stream",
     "text": [
      "2024-12-10 16:04:59,688: INFO: Current backtesting datetime 2010-03-10 16:25:00-05:00\n"
     ]
    },
    {
     "name": "stdout",
     "output_type": "stream",
     "text": [
      "Progress |\u001b[32m\u001b[0m|   1.36%  [Elapsed: 0:12:18 ETA: 14:54:48] "
     ]
    },
    {
     "name": "stderr",
     "output_type": "stream",
     "text": [
      "2024-12-10 16:04:59,690: INFO: Current backtesting datetime 2010-03-11 08:30:00-05:00\n"
     ]
    },
    {
     "name": "stdout",
     "output_type": "stream",
     "text": [
      "Progress |\u001b[32m\u001b[0m|   1.36%  [Elapsed: 0:12:18 ETA: 14:54:30] "
     ]
    },
    {
     "name": "stderr",
     "output_type": "stream",
     "text": [
      "2024-12-10 16:04:59,890: INFO: Current backtesting datetime 2010-03-11 09:30:00-05:00\n",
      "2024-12-10 16:04:59,894: INFO: [HumblChannelSingleLong] Processing trade event. Trade event received for HumblChannelSingleLong strategy: new SPY, processed by broker backtesting\n",
      "2024-12-10 16:04:59,895: INFO: [HumblChannelSingleLong] \u001b[32mNew order was created: market order of | 1 SPY buy | new\u001b[0m\n",
      "2024-12-10 16:04:59,898: INFO: [HumblChannelSingleLong] Processing a new order, payload: {'order': market order of | 1 SPY buy | new}\n",
      "2024-12-10 16:04:59,898: INFO: [HumblChannelSingleLong] Getting historical prices for SPY, 1 bars, \n",
      "2024-12-10 16:04:59,900: INFO: [HumblChannelSingleLong] Processing trade event. Trade event received for HumblChannelSingleLong strategy: fill SPY, processed by broker backtesting\n",
      "2024-12-10 16:04:59,901: INFO: [HumblChannelSingleLong] \u001b[32mOrder was filled: market order of | 1 SPY buy | @ $114.7 fill\u001b[0m\n",
      "2024-12-10 16:04:59,902: INFO: [HumblChannelSingleLong] Processing a filled order, payload: {'position': HumblChannelSingleLong Position: 134.0 shares of SPY (302 orders), 'order': market order of | 1 SPY buy | @ $114.7 fill, 'price': 114.69999694824219, 'quantity': 1.0, 'multiplier': 1}\n"
     ]
    },
    {
     "name": "stdout",
     "output_type": "stream",
     "text": [
      "Progress |\u001b[32m\u001b[0m|   1.36%  [Elapsed: 0:12:18 ETA: 14:53:58] Portfolio Val: 100,471.10"
     ]
    },
    {
     "name": "stderr",
     "output_type": "stream",
     "text": [
      "2024-12-10 16:04:59,903: INFO: Current backtesting datetime 2010-03-11 10:30:00-05:00\n",
      "2024-12-10 16:04:59,909: INFO: [HumblChannelSingleLong] Processing trade event. Trade event received for HumblChannelSingleLong strategy: new SPY, processed by broker backtesting\n",
      "2024-12-10 16:04:59,910: INFO: [HumblChannelSingleLong] \u001b[32mNew order was created: market order of | 1 SPY buy | new\u001b[0m\n",
      "2024-12-10 16:04:59,913: INFO: [HumblChannelSingleLong] Processing a new order, payload: {'order': market order of | 1 SPY buy | new}\n",
      "2024-12-10 16:04:59,914: INFO: [HumblChannelSingleLong] Getting historical prices for SPY, 1 bars, \n",
      "2024-12-10 16:04:59,916: INFO: [HumblChannelSingleLong] Processing trade event. Trade event received for HumblChannelSingleLong strategy: fill SPY, processed by broker backtesting\n",
      "2024-12-10 16:04:59,917: INFO: [HumblChannelSingleLong] \u001b[32mOrder was filled: market order of | 1 SPY buy | @ $114.7 fill\u001b[0m\n",
      "2024-12-10 16:04:59,920: INFO: [HumblChannelSingleLong] Processing a filled order, payload: {'position': HumblChannelSingleLong Position: 135.0 shares of SPY (303 orders), 'order': market order of | 1 SPY buy | @ $114.7 fill, 'price': 114.69999694824219, 'quantity': 1.0, 'multiplier': 1}\n"
     ]
    },
    {
     "name": "stdout",
     "output_type": "stream",
     "text": [
      "Progress |\u001b[32m\u001b[0m|   1.36%  [Elapsed: 0:12:18 ETA: 14:53:27] Portfolio Val: 100,471.10"
     ]
    },
    {
     "name": "stderr",
     "output_type": "stream",
     "text": [
      "2024-12-10 16:04:59,921: INFO: Current backtesting datetime 2010-03-11 11:30:00-05:00\n",
      "2024-12-10 16:04:59,925: INFO: [HumblChannelSingleLong] Processing trade event. Trade event received for HumblChannelSingleLong strategy: new SPY, processed by broker backtesting\n",
      "2024-12-10 16:04:59,926: INFO: [HumblChannelSingleLong] \u001b[32mNew order was created: market order of | 1 SPY buy | new\u001b[0m\n",
      "2024-12-10 16:04:59,929: INFO: [HumblChannelSingleLong] Processing a new order, payload: {'order': market order of | 1 SPY buy | new}\n",
      "2024-12-10 16:04:59,930: INFO: [HumblChannelSingleLong] Getting historical prices for SPY, 1 bars, \n",
      "2024-12-10 16:04:59,932: INFO: [HumblChannelSingleLong] Processing trade event. Trade event received for HumblChannelSingleLong strategy: fill SPY, processed by broker backtesting\n",
      "2024-12-10 16:04:59,932: INFO: [HumblChannelSingleLong] \u001b[32mOrder was filled: market order of | 1 SPY buy | @ $114.7 fill\u001b[0m\n",
      "2024-12-10 16:04:59,935: INFO: [HumblChannelSingleLong] Processing a filled order, payload: {'position': HumblChannelSingleLong Position: 136.0 shares of SPY (304 orders), 'order': market order of | 1 SPY buy | @ $114.7 fill, 'price': 114.69999694824219, 'quantity': 1.0, 'multiplier': 1}\n"
     ]
    },
    {
     "name": "stdout",
     "output_type": "stream",
     "text": [
      "Progress |\u001b[32m\u001b[0m|   1.36%  [Elapsed: 0:12:18 ETA: 14:52:55] Portfolio Val: 100,471.10"
     ]
    },
    {
     "name": "stderr",
     "output_type": "stream",
     "text": [
      "2024-12-10 16:04:59,935: INFO: Current backtesting datetime 2010-03-11 12:30:00-05:00\n",
      "2024-12-10 16:04:59,939: INFO: [HumblChannelSingleLong] Processing trade event. Trade event received for HumblChannelSingleLong strategy: new SPY, processed by broker backtesting\n",
      "2024-12-10 16:04:59,940: INFO: [HumblChannelSingleLong] \u001b[32mNew order was created: market order of | 1 SPY buy | new\u001b[0m\n",
      "2024-12-10 16:04:59,942: INFO: [HumblChannelSingleLong] Processing a new order, payload: {'order': market order of | 1 SPY buy | new}\n",
      "2024-12-10 16:04:59,943: INFO: [HumblChannelSingleLong] Getting historical prices for SPY, 1 bars, \n",
      "2024-12-10 16:04:59,945: INFO: [HumblChannelSingleLong] Processing trade event. Trade event received for HumblChannelSingleLong strategy: fill SPY, processed by broker backtesting\n",
      "2024-12-10 16:04:59,946: INFO: [HumblChannelSingleLong] \u001b[32mOrder was filled: market order of | 1 SPY buy | @ $114.7 fill\u001b[0m\n",
      "2024-12-10 16:04:59,949: INFO: [HumblChannelSingleLong] Processing a filled order, payload: {'position': HumblChannelSingleLong Position: 137.0 shares of SPY (305 orders), 'order': market order of | 1 SPY buy | @ $114.7 fill, 'price': 114.69999694824219, 'quantity': 1.0, 'multiplier': 1}\n"
     ]
    },
    {
     "name": "stdout",
     "output_type": "stream",
     "text": [
      "Progress |\u001b[32m\u001b[0m|   1.36%  [Elapsed: 0:12:18 ETA: 14:52:24] Portfolio Val: 100,471.10"
     ]
    },
    {
     "name": "stderr",
     "output_type": "stream",
     "text": [
      "2024-12-10 16:04:59,949: INFO: Current backtesting datetime 2010-03-11 13:30:00-05:00\n",
      "2024-12-10 16:04:59,953: INFO: [HumblChannelSingleLong] Processing trade event. Trade event received for HumblChannelSingleLong strategy: new SPY, processed by broker backtesting\n",
      "2024-12-10 16:04:59,954: INFO: [HumblChannelSingleLong] \u001b[32mNew order was created: market order of | 1 SPY buy | new\u001b[0m\n",
      "2024-12-10 16:04:59,957: INFO: [HumblChannelSingleLong] Processing a new order, payload: {'order': market order of | 1 SPY buy | new}\n",
      "2024-12-10 16:04:59,958: INFO: [HumblChannelSingleLong] Getting historical prices for SPY, 1 bars, \n",
      "2024-12-10 16:04:59,962: INFO: [HumblChannelSingleLong] Processing trade event. Trade event received for HumblChannelSingleLong strategy: fill SPY, processed by broker backtesting\n",
      "2024-12-10 16:04:59,962: INFO: [HumblChannelSingleLong] \u001b[32mOrder was filled: market order of | 1 SPY buy | @ $114.7 fill\u001b[0m\n",
      "2024-12-10 16:04:59,965: INFO: [HumblChannelSingleLong] Processing a filled order, payload: {'position': HumblChannelSingleLong Position: 138.0 shares of SPY (306 orders), 'order': market order of | 1 SPY buy | @ $114.7 fill, 'price': 114.69999694824219, 'quantity': 1.0, 'multiplier': 1}\n"
     ]
    },
    {
     "name": "stdout",
     "output_type": "stream",
     "text": [
      "Progress |\u001b[32m\u001b[0m|   1.36%  [Elapsed: 0:12:18 ETA: 14:51:52] Portfolio Val: 100,471.10"
     ]
    },
    {
     "name": "stderr",
     "output_type": "stream",
     "text": [
      "2024-12-10 16:04:59,965: INFO: Current backtesting datetime 2010-03-11 14:30:00-05:00\n",
      "2024-12-10 16:04:59,970: INFO: [HumblChannelSingleLong] Processing trade event. Trade event received for HumblChannelSingleLong strategy: new SPY, processed by broker backtesting\n",
      "2024-12-10 16:04:59,970: INFO: [HumblChannelSingleLong] \u001b[32mNew order was created: market order of | 1 SPY buy | new\u001b[0m\n",
      "2024-12-10 16:04:59,973: INFO: [HumblChannelSingleLong] Processing a new order, payload: {'order': market order of | 1 SPY buy | new}\n",
      "2024-12-10 16:04:59,974: INFO: [HumblChannelSingleLong] Getting historical prices for SPY, 1 bars, \n",
      "2024-12-10 16:04:59,976: INFO: [HumblChannelSingleLong] Processing trade event. Trade event received for HumblChannelSingleLong strategy: fill SPY, processed by broker backtesting\n",
      "2024-12-10 16:04:59,977: INFO: [HumblChannelSingleLong] \u001b[32mOrder was filled: market order of | 1 SPY buy | @ $114.7 fill\u001b[0m\n",
      "2024-12-10 16:04:59,981: INFO: [HumblChannelSingleLong] Processing a filled order, payload: {'position': HumblChannelSingleLong Position: 139.0 shares of SPY (307 orders), 'order': market order of | 1 SPY buy | @ $114.7 fill, 'price': 114.69999694824219, 'quantity': 1.0, 'multiplier': 1}\n"
     ]
    },
    {
     "name": "stdout",
     "output_type": "stream",
     "text": [
      "Progress |\u001b[32m\u001b[0m|   1.36%  [Elapsed: 0:12:18 ETA: 14:51:21] Portfolio Val: 100,471.10"
     ]
    },
    {
     "name": "stderr",
     "output_type": "stream",
     "text": [
      "2024-12-10 16:04:59,982: INFO: Current backtesting datetime 2010-03-11 15:30:00-05:00\n",
      "2024-12-10 16:04:59,988: INFO: [HumblChannelSingleLong] Processing trade event. Trade event received for HumblChannelSingleLong strategy: new SPY, processed by broker backtesting\n",
      "2024-12-10 16:04:59,990: INFO: [HumblChannelSingleLong] \u001b[32mNew order was created: market order of | 1 SPY buy | new\u001b[0m\n",
      "2024-12-10 16:04:59,995: INFO: [HumblChannelSingleLong] Processing a new order, payload: {'order': market order of | 1 SPY buy | new}\n",
      "2024-12-10 16:04:59,996: INFO: [HumblChannelSingleLong] Getting historical prices for SPY, 1 bars, \n",
      "2024-12-10 16:04:59,998: INFO: [HumblChannelSingleLong] Processing trade event. Trade event received for HumblChannelSingleLong strategy: fill SPY, processed by broker backtesting\n",
      "2024-12-10 16:04:59,999: INFO: [HumblChannelSingleLong] \u001b[32mOrder was filled: market order of | 1 SPY buy | @ $114.7 fill\u001b[0m\n",
      "2024-12-10 16:05:00,001: INFO: [HumblChannelSingleLong] Processing a filled order, payload: {'position': HumblChannelSingleLong Position: 140.0 shares of SPY (308 orders), 'order': market order of | 1 SPY buy | @ $114.7 fill, 'price': 114.69999694824219, 'quantity': 1.0, 'multiplier': 1}\n"
     ]
    },
    {
     "name": "stdout",
     "output_type": "stream",
     "text": [
      "Progress |\u001b[32m\u001b[0m|   1.36%  [Elapsed: 0:12:18 ETA: 14:51:06] Portfolio Val: 100,471.10"
     ]
    },
    {
     "name": "stderr",
     "output_type": "stream",
     "text": [
      "2024-12-10 16:05:00,002: INFO: Current backtesting datetime 2010-03-11 16:00:00-05:00\n"
     ]
    },
    {
     "name": "stdout",
     "output_type": "stream",
     "text": [
      "Progress |\u001b[32m\u001b[0m|   1.36%  [Elapsed: 0:12:18 ETA: 14:50:50] Portfolio Val: 100,471.10"
     ]
    },
    {
     "name": "stderr",
     "output_type": "stream",
     "text": [
      "2024-12-10 16:05:00,003: INFO: Current backtesting datetime 2010-03-11 16:30:00-05:00\n"
     ]
    },
    {
     "name": "stdout",
     "output_type": "stream",
     "text": [
      "Progress |\u001b[32m\u001b[0m|   1.36%  [Elapsed: 0:12:18 ETA: 14:50:53] "
     ]
    },
    {
     "name": "stderr",
     "output_type": "stream",
     "text": [
      "2024-12-10 16:05:00,005: INFO: Current backtesting datetime 2010-03-11 16:25:00-05:00\n"
     ]
    },
    {
     "name": "stdout",
     "output_type": "stream",
     "text": [
      "Progress |\u001b[32m\u001b[0m|   1.36%  [Elapsed: 0:12:18 ETA: 14:50:53] "
     ]
    },
    {
     "name": "stderr",
     "output_type": "stream",
     "text": [
      "2024-12-10 16:05:00,006: INFO: Current backtesting datetime 2010-03-11 16:25:00-05:00\n"
     ]
    },
    {
     "name": "stdout",
     "output_type": "stream",
     "text": [
      "Progress |\u001b[32m\u001b[0m|   1.38%  [Elapsed: 0:12:18 ETA: 14:42:17] "
     ]
    },
    {
     "name": "stderr",
     "output_type": "stream",
     "text": [
      "2024-12-10 16:05:00,029: INFO: Current backtesting datetime 2010-03-12 08:30:00-05:00\n"
     ]
    },
    {
     "name": "stdout",
     "output_type": "stream",
     "text": [
      "Progress |\u001b[32m\u001b[0m|   1.38%  [Elapsed: 0:12:19 ETA: 14:42:23] "
     ]
    },
    {
     "name": "stderr",
     "output_type": "stream",
     "text": [
      "2024-12-10 16:05:00,529: INFO: Current backtesting datetime 2010-03-12 09:30:00-05:00\n",
      "2024-12-10 16:05:00,534: INFO: [HumblChannelSingleLong] Processing trade event. Trade event received for HumblChannelSingleLong strategy: new SPY, processed by broker backtesting\n",
      "2024-12-10 16:05:00,535: INFO: [HumblChannelSingleLong] \u001b[32mNew order was created: market order of | 1 SPY buy | new\u001b[0m\n",
      "2024-12-10 16:05:00,537: INFO: [HumblChannelSingleLong] Processing a new order, payload: {'order': market order of | 1 SPY buy | new}\n",
      "2024-12-10 16:05:00,538: INFO: [HumblChannelSingleLong] Getting historical prices for SPY, 1 bars, \n",
      "2024-12-10 16:05:00,540: INFO: [HumblChannelSingleLong] Processing trade event. Trade event received for HumblChannelSingleLong strategy: fill SPY, processed by broker backtesting\n",
      "2024-12-10 16:05:00,540: INFO: [HumblChannelSingleLong] \u001b[32mOrder was filled: market order of | 1 SPY buy | @ $115.95 fill\u001b[0m\n",
      "2024-12-10 16:05:00,543: INFO: [HumblChannelSingleLong] Processing a filled order, payload: {'position': HumblChannelSingleLong Position: 141.0 shares of SPY (309 orders), 'order': market order of | 1 SPY buy | @ $115.95 fill, 'price': 115.94999694824219, 'quantity': 1.0, 'multiplier': 1}\n"
     ]
    },
    {
     "name": "stdout",
     "output_type": "stream",
     "text": [
      "Progress |\u001b[32m\u001b[0m|   1.38%  [Elapsed: 0:12:19 ETA: 14:41:52] Portfolio Val: 100,646.10"
     ]
    },
    {
     "name": "stderr",
     "output_type": "stream",
     "text": [
      "2024-12-10 16:05:00,544: INFO: Current backtesting datetime 2010-03-12 10:30:00-05:00\n",
      "2024-12-10 16:05:00,551: INFO: [HumblChannelSingleLong] Processing trade event. Trade event received for HumblChannelSingleLong strategy: new SPY, processed by broker backtesting\n",
      "2024-12-10 16:05:00,551: INFO: [HumblChannelSingleLong] \u001b[32mNew order was created: market order of | 1 SPY buy | new\u001b[0m\n",
      "2024-12-10 16:05:00,554: INFO: [HumblChannelSingleLong] Processing a new order, payload: {'order': market order of | 1 SPY buy | new}\n",
      "2024-12-10 16:05:00,554: INFO: [HumblChannelSingleLong] Getting historical prices for SPY, 1 bars, \n",
      "2024-12-10 16:05:00,556: INFO: [HumblChannelSingleLong] Processing trade event. Trade event received for HumblChannelSingleLong strategy: fill SPY, processed by broker backtesting\n",
      "2024-12-10 16:05:00,557: INFO: [HumblChannelSingleLong] \u001b[32mOrder was filled: market order of | 1 SPY buy | @ $115.95 fill\u001b[0m\n",
      "2024-12-10 16:05:00,559: INFO: [HumblChannelSingleLong] Processing a filled order, payload: {'position': HumblChannelSingleLong Position: 142.0 shares of SPY (310 orders), 'order': market order of | 1 SPY buy | @ $115.95 fill, 'price': 115.94999694824219, 'quantity': 1.0, 'multiplier': 1}\n"
     ]
    },
    {
     "name": "stdout",
     "output_type": "stream",
     "text": [
      "Progress |\u001b[32m\u001b[0m|   1.38%  [Elapsed: 0:12:19 ETA: 14:41:21] Portfolio Val: 100,646.10"
     ]
    },
    {
     "name": "stderr",
     "output_type": "stream",
     "text": [
      "2024-12-10 16:05:00,560: INFO: Current backtesting datetime 2010-03-12 11:30:00-05:00\n",
      "2024-12-10 16:05:00,565: INFO: [HumblChannelSingleLong] Processing trade event. Trade event received for HumblChannelSingleLong strategy: new SPY, processed by broker backtesting\n",
      "2024-12-10 16:05:00,565: INFO: [HumblChannelSingleLong] \u001b[32mNew order was created: market order of | 1 SPY buy | new\u001b[0m\n",
      "2024-12-10 16:05:00,568: INFO: [HumblChannelSingleLong] Processing a new order, payload: {'order': market order of | 1 SPY buy | new}\n",
      "2024-12-10 16:05:00,569: INFO: [HumblChannelSingleLong] Getting historical prices for SPY, 1 bars, \n",
      "2024-12-10 16:05:00,571: INFO: [HumblChannelSingleLong] Processing trade event. Trade event received for HumblChannelSingleLong strategy: fill SPY, processed by broker backtesting\n",
      "2024-12-10 16:05:00,571: INFO: [HumblChannelSingleLong] \u001b[32mOrder was filled: market order of | 1 SPY buy | @ $115.95 fill\u001b[0m\n",
      "2024-12-10 16:05:00,573: INFO: [HumblChannelSingleLong] Processing a filled order, payload: {'position': HumblChannelSingleLong Position: 143.0 shares of SPY (311 orders), 'order': market order of | 1 SPY buy | @ $115.95 fill, 'price': 115.94999694824219, 'quantity': 1.0, 'multiplier': 1}\n"
     ]
    },
    {
     "name": "stdout",
     "output_type": "stream",
     "text": [
      "Progress |\u001b[32m\u001b[0m|   1.38%  [Elapsed: 0:12:19 ETA: 14:40:51] Portfolio Val: 100,646.10"
     ]
    },
    {
     "name": "stderr",
     "output_type": "stream",
     "text": [
      "2024-12-10 16:05:00,574: INFO: Current backtesting datetime 2010-03-12 12:30:00-05:00\n",
      "2024-12-10 16:05:00,578: INFO: [HumblChannelSingleLong] Processing trade event. Trade event received for HumblChannelSingleLong strategy: new SPY, processed by broker backtesting\n",
      "2024-12-10 16:05:00,578: INFO: [HumblChannelSingleLong] \u001b[32mNew order was created: market order of | 1 SPY buy | new\u001b[0m\n",
      "2024-12-10 16:05:00,581: INFO: [HumblChannelSingleLong] Processing a new order, payload: {'order': market order of | 1 SPY buy | new}\n",
      "2024-12-10 16:05:00,582: INFO: [HumblChannelSingleLong] Getting historical prices for SPY, 1 bars, \n",
      "2024-12-10 16:05:00,584: INFO: [HumblChannelSingleLong] Processing trade event. Trade event received for HumblChannelSingleLong strategy: fill SPY, processed by broker backtesting\n",
      "2024-12-10 16:05:00,584: INFO: [HumblChannelSingleLong] \u001b[32mOrder was filled: market order of | 1 SPY buy | @ $115.95 fill\u001b[0m\n",
      "2024-12-10 16:05:00,587: INFO: [HumblChannelSingleLong] Processing a filled order, payload: {'position': HumblChannelSingleLong Position: 144.0 shares of SPY (312 orders), 'order': market order of | 1 SPY buy | @ $115.95 fill, 'price': 115.94999694824219, 'quantity': 1.0, 'multiplier': 1}\n"
     ]
    },
    {
     "name": "stdout",
     "output_type": "stream",
     "text": [
      "Progress |\u001b[32m\u001b[0m|   1.38%  [Elapsed: 0:12:19 ETA: 14:40:20] Portfolio Val: 100,646.10"
     ]
    },
    {
     "name": "stderr",
     "output_type": "stream",
     "text": [
      "2024-12-10 16:05:00,587: INFO: Current backtesting datetime 2010-03-12 13:30:00-05:00\n",
      "2024-12-10 16:05:00,592: INFO: [HumblChannelSingleLong] Processing trade event. Trade event received for HumblChannelSingleLong strategy: new SPY, processed by broker backtesting\n",
      "2024-12-10 16:05:00,592: INFO: [HumblChannelSingleLong] \u001b[32mNew order was created: market order of | 1 SPY buy | new\u001b[0m\n",
      "2024-12-10 16:05:00,596: INFO: [HumblChannelSingleLong] Processing a new order, payload: {'order': market order of | 1 SPY buy | new}\n",
      "2024-12-10 16:05:00,596: INFO: [HumblChannelSingleLong] Getting historical prices for SPY, 1 bars, \n",
      "2024-12-10 16:05:00,598: INFO: [HumblChannelSingleLong] Processing trade event. Trade event received for HumblChannelSingleLong strategy: fill SPY, processed by broker backtesting\n",
      "2024-12-10 16:05:00,598: INFO: [HumblChannelSingleLong] \u001b[32mOrder was filled: market order of | 1 SPY buy | @ $115.95 fill\u001b[0m\n",
      "2024-12-10 16:05:00,600: INFO: [HumblChannelSingleLong] Processing a filled order, payload: {'position': HumblChannelSingleLong Position: 145.0 shares of SPY (313 orders), 'order': market order of | 1 SPY buy | @ $115.95 fill, 'price': 115.94999694824219, 'quantity': 1.0, 'multiplier': 1}\n"
     ]
    },
    {
     "name": "stdout",
     "output_type": "stream",
     "text": [
      "Progress |\u001b[32m\u001b[0m|   1.38%  [Elapsed: 0:12:19 ETA: 14:39:49] Portfolio Val: 100,646.10"
     ]
    },
    {
     "name": "stderr",
     "output_type": "stream",
     "text": [
      "2024-12-10 16:05:00,601: INFO: Current backtesting datetime 2010-03-12 14:30:00-05:00\n",
      "2024-12-10 16:05:00,605: INFO: [HumblChannelSingleLong] Processing trade event. Trade event received for HumblChannelSingleLong strategy: new SPY, processed by broker backtesting\n",
      "2024-12-10 16:05:00,605: INFO: [HumblChannelSingleLong] \u001b[32mNew order was created: market order of | 1 SPY buy | new\u001b[0m\n",
      "2024-12-10 16:05:00,607: INFO: [HumblChannelSingleLong] Processing a new order, payload: {'order': market order of | 1 SPY buy | new}\n",
      "2024-12-10 16:05:00,609: INFO: [HumblChannelSingleLong] Getting historical prices for SPY, 1 bars, \n",
      "2024-12-10 16:05:00,613: INFO: [HumblChannelSingleLong] Processing trade event. Trade event received for HumblChannelSingleLong strategy: fill SPY, processed by broker backtesting\n",
      "2024-12-10 16:05:00,613: INFO: [HumblChannelSingleLong] \u001b[32mOrder was filled: market order of | 1 SPY buy | @ $115.95 fill\u001b[0m\n",
      "2024-12-10 16:05:00,615: INFO: [HumblChannelSingleLong] Processing a filled order, payload: {'position': HumblChannelSingleLong Position: 146.0 shares of SPY (314 orders), 'order': market order of | 1 SPY buy | @ $115.95 fill, 'price': 115.94999694824219, 'quantity': 1.0, 'multiplier': 1}\n"
     ]
    },
    {
     "name": "stdout",
     "output_type": "stream",
     "text": [
      "Progress |\u001b[32m\u001b[0m|   1.38%  [Elapsed: 0:12:19 ETA: 14:39:19] Portfolio Val: 100,646.10"
     ]
    },
    {
     "name": "stderr",
     "output_type": "stream",
     "text": [
      "2024-12-10 16:05:00,616: INFO: Current backtesting datetime 2010-03-12 15:30:00-05:00\n",
      "2024-12-10 16:05:00,620: INFO: [HumblChannelSingleLong] Processing trade event. Trade event received for HumblChannelSingleLong strategy: new SPY, processed by broker backtesting\n",
      "2024-12-10 16:05:00,620: INFO: [HumblChannelSingleLong] \u001b[32mNew order was created: market order of | 1 SPY buy | new\u001b[0m\n",
      "2024-12-10 16:05:00,622: INFO: [HumblChannelSingleLong] Processing a new order, payload: {'order': market order of | 1 SPY buy | new}\n",
      "2024-12-10 16:05:00,623: INFO: [HumblChannelSingleLong] Getting historical prices for SPY, 1 bars, \n",
      "2024-12-10 16:05:00,625: INFO: [HumblChannelSingleLong] Processing trade event. Trade event received for HumblChannelSingleLong strategy: fill SPY, processed by broker backtesting\n",
      "2024-12-10 16:05:00,625: INFO: [HumblChannelSingleLong] \u001b[32mOrder was filled: market order of | 1 SPY buy | @ $115.95 fill\u001b[0m\n",
      "2024-12-10 16:05:00,628: INFO: [HumblChannelSingleLong] Processing a filled order, payload: {'position': HumblChannelSingleLong Position: 147.0 shares of SPY (315 orders), 'order': market order of | 1 SPY buy | @ $115.95 fill, 'price': 115.94999694824219, 'quantity': 1.0, 'multiplier': 1}\n"
     ]
    },
    {
     "name": "stdout",
     "output_type": "stream",
     "text": [
      "Progress |\u001b[32m\u001b[0m|   1.38%  [Elapsed: 0:12:19 ETA: 14:39:04] Portfolio Val: 100,646.10"
     ]
    },
    {
     "name": "stderr",
     "output_type": "stream",
     "text": [
      "2024-12-10 16:05:00,628: INFO: Current backtesting datetime 2010-03-12 16:00:00-05:00\n"
     ]
    },
    {
     "name": "stdout",
     "output_type": "stream",
     "text": [
      "Progress |\u001b[32m\u001b[0m|   1.38%  [Elapsed: 0:12:19 ETA: 14:38:48] Portfolio Val: 100,646.10"
     ]
    },
    {
     "name": "stderr",
     "output_type": "stream",
     "text": [
      "2024-12-10 16:05:00,629: INFO: Current backtesting datetime 2010-03-12 16:30:00-05:00\n"
     ]
    },
    {
     "name": "stdout",
     "output_type": "stream",
     "text": [
      "Progress |\u001b[32m\u001b[0m|   1.38%  [Elapsed: 0:12:19 ETA: 14:38:51] "
     ]
    },
    {
     "name": "stderr",
     "output_type": "stream",
     "text": [
      "2024-12-10 16:05:00,630: INFO: Current backtesting datetime 2010-03-12 16:25:00-05:00\n"
     ]
    },
    {
     "name": "stdout",
     "output_type": "stream",
     "text": [
      "Progress |\u001b[32m\u001b[0m|   1.38%  [Elapsed: 0:12:19 ETA: 14:38:51] "
     ]
    },
    {
     "name": "stderr",
     "output_type": "stream",
     "text": [
      "2024-12-10 16:05:00,631: INFO: Current backtesting datetime 2010-03-12 16:25:00-05:00\n"
     ]
    },
    {
     "name": "stdout",
     "output_type": "stream",
     "text": [
      "Progress |\u001b[32m\u001b[0m|   1.43%  [Elapsed: 0:12:19 ETA: 14:06:54] "
     ]
    },
    {
     "name": "stderr",
     "output_type": "stream",
     "text": [
      "2024-12-10 16:05:00,633: INFO: Current backtesting datetime 2010-03-15 07:30:00-05:00\n"
     ]
    },
    {
     "name": "stdout",
     "output_type": "stream",
     "text": [
      "Progress |\u001b[32m\u001b[0m|   1.43%  [Elapsed: 0:12:19 ETA: 14:06:38] "
     ]
    },
    {
     "name": "stderr",
     "output_type": "stream",
     "text": [
      "2024-12-10 16:05:00,820: INFO: Current backtesting datetime 2010-03-15 08:30:00-05:00\n",
      "2024-12-10 16:05:00,824: INFO: [HumblChannelSingleLong] Processing trade event. Trade event received for HumblChannelSingleLong strategy: new SPY, processed by broker backtesting\n",
      "2024-12-10 16:05:00,825: INFO: [HumblChannelSingleLong] \u001b[32mNew order was created: market order of | 1 SPY buy | new\u001b[0m\n",
      "2024-12-10 16:05:00,827: INFO: [HumblChannelSingleLong] Processing a new order, payload: {'order': market order of | 1 SPY buy | new}\n",
      "2024-12-10 16:05:00,828: INFO: [HumblChannelSingleLong] Getting historical prices for SPY, 1 bars, \n",
      "2024-12-10 16:05:00,829: INFO: [HumblChannelSingleLong] Processing trade event. Trade event received for HumblChannelSingleLong strategy: fill SPY, processed by broker backtesting\n",
      "2024-12-10 16:05:00,830: INFO: [HumblChannelSingleLong] \u001b[32mOrder was filled: market order of | 1 SPY buy | @ $115.81 fill\u001b[0m\n",
      "2024-12-10 16:05:00,832: INFO: [HumblChannelSingleLong] Processing a filled order, payload: {'position': HumblChannelSingleLong Position: 148.0 shares of SPY (316 orders), 'order': market order of | 1 SPY buy | @ $115.81 fill, 'price': 115.80999755859375, 'quantity': 1.0, 'multiplier': 1}\n"
     ]
    },
    {
     "name": "stdout",
     "output_type": "stream",
     "text": [
      "Progress |\u001b[32m\u001b[0m|   1.44%  [Elapsed: 0:12:19 ETA: 14:06:09] Portfolio Val: 100,625.52"
     ]
    },
    {
     "name": "stderr",
     "output_type": "stream",
     "text": [
      "2024-12-10 16:05:00,832: INFO: Current backtesting datetime 2010-03-15 09:30:00-05:00\n",
      "2024-12-10 16:05:00,837: INFO: [HumblChannelSingleLong] Processing trade event. Trade event received for HumblChannelSingleLong strategy: new SPY, processed by broker backtesting\n",
      "2024-12-10 16:05:00,837: INFO: [HumblChannelSingleLong] \u001b[32mNew order was created: market order of | 1 SPY buy | new\u001b[0m\n",
      "2024-12-10 16:05:00,840: INFO: [HumblChannelSingleLong] Processing a new order, payload: {'order': market order of | 1 SPY buy | new}\n",
      "2024-12-10 16:05:00,840: INFO: [HumblChannelSingleLong] Getting historical prices for SPY, 1 bars, \n",
      "2024-12-10 16:05:00,842: INFO: [HumblChannelSingleLong] Processing trade event. Trade event received for HumblChannelSingleLong strategy: fill SPY, processed by broker backtesting\n",
      "2024-12-10 16:05:00,842: INFO: [HumblChannelSingleLong] \u001b[32mOrder was filled: market order of | 1 SPY buy | @ $115.81 fill\u001b[0m\n",
      "2024-12-10 16:05:00,844: INFO: [HumblChannelSingleLong] Processing a filled order, payload: {'position': HumblChannelSingleLong Position: 149.0 shares of SPY (317 orders), 'order': market order of | 1 SPY buy | @ $115.81 fill, 'price': 115.80999755859375, 'quantity': 1.0, 'multiplier': 1}\n"
     ]
    },
    {
     "name": "stdout",
     "output_type": "stream",
     "text": [
      "Progress |\u001b[32m\u001b[0m|   1.44%  [Elapsed: 0:12:19 ETA: 14:05:41] Portfolio Val: 100,625.52"
     ]
    },
    {
     "name": "stderr",
     "output_type": "stream",
     "text": [
      "2024-12-10 16:05:00,845: INFO: Current backtesting datetime 2010-03-15 10:30:00-05:00\n",
      "2024-12-10 16:05:00,851: INFO: [HumblChannelSingleLong] Processing trade event. Trade event received for HumblChannelSingleLong strategy: new SPY, processed by broker backtesting\n",
      "2024-12-10 16:05:00,851: INFO: [HumblChannelSingleLong] \u001b[32mNew order was created: market order of | 1 SPY buy | new\u001b[0m\n",
      "2024-12-10 16:05:00,854: INFO: [HumblChannelSingleLong] Processing a new order, payload: {'order': market order of | 1 SPY buy | new}\n",
      "2024-12-10 16:05:00,854: INFO: [HumblChannelSingleLong] Getting historical prices for SPY, 1 bars, \n",
      "2024-12-10 16:05:00,856: INFO: [HumblChannelSingleLong] Processing trade event. Trade event received for HumblChannelSingleLong strategy: fill SPY, processed by broker backtesting\n",
      "2024-12-10 16:05:00,856: INFO: [HumblChannelSingleLong] \u001b[32mOrder was filled: market order of | 1 SPY buy | @ $115.81 fill\u001b[0m\n",
      "2024-12-10 16:05:00,858: INFO: [HumblChannelSingleLong] Processing a filled order, payload: {'position': HumblChannelSingleLong Position: 150.0 shares of SPY (318 orders), 'order': market order of | 1 SPY buy | @ $115.81 fill, 'price': 115.80999755859375, 'quantity': 1.0, 'multiplier': 1}\n"
     ]
    },
    {
     "name": "stdout",
     "output_type": "stream",
     "text": [
      "Progress |\u001b[32m\u001b[0m|   1.44%  [Elapsed: 0:12:19 ETA: 14:05:13] Portfolio Val: 100,625.52"
     ]
    },
    {
     "name": "stderr",
     "output_type": "stream",
     "text": [
      "2024-12-10 16:05:00,859: INFO: Current backtesting datetime 2010-03-15 11:30:00-05:00\n",
      "2024-12-10 16:05:00,863: INFO: [HumblChannelSingleLong] Processing trade event. Trade event received for HumblChannelSingleLong strategy: new SPY, processed by broker backtesting\n",
      "2024-12-10 16:05:00,863: INFO: [HumblChannelSingleLong] \u001b[32mNew order was created: market order of | 1 SPY buy | new\u001b[0m\n",
      "2024-12-10 16:05:00,866: INFO: [HumblChannelSingleLong] Processing a new order, payload: {'order': market order of | 1 SPY buy | new}\n",
      "2024-12-10 16:05:00,866: INFO: [HumblChannelSingleLong] Getting historical prices for SPY, 1 bars, \n",
      "2024-12-10 16:05:00,868: INFO: [HumblChannelSingleLong] Processing trade event. Trade event received for HumblChannelSingleLong strategy: fill SPY, processed by broker backtesting\n",
      "2024-12-10 16:05:00,869: INFO: [HumblChannelSingleLong] \u001b[32mOrder was filled: market order of | 1 SPY buy | @ $115.81 fill\u001b[0m\n",
      "2024-12-10 16:05:00,871: INFO: [HumblChannelSingleLong] Processing a filled order, payload: {'position': HumblChannelSingleLong Position: 151.0 shares of SPY (319 orders), 'order': market order of | 1 SPY buy | @ $115.81 fill, 'price': 115.80999755859375, 'quantity': 1.0, 'multiplier': 1}\n"
     ]
    },
    {
     "name": "stdout",
     "output_type": "stream",
     "text": [
      "Progress |\u001b[32m\u001b[0m|   1.44%  [Elapsed: 0:12:19 ETA: 14:04:44] Portfolio Val: 100,625.52"
     ]
    },
    {
     "name": "stderr",
     "output_type": "stream",
     "text": [
      "2024-12-10 16:05:00,871: INFO: Current backtesting datetime 2010-03-15 12:30:00-05:00\n",
      "2024-12-10 16:05:00,875: INFO: [HumblChannelSingleLong] Processing trade event. Trade event received for HumblChannelSingleLong strategy: new SPY, processed by broker backtesting\n",
      "2024-12-10 16:05:00,875: INFO: [HumblChannelSingleLong] \u001b[32mNew order was created: market order of | 1 SPY buy | new\u001b[0m\n",
      "2024-12-10 16:05:00,878: INFO: [HumblChannelSingleLong] Processing a new order, payload: {'order': market order of | 1 SPY buy | new}\n",
      "2024-12-10 16:05:00,878: INFO: [HumblChannelSingleLong] Getting historical prices for SPY, 1 bars, \n",
      "2024-12-10 16:05:00,880: INFO: [HumblChannelSingleLong] Processing trade event. Trade event received for HumblChannelSingleLong strategy: fill SPY, processed by broker backtesting\n",
      "2024-12-10 16:05:00,880: INFO: [HumblChannelSingleLong] \u001b[32mOrder was filled: market order of | 1 SPY buy | @ $115.81 fill\u001b[0m\n",
      "2024-12-10 16:05:00,883: INFO: [HumblChannelSingleLong] Processing a filled order, payload: {'position': HumblChannelSingleLong Position: 152.0 shares of SPY (320 orders), 'order': market order of | 1 SPY buy | @ $115.81 fill, 'price': 115.80999755859375, 'quantity': 1.0, 'multiplier': 1}\n"
     ]
    },
    {
     "name": "stdout",
     "output_type": "stream",
     "text": [
      "Progress |\u001b[32m\u001b[0m|   1.44%  [Elapsed: 0:12:19 ETA: 14:04:16] Portfolio Val: 100,625.52"
     ]
    },
    {
     "name": "stderr",
     "output_type": "stream",
     "text": [
      "2024-12-10 16:05:00,883: INFO: Current backtesting datetime 2010-03-15 13:30:00-05:00\n",
      "2024-12-10 16:05:00,887: INFO: [HumblChannelSingleLong] Processing trade event. Trade event received for HumblChannelSingleLong strategy: new SPY, processed by broker backtesting\n",
      "2024-12-10 16:05:00,887: INFO: [HumblChannelSingleLong] \u001b[32mNew order was created: market order of | 1 SPY buy | new\u001b[0m\n",
      "2024-12-10 16:05:00,890: INFO: [HumblChannelSingleLong] Processing a new order, payload: {'order': market order of | 1 SPY buy | new}\n",
      "2024-12-10 16:05:00,890: INFO: [HumblChannelSingleLong] Getting historical prices for SPY, 1 bars, \n",
      "2024-12-10 16:05:00,892: INFO: [HumblChannelSingleLong] Processing trade event. Trade event received for HumblChannelSingleLong strategy: fill SPY, processed by broker backtesting\n",
      "2024-12-10 16:05:00,892: INFO: [HumblChannelSingleLong] \u001b[32mOrder was filled: market order of | 1 SPY buy | @ $115.81 fill\u001b[0m\n",
      "2024-12-10 16:05:00,894: INFO: [HumblChannelSingleLong] Processing a filled order, payload: {'position': HumblChannelSingleLong Position: 153.0 shares of SPY (321 orders), 'order': market order of | 1 SPY buy | @ $115.81 fill, 'price': 115.80999755859375, 'quantity': 1.0, 'multiplier': 1}\n"
     ]
    },
    {
     "name": "stdout",
     "output_type": "stream",
     "text": [
      "Progress |\u001b[32m\u001b[0m|   1.44%  [Elapsed: 0:12:19 ETA: 14:03:48] Portfolio Val: 100,625.52"
     ]
    },
    {
     "name": "stderr",
     "output_type": "stream",
     "text": [
      "2024-12-10 16:05:00,895: INFO: Current backtesting datetime 2010-03-15 14:30:00-05:00\n",
      "2024-12-10 16:05:00,899: INFO: [HumblChannelSingleLong] Processing trade event. Trade event received for HumblChannelSingleLong strategy: new SPY, processed by broker backtesting\n",
      "2024-12-10 16:05:00,899: INFO: [HumblChannelSingleLong] \u001b[32mNew order was created: market order of | 1 SPY buy | new\u001b[0m\n",
      "2024-12-10 16:05:00,902: INFO: [HumblChannelSingleLong] Processing a new order, payload: {'order': market order of | 1 SPY buy | new}\n",
      "2024-12-10 16:05:00,903: INFO: [HumblChannelSingleLong] Getting historical prices for SPY, 1 bars, \n",
      "2024-12-10 16:05:00,905: INFO: [HumblChannelSingleLong] Processing trade event. Trade event received for HumblChannelSingleLong strategy: fill SPY, processed by broker backtesting\n",
      "2024-12-10 16:05:00,905: INFO: [HumblChannelSingleLong] \u001b[32mOrder was filled: market order of | 1 SPY buy | @ $115.81 fill\u001b[0m\n",
      "2024-12-10 16:05:00,907: INFO: [HumblChannelSingleLong] Processing a filled order, payload: {'position': HumblChannelSingleLong Position: 154.0 shares of SPY (322 orders), 'order': market order of | 1 SPY buy | @ $115.81 fill, 'price': 115.80999755859375, 'quantity': 1.0, 'multiplier': 1}\n"
     ]
    },
    {
     "name": "stdout",
     "output_type": "stream",
     "text": [
      "Progress |\u001b[32m\u001b[0m|   1.44%  [Elapsed: 0:12:19 ETA: 14:03:34] Portfolio Val: 100,625.52"
     ]
    },
    {
     "name": "stderr",
     "output_type": "stream",
     "text": [
      "2024-12-10 16:05:00,907: INFO: Current backtesting datetime 2010-03-15 15:00:00-05:00\n"
     ]
    },
    {
     "name": "stdout",
     "output_type": "stream",
     "text": [
      "Progress |\u001b[32m\u001b[0m|   1.44%  [Elapsed: 0:12:19 ETA: 14:03:19] Portfolio Val: 100,625.52"
     ]
    },
    {
     "name": "stderr",
     "output_type": "stream",
     "text": [
      "2024-12-10 16:05:00,908: INFO: Current backtesting datetime 2010-03-15 15:30:00-05:00\n"
     ]
    },
    {
     "name": "stdout",
     "output_type": "stream",
     "text": [
      "Progress |\u001b[32m\u001b[0m|   1.44%  [Elapsed: 0:12:19 ETA: 14:03:22] "
     ]
    },
    {
     "name": "stderr",
     "output_type": "stream",
     "text": [
      "2024-12-10 16:05:00,910: INFO: Current backtesting datetime 2010-03-15 15:25:00-05:00\n"
     ]
    },
    {
     "name": "stdout",
     "output_type": "stream",
     "text": [
      "Progress |\u001b[32m\u001b[0m|   1.44%  [Elapsed: 0:12:19 ETA: 14:03:22] "
     ]
    },
    {
     "name": "stderr",
     "output_type": "stream",
     "text": [
      "2024-12-10 16:05:00,910: INFO: Current backtesting datetime 2010-03-15 15:25:00-05:00\n"
     ]
    },
    {
     "name": "stdout",
     "output_type": "stream",
     "text": [
      "Progress |\u001b[32m\u001b[0m|   1.45%  [Elapsed: 0:12:19 ETA: 13:55:39] "
     ]
    },
    {
     "name": "stderr",
     "output_type": "stream",
     "text": [
      "2024-12-10 16:05:00,912: INFO: Current backtesting datetime 2010-03-16 07:30:00-05:00\n"
     ]
    },
    {
     "name": "stdout",
     "output_type": "stream",
     "text": [
      "Progress |\u001b[32m\u001b[0m|   1.45%  [Elapsed: 0:12:19 ETA: 13:55:39] "
     ]
    },
    {
     "name": "stderr",
     "output_type": "stream",
     "text": [
      "2024-12-10 16:05:01,338: INFO: Current backtesting datetime 2010-03-16 08:30:00-05:00\n",
      "2024-12-10 16:05:01,342: INFO: [HumblChannelSingleLong] Processing trade event. Trade event received for HumblChannelSingleLong strategy: new SPY, processed by broker backtesting\n",
      "2024-12-10 16:05:01,342: INFO: [HumblChannelSingleLong] \u001b[32mNew order was created: market order of | 1 SPY buy | new\u001b[0m\n",
      "2024-12-10 16:05:01,345: INFO: [HumblChannelSingleLong] Processing a new order, payload: {'order': market order of | 1 SPY buy | new}\n",
      "2024-12-10 16:05:01,345: INFO: [HumblChannelSingleLong] Getting historical prices for SPY, 1 bars, \n",
      "2024-12-10 16:05:01,347: INFO: [HumblChannelSingleLong] Processing trade event. Trade event received for HumblChannelSingleLong strategy: fill SPY, processed by broker backtesting\n",
      "2024-12-10 16:05:01,347: INFO: [HumblChannelSingleLong] \u001b[32mOrder was filled: market order of | 1 SPY buy | @ $116.76 fill\u001b[0m\n",
      "2024-12-10 16:05:01,349: INFO: [HumblChannelSingleLong] Processing a filled order, payload: {'position': HumblChannelSingleLong Position: 155.0 shares of SPY (323 orders), 'order': market order of | 1 SPY buy | @ $116.76 fill, 'price': 116.76000213623047, 'quantity': 1.0, 'multiplier': 1}\n"
     ]
    },
    {
     "name": "stdout",
     "output_type": "stream",
     "text": [
      "Progress |\u001b[32m\u001b[0m|   1.46%  [Elapsed: 0:12:19 ETA: 13:55:12] Portfolio Val: 100,771.82"
     ]
    },
    {
     "name": "stderr",
     "output_type": "stream",
     "text": [
      "2024-12-10 16:05:01,350: INFO: Current backtesting datetime 2010-03-16 09:30:00-05:00\n",
      "2024-12-10 16:05:01,354: INFO: [HumblChannelSingleLong] Processing trade event. Trade event received for HumblChannelSingleLong strategy: new SPY, processed by broker backtesting\n",
      "2024-12-10 16:05:01,354: INFO: [HumblChannelSingleLong] \u001b[32mNew order was created: market order of | 1 SPY buy | new\u001b[0m\n",
      "2024-12-10 16:05:01,357: INFO: [HumblChannelSingleLong] Processing a new order, payload: {'order': market order of | 1 SPY buy | new}\n",
      "2024-12-10 16:05:01,357: INFO: [HumblChannelSingleLong] Getting historical prices for SPY, 1 bars, \n",
      "2024-12-10 16:05:01,359: INFO: [HumblChannelSingleLong] Processing trade event. Trade event received for HumblChannelSingleLong strategy: fill SPY, processed by broker backtesting\n",
      "2024-12-10 16:05:01,360: INFO: [HumblChannelSingleLong] \u001b[32mOrder was filled: market order of | 1 SPY buy | @ $116.76 fill\u001b[0m\n",
      "2024-12-10 16:05:01,362: INFO: [HumblChannelSingleLong] Processing a filled order, payload: {'position': HumblChannelSingleLong Position: 156.0 shares of SPY (324 orders), 'order': market order of | 1 SPY buy | @ $116.76 fill, 'price': 116.76000213623047, 'quantity': 1.0, 'multiplier': 1}\n"
     ]
    },
    {
     "name": "stdout",
     "output_type": "stream",
     "text": [
      "Progress |\u001b[32m\u001b[0m|   1.46%  [Elapsed: 0:12:19 ETA: 13:54:44] Portfolio Val: 100,771.82"
     ]
    },
    {
     "name": "stderr",
     "output_type": "stream",
     "text": [
      "2024-12-10 16:05:01,362: INFO: Current backtesting datetime 2010-03-16 10:30:00-05:00\n",
      "2024-12-10 16:05:01,367: INFO: [HumblChannelSingleLong] Processing trade event. Trade event received for HumblChannelSingleLong strategy: new SPY, processed by broker backtesting\n",
      "2024-12-10 16:05:01,367: INFO: [HumblChannelSingleLong] \u001b[32mNew order was created: market order of | 1 SPY buy | new\u001b[0m\n",
      "2024-12-10 16:05:01,370: INFO: [HumblChannelSingleLong] Processing a new order, payload: {'order': market order of | 1 SPY buy | new}\n",
      "2024-12-10 16:05:01,370: INFO: [HumblChannelSingleLong] Getting historical prices for SPY, 1 bars, \n",
      "2024-12-10 16:05:01,372: INFO: [HumblChannelSingleLong] Processing trade event. Trade event received for HumblChannelSingleLong strategy: fill SPY, processed by broker backtesting\n",
      "2024-12-10 16:05:01,372: INFO: [HumblChannelSingleLong] \u001b[32mOrder was filled: market order of | 1 SPY buy | @ $116.76 fill\u001b[0m\n",
      "2024-12-10 16:05:01,374: INFO: [HumblChannelSingleLong] Processing a filled order, payload: {'position': HumblChannelSingleLong Position: 157.0 shares of SPY (325 orders), 'order': market order of | 1 SPY buy | @ $116.76 fill, 'price': 116.76000213623047, 'quantity': 1.0, 'multiplier': 1}\n"
     ]
    },
    {
     "name": "stdout",
     "output_type": "stream",
     "text": [
      "Progress |\u001b[32m\u001b[0m|   1.46%  [Elapsed: 0:12:19 ETA: 13:54:17] Portfolio Val: 100,771.82"
     ]
    },
    {
     "name": "stderr",
     "output_type": "stream",
     "text": [
      "2024-12-10 16:05:01,375: INFO: Current backtesting datetime 2010-03-16 11:30:00-05:00\n",
      "2024-12-10 16:05:01,380: INFO: [HumblChannelSingleLong] Processing trade event. Trade event received for HumblChannelSingleLong strategy: new SPY, processed by broker backtesting\n",
      "2024-12-10 16:05:01,380: INFO: [HumblChannelSingleLong] \u001b[32mNew order was created: market order of | 1 SPY buy | new\u001b[0m\n",
      "2024-12-10 16:05:01,383: INFO: [HumblChannelSingleLong] Processing a new order, payload: {'order': market order of | 1 SPY buy | new}\n",
      "2024-12-10 16:05:01,383: INFO: [HumblChannelSingleLong] Getting historical prices for SPY, 1 bars, \n",
      "2024-12-10 16:05:01,385: INFO: [HumblChannelSingleLong] Processing trade event. Trade event received for HumblChannelSingleLong strategy: fill SPY, processed by broker backtesting\n",
      "2024-12-10 16:05:01,385: INFO: [HumblChannelSingleLong] \u001b[32mOrder was filled: market order of | 1 SPY buy | @ $116.76 fill\u001b[0m\n",
      "2024-12-10 16:05:01,389: INFO: [HumblChannelSingleLong] Processing a filled order, payload: {'position': HumblChannelSingleLong Position: 158.0 shares of SPY (326 orders), 'order': market order of | 1 SPY buy | @ $116.76 fill, 'price': 116.76000213623047, 'quantity': 1.0, 'multiplier': 1}\n"
     ]
    },
    {
     "name": "stdout",
     "output_type": "stream",
     "text": [
      "Progress |\u001b[32m\u001b[0m|   1.46%  [Elapsed: 0:12:19 ETA: 13:53:49] Portfolio Val: 100,771.82"
     ]
    },
    {
     "name": "stderr",
     "output_type": "stream",
     "text": [
      "2024-12-10 16:05:01,389: INFO: Current backtesting datetime 2010-03-16 12:30:00-05:00\n",
      "2024-12-10 16:05:01,394: INFO: [HumblChannelSingleLong] Processing trade event. Trade event received for HumblChannelSingleLong strategy: new SPY, processed by broker backtesting\n",
      "2024-12-10 16:05:01,394: INFO: [HumblChannelSingleLong] \u001b[32mNew order was created: market order of | 1 SPY buy | new\u001b[0m\n",
      "2024-12-10 16:05:01,397: INFO: [HumblChannelSingleLong] Processing a new order, payload: {'order': market order of | 1 SPY buy | new}\n",
      "2024-12-10 16:05:01,398: INFO: [HumblChannelSingleLong] Getting historical prices for SPY, 1 bars, \n",
      "2024-12-10 16:05:01,399: INFO: [HumblChannelSingleLong] Processing trade event. Trade event received for HumblChannelSingleLong strategy: fill SPY, processed by broker backtesting\n",
      "2024-12-10 16:05:01,400: INFO: [HumblChannelSingleLong] \u001b[32mOrder was filled: market order of | 1 SPY buy | @ $116.76 fill\u001b[0m\n",
      "2024-12-10 16:05:01,402: INFO: [HumblChannelSingleLong] Processing a filled order, payload: {'position': HumblChannelSingleLong Position: 159.0 shares of SPY (327 orders), 'order': market order of | 1 SPY buy | @ $116.76 fill, 'price': 116.76000213623047, 'quantity': 1.0, 'multiplier': 1}\n"
     ]
    },
    {
     "name": "stdout",
     "output_type": "stream",
     "text": [
      "Progress |\u001b[32m\u001b[0m|   1.46%  [Elapsed: 0:12:19 ETA: 13:53:22] Portfolio Val: 100,771.82"
     ]
    },
    {
     "name": "stderr",
     "output_type": "stream",
     "text": [
      "2024-12-10 16:05:01,402: INFO: Current backtesting datetime 2010-03-16 13:30:00-05:00\n",
      "2024-12-10 16:05:01,406: INFO: [HumblChannelSingleLong] Processing trade event. Trade event received for HumblChannelSingleLong strategy: new SPY, processed by broker backtesting\n",
      "2024-12-10 16:05:01,406: INFO: [HumblChannelSingleLong] \u001b[32mNew order was created: market order of | 1 SPY buy | new\u001b[0m\n",
      "2024-12-10 16:05:01,409: INFO: [HumblChannelSingleLong] Processing a new order, payload: {'order': market order of | 1 SPY buy | new}\n",
      "2024-12-10 16:05:01,409: INFO: [HumblChannelSingleLong] Getting historical prices for SPY, 1 bars, \n",
      "2024-12-10 16:05:01,411: INFO: [HumblChannelSingleLong] Processing trade event. Trade event received for HumblChannelSingleLong strategy: fill SPY, processed by broker backtesting\n",
      "2024-12-10 16:05:01,412: INFO: [HumblChannelSingleLong] \u001b[32mOrder was filled: market order of | 1 SPY buy | @ $116.76 fill\u001b[0m\n",
      "2024-12-10 16:05:01,414: INFO: [HumblChannelSingleLong] Processing a filled order, payload: {'position': HumblChannelSingleLong Position: 160.0 shares of SPY (328 orders), 'order': market order of | 1 SPY buy | @ $116.76 fill, 'price': 116.76000213623047, 'quantity': 1.0, 'multiplier': 1}\n"
     ]
    },
    {
     "name": "stdout",
     "output_type": "stream",
     "text": [
      "Progress |\u001b[32m\u001b[0m|   1.46%  [Elapsed: 0:12:19 ETA: 13:52:54] Portfolio Val: 100,771.82"
     ]
    },
    {
     "name": "stderr",
     "output_type": "stream",
     "text": [
      "2024-12-10 16:05:01,414: INFO: Current backtesting datetime 2010-03-16 14:30:00-05:00\n",
      "2024-12-10 16:05:01,418: INFO: [HumblChannelSingleLong] Processing trade event. Trade event received for HumblChannelSingleLong strategy: new SPY, processed by broker backtesting\n",
      "2024-12-10 16:05:01,419: INFO: [HumblChannelSingleLong] \u001b[32mNew order was created: market order of | 1 SPY buy | new\u001b[0m\n",
      "2024-12-10 16:05:01,421: INFO: [HumblChannelSingleLong] Processing a new order, payload: {'order': market order of | 1 SPY buy | new}\n",
      "2024-12-10 16:05:01,422: INFO: [HumblChannelSingleLong] Getting historical prices for SPY, 1 bars, \n",
      "2024-12-10 16:05:01,424: INFO: [HumblChannelSingleLong] Processing trade event. Trade event received for HumblChannelSingleLong strategy: fill SPY, processed by broker backtesting\n",
      "2024-12-10 16:05:01,424: INFO: [HumblChannelSingleLong] \u001b[32mOrder was filled: market order of | 1 SPY buy | @ $116.76 fill\u001b[0m\n",
      "2024-12-10 16:05:01,426: INFO: [HumblChannelSingleLong] Processing a filled order, payload: {'position': HumblChannelSingleLong Position: 161.0 shares of SPY (329 orders), 'order': market order of | 1 SPY buy | @ $116.76 fill, 'price': 116.76000213623047, 'quantity': 1.0, 'multiplier': 1}\n"
     ]
    },
    {
     "name": "stdout",
     "output_type": "stream",
     "text": [
      "Progress |\u001b[32m\u001b[0m|   1.46%  [Elapsed: 0:12:19 ETA: 13:52:41] Portfolio Val: 100,771.82"
     ]
    },
    {
     "name": "stderr",
     "output_type": "stream",
     "text": [
      "2024-12-10 16:05:01,428: INFO: Current backtesting datetime 2010-03-16 15:00:00-05:00\n"
     ]
    },
    {
     "name": "stdout",
     "output_type": "stream",
     "text": [
      "Progress |\u001b[32m\u001b[0m|   1.46%  [Elapsed: 0:12:19 ETA: 13:52:27] Portfolio Val: 100,771.82"
     ]
    },
    {
     "name": "stderr",
     "output_type": "stream",
     "text": [
      "2024-12-10 16:05:01,428: INFO: Current backtesting datetime 2010-03-16 15:30:00-05:00\n"
     ]
    },
    {
     "name": "stdout",
     "output_type": "stream",
     "text": [
      "Progress |\u001b[32m\u001b[0m|   1.46%  [Elapsed: 0:12:19 ETA: 13:52:29] "
     ]
    },
    {
     "name": "stderr",
     "output_type": "stream",
     "text": [
      "2024-12-10 16:05:01,430: INFO: Current backtesting datetime 2010-03-16 15:25:00-05:00\n"
     ]
    },
    {
     "name": "stdout",
     "output_type": "stream",
     "text": [
      "Progress |\u001b[32m\u001b[0m|   1.46%  [Elapsed: 0:12:19 ETA: 13:52:29] "
     ]
    },
    {
     "name": "stderr",
     "output_type": "stream",
     "text": [
      "2024-12-10 16:05:01,431: INFO: Current backtesting datetime 2010-03-16 15:25:00-05:00\n"
     ]
    },
    {
     "name": "stdout",
     "output_type": "stream",
     "text": [
      "Progress |\u001b[32m\u001b[0m|   1.47%  [Elapsed: 0:12:19 ETA: 13:44:58] "
     ]
    },
    {
     "name": "stderr",
     "output_type": "stream",
     "text": [
      "2024-12-10 16:05:01,433: INFO: Current backtesting datetime 2010-03-17 07:30:00-05:00\n"
     ]
    }
   ],
   "source": [
    "# Set up backtesting\n",
    "env = Env()\n",
    "ALPACA_CONFIG = {\n",
    "    # Put your own Alpaca key here:\n",
    "    \"API_KEY\": env.ALPACA_API_KEY,\n",
    "    # Put your own Alpaca secret here:\n",
    "    \"API_SECRET\": env.ALPACA_API_SECRET,\n",
    "    # Set this to False to use a live account\n",
    "    \"PAPER\": True\n",
    "}\n",
    "\n",
    "trader = Trader()\n",
    "broker = Alpaca(ALPACA_CONFIG)\n",
    "\n",
    "strategy = HumblChannelSingleLong(\n",
    "    name=\"HumblChannelSingleLong\",\n",
    "    broker=broker,\n",
    "    parameters={\n",
    "        \"symbol\": \"SPY\",\n",
    "        \"quantity\": 1,\n",
    "    }\n",
    ")\n",
    "\n",
    "# Run backtest\n",
    "backtesting_start = datetime(2010, 1, 1)\n",
    "backtesting_end = datetime(2024, 1, 1)\n",
    "\n",
    "results = strategy.run_backtest(\n",
    "    YahooDataBacktesting,\n",
    "    backtesting_start,\n",
    "    backtesting_end,\n",
    ")"
   ]
  },
  {
   "cell_type": "code",
   "execution_count": null,
   "metadata": {},
   "outputs": [],
   "source": []
  },
  {
   "cell_type": "code",
   "execution_count": null,
   "metadata": {},
   "outputs": [],
   "source": []
  }
 ],
 "metadata": {
  "kernelspec": {
   "display_name": "Python 3",
   "language": "python",
   "name": "python3"
  },
  "language_info": {
   "codemirror_mode": {
    "name": "ipython",
    "version": 3
   },
   "file_extension": ".py",
   "mimetype": "text/x-python",
   "name": "python",
   "nbconvert_exporter": "python",
   "pygments_lexer": "ipython3",
   "version": "3.12.7"
  }
 },
 "nbformat": 4,
 "nbformat_minor": 2
}
