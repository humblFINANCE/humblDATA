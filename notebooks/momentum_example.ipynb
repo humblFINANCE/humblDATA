{
 "cells": [
  {
   "cell_type": "code",
   "execution_count": 3,
   "metadata": {},
   "outputs": [
    {
     "name": "stderr",
     "output_type": "stream",
     "text": [
      "INFO: MomentumFetcher || START: fetch_data (sync)\n",
      "DEBUG: MomentumFetcher || Running .transform_query()\n",
      "ERROR: MomentumFetcher || EXCEPTION in fetch_data (sync) - Total time: 0.0006s\n",
      "Traceback (most recent call last):\n",
      "  File \"/Users/jjfantini/github/humblFINANCE-org/humblDATA/src/humbldata/core/utils/logger.py\", line 181, in sync_wrapper\n",
      "    result = func(*args, **kwargs)\n",
      "             ^^^^^^^^^^^^^^^^^^^^^\n",
      "  File \"/Users/jjfantini/github/humblFINANCE-org/humblDATA/src/humbldata/core/standard_models/toolbox/technical/momentum.py\", line 255, in fetch_data\n",
      "    self.transform_query()\n",
      "  File \"/Users/jjfantini/github/humblFINANCE-org/humblDATA/src/humbldata/core/standard_models/toolbox/technical/momentum.py\", line 166, in transform_query\n",
      "    self.command_params = MomentumQueryParams(**self.command_params)\n",
      "                          ^^^^^^^^^^^^^^^^^^^^^^^^^^^^^^^^^^^^^^^^^^\n",
      "TypeError: humbldata.core.standard_models.toolbox.technical.momentum.MomentumQueryParams() argument after ** must be a mapping, not MomentumQueryParams\n",
      "ERROR: humbldata.toolbox.technical.technical_controller || Error calculating Momentum\n",
      "Traceback (most recent call last):\n",
      "  File \"/Users/jjfantini/github/humblFINANCE-org/humblDATA/src/humbldata/toolbox/technical/technical_controller.py\", line 69, in momentum\n",
      "    return fetcher.fetch_data()\n",
      "           ^^^^^^^^^^^^^^^^^^^^\n",
      "  File \"/Users/jjfantini/github/humblFINANCE-org/humblDATA/src/humbldata/core/utils/logger.py\", line 181, in sync_wrapper\n",
      "    result = func(*args, **kwargs)\n",
      "             ^^^^^^^^^^^^^^^^^^^^^\n",
      "  File \"/Users/jjfantini/github/humblFINANCE-org/humblDATA/src/humbldata/core/standard_models/toolbox/technical/momentum.py\", line 255, in fetch_data\n",
      "    self.transform_query()\n",
      "  File \"/Users/jjfantini/github/humblFINANCE-org/humblDATA/src/humbldata/core/standard_models/toolbox/technical/momentum.py\", line 166, in transform_query\n",
      "    self.command_params = MomentumQueryParams(**self.command_params)\n",
      "                          ^^^^^^^^^^^^^^^^^^^^^^^^^^^^^^^^^^^^^^^^^^\n",
      "TypeError: humbldata.core.standard_models.toolbox.technical.momentum.MomentumQueryParams() argument after ** must be a mapping, not MomentumQueryParams\n"
     ]
    },
    {
     "ename": "HumblDataError",
     "evalue": "Failed to calculate Momentum: humbldata.core.standard_models.toolbox.technical.momentum.MomentumQueryParams() argument after ** must be a mapping, not MomentumQueryParams",
     "output_type": "error",
     "traceback": [
      "\u001b[0;31m---------------------------------------------------------------------------\u001b[0m",
      "\u001b[0;31mTypeError\u001b[0m                                 Traceback (most recent call last)",
      "File \u001b[0;32m~/github/humblFINANCE-org/humblDATA/src/humbldata/toolbox/technical/technical_controller.py:69\u001b[0m, in \u001b[0;36mTechnical.momentum\u001b[0;34m(self, command_params)\u001b[0m\n\u001b[1;32m     68\u001b[0m     logger\u001b[38;5;241m.\u001b[39mdebug(\u001b[38;5;124m\"\u001b[39m\u001b[38;5;124mFetching Momentum data\u001b[39m\u001b[38;5;124m\"\u001b[39m)\n\u001b[0;32m---> 69\u001b[0m     \u001b[38;5;28;01mreturn\u001b[39;00m \u001b[43mfetcher\u001b[49m\u001b[38;5;241;43m.\u001b[39;49m\u001b[43mfetch_data\u001b[49m\u001b[43m(\u001b[49m\u001b[43m)\u001b[49m\n\u001b[1;32m     71\u001b[0m \u001b[38;5;28;01mexcept\u001b[39;00m \u001b[38;5;167;01mException\u001b[39;00m \u001b[38;5;28;01mas\u001b[39;00m e:\n",
      "File \u001b[0;32m~/github/humblFINANCE-org/humblDATA/src/humbldata/core/utils/logger.py:181\u001b[0m, in \u001b[0;36mlog_start_end.<locals>.decorator.<locals>.sync_wrapper\u001b[0;34m(*args, **kwargs)\u001b[0m\n\u001b[1;32m    180\u001b[0m \u001b[38;5;28;01mtry\u001b[39;00m:\n\u001b[0;32m--> 181\u001b[0m     result \u001b[38;5;241m=\u001b[39m \u001b[43mfunc\u001b[49m\u001b[43m(\u001b[49m\u001b[38;5;241;43m*\u001b[39;49m\u001b[43margs\u001b[49m\u001b[43m,\u001b[49m\u001b[43m \u001b[49m\u001b[38;5;241;43m*\u001b[39;49m\u001b[38;5;241;43m*\u001b[39;49m\u001b[43mkwargs\u001b[49m\u001b[43m)\u001b[49m\n\u001b[1;32m    182\u001b[0m \u001b[38;5;28;01mexcept\u001b[39;00m \u001b[38;5;167;01mKeyboardInterrupt\u001b[39;00m:\n",
      "File \u001b[0;32m~/github/humblFINANCE-org/humblDATA/src/humbldata/core/standard_models/toolbox/technical/momentum.py:255\u001b[0m, in \u001b[0;36mMomentumFetcher.fetch_data\u001b[0;34m(self)\u001b[0m\n\u001b[1;32m    254\u001b[0m logger\u001b[38;5;241m.\u001b[39mdebug(\u001b[38;5;124m\"\u001b[39m\u001b[38;5;124mRunning .transform_query()\u001b[39m\u001b[38;5;124m\"\u001b[39m)\n\u001b[0;32m--> 255\u001b[0m \u001b[38;5;28;43mself\u001b[39;49m\u001b[38;5;241;43m.\u001b[39;49m\u001b[43mtransform_query\u001b[49m\u001b[43m(\u001b[49m\u001b[43m)\u001b[49m\n\u001b[1;32m    256\u001b[0m logger\u001b[38;5;241m.\u001b[39mdebug(\u001b[38;5;124m\"\u001b[39m\u001b[38;5;124mRunning .extract_data()\u001b[39m\u001b[38;5;124m\"\u001b[39m)\n",
      "File \u001b[0;32m~/github/humblFINANCE-org/humblDATA/src/humbldata/core/standard_models/toolbox/technical/momentum.py:166\u001b[0m, in \u001b[0;36mMomentumFetcher.transform_query\u001b[0;34m(self)\u001b[0m\n\u001b[1;32m    165\u001b[0m \u001b[38;5;28;01melse\u001b[39;00m:\n\u001b[0;32m--> 166\u001b[0m     \u001b[38;5;28mself\u001b[39m\u001b[38;5;241m.\u001b[39mcommand_params \u001b[38;5;241m=\u001b[39m MomentumQueryParams(\u001b[38;5;241m*\u001b[39m\u001b[38;5;241m*\u001b[39m\u001b[38;5;28mself\u001b[39m\u001b[38;5;241m.\u001b[39mcommand_params)\n",
      "\u001b[0;31mTypeError\u001b[0m: humbldata.core.standard_models.toolbox.technical.momentum.MomentumQueryParams() argument after ** must be a mapping, not MomentumQueryParams",
      "\nThe above exception was the direct cause of the following exception:\n",
      "\u001b[0;31mHumblDataError\u001b[0m                            Traceback (most recent call last)",
      "Cell \u001b[0;32mIn[3], line 20\u001b[0m\n\u001b[1;32m     14\u001b[0m momentum_params \u001b[38;5;241m=\u001b[39m MomentumQueryParams(\n\u001b[1;32m     15\u001b[0m     method\u001b[38;5;241m=\u001b[39m\u001b[38;5;124m\"\u001b[39m\u001b[38;5;124mlog\u001b[39m\u001b[38;5;124m\"\u001b[39m,  \u001b[38;5;66;03m# Can be \"log\", \"simple\", or \"shift\"\u001b[39;00m\n\u001b[1;32m     16\u001b[0m     period\u001b[38;5;241m=\u001b[39m\u001b[38;5;241m5\u001b[39m,  \u001b[38;5;66;03m# Look-back period\u001b[39;00m\n\u001b[1;32m     17\u001b[0m )\n\u001b[1;32m     19\u001b[0m \u001b[38;5;66;03m# Calculate momentum\u001b[39;00m\n\u001b[0;32m---> 20\u001b[0m result \u001b[38;5;241m=\u001b[39m \u001b[43mtoolbox\u001b[49m\u001b[38;5;241;43m.\u001b[39;49m\u001b[43mtechnical\u001b[49m\u001b[38;5;241;43m.\u001b[39;49m\u001b[43mmomentum\u001b[49m\u001b[43m(\u001b[49m\n\u001b[1;32m     21\u001b[0m \u001b[43m    \u001b[49m\u001b[43mcommand_params\u001b[49m\u001b[38;5;241;43m=\u001b[39;49m\u001b[43mmomentum_params\u001b[49m\n\u001b[1;32m     22\u001b[0m \u001b[43m)\u001b[49m\n\u001b[1;32m     24\u001b[0m \u001b[38;5;66;03m# Access the transformed data\u001b[39;00m\n\u001b[1;32m     25\u001b[0m momentum_data \u001b[38;5;241m=\u001b[39m result\u001b[38;5;241m.\u001b[39mresults\n",
      "File \u001b[0;32m~/github/humblFINANCE-org/humblDATA/src/humbldata/toolbox/technical/technical_controller.py:74\u001b[0m, in \u001b[0;36mTechnical.momentum\u001b[0;34m(self, command_params)\u001b[0m\n\u001b[1;32m     72\u001b[0m logger\u001b[38;5;241m.\u001b[39mexception(\u001b[38;5;124m\"\u001b[39m\u001b[38;5;124mError calculating Momentum\u001b[39m\u001b[38;5;124m\"\u001b[39m)\n\u001b[1;32m     73\u001b[0m msg \u001b[38;5;241m=\u001b[39m \u001b[38;5;124mf\u001b[39m\u001b[38;5;124m\"\u001b[39m\u001b[38;5;124mFailed to calculate Momentum: \u001b[39m\u001b[38;5;132;01m{\u001b[39;00me\u001b[38;5;132;01m!s}\u001b[39;00m\u001b[38;5;124m\"\u001b[39m\n\u001b[0;32m---> 74\u001b[0m \u001b[38;5;28;01mraise\u001b[39;00m HumblDataError(msg) \u001b[38;5;28;01mfrom\u001b[39;00m \u001b[38;5;21;01me\u001b[39;00m\n",
      "\u001b[0;31mHumblDataError\u001b[0m: Failed to calculate Momentum: humbldata.core.standard_models.toolbox.technical.momentum.MomentumQueryParams() argument after ** must be a mapping, not MomentumQueryParams"
     ]
    }
   ],
   "source": [
    "from datetime import datetime, timedelta\n",
    "from humbldata.toolbox.toolbox_controller import Toolbox\n",
    "from humbldata.core.standard_models.toolbox.technical.momentum import MomentumQueryParams\n",
    "\n",
    "# Initialize toolbox\n",
    "toolbox = Toolbox(\n",
    "    symbols=[\"AAPL\", \"MSFT\"],  # List of symbols to analyze\n",
    "    start_date=\"2021-05-01\",  # 1 year ago\n",
    "    end_date=\"2022-05-01\",  # Today\n",
    "    provider=\"yfinance\",  # Data provider\n",
    ")\n",
    "\n",
    "# Calculate momentum\n",
    "result = toolbox.technical.momentum(\n",
    "    method=\"log\",\n",
    "    period=5\n",
    ")\n",
    "\n",
    "# Access the transformed data\n",
    "momentum_data = result.results\n",
    "\n",
    "# Print first few rows\n",
    "print(momentum_data.head())\n",
    "\n",
    "# Access metadata\n",
    "print(f\"Calculation method: {result.extra['calculation_method']}\")\n",
    "print(f\"Period used: {result.extra['period']}\")\n",
    "\n",
    "# If you want to try different methods:\n",
    "# Simple ROC\n",
    "simple_momentum = toolbox.technical.momentum(\n",
    "    command_params=MomentumQueryParams(\n",
    "        method=\"simple\",\n",
    "        period=1\n",
    "    )\n",
    ")\n",
    "\n",
    "# Shift with signal\n",
    "shift_momentum = toolbox.technical.momentum(\n",
    "    command_params=MomentumQueryParams(\n",
    "        method=\"shift\",\n",
    "        period=1\n",
    "    )\n",
    ")\n",
    "\n",
    "# The shift method will give you both shifted prices and binary signals\n",
    "shift_data = shift_momentum.results\n",
    "print(\"\\nShift calculation results:\")\n",
    "print(shift_data.head())"
   ]
  }
 ],
 "metadata": {
  "kernelspec": {
   "display_name": "Python 3",
   "language": "python",
   "name": "python3"
  },
  "language_info": {
   "codemirror_mode": {
    "name": "ipython",
    "version": 3
   },
   "file_extension": ".py",
   "mimetype": "text/x-python",
   "name": "python",
   "nbconvert_exporter": "python",
   "pygments_lexer": "ipython3",
   "version": "3.12.7"
  }
 },
 "nbformat": 4,
 "nbformat_minor": 2
}
