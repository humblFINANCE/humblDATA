{
 "cells": [
  {
   "cell_type": "code",
   "execution_count": 4,
   "metadata": {},
   "outputs": [],
   "source": [
    "from datetime import datetime, timedelta\n",
    "from humbldata.toolbox.toolbox_controller import Toolbox\n",
    "from humbldata.core.standard_models.toolbox.technical.momentum import MomentumQueryParams\n",
    "\n",
    "# Initialize toolbox\n",
    "toolbox = Toolbox(\n",
    "    symbols=[\"AAPL\", \"MSFT\"],  # List of symbols to analyze\n",
    "    start_date=\"2021-05-01\",  # 1 year ago\n",
    "    end_date=\"2022-05-01\",  # Today\n",
    ")"
   ]
  },
  {
   "cell_type": "code",
   "execution_count": 5,
   "metadata": {},
   "outputs": [
    {
     "name": "stderr",
     "output_type": "stream",
     "text": [
      "INFO: MomentumFetcher || START: fetch_data (sync)\n",
      "DEBUG: MomentumFetcher || Running .transform_query()\n",
      "DEBUG: MomentumFetcher || Running .extract_data()\n",
      "DEBUG: MomentumFetcher || Running .transform_data()\n",
      "DEBUG: MomentumFetcher || Transforming data with momentum calculation\n",
      "INFO: MomentumFetcher || END: fetch_data (sync) - Total time: 0.3861s\n"
     ]
    }
   ],
   "source": [
    "\n",
    "\n",
    "# Calculate momentum\n",
    "result = toolbox.technical.momentum(\n",
    "    method=\"log\",\n",
    "    period=5\n",
    ")\n"
   ]
  },
  {
   "cell_type": "code",
   "execution_count": 6,
   "metadata": {},
   "outputs": [
    {
     "data": {
      "text/html": [
       "<div><style>\n",
       ".dataframe > thead > tr,\n",
       ".dataframe > tbody > tr {\n",
       "  text-align: right;\n",
       "  white-space: pre-wrap;\n",
       "}\n",
       "</style>\n",
       "<small>shape: (499, 9)</small><table border=\"1\" class=\"dataframe\"><thead><tr><th>date</th><th>open</th><th>high</th><th>low</th><th>close</th><th>volume</th><th>dividend</th><th>symbol</th><th>momentum</th></tr><tr><td>date</td><td>f64</td><td>f64</td><td>f64</td><td>f64</td><td>i64</td><td>f64</td><td>str</td><td>f64</td></tr></thead><tbody><tr><td>2021-05-05</td><td>249.059998</td><td>249.5</td><td>245.820007</td><td>246.470001</td><td>21901300</td><td>0.0</td><td>&quot;MSFT&quot;</td><td>0.620356</td></tr><tr><td>2021-05-06</td><td>127.889999</td><td>129.75</td><td>127.129997</td><td>129.740005</td><td>78128300</td><td>0.0</td><td>&quot;AAPL&quot;</td><td>-0.663341</td></tr><tr><td>2021-05-06</td><td>246.449997</td><td>249.860001</td><td>244.690002</td><td>249.729996</td><td>26491100</td><td>0.0</td><td>&quot;MSFT&quot;</td><td>0.669523</td></tr><tr><td>2021-05-07</td><td>130.850006</td><td>131.259995</td><td>129.479996</td><td>130.210007</td><td>78973300</td><td>0.22</td><td>&quot;AAPL&quot;</td><td>-0.643433</td></tr><tr><td>2021-05-07</td><td>252.149994</td><td>254.300003</td><td>251.169998</td><td>252.460007</td><td>27032900</td><td>0.0</td><td>&quot;MSFT&quot;</td><td>0.678442</td></tr><tr><td>&hellip;</td><td>&hellip;</td><td>&hellip;</td><td>&hellip;</td><td>&hellip;</td><td>&hellip;</td><td>&hellip;</td><td>&hellip;</td><td>&hellip;</td></tr><tr><td>2022-04-27</td><td>282.100006</td><td>290.970001</td><td>279.160004</td><td>283.220001</td><td>63477700</td><td>0.0</td><td>&quot;MSFT&quot;</td><td>0.55321</td></tr><tr><td>2022-04-28</td><td>159.25</td><td>164.520004</td><td>158.929993</td><td>163.639999</td><td>130216800</td><td>0.0</td><td>&quot;AAPL&quot;</td><td>-0.539689</td></tr><tr><td>2022-04-28</td><td>285.190002</td><td>290.980011</td><td>281.459991</td><td>289.630005</td><td>33646600</td><td>0.0</td><td>&quot;MSFT&quot;</td><td>0.613633</td></tr><tr><td>2022-04-29</td><td>161.839996</td><td>166.199997</td><td>157.25</td><td>157.649994</td><td>131747600</td><td>0.0</td><td>&quot;AAPL&quot;</td><td>-0.538859</td></tr><tr><td>2022-04-29</td><td>288.609985</td><td>289.880005</td><td>276.5</td><td>277.519989</td><td>37073900</td><td>0.0</td><td>&quot;MSFT&quot;</td><td>0.57239</td></tr></tbody></table></div>"
      ],
      "text/plain": [
       "shape: (499, 9)\n",
       "┌────────────┬────────────┬────────────┬───────────┬───┬───────────┬──────────┬────────┬───────────┐\n",
       "│ date       ┆ open       ┆ high       ┆ low       ┆ … ┆ volume    ┆ dividend ┆ symbol ┆ momentum  │\n",
       "│ ---        ┆ ---        ┆ ---        ┆ ---       ┆   ┆ ---       ┆ ---      ┆ ---    ┆ ---       │\n",
       "│ date       ┆ f64        ┆ f64        ┆ f64       ┆   ┆ i64       ┆ f64      ┆ str    ┆ f64       │\n",
       "╞════════════╪════════════╪════════════╪═══════════╪═══╪═══════════╪══════════╪════════╪═══════════╡\n",
       "│ 2021-05-05 ┆ 249.059998 ┆ 249.5      ┆ 245.82000 ┆ … ┆ 21901300  ┆ 0.0      ┆ MSFT   ┆ 0.620356  │\n",
       "│            ┆            ┆            ┆ 7         ┆   ┆           ┆          ┆        ┆           │\n",
       "│ 2021-05-06 ┆ 127.889999 ┆ 129.75     ┆ 127.12999 ┆ … ┆ 78128300  ┆ 0.0      ┆ AAPL   ┆ -0.663341 │\n",
       "│            ┆            ┆            ┆ 7         ┆   ┆           ┆          ┆        ┆           │\n",
       "│ 2021-05-06 ┆ 246.449997 ┆ 249.860001 ┆ 244.69000 ┆ … ┆ 26491100  ┆ 0.0      ┆ MSFT   ┆ 0.669523  │\n",
       "│            ┆            ┆            ┆ 2         ┆   ┆           ┆          ┆        ┆           │\n",
       "│ 2021-05-07 ┆ 130.850006 ┆ 131.259995 ┆ 129.47999 ┆ … ┆ 78973300  ┆ 0.22     ┆ AAPL   ┆ -0.643433 │\n",
       "│            ┆            ┆            ┆ 6         ┆   ┆           ┆          ┆        ┆           │\n",
       "│ 2021-05-07 ┆ 252.149994 ┆ 254.300003 ┆ 251.16999 ┆ … ┆ 27032900  ┆ 0.0      ┆ MSFT   ┆ 0.678442  │\n",
       "│            ┆            ┆            ┆ 8         ┆   ┆           ┆          ┆        ┆           │\n",
       "│ …          ┆ …          ┆ …          ┆ …         ┆ … ┆ …         ┆ …        ┆ …      ┆ …         │\n",
       "│ 2022-04-27 ┆ 282.100006 ┆ 290.970001 ┆ 279.16000 ┆ … ┆ 63477700  ┆ 0.0      ┆ MSFT   ┆ 0.55321   │\n",
       "│            ┆            ┆            ┆ 4         ┆   ┆           ┆          ┆        ┆           │\n",
       "│ 2022-04-28 ┆ 159.25     ┆ 164.520004 ┆ 158.92999 ┆ … ┆ 130216800 ┆ 0.0      ┆ AAPL   ┆ -0.539689 │\n",
       "│            ┆            ┆            ┆ 3         ┆   ┆           ┆          ┆        ┆           │\n",
       "│ 2022-04-28 ┆ 285.190002 ┆ 290.980011 ┆ 281.45999 ┆ … ┆ 33646600  ┆ 0.0      ┆ MSFT   ┆ 0.613633  │\n",
       "│            ┆            ┆            ┆ 1         ┆   ┆           ┆          ┆        ┆           │\n",
       "│ 2022-04-29 ┆ 161.839996 ┆ 166.199997 ┆ 157.25    ┆ … ┆ 131747600 ┆ 0.0      ┆ AAPL   ┆ -0.538859 │\n",
       "│ 2022-04-29 ┆ 288.609985 ┆ 289.880005 ┆ 276.5     ┆ … ┆ 37073900  ┆ 0.0      ┆ MSFT   ┆ 0.57239   │\n",
       "└────────────┴────────────┴────────────┴───────────┴───┴───────────┴──────────┴────────┴───────────┘"
      ]
     },
     "execution_count": 6,
     "metadata": {},
     "output_type": "execute_result"
    }
   ],
   "source": [
    "result.to_polars()"
   ]
  },
  {
   "cell_type": "code",
   "execution_count": null,
   "metadata": {},
   "outputs": [],
   "source": [
    "# If you want to try different methods:\n",
    "# Simple ROC\n",
    "simple_momentum = toolbox.technical.momentum(\n",
    "    method=\"simple\",\n",
    "    period=1\n",
    ")\n",
    "\n",
    "# Shift with signal\n",
    "shift_momentum = toolbox.technical.momentum(\n",
    "    method=\"shift\",\n",
    "    period=1\n",
    ")"
   ]
  }
 ],
 "metadata": {
  "kernelspec": {
   "display_name": "Python 3",
   "language": "python",
   "name": "python3"
  },
  "language_info": {
   "codemirror_mode": {
    "name": "ipython",
    "version": 3
   },
   "file_extension": ".py",
   "mimetype": "text/x-python",
   "name": "python",
   "nbconvert_exporter": "python",
   "pygments_lexer": "ipython3",
   "version": "3.12.7"
  }
 },
 "nbformat": 4,
 "nbformat_minor": 2
}
