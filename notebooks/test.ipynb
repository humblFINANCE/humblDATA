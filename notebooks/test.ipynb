{
 "cells": [
  {
   "cell_type": "code",
   "execution_count": 1,
   "metadata": {},
   "outputs": [],
   "source": [
    "import polars as pl"
   ]
  },
  {
   "cell_type": "code",
   "execution_count": 2,
   "metadata": {},
   "outputs": [
    {
     "data": {
      "text/html": [
       "<div><style>\n",
       ".dataframe > thead > tr,\n",
       ".dataframe > tbody > tr {\n",
       "  text-align: right;\n",
       "  white-space: pre-wrap;\n",
       "}\n",
       "</style>\n",
       "<small>shape: (5, 20)</small><table border=\"1\" class=\"dataframe\"><thead><tr><th>date</th><th>open</th><th>high</th><th>low</th><th>close</th><th>volume</th><th>split_ratio</th><th>dividend</th><th>symbol</th><th>log_returns</th><th>window_index</th><th>window_mean</th><th>detrended_log_returns</th><th>cum_sum</th><th>cum_sum_min</th><th>cum_sum_max</th><th>cum_sum_range</th><th>cum_sum_std</th><th>realized_volatility</th><th>vol_bucket</th></tr><tr><td>date</td><td>f64</td><td>f64</td><td>f64</td><td>f64</td><td>f64</td><td>f64</td><td>f64</td><td>str</td><td>f64</td><td>i32</td><td>f64</td><td>f64</td><td>f64</td><td>f64</td><td>f64</td><td>f64</td><td>f64</td><td>f64</td><td>str</td></tr></thead><tbody><tr><td>2000-01-05</td><td>0.784238</td><td>0.835733</td><td>0.778569</td><td>0.786128</td><td>7.783216e8</td><td>0.0</td><td>0.0</td><td>&quot;AAPL&quot;</td><td>0.014527</td><td>287</td><td>-0.00537</td><td>0.019896</td><td>-0.062811</td><td>-0.212293</td><td>0.08333</td><td>0.295623</td><td>0.091599</td><td>21.971445</td><td>&quot;low&quot;</td></tr><tr><td>2000-01-06</td><td>0.802191</td><td>0.808805</td><td>0.718098</td><td>0.718098</td><td>7.679728e8</td><td>0.0</td><td>0.0</td><td>&quot;AAPL&quot;</td><td>-0.090514</td><td>287</td><td>-0.00537</td><td>-0.085144</td><td>-0.147955</td><td>-0.212293</td><td>0.08333</td><td>0.295623</td><td>0.091599</td><td>26.168462</td><td>&quot;mid&quot;</td></tr><tr><td>2000-01-07</td><td>0.729436</td><td>0.763452</td><td>0.721878</td><td>0.752113</td><td>4.607344e8</td><td>0.0</td><td>0.0</td><td>&quot;AAPL&quot;</td><td>0.046281</td><td>287</td><td>-0.00537</td><td>0.051651</td><td>-0.096305</td><td>-0.212293</td><td>0.08333</td><td>0.295623</td><td>0.091599</td><td>28.475358</td><td>&quot;mid&quot;</td></tr><tr><td>2000-01-10</td><td>0.77101</td><td>0.7729</td><td>0.716208</td><td>0.738885</td><td>5.05064e8</td><td>0.0</td><td>0.0</td><td>&quot;AAPL&quot;</td><td>-0.017744</td><td>287</td><td>-0.00537</td><td>-0.012375</td><td>-0.108679</td><td>-0.212293</td><td>0.08333</td><td>0.295623</td><td>0.091599</td><td>32.249623</td><td>&quot;mid&quot;</td></tr><tr><td>2000-01-11</td><td>0.725184</td><td>0.751168</td><td>0.684083</td><td>0.70109</td><td>4.415488e8</td><td>0.0</td><td>0.0</td><td>&quot;AAPL&quot;</td><td>-0.052506</td><td>287</td><td>-0.00537</td><td>-0.047137</td><td>-0.155816</td><td>-0.212293</td><td>0.08333</td><td>0.295623</td><td>0.091599</td><td>37.15822</td><td>&quot;mid&quot;</td></tr></tbody></table></div>"
      ],
      "text/plain": [
       "shape: (5, 20)\n",
       "┌────────────┬──────────┬──────────┬──────────┬───┬────────────┬───────────┬───────────┬───────────┐\n",
       "│ date       ┆ open     ┆ high     ┆ low      ┆ … ┆ cum_sum_ra ┆ cum_sum_s ┆ realized_ ┆ vol_bucke │\n",
       "│ ---        ┆ ---      ┆ ---      ┆ ---      ┆   ┆ nge        ┆ td        ┆ volatilit ┆ t         │\n",
       "│ date       ┆ f64      ┆ f64      ┆ f64      ┆   ┆ ---        ┆ ---       ┆ y         ┆ ---       │\n",
       "│            ┆          ┆          ┆          ┆   ┆ f64        ┆ f64       ┆ ---       ┆ str       │\n",
       "│            ┆          ┆          ┆          ┆   ┆            ┆           ┆ f64       ┆           │\n",
       "╞════════════╪══════════╪══════════╪══════════╪═══╪════════════╪═══════════╪═══════════╪═══════════╡\n",
       "│ 2000-01-05 ┆ 0.784238 ┆ 0.835733 ┆ 0.778569 ┆ … ┆ 0.295623   ┆ 0.091599  ┆ 21.971445 ┆ low       │\n",
       "│ 2000-01-06 ┆ 0.802191 ┆ 0.808805 ┆ 0.718098 ┆ … ┆ 0.295623   ┆ 0.091599  ┆ 26.168462 ┆ mid       │\n",
       "│ 2000-01-07 ┆ 0.729436 ┆ 0.763452 ┆ 0.721878 ┆ … ┆ 0.295623   ┆ 0.091599  ┆ 28.475358 ┆ mid       │\n",
       "│ 2000-01-10 ┆ 0.77101  ┆ 0.7729   ┆ 0.716208 ┆ … ┆ 0.295623   ┆ 0.091599  ┆ 32.249623 ┆ mid       │\n",
       "│ 2000-01-11 ┆ 0.725184 ┆ 0.751168 ┆ 0.684083 ┆ … ┆ 0.295623   ┆ 0.091599  ┆ 37.15822  ┆ mid       │\n",
       "└────────────┴──────────┴──────────┴──────────┴───┴────────────┴───────────┴───────────┴───────────┘"
      ]
     },
     "execution_count": 2,
     "metadata": {},
     "output_type": "execute_result"
    }
   ],
   "source": [
    "data = pl.read_parquet(\"../tests/test_data/test_data.parquet\")\n",
    "data.head()"
   ]
  },
  {
   "cell_type": "code",
   "execution_count": 3,
   "metadata": {},
   "outputs": [],
   "source": [
    "\n",
    "from humbldata.toolbox.technical.mandelbrot_channel.model import (\n",
    "    calc_mandelbrot_channel,\n",
    "    calc_mandelbrot_channel_historical,\n",
    ")\n",
    "\n",
    "mandelbrot = calc_mandelbrot_channel(\n",
    "        data,\n",
    "        window=\"1m\",\n",
    "        rv_adjustment=True,\n",
    "        rv_method=\"std\",\n",
    "        rv_grouped_mean=False,\n",
    "        rs_method=\"RS\",\n",
    "        live_price=False,\n",
    "    ).collect()"
   ]
  },
  {
   "cell_type": "code",
   "execution_count": 10,
   "metadata": {},
   "outputs": [
    {
     "data": {
      "text/html": [
       "<div><style>\n",
       ".dataframe > thead > tr,\n",
       ".dataframe > tbody > tr {\n",
       "  text-align: right;\n",
       "  white-space: pre-wrap;\n",
       "}\n",
       "</style>\n",
       "<small>shape: (5, 5)</small><table border=\"1\" class=\"dataframe\"><thead><tr><th>date</th><th>symbol</th><th>bottom_price</th><th>recent_price</th><th>top_price</th></tr><tr><td>date</td><td>str</td><td>f64</td><td>f64</td><td>f64</td></tr></thead><tbody><tr><td>2023-12-29</td><td>&quot;AAPL&quot;</td><td>191.0641</td><td>192.284637</td><td>214.0328</td></tr><tr><td>2023-12-29</td><td>&quot;AMD&quot;</td><td>131.4548</td><td>147.410004</td><td>152.316</td></tr><tr><td>2023-12-29</td><td>&quot;AMZN&quot;</td><td>146.3461</td><td>151.940002</td><td>159.3488</td></tr><tr><td>2023-12-29</td><td>&quot;GOOGL&quot;</td><td>135.1156</td><td>139.529861</td><td>141.2999</td></tr><tr><td>2023-12-29</td><td>&quot;PCT&quot;</td><td>2.4087</td><td>4.05</td><td>5.1265</td></tr></tbody></table></div>"
      ],
      "text/plain": [
       "shape: (5, 5)\n",
       "┌────────────┬────────┬──────────────┬──────────────┬───────────┐\n",
       "│ date       ┆ symbol ┆ bottom_price ┆ recent_price ┆ top_price │\n",
       "│ ---        ┆ ---    ┆ ---          ┆ ---          ┆ ---       │\n",
       "│ date       ┆ str    ┆ f64          ┆ f64          ┆ f64       │\n",
       "╞════════════╪════════╪══════════════╪══════════════╪═══════════╡\n",
       "│ 2023-12-29 ┆ AAPL   ┆ 191.0641     ┆ 192.284637   ┆ 214.0328  │\n",
       "│ 2023-12-29 ┆ AMD    ┆ 131.4548     ┆ 147.410004   ┆ 152.316   │\n",
       "│ 2023-12-29 ┆ AMZN   ┆ 146.3461     ┆ 151.940002   ┆ 159.3488  │\n",
       "│ 2023-12-29 ┆ GOOGL  ┆ 135.1156     ┆ 139.529861   ┆ 141.2999  │\n",
       "│ 2023-12-29 ┆ PCT    ┆ 2.4087       ┆ 4.05         ┆ 5.1265    │\n",
       "└────────────┴────────┴──────────────┴──────────────┴───────────┘"
      ]
     },
     "execution_count": 10,
     "metadata": {},
     "output_type": "execute_result"
    }
   ],
   "source": [
    "mandelbrot"
   ]
  },
  {
   "cell_type": "code",
   "execution_count": 4,
   "metadata": {},
   "outputs": [],
   "source": [
    "import pickle\n",
    "\n",
    "with open(\"../tests/test_data/mandelbrot_current.pkl\", \"r+b\") as file:\n",
    "    test_data = pickle.load(file)\n",
    "\n"
   ]
  },
  {
   "cell_type": "code",
   "execution_count": 5,
   "metadata": {},
   "outputs": [
    {
     "data": {
      "text/plain": [
       "HumblObject\n",
       "\n",
       "id: 0667182b-9b7e-7e4e-8000-a61c859bee7f\n",
       "results: {\"IR\":{\"version\":506,\"dsl\":{\"Select\":{\"expr\":[{\"Column\":\"date\"},{\"Column\":...\n",
       "equity_data: {\"IR\":{\"version\":0,\"dsl\":{\"MapFunction\":{\"input\":{\"DataFrameScan\":{\"df...\n",
       "provider: yfinance\n",
       "warnings: None\n",
       "chart: None\n",
       "extra: {}\n",
       "context_params: {'symbol': ['AMD', 'AAPL', 'NVDA', 'SMCI', 'GME'], 'interval': '1d'...\n",
       "command_params: {'window': '1mo', 'rv_adjustment': True, 'rv_method': 'std', 'rs_me..."
      ]
     },
     "execution_count": 5,
     "metadata": {},
     "output_type": "execute_result"
    }
   ],
   "source": [
    "test_data"
   ]
  },
  {
   "cell_type": "markdown",
   "metadata": {},
   "source": [
    "## Creating Fixture on the Fly "
   ]
  },
  {
   "cell_type": "code",
   "execution_count": 11,
   "metadata": {},
   "outputs": [
    {
     "data": {
      "text/plain": [
       "HumblObject\n",
       "\n",
       "id: 0667196b-79ea-75c5-8000-053e08ac3f33\n",
       "results: {\"IR\":{\"version\":1245,\"dsl\":{\"Select\":{\"expr\":[{\"Column\":\"date\"},{\"Column\"...\n",
       "equity_data: {\"IR\":{\"version\":739,\"dsl\":{\"MapFunction\":{\"input\":{\"DataFrameScan\":{\"...\n",
       "provider: yfinance\n",
       "warnings: None\n",
       "chart: None\n",
       "extra: {}\n",
       "context_params: {'symbol': ['AMD', 'AAPL', 'NVDA', 'SMCI', 'GME'], 'interval': '1d'...\n",
       "command_params: {'window': '1mo', 'rv_adjustment': True, 'rv_method': 'std', 'rs_me..."
      ]
     },
     "execution_count": 11,
     "metadata": {},
     "output_type": "execute_result"
    }
   ],
   "source": [
    "%load_ext autoreload\n",
    "%autoreload 2\n",
    "\n",
    "from humbldata.toolbox.toolbox_controller import Toolbox\n",
    "\n",
    "toolbox = Toolbox(\n",
    "    symbol=[\"AMD\", \"AAPL\", \"NVDA\", \"SMCI\", \"GME\"],\n",
    "    interval=\"1d\",\n",
    "    start_date=\"2000-01-01\",\n",
    "    end_date=\"2021-02-20\",\n",
    ")\n",
    "toolbox\n",
    "result = toolbox.technical.mandelbrot_channel(historical=False, window=\"1m\")\n",
    "result"
   ]
  },
  {
   "cell_type": "code",
   "execution_count": 12,
   "metadata": {},
   "outputs": [
    {
     "data": {
      "text/html": [
       "<div><style>\n",
       ".dataframe > thead > tr,\n",
       ".dataframe > tbody > tr {\n",
       "  text-align: right;\n",
       "  white-space: pre-wrap;\n",
       "}\n",
       "</style>\n",
       "<small>shape: (5, 5)</small><table border=\"1\" class=\"dataframe\"><thead><tr><th>date</th><th>symbol</th><th>bottom_price</th><th>recent_price</th><th>top_price</th></tr><tr><td>date</td><td>str</td><td>f64</td><td>f64</td><td>f64</td></tr></thead><tbody><tr><td>2021-02-19</td><td>&quot;AAPL&quot;</td><td>127.5741</td><td>127.643982</td><td>144.8156</td></tr><tr><td>2021-02-19</td><td>&quot;AMD&quot;</td><td>84.379</td><td>89.580002</td><td>96.2867</td></tr><tr><td>2021-02-19</td><td>&quot;GME&quot;</td><td>10.1433</td><td>10.1475</td><td>11.3692</td></tr><tr><td>2021-02-19</td><td>&quot;NVDA&quot;</td><td>14.239</td><td>14.891013</td><td>15.5453</td></tr><tr><td>2021-02-19</td><td>&quot;SMCI&quot;</td><td>30.4431</td><td>31.68</td><td>34.0473</td></tr></tbody></table></div>"
      ],
      "text/plain": [
       "shape: (5, 5)\n",
       "┌────────────┬────────┬──────────────┬──────────────┬───────────┐\n",
       "│ date       ┆ symbol ┆ bottom_price ┆ recent_price ┆ top_price │\n",
       "│ ---        ┆ ---    ┆ ---          ┆ ---          ┆ ---       │\n",
       "│ date       ┆ str    ┆ f64          ┆ f64          ┆ f64       │\n",
       "╞════════════╪════════╪══════════════╪══════════════╪═══════════╡\n",
       "│ 2021-02-19 ┆ AAPL   ┆ 127.5741     ┆ 127.643982   ┆ 144.8156  │\n",
       "│ 2021-02-19 ┆ AMD    ┆ 84.379       ┆ 89.580002    ┆ 96.2867   │\n",
       "│ 2021-02-19 ┆ GME    ┆ 10.1433      ┆ 10.1475      ┆ 11.3692   │\n",
       "│ 2021-02-19 ┆ NVDA   ┆ 14.239       ┆ 14.891013    ┆ 15.5453   │\n",
       "│ 2021-02-19 ┆ SMCI   ┆ 30.4431      ┆ 31.68        ┆ 34.0473   │\n",
       "└────────────┴────────┴──────────────┴──────────────┴───────────┘"
      ]
     },
     "execution_count": 12,
     "metadata": {},
     "output_type": "execute_result"
    }
   ],
   "source": [
    "result.to_polars()"
   ]
  },
  {
   "cell_type": "code",
   "execution_count": null,
   "metadata": {},
   "outputs": [],
   "source": []
  }
 ],
 "metadata": {
  "kernelspec": {
   "display_name": "Python 3",
   "language": "python",
   "name": "python3"
  },
  "language_info": {
   "codemirror_mode": {
    "name": "ipython",
    "version": 3
   },
   "file_extension": ".py",
   "mimetype": "text/x-python",
   "name": "python",
   "nbconvert_exporter": "python",
   "pygments_lexer": "ipython3",
   "version": "3.11.9"
  }
 },
 "nbformat": 4,
 "nbformat_minor": 2
}
