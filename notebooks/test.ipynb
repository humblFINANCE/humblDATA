{
 "cells": [
  {
   "cell_type": "code",
   "execution_count": null,
   "metadata": {},
   "outputs": [],
   "source": [
    "%load_ext autoreload\n",
    "%autoreload 2\n",
    "\n",
    "from humbldata.core.utils.openbb_helpers import obb_login\n",
    "from openbb import obb\n",
    "from humbldata.core.utils.env import Env\n",
    "import polars as pl\n",
    "\n",
    "# obb_login()\n",
    "obb.account.login(pat=Env().OBB_PAT, remember_me=True)"
   ]
  },
  {
   "cell_type": "code",
   "execution_count": null,
   "metadata": {},
   "outputs": [],
   "source": [
    "\n",
    "from humbldata.toolbox.technical.mandelbrot_channel.model import (\n",
    "    calc_mandelbrot_channel,\n",
    "    calc_mandelbrot_channel_historical,\n",
    ")\n",
    "\n",
    "\n",
    "data = (\n",
    "    obb.equity.price.historical(\n",
    "        [\"AAPL\"],\n",
    "        provider=\"yfinance\",\n",
    "        start_date=\"2020-01-01\",\n",
    "        end_date=\"2024-01-01\",\n",
    "        adjustment=\"splits_and_dividends\",\n",
    "    ).to_polars()\n",
    ").drop([\"dividends\", \"stock_splits\"]).with_columns(pl.lit(\"AAPL\").alias(\"symbol\"))\n",
    "\n",
    "mandelbrot = calc_mandelbrot_channel_historical(  # noqa: ERA001\n",
    "        data,\n",
    "        window=\"1m\",\n",
    "        rv_adjustment=True,\n",
    "        rv_method=\"std\",\n",
    "        rv_grouped_mean=False,\n",
    "        rs_method=\"RS\",\n",
    "        live_price=False,\n",
    "    ).collect()\n",
    "mandelbrot"
   ]
  },
  {
   "cell_type": "markdown",
   "metadata": {},
   "source": [
    "## Test `calc_up_down_pct`\n"
   ]
  },
  {
   "cell_type": "code",
   "execution_count": null,
   "metadata": {},
   "outputs": [],
   "source": [
    "from humbldata.portfolio.analytics.user_table.helpers import calc_up_down_pct\n",
    "\n",
    "\n",
    "df = pl.DataFrame({\n",
    "    \"symbol\": [\"AAPL\", \"GOOGL\", \"MSFT\"],\n",
    "    \"bottom_price\": [5.18, 15.07, 16.24],\n",
    "    \"recent_price\": [10.05, 20.31, 16.42],\n",
    "    \"top_price\": [11.23, 25.17, 30.09],\n",
    "})\n",
    "result = calc_up_down_pct(df)\n",
    "print(result)"
   ]
  },
  {
   "cell_type": "markdown",
   "metadata": {},
   "source": [
    "# Setting up UserTable"
   ]
  },
  {
   "cell_type": "code",
   "execution_count": null,
   "metadata": {},
   "outputs": [],
   "source": [
    "%load_ext autoreload\n",
    "%autoreload 2\n",
    "\n",
    "from humbldata.core.standard_models.portfolio.analytics.user_table import UserTableQueryParams\n",
    "from humbldata.core.utils.openbb_helpers import get_latest_price\n",
    "\n",
    "\n",
    "symbols = UserTableQueryParams(symbol=\"AAPL, MSFT, NVDA\").symbol\n",
    "symbols\n",
    "\n",
    "\n",
    "\n",
    "get_latest_price(symbols)"
   ]
  },
  {
   "cell_type": "markdown",
   "metadata": {},
   "source": [
    "# Tesing Async\n"
   ]
  },
  {
   "cell_type": "markdown",
   "metadata": {},
   "source": [
    "## Get Sector Async"
   ]
  },
  {
   "cell_type": "code",
   "execution_count": null,
   "metadata": {},
   "outputs": [],
   "source": [
    "%load_ext autoreload\n",
    "%autoreload 2\n",
    "\n",
    "from humbldata.core.utils.openbb_helpers import aget_etf_category\n",
    "import polars as pl\n",
    "\n",
    "stocks = pl.Series([\n",
    "    \"GOOGL\",  # Communication Services\n",
    "    \"AMZN\",   # Consumer Discretionary\n",
    "    \"KO\",     # Consumer Staples\n",
    "    \"XOM\",    # Energy\n",
    "    \"JPM\",    # Financials\n",
    "    \"JNJ\",    # Health Care\n",
    "    \"HON\",    # Industrials\n",
    "    \"AAPL\",   # Information Technology\n",
    "    \"LIN\",    # Materials\n",
    "    \"PLD\",    # Real Estate\n",
    "    \"NEE\"     # Utilities\n",
    "])\n",
    "test = (await aget_etf_category(symbols=[\"AAPL\", \"XLE\", \"DBA\"], provider=\"yfinance\")).collect()\n",
    "# test2 = (await aget_equity_sector(symbols=stocks, provider=\"yfinance\")).collect()\n",
    "# test2 = (await aget_equity_sector(symbols=[\"XLE\", \"AAPL\"], provider=\"yfinance\")).collect()\n",
    "test"
   ]
  },
  {
   "cell_type": "code",
   "execution_count": null,
   "metadata": {},
   "outputs": [],
   "source": [
    "symbols = [\"CORN\", 'SLV', 'DBA', \"XLE\", \"AAPL\", \"FXE\", \"SPY\", \"QQQ\", \"BITO\", \"MAXI\", \"SATO\", \"BIL\", \"LQD\", \"QAI\", \"MNA\", \"CLSE\"]\n",
    "symbols2 = [\"AAPL\", \"FXE\", \"SPY\", \"MAXI\", \"GLD\"]\n",
    "symbols3 = commodity_etf_symbols = [\"GLD\", \"IAU\", \"SLV\", \"GLDM\", \"PDBC\", \"SGOL\", \"FTGC\", \"DBC\", \"SIVR\", \"USO\", \"IAUM\", \"GSG\", \"BCI\", \"PPLT\", \"COMT\", \"GLTR\", \"OUNZ\", \"BAR\", \"UNG\", \"DBA\", \"AAAU\", \"DJP\", \"CMDT\", \"KRBN\", \"PALL\", \"COM\", \"NBCM\", \"CMDY\", \"DBO\", \"BCD\", \"KCCA\", \"CPER\", \"HGER\", \"USCI\", \"DBB\", \"DBP\", \"GCC\", \"WEAT\", \"BNO\", \"UGA\", \"DGP\", \"IGLD\", \"COMB\", \"DBE\", \"FGDL\", \"CORN\", \"USL\", \"CCRV\", \"DJCB\", \"IAUF\", \"PLTM\", \"BDRY\", \"PDBA\", \"BGLD\", \"UCIB\", \"SOYB\", \"GRN\", \"PIT\", \"BCIM\", \"RENW\", \"SDCI\", \"UNL\", \"SHNY\", \"DCMT\", \"TAGS\", \"CANE\", \"TMET\", \"KEUA\", \"HCOM\", \"HARD\", \"EVMT\", \"USG\", \"AMPD\", \"DZZ\", \"DGZ\", \"KMET\", \"CMCI\", \"USOY\", \"ZSC\", \"TILL\", \"BWET\", \"DULL\", \"ZSB\", \"LNGG\", \"USOI\", \"OILK\", \"SLVO\", \"GLDI\", \"BOIL\", \"KOLD\", \"AGQ\", \"GLL\", \"UGL\", \"ZSL\", \"UCO\", \"SCO\"]\n",
    "\n",
    "\n",
    "\n",
    "df = (await aget_etf_category(symbols=[\"AAPL\", \"XLE\", \"DBA\"])).collect()\n"
   ]
  },
  {
   "cell_type": "code",
   "execution_count": null,
   "metadata": {},
   "outputs": [],
   "source": [
    "from humbldata.portfolio.analytics.user_table.helpers import normalize_asset_class\n",
    "\n",
    "\n",
    "normalized_df = normalize_asset_class(df).select([\"symbol\", \"category\"])\n",
    "normalized_df"
   ]
  },
  {
   "cell_type": "code",
   "execution_count": null,
   "metadata": {},
   "outputs": [],
   "source": [
    "%load_ext autoreload\n",
    "%autoreload 2\n",
    "\n",
    "from humbldata.core.utils.openbb_helpers import aget_etf_category\n",
    "\n",
    "\n",
    "df2 = (await aget_etf_category(symbols=[\"AAPL\", \"XLE\", \"DBA\"])).collect()\n",
    "df2"
   ]
  },
  {
   "cell_type": "code",
   "execution_count": null,
   "metadata": {},
   "outputs": [],
   "source": [
    "%load_ext autoreload\n",
    "%autoreload 2\n",
    "\n",
    "from humbldata.core.standard_models.portfolio.analytics.etf_category import ETFCategoryData\n",
    "\n",
    "\n",
    "ETFCategoryData(df2)"
   ]
  },
  {
   "cell_type": "code",
   "execution_count": null,
   "metadata": {},
   "outputs": [],
   "source": [
    "%load_ext autoreload\n",
    "%autoreload 2\n",
    "\n",
    "from humbldata.portfolio.analytics.user_table.helpers import aget_asset_class_filter\n",
    "\n",
    "\n",
    "(await aget_asset_class_filter(symbols=[\"AAPL\", \"TSLA\", \"NVDA\"])).collect()"
   ]
  },
  {
   "cell_type": "markdown",
   "metadata": {},
   "source": [
    "## Test aget_sector_filter"
   ]
  },
  {
   "cell_type": "code",
   "execution_count": null,
   "metadata": {},
   "outputs": [],
   "source": [
    "%load_ext autoreload\n",
    "%autoreload 2\n",
    "\n",
    "from humbldata.portfolio.analytics.user_table.helpers import aget_sector_filter\n",
    "\n",
    "\n",
    "(await aget_sector_filter(symbols=[\"XLU\", \"XLE\", \"XLF\", \"XLC\", \"KO\", \"AAPL\"])).collect()"
   ]
  },
  {
   "cell_type": "markdown",
   "metadata": {},
   "source": [
    "# Test aggregate_user_table_data"
   ]
  },
  {
   "cell_type": "code",
   "execution_count": null,
   "metadata": {},
   "outputs": [],
   "source": [
    "\n",
    "\n",
    "from humbldata.portfolio.analytics.user_table.helpers import aggregate_user_table_data\n",
    "import polars as pl\n",
    "\n",
    "out: pl.LazyFrame = (await aggregate_user_table_data(symbols=[\"XLU\", \"XLE\", \"AAPL\"]))\n",
    "out.collect()"
   ]
  },
  {
   "cell_type": "markdown",
   "metadata": {},
   "source": [
    "## Test UserTableFetcher"
   ]
  },
  {
   "cell_type": "code",
   "execution_count": 3,
   "metadata": {},
   "outputs": [
    {
     "name": "stdout",
     "output_type": "stream",
     "text": [
      "The autoreload extension is already loaded. To reload it, use:\n",
      "  %reload_ext autoreload\n"
     ]
    },
    {
     "data": {
      "text/plain": [
       "Portfolio(symbols=['AAPL', 'TSLA', 'NVDA'], provider=yahoo, user_role=peon)"
      ]
     },
     "execution_count": 3,
     "metadata": {},
     "output_type": "execute_result"
    }
   ],
   "source": [
    "%load_ext autoreload\n",
    "%autoreload 2\n",
    "\n",
    "from humbldata.portfolio.portfolio_controller import Portfolio\n",
    "\n",
    "portfolio = Portfolio(symbols=[\"AAPL\", \"TSLA\", \"NVDA\"], user_role=\"peon\")\n",
    "portfolio"
   ]
  },
  {
   "cell_type": "code",
   "execution_count": 4,
   "metadata": {},
   "outputs": [
    {
     "name": "stdout",
     "output_type": "stream",
     "text": [
      "2024-07-08 16:28:18,781 - UserTableFetcher - INFO - START: fetch_data (async)\n",
      "2024-07-08 16:28:19,585 - UserTableFetcher - INFO - END: fetch_data (async) - Total time: 0.8036s\n"
     ]
    },
    {
     "data": {
      "text/plain": [
       "{'date': [datetime.date(2024, 7, 8),\n",
       "  datetime.date(2024, 7, 8),\n",
       "  datetime.date(2024, 7, 8)],\n",
       " 'symbol': ['AAPL', 'NVDA', 'TSLA'],\n",
       " 'buy_price': [220.5791, 123.1227, 232.6893],\n",
       " 'last_price': [226.4900054931641, 128.5749969482422, 256.28851318359375],\n",
       " 'sell_price': [235.8813, 137.5915, 256.3683],\n",
       " 'ud_pct': ['-2.61 / +4.15', '-4.24 / +7.01', '-9.21 / +0.03'],\n",
       " 'ud_ratio': [0.63, 0.6, 295.78],\n",
       " 'sector': ['Technology', 'Technology', 'Consumer Cyclical'],\n",
       " 'asset_class': ['Equity', 'Equity', 'Equity']}"
      ]
     },
     "execution_count": 4,
     "metadata": {},
     "output_type": "execute_result"
    }
   ],
   "source": [
    "(await portfolio.analytics.user_table()).to_dict(as_series=False)"
   ]
  },
  {
   "cell_type": "code",
   "execution_count": null,
   "metadata": {},
   "outputs": [],
   "source": [
    "import time\n",
    "from humbldata.core.utils.logger import setup_logger, log_start_end\n",
    "\n",
    "logger = setup_logger(__name__)\n",
    "\n",
    "@log_start_end(logger=logger)\n",
    "def simulate_computation():\n",
    "    \"\"\"Simulate a 5-second computation.\"\"\"\n",
    "    logger.info(\"Starting computation...\")\n",
    "    time.sleep(5)\n",
    "    logger.info(\"Computation completed.\")\n",
    "    return \"Computation result\"\n",
    "\n",
    "# Test the function\n",
    "result = simulate_computation()\n",
    "print(f\"Result: {result}\")\n"
   ]
  },
  {
   "cell_type": "code",
   "execution_count": 4,
   "metadata": {},
   "outputs": [
    {
     "data": {
      "text/plain": [
       "40"
      ]
     },
     "execution_count": 4,
     "metadata": {},
     "output_type": "execute_result"
    }
   ],
   "source": [
    "import logging\n",
    "logging.ERROR"
   ]
  },
  {
   "cell_type": "code",
   "execution_count": null,
   "metadata": {},
   "outputs": [],
   "source": []
  }
 ],
 "metadata": {
  "kernelspec": {
   "display_name": "Python 3",
   "language": "python",
   "name": "python3"
  },
  "language_info": {
   "codemirror_mode": {
    "name": "ipython",
    "version": 3
   },
   "file_extension": ".py",
   "mimetype": "text/x-python",
   "name": "python",
   "nbconvert_exporter": "python",
   "pygments_lexer": "ipython3",
   "version": "3.11.9"
  }
 },
 "nbformat": 4,
 "nbformat_minor": 2
}
