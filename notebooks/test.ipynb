{
 "cells": [
  {
   "cell_type": "code",
   "execution_count": 1,
   "metadata": {},
   "outputs": [],
   "source": [
    "%load_ext autoreload\n",
    "%autoreload 2\n",
    "\n",
    "from humbldata.core.utils.openbb_helpers import obb_login\n",
    "from openbb import obb\n",
    "from humbldata.core.utils.env import Env\n",
    "import polars as pl\n",
    "\n",
    "# obb_login()\n",
    "obb.account.login(pat=Env().OBB_PAT, remember_me=True)"
   ]
  },
  {
   "cell_type": "code",
   "execution_count": null,
   "metadata": {},
   "outputs": [],
   "source": [
    "\n",
    "from humbldata.toolbox.technical.mandelbrot_channel.model import (\n",
    "    calc_mandelbrot_channel,\n",
    "    calc_mandelbrot_channel_historical,\n",
    ")\n",
    "\n",
    "\n",
    "data = (\n",
    "    obb.equity.price.historical(\n",
    "        [\"AAPL\"],\n",
    "        provider=\"yfinance\",\n",
    "        start_date=\"2020-01-01\",\n",
    "        end_date=\"2024-01-01\",\n",
    "        adjustment=\"splits_and_dividends\",\n",
    "    ).to_polars()\n",
    ").drop([\"dividends\", \"stock_splits\"]).with_columns(pl.lit(\"AAPL\").alias(\"symbol\"))\n",
    "\n",
    "mandelbrot = calc_mandelbrot_channel_historical(  # noqa: ERA001\n",
    "        data,\n",
    "        window=\"1m\",\n",
    "        rv_adjustment=True,\n",
    "        rv_method=\"std\",\n",
    "        rv_grouped_mean=False,\n",
    "        rs_method=\"RS\",\n",
    "        live_price=False,\n",
    "    ).collect()\n",
    "mandelbrot"
   ]
  },
  {
   "cell_type": "markdown",
   "metadata": {},
   "source": [
    "# Setting up UserTable"
   ]
  },
  {
   "cell_type": "code",
   "execution_count": null,
   "metadata": {},
   "outputs": [],
   "source": [
    "%load_ext autoreload\n",
    "%autoreload 2\n",
    "\n",
    "from humbldata.core.standard_models.portfolio.analytics.user_table import UserTableQueryParams\n",
    "from humbldata.core.utils.openbb_helpers import get_latest_price\n",
    "\n",
    "\n",
    "symbols = UserTableQueryParams(symbol=\"AAPL, MSFT, NVDA\").symbol\n",
    "symbols\n",
    "\n",
    "\n",
    "\n",
    "get_latest_price(symbols)"
   ]
  },
  {
   "cell_type": "markdown",
   "metadata": {},
   "source": [
    "# Tesing Async\n"
   ]
  },
  {
   "cell_type": "markdown",
   "metadata": {},
   "source": [
    "## Get Latest Price Async"
   ]
  },
  {
   "cell_type": "code",
   "execution_count": null,
   "metadata": {},
   "outputs": [],
   "source": [
    "import asyncio\n",
    "import logging\n",
    "from typing import List\n",
    "\n",
    "import polars as pl\n",
    "from openbb import obb\n",
    "\n",
    "from humbldata.core.utils.constants import OBB_EQUITY_PRICE_QUOTE_PROVIDERS\n",
    "\n",
    "async def get_latest_price_async(\n",
    "    symbol: str | List[str] | pl.Series,\n",
    "    provider: OBB_EQUITY_PRICE_QUOTE_PROVIDERS | None = \"yfinance\",\n",
    ") -> pl.LazyFrame:\n",
    "    \"\"\"\n",
    "    Asynchronous version of get_latest_price.\n",
    "\n",
    "    Context: Core || Category: Utils || Subcategory: OpenBB Helpers || **Command: get_latest_price_async**.\n",
    "\n",
    "    Queries the latest stock price data for the given symbol(s) using the\n",
    "    specified provider asynchronously. Defaults to YahooFinance (`yfinance`) if no provider is\n",
    "    specified. Returns a LazyFrame with the stock symbols and their latest prices.\n",
    "\n",
    "    Parameters\n",
    "    ----------\n",
    "    symbol : str | List[str] | pl.Series\n",
    "        The stock symbol(s) to query for the latest price. Accepts a single\n",
    "        symbol, a list of symbols, or a Polars Series of symbols.\n",
    "    provider : OBB_EQUITY_PRICE_QUOTE_PROVIDERS, optional\n",
    "        The data provider for fetching stock prices. Default is `yfinance`.\n",
    "\n",
    "    Returns\n",
    "    -------\n",
    "    pl.LazyFrame\n",
    "        A Polars LazyFrame with columns for the stock symbols ('symbol') and\n",
    "        their latest prices ('recent_price').\n",
    "    \"\"\"\n",
    "    logging.getLogger(\"openbb_terminal.stocks.stocks_model\").setLevel(\n",
    "        logging.CRITICAL\n",
    "    )\n",
    "\n",
    "    loop = asyncio.get_event_loop()\n",
    "    result = await loop.run_in_executor(\n",
    "        None, lambda: obb.equity.price.quote(symbol, provider=provider)\n",
    "    )\n",
    "\n",
    "    return (\n",
    "        result.to_polars()\n",
    "        .lazy()\n",
    "        .select([\"symbol\", \"last_price\"])\n",
    "        .rename({\"last_price\": \"recent_price\"})\n",
    "    )"
   ]
  },
  {
   "cell_type": "code",
   "execution_count": null,
   "metadata": {},
   "outputs": [],
   "source": [
    "import asyncio\n",
    "import time\n",
    "from pathlib import Path\n",
    "\n",
    "import polars as pl\n",
    "from humbldata.core.utils.openbb_helpers import get_latest_price\n",
    "import nest_asyncio\n",
    "nest_asyncio.apply()\n",
    "\n",
    "async def run_async_version(symbols):\n",
    "    return await get_latest_price_async(symbols)\n",
    "\n",
    "def run_sync_version(symbols):\n",
    "    return get_latest_price(symbols)\n",
    "\n",
    "async def main():\n",
    "    symbols = [\"AAPL\", \"GOOGL\", \"MSFT\", \"AMZN\", \"FB\"]\n",
    "\n",
    "    # Test synchronous version\n",
    "    start_time = time.time()\n",
    "    sync_result = run_sync_version(symbols)\n",
    "    sync_time = time.time() - start_time\n",
    "    print(f\"Synchronous execution time: {sync_time:.4f} seconds\")\n",
    "    print(\"Synchronous result:\")\n",
    "    print(sync_result.collect())\n",
    "\n",
    "    print(\"\\n\" + \"=\"*50 + \"\\n\")\n",
    "\n",
    "    # Test asynchronous version\n",
    "    start_time = time.time()\n",
    "    async_result = await run_async_version(symbols)\n",
    "    async_time = time.time() - start_time\n",
    "    print(f\"Asynchronous execution time: {async_time:.4f} seconds\")\n",
    "    print(\"Asynchronous result:\")\n",
    "    print(async_result.collect())\n",
    "\n",
    "    print(\"\\n\" + \"=\"*50 + \"\\n\")\n",
    "    print(f\"Time difference: {sync_time - async_time:.4f} seconds\")\n",
    "    print(f\"Speedup factor: {sync_time / async_time:.2f}x\")\n",
    "\n",
    "# Modified execution part\n",
    "loop = asyncio.get_event_loop()\n",
    "loop.run_until_complete(main())"
   ]
  },
  {
   "cell_type": "markdown",
   "metadata": {},
   "source": [
    "## Get Sector Async"
   ]
  },
  {
   "cell_type": "code",
   "execution_count": null,
   "metadata": {},
   "outputs": [],
   "source": [
    "import asyncio\n",
    "from typing import List\n",
    "\n",
    "import polars as pl\n",
    "from openbb import obb\n",
    "\n",
    "from humbldata.core.utils.constants import OBB_EQUITY_PROFILE_PROVIDERS\n",
    "\n",
    "async def get_sector_async(\n",
    "    symbols: str | List[str] | pl.Series,\n",
    "    provider: OBB_EQUITY_PROFILE_PROVIDERS | None = \"yfinance\",\n",
    ") -> pl.LazyFrame:\n",
    "    \"\"\"\n",
    "    Asynchronous version of get_sector.\n",
    "\n",
    "    Context: Core || Category: Utils || Subcategory: OpenBB Helpers || **Command: get_sector_async**.\n",
    "\n",
    "    Retrieves the sector information for the given stock symbol(s) using OpenBB's equity profile data asynchronously.\n",
    "\n",
    "    Parameters\n",
    "    ----------\n",
    "    symbols : str | List[str] | pl.Series\n",
    "        The stock symbol(s) to query for sector information. Accepts a single\n",
    "        symbol, a list of symbols, or a Polars Series of symbols.\n",
    "    provider : str | None, optional\n",
    "        The data provider to use for fetching sector information. If None, the default\n",
    "        provider will be used.\n",
    "\n",
    "    Returns\n",
    "    -------\n",
    "    pl.LazyFrame\n",
    "        A Polars LazyFrame with columns for the stock symbols ('symbol') and\n",
    "        their corresponding sectors ('sector').\n",
    "\n",
    "    Notes\n",
    "    -----\n",
    "    This function uses OpenBB's equity profile data to fetch sector information.\n",
    "    It returns a lazy frame for efficient processing, especially with large datasets.\n",
    "    \"\"\"\n",
    "    loop = asyncio.get_event_loop()\n",
    "    result = await loop.run_in_executor(\n",
    "        None, lambda: obb.equity.profile(symbols, provider=provider)\n",
    "    )\n",
    "\n",
    "    return result.to_polars().lazy().select([\"symbol\", \"sector\"])"
   ]
  },
  {
   "cell_type": "code",
   "execution_count": null,
   "metadata": {},
   "outputs": [],
   "source": [
    "import asyncio\n",
    "import time\n",
    "from pathlib import Path\n",
    "\n",
    "import polars as pl\n",
    "from humbldata.core.utils.openbb_helpers import get_equity_sector\n",
    "\n",
    "async def run_async_version(symbols):\n",
    "    return await get_sector_async(symbols)\n",
    "\n",
    "def run_sync_version(symbols):\n",
    "    return get_equity_sector(symbols)\n",
    "\n",
    "async def main():\n",
    "    symbols = [\"XLK\", \"FXE\", \"FXF\", \"AMZN\", \"FB\"]\n",
    "\n",
    "    # Test synchronous version\n",
    "    start_time = time.time()\n",
    "    sync_result = run_sync_version(symbols)\n",
    "    sync_time = time.time() - start_time\n",
    "    print(f\"Synchronous execution time: {sync_time:.4f} seconds\")\n",
    "    print(\"Synchronous result:\")\n",
    "    print(sync_result.collect())\n",
    "\n",
    "    print(\"\\n\" + \"=\"*50 + \"\\n\")\n",
    "\n",
    "    # Test asynchronous version\n",
    "    start_time = time.time()\n",
    "    async_result = await run_async_version(symbols)\n",
    "    async_time = time.time() - start_time\n",
    "    print(f\"Asynchronous execution time: {async_time:.4f} seconds\")\n",
    "    print(\"Asynchronous result:\")\n",
    "    print(async_result.collect())\n",
    "\n",
    "    print(\"\\n\" + \"=\"*50 + \"\\n\")\n",
    "    print(f\"Time difference: {sync_time - async_time:.4f} seconds\")\n",
    "    print(f\"Speedup factor: {sync_time / async_time:.2f}x\")\n",
    "\n",
    "# Use this for regular Python scripts\n",
    "# if __name__ == \"__main__\":\n",
    "#     loop = asyncio.get_event_loop()\n",
    "#     loop.run_until_complete(main())\n",
    "\n",
    "# Use this for Jupyter Notebooks\n",
    "import nest_asyncio\n",
    "nest_asyncio.apply()\n",
    "await main()"
   ]
  },
  {
   "cell_type": "markdown",
   "metadata": {},
   "source": [
    "## Get ETF Category Async"
   ]
  },
  {
   "cell_type": "code",
   "execution_count": 27,
   "metadata": {},
   "outputs": [],
   "source": [
    "from humbldata.core.utils.openbb_helpers import aget_etf_category\n",
    "import asyncio\n",
    "\n",
    "\n",
    "test = (await aget_etf_category(symbols=\"XLK\", provider=\"yfinance\")).collect_async()"
   ]
  },
  {
   "cell_type": "code",
   "execution_count": 28,
   "metadata": {},
   "outputs": [
    {
     "data": {
      "text/plain": [
       "<polars._utils.async_._AioDataFrameResult at 0x16c025d50>"
      ]
     },
     "execution_count": 28,
     "metadata": {},
     "output_type": "execute_result"
    }
   ],
   "source": [
    "test"
   ]
  },
  {
   "cell_type": "code",
   "execution_count": 32,
   "metadata": {},
   "outputs": [],
   "source": [
    "from humbldata.core.utils.openbb_helpers import aget_equity_sector\n",
    "\n",
    "\n",
    "test2 = await aget_equity_sector(symbols=[\"XLK\", \"AAPL\"], provider=\"yfinance\")"
   ]
  },
  {
   "cell_type": "code",
   "execution_count": 33,
   "metadata": {},
   "outputs": [
    {
     "data": {
      "text/html": [
       "<i>naive plan: (run <b>LazyFrame.explain(optimized=True)</b> to see the optimized plan)</i>\n",
       "    <p></p>\n",
       "    <div> SELECT [col(\"symbol\"), col(\"sector\")] FROM<p></p>  DF [\"symbol\", \"name\", \"stock_exchange\", \"long_description\"]; PROJECT */25 COLUMNS; SELECTION: None</div>"
      ],
      "text/plain": [
       "<LazyFrame at 0x349C34F50>"
      ]
     },
     "execution_count": 33,
     "metadata": {},
     "output_type": "execute_result"
    }
   ],
   "source": [
    "test2"
   ]
  },
  {
   "cell_type": "code",
   "execution_count": 34,
   "metadata": {},
   "outputs": [
    {
     "data": {
      "text/plain": [
       "['XLK']"
      ]
     },
     "execution_count": 34,
     "metadata": {},
     "output_type": "execute_result"
    }
   ],
   "source": [
    "test2.filter(pl.col(\"sector\").is_null()).select([\"symbol\"]).collect().to_series().to_list()"
   ]
  },
  {
   "cell_type": "code",
   "execution_count": null,
   "metadata": {},
   "outputs": [],
   "source": [
    "obb.etf.info(symbol='XLK', provider='yfinance').to_polars().select([\"symbol\", \"category\"])"
   ]
  },
  {
   "cell_type": "code",
   "execution_count": 40,
   "metadata": {},
   "outputs": [],
   "source": [
    "df = obb.equity.profile([\"XLK\"], provider='yfinance')"
   ]
  },
  {
   "cell_type": "code",
   "execution_count": 43,
   "metadata": {},
   "outputs": [
    {
     "ename": "ColumnNotFoundError",
     "evalue": "sector",
     "output_type": "error",
     "traceback": [
      "\u001b[0;31m---------------------------------------------------------------------------\u001b[0m",
      "\u001b[0;31mColumnNotFoundError\u001b[0m                       Traceback (most recent call last)",
      "Cell \u001b[0;32mIn[43], line 1\u001b[0m\n\u001b[0;32m----> 1\u001b[0m \u001b[43mdf\u001b[49m\u001b[38;5;241;43m.\u001b[39;49m\u001b[43mto_polars\u001b[49m\u001b[43m(\u001b[49m\u001b[43m)\u001b[49m\u001b[38;5;241;43m.\u001b[39;49m\u001b[43mselect\u001b[49m\u001b[43m(\u001b[49m\u001b[43m[\u001b[49m\u001b[38;5;124;43m\"\u001b[39;49m\u001b[38;5;124;43msymbol\u001b[39;49m\u001b[38;5;124;43m\"\u001b[39;49m\u001b[43m,\u001b[49m\u001b[43m \u001b[49m\u001b[38;5;124;43m\"\u001b[39;49m\u001b[38;5;124;43msector\u001b[39;49m\u001b[38;5;124;43m\"\u001b[39;49m\u001b[43m]\u001b[49m\u001b[43m)\u001b[49m\n",
      "File \u001b[0;32m~/github/humblFINANCE-org/humblDATA/menv/lib/python3.11/site-packages/polars/dataframe/frame.py:8461\u001b[0m, in \u001b[0;36mDataFrame.select\u001b[0;34m(self, *exprs, **named_exprs)\u001b[0m\n\u001b[1;32m   8361\u001b[0m \u001b[38;5;28;01mdef\u001b[39;00m \u001b[38;5;21mselect\u001b[39m(\n\u001b[1;32m   8362\u001b[0m     \u001b[38;5;28mself\u001b[39m, \u001b[38;5;241m*\u001b[39mexprs: IntoExpr \u001b[38;5;241m|\u001b[39m Iterable[IntoExpr], \u001b[38;5;241m*\u001b[39m\u001b[38;5;241m*\u001b[39mnamed_exprs: IntoExpr\n\u001b[1;32m   8363\u001b[0m ) \u001b[38;5;241m-\u001b[39m\u001b[38;5;241m>\u001b[39m DataFrame:\n\u001b[1;32m   8364\u001b[0m \u001b[38;5;250m    \u001b[39m\u001b[38;5;124;03m\"\"\"\u001b[39;00m\n\u001b[1;32m   8365\u001b[0m \u001b[38;5;124;03m    Select columns from this DataFrame.\u001b[39;00m\n\u001b[1;32m   8366\u001b[0m \n\u001b[0;32m   (...)\u001b[0m\n\u001b[1;32m   8459\u001b[0m \u001b[38;5;124;03m    └───────────┘\u001b[39;00m\n\u001b[1;32m   8460\u001b[0m \u001b[38;5;124;03m    \"\"\"\u001b[39;00m\n\u001b[0;32m-> 8461\u001b[0m     \u001b[38;5;28;01mreturn\u001b[39;00m \u001b[38;5;28;43mself\u001b[39;49m\u001b[38;5;241;43m.\u001b[39;49m\u001b[43mlazy\u001b[49m\u001b[43m(\u001b[49m\u001b[43m)\u001b[49m\u001b[38;5;241;43m.\u001b[39;49m\u001b[43mselect\u001b[49m\u001b[43m(\u001b[49m\u001b[38;5;241;43m*\u001b[39;49m\u001b[43mexprs\u001b[49m\u001b[43m,\u001b[49m\u001b[43m \u001b[49m\u001b[38;5;241;43m*\u001b[39;49m\u001b[38;5;241;43m*\u001b[39;49m\u001b[43mnamed_exprs\u001b[49m\u001b[43m)\u001b[49m\u001b[38;5;241;43m.\u001b[39;49m\u001b[43mcollect\u001b[49m\u001b[43m(\u001b[49m\u001b[43m_eager\u001b[49m\u001b[38;5;241;43m=\u001b[39;49m\u001b[38;5;28;43;01mTrue\u001b[39;49;00m\u001b[43m)\u001b[49m\n",
      "File \u001b[0;32m~/github/humblFINANCE-org/humblDATA/menv/lib/python3.11/site-packages/polars/lazyframe/frame.py:1967\u001b[0m, in \u001b[0;36mLazyFrame.collect\u001b[0;34m(self, type_coercion, predicate_pushdown, projection_pushdown, simplify_expression, slice_pushdown, comm_subplan_elim, comm_subexpr_elim, cluster_with_columns, no_optimization, streaming, background, _eager, **_kwargs)\u001b[0m\n\u001b[1;32m   1964\u001b[0m \u001b[38;5;66;03m# Only for testing purposes atm.\u001b[39;00m\n\u001b[1;32m   1965\u001b[0m callback \u001b[38;5;241m=\u001b[39m _kwargs\u001b[38;5;241m.\u001b[39mget(\u001b[38;5;124m\"\u001b[39m\u001b[38;5;124mpost_opt_callback\u001b[39m\u001b[38;5;124m\"\u001b[39m)\n\u001b[0;32m-> 1967\u001b[0m \u001b[38;5;28;01mreturn\u001b[39;00m wrap_df(\u001b[43mldf\u001b[49m\u001b[38;5;241;43m.\u001b[39;49m\u001b[43mcollect\u001b[49m\u001b[43m(\u001b[49m\u001b[43mcallback\u001b[49m\u001b[43m)\u001b[49m)\n",
      "\u001b[0;31mColumnNotFoundError\u001b[0m: sector"
     ]
    }
   ],
   "source": [
    "df.to_polars().select([\"symbol\", \"sector\"])"
   ]
  },
  {
   "cell_type": "code",
   "execution_count": null,
   "metadata": {},
   "outputs": [],
   "source": [
    "df.filter(pl.col(\"sector\").is_null()).select([\"symbol\"]).to_series().to_list()"
   ]
  }
 ],
 "metadata": {
  "kernelspec": {
   "display_name": "Python 3",
   "language": "python",
   "name": "python3"
  },
  "language_info": {
   "codemirror_mode": {
    "name": "ipython",
    "version": 3
   },
   "file_extension": ".py",
   "mimetype": "text/x-python",
   "name": "python",
   "nbconvert_exporter": "python",
   "pygments_lexer": "ipython3",
   "version": "3.11.9"
  }
 },
 "nbformat": 4,
 "nbformat_minor": 2
}
