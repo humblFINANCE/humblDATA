{
 "cells": [
  {
   "cell_type": "code",
   "execution_count": 1,
   "metadata": {},
   "outputs": [],
   "source": [
    "%load_ext autoreload\n",
    "%autoreload 2\n",
    "\n",
    "from humbldata.core.utils.openbb_helpers import obb_login\n",
    "from openbb import obb\n",
    "from humbldata.core.utils.env import Env\n",
    "import polars as pl\n",
    "\n",
    "# obb_login()\n",
    "obb.account.login(pat=Env().OBB_PAT, remember_me=True)"
   ]
  },
  {
   "cell_type": "code",
   "execution_count": null,
   "metadata": {},
   "outputs": [],
   "source": [
    "\n",
    "from humbldata.toolbox.technical.mandelbrot_channel.model import (\n",
    "    calc_mandelbrot_channel,\n",
    "    calc_mandelbrot_channel_historical,\n",
    ")\n",
    "\n",
    "\n",
    "data = (\n",
    "    obb.equity.price.historical(\n",
    "        [\"AAPL\"],\n",
    "        provider=\"yfinance\",\n",
    "        start_date=\"2020-01-01\",\n",
    "        end_date=\"2024-01-01\",\n",
    "        adjustment=\"splits_and_dividends\",\n",
    "    ).to_polars()\n",
    ").drop([\"dividends\", \"stock_splits\"]).with_columns(pl.lit(\"AAPL\").alias(\"symbol\"))\n",
    "\n",
    "mandelbrot = calc_mandelbrot_channel_historical(  # noqa: ERA001\n",
    "        data,\n",
    "        window=\"1m\",\n",
    "        rv_adjustment=True,\n",
    "        rv_method=\"std\",\n",
    "        rv_grouped_mean=False,\n",
    "        rs_method=\"RS\",\n",
    "        live_price=False,\n",
    "    ).collect()\n",
    "mandelbrot"
   ]
  },
  {
   "cell_type": "markdown",
   "metadata": {},
   "source": [
    "# Setting up UserTable"
   ]
  },
  {
   "cell_type": "code",
   "execution_count": null,
   "metadata": {},
   "outputs": [],
   "source": [
    "%load_ext autoreload\n",
    "%autoreload 2\n",
    "\n",
    "from humbldata.core.standard_models.portfolio.analytics.user_table import UserTableQueryParams\n",
    "from humbldata.core.utils.openbb_helpers import get_latest_price\n",
    "\n",
    "\n",
    "symbols = UserTableQueryParams(symbol=\"AAPL, MSFT, NVDA\").symbol\n",
    "symbols\n",
    "\n",
    "\n",
    "\n",
    "get_latest_price(symbols)"
   ]
  },
  {
   "cell_type": "markdown",
   "metadata": {},
   "source": [
    "# Tesing Async\n"
   ]
  },
  {
   "cell_type": "markdown",
   "metadata": {},
   "source": [
    "## Get Sector Async"
   ]
  },
  {
   "cell_type": "code",
   "execution_count": 11,
   "metadata": {},
   "outputs": [
    {
     "name": "stdout",
     "output_type": "stream",
     "text": [
      "The autoreload extension is already loaded. To reload it, use:\n",
      "  %reload_ext autoreload\n"
     ]
    },
    {
     "data": {
      "text/html": [
       "<div><style>\n",
       ".dataframe > thead > tr,\n",
       ".dataframe > tbody > tr {\n",
       "  text-align: right;\n",
       "  white-space: pre-wrap;\n",
       "}\n",
       "</style>\n",
       "<small>shape: (1, 2)</small><table border=\"1\" class=\"dataframe\"><thead><tr><th>symbol</th><th>sector</th></tr><tr><td>str</td><td>str</td></tr></thead><tbody><tr><td>&quot;DBA&quot;</td><td>&quot;Commodities Focused&quot;</td></tr></tbody></table></div>"
      ],
      "text/plain": [
       "shape: (1, 2)\n",
       "┌────────┬─────────────────────┐\n",
       "│ symbol ┆ sector              │\n",
       "│ ---    ┆ ---                 │\n",
       "│ str    ┆ str                 │\n",
       "╞════════╪═════════════════════╡\n",
       "│ DBA    ┆ Commodities Focused │\n",
       "└────────┴─────────────────────┘"
      ]
     },
     "execution_count": 11,
     "metadata": {},
     "output_type": "execute_result"
    }
   ],
   "source": [
    "%load_ext autoreload\n",
    "%autoreload 2\n",
    "\n",
    "from humbldata.core.utils.openbb_helpers import aget_etf_sector, aget_equity_sector\n",
    "import polars as pl\n",
    "\n",
    "stocks = pl.Series([\n",
    "    \"GOOGL\",  # Communication Services\n",
    "    \"AMZN\",   # Consumer Discretionary\n",
    "    \"KO\",     # Consumer Staples\n",
    "    \"XOM\",    # Energy\n",
    "    \"JPM\",    # Financials\n",
    "    \"JNJ\",    # Health Care\n",
    "    \"HON\",    # Industrials\n",
    "    \"AAPL\",   # Information Technology\n",
    "    \"LIN\",    # Materials\n",
    "    \"PLD\",    # Real Estate\n",
    "    \"NEE\"     # Utilities\n",
    "])\n",
    "# test = (await aget_etf_sector(symbols=stocks, provider=\"yfinance\")).collect()\n",
    "test = (await aget_etf_sector(symbols=\"DBA\", provider=\"yfinance\")).collect()\n",
    "# test2 = (await aget_equity_sector(symbols=stocks, provider=\"yfinance\")).collect()\n",
    "# test2 = (await aget_equity_sector(symbols=[\"XLE\", \"AAPL\"], provider=\"yfinance\")).collect()\n",
    "test"
   ]
  },
  {
   "cell_type": "code",
   "execution_count": 2,
   "metadata": {},
   "outputs": [
    {
     "name": "stderr",
     "output_type": "stream",
     "text": [
      "/Users/jjfantini/github/humblFINANCE-org/humblDATA/menv/lib/python3.11/site-packages/openbb_yfinance/models/etf_info.py:286: UserWarning: AAPL is not an ETF.\n",
      "  _warn(f\"{symbol} is not an ETF.\")\n"
     ]
    },
    {
     "data": {
      "text/html": [
       "<div><style>\n",
       ".dataframe > thead > tr,\n",
       ".dataframe > tbody > tr {\n",
       "  text-align: right;\n",
       "  white-space: pre-wrap;\n",
       "}\n",
       "</style>\n",
       "<small>shape: (4, 35)</small><table border=\"1\" class=\"dataframe\"><thead><tr><th>symbol</th><th>name</th><th>description</th><th>inception_date</th><th>fund_type</th><th>fund_family</th><th>category</th><th>exchange</th><th>exchange_timezone</th><th>currency</th><th>nav_price</th><th>total_assets</th><th>trailing_pe</th><th>dividend_yield</th><th>dividend_rate_ttm</th><th>dividend_yield_ttm</th><th>year_high</th><th>year_low</th><th>ma_50d</th><th>ma_200d</th><th>return_ytd</th><th>return_3y_avg</th><th>return_5y_avg</th><th>beta_3y_avg</th><th>volume_avg</th><th>volume_avg_10d</th><th>bid</th><th>bid_size</th><th>ask</th><th>ask_size</th><th>open</th><th>high</th><th>low</th><th>volume</th><th>prev_close</th></tr><tr><td>str</td><td>str</td><td>str</td><td>str</td><td>str</td><td>str</td><td>str</td><td>str</td><td>str</td><td>str</td><td>f64</td><td>i64</td><td>f64</td><td>f64</td><td>f64</td><td>f64</td><td>f64</td><td>f64</td><td>f64</td><td>f64</td><td>f64</td><td>f64</td><td>f64</td><td>f64</td><td>f64</td><td>f64</td><td>f64</td><td>f64</td><td>f64</td><td>f64</td><td>f64</td><td>f64</td><td>f64</td><td>i64</td><td>f64</td></tr></thead><tbody><tr><td>&quot;FXE&quot;</td><td>&quot;Invesco CurrencyShares Euro Cu…</td><td>null</td><td>&quot;2005-12-09&quot;</td><td>&quot;Exchange Traded Fund&quot;</td><td>&quot;Invesco&quot;</td><td>&quot;Single Currency&quot;</td><td>&quot;PCX&quot;</td><td>&quot;America/New_York&quot;</td><td>&quot;USD&quot;</td><td>98.71</td><td>185397872</td><td>null</td><td>0.0213</td><td>null</td><td>null</td><td>103.84</td><td>96.42</td><td>99.4352</td><td>99.57475</td><td>-0.021703</td><td>-0.031496</td><td>-0.012929</td><td>11.79</td><td>36335.0</td><td>34510.0</td><td>98.92</td><td>3000.0</td><td>98.93</td><td>3000.0</td><td>99.1</td><td>99.07</td><td>98.91</td><td>6202</td><td>98.67</td></tr><tr><td>&quot;SPY&quot;</td><td>&quot;SPDR S&amp;P 500 ETF Trust&quot;</td><td>&quot;The Trust seeks to achieve its…</td><td>&quot;1993-01-22&quot;</td><td>&quot;Exchange Traded Fund&quot;</td><td>&quot;SPDR State Street Global Advis…</td><td>&quot;Large Blend&quot;</td><td>&quot;PCX&quot;</td><td>&quot;America/New_York&quot;</td><td>&quot;USD&quot;</td><td>545.6304</td><td>533350318080</td><td>27.458626</td><td>0.0128</td><td>5.662</td><td>0.010379</td><td>550.12</td><td>409.21</td><td>524.1098</td><td>484.3876</td><td>0.1550027</td><td>0.1016083</td><td>0.1524924</td><td>1.0</td><td>5.8383108e7</td><td>5.019949e7</td><td>544.96</td><td>1000.0</td><td>544.97</td><td>900.0</td><td>545.37</td><td>546.96</td><td>544.63</td><td>20540919</td><td>545.51</td></tr><tr><td>&quot;MAXI&quot;</td><td>&quot;Simplify Bitcoin Strategy PLUS…</td><td>&quot;The fund is an actively manage…</td><td>&quot;2022-09-29&quot;</td><td>&quot;Exchange Traded Fund&quot;</td><td>&quot;Simplify Asset Management&quot;</td><td>&quot;Digital Assets&quot;</td><td>&quot;NGM&quot;</td><td>&quot;America/New_York&quot;</td><td>&quot;USD&quot;</td><td>25.6749</td><td>23099424</td><td>null</td><td>0.2019</td><td>null</td><td>null</td><td>32.41</td><td>14.4</td><td>27.917</td><td>23.300005</td><td>0.389012</td><td>null</td><td>null</td><td>null</td><td>17343.0</td><td>16780.0</td><td>24.33</td><td>100.0</td><td>27.96</td><td>100.0</td><td>26.08</td><td>26.28</td><td>25.91</td><td>5787</td><td>25.71</td></tr><tr><td>&quot;GLD&quot;</td><td>&quot;SPDR Gold Shares&quot;</td><td>&quot;The Trust holds gold bars and …</td><td>&quot;2004-11-18&quot;</td><td>&quot;Exchange Traded Fund&quot;</td><td>&quot;SPDR State Street Global Advis…</td><td>&quot;Commodities Focused&quot;</td><td>&quot;PCX&quot;</td><td>&quot;America/New_York&quot;</td><td>&quot;USD&quot;</td><td>212.70082</td><td>62809575424</td><td>null</td><td>null</td><td>null</td><td>null</td><td>225.66</td><td>168.3</td><td>216.6096</td><td>195.52756</td><td>0.1119946</td><td>0.084654</td><td>0.098383</td><td>0.12</td><td>8.14112e6</td><td>5.69998e6</td><td>214.88</td><td>1400.0</td><td>214.9</td><td>1300.0</td><td>214.71</td><td>215.5</td><td>214.45</td><td>3158536</td><td>212.58</td></tr></tbody></table></div>"
      ],
      "text/plain": [
       "shape: (4, 35)\n",
       "┌────────┬──────────────┬──────────────┬─────────────┬───┬────────┬────────┬──────────┬────────────┐\n",
       "│ symbol ┆ name         ┆ description  ┆ inception_d ┆ … ┆ high   ┆ low    ┆ volume   ┆ prev_close │\n",
       "│ ---    ┆ ---          ┆ ---          ┆ ate         ┆   ┆ ---    ┆ ---    ┆ ---      ┆ ---        │\n",
       "│ str    ┆ str          ┆ str          ┆ ---         ┆   ┆ f64    ┆ f64    ┆ i64      ┆ f64        │\n",
       "│        ┆              ┆              ┆ str         ┆   ┆        ┆        ┆          ┆            │\n",
       "╞════════╪══════════════╪══════════════╪═════════════╪═══╪════════╪════════╪══════════╪════════════╡\n",
       "│ FXE    ┆ Invesco Curr ┆ null         ┆ 2005-12-09  ┆ … ┆ 99.07  ┆ 98.91  ┆ 6202     ┆ 98.67      │\n",
       "│        ┆ encyShares   ┆              ┆             ┆   ┆        ┆        ┆          ┆            │\n",
       "│        ┆ Euro Cu…     ┆              ┆             ┆   ┆        ┆        ┆          ┆            │\n",
       "│ SPY    ┆ SPDR S&P 500 ┆ The Trust    ┆ 1993-01-22  ┆ … ┆ 546.96 ┆ 544.63 ┆ 20540919 ┆ 545.51     │\n",
       "│        ┆ ETF Trust    ┆ seeks to     ┆             ┆   ┆        ┆        ┆          ┆            │\n",
       "│        ┆              ┆ achieve its… ┆             ┆   ┆        ┆        ┆          ┆            │\n",
       "│ MAXI   ┆ Simplify     ┆ The fund is  ┆ 2022-09-29  ┆ … ┆ 26.28  ┆ 25.91  ┆ 5787     ┆ 25.71      │\n",
       "│        ┆ Bitcoin      ┆ an actively  ┆             ┆   ┆        ┆        ┆          ┆            │\n",
       "│        ┆ Strategy     ┆ manage…      ┆             ┆   ┆        ┆        ┆          ┆            │\n",
       "│        ┆ PLUS…        ┆              ┆             ┆   ┆        ┆        ┆          ┆            │\n",
       "│ GLD    ┆ SPDR Gold    ┆ The Trust    ┆ 2004-11-18  ┆ … ┆ 215.5  ┆ 214.45 ┆ 3158536  ┆ 212.58     │\n",
       "│        ┆ Shares       ┆ holds gold   ┆             ┆   ┆        ┆        ┆          ┆            │\n",
       "│        ┆              ┆ bars and …   ┆             ┆   ┆        ┆        ┆          ┆            │\n",
       "└────────┴──────────────┴──────────────┴─────────────┴───┴────────┴────────┴──────────┴────────────┘"
      ]
     },
     "execution_count": 2,
     "metadata": {},
     "output_type": "execute_result"
    }
   ],
   "source": [
    "symbols = [\"CORN\", 'SLV', 'DBA', \"XLE\", \"AAPL\", \"FXE\", \"SPY\", \"QQQ\", \"BITO\", \"MAXI\", \"SATO\", \"BIL\", \"LQD\", \"QAI\", \"MNA\", \"CLSE\"]\n",
    "symbols2 = [\"AAPL\", \"FXE\", \"SPY\", \"MAXI\", \"GLD\"]\n",
    "symbols3 = ['IBIT', 'GBTC', 'FBTC', 'ARKB', 'BITB', 'HODL', 'BRRR', 'UUP', 'BTCO', 'EZBC', 'FXY', 'USDU', 'FXE', 'FXF', 'BTCW', 'FXA', 'FXC', 'UDN', 'FXB', 'BTF', 'YBIT', 'YBTC', 'EFUT', 'MAXI', 'ARKA', 'AETH', 'ARKZ', 'BITC', 'DEFI', 'BTOP', 'CEW', 'ARKY', 'ARKC', 'BTRN', 'SETH', 'BETE', 'BETH', 'EETH', 'BITI']\n",
    "\n",
    "df = obb.etf.info(symbol=symbols2, provider='yfinance').to_polars()\n",
    "df"
   ]
  },
  {
   "cell_type": "code",
   "execution_count": null,
   "metadata": {},
   "outputs": [],
   "source": [
    "from humbldata.core.utils.openbb_helpers import normalize_asset_class\n",
    "\n",
    "\n",
    "normalized_df = normalize_asset_class(df)\n",
    "normalized_df"
   ]
  },
  {
   "cell_type": "code",
   "execution_count": 8,
   "metadata": {},
   "outputs": [
    {
     "name": "stdout",
     "output_type": "stream",
     "text": [
      "The autoreload extension is already loaded. To reload it, use:\n",
      "  %reload_ext autoreload\n"
     ]
    },
    {
     "data": {
      "text/html": [
       "<div><style>\n",
       ".dataframe > thead > tr,\n",
       ".dataframe > tbody > tr {\n",
       "  text-align: right;\n",
       "  white-space: pre-wrap;\n",
       "}\n",
       "</style>\n",
       "<small>shape: (2, 2)</small><table border=\"1\" class=\"dataframe\"><thead><tr><th>symbol</th><th>asset_class</th></tr><tr><td>str</td><td>str</td></tr></thead><tbody><tr><td>&quot;AAPL&quot;</td><td>&quot;Equity&quot;</td></tr><tr><td>&quot;XLE&quot;</td><td>&quot;Equity&quot;</td></tr></tbody></table></div>"
      ],
      "text/plain": [
       "shape: (2, 2)\n",
       "┌────────┬─────────────┐\n",
       "│ symbol ┆ asset_class │\n",
       "│ ---    ┆ ---         │\n",
       "│ str    ┆ str         │\n",
       "╞════════╪═════════════╡\n",
       "│ AAPL   ┆ Equity      │\n",
       "│ XLE    ┆ Equity      │\n",
       "└────────┴─────────────┘"
      ]
     },
     "execution_count": 8,
     "metadata": {},
     "output_type": "execute_result"
    }
   ],
   "source": [
    "%load_ext autoreload\n",
    "%autoreload 2\n",
    "\n",
    "from humbldata.core.utils.openbb_helpers import aget_asset_class\n",
    "\n",
    "\n",
    "(await aget_asset_class(symbols=[\"AAPL\", \"XLE\"])).collect()"
   ]
  },
  {
   "cell_type": "code",
   "execution_count": 20,
   "metadata": {},
   "outputs": [
    {
     "name": "stdout",
     "output_type": "stream",
     "text": [
      "The autoreload extension is already loaded. To reload it, use:\n",
      "  %reload_ext autoreload\n"
     ]
    },
    {
     "data": {
      "text/html": [
       "<div><style>\n",
       ".dataframe > thead > tr,\n",
       ".dataframe > tbody > tr {\n",
       "  text-align: right;\n",
       "  white-space: pre-wrap;\n",
       "}\n",
       "</style>\n",
       "<small>shape: (2, 2)</small><table border=\"1\" class=\"dataframe\"><thead><tr><th>symbol</th><th>asset_class</th></tr><tr><td>str</td><td>str</td></tr></thead><tbody><tr><td>&quot;AAPL&quot;</td><td>&quot;Equity&quot;</td></tr><tr><td>&quot;XLE&quot;</td><td>&quot;Equity&quot;</td></tr></tbody></table></div>"
      ],
      "text/plain": [
       "shape: (2, 2)\n",
       "┌────────┬─────────────┐\n",
       "│ symbol ┆ asset_class │\n",
       "│ ---    ┆ ---         │\n",
       "│ str    ┆ str         │\n",
       "╞════════╪═════════════╡\n",
       "│ AAPL   ┆ Equity      │\n",
       "│ XLE    ┆ Equity      │\n",
       "└────────┴─────────────┘"
      ]
     },
     "execution_count": 20,
     "metadata": {},
     "output_type": "execute_result"
    }
   ],
   "source": [
    "%load_ext autoreload\n",
    "%autoreload 2\n",
    "\n",
    "from humbldata.portfolio.analytics.user_table.helpers import aget_asset_class_filter\n",
    "\n",
    "\n",
    "(await aget_asset_class_filter(symbols=[\"AAPL\", \"XLE\"])).collect()"
   ]
  },
  {
   "cell_type": "code",
   "execution_count": null,
   "metadata": {},
   "outputs": [],
   "source": [
    "%load_ext autoreload\n",
    "%autoreload 2\n",
    "\n",
    "from humbldata.core.utils.constants import ASSET_CLASS_MAPPING\n",
    "\n",
    "\n",
    "remapped_assets = df.with_columns(\n",
    "            pl.col(\"category\").replace(ASSET_CLASS_MAPPING)\n",
    "        )\n",
    "remapped_assets"
   ]
  },
  {
   "cell_type": "code",
   "execution_count": null,
   "metadata": {},
   "outputs": [],
   "source": [
    "import polars as pl\n",
    "import re\n",
    "\n",
    "# Define a subset of ASSET_CLASS_MAPPING with only regex patterns\n",
    "REGEX_ASSET_CLASS_MAPPING = {\n",
    "    r\".*\\s?Bond.*\": \"Fixed Income\",\n",
    "    r\".*Commodities.*\": \"Commodity\",\n",
    "    r\".*Digital.*\": \"Crypto\"\n",
    "}\n",
    "\n",
    "# Create a test DataFrame\n",
    "df = pl.DataFrame({\n",
    "    \"category\": [\n",
    "        \"Corporate Bond\",\n",
    "        \"Government Bond\",\n",
    "        \"Energy Commodities\",\n",
    "        \"Agricultural Commodities\",\n",
    "        \"Regular Stock\",\n",
    "        \"Bond Fund\",\n",
    "        \"Digital Currency\"\n",
    "    ]\n",
    "})\n",
    "\n",
    "# Function to apply regex mapping\n",
    "def apply_regex_mapping(category):\n",
    "    for pattern, asset_class in REGEX_ASSET_CLASS_MAPPING.items():\n",
    "        if re.match(pattern, category):\n",
    "            return asset_class\n",
    "    return category\n",
    "\n",
    "# Apply the regex mapping\n",
    "# %timeit df.with_columns([pl.col(\"category\").map_elements(apply_regex_mapping).alias(\"mapped_category\")])\n",
    "%timeit df.with_columns(pl.col(\"category\").replace(REGEX_ASSET_CLASS_MAPPING))\n",
    "result = df.with_columns(pl.col(\"category\").str.replace(r\".*\\s?Bond.*\", \"Fixed Income\"))\n",
    "\n",
    "\n",
    "print(result)"
   ]
  },
  {
   "cell_type": "markdown",
   "metadata": {},
   "source": [
    "## Test aget_sector_filter"
   ]
  },
  {
   "cell_type": "code",
   "execution_count": null,
   "metadata": {},
   "outputs": [],
   "source": [
    "%load_ext autoreload\n",
    "%autoreload 2\n",
    "\n",
    "from humbldata.portfolio.analytics.user_table.helpers import aget_sector_filter\n",
    "\n",
    "\n",
    "(await aget_sector_filter(symbols=[\"XLU\", \"XLE\", \"XLF\", \"XLC\", \"KO\"])).collect()"
   ]
  },
  {
   "cell_type": "markdown",
   "metadata": {},
   "source": [
    "# Test aggregate_user_table_data"
   ]
  },
  {
   "cell_type": "code",
   "execution_count": null,
   "metadata": {},
   "outputs": [],
   "source": [
    "from humbldata.portfolio.analytics.user_table.helpers import aggregate_user_table_data\n",
    "\n",
    "\n",
    "(await aggregate_user_table_data(symbols=[\"XLU\", \"XLE\", \"AAPL\"])).collect()"
   ]
  },
  {
   "cell_type": "code",
   "execution_count": null,
   "metadata": {},
   "outputs": [],
   "source": [
    "from humbldata.core.utils.openbb_helpers import aget_latest_price\n",
    "\n",
    "\n",
    "(await aget_latest_price(symbol=[\"AAPL\", \"NVDA\", \"XLE\"])).collect()"
   ]
  }
 ],
 "metadata": {
  "kernelspec": {
   "display_name": "Python 3",
   "language": "python",
   "name": "python3"
  },
  "language_info": {
   "codemirror_mode": {
    "name": "ipython",
    "version": 3
   },
   "file_extension": ".py",
   "mimetype": "text/x-python",
   "name": "python",
   "nbconvert_exporter": "python",
   "pygments_lexer": "ipython3",
   "version": "3.11.9"
  }
 },
 "nbformat": 4,
 "nbformat_minor": 2
}
