{
 "cells": [
  {
   "cell_type": "code",
   "execution_count": 3,
   "metadata": {},
   "outputs": [
    {
     "name": "stdout",
     "output_type": "stream",
     "text": [
      "The autoreload extension is already loaded. To reload it, use:\n",
      "  %reload_ext autoreload\n"
     ]
    }
   ],
   "source": [
    "%load_ext autoreload\n",
    "%autoreload 2\n",
    "\n",
    "from humbldata.core.utils.openbb_helpers import obb_login\n",
    "from openbb import obb\n",
    "from humbldata.core.utils.env import Env\n",
    "import polars as pl\n",
    "\n",
    "# obb_login()\n",
    "obb.account.login(pat=Env().OBB_PAT, remember_me=True)"
   ]
  },
  {
   "cell_type": "code",
   "execution_count": 4,
   "metadata": {},
   "outputs": [
    {
     "ename": "ImportError",
     "evalue": "cannot import name 'EquityInfo' from 'typing' (/Users/jjfantini/.local/share/uv/python/cpython-3.12.8-macos-aarch64-none/lib/python3.12/typing.py)",
     "output_type": "error",
     "traceback": [
      "\u001b[31m---------------------------------------------------------------------------\u001b[39m",
      "\u001b[31mImportError\u001b[39m                               Traceback (most recent call last)",
      "\u001b[36mCell\u001b[39m\u001b[36m \u001b[39m\u001b[32mIn[4]\u001b[39m\u001b[32m, line 1\u001b[39m\n\u001b[32m----> \u001b[39m\u001b[32m1\u001b[39m result = \u001b[43mobb\u001b[49m\u001b[43m.\u001b[49m\u001b[43mequity\u001b[49m.price.historical(symbol=\u001b[33m\"\u001b[39m\u001b[33mSPY\u001b[39m\u001b[33m\"\u001b[39m, start_date=\u001b[33m\"\u001b[39m\u001b[33m1960-12-01\u001b[39m\u001b[33m\"\u001b[39m, end_date=\u001b[33m\"\u001b[39m\u001b[33m2025-01-01\u001b[39m\u001b[33m\"\u001b[39m, provider=\u001b[33m\"\u001b[39m\u001b[33mfmp\u001b[39m\u001b[33m\"\u001b[39m)\n\u001b[32m      2\u001b[39m result.to_df()\n",
      "\u001b[36mFile \u001b[39m\u001b[32m~/github/humblFINANCE-org/humblDATA/.venv/lib/python3.12/site-packages/openbb/package/__extensions__.py:127\u001b[39m, in \u001b[36mExtensions.equity\u001b[39m\u001b[34m(self)\u001b[39m\n\u001b[32m    124\u001b[39m \u001b[38;5;129m@property\u001b[39m\n\u001b[32m    125\u001b[39m \u001b[38;5;28;01mdef\u001b[39;00m\u001b[38;5;250m \u001b[39m\u001b[34mequity\u001b[39m(\u001b[38;5;28mself\u001b[39m):\n\u001b[32m    126\u001b[39m     \u001b[38;5;66;03m# pylint: disable=import-outside-toplevel\u001b[39;00m\n\u001b[32m--> \u001b[39m\u001b[32m127\u001b[39m     \u001b[38;5;28;01mfrom\u001b[39;00m\u001b[38;5;250m \u001b[39m\u001b[34;01m.\u001b[39;00m\u001b[38;5;250m \u001b[39m\u001b[38;5;28;01mimport\u001b[39;00m equity\n\u001b[32m    129\u001b[39m     \u001b[38;5;28;01mreturn\u001b[39;00m equity.ROUTER_equity(command_runner=\u001b[38;5;28mself\u001b[39m._command_runner)\n",
      "\u001b[36mFile \u001b[39m\u001b[32m~/github/humblFINANCE-org/humblDATA/.venv/lib/python3.12/site-packages/openbb/package/equity.py:7\u001b[39m\n\u001b[32m      5\u001b[39m \u001b[38;5;28;01mfrom\u001b[39;00m\u001b[38;5;250m \u001b[39m\u001b[34;01mdatetime\u001b[39;00m\u001b[38;5;250m \u001b[39m\u001b[38;5;28;01mimport\u001b[39;00m date\n\u001b[32m      6\u001b[39m \u001b[38;5;28;01mfrom\u001b[39;00m\u001b[38;5;250m \u001b[39m\u001b[34;01minspect\u001b[39;00m\u001b[38;5;250m \u001b[39m\u001b[38;5;28;01mimport\u001b[39;00m Parameter\n\u001b[32m----> \u001b[39m\u001b[32m7\u001b[39m \u001b[38;5;28;01mfrom\u001b[39;00m\u001b[38;5;250m \u001b[39m\u001b[34;01mtyping\u001b[39;00m\u001b[38;5;250m \u001b[39m\u001b[38;5;28;01mimport\u001b[39;00m (\n\u001b[32m      8\u001b[39m     TYPE_CHECKING,\n\u001b[32m      9\u001b[39m     Annotated,\n\u001b[32m     10\u001b[39m     Any,\n\u001b[32m     11\u001b[39m     EquityInfo,\n\u001b[32m     12\u001b[39m     EquityScreener,\n\u001b[32m     13\u001b[39m     EquitySearch,\n\u001b[32m     14\u001b[39m     ForwardRef,\n\u001b[32m     15\u001b[39m     HistoricalMarketCap,\n\u001b[32m     16\u001b[39m     Literal,\n\u001b[32m     17\u001b[39m     MarketSnapshots,\n\u001b[32m     18\u001b[39m     Optional,\n\u001b[32m     19\u001b[39m     Union,\n\u001b[32m     20\u001b[39m )\n\u001b[32m     21\u001b[39m \u001b[38;5;28;01mfrom\u001b[39;00m\u001b[38;5;250m \u001b[39m\u001b[34;01mwarnings\u001b[39;00m\u001b[38;5;250m \u001b[39m\u001b[38;5;28;01mimport\u001b[39;00m simplefilter, warn\n\u001b[32m     23\u001b[39m \u001b[38;5;28;01mimport\u001b[39;00m\u001b[38;5;250m \u001b[39m\u001b[34;01mnumpy\u001b[39;00m\n",
      "\u001b[31mImportError\u001b[39m: cannot import name 'EquityInfo' from 'typing' (/Users/jjfantini/.local/share/uv/python/cpython-3.12.8-macos-aarch64-none/lib/python3.12/typing.py)"
     ]
    }
   ],
   "source": [
    "result = obb.equity.price.historical(symbol=\"SPY\", start_date=\"1960-12-01\", end_date=\"2025-01-01\", provider=\"fmp\")\n",
    "result.to_df()"
   ]
  },
  {
   "cell_type": "code",
   "execution_count": 9,
   "metadata": {},
   "outputs": [],
   "source": [
    "result = obb.economy.calendar(provider='nasdaq', country='united_kingdom', start_date='2024-12-01', end_date='2025-01-01')\n",
    "df = result.to_df()\n"
   ]
  },
  {
   "cell_type": "code",
   "execution_count": 10,
   "metadata": {},
   "outputs": [
    {
     "data": {
      "text/html": [
       "<div>\n",
       "<style scoped>\n",
       "    .dataframe tbody tr th:only-of-type {\n",
       "        vertical-align: middle;\n",
       "    }\n",
       "\n",
       "    .dataframe tbody tr th {\n",
       "        vertical-align: top;\n",
       "    }\n",
       "\n",
       "    .dataframe thead th {\n",
       "        text-align: right;\n",
       "    }\n",
       "</style>\n",
       "<table border=\"1\" class=\"dataframe\">\n",
       "  <thead>\n",
       "    <tr style=\"text-align: right;\">\n",
       "      <th></th>\n",
       "      <th>country</th>\n",
       "      <th>event</th>\n",
       "      <th>consensus</th>\n",
       "      <th>previous</th>\n",
       "      <th>actual</th>\n",
       "      <th>description</th>\n",
       "    </tr>\n",
       "    <tr>\n",
       "      <th>date</th>\n",
       "      <th></th>\n",
       "      <th></th>\n",
       "      <th></th>\n",
       "      <th></th>\n",
       "      <th></th>\n",
       "      <th></th>\n",
       "    </tr>\n",
       "  </thead>\n",
       "  <tbody>\n",
       "    <tr>\n",
       "      <th>2024-12-18 02:00:00</th>\n",
       "      <td>United Kingdom</td>\n",
       "      <td>CPI, n.s.a</td>\n",
       "      <td></td>\n",
       "      <td>135.00</td>\n",
       "      <td>-</td>\n",
       "      <td>NaN</td>\n",
       "    </tr>\n",
       "    <tr>\n",
       "      <th>2024-12-18 02:00:00</th>\n",
       "      <td>United Kingdom</td>\n",
       "      <td>Core CPI</td>\n",
       "      <td></td>\n",
       "      <td>3.3%</td>\n",
       "      <td>-</td>\n",
       "      <td>The Core Consumer Price Index (CPI) measures t...</td>\n",
       "    </tr>\n",
       "    <tr>\n",
       "      <th>2024-12-18 02:00:00</th>\n",
       "      <td>United Kingdom</td>\n",
       "      <td>Core CPI</td>\n",
       "      <td></td>\n",
       "      <td>0.4%</td>\n",
       "      <td>-</td>\n",
       "      <td>NaN</td>\n",
       "    </tr>\n",
       "    <tr>\n",
       "      <th>2024-12-18 02:00:00</th>\n",
       "      <td>United Kingdom</td>\n",
       "      <td>CPI</td>\n",
       "      <td></td>\n",
       "      <td>2.3%</td>\n",
       "      <td>-</td>\n",
       "      <td>The Consumer Price Index (CPI) measures the ch...</td>\n",
       "    </tr>\n",
       "    <tr>\n",
       "      <th>2024-12-18 02:00:00</th>\n",
       "      <td>United Kingdom</td>\n",
       "      <td>CPI</td>\n",
       "      <td></td>\n",
       "      <td>0.6%</td>\n",
       "      <td>-</td>\n",
       "      <td>The Consumer Price Index (CPI) measures the ch...</td>\n",
       "    </tr>\n",
       "  </tbody>\n",
       "</table>\n",
       "</div>"
      ],
      "text/plain": [
       "                            country       event consensus previous actual  \\\n",
       "date                                                                        \n",
       "2024-12-18 02:00:00  United Kingdom  CPI, n.s.a             135.00      -   \n",
       "2024-12-18 02:00:00  United Kingdom    Core CPI               3.3%      -   \n",
       "2024-12-18 02:00:00  United Kingdom    Core CPI               0.4%      -   \n",
       "2024-12-18 02:00:00  United Kingdom         CPI               2.3%      -   \n",
       "2024-12-18 02:00:00  United Kingdom         CPI               0.6%      -   \n",
       "\n",
       "                                                           description  \n",
       "date                                                                    \n",
       "2024-12-18 02:00:00                                                NaN  \n",
       "2024-12-18 02:00:00  The Core Consumer Price Index (CPI) measures t...  \n",
       "2024-12-18 02:00:00                                                NaN  \n",
       "2024-12-18 02:00:00  The Consumer Price Index (CPI) measures the ch...  \n",
       "2024-12-18 02:00:00  The Consumer Price Index (CPI) measures the ch...  "
      ]
     },
     "execution_count": 10,
     "metadata": {},
     "output_type": "execute_result"
    }
   ],
   "source": [
    "df[df[\"event\"].str.contains(\"CPI\")]"
   ]
  },
  {
   "cell_type": "code",
   "execution_count": null,
   "metadata": {},
   "outputs": [],
   "source": [
    "%load_ext autoreload\n",
    "%autoreload\n",
    "\n",
    "from humbldata.toolbox.toolbox_controller import Toolbox\n",
    "\n",
    "toolbox = Toolbox(\n",
    "    symbols=\"SPY,IWM,DIA,QQQ\",\n",
    "    interval=\"1d\",\n",
    "    start_date=\"2000-01-01\",\n",
    "    end_date=\"2024-12-03\",\n",
    "    # membership=\"anonymous\"\n",
    ")\n",
    "toolbox"
   ]
  },
  {
   "cell_type": "code",
   "execution_count": null,
   "metadata": {},
   "outputs": [],
   "source": [
    "# import nest_asyncio\n",
    "# nest_asyncio.apply()\n",
    "\n",
    "result = toolbox.technical.humbl_channel(historical=False, window=\"1mo\", _boundary_group_down=False, chart=True)\n",
    "result"
   ]
  },
  {
   "cell_type": "code",
   "execution_count": null,
   "metadata": {},
   "outputs": [],
   "source": [
    "result.to_polars()"
   ]
  },
  {
   "cell_type": "code",
   "execution_count": null,
   "metadata": {},
   "outputs": [],
   "source": [
    "result.command_params"
   ]
  },
  {
   "cell_type": "code",
   "execution_count": null,
   "metadata": {},
   "outputs": [],
   "source": [
    "result.context_params"
   ]
  },
  {
   "cell_type": "markdown",
   "metadata": {},
   "source": [
    "## Test `calc_up_down_pct`\n"
   ]
  },
  {
   "cell_type": "code",
   "execution_count": null,
   "metadata": {},
   "outputs": [],
   "source": [
    "from humbldata.portfolio.analytics.watchlist.helpers import calc_up_down_pct\n",
    "\n",
    "\n",
    "df = pl.DataFrame({\n",
    "    \"symbol\": [\"AAPL\", \"GOOGL\", \"MSFT\"],\n",
    "    \"bottom_price\": [5.18, 15.07, 16.24],\n",
    "    \"recent_price\": [10.05, 20.31, 16.42],\n",
    "    \"top_price\": [11.23, 25.17, 30.09],\n",
    "})\n",
    "result = calc_up_down_pct(df)\n",
    "print(result)"
   ]
  },
  {
   "cell_type": "markdown",
   "metadata": {},
   "source": [
    "# Setting up UserTable"
   ]
  },
  {
   "cell_type": "code",
   "execution_count": null,
   "metadata": {},
   "outputs": [],
   "source": [
    "%load_ext autoreload\n",
    "%autoreload 2\n",
    "\n",
    "from humbldata.core.standard_models.portfolio.analytics.watchlist_table import (\n",
    "    WatchlistTableQueryParams,\n",
    ")\n",
    "from humbldata.core.utils.openbb_helpers import get_latest_price\n",
    "\n",
    "symbols = WatchlistTableQueryParams(symbol=\"AAPL, MSFT, NVDA\").symbol\n",
    "symbols"
   ]
  },
  {
   "cell_type": "markdown",
   "metadata": {},
   "source": [
    "# Tesing Async\n"
   ]
  },
  {
   "cell_type": "markdown",
   "metadata": {},
   "source": [
    "## Get Sector Async"
   ]
  },
  {
   "cell_type": "code",
   "execution_count": null,
   "metadata": {},
   "outputs": [],
   "source": [
    "%load_ext autoreload\n",
    "%autoreload 2\n",
    "\n",
    "import polars as pl\n",
    "\n",
    "from humbldata.core.utils.openbb_helpers import (\n",
    "    aget_equity_sector,\n",
    "    aget_etf_category,\n",
    ")\n",
    "\n",
    "stocks = pl.Series([\n",
    "    \"GOOGL\",  # Communication Services\n",
    "    \"AMZN\",   # Consumer Discretionary\n",
    "    \"KO\",     # Consumer Staples\n",
    "    \"XOM\",    # Energy\n",
    "    \"JPM\",    # Financials\n",
    "    \"JNJ\",    # Health Care\n",
    "    \"HON\",    # Industrials\n",
    "    \"AAPL\",   # Information Technology\n",
    "    \"LIN\",    # Materials\n",
    "    \"PLD\",    # Real Estate\n",
    "    \"NEE\"     # Utilities\n",
    "])\n",
    "\n",
    "# Define objects and lists for different symbol groups\n",
    "\n",
    "# Equities\n",
    "equity_symbols = [\"AAPL\", \"NVDA\", \"TSLA\"]\n",
    "\n",
    "# ETFs\n",
    "etf_symbols = [\"XLE\", \"XLF\", \"XLU\"]\n",
    "\n",
    "# Mixed (equities and ETFs)\n",
    "mixed_symbols = [\"AAPL\", \"XLE\", \"XLU\", \"TSLA\"]\n",
    "\n",
    "# Edge cases\n",
    "edge_symbols = [\"BITI\", \"LNGG\", \"ETHU\", \"DBA\"]\n",
    "\n",
    "\n",
    "# test = (await aget_etf_category(symbols=[\"AAPL\", \"XLE\", \"DBA\"], provider=\"yfinance\")).collect()\n",
    "test2 = (await aget_equity_sector(symbols=equity_symbols, provider=\"yfinance\")).collect()\n",
    "# test2 = (await aget_equity_sector(symbols=[\"XLE\", \"AAPL\"], provider=\"yfinance\")).collect()\n",
    "test2"
   ]
  },
  {
   "cell_type": "code",
   "execution_count": null,
   "metadata": {},
   "outputs": [],
   "source": [
    "symbols = [\"CORN\", 'SLV', 'DBA', \"XLE\", \"AAPL\", \"FXE\", \"SPY\", \"QQQ\", \"BITO\", \"MAXI\", \"SATO\", \"BIL\", \"LQD\", \"QAI\", \"MNA\", \"CLSE\"]\n",
    "symbols2 = [\"AAPL\", \"FXE\", \"SPY\", \"MAXI\", \"GLD\"]\n",
    "symbols3 = commodity_etf_symbols = [\"GLD\", \"IAU\", \"SLV\", \"GLDM\", \"PDBC\", \"SGOL\", \"FTGC\", \"DBC\", \"SIVR\", \"USO\", \"IAUM\", \"GSG\", \"BCI\", \"PPLT\", \"COMT\", \"GLTR\", \"OUNZ\", \"BAR\", \"UNG\", \"DBA\", \"AAAU\", \"DJP\", \"CMDT\", \"KRBN\", \"PALL\", \"COM\", \"NBCM\", \"CMDY\", \"DBO\", \"BCD\", \"KCCA\", \"CPER\", \"HGER\", \"USCI\", \"DBB\", \"DBP\", \"GCC\", \"WEAT\", \"BNO\", \"UGA\", \"DGP\", \"IGLD\", \"COMB\", \"DBE\", \"FGDL\", \"CORN\", \"USL\", \"CCRV\", \"DJCB\", \"IAUF\", \"PLTM\", \"BDRY\", \"PDBA\", \"BGLD\", \"UCIB\", \"SOYB\", \"GRN\", \"PIT\", \"BCIM\", \"RENW\", \"SDCI\", \"UNL\", \"SHNY\", \"DCMT\", \"TAGS\", \"CANE\", \"TMET\", \"KEUA\", \"HCOM\", \"HARD\", \"EVMT\", \"USG\", \"AMPD\", \"DZZ\", \"DGZ\", \"KMET\", \"CMCI\", \"USOY\", \"ZSC\", \"TILL\", \"BWET\", \"DULL\", \"ZSB\", \"LNGG\", \"USOI\", \"OILK\", \"SLVO\", \"GLDI\", \"BOIL\", \"KOLD\", \"AGQ\", \"GLL\", \"UGL\", \"ZSL\", \"UCO\", \"SCO\"]\n",
    "\n",
    "\n",
    "\n",
    "df = (await aget_etf_category(symbols=edge_symbols)).collect()\n",
    "df"
   ]
  },
  {
   "cell_type": "code",
   "execution_count": null,
   "metadata": {},
   "outputs": [],
   "source": [
    "from humbldata.portfolio.analytics.watchlist.helpers import normalize_asset_class\n",
    "\n",
    "\n",
    "normalized_df = normalize_asset_class(df).select([\"symbol\", \"category\"])\n",
    "normalized_df"
   ]
  },
  {
   "cell_type": "code",
   "execution_count": null,
   "metadata": {},
   "outputs": [],
   "source": [
    "%load_ext autoreload\n",
    "%autoreload 2\n",
    "\n",
    "from humbldata.core.utils.openbb_helpers import aget_etf_category\n",
    "\n",
    "\n",
    "df2 = (await aget_etf_category(symbols=edge_symbols)).collect()\n",
    "df2"
   ]
  },
  {
   "cell_type": "code",
   "execution_count": null,
   "metadata": {},
   "outputs": [],
   "source": [
    "%load_ext autoreload\n",
    "%autoreload 2\n",
    "\n",
    "from humbldata.portfolio.analytics.watchlist.helpers import aget_asset_class_filter\n",
    "\n",
    "(await aget_asset_class_filter(symbols=[\"XLE\", \"XLF\", \"XLK\"])).collect()"
   ]
  },
  {
   "cell_type": "markdown",
   "metadata": {},
   "source": [
    "## Test aget_sector_filter"
   ]
  },
  {
   "cell_type": "code",
   "execution_count": null,
   "metadata": {},
   "outputs": [],
   "source": [
    "%load_ext autoreload\n",
    "%autoreload 2\n",
    "\n",
    "from humbldata.portfolio.analytics.watchlist.helpers import aget_sector_filter\n",
    "\n",
    "etf_data = pl.LazyFrame({\n",
    "    \"symbol\": [\"BITI\", \"LNGG\", \"ETHU\", \"DBA\"],\n",
    "    \"category\": [\n",
    "        \"Trading--Miscellaneous\",\n",
    "        \"Equity Energy\",\n",
    "        None,\n",
    "        \"Commodities Focused\",\n",
    "    ]\n",
    "})\n",
    "\n",
    "(await aget_sector_filter(symbols=mixed_symbols)).collect()"
   ]
  },
  {
   "cell_type": "markdown",
   "metadata": {},
   "source": [
    "# Test user_table_engine"
   ]
  },
  {
   "cell_type": "code",
   "execution_count": null,
   "metadata": {},
   "outputs": [],
   "source": [
    "from humbldata.portfolio.analytics.watchlist.model import watchlist_table_engine\n",
    "import polars as pl\n",
    "\n",
    "etf_data = [\n",
    "    pl.DataFrame(\n",
    "        {\"symbol\": [\"AAPL\", \"NVDA\", \"TSLA\"], \"category\": [None, None, None]}\n",
    "    ),\n",
    "    pl.DataFrame(\n",
    "        {\n",
    "            \"symbol\": [\"XLE\", \"XLF\", \"XLU\"],\n",
    "            \"category\": [\"Equity Energy\", \"Financial\", \"Utilities\"],\n",
    "        }\n",
    "    ),\n",
    "    pl.DataFrame(\n",
    "        {\n",
    "            \"symbol\": [\"AAPL\", \"XLE\", \"XLU\", \"TSLA\"],\n",
    "            \"category\": [None, \"Equity Energy\", \"Utilities\", None],\n",
    "        }\n",
    "    ),\n",
    "    pl.DataFrame(\n",
    "        {\n",
    "            \"symbol\": [\"BITI\", \"LNGG\", \"ETHU\", \"DBA\"],\n",
    "            \"category\": [\n",
    "                \"Trading--Miscellaneous\",\n",
    "                \"Equity Energy\",\n",
    "                None,\n",
    "                \"Commodities Focused\",\n",
    "            ],\n",
    "        }\n",
    "    ),\n",
    "]\n",
    "\n",
    "out: pl.LazyFrame = await watchlist_table_engine(symbols=edge_symbols)\n",
    "out.collect()"
   ]
  },
  {
   "cell_type": "markdown",
   "metadata": {},
   "source": [
    "## Test UserTableFetcher"
   ]
  },
  {
   "cell_type": "markdown",
   "metadata": {},
   "source": []
  },
  {
   "cell_type": "code",
   "execution_count": null,
   "metadata": {},
   "outputs": [],
   "source": [
    "%load_ext autoreload\n",
    "%autoreload 2\n",
    "\n",
    "from humbldata.portfolio.portfolio_controller import Portfolio\n",
    "\n",
    "portfolio = Portfolio(symbols=[\"AAPL\"], user_role=\"anonymous\")\n",
    "portfolio"
   ]
  },
  {
   "cell_type": "code",
   "execution_count": null,
   "metadata": {},
   "outputs": [],
   "source": [
    "result = (await portfolio.analytics.watchlist_table())"
   ]
  },
  {
   "cell_type": "code",
   "execution_count": null,
   "metadata": {},
   "outputs": [],
   "source": [
    "result.to_polars()"
   ]
  },
  {
   "cell_type": "code",
   "execution_count": null,
   "metadata": {},
   "outputs": [],
   "source": [
    "result.to_polars()"
   ]
  },
  {
   "cell_type": "code",
   "execution_count": null,
   "metadata": {},
   "outputs": [],
   "source": []
  },
  {
   "cell_type": "markdown",
   "metadata": {},
   "source": [
    "# Testing Sandbox"
   ]
  },
  {
   "cell_type": "code",
   "execution_count": null,
   "metadata": {},
   "outputs": [],
   "source": [
    "%load_ext autoreload\n",
    "%autoreload 2\n",
    "\n",
    "from humbldata.toolbox.toolbox_controller import Toolbox\n",
    "import datetime\n",
    "from datetime import timedelta\n",
    "\n",
    "# start_date = \"2020-01-01\"\n",
    "# end_date = \"2024-01-01\"\n",
    "start_date = (datetime.datetime.now() - datetime.timedelta(days=365))\n",
    "end_date = datetime.date(2024, 7, 18)\n",
    "\n",
    "toolbox = Toolbox(\n",
    "    symbols=[\"AAPL\", \"AMD\"],\n",
    "    interval=\"1d\",\n",
    "    start_date=\"2022-07-18\",\n",
    "    end_date=end_date,\n",
    "    membership=\"peon\"\n",
    ")"
   ]
  },
  {
   "cell_type": "code",
   "execution_count": null,
   "metadata": {},
   "outputs": [],
   "source": [
    "result = toolbox.technical.humbl_channel(historical=False, window=\"1m\", _boundary_group_down=False, chart=True)\n",
    "result\n"
   ]
  },
  {
   "cell_type": "code",
   "execution_count": null,
   "metadata": {},
   "outputs": [],
   "source": [
    "result.warnings[0]"
   ]
  },
  {
   "cell_type": "code",
   "execution_count": null,
   "metadata": {},
   "outputs": [],
   "source": [
    "import pickle\n",
    "from pathlib import Path\n",
    "\n",
    "# Ensure the directory exists\n",
    "Path(\"../tests/test_data\").mkdir(parents=True, exist_ok=True)\n",
    "\n",
    "# Save the result object to the specified file\n",
    "with Path(\"../tests/test_data/mandelbrot_humblobject.pkl\").open(\"wb\") as file:\n",
    "    pickle.dump(result, file)\n",
    "\n",
    "print(\"Result object saved successfully.\")\n"
   ]
  }
 ],
 "metadata": {
  "kernelspec": {
   "display_name": ".venv",
   "language": "python",
   "name": "python3"
  },
  "language_info": {
   "codemirror_mode": {
    "name": "ipython",
    "version": 3
   },
   "file_extension": ".py",
   "mimetype": "text/x-python",
   "name": "python",
   "nbconvert_exporter": "python",
   "pygments_lexer": "ipython3",
   "version": "3.12.10"
  }
 },
 "nbformat": 4,
 "nbformat_minor": 2
}
