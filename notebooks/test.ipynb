{
 "cells": [
  {
   "cell_type": "code",
   "execution_count": 1,
   "metadata": {},
   "outputs": [],
   "source": [
    "import polars as pl"
   ]
  },
  {
   "cell_type": "code",
   "execution_count": 3,
   "metadata": {},
   "outputs": [],
   "source": [
    "\n",
    "from humbldata.toolbox.technical.mandelbrot_channel.model import (\n",
    "    calc_mandelbrot_channel,\n",
    "    calc_mandelbrot_channel_historical,\n",
    ")\n",
    "\n",
    "mandelbrot = calc_mandelbrot_channel_historical(\n",
    "        data,\n",
    "        window=\"1m\",\n",
    "        rv_adjustment=True,\n",
    "        rv_method=\"std\",\n",
    "        rv_grouped_mean=False,\n",
    "        rs_method=\"RS\",\n",
    "        live_price=False,\n",
    "    ).collect()"
   ]
  },
  {
   "cell_type": "code",
   "execution_count": 10,
   "metadata": {},
   "outputs": [
    {
     "data": {
      "text/html": [
       "<div><style>\n",
       ".dataframe > thead > tr,\n",
       ".dataframe > tbody > tr {\n",
       "  text-align: right;\n",
       "  white-space: pre-wrap;\n",
       "}\n",
       "</style>\n",
       "<small>shape: (5, 5)</small><table border=\"1\" class=\"dataframe\"><thead><tr><th>date</th><th>symbol</th><th>bottom_price</th><th>recent_price</th><th>top_price</th></tr><tr><td>date</td><td>str</td><td>f64</td><td>f64</td><td>f64</td></tr></thead><tbody><tr><td>2023-12-29</td><td>&quot;AAPL&quot;</td><td>191.0641</td><td>192.284637</td><td>214.0328</td></tr><tr><td>2023-12-29</td><td>&quot;AMD&quot;</td><td>131.4548</td><td>147.410004</td><td>152.316</td></tr><tr><td>2023-12-29</td><td>&quot;AMZN&quot;</td><td>146.3461</td><td>151.940002</td><td>159.3488</td></tr><tr><td>2023-12-29</td><td>&quot;GOOGL&quot;</td><td>135.1156</td><td>139.529861</td><td>141.2999</td></tr><tr><td>2023-12-29</td><td>&quot;PCT&quot;</td><td>2.4087</td><td>4.05</td><td>5.1265</td></tr></tbody></table></div>"
      ],
      "text/plain": [
       "shape: (5, 5)\n",
       "┌────────────┬────────┬──────────────┬──────────────┬───────────┐\n",
       "│ date       ┆ symbol ┆ bottom_price ┆ recent_price ┆ top_price │\n",
       "│ ---        ┆ ---    ┆ ---          ┆ ---          ┆ ---       │\n",
       "│ date       ┆ str    ┆ f64          ┆ f64          ┆ f64       │\n",
       "╞════════════╪════════╪══════════════╪══════════════╪═══════════╡\n",
       "│ 2023-12-29 ┆ AAPL   ┆ 191.0641     ┆ 192.284637   ┆ 214.0328  │\n",
       "│ 2023-12-29 ┆ AMD    ┆ 131.4548     ┆ 147.410004   ┆ 152.316   │\n",
       "│ 2023-12-29 ┆ AMZN   ┆ 146.3461     ┆ 151.940002   ┆ 159.3488  │\n",
       "│ 2023-12-29 ┆ GOOGL  ┆ 135.1156     ┆ 139.529861   ┆ 141.2999  │\n",
       "│ 2023-12-29 ┆ PCT    ┆ 2.4087       ┆ 4.05         ┆ 5.1265    │\n",
       "└────────────┴────────┴──────────────┴──────────────┴───────────┘"
      ]
     },
     "execution_count": 10,
     "metadata": {},
     "output_type": "execute_result"
    }
   ],
   "source": [
    "mandelbrot"
   ]
  }
 ],
 "metadata": {
  "kernelspec": {
   "display_name": "Python 3",
   "language": "python",
   "name": "python3"
  },
  "language_info": {
   "codemirror_mode": {
    "name": "ipython",
    "version": 3
   },
   "file_extension": ".py",
   "mimetype": "text/x-python",
   "name": "python",
   "nbconvert_exporter": "python",
   "pygments_lexer": "ipython3",
   "version": "3.11.9"
  }
 },
 "nbformat": 4,
 "nbformat_minor": 2
}
