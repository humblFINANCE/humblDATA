{
 "cells": [
  {
   "cell_type": "code",
   "execution_count": 4,
   "metadata": {},
   "outputs": [
    {
     "name": "stdout",
     "output_type": "stream",
     "text": [
      "The autoreload extension is already loaded. To reload it, use:\n",
      "  %reload_ext autoreload\n"
     ]
    }
   ],
   "source": [
    "%load_ext autoreload\n",
    "%autoreload 2\n",
    "\n",
    "from humbldata.core.utils.openbb_helpers import obb_login\n",
    "from openbb import obb\n",
    "from humbldata.core.utils.env import Env\n",
    "import polars as pl\n",
    "\n",
    "# obb_login()\n",
    "obb.account.login(pat=Env().OBB_PAT, remember_me=True)"
   ]
  },
  {
   "cell_type": "code",
   "execution_count": 7,
   "metadata": {},
   "outputs": [
    {
     "name": "stdout",
     "output_type": "stream",
     "text": [
      "Object `obb.equity.price.performance` not found.\n"
     ]
    }
   ],
   "source": [
    "obb.equity.price.performance?"
   ]
  },
  {
   "cell_type": "code",
   "execution_count": 2,
   "metadata": {},
   "outputs": [
    {
     "ename": "ImportError",
     "evalue": "cannot import name 'EquityInfo' from 'typing' (/Users/jjfantini/.local/share/uv/python/cpython-3.12.10-macos-aarch64-none/lib/python3.12/typing.py)",
     "output_type": "error",
     "traceback": [
      "\u001b[31m---------------------------------------------------------------------------\u001b[39m",
      "\u001b[31mImportError\u001b[39m                               Traceback (most recent call last)",
      "\u001b[36mCell\u001b[39m\u001b[36m \u001b[39m\u001b[32mIn[2]\u001b[39m\u001b[32m, line 1\u001b[39m\n\u001b[32m----> \u001b[39m\u001b[32m1\u001b[39m result = \u001b[43mobb\u001b[49m\u001b[43m.\u001b[49m\u001b[43mequity\u001b[49m.price.historical(symbol=\u001b[33m\"\u001b[39m\u001b[33mSPY\u001b[39m\u001b[33m\"\u001b[39m, start_date=\u001b[33m\"\u001b[39m\u001b[33m1960-12-01\u001b[39m\u001b[33m\"\u001b[39m, end_date=\u001b[33m\"\u001b[39m\u001b[33m2025-01-01\u001b[39m\u001b[33m\"\u001b[39m, provider=\u001b[33m\"\u001b[39m\u001b[33mfmp\u001b[39m\u001b[33m\"\u001b[39m)\n\u001b[32m      2\u001b[39m result.to_df()\n",
      "\u001b[36mFile \u001b[39m\u001b[32m~/github/humblFINANCE-org/humblDATA/.venv/lib/python3.12/site-packages/openbb/package/__extensions__.py:127\u001b[39m, in \u001b[36mExtensions.equity\u001b[39m\u001b[34m(self)\u001b[39m\n\u001b[32m    124\u001b[39m \u001b[38;5;129m@property\u001b[39m\n\u001b[32m    125\u001b[39m \u001b[38;5;28;01mdef\u001b[39;00m\u001b[38;5;250m \u001b[39m\u001b[34mequity\u001b[39m(\u001b[38;5;28mself\u001b[39m):\n\u001b[32m    126\u001b[39m     \u001b[38;5;66;03m# pylint: disable=import-outside-toplevel\u001b[39;00m\n\u001b[32m--> \u001b[39m\u001b[32m127\u001b[39m     \u001b[38;5;28;01mfrom\u001b[39;00m\u001b[38;5;250m \u001b[39m\u001b[34;01m.\u001b[39;00m\u001b[38;5;250m \u001b[39m\u001b[38;5;28;01mimport\u001b[39;00m equity\n\u001b[32m    129\u001b[39m     \u001b[38;5;28;01mreturn\u001b[39;00m equity.ROUTER_equity(command_runner=\u001b[38;5;28mself\u001b[39m._command_runner)\n",
      "\u001b[36mFile \u001b[39m\u001b[32m~/github/humblFINANCE-org/humblDATA/.venv/lib/python3.12/site-packages/openbb/package/equity.py:7\u001b[39m\n\u001b[32m      5\u001b[39m \u001b[38;5;28;01mfrom\u001b[39;00m\u001b[38;5;250m \u001b[39m\u001b[34;01mdatetime\u001b[39;00m\u001b[38;5;250m \u001b[39m\u001b[38;5;28;01mimport\u001b[39;00m date\n\u001b[32m      6\u001b[39m \u001b[38;5;28;01mfrom\u001b[39;00m\u001b[38;5;250m \u001b[39m\u001b[34;01minspect\u001b[39;00m\u001b[38;5;250m \u001b[39m\u001b[38;5;28;01mimport\u001b[39;00m Parameter\n\u001b[32m----> \u001b[39m\u001b[32m7\u001b[39m \u001b[38;5;28;01mfrom\u001b[39;00m\u001b[38;5;250m \u001b[39m\u001b[34;01mtyping\u001b[39;00m\u001b[38;5;250m \u001b[39m\u001b[38;5;28;01mimport\u001b[39;00m (\n\u001b[32m      8\u001b[39m     TYPE_CHECKING,\n\u001b[32m      9\u001b[39m     Annotated,\n\u001b[32m     10\u001b[39m     Any,\n\u001b[32m     11\u001b[39m     EquityInfo,\n\u001b[32m     12\u001b[39m     EquityScreener,\n\u001b[32m     13\u001b[39m     EquitySearch,\n\u001b[32m     14\u001b[39m     ForwardRef,\n\u001b[32m     15\u001b[39m     HistoricalMarketCap,\n\u001b[32m     16\u001b[39m     Literal,\n\u001b[32m     17\u001b[39m     MarketSnapshots,\n\u001b[32m     18\u001b[39m     Optional,\n\u001b[32m     19\u001b[39m     Union,\n\u001b[32m     20\u001b[39m )\n\u001b[32m     21\u001b[39m \u001b[38;5;28;01mfrom\u001b[39;00m\u001b[38;5;250m \u001b[39m\u001b[34;01mwarnings\u001b[39;00m\u001b[38;5;250m \u001b[39m\u001b[38;5;28;01mimport\u001b[39;00m simplefilter, warn\n\u001b[32m     23\u001b[39m \u001b[38;5;28;01mimport\u001b[39;00m\u001b[38;5;250m \u001b[39m\u001b[34;01mnumpy\u001b[39;00m\n",
      "\u001b[31mImportError\u001b[39m: cannot import name 'EquityInfo' from 'typing' (/Users/jjfantini/.local/share/uv/python/cpython-3.12.10-macos-aarch64-none/lib/python3.12/typing.py)"
     ]
    }
   ],
   "source": [
    "result = obb.equity.price.historical(symbol=\"SPY\", start_date=\"1960-12-01\", end_date=\"2025-01-01\", provider=\"fmp\")\n",
    "result.to_df()"
   ]
  },
  {
   "cell_type": "code",
   "execution_count": 6,
   "metadata": {},
   "outputs": [
    {
     "ename": "ImportError",
     "evalue": "cannot import name 'LTIR' from 'typing' (/Users/jjfantini/.local/share/uv/python/cpython-3.12.10-macos-aarch64-none/lib/python3.12/typing.py)",
     "output_type": "error",
     "traceback": [
      "\u001b[31m---------------------------------------------------------------------------\u001b[39m",
      "\u001b[31mImportError\u001b[39m                               Traceback (most recent call last)",
      "\u001b[36mCell\u001b[39m\u001b[36m \u001b[39m\u001b[32mIn[6]\u001b[39m\u001b[32m, line 1\u001b[39m\n\u001b[32m----> \u001b[39m\u001b[32m1\u001b[39m result = \u001b[43mobb\u001b[49m\u001b[43m.\u001b[49m\u001b[43meconomy\u001b[49m.calendar(provider=\u001b[33m'\u001b[39m\u001b[33mnasdaq\u001b[39m\u001b[33m'\u001b[39m, country=\u001b[33m'\u001b[39m\u001b[33munited_kingdom\u001b[39m\u001b[33m'\u001b[39m, start_date=\u001b[33m'\u001b[39m\u001b[33m2024-12-01\u001b[39m\u001b[33m'\u001b[39m, end_date=\u001b[33m'\u001b[39m\u001b[33m2025-01-01\u001b[39m\u001b[33m'\u001b[39m)\n\u001b[32m      2\u001b[39m df = result.to_df()\n",
      "\u001b[36mFile \u001b[39m\u001b[32m~/github/humblFINANCE-org/humblDATA/.venv/lib/python3.12/site-packages/openbb/package/__extensions__.py:120\u001b[39m, in \u001b[36mExtensions.economy\u001b[39m\u001b[34m(self)\u001b[39m\n\u001b[32m    117\u001b[39m \u001b[38;5;129m@property\u001b[39m\n\u001b[32m    118\u001b[39m \u001b[38;5;28;01mdef\u001b[39;00m\u001b[38;5;250m \u001b[39m\u001b[34meconomy\u001b[39m(\u001b[38;5;28mself\u001b[39m):\n\u001b[32m    119\u001b[39m     \u001b[38;5;66;03m# pylint: disable=import-outside-toplevel\u001b[39;00m\n\u001b[32m--> \u001b[39m\u001b[32m120\u001b[39m     \u001b[38;5;28;01mfrom\u001b[39;00m\u001b[38;5;250m \u001b[39m\u001b[34;01m.\u001b[39;00m\u001b[38;5;250m \u001b[39m\u001b[38;5;28;01mimport\u001b[39;00m economy\n\u001b[32m    122\u001b[39m     \u001b[38;5;28;01mreturn\u001b[39;00m economy.ROUTER_economy(command_runner=\u001b[38;5;28mself\u001b[39m._command_runner)\n",
      "\u001b[36mFile \u001b[39m\u001b[32m~/github/humblFINANCE-org/humblDATA/.venv/lib/python3.12/site-packages/openbb/package/economy.py:7\u001b[39m\n\u001b[32m      5\u001b[39m \u001b[38;5;28;01mfrom\u001b[39;00m\u001b[38;5;250m \u001b[39m\u001b[34;01mdatetime\u001b[39;00m\u001b[38;5;250m \u001b[39m\u001b[38;5;28;01mimport\u001b[39;00m date\n\u001b[32m      6\u001b[39m \u001b[38;5;28;01mfrom\u001b[39;00m\u001b[38;5;250m \u001b[39m\u001b[34;01minspect\u001b[39;00m\u001b[38;5;250m \u001b[39m\u001b[38;5;28;01mimport\u001b[39;00m Parameter\n\u001b[32m----> \u001b[39m\u001b[32m7\u001b[39m \u001b[38;5;28;01mfrom\u001b[39;00m\u001b[38;5;250m \u001b[39m\u001b[34;01mtyping\u001b[39;00m\u001b[38;5;250m \u001b[39m\u001b[38;5;28;01mimport\u001b[39;00m (\n\u001b[32m      8\u001b[39m     LTIR,\n\u001b[32m      9\u001b[39m     STIR,\n\u001b[32m     10\u001b[39m     TYPE_CHECKING,\n\u001b[32m     11\u001b[39m     Annotated,\n\u001b[32m     12\u001b[39m     Any,\n\u001b[32m     13\u001b[39m     AvailableIndicators,\n\u001b[32m     14\u001b[39m     BalanceOfPayments,\n\u001b[32m     15\u001b[39m     CentralBankHoldings,\n\u001b[32m     16\u001b[39m     CompositeLeadingIndicator,\n\u001b[32m     17\u001b[39m     ConsumerPriceIndex,\n\u001b[32m     18\u001b[39m     CountryInterestRates,\n\u001b[32m     19\u001b[39m     CountryProfile,\n\u001b[32m     20\u001b[39m     DirectionOfTrade,\n\u001b[32m     21\u001b[39m     EconomicCalendar,\n\u001b[32m     22\u001b[39m     EconomicIndicators,\n\u001b[32m     23\u001b[39m     ExportDestinations,\n\u001b[32m     24\u001b[39m     FomcDocuments,\n\u001b[32m     25\u001b[39m     ForwardRef,\n\u001b[32m     26\u001b[39m     FredRegional,\n\u001b[32m     27\u001b[39m     FredReleaseTable,\n\u001b[32m     28\u001b[39m     FredSearch,\n\u001b[32m     29\u001b[39m     FredSeries,\n\u001b[32m     30\u001b[39m     HousePriceIndex,\n\u001b[32m     31\u001b[39m     ImmediateInterestRate,\n\u001b[32m     32\u001b[39m     Literal,\n\u001b[32m     33\u001b[39m     MoneyMeasures,\n\u001b[32m     34\u001b[39m     Optional,\n\u001b[32m     35\u001b[39m     PersonalConsumptionExpenditures,\n\u001b[32m     36\u001b[39m     PortVolume,\n\u001b[32m     37\u001b[39m     PrimaryDealerFails,\n\u001b[32m     38\u001b[39m     PrimaryDealerPositioning,\n\u001b[32m     39\u001b[39m     RetailPrices,\n\u001b[32m     40\u001b[39m     RiskPremium,\n\u001b[32m     41\u001b[39m     SharePriceIndex,\n\u001b[32m     42\u001b[39m     Unemployment,\n\u001b[32m     43\u001b[39m     Union,\n\u001b[32m     44\u001b[39m )\n\u001b[32m     45\u001b[39m \u001b[38;5;28;01mfrom\u001b[39;00m\u001b[38;5;250m \u001b[39m\u001b[34;01mwarnings\u001b[39;00m\u001b[38;5;250m \u001b[39m\u001b[38;5;28;01mimport\u001b[39;00m simplefilter, warn\n\u001b[32m     47\u001b[39m \u001b[38;5;28;01mimport\u001b[39;00m\u001b[38;5;250m \u001b[39m\u001b[34;01mnumpy\u001b[39;00m\n",
      "\u001b[31mImportError\u001b[39m: cannot import name 'LTIR' from 'typing' (/Users/jjfantini/.local/share/uv/python/cpython-3.12.10-macos-aarch64-none/lib/python3.12/typing.py)"
     ]
    }
   ],
   "source": [
    "result = obb.economy.calendar(provider='nasdaq', country='united_kingdom', start_date='2024-12-01', end_date='2025-01-01')\n",
    "df = result.to_df()\n"
   ]
  },
  {
   "cell_type": "code",
   "execution_count": null,
   "metadata": {},
   "outputs": [],
   "source": [
    "df[df[\"event\"].str.contains(\"CPI\")]"
   ]
  },
  {
   "cell_type": "code",
   "execution_count": 7,
   "metadata": {},
   "outputs": [
    {
     "name": "stdout",
     "output_type": "stream",
     "text": [
      "The autoreload extension is already loaded. To reload it, use:\n",
      "  %reload_ext autoreload\n"
     ]
    },
    {
     "name": "stderr",
     "output_type": "stream",
     "text": [
      "\u001b[1;35mWARNING:\u001b[0m \u001b[36mToolboxQueryParams\u001b[0m || \u001b[1;33mStart date adjusted to 2023-12-04 based on anonymous membership (1Y of data).\u001b[0m\n"
     ]
    },
    {
     "data": {
      "text/plain": [
       "Toolbox(symbols=['SPY', 'IWM', 'DIA', 'QQQ'], interval=1d, start_date=2023-12-04, end_date=2024-12-03, provider=yfinance, membership=anonymous)"
      ]
     },
     "execution_count": 7,
     "metadata": {},
     "output_type": "execute_result"
    }
   ],
   "source": [
    "%load_ext autoreload\n",
    "%autoreload\n",
    "\n",
    "from humbldata.toolbox.toolbox_controller import Toolbox\n",
    "\n",
    "toolbox = Toolbox(\n",
    "    symbols=\"SPY,IWM,DIA,QQQ\",\n",
    "    interval=\"1d\",\n",
    "    start_date=\"2000-01-01\",\n",
    "    end_date=\"2024-12-03\",\n",
    "    # membership=\"anonymous\"\n",
    ")\n",
    "toolbox"
   ]
  },
  {
   "cell_type": "code",
   "execution_count": 8,
   "metadata": {},
   "outputs": [
    {
     "name": "stderr",
     "output_type": "stream",
     "text": [
      "\u001b[1;35mINFO:\u001b[0m \u001b[36mHumblChannelFetcher\u001b[0m || \u001b[32mSTART: fetch_data (sync)\u001b[0m\n",
      "\u001b[1;35mDEBUG:\u001b[0m \u001b[36mHumblChannelFetcher\u001b[0m || \u001b[34mRunning .transform_query()\u001b[0m\n",
      "\u001b[1;35mDEBUG:\u001b[0m \u001b[36mHumblChannelFetcher\u001b[0m || \u001b[34mRunning .extract_data()\u001b[0m\n",
      "\u001b[1;35mERROR:\u001b[0m \u001b[36mHumblChannelFetcher\u001b[0m || \u001b[1;31mEXCEPTION in fetch_data (sync) - Total time: 0.0035s\u001b[0m\n",
      "Traceback (most recent call last):\n",
      "  File \"/Users/jjfantini/github/humblFINANCE-org/humblDATA/src/humbldata/core/utils/logger.py\", line 182, in sync_wrapper\n",
      "    result = func(*args, **kwargs)\n",
      "             ^^^^^^^^^^^^^^^^^^^^^\n",
      "  File \"/Users/jjfantini/github/humblFINANCE-org/humblDATA/src/humbldata/core/standard_models/toolbox/technical/humbl_channel.py\", line 482, in fetch_data\n",
      "    self.extract_data()\n",
      "  File \"/Users/jjfantini/github/humblFINANCE-org/humblDATA/src/humbldata/core/standard_models/abstract/warnings.py\", line 100, in wrapper\n",
      "    result = func(*args, **kwargs)\n",
      "             ^^^^^^^^^^^^^^^^^^^^^\n",
      "  File \"/Users/jjfantini/github/humblFINANCE-org/humblDATA/src/humbldata/core/standard_models/toolbox/technical/humbl_channel.py\", line 363, in extract_data\n",
      "    obb.equity.price.historical(\n",
      "    ^^^^^^^^^^\n",
      "  File \"/Users/jjfantini/github/humblFINANCE-org/humblDATA/.venv/lib/python3.12/site-packages/openbb/package/__extensions__.py\", line 127, in equity\n",
      "    from . import equity\n",
      "  File \"/Users/jjfantini/github/humblFINANCE-org/humblDATA/.venv/lib/python3.12/site-packages/openbb/package/equity.py\", line 7, in <module>\n",
      "    from typing import (\n",
      "ImportError: cannot import name 'EquityInfo' from 'typing' (/Users/jjfantini/.local/share/uv/python/cpython-3.12.10-macos-aarch64-none/lib/python3.12/typing.py)\n",
      "\u001b[1;35mERROR:\u001b[0m \u001b[36mhumbldata.toolbox.technical.technical_controller\u001b[0m || \u001b[1;31mError calculating Mandelbrot Channel\u001b[0m\n",
      "Traceback (most recent call last):\n",
      "  File \"/Users/jjfantini/github/humblFINANCE-org/humblDATA/src/humbldata/toolbox/technical/technical_controller.py\", line 175, in humbl_channel\n",
      "    return fetcher.fetch_data()\n",
      "           ^^^^^^^^^^^^^^^^^^^^\n",
      "  File \"/Users/jjfantini/github/humblFINANCE-org/humblDATA/src/humbldata/core/utils/logger.py\", line 182, in sync_wrapper\n",
      "    result = func(*args, **kwargs)\n",
      "             ^^^^^^^^^^^^^^^^^^^^^\n",
      "  File \"/Users/jjfantini/github/humblFINANCE-org/humblDATA/src/humbldata/core/standard_models/toolbox/technical/humbl_channel.py\", line 482, in fetch_data\n",
      "    self.extract_data()\n",
      "  File \"/Users/jjfantini/github/humblFINANCE-org/humblDATA/src/humbldata/core/standard_models/abstract/warnings.py\", line 100, in wrapper\n",
      "    result = func(*args, **kwargs)\n",
      "             ^^^^^^^^^^^^^^^^^^^^^\n",
      "  File \"/Users/jjfantini/github/humblFINANCE-org/humblDATA/src/humbldata/core/standard_models/toolbox/technical/humbl_channel.py\", line 363, in extract_data\n",
      "    obb.equity.price.historical(\n",
      "    ^^^^^^^^^^\n",
      "  File \"/Users/jjfantini/github/humblFINANCE-org/humblDATA/.venv/lib/python3.12/site-packages/openbb/package/__extensions__.py\", line 127, in equity\n",
      "    from . import equity\n",
      "  File \"/Users/jjfantini/github/humblFINANCE-org/humblDATA/.venv/lib/python3.12/site-packages/openbb/package/equity.py\", line 7, in <module>\n",
      "    from typing import (\n",
      "ImportError: cannot import name 'EquityInfo' from 'typing' (/Users/jjfantini/.local/share/uv/python/cpython-3.12.10-macos-aarch64-none/lib/python3.12/typing.py)\n"
     ]
    },
    {
     "ename": "HumblDataError",
     "evalue": "Failed to calculate Mandelbrot Channel: cannot import name 'EquityInfo' from 'typing' (/Users/jjfantini/.local/share/uv/python/cpython-3.12.10-macos-aarch64-none/lib/python3.12/typing.py)",
     "output_type": "error",
     "traceback": [
      "\u001b[31m---------------------------------------------------------------------------\u001b[39m",
      "\u001b[31mImportError\u001b[39m                               Traceback (most recent call last)",
      "\u001b[36mFile \u001b[39m\u001b[32m~/github/humblFINANCE-org/humblDATA/src/humbldata/toolbox/technical/technical_controller.py:175\u001b[39m, in \u001b[36mTechnical.humbl_channel\u001b[39m\u001b[34m(self, **kwargs)\u001b[39m\n\u001b[32m    174\u001b[39m     logger.debug(\u001b[33m\"\u001b[39m\u001b[33mFetching Mandelbrot Channel data\u001b[39m\u001b[33m\"\u001b[39m)\n\u001b[32m--> \u001b[39m\u001b[32m175\u001b[39m     \u001b[38;5;28;01mreturn\u001b[39;00m \u001b[43mfetcher\u001b[49m\u001b[43m.\u001b[49m\u001b[43mfetch_data\u001b[49m\u001b[43m(\u001b[49m\u001b[43m)\u001b[49m\n\u001b[32m    177\u001b[39m \u001b[38;5;28;01mexcept\u001b[39;00m \u001b[38;5;167;01mException\u001b[39;00m \u001b[38;5;28;01mas\u001b[39;00m e:\n",
      "\u001b[36mFile \u001b[39m\u001b[32m~/github/humblFINANCE-org/humblDATA/src/humbldata/core/utils/logger.py:182\u001b[39m, in \u001b[36mlog_start_end.<locals>.decorator.<locals>.sync_wrapper\u001b[39m\u001b[34m(*args, **kwargs)\u001b[39m\n\u001b[32m    181\u001b[39m \u001b[38;5;28;01mtry\u001b[39;00m:\n\u001b[32m--> \u001b[39m\u001b[32m182\u001b[39m     result = \u001b[43mfunc\u001b[49m\u001b[43m(\u001b[49m\u001b[43m*\u001b[49m\u001b[43margs\u001b[49m\u001b[43m,\u001b[49m\u001b[43m \u001b[49m\u001b[43m*\u001b[49m\u001b[43m*\u001b[49m\u001b[43mkwargs\u001b[49m\u001b[43m)\u001b[49m\n\u001b[32m    183\u001b[39m \u001b[38;5;28;01mexcept\u001b[39;00m \u001b[38;5;167;01mKeyboardInterrupt\u001b[39;00m:\n",
      "\u001b[36mFile \u001b[39m\u001b[32m~/github/humblFINANCE-org/humblDATA/src/humbldata/core/standard_models/toolbox/technical/humbl_channel.py:482\u001b[39m, in \u001b[36mHumblChannelFetcher.fetch_data\u001b[39m\u001b[34m(self)\u001b[39m\n\u001b[32m    481\u001b[39m logger.debug(\u001b[33m\"\u001b[39m\u001b[33mRunning .extract_data()\u001b[39m\u001b[33m\"\u001b[39m)\n\u001b[32m--> \u001b[39m\u001b[32m482\u001b[39m \u001b[38;5;28;43mself\u001b[39;49m\u001b[43m.\u001b[49m\u001b[43mextract_data\u001b[49m\u001b[43m(\u001b[49m\u001b[43m)\u001b[49m\n\u001b[32m    483\u001b[39m logger.debug(\u001b[33m\"\u001b[39m\u001b[33mRunning .transform_data()\u001b[39m\u001b[33m\"\u001b[39m)\n",
      "\u001b[36mFile \u001b[39m\u001b[32m~/github/humblFINANCE-org/humblDATA/src/humbldata/core/standard_models/abstract/warnings.py:100\u001b[39m, in \u001b[36mcollect_warnings.<locals>.wrapper\u001b[39m\u001b[34m(*args, **kwargs)\u001b[39m\n\u001b[32m     99\u001b[39m \u001b[38;5;28;01mwith\u001b[39;00m warning_collector:\n\u001b[32m--> \u001b[39m\u001b[32m100\u001b[39m     result = \u001b[43mfunc\u001b[49m\u001b[43m(\u001b[49m\u001b[43m*\u001b[49m\u001b[43margs\u001b[49m\u001b[43m,\u001b[49m\u001b[43m \u001b[49m\u001b[43m*\u001b[49m\u001b[43m*\u001b[49m\u001b[43mkwargs\u001b[49m\u001b[43m)\u001b[49m\n\u001b[32m    102\u001b[39m \u001b[38;5;66;03m# If this is a method of a class that has a warnings attribute, add the warnings\u001b[39;00m\n",
      "\u001b[36mFile \u001b[39m\u001b[32m~/github/humblFINANCE-org/humblDATA/src/humbldata/core/standard_models/toolbox/technical/humbl_channel.py:363\u001b[39m, in \u001b[36mHumblChannelFetcher.extract_data\u001b[39m\u001b[34m(self)\u001b[39m\n\u001b[32m    352\u001b[39m \u001b[38;5;250m\u001b[39m\u001b[33;03m\"\"\"\u001b[39;00m\n\u001b[32m    353\u001b[39m \u001b[33;03mExtract the data from the provider and returns it as a Polars DataFrame.\u001b[39;00m\n\u001b[32m    354\u001b[39m \n\u001b[32m   (...)\u001b[39m\u001b[32m    360\u001b[39m \u001b[33;03m    The extracted data as a Polars DataFrame.\u001b[39;00m\n\u001b[32m    361\u001b[39m \u001b[33;03m\"\"\"\u001b[39;00m\n\u001b[32m    362\u001b[39m \u001b[38;5;28mself\u001b[39m.equity_historical_data: pl.LazyFrame = (\n\u001b[32m--> \u001b[39m\u001b[32m363\u001b[39m     \u001b[43mobb\u001b[49m\u001b[43m.\u001b[49m\u001b[43mequity\u001b[49m.price.historical(\n\u001b[32m    364\u001b[39m         symbol=\u001b[38;5;28mself\u001b[39m.context_params.symbols,\n\u001b[32m    365\u001b[39m         start_date=\u001b[38;5;28mself\u001b[39m.context_params.start_date,\n\u001b[32m    366\u001b[39m         end_date=\u001b[38;5;28mself\u001b[39m.context_params.end_date,\n\u001b[32m    367\u001b[39m         provider=\u001b[38;5;28mself\u001b[39m.context_params.provider,\n\u001b[32m    368\u001b[39m         \u001b[38;5;66;03m# add kwargs\u001b[39;00m\n\u001b[32m    369\u001b[39m     )\n\u001b[32m    370\u001b[39m     .to_polars()\n\u001b[32m    371\u001b[39m     .lazy()\n\u001b[32m    372\u001b[39m )\n\u001b[32m    374\u001b[39m \u001b[38;5;28;01mif\u001b[39;00m \u001b[38;5;28mlen\u001b[39m(\u001b[38;5;28mself\u001b[39m.context_params.symbols) == \u001b[32m1\u001b[39m:\n",
      "\u001b[36mFile \u001b[39m\u001b[32m~/github/humblFINANCE-org/humblDATA/.venv/lib/python3.12/site-packages/openbb/package/__extensions__.py:127\u001b[39m, in \u001b[36mExtensions.equity\u001b[39m\u001b[34m(self)\u001b[39m\n\u001b[32m    124\u001b[39m \u001b[38;5;129m@property\u001b[39m\n\u001b[32m    125\u001b[39m \u001b[38;5;28;01mdef\u001b[39;00m\u001b[38;5;250m \u001b[39m\u001b[34mequity\u001b[39m(\u001b[38;5;28mself\u001b[39m):\n\u001b[32m    126\u001b[39m     \u001b[38;5;66;03m# pylint: disable=import-outside-toplevel\u001b[39;00m\n\u001b[32m--> \u001b[39m\u001b[32m127\u001b[39m     \u001b[38;5;28;01mfrom\u001b[39;00m\u001b[38;5;250m \u001b[39m\u001b[34;01m.\u001b[39;00m\u001b[38;5;250m \u001b[39m\u001b[38;5;28;01mimport\u001b[39;00m equity\n\u001b[32m    129\u001b[39m     \u001b[38;5;28;01mreturn\u001b[39;00m equity.ROUTER_equity(command_runner=\u001b[38;5;28mself\u001b[39m._command_runner)\n",
      "\u001b[36mFile \u001b[39m\u001b[32m~/github/humblFINANCE-org/humblDATA/.venv/lib/python3.12/site-packages/openbb/package/equity.py:7\u001b[39m\n\u001b[32m      6\u001b[39m \u001b[38;5;28;01mfrom\u001b[39;00m\u001b[38;5;250m \u001b[39m\u001b[34;01minspect\u001b[39;00m\u001b[38;5;250m \u001b[39m\u001b[38;5;28;01mimport\u001b[39;00m Parameter\n\u001b[32m----> \u001b[39m\u001b[32m7\u001b[39m \u001b[38;5;28;01mfrom\u001b[39;00m\u001b[38;5;250m \u001b[39m\u001b[34;01mtyping\u001b[39;00m\u001b[38;5;250m \u001b[39m\u001b[38;5;28;01mimport\u001b[39;00m (\n\u001b[32m      8\u001b[39m     TYPE_CHECKING,\n\u001b[32m      9\u001b[39m     Annotated,\n\u001b[32m     10\u001b[39m     Any,\n\u001b[32m     11\u001b[39m     EquityInfo,\n\u001b[32m     12\u001b[39m     EquityScreener,\n\u001b[32m     13\u001b[39m     EquitySearch,\n\u001b[32m     14\u001b[39m     ForwardRef,\n\u001b[32m     15\u001b[39m     HistoricalMarketCap,\n\u001b[32m     16\u001b[39m     Literal,\n\u001b[32m     17\u001b[39m     MarketSnapshots,\n\u001b[32m     18\u001b[39m     Optional,\n\u001b[32m     19\u001b[39m     Union,\n\u001b[32m     20\u001b[39m )\n\u001b[32m     21\u001b[39m \u001b[38;5;28;01mfrom\u001b[39;00m\u001b[38;5;250m \u001b[39m\u001b[34;01mwarnings\u001b[39;00m\u001b[38;5;250m \u001b[39m\u001b[38;5;28;01mimport\u001b[39;00m simplefilter, warn\n",
      "\u001b[31mImportError\u001b[39m: cannot import name 'EquityInfo' from 'typing' (/Users/jjfantini/.local/share/uv/python/cpython-3.12.10-macos-aarch64-none/lib/python3.12/typing.py)",
      "\nThe above exception was the direct cause of the following exception:\n",
      "\u001b[31mHumblDataError\u001b[39m                            Traceback (most recent call last)",
      "\u001b[36mCell\u001b[39m\u001b[36m \u001b[39m\u001b[32mIn[8]\u001b[39m\u001b[32m, line 4\u001b[39m\n\u001b[32m      1\u001b[39m \u001b[38;5;66;03m# import nest_asyncio\u001b[39;00m\n\u001b[32m      2\u001b[39m \u001b[38;5;66;03m# nest_asyncio.apply()\u001b[39;00m\n\u001b[32m----> \u001b[39m\u001b[32m4\u001b[39m result = \u001b[43mtoolbox\u001b[49m\u001b[43m.\u001b[49m\u001b[43mtechnical\u001b[49m\u001b[43m.\u001b[49m\u001b[43mhumbl_channel\u001b[49m\u001b[43m(\u001b[49m\u001b[43mhistorical\u001b[49m\u001b[43m=\u001b[49m\u001b[38;5;28;43;01mFalse\u001b[39;49;00m\u001b[43m,\u001b[49m\u001b[43m \u001b[49m\u001b[43mwindow\u001b[49m\u001b[43m=\u001b[49m\u001b[33;43m\"\u001b[39;49m\u001b[33;43m1mo\u001b[39;49m\u001b[33;43m\"\u001b[39;49m\u001b[43m,\u001b[49m\u001b[43m \u001b[49m\u001b[43m_boundary_group_down\u001b[49m\u001b[43m=\u001b[49m\u001b[38;5;28;43;01mFalse\u001b[39;49;00m\u001b[43m,\u001b[49m\u001b[43m \u001b[49m\u001b[43mchart\u001b[49m\u001b[43m=\u001b[49m\u001b[38;5;28;43;01mTrue\u001b[39;49;00m\u001b[43m)\u001b[49m\n\u001b[32m      5\u001b[39m result\n",
      "\u001b[36mFile \u001b[39m\u001b[32m~/github/humblFINANCE-org/humblDATA/src/humbldata/toolbox/technical/technical_controller.py:180\u001b[39m, in \u001b[36mTechnical.humbl_channel\u001b[39m\u001b[34m(self, **kwargs)\u001b[39m\n\u001b[32m    178\u001b[39m logger.exception(\u001b[33m\"\u001b[39m\u001b[33mError calculating Mandelbrot Channel\u001b[39m\u001b[33m\"\u001b[39m)\n\u001b[32m    179\u001b[39m msg = \u001b[33mf\u001b[39m\u001b[33m\"\u001b[39m\u001b[33mFailed to calculate Mandelbrot Channel: \u001b[39m\u001b[38;5;132;01m{\u001b[39;00me\u001b[38;5;132;01m!s}\u001b[39;00m\u001b[33m\"\u001b[39m\n\u001b[32m--> \u001b[39m\u001b[32m180\u001b[39m \u001b[38;5;28;01mraise\u001b[39;00m HumblDataError(msg) \u001b[38;5;28;01mfrom\u001b[39;00m\u001b[38;5;250m \u001b[39m\u001b[34;01me\u001b[39;00m\n",
      "\u001b[31mHumblDataError\u001b[39m: Failed to calculate Mandelbrot Channel: cannot import name 'EquityInfo' from 'typing' (/Users/jjfantini/.local/share/uv/python/cpython-3.12.10-macos-aarch64-none/lib/python3.12/typing.py)"
     ]
    }
   ],
   "source": [
    "# import nest_asyncio\n",
    "# nest_asyncio.apply()\n",
    "\n",
    "result = toolbox.technical.humbl_channel(historical=False, window=\"1mo\", _boundary_group_down=False, chart=True)\n",
    "result"
   ]
  },
  {
   "cell_type": "code",
   "execution_count": null,
   "metadata": {},
   "outputs": [],
   "source": [
    "result.to_polars()"
   ]
  },
  {
   "cell_type": "code",
   "execution_count": null,
   "metadata": {},
   "outputs": [],
   "source": [
    "result.command_params"
   ]
  },
  {
   "cell_type": "code",
   "execution_count": null,
   "metadata": {},
   "outputs": [],
   "source": [
    "result.context_params"
   ]
  },
  {
   "cell_type": "markdown",
   "metadata": {},
   "source": [
    "## Test `calc_up_down_pct`\n"
   ]
  },
  {
   "cell_type": "code",
   "execution_count": null,
   "metadata": {},
   "outputs": [],
   "source": [
    "from humbldata.portfolio.analytics.watchlist.helpers import calc_up_down_pct\n",
    "\n",
    "\n",
    "df = pl.DataFrame({\n",
    "    \"symbol\": [\"AAPL\", \"GOOGL\", \"MSFT\"],\n",
    "    \"bottom_price\": [5.18, 15.07, 16.24],\n",
    "    \"recent_price\": [10.05, 20.31, 16.42],\n",
    "    \"top_price\": [11.23, 25.17, 30.09],\n",
    "})\n",
    "result = calc_up_down_pct(df)\n",
    "print(result)"
   ]
  },
  {
   "cell_type": "markdown",
   "metadata": {},
   "source": [
    "# Setting up UserTable"
   ]
  },
  {
   "cell_type": "code",
   "execution_count": null,
   "metadata": {},
   "outputs": [],
   "source": [
    "%load_ext autoreload\n",
    "%autoreload 2\n",
    "\n",
    "from humbldata.core.standard_models.portfolio.analytics.watchlist_table import (\n",
    "    WatchlistTableQueryParams,\n",
    ")\n",
    "from humbldata.core.utils.openbb_helpers import get_latest_price\n",
    "\n",
    "symbols = WatchlistTableQueryParams(symbol=\"AAPL, MSFT, NVDA\").symbol\n",
    "symbols"
   ]
  },
  {
   "cell_type": "markdown",
   "metadata": {},
   "source": [
    "# Tesing Async\n"
   ]
  },
  {
   "cell_type": "markdown",
   "metadata": {},
   "source": [
    "## Get Sector Async"
   ]
  },
  {
   "cell_type": "code",
   "execution_count": null,
   "metadata": {},
   "outputs": [],
   "source": [
    "%load_ext autoreload\n",
    "%autoreload 2\n",
    "\n",
    "import polars as pl\n",
    "\n",
    "from humbldata.core.utils.openbb_helpers import (\n",
    "    aget_equity_sector,\n",
    "    aget_etf_category,\n",
    ")\n",
    "\n",
    "stocks = pl.Series([\n",
    "    \"GOOGL\",  # Communication Services\n",
    "    \"AMZN\",   # Consumer Discretionary\n",
    "    \"KO\",     # Consumer Staples\n",
    "    \"XOM\",    # Energy\n",
    "    \"JPM\",    # Financials\n",
    "    \"JNJ\",    # Health Care\n",
    "    \"HON\",    # Industrials\n",
    "    \"AAPL\",   # Information Technology\n",
    "    \"LIN\",    # Materials\n",
    "    \"PLD\",    # Real Estate\n",
    "    \"NEE\"     # Utilities\n",
    "])\n",
    "\n",
    "# Define objects and lists for different symbol groups\n",
    "\n",
    "# Equities\n",
    "equity_symbols = [\"AAPL\", \"NVDA\", \"TSLA\"]\n",
    "\n",
    "# ETFs\n",
    "etf_symbols = [\"XLE\", \"XLF\", \"XLU\"]\n",
    "\n",
    "# Mixed (equities and ETFs)\n",
    "mixed_symbols = [\"AAPL\", \"XLE\", \"XLU\", \"TSLA\"]\n",
    "\n",
    "# Edge cases\n",
    "edge_symbols = [\"BITI\", \"LNGG\", \"ETHU\", \"DBA\"]\n",
    "\n",
    "\n",
    "# test = (await aget_etf_category(symbols=[\"AAPL\", \"XLE\", \"DBA\"], provider=\"yfinance\")).collect()\n",
    "test2 = (await aget_equity_sector(symbols=equity_symbols, provider=\"yfinance\")).collect()\n",
    "# test2 = (await aget_equity_sector(symbols=[\"XLE\", \"AAPL\"], provider=\"yfinance\")).collect()\n",
    "test2"
   ]
  },
  {
   "cell_type": "code",
   "execution_count": null,
   "metadata": {},
   "outputs": [],
   "source": [
    "symbols = [\"CORN\", 'SLV', 'DBA', \"XLE\", \"AAPL\", \"FXE\", \"SPY\", \"QQQ\", \"BITO\", \"MAXI\", \"SATO\", \"BIL\", \"LQD\", \"QAI\", \"MNA\", \"CLSE\"]\n",
    "symbols2 = [\"AAPL\", \"FXE\", \"SPY\", \"MAXI\", \"GLD\"]\n",
    "symbols3 = commodity_etf_symbols = [\"GLD\", \"IAU\", \"SLV\", \"GLDM\", \"PDBC\", \"SGOL\", \"FTGC\", \"DBC\", \"SIVR\", \"USO\", \"IAUM\", \"GSG\", \"BCI\", \"PPLT\", \"COMT\", \"GLTR\", \"OUNZ\", \"BAR\", \"UNG\", \"DBA\", \"AAAU\", \"DJP\", \"CMDT\", \"KRBN\", \"PALL\", \"COM\", \"NBCM\", \"CMDY\", \"DBO\", \"BCD\", \"KCCA\", \"CPER\", \"HGER\", \"USCI\", \"DBB\", \"DBP\", \"GCC\", \"WEAT\", \"BNO\", \"UGA\", \"DGP\", \"IGLD\", \"COMB\", \"DBE\", \"FGDL\", \"CORN\", \"USL\", \"CCRV\", \"DJCB\", \"IAUF\", \"PLTM\", \"BDRY\", \"PDBA\", \"BGLD\", \"UCIB\", \"SOYB\", \"GRN\", \"PIT\", \"BCIM\", \"RENW\", \"SDCI\", \"UNL\", \"SHNY\", \"DCMT\", \"TAGS\", \"CANE\", \"TMET\", \"KEUA\", \"HCOM\", \"HARD\", \"EVMT\", \"USG\", \"AMPD\", \"DZZ\", \"DGZ\", \"KMET\", \"CMCI\", \"USOY\", \"ZSC\", \"TILL\", \"BWET\", \"DULL\", \"ZSB\", \"LNGG\", \"USOI\", \"OILK\", \"SLVO\", \"GLDI\", \"BOIL\", \"KOLD\", \"AGQ\", \"GLL\", \"UGL\", \"ZSL\", \"UCO\", \"SCO\"]\n",
    "\n",
    "\n",
    "\n",
    "df = (await aget_etf_category(symbols=edge_symbols)).collect()\n",
    "df"
   ]
  },
  {
   "cell_type": "code",
   "execution_count": null,
   "metadata": {},
   "outputs": [],
   "source": [
    "from humbldata.portfolio.analytics.watchlist.helpers import normalize_asset_class\n",
    "\n",
    "\n",
    "normalized_df = normalize_asset_class(df).select([\"symbol\", \"category\"])\n",
    "normalized_df"
   ]
  },
  {
   "cell_type": "code",
   "execution_count": null,
   "metadata": {},
   "outputs": [],
   "source": [
    "%load_ext autoreload\n",
    "%autoreload 2\n",
    "\n",
    "from humbldata.core.utils.openbb_helpers import aget_etf_category\n",
    "\n",
    "\n",
    "df2 = (await aget_etf_category(symbols=edge_symbols)).collect()\n",
    "df2"
   ]
  },
  {
   "cell_type": "code",
   "execution_count": null,
   "metadata": {},
   "outputs": [],
   "source": [
    "%load_ext autoreload\n",
    "%autoreload 2\n",
    "\n",
    "from humbldata.portfolio.analytics.watchlist.helpers import aget_asset_class_filter\n",
    "\n",
    "(await aget_asset_class_filter(symbols=[\"XLE\", \"XLF\", \"XLK\"])).collect()"
   ]
  },
  {
   "cell_type": "markdown",
   "metadata": {},
   "source": [
    "## Test aget_sector_filter"
   ]
  },
  {
   "cell_type": "code",
   "execution_count": null,
   "metadata": {},
   "outputs": [],
   "source": [
    "%load_ext autoreload\n",
    "%autoreload 2\n",
    "\n",
    "from humbldata.portfolio.analytics.watchlist.helpers import aget_sector_filter\n",
    "\n",
    "etf_data = pl.LazyFrame({\n",
    "    \"symbol\": [\"BITI\", \"LNGG\", \"ETHU\", \"DBA\"],\n",
    "    \"category\": [\n",
    "        \"Trading--Miscellaneous\",\n",
    "        \"Equity Energy\",\n",
    "        None,\n",
    "        \"Commodities Focused\",\n",
    "    ]\n",
    "})\n",
    "\n",
    "(await aget_sector_filter(symbols=mixed_symbols)).collect()"
   ]
  },
  {
   "cell_type": "markdown",
   "metadata": {},
   "source": [
    "# Test user_table_engine"
   ]
  },
  {
   "cell_type": "code",
   "execution_count": null,
   "metadata": {},
   "outputs": [],
   "source": [
    "from humbldata.portfolio.analytics.watchlist.model import watchlist_table_engine\n",
    "import polars as pl\n",
    "\n",
    "etf_data = [\n",
    "    pl.DataFrame(\n",
    "        {\"symbol\": [\"AAPL\", \"NVDA\", \"TSLA\"], \"category\": [None, None, None]}\n",
    "    ),\n",
    "    pl.DataFrame(\n",
    "        {\n",
    "            \"symbol\": [\"XLE\", \"XLF\", \"XLU\"],\n",
    "            \"category\": [\"Equity Energy\", \"Financial\", \"Utilities\"],\n",
    "        }\n",
    "    ),\n",
    "    pl.DataFrame(\n",
    "        {\n",
    "            \"symbol\": [\"AAPL\", \"XLE\", \"XLU\", \"TSLA\"],\n",
    "            \"category\": [None, \"Equity Energy\", \"Utilities\", None],\n",
    "        }\n",
    "    ),\n",
    "    pl.DataFrame(\n",
    "        {\n",
    "            \"symbol\": [\"BITI\", \"LNGG\", \"ETHU\", \"DBA\"],\n",
    "            \"category\": [\n",
    "                \"Trading--Miscellaneous\",\n",
    "                \"Equity Energy\",\n",
    "                None,\n",
    "                \"Commodities Focused\",\n",
    "            ],\n",
    "        }\n",
    "    ),\n",
    "]\n",
    "\n",
    "out: pl.LazyFrame = await watchlist_table_engine(symbols=edge_symbols)\n",
    "out.collect()"
   ]
  },
  {
   "cell_type": "markdown",
   "metadata": {},
   "source": [
    "## Test UserTableFetcher"
   ]
  },
  {
   "cell_type": "markdown",
   "metadata": {},
   "source": []
  },
  {
   "cell_type": "code",
   "execution_count": null,
   "metadata": {},
   "outputs": [],
   "source": [
    "%load_ext autoreload\n",
    "%autoreload 2\n",
    "\n",
    "from humbldata.portfolio.portfolio_controller import Portfolio\n",
    "\n",
    "portfolio = Portfolio(symbols=[\"AAPL\"], user_role=\"anonymous\")\n",
    "portfolio"
   ]
  },
  {
   "cell_type": "code",
   "execution_count": null,
   "metadata": {},
   "outputs": [],
   "source": [
    "result = (await portfolio.analytics.watchlist_table())"
   ]
  },
  {
   "cell_type": "code",
   "execution_count": null,
   "metadata": {},
   "outputs": [],
   "source": [
    "result.to_polars()"
   ]
  },
  {
   "cell_type": "code",
   "execution_count": null,
   "metadata": {},
   "outputs": [],
   "source": [
    "result.to_polars()"
   ]
  },
  {
   "cell_type": "code",
   "execution_count": null,
   "metadata": {},
   "outputs": [],
   "source": []
  },
  {
   "cell_type": "markdown",
   "metadata": {},
   "source": [
    "# Testing Sandbox"
   ]
  },
  {
   "cell_type": "code",
   "execution_count": null,
   "metadata": {},
   "outputs": [],
   "source": [
    "%load_ext autoreload\n",
    "%autoreload 2\n",
    "\n",
    "from humbldata.toolbox.toolbox_controller import Toolbox\n",
    "import datetime\n",
    "from datetime import timedelta\n",
    "\n",
    "# start_date = \"2020-01-01\"\n",
    "# end_date = \"2024-01-01\"\n",
    "start_date = (datetime.datetime.now() - datetime.timedelta(days=365))\n",
    "end_date = datetime.date(2024, 7, 18)\n",
    "\n",
    "toolbox = Toolbox(\n",
    "    symbols=[\"AAPL\", \"AMD\"],\n",
    "    interval=\"1d\",\n",
    "    start_date=\"2022-07-18\",\n",
    "    end_date=end_date,\n",
    "    membership=\"peon\"\n",
    ")"
   ]
  },
  {
   "cell_type": "code",
   "execution_count": null,
   "metadata": {},
   "outputs": [],
   "source": [
    "result = toolbox.technical.humbl_channel(historical=False, window=\"1m\", _boundary_group_down=False, chart=True)\n",
    "result\n"
   ]
  },
  {
   "cell_type": "code",
   "execution_count": null,
   "metadata": {},
   "outputs": [],
   "source": [
    "result.warnings[0]"
   ]
  },
  {
   "cell_type": "code",
   "execution_count": null,
   "metadata": {},
   "outputs": [],
   "source": [
    "import pickle\n",
    "from pathlib import Path\n",
    "\n",
    "# Ensure the directory exists\n",
    "Path(\"../tests/test_data\").mkdir(parents=True, exist_ok=True)\n",
    "\n",
    "# Save the result object to the specified file\n",
    "with Path(\"../tests/test_data/mandelbrot_humblobject.pkl\").open(\"wb\") as file:\n",
    "    pickle.dump(result, file)\n",
    "\n",
    "print(\"Result object saved successfully.\")\n"
   ]
  }
 ],
 "metadata": {
  "kernelspec": {
   "display_name": ".venv",
   "language": "python",
   "name": "python3"
  },
  "language_info": {
   "codemirror_mode": {
    "name": "ipython",
    "version": 3
   },
   "file_extension": ".py",
   "mimetype": "text/x-python",
   "name": "python",
   "nbconvert_exporter": "python",
   "pygments_lexer": "ipython3",
   "version": "3.12.10"
  }
 },
 "nbformat": 4,
 "nbformat_minor": 2
}
