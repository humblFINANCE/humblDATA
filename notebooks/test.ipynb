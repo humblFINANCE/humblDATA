{
 "cells": [
  {
   "cell_type": "code",
   "execution_count": null,
   "metadata": {},
   "outputs": [],
   "source": [
    "%load_ext autoreload\n",
    "%autoreload 2\n",
    "\n",
    "from humbldata.core.utils.openbb_helpers import obb_login\n",
    "from openbb import obb\n",
    "from humbldata.core.utils.env import Env\n",
    "import polars as pl\n",
    "\n",
    "# obb_login()\n",
    "obb.account.login(pat=Env().OBB_PAT, remember_me=True)"
   ]
  },
  {
   "cell_type": "code",
   "execution_count": null,
   "metadata": {},
   "outputs": [],
   "source": [
    "\n",
    "from humbldata.toolbox.technical.mandelbrot_channel.model import (\n",
    "    calc_mandelbrot_channel,\n",
    "    calc_mandelbrot_channel_historical,\n",
    ")\n",
    "\n",
    "\n",
    "data = (\n",
    "    obb.equity.price.historical(\n",
    "        \"AAA\",\n",
    "        provider=\"yfinance\",\n",
    "        start_date=\"2020-07-01\",\n",
    "        end_date=\"2020-07-10\",\n",
    "        adjustment=\"splits_and_dividends\",\n",
    "    ).to_polars()\n",
    ").drop([\"dividends\", \"stock_splits\"])\n",
    "\n",
    "# data = obb.etf.historical([\"ETHU\"],start_date=\"2020-01-01\", end_date=\"2024-07-01\", provider=\"yfinance\")\n",
    "# data.to_polars()\n",
    "\n",
    "# mandelbrot = calc_mandelbrot_channel(  # noqa: ERA001\n",
    "#         data,\n",
    "#         window=\"1m\",\n",
    "#         rv_adjustment=True,\n",
    "#         rv_method=\"std\",\n",
    "#         rv_grouped_mean=False,\n",
    "#         rs_method=\"RS\",\n",
    "#         live_price=False,\n",
    "#     ).collect()\n",
    "# mandelbrot"
   ]
  },
  {
   "cell_type": "code",
   "execution_count": null,
   "metadata": {},
   "outputs": [],
   "source": [
    "data"
   ]
  },
  {
   "cell_type": "markdown",
   "metadata": {},
   "source": [
    "## Test `calc_up_down_pct`\n"
   ]
  },
  {
   "cell_type": "code",
   "execution_count": null,
   "metadata": {},
   "outputs": [],
   "source": [
    "from humbldata.portfolio.analytics.user_table.helpers import calc_up_down_pct\n",
    "\n",
    "\n",
    "df = pl.DataFrame({\n",
    "    \"symbol\": [\"AAPL\", \"GOOGL\", \"MSFT\"],\n",
    "    \"bottom_price\": [5.18, 15.07, 16.24],\n",
    "    \"recent_price\": [10.05, 20.31, 16.42],\n",
    "    \"top_price\": [11.23, 25.17, 30.09],\n",
    "})\n",
    "result = calc_up_down_pct(df)\n",
    "print(result)"
   ]
  },
  {
   "cell_type": "markdown",
   "metadata": {},
   "source": [
    "# Setting up UserTable"
   ]
  },
  {
   "cell_type": "code",
   "execution_count": null,
   "metadata": {},
   "outputs": [],
   "source": [
    "%load_ext autoreload\n",
    "%autoreload 2\n",
    "\n",
    "from humbldata.core.standard_models.portfolio.analytics.user_table import UserTableQueryParams\n",
    "from humbldata.core.utils.openbb_helpers import get_latest_price\n",
    "\n",
    "\n",
    "symbols = UserTableQueryParams(symbol=\"AAPL, MSFT, NVDA\").symbol\n",
    "symbols"
   ]
  },
  {
   "cell_type": "markdown",
   "metadata": {},
   "source": [
    "# Tesing Async\n"
   ]
  },
  {
   "cell_type": "markdown",
   "metadata": {},
   "source": [
    "## Get Sector Async"
   ]
  },
  {
   "cell_type": "code",
   "execution_count": null,
   "metadata": {},
   "outputs": [],
   "source": [
    "%load_ext autoreload\n",
    "%autoreload 2\n",
    "\n",
    "from humbldata.core.utils.openbb_helpers import aget_etf_category, aget_equity_sector\n",
    "import polars as pl\n",
    "\n",
    "stocks = pl.Series([\n",
    "    \"GOOGL\",  # Communication Services\n",
    "    \"AMZN\",   # Consumer Discretionary\n",
    "    \"KO\",     # Consumer Staples\n",
    "    \"XOM\",    # Energy\n",
    "    \"JPM\",    # Financials\n",
    "    \"JNJ\",    # Health Care\n",
    "    \"HON\",    # Industrials\n",
    "    \"AAPL\",   # Information Technology\n",
    "    \"LIN\",    # Materials\n",
    "    \"PLD\",    # Real Estate\n",
    "    \"NEE\"     # Utilities\n",
    "])\n",
    "\n",
    "# Define objects and lists for different symbol groups\n",
    "\n",
    "# Equities\n",
    "equity_symbols = [\"AAPL\", \"NVDA\", \"TSLA\"]\n",
    "\n",
    "# ETFs\n",
    "etf_symbols = [\"XLE\", \"XLF\", \"XLU\"]\n",
    "\n",
    "# Mixed (equities and ETFs)\n",
    "mixed_symbols = [\"AAPL\", \"XLE\", \"XLU\", \"TSLA\"]\n",
    "\n",
    "# Edge cases\n",
    "edge_symbols = [\"BITI\", \"LNGG\", \"ETHU\", \"DBA\"]\n",
    "\n",
    "\n",
    "# test = (await aget_etf_category(symbols=[\"AAPL\", \"XLE\", \"DBA\"], provider=\"yfinance\")).collect()\n",
    "test2 = (await aget_equity_sector(symbols=equity_symbols, provider=\"yfinance\")).collect()\n",
    "# test2 = (await aget_equity_sector(symbols=[\"XLE\", \"AAPL\"], provider=\"yfinance\")).collect()\n",
    "test2"
   ]
  },
  {
   "cell_type": "code",
   "execution_count": null,
   "metadata": {},
   "outputs": [],
   "source": [
    "symbols = [\"CORN\", 'SLV', 'DBA', \"XLE\", \"AAPL\", \"FXE\", \"SPY\", \"QQQ\", \"BITO\", \"MAXI\", \"SATO\", \"BIL\", \"LQD\", \"QAI\", \"MNA\", \"CLSE\"]\n",
    "symbols2 = [\"AAPL\", \"FXE\", \"SPY\", \"MAXI\", \"GLD\"]\n",
    "symbols3 = commodity_etf_symbols = [\"GLD\", \"IAU\", \"SLV\", \"GLDM\", \"PDBC\", \"SGOL\", \"FTGC\", \"DBC\", \"SIVR\", \"USO\", \"IAUM\", \"GSG\", \"BCI\", \"PPLT\", \"COMT\", \"GLTR\", \"OUNZ\", \"BAR\", \"UNG\", \"DBA\", \"AAAU\", \"DJP\", \"CMDT\", \"KRBN\", \"PALL\", \"COM\", \"NBCM\", \"CMDY\", \"DBO\", \"BCD\", \"KCCA\", \"CPER\", \"HGER\", \"USCI\", \"DBB\", \"DBP\", \"GCC\", \"WEAT\", \"BNO\", \"UGA\", \"DGP\", \"IGLD\", \"COMB\", \"DBE\", \"FGDL\", \"CORN\", \"USL\", \"CCRV\", \"DJCB\", \"IAUF\", \"PLTM\", \"BDRY\", \"PDBA\", \"BGLD\", \"UCIB\", \"SOYB\", \"GRN\", \"PIT\", \"BCIM\", \"RENW\", \"SDCI\", \"UNL\", \"SHNY\", \"DCMT\", \"TAGS\", \"CANE\", \"TMET\", \"KEUA\", \"HCOM\", \"HARD\", \"EVMT\", \"USG\", \"AMPD\", \"DZZ\", \"DGZ\", \"KMET\", \"CMCI\", \"USOY\", \"ZSC\", \"TILL\", \"BWET\", \"DULL\", \"ZSB\", \"LNGG\", \"USOI\", \"OILK\", \"SLVO\", \"GLDI\", \"BOIL\", \"KOLD\", \"AGQ\", \"GLL\", \"UGL\", \"ZSL\", \"UCO\", \"SCO\"]\n",
    "\n",
    "\n",
    "\n",
    "df = (await aget_etf_category(symbols=edge_symbols)).collect()\n",
    "df"
   ]
  },
  {
   "cell_type": "code",
   "execution_count": null,
   "metadata": {},
   "outputs": [],
   "source": [
    "from humbldata.portfolio.analytics.user_table.helpers import normalize_asset_class\n",
    "\n",
    "\n",
    "normalized_df = normalize_asset_class(df).select([\"symbol\", \"category\"])\n",
    "normalized_df"
   ]
  },
  {
   "cell_type": "code",
   "execution_count": null,
   "metadata": {},
   "outputs": [],
   "source": [
    "%load_ext autoreload\n",
    "%autoreload 2\n",
    "\n",
    "from humbldata.core.utils.openbb_helpers import aget_etf_category\n",
    "\n",
    "\n",
    "df2 = (await aget_etf_category(symbols=edge_symbols)).collect()\n",
    "df2"
   ]
  },
  {
   "cell_type": "code",
   "execution_count": null,
   "metadata": {},
   "outputs": [],
   "source": [
    "%load_ext autoreload\n",
    "%autoreload 2\n",
    "\n",
    "from humbldata.portfolio.analytics.user_table.helpers import aget_asset_class_filter\n",
    "\n",
    "(await aget_asset_class_filter(symbols=[\"XLE\", \"XLF\", \"XLK\"])).collect()"
   ]
  },
  {
   "cell_type": "markdown",
   "metadata": {},
   "source": [
    "## Test aget_sector_filter"
   ]
  },
  {
   "cell_type": "code",
   "execution_count": null,
   "metadata": {},
   "outputs": [],
   "source": [
    "%load_ext autoreload\n",
    "%autoreload 2\n",
    "\n",
    "from humbldata.portfolio.analytics.user_table.helpers import aget_sector_filter\n",
    "\n",
    "etf_data = pl.LazyFrame({\n",
    "    \"symbol\": [\"BITI\", \"LNGG\", \"ETHU\", \"DBA\"],\n",
    "    \"category\": [\n",
    "        \"Trading--Miscellaneous\",\n",
    "        \"Equity Energy\",\n",
    "        None,\n",
    "        \"Commodities Focused\",\n",
    "    ]\n",
    "})\n",
    "\n",
    "(await aget_sector_filter(symbols=mixed_symbols)).collect()"
   ]
  },
  {
   "cell_type": "markdown",
   "metadata": {},
   "source": [
    "# Test user_table_engine"
   ]
  },
  {
   "cell_type": "code",
   "execution_count": null,
   "metadata": {},
   "outputs": [],
   "source": [
    "from humbldata.portfolio.analytics.user_table.model import user_table_engine\n",
    "import polars as pl\n",
    "\n",
    "etf_data = [\n",
    "    pl.DataFrame(\n",
    "        {\"symbol\": [\"AAPL\", \"NVDA\", \"TSLA\"], \"category\": [None, None, None]}\n",
    "    ),\n",
    "    pl.DataFrame(\n",
    "        {\n",
    "            \"symbol\": [\"XLE\", \"XLF\", \"XLU\"],\n",
    "            \"category\": [\"Equity Energy\", \"Financial\", \"Utilities\"],\n",
    "        }\n",
    "    ),\n",
    "    pl.DataFrame(\n",
    "        {\n",
    "            \"symbol\": [\"AAPL\", \"XLE\", \"XLU\", \"TSLA\"],\n",
    "            \"category\": [None, \"Equity Energy\", \"Utilities\", None],\n",
    "        }\n",
    "    ),\n",
    "    pl.DataFrame(\n",
    "        {\n",
    "            \"symbol\": [\"BITI\", \"LNGG\", \"ETHU\", \"DBA\"],\n",
    "            \"category\": [\n",
    "                \"Trading--Miscellaneous\",\n",
    "                \"Equity Energy\",\n",
    "                None,\n",
    "                \"Commodities Focused\",\n",
    "            ],\n",
    "        }\n",
    "    ),\n",
    "]\n",
    "\n",
    "out: pl.LazyFrame = await user_table_engine(symbols=edge_symbols)\n",
    "out.collect()"
   ]
  },
  {
   "cell_type": "markdown",
   "metadata": {},
   "source": [
    "## Test UserTableFetcher"
   ]
  },
  {
   "cell_type": "code",
   "execution_count": null,
   "metadata": {},
   "outputs": [],
   "source": [
    "%load_ext autoreload\n",
    "%autoreload 2\n",
    "\n",
    "from humbldata.portfolio.portfolio_controller import Portfolio\n",
    "\n",
    "portfolio = Portfolio(symbols=[\"AAPL\"], user_role=\"anonymous\")\n",
    "portfolio"
   ]
  },
  {
   "cell_type": "code",
   "execution_count": null,
   "metadata": {},
   "outputs": [],
   "source": [
    "result = (await portfolio.analytics.user_table())"
   ]
  },
  {
   "cell_type": "code",
   "execution_count": null,
   "metadata": {},
   "outputs": [],
   "source": [
    "result.to_polars()"
   ]
  },
  {
   "cell_type": "code",
   "execution_count": null,
   "metadata": {},
   "outputs": [],
   "source": [
    "result.to_polars()"
   ]
  },
  {
   "cell_type": "markdown",
   "metadata": {},
   "source": [
    "# Testing Sandbox"
   ]
  },
  {
   "cell_type": "code",
   "execution_count": 1,
   "metadata": {},
   "outputs": [],
   "source": [
    "import polars as pl"
   ]
  },
  {
   "cell_type": "code",
   "execution_count": 3,
   "metadata": {},
   "outputs": [
    {
     "data": {
      "text/html": [
       "<div><style>\n",
       ".dataframe > thead > tr,\n",
       ".dataframe > tbody > tr {\n",
       "  text-align: right;\n",
       "  white-space: pre-wrap;\n",
       "}\n",
       "</style>\n",
       "<small>shape: (6_035, 20)</small><table border=\"1\" class=\"dataframe\"><thead><tr><th>date</th><th>open</th><th>high</th><th>low</th><th>close</th><th>volume</th><th>split_ratio</th><th>dividend</th><th>symbol</th><th>log_returns</th><th>window_index</th><th>window_mean</th><th>detrended_log_returns</th><th>cum_sum</th><th>cum_sum_min</th><th>cum_sum_max</th><th>cum_sum_range</th><th>cum_sum_std</th><th>realized_volatility</th><th>vol_bucket</th></tr><tr><td>date</td><td>f64</td><td>f64</td><td>f64</td><td>f64</td><td>f64</td><td>f64</td><td>f64</td><td>str</td><td>f64</td><td>i32</td><td>f64</td><td>f64</td><td>f64</td><td>f64</td><td>f64</td><td>f64</td><td>f64</td><td>f64</td><td>str</td></tr></thead><tbody><tr><td>2000-01-05</td><td>0.784238</td><td>0.835733</td><td>0.778569</td><td>0.786128</td><td>7.783216e8</td><td>0.0</td><td>0.0</td><td>&quot;AAPL&quot;</td><td>0.014527</td><td>287</td><td>-0.00537</td><td>0.019896</td><td>-0.062811</td><td>-0.212293</td><td>0.08333</td><td>0.295623</td><td>0.091599</td><td>21.971445</td><td>&quot;low&quot;</td></tr><tr><td>2000-01-06</td><td>0.802191</td><td>0.808805</td><td>0.718098</td><td>0.718098</td><td>7.679728e8</td><td>0.0</td><td>0.0</td><td>&quot;AAPL&quot;</td><td>-0.090514</td><td>287</td><td>-0.00537</td><td>-0.085144</td><td>-0.147955</td><td>-0.212293</td><td>0.08333</td><td>0.295623</td><td>0.091599</td><td>26.168462</td><td>&quot;mid&quot;</td></tr><tr><td>2000-01-07</td><td>0.729436</td><td>0.763452</td><td>0.721878</td><td>0.752113</td><td>4.607344e8</td><td>0.0</td><td>0.0</td><td>&quot;AAPL&quot;</td><td>0.046281</td><td>287</td><td>-0.00537</td><td>0.051651</td><td>-0.096305</td><td>-0.212293</td><td>0.08333</td><td>0.295623</td><td>0.091599</td><td>28.475358</td><td>&quot;mid&quot;</td></tr><tr><td>2000-01-10</td><td>0.77101</td><td>0.7729</td><td>0.716208</td><td>0.738885</td><td>5.05064e8</td><td>0.0</td><td>0.0</td><td>&quot;AAPL&quot;</td><td>-0.017744</td><td>287</td><td>-0.00537</td><td>-0.012375</td><td>-0.108679</td><td>-0.212293</td><td>0.08333</td><td>0.295623</td><td>0.091599</td><td>32.249623</td><td>&quot;mid&quot;</td></tr><tr><td>2000-01-11</td><td>0.725184</td><td>0.751168</td><td>0.684083</td><td>0.70109</td><td>4.415488e8</td><td>0.0</td><td>0.0</td><td>&quot;AAPL&quot;</td><td>-0.052506</td><td>287</td><td>-0.00537</td><td>-0.047137</td><td>-0.155816</td><td>-0.212293</td><td>0.08333</td><td>0.295623</td><td>0.091599</td><td>37.15822</td><td>&quot;mid&quot;</td></tr><tr><td>&hellip;</td><td>&hellip;</td><td>&hellip;</td><td>&hellip;</td><td>&hellip;</td><td>&hellip;</td><td>&hellip;</td><td>&hellip;</td><td>&hellip;</td><td>&hellip;</td><td>&hellip;</td><td>&hellip;</td><td>&hellip;</td><td>&hellip;</td><td>&hellip;</td><td>&hellip;</td><td>&hellip;</td><td>&hellip;</td><td>&hellip;</td><td>&hellip;</td></tr><tr><td>2023-12-22</td><td>194.93126</td><td>195.160978</td><td>192.724085</td><td>193.353287</td><td>3.71228e7</td><td>0.0</td><td>0.0</td><td>&quot;AAPL&quot;</td><td>-0.005563</td><td>0</td><td>0.000788</td><td>-0.006351</td><td>0.008694</td><td>-0.002047</td><td>0.036482</td><td>0.038529</td><td>0.011751</td><td>15.926591</td><td>&quot;low&quot;</td></tr><tr><td>2023-12-26</td><td>193.36327</td><td>193.642911</td><td>192.584265</td><td>192.803986</td><td>2.89193e7</td><td>0.0</td><td>0.0</td><td>&quot;AAPL&quot;</td><td>-0.002845</td><td>0</td><td>0.000788</td><td>-0.003633</td><td>0.005061</td><td>-0.002047</td><td>0.036482</td><td>0.038529</td><td>0.011751</td><td>15.769927</td><td>&quot;low&quot;</td></tr><tr><td>2023-12-27</td><td>192.244692</td><td>193.253399</td><td>190.846467</td><td>192.903839</td><td>4.80877e7</td><td>0.0</td><td>0.0</td><td>&quot;AAPL&quot;</td><td>0.000518</td><td>0</td><td>0.000788</td><td>-0.00027</td><td>0.004791</td><td>-0.002047</td><td>0.036482</td><td>0.038529</td><td>0.011751</td><td>15.419317</td><td>&quot;low&quot;</td></tr><tr><td>2023-12-28</td><td>193.892582</td><td>194.411923</td><td>192.923817</td><td>193.333298</td><td>3.40499e7</td><td>0.0</td><td>0.0</td><td>&quot;AAPL&quot;</td><td>0.002224</td><td>0</td><td>0.000788</td><td>0.001436</td><td>0.006227</td><td>-0.002047</td><td>0.036482</td><td>0.038529</td><td>0.011751</td><td>15.414401</td><td>&quot;low&quot;</td></tr><tr><td>2023-12-29</td><td>193.652887</td><td>194.152249</td><td>191.485654</td><td>192.284637</td><td>4.26288e7</td><td>0.0</td><td>0.0</td><td>&quot;AAPL&quot;</td><td>-0.005439</td><td>0</td><td>0.000788</td><td>-0.006227</td><td>3.4694e-18</td><td>-0.002047</td><td>0.036482</td><td>0.038529</td><td>0.011751</td><td>14.72245</td><td>&quot;low&quot;</td></tr></tbody></table></div>"
      ],
      "text/plain": [
       "shape: (6_035, 20)\n",
       "┌───────────┬───────────┬───────────┬───────────┬───┬───────────┬───────────┬───────────┬──────────┐\n",
       "│ date      ┆ open      ┆ high      ┆ low       ┆ … ┆ cum_sum_r ┆ cum_sum_s ┆ realized_ ┆ vol_buck │\n",
       "│ ---       ┆ ---       ┆ ---       ┆ ---       ┆   ┆ ange      ┆ td        ┆ volatilit ┆ et       │\n",
       "│ date      ┆ f64       ┆ f64       ┆ f64       ┆   ┆ ---       ┆ ---       ┆ y         ┆ ---      │\n",
       "│           ┆           ┆           ┆           ┆   ┆ f64       ┆ f64       ┆ ---       ┆ str      │\n",
       "│           ┆           ┆           ┆           ┆   ┆           ┆           ┆ f64       ┆          │\n",
       "╞═══════════╪═══════════╪═══════════╪═══════════╪═══╪═══════════╪═══════════╪═══════════╪══════════╡\n",
       "│ 2000-01-0 ┆ 0.784238  ┆ 0.835733  ┆ 0.778569  ┆ … ┆ 0.295623  ┆ 0.091599  ┆ 21.971445 ┆ low      │\n",
       "│ 5         ┆           ┆           ┆           ┆   ┆           ┆           ┆           ┆          │\n",
       "│ 2000-01-0 ┆ 0.802191  ┆ 0.808805  ┆ 0.718098  ┆ … ┆ 0.295623  ┆ 0.091599  ┆ 26.168462 ┆ mid      │\n",
       "│ 6         ┆           ┆           ┆           ┆   ┆           ┆           ┆           ┆          │\n",
       "│ 2000-01-0 ┆ 0.729436  ┆ 0.763452  ┆ 0.721878  ┆ … ┆ 0.295623  ┆ 0.091599  ┆ 28.475358 ┆ mid      │\n",
       "│ 7         ┆           ┆           ┆           ┆   ┆           ┆           ┆           ┆          │\n",
       "│ 2000-01-1 ┆ 0.77101   ┆ 0.7729    ┆ 0.716208  ┆ … ┆ 0.295623  ┆ 0.091599  ┆ 32.249623 ┆ mid      │\n",
       "│ 0         ┆           ┆           ┆           ┆   ┆           ┆           ┆           ┆          │\n",
       "│ 2000-01-1 ┆ 0.725184  ┆ 0.751168  ┆ 0.684083  ┆ … ┆ 0.295623  ┆ 0.091599  ┆ 37.15822  ┆ mid      │\n",
       "│ 1         ┆           ┆           ┆           ┆   ┆           ┆           ┆           ┆          │\n",
       "│ …         ┆ …         ┆ …         ┆ …         ┆ … ┆ …         ┆ …         ┆ …         ┆ …        │\n",
       "│ 2023-12-2 ┆ 194.93126 ┆ 195.16097 ┆ 192.72408 ┆ … ┆ 0.038529  ┆ 0.011751  ┆ 15.926591 ┆ low      │\n",
       "│ 2         ┆           ┆ 8         ┆ 5         ┆   ┆           ┆           ┆           ┆          │\n",
       "│ 2023-12-2 ┆ 193.36327 ┆ 193.64291 ┆ 192.58426 ┆ … ┆ 0.038529  ┆ 0.011751  ┆ 15.769927 ┆ low      │\n",
       "│ 6         ┆           ┆ 1         ┆ 5         ┆   ┆           ┆           ┆           ┆          │\n",
       "│ 2023-12-2 ┆ 192.24469 ┆ 193.25339 ┆ 190.84646 ┆ … ┆ 0.038529  ┆ 0.011751  ┆ 15.419317 ┆ low      │\n",
       "│ 7         ┆ 2         ┆ 9         ┆ 7         ┆   ┆           ┆           ┆           ┆          │\n",
       "│ 2023-12-2 ┆ 193.89258 ┆ 194.41192 ┆ 192.92381 ┆ … ┆ 0.038529  ┆ 0.011751  ┆ 15.414401 ┆ low      │\n",
       "│ 8         ┆ 2         ┆ 3         ┆ 7         ┆   ┆           ┆           ┆           ┆          │\n",
       "│ 2023-12-2 ┆ 193.65288 ┆ 194.15224 ┆ 191.48565 ┆ … ┆ 0.038529  ┆ 0.011751  ┆ 14.72245  ┆ low      │\n",
       "│ 9         ┆ 7         ┆ 9         ┆ 4         ┆   ┆           ┆           ┆           ┆          │\n",
       "└───────────┴───────────┴───────────┴───────────┴───┴───────────┴───────────┴───────────┴──────────┘"
      ]
     },
     "execution_count": 3,
     "metadata": {},
     "output_type": "execute_result"
    }
   ],
   "source": [
    "pl.read_parquet(\"../tests/test_data/test_data.parquet\").filter(\n",
    "        pl.col(\"symbol\") == \"AAPL\"\n",
    "    )"
   ]
  },
  {
   "cell_type": "code",
   "execution_count": null,
   "metadata": {},
   "outputs": [],
   "source": []
  }
 ],
 "metadata": {
  "kernelspec": {
   "display_name": "Python 3",
   "language": "python",
   "name": "python3"
  },
  "language_info": {
   "codemirror_mode": {
    "name": "ipython",
    "version": 3
   },
   "file_extension": ".py",
   "mimetype": "text/x-python",
   "name": "python",
   "nbconvert_exporter": "python",
   "pygments_lexer": "ipython3",
   "version": "3.11.9"
  }
 },
 "nbformat": 4,
 "nbformat_minor": 2
}
