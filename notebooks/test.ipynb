{
 "cells": [
  {
   "cell_type": "code",
   "execution_count": null,
   "metadata": {},
   "outputs": [],
   "source": [
    "%load_ext autoreload\n",
    "%autoreload 2\n",
    "\n",
    "from humbldata.core.utils.openbb_helpers import obb_login\n",
    "from openbb import obb\n",
    "from humbldata.core.utils.env import Env\n",
    "import polars as pl\n",
    "\n",
    "# obb_login()\n",
    "obb.account.login(pat=Env().OBB_PAT, remember_me=True)"
   ]
  },
  {
   "cell_type": "code",
   "execution_count": null,
   "metadata": {},
   "outputs": [],
   "source": [
    "\n",
    "from humbldata.toolbox.technical.mandelbrot_channel.model import (\n",
    "    calc_mandelbrot_channel,\n",
    "    calc_mandelbrot_channel_historical,\n",
    ")\n",
    "\n",
    "\n",
    "data = (\n",
    "    obb.equity.price.historical(\n",
    "        [\"AAPL\"],\n",
    "        provider=\"yfinance\",\n",
    "        start_date=\"2020-01-01\",\n",
    "        end_date=\"2024-01-01\",\n",
    "        adjustment=\"splits_and_dividends\",\n",
    "    ).to_polars()\n",
    ").drop([\"dividends\", \"stock_splits\"]).with_columns(pl.lit(\"AAPL\").alias(\"symbol\"))\n",
    "\n",
    "mandelbrot = calc_mandelbrot_channel_historical(  # noqa: ERA001\n",
    "        data,\n",
    "        window=\"1m\",\n",
    "        rv_adjustment=True,\n",
    "        rv_method=\"std\",\n",
    "        rv_grouped_mean=False,\n",
    "        rs_method=\"RS\",\n",
    "        live_price=False,\n",
    "    ).collect()\n",
    "mandelbrot"
   ]
  },
  {
   "cell_type": "markdown",
   "metadata": {},
   "source": [
    "# Setting up UserTable"
   ]
  },
  {
   "cell_type": "code",
   "execution_count": null,
   "metadata": {},
   "outputs": [],
   "source": [
    "%load_ext autoreload\n",
    "%autoreload 2\n",
    "\n",
    "from humbldata.core.standard_models.portfolio.analytics.user_table import UserTableQueryParams\n",
    "from humbldata.core.utils.openbb_helpers import get_latest_price\n",
    "\n",
    "\n",
    "symbols = UserTableQueryParams(symbol=\"AAPL, MSFT, NVDA\").symbol\n",
    "symbols\n",
    "\n",
    "\n",
    "\n",
    "get_latest_price(symbols)"
   ]
  },
  {
   "cell_type": "markdown",
   "metadata": {},
   "source": [
    "# Tesing Async\n"
   ]
  },
  {
   "cell_type": "markdown",
   "metadata": {},
   "source": [
    "## Get Latest Price Async"
   ]
  },
  {
   "cell_type": "code",
   "execution_count": null,
   "metadata": {},
   "outputs": [],
   "source": [
    "import asyncio\n",
    "import logging\n",
    "from typing import List\n",
    "\n",
    "import polars as pl\n",
    "from openbb import obb\n",
    "\n",
    "from humbldata.core.utils.constants import OBB_EQUITY_PRICE_QUOTE_PROVIDERS\n",
    "\n",
    "async def get_latest_price_async(\n",
    "    symbol: str | List[str] | pl.Series,\n",
    "    provider: OBB_EQUITY_PRICE_QUOTE_PROVIDERS | None = \"yfinance\",\n",
    ") -> pl.LazyFrame:\n",
    "    \"\"\"\n",
    "    Asynchronous version of get_latest_price.\n",
    "\n",
    "    Context: Core || Category: Utils || Subcategory: OpenBB Helpers || **Command: get_latest_price_async**.\n",
    "\n",
    "    Queries the latest stock price data for the given symbol(s) using the\n",
    "    specified provider asynchronously. Defaults to YahooFinance (`yfinance`) if no provider is\n",
    "    specified. Returns a LazyFrame with the stock symbols and their latest prices.\n",
    "\n",
    "    Parameters\n",
    "    ----------\n",
    "    symbol : str | List[str] | pl.Series\n",
    "        The stock symbol(s) to query for the latest price. Accepts a single\n",
    "        symbol, a list of symbols, or a Polars Series of symbols.\n",
    "    provider : OBB_EQUITY_PRICE_QUOTE_PROVIDERS, optional\n",
    "        The data provider for fetching stock prices. Default is `yfinance`.\n",
    "\n",
    "    Returns\n",
    "    -------\n",
    "    pl.LazyFrame\n",
    "        A Polars LazyFrame with columns for the stock symbols ('symbol') and\n",
    "        their latest prices ('recent_price').\n",
    "    \"\"\"\n",
    "    logging.getLogger(\"openbb_terminal.stocks.stocks_model\").setLevel(\n",
    "        logging.CRITICAL\n",
    "    )\n",
    "\n",
    "    loop = asyncio.get_event_loop()\n",
    "    result = await loop.run_in_executor(\n",
    "        None, lambda: obb.equity.price.quote(symbol, provider=provider)\n",
    "    )\n",
    "\n",
    "    return (\n",
    "        result.to_polars()\n",
    "        .lazy()\n",
    "        .select([\"symbol\", \"last_price\"])\n",
    "        .rename({\"last_price\": \"recent_price\"})\n",
    "    )"
   ]
  },
  {
   "cell_type": "code",
   "execution_count": null,
   "metadata": {},
   "outputs": [],
   "source": [
    "import asyncio\n",
    "import time\n",
    "from pathlib import Path\n",
    "\n",
    "import polars as pl\n",
    "from humbldata.core.utils.openbb_helpers import get_latest_price\n",
    "import nest_asyncio\n",
    "nest_asyncio.apply()\n",
    "\n",
    "async def run_async_version(symbols):\n",
    "    return await get_latest_price_async(symbols)\n",
    "\n",
    "def run_sync_version(symbols):\n",
    "    return get_latest_price(symbols)\n",
    "\n",
    "async def main():\n",
    "    symbols = [\"AAPL\", \"GOOGL\", \"MSFT\", \"AMZN\", \"FB\"]\n",
    "\n",
    "    # Test synchronous version\n",
    "    start_time = time.time()\n",
    "    sync_result = run_sync_version(symbols)\n",
    "    sync_time = time.time() - start_time\n",
    "    print(f\"Synchronous execution time: {sync_time:.4f} seconds\")\n",
    "    print(\"Synchronous result:\")\n",
    "    print(sync_result.collect())\n",
    "\n",
    "    print(\"\\n\" + \"=\"*50 + \"\\n\")\n",
    "\n",
    "    # Test asynchronous version\n",
    "    start_time = time.time()\n",
    "    async_result = await run_async_version(symbols)\n",
    "    async_time = time.time() - start_time\n",
    "    print(f\"Asynchronous execution time: {async_time:.4f} seconds\")\n",
    "    print(\"Asynchronous result:\")\n",
    "    print(async_result.collect())\n",
    "\n",
    "    print(\"\\n\" + \"=\"*50 + \"\\n\")\n",
    "    print(f\"Time difference: {sync_time - async_time:.4f} seconds\")\n",
    "    print(f\"Speedup factor: {sync_time / async_time:.2f}x\")\n",
    "\n",
    "# Modified execution part\n",
    "loop = asyncio.get_event_loop()\n",
    "loop.run_until_complete(main())"
   ]
  },
  {
   "cell_type": "markdown",
   "metadata": {},
   "source": [
    "## Get Sector Async"
   ]
  },
  {
   "cell_type": "code",
   "execution_count": null,
   "metadata": {},
   "outputs": [],
   "source": [
    "import asyncio\n",
    "from typing import List\n",
    "\n",
    "import polars as pl\n",
    "from openbb import obb\n",
    "\n",
    "from humbldata.core.utils.constants import OBB_EQUITY_PROFILE_PROVIDERS\n",
    "\n",
    "async def get_sector_async(\n",
    "    symbols: str | List[str] | pl.Series,\n",
    "    provider: OBB_EQUITY_PROFILE_PROVIDERS | None = \"yfinance\",\n",
    ") -> pl.LazyFrame:\n",
    "    \"\"\"\n",
    "    Asynchronous version of get_sector.\n",
    "\n",
    "    Context: Core || Category: Utils || Subcategory: OpenBB Helpers || **Command: get_sector_async**.\n",
    "\n",
    "    Retrieves the sector information for the given stock symbol(s) using OpenBB's equity profile data asynchronously.\n",
    "\n",
    "    Parameters\n",
    "    ----------\n",
    "    symbols : str | List[str] | pl.Series\n",
    "        The stock symbol(s) to query for sector information. Accepts a single\n",
    "        symbol, a list of symbols, or a Polars Series of symbols.\n",
    "    provider : str | None, optional\n",
    "        The data provider to use for fetching sector information. If None, the default\n",
    "        provider will be used.\n",
    "\n",
    "    Returns\n",
    "    -------\n",
    "    pl.LazyFrame\n",
    "        A Polars LazyFrame with columns for the stock symbols ('symbol') and\n",
    "        their corresponding sectors ('sector').\n",
    "\n",
    "    Notes\n",
    "    -----\n",
    "    This function uses OpenBB's equity profile data to fetch sector information.\n",
    "    It returns a lazy frame for efficient processing, especially with large datasets.\n",
    "    \"\"\"\n",
    "    loop = asyncio.get_event_loop()\n",
    "    result = await loop.run_in_executor(\n",
    "        None, lambda: obb.equity.profile(symbols, provider=provider)\n",
    "    )\n",
    "\n",
    "    return result.to_polars().lazy().select([\"symbol\", \"sector\"])"
   ]
  },
  {
   "cell_type": "code",
   "execution_count": null,
   "metadata": {},
   "outputs": [],
   "source": [
    "import asyncio\n",
    "import time\n",
    "from pathlib import Path\n",
    "\n",
    "import polars as pl\n",
    "from humbldata.core.utils.openbb_helpers import get_equity_sector\n",
    "\n",
    "async def run_async_version(symbols):\n",
    "    return await get_sector_async(symbols)\n",
    "\n",
    "def run_sync_version(symbols):\n",
    "    return get_equity_sector(symbols)\n",
    "\n",
    "async def main():\n",
    "    symbols = [\"XLK\", \"FXE\", \"FXF\", \"AMZN\", \"FB\"]\n",
    "\n",
    "    # Test synchronous version\n",
    "    start_time = time.time()\n",
    "    sync_result = run_sync_version(symbols)\n",
    "    sync_time = time.time() - start_time\n",
    "    print(f\"Synchronous execution time: {sync_time:.4f} seconds\")\n",
    "    print(\"Synchronous result:\")\n",
    "    print(sync_result.collect())\n",
    "\n",
    "    print(\"\\n\" + \"=\"*50 + \"\\n\")\n",
    "\n",
    "    # Test asynchronous version\n",
    "    start_time = time.time()\n",
    "    async_result = await run_async_version(symbols)\n",
    "    async_time = time.time() - start_time\n",
    "    print(f\"Asynchronous execution time: {async_time:.4f} seconds\")\n",
    "    print(\"Asynchronous result:\")\n",
    "    print(async_result.collect())\n",
    "\n",
    "    print(\"\\n\" + \"=\"*50 + \"\\n\")\n",
    "    print(f\"Time difference: {sync_time - async_time:.4f} seconds\")\n",
    "    print(f\"Speedup factor: {sync_time / async_time:.2f}x\")\n",
    "\n",
    "# Use this for regular Python scripts\n",
    "# if __name__ == \"__main__\":\n",
    "#     loop = asyncio.get_event_loop()\n",
    "#     loop.run_until_complete(main())\n",
    "\n",
    "# Use this for Jupyter Notebooks\n",
    "import nest_asyncio\n",
    "nest_asyncio.apply()\n",
    "await main()"
   ]
  },
  {
   "cell_type": "markdown",
   "metadata": {},
   "source": [
    "## Get ETF Category Async"
   ]
  },
  {
   "cell_type": "code",
   "execution_count": null,
   "metadata": {},
   "outputs": [],
   "source": [
    "%load_ext autoreload\n",
    "%autoreload 2\n",
    "\n",
    "from humbldata.core.utils.openbb_helpers import aget_etf_sector\n",
    "import asyncio\n",
    "\n",
    "stocks = pl.Series([\n",
    "    \"GOOGL\",  # Communication Services\n",
    "    \"AMZN\",   # Consumer Discretionary\n",
    "    \"KO\",     # Consumer Staples\n",
    "    \"XOM\",    # Energy\n",
    "    \"JPM\",    # Financials\n",
    "    \"JNJ\",    # Health Care\n",
    "    \"HON\",    # Industrials\n",
    "    \"AAPL\",   # Information Technology\n",
    "    \"LIN\",    # Materials\n",
    "    \"PLD\",    # Real Estate\n",
    "    \"NEE\"     # Utilities\n",
    "])\n",
    "test = (await aget_etf_sector(symbols=stocks, provider=\"yfinance\")).collect()"
   ]
  },
  {
   "cell_type": "code",
   "execution_count": null,
   "metadata": {},
   "outputs": [],
   "source": [
    "test"
   ]
  },
  {
   "cell_type": "code",
   "execution_count": null,
   "metadata": {},
   "outputs": [],
   "source": [
    "%load_ext autoreload\n",
    "%autoreload 2\n",
    "\n",
    "from humbldata.core.utils.openbb_helpers import aget_equity_sector\n",
    "import polars as pl\n",
    "\n",
    "stocks = pl.Series([\n",
    "    \"GOOGL\",  # Communication Services\n",
    "    \"AMZN\",   # Consumer Discretionary\n",
    "    \"KO\",     # Consumer Staples\n",
    "    \"XOM\",    # Energy\n",
    "    \"JPM\",    # Financials\n",
    "    \"JNJ\",    # Health Care\n",
    "    \"HON\",    # Industrials\n",
    "    \"AAPL\",   # Information Technology\n",
    "    \"LIN\",    # Materials\n",
    "    \"PLD\",    # Real Estate\n",
    "    \"NEE\"     # Utilities\n",
    "])\n",
    "\n",
    "\n",
    "test2 = await aget_equity_sector(symbols=stocks, provider=\"yfinance\")\n",
    "test2.collect()"
   ]
  },
  {
   "cell_type": "code",
   "execution_count": null,
   "metadata": {},
   "outputs": [],
   "source": [
    "obb.etf.info(symbol='XLK', provider='yfinance').to_polars()"
   ]
  },
  {
   "cell_type": "code",
   "execution_count": null,
   "metadata": {},
   "outputs": [],
   "source": [
    "obb.equity.profile([\"XLK\", \"XLE\"], provider='yfinance').to_polars()"
   ]
  },
  {
   "cell_type": "code",
   "execution_count": null,
   "metadata": {},
   "outputs": [],
   "source": [
    "df = pl.DataFrame({\"symbol\": [\"XLK\", \"XLE\"], \"sector\": [\"Tech\", \"Equity Energy\"]})\n",
    "\n",
    "\n",
    "df.with_columns(pl.col(\"sector\").str.replace_all(\"Equity Energy\", \"Energy\"))"
   ]
  },
  {
   "cell_type": "code",
   "execution_count": null,
   "metadata": {},
   "outputs": [],
   "source": [
    "%load_ext autoreload\n",
    "%autoreload 2\n",
    "\n",
    "from humbldata.core.utils.constants import EQUITY_SECTOR_MAPPING\n",
    "from humbldata.portfolio.analytics.user_table.helpers import normalize_sector\n",
    "\n",
    "\n",
    "df.with_columns(pl.col(\"sector\").replace(EQUITY_SECTOR_MAPPING))"
   ]
  },
  {
   "cell_type": "markdown",
   "metadata": {},
   "source": [
    "## Test aget_sector_filter"
   ]
  },
  {
   "cell_type": "code",
   "execution_count": 79,
   "metadata": {},
   "outputs": [
    {
     "name": "stdout",
     "output_type": "stream",
     "text": [
      "The autoreload extension is already loaded. To reload it, use:\n",
      "  %reload_ext autoreload\n"
     ]
    },
    {
     "data": {
      "text/html": [
       "<div><style>\n",
       ".dataframe > thead > tr,\n",
       ".dataframe > tbody > tr {\n",
       "  text-align: right;\n",
       "  white-space: pre-wrap;\n",
       "}\n",
       "</style>\n",
       "<small>shape: (5, 2)</small><table border=\"1\" class=\"dataframe\"><thead><tr><th>symbol</th><th>sector</th></tr><tr><td>str</td><td>str</td></tr></thead><tbody><tr><td>&quot;KO&quot;</td><td>&quot;Consumer Defensive&quot;</td></tr><tr><td>&quot;XLU&quot;</td><td>&quot;Utilities&quot;</td></tr><tr><td>&quot;XLE&quot;</td><td>&quot;Energy&quot;</td></tr><tr><td>&quot;XLF&quot;</td><td>&quot;Financials&quot;</td></tr><tr><td>&quot;XLC&quot;</td><td>&quot;Communication Services&quot;</td></tr></tbody></table></div>"
      ],
      "text/plain": [
       "shape: (5, 2)\n",
       "┌────────┬────────────────────────┐\n",
       "│ symbol ┆ sector                 │\n",
       "│ ---    ┆ ---                    │\n",
       "│ str    ┆ str                    │\n",
       "╞════════╪════════════════════════╡\n",
       "│ KO     ┆ Consumer Defensive     │\n",
       "│ XLU    ┆ Utilities              │\n",
       "│ XLE    ┆ Energy                 │\n",
       "│ XLF    ┆ Financials             │\n",
       "│ XLC    ┆ Communication Services │\n",
       "└────────┴────────────────────────┘"
      ]
     },
     "execution_count": 79,
     "metadata": {},
     "output_type": "execute_result"
    }
   ],
   "source": [
    "%load_ext autoreload\n",
    "%autoreload 2\n",
    "\n",
    "from humbldata.portfolio.analytics.user_table.helpers import aget_sector_filter\n",
    "\n",
    "\n",
    "(await aget_sector_filter(symbols=[\"XLU\", \"XLE\", \"XLF\", \"XLC\", \"KO\"])).collect()"
   ]
  },
  {
   "cell_type": "markdown",
   "metadata": {},
   "source": [
    "# Test aggregate_user_table_data"
   ]
  },
  {
   "cell_type": "code",
   "execution_count": 83,
   "metadata": {},
   "outputs": [
    {
     "data": {
      "text/html": [
       "<div><style>\n",
       ".dataframe > thead > tr,\n",
       ".dataframe > tbody > tr {\n",
       "  text-align: right;\n",
       "  white-space: pre-wrap;\n",
       "}\n",
       "</style>\n",
       "<small>shape: (2, 3)</small><table border=\"1\" class=\"dataframe\"><thead><tr><th>symbol</th><th>recent_price</th><th>sector</th></tr><tr><td>str</td><td>f64</td><td>str</td></tr></thead><tbody><tr><td>&quot;AAPL&quot;</td><td>209.07</td><td>&quot;Technology&quot;</td></tr><tr><td>&quot;XLE&quot;</td><td>null</td><td>&quot;Energy&quot;</td></tr></tbody></table></div>"
      ],
      "text/plain": [
       "shape: (2, 3)\n",
       "┌────────┬──────────────┬────────────┐\n",
       "│ symbol ┆ recent_price ┆ sector     │\n",
       "│ ---    ┆ ---          ┆ ---        │\n",
       "│ str    ┆ f64          ┆ str        │\n",
       "╞════════╪══════════════╪════════════╡\n",
       "│ AAPL   ┆ 209.07       ┆ Technology │\n",
       "│ XLE    ┆ null         ┆ Energy     │\n",
       "└────────┴──────────────┴────────────┘"
      ]
     },
     "execution_count": 83,
     "metadata": {},
     "output_type": "execute_result"
    }
   ],
   "source": [
    "from humbldata.portfolio.analytics.user_table.helpers import aggregate_user_table_data\n",
    "\n",
    "\n",
    "(await aggregate_user_table_data(symbols=[\"AAPL\", \"XLE\"])).collect()"
   ]
  },
  {
   "cell_type": "code",
   "execution_count": null,
   "metadata": {},
   "outputs": [],
   "source": []
  }
 ],
 "metadata": {
  "kernelspec": {
   "display_name": "Python 3",
   "language": "python",
   "name": "python3"
  },
  "language_info": {
   "codemirror_mode": {
    "name": "ipython",
    "version": 3
   },
   "file_extension": ".py",
   "mimetype": "text/x-python",
   "name": "python",
   "nbconvert_exporter": "python",
   "pygments_lexer": "ipython3",
   "version": "3.11.9"
  }
 },
 "nbformat": 4,
 "nbformat_minor": 2
}
