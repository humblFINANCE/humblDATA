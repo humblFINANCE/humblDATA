{
 "cells": [
  {
   "cell_type": "code",
   "execution_count": 1,
   "metadata": {},
   "outputs": [],
   "source": [
    "%load_ext autoreload\n",
    "%autoreload 2\n",
    "\n",
    "from humbldata.core.utils.openbb_helpers import obb_login\n",
    "from openbb import obb\n",
    "from humbldata.core.utils.env import Env\n",
    "import polars as pl\n",
    "\n",
    "# obb_login()\n",
    "obb.account.login(pat=Env().OBB_PAT, remember_me=True)"
   ]
  },
  {
   "cell_type": "code",
   "execution_count": null,
   "metadata": {},
   "outputs": [],
   "source": [
    "\n",
    "from humbldata.toolbox.technical.mandelbrot_channel.model import (\n",
    "    calc_mandelbrot_channel,\n",
    "    calc_mandelbrot_channel_historical,\n",
    ")\n",
    "\n",
    "\n",
    "data = (\n",
    "    obb.equity.price.historical(\n",
    "        [\"AAPL\"],\n",
    "        provider=\"yfinance\",\n",
    "        start_date=\"2020-01-01\",\n",
    "        end_date=\"2024-01-01\",\n",
    "        adjustment=\"splits_and_dividends\",\n",
    "    ).to_polars()\n",
    ").drop([\"dividends\", \"stock_splits\"]).with_columns(pl.lit(\"AAPL\").alias(\"symbol\"))\n",
    "\n",
    "mandelbrot = calc_mandelbrot_channel_historical(  # noqa: ERA001\n",
    "        data,\n",
    "        window=\"1m\",\n",
    "        rv_adjustment=True,\n",
    "        rv_method=\"std\",\n",
    "        rv_grouped_mean=False,\n",
    "        rs_method=\"RS\",\n",
    "        live_price=False,\n",
    "    ).collect()\n",
    "mandelbrot"
   ]
  },
  {
   "cell_type": "markdown",
   "metadata": {},
   "source": [
    "# Setting up UserTable"
   ]
  },
  {
   "cell_type": "code",
   "execution_count": null,
   "metadata": {},
   "outputs": [],
   "source": [
    "%load_ext autoreload\n",
    "%autoreload 2\n",
    "\n",
    "from humbldata.core.standard_models.portfolio.analytics.user_table import UserTableQueryParams\n",
    "from humbldata.core.utils.openbb_helpers import get_latest_price\n",
    "\n",
    "\n",
    "symbols = UserTableQueryParams(symbol=\"AAPL, MSFT, NVDA\").symbol\n",
    "symbols\n",
    "\n",
    "\n",
    "\n",
    "get_latest_price(symbols)"
   ]
  },
  {
   "cell_type": "markdown",
   "metadata": {},
   "source": [
    "# Tesing Async\n"
   ]
  },
  {
   "cell_type": "markdown",
   "metadata": {},
   "source": [
    "## Get Sector Async"
   ]
  },
  {
   "cell_type": "code",
   "execution_count": 6,
   "metadata": {},
   "outputs": [
    {
     "name": "stdout",
     "output_type": "stream",
     "text": [
      "The autoreload extension is already loaded. To reload it, use:\n",
      "  %reload_ext autoreload\n"
     ]
    },
    {
     "data": {
      "text/html": [
       "<div><style>\n",
       ".dataframe > thead > tr,\n",
       ".dataframe > tbody > tr {\n",
       "  text-align: right;\n",
       "  white-space: pre-wrap;\n",
       "}\n",
       "</style>\n",
       "<small>shape: (3, 2)</small><table border=\"1\" class=\"dataframe\"><thead><tr><th>symbol</th><th>category</th></tr><tr><td>str</td><td>str</td></tr></thead><tbody><tr><td>&quot;AAPL&quot;</td><td>null</td></tr><tr><td>&quot;XLE&quot;</td><td>&quot;Equity Energy&quot;</td></tr><tr><td>&quot;DBA&quot;</td><td>&quot;Commodities Focused&quot;</td></tr></tbody></table></div>"
      ],
      "text/plain": [
       "shape: (3, 2)\n",
       "┌────────┬─────────────────────┐\n",
       "│ symbol ┆ category            │\n",
       "│ ---    ┆ ---                 │\n",
       "│ str    ┆ str                 │\n",
       "╞════════╪═════════════════════╡\n",
       "│ AAPL   ┆ null                │\n",
       "│ XLE    ┆ Equity Energy       │\n",
       "│ DBA    ┆ Commodities Focused │\n",
       "└────────┴─────────────────────┘"
      ]
     },
     "execution_count": 6,
     "metadata": {},
     "output_type": "execute_result"
    }
   ],
   "source": [
    "%load_ext autoreload\n",
    "%autoreload 2\n",
    "\n",
    "from humbldata.core.utils.openbb_helpers import aget_etf_category\n",
    "import polars as pl\n",
    "\n",
    "stocks = pl.Series([\n",
    "    \"GOOGL\",  # Communication Services\n",
    "    \"AMZN\",   # Consumer Discretionary\n",
    "    \"KO\",     # Consumer Staples\n",
    "    \"XOM\",    # Energy\n",
    "    \"JPM\",    # Financials\n",
    "    \"JNJ\",    # Health Care\n",
    "    \"HON\",    # Industrials\n",
    "    \"AAPL\",   # Information Technology\n",
    "    \"LIN\",    # Materials\n",
    "    \"PLD\",    # Real Estate\n",
    "    \"NEE\"     # Utilities\n",
    "])\n",
    "test = (await aget_etf_category(symbols=[\"AAPL\", \"XLE\", \"DBA\"], provider=\"yfinance\")).collect()\n",
    "# test2 = (await aget_equity_sector(symbols=stocks, provider=\"yfinance\")).collect()\n",
    "# test2 = (await aget_equity_sector(symbols=[\"XLE\", \"AAPL\"], provider=\"yfinance\")).collect()\n",
    "test"
   ]
  },
  {
   "cell_type": "code",
   "execution_count": 13,
   "metadata": {},
   "outputs": [],
   "source": [
    "symbols = [\"CORN\", 'SLV', 'DBA', \"XLE\", \"AAPL\", \"FXE\", \"SPY\", \"QQQ\", \"BITO\", \"MAXI\", \"SATO\", \"BIL\", \"LQD\", \"QAI\", \"MNA\", \"CLSE\"]\n",
    "symbols2 = [\"AAPL\", \"FXE\", \"SPY\", \"MAXI\", \"GLD\"]\n",
    "symbols3 = commodity_etf_symbols = [\"GLD\", \"IAU\", \"SLV\", \"GLDM\", \"PDBC\", \"SGOL\", \"FTGC\", \"DBC\", \"SIVR\", \"USO\", \"IAUM\", \"GSG\", \"BCI\", \"PPLT\", \"COMT\", \"GLTR\", \"OUNZ\", \"BAR\", \"UNG\", \"DBA\", \"AAAU\", \"DJP\", \"CMDT\", \"KRBN\", \"PALL\", \"COM\", \"NBCM\", \"CMDY\", \"DBO\", \"BCD\", \"KCCA\", \"CPER\", \"HGER\", \"USCI\", \"DBB\", \"DBP\", \"GCC\", \"WEAT\", \"BNO\", \"UGA\", \"DGP\", \"IGLD\", \"COMB\", \"DBE\", \"FGDL\", \"CORN\", \"USL\", \"CCRV\", \"DJCB\", \"IAUF\", \"PLTM\", \"BDRY\", \"PDBA\", \"BGLD\", \"UCIB\", \"SOYB\", \"GRN\", \"PIT\", \"BCIM\", \"RENW\", \"SDCI\", \"UNL\", \"SHNY\", \"DCMT\", \"TAGS\", \"CANE\", \"TMET\", \"KEUA\", \"HCOM\", \"HARD\", \"EVMT\", \"USG\", \"AMPD\", \"DZZ\", \"DGZ\", \"KMET\", \"CMCI\", \"USOY\", \"ZSC\", \"TILL\", \"BWET\", \"DULL\", \"ZSB\", \"LNGG\", \"USOI\", \"OILK\", \"SLVO\", \"GLDI\", \"BOIL\", \"KOLD\", \"AGQ\", \"GLL\", \"UGL\", \"ZSL\", \"UCO\", \"SCO\"]\n",
    "\n",
    "\n",
    "\n",
    "df = (await aget_etf_category(symbols=[\"AAPL\", \"XLE\", \"DBA\"])).collect()\n"
   ]
  },
  {
   "cell_type": "code",
   "execution_count": 15,
   "metadata": {},
   "outputs": [
    {
     "data": {
      "text/html": [
       "<div><style>\n",
       ".dataframe > thead > tr,\n",
       ".dataframe > tbody > tr {\n",
       "  text-align: right;\n",
       "  white-space: pre-wrap;\n",
       "}\n",
       "</style>\n",
       "<small>shape: (3, 2)</small><table border=\"1\" class=\"dataframe\"><thead><tr><th>symbol</th><th>category</th></tr><tr><td>str</td><td>str</td></tr></thead><tbody><tr><td>&quot;AAPL&quot;</td><td>null</td></tr><tr><td>&quot;XLE&quot;</td><td>&quot;Equity&quot;</td></tr><tr><td>&quot;DBA&quot;</td><td>&quot;Commodity&quot;</td></tr></tbody></table></div>"
      ],
      "text/plain": [
       "shape: (3, 2)\n",
       "┌────────┬───────────┐\n",
       "│ symbol ┆ category  │\n",
       "│ ---    ┆ ---       │\n",
       "│ str    ┆ str       │\n",
       "╞════════╪═══════════╡\n",
       "│ AAPL   ┆ null      │\n",
       "│ XLE    ┆ Equity    │\n",
       "│ DBA    ┆ Commodity │\n",
       "└────────┴───────────┘"
      ]
     },
     "execution_count": 15,
     "metadata": {},
     "output_type": "execute_result"
    }
   ],
   "source": [
    "from humbldata.portfolio.analytics.user_table.helpers import normalize_asset_class\n",
    "\n",
    "\n",
    "normalized_df = normalize_asset_class(df).select([\"symbol\", \"category\"])\n",
    "normalized_df"
   ]
  },
  {
   "cell_type": "code",
   "execution_count": 33,
   "metadata": {},
   "outputs": [
    {
     "name": "stdout",
     "output_type": "stream",
     "text": [
      "The autoreload extension is already loaded. To reload it, use:\n",
      "  %reload_ext autoreload\n"
     ]
    },
    {
     "data": {
      "text/html": [
       "<div><style>\n",
       ".dataframe > thead > tr,\n",
       ".dataframe > tbody > tr {\n",
       "  text-align: right;\n",
       "  white-space: pre-wrap;\n",
       "}\n",
       "</style>\n",
       "<small>shape: (3, 2)</small><table border=\"1\" class=\"dataframe\"><thead><tr><th>symbol</th><th>category</th></tr><tr><td>str</td><td>str</td></tr></thead><tbody><tr><td>&quot;AAPL&quot;</td><td>null</td></tr><tr><td>&quot;XLE&quot;</td><td>&quot;Equity Energy&quot;</td></tr><tr><td>&quot;DBA&quot;</td><td>&quot;Commodities Focused&quot;</td></tr></tbody></table></div>"
      ],
      "text/plain": [
       "shape: (3, 2)\n",
       "┌────────┬─────────────────────┐\n",
       "│ symbol ┆ category            │\n",
       "│ ---    ┆ ---                 │\n",
       "│ str    ┆ str                 │\n",
       "╞════════╪═════════════════════╡\n",
       "│ AAPL   ┆ null                │\n",
       "│ XLE    ┆ Equity Energy       │\n",
       "│ DBA    ┆ Commodities Focused │\n",
       "└────────┴─────────────────────┘"
      ]
     },
     "execution_count": 33,
     "metadata": {},
     "output_type": "execute_result"
    }
   ],
   "source": [
    "%load_ext autoreload\n",
    "%autoreload 2\n",
    "\n",
    "from humbldata.core.utils.openbb_helpers import aget_etf_category\n",
    "\n",
    "\n",
    "df2 = (await aget_etf_category(symbols=[\"AAPL\", \"XLE\", \"DBA\"])).collect()\n",
    "df2"
   ]
  },
  {
   "cell_type": "code",
   "execution_count": 41,
   "metadata": {},
   "outputs": [
    {
     "name": "stdout",
     "output_type": "stream",
     "text": [
      "The autoreload extension is already loaded. To reload it, use:\n",
      "  %reload_ext autoreload\n"
     ]
    },
    {
     "data": {
      "text/html": [
       "<div><style>\n",
       ".dataframe > thead > tr,\n",
       ".dataframe > tbody > tr {\n",
       "  text-align: right;\n",
       "  white-space: pre-wrap;\n",
       "}\n",
       "</style>\n",
       "<small>shape: (3, 2)</small><table border=\"1\" class=\"dataframe\"><thead><tr><th>symbol</th><th>category</th></tr><tr><td>str</td><td>str</td></tr></thead><tbody><tr><td>&quot;AAPL&quot;</td><td>null</td></tr><tr><td>&quot;XLE&quot;</td><td>&quot;Equity Energy&quot;</td></tr><tr><td>&quot;DBA&quot;</td><td>&quot;Commodities Focused&quot;</td></tr></tbody></table></div>"
      ],
      "text/plain": [
       "shape: (3, 2)\n",
       "┌────────┬─────────────────────┐\n",
       "│ symbol ┆ category            │\n",
       "│ ---    ┆ ---                 │\n",
       "│ str    ┆ str                 │\n",
       "╞════════╪═════════════════════╡\n",
       "│ AAPL   ┆ null                │\n",
       "│ XLE    ┆ Equity Energy       │\n",
       "│ DBA    ┆ Commodities Focused │\n",
       "└────────┴─────────────────────┘"
      ]
     },
     "execution_count": 41,
     "metadata": {},
     "output_type": "execute_result"
    }
   ],
   "source": [
    "%load_ext autoreload\n",
    "%autoreload 2\n",
    "\n",
    "from humbldata.core.standard_models.portfolio.analytics.etf_category import ETFCategoryData\n",
    "\n",
    "\n",
    "ETFCategoryData(df2)"
   ]
  },
  {
   "cell_type": "code",
   "execution_count": 25,
   "metadata": {},
   "outputs": [
    {
     "name": "stdout",
     "output_type": "stream",
     "text": [
      "The autoreload extension is already loaded. To reload it, use:\n",
      "  %reload_ext autoreload\n"
     ]
    },
    {
     "data": {
      "text/html": [
       "<div><style>\n",
       ".dataframe > thead > tr,\n",
       ".dataframe > tbody > tr {\n",
       "  text-align: right;\n",
       "  white-space: pre-wrap;\n",
       "}\n",
       "</style>\n",
       "<small>shape: (3, 2)</small><table border=\"1\" class=\"dataframe\"><thead><tr><th>symbol</th><th>asset_class</th></tr><tr><td>str</td><td>str</td></tr></thead><tbody><tr><td>&quot;AAPL&quot;</td><td>&quot;Equity&quot;</td></tr><tr><td>&quot;XLE&quot;</td><td>&quot;Equity&quot;</td></tr><tr><td>&quot;DBA&quot;</td><td>&quot;Commodity&quot;</td></tr></tbody></table></div>"
      ],
      "text/plain": [
       "shape: (3, 2)\n",
       "┌────────┬─────────────┐\n",
       "│ symbol ┆ asset_class │\n",
       "│ ---    ┆ ---         │\n",
       "│ str    ┆ str         │\n",
       "╞════════╪═════════════╡\n",
       "│ AAPL   ┆ Equity      │\n",
       "│ XLE    ┆ Equity      │\n",
       "│ DBA    ┆ Commodity   │\n",
       "└────────┴─────────────┘"
      ]
     },
     "execution_count": 25,
     "metadata": {},
     "output_type": "execute_result"
    }
   ],
   "source": [
    "%load_ext autoreload\n",
    "%autoreload 2\n",
    "\n",
    "from humbldata.portfolio.analytics.user_table.helpers import aget_asset_class_filter\n",
    "\n",
    "\n",
    "(await aget_asset_class_filter(symbols=[\"AAPL\", \"XLE\", \"DBA\"])).collect()"
   ]
  },
  {
   "cell_type": "markdown",
   "metadata": {},
   "source": [
    "## Test aget_sector_filter"
   ]
  },
  {
   "cell_type": "code",
   "execution_count": 45,
   "metadata": {},
   "outputs": [
    {
     "name": "stdout",
     "output_type": "stream",
     "text": [
      "The autoreload extension is already loaded. To reload it, use:\n",
      "  %reload_ext autoreload\n"
     ]
    },
    {
     "data": {
      "text/html": [
       "<div><style>\n",
       ".dataframe > thead > tr,\n",
       ".dataframe > tbody > tr {\n",
       "  text-align: right;\n",
       "  white-space: pre-wrap;\n",
       "}\n",
       "</style>\n",
       "<small>shape: (6, 2)</small><table border=\"1\" class=\"dataframe\"><thead><tr><th>symbol</th><th>sector</th></tr><tr><td>str</td><td>str</td></tr></thead><tbody><tr><td>&quot;KO&quot;</td><td>&quot;Consumer Defensive&quot;</td></tr><tr><td>&quot;AAPL&quot;</td><td>&quot;Technology&quot;</td></tr><tr><td>&quot;XLU&quot;</td><td>&quot;Utilities&quot;</td></tr><tr><td>&quot;XLE&quot;</td><td>&quot;Energy&quot;</td></tr><tr><td>&quot;XLF&quot;</td><td>&quot;Financials&quot;</td></tr><tr><td>&quot;XLC&quot;</td><td>&quot;Communication Services&quot;</td></tr></tbody></table></div>"
      ],
      "text/plain": [
       "shape: (6, 2)\n",
       "┌────────┬────────────────────────┐\n",
       "│ symbol ┆ sector                 │\n",
       "│ ---    ┆ ---                    │\n",
       "│ str    ┆ str                    │\n",
       "╞════════╪════════════════════════╡\n",
       "│ KO     ┆ Consumer Defensive     │\n",
       "│ AAPL   ┆ Technology             │\n",
       "│ XLU    ┆ Utilities              │\n",
       "│ XLE    ┆ Energy                 │\n",
       "│ XLF    ┆ Financials             │\n",
       "│ XLC    ┆ Communication Services │\n",
       "└────────┴────────────────────────┘"
      ]
     },
     "execution_count": 45,
     "metadata": {},
     "output_type": "execute_result"
    }
   ],
   "source": [
    "%load_ext autoreload\n",
    "%autoreload 2\n",
    "\n",
    "from humbldata.portfolio.analytics.user_table.helpers import aget_sector_filter\n",
    "\n",
    "\n",
    "(await aget_sector_filter(symbols=[\"XLU\", \"XLE\", \"XLF\", \"XLC\", \"KO\", \"AAPL\"])).collect()"
   ]
  },
  {
   "cell_type": "markdown",
   "metadata": {},
   "source": [
    "# Test aggregate_user_table_data"
   ]
  },
  {
   "cell_type": "code",
   "execution_count": 69,
   "metadata": {},
   "outputs": [
    {
     "data": {
      "text/html": [
       "<div><style>\n",
       ".dataframe > thead > tr,\n",
       ".dataframe > tbody > tr {\n",
       "  text-align: right;\n",
       "  white-space: pre-wrap;\n",
       "}\n",
       "</style>\n",
       "<small>shape: (3, 7)</small><table border=\"1\" class=\"dataframe\"><thead><tr><th>date</th><th>symbol</th><th>bottom_price</th><th>recent_price</th><th>top_price</th><th>sector</th><th>asset_class</th></tr><tr><td>date</td><td>str</td><td>f64</td><td>f64</td><td>f64</td><td>str</td><td>str</td></tr></thead><tbody><tr><td>2024-06-28</td><td>&quot;AAPL&quot;</td><td>207.189</td><td>210.619995</td><td>219.3608</td><td>&quot;Technology&quot;</td><td>&quot;Equity&quot;</td></tr><tr><td>2024-06-28</td><td>&quot;XLE&quot;</td><td>88.4205</td><td>91.150002</td><td>91.7758</td><td>&quot;Energy&quot;</td><td>&quot;Equity&quot;</td></tr><tr><td>2024-06-28</td><td>&quot;XLU&quot;</td><td>67.3069</td><td>68.139999</td><td>69.8705</td><td>&quot;Utilities&quot;</td><td>&quot;Equity&quot;</td></tr></tbody></table></div>"
      ],
      "text/plain": [
       "shape: (3, 7)\n",
       "┌────────────┬────────┬──────────────┬──────────────┬───────────┬────────────┬─────────────┐\n",
       "│ date       ┆ symbol ┆ bottom_price ┆ recent_price ┆ top_price ┆ sector     ┆ asset_class │\n",
       "│ ---        ┆ ---    ┆ ---          ┆ ---          ┆ ---       ┆ ---        ┆ ---         │\n",
       "│ date       ┆ str    ┆ f64          ┆ f64          ┆ f64       ┆ str        ┆ str         │\n",
       "╞════════════╪════════╪══════════════╪══════════════╪═══════════╪════════════╪═════════════╡\n",
       "│ 2024-06-28 ┆ AAPL   ┆ 207.189      ┆ 210.619995   ┆ 219.3608  ┆ Technology ┆ Equity      │\n",
       "│ 2024-06-28 ┆ XLE    ┆ 88.4205      ┆ 91.150002    ┆ 91.7758   ┆ Energy     ┆ Equity      │\n",
       "│ 2024-06-28 ┆ XLU    ┆ 67.3069      ┆ 68.139999    ┆ 69.8705   ┆ Utilities  ┆ Equity      │\n",
       "└────────────┴────────┴──────────────┴──────────────┴───────────┴────────────┴─────────────┘"
      ]
     },
     "execution_count": 69,
     "metadata": {},
     "output_type": "execute_result"
    }
   ],
   "source": [
    "from humbldata.portfolio.analytics.user_table.helpers import aggregate_user_table_data\n",
    "\n",
    "\n",
    "(await aggregate_user_table_data(symbols=[\"XLU\", \"XLE\", \"AAPL\"])).collect()"
   ]
  },
  {
   "cell_type": "code",
   "execution_count": 23,
   "metadata": {},
   "outputs": [
    {
     "data": {
      "text/html": [
       "<div><style>\n",
       ".dataframe > thead > tr,\n",
       ".dataframe > tbody > tr {\n",
       "  text-align: right;\n",
       "  white-space: pre-wrap;\n",
       "}\n",
       "</style>\n",
       "<small>shape: (3, 2)</small><table border=\"1\" class=\"dataframe\"><thead><tr><th>last_price</th><th>symbol</th></tr><tr><td>f64</td><td>str</td></tr></thead><tbody><tr><td>210.62</td><td>&quot;AAPL&quot;</td></tr><tr><td>123.54</td><td>&quot;NVDA&quot;</td></tr><tr><td>90.8</td><td>&quot;XLE&quot;</td></tr></tbody></table></div>"
      ],
      "text/plain": [
       "shape: (3, 2)\n",
       "┌────────────┬────────┐\n",
       "│ last_price ┆ symbol │\n",
       "│ ---        ┆ ---    │\n",
       "│ f64        ┆ str    │\n",
       "╞════════════╪════════╡\n",
       "│ 210.62     ┆ AAPL   │\n",
       "│ 123.54     ┆ NVDA   │\n",
       "│ 90.8       ┆ XLE    │\n",
       "└────────────┴────────┘"
      ]
     },
     "execution_count": 23,
     "metadata": {},
     "output_type": "execute_result"
    }
   ],
   "source": [
    "from humbldata.core.utils.openbb_helpers import aget_latest_price\n",
    "\n",
    "\n",
    "(await aget_latest_price(symbol=[\"AAPL\", \"NVDA\", \"XLE\"])).collect()"
   ]
  },
  {
   "cell_type": "code",
   "execution_count": 53,
   "metadata": {},
   "outputs": [
    {
     "data": {
      "text/html": [
       "<div><style>\n",
       ".dataframe > thead > tr,\n",
       ".dataframe > tbody > tr {\n",
       "  text-align: right;\n",
       "  white-space: pre-wrap;\n",
       "}\n",
       "</style>\n",
       "<small>shape: (3, 2)</small><table border=\"1\" class=\"dataframe\"><thead><tr><th>symbol</th><th>sector</th></tr><tr><td>str</td><td>str</td></tr></thead><tbody><tr><td>&quot;AAPL&quot;</td><td>&quot;Technology&quot;</td></tr><tr><td>&quot;XLE&quot;</td><td>&quot;Energy&quot;</td></tr><tr><td>&quot;DBA&quot;</td><td>&quot;Commodities Focused&quot;</td></tr></tbody></table></div>"
      ],
      "text/plain": [
       "shape: (3, 2)\n",
       "┌────────┬─────────────────────┐\n",
       "│ symbol ┆ sector              │\n",
       "│ ---    ┆ ---                 │\n",
       "│ str    ┆ str                 │\n",
       "╞════════╪═════════════════════╡\n",
       "│ AAPL   ┆ Technology          │\n",
       "│ XLE    ┆ Energy              │\n",
       "│ DBA    ┆ Commodities Focused │\n",
       "└────────┴─────────────────────┘"
      ]
     },
     "execution_count": 53,
     "metadata": {},
     "output_type": "execute_result"
    }
   ],
   "source": [
    "etf_data = await aget_etf_category(symbols=[\"AAPL\", \"XLE\", \"DBA\"])\n",
    "(await aget_sector_filter(symbols=[\"AAPL\", \"XLE\", \"DBA\"], etf_data=etf_data)).collect()"
   ]
  },
  {
   "cell_type": "code",
   "execution_count": null,
   "metadata": {},
   "outputs": [],
   "source": []
  }
 ],
 "metadata": {
  "kernelspec": {
   "display_name": "Python 3",
   "language": "python",
   "name": "python3"
  },
  "language_info": {
   "codemirror_mode": {
    "name": "ipython",
    "version": 3
   },
   "file_extension": ".py",
   "mimetype": "text/x-python",
   "name": "python",
   "nbconvert_exporter": "python",
   "pygments_lexer": "ipython3",
   "version": "3.11.9"
  }
 },
 "nbformat": 4,
 "nbformat_minor": 2
}
