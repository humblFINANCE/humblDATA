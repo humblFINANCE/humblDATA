{
 "cells": [
  {
   "cell_type": "code",
   "execution_count": 1,
   "metadata": {},
   "outputs": [],
   "source": [
    "%load_ext autoreload\n",
    "%autoreload 2\n",
    "\n",
    "from humbldata.core.utils.openbb_helpers import obb_login\n",
    "from openbb import obb\n",
    "from humbldata.core.utils.env import Env\n",
    "import polars as pl\n",
    "\n",
    "# obb_login()\n",
    "obb.account.login(pat=Env().OBB_PAT, remember_me=True)"
   ]
  },
  {
   "cell_type": "code",
   "execution_count": null,
   "metadata": {},
   "outputs": [],
   "source": [
    "\n",
    "from humbldata.toolbox.technical.mandelbrot_channel.model import (\n",
    "    calc_mandelbrot_channel,\n",
    "    calc_mandelbrot_channel_historical,\n",
    ")\n",
    "\n",
    "\n",
    "data = (\n",
    "    obb.equity.price.historical(\n",
    "        [\"AAPL\"],\n",
    "        provider=\"yfinance\",\n",
    "        start_date=\"2020-01-01\",\n",
    "        end_date=\"2024-01-01\",\n",
    "        adjustment=\"splits_and_dividends\",\n",
    "    ).to_polars()\n",
    ").drop([\"dividends\", \"stock_splits\"]).with_columns(pl.lit(\"AAPL\").alias(\"symbol\"))\n",
    "\n",
    "mandelbrot = calc_mandelbrot_channel_historical(  # noqa: ERA001\n",
    "        data,\n",
    "        window=\"1m\",\n",
    "        rv_adjustment=True,\n",
    "        rv_method=\"std\",\n",
    "        rv_grouped_mean=False,\n",
    "        rs_method=\"RS\",\n",
    "        live_price=False,\n",
    "    ).collect()\n",
    "mandelbrot"
   ]
  },
  {
   "cell_type": "markdown",
   "metadata": {},
   "source": [
    "## Test `calc_up_down_pct`\n"
   ]
  },
  {
   "cell_type": "code",
   "execution_count": null,
   "metadata": {},
   "outputs": [],
   "source": [
    "from humbldata.portfolio.analytics.user_table.helpers import calc_up_down_pct\n",
    "\n",
    "\n",
    "df = pl.DataFrame({\n",
    "    \"symbol\": [\"AAPL\", \"GOOGL\", \"MSFT\"],\n",
    "    \"bottom_price\": [5.18, 15.07, 16.24],\n",
    "    \"recent_price\": [10.05, 20.31, 16.42],\n",
    "    \"top_price\": [11.23, 25.17, 30.09],\n",
    "})\n",
    "result = calc_up_down_pct(df)\n",
    "print(result)"
   ]
  },
  {
   "cell_type": "markdown",
   "metadata": {},
   "source": [
    "# Setting up UserTable"
   ]
  },
  {
   "cell_type": "code",
   "execution_count": null,
   "metadata": {},
   "outputs": [],
   "source": [
    "%load_ext autoreload\n",
    "%autoreload 2\n",
    "\n",
    "from humbldata.core.standard_models.portfolio.analytics.user_table import UserTableQueryParams\n",
    "from humbldata.core.utils.openbb_helpers import get_latest_price\n",
    "\n",
    "\n",
    "symbols = UserTableQueryParams(symbol=\"AAPL, MSFT, NVDA\").symbol\n",
    "symbols\n",
    "\n",
    "\n",
    "\n",
    "get_latest_price(symbols)"
   ]
  },
  {
   "cell_type": "markdown",
   "metadata": {},
   "source": [
    "# Tesing Async\n"
   ]
  },
  {
   "cell_type": "markdown",
   "metadata": {},
   "source": [
    "## Get Sector Async"
   ]
  },
  {
   "cell_type": "code",
   "execution_count": null,
   "metadata": {},
   "outputs": [],
   "source": [
    "%load_ext autoreload\n",
    "%autoreload 2\n",
    "\n",
    "from humbldata.core.utils.openbb_helpers import aget_etf_category\n",
    "import polars as pl\n",
    "\n",
    "stocks = pl.Series([\n",
    "    \"GOOGL\",  # Communication Services\n",
    "    \"AMZN\",   # Consumer Discretionary\n",
    "    \"KO\",     # Consumer Staples\n",
    "    \"XOM\",    # Energy\n",
    "    \"JPM\",    # Financials\n",
    "    \"JNJ\",    # Health Care\n",
    "    \"HON\",    # Industrials\n",
    "    \"AAPL\",   # Information Technology\n",
    "    \"LIN\",    # Materials\n",
    "    \"PLD\",    # Real Estate\n",
    "    \"NEE\"     # Utilities\n",
    "])\n",
    "test = (await aget_etf_category(symbols=[\"AAPL\", \"XLE\", \"DBA\"], provider=\"yfinance\")).collect()\n",
    "# test2 = (await aget_equity_sector(symbols=stocks, provider=\"yfinance\")).collect()\n",
    "# test2 = (await aget_equity_sector(symbols=[\"XLE\", \"AAPL\"], provider=\"yfinance\")).collect()\n",
    "test"
   ]
  },
  {
   "cell_type": "code",
   "execution_count": null,
   "metadata": {},
   "outputs": [],
   "source": [
    "symbols = [\"CORN\", 'SLV', 'DBA', \"XLE\", \"AAPL\", \"FXE\", \"SPY\", \"QQQ\", \"BITO\", \"MAXI\", \"SATO\", \"BIL\", \"LQD\", \"QAI\", \"MNA\", \"CLSE\"]\n",
    "symbols2 = [\"AAPL\", \"FXE\", \"SPY\", \"MAXI\", \"GLD\"]\n",
    "symbols3 = commodity_etf_symbols = [\"GLD\", \"IAU\", \"SLV\", \"GLDM\", \"PDBC\", \"SGOL\", \"FTGC\", \"DBC\", \"SIVR\", \"USO\", \"IAUM\", \"GSG\", \"BCI\", \"PPLT\", \"COMT\", \"GLTR\", \"OUNZ\", \"BAR\", \"UNG\", \"DBA\", \"AAAU\", \"DJP\", \"CMDT\", \"KRBN\", \"PALL\", \"COM\", \"NBCM\", \"CMDY\", \"DBO\", \"BCD\", \"KCCA\", \"CPER\", \"HGER\", \"USCI\", \"DBB\", \"DBP\", \"GCC\", \"WEAT\", \"BNO\", \"UGA\", \"DGP\", \"IGLD\", \"COMB\", \"DBE\", \"FGDL\", \"CORN\", \"USL\", \"CCRV\", \"DJCB\", \"IAUF\", \"PLTM\", \"BDRY\", \"PDBA\", \"BGLD\", \"UCIB\", \"SOYB\", \"GRN\", \"PIT\", \"BCIM\", \"RENW\", \"SDCI\", \"UNL\", \"SHNY\", \"DCMT\", \"TAGS\", \"CANE\", \"TMET\", \"KEUA\", \"HCOM\", \"HARD\", \"EVMT\", \"USG\", \"AMPD\", \"DZZ\", \"DGZ\", \"KMET\", \"CMCI\", \"USOY\", \"ZSC\", \"TILL\", \"BWET\", \"DULL\", \"ZSB\", \"LNGG\", \"USOI\", \"OILK\", \"SLVO\", \"GLDI\", \"BOIL\", \"KOLD\", \"AGQ\", \"GLL\", \"UGL\", \"ZSL\", \"UCO\", \"SCO\"]\n",
    "\n",
    "\n",
    "\n",
    "df = (await aget_etf_category(symbols=[\"AAPL\", \"XLE\", \"DBA\"])).collect()\n"
   ]
  },
  {
   "cell_type": "code",
   "execution_count": null,
   "metadata": {},
   "outputs": [],
   "source": [
    "from humbldata.portfolio.analytics.user_table.helpers import normalize_asset_class\n",
    "\n",
    "\n",
    "normalized_df = normalize_asset_class(df).select([\"symbol\", \"category\"])\n",
    "normalized_df"
   ]
  },
  {
   "cell_type": "code",
   "execution_count": null,
   "metadata": {},
   "outputs": [],
   "source": [
    "%load_ext autoreload\n",
    "%autoreload 2\n",
    "\n",
    "from humbldata.core.utils.openbb_helpers import aget_etf_category\n",
    "\n",
    "\n",
    "df2 = (await aget_etf_category(symbols=[\"AAPL\", \"XLE\", \"DBA\"])).collect()\n",
    "df2"
   ]
  },
  {
   "cell_type": "code",
   "execution_count": null,
   "metadata": {},
   "outputs": [],
   "source": [
    "%load_ext autoreload\n",
    "%autoreload 2\n",
    "\n",
    "from humbldata.core.standard_models.portfolio.analytics.etf_category import ETFCategoryData\n",
    "\n",
    "\n",
    "ETFCategoryData(df2)"
   ]
  },
  {
   "cell_type": "code",
   "execution_count": null,
   "metadata": {},
   "outputs": [],
   "source": [
    "%load_ext autoreload\n",
    "%autoreload 2\n",
    "\n",
    "from humbldata.portfolio.analytics.user_table.helpers import aget_asset_class_filter\n",
    "\n",
    "\n",
    "(await aget_asset_class_filter(symbols=[\"AAPL\", \"XLE\", \"DBA\"])).collect()"
   ]
  },
  {
   "cell_type": "markdown",
   "metadata": {},
   "source": [
    "## Test aget_sector_filter"
   ]
  },
  {
   "cell_type": "code",
   "execution_count": null,
   "metadata": {},
   "outputs": [],
   "source": [
    "%load_ext autoreload\n",
    "%autoreload 2\n",
    "\n",
    "from humbldata.portfolio.analytics.user_table.helpers import aget_sector_filter\n",
    "\n",
    "\n",
    "(await aget_sector_filter(symbols=[\"XLU\", \"XLE\", \"XLF\", \"XLC\", \"KO\", \"AAPL\"])).collect()"
   ]
  },
  {
   "cell_type": "markdown",
   "metadata": {},
   "source": [
    "# Test aggregate_user_table_data"
   ]
  },
  {
   "cell_type": "code",
   "execution_count": 6,
   "metadata": {},
   "outputs": [
    {
     "data": {
      "text/html": [
       "<div><style>\n",
       ".dataframe > thead > tr,\n",
       ".dataframe > tbody > tr {\n",
       "  text-align: right;\n",
       "  white-space: pre-wrap;\n",
       "}\n",
       "</style>\n",
       "<small>shape: (3, 9)</small><table border=\"1\" class=\"dataframe\"><thead><tr><th>date</th><th>symbol</th><th>bottom_price</th><th>recent_price</th><th>top_price</th><th>ud_pct</th><th>ud_ratio</th><th>sector</th><th>asset_class</th></tr><tr><td>date</td><td>str</td><td>f64</td><td>f64</td><td>f64</td><td>str</td><td>f64</td><td>str</td><td>str</td></tr></thead><tbody><tr><td>2024-07-03</td><td>&quot;AAPL&quot;</td><td>216.2132</td><td>221.550003</td><td>228.816</td><td>&quot;-2.41 / +3.28&quot;</td><td>0.73</td><td>&quot;Technology&quot;</td><td>&quot;Equity&quot;</td></tr><tr><td>2024-07-03</td><td>&quot;XLE&quot;</td><td>88.9111</td><td>91.529999</td><td>91.8278</td><td>&quot;-2.86 / +0.33&quot;</td><td>8.79</td><td>&quot;Energy&quot;</td><td>&quot;Equity&quot;</td></tr><tr><td>2024-07-03</td><td>&quot;XLU&quot;</td><td>66.6078</td><td>68.43</td><td>68.9124</td><td>&quot;-2.66 / +0.7&quot;</td><td>3.78</td><td>&quot;Utilities&quot;</td><td>&quot;Equity&quot;</td></tr></tbody></table></div>"
      ],
      "text/plain": [
       "shape: (3, 9)\n",
       "┌────────────┬────────┬────────────┬────────────┬───┬───────────┬──────────┬───────────┬───────────┐\n",
       "│ date       ┆ symbol ┆ bottom_pri ┆ recent_pri ┆ … ┆ ud_pct    ┆ ud_ratio ┆ sector    ┆ asset_cla │\n",
       "│ ---        ┆ ---    ┆ ce         ┆ ce         ┆   ┆ ---       ┆ ---      ┆ ---       ┆ ss        │\n",
       "│ date       ┆ str    ┆ ---        ┆ ---        ┆   ┆ str       ┆ f64      ┆ str       ┆ ---       │\n",
       "│            ┆        ┆ f64        ┆ f64        ┆   ┆           ┆          ┆           ┆ str       │\n",
       "╞════════════╪════════╪════════════╪════════════╪═══╪═══════════╪══════════╪═══════════╪═══════════╡\n",
       "│ 2024-07-03 ┆ AAPL   ┆ 216.2132   ┆ 221.550003 ┆ … ┆ -2.41 /   ┆ 0.73     ┆ Technolog ┆ Equity    │\n",
       "│            ┆        ┆            ┆            ┆   ┆ +3.28     ┆          ┆ y         ┆           │\n",
       "│ 2024-07-03 ┆ XLE    ┆ 88.9111    ┆ 91.529999  ┆ … ┆ -2.86 /   ┆ 8.79     ┆ Energy    ┆ Equity    │\n",
       "│            ┆        ┆            ┆            ┆   ┆ +0.33     ┆          ┆           ┆           │\n",
       "│ 2024-07-03 ┆ XLU    ┆ 66.6078    ┆ 68.43      ┆ … ┆ -2.66 /   ┆ 3.78     ┆ Utilities ┆ Equity    │\n",
       "│            ┆        ┆            ┆            ┆   ┆ +0.7      ┆          ┆           ┆           │\n",
       "└────────────┴────────┴────────────┴────────────┴───┴───────────┴──────────┴───────────┴───────────┘"
      ]
     },
     "execution_count": 6,
     "metadata": {},
     "output_type": "execute_result"
    }
   ],
   "source": [
    "\n",
    "\n",
    "from humbldata.portfolio.analytics.user_table.helpers import aggregate_user_table_data\n",
    "import polars as pl\n",
    "\n",
    "out: pl.LazyFrame = (await aggregate_user_table_data(symbols=[\"XLU\", \"XLE\", \"AAPL\"]))\n",
    "out.collect()"
   ]
  },
  {
   "cell_type": "code",
   "execution_count": null,
   "metadata": {},
   "outputs": [],
   "source": [
    "from humbldata.core.utils.openbb_helpers import aget_latest_price\n",
    "\n",
    "\n",
    "(await aget_latest_price(symbol=[\"AAPL\", \"NVDA\", \"XLE\"])).collect()"
   ]
  },
  {
   "cell_type": "code",
   "execution_count": null,
   "metadata": {},
   "outputs": [],
   "source": [
    "etf_data = await aget_etf_category(symbols=[\"AAPL\", \"XLE\", \"DBA\"])\n",
    "(await aget_sector_filter(symbols=[\"AAPL\", \"XLE\", \"DBA\"], etf_data=etf_data)).collect()"
   ]
  },
  {
   "cell_type": "code",
   "execution_count": null,
   "metadata": {},
   "outputs": [],
   "source": []
  }
 ],
 "metadata": {
  "kernelspec": {
   "display_name": "Python 3",
   "language": "python",
   "name": "python3"
  },
  "language_info": {
   "codemirror_mode": {
    "name": "ipython",
    "version": 3
   },
   "file_extension": ".py",
   "mimetype": "text/x-python",
   "name": "python",
   "nbconvert_exporter": "python",
   "pygments_lexer": "ipython3",
   "version": "3.11.9"
  }
 },
 "nbformat": 4,
 "nbformat_minor": 2
}
