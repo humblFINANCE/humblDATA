{
 "cells": [
  {
   "cell_type": "code",
   "execution_count": 2,
   "metadata": {},
   "outputs": [],
   "source": [
    "%load_ext autoreload\n",
    "%autoreload 2\n",
    "\n",
    "from humbldata.core.utils.openbb_helpers import obb_login\n",
    "from openbb import obb\n",
    "from humbldata.core.utils.env import Env\n",
    "import polars as pl\n",
    "\n",
    "# obb_login()\n",
    "obb.account.login(pat=Env().OBB_PAT, remember_me=True)"
   ]
  },
  {
   "cell_type": "code",
   "execution_count": 8,
   "metadata": {},
   "outputs": [
    {
     "data": {
      "text/html": [
       "<div>\n",
       "<style scoped>\n",
       "    .dataframe tbody tr th:only-of-type {\n",
       "        vertical-align: middle;\n",
       "    }\n",
       "\n",
       "    .dataframe tbody tr th {\n",
       "        vertical-align: top;\n",
       "    }\n",
       "\n",
       "    .dataframe thead th {\n",
       "        text-align: right;\n",
       "    }\n",
       "</style>\n",
       "<table border=\"1\" class=\"dataframe\">\n",
       "  <thead>\n",
       "    <tr style=\"text-align: right;\">\n",
       "      <th></th>\n",
       "      <th>open</th>\n",
       "      <th>high</th>\n",
       "      <th>low</th>\n",
       "      <th>close</th>\n",
       "      <th>volume</th>\n",
       "      <th>vwap</th>\n",
       "      <th>adj_close</th>\n",
       "      <th>unadjusted_volume</th>\n",
       "      <th>change</th>\n",
       "      <th>change_percent</th>\n",
       "    </tr>\n",
       "    <tr>\n",
       "      <th>date</th>\n",
       "      <th></th>\n",
       "      <th></th>\n",
       "      <th></th>\n",
       "      <th></th>\n",
       "      <th></th>\n",
       "      <th></th>\n",
       "      <th></th>\n",
       "      <th></th>\n",
       "      <th></th>\n",
       "      <th></th>\n",
       "    </tr>\n",
       "  </thead>\n",
       "  <tbody>\n",
       "    <tr>\n",
       "      <th>1980-12-12</th>\n",
       "      <td>0.12835</td>\n",
       "      <td>0.12835</td>\n",
       "      <td>0.12835</td>\n",
       "      <td>0.12835</td>\n",
       "      <td>469034068</td>\n",
       "      <td>0.12835</td>\n",
       "      <td>0.098832</td>\n",
       "      <td>469034068.0</td>\n",
       "      <td>0.000</td>\n",
       "      <td>0.000000</td>\n",
       "    </tr>\n",
       "    <tr>\n",
       "      <th>1980-12-15</th>\n",
       "      <td>0.12165</td>\n",
       "      <td>0.12165</td>\n",
       "      <td>0.12165</td>\n",
       "      <td>0.12165</td>\n",
       "      <td>175884971</td>\n",
       "      <td>0.12165</td>\n",
       "      <td>0.093676</td>\n",
       "      <td>175884971.0</td>\n",
       "      <td>0.000</td>\n",
       "      <td>0.000000</td>\n",
       "    </tr>\n",
       "    <tr>\n",
       "      <th>1980-12-16</th>\n",
       "      <td>0.11272</td>\n",
       "      <td>0.11272</td>\n",
       "      <td>0.11272</td>\n",
       "      <td>0.11272</td>\n",
       "      <td>105728103</td>\n",
       "      <td>0.11272</td>\n",
       "      <td>0.086800</td>\n",
       "      <td>105728103.0</td>\n",
       "      <td>0.000</td>\n",
       "      <td>0.000000</td>\n",
       "    </tr>\n",
       "    <tr>\n",
       "      <th>1980-12-17</th>\n",
       "      <td>0.11551</td>\n",
       "      <td>0.11551</td>\n",
       "      <td>0.11551</td>\n",
       "      <td>0.11551</td>\n",
       "      <td>86441684</td>\n",
       "      <td>0.11551</td>\n",
       "      <td>0.088949</td>\n",
       "      <td>86441684.0</td>\n",
       "      <td>0.000</td>\n",
       "      <td>0.000000</td>\n",
       "    </tr>\n",
       "    <tr>\n",
       "      <th>1980-12-18</th>\n",
       "      <td>0.11886</td>\n",
       "      <td>0.11886</td>\n",
       "      <td>0.11886</td>\n",
       "      <td>0.11886</td>\n",
       "      <td>73449671</td>\n",
       "      <td>0.11886</td>\n",
       "      <td>0.091527</td>\n",
       "      <td>73449671.0</td>\n",
       "      <td>0.000</td>\n",
       "      <td>0.000000</td>\n",
       "    </tr>\n",
       "    <tr>\n",
       "      <th>...</th>\n",
       "      <td>...</td>\n",
       "      <td>...</td>\n",
       "      <td>...</td>\n",
       "      <td>...</td>\n",
       "      <td>...</td>\n",
       "      <td>...</td>\n",
       "      <td>...</td>\n",
       "      <td>...</td>\n",
       "      <td>...</td>\n",
       "      <td>...</td>\n",
       "    </tr>\n",
       "    <tr>\n",
       "      <th>2024-12-04</th>\n",
       "      <td>242.87000</td>\n",
       "      <td>244.11000</td>\n",
       "      <td>241.25000</td>\n",
       "      <td>243.01000</td>\n",
       "      <td>44383935</td>\n",
       "      <td>242.81000</td>\n",
       "      <td>243.010000</td>\n",
       "      <td>44383935.0</td>\n",
       "      <td>0.140</td>\n",
       "      <td>0.000576</td>\n",
       "    </tr>\n",
       "    <tr>\n",
       "      <th>2024-12-05</th>\n",
       "      <td>243.99000</td>\n",
       "      <td>244.54000</td>\n",
       "      <td>242.13000</td>\n",
       "      <td>243.04000</td>\n",
       "      <td>40033900</td>\n",
       "      <td>243.42500</td>\n",
       "      <td>243.040000</td>\n",
       "      <td>40033900.0</td>\n",
       "      <td>-0.950</td>\n",
       "      <td>-0.003894</td>\n",
       "    </tr>\n",
       "    <tr>\n",
       "      <th>2024-12-06</th>\n",
       "      <td>242.91000</td>\n",
       "      <td>244.63000</td>\n",
       "      <td>242.08000</td>\n",
       "      <td>242.84000</td>\n",
       "      <td>36870619</td>\n",
       "      <td>243.11500</td>\n",
       "      <td>242.840000</td>\n",
       "      <td>36870619.0</td>\n",
       "      <td>-0.065</td>\n",
       "      <td>-0.000288</td>\n",
       "    </tr>\n",
       "    <tr>\n",
       "      <th>2024-12-09</th>\n",
       "      <td>241.83000</td>\n",
       "      <td>247.24000</td>\n",
       "      <td>241.75000</td>\n",
       "      <td>246.75000</td>\n",
       "      <td>44649232</td>\n",
       "      <td>244.39250</td>\n",
       "      <td>246.750000</td>\n",
       "      <td>44649232.0</td>\n",
       "      <td>4.920</td>\n",
       "      <td>0.020300</td>\n",
       "    </tr>\n",
       "    <tr>\n",
       "      <th>2024-12-10</th>\n",
       "      <td>246.89000</td>\n",
       "      <td>248.21000</td>\n",
       "      <td>245.34000</td>\n",
       "      <td>247.77000</td>\n",
       "      <td>35895935</td>\n",
       "      <td>247.05250</td>\n",
       "      <td>247.770000</td>\n",
       "      <td>35895935.0</td>\n",
       "      <td>0.880</td>\n",
       "      <td>0.003564</td>\n",
       "    </tr>\n",
       "  </tbody>\n",
       "</table>\n",
       "<p>11092 rows × 10 columns</p>\n",
       "</div>"
      ],
      "text/plain": [
       "                 open       high        low      close     volume       vwap  \\\n",
       "date                                                                           \n",
       "1980-12-12    0.12835    0.12835    0.12835    0.12835  469034068    0.12835   \n",
       "1980-12-15    0.12165    0.12165    0.12165    0.12165  175884971    0.12165   \n",
       "1980-12-16    0.11272    0.11272    0.11272    0.11272  105728103    0.11272   \n",
       "1980-12-17    0.11551    0.11551    0.11551    0.11551   86441684    0.11551   \n",
       "1980-12-18    0.11886    0.11886    0.11886    0.11886   73449671    0.11886   \n",
       "...               ...        ...        ...        ...        ...        ...   \n",
       "2024-12-04  242.87000  244.11000  241.25000  243.01000   44383935  242.81000   \n",
       "2024-12-05  243.99000  244.54000  242.13000  243.04000   40033900  243.42500   \n",
       "2024-12-06  242.91000  244.63000  242.08000  242.84000   36870619  243.11500   \n",
       "2024-12-09  241.83000  247.24000  241.75000  246.75000   44649232  244.39250   \n",
       "2024-12-10  246.89000  248.21000  245.34000  247.77000   35895935  247.05250   \n",
       "\n",
       "             adj_close  unadjusted_volume  change  change_percent  \n",
       "date                                                               \n",
       "1980-12-12    0.098832        469034068.0   0.000        0.000000  \n",
       "1980-12-15    0.093676        175884971.0   0.000        0.000000  \n",
       "1980-12-16    0.086800        105728103.0   0.000        0.000000  \n",
       "1980-12-17    0.088949         86441684.0   0.000        0.000000  \n",
       "1980-12-18    0.091527         73449671.0   0.000        0.000000  \n",
       "...                ...                ...     ...             ...  \n",
       "2024-12-04  243.010000         44383935.0   0.140        0.000576  \n",
       "2024-12-05  243.040000         40033900.0  -0.950       -0.003894  \n",
       "2024-12-06  242.840000         36870619.0  -0.065       -0.000288  \n",
       "2024-12-09  246.750000         44649232.0   4.920        0.020300  \n",
       "2024-12-10  247.770000         35895935.0   0.880        0.003564  \n",
       "\n",
       "[11092 rows x 10 columns]"
      ]
     },
     "execution_count": 8,
     "metadata": {},
     "output_type": "execute_result"
    }
   ],
   "source": [
    "result = obb.equity.price.historical(symbol=\"AAPL\", start_date=\"1960-12-01\", end_date=\"2025-01-01\", provider=\"fmp\")\n",
    "result.to_df()"
   ]
  },
  {
   "cell_type": "code",
   "execution_count": 9,
   "metadata": {},
   "outputs": [],
   "source": [
    "result = obb.economy.calendar(provider='nasdaq', country='united_kingdom', start_date='2024-12-01', end_date='2025-01-01')\n",
    "df = result.to_df()\n"
   ]
  },
  {
   "cell_type": "code",
   "execution_count": 10,
   "metadata": {},
   "outputs": [
    {
     "data": {
      "text/html": [
       "<div>\n",
       "<style scoped>\n",
       "    .dataframe tbody tr th:only-of-type {\n",
       "        vertical-align: middle;\n",
       "    }\n",
       "\n",
       "    .dataframe tbody tr th {\n",
       "        vertical-align: top;\n",
       "    }\n",
       "\n",
       "    .dataframe thead th {\n",
       "        text-align: right;\n",
       "    }\n",
       "</style>\n",
       "<table border=\"1\" class=\"dataframe\">\n",
       "  <thead>\n",
       "    <tr style=\"text-align: right;\">\n",
       "      <th></th>\n",
       "      <th>country</th>\n",
       "      <th>event</th>\n",
       "      <th>consensus</th>\n",
       "      <th>previous</th>\n",
       "      <th>actual</th>\n",
       "      <th>description</th>\n",
       "    </tr>\n",
       "    <tr>\n",
       "      <th>date</th>\n",
       "      <th></th>\n",
       "      <th></th>\n",
       "      <th></th>\n",
       "      <th></th>\n",
       "      <th></th>\n",
       "      <th></th>\n",
       "    </tr>\n",
       "  </thead>\n",
       "  <tbody>\n",
       "    <tr>\n",
       "      <th>2024-12-18 02:00:00</th>\n",
       "      <td>United Kingdom</td>\n",
       "      <td>CPI, n.s.a</td>\n",
       "      <td></td>\n",
       "      <td>135.00</td>\n",
       "      <td>-</td>\n",
       "      <td>NaN</td>\n",
       "    </tr>\n",
       "    <tr>\n",
       "      <th>2024-12-18 02:00:00</th>\n",
       "      <td>United Kingdom</td>\n",
       "      <td>Core CPI</td>\n",
       "      <td></td>\n",
       "      <td>3.3%</td>\n",
       "      <td>-</td>\n",
       "      <td>The Core Consumer Price Index (CPI) measures t...</td>\n",
       "    </tr>\n",
       "    <tr>\n",
       "      <th>2024-12-18 02:00:00</th>\n",
       "      <td>United Kingdom</td>\n",
       "      <td>Core CPI</td>\n",
       "      <td></td>\n",
       "      <td>0.4%</td>\n",
       "      <td>-</td>\n",
       "      <td>NaN</td>\n",
       "    </tr>\n",
       "    <tr>\n",
       "      <th>2024-12-18 02:00:00</th>\n",
       "      <td>United Kingdom</td>\n",
       "      <td>CPI</td>\n",
       "      <td></td>\n",
       "      <td>2.3%</td>\n",
       "      <td>-</td>\n",
       "      <td>The Consumer Price Index (CPI) measures the ch...</td>\n",
       "    </tr>\n",
       "    <tr>\n",
       "      <th>2024-12-18 02:00:00</th>\n",
       "      <td>United Kingdom</td>\n",
       "      <td>CPI</td>\n",
       "      <td></td>\n",
       "      <td>0.6%</td>\n",
       "      <td>-</td>\n",
       "      <td>The Consumer Price Index (CPI) measures the ch...</td>\n",
       "    </tr>\n",
       "  </tbody>\n",
       "</table>\n",
       "</div>"
      ],
      "text/plain": [
       "                            country       event consensus previous actual  \\\n",
       "date                                                                        \n",
       "2024-12-18 02:00:00  United Kingdom  CPI, n.s.a             135.00      -   \n",
       "2024-12-18 02:00:00  United Kingdom    Core CPI               3.3%      -   \n",
       "2024-12-18 02:00:00  United Kingdom    Core CPI               0.4%      -   \n",
       "2024-12-18 02:00:00  United Kingdom         CPI               2.3%      -   \n",
       "2024-12-18 02:00:00  United Kingdom         CPI               0.6%      -   \n",
       "\n",
       "                                                           description  \n",
       "date                                                                    \n",
       "2024-12-18 02:00:00                                                NaN  \n",
       "2024-12-18 02:00:00  The Core Consumer Price Index (CPI) measures t...  \n",
       "2024-12-18 02:00:00                                                NaN  \n",
       "2024-12-18 02:00:00  The Consumer Price Index (CPI) measures the ch...  \n",
       "2024-12-18 02:00:00  The Consumer Price Index (CPI) measures the ch...  "
      ]
     },
     "execution_count": 10,
     "metadata": {},
     "output_type": "execute_result"
    }
   ],
   "source": [
    "df[df[\"event\"].str.contains(\"CPI\")]"
   ]
  },
  {
   "cell_type": "code",
   "execution_count": null,
   "metadata": {},
   "outputs": [],
   "source": [
    "%load_ext autoreload\n",
    "%autoreload\n",
    "\n",
    "from humbldata.toolbox.toolbox_controller import Toolbox\n",
    "\n",
    "toolbox = Toolbox(\n",
    "    symbols=\"SPY,IWM,DIA,QQQ\",\n",
    "    interval=\"1d\",\n",
    "    start_date=\"2000-01-01\",\n",
    "    end_date=\"2024-12-03\",\n",
    "    # membership=\"anonymous\"\n",
    ")\n",
    "toolbox"
   ]
  },
  {
   "cell_type": "code",
   "execution_count": null,
   "metadata": {},
   "outputs": [],
   "source": [
    "# import nest_asyncio\n",
    "# nest_asyncio.apply()\n",
    "\n",
    "result = toolbox.technical.mandelbrot_channel(historical=False, window=\"1mo\", _boundary_group_down=False, chart=True)\n",
    "result"
   ]
  },
  {
   "cell_type": "code",
   "execution_count": null,
   "metadata": {},
   "outputs": [],
   "source": [
    "result.to_polars()"
   ]
  },
  {
   "cell_type": "code",
   "execution_count": null,
   "metadata": {},
   "outputs": [],
   "source": [
    "result.command_params"
   ]
  },
  {
   "cell_type": "code",
   "execution_count": null,
   "metadata": {},
   "outputs": [],
   "source": [
    "result.context_params"
   ]
  },
  {
   "cell_type": "markdown",
   "metadata": {},
   "source": [
    "## Test `calc_up_down_pct`\n"
   ]
  },
  {
   "cell_type": "code",
   "execution_count": null,
   "metadata": {},
   "outputs": [],
   "source": [
    "from humbldata.portfolio.analytics.user_table.helpers import calc_up_down_pct\n",
    "\n",
    "\n",
    "df = pl.DataFrame({\n",
    "    \"symbol\": [\"AAPL\", \"GOOGL\", \"MSFT\"],\n",
    "    \"bottom_price\": [5.18, 15.07, 16.24],\n",
    "    \"recent_price\": [10.05, 20.31, 16.42],\n",
    "    \"top_price\": [11.23, 25.17, 30.09],\n",
    "})\n",
    "result = calc_up_down_pct(df)\n",
    "print(result)"
   ]
  },
  {
   "cell_type": "markdown",
   "metadata": {},
   "source": [
    "# Setting up UserTable"
   ]
  },
  {
   "cell_type": "code",
   "execution_count": null,
   "metadata": {},
   "outputs": [],
   "source": [
    "%load_ext autoreload\n",
    "%autoreload 2\n",
    "\n",
    "from humbldata.core.standard_models.portfolio.analytics.user_table import UserTableQueryParams\n",
    "from humbldata.core.utils.openbb_helpers import get_latest_price\n",
    "\n",
    "\n",
    "symbols = UserTableQueryParams(symbol=\"AAPL, MSFT, NVDA\").symbol\n",
    "symbols"
   ]
  },
  {
   "cell_type": "markdown",
   "metadata": {},
   "source": [
    "# Tesing Async\n"
   ]
  },
  {
   "cell_type": "markdown",
   "metadata": {},
   "source": [
    "## Get Sector Async"
   ]
  },
  {
   "cell_type": "code",
   "execution_count": null,
   "metadata": {},
   "outputs": [],
   "source": [
    "%load_ext autoreload\n",
    "%autoreload 2\n",
    "\n",
    "from humbldata.core.utils.openbb_helpers import aget_etf_category, aget_equity_sector\n",
    "import polars as pl\n",
    "\n",
    "stocks = pl.Series([\n",
    "    \"GOOGL\",  # Communication Services\n",
    "    \"AMZN\",   # Consumer Discretionary\n",
    "    \"KO\",     # Consumer Staples\n",
    "    \"XOM\",    # Energy\n",
    "    \"JPM\",    # Financials\n",
    "    \"JNJ\",    # Health Care\n",
    "    \"HON\",    # Industrials\n",
    "    \"AAPL\",   # Information Technology\n",
    "    \"LIN\",    # Materials\n",
    "    \"PLD\",    # Real Estate\n",
    "    \"NEE\"     # Utilities\n",
    "])\n",
    "\n",
    "# Define objects and lists for different symbol groups\n",
    "\n",
    "# Equities\n",
    "equity_symbols = [\"AAPL\", \"NVDA\", \"TSLA\"]\n",
    "\n",
    "# ETFs\n",
    "etf_symbols = [\"XLE\", \"XLF\", \"XLU\"]\n",
    "\n",
    "# Mixed (equities and ETFs)\n",
    "mixed_symbols = [\"AAPL\", \"XLE\", \"XLU\", \"TSLA\"]\n",
    "\n",
    "# Edge cases\n",
    "edge_symbols = [\"BITI\", \"LNGG\", \"ETHU\", \"DBA\"]\n",
    "\n",
    "\n",
    "# test = (await aget_etf_category(symbols=[\"AAPL\", \"XLE\", \"DBA\"], provider=\"yfinance\")).collect()\n",
    "test2 = (await aget_equity_sector(symbols=equity_symbols, provider=\"yfinance\")).collect()\n",
    "# test2 = (await aget_equity_sector(symbols=[\"XLE\", \"AAPL\"], provider=\"yfinance\")).collect()\n",
    "test2"
   ]
  },
  {
   "cell_type": "code",
   "execution_count": null,
   "metadata": {},
   "outputs": [],
   "source": [
    "symbols = [\"CORN\", 'SLV', 'DBA', \"XLE\", \"AAPL\", \"FXE\", \"SPY\", \"QQQ\", \"BITO\", \"MAXI\", \"SATO\", \"BIL\", \"LQD\", \"QAI\", \"MNA\", \"CLSE\"]\n",
    "symbols2 = [\"AAPL\", \"FXE\", \"SPY\", \"MAXI\", \"GLD\"]\n",
    "symbols3 = commodity_etf_symbols = [\"GLD\", \"IAU\", \"SLV\", \"GLDM\", \"PDBC\", \"SGOL\", \"FTGC\", \"DBC\", \"SIVR\", \"USO\", \"IAUM\", \"GSG\", \"BCI\", \"PPLT\", \"COMT\", \"GLTR\", \"OUNZ\", \"BAR\", \"UNG\", \"DBA\", \"AAAU\", \"DJP\", \"CMDT\", \"KRBN\", \"PALL\", \"COM\", \"NBCM\", \"CMDY\", \"DBO\", \"BCD\", \"KCCA\", \"CPER\", \"HGER\", \"USCI\", \"DBB\", \"DBP\", \"GCC\", \"WEAT\", \"BNO\", \"UGA\", \"DGP\", \"IGLD\", \"COMB\", \"DBE\", \"FGDL\", \"CORN\", \"USL\", \"CCRV\", \"DJCB\", \"IAUF\", \"PLTM\", \"BDRY\", \"PDBA\", \"BGLD\", \"UCIB\", \"SOYB\", \"GRN\", \"PIT\", \"BCIM\", \"RENW\", \"SDCI\", \"UNL\", \"SHNY\", \"DCMT\", \"TAGS\", \"CANE\", \"TMET\", \"KEUA\", \"HCOM\", \"HARD\", \"EVMT\", \"USG\", \"AMPD\", \"DZZ\", \"DGZ\", \"KMET\", \"CMCI\", \"USOY\", \"ZSC\", \"TILL\", \"BWET\", \"DULL\", \"ZSB\", \"LNGG\", \"USOI\", \"OILK\", \"SLVO\", \"GLDI\", \"BOIL\", \"KOLD\", \"AGQ\", \"GLL\", \"UGL\", \"ZSL\", \"UCO\", \"SCO\"]\n",
    "\n",
    "\n",
    "\n",
    "df = (await aget_etf_category(symbols=edge_symbols)).collect()\n",
    "df"
   ]
  },
  {
   "cell_type": "code",
   "execution_count": null,
   "metadata": {},
   "outputs": [],
   "source": [
    "from humbldata.portfolio.analytics.user_table.helpers import normalize_asset_class\n",
    "\n",
    "\n",
    "normalized_df = normalize_asset_class(df).select([\"symbol\", \"category\"])\n",
    "normalized_df"
   ]
  },
  {
   "cell_type": "code",
   "execution_count": null,
   "metadata": {},
   "outputs": [],
   "source": [
    "%load_ext autoreload\n",
    "%autoreload 2\n",
    "\n",
    "from humbldata.core.utils.openbb_helpers import aget_etf_category\n",
    "\n",
    "\n",
    "df2 = (await aget_etf_category(symbols=edge_symbols)).collect()\n",
    "df2"
   ]
  },
  {
   "cell_type": "code",
   "execution_count": null,
   "metadata": {},
   "outputs": [],
   "source": [
    "%load_ext autoreload\n",
    "%autoreload 2\n",
    "\n",
    "from humbldata.portfolio.analytics.user_table.helpers import aget_asset_class_filter\n",
    "\n",
    "(await aget_asset_class_filter(symbols=[\"XLE\", \"XLF\", \"XLK\"])).collect()"
   ]
  },
  {
   "cell_type": "markdown",
   "metadata": {},
   "source": [
    "## Test aget_sector_filter"
   ]
  },
  {
   "cell_type": "code",
   "execution_count": null,
   "metadata": {},
   "outputs": [],
   "source": [
    "%load_ext autoreload\n",
    "%autoreload 2\n",
    "\n",
    "from humbldata.portfolio.analytics.user_table.helpers import aget_sector_filter\n",
    "\n",
    "etf_data = pl.LazyFrame({\n",
    "    \"symbol\": [\"BITI\", \"LNGG\", \"ETHU\", \"DBA\"],\n",
    "    \"category\": [\n",
    "        \"Trading--Miscellaneous\",\n",
    "        \"Equity Energy\",\n",
    "        None,\n",
    "        \"Commodities Focused\",\n",
    "    ]\n",
    "})\n",
    "\n",
    "(await aget_sector_filter(symbols=mixed_symbols)).collect()"
   ]
  },
  {
   "cell_type": "markdown",
   "metadata": {},
   "source": [
    "# Test user_table_engine"
   ]
  },
  {
   "cell_type": "code",
   "execution_count": null,
   "metadata": {},
   "outputs": [],
   "source": [
    "from humbldata.portfolio.analytics.user_table.model import user_table_engine\n",
    "import polars as pl\n",
    "\n",
    "etf_data = [\n",
    "    pl.DataFrame(\n",
    "        {\"symbol\": [\"AAPL\", \"NVDA\", \"TSLA\"], \"category\": [None, None, None]}\n",
    "    ),\n",
    "    pl.DataFrame(\n",
    "        {\n",
    "            \"symbol\": [\"XLE\", \"XLF\", \"XLU\"],\n",
    "            \"category\": [\"Equity Energy\", \"Financial\", \"Utilities\"],\n",
    "        }\n",
    "    ),\n",
    "    pl.DataFrame(\n",
    "        {\n",
    "            \"symbol\": [\"AAPL\", \"XLE\", \"XLU\", \"TSLA\"],\n",
    "            \"category\": [None, \"Equity Energy\", \"Utilities\", None],\n",
    "        }\n",
    "    ),\n",
    "    pl.DataFrame(\n",
    "        {\n",
    "            \"symbol\": [\"BITI\", \"LNGG\", \"ETHU\", \"DBA\"],\n",
    "            \"category\": [\n",
    "                \"Trading--Miscellaneous\",\n",
    "                \"Equity Energy\",\n",
    "                None,\n",
    "                \"Commodities Focused\",\n",
    "            ],\n",
    "        }\n",
    "    ),\n",
    "]\n",
    "\n",
    "out: pl.LazyFrame = await user_table_engine(symbols=edge_symbols)\n",
    "out.collect()"
   ]
  },
  {
   "cell_type": "markdown",
   "metadata": {},
   "source": [
    "## Test UserTableFetcher"
   ]
  },
  {
   "cell_type": "code",
   "execution_count": null,
   "metadata": {},
   "outputs": [],
   "source": [
    "%load_ext autoreload\n",
    "%autoreload 2\n",
    "\n",
    "from humbldata.portfolio.portfolio_controller import Portfolio\n",
    "\n",
    "portfolio = Portfolio(symbols=[\"AAPL\"], user_role=\"anonymous\")\n",
    "portfolio"
   ]
  },
  {
   "cell_type": "code",
   "execution_count": null,
   "metadata": {},
   "outputs": [],
   "source": [
    "result = (await portfolio.analytics.user_table())"
   ]
  },
  {
   "cell_type": "code",
   "execution_count": null,
   "metadata": {},
   "outputs": [],
   "source": [
    "result.to_polars()"
   ]
  },
  {
   "cell_type": "code",
   "execution_count": null,
   "metadata": {},
   "outputs": [],
   "source": [
    "result.to_polars()"
   ]
  },
  {
   "cell_type": "markdown",
   "metadata": {},
   "source": [
    "# Testing Sandbox"
   ]
  },
  {
   "cell_type": "code",
   "execution_count": null,
   "metadata": {},
   "outputs": [],
   "source": [
    "%load_ext autoreload\n",
    "%autoreload 2\n",
    "\n",
    "from humbldata.toolbox.toolbox_controller import Toolbox\n",
    "import datetime\n",
    "from datetime import timedelta\n",
    "\n",
    "# start_date = \"2020-01-01\"\n",
    "# end_date = \"2024-01-01\"\n",
    "start_date = (datetime.datetime.now() - datetime.timedelta(days=365))\n",
    "end_date = datetime.date(2024, 7, 18)\n",
    "\n",
    "toolbox = Toolbox(\n",
    "    symbols=[\"AAPL\", \"AMD\"],\n",
    "    interval=\"1d\",\n",
    "    start_date=\"2022-07-18\",\n",
    "    end_date=end_date,\n",
    "    membership=\"peon\"\n",
    ")"
   ]
  },
  {
   "cell_type": "code",
   "execution_count": null,
   "metadata": {},
   "outputs": [],
   "source": [
    "result = toolbox.technical.mandelbrot_channel(historical=False, window=\"1m\", _boundary_group_down=False, chart=True)\n",
    "result\n"
   ]
  },
  {
   "cell_type": "code",
   "execution_count": null,
   "metadata": {},
   "outputs": [],
   "source": [
    "result.warnings[0]"
   ]
  },
  {
   "cell_type": "code",
   "execution_count": null,
   "metadata": {},
   "outputs": [],
   "source": [
    "import pickle\n",
    "from pathlib import Path\n",
    "\n",
    "# Ensure the directory exists\n",
    "Path(\"../tests/test_data\").mkdir(parents=True, exist_ok=True)\n",
    "\n",
    "# Save the result object to the specified file\n",
    "with Path(\"../tests/test_data/mandelbrot_humblobject.pkl\").open(\"wb\") as file:\n",
    "    pickle.dump(result, file)\n",
    "\n",
    "print(\"Result object saved successfully.\")\n"
   ]
  }
 ],
 "metadata": {
  "kernelspec": {
   "display_name": "Python 3",
   "language": "python",
   "name": "python3"
  },
  "language_info": {
   "codemirror_mode": {
    "name": "ipython",
    "version": 3
   },
   "file_extension": ".py",
   "mimetype": "text/x-python",
   "name": "python",
   "nbconvert_exporter": "python",
   "pygments_lexer": "ipython3",
   "version": "3.12.7"
  }
 },
 "nbformat": 4,
 "nbformat_minor": 2
}
