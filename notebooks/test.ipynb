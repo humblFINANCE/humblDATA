{
 "cells": [
  {
   "cell_type": "code",
   "execution_count": 3,
   "metadata": {},
   "outputs": [
    {
     "name": "stdout",
     "output_type": "stream",
     "text": [
      "The autoreload extension is already loaded. To reload it, use:\n",
      "  %reload_ext autoreload\n"
     ]
    }
   ],
   "source": [
    "%load_ext autoreload\n",
    "%autoreload 2\n",
    "\n",
    "import polars as pl\n",
    "\n",
    "from humbldata.core.utils.env import Env\n",
    "from humbldata.core.utils.openbb_helpers import obb_login\n",
    "\n",
    "# obb_login()"
   ]
  },
  {
   "cell_type": "code",
   "execution_count": null,
   "metadata": {},
   "outputs": [],
   "source": [
    "%load_ext autoreload\n",
    "%autoreload\n",
    "\n",
    "from humbldata.toolbox.toolbox_controller import Toolbox\n",
    "\n",
    "toolbox = Toolbox(\n",
    "    symbols=\"SPY,IWM,DIA,QQQ\",\n",
    "    interval=\"1d\",\n",
    "    start_date=\"2000-01-01\",\n",
    "    end_date=\"2024-12-03\",\n",
    "    # membership=\"anonymous\"\n",
    ")\n",
    "toolbox"
   ]
  },
  {
   "cell_type": "code",
   "execution_count": null,
   "metadata": {},
   "outputs": [],
   "source": [
    "# import nest_asyncio\n",
    "# nest_asyncio.apply()\n",
    "\n",
    "result = toolbox.technical.humbl_channel(historical=False, window=\"1mo\", _boundary_group_down=False, chart=True)\n",
    "result"
   ]
  },
  {
   "cell_type": "code",
   "execution_count": null,
   "metadata": {},
   "outputs": [],
   "source": [
    "result.to_polars()"
   ]
  },
  {
   "cell_type": "code",
   "execution_count": null,
   "metadata": {},
   "outputs": [],
   "source": [
    "result.command_params"
   ]
  },
  {
   "cell_type": "code",
   "execution_count": null,
   "metadata": {},
   "outputs": [],
   "source": [
    "result.context_params"
   ]
  },
  {
   "cell_type": "markdown",
   "metadata": {},
   "source": [
    "## Test `calc_up_down_pct`\n"
   ]
  },
  {
   "cell_type": "code",
   "execution_count": null,
   "metadata": {},
   "outputs": [],
   "source": [
    "from humbldata.portfolio.analytics.watchlist.helpers import calc_up_down_pct\n",
    "\n",
    "\n",
    "df = pl.DataFrame({\n",
    "    \"symbol\": [\"AAPL\", \"GOOGL\", \"MSFT\"],\n",
    "    \"bottom_price\": [5.18, 15.07, 16.24],\n",
    "    \"recent_price\": [10.05, 20.31, 16.42],\n",
    "    \"top_price\": [11.23, 25.17, 30.09],\n",
    "})\n",
    "result = calc_up_down_pct(df)\n",
    "print(result)"
   ]
  },
  {
   "cell_type": "markdown",
   "metadata": {},
   "source": [
    "# Setting up UserTable"
   ]
  },
  {
   "cell_type": "code",
   "execution_count": null,
   "metadata": {},
   "outputs": [],
   "source": [
    "%load_ext autoreload\n",
    "%autoreload 2\n",
    "\n",
    "from humbldata.core.standard_models.portfolio.analytics.watchlist_table import (\n",
    "    WatchlistTableQueryParams,\n",
    ")\n",
    "from humbldata.core.utils.openbb_helpers import get_latest_price\n",
    "\n",
    "symbols = WatchlistTableQueryParams(symbol=\"AAPL, MSFT, NVDA\").symbol\n",
    "symbols"
   ]
  },
  {
   "cell_type": "markdown",
   "metadata": {},
   "source": [
    "# Tesing Async\n"
   ]
  },
  {
   "cell_type": "markdown",
   "metadata": {},
   "source": [
    "## Get Sector Async"
   ]
  },
  {
   "cell_type": "code",
   "execution_count": 6,
   "metadata": {},
   "outputs": [
    {
     "name": "stderr",
     "output_type": "stream",
     "text": [
      "\u001b[1;35mINFO:\u001b[0m \u001b[36mOpenBBAPIClient\u001b[0m || \u001b[32mSTART: fetch_data (async)\u001b[0m\n",
      "\u001b[1;35mINFO:\u001b[0m \u001b[36mOpenBBAPIClient\u001b[0m || \u001b[32mPrepared request for: https://data.humblfinance.io/api/v1/equity/profile?symbol=AAPL,NVDA,TSLA&provider=yfinance\u001b[0m\n",
      "\u001b[1;35mINFO:\u001b[0m \u001b[36mRateLimiter\u001b[0m || \u001b[32mChecking Rate Limits for Provider: yfinance Route: /equity/profile | 9/10 remaining (resets at 2025-05-21T22:03:39.733718)\u001b[0m\n",
      "\u001b[1;35mINFO:\u001b[0m \u001b[36mRateLimiter\u001b[0m || \u001b[32mUpdating Rate Limit - Provider: yfinance Route: /equity/profile | 8/10 remaining (resets at 2025-05-21T22:03:39.733718)\u001b[0m\n",
      "\u001b[1;35mINFO:\u001b[0m \u001b[36mOpenBBAPIClient\u001b[0m || \u001b[32mFetching data from: https://data.humblfinance.io/api/v1/equity/profile?symbol=AAPL,NVDA,TSLA&provider=yfinance\u001b[0m\n"
     ]
    },
    {
     "name": "stdout",
     "output_type": "stream",
     "text": [
      "The autoreload extension is already loaded. To reload it, use:\n",
      "  %reload_ext autoreload\n"
     ]
    },
    {
     "name": "stderr",
     "output_type": "stream",
     "text": [
      "\u001b[1;35mINFO:\u001b[0m \u001b[36mOpenBBAPIClient\u001b[0m || \u001b[32mEND: fetch_data (async) - Total time: 8.7518s\u001b[0m\n"
     ]
    },
    {
     "data": {
      "text/html": [
       "<div><style>\n",
       ".dataframe > thead > tr,\n",
       ".dataframe > tbody > tr {\n",
       "  text-align: right;\n",
       "  white-space: pre-wrap;\n",
       "}\n",
       "</style>\n",
       "<small>shape: (3, 2)</small><table border=\"1\" class=\"dataframe\"><thead><tr><th>symbol</th><th>sector</th></tr><tr><td>str</td><td>str</td></tr></thead><tbody><tr><td>&quot;AAPL&quot;</td><td>&quot;Technology&quot;</td></tr><tr><td>&quot;NVDA&quot;</td><td>&quot;Technology&quot;</td></tr><tr><td>&quot;TSLA&quot;</td><td>&quot;Consumer Cyclical&quot;</td></tr></tbody></table></div>"
      ],
      "text/plain": [
       "shape: (3, 2)\n",
       "┌────────┬───────────────────┐\n",
       "│ symbol ┆ sector            │\n",
       "│ ---    ┆ ---               │\n",
       "│ str    ┆ str               │\n",
       "╞════════╪═══════════════════╡\n",
       "│ AAPL   ┆ Technology        │\n",
       "│ NVDA   ┆ Technology        │\n",
       "│ TSLA   ┆ Consumer Cyclical │\n",
       "└────────┴───────────────────┘"
      ]
     },
     "execution_count": 6,
     "metadata": {},
     "output_type": "execute_result"
    }
   ],
   "source": [
    "%load_ext autoreload\n",
    "%autoreload 2\n",
    "\n",
    "import polars as pl\n",
    "\n",
    "from humbldata.core.utils.openbb_helpers import (\n",
    "    aget_equity_sector,\n",
    "    aget_etf_category,\n",
    ")\n",
    "\n",
    "stocks = pl.Series([\n",
    "    \"GOOGL\",  # Communication Services\n",
    "    \"AMZN\",   # Consumer Discretionary\n",
    "    \"KO\",     # Consumer Staples\n",
    "    \"XOM\",    # Energy\n",
    "    \"JPM\",    # Financials\n",
    "    \"JNJ\",    # Health Care\n",
    "    \"HON\",    # Industrials\n",
    "    \"AAPL\",   # Information Technology\n",
    "    \"LIN\",    # Materials\n",
    "    \"PLD\",    # Real Estate\n",
    "    \"NEE\"     # Utilities\n",
    "])\n",
    "\n",
    "# Define objects and lists for different symbol groups\n",
    "\n",
    "# Equities\n",
    "equity_symbols = [\"AAPL\", \"NVDA\", \"TSLA\"]\n",
    "\n",
    "# ETFs\n",
    "etf_symbols = [\"XLE\", \"XLF\", \"XLU\"]\n",
    "\n",
    "# Mixed (equities and ETFs)\n",
    "mixed_symbols = [\"AAPL\", \"XLE\", \"XLU\", \"TSLA\"]\n",
    "\n",
    "# Edge cases\n",
    "edge_symbols = [\"BITI\", \"LNGG\", \"ETHU\", \"DBA\"]\n",
    "\n",
    "\n",
    "# test = (await aget_etf_category(symbols=[\"AAPL\", \"XLE\", \"DBA\"], provider=\"yfinance\")).collect()\n",
    "test2 = (await aget_equity_sector(symbols=equity_symbols, provider=\"yfinance\")).collect()\n",
    "# test2 = (await aget_equity_sector(symbols=[\"XLE\", \"AAPL\"], provider=\"yfinance\")).collect()\n",
    "test2"
   ]
  },
  {
   "cell_type": "code",
   "execution_count": 7,
   "metadata": {},
   "outputs": [
    {
     "data": {
      "text/html": [
       "<div><style>\n",
       ".dataframe > thead > tr,\n",
       ".dataframe > tbody > tr {\n",
       "  text-align: right;\n",
       "  white-space: pre-wrap;\n",
       "}\n",
       "</style>\n",
       "<small>shape: (4, 2)</small><table border=\"1\" class=\"dataframe\"><thead><tr><th>symbol</th><th>category</th></tr><tr><td>str</td><td>str</td></tr></thead><tbody><tr><td>&quot;BITI&quot;</td><td>null</td></tr><tr><td>&quot;LNGG&quot;</td><td>null</td></tr><tr><td>&quot;ETHU&quot;</td><td>null</td></tr><tr><td>&quot;DBA&quot;</td><td>null</td></tr></tbody></table></div>"
      ],
      "text/plain": [
       "shape: (4, 2)\n",
       "┌────────┬──────────┐\n",
       "│ symbol ┆ category │\n",
       "│ ---    ┆ ---      │\n",
       "│ str    ┆ str      │\n",
       "╞════════╪══════════╡\n",
       "│ BITI   ┆ null     │\n",
       "│ LNGG   ┆ null     │\n",
       "│ ETHU   ┆ null     │\n",
       "│ DBA    ┆ null     │\n",
       "└────────┴──────────┘"
      ]
     },
     "execution_count": 7,
     "metadata": {},
     "output_type": "execute_result"
    }
   ],
   "source": [
    "symbols = [\"CORN\", 'SLV', 'DBA', \"XLE\", \"AAPL\", \"FXE\", \"SPY\", \"QQQ\", \"BITO\", \"MAXI\", \"SATO\", \"BIL\", \"LQD\", \"QAI\", \"MNA\", \"CLSE\"]\n",
    "symbols2 = [\"AAPL\", \"FXE\", \"SPY\", \"MAXI\", \"GLD\"]\n",
    "symbols3 = commodity_etf_symbols = [\"GLD\", \"IAU\", \"SLV\", \"GLDM\", \"PDBC\", \"SGOL\", \"FTGC\", \"DBC\", \"SIVR\", \"USO\", \"IAUM\", \"GSG\", \"BCI\", \"PPLT\", \"COMT\", \"GLTR\", \"OUNZ\", \"BAR\", \"UNG\", \"DBA\", \"AAAU\", \"DJP\", \"CMDT\", \"KRBN\", \"PALL\", \"COM\", \"NBCM\", \"CMDY\", \"DBO\", \"BCD\", \"KCCA\", \"CPER\", \"HGER\", \"USCI\", \"DBB\", \"DBP\", \"GCC\", \"WEAT\", \"BNO\", \"UGA\", \"DGP\", \"IGLD\", \"COMB\", \"DBE\", \"FGDL\", \"CORN\", \"USL\", \"CCRV\", \"DJCB\", \"IAUF\", \"PLTM\", \"BDRY\", \"PDBA\", \"BGLD\", \"UCIB\", \"SOYB\", \"GRN\", \"PIT\", \"BCIM\", \"RENW\", \"SDCI\", \"UNL\", \"SHNY\", \"DCMT\", \"TAGS\", \"CANE\", \"TMET\", \"KEUA\", \"HCOM\", \"HARD\", \"EVMT\", \"USG\", \"AMPD\", \"DZZ\", \"DGZ\", \"KMET\", \"CMCI\", \"USOY\", \"ZSC\", \"TILL\", \"BWET\", \"DULL\", \"ZSB\", \"LNGG\", \"USOI\", \"OILK\", \"SLVO\", \"GLDI\", \"BOIL\", \"KOLD\", \"AGQ\", \"GLL\", \"UGL\", \"ZSL\", \"UCO\", \"SCO\"]\n",
    "\n",
    "\n",
    "\n",
    "df = (await aget_etf_category(symbols=edge_symbols)).collect()\n",
    "df"
   ]
  },
  {
   "cell_type": "code",
   "execution_count": 8,
   "metadata": {},
   "outputs": [
    {
     "data": {
      "text/html": [
       "<div><style>\n",
       ".dataframe > thead > tr,\n",
       ".dataframe > tbody > tr {\n",
       "  text-align: right;\n",
       "  white-space: pre-wrap;\n",
       "}\n",
       "</style>\n",
       "<small>shape: (4, 2)</small><table border=\"1\" class=\"dataframe\"><thead><tr><th>symbol</th><th>category</th></tr><tr><td>str</td><td>str</td></tr></thead><tbody><tr><td>&quot;BITI&quot;</td><td>&quot;Crypto&quot;</td></tr><tr><td>&quot;LNGG&quot;</td><td>&quot;Commodity&quot;</td></tr><tr><td>&quot;ETHU&quot;</td><td>&quot;Crypto&quot;</td></tr><tr><td>&quot;DBA&quot;</td><td>null</td></tr></tbody></table></div>"
      ],
      "text/plain": [
       "shape: (4, 2)\n",
       "┌────────┬───────────┐\n",
       "│ symbol ┆ category  │\n",
       "│ ---    ┆ ---       │\n",
       "│ str    ┆ str       │\n",
       "╞════════╪═══════════╡\n",
       "│ BITI   ┆ Crypto    │\n",
       "│ LNGG   ┆ Commodity │\n",
       "│ ETHU   ┆ Crypto    │\n",
       "│ DBA    ┆ null      │\n",
       "└────────┴───────────┘"
      ]
     },
     "execution_count": 8,
     "metadata": {},
     "output_type": "execute_result"
    }
   ],
   "source": [
    "from humbldata.portfolio.analytics.watchlist.helpers import normalize_asset_class\n",
    "\n",
    "\n",
    "normalized_df = normalize_asset_class(df).select([\"symbol\", \"category\"])\n",
    "normalized_df"
   ]
  },
  {
   "cell_type": "code",
   "execution_count": 9,
   "metadata": {},
   "outputs": [
    {
     "name": "stdout",
     "output_type": "stream",
     "text": [
      "The autoreload extension is already loaded. To reload it, use:\n",
      "  %reload_ext autoreload\n"
     ]
    },
    {
     "data": {
      "text/html": [
       "<div><style>\n",
       ".dataframe > thead > tr,\n",
       ".dataframe > tbody > tr {\n",
       "  text-align: right;\n",
       "  white-space: pre-wrap;\n",
       "}\n",
       "</style>\n",
       "<small>shape: (4, 2)</small><table border=\"1\" class=\"dataframe\"><thead><tr><th>symbol</th><th>category</th></tr><tr><td>str</td><td>str</td></tr></thead><tbody><tr><td>&quot;BITI&quot;</td><td>null</td></tr><tr><td>&quot;LNGG&quot;</td><td>null</td></tr><tr><td>&quot;ETHU&quot;</td><td>null</td></tr><tr><td>&quot;DBA&quot;</td><td>null</td></tr></tbody></table></div>"
      ],
      "text/plain": [
       "shape: (4, 2)\n",
       "┌────────┬──────────┐\n",
       "│ symbol ┆ category │\n",
       "│ ---    ┆ ---      │\n",
       "│ str    ┆ str      │\n",
       "╞════════╪══════════╡\n",
       "│ BITI   ┆ null     │\n",
       "│ LNGG   ┆ null     │\n",
       "│ ETHU   ┆ null     │\n",
       "│ DBA    ┆ null     │\n",
       "└────────┴──────────┘"
      ]
     },
     "execution_count": 9,
     "metadata": {},
     "output_type": "execute_result"
    }
   ],
   "source": [
    "%load_ext autoreload\n",
    "%autoreload 2\n",
    "\n",
    "from humbldata.core.utils.openbb_helpers import aget_etf_category\n",
    "\n",
    "\n",
    "df2 = (await aget_etf_category(symbols=edge_symbols)).collect()\n",
    "df2"
   ]
  },
  {
   "cell_type": "code",
   "execution_count": 10,
   "metadata": {},
   "outputs": [
    {
     "name": "stderr",
     "output_type": "stream",
     "text": [
      "\u001b[1;35mINFO:\u001b[0m \u001b[36mOpenBBAPIClient\u001b[0m || \u001b[32mSTART: fetch_data (async)\u001b[0m\n",
      "\u001b[1;35mINFO:\u001b[0m \u001b[36mOpenBBAPIClient\u001b[0m || \u001b[32mPrepared request for: https://data.humblfinance.io/api/v1/etf/info?symbol=XLE,XLF,XLK&provider=yfinance\u001b[0m\n",
      "\u001b[1;35mINFO:\u001b[0m \u001b[36mRateLimiter\u001b[0m || \u001b[32mChecking Rate Limits for Provider: yfinance Route: /etf/info | 10/10 remaining (resets at 2025-05-21T22:03:47.376127)\u001b[0m\n",
      "\u001b[1;35mINFO:\u001b[0m \u001b[36mRateLimiter\u001b[0m || \u001b[32mUpdating Rate Limit - Provider: yfinance Route: /etf/info | 9/10 remaining (resets at 2025-05-21T22:03:47.376127)\u001b[0m\n",
      "\u001b[1;35mINFO:\u001b[0m \u001b[36mOpenBBAPIClient\u001b[0m || \u001b[32mFetching data from: https://data.humblfinance.io/api/v1/etf/info?symbol=XLE,XLF,XLK&provider=yfinance\u001b[0m\n"
     ]
    },
    {
     "name": "stdout",
     "output_type": "stream",
     "text": [
      "The autoreload extension is already loaded. To reload it, use:\n",
      "  %reload_ext autoreload\n"
     ]
    },
    {
     "name": "stderr",
     "output_type": "stream",
     "text": [
      "\u001b[1;35mINFO:\u001b[0m \u001b[36mOpenBBAPIClient\u001b[0m || \u001b[32mEND: fetch_data (async) - Total time: 5.6062s\u001b[0m\n"
     ]
    },
    {
     "data": {
      "text/html": [
       "<div><style>\n",
       ".dataframe > thead > tr,\n",
       ".dataframe > tbody > tr {\n",
       "  text-align: right;\n",
       "  white-space: pre-wrap;\n",
       "}\n",
       "</style>\n",
       "<small>shape: (3, 2)</small><table border=\"1\" class=\"dataframe\"><thead><tr><th>symbol</th><th>asset_class</th></tr><tr><td>str</td><td>str</td></tr></thead><tbody><tr><td>&quot;XLE&quot;</td><td>&quot;Equity&quot;</td></tr><tr><td>&quot;XLF&quot;</td><td>&quot;Equity&quot;</td></tr><tr><td>&quot;XLK&quot;</td><td>&quot;Equity&quot;</td></tr></tbody></table></div>"
      ],
      "text/plain": [
       "shape: (3, 2)\n",
       "┌────────┬─────────────┐\n",
       "│ symbol ┆ asset_class │\n",
       "│ ---    ┆ ---         │\n",
       "│ str    ┆ str         │\n",
       "╞════════╪═════════════╡\n",
       "│ XLE    ┆ Equity      │\n",
       "│ XLF    ┆ Equity      │\n",
       "│ XLK    ┆ Equity      │\n",
       "└────────┴─────────────┘"
      ]
     },
     "execution_count": 10,
     "metadata": {},
     "output_type": "execute_result"
    }
   ],
   "source": [
    "%load_ext autoreload\n",
    "%autoreload 2\n",
    "\n",
    "from humbldata.portfolio.analytics.watchlist.helpers import aget_asset_class_filter\n",
    "\n",
    "(await aget_asset_class_filter(symbols=[\"XLE\", \"XLF\", \"XLK\"])).collect()"
   ]
  },
  {
   "cell_type": "markdown",
   "metadata": {},
   "source": [
    "## Test aget_sector_filter"
   ]
  },
  {
   "cell_type": "code",
   "execution_count": 11,
   "metadata": {},
   "outputs": [
    {
     "name": "stderr",
     "output_type": "stream",
     "text": [
      "\u001b[1;35mINFO:\u001b[0m \u001b[36mOpenBBAPIClient\u001b[0m || \u001b[32mSTART: fetch_data (async)\u001b[0m\n",
      "\u001b[1;35mINFO:\u001b[0m \u001b[36mOpenBBAPIClient\u001b[0m || \u001b[32mPrepared request for: https://data.humblfinance.io/api/v1/equity/profile?symbol=AAPL,XLE,XLU,TSLA&provider=yfinance\u001b[0m\n",
      "\u001b[1;35mINFO:\u001b[0m \u001b[36mRateLimiter\u001b[0m || \u001b[32mChecking Rate Limits for Provider: yfinance Route: /equity/profile | 10/10 remaining (resets at 2025-05-21T22:03:58.339113)\u001b[0m\n",
      "\u001b[1;35mINFO:\u001b[0m \u001b[36mRateLimiter\u001b[0m || \u001b[32mUpdating Rate Limit - Provider: yfinance Route: /equity/profile | 9/10 remaining (resets at 2025-05-21T22:03:58.339113)\u001b[0m\n"
     ]
    },
    {
     "name": "stderr",
     "output_type": "stream",
     "text": [
      "\u001b[1;35mINFO:\u001b[0m \u001b[36mOpenBBAPIClient\u001b[0m || \u001b[32mFetching data from: https://data.humblfinance.io/api/v1/equity/profile?symbol=AAPL,XLE,XLU,TSLA&provider=yfinance\u001b[0m\n"
     ]
    },
    {
     "name": "stdout",
     "output_type": "stream",
     "text": [
      "The autoreload extension is already loaded. To reload it, use:\n",
      "  %reload_ext autoreload\n"
     ]
    },
    {
     "name": "stderr",
     "output_type": "stream",
     "text": [
      "\u001b[1;35mINFO:\u001b[0m \u001b[36mOpenBBAPIClient\u001b[0m || \u001b[32mEND: fetch_data (async) - Total time: 6.7402s\u001b[0m\n",
      "\u001b[1;35mINFO:\u001b[0m \u001b[36mOpenBBAPIClient\u001b[0m || \u001b[32mSTART: fetch_data (async)\u001b[0m\n",
      "\u001b[1;35mINFO:\u001b[0m \u001b[36mOpenBBAPIClient\u001b[0m || \u001b[32mPrepared request for: https://data.humblfinance.io/api/v1/etf/info?symbol=XLE,XLU&provider=yfinance\u001b[0m\n",
      "\u001b[1;35mINFO:\u001b[0m \u001b[36mRateLimiter\u001b[0m || \u001b[32mChecking Rate Limits for Provider: yfinance Route: /etf/info | 9/10 remaining (resets at 2025-05-21T22:04:47.376870)\u001b[0m\n",
      "\u001b[1;35mINFO:\u001b[0m \u001b[36mRateLimiter\u001b[0m || \u001b[32mUpdating Rate Limit - Provider: yfinance Route: /etf/info | 8/10 remaining (resets at 2025-05-21T22:04:47.376870)\u001b[0m\n",
      "\u001b[1;35mINFO:\u001b[0m \u001b[36mOpenBBAPIClient\u001b[0m || \u001b[32mFetching data from: https://data.humblfinance.io/api/v1/etf/info?symbol=XLE,XLU&provider=yfinance\u001b[0m\n",
      "\u001b[1;35mINFO:\u001b[0m \u001b[36mOpenBBAPIClient\u001b[0m || \u001b[32mEND: fetch_data (async) - Total time: 3.3136s\u001b[0m\n"
     ]
    },
    {
     "data": {
      "text/html": [
       "<div><style>\n",
       ".dataframe > thead > tr,\n",
       ".dataframe > tbody > tr {\n",
       "  text-align: right;\n",
       "  white-space: pre-wrap;\n",
       "}\n",
       "</style>\n",
       "<small>shape: (4, 2)</small><table border=\"1\" class=\"dataframe\"><thead><tr><th>symbol</th><th>sector</th></tr><tr><td>str</td><td>str</td></tr></thead><tbody><tr><td>&quot;AAPL&quot;</td><td>&quot;Technology&quot;</td></tr><tr><td>&quot;TSLA&quot;</td><td>&quot;Consumer Cyclical&quot;</td></tr><tr><td>&quot;XLE&quot;</td><td>&quot;Energy&quot;</td></tr><tr><td>&quot;XLU&quot;</td><td>&quot;Utilities&quot;</td></tr></tbody></table></div>"
      ],
      "text/plain": [
       "shape: (4, 2)\n",
       "┌────────┬───────────────────┐\n",
       "│ symbol ┆ sector            │\n",
       "│ ---    ┆ ---               │\n",
       "│ str    ┆ str               │\n",
       "╞════════╪═══════════════════╡\n",
       "│ AAPL   ┆ Technology        │\n",
       "│ TSLA   ┆ Consumer Cyclical │\n",
       "│ XLE    ┆ Energy            │\n",
       "│ XLU    ┆ Utilities         │\n",
       "└────────┴───────────────────┘"
      ]
     },
     "execution_count": 11,
     "metadata": {},
     "output_type": "execute_result"
    }
   ],
   "source": [
    "%load_ext autoreload\n",
    "%autoreload 2\n",
    "\n",
    "from humbldata.portfolio.analytics.watchlist.helpers import aget_sector_filter\n",
    "\n",
    "etf_data = pl.LazyFrame({\n",
    "    \"symbol\": [\"BITI\", \"LNGG\", \"ETHU\", \"DBA\"],\n",
    "    \"category\": [\n",
    "        \"Trading--Miscellaneous\",\n",
    "        \"Equity Energy\",\n",
    "        None,\n",
    "        \"Commodities Focused\",\n",
    "    ]\n",
    "})\n",
    "\n",
    "(await aget_sector_filter(symbols=mixed_symbols)).collect()"
   ]
  },
  {
   "cell_type": "markdown",
   "metadata": {},
   "source": [
    "# Test user_table_engine"
   ]
  },
  {
   "cell_type": "code",
   "execution_count": 13,
   "metadata": {},
   "outputs": [
    {
     "name": "stderr",
     "output_type": "stream",
     "text": [
      "\u001b[1;35mWARNING:\u001b[0m \u001b[36mToolboxQueryParams\u001b[0m || \u001b[1;33mStart date adjusted to 2024-05-22 based on anonymous membership (1Y of data).\u001b[0m\n",
      "\u001b[1;35mINFO:\u001b[0m \u001b[36mHumblChannelFetcher\u001b[0m || \u001b[32mSTART: fetch_data (async)\u001b[0m\n",
      "\u001b[1;35mDEBUG:\u001b[0m \u001b[36mHumblChannelFetcher\u001b[0m || \u001b[34mRunning .transform_query()\u001b[0m\n",
      "\u001b[1;35mDEBUG:\u001b[0m \u001b[36mHumblChannelFetcher\u001b[0m || \u001b[34mRunning .extract_data()\u001b[0m\n",
      "\u001b[1;35mINFO:\u001b[0m \u001b[36mOpenBBAPIClient\u001b[0m || \u001b[32mSTART: fetch_data (async)\u001b[0m\n",
      "\u001b[1;35mINFO:\u001b[0m \u001b[36mOpenBBAPIClient\u001b[0m || \u001b[32mPrepared request for: https://data.humblfinance.io/api/v1/equity/price/historical?provider=yfinance&symbol=BITI,LNGG,ETHU,DBA&start_date=2024-05-22&end_date=2025-05-22\u001b[0m\n",
      "\u001b[1;35mINFO:\u001b[0m \u001b[36mRateLimiter\u001b[0m || \u001b[32mChecking Rate Limits for Provider: yfinance Route: /equity/price/historical | 9/10 remaining (resets at 2025-05-21T22:05:13.077121)\u001b[0m\n",
      "\u001b[1;35mINFO:\u001b[0m \u001b[36mRateLimiter\u001b[0m || \u001b[32mUpdating Rate Limit - Provider: yfinance Route: /equity/price/historical | 8/10 remaining (resets at 2025-05-21T22:05:13.077121)\u001b[0m\n",
      "\u001b[1;35mINFO:\u001b[0m \u001b[36mOpenBBAPIClient\u001b[0m || \u001b[32mFetching data from: https://data.humblfinance.io/api/v1/equity/price/historical?provider=yfinance&symbol=BITI,LNGG,ETHU,DBA&start_date=2024-05-22&end_date=2025-05-22\u001b[0m\n",
      "\u001b[1;35mINFO:\u001b[0m \u001b[36mOpenBBAPIClient\u001b[0m || \u001b[32mEND: fetch_data (async) - Total time: 2.9443s\u001b[0m\n",
      "\u001b[1;35mDEBUG:\u001b[0m \u001b[36mHumblChannelFetcher\u001b[0m || \u001b[34mRunning .transform_data()\u001b[0m\n",
      "\u001b[1;35mDEBUG:\u001b[0m \u001b[36mhumbl_momentum.model\u001b[0m || \u001b[34mCalculating momentum using method: shift, window: 30\u001b[0m\n",
      "\u001b[1;35mDEBUG:\u001b[0m \u001b[36mhumbl_momentum.model\u001b[0m || \u001b[34mUsing simple shift calculation\u001b[0m\n",
      "\u001b[1;35mINFO:\u001b[0m \u001b[36mHumblChannelFetcher\u001b[0m || \u001b[32mEND: fetch_data (async) - Total time: 2.9674s\u001b[0m\n",
      "\u001b[1;35mINFO:\u001b[0m \u001b[36mOpenBBAPIClient\u001b[0m || \u001b[32mSTART: fetch_data (async)\u001b[0m\n",
      "\u001b[1;35mINFO:\u001b[0m \u001b[36mOpenBBAPIClient\u001b[0m || \u001b[32mPrepared request for: https://data.humblfinance.io/api/v1/equity/price/quote?symbol=BITI,LNGG,ETHU,DBA&provider=yfinance\u001b[0m\n",
      "\u001b[1;35mINFO:\u001b[0m \u001b[36mRateLimiter\u001b[0m || \u001b[32mChecking Rate Limits for Provider: yfinance Route: /equity/price/quote | 9/10 remaining (resets at 2025-05-21T22:05:15.945524)\u001b[0m\n",
      "\u001b[1;35mINFO:\u001b[0m \u001b[36mRateLimiter\u001b[0m || \u001b[32mUpdating Rate Limit - Provider: yfinance Route: /equity/price/quote | 8/10 remaining (resets at 2025-05-21T22:05:15.945524)\u001b[0m\n",
      "\u001b[1;35mINFO:\u001b[0m \u001b[36mOpenBBAPIClient\u001b[0m || \u001b[32mFetching data from: https://data.humblfinance.io/api/v1/equity/price/quote?symbol=BITI,LNGG,ETHU,DBA&provider=yfinance\u001b[0m\n",
      "\u001b[1;35mINFO:\u001b[0m \u001b[36mOpenBBAPIClient\u001b[0m || \u001b[32mSTART: fetch_data (async)\u001b[0m\n",
      "\u001b[1;35mINFO:\u001b[0m \u001b[36mOpenBBAPIClient\u001b[0m || \u001b[32mPrepared request for: https://data.humblfinance.io/api/v1/equity/profile?symbol=BITI,LNGG,ETHU,DBA&provider=yfinance\u001b[0m\n",
      "\u001b[1;35mINFO:\u001b[0m \u001b[36mRateLimiter\u001b[0m || \u001b[32mChecking Rate Limits for Provider: yfinance Route: /equity/profile | 8/10 remaining (resets at 2025-05-21T22:04:58.339513)\u001b[0m\n",
      "\u001b[1;35mINFO:\u001b[0m \u001b[36mRateLimiter\u001b[0m || \u001b[32mUpdating Rate Limit - Provider: yfinance Route: /equity/profile | 7/10 remaining (resets at 2025-05-21T22:04:58.339513)\u001b[0m\n",
      "\u001b[1;35mINFO:\u001b[0m \u001b[36mOpenBBAPIClient\u001b[0m || \u001b[32mFetching data from: https://data.humblfinance.io/api/v1/equity/profile?symbol=BITI,LNGG,ETHU,DBA&provider=yfinance\u001b[0m\n",
      "\u001b[1;35mINFO:\u001b[0m \u001b[36mOpenBBAPIClient\u001b[0m || \u001b[32mEND: fetch_data (async) - Total time: 6.0005s\u001b[0m\n",
      "\u001b[1;35mINFO:\u001b[0m \u001b[36mOpenBBAPIClient\u001b[0m || \u001b[32mEND: fetch_data (async) - Total time: 13.6128s\u001b[0m\n"
     ]
    },
    {
     "data": {
      "text/html": [
       "<div><style>\n",
       ".dataframe > thead > tr,\n",
       ".dataframe > tbody > tr {\n",
       "  text-align: right;\n",
       "  white-space: pre-wrap;\n",
       "}\n",
       "</style>\n",
       "<small>shape: (4, 10)</small><table border=\"1\" class=\"dataframe\"><thead><tr><th>date</th><th>symbol</th><th>buy_price</th><th>last_price</th><th>sell_price</th><th>ud_pct</th><th>ud_ratio</th><th>sector</th><th>asset_class</th><th>momentum_signal</th></tr><tr><td>date</td><td>str</td><td>f64</td><td>f64</td><td>f64</td><td>str</td><td>f64</td><td>str</td><td>str</td><td>i8</td></tr></thead><tbody><tr><td>2025-05-21</td><td>&quot;BITI&quot;</td><td>18.4495</td><td>19.5</td><td>20.0299</td><td>&quot;-5.39 / +2.72&quot;</td><td>0.34</td><td>null</td><td>&quot;Crypto&quot;</td><td>0</td></tr><tr><td>2025-05-21</td><td>&quot;DBA&quot;</td><td>27.4146</td><td>27.68</td><td>28.1241</td><td>&quot;-0.96 / +1.6&quot;</td><td>0.63</td><td>null</td><td>&quot;Equity&quot;</td><td>1</td></tr><tr><td>2025-05-21</td><td>&quot;ETHU&quot;</td><td>52.2694</td><td>60.16</td><td>73.2018</td><td>&quot;-13.12 / +21.68&quot;</td><td>0.62</td><td>null</td><td>&quot;Crypto&quot;</td><td>1</td></tr><tr><td>2024-11-29</td><td>&quot;LNGG&quot;</td><td>26.0506</td><td>26.8815</td><td>27.2652</td><td>&quot;-3.09 / +1.43&quot;</td><td>0.32</td><td>null</td><td>&quot;Commodity&quot;</td><td>1</td></tr></tbody></table></div>"
      ],
      "text/plain": [
       "shape: (4, 10)\n",
       "┌────────────┬────────┬───────────┬────────────┬───┬──────────┬────────┬─────────────┬─────────────┐\n",
       "│ date       ┆ symbol ┆ buy_price ┆ last_price ┆ … ┆ ud_ratio ┆ sector ┆ asset_class ┆ momentum_si │\n",
       "│ ---        ┆ ---    ┆ ---       ┆ ---        ┆   ┆ ---      ┆ ---    ┆ ---         ┆ gnal        │\n",
       "│ date       ┆ str    ┆ f64       ┆ f64        ┆   ┆ f64      ┆ str    ┆ str         ┆ ---         │\n",
       "│            ┆        ┆           ┆            ┆   ┆          ┆        ┆             ┆ i8          │\n",
       "╞════════════╪════════╪═══════════╪════════════╪═══╪══════════╪════════╪═════════════╪═════════════╡\n",
       "│ 2025-05-21 ┆ BITI   ┆ 18.4495   ┆ 19.5       ┆ … ┆ 0.34     ┆ null   ┆ Crypto      ┆ 0           │\n",
       "│ 2025-05-21 ┆ DBA    ┆ 27.4146   ┆ 27.68      ┆ … ┆ 0.63     ┆ null   ┆ Equity      ┆ 1           │\n",
       "│ 2025-05-21 ┆ ETHU   ┆ 52.2694   ┆ 60.16      ┆ … ┆ 0.62     ┆ null   ┆ Crypto      ┆ 1           │\n",
       "│ 2024-11-29 ┆ LNGG   ┆ 26.0506   ┆ 26.8815    ┆ … ┆ 0.32     ┆ null   ┆ Commodity   ┆ 1           │\n",
       "└────────────┴────────┴───────────┴────────────┴───┴──────────┴────────┴─────────────┴─────────────┘"
      ]
     },
     "execution_count": 13,
     "metadata": {},
     "output_type": "execute_result"
    }
   ],
   "source": [
    "from humbldata.portfolio.analytics.watchlist.model import watchlist_table_engine\n",
    "import polars as pl\n",
    "\n",
    "etf_data = [\n",
    "    pl.DataFrame(\n",
    "        {\"symbol\": [\"AAPL\", \"NVDA\", \"TSLA\"], \"category\": [None, None, None]}\n",
    "    ),\n",
    "    pl.DataFrame(\n",
    "        {\n",
    "            \"symbol\": [\"XLE\", \"XLF\", \"XLU\"],\n",
    "            \"category\": [\"Equity Energy\", \"Financial\", \"Utilities\"],\n",
    "        }\n",
    "    ),\n",
    "    pl.DataFrame(\n",
    "        {\n",
    "            \"symbol\": [\"AAPL\", \"XLE\", \"XLU\", \"TSLA\"],\n",
    "            \"category\": [None, \"Equity Energy\", \"Utilities\", None],\n",
    "        }\n",
    "    ),\n",
    "    pl.DataFrame(\n",
    "        {\n",
    "            \"symbol\": [\"BITI\", \"LNGG\", \"ETHU\", \"DBA\"],\n",
    "            \"category\": [\n",
    "                \"Trading--Miscellaneous\",\n",
    "                \"Equity Energy\",\n",
    "                None,\n",
    "                \"Commodities Focused\",\n",
    "            ],\n",
    "        }\n",
    "    ),\n",
    "]\n",
    "\n",
    "out: pl.LazyFrame = await watchlist_table_engine(symbols=edge_symbols)\n",
    "out.collect()"
   ]
  },
  {
   "cell_type": "markdown",
   "metadata": {},
   "source": [
    "## Test UserTableFetcher"
   ]
  },
  {
   "cell_type": "markdown",
   "metadata": {},
   "source": []
  },
  {
   "cell_type": "code",
   "execution_count": null,
   "metadata": {},
   "outputs": [],
   "source": [
    "%load_ext autoreload\n",
    "%autoreload 2\n",
    "\n",
    "from humbldata.portfolio.portfolio_controller import Portfolio\n",
    "\n",
    "portfolio = Portfolio(symbols=[\"AAPL\"], user_role=\"anonymous\")\n",
    "portfolio"
   ]
  },
  {
   "cell_type": "code",
   "execution_count": null,
   "metadata": {},
   "outputs": [],
   "source": [
    "result = (await portfolio.analytics.watchlist_table())"
   ]
  },
  {
   "cell_type": "code",
   "execution_count": null,
   "metadata": {},
   "outputs": [],
   "source": [
    "result.to_polars()"
   ]
  },
  {
   "cell_type": "code",
   "execution_count": null,
   "metadata": {},
   "outputs": [],
   "source": [
    "result.to_polars()"
   ]
  },
  {
   "cell_type": "code",
   "execution_count": null,
   "metadata": {},
   "outputs": [],
   "source": []
  },
  {
   "cell_type": "markdown",
   "metadata": {},
   "source": [
    "# Testing Sandbox"
   ]
  },
  {
   "cell_type": "code",
   "execution_count": null,
   "metadata": {},
   "outputs": [],
   "source": [
    "%load_ext autoreload\n",
    "%autoreload 2\n",
    "\n",
    "from humbldata.toolbox.toolbox_controller import Toolbox\n",
    "import datetime\n",
    "from datetime import timedelta\n",
    "\n",
    "# start_date = \"2020-01-01\"\n",
    "# end_date = \"2024-01-01\"\n",
    "start_date = (datetime.datetime.now() - datetime.timedelta(days=365))\n",
    "end_date = datetime.date(2024, 7, 18)\n",
    "\n",
    "toolbox = Toolbox(\n",
    "    symbols=[\"AAPL\", \"AMD\"],\n",
    "    interval=\"1d\",\n",
    "    start_date=\"2022-07-18\",\n",
    "    end_date=end_date,\n",
    "    membership=\"peon\"\n",
    ")"
   ]
  },
  {
   "cell_type": "code",
   "execution_count": null,
   "metadata": {},
   "outputs": [],
   "source": [
    "result = toolbox.technical.humbl_channel(historical=False, window=\"1m\", _boundary_group_down=False, chart=True)\n",
    "result\n"
   ]
  },
  {
   "cell_type": "code",
   "execution_count": null,
   "metadata": {},
   "outputs": [],
   "source": [
    "result.warnings[0]"
   ]
  },
  {
   "cell_type": "code",
   "execution_count": null,
   "metadata": {},
   "outputs": [],
   "source": [
    "import pickle\n",
    "from pathlib import Path\n",
    "\n",
    "# Ensure the directory exists\n",
    "Path(\"../tests/test_data\").mkdir(parents=True, exist_ok=True)\n",
    "\n",
    "# Save the result object to the specified file\n",
    "with Path(\"../tests/test_data/mandelbrot_humblobject.pkl\").open(\"wb\") as file:\n",
    "    pickle.dump(result, file)\n",
    "\n",
    "print(\"Result object saved successfully.\")\n"
   ]
  }
 ],
 "metadata": {
  "kernelspec": {
   "display_name": ".venv",
   "language": "python",
   "name": "python3"
  },
  "language_info": {
   "codemirror_mode": {
    "name": "ipython",
    "version": 3
   },
   "file_extension": ".py",
   "mimetype": "text/x-python",
   "name": "python",
   "nbconvert_exporter": "python",
   "pygments_lexer": "ipython3",
   "version": "3.12.10"
  }
 },
 "nbformat": 4,
 "nbformat_minor": 2
}
