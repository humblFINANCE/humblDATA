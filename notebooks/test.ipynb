{
 "cells": [
  {
   "cell_type": "code",
   "execution_count": 2,
   "metadata": {},
   "outputs": [],
   "source": [
    "%load_ext autoreload\n",
    "%autoreload 2\n",
    "\n",
    "from humbldata.core.utils.openbb_helpers import obb_login\n",
    "from openbb import obb\n",
    "from humbldata.core.utils.env import Env\n",
    "import polars as pl\n",
    "\n",
    "# obb_login()\n",
    "obb.account.login(pat=Env().OBB_PAT, remember_me=True)"
   ]
  },
  {
   "cell_type": "code",
   "execution_count": 14,
   "metadata": {},
   "outputs": [
    {
     "data": {
      "text/html": [
       "<div>\n",
       "<style scoped>\n",
       "    .dataframe tbody tr th:only-of-type {\n",
       "        vertical-align: middle;\n",
       "    }\n",
       "\n",
       "    .dataframe tbody tr th {\n",
       "        vertical-align: top;\n",
       "    }\n",
       "\n",
       "    .dataframe thead th {\n",
       "        text-align: right;\n",
       "    }\n",
       "</style>\n",
       "<table border=\"1\" class=\"dataframe\">\n",
       "  <thead>\n",
       "    <tr style=\"text-align: right;\">\n",
       "      <th></th>\n",
       "      <th>open</th>\n",
       "      <th>high</th>\n",
       "      <th>low</th>\n",
       "      <th>close</th>\n",
       "      <th>volume</th>\n",
       "      <th>vwap</th>\n",
       "      <th>adj_close</th>\n",
       "      <th>unadjusted_volume</th>\n",
       "      <th>change</th>\n",
       "      <th>change_percent</th>\n",
       "    </tr>\n",
       "    <tr>\n",
       "      <th>date</th>\n",
       "      <th></th>\n",
       "      <th></th>\n",
       "      <th></th>\n",
       "      <th></th>\n",
       "      <th></th>\n",
       "      <th></th>\n",
       "      <th></th>\n",
       "      <th></th>\n",
       "      <th></th>\n",
       "      <th></th>\n",
       "    </tr>\n",
       "  </thead>\n",
       "  <tbody>\n",
       "    <tr>\n",
       "      <th>1993-01-29</th>\n",
       "      <td>43.97</td>\n",
       "      <td>43.97</td>\n",
       "      <td>43.75</td>\n",
       "      <td>43.94</td>\n",
       "      <td>1003200</td>\n",
       "      <td>43.9075</td>\n",
       "      <td>24.61</td>\n",
       "      <td>1003200.0</td>\n",
       "      <td>-0.03080</td>\n",
       "      <td>-0.000682</td>\n",
       "    </tr>\n",
       "    <tr>\n",
       "      <th>1993-02-01</th>\n",
       "      <td>43.97</td>\n",
       "      <td>44.25</td>\n",
       "      <td>43.97</td>\n",
       "      <td>44.25</td>\n",
       "      <td>480500</td>\n",
       "      <td>44.1100</td>\n",
       "      <td>24.79</td>\n",
       "      <td>480500.0</td>\n",
       "      <td>0.28125</td>\n",
       "      <td>0.006368</td>\n",
       "    </tr>\n",
       "    <tr>\n",
       "      <th>1993-02-02</th>\n",
       "      <td>44.22</td>\n",
       "      <td>44.38</td>\n",
       "      <td>44.13</td>\n",
       "      <td>44.34</td>\n",
       "      <td>201300</td>\n",
       "      <td>44.2675</td>\n",
       "      <td>24.84</td>\n",
       "      <td>201300.0</td>\n",
       "      <td>0.12500</td>\n",
       "      <td>0.002714</td>\n",
       "    </tr>\n",
       "    <tr>\n",
       "      <th>1993-02-03</th>\n",
       "      <td>44.41</td>\n",
       "      <td>44.84</td>\n",
       "      <td>44.38</td>\n",
       "      <td>44.81</td>\n",
       "      <td>529400</td>\n",
       "      <td>44.6100</td>\n",
       "      <td>25.10</td>\n",
       "      <td>529400.0</td>\n",
       "      <td>0.40625</td>\n",
       "      <td>0.009007</td>\n",
       "    </tr>\n",
       "    <tr>\n",
       "      <th>1993-02-04</th>\n",
       "      <td>44.97</td>\n",
       "      <td>45.09</td>\n",
       "      <td>44.88</td>\n",
       "      <td>45.00</td>\n",
       "      <td>531500</td>\n",
       "      <td>44.9850</td>\n",
       "      <td>25.21</td>\n",
       "      <td>531500.0</td>\n",
       "      <td>0.03125</td>\n",
       "      <td>0.000667</td>\n",
       "    </tr>\n",
       "    <tr>\n",
       "      <th>...</th>\n",
       "      <td>...</td>\n",
       "      <td>...</td>\n",
       "      <td>...</td>\n",
       "      <td>...</td>\n",
       "      <td>...</td>\n",
       "      <td>...</td>\n",
       "      <td>...</td>\n",
       "      <td>...</td>\n",
       "      <td>...</td>\n",
       "      <td>...</td>\n",
       "    </tr>\n",
       "    <tr>\n",
       "      <th>2024-12-04</th>\n",
       "      <td>605.63</td>\n",
       "      <td>607.91</td>\n",
       "      <td>604.95</td>\n",
       "      <td>607.66</td>\n",
       "      <td>42787600</td>\n",
       "      <td>606.5375</td>\n",
       "      <td>607.66</td>\n",
       "      <td>42787600.0</td>\n",
       "      <td>2.03000</td>\n",
       "      <td>0.003352</td>\n",
       "    </tr>\n",
       "    <tr>\n",
       "      <th>2024-12-05</th>\n",
       "      <td>607.66</td>\n",
       "      <td>608.48</td>\n",
       "      <td>606.30</td>\n",
       "      <td>606.66</td>\n",
       "      <td>28762200</td>\n",
       "      <td>607.2750</td>\n",
       "      <td>606.66</td>\n",
       "      <td>28762200.0</td>\n",
       "      <td>-1.00000</td>\n",
       "      <td>-0.001646</td>\n",
       "    </tr>\n",
       "    <tr>\n",
       "      <th>2024-12-06</th>\n",
       "      <td>607.44</td>\n",
       "      <td>609.07</td>\n",
       "      <td>607.02</td>\n",
       "      <td>607.81</td>\n",
       "      <td>31241549</td>\n",
       "      <td>607.8350</td>\n",
       "      <td>607.81</td>\n",
       "      <td>31241549.0</td>\n",
       "      <td>0.37000</td>\n",
       "      <td>0.000609</td>\n",
       "    </tr>\n",
       "    <tr>\n",
       "      <th>2024-12-09</th>\n",
       "      <td>607.69</td>\n",
       "      <td>607.86</td>\n",
       "      <td>604.08</td>\n",
       "      <td>604.68</td>\n",
       "      <td>34742738</td>\n",
       "      <td>606.0775</td>\n",
       "      <td>604.68</td>\n",
       "      <td>34742738.0</td>\n",
       "      <td>-3.01000</td>\n",
       "      <td>-0.004953</td>\n",
       "    </tr>\n",
       "    <tr>\n",
       "      <th>2024-12-10</th>\n",
       "      <td>605.37</td>\n",
       "      <td>605.80</td>\n",
       "      <td>602.13</td>\n",
       "      <td>602.80</td>\n",
       "      <td>32188672</td>\n",
       "      <td>604.0250</td>\n",
       "      <td>602.80</td>\n",
       "      <td>32188672.0</td>\n",
       "      <td>-2.57000</td>\n",
       "      <td>-0.004245</td>\n",
       "    </tr>\n",
       "  </tbody>\n",
       "</table>\n",
       "<p>8024 rows × 10 columns</p>\n",
       "</div>"
      ],
      "text/plain": [
       "              open    high     low   close    volume      vwap  adj_close  \\\n",
       "date                                                                        \n",
       "1993-01-29   43.97   43.97   43.75   43.94   1003200   43.9075      24.61   \n",
       "1993-02-01   43.97   44.25   43.97   44.25    480500   44.1100      24.79   \n",
       "1993-02-02   44.22   44.38   44.13   44.34    201300   44.2675      24.84   \n",
       "1993-02-03   44.41   44.84   44.38   44.81    529400   44.6100      25.10   \n",
       "1993-02-04   44.97   45.09   44.88   45.00    531500   44.9850      25.21   \n",
       "...            ...     ...     ...     ...       ...       ...        ...   \n",
       "2024-12-04  605.63  607.91  604.95  607.66  42787600  606.5375     607.66   \n",
       "2024-12-05  607.66  608.48  606.30  606.66  28762200  607.2750     606.66   \n",
       "2024-12-06  607.44  609.07  607.02  607.81  31241549  607.8350     607.81   \n",
       "2024-12-09  607.69  607.86  604.08  604.68  34742738  606.0775     604.68   \n",
       "2024-12-10  605.37  605.80  602.13  602.80  32188672  604.0250     602.80   \n",
       "\n",
       "            unadjusted_volume   change  change_percent  \n",
       "date                                                    \n",
       "1993-01-29          1003200.0 -0.03080       -0.000682  \n",
       "1993-02-01           480500.0  0.28125        0.006368  \n",
       "1993-02-02           201300.0  0.12500        0.002714  \n",
       "1993-02-03           529400.0  0.40625        0.009007  \n",
       "1993-02-04           531500.0  0.03125        0.000667  \n",
       "...                       ...      ...             ...  \n",
       "2024-12-04         42787600.0  2.03000        0.003352  \n",
       "2024-12-05         28762200.0 -1.00000       -0.001646  \n",
       "2024-12-06         31241549.0  0.37000        0.000609  \n",
       "2024-12-09         34742738.0 -3.01000       -0.004953  \n",
       "2024-12-10         32188672.0 -2.57000       -0.004245  \n",
       "\n",
       "[8024 rows x 10 columns]"
      ]
     },
     "execution_count": 14,
     "metadata": {},
     "output_type": "execute_result"
    }
   ],
   "source": [
    "result = obb.equity.price.historical(symbol=\"SPY\", start_date=\"1960-12-01\", end_date=\"2025-01-01\", provider=\"fmp\")\n",
    "result.to_df()"
   ]
  },
  {
   "cell_type": "code",
   "execution_count": 9,
   "metadata": {},
   "outputs": [],
   "source": [
    "result = obb.economy.calendar(provider='nasdaq', country='united_kingdom', start_date='2024-12-01', end_date='2025-01-01')\n",
    "df = result.to_df()\n"
   ]
  },
  {
   "cell_type": "code",
   "execution_count": 10,
   "metadata": {},
   "outputs": [
    {
     "data": {
      "text/html": [
       "<div>\n",
       "<style scoped>\n",
       "    .dataframe tbody tr th:only-of-type {\n",
       "        vertical-align: middle;\n",
       "    }\n",
       "\n",
       "    .dataframe tbody tr th {\n",
       "        vertical-align: top;\n",
       "    }\n",
       "\n",
       "    .dataframe thead th {\n",
       "        text-align: right;\n",
       "    }\n",
       "</style>\n",
       "<table border=\"1\" class=\"dataframe\">\n",
       "  <thead>\n",
       "    <tr style=\"text-align: right;\">\n",
       "      <th></th>\n",
       "      <th>country</th>\n",
       "      <th>event</th>\n",
       "      <th>consensus</th>\n",
       "      <th>previous</th>\n",
       "      <th>actual</th>\n",
       "      <th>description</th>\n",
       "    </tr>\n",
       "    <tr>\n",
       "      <th>date</th>\n",
       "      <th></th>\n",
       "      <th></th>\n",
       "      <th></th>\n",
       "      <th></th>\n",
       "      <th></th>\n",
       "      <th></th>\n",
       "    </tr>\n",
       "  </thead>\n",
       "  <tbody>\n",
       "    <tr>\n",
       "      <th>2024-12-18 02:00:00</th>\n",
       "      <td>United Kingdom</td>\n",
       "      <td>CPI, n.s.a</td>\n",
       "      <td></td>\n",
       "      <td>135.00</td>\n",
       "      <td>-</td>\n",
       "      <td>NaN</td>\n",
       "    </tr>\n",
       "    <tr>\n",
       "      <th>2024-12-18 02:00:00</th>\n",
       "      <td>United Kingdom</td>\n",
       "      <td>Core CPI</td>\n",
       "      <td></td>\n",
       "      <td>3.3%</td>\n",
       "      <td>-</td>\n",
       "      <td>The Core Consumer Price Index (CPI) measures t...</td>\n",
       "    </tr>\n",
       "    <tr>\n",
       "      <th>2024-12-18 02:00:00</th>\n",
       "      <td>United Kingdom</td>\n",
       "      <td>Core CPI</td>\n",
       "      <td></td>\n",
       "      <td>0.4%</td>\n",
       "      <td>-</td>\n",
       "      <td>NaN</td>\n",
       "    </tr>\n",
       "    <tr>\n",
       "      <th>2024-12-18 02:00:00</th>\n",
       "      <td>United Kingdom</td>\n",
       "      <td>CPI</td>\n",
       "      <td></td>\n",
       "      <td>2.3%</td>\n",
       "      <td>-</td>\n",
       "      <td>The Consumer Price Index (CPI) measures the ch...</td>\n",
       "    </tr>\n",
       "    <tr>\n",
       "      <th>2024-12-18 02:00:00</th>\n",
       "      <td>United Kingdom</td>\n",
       "      <td>CPI</td>\n",
       "      <td></td>\n",
       "      <td>0.6%</td>\n",
       "      <td>-</td>\n",
       "      <td>The Consumer Price Index (CPI) measures the ch...</td>\n",
       "    </tr>\n",
       "  </tbody>\n",
       "</table>\n",
       "</div>"
      ],
      "text/plain": [
       "                            country       event consensus previous actual  \\\n",
       "date                                                                        \n",
       "2024-12-18 02:00:00  United Kingdom  CPI, n.s.a             135.00      -   \n",
       "2024-12-18 02:00:00  United Kingdom    Core CPI               3.3%      -   \n",
       "2024-12-18 02:00:00  United Kingdom    Core CPI               0.4%      -   \n",
       "2024-12-18 02:00:00  United Kingdom         CPI               2.3%      -   \n",
       "2024-12-18 02:00:00  United Kingdom         CPI               0.6%      -   \n",
       "\n",
       "                                                           description  \n",
       "date                                                                    \n",
       "2024-12-18 02:00:00                                                NaN  \n",
       "2024-12-18 02:00:00  The Core Consumer Price Index (CPI) measures t...  \n",
       "2024-12-18 02:00:00                                                NaN  \n",
       "2024-12-18 02:00:00  The Consumer Price Index (CPI) measures the ch...  \n",
       "2024-12-18 02:00:00  The Consumer Price Index (CPI) measures the ch...  "
      ]
     },
     "execution_count": 10,
     "metadata": {},
     "output_type": "execute_result"
    }
   ],
   "source": [
    "df[df[\"event\"].str.contains(\"CPI\")]"
   ]
  },
  {
   "cell_type": "code",
   "execution_count": null,
   "metadata": {},
   "outputs": [],
   "source": [
    "%load_ext autoreload\n",
    "%autoreload\n",
    "\n",
    "from humbldata.toolbox.toolbox_controller import Toolbox\n",
    "\n",
    "toolbox = Toolbox(\n",
    "    symbols=\"SPY,IWM,DIA,QQQ\",\n",
    "    interval=\"1d\",\n",
    "    start_date=\"2000-01-01\",\n",
    "    end_date=\"2024-12-03\",\n",
    "    # membership=\"anonymous\"\n",
    ")\n",
    "toolbox"
   ]
  },
  {
   "cell_type": "code",
   "execution_count": null,
   "metadata": {},
   "outputs": [],
   "source": [
    "# import nest_asyncio\n",
    "# nest_asyncio.apply()\n",
    "\n",
    "result = toolbox.technical.humbl_channel(historical=False, window=\"1mo\", _boundary_group_down=False, chart=True)\n",
    "result"
   ]
  },
  {
   "cell_type": "code",
   "execution_count": null,
   "metadata": {},
   "outputs": [],
   "source": [
    "result.to_polars()"
   ]
  },
  {
   "cell_type": "code",
   "execution_count": null,
   "metadata": {},
   "outputs": [],
   "source": [
    "result.command_params"
   ]
  },
  {
   "cell_type": "code",
   "execution_count": null,
   "metadata": {},
   "outputs": [],
   "source": [
    "result.context_params"
   ]
  },
  {
   "cell_type": "markdown",
   "metadata": {},
   "source": [
    "## Test `calc_up_down_pct`\n"
   ]
  },
  {
   "cell_type": "code",
   "execution_count": null,
   "metadata": {},
   "outputs": [],
   "source": [
    "from humbldata.portfolio.analytics.watchlist.helpers import calc_up_down_pct\n",
    "\n",
    "\n",
    "df = pl.DataFrame({\n",
    "    \"symbol\": [\"AAPL\", \"GOOGL\", \"MSFT\"],\n",
    "    \"bottom_price\": [5.18, 15.07, 16.24],\n",
    "    \"recent_price\": [10.05, 20.31, 16.42],\n",
    "    \"top_price\": [11.23, 25.17, 30.09],\n",
    "})\n",
    "result = calc_up_down_pct(df)\n",
    "print(result)"
   ]
  },
  {
   "cell_type": "markdown",
   "metadata": {},
   "source": [
    "# Setting up UserTable"
   ]
  },
  {
   "cell_type": "code",
   "execution_count": null,
   "metadata": {},
   "outputs": [],
   "source": [
    "%load_ext autoreload\n",
    "%autoreload 2\n",
    "\n",
    "from humbldata.core.standard_models.portfolio.analytics.watchlist_table import (\n",
    "    WatchlistTableQueryParams,\n",
    ")\n",
    "from humbldata.core.utils.openbb_helpers import get_latest_price\n",
    "\n",
    "symbols = WatchlistTableQueryParams(symbol=\"AAPL, MSFT, NVDA\").symbol\n",
    "symbols"
   ]
  },
  {
   "cell_type": "markdown",
   "metadata": {},
   "source": [
    "# Tesing Async\n"
   ]
  },
  {
   "cell_type": "markdown",
   "metadata": {},
   "source": [
    "## Get Sector Async"
   ]
  },
  {
   "cell_type": "code",
   "execution_count": null,
   "metadata": {},
   "outputs": [],
   "source": [
    "%load_ext autoreload\n",
    "%autoreload 2\n",
    "\n",
    "import polars as pl\n",
    "\n",
    "from humbldata.core.utils.openbb_helpers import (\n",
    "    aget_equity_sector,\n",
    "    aget_etf_category,\n",
    ")\n",
    "\n",
    "stocks = pl.Series([\n",
    "    \"GOOGL\",  # Communication Services\n",
    "    \"AMZN\",   # Consumer Discretionary\n",
    "    \"KO\",     # Consumer Staples\n",
    "    \"XOM\",    # Energy\n",
    "    \"JPM\",    # Financials\n",
    "    \"JNJ\",    # Health Care\n",
    "    \"HON\",    # Industrials\n",
    "    \"AAPL\",   # Information Technology\n",
    "    \"LIN\",    # Materials\n",
    "    \"PLD\",    # Real Estate\n",
    "    \"NEE\"     # Utilities\n",
    "])\n",
    "\n",
    "# Define objects and lists for different symbol groups\n",
    "\n",
    "# Equities\n",
    "equity_symbols = [\"AAPL\", \"NVDA\", \"TSLA\"]\n",
    "\n",
    "# ETFs\n",
    "etf_symbols = [\"XLE\", \"XLF\", \"XLU\"]\n",
    "\n",
    "# Mixed (equities and ETFs)\n",
    "mixed_symbols = [\"AAPL\", \"XLE\", \"XLU\", \"TSLA\"]\n",
    "\n",
    "# Edge cases\n",
    "edge_symbols = [\"BITI\", \"LNGG\", \"ETHU\", \"DBA\"]\n",
    "\n",
    "\n",
    "# test = (await aget_etf_category(symbols=[\"AAPL\", \"XLE\", \"DBA\"], provider=\"yfinance\")).collect()\n",
    "test2 = (await aget_equity_sector(symbols=equity_symbols, provider=\"yfinance\")).collect()\n",
    "# test2 = (await aget_equity_sector(symbols=[\"XLE\", \"AAPL\"], provider=\"yfinance\")).collect()\n",
    "test2"
   ]
  },
  {
   "cell_type": "code",
   "execution_count": null,
   "metadata": {},
   "outputs": [],
   "source": [
    "symbols = [\"CORN\", 'SLV', 'DBA', \"XLE\", \"AAPL\", \"FXE\", \"SPY\", \"QQQ\", \"BITO\", \"MAXI\", \"SATO\", \"BIL\", \"LQD\", \"QAI\", \"MNA\", \"CLSE\"]\n",
    "symbols2 = [\"AAPL\", \"FXE\", \"SPY\", \"MAXI\", \"GLD\"]\n",
    "symbols3 = commodity_etf_symbols = [\"GLD\", \"IAU\", \"SLV\", \"GLDM\", \"PDBC\", \"SGOL\", \"FTGC\", \"DBC\", \"SIVR\", \"USO\", \"IAUM\", \"GSG\", \"BCI\", \"PPLT\", \"COMT\", \"GLTR\", \"OUNZ\", \"BAR\", \"UNG\", \"DBA\", \"AAAU\", \"DJP\", \"CMDT\", \"KRBN\", \"PALL\", \"COM\", \"NBCM\", \"CMDY\", \"DBO\", \"BCD\", \"KCCA\", \"CPER\", \"HGER\", \"USCI\", \"DBB\", \"DBP\", \"GCC\", \"WEAT\", \"BNO\", \"UGA\", \"DGP\", \"IGLD\", \"COMB\", \"DBE\", \"FGDL\", \"CORN\", \"USL\", \"CCRV\", \"DJCB\", \"IAUF\", \"PLTM\", \"BDRY\", \"PDBA\", \"BGLD\", \"UCIB\", \"SOYB\", \"GRN\", \"PIT\", \"BCIM\", \"RENW\", \"SDCI\", \"UNL\", \"SHNY\", \"DCMT\", \"TAGS\", \"CANE\", \"TMET\", \"KEUA\", \"HCOM\", \"HARD\", \"EVMT\", \"USG\", \"AMPD\", \"DZZ\", \"DGZ\", \"KMET\", \"CMCI\", \"USOY\", \"ZSC\", \"TILL\", \"BWET\", \"DULL\", \"ZSB\", \"LNGG\", \"USOI\", \"OILK\", \"SLVO\", \"GLDI\", \"BOIL\", \"KOLD\", \"AGQ\", \"GLL\", \"UGL\", \"ZSL\", \"UCO\", \"SCO\"]\n",
    "\n",
    "\n",
    "\n",
    "df = (await aget_etf_category(symbols=edge_symbols)).collect()\n",
    "df"
   ]
  },
  {
   "cell_type": "code",
   "execution_count": null,
   "metadata": {},
   "outputs": [],
   "source": [
    "from humbldata.portfolio.analytics.watchlist.helpers import normalize_asset_class\n",
    "\n",
    "\n",
    "normalized_df = normalize_asset_class(df).select([\"symbol\", \"category\"])\n",
    "normalized_df"
   ]
  },
  {
   "cell_type": "code",
   "execution_count": null,
   "metadata": {},
   "outputs": [],
   "source": [
    "%load_ext autoreload\n",
    "%autoreload 2\n",
    "\n",
    "from humbldata.core.utils.openbb_helpers import aget_etf_category\n",
    "\n",
    "\n",
    "df2 = (await aget_etf_category(symbols=edge_symbols)).collect()\n",
    "df2"
   ]
  },
  {
   "cell_type": "code",
   "execution_count": null,
   "metadata": {},
   "outputs": [],
   "source": [
    "%load_ext autoreload\n",
    "%autoreload 2\n",
    "\n",
    "from humbldata.portfolio.analytics.watchlist.helpers import aget_asset_class_filter\n",
    "\n",
    "(await aget_asset_class_filter(symbols=[\"XLE\", \"XLF\", \"XLK\"])).collect()"
   ]
  },
  {
   "cell_type": "markdown",
   "metadata": {},
   "source": [
    "## Test aget_sector_filter"
   ]
  },
  {
   "cell_type": "code",
   "execution_count": null,
   "metadata": {},
   "outputs": [],
   "source": [
    "%load_ext autoreload\n",
    "%autoreload 2\n",
    "\n",
    "from humbldata.portfolio.analytics.watchlist.helpers import aget_sector_filter\n",
    "\n",
    "etf_data = pl.LazyFrame({\n",
    "    \"symbol\": [\"BITI\", \"LNGG\", \"ETHU\", \"DBA\"],\n",
    "    \"category\": [\n",
    "        \"Trading--Miscellaneous\",\n",
    "        \"Equity Energy\",\n",
    "        None,\n",
    "        \"Commodities Focused\",\n",
    "    ]\n",
    "})\n",
    "\n",
    "(await aget_sector_filter(symbols=mixed_symbols)).collect()"
   ]
  },
  {
   "cell_type": "markdown",
   "metadata": {},
   "source": [
    "# Test user_table_engine"
   ]
  },
  {
   "cell_type": "code",
   "execution_count": null,
   "metadata": {},
   "outputs": [],
   "source": [
    "from humbldata.portfolio.analytics.watchlist.model import watchlist_table_engine\n",
    "import polars as pl\n",
    "\n",
    "etf_data = [\n",
    "    pl.DataFrame(\n",
    "        {\"symbol\": [\"AAPL\", \"NVDA\", \"TSLA\"], \"category\": [None, None, None]}\n",
    "    ),\n",
    "    pl.DataFrame(\n",
    "        {\n",
    "            \"symbol\": [\"XLE\", \"XLF\", \"XLU\"],\n",
    "            \"category\": [\"Equity Energy\", \"Financial\", \"Utilities\"],\n",
    "        }\n",
    "    ),\n",
    "    pl.DataFrame(\n",
    "        {\n",
    "            \"symbol\": [\"AAPL\", \"XLE\", \"XLU\", \"TSLA\"],\n",
    "            \"category\": [None, \"Equity Energy\", \"Utilities\", None],\n",
    "        }\n",
    "    ),\n",
    "    pl.DataFrame(\n",
    "        {\n",
    "            \"symbol\": [\"BITI\", \"LNGG\", \"ETHU\", \"DBA\"],\n",
    "            \"category\": [\n",
    "                \"Trading--Miscellaneous\",\n",
    "                \"Equity Energy\",\n",
    "                None,\n",
    "                \"Commodities Focused\",\n",
    "            ],\n",
    "        }\n",
    "    ),\n",
    "]\n",
    "\n",
    "out: pl.LazyFrame = await watchlist_table_engine(symbols=edge_symbols)\n",
    "out.collect()"
   ]
  },
  {
   "cell_type": "markdown",
   "metadata": {},
   "source": [
    "## Test UserTableFetcher"
   ]
  },
  {
   "cell_type": "markdown",
   "metadata": {},
   "source": []
  },
  {
   "cell_type": "code",
   "execution_count": null,
   "metadata": {},
   "outputs": [],
   "source": [
    "%load_ext autoreload\n",
    "%autoreload 2\n",
    "\n",
    "from humbldata.portfolio.portfolio_controller import Portfolio\n",
    "\n",
    "portfolio = Portfolio(symbols=[\"AAPL\"], user_role=\"anonymous\")\n",
    "portfolio"
   ]
  },
  {
   "cell_type": "code",
   "execution_count": null,
   "metadata": {},
   "outputs": [],
   "source": [
    "result = (await portfolio.analytics.watchlist_table())"
   ]
  },
  {
   "cell_type": "code",
   "execution_count": null,
   "metadata": {},
   "outputs": [],
   "source": [
    "result.to_polars()"
   ]
  },
  {
   "cell_type": "code",
   "execution_count": null,
   "metadata": {},
   "outputs": [],
   "source": [
    "result.to_polars()"
   ]
  },
  {
   "cell_type": "markdown",
   "metadata": {},
   "source": [
    "# Testing Sandbox"
   ]
  },
  {
   "cell_type": "code",
   "execution_count": null,
   "metadata": {},
   "outputs": [],
   "source": [
    "%load_ext autoreload\n",
    "%autoreload 2\n",
    "\n",
    "from humbldata.toolbox.toolbox_controller import Toolbox\n",
    "import datetime\n",
    "from datetime import timedelta\n",
    "\n",
    "# start_date = \"2020-01-01\"\n",
    "# end_date = \"2024-01-01\"\n",
    "start_date = (datetime.datetime.now() - datetime.timedelta(days=365))\n",
    "end_date = datetime.date(2024, 7, 18)\n",
    "\n",
    "toolbox = Toolbox(\n",
    "    symbols=[\"AAPL\", \"AMD\"],\n",
    "    interval=\"1d\",\n",
    "    start_date=\"2022-07-18\",\n",
    "    end_date=end_date,\n",
    "    membership=\"peon\"\n",
    ")"
   ]
  },
  {
   "cell_type": "code",
   "execution_count": null,
   "metadata": {},
   "outputs": [],
   "source": [
    "result = toolbox.technical.humbl_channel(historical=False, window=\"1m\", _boundary_group_down=False, chart=True)\n",
    "result\n"
   ]
  },
  {
   "cell_type": "code",
   "execution_count": null,
   "metadata": {},
   "outputs": [],
   "source": [
    "result.warnings[0]"
   ]
  },
  {
   "cell_type": "code",
   "execution_count": null,
   "metadata": {},
   "outputs": [],
   "source": [
    "import pickle\n",
    "from pathlib import Path\n",
    "\n",
    "# Ensure the directory exists\n",
    "Path(\"../tests/test_data\").mkdir(parents=True, exist_ok=True)\n",
    "\n",
    "# Save the result object to the specified file\n",
    "with Path(\"../tests/test_data/mandelbrot_humblobject.pkl\").open(\"wb\") as file:\n",
    "    pickle.dump(result, file)\n",
    "\n",
    "print(\"Result object saved successfully.\")\n"
   ]
  }
 ],
 "metadata": {
  "kernelspec": {
   "display_name": "Python 3",
   "language": "python",
   "name": "python3"
  },
  "language_info": {
   "codemirror_mode": {
    "name": "ipython",
    "version": 3
   },
   "file_extension": ".py",
   "mimetype": "text/x-python",
   "name": "python",
   "nbconvert_exporter": "python",
   "pygments_lexer": "ipython3",
   "version": "3.12.9"
  }
 },
 "nbformat": 4,
 "nbformat_minor": 2
}
