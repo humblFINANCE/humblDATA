{
 "cells": [
  {
   "cell_type": "code",
   "execution_count": 1,
   "metadata": {},
   "outputs": [
    {
     "name": "stdout",
     "output_type": "stream",
     "text": [
      "Extensions to add: alpha_vantage@1.2.3, biztoc@1.2.3, cboe@1.2.3, derivatives@1.2.4, ecb@1.2.3, econometrics@1.2.3, finra@1.2.3, finviz@1.1.3, government_us@1.2.3, intrinio@1.2.4, nasdaq@1.2.3, openbb_charting@2.1.2, quantitative@1.2.3, seeking_alpha@1.2.3, stockgrid@1.2.3, technical@1.2.3, tmx@1.1.3, tradier@1.1.3, wsj@1.2.3\n",
      "Extensions to remove: derivatives@1.2.3, intrinio@1.2.3\n",
      "\n",
      "Building...\n"
     ]
    }
   ],
   "source": [
    "%load_ext autoreload\n",
    "%autoreload 2\n",
    "\n",
    "from humbldata.core.utils.openbb_helpers import obb_login\n",
    "from openbb import obb\n",
    "from humbldata.core.utils.env import Env\n",
    "import polars as pl\n",
    "\n",
    "# obb_login()\n",
    "obb.account.login(pat=Env().OBB_PAT, remember_me=True)"
   ]
  },
  {
   "cell_type": "code",
   "execution_count": 7,
   "metadata": {},
   "outputs": [],
   "source": [
    "\n",
    "from humbldata.toolbox.technical.mandelbrot_channel.model import (\n",
    "    calc_mandelbrot_channel,\n",
    "    calc_mandelbrot_channel_historical,\n",
    ")\n",
    "\n",
    "\n",
    "data = (\n",
    "    obb.equity.price.historical(\n",
    "        [\"AAPL\"],\n",
    "        provider=\"yfinance\",\n",
    "        start_date=\"2020-01-01\",\n",
    "        end_date=\"2024-01-01\",\n",
    "        adjustment=\"splits_and_dividends\",\n",
    "    ).to_polars()\n",
    ").drop([\"dividends\", \"stock_splits\"]).with_columns(pl.lit(\"AAPL\").alias(\"symbol\"))\n",
    "\n",
    "mandelbrot = calc_mandelbrot_channel_historical(  # noqa: ERA001\n",
    "        data,\n",
    "        window=\"1m\",\n",
    "        rv_adjustment=True,\n",
    "        rv_method=\"std\",\n",
    "        rv_grouped_mean=False,\n",
    "        rs_method=\"RS\",\n",
    "        live_price=False,\n",
    "    ).collect()"
   ]
  },
  {
   "cell_type": "code",
   "execution_count": 8,
   "metadata": {},
   "outputs": [
    {
     "data": {
      "text/html": [
       "<div><style>\n",
       ".dataframe > thead > tr,\n",
       ".dataframe > tbody > tr {\n",
       "  text-align: right;\n",
       "  white-space: pre-wrap;\n",
       "}\n",
       "</style>\n",
       "<small>shape: (985, 5)</small><table border=\"1\" class=\"dataframe\"><thead><tr><th>date</th><th>symbol</th><th>bottom_price</th><th>close_price</th><th>top_price</th></tr><tr><td>date</td><td>str</td><td>f64</td><td>f64</td><td>f64</td></tr></thead><tbody><tr><td>2020-02-03</td><td>&quot;AAPL&quot;</td><td>75.0304</td><td>75.080818</td><td>80.8237</td></tr><tr><td>2020-02-04</td><td>&quot;AAPL&quot;</td><td>74.3672</td><td>77.559494</td><td>82.3451</td></tr><tr><td>2020-02-05</td><td>&quot;AAPL&quot;</td><td>74.7959</td><td>78.191956</td><td>82.4866</td></tr><tr><td>2020-02-06</td><td>&quot;AAPL&quot;</td><td>75.1319</td><td>79.106567</td><td>82.6979</td></tr><tr><td>2020-02-07</td><td>&quot;AAPL&quot;</td><td>75.5179</td><td>78.031296</td><td>82.7061</td></tr><tr><td>&hellip;</td><td>&hellip;</td><td>&hellip;</td><td>&hellip;</td><td>&hellip;</td></tr><tr><td>2023-12-22</td><td>&quot;AAPL&quot;</td><td>191.0371</td><td>193.353287</td><td>197.7755</td></tr><tr><td>2023-12-26</td><td>&quot;AAPL&quot;</td><td>191.4981</td><td>192.803986</td><td>198.2864</td></tr><tr><td>2023-12-27</td><td>&quot;AAPL&quot;</td><td>191.81</td><td>192.903839</td><td>198.6853</td></tr><tr><td>2023-12-28</td><td>&quot;AAPL&quot;</td><td>191.8557</td><td>193.333298</td><td>198.745</td></tr><tr><td>2023-12-29</td><td>&quot;AAPL&quot;</td><td>191.9202</td><td>192.284637</td><td>198.7779</td></tr></tbody></table></div>"
      ],
      "text/plain": [
       "shape: (985, 5)\n",
       "┌────────────┬────────┬──────────────┬─────────────┬───────────┐\n",
       "│ date       ┆ symbol ┆ bottom_price ┆ close_price ┆ top_price │\n",
       "│ ---        ┆ ---    ┆ ---          ┆ ---         ┆ ---       │\n",
       "│ date       ┆ str    ┆ f64          ┆ f64         ┆ f64       │\n",
       "╞════════════╪════════╪══════════════╪═════════════╪═══════════╡\n",
       "│ 2020-02-03 ┆ AAPL   ┆ 75.0304      ┆ 75.080818   ┆ 80.8237   │\n",
       "│ 2020-02-04 ┆ AAPL   ┆ 74.3672      ┆ 77.559494   ┆ 82.3451   │\n",
       "│ 2020-02-05 ┆ AAPL   ┆ 74.7959      ┆ 78.191956   ┆ 82.4866   │\n",
       "│ 2020-02-06 ┆ AAPL   ┆ 75.1319      ┆ 79.106567   ┆ 82.6979   │\n",
       "│ 2020-02-07 ┆ AAPL   ┆ 75.5179      ┆ 78.031296   ┆ 82.7061   │\n",
       "│ …          ┆ …      ┆ …            ┆ …           ┆ …         │\n",
       "│ 2023-12-22 ┆ AAPL   ┆ 191.0371     ┆ 193.353287  ┆ 197.7755  │\n",
       "│ 2023-12-26 ┆ AAPL   ┆ 191.4981     ┆ 192.803986  ┆ 198.2864  │\n",
       "│ 2023-12-27 ┆ AAPL   ┆ 191.81       ┆ 192.903839  ┆ 198.6853  │\n",
       "│ 2023-12-28 ┆ AAPL   ┆ 191.8557     ┆ 193.333298  ┆ 198.745   │\n",
       "│ 2023-12-29 ┆ AAPL   ┆ 191.9202     ┆ 192.284637  ┆ 198.7779  │\n",
       "└────────────┴────────┴──────────────┴─────────────┴───────────┘"
      ]
     },
     "execution_count": 8,
     "metadata": {},
     "output_type": "execute_result"
    }
   ],
   "source": [
    "mandelbrot"
   ]
  },
  {
   "cell_type": "code",
   "execution_count": null,
   "metadata": {},
   "outputs": [],
   "source": []
  }
 ],
 "metadata": {
  "kernelspec": {
   "display_name": "Python 3",
   "language": "python",
   "name": "python3"
  },
  "language_info": {
   "codemirror_mode": {
    "name": "ipython",
    "version": 3
   },
   "file_extension": ".py",
   "mimetype": "text/x-python",
   "name": "python",
   "nbconvert_exporter": "python",
   "pygments_lexer": "ipython3",
   "version": "3.11.9"
  }
 },
 "nbformat": 4,
 "nbformat_minor": 2
}
