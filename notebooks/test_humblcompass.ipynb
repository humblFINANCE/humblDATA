{
 "cells": [
  {
   "cell_type": "code",
   "execution_count": 6,
   "metadata": {},
   "outputs": [
    {
     "name": "stdout",
     "output_type": "stream",
     "text": [
      "The autoreload extension is already loaded. To reload it, use:\n",
      "  %reload_ext autoreload\n"
     ]
    }
   ],
   "source": [
    "%load_ext autoreload\n",
    "%autoreload 2\n",
    "\n",
    "from humbldata.core.utils.openbb_helpers import obb_login\n",
    "from openbb import obb\n",
    "from humbldata.core.utils.env import Env\n",
    "import polars as pl\n",
    "\n",
    "# obb_login()\n",
    "obb.account.login(pat=Env().OBB_PAT, remember_me=True)"
   ]
  },
  {
   "cell_type": "markdown",
   "metadata": {},
   "source": [
    "# OECD Composite Leading Indicator"
   ]
  },
  {
   "cell_type": "code",
   "execution_count": 17,
   "metadata": {},
   "outputs": [
    {
     "data": {
      "text/html": [
       "<div><style>\n",
       ".dataframe > thead > tr,\n",
       ".dataframe > tbody > tr {\n",
       "  text-align: right;\n",
       "  white-space: pre-wrap;\n",
       "}\n",
       "</style>\n",
       "<small>shape: (8, 3)</small><table border=\"1\" class=\"dataframe\"><thead><tr><th>date</th><th>value</th><th>country</th></tr><tr><td>date</td><td>f64</td><td>str</td></tr></thead><tbody><tr><td>2024-02-29</td><td>99.798263</td><td>&quot;united_states&quot;</td></tr><tr><td>2024-03-31</td><td>99.929747</td><td>&quot;united_states&quot;</td></tr><tr><td>2024-04-30</td><td>100.00048</td><td>&quot;united_states&quot;</td></tr><tr><td>2024-05-31</td><td>100.015399</td><td>&quot;united_states&quot;</td></tr><tr><td>2024-06-30</td><td>100.005161</td><td>&quot;united_states&quot;</td></tr><tr><td>2024-07-31</td><td>100.009468</td><td>&quot;united_states&quot;</td></tr><tr><td>2024-08-31</td><td>100.03985</td><td>&quot;united_states&quot;</td></tr><tr><td>2024-09-30</td><td>100.094575</td><td>&quot;united_states&quot;</td></tr></tbody></table></div>"
      ],
      "text/plain": [
       "shape: (8, 3)\n",
       "┌────────────┬────────────┬───────────────┐\n",
       "│ date       ┆ value      ┆ country       │\n",
       "│ ---        ┆ ---        ┆ ---           │\n",
       "│ date       ┆ f64        ┆ str           │\n",
       "╞════════════╪════════════╪═══════════════╡\n",
       "│ 2024-02-29 ┆ 99.798263  ┆ united_states │\n",
       "│ 2024-03-31 ┆ 99.929747  ┆ united_states │\n",
       "│ 2024-04-30 ┆ 100.00048  ┆ united_states │\n",
       "│ 2024-05-31 ┆ 100.015399 ┆ united_states │\n",
       "│ 2024-06-30 ┆ 100.005161 ┆ united_states │\n",
       "│ 2024-07-31 ┆ 100.009468 ┆ united_states │\n",
       "│ 2024-08-31 ┆ 100.03985  ┆ united_states │\n",
       "│ 2024-09-30 ┆ 100.094575 ┆ united_states │\n",
       "└────────────┴────────────┴───────────────┘"
      ]
     },
     "execution_count": 17,
     "metadata": {},
     "output_type": "execute_result"
    }
   ],
   "source": [
    "cli = obb.economy.composite_leading_indicator(start_date='2024-01-01', provider='oecd', country=['united_states'])\n",
    "cli.to_polars()"
   ]
  },
  {
   "cell_type": "markdown",
   "metadata": {},
   "source": [
    "# Consumer Price Index"
   ]
  },
  {
   "cell_type": "markdown",
   "metadata": {},
   "source": [
    "## OECD Consumer Price Index"
   ]
  },
  {
   "cell_type": "code",
   "execution_count": 8,
   "metadata": {},
   "outputs": [
    {
     "data": {
      "text/plain": [
       "[OECDCPIData(date=2024-08-01, country=united_states, value=0.0253073, expenditure=total),\n",
       " OECDCPIData(date=2024-07-01, country=united_states, value=0.028947530000000003, expenditure=total),\n",
       " OECDCPIData(date=2024-06-01, country=united_states, value=0.02971397, expenditure=total),\n",
       " OECDCPIData(date=2024-05-01, country=united_states, value=0.032690290000000004, expenditure=total),\n",
       " OECDCPIData(date=2024-04-01, country=united_states, value=0.03357364, expenditure=total),\n",
       " OECDCPIData(date=2024-03-01, country=united_states, value=0.03477385, expenditure=total),\n",
       " OECDCPIData(date=2024-02-01, country=united_states, value=0.03153171, expenditure=total),\n",
       " OECDCPIData(date=2024-01-01, country=united_states, value=0.03090885, expenditure=total)]"
      ]
     },
     "execution_count": 8,
     "metadata": {},
     "output_type": "execute_result"
    }
   ],
   "source": [
    "oecd_cpi = obb.economy.cpi(start_date='2024-01-01', country='united_states', transform='yoy', provider='oecd',harmonized=False, expenditure='total')\n",
    "oecd_cpi.results\n"
   ]
  },
  {
   "cell_type": "markdown",
   "metadata": {},
   "source": [
    "## FRED Consumer Price Index"
   ]
  },
  {
   "cell_type": "code",
   "execution_count": 16,
   "metadata": {},
   "outputs": [
    {
     "data": {
      "text/plain": [
       "[FREDConsumerPriceIndexData(date=2024-07-01, country=united_states, value=0.028947529999999996),\n",
       " FREDConsumerPriceIndexData(date=2024-08-01, country=united_states, value=0.0253073)]"
      ]
     },
     "execution_count": 16,
     "metadata": {},
     "output_type": "execute_result"
    }
   ],
   "source": [
    "fred_cpi = obb.economy.cpi(start_date='2024-07-01', country='united_states', transform='yoy', provider='fred')\n",
    "fred_cpi.results"
   ]
  },
  {
   "cell_type": "markdown",
   "metadata": {},
   "source": [
    "# humblCOMPASS "
   ]
  },
  {
   "cell_type": "code",
   "execution_count": 22,
   "metadata": {},
   "outputs": [
    {
     "name": "stdout",
     "output_type": "stream",
     "text": [
      "The autoreload extension is already loaded. To reload it, use:\n",
      "  %reload_ext autoreload\n"
     ]
    }
   ],
   "source": [
    "%load_ext autoreload\n",
    "%autoreload 2\n",
    "\n",
    "from humbldata.toolbox.toolbox_controller import Toolbox\n",
    "\n",
    "toolbox = Toolbox(\n",
    "    symbols=[\"AAPL\"],\n",
    "    interval=\"1d\",\n",
    "    start_date=\"2023-01-01\",\n",
    "    end_date=\"2023-10-01\",\n",
    "    membership=\"admin\"\n",
    ")"
   ]
  },
  {
   "cell_type": "code",
   "execution_count": 32,
   "metadata": {},
   "outputs": [
    {
     "name": "stderr",
     "output_type": "stream",
     "text": [
      "INFO: HumblCompassFetcher || START: fetch_data (sync)\n",
      "INFO: HumblCompassFetcher || CLI start date: 2022-09-01 and CPI start date: 2022-10-01. Dates are adjusted to account for CLI data release lag.\n",
      "INFO: HumblCompassFetcher || END: fetch_data (sync) - Total time: 0.6157s\n"
     ]
    }
   ],
   "source": [
    "compass = toolbox.fundamental.humbl_compass(country=\"united_states\")"
   ]
  },
  {
   "cell_type": "code",
   "execution_count": 33,
   "metadata": {},
   "outputs": [
    {
     "data": {
      "text/html": [
       "<div><style>\n",
       ".dataframe > thead > tr,\n",
       ".dataframe > tbody > tr {\n",
       "  text-align: right;\n",
       "  white-space: pre-wrap;\n",
       "}\n",
       "</style>\n",
       "<small>shape: (10, 8)</small><table border=\"1\" class=\"dataframe\"><thead><tr><th>date_month_start</th><th>date_cli</th><th>date_cpi</th><th>country</th><th>cpi</th><th>cpi_3m_delta</th><th>cli</th><th>cli_3m_delta</th></tr><tr><td>date</td><td>date</td><td>date</td><td>str</td><td>f64</td><td>f64</td><td>f64</td><td>f64</td></tr></thead><tbody><tr><td>2023-01-01</td><td>2023-01-31</td><td>2023-01-01</td><td>&quot;united_states&quot;</td><td>6.41</td><td>-1.34</td><td>98.81</td><td>-0.18</td></tr><tr><td>2023-02-01</td><td>2023-02-28</td><td>2023-02-01</td><td>&quot;united_states&quot;</td><td>6.04</td><td>-1.07</td><td>98.79</td><td>-0.11</td></tr><tr><td>2023-03-01</td><td>2023-03-31</td><td>2023-03-01</td><td>&quot;united_states&quot;</td><td>4.98</td><td>-1.47</td><td>98.79</td><td>-0.05</td></tr><tr><td>2023-04-01</td><td>2023-04-30</td><td>2023-04-01</td><td>&quot;united_states&quot;</td><td>4.93</td><td>-1.48</td><td>98.83</td><td>0.02</td></tr><tr><td>2023-05-01</td><td>2023-05-31</td><td>2023-05-01</td><td>&quot;united_states&quot;</td><td>4.05</td><td>-1.99</td><td>98.9</td><td>0.11</td></tr><tr><td>2023-06-01</td><td>2023-06-30</td><td>2023-06-01</td><td>&quot;united_states&quot;</td><td>2.97</td><td>-2.02</td><td>99.0</td><td>0.21</td></tr><tr><td>2023-07-01</td><td>2023-07-31</td><td>2023-07-01</td><td>&quot;united_states&quot;</td><td>3.18</td><td>-1.75</td><td>99.11</td><td>0.28</td></tr><tr><td>2023-08-01</td><td>2023-08-31</td><td>2023-08-01</td><td>&quot;united_states&quot;</td><td>3.67</td><td>-0.38</td><td>99.18</td><td>0.28</td></tr><tr><td>2023-09-01</td><td>2023-09-30</td><td>2023-09-01</td><td>&quot;united_states&quot;</td><td>3.7</td><td>0.73</td><td>99.24</td><td>0.24</td></tr><tr><td>2023-10-01</td><td>2023-10-31</td><td>2023-10-01</td><td>&quot;united_states&quot;</td><td>3.24</td><td>0.06</td><td>99.29</td><td>0.18</td></tr></tbody></table></div>"
      ],
      "text/plain": [
       "shape: (10, 8)\n",
       "┌──────────────┬────────────┬────────────┬──────────────┬──────┬─────────────┬───────┬─────────────┐\n",
       "│ date_month_s ┆ date_cli   ┆ date_cpi   ┆ country      ┆ cpi  ┆ cpi_3m_delt ┆ cli   ┆ cli_3m_delt │\n",
       "│ tart         ┆ ---        ┆ ---        ┆ ---          ┆ ---  ┆ a           ┆ ---   ┆ a           │\n",
       "│ ---          ┆ date       ┆ date       ┆ str          ┆ f64  ┆ ---         ┆ f64   ┆ ---         │\n",
       "│ date         ┆            ┆            ┆              ┆      ┆ f64         ┆       ┆ f64         │\n",
       "╞══════════════╪════════════╪════════════╪══════════════╪══════╪═════════════╪═══════╪═════════════╡\n",
       "│ 2023-01-01   ┆ 2023-01-31 ┆ 2023-01-01 ┆ united_state ┆ 6.41 ┆ -1.34       ┆ 98.81 ┆ -0.18       │\n",
       "│              ┆            ┆            ┆ s            ┆      ┆             ┆       ┆             │\n",
       "│ 2023-02-01   ┆ 2023-02-28 ┆ 2023-02-01 ┆ united_state ┆ 6.04 ┆ -1.07       ┆ 98.79 ┆ -0.11       │\n",
       "│              ┆            ┆            ┆ s            ┆      ┆             ┆       ┆             │\n",
       "│ 2023-03-01   ┆ 2023-03-31 ┆ 2023-03-01 ┆ united_state ┆ 4.98 ┆ -1.47       ┆ 98.79 ┆ -0.05       │\n",
       "│              ┆            ┆            ┆ s            ┆      ┆             ┆       ┆             │\n",
       "│ 2023-04-01   ┆ 2023-04-30 ┆ 2023-04-01 ┆ united_state ┆ 4.93 ┆ -1.48       ┆ 98.83 ┆ 0.02        │\n",
       "│              ┆            ┆            ┆ s            ┆      ┆             ┆       ┆             │\n",
       "│ 2023-05-01   ┆ 2023-05-31 ┆ 2023-05-01 ┆ united_state ┆ 4.05 ┆ -1.99       ┆ 98.9  ┆ 0.11        │\n",
       "│              ┆            ┆            ┆ s            ┆      ┆             ┆       ┆             │\n",
       "│ 2023-06-01   ┆ 2023-06-30 ┆ 2023-06-01 ┆ united_state ┆ 2.97 ┆ -2.02       ┆ 99.0  ┆ 0.21        │\n",
       "│              ┆            ┆            ┆ s            ┆      ┆             ┆       ┆             │\n",
       "│ 2023-07-01   ┆ 2023-07-31 ┆ 2023-07-01 ┆ united_state ┆ 3.18 ┆ -1.75       ┆ 99.11 ┆ 0.28        │\n",
       "│              ┆            ┆            ┆ s            ┆      ┆             ┆       ┆             │\n",
       "│ 2023-08-01   ┆ 2023-08-31 ┆ 2023-08-01 ┆ united_state ┆ 3.67 ┆ -0.38       ┆ 99.18 ┆ 0.28        │\n",
       "│              ┆            ┆            ┆ s            ┆      ┆             ┆       ┆             │\n",
       "│ 2023-09-01   ┆ 2023-09-30 ┆ 2023-09-01 ┆ united_state ┆ 3.7  ┆ 0.73        ┆ 99.24 ┆ 0.24        │\n",
       "│              ┆            ┆            ┆ s            ┆      ┆             ┆       ┆             │\n",
       "│ 2023-10-01   ┆ 2023-10-31 ┆ 2023-10-01 ┆ united_state ┆ 3.24 ┆ 0.06        ┆ 99.29 ┆ 0.18        │\n",
       "│              ┆            ┆            ┆ s            ┆      ┆             ┆       ┆             │\n",
       "└──────────────┴────────────┴────────────┴──────────────┴──────┴─────────────┴───────┴─────────────┘"
      ]
     },
     "execution_count": 33,
     "metadata": {},
     "output_type": "execute_result"
    }
   ],
   "source": [
    "compass.to_polars()\n"
   ]
  },
  {
   "cell_type": "code",
   "execution_count": null,
   "metadata": {},
   "outputs": [],
   "source": []
  }
 ],
 "metadata": {
  "kernelspec": {
   "display_name": "Python 3",
   "language": "python",
   "name": "python3"
  },
  "language_info": {
   "codemirror_mode": {
    "name": "ipython",
    "version": 3
   },
   "file_extension": ".py",
   "mimetype": "text/x-python",
   "name": "python",
   "nbconvert_exporter": "python",
   "pygments_lexer": "ipython3",
   "version": "3.12.4"
  }
 },
 "nbformat": 4,
 "nbformat_minor": 2
}
