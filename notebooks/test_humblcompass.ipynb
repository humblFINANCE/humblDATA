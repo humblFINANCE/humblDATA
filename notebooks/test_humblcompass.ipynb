{
 "cells": [
  {
   "cell_type": "code",
   "execution_count": 49,
   "metadata": {},
   "outputs": [
    {
     "name": "stdout",
     "output_type": "stream",
     "text": [
      "The autoreload extension is already loaded. To reload it, use:\n",
      "  %reload_ext autoreload\n"
     ]
    }
   ],
   "source": [
    "%load_ext autoreload\n",
    "%autoreload 2\n",
    "\n",
    "from humbldata.core.utils.openbb_helpers import obb_login\n",
    "from openbb import obb\n",
    "from humbldata.core.utils.env import Env\n",
    "import polars as pl\n",
    "\n",
    "# obb_login()\n",
    "obb.account.login(pat=Env().OBB_PAT, remember_me=True)"
   ]
  },
  {
   "cell_type": "markdown",
   "metadata": {},
   "source": [
    "# CPI + CLI DATA COLLECTION\n"
   ]
  },
  {
   "cell_type": "markdown",
   "metadata": {},
   "source": [
    "## OECD Composite Leading Indicator"
   ]
  },
  {
   "cell_type": "code",
   "execution_count": null,
   "metadata": {},
   "outputs": [],
   "source": [
    "cli = obb.economy.composite_leading_indicator(start_date='2024-01-01', provider='oecd', country=['united_states'])\n",
    "cli.to_polars()"
   ]
  },
  {
   "cell_type": "markdown",
   "metadata": {},
   "source": [
    "## Consumer Price Index"
   ]
  },
  {
   "cell_type": "markdown",
   "metadata": {},
   "source": [
    "### OECD Consumer Price Index"
   ]
  },
  {
   "cell_type": "code",
   "execution_count": null,
   "metadata": {},
   "outputs": [],
   "source": [
    "oecd_cpi = obb.economy.cpi(start_date='2010-01-01', country='united_states', transform='yoy', provider='oecd',harmonized=False, expenditure='total')\n",
    "oecd_cpi.results\n"
   ]
  },
  {
   "cell_type": "markdown",
   "metadata": {},
   "source": [
    "### FRED Consumer Price Index"
   ]
  },
  {
   "cell_type": "code",
   "execution_count": null,
   "metadata": {},
   "outputs": [],
   "source": [
    "fred_cpi = obb.economy.cpi(start_date='2024-07-01', country='united_states', transform='yoy', provider='fred')\n",
    "fred_cpi.results"
   ]
  },
  {
   "cell_type": "markdown",
   "metadata": {},
   "source": [
    "# humblCOMPASS "
   ]
  },
  {
   "cell_type": "code",
   "execution_count": 50,
   "metadata": {},
   "outputs": [
    {
     "name": "stderr",
     "output_type": "stream",
     "text": [
      "WARNING: ToolboxQueryParams || Start date adjusted to 2022-11-30 based on humblPEON membership (2Y of data).\n"
     ]
    },
    {
     "name": "stdout",
     "output_type": "stream",
     "text": [
      "The autoreload extension is already loaded. To reload it, use:\n",
      "  %reload_ext autoreload\n"
     ]
    }
   ],
   "source": [
    "%load_ext autoreload\n",
    "%autoreload 2\n",
    "\n",
    "from humbldata.toolbox.toolbox_controller import Toolbox\n",
    "\n",
    "toolbox = Toolbox(\n",
    "    # symbols=[\"AAPL\"],\n",
    "    # interval=\"1d\",\n",
    "    start_date=\"2022-01-01\",\n",
    "    # end_date=\"2024-10-01\",\n",
    "    membership=\"humblPEON\"\n",
    ")"
   ]
  },
  {
   "cell_type": "code",
   "execution_count": 51,
   "metadata": {},
   "outputs": [
    {
     "name": "stderr",
     "output_type": "stream",
     "text": [
      "INFO: HumblCompassFetcher || START: fetch_data (sync)\n",
      "WARNING: HumblCompassFetcher || Z-score is not calculated for humblPEON membership level.\n",
      "INFO: HumblCompassFetcher || CLI start date: 2022-07-30 and CPI start date: 2022-08-30. Dates are adjusted to account for CLI data release lag and z-score calculation window.\n",
      "INFO: HumblCompassFetcher || END: fetch_data (sync) - Total time: 3.2992s\n"
     ]
    }
   ],
   "source": [
    "compass = toolbox.fundamental.humbl_compass(country=\"united_states\", z_score=None, chart=True, recommendations=True)"
   ]
  },
  {
   "cell_type": "code",
   "execution_count": 52,
   "metadata": {},
   "outputs": [
    {
     "data": {
      "text/plain": [
       "[HumblDataWarning(category='ToolboxQueryParams', message='Start date adjusted to 2022-11-30 based on humblPEON membership (2Y of data).'),\n",
       " HumblDataWarning(category='HumblCompassFetcher', message='Z-score defaulted to None. No z-score data will be calculated.')]"
      ]
     },
     "execution_count": 52,
     "metadata": {},
     "output_type": "execute_result"
    }
   ],
   "source": [
    "compass.warnings"
   ]
  },
  {
   "cell_type": "code",
   "execution_count": 53,
   "metadata": {},
   "outputs": [
    {
     "data": {
      "text/plain": [
       "HumblObject\n",
       "\n",
       "id: 06749d26-38c2-715b-8000-d7cdf8761157\n",
       "results: b'\\xa1mDataFrameScan\\xa2bdf\\xa1gcolumns\\x87\\xa4dnamepdate_month_starthdata...\n",
       "equity_data: None\n",
       "provider: yfinance\n",
       "warnings: [{'category': 'ToolboxQueryParams', 'message': 'Start date adjusted to 20...\n",
       "chart: [{'content': '{\"data\":[{\"hovertemplate\":\"\\\\u003cb\\\\u003e%{text}\\\\u003c\\\\u002...\n",
       "extra: {'humbl_regime_recommendations': {'asset_classes': {'best': [<AssetRecommend...\n",
       "context_params: {'symbols': None, 'interval': '1d', 'start_date': datetime.date(202...\n",
       "command_params: {'country': 'united_states', 'cli_start_date': '2022-07-30', 'cpi_s..."
      ]
     },
     "execution_count": 53,
     "metadata": {},
     "output_type": "execute_result"
    }
   ],
   "source": [
    "compass\n"
   ]
  },
  {
   "cell_type": "code",
   "execution_count": 17,
   "metadata": {},
   "outputs": [
    {
     "data": {
      "text/plain": [
       "(datetime.date(2024, 10, 1), 'humblBOOM')"
      ]
     },
     "execution_count": 17,
     "metadata": {},
     "output_type": "execute_result"
    }
   ],
   "source": [
    "df = compass.to_json()\n",
    "compass.to_polars().select([\"date_month_start\", \"humbl_regime\"]).row(-1)"
   ]
  },
  {
   "cell_type": "code",
   "execution_count": 7,
   "metadata": {},
   "outputs": [
    {
     "data": {
      "application/vnd.plotly.v1+json": {
       "config": {
        "plotlyServerURL": "https://plot.ly"
       },
       "data": [
        {
         "hovertemplate": "<b>%{text}</b><br>CPI 3m Δ: %{x:.2f}<br>CLI 3m Δ: %{y:.2f}<extra></extra>",
         "line": {
          "color": "white",
          "shape": "spline",
          "smoothing": 1.3
         },
         "marker": {
          "color": [
           0,
           1,
           2,
           3,
           4,
           5,
           6,
           7,
           8,
           9,
           10,
           11,
           12,
           13,
           14,
           15,
           16,
           17,
           18,
           19,
           20,
           21,
           22
          ],
          "colorscale": [
           [
            0,
            "rgb(253, 202, 181)"
           ],
           [
            1,
            "rgb(188, 20, 26)"
           ]
          ],
          "showscale": false,
          "size": 10
         },
         "mode": "lines+markers+text",
         "name": "HumblCompass Data",
         "text": [
          "Dec 2022",
          "Jan 2023",
          "Feb 2023",
          "Mar 2023",
          "Apr 2023",
          "May 2023",
          "Jun 2023",
          "Jul 2023",
          "Aug 2023",
          "Sep 2023",
          "Oct 2023",
          "Nov 2023",
          "Dec 2023",
          "Jan 2024",
          "Feb 2024",
          "Mar 2024",
          "Apr 2024",
          "May 2024",
          "Jun 2024",
          "Jul 2024",
          "Aug 2024",
          "Sep 2024",
          "Oct 2024"
         ],
         "textfont": {
          "color": "white",
          "size": 10
         },
         "textposition": "top center",
         "type": "scatter",
         "x": [
          -1.75,
          -1.34,
          -1.07,
          -1.47,
          -1.48,
          -1.99,
          -2.02,
          -1.75,
          -0.38,
          0.73,
          0.06,
          -0.53,
          -0.35,
          -0.15,
          0.02,
          0.13,
          0.27,
          0.12,
          -0.51,
          -0.46,
          -0.74,
          -0.53,
          -0.3
         ],
         "y": [
          -0.28,
          -0.19,
          -0.12,
          -0.06,
          0.01,
          0.1,
          0.2,
          0.27,
          0.27,
          0.23,
          0.17,
          0.17,
          0.23,
          0.34,
          0.42,
          0.43,
          0.36,
          0.22,
          0.09,
          0.04,
          0.08,
          0.18,
          0.28
         ]
        }
       ],
       "layout": {
        "annotations": [
         {
          "font": {
           "color": "white",
           "size": 8
          },
          "showarrow": false,
          "text": "-2.1",
          "x": -2.1,
          "y": 0,
          "yshift": -15
         },
         {
          "font": {
           "color": "white",
           "size": 8
          },
          "showarrow": false,
          "text": "-2.0",
          "x": -2,
          "y": 0,
          "yshift": -15
         },
         {
          "font": {
           "color": "white",
           "size": 8
          },
          "showarrow": false,
          "text": "-1.9",
          "x": -1.9,
          "y": 0,
          "yshift": -15
         },
         {
          "font": {
           "color": "white",
           "size": 8
          },
          "showarrow": false,
          "text": "-1.8",
          "x": -1.8,
          "y": 0,
          "yshift": -15
         },
         {
          "font": {
           "color": "white",
           "size": 8
          },
          "showarrow": false,
          "text": "-1.7",
          "x": -1.7,
          "y": 0,
          "yshift": -15
         },
         {
          "font": {
           "color": "white",
           "size": 8
          },
          "showarrow": false,
          "text": "-1.6",
          "x": -1.6,
          "y": 0,
          "yshift": -15
         },
         {
          "font": {
           "color": "white",
           "size": 8
          },
          "showarrow": false,
          "text": "-1.5",
          "x": -1.5,
          "y": 0,
          "yshift": -15
         },
         {
          "font": {
           "color": "white",
           "size": 8
          },
          "showarrow": false,
          "text": "-1.4",
          "x": -1.4,
          "y": 0,
          "yshift": -15
         },
         {
          "font": {
           "color": "white",
           "size": 8
          },
          "showarrow": false,
          "text": "-1.3",
          "x": -1.3,
          "y": 0,
          "yshift": -15
         },
         {
          "font": {
           "color": "white",
           "size": 8
          },
          "showarrow": false,
          "text": "-1.2",
          "x": -1.2,
          "y": 0,
          "yshift": -15
         },
         {
          "font": {
           "color": "white",
           "size": 8
          },
          "showarrow": false,
          "text": "-1.1",
          "x": -1.1,
          "y": 0,
          "yshift": -15
         },
         {
          "font": {
           "color": "white",
           "size": 8
          },
          "showarrow": false,
          "text": "-1.0",
          "x": -1,
          "y": 0,
          "yshift": -15
         },
         {
          "font": {
           "color": "white",
           "size": 8
          },
          "showarrow": false,
          "text": "-0.9",
          "x": -0.9,
          "y": 0,
          "yshift": -15
         },
         {
          "font": {
           "color": "white",
           "size": 8
          },
          "showarrow": false,
          "text": "-0.8",
          "x": -0.8,
          "y": 0,
          "yshift": -15
         },
         {
          "font": {
           "color": "white",
           "size": 8
          },
          "showarrow": false,
          "text": "-0.7",
          "x": -0.7,
          "y": 0,
          "yshift": -15
         },
         {
          "font": {
           "color": "white",
           "size": 8
          },
          "showarrow": false,
          "text": "-0.6",
          "x": -0.6,
          "y": 0,
          "yshift": -15
         },
         {
          "font": {
           "color": "white",
           "size": 8
          },
          "showarrow": false,
          "text": "-0.5",
          "x": -0.5,
          "y": 0,
          "yshift": -15
         },
         {
          "font": {
           "color": "white",
           "size": 8
          },
          "showarrow": false,
          "text": "-0.4",
          "x": -0.4,
          "y": 0,
          "yshift": -15
         },
         {
          "font": {
           "color": "white",
           "size": 8
          },
          "showarrow": false,
          "text": "-0.3",
          "x": -0.3,
          "y": 0,
          "yshift": -15
         },
         {
          "font": {
           "color": "white",
           "size": 8
          },
          "showarrow": false,
          "text": "-0.2",
          "x": -0.2,
          "y": 0,
          "yshift": -15
         },
         {
          "font": {
           "color": "white",
           "size": 8
          },
          "showarrow": false,
          "text": "-0.1",
          "x": -0.1,
          "y": 0,
          "yshift": -15
         },
         {
          "font": {
           "color": "white",
           "size": 8
          },
          "showarrow": false,
          "text": "0.1",
          "x": 0.1,
          "y": 0,
          "yshift": -15
         },
         {
          "font": {
           "color": "white",
           "size": 8
          },
          "showarrow": false,
          "text": "0.2",
          "x": 0.2,
          "y": 0,
          "yshift": -15
         },
         {
          "font": {
           "color": "white",
           "size": 8
          },
          "showarrow": false,
          "text": "0.3",
          "x": 0.3,
          "y": 0,
          "yshift": -15
         },
         {
          "font": {
           "color": "white",
           "size": 8
          },
          "showarrow": false,
          "text": "0.4",
          "x": 0.4,
          "y": 0,
          "yshift": -15
         },
         {
          "font": {
           "color": "white",
           "size": 8
          },
          "showarrow": false,
          "text": "0.5",
          "x": 0.5,
          "y": 0,
          "yshift": -15
         },
         {
          "font": {
           "color": "white",
           "size": 8
          },
          "showarrow": false,
          "text": "0.6",
          "x": 0.6,
          "y": 0,
          "yshift": -15
         },
         {
          "font": {
           "color": "white",
           "size": 8
          },
          "showarrow": false,
          "text": "0.7",
          "x": 0.7,
          "y": 0,
          "yshift": -15
         },
         {
          "font": {
           "color": "white",
           "size": 8
          },
          "showarrow": false,
          "text": "0.8",
          "x": 0.8,
          "y": 0,
          "yshift": -15
         },
         {
          "font": {
           "color": "white",
           "size": 8
          },
          "showarrow": false,
          "text": "-0.4",
          "x": 0,
          "xshift": -15,
          "y": -0.4
         },
         {
          "font": {
           "color": "white",
           "size": 8
          },
          "showarrow": false,
          "text": "-0.3",
          "x": 0,
          "xshift": -15,
          "y": -0.3
         },
         {
          "font": {
           "color": "white",
           "size": 8
          },
          "showarrow": false,
          "text": "-0.2",
          "x": 0,
          "xshift": -15,
          "y": -0.2
         },
         {
          "font": {
           "color": "white",
           "size": 8
          },
          "showarrow": false,
          "text": "-0.1",
          "x": 0,
          "xshift": -15,
          "y": -0.1
         },
         {
          "font": {
           "color": "white",
           "size": 8
          },
          "showarrow": false,
          "text": "0.1",
          "x": 0,
          "xshift": -15,
          "y": 0.1
         },
         {
          "font": {
           "color": "white",
           "size": 8
          },
          "showarrow": false,
          "text": "0.2",
          "x": 0,
          "xshift": -15,
          "y": 0.2
         },
         {
          "font": {
           "color": "white",
           "size": 8
          },
          "showarrow": false,
          "text": "0.3",
          "x": 0,
          "xshift": -15,
          "y": 0.3
         },
         {
          "font": {
           "color": "white",
           "size": 8
          },
          "showarrow": false,
          "text": "0.4",
          "x": 0,
          "xshift": -15,
          "y": 0.4
         },
         {
          "font": {
           "color": "white",
           "size": 8
          },
          "showarrow": false,
          "text": "0.5",
          "x": 0,
          "xshift": -15,
          "y": 0.5
         },
         {
          "font": {
           "color": "rgba(144, 238, 144, 0.5)",
           "size": 20
          },
          "opacity": 0.5,
          "showarrow": false,
          "text": "humblBOOM",
          "x": -1.1475,
          "y": 0.2515
         },
         {
          "font": {
           "color": "rgba(173, 216, 230, 0.5)",
           "size": 20
          },
          "opacity": 0.5,
          "showarrow": false,
          "text": "humblBOUNCE",
          "x": 0.5025,
          "y": 0.2515
         },
         {
          "font": {
           "color": "rgba(255, 165, 0, 0.5)",
           "size": 20
          },
          "opacity": 0.5,
          "showarrow": false,
          "text": "humblBLOAT",
          "x": 0.5025,
          "y": -0.1865
         },
         {
          "font": {
           "color": "rgba(255, 99, 71, 0.5)",
           "size": 20
          },
          "opacity": 0.5,
          "showarrow": false,
          "text": "humblBUST",
          "x": -1.1475,
          "y": -0.1865
         },
         {
          "font": {
           "color": "rgba(255, 255, 255, 0.1)",
           "size": 40
          },
          "showarrow": false,
          "text": "humblDATA",
          "textangle": -25,
          "x": 0,
          "xanchor": "center",
          "xref": "x",
          "y": 0,
          "yanchor": "middle",
          "yref": "y"
         }
        ],
        "font": {
         "color": "white"
        },
        "hovermode": "closest",
        "margin": {
         "b": 50,
         "l": 50,
         "r": 50,
         "t": 50
        },
        "paper_bgcolor": "rgba(0,0,0,0)",
        "plot_bgcolor": "rgba(0,0,0,0)",
        "shapes": [
         {
          "fillcolor": "rgba(173, 216, 230, 0.3)",
          "layer": "below",
          "line": {
           "color": "rgba(0,0,0,0)"
          },
          "type": "rect",
          "x0": 0,
          "x1": 10,
          "y0": 0,
          "y1": 10
         },
         {
          "fillcolor": "rgba(144, 238, 144, 0.3)",
          "layer": "below",
          "line": {
           "color": "rgba(0,0,0,0)"
          },
          "type": "rect",
          "x0": -10,
          "x1": 0,
          "y0": 0,
          "y1": 10
         },
         {
          "fillcolor": "rgba(255, 165, 0, 0.3)",
          "layer": "below",
          "line": {
           "color": "rgba(0,0,0,0)"
          },
          "type": "rect",
          "x0": 0,
          "x1": 10,
          "y0": -10,
          "y1": 0
         },
         {
          "fillcolor": "rgba(255, 99, 71, 0.3)",
          "layer": "below",
          "line": {
           "color": "rgba(0,0,0,0)"
          },
          "type": "rect",
          "x0": -10,
          "x1": 0,
          "y0": -10,
          "y1": 0
         },
         {
          "line": {
           "color": "white",
           "width": 1
          },
          "type": "line",
          "x0": -2.295,
          "x1": 1.005,
          "y0": 0,
          "y1": 0
         },
         {
          "line": {
           "color": "white",
           "width": 1
          },
          "type": "line",
          "x0": 0,
          "x1": 0,
          "y0": -0.373,
          "y1": 0.503
         },
         {
          "line": {
           "color": "white",
           "width": 1
          },
          "type": "line",
          "x0": -2.1,
          "x1": -2.1,
          "y0": -0.005,
          "y1": 0.005
         },
         {
          "line": {
           "color": "white",
           "width": 1
          },
          "type": "line",
          "x0": -2,
          "x1": -2,
          "y0": -0.005,
          "y1": 0.005
         },
         {
          "line": {
           "color": "white",
           "width": 1
          },
          "type": "line",
          "x0": -1.9,
          "x1": -1.9,
          "y0": -0.005,
          "y1": 0.005
         },
         {
          "line": {
           "color": "white",
           "width": 1
          },
          "type": "line",
          "x0": -1.8,
          "x1": -1.8,
          "y0": -0.005,
          "y1": 0.005
         },
         {
          "line": {
           "color": "white",
           "width": 1
          },
          "type": "line",
          "x0": -1.7,
          "x1": -1.7,
          "y0": -0.005,
          "y1": 0.005
         },
         {
          "line": {
           "color": "white",
           "width": 1
          },
          "type": "line",
          "x0": -1.6,
          "x1": -1.6,
          "y0": -0.005,
          "y1": 0.005
         },
         {
          "line": {
           "color": "white",
           "width": 1
          },
          "type": "line",
          "x0": -1.5,
          "x1": -1.5,
          "y0": -0.005,
          "y1": 0.005
         },
         {
          "line": {
           "color": "white",
           "width": 1
          },
          "type": "line",
          "x0": -1.4,
          "x1": -1.4,
          "y0": -0.005,
          "y1": 0.005
         },
         {
          "line": {
           "color": "white",
           "width": 1
          },
          "type": "line",
          "x0": -1.3,
          "x1": -1.3,
          "y0": -0.005,
          "y1": 0.005
         },
         {
          "line": {
           "color": "white",
           "width": 1
          },
          "type": "line",
          "x0": -1.2,
          "x1": -1.2,
          "y0": -0.005,
          "y1": 0.005
         },
         {
          "line": {
           "color": "white",
           "width": 1
          },
          "type": "line",
          "x0": -1.1,
          "x1": -1.1,
          "y0": -0.005,
          "y1": 0.005
         },
         {
          "line": {
           "color": "white",
           "width": 1
          },
          "type": "line",
          "x0": -1,
          "x1": -1,
          "y0": -0.005,
          "y1": 0.005
         },
         {
          "line": {
           "color": "white",
           "width": 1
          },
          "type": "line",
          "x0": -0.9,
          "x1": -0.9,
          "y0": -0.005,
          "y1": 0.005
         },
         {
          "line": {
           "color": "white",
           "width": 1
          },
          "type": "line",
          "x0": -0.8,
          "x1": -0.8,
          "y0": -0.005,
          "y1": 0.005
         },
         {
          "line": {
           "color": "white",
           "width": 1
          },
          "type": "line",
          "x0": -0.7,
          "x1": -0.7,
          "y0": -0.005,
          "y1": 0.005
         },
         {
          "line": {
           "color": "white",
           "width": 1
          },
          "type": "line",
          "x0": -0.6,
          "x1": -0.6,
          "y0": -0.005,
          "y1": 0.005
         },
         {
          "line": {
           "color": "white",
           "width": 1
          },
          "type": "line",
          "x0": -0.5,
          "x1": -0.5,
          "y0": -0.005,
          "y1": 0.005
         },
         {
          "line": {
           "color": "white",
           "width": 1
          },
          "type": "line",
          "x0": -0.4,
          "x1": -0.4,
          "y0": -0.005,
          "y1": 0.005
         },
         {
          "line": {
           "color": "white",
           "width": 1
          },
          "type": "line",
          "x0": -0.3,
          "x1": -0.3,
          "y0": -0.005,
          "y1": 0.005
         },
         {
          "line": {
           "color": "white",
           "width": 1
          },
          "type": "line",
          "x0": -0.2,
          "x1": -0.2,
          "y0": -0.005,
          "y1": 0.005
         },
         {
          "line": {
           "color": "white",
           "width": 1
          },
          "type": "line",
          "x0": -0.1,
          "x1": -0.1,
          "y0": -0.005,
          "y1": 0.005
         },
         {
          "line": {
           "color": "white",
           "width": 1
          },
          "type": "line",
          "x0": 0.1,
          "x1": 0.1,
          "y0": -0.005,
          "y1": 0.005
         },
         {
          "line": {
           "color": "white",
           "width": 1
          },
          "type": "line",
          "x0": 0.2,
          "x1": 0.2,
          "y0": -0.005,
          "y1": 0.005
         },
         {
          "line": {
           "color": "white",
           "width": 1
          },
          "type": "line",
          "x0": 0.3,
          "x1": 0.3,
          "y0": -0.005,
          "y1": 0.005
         },
         {
          "line": {
           "color": "white",
           "width": 1
          },
          "type": "line",
          "x0": 0.4,
          "x1": 0.4,
          "y0": -0.005,
          "y1": 0.005
         },
         {
          "line": {
           "color": "white",
           "width": 1
          },
          "type": "line",
          "x0": 0.5,
          "x1": 0.5,
          "y0": -0.005,
          "y1": 0.005
         },
         {
          "line": {
           "color": "white",
           "width": 1
          },
          "type": "line",
          "x0": 0.6,
          "x1": 0.6,
          "y0": -0.005,
          "y1": 0.005
         },
         {
          "line": {
           "color": "white",
           "width": 1
          },
          "type": "line",
          "x0": 0.7,
          "x1": 0.7,
          "y0": -0.005,
          "y1": 0.005
         },
         {
          "line": {
           "color": "white",
           "width": 1
          },
          "type": "line",
          "x0": 0.8,
          "x1": 0.8,
          "y0": -0.005,
          "y1": 0.005
         },
         {
          "line": {
           "color": "white",
           "width": 1
          },
          "type": "line",
          "x0": -0.005,
          "x1": 0.005,
          "y0": -0.4,
          "y1": -0.4
         },
         {
          "line": {
           "color": "white",
           "width": 1
          },
          "type": "line",
          "x0": -0.005,
          "x1": 0.005,
          "y0": -0.3,
          "y1": -0.3
         },
         {
          "line": {
           "color": "white",
           "width": 1
          },
          "type": "line",
          "x0": -0.005,
          "x1": 0.005,
          "y0": -0.2,
          "y1": -0.2
         },
         {
          "line": {
           "color": "white",
           "width": 1
          },
          "type": "line",
          "x0": -0.005,
          "x1": 0.005,
          "y0": -0.1,
          "y1": -0.1
         },
         {
          "line": {
           "color": "white",
           "width": 1
          },
          "type": "line",
          "x0": -0.005,
          "x1": 0.005,
          "y0": 0.1,
          "y1": 0.1
         },
         {
          "line": {
           "color": "white",
           "width": 1
          },
          "type": "line",
          "x0": -0.005,
          "x1": 0.005,
          "y0": 0.2,
          "y1": 0.2
         },
         {
          "line": {
           "color": "white",
           "width": 1
          },
          "type": "line",
          "x0": -0.005,
          "x1": 0.005,
          "y0": 0.3,
          "y1": 0.3
         },
         {
          "line": {
           "color": "white",
           "width": 1
          },
          "type": "line",
          "x0": -0.005,
          "x1": 0.005,
          "y0": 0.4,
          "y1": 0.4
         },
         {
          "line": {
           "color": "white",
           "width": 1
          },
          "type": "line",
          "x0": -0.005,
          "x1": 0.005,
          "y0": 0.5,
          "y1": 0.5
         }
        ],
        "template": {
         "data": {
          "bar": [
           {
            "error_x": {
             "color": "#f2f5fa"
            },
            "error_y": {
             "color": "#f2f5fa"
            },
            "marker": {
             "line": {
              "color": "rgb(17,17,17)",
              "width": 0.5
             },
             "pattern": {
              "fillmode": "overlay",
              "size": 10,
              "solidity": 0.2
             }
            },
            "type": "bar"
           }
          ],
          "barpolar": [
           {
            "marker": {
             "line": {
              "color": "rgb(17,17,17)",
              "width": 0.5
             },
             "pattern": {
              "fillmode": "overlay",
              "size": 10,
              "solidity": 0.2
             }
            },
            "type": "barpolar"
           }
          ],
          "carpet": [
           {
            "aaxis": {
             "endlinecolor": "#A2B1C6",
             "gridcolor": "#506784",
             "linecolor": "#506784",
             "minorgridcolor": "#506784",
             "startlinecolor": "#A2B1C6"
            },
            "baxis": {
             "endlinecolor": "#A2B1C6",
             "gridcolor": "#506784",
             "linecolor": "#506784",
             "minorgridcolor": "#506784",
             "startlinecolor": "#A2B1C6"
            },
            "type": "carpet"
           }
          ],
          "choropleth": [
           {
            "colorbar": {
             "outlinewidth": 0,
             "ticks": ""
            },
            "type": "choropleth"
           }
          ],
          "contour": [
           {
            "colorbar": {
             "outlinewidth": 0,
             "ticks": ""
            },
            "colorscale": [
             [
              0,
              "#0d0887"
             ],
             [
              0.1111111111111111,
              "#46039f"
             ],
             [
              0.2222222222222222,
              "#7201a8"
             ],
             [
              0.3333333333333333,
              "#9c179e"
             ],
             [
              0.4444444444444444,
              "#bd3786"
             ],
             [
              0.5555555555555556,
              "#d8576b"
             ],
             [
              0.6666666666666666,
              "#ed7953"
             ],
             [
              0.7777777777777778,
              "#fb9f3a"
             ],
             [
              0.8888888888888888,
              "#fdca26"
             ],
             [
              1,
              "#f0f921"
             ]
            ],
            "type": "contour"
           }
          ],
          "contourcarpet": [
           {
            "colorbar": {
             "outlinewidth": 0,
             "ticks": ""
            },
            "type": "contourcarpet"
           }
          ],
          "heatmap": [
           {
            "colorbar": {
             "outlinewidth": 0,
             "ticks": ""
            },
            "colorscale": [
             [
              0,
              "#0d0887"
             ],
             [
              0.1111111111111111,
              "#46039f"
             ],
             [
              0.2222222222222222,
              "#7201a8"
             ],
             [
              0.3333333333333333,
              "#9c179e"
             ],
             [
              0.4444444444444444,
              "#bd3786"
             ],
             [
              0.5555555555555556,
              "#d8576b"
             ],
             [
              0.6666666666666666,
              "#ed7953"
             ],
             [
              0.7777777777777778,
              "#fb9f3a"
             ],
             [
              0.8888888888888888,
              "#fdca26"
             ],
             [
              1,
              "#f0f921"
             ]
            ],
            "type": "heatmap"
           }
          ],
          "heatmapgl": [
           {
            "colorbar": {
             "outlinewidth": 0,
             "ticks": ""
            },
            "colorscale": [
             [
              0,
              "#0d0887"
             ],
             [
              0.1111111111111111,
              "#46039f"
             ],
             [
              0.2222222222222222,
              "#7201a8"
             ],
             [
              0.3333333333333333,
              "#9c179e"
             ],
             [
              0.4444444444444444,
              "#bd3786"
             ],
             [
              0.5555555555555556,
              "#d8576b"
             ],
             [
              0.6666666666666666,
              "#ed7953"
             ],
             [
              0.7777777777777778,
              "#fb9f3a"
             ],
             [
              0.8888888888888888,
              "#fdca26"
             ],
             [
              1,
              "#f0f921"
             ]
            ],
            "type": "heatmapgl"
           }
          ],
          "histogram": [
           {
            "marker": {
             "pattern": {
              "fillmode": "overlay",
              "size": 10,
              "solidity": 0.2
             }
            },
            "type": "histogram"
           }
          ],
          "histogram2d": [
           {
            "colorbar": {
             "outlinewidth": 0,
             "ticks": ""
            },
            "colorscale": [
             [
              0,
              "#0d0887"
             ],
             [
              0.1111111111111111,
              "#46039f"
             ],
             [
              0.2222222222222222,
              "#7201a8"
             ],
             [
              0.3333333333333333,
              "#9c179e"
             ],
             [
              0.4444444444444444,
              "#bd3786"
             ],
             [
              0.5555555555555556,
              "#d8576b"
             ],
             [
              0.6666666666666666,
              "#ed7953"
             ],
             [
              0.7777777777777778,
              "#fb9f3a"
             ],
             [
              0.8888888888888888,
              "#fdca26"
             ],
             [
              1,
              "#f0f921"
             ]
            ],
            "type": "histogram2d"
           }
          ],
          "histogram2dcontour": [
           {
            "colorbar": {
             "outlinewidth": 0,
             "ticks": ""
            },
            "colorscale": [
             [
              0,
              "#0d0887"
             ],
             [
              0.1111111111111111,
              "#46039f"
             ],
             [
              0.2222222222222222,
              "#7201a8"
             ],
             [
              0.3333333333333333,
              "#9c179e"
             ],
             [
              0.4444444444444444,
              "#bd3786"
             ],
             [
              0.5555555555555556,
              "#d8576b"
             ],
             [
              0.6666666666666666,
              "#ed7953"
             ],
             [
              0.7777777777777778,
              "#fb9f3a"
             ],
             [
              0.8888888888888888,
              "#fdca26"
             ],
             [
              1,
              "#f0f921"
             ]
            ],
            "type": "histogram2dcontour"
           }
          ],
          "mesh3d": [
           {
            "colorbar": {
             "outlinewidth": 0,
             "ticks": ""
            },
            "type": "mesh3d"
           }
          ],
          "parcoords": [
           {
            "line": {
             "colorbar": {
              "outlinewidth": 0,
              "ticks": ""
             }
            },
            "type": "parcoords"
           }
          ],
          "pie": [
           {
            "automargin": true,
            "type": "pie"
           }
          ],
          "scatter": [
           {
            "fillpattern": {
             "fillmode": "overlay",
             "size": 10,
             "solidity": 0.2
            },
            "marker": {
             "line": {
              "color": "#283442"
             }
            },
            "type": "scatter"
           }
          ],
          "scatter3d": [
           {
            "line": {
             "colorbar": {
              "outlinewidth": 0,
              "ticks": ""
             }
            },
            "marker": {
             "colorbar": {
              "outlinewidth": 0,
              "ticks": ""
             }
            },
            "type": "scatter3d"
           }
          ],
          "scattercarpet": [
           {
            "marker": {
             "colorbar": {
              "outlinewidth": 0,
              "ticks": ""
             }
            },
            "type": "scattercarpet"
           }
          ],
          "scattergeo": [
           {
            "marker": {
             "colorbar": {
              "outlinewidth": 0,
              "ticks": ""
             }
            },
            "type": "scattergeo"
           }
          ],
          "scattergl": [
           {
            "marker": {
             "colorbar": {
              "outlinewidth": 0,
              "ticks": ""
             },
             "line": {
              "color": "#283442"
             }
            },
            "type": "scattergl"
           }
          ],
          "scattermapbox": [
           {
            "marker": {
             "colorbar": {
              "outlinewidth": 0,
              "ticks": ""
             }
            },
            "type": "scattermapbox"
           }
          ],
          "scatterpolar": [
           {
            "marker": {
             "colorbar": {
              "outlinewidth": 0,
              "ticks": ""
             }
            },
            "type": "scatterpolar"
           }
          ],
          "scatterpolargl": [
           {
            "marker": {
             "colorbar": {
              "outlinewidth": 0,
              "ticks": ""
             }
            },
            "type": "scatterpolargl"
           }
          ],
          "scatterternary": [
           {
            "marker": {
             "colorbar": {
              "outlinewidth": 0,
              "ticks": ""
             }
            },
            "type": "scatterternary"
           }
          ],
          "surface": [
           {
            "colorbar": {
             "outlinewidth": 0,
             "ticks": ""
            },
            "colorscale": [
             [
              0,
              "#0d0887"
             ],
             [
              0.1111111111111111,
              "#46039f"
             ],
             [
              0.2222222222222222,
              "#7201a8"
             ],
             [
              0.3333333333333333,
              "#9c179e"
             ],
             [
              0.4444444444444444,
              "#bd3786"
             ],
             [
              0.5555555555555556,
              "#d8576b"
             ],
             [
              0.6666666666666666,
              "#ed7953"
             ],
             [
              0.7777777777777778,
              "#fb9f3a"
             ],
             [
              0.8888888888888888,
              "#fdca26"
             ],
             [
              1,
              "#f0f921"
             ]
            ],
            "type": "surface"
           }
          ],
          "table": [
           {
            "cells": {
             "fill": {
              "color": "#506784"
             },
             "line": {
              "color": "rgb(17,17,17)"
             }
            },
            "header": {
             "fill": {
              "color": "#2a3f5f"
             },
             "line": {
              "color": "rgb(17,17,17)"
             }
            },
            "type": "table"
           }
          ]
         },
         "layout": {
          "annotationdefaults": {
           "arrowcolor": "#f2f5fa",
           "arrowhead": 0,
           "arrowwidth": 1
          },
          "autotypenumbers": "strict",
          "coloraxis": {
           "colorbar": {
            "outlinewidth": 0,
            "ticks": ""
           }
          },
          "colorscale": {
           "diverging": [
            [
             0,
             "#8e0152"
            ],
            [
             0.1,
             "#c51b7d"
            ],
            [
             0.2,
             "#de77ae"
            ],
            [
             0.3,
             "#f1b6da"
            ],
            [
             0.4,
             "#fde0ef"
            ],
            [
             0.5,
             "#f7f7f7"
            ],
            [
             0.6,
             "#e6f5d0"
            ],
            [
             0.7,
             "#b8e186"
            ],
            [
             0.8,
             "#7fbc41"
            ],
            [
             0.9,
             "#4d9221"
            ],
            [
             1,
             "#276419"
            ]
           ],
           "sequential": [
            [
             0,
             "#0d0887"
            ],
            [
             0.1111111111111111,
             "#46039f"
            ],
            [
             0.2222222222222222,
             "#7201a8"
            ],
            [
             0.3333333333333333,
             "#9c179e"
            ],
            [
             0.4444444444444444,
             "#bd3786"
            ],
            [
             0.5555555555555556,
             "#d8576b"
            ],
            [
             0.6666666666666666,
             "#ed7953"
            ],
            [
             0.7777777777777778,
             "#fb9f3a"
            ],
            [
             0.8888888888888888,
             "#fdca26"
            ],
            [
             1,
             "#f0f921"
            ]
           ],
           "sequentialminus": [
            [
             0,
             "#0d0887"
            ],
            [
             0.1111111111111111,
             "#46039f"
            ],
            [
             0.2222222222222222,
             "#7201a8"
            ],
            [
             0.3333333333333333,
             "#9c179e"
            ],
            [
             0.4444444444444444,
             "#bd3786"
            ],
            [
             0.5555555555555556,
             "#d8576b"
            ],
            [
             0.6666666666666666,
             "#ed7953"
            ],
            [
             0.7777777777777778,
             "#fb9f3a"
            ],
            [
             0.8888888888888888,
             "#fdca26"
            ],
            [
             1,
             "#f0f921"
            ]
           ]
          },
          "colorway": [
           "#636efa",
           "#EF553B",
           "#00cc96",
           "#ab63fa",
           "#FFA15A",
           "#19d3f3",
           "#FF6692",
           "#B6E880",
           "#FF97FF",
           "#FECB52"
          ],
          "font": {
           "color": "white"
          },
          "geo": {
           "bgcolor": "rgb(17,17,17)",
           "lakecolor": "rgb(17,17,17)",
           "landcolor": "rgb(17,17,17)",
           "showlakes": true,
           "showland": true,
           "subunitcolor": "#506784"
          },
          "hoverlabel": {
           "align": "left"
          },
          "hovermode": "closest",
          "legend": {
           "bgcolor": "rgb(0,0,0,0)",
           "bordercolor": "rgb(63,70,139)",
           "borderwidth": 0.5,
           "font": {
            "color": "white",
            "family": "open-sans",
            "size": 12
           },
           "orientation": "h",
           "traceorder": "normal",
           "x": 0.5,
           "xanchor": "center",
           "y": -0.15
          },
          "mapbox": {
           "style": "dark"
          },
          "paper_bgcolor": "rgb(0,0,0,0)",
          "plot_bgcolor": "rgb(0,0,0,0)",
          "polar": {
           "angularaxis": {
            "gridcolor": "#506784",
            "linecolor": "#506784",
            "ticks": ""
           },
           "bgcolor": "rgb(17,17,17)",
           "radialaxis": {
            "gridcolor": "#506784",
            "linecolor": "#506784",
            "ticks": ""
           }
          },
          "scene": {
           "xaxis": {
            "backgroundcolor": "rgb(17,17,17)",
            "gridcolor": "#506784",
            "gridwidth": 2,
            "linecolor": "#506784",
            "showbackground": true,
            "ticks": "",
            "zerolinecolor": "#C8D4E3"
           },
           "yaxis": {
            "backgroundcolor": "rgb(17,17,17)",
            "gridcolor": "#506784",
            "gridwidth": 2,
            "linecolor": "#506784",
            "showbackground": true,
            "ticks": "",
            "zerolinecolor": "#C8D4E3"
           },
           "zaxis": {
            "backgroundcolor": "rgb(17,17,17)",
            "gridcolor": "#506784",
            "gridwidth": 2,
            "linecolor": "#506784",
            "showbackground": true,
            "ticks": "",
            "zerolinecolor": "#C8D4E3"
           }
          },
          "shapedefaults": {
           "line": {
            "color": "#f2f5fa"
           }
          },
          "sliderdefaults": {
           "bgcolor": "#C8D4E3",
           "bordercolor": "rgb(17,17,17)",
           "borderwidth": 1,
           "tickwidth": 0
          },
          "ternary": {
           "aaxis": {
            "gridcolor": "#506784",
            "linecolor": "#506784",
            "ticks": ""
           },
           "baxis": {
            "gridcolor": "#506784",
            "linecolor": "#506784",
            "ticks": ""
           },
           "bgcolor": "rgb(17,17,17)",
           "caxis": {
            "gridcolor": "#506784",
            "linecolor": "#506784",
            "ticks": ""
           }
          },
          "title": {
           "x": 0.05
          },
          "updatemenudefaults": {
           "bgcolor": "#506784",
           "borderwidth": 0
          },
          "xaxis": {
           "automargin": true,
           "gridcolor": "#283442",
           "linecolor": "#506784",
           "ticks": "",
           "title": {
            "standoff": 15
           },
           "zerolinecolor": "#283442",
           "zerolinewidth": 2
          },
          "yaxis": {
           "automargin": true,
           "gridcolor": "#283442",
           "linecolor": "#506784",
           "side": "right",
           "ticks": "",
           "title": {
            "standoff": 15
           },
           "zerolinecolor": "#283442",
           "zerolinewidth": 2
          }
         }
        },
        "title": {
         "font": {
          "color": "white"
         },
         "text": "humblCOMPASS: CLI 3m Delta vs CPI 3m Delta"
        },
        "xaxis": {
         "color": "white",
         "range": [
          -2.295,
          1.005
         ],
         "showgrid": false,
         "showticklabels": false,
         "ticks": "",
         "title": {
          "text": "Inflation (CPI) 3-Month Delta"
         },
         "zeroline": false
        },
        "yaxis": {
         "color": "white",
         "range": [
          -0.373,
          0.503
         ],
         "showgrid": false,
         "showticklabels": false,
         "ticks": "",
         "title": {
          "text": "Growth (CLI) 3-Month Delta"
         },
         "zeroline": false
        }
       }
      }
     },
     "metadata": {},
     "output_type": "display_data"
    }
   ],
   "source": [
    "compass.show()"
   ]
  },
  {
   "cell_type": "code",
   "execution_count": null,
   "metadata": {},
   "outputs": [],
   "source": []
  }
 ],
 "metadata": {
  "kernelspec": {
   "display_name": "Python 3",
   "language": "python",
   "name": "python3"
  },
  "language_info": {
   "codemirror_mode": {
    "name": "ipython",
    "version": 3
   },
   "file_extension": ".py",
   "mimetype": "text/x-python",
   "name": "python",
   "nbconvert_exporter": "python",
   "pygments_lexer": "ipython3",
   "version": "3.12.4"
  }
 },
 "nbformat": 4,
 "nbformat_minor": 2
}
