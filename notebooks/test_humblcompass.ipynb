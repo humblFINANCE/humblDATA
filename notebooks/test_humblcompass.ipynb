{
 "cells": [
  {
   "cell_type": "code",
   "execution_count": 61,
   "metadata": {},
   "outputs": [
    {
     "name": "stdout",
     "output_type": "stream",
     "text": [
      "The autoreload extension is already loaded. To reload it, use:\n",
      "  %reload_ext autoreload\n"
     ]
    }
   ],
   "source": [
    "%load_ext autoreload\n",
    "%autoreload 2\n",
    "\n",
    "from humbldata.core.utils.openbb_helpers import obb_login\n",
    "from openbb import obb\n",
    "from humbldata.core.utils.env import Env\n",
    "import polars as pl\n",
    "\n",
    "# obb_login()\n",
    "obb.account.login(pat=Env().OBB_PAT, remember_me=True)"
   ]
  },
  {
   "cell_type": "markdown",
   "metadata": {},
   "source": [
    "# CPI + CLI DATA COLLECTION\n"
   ]
  },
  {
   "cell_type": "markdown",
   "metadata": {},
   "source": [
    "## OECD Composite Leading Indicator"
   ]
  },
  {
   "cell_type": "code",
   "execution_count": null,
   "metadata": {},
   "outputs": [],
   "source": [
    "cli = obb.economy.composite_leading_indicator(start_date='2024-01-01', provider='oecd', country=['united_states'])\n",
    "cli.to_polars()"
   ]
  },
  {
   "cell_type": "markdown",
   "metadata": {},
   "source": [
    "## Consumer Price Index"
   ]
  },
  {
   "cell_type": "markdown",
   "metadata": {},
   "source": [
    "### OECD Consumer Price Index"
   ]
  },
  {
   "cell_type": "code",
   "execution_count": null,
   "metadata": {},
   "outputs": [],
   "source": [
    "oecd_cpi = obb.economy.cpi(start_date='2010-01-01', country='united_states', transform='yoy', provider='oecd',harmonized=False, expenditure='total')\n",
    "oecd_cpi.results\n"
   ]
  },
  {
   "cell_type": "markdown",
   "metadata": {},
   "source": [
    "### FRED Consumer Price Index"
   ]
  },
  {
   "cell_type": "code",
   "execution_count": null,
   "metadata": {},
   "outputs": [],
   "source": [
    "fred_cpi = obb.economy.cpi(start_date='2024-07-01', country='united_states', transform='yoy', provider='fred')\n",
    "fred_cpi.results"
   ]
  },
  {
   "cell_type": "markdown",
   "metadata": {},
   "source": [
    "# humblCOMPASS "
   ]
  },
  {
   "cell_type": "code",
   "execution_count": 62,
   "metadata": {},
   "outputs": [
    {
     "name": "stderr",
     "output_type": "stream",
     "text": [
      "WARNING: ToolboxQueryParams || Start date adjusted to 2022-11-30 based on humblPEON membership (2Y of data).\n"
     ]
    },
    {
     "name": "stdout",
     "output_type": "stream",
     "text": [
      "The autoreload extension is already loaded. To reload it, use:\n",
      "  %reload_ext autoreload\n"
     ]
    }
   ],
   "source": [
    "%load_ext autoreload\n",
    "%autoreload 2\n",
    "\n",
    "from humbldata.toolbox.toolbox_controller import Toolbox\n",
    "\n",
    "toolbox = Toolbox(\n",
    "    # symbols=[\"AAPL\"],\n",
    "    # interval=\"1d\",\n",
    "    start_date=\"2022-01-01\",\n",
    "    # end_date=\"2024-10-01\",\n",
    "    membership=\"humblPEON\"\n",
    ")"
   ]
  },
  {
   "cell_type": "code",
   "execution_count": 66,
   "metadata": {},
   "outputs": [
    {
     "name": "stderr",
     "output_type": "stream",
     "text": [
      "INFO: HumblCompassFetcher || START: fetch_data (sync)\n",
      "WARNING: HumblCompassFetcher || Z-score is not calculated for humblPEON membership level.\n",
      "INFO: HumblCompassFetcher || CLI start date: 2022-07-30 and CPI start date: 2022-08-30. Dates are adjusted to account for CLI data release lag and z-score calculation window.\n",
      "ERROR: HumblCompassFetcher || EXCEPTION in fetch_data (sync) - Total time: 2.9707s\n",
      "Traceback (most recent call last):\n",
      "  File \"/Users/jjfantini/github/humblFINANCE-org/humblDATA/src/humbldata/core/utils/logger.py\", line 181, in sync_wrapper\n",
      "    result = func(*args, **kwargs)\n",
      "             ^^^^^^^^^^^^^^^^^^^^^\n",
      "  File \"/Users/jjfantini/github/humblFINANCE-org/humblDATA/src/humbldata/core/standard_models/toolbox/fundamental/humbl_compass.py\", line 933, in fetch_data\n",
      "    extra=self.extra,  # pipe in extra from transform_data()\n",
      "          ^^^^^^^^^^\n",
      "AttributeError: 'HumblCompassFetcher' object has no attribute 'extra'\n"
     ]
    },
    {
     "ename": "AttributeError",
     "evalue": "'HumblCompassFetcher' object has no attribute 'extra'",
     "output_type": "error",
     "traceback": [
      "\u001b[0;31m---------------------------------------------------------------------------\u001b[0m",
      "\u001b[0;31mAttributeError\u001b[0m                            Traceback (most recent call last)",
      "Cell \u001b[0;32mIn[66], line 1\u001b[0m\n\u001b[0;32m----> 1\u001b[0m compass \u001b[38;5;241m=\u001b[39m \u001b[43mtoolbox\u001b[49m\u001b[38;5;241;43m.\u001b[39;49m\u001b[43mfundamental\u001b[49m\u001b[38;5;241;43m.\u001b[39;49m\u001b[43mhumbl_compass\u001b[49m\u001b[43m(\u001b[49m\u001b[43mcountry\u001b[49m\u001b[38;5;241;43m=\u001b[39;49m\u001b[38;5;124;43m\"\u001b[39;49m\u001b[38;5;124;43munited_states\u001b[39;49m\u001b[38;5;124;43m\"\u001b[39;49m\u001b[43m,\u001b[49m\u001b[43m \u001b[49m\u001b[43mz_score\u001b[49m\u001b[38;5;241;43m=\u001b[39;49m\u001b[38;5;28;43;01mNone\u001b[39;49;00m\u001b[43m,\u001b[49m\u001b[43m \u001b[49m\u001b[43mchart\u001b[49m\u001b[38;5;241;43m=\u001b[39;49m\u001b[38;5;28;43;01mTrue\u001b[39;49;00m\u001b[43m,\u001b[49m\u001b[43m \u001b[49m\u001b[43mrecommendations\u001b[49m\u001b[38;5;241;43m=\u001b[39;49m\u001b[38;5;28;43;01mFalse\u001b[39;49;00m\u001b[43m)\u001b[49m\n",
      "File \u001b[0;32m~/github/humblFINANCE-org/humblDATA/src/humbldata/toolbox/fundamental/fundamental_controller.py:70\u001b[0m, in \u001b[0;36mFundamental.humbl_compass\u001b[0;34m(self, **kwargs)\u001b[0m\n\u001b[1;32m     65\u001b[0m fetcher \u001b[38;5;241m=\u001b[39m HumblCompassFetcher(\n\u001b[1;32m     66\u001b[0m     context_params\u001b[38;5;241m=\u001b[39m\u001b[38;5;28mself\u001b[39m\u001b[38;5;241m.\u001b[39mcontext_params, command_params\u001b[38;5;241m=\u001b[39mcommand_params\n\u001b[1;32m     67\u001b[0m )\n\u001b[1;32m     69\u001b[0m \u001b[38;5;66;03m# Use the fetcher to get the data\u001b[39;00m\n\u001b[0;32m---> 70\u001b[0m \u001b[38;5;28;01mreturn\u001b[39;00m \u001b[43mfetcher\u001b[49m\u001b[38;5;241;43m.\u001b[39;49m\u001b[43mfetch_data\u001b[49m\u001b[43m(\u001b[49m\u001b[43m)\u001b[49m\n",
      "File \u001b[0;32m~/github/humblFINANCE-org/humblDATA/src/humbldata/core/utils/logger.py:181\u001b[0m, in \u001b[0;36mlog_start_end.<locals>.decorator.<locals>.sync_wrapper\u001b[0;34m(*args, **kwargs)\u001b[0m\n\u001b[1;32m    178\u001b[0m logger\u001b[38;5;241m.\u001b[39minfo(\u001b[38;5;124mf\u001b[39m\u001b[38;5;124m\"\u001b[39m\u001b[38;5;124mSTART: \u001b[39m\u001b[38;5;132;01m{\u001b[39;00mfunc\u001b[38;5;241m.\u001b[39m\u001b[38;5;18m__name__\u001b[39m\u001b[38;5;132;01m}\u001b[39;00m\u001b[38;5;124m (sync)\u001b[39m\u001b[38;5;124m\"\u001b[39m)\n\u001b[1;32m    180\u001b[0m \u001b[38;5;28;01mtry\u001b[39;00m:\n\u001b[0;32m--> 181\u001b[0m     result \u001b[38;5;241m=\u001b[39m \u001b[43mfunc\u001b[49m\u001b[43m(\u001b[49m\u001b[38;5;241;43m*\u001b[39;49m\u001b[43margs\u001b[49m\u001b[43m,\u001b[49m\u001b[43m \u001b[49m\u001b[38;5;241;43m*\u001b[39;49m\u001b[38;5;241;43m*\u001b[39;49m\u001b[43mkwargs\u001b[49m\u001b[43m)\u001b[49m\n\u001b[1;32m    182\u001b[0m \u001b[38;5;28;01mexcept\u001b[39;00m \u001b[38;5;167;01mKeyboardInterrupt\u001b[39;00m:\n\u001b[1;32m    183\u001b[0m     end_time \u001b[38;5;241m=\u001b[39m time\u001b[38;5;241m.\u001b[39mtime()\n",
      "File \u001b[0;32m~/github/humblFINANCE-org/humblDATA/src/humbldata/core/standard_models/toolbox/fundamental/humbl_compass.py:933\u001b[0m, in \u001b[0;36mHumblCompassFetcher.fetch_data\u001b[0;34m(self)\u001b[0m\n\u001b[1;32m    923\u001b[0m \u001b[38;5;66;03m# Combine warnings from both sources\u001b[39;00m\n\u001b[1;32m    924\u001b[0m all_warnings \u001b[38;5;241m=\u001b[39m \u001b[38;5;28mself\u001b[39m\u001b[38;5;241m.\u001b[39mcontext_params\u001b[38;5;241m.\u001b[39mwarnings \u001b[38;5;241m+\u001b[39m \u001b[38;5;28mself\u001b[39m\u001b[38;5;241m.\u001b[39mwarnings\n\u001b[1;32m    926\u001b[0m \u001b[38;5;28;01mreturn\u001b[39;00m HumblObject(\n\u001b[1;32m    927\u001b[0m     results\u001b[38;5;241m=\u001b[39m\u001b[38;5;28mself\u001b[39m\u001b[38;5;241m.\u001b[39mtransformed_data,\n\u001b[1;32m    928\u001b[0m     provider\u001b[38;5;241m=\u001b[39m\u001b[38;5;28mself\u001b[39m\u001b[38;5;241m.\u001b[39mcontext_params\u001b[38;5;241m.\u001b[39mprovider,\n\u001b[1;32m    929\u001b[0m     warnings\u001b[38;5;241m=\u001b[39mall_warnings,  \u001b[38;5;66;03m# Use combined warnings\u001b[39;00m\n\u001b[1;32m    930\u001b[0m     chart\u001b[38;5;241m=\u001b[39m\u001b[38;5;28mself\u001b[39m\u001b[38;5;241m.\u001b[39mchart,\n\u001b[1;32m    931\u001b[0m     context_params\u001b[38;5;241m=\u001b[39m\u001b[38;5;28mself\u001b[39m\u001b[38;5;241m.\u001b[39mcontext_params,\n\u001b[1;32m    932\u001b[0m     command_params\u001b[38;5;241m=\u001b[39m\u001b[38;5;28mself\u001b[39m\u001b[38;5;241m.\u001b[39mcommand_params,\n\u001b[0;32m--> 933\u001b[0m     extra\u001b[38;5;241m=\u001b[39m\u001b[38;5;28;43mself\u001b[39;49m\u001b[38;5;241;43m.\u001b[39;49m\u001b[43mextra\u001b[49m,  \u001b[38;5;66;03m# pipe in extra from transform_data()\u001b[39;00m\n\u001b[1;32m    934\u001b[0m )\n",
      "\u001b[0;31mAttributeError\u001b[0m: 'HumblCompassFetcher' object has no attribute 'extra'"
     ]
    }
   ],
   "source": [
    "compass = toolbox.fundamental.humbl_compass(country=\"united_states\", z_score=None, chart=True, recommendations=False)"
   ]
  },
  {
   "cell_type": "code",
   "execution_count": 64,
   "metadata": {},
   "outputs": [
    {
     "data": {
      "text/plain": [
       "[HumblDataWarning(category='ToolboxQueryParams', message='Start date adjusted to 2022-11-30 based on humblPEON membership (2Y of data).'),\n",
       " HumblDataWarning(category='HumblCompassFetcher', message='Z-score defaulted to None. No z-score data will be calculated.')]"
      ]
     },
     "execution_count": 64,
     "metadata": {},
     "output_type": "execute_result"
    }
   ],
   "source": [
    "compass.warnings"
   ]
  },
  {
   "cell_type": "code",
   "execution_count": 65,
   "metadata": {},
   "outputs": [
    {
     "data": {
      "text/plain": [
       "{'humbl_regime_recommendations': {'asset_classes': {'best': [<AssetRecommendation.EQUITIES: 'Equities'>,\n",
       "    <AssetRecommendation.CREDIT: 'Credit'>,\n",
       "    <AssetRecommendation.COMMODITIES: 'Commodities'>,\n",
       "    <AssetRecommendation.FX: 'FX'>],\n",
       "   'worst': [<AssetRecommendation.FIXED_INCOME: 'Fixed Income'>,\n",
       "    <AssetRecommendation.USD: 'USD'>],\n",
       "   'rationale': 'Strong growth and inflation expectations favor risk assets'},\n",
       "  'equity_sectors': {'best': [<AssetRecommendation.TECHNOLOGY: 'Technology'>,\n",
       "    <AssetRecommendation.CONSUMER_DISCRETIONARY: 'Consumer Discretionary'>,\n",
       "    <AssetRecommendation.MATERIALS: 'Materials'>,\n",
       "    <AssetRecommendation.INDUSTRIALS: 'Industrials'>],\n",
       "   'worst': [<AssetRecommendation.UTILITIES: 'Utilities'>,\n",
       "    <AssetRecommendation.REITS: 'REITs'>,\n",
       "    <AssetRecommendation.CONSUMER_STAPLES: 'Consumer Staples'>,\n",
       "    <AssetRecommendation.FINANCIALS: 'Financials'>],\n",
       "   'rationale': 'Growth sectors outperform in expansionary environments'},\n",
       "  'equity_factors': {'best': [<AssetRecommendation.HIGH_BETA: 'High Beta'>,\n",
       "    <AssetRecommendation.MOMENTUM: 'Momentum'>,\n",
       "    <AssetRecommendation.CYCLICALS: 'Cyclicals'>,\n",
       "    <AssetRecommendation.SECULAR_GROWTH: 'Secular Growth'>],\n",
       "   'worst': [<AssetRecommendation.LOW_BETA: 'Low Beta'>,\n",
       "    <AssetRecommendation.DEFENSIVES: 'Defensives'>,\n",
       "    <AssetRecommendation.VALUE: 'Value'>,\n",
       "    <AssetRecommendation.DIVIDEND_YIELD: 'Dividend Yield'>],\n",
       "   'rationale': 'Risk-on factors perform well in growth environments'},\n",
       "  'fixed_income': {'best': [<AssetRecommendation.BDCS: 'BDCs'>,\n",
       "    <AssetRecommendation.CONVERTIBLES: 'Convertibles'>,\n",
       "    <AssetRecommendation.HY_CREDIT: 'HY Credit'>,\n",
       "    <AssetRecommendation.EM_DEBT: 'EM Debt'>],\n",
       "   'worst': [<AssetRecommendation.TIPS: 'TIPS'>,\n",
       "    <AssetRecommendation.SHORT_DURATION_TREASURIES: 'Short Duration Treasuries'>,\n",
       "    <AssetRecommendation.MORTGAGE_BACKED_SECURITIES: 'Mortgage Backed Securities'>,\n",
       "    <AssetRecommendation.MEDIUM_DURATION_TREASURIES: 'Medium Duration Treasuries'>],\n",
       "   'rationale': 'Credit risk outperforms duration risk'},\n",
       "  'regime_description': 'Strong growth and rising inflation environment favors risk assets with big market multiples in equities, junk bonds, and real growth',\n",
       "  'key_risks': ['Inflation overshooting',\n",
       "   'Policy tightening',\n",
       "   'Valuation compression'],\n",
       "  'last_updated': datetime.datetime(2024, 11, 29, 14, 40, 25, 431300)}}"
      ]
     },
     "execution_count": 65,
     "metadata": {},
     "output_type": "execute_result"
    }
   ],
   "source": [
    "compass.extra\n"
   ]
  },
  {
   "cell_type": "code",
   "execution_count": 17,
   "metadata": {},
   "outputs": [
    {
     "data": {
      "text/plain": [
       "(datetime.date(2024, 10, 1), 'humblBOOM')"
      ]
     },
     "execution_count": 17,
     "metadata": {},
     "output_type": "execute_result"
    }
   ],
   "source": [
    "df = compass.to_json()\n",
    "compass.to_polars().select([\"date_month_start\", \"humbl_regime\"]).row(-1)"
   ]
  },
  {
   "cell_type": "code",
   "execution_count": 7,
   "metadata": {},
   "outputs": [
    {
     "data": {
      "application/vnd.plotly.v1+json": {
       "config": {
        "plotlyServerURL": "https://plot.ly"
       },
       "data": [
        {
         "hovertemplate": "<b>%{text}</b><br>CPI 3m Δ: %{x:.2f}<br>CLI 3m Δ: %{y:.2f}<extra></extra>",
         "line": {
          "color": "white",
          "shape": "spline",
          "smoothing": 1.3
         },
         "marker": {
          "color": [
           0,
           1,
           2,
           3,
           4,
           5,
           6,
           7,
           8,
           9,
           10,
           11,
           12,
           13,
           14,
           15,
           16,
           17,
           18,
           19,
           20,
           21,
           22
          ],
          "colorscale": [
           [
            0,
            "rgb(253, 202, 181)"
           ],
           [
            1,
            "rgb(188, 20, 26)"
           ]
          ],
          "showscale": false,
          "size": 10
         },
         "mode": "lines+markers+text",
         "name": "HumblCompass Data",
         "text": [
          "Dec 2022",
          "Jan 2023",
          "Feb 2023",
          "Mar 2023",
          "Apr 2023",
          "May 2023",
          "Jun 2023",
          "Jul 2023",
          "Aug 2023",
          "Sep 2023",
          "Oct 2023",
          "Nov 2023",
          "Dec 2023",
          "Jan 2024",
          "Feb 2024",
          "Mar 2024",
          "Apr 2024",
          "May 2024",
          "Jun 2024",
          "Jul 2024",
          "Aug 2024",
          "Sep 2024",
          "Oct 2024"
         ],
         "textfont": {
          "color": "white",
          "size": 10
         },
         "textposition": "top center",
         "type": "scatter",
         "x": [
          -1.75,
          -1.34,
          -1.07,
          -1.47,
          -1.48,
          -1.99,
          -2.02,
          -1.75,
          -0.38,
          0.73,
          0.06,
          -0.53,
          -0.35,
          -0.15,
          0.02,
          0.13,
          0.27,
          0.12,
          -0.51,
          -0.46,
          -0.74,
          -0.53,
          -0.3
         ],
         "y": [
          -0.28,
          -0.19,
          -0.12,
          -0.06,
          0.01,
          0.1,
          0.2,
          0.27,
          0.27,
          0.23,
          0.17,
          0.17,
          0.23,
          0.34,
          0.42,
          0.43,
          0.36,
          0.22,
          0.09,
          0.04,
          0.08,
          0.18,
          0.28
         ]
        }
       ],
       "layout": {
        "annotations": [
         {
          "font": {
           "color": "white",
           "size": 8
          },
          "showarrow": false,
          "text": "-2.1",
          "x": -2.1,
          "y": 0,
          "yshift": -15
         },
         {
          "font": {
           "color": "white",
           "size": 8
          },
          "showarrow": false,
          "text": "-2.0",
          "x": -2,
          "y": 0,
          "yshift": -15
         },
         {
          "font": {
           "color": "white",
           "size": 8
          },
          "showarrow": false,
          "text": "-1.9",
          "x": -1.9,
          "y": 0,
          "yshift": -15
         },
         {
          "font": {
           "color": "white",
           "size": 8
          },
          "showarrow": false,
          "text": "-1.8",
          "x": -1.8,
          "y": 0,
          "yshift": -15
         },
         {
          "font": {
           "color": "white",
           "size": 8
          },
          "showarrow": false,
          "text": "-1.7",
          "x": -1.7,
          "y": 0,
          "yshift": -15
         },
         {
          "font": {
           "color": "white",
           "size": 8
          },
          "showarrow": false,
          "text": "-1.6",
          "x": -1.6,
          "y": 0,
          "yshift": -15
         },
         {
          "font": {
           "color": "white",
           "size": 8
          },
          "showarrow": false,
          "text": "-1.5",
          "x": -1.5,
          "y": 0,
          "yshift": -15
         },
         {
          "font": {
           "color": "white",
           "size": 8
          },
          "showarrow": false,
          "text": "-1.4",
          "x": -1.4,
          "y": 0,
          "yshift": -15
         },
         {
          "font": {
           "color": "white",
           "size": 8
          },
          "showarrow": false,
          "text": "-1.3",
          "x": -1.3,
          "y": 0,
          "yshift": -15
         },
         {
          "font": {
           "color": "white",
           "size": 8
          },
          "showarrow": false,
          "text": "-1.2",
          "x": -1.2,
          "y": 0,
          "yshift": -15
         },
         {
          "font": {
           "color": "white",
           "size": 8
          },
          "showarrow": false,
          "text": "-1.1",
          "x": -1.1,
          "y": 0,
          "yshift": -15
         },
         {
          "font": {
           "color": "white",
           "size": 8
          },
          "showarrow": false,
          "text": "-1.0",
          "x": -1,
          "y": 0,
          "yshift": -15
         },
         {
          "font": {
           "color": "white",
           "size": 8
          },
          "showarrow": false,
          "text": "-0.9",
          "x": -0.9,
          "y": 0,
          "yshift": -15
         },
         {
          "font": {
           "color": "white",
           "size": 8
          },
          "showarrow": false,
          "text": "-0.8",
          "x": -0.8,
          "y": 0,
          "yshift": -15
         },
         {
          "font": {
           "color": "white",
           "size": 8
          },
          "showarrow": false,
          "text": "-0.7",
          "x": -0.7,
          "y": 0,
          "yshift": -15
         },
         {
          "font": {
           "color": "white",
           "size": 8
          },
          "showarrow": false,
          "text": "-0.6",
          "x": -0.6,
          "y": 0,
          "yshift": -15
         },
         {
          "font": {
           "color": "white",
           "size": 8
          },
          "showarrow": false,
          "text": "-0.5",
          "x": -0.5,
          "y": 0,
          "yshift": -15
         },
         {
          "font": {
           "color": "white",
           "size": 8
          },
          "showarrow": false,
          "text": "-0.4",
          "x": -0.4,
          "y": 0,
          "yshift": -15
         },
         {
          "font": {
           "color": "white",
           "size": 8
          },
          "showarrow": false,
          "text": "-0.3",
          "x": -0.3,
          "y": 0,
          "yshift": -15
         },
         {
          "font": {
           "color": "white",
           "size": 8
          },
          "showarrow": false,
          "text": "-0.2",
          "x": -0.2,
          "y": 0,
          "yshift": -15
         },
         {
          "font": {
           "color": "white",
           "size": 8
          },
          "showarrow": false,
          "text": "-0.1",
          "x": -0.1,
          "y": 0,
          "yshift": -15
         },
         {
          "font": {
           "color": "white",
           "size": 8
          },
          "showarrow": false,
          "text": "0.1",
          "x": 0.1,
          "y": 0,
          "yshift": -15
         },
         {
          "font": {
           "color": "white",
           "size": 8
          },
          "showarrow": false,
          "text": "0.2",
          "x": 0.2,
          "y": 0,
          "yshift": -15
         },
         {
          "font": {
           "color": "white",
           "size": 8
          },
          "showarrow": false,
          "text": "0.3",
          "x": 0.3,
          "y": 0,
          "yshift": -15
         },
         {
          "font": {
           "color": "white",
           "size": 8
          },
          "showarrow": false,
          "text": "0.4",
          "x": 0.4,
          "y": 0,
          "yshift": -15
         },
         {
          "font": {
           "color": "white",
           "size": 8
          },
          "showarrow": false,
          "text": "0.5",
          "x": 0.5,
          "y": 0,
          "yshift": -15
         },
         {
          "font": {
           "color": "white",
           "size": 8
          },
          "showarrow": false,
          "text": "0.6",
          "x": 0.6,
          "y": 0,
          "yshift": -15
         },
         {
          "font": {
           "color": "white",
           "size": 8
          },
          "showarrow": false,
          "text": "0.7",
          "x": 0.7,
          "y": 0,
          "yshift": -15
         },
         {
          "font": {
           "color": "white",
           "size": 8
          },
          "showarrow": false,
          "text": "0.8",
          "x": 0.8,
          "y": 0,
          "yshift": -15
         },
         {
          "font": {
           "color": "white",
           "size": 8
          },
          "showarrow": false,
          "text": "-0.4",
          "x": 0,
          "xshift": -15,
          "y": -0.4
         },
         {
          "font": {
           "color": "white",
           "size": 8
          },
          "showarrow": false,
          "text": "-0.3",
          "x": 0,
          "xshift": -15,
          "y": -0.3
         },
         {
          "font": {
           "color": "white",
           "size": 8
          },
          "showarrow": false,
          "text": "-0.2",
          "x": 0,
          "xshift": -15,
          "y": -0.2
         },
         {
          "font": {
           "color": "white",
           "size": 8
          },
          "showarrow": false,
          "text": "-0.1",
          "x": 0,
          "xshift": -15,
          "y": -0.1
         },
         {
          "font": {
           "color": "white",
           "size": 8
          },
          "showarrow": false,
          "text": "0.1",
          "x": 0,
          "xshift": -15,
          "y": 0.1
         },
         {
          "font": {
           "color": "white",
           "size": 8
          },
          "showarrow": false,
          "text": "0.2",
          "x": 0,
          "xshift": -15,
          "y": 0.2
         },
         {
          "font": {
           "color": "white",
           "size": 8
          },
          "showarrow": false,
          "text": "0.3",
          "x": 0,
          "xshift": -15,
          "y": 0.3
         },
         {
          "font": {
           "color": "white",
           "size": 8
          },
          "showarrow": false,
          "text": "0.4",
          "x": 0,
          "xshift": -15,
          "y": 0.4
         },
         {
          "font": {
           "color": "white",
           "size": 8
          },
          "showarrow": false,
          "text": "0.5",
          "x": 0,
          "xshift": -15,
          "y": 0.5
         },
         {
          "font": {
           "color": "rgba(144, 238, 144, 0.5)",
           "size": 20
          },
          "opacity": 0.5,
          "showarrow": false,
          "text": "humblBOOM",
          "x": -1.1475,
          "y": 0.2515
         },
         {
          "font": {
           "color": "rgba(173, 216, 230, 0.5)",
           "size": 20
          },
          "opacity": 0.5,
          "showarrow": false,
          "text": "humblBOUNCE",
          "x": 0.5025,
          "y": 0.2515
         },
         {
          "font": {
           "color": "rgba(255, 165, 0, 0.5)",
           "size": 20
          },
          "opacity": 0.5,
          "showarrow": false,
          "text": "humblBLOAT",
          "x": 0.5025,
          "y": -0.1865
         },
         {
          "font": {
           "color": "rgba(255, 99, 71, 0.5)",
           "size": 20
          },
          "opacity": 0.5,
          "showarrow": false,
          "text": "humblBUST",
          "x": -1.1475,
          "y": -0.1865
         },
         {
          "font": {
           "color": "rgba(255, 255, 255, 0.1)",
           "size": 40
          },
          "showarrow": false,
          "text": "humblDATA",
          "textangle": -25,
          "x": 0,
          "xanchor": "center",
          "xref": "x",
          "y": 0,
          "yanchor": "middle",
          "yref": "y"
         }
        ],
        "font": {
         "color": "white"
        },
        "hovermode": "closest",
        "margin": {
         "b": 50,
         "l": 50,
         "r": 50,
         "t": 50
        },
        "paper_bgcolor": "rgba(0,0,0,0)",
        "plot_bgcolor": "rgba(0,0,0,0)",
        "shapes": [
         {
          "fillcolor": "rgba(173, 216, 230, 0.3)",
          "layer": "below",
          "line": {
           "color": "rgba(0,0,0,0)"
          },
          "type": "rect",
          "x0": 0,
          "x1": 10,
          "y0": 0,
          "y1": 10
         },
         {
          "fillcolor": "rgba(144, 238, 144, 0.3)",
          "layer": "below",
          "line": {
           "color": "rgba(0,0,0,0)"
          },
          "type": "rect",
          "x0": -10,
          "x1": 0,
          "y0": 0,
          "y1": 10
         },
         {
          "fillcolor": "rgba(255, 165, 0, 0.3)",
          "layer": "below",
          "line": {
           "color": "rgba(0,0,0,0)"
          },
          "type": "rect",
          "x0": 0,
          "x1": 10,
          "y0": -10,
          "y1": 0
         },
         {
          "fillcolor": "rgba(255, 99, 71, 0.3)",
          "layer": "below",
          "line": {
           "color": "rgba(0,0,0,0)"
          },
          "type": "rect",
          "x0": -10,
          "x1": 0,
          "y0": -10,
          "y1": 0
         },
         {
          "line": {
           "color": "white",
           "width": 1
          },
          "type": "line",
          "x0": -2.295,
          "x1": 1.005,
          "y0": 0,
          "y1": 0
         },
         {
          "line": {
           "color": "white",
           "width": 1
          },
          "type": "line",
          "x0": 0,
          "x1": 0,
          "y0": -0.373,
          "y1": 0.503
         },
         {
          "line": {
           "color": "white",
           "width": 1
          },
          "type": "line",
          "x0": -2.1,
          "x1": -2.1,
          "y0": -0.005,
          "y1": 0.005
         },
         {
          "line": {
           "color": "white",
           "width": 1
          },
          "type": "line",
          "x0": -2,
          "x1": -2,
          "y0": -0.005,
          "y1": 0.005
         },
         {
          "line": {
           "color": "white",
           "width": 1
          },
          "type": "line",
          "x0": -1.9,
          "x1": -1.9,
          "y0": -0.005,
          "y1": 0.005
         },
         {
          "line": {
           "color": "white",
           "width": 1
          },
          "type": "line",
          "x0": -1.8,
          "x1": -1.8,
          "y0": -0.005,
          "y1": 0.005
         },
         {
          "line": {
           "color": "white",
           "width": 1
          },
          "type": "line",
          "x0": -1.7,
          "x1": -1.7,
          "y0": -0.005,
          "y1": 0.005
         },
         {
          "line": {
           "color": "white",
           "width": 1
          },
          "type": "line",
          "x0": -1.6,
          "x1": -1.6,
          "y0": -0.005,
          "y1": 0.005
         },
         {
          "line": {
           "color": "white",
           "width": 1
          },
          "type": "line",
          "x0": -1.5,
          "x1": -1.5,
          "y0": -0.005,
          "y1": 0.005
         },
         {
          "line": {
           "color": "white",
           "width": 1
          },
          "type": "line",
          "x0": -1.4,
          "x1": -1.4,
          "y0": -0.005,
          "y1": 0.005
         },
         {
          "line": {
           "color": "white",
           "width": 1
          },
          "type": "line",
          "x0": -1.3,
          "x1": -1.3,
          "y0": -0.005,
          "y1": 0.005
         },
         {
          "line": {
           "color": "white",
           "width": 1
          },
          "type": "line",
          "x0": -1.2,
          "x1": -1.2,
          "y0": -0.005,
          "y1": 0.005
         },
         {
          "line": {
           "color": "white",
           "width": 1
          },
          "type": "line",
          "x0": -1.1,
          "x1": -1.1,
          "y0": -0.005,
          "y1": 0.005
         },
         {
          "line": {
           "color": "white",
           "width": 1
          },
          "type": "line",
          "x0": -1,
          "x1": -1,
          "y0": -0.005,
          "y1": 0.005
         },
         {
          "line": {
           "color": "white",
           "width": 1
          },
          "type": "line",
          "x0": -0.9,
          "x1": -0.9,
          "y0": -0.005,
          "y1": 0.005
         },
         {
          "line": {
           "color": "white",
           "width": 1
          },
          "type": "line",
          "x0": -0.8,
          "x1": -0.8,
          "y0": -0.005,
          "y1": 0.005
         },
         {
          "line": {
           "color": "white",
           "width": 1
          },
          "type": "line",
          "x0": -0.7,
          "x1": -0.7,
          "y0": -0.005,
          "y1": 0.005
         },
         {
          "line": {
           "color": "white",
           "width": 1
          },
          "type": "line",
          "x0": -0.6,
          "x1": -0.6,
          "y0": -0.005,
          "y1": 0.005
         },
         {
          "line": {
           "color": "white",
           "width": 1
          },
          "type": "line",
          "x0": -0.5,
          "x1": -0.5,
          "y0": -0.005,
          "y1": 0.005
         },
         {
          "line": {
           "color": "white",
           "width": 1
          },
          "type": "line",
          "x0": -0.4,
          "x1": -0.4,
          "y0": -0.005,
          "y1": 0.005
         },
         {
          "line": {
           "color": "white",
           "width": 1
          },
          "type": "line",
          "x0": -0.3,
          "x1": -0.3,
          "y0": -0.005,
          "y1": 0.005
         },
         {
          "line": {
           "color": "white",
           "width": 1
          },
          "type": "line",
          "x0": -0.2,
          "x1": -0.2,
          "y0": -0.005,
          "y1": 0.005
         },
         {
          "line": {
           "color": "white",
           "width": 1
          },
          "type": "line",
          "x0": -0.1,
          "x1": -0.1,
          "y0": -0.005,
          "y1": 0.005
         },
         {
          "line": {
           "color": "white",
           "width": 1
          },
          "type": "line",
          "x0": 0.1,
          "x1": 0.1,
          "y0": -0.005,
          "y1": 0.005
         },
         {
          "line": {
           "color": "white",
           "width": 1
          },
          "type": "line",
          "x0": 0.2,
          "x1": 0.2,
          "y0": -0.005,
          "y1": 0.005
         },
         {
          "line": {
           "color": "white",
           "width": 1
          },
          "type": "line",
          "x0": 0.3,
          "x1": 0.3,
          "y0": -0.005,
          "y1": 0.005
         },
         {
          "line": {
           "color": "white",
           "width": 1
          },
          "type": "line",
          "x0": 0.4,
          "x1": 0.4,
          "y0": -0.005,
          "y1": 0.005
         },
         {
          "line": {
           "color": "white",
           "width": 1
          },
          "type": "line",
          "x0": 0.5,
          "x1": 0.5,
          "y0": -0.005,
          "y1": 0.005
         },
         {
          "line": {
           "color": "white",
           "width": 1
          },
          "type": "line",
          "x0": 0.6,
          "x1": 0.6,
          "y0": -0.005,
          "y1": 0.005
         },
         {
          "line": {
           "color": "white",
           "width": 1
          },
          "type": "line",
          "x0": 0.7,
          "x1": 0.7,
          "y0": -0.005,
          "y1": 0.005
         },
         {
          "line": {
           "color": "white",
           "width": 1
          },
          "type": "line",
          "x0": 0.8,
          "x1": 0.8,
          "y0": -0.005,
          "y1": 0.005
         },
         {
          "line": {
           "color": "white",
           "width": 1
          },
          "type": "line",
          "x0": -0.005,
          "x1": 0.005,
          "y0": -0.4,
          "y1": -0.4
         },
         {
          "line": {
           "color": "white",
           "width": 1
          },
          "type": "line",
          "x0": -0.005,
          "x1": 0.005,
          "y0": -0.3,
          "y1": -0.3
         },
         {
          "line": {
           "color": "white",
           "width": 1
          },
          "type": "line",
          "x0": -0.005,
          "x1": 0.005,
          "y0": -0.2,
          "y1": -0.2
         },
         {
          "line": {
           "color": "white",
           "width": 1
          },
          "type": "line",
          "x0": -0.005,
          "x1": 0.005,
          "y0": -0.1,
          "y1": -0.1
         },
         {
          "line": {
           "color": "white",
           "width": 1
          },
          "type": "line",
          "x0": -0.005,
          "x1": 0.005,
          "y0": 0.1,
          "y1": 0.1
         },
         {
          "line": {
           "color": "white",
           "width": 1
          },
          "type": "line",
          "x0": -0.005,
          "x1": 0.005,
          "y0": 0.2,
          "y1": 0.2
         },
         {
          "line": {
           "color": "white",
           "width": 1
          },
          "type": "line",
          "x0": -0.005,
          "x1": 0.005,
          "y0": 0.3,
          "y1": 0.3
         },
         {
          "line": {
           "color": "white",
           "width": 1
          },
          "type": "line",
          "x0": -0.005,
          "x1": 0.005,
          "y0": 0.4,
          "y1": 0.4
         },
         {
          "line": {
           "color": "white",
           "width": 1
          },
          "type": "line",
          "x0": -0.005,
          "x1": 0.005,
          "y0": 0.5,
          "y1": 0.5
         }
        ],
        "template": {
         "data": {
          "bar": [
           {
            "error_x": {
             "color": "#f2f5fa"
            },
            "error_y": {
             "color": "#f2f5fa"
            },
            "marker": {
             "line": {
              "color": "rgb(17,17,17)",
              "width": 0.5
             },
             "pattern": {
              "fillmode": "overlay",
              "size": 10,
              "solidity": 0.2
             }
            },
            "type": "bar"
           }
          ],
          "barpolar": [
           {
            "marker": {
             "line": {
              "color": "rgb(17,17,17)",
              "width": 0.5
             },
             "pattern": {
              "fillmode": "overlay",
              "size": 10,
              "solidity": 0.2
             }
            },
            "type": "barpolar"
           }
          ],
          "carpet": [
           {
            "aaxis": {
             "endlinecolor": "#A2B1C6",
             "gridcolor": "#506784",
             "linecolor": "#506784",
             "minorgridcolor": "#506784",
             "startlinecolor": "#A2B1C6"
            },
            "baxis": {
             "endlinecolor": "#A2B1C6",
             "gridcolor": "#506784",
             "linecolor": "#506784",
             "minorgridcolor": "#506784",
             "startlinecolor": "#A2B1C6"
            },
            "type": "carpet"
           }
          ],
          "choropleth": [
           {
            "colorbar": {
             "outlinewidth": 0,
             "ticks": ""
            },
            "type": "choropleth"
           }
          ],
          "contour": [
           {
            "colorbar": {
             "outlinewidth": 0,
             "ticks": ""
            },
            "colorscale": [
             [
              0,
              "#0d0887"
             ],
             [
              0.1111111111111111,
              "#46039f"
             ],
             [
              0.2222222222222222,
              "#7201a8"
             ],
             [
              0.3333333333333333,
              "#9c179e"
             ],
             [
              0.4444444444444444,
              "#bd3786"
             ],
             [
              0.5555555555555556,
              "#d8576b"
             ],
             [
              0.6666666666666666,
              "#ed7953"
             ],
             [
              0.7777777777777778,
              "#fb9f3a"
             ],
             [
              0.8888888888888888,
              "#fdca26"
             ],
             [
              1,
              "#f0f921"
             ]
            ],
            "type": "contour"
           }
          ],
          "contourcarpet": [
           {
            "colorbar": {
             "outlinewidth": 0,
             "ticks": ""
            },
            "type": "contourcarpet"
           }
          ],
          "heatmap": [
           {
            "colorbar": {
             "outlinewidth": 0,
             "ticks": ""
            },
            "colorscale": [
             [
              0,
              "#0d0887"
             ],
             [
              0.1111111111111111,
              "#46039f"
             ],
             [
              0.2222222222222222,
              "#7201a8"
             ],
             [
              0.3333333333333333,
              "#9c179e"
             ],
             [
              0.4444444444444444,
              "#bd3786"
             ],
             [
              0.5555555555555556,
              "#d8576b"
             ],
             [
              0.6666666666666666,
              "#ed7953"
             ],
             [
              0.7777777777777778,
              "#fb9f3a"
             ],
             [
              0.8888888888888888,
              "#fdca26"
             ],
             [
              1,
              "#f0f921"
             ]
            ],
            "type": "heatmap"
           }
          ],
          "heatmapgl": [
           {
            "colorbar": {
             "outlinewidth": 0,
             "ticks": ""
            },
            "colorscale": [
             [
              0,
              "#0d0887"
             ],
             [
              0.1111111111111111,
              "#46039f"
             ],
             [
              0.2222222222222222,
              "#7201a8"
             ],
             [
              0.3333333333333333,
              "#9c179e"
             ],
             [
              0.4444444444444444,
              "#bd3786"
             ],
             [
              0.5555555555555556,
              "#d8576b"
             ],
             [
              0.6666666666666666,
              "#ed7953"
             ],
             [
              0.7777777777777778,
              "#fb9f3a"
             ],
             [
              0.8888888888888888,
              "#fdca26"
             ],
             [
              1,
              "#f0f921"
             ]
            ],
            "type": "heatmapgl"
           }
          ],
          "histogram": [
           {
            "marker": {
             "pattern": {
              "fillmode": "overlay",
              "size": 10,
              "solidity": 0.2
             }
            },
            "type": "histogram"
           }
          ],
          "histogram2d": [
           {
            "colorbar": {
             "outlinewidth": 0,
             "ticks": ""
            },
            "colorscale": [
             [
              0,
              "#0d0887"
             ],
             [
              0.1111111111111111,
              "#46039f"
             ],
             [
              0.2222222222222222,
              "#7201a8"
             ],
             [
              0.3333333333333333,
              "#9c179e"
             ],
             [
              0.4444444444444444,
              "#bd3786"
             ],
             [
              0.5555555555555556,
              "#d8576b"
             ],
             [
              0.6666666666666666,
              "#ed7953"
             ],
             [
              0.7777777777777778,
              "#fb9f3a"
             ],
             [
              0.8888888888888888,
              "#fdca26"
             ],
             [
              1,
              "#f0f921"
             ]
            ],
            "type": "histogram2d"
           }
          ],
          "histogram2dcontour": [
           {
            "colorbar": {
             "outlinewidth": 0,
             "ticks": ""
            },
            "colorscale": [
             [
              0,
              "#0d0887"
             ],
             [
              0.1111111111111111,
              "#46039f"
             ],
             [
              0.2222222222222222,
              "#7201a8"
             ],
             [
              0.3333333333333333,
              "#9c179e"
             ],
             [
              0.4444444444444444,
              "#bd3786"
             ],
             [
              0.5555555555555556,
              "#d8576b"
             ],
             [
              0.6666666666666666,
              "#ed7953"
             ],
             [
              0.7777777777777778,
              "#fb9f3a"
             ],
             [
              0.8888888888888888,
              "#fdca26"
             ],
             [
              1,
              "#f0f921"
             ]
            ],
            "type": "histogram2dcontour"
           }
          ],
          "mesh3d": [
           {
            "colorbar": {
             "outlinewidth": 0,
             "ticks": ""
            },
            "type": "mesh3d"
           }
          ],
          "parcoords": [
           {
            "line": {
             "colorbar": {
              "outlinewidth": 0,
              "ticks": ""
             }
            },
            "type": "parcoords"
           }
          ],
          "pie": [
           {
            "automargin": true,
            "type": "pie"
           }
          ],
          "scatter": [
           {
            "fillpattern": {
             "fillmode": "overlay",
             "size": 10,
             "solidity": 0.2
            },
            "marker": {
             "line": {
              "color": "#283442"
             }
            },
            "type": "scatter"
           }
          ],
          "scatter3d": [
           {
            "line": {
             "colorbar": {
              "outlinewidth": 0,
              "ticks": ""
             }
            },
            "marker": {
             "colorbar": {
              "outlinewidth": 0,
              "ticks": ""
             }
            },
            "type": "scatter3d"
           }
          ],
          "scattercarpet": [
           {
            "marker": {
             "colorbar": {
              "outlinewidth": 0,
              "ticks": ""
             }
            },
            "type": "scattercarpet"
           }
          ],
          "scattergeo": [
           {
            "marker": {
             "colorbar": {
              "outlinewidth": 0,
              "ticks": ""
             }
            },
            "type": "scattergeo"
           }
          ],
          "scattergl": [
           {
            "marker": {
             "colorbar": {
              "outlinewidth": 0,
              "ticks": ""
             },
             "line": {
              "color": "#283442"
             }
            },
            "type": "scattergl"
           }
          ],
          "scattermapbox": [
           {
            "marker": {
             "colorbar": {
              "outlinewidth": 0,
              "ticks": ""
             }
            },
            "type": "scattermapbox"
           }
          ],
          "scatterpolar": [
           {
            "marker": {
             "colorbar": {
              "outlinewidth": 0,
              "ticks": ""
             }
            },
            "type": "scatterpolar"
           }
          ],
          "scatterpolargl": [
           {
            "marker": {
             "colorbar": {
              "outlinewidth": 0,
              "ticks": ""
             }
            },
            "type": "scatterpolargl"
           }
          ],
          "scatterternary": [
           {
            "marker": {
             "colorbar": {
              "outlinewidth": 0,
              "ticks": ""
             }
            },
            "type": "scatterternary"
           }
          ],
          "surface": [
           {
            "colorbar": {
             "outlinewidth": 0,
             "ticks": ""
            },
            "colorscale": [
             [
              0,
              "#0d0887"
             ],
             [
              0.1111111111111111,
              "#46039f"
             ],
             [
              0.2222222222222222,
              "#7201a8"
             ],
             [
              0.3333333333333333,
              "#9c179e"
             ],
             [
              0.4444444444444444,
              "#bd3786"
             ],
             [
              0.5555555555555556,
              "#d8576b"
             ],
             [
              0.6666666666666666,
              "#ed7953"
             ],
             [
              0.7777777777777778,
              "#fb9f3a"
             ],
             [
              0.8888888888888888,
              "#fdca26"
             ],
             [
              1,
              "#f0f921"
             ]
            ],
            "type": "surface"
           }
          ],
          "table": [
           {
            "cells": {
             "fill": {
              "color": "#506784"
             },
             "line": {
              "color": "rgb(17,17,17)"
             }
            },
            "header": {
             "fill": {
              "color": "#2a3f5f"
             },
             "line": {
              "color": "rgb(17,17,17)"
             }
            },
            "type": "table"
           }
          ]
         },
         "layout": {
          "annotationdefaults": {
           "arrowcolor": "#f2f5fa",
           "arrowhead": 0,
           "arrowwidth": 1
          },
          "autotypenumbers": "strict",
          "coloraxis": {
           "colorbar": {
            "outlinewidth": 0,
            "ticks": ""
           }
          },
          "colorscale": {
           "diverging": [
            [
             0,
             "#8e0152"
            ],
            [
             0.1,
             "#c51b7d"
            ],
            [
             0.2,
             "#de77ae"
            ],
            [
             0.3,
             "#f1b6da"
            ],
            [
             0.4,
             "#fde0ef"
            ],
            [
             0.5,
             "#f7f7f7"
            ],
            [
             0.6,
             "#e6f5d0"
            ],
            [
             0.7,
             "#b8e186"
            ],
            [
             0.8,
             "#7fbc41"
            ],
            [
             0.9,
             "#4d9221"
            ],
            [
             1,
             "#276419"
            ]
           ],
           "sequential": [
            [
             0,
             "#0d0887"
            ],
            [
             0.1111111111111111,
             "#46039f"
            ],
            [
             0.2222222222222222,
             "#7201a8"
            ],
            [
             0.3333333333333333,
             "#9c179e"
            ],
            [
             0.4444444444444444,
             "#bd3786"
            ],
            [
             0.5555555555555556,
             "#d8576b"
            ],
            [
             0.6666666666666666,
             "#ed7953"
            ],
            [
             0.7777777777777778,
             "#fb9f3a"
            ],
            [
             0.8888888888888888,
             "#fdca26"
            ],
            [
             1,
             "#f0f921"
            ]
           ],
           "sequentialminus": [
            [
             0,
             "#0d0887"
            ],
            [
             0.1111111111111111,
             "#46039f"
            ],
            [
             0.2222222222222222,
             "#7201a8"
            ],
            [
             0.3333333333333333,
             "#9c179e"
            ],
            [
             0.4444444444444444,
             "#bd3786"
            ],
            [
             0.5555555555555556,
             "#d8576b"
            ],
            [
             0.6666666666666666,
             "#ed7953"
            ],
            [
             0.7777777777777778,
             "#fb9f3a"
            ],
            [
             0.8888888888888888,
             "#fdca26"
            ],
            [
             1,
             "#f0f921"
            ]
           ]
          },
          "colorway": [
           "#636efa",
           "#EF553B",
           "#00cc96",
           "#ab63fa",
           "#FFA15A",
           "#19d3f3",
           "#FF6692",
           "#B6E880",
           "#FF97FF",
           "#FECB52"
          ],
          "font": {
           "color": "white"
          },
          "geo": {
           "bgcolor": "rgb(17,17,17)",
           "lakecolor": "rgb(17,17,17)",
           "landcolor": "rgb(17,17,17)",
           "showlakes": true,
           "showland": true,
           "subunitcolor": "#506784"
          },
          "hoverlabel": {
           "align": "left"
          },
          "hovermode": "closest",
          "legend": {
           "bgcolor": "rgb(0,0,0,0)",
           "bordercolor": "rgb(63,70,139)",
           "borderwidth": 0.5,
           "font": {
            "color": "white",
            "family": "open-sans",
            "size": 12
           },
           "orientation": "h",
           "traceorder": "normal",
           "x": 0.5,
           "xanchor": "center",
           "y": -0.15
          },
          "mapbox": {
           "style": "dark"
          },
          "paper_bgcolor": "rgb(0,0,0,0)",
          "plot_bgcolor": "rgb(0,0,0,0)",
          "polar": {
           "angularaxis": {
            "gridcolor": "#506784",
            "linecolor": "#506784",
            "ticks": ""
           },
           "bgcolor": "rgb(17,17,17)",
           "radialaxis": {
            "gridcolor": "#506784",
            "linecolor": "#506784",
            "ticks": ""
           }
          },
          "scene": {
           "xaxis": {
            "backgroundcolor": "rgb(17,17,17)",
            "gridcolor": "#506784",
            "gridwidth": 2,
            "linecolor": "#506784",
            "showbackground": true,
            "ticks": "",
            "zerolinecolor": "#C8D4E3"
           },
           "yaxis": {
            "backgroundcolor": "rgb(17,17,17)",
            "gridcolor": "#506784",
            "gridwidth": 2,
            "linecolor": "#506784",
            "showbackground": true,
            "ticks": "",
            "zerolinecolor": "#C8D4E3"
           },
           "zaxis": {
            "backgroundcolor": "rgb(17,17,17)",
            "gridcolor": "#506784",
            "gridwidth": 2,
            "linecolor": "#506784",
            "showbackground": true,
            "ticks": "",
            "zerolinecolor": "#C8D4E3"
           }
          },
          "shapedefaults": {
           "line": {
            "color": "#f2f5fa"
           }
          },
          "sliderdefaults": {
           "bgcolor": "#C8D4E3",
           "bordercolor": "rgb(17,17,17)",
           "borderwidth": 1,
           "tickwidth": 0
          },
          "ternary": {
           "aaxis": {
            "gridcolor": "#506784",
            "linecolor": "#506784",
            "ticks": ""
           },
           "baxis": {
            "gridcolor": "#506784",
            "linecolor": "#506784",
            "ticks": ""
           },
           "bgcolor": "rgb(17,17,17)",
           "caxis": {
            "gridcolor": "#506784",
            "linecolor": "#506784",
            "ticks": ""
           }
          },
          "title": {
           "x": 0.05
          },
          "updatemenudefaults": {
           "bgcolor": "#506784",
           "borderwidth": 0
          },
          "xaxis": {
           "automargin": true,
           "gridcolor": "#283442",
           "linecolor": "#506784",
           "ticks": "",
           "title": {
            "standoff": 15
           },
           "zerolinecolor": "#283442",
           "zerolinewidth": 2
          },
          "yaxis": {
           "automargin": true,
           "gridcolor": "#283442",
           "linecolor": "#506784",
           "side": "right",
           "ticks": "",
           "title": {
            "standoff": 15
           },
           "zerolinecolor": "#283442",
           "zerolinewidth": 2
          }
         }
        },
        "title": {
         "font": {
          "color": "white"
         },
         "text": "humblCOMPASS: CLI 3m Delta vs CPI 3m Delta"
        },
        "xaxis": {
         "color": "white",
         "range": [
          -2.295,
          1.005
         ],
         "showgrid": false,
         "showticklabels": false,
         "ticks": "",
         "title": {
          "text": "Inflation (CPI) 3-Month Delta"
         },
         "zeroline": false
        },
        "yaxis": {
         "color": "white",
         "range": [
          -0.373,
          0.503
         ],
         "showgrid": false,
         "showticklabels": false,
         "ticks": "",
         "title": {
          "text": "Growth (CLI) 3-Month Delta"
         },
         "zeroline": false
        }
       }
      }
     },
     "metadata": {},
     "output_type": "display_data"
    }
   ],
   "source": [
    "compass.show()"
   ]
  },
  {
   "cell_type": "code",
   "execution_count": null,
   "metadata": {},
   "outputs": [],
   "source": []
  }
 ],
 "metadata": {
  "kernelspec": {
   "display_name": "Python 3",
   "language": "python",
   "name": "python3"
  },
  "language_info": {
   "codemirror_mode": {
    "name": "ipython",
    "version": 3
   },
   "file_extension": ".py",
   "mimetype": "text/x-python",
   "name": "python",
   "nbconvert_exporter": "python",
   "pygments_lexer": "ipython3",
   "version": "3.12.4"
  }
 },
 "nbformat": 4,
 "nbformat_minor": 2
}
