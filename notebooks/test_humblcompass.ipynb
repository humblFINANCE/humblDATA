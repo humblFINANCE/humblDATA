{
 "cells": [
  {
   "cell_type": "code",
   "execution_count": null,
   "metadata": {},
   "outputs": [],
   "source": [
    "%load_ext autoreload\n",
    "%autoreload 2\n",
    "\n",
    "from humbldata.core.utils.openbb_helpers import obb_login\n",
    "from openbb import obb\n",
    "from humbldata.core.utils.env import Env\n",
    "import polars as pl\n",
    "\n",
    "# obb_login()\n",
    "obb.account.login(pat=Env().OBB_PAT, remember_me=True)"
   ]
  },
  {
   "cell_type": "markdown",
   "metadata": {},
   "source": [
    "# OECD Composite Leading Indicator"
   ]
  },
  {
   "cell_type": "code",
   "execution_count": null,
   "metadata": {},
   "outputs": [],
   "source": [
    "cli = obb.economy.composite_leading_indicator(start_date='2024-01-01', provider='oecd', country=['united_states'])\n",
    "cli.to_polars()"
   ]
  },
  {
   "cell_type": "markdown",
   "metadata": {},
   "source": [
    "# Consumer Price Index"
   ]
  },
  {
   "cell_type": "markdown",
   "metadata": {},
   "source": [
    "## OECD Consumer Price Index"
   ]
  },
  {
   "cell_type": "code",
   "execution_count": null,
   "metadata": {},
   "outputs": [],
   "source": [
    "oecd_cpi = obb.economy.cpi(start_date='2024-01-01', country='united_states,united_kingdom', transform='yoy', provider='oecd',harmonized=False, expenditure='total')\n",
    "oecd_cpi.results\n"
   ]
  },
  {
   "cell_type": "markdown",
   "metadata": {},
   "source": [
    "## FRED Consumer Price Index"
   ]
  },
  {
   "cell_type": "code",
   "execution_count": null,
   "metadata": {},
   "outputs": [],
   "source": [
    "fred_cpi = obb.economy.cpi(start_date='2024-01-01', country='united_states,united_kingdom', transform='yoy', provider='fred')\n",
    "fred_cpi.results"
   ]
  },
  {
   "cell_type": "markdown",
   "metadata": {},
   "source": [
    "# humblCOMPASS "
   ]
  },
  {
   "cell_type": "code",
   "execution_count": 1,
   "metadata": {},
   "outputs": [],
   "source": [
    "%load_ext autoreload\n",
    "%autoreload 2\n",
    "\n",
    "from humbldata.toolbox.toolbox_controller import Toolbox\n",
    "\n",
    "toolbox = Toolbox(\n",
    "    symbols=[\"AAPL\"],\n",
    "    interval=\"1d\",\n",
    "    start_date=\"2023-01-01\",\n",
    "    end_date=\"2024-01-01\",\n",
    "    membership=\"admin\"\n",
    ")"
   ]
  },
  {
   "cell_type": "code",
   "execution_count": 23,
   "metadata": {},
   "outputs": [
    {
     "name": "stderr",
     "output_type": "stream",
     "text": [
      "INFO: HumblCompassFetcher || START: fetch_data (sync)\n",
      "INFO: HumblCompassFetcher || END: fetch_data (sync) - Total time: 0.1819s\n"
     ]
    }
   ],
   "source": [
    "compass = toolbox.fundamental.humbl_compass(country=\"united_states\")"
   ]
  },
  {
   "cell_type": "code",
   "execution_count": 24,
   "metadata": {},
   "outputs": [
    {
     "data": {
      "text/html": [
       "<div><style>\n",
       ".dataframe > thead > tr,\n",
       ".dataframe > tbody > tr {\n",
       "  text-align: right;\n",
       "  white-space: pre-wrap;\n",
       "}\n",
       "</style>\n",
       "<small>shape: (9, 8)</small><table border=\"1\" class=\"dataframe\"><thead><tr><th>date_month_start</th><th>date_cli</th><th>date_cpi</th><th>country</th><th>cpi</th><th>cpi_3m_delta</th><th>cli</th><th>cli_3m_delta</th></tr><tr><td>date</td><td>date</td><td>date</td><td>str</td><td>f64</td><td>f64</td><td>f64</td><td>f64</td></tr></thead><tbody><tr><td>2023-05-01</td><td>2023-05-31</td><td>2023-05-01</td><td>&quot;united_states&quot;</td><td>4.047609</td><td>-1.988004</td><td>98.902416</td><td>0.10809</td></tr><tr><td>2023-06-01</td><td>2023-06-30</td><td>2023-06-01</td><td>&quot;united_states&quot;</td><td>2.969178</td><td>-2.015796</td><td>99.004114</td><td>0.21125</td></tr><tr><td>2023-07-01</td><td>2023-07-31</td><td>2023-07-01</td><td>&quot;united_states&quot;</td><td>3.17778</td><td>-1.75254</td><td>99.10515</td><td>0.275777</td></tr><tr><td>2023-08-01</td><td>2023-08-31</td><td>2023-08-01</td><td>&quot;united_states&quot;</td><td>3.665112</td><td>-0.382497</td><td>99.18451</td><td>0.282094</td></tr><tr><td>2023-09-01</td><td>2023-09-30</td><td>2023-09-01</td><td>&quot;united_states&quot;</td><td>3.699698</td><td>0.73052</td><td>99.239977</td><td>0.235862</td></tr><tr><td>2023-10-01</td><td>2023-10-31</td><td>2023-10-01</td><td>&quot;united_states&quot;</td><td>3.241145</td><td>0.063365</td><td>99.289405</td><td>0.184254</td></tr><tr><td>2023-11-01</td><td>2023-11-30</td><td>2023-11-01</td><td>&quot;united_states&quot;</td><td>3.137271</td><td>-0.527841</td><td>99.367148</td><td>0.182638</td></tr><tr><td>2023-12-01</td><td>2023-12-31</td><td>2023-12-01</td><td>&quot;united_states&quot;</td><td>3.352123</td><td>-0.347575</td><td>99.48566</td><td>0.245684</td></tr><tr><td>2024-01-01</td><td>2024-01-31</td><td>2024-01-01</td><td>&quot;united_states&quot;</td><td>3.090885</td><td>-0.15026</td><td>99.639124</td><td>0.349719</td></tr></tbody></table></div>"
      ],
      "text/plain": [
       "shape: (9, 8)\n",
       "┌────────────┬────────────┬────────────┬────────────┬──────────┬───────────┬───────────┬───────────┐\n",
       "│ date_month ┆ date_cli   ┆ date_cpi   ┆ country    ┆ cpi      ┆ cpi_3m_de ┆ cli       ┆ cli_3m_de │\n",
       "│ _start     ┆ ---        ┆ ---        ┆ ---        ┆ ---      ┆ lta       ┆ ---       ┆ lta       │\n",
       "│ ---        ┆ date       ┆ date       ┆ str        ┆ f64      ┆ ---       ┆ f64       ┆ ---       │\n",
       "│ date       ┆            ┆            ┆            ┆          ┆ f64       ┆           ┆ f64       │\n",
       "╞════════════╪════════════╪════════════╪════════════╪══════════╪═══════════╪═══════════╪═══════════╡\n",
       "│ 2023-05-01 ┆ 2023-05-31 ┆ 2023-05-01 ┆ united_sta ┆ 4.047609 ┆ -1.988004 ┆ 98.902416 ┆ 0.10809   │\n",
       "│            ┆            ┆            ┆ tes        ┆          ┆           ┆           ┆           │\n",
       "│ 2023-06-01 ┆ 2023-06-30 ┆ 2023-06-01 ┆ united_sta ┆ 2.969178 ┆ -2.015796 ┆ 99.004114 ┆ 0.21125   │\n",
       "│            ┆            ┆            ┆ tes        ┆          ┆           ┆           ┆           │\n",
       "│ 2023-07-01 ┆ 2023-07-31 ┆ 2023-07-01 ┆ united_sta ┆ 3.17778  ┆ -1.75254  ┆ 99.10515  ┆ 0.275777  │\n",
       "│            ┆            ┆            ┆ tes        ┆          ┆           ┆           ┆           │\n",
       "│ 2023-08-01 ┆ 2023-08-31 ┆ 2023-08-01 ┆ united_sta ┆ 3.665112 ┆ -0.382497 ┆ 99.18451  ┆ 0.282094  │\n",
       "│            ┆            ┆            ┆ tes        ┆          ┆           ┆           ┆           │\n",
       "│ 2023-09-01 ┆ 2023-09-30 ┆ 2023-09-01 ┆ united_sta ┆ 3.699698 ┆ 0.73052   ┆ 99.239977 ┆ 0.235862  │\n",
       "│            ┆            ┆            ┆ tes        ┆          ┆           ┆           ┆           │\n",
       "│ 2023-10-01 ┆ 2023-10-31 ┆ 2023-10-01 ┆ united_sta ┆ 3.241145 ┆ 0.063365  ┆ 99.289405 ┆ 0.184254  │\n",
       "│            ┆            ┆            ┆ tes        ┆          ┆           ┆           ┆           │\n",
       "│ 2023-11-01 ┆ 2023-11-30 ┆ 2023-11-01 ┆ united_sta ┆ 3.137271 ┆ -0.527841 ┆ 99.367148 ┆ 0.182638  │\n",
       "│            ┆            ┆            ┆ tes        ┆          ┆           ┆           ┆           │\n",
       "│ 2023-12-01 ┆ 2023-12-31 ┆ 2023-12-01 ┆ united_sta ┆ 3.352123 ┆ -0.347575 ┆ 99.48566  ┆ 0.245684  │\n",
       "│            ┆            ┆            ┆ tes        ┆          ┆           ┆           ┆           │\n",
       "│ 2024-01-01 ┆ 2024-01-31 ┆ 2024-01-01 ┆ united_sta ┆ 3.090885 ┆ -0.15026  ┆ 99.639124 ┆ 0.349719  │\n",
       "│            ┆            ┆            ┆ tes        ┆          ┆           ┆           ┆           │\n",
       "└────────────┴────────────┴────────────┴────────────┴──────────┴───────────┴───────────┴───────────┘"
      ]
     },
     "execution_count": 24,
     "metadata": {},
     "output_type": "execute_result"
    }
   ],
   "source": [
    "compass.to_polars()\n"
   ]
  },
  {
   "cell_type": "code",
   "execution_count": null,
   "metadata": {},
   "outputs": [],
   "source": []
  }
 ],
 "metadata": {
  "kernelspec": {
   "display_name": "Python 3",
   "language": "python",
   "name": "python3"
  },
  "language_info": {
   "codemirror_mode": {
    "name": "ipython",
    "version": 3
   },
   "file_extension": ".py",
   "mimetype": "text/x-python",
   "name": "python",
   "nbconvert_exporter": "python",
   "pygments_lexer": "ipython3",
   "version": "3.12.4"
  }
 },
 "nbformat": 4,
 "nbformat_minor": 2
}
