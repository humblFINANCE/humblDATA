{
 "cells": [
  {
   "cell_type": "code",
   "execution_count": 23,
   "metadata": {},
   "outputs": [
    {
     "name": "stdout",
     "output_type": "stream",
     "text": [
      "The autoreload extension is already loaded. To reload it, use:\n",
      "  %reload_ext autoreload\n"
     ]
    }
   ],
   "source": [
    "%load_ext autoreload\n",
    "%autoreload 2\n",
    "\n",
    "from humbldata.core.utils.openbb_helpers import obb_login\n",
    "from openbb import obb\n",
    "from humbldata.core.utils.env import Env\n",
    "import polars as pl\n",
    "\n",
    "# obb_login()\n",
    "obb.account.login(pat=Env().OBB_PAT, remember_me=True)"
   ]
  },
  {
   "cell_type": "markdown",
   "metadata": {},
   "source": [
    "# CPI + CLI DATA COLLECTION\n"
   ]
  },
  {
   "cell_type": "markdown",
   "metadata": {},
   "source": [
    "## OECD Composite Leading Indicator"
   ]
  },
  {
   "cell_type": "code",
   "execution_count": null,
   "metadata": {},
   "outputs": [],
   "source": [
    "cli = obb.economy.composite_leading_indicator(start_date='2024-01-01', provider='oecd', country=['united_states'])\n",
    "cli.to_polars()"
   ]
  },
  {
   "cell_type": "markdown",
   "metadata": {},
   "source": [
    "## Consumer Price Index"
   ]
  },
  {
   "cell_type": "markdown",
   "metadata": {},
   "source": [
    "### OECD Consumer Price Index"
   ]
  },
  {
   "cell_type": "code",
   "execution_count": null,
   "metadata": {},
   "outputs": [],
   "source": [
    "oecd_cpi = obb.economy.cpi(start_date='2010-01-01', country='united_states', transform='yoy', provider='oecd',harmonized=False, expenditure='total')\n",
    "oecd_cpi.results\n"
   ]
  },
  {
   "cell_type": "markdown",
   "metadata": {},
   "source": [
    "### FRED Consumer Price Index"
   ]
  },
  {
   "cell_type": "code",
   "execution_count": null,
   "metadata": {},
   "outputs": [],
   "source": [
    "fred_cpi = obb.economy.cpi(start_date='2024-07-01', country='united_states', transform='yoy', provider='fred')\n",
    "fred_cpi.results"
   ]
  },
  {
   "cell_type": "markdown",
   "metadata": {},
   "source": [
    "# humblCOMPASS "
   ]
  },
  {
   "cell_type": "code",
   "execution_count": 24,
   "metadata": {},
   "outputs": [
    {
     "name": "stderr",
     "output_type": "stream",
     "text": [
      "WARNING: ToolboxQueryParams || Start date adjusted to 2022-11-29 based on humblPEON membership (2Y of data).\n"
     ]
    },
    {
     "name": "stdout",
     "output_type": "stream",
     "text": [
      "The autoreload extension is already loaded. To reload it, use:\n",
      "  %reload_ext autoreload\n"
     ]
    }
   ],
   "source": [
    "%load_ext autoreload\n",
    "%autoreload 2\n",
    "\n",
    "from humbldata.toolbox.toolbox_controller import Toolbox\n",
    "\n",
    "toolbox = Toolbox(\n",
    "    # symbols=[\"AAPL\"],\n",
    "    # interval=\"1d\",\n",
    "    start_date=\"2022-01-01\",\n",
    "    # end_date=\"2024-10-01\",\n",
    "    membership=\"humblPEON\"\n",
    ")"
   ]
  },
  {
   "cell_type": "code",
   "execution_count": 27,
   "metadata": {},
   "outputs": [
    {
     "name": "stderr",
     "output_type": "stream",
     "text": [
      "INFO: HumblCompassFetcher || START: fetch_data (sync)\n",
      "WARNING: HumblCompassFetcher || Z-score is not calculated for humblPEON membership level.\n",
      "INFO: HumblCompassFetcher || CLI start date: 2022-07-29 and CPI start date: 2022-08-29. Dates are adjusted to account for CLI data release lag and z-score calculation window.\n",
      "INFO: HumblCompassFetcher || END: fetch_data (sync) - Total time: 2.9726s\n"
     ]
    }
   ],
   "source": [
    "compass = toolbox.fundamental.humbl_compass(country=\"united_states\", z_score=None, chart=True, template=\"humbl_dark\")"
   ]
  },
  {
   "cell_type": "code",
   "execution_count": 28,
   "metadata": {},
   "outputs": [
    {
     "data": {
      "text/plain": [
       "[HumblDataWarning(category='ToolboxQueryParams', message='Start date adjusted to 2022-11-29 based on humblPEON membership (2Y of data).'),\n",
       " HumblDataWarning(category='HumblCompassFetcher', message='Z-score defaulted to None. No z-score data will be calculated.')]"
      ]
     },
     "execution_count": 28,
     "metadata": {},
     "output_type": "execute_result"
    }
   ],
   "source": [
    "compass.warnings"
   ]
  },
  {
   "cell_type": "code",
   "execution_count": 30,
   "metadata": {},
   "outputs": [
    {
     "data": {
      "text/plain": [
       "HumblObject\n",
       "\n",
       "id: 06748700-ab5d-7239-8000-db1e4b666e6d\n",
       "results: b'\\xa1mDataFrameScan\\xa4bdf\\xa1gcolumns\\x86\\xa4dnamepdate_month_starthdata...\n",
       "equity_data: None\n",
       "provider: yfinance\n",
       "warnings: [{'category': 'ToolboxQueryParams', 'message': 'Start date adjusted to 20...\n",
       "chart: [{'content': '{\"data\":[{\"hovertemplate\":\"\\\\u003cb\\\\u003e%{text}\\\\u003c\\\\u002...\n",
       "extra: {}\n",
       "context_params: {'symbols': ['AAPL'], 'interval': '1d', 'start_date': datetime.date...\n",
       "command_params: {'country': 'united_states', 'cli_start_date': '2022-07-29', 'cpi_s..."
      ]
     },
     "execution_count": 30,
     "metadata": {},
     "output_type": "execute_result"
    }
   ],
   "source": [
    "compass\n"
   ]
  },
  {
   "cell_type": "code",
   "execution_count": 31,
   "metadata": {},
   "outputs": [],
   "source": [
    "df = compass.to_polars()\n"
   ]
  },
  {
   "cell_type": "code",
   "execution_count": 32,
   "metadata": {},
   "outputs": [
    {
     "data": {
      "text/html": [
       "<div><style>\n",
       ".dataframe > thead > tr,\n",
       ".dataframe > tbody > tr {\n",
       "  text-align: right;\n",
       "  white-space: pre-wrap;\n",
       "}\n",
       "</style>\n",
       "<small>shape: (23, 6)</small><table border=\"1\" class=\"dataframe\"><thead><tr><th>date_month_start</th><th>country</th><th>cpi</th><th>cpi_3m_delta</th><th>cli</th><th>cli_3m_delta</th></tr><tr><td>date</td><td>str</td><td>f64</td><td>f64</td><td>f64</td><td>f64</td></tr></thead><tbody><tr><td>2022-12-01</td><td>&quot;united_states&quot;</td><td>6.45</td><td>-1.75</td><td>98.82</td><td>-0.28</td></tr><tr><td>2023-01-01</td><td>&quot;united_states&quot;</td><td>6.41</td><td>-1.34</td><td>98.78</td><td>-0.19</td></tr><tr><td>2023-02-01</td><td>&quot;united_states&quot;</td><td>6.04</td><td>-1.07</td><td>98.76</td><td>-0.12</td></tr><tr><td>2023-03-01</td><td>&quot;united_states&quot;</td><td>4.98</td><td>-1.47</td><td>98.76</td><td>-0.06</td></tr><tr><td>2023-04-01</td><td>&quot;united_states&quot;</td><td>4.93</td><td>-1.48</td><td>98.79</td><td>0.01</td></tr><tr><td>&hellip;</td><td>&hellip;</td><td>&hellip;</td><td>&hellip;</td><td>&hellip;</td><td>&hellip;</td></tr><tr><td>2024-06-01</td><td>&quot;united_states&quot;</td><td>2.97</td><td>-0.51</td><td>99.95</td><td>0.09</td></tr><tr><td>2024-07-01</td><td>&quot;united_states&quot;</td><td>2.89</td><td>-0.46</td><td>99.97</td><td>0.04</td></tr><tr><td>2024-08-01</td><td>&quot;united_states&quot;</td><td>2.53</td><td>-0.74</td><td>100.03</td><td>0.08</td></tr><tr><td>2024-09-01</td><td>&quot;united_states&quot;</td><td>2.44</td><td>-0.53</td><td>100.13</td><td>0.18</td></tr><tr><td>2024-10-01</td><td>&quot;united_states&quot;</td><td>2.6</td><td>-0.3</td><td>100.25</td><td>0.28</td></tr></tbody></table></div>"
      ],
      "text/plain": [
       "shape: (23, 6)\n",
       "┌──────────────────┬───────────────┬──────┬──────────────┬────────┬──────────────┐\n",
       "│ date_month_start ┆ country       ┆ cpi  ┆ cpi_3m_delta ┆ cli    ┆ cli_3m_delta │\n",
       "│ ---              ┆ ---           ┆ ---  ┆ ---          ┆ ---    ┆ ---          │\n",
       "│ date             ┆ str           ┆ f64  ┆ f64          ┆ f64    ┆ f64          │\n",
       "╞══════════════════╪═══════════════╪══════╪══════════════╪════════╪══════════════╡\n",
       "│ 2022-12-01       ┆ united_states ┆ 6.45 ┆ -1.75        ┆ 98.82  ┆ -0.28        │\n",
       "│ 2023-01-01       ┆ united_states ┆ 6.41 ┆ -1.34        ┆ 98.78  ┆ -0.19        │\n",
       "│ 2023-02-01       ┆ united_states ┆ 6.04 ┆ -1.07        ┆ 98.76  ┆ -0.12        │\n",
       "│ 2023-03-01       ┆ united_states ┆ 4.98 ┆ -1.47        ┆ 98.76  ┆ -0.06        │\n",
       "│ 2023-04-01       ┆ united_states ┆ 4.93 ┆ -1.48        ┆ 98.79  ┆ 0.01         │\n",
       "│ …                ┆ …             ┆ …    ┆ …            ┆ …      ┆ …            │\n",
       "│ 2024-06-01       ┆ united_states ┆ 2.97 ┆ -0.51        ┆ 99.95  ┆ 0.09         │\n",
       "│ 2024-07-01       ┆ united_states ┆ 2.89 ┆ -0.46        ┆ 99.97  ┆ 0.04         │\n",
       "│ 2024-08-01       ┆ united_states ┆ 2.53 ┆ -0.74        ┆ 100.03 ┆ 0.08         │\n",
       "│ 2024-09-01       ┆ united_states ┆ 2.44 ┆ -0.53        ┆ 100.13 ┆ 0.18         │\n",
       "│ 2024-10-01       ┆ united_states ┆ 2.6  ┆ -0.3         ┆ 100.25 ┆ 0.28         │\n",
       "└──────────────────┴───────────────┴──────┴──────────────┴────────┴──────────────┘"
      ]
     },
     "execution_count": 32,
     "metadata": {},
     "output_type": "execute_result"
    }
   ],
   "source": [
    "df"
   ]
  },
  {
   "cell_type": "code",
   "execution_count": null,
   "metadata": {},
   "outputs": [],
   "source": []
  }
 ],
 "metadata": {
  "kernelspec": {
   "display_name": "Python 3",
   "language": "python",
   "name": "python3"
  },
  "language_info": {
   "codemirror_mode": {
    "name": "ipython",
    "version": 3
   },
   "file_extension": ".py",
   "mimetype": "text/x-python",
   "name": "python",
   "nbconvert_exporter": "python",
   "pygments_lexer": "ipython3",
   "version": "3.12.4"
  }
 },
 "nbformat": 4,
 "nbformat_minor": 2
}
