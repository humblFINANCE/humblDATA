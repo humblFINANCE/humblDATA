{
 "cells": [
  {
   "cell_type": "code",
   "execution_count": 1,
   "metadata": {},
   "outputs": [],
   "source": [
    "%load_ext autoreload\n",
    "%autoreload 2\n",
    "\n",
    "from humbldata.core.utils.openbb_helpers import obb_login\n",
    "from openbb import obb\n",
    "from humbldata.core.utils.env import Env\n",
    "import polars as pl\n",
    "\n",
    "# obb_login()\n",
    "obb.account.login(pat=Env().OBB_PAT, remember_me=True)"
   ]
  },
  {
   "cell_type": "markdown",
   "metadata": {},
   "source": [
    "# OECD Composite Leading Indicator"
   ]
  },
  {
   "cell_type": "code",
   "execution_count": null,
   "metadata": {},
   "outputs": [],
   "source": [
    "cli = obb.economy.composite_leading_indicator(start_date='2024-01-01', provider='oecd', country=['united_states'])\n",
    "cli.to_polars()"
   ]
  },
  {
   "cell_type": "markdown",
   "metadata": {},
   "source": [
    "# Consumer Price Index"
   ]
  },
  {
   "cell_type": "markdown",
   "metadata": {},
   "source": [
    "## OECD Consumer Price Index"
   ]
  },
  {
   "cell_type": "code",
   "execution_count": null,
   "metadata": {},
   "outputs": [],
   "source": [
    "oecd_cpi = obb.economy.cpi(start_date='2010-01-01', country='united_states', transform='yoy', provider='oecd',harmonized=False, expenditure='total')\n",
    "oecd_cpi.results\n"
   ]
  },
  {
   "cell_type": "markdown",
   "metadata": {},
   "source": [
    "## FRED Consumer Price Index"
   ]
  },
  {
   "cell_type": "code",
   "execution_count": null,
   "metadata": {},
   "outputs": [],
   "source": [
    "fred_cpi = obb.economy.cpi(start_date='2024-07-01', country='united_states', transform='yoy', provider='fred')\n",
    "fred_cpi.results"
   ]
  },
  {
   "cell_type": "markdown",
   "metadata": {},
   "source": [
    "# humblCOMPASS "
   ]
  },
  {
   "cell_type": "code",
   "execution_count": 10,
   "metadata": {},
   "outputs": [
    {
     "name": "stderr",
     "output_type": "stream",
     "text": [
      "WARNING: ToolboxQueryParams || Start date adjusted to 2022-10-02 based on peon membership (2Y of data).\n"
     ]
    },
    {
     "name": "stdout",
     "output_type": "stream",
     "text": [
      "The autoreload extension is already loaded. To reload it, use:\n",
      "  %reload_ext autoreload\n"
     ]
    }
   ],
   "source": [
    "%load_ext autoreload\n",
    "%autoreload 2\n",
    "\n",
    "from humbldata.toolbox.toolbox_controller import Toolbox\n",
    "\n",
    "toolbox = Toolbox(\n",
    "    symbols=[\"AAPL\"],\n",
    "    interval=\"1d\",\n",
    "    start_date=\"2015-03-01\",\n",
    "    end_date=\"2024-10-01\",\n",
    "    membership=\"peon\"\n",
    ")"
   ]
  },
  {
   "cell_type": "code",
   "execution_count": 11,
   "metadata": {},
   "outputs": [
    {
     "name": "stderr",
     "output_type": "stream",
     "text": [
      "INFO: HumblCompassFetcher || START: fetch_data (sync)\n",
      "WARNING: HumblCompassFetcher || Z-score is not calculated for peon membership level.\n",
      "INFO: HumblCompassFetcher || CLI start date: 2022-06-02 and CPI start date: 2022-07-02. Dates are adjusted to account for CLI data release lag and z-score calculation window.\n",
      "INFO: HumblCompassFetcher || END: fetch_data (sync) - Total time: 0.1982s\n"
     ]
    }
   ],
   "source": [
    "compass = toolbox.fundamental.humbl_compass(country=\"united_states\", z_score=\"1y\", chart=False, template=\"humbl_dark\")"
   ]
  },
  {
   "cell_type": "code",
   "execution_count": 15,
   "metadata": {},
   "outputs": [
    {
     "data": {
      "text/plain": [
       "b'\\xa1fSelect\\xa3dexpr\\x86\\xa1fColumnpdate_month_start\\xa1fColumngcountry\\xa1hFunction\\xa3einput\\x81\\xa1fColumnccpihfunction\\xa1eRound\\xa1hdecimals\\x02goptions\\xa9ncollect_groupskElementWisegfmt_str`x\\x18input_wildcard_expansion\\xf4nreturns_scalar\\xf4lallow_rename\\xf4rpass_name_to_apply\\xf4nchanges_length\\xf4mcheck_lengths\\xf5qallow_group_aware\\xf5\\xa1hFunction\\xa3einput\\x81\\xa1fColumnlcpi_3m_deltahfunction\\xa1eRound\\xa1hdecimals\\x02goptions\\xa9ncollect_groupskElementWisegfmt_str`x\\x18input_wildcard_expansion\\xf4nreturns_scalar\\xf4lallow_rename\\xf4rpass_name_to_apply\\xf4nchanges_length\\xf4mcheck_lengths\\xf5qallow_group_aware\\xf5\\xa1hFunction\\xa3einput\\x81\\xa1fColumncclihfunction\\xa1eRound\\xa1hdecimals\\x02goptions\\xa9ncollect_groupskElementWisegfmt_str`x\\x18input_wildcard_expansion\\xf4nreturns_scalar\\xf4lallow_rename\\xf4rpass_name_to_apply\\xf4nchanges_length\\xf4mcheck_lengths\\xf5qallow_group_aware\\xf5\\xa1hFunction\\xa3einput\\x81\\xa1fColumnlcli_3m_deltahfunction\\xa1eRound\\xa1hdecimals\\x02goptions\\xa9ncollect_groupskElementWisegfmt_str`x\\x18input_wildcard_expansion\\xf4nreturns_scalar\\xf4lallow_rename\\xf4rpass_name_to_apply\\xf4nchanges_length\\xf4mcheck_lengths\\xf5qallow_group_aware\\xf5einput\\xa1mDataFrameScan\\xa4bdf\\xa1gcolumns\\x88\\xa4dnamepdate_month_starthdatatypedDatelbit_settings\\x01fvalues\\x97\\x19Ka\\x19K\\x7f\\x19K\\x9e\\x19K\\xbd\\x19K\\xd9\\x19K\\xf8\\x19L\\x16\\x19L5\\x19LS\\x19Lr\\x19L\\x91\\x19L\\xaf\\x19L\\xce\\x19L\\xec\\x19M\\x0b\\x19M*\\x19MG\\x19Mf\\x19M\\x84\\x19M\\xa3\\x19M\\xc1\\x19M\\xe0\\x19M\\xff\\xa4dnamehdate_clihdatatypedDatelbit_settings\\x00fvalues\\x97\\x19K~\\x19K\\x9d\\x19K\\xbc\\x19K\\xd8\\x19K\\xf7\\x19L\\x15\\x19L4\\x19LR\\x19Lq\\x19L\\x90\\x19L\\xae\\x19L\\xcd\\x19L\\xeb\\x19M\\n\\x19M)\\x19MF\\x19Me\\x19M\\x83\\x19M\\xa2\\x19M\\xc0\\x19M\\xdf\\x19M\\xfe\\x19N\\x1c\\xa4dnamehdate_cpihdatatypedDatelbit_settings\\x00fvalues\\x97\\x19Ka\\x19K\\x7f\\x19K\\x9e\\x19K\\xbd\\x19K\\xd9\\x19K\\xf8\\x19L\\x16\\x19L5\\x19LS\\x19Lr\\x19L\\x91\\x19L\\xaf\\x19L\\xce\\x19L\\xec\\x19M\\x0b\\x19M*\\x19MG\\x19Mf\\x19M\\x84\\x19M\\xa3\\x19M\\xc1\\x19M\\xe0\\x19M\\xff\\xa4dnamegcountryhdatatypefStringlbit_settings\\x00fvalues\\x97munited_statesmunited_statesmunited_statesmunited_statesmunited_statesmunited_statesmunited_statesmunited_statesmunited_statesmunited_statesmunited_statesmunited_statesmunited_statesmunited_statesmunited_statesmunited_statesmunited_statesmunited_statesmunited_statesmunited_statesmunited_statesmunited_statesmunited_states\\xa4dnamecclihdatatypegFloat64lbit_settings\\x00fvalues\\x97\\xfb@X\\xb9\\xbf\\x8e\\xa9uu\\xfb@X\\xb6\\x19;\\xa9\\xe1\\x8e\\xfb@X\\xb4\\x15\\xa3\\x10\\x9cD\\xfb@X\\xb2\\xd6:f\\xee\\x99\\xfb@X\\xb2\\xbeH\\x89\\xdf^\\xfb@X\\xb5\\x14tcRL\\xfb@X\\xb9\\xc1-\\x9c\\x8c\\xb4\\xfb@X\\xc0Ch\\x17\\xf3\\x0c\\xfb@X\\xc6\\xba\\xc8\\xa6\\xe6\\x1c\\xfb@X\\xcb\\xcf\\x03h\\x1b\\xd6\\xfb@X\\xcf[\\xc6\\x8a\\xd8\\x0c\\xfb@X\\xd2\\x85\\x9bs\\x02\\xe2\\xfb@X\\xd7\\x7fY9\\xb2\\x04\\xfb@X\\xdf\\x15\\x0eCH1\\xfb@X\\xe8\\xe7g\\xce\\xf55\\xfb@X\\xf3\\x16\\xbc\\x85\\x8bm\\xfb@X\\xfb\\x80\\xf9OMw\\xfb@Y\\x00\\x07\\xdb\\xb5\\xeb\\x95\\xfb@Y\\x00\\xfcJv7\\x8c\\xfb@Y\\x00T\\x8e`\\x8c\"\\xfb@Y\\x00\\x9b\\x1f1\\x0bh\\xfb@Y\\x02\\x8c\\xe8\\xc1AA\\xfb@Y\\x06\\r\\x83`\\x04\\xa7\\xa4dnameccpihdatatypegFloat64lbit_settings\\x00fvalues\\x97\\xfb@\\x1cp\\xf8\\x833\\xfc\\x87\\xfb@\\x19\\xd1N~\\xe9\\x14+\\xfb@\\x19\\xa3\\xfd\\x93>5\\xc7\\xfb@\\x18$w\\xbb\\xf9?\\xf2\\xfb@\\x13\\xf0\\x9d\\x065\\xa4\\'\\xfb@\\x13\\xb8\\xa5\\xce[BF\\xfb@\\x100\\xc0i\\xe7\\xfb&\\xfb@\\x07\\xc0\\xe0e0\\x05\\x81\\xfb@\\tl\\x17\\xeb\\xaf\\x10\"\\xfb@\\rR&=\\x81j\\xcf\\xfb@\\r\\x98\\xfbC\\xd8\\x9c\\xe4\\xfb@\\t\\xed\\xddn\\x04\\xc0Y\\xfb@\\t\\x19!\\x89\\xbd\\x83\\x83\\xfb@\\n\\xd1%\\xdd\\tZ\\xf2\\xfb@\\x08\\xba!\\xea5\\x93`\\xfb@\\t9\\xb1\\xb7\\x9d\\x90\\x9f\\xfb@\\x0b\\xd1\\xaf:\\x14\\xce\\xc5\\xfb@\\n\\xdb\\xe1\\xa8&$W\\xfb@\\n&\\xf8\\xad%g\\x99\\xfb@\\x07\\xc5k\\xcaSu\\xc9\\xfb@\\x07(tB\\xc7\\xfb\\xad\\xfb@\\x04>\\xef^\\xc8\\x0ct\\xfb@\\x03\\x86j\\x98$N\\x94\\xa4dnamelcli_3m_deltahdatatypegFloat64lbit_settings\\x00fvalues\\x97\\xfb\\xbf\\xd8/\\x80\\xcd\\x97\\xc2\\x00\\xfb\\xbf\\xd1\\x7f\\rg\\x9d\\xcf\\x00\\xfb\\xbf\\xc76\\x98\\xc2\\xb8\\\\\\x00\\xfb\\xbf\\xbb\\xa5Q\\n\\x1bp\\x00\\xfb\\xbf\\xaa\\xd7\\x99\\x00\\x11\\x80\\x00\\xfb?\\x8f\\xda*V\\xc1\\x00\\x00\\xfb?\\xbb\\xab\\xcc\\xd6xl\\x00\\xfb?\\xcb\\n?\\x1c\\'\\\\\\x00\\xfb?\\xd1\\xa6TC\\x93\\xd0\\x00\\xfb?\\xd2\\r\\xd5\\xcb\\x8f\"\\x00\\xfb?\\xce0\\xbc\\xe5\\xca\\x00\\x00\\xfb?\\xc7\\x95\\xa5\\x989\\x8c\\x00\\xfb?\\xc7`\\xab\\xa3,\\\\\\x00\\xfb?\\xcfr\\x8fp\\xe0J\\x00\\xfb?\\xd6a\\xcc[\\xf2S\\x00\\xfb?\\xdb\\x97cK\\xd9i\\x00\\xfb?\\xdck\\xeb\\x0c\\x05F\\x00\\xfb?\\xd7 s\\xe6\\xf6`\\x00\\xfb?\\xcb\\xcb\\x1b\\xe1X>\\x00\\xfb?\\xb3NTD\\xfa\\xac\\x00\\xfb?\\x82hoc\\xfa`\\x00\\xfb?\\x99\\t\\xe4\\xb0\\x9bP\\x00\\xfb?\\xb6\\xe3\\xd3\\xfd\\xe2\\x14\\x00\\xa4dnamelcpi_3m_deltahdatatypegFloat64lbit_settings\\x00fvalues\\x97\\xfb\\xbf\\xf2p\\x1ay\\xfe\\xc9\\x9c\\xfb\\xbf\\xfb\\xf4\\xd0V\\xc5\\x08\\xb4\\xfb\\xbf\\xf5]N\\x8f\\xb0\\x0b\\xc8\\xfb\\xbf\\xf12\\x03\\x1c\\xea\\xf2T\\xfb\\xbf\\xf7\\x82\\xc5\\xe2\\xcd\\xc0\\x10\\xfb\\xbf\\xf7\\xad_\\x13\\x8b\\xce\\x04\\xfb\\xbf\\xff\\xce\\xddHE\\x130\\xfb\\xc0\\x00 Y\\xa7;B\\xcd\\xfb\\xbf\\xfc\\ngb\\x0e\\xe8\\xd4\\xfb\\xbf\\xd8z\\xd4\\xb2t[\\xe8\\xfb?\\xe7`kz\\xa2]\\x8c\\xfb?\\xb08\\xb0J\\xb6\\x06\\xe0\\xfb\\xbf\\xe0\\xe4\\x12\\xcf\\x0f\\x9d0\\xfb\\xbf\\xd6>\\xab6z\\x0f\\x90\\xfb\\xbf\\xc3;\\xb8<\\xf2\\xcf\\x90\\xfb?\\x90H\\x16\\xf0\\x06\\x8e\\x00\\xfb?\\xc0\\x08\\x95\\xd0\\xb7=0\\xfb?\\xd1\\r\\xfd\\xef\\x84\\x87\\xb8\\xfb?\\xbd\\xa8\\xde\\xb0\\xfa\\xdf@\\xfb\\xbf\\xe01\\r\\xbf\\x05c\\xf0\\xfb\\xbf\\xdd\\x9bk*\\xf1EP\\xfb\\xbf\\xe7\\xa0%9ul\\x94\\xfb\\xbf\\xe0\\xfc\\x04\\xc8\\xbc\\x9c\\xd4fschema\\xa1einner\\xa8pdate_month_startdDatehdate_clidDatehdate_cpidDategcountryfStringccligFloat64ccpigFloat64lcli_3m_deltagFloat64lcpi_3m_deltagFloat64moutput_schema\\xf6ffilter\\xf6goptions\\xa3lrun_parallel\\xf5oduplicate_check\\xf5pshould_broadcast\\xf5'"
      ]
     },
     "execution_count": 15,
     "metadata": {},
     "output_type": "execute_result"
    }
   ],
   "source": [
    "compass.results"
   ]
  },
  {
   "cell_type": "code",
   "execution_count": null,
   "metadata": {},
   "outputs": [],
   "source": [
    "df = compass.to_polars()\n"
   ]
  },
  {
   "cell_type": "code",
   "execution_count": null,
   "metadata": {},
   "outputs": [],
   "source": [
    "df"
   ]
  },
  {
   "cell_type": "code",
   "execution_count": null,
   "metadata": {},
   "outputs": [],
   "source": []
  }
 ],
 "metadata": {
  "kernelspec": {
   "display_name": "Python 3",
   "language": "python",
   "name": "python3"
  },
  "language_info": {
   "codemirror_mode": {
    "name": "ipython",
    "version": 3
   },
   "file_extension": ".py",
   "mimetype": "text/x-python",
   "name": "python",
   "nbconvert_exporter": "python",
   "pygments_lexer": "ipython3",
   "version": "3.12.4"
  }
 },
 "nbformat": 4,
 "nbformat_minor": 2
}
