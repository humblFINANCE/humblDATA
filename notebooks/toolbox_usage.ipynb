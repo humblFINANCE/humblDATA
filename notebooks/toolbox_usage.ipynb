{
 "cells": [
  {
   "cell_type": "code",
   "execution_count": null,
   "metadata": {},
   "outputs": [],
   "source": [
    "%load_ext autoreload\n",
    "%autoreload 2\n",
    "\n",
    "from humbldata.toolbox.toolbox_controller import Toolbox\n",
    "\n",
    "toolbox = Toolbox(\n",
    "    symbol=\"AAPl,msft\",\n",
    "    interval=\"1d\",\n",
    "    start_date=\"2021-01-01\",\n",
    "    end_date=\"2021-01-01\",\n",
    ")\n",
    "\n"
   ]
  },
  {
   "cell_type": "code",
   "execution_count": null,
   "metadata": {},
   "outputs": [],
   "source": [
    "toolbox"
   ]
  },
  {
   "cell_type": "code",
   "execution_count": null,
   "metadata": {},
   "outputs": [],
   "source": [
    "result = toolbox.technical.mandelbrot_channel(window=\"1m\")"
   ]
  },
  {
   "cell_type": "code",
   "execution_count": null,
   "metadata": {},
   "outputs": [],
   "source": [
    "result"
   ]
  },
  {
   "cell_type": "markdown",
   "metadata": {},
   "source": [
    "## Test validation"
   ]
  },
  {
   "cell_type": "code",
   "execution_count": null,
   "metadata": {},
   "outputs": [],
   "source": [
    "import polars as pl\n",
    "import datetime\n",
    "\n",
    "from humbldata.core.standard_models.toolbox.technical.mandelbrotchannel import MandelbrotChannelData\n",
    "\n",
    "test_frame = pl.LazyFrame(\n",
    "    {\n",
    "        \"date\": pl.date_range(\n",
    "            start=datetime.date(2021, 1, 1),\n",
    "            end=datetime.date(2021, 1, 3),\n",
    "            eager=True,\n",
    "        ),\n",
    "        \"symbol\": [\"AAPL\", \"AAPL\", \"AAPL\"],\n",
    "        \"bottom_price\": [100.0, 100.0, 100.0],\n",
    "        \"recent_price\": [110.0, 110.0, 110.0],\n",
    "        \"top_price\": [120.0, 120.0, 120.0],\n",
    "    }\n",
    ")\n",
    "\n",
    "MandelbrotChannelData(test_frame).collect()\n",
    "\n"
   ]
  },
  {
   "cell_type": "markdown",
   "metadata": {},
   "source": [
    "## Test Fetcher"
   ]
  },
  {
   "cell_type": "code",
   "execution_count": 17,
   "metadata": {},
   "outputs": [],
   "source": [
    "from humbldata.core.standard_models.toolbox import ToolboxQueryParams\n",
    "from humbldata.core.standard_models.toolbox.technical.mandelbrotchannel import (\n",
    "    MandelbrotChannelFetcher,\n",
    "    MandelbrotChannelQueryParams,\n",
    ")\n",
    "\n",
    "\n",
    "data= MandelbrotChannelFetcher(\n",
    "    context_params=ToolboxQueryParams(symbol=\"AMD\"),\n",
    "    command_params=None,\n",
    ").fetch_data()\n",
    "import polars as pl"
   ]
  },
  {
   "cell_type": "code",
   "execution_count": 18,
   "metadata": {},
   "outputs": [
    {
     "data": {
      "text/plain": [
       "False"
      ]
     },
     "execution_count": 18,
     "metadata": {},
     "output_type": "execute_result"
    }
   ],
   "source": [
    "\n",
    "\n",
    "data.filter(pl.col(\"symbol\") == \"AMD\").height > 0"
   ]
  },
  {
   "cell_type": "code",
   "execution_count": 7,
   "metadata": {},
   "outputs": [
    {
     "data": {
      "text/plain": [
       "ToolboxQueryParams(symbol=AMD, interval=1d, start_date=1950-01-01, end_date=2024-03-18, provider=yfinance)"
      ]
     },
     "execution_count": 7,
     "metadata": {},
     "output_type": "execute_result"
    }
   ],
   "source": []
  },
  {
   "cell_type": "markdown",
   "metadata": {},
   "source": [
    "## Reprex"
   ]
  },
  {
   "cell_type": "code",
   "execution_count": null,
   "metadata": {},
   "outputs": [],
   "source": [
    "from typing import Optional\n",
    "import pandera.polars as pa\n",
    "import polars as pl\n",
    "\n",
    "\n",
    "class ModelWithChecks(pa.DataFrameModel):\n",
    "    a: int\n",
    "    b: str\n",
    "    c: Optional[float]\n",
    "    date: pl.Date\n",
    "\n",
    "\n",
    "valid_lf = pl.LazyFrame(\n",
    "    {\n",
    "        \"a\": pl.Series([1, 2, 3], dtype=pl.Int64),\n",
    "        \"b\": [\"d\", \"e\", \"f\"],\n",
    "        # \"c\": [0.0, 0.6, 1],\n",
    "        \"date\": pl.date_range(\n",
    "            start=datetime.date(2021, 1, 1),\n",
    "            end=datetime.date(2021, 1, 3),\n",
    "            eager=True,\n",
    "        ),\n",
    "    }\n",
    ")\n",
    "\n",
    "\n",
    "ModelWithChecks.validate(valid_lf, lazy=True).collect()\n"
   ]
  },
  {
   "cell_type": "code",
   "execution_count": null,
   "metadata": {},
   "outputs": [],
   "source": []
  }
 ],
 "metadata": {
  "kernelspec": {
   "display_name": "Python 3",
   "language": "python",
   "name": "python3"
  },
  "language_info": {
   "codemirror_mode": {
    "name": "ipython",
    "version": 3
   },
   "file_extension": ".py",
   "mimetype": "text/x-python",
   "name": "python",
   "nbconvert_exporter": "python",
   "pygments_lexer": "ipython3",
   "version": "3.11.7"
  }
 },
 "nbformat": 4,
 "nbformat_minor": 2
}
