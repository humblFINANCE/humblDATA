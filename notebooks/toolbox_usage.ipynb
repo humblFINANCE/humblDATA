{
 "cells": [
  {
   "cell_type": "code",
   "execution_count": null,
   "metadata": {},
   "outputs": [],
   "source": [
    "%load_ext autoreload\n",
    "%autoreload 2\n",
    "\n",
    "from humbldata.toolbox.toolbox_controller import Toolbox\n",
    "\n",
    "toolbox = Toolbox(\n",
    "    symbol=\"AAPl,msft\",\n",
    "    interval=\"1d\",\n",
    "    start_date=\"2021-01-01\",\n",
    "    end_date=\"2021-01-01\",\n",
    ")\n",
    "\n"
   ]
  },
  {
   "cell_type": "code",
   "execution_count": null,
   "metadata": {},
   "outputs": [],
   "source": [
    "toolbox"
   ]
  },
  {
   "cell_type": "code",
   "execution_count": null,
   "metadata": {},
   "outputs": [],
   "source": [
    "result = toolbox.technical.mandelbrot_channel(window=\"1m\")"
   ]
  },
  {
   "cell_type": "code",
   "execution_count": null,
   "metadata": {},
   "outputs": [],
   "source": [
    "result"
   ]
  },
  {
   "cell_type": "code",
   "execution_count": 27,
   "metadata": {},
   "outputs": [
    {
     "data": {
      "text/plain": [
       "MandelbrotChannelQueryParams(window=2mo, rv_adjustment=True, rv_method=std, rs_method=RS, rv_grouped_mean=False, live_price=False)"
      ]
     },
     "execution_count": 27,
     "metadata": {},
     "output_type": "execute_result"
    }
   ],
   "source": [
    "from humbldata.core.standard_models.toolbox.technical.mandelbrotchannel import (\n",
    "    MandelbrotChannelQueryParams,\n",
    ")\n",
    "\n",
    "\n",
    "MandelbrotChannelQueryParams(window=\"2 months\", rs_method=\"RS\")\n",
    "\n"
   ]
  },
  {
   "cell_type": "markdown",
   "metadata": {},
   "source": [
    "## Test validation"
   ]
  },
  {
   "cell_type": "code",
   "execution_count": null,
   "metadata": {},
   "outputs": [],
   "source": [
    "from openbb import obb\n",
    "\n",
    "context_params = toolbox\n",
    "\n",
    "equity_historical_data = (\n",
    "    obb.equity.price.historical(\n",
    "        symbol=\"AAPL,MSFT\",\n",
    "        start_date=context_params.start_date,\n",
    "        end_date=context_params.end_date,\n",
    "        provider=context_params.provider,\n",
    "    ).to_polars()\n",
    ").drop([\"dividends\", \"stock_splits\"])\n"
   ]
  },
  {
   "cell_type": "code",
   "execution_count": null,
   "metadata": {},
   "outputs": [],
   "source": [
    "print(equity_historical_data.dtypes)\n",
    "print(equity_historical_data.columns)\n"
   ]
  },
  {
   "cell_type": "code",
   "execution_count": null,
   "metadata": {},
   "outputs": [],
   "source": [
    "%load_ext autoreload\n",
    "%autoreload 2\n",
    "\n",
    "from humbldata.core.standard_models.toolbox import ToolboxData\n",
    "\n",
    "\n",
    "ToolboxData(equity_historical_data)\n",
    "\n"
   ]
  },
  {
   "cell_type": "markdown",
   "metadata": {},
   "source": [
    "## Reprex"
   ]
  },
  {
   "cell_type": "code",
   "execution_count": null,
   "metadata": {},
   "outputs": [],
   "source": [
    "from typing import Optional\n",
    "import pandera.polars as pa\n",
    "import polars as pl\n",
    "\n",
    "\n",
    "class ModelWithChecks(pa.DataFrameModel):\n",
    "    a: int\n",
    "    b: str\n",
    "    c: Optional[float]\n",
    "    date: pl.Date\n",
    "\n",
    "\n",
    "valid_lf = pl.LazyFrame(\n",
    "    {\n",
    "        \"a\": pl.Series([1, 2, 3], dtype=pl.Int64),\n",
    "        \"b\": [\"d\", \"e\", \"f\"],\n",
    "        # \"c\": [0.0, 0.6, 1],\n",
    "        \"date\": pl.date_range(\n",
    "            start=datetime.date(2021, 1, 1),\n",
    "            end=datetime.date(2021, 1, 3),\n",
    "            eager=True,\n",
    "        ),\n",
    "    }\n",
    ")\n",
    "\n",
    "\n",
    "ModelWithChecks.validate(valid_lf, lazy=True).collect()\n"
   ]
  },
  {
   "cell_type": "code",
   "execution_count": null,
   "metadata": {},
   "outputs": [],
   "source": []
  }
 ],
 "metadata": {
  "kernelspec": {
   "display_name": "Python 3",
   "language": "python",
   "name": "python3"
  },
  "language_info": {
   "codemirror_mode": {
    "name": "ipython",
    "version": 3
   },
   "file_extension": ".py",
   "mimetype": "text/x-python",
   "name": "python",
   "nbconvert_exporter": "python",
   "pygments_lexer": "ipython3",
   "version": "3.11.7"
  }
 },
 "nbformat": 4,
 "nbformat_minor": 2
}
