{
 "cells": [
  {
   "cell_type": "markdown",
   "metadata": {},
   "source": [
    "## Initiate the Toolbox\n",
    "- the parameters set here will be used to collect command-specific data when the `Fetcher` executes the TET pattern."
   ]
  },
  {
   "cell_type": "code",
   "execution_count": 1,
   "metadata": {},
   "outputs": [
    {
     "data": {
      "text/plain": [
       "Toolbox(symbols=['AAPL', 'AMD', 'GOOGL', 'PCT', 'NVDA'], interval=1d, start_date=2020-01-01, end_date=2024-01-01, provider=yfinance)"
      ]
     },
     "execution_count": 1,
     "metadata": {},
     "output_type": "execute_result"
    }
   ],
   "source": [
    "%load_ext autoreload\n",
    "%autoreload 2\n",
    "\n",
    "from humbldata.toolbox.toolbox_controller import Toolbox\n",
    "\n",
    "toolbox = Toolbox(\n",
    "    symbols=[\"AAPL\", \"AMD\", \"GOOGL\", \"PCT\", \"NVDA\"],\n",
    "    interval=\"1d\",\n",
    "    start_date=\"2020-01-01\",\n",
    "    end_date=\"2024-01-01\",\n",
    ")\n",
    "toolbox"
   ]
  },
  {
   "cell_type": "markdown",
   "metadata": {},
   "source": [
    "## Run Mandelbrot Channel Calculation"
   ]
  },
  {
   "cell_type": "code",
   "execution_count": 2,
   "metadata": {},
   "outputs": [
    {
     "name": "stderr",
     "output_type": "stream",
     "text": [
      "INFO: MandelbrotChannelFetcher || START: fetch_data (sync)\n"
     ]
    },
    {
     "name": "stderr",
     "output_type": "stream",
     "text": [
      "/Users/jjfantini/github/humblFINANCE-org/humblDATA/menv/lib/python3.12/site-packages/pandera/backends/polars/container.py:214: PerformanceWarning: Determining the column names of a LazyFrame requires resolving its schema, which is a potentially expensive operation. Use `LazyFrame.collect_schema().names()` to get the column names without this warning.\n",
      "  and col_name not in check_obj.columns\n",
      "/Users/jjfantini/github/humblFINANCE-org/humblDATA/menv/lib/python3.12/site-packages/pandera/backends/polars/container.py:229: PerformanceWarning: Determining the column names of a LazyFrame requires resolving its schema, which is a potentially expensive operation. Use `LazyFrame.collect_schema().names()` to get the column names without this warning.\n",
      "  elif col_name in check_obj.columns:\n",
      "/Users/jjfantini/github/humblFINANCE-org/humblDATA/menv/lib/python3.12/site-packages/pandera/backends/polars/components.py:103: PerformanceWarning: Determining the column names of a LazyFrame requires resolving its schema, which is a potentially expensive operation. Use `LazyFrame.collect_schema().names()` to get the column names without this warning.\n",
      "  return check_obj.select(pl.col(schema.selector)).columns\n",
      "/Users/jjfantini/github/humblFINANCE-org/humblDATA/menv/lib/python3.12/site-packages/pandera/backends/polars/container.py:233: PerformanceWarning: Determining the column names of a LazyFrame requires resolving its schema, which is a potentially expensive operation. Use `LazyFrame.collect_schema().names()` to get the column names without this warning.\n",
      "  destuttered_column_names = [*check_obj.columns]\n",
      "/Users/jjfantini/github/humblFINANCE-org/humblDATA/menv/lib/python3.12/site-packages/pandera/backends/polars/base.py:25: PerformanceWarning: Resolving the schema of a LazyFrame is a potentially expensive operation. Use `LazyFrame.collect_schema()` to get the schema without this warning.\n",
      "  for dtype in check_obj.select(pl.col(selector)).schema.values()\n",
      "/Users/jjfantini/github/humblFINANCE-org/humblDATA/menv/lib/python3.12/site-packages/pandera/backends/polars/components.py:217: PerformanceWarning: Determining the column names of a LazyFrame requires resolving its schema, which is a potentially expensive operation. Use `LazyFrame.collect_schema().names()` to get the column names without this warning.\n",
      "  for column in isna.columns:\n",
      "/Users/jjfantini/github/humblFINANCE-org/humblDATA/menv/lib/python3.12/site-packages/pandera/backends/polars/components.py:329: PerformanceWarning: Determining the column names of a LazyFrame requires resolving its schema, which is a potentially expensive operation. Use `LazyFrame.collect_schema().names()` to get the column names without this warning.\n",
      "  for column in check_obj_subset.columns:\n",
      "/Users/jjfantini/github/humblFINANCE-org/humblDATA/menv/lib/python3.12/site-packages/pandera/backends/polars/components.py:330: PerformanceWarning: Resolving the schema of a LazyFrame is a potentially expensive operation. Use `LazyFrame.collect_schema()` to get the schema without this warning.\n",
      "  obj_dtype = check_obj_subset.schema[column]\n",
      "INFO: MandelbrotChannelFetcher || END: fetch_data (sync) - Total time: 6.9632s\n"
     ]
    },
    {
     "data": {
      "text/html": [
       "<div><style>\n",
       ".dataframe > thead > tr,\n",
       ".dataframe > tbody > tr {\n",
       "  text-align: right;\n",
       "  white-space: pre-wrap;\n",
       "}\n",
       "</style>\n",
       "<small>shape: (4_809, 5)</small><table border=\"1\" class=\"dataframe\"><thead><tr><th>date</th><th>symbol</th><th>bottom_price</th><th>close_price</th><th>top_price</th></tr><tr><td>date</td><td>str</td><td>f64</td><td>f64</td><td>f64</td></tr></thead><tbody><tr><td>2020-02-03</td><td>&quot;AAPL&quot;</td><td>74.9288</td><td>74.979111</td><td>80.7142</td></tr><tr><td>2020-02-04</td><td>&quot;AAPL&quot;</td><td>74.2665</td><td>77.454445</td><td>82.2336</td></tr><tr><td>2020-02-05</td><td>&quot;AAPL&quot;</td><td>74.6945</td><td>78.086037</td><td>82.3748</td></tr><tr><td>2020-02-06</td><td>&quot;AAPL&quot;</td><td>75.0301</td><td>78.999405</td><td>82.5859</td></tr><tr><td>2020-02-07</td><td>&quot;AAPL&quot;</td><td>75.4156</td><td>77.925575</td><td>82.594</td></tr><tr><td>&hellip;</td><td>&hellip;</td><td>&hellip;</td><td>&hellip;</td><td>&hellip;</td></tr><tr><td>2023-12-22</td><td>&quot;PCT&quot;</td><td>3.2567</td><td>3.84</td><td>4.3722</td></tr><tr><td>2023-12-26</td><td>&quot;PCT&quot;</td><td>3.3069</td><td>3.96</td><td>4.46</td></tr><tr><td>2023-12-27</td><td>&quot;PCT&quot;</td><td>3.3973</td><td>4.11</td><td>4.5761</td></tr><tr><td>2023-12-28</td><td>&quot;PCT&quot;</td><td>3.4768</td><td>4.18</td><td>4.6459</td></tr><tr><td>2023-12-29</td><td>&quot;PCT&quot;</td><td>3.3289</td><td>4.05</td><td>4.5229</td></tr></tbody></table></div>"
      ],
      "text/plain": [
       "shape: (4_809, 5)\n",
       "┌────────────┬────────┬──────────────┬─────────────┬───────────┐\n",
       "│ date       ┆ symbol ┆ bottom_price ┆ close_price ┆ top_price │\n",
       "│ ---        ┆ ---    ┆ ---          ┆ ---         ┆ ---       │\n",
       "│ date       ┆ str    ┆ f64          ┆ f64         ┆ f64       │\n",
       "╞════════════╪════════╪══════════════╪═════════════╪═══════════╡\n",
       "│ 2020-02-03 ┆ AAPL   ┆ 74.9288      ┆ 74.979111   ┆ 80.7142   │\n",
       "│ 2020-02-04 ┆ AAPL   ┆ 74.2665      ┆ 77.454445   ┆ 82.2336   │\n",
       "│ 2020-02-05 ┆ AAPL   ┆ 74.6945      ┆ 78.086037   ┆ 82.3748   │\n",
       "│ 2020-02-06 ┆ AAPL   ┆ 75.0301      ┆ 78.999405   ┆ 82.5859   │\n",
       "│ 2020-02-07 ┆ AAPL   ┆ 75.4156      ┆ 77.925575   ┆ 82.594    │\n",
       "│ …          ┆ …      ┆ …            ┆ …           ┆ …         │\n",
       "│ 2023-12-22 ┆ PCT    ┆ 3.2567       ┆ 3.84        ┆ 4.3722    │\n",
       "│ 2023-12-26 ┆ PCT    ┆ 3.3069       ┆ 3.96        ┆ 4.46      │\n",
       "│ 2023-12-27 ┆ PCT    ┆ 3.3973       ┆ 4.11        ┆ 4.5761    │\n",
       "│ 2023-12-28 ┆ PCT    ┆ 3.4768       ┆ 4.18        ┆ 4.6459    │\n",
       "│ 2023-12-29 ┆ PCT    ┆ 3.3289       ┆ 4.05        ┆ 4.5229    │\n",
       "└────────────┴────────┴──────────────┴─────────────┴───────────┘"
      ]
     },
     "execution_count": 2,
     "metadata": {},
     "output_type": "execute_result"
    }
   ],
   "source": [
    "result = toolbox.technical.mandelbrot_channel(historical=True, window=\"1m\", _boundary_group_down=False)\n",
    "result\n",
    "result.to_polars()"
   ]
  }
 ],
 "metadata": {
  "kernelspec": {
   "display_name": "Python 3",
   "language": "python",
   "name": "python3"
  },
  "language_info": {
   "codemirror_mode": {
    "name": "ipython",
    "version": 3
   },
   "file_extension": ".py",
   "mimetype": "text/x-python",
   "name": "python",
   "nbconvert_exporter": "python",
   "pygments_lexer": "ipython3",
   "version": "3.12.4"
  }
 },
 "nbformat": 4,
 "nbformat_minor": 2
}
