{
 "cells": [
  {
   "cell_type": "markdown",
   "metadata": {},
   "source": [
    "## Initiate the Toolbox\n",
    "- the parameters set here will be used to collect command-specific data when the `Fetcher` executes the TET pattern."
   ]
  },
  {
   "cell_type": "code",
   "execution_count": 1,
   "metadata": {},
   "outputs": [
    {
     "data": {
      "text/plain": [
       "Toolbox(symbols=['AAPL', 'AMD', 'GOOGL', 'PCT', 'NVDA'], interval=1d, start_date=2020-01-01, end_date=2024-01-01, provider=yfinance)"
      ]
     },
     "execution_count": 1,
     "metadata": {},
     "output_type": "execute_result"
    }
   ],
   "source": [
    "%load_ext autoreload\n",
    "%autoreload 2\n",
    "\n",
    "from humbldata.toolbox.toolbox_controller import Toolbox\n",
    "\n",
    "toolbox = Toolbox(\n",
    "    symbols=[\"AAPL\", \"AMD\", \"GOOGL\", \"PCT\", \"NVDA\"],\n",
    "    interval=\"1d\",\n",
    "    start_date=\"2020-01-01\",\n",
    "    end_date=\"2024-01-01\",\n",
    ")\n",
    "toolbox"
   ]
  },
  {
   "cell_type": "markdown",
   "metadata": {},
   "source": [
    "## Run Mandelbrot Channel Calculation"
   ]
  },
  {
   "cell_type": "code",
   "execution_count": 3,
   "metadata": {},
   "outputs": [
    {
     "name": "stdout",
     "output_type": "stream",
     "text": [
      "2024-07-08 16:32:11,108 - MandelbrotChannelFetcher - INFO - START: fetch_data (sync)\n"
     ]
    },
    {
     "name": "stdout",
     "output_type": "stream",
     "text": [
      "2024-07-08 16:32:17,965 - MandelbrotChannelFetcher - INFO - END: fetch_data (sync) - Total time: 6.8576s\n"
     ]
    },
    {
     "data": {
      "text/html": [
       "<div><style>\n",
       ".dataframe > thead > tr,\n",
       ".dataframe > tbody > tr {\n",
       "  text-align: right;\n",
       "  white-space: pre-wrap;\n",
       "}\n",
       "</style>\n",
       "<small>shape: (4_813, 5)</small><table border=\"1\" class=\"dataframe\"><thead><tr><th>date</th><th>symbol</th><th>bottom_price</th><th>close_price</th><th>top_price</th></tr><tr><td>date</td><td>str</td><td>f64</td><td>f64</td><td>f64</td></tr></thead><tbody><tr><td>2020-02-03</td><td>&quot;AAPL&quot;</td><td>74.9288</td><td>74.979103</td><td>80.7142</td></tr><tr><td>2020-02-04</td><td>&quot;AAPL&quot;</td><td>74.2665</td><td>77.454445</td><td>82.2336</td></tr><tr><td>2020-02-05</td><td>&quot;AAPL&quot;</td><td>74.6945</td><td>78.086052</td><td>82.3749</td></tr><tr><td>2020-02-06</td><td>&quot;AAPL&quot;</td><td>75.0301</td><td>78.999413</td><td>82.5859</td></tr><tr><td>2020-02-07</td><td>&quot;AAPL&quot;</td><td>75.4156</td><td>77.925583</td><td>82.594</td></tr><tr><td>&hellip;</td><td>&hellip;</td><td>&hellip;</td><td>&hellip;</td><td>&hellip;</td></tr><tr><td>2023-12-22</td><td>&quot;PCT&quot;</td><td>3.2567</td><td>3.84</td><td>4.3722</td></tr><tr><td>2023-12-26</td><td>&quot;PCT&quot;</td><td>3.3069</td><td>3.96</td><td>4.46</td></tr><tr><td>2023-12-27</td><td>&quot;PCT&quot;</td><td>3.3973</td><td>4.11</td><td>4.5761</td></tr><tr><td>2023-12-28</td><td>&quot;PCT&quot;</td><td>3.4768</td><td>4.18</td><td>4.6459</td></tr><tr><td>2023-12-29</td><td>&quot;PCT&quot;</td><td>3.3289</td><td>4.05</td><td>4.5229</td></tr></tbody></table></div>"
      ],
      "text/plain": [
       "shape: (4_813, 5)\n",
       "┌────────────┬────────┬──────────────┬─────────────┬───────────┐\n",
       "│ date       ┆ symbol ┆ bottom_price ┆ close_price ┆ top_price │\n",
       "│ ---        ┆ ---    ┆ ---          ┆ ---         ┆ ---       │\n",
       "│ date       ┆ str    ┆ f64          ┆ f64         ┆ f64       │\n",
       "╞════════════╪════════╪══════════════╪═════════════╪═══════════╡\n",
       "│ 2020-02-03 ┆ AAPL   ┆ 74.9288      ┆ 74.979103   ┆ 80.7142   │\n",
       "│ 2020-02-04 ┆ AAPL   ┆ 74.2665      ┆ 77.454445   ┆ 82.2336   │\n",
       "│ 2020-02-05 ┆ AAPL   ┆ 74.6945      ┆ 78.086052   ┆ 82.3749   │\n",
       "│ 2020-02-06 ┆ AAPL   ┆ 75.0301      ┆ 78.999413   ┆ 82.5859   │\n",
       "│ 2020-02-07 ┆ AAPL   ┆ 75.4156      ┆ 77.925583   ┆ 82.594    │\n",
       "│ …          ┆ …      ┆ …            ┆ …           ┆ …         │\n",
       "│ 2023-12-22 ┆ PCT    ┆ 3.2567       ┆ 3.84        ┆ 4.3722    │\n",
       "│ 2023-12-26 ┆ PCT    ┆ 3.3069       ┆ 3.96        ┆ 4.46      │\n",
       "│ 2023-12-27 ┆ PCT    ┆ 3.3973       ┆ 4.11        ┆ 4.5761    │\n",
       "│ 2023-12-28 ┆ PCT    ┆ 3.4768       ┆ 4.18        ┆ 4.6459    │\n",
       "│ 2023-12-29 ┆ PCT    ┆ 3.3289       ┆ 4.05        ┆ 4.5229    │\n",
       "└────────────┴────────┴──────────────┴─────────────┴───────────┘"
      ]
     },
     "execution_count": 3,
     "metadata": {},
     "output_type": "execute_result"
    }
   ],
   "source": [
    "result = toolbox.technical.mandelbrot_channel(historical=True, window=\"1m\", _boundary_group_down=False)\n",
    "result\n",
    "result.to_polars()"
   ]
  }
 ],
 "metadata": {
  "kernelspec": {
   "display_name": "Python 3",
   "language": "python",
   "name": "python3"
  },
  "language_info": {
   "codemirror_mode": {
    "name": "ipython",
    "version": 3
   },
   "file_extension": ".py",
   "mimetype": "text/x-python",
   "name": "python",
   "nbconvert_exporter": "python",
   "pygments_lexer": "ipython3",
   "version": "3.11.9"
  }
 },
 "nbformat": 4,
 "nbformat_minor": 2
}
