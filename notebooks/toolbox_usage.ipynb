{
 "cells": [
  {
   "cell_type": "markdown",
   "metadata": {},
   "source": [
    "## Initiate the Toolbox\n",
    "- the parameters set here will be used to collect command-specific data when the `Fetcher` executes the TET pattern."
   ]
  },
  {
   "cell_type": "code",
   "execution_count": 23,
   "metadata": {},
   "outputs": [
    {
     "name": "stdout",
     "output_type": "stream",
     "text": [
      "The autoreload extension is already loaded. To reload it, use:\n",
      "  %reload_ext autoreload\n"
     ]
    },
    {
     "data": {
      "text/plain": [
       "Toolbox(symbol=['AAPL', 'AMD', 'GOOGL', 'PCT', 'NVDA'], interval=1d, start_date=2020-01-01, end_date=2024-01-01, provider=yfinance)"
      ]
     },
     "execution_count": 23,
     "metadata": {},
     "output_type": "execute_result"
    }
   ],
   "source": [
    "%load_ext autoreload\n",
    "%autoreload 2\n",
    "\n",
    "from humbldata.toolbox.toolbox_controller import Toolbox\n",
    "\n",
    "toolbox = Toolbox(\n",
    "    symbol=[\"AAPL\", \"AMD\", \"GOOGL\", \"PCT\", \"NVDA\"],\n",
    "    interval=\"1d\",\n",
    "    start_date=\"2020-01-01\",\n",
    "    end_date=\"2024-01-01\",\n",
    ")\n",
    "toolbox"
   ]
  },
  {
   "cell_type": "markdown",
   "metadata": {},
   "source": [
    "## Run Mandelbrot Channel Calculation"
   ]
  },
  {
   "cell_type": "code",
   "execution_count": 27,
   "metadata": {},
   "outputs": [
    {
     "data": {
      "text/html": [
       "<div><style>\n",
       ".dataframe > thead > tr,\n",
       ".dataframe > tbody > tr {\n",
       "  text-align: right;\n",
       "  white-space: pre-wrap;\n",
       "}\n",
       "</style>\n",
       "<small>shape: (4_813, 5)</small><table border=\"1\" class=\"dataframe\"><thead><tr><th>date</th><th>symbol</th><th>bottom_price</th><th>close_price</th><th>top_price</th></tr><tr><td>date</td><td>str</td><td>f64</td><td>f64</td><td>f64</td></tr></thead><tbody><tr><td>2020-02-03</td><td>&quot;AAPL&quot;</td><td>75.0304</td><td>75.080818</td><td>80.8237</td></tr><tr><td>2020-02-04</td><td>&quot;AAPL&quot;</td><td>74.3672</td><td>77.559494</td><td>82.3451</td></tr><tr><td>2020-02-05</td><td>&quot;AAPL&quot;</td><td>74.7959</td><td>78.19194</td><td>82.4866</td></tr><tr><td>2020-02-06</td><td>&quot;AAPL&quot;</td><td>75.1319</td><td>79.10656</td><td>82.6979</td></tr><tr><td>2020-02-07</td><td>&quot;AAPL&quot;</td><td>75.5179</td><td>78.031288</td><td>82.7061</td></tr><tr><td>&hellip;</td><td>&hellip;</td><td>&hellip;</td><td>&hellip;</td><td>&hellip;</td></tr><tr><td>2023-12-22</td><td>&quot;PCT&quot;</td><td>3.2567</td><td>3.84</td><td>4.3722</td></tr><tr><td>2023-12-26</td><td>&quot;PCT&quot;</td><td>3.3069</td><td>3.96</td><td>4.46</td></tr><tr><td>2023-12-27</td><td>&quot;PCT&quot;</td><td>3.3973</td><td>4.11</td><td>4.5761</td></tr><tr><td>2023-12-28</td><td>&quot;PCT&quot;</td><td>3.4768</td><td>4.18</td><td>4.6459</td></tr><tr><td>2023-12-29</td><td>&quot;PCT&quot;</td><td>3.3289</td><td>4.05</td><td>4.5229</td></tr></tbody></table></div>"
      ],
      "text/plain": [
       "shape: (4_813, 5)\n",
       "┌────────────┬────────┬──────────────┬─────────────┬───────────┐\n",
       "│ date       ┆ symbol ┆ bottom_price ┆ close_price ┆ top_price │\n",
       "│ ---        ┆ ---    ┆ ---          ┆ ---         ┆ ---       │\n",
       "│ date       ┆ str    ┆ f64          ┆ f64         ┆ f64       │\n",
       "╞════════════╪════════╪══════════════╪═════════════╪═══════════╡\n",
       "│ 2020-02-03 ┆ AAPL   ┆ 75.0304      ┆ 75.080818   ┆ 80.8237   │\n",
       "│ 2020-02-04 ┆ AAPL   ┆ 74.3672      ┆ 77.559494   ┆ 82.3451   │\n",
       "│ 2020-02-05 ┆ AAPL   ┆ 74.7959      ┆ 78.19194    ┆ 82.4866   │\n",
       "│ 2020-02-06 ┆ AAPL   ┆ 75.1319      ┆ 79.10656    ┆ 82.6979   │\n",
       "│ 2020-02-07 ┆ AAPL   ┆ 75.5179      ┆ 78.031288   ┆ 82.7061   │\n",
       "│ …          ┆ …      ┆ …            ┆ …           ┆ …         │\n",
       "│ 2023-12-22 ┆ PCT    ┆ 3.2567       ┆ 3.84        ┆ 4.3722    │\n",
       "│ 2023-12-26 ┆ PCT    ┆ 3.3069       ┆ 3.96        ┆ 4.46      │\n",
       "│ 2023-12-27 ┆ PCT    ┆ 3.3973       ┆ 4.11        ┆ 4.5761    │\n",
       "│ 2023-12-28 ┆ PCT    ┆ 3.4768       ┆ 4.18        ┆ 4.6459    │\n",
       "│ 2023-12-29 ┆ PCT    ┆ 3.3289       ┆ 4.05        ┆ 4.5229    │\n",
       "└────────────┴────────┴──────────────┴─────────────┴───────────┘"
      ]
     },
     "execution_count": 27,
     "metadata": {},
     "output_type": "execute_result"
    }
   ],
   "source": [
    "result = toolbox.technical.mandelbrot_channel(historical=True, window=\"1m\", _boundary_group_down=False)\n",
    "result\n",
    "result.to_polars()"
   ]
  },
  {
   "cell_type": "code",
   "execution_count": 15,
   "metadata": {},
   "outputs": [],
   "source": [
    "result.to_polars().write_parquet(\"../tests/test_data/mandelbrot_channel_historical.parquet\")"
   ]
  },
  {
   "cell_type": "code",
   "execution_count": 26,
   "metadata": {},
   "outputs": [
    {
     "data": {
      "text/plain": [
       "HumblObject\n",
       "\n",
       "id: 066731ee-8657-7214-8000-e8e18bea861d\n",
       "results: {\"IR\":{\"version\":4998025,\"dsl\":{\"DataFrameScan\":{\"df\":{\"columns\":[{\"name\":...\n",
       "equity_data: {\"MapFunction\":{\"input\":{\"DataFrameScan\":{\"df\":{\"columns\":[{\"name\":\"da...\n",
       "provider: yfinance\n",
       "warnings: None\n",
       "chart: None\n",
       "extra: {}\n",
       "context_params: {'symbol': ['AAPL', 'AMD', 'GOOGL', 'PCT', 'NVDA'], 'interval': '1d...\n",
       "command_params: {'window': '1mo', 'rv_adjustment': True, 'rv_method': 'std', 'rs_me..."
      ]
     },
     "execution_count": 26,
     "metadata": {},
     "output_type": "execute_result"
    }
   ],
   "source": []
  },
  {
   "cell_type": "code",
   "execution_count": null,
   "metadata": {},
   "outputs": [],
   "source": []
  }
 ],
 "metadata": {
  "kernelspec": {
   "display_name": "Python 3",
   "language": "python",
   "name": "python3"
  },
  "language_info": {
   "codemirror_mode": {
    "name": "ipython",
    "version": 3
   },
   "file_extension": ".py",
   "mimetype": "text/x-python",
   "name": "python",
   "nbconvert_exporter": "python",
   "pygments_lexer": "ipython3",
   "version": "3.11.9"
  }
 },
 "nbformat": 4,
 "nbformat_minor": 2
}
