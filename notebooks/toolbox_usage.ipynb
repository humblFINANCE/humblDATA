{
 "cells": [
  {
   "cell_type": "markdown",
   "metadata": {},
   "source": [
    "## Initiate the Toolbox\n",
    "- the parameters set here will be used to collect command-specific data when the `Fetcher` executes the TET pattern."
   ]
  },
  {
   "cell_type": "code",
   "execution_count": 19,
   "metadata": {},
   "outputs": [
    {
     "name": "stdout",
     "output_type": "stream",
     "text": [
      "The autoreload extension is already loaded. To reload it, use:\n",
      "  %reload_ext autoreload\n"
     ]
    },
    {
     "data": {
      "text/plain": [
       "Toolbox(symbol=['AAPL', 'AMD', 'SMCI', 'PCT', 'NVDA'], interval=1d, start_date=2020-01-01, end_date=2024-01-01, provider=yfinance)"
      ]
     },
     "execution_count": 19,
     "metadata": {},
     "output_type": "execute_result"
    }
   ],
   "source": [
    "%load_ext autoreload\n",
    "%autoreload 2\n",
    "\n",
    "from humbldata.toolbox.toolbox_controller import Toolbox\n",
    "\n",
    "toolbox = Toolbox(\n",
    "    symbol=[\"AAPL\", \"AMD\", \"SMCI\", \"PCT\", \"NVDA\"],\n",
    "    interval=\"1d\",\n",
    "    start_date=\"2020-01-01\",\n",
    "    end_date=\"2024-01-01\",\n",
    ")\n",
    "toolbox"
   ]
  },
  {
   "cell_type": "markdown",
   "metadata": {},
   "source": [
    "## Run Mandelbrot Channel Calculation"
   ]
  },
  {
   "cell_type": "code",
   "execution_count": 21,
   "metadata": {},
   "outputs": [],
   "source": [
    "result = toolbox.technical.mandelbrot_channel(historical=True, window=\"1m\")\n",
    "result\n",
    "result.to_polars()"
   ]
  },
  {
   "cell_type": "code",
   "execution_count": 15,
   "metadata": {},
   "outputs": [],
   "source": [
    "result.to_polars().write_parquet(\"../tests/test_data/mandelbrot_channel_historical.parquet\")"
   ]
  }
 ],
 "metadata": {
  "kernelspec": {
   "display_name": "Python 3",
   "language": "python",
   "name": "python3"
  },
  "language_info": {
   "codemirror_mode": {
    "name": "ipython",
    "version": 3
   },
   "file_extension": ".py",
   "mimetype": "text/x-python",
   "name": "python",
   "nbconvert_exporter": "python",
   "pygments_lexer": "ipython3",
   "version": "3.11.9"
  }
 },
 "nbformat": 4,
 "nbformat_minor": 2
}
