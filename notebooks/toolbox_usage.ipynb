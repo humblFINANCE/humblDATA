{
 "cells": [
  {
   "cell_type": "markdown",
   "metadata": {},
   "source": [
    "## Initiate the Toolbox\n",
    "- the parameters set here will be used to collect command-specific data when the `Fetcher` executes the TET pattern."
   ]
  },
  {
   "cell_type": "code",
   "execution_count": 21,
   "metadata": {},
   "outputs": [
    {
     "name": "stdout",
     "output_type": "stream",
     "text": [
      "The autoreload extension is already loaded. To reload it, use:\n",
      "  %reload_ext autoreload\n"
     ]
    }
   ],
   "source": [
    "%load_ext autoreload\n",
    "%autoreload 2\n",
    "\n",
    "from humbldata.toolbox.toolbox_controller import Toolbox\n",
    "\n",
    "toolbox = Toolbox(\n",
    "    symbol=[\"AAPL\"],\n",
    "    interval=\"1d\",\n",
    "    start_date=\"2021-01-01\",\n",
    "    end_date=\"2021-01-01\",\n",
    ")\n",
    "\n"
   ]
  },
  {
   "cell_type": "code",
   "execution_count": 33,
   "metadata": {},
   "outputs": [],
   "source": [
    "result = toolbox.technical.mandelbrot_channel(window=\"1m\")"
   ]
  },
  {
   "cell_type": "code",
   "execution_count": 36,
   "metadata": {},
   "outputs": [
    {
     "data": {
      "text/html": [
       "<div><style>\n",
       ".dataframe > thead > tr,\n",
       ".dataframe > tbody > tr {\n",
       "  text-align: right;\n",
       "  white-space: pre-wrap;\n",
       "}\n",
       "</style>\n",
       "<small>shape: (1,)</small><table border=\"1\" class=\"dataframe\"><thead><tr><th></th></tr><tr><td>struct[5]</td></tr></thead><tbody><tr><td>{2024-03-19,&quot;AAPL&quot;,170.5729,175.035004,176.5032}</td></tr></tbody></table></div>"
      ],
      "text/plain": [
       "shape: (1,)\n",
       "Series: '' [struct[5]]\n",
       "[\n",
       "\t{2024-03-19,\"AAPL\",170.5729,175.035004,176.5032}\n",
       "]"
      ]
     },
     "execution_count": 36,
     "metadata": {},
     "output_type": "execute_result"
    }
   ],
   "source": [
    "result.to_polars().to_struct()\n"
   ]
  },
  {
   "cell_type": "code",
   "execution_count": 8,
   "metadata": {},
   "outputs": [
    {
     "data": {
      "text/html": [
       "<div><style>\n",
       ".dataframe > thead > tr,\n",
       ".dataframe > tbody > tr {\n",
       "  text-align: right;\n",
       "  white-space: pre-wrap;\n",
       "}\n",
       "</style>\n",
       "<small>shape: (1, 5)</small><table border=\"1\" class=\"dataframe\"><thead><tr><th>date</th><th>symbol</th><th>bottom_price</th><th>recent_price</th><th>top_price</th></tr><tr><td>date</td><td>str</td><td>f64</td><td>f64</td><td>f64</td></tr></thead><tbody><tr><td>2024-03-19</td><td>&quot;AAPL&quot;</td><td>170.3143</td><td>174.744003</td><td>176.2494</td></tr></tbody></table></div>"
      ],
      "text/plain": [
       "shape: (1, 5)\n",
       "┌────────────┬────────┬──────────────┬──────────────┬───────────┐\n",
       "│ date       ┆ symbol ┆ bottom_price ┆ recent_price ┆ top_price │\n",
       "│ ---        ┆ ---    ┆ ---          ┆ ---          ┆ ---       │\n",
       "│ date       ┆ str    ┆ f64          ┆ f64          ┆ f64       │\n",
       "╞════════════╪════════╪══════════════╪══════════════╪═══════════╡\n",
       "│ 2024-03-19 ┆ AAPL   ┆ 170.3143     ┆ 174.744003   ┆ 176.2494  │\n",
       "└────────────┴────────┴──────────────┴──────────────┴───────────┘"
      ]
     },
     "execution_count": 8,
     "metadata": {},
     "output_type": "execute_result"
    }
   ],
   "source": [
    "import polars as pl\n",
    "import io\n",
    "\n",
    "pl.LazyFrame.deserialize(io.StringIO(result.results)).collect()\n",
    "\n"
   ]
  },
  {
   "cell_type": "markdown",
   "metadata": {},
   "source": [
    "## Testing HumblObject Creation"
   ]
  },
  {
   "cell_type": "code",
   "execution_count": 1,
   "metadata": {},
   "outputs": [],
   "source": [
    "from humbldata.core.standard_models.abstract.humblobject import HumblObject\n",
    "\n",
    "test = HumblObject()\n",
    "\n"
   ]
  }
 ],
 "metadata": {
  "kernelspec": {
   "display_name": "Python 3",
   "language": "python",
   "name": "python3"
  },
  "language_info": {
   "codemirror_mode": {
    "name": "ipython",
    "version": 3
   },
   "file_extension": ".py",
   "mimetype": "text/x-python",
   "name": "python",
   "nbconvert_exporter": "python",
   "pygments_lexer": "ipython3",
   "version": "3.11.7"
  }
 },
 "nbformat": 4,
 "nbformat_minor": 2
}
