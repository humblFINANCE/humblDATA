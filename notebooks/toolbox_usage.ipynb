{
 "cells": [
  {
   "cell_type": "markdown",
   "metadata": {},
   "source": [
    "## Initiate the Toolbox\n",
    "- the parameters set here will be used to collect command-specific data when the `Fetcher` executes the TET pattern."
   ]
  },
  {
   "cell_type": "code",
   "execution_count": 38,
   "metadata": {},
   "outputs": [
    {
     "name": "stdout",
     "output_type": "stream",
     "text": [
      "The autoreload extension is already loaded. To reload it, use:\n",
      "  %reload_ext autoreload\n"
     ]
    },
    {
     "data": {
      "text/plain": [
       "Toolbox(symbol=['AMD', 'AAPL'], interval=1d, start_date=2021-01-01, end_date=2021-01-20, provider=yfinance)"
      ]
     },
     "execution_count": 38,
     "metadata": {},
     "output_type": "execute_result"
    }
   ],
   "source": [
    "%load_ext autoreload\n",
    "%autoreload 2\n",
    "\n",
    "from humbldata.toolbox.toolbox_controller import Toolbox\n",
    "\n",
    "toolbox = Toolbox(\n",
    "    symbol=[\"AMD\", \"AAPL\"],\n",
    "    interval=\"1d\",\n",
    "    start_date=\"2021-01-01\",\n",
    "    end_date=\"2021-01-20\",\n",
    ")\n",
    "toolbox"
   ]
  },
  {
   "cell_type": "code",
   "execution_count": 39,
   "metadata": {},
   "outputs": [
    {
     "ename": "HumblDataError",
     "evalue": "You set <historical=True> \n        This calculation needs *at least* one window of data. \n        The (start date + window) is: 2021-02-02 and the dataset ended: 2021-01-21. \n        Please adjust dates accordingly.",
     "output_type": "error",
     "traceback": [
      "\u001b[1;31m---------------------------------------------------------------------------\u001b[0m",
      "\u001b[1;31mHumblDataError\u001b[0m                            Traceback (most recent call last)",
      "Cell \u001b[1;32mIn[39], line 1\u001b[0m\n\u001b[1;32m----> 1\u001b[0m result \u001b[38;5;241m=\u001b[39m \u001b[43mtoolbox\u001b[49m\u001b[38;5;241;43m.\u001b[39;49m\u001b[43mtechnical\u001b[49m\u001b[38;5;241;43m.\u001b[39;49m\u001b[43mmandelbrot_channel\u001b[49m\u001b[43m(\u001b[49m\u001b[43mhistorical\u001b[49m\u001b[38;5;241;43m=\u001b[39;49m\u001b[38;5;28;43;01mTrue\u001b[39;49;00m\u001b[43m,\u001b[49m\u001b[43m \u001b[49m\u001b[43mwindow\u001b[49m\u001b[38;5;241;43m=\u001b[39;49m\u001b[38;5;124;43m\"\u001b[39;49m\u001b[38;5;124;43m1m\u001b[39;49m\u001b[38;5;124;43m\"\u001b[39;49m\u001b[43m)\u001b[49m\n",
      "File \u001b[1;32m~\\github\\humblFINANCE-org\\humbldata\\src\\humbldata\\toolbox\\technical\\technical_controller.py:49\u001b[0m, in \u001b[0;36mTechnical.mandelbrot_channel\u001b[1;34m(self, **kwargs)\u001b[0m\n\u001b[0;32m     44\u001b[0m fetcher \u001b[38;5;241m=\u001b[39m MandelbrotChannelFetcher(\n\u001b[0;32m     45\u001b[0m     context_params\u001b[38;5;241m=\u001b[39m\u001b[38;5;28mself\u001b[39m\u001b[38;5;241m.\u001b[39mcontext_params, command_params\u001b[38;5;241m=\u001b[39mkwargs\n\u001b[0;32m     46\u001b[0m )\n\u001b[0;32m     48\u001b[0m \u001b[38;5;66;03m# Use the fetcher to get the data\u001b[39;00m\n\u001b[1;32m---> 49\u001b[0m \u001b[38;5;28;01mreturn\u001b[39;00m \u001b[43mfetcher\u001b[49m\u001b[38;5;241;43m.\u001b[39;49m\u001b[43mfetch_data\u001b[49m\u001b[43m(\u001b[49m\u001b[43m)\u001b[49m\n",
      "File \u001b[1;32m~\\github\\humblFINANCE-org\\humbldata\\src\\humbldata\\core\\standard_models\\toolbox\\technical\\mandelbrot_channel.py:349\u001b[0m, in \u001b[0;36mMandelbrotChannelFetcher.fetch_data\u001b[1;34m(self)\u001b[0m\n\u001b[0;32m    347\u001b[0m \u001b[38;5;28mself\u001b[39m\u001b[38;5;241m.\u001b[39mtransform_query()\n\u001b[0;32m    348\u001b[0m \u001b[38;5;28mself\u001b[39m\u001b[38;5;241m.\u001b[39mextract_data()\n\u001b[1;32m--> 349\u001b[0m \u001b[38;5;28;43mself\u001b[39;49m\u001b[38;5;241;43m.\u001b[39;49m\u001b[43mtransform_data\u001b[49m\u001b[43m(\u001b[49m\u001b[43m)\u001b[49m\n\u001b[0;32m    351\u001b[0m \u001b[38;5;28;01mreturn\u001b[39;00m HumblObject(\n\u001b[0;32m    352\u001b[0m     results\u001b[38;5;241m=\u001b[39m\u001b[38;5;28mself\u001b[39m\u001b[38;5;241m.\u001b[39mtransformed_data,\n\u001b[0;32m    353\u001b[0m     provider\u001b[38;5;241m=\u001b[39m\u001b[38;5;28mself\u001b[39m\u001b[38;5;241m.\u001b[39mcontext_params\u001b[38;5;241m.\u001b[39mprovider,\n\u001b[1;32m   (...)\u001b[0m\n\u001b[0;32m    357\u001b[0m     command_params\u001b[38;5;241m=\u001b[39m\u001b[38;5;28mself\u001b[39m\u001b[38;5;241m.\u001b[39mcommand_params,\n\u001b[0;32m    358\u001b[0m )\n",
      "File \u001b[1;32m~\\github\\humblFINANCE-org\\humbldata\\src\\humbldata\\core\\standard_models\\toolbox\\technical\\mandelbrot_channel.py:317\u001b[0m, in \u001b[0;36mMandelbrotChannelFetcher.transform_data\u001b[1;34m(self)\u001b[0m\n\u001b[0;32m    307\u001b[0m     transformed_data \u001b[38;5;241m=\u001b[39m calc_mandelbrot_channel(\n\u001b[0;32m    308\u001b[0m         data\u001b[38;5;241m=\u001b[39m\u001b[38;5;28mself\u001b[39m\u001b[38;5;241m.\u001b[39mequity_historical_data,\n\u001b[0;32m    309\u001b[0m         window\u001b[38;5;241m=\u001b[39m\u001b[38;5;28mself\u001b[39m\u001b[38;5;241m.\u001b[39mcommand_params\u001b[38;5;241m.\u001b[39mwindow,\n\u001b[1;32m   (...)\u001b[0m\n\u001b[0;32m    314\u001b[0m         _live_price\u001b[38;5;241m=\u001b[39m\u001b[38;5;28mself\u001b[39m\u001b[38;5;241m.\u001b[39mcommand_params\u001b[38;5;241m.\u001b[39mlive_price,\n\u001b[0;32m    315\u001b[0m     )\n\u001b[0;32m    316\u001b[0m \u001b[38;5;28;01melse\u001b[39;00m:\n\u001b[1;32m--> 317\u001b[0m     transformed_data \u001b[38;5;241m=\u001b[39m \u001b[43mcalc_mandelbrot_channel_historical\u001b[49m\u001b[43m(\u001b[49m\n\u001b[0;32m    318\u001b[0m \u001b[43m        \u001b[49m\u001b[43mdata\u001b[49m\u001b[38;5;241;43m=\u001b[39;49m\u001b[38;5;28;43mself\u001b[39;49m\u001b[38;5;241;43m.\u001b[39;49m\u001b[43mequity_historical_data\u001b[49m\u001b[43m,\u001b[49m\n\u001b[0;32m    319\u001b[0m \u001b[43m        \u001b[49m\u001b[43mwindow\u001b[49m\u001b[38;5;241;43m=\u001b[39;49m\u001b[38;5;28;43mself\u001b[39;49m\u001b[38;5;241;43m.\u001b[39;49m\u001b[43mcommand_params\u001b[49m\u001b[38;5;241;43m.\u001b[39;49m\u001b[43mwindow\u001b[49m\u001b[43m,\u001b[49m\n\u001b[0;32m    320\u001b[0m \u001b[43m        \u001b[49m\u001b[43mrv_adjustment\u001b[49m\u001b[38;5;241;43m=\u001b[39;49m\u001b[38;5;28;43mself\u001b[39;49m\u001b[38;5;241;43m.\u001b[39;49m\u001b[43mcommand_params\u001b[49m\u001b[38;5;241;43m.\u001b[39;49m\u001b[43mrv_adjustment\u001b[49m\u001b[43m,\u001b[49m\n\u001b[0;32m    321\u001b[0m \u001b[43m        \u001b[49m\u001b[43m_rv_method\u001b[49m\u001b[38;5;241;43m=\u001b[39;49m\u001b[38;5;28;43mself\u001b[39;49m\u001b[38;5;241;43m.\u001b[39;49m\u001b[43mcommand_params\u001b[49m\u001b[38;5;241;43m.\u001b[39;49m\u001b[43mrv_method\u001b[49m\u001b[43m,\u001b[49m\n\u001b[0;32m    322\u001b[0m \u001b[43m        \u001b[49m\u001b[43m_rv_grouped_mean\u001b[49m\u001b[38;5;241;43m=\u001b[39;49m\u001b[38;5;28;43mself\u001b[39;49m\u001b[38;5;241;43m.\u001b[39;49m\u001b[43mcommand_params\u001b[49m\u001b[38;5;241;43m.\u001b[39;49m\u001b[43mrv_grouped_mean\u001b[49m\u001b[43m,\u001b[49m\n\u001b[0;32m    323\u001b[0m \u001b[43m        \u001b[49m\u001b[43m_rs_method\u001b[49m\u001b[38;5;241;43m=\u001b[39;49m\u001b[38;5;28;43mself\u001b[39;49m\u001b[38;5;241;43m.\u001b[39;49m\u001b[43mcommand_params\u001b[49m\u001b[38;5;241;43m.\u001b[39;49m\u001b[43mrs_method\u001b[49m\u001b[43m,\u001b[49m\n\u001b[0;32m    324\u001b[0m \u001b[43m        \u001b[49m\u001b[43m_live_price\u001b[49m\u001b[38;5;241;43m=\u001b[39;49m\u001b[38;5;28;43mself\u001b[39;49m\u001b[38;5;241;43m.\u001b[39;49m\u001b[43mcommand_params\u001b[49m\u001b[38;5;241;43m.\u001b[39;49m\u001b[43mlive_price\u001b[49m\u001b[43m,\u001b[49m\n\u001b[0;32m    325\u001b[0m \u001b[43m    \u001b[49m\u001b[43m)\u001b[49m\n\u001b[0;32m    327\u001b[0m \u001b[38;5;28mself\u001b[39m\u001b[38;5;241m.\u001b[39mtransformed_data \u001b[38;5;241m=\u001b[39m MandelbrotChannelData(\n\u001b[0;32m    328\u001b[0m     transformed_data\n\u001b[0;32m    329\u001b[0m )\u001b[38;5;241m.\u001b[39mserialize()\n\u001b[0;32m    330\u001b[0m \u001b[38;5;28;01mreturn\u001b[39;00m \u001b[38;5;28mself\u001b[39m\n",
      "File \u001b[1;32m~\\github\\humblFINANCE-org\\humbldata\\src\\humbldata\\toolbox\\technical\\mandelbrot_channel\\model.py:297\u001b[0m, in \u001b[0;36mcalc_mandelbrot_channel_historical\u001b[1;34m(data, window, rv_adjustment, _rv_method, _rs_method, _rv_grouped_mean, _live_price)\u001b[0m\n\u001b[0;32m    286\u001b[0m \u001b[38;5;250m\u001b[39m\u001b[38;5;124;03m\"\"\"\u001b[39;00m\n\u001b[0;32m    287\u001b[0m \u001b[38;5;124;03mContext: Toolbox || Category: Technical || Sub-Category: Mandelbrot Channel || **Command: calc_mandelbrot_channel_historical**.\u001b[39;00m\n\u001b[0;32m    288\u001b[0m \n\u001b[1;32m   (...)\u001b[0m\n\u001b[0;32m    293\u001b[0m \u001b[38;5;124;03mfor date present in the dataset, up to the current point in time.\u001b[39;00m\n\u001b[0;32m    294\u001b[0m \u001b[38;5;124;03m\"\"\"\u001b[39;00m\n\u001b[0;32m    295\u001b[0m nest_asyncio\u001b[38;5;241m.\u001b[39mapply()\n\u001b[1;32m--> 297\u001b[0m \u001b[38;5;28;01mreturn\u001b[39;00m \u001b[43masyncio\u001b[49m\u001b[38;5;241;43m.\u001b[39;49m\u001b[43mrun\u001b[49m\u001b[43m(\u001b[49m\n\u001b[0;32m    298\u001b[0m \u001b[43m    \u001b[49m\u001b[43m_acalc_mandelbrot_channel_historical_engine\u001b[49m\u001b[43m(\u001b[49m\n\u001b[0;32m    299\u001b[0m \u001b[43m        \u001b[49m\u001b[43mdata\u001b[49m\u001b[38;5;241;43m=\u001b[39;49m\u001b[43mdata\u001b[49m\u001b[43m,\u001b[49m\n\u001b[0;32m    300\u001b[0m \u001b[43m        \u001b[49m\u001b[43mwindow\u001b[49m\u001b[38;5;241;43m=\u001b[39;49m\u001b[43mwindow\u001b[49m\u001b[43m,\u001b[49m\n\u001b[0;32m    301\u001b[0m \u001b[43m        \u001b[49m\u001b[43mrv_adjustment\u001b[49m\u001b[38;5;241;43m=\u001b[39;49m\u001b[43mrv_adjustment\u001b[49m\u001b[43m,\u001b[49m\n\u001b[0;32m    302\u001b[0m \u001b[43m        \u001b[49m\u001b[43m_rv_method\u001b[49m\u001b[38;5;241;43m=\u001b[39;49m\u001b[43m_rv_method\u001b[49m\u001b[43m,\u001b[49m\n\u001b[0;32m    303\u001b[0m \u001b[43m        \u001b[49m\u001b[43m_rs_method\u001b[49m\u001b[38;5;241;43m=\u001b[39;49m\u001b[43m_rs_method\u001b[49m\u001b[43m,\u001b[49m\n\u001b[0;32m    304\u001b[0m \u001b[43m        \u001b[49m\u001b[43m_rv_grouped_mean\u001b[49m\u001b[38;5;241;43m=\u001b[39;49m\u001b[43m_rv_grouped_mean\u001b[49m\u001b[43m,\u001b[49m\n\u001b[0;32m    305\u001b[0m \u001b[43m        \u001b[49m\u001b[43m_live_price\u001b[49m\u001b[38;5;241;43m=\u001b[39;49m\u001b[43m_live_price\u001b[49m\u001b[43m,\u001b[49m\n\u001b[0;32m    306\u001b[0m \u001b[43m    \u001b[49m\u001b[43m)\u001b[49m\n\u001b[0;32m    307\u001b[0m \u001b[43m\u001b[49m\u001b[43m)\u001b[49m\n",
      "File \u001b[1;32mc:\\Users\\jjfan\\github\\humblFINANCE-org\\humbldata\\menv\\Lib\\site-packages\\nest_asyncio.py:30\u001b[0m, in \u001b[0;36m_patch_asyncio.<locals>.run\u001b[1;34m(main, debug)\u001b[0m\n\u001b[0;32m     28\u001b[0m task \u001b[38;5;241m=\u001b[39m asyncio\u001b[38;5;241m.\u001b[39mensure_future(main)\n\u001b[0;32m     29\u001b[0m \u001b[38;5;28;01mtry\u001b[39;00m:\n\u001b[1;32m---> 30\u001b[0m     \u001b[38;5;28;01mreturn\u001b[39;00m \u001b[43mloop\u001b[49m\u001b[38;5;241;43m.\u001b[39;49m\u001b[43mrun_until_complete\u001b[49m\u001b[43m(\u001b[49m\u001b[43mtask\u001b[49m\u001b[43m)\u001b[49m\n\u001b[0;32m     31\u001b[0m \u001b[38;5;28;01mfinally\u001b[39;00m:\n\u001b[0;32m     32\u001b[0m     \u001b[38;5;28;01mif\u001b[39;00m \u001b[38;5;129;01mnot\u001b[39;00m task\u001b[38;5;241m.\u001b[39mdone():\n",
      "File \u001b[1;32mc:\\Users\\jjfan\\github\\humblFINANCE-org\\humbldata\\menv\\Lib\\site-packages\\nest_asyncio.py:98\u001b[0m, in \u001b[0;36m_patch_loop.<locals>.run_until_complete\u001b[1;34m(self, future)\u001b[0m\n\u001b[0;32m     95\u001b[0m \u001b[38;5;28;01mif\u001b[39;00m \u001b[38;5;129;01mnot\u001b[39;00m f\u001b[38;5;241m.\u001b[39mdone():\n\u001b[0;32m     96\u001b[0m     \u001b[38;5;28;01mraise\u001b[39;00m \u001b[38;5;167;01mRuntimeError\u001b[39;00m(\n\u001b[0;32m     97\u001b[0m         \u001b[38;5;124m'\u001b[39m\u001b[38;5;124mEvent loop stopped before Future completed.\u001b[39m\u001b[38;5;124m'\u001b[39m)\n\u001b[1;32m---> 98\u001b[0m \u001b[38;5;28;01mreturn\u001b[39;00m \u001b[43mf\u001b[49m\u001b[38;5;241;43m.\u001b[39;49m\u001b[43mresult\u001b[49m\u001b[43m(\u001b[49m\u001b[43m)\u001b[49m\n",
      "File \u001b[1;32mc:\\Users\\jjfan\\github\\humblFINANCE-org\\humbldata\\menv\\Lib\\asyncio\\futures.py:203\u001b[0m, in \u001b[0;36mFuture.result\u001b[1;34m(self)\u001b[0m\n\u001b[0;32m    201\u001b[0m \u001b[38;5;28mself\u001b[39m\u001b[38;5;241m.\u001b[39m__log_traceback \u001b[38;5;241m=\u001b[39m \u001b[38;5;28;01mFalse\u001b[39;00m\n\u001b[0;32m    202\u001b[0m \u001b[38;5;28;01mif\u001b[39;00m \u001b[38;5;28mself\u001b[39m\u001b[38;5;241m.\u001b[39m_exception \u001b[38;5;129;01mis\u001b[39;00m \u001b[38;5;129;01mnot\u001b[39;00m \u001b[38;5;28;01mNone\u001b[39;00m:\n\u001b[1;32m--> 203\u001b[0m     \u001b[38;5;28;01mraise\u001b[39;00m \u001b[38;5;28mself\u001b[39m\u001b[38;5;241m.\u001b[39m_exception\u001b[38;5;241m.\u001b[39mwith_traceback(\u001b[38;5;28mself\u001b[39m\u001b[38;5;241m.\u001b[39m_exception_tb)\n\u001b[0;32m    204\u001b[0m \u001b[38;5;28;01mreturn\u001b[39;00m \u001b[38;5;28mself\u001b[39m\u001b[38;5;241m.\u001b[39m_result\n",
      "File \u001b[1;32mc:\\Users\\jjfan\\github\\humblFINANCE-org\\humbldata\\menv\\Lib\\asyncio\\tasks.py:277\u001b[0m, in \u001b[0;36mTask.__step\u001b[1;34m(***failed resolving arguments***)\u001b[0m\n\u001b[0;32m    273\u001b[0m \u001b[38;5;28;01mtry\u001b[39;00m:\n\u001b[0;32m    274\u001b[0m     \u001b[38;5;28;01mif\u001b[39;00m exc \u001b[38;5;129;01mis\u001b[39;00m \u001b[38;5;28;01mNone\u001b[39;00m:\n\u001b[0;32m    275\u001b[0m         \u001b[38;5;66;03m# We use the `send` method directly, because coroutines\u001b[39;00m\n\u001b[0;32m    276\u001b[0m         \u001b[38;5;66;03m# don't have `__iter__` and `__next__` methods.\u001b[39;00m\n\u001b[1;32m--> 277\u001b[0m         result \u001b[38;5;241m=\u001b[39m \u001b[43mcoro\u001b[49m\u001b[38;5;241;43m.\u001b[39;49m\u001b[43msend\u001b[49m\u001b[43m(\u001b[49m\u001b[38;5;28;43;01mNone\u001b[39;49;00m\u001b[43m)\u001b[49m\n\u001b[0;32m    278\u001b[0m     \u001b[38;5;28;01melse\u001b[39;00m:\n\u001b[0;32m    279\u001b[0m         result \u001b[38;5;241m=\u001b[39m coro\u001b[38;5;241m.\u001b[39mthrow(exc)\n",
      "File \u001b[1;32m~\\github\\humblFINANCE-org\\humbldata\\src\\humbldata\\toolbox\\technical\\mandelbrot_channel\\model.py:236\u001b[0m, in \u001b[0;36m_acalc_mandelbrot_channel_historical_engine\u001b[1;34m(data, window, rv_adjustment, _rv_method, _rs_method, _rv_grouped_mean, _live_price)\u001b[0m\n\u001b[0;32m    231\u001b[0m \u001b[38;5;28;01mif\u001b[39;00m start_date \u001b[38;5;241m>\u001b[39m\u001b[38;5;241m=\u001b[39m end_date:\n\u001b[0;32m    232\u001b[0m     msg \u001b[38;5;241m=\u001b[39m \u001b[38;5;124mf\u001b[39m\u001b[38;5;124m\"\u001b[39m\u001b[38;5;124mYou set <historical=True> \u001b[39m\u001b[38;5;130;01m\\n\u001b[39;00m\u001b[38;5;130;01m\\\u001b[39;00m\n\u001b[0;32m    233\u001b[0m \u001b[38;5;124m    This calculation needs *at least* one window of data. \u001b[39m\u001b[38;5;130;01m\\n\u001b[39;00m\u001b[38;5;130;01m\\\u001b[39;00m\n\u001b[0;32m    234\u001b[0m \u001b[38;5;124m    The (start date + window) is: \u001b[39m\u001b[38;5;132;01m{\u001b[39;00mstart_date\u001b[38;5;132;01m}\u001b[39;00m\u001b[38;5;124m and the dataset ended: \u001b[39m\u001b[38;5;132;01m{\u001b[39;00mend_date\u001b[38;5;132;01m}\u001b[39;00m\u001b[38;5;124m. \u001b[39m\u001b[38;5;130;01m\\n\u001b[39;00m\u001b[38;5;130;01m\\\u001b[39;00m\n\u001b[0;32m    235\u001b[0m \u001b[38;5;124m    Please adjust dates accordingly.\u001b[39m\u001b[38;5;124m\"\u001b[39m\n\u001b[1;32m--> 236\u001b[0m     \u001b[38;5;28;01mraise\u001b[39;00m HumblDataError(msg)\n\u001b[0;32m    238\u001b[0m dates \u001b[38;5;241m=\u001b[39m (\n\u001b[0;32m    239\u001b[0m     data\u001b[38;5;241m.\u001b[39mlazy()\n\u001b[0;32m    240\u001b[0m     \u001b[38;5;241m.\u001b[39mselect(pl\u001b[38;5;241m.\u001b[39mcol(\u001b[38;5;124m\"\u001b[39m\u001b[38;5;124mdate\u001b[39m\u001b[38;5;124m\"\u001b[39m))\n\u001b[1;32m   (...)\u001b[0m\n\u001b[0;32m    245\u001b[0m     \u001b[38;5;241m.\u001b[39mto_series()\n\u001b[0;32m    246\u001b[0m )\n\u001b[0;32m    248\u001b[0m tasks \u001b[38;5;241m=\u001b[39m [\n\u001b[0;32m    249\u001b[0m     asyncio\u001b[38;5;241m.\u001b[39mcreate_task(\n\u001b[0;32m    250\u001b[0m         acalc_mandelbrot_channel(\n\u001b[1;32m   (...)\u001b[0m\n\u001b[0;32m    260\u001b[0m     \u001b[38;5;28;01mfor\u001b[39;00m date \u001b[38;5;129;01min\u001b[39;00m dates\n\u001b[0;32m    261\u001b[0m ]\n",
      "\u001b[1;31mHumblDataError\u001b[0m: You set <historical=True> \n        This calculation needs *at least* one window of data. \n        The (start date + window) is: 2021-02-02 and the dataset ended: 2021-01-21. \n        Please adjust dates accordingly."
     ]
    }
   ],
   "source": [
    "result = toolbox.technical.mandelbrot_channel(historical=True, window=\"1m\")\n",
    "\n"
   ]
  },
  {
   "cell_type": "code",
   "execution_count": null,
   "metadata": {},
   "outputs": [],
   "source": [
    "end_date = data.lazy().select(\"date\")"
   ]
  },
  {
   "cell_type": "code",
   "execution_count": 19,
   "metadata": {},
   "outputs": [
    {
     "data": {
      "text/html": [
       "<div><style>\n",
       ".dataframe > thead > tr,\n",
       ".dataframe > tbody > tr {\n",
       "  text-align: right;\n",
       "  white-space: pre-wrap;\n",
       "}\n",
       "</style>\n",
       "<small>shape: (1_576, 5)</small><table border=\"1\" class=\"dataframe\"><thead><tr><th>date</th><th>symbol</th><th>bottom_price</th><th>close_price</th><th>top_price</th></tr><tr><td>date</td><td>str</td><td>f64</td><td>f64</td><td>f64</td></tr></thead><tbody><tr><td>2021-02-02</td><td>&quot;AAPL&quot;</td><td>131.1199</td><td>134.990005</td><td>142.3465</td></tr><tr><td>2021-02-03</td><td>&quot;AAPL&quot;</td><td>130.8184</td><td>133.940002</td><td>141.2914</td></tr><tr><td>2021-02-04</td><td>&quot;AAPL&quot;</td><td>132.6553</td><td>137.389999</td><td>144.2627</td></tr><tr><td>2021-02-05</td><td>&quot;AAPL&quot;</td><td>133.289</td><td>136.759995</td><td>141.4506</td></tr><tr><td>2021-02-08</td><td>&quot;AAPL&quot;</td><td>133.9751</td><td>136.910004</td><td>140.7271</td></tr><tr><td>&hellip;</td><td>&hellip;</td><td>&hellip;</td><td>&hellip;</td><td>&hellip;</td></tr><tr><td>2024-03-14</td><td>&quot;AMD&quot;</td><td>174.5604</td><td>187.059998</td><td>204.982</td></tr><tr><td>2024-03-15</td><td>&quot;AMD&quot;</td><td>178.4111</td><td>191.059998</td><td>209.6606</td></tr><tr><td>2024-03-18</td><td>&quot;AMD&quot;</td><td>184.8254</td><td>190.649994</td><td>202.7183</td></tr><tr><td>2024-03-19</td><td>&quot;AMD&quot;</td><td>173.188</td><td>181.419998</td><td>204.3356</td></tr><tr><td>2024-03-20</td><td>&quot;AMD&quot;</td><td>178.0854</td><td>179.850006</td><td>207.9097</td></tr></tbody></table></div>"
      ],
      "text/plain": [
       "shape: (1_576, 5)\n",
       "┌────────────┬────────┬──────────────┬─────────────┬───────────┐\n",
       "│ date       ┆ symbol ┆ bottom_price ┆ close_price ┆ top_price │\n",
       "│ ---        ┆ ---    ┆ ---          ┆ ---         ┆ ---       │\n",
       "│ date       ┆ str    ┆ f64          ┆ f64         ┆ f64       │\n",
       "╞════════════╪════════╪══════════════╪═════════════╪═══════════╡\n",
       "│ 2021-02-02 ┆ AAPL   ┆ 131.1199     ┆ 134.990005  ┆ 142.3465  │\n",
       "│ 2021-02-03 ┆ AAPL   ┆ 130.8184     ┆ 133.940002  ┆ 141.2914  │\n",
       "│ 2021-02-04 ┆ AAPL   ┆ 132.6553     ┆ 137.389999  ┆ 144.2627  │\n",
       "│ 2021-02-05 ┆ AAPL   ┆ 133.289      ┆ 136.759995  ┆ 141.4506  │\n",
       "│ 2021-02-08 ┆ AAPL   ┆ 133.9751     ┆ 136.910004  ┆ 140.7271  │\n",
       "│ …          ┆ …      ┆ …            ┆ …           ┆ …         │\n",
       "│ 2024-03-14 ┆ AMD    ┆ 174.5604     ┆ 187.059998  ┆ 204.982   │\n",
       "│ 2024-03-15 ┆ AMD    ┆ 178.4111     ┆ 191.059998  ┆ 209.6606  │\n",
       "│ 2024-03-18 ┆ AMD    ┆ 184.8254     ┆ 190.649994  ┆ 202.7183  │\n",
       "│ 2024-03-19 ┆ AMD    ┆ 173.188      ┆ 181.419998  ┆ 204.3356  │\n",
       "│ 2024-03-20 ┆ AMD    ┆ 178.0854     ┆ 179.850006  ┆ 207.9097  │\n",
       "└────────────┴────────┴──────────────┴─────────────┴───────────┘"
      ]
     },
     "execution_count": 19,
     "metadata": {},
     "output_type": "execute_result"
    }
   ],
   "source": [
    "result.to_polars()\n",
    "\n"
   ]
  },
  {
   "cell_type": "markdown",
   "metadata": {},
   "source": [
    "## Testing HumblObject Creation"
   ]
  },
  {
   "cell_type": "code",
   "execution_count": 23,
   "metadata": {},
   "outputs": [
    {
     "data": {
      "text/plain": [
       "YourModel\n",
       "\n",
       "command_params: {'window': '1mo', 'rv_adjustment': True, 'rv_method': 'std', 'rs_me..."
      ]
     },
     "execution_count": 23,
     "metadata": {},
     "output_type": "execute_result"
    }
   ],
   "source": [
    "from typing import Any\n",
    "from pydantic import BaseModel, Field\n",
    "from pydantic.config import ConfigDict\n",
    "from pydantic.functional_validators import field_validator\n",
    "\n",
    "from humbldata.core.standard_models.toolbox.technical.mandelbrot_channel import MandelbrotChannelQueryParams\n",
    "\n",
    "\n",
    "class YourModel(BaseModel):\n",
    "    model_config = ConfigDict(arbitrary_types_allowed=True)\n",
    "    command_params: Any = Field()\n",
    "\n",
    "    @field_validator(\"command_params\")\n",
    "    def validate_command_params(cls, v):\n",
    "        class_name = v.__class__.__name__\n",
    "        if \"QueryParams\" in class_name:\n",
    "            return v\n",
    "        raise TypeError(\"Wrong type for 'some_foo', must be subclass of Foo\")\n",
    "\n",
    "    def __repr__(self) -> str:\n",
    "        \"\"\"Human readable representation of the object.\"\"\"\n",
    "        items = [\n",
    "            f\"{k}: {v}\"[:83] + (\"...\" if len(f\"{k}: {v}\") > 83 else \"\")\n",
    "            for k, v in self.model_dump().items()\n",
    "        ]\n",
    "        return f\"{self.__class__.__name__}\\n\\n\" + \"\\n\".join(items)\n",
    "\n",
    "YourModel(command_params=MandelbrotChannelQueryParams())\n"
   ]
  },
  {
   "cell_type": "code",
   "execution_count": 10,
   "metadata": {},
   "outputs": [
    {
     "data": {
      "text/plain": [
       "YourModel\n",
       "\n",
       "command_params: {'window': '2mo', 'rv_adjustment': True, 'rv_method': 'std', 'rs_method': 'RS', 'rv..."
      ]
     },
     "execution_count": 10,
     "metadata": {},
     "output_type": "execute_result"
    }
   ],
   "source": [
    "from typing import Any\n",
    "from pydantic import BaseModel, Field\n",
    "from pydantic.config import ConfigDict\n",
    "from humbldata.core.standard_models.abstract.query_params import QueryParams\n",
    "\n",
    "from humbldata.core.standard_models.toolbox.technical.mandelbrot_channel import (\n",
    "    MandelbrotChannelQueryParams,\n",
    ")\n",
    "\n",
    "\n",
    "def extract_subclass_dict(self, attribute_name: str, items: list):\n",
    "    \"\"\"\n",
    "    Extract the dictionary representation of the specified attribute.\n",
    "\n",
    "    Parameters\n",
    "    ----------\n",
    "    attribute_name : str\n",
    "        The name of the attribute to update in the items list.\n",
    "    \"\"\"\n",
    "    # Check if the attribute exists and has a value\n",
    "    attribute_value = getattr(self, attribute_name, None)\n",
    "    if attribute_value:\n",
    "        # Assuming the attribute has a method called 'model_dump' to get its dictionary representation\n",
    "        add_item = attribute_value.model_dump()\n",
    "        add_item_str = str(add_item)\n",
    "        if len(add_item_str) > 83:\n",
    "            add_item_str = add_item_str[:83] + \"...\"\n",
    "        for i, item in enumerate(items):\n",
    "            if item.startswith(f\"{attribute_name}:\"):\n",
    "                items[i] = f\"{attribute_name}: {add_item_str}\"\n",
    "                break\n",
    "\n",
    "    return items\n",
    "\n",
    "\n",
    "class YourModel(BaseModel):\n",
    "    model_config = ConfigDict(arbitrary_types_allowed=True)\n",
    "    command_params: QueryParams | None = Field(\n",
    "        default_factory=QueryParams,\n",
    "    )\n",
    "\n",
    "    def __repr__(self) -> str:\n",
    "        \"\"\"Human readable representation of the object.\"\"\"\n",
    "        items = [\n",
    "            f\"{k}: {v}\"[:83] + (\"...\" if len(f\"{k}: {v}\") > 83 else \"\")\n",
    "            for k, v in self.model_dump().items()\n",
    "        ]\n",
    "\n",
    "        items = extract_subclass_dict(self, \"command_params\", items)\n",
    "\n",
    "        return f\"{self.__class__.__name__}\\n\\n\" + \"\\n\".join(items)\n",
    "\n",
    "\n",
    "params = MandelbrotChannelQueryParams(window=\"2m\")\n",
    "YourModel(command_params=params)"
   ]
  },
  {
   "cell_type": "code",
   "execution_count": null,
   "metadata": {},
   "outputs": [
    {
     "data": {
      "text/plain": [
       "YourModel\n",
       "\n",
       "command_params: {'test': 'test'}"
      ]
     },
     "execution_count": 60,
     "metadata": {},
     "output_type": "execute_result"
    }
   ],
   "source": [
    "from pydantic import BaseModel, Field\n",
    "from pydantic.config import ConfigDict\n",
    "\n",
    "\n",
    "class QueryParams(BaseModel):\n",
    "    pass\n",
    "\n",
    "\n",
    "class subQueryParams(QueryParams):\n",
    "    test: str = \"test\"\n",
    "\n",
    "\n",
    "class YourModel(BaseModel):\n",
    "    model_config = ConfigDict(arbitrary_types_allowed=True)\n",
    "    command_params: QueryParams = Field()\n",
    "\n",
    "    def __repr__(self) -> str:\n",
    "        \"\"\"Human readable representation of the object.\"\"\"\n",
    "        items = [\n",
    "            f\"{k}: {v}\"[:83] + (\"...\" if len(f\"{k}: {v}\") > 83 else \"\")\n",
    "            for k, v in self.model_dump().items()\n",
    "        ]\n",
    "\n",
    "        # Needed to extract subclass items\n",
    "        if self.command_params:\n",
    "            add_item = self.command_params.model_dump()\n",
    "        for i, item in enumerate(items):\n",
    "            if item.startswith('command_params:'):\n",
    "                items[i] = f'command_params: {add_item}'\n",
    "                break  # Assuming only one item with 'command_params:', stop after updating\n",
    "\n",
    "\n",
    "        return f\"{self.__class__.__name__}\\n\\n\" + \"\\n\".join(items)\n",
    "\n",
    "\n",
    "YourModel(command_params=subQueryParams())"
   ]
  }
 ],
 "metadata": {
  "kernelspec": {
   "display_name": "Python 3",
   "language": "python",
   "name": "python3"
  },
  "language_info": {
   "codemirror_mode": {
    "name": "ipython",
    "version": 3
   },
   "file_extension": ".py",
   "mimetype": "text/x-python",
   "name": "python",
   "nbconvert_exporter": "python",
   "pygments_lexer": "ipython3",
   "version": "3.11.7"
  }
 },
 "nbformat": 4,
 "nbformat_minor": 2
}
