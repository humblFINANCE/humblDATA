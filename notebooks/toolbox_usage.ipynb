{
 "cells": [
  {
   "cell_type": "markdown",
   "metadata": {},
   "source": [
    "## Initiate the Toolbox\n",
    "- the parameters set here will be used to collect command-specific data when the `Fetcher` executes the TET pattern."
   ]
  },
  {
   "cell_type": "code",
   "execution_count": 13,
   "metadata": {},
   "outputs": [
    {
     "name": "stdout",
     "output_type": "stream",
     "text": [
      "The autoreload extension is already loaded. To reload it, use:\n",
      "  %reload_ext autoreload\n"
     ]
    },
    {
     "data": {
      "text/plain": [
       "Toolbox(symbol=['AMD', 'AAPL'], interval=1d, start_date=2000-01-01, end_date=2021-02-20, provider=yfinance)"
      ]
     },
     "execution_count": 13,
     "metadata": {},
     "output_type": "execute_result"
    }
   ],
   "source": [
    "%load_ext autoreload\n",
    "%autoreload 2\n",
    "\n",
    "from humbldata.toolbox.toolbox_controller import Toolbox\n",
    "\n",
    "toolbox = Toolbox(\n",
    "    symbol=[\"AMD\", \"AAPL\"],\n",
    "    interval=\"1d\",\n",
    "    start_date=\"2000-01-01\",\n",
    "    end_date=\"2021-02-20\",\n",
    ")\n",
    "toolbox"
   ]
  },
  {
   "cell_type": "code",
   "execution_count": 16,
   "metadata": {},
   "outputs": [],
   "source": [
    "result = toolbox.technical.mandelbrot_channel(historical=True, window=\"1m\")\n",
    "\n"
   ]
  },
  {
   "cell_type": "code",
   "execution_count": 17,
   "metadata": {},
   "outputs": [
    {
     "data": {
      "text/html": [
       "<div><style>\n",
       ".dataframe > thead > tr,\n",
       ".dataframe > tbody > tr {\n",
       "  text-align: right;\n",
       "  white-space: pre-wrap;\n",
       "}\n",
       "</style>\n",
       "<small>shape: (10_594, 5)</small><table border=\"1\" class=\"dataframe\"><thead><tr><th>date</th><th>symbol</th><th>bottom_price</th><th>close_price</th><th>top_price</th></tr><tr><td>date</td><td>str</td><td>f64</td><td>f64</td><td>f64</td></tr></thead><tbody><tr><td>2000-02-01</td><td>&quot;AAPL&quot;</td><td>0.6893</td><td>0.757782</td><td>0.7855</td></tr><tr><td>2000-02-02</td><td>&quot;AAPL&quot;</td><td>0.6916</td><td>0.746916</td><td>0.7713</td></tr><tr><td>2000-02-03</td><td>&quot;AAPL&quot;</td><td>0.6936</td><td>0.780931</td><td>0.8033</td></tr><tr><td>2000-02-04</td><td>&quot;AAPL&quot;</td><td>0.7224</td><td>0.816364</td><td>0.8568</td></tr><tr><td>2000-02-07</td><td>&quot;AAPL&quot;</td><td>0.7665</td><td>0.862189</td><td>0.9105</td></tr><tr><td>&hellip;</td><td>&hellip;</td><td>&hellip;</td><td>&hellip;</td><td>&hellip;</td></tr><tr><td>2021-02-12</td><td>&quot;AMD&quot;</td><td>86.4153</td><td>93.769997</td><td>93.7729</td></tr><tr><td>2021-02-16</td><td>&quot;AMD&quot;</td><td>88.22</td><td>91.459999</td><td>95.7172</td></tr><tr><td>2021-02-17</td><td>&quot;AMD&quot;</td><td>87.1761</td><td>89.940002</td><td>94.7214</td></tr><tr><td>2021-02-18</td><td>&quot;AMD&quot;</td><td>86.3387</td><td>88.639999</td><td>93.7282</td></tr><tr><td>2021-02-19</td><td>&quot;AMD&quot;</td><td>86.3377</td><td>89.580002</td><td>93.761</td></tr></tbody></table></div>"
      ],
      "text/plain": [
       "shape: (10_594, 5)\n",
       "┌────────────┬────────┬──────────────┬─────────────┬───────────┐\n",
       "│ date       ┆ symbol ┆ bottom_price ┆ close_price ┆ top_price │\n",
       "│ ---        ┆ ---    ┆ ---          ┆ ---         ┆ ---       │\n",
       "│ date       ┆ str    ┆ f64          ┆ f64         ┆ f64       │\n",
       "╞════════════╪════════╪══════════════╪═════════════╪═══════════╡\n",
       "│ 2000-02-01 ┆ AAPL   ┆ 0.6893       ┆ 0.757782    ┆ 0.7855    │\n",
       "│ 2000-02-02 ┆ AAPL   ┆ 0.6916       ┆ 0.746916    ┆ 0.7713    │\n",
       "│ 2000-02-03 ┆ AAPL   ┆ 0.6936       ┆ 0.780931    ┆ 0.8033    │\n",
       "│ 2000-02-04 ┆ AAPL   ┆ 0.7224       ┆ 0.816364    ┆ 0.8568    │\n",
       "│ 2000-02-07 ┆ AAPL   ┆ 0.7665       ┆ 0.862189    ┆ 0.9105    │\n",
       "│ …          ┆ …      ┆ …            ┆ …           ┆ …         │\n",
       "│ 2021-02-12 ┆ AMD    ┆ 86.4153      ┆ 93.769997   ┆ 93.7729   │\n",
       "│ 2021-02-16 ┆ AMD    ┆ 88.22        ┆ 91.459999   ┆ 95.7172   │\n",
       "│ 2021-02-17 ┆ AMD    ┆ 87.1761      ┆ 89.940002   ┆ 94.7214   │\n",
       "│ 2021-02-18 ┆ AMD    ┆ 86.3387      ┆ 88.639999   ┆ 93.7282   │\n",
       "│ 2021-02-19 ┆ AMD    ┆ 86.3377      ┆ 89.580002   ┆ 93.761    │\n",
       "└────────────┴────────┴──────────────┴─────────────┴───────────┘"
      ]
     },
     "execution_count": 17,
     "metadata": {},
     "output_type": "execute_result"
    }
   ],
   "source": [
    "result.to_polars()"
   ]
  },
  {
   "cell_type": "code",
   "execution_count": null,
   "metadata": {},
   "outputs": [],
   "source": [
    "%load_ext line_profiler\n",
    "\n",
    "%lprun -T lprof0 -f toolbox.technical.mandelbrot_channel toolbox.technical.mandelbrot_channel(historical=True, window=\"1m\")\n"
   ]
  }
 ],
 "metadata": {
  "kernelspec": {
   "display_name": "Python 3",
   "language": "python",
   "name": "python3"
  },
  "language_info": {
   "codemirror_mode": {
    "name": "ipython",
    "version": 3
   },
   "file_extension": ".py",
   "mimetype": "text/x-python",
   "name": "python",
   "nbconvert_exporter": "python",
   "pygments_lexer": "ipython3",
   "version": "3.11.7"
  }
 },
 "nbformat": 4,
 "nbformat_minor": 2
}
