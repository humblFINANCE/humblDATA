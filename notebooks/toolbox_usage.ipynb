{
 "cells": [
  {
   "cell_type": "code",
   "execution_count": 13,
   "metadata": {},
   "outputs": [
    {
     "name": "stdout",
     "output_type": "stream",
     "text": [
      "The autoreload extension is already loaded. To reload it, use:\n",
      "  %reload_ext autoreload\n"
     ]
    }
   ],
   "source": [
    "%load_ext autoreload\n",
    "%autoreload 2\n",
    "\n",
    "from humbldata.toolbox.toolbox_controller import Toolbox\n",
    "\n",
    "toolbox = Toolbox(\n",
    "    symbol=\"AAPl,msft\",\n",
    "    interval=\"1d\",\n",
    "    start_date=\"2021-01-01\",\n",
    "    end_date=\"2021-01-01\"\n",
    ")\n",
    "\n"
   ]
  },
  {
   "cell_type": "code",
   "execution_count": 14,
   "metadata": {},
   "outputs": [
    {
     "data": {
      "text/plain": [
       "Toolbox(symbol=AAPL,MSFT, interval=1d, start_date=2021-01-01, end_date=2021-01-01, provider=yfinance)"
      ]
     },
     "execution_count": 14,
     "metadata": {},
     "output_type": "execute_result"
    }
   ],
   "source": [
    "toolbox"
   ]
  },
  {
   "cell_type": "code",
   "execution_count": 20,
   "metadata": {},
   "outputs": [],
   "source": [
    "result = toolbox.technical.mandelbrot_channel()"
   ]
  },
  {
   "cell_type": "code",
   "execution_count": 21,
   "metadata": {},
   "outputs": [
    {
     "data": {
      "text/html": [
       "<div><style>\n",
       ".dataframe > thead > tr,\n",
       ".dataframe > tbody > tr {\n",
       "  text-align: right;\n",
       "  white-space: pre-wrap;\n",
       "}\n",
       "</style>\n",
       "<small>shape: (1_610, 9)</small><table border=\"1\" class=\"dataframe\"><thead><tr><th>date</th><th>open</th><th>high</th><th>low</th><th>close</th><th>volume</th><th>split_ratio</th><th>dividend</th><th>symbol</th></tr><tr><td>date</td><td>f64</td><td>f64</td><td>f64</td><td>f64</td><td>i64</td><td>f64</td><td>f64</td><td>str</td></tr></thead><tbody><tr><td>2021-01-04</td><td>133.520004</td><td>133.610001</td><td>126.760002</td><td>129.410004</td><td>143301900</td><td>0.0</td><td>0.0</td><td>&quot;AAPL&quot;</td></tr><tr><td>2021-01-04</td><td>222.529999</td><td>223.0</td><td>214.809998</td><td>217.690002</td><td>37130100</td><td>0.0</td><td>0.0</td><td>&quot;MSFT&quot;</td></tr><tr><td>2021-01-05</td><td>128.889999</td><td>131.740005</td><td>128.429993</td><td>131.009995</td><td>97664900</td><td>0.0</td><td>0.0</td><td>&quot;AAPL&quot;</td></tr><tr><td>2021-01-05</td><td>217.259995</td><td>218.520004</td><td>215.699997</td><td>217.899994</td><td>23823000</td><td>0.0</td><td>0.0</td><td>&quot;MSFT&quot;</td></tr><tr><td>2021-01-06</td><td>127.720001</td><td>131.050003</td><td>126.379997</td><td>126.599998</td><td>155088000</td><td>0.0</td><td>0.0</td><td>&quot;AAPL&quot;</td></tr><tr><td>&hellip;</td><td>&hellip;</td><td>&hellip;</td><td>&hellip;</td><td>&hellip;</td><td>&hellip;</td><td>&hellip;</td><td>&hellip;</td><td>&hellip;</td></tr><tr><td>2024-03-13</td><td>418.100006</td><td>418.179993</td><td>411.450012</td><td>415.100006</td><td>17115900</td><td>0.0</td><td>0.0</td><td>&quot;MSFT&quot;</td></tr><tr><td>2024-03-14</td><td>172.910004</td><td>174.309998</td><td>172.050003</td><td>173.0</td><td>72913500</td><td>0.0</td><td>0.0</td><td>&quot;AAPL&quot;</td></tr><tr><td>2024-03-14</td><td>420.23999</td><td>427.820007</td><td>417.98999</td><td>425.220001</td><td>34157300</td><td>0.0</td><td>0.0</td><td>&quot;MSFT&quot;</td></tr><tr><td>2024-03-15</td><td>171.169998</td><td>172.619995</td><td>170.289993</td><td>172.619995</td><td>121664700</td><td>0.0</td><td>0.0</td><td>&quot;AAPL&quot;</td></tr><tr><td>2024-03-15</td><td>419.290009</td><td>422.600006</td><td>412.790009</td><td>416.420013</td><td>45049800</td><td>0.0</td><td>0.0</td><td>&quot;MSFT&quot;</td></tr></tbody></table></div>"
      ],
      "text/plain": [
       "shape: (1_610, 9)\n",
       "┌────────────┬────────────┬────────────┬───────────┬───┬───────────┬───────────┬──────────┬────────┐\n",
       "│ date       ┆ open       ┆ high       ┆ low       ┆ … ┆ volume    ┆ split_rat ┆ dividend ┆ symbol │\n",
       "│ ---        ┆ ---        ┆ ---        ┆ ---       ┆   ┆ ---       ┆ io        ┆ ---      ┆ ---    │\n",
       "│ date       ┆ f64        ┆ f64        ┆ f64       ┆   ┆ i64       ┆ ---       ┆ f64      ┆ str    │\n",
       "│            ┆            ┆            ┆           ┆   ┆           ┆ f64       ┆          ┆        │\n",
       "╞════════════╪════════════╪════════════╪═══════════╪═══╪═══════════╪═══════════╪══════════╪════════╡\n",
       "│ 2021-01-04 ┆ 133.520004 ┆ 133.610001 ┆ 126.76000 ┆ … ┆ 143301900 ┆ 0.0       ┆ 0.0      ┆ AAPL   │\n",
       "│            ┆            ┆            ┆ 2         ┆   ┆           ┆           ┆          ┆        │\n",
       "│ 2021-01-04 ┆ 222.529999 ┆ 223.0      ┆ 214.80999 ┆ … ┆ 37130100  ┆ 0.0       ┆ 0.0      ┆ MSFT   │\n",
       "│            ┆            ┆            ┆ 8         ┆   ┆           ┆           ┆          ┆        │\n",
       "│ 2021-01-05 ┆ 128.889999 ┆ 131.740005 ┆ 128.42999 ┆ … ┆ 97664900  ┆ 0.0       ┆ 0.0      ┆ AAPL   │\n",
       "│            ┆            ┆            ┆ 3         ┆   ┆           ┆           ┆          ┆        │\n",
       "│ 2021-01-05 ┆ 217.259995 ┆ 218.520004 ┆ 215.69999 ┆ … ┆ 23823000  ┆ 0.0       ┆ 0.0      ┆ MSFT   │\n",
       "│            ┆            ┆            ┆ 7         ┆   ┆           ┆           ┆          ┆        │\n",
       "│ 2021-01-06 ┆ 127.720001 ┆ 131.050003 ┆ 126.37999 ┆ … ┆ 155088000 ┆ 0.0       ┆ 0.0      ┆ AAPL   │\n",
       "│            ┆            ┆            ┆ 7         ┆   ┆           ┆           ┆          ┆        │\n",
       "│ …          ┆ …          ┆ …          ┆ …         ┆ … ┆ …         ┆ …         ┆ …        ┆ …      │\n",
       "│ 2024-03-13 ┆ 418.100006 ┆ 418.179993 ┆ 411.45001 ┆ … ┆ 17115900  ┆ 0.0       ┆ 0.0      ┆ MSFT   │\n",
       "│            ┆            ┆            ┆ 2         ┆   ┆           ┆           ┆          ┆        │\n",
       "│ 2024-03-14 ┆ 172.910004 ┆ 174.309998 ┆ 172.05000 ┆ … ┆ 72913500  ┆ 0.0       ┆ 0.0      ┆ AAPL   │\n",
       "│            ┆            ┆            ┆ 3         ┆   ┆           ┆           ┆          ┆        │\n",
       "│ 2024-03-14 ┆ 420.23999  ┆ 427.820007 ┆ 417.98999 ┆ … ┆ 34157300  ┆ 0.0       ┆ 0.0      ┆ MSFT   │\n",
       "│ 2024-03-15 ┆ 171.169998 ┆ 172.619995 ┆ 170.28999 ┆ … ┆ 121664700 ┆ 0.0       ┆ 0.0      ┆ AAPL   │\n",
       "│            ┆            ┆            ┆ 3         ┆   ┆           ┆           ┆          ┆        │\n",
       "│ 2024-03-15 ┆ 419.290009 ┆ 422.600006 ┆ 412.79000 ┆ … ┆ 45049800  ┆ 0.0       ┆ 0.0      ┆ MSFT   │\n",
       "│            ┆            ┆            ┆ 9         ┆   ┆           ┆           ┆          ┆        │\n",
       "└────────────┴────────────┴────────────┴───────────┴───┴───────────┴───────────┴──────────┴────────┘"
      ]
     },
     "execution_count": 21,
     "metadata": {},
     "output_type": "execute_result"
    }
   ],
   "source": [
    "result"
   ]
  },
  {
   "cell_type": "markdown",
   "metadata": {},
   "source": [
    "## Test validation"
   ]
  },
  {
   "cell_type": "code",
   "execution_count": 12,
   "metadata": {},
   "outputs": [],
   "source": [
    "from openbb import obb\n",
    "\n",
    "context_params = toolbox\n",
    "\n",
    "equity_historical_data = (\n",
    "    obb.equity.price.historical(\n",
    "        symbol=\"AAPL,MSFT\",\n",
    "        start_date=context_params.start_date,\n",
    "        end_date=context_params.end_date,\n",
    "        provider=context_params.provider,\n",
    "    ).to_polars()\n",
    ").drop([\"dividends\", \"stock_splits\"])\n"
   ]
  },
  {
   "cell_type": "code",
   "execution_count": null,
   "metadata": {},
   "outputs": [],
   "source": [
    "print(equity_historical_data.dtypes)\n",
    "print(equity_historical_data.columns)\n"
   ]
  },
  {
   "cell_type": "code",
   "execution_count": null,
   "metadata": {},
   "outputs": [],
   "source": [
    "%load_ext autoreload\n",
    "%autoreload 2\n",
    "\n",
    "from humbldata.core.standard_models.toolbox import ToolboxData\n",
    "\n",
    "\n",
    "ToolboxData(equity_historical_data)\n",
    "\n"
   ]
  },
  {
   "cell_type": "markdown",
   "metadata": {},
   "source": [
    "## Reprex"
   ]
  },
  {
   "cell_type": "code",
   "execution_count": null,
   "metadata": {},
   "outputs": [],
   "source": [
    "from typing import Optional\n",
    "import pandera.polars as pa\n",
    "import polars as pl\n",
    "\n",
    "\n",
    "class ModelWithChecks(pa.DataFrameModel):\n",
    "    a: int\n",
    "    b: str\n",
    "    c: Optional[float]\n",
    "    date: pl.Date\n",
    "\n",
    "\n",
    "valid_lf = pl.LazyFrame(\n",
    "    {\n",
    "        \"a\": pl.Series([1, 2, 3], dtype=pl.Int64),\n",
    "        \"b\": [\"d\", \"e\", \"f\"],\n",
    "        # \"c\": [0.0, 0.6, 1],\n",
    "        \"date\": pl.date_range(\n",
    "            start=datetime.date(2021, 1, 1),\n",
    "            end=datetime.date(2021, 1, 3),\n",
    "            eager=True,\n",
    "        ),\n",
    "    }\n",
    ")\n",
    "\n",
    "\n",
    "ModelWithChecks.validate(valid_lf, lazy=True).collect()\n"
   ]
  },
  {
   "cell_type": "code",
   "execution_count": null,
   "metadata": {},
   "outputs": [],
   "source": []
  }
 ],
 "metadata": {
  "kernelspec": {
   "display_name": "Python 3",
   "language": "python",
   "name": "python3"
  },
  "language_info": {
   "codemirror_mode": {
    "name": "ipython",
    "version": 3
   },
   "file_extension": ".py",
   "mimetype": "text/x-python",
   "name": "python",
   "nbconvert_exporter": "python",
   "pygments_lexer": "ipython3",
   "version": "3.11.7"
  }
 },
 "nbformat": 4,
 "nbformat_minor": 2
}
