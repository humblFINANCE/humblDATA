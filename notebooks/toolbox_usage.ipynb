{
 "cells": [
  {
   "cell_type": "markdown",
   "metadata": {},
   "source": [
    "## Initiate the Toolbox\n",
    "- the parameters set here will be used to collect command-specific data when the `Fetcher` executes the TET pattern."
   ]
  },
  {
   "cell_type": "code",
   "execution_count": 50,
   "metadata": {},
   "outputs": [
    {
     "name": "stdout",
     "output_type": "stream",
     "text": [
      "The autoreload extension is already loaded. To reload it, use:\n",
      "  %reload_ext autoreload\n"
     ]
    },
    {
     "data": {
      "text/plain": [
       "Toolbox(symbol=['AMD', 'AAPL'], interval=1d, start_date=2021-01-01, end_date=2021-02-20, provider=yfinance)"
      ]
     },
     "execution_count": 50,
     "metadata": {},
     "output_type": "execute_result"
    }
   ],
   "source": [
    "%load_ext autoreload\n",
    "%autoreload 2\n",
    "\n",
    "from humbldata.toolbox.toolbox_controller import Toolbox\n",
    "\n",
    "toolbox = Toolbox(\n",
    "    symbol=[\"AMD\", \"AAPL\"],\n",
    "    interval=\"1d\",\n",
    "    start_date=\"2021-01-01\",\n",
    "    end_date=\"2021-02-20\",\n",
    ")\n",
    "toolbox"
   ]
  },
  {
   "cell_type": "code",
   "execution_count": 48,
   "metadata": {},
   "outputs": [],
   "source": [
    "result = toolbox.technical.mandelbrot_channel(historical=True, window=\"1m\")\n",
    "\n"
   ]
  },
  {
   "cell_type": "code",
   "execution_count": 49,
   "metadata": {},
   "outputs": [
    {
     "data": {
      "text/html": [
       "<div><style>\n",
       ".dataframe > thead > tr,\n",
       ".dataframe > tbody > tr {\n",
       "  text-align: right;\n",
       "  white-space: pre-wrap;\n",
       "}\n",
       "</style>\n",
       "<small>shape: (26, 5)</small><table border=\"1\" class=\"dataframe\"><thead><tr><th>date</th><th>symbol</th><th>bottom_price</th><th>close_price</th><th>top_price</th></tr><tr><td>date</td><td>str</td><td>f64</td><td>f64</td><td>f64</td></tr></thead><tbody><tr><td>2021-02-02</td><td>&quot;AAPL&quot;</td><td>128.6802</td><td>132.478302</td><td>139.6979</td></tr><tr><td>2021-02-03</td><td>&quot;AAPL&quot;</td><td>128.3843</td><td>131.4478</td><td>138.6624</td></tr><tr><td>2021-02-04</td><td>&quot;AAPL&quot;</td><td>130.187</td><td>134.833618</td><td>141.5784</td></tr><tr><td>2021-02-05</td><td>&quot;AAPL&quot;</td><td>130.9763</td><td>134.415894</td><td>138.9437</td></tr><tr><td>2021-02-08</td><td>&quot;AAPL&quot;</td><td>131.6647</td><td>134.563339</td><td>138.2578</td></tr><tr><td>&hellip;</td><td>&hellip;</td><td>&hellip;</td><td>&hellip;</td><td>&hellip;</td></tr><tr><td>2021-02-12</td><td>&quot;AMD&quot;</td><td>85.9593</td><td>93.769997</td><td>93.7731</td></tr><tr><td>2021-02-16</td><td>&quot;AMD&quot;</td><td>75.9576</td><td>91.459999</td><td>111.8297</td></tr><tr><td>2021-02-17</td><td>&quot;AMD&quot;</td><td>78.0851</td><td>89.940002</td><td>110.4481</td></tr><tr><td>2021-02-18</td><td>&quot;AMD&quot;</td><td>79.0743</td><td>88.639999</td><td>109.7897</td></tr><tr><td>2021-02-19</td><td>&quot;AMD&quot;</td><td>75.789</td><td>89.580002</td><td>107.3635</td></tr></tbody></table></div>"
      ],
      "text/plain": [
       "shape: (26, 5)\n",
       "┌────────────┬────────┬──────────────┬─────────────┬───────────┐\n",
       "│ date       ┆ symbol ┆ bottom_price ┆ close_price ┆ top_price │\n",
       "│ ---        ┆ ---    ┆ ---          ┆ ---         ┆ ---       │\n",
       "│ date       ┆ str    ┆ f64          ┆ f64         ┆ f64       │\n",
       "╞════════════╪════════╪══════════════╪═════════════╪═══════════╡\n",
       "│ 2021-02-02 ┆ AAPL   ┆ 128.6802     ┆ 132.478302  ┆ 139.6979  │\n",
       "│ 2021-02-03 ┆ AAPL   ┆ 128.3843     ┆ 131.4478    ┆ 138.6624  │\n",
       "│ 2021-02-04 ┆ AAPL   ┆ 130.187      ┆ 134.833618  ┆ 141.5784  │\n",
       "│ 2021-02-05 ┆ AAPL   ┆ 130.9763     ┆ 134.415894  ┆ 138.9437  │\n",
       "│ 2021-02-08 ┆ AAPL   ┆ 131.6647     ┆ 134.563339  ┆ 138.2578  │\n",
       "│ …          ┆ …      ┆ …            ┆ …           ┆ …         │\n",
       "│ 2021-02-12 ┆ AMD    ┆ 85.9593      ┆ 93.769997   ┆ 93.7731   │\n",
       "│ 2021-02-16 ┆ AMD    ┆ 75.9576      ┆ 91.459999   ┆ 111.8297  │\n",
       "│ 2021-02-17 ┆ AMD    ┆ 78.0851      ┆ 89.940002   ┆ 110.4481  │\n",
       "│ 2021-02-18 ┆ AMD    ┆ 79.0743      ┆ 88.639999   ┆ 109.7897  │\n",
       "│ 2021-02-19 ┆ AMD    ┆ 75.789       ┆ 89.580002   ┆ 107.3635  │\n",
       "└────────────┴────────┴──────────────┴─────────────┴───────────┘"
      ]
     },
     "execution_count": 49,
     "metadata": {},
     "output_type": "execute_result"
    }
   ],
   "source": [
    "result.to_polars()\n",
    "\n"
   ]
  }
 ],
 "metadata": {
  "kernelspec": {
   "display_name": "Python 3",
   "language": "python",
   "name": "python3"
  },
  "language_info": {
   "codemirror_mode": {
    "name": "ipython",
    "version": 3
   },
   "file_extension": ".py",
   "mimetype": "text/x-python",
   "name": "python",
   "nbconvert_exporter": "python",
   "pygments_lexer": "ipython3",
   "version": "3.11.7"
  }
 },
 "nbformat": 4,
 "nbformat_minor": 2
}
