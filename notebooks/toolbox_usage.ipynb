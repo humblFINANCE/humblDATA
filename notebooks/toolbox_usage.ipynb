{
 "cells": [
  {
   "cell_type": "markdown",
   "metadata": {},
   "source": [
    "## Initiate the Toolbox\n",
    "- the parameters set here will be used to collect command-specific data when the `Fetcher` executes the TET pattern."
   ]
  },
  {
   "cell_type": "code",
   "execution_count": 16,
   "metadata": {},
   "outputs": [
    {
     "name": "stdout",
     "output_type": "stream",
     "text": [
      "The autoreload extension is already loaded. To reload it, use:\n",
      "  %reload_ext autoreload\n"
     ]
    },
    {
     "data": {
      "text/plain": [
       "Toolbox(symbol=['AMD', 'AAPL', 'NVDA', 'SMCI', 'GME'], interval=1d, start_date=2000-01-01, end_date=2021-02-20, provider=yfinance)"
      ]
     },
     "execution_count": 16,
     "metadata": {},
     "output_type": "execute_result"
    }
   ],
   "source": [
    "%load_ext autoreload\n",
    "%autoreload 2\n",
    "\n",
    "from humbldata.toolbox.toolbox_controller import Toolbox\n",
    "\n",
    "toolbox = Toolbox(\n",
    "    symbol=[\"AMD\", \"AAPL\", \"NVDA\", \"SMCI\", \"GME\"],\n",
    "    interval=\"1d\",\n",
    "    start_date=\"2000-01-01\",\n",
    "    end_date=\"2021-02-20\",\n",
    ")\n",
    "toolbox"
   ]
  },
  {
   "cell_type": "code",
   "execution_count": 17,
   "metadata": {},
   "outputs": [
    {
     "data": {
      "text/plain": [
       "Toolbox(symbol=['AMD', 'AAPL', 'NVDA', 'SMCI', 'GME'], interval=1d, start_date=2000-01-01, end_date=2021-02-20, provider=yfinance)"
      ]
     },
     "execution_count": 17,
     "metadata": {},
     "output_type": "execute_result"
    }
   ],
   "source": [
    "toolbox"
   ]
  },
  {
   "cell_type": "code",
   "execution_count": 18,
   "metadata": {},
   "outputs": [],
   "source": [
    "result = toolbox.technical.mandelbrot_channel(historical=False, window=\"1m\")\n",
    "\n"
   ]
  },
  {
   "cell_type": "code",
   "execution_count": 19,
   "metadata": {},
   "outputs": [
    {
     "data": {
      "text/plain": [
       "HumblObject\n",
       "\n",
       "id: 066703f7-d322-7834-8000-a4830a42871e\n",
       "results: {\"IR\":{\"version\":14623,\"dsl\":{\"Select\":{\"expr\":[{\"Column\":\"date\"},{\"Column...\n",
       "equity_data: {\"IR\":{\"version\":14117,\"dsl\":{\"MapFunction\":{\"input\":{\"DataFrameScan\":...\n",
       "provider: yfinance\n",
       "warnings: None\n",
       "chart: None\n",
       "extra: {}\n",
       "context_params: {'symbol': ['AMD', 'AAPL', 'NVDA', 'SMCI', 'GME'], 'interval': '1d'...\n",
       "command_params: {'window': '1mo', 'rv_adjustment': True, 'rv_method': 'std', 'rs_me..."
      ]
     },
     "execution_count": 19,
     "metadata": {},
     "output_type": "execute_result"
    }
   ],
   "source": [
    "result"
   ]
  },
  {
   "cell_type": "code",
   "execution_count": 20,
   "metadata": {},
   "outputs": [
    {
     "data": {
      "text/html": [
       "<div><style>\n",
       ".dataframe > thead > tr,\n",
       ".dataframe > tbody > tr {\n",
       "  text-align: right;\n",
       "  white-space: pre-wrap;\n",
       "}\n",
       "</style>\n",
       "<small>shape: (5, 5)</small><table border=\"1\" class=\"dataframe\"><thead><tr><th>date</th><th>symbol</th><th>bottom_price</th><th>recent_price</th><th>top_price</th></tr><tr><td>date</td><td>str</td><td>f64</td><td>f64</td><td>f64</td></tr></thead><tbody><tr><td>2021-02-19</td><td>&quot;AAPL&quot;</td><td>127.5741</td><td>127.643982</td><td>144.8156</td></tr><tr><td>2021-02-19</td><td>&quot;AMD&quot;</td><td>84.379</td><td>89.580002</td><td>96.2867</td></tr><tr><td>2021-02-19</td><td>&quot;GME&quot;</td><td>10.1433</td><td>10.1475</td><td>11.3692</td></tr><tr><td>2021-02-19</td><td>&quot;NVDA&quot;</td><td>14.239</td><td>14.891011</td><td>15.5453</td></tr><tr><td>2021-02-19</td><td>&quot;SMCI&quot;</td><td>30.4431</td><td>31.68</td><td>34.0473</td></tr></tbody></table></div>"
      ],
      "text/plain": [
       "shape: (5, 5)\n",
       "┌────────────┬────────┬──────────────┬──────────────┬───────────┐\n",
       "│ date       ┆ symbol ┆ bottom_price ┆ recent_price ┆ top_price │\n",
       "│ ---        ┆ ---    ┆ ---          ┆ ---          ┆ ---       │\n",
       "│ date       ┆ str    ┆ f64          ┆ f64          ┆ f64       │\n",
       "╞════════════╪════════╪══════════════╪══════════════╪═══════════╡\n",
       "│ 2021-02-19 ┆ AAPL   ┆ 127.5741     ┆ 127.643982   ┆ 144.8156  │\n",
       "│ 2021-02-19 ┆ AMD    ┆ 84.379       ┆ 89.580002    ┆ 96.2867   │\n",
       "│ 2021-02-19 ┆ GME    ┆ 10.1433      ┆ 10.1475      ┆ 11.3692   │\n",
       "│ 2021-02-19 ┆ NVDA   ┆ 14.239       ┆ 14.891011    ┆ 15.5453   │\n",
       "│ 2021-02-19 ┆ SMCI   ┆ 30.4431      ┆ 31.68        ┆ 34.0473   │\n",
       "└────────────┴────────┴──────────────┴──────────────┴───────────┘"
      ]
     },
     "execution_count": 20,
     "metadata": {},
     "output_type": "execute_result"
    }
   ],
   "source": [
    "result.to_polars()"
   ]
  },
  {
   "cell_type": "code",
   "execution_count": null,
   "metadata": {},
   "outputs": [],
   "source": []
  }
 ],
 "metadata": {
  "kernelspec": {
   "display_name": "Python 3",
   "language": "python",
   "name": "python3"
  },
  "language_info": {
   "codemirror_mode": {
    "name": "ipython",
    "version": 3
   },
   "file_extension": ".py",
   "mimetype": "text/x-python",
   "name": "python",
   "nbconvert_exporter": "python",
   "pygments_lexer": "ipython3",
   "version": "3.11.9"
  }
 },
 "nbformat": 4,
 "nbformat_minor": 2
}
