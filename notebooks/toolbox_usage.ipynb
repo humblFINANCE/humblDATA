{
 "cells": [
  {
   "cell_type": "markdown",
   "metadata": {},
   "source": [
    "## Initiate the Toolbox\n",
    "- the parameters set here will be used to collect command-specific data when the `Fetcher` executes the TET pattern."
   ]
  },
  {
   "cell_type": "code",
   "execution_count": 19,
   "metadata": {},
   "outputs": [
    {
     "name": "stdout",
     "output_type": "stream",
     "text": [
      "The autoreload extension is already loaded. To reload it, use:\n",
      "  %reload_ext autoreload\n"
     ]
    }
   ],
   "source": [
    "%load_ext autoreload\n",
    "%autoreload 2\n",
    "\n",
    "from humbldata.toolbox.toolbox_controller import Toolbox\n",
    "\n",
    "toolbox = Toolbox(\n",
    "    symbol=[\"AMD\"],\n",
    "    interval=\"1d\",\n",
    "    start_date=\"2021-01-01\",\n",
    "    end_date=\"2021-01-01\",\n",
    ")\n",
    "\n"
   ]
  },
  {
   "cell_type": "code",
   "execution_count": 20,
   "metadata": {},
   "outputs": [],
   "source": [
    "result = toolbox.technical.mandelbrot_channel(window=\"1m\")"
   ]
  },
  {
   "cell_type": "code",
   "execution_count": 22,
   "metadata": {},
   "outputs": [
    {
     "data": {
      "text/html": [
       "<div><style>\n",
       ".dataframe > thead > tr,\n",
       ".dataframe > tbody > tr {\n",
       "  text-align: right;\n",
       "  white-space: pre-wrap;\n",
       "}\n",
       "</style>\n",
       "<small>shape: (1, 5)</small><table border=\"1\" class=\"dataframe\"><thead><tr><th>date</th><th>symbol</th><th>bottom_price</th><th>recent_price</th><th>top_price</th></tr><tr><td>date</td><td>str</td><td>f64</td><td>f64</td><td>f64</td></tr></thead><tbody><tr><td>2024-03-19</td><td>&quot;AMD&quot;</td><td>175.318</td><td>181.419998</td><td>198.4062</td></tr></tbody></table></div>"
      ],
      "text/plain": [
       "shape: (1, 5)\n",
       "┌────────────┬────────┬──────────────┬──────────────┬───────────┐\n",
       "│ date       ┆ symbol ┆ bottom_price ┆ recent_price ┆ top_price │\n",
       "│ ---        ┆ ---    ┆ ---          ┆ ---          ┆ ---       │\n",
       "│ date       ┆ str    ┆ f64          ┆ f64          ┆ f64       │\n",
       "╞════════════╪════════╪══════════════╪══════════════╪═══════════╡\n",
       "│ 2024-03-19 ┆ AMD    ┆ 175.318      ┆ 181.419998   ┆ 198.4062  │\n",
       "└────────────┴────────┴──────────────┴──────────────┴───────────┘"
      ]
     },
     "execution_count": 22,
     "metadata": {},
     "output_type": "execute_result"
    }
   ],
   "source": [
    "result.to_polars(raw_data=True)\n",
    "\n"
   ]
  },
  {
   "cell_type": "markdown",
   "metadata": {},
   "source": [
    "## Testing HumblObject Creation"
   ]
  },
  {
   "cell_type": "code",
   "execution_count": 23,
   "metadata": {},
   "outputs": [
    {
     "data": {
      "text/plain": [
       "YourModel\n",
       "\n",
       "command_params: {'window': '1mo', 'rv_adjustment': True, 'rv_method': 'std', 'rs_me..."
      ]
     },
     "execution_count": 23,
     "metadata": {},
     "output_type": "execute_result"
    }
   ],
   "source": [
    "from typing import Any\n",
    "from pydantic import BaseModel, Field\n",
    "from pydantic.config import ConfigDict\n",
    "from pydantic.functional_validators import field_validator\n",
    "\n",
    "from humbldata.core.standard_models.toolbox.technical.mandelbrot_channel import MandelbrotChannelQueryParams\n",
    "\n",
    "\n",
    "class YourModel(BaseModel):\n",
    "    model_config = ConfigDict(arbitrary_types_allowed=True)\n",
    "    command_params: Any = Field()\n",
    "\n",
    "    @field_validator(\"command_params\")\n",
    "    def validate_command_params(cls, v):\n",
    "        class_name = v.__class__.__name__\n",
    "        if \"QueryParams\" in class_name:\n",
    "            return v\n",
    "        raise TypeError(\"Wrong type for 'some_foo', must be subclass of Foo\")\n",
    "\n",
    "    def __repr__(self) -> str:\n",
    "        \"\"\"Human readable representation of the object.\"\"\"\n",
    "        items = [\n",
    "            f\"{k}: {v}\"[:83] + (\"...\" if len(f\"{k}: {v}\") > 83 else \"\")\n",
    "            for k, v in self.model_dump().items()\n",
    "        ]\n",
    "        return f\"{self.__class__.__name__}\\n\\n\" + \"\\n\".join(items)\n",
    "\n",
    "YourModel(command_params=MandelbrotChannelQueryParams())\n"
   ]
  },
  {
   "cell_type": "code",
   "execution_count": 10,
   "metadata": {},
   "outputs": [
    {
     "data": {
      "text/plain": [
       "YourModel\n",
       "\n",
       "command_params: {'window': '2mo', 'rv_adjustment': True, 'rv_method': 'std', 'rs_method': 'RS', 'rv..."
      ]
     },
     "execution_count": 10,
     "metadata": {},
     "output_type": "execute_result"
    }
   ],
   "source": [
    "from typing import Any\n",
    "from pydantic import BaseModel, Field\n",
    "from pydantic.config import ConfigDict\n",
    "from humbldata.core.standard_models.abstract.query_params import QueryParams\n",
    "\n",
    "from humbldata.core.standard_models.toolbox.technical.mandelbrot_channel import (\n",
    "    MandelbrotChannelQueryParams,\n",
    ")\n",
    "\n",
    "\n",
    "def extract_subclass_dict(self, attribute_name: str, items: list):\n",
    "    \"\"\"\n",
    "    Extract the dictionary representation of the specified attribute.\n",
    "\n",
    "    Parameters\n",
    "    ----------\n",
    "    attribute_name : str\n",
    "        The name of the attribute to update in the items list.\n",
    "    \"\"\"\n",
    "    # Check if the attribute exists and has a value\n",
    "    attribute_value = getattr(self, attribute_name, None)\n",
    "    if attribute_value:\n",
    "        # Assuming the attribute has a method called 'model_dump' to get its dictionary representation\n",
    "        add_item = attribute_value.model_dump()\n",
    "        add_item_str = str(add_item)\n",
    "        if len(add_item_str) > 83:\n",
    "            add_item_str = add_item_str[:83] + \"...\"\n",
    "        for i, item in enumerate(items):\n",
    "            if item.startswith(f\"{attribute_name}:\"):\n",
    "                items[i] = f\"{attribute_name}: {add_item_str}\"\n",
    "                break\n",
    "\n",
    "    return items\n",
    "\n",
    "\n",
    "class YourModel(BaseModel):\n",
    "    model_config = ConfigDict(arbitrary_types_allowed=True)\n",
    "    command_params: QueryParams | None = Field(\n",
    "        default_factory=QueryParams,\n",
    "    )\n",
    "\n",
    "    def __repr__(self) -> str:\n",
    "        \"\"\"Human readable representation of the object.\"\"\"\n",
    "        items = [\n",
    "            f\"{k}: {v}\"[:83] + (\"...\" if len(f\"{k}: {v}\") > 83 else \"\")\n",
    "            for k, v in self.model_dump().items()\n",
    "        ]\n",
    "\n",
    "        items = extract_subclass_dict(self, \"command_params\", items)\n",
    "\n",
    "        return f\"{self.__class__.__name__}\\n\\n\" + \"\\n\".join(items)\n",
    "\n",
    "\n",
    "params = MandelbrotChannelQueryParams(window=\"2m\")\n",
    "YourModel(command_params=params)"
   ]
  },
  {
   "cell_type": "code",
   "execution_count": null,
   "metadata": {},
   "outputs": [
    {
     "data": {
      "text/plain": [
       "YourModel\n",
       "\n",
       "command_params: {'test': 'test'}"
      ]
     },
     "execution_count": 60,
     "metadata": {},
     "output_type": "execute_result"
    }
   ],
   "source": [
    "from pydantic import BaseModel, Field\n",
    "from pydantic.config import ConfigDict\n",
    "\n",
    "\n",
    "class QueryParams(BaseModel):\n",
    "    pass\n",
    "\n",
    "\n",
    "class subQueryParams(QueryParams):\n",
    "    test: str = \"test\"\n",
    "\n",
    "\n",
    "class YourModel(BaseModel):\n",
    "    model_config = ConfigDict(arbitrary_types_allowed=True)\n",
    "    command_params: QueryParams = Field()\n",
    "\n",
    "    def __repr__(self) -> str:\n",
    "        \"\"\"Human readable representation of the object.\"\"\"\n",
    "        items = [\n",
    "            f\"{k}: {v}\"[:83] + (\"...\" if len(f\"{k}: {v}\") > 83 else \"\")\n",
    "            for k, v in self.model_dump().items()\n",
    "        ]\n",
    "\n",
    "        # Needed to extract subclass items\n",
    "        if self.command_params:\n",
    "            add_item = self.command_params.model_dump()\n",
    "        for i, item in enumerate(items):\n",
    "            if item.startswith('command_params:'):\n",
    "                items[i] = f'command_params: {add_item}'\n",
    "                break  # Assuming only one item with 'command_params:', stop after updating\n",
    "\n",
    "\n",
    "        return f\"{self.__class__.__name__}\\n\\n\" + \"\\n\".join(items)\n",
    "\n",
    "\n",
    "YourModel(command_params=subQueryParams())"
   ]
  }
 ],
 "metadata": {
  "kernelspec": {
   "display_name": "Python 3",
   "language": "python",
   "name": "python3"
  },
  "language_info": {
   "codemirror_mode": {
    "name": "ipython",
    "version": 3
   },
   "file_extension": ".py",
   "mimetype": "text/x-python",
   "name": "python",
   "nbconvert_exporter": "python",
   "pygments_lexer": "ipython3",
   "version": "3.11.7"
  }
 },
 "nbformat": 4,
 "nbformat_minor": 2
}
