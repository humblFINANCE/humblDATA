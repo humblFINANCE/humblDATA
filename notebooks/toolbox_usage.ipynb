{
 "cells": [
  {
   "cell_type": "markdown",
   "metadata": {},
   "source": [
    "## Initiate the Toolbox\n",
    "- the parameters set here will be used to collect command-specific data when the `Fetcher` executes the TET pattern."
   ]
  },
  {
   "cell_type": "code",
   "execution_count": 9,
   "metadata": {},
   "outputs": [
    {
     "name": "stdout",
     "output_type": "stream",
     "text": [
      "The autoreload extension is already loaded. To reload it, use:\n",
      "  %reload_ext autoreload\n"
     ]
    }
   ],
   "source": [
    "%load_ext autoreload\n",
    "%autoreload 2\n",
    "\n",
    "from humbldata.toolbox.toolbox_controller import Toolbox\n",
    "\n",
    "toolbox = Toolbox(\n",
    "    symbol=[\"AMD\", \"AAPL\"],\n",
    "    interval=\"1d\",\n",
    "    start_date=\"2021-01-01\",\n",
    "    end_date=\"2022-01-01\",\n",
    ")\n",
    "\n"
   ]
  },
  {
   "cell_type": "code",
   "execution_count": 10,
   "metadata": {},
   "outputs": [
    {
     "data": {
      "text/plain": [
       "Toolbox(symbol=['AMD', 'AAPL'], interval=1d, start_date=2021-01-01, end_date=2022-01-01, provider=yfinance)"
      ]
     },
     "execution_count": 10,
     "metadata": {},
     "output_type": "execute_result"
    }
   ],
   "source": [
    "toolbox"
   ]
  },
  {
   "cell_type": "code",
   "execution_count": 11,
   "metadata": {},
   "outputs": [
    {
     "ename": "AttributeError",
     "evalue": "'DataFrame' object has no attribute 'serialize'",
     "output_type": "error",
     "traceback": [
      "\u001b[1;31m---------------------------------------------------------------------------\u001b[0m",
      "\u001b[1;31mAttributeError\u001b[0m                            Traceback (most recent call last)",
      "Cell \u001b[1;32mIn[11], line 1\u001b[0m\n\u001b[1;32m----> 1\u001b[0m result \u001b[38;5;241m=\u001b[39m \u001b[43mtoolbox\u001b[49m\u001b[38;5;241;43m.\u001b[39;49m\u001b[43mtechnical\u001b[49m\u001b[38;5;241;43m.\u001b[39;49m\u001b[43mmandelbrot_channel\u001b[49m\u001b[43m(\u001b[49m\u001b[43mhistorical\u001b[49m\u001b[38;5;241;43m=\u001b[39;49m\u001b[38;5;28;43;01mTrue\u001b[39;49;00m\u001b[43m,\u001b[49m\u001b[43m \u001b[49m\u001b[43mwindow\u001b[49m\u001b[38;5;241;43m=\u001b[39;49m\u001b[38;5;124;43m\"\u001b[39;49m\u001b[38;5;124;43m1m\u001b[39;49m\u001b[38;5;124;43m\"\u001b[39;49m\u001b[43m)\u001b[49m\n",
      "File \u001b[1;32m~\\github\\humblFINANCE-org\\humbldata\\src\\humbldata\\toolbox\\technical\\technical_controller.py:49\u001b[0m, in \u001b[0;36mTechnical.mandelbrot_channel\u001b[1;34m(self, **kwargs)\u001b[0m\n\u001b[0;32m     44\u001b[0m fetcher \u001b[38;5;241m=\u001b[39m MandelbrotChannelFetcher(\n\u001b[0;32m     45\u001b[0m     context_params\u001b[38;5;241m=\u001b[39m\u001b[38;5;28mself\u001b[39m\u001b[38;5;241m.\u001b[39mcontext_params, command_params\u001b[38;5;241m=\u001b[39mkwargs\n\u001b[0;32m     46\u001b[0m )\n\u001b[0;32m     48\u001b[0m \u001b[38;5;66;03m# Use the fetcher to get the data\u001b[39;00m\n\u001b[1;32m---> 49\u001b[0m \u001b[38;5;28;01mreturn\u001b[39;00m \u001b[43mfetcher\u001b[49m\u001b[38;5;241;43m.\u001b[39;49m\u001b[43mfetch_data\u001b[49m\u001b[43m(\u001b[49m\u001b[43m)\u001b[49m\n",
      "File \u001b[1;32m~\\github\\humblFINANCE-org\\humbldata\\src\\humbldata\\core\\standard_models\\toolbox\\technical\\mandelbrot_channel.py:348\u001b[0m, in \u001b[0;36mMandelbrotChannelFetcher.fetch_data\u001b[1;34m(self)\u001b[0m\n\u001b[0;32m    346\u001b[0m \u001b[38;5;28mself\u001b[39m\u001b[38;5;241m.\u001b[39mtransform_query()\n\u001b[0;32m    347\u001b[0m \u001b[38;5;28mself\u001b[39m\u001b[38;5;241m.\u001b[39mextract_data()\n\u001b[1;32m--> 348\u001b[0m \u001b[38;5;28;43mself\u001b[39;49m\u001b[38;5;241;43m.\u001b[39;49m\u001b[43mtransform_data\u001b[49m\u001b[43m(\u001b[49m\u001b[43m)\u001b[49m\n\u001b[0;32m    350\u001b[0m \u001b[38;5;28;01mreturn\u001b[39;00m HumblObject(\n\u001b[0;32m    351\u001b[0m     results\u001b[38;5;241m=\u001b[39m\u001b[38;5;28mself\u001b[39m\u001b[38;5;241m.\u001b[39mtransformed_data,\n\u001b[0;32m    352\u001b[0m     provider\u001b[38;5;241m=\u001b[39m\u001b[38;5;28mself\u001b[39m\u001b[38;5;241m.\u001b[39mcontext_params\u001b[38;5;241m.\u001b[39mprovider,\n\u001b[1;32m   (...)\u001b[0m\n\u001b[0;32m    356\u001b[0m     command_params\u001b[38;5;241m=\u001b[39m\u001b[38;5;28mself\u001b[39m\u001b[38;5;241m.\u001b[39mcommand_params,\n\u001b[0;32m    357\u001b[0m )\n",
      "File \u001b[1;32m~\\github\\humblFINANCE-org\\humbldata\\src\\humbldata\\core\\standard_models\\toolbox\\technical\\mandelbrot_channel.py:328\u001b[0m, in \u001b[0;36mMandelbrotChannelFetcher.transform_data\u001b[1;34m(self)\u001b[0m\n\u001b[0;32m    315\u001b[0m \u001b[38;5;28;01melse\u001b[39;00m:\n\u001b[0;32m    316\u001b[0m     transformed_data \u001b[38;5;241m=\u001b[39m calc_mandelbrot_channel_historical(\n\u001b[0;32m    317\u001b[0m         data\u001b[38;5;241m=\u001b[39m\u001b[38;5;28mself\u001b[39m\u001b[38;5;241m.\u001b[39mequity_historical_data,\n\u001b[0;32m    318\u001b[0m         window\u001b[38;5;241m=\u001b[39m\u001b[38;5;28mself\u001b[39m\u001b[38;5;241m.\u001b[39mcommand_params\u001b[38;5;241m.\u001b[39mwindow,\n\u001b[1;32m   (...)\u001b[0m\n\u001b[0;32m    323\u001b[0m         _live_price\u001b[38;5;241m=\u001b[39m\u001b[38;5;28mself\u001b[39m\u001b[38;5;241m.\u001b[39mcommand_params\u001b[38;5;241m.\u001b[39mlive_price,\n\u001b[0;32m    324\u001b[0m     )\n\u001b[0;32m    326\u001b[0m \u001b[38;5;28mself\u001b[39m\u001b[38;5;241m.\u001b[39mtransformed_data \u001b[38;5;241m=\u001b[39m \u001b[43mMandelbrotChannelData\u001b[49m\u001b[43m(\u001b[49m\n\u001b[0;32m    327\u001b[0m \u001b[43m    \u001b[49m\u001b[43mtransformed_data\u001b[49m\n\u001b[1;32m--> 328\u001b[0m \u001b[43m\u001b[49m\u001b[43m)\u001b[49m\u001b[38;5;241;43m.\u001b[39;49m\u001b[43mserialize\u001b[49m()\n\u001b[0;32m    329\u001b[0m \u001b[38;5;28;01mreturn\u001b[39;00m \u001b[38;5;28mself\u001b[39m\n",
      "\u001b[1;31mAttributeError\u001b[0m: 'DataFrame' object has no attribute 'serialize'"
     ]
    }
   ],
   "source": [
    "result = toolbox.technical.mandelbrot_channel(historical=True, window=\"1m\")\n",
    "\n"
   ]
  },
  {
   "cell_type": "code",
   "execution_count": 32,
   "metadata": {},
   "outputs": [
    {
     "data": {
      "text/html": [
       "<div><style>\n",
       ".dataframe > thead > tr,\n",
       ".dataframe > tbody > tr {\n",
       "  text-align: right;\n",
       "  white-space: pre-wrap;\n",
       "}\n",
       "</style>\n",
       "<small>shape: (2, 5)</small><table border=\"1\" class=\"dataframe\"><thead><tr><th>date</th><th>symbol</th><th>bottom_price</th><th>recent_price</th><th>top_price</th></tr><tr><td>date</td><td>str</td><td>f64</td><td>f64</td><td>f64</td></tr></thead><tbody><tr><td>2024-03-19</td><td>&quot;AAPL&quot;</td><td>171.5136</td><td>176.080002</td><td>177.4196</td></tr><tr><td>2024-03-19</td><td>&quot;AMD&quot;</td><td>173.188</td><td>181.419998</td><td>204.3356</td></tr></tbody></table></div>"
      ],
      "text/plain": [
       "shape: (2, 5)\n",
       "┌────────────┬────────┬──────────────┬──────────────┬───────────┐\n",
       "│ date       ┆ symbol ┆ bottom_price ┆ recent_price ┆ top_price │\n",
       "│ ---        ┆ ---    ┆ ---          ┆ ---          ┆ ---       │\n",
       "│ date       ┆ str    ┆ f64          ┆ f64          ┆ f64       │\n",
       "╞════════════╪════════╪══════════════╪══════════════╪═══════════╡\n",
       "│ 2024-03-19 ┆ AAPL   ┆ 171.5136     ┆ 176.080002   ┆ 177.4196  │\n",
       "│ 2024-03-19 ┆ AMD    ┆ 173.188      ┆ 181.419998   ┆ 204.3356  │\n",
       "└────────────┴────────┴──────────────┴──────────────┴───────────┘"
      ]
     },
     "execution_count": 32,
     "metadata": {},
     "output_type": "execute_result"
    }
   ],
   "source": [
    "result.to_polars()\n",
    "\n"
   ]
  },
  {
   "cell_type": "markdown",
   "metadata": {},
   "source": [
    "## Testing HumblObject Creation"
   ]
  },
  {
   "cell_type": "code",
   "execution_count": 23,
   "metadata": {},
   "outputs": [
    {
     "data": {
      "text/plain": [
       "YourModel\n",
       "\n",
       "command_params: {'window': '1mo', 'rv_adjustment': True, 'rv_method': 'std', 'rs_me..."
      ]
     },
     "execution_count": 23,
     "metadata": {},
     "output_type": "execute_result"
    }
   ],
   "source": [
    "from typing import Any\n",
    "from pydantic import BaseModel, Field\n",
    "from pydantic.config import ConfigDict\n",
    "from pydantic.functional_validators import field_validator\n",
    "\n",
    "from humbldata.core.standard_models.toolbox.technical.mandelbrot_channel import MandelbrotChannelQueryParams\n",
    "\n",
    "\n",
    "class YourModel(BaseModel):\n",
    "    model_config = ConfigDict(arbitrary_types_allowed=True)\n",
    "    command_params: Any = Field()\n",
    "\n",
    "    @field_validator(\"command_params\")\n",
    "    def validate_command_params(cls, v):\n",
    "        class_name = v.__class__.__name__\n",
    "        if \"QueryParams\" in class_name:\n",
    "            return v\n",
    "        raise TypeError(\"Wrong type for 'some_foo', must be subclass of Foo\")\n",
    "\n",
    "    def __repr__(self) -> str:\n",
    "        \"\"\"Human readable representation of the object.\"\"\"\n",
    "        items = [\n",
    "            f\"{k}: {v}\"[:83] + (\"...\" if len(f\"{k}: {v}\") > 83 else \"\")\n",
    "            for k, v in self.model_dump().items()\n",
    "        ]\n",
    "        return f\"{self.__class__.__name__}\\n\\n\" + \"\\n\".join(items)\n",
    "\n",
    "YourModel(command_params=MandelbrotChannelQueryParams())\n"
   ]
  },
  {
   "cell_type": "code",
   "execution_count": 10,
   "metadata": {},
   "outputs": [
    {
     "data": {
      "text/plain": [
       "YourModel\n",
       "\n",
       "command_params: {'window': '2mo', 'rv_adjustment': True, 'rv_method': 'std', 'rs_method': 'RS', 'rv..."
      ]
     },
     "execution_count": 10,
     "metadata": {},
     "output_type": "execute_result"
    }
   ],
   "source": [
    "from typing import Any\n",
    "from pydantic import BaseModel, Field\n",
    "from pydantic.config import ConfigDict\n",
    "from humbldata.core.standard_models.abstract.query_params import QueryParams\n",
    "\n",
    "from humbldata.core.standard_models.toolbox.technical.mandelbrot_channel import (\n",
    "    MandelbrotChannelQueryParams,\n",
    ")\n",
    "\n",
    "\n",
    "def extract_subclass_dict(self, attribute_name: str, items: list):\n",
    "    \"\"\"\n",
    "    Extract the dictionary representation of the specified attribute.\n",
    "\n",
    "    Parameters\n",
    "    ----------\n",
    "    attribute_name : str\n",
    "        The name of the attribute to update in the items list.\n",
    "    \"\"\"\n",
    "    # Check if the attribute exists and has a value\n",
    "    attribute_value = getattr(self, attribute_name, None)\n",
    "    if attribute_value:\n",
    "        # Assuming the attribute has a method called 'model_dump' to get its dictionary representation\n",
    "        add_item = attribute_value.model_dump()\n",
    "        add_item_str = str(add_item)\n",
    "        if len(add_item_str) > 83:\n",
    "            add_item_str = add_item_str[:83] + \"...\"\n",
    "        for i, item in enumerate(items):\n",
    "            if item.startswith(f\"{attribute_name}:\"):\n",
    "                items[i] = f\"{attribute_name}: {add_item_str}\"\n",
    "                break\n",
    "\n",
    "    return items\n",
    "\n",
    "\n",
    "class YourModel(BaseModel):\n",
    "    model_config = ConfigDict(arbitrary_types_allowed=True)\n",
    "    command_params: QueryParams | None = Field(\n",
    "        default_factory=QueryParams,\n",
    "    )\n",
    "\n",
    "    def __repr__(self) -> str:\n",
    "        \"\"\"Human readable representation of the object.\"\"\"\n",
    "        items = [\n",
    "            f\"{k}: {v}\"[:83] + (\"...\" if len(f\"{k}: {v}\") > 83 else \"\")\n",
    "            for k, v in self.model_dump().items()\n",
    "        ]\n",
    "\n",
    "        items = extract_subclass_dict(self, \"command_params\", items)\n",
    "\n",
    "        return f\"{self.__class__.__name__}\\n\\n\" + \"\\n\".join(items)\n",
    "\n",
    "\n",
    "params = MandelbrotChannelQueryParams(window=\"2m\")\n",
    "YourModel(command_params=params)"
   ]
  },
  {
   "cell_type": "code",
   "execution_count": null,
   "metadata": {},
   "outputs": [
    {
     "data": {
      "text/plain": [
       "YourModel\n",
       "\n",
       "command_params: {'test': 'test'}"
      ]
     },
     "execution_count": 60,
     "metadata": {},
     "output_type": "execute_result"
    }
   ],
   "source": [
    "from pydantic import BaseModel, Field\n",
    "from pydantic.config import ConfigDict\n",
    "\n",
    "\n",
    "class QueryParams(BaseModel):\n",
    "    pass\n",
    "\n",
    "\n",
    "class subQueryParams(QueryParams):\n",
    "    test: str = \"test\"\n",
    "\n",
    "\n",
    "class YourModel(BaseModel):\n",
    "    model_config = ConfigDict(arbitrary_types_allowed=True)\n",
    "    command_params: QueryParams = Field()\n",
    "\n",
    "    def __repr__(self) -> str:\n",
    "        \"\"\"Human readable representation of the object.\"\"\"\n",
    "        items = [\n",
    "            f\"{k}: {v}\"[:83] + (\"...\" if len(f\"{k}: {v}\") > 83 else \"\")\n",
    "            for k, v in self.model_dump().items()\n",
    "        ]\n",
    "\n",
    "        # Needed to extract subclass items\n",
    "        if self.command_params:\n",
    "            add_item = self.command_params.model_dump()\n",
    "        for i, item in enumerate(items):\n",
    "            if item.startswith('command_params:'):\n",
    "                items[i] = f'command_params: {add_item}'\n",
    "                break  # Assuming only one item with 'command_params:', stop after updating\n",
    "\n",
    "\n",
    "        return f\"{self.__class__.__name__}\\n\\n\" + \"\\n\".join(items)\n",
    "\n",
    "\n",
    "YourModel(command_params=subQueryParams())"
   ]
  }
 ],
 "metadata": {
  "kernelspec": {
   "display_name": "Python 3",
   "language": "python",
   "name": "python3"
  },
  "language_info": {
   "codemirror_mode": {
    "name": "ipython",
    "version": 3
   },
   "file_extension": ".py",
   "mimetype": "text/x-python",
   "name": "python",
   "nbconvert_exporter": "python",
   "pygments_lexer": "ipython3",
   "version": "3.11.7"
  }
 },
 "nbformat": 4,
 "nbformat_minor": 2
}
