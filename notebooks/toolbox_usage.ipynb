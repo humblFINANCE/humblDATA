{
 "cells": [
  {
   "cell_type": "code",
   "execution_count": null,
   "metadata": {},
   "outputs": [],
   "source": [
    "%load_ext autoreload\n",
    "%autoreload 2\n",
    "\n",
    "from humbldata.toolbox.toolbox_controller import Toolbox\n",
    "\n",
    "toolbox = Toolbox(\n",
    "    symbol=\"AAPL\",\n",
    "    interval=\"daily\",\n",
    "    start_date=\"2021-01-01\",\n",
    "    end_date=\"2021-01-01\",\n",
    ")\n",
    "\n",
    "toolbox.technical.mandelbrot_channel(range=\"1m\")\n"
   ]
  }
 ],
 "metadata": {
  "language_info": {
   "name": "python"
  }
 },
 "nbformat": 4,
 "nbformat_minor": 2
}
