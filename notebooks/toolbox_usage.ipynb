{
 "cells": [
  {
   "cell_type": "code",
   "execution_count": null,
   "metadata": {},
   "outputs": [],
   "source": [
    "%load_ext autoreload\n",
    "%autoreload 2\n",
    "\n",
    "from humbldata.toolbox.toolbox_controller import Toolbox\n",
    "\n",
    "toolbox = Toolbox(\n",
    "    symbol=\"Appl,msft\",\n",
    "    interval=\"1d\",\n",
    "    # start_date=\"2021-01-01\",\n",
    "    # end_date=\"2021-01-01\"\n",
    ")\n",
    "\n",
    "# toolbox.technical.mandelbrot_channel(range=\"1m\")\n"
   ]
  },
  {
   "cell_type": "code",
   "execution_count": null,
   "metadata": {},
   "outputs": [],
   "source": [
    "toolbox"
   ]
  },
  {
   "cell_type": "markdown",
   "metadata": {},
   "source": [
    "## Test validation"
   ]
  },
  {
   "cell_type": "code",
   "execution_count": 71,
   "metadata": {},
   "outputs": [],
   "source": [
    "from openbb import obb\n",
    "\n",
    "context_params = toolbox\n",
    "\n",
    "equity_historical_data = (\n",
    "    obb.equity.price.historical(\n",
    "        symbol=context_params.symbol,\n",
    "        start_date=context_params.start_date,\n",
    "        end_date=context_params.end_date,\n",
    "        provider=context_params.provider,\n",
    "    ).to_polars()\n",
    ").drop([\"dividends\", \"stock_splits\"])\n"
   ]
  },
  {
   "cell_type": "code",
   "execution_count": 74,
   "metadata": {},
   "outputs": [
    {
     "name": "stdout",
     "output_type": "stream",
     "text": [
      "[Date, Float64, Float64, Float64, Float64, Int64, Float64, Float64, String]\n",
      "['date', 'open', 'high', 'low', 'close', 'volume', 'split_ratio', 'dividend', 'symbol']\n"
     ]
    }
   ],
   "source": [
    "print(equity_historical_data.dtypes)\n",
    "print(equity_historical_data.columns)\n"
   ]
  },
  {
   "cell_type": "code",
   "execution_count": 76,
   "metadata": {},
   "outputs": [
    {
     "name": "stdout",
     "output_type": "stream",
     "text": [
      "The autoreload extension is already loaded. To reload it, use:\n",
      "  %reload_ext autoreload\n"
     ]
    },
    {
     "data": {
      "text/html": [
       "<div><style>\n",
       ".dataframe > thead > tr,\n",
       ".dataframe > tbody > tr {\n",
       "  text-align: right;\n",
       "  white-space: pre-wrap;\n",
       "}\n",
       "</style>\n",
       "<small>shape: (9_579, 9)</small><table border=\"1\" class=\"dataframe\"><thead><tr><th>date</th><th>open</th><th>high</th><th>low</th><th>close</th><th>volume</th><th>split_ratio</th><th>dividend</th><th>symbol</th></tr><tr><td>date</td><td>f64</td><td>f64</td><td>f64</td><td>f64</td><td>i64</td><td>f64</td><td>f64</td><td>str</td></tr></thead><tbody><tr><td>1986-03-13</td><td>0.088542</td><td>0.101563</td><td>0.088542</td><td>0.097222</td><td>1031788800</td><td>0.0</td><td>0.0</td><td>&quot;MSFT&quot;</td></tr><tr><td>1986-03-14</td><td>0.097222</td><td>0.102431</td><td>0.097222</td><td>0.100694</td><td>308160000</td><td>0.0</td><td>0.0</td><td>&quot;MSFT&quot;</td></tr><tr><td>1986-03-17</td><td>0.100694</td><td>0.103299</td><td>0.100694</td><td>0.102431</td><td>133171200</td><td>0.0</td><td>0.0</td><td>&quot;MSFT&quot;</td></tr><tr><td>1986-03-18</td><td>0.102431</td><td>0.103299</td><td>0.098958</td><td>0.099826</td><td>67766400</td><td>0.0</td><td>0.0</td><td>&quot;MSFT&quot;</td></tr><tr><td>1986-03-19</td><td>0.099826</td><td>0.100694</td><td>0.097222</td><td>0.09809</td><td>47894400</td><td>0.0</td><td>0.0</td><td>&quot;MSFT&quot;</td></tr><tr><td>&hellip;</td><td>&hellip;</td><td>&hellip;</td><td>&hellip;</td><td>&hellip;</td><td>&hellip;</td><td>&hellip;</td><td>&hellip;</td><td>&hellip;</td></tr><tr><td>2024-03-11</td><td>403.76001</td><td>405.679993</td><td>401.26001</td><td>404.519989</td><td>16120800</td><td>0.0</td><td>0.0</td><td>&quot;MSFT&quot;</td></tr><tr><td>2024-03-12</td><td>407.619995</td><td>415.570007</td><td>406.790009</td><td>415.279999</td><td>22457000</td><td>0.0</td><td>0.0</td><td>&quot;MSFT&quot;</td></tr><tr><td>2024-03-13</td><td>418.100006</td><td>418.179993</td><td>411.450012</td><td>415.100006</td><td>17115900</td><td>0.0</td><td>0.0</td><td>&quot;MSFT&quot;</td></tr><tr><td>2024-03-14</td><td>420.23999</td><td>427.820007</td><td>417.98999</td><td>425.220001</td><td>34157300</td><td>0.0</td><td>0.0</td><td>&quot;MSFT&quot;</td></tr><tr><td>2024-03-15</td><td>419.290009</td><td>422.600006</td><td>412.790009</td><td>416.420013</td><td>45049800</td><td>0.0</td><td>0.0</td><td>&quot;MSFT&quot;</td></tr></tbody></table></div>"
      ],
      "text/plain": [
       "shape: (9_579, 9)\n",
       "┌────────────┬────────────┬────────────┬───────────┬───┬───────────┬───────────┬──────────┬────────┐\n",
       "│ date       ┆ open       ┆ high       ┆ low       ┆ … ┆ volume    ┆ split_rat ┆ dividend ┆ symbol │\n",
       "│ ---        ┆ ---        ┆ ---        ┆ ---       ┆   ┆ ---       ┆ io        ┆ ---      ┆ ---    │\n",
       "│ date       ┆ f64        ┆ f64        ┆ f64       ┆   ┆ i64       ┆ ---       ┆ f64      ┆ str    │\n",
       "│            ┆            ┆            ┆           ┆   ┆           ┆ f64       ┆          ┆        │\n",
       "╞════════════╪════════════╪════════════╪═══════════╪═══╪═══════════╪═══════════╪══════════╪════════╡\n",
       "│ 1986-03-13 ┆ 0.088542   ┆ 0.101563   ┆ 0.088542  ┆ … ┆ 103178880 ┆ 0.0       ┆ 0.0      ┆ MSFT   │\n",
       "│            ┆            ┆            ┆           ┆   ┆ 0         ┆           ┆          ┆        │\n",
       "│ 1986-03-14 ┆ 0.097222   ┆ 0.102431   ┆ 0.097222  ┆ … ┆ 308160000 ┆ 0.0       ┆ 0.0      ┆ MSFT   │\n",
       "│ 1986-03-17 ┆ 0.100694   ┆ 0.103299   ┆ 0.100694  ┆ … ┆ 133171200 ┆ 0.0       ┆ 0.0      ┆ MSFT   │\n",
       "│ 1986-03-18 ┆ 0.102431   ┆ 0.103299   ┆ 0.098958  ┆ … ┆ 67766400  ┆ 0.0       ┆ 0.0      ┆ MSFT   │\n",
       "│ 1986-03-19 ┆ 0.099826   ┆ 0.100694   ┆ 0.097222  ┆ … ┆ 47894400  ┆ 0.0       ┆ 0.0      ┆ MSFT   │\n",
       "│ …          ┆ …          ┆ …          ┆ …         ┆ … ┆ …         ┆ …         ┆ …        ┆ …      │\n",
       "│ 2024-03-11 ┆ 403.76001  ┆ 405.679993 ┆ 401.26001 ┆ … ┆ 16120800  ┆ 0.0       ┆ 0.0      ┆ MSFT   │\n",
       "│ 2024-03-12 ┆ 407.619995 ┆ 415.570007 ┆ 406.79000 ┆ … ┆ 22457000  ┆ 0.0       ┆ 0.0      ┆ MSFT   │\n",
       "│            ┆            ┆            ┆ 9         ┆   ┆           ┆           ┆          ┆        │\n",
       "│ 2024-03-13 ┆ 418.100006 ┆ 418.179993 ┆ 411.45001 ┆ … ┆ 17115900  ┆ 0.0       ┆ 0.0      ┆ MSFT   │\n",
       "│            ┆            ┆            ┆ 2         ┆   ┆           ┆           ┆          ┆        │\n",
       "│ 2024-03-14 ┆ 420.23999  ┆ 427.820007 ┆ 417.98999 ┆ … ┆ 34157300  ┆ 0.0       ┆ 0.0      ┆ MSFT   │\n",
       "│ 2024-03-15 ┆ 419.290009 ┆ 422.600006 ┆ 412.79000 ┆ … ┆ 45049800  ┆ 0.0       ┆ 0.0      ┆ MSFT   │\n",
       "│            ┆            ┆            ┆ 9         ┆   ┆           ┆           ┆          ┆        │\n",
       "└────────────┴────────────┴────────────┴───────────┴───┴───────────┴───────────┴──────────┴────────┘"
      ]
     },
     "execution_count": 76,
     "metadata": {},
     "output_type": "execute_result"
    }
   ],
   "source": [
    "%load_ext autoreload\n",
    "%autoreload 2\n",
    "\n",
    "from humbldata.core.standard_models.toolbox import ToolboxData\n",
    "\n",
    "\n",
    "ToolboxData(equity_historical_data)\n",
    "\n"
   ]
  },
  {
   "cell_type": "markdown",
   "metadata": {},
   "source": [
    "## Reprex"
   ]
  },
  {
   "cell_type": "code",
   "execution_count": null,
   "metadata": {},
   "outputs": [],
   "source": [
    "import pandera.polars as pa\n",
    "import polars as pl\n",
    "\n",
    "\n",
    "class ModelWithChecks(pa.DataFrameModel):\n",
    "    a: int\n",
    "    b: str\n",
    "    c: float\n",
    "    date: pl.Date\n",
    "\n",
    "\n",
    "valid_lf = pl.LazyFrame(\n",
    "    {\n",
    "        \"a\": pl.Series([1, 2, 3], dtype=pl.Int64),\n",
    "        \"b\": [\"d\", \"e\", \"f\"],\n",
    "        \"c\": [0.0, 0.6, 1],\n",
    "        \"date\": pl.date_range(\n",
    "            start=datetime.date(2021, 1, 1),\n",
    "            end=datetime.date(2021, 1, 3),\n",
    "            eager=True,\n",
    "        ),\n",
    "    }\n",
    ")\n",
    "\n",
    "\n",
    "ModelWithChecks.validate(valid_lf, lazy=True).collect()\n"
   ]
  },
  {
   "cell_type": "code",
   "execution_count": null,
   "metadata": {},
   "outputs": [],
   "source": []
  }
 ],
 "metadata": {
  "kernelspec": {
   "display_name": "Python 3",
   "language": "python",
   "name": "python3"
  },
  "language_info": {
   "codemirror_mode": {
    "name": "ipython",
    "version": 3
   },
   "file_extension": ".py",
   "mimetype": "text/x-python",
   "name": "python",
   "nbconvert_exporter": "python",
   "pygments_lexer": "ipython3",
   "version": "3.11.7"
  }
 },
 "nbformat": 4,
 "nbformat_minor": 2
}
