{
 "cells": [
  {
   "cell_type": "code",
   "execution_count": 12,
   "metadata": {},
   "outputs": [
    {
     "name": "stdout",
     "output_type": "stream",
     "text": [
      "The autoreload extension is already loaded. To reload it, use:\n",
      "  %reload_ext autoreload\n"
     ]
    }
   ],
   "source": [
    "%load_ext autoreload\n",
    "%autoreload 2\n",
    "\n",
    "from humbldata.toolbox.toolbox_controller import Toolbox\n",
    "\n",
    "toolbox = Toolbox(\n",
    "    symbol=\"AAPl,msft\",\n",
    "    interval=\"1d\",\n",
    "    start_date=\"2021-01-01\",\n",
    "    end_date=\"2021-01-01\",\n",
    ")\n",
    "\n"
   ]
  },
  {
   "cell_type": "code",
   "execution_count": 13,
   "metadata": {},
   "outputs": [
    {
     "data": {
      "text/plain": [
       "Toolbox(symbol=AAPL,MSFT, interval=1d, start_date=2021-01-01, end_date=2021-01-01, provider=yfinance, adjusted=True)"
      ]
     },
     "execution_count": 13,
     "metadata": {},
     "output_type": "execute_result"
    }
   ],
   "source": [
    "toolbox"
   ]
  },
  {
   "cell_type": "code",
   "execution_count": 8,
   "metadata": {},
   "outputs": [],
   "source": [
    "result = toolbox.technical.mandelbrot_channel(window=\"1m\")"
   ]
  },
  {
   "cell_type": "code",
   "execution_count": 9,
   "metadata": {},
   "outputs": [
    {
     "data": {
      "text/html": [
       "<div><style>\n",
       ".dataframe > thead > tr,\n",
       ".dataframe > tbody > tr {\n",
       "  text-align: right;\n",
       "  white-space: pre-wrap;\n",
       "}\n",
       "</style>\n",
       "<small>shape: (2, 5)</small><table border=\"1\" class=\"dataframe\"><thead><tr><th>date</th><th>symbol</th><th>bottom_price</th><th>recent_price</th><th>top_price</th></tr><tr><td>date</td><td>str</td><td>f64</td><td>f64</td><td>f64</td></tr></thead><tbody><tr><td>2024-03-18</td><td>&quot;AAPL&quot;</td><td>172.4823</td><td>177.029999</td><td>178.2681</td></tr><tr><td>2024-03-18</td><td>&quot;MSFT&quot;</td><td>405.4824</td><td>418.625</td><td>428.2664</td></tr></tbody></table></div>"
      ],
      "text/plain": [
       "shape: (2, 5)\n",
       "┌────────────┬────────┬──────────────┬──────────────┬───────────┐\n",
       "│ date       ┆ symbol ┆ bottom_price ┆ recent_price ┆ top_price │\n",
       "│ ---        ┆ ---    ┆ ---          ┆ ---          ┆ ---       │\n",
       "│ date       ┆ str    ┆ f64          ┆ f64          ┆ f64       │\n",
       "╞════════════╪════════╪══════════════╪══════════════╪═══════════╡\n",
       "│ 2024-03-18 ┆ AAPL   ┆ 172.4823     ┆ 177.029999   ┆ 178.2681  │\n",
       "│ 2024-03-18 ┆ MSFT   ┆ 405.4824     ┆ 418.625      ┆ 428.2664  │\n",
       "└────────────┴────────┴──────────────┴──────────────┴───────────┘"
      ]
     },
     "execution_count": 9,
     "metadata": {},
     "output_type": "execute_result"
    }
   ],
   "source": [
    "result"
   ]
  },
  {
   "cell_type": "code",
   "execution_count": 9,
   "metadata": {},
   "outputs": [
    {
     "data": {
      "text/plain": [
       "MandelbrotChannelQueryParams(window=1m, rv_adjustment=True, rv_method=std, rs_method=RS, rv_grouped_mean=False, live_price=False)"
      ]
     },
     "execution_count": 9,
     "metadata": {},
     "output_type": "execute_result"
    }
   ],
   "source": [
    "from humbldata.core.standard_models.toolbox.technical.mandelbrotchannel import (\n",
    "    MandelbrotChannelQueryParams,\n",
    ")\n",
    "from typing import get_type_hints\n",
    "\n",
    "\n",
    "MandelbrotChannelQueryParams()\n",
    "\n"
   ]
  },
  {
   "cell_type": "markdown",
   "metadata": {},
   "source": [
    "## Test validation"
   ]
  },
  {
   "cell_type": "code",
   "execution_count": null,
   "metadata": {},
   "outputs": [],
   "source": [
    "from openbb import obb\n",
    "\n",
    "context_params = toolbox\n",
    "\n",
    "equity_historical_data = (\n",
    "    obb.equity.price.historical(\n",
    "        symbol=\"AAPL,MSFT\",\n",
    "        start_date=context_params.start_date,\n",
    "        end_date=context_params.end_date,\n",
    "        provider=context_params.provider,\n",
    "    ).to_polars()\n",
    ").drop([\"dividends\", \"stock_splits\"])\n"
   ]
  },
  {
   "cell_type": "code",
   "execution_count": null,
   "metadata": {},
   "outputs": [],
   "source": [
    "print(equity_historical_data.dtypes)\n",
    "print(equity_historical_data.columns)\n"
   ]
  },
  {
   "cell_type": "code",
   "execution_count": null,
   "metadata": {},
   "outputs": [],
   "source": [
    "%load_ext autoreload\n",
    "%autoreload 2\n",
    "\n",
    "from humbldata.core.standard_models.toolbox import ToolboxData\n",
    "\n",
    "\n",
    "ToolboxData(equity_historical_data)\n",
    "\n"
   ]
  },
  {
   "cell_type": "markdown",
   "metadata": {},
   "source": [
    "## Reprex"
   ]
  },
  {
   "cell_type": "code",
   "execution_count": null,
   "metadata": {},
   "outputs": [],
   "source": [
    "from typing import Optional\n",
    "import pandera.polars as pa\n",
    "import polars as pl\n",
    "\n",
    "\n",
    "class ModelWithChecks(pa.DataFrameModel):\n",
    "    a: int\n",
    "    b: str\n",
    "    c: Optional[float]\n",
    "    date: pl.Date\n",
    "\n",
    "\n",
    "valid_lf = pl.LazyFrame(\n",
    "    {\n",
    "        \"a\": pl.Series([1, 2, 3], dtype=pl.Int64),\n",
    "        \"b\": [\"d\", \"e\", \"f\"],\n",
    "        # \"c\": [0.0, 0.6, 1],\n",
    "        \"date\": pl.date_range(\n",
    "            start=datetime.date(2021, 1, 1),\n",
    "            end=datetime.date(2021, 1, 3),\n",
    "            eager=True,\n",
    "        ),\n",
    "    }\n",
    ")\n",
    "\n",
    "\n",
    "ModelWithChecks.validate(valid_lf, lazy=True).collect()\n"
   ]
  },
  {
   "cell_type": "code",
   "execution_count": null,
   "metadata": {},
   "outputs": [],
   "source": []
  }
 ],
 "metadata": {
  "kernelspec": {
   "display_name": "Python 3",
   "language": "python",
   "name": "python3"
  },
  "language_info": {
   "codemirror_mode": {
    "name": "ipython",
    "version": 3
   },
   "file_extension": ".py",
   "mimetype": "text/x-python",
   "name": "python",
   "nbconvert_exporter": "python",
   "pygments_lexer": "ipython3",
   "version": "3.11.7"
  }
 },
 "nbformat": 4,
 "nbformat_minor": 2
}
