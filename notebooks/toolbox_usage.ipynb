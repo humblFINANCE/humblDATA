{
 "cells": [
  {
   "cell_type": "markdown",
   "metadata": {},
   "source": [
    "## Initiate the Toolbox\n",
    "- the parameters set here will be used to collect command-specific data when the `Fetcher` executes the TET pattern."
   ]
  },
  {
   "cell_type": "code",
   "execution_count": 3,
   "metadata": {},
   "outputs": [
    {
     "name": "stdout",
     "output_type": "stream",
     "text": [
      "The autoreload extension is already loaded. To reload it, use:\n",
      "  %reload_ext autoreload\n"
     ]
    },
    {
     "data": {
      "text/plain": [
       "Toolbox(symbols=['AAPL', 'AMD', 'GOOGL', 'PCT', 'NVDA', 'NKE', 'CRWD', 'TSLA', 'MSFT', 'JNJ', 'TTEK'], interval=1d, start_date=2000-01-01, end_date=2024-01-01, provider=yfinance, membership=admin)"
      ]
     },
     "execution_count": 3,
     "metadata": {},
     "output_type": "execute_result"
    }
   ],
   "source": [
    "%load_ext autoreload\n",
    "%autoreload\n",
    "\n",
    "from humbldata.toolbox.toolbox_controller import Toolbox\n",
    "\n",
    "toolbox = Toolbox(\n",
    "    symbols=[\"AAPL\", \"AMD\", \"GOOGL\", \"PCT\", \"NVDA\", \"NKE\", \"CRWD\", \"TSLA\", \"MSFT\", \"JNJ\", \"TTEK\"],\n",
    "    interval=\"1d\",\n",
    "    start_date=\"2000-01-01\",\n",
    "    end_date=\"2024-01-01\",\n",
    "    membership=\"admin\"\n",
    ")\n",
    "toolbox"
   ]
  },
  {
   "cell_type": "markdown",
   "metadata": {},
   "source": [
    "## Run Mandelbrot Channel Calculation"
   ]
  },
  {
   "cell_type": "code",
   "execution_count": 4,
   "metadata": {},
   "outputs": [
    {
     "name": "stderr",
     "output_type": "stream",
     "text": [
      "INFO: MandelbrotChannelFetcher || START: fetch_data (sync)\n"
     ]
    },
    {
     "name": "stderr",
     "output_type": "stream",
     "text": [
      "INFO: MandelbrotChannelFetcher || END: fetch_data (sync) - Total time: 111.3248s\n"
     ]
    },
    {
     "data": {
      "text/html": [
       "<div><style>\n",
       ".dataframe > thead > tr,\n",
       ".dataframe > tbody > tr {\n",
       "  text-align: right;\n",
       "  white-space: pre-wrap;\n",
       "}\n",
       "</style>\n",
       "<small>shape: (52_391, 5)</small><table border=\"1\" class=\"dataframe\"><thead><tr><th>date</th><th>symbol</th><th>bottom_price</th><th>close_price</th><th>top_price</th></tr><tr><td>date</td><td>str</td><td>f64</td><td>f64</td><td>f64</td></tr></thead><tbody><tr><td>2000-02-02</td><td>&quot;AAPL&quot;</td><td>0.6804</td><td>0.745904</td><td>0.7748</td></tr><tr><td>2000-02-03</td><td>&quot;AAPL&quot;</td><td>0.7161</td><td>0.779873</td><td>0.7962</td></tr><tr><td>2000-02-04</td><td>&quot;AAPL&quot;</td><td>0.7506</td><td>0.815258</td><td>0.8431</td></tr><tr><td>2000-02-07</td><td>&quot;AAPL&quot;</td><td>0.8047</td><td>0.861022</td><td>0.8895</td></tr><tr><td>2000-02-08</td><td>&quot;AAPL&quot;</td><td>0.7852</td><td>0.867156</td><td>0.9085</td></tr><tr><td>&hellip;</td><td>&hellip;</td><td>&hellip;</td><td>&hellip;</td><td>&hellip;</td></tr><tr><td>2023-12-22</td><td>&quot;TTEK&quot;</td><td>156.4907</td><td>165.538162</td><td>169.4803</td></tr><tr><td>2023-12-26</td><td>&quot;TTEK&quot;</td><td>156.7629</td><td>166.256165</td><td>170.3153</td></tr><tr><td>2023-12-27</td><td>&quot;TTEK&quot;</td><td>155.451</td><td>167.921524</td><td>167.9215</td></tr><tr><td>2023-12-28</td><td>&quot;TTEK&quot;</td><td>160.9022</td><td>167.582458</td><td>173.6762</td></tr><tr><td>2023-12-29</td><td>&quot;TTEK&quot;</td><td>165.4481</td><td>166.465576</td><td>177.3826</td></tr></tbody></table></div>"
      ],
      "text/plain": [
       "shape: (52_391, 5)\n",
       "┌────────────┬────────┬──────────────┬─────────────┬───────────┐\n",
       "│ date       ┆ symbol ┆ bottom_price ┆ close_price ┆ top_price │\n",
       "│ ---        ┆ ---    ┆ ---          ┆ ---         ┆ ---       │\n",
       "│ date       ┆ str    ┆ f64          ┆ f64         ┆ f64       │\n",
       "╞════════════╪════════╪══════════════╪═════════════╪═══════════╡\n",
       "│ 2000-02-02 ┆ AAPL   ┆ 0.6804       ┆ 0.745904    ┆ 0.7748    │\n",
       "│ 2000-02-03 ┆ AAPL   ┆ 0.7161       ┆ 0.779873    ┆ 0.7962    │\n",
       "│ 2000-02-04 ┆ AAPL   ┆ 0.7506       ┆ 0.815258    ┆ 0.8431    │\n",
       "│ 2000-02-07 ┆ AAPL   ┆ 0.8047       ┆ 0.861022    ┆ 0.8895    │\n",
       "│ 2000-02-08 ┆ AAPL   ┆ 0.7852       ┆ 0.867156    ┆ 0.9085    │\n",
       "│ …          ┆ …      ┆ …            ┆ …           ┆ …         │\n",
       "│ 2023-12-22 ┆ TTEK   ┆ 156.4907     ┆ 165.538162  ┆ 169.4803  │\n",
       "│ 2023-12-26 ┆ TTEK   ┆ 156.7629     ┆ 166.256165  ┆ 170.3153  │\n",
       "│ 2023-12-27 ┆ TTEK   ┆ 155.451      ┆ 167.921524  ┆ 167.9215  │\n",
       "│ 2023-12-28 ┆ TTEK   ┆ 160.9022     ┆ 167.582458  ┆ 173.6762  │\n",
       "│ 2023-12-29 ┆ TTEK   ┆ 165.4481     ┆ 166.465576  ┆ 177.3826  │\n",
       "└────────────┴────────┴──────────────┴─────────────┴───────────┘"
      ]
     },
     "execution_count": 4,
     "metadata": {},
     "output_type": "execute_result"
    }
   ],
   "source": [
    "# import nest_asyncio\n",
    "# nest_asyncio.apply()\n",
    "\n",
    "result = toolbox.technical.mandelbrot_channel(historical=True, window=\"1m\", _boundary_group_down=False, chart=False)\n",
    "result.to_polars()"
   ]
  },
  {
   "cell_type": "code",
   "execution_count": null,
   "metadata": {},
   "outputs": [],
   "source": []
  }
 ],
 "metadata": {
  "kernelspec": {
   "display_name": "Python 3",
   "language": "python",
   "name": "python3"
  },
  "language_info": {
   "codemirror_mode": {
    "name": "ipython",
    "version": 3
   },
   "file_extension": ".py",
   "mimetype": "text/x-python",
   "name": "python",
   "nbconvert_exporter": "python",
   "pygments_lexer": "ipython3",
   "version": "3.12.4"
  }
 },
 "nbformat": 4,
 "nbformat_minor": 2
}
