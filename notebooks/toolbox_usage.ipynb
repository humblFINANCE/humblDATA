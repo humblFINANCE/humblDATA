{
 "cells": [
  {
   "cell_type": "markdown",
   "metadata": {},
   "source": [
    "## Initiate the Toolbox\n",
    "- the parameters set here will be used to collect command-specific data when the `Fetcher` executes the TET pattern."
   ]
  },
  {
   "cell_type": "code",
   "execution_count": 8,
   "metadata": {},
   "outputs": [
    {
     "name": "stdout",
     "output_type": "stream",
     "text": [
      "The autoreload extension is already loaded. To reload it, use:\n",
      "  %reload_ext autoreload\n"
     ]
    },
    {
     "data": {
      "text/plain": [
       "Toolbox(symbols=['AAPL', 'AMD', 'GOOGL', 'PCT', 'NVDA', 'NKE', 'CRWD', 'TSLA', 'MSFT', 'JNJ', 'TTEK'], interval=1d, start_date=2005-01-01, end_date=2024-01-01, provider=yfinance, membership=admin)"
      ]
     },
     "execution_count": 8,
     "metadata": {},
     "output_type": "execute_result"
    }
   ],
   "source": [
    "%load_ext autoreload\n",
    "%autoreload\n",
    "\n",
    "from humbldata.toolbox.toolbox_controller import Toolbox\n",
    "\n",
    "toolbox = Toolbox(\n",
    "    symbols=[\"AAPL\", \"AMD\", \"GOOGL\", \"PCT\", \"NVDA\", \"NKE\", \"CRWD\", \"TSLA\", \"MSFT\", \"JNJ\", \"TTEK\"],\n",
    "    interval=\"1d\",\n",
    "    start_date=\"2005-01-01\",\n",
    "    end_date=\"2024-01-01\",\n",
    "    membership=\"admin\"\n",
    ")\n",
    "toolbox"
   ]
  },
  {
   "cell_type": "markdown",
   "metadata": {},
   "source": [
    "## Run Mandelbrot Channel Calculation"
   ]
  },
  {
   "cell_type": "code",
   "execution_count": 10,
   "metadata": {},
   "outputs": [
    {
     "name": "stderr",
     "output_type": "stream",
     "text": [
      "INFO: MandelbrotChannelFetcher || START: fetch_data (sync)\n",
      "INFO: MandelbrotChannelFetcher || END: fetch_data (sync) - Total time: 60.4014s\n"
     ]
    }
   ],
   "source": [
    "# import nest_asyncio\n",
    "# nest_asyncio.apply()\n",
    "\n",
    "result = toolbox.technical.mandelbrot_channel(historical=True, window=\"1m\", _boundary_group_down=False, chart=False)\n",
    "# result.to_polars()"
   ]
  },
  {
   "cell_type": "code",
   "execution_count": 3,
   "metadata": {},
   "outputs": [
    {
     "data": {
      "text/html": [
       "<div><style>\n",
       ".dataframe > thead > tr,\n",
       ".dataframe > tbody > tr {\n",
       "  text-align: right;\n",
       "  white-space: pre-wrap;\n",
       "}\n",
       "</style>\n",
       "<small>shape: (2_750, 7)</small><table border=\"1\" class=\"dataframe\"><thead><tr><th>date</th><th>open</th><th>high</th><th>low</th><th>close</th><th>volume</th><th>symbol</th></tr><tr><td>date</td><td>f64</td><td>f64</td><td>f64</td><td>f64</td><td>f64</td><td>str</td></tr></thead><tbody><tr><td>2023-01-03</td><td>129.21547</td><td>129.830399</td><td>123.155395</td><td>124.048042</td><td>1.121175e8</td><td>&quot;AAPL&quot;</td></tr><tr><td>2023-01-03</td><td>66.0</td><td>66.879997</td><td>63.59</td><td>64.019997</td><td>4.68518e7</td><td>&quot;AMD&quot;</td></tr><tr><td>2023-01-03</td><td>107.5</td><td>108.459999</td><td>101.717003</td><td>103.279999</td><td>3.4475e6</td><td>&quot;CRWD&quot;</td></tr><tr><td>2023-01-03</td><td>89.487292</td><td>90.945625</td><td>88.418519</td><td>89.017838</td><td>2.81312e7</td><td>&quot;GOOGL&quot;</td></tr><tr><td>2023-01-03</td><td>168.322856</td><td>170.444092</td><td>168.179521</td><td>170.262543</td><td>6.3449e6</td><td>&quot;JNJ&quot;</td></tr><tr><td>&hellip;</td><td>&hellip;</td><td>&hellip;</td><td>&hellip;</td><td>&hellip;</td><td>&hellip;</td><td>&hellip;</td></tr><tr><td>2023-12-29</td><td>108.149466</td><td>109.142027</td><td>107.285935</td><td>107.762367</td><td>7.6609e6</td><td>&quot;NKE&quot;</td></tr><tr><td>2023-12-29</td><td>49.806573</td><td>49.990551</td><td>48.744709</td><td>49.51561</td><td>3.89293e8</td><td>&quot;NVDA&quot;</td></tr><tr><td>2023-12-29</td><td>4.15</td><td>4.24</td><td>4.02</td><td>4.05</td><td>1.7183e6</td><td>&quot;PCT&quot;</td></tr><tr><td>2023-12-29</td><td>255.100006</td><td>255.190002</td><td>247.429993</td><td>248.479996</td><td>1.006153e8</td><td>&quot;TSLA&quot;</td></tr><tr><td>2023-12-29</td><td>167.153659</td><td>167.622353</td><td>165.398561</td><td>166.465576</td><td>135200.0</td><td>&quot;TTEK&quot;</td></tr></tbody></table></div>"
      ],
      "text/plain": [
       "shape: (2_750, 7)\n",
       "┌────────────┬────────────┬────────────┬────────────┬────────────┬────────────┬────────┐\n",
       "│ date       ┆ open       ┆ high       ┆ low        ┆ close      ┆ volume     ┆ symbol │\n",
       "│ ---        ┆ ---        ┆ ---        ┆ ---        ┆ ---        ┆ ---        ┆ ---    │\n",
       "│ date       ┆ f64        ┆ f64        ┆ f64        ┆ f64        ┆ f64        ┆ str    │\n",
       "╞════════════╪════════════╪════════════╪════════════╪════════════╪════════════╪════════╡\n",
       "│ 2023-01-03 ┆ 129.21547  ┆ 129.830399 ┆ 123.155395 ┆ 124.048042 ┆ 1.121175e8 ┆ AAPL   │\n",
       "│ 2023-01-03 ┆ 66.0       ┆ 66.879997  ┆ 63.59      ┆ 64.019997  ┆ 4.68518e7  ┆ AMD    │\n",
       "│ 2023-01-03 ┆ 107.5      ┆ 108.459999 ┆ 101.717003 ┆ 103.279999 ┆ 3.4475e6   ┆ CRWD   │\n",
       "│ 2023-01-03 ┆ 89.487292  ┆ 90.945625  ┆ 88.418519  ┆ 89.017838  ┆ 2.81312e7  ┆ GOOGL  │\n",
       "│ 2023-01-03 ┆ 168.322856 ┆ 170.444092 ┆ 168.179521 ┆ 170.262543 ┆ 6.3449e6   ┆ JNJ    │\n",
       "│ …          ┆ …          ┆ …          ┆ …          ┆ …          ┆ …          ┆ …      │\n",
       "│ 2023-12-29 ┆ 108.149466 ┆ 109.142027 ┆ 107.285935 ┆ 107.762367 ┆ 7.6609e6   ┆ NKE    │\n",
       "│ 2023-12-29 ┆ 49.806573  ┆ 49.990551  ┆ 48.744709  ┆ 49.51561   ┆ 3.89293e8  ┆ NVDA   │\n",
       "│ 2023-12-29 ┆ 4.15       ┆ 4.24       ┆ 4.02       ┆ 4.05       ┆ 1.7183e6   ┆ PCT    │\n",
       "│ 2023-12-29 ┆ 255.100006 ┆ 255.190002 ┆ 247.429993 ┆ 248.479996 ┆ 1.006153e8 ┆ TSLA   │\n",
       "│ 2023-12-29 ┆ 167.153659 ┆ 167.622353 ┆ 165.398561 ┆ 166.465576 ┆ 135200.0   ┆ TTEK   │\n",
       "└────────────┴────────────┴────────────┴────────────┴────────────┴────────────┴────────┘"
      ]
     },
     "execution_count": 3,
     "metadata": {},
     "output_type": "execute_result"
    }
   ],
   "source": [
    "data = result.to_polars(equity_data=True)\n",
    "data"
   ]
  },
  {
   "cell_type": "code",
   "execution_count": 6,
   "metadata": {},
   "outputs": [],
   "source": [
    "from humbldata.toolbox.technical.mandelbrot_channel.model import calc_mandelbrot_channel_historical_mp, calc_mandelbrot_channel_historical_concurrent\n",
    "\n",
    "\n",
    "# result_mp = calc_mandelbrot_channel_historical_mp(\n",
    "#     data=data,\n",
    "#     window=\"1m\",\n",
    "#     rv_adjustment=True,\n",
    "#     rv_method=\"std\",\n",
    "#     rs_method=\"RS\",\n",
    "#     rv_grouped_mean=False,\n",
    "#     live_price=False\n",
    "# )\n",
    "result_cc = calc_mandelbrot_channel_historical_concurrent(\n",
    "    data=data,\n",
    "    window=\"1m\",\n",
    "    rv_adjustment=True,\n",
    "    rv_method=\"std\",\n",
    "    rs_method=\"RS\",\n",
    "    rv_grouped_mean=False,\n",
    "    live_price=False,\n",
    "    use_processes=False,\n",
    "    max_workers=16\n",
    ")"
   ]
  },
  {
   "cell_type": "code",
   "execution_count": 7,
   "metadata": {},
   "outputs": [
    {
     "data": {
      "text/html": [
       "<div><style>\n",
       ".dataframe > thead > tr,\n",
       ".dataframe > tbody > tr {\n",
       "  text-align: right;\n",
       "  white-space: pre-wrap;\n",
       "}\n",
       "</style>\n",
       "<small>shape: (2_519, 5)</small><table border=\"1\" class=\"dataframe\"><thead><tr><th>date</th><th>symbol</th><th>bottom_price</th><th>recent_price</th><th>top_price</th></tr><tr><td>date</td><td>str</td><td>f64</td><td>f64</td><td>f64</td></tr></thead><tbody><tr><td>2023-02-02</td><td>&quot;AAPL&quot;</td><td>143.3908</td><td>149.587631</td><td>152.2181</td></tr><tr><td>2023-02-03</td><td>&quot;AAPL&quot;</td><td>146.139</td><td>153.237579</td><td>154.5305</td></tr><tr><td>2023-02-06</td><td>&quot;AAPL&quot;</td><td>145.8606</td><td>150.490189</td><td>156.4026</td></tr><tr><td>2023-02-07</td><td>&quot;AAPL&quot;</td><td>147.7807</td><td>153.386353</td><td>156.5727</td></tr><tr><td>2023-02-08</td><td>&quot;AAPL&quot;</td><td>147.7869</td><td>150.67865</td><td>158.0685</td></tr><tr><td>&hellip;</td><td>&hellip;</td><td>&hellip;</td><td>&hellip;</td><td>&hellip;</td></tr><tr><td>2023-12-22</td><td>&quot;TTEK&quot;</td><td>158.1424</td><td>165.538162</td><td>168.7606</td></tr><tr><td>2023-12-26</td><td>&quot;TTEK&quot;</td><td>158.6096</td><td>166.256165</td><td>169.5257</td></tr><tr><td>2023-12-27</td><td>&quot;TTEK&quot;</td><td>158.083</td><td>167.921524</td><td>167.9215</td></tr><tr><td>2023-12-28</td><td>&quot;TTEK&quot;</td><td>162.2589</td><td>167.582458</td><td>172.4386</td></tr><tr><td>2023-12-29</td><td>&quot;TTEK&quot;</td><td>165.6489</td><td>166.465576</td><td>175.2281</td></tr></tbody></table></div>"
      ],
      "text/plain": [
       "shape: (2_519, 5)\n",
       "┌────────────┬────────┬──────────────┬──────────────┬───────────┐\n",
       "│ date       ┆ symbol ┆ bottom_price ┆ recent_price ┆ top_price │\n",
       "│ ---        ┆ ---    ┆ ---          ┆ ---          ┆ ---       │\n",
       "│ date       ┆ str    ┆ f64          ┆ f64          ┆ f64       │\n",
       "╞════════════╪════════╪══════════════╪══════════════╪═══════════╡\n",
       "│ 2023-02-02 ┆ AAPL   ┆ 143.3908     ┆ 149.587631   ┆ 152.2181  │\n",
       "│ 2023-02-03 ┆ AAPL   ┆ 146.139      ┆ 153.237579   ┆ 154.5305  │\n",
       "│ 2023-02-06 ┆ AAPL   ┆ 145.8606     ┆ 150.490189   ┆ 156.4026  │\n",
       "│ 2023-02-07 ┆ AAPL   ┆ 147.7807     ┆ 153.386353   ┆ 156.5727  │\n",
       "│ 2023-02-08 ┆ AAPL   ┆ 147.7869     ┆ 150.67865    ┆ 158.0685  │\n",
       "│ …          ┆ …      ┆ …            ┆ …            ┆ …         │\n",
       "│ 2023-12-22 ┆ TTEK   ┆ 158.1424     ┆ 165.538162   ┆ 168.7606  │\n",
       "│ 2023-12-26 ┆ TTEK   ┆ 158.6096     ┆ 166.256165   ┆ 169.5257  │\n",
       "│ 2023-12-27 ┆ TTEK   ┆ 158.083      ┆ 167.921524   ┆ 167.9215  │\n",
       "│ 2023-12-28 ┆ TTEK   ┆ 162.2589     ┆ 167.582458   ┆ 172.4386  │\n",
       "│ 2023-12-29 ┆ TTEK   ┆ 165.6489     ┆ 166.465576   ┆ 175.2281  │\n",
       "└────────────┴────────┴──────────────┴──────────────┴───────────┘"
      ]
     },
     "execution_count": 7,
     "metadata": {},
     "output_type": "execute_result"
    }
   ],
   "source": [
    "# result_mp.collect()\n",
    "result_cc.collect()"
   ]
  },
  {
   "cell_type": "code",
   "execution_count": null,
   "metadata": {},
   "outputs": [],
   "source": []
  }
 ],
 "metadata": {
  "kernelspec": {
   "display_name": "Python 3",
   "language": "python",
   "name": "python3"
  },
  "language_info": {
   "codemirror_mode": {
    "name": "ipython",
    "version": 3
   },
   "file_extension": ".py",
   "mimetype": "text/x-python",
   "name": "python",
   "nbconvert_exporter": "python",
   "pygments_lexer": "ipython3",
   "version": "3.12.4"
  }
 },
 "nbformat": 4,
 "nbformat_minor": 2
}
