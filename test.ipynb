{
 "cells": [
  {
   "cell_type": "code",
   "execution_count": 1,
   "metadata": {},
   "outputs": [],
   "source": [
    "from openbb import obb"
   ]
  },
  {
   "cell_type": "code",
   "execution_count": 2,
   "metadata": {},
   "outputs": [
    {
     "data": {
      "text/html": [
       "<div><style>\n",
       ".dataframe > thead > tr,\n",
       ".dataframe > tbody > tr {\n",
       "  text-align: right;\n",
       "  white-space: pre-wrap;\n",
       "}\n",
       "</style>\n",
       "<small>shape: (20, 6)</small><table border=\"1\" class=\"dataframe\"><thead><tr><th>date</th><th>open</th><th>high</th><th>low</th><th>close</th><th>volume</th></tr><tr><td>date</td><td>f64</td><td>f64</td><td>f64</td><td>f64</td><td>i64</td></tr></thead><tbody><tr><td>2022-01-03</td><td>177.830002</td><td>182.880005</td><td>177.710007</td><td>182.009995</td><td>104487900</td></tr><tr><td>2022-01-04</td><td>182.630005</td><td>182.940002</td><td>179.119995</td><td>179.699997</td><td>99310400</td></tr><tr><td>2022-01-05</td><td>179.610001</td><td>180.169998</td><td>174.639999</td><td>174.919998</td><td>94537600</td></tr><tr><td>2022-01-06</td><td>172.699997</td><td>175.300003</td><td>171.639999</td><td>172.0</td><td>96904000</td></tr><tr><td>2022-01-07</td><td>172.889999</td><td>174.139999</td><td>171.029999</td><td>172.169998</td><td>86709100</td></tr><tr><td>&hellip;</td><td>&hellip;</td><td>&hellip;</td><td>&hellip;</td><td>&hellip;</td><td>&hellip;</td></tr><tr><td>2022-01-25</td><td>158.979996</td><td>162.759995</td><td>157.020004</td><td>159.779999</td><td>115798400</td></tr><tr><td>2022-01-26</td><td>163.5</td><td>164.389999</td><td>157.820007</td><td>159.690002</td><td>108275300</td></tr><tr><td>2022-01-27</td><td>162.449997</td><td>163.839996</td><td>158.279999</td><td>159.220001</td><td>121954600</td></tr><tr><td>2022-01-28</td><td>165.710007</td><td>170.350006</td><td>162.800003</td><td>170.330002</td><td>179935700</td></tr><tr><td>2022-01-31</td><td>170.160004</td><td>175.0</td><td>169.509995</td><td>174.779999</td><td>115541600</td></tr></tbody></table></div>"
      ],
      "text/plain": [
       "shape: (20, 6)\n",
       "┌────────────┬────────────┬────────────┬────────────┬────────────┬───────────┐\n",
       "│ date       ┆ open       ┆ high       ┆ low        ┆ close      ┆ volume    │\n",
       "│ ---        ┆ ---        ┆ ---        ┆ ---        ┆ ---        ┆ ---       │\n",
       "│ date       ┆ f64        ┆ f64        ┆ f64        ┆ f64        ┆ i64       │\n",
       "╞════════════╪════════════╪════════════╪════════════╪════════════╪═══════════╡\n",
       "│ 2022-01-03 ┆ 177.830002 ┆ 182.880005 ┆ 177.710007 ┆ 182.009995 ┆ 104487900 │\n",
       "│ 2022-01-04 ┆ 182.630005 ┆ 182.940002 ┆ 179.119995 ┆ 179.699997 ┆ 99310400  │\n",
       "│ 2022-01-05 ┆ 179.610001 ┆ 180.169998 ┆ 174.639999 ┆ 174.919998 ┆ 94537600  │\n",
       "│ 2022-01-06 ┆ 172.699997 ┆ 175.300003 ┆ 171.639999 ┆ 172.0      ┆ 96904000  │\n",
       "│ 2022-01-07 ┆ 172.889999 ┆ 174.139999 ┆ 171.029999 ┆ 172.169998 ┆ 86709100  │\n",
       "│ …          ┆ …          ┆ …          ┆ …          ┆ …          ┆ …         │\n",
       "│ 2022-01-25 ┆ 158.979996 ┆ 162.759995 ┆ 157.020004 ┆ 159.779999 ┆ 115798400 │\n",
       "│ 2022-01-26 ┆ 163.5      ┆ 164.389999 ┆ 157.820007 ┆ 159.690002 ┆ 108275300 │\n",
       "│ 2022-01-27 ┆ 162.449997 ┆ 163.839996 ┆ 158.279999 ┆ 159.220001 ┆ 121954600 │\n",
       "│ 2022-01-28 ┆ 165.710007 ┆ 170.350006 ┆ 162.800003 ┆ 170.330002 ┆ 179935700 │\n",
       "│ 2022-01-31 ┆ 170.160004 ┆ 175.0      ┆ 169.509995 ┆ 174.779999 ┆ 115541600 │\n",
       "└────────────┴────────────┴────────────┴────────────┴────────────┴───────────┘"
      ]
     },
     "execution_count": 2,
     "metadata": {},
     "output_type": "execute_result"
    }
   ],
   "source": [
    "df = obb.equity.price.historical(\"AAPL\", start_date=\"2022-01-01\", end_date=\"2022-01-31\")\n",
    "df.to_polars()"
   ]
  },
  {
   "cell_type": "code",
   "execution_count": null,
   "metadata": {},
   "outputs": [],
   "source": []
  }
 ],
 "metadata": {
  "kernelspec": {
   "display_name": ".venv",
   "language": "python",
   "name": "python3"
  },
  "language_info": {
   "codemirror_mode": {
    "name": "ipython",
    "version": 3
   },
   "file_extension": ".py",
   "mimetype": "text/x-python",
   "name": "python",
   "nbconvert_exporter": "python",
   "pygments_lexer": "ipython3",
   "version": "3.12.10"
  }
 },
 "nbformat": 4,
 "nbformat_minor": 2
}
