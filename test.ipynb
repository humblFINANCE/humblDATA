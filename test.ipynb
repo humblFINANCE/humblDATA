{
 "cells": [
  {
   "cell_type": "code",
   "execution_count": 7,
   "metadata": {},
   "outputs": [],
   "source": [
    "from openbb import obb"
   ]
  },
  {
   "cell_type": "code",
   "execution_count": 8,
   "metadata": {},
   "outputs": [
    {
     "ename": "ImportError",
     "evalue": "cannot import name 'EquityInfo' from 'typing' (/Users/jjfantini/.local/share/uv/python/cpython-3.12.10-macos-aarch64-none/lib/python3.12/typing.py)",
     "output_type": "error",
     "traceback": [
      "\u001b[31m---------------------------------------------------------------------------\u001b[39m",
      "\u001b[31mImportError\u001b[39m                               Traceback (most recent call last)",
      "\u001b[36mCell\u001b[39m\u001b[36m \u001b[39m\u001b[32mIn[8]\u001b[39m\u001b[32m, line 1\u001b[39m\n\u001b[32m----> \u001b[39m\u001b[32m1\u001b[39m df = \u001b[43mobb\u001b[49m\u001b[43m.\u001b[49m\u001b[43mequity\u001b[49m.price.historical(\u001b[33m\"\u001b[39m\u001b[33mAAPL\u001b[39m\u001b[33m\"\u001b[39m, start_date=\u001b[33m\"\u001b[39m\u001b[33m2022-01-01\u001b[39m\u001b[33m\"\u001b[39m, end_date=\u001b[33m\"\u001b[39m\u001b[33m2022-01-31\u001b[39m\u001b[33m\"\u001b[39m)\n\u001b[32m      2\u001b[39m df.to_polars()\n",
      "\u001b[36mFile \u001b[39m\u001b[32m~/github/humblFINANCE-org/humblDATA/.venv/lib/python3.12/site-packages/openbb/package/__extensions__.py:113\u001b[39m, in \u001b[36mExtensions.equity\u001b[39m\u001b[34m(self)\u001b[39m\n\u001b[32m    110\u001b[39m \u001b[38;5;129m@property\u001b[39m\n\u001b[32m    111\u001b[39m \u001b[38;5;28;01mdef\u001b[39;00m\u001b[38;5;250m \u001b[39m\u001b[34mequity\u001b[39m(\u001b[38;5;28mself\u001b[39m):\n\u001b[32m    112\u001b[39m     \u001b[38;5;66;03m# pylint: disable=import-outside-toplevel\u001b[39;00m\n\u001b[32m--> \u001b[39m\u001b[32m113\u001b[39m     \u001b[38;5;28;01mfrom\u001b[39;00m\u001b[38;5;250m \u001b[39m\u001b[34;01m.\u001b[39;00m\u001b[38;5;250m \u001b[39m\u001b[38;5;28;01mimport\u001b[39;00m equity\n\u001b[32m    115\u001b[39m     \u001b[38;5;28;01mreturn\u001b[39;00m equity.ROUTER_equity(command_runner=\u001b[38;5;28mself\u001b[39m._command_runner)\n",
      "\u001b[36mFile \u001b[39m\u001b[32m~/github/humblFINANCE-org/humblDATA/.venv/lib/python3.12/site-packages/openbb/package/equity.py:7\u001b[39m\n\u001b[32m      5\u001b[39m \u001b[38;5;28;01mfrom\u001b[39;00m\u001b[38;5;250m \u001b[39m\u001b[34;01mdatetime\u001b[39;00m\u001b[38;5;250m \u001b[39m\u001b[38;5;28;01mimport\u001b[39;00m date\n\u001b[32m      6\u001b[39m \u001b[38;5;28;01mfrom\u001b[39;00m\u001b[38;5;250m \u001b[39m\u001b[34;01minspect\u001b[39;00m\u001b[38;5;250m \u001b[39m\u001b[38;5;28;01mimport\u001b[39;00m Parameter\n\u001b[32m----> \u001b[39m\u001b[32m7\u001b[39m \u001b[38;5;28;01mfrom\u001b[39;00m\u001b[38;5;250m \u001b[39m\u001b[34;01mtyping\u001b[39;00m\u001b[38;5;250m \u001b[39m\u001b[38;5;28;01mimport\u001b[39;00m (\n\u001b[32m      8\u001b[39m     TYPE_CHECKING,\n\u001b[32m      9\u001b[39m     Annotated,\n\u001b[32m     10\u001b[39m     Any,\n\u001b[32m     11\u001b[39m     EquityInfo,\n\u001b[32m     12\u001b[39m     EquityScreener,\n\u001b[32m     13\u001b[39m     EquitySearch,\n\u001b[32m     14\u001b[39m     ForwardRef,\n\u001b[32m     15\u001b[39m     HistoricalMarketCap,\n\u001b[32m     16\u001b[39m     Literal,\n\u001b[32m     17\u001b[39m     MarketSnapshots,\n\u001b[32m     18\u001b[39m     Optional,\n\u001b[32m     19\u001b[39m     Union,\n\u001b[32m     20\u001b[39m )\n\u001b[32m     21\u001b[39m \u001b[38;5;28;01mfrom\u001b[39;00m\u001b[38;5;250m \u001b[39m\u001b[34;01mwarnings\u001b[39;00m\u001b[38;5;250m \u001b[39m\u001b[38;5;28;01mimport\u001b[39;00m simplefilter, warn\n\u001b[32m     23\u001b[39m \u001b[38;5;28;01mimport\u001b[39;00m\u001b[38;5;250m \u001b[39m\u001b[34;01mnumpy\u001b[39;00m\n",
      "\u001b[31mImportError\u001b[39m: cannot import name 'EquityInfo' from 'typing' (/Users/jjfantini/.local/share/uv/python/cpython-3.12.10-macos-aarch64-none/lib/python3.12/typing.py)"
     ]
    }
   ],
   "source": [
    "df = obb.equity.price.historical(\"AAPL\", start_date=\"2022-01-01\", end_date=\"2022-01-31\")\n",
    "df.to_polars()"
   ]
  },
  {
   "cell_type": "code",
   "execution_count": 14,
   "metadata": {},
   "outputs": [
    {
     "data": {
      "text/html": [
       "<div><style>\n",
       ".dataframe > thead > tr,\n",
       ".dataframe > tbody > tr {\n",
       "  text-align: right;\n",
       "  white-space: pre-wrap;\n",
       "}\n",
       "</style>\n",
       "<small>shape: (251, 7)</small><table border=\"1\" class=\"dataframe\"><thead><tr><th>close</th><th>date</th><th>dividend</th><th>high</th><th>low</th><th>open</th><th>volume</th></tr><tr><td>f64</td><td>str</td><td>f64</td><td>f64</td><td>f64</td><td>f64</td><td>i64</td></tr></thead><tbody><tr><td>523.299988</td><td>&quot;2024-05-14&quot;</td><td>0.0</td><td>523.830017</td><td>520.559998</td><td>521.109985</td><td>57535900</td></tr><tr><td>529.780029</td><td>&quot;2024-05-15&quot;</td><td>0.0</td><td>530.080017</td><td>525.179993</td><td>525.830017</td><td>59504900</td></tr><tr><td>528.690002</td><td>&quot;2024-05-16&quot;</td><td>0.0</td><td>531.52002</td><td>528.539978</td><td>529.880005</td><td>50244800</td></tr><tr><td>529.450012</td><td>&quot;2024-05-17&quot;</td><td>0.0</td><td>529.52002</td><td>527.320007</td><td>528.809998</td><td>59187600</td></tr><tr><td>530.059998</td><td>&quot;2024-05-20&quot;</td><td>0.0</td><td>531.559998</td><td>529.169983</td><td>529.570007</td><td>37764200</td></tr><tr><td>&hellip;</td><td>&hellip;</td><td>&hellip;</td><td>&hellip;</td><td>&hellip;</td><td>&hellip;</td><td>&hellip;</td></tr><tr><td>565.059998</td><td>&quot;2025-05-08&quot;</td><td>0.0</td><td>570.309998</td><td>561.700012</td><td>565.23999</td><td>65130800</td></tr><tr><td>564.340027</td><td>&quot;2025-05-09&quot;</td><td>0.0</td><td>567.5</td><td>562.76001</td><td>566.47998</td><td>37603400</td></tr><tr><td>582.98999</td><td>&quot;2025-05-12&quot;</td><td>0.0</td><td>583.0</td><td>577.039978</td><td>581.469971</td><td>78993600</td></tr><tr><td>586.840027</td><td>&quot;2025-05-13&quot;</td><td>0.0</td><td>589.080017</td><td>582.840027</td><td>583.409973</td><td>67947200</td></tr><tr><td>587.590027</td><td>&quot;2025-05-14&quot;</td><td>0.0</td><td>588.974976</td><td>585.534973</td><td>587.809998</td><td>64094192</td></tr></tbody></table></div>"
      ],
      "text/plain": [
       "shape: (251, 7)\n",
       "┌────────────┬────────────┬──────────┬────────────┬────────────┬────────────┬──────────┐\n",
       "│ close      ┆ date       ┆ dividend ┆ high       ┆ low        ┆ open       ┆ volume   │\n",
       "│ ---        ┆ ---        ┆ ---      ┆ ---        ┆ ---        ┆ ---        ┆ ---      │\n",
       "│ f64        ┆ str        ┆ f64      ┆ f64        ┆ f64        ┆ f64        ┆ i64      │\n",
       "╞════════════╪════════════╪══════════╪════════════╪════════════╪════════════╪══════════╡\n",
       "│ 523.299988 ┆ 2024-05-14 ┆ 0.0      ┆ 523.830017 ┆ 520.559998 ┆ 521.109985 ┆ 57535900 │\n",
       "│ 529.780029 ┆ 2024-05-15 ┆ 0.0      ┆ 530.080017 ┆ 525.179993 ┆ 525.830017 ┆ 59504900 │\n",
       "│ 528.690002 ┆ 2024-05-16 ┆ 0.0      ┆ 531.52002  ┆ 528.539978 ┆ 529.880005 ┆ 50244800 │\n",
       "│ 529.450012 ┆ 2024-05-17 ┆ 0.0      ┆ 529.52002  ┆ 527.320007 ┆ 528.809998 ┆ 59187600 │\n",
       "│ 530.059998 ┆ 2024-05-20 ┆ 0.0      ┆ 531.559998 ┆ 529.169983 ┆ 529.570007 ┆ 37764200 │\n",
       "│ …          ┆ …          ┆ …        ┆ …          ┆ …          ┆ …          ┆ …        │\n",
       "│ 565.059998 ┆ 2025-05-08 ┆ 0.0      ┆ 570.309998 ┆ 561.700012 ┆ 565.23999  ┆ 65130800 │\n",
       "│ 564.340027 ┆ 2025-05-09 ┆ 0.0      ┆ 567.5      ┆ 562.76001  ┆ 566.47998  ┆ 37603400 │\n",
       "│ 582.98999  ┆ 2025-05-12 ┆ 0.0      ┆ 583.0      ┆ 577.039978 ┆ 581.469971 ┆ 78993600 │\n",
       "│ 586.840027 ┆ 2025-05-13 ┆ 0.0      ┆ 589.080017 ┆ 582.840027 ┆ 583.409973 ┆ 67947200 │\n",
       "│ 587.590027 ┆ 2025-05-14 ┆ 0.0      ┆ 588.974976 ┆ 585.534973 ┆ 587.809998 ┆ 64094192 │\n",
       "└────────────┴────────────┴──────────┴────────────┴────────────┴────────────┴──────────┘"
      ]
     },
     "execution_count": 14,
     "metadata": {},
     "output_type": "execute_result"
    }
   ],
   "source": [
    "import requests\n",
    "from openbb_core.app.model.obbject import OBBject\n",
    "\n",
    "data = []\n",
    "symbol=\"SPY\"\n",
    "url = f\"http://data.humblfinance.io/api/v1/equity/price/historical?provider=yfinance&symbol={symbol}\"\n",
    "headers = {\"accept\": \"application/json\"}\n",
    "\n",
    "response = requests.get(url, headers=headers, timeout=3)\n",
    "\n",
    "if response.status_code == 200:\n",
    "  data = OBBject.model_validate(response.json())\n",
    "\n",
    "data.to_polars()"
   ]
  },
  {
   "cell_type": "code",
   "execution_count": null,
   "metadata": {},
   "outputs": [],
   "source": []
  }
 ],
 "metadata": {
  "kernelspec": {
   "display_name": ".venv",
   "language": "python",
   "name": "python3"
  },
  "language_info": {
   "codemirror_mode": {
    "name": "ipython",
    "version": 3
   },
   "file_extension": ".py",
   "mimetype": "text/x-python",
   "name": "python",
   "nbconvert_exporter": "python",
   "pygments_lexer": "ipython3",
   "version": "3.12.10"
  }
 },
 "nbformat": 4,
 "nbformat_minor": 2
}
