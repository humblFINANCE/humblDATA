{
 "cells": [
  {
   "cell_type": "code",
   "execution_count": 1,
   "metadata": {},
   "outputs": [
    {
     "name": "stdout",
     "output_type": "stream",
     "text": [
      "Extensions to add: yfinance@1.4.4\n",
      "Extensions to remove: yfinance@1.4.3\n",
      "\n",
      "Building...\n"
     ]
    },
    {
     "ename": "ImportError",
     "evalue": "cannot import name 'EquityInfo' from 'typing' (/Users/jjfantini/.local/share/uv/python/cpython-3.12.10-macos-aarch64-none/lib/python3.12/typing.py)",
     "output_type": "error",
     "traceback": [
      "\u001b[31m---------------------------------------------------------------------------\u001b[39m",
      "\u001b[31mImportError\u001b[39m                               Traceback (most recent call last)",
      "\u001b[36mCell\u001b[39m\u001b[36m \u001b[39m\u001b[32mIn[1]\u001b[39m\u001b[32m, line 3\u001b[39m\n\u001b[32m      1\u001b[39m \u001b[38;5;28;01mfrom\u001b[39;00m\u001b[38;5;250m \u001b[39m\u001b[34;01mopenbb\u001b[39;00m\u001b[38;5;250m \u001b[39m\u001b[38;5;28;01mimport\u001b[39;00m obb\n\u001b[32m----> \u001b[39m\u001b[32m3\u001b[39m \u001b[43mobb\u001b[49m\u001b[43m.\u001b[49m\u001b[43mequity\u001b[49m.price.historical(\u001b[33m\"\u001b[39m\u001b[33mAAPL\u001b[39m\u001b[33m\"\u001b[39m, start_date=\u001b[33m\"\u001b[39m\u001b[33m2020-01-01\u001b[39m\u001b[33m\"\u001b[39m, end_date=\u001b[33m\"\u001b[39m\u001b[33m2020-01-31\u001b[39m\u001b[33m\"\u001b[39m)\n",
      "\u001b[36mFile \u001b[39m\u001b[32m~/github/humblFINANCE-org/humblDATA/.venv/lib/python3.12/site-packages/openbb/package/__extensions__.py:127\u001b[39m, in \u001b[36mExtensions.equity\u001b[39m\u001b[34m(self)\u001b[39m\n\u001b[32m    124\u001b[39m \u001b[38;5;129m@property\u001b[39m\n\u001b[32m    125\u001b[39m \u001b[38;5;28;01mdef\u001b[39;00m\u001b[38;5;250m \u001b[39m\u001b[34mequity\u001b[39m(\u001b[38;5;28mself\u001b[39m):\n\u001b[32m    126\u001b[39m     \u001b[38;5;66;03m# pylint: disable=import-outside-toplevel\u001b[39;00m\n\u001b[32m--> \u001b[39m\u001b[32m127\u001b[39m     \u001b[38;5;28;01mfrom\u001b[39;00m\u001b[38;5;250m \u001b[39m\u001b[34;01m.\u001b[39;00m\u001b[38;5;250m \u001b[39m\u001b[38;5;28;01mimport\u001b[39;00m equity\n\u001b[32m    129\u001b[39m     \u001b[38;5;28;01mreturn\u001b[39;00m equity.ROUTER_equity(command_runner=\u001b[38;5;28mself\u001b[39m._command_runner)\n",
      "\u001b[36mFile \u001b[39m\u001b[32m~/github/humblFINANCE-org/humblDATA/.venv/lib/python3.12/site-packages/openbb/package/equity.py:7\u001b[39m\n\u001b[32m      5\u001b[39m \u001b[38;5;28;01mfrom\u001b[39;00m\u001b[38;5;250m \u001b[39m\u001b[34;01mdatetime\u001b[39;00m\u001b[38;5;250m \u001b[39m\u001b[38;5;28;01mimport\u001b[39;00m date\n\u001b[32m      6\u001b[39m \u001b[38;5;28;01mfrom\u001b[39;00m\u001b[38;5;250m \u001b[39m\u001b[34;01minspect\u001b[39;00m\u001b[38;5;250m \u001b[39m\u001b[38;5;28;01mimport\u001b[39;00m Parameter\n\u001b[32m----> \u001b[39m\u001b[32m7\u001b[39m \u001b[38;5;28;01mfrom\u001b[39;00m\u001b[38;5;250m \u001b[39m\u001b[34;01mtyping\u001b[39;00m\u001b[38;5;250m \u001b[39m\u001b[38;5;28;01mimport\u001b[39;00m (\n\u001b[32m      8\u001b[39m     TYPE_CHECKING,\n\u001b[32m      9\u001b[39m     Annotated,\n\u001b[32m     10\u001b[39m     Any,\n\u001b[32m     11\u001b[39m     EquityInfo,\n\u001b[32m     12\u001b[39m     EquityScreener,\n\u001b[32m     13\u001b[39m     EquitySearch,\n\u001b[32m     14\u001b[39m     ForwardRef,\n\u001b[32m     15\u001b[39m     HistoricalMarketCap,\n\u001b[32m     16\u001b[39m     Literal,\n\u001b[32m     17\u001b[39m     MarketSnapshots,\n\u001b[32m     18\u001b[39m     Optional,\n\u001b[32m     19\u001b[39m     Union,\n\u001b[32m     20\u001b[39m )\n\u001b[32m     21\u001b[39m \u001b[38;5;28;01mfrom\u001b[39;00m\u001b[38;5;250m \u001b[39m\u001b[34;01mwarnings\u001b[39;00m\u001b[38;5;250m \u001b[39m\u001b[38;5;28;01mimport\u001b[39;00m simplefilter, warn\n\u001b[32m     23\u001b[39m \u001b[38;5;28;01mimport\u001b[39;00m\u001b[38;5;250m \u001b[39m\u001b[34;01mnumpy\u001b[39;00m\n",
      "\u001b[31mImportError\u001b[39m: cannot import name 'EquityInfo' from 'typing' (/Users/jjfantini/.local/share/uv/python/cpython-3.12.10-macos-aarch64-none/lib/python3.12/typing.py)"
     ]
    }
   ],
   "source": [
    "from openbb import obb\n",
    "\n",
    "obb.equity.price.historical(\"AAPL\", start_date=\"2020-01-01\", end_date=\"2020-01-31\")"
   ]
  }
 ],
 "metadata": {
  "kernelspec": {
   "display_name": ".venv",
   "language": "python",
   "name": "python3"
  },
  "language_info": {
   "codemirror_mode": {
    "name": "ipython",
    "version": 3
   },
   "file_extension": ".py",
   "mimetype": "text/x-python",
   "name": "python",
   "nbconvert_exporter": "python",
   "pygments_lexer": "ipython3",
   "version": "3.12.10"
  }
 },
 "nbformat": 4,
 "nbformat_minor": 2
}
