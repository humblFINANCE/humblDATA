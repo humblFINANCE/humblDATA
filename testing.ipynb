{
 "cells": [
  {
   "cell_type": "code",
   "execution_count": 1,
   "metadata": {},
   "outputs": [],
   "source": [
    "import asyncio\n",
    "\n",
    "import polars as pl\n",
    "\n",
    "from humbldata.core.standard_models.abstract.query_params import (\n",
    "    QueryParams,  # Base for command_params\n",
    ")\n",
    "from humbldata.core.standard_models.toolbox import (\n",
    "    ToolboxQueryParams,  # General context params\n",
    ")\n",
    "# Core imports (adjust paths if running from a different location)\n",
    "from humbldata.core.utils.env import Env\n",
    "from humbldata.core.utils.openbb_api_client import OpenBBAPIClient\n",
    "\n"
   ]
  },
  {
   "cell_type": "code",
   "execution_count": 2,
   "metadata": {},
   "outputs": [],
   "source": [
    "    from typing import Optional, Literal\n",
    "    from pydantic import BaseModel, Field\n",
    "\n",
    "    class EquityPriceHistoricalQueryParams(BaseModel):\n",
    "        symbol: str | list[str]\n",
    "        start_date: Optional[str] = None\n",
    "        end_date: Optional[str] = None\n",
    "        interval: Optional[str] = Field(default='1d')\n",
    "        # ... other fields as defined before, matching your API\n",
    "        provider: Optional[str] = Field(default=\"yfinance\") # Ensure this matches your API\n",
    "        chart: Optional[bool] = Field(default=False)\n",
    "        # Add all relevant fields from your example API call\n",
    "        adjustment: Optional[Literal['splits_only', 'dividends_only', 'all']] = Field(default='splits_only')\n",
    "        extended_hours: Optional[bool] = Field(default=False)\n",
    "        use_cache: Optional[bool] = Field(default=True)\n",
    "        timezone: Optional[str] = Field(default=\"America/New_York\")\n",
    "        source: Optional[str] = Field(default=\"realtime\")\n",
    "        sort: Optional[Literal['asc', 'desc']] = Field(default='asc')\n",
    "        limit: Optional[int] = Field(default=49999)\n",
    "        include_actions: Optional[bool] = Field(default=True)"
   ]
  },
  {
   "cell_type": "code",
   "execution_count": 3,
   "metadata": {},
   "outputs": [],
   "source": [
    "\n",
    "\n",
    "# A dummy CommandParams class for this example, mirroring a real command's QueryParams\n",
    "class ExampleCommandParams(QueryParams):\n",
    "    symbol: str\n",
    "    start_date: str\n",
    "    end_date: str\n",
    "    # other fields specific to a command that might use this API call\n"
   ]
  },
  {
   "cell_type": "code",
   "execution_count": 4,
   "metadata": {},
   "outputs": [
    {
     "name": "stderr",
     "output_type": "stream",
     "text": [
      "\u001b[1;35mWARNING:\u001b[0m \u001b[36mToolboxQueryParams\u001b[0m || \u001b[1;33mStart date adjusted to 2024-05-14 based on anonymous membership (1Y of data).\u001b[0m\n",
      "\u001b[1;35mINFO:\u001b[0m \u001b[36mOpenBBAPIClient\u001b[0m || \u001b[32mSTART: fetch_data (async)\u001b[0m\n",
      "\u001b[1;35mINFO:\u001b[0m \u001b[36mOpenBBAPIClient\u001b[0m || \u001b[32mPrepared request for: http://127.0.0.1:6900/api/v1/equity/price/historical?symbol=AAPL&start_date=2023-01-01&end_date=2023-01-10&interval=1d&provider=yfinance&chart=false&adjustment=splits_only&extended_hours=false&use_cache=true&timezone=America/New_York&source=realtime&sort=asc&limit=49999&include_actions=true\u001b[0m\n",
      "\u001b[1;35mINFO:\u001b[0m \u001b[36mOpenBBAPIClient\u001b[0m || \u001b[32mFetching data from: http://127.0.0.1:6900/api/v1/equity/price/historical?symbol=AAPL&start_date=2023-01-01&end_date=2023-01-10&interval=1d&provider=yfinance&chart=false&adjustment=splits_only&extended_hours=false&use_cache=true&timezone=America/New_York&source=realtime&sort=asc&limit=49999&include_actions=true\u001b[0m\n"
     ]
    },
    {
     "name": "stdout",
     "output_type": "stream",
     "text": [
      "Running in environment: development\n",
      "API Base URL: http://127.0.0.1:6900/api/v1\n",
      "Fetching data for ['AAPL']...\n"
     ]
    },
    {
     "name": "stderr",
     "output_type": "stream",
     "text": [
      "/Users/jjfantini/github/humblFINANCE-org/humblDATA/src/humbldata/core/utils/openbb_api_client.py:310: PerformanceWarning: Resolving the schema of a LazyFrame is a potentially expensive operation. Use `LazyFrame.collect_schema()` to get the schema without this warning.\n",
      "  if \"date\" in results_lf.schema:\n",
      "/Users/jjfantini/github/humblFINANCE-org/humblDATA/src/humbldata/core/utils/openbb_api_client.py:311: PerformanceWarning: Resolving the schema of a LazyFrame is a potentially expensive operation. Use `LazyFrame.collect_schema()` to get the schema without this warning.\n",
      "  dtype = results_lf.schema[\"date\"]\n",
      "\u001b[1;35mINFO:\u001b[0m \u001b[36mOpenBBAPIClient\u001b[0m || \u001b[32mEND: fetch_data (async) - Total time: 1.3636s\u001b[0m\n"
     ]
    }
   ],
   "source": [
    "import nest_asyncio\n",
    "nest_asyncio.apply()\n",
    "\n",
    "async def main():\n",
    "    # 1. Initialize Environment\n",
    "    env = Env()\n",
    "    print(f\"Running in environment: {env.ENVIRONMENT}\")\n",
    "    base_url_to_check = await OpenBBAPIClient()._get_base_url() # For checking\n",
    "    print(f\"API Base URL: {base_url_to_check}\")\n",
    "\n",
    "\n",
    "    # 2. Initialize OpenBBAPIClient\n",
    "    api_client = OpenBBAPIClient()\n",
    "\n",
    "    # 3. Prepare Context and Command Parameters for HumblObject\n",
    "    # These would normally come from your application's context/command structure\n",
    "    context_params = ToolboxQueryParams(\n",
    "        symbols=[\"AAPL\"],\n",
    "        provider=\"yfinance\", # Indicate the source\n",
    "        # ... other context fields if necessary\n",
    "    )\n",
    "\n",
    "    # These are the parameters specific to the command that initiated this data request.\n",
    "    # For example, if HumblCompassBacktest was calling this, these would be its params.\n",
    "    # Here, we create a simple version.\n",
    "    example_command_params = ExampleCommandParams(\n",
    "        symbol=\"AAPL\",\n",
    "        start_date=\"2023-01-01\",\n",
    "        end_date=\"2023-01-10\"\n",
    "    )\n",
    "\n",
    "\n",
    "    # 4. Prepare API-specific query parameters\n",
    "    # These parameters are specific to the '/equity/price/historical' API endpoint\n",
    "    equity_historical_api_params = EquityPriceHistoricalQueryParams(\n",
    "        symbol=context_params.symbols,\n",
    "        start_date=example_command_params.start_date,\n",
    "        end_date=example_command_params.end_date,\n",
    "        provider=context_params.provider # Assuming your API uses a provider param\n",
    "    )\n",
    "\n",
    "    # 5. Fetch data\n",
    "    print(f\"Fetching data for {equity_historical_api_params.symbol}...\")\n",
    "    humbl_object_response = await api_client.fetch_data(\n",
    "            obb_path=\"equity.price.historical\", # OpenBB-like path\n",
    "            api_query_params=equity_historical_api_params, # API specific params\n",
    "        )\n",
    "    return humbl_object_response\n",
    "\n",
    "\n",
    "if __name__ == \"__main__\":\n",
    "    result = asyncio.run(main())\n",
    "    result\n"
   ]
  },
  {
   "cell_type": "code",
   "execution_count": 5,
   "metadata": {},
   "outputs": [
    {
     "data": {
      "text/plain": [
       "HumblObject\n",
       "\n",
       "id: 06825667-7b3c-7686-8000-2988b8940a1f\n",
       "results: b'DSL_VERSION\\x01\\x00\\x00\\x00\\x81\\xa6HStack\\x83\\xa5input\\x81\\xa2IR\\x82\\xa3...\n",
       "equity_data: None\n",
       "provider: yfinance\n",
       "warnings: [{'category': 'HumblDataWarning', 'message': 'Start date adjusted to 2024...\n",
       "chart: None\n",
       "extra: {'metadata': {'arguments': {'provider_choices': {'provider': 'yfinance'}, 's...\n",
       "context_params: None\n",
       "command_params: None"
      ]
     },
     "execution_count": 5,
     "metadata": {},
     "output_type": "execute_result"
    }
   ],
   "source": [
    "result\n"
   ]
  },
  {
   "cell_type": "code",
   "execution_count": 6,
   "metadata": {},
   "outputs": [
    {
     "data": {
      "text/html": [
       "<div><style>\n",
       ".dataframe > thead > tr,\n",
       ".dataframe > tbody > tr {\n",
       "  text-align: right;\n",
       "  white-space: pre-wrap;\n",
       "}\n",
       "</style>\n",
       "<small>shape: (6, 6)</small><table border=\"1\" class=\"dataframe\"><thead><tr><th>date</th><th>open</th><th>high</th><th>low</th><th>close</th><th>volume</th></tr><tr><td>date</td><td>f64</td><td>f64</td><td>f64</td><td>f64</td><td>i64</td></tr></thead><tbody><tr><td>2023-01-03</td><td>130.279999</td><td>130.899994</td><td>124.169998</td><td>125.07</td><td>112117500</td></tr><tr><td>2023-01-04</td><td>126.889999</td><td>128.660004</td><td>125.080002</td><td>126.360001</td><td>89113600</td></tr><tr><td>2023-01-05</td><td>127.129997</td><td>127.769997</td><td>124.760002</td><td>125.019997</td><td>80962700</td></tr><tr><td>2023-01-06</td><td>126.010002</td><td>130.289993</td><td>124.889999</td><td>129.619995</td><td>87754700</td></tr><tr><td>2023-01-09</td><td>130.470001</td><td>133.410004</td><td>129.889999</td><td>130.149994</td><td>70790800</td></tr><tr><td>2023-01-10</td><td>130.259995</td><td>131.259995</td><td>128.119995</td><td>130.729996</td><td>63896200</td></tr></tbody></table></div>"
      ],
      "text/plain": [
       "shape: (6, 6)\n",
       "┌────────────┬────────────┬────────────┬────────────┬────────────┬───────────┐\n",
       "│ date       ┆ open       ┆ high       ┆ low        ┆ close      ┆ volume    │\n",
       "│ ---        ┆ ---        ┆ ---        ┆ ---        ┆ ---        ┆ ---       │\n",
       "│ date       ┆ f64        ┆ f64        ┆ f64        ┆ f64        ┆ i64       │\n",
       "╞════════════╪════════════╪════════════╪════════════╪════════════╪═══════════╡\n",
       "│ 2023-01-03 ┆ 130.279999 ┆ 130.899994 ┆ 124.169998 ┆ 125.07     ┆ 112117500 │\n",
       "│ 2023-01-04 ┆ 126.889999 ┆ 128.660004 ┆ 125.080002 ┆ 126.360001 ┆ 89113600  │\n",
       "│ 2023-01-05 ┆ 127.129997 ┆ 127.769997 ┆ 124.760002 ┆ 125.019997 ┆ 80962700  │\n",
       "│ 2023-01-06 ┆ 126.010002 ┆ 130.289993 ┆ 124.889999 ┆ 129.619995 ┆ 87754700  │\n",
       "│ 2023-01-09 ┆ 130.470001 ┆ 133.410004 ┆ 129.889999 ┆ 130.149994 ┆ 70790800  │\n",
       "│ 2023-01-10 ┆ 130.259995 ┆ 131.259995 ┆ 128.119995 ┆ 130.729996 ┆ 63896200  │\n",
       "└────────────┴────────────┴────────────┴────────────┴────────────┴───────────┘"
      ]
     },
     "execution_count": 6,
     "metadata": {},
     "output_type": "execute_result"
    }
   ],
   "source": [
    "result.to_polars()"
   ]
  },
  {
   "cell_type": "code",
   "execution_count": null,
   "metadata": {},
   "outputs": [],
   "source": []
  }
 ],
 "metadata": {
  "kernelspec": {
   "display_name": ".venv",
   "language": "python",
   "name": "python3"
  },
  "language_info": {
   "codemirror_mode": {
    "name": "ipython",
    "version": 3
   },
   "file_extension": ".py",
   "mimetype": "text/x-python",
   "name": "python",
   "nbconvert_exporter": "python",
   "pygments_lexer": "ipython3",
   "version": "3.12.10"
  }
 },
 "nbformat": 4,
 "nbformat_minor": 2
}
